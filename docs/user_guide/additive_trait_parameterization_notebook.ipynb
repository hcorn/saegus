{
 "cells": [
  {
   "cell_type": "code",
   "execution_count": 1,
   "metadata": {
    "collapsed": true
   },
   "outputs": [],
   "source": [
    "import simuOpt"
   ]
  },
  {
   "cell_type": "code",
   "execution_count": 2,
   "metadata": {
    "collapsed": true
   },
   "outputs": [],
   "source": [
    "simuOpt.setOptions(alleleType='short', quiet=True, numThreads=4)"
   ]
  },
  {
   "cell_type": "code",
   "execution_count": 3,
   "metadata": {
    "collapsed": true
   },
   "outputs": [],
   "source": [
    "import simuPOP as sim\n",
    "import numpy as np\n",
    "import pandas as pd\n",
    "import random\n",
    "from saegus import parameters, operators\n",
    "np.set_printoptions(suppress=True, precision=3)"
   ]
  },
  {
   "cell_type": "code",
   "execution_count": 4,
   "metadata": {
    "collapsed": true
   },
   "outputs": [],
   "source": [
    "example_pop = sim.loadPopulation('example_pop.pop')"
   ]
  },
  {
   "cell_type": "code",
   "execution_count": 5,
   "metadata": {},
   "outputs": [
    {
     "data": {
      "text/plain": [
       "()"
      ]
     },
     "execution_count": 5,
     "metadata": {},
     "output_type": "execute_result"
    }
   ],
   "source": [
    "example_pop.infoFields()"
   ]
  },
  {
   "cell_type": "code",
   "execution_count": 6,
   "metadata": {
    "collapsed": true
   },
   "outputs": [],
   "source": [
    "example_pop.addInfoFields(['ind_id', 'g', 'p'])"
   ]
  },
  {
   "cell_type": "code",
   "execution_count": 7,
   "metadata": {},
   "outputs": [
    {
     "data": {
      "text/plain": [
       "('ind_id', 'g', 'p')"
      ]
     },
     "execution_count": 7,
     "metadata": {},
     "output_type": "execute_result"
    }
   ],
   "source": [
    "example_pop.infoFields()"
   ]
  },
  {
   "cell_type": "code",
   "execution_count": 9,
   "metadata": {},
   "outputs": [
    {
     "name": "stdout",
     "output_type": "stream",
     "text": [
      "[ 0.  0.  0.  0.  0.  0.  0.  0.  0.  0.  0.  0.  0.  0.  0.  0.  0.  0.\n",
      "  0.  0.  0.  0.  0.  0.  0.  0.  0.  0.  0.  0.  0.  0.  0.  0.  0.  0.\n",
      "  0.  0.  0.  0.  0.  0.  0.  0.  0.  0.  0.  0.  0.  0.  0.  0.  0.  0.\n",
      "  0.  0.  0.  0.  0.  0.  0.  0.  0.  0.  0.  0.  0.  0.  0.  0.  0.  0.\n",
      "  0.  0.  0.  0.  0.  0.  0.  0.  0.  0.  0.  0.  0.  0.  0.  0.  0.  0.\n",
      "  0.  0.  0.  0.  0.  0.  0.  0.  0.  0.  0.  0.  0.  0.  0.]\n"
     ]
    }
   ],
   "source": [
    "print(np.array(example_pop.indInfo('ind_id')))"
   ]
  },
  {
   "cell_type": "code",
   "execution_count": 10,
   "metadata": {
    "collapsed": true
   },
   "outputs": [],
   "source": [
    "sim.tagID(example_pop)"
   ]
  },
  {
   "cell_type": "code",
   "execution_count": 11,
   "metadata": {},
   "outputs": [
    {
     "name": "stdout",
     "output_type": "stream",
     "text": [
      "[   1.    2.    3.    4.    5.    6.    7.    8.    9.   10.   11.   12.\n",
      "   13.   14.   15.   16.   17.   18.   19.   20.   21.   22.   23.   24.\n",
      "   25.   26.   27.   28.   29.   30.   31.   32.   33.   34.   35.   36.\n",
      "   37.   38.   39.   40.   41.   42.   43.   44.   45.   46.   47.   48.\n",
      "   49.   50.   51.   52.   53.   54.   55.   56.   57.   58.   59.   60.\n",
      "   61.   62.   63.   64.   65.   66.   67.   68.   69.   70.   71.   72.\n",
      "   73.   74.   75.   76.   77.   78.   79.   80.   81.   82.   83.   84.\n",
      "   85.   86.   87.   88.   89.   90.   91.   92.   93.   94.   95.   96.\n",
      "   97.   98.   99.  100.  101.  102.  103.  104.  105.]\n"
     ]
    }
   ],
   "source": [
    "print(np.array(example_pop.indInfo('ind_id')))"
   ]
  },
  {
   "cell_type": "code",
   "execution_count": 12,
   "metadata": {
    "collapsed": true
   },
   "outputs": [],
   "source": [
    "ind_ids = np.array(example_pop.indInfo('ind_id'))"
   ]
  },
  {
   "cell_type": "code",
   "execution_count": 13,
   "metadata": {
    "collapsed": true
   },
   "outputs": [],
   "source": [
    "sim.stat(example_pop, alleleFreq=sim.ALL_AVAIL)"
   ]
  },
  {
   "cell_type": "code",
   "execution_count": 14,
   "metadata": {
    "collapsed": true
   },
   "outputs": [],
   "source": [
    "sim.stat(example_pop, numOfSegSites=sim.ALL_AVAIL, \n",
    "         vars=['numOfSegSites', 'segSites', 'fixedSites'])"
   ]
  },
  {
   "cell_type": "code",
   "execution_count": 15,
   "metadata": {
    "collapsed": true
   },
   "outputs": [],
   "source": [
    "segregating_loci = example_pop.dvars().segSites"
   ]
  },
  {
   "cell_type": "code",
   "execution_count": 16,
   "metadata": {},
   "outputs": [
    {
     "data": {
      "text/plain": [
       "42837"
      ]
     },
     "execution_count": 16,
     "metadata": {},
     "output_type": "execute_result"
    }
   ],
   "source": [
    "example_pop.dvars().numOfSegSites"
   ]
  },
  {
   "cell_type": "code",
   "execution_count": 17,
   "metadata": {},
   "outputs": [
    {
     "name": "stdout",
     "output_type": "stream",
     "text": [
      "[0, 1040, 2072, 3098, 4124, 5156, 6199, 7217, 8248, 9282, 10338, 11361, 12392, 13407, 14468, 15502, 16562, 17599, 18637, 19665, 20700, 21766, 22805, 23813, 24837, 25882, 26910, 27923, 28955, 30026, 31057, 32103, 33142, 34173, 35185, 36207, 37223, 38243, 39351, 40419, 41477, 42537, 43578]\n"
     ]
    }
   ],
   "source": [
    "print(segregating_loci[::1000])"
   ]
  },
  {
   "cell_type": "code",
   "execution_count": 18,
   "metadata": {
    "collapsed": true
   },
   "outputs": [],
   "source": [
    "qtl = sorted(random.sample(segregating_loci, 20))"
   ]
  },
  {
   "cell_type": "code",
   "execution_count": 19,
   "metadata": {},
   "outputs": [
    {
     "data": {
      "text/plain": [
       "[248,\n",
       " 2609,\n",
       " 4351,\n",
       " 5444,\n",
       " 5467,\n",
       " 7902,\n",
       " 8008,\n",
       " 8951,\n",
       " 10983,\n",
       " 17571,\n",
       " 17573,\n",
       " 24130,\n",
       " 25900,\n",
       " 26640,\n",
       " 30553,\n",
       " 36841,\n",
       " 38387,\n",
       " 40501,\n",
       " 42632,\n",
       " 44217]"
      ]
     },
     "execution_count": 19,
     "metadata": {},
     "output_type": "execute_result"
    }
   ],
   "source": [
    "qtl"
   ]
  },
  {
   "cell_type": "code",
   "execution_count": 20,
   "metadata": {
    "collapsed": true
   },
   "outputs": [],
   "source": [
    "trait = parameters.Trait()"
   ]
  },
  {
   "cell_type": "code",
   "execution_count": 21,
   "metadata": {
    "collapsed": true
   },
   "outputs": [],
   "source": [
    "ae_table = trait.construct_allele_effects_table(example_pop, qtl, random.expovariate, 1)"
   ]
  },
  {
   "cell_type": "code",
   "execution_count": 23,
   "metadata": {},
   "outputs": [
    {
     "name": "stdout",
     "output_type": "stream",
     "text": [
      "[[   248.         2.         1.293      3.         2.876]\n",
      " [  2609.         1.         0.578      3.         1.497]\n",
      " [  4351.         1.         0.326      3.         0.024]\n",
      " [  5444.         1.         2.481      3.         0.247]\n",
      " [  5467.         2.         0.148      3.         1.209]\n",
      " [  7902.         1.         0.649      3.         0.868]\n",
      " [  8008.         1.         0.346      3.         0.341]\n",
      " [  8951.         1.         3.         3.         2.026]\n",
      " [ 10983.         1.         0.072      3.         1.709]\n",
      " [ 17571.         1.         0.586      3.         0.804]\n",
      " [ 17573.         1.         5.986      3.         1.062]\n",
      " [ 24130.         1.         1.623      2.         0.244]\n",
      " [ 25900.         1.         0.029      3.         0.074]\n",
      " [ 26640.         1.         1.266      3.         3.342]\n",
      " [ 30553.         1.         0.616      3.         0.278]\n",
      " [ 36841.         1.         0.14       3.         1.247]\n",
      " [ 38387.         1.         0.882      3.         0.669]\n",
      " [ 40501.         1.         2.083      3.         1.123]\n",
      " [ 42632.         1.         0.527      3.         0.029]\n",
      " [ 44217.         1.         0.703      2.         0.337]]\n"
     ]
    }
   ],
   "source": [
    "print(ae_table[qtl])"
   ]
  },
  {
   "cell_type": "code",
   "execution_count": null,
   "metadata": {},
   "outputs": [],
   "source": [
    "print(ae_table)"
   ]
  },
  {
   "cell_type": "code",
   "execution_count": 24,
   "metadata": {
    "collapsed": true
   },
   "outputs": [],
   "source": [
    "ae_array = trait.construct_ae_array(ae_table, qtl)"
   ]
  },
  {
   "cell_type": "code",
   "execution_count": 25,
   "metadata": {},
   "outputs": [
    {
     "name": "stdout",
     "output_type": "stream",
     "text": [
      "[[ 0.     0.     1.293  2.876  0.   ]\n",
      " [ 0.     0.578  0.     1.497  0.   ]\n",
      " [ 0.     0.326  0.     0.024  0.   ]\n",
      " [ 0.     2.481  0.     0.247  0.   ]\n",
      " [ 0.     0.     0.148  1.209  0.   ]\n",
      " [ 0.     0.649  0.     0.868  0.   ]\n",
      " [ 0.     0.346  0.     0.341  0.   ]\n",
      " [ 0.     3.     0.     2.026  0.   ]\n",
      " [ 0.     0.072  0.     1.709  0.   ]\n",
      " [ 0.     0.586  0.     0.804  0.   ]\n",
      " [ 0.     5.986  0.     1.062  0.   ]\n",
      " [ 0.     1.623  0.244  0.     0.   ]\n",
      " [ 0.     0.029  0.     0.074  0.   ]\n",
      " [ 0.     1.266  0.     3.342  0.   ]\n",
      " [ 0.     0.616  0.     0.278  0.   ]\n",
      " [ 0.     0.14   0.     1.247  0.   ]\n",
      " [ 0.     0.882  0.     0.669  0.   ]\n",
      " [ 0.     2.083  0.     1.123  0.   ]\n",
      " [ 0.     0.527  0.     0.029  0.   ]\n",
      " [ 0.     0.703  0.337  0.     0.   ]]\n"
     ]
    }
   ],
   "source": [
    "print(ae_array[qtl])"
   ]
  },
  {
   "cell_type": "code",
   "execution_count": 26,
   "metadata": {
    "collapsed": true
   },
   "outputs": [],
   "source": [
    "operators.calculate_g(example_pop, ae_array)"
   ]
  },
  {
   "cell_type": "code",
   "execution_count": 27,
   "metadata": {},
   "outputs": [
    {
     "name": "stdout",
     "output_type": "stream",
     "text": [
      "[ 47.551  43.782  41.252  45.229  43.477  44.363  46.361  45.871  38.205\n",
      "  44.067  40.832  48.246  35.99   48.896  43.381  44.006  40.275  39.4\n",
      "  42.295  42.297  49.207  47.154  40.323  44.564  45.493  46.109  48.308\n",
      "  48.786  37.21   40.446  43.844  37.579  45.431  38.584  48.469  44.869\n",
      "  43.905  45.335  46.453  40.682  42.834  42.491  47.074  49.875  44.902\n",
      "  47.802  42.042  43.454  43.898  43.955  34.524  47.52   42.267  44.827\n",
      "  45.142  47.934  43.975  46.465  47.375  40.209  40.356  45.553  50.139\n",
      "  49.649  36.133  41.16   36.637  47.069  45.871  45.299  37.93   41.483\n",
      "  40.249  47.552  43.699  41.168  44.15   48.072  40.277  42.204  43.874\n",
      "  44.48   39.389  45.467  44.215  45.45   46.685  43.067  34.726  45.275\n",
      "  42.136  42.337  36.428  46.922  42.695  44.359  49.863  43.432  41.794\n",
      "  40.63   43.844  39.743  44.324  44.548  44.843]\n"
     ]
    }
   ],
   "source": [
    "print(np.array(example_pop.indInfo('g')))"
   ]
  },
  {
   "cell_type": "code",
   "execution_count": null,
   "metadata": {
    "collapsed": true
   },
   "outputs": [],
   "source": []
  },
  {
   "cell_type": "code",
   "execution_count": 32,
   "metadata": {
    "collapsed": true
   },
   "outputs": [],
   "source": [
    "heritability = 0.7"
   ]
  },
  {
   "cell_type": "code",
   "execution_count": 34,
   "metadata": {
    "collapsed": true
   },
   "outputs": [],
   "source": [
    "example_pop.dvars().epsilon = np.var(example_pop.indInfo('g'))*((1/heritability) - 1)"
   ]
  },
  {
   "cell_type": "code",
   "execution_count": 35,
   "metadata": {},
   "outputs": [
    {
     "name": "stdout",
     "output_type": "stream",
     "text": [
      "5.31210159489\n"
     ]
    }
   ],
   "source": [
    "print(example_pop.dvars().epsilon)"
   ]
  },
  {
   "cell_type": "code",
   "execution_count": 37,
   "metadata": {
    "collapsed": true
   },
   "outputs": [],
   "source": [
    "operators.calculate_p(example_pop)"
   ]
  },
  {
   "cell_type": "code",
   "execution_count": 41,
   "metadata": {},
   "outputs": [
    {
     "name": "stdout",
     "output_type": "stream",
     "text": [
      "[ 51.912  43.698  31.867  39.772  42.367  55.394  45.751  36.806  30.67\n",
      "  49.342  39.44   53.184  34.946  47.489  51.119  45.355  49.242  42.428\n",
      "  43.989  41.591  40.911  51.125  51.154  44.06   38.491  45.406  48.175\n",
      "  44.659  31.458  35.266  46.712  41.525  53.201  45.575  54.09   48.758\n",
      "  37.973  49.883  49.092  39.151  45.827  47.702  46.029  54.084  42.357\n",
      "  52.86   37.865  49.702  39.409  36.099  34.894  43.194  44.701  41.302\n",
      "  48.899  51.28   41.661  44.914  41.055  47.     38.409  44.145  49.102\n",
      "  43.193  39.99   41.011  41.165  56.536  52.146  41.167  41.825  29.432\n",
      "  40.996  46.574  41.725  31.878  47.394  48.373  35.343  46.933  44.161\n",
      "  37.527  40.506  44.     47.073  42.077  39.873  36.111  33.092  43.489\n",
      "  39.986  46.277  36.09   39.514  38.24   47.853  50.019  49.436  43.239\n",
      "  40.166  45.012  43.531  43.878  53.475  45.172]\n"
     ]
    }
   ],
   "source": [
    "print(np.array(example_pop.indInfo('p')))"
   ]
  },
  {
   "cell_type": "code",
   "execution_count": 39,
   "metadata": {},
   "outputs": [
    {
     "data": {
      "text/plain": [
       "34.326379133499643"
      ]
     },
     "execution_count": 39,
     "metadata": {},
     "output_type": "execute_result"
    }
   ],
   "source": [
    "np.var(example_pop.indInfo('p'))"
   ]
  },
  {
   "cell_type": "code",
   "execution_count": null,
   "metadata": {
    "collapsed": true
   },
   "outputs": [],
   "source": [
    "g = np.array(example_pop.indInfo('g'))"
   ]
  },
  {
   "cell_type": "code",
   "execution_count": 42,
   "metadata": {
    "collapsed": true
   },
   "outputs": [],
   "source": [
    "normal_ae_table = trait.construct_allele_effects_table(example_pop, qtl, random.normalvariate, 0, 1)"
   ]
  },
  {
   "cell_type": "code",
   "execution_count": 47,
   "metadata": {},
   "outputs": [
    {
     "name": "stdout",
     "output_type": "stream",
     "text": [
      "[[   248.         2.         0.414      3.        -0.983]\n",
      " [  2609.         1.         0.252      3.        -1.557]\n",
      " [  4351.         1.        -0.312      3.        -0.314]\n",
      " [  5444.         1.        -0.998      3.         1.352]\n",
      " [  5467.         2.         0.939      3.        -1.758]\n",
      " [  7902.         1.         1.075      3.        -1.841]\n",
      " [  8008.         1.         0.554      3.         1.327]\n",
      " [  8951.         1.         0.051      3.         0.1  ]\n",
      " [ 10983.         1.         0.976      3.         1.786]\n",
      " [ 17571.         1.        -0.754      3.         1.578]\n",
      " [ 17573.         1.         0.561      3.        -0.436]\n",
      " [ 24130.         1.         1.027      2.        -0.745]\n",
      " [ 25900.         1.        -0.363      3.        -2.082]\n",
      " [ 26640.         1.         0.503      3.        -1.156]\n",
      " [ 30553.         1.         0.605      3.        -0.605]\n",
      " [ 36841.         1.        -0.568      3.         2.009]\n",
      " [ 38387.         1.        -0.605      3.        -0.625]\n",
      " [ 40501.         1.        -1.32       3.         0.672]\n",
      " [ 42632.         1.         0.715      3.        -0.453]\n",
      " [ 44217.         1.         0.346      2.         1.045]]\n"
     ]
    }
   ],
   "source": [
    "print(normal_ae_table[qtl])"
   ]
  },
  {
   "cell_type": "code",
   "execution_count": 43,
   "metadata": {
    "collapsed": true
   },
   "outputs": [],
   "source": [
    "normal_ae_array = trait.construct_ae_array(normal_ae_table, qtl)"
   ]
  },
  {
   "cell_type": "code",
   "execution_count": 44,
   "metadata": {
    "collapsed": true
   },
   "outputs": [],
   "source": [
    "operators.calculate_g(example_pop, normal_ae_array)"
   ]
  },
  {
   "cell_type": "code",
   "execution_count": 45,
   "metadata": {},
   "outputs": [
    {
     "name": "stdout",
     "output_type": "stream",
     "text": [
      "[  9.391   8.02    4.225   0.09   11.742   7.926  11.427  15.576  -0.911\n",
      "   6.048   9.484   6.613  -3.472   3.755  14.837   0.041   9.211   8.871\n",
      "   6.226   0.924   6.576  15.055   1.922   9.408   1.357   0.158   5.3\n",
      "  10.485   8.384  11.894   0.574   6.921   5.443  -3.902  10.89    3.441\n",
      "  10.557   6.855  13.957   6.83    0.855   7.258   5.761  11.502   9.072\n",
      "  10.946   5.282   6.848  10.172   6.145   0.627   2.356   3.401  10.021\n",
      "  -0.208   8.668   2.678   2.451   4.81    3.761   3.486   5.8    11.652\n",
      "   3.193   5.9     2.796   6.423   5.589  10.268  14.335   4.298   2.229\n",
      "   6.918   3.191   4.046   2.462  -0.218   6.304   3.416   7.002   7.478\n",
      "   4.093   7.007  -1.809   5.602   6.77    8.306  14.293   0.037   7.616\n",
      "   9.862   3.128   8.275   4.544   8.11    0.443   2.44    8.743   5.935\n",
      "   0.777  12.231   9.319   2.053   1.085  13.271]\n"
     ]
    }
   ],
   "source": [
    "print(np.array(example_pop.indInfo('g')))"
   ]
  }
 ],
 "metadata": {
  "kernelspec": {
   "display_name": "Python 3",
   "language": "python",
   "name": "python3"
  },
  "language_info": {
   "codemirror_mode": {
    "name": "ipython",
    "version": 3
   },
   "file_extension": ".py",
   "mimetype": "text/x-python",
   "name": "python",
   "nbconvert_exporter": "python",
   "pygments_lexer": "ipython3",
   "version": "3.6.1"
  }
 },
 "nbformat": 4,
 "nbformat_minor": 1
}
