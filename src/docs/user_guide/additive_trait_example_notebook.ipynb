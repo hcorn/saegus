{
 "cells": [
  {
   "cell_type": "code",
   "execution_count": 1,
   "metadata": {
    "collapsed": true
   },
   "outputs": [],
   "source": [
    "import simuOpt"
   ]
  },
  {
   "cell_type": "code",
   "execution_count": 2,
   "metadata": {
    "collapsed": true
   },
   "outputs": [],
   "source": [
    "simuOpt.setOptions(alleleType='lineage', quiet=True, numThreads=4)"
   ]
  },
  {
   "cell_type": "code",
   "execution_count": 3,
   "metadata": {
    "collapsed": true
   },
   "outputs": [],
   "source": [
    "import simuPOP as sim\n",
    "import numpy as np\n",
    "import pandas as pd\n",
    "import random\n",
    "from saegus import parameters, operators\n",
    "np.set_printoptions(suppress=True, precision=3)"
   ]
  },
  {
   "cell_type": "code",
   "execution_count": 4,
   "metadata": {
    "collapsed": true
   },
   "outputs": [],
   "source": [
    "example_pop = sim.loadPopulation('example_pop.pop')"
   ]
  },
  {
   "cell_type": "code",
   "execution_count": 5,
   "metadata": {},
   "outputs": [
    {
     "data": {
      "text/plain": [
       "()"
      ]
     },
     "execution_count": 5,
     "metadata": {},
     "output_type": "execute_result"
    }
   ],
   "source": [
    "example_pop.infoFields()"
   ]
  },
  {
   "cell_type": "code",
   "execution_count": 6,
   "metadata": {
    "collapsed": true
   },
   "outputs": [],
   "source": [
    "example_pop.addInfoFields(['ind_id', 'g', 'p'])"
   ]
  },
  {
   "cell_type": "code",
   "execution_count": 7,
   "metadata": {},
   "outputs": [
    {
     "data": {
      "text/plain": [
       "('ind_id', 'g', 'p')"
      ]
     },
     "execution_count": 7,
     "metadata": {},
     "output_type": "execute_result"
    }
   ],
   "source": [
    "example_pop.infoFields()"
   ]
  },
  {
   "cell_type": "code",
   "execution_count": 8,
   "metadata": {
    "collapsed": true
   },
   "outputs": [],
   "source": [
    "sim.tagID(example_pop)"
   ]
  },
  {
   "cell_type": "code",
   "execution_count": 9,
   "metadata": {},
   "outputs": [
    {
     "name": "stdout",
     "output_type": "stream",
     "text": [
      "[   1.    2.    3.    4.    5.    6.    7.    8.    9.   10.   11.   12.\n",
      "   13.   14.   15.   16.   17.   18.   19.   20.   21.   22.   23.   24.\n",
      "   25.   26.   27.   28.   29.   30.   31.   32.   33.   34.   35.   36.\n",
      "   37.   38.   39.   40.   41.   42.   43.   44.   45.   46.   47.   48.\n",
      "   49.   50.   51.   52.   53.   54.   55.   56.   57.   58.   59.   60.\n",
      "   61.   62.   63.   64.   65.   66.   67.   68.   69.   70.   71.   72.\n",
      "   73.   74.   75.   76.   77.   78.   79.   80.   81.   82.   83.   84.\n",
      "   85.   86.   87.   88.   89.   90.   91.   92.   93.   94.   95.   96.\n",
      "   97.   98.   99.  100.  101.  102.  103.  104.  105.]\n"
     ]
    }
   ],
   "source": [
    "print(np.array(example_pop.indInfo('ind_id')))"
   ]
  },
  {
   "cell_type": "code",
   "execution_count": 10,
   "metadata": {
    "collapsed": true
   },
   "outputs": [],
   "source": [
    "ind_ids = np.array(example_pop.indInfo('ind_id'))"
   ]
  },
  {
   "cell_type": "code",
   "execution_count": 11,
   "metadata": {
    "collapsed": true
   },
   "outputs": [],
   "source": [
    "sim.stat(example_pop, alleleFreq=sim.ALL_AVAIL)"
   ]
  },
  {
   "cell_type": "code",
   "execution_count": 12,
   "metadata": {
    "collapsed": true
   },
   "outputs": [],
   "source": [
    "sim.stat(example_pop, numOfSegSites=sim.ALL_AVAIL, \n",
    "         vars=['numOfSegSites', 'segSites', 'fixedSites'])"
   ]
  },
  {
   "cell_type": "code",
   "execution_count": 13,
   "metadata": {
    "collapsed": true
   },
   "outputs": [],
   "source": [
    "segregating_loci = example_pop.dvars().segSites"
   ]
  },
  {
   "cell_type": "code",
   "execution_count": 14,
   "metadata": {},
   "outputs": [
    {
     "data": {
      "text/plain": [
       "42837"
      ]
     },
     "execution_count": 14,
     "metadata": {},
     "output_type": "execute_result"
    }
   ],
   "source": [
    "example_pop.dvars().numOfSegSites"
   ]
  },
  {
   "cell_type": "code",
   "execution_count": 15,
   "metadata": {},
   "outputs": [
    {
     "name": "stdout",
     "output_type": "stream",
     "text": [
      "[0, 1040, 2072, 3098, 4124, 5156, 6199, 7217, 8248, 9282, 10338, 11361, 12392, 13407, 14468, 15502, 16562, 17599, 18637, 19665, 20700, 21766, 22805, 23813, 24837, 25882, 26910, 27923, 28955, 30026, 31057, 32103, 33142, 34173, 35185, 36207, 37223, 38243, 39351, 40419, 41477, 42537, 43578]\n"
     ]
    }
   ],
   "source": [
    "print(segregating_loci[::1000])"
   ]
  },
  {
   "cell_type": "code",
   "execution_count": 16,
   "metadata": {
    "collapsed": true
   },
   "outputs": [],
   "source": [
    "qtl = sorted(random.sample(segregating_loci, 20))"
   ]
  },
  {
   "cell_type": "code",
   "execution_count": 46,
   "metadata": {},
   "outputs": [
    {
     "data": {
      "text/plain": [
       "[1812,\n",
       " 1905,\n",
       " 4802,\n",
       " 6092,\n",
       " 7776,\n",
       " 9225,\n",
       " 11426,\n",
       " 17994,\n",
       " 18169,\n",
       " 19480,\n",
       " 21206,\n",
       " 22754,\n",
       " 27998,\n",
       " 28313,\n",
       " 29297,\n",
       " 31358,\n",
       " 36316,\n",
       " 36354,\n",
       " 40565,\n",
       " 44143]"
      ]
     },
     "execution_count": 46,
     "metadata": {},
     "output_type": "execute_result"
    }
   ],
   "source": [
    "qtl"
   ]
  },
  {
   "cell_type": "code",
   "execution_count": 18,
   "metadata": {
    "collapsed": true
   },
   "outputs": [],
   "source": [
    "trait = parameters.Trait()"
   ]
  },
  {
   "cell_type": "code",
   "execution_count": 19,
   "metadata": {},
   "outputs": [],
   "source": [
    "ae_table = trait.construct_allele_effects_table(example_pop, qtl, random.expovariate, 1)"
   ]
  },
  {
   "cell_type": "code",
   "execution_count": 20,
   "metadata": {},
   "outputs": [
    {
     "data": {
      "text/plain": [
       "array([[  1812.   ,      1.   ,      2.559,      3.   ,      1.962],\n",
       "       [  1905.   ,      1.   ,      0.169,      3.   ,      0.199],\n",
       "       [  4802.   ,      1.   ,      0.533,      3.   ,      0.523],\n",
       "       [  6092.   ,      1.   ,      0.5  ,      2.   ,      4.702],\n",
       "       [  7776.   ,      1.   ,      1.825,      3.   ,      0.156],\n",
       "       [  9225.   ,      1.   ,      0.793,      2.   ,      1.657],\n",
       "       [ 11426.   ,      1.   ,      1.064,      3.   ,      0.228],\n",
       "       [ 17994.   ,      1.   ,      0.221,      2.   ,      0.015],\n",
       "       [ 18169.   ,      1.   ,      1.011,      3.   ,      1.45 ],\n",
       "       [ 19480.   ,      1.   ,      1.443,      3.   ,      0.046],\n",
       "       [ 21206.   ,      1.   ,      0.554,      2.   ,      1.086],\n",
       "       [ 22754.   ,      1.   ,      0.904,      3.   ,      0.628],\n",
       "       [ 27998.   ,      1.   ,      0.361,      2.   ,      0.023],\n",
       "       [ 28313.   ,      1.   ,      1.953,      3.   ,      0.033],\n",
       "       [ 29297.   ,      1.   ,      2.737,      3.   ,      3.567],\n",
       "       [ 31358.   ,      1.   ,      0.778,      3.   ,      1.601],\n",
       "       [ 36316.   ,      1.   ,      6.54 ,      3.   ,      2.131],\n",
       "       [ 36354.   ,      1.   ,      0.573,      2.   ,      1.766],\n",
       "       [ 40565.   ,      1.   ,      0.137,      3.   ,      0.351],\n",
       "       [ 44143.   ,      1.   ,      0.338,      3.   ,      0.719]])"
      ]
     },
     "execution_count": 20,
     "metadata": {},
     "output_type": "execute_result"
    }
   ],
   "source": [
    "ae_table[qtl]"
   ]
  },
  {
   "cell_type": "code",
   "execution_count": 21,
   "metadata": {},
   "outputs": [],
   "source": [
    "ae_array = trait.construct_ae_array(ae_table, qtl)"
   ]
  },
  {
   "cell_type": "code",
   "execution_count": 22,
   "metadata": {},
   "outputs": [
    {
     "data": {
      "text/plain": [
       "array([[ 0.   ,  2.559,  0.   ,  1.962,  0.   ],\n",
       "       [ 0.   ,  0.169,  0.   ,  0.199,  0.   ],\n",
       "       [ 0.   ,  0.533,  0.   ,  0.523,  0.   ],\n",
       "       [ 0.   ,  0.5  ,  4.702,  0.   ,  0.   ],\n",
       "       [ 0.   ,  1.825,  0.   ,  0.156,  0.   ],\n",
       "       [ 0.   ,  0.793,  1.657,  0.   ,  0.   ],\n",
       "       [ 0.   ,  1.064,  0.   ,  0.228,  0.   ],\n",
       "       [ 0.   ,  0.221,  0.015,  0.   ,  0.   ],\n",
       "       [ 0.   ,  1.011,  0.   ,  1.45 ,  0.   ],\n",
       "       [ 0.   ,  1.443,  0.   ,  0.046,  0.   ],\n",
       "       [ 0.   ,  0.554,  1.086,  0.   ,  0.   ],\n",
       "       [ 0.   ,  0.904,  0.   ,  0.628,  0.   ],\n",
       "       [ 0.   ,  0.361,  0.023,  0.   ,  0.   ],\n",
       "       [ 0.   ,  1.953,  0.   ,  0.033,  0.   ],\n",
       "       [ 0.   ,  2.737,  0.   ,  3.567,  0.   ],\n",
       "       [ 0.   ,  0.778,  0.   ,  1.601,  0.   ],\n",
       "       [ 0.   ,  6.54 ,  0.   ,  2.131,  0.   ],\n",
       "       [ 0.   ,  0.573,  1.766,  0.   ,  0.   ],\n",
       "       [ 0.   ,  0.137,  0.   ,  0.351,  0.   ],\n",
       "       [ 0.   ,  0.338,  0.   ,  0.719,  0.   ]])"
      ]
     },
     "execution_count": 22,
     "metadata": {},
     "output_type": "execute_result"
    }
   ],
   "source": [
    "ae_array[qtl]"
   ]
  },
  {
   "cell_type": "code",
   "execution_count": 23,
   "metadata": {},
   "outputs": [],
   "source": [
    "operators.calculate_g(example_pop, ae_array)"
   ]
  },
  {
   "cell_type": "code",
   "execution_count": 24,
   "metadata": {},
   "outputs": [
    {
     "data": {
      "text/plain": [
       "array([ 40.5  ,  57.516,  42.954,  44.655,  58.748,  45.196,  44.301,\n",
       "        37.803,  42.125,  48.263,  59.79 ,  46.791,  44.018,  40.228,\n",
       "        46.464,  54.358,  50.271,  48.995,  49.538,  34.851,  43.836,\n",
       "        47.706,  54.652,  40.614,  47.126,  48.786,  42.837,  42.593,\n",
       "        54.974,  45.717,  44.98 ,  41.022,  47.093,  42.612,  47.278,\n",
       "        46.156,  49.569,  45.891,  43.185,  46.977,  40.895,  39.624,\n",
       "        46.451,  40.221,  41.131,  44.719,  46.342,  49.455,  42.355,\n",
       "        49.107,  37.983,  46.371,  45.825,  49.369,  40.751,  42.464,\n",
       "        48.045,  49.075,  47.905,  49.164,  46.342,  41.702,  41.419,\n",
       "        45.088,  47.784,  48.206,  42.946,  46.279,  41.376,  48.122,\n",
       "        40.604,  53.401,  43.177,  42.734,  40.98 ,  44.888,  46.668,\n",
       "        43.456,  55.55 ,  43.821,  45.745,  40.688,  46.057,  44.673,\n",
       "        49.514,  38.059,  40.034,  42.149,  40.867,  42.66 ,  49.946,\n",
       "        44.809,  39.963,  46.583,  43.055,  49.495,  41.973,  46.353,\n",
       "        43.615,  46.172,  39.211,  44.044,  44.618,  42.06 ,  43.291])"
      ]
     },
     "execution_count": 24,
     "metadata": {},
     "output_type": "execute_result"
    }
   ],
   "source": [
    "np.array(example_pop.indInfo('g'))"
   ]
  },
  {
   "cell_type": "code",
   "execution_count": null,
   "metadata": {},
   "outputs": [],
   "source": [
    "np.var(example_pop.indInfo('g'))"
   ]
  },
  {
   "cell_type": "code",
   "execution_count": null,
   "metadata": {},
   "outputs": [],
   "source": [
    "np.mean(example_pop.indInfo('g'))"
   ]
  },
  {
   "cell_type": "code",
   "execution_count": null,
   "metadata": {},
   "outputs": [],
   "source": [
    "np.median(example_pop.indInfo('g'))"
   ]
  },
  {
   "cell_type": "code",
   "execution_count": null,
   "metadata": {
    "collapsed": true
   },
   "outputs": [],
   "source": [
    "operators.calculate_error_variance(example_pop, 0.7)"
   ]
  },
  {
   "cell_type": "code",
   "execution_count": null,
   "metadata": {
    "collapsed": true
   },
   "outputs": [],
   "source": [
    "operators.phenotypic_effect_calculator(example_pop)"
   ]
  },
  {
   "cell_type": "code",
   "execution_count": null,
   "metadata": {},
   "outputs": [],
   "source": [
    "np.array(example_pop.indInfo('p'))"
   ]
  },
  {
   "cell_type": "code",
   "execution_count": null,
   "metadata": {},
   "outputs": [],
   "source": [
    "np.var(example_pop.indInfo('p'))"
   ]
  },
  {
   "cell_type": "code",
   "execution_count": null,
   "metadata": {},
   "outputs": [],
   "source": [
    "np.mean(example_pop.indInfo('p'))"
   ]
  },
  {
   "cell_type": "code",
   "execution_count": 25,
   "metadata": {
    "collapsed": true
   },
   "outputs": [],
   "source": [
    "example_ind = example_pop.individual(0)"
   ]
  },
  {
   "cell_type": "code",
   "execution_count": null,
   "metadata": {},
   "outputs": [],
   "source": []
  },
  {
   "cell_type": "code",
   "execution_count": 31,
   "metadata": {},
   "outputs": [],
   "source": [
    "alpha_qtl_alleles = np.array(example_ind.genotype(ploidy=0))[qtl]"
   ]
  },
  {
   "cell_type": "code",
   "execution_count": 32,
   "metadata": {},
   "outputs": [],
   "source": [
    "beta_qtl_alleles = np.array(example_ind.genotype(ploidy=1))[qtl]"
   ]
  },
  {
   "cell_type": "code",
   "execution_count": 45,
   "metadata": {},
   "outputs": [
    {
     "name": "stdout",
     "output_type": "stream",
     "text": [
      "1812 3 1.96211039471 3 1.96211039471\n",
      "1905 1 0.169273516717 3 0.199434065154\n",
      "4802 3 0.523146357395 1 0.532644785114\n",
      "6092 1 0.499786807448 2 4.7024118054\n",
      "7776 3 0.156274547953 3 0.156274547953\n",
      "9225 2 1.65742251337 2 1.65742251337\n",
      "11426 3 0.228257880125 3 0.228257880125\n",
      "17994 2 0.0145749906999 2 0.0145749906999\n",
      "18169 1 1.0108164106 1 1.0108164106\n",
      "19480 3 0.0457385583349 3 0.0457385583349\n",
      "21206 2 1.08615117228 1 0.554337263607\n",
      "22754 3 0.628060831013 3 0.628060831013\n",
      "27998 1 0.361357056286 2 0.0233817015014\n",
      "28313 1 1.95254217063 1 1.95254217063\n",
      "29297 1 2.73728690377 1 2.73728690377\n",
      "31358 1 0.778344654131 1 0.778344654131\n",
      "36316 3 2.13099766675 3 2.13099766675\n",
      "36354 2 1.76630852143 2 1.76630852143\n",
      "40565 1 0.136929676142 1 0.136929676142\n",
      "44143 3 0.718525355568 3 0.718525355568\n"
     ]
    }
   ],
   "source": [
    "example_g = [[], []]\n",
    "for locus, alpha, beta in zip(qtl, alpha_qtl_alleles, beta_qtl_alleles):\n",
    "    print(locus, alpha, ae_array[locus, alpha], beta, ae_array[locus, beta])\n",
    "    example_g[0].append(ae_array[locus, alpha])\n",
    "    example_g[1].append(ae_array[locus, beta])"
   ]
  },
  {
   "cell_type": "code",
   "execution_count": 40,
   "metadata": {},
   "outputs": [
    {
     "data": {
      "text/plain": [
       "40.500306681374511"
      ]
     },
     "execution_count": 40,
     "metadata": {},
     "output_type": "execute_result"
    }
   ],
   "source": [
    "sum(example_g[0]) + sum(example_g[1])"
   ]
  },
  {
   "cell_type": "code",
   "execution_count": 44,
   "metadata": {},
   "outputs": [
    {
     "data": {
      "text/plain": [
       "40.500306681374504"
      ]
     },
     "execution_count": 44,
     "metadata": {},
     "output_type": "execute_result"
    }
   ],
   "source": [
    "example_pop.indByID(1).g"
   ]
  },
  {
   "cell_type": "code",
   "execution_count": null,
   "metadata": {
    "collapsed": true
   },
   "outputs": [],
   "source": []
  }
 ],
 "metadata": {
  "kernelspec": {
   "display_name": "Python 3",
   "language": "python",
   "name": "python3"
  },
  "language_info": {
   "codemirror_mode": {
    "name": "ipython",
    "version": 3
   },
   "file_extension": ".py",
   "mimetype": "text/x-python",
   "name": "python",
   "nbconvert_exporter": "python",
   "pygments_lexer": "ipython3",
   "version": "3.6.1"
  }
 },
 "nbformat": 4,
 "nbformat_minor": 1
}
