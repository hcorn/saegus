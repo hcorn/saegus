{
 "cells": [
  {
   "cell_type": "code",
   "execution_count": 43,
   "metadata": {
    "collapsed": true
   },
   "outputs": [],
   "source": [
    "import simuOpt\n",
    "simuOpt.setOptions(alleleType='short', quiet=True)\n",
    "import simuPOP as sim\n",
    "import numpy as np\n",
    "import pandas as pd\n",
    "import collections\n",
    "np.set_printoptions(suppress=True, precision=3)"
   ]
  },
  {
   "cell_type": "code",
   "execution_count": 17,
   "metadata": {
    "collapsed": true
   },
   "outputs": [],
   "source": [
    "np.set_printoptions(suppress=True, precision=3)"
   ]
  },
  {
   "cell_type": "markdown",
   "metadata": {},
   "source": [
    "## Reading Genotype Data"
   ]
  },
  {
   "cell_type": "code",
   "execution_count": 18,
   "metadata": {
    "collapsed": true
   },
   "outputs": [],
   "source": [
    "genotypes = np.array(pd.read_csv('example_genotype_matrix.txt', sep='\\t', index_col=0, low_memory=False))"
   ]
  },
  {
   "cell_type": "code",
   "execution_count": 19,
   "metadata": {},
   "outputs": [
    {
     "name": "stdout",
     "output_type": "stream",
     "text": [
      "[['2/1' '3/2' '2/3' ..., '1/2' '1/3' '3/1']\n",
      " ['2/2' '3/3' '2/2' ..., '1/2' '1/1' '3/3']\n",
      " ['2/1' '3/3' '2/2' ..., '1/2' '1/1' '3/3']\n",
      " ..., \n",
      " ['2/2' '3/2' '2/2' ..., '2/2' '1/3' '1/1']\n",
      " ['2/2' '2/2' '2/2' ..., '1/2' '1/1' '3/3']\n",
      " ['2/2' '3/3' '2/2' ..., '1/2' '1/3' '3/3']]\n"
     ]
    }
   ],
   "source": [
    "print(genotypes)"
   ]
  },
  {
   "cell_type": "code",
   "execution_count": 20,
   "metadata": {},
   "outputs": [
    {
     "name": "stdout",
     "output_type": "stream",
     "text": [
      "['2/1' '3/2' '2/3' ..., '1/2' '1/3' '3/1']\n"
     ]
    }
   ],
   "source": [
    "print(genotypes[0])"
   ]
  },
  {
   "cell_type": "code",
   "execution_count": 21,
   "metadata": {
    "collapsed": true
   },
   "outputs": [],
   "source": [
    "genetic_map = np.array(pd.read_csv('example_genetic_map.txt', sep='\\t'))"
   ]
  },
  {
   "cell_type": "code",
   "execution_count": 22,
   "metadata": {},
   "outputs": [
    {
     "name": "stdout",
     "output_type": "stream",
     "text": [
      "[[     1.         1.        -5.511]\n",
      " [     2.         1.        -5.302]\n",
      " [     3.         1.        -5.3  ]\n",
      " ..., \n",
      " [ 44443.        10.        89.659]\n",
      " [ 44444.        10.        89.682]\n",
      " [ 44445.        10.        89.77 ]]\n"
     ]
    }
   ],
   "source": [
    "print(genetic_map)"
   ]
  },
  {
   "cell_type": "code",
   "execution_count": 33,
   "metadata": {},
   "outputs": [],
   "source": [
    "chromosome_column = np.array(genetic_map[:, 1], dtype=np.int)"
   ]
  },
  {
   "cell_type": "code",
   "execution_count": 34,
   "metadata": {},
   "outputs": [
    {
     "name": "stdout",
     "output_type": "stream",
     "text": [
      "[ 1  1  1 ..., 10 10 10]\n"
     ]
    }
   ],
   "source": [
    "print(chromosome_column)"
   ]
  },
  {
   "cell_type": "code",
   "execution_count": 35,
   "metadata": {
    "collapsed": true
   },
   "outputs": [],
   "source": [
    "loci_counts = collections.Counter(chromosome_column)"
   ]
  },
  {
   "cell_type": "code",
   "execution_count": 37,
   "metadata": {},
   "outputs": [
    {
     "name": "stdout",
     "output_type": "stream",
     "text": [
      "Counter({1: 6939, 2: 5171, 3: 4974, 5: 4838, 4: 4819, 8: 3849, 7: 3775, 6: 3570, 9: 3337, 10: 3173})\n"
     ]
    }
   ],
   "source": [
    "print(loci_counts)"
   ]
  },
  {
   "cell_type": "code",
   "execution_count": 39,
   "metadata": {
    "collapsed": true
   },
   "outputs": [],
   "source": [
    "chromosome_lengths = [loci_counts[i] for i in range(1, 11)]"
   ]
  },
  {
   "cell_type": "code",
   "execution_count": 41,
   "metadata": {},
   "outputs": [
    {
     "name": "stdout",
     "output_type": "stream",
     "text": [
      "[6939, 5171, 4974, 4819, 4838, 3570, 3775, 3849, 3337, 3173]\n"
     ]
    }
   ],
   "source": [
    "print(chromosome_lengths)"
   ]
  },
  {
   "cell_type": "code",
   "execution_count": 57,
   "metadata": {},
   "outputs": [],
   "source": [
    "example_pop = sim.Population(105, ploidy=2, loci=chromosome_lengths)"
   ]
  },
  {
   "cell_type": "code",
   "execution_count": 45,
   "metadata": {
    "collapsed": true
   },
   "outputs": [],
   "source": [
    "converted_genotypes = [\n",
    "    [int(genotypes[ind, :][i][0]) for i in range(genotypes.shape[1])] + \n",
    "     [int(genotypes[ind, :][i][-1]) for i in range(genotypes.shape[1])] for ind in range(105)\n",
    "]"
   ]
  },
  {
   "cell_type": "code",
   "execution_count": 58,
   "metadata": {},
   "outputs": [],
   "source": [
    "for i, ind in enumerate(example_pop.individuals()):\n",
    "    ind.setGenotype(converted_genotypes[i])"
   ]
  },
  {
   "cell_type": "code",
   "execution_count": 50,
   "metadata": {
    "collapsed": true
   },
   "outputs": [],
   "source": [
    "example_ind = example_pop.individual(0)"
   ]
  },
  {
   "cell_type": "code",
   "execution_count": 55,
   "metadata": {},
   "outputs": [
    {
     "data": {
      "text/plain": [
       "6939"
      ]
     },
     "execution_count": 55,
     "metadata": {},
     "output_type": "execute_result"
    }
   ],
   "source": [
    "len(example_ind.genotype(ploidy=0, chroms=0))"
   ]
  },
  {
   "cell_type": "code",
   "execution_count": 61,
   "metadata": {},
   "outputs": [
    {
     "data": {
      "text/plain": [
       "<simuPOP.Population>"
      ]
     },
     "execution_count": 61,
     "metadata": {},
     "output_type": "execute_result"
    }
   ],
   "source": [
    "example_pop"
   ]
  },
  {
   "cell_type": "code",
   "execution_count": 63,
   "metadata": {},
   "outputs": [
    {
     "name": "stdout",
     "output_type": "stream",
     "text": [
      "105\n"
     ]
    }
   ],
   "source": [
    "print(example_pop.popSize())"
   ]
  },
  {
   "cell_type": "code",
   "execution_count": 64,
   "metadata": {},
   "outputs": [
    {
     "name": "stdout",
     "output_type": "stream",
     "text": [
      "10\n"
     ]
    }
   ],
   "source": [
    "print(example_pop.numChrom())"
   ]
  },
  {
   "cell_type": "code",
   "execution_count": 65,
   "metadata": {},
   "outputs": [
    {
     "name": "stdout",
     "output_type": "stream",
     "text": [
      "(6939, 5171, 4974, 4819, 4838, 3570, 3775, 3849, 3337, 3173)\n"
     ]
    }
   ],
   "source": [
    "print(example_pop.numLoci())"
   ]
  },
  {
   "cell_type": "code",
   "execution_count": 66,
   "metadata": {
    "collapsed": true
   },
   "outputs": [],
   "source": [
    "example_individual = example_pop.individual(0)"
   ]
  },
  {
   "cell_type": "code",
   "execution_count": 71,
   "metadata": {},
   "outputs": [],
   "source": [
    "example_genotype = np.array(example_individual.genotype(ploidy=0, chroms=0))"
   ]
  },
  {
   "cell_type": "code",
   "execution_count": 74,
   "metadata": {},
   "outputs": [
    {
     "name": "stdout",
     "output_type": "stream",
     "text": [
      "[2 3 2 ..., 3 3 2]\n"
     ]
    }
   ],
   "source": [
    "print(example_genotype)"
   ]
  },
  {
   "cell_type": "code",
   "execution_count": 75,
   "metadata": {
    "collapsed": true
   },
   "outputs": [],
   "source": [
    "example_pop.save('example_pop.pop')"
   ]
  },
  {
   "cell_type": "code",
   "execution_count": null,
   "metadata": {
    "collapsed": true
   },
   "outputs": [],
   "source": []
  },
  {
   "cell_type": "code",
   "execution_count": null,
   "metadata": {
    "collapsed": true
   },
   "outputs": [],
   "source": []
  },
  {
   "cell_type": "code",
   "execution_count": null,
   "metadata": {
    "collapsed": true
   },
   "outputs": [],
   "source": []
  },
  {
   "cell_type": "code",
   "execution_count": null,
   "metadata": {
    "collapsed": true
   },
   "outputs": [],
   "source": []
  }
 ],
 "metadata": {
  "kernelspec": {
   "display_name": "Python 3",
   "language": "python",
   "name": "python3"
  },
  "language_info": {
   "codemirror_mode": {
    "name": "ipython",
    "version": 3
   },
   "file_extension": ".py",
   "mimetype": "text/x-python",
   "name": "python",
   "nbconvert_exporter": "python",
   "pygments_lexer": "ipython3",
   "version": "3.6.1"
  }
 },
 "nbformat": 4,
 "nbformat_minor": 1
}
