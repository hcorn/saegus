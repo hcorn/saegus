{
 "cells": [
  {
   "cell_type": "code",
   "execution_count": 1,
   "metadata": {
    "collapsed": true
   },
   "outputs": [],
   "source": [
    "import simuOpt\n",
    "simuOpt.setOptions(alleleType='short', quiet=True, numThreads=4)\n",
    "import simuPOP as sim\n",
    "import numpy as np\n",
    "import pandas as pd\n",
    "import random\n",
    "from saegus import analyze, operators, parameters\n",
    "np.set_printoptions(suppress=True, precision=5)"
   ]
  },
  {
   "cell_type": "code",
   "execution_count": 2,
   "metadata": {
    "collapsed": true
   },
   "outputs": [],
   "source": [
    "example_pop = sim.loadPopulation('example_pop.pop')"
   ]
  },
  {
   "cell_type": "code",
   "execution_count": 4,
   "metadata": {
    "collapsed": true
   },
   "outputs": [],
   "source": [
    "example_pop.addInfoFields(['ind_id', 'mother_id', 'father_id', 'g', 'p'])"
   ]
  },
  {
   "cell_type": "code",
   "execution_count": 5,
   "metadata": {
    "collapsed": true
   },
   "outputs": [],
   "source": [
    "sim.tagID(example_pop)"
   ]
  },
  {
   "cell_type": "code",
   "execution_count": 6,
   "metadata": {
    "collapsed": true
   },
   "outputs": [],
   "source": [
    "sim.stat(example_pop, numOfSegSites=sim.ALL_AVAIL, vars=['segSites'])"
   ]
  },
  {
   "cell_type": "code",
   "execution_count": 7,
   "metadata": {
    "collapsed": true
   },
   "outputs": [],
   "source": [
    "segregating_loci = example_pop.dvars().segSites"
   ]
  },
  {
   "cell_type": "code",
   "execution_count": 8,
   "metadata": {
    "collapsed": true
   },
   "outputs": [],
   "source": [
    "qtl = sorted(random.sample(segregating_loci, 20))"
   ]
  },
  {
   "cell_type": "code",
   "execution_count": 9,
   "metadata": {
    "collapsed": true
   },
   "outputs": [],
   "source": [
    "trait = parameters.Trait()"
   ]
  },
  {
   "cell_type": "code",
   "execution_count": 10,
   "metadata": {
    "collapsed": true
   },
   "outputs": [],
   "source": [
    "allele_effects_table = trait.construct_allele_effects_table(example_pop, qtl, random.expovariate, 1)"
   ]
  },
  {
   "cell_type": "code",
   "execution_count": 11,
   "metadata": {
    "collapsed": true
   },
   "outputs": [],
   "source": [
    "allele_effects_array = trait.construct_ae_array(allele_effects_table, qtl)"
   ]
  },
  {
   "cell_type": "code",
   "execution_count": 12,
   "metadata": {
    "collapsed": true
   },
   "outputs": [],
   "source": [
    "heritability = 0.7"
   ]
  },
  {
   "cell_type": "code",
   "execution_count": 13,
   "metadata": {
    "collapsed": true
   },
   "outputs": [],
   "source": [
    "operators.calculate_g(example_pop, allele_effects_array)"
   ]
  },
  {
   "cell_type": "code",
   "execution_count": 14,
   "metadata": {
    "collapsed": true
   },
   "outputs": [],
   "source": [
    "operators.calculate_error_variance(example_pop, heritability)"
   ]
  },
  {
   "cell_type": "code",
   "execution_count": 15,
   "metadata": {
    "collapsed": true
   },
   "outputs": [],
   "source": [
    "operators.calculate_p(example_pop)"
   ]
  },
  {
   "cell_type": "code",
   "execution_count": 16,
   "metadata": {
    "collapsed": true
   },
   "outputs": [],
   "source": [
    "gwas = analyze.GWAS(example_pop, segregating_loci, 'example')"
   ]
  },
  {
   "cell_type": "code",
   "execution_count": 18,
   "metadata": {},
   "outputs": [
    {
     "data": {
      "text/plain": [
       "array(['I1', 'I2', 'I3', 'I4', 'I5', 'I6', 'I7', 'I8', 'I9', 'I10', 'I11',\n",
       "       'I12', 'I13', 'I14', 'I15', 'I16', 'I17', 'I18', 'I19', 'I20',\n",
       "       'I21', 'I22', 'I23', 'I24', 'I25', 'I26', 'I27', 'I28', 'I29',\n",
       "       'I30', 'I31', 'I32', 'I33', 'I34', 'I35', 'I36', 'I37', 'I38',\n",
       "       'I39', 'I40', 'I41', 'I42', 'I43', 'I44', 'I45', 'I46', 'I47',\n",
       "       'I48', 'I49', 'I50', 'I51', 'I52', 'I53', 'I54', 'I55', 'I56',\n",
       "       'I57', 'I58', 'I59', 'I60', 'I61', 'I62', 'I63', 'I64', 'I65',\n",
       "       'I66', 'I67', 'I68', 'I69', 'I70', 'I71', 'I72', 'I73', 'I74',\n",
       "       'I75', 'I76', 'I77', 'I78', 'I79', 'I80', 'I81', 'I82', 'I83',\n",
       "       'I84', 'I85', 'I86', 'I87', 'I88', 'I89', 'I90', 'I91', 'I92',\n",
       "       'I93', 'I94', 'I95', 'I96', 'I97', 'I98', 'I99', 'I100', 'I101',\n",
       "       'I102', 'I103', 'I104', 'I105'], \n",
       "      dtype='<U4')"
      ]
     },
     "execution_count": 18,
     "metadata": {},
     "output_type": "execute_result"
    }
   ],
   "source": [
    "gwas.individual_names"
   ]
  },
  {
   "cell_type": "code",
   "execution_count": 19,
   "metadata": {},
   "outputs": [
    {
     "data": {
      "text/html": [
       "<div>\n",
       "<style>\n",
       "    .dataframe thead tr:only-child th {\n",
       "        text-align: right;\n",
       "    }\n",
       "\n",
       "    .dataframe thead th {\n",
       "        text-align: left;\n",
       "    }\n",
       "\n",
       "    .dataframe tbody tr th {\n",
       "        vertical-align: top;\n",
       "    }\n",
       "</style>\n",
       "<table border=\"1\" class=\"dataframe\">\n",
       "  <thead>\n",
       "    <tr style=\"text-align: right;\">\n",
       "      <th></th>\n",
       "      <th>0</th>\n",
       "      <th>1</th>\n",
       "    </tr>\n",
       "  </thead>\n",
       "  <tbody>\n",
       "    <tr>\n",
       "      <th>0</th>\n",
       "      <td>I1</td>\n",
       "      <td>37.504949302655376</td>\n",
       "    </tr>\n",
       "    <tr>\n",
       "      <th>1</th>\n",
       "      <td>I2</td>\n",
       "      <td>32.2765649387724</td>\n",
       "    </tr>\n",
       "    <tr>\n",
       "      <th>2</th>\n",
       "      <td>I3</td>\n",
       "      <td>31.74542968992492</td>\n",
       "    </tr>\n",
       "    <tr>\n",
       "      <th>3</th>\n",
       "      <td>I4</td>\n",
       "      <td>40.70513322362167</td>\n",
       "    </tr>\n",
       "    <tr>\n",
       "      <th>4</th>\n",
       "      <td>I5</td>\n",
       "      <td>50.8160772768153</td>\n",
       "    </tr>\n",
       "    <tr>\n",
       "      <th>5</th>\n",
       "      <td>I6</td>\n",
       "      <td>45.71957486090434</td>\n",
       "    </tr>\n",
       "    <tr>\n",
       "      <th>6</th>\n",
       "      <td>I7</td>\n",
       "      <td>48.962719841127836</td>\n",
       "    </tr>\n",
       "    <tr>\n",
       "      <th>7</th>\n",
       "      <td>I8</td>\n",
       "      <td>45.71098110400288</td>\n",
       "    </tr>\n",
       "    <tr>\n",
       "      <th>8</th>\n",
       "      <td>I9</td>\n",
       "      <td>48.17893195119641</td>\n",
       "    </tr>\n",
       "    <tr>\n",
       "      <th>9</th>\n",
       "      <td>I10</td>\n",
       "      <td>46.673284351052175</td>\n",
       "    </tr>\n",
       "    <tr>\n",
       "      <th>10</th>\n",
       "      <td>I11</td>\n",
       "      <td>57.0832337954862</td>\n",
       "    </tr>\n",
       "    <tr>\n",
       "      <th>11</th>\n",
       "      <td>I12</td>\n",
       "      <td>49.16972085833981</td>\n",
       "    </tr>\n",
       "    <tr>\n",
       "      <th>12</th>\n",
       "      <td>I13</td>\n",
       "      <td>36.898074044476914</td>\n",
       "    </tr>\n",
       "    <tr>\n",
       "      <th>13</th>\n",
       "      <td>I14</td>\n",
       "      <td>33.81924000520016</td>\n",
       "    </tr>\n",
       "    <tr>\n",
       "      <th>14</th>\n",
       "      <td>I15</td>\n",
       "      <td>43.131099178337166</td>\n",
       "    </tr>\n",
       "    <tr>\n",
       "      <th>15</th>\n",
       "      <td>I16</td>\n",
       "      <td>47.601939382050304</td>\n",
       "    </tr>\n",
       "    <tr>\n",
       "      <th>16</th>\n",
       "      <td>I17</td>\n",
       "      <td>43.8889318742463</td>\n",
       "    </tr>\n",
       "    <tr>\n",
       "      <th>17</th>\n",
       "      <td>I18</td>\n",
       "      <td>43.225412087558</td>\n",
       "    </tr>\n",
       "    <tr>\n",
       "      <th>18</th>\n",
       "      <td>I19</td>\n",
       "      <td>39.57200690508435</td>\n",
       "    </tr>\n",
       "    <tr>\n",
       "      <th>19</th>\n",
       "      <td>I20</td>\n",
       "      <td>41.6421013265699</td>\n",
       "    </tr>\n",
       "    <tr>\n",
       "      <th>20</th>\n",
       "      <td>I21</td>\n",
       "      <td>39.74617138644858</td>\n",
       "    </tr>\n",
       "    <tr>\n",
       "      <th>21</th>\n",
       "      <td>I22</td>\n",
       "      <td>45.88429525984756</td>\n",
       "    </tr>\n",
       "    <tr>\n",
       "      <th>22</th>\n",
       "      <td>I23</td>\n",
       "      <td>31.82092763429752</td>\n",
       "    </tr>\n",
       "    <tr>\n",
       "      <th>23</th>\n",
       "      <td>I24</td>\n",
       "      <td>33.70422996865318</td>\n",
       "    </tr>\n",
       "    <tr>\n",
       "      <th>24</th>\n",
       "      <td>I25</td>\n",
       "      <td>43.11770718664968</td>\n",
       "    </tr>\n",
       "    <tr>\n",
       "      <th>25</th>\n",
       "      <td>I26</td>\n",
       "      <td>47.661096759844106</td>\n",
       "    </tr>\n",
       "    <tr>\n",
       "      <th>26</th>\n",
       "      <td>I27</td>\n",
       "      <td>48.6456106291422</td>\n",
       "    </tr>\n",
       "    <tr>\n",
       "      <th>27</th>\n",
       "      <td>I28</td>\n",
       "      <td>50.8660454644126</td>\n",
       "    </tr>\n",
       "    <tr>\n",
       "      <th>28</th>\n",
       "      <td>I29</td>\n",
       "      <td>39.996342659344</td>\n",
       "    </tr>\n",
       "    <tr>\n",
       "      <th>29</th>\n",
       "      <td>I30</td>\n",
       "      <td>49.023494282559994</td>\n",
       "    </tr>\n",
       "    <tr>\n",
       "      <th>...</th>\n",
       "      <td>...</td>\n",
       "      <td>...</td>\n",
       "    </tr>\n",
       "    <tr>\n",
       "      <th>75</th>\n",
       "      <td>I76</td>\n",
       "      <td>37.10034412699879</td>\n",
       "    </tr>\n",
       "    <tr>\n",
       "      <th>76</th>\n",
       "      <td>I77</td>\n",
       "      <td>47.344317805631846</td>\n",
       "    </tr>\n",
       "    <tr>\n",
       "      <th>77</th>\n",
       "      <td>I78</td>\n",
       "      <td>41.794537601779105</td>\n",
       "    </tr>\n",
       "    <tr>\n",
       "      <th>78</th>\n",
       "      <td>I79</td>\n",
       "      <td>40.88854334152452</td>\n",
       "    </tr>\n",
       "    <tr>\n",
       "      <th>79</th>\n",
       "      <td>I80</td>\n",
       "      <td>31.197684646924575</td>\n",
       "    </tr>\n",
       "    <tr>\n",
       "      <th>80</th>\n",
       "      <td>I81</td>\n",
       "      <td>44.61904021359287</td>\n",
       "    </tr>\n",
       "    <tr>\n",
       "      <th>81</th>\n",
       "      <td>I82</td>\n",
       "      <td>35.87999109022295</td>\n",
       "    </tr>\n",
       "    <tr>\n",
       "      <th>82</th>\n",
       "      <td>I83</td>\n",
       "      <td>39.26274222723416</td>\n",
       "    </tr>\n",
       "    <tr>\n",
       "      <th>83</th>\n",
       "      <td>I84</td>\n",
       "      <td>41.045282342789314</td>\n",
       "    </tr>\n",
       "    <tr>\n",
       "      <th>84</th>\n",
       "      <td>I85</td>\n",
       "      <td>42.330996707766126</td>\n",
       "    </tr>\n",
       "    <tr>\n",
       "      <th>85</th>\n",
       "      <td>I86</td>\n",
       "      <td>31.483483390763755</td>\n",
       "    </tr>\n",
       "    <tr>\n",
       "      <th>86</th>\n",
       "      <td>I87</td>\n",
       "      <td>29.586571801107446</td>\n",
       "    </tr>\n",
       "    <tr>\n",
       "      <th>87</th>\n",
       "      <td>I88</td>\n",
       "      <td>41.053896822075544</td>\n",
       "    </tr>\n",
       "    <tr>\n",
       "      <th>88</th>\n",
       "      <td>I89</td>\n",
       "      <td>44.87195440813097</td>\n",
       "    </tr>\n",
       "    <tr>\n",
       "      <th>89</th>\n",
       "      <td>I90</td>\n",
       "      <td>39.052800165380354</td>\n",
       "    </tr>\n",
       "    <tr>\n",
       "      <th>90</th>\n",
       "      <td>I91</td>\n",
       "      <td>53.506787413743474</td>\n",
       "    </tr>\n",
       "    <tr>\n",
       "      <th>91</th>\n",
       "      <td>I92</td>\n",
       "      <td>30.366583584420173</td>\n",
       "    </tr>\n",
       "    <tr>\n",
       "      <th>92</th>\n",
       "      <td>I93</td>\n",
       "      <td>31.644532943734923</td>\n",
       "    </tr>\n",
       "    <tr>\n",
       "      <th>93</th>\n",
       "      <td>I94</td>\n",
       "      <td>38.59695806371754</td>\n",
       "    </tr>\n",
       "    <tr>\n",
       "      <th>94</th>\n",
       "      <td>I95</td>\n",
       "      <td>39.01926442130109</td>\n",
       "    </tr>\n",
       "    <tr>\n",
       "      <th>95</th>\n",
       "      <td>I96</td>\n",
       "      <td>42.402383240965115</td>\n",
       "    </tr>\n",
       "    <tr>\n",
       "      <th>96</th>\n",
       "      <td>I97</td>\n",
       "      <td>42.80048726440195</td>\n",
       "    </tr>\n",
       "    <tr>\n",
       "      <th>97</th>\n",
       "      <td>I98</td>\n",
       "      <td>37.109782398592074</td>\n",
       "    </tr>\n",
       "    <tr>\n",
       "      <th>98</th>\n",
       "      <td>I99</td>\n",
       "      <td>44.035311891054846</td>\n",
       "    </tr>\n",
       "    <tr>\n",
       "      <th>99</th>\n",
       "      <td>I100</td>\n",
       "      <td>41.44953439799783</td>\n",
       "    </tr>\n",
       "    <tr>\n",
       "      <th>100</th>\n",
       "      <td>I101</td>\n",
       "      <td>41.11901436349637</td>\n",
       "    </tr>\n",
       "    <tr>\n",
       "      <th>101</th>\n",
       "      <td>I102</td>\n",
       "      <td>45.888622055846305</td>\n",
       "    </tr>\n",
       "    <tr>\n",
       "      <th>102</th>\n",
       "      <td>I103</td>\n",
       "      <td>48.857514359580854</td>\n",
       "    </tr>\n",
       "    <tr>\n",
       "      <th>103</th>\n",
       "      <td>I104</td>\n",
       "      <td>48.5144315835521</td>\n",
       "    </tr>\n",
       "    <tr>\n",
       "      <th>104</th>\n",
       "      <td>I105</td>\n",
       "      <td>38.83849084804206</td>\n",
       "    </tr>\n",
       "  </tbody>\n",
       "</table>\n",
       "<p>105 rows × 2 columns</p>\n",
       "</div>"
      ],
      "text/plain": [
       "        0                   1\n",
       "0      I1  37.504949302655376\n",
       "1      I2    32.2765649387724\n",
       "2      I3   31.74542968992492\n",
       "3      I4   40.70513322362167\n",
       "4      I5    50.8160772768153\n",
       "5      I6   45.71957486090434\n",
       "6      I7  48.962719841127836\n",
       "7      I8   45.71098110400288\n",
       "8      I9   48.17893195119641\n",
       "9     I10  46.673284351052175\n",
       "10    I11    57.0832337954862\n",
       "11    I12   49.16972085833981\n",
       "12    I13  36.898074044476914\n",
       "13    I14   33.81924000520016\n",
       "14    I15  43.131099178337166\n",
       "15    I16  47.601939382050304\n",
       "16    I17    43.8889318742463\n",
       "17    I18     43.225412087558\n",
       "18    I19   39.57200690508435\n",
       "19    I20    41.6421013265699\n",
       "20    I21   39.74617138644858\n",
       "21    I22   45.88429525984756\n",
       "22    I23   31.82092763429752\n",
       "23    I24   33.70422996865318\n",
       "24    I25   43.11770718664968\n",
       "25    I26  47.661096759844106\n",
       "26    I27    48.6456106291422\n",
       "27    I28    50.8660454644126\n",
       "28    I29     39.996342659344\n",
       "29    I30  49.023494282559994\n",
       "..    ...                 ...\n",
       "75    I76   37.10034412699879\n",
       "76    I77  47.344317805631846\n",
       "77    I78  41.794537601779105\n",
       "78    I79   40.88854334152452\n",
       "79    I80  31.197684646924575\n",
       "80    I81   44.61904021359287\n",
       "81    I82   35.87999109022295\n",
       "82    I83   39.26274222723416\n",
       "83    I84  41.045282342789314\n",
       "84    I85  42.330996707766126\n",
       "85    I86  31.483483390763755\n",
       "86    I87  29.586571801107446\n",
       "87    I88  41.053896822075544\n",
       "88    I89   44.87195440813097\n",
       "89    I90  39.052800165380354\n",
       "90    I91  53.506787413743474\n",
       "91    I92  30.366583584420173\n",
       "92    I93  31.644532943734923\n",
       "93    I94   38.59695806371754\n",
       "94    I95   39.01926442130109\n",
       "95    I96  42.402383240965115\n",
       "96    I97   42.80048726440195\n",
       "97    I98  37.109782398592074\n",
       "98    I99  44.035311891054846\n",
       "99   I100   41.44953439799783\n",
       "100  I101   41.11901436349637\n",
       "101  I102  45.888622055846305\n",
       "102  I103  48.857514359580854\n",
       "103  I104    48.5144315835521\n",
       "104  I105   38.83849084804206\n",
       "\n",
       "[105 rows x 2 columns]"
      ]
     },
     "execution_count": 19,
     "metadata": {},
     "output_type": "execute_result"
    }
   ],
   "source": [
    "gwas.trait_formatter(trait_file_name='example_trait.txt')"
   ]
  },
  {
   "cell_type": "code",
   "execution_count": 20,
   "metadata": {
    "collapsed": true
   },
   "outputs": [],
   "source": [
    "sim.stat(example_pop, alleleFreq=sim.ALL_AVAIL)"
   ]
  },
  {
   "cell_type": "code",
   "execution_count": 21,
   "metadata": {
    "collapsed": true
   },
   "outputs": [],
   "source": [
    "allele_states = analyze.gather_allele_data(example_pop)"
   ]
  },
  {
   "cell_type": "code",
   "execution_count": 29,
   "metadata": {
    "collapsed": true
   },
   "outputs": [],
   "source": [
    "minor_alleles = np.array(allele_states[:, 3], dtype=np.int8)"
   ]
  },
  {
   "cell_type": "code",
   "execution_count": 35,
   "metadata": {
    "collapsed": true
   },
   "outputs": [],
   "source": [
    "segregating_minor_alleles = minor_alleles[segregating_loci]"
   ]
  },
  {
   "cell_type": "code",
   "execution_count": 36,
   "metadata": {
    "collapsed": true
   },
   "outputs": [],
   "source": [
    "ccm = gwas.calculate_count_matrix(segregating_minor_alleles, segregating_loci)"
   ]
  },
  {
   "cell_type": "code",
   "execution_count": 38,
   "metadata": {},
   "outputs": [
    {
     "data": {
      "text/plain": [
       "(105, 42837)"
      ]
     },
     "execution_count": 38,
     "metadata": {},
     "output_type": "execute_result"
    }
   ],
   "source": [
    "ccm.shape"
   ]
  },
  {
   "cell_type": "code",
   "execution_count": 317,
   "metadata": {},
   "outputs": [
    {
     "name": "stdout",
     "output_type": "stream",
     "text": [
      "[[1 1 1 ..., 1 1 1]\n",
      " [0 0 0 ..., 1 0 0]\n",
      " [1 0 0 ..., 1 0 0]\n",
      " ..., \n",
      " [0 1 0 ..., 2 1 2]\n",
      " [0 2 0 ..., 1 0 0]\n",
      " [0 0 0 ..., 1 1 0]]\n"
     ]
    }
   ],
   "source": [
    "print(ccm)"
   ]
  },
  {
   "cell_type": "code",
   "execution_count": null,
   "metadata": {
    "collapsed": true
   },
   "outputs": [],
   "source": []
  },
  {
   "cell_type": "code",
   "execution_count": 40,
   "metadata": {
    "collapsed": true
   },
   "outputs": [],
   "source": [
    "shift = np.apply_along_axis(np.mean, axis=1, arr=ccm)\n",
    "p_vector = np.divide(shift, 2)\n",
    "scale = np.sqrt(np.multiply(p_vector, (1-p_vector)))"
   ]
  },
  {
   "cell_type": "code",
   "execution_count": 43,
   "metadata": {
    "collapsed": true
   },
   "outputs": [],
   "source": [
    "shift_matrix = np.zeros((ccm.shape[0], ccm.shape[1]))\n",
    "scale_matrix = np.zeros((ccm.shape[0], ccm.shape[1]))"
   ]
  },
  {
   "cell_type": "code",
   "execution_count": 45,
   "metadata": {
    "collapsed": true
   },
   "outputs": [],
   "source": [
    "for i in range(42837):\n",
    "    shift_matrix[:, i] = shift\n",
    "    scale_matrix[:, i] = scale"
   ]
  },
  {
   "cell_type": "code",
   "execution_count": 58,
   "metadata": {},
   "outputs": [
    {
     "data": {
      "text/plain": [
       "(105, 42837)"
      ]
     },
     "execution_count": 58,
     "metadata": {},
     "output_type": "execute_result"
    }
   ],
   "source": [
    "ccm.shape"
   ]
  },
  {
   "cell_type": "code",
   "execution_count": null,
   "metadata": {
    "collapsed": true
   },
   "outputs": [],
   "source": []
  },
  {
   "cell_type": "code",
   "execution_count": 87,
   "metadata": {
    "collapsed": true
   },
   "outputs": [],
   "source": [
    "corrected_matrix = (ccm - shift_matrix)/scale_matrix\n",
    "# singular value decomposition using scipy linalg module\n",
    "s = linalg.svd(corrected_matrix, compute_uv=False, check_finite=False)"
   ]
  },
  {
   "cell_type": "code",
   "execution_count": 89,
   "metadata": {},
   "outputs": [
    {
     "data": {
      "text/plain": [
       "array([ 1443.83593,   985.55428,   728.16896,   679.60093,   618.2437 ,\n",
       "         532.4782 ,   465.58015,   437.75929,   399.27515,   373.38854,\n",
       "         349.36788,   346.0276 ,   336.1584 ,   334.58799,   331.89053,\n",
       "         326.486  ,   323.45468,   319.49672,   313.31786,   307.09202,\n",
       "         306.38246,   297.8251 ,   296.58476,   294.49568,   293.43124,\n",
       "         290.08975,   281.68802,   280.90928,   279.3363 ,   275.83053,\n",
       "         274.77253,   270.1265 ,   269.13951,   267.79877,   263.75742,\n",
       "         261.98142,   261.44743,   259.4777 ,   258.11526,   256.01914,\n",
       "         253.54783,   252.91525,   249.43858,   248.85473,   247.21952,\n",
       "         244.64417,   241.06522,   239.11959,   237.44958,   236.37641,\n",
       "         234.69801,   234.10778,   231.82163,   231.31942,   229.9256 ,\n",
       "         228.10331,   227.07792,   226.08737,   225.27356,   222.16924,\n",
       "         221.27317,   219.99582,   218.54394,   216.33351,   215.82817,\n",
       "         215.05244,   213.63928,   213.25249,   212.32354,   211.28754,\n",
       "         210.18906,   209.03552,   205.76207,   205.43988,   204.47367,\n",
       "         203.60911,   201.70751,   201.00804,   200.10641,   198.17635,\n",
       "         196.71389,   194.97207,   193.61353,   192.12902,   191.20706,\n",
       "         190.56539,   187.80756,   187.45454,   185.71575,   182.34957,\n",
       "         180.85363,   178.83382,   177.43339,   177.21321,   176.19227,\n",
       "         174.83003,   172.84177,   172.13973,   169.39772,   164.47168,\n",
       "         161.42731,   155.78802,   154.43248,   151.38731,   141.23762])"
      ]
     },
     "execution_count": 89,
     "metadata": {},
     "output_type": "execute_result"
    }
   ],
   "source": [
    "linalg.svdvals(corrected_matrix)"
   ]
  },
  {
   "cell_type": "code",
   "execution_count": 92,
   "metadata": {
    "collapsed": true
   },
   "outputs": [],
   "source": [
    "orthonormal = linalg.orth(corrected_matrix)"
   ]
  },
  {
   "cell_type": "code",
   "execution_count": 93,
   "metadata": {},
   "outputs": [
    {
     "data": {
      "text/plain": [
       "(105, 105)"
      ]
     },
     "execution_count": 93,
     "metadata": {},
     "output_type": "execute_result"
    }
   ],
   "source": [
    "orthonormal.shape"
   ]
  },
  {
   "cell_type": "code",
   "execution_count": 94,
   "metadata": {},
   "outputs": [
    {
     "data": {
      "text/plain": [
       "array([-0.10837, -0.0774 , -0.11713, -0.09912, -0.07769, -0.07381,\n",
       "       -0.11519, -0.08334, -0.10273, -0.11686, -0.07545, -0.11555,\n",
       "       -0.0779 , -0.08523, -0.11697, -0.07348, -0.0746 , -0.0921 ,\n",
       "       -0.07395, -0.1134 , -0.11777, -0.11701, -0.07583, -0.11716,\n",
       "       -0.119  , -0.07226, -0.07313, -0.11559, -0.07353, -0.11075,\n",
       "       -0.08314, -0.11586, -0.11607, -0.08095, -0.11326, -0.09878,\n",
       "       -0.11836, -0.11212, -0.07466, -0.08264, -0.07165, -0.08299,\n",
       "       -0.08307, -0.11471, -0.11791, -0.11531, -0.11509, -0.07397,\n",
       "       -0.09485, -0.08092, -0.08257, -0.11611, -0.083  , -0.11833,\n",
       "       -0.08178, -0.08164, -0.08106, -0.11821, -0.11706, -0.08269,\n",
       "       -0.116  , -0.07958, -0.11367, -0.12068, -0.11281, -0.07617,\n",
       "       -0.09353, -0.11773, -0.08083, -0.07541, -0.08285, -0.07389,\n",
       "       -0.08012, -0.11601, -0.09273, -0.11622, -0.09857, -0.11443,\n",
       "       -0.07271, -0.1174 , -0.07578, -0.08251, -0.11319, -0.12039,\n",
       "       -0.11421, -0.0816 , -0.11626, -0.11406, -0.11167, -0.08207,\n",
       "       -0.07152, -0.11826, -0.08217, -0.07296, -0.0795 , -0.08195,\n",
       "       -0.0784 , -0.11707, -0.09081, -0.08168, -0.08189, -0.09637,\n",
       "       -0.09296, -0.07501, -0.11713])"
      ]
     },
     "execution_count": 94,
     "metadata": {},
     "output_type": "execute_result"
    }
   ],
   "source": [
    "orthonormal[:, 0]"
   ]
  },
  {
   "cell_type": "code",
   "execution_count": 96,
   "metadata": {},
   "outputs": [
    {
     "data": {
      "text/plain": [
       "array([-0.05967,  0.08603, -0.09201,  0.06214,  0.08708,  0.07107,\n",
       "       -0.07818,  0.11354, -0.01028, -0.07496,  0.09255, -0.08606,\n",
       "        0.09317,  0.1465 , -0.08518,  0.08024,  0.07397,  0.00542,\n",
       "        0.07425, -0.08027, -0.1012 , -0.08681,  0.08481, -0.08498,\n",
       "       -0.09133,  0.07599,  0.0785 , -0.08546,  0.10415, -0.06604,\n",
       "        0.18051, -0.08426, -0.08456,  0.08627, -0.0831 ,  0.0014 ,\n",
       "       -0.09111, -0.07485,  0.06854,  0.10326,  0.0841 ,  0.10081,\n",
       "        0.17584, -0.08778, -0.08626, -0.08063, -0.08175,  0.07535,\n",
       "       -0.01109,  0.08698,  0.09612, -0.08217,  0.18397, -0.09498,\n",
       "        0.17281,  0.13128,  0.09532, -0.09169, -0.09128,  0.18845,\n",
       "       -0.09174,  0.16245, -0.07441, -0.09746, -0.08657,  0.08161,\n",
       "        0.02007, -0.09412,  0.16888,  0.07098,  0.11734,  0.08925,\n",
       "        0.09215, -0.08869, -0.01877, -0.09127,  0.00282, -0.08408,\n",
       "        0.0894 , -0.0825 ,  0.0822 ,  0.1489 , -0.08047, -0.09765,\n",
       "       -0.09056,  0.10827, -0.09572, -0.0877 , -0.07183,  0.09519,\n",
       "        0.07313, -0.08825,  0.10557,  0.07085,  0.18393,  0.1795 ,\n",
       "        0.17145, -0.09277, -0.01495,  0.09011,  0.11549, -0.00118,\n",
       "       -0.00239,  0.07659, -0.08485])"
      ]
     },
     "execution_count": 96,
     "metadata": {},
     "output_type": "execute_result"
    }
   ],
   "source": [
    "orthonormal[:, 1]"
   ]
  },
  {
   "cell_type": "code",
   "execution_count": null,
   "metadata": {
    "collapsed": true
   },
   "outputs": [],
   "source": [
    "from bokeh import "
   ]
  },
  {
   "cell_type": "code",
   "execution_count": 90,
   "metadata": {},
   "outputs": [
    {
     "data": {
      "text/plain": [
       "array([[ 1443.83593,     0.     ,     0.     , ...,     0.     ,\n",
       "            0.     ,     0.     ],\n",
       "       [    0.     ,   985.55428,     0.     , ...,     0.     ,\n",
       "            0.     ,     0.     ],\n",
       "       [    0.     ,     0.     ,   728.16896, ...,     0.     ,\n",
       "            0.     ,     0.     ],\n",
       "       ..., \n",
       "       [    0.     ,     0.     ,     0.     , ...,     0.     ,\n",
       "            0.     ,     0.     ],\n",
       "       [    0.     ,     0.     ,     0.     , ...,     0.     ,\n",
       "            0.     ,     0.     ],\n",
       "       [    0.     ,     0.     ,     0.     , ...,     0.     ,\n",
       "            0.     ,     0.     ]])"
      ]
     },
     "execution_count": 90,
     "metadata": {},
     "output_type": "execute_result"
    }
   ],
   "source": [
    "linalg.diagsvd(linalg.svdvals(corrected_matrix), 42837, 105)"
   ]
  },
  {
   "cell_type": "code",
   "execution_count": 60,
   "metadata": {
    "collapsed": true
   },
   "outputs": [],
   "source": [
    "sigma_matrix = linalg.diagsvd(s, ccm.shape[1], ccm.shape[0])"
   ]
  },
  {
   "cell_type": "code",
   "execution_count": 99,
   "metadata": {
    "collapsed": true
   },
   "outputs": [],
   "source": [
    "svd_result = np.linalg.svd(corrected_matrix, full_matrices=False)"
   ]
  },
  {
   "cell_type": "code",
   "execution_count": 102,
   "metadata": {},
   "outputs": [
    {
     "data": {
      "text/plain": [
       "(105, 105)"
      ]
     },
     "execution_count": 102,
     "metadata": {},
     "output_type": "execute_result"
    }
   ],
   "source": [
    "svd_result[0].shape"
   ]
  },
  {
   "cell_type": "code",
   "execution_count": 104,
   "metadata": {},
   "outputs": [
    {
     "data": {
      "text/plain": [
       "(105, 42837)"
      ]
     },
     "execution_count": 104,
     "metadata": {},
     "output_type": "execute_result"
    }
   ],
   "source": [
    "svd_result[2].shape"
   ]
  },
  {
   "cell_type": "code",
   "execution_count": 106,
   "metadata": {
    "collapsed": true
   },
   "outputs": [],
   "source": [
    "eigenvectors = svd_result[2]"
   ]
  },
  {
   "cell_type": "code",
   "execution_count": 111,
   "metadata": {},
   "outputs": [
    {
     "data": {
      "text/plain": [
       "array([-0.00298,  0.00165,  0.0058 , ..., -0.00637, -0.00044, -0.00015])"
      ]
     },
     "execution_count": 111,
     "metadata": {},
     "output_type": "execute_result"
    }
   ],
   "source": [
    "eigenvectors[0]"
   ]
  },
  {
   "cell_type": "code",
   "execution_count": 112,
   "metadata": {
    "collapsed": true
   },
   "outputs": [],
   "source": [
    "v = svd_result[2]"
   ]
  },
  {
   "cell_type": "code",
   "execution_count": 113,
   "metadata": {
    "collapsed": true
   },
   "outputs": [],
   "source": [
    "u = svd_result[0]"
   ]
  },
  {
   "cell_type": "markdown",
   "metadata": {},
   "source": [
    "The rows of v are the eigenvectors of a^T * a. The columns of u are the eigenvectors of a * a^T. For row i in v and column i in u the corresponding eigenvalue is s[i] ** 2"
   ]
  },
  {
   "cell_type": "code",
   "execution_count": 123,
   "metadata": {
    "collapsed": true
   },
   "outputs": [],
   "source": [
    "eigenvalues = np.square(svd_result[1])"
   ]
  },
  {
   "cell_type": "code",
   "execution_count": 126,
   "metadata": {},
   "outputs": [
    {
     "data": {
      "text/plain": [
       "array([ 1443.83593,   985.55428,   728.16896,   679.60093,   618.2437 ,\n",
       "         532.4782 ,   465.58015,   437.75929,   399.27515,   373.38854,\n",
       "         349.36788,   346.0276 ,   336.1584 ,   334.58799,   331.89053,\n",
       "         326.486  ,   323.45468,   319.49672,   313.31786,   307.09202,\n",
       "         306.38246,   297.8251 ,   296.58476,   294.49568,   293.43124,\n",
       "         290.08975,   281.68802,   280.90928,   279.3363 ,   275.83053,\n",
       "         274.77253,   270.1265 ,   269.13951,   267.79877,   263.75742,\n",
       "         261.98142,   261.44743,   259.4777 ,   258.11526,   256.01914,\n",
       "         253.54783,   252.91525,   249.43858,   248.85473,   247.21952,\n",
       "         244.64417,   241.06522,   239.11959,   237.44958,   236.37641,\n",
       "         234.69801,   234.10778,   231.82163,   231.31942,   229.9256 ,\n",
       "         228.10331,   227.07792,   226.08737,   225.27356,   222.16924,\n",
       "         221.27317,   219.99582,   218.54394,   216.33351,   215.82817,\n",
       "         215.05244,   213.63928,   213.25249,   212.32354,   211.28754,\n",
       "         210.18906,   209.03552,   205.76207,   205.43988,   204.47367,\n",
       "         203.60911,   201.70751,   201.00804,   200.10641,   198.17635,\n",
       "         196.71389,   194.97207,   193.61353,   192.12902,   191.20706,\n",
       "         190.56539,   187.80756,   187.45454,   185.71575,   182.34957,\n",
       "         180.85363,   178.83382,   177.43339,   177.21321,   176.19227,\n",
       "         174.83003,   172.84177,   172.13973,   169.39772,   164.47168,\n",
       "         161.42731,   155.78802,   154.43248,   151.38731,   141.23762])"
      ]
     },
     "execution_count": 126,
     "metadata": {},
     "output_type": "execute_result"
    }
   ],
   "source": [
    "svd_result[1]"
   ]
  },
  {
   "cell_type": "code",
   "execution_count": null,
   "metadata": {
    "collapsed": true
   },
   "outputs": [],
   "source": []
  },
  {
   "cell_type": "code",
   "execution_count": 118,
   "metadata": {},
   "outputs": [
    {
     "data": {
      "text/plain": [
       "array([ -8540.81186,  11142.10935,  -7172.1559 , ...,  11507.09766,\n",
       "          130.50313,   6139.55542])"
      ]
     },
     "execution_count": 118,
     "metadata": {},
     "output_type": "execute_result"
    }
   ],
   "source": [
    "eigenvalues[0]*eigenvectors[1]"
   ]
  },
  {
   "cell_type": "code",
   "execution_count": 121,
   "metadata": {
    "collapsed": true
   },
   "outputs": [],
   "source": [
    "eigenvalues[0] = np.sum(eigenvalues)"
   ]
  },
  {
   "cell_type": "code",
   "execution_count": 125,
   "metadata": {},
   "outputs": [
    {
     "data": {
      "text/plain": [
       "array([ 2084662.19109,   971317.23948,   530230.03572,   461857.4293 ,\n",
       "         382225.26658,   283533.02845,   216764.8777 ,   191633.19569,\n",
       "         159420.6422 ,   139419.00335,   122057.91378,   119735.10203,\n",
       "         113002.46769,   111949.12298,   110151.32113,   106593.11024,\n",
       "         104622.92863,   102078.15311,    98168.08241,    94305.51099,\n",
       "          93870.21186,    88699.78741,    87962.51742,    86727.70845,\n",
       "          86101.89449,    84152.06235,    79348.1393 ,    78910.02576,\n",
       "          78028.76924,    76082.47938,    75499.94084,    72968.32653,\n",
       "          72436.07671,    71716.17905,    69567.97644,    68634.26335,\n",
       "          68354.76061,    67328.67536,    66623.48993,    65545.79788,\n",
       "          64286.50402,    63966.12205,    62219.60447,    61928.67822,\n",
       "          61117.49069,    59850.7706 ,    58112.44052,    57178.17723,\n",
       "          56382.30311,    55873.80499,    55083.15774,    54806.45485,\n",
       "          53741.26854,    53508.6746 ,    52865.78302,    52031.11819,\n",
       "          51564.38373,    51115.49713,    50748.17813,    49359.16945,\n",
       "          48961.81621,    48398.15987,    47761.45399,    46800.18777,\n",
       "          46581.79913,    46247.55371,    45641.74313,    45476.62583,\n",
       "          45081.28614,    44642.42563,    44179.43905,    43695.84795,\n",
       "          42338.02817,    42205.54628,    41809.48323,    41456.66975,\n",
       "          40685.91907,    40404.23114,    40042.57588,    39273.86386,\n",
       "          38696.3535 ,    38014.10812,    37486.1996 ,    36913.55959,\n",
       "          36560.14023,    36315.16926,    35271.67936,    35139.20502,\n",
       "          34490.33932,    33251.36674,    32708.03601,    31981.53471,\n",
       "          31482.60664,    31404.52266,    31043.71475,    30565.53911,\n",
       "          29874.27627,    29632.08516,    28695.58809,    27050.93248,\n",
       "          26058.77689,    24269.90719,    23849.3901 ,    22918.11614,\n",
       "          19948.06604])"
      ]
     },
     "execution_count": 125,
     "metadata": {},
     "output_type": "execute_result"
    }
   ],
   "source": [
    "eigenvalues"
   ]
  },
  {
   "cell_type": "code",
   "execution_count": null,
   "metadata": {
    "collapsed": true
   },
   "outputs": [],
   "source": []
  },
  {
   "cell_type": "code",
   "execution_count": 63,
   "metadata": {},
   "outputs": [
    {
     "data": {
      "text/plain": [
       "(42837, 105)"
      ]
     },
     "execution_count": 63,
     "metadata": {},
     "output_type": "execute_result"
    }
   ],
   "source": [
    "sigma_matrix.shape"
   ]
  },
  {
   "cell_type": "code",
   "execution_count": 72,
   "metadata": {},
   "outputs": [
    {
     "data": {
      "text/plain": [
       "array([ 0.,  0.,  0.,  0.,  0.,  0.,  0.,  0.,  0.,  0.,  0.,  0.,  0.,\n",
       "        0.,  0.,  0.,  0.,  0.,  0.,  0.,  0.,  0.,  0.,  0.,  0.,  0.,\n",
       "        0.,  0.,  0.,  0.,  0.,  0.,  0.,  0.,  0.,  0.,  0.,  0.,  0.,\n",
       "        0.,  0.,  0.,  0.,  0.,  0.,  0.,  0.,  0.,  0.,  0.,  0.,  0.,\n",
       "        0.,  0.,  0.,  0.,  0.,  0.,  0.,  0.,  0.,  0.,  0.,  0.,  0.,\n",
       "        0.,  0.,  0.,  0.,  0.,  0.,  0.,  0.,  0.,  0.,  0.,  0.,  0.,\n",
       "        0.,  0.,  0.,  0.,  0.,  0.,  0.,  0.,  0.,  0.,  0.,  0.,  0.,\n",
       "        0.,  0.,  0.,  0.,  0.,  0.,  0.,  0.,  0.,  0.,  0.,  0.,  0.,  0.])"
      ]
     },
     "execution_count": 72,
     "metadata": {},
     "output_type": "execute_result"
    }
   ],
   "source": []
  },
  {
   "cell_type": "code",
   "execution_count": null,
   "metadata": {
    "collapsed": true
   },
   "outputs": [],
   "source": []
  },
  {
   "cell_type": "code",
   "execution_count": 54,
   "metadata": {},
   "outputs": [
    {
     "data": {
      "text/plain": [
       "array([ 1443.83593,   985.55428,   728.16896,   679.60093,   618.2437 ,\n",
       "         532.4782 ,   465.58015,   437.75929,   399.27515,   373.38854,\n",
       "         349.36788,   346.0276 ,   336.1584 ,   334.58799,   331.89053,\n",
       "         326.486  ,   323.45468,   319.49672,   313.31786,   307.09202,\n",
       "         306.38246,   297.8251 ,   296.58476,   294.49568,   293.43124,\n",
       "         290.08975,   281.68802,   280.90928,   279.3363 ,   275.83053,\n",
       "         274.77253,   270.1265 ,   269.13951,   267.79877,   263.75742,\n",
       "         261.98142,   261.44743,   259.4777 ,   258.11526,   256.01914,\n",
       "         253.54783,   252.91525,   249.43858,   248.85473,   247.21952,\n",
       "         244.64417,   241.06522,   239.11959,   237.44958,   236.37641,\n",
       "         234.69801,   234.10778,   231.82163,   231.31942,   229.9256 ,\n",
       "         228.10331,   227.07792,   226.08737,   225.27356,   222.16924,\n",
       "         221.27317,   219.99582,   218.54394,   216.33351,   215.82817,\n",
       "         215.05244,   213.63928,   213.25249,   212.32354,   211.28754,\n",
       "         210.18906,   209.03552,   205.76207,   205.43988,   204.47367,\n",
       "         203.60911,   201.70751,   201.00804,   200.10641,   198.17635,\n",
       "         196.71389,   194.97207,   193.61353,   192.12902,   191.20706,\n",
       "         190.56539,   187.80756,   187.45454,   185.71575,   182.34957,\n",
       "         180.85363,   178.83382,   177.43339,   177.21321,   176.19227,\n",
       "         174.83003,   172.84177,   172.13973,   169.39772,   164.47168,\n",
       "         161.42731,   155.78802,   154.43248,   151.38731,   141.23762])"
      ]
     },
     "execution_count": 54,
     "metadata": {},
     "output_type": "execute_result"
    }
   ],
   "source": [
    "eigenvectors"
   ]
  },
  {
   "cell_type": "code",
   "execution_count": null,
   "metadata": {
    "collapsed": true
   },
   "outputs": [],
   "source": [
    "sum_of_eigenvalues = np.sum(eigenvalues)\n",
    "fraction_of_variance = np.divide(eigenvalues, sum_of_eigenvalues)\n",
    "eigen_data = {'vectors': eigenvectors, 'values': eigenvalues,\n",
    "                  'fraction_variance': fraction_of_variance}"
   ]
  },
  {
   "cell_type": "code",
   "execution_count": null,
   "metadata": {
    "collapsed": true
   },
   "outputs": [],
   "source": [
    "linalg.svd()"
   ]
  },
  {
   "cell_type": "code",
   "execution_count": 135,
   "metadata": {},
   "outputs": [
    {
     "data": {
      "text/plain": [
       "array([[ 1.29963,  1.29963,  1.29963, ...,  1.29963,  1.29963,  1.29963],\n",
       "       [-1.19916, -1.19916, -1.19916, ...,  1.06826, -1.19916, -1.19916],\n",
       "       [ 1.32883, -1.07238, -1.07238, ...,  1.32883, -1.07238, -1.07238],\n",
       "       ..., \n",
       "       [-1.17233,  1.11984, -1.17233, ...,  3.41201,  1.11984,  3.41201],\n",
       "       [-1.23525,  3.23821, -1.23525, ...,  1.00148, -1.23525, -1.23525],\n",
       "       [-1.08349, -1.08349, -1.08349, ...,  1.30415,  1.30415, -1.08349]])"
      ]
     },
     "execution_count": 135,
     "metadata": {},
     "output_type": "execute_result"
    }
   ],
   "source": [
    "corrected_matrix"
   ]
  },
  {
   "cell_type": "code",
   "execution_count": 138,
   "metadata": {
    "collapsed": true
   },
   "outputs": [],
   "source": [
    "p = figure()"
   ]
  },
  {
   "cell_type": "code",
   "execution_count": 143,
   "metadata": {},
   "outputs": [
    {
     "data": {
      "text/plain": [
       "(105, 42837)"
      ]
     },
     "execution_count": 143,
     "metadata": {},
     "output_type": "execute_result"
    }
   ],
   "source": [
    "corrected_matrix.shape"
   ]
  },
  {
   "cell_type": "code",
   "execution_count": null,
   "metadata": {
    "collapsed": true
   },
   "outputs": [],
   "source": []
  },
  {
   "cell_type": "code",
   "execution_count": 152,
   "metadata": {},
   "outputs": [
    {
     "data": {
      "text/plain": [
       "42837"
      ]
     },
     "execution_count": 152,
     "metadata": {},
     "output_type": "execute_result"
    }
   ],
   "source": [
    "len(example_pop.dvars().segSites)"
   ]
  },
  {
   "cell_type": "code",
   "execution_count": 155,
   "metadata": {
    "collapsed": true
   },
   "outputs": [],
   "source": [
    "ccm = np.array(ccm, dtype=np.int8)"
   ]
  },
  {
   "cell_type": "code",
   "execution_count": 164,
   "metadata": {},
   "outputs": [
    {
     "data": {
      "text/plain": [
       "array([[1, 1, 1, ..., 1, 1, 1],\n",
       "       [0, 0, 0, ..., 1, 0, 0],\n",
       "       [1, 0, 0, ..., 1, 0, 0],\n",
       "       ..., \n",
       "       [0, 1, 0, ..., 2, 1, 2],\n",
       "       [0, 2, 0, ..., 1, 0, 0],\n",
       "       [0, 0, 0, ..., 1, 1, 0]], dtype=int8)"
      ]
     },
     "execution_count": 164,
     "metadata": {},
     "output_type": "execute_result"
    }
   ],
   "source": [
    "ccm"
   ]
  },
  {
   "cell_type": "code",
   "execution_count": 161,
   "metadata": {
    "collapsed": true
   },
   "outputs": [],
   "source": [
    "cmatrix = np.zeros((105, 42837), dtype=np.int8)"
   ]
  },
  {
   "cell_type": "code",
   "execution_count": 174,
   "metadata": {
    "collapsed": true
   },
   "outputs": [],
   "source": [
    "for i, ind in enumerate(example_pop.individuals()):\n",
    "    ageno = np.array(ind.genotype(ploidy=0), dtype=np.int8)[segregating_loci]\n",
    "    bgeno = np.array(ind.genotype(ploidy=1), dtype=np.int8)[segregating_loci]\n",
    "    acomps = np.array(np.equal(segregating_minor_alleles, ageno), dtype=np.int8)\n",
    "    bcomps = np.array(np.equal(segregating_minor_alleles, bgeno), dtype=np.int8)\n",
    "    comp_count = acomps + bcomps\n",
    "    cmatrix[i, :] = comp_count"
   ]
  },
  {
   "cell_type": "code",
   "execution_count": 193,
   "metadata": {
    "collapsed": true
   },
   "outputs": [],
   "source": [
    "column_means = np.apply_along_axis(np.mean, axis=0, arr=cmatrix)"
   ]
  },
  {
   "cell_type": "code",
   "execution_count": 197,
   "metadata": {},
   "outputs": [
    {
     "name": "stdout",
     "output_type": "stream",
     "text": [
      "[ 0.6381   0.4381   0.12381 ...,  0.93333  0.52381  0.53333]\n"
     ]
    }
   ],
   "source": [
    "print(column_means)"
   ]
  },
  {
   "cell_type": "code",
   "execution_count": 234,
   "metadata": {},
   "outputs": [
    {
     "data": {
      "text/plain": [
       "array([[1, 1, 1, ..., 1, 1, 1],\n",
       "       [0, 0, 0, ..., 1, 0, 0],\n",
       "       [1, 0, 0, ..., 1, 0, 0],\n",
       "       ..., \n",
       "       [0, 1, 0, ..., 2, 1, 2],\n",
       "       [0, 2, 0, ..., 1, 0, 0],\n",
       "       [0, 0, 0, ..., 1, 1, 0]], dtype=int8)"
      ]
     },
     "execution_count": 234,
     "metadata": {},
     "output_type": "execute_result"
    }
   ],
   "source": [
    "cmatrix"
   ]
  },
  {
   "cell_type": "code",
   "execution_count": 229,
   "metadata": {
    "collapsed": true
   },
   "outputs": [],
   "source": [
    "shifted = np.array([cmatrix[:, i] - column_means[i] for i in range(42837)]).T"
   ]
  },
  {
   "cell_type": "code",
   "execution_count": 235,
   "metadata": {},
   "outputs": [
    {
     "name": "stdout",
     "output_type": "stream",
     "text": [
      "[[ 0.3619   0.5619   0.87619 ...,  0.06667  0.47619  0.46667]\n",
      " [-0.6381  -0.4381  -0.12381 ...,  0.06667 -0.52381 -0.53333]\n",
      " [ 0.3619  -0.4381  -0.12381 ...,  0.06667 -0.52381 -0.53333]\n",
      " ..., \n",
      " [-0.6381   0.5619  -0.12381 ...,  1.06667  0.47619  1.46667]\n",
      " [-0.6381   1.5619  -0.12381 ...,  0.06667 -0.52381 -0.53333]\n",
      " [-0.6381  -0.4381  -0.12381 ...,  0.06667  0.47619 -0.53333]]\n"
     ]
    }
   ],
   "source": [
    "print(shifted)"
   ]
  },
  {
   "cell_type": "code",
   "execution_count": 237,
   "metadata": {
    "collapsed": true
   },
   "outputs": [],
   "source": [
    "P = column_means/2"
   ]
  },
  {
   "cell_type": "code",
   "execution_count": 244,
   "metadata": {
    "collapsed": true
   },
   "outputs": [],
   "source": [
    "scale = np.sqrt(P*(1-P))"
   ]
  },
  {
   "cell_type": "code",
   "execution_count": 256,
   "metadata": {
    "collapsed": true
   },
   "outputs": [],
   "source": [
    "M = np.matrix(np.array([shifted[:, i] / scale[i] for i in range(42837)]).T)"
   ]
  },
  {
   "cell_type": "code",
   "execution_count": 257,
   "metadata": {},
   "outputs": [
    {
     "name": "stdout",
     "output_type": "stream",
     "text": [
      "[[ 0.77644  1.35857  3.63591 ...,  0.13363  1.08306  1.05529]\n",
      " [-1.36899 -1.05922 -0.51377 ...,  0.13363 -1.19137 -1.20605]\n",
      " [ 0.77644 -1.05922 -0.51377 ...,  0.13363 -1.19137 -1.20605]\n",
      " ..., \n",
      " [-1.36899  1.35857 -0.51377 ...,  2.13809  1.08306  3.31662]\n",
      " [-1.36899  3.77636 -0.51377 ...,  0.13363 -1.19137 -1.20605]\n",
      " [-1.36899 -1.05922 -0.51377 ...,  0.13363  1.08306 -1.20605]]\n"
     ]
    }
   ],
   "source": [
    "print(M)"
   ]
  },
  {
   "cell_type": "code",
   "execution_count": 254,
   "metadata": {},
   "outputs": [
    {
     "data": {
      "text/plain": [
       "array([[ 0.00002,  0.00003,  0.00008, ...,  0.     ,  0.00003,  0.00002],\n",
       "       [-0.00003, -0.00002, -0.00001, ...,  0.     , -0.00003, -0.00003],\n",
       "       [ 0.00002, -0.00002, -0.00001, ...,  0.     , -0.00003, -0.00003],\n",
       "       ..., \n",
       "       [-0.00003,  0.00003, -0.00001, ...,  0.00005,  0.00003,  0.00008],\n",
       "       [-0.00003,  0.00009, -0.00001, ...,  0.     , -0.00003, -0.00003],\n",
       "       [-0.00003, -0.00002, -0.00001, ...,  0.     ,  0.00003, -0.00003]])"
      ]
     },
     "execution_count": 254,
     "metadata": {},
     "output_type": "execute_result"
    }
   ],
   "source": [
    "(1/42837)*M"
   ]
  },
  {
   "cell_type": "code",
   "execution_count": 259,
   "metadata": {
    "collapsed": true
   },
   "outputs": [],
   "source": [
    "X = (1/42837)*(M * M.T)"
   ]
  },
  {
   "cell_type": "code",
   "execution_count": 262,
   "metadata": {},
   "outputs": [
    {
     "name": "stdout",
     "output_type": "stream",
     "text": [
      "[[ 2.31946 -0.23581  0.01629 ..., -0.22222 -0.15755  0.11152]\n",
      " [-0.23581  2.86221 -0.24749 ..., -0.08434  0.17242 -0.21032]\n",
      " [ 0.01629 -0.24749  1.52916 ..., -0.01163 -0.23874  0.17398]\n",
      " ..., \n",
      " [-0.22222 -0.08434 -0.01163 ...,  2.15091  0.22036  0.02144]\n",
      " [-0.15755  0.17242 -0.23874 ...,  0.22036  2.70727 -0.17811]\n",
      " [ 0.11152 -0.21032  0.17398 ...,  0.02144 -0.17811  1.55631]]\n"
     ]
    }
   ],
   "source": [
    "print(X)"
   ]
  },
  {
   "cell_type": "code",
   "execution_count": 286,
   "metadata": {
    "collapsed": true
   },
   "outputs": [],
   "source": [
    "eigendata = linalg.eig(X)"
   ]
  },
  {
   "cell_type": "code",
   "execution_count": 292,
   "metadata": {},
   "outputs": [
    {
     "name": "stderr",
     "output_type": "stream",
     "text": [
      "/home/vakanas/anaconda43/lib/python3.6/site-packages/ipykernel_launcher.py:1: ComplexWarning: Casting complex values to real discards the imaginary part\n",
      "  \"\"\"Entry point for launching an IPython kernel.\n"
     ]
    }
   ],
   "source": [
    "eigenvalues = np.array(eigendata[0], dtype=np.float)"
   ]
  },
  {
   "cell_type": "code",
   "execution_count": 294,
   "metadata": {
    "collapsed": true
   },
   "outputs": [],
   "source": [
    "eigenvectors = np.array(eigendata[1], dtype=np.float)"
   ]
  },
  {
   "cell_type": "code",
   "execution_count": 295,
   "metadata": {},
   "outputs": [
    {
     "name": "stdout",
     "output_type": "stream",
     "text": [
      "[[-0.08314 -0.0391  -0.035   ..., -0.01993  0.00391 -0.00073]\n",
      " [ 0.08093  0.15168 -0.20354 ...,  0.02106  0.08078  0.10215]\n",
      " [-0.1107  -0.01949  0.00632 ..., -0.08702  0.0631  -0.05064]\n",
      " ..., \n",
      " [-0.01524  0.028    0.00578 ..., -0.12245 -0.03194 -0.12669]\n",
      " [ 0.07456  0.08529 -0.06012 ...,  0.02345 -0.04345 -0.02508]\n",
      " [-0.10475 -0.01612  0.00005 ..., -0.07645 -0.05062  0.0532 ]]\n"
     ]
    }
   ],
   "source": [
    "print(eigenvectors)"
   ]
  },
  {
   "cell_type": "code",
   "execution_count": 296,
   "metadata": {},
   "outputs": [
    {
     "name": "stdout",
     "output_type": "stream",
     "text": [
      "[ 24.35496  14.43709  10.95      9.87834   8.96032   5.66113   5.13832\n",
      "   4.69216   3.68163   3.48883   3.30212   0.        3.14576   3.06948\n",
      "   2.95014   2.93696   2.82475   2.68146   2.64672   2.56109   2.5032\n",
      "   2.43017   2.44561   0.45029   2.33185   2.26826   2.22576   2.20675\n",
      "   0.52016   0.53806   0.55489   2.14117   0.59063   0.61377   0.65783\n",
      "   2.12336   2.09859   2.06955   2.02005   2.00959   0.69339   1.99597\n",
      "   0.71133   0.73246   1.93089   0.75211   1.90489   0.76822   1.89395\n",
      "   1.86385   1.82935   0.80614   0.82226   0.81851   0.85179   0.86758\n",
      "   1.78954   1.76452   0.89322   1.74747   1.71413   0.88218   0.91721\n",
      "   0.93122   0.93741   0.95435   1.67932   1.65778   0.97081   1.01248\n",
      "   1.64478   1.02182   1.60899   1.04379   1.08803   1.07039   1.06256\n",
      "   1.16961   1.5986    1.13442   1.57835   1.19701   1.20852   1.13875\n",
      "   1.56733   1.24321   1.57096   1.49243   1.5277    1.25801   1.27303\n",
      "   1.44836   1.45728   1.41486   1.54286   1.31309   1.3893    1.36034\n",
      "   1.4634    1.37116   1.30155   1.03504   1.29898   1.33386   1.37869]\n"
     ]
    }
   ],
   "source": [
    "print(eigenvalues)"
   ]
  },
  {
   "cell_type": "code",
   "execution_count": null,
   "metadata": {
    "collapsed": true
   },
   "outputs": [],
   "source": []
  },
  {
   "cell_type": "code",
   "execution_count": 288,
   "metadata": {},
   "outputs": [
    {
     "data": {
      "text/plain": [
       "array([ 24.35496+0.j,  14.43709+0.j,  10.95000+0.j,   9.87834+0.j,\n",
       "         8.96032+0.j,   5.66113+0.j,   5.13832+0.j,   4.69216+0.j,\n",
       "         3.68163+0.j,   3.48883+0.j,   3.30212+0.j,   0.00000+0.j,\n",
       "         3.14576+0.j,   3.06948+0.j,   2.95014+0.j,   2.93696+0.j,\n",
       "         2.82475+0.j,   2.68146+0.j,   2.64672+0.j,   2.56109+0.j,\n",
       "         2.50320+0.j,   2.43017+0.j,   2.44561+0.j,   0.45029+0.j,\n",
       "         2.33185+0.j,   2.26826+0.j,   2.22576+0.j,   2.20675+0.j,\n",
       "         0.52016+0.j,   0.53806+0.j,   0.55489+0.j,   2.14117+0.j,\n",
       "         0.59063+0.j,   0.61377+0.j,   0.65783+0.j,   2.12336+0.j,\n",
       "         2.09859+0.j,   2.06955+0.j,   2.02005+0.j,   2.00959+0.j,\n",
       "         0.69339+0.j,   1.99597+0.j,   0.71133+0.j,   0.73246+0.j,\n",
       "         1.93089+0.j,   0.75211+0.j,   1.90489+0.j,   0.76822+0.j,\n",
       "         1.89395+0.j,   1.86385+0.j,   1.82935+0.j,   0.80614+0.j,\n",
       "         0.82226+0.j,   0.81851+0.j,   0.85179+0.j,   0.86758+0.j,\n",
       "         1.78954+0.j,   1.76452+0.j,   0.89322+0.j,   1.74747+0.j,\n",
       "         1.71413+0.j,   0.88218+0.j,   0.91721+0.j,   0.93122+0.j,\n",
       "         0.93741+0.j,   0.95435+0.j,   1.67932+0.j,   1.65778+0.j,\n",
       "         0.97081+0.j,   1.01248+0.j,   1.64478+0.j,   1.02182+0.j,\n",
       "         1.60899+0.j,   1.04379+0.j,   1.08803+0.j,   1.07039+0.j,\n",
       "         1.06256+0.j,   1.16961+0.j,   1.59860+0.j,   1.13442+0.j,\n",
       "         1.57835+0.j,   1.19701+0.j,   1.20852+0.j,   1.13875+0.j,\n",
       "         1.56733+0.j,   1.24321+0.j,   1.57096+0.j,   1.49243+0.j,\n",
       "         1.52770+0.j,   1.25801+0.j,   1.27303+0.j,   1.44836+0.j,\n",
       "         1.45728+0.j,   1.41486+0.j,   1.54286+0.j,   1.31309+0.j,\n",
       "         1.38930+0.j,   1.36034+0.j,   1.46340+0.j,   1.37116+0.j,\n",
       "         1.30155+0.j,   1.03504+0.j,   1.29898+0.j,   1.33386+0.j,\n",
       "         1.37869+0.j])"
      ]
     },
     "execution_count": 288,
     "metadata": {},
     "output_type": "execute_result"
    }
   ],
   "source": [
    "eigenvalues"
   ]
  },
  {
   "cell_type": "code",
   "execution_count": 282,
   "metadata": {
    "collapsed": true
   },
   "outputs": [],
   "source": [
    "eigenvectors = eigendata[1]"
   ]
  },
  {
   "cell_type": "code",
   "execution_count": 284,
   "metadata": {
    "scrolled": true
   },
   "outputs": [
    {
     "name": "stdout",
     "output_type": "stream",
     "text": [
      "[[-0.09759 -0.05676 -0.02138 ...,  0.035    0.0391  -0.08314]\n",
      " [-0.09759  0.0021   0.00156 ...,  0.20354 -0.15168  0.08093]\n",
      " [-0.09759  0.10219 -0.09886 ..., -0.00632  0.01949 -0.1107 ]\n",
      " ..., \n",
      " [-0.09759  0.007   -0.01118 ..., -0.00578 -0.028   -0.01524]\n",
      " [-0.09759  0.00054 -0.00478 ...,  0.06012 -0.08529  0.07456]\n",
      " [-0.09759 -0.18173 -0.06451 ..., -0.00005  0.01612 -0.10475]]\n"
     ]
    }
   ],
   "source": [
    "print(eigenvectors)"
   ]
  },
  {
   "cell_type": "code",
   "execution_count": 285,
   "metadata": {},
   "outputs": [
    {
     "data": {
      "text/plain": [
       "array([-2.02482,  1.97097, -2.6962 ,  0.84177,  2.0406 ,  1.66108,\n",
       "       -2.40613,  2.11743, -0.75642, -2.35453,  2.16698, -2.53924,\n",
       "        1.83827,  2.95061, -2.56161,  1.89005,  1.74837, -0.25756,\n",
       "        1.76071, -2.41473, -2.86635, -2.58557,  1.99133, -2.55591,\n",
       "       -2.67065,  1.90744,  1.84266, -2.55653,  2.44165, -2.16026,\n",
       "        3.75216, -2.55362, -2.53788,  1.65159, -2.52492, -0.49618,\n",
       "       -2.68008, -2.28834,  1.70432,  2.02596,  2.06723,  1.93848,\n",
       "        3.72435, -2.62214, -2.59927, -2.45411, -2.49021,  1.7809 ,\n",
       "       -0.66636,  1.63043,  1.80297, -2.47125,  3.75597, -2.75059,\n",
       "        3.62891,  2.71953,  1.7938 , -2.66145, -2.68045,  3.96874,\n",
       "       -2.65409,  3.50942, -2.38225, -2.81748, -2.54489,  1.87352,\n",
       "       -0.05592, -2.73591,  3.62292,  1.63186,  2.17426,  2.09993,\n",
       "        1.78728, -2.60013, -0.7729 , -2.66278, -0.48228, -2.52339,\n",
       "        2.13256, -2.519  ,  1.86885,  3.03094, -2.42255, -2.80514,\n",
       "       -2.64434,  2.10264, -2.73322, -2.60979, -2.2384 ,  1.86158,\n",
       "        1.76583, -2.63747,  1.98763,  1.70135,  3.91893,  3.73345,\n",
       "        3.73991, -2.6748 , -0.63373,  1.72694,  2.2444 , -0.48932,\n",
       "       -0.3711 ,  1.81592, -2.55114])"
      ]
     },
     "execution_count": 285,
     "metadata": {},
     "output_type": "execute_result"
    }
   ],
   "source": [
    "eigenvalues[-1] * eigenvectors[:, -1]"
   ]
  },
  {
   "cell_type": "code",
   "execution_count": 298,
   "metadata": {
    "collapsed": true
   },
   "outputs": [],
   "source": [
    "sum_eigen_values = np.sum(eigenvalues)"
   ]
  },
  {
   "cell_type": "code",
   "execution_count": 301,
   "metadata": {},
   "outputs": [
    {
     "data": {
      "text/plain": [
       "0.10414233649249059"
      ]
     },
     "execution_count": 301,
     "metadata": {},
     "output_type": "execute_result"
    }
   ],
   "source": [
    "eigenvalues[0]/sum_eigen_values"
   ]
  },
  {
   "cell_type": "code",
   "execution_count": 343,
   "metadata": {
    "collapsed": true
   },
   "outputs": [],
   "source": [
    "del p"
   ]
  },
  {
   "cell_type": "code",
   "execution_count": 344,
   "metadata": {
    "collapsed": true
   },
   "outputs": [],
   "source": [
    "p = figure(title=\"PCA Plot of Components PC1 x PC2\")"
   ]
  },
  {
   "cell_type": "code",
   "execution_count": 345,
   "metadata": {
    "collapsed": true
   },
   "outputs": [],
   "source": [
    "p.output_backend = \"svg\""
   ]
  },
  {
   "cell_type": "code",
   "execution_count": 346,
   "metadata": {
    "collapsed": true
   },
   "outputs": [],
   "source": [
    "p.xaxis.axis_label = \"PC1\""
   ]
  },
  {
   "cell_type": "code",
   "execution_count": 347,
   "metadata": {
    "collapsed": true
   },
   "outputs": [],
   "source": [
    "p.yaxis.axis_label = \"PC2\""
   ]
  },
  {
   "cell_type": "code",
   "execution_count": 348,
   "metadata": {},
   "outputs": [
    {
     "data": {
      "text/html": [
       "<div style=\"display: table;\"><div style=\"display: table-row;\"><div style=\"display: table-cell;\"><b title=\"bokeh.models.renderers.GlyphRenderer\">GlyphRenderer</b>(</div><div style=\"display: table-cell;\">id&nbsp;=&nbsp;'37b1d130-e853-46e5-8576-de90883d46f1', <span id=\"273bf18c-ba01-4945-bafa-1ef47d97b299\" style=\"cursor: pointer;\">&hellip;)</span></div></div><div class=\"58f088fe-3c34-4044-af24-328a146889d5\" style=\"display: none;\"><div style=\"display: table-cell;\"></div><div style=\"display: table-cell;\">data_source&nbsp;=&nbsp;ColumnDataSource(id='630dda02-ffa8-44fd-bbbc-8b2e4109591f', ...),</div></div><div class=\"58f088fe-3c34-4044-af24-328a146889d5\" style=\"display: none;\"><div style=\"display: table-cell;\"></div><div style=\"display: table-cell;\">glyph&nbsp;=&nbsp;Circle(id='e0b67a55-00cd-4485-b46c-c19e792735ed', ...),</div></div><div class=\"58f088fe-3c34-4044-af24-328a146889d5\" style=\"display: none;\"><div style=\"display: table-cell;\"></div><div style=\"display: table-cell;\">hover_glyph&nbsp;=&nbsp;None,</div></div><div class=\"58f088fe-3c34-4044-af24-328a146889d5\" style=\"display: none;\"><div style=\"display: table-cell;\"></div><div style=\"display: table-cell;\">js_event_callbacks&nbsp;=&nbsp;{},</div></div><div class=\"58f088fe-3c34-4044-af24-328a146889d5\" style=\"display: none;\"><div style=\"display: table-cell;\"></div><div style=\"display: table-cell;\">js_property_callbacks&nbsp;=&nbsp;{},</div></div><div class=\"58f088fe-3c34-4044-af24-328a146889d5\" style=\"display: none;\"><div style=\"display: table-cell;\"></div><div style=\"display: table-cell;\">level&nbsp;=&nbsp;'glyph',</div></div><div class=\"58f088fe-3c34-4044-af24-328a146889d5\" style=\"display: none;\"><div style=\"display: table-cell;\"></div><div style=\"display: table-cell;\">muted&nbsp;=&nbsp;False,</div></div><div class=\"58f088fe-3c34-4044-af24-328a146889d5\" style=\"display: none;\"><div style=\"display: table-cell;\"></div><div style=\"display: table-cell;\">muted_glyph&nbsp;=&nbsp;None,</div></div><div class=\"58f088fe-3c34-4044-af24-328a146889d5\" style=\"display: none;\"><div style=\"display: table-cell;\"></div><div style=\"display: table-cell;\">name&nbsp;=&nbsp;None,</div></div><div class=\"58f088fe-3c34-4044-af24-328a146889d5\" style=\"display: none;\"><div style=\"display: table-cell;\"></div><div style=\"display: table-cell;\">nonselection_glyph&nbsp;=&nbsp;Circle(id='2d8c34a9-c5a4-402c-8946-38131f5ff2f2', ...),</div></div><div class=\"58f088fe-3c34-4044-af24-328a146889d5\" style=\"display: none;\"><div style=\"display: table-cell;\"></div><div style=\"display: table-cell;\">selection_glyph&nbsp;=&nbsp;None,</div></div><div class=\"58f088fe-3c34-4044-af24-328a146889d5\" style=\"display: none;\"><div style=\"display: table-cell;\"></div><div style=\"display: table-cell;\">subscribed_events&nbsp;=&nbsp;[],</div></div><div class=\"58f088fe-3c34-4044-af24-328a146889d5\" style=\"display: none;\"><div style=\"display: table-cell;\"></div><div style=\"display: table-cell;\">tags&nbsp;=&nbsp;[],</div></div><div class=\"58f088fe-3c34-4044-af24-328a146889d5\" style=\"display: none;\"><div style=\"display: table-cell;\"></div><div style=\"display: table-cell;\">visible&nbsp;=&nbsp;True,</div></div><div class=\"58f088fe-3c34-4044-af24-328a146889d5\" style=\"display: none;\"><div style=\"display: table-cell;\"></div><div style=\"display: table-cell;\">x_range_name&nbsp;=&nbsp;'default',</div></div><div class=\"58f088fe-3c34-4044-af24-328a146889d5\" style=\"display: none;\"><div style=\"display: table-cell;\"></div><div style=\"display: table-cell;\">y_range_name&nbsp;=&nbsp;'default')</div></div></div>\n",
       "<script>\n",
       "(function() {\n",
       "  var expanded = false;\n",
       "  var ellipsis = document.getElementById(\"273bf18c-ba01-4945-bafa-1ef47d97b299\");\n",
       "  ellipsis.addEventListener(\"click\", function() {\n",
       "    var rows = document.getElementsByClassName(\"58f088fe-3c34-4044-af24-328a146889d5\");\n",
       "    for (var i = 0; i < rows.length; i++) {\n",
       "      var el = rows[i];\n",
       "      el.style.display = expanded ? \"none\" : \"table-row\";\n",
       "    }\n",
       "    ellipsis.innerHTML = expanded ? \"&hellip;)\" : \"&lsaquo;&lsaquo;&lsaquo;\";\n",
       "    expanded = !expanded;\n",
       "  });\n",
       "})();\n",
       "</script>\n"
      ],
      "text/plain": [
       "GlyphRenderer(id='37b1d130-e853-46e5-8576-de90883d46f1', ...)"
      ]
     },
     "execution_count": 348,
     "metadata": {},
     "output_type": "execute_result"
    }
   ],
   "source": [
    "p.circle(eigenvalues[0]*eigenvectors[:, 0], eigenvalues[1]*eigenvectors[:, 1])"
   ]
  },
  {
   "cell_type": "code",
   "execution_count": 331,
   "metadata": {},
   "outputs": [
    {
     "data": {
      "text/html": [
       "\n",
       "    <div class=\"bk-root\">\n",
       "        <a href=\"http://bokeh.pydata.org\" target=\"_blank\" class=\"bk-logo bk-logo-small bk-logo-notebook\"></a>\n",
       "        <span id=\"aeb0838b-9035-4e36-8b87-a43007fc40fe\">Loading BokehJS ...</span>\n",
       "    </div>"
      ]
     },
     "metadata": {},
     "output_type": "display_data"
    },
    {
     "data": {
      "application/javascript": [
       "\n",
       "(function(global) {\n",
       "  function now() {\n",
       "    return new Date();\n",
       "  }\n",
       "\n",
       "  var force = true;\n",
       "\n",
       "  if (typeof (window._bokeh_onload_callbacks) === \"undefined\" || force === true) {\n",
       "    window._bokeh_onload_callbacks = [];\n",
       "    window._bokeh_is_loading = undefined;\n",
       "  }\n",
       "\n",
       "\n",
       "  \n",
       "  if (typeof (window._bokeh_timeout) === \"undefined\" || force === true) {\n",
       "    window._bokeh_timeout = Date.now() + 5000;\n",
       "    window._bokeh_failed_load = false;\n",
       "  }\n",
       "\n",
       "  var NB_LOAD_WARNING = {'data': {'text/html':\n",
       "     \"<div style='background-color: #fdd'>\\n\"+\n",
       "     \"<p>\\n\"+\n",
       "     \"BokehJS does not appear to have successfully loaded. If loading BokehJS from CDN, this \\n\"+\n",
       "     \"may be due to a slow or bad network connection. Possible fixes:\\n\"+\n",
       "     \"</p>\\n\"+\n",
       "     \"<ul>\\n\"+\n",
       "     \"<li>re-rerun `output_notebook()` to attempt to load from CDN again, or</li>\\n\"+\n",
       "     \"<li>use INLINE resources instead, as so:</li>\\n\"+\n",
       "     \"</ul>\\n\"+\n",
       "     \"<code>\\n\"+\n",
       "     \"from bokeh.resources import INLINE\\n\"+\n",
       "     \"output_notebook(resources=INLINE)\\n\"+\n",
       "     \"</code>\\n\"+\n",
       "     \"</div>\"}};\n",
       "\n",
       "  function display_loaded() {\n",
       "    if (window.Bokeh !== undefined) {\n",
       "      var el = document.getElementById(\"aeb0838b-9035-4e36-8b87-a43007fc40fe\");\n",
       "      el.textContent = \"BokehJS \" + Bokeh.version + \" successfully loaded.\";\n",
       "    } else if (Date.now() < window._bokeh_timeout) {\n",
       "      setTimeout(display_loaded, 100)\n",
       "    }\n",
       "  }\n",
       "\n",
       "  function run_callbacks() {\n",
       "    try {\n",
       "      window._bokeh_onload_callbacks.forEach(function(callback) { callback() });\n",
       "    }\n",
       "    finally {\n",
       "      delete window._bokeh_onload_callbacks\n",
       "    }\n",
       "    console.info(\"Bokeh: all callbacks have finished\");\n",
       "  }\n",
       "\n",
       "  function load_libs(js_urls, callback) {\n",
       "    window._bokeh_onload_callbacks.push(callback);\n",
       "    if (window._bokeh_is_loading > 0) {\n",
       "      console.log(\"Bokeh: BokehJS is being loaded, scheduling callback at\", now());\n",
       "      return null;\n",
       "    }\n",
       "    if (js_urls == null || js_urls.length === 0) {\n",
       "      run_callbacks();\n",
       "      return null;\n",
       "    }\n",
       "    console.log(\"Bokeh: BokehJS not loaded, scheduling load and callback at\", now());\n",
       "    window._bokeh_is_loading = js_urls.length;\n",
       "    for (var i = 0; i < js_urls.length; i++) {\n",
       "      var url = js_urls[i];\n",
       "      var s = document.createElement('script');\n",
       "      s.src = url;\n",
       "      s.async = false;\n",
       "      s.onreadystatechange = s.onload = function() {\n",
       "        window._bokeh_is_loading--;\n",
       "        if (window._bokeh_is_loading === 0) {\n",
       "          console.log(\"Bokeh: all BokehJS libraries loaded\");\n",
       "          run_callbacks()\n",
       "        }\n",
       "      };\n",
       "      s.onerror = function() {\n",
       "        console.warn(\"failed to load library \" + url);\n",
       "      };\n",
       "      console.log(\"Bokeh: injecting script tag for BokehJS library: \", url);\n",
       "      document.getElementsByTagName(\"head\")[0].appendChild(s);\n",
       "    }\n",
       "  };var element = document.getElementById(\"aeb0838b-9035-4e36-8b87-a43007fc40fe\");\n",
       "  if (element == null) {\n",
       "    console.log(\"Bokeh: ERROR: autoload.js configured with elementid 'aeb0838b-9035-4e36-8b87-a43007fc40fe' but no matching script tag was found. \")\n",
       "    return false;\n",
       "  }\n",
       "\n",
       "  var js_urls = [\"https://cdn.pydata.org/bokeh/release/bokeh-0.12.6.min.js\", \"https://cdn.pydata.org/bokeh/release/bokeh-widgets-0.12.6.min.js\"];\n",
       "\n",
       "  var inline_js = [\n",
       "    function(Bokeh) {\n",
       "      Bokeh.set_log_level(\"info\");\n",
       "    },\n",
       "    \n",
       "    function(Bokeh) {\n",
       "      \n",
       "    },\n",
       "    \n",
       "    function(Bokeh) {\n",
       "      \n",
       "      document.getElementById(\"aeb0838b-9035-4e36-8b87-a43007fc40fe\").textContent = \"BokehJS is loading...\";\n",
       "    },\n",
       "    function(Bokeh) {\n",
       "      console.log(\"Bokeh: injecting CSS: https://cdn.pydata.org/bokeh/release/bokeh-0.12.6.min.css\");\n",
       "      Bokeh.embed.inject_css(\"https://cdn.pydata.org/bokeh/release/bokeh-0.12.6.min.css\");\n",
       "      console.log(\"Bokeh: injecting CSS: https://cdn.pydata.org/bokeh/release/bokeh-widgets-0.12.6.min.css\");\n",
       "      Bokeh.embed.inject_css(\"https://cdn.pydata.org/bokeh/release/bokeh-widgets-0.12.6.min.css\");\n",
       "    }\n",
       "  ];\n",
       "\n",
       "  function run_inline_js() {\n",
       "    \n",
       "    if ((window.Bokeh !== undefined) || (force === true)) {\n",
       "      for (var i = 0; i < inline_js.length; i++) {\n",
       "        inline_js[i](window.Bokeh);\n",
       "      }if (force === true) {\n",
       "        display_loaded();\n",
       "      }} else if (Date.now() < window._bokeh_timeout) {\n",
       "      setTimeout(run_inline_js, 100);\n",
       "    } else if (!window._bokeh_failed_load) {\n",
       "      console.log(\"Bokeh: BokehJS failed to load within specified timeout.\");\n",
       "      window._bokeh_failed_load = true;\n",
       "    } else if (force !== true) {\n",
       "      var cell = $(document.getElementById(\"aeb0838b-9035-4e36-8b87-a43007fc40fe\")).parents('.cell').data().cell;\n",
       "      cell.output_area.append_execute_result(NB_LOAD_WARNING)\n",
       "    }\n",
       "\n",
       "  }\n",
       "\n",
       "  if (window._bokeh_is_loading === 0) {\n",
       "    console.log(\"Bokeh: BokehJS loaded, going straight to plotting\");\n",
       "    run_inline_js();\n",
       "  } else {\n",
       "    load_libs(js_urls, function() {\n",
       "      console.log(\"Bokeh: BokehJS plotting callback run at\", now());\n",
       "      run_inline_js();\n",
       "    });\n",
       "  }\n",
       "}(this));"
      ]
     },
     "metadata": {},
     "output_type": "display_data"
    }
   ],
   "source": [
    "output_notebook()"
   ]
  },
  {
   "cell_type": "code",
   "execution_count": 332,
   "metadata": {
    "collapsed": true
   },
   "outputs": [
    {
     "data": {
      "text/html": [
       "\n",
       "\n",
       "    <div class=\"bk-root\">\n",
       "        <div class=\"bk-plotdiv\" id=\"865d3b1d-7e05-4519-8b4b-db605fd0b1a3\"></div>\n",
       "    </div>\n",
       "<script type=\"text/javascript\">\n",
       "  \n",
       "  (function(global) {\n",
       "    function now() {\n",
       "      return new Date();\n",
       "    }\n",
       "  \n",
       "    var force = false;\n",
       "  \n",
       "    if (typeof (window._bokeh_onload_callbacks) === \"undefined\" || force === true) {\n",
       "      window._bokeh_onload_callbacks = [];\n",
       "      window._bokeh_is_loading = undefined;\n",
       "    }\n",
       "  \n",
       "  \n",
       "    \n",
       "    if (typeof (window._bokeh_timeout) === \"undefined\" || force === true) {\n",
       "      window._bokeh_timeout = Date.now() + 0;\n",
       "      window._bokeh_failed_load = false;\n",
       "    }\n",
       "  \n",
       "    var NB_LOAD_WARNING = {'data': {'text/html':\n",
       "       \"<div style='background-color: #fdd'>\\n\"+\n",
       "       \"<p>\\n\"+\n",
       "       \"BokehJS does not appear to have successfully loaded. If loading BokehJS from CDN, this \\n\"+\n",
       "       \"may be due to a slow or bad network connection. Possible fixes:\\n\"+\n",
       "       \"</p>\\n\"+\n",
       "       \"<ul>\\n\"+\n",
       "       \"<li>re-rerun `output_notebook()` to attempt to load from CDN again, or</li>\\n\"+\n",
       "       \"<li>use INLINE resources instead, as so:</li>\\n\"+\n",
       "       \"</ul>\\n\"+\n",
       "       \"<code>\\n\"+\n",
       "       \"from bokeh.resources import INLINE\\n\"+\n",
       "       \"output_notebook(resources=INLINE)\\n\"+\n",
       "       \"</code>\\n\"+\n",
       "       \"</div>\"}};\n",
       "  \n",
       "    function display_loaded() {\n",
       "      if (window.Bokeh !== undefined) {\n",
       "        var el = document.getElementById(\"865d3b1d-7e05-4519-8b4b-db605fd0b1a3\");\n",
       "        el.textContent = \"BokehJS \" + Bokeh.version + \" successfully loaded.\";\n",
       "      } else if (Date.now() < window._bokeh_timeout) {\n",
       "        setTimeout(display_loaded, 100)\n",
       "      }\n",
       "    }\n",
       "  \n",
       "    function run_callbacks() {\n",
       "      try {\n",
       "        window._bokeh_onload_callbacks.forEach(function(callback) { callback() });\n",
       "      }\n",
       "      finally {\n",
       "        delete window._bokeh_onload_callbacks\n",
       "      }\n",
       "      console.info(\"Bokeh: all callbacks have finished\");\n",
       "    }\n",
       "  \n",
       "    function load_libs(js_urls, callback) {\n",
       "      window._bokeh_onload_callbacks.push(callback);\n",
       "      if (window._bokeh_is_loading > 0) {\n",
       "        console.log(\"Bokeh: BokehJS is being loaded, scheduling callback at\", now());\n",
       "        return null;\n",
       "      }\n",
       "      if (js_urls == null || js_urls.length === 0) {\n",
       "        run_callbacks();\n",
       "        return null;\n",
       "      }\n",
       "      console.log(\"Bokeh: BokehJS not loaded, scheduling load and callback at\", now());\n",
       "      window._bokeh_is_loading = js_urls.length;\n",
       "      for (var i = 0; i < js_urls.length; i++) {\n",
       "        var url = js_urls[i];\n",
       "        var s = document.createElement('script');\n",
       "        s.src = url;\n",
       "        s.async = false;\n",
       "        s.onreadystatechange = s.onload = function() {\n",
       "          window._bokeh_is_loading--;\n",
       "          if (window._bokeh_is_loading === 0) {\n",
       "            console.log(\"Bokeh: all BokehJS libraries loaded\");\n",
       "            run_callbacks()\n",
       "          }\n",
       "        };\n",
       "        s.onerror = function() {\n",
       "          console.warn(\"failed to load library \" + url);\n",
       "        };\n",
       "        console.log(\"Bokeh: injecting script tag for BokehJS library: \", url);\n",
       "        document.getElementsByTagName(\"head\")[0].appendChild(s);\n",
       "      }\n",
       "    };var element = document.getElementById(\"865d3b1d-7e05-4519-8b4b-db605fd0b1a3\");\n",
       "    if (element == null) {\n",
       "      console.log(\"Bokeh: ERROR: autoload.js configured with elementid '865d3b1d-7e05-4519-8b4b-db605fd0b1a3' but no matching script tag was found. \")\n",
       "      return false;\n",
       "    }\n",
       "  \n",
       "    var js_urls = [];\n",
       "  \n",
       "    var inline_js = [\n",
       "      function(Bokeh) {\n",
       "        (function() {\n",
       "          var fn = function() {\n",
       "            var docs_json = {\"d0a8497b-c7ef-4138-b0dc-9a1a4f5d5daf\":{\"roots\":{\"references\":[{\"attributes\":{\"plot\":{\"id\":\"2371d01c-266c-4d02-a992-1f2c8c79fd61\",\"subtype\":\"Figure\",\"type\":\"Plot\"},\"ticker\":{\"id\":\"4e210ed3-c22f-4055-af88-888f3884e38a\",\"type\":\"BasicTicker\"}},\"id\":\"411fedbc-90fb-4e2c-aca5-618aa334e59f\",\"type\":\"Grid\"},{\"attributes\":{\"overlay\":{\"id\":\"31890687-e33a-429f-b917-b62c57ad2365\",\"type\":\"BoxAnnotation\"},\"plot\":{\"id\":\"2371d01c-266c-4d02-a992-1f2c8c79fd61\",\"subtype\":\"Figure\",\"type\":\"Plot\"}},\"id\":\"e98bb241-c33c-48b9-9881-d359bf78fcb9\",\"type\":\"BoxZoomTool\"},{\"attributes\":{\"axis_label\":\"PC2\",\"formatter\":{\"id\":\"298afe7f-8934-4d27-9375-d0311f2e810e\",\"type\":\"BasicTickFormatter\"},\"plot\":{\"id\":\"2371d01c-266c-4d02-a992-1f2c8c79fd61\",\"subtype\":\"Figure\",\"type\":\"Plot\"},\"ticker\":{\"id\":\"65e54fd0-f14b-4fef-98d1-3b4fc1b845ca\",\"type\":\"BasicTicker\"}},\"id\":\"776ffdad-98ed-4e28-bc00-6d5f87f098a6\",\"type\":\"LinearAxis\"},{\"attributes\":{\"active_drag\":\"auto\",\"active_inspect\":\"auto\",\"active_scroll\":\"auto\",\"active_tap\":\"auto\",\"tools\":[{\"id\":\"5bddf9ea-2643-4e61-916a-ffdbea804acf\",\"type\":\"PanTool\"},{\"id\":\"a5ce9b31-63ce-4fb1-a216-0de75023e40e\",\"type\":\"WheelZoomTool\"},{\"id\":\"e98bb241-c33c-48b9-9881-d359bf78fcb9\",\"type\":\"BoxZoomTool\"},{\"id\":\"a127f3d9-f0cf-4ed1-964d-305a01c84b1b\",\"type\":\"SaveTool\"},{\"id\":\"8b350d7e-24cb-4f34-8471-1d65e028cfd4\",\"type\":\"ResetTool\"},{\"id\":\"53d659ec-5cb2-4bee-a689-2512e4c60b09\",\"type\":\"HelpTool\"}]},\"id\":\"192a252f-58a0-4099-a4e7-b67df1f4e694\",\"type\":\"Toolbar\"},{\"attributes\":{\"plot\":{\"id\":\"2371d01c-266c-4d02-a992-1f2c8c79fd61\",\"subtype\":\"Figure\",\"type\":\"Plot\"}},\"id\":\"5bddf9ea-2643-4e61-916a-ffdbea804acf\",\"type\":\"PanTool\"},{\"attributes\":{},\"id\":\"4e210ed3-c22f-4055-af88-888f3884e38a\",\"type\":\"BasicTicker\"},{\"attributes\":{\"fill_color\":{\"value\":\"#1f77b4\"},\"line_color\":{\"value\":\"#1f77b4\"},\"x\":{\"field\":\"x\"},\"y\":{\"field\":\"y\"}},\"id\":\"93499276-1c92-4124-bde6-dd0026e61f81\",\"type\":\"Circle\"},{\"attributes\":{},\"id\":\"31def741-d5eb-4c83-959c-37d39a31cc98\",\"type\":\"ToolEvents\"},{\"attributes\":{\"axis_label\":\"PC1\",\"formatter\":{\"id\":\"8c36493b-52c4-4ed2-af4b-fe624712d0d5\",\"type\":\"BasicTickFormatter\"},\"plot\":{\"id\":\"2371d01c-266c-4d02-a992-1f2c8c79fd61\",\"subtype\":\"Figure\",\"type\":\"Plot\"},\"ticker\":{\"id\":\"4e210ed3-c22f-4055-af88-888f3884e38a\",\"type\":\"BasicTicker\"}},\"id\":\"a3da53c8-d763-4331-9901-fe8fc14901a8\",\"type\":\"LinearAxis\"},{\"attributes\":{},\"id\":\"f4979473-5d08-4755-8045-12614937a180\",\"type\":\"LinearScale\"},{\"attributes\":{\"dimension\":1,\"plot\":{\"id\":\"2371d01c-266c-4d02-a992-1f2c8c79fd61\",\"subtype\":\"Figure\",\"type\":\"Plot\"},\"ticker\":{\"id\":\"65e54fd0-f14b-4fef-98d1-3b4fc1b845ca\",\"type\":\"BasicTicker\"}},\"id\":\"bec10360-53b4-4ceb-9cb1-f0648df91575\",\"type\":\"Grid\"},{\"attributes\":{},\"id\":\"298afe7f-8934-4d27-9375-d0311f2e810e\",\"type\":\"BasicTickFormatter\"},{\"attributes\":{\"below\":[{\"id\":\"a3da53c8-d763-4331-9901-fe8fc14901a8\",\"type\":\"LinearAxis\"}],\"left\":[{\"id\":\"776ffdad-98ed-4e28-bc00-6d5f87f098a6\",\"type\":\"LinearAxis\"}],\"renderers\":[{\"id\":\"a3da53c8-d763-4331-9901-fe8fc14901a8\",\"type\":\"LinearAxis\"},{\"id\":\"411fedbc-90fb-4e2c-aca5-618aa334e59f\",\"type\":\"Grid\"},{\"id\":\"776ffdad-98ed-4e28-bc00-6d5f87f098a6\",\"type\":\"LinearAxis\"},{\"id\":\"bec10360-53b4-4ceb-9cb1-f0648df91575\",\"type\":\"Grid\"},{\"id\":\"31890687-e33a-429f-b917-b62c57ad2365\",\"type\":\"BoxAnnotation\"},{\"id\":\"79fe54e2-3c96-44eb-a10c-560191ac9295\",\"type\":\"GlyphRenderer\"}],\"title\":{\"id\":\"47e1c648-1480-45b7-8099-533dd133b615\",\"type\":\"Title\"},\"tool_events\":{\"id\":\"31def741-d5eb-4c83-959c-37d39a31cc98\",\"type\":\"ToolEvents\"},\"toolbar\":{\"id\":\"192a252f-58a0-4099-a4e7-b67df1f4e694\",\"type\":\"Toolbar\"},\"x_range\":{\"id\":\"7bf93df6-1d44-483b-9abc-e1f34e8458ba\",\"type\":\"DataRange1d\"},\"x_scale\":{\"id\":\"f4979473-5d08-4755-8045-12614937a180\",\"type\":\"LinearScale\"},\"y_range\":{\"id\":\"17a1d6be-9ddd-4199-a247-f5c98edae8b2\",\"type\":\"DataRange1d\"},\"y_scale\":{\"id\":\"43a026c3-f327-4cb4-b135-bb645ba32ff6\",\"type\":\"LinearScale\"}},\"id\":\"2371d01c-266c-4d02-a992-1f2c8c79fd61\",\"subtype\":\"Figure\",\"type\":\"Plot\"},{\"attributes\":{\"plot\":{\"id\":\"2371d01c-266c-4d02-a992-1f2c8c79fd61\",\"subtype\":\"Figure\",\"type\":\"Plot\"}},\"id\":\"a5ce9b31-63ce-4fb1-a216-0de75023e40e\",\"type\":\"WheelZoomTool\"},{\"attributes\":{\"callback\":null},\"id\":\"17a1d6be-9ddd-4199-a247-f5c98edae8b2\",\"type\":\"DataRange1d\"},{\"attributes\":{\"bottom_units\":\"screen\",\"fill_alpha\":{\"value\":0.5},\"fill_color\":{\"value\":\"lightgrey\"},\"left_units\":\"screen\",\"level\":\"overlay\",\"line_alpha\":{\"value\":1.0},\"line_color\":{\"value\":\"black\"},\"line_dash\":[4,4],\"line_width\":{\"value\":2},\"plot\":null,\"render_mode\":\"css\",\"right_units\":\"screen\",\"top_units\":\"screen\"},\"id\":\"31890687-e33a-429f-b917-b62c57ad2365\",\"type\":\"BoxAnnotation\"},{\"attributes\":{\"callback\":null,\"column_names\":[\"x\",\"y\"],\"data\":{\"x\":{\"__ndarray__\":\"SaFjm9QyAMAghv+WGYn/P8d3tIDTkQXAP7EPAcrv6j8xu8GtJlMAQCE7B5TKk/o/Fi5Mob8/A8CA4KL5ffAAQP3srGScNOi/YaGNxRPWAsCMXPkT+1UBQPvyDU5dUATAkcmZkZBp/T+dpT7B2ZoHQMFJ+NQtfgTAS84i1ak9/j//E1vDT/n7P+6lo7HKe9C/Jm+8XuAr/D+nJbsEYFEDwE+jYvpG7gbAZVm/Y0GvBMBKNsl8gdz/PzPrwd2BcgTAgpveR31dBcCWZwGX44T+P+AEHBOHe/0/gB5Fi8ZzBMBc/+e+f4gDQEV72e43SAHAlrou1msEDkAlwgTRzm0EwOJK4tmUTQTANzEYc+Vs+j/uEtbfCDMEwPlJWxF8wd+/wT+t/s9wBcAZ1bAghE4CwCvrvzHhRPs/HhHYxik1AEDNKlp/r4kAQLaxYgAFBP8/COsKMHbLDUCXUnZYJPoEwK9PiCdNywTA7MUEQQOiA8BG9bId8+sDwGdsQi+Ufvw/OrFvRdpS5b/ylyYAQBb6P3NwY6T52Pw/l/JeBh/FA8DiXz2hOwwOQJw7Nmc0AQbAbbKPxAAIDUAy640xm8EFQEemeHVjs/w/BjLd/adKBcCpVJAbj3EFwMRwMPb8vw9Aboxyt5I7BcBj6PRmTBMMQKGLEr/aDgPASTP7IjWKBsA1svr97lsEwDHjVWPw+f0/51kQvTGirL9cT5ORJOMFwMEtyua8+wxAwccPGxYc+j9V+fHe4mQBQOeaGOKmzABA/UuI/bSY/D8Umq48Ec0EwBHXPESiu+i/mhbJZGBNBcBTg6Mxpt3ev0RV/JjnLwTALlZuA3kPAUAS0wiS6iYEwPa0BjzU5v0/EJxmWls/CEAFJ/P9X2EDwC7QpubrcAbAcxF8SZsnBcAgy7iRNdIAQJkvuPSj3QXARmXSRNvgBMCoXiXVPegBwAdWrUUJyf0/wwdJx9RA/D+WauHGiRkFwLt3vqFXzf8/bL1V+L44+z8bCuzt+FkPQIvQK7Ua3g1AmpktnlbrDUB4LnYl/mUFwOnxjkmAR+S/pNJBPY+h+z/1yqMjifQBQE+qmpcNUd+/7pF1KBHA17/x3OgRBA79P/kPIFK9aATA\",\"dtype\":\"float64\",\"shape\":[105]},\"y\":{\"__ndarray__\":\"HBIge7MQ4r8m7IiOrYQBQPqy1RaLAtK/g4672AomAcBqsDYTZEkDQPknGCYY2fU/3ZFOfYFQ1r94Y/5crKD0P8CcH8jhvNg/8PiaDnNcz7+56Iz9QnECQGHmu0CeIrq/auVe+iDQ9j9DlCc40tv1vxrpQMcf4OC/k1CZdp4y/T+gEABkzTDtP1S/S7O91bM/BTqMr6wR5z+hr4JW9Knfv8hBqSLrfNS/FEfaMlT/5L+xSMQPaxr9P5WQ1GO7N8i/Wd5bEk2t4r81tG/+h2X6P3g/Mw3+zek/wl7IalyIxb+IHCE8H4MDQHL1EQ+A6NS/RG6Sj1mUC8DKQr8rIuHhv2kvhWcE5OK/sD0FlK099D8/IvYIvZTQvw4AUzpvRd8/fgXzH7hi1b+nRBGoPMLgv1TsX0wI0vM/z2e+wA3k8j/2ZtYNjhn+P50Wtpy41fI/XiV9T5ghCsAOctGWUK/Nv/gh6SsittS/IOieW4/T17+nbCxB/ejlv5z1bZACF+0/9cSrqq4Tt79PE4VEMh/xP0vLfQbrM/Q/GiTtFpA5w78MobBZ+IwMwC7ILEb9gsW/JzZJx/EQCcAb48dEcKvzv6+UJ+kHQPU/s+UFpmcW0b9kgfSPNo7Qv/0YT26xnA3AOxIN0K9x0r8aSbm/mlIHwLXFty97Pdq/+rTDScms2r/Sa9WUo1Pgv5mNWOplCPo/C9QmOSUc1j+QChim2ZnLv2nJxfwSMAjA8Ou8ElON8j9mCDz/FbvxPxazdlx1Evo/4G5Z3Tvw8z9u9RP24APDv7zjrn2RQMk/HuhgVzoW47/3SxdkKJXXP7aQmQouDau/31T08kNhAEAtL9h8U+DjvwhNIJLDDvc/PRE115Sf9L/9cq4XRWTJv1ufa5eS/9e/3wB4vajb3b9g9KyksxH1P6cMdSHP/cK/YnA0OKGZyL/vocTOXH7Rv9oQz2/9IvM/HXrKun/X6j/a7yqI15jTv0W+VU+yKvU/DYhFKlyg7D8SZXDKTLAMwBtKPiYiqAvAulS5Q/6uCcDfbMI+iUzVv+kh64Or2c0/KFU9lw4T8D/fGXLgD6jxP7wDY4EwTeM/bmFxFO7e2T/nTzkht7PzP6wHpKZZyM2/\",\"dtype\":\"float64\",\"shape\":[105]}}},\"id\":\"a112d0c9-de44-40dc-b260-e1c43be7a6f7\",\"type\":\"ColumnDataSource\"},{\"attributes\":{\"plot\":{\"id\":\"2371d01c-266c-4d02-a992-1f2c8c79fd61\",\"subtype\":\"Figure\",\"type\":\"Plot\"}},\"id\":\"53d659ec-5cb2-4bee-a689-2512e4c60b09\",\"type\":\"HelpTool\"},{\"attributes\":{},\"id\":\"8c36493b-52c4-4ed2-af4b-fe624712d0d5\",\"type\":\"BasicTickFormatter\"},{\"attributes\":{},\"id\":\"65e54fd0-f14b-4fef-98d1-3b4fc1b845ca\",\"type\":\"BasicTicker\"},{\"attributes\":{\"data_source\":{\"id\":\"a112d0c9-de44-40dc-b260-e1c43be7a6f7\",\"type\":\"ColumnDataSource\"},\"glyph\":{\"id\":\"93499276-1c92-4124-bde6-dd0026e61f81\",\"type\":\"Circle\"},\"hover_glyph\":null,\"muted_glyph\":null,\"nonselection_glyph\":{\"id\":\"2bdb1724-c058-42eb-ba32-6a2053e5ee87\",\"type\":\"Circle\"},\"selection_glyph\":null},\"id\":\"79fe54e2-3c96-44eb-a10c-560191ac9295\",\"type\":\"GlyphRenderer\"},{\"attributes\":{\"fill_alpha\":{\"value\":0.1},\"fill_color\":{\"value\":\"#1f77b4\"},\"line_alpha\":{\"value\":0.1},\"line_color\":{\"value\":\"#1f77b4\"},\"x\":{\"field\":\"x\"},\"y\":{\"field\":\"y\"}},\"id\":\"2bdb1724-c058-42eb-ba32-6a2053e5ee87\",\"type\":\"Circle\"},{\"attributes\":{\"plot\":{\"id\":\"2371d01c-266c-4d02-a992-1f2c8c79fd61\",\"subtype\":\"Figure\",\"type\":\"Plot\"}},\"id\":\"8b350d7e-24cb-4f34-8471-1d65e028cfd4\",\"type\":\"ResetTool\"},{\"attributes\":{\"callback\":null},\"id\":\"7bf93df6-1d44-483b-9abc-e1f34e8458ba\",\"type\":\"DataRange1d\"},{\"attributes\":{},\"id\":\"43a026c3-f327-4cb4-b135-bb645ba32ff6\",\"type\":\"LinearScale\"},{\"attributes\":{\"plot\":null,\"text\":\"PCA Plot of Components PC1 x PC2\"},\"id\":\"47e1c648-1480-45b7-8099-533dd133b615\",\"type\":\"Title\"},{\"attributes\":{\"plot\":{\"id\":\"2371d01c-266c-4d02-a992-1f2c8c79fd61\",\"subtype\":\"Figure\",\"type\":\"Plot\"}},\"id\":\"a127f3d9-f0cf-4ed1-964d-305a01c84b1b\",\"type\":\"SaveTool\"}],\"root_ids\":[\"2371d01c-266c-4d02-a992-1f2c8c79fd61\"]},\"title\":\"Bokeh Application\",\"version\":\"0.12.6\"}};\n",
       "            var render_items = [{\"docid\":\"d0a8497b-c7ef-4138-b0dc-9a1a4f5d5daf\",\"elementid\":\"865d3b1d-7e05-4519-8b4b-db605fd0b1a3\",\"modelid\":\"2371d01c-266c-4d02-a992-1f2c8c79fd61\"}];\n",
       "            \n",
       "            Bokeh.embed.embed_items(docs_json, render_items);\n",
       "          };\n",
       "          if (document.readyState != \"loading\") fn();\n",
       "          else document.addEventListener(\"DOMContentLoaded\", fn);\n",
       "        })();\n",
       "      },\n",
       "      function(Bokeh) {\n",
       "      }\n",
       "    ];\n",
       "  \n",
       "    function run_inline_js() {\n",
       "      \n",
       "      if ((window.Bokeh !== undefined) || (force === true)) {\n",
       "        for (var i = 0; i < inline_js.length; i++) {\n",
       "          inline_js[i](window.Bokeh);\n",
       "        }if (force === true) {\n",
       "          display_loaded();\n",
       "        }} else if (Date.now() < window._bokeh_timeout) {\n",
       "        setTimeout(run_inline_js, 100);\n",
       "      } else if (!window._bokeh_failed_load) {\n",
       "        console.log(\"Bokeh: BokehJS failed to load within specified timeout.\");\n",
       "        window._bokeh_failed_load = true;\n",
       "      } else if (force !== true) {\n",
       "        var cell = $(document.getElementById(\"865d3b1d-7e05-4519-8b4b-db605fd0b1a3\")).parents('.cell').data().cell;\n",
       "        cell.output_area.append_execute_result(NB_LOAD_WARNING)\n",
       "      }\n",
       "  \n",
       "    }\n",
       "  \n",
       "    if (window._bokeh_is_loading === 0) {\n",
       "      console.log(\"Bokeh: BokehJS loaded, going straight to plotting\");\n",
       "      run_inline_js();\n",
       "    } else {\n",
       "      load_libs(js_urls, function() {\n",
       "        console.log(\"Bokeh: BokehJS plotting callback run at\", now());\n",
       "        run_inline_js();\n",
       "      });\n",
       "    }\n",
       "  }(this));\n",
       "</script>"
      ]
     },
     "metadata": {},
     "output_type": "display_data"
    }
   ],
   "source": [
    "show(p)"
   ]
  },
  {
   "cell_type": "code",
   "execution_count": 334,
   "metadata": {
    "collapsed": true
   },
   "outputs": [],
   "source": [
    "from bokeh.io import export_svgs"
   ]
  },
  {
   "cell_type": "code",
   "execution_count": 351,
   "metadata": {},
   "outputs": [
    {
     "data": {
      "text/plain": [
       "['PC1xPC2.svg']"
      ]
     },
     "execution_count": 351,
     "metadata": {},
     "output_type": "execute_result"
    }
   ],
   "source": [
    "export_svgs(p, filename=\"PC1xPC2.svg\")"
   ]
  },
  {
   "cell_type": "code",
   "execution_count": 358,
   "metadata": {},
   "outputs": [],
   "source": [
    "structure_covariates = np.array([eigenvalues[0]*eigenvectors[:, 0], eigenvalues[1]*eigenvectors[:, 1]]).T"
   ]
  },
  {
   "cell_type": "code",
   "execution_count": 374,
   "metadata": {
    "collapsed": true
   },
   "outputs": [],
   "source": [
    "output_matrix = pd.DataFrame(structure_covariates, \n",
    "                             index=gwas.individual_names)"
   ]
  },
  {
   "cell_type": "code",
   "execution_count": 379,
   "metadata": {},
   "outputs": [],
   "source": [
    "structure_header = \"<Covariate>\\t\\t\\n<Trait>\\td1\\td2\\n\""
   ]
  },
  {
   "cell_type": "code",
   "execution_count": 380,
   "metadata": {},
   "outputs": [],
   "source": [
    "with open('example_structure.txt', 'w') as f:\n",
    "    f.write(structure_header)\n",
    "    output_matrix.to_csv(f, sep='\\t', index=True, header=False)"
   ]
  },
  {
   "cell_type": "code",
   "execution_count": null,
   "metadata": {
    "collapsed": true
   },
   "outputs": [],
   "source": []
  }
 ],
 "metadata": {
  "kernelspec": {
   "display_name": "Python 3",
   "language": "python",
   "name": "python3"
  },
  "language_info": {
   "codemirror_mode": {
    "name": "ipython",
    "version": 3
   },
   "file_extension": ".py",
   "mimetype": "text/x-python",
   "name": "python",
   "nbconvert_exporter": "python",
   "pygments_lexer": "ipython3",
   "version": "3.6.1"
  }
 },
 "nbformat": 4,
 "nbformat_minor": 2
}
