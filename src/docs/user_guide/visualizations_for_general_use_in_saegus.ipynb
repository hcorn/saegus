{
 "cells": [
  {
   "cell_type": "code",
   "execution_count": 1,
   "metadata": {
    "collapsed": true
   },
   "outputs": [],
   "source": [
    "import numpy as np\n",
    "import pandas as pd\n",
    "import h5py\n",
    "import simuOpt\n",
    "simuOpt.setOptions(quiet=True, numThreads=4)\n",
    "import simuPOP as sim\n",
    "from saegus import analyze, breed, parameters\n",
    "from bokeh.io import output_notebook, show, export_svgs\n",
    "from bokeh.layouts import gridplot\n",
    "from bokeh.plotting import figure, output_file"
   ]
  },
  {
   "cell_type": "code",
   "execution_count": 2,
   "metadata": {
    "collapsed": true
   },
   "outputs": [],
   "source": [
    "np.set_printoptions(suppress=True, precision=4)"
   ]
  },
  {
   "cell_type": "code",
   "execution_count": 3,
   "metadata": {},
   "outputs": [
    {
     "data": {
      "text/html": [
       "\n",
       "    <div class=\"bk-root\">\n",
       "        <a href=\"https://bokeh.pydata.org\" target=\"_blank\" class=\"bk-logo bk-logo-small bk-logo-notebook\"></a>\n",
       "        <span id=\"ef28cbdb-5429-474c-bc59-554e01e6e0b6\">Loading BokehJS ...</span>\n",
       "    </div>"
      ]
     },
     "metadata": {},
     "output_type": "display_data"
    },
    {
     "data": {
      "application/javascript": [
       "\n",
       "(function(root) {\n",
       "  function now() {\n",
       "    return new Date();\n",
       "  }\n",
       "\n",
       "  var force = true;\n",
       "\n",
       "  if (typeof (root._bokeh_onload_callbacks) === \"undefined\" || force === true) {\n",
       "    root._bokeh_onload_callbacks = [];\n",
       "    root._bokeh_is_loading = undefined;\n",
       "  }\n",
       "\n",
       "  var JS_MIME_TYPE = 'application/javascript';\n",
       "  var HTML_MIME_TYPE = 'text/html';\n",
       "  var EXEC_MIME_TYPE = 'application/vnd.bokehjs_exec.v0+json';\n",
       "  var CLASS_NAME = 'output_bokeh rendered_html';\n",
       "\n",
       "  /**\n",
       "   * Render data to the DOM node\n",
       "   */\n",
       "  function render(props, node) {\n",
       "    var script = document.createElement(\"script\");\n",
       "    node.appendChild(script);\n",
       "  }\n",
       "\n",
       "  /**\n",
       "   * Handle when an output is cleared or removed\n",
       "   */\n",
       "  function handleClearOutput(event, handle) {\n",
       "    var cell = handle.cell;\n",
       "\n",
       "    var id = cell.output_area._bokeh_element_id;\n",
       "    var server_id = cell.output_area._bokeh_server_id;\n",
       "    // Clean up Bokeh references\n",
       "    if (id !== undefined) {\n",
       "      Bokeh.index[id].model.document.clear();\n",
       "      delete Bokeh.index[id];\n",
       "    }\n",
       "\n",
       "    if (server_id !== undefined) {\n",
       "      // Clean up Bokeh references\n",
       "      var cmd = \"from bokeh.io import _state; print(_state.uuid_to_server['\" + server_id + \"'].get_sessions()[0].document.roots[0]._id)\";\n",
       "      cell.notebook.kernel.execute(cmd, {\n",
       "        iopub: {\n",
       "          output: function(msg) {\n",
       "            var element_id = msg.content.text.trim();\n",
       "            Bokeh.index[element_id].model.document.clear();\n",
       "            delete Bokeh.index[element_id];\n",
       "          }\n",
       "        }\n",
       "      });\n",
       "      // Destroy server and session\n",
       "      var cmd = \"from bokeh import io; io._destroy_server('\" + server_id + \"')\";\n",
       "      cell.notebook.kernel.execute(cmd);\n",
       "    }\n",
       "  }\n",
       "\n",
       "  /**\n",
       "   * Handle when a new output is added\n",
       "   */\n",
       "  function handleAddOutput(event, handle) {\n",
       "    var output_area = handle.output_area;\n",
       "    var output = handle.output;\n",
       "\n",
       "    // limit handleAddOutput to display_data with EXEC_MIME_TYPE content only\n",
       "    if ((output.output_type != \"display_data\") || (!output.data.hasOwnProperty(EXEC_MIME_TYPE))) {\n",
       "      return\n",
       "    }\n",
       "\n",
       "    var toinsert = output_area.element.find(`.${CLASS_NAME.split(' ')[0]}`);\n",
       "\n",
       "    if (output.metadata[EXEC_MIME_TYPE][\"id\"] !== undefined) {\n",
       "      toinsert[0].firstChild.textContent = output.data[JS_MIME_TYPE];\n",
       "      // store reference to embed id on output_area\n",
       "      output_area._bokeh_element_id = output.metadata[EXEC_MIME_TYPE][\"id\"];\n",
       "    }\n",
       "    if (output.metadata[EXEC_MIME_TYPE][\"server_id\"] !== undefined) {\n",
       "      var bk_div = document.createElement(\"div\");\n",
       "      bk_div.innerHTML = output.data[HTML_MIME_TYPE];\n",
       "      var script_attrs = bk_div.children[0].attributes;\n",
       "      for (var i = 0; i < script_attrs.length; i++) {\n",
       "        toinsert[0].firstChild.setAttribute(script_attrs[i].name, script_attrs[i].value);\n",
       "      }\n",
       "      // store reference to server id on output_area\n",
       "      output_area._bokeh_server_id = output.metadata[EXEC_MIME_TYPE][\"server_id\"];\n",
       "    }\n",
       "  }\n",
       "\n",
       "  function register_renderer(events, OutputArea) {\n",
       "\n",
       "    function append_mime(data, metadata, element) {\n",
       "      // create a DOM node to render to\n",
       "      var toinsert = this.create_output_subarea(\n",
       "        metadata,\n",
       "        CLASS_NAME,\n",
       "        EXEC_MIME_TYPE\n",
       "      );\n",
       "      this.keyboard_manager.register_events(toinsert);\n",
       "      // Render to node\n",
       "      var props = {data: data, metadata: metadata[EXEC_MIME_TYPE]};\n",
       "      render(props, toinsert[0]);\n",
       "      element.append(toinsert);\n",
       "      return toinsert\n",
       "    }\n",
       "\n",
       "    /* Handle when an output is cleared or removed */\n",
       "    events.on('clear_output.CodeCell', handleClearOutput);\n",
       "    events.on('delete.Cell', handleClearOutput);\n",
       "\n",
       "    /* Handle when a new output is added */\n",
       "    events.on('output_added.OutputArea', handleAddOutput);\n",
       "\n",
       "    /**\n",
       "     * Register the mime type and append_mime function with output_area\n",
       "     */\n",
       "    OutputArea.prototype.register_mime_type(EXEC_MIME_TYPE, append_mime, {\n",
       "      /* Is output safe? */\n",
       "      safe: true,\n",
       "      /* Index of renderer in `output_area.display_order` */\n",
       "      index: 0\n",
       "    });\n",
       "  }\n",
       "\n",
       "  // register the mime type if in Jupyter Notebook environment and previously unregistered\n",
       "  if (root.Jupyter !== undefined) {\n",
       "    var events = require('base/js/events');\n",
       "    var OutputArea = require('notebook/js/outputarea').OutputArea;\n",
       "\n",
       "    if (OutputArea.prototype.mime_types().indexOf(EXEC_MIME_TYPE) == -1) {\n",
       "      register_renderer(events, OutputArea);\n",
       "    }\n",
       "  }\n",
       "\n",
       "  \n",
       "  if (typeof (root._bokeh_timeout) === \"undefined\" || force === true) {\n",
       "    root._bokeh_timeout = Date.now() + 5000;\n",
       "    root._bokeh_failed_load = false;\n",
       "  }\n",
       "\n",
       "  var NB_LOAD_WARNING = {'data': {'text/html':\n",
       "     \"<div style='background-color: #fdd'>\\n\"+\n",
       "     \"<p>\\n\"+\n",
       "     \"BokehJS does not appear to have successfully loaded. If loading BokehJS from CDN, this \\n\"+\n",
       "     \"may be due to a slow or bad network connection. Possible fixes:\\n\"+\n",
       "     \"</p>\\n\"+\n",
       "     \"<ul>\\n\"+\n",
       "     \"<li>re-rerun `output_notebook()` to attempt to load from CDN again, or</li>\\n\"+\n",
       "     \"<li>use INLINE resources instead, as so:</li>\\n\"+\n",
       "     \"</ul>\\n\"+\n",
       "     \"<code>\\n\"+\n",
       "     \"from bokeh.resources import INLINE\\n\"+\n",
       "     \"output_notebook(resources=INLINE)\\n\"+\n",
       "     \"</code>\\n\"+\n",
       "     \"</div>\"}};\n",
       "\n",
       "  function display_loaded() {\n",
       "    var el = document.getElementById(\"ef28cbdb-5429-474c-bc59-554e01e6e0b6\");\n",
       "    if (el != null) {\n",
       "      el.textContent = \"BokehJS is loading...\";\n",
       "    }\n",
       "    if (root.Bokeh !== undefined) {\n",
       "      if (el != null) {\n",
       "        el.textContent = \"BokehJS \" + root.Bokeh.version + \" successfully loaded.\";\n",
       "      }\n",
       "    } else if (Date.now() < root._bokeh_timeout) {\n",
       "      setTimeout(display_loaded, 100)\n",
       "    }\n",
       "  }\n",
       "\n",
       "\n",
       "  function run_callbacks() {\n",
       "    try {\n",
       "      root._bokeh_onload_callbacks.forEach(function(callback) { callback() });\n",
       "    }\n",
       "    finally {\n",
       "      delete root._bokeh_onload_callbacks\n",
       "    }\n",
       "    console.info(\"Bokeh: all callbacks have finished\");\n",
       "  }\n",
       "\n",
       "  function load_libs(js_urls, callback) {\n",
       "    root._bokeh_onload_callbacks.push(callback);\n",
       "    if (root._bokeh_is_loading > 0) {\n",
       "      console.log(\"Bokeh: BokehJS is being loaded, scheduling callback at\", now());\n",
       "      return null;\n",
       "    }\n",
       "    if (js_urls == null || js_urls.length === 0) {\n",
       "      run_callbacks();\n",
       "      return null;\n",
       "    }\n",
       "    console.log(\"Bokeh: BokehJS not loaded, scheduling load and callback at\", now());\n",
       "    root._bokeh_is_loading = js_urls.length;\n",
       "    for (var i = 0; i < js_urls.length; i++) {\n",
       "      var url = js_urls[i];\n",
       "      var s = document.createElement('script');\n",
       "      s.src = url;\n",
       "      s.async = false;\n",
       "      s.onreadystatechange = s.onload = function() {\n",
       "        root._bokeh_is_loading--;\n",
       "        if (root._bokeh_is_loading === 0) {\n",
       "          console.log(\"Bokeh: all BokehJS libraries loaded\");\n",
       "          run_callbacks()\n",
       "        }\n",
       "      };\n",
       "      s.onerror = function() {\n",
       "        console.warn(\"failed to load library \" + url);\n",
       "      };\n",
       "      console.log(\"Bokeh: injecting script tag for BokehJS library: \", url);\n",
       "      document.getElementsByTagName(\"head\")[0].appendChild(s);\n",
       "    }\n",
       "  };var element = document.getElementById(\"ef28cbdb-5429-474c-bc59-554e01e6e0b6\");\n",
       "  if (element == null) {\n",
       "    console.log(\"Bokeh: ERROR: autoload.js configured with elementid 'ef28cbdb-5429-474c-bc59-554e01e6e0b6' but no matching script tag was found. \")\n",
       "    return false;\n",
       "  }\n",
       "\n",
       "  var js_urls = [\"https://cdn.pydata.org/bokeh/release/bokeh-0.12.9.min.js\", \"https://cdn.pydata.org/bokeh/release/bokeh-widgets-0.12.9.min.js\", \"https://cdn.pydata.org/bokeh/release/bokeh-tables-0.12.9.min.js\", \"https://cdn.pydata.org/bokeh/release/bokeh-gl-0.12.9.min.js\"];\n",
       "\n",
       "  var inline_js = [\n",
       "    function(Bokeh) {\n",
       "      Bokeh.set_log_level(\"info\");\n",
       "    },\n",
       "    \n",
       "    function(Bokeh) {\n",
       "      \n",
       "    },\n",
       "    function(Bokeh) {\n",
       "      console.log(\"Bokeh: injecting CSS: https://cdn.pydata.org/bokeh/release/bokeh-0.12.9.min.css\");\n",
       "      Bokeh.embed.inject_css(\"https://cdn.pydata.org/bokeh/release/bokeh-0.12.9.min.css\");\n",
       "      console.log(\"Bokeh: injecting CSS: https://cdn.pydata.org/bokeh/release/bokeh-widgets-0.12.9.min.css\");\n",
       "      Bokeh.embed.inject_css(\"https://cdn.pydata.org/bokeh/release/bokeh-widgets-0.12.9.min.css\");\n",
       "      console.log(\"Bokeh: injecting CSS: https://cdn.pydata.org/bokeh/release/bokeh-tables-0.12.9.min.css\");\n",
       "      Bokeh.embed.inject_css(\"https://cdn.pydata.org/bokeh/release/bokeh-tables-0.12.9.min.css\");\n",
       "    }\n",
       "  ];\n",
       "\n",
       "  function run_inline_js() {\n",
       "    \n",
       "    if ((root.Bokeh !== undefined) || (force === true)) {\n",
       "      for (var i = 0; i < inline_js.length; i++) {\n",
       "        inline_js[i].call(root, root.Bokeh);\n",
       "      }if (force === true) {\n",
       "        display_loaded();\n",
       "      }} else if (Date.now() < root._bokeh_timeout) {\n",
       "      setTimeout(run_inline_js, 100);\n",
       "    } else if (!root._bokeh_failed_load) {\n",
       "      console.log(\"Bokeh: BokehJS failed to load within specified timeout.\");\n",
       "      root._bokeh_failed_load = true;\n",
       "    } else if (force !== true) {\n",
       "      var cell = $(document.getElementById(\"ef28cbdb-5429-474c-bc59-554e01e6e0b6\")).parents('.cell').data().cell;\n",
       "      cell.output_area.append_execute_result(NB_LOAD_WARNING)\n",
       "    }\n",
       "\n",
       "  }\n",
       "\n",
       "  if (root._bokeh_is_loading === 0) {\n",
       "    console.log(\"Bokeh: BokehJS loaded, going straight to plotting\");\n",
       "    run_inline_js();\n",
       "  } else {\n",
       "    load_libs(js_urls, function() {\n",
       "      console.log(\"Bokeh: BokehJS plotting callback run at\", now());\n",
       "      run_inline_js();\n",
       "    });\n",
       "  }\n",
       "}(window));"
      ],
      "application/vnd.bokehjs_load.v0+json": "\n(function(root) {\n  function now() {\n    return new Date();\n  }\n\n  var force = true;\n\n  if (typeof (root._bokeh_onload_callbacks) === \"undefined\" || force === true) {\n    root._bokeh_onload_callbacks = [];\n    root._bokeh_is_loading = undefined;\n  }\n\n  \n\n  \n  if (typeof (root._bokeh_timeout) === \"undefined\" || force === true) {\n    root._bokeh_timeout = Date.now() + 5000;\n    root._bokeh_failed_load = false;\n  }\n\n  var NB_LOAD_WARNING = {'data': {'text/html':\n     \"<div style='background-color: #fdd'>\\n\"+\n     \"<p>\\n\"+\n     \"BokehJS does not appear to have successfully loaded. If loading BokehJS from CDN, this \\n\"+\n     \"may be due to a slow or bad network connection. Possible fixes:\\n\"+\n     \"</p>\\n\"+\n     \"<ul>\\n\"+\n     \"<li>re-rerun `output_notebook()` to attempt to load from CDN again, or</li>\\n\"+\n     \"<li>use INLINE resources instead, as so:</li>\\n\"+\n     \"</ul>\\n\"+\n     \"<code>\\n\"+\n     \"from bokeh.resources import INLINE\\n\"+\n     \"output_notebook(resources=INLINE)\\n\"+\n     \"</code>\\n\"+\n     \"</div>\"}};\n\n  function display_loaded() {\n    var el = document.getElementById(\"ef28cbdb-5429-474c-bc59-554e01e6e0b6\");\n    if (el != null) {\n      el.textContent = \"BokehJS is loading...\";\n    }\n    if (root.Bokeh !== undefined) {\n      if (el != null) {\n        el.textContent = \"BokehJS \" + root.Bokeh.version + \" successfully loaded.\";\n      }\n    } else if (Date.now() < root._bokeh_timeout) {\n      setTimeout(display_loaded, 100)\n    }\n  }\n\n\n  function run_callbacks() {\n    try {\n      root._bokeh_onload_callbacks.forEach(function(callback) { callback() });\n    }\n    finally {\n      delete root._bokeh_onload_callbacks\n    }\n    console.info(\"Bokeh: all callbacks have finished\");\n  }\n\n  function load_libs(js_urls, callback) {\n    root._bokeh_onload_callbacks.push(callback);\n    if (root._bokeh_is_loading > 0) {\n      console.log(\"Bokeh: BokehJS is being loaded, scheduling callback at\", now());\n      return null;\n    }\n    if (js_urls == null || js_urls.length === 0) {\n      run_callbacks();\n      return null;\n    }\n    console.log(\"Bokeh: BokehJS not loaded, scheduling load and callback at\", now());\n    root._bokeh_is_loading = js_urls.length;\n    for (var i = 0; i < js_urls.length; i++) {\n      var url = js_urls[i];\n      var s = document.createElement('script');\n      s.src = url;\n      s.async = false;\n      s.onreadystatechange = s.onload = function() {\n        root._bokeh_is_loading--;\n        if (root._bokeh_is_loading === 0) {\n          console.log(\"Bokeh: all BokehJS libraries loaded\");\n          run_callbacks()\n        }\n      };\n      s.onerror = function() {\n        console.warn(\"failed to load library \" + url);\n      };\n      console.log(\"Bokeh: injecting script tag for BokehJS library: \", url);\n      document.getElementsByTagName(\"head\")[0].appendChild(s);\n    }\n  };var element = document.getElementById(\"ef28cbdb-5429-474c-bc59-554e01e6e0b6\");\n  if (element == null) {\n    console.log(\"Bokeh: ERROR: autoload.js configured with elementid 'ef28cbdb-5429-474c-bc59-554e01e6e0b6' but no matching script tag was found. \")\n    return false;\n  }\n\n  var js_urls = [\"https://cdn.pydata.org/bokeh/release/bokeh-0.12.9.min.js\", \"https://cdn.pydata.org/bokeh/release/bokeh-widgets-0.12.9.min.js\", \"https://cdn.pydata.org/bokeh/release/bokeh-tables-0.12.9.min.js\", \"https://cdn.pydata.org/bokeh/release/bokeh-gl-0.12.9.min.js\"];\n\n  var inline_js = [\n    function(Bokeh) {\n      Bokeh.set_log_level(\"info\");\n    },\n    \n    function(Bokeh) {\n      \n    },\n    function(Bokeh) {\n      console.log(\"Bokeh: injecting CSS: https://cdn.pydata.org/bokeh/release/bokeh-0.12.9.min.css\");\n      Bokeh.embed.inject_css(\"https://cdn.pydata.org/bokeh/release/bokeh-0.12.9.min.css\");\n      console.log(\"Bokeh: injecting CSS: https://cdn.pydata.org/bokeh/release/bokeh-widgets-0.12.9.min.css\");\n      Bokeh.embed.inject_css(\"https://cdn.pydata.org/bokeh/release/bokeh-widgets-0.12.9.min.css\");\n      console.log(\"Bokeh: injecting CSS: https://cdn.pydata.org/bokeh/release/bokeh-tables-0.12.9.min.css\");\n      Bokeh.embed.inject_css(\"https://cdn.pydata.org/bokeh/release/bokeh-tables-0.12.9.min.css\");\n    }\n  ];\n\n  function run_inline_js() {\n    \n    if ((root.Bokeh !== undefined) || (force === true)) {\n      for (var i = 0; i < inline_js.length; i++) {\n        inline_js[i].call(root, root.Bokeh);\n      }if (force === true) {\n        display_loaded();\n      }} else if (Date.now() < root._bokeh_timeout) {\n      setTimeout(run_inline_js, 100);\n    } else if (!root._bokeh_failed_load) {\n      console.log(\"Bokeh: BokehJS failed to load within specified timeout.\");\n      root._bokeh_failed_load = true;\n    } else if (force !== true) {\n      var cell = $(document.getElementById(\"ef28cbdb-5429-474c-bc59-554e01e6e0b6\")).parents('.cell').data().cell;\n      cell.output_area.append_execute_result(NB_LOAD_WARNING)\n    }\n\n  }\n\n  if (root._bokeh_is_loading === 0) {\n    console.log(\"Bokeh: BokehJS loaded, going straight to plotting\");\n    run_inline_js();\n  } else {\n    load_libs(js_urls, function() {\n      console.log(\"Bokeh: BokehJS plotting callback run at\", now());\n      run_inline_js();\n    });\n  }\n}(window));"
     },
     "metadata": {},
     "output_type": "display_data"
    }
   ],
   "source": [
    "output_notebook()"
   ]
  },
  {
   "cell_type": "code",
   "execution_count": null,
   "metadata": {
    "collapsed": true
   },
   "outputs": [],
   "source": [
    "p = figure(plot_width=400, plot_height=400, output_backend=\"svg\")\n",
    "p.quad(top=[2, 3, 4], bottom=[1, 2, 3], left=[1, 2, 3],\n",
    "      right=[1.2, 2.5, 3.7])"
   ]
  },
  {
   "cell_type": "code",
   "execution_count": null,
   "metadata": {
    "collapsed": true
   },
   "outputs": [],
   "source": [
    "show(p)"
   ]
  },
  {
   "cell_type": "code",
   "execution_count": null,
   "metadata": {
    "collapsed": true
   },
   "outputs": [],
   "source": []
  },
  {
   "cell_type": "markdown",
   "metadata": {},
   "source": [
    "# Visualizing Genetic Map Using Chromosome Ideograms"
   ]
  },
  {
   "cell_type": "code",
   "execution_count": 4,
   "metadata": {
    "collapsed": true
   },
   "outputs": [],
   "source": [
    "genetic_map = h5py.File(\"genetic_map.hdf5\")"
   ]
  },
  {
   "cell_type": "code",
   "execution_count": 5,
   "metadata": {},
   "outputs": [
    {
     "data": {
      "text/plain": [
       "['chromosome_1',\n",
       " 'chromosome_10',\n",
       " 'chromosome_2',\n",
       " 'chromosome_3',\n",
       " 'chromosome_4',\n",
       " 'chromosome_5',\n",
       " 'chromosome_6',\n",
       " 'chromosome_7',\n",
       " 'chromosome_8',\n",
       " 'chromosome_9',\n",
       " 'recombination_frequencies']"
      ]
     },
     "execution_count": 5,
     "metadata": {},
     "output_type": "execute_result"
    }
   ],
   "source": [
    "list(genetic_map)"
   ]
  },
  {
   "cell_type": "markdown",
   "metadata": {},
   "source": [
    "# Columns in Improved Genetic Map:\n",
    "    absolute_locus, relative_locus, chromosome, cM"
   ]
  },
  {
   "cell_type": "code",
   "execution_count": 13,
   "metadata": {
    "collapsed": true
   },
   "outputs": [],
   "source": [
    "improved_genetic_map = h5py.File(\"improved_genetic_map.hdf5\")"
   ]
  },
  {
   "cell_type": "code",
   "execution_count": 104,
   "metadata": {},
   "outputs": [],
   "source": [
    "improved_genetic_map.attrs['columns'] = list(map(np.string_, ['absolute_locus, relative_locus,' \n",
    "                                                              'chromosome, cM, pairwise_distances']))"
   ]
  },
  {
   "cell_type": "code",
   "execution_count": 105,
   "metadata": {},
   "outputs": [
    {
     "data": {
      "text/plain": [
       "array([b'absolute_locus, relative_locus,chromosome, cM, pairwise_distances'], \n",
       "      dtype='|S68')"
      ]
     },
     "execution_count": 105,
     "metadata": {},
     "output_type": "execute_result"
    }
   ],
   "source": [
    "improved_genetic_map.attrs['columns']"
   ]
  },
  {
   "cell_type": "code",
   "execution_count": 14,
   "metadata": {},
   "outputs": [],
   "source": [
    "chr_1 = np.array(genetic_map['chromosome_1'])"
   ]
  },
  {
   "cell_type": "code",
   "execution_count": 22,
   "metadata": {},
   "outputs": [
    {
     "data": {
      "text/plain": [
       "array([[    1.    ,     1.    ,    -5.5112],\n",
       "       [    2.    ,     1.    ,    -5.302 ],\n",
       "       [    3.    ,     1.    ,    -5.2997],\n",
       "       ..., \n",
       "       [ 6937.    ,     1.    ,   206.2124],\n",
       "       [ 6938.    ,     1.    ,   206.2276],\n",
       "       [ 6939.    ,     1.    ,   206.2595]])"
      ]
     },
     "execution_count": 22,
     "metadata": {},
     "output_type": "execute_result"
    }
   ],
   "source": [
    "chr_1"
   ]
  },
  {
   "cell_type": "code",
   "execution_count": 28,
   "metadata": {},
   "outputs": [
    {
     "data": {
      "text/plain": [
       "(6939, 3)"
      ]
     },
     "execution_count": 28,
     "metadata": {},
     "output_type": "execute_result"
    }
   ],
   "source": [
    "chr_1.shape"
   ]
  },
  {
   "cell_type": "code",
   "execution_count": 85,
   "metadata": {},
   "outputs": [],
   "source": [
    "relative_loci = [locus for locus in range(example_pop.numLoci(0))]"
   ]
  },
  {
   "cell_type": "code",
   "execution_count": 86,
   "metadata": {
    "collapsed": true
   },
   "outputs": [],
   "source": [
    "improved_chr1 = np.zeros((6939, 5))"
   ]
  },
  {
   "cell_type": "code",
   "execution_count": 87,
   "metadata": {},
   "outputs": [],
   "source": [
    "improved_chr1[:, 0] = chr_1[:, 0]"
   ]
  },
  {
   "cell_type": "code",
   "execution_count": 88,
   "metadata": {
    "collapsed": true
   },
   "outputs": [],
   "source": [
    "relative_loci = np.array(relative_loci)"
   ]
  },
  {
   "cell_type": "code",
   "execution_count": 89,
   "metadata": {},
   "outputs": [],
   "source": [
    "reindexed_relative_loci = relative_loci + 1"
   ]
  },
  {
   "cell_type": "code",
   "execution_count": 90,
   "metadata": {
    "collapsed": true
   },
   "outputs": [],
   "source": [
    "improved_chr1[:, 1] = reindexed_relative_loci"
   ]
  },
  {
   "cell_type": "code",
   "execution_count": 126,
   "metadata": {},
   "outputs": [
    {
     "data": {
      "text/plain": [
       "array([[    1.    ,     1.    ,    -5.5112],\n",
       "       [    2.    ,     1.    ,    -5.302 ],\n",
       "       [    3.    ,     1.    ,    -5.2997],\n",
       "       ..., \n",
       "       [ 6937.    ,     1.    ,   206.2124],\n",
       "       [ 6938.    ,     1.    ,   206.2276],\n",
       "       [ 6939.    ,     1.    ,   206.2595]])"
      ]
     },
     "execution_count": 126,
     "metadata": {},
     "output_type": "execute_result"
    }
   ],
   "source": [
    "chr_1"
   ]
  },
  {
   "cell_type": "code",
   "execution_count": 101,
   "metadata": {},
   "outputs": [],
   "source": [
    "improved_chr1[:, 2] = chr_1[:, 1]\n",
    "improved_chr1[:, 3] = chr_1[:, 2]\n",
    "cM1 = improved_chr1[:, 3]\n",
    "pairwise_distances = np.array([np.abs(cM1[i-1] - cM1[i]) for i in range(1, cM1.shape[0])] + [0])/100\n",
    "improved_chr1[:, 4] = pairwise_distances"
   ]
  },
  {
   "cell_type": "code",
   "execution_count": 127,
   "metadata": {},
   "outputs": [
    {
     "data": {
      "text/plain": [
       "array([[    1.    ,     1.    ,    -5.5112],\n",
       "       [    2.    ,     1.    ,    -5.302 ],\n",
       "       [    3.    ,     1.    ,    -5.2997],\n",
       "       ..., \n",
       "       [ 6937.    ,     1.    ,   206.2124],\n",
       "       [ 6938.    ,     1.    ,   206.2276],\n",
       "       [ 6939.    ,     1.    ,   206.2595]])"
      ]
     },
     "execution_count": 127,
     "metadata": {},
     "output_type": "execute_result"
    }
   ],
   "source": [
    "chr_1"
   ]
  },
  {
   "cell_type": "code",
   "execution_count": null,
   "metadata": {
    "collapsed": true
   },
   "outputs": [],
   "source": []
  },
  {
   "cell_type": "code",
   "execution_count": 102,
   "metadata": {},
   "outputs": [
    {
     "data": {
      "text/plain": [
       "array([[    1.    ,     1.    ,     1.    ,    -5.5112,     0.0021],\n",
       "       [    2.    ,     2.    ,     1.    ,    -5.302 ,     0.    ],\n",
       "       [    3.    ,     3.    ,     1.    ,    -5.2997,     0.0004],\n",
       "       ..., \n",
       "       [ 6937.    ,  6937.    ,     1.    ,   206.2124,     0.0002],\n",
       "       [ 6938.    ,  6938.    ,     1.    ,   206.2276,     0.0003],\n",
       "       [ 6939.    ,  6939.    ,     1.    ,   206.2595,     0.    ]])"
      ]
     },
     "execution_count": 102,
     "metadata": {},
     "output_type": "execute_result"
    }
   ],
   "source": [
    "improved_chr1"
   ]
  },
  {
   "cell_type": "code",
   "execution_count": null,
   "metadata": {
    "collapsed": true
   },
   "outputs": [],
   "source": []
  },
  {
   "cell_type": "code",
   "execution_count": 130,
   "metadata": {},
   "outputs": [
    {
     "data": {
      "text/plain": [
       "array([[  6940.    ,      0.    ,      2.    ,      2.3445,      0.    ],\n",
       "       [  6941.    ,      1.    ,      2.    ,      2.3447,      0.    ],\n",
       "       [  6942.    ,      2.    ,      2.    ,      2.5631,      0.    ],\n",
       "       ..., \n",
       "       [ 12108.    ,   5168.    ,      2.    ,    158.4893,      0.    ],\n",
       "       [ 12109.    ,   5169.    ,      2.    ,    158.4969,      0.    ],\n",
       "       [ 12110.    ,   5170.    ,      2.    ,    158.4973,      0.    ]])"
      ]
     },
     "execution_count": 130,
     "metadata": {},
     "output_type": "execute_result"
    }
   ],
   "source": [
    "improved_chromosome"
   ]
  },
  {
   "cell_type": "code",
   "execution_count": 145,
   "metadata": {},
   "outputs": [],
   "source": [
    "improved_genetic_map['chromosome_2'][:, 1] = improved_genetic_map['chromosome_2'][:, 1] + 1"
   ]
  },
  {
   "cell_type": "code",
   "execution_count": null,
   "metadata": {
    "collapsed": true
   },
   "outputs": [],
   "source": [
    "improved_genetic_map['chromosome_']"
   ]
  },
  {
   "cell_type": "code",
   "execution_count": 138,
   "metadata": {
    "collapsed": true
   },
   "outputs": [
    {
     "ename": "RuntimeError",
     "evalue": "Unable to create link (Name already exists)",
     "output_type": "error",
     "traceback": [
      "\u001b[0;31m---------------------------------------------------------------------------\u001b[0m",
      "\u001b[0;31mRuntimeError\u001b[0m                              Traceback (most recent call last)",
      "\u001b[0;32m<ipython-input-138-9affc09c244f>\u001b[0m in \u001b[0;36m<module>\u001b[0;34m()\u001b[0m\n\u001b[1;32m      9\u001b[0m     improved_chromosome[:, 4] = np.array([np.abs(cM[i-1] - cM[i]) for i in range(1, cM.shape[0])] \n\u001b[1;32m     10\u001b[0m                                          + [0])/100\n\u001b[0;32m---> 11\u001b[0;31m     \u001b[0mimproved_genetic_map\u001b[0m\u001b[0;34m[\u001b[0m\u001b[0;34m'chromosome_'\u001b[0m \u001b[0;34m+\u001b[0m \u001b[0mstr\u001b[0m\u001b[0;34m(\u001b[0m\u001b[0mi\u001b[0m\u001b[0;34m)\u001b[0m\u001b[0;34m]\u001b[0m \u001b[0;34m=\u001b[0m \u001b[0mimproved_chromosome\u001b[0m\u001b[0;34m\u001b[0m\u001b[0m\n\u001b[0m",
      "\u001b[0;32mh5py/_objects.pyx\u001b[0m in \u001b[0;36mh5py._objects.with_phil.wrapper (/feedstock_root/build_artefacts/h5py_1496411133713/work/h5py-2.7.0/h5py/_objects.c:2846)\u001b[0;34m()\u001b[0m\n",
      "\u001b[0;32mh5py/_objects.pyx\u001b[0m in \u001b[0;36mh5py._objects.with_phil.wrapper (/feedstock_root/build_artefacts/h5py_1496411133713/work/h5py-2.7.0/h5py/_objects.c:2804)\u001b[0;34m()\u001b[0m\n",
      "\u001b[0;32m~/anaconda43/lib/python3.6/site-packages/h5py/_hl/group.py\u001b[0m in \u001b[0;36m__setitem__\u001b[0;34m(self, name, obj)\u001b[0m\n\u001b[1;32m    290\u001b[0m         \u001b[0;32melse\u001b[0m\u001b[0;34m:\u001b[0m\u001b[0;34m\u001b[0m\u001b[0m\n\u001b[1;32m    291\u001b[0m             \u001b[0mds\u001b[0m \u001b[0;34m=\u001b[0m \u001b[0mself\u001b[0m\u001b[0;34m.\u001b[0m\u001b[0mcreate_dataset\u001b[0m\u001b[0;34m(\u001b[0m\u001b[0;32mNone\u001b[0m\u001b[0;34m,\u001b[0m \u001b[0mdata\u001b[0m\u001b[0;34m=\u001b[0m\u001b[0mobj\u001b[0m\u001b[0;34m,\u001b[0m \u001b[0mdtype\u001b[0m\u001b[0;34m=\u001b[0m\u001b[0mbase\u001b[0m\u001b[0;34m.\u001b[0m\u001b[0mguess_dtype\u001b[0m\u001b[0;34m(\u001b[0m\u001b[0mobj\u001b[0m\u001b[0;34m)\u001b[0m\u001b[0;34m)\u001b[0m\u001b[0;34m\u001b[0m\u001b[0m\n\u001b[0;32m--> 292\u001b[0;31m             \u001b[0mh5o\u001b[0m\u001b[0;34m.\u001b[0m\u001b[0mlink\u001b[0m\u001b[0;34m(\u001b[0m\u001b[0mds\u001b[0m\u001b[0;34m.\u001b[0m\u001b[0mid\u001b[0m\u001b[0;34m,\u001b[0m \u001b[0mself\u001b[0m\u001b[0;34m.\u001b[0m\u001b[0mid\u001b[0m\u001b[0;34m,\u001b[0m \u001b[0mname\u001b[0m\u001b[0;34m,\u001b[0m \u001b[0mlcpl\u001b[0m\u001b[0;34m=\u001b[0m\u001b[0mlcpl\u001b[0m\u001b[0;34m)\u001b[0m\u001b[0;34m\u001b[0m\u001b[0m\n\u001b[0m\u001b[1;32m    293\u001b[0m \u001b[0;34m\u001b[0m\u001b[0m\n\u001b[1;32m    294\u001b[0m     \u001b[0;34m@\u001b[0m\u001b[0mwith_phil\u001b[0m\u001b[0;34m\u001b[0m\u001b[0m\n",
      "\u001b[0;32mh5py/_objects.pyx\u001b[0m in \u001b[0;36mh5py._objects.with_phil.wrapper (/feedstock_root/build_artefacts/h5py_1496411133713/work/h5py-2.7.0/h5py/_objects.c:2846)\u001b[0;34m()\u001b[0m\n",
      "\u001b[0;32mh5py/_objects.pyx\u001b[0m in \u001b[0;36mh5py._objects.with_phil.wrapper (/feedstock_root/build_artefacts/h5py_1496411133713/work/h5py-2.7.0/h5py/_objects.c:2804)\u001b[0;34m()\u001b[0m\n",
      "\u001b[0;32mh5py/h5o.pyx\u001b[0m in \u001b[0;36mh5py.h5o.link (/feedstock_root/build_artefacts/h5py_1496411133713/work/h5py-2.7.0/h5py/h5o.c:3901)\u001b[0;34m()\u001b[0m\n",
      "\u001b[0;31mRuntimeError\u001b[0m: Unable to create link (Name already exists)"
     ]
    }
   ],
   "source": [
    "for i in range(2, 11):\n",
    "    current_chromosome = genetic_map['chromosome_' + str(i)]\n",
    "    improved_chromosome = np.zeros((current_chromosome.shape[0], 5))\n",
    "    improved_chromosome[:, 0] = current_chromosome[:, 0]\n",
    "    improved_chromosome[:, 1] = np.array([locus for locus in range(example_pop.numLoci(i-1))]) + 1\n",
    "    improved_chromosome[:, 2] = current_chromosome[:, 1]\n",
    "    improved_chromosome[:, 3] = current_chromosome[:, 2]\n",
    "    cM = current_chromosome[:, 2]\n",
    "    improved_chromosome[:, 4] = np.array([np.abs(cM[i-1] - cM[i]) for i in range(1, cM.shape[0])] \n",
    "                                         + [0])/100\n",
    "    improved_genetic_map['chromosome_' + str(i)] = improved_chromosome"
   ]
  },
  {
   "cell_type": "code",
   "execution_count": 151,
   "metadata": {},
   "outputs": [],
   "source": [
    "for i in range(3, 11):\n",
    "    improved_genetic_map['chromosome_' + str(i)][:, 1] = improved_genetic_map['chromosome_' + str(i)][:, 1] + 1 "
   ]
  },
  {
   "cell_type": "code",
   "execution_count": 157,
   "metadata": {},
   "outputs": [
    {
     "data": {
      "text/plain": [
       "array([    1.,     2.,     3., ...,  3773.,  3774.,  3775.])"
      ]
     },
     "execution_count": 157,
     "metadata": {},
     "output_type": "execute_result"
    }
   ],
   "source": [
    "improved_genetic_map['chromosome_7'][:, 1]"
   ]
  },
  {
   "cell_type": "code",
   "execution_count": 158,
   "metadata": {
    "collapsed": true
   },
   "outputs": [],
   "source": [
    "improved_genetic_map.close()"
   ]
  },
  {
   "cell_type": "code",
   "execution_count": null,
   "metadata": {
    "collapsed": true
   },
   "outputs": [],
   "source": []
  },
  {
   "cell_type": "code",
   "execution_count": 60,
   "metadata": {},
   "outputs": [
    {
     "data": {
      "text/plain": [
       "0.20926625899999962"
      ]
     },
     "execution_count": 60,
     "metadata": {},
     "output_type": "execute_result"
    }
   ],
   "source": [
    "np.abs(cM1[0] - cM1[1])"
   ]
  },
  {
   "cell_type": "markdown",
   "metadata": {},
   "source": [
    "# Plot of $$|L_{i-1} - L_i|$$"
   ]
  },
  {
   "cell_type": "code",
   "execution_count": 118,
   "metadata": {
    "collapsed": true
   },
   "outputs": [],
   "source": [
    "cM1 = improved_chr1[:, 3]\n",
    "pairwise_distances = np.array([np.abs(cM1[i-1] - cM1[i]) for i in range(1, cM1.shape[0])])/100\n",
    "#negative_ln_recombs = -1*np.log(pairwise_distances)\n",
    "hist, edges = np.histogram(pairwise_distances, density=True, bins=50)"
   ]
  },
  {
   "cell_type": "code",
   "execution_count": 119,
   "metadata": {},
   "outputs": [
    {
     "data": {
      "text/plain": [
       "array([ 3343.8478,   407.5038,   269.1705,   199.6632,   117.8899,\n",
       "          88.5878,    60.6486,    46.3382,    46.3382,    32.0279,\n",
       "          21.8062,    15.6732,    17.7176,     7.4959,     6.8144,\n",
       "           8.8588,     4.0887,     2.0443,     6.133 ,     1.3629,\n",
       "           1.3629,     2.0443,     2.0443,     1.3629,     2.0443,\n",
       "           0.6814,     2.0443,     2.7258,     0.6814,     0.    ,\n",
       "           1.3629,     2.0443,     0.    ,     0.    ,     0.6814,\n",
       "           2.0443,     0.    ,     0.    ,     0.6814,     0.    ,\n",
       "           0.6814,     0.    ,     0.    ,     0.    ,     0.    ,\n",
       "           0.    ,     0.6814,     0.    ,     0.    ,     0.6814])"
      ]
     },
     "execution_count": 119,
     "metadata": {},
     "output_type": "execute_result"
    }
   ],
   "source": [
    "hist"
   ]
  },
  {
   "cell_type": "code",
   "execution_count": 120,
   "metadata": {
    "collapsed": true
   },
   "outputs": [],
   "source": [
    "genmap_distances = figure(title=\"Distribution of Pairwise cM Distances: Chromosome 1\",\n",
    "                          tools=\"save\", \n",
    "                          background_fill_color=\"#E8DDCB\", \n",
    "                          output_backend=\"svg\")\n",
    "\n",
    "genmap_distances.quad(top=hist, bottom=0, left=edges[:-1], right=edges[1:],\n",
    "        fill_color=\"#036564\", line_color=\"#033649\")\n",
    "\n",
    "genmap_distances.legend.location = \"center_right\"\n",
    "genmap_distances.legend.background_fill_color = \"darkgrey\"\n",
    "genmap_distances.xaxis.axis_label = '-ln(|cM_i-1, cM_i|)'\n",
    "genmap_distances.yaxis.axis_label = 'frequency'"
   ]
  },
  {
   "cell_type": "code",
   "execution_count": 121,
   "metadata": {},
   "outputs": [
    {
     "data": {
      "text/html": [
       "\n",
       "<div class=\"bk-root\">\n",
       "    <div class=\"bk-plotdiv\" id=\"5e0f505f-e933-4fa6-a3cd-9cd200e216bd\"></div>\n",
       "</div>"
      ]
     },
     "metadata": {},
     "output_type": "display_data"
    },
    {
     "data": {
      "application/javascript": [
       "(function(root) {\n",
       "  function embed_document(root) {\n",
       "    var docs_json = {\"4320c28f-e59b-4b42-8bc2-76ddb1035845\":{\"roots\":{\"references\":[{\"attributes\":{\"data_source\":{\"id\":\"b8de5696-71e8-416c-9c7f-6c64aa0ab84e\",\"type\":\"ColumnDataSource\"},\"glyph\":{\"id\":\"72009bff-7f11-414b-9cf8-b54409587537\",\"type\":\"Quad\"},\"hover_glyph\":null,\"muted_glyph\":null,\"nonselection_glyph\":{\"id\":\"70317721-47c8-4a86-9a98-f28923fe02df\",\"type\":\"Quad\"},\"selection_glyph\":null,\"view\":{\"id\":\"81d031d9-794d-4614-96ef-f78f167ebb68\",\"type\":\"CDSView\"}},\"id\":\"2dbd6e1d-0c71-47e8-a4d4-91fd912af3f1\",\"type\":\"GlyphRenderer\"},{\"attributes\":{},\"id\":\"68a09f91-3cbb-4ef1-9393-0417013c5449\",\"type\":\"LinearScale\"},{\"attributes\":{\"bottom\":{\"value\":0},\"fill_color\":{\"value\":\"#036564\"},\"left\":{\"field\":\"left\"},\"line_color\":{\"value\":\"#033649\"},\"right\":{\"field\":\"right\"},\"top\":{\"field\":\"top\"}},\"id\":\"72009bff-7f11-414b-9cf8-b54409587537\",\"type\":\"Quad\"},{\"attributes\":{\"callback\":null},\"id\":\"cb3e606c-894b-44af-a524-8b7135710e2d\",\"type\":\"DataRange1d\"},{\"attributes\":{\"background_fill_color\":{\"value\":\"#E8DDCB\"},\"below\":[{\"id\":\"b0104212-b326-49b6-ae14-f5fae90c4b7a\",\"type\":\"LinearAxis\"}],\"left\":[{\"id\":\"4a3572a2-4665-4a30-950c-ba84044fd243\",\"type\":\"LinearAxis\"}],\"output_backend\":\"svg\",\"renderers\":[{\"id\":\"b0104212-b326-49b6-ae14-f5fae90c4b7a\",\"type\":\"LinearAxis\"},{\"id\":\"774fb8db-6305-427f-914b-e5264dc35dd3\",\"type\":\"Grid\"},{\"id\":\"4a3572a2-4665-4a30-950c-ba84044fd243\",\"type\":\"LinearAxis\"},{\"id\":\"1d5e5215-04c8-40de-9b47-e12243811daf\",\"type\":\"Grid\"},{\"id\":\"2dbd6e1d-0c71-47e8-a4d4-91fd912af3f1\",\"type\":\"GlyphRenderer\"}],\"title\":{\"id\":\"381ac6b7-d891-44ed-9a0a-6b72e707f4a0\",\"type\":\"Title\"},\"toolbar\":{\"id\":\"a6eb6519-5a8a-41c9-83a5-c6e54a8373e6\",\"type\":\"Toolbar\"},\"x_range\":{\"id\":\"cb3e606c-894b-44af-a524-8b7135710e2d\",\"type\":\"DataRange1d\"},\"x_scale\":{\"id\":\"8a1229a8-d3b5-430c-a298-e6cd9693c4ab\",\"type\":\"LinearScale\"},\"y_range\":{\"id\":\"8b677a29-b073-40e3-97c1-5589a0aa492f\",\"type\":\"DataRange1d\"},\"y_scale\":{\"id\":\"68a09f91-3cbb-4ef1-9393-0417013c5449\",\"type\":\"LinearScale\"}},\"id\":\"4c8490a9-9487-4089-b2e8-d3507ca7b067\",\"subtype\":\"Figure\",\"type\":\"Plot\"},{\"attributes\":{},\"id\":\"bcd742cb-d219-4460-8c45-9c043bf62f3b\",\"type\":\"BasicTicker\"},{\"attributes\":{},\"id\":\"224cb0f6-9063-4d5e-a8ca-4be4dfe30319\",\"type\":\"BasicTickFormatter\"},{\"attributes\":{\"dimension\":1,\"plot\":{\"id\":\"4c8490a9-9487-4089-b2e8-d3507ca7b067\",\"subtype\":\"Figure\",\"type\":\"Plot\"},\"ticker\":{\"id\":\"bcd742cb-d219-4460-8c45-9c043bf62f3b\",\"type\":\"BasicTicker\"}},\"id\":\"1d5e5215-04c8-40de-9b47-e12243811daf\",\"type\":\"Grid\"},{\"attributes\":{\"source\":{\"id\":\"b8de5696-71e8-416c-9c7f-6c64aa0ab84e\",\"type\":\"ColumnDataSource\"}},\"id\":\"81d031d9-794d-4614-96ef-f78f167ebb68\",\"type\":\"CDSView\"},{\"attributes\":{\"active_drag\":\"auto\",\"active_inspect\":\"auto\",\"active_scroll\":\"auto\",\"active_tap\":\"auto\",\"tools\":[{\"id\":\"bcfcd9ef-bfb2-41cc-b155-5461bce6defd\",\"type\":\"SaveTool\"}]},\"id\":\"a6eb6519-5a8a-41c9-83a5-c6e54a8373e6\",\"type\":\"Toolbar\"},{\"attributes\":{\"callback\":null},\"id\":\"8b677a29-b073-40e3-97c1-5589a0aa492f\",\"type\":\"DataRange1d\"},{\"attributes\":{\"callback\":null,\"column_names\":[\"left\",\"right\",\"top\"],\"data\":{\"left\":{\"__ndarray__\":\"cT0K10MNCD6EzdJSMbkrP6JSKlEuuTs/Qp91/OHKRD8yFVbQLLlLP5FFG9K7U1E/iYALPOHKVD+Bu/ulBkJYP3n26w8suVs/cTHceVEwXz81NuZxu1NhP7FT3iZOD2M/LXHW2+DKZD+pjs6Qc4ZmPyWsxkUGQmg/ocm++pj9aT8d57avK7lrP5kEr2S+dG0/FSKnGVEwbz/Jn0/n8XVwP4euy0G7U3E/Rb1HnIQxcj8DzMP2TQ9zP8HaP1EX7XM/f+m7q+DKdD89+DcGqqh1P/sGtGBzhnY/uRUwuzxkdz93JKwVBkJ4PzUzKHDPH3k/80Gkypj9eT+xUCAlYtt6P29fnH8ruXs/LW4Y2vSWfD/rfJQ0vnR9P6mLEI+HUn4/Z5qM6VAwfz+TVAQiDQeAP/JbQs/xdYA/UWOAfNbkgD+war4pu1OBPw9y/NafwoE/bnk6hIQxgj/NgHgxaaCCPyyItt5ND4M/i4/0izJ+gz/qljI5F+2DP0mecOb7W4Q/qKWuk+DKhD8HrexAxTmFPw==\",\"dtype\":\"float64\",\"shape\":[50]},\"right\":{\"__ndarray__\":\"hM3SUjG5Kz+iUipRLrk7P0KfdfzhykQ/MhVW0Cy5Sz+RRRvSu1NRP4mACzzhylQ/gbv7pQZCWD959usPLLlbP3Ex3HlRMF8/NTbmcbtTYT+xU94mTg9jPy1x1tvgymQ/qY7OkHOGZj8lrMZFBkJoP6HJvvqY/Wk/Hee2ryu5az+ZBK9kvnRtPxUipxlRMG8/yZ9P5/F1cD+HrstBu1NxP0W9R5yEMXI/A8zD9k0Pcz/B2j9RF+1zP3/pu6vgynQ/Pfg3BqqodT/7BrRgc4Z2P7kVMLs8ZHc/dySsFQZCeD81Myhwzx95P/NBpMqY/Xk/sVAgJWLbej9vX5x/K7l7Py1uGNr0lnw/63yUNL50fT+pixCPh1J+P2eajOlQMH8/k1QEIg0HgD/yW0LP8XWAP1FjgHzW5IA/sGq+KbtTgT8PcvzWn8KBP255OoSEMYI/zYB4MWmggj8siLbeTQ+DP4uP9IsyfoM/6pYyORftgz9JnnDm+1uEP6ilrpPgyoQ/B63sQMU5hT9mtCruqaiFPw==\",\"dtype\":\"float64\",\"shape\":[50]},\"top\":{\"__ndarray__\":\"laMjDbIfqkC4bV5oD3h5QPiASY260nBAcyQ7DTn1aEBL1vLc83hdQH0R+ReeJVZAvKUtygNTTkAGpD/OSitHQAakP85KK0dASqJR0pEDQEBQi+GFZM41QEQ4dICwWC9AMUHHrLG3MUCPHxY4yvsdQCTuWaf9QRtAMUHHrLG3IUB9KGlky1oQQH0oaWTLWgBArbydFjGIGEBQi+GFZM71P1CL4YVkzvU/fShpZMtaAEB9KGlky1oAQFCL4YVkzvU/fShpZMtaAEBQi+GFZM7lP30oaWTLWgBAUIvhhWTOBUBQi+GFZM7lPwAAAAAAAAAAUIvhhWTO9T99KGlky1oAQAAAAAAAAAAAAAAAAAAAAABQi+GFZM7lP30oaWTLWgBAAAAAAAAAAAAAAAAAAAAAAFCL4YVkzuU/AAAAAAAAAABQi+GFZM7lPwAAAAAAAAAAAAAAAAAAAAAAAAAAAAAAAAAAAAAAAAAAAAAAAAAAAABQi+GFZM7lPwAAAAAAAAAAAAAAAAAAAABQi+GFZM7lPw==\",\"dtype\":\"float64\",\"shape\":[50]}}},\"id\":\"b8de5696-71e8-416c-9c7f-6c64aa0ab84e\",\"type\":\"ColumnDataSource\"},{\"attributes\":{\"plot\":{\"id\":\"4c8490a9-9487-4089-b2e8-d3507ca7b067\",\"subtype\":\"Figure\",\"type\":\"Plot\"},\"ticker\":{\"id\":\"6af6ce45-556e-4a4f-92ed-4ed4e083a500\",\"type\":\"BasicTicker\"}},\"id\":\"774fb8db-6305-427f-914b-e5264dc35dd3\",\"type\":\"Grid\"},{\"attributes\":{\"bottom\":{\"value\":0},\"fill_alpha\":{\"value\":0.1},\"fill_color\":{\"value\":\"#1f77b4\"},\"left\":{\"field\":\"left\"},\"line_alpha\":{\"value\":0.1},\"line_color\":{\"value\":\"#1f77b4\"},\"right\":{\"field\":\"right\"},\"top\":{\"field\":\"top\"}},\"id\":\"70317721-47c8-4a86-9a98-f28923fe02df\",\"type\":\"Quad\"},{\"attributes\":{},\"id\":\"6af6ce45-556e-4a4f-92ed-4ed4e083a500\",\"type\":\"BasicTicker\"},{\"attributes\":{\"axis_label\":\"-ln(|cM_i-1, cM_i|)\",\"formatter\":{\"id\":\"224cb0f6-9063-4d5e-a8ca-4be4dfe30319\",\"type\":\"BasicTickFormatter\"},\"plot\":{\"id\":\"4c8490a9-9487-4089-b2e8-d3507ca7b067\",\"subtype\":\"Figure\",\"type\":\"Plot\"},\"ticker\":{\"id\":\"6af6ce45-556e-4a4f-92ed-4ed4e083a500\",\"type\":\"BasicTicker\"}},\"id\":\"b0104212-b326-49b6-ae14-f5fae90c4b7a\",\"type\":\"LinearAxis\"},{\"attributes\":{},\"id\":\"b77a7db0-6c34-4e35-a038-4f17208cdee5\",\"type\":\"BasicTickFormatter\"},{\"attributes\":{\"plot\":null,\"text\":\"Distribution of Pairwise cM Distances: Chromosome 1\"},\"id\":\"381ac6b7-d891-44ed-9a0a-6b72e707f4a0\",\"type\":\"Title\"},{\"attributes\":{},\"id\":\"8a1229a8-d3b5-430c-a298-e6cd9693c4ab\",\"type\":\"LinearScale\"},{\"attributes\":{},\"id\":\"bcfcd9ef-bfb2-41cc-b155-5461bce6defd\",\"type\":\"SaveTool\"},{\"attributes\":{\"axis_label\":\"frequency\",\"formatter\":{\"id\":\"b77a7db0-6c34-4e35-a038-4f17208cdee5\",\"type\":\"BasicTickFormatter\"},\"plot\":{\"id\":\"4c8490a9-9487-4089-b2e8-d3507ca7b067\",\"subtype\":\"Figure\",\"type\":\"Plot\"},\"ticker\":{\"id\":\"bcd742cb-d219-4460-8c45-9c043bf62f3b\",\"type\":\"BasicTicker\"}},\"id\":\"4a3572a2-4665-4a30-950c-ba84044fd243\",\"type\":\"LinearAxis\"}],\"root_ids\":[\"4c8490a9-9487-4089-b2e8-d3507ca7b067\"]},\"title\":\"Bokeh Application\",\"version\":\"0.12.9\"}};\n",
       "    var render_items = [{\"docid\":\"4320c28f-e59b-4b42-8bc2-76ddb1035845\",\"elementid\":\"5e0f505f-e933-4fa6-a3cd-9cd200e216bd\",\"modelid\":\"4c8490a9-9487-4089-b2e8-d3507ca7b067\"}];\n",
       "\n",
       "    root.Bokeh.embed.embed_items(docs_json, render_items);\n",
       "  }\n",
       "\n",
       "  if (root.Bokeh !== undefined) {\n",
       "    embed_document(root);\n",
       "  } else {\n",
       "    var attempts = 0;\n",
       "    var timer = setInterval(function(root) {\n",
       "      if (root.Bokeh !== undefined) {\n",
       "        embed_document(root);\n",
       "        clearInterval(timer);\n",
       "      }\n",
       "      attempts++;\n",
       "      if (attempts > 100) {\n",
       "        console.log(\"Bokeh: ERROR: Unable to embed document because BokehJS library is missing\")\n",
       "        clearInterval(timer);\n",
       "      }\n",
       "    }, 10, root)\n",
       "  }\n",
       "})(window);"
      ],
      "application/vnd.bokehjs_exec.v0+json": ""
     },
     "metadata": {
      "application/vnd.bokehjs_exec.v0+json": {
       "id": "4c8490a9-9487-4089-b2e8-d3507ca7b067"
      }
     },
     "output_type": "display_data"
    }
   ],
   "source": [
    "show(genmap_distances)"
   ]
  },
  {
   "cell_type": "markdown",
   "metadata": {},
   "source": [
    "# Plot of $$-ln(|L_{i-1} - L_i|)$$"
   ]
  },
  {
   "cell_type": "code",
   "execution_count": 122,
   "metadata": {},
   "outputs": [],
   "source": [
    "cM1 = improved_chr1[:, 3]\n",
    "pairwise_distances = np.array([np.abs(cM1[i-1] - cM1[i]) for i in range(1, cM1.shape[0])])/100\n",
    "negative_ln_recombs = -1*np.log(pairwise_distances)\n",
    "hist, edges = np.histogram(negative_ln_recombs, density=True, bins=50)"
   ]
  },
  {
   "cell_type": "code",
   "execution_count": 123,
   "metadata": {},
   "outputs": [],
   "source": [
    "genmap_distances = figure(title=\"Distribution of Pairwise cM Distances: Chromosome 1\",\n",
    "                          tools=\"save\", \n",
    "                          background_fill_color=\"#E8DDCB\", \n",
    "                          output_backend=\"svg\")\n",
    "\n",
    "genmap_distances.quad(top=hist, bottom=0, left=edges[:-1], right=edges[1:],\n",
    "        fill_color=\"#036564\", line_color=\"#033649\")\n",
    "\n",
    "genmap_distances.legend.location = \"center_right\"\n",
    "genmap_distances.legend.background_fill_color = \"darkgrey\"\n",
    "genmap_distances.xaxis.axis_label = '-ln(|cM_i-1, cM_i|)'\n",
    "genmap_distances.yaxis.axis_label = 'frequency'"
   ]
  },
  {
   "cell_type": "code",
   "execution_count": 124,
   "metadata": {},
   "outputs": [
    {
     "data": {
      "text/html": [
       "\n",
       "<div class=\"bk-root\">\n",
       "    <div class=\"bk-plotdiv\" id=\"9947a5be-02b7-4487-942c-947bf1fcb6ab\"></div>\n",
       "</div>"
      ]
     },
     "metadata": {},
     "output_type": "display_data"
    },
    {
     "data": {
      "application/javascript": [
       "(function(root) {\n",
       "  function embed_document(root) {\n",
       "    var docs_json = {\"820a4671-b6e3-4fec-8b5d-0c91f4ee09ea\":{\"roots\":{\"references\":[{\"attributes\":{},\"id\":\"b3f061f0-31a1-42b6-ac45-77dc430d7757\",\"type\":\"BasicTickFormatter\"},{\"attributes\":{\"callback\":null,\"column_names\":[\"left\",\"right\",\"top\"],\"data\":{\"left\":{\"__ndarray__\":\"D6DE1mIyEkA1yI6A74QTQFrwWCp81xRAgBgj1AgqFkCmQO19lXwXQMtotycizxhA8ZCB0a4hGkAWuUt7O3QbQDzhFSXIxhxAYgngzlQZHkCHMap44WsfQNYsOhE3XyBA6UAfZn0IIUD8VAS7w7EhQA9p6Q8KWyJAIn3OZFAEI0A0kbO5lq0jQEilmA7dViRAWrl9YyMAJUBtzWK4aaklQIDhRw2wUiZAkvUsYvb7JkCmCRK3PKUnQLgd9wuDTihAyzHcYMn3KEDeRcG1D6EpQPBZpgpWSipABG6LX5zzKkAWgnC04pwrQCqWVQkpRixAPKo6Xm/vLEBOvh+ztZgtQGLSBAj8QS5AdObpXELrLkCI+s6xiJQvQE0HWoPnHjBAVpHMrYpzMEBgGz/YLcgwQGmlsQLRHDFAcy8kLXRxMUB8uZZXF8YxQIVDCYK6GjJAj817rF1vMkCYV+7WAMQyQKLhYAGkGDNAq2vTK0dtM0C09UVW6sEzQL5/uICNFjRAxwkrqzBrNEDRk53V0780QA==\",\"dtype\":\"float64\",\"shape\":[50]},\"right\":{\"__ndarray__\":\"NciOgO+EE0Ba8FgqfNcUQIAYI9QIKhZApkDtfZV8F0DLaLcnIs8YQPGQgdGuIRpAFrlLezt0G0A84RUlyMYcQGIJ4M5UGR5AhzGqeOFrH0DWLDoRN18gQOlAH2Z9CCFA/FQEu8OxIUAPaekPClsiQCJ9zmRQBCNANJGzuZatI0BIpZgO3VYkQFq5fWMjACVAbc1iuGmpJUCA4UcNsFImQJL1LGL2+yZApgkStzylJ0C4HfcLg04oQMsx3GDJ9yhA3kXBtQ+hKUDwWaYKVkoqQARui1+c8ypAFoJwtOKcK0AqllUJKUYsQDyqOl5v7yxATr4fs7WYLUBi0gQI/EEuQHTm6VxC6y5AiPrOsYiUL0BNB1qD5x4wQFaRzK2KczBAYBs/2C3IMEBppbEC0RwxQHMvJC10cTFAfLmWVxfGMUCFQwmCuhoyQI/Ne6xdbzJAmFfu1gDEMkCi4WABpBgzQKtr0ytHbTNAtPVFVurBM0C+f7iAjRY0QMcJK6swazRA0ZOd1dO/NEDaHRAAdxQ1QA==\",\"dtype\":\"float64\",\"shape\":[50]},\"top\":{\"__ndarray__\":\"ulF3giSSXD/sxp7KRlt+PxSTitFW24E/d+W7q8EWlD958gCqvTanP+gqqIcwMrM/CK0Uzk4buD9FSKnkoVnAP7I0U1FWP8I/MXo/LcVawT/v6XFkob3AP/aUCIIjWr0/pR2GXZE9vT9IDIumtXa9P01lzRVwrLo/dWXNFXCsuj892vRdknW8P+VRd4Ikkrw/C8n5prauvD9Z5zlcjpW/P4jnOVyOlb8/MkB8y0jLvD/lUXeCJJK8P5RC16e4Hrs/gmco8t//uD+zAaGEKaq4P/J6foUrGrc/qhmt0FRrsz/XxCAaetyyPweE6vbqZ7A/2l68gCCyrz/+FPcXdcSmP93CxT0KiaQ/dtxPOgLJmj84IjwWceSZP5OBsu7XP48/zCqohzAykz+/TZ7157+CP5/CxT0KiYQ/BMeeykZbfj9NCLIZeaRzP49Rd4Ikkmw/5VF3giSSbD+PUXeCJJJMP+VRd4Ikkkw/5VF3giSSTD+PUXeCJJJMPwAAAAAAAAAAAAAAAAAAAADlUXeCJJI8Pw==\",\"dtype\":\"float64\",\"shape\":[50]}}},\"id\":\"e22f7a42-d9fd-44ec-b142-e3efdf5d0214\",\"type\":\"ColumnDataSource\"},{\"attributes\":{},\"id\":\"df019143-92f5-4985-b918-76a306a6b890\",\"type\":\"BasicTickFormatter\"},{\"attributes\":{\"callback\":null},\"id\":\"dbf40814-17a0-4d88-888b-11c6ef51bf4b\",\"type\":\"DataRange1d\"},{\"attributes\":{\"source\":{\"id\":\"e22f7a42-d9fd-44ec-b142-e3efdf5d0214\",\"type\":\"ColumnDataSource\"}},\"id\":\"6c1a0082-720e-4c5f-9053-9fd60c523686\",\"type\":\"CDSView\"},{\"attributes\":{\"bottom\":{\"value\":0},\"fill_color\":{\"value\":\"#036564\"},\"left\":{\"field\":\"left\"},\"line_color\":{\"value\":\"#033649\"},\"right\":{\"field\":\"right\"},\"top\":{\"field\":\"top\"}},\"id\":\"a4b0e1bb-7087-4cf1-a19e-dfcc823c9cea\",\"type\":\"Quad\"},{\"attributes\":{\"bottom\":{\"value\":0},\"fill_alpha\":{\"value\":0.1},\"fill_color\":{\"value\":\"#1f77b4\"},\"left\":{\"field\":\"left\"},\"line_alpha\":{\"value\":0.1},\"line_color\":{\"value\":\"#1f77b4\"},\"right\":{\"field\":\"right\"},\"top\":{\"field\":\"top\"}},\"id\":\"7d9dc1a3-8968-43de-a7d6-eaeafabf585d\",\"type\":\"Quad\"},{\"attributes\":{\"plot\":null,\"text\":\"Distribution of Pairwise cM Distances: Chromosome 1\"},\"id\":\"8a65ffe6-1281-4d36-940e-0ec21d466da6\",\"type\":\"Title\"},{\"attributes\":{\"callback\":null},\"id\":\"5a52efa7-5eb2-4bff-ba42-6614fb890564\",\"type\":\"DataRange1d\"},{\"attributes\":{\"background_fill_color\":{\"value\":\"#E8DDCB\"},\"below\":[{\"id\":\"5e1bcc98-b51b-4b0f-b2d7-54b48ed3e7e6\",\"type\":\"LinearAxis\"}],\"left\":[{\"id\":\"cb2f0584-6732-430c-b50b-a59d8ab23936\",\"type\":\"LinearAxis\"}],\"output_backend\":\"svg\",\"renderers\":[{\"id\":\"5e1bcc98-b51b-4b0f-b2d7-54b48ed3e7e6\",\"type\":\"LinearAxis\"},{\"id\":\"7c8cd9f3-f6de-498f-90ae-ef03de0dd95e\",\"type\":\"Grid\"},{\"id\":\"cb2f0584-6732-430c-b50b-a59d8ab23936\",\"type\":\"LinearAxis\"},{\"id\":\"f3993512-5b14-45df-a41a-fe543618f9ae\",\"type\":\"Grid\"},{\"id\":\"0ad3a173-8132-4b59-975b-6e7339182d50\",\"type\":\"GlyphRenderer\"}],\"title\":{\"id\":\"8a65ffe6-1281-4d36-940e-0ec21d466da6\",\"type\":\"Title\"},\"toolbar\":{\"id\":\"dc56f5ac-61de-4112-91dd-4f9809dff367\",\"type\":\"Toolbar\"},\"x_range\":{\"id\":\"dbf40814-17a0-4d88-888b-11c6ef51bf4b\",\"type\":\"DataRange1d\"},\"x_scale\":{\"id\":\"a67dd12f-d0ce-416d-a450-f68706d64f21\",\"type\":\"LinearScale\"},\"y_range\":{\"id\":\"5a52efa7-5eb2-4bff-ba42-6614fb890564\",\"type\":\"DataRange1d\"},\"y_scale\":{\"id\":\"e9180433-5066-46e9-aace-728188455124\",\"type\":\"LinearScale\"}},\"id\":\"511a0297-ee52-4a6d-bf1e-ce79ee266c00\",\"subtype\":\"Figure\",\"type\":\"Plot\"},{\"attributes\":{\"dimension\":1,\"plot\":{\"id\":\"511a0297-ee52-4a6d-bf1e-ce79ee266c00\",\"subtype\":\"Figure\",\"type\":\"Plot\"},\"ticker\":{\"id\":\"bf733610-5684-4e13-a56e-33caf205d9d3\",\"type\":\"BasicTicker\"}},\"id\":\"f3993512-5b14-45df-a41a-fe543618f9ae\",\"type\":\"Grid\"},{\"attributes\":{\"active_drag\":\"auto\",\"active_inspect\":\"auto\",\"active_scroll\":\"auto\",\"active_tap\":\"auto\",\"tools\":[{\"id\":\"e3572f78-78a7-4a6c-9522-75b59fbc824a\",\"type\":\"SaveTool\"}]},\"id\":\"dc56f5ac-61de-4112-91dd-4f9809dff367\",\"type\":\"Toolbar\"},{\"attributes\":{},\"id\":\"e9180433-5066-46e9-aace-728188455124\",\"type\":\"LinearScale\"},{\"attributes\":{\"data_source\":{\"id\":\"e22f7a42-d9fd-44ec-b142-e3efdf5d0214\",\"type\":\"ColumnDataSource\"},\"glyph\":{\"id\":\"a4b0e1bb-7087-4cf1-a19e-dfcc823c9cea\",\"type\":\"Quad\"},\"hover_glyph\":null,\"muted_glyph\":null,\"nonselection_glyph\":{\"id\":\"7d9dc1a3-8968-43de-a7d6-eaeafabf585d\",\"type\":\"Quad\"},\"selection_glyph\":null,\"view\":{\"id\":\"6c1a0082-720e-4c5f-9053-9fd60c523686\",\"type\":\"CDSView\"}},\"id\":\"0ad3a173-8132-4b59-975b-6e7339182d50\",\"type\":\"GlyphRenderer\"},{\"attributes\":{\"axis_label\":\"frequency\",\"formatter\":{\"id\":\"b3f061f0-31a1-42b6-ac45-77dc430d7757\",\"type\":\"BasicTickFormatter\"},\"plot\":{\"id\":\"511a0297-ee52-4a6d-bf1e-ce79ee266c00\",\"subtype\":\"Figure\",\"type\":\"Plot\"},\"ticker\":{\"id\":\"bf733610-5684-4e13-a56e-33caf205d9d3\",\"type\":\"BasicTicker\"}},\"id\":\"cb2f0584-6732-430c-b50b-a59d8ab23936\",\"type\":\"LinearAxis\"},{\"attributes\":{},\"id\":\"4d2aa9b2-4057-4a6c-88d0-a95b6a969fad\",\"type\":\"BasicTicker\"},{\"attributes\":{},\"id\":\"e3572f78-78a7-4a6c-9522-75b59fbc824a\",\"type\":\"SaveTool\"},{\"attributes\":{},\"id\":\"a67dd12f-d0ce-416d-a450-f68706d64f21\",\"type\":\"LinearScale\"},{\"attributes\":{},\"id\":\"bf733610-5684-4e13-a56e-33caf205d9d3\",\"type\":\"BasicTicker\"},{\"attributes\":{\"plot\":{\"id\":\"511a0297-ee52-4a6d-bf1e-ce79ee266c00\",\"subtype\":\"Figure\",\"type\":\"Plot\"},\"ticker\":{\"id\":\"4d2aa9b2-4057-4a6c-88d0-a95b6a969fad\",\"type\":\"BasicTicker\"}},\"id\":\"7c8cd9f3-f6de-498f-90ae-ef03de0dd95e\",\"type\":\"Grid\"},{\"attributes\":{\"axis_label\":\"-ln(|cM_i-1, cM_i|)\",\"formatter\":{\"id\":\"df019143-92f5-4985-b918-76a306a6b890\",\"type\":\"BasicTickFormatter\"},\"plot\":{\"id\":\"511a0297-ee52-4a6d-bf1e-ce79ee266c00\",\"subtype\":\"Figure\",\"type\":\"Plot\"},\"ticker\":{\"id\":\"4d2aa9b2-4057-4a6c-88d0-a95b6a969fad\",\"type\":\"BasicTicker\"}},\"id\":\"5e1bcc98-b51b-4b0f-b2d7-54b48ed3e7e6\",\"type\":\"LinearAxis\"}],\"root_ids\":[\"511a0297-ee52-4a6d-bf1e-ce79ee266c00\"]},\"title\":\"Bokeh Application\",\"version\":\"0.12.9\"}};\n",
       "    var render_items = [{\"docid\":\"820a4671-b6e3-4fec-8b5d-0c91f4ee09ea\",\"elementid\":\"9947a5be-02b7-4487-942c-947bf1fcb6ab\",\"modelid\":\"511a0297-ee52-4a6d-bf1e-ce79ee266c00\"}];\n",
       "\n",
       "    root.Bokeh.embed.embed_items(docs_json, render_items);\n",
       "  }\n",
       "\n",
       "  if (root.Bokeh !== undefined) {\n",
       "    embed_document(root);\n",
       "  } else {\n",
       "    var attempts = 0;\n",
       "    var timer = setInterval(function(root) {\n",
       "      if (root.Bokeh !== undefined) {\n",
       "        embed_document(root);\n",
       "        clearInterval(timer);\n",
       "      }\n",
       "      attempts++;\n",
       "      if (attempts > 100) {\n",
       "        console.log(\"Bokeh: ERROR: Unable to embed document because BokehJS library is missing\")\n",
       "        clearInterval(timer);\n",
       "      }\n",
       "    }, 10, root)\n",
       "  }\n",
       "})(window);"
      ],
      "application/vnd.bokehjs_exec.v0+json": ""
     },
     "metadata": {
      "application/vnd.bokehjs_exec.v0+json": {
       "id": "511a0297-ee52-4a6d-bf1e-ce79ee266c00"
      }
     },
     "output_type": "display_data"
    }
   ],
   "source": [
    "show(genmap_distances)"
   ]
  },
  {
   "cell_type": "code",
   "execution_count": null,
   "metadata": {
    "collapsed": true
   },
   "outputs": [],
   "source": []
  },
  {
   "cell_type": "code",
   "execution_count": null,
   "metadata": {
    "collapsed": true
   },
   "outputs": [],
   "source": []
  },
  {
   "cell_type": "code",
   "execution_count": 15,
   "metadata": {
    "collapsed": true
   },
   "outputs": [],
   "source": [
    "chr_2 = np.array(genetic_map['chromosome_2'])"
   ]
  },
  {
   "cell_type": "code",
   "execution_count": 18,
   "metadata": {},
   "outputs": [
    {
     "data": {
      "text/plain": [
       "array([[  6940.    ,      2.    ,      2.3445],\n",
       "       [  6941.    ,      2.    ,      2.3447],\n",
       "       [  6942.    ,      2.    ,      2.5631],\n",
       "       ..., \n",
       "       [ 12108.    ,      2.    ,    158.4893],\n",
       "       [ 12109.    ,      2.    ,    158.4969],\n",
       "       [ 12110.    ,      2.    ,    158.4973]])"
      ]
     },
     "execution_count": 18,
     "metadata": {},
     "output_type": "execute_result"
    }
   ],
   "source": [
    "chr_2"
   ]
  },
  {
   "cell_type": "code",
   "execution_count": null,
   "metadata": {
    "collapsed": true
   },
   "outputs": [],
   "source": []
  },
  {
   "cell_type": "code",
   "execution_count": 7,
   "metadata": {
    "collapsed": true
   },
   "outputs": [],
   "source": [
    "example_pop = sim.loadPopulation('example_pop.pop')"
   ]
  },
  {
   "cell_type": "code",
   "execution_count": null,
   "metadata": {
    "collapsed": true
   },
   "outputs": [],
   "source": []
  },
  {
   "cell_type": "code",
   "execution_count": null,
   "metadata": {
    "collapsed": true
   },
   "outputs": [],
   "source": [
    "np.zeros((4))"
   ]
  },
  {
   "cell_type": "code",
   "execution_count": 12,
   "metadata": {},
   "outputs": [
    {
     "data": {
      "text/plain": [
       "(6939, 5171, 4974, 4819, 4838, 3570, 3775, 3849, 3337, 3173)"
      ]
     },
     "execution_count": 12,
     "metadata": {},
     "output_type": "execute_result"
    }
   ],
   "source": [
    "example_pop.numLoci()"
   ]
  },
  {
   "cell_type": "code",
   "execution_count": null,
   "metadata": {
    "collapsed": true
   },
   "outputs": [],
   "source": []
  },
  {
   "cell_type": "code",
   "execution_count": null,
   "metadata": {
    "collapsed": true
   },
   "outputs": [],
   "source": [
    "for number_loci in example_pop.numLoci():\n",
    "    "
   ]
  },
  {
   "cell_type": "code",
   "execution_count": 11,
   "metadata": {},
   "outputs": [
    {
     "data": {
      "text/plain": [
       "(0, 1)"
      ]
     },
     "execution_count": 11,
     "metadata": {},
     "output_type": "execute_result"
    }
   ],
   "source": [
    "example_pop.chromLocusPair(1)"
   ]
  },
  {
   "cell_type": "code",
   "execution_count": null,
   "metadata": {
    "collapsed": true
   },
   "outputs": [],
   "source": [
    "gene"
   ]
  },
  {
   "cell_type": "code",
   "execution_count": null,
   "metadata": {
    "collapsed": true
   },
   "outputs": [],
   "source": []
  },
  {
   "cell_type": "code",
   "execution_count": null,
   "metadata": {
    "collapsed": true
   },
   "outputs": [],
   "source": []
  },
  {
   "cell_type": "code",
   "execution_count": 159,
   "metadata": {
    "collapsed": true
   },
   "outputs": [],
   "source": [
    "gen_map = pd.read_csv('example_genetic_map.txt', index_col=0, sep='\\t')"
   ]
  },
  {
   "cell_type": "code",
   "execution_count": null,
   "metadata": {
    "collapsed": true
   },
   "outputs": [],
   "source": []
  },
  {
   "cell_type": "code",
   "execution_count": null,
   "metadata": {
    "collapsed": true
   },
   "outputs": [],
   "source": [
    "gen_map"
   ]
  },
  {
   "cell_type": "code",
   "execution_count": 160,
   "metadata": {},
   "outputs": [
    {
     "data": {
      "text/html": [
       "<div>\n",
       "<style>\n",
       "    .dataframe thead tr:only-child th {\n",
       "        text-align: right;\n",
       "    }\n",
       "\n",
       "    .dataframe thead th {\n",
       "        text-align: left;\n",
       "    }\n",
       "\n",
       "    .dataframe tbody tr th {\n",
       "        vertical-align: top;\n",
       "    }\n",
       "</style>\n",
       "<table border=\"1\" class=\"dataframe\">\n",
       "  <thead>\n",
       "    <tr style=\"text-align: right;\">\n",
       "      <th></th>\n",
       "      <th>chr</th>\n",
       "      <th>cM</th>\n",
       "    </tr>\n",
       "    <tr>\n",
       "      <th>locus</th>\n",
       "      <th></th>\n",
       "      <th></th>\n",
       "    </tr>\n",
       "  </thead>\n",
       "  <tbody>\n",
       "    <tr>\n",
       "      <th>1</th>\n",
       "      <td>1</td>\n",
       "      <td>-5.511247</td>\n",
       "    </tr>\n",
       "    <tr>\n",
       "      <th>2</th>\n",
       "      <td>1</td>\n",
       "      <td>-5.301981</td>\n",
       "    </tr>\n",
       "    <tr>\n",
       "      <th>3</th>\n",
       "      <td>1</td>\n",
       "      <td>-5.299719</td>\n",
       "    </tr>\n",
       "    <tr>\n",
       "      <th>4</th>\n",
       "      <td>1</td>\n",
       "      <td>-5.256896</td>\n",
       "    </tr>\n",
       "    <tr>\n",
       "      <th>5</th>\n",
       "      <td>1</td>\n",
       "      <td>-5.225641</td>\n",
       "    </tr>\n",
       "    <tr>\n",
       "      <th>6</th>\n",
       "      <td>1</td>\n",
       "      <td>-5.078748</td>\n",
       "    </tr>\n",
       "    <tr>\n",
       "      <th>7</th>\n",
       "      <td>1</td>\n",
       "      <td>-5.057972</td>\n",
       "    </tr>\n",
       "    <tr>\n",
       "      <th>8</th>\n",
       "      <td>1</td>\n",
       "      <td>-4.937512</td>\n",
       "    </tr>\n",
       "    <tr>\n",
       "      <th>9</th>\n",
       "      <td>1</td>\n",
       "      <td>-4.897494</td>\n",
       "    </tr>\n",
       "    <tr>\n",
       "      <th>10</th>\n",
       "      <td>1</td>\n",
       "      <td>-4.664195</td>\n",
       "    </tr>\n",
       "    <tr>\n",
       "      <th>11</th>\n",
       "      <td>1</td>\n",
       "      <td>-4.579351</td>\n",
       "    </tr>\n",
       "    <tr>\n",
       "      <th>12</th>\n",
       "      <td>1</td>\n",
       "      <td>-4.558724</td>\n",
       "    </tr>\n",
       "    <tr>\n",
       "      <th>13</th>\n",
       "      <td>1</td>\n",
       "      <td>-4.217548</td>\n",
       "    </tr>\n",
       "    <tr>\n",
       "      <th>14</th>\n",
       "      <td>1</td>\n",
       "      <td>-4.161764</td>\n",
       "    </tr>\n",
       "    <tr>\n",
       "      <th>15</th>\n",
       "      <td>1</td>\n",
       "      <td>-4.159979</td>\n",
       "    </tr>\n",
       "    <tr>\n",
       "      <th>16</th>\n",
       "      <td>1</td>\n",
       "      <td>-3.949824</td>\n",
       "    </tr>\n",
       "    <tr>\n",
       "      <th>17</th>\n",
       "      <td>1</td>\n",
       "      <td>-3.792475</td>\n",
       "    </tr>\n",
       "    <tr>\n",
       "      <th>18</th>\n",
       "      <td>1</td>\n",
       "      <td>-3.385915</td>\n",
       "    </tr>\n",
       "    <tr>\n",
       "      <th>19</th>\n",
       "      <td>1</td>\n",
       "      <td>-3.359243</td>\n",
       "    </tr>\n",
       "    <tr>\n",
       "      <th>20</th>\n",
       "      <td>1</td>\n",
       "      <td>-3.356172</td>\n",
       "    </tr>\n",
       "    <tr>\n",
       "      <th>21</th>\n",
       "      <td>1</td>\n",
       "      <td>-3.341472</td>\n",
       "    </tr>\n",
       "    <tr>\n",
       "      <th>22</th>\n",
       "      <td>1</td>\n",
       "      <td>-3.341145</td>\n",
       "    </tr>\n",
       "    <tr>\n",
       "      <th>23</th>\n",
       "      <td>1</td>\n",
       "      <td>-3.340715</td>\n",
       "    </tr>\n",
       "    <tr>\n",
       "      <th>24</th>\n",
       "      <td>1</td>\n",
       "      <td>-3.335458</td>\n",
       "    </tr>\n",
       "    <tr>\n",
       "      <th>25</th>\n",
       "      <td>1</td>\n",
       "      <td>-3.331318</td>\n",
       "    </tr>\n",
       "    <tr>\n",
       "      <th>26</th>\n",
       "      <td>1</td>\n",
       "      <td>-2.810058</td>\n",
       "    </tr>\n",
       "    <tr>\n",
       "      <th>27</th>\n",
       "      <td>1</td>\n",
       "      <td>-2.786785</td>\n",
       "    </tr>\n",
       "    <tr>\n",
       "      <th>28</th>\n",
       "      <td>1</td>\n",
       "      <td>-2.309115</td>\n",
       "    </tr>\n",
       "    <tr>\n",
       "      <th>29</th>\n",
       "      <td>1</td>\n",
       "      <td>-1.879238</td>\n",
       "    </tr>\n",
       "    <tr>\n",
       "      <th>30</th>\n",
       "      <td>1</td>\n",
       "      <td>-1.876714</td>\n",
       "    </tr>\n",
       "    <tr>\n",
       "      <th>...</th>\n",
       "      <td>...</td>\n",
       "      <td>...</td>\n",
       "    </tr>\n",
       "    <tr>\n",
       "      <th>6910</th>\n",
       "      <td>1</td>\n",
       "      <td>204.921183</td>\n",
       "    </tr>\n",
       "    <tr>\n",
       "      <th>6911</th>\n",
       "      <td>1</td>\n",
       "      <td>204.921317</td>\n",
       "    </tr>\n",
       "    <tr>\n",
       "      <th>6912</th>\n",
       "      <td>1</td>\n",
       "      <td>204.921939</td>\n",
       "    </tr>\n",
       "    <tr>\n",
       "      <th>6913</th>\n",
       "      <td>1</td>\n",
       "      <td>204.922155</td>\n",
       "    </tr>\n",
       "    <tr>\n",
       "      <th>6914</th>\n",
       "      <td>1</td>\n",
       "      <td>204.927964</td>\n",
       "    </tr>\n",
       "    <tr>\n",
       "      <th>6915</th>\n",
       "      <td>1</td>\n",
       "      <td>204.927972</td>\n",
       "    </tr>\n",
       "    <tr>\n",
       "      <th>6916</th>\n",
       "      <td>1</td>\n",
       "      <td>204.949257</td>\n",
       "    </tr>\n",
       "    <tr>\n",
       "      <th>6917</th>\n",
       "      <td>1</td>\n",
       "      <td>205.203694</td>\n",
       "    </tr>\n",
       "    <tr>\n",
       "      <th>6918</th>\n",
       "      <td>1</td>\n",
       "      <td>205.244025</td>\n",
       "    </tr>\n",
       "    <tr>\n",
       "      <th>6919</th>\n",
       "      <td>1</td>\n",
       "      <td>205.267187</td>\n",
       "    </tr>\n",
       "    <tr>\n",
       "      <th>6920</th>\n",
       "      <td>1</td>\n",
       "      <td>205.365932</td>\n",
       "    </tr>\n",
       "    <tr>\n",
       "      <th>6921</th>\n",
       "      <td>1</td>\n",
       "      <td>205.394367</td>\n",
       "    </tr>\n",
       "    <tr>\n",
       "      <th>6922</th>\n",
       "      <td>1</td>\n",
       "      <td>205.395042</td>\n",
       "    </tr>\n",
       "    <tr>\n",
       "      <th>6923</th>\n",
       "      <td>1</td>\n",
       "      <td>205.396565</td>\n",
       "    </tr>\n",
       "    <tr>\n",
       "      <th>6924</th>\n",
       "      <td>1</td>\n",
       "      <td>205.399220</td>\n",
       "    </tr>\n",
       "    <tr>\n",
       "      <th>6925</th>\n",
       "      <td>1</td>\n",
       "      <td>205.486207</td>\n",
       "    </tr>\n",
       "    <tr>\n",
       "      <th>6926</th>\n",
       "      <td>1</td>\n",
       "      <td>205.486316</td>\n",
       "    </tr>\n",
       "    <tr>\n",
       "      <th>6927</th>\n",
       "      <td>1</td>\n",
       "      <td>205.488856</td>\n",
       "    </tr>\n",
       "    <tr>\n",
       "      <th>6928</th>\n",
       "      <td>1</td>\n",
       "      <td>205.594456</td>\n",
       "    </tr>\n",
       "    <tr>\n",
       "      <th>6929</th>\n",
       "      <td>1</td>\n",
       "      <td>205.682266</td>\n",
       "    </tr>\n",
       "    <tr>\n",
       "      <th>6930</th>\n",
       "      <td>1</td>\n",
       "      <td>205.684207</td>\n",
       "    </tr>\n",
       "    <tr>\n",
       "      <th>6931</th>\n",
       "      <td>1</td>\n",
       "      <td>205.700326</td>\n",
       "    </tr>\n",
       "    <tr>\n",
       "      <th>6932</th>\n",
       "      <td>1</td>\n",
       "      <td>205.700359</td>\n",
       "    </tr>\n",
       "    <tr>\n",
       "      <th>6933</th>\n",
       "      <td>1</td>\n",
       "      <td>205.786769</td>\n",
       "    </tr>\n",
       "    <tr>\n",
       "      <th>6934</th>\n",
       "      <td>1</td>\n",
       "      <td>206.039971</td>\n",
       "    </tr>\n",
       "    <tr>\n",
       "      <th>6935</th>\n",
       "      <td>1</td>\n",
       "      <td>206.059044</td>\n",
       "    </tr>\n",
       "    <tr>\n",
       "      <th>6936</th>\n",
       "      <td>1</td>\n",
       "      <td>206.170457</td>\n",
       "    </tr>\n",
       "    <tr>\n",
       "      <th>6937</th>\n",
       "      <td>1</td>\n",
       "      <td>206.212414</td>\n",
       "    </tr>\n",
       "    <tr>\n",
       "      <th>6938</th>\n",
       "      <td>1</td>\n",
       "      <td>206.227631</td>\n",
       "    </tr>\n",
       "    <tr>\n",
       "      <th>6939</th>\n",
       "      <td>1</td>\n",
       "      <td>206.259453</td>\n",
       "    </tr>\n",
       "  </tbody>\n",
       "</table>\n",
       "<p>6939 rows × 2 columns</p>\n",
       "</div>"
      ],
      "text/plain": [
       "       chr          cM\n",
       "locus                 \n",
       "1        1   -5.511247\n",
       "2        1   -5.301981\n",
       "3        1   -5.299719\n",
       "4        1   -5.256896\n",
       "5        1   -5.225641\n",
       "6        1   -5.078748\n",
       "7        1   -5.057972\n",
       "8        1   -4.937512\n",
       "9        1   -4.897494\n",
       "10       1   -4.664195\n",
       "11       1   -4.579351\n",
       "12       1   -4.558724\n",
       "13       1   -4.217548\n",
       "14       1   -4.161764\n",
       "15       1   -4.159979\n",
       "16       1   -3.949824\n",
       "17       1   -3.792475\n",
       "18       1   -3.385915\n",
       "19       1   -3.359243\n",
       "20       1   -3.356172\n",
       "21       1   -3.341472\n",
       "22       1   -3.341145\n",
       "23       1   -3.340715\n",
       "24       1   -3.335458\n",
       "25       1   -3.331318\n",
       "26       1   -2.810058\n",
       "27       1   -2.786785\n",
       "28       1   -2.309115\n",
       "29       1   -1.879238\n",
       "30       1   -1.876714\n",
       "...    ...         ...\n",
       "6910     1  204.921183\n",
       "6911     1  204.921317\n",
       "6912     1  204.921939\n",
       "6913     1  204.922155\n",
       "6914     1  204.927964\n",
       "6915     1  204.927972\n",
       "6916     1  204.949257\n",
       "6917     1  205.203694\n",
       "6918     1  205.244025\n",
       "6919     1  205.267187\n",
       "6920     1  205.365932\n",
       "6921     1  205.394367\n",
       "6922     1  205.395042\n",
       "6923     1  205.396565\n",
       "6924     1  205.399220\n",
       "6925     1  205.486207\n",
       "6926     1  205.486316\n",
       "6927     1  205.488856\n",
       "6928     1  205.594456\n",
       "6929     1  205.682266\n",
       "6930     1  205.684207\n",
       "6931     1  205.700326\n",
       "6932     1  205.700359\n",
       "6933     1  205.786769\n",
       "6934     1  206.039971\n",
       "6935     1  206.059044\n",
       "6936     1  206.170457\n",
       "6937     1  206.212414\n",
       "6938     1  206.227631\n",
       "6939     1  206.259453\n",
       "\n",
       "[6939 rows x 2 columns]"
      ]
     },
     "execution_count": 160,
     "metadata": {},
     "output_type": "execute_result"
    }
   ],
   "source": [
    "gen_map.loc[gen_map['chr'] == 1]"
   ]
  },
  {
   "cell_type": "code",
   "execution_count": null,
   "metadata": {
    "collapsed": true
   },
   "outputs": [],
   "source": [
    "gen_map.loc[gen_map['chr'] == 2]"
   ]
  },
  {
   "cell_type": "code",
   "execution_count": null,
   "metadata": {
    "collapsed": true
   },
   "outputs": [],
   "source": [
    "gen_map.loc[gen_map['chr'] == 3]"
   ]
  },
  {
   "cell_type": "code",
   "execution_count": null,
   "metadata": {
    "collapsed": true
   },
   "outputs": [],
   "source": [
    "gen_map.loc[gen_map['chr'] == 4]"
   ]
  },
  {
   "cell_type": "code",
   "execution_count": null,
   "metadata": {
    "collapsed": true
   },
   "outputs": [],
   "source": [
    "gen_map.loc[gen_map['chr'] == 5]"
   ]
  },
  {
   "cell_type": "code",
   "execution_count": null,
   "metadata": {
    "collapsed": true
   },
   "outputs": [],
   "source": [
    "gen_map.loc[gen_map['chr'] == 6]"
   ]
  },
  {
   "cell_type": "code",
   "execution_count": null,
   "metadata": {
    "collapsed": true
   },
   "outputs": [],
   "source": [
    "gen_map.loc[gen_map['chr'] == 7]"
   ]
  },
  {
   "cell_type": "code",
   "execution_count": null,
   "metadata": {
    "collapsed": true
   },
   "outputs": [],
   "source": [
    "gen_map.loc[gen_map['chr'] == 8]"
   ]
  },
  {
   "cell_type": "code",
   "execution_count": null,
   "metadata": {
    "collapsed": true
   },
   "outputs": [],
   "source": [
    "gen_map.loc[gen_map['chr'] == 9].cM"
   ]
  },
  {
   "cell_type": "code",
   "execution_count": null,
   "metadata": {
    "collapsed": true
   },
   "outputs": [],
   "source": [
    "max(gen_map.loc[gen_map['chr'] == 10].cM)"
   ]
  },
  {
   "cell_type": "code",
   "execution_count": null,
   "metadata": {
    "collapsed": true
   },
   "outputs": [],
   "source": [
    "chromosome_bottoms = [min(gen_map.loc[gen_map['chr'] == i].cM) for i in range(1, 11)]\n",
    "chromosome_tops = [max(gen_map.loc[gen_map['chr'] == i].cM) for i in range(1, 11)]\n",
    "chromosome_factors = [str(i) for i in range(1, 11)]"
   ]
  },
  {
   "cell_type": "code",
   "execution_count": null,
   "metadata": {
    "collapsed": true
   },
   "outputs": [],
   "source": [
    "chromosome_bottoms"
   ]
  },
  {
   "cell_type": "code",
   "execution_count": null,
   "metadata": {
    "collapsed": true
   },
   "outputs": [],
   "source": [
    "chromosome_tops"
   ]
  },
  {
   "cell_type": "code",
   "execution_count": null,
   "metadata": {
    "collapsed": true
   },
   "outputs": [],
   "source": [
    "chrom_ideograms = figure(plot_width=960, plot_height=960, x_range=chromosome_factors,\n",
    "                         title=\"Chromosome Ideogram Figure\",\n",
    "                        output_backend=\"svg\")"
   ]
  },
  {
   "cell_type": "code",
   "execution_count": null,
   "metadata": {
    "collapsed": true
   },
   "outputs": [],
   "source": [
    "chrom_ideograms.xgrid.grid_line_color = None\n",
    "chrom_ideograms.ygrid.grid_line_color = None"
   ]
  },
  {
   "cell_type": "code",
   "execution_count": null,
   "metadata": {
    "collapsed": true
   },
   "outputs": [],
   "source": [
    "chrom_ideograms.vbar(x=chromosome_factors, top=chromosome_tops, bottom=chromosome_bottoms, width=0.25,\n",
    "                    line_width=1.0, line_color='black', fill_color='green',\n",
    "                    alpha=0.5)"
   ]
  },
  {
   "cell_type": "code",
   "execution_count": null,
   "metadata": {
    "collapsed": true
   },
   "outputs": [],
   "source": [
    "chrom_ideograms.xaxis.axis_label=\"Chromosome\"\n",
    "chrom_ideograms.xaxis.axis_label_text_font_size=\"24pt\"\n",
    "chrom_ideograms.xaxis.axis_label_text_font_style=\"bold\""
   ]
  },
  {
   "cell_type": "code",
   "execution_count": null,
   "metadata": {
    "collapsed": true
   },
   "outputs": [],
   "source": [
    "chrom_ideograms.yaxis.axis_label=\"cM\"\n",
    "chrom_ideograms.yaxis.axis_label_text_font_size=\"24pt\"\n",
    "chrom_ideograms.yaxis.axis_label_text_font_style=\"bold\""
   ]
  },
  {
   "cell_type": "code",
   "execution_count": null,
   "metadata": {
    "collapsed": true
   },
   "outputs": [],
   "source": [
    "show(chrom_ideograms)"
   ]
  },
  {
   "cell_type": "markdown",
   "metadata": {},
   "source": [
    "# Example Distribution Plot"
   ]
  },
  {
   "cell_type": "code",
   "execution_count": 73,
   "metadata": {},
   "outputs": [],
   "source": [
    "import scipy.special\n",
    "\n",
    "p1 = figure(title=\"Normal Distribution (μ=0, σ=0.5)\",tools=\"save\",\n",
    "            background_fill_color=\"#E8DDCB\", output_backend=\"svg\")\n",
    "\n",
    "mu, sigma = 0, 0.5\n",
    "\n",
    "measured = np.random.normal(mu, sigma, 1000)\n",
    "hist, edges = np.histogram(measured, density=True, bins=50)\n",
    "\n",
    "x = np.linspace(-2, 2, 1000)\n",
    "pdf = 1/(sigma * np.sqrt(2*np.pi)) * np.exp(-(x-mu)**2 / (2*sigma**2))\n",
    "cdf = (1+scipy.special.erf((x-mu)/np.sqrt(2*sigma**2)))/2\n",
    "\n",
    "p1.quad(top=hist, bottom=0, left=edges[:-1], right=edges[1:],\n",
    "        fill_color=\"#036564\", line_color=\"#033649\")\n",
    "p1.line(x, pdf, line_color=\"#D95B43\", line_width=8, alpha=0.7, legend=\"PDF\")\n",
    "p1.line(x, cdf, line_color=\"white\", line_width=2, alpha=0.7, legend=\"CDF\")\n",
    "\n",
    "p1.legend.location = \"center_right\"\n",
    "p1.legend.background_fill_color = \"darkgrey\"\n",
    "p1.xaxis.axis_label = 'x'\n",
    "p1.yaxis.axis_label = 'Pr(x)'"
   ]
  },
  {
   "cell_type": "code",
   "execution_count": 74,
   "metadata": {},
   "outputs": [
    {
     "data": {
      "text/html": [
       "\n",
       "<div class=\"bk-root\">\n",
       "    <div class=\"bk-plotdiv\" id=\"cde2c4fc-ec9d-4588-bb24-a45941284df7\"></div>\n",
       "</div>"
      ]
     },
     "metadata": {},
     "output_type": "display_data"
    },
    {
     "data": {
      "application/javascript": [
       "(function(root) {\n",
       "  function embed_document(root) {\n",
       "    var docs_json = {\"66b9c969-9258-4fd9-b920-3c6d011dda42\":{\"roots\":{\"references\":[{\"attributes\":{\"bottom\":{\"value\":0},\"fill_alpha\":{\"value\":0.1},\"fill_color\":{\"value\":\"#1f77b4\"},\"left\":{\"field\":\"left\"},\"line_alpha\":{\"value\":0.1},\"line_color\":{\"value\":\"#1f77b4\"},\"right\":{\"field\":\"right\"},\"top\":{\"field\":\"top\"}},\"id\":\"c272a03f-555e-448d-9395-a540f57e7719\",\"type\":\"Quad\"},{\"attributes\":{\"background_fill_color\":{\"value\":\"#E8DDCB\"},\"below\":[{\"id\":\"e560a9c1-18af-43b1-9425-71866cc81e8d\",\"type\":\"LinearAxis\"}],\"left\":[{\"id\":\"628213e0-12b9-42c6-821c-d63774b6c9e5\",\"type\":\"LinearAxis\"}],\"output_backend\":\"svg\",\"renderers\":[{\"id\":\"e560a9c1-18af-43b1-9425-71866cc81e8d\",\"type\":\"LinearAxis\"},{\"id\":\"42813873-8059-4d35-845a-97860396a78e\",\"type\":\"Grid\"},{\"id\":\"628213e0-12b9-42c6-821c-d63774b6c9e5\",\"type\":\"LinearAxis\"},{\"id\":\"918e751c-6995-4668-afdf-f2e928e81ca6\",\"type\":\"Grid\"},{\"id\":\"271f248c-5cc5-4a3d-93af-12db03b42275\",\"type\":\"GlyphRenderer\"},{\"id\":\"5ad65a4f-1b99-4a18-be96-91927e7da4df\",\"type\":\"Legend\"},{\"id\":\"d681c2fe-b73c-41ee-8290-f19bf8368115\",\"type\":\"GlyphRenderer\"},{\"id\":\"2387e895-0752-4d1e-adbd-411a26cbf084\",\"type\":\"GlyphRenderer\"}],\"title\":{\"id\":\"858fd57b-78a2-4338-ba30-0646cefb20c5\",\"type\":\"Title\"},\"toolbar\":{\"id\":\"7f744e1e-188f-4865-adb2-64bd5681a229\",\"type\":\"Toolbar\"},\"x_range\":{\"id\":\"b0334480-3991-4b98-8f82-751104bfe2e2\",\"type\":\"DataRange1d\"},\"x_scale\":{\"id\":\"87bd4eaa-73fd-47f2-8bce-a03b28467de6\",\"type\":\"LinearScale\"},\"y_range\":{\"id\":\"739d9e1d-5a19-4f7a-81cf-ec0499430551\",\"type\":\"DataRange1d\"},\"y_scale\":{\"id\":\"b86ebb5c-5505-4de9-a02e-52a5b86de838\",\"type\":\"LinearScale\"}},\"id\":\"3c679eed-dbf6-4118-9f6a-c65d92a16452\",\"subtype\":\"Figure\",\"type\":\"Plot\"},{\"attributes\":{\"callback\":null,\"column_names\":[\"left\",\"right\",\"top\"],\"data\":{\"left\":{\"__ndarray__\":\"Eplc8501/L9B0KWDYy/7v3AH7xMpKfq/nz44pO4i+b/OdYE0tBz4v/ysysR5Fve/K+QTVT8Q9r9aG13lBAr1v4lSpnXKA/S/uInvBZD98r/nwDiWVffxvxb4gSYb8fC/iV6WbcHV77/nzCiOTMntv0Q7u67XvOu/oqlNz2Kw6b8AGODv7aPnv16GchB5l+W/vPQEMQSL478aY5dRj37hv/CiU+Q05N6/qH94JUvL2r9kXJ1mYbLWvyA5wqd3mdK/uCvO0RsBzb8w5RdUSM/Ev1A9w6zpOrm/gGCtYoWuob+Ac1cokTGeP/BpgkUL8Lc/gHt3INkpxD8Iwi2erFvMP0gE8g3ARtI/kCfNzKlf1j/QSqiLk3jaPxhug0p9kd4/rEivhDNV4T9Q2hxkqGHjP/BrikMdbuU/lP33IpJ65z80j2UCB4fpP9gg0+F7k+s/fLJAwfCf7T8cRK6gZazvP+DqDUBt3PA/sLPEr6fi8T+CfHsf4ujyP1JFMo8c7/M/JA7p/lb19D/21p9ukfv1Pw==\",\"dtype\":\"float64\",\"shape\":[50]},\"right\":{\"__ndarray__\":\"QdClg2Mv+79wB+8TKSn6v58+OKTuIvm/znWBNLQc+L/8rMrEeRb3vyvkE1U/EPa/Whtd5QQK9b+JUqZ1ygP0v7iJ7wWQ/fK/58A4llX38b8W+IEmG/Hwv4lelm3B1e+/58wojkzJ7b9EO7uu17zrv6KpTc9isOm/ABjg7+2j579ehnIQeZflv7z0BDEEi+O/GmOXUY9+4b/wolPkNOTev6h/eCVLy9q/ZFydZmGy1r8gOcKnd5nSv7grztEbAc2/MOUXVEjPxL9QPcOs6Tq5v4BgrWKFrqG/gHNXKJExnj/waYJFC/C3P4B7dyDZKcQ/CMItnqxbzD9IBPINwEbSP5AnzcypX9Y/0Eqoi5N42j8YboNKfZHeP6xIr4QzVeE/UNocZKhh4z/wa4pDHW7lP5T99yKSeuc/NI9lAgeH6T/YINPhe5PrP3yyQMHwn+0/HESuoGWs7z/g6g1AbdzwP7CzxK+n4vE/gnx7H+Lo8j9SRTKPHO/zPyQO6f5W9fQ/9tafbpH79T/Gn1beywH3Pw==\",\"dtype\":\"float64\",\"shape\":[50]},\"top\":{\"__ndarray__\":\"UlFlFF79jz8AAAAAAAAAAAAAAAAAAAAAAAAAAAAAAAAAAAAAAAAAAFJRZRRe/Y8/UlFlFF79jz8AAAAAAAAAAP38S48G/qc//fxLjwb+pz9SUWUUXv2vP/L8S48G/qc/vf1464T+wT/y/EuPBv7HP119Yr1F/tQ/SSgc3G/+0j9dfWK9Rf7UP0koHNxv/tI/nXw1Ycf92j/opwWuMP7VPyPT1fqZ/uA/M9PV+pn+4D/9/EuPBv7nP518NWHH/eo/WOfj6NF96j+4Z/oWEX7nP4gn73/x/eg/+VGScNz96T/9/EuPBv7nP3PSqJ4b/uY/XX1ivUX+5D+NvW1UZX7jP0l9Yr1F/uQ/RD1XJiZ+5j+DfDVhx/3aPxT9S48G/uc/v1K/zFr+0z9xUWUUXv3PPwyn2FGy/ds/cVFlFF79zz8yUWUUXv2/P79Sv8xa/sM/FP1Ljwb+tz/l/EuPBv6nP3FRZRRe/a8/5fxLjwb+tz8U/UuPBv6nPzJRZRRe/Z8/MlFlFF79nz9xUWUUXv2PPw==\",\"dtype\":\"float64\",\"shape\":[50]}}},\"id\":\"b434c061-bdc5-435f-9717-f77ca77f0502\",\"type\":\"ColumnDataSource\"},{\"attributes\":{\"label\":{\"value\":\"PDF\"},\"renderers\":[{\"id\":\"d681c2fe-b73c-41ee-8290-f19bf8368115\",\"type\":\"GlyphRenderer\"}]},\"id\":\"464d2172-d51c-4ff2-ac3a-b86213be7a0e\",\"type\":\"LegendItem\"},{\"attributes\":{\"plot\":null,\"text\":\"Normal Distribution (\\u03bc=0, \\u03c3=0.5)\"},\"id\":\"858fd57b-78a2-4338-ba30-0646cefb20c5\",\"type\":\"Title\"},{\"attributes\":{\"callback\":null},\"id\":\"b0334480-3991-4b98-8f82-751104bfe2e2\",\"type\":\"DataRange1d\"},{\"attributes\":{},\"id\":\"87bd4eaa-73fd-47f2-8bce-a03b28467de6\",\"type\":\"LinearScale\"},{\"attributes\":{},\"id\":\"b86ebb5c-5505-4de9-a02e-52a5b86de838\",\"type\":\"LinearScale\"},{\"attributes\":{\"active_drag\":\"auto\",\"active_inspect\":\"auto\",\"active_scroll\":\"auto\",\"active_tap\":\"auto\",\"tools\":[{\"id\":\"23602f2c-2e9c-4dda-ac07-42dcc7b746b7\",\"type\":\"SaveTool\"}]},\"id\":\"7f744e1e-188f-4865-adb2-64bd5681a229\",\"type\":\"Toolbar\"},{\"attributes\":{},\"id\":\"23602f2c-2e9c-4dda-ac07-42dcc7b746b7\",\"type\":\"SaveTool\"},{\"attributes\":{\"plot\":{\"id\":\"3c679eed-dbf6-4118-9f6a-c65d92a16452\",\"subtype\":\"Figure\",\"type\":\"Plot\"},\"ticker\":{\"id\":\"5f546987-315b-49e5-b660-f9b6bf3752c0\",\"type\":\"BasicTicker\"}},\"id\":\"42813873-8059-4d35-845a-97860396a78e\",\"type\":\"Grid\"},{\"attributes\":{\"callback\":null},\"id\":\"739d9e1d-5a19-4f7a-81cf-ec0499430551\",\"type\":\"DataRange1d\"},{\"attributes\":{\"axis_label\":\"x\",\"formatter\":{\"id\":\"96b645cc-f4dd-4856-a8fc-bfcb26b6ab23\",\"type\":\"BasicTickFormatter\"},\"plot\":{\"id\":\"3c679eed-dbf6-4118-9f6a-c65d92a16452\",\"subtype\":\"Figure\",\"type\":\"Plot\"},\"ticker\":{\"id\":\"5f546987-315b-49e5-b660-f9b6bf3752c0\",\"type\":\"BasicTicker\"}},\"id\":\"e560a9c1-18af-43b1-9425-71866cc81e8d\",\"type\":\"LinearAxis\"},{\"attributes\":{},\"id\":\"5f546987-315b-49e5-b660-f9b6bf3752c0\",\"type\":\"BasicTicker\"},{\"attributes\":{\"axis_label\":\"Pr(x)\",\"formatter\":{\"id\":\"bd7dad81-9521-4854-8ff7-b1d8c1b3a535\",\"type\":\"BasicTickFormatter\"},\"plot\":{\"id\":\"3c679eed-dbf6-4118-9f6a-c65d92a16452\",\"subtype\":\"Figure\",\"type\":\"Plot\"},\"ticker\":{\"id\":\"12d3fc71-7ad6-40dc-8460-34f7a5513be0\",\"type\":\"BasicTicker\"}},\"id\":\"628213e0-12b9-42c6-821c-d63774b6c9e5\",\"type\":\"LinearAxis\"},{\"attributes\":{},\"id\":\"12d3fc71-7ad6-40dc-8460-34f7a5513be0\",\"type\":\"BasicTicker\"},{\"attributes\":{\"dimension\":1,\"plot\":{\"id\":\"3c679eed-dbf6-4118-9f6a-c65d92a16452\",\"subtype\":\"Figure\",\"type\":\"Plot\"},\"ticker\":{\"id\":\"12d3fc71-7ad6-40dc-8460-34f7a5513be0\",\"type\":\"BasicTicker\"}},\"id\":\"918e751c-6995-4668-afdf-f2e928e81ca6\",\"type\":\"Grid\"},{\"attributes\":{\"background_fill_color\":{\"value\":\"darkgrey\"},\"items\":[{\"id\":\"464d2172-d51c-4ff2-ac3a-b86213be7a0e\",\"type\":\"LegendItem\"},{\"id\":\"eaf100ed-3069-4d94-83d1-665fd2814fe2\",\"type\":\"LegendItem\"}],\"location\":\"center_right\",\"plot\":{\"id\":\"3c679eed-dbf6-4118-9f6a-c65d92a16452\",\"subtype\":\"Figure\",\"type\":\"Plot\"}},\"id\":\"5ad65a4f-1b99-4a18-be96-91927e7da4df\",\"type\":\"Legend\"},{\"attributes\":{\"line_alpha\":{\"value\":0.1},\"line_color\":{\"value\":\"#1f77b4\"},\"line_width\":{\"value\":8},\"x\":{\"field\":\"x\"},\"y\":{\"field\":\"y\"}},\"id\":\"d97f9da1-6df7-43f2-860f-e78443a91e3b\",\"type\":\"Line\"},{\"attributes\":{\"source\":{\"id\":\"31542509-9eee-49bc-9780-9bfd7220359a\",\"type\":\"ColumnDataSource\"}},\"id\":\"8c6c9a7a-0c05-43d1-acfd-c0bfab45884f\",\"type\":\"CDSView\"},{\"attributes\":{\"data_source\":{\"id\":\"b434c061-bdc5-435f-9717-f77ca77f0502\",\"type\":\"ColumnDataSource\"},\"glyph\":{\"id\":\"2039774a-19c1-4c22-80c3-314a8429ddd1\",\"type\":\"Quad\"},\"hover_glyph\":null,\"muted_glyph\":null,\"nonselection_glyph\":{\"id\":\"c272a03f-555e-448d-9395-a540f57e7719\",\"type\":\"Quad\"},\"selection_glyph\":null,\"view\":{\"id\":\"3d3e22fd-2bf2-4b8a-a5a9-c88bd561045f\",\"type\":\"CDSView\"}},\"id\":\"271f248c-5cc5-4a3d-93af-12db03b42275\",\"type\":\"GlyphRenderer\"},{\"attributes\":{\"line_alpha\":{\"value\":0.7},\"line_color\":{\"value\":\"#D95B43\"},\"line_width\":{\"value\":8},\"x\":{\"field\":\"x\"},\"y\":{\"field\":\"y\"}},\"id\":\"fa97490f-804c-44f2-a071-485979055df6\",\"type\":\"Line\"},{\"attributes\":{\"data_source\":{\"id\":\"31542509-9eee-49bc-9780-9bfd7220359a\",\"type\":\"ColumnDataSource\"},\"glyph\":{\"id\":\"fa97490f-804c-44f2-a071-485979055df6\",\"type\":\"Line\"},\"hover_glyph\":null,\"muted_glyph\":null,\"nonselection_glyph\":{\"id\":\"d97f9da1-6df7-43f2-860f-e78443a91e3b\",\"type\":\"Line\"},\"selection_glyph\":null,\"view\":{\"id\":\"8c6c9a7a-0c05-43d1-acfd-c0bfab45884f\",\"type\":\"CDSView\"}},\"id\":\"d681c2fe-b73c-41ee-8290-f19bf8368115\",\"type\":\"GlyphRenderer\"},{\"attributes\":{\"callback\":null,\"column_names\":[\"x\",\"y\"],\"data\":{\"x\":{\"__ndarray__\":\"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\",\"dtype\":\"float64\",\"shape\":[1000]},\"y\":{\"__ndarray__\":\"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\",\"dtype\":\"float64\",\"shape\":[1000]}}},\"id\":\"31542509-9eee-49bc-9780-9bfd7220359a\",\"type\":\"ColumnDataSource\"},{\"attributes\":{\"line_alpha\":{\"value\":0.1},\"line_color\":{\"value\":\"#1f77b4\"},\"line_width\":{\"value\":2},\"x\":{\"field\":\"x\"},\"y\":{\"field\":\"y\"}},\"id\":\"b7e90f0d-e04d-43dc-bdb0-9d4a05c22943\",\"type\":\"Line\"},{\"attributes\":{},\"id\":\"bd7dad81-9521-4854-8ff7-b1d8c1b3a535\",\"type\":\"BasicTickFormatter\"},{\"attributes\":{\"line_alpha\":{\"value\":0.7},\"line_color\":{\"value\":\"white\"},\"line_width\":{\"value\":2},\"x\":{\"field\":\"x\"},\"y\":{\"field\":\"y\"}},\"id\":\"5e5b4c61-112c-41fa-9fbb-f46c014ef1f5\",\"type\":\"Line\"},{\"attributes\":{\"source\":{\"id\":\"fe5b4f36-6b36-45c8-acea-88812bd90df2\",\"type\":\"ColumnDataSource\"}},\"id\":\"1d18e01a-e27b-47da-bed7-a73e95385e6e\",\"type\":\"CDSView\"},{\"attributes\":{\"bottom\":{\"value\":0},\"fill_color\":{\"value\":\"#036564\"},\"left\":{\"field\":\"left\"},\"line_color\":{\"value\":\"#033649\"},\"right\":{\"field\":\"right\"},\"top\":{\"field\":\"top\"}},\"id\":\"2039774a-19c1-4c22-80c3-314a8429ddd1\",\"type\":\"Quad\"},{\"attributes\":{\"label\":{\"value\":\"CDF\"},\"renderers\":[{\"id\":\"2387e895-0752-4d1e-adbd-411a26cbf084\",\"type\":\"GlyphRenderer\"}]},\"id\":\"eaf100ed-3069-4d94-83d1-665fd2814fe2\",\"type\":\"LegendItem\"},{\"attributes\":{\"data_source\":{\"id\":\"fe5b4f36-6b36-45c8-acea-88812bd90df2\",\"type\":\"ColumnDataSource\"},\"glyph\":{\"id\":\"5e5b4c61-112c-41fa-9fbb-f46c014ef1f5\",\"type\":\"Line\"},\"hover_glyph\":null,\"muted_glyph\":null,\"nonselection_glyph\":{\"id\":\"b7e90f0d-e04d-43dc-bdb0-9d4a05c22943\",\"type\":\"Line\"},\"selection_glyph\":null,\"view\":{\"id\":\"1d18e01a-e27b-47da-bed7-a73e95385e6e\",\"type\":\"CDSView\"}},\"id\":\"2387e895-0752-4d1e-adbd-411a26cbf084\",\"type\":\"GlyphRenderer\"},{\"attributes\":{},\"id\":\"96b645cc-f4dd-4856-a8fc-bfcb26b6ab23\",\"type\":\"BasicTickFormatter\"},{\"attributes\":{\"callback\":null,\"column_names\":[\"x\",\"y\"],\"data\":{\"x\":{\"__ndarray__\":\"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\",\"dtype\":\"float64\",\"shape\":[1000]},\"y\":{\"__ndarray__\":\"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\",\"dtype\":\"float64\",\"shape\":[1000]}}},\"id\":\"fe5b4f36-6b36-45c8-acea-88812bd90df2\",\"type\":\"ColumnDataSource\"},{\"attributes\":{\"source\":{\"id\":\"b434c061-bdc5-435f-9717-f77ca77f0502\",\"type\":\"ColumnDataSource\"}},\"id\":\"3d3e22fd-2bf2-4b8a-a5a9-c88bd561045f\",\"type\":\"CDSView\"}],\"root_ids\":[\"3c679eed-dbf6-4118-9f6a-c65d92a16452\"]},\"title\":\"Bokeh Application\",\"version\":\"0.12.9\"}};\n",
       "    var render_items = [{\"docid\":\"66b9c969-9258-4fd9-b920-3c6d011dda42\",\"elementid\":\"cde2c4fc-ec9d-4588-bb24-a45941284df7\",\"modelid\":\"3c679eed-dbf6-4118-9f6a-c65d92a16452\"}];\n",
       "\n",
       "    root.Bokeh.embed.embed_items(docs_json, render_items);\n",
       "  }\n",
       "\n",
       "  if (root.Bokeh !== undefined) {\n",
       "    embed_document(root);\n",
       "  } else {\n",
       "    var attempts = 0;\n",
       "    var timer = setInterval(function(root) {\n",
       "      if (root.Bokeh !== undefined) {\n",
       "        embed_document(root);\n",
       "        clearInterval(timer);\n",
       "      }\n",
       "      attempts++;\n",
       "      if (attempts > 100) {\n",
       "        console.log(\"Bokeh: ERROR: Unable to embed document because BokehJS library is missing\")\n",
       "        clearInterval(timer);\n",
       "      }\n",
       "    }, 10, root)\n",
       "  }\n",
       "})(window);"
      ],
      "application/vnd.bokehjs_exec.v0+json": ""
     },
     "metadata": {
      "application/vnd.bokehjs_exec.v0+json": {
       "id": "3c679eed-dbf6-4118-9f6a-c65d92a16452"
      }
     },
     "output_type": "display_data"
    }
   ],
   "source": [
    "show(p1)"
   ]
  },
  {
   "cell_type": "code",
   "execution_count": null,
   "metadata": {
    "collapsed": true
   },
   "outputs": [],
   "source": []
  },
  {
   "cell_type": "code",
   "execution_count": null,
   "metadata": {
    "collapsed": true
   },
   "outputs": [],
   "source": [
    "trait_data = h5py.File(\"example_trait_data.hdf5\")"
   ]
  },
  {
   "cell_type": "code",
   "execution_count": null,
   "metadata": {
    "collapsed": true
   },
   "outputs": [],
   "source": [
    "qtl = list(trait_data['qtl'])"
   ]
  },
  {
   "cell_type": "code",
   "execution_count": null,
   "metadata": {
    "collapsed": true
   },
   "outputs": [],
   "source": []
  },
  {
   "cell_type": "code",
   "execution_count": null,
   "metadata": {
    "collapsed": true
   },
   "outputs": [],
   "source": [
    "allele_effects = np.array(trait_data['allele/effects'])"
   ]
  },
  {
   "cell_type": "code",
   "execution_count": null,
   "metadata": {
    "collapsed": true
   },
   "outputs": [],
   "source": [
    "allele_fx = np.array(allele_effects[qtl])"
   ]
  },
  {
   "cell_type": "code",
   "execution_count": null,
   "metadata": {
    "collapsed": true
   },
   "outputs": [],
   "source": [
    "import numpy as np\n",
    "import scipy.special\n",
    "\n",
    "from bokeh.layouts import gridplot\n",
    "from bokeh.plotting import figure, show, output_file\n",
    "\n",
    "example_exponential = figure(title=\"Exponential Distribution theta=0\",tools=\"save\",\n",
    "            background_fill_color=\"#E8DDCB\", output_backend=\"svg\")\n",
    "\n",
    "theta = 1\n",
    "\n",
    "expo_measured = np.random.exponential(theta, 1000)\n",
    "expo_hist, expo_edges = np.histogram(expo_measured, density=True, bins=70)\n",
    "\n",
    "x = np.linspace(0.01, 6, 2000)\n",
    "expo_pdf = np.exp(-(x))\n",
    "#pdf = 1/(sigma * np.sqrt(2*np.pi)) * np.exp(-(x-mu)**2 / (2*sigma**2))\n",
    "#cdf = (1+scipy.special.erf((x-mu)/np.sqrt(2*sigma**2)))/2\n",
    "\n",
    "example_exponential.quad(top=expo_hist, bottom=0, left=expo_edges[:-1], right=expo_edges[1:],\n",
    "        fill_color=\"#036564\", line_color=\"#033649\")\n",
    "example_exponential.line(x, expo_pdf, line_color=\"#D95B43\", line_width=8, alpha=0.7, legend=\"PDF\")\n",
    "#example_exponential.line(x, cdf, line_color=\"white\", line_width=2, alpha=0.7, legend=\"CDF\")\n",
    "\n",
    "example_exponential.legend.location = \"center_right\"\n",
    "example_exponential.legend.background_fill_color = \"darkgrey\"\n",
    "example_exponential.xaxis.axis_label = 'x'\n",
    "example_exponential.yaxis.axis_label = 'Pr(x)'"
   ]
  },
  {
   "cell_type": "code",
   "execution_count": null,
   "metadata": {},
   "outputs": [],
   "source": [
    "show(example_exponential)"
   ]
  },
  {
   "cell_type": "code",
   "execution_count": null,
   "metadata": {},
   "outputs": [],
   "source": [
    "expo_hist"
   ]
  },
  {
   "cell_type": "code",
   "execution_count": null,
   "metadata": {},
   "outputs": [],
   "source": [
    "allele_fx[:, 2]"
   ]
  },
  {
   "cell_type": "code",
   "execution_count": null,
   "metadata": {},
   "outputs": [],
   "source": [
    "min(abs(x - allele_fx[0, 2]))"
   ]
  },
  {
   "cell_type": "code",
   "execution_count": null,
   "metadata": {},
   "outputs": [],
   "source": [
    "np.where(min(abs(x - allele_fx[0, 2])))"
   ]
  },
  {
   "cell_type": "code",
   "execution_count": null,
   "metadata": {},
   "outputs": [],
   "source": [
    "allele_fx[0, 2]"
   ]
  },
  {
   "cell_type": "code",
   "execution_count": null,
   "metadata": {},
   "outputs": [],
   "source": [
    "np.min(np.absolute(x - allele_fx[0, 2]))"
   ]
  },
  {
   "cell_type": "code",
   "execution_count": null,
   "metadata": {},
   "outputs": [],
   "source": [
    "for i in range(100, 170):\n",
    "    print(i, x[i] - allele_fx[0, 2])"
   ]
  },
  {
   "cell_type": "code",
   "execution_count": null,
   "metadata": {},
   "outputs": [],
   "source": [
    "np.array([x[i] - allele_fx[0, 2] for i in range(100, 200) if x[i] - allele_fx[0, 2] > 0])"
   ]
  },
  {
   "cell_type": "code",
   "execution_count": null,
   "metadata": {},
   "outputs": [],
   "source": [
    "x[164]"
   ]
  },
  {
   "cell_type": "code",
   "execution_count": null,
   "metadata": {
    "collapsed": true
   },
   "outputs": [],
   "source": [
    "np.absolute()"
   ]
  },
  {
   "cell_type": "code",
   "execution_count": null,
   "metadata": {
    "collapsed": true
   },
   "outputs": [],
   "source": []
  },
  {
   "cell_type": "code",
   "execution_count": null,
   "metadata": {
    "collapsed": true
   },
   "outputs": [],
   "source": [
    "allele_fx"
   ]
  },
  {
   "cell_type": "code",
   "execution_count": null,
   "metadata": {},
   "outputs": [],
   "source": [
    "x"
   ]
  },
  {
   "cell_type": "code",
   "execution_count": null,
   "metadata": {},
   "outputs": [],
   "source": [
    "expo_edges"
   ]
  },
  {
   "cell_type": "code",
   "execution_count": null,
   "metadata": {},
   "outputs": [],
   "source": [
    "allele_fx[:, 2]"
   ]
  },
  {
   "cell_type": "code",
   "execution_count": null,
   "metadata": {},
   "outputs": [],
   "source": [
    "allele_fx[:, 4]"
   ]
  },
  {
   "cell_type": "code",
   "execution_count": null,
   "metadata": {},
   "outputs": [],
   "source": [
    "x[::50]"
   ]
  },
  {
   "cell_type": "code",
   "execution_count": null,
   "metadata": {
    "collapsed": true
   },
   "outputs": [],
   "source": [
    "combined = list(allele_fx[:, 2]) + list(x)"
   ]
  },
  {
   "cell_type": "code",
   "execution_count": null,
   "metadata": {
    "collapsed": true
   },
   "outputs": [],
   "source": []
  },
  {
   "cell_type": "code",
   "execution_count": null,
   "metadata": {
    "collapsed": true
   },
   "outputs": [],
   "source": []
  },
  {
   "cell_type": "markdown",
   "metadata": {},
   "source": [
    "## Output in PNG"
   ]
  },
  {
   "cell_type": "code",
   "execution_count": null,
   "metadata": {
    "collapsed": true
   },
   "outputs": [],
   "source": [
    "import scipy.special\n",
    "from bokeh.layouts import gridplot\n",
    "from bokeh.plotting import figure, show, output_file\n",
    "\n",
    "example_normal = figure(title=\"Normal Distribution (mu=0, sigma^2=1)\",tools=\"save\",\n",
    "            background_fill_color=\"#E8DDCB\")\n",
    "\n",
    "mu = 0\n",
    "sigma = 1\n",
    "\n",
    "measured = np.random.normal(mu, sigma, 1000)\n",
    "hist, edges = np.histogram(measured, density=True, bins=70)\n",
    "\n",
    "x = np.linspace(-3, 3, 1000)\n",
    "#expo_pdf = np.exp(-(x))\n",
    "pdf = 1/(sigma * np.sqrt(2*np.pi)) * np.exp(-(x-mu)**2 / (2*sigma**2))\n",
    "#cdf = (1+scipy.special.erf((x-mu)/np.sqrt(2*sigma**2)))/2\n",
    "\n",
    "example_normal.quad(top=hist, bottom=0, left=edges[:-1], right=edges[1:],\n",
    "        fill_color=\"#036564\", line_color=\"#033649\")\n",
    "example_normal.line(x, pdf, line_color=\"#D95B43\", line_width=8, alpha=0.7, legend=\"PDF\")\n",
    "#example_exponential.line(x, cdf, line_color=\"white\", line_width=2, alpha=0.7, legend=\"CDF\")\n",
    "\n",
    "example_normal.legend.location = \"center_right\"\n",
    "example_normal.legend.background_fill_color = \"darkgrey\"\n",
    "example_normal.xaxis.axis_label = 'x'\n",
    "example_normal.yaxis.axis_label = 'Pr(x)'"
   ]
  },
  {
   "cell_type": "code",
   "execution_count": null,
   "metadata": {},
   "outputs": [],
   "source": [
    "show(example_normal)"
   ]
  },
  {
   "cell_type": "markdown",
   "metadata": {},
   "source": [
    "## Output in SVG"
   ]
  },
  {
   "cell_type": "code",
   "execution_count": null,
   "metadata": {
    "collapsed": true
   },
   "outputs": [],
   "source": [
    "import scipy.special\n",
    "from bokeh.layouts import gridplot\n",
    "from bokeh.plotting import figure, show, output_file\n",
    "\n",
    "example_normal = figure(title=\"Normal Distribution (mu=0, sigma^2=1)\",tools=\"save\",\n",
    "            background_fill_color=\"#E8DDCB\", output_backend=\"svg\")\n",
    "\n",
    "mu = 0\n",
    "sigma = 1\n",
    "\n",
    "measured = np.random.normal(mu, sigma, 1000)\n",
    "hist, edges = np.histogram(measured, density=True, bins=70)\n",
    "\n",
    "x = np.linspace(-3, 3, 1000)\n",
    "#expo_pdf = np.exp(-(x))\n",
    "pdf = 1/(sigma * np.sqrt(2*np.pi)) * np.exp(-(x-mu)**2 / (2*sigma**2))\n",
    "#cdf = (1+scipy.special.erf((x-mu)/np.sqrt(2*sigma**2)))/2\n",
    "\n",
    "example_normal.quad(top=hist, bottom=0, left=edges[:-1], right=edges[1:],\n",
    "        fill_color=\"#036564\", line_color=\"#033649\")\n",
    "example_normal.line(x, pdf, line_color=\"#D95B43\", line_width=8, alpha=0.7, legend=\"PDF\")\n",
    "#example_exponential.line(x, cdf, line_color=\"white\", line_width=2, alpha=0.7, legend=\"CDF\")\n",
    "\n",
    "example_normal.legend.location = \"center_right\"\n",
    "example_normal.legend.background_fill_color = \"darkgrey\"\n",
    "example_normal.xaxis.axis_label = 'x'\n",
    "example_normal.yaxis.axis_label = 'Pr(x)'"
   ]
  },
  {
   "cell_type": "code",
   "execution_count": null,
   "metadata": {},
   "outputs": [],
   "source": [
    "show(example_normal)"
   ]
  },
  {
   "cell_type": "code",
   "execution_count": null,
   "metadata": {
    "collapsed": true
   },
   "outputs": [],
   "source": [
    "import numpy as np\n",
    "import scipy.special\n",
    "\n",
    "from bokeh.layouts import gridplot\n",
    "from bokeh.plotting import figure, show, output_file\n",
    "\n",
    "example_exponential = figure(title=\"Exponential Distribution theta=0\",tools=\"save\",\n",
    "            background_fill_color=\"#E8DDCB\")\n",
    "\n",
    "theta = 1\n",
    "\n",
    "measured = np.random.exponential(theta, 1000)\n",
    "hist, edges = np.histogram(measured, density=True, bins=50)\n",
    "\n",
    "x = np.linspace(-2, 2, 1000)\n",
    "expo_pdf = np.exp(-(x))\n",
    "#pdf = 1/(sigma * np.sqrt(2*np.pi)) * np.exp(-(x-mu)**2 / (2*sigma**2))\n",
    "#cdf = (1+scipy.special.erf((x-mu)/np.sqrt(2*sigma**2)))/2\n",
    "\n",
    "p1.quad(top=hist, bottom=0, left=edges[:-1], right=edges[1:],\n",
    "        fill_color=\"#036564\", line_color=\"#033649\")\n",
    "p1.line(x, pdf, line_color=\"#D95B43\", line_width=8, alpha=0.7, legend=\"PDF\")\n",
    "p1.line(x, cdf, line_color=\"white\", line_width=2, alpha=0.7, legend=\"CDF\")\n",
    "\n",
    "p1.legend.location = \"center_right\"\n",
    "p1.legend.background_fill_color = \"darkgrey\"\n",
    "p1.xaxis.axis_label = 'x'\n",
    "p1.yaxis.axis_label = 'Pr(x)'\n",
    "\n",
    "\n",
    "\n",
    "p2 = figure(title=\"Log Normal Distribution (μ=0, σ=0.5)\", tools=\"save\",\n",
    "            background_fill_color=\"#E8DDCB\")\n",
    "\n",
    "mu, sigma = 0, 0.5\n",
    "\n",
    "measured = np.random.lognormal(mu, sigma, 1000)\n",
    "hist, edges = np.histogram(measured, density=True, bins=50)\n",
    "\n",
    "x = np.linspace(0.0001, 8.0, 1000)\n",
    "pdf = 1/(x* sigma * np.sqrt(2*np.pi)) * np.exp(-(np.log(x)-mu)**2 / (2*sigma**2))\n",
    "cdf = (1+scipy.special.erf((np.log(x)-mu)/(np.sqrt(2)*sigma)))/2\n",
    "\n",
    "p2.quad(top=hist, bottom=0, left=edges[:-1], right=edges[1:],\n",
    "        fill_color=\"#036564\", line_color=\"#033649\")\n",
    "p2.line(x, pdf, line_color=\"#D95B43\", line_width=8, alpha=0.7, legend=\"PDF\")\n",
    "p2.line(x, cdf, line_color=\"white\", line_width=2, alpha=0.7, legend=\"CDF\")\n",
    "\n",
    "p2.legend.location = \"center_right\"\n",
    "p2.legend.background_fill_color = \"darkgrey\"\n",
    "p2.xaxis.axis_label = 'x'\n",
    "p2.yaxis.axis_label = 'Pr(x)'\n",
    "\n",
    "\n",
    "\n",
    "p3 = figure(title=\"Gamma Distribution (k=1, θ=2)\", tools=\"save\",\n",
    "            background_fill_color=\"#E8DDCB\")\n",
    "\n",
    "k, theta = 1.0, 2.0\n",
    "\n",
    "measured = np.random.gamma(k, theta, 1000)\n",
    "hist, edges = np.histogram(measured, density=True, bins=50)\n",
    "\n",
    "x = np.linspace(0.0001, 20.0, 1000)\n",
    "pdf = x**(k-1) * np.exp(-x/theta) / (theta**k * scipy.special.gamma(k))\n",
    "cdf = scipy.special.gammainc(k, x/theta) / scipy.special.gamma(k)\n",
    "\n",
    "p3.quad(top=hist, bottom=0, left=edges[:-1], right=edges[1:],\n",
    "        fill_color=\"#036564\", line_color=\"#033649\")\n",
    "p3.line(x, pdf, line_color=\"#D95B43\", line_width=8, alpha=0.7, legend=\"PDF\")\n",
    "p3.line(x, cdf, line_color=\"white\", line_width=2, alpha=0.7, legend=\"CDF\")\n",
    "\n",
    "p3.legend.location = \"center_right\"\n",
    "p3.legend.background_fill_color = \"darkgrey\"\n",
    "p3.xaxis.axis_label = 'x'\n",
    "p3.yaxis.axis_label = 'Pr(x)'\n",
    "\n",
    "\n",
    "\n",
    "p4 = figure(title=\"Weibull Distribution (λ=1, k=1.25)\", tools=\"save\",\n",
    "            background_fill_color=\"#E8DDCB\")\n",
    "\n",
    "lam, k = 1, 1.25\n",
    "\n",
    "measured = lam*(-np.log(np.random.uniform(0, 1, 1000)))**(1/k)\n",
    "hist, edges = np.histogram(measured, density=True, bins=50)\n",
    "\n",
    "x = np.linspace(0.0001, 8, 1000)\n",
    "pdf = (k/lam)*(x/lam)**(k-1) * np.exp(-(x/lam)**k)\n",
    "cdf = 1 - np.exp(-(x/lam)**k)\n",
    "\n",
    "p4.quad(top=hist, bottom=0, left=edges[:-1], right=edges[1:],\n",
    "       fill_color=\"#036564\", line_color=\"#033649\")\n",
    "p4.line(x, pdf, line_color=\"#D95B43\", line_width=8, alpha=0.7, legend=\"PDF\")\n",
    "p4.line(x, cdf, line_color=\"white\", line_width=2, alpha=0.7, legend=\"CDF\")\n",
    "\n",
    "p4.legend.location = \"center_right\"\n",
    "p4.legend.background_fill_color = \"darkgrey\"\n",
    "p4.xaxis.axis_label = 'x'\n",
    "p4.yaxis.axis_label = 'Pr(x)'\n",
    "\n",
    "show(gridplot(p1,p2,p3,p4, ncols=2, plot_width=400, plot_height=400))"
   ]
  },
  {
   "cell_type": "code",
   "execution_count": null,
   "metadata": {
    "collapsed": true
   },
   "outputs": [],
   "source": [
    "import networkx as nx\n",
    "\n",
    "from bokeh.io import show, output_file\n",
    "from bokeh.models import Plot, Range1d, MultiLine, Circle, HoverTool, TapTool, BoxSelectTool\n",
    "from bokeh.models.graphs import from_networkx, NodesAndLinkedEdges, EdgesAndLinkedNodes\n",
    "from bokeh.palettes import Spectral4\n",
    "\n",
    "G=nx.karate_club_graph()\n",
    "\n",
    "plot = Plot(plot_width=400, plot_height=400,\n",
    "            x_range=Range1d(-1.1,1.1), y_range=Range1d(-1.1,1.1))\n",
    "plot.title.text = \"Graph Interaction Demonstration\"\n",
    "\n",
    "plot.add_tools(HoverTool(tooltips=None), TapTool(), BoxSelectTool())\n",
    "\n",
    "graph_renderer = from_networkx(G, nx.circular_layout, scale=1, center=(0,0))\n",
    "\n",
    "graph_renderer.node_renderer.glyph = Circle(size=15, fill_color=Spectral4[0])\n",
    "graph_renderer.node_renderer.selection_glyph = Circle(size=15, fill_color=Spectral4[2])\n",
    "graph_renderer.node_renderer.hover_glyph = Circle(size=15, fill_color=Spectral4[1])\n",
    "\n",
    "graph_renderer.edge_renderer.glyph = MultiLine(line_color=\"#CCCCCC\", line_alpha=0.8, line_width=5)\n",
    "graph_renderer.edge_renderer.selection_glyph = MultiLine(line_color=Spectral4[2], line_width=5)\n",
    "graph_renderer.edge_renderer.hover_glyph = MultiLine(line_color=Spectral4[1], line_width=5)\n",
    "\n",
    "graph_renderer.selection_policy = NodesAndLinkedEdges()\n",
    "graph_renderer.inspection_policy = EdgesAndLinkedNodes()\n",
    "\n",
    "plot.renderers.append(graph_renderer)\n",
    "\n",
    "output_file(\"interactive_graphs.html\")\n",
    "show(plot)"
   ]
  },
  {
   "cell_type": "code",
   "execution_count": null,
   "metadata": {
    "collapsed": true
   },
   "outputs": [],
   "source": []
  }
 ],
 "metadata": {
  "kernelspec": {
   "display_name": "Python 3",
   "language": "python",
   "name": "python3"
  },
  "language_info": {
   "codemirror_mode": {
    "name": "ipython",
    "version": 3
   },
   "file_extension": ".py",
   "mimetype": "text/x-python",
   "name": "python",
   "nbconvert_exporter": "python",
   "pygments_lexer": "ipython3",
   "version": "3.6.1"
  }
 },
 "nbformat": 4,
 "nbformat_minor": 2
}
