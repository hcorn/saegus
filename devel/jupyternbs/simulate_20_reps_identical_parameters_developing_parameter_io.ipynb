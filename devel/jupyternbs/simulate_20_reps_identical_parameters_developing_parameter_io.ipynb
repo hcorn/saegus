{
 "cells": [
  {
   "cell_type": "markdown",
   "metadata": {},
   "source": [
    "IPYNB for creating output and developing methods to analyze the output from GWAS.\n",
    "This ipynb will choose the same parameters for many replicates and compare them.\n",
    "The prior version Chose different qtl and allele effects for every replicate."
   ]
  },
  {
   "cell_type": "markdown",
   "metadata": {},
   "source": [
    "# Identical QTL Parameters\n",
    "    \n",
    "    This simulates 20 replicates of recurrent selection.\n",
    "    Each replicate has the same QTL and allele effects."
   ]
  },
  {
   "cell_type": "markdown",
   "metadata": {},
   "source": [
    "## Generating Data for GWAS with TASSEL"
   ]
  },
  {
   "cell_type": "code",
   "execution_count": null,
   "metadata": {
    "collapsed": true
   },
   "outputs": [],
   "source": [
    "import simuOpt\n",
    "simuOpt.setOptions(alleleType='short', optimized=True, numThreads=4, quiet=True)\n",
    "import simuPOP as sim\n",
    "import pandas as pd\n",
    "import collections as col\n",
    "from saegus import breed, operators, simulate, analyze, parser, parameterizer\n",
    "import random\n",
    "import copy\n",
    "import yaml\n",
    "import numpy as np\n",
    "np.set_printoptions(suppress=True, precision=3)"
   ]
  },
  {
   "cell_type": "code",
   "execution_count": null,
   "metadata": {
    "collapsed": true
   },
   "outputs": [],
   "source": [
    "hapmap = pd.read_csv('clean_hapmap.txt')\n",
    "raw_hmap = pd.read_csv('hapmap3.txt')\n",
    "genetic_map = hapmap.ix[:, :'cM_pos']\n",
    "genetic_map = pd.read_csv('nam_prefounders_genetic_map.txt', index_col=None,\n",
    "                         sep='\\t')\n",
    "\n",
    "raw_hmap = pd.read_csv('hapmap3.txt', delimiter='\\t', index_col=0)\n",
    "\n",
    "pos_column = list(raw_hmap['agp_pos'])\n",
    "\n",
    "chr_cM_positions = {}\n",
    "for i in range(1, 11):\n",
    "    chr_cM_positions[i] = []\n",
    "\n",
    "for idx in range(len(genetic_map)):\n",
    "    chrome = str(int())\n",
    "    chr_cM_positions[int(genetic_map.iloc[idx]['chr'])].append(genetic_map.iloc[idx]['cM_pos'])\n",
    "\n",
    "\n",
    "cM_positions = []\n",
    "for i in range(1, 11):\n",
    "    cM_positions.append(chr_cM_positions[i])"
   ]
  },
  {
   "cell_type": "code",
   "execution_count": null,
   "metadata": {
    "collapsed": false
   },
   "outputs": [],
   "source": [
    "type(genetic_map)"
   ]
  },
  {
   "cell_type": "code",
   "execution_count": null,
   "metadata": {
    "collapsed": false
   },
   "outputs": [],
   "source": [
    "type(flat_cM_positions)"
   ]
  },
  {
   "cell_type": "code",
   "execution_count": null,
   "metadata": {
    "collapsed": false
   },
   "outputs": [],
   "source": [
    "genetic_map.columns"
   ]
  },
  {
   "cell_type": "code",
   "execution_count": null,
   "metadata": {
    "collapsed": false
   },
   "outputs": [],
   "source": [
    "array_map = np.array(genetic_map)"
   ]
  },
  {
   "cell_type": "code",
   "execution_count": null,
   "metadata": {
    "collapsed": true
   },
   "outputs": [],
   "source": []
  },
  {
   "cell_type": "code",
   "execution_count": null,
   "metadata": {
    "collapsed": true
   },
   "outputs": [],
   "source": [
    "locus_names"
   ]
  },
  {
   "cell_type": "code",
   "execution_count": null,
   "metadata": {
    "collapsed": true
   },
   "outputs": [],
   "source": [
    "map(int, )"
   ]
  },
  {
   "cell_type": "code",
   "execution_count": null,
   "metadata": {
    "collapsed": false
   },
   "outputs": [],
   "source": [
    "dummy_columns = {'pos_column': pos_column,\n",
    "                 'locus_names': locus_names,\n",
    "                }"
   ]
  },
  {
   "cell_type": "code",
   "execution_count": null,
   "metadata": {
    "collapsed": false
   },
   "outputs": [],
   "source": [
    "type(dummy_columns)"
   ]
  },
  {
   "cell_type": "code",
   "execution_count": null,
   "metadata": {
    "collapsed": false
   },
   "outputs": [],
   "source": [
    "type(locus_names[0])"
   ]
  },
  {
   "cell_type": "code",
   "execution_count": null,
   "metadata": {
    "collapsed": true
   },
   "outputs": [],
   "source": [
    "pos_column"
   ]
  },
  {
   "cell_type": "code",
   "execution_count": null,
   "metadata": {
    "collapsed": false
   },
   "outputs": [],
   "source": [
    "type(pos_column[0])"
   ]
  },
  {
   "cell_type": "code",
   "execution_count": null,
   "metadata": {
    "collapsed": false
   },
   "outputs": [],
   "source": [
    "type(dummy_columns['locus_names'])"
   ]
  },
  {
   "cell_type": "code",
   "execution_count": null,
   "metadata": {
    "collapsed": true
   },
   "outputs": [],
   "source": [
    "dummy_columns"
   ]
  },
  {
   "cell_type": "code",
   "execution_count": null,
   "metadata": {
    "collapsed": false
   },
   "outputs": [],
   "source": [
    "with open('dummy_columns_in_hapmap.yaml', 'w') as clmns:\n",
    "    yaml.dump(dummy_columns, clmns)"
   ]
  },
  {
   "cell_type": "code",
   "execution_count": null,
   "metadata": {
    "collapsed": true
   },
   "outputs": [],
   "source": [
    "snp_to_integer = {'A': 0, 'C': 1, 'G': 2, 'T': 3, '-':4, '+':5}\n",
    "allele_names = ['A', 'C', 'T', 'G', 'D', 'I']\n",
    "integer_to_snp = {0: 'A', 1:'C', 2: 'G', 3: 'T', 4: '-', 5: '+'}\n",
    "\n",
    "\n",
    "integral_valued_loci = []\n",
    "relative_integral_valued_loci = {}\n",
    "for idx in range(len(genetic_map)):\n",
    "    if str(genetic_map.iloc[idx]['cM_pos'])[-2:] == '.0':\n",
    "        integral_valued_loci.append(idx)\n",
    "        relative_integral_valued_loci[idx] = (genetic_map.iloc[idx]['chr'], genetic_map.iloc[idx]['cM_pos'])\n",
    "\n",
    "alleles = {i: (snp_to_integer[hapmap.ix[i, 'alleles'][0]], \n",
    "               snp_to_integer[hapmap.ix[i, 'alleles'][-1]]) for i in\n",
    "          range(len(hapmap))}\n",
    "\n",
    "recombination_rates = []\n",
    "for chromosome in cM_positions:\n",
    "    for cM in chromosome:\n",
    "        if str(cM)[-2:] == '.6':\n",
    "            recombination_rates.append(0.01)\n",
    "        else:\n",
    "            recombination_rates.append(0.0)\n",
    "\n",
    "allele_names = ['A', 'C', 'T', 'G', 'D', 'I']\n",
    "\n",
    "flat_cM_positions = []\n",
    "for cMs in cM_positions:\n",
    "    flat_cM_positions.extend(cMs)"
   ]
  },
  {
   "cell_type": "code",
   "execution_count": null,
   "metadata": {
    "collapsed": false
   },
   "outputs": [],
   "source": [
    "nam = sim.loadPopulation('nam_prefounders.pop')\n",
    "sim.tagID(nam, reset=True)\n",
    "nam.setSubPopName('prefounders', 0)\n",
    "sample_sizes = {i: 100 for i in range(0, 21, 2)}\n",
    "locus_names = list(range(nam.totNumLoci()))\n",
    "\n",
    "\n",
    "genetic_structure = {}\n",
    "#genetic_structure['cM_positions'] = cM_positions\n",
    "#enetic_structure['chr_cM_positions'] = chr_cM_positions\n",
    "genetic_structure['allele_names'] = allele_names\n",
    "genetic_structure['integral_valued_loci'] = integral_valued_loci\n",
    "genetic_structure['relative_integral_valued_loci'] = relative_integral_valued_loci\n",
    "genetic_structure['alleles'] = alleles\n",
    "genetic_structure['recombination_rates'] = recombination_rates"
   ]
  },
  {
   "cell_type": "code",
   "execution_count": null,
   "metadata": {
    "collapsed": true
   },
   "outputs": [],
   "source": [
    "sim_params = {\n",
    "                'generations_of_selection': 10,\n",
    "                'generations_of_drift': 10,\n",
    "                'generations_of_random_mating': 3,\n",
    "                'number_of_replicates': 20,\n",
    "                'operating_population_size': 500,\n",
    "                'proportion_of_individuals_saved': 0.05,\n",
    "                'overshoot_as_proportion': 0.50,\n",
    "                'individuals_per_breeding_subpop': 5,\n",
    "                'heritability': 0.7,\n",
    "                'meta_pop_sample_sizes': sample_sizes,\n",
    "                'prefounder_file_name': 'nam_prefounders.pop',\n",
    "                'founders': [(3,18), (2, 13), (7, 14), (1, 19),\n",
    "                            (14, 17), (1, 20), (17, 21), (9, 22)]\n",
    "    }"
   ]
  },
  {
   "cell_type": "raw",
   "metadata": {},
   "source": [
    "with open('selection_simulation_parameters.yaml', 'w') as simp:\n",
    "    yaml.dump(sim_params, simp)"
   ]
  },
  {
   "cell_type": "raw",
   "metadata": {},
   "source": [
    "with open('selection_simulation_parameters.yaml', 'r') as simpr:\n",
    "    filerams = yaml.load(simpr)\n",
    "print(filerams)"
   ]
  },
  {
   "cell_type": "code",
   "execution_count": null,
   "metadata": {
    "collapsed": true
   },
   "outputs": [],
   "source": [
    "qtl_params = {\n",
    "                'qtl': 20,\n",
    "                'allele_effects': 1,\n",
    "}\n",
    "selection_statistics = {\n",
    "    'aggregate': {},\n",
    "    'selected': {},\n",
    "    'non-selected': {}\n",
    "}\n",
    "drift_statistics = {\n",
    "    'aggregate': {},\n",
    "    'selected': {},\n",
    "    'non-selected': {}\n",
    "}"
   ]
  },
  {
   "cell_type": "code",
   "execution_count": null,
   "metadata": {
    "collapsed": true
   },
   "outputs": [],
   "source": [
    "ind_names_for_gwas = {i: {} for i in range(sim_params['number_of_replicates'])}"
   ]
  },
  {
   "cell_type": "code",
   "execution_count": null,
   "metadata": {
    "collapsed": false
   },
   "outputs": [],
   "source": [
    "s = simulate.Truncation(sim_params['generations_of_selection'],\n",
    "                       sim_params['generations_of_random_mating'],\n",
    "                       sim_params['operating_population_size'],\n",
    "                       sim_params['proportion_of_individuals_saved'],\n",
    "                       sim_params['overshoot_as_proportion'],\n",
    "                       sim_params['individuals_per_breeding_subpop'],\n",
    "                       sim_params['heritability'],\n",
    "                       sim_params['meta_pop_sample_sizes'],\n",
    "                       sim_params['number_of_replicates'])"
   ]
  },
  {
   "cell_type": "code",
   "execution_count": null,
   "metadata": {
    "collapsed": false
   },
   "outputs": [],
   "source": [
    "founders = sim_params['founders']\n",
    "replicated_nam = sim.Simulator(nam, rep=3, stealPops=False)\n",
    "pop = replicated_nam.extract(0)"
   ]
  },
  {
   "cell_type": "markdown",
   "metadata": {},
   "source": [
    "### Run MAGIC Mating Scheme"
   ]
  },
  {
   "cell_type": "code",
   "execution_count": null,
   "metadata": {
    "collapsed": false
   },
   "outputs": [],
   "source": [
    "s.generate_f_one(pop, recombination_rates, sim_params['founders'])\n",
    "s.recombinatorial_convergence(pop, recombination_rates)\n",
    "s.expand_by_selfing(pop, recombination_rates)\n",
    "s.interim_random_mating(pop, recombination_rates)"
   ]
  },
  {
   "cell_type": "markdown",
   "metadata": {},
   "source": [
    "## Adapting QTL and Allele Effects to Multiple Replicate Case"
   ]
  },
  {
   "cell_type": "code",
   "execution_count": null,
   "metadata": {
    "collapsed": false
   },
   "outputs": [],
   "source": [
    "multipop = sim.Simulator(pop, sim_params['number_of_replicates'])\n",
    "multi_meta = sim.Simulator(nam, sim_params['number_of_replicates'], stealPops=False)"
   ]
  },
  {
   "cell_type": "markdown",
   "metadata": {},
   "source": [
    "#### Assign Each Replicate Identical Parameters\n",
    "    Determines a single random set of QTL/allele effects and assigns the\n",
    "    same information to every replicate."
   ]
  },
  {
   "cell_type": "code",
   "execution_count": null,
   "metadata": {
    "collapsed": true
   },
   "outputs": [],
   "source": [
    "def assign_identical_qtl_parameters(multi_pop, number_of_qtl, qtl_subset, ae_parameters):\n",
    "    \"\"\"\n",
    "    Assigns each replicate in a population the same exact set of QTL and corresponding\n",
    "    allele effects.\n",
    "    \n",
    "    :param multi_pop: simuPOP Simulator object containing multiple replicates.\n",
    "    :param number_of_qtl: Number of loci to declare as QTL\n",
    "    :param qtl_subset: List of loci which can be chosen as QTL\n",
    "    :param ae_parameters: Parameters of the allele effect distribution.\n",
    "    \n",
    "    \n",
    "    \n",
    "    \"\"\"\n",
    "    triplet_qtl = {i: [] for i in range(multi_pop.numRep())}\n",
    "    single_pop = multi_pop.population(0)\n",
    "    sim.stat(single_pop, numOfSegSites=qtl_subset, vars=['numOfSegSites', 'segSites'])\n",
    "    qtl = parameterizer.seg_qtl_chooser(single_pop, qtl_subset, number_of_qtl)\n",
    "\n",
    "    for i, pop_rep in enumerate(multi_pop.populations()):\n",
    "        for locus in qtl:\n",
    "            triplet_qtl[i].append(locus - 1)\n",
    "            triplet_qtl[i].append(locus)\n",
    "            triplet_qtl[i].append(locus + 1)\n",
    "    \n",
    "    allele_effects = {rep_id: {locus: {} for locus in triplet_qtl[rep_id]} \n",
    "                          for rep_id in range(multi_pop.numRep())}\n",
    "    \n",
    "    for locus in triplet_qtl[0]:\n",
    "        for allele in alleles[locus]:\n",
    "            allele_effects[0][locus][allele] = random.expovariate(1)\n",
    "    \n",
    "    return triplet_qtl, allele_effects"
   ]
  },
  {
   "cell_type": "code",
   "execution_count": null,
   "metadata": {
    "collapsed": false
   },
   "outputs": [],
   "source": [
    "triplet_qtl = {i: [] for i in range(multipop.numRep())}\n",
    "single_pop = multipop.population(0)\n",
    "sim.stat(single_pop, numOfSegSites=integral_valued_loci, vars=['numOfSegSites', 'segSites'])\n",
    "qtl = parameterizer.seg_qtl_chooser(single_pop, integral_valued_loci, qtl_params['qtl'])"
   ]
  },
  {
   "cell_type": "code",
   "execution_count": null,
   "metadata": {
    "collapsed": false
   },
   "outputs": [],
   "source": [
    "for i, pop_rep in enumerate(multipop.populations()):\n",
    "    for locus in qtl:\n",
    "        triplet_qtl[i].append(locus - 1)\n",
    "        triplet_qtl[i].append(locus)\n",
    "        triplet_qtl[i].append(locus + 1)"
   ]
  },
  {
   "cell_type": "code",
   "execution_count": null,
   "metadata": {
    "collapsed": true
   },
   "outputs": [],
   "source": [
    "allele_effects = {rep_id: {locus: {} for locus in triplet_qtl[rep_id]} \n",
    "                  for rep_id in range(sim_params['number_of_replicates'])}\n",
    "for locus in triplet_qtl[0]:\n",
    "    for allele in alleles[locus]:\n",
    "        allele_effects[0][locus][allele] = random.expovariate(1)\n",
    "for i in range(1, multipop.numRep()):\n",
    "    allele_effects[i] = allele_effects[0]"
   ]
  },
  {
   "cell_type": "code",
   "execution_count": null,
   "metadata": {
    "collapsed": false
   },
   "outputs": [],
   "source": [
    "allele_effects"
   ]
  },
  {
   "cell_type": "code",
   "execution_count": null,
   "metadata": {
    "collapsed": true
   },
   "outputs": [],
   "source": [
    "for i in range(1, multipop.numRep()):\n",
    "    allele_effects[i] = allele_effects[0]"
   ]
  },
  {
   "cell_type": "code",
   "execution_count": null,
   "metadata": {
    "collapsed": false
   },
   "outputs": [],
   "source": [
    "allele_effects"
   ]
  },
  {
   "cell_type": "code",
   "execution_count": null,
   "metadata": {
    "collapsed": true
   },
   "outputs": [],
   "source": []
  },
  {
   "cell_type": "code",
   "execution_count": null,
   "metadata": {
    "collapsed": true
   },
   "outputs": [],
   "source": []
  },
  {
   "cell_type": "code",
   "execution_count": null,
   "metadata": {
    "collapsed": true
   },
   "outputs": [],
   "source": [
    "def assign_identical_qtl_parameters(multi_pop, alleles,  qtl_subset, \\\n",
    "                                                number_of_qtl, ae_parameters):\n",
    "    \"\"\"\n",
    "    Assigns each replicate in a population the same exact set of QTL and corresponding\n",
    "    allele effects.\n",
    "\n",
    "    :param multi_pop: simuPOP Simulator object containing multiple replicates.\n",
    "    :param number_of_qtl: Number of loci to declare as QTL\n",
    "    :param qtl_subset: List of loci which can be chosen as QTL\n",
    "    :param ae_parameters: Parameters of the allele effect distribution.\n",
    "\n",
    "\n",
    "\n",
    "    \"\"\"\n",
    "    triplet_qtl = {i: [] for i in range(multi_pop.numRep())}\n",
    "    single_pop = multi_pop.population(0)\n",
    "    sim.stat(single_pop, numOfSegSites=qtl_subset, vars=['numOfSegSites', 'segSites'])\n",
    "    qtl = parameterizer.seg_qtl_chooser(single_pop, qtl_subset, number_of_qtl)\n",
    "\n",
    "    for i, pop_rep in enumerate(multi_pop.populations()):\n",
    "        for locus in qtl:\n",
    "            triplet_qtl[i].append(locus - 1)\n",
    "            triplet_qtl[i].append(locus)\n",
    "            triplet_qtl[i].append(locus + 1)\n",
    "\n",
    "    allele_effects = {rep_id: {locus: {} for locus in triplet_qtl[rep_id]}\n",
    "                          for rep_id in range(multi_pop.numRep())}\n",
    "\n",
    "    for locus in triplet_qtl[0]:\n",
    "        for allele in alleles[locus]:\n",
    "            allele_effects[0][locus][allele] = random.expovariate(\n",
    "                *ae_parameters)\n",
    "\n",
    "    for i in range(1, multi_pop.numRep()):\n",
    "        allele_effects[i] = allele_effects[0]\n",
    "        assert allele_effects[i] == allele_effects[0], \"One set of allele \" \\\n",
    "                                                       \"effects is not equal \" \\\n",
    "                                                       \"to the 0th one.\"\n",
    "\n",
    "    return triplet_qtl, allele_effects"
   ]
  },
  {
   "cell_type": "code",
   "execution_count": null,
   "metadata": {
    "collapsed": false
   },
   "outputs": [],
   "source": [
    "triplet_qtl, allele_effects = assign_identical_qtl_parameters(multipop, alleles, integral_valued_loci, 10, [1])"
   ]
  },
  {
   "cell_type": "code",
   "execution_count": null,
   "metadata": {
    "collapsed": false
   },
   "outputs": [],
   "source": [
    "for repid, pop_rep in enumerate(multipop.populations()):\n",
    "    pop_rep.dvars().statistics = copy.deepcopy(selection_statistics)"
   ]
  },
  {
   "cell_type": "code",
   "execution_count": null,
   "metadata": {
    "collapsed": false
   },
   "outputs": [],
   "source": [
    "s.replicate_selection(multipop, multi_meta, triplet_qtl, allele_effects,\n",
    "                                recombination_rates)"
   ]
  },
  {
   "cell_type": "code",
   "execution_count": null,
   "metadata": {
    "collapsed": true
   },
   "outputs": [],
   "source": [
    "triplet_qtl"
   ]
  },
  {
   "cell_type": "code",
   "execution_count": null,
   "metadata": {
    "collapsed": false
   },
   "outputs": [],
   "source": [
    "for meta_rep in multi_meta.populations():\n",
    "    assert meta_rep.numSubPop() == 7, \"Correct number subpopulations before removal of the dummy population\"\n",
    "    meta_rep.removeSubPops(0)\n",
    "    assert meta_rep.numSubPop() == 6, \"Correct number after removal\""
   ]
  },
  {
   "cell_type": "code",
   "execution_count": null,
   "metadata": {
    "collapsed": false
   },
   "outputs": [],
   "source": [
    "\n",
    "for i, meta_rep in enumerate(multi_meta.populations()):\n",
    "    af = analyze.Frq(meta_rep, triplet_qtl[0], alleles, allele_effects[0])\n",
    "    selection_af = selection_qtd.allele_frequencies(meta_rep, range(meta_rep.totNumLoci()))\n",
    "    selection_qtalleles = selection_qtd.rank_allele_effects(meta_rep, triplet_qtl[0], alleles, allele_effects[0])\n",
    "    selection_ties = [locus for locus in range(meta_rep.totNumLoci()) \n",
    "                      if selection_af['minor', 'alleles'][locus] == selection_af['major', 'alleles'][locus]]\n",
    "\n",
    "    for st in selection_ties:\n",
    "        selection_af['major', 'alleles'][st] = list(meta_rep.dvars().alleleFreq[st])[0]\n",
    "        selection_af['minor', 'alleles'][st] = list(meta_rep.dvars().alleleFreq[st])[1]\n",
    "    major_minor_allele_conflicts = sum(np.equal(list(selection_af['minor', 'alleles'].values()), \n",
    "                 list(selection_af['major', 'alleles'].values())))\n",
    "    \n",
    "    assert major_minor_allele_conflicts == 0, \"There is a tie in at least one locus.\"\n",
    "    \n",
    "    selection\n",
    "    \n",
    "    \n",
    "    pca = analyze.PCA(meta_rep, range(meta_rep.totNumLoci()), selection_qtd)\n",
    "    meta_rep_id = str(meta_rep.dvars().rep)\n",
    "    \n",
    "    prefix = 'rs_R' + str(meta_rep_id) + '_'\n",
    "    \n",
    "    minor_ac = pca.calculate_count_matrix(meta_rep, selection_af['minor', 'alleles'], \n",
    "                                      prefix + 'minor_allele_count.txt')\n",
    "    \n",
    "    eigendata = pca.svd(meta_rep, minor_ac)\n",
    "    \n",
    "    \n",
    "    individual_names = {ind.ind_id: 'RS_R'+ meta_rep_id +'_G' + \n",
    "                        str(int(ind.generation)) + \n",
    "                        '_I'+str(int(ind.ind_id)) \n",
    "                        for ind in meta_rep.individuals()}\n",
    "    \n",
    "    ind_names_for_gwas[meta_rep_id] = individual_names\n",
    "    \n",
    "    meta_rep.save(prefix + 'metapopulation.pop')\n",
    "    \n",
    "    names_filename = prefix + 'individual_names.yaml'\n",
    "    with open(names_filename, 'w') as name_stream:\n",
    "        yaml.dump(individual_names, name_stream)\n",
    "    \n",
    "    in_dir_prefix = 'C:\\\\GWAS\\\\input\\\\'\n",
    "    out_dir_prefix = 'C:\\\\GWAS\\\\result\\\\'\n",
    "    config_prefix = 'C:\\\\GWAS\\\\tassel-5-standalone'\n",
    "    \n",
    "    \n",
    "    analyze.generate_tassel_gwas_configs(in_dir_prefix, out_dir_prefix, config_prefix, \n",
    "                                         prefix, 'sim_mlm_gwas_pipeline.xml')\n",
    "    \n",
    "    gwas = analyze.GWAS(meta_rep, individual_names, locus_names, pos_column)\n",
    "    hmap = gwas.hapmap_formatter(integer_to_snp, in_dir_prefix + prefix + 'simulated_hapmap.txt')\n",
    "    phenos = gwas.trait_formatter(in_dir_prefix + prefix + 'phenotype_vector.txt')\n",
    "    kinship_matrix = gwas.calc_kinship_matrix(minor_ac, selection_af, in_dir_prefix + prefix + 'kinship_matrix.txt')\n",
    "    pop_struct_matrix = gwas.population_structure_formatter(eigendata, in_dir_prefix + prefix + 'structure_matrix.txt')\n",
    "    pd.DataFrame(multipop.population(i).dvars().statistics).to_csv(in_dir_prefix + prefix + 'means_and_vars.txt', sep='\\t')"
   ]
  },
  {
   "cell_type": "code",
   "execution_count": null,
   "metadata": {
    "collapsed": true
   },
   "outputs": [],
   "source": []
  },
  {
   "cell_type": "code",
   "execution_count": null,
   "metadata": {
    "collapsed": true
   },
   "outputs": [],
   "source": []
  },
  {
   "cell_type": "code",
   "execution_count": null,
   "metadata": {
    "collapsed": true
   },
   "outputs": [],
   "source": []
  },
  {
   "cell_type": "code",
   "execution_count": null,
   "metadata": {
    "collapsed": true
   },
   "outputs": [],
   "source": [
    "import os"
   ]
  },
  {
   "cell_type": "code",
   "execution_count": null,
   "metadata": {
    "collapsed": false
   },
   "outputs": [],
   "source": [
    "analyze.parameter_set_writer('C:\\\\', os.getcwd() + '\\\\RS_run_three_twenty_loci_', sim_params, triplet_qtl, \n",
    "                             allele_effects, genetic_structure)"
   ]
  },
  {
   "cell_type": "code",
   "execution_count": null,
   "metadata": {
    "collapsed": true
   },
   "outputs": [],
   "source": []
  },
  {
   "cell_type": "code",
   "execution_count": null,
   "metadata": {
    "collapsed": true
   },
   "outputs": [],
   "source": []
  }
 ],
 "metadata": {
  "kernelspec": {
   "display_name": "Python 3",
   "language": "python",
   "name": "python3"
  },
  "language_info": {
   "codemirror_mode": {
    "name": "ipython",
    "version": 3
   },
   "file_extension": ".py",
   "mimetype": "text/x-python",
   "name": "python",
   "nbconvert_exporter": "python",
   "pygments_lexer": "ipython3",
   "version": "3.4.3"
  }
 },
 "nbformat": 4,
 "nbformat_minor": 0
}
