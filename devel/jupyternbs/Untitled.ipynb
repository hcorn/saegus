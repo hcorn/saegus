{
 "cells": [
  {
   "cell_type": "code",
   "execution_count": 1,
   "metadata": {
    "collapsed": false
   },
   "outputs": [
    {
     "name": "stdout",
     "output_type": "stream",
     "text": [
      "simuPOP Version 1.1.6 : Copyright (c) 2004-2011 Bo Peng\n",
      "Revision 4972 (May  1 2015) for Python 3.4.3 (64bit, 1thread)\n",
      "Random Number Generator is set to mt19937 with random seed 0x608ecdab.\n",
      "This is the standard short allele version with 256 maximum allelic states.\n",
      "For more information, please visit http://simupop.sourceforge.net,\n",
      "or email simupop-list@lists.sourceforge.net (subscription required).\n"
     ]
    }
   ],
   "source": [
    "import simuPOP as sim"
   ]
  },
  {
   "cell_type": "code",
   "execution_count": 3,
   "metadata": {
    "collapsed": true
   },
   "outputs": [],
   "source": [
    "pop = sim.Population(size=1000, loci=[5, 5])\n",
    "sim.initSex(pop, maleFreq=0.5)\n"
   ]
  },
  {
   "cell_type": "code",
   "execution_count": 11,
   "metadata": {
    "collapsed": false
   },
   "outputs": [],
   "source": [
    "sim.initGenotype(pop, freq=[0.3, 0.7], loci=[0, 1])"
   ]
  },
  {
   "cell_type": "code",
   "execution_count": null,
   "metadata": {
    "collapsed": true
   },
   "outputs": [],
   "source": []
  }
 ],
 "metadata": {
  "kernelspec": {
   "display_name": "Python 3",
   "language": "python",
   "name": "python3"
  },
  "language_info": {
   "codemirror_mode": {
    "name": "ipython",
    "version": 3
   },
   "file_extension": ".py",
   "mimetype": "text/x-python",
   "name": "python",
   "nbconvert_exporter": "python",
   "pygments_lexer": "ipython3",
   "version": "3.4.3"
  }
 },
 "nbformat": 4,
 "nbformat_minor": 0
}
