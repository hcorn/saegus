{
 "cells": [
  {
   "cell_type": "markdown",
   "metadata": {},
   "source": [
    "# Generate Data for TASSEL GWAS"
   ]
  },
  {
   "cell_type": "code",
   "execution_count": 1,
   "metadata": {
    "collapsed": true
   },
   "outputs": [],
   "source": [
    "%matplotlib inline\n",
    "import shelve\n",
    "import simuOpt\n",
    "simuOpt.setOptions(alleleType='short', optimized=True, numThreads=4, quiet=True)\n",
    "import simuPOP as sim\n",
    "import pandas as pd\n",
    "import collections as col\n",
    "from saegus import breed, operators, selection, helpers, parser, parameterizer, selection\n",
    "import random\n",
    "#random.seed(1337)\n",
    "import numpy as np\n",
    "np.set_printoptions(suppress=True, precision=3)\n",
    "import matplotlib.pyplot as plt"
   ]
  },
  {
   "cell_type": "code",
   "execution_count": 2,
   "metadata": {
    "collapsed": true
   },
   "outputs": [],
   "source": [
    "hapmap = pd.read_csv('clean_hapmap.txt')\n",
    "raw_hmap = pd.read_csv('hapmap3.txt')\n",
    "genetic_map = hapmap.ix[:, :'cM_pos']\n",
    "genetic_map = pd.read_csv('nam_prefounders_genetic_map.txt', index_col=None,\n",
    "                         sep='\\t')\n",
    "\n",
    "raw_hmap = pd.read_csv('hapmap3.txt', delimiter='\\t', index_col=0)\n",
    "locus_names = list(raw_hmap['nearest.site'])\n",
    "pos_column = list(raw_hmap['agp_pos'])\n",
    "\n",
    "chr_cM_positions = {}\n",
    "for i in range(1, 11):\n",
    "    chr_cM_positions[i] = []\n",
    "\n",
    "for idx in range(len(genetic_map)):\n",
    "    chr_cM_positions[int(genetic_map.iloc[idx]['chr'])].append(\n",
    "    float(genetic_map.iloc[idx]['cM_pos']))\n",
    "\n",
    "\n",
    "cM_positions = []\n",
    "for i in range(1, 11):\n",
    "    cM_positions.append(chr_cM_positions[i])"
   ]
  },
  {
   "cell_type": "code",
   "execution_count": 3,
   "metadata": {
    "collapsed": true
   },
   "outputs": [],
   "source": [
    "snp_to_integer = {'A': 0, 'C': 1, 'G': 2, 'T': 3, '-':4, '+':5}\n",
    "allele_names = ['A', 'C', 'T', 'G', 'D', 'I']\n",
    "integer_to_snp = {0: 'A', 1:'C', 2: 'G', 3: 'T', 4: '-', 5: '+'}\n",
    "\n",
    "\n",
    "integral_valued_loci = []\n",
    "relative_integral_valued_loci = {}\n",
    "for idx in range(len(genetic_map)):\n",
    "    if str(genetic_map.iloc[idx]['cM_pos'])[-2:] == '.0':\n",
    "        integral_valued_loci.append(idx)\n",
    "        relative_integral_valued_loci[idx] = (genetic_map.iloc[idx]['chr'], genetic_map.iloc[idx]['cM_pos'])\n",
    "\n",
    "alleles = {i: (snp_to_integer[hapmap.ix[i, 'alleles'][0]], \n",
    "               snp_to_integer[hapmap.ix[i, 'alleles'][-1]]) for i in\n",
    "          range(len(hapmap))}\n",
    "\n",
    "recombination_rates = []\n",
    "for chromosome in cM_positions:\n",
    "    for cM in chromosome:\n",
    "        if str(cM)[-2:] == '.6':\n",
    "            recombination_rates.append(0.01)\n",
    "        else:\n",
    "            recombination_rates.append(0.0)\n",
    "\n",
    "allele_names = ['A', 'C', 'T', 'G', 'D', 'I']\n",
    "\n",
    "flat_cM_positions = []\n",
    "for cMs in cM_positions:\n",
    "    flat_cM_positions.extend(cMs)"
   ]
  },
  {
   "cell_type": "code",
   "execution_count": 4,
   "metadata": {
    "collapsed": true
   },
   "outputs": [],
   "source": [
    "nam = sim.loadPopulation('nam_prefounders.pop')\n",
    "sim.tagID(nam, reset=True)\n",
    "nam.setSubPopName('prefounders', 0)\n",
    "sample_sizes = {i: 100 for i in range(0, 21, 2)}\n",
    "\n",
    "genetic_structure = {}\n",
    "genetic_structure['cM_positions'] = cM_positions\n",
    "genetic_structure['chr_cM_positions'] = chr_cM_positions\n",
    "genetic_structure['allele_names'] = allele_names\n",
    "genetic_structure['integral_valued_loci'] = integral_valued_loci\n",
    "genetic_structure['relative_integral_valued_loci'] = relative_integral_valued_loci\n",
    "genetic_structure['alleles'] = alleles\n",
    "genetic_structure['recombination_rates'] = recombination_rates"
   ]
  },
  {
   "cell_type": "code",
   "execution_count": 5,
   "metadata": {
    "collapsed": true
   },
   "outputs": [],
   "source": [
    "sim_params = {\n",
    "                'generations_of_selection': 10,\n",
    "                'generations_of_drift': 10,\n",
    "                'generations_of_random_mating': 3,\n",
    "                'operating_population_size': 2000,\n",
    "                'proportion_of_individuals_saved': 0.05,\n",
    "                'overshoot_as_proportion': 0.50,\n",
    "                'individuals_per_breeding_subpop': 5,\n",
    "                'heritability': 0.7,\n",
    "                'meta_pop_sample_sizes': sample_sizes,\n",
    "                'number_of_replicates': 1,\n",
    "                'prefounder_file_name': 'nam_prefounders.pop',\n",
    "                'founders': [(3,18), (2, 13), (7, 14), (1, 19),\n",
    "                            (14, 17), (1, 20), (17, 21), (9, 22)]\n",
    "    }"
   ]
  },
  {
   "cell_type": "code",
   "execution_count": 6,
   "metadata": {
    "collapsed": true
   },
   "outputs": [],
   "source": [
    "qtl_params = {\n",
    "                'qtl': 10,\n",
    "                'allele_effects': 1,\n",
    "}\n",
    "selection_statistics = {\n",
    "    'aggregate': {},\n",
    "    'selected': {},\n",
    "    'non-selected': {}\n",
    "}\n",
    "drift_statistics = {\n",
    "    'aggregate': {},\n",
    "    'selected': {},\n",
    "    'non-selected': {}\n",
    "}"
   ]
  },
  {
   "cell_type": "code",
   "execution_count": 7,
   "metadata": {
    "collapsed": true
   },
   "outputs": [],
   "source": [
    "s = selection.Truncation(sim_params['generations_of_selection'],\n",
    "                       sim_params['generations_of_random_mating'],\n",
    "                       sim_params['operating_population_size'],\n",
    "                       sim_params['proportion_of_individuals_saved'],\n",
    "                       sim_params['overshoot_as_proportion'],\n",
    "                       sim_params['individuals_per_breeding_subpop'],\n",
    "                       sim_params['heritability'],\n",
    "                       sim_params['meta_pop_sample_sizes'],\n",
    "                       sim_params['number_of_replicates'])\n",
    "\n",
    "d = selection.Drift(sim_params['generations_of_drift'],\n",
    "                       sim_params['generations_of_random_mating'],\n",
    "                       sim_params['operating_population_size'],\n",
    "                       sim_params['proportion_of_individuals_saved'],\n",
    "                       sim_params['overshoot_as_proportion'],\n",
    "                       sim_params['individuals_per_breeding_subpop'],\n",
    "                       sim_params['heritability'],\n",
    "                       sim_params['meta_pop_sample_sizes'],\n",
    "                       sim_params['number_of_replicates'])"
   ]
  },
  {
   "cell_type": "code",
   "execution_count": 8,
   "metadata": {
    "collapsed": false
   },
   "outputs": [],
   "source": [
    "founders = sim_params['founders']\n",
    "replicated_nam = sim.Simulator(nam, rep=3, stealPops=False)\n",
    "pop = replicated_nam.extract(0)\n",
    "selection_meta = replicated_nam.extract(0)\n",
    "drift_meta = replicated_nam.extract(0)"
   ]
  },
  {
   "cell_type": "markdown",
   "metadata": {},
   "source": [
    "### Run MAGIC Mating Scheme"
   ]
  },
  {
   "cell_type": "code",
   "execution_count": 9,
   "metadata": {
    "collapsed": false
   },
   "outputs": [
    {
     "name": "stdout",
     "output_type": "stream",
     "text": [
      "Creating the F_one population from selected founders.\n",
      "Generation: 0\n",
      "Generation: 1\tpopSize: 8\n",
      "Generation: 2\tpopSize: 4\n",
      "Generation: 3\tpopSize: 2\n",
      "Creating the F_two population.\n",
      "Generation: 4\n",
      "Initiating interim random mating for 3 generations.\n",
      "Generation: 5\n",
      "Generation: 6\n",
      "Generation: 7\n"
     ]
    }
   ],
   "source": [
    "s.generate_f_one(pop, recombination_rates, sim_params['founders'])\n",
    "s.recombinatorial_convergence(pop, recombination_rates)\n",
    "s.expand_by_selfing(pop, recombination_rates)\n",
    "s.interim_random_mating(pop, recombination_rates)"
   ]
  },
  {
   "cell_type": "code",
   "execution_count": 10,
   "metadata": {
    "collapsed": true
   },
   "outputs": [],
   "source": [
    "sim.stat(pop, numOfSegSites=integral_valued_loci, vars=['numOfSegSites', 'segSites'])\n",
    "qtl = parameterizer.seg_qtl_chooser(pop, integral_valued_loci, qtl_params['qtl'])\n",
    "\n",
    "triplet_qtl = []\n",
    "for locus in qtl:\n",
    "    triplet_qtl.append(locus-1)\n",
    "    triplet_qtl.append(locus)\n",
    "    triplet_qtl.append(locus+1)\n",
    "triplet_qtl = sorted(triplet_qtl)\n",
    "\n",
    "qtl_params['triplet_qtl'] = triplet_qtl\n",
    "\n",
    "allele_effects = {locus: {} for locus in triplet_qtl}\n",
    "for tqtl in triplet_qtl:\n",
    "    for allele in alleles[tqtl]:\n",
    "        allele_effects[tqtl][allele] = random.expovariate(qtl_params['allele_effects'])\n",
    "\n",
    "qtl_params['allele_effects'] = allele_effects"
   ]
  },
  {
   "cell_type": "code",
   "execution_count": 16,
   "metadata": {
    "collapsed": false
   },
   "outputs": [
    {
     "data": {
      "text/plain": [
       "simuPOP.simuPOP_op.Simulator"
      ]
     },
     "execution_count": 16,
     "metadata": {},
     "output_type": "execute_result"
    }
   ],
   "source": []
  },
  {
   "cell_type": "code",
   "execution_count": 11,
   "metadata": {
    "collapsed": false
   },
   "outputs": [
    {
     "name": "stdout",
     "output_type": "stream",
     "text": [
      "Initial: Sampled 100 individuals from generation 0 Replicate: 0.\n",
      "Generation: 0\n",
      "Generation: 1\n",
      "Generation: 2\n",
      "Generation: 3\n",
      "Generation: 4\n",
      "Generation: 5\n",
      "Generation: 6\n",
      "Generation: 7\n",
      "Generation: 8\n",
      "Generation: 9\n",
      "Final: Sampled 100 individuals from generation 10\n",
      "Initial: Sampled 100 individuals from generation 0 Replicate: 0.\n",
      "Generation: 0\n",
      "Generation: 1\n",
      "Generation: 2\n",
      "Generation: 3\n",
      "Generation: 4\n",
      "Generation: 5\n",
      "Generation: 6\n",
      "Generation: 7\n",
      "Generation: 8\n",
      "Generation: 9\n",
      "Final: Sampled 100 individuals from generation 10\n"
     ]
    }
   ],
   "source": [
    "pop.dvars().qtl = qtl\n",
    "pop.dvars().triplet_qtl = triplet_qtl\n",
    "pop.dvars().allele_effects = allele_effects\n",
    "\n",
    "selection_plus_drift_replicates = sim.Simulator(pop, rep=2)\n",
    "selection_pop = selection_plus_drift_replicates.extract(0)\n",
    "drift_pop = selection_plus_drift_replicates.extract(0)\n",
    "\n",
    "selection_pop.dvars().statistics = selection_statistics\n",
    "drift_pop.dvars().statistics = drift_statistics\n",
    "\n",
    "s.recurrent_truncation_selection(selection_pop, selection_meta, triplet_qtl, allele_effects,\n",
    "                                recombination_rates)\n",
    "d.recurrent_drift_selection(drift_pop, drift_meta, triplet_qtl, allele_effects, \n",
    "                            recombination_rates)"
   ]
  },
  {
   "cell_type": "code",
   "execution_count": 17,
   "metadata": {
    "collapsed": false
   },
   "outputs": [
    {
     "data": {
      "text/plain": [
       "0"
      ]
     },
     "execution_count": 17,
     "metadata": {},
     "output_type": "execute_result"
    }
   ],
   "source": [
    "assert selection_meta.numSubPop() == 7, \"Empty subpopulation has already been removed.\"\n",
    "selection_meta.removeSubPops(0)\n",
    "drift_meta.removeSubPops(0)\n",
    "\n",
    "selection_qtd = helpers.Frq(selection_meta, triplet_qtl, alleles, allele_effects)\n",
    "drift_qtd = helpers.Frq(drift_meta, triplet_qtl, alleles, allele_effects)\n",
    "selection_af = selection_qtd.allele_frequencies(selection_meta, range(selection_meta.totNumLoci()))\n",
    "drift_af = drift_qtd.allele_frequencies(drift_meta, range(drift_meta.totNumLoci()))\n",
    "selection_qtalleles = selection_qtd.rank_allele_effects(selection_meta, triplet_qtl, alleles, allele_effects)\n",
    "drift_qtalleles = drift_qtd.rank_allele_effects(drift_meta, triplet_qtl, alleles, allele_effects)\n",
    "selection_ties = [locus for locus in range(selection_meta.totNumLoci()) \n",
    "                  if selection_af['minor', 'alleles'][locus] == selection_af['major', 'alleles'][locus]]\n",
    "drift_ties = [locus for locus in range(drift_meta.totNumLoci())\n",
    "                  if drift_af['minor', 'alleles'][locus] == drift_af['major', 'alleles'][locus]]\n",
    "\n",
    "for st in selection_ties:\n",
    "    selection_af['major', 'alleles'][st] = list(selection_meta.dvars().alleleFreq[st])[0]\n",
    "    selection_af['major', 'alleles'][st] = list(selection_meta.dvars().alleleFreq[st])[1]\n",
    "for dt in drift_ties:\n",
    "    drift_af['minor', 'alleles'][dt] = list(drift_meta.dvars().alleleFreq[dt])[0]\n",
    "    drift_af['major', 'alleles'][dt] = list(drift_meta.dvars().alleleFreq[dt])[1]\n",
    "sum(np.equal(list(selection_af['minor', 'alleles'].values()), list(selection_af['major', 'alleles'].values())))\n",
    "sum(np.equal(list(drift_af['minor', 'alleles'].values()), list(drift_af['major', 'alleles'].values())))"
   ]
  },
  {
   "cell_type": "code",
   "execution_count": 31,
   "metadata": {
    "collapsed": false
   },
   "outputs": [
    {
     "name": "stdout",
     "output_type": "stream",
     "text": [
      "true\n"
     ]
    }
   ],
   "source": [
    "if not selection_pop.dvars().rep:\n",
    "    print('true')"
   ]
  },
  {
   "cell_type": "code",
   "execution_count": null,
   "metadata": {
    "collapsed": true
   },
   "outputs": [],
   "source": []
  },
  {
   "cell_type": "code",
   "execution_count": 22,
   "metadata": {
    "collapsed": false
   },
   "outputs": [
    {
     "data": {
      "text/plain": [
       "0"
      ]
     },
     "execution_count": 22,
     "metadata": {},
     "output_type": "execute_result"
    }
   ],
   "source": [
    "selection_pop.dvars().rep"
   ]
  },
  {
   "cell_type": "code",
   "execution_count": 23,
   "metadata": {
    "collapsed": false
   },
   "outputs": [
    {
     "data": {
      "text/plain": [
       "0"
      ]
     },
     "execution_count": 23,
     "metadata": {},
     "output_type": "execute_result"
    }
   ],
   "source": [
    "drift_pop.dvars().rep"
   ]
  },
  {
   "cell_type": "code",
   "execution_count": null,
   "metadata": {
    "collapsed": false
   },
   "outputs": [],
   "source": [
    "pca = helpers.PCA(selection_meta, range(selection_meta.totNumLoci()), selection_qtd)\n",
    "minor_ac = pca.calculate_count_matrix(selection_meta, selection_af['minor', 'alleles'], \n",
    "                                      'minor_allele_count.txt')\n",
    "eigendata = pca.svd(selection_meta, minor_ac)"
   ]
  },
  {
   "cell_type": "code",
   "execution_count": null,
   "metadata": {
    "collapsed": false
   },
   "outputs": [],
   "source": [
    "individual_names = {ind.ind_id: 'RS_R'+str(1)+'_G'+str(int(ind.generation)) + '_I'+str(int(ind.ind_id))\n",
    "                   for ind in selection_meta.individuals()}\n",
    "\n",
    "gwas = helpers.GWAS(selection_meta, individual_names, locus_names, pos_column)\n",
    "hmap = gwas.hapmap_formatter(integer_to_snp, 'rs_simulated_hapmap.txt')\n",
    "phenos = gwas.trait_formatter('rs_phenotype_vector.txt')\n",
    "kinship_matrix = gwas.calc_kinship_matrix(minor_ac, selection_af, 'rs_kinship_matrix.txt')"
   ]
  },
  {
   "cell_type": "code",
   "execution_count": null,
   "metadata": {
    "collapsed": false
   },
   "outputs": [],
   "source": [
    "selection_pop.dvars().statistics"
   ]
  },
  {
   "cell_type": "code",
   "execution_count": null,
   "metadata": {
    "collapsed": false
   },
   "outputs": [],
   "source": [
    "selection_pop.dvars().epsilon"
   ]
  },
  {
   "cell_type": "code",
   "execution_count": null,
   "metadata": {
    "collapsed": false
   },
   "outputs": [],
   "source": [
    "selection_pop.popSize()"
   ]
  },
  {
   "cell_type": "code",
   "execution_count": null,
   "metadata": {
    "collapsed": false
   },
   "outputs": [],
   "source": [
    "selection_meta.popSize()"
   ]
  },
  {
   "cell_type": "code",
   "execution_count": null,
   "metadata": {
    "collapsed": false
   },
   "outputs": [],
   "source": [
    "selection_meta.vars().keys()"
   ]
  },
  {
   "cell_type": "code",
   "execution_count": null,
   "metadata": {
    "collapsed": true
   },
   "outputs": [],
   "source": []
  },
  {
   "cell_type": "markdown",
   "metadata": {},
   "source": [
    "### Storing Data in Shelves"
   ]
  },
  {
   "cell_type": "code",
   "execution_count": null,
   "metadata": {
    "collapsed": true
   },
   "outputs": [],
   "source": [
    "import shelve\n",
    "with shelve.open(run_id+\"quantitative_trait_simulation_params\") as qtdb:\n",
    "    qtdb['qtl_params'] = qtl_params\n",
    "    qtdb['sim_params'] = sim_params\n",
    "\n",
    "rsparams = shelve.open(\"RS_Parameter_Sets\")\n",
    "rsparams['truncation'] = s\n",
    "rsparams['drift'] = d\n",
    "rsparams['seg_sites_after_rmating'] = list(pop.dvars().segSites)\n",
    "rsparams['qtl_parameters'] = qtl_params\n",
    "rsparams['simulation_parameters'] = sim_params"
   ]
  },
  {
   "cell_type": "code",
   "execution_count": null,
   "metadata": {
    "collapsed": false
   },
   "outputs": [],
   "source": [
    "sel_htypes = helpers.collect_haplotype_data(selection_meta, allele_effects, triplet_qtl)\n",
    "drift_htypes = helpers.collect_haplotype_data(drift_meta, allele_effects, triplet_qtl)\n",
    "drift_haplotype_table = helpers.generate_haplotype_data_table(drift_meta, drift_htypes)\n",
    "sel_haplotype_table = helpers.generate_haplotype_data_table(selection_meta, sel_htypes)\n",
    "sel_plot_data = helpers.plot_frequency_vs_effect(selection_meta, sel_haplotype_table, \n",
    "                                                 'Haplotype Frequencies Under Selection',\n",
    "                                                 'Selection_Haplotypes.pdf')\n",
    "drift_plot_data = helpers.plot_frequency_vs_effect(drift_meta, drift_haplotype_table, \n",
    "                                                   'Haplotype Frequencies Under Drift',\n",
    "                                                   'Drift_Haplotypes.pdf')"
   ]
  }
 ],
 "metadata": {
  "kernelspec": {
   "display_name": "Python 3",
   "language": "python",
   "name": "python3"
  },
  "language_info": {
   "codemirror_mode": {
    "name": "ipython",
    "version": 3
   },
   "file_extension": ".py",
   "mimetype": "text/x-python",
   "name": "python",
   "nbconvert_exporter": "python",
   "pygments_lexer": "ipython3",
   "version": "3.4.3"
  }
 },
 "nbformat": 4,
 "nbformat_minor": 0
}
