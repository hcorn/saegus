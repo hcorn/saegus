{
 "cells": [
  {
   "cell_type": "markdown",
   "metadata": {},
   "source": [
    "## Fourth Gen Simulation Script"
   ]
  },
  {
   "cell_type": "code",
   "execution_count": 1,
   "metadata": {
    "collapsed": false
   },
   "outputs": [
    {
     "data": {
      "text/plain": [
       "'C:\\\\Users\\\\DoubleDanks\\\\BISB\\\\wisser\\\\code\\\\rjwlab-scripts\\\\saegus_project\\\\devel\\\\jupyternbs'"
      ]
     },
     "execution_count": 1,
     "metadata": {},
     "output_type": "execute_result"
    }
   ],
   "source": [
    "pwd"
   ]
  },
  {
   "cell_type": "code",
   "execution_count": 2,
   "metadata": {
    "collapsed": false
   },
   "outputs": [
    {
     "name": "stdout",
     "output_type": "stream",
     "text": [
      "C:\\Users\\DoubleDanks\\BISB\\wisser\\code\\rjwlab-scripts\\saegus_project\\devel\\data_dump\\fourth_generation_simulated_gwas\\rs_L10_H07\n"
     ]
    }
   ],
   "source": [
    "cd C:\\Users\\DoubleDanks\\BISB\\wisser\\code\\rjwlab-scripts\\saegus_project\\devel\\data_dump\\fourth_generation_simulated_gwas\\rs_L10_H07"
   ]
  },
  {
   "cell_type": "code",
   "execution_count": 3,
   "metadata": {
    "collapsed": false
   },
   "outputs": [
    {
     "name": "stdout",
     "output_type": "stream",
     "text": [
      "C:\\Users\\DoubleDanks\\BISB\\wisser\\code\\rjwlab-scripts\\saegus_project\\devel\\data_dump\\fourth_generation_simulated_gwas\\rs_L10_H07\\simulation_parameters\n"
     ]
    }
   ],
   "source": [
    "cd simulation_parameters"
   ]
  },
  {
   "cell_type": "markdown",
   "metadata": {},
   "source": [
    "### Import Modules and Load Parameters"
   ]
  },
  {
   "cell_type": "code",
   "execution_count": 4,
   "metadata": {
    "collapsed": false
   },
   "outputs": [],
   "source": [
    "import simuOpt\n",
    "simuOpt.setOptions(alleleType='short', optimized=True, numThreads=4, quiet=True)\n",
    "import simuPOP as sim\n",
    "import pandas as pd\n",
    "import collections as col\n",
    "from saegus import breed, operators, simulate, analyze, parse, parameters\n",
    "import random\n",
    "import copy\n",
    "import yaml\n",
    "import numpy as np\n",
    "import os\n",
    "np.set_printoptions(suppress=True, precision=3)\n",
    "\n",
    "\n",
    "genetic_map = pd.read_csv('nam_prefounders_genetic_map.txt', index_col=None,\n",
    "                         sep='\\t')\n",
    "\n",
    "\n",
    "with open('rs_L10_H07_universal_parameters.yaml', 'r') as uparms:\n",
    "    u_parameters = yaml.load(uparms)\n",
    "\n",
    "with open('general_genetic_map_parameters.yaml', 'r') as ggmap:\n",
    "    general_genetic_map_params = yaml.load(ggmap)\n",
    "\n",
    "\n"
   ]
  },
  {
   "cell_type": "markdown",
   "metadata": {},
   "source": [
    "### Assign Parameters"
   ]
  },
  {
   "cell_type": "code",
   "execution_count": 5,
   "metadata": {
    "collapsed": true
   },
   "outputs": [],
   "source": [
    "locus_names = u_parameters['locus_names']\n",
    "pos_column = u_parameters['pos_column']\n",
    "allele_names = u_parameters['allele_names']\n",
    "snp_to_integer = u_parameters['snp_to_integer']\n",
    "integer_to_snp = u_parameters['integer_to_snp']\n",
    "\n",
    "alleles = general_genetic_map_params['alleles']\n",
    "chr_cM_positions = general_genetic_map_params['chr_cM_positions']\n",
    "cM_positions = general_genetic_map_params['cM_positions']\n",
    "integral_valued_loci = general_genetic_map_params['integral_valued_loci']\n",
    "relative_integral_valued_loci = general_genetic_map_params['relative_integral_valued_loci']\n",
    "recombination_rates = general_genetic_map_params['recombination_rates']"
   ]
  },
  {
   "cell_type": "markdown",
   "metadata": {},
   "source": [
    "### Direct Input/Output"
   ]
  },
  {
   "cell_type": "code",
   "execution_count": 6,
   "metadata": {
    "collapsed": true
   },
   "outputs": [],
   "source": [
    "proto_prefix = 'C:\\\\Users\\\\DoubleDanks\\\\BISB\\\\wisser\\\\code\\\\rjwlab-scripts\\\\saegus_project\\\\devel\\\\data_dump\\\\fourth_generation_simulated_gwas\\\\'\n",
    "run_prefix = 'rs_L10_H07\\\\'\n",
    "\n",
    "\n",
    "tassel_input_dir_prefix = proto_prefix + run_prefix + 'tassel_input\\\\'\n",
    "tassel_output_dir_prefix = proto_prefix + run_prefix + 'tassel_output\\\\'\n",
    "tassel_config_prefix = proto_prefix + run_prefix + 'tassel_config_files\\\\'\n",
    "various_simulation_info_prefix = proto_prefix + run_prefix + 'simulation_data\\\\'\n",
    "populations_prefix = proto_prefix + run_prefix + 'populations\\\\'\n",
    "parameter_prefix = proto_prefix + run_prefix + 'simulation_parameters\\\\'\n",
    "ind_names_prefix = proto_prefix + run_prefix + 'ind_names\\\\'\n",
    "\n",
    "hapmap_file_dir = tassel_input_dir_prefix\n",
    "phenos_file_dir = tassel_input_dir_prefix\n",
    "kinship_file_dir = tassel_input_dir_prefix\n",
    "pop_struct_file_dir = tassel_input_dir_prefix\n",
    "\n",
    "hapmap_file_name = tassel_input_dir_prefix + 'rs_L10_H07_R0_simulated_hapmap.txt'\n",
    "phenos_file_name = tassel_input_dir_prefix + 'rs_L10_H07_R0_phenotype_vector.txt'\n",
    "kinship_file_name = tassel_input_dir_prefix + 'rs_L10_H07_R0_kinship_matrix.pop'\n",
    "pop_struct_file_name = tassel_input_dir_prefix + 'rs_L10_H07_R0_structure_matrix.txt'\n",
    "\n",
    "io_parameters = dict(proto_prefix=proto_prefix,\n",
    "                     run_prefix=run_prefix,\n",
    "                     tassel_input_dir_prefix=tassel_output_dir_prefix,\n",
    "                     tassel_output_dir_prefix=tassel_output_dir_prefix,\n",
    "                     tassel_config_prefix=tassel_config_prefix,\n",
    "                     populations_prefix=populations_prefix,\n",
    "                     parameter_prefix=parameter_prefix,\n",
    "                     ind_names_prefix=ind_names_prefix,\n",
    "                     hapmap_file_dir=hapmap_file_dir,\n",
    "                     phenos_file_dir=phenos_file_dir,\n",
    "                     kinship_file_dir=kinship_file_dir,\n",
    "                     pop_struct_file_dir=pop_struct_file_dir,\n",
    "                     hapmap_file_name=hapmap_file_name,\n",
    "                     phenos_file_name=phenos_file_name,\n",
    "                     kinship_file_name=kinship_file_name,\n",
    "                     pop_struct_file_name=pop_struct_file_name\n",
    "                    )\n",
    "\n",
    "with open('io_parameters.yaml', 'w') as tiop:\n",
    "    yaml.dump(io_parameters, tiop)"
   ]
  },
  {
   "cell_type": "code",
   "execution_count": 7,
   "metadata": {
    "collapsed": false
   },
   "outputs": [],
   "source": [
    "nam = sim.loadPopulation(u_parameters['prefounder_file_name'])\n",
    "sim.tagID(nam, reset=True)\n",
    "nam.setSubPopName('maize_nam_prefounders', 0)"
   ]
  },
  {
   "cell_type": "code",
   "execution_count": 8,
   "metadata": {
    "collapsed": true
   },
   "outputs": [],
   "source": [
    "selection_statistics = {\n",
    "    'aggregate': {},\n",
    "    'selected': {},\n",
    "    'non-selected': {}\n",
    "}\n",
    "\n",
    "ind_names_for_gwas = {i: {} for i in range(u_parameters['number_of_replicates'])}\n",
    "u_parameters['meta_pop_sample_sizes'] = {i: 100 for i in range(0, u_parameters['generations_of_selection']+1, 2)}\n",
    "\n",
    "s = simulate.Truncation(u_parameters['generations_of_selection'],\n",
    "                       u_parameters['generations_of_random_mating'],\n",
    "                       u_parameters['operating_population_size'],\n",
    "                       u_parameters['proportion_of_individuals_saved'],\n",
    "                       u_parameters['overshoot_as_proportion'],\n",
    "                       u_parameters['individuals_per_breeding_subpop'],\n",
    "                       u_parameters['heritability'],\n",
    "                       u_parameters['meta_pop_sample_sizes'],\n",
    "                       u_parameters['number_of_replicates'])"
   ]
  },
  {
   "cell_type": "code",
   "execution_count": 9,
   "metadata": {
    "collapsed": true
   },
   "outputs": [],
   "source": [
    "ind_names_for_gwas = {i: {} for i in range(u_parameters['number_of_replicates'])}"
   ]
  },
  {
   "cell_type": "code",
   "execution_count": 10,
   "metadata": {
    "collapsed": false
   },
   "outputs": [
    {
     "name": "stdout",
     "output_type": "stream",
     "text": [
      "Generation: 0\n",
      "Generation: 1\tpopSize: 8\n",
      "Generation: 2\tpopSize: 4\n",
      "Generation: 3\tpopSize: 2\n",
      "Generation: 4\n",
      "Initiating interim random mating for 3 generations.\n",
      "Generation: 5\n",
      "Generation: 6\n",
      "Generation: 7\n"
     ]
    }
   ],
   "source": [
    "founders = u_parameters['founders']\n",
    "replicated_nam = sim.Simulator(nam, rep=2, stealPops=False)\n",
    "pop = replicated_nam.extract(0)\n",
    "\n",
    "\n",
    "s.generate_f_one(pop, recombination_rates, u_parameters['founders'])\n",
    "s.recombinatorial_convergence(pop, recombination_rates)\n",
    "s.expand_by_selfing(pop, recombination_rates)\n",
    "s.interim_random_mating(pop, recombination_rates)"
   ]
  },
  {
   "cell_type": "code",
   "execution_count": 11,
   "metadata": {
    "collapsed": false
   },
   "outputs": [
    {
     "name": "stdout",
     "output_type": "stream",
     "text": [
      "Initial: Sampled 100 individuals from generation 0 Replicate: 0.\n",
      "Initial: Sampled 100 individuals from generation 0 Replicate: 1.\n",
      "Initial: Sampled 100 individuals from generation 0 Replicate: 2.\n",
      "Initial: Sampled 100 individuals from generation 0 Replicate: 3.\n",
      "Initial: Sampled 100 individuals from generation 0 Replicate: 4.\n",
      "Generation: 0\n",
      "Generation: 0\n",
      "Generation: 0\n",
      "Generation: 0\n",
      "Generation: 0\n",
      "Generation: 1\n",
      "Generation: 1\n",
      "Generation: 1\n",
      "Generation: 1\n",
      "Generation: 1\n",
      "Generation: 2\n",
      "Generation: 2\n",
      "Generation: 2\n",
      "Generation: 2\n",
      "Generation: 2\n",
      "Generation: 3\n",
      "Generation: 3\n",
      "Generation: 3\n",
      "Generation: 3\n",
      "Generation: 3\n",
      "Generation: 4\n",
      "Generation: 4\n",
      "Generation: 4\n",
      "Generation: 4\n",
      "Generation: 4\n",
      "Generation: 5\n",
      "Generation: 5\n",
      "Generation: 5\n",
      "Generation: 5\n",
      "Generation: 5\n",
      "Generation: 6\n",
      "Generation: 6\n",
      "Generation: 6\n",
      "Generation: 6\n",
      "Generation: 6\n",
      "Generation: 7\n",
      "Generation: 7\n",
      "Generation: 7\n",
      "Generation: 7\n",
      "Generation: 7\n",
      "Generation: 8\n",
      "Generation: 8\n",
      "Generation: 8\n",
      "Generation: 8\n",
      "Generation: 8\n",
      "Generation: 9\n",
      "Generation: 9\n",
      "Generation: 9\n",
      "Generation: 9\n",
      "Generation: 9\n",
      "Final: Sampled 100 individuals from generation 10\n",
      "Final: Sampled 100 individuals from generation 10\n",
      "Final: Sampled 100 individuals from generation 10\n",
      "Final: Sampled 100 individuals from generation 10\n",
      "Final: Sampled 100 individuals from generation 10\n"
     ]
    }
   ],
   "source": [
    "multipop = sim.Simulator(pop, u_parameters['number_of_replicates'])\n",
    "multi_meta = sim.Simulator(nam, u_parameters['number_of_replicates'], stealPops=False)\n",
    "\n",
    "triplet_qtl, allele_effects = parameters.assign_identical_qtl_parameters(multipop, alleles,\n",
    "                                                                         integral_valued_loci, u_parameters['number_of_qtl'],\n",
    "                                                                         u_parameters['allele_effect_parameters'])\n",
    "\n",
    "assert type(triplet_qtl[0]) == type([]), \"Variables are flip-flopped in return.\"\n",
    "\n",
    "for repid, pop_rep in enumerate(multipop.populations()):\n",
    "    pop_rep.dvars().statistics = copy.deepcopy(selection_statistics)\n",
    "\n",
    "s.replicate_selection(multipop, multi_meta, triplet_qtl, allele_effects,\n",
    "                                recombination_rates)"
   ]
  },
  {
   "cell_type": "code",
   "execution_count": 12,
   "metadata": {
    "collapsed": false
   },
   "outputs": [],
   "source": [
    "for meta_rep in multi_meta.populations():\n",
    "    assert meta_rep.numSubPop() == 7, \"Correct number subpopulations before removal of the dummy population\"\n",
    "    meta_rep.removeSubPops(0)\n",
    "    assert meta_rep.numSubPop() == 6, \"Correct number after removal\""
   ]
  },
  {
   "cell_type": "code",
   "execution_count": 14,
   "metadata": {
    "collapsed": false
   },
   "outputs": [
    {
     "data": {
      "text/plain": [
       "<module 'saegus.analyze' from 'C:\\\\Anaconda3\\\\lib\\\\site-packages\\\\saegus\\\\analyze.py'>"
      ]
     },
     "execution_count": 14,
     "metadata": {},
     "output_type": "execute_result"
    }
   ],
   "source": [
    "import importlib as imp\n",
    "imp.reload(analyze)"
   ]
  },
  {
   "cell_type": "code",
   "execution_count": 16,
   "metadata": {
    "collapsed": false
   },
   "outputs": [],
   "source": [
    "for i, meta_rep in enumerate(multi_meta.populations()):\n",
    "    \n",
    "    meta_rep_id = str(meta_rep.dvars().rep)\n",
    "    prefix = 'rs_L10_H07_R' + str(meta_rep_id) + '_'\n",
    "    \n",
    "    meta_rep.dvars().triplet_qtl = triplet_qtl[i]\n",
    "    meta_rep.dvars().allele_effects = allele_effects[i]\n",
    "    frq = analyze.Frq(meta_rep, triplet_qtl[i], alleles, allele_effects[i])\n",
    "    af = frq.allele_frequencies(meta_rep, range(meta_rep.totNumLoci()))\n",
    "    qtalleles = frq.rank_allele_effects(meta_rep, triplet_qtl[i], alleles, allele_effects[i])\n",
    "    ties = [locus for locus in range(meta_rep.totNumLoci())\n",
    "            if af['minor', 'alleles'][locus] == af['major', 'alleles'][locus]]\n",
    "\n",
    "    for st in ties:\n",
    "        af['major', 'alleles'][st] = list(meta_rep.dvars().alleleFreq[st])[0]\n",
    "        af['minor', 'alleles'][st] = list(meta_rep.dvars().alleleFreq[st])[1]\n",
    "    major_minor_allele_conflicts = sum(np.equal(list(af['minor', 'alleles'].values()),\n",
    "                                                list(af['major', 'alleles'].values())))\n",
    "\n",
    "    assert major_minor_allele_conflicts == 0, \"There is a tie in at least one locus.\"\n",
    "\n",
    "    af_table = frq.allele_frq_table(meta_rep, meta_rep.numSubPop(), af, \n",
    "                                                           recombination_rates, genetic_map)\n",
    "    qtaf_table = frq.qt_allele_table(qtalleles, allele_effects[i])\n",
    "    \n",
    "    af_table.to_csv(various_simulation_info_prefix + prefix + 'allele_frequency_table.txt', sep=',', index=0)\n",
    "    qtaf_table.to_csv(various_simulation_info_prefix + prefix + 'qt_allele_info.txt', sep=',', index=0)\n",
    "    \n",
    "    #del af_table, qtaf_table\n",
    "\n",
    "\n",
    "\n",
    "    pca = analyze.PCA(meta_rep, range(meta_rep.totNumLoci()), frq)\n",
    "    \n",
    "\n",
    "    minor_ac = pca.calculate_count_matrix(meta_rep, af['minor', 'alleles'],\n",
    "                                          various_simulation_info_prefix + prefix + 'minor_allele_count.txt')\n",
    "\n",
    "    eigendata = pca.svd(meta_rep, minor_ac)\n",
    "\n",
    "\n",
    "    individual_names = {ind.ind_id: 'rs_L10_H07_R'+ meta_rep_id +'_G' +\n",
    "                        str(int(ind.generation)) +\n",
    "                        '_I'+str(int(ind.ind_id))\n",
    "                        for ind in meta_rep.individuals()}\n",
    "\n",
    "    ind_names_for_gwas[meta_rep_id] = individual_names\n",
    "\n",
    "    #meta_rep.save(populations_prefix + prefix + 'metapopulation.pop')\n",
    "    \n",
    "    names_filename = ind_names_prefix + prefix + 'individual_names.yaml'\n",
    "    with open(names_filename, 'w') as name_stream:\n",
    "        yaml.dump(individual_names, name_stream)\n",
    "\n",
    "\n",
    "    \n",
    "    \n",
    "\n",
    "    gwas = analyze.GWAS(meta_rep, individual_names, locus_names, pos_column)\n",
    "    hmap = gwas.hapmap_formatter(integer_to_snp, tassel_input_dir_prefix + prefix + 'simulated_hapmap.txt')\n",
    "    phenos = gwas.trait_formatter(tassel_input_dir_prefix + prefix + 'phenotype_vector.txt')\n",
    "    kinship_matrix = gwas.calc_kinship_matrix(minor_ac, af, tassel_input_dir_prefix + prefix + 'kinship_matrix.txt')\n",
    "    pop_struct_matrix = gwas.population_structure_formatter(eigendata, tassel_input_dir_prefix + prefix + 'structure_matrix.txt')\n",
    "    pd.DataFrame(multipop.population(i).dvars().statistics).to_csv(various_simulation_info_prefix + prefix + 'means_and_vars.txt', sep='\\t')\n",
    "    analyze.generate_tassel_gwas_configs(tassel_input_dir_prefix, \n",
    "                                         tassel_output_dir_prefix, \n",
    "                                         tassel_config_prefix, \n",
    "                                         prefix, \n",
    "                                         'sim_mlm_gwas_pipeline.xml')\n",
    "\n"
   ]
  },
  {
   "cell_type": "code",
   "execution_count": null,
   "metadata": {
    "collapsed": true
   },
   "outputs": [],
   "source": []
  }
 ],
 "metadata": {
  "kernelspec": {
   "display_name": "Python 3",
   "language": "python",
   "name": "python3"
  },
  "language_info": {
   "codemirror_mode": {
    "name": "ipython",
    "version": 3
   },
   "file_extension": ".py",
   "mimetype": "text/x-python",
   "name": "python",
   "nbconvert_exporter": "python",
   "pygments_lexer": "ipython3",
   "version": "3.4.3"
  }
 },
 "nbformat": 4,
 "nbformat_minor": 0
}
