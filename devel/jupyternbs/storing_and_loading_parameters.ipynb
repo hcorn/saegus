{
 "cells": [
  {
   "cell_type": "markdown",
   "metadata": {},
   "source": [
    "# Simulating a Population for Use in GWAS #"
   ]
  },
  {
   "cell_type": "markdown",
   "metadata": {},
   "source": [
    "### Population Parameters ###"
   ]
  },
  {
   "cell_type": "code",
   "execution_count": 1,
   "metadata": {
    "collapsed": false
   },
   "outputs": [],
   "source": [
    "import simuOpt\n",
    "simuOpt.setOptions(alleleType='short', optimized=True, quiet=True)\n",
    "import simuPOP as sim\n",
    "import pandas as pd\n",
    "import collections as col\n",
    "from wgs import breed, operators, selection, helpers, parser, parameterizer, selection\n",
    "import random\n",
    "import numpy as np\n",
    "np.set_printoptions(suppress=True, precision=3)\n",
    "import shelve\n",
    "import matplotlib.pyplot as plt\n",
    "\n",
    "\n",
    "\n",
    "hapmap = pd.read_csv('clean_hapmap.txt')\n",
    "genetic_map = hapmap.ix[:, :'cM_pos']\n",
    "genetic_map = pd.read_csv('nam_prefounders_genetic_map.txt', index_col=None,\n",
    "                         sep='\\t')\n",
    "\n",
    "chr_cm_positions = col.OrderedDict()\n",
    "for i in range(1, 11):\n",
    "    chr_cm_positions[i] = []\n",
    "\n",
    "for idx in range(len(genetic_map)):\n",
    "    chr_cm_positions[int(genetic_map.iloc[idx]['chr'])].append(\n",
    "    float(genetic_map.iloc[idx]['cM_pos']))\n",
    "\n",
    "\n",
    "cM_positions = []\n",
    "for k, v in chr_cm_positions.items():\n",
    "    cM_positions.append(v)\n",
    "\n",
    "\n",
    "snp_to_integer = {'A':0, 'C':1, 'G':2, 'T':3, '-':4, '+':5}\n",
    "\n",
    "integral_valued_loci = []\n",
    "relative_integral_valued_loci = {}\n",
    "for idx in range(len(genetic_map)):\n",
    "    if str(genetic_map.iloc[idx]['cM_pos'])[-2:] == '.0':\n",
    "        integral_valued_loci.append(idx)\n",
    "        relative_integral_valued_loci[idx] = (genetic_map.iloc[idx]['chr'], genetic_map.iloc[idx]['cM_pos'])\n",
    "\n",
    "\n",
    "\n",
    "\n",
    "\n",
    "\n",
    "alleles = {i: (snp_to_integer[hapmap.ix[i, 'alleles'][0]], \n",
    "               snp_to_integer[hapmap.ix[i, 'alleles'][-1]]) for i in\n",
    "          range(len(hapmap))}\n",
    "\n",
    "recombination_rates = []\n",
    "for chromosome in cM_positions:\n",
    "    for cM in chromosome:\n",
    "        if str(cM)[-2:] == '.6':\n",
    "            recombination_rates.append(0.01)\n",
    "        else:\n",
    "            recombination_rates.append(0.0)\n",
    "\n",
    "allele_names = ['A', 'C', 'T', 'G', 'D', 'I']\n",
    "\n",
    "flat_cM_positions = []\n",
    "for cMs in cM_positions:\n",
    "    flat_cM_positions.extend(cMs)\n",
    "\n",
    "\n",
    "nam = sim.loadPopulation('nam_prefounders.pop')\n",
    "nam.setSubPopName('prefounders', 0)\n",
    "sample_sizes = {i: 100 for i in range(0, 21, 2)}\n",
    "\n",
    "sim_params = {\n",
    "                'gens_selection': 10,\n",
    "                'gens_random_mating': 3,\n",
    "                'main_pop_size': 2000,\n",
    "                'proportion_saved': 0.05,\n",
    "                'overshoot': 0.50,\n",
    "                'breeding_inds_per_sp': 5,\n",
    "                'heritability': 0.7,\n",
    "                'sample_sizes': sample_sizes,\n",
    "                'replicates': 1,\n",
    "                'prefounder_file': 'nam_prefounders.pop',\n",
    "                'qtl': 30,\n",
    "                'founders': [(1,5), (7, 8), (3, 4), (10, 11)],\n",
    "}"
   ]
  },
  {
   "cell_type": "code",
   "execution_count": null,
   "metadata": {
    "collapsed": true
   },
   "outputs": [],
   "source": [
    "import shelve\n",
    "stored_parameters = {}\n",
    "with shelve.open('RS_Parameter_Sets') as loaded:\n",
    "    for k, v in loaded.items():\n",
    "        stored_parameters[k] = v\n",
    "stored_parameters.keys()"
   ]
  },
  {
   "cell_type": "code",
   "execution_count": null,
   "metadata": {
    "collapsed": true
   },
   "outputs": [],
   "source": []
  },
  {
   "cell_type": "code",
   "execution_count": null,
   "metadata": {
    "collapsed": true
   },
   "outputs": [],
   "source": []
  },
  {
   "cell_type": "code",
   "execution_count": null,
   "metadata": {
    "collapsed": true
   },
   "outputs": [],
   "source": []
  },
  {
   "cell_type": "code",
   "execution_count": null,
   "metadata": {
    "collapsed": true
   },
   "outputs": [],
   "source": []
  },
  {
   "cell_type": "code",
   "execution_count": null,
   "metadata": {
    "collapsed": true
   },
   "outputs": [],
   "source": []
  },
  {
   "cell_type": "markdown",
   "metadata": {},
   "source": [
    "### Simulated Breeding Scenario ###"
   ]
  },
  {
   "cell_type": "code",
   "execution_count": null,
   "metadata": {
    "collapsed": false
   },
   "outputs": [],
   "source": [
    "s.generate_f_one(pop, recombination_rates, sim_params['founders'])\n",
    "s.generate_f_two(pop, recombination_rates)\n",
    "s.mate_and_merge(pop, recombination_rates)\n",
    "s.interim_random_mating(pop, recombination_rates)\n",
    "\n",
    "sim.stat(pop, numOfSegSites=integral_valued_loci, vars=['numOfSegSites', 'segSites'])"
   ]
  },
  {
   "cell_type": "markdown",
   "metadata": {},
   "source": [
    "## Choose QTL and Assign Effects ##"
   ]
  },
  {
   "cell_type": "code",
   "execution_count": null,
   "metadata": {
    "collapsed": false
   },
   "outputs": [],
   "source": [
    "qtl = parameterizer.seg_qtl_chooser(pop, integral_valued_loci, sim_params['qtl'])\n",
    "\n",
    "triplet_qtl = []\n",
    "for locus in qtl:\n",
    "    triplet_qtl.append(locus-1)\n",
    "    triplet_qtl.append(locus)\n",
    "    triplet_qtl.append(locus+1)\n",
    "triplet_qtl = sorted(triplet_qtl)\n",
    "\n",
    "\n",
    "allele_effects = {}\n",
    "for tqtl in triplet_qtl:\n",
    "    for allele in alleles[tqtl]:\n",
    "        allele_effects[tqtl, allele] = random.expovariate(sim_params['allele_effects'])\n",
    "\n",
    "\n",
    "        \n",
    "\n",
    "pop.dvars().qtl = qtl\n",
    "pop.dvars().triplet_qtl = triplet_qtl\n",
    "pop.dvars().allele_effects = allele_effects"
   ]
  },
  {
   "cell_type": "code",
   "execution_count": null,
   "metadata": {
    "collapsed": false
   },
   "outputs": [],
   "source": [
    "s.recurrent_truncation_selection(pop, meta, triplet_qtl, allele_effects,\n",
    "                                recombination_rates)\n",
    "                                \n",
    "meta.removeSubPops(0)\n",
    "\n",
    "qtd = helpers.Frq(meta, triplet_qtl, alleles, allele_effects)\n",
    "qtalleles = qtd.rank_allele_effects(meta, triplet_qtl, alleles, allele_effects)\n",
    "af = qtd.allele_frequencies(meta, range(meta.totNumLoci()))\n",
    "ties = [locus for locus in range(meta.totNumLoci()) if af['minor', 'alleles'][locus] == af['major', 'alleles'][locus]]\n",
    "for t in ties:\n",
    "    af['major', 'alleles'][t] = list(meta.dvars().alleleFreq[t])[0]\n",
    "    af['minor', 'alleles'][t] = list(meta.dvars().alleleFreq[t])[1]\n",
    "sum(np.equal(list(af['minor', 'alleles'].values()), list(af['major', 'alleles'].values())))"
   ]
  },
  {
   "cell_type": "markdown",
   "metadata": {},
   "source": [
    "## Gather Data for Use in GWAS ##"
   ]
  },
  {
   "cell_type": "code",
   "execution_count": null,
   "metadata": {
    "collapsed": false
   },
   "outputs": [],
   "source": [
    "pca = helpers.PCA(meta, range(meta.totNumLoci()), af)\n",
    "minor_ac = pca.calculate_count_matrix(meta, af['minor', 'alleles'], 'sim_minor_allele_count.txt')\n",
    "eigendata = pca.svd(meta, minor_ac)\n",
    "ts = pca.test_statistic(meta, eigendata['values'])\n",
    "\n",
    "integer_to_snp = {0: 'A', 1: 'C', 2: 'G', 3: 'T', 4: '-', 5: '+'}\n",
    "raw_hmap = pd.read_csv('hapmap3.txt', delimiter='\\t', index_col=0)\n",
    "locus_names = list(raw_hmap['nearest.site'])\n",
    "pos_column = list(raw_hmap['agp_pos'])\n",
    "individual_names = {ind.ind_id: 'RS_R'+str(1)+'_G'+str(int(ind.generation)) + '_I'+str(int(ind.ind_id))\n",
    "                   for ind in meta.individuals()}\n",
    "\n",
    "cols_for_hapmap = {'locus_names': locus_names, 'pos_column': pos_column}\n",
    "                   \n",
    "gwas = helpers.GWAS(meta, individual_names, locus_names, pos_column)\n",
    "hmap = gwas.hapmap_formatter(integer_to_snp, 'sim_hapmap.txt')\n",
    "popstruct = gwas.population_structure_formatter(eigendata, 'sim_structure.txt')\n",
    "phenos = gwas.trait_formatter('sim_trait_vector.txt')\n",
    "kinship_matrix = gwas.calc_kinship_matrix(minor_ac, af, 'sim_kinship.txt')\n"
   ]
  },
  {
   "cell_type": "code",
   "execution_count": null,
   "metadata": {
    "collapsed": false
   },
   "outputs": [],
   "source": [
    "def qt_allele_data(qtl: list, allele_effects:dict):\n",
    "    \"\"\"Creates a data table for quantitative trait alleles.\n",
    "    Can be further utilized for downstream analysis and visualization.\n",
    "    \n",
    "    Output is suitable for storage in an SQL/NoSQL type database with\n",
    "    use of pandas package.\n",
    "    \"\"\"\n",
    "    qt_allele_columns = ['locus', 'favorable', 'fav_effect', 'unfavorable', 'unfav_effect'\n",
    "                     'effect_difference', 'G_0', 'G_2', 'G_4', 'G_6', \n",
    "                     'G_8', 'G_10', 'aggregate']\n"
   ]
  },
  {
   "cell_type": "code",
   "execution_count": null,
   "metadata": {
    "collapsed": false
   },
   "outputs": [],
   "source": [
    "def haplotype_diagram(pop, recom_rates):\n",
    "    \"\"\"Makes a very simple diagram of the special triplet-qtl\n",
    "    simulator.\n",
    "    \n",
    "    \"\"\"\n",
    "    breakpoints = col.OrderedDict()\n",
    "    for locus in range(meta.totNumLoci()):\n",
    "        if recombination_rates[locus] == 0.01:\n",
    "            breakpoints[locus] = locus + 1\n",
    "\n",
    "    diagram = [\"|\"]*meta.totNumLoci()\n",
    "\n",
    "    for locus, point in breakpoints.items():\n",
    "        try:\n",
    "            diagram[point] = '*'\n",
    "        except IndexError:\n",
    "            pass\n",
    "    return diagram"
   ]
  },
  {
   "cell_type": "code",
   "execution_count": null,
   "metadata": {
    "collapsed": true
   },
   "outputs": [],
   "source": [
    "triplet_qtl"
   ]
  },
  {
   "cell_type": "code",
   "execution_count": null,
   "metadata": {
    "collapsed": true
   },
   "outputs": [],
   "source": []
  },
  {
   "cell_type": "code",
   "execution_count": null,
   "metadata": {
    "collapsed": true
   },
   "outputs": [],
   "source": [
    "qt = ['o']*meta.totNumLoci()"
   ]
  },
  {
   "cell_type": "code",
   "execution_count": null,
   "metadata": {
    "collapsed": false
   },
   "outputs": [],
   "source": [
    "qt[129] = 'x'"
   ]
  },
  {
   "cell_type": "code",
   "execution_count": null,
   "metadata": {
    "collapsed": false
   },
   "outputs": [],
   "source": [
    "qt[129]"
   ]
  },
  {
   "cell_type": "code",
   "execution_count": null,
   "metadata": {
    "collapsed": false
   },
   "outputs": [],
   "source": [
    "for t in range(meta.totNumLoci()):\n",
    "    \n",
    "    "
   ]
  },
  {
   "cell_type": "code",
   "execution_count": null,
   "metadata": {
    "collapsed": true
   },
   "outputs": [],
   "source": [
    "loci_data = {'diagram': ['o']*meta.totNumLoci(),\n",
    "            'qtl': qtl,\n",
    "             'triplet_qtl': triplet_qtl,\n",
    "             \n",
    "            }\n"
   ]
  },
  {
   "cell_type": "code",
   "execution_count": null,
   "metadata": {
    "collapsed": true
   },
   "outputs": [],
   "source": [
    "for l in qt:\n",
    "    if l in triplet_qtl:\n",
    "        qt[l] = 'x'"
   ]
  },
  {
   "cell_type": "code",
   "execution_count": null,
   "metadata": {
    "collapsed": false
   },
   "outputs": [],
   "source": [
    "qt"
   ]
  },
  {
   "cell_type": "code",
   "execution_count": null,
   "metadata": {
    "collapsed": false
   },
   "outputs": [],
   "source": [
    "def allele_frq_table(pop: sim.Population, allele_frq_data:dict, genetic_map, \n",
    "                     halpotype_diagram, database_name=''):\n",
    "    \"\"\"\n",
    "    Generates a large table which centralizes all allele frequency data.\n",
    "    The data is inserted into a pandas DataFrame object.\n",
    "    Useful for downstream analysis and insertion into a database.\n",
    "    \n",
    "    Allele frequency data is first built up in a regular *dict* object\n",
    "    then inserted into a \n",
    "    \"\"\"\n",
    "    \n",
    "    data_columns = ['abs_index', 'chrom', 'locus', 'recom_rate', 'cM', 'v',\n",
    "     'qtl', 'minor', 'major', 'G_0', 'G_2', 'G_4', 'G_6', 'G_8', 'G_10', 'aggregate']\n",
    "    \n",
    "    data = {}\n",
    "\n",
    "    chromosomes = []\n",
    "    relative_loci = []\n",
    "    for locus in range(meta.totNumLoci()):\n",
    "        pair = meta.chromLocusPair(locus)\n",
    "        chromosomes.append(pair[0]+1)\n",
    "        relative_loci.append(pair[1])\n",
    "\n",
    "    data['chrom'] = chromosomes\n",
    "    data['locus'] = relative_loci\n",
    "\n",
    "\n",
    "    data['recom_rate'] = recombination_rates\n",
    "    data['v'] = haplotype_diagram\n",
    "    data['cM'] = genetic_map['cM_pos']\n",
    "\n",
    "\n",
    "    data['abs_index'] = [locus for locus in range(pop.totNumLoci())]\n",
    "    data['minor'] = [allele_frq_data['minor', 'alleles'][locus] for locus in range(pop.totNumLoci())]\n",
    "    data['major'] = [allele_frq_data['major', 'alleles'][locus] for locus in range(pop.totNumLoci())]\n",
    "    for subpop in pop.numSubPop():\n",
    "        data['G_0'] = [allele_frq_data['minor', 'frequency', subpop][locus] for locus in range(pop.totNumLoci())]\n",
    "    data['aggregate'] = [allele_frq_data['minor', 'frequency'][locus] for locus in range(pop.totNumLoci())]\n",
    "    return pd.DataFrame(data, columns=data_columns)"
   ]
  },
  {
   "cell_type": "code",
   "execution_count": null,
   "metadata": {
    "collapsed": false
   },
   "outputs": [],
   "source": [
    "df = pd.DataFrame(data, index=data['abs_index'], columns=data_columns)"
   ]
  },
  {
   "cell_type": "code",
   "execution_count": null,
   "metadata": {
    "collapsed": true
   },
   "outputs": [],
   "source": [
    "import sqlite3\n",
    "conn = sqlite3.connect('gwas.db')"
   ]
  },
  {
   "cell_type": "code",
   "execution_count": null,
   "metadata": {
    "collapsed": true
   },
   "outputs": [],
   "source": []
  },
  {
   "cell_type": "code",
   "execution_count": null,
   "metadata": {
    "collapsed": true
   },
   "outputs": [],
   "source": [
    "df.to_sql('gwas.db', conn, chunksize=1000)"
   ]
  },
  {
   "cell_type": "code",
   "execution_count": null,
   "metadata": {
    "collapsed": true
   },
   "outputs": [],
   "source": [
    "conn.commit()"
   ]
  },
  {
   "cell_type": "code",
   "execution_count": null,
   "metadata": {
    "collapsed": true
   },
   "outputs": [],
   "source": [
    "conn.close()"
   ]
  },
  {
   "cell_type": "code",
   "execution_count": null,
   "metadata": {
    "collapsed": false
   },
   "outputs": [],
   "source": [
    "statistics = pd.DataFrame(pop.dvars().statistics)"
   ]
  },
  {
   "cell_type": "code",
   "execution_count": null,
   "metadata": {
    "collapsed": false
   },
   "outputs": [],
   "source": [
    "statistics.index"
   ]
  },
  {
   "cell_type": "code",
   "execution_count": null,
   "metadata": {
    "collapsed": false
   },
   "outputs": [],
   "source": [
    "plt.plot(statistics)"
   ]
  },
  {
   "cell_type": "code",
   "execution_count": null,
   "metadata": {
    "collapsed": true
   },
   "outputs": [],
   "source": [
    "plt.show()"
   ]
  },
  {
   "cell_type": "code",
   "execution_count": null,
   "metadata": {
    "collapsed": true
   },
   "outputs": [],
   "source": [
    "plt.style.use('ggplot')`"
   ]
  },
  {
   "cell_type": "code",
   "execution_count": null,
   "metadata": {
    "collapsed": true
   },
   "outputs": [],
   "source": [
    "plt.ion()"
   ]
  },
  {
   "cell_type": "code",
   "execution_count": null,
   "metadata": {
    "collapsed": false
   },
   "outputs": [],
   "source": [
    "len(qtl)"
   ]
  },
  {
   "cell_type": "code",
   "execution_count": null,
   "metadata": {
    "collapsed": false
   },
   "outputs": [],
   "source": [
    "statistics.to_csv('how_is_it_arranged.csv', header=True, index=True)"
   ]
  },
  {
   "cell_type": "code",
   "execution_count": null,
   "metadata": {
    "collapsed": true
   },
   "outputs": [],
   "source": []
  }
 ],
 "metadata": {
  "kernelspec": {
   "display_name": "Python 3",
   "language": "python",
   "name": "python3"
  },
  "language_info": {
   "codemirror_mode": {
    "name": "ipython",
    "version": 3
   },
   "file_extension": ".py",
   "mimetype": "text/x-python",
   "name": "python",
   "nbconvert_exporter": "python",
   "pygments_lexer": "ipython3",
   "version": "3.4.3"
  }
 },
 "nbformat": 4,
 "nbformat_minor": 0
}
