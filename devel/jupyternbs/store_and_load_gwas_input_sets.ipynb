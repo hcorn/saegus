{
 "cells": [
  {
   "cell_type": "markdown",
   "metadata": {},
   "source": [
    "# Simulating a Population for Use in GWAS #"
   ]
  },
  {
   "cell_type": "markdown",
   "metadata": {},
   "source": [
    "### Population Parameters ###"
   ]
  },
  {
   "cell_type": "code",
   "execution_count": 1,
   "metadata": {
    "collapsed": true
   },
   "outputs": [],
   "source": [
    "%matplotlib inline\n",
    "import shelve\n",
    "import simuOpt\n",
    "simuOpt.setOptions(alleleType='short', numThreads=4, optimized=True, quiet=True)\n",
    "import simuPOP as sim\n",
    "import pandas as pd\n",
    "import collections as col\n",
    "from wgs import breed, operators, selection, helpers, parser, parameterizer, selection\n",
    "import random\n",
    "import numpy as np\n",
    "np.set_printoptions(suppress=True, precision=3)\n",
    "import matplotlib.pyplot as plt"
   ]
  },
  {
   "cell_type": "code",
   "execution_count": 2,
   "metadata": {
    "collapsed": false
   },
   "outputs": [],
   "source": [
    "\n",
    "\n",
    "hapmap = pd.read_csv('clean_hapmap.txt')\n",
    "genetic_map = hapmap.ix[:, :'cM_pos']\n",
    "genetic_map = pd.read_csv('nam_prefounders_genetic_map.txt', index_col=None,\n",
    "                         sep='\\t')\n",
    "\n",
    "chr_cM_positions = {}\n",
    "for i in range(1, 11):\n",
    "    chr_cM_positions[i] = []\n",
    "\n",
    "for idx in range(len(genetic_map)):\n",
    "    chr_cM_positions[int(genetic_map.iloc[idx]['chr'])].append(\n",
    "    float(genetic_map.iloc[idx]['cM_pos']))\n",
    "\n",
    "\n",
    "cM_positions = []\n",
    "for i in range(1, 11):\n",
    "    cM_positions.append(chr_cM_positions[i])\n",
    "\n",
    "\n",
    "snp_to_integer = {'A': 0, 'C': 1, 'G': 2, 'T': 3, '-':4, '+':5}\n",
    "allele_names = ['A', 'C', 'T', 'G', 'D', 'I']\n",
    "integer_to_snp = {0: 'A', 1:'C', 2: 'G', 3: 'T', 4: '-', 5: '+'}\n",
    "\n",
    "\n",
    "integral_valued_loci = []\n",
    "relative_integral_valued_loci = {}\n",
    "for idx in range(len(genetic_map)):\n",
    "    if str(genetic_map.iloc[idx]['cM_pos'])[-2:] == '.0':\n",
    "        integral_valued_loci.append(idx)\n",
    "        relative_integral_valued_loci[idx] = (genetic_map.iloc[idx]['chr'], genetic_map.iloc[idx]['cM_pos'])\n",
    "\n",
    "alleles = {i: (snp_to_integer[hapmap.ix[i, 'alleles'][0]], \n",
    "               snp_to_integer[hapmap.ix[i, 'alleles'][-1]]) for i in\n",
    "          range(len(hapmap))}\n",
    "\n",
    "recombination_rates = []\n",
    "for chromosome in cM_positions:\n",
    "    for cM in chromosome:\n",
    "        if str(cM)[-2:] == '.6':\n",
    "            recombination_rates.append(0.01)\n",
    "        else:\n",
    "            recombination_rates.append(0.0)\n",
    "\n",
    "allele_names = ['A', 'C', 'T', 'G', 'D', 'I']\n",
    "\n",
    "flat_cM_positions = []\n",
    "for cMs in cM_positions:\n",
    "    flat_cM_positions.extend(cMs)\n",
    "\n",
    "\n",
    "nam = sim.loadPopulation('nam_prefounders.pop')\n",
    "nam.setSubPopName('prefounders', 0)\n",
    "sample_sizes = {i: 100 for i in range(0, 21, 2)}\n",
    "\n",
    "genetic_structure = {}\n",
    "genetic_structure['cM_positions'] = cM_positions\n",
    "genetic_structure['chr_cM_positions'] = chr_cM_positions\n",
    "genetic_structure['allele_names'] = allele_names\n",
    "genetic_structure['integral_valued_loci'] = integral_valued_loci\n",
    "genetic_structure['relative_integral_valued_loci'] = relative_integral_valued_loci\n",
    "genetic_structure['alleles'] = alleles\n",
    "genetic_structure['recombination_rates'] = recombination_rates\n",
    "\n",
    "\n",
    "sim_params = {\n",
    "                'generations_of_selection': 20,\n",
    "                'generations_of_drift': 20,\n",
    "                'generations_of_random_mating': 3,\n",
    "                'operating_population_size': 2000,\n",
    "                'proportion_of_individuals_saved': 0.05,\n",
    "                'overshoot_as_proportion': 0.50,\n",
    "                'individuals_per_breeding_subpop': 5,\n",
    "                'heritability': 0.7,\n",
    "                'meta_pop_sample_sizes': sample_sizes,\n",
    "                'number_of_replicates': 1,\n",
    "                'prefounder_file_name': 'nam_prefounders.pop',\n",
    "                'founders': [(3,18), (2, 13), (7, 14), (1, 19),\n",
    "                            (14, 17), (1, 20), (17, 21), (9, 22)]\n",
    "    }\n",
    "\n",
    "qtl_params = {\n",
    "                'qtl': 10,\n",
    "                'allele_effects': 1,\n",
    "}\n",
    "\n",
    "selection_statistics = {\n",
    "    'aggregate': {},\n",
    "    'selected': {},\n",
    "    'non-selected': {}\n",
    "}\n",
    "drift_statistics = {\n",
    "    'aggregate': {},\n",
    "    'selected': {},\n",
    "    'non-selected': {}\n",
    "}\n",
    "\n",
    "\n",
    "s = selection.Truncation(sim_params['generations_of_selection'],\n",
    "                       sim_params['generations_of_random_mating'],\n",
    "                       sim_params['operating_population_size'],\n",
    "                       sim_params['proportion_of_individuals_saved'],\n",
    "                       sim_params['overshoot_as_proportion'],\n",
    "                       sim_params['individuals_per_breeding_subpop'],\n",
    "                       sim_params['heritability'],\n",
    "                       sim_params['meta_pop_sample_sizes'],\n",
    "                       sim_params['number_of_replicates'])\n",
    "\n",
    "d = selection.Drift(sim_params['generations_of_drift'],\n",
    "                       sim_params['generations_of_random_mating'],\n",
    "                       sim_params['operating_population_size'],\n",
    "                       sim_params['proportion_of_individuals_saved'],\n",
    "                       sim_params['overshoot_as_proportion'],\n",
    "                       sim_params['individuals_per_breeding_subpop'],\n",
    "                       sim_params['heritability'],\n",
    "                       sim_params['meta_pop_sample_sizes'],\n",
    "                       sim_params['number_of_replicates'])\n",
    "\n",
    "\n",
    "sim.tagID(nam, reset=True)\n",
    "\n",
    "founders = sim_params['founders']\n",
    "replicated_nam = sim.Simulator(nam, rep=3)\n",
    "pop = replicated_nam.extract(0)\n",
    "#pop.dvars().statistics = population_statistics\n",
    "selection_meta = replicated_nam.extract(0)\n",
    "drift_meta = replicated_nam.extract(0)\n",
    "#meta.removeSubPops(0)"
   ]
  },
  {
   "cell_type": "markdown",
   "metadata": {},
   "source": [
    "### Simulated Breeding Scenario ###"
   ]
  },
  {
   "cell_type": "code",
   "execution_count": 3,
   "metadata": {
    "collapsed": false
   },
   "outputs": [
    {
     "name": "stdout",
     "output_type": "stream",
     "text": [
      "Creating the F_one population from selected founders.\n",
      "Generation: 0\n",
      "Creating the F_one population from selected founders.\n",
      "Generation: 0\n"
     ]
    }
   ],
   "source": [
    "s.generate_f_one(pop, recombination_rates, sim_params['founders'])"
   ]
  },
  {
   "cell_type": "code",
   "execution_count": 4,
   "metadata": {
    "collapsed": false
   },
   "outputs": [
    {
     "name": "stdout",
     "output_type": "stream",
     "text": [
      "Creating the F_two population.\n",
      "Generation: 1\n",
      "Initiating recombinatorial convergence at generation: 2Creating the F_two population.\n",
      "Generation: 1\n",
      "Initiating recombinatorial convergence at generation: 2\n",
      "Generation: 2\n",
      "G\n",
      "Generation: 2\n",
      "Generation: 3\n",
      "Initiating interim random mating for 3 generations.eneration: 3\n",
      "Initiating interim random mating for 3 generations.\n",
      "Generation: 4\n",
      "G\n",
      "Generation: 4\n",
      "Generation: 5\n",
      "Generation: 5\n",
      "Generation: 6\n",
      "eneration: 6\n"
     ]
    }
   ],
   "source": [
    "s.expand_by_selfing(pop, recombination_rates)\n",
    "s.mate_and_merge(pop, recombination_rates)\n",
    "s.interim_random_mating(pop, recombination_rates)\n",
    "\n",
    "sim.stat(pop, numOfSegSites=integral_valued_loci, vars=['numOfSegSites', 'segSites'])"
   ]
  },
  {
   "cell_type": "code",
   "execution_count": 5,
   "metadata": {
    "collapsed": true
   },
   "outputs": [],
   "source": [
    "run_id = \"run_10_\""
   ]
  },
  {
   "cell_type": "markdown",
   "metadata": {},
   "source": [
    "## Choose QTL and Assign Effects ##"
   ]
  },
  {
   "cell_type": "code",
   "execution_count": 6,
   "metadata": {
    "collapsed": false
   },
   "outputs": [],
   "source": [
    "qtl = parameterizer.seg_qtl_chooser(pop, integral_valued_loci, qtl_params['qtl'])\n",
    "\n",
    "triplet_qtl = []\n",
    "for locus in qtl:\n",
    "    triplet_qtl.append(locus-1)\n",
    "    triplet_qtl.append(locus)\n",
    "    triplet_qtl.append(locus+1)\n",
    "triplet_qtl = sorted(triplet_qtl)\n",
    "\n",
    "qtl_params['triplet_qtl'] = triplet_qtl\n",
    "\n",
    "allele_effects = {locus: {} for locus in triplet_qtl}\n",
    "for tqtl in triplet_qtl:\n",
    "    for allele in alleles[tqtl]:\n",
    "        allele_effects[tqtl][allele] = random.expovariate(qtl_params['allele_effects'])\n",
    "\n",
    "qtl_params['allele_effects'] = allele_effects\n",
    "        \n",
    "\n",
    "\n",
    "# Write parameter sets to a 'shelf'.\n",
    "import shelve\n",
    "with shelve.open(run_id+\"quantitative_trait_simulation_params\") as qtdb:\n",
    "    qtdb['qtl_params'] = qtl_params\n",
    "    qtdb['sim_params'] = sim_params\n",
    "\n",
    "rsparams = shelve.open(\"RS_Parameter_Sets\")\n",
    "rsparams['truncation'] = s\n",
    "rsparams['drift'] = d\n",
    "rsparams['seg_sites_after_rmating'] = list(pop.dvars().segSites)\n",
    "rsparams['qtl_parameters'] = qtl_params\n",
    "rsparams['simulation_parameters'] = sim_params\n",
    "    \n",
    "pop.dvars().qtl = qtl\n",
    "pop.dvars().triplet_qtl = triplet_qtl\n",
    "pop.dvars().allele_effects = allele_effects\n",
    "\n",
    "selection_plus_drift_replicates = sim.Simulator(pop, rep=2)\n",
    "selection_pop = selection_plus_drift_replicates.extract(0)\n",
    "drift_pop = selection_plus_drift_replicates.extract(0)"
   ]
  },
  {
   "cell_type": "code",
   "execution_count": null,
   "metadata": {
    "collapsed": true
   },
   "outputs": [],
   "source": []
  },
  {
   "cell_type": "code",
   "execution_count": 7,
   "metadata": {
    "collapsed": true
   },
   "outputs": [],
   "source": [
    "selection_pop.dvars().statistics = selection_statistics\n",
    "drift_pop.dvars().statistics = drift_statistics"
   ]
  },
  {
   "cell_type": "code",
   "execution_count": 8,
   "metadata": {
    "collapsed": false
   },
   "outputs": [
    {
     "name": "stdout",
     "output_type": "stream",
     "text": [
      "Initial: Sampled 100 individuals from generation 0 Replicate: 0.\n",
      "Generation: 0\n",
      "GInitial: Sampled 100 individuals from generation 0 Replicate: 0.\n",
      "Generation: 0\n",
      "Generation: 1\n",
      "Generation: 1\n",
      "Generation: 2\n",
      "Generation: 2\n",
      "Generation: 3\n",
      "Generation: 3\n",
      "Generation: 4\n",
      "Generation: 4\n",
      "Generation: 5\n",
      "Generation: 5\n",
      "Generation: 6\n",
      "Generation: 6\n",
      "Generation: 7\n",
      "Generation: 7\n",
      "Generation: 8\n",
      "Generation: 8\n",
      "Generation: 9\n",
      "Generation: 9\n",
      "Generation: 10\n",
      "Generation: 10\n",
      "Generation: 11\n",
      "Generation: 11\n",
      "Generation: 12\n",
      "Generation: 12\n",
      "Generation: 13\n",
      "Generation: 13\n",
      "Generation: 14\n",
      "Generation: 14\n",
      "Generation: 15\n",
      "Generation: 15\n",
      "Generation: 16\n",
      "Generation: 16\n",
      "Generation: 17\n",
      "Generation: 17\n",
      "Generation: 18\n",
      "Generation: 18\n",
      "Generation: 19\n",
      "Feneration: 19\n",
      "Final: Sampled 100 individuals from generation 20\n",
      "Iinal: Sampled 100 individuals from generation 20\n",
      "Initial: Sampled 100 individuals from generation 0 Replicate: 0.\n",
      "Generation: 0\n",
      "Gnitial: Sampled 100 individuals from generation 0 Replicate: 0.\n",
      "Generation: 0\n",
      "Generation: 1\n",
      "Generation: 1\n",
      "Generation: 2\n",
      "Generation: 2\n",
      "Generation: 3\n",
      "Generation: 3\n",
      "Generation: 4\n",
      "Generation: 4\n",
      "Generation: 5\n",
      "Generation: 5\n",
      "Generation: 6\n",
      "Generation: 6\n",
      "Generation: 7\n",
      "Generation: 7\n",
      "Generation: 8\n",
      "Generation: 8\n",
      "Generation: 9\n",
      "Generation: 9\n",
      "Generation: 10\n",
      "Generation: 10\n",
      "Generation: 11\n",
      "Generation: 11\n",
      "Generation: 12\n",
      "Generation: 12\n",
      "Generation: 13\n",
      "Generation: 13\n",
      "Generation: 14\n",
      "Generation: 14\n",
      "Generation: 15\n",
      "Generation: 15\n",
      "Generation: 16\n",
      "Generation: 16\n",
      "Generation: 17\n",
      "Generation: 17\n",
      "Generation: 18\n",
      "Generation: 18\n",
      "Generation: 19\n",
      "Feneration: 19\n",
      "Final: Sampled 100 individuals from generation 20\n"
     ]
    },
    {
     "data": {
      "text/plain": [
       "0"
      ]
     },
     "execution_count": 8,
     "metadata": {},
     "output_type": "execute_result"
    },
    {
     "name": "stdout",
     "output_type": "stream",
     "text": [
      "inal: Sampled 100 individuals from generation 20\n"
     ]
    },
    {
     "data": {
      "text/plain": [
       "0"
      ]
     },
     "execution_count": 8,
     "metadata": {},
     "output_type": "execute_result"
    }
   ],
   "source": [
    "s.recurrent_truncation_selection(selection_pop, selection_meta, triplet_qtl, allele_effects,\n",
    "                                recombination_rates)\n",
    "\n",
    "d.recurrent_drift_selection(drift_pop, drift_meta, triplet_qtl, allele_effects, \n",
    "                            recombination_rates)\n",
    "                                \n",
    "selection_meta.removeSubPops(0)\n",
    "drift_meta.removeSubPops(0)\n",
    "\n",
    "selection_qtd = helpers.Frq(selection_meta, triplet_qtl, alleles, allele_effects)\n",
    "drift_qtd = helpers.Frq(drift_meta, triplet_qtl, alleles, allele_effects)\n",
    "\n",
    "\n",
    "selection_af = selection_qtd.allele_frequencies(selection_meta, range(selection_meta.totNumLoci()))\n",
    "drift_af = drift_qtd.allele_frequencies(drift_meta, range(drift_meta.totNumLoci()))\n",
    "selection_qtalleles = selection_qtd.rank_allele_effects(selection_meta, triplet_qtl, alleles, allele_effects)\n",
    "drift_qtalleles = drift_qtd.rank_allele_effects(drift_meta, triplet_qtl, alleles, allele_effects)\n",
    "selection_ties = [locus for locus in range(selection_meta.totNumLoci()) \n",
    "                  if selection_af['minor', 'alleles'][locus] == selection_af['major', 'alleles'][locus]]\n",
    "drift_ties = [locus for locus in range(drift_meta.totNumLoci())\n",
    "                  if drift_af['minor', 'alleles'][locus] == drift_af['major', 'alleles'][locus]]\n",
    "\n",
    "for st in selection_ties:\n",
    "    selection_af['major', 'alleles'][st] = list(selection_meta.dvars().alleleFreq[st])[0]\n",
    "    selection_af['major', 'alleles'][st] = list(selection_meta.dvars().alleleFreq[st])[1]\n",
    "for dt in drift_ties:\n",
    "    drift_af['minor', 'alleles'][dt] = list(drift_meta.dvars().alleleFreq[dt])[0]\n",
    "    drift_af['major', 'alleles'][dt] = list(drift_meta.dvars().alleleFreq[dt])[1]\n",
    "sum(np.equal(list(selection_af['minor', 'alleles'].values()), list(selection_af['major', 'alleles'].values())))\n",
    "sum(np.equal(list(drift_af['minor', 'alleles'].values()), list(drift_af['major', 'alleles'].values())))"
   ]
  },
  {
   "cell_type": "code",
   "execution_count": null,
   "metadata": {
    "collapsed": true
   },
   "outputs": [],
   "source": [
    "from wgs import visualization\n",
    "visualization.plot_means_and_variances(selection_pop, selection_meta, drift_pop, drift_meta, run_id+'Means_and_Variances_Meta-population.pdf')"
   ]
  },
  {
   "cell_type": "code",
   "execution_count": 9,
   "metadata": {
    "collapsed": true
   },
   "outputs": [],
   "source": [
    "rsparams['selection_statistics'] = selection_statistics\n",
    "rsparams['drift_statistics'] = drift_statistics"
   ]
  },
  {
   "cell_type": "code",
   "execution_count": null,
   "metadata": {
    "collapsed": true
   },
   "outputs": [],
   "source": [
    "rsparams.close()"
   ]
  },
  {
   "cell_type": "code",
   "execution_count": null,
   "metadata": {
    "collapsed": true
   },
   "outputs": [],
   "source": []
  },
  {
   "cell_type": "code",
   "execution_count": 10,
   "metadata": {
    "collapsed": false
   },
   "outputs": [
    {
     "data": {
      "text/plain": [
       "'run_10_'"
      ]
     },
     "execution_count": 10,
     "metadata": {},
     "output_type": "execute_result"
    },
    {
     "data": {
      "text/plain": [
       "'run_10_'"
      ]
     },
     "execution_count": 10,
     "metadata": {},
     "output_type": "execute_result"
    }
   ],
   "source": [
    "run_id"
   ]
  },
  {
   "cell_type": "markdown",
   "metadata": {},
   "source": [
    "## Gather Data for Use in GWAS ##"
   ]
  },
  {
   "cell_type": "code",
   "execution_count": null,
   "metadata": {
    "collapsed": false
   },
   "outputs": [],
   "source": [
    "input_prefix = \"C:\\\\Users\\\\DoubleDanks\\\\Dropbox\\\\wgs-and-beyond\\\\gwas\\\\simulator_results\\\\input\\\\\"\n",
    "output_prefix = \"C:\\\\Users\\\\DoubleDanks\\\\Dropbox\\\\wgs-and-beyond\\\\gwas\\\\simulator_results\\\\output\\\\\"\n",
    "run_id_prefix = run_id"
   ]
  },
  {
   "cell_type": "code",
   "execution_count": null,
   "metadata": {
    "collapsed": false
   },
   "outputs": [],
   "source": [
    "run_id_prefix"
   ]
  },
  {
   "cell_type": "code",
   "execution_count": 11,
   "metadata": {
    "collapsed": false
   },
   "outputs": [
    {
     "ename": "NameError",
     "evalue": "name 'run_id_prefix' is not defined",
     "output_type": "error",
     "traceback": [
      "\u001b[1;31m---------------------------------------------------------------------------\u001b[0m",
      "\u001b[1;31mNameError\u001b[0m                                 Traceback (most recent call last)",
      "\u001b[1;32m<ipython-input-11-6b7903e0c89d>\u001b[0m in \u001b[0;36m<module>\u001b[1;34m()\u001b[0m\n\u001b[0;32m      1\u001b[0m \u001b[0mpca\u001b[0m \u001b[1;33m=\u001b[0m \u001b[0mhelpers\u001b[0m\u001b[1;33m.\u001b[0m\u001b[0mPCA\u001b[0m\u001b[1;33m(\u001b[0m\u001b[0mselection_meta\u001b[0m\u001b[1;33m,\u001b[0m \u001b[0mrange\u001b[0m\u001b[1;33m(\u001b[0m\u001b[0mselection_meta\u001b[0m\u001b[1;33m.\u001b[0m\u001b[0mtotNumLoci\u001b[0m\u001b[1;33m(\u001b[0m\u001b[1;33m)\u001b[0m\u001b[1;33m)\u001b[0m\u001b[1;33m,\u001b[0m \u001b[0mselection_af\u001b[0m\u001b[1;33m)\u001b[0m\u001b[1;33m\u001b[0m\u001b[0m\n\u001b[0;32m      2\u001b[0m minor_ac = pca.calculate_count_matrix(selection_meta, selection_af['minor', 'alleles'], \n\u001b[1;32m----> 3\u001b[1;33m                                       run_id_prefix+'sim_minor_allele_count.txt')\n\u001b[0m\u001b[0;32m      4\u001b[0m \u001b[0meigendata\u001b[0m \u001b[1;33m=\u001b[0m \u001b[0mpca\u001b[0m\u001b[1;33m.\u001b[0m\u001b[0msvd\u001b[0m\u001b[1;33m(\u001b[0m\u001b[0mselection_meta\u001b[0m\u001b[1;33m,\u001b[0m \u001b[0mminor_ac\u001b[0m\u001b[1;33m)\u001b[0m\u001b[1;33m\u001b[0m\u001b[0m\n\u001b[0;32m      5\u001b[0m \u001b[0mts\u001b[0m \u001b[1;33m=\u001b[0m \u001b[0mpca\u001b[0m\u001b[1;33m.\u001b[0m\u001b[0mtest_statistic\u001b[0m\u001b[1;33m(\u001b[0m\u001b[0mselection_meta\u001b[0m\u001b[1;33m,\u001b[0m \u001b[0meigendata\u001b[0m\u001b[1;33m[\u001b[0m\u001b[1;34m'values'\u001b[0m\u001b[1;33m]\u001b[0m\u001b[1;33m)\u001b[0m\u001b[1;33m\u001b[0m\u001b[0m\n",
      "\u001b[1;31mNameError\u001b[0m: name 'run_id_prefix' is not defined"
     ]
    },
    {
     "ename": "NameError",
     "evalue": "name 'run_id_prefix' is not defined",
     "output_type": "error",
     "traceback": [
      "\u001b[1;31m---------------------------------------------------------------------------\u001b[0m",
      "\u001b[1;31mNameError\u001b[0m                                 Traceback (most recent call last)",
      "\u001b[1;32m<ipython-input-11-6b7903e0c89d>\u001b[0m in \u001b[0;36m<module>\u001b[1;34m()\u001b[0m\n\u001b[0;32m      1\u001b[0m \u001b[0mpca\u001b[0m \u001b[1;33m=\u001b[0m \u001b[0mhelpers\u001b[0m\u001b[1;33m.\u001b[0m\u001b[0mPCA\u001b[0m\u001b[1;33m(\u001b[0m\u001b[0mselection_meta\u001b[0m\u001b[1;33m,\u001b[0m \u001b[0mrange\u001b[0m\u001b[1;33m(\u001b[0m\u001b[0mselection_meta\u001b[0m\u001b[1;33m.\u001b[0m\u001b[0mtotNumLoci\u001b[0m\u001b[1;33m(\u001b[0m\u001b[1;33m)\u001b[0m\u001b[1;33m)\u001b[0m\u001b[1;33m,\u001b[0m \u001b[0mselection_af\u001b[0m\u001b[1;33m)\u001b[0m\u001b[1;33m\u001b[0m\u001b[0m\n\u001b[0;32m      2\u001b[0m minor_ac = pca.calculate_count_matrix(selection_meta, selection_af['minor', 'alleles'], \n\u001b[1;32m----> 3\u001b[1;33m                                       run_id_prefix+'sim_minor_allele_count.txt')\n\u001b[0m\u001b[0;32m      4\u001b[0m \u001b[0meigendata\u001b[0m \u001b[1;33m=\u001b[0m \u001b[0mpca\u001b[0m\u001b[1;33m.\u001b[0m\u001b[0msvd\u001b[0m\u001b[1;33m(\u001b[0m\u001b[0mselection_meta\u001b[0m\u001b[1;33m,\u001b[0m \u001b[0mminor_ac\u001b[0m\u001b[1;33m)\u001b[0m\u001b[1;33m\u001b[0m\u001b[0m\n\u001b[0;32m      5\u001b[0m \u001b[0mts\u001b[0m \u001b[1;33m=\u001b[0m \u001b[0mpca\u001b[0m\u001b[1;33m.\u001b[0m\u001b[0mtest_statistic\u001b[0m\u001b[1;33m(\u001b[0m\u001b[0mselection_meta\u001b[0m\u001b[1;33m,\u001b[0m \u001b[0meigendata\u001b[0m\u001b[1;33m[\u001b[0m\u001b[1;34m'values'\u001b[0m\u001b[1;33m]\u001b[0m\u001b[1;33m)\u001b[0m\u001b[1;33m\u001b[0m\u001b[0m\n",
      "\u001b[1;31mNameError\u001b[0m: name 'run_id_prefix' is not defined"
     ]
    }
   ],
   "source": [
    "pca = helpers.PCA(selection_meta, range(selection_meta.totNumLoci()), selection_af)\n",
    "minor_ac = pca.calculate_count_matrix(selection_meta, selection_af['minor', 'alleles'], \n",
    "                                      run_id_prefix+'sim_minor_allele_count.txt')\n",
    "eigendata = pca.svd(selection_meta, minor_ac)\n",
    "ts = pca.test_statistic(selection_meta, eigendata['values'])\n",
    "\n",
    "raw_hmap = pd.read_csv('hapmap3.txt', delimiter='\\t', index_col=0)\n",
    "locus_names = list(raw_hmap['nearest.site'])\n",
    "pos_column = list(raw_hmap['agp_pos'])\n",
    "individual_names = {ind.ind_id: 'RS_R'+str(1)+'_G'+str(int(ind.generation)) + '_I'+str(int(ind.ind_id))\n",
    "                   for ind in selection_meta.individuals()}"
   ]
  },
  {
   "cell_type": "code",
   "execution_count": 13,
   "metadata": {
    "collapsed": false
   },
   "outputs": [
    {
     "data": {
      "text/plain": [
       "<wgs.helpers.Frq at 0x8d8a320>"
      ]
     },
     "execution_count": 13,
     "metadata": {},
     "output_type": "execute_result"
    },
    {
     "data": {
      "text/plain": [
       "<wgs.helpers.Frq at 0x8d8a320>"
      ]
     },
     "execution_count": 13,
     "metadata": {},
     "output_type": "execute_result"
    }
   ],
   "source": [
    "selection_qtd"
   ]
  },
  {
   "cell_type": "code",
   "execution_count": null,
   "metadata": {
    "collapsed": false
   },
   "outputs": [],
   "source": [
    "cols_for_hapmap = {'locus_names': locus_names, \n",
    "                   'pos_column': pos_column}\n",
    "gwas = helpers.GWAS(selection_meta, individual_names, \n",
    "                    locus_names, pos_column)\n",
    "hmap = gwas.hapmap_formatter(integer_to_snp, \n",
    "                             input_prefix + run_id_prefix + 'sim_hapmap.txt')\n",
    "popstruct = gwas.population_structure_formatter(eigendata, \n",
    "                                                input_prefix + run_id_prefix + \"sim_structure.txt\")\n",
    "phenos = gwas.trait_formatter(input_prefix + run_id_prefix + \"sim_trait_vector.txt\")\n",
    "kinship_matrix = gwas.calc_kinship_matrix(minor_ac, selection_af, \n",
    "                                          input_prefix + run_id_prefix + \"sim_kinship.txt\")"
   ]
  },
  {
   "cell_type": "code",
   "execution_count": 14,
   "metadata": {
    "collapsed": false
   },
   "outputs": [
    {
     "ename": "TypeError",
     "evalue": "qt_allele_table() missing 2 required positional arguments: 'allele_effects' and 'qtrait_filename'",
     "output_type": "error",
     "traceback": [
      "\u001b[1;31m---------------------------------------------------------------------------\u001b[0m",
      "\u001b[1;31mTypeError\u001b[0m                                 Traceback (most recent call last)",
      "\u001b[1;32m<ipython-input-14-db5642aacc0f>\u001b[0m in \u001b[0;36m<module>\u001b[1;34m()\u001b[0m\n\u001b[1;32m----> 1\u001b[1;33m \u001b[0mquantrait_allele_table\u001b[0m \u001b[1;33m=\u001b[0m \u001b[0mselection_qtd\u001b[0m\u001b[1;33m.\u001b[0m\u001b[0mqt_allele_table\u001b[0m\u001b[1;33m(\u001b[0m\u001b[0mselection_af\u001b[0m\u001b[1;33m,\u001b[0m \u001b[0mallele_effects\u001b[0m\u001b[1;33m)\u001b[0m\u001b[1;33m\u001b[0m\u001b[0m\n\u001b[0m",
      "\u001b[1;31mTypeError\u001b[0m: qt_allele_table() missing 2 required positional arguments: 'allele_effects' and 'qtrait_filename'"
     ]
    },
    {
     "ename": "TypeError",
     "evalue": "qt_allele_table() missing 2 required positional arguments: 'allele_effects' and 'qtrait_filename'",
     "output_type": "error",
     "traceback": [
      "\u001b[1;31m---------------------------------------------------------------------------\u001b[0m",
      "\u001b[1;31mTypeError\u001b[0m                                 Traceback (most recent call last)",
      "\u001b[1;32m<ipython-input-14-db5642aacc0f>\u001b[0m in \u001b[0;36m<module>\u001b[1;34m()\u001b[0m\n\u001b[1;32m----> 1\u001b[1;33m \u001b[0mquantrait_allele_table\u001b[0m \u001b[1;33m=\u001b[0m \u001b[0mselection_qtd\u001b[0m\u001b[1;33m.\u001b[0m\u001b[0mqt_allele_table\u001b[0m\u001b[1;33m(\u001b[0m\u001b[0mselection_af\u001b[0m\u001b[1;33m,\u001b[0m \u001b[0mallele_effects\u001b[0m\u001b[1;33m)\u001b[0m\u001b[1;33m\u001b[0m\u001b[0m\n\u001b[0m",
      "\u001b[1;31mTypeError\u001b[0m: qt_allele_table() missing 2 required positional arguments: 'allele_effects' and 'qtrait_filename'"
     ]
    }
   ],
   "source": [
    "quantrait_allele_table = selection_qtd.qt_allele_table(selection_af, allele_effects)"
   ]
  },
  {
   "cell_type": "code",
   "execution_count": null,
   "metadata": {
    "collapsed": true
   },
   "outputs": [],
   "source": [
    "marker_absindex_conversion = {idx: hmap['rs'][idx] for idx in hmap['rs'].index}\n",
    "absindex_marker_conversion = {hmap['rs'][idx]: idx for idx in hmap['rs'].index}"
   ]
  },
  {
   "cell_type": "raw",
   "metadata": {
    "collapsed": false
   },
   "source": [
    "data = rsquared_ld\n",
    "fig, ax = plt.subplots(1, 1, figsize=(12, 12))\n",
    "heatmap = ax.pcolor(data, cmap=plt.cm.Blues)\n",
    "ax.set_xticks(np.arange(data.shape[0]) + 0.5, minor=False)\n",
    "ax.set_yticks(np.arange(data.shape[1]) + 0.5, minor=False)\n",
    "ax.invert_yaxis()\n",
    "ax.xaxis.tick_top()\n",
    "ax.set_xticklabels(list(map(str, gwasloci)), minor=False)\n",
    "ax.set_yticklabels(triplet_qtl, minor=False)"
   ]
  },
  {
   "cell_type": "markdown",
   "metadata": {},
   "source": [
    "## Analyzing TASSEL GWAS Results ##"
   ]
  },
  {
   "cell_type": "code",
   "execution_count": null,
   "metadata": {
    "collapsed": false
   },
   "outputs": [],
   "source": [
    "run_id_prefix"
   ]
  },
  {
   "cell_type": "code",
   "execution_count": null,
   "metadata": {
    "collapsed": true
   },
   "outputs": [],
   "source": [
    "import subprocess\n",
    "cmdline = [\"cmd\", \"/q\", \"/k\", \"echo on\"]\n",
    "cmd = subprocess.Popen(cmdline, stdin=subprocess.PIPE, stdout=subprocess.PIPE)\n",
    "batch = b\"\"\"\\\n",
    "set Pathname=\"C:\\\\GWAS\\\\tassel-5-standalone\\\"\n",
    "pushd %Pathname%\n",
    "run_pipeline.bat -fork1 -h C:\\\\Users\\\\DoubleDanks\\\\Dropbox\\\\wgs-and-beyond\\\\gwas\\\\simulator_results\\\\input\\\\run_6_sim_hapmap.txt -fork2 -t C:\\\\Users\\DoubleDanks\\\\Dropbox\\\\wgs-and-beyond\\\\gwas\\\\simulator_results\\\\input\\\\run_6_sim_trait_vector.txt  -fork3 -q C:\\\\Users\\\\DoubleDanks\\\\Dropbox\\\\wgs-and-beyond\\\\gwas\\\\simulator_results\\\\input\\\\run_6_sim_structure.txt -fork4 -k C:\\\\Users\\\\DoubleDanks\\\\Dropbox\\\\wgs-and-beyond\\\\gwas\\\\simulator_results\\\\input\\run_6_sim_kinship.txt -combine5 -input1 -input2 -input3 -intersect -combine6 -input5 -input4 -mlm -mlmCompressionLevel None -export C:\\\\Users\\\\DoubleDanks\\\\Dropbox\\\\wgs-and-beyond\\\\gwas\\\\simulator_results\\\\output\\\\sim_run_6 -runfork1 -runfork2 -runfork3 -runfork4\n",
    "exit\n",
    "\"\"\"\n",
    "cmd.stdin.write(batch)\n",
    "\n",
    "cmd.stdin.flush() # Must include this to ensure data is passed to child process\n",
    "result = cmd.stdout.read()\n",
    "print(result.decode())\n",
    "#TEST_VAR=Hello World\n",
    "#Hello World"
   ]
  },
  {
   "cell_type": "code",
   "execution_count": null,
   "metadata": {
    "collapsed": false
   },
   "outputs": [],
   "source": [
    "%%cmd\n",
    "cd C:\\GWAS\\tassel-5-standalone\n",
    "run_pipeline.bat -fork1 -h C:\\Users\\DoubleDanks\\Dropbox\\wgs-and-beyond\\gwas\\simulator_results\\input\\run_6_sim_hapmap.txt -fork2 -t C:\\Users\\DoubleDanks\\Dropbox\\wgs-and-beyond\\gwas\\simulator_results\\input\\run_6_sim_trait_vector.txt  -fork3 -q C:\\Users\\DoubleDanks\\Dropbox\\wgs-and-beyond\\gwas\\simulator_results\\input\\run_6_sim_structure.txt -fork4 -k C:\\Users\\DoubleDanks\\Dropbox\\wgs-and-beyond\\gwas\\simulator_results\\input\\run_6_sim_kinship.txt -combine5 -input1 -input2 -input3 -intersect -combine6 -input5 -input4 -mlm -mlmCompressionLevel None -export C:\\Users\\DoubleDanks\\Dropbox\\wgs-and-beyond\\gwas\\simulator_results\\output\\sim_run_6_ -runfork1 -runfork2 -runfork3 -runfork4"
   ]
  },
  {
   "cell_type": "code",
   "execution_count": null,
   "metadata": {
    "collapsed": false
   },
   "outputs": [],
   "source": [
    "run_id_prefix = 'run_7'"
   ]
  },
  {
   "cell_type": "code",
   "execution_count": null,
   "metadata": {
    "collapsed": true
   },
   "outputs": [],
   "source": [
    "gwasout_name = \"C:\\\\Users\\\\DoubleDanks\\\\Dropbox\\\\wgs-and-beyond\\\\gwas\\\\simulator_results\\\\output\\\\sim_run_62.txt\""
   ]
  },
  {
   "cell_type": "code",
   "execution_count": null,
   "metadata": {
    "collapsed": false
   },
   "outputs": [],
   "source": [
    "gwasout = pd.read_csv(gwasout_name, sep='\\t')"
   ]
  },
  {
   "cell_type": "code",
   "execution_count": null,
   "metadata": {
    "collapsed": false
   },
   "outputs": [],
   "source": [
    "gwasout"
   ]
  },
  {
   "cell_type": "code",
   "execution_count": null,
   "metadata": {
    "collapsed": false
   },
   "outputs": [],
   "source": [
    "sig_results = gwasout[gwasout['p'] < 0.05]"
   ]
  },
  {
   "cell_type": "code",
   "execution_count": null,
   "metadata": {
    "collapsed": true
   },
   "outputs": [],
   "source": [
    "gwasout.to_csv(output_prefix+'full_gwas_results.txt', sep='\\t', index=True, header=True)"
   ]
  },
  {
   "cell_type": "code",
   "execution_count": null,
   "metadata": {
    "collapsed": true
   },
   "outputs": [],
   "source": [
    "sig_results.to_csv(output_prefix+'seemingly_sig_results.txt', sep='\\t', index=True, header=True)"
   ]
  },
  {
   "cell_type": "code",
   "execution_count": null,
   "metadata": {
    "collapsed": false
   },
   "outputs": [],
   "source": [
    "sig_results"
   ]
  },
  {
   "cell_type": "code",
   "execution_count": null,
   "metadata": {
    "collapsed": false
   },
   "outputs": [],
   "source": [
    "triplet_qtl"
   ]
  },
  {
   "cell_type": "code",
   "execution_count": null,
   "metadata": {
    "collapsed": true
   },
   "outputs": [],
   "source": []
  },
  {
   "cell_type": "code",
   "execution_count": null,
   "metadata": {
    "collapsed": false
   },
   "outputs": [],
   "source": [
    "hz = haplotype_data(selection_meta, allele_effects, triplet_qtl)"
   ]
  },
  {
   "cell_type": "code",
   "execution_count": null,
   "metadata": {
    "collapsed": true
   },
   "outputs": [],
   "source": [
    "hz"
   ]
  },
  {
   "cell_type": "code",
   "execution_count": null,
   "metadata": {
    "collapsed": false
   },
   "outputs": [],
   "source": [
    "qtl"
   ]
  },
  {
   "cell_type": "code",
   "execution_count": null,
   "metadata": {
    "collapsed": false
   },
   "outputs": [],
   "source": [
    "sorted(list(hz['loci'].values()))"
   ]
  },
  {
   "cell_type": "code",
   "execution_count": null,
   "metadata": {
    "collapsed": true
   },
   "outputs": [],
   "source": [
    "haplotype_data = {}"
   ]
  },
  {
   "cell_type": "code",
   "execution_count": null,
   "metadata": {
    "collapsed": true
   },
   "outputs": [],
   "source": [
    "import shelve\n",
    "with shelve.open(run_id+\"quantitative_trait_simulation_params\") as qtdb:\n",
    "    qtdb['qtl_params'] = qtl_params\n",
    "    qtdb['sim_params'] = sim_params"
   ]
  },
  {
   "cell_type": "code",
   "execution_count": null,
   "metadata": {
    "collapsed": true
   },
   "outputs": [],
   "source": [
    "selection_meta.dvars().haploFreq"
   ]
  },
  {
   "cell_type": "code",
   "execution_count": null,
   "metadata": {
    "collapsed": true
   },
   "outputs": [],
   "source": [
    "selection_meta.numSubPop()"
   ]
  },
  {
   "cell_type": "code",
   "execution_count": null,
   "metadata": {
    "collapsed": false
   },
   "outputs": [],
   "source": [
    "selection_meta.subPopSizes()"
   ]
  },
  {
   "cell_type": "code",
   "execution_count": null,
   "metadata": {
    "collapsed": true
   },
   "outputs": [],
   "source": [
    "gen_labels = ['G_'+str(i) for i in range(0, selection_pop.dvars().gen+1, 2)]"
   ]
  },
  {
   "cell_type": "code",
   "execution_count": null,
   "metadata": {
    "collapsed": false
   },
   "outputs": [],
   "source": [
    "gen_labels"
   ]
  },
  {
   "cell_type": "code",
   "execution_count": null,
   "metadata": {
    "collapsed": false
   },
   "outputs": [],
   "source": [
    "hapldata_columns = ['centered_on', 'loci_triplet', 'haplotype', 'effect'] + gen_labels"
   ]
  },
  {
   "cell_type": "code",
   "execution_count": null,
   "metadata": {
    "collapsed": false
   },
   "outputs": [],
   "source": [
    "hapldata_columns"
   ]
  },
  {
   "cell_type": "code",
   "execution_count": null,
   "metadata": {
    "collapsed": true
   },
   "outputs": [],
   "source": [
    "hapltype_data['centered_on'] = [loci_triplet[1] for loci_triplet in list(sorted(hz['loci'].values())):\n",
    "    for allele_triplet in hz['alleles'][loci_triplet]:\n",
    "        triplet_effect = hz['effect'][loci_triplet][allele_triplet]\n",
    "        triplet_frequency = hz['frequency'][0][loci_triplet][allele_triplet]\n",
    "        haplotype_data['centered_on']=[loci_triplet[1] for loci_triplet in \n",
    "                   loci_triplet[1], loci_triplet, allele_triplet, triplet_effect, triplet_frequency]"
   ]
  },
  {
   "cell_type": "code",
   "execution_count": null,
   "metadata": {
    "collapsed": true
   },
   "outputs": [],
   "source": []
  },
  {
   "cell_type": "code",
   "execution_count": null,
   "metadata": {
    "collapsed": true
   },
   "outputs": [],
   "source": [
    "with shelve.open(\"Haplotype_Data\") as hdata:\n",
    "    hdata['sim_run_6'] = hz"
   ]
  },
  {
   "cell_type": "code",
   "execution_count": null,
   "metadata": {
    "collapsed": false
   },
   "outputs": [],
   "source": [
    "len(['A', 'B', 'C', 'D', 'E', 'F', 'G', 'H', 'I', 'J'])"
   ]
  },
  {
   "cell_type": "code",
   "execution_count": null,
   "metadata": {
    "collapsed": false
   },
   "outputs": [],
   "source": [
    "def plot_haplotype_effect_vs_frequency(haplotype_data, figure_filename):\n",
    "    \"\"\"Plots haplotype vs frequency in \"\"\"\n",
    "    fx_vs_frq = {}\n",
    "    fx_vs_frq[99] = np.zeros((2, 32))\n",
    "    segregating_effects = []\n",
    "    haplotype_frequencies = []\n",
    "    for htype, triplets in hz['alleles'].items():\n",
    "        for trip in triplets:\n",
    "            segregating_effects.append(hz['effect'][htype][trip])\n",
    "            haplotype_frequencies.append(hz['frequency'][htype][trip])\n",
    "    fx_vs_frq[99][0] = haplotype_frequencies\n",
    "    fx_vs_frq[99][1] = segregating_effects\n",
    "    for sp in range(meta.numSubPop()):\n",
    "        fx_vs_frq[sp] = np.zeros((2, 32))\n",
    "        segregating_effects = []\n",
    "        haplotype_frequencies = []\n",
    "        for htype, triplets in hz['alleles'].items():\n",
    "            for trip in triplets:\n",
    "                segregating_effects.append(hz['effect'][htype][trip])\n",
    "                haplotype_frequencies.append(hz['frequency'][sp][htype][trip])\n",
    "        fx_vs_frq[sp][0] = haplotype_frequencies\n",
    "        fx_vs_frq[sp][1] = segregating_effects\n",
    "    \n",
    "    \n",
    "    f, ax = plt.subplots(7, 1, figsize=(10,30))\n",
    "    ax[6].scatter(fx_vs_frq[99][0], fx_vs_frq[99][1], c='red')\n",
    "    ax[6].grid(True)\n",
    "    ax[6].set_title(\"Aggregate Generation\")\n",
    "    generations = [0, 2, 4, 6, 8, 10]\n",
    "    for i in range(6):\n",
    "        ax[i].scatter(fx_vs_frq[i][0], fx_vs_frq[i][1], c=np.random.rand(3, 1))\n",
    "        ax[i].set_xlim(-0.1, 1.1)\n",
    "        ax[i].set_title(\"Generation {}\".format(generations[i]))\n",
    "        ax[i].grid(True)\n",
    "    \n",
    "    f.savefig(figure_filename, dpi=300)"
   ]
  },
  {
   "cell_type": "code",
   "execution_count": null,
   "metadata": {
    "collapsed": true
   },
   "outputs": [],
   "source": [
    "from wgs import visualization\n",
    "visualization.plot_means_and_variances(selection_pop, selection_meta, drift_pop, drift_meta, 'run_7_Means_and_Variances_Meta-population.pdf')"
   ]
  },
  {
   "cell_type": "code",
   "execution_count": null,
   "metadata": {
    "collapsed": false
   },
   "outputs": [],
   "source": [
    "plot_haplotype_effect_vs_frequency(hz, 'test_htypevsfrq.pdf')"
   ]
  },
  {
   "cell_type": "code",
   "execution_count": null,
   "metadata": {
    "collapsed": false
   },
   "outputs": [],
   "source": [
    "plot_means_and_variances(pop, output_prefix+\"Means_and_Variances_of_Phenotype_Over_Time.pdf\")"
   ]
  },
  {
   "cell_type": "code",
   "execution_count": null,
   "metadata": {
    "collapsed": true
   },
   "outputs": [],
   "source": [
    "plot_means_and_variances(meta, output_prefix+\"Means_and_Variances_of_Phenotype_Over_Time.pdf\")"
   ]
  },
  {
   "cell_type": "code",
   "execution_count": null,
   "metadata": {
    "collapsed": false
   },
   "outputs": [],
   "source": [
    "sim.stat(meta, meanOfInfo=['g', 'p'], vars=['meanOfInfo', 'meanOfInfo_sp'])"
   ]
  },
  {
   "cell_type": "code",
   "execution_count": null,
   "metadata": {
    "collapsed": true
   },
   "outputs": [],
   "source": [
    "sim.stat(meta, varOfInfo=['g', 'p'], vars=['varOfInfo', 'varOfInfo_sp'])"
   ]
  },
  {
   "cell_type": "code",
   "execution_count": null,
   "metadata": {
    "collapsed": false
   },
   "outputs": [],
   "source": [
    "meta.dvars().meanOfInfo"
   ]
  },
  {
   "cell_type": "code",
   "execution_count": null,
   "metadata": {
    "collapsed": false
   },
   "outputs": [],
   "source": [
    "pop.dvars(1).meanOfInfo"
   ]
  },
  {
   "cell_type": "code",
   "execution_count": null,
   "metadata": {
    "collapsed": false
   },
   "outputs": [],
   "source": [
    "for i in range(6):\n",
    "    print(meta.dvars(i).meanOfInfo['p'])"
   ]
  },
  {
   "cell_type": "code",
   "execution_count": null,
   "metadata": {
    "collapsed": false
   },
   "outputs": [],
   "source": [
    "meta_means"
   ]
  },
  {
   "cell_type": "code",
   "execution_count": null,
   "metadata": {
    "collapsed": false
   },
   "outputs": [],
   "source": [
    "plot_means_and_variances(meta, output_prefix+\"Meta-Population_Means_and_Variances_of_Phenotype_Over_Time.pdf\")"
   ]
  },
  {
   "cell_type": "code",
   "execution_count": null,
   "metadata": {
    "collapsed": true
   },
   "outputs": [],
   "source": [
    "meta_gens = [0, 2, 4, 6, 8, 10]\n",
    "meta_means = [meta.dvars(i).meanOfInfo['p'] for i in range(6)]\n",
    "meta_vars = [meta.dvars(i).varOfInfo['p'] for i in range(6)]"
   ]
  },
  {
   "cell_type": "code",
   "execution_count": null,
   "metadata": {
    "collapsed": false
   },
   "outputs": [],
   "source": [
    "meta_plot = np.array([meta_gens, meta_means, meta_vars])"
   ]
  },
  {
   "cell_type": "code",
   "execution_count": null,
   "metadata": {
    "collapsed": false
   },
   "outputs": [],
   "source": [
    "f, ax = plt.subplots()"
   ]
  },
  {
   "cell_type": "code",
   "execution_count": null,
   "metadata": {
    "collapsed": false
   },
   "outputs": [],
   "source": [
    "plt.show()"
   ]
  },
  {
   "cell_type": "code",
   "execution_count": null,
   "metadata": {
    "collapsed": true
   },
   "outputs": [],
   "source": [
    "metainfo = np.zeros(())"
   ]
  },
  {
   "cell_type": "code",
   "execution_count": null,
   "metadata": {
    "collapsed": false
   },
   "outputs": [],
   "source": [
    "meta_means"
   ]
  },
  {
   "cell_type": "code",
   "execution_count": null,
   "metadata": {
    "collapsed": false
   },
   "outputs": [],
   "source": [
    "meta_means"
   ]
  },
  {
   "cell_type": "code",
   "execution_count": null,
   "metadata": {
    "collapsed": true
   },
   "outputs": [],
   "source": [
    "qtl_params['triplet_qtl'] = triplet_qtl\n",
    "qtl_params['allele_effects'] = allele_effects"
   ]
  },
  {
   "cell_type": "code",
   "execution_count": null,
   "metadata": {
    "collapsed": true
   },
   "outputs": [],
   "source": [
    "rw = parameterizer.ReadWrite()"
   ]
  },
  {
   "cell_type": "code",
   "execution_count": null,
   "metadata": {
    "collapsed": false
   },
   "outputs": [],
   "source": [
    "rw.write_trunc_selection_parameters(sim_params, 'truncsel.json', qtl_params,\n",
    "                                    'qtlparams.json', genetic_structure,\n",
    "                                   'genstructure.json')"
   ]
  },
  {
   "cell_type": "code",
   "execution_count": null,
   "metadata": {
    "collapsed": true
   },
   "outputs": [],
   "source": [
    "import shelve\n",
    "\n",
    "stored_parameters = {}\n",
    "\n",
    "with shelve.open('RS_Parameter_Sets') as loaded:\n",
    "    for k, v in loaded.items():\n",
    "        stored_parameters[k] = v\n",
    "\n",
    "stored_parameters.keys()"
   ]
  }
 ],
 "metadata": {
  "kernelspec": {
   "display_name": "Python 3",
   "language": "python",
   "name": "python3"
  },
  "language_info": {
   "codemirror_mode": {
    "name": "ipython",
    "version": 3
   },
   "file_extension": ".py",
   "mimetype": "text/x-python",
   "name": "python",
   "nbconvert_exporter": "python",
   "pygments_lexer": "ipython3",
   "version": "3.4.3"
  }
 },
 "nbformat": 4,
 "nbformat_minor": 0
}
