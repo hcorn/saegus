{
 "cells": [
  {
   "cell_type": "markdown",
   "metadata": {},
   "source": [
    "# Simulating a Population for Use in GWAS #"
   ]
  },
  {
   "cell_type": "code",
   "execution_count": 1,
   "metadata": {
    "collapsed": false
   },
   "outputs": [
    {
     "data": {
      "text/plain": [
       "'C:\\\\Users\\\\DoubleDanks\\\\BISB\\\\wisser\\\\code\\\\rjwlab-scripts\\\\saegus_project\\\\devel\\\\jupyternbs'"
      ]
     },
     "execution_count": 1,
     "metadata": {},
     "output_type": "execute_result"
    }
   ],
   "source": [
    "pwd"
   ]
  },
  {
   "cell_type": "markdown",
   "metadata": {},
   "source": [
    "### Population Parameters ###"
   ]
  },
  {
   "cell_type": "code",
   "execution_count": 3,
   "metadata": {
    "collapsed": true
   },
   "outputs": [],
   "source": [
    "%matplotlib inline\n",
    "import shelve\n",
    "import simuOpt\n",
    "simuOpt.setOptions(alleleType='short', numThreads=4, quiet=True)\n",
    "import simuPOP as sim\n",
    "import pandas as pd\n",
    "import collections as col\n",
    "from saegus import breed, operators, selection, helpers, parser, parameterizer, selection\n",
    "import random\n",
    "#random.seed(1337)\n",
    "import numpy as np\n",
    "np.set_printoptions(suppress=True, precision=3)\n",
    "import matplotlib.pyplot as plt"
   ]
  },
  {
   "cell_type": "code",
   "execution_count": 4,
   "metadata": {
    "collapsed": false
   },
   "outputs": [
    {
     "ename": "OSError",
     "evalue": "File b'clean_hapmap.txt' does not exist",
     "output_type": "error",
     "traceback": [
      "\u001b[1;31m---------------------------------------------------------------------------\u001b[0m",
      "\u001b[1;31mOSError\u001b[0m                                   Traceback (most recent call last)",
      "\u001b[1;32m<ipython-input-4-651864c54921>\u001b[0m in \u001b[0;36m<module>\u001b[1;34m()\u001b[0m\n\u001b[1;32m----> 1\u001b[1;33m \u001b[0mhapmap\u001b[0m \u001b[1;33m=\u001b[0m \u001b[0mpd\u001b[0m\u001b[1;33m.\u001b[0m\u001b[0mread_csv\u001b[0m\u001b[1;33m(\u001b[0m\u001b[1;34m'clean_hapmap.txt'\u001b[0m\u001b[1;33m)\u001b[0m\u001b[1;33m\u001b[0m\u001b[0m\n\u001b[0m\u001b[0;32m      2\u001b[0m \u001b[0mgenetic_map\u001b[0m \u001b[1;33m=\u001b[0m \u001b[0mhapmap\u001b[0m\u001b[1;33m.\u001b[0m\u001b[0mix\u001b[0m\u001b[1;33m[\u001b[0m\u001b[1;33m:\u001b[0m\u001b[1;33m,\u001b[0m \u001b[1;33m:\u001b[0m\u001b[1;34m'cM_pos'\u001b[0m\u001b[1;33m]\u001b[0m\u001b[1;33m\u001b[0m\u001b[0m\n\u001b[0;32m      3\u001b[0m genetic_map = pd.read_csv('nam_prefounders_genetic_map.txt', index_col=None,\n\u001b[0;32m      4\u001b[0m                          sep='\\t')\n\u001b[0;32m      5\u001b[0m \u001b[1;33m\u001b[0m\u001b[0m\n",
      "\u001b[1;32mC:\\Anaconda3\\lib\\site-packages\\pandas\\io\\parsers.py\u001b[0m in \u001b[0;36mparser_f\u001b[1;34m(filepath_or_buffer, sep, dialect, compression, doublequote, escapechar, quotechar, quoting, skipinitialspace, lineterminator, header, index_col, names, prefix, skiprows, skipfooter, skip_footer, na_values, true_values, false_values, delimiter, converters, dtype, usecols, engine, delim_whitespace, as_recarray, na_filter, compact_ints, use_unsigned, low_memory, buffer_lines, warn_bad_lines, error_bad_lines, keep_default_na, thousands, comment, decimal, parse_dates, keep_date_col, dayfirst, date_parser, memory_map, float_precision, nrows, iterator, chunksize, verbose, encoding, squeeze, mangle_dupe_cols, tupleize_cols, infer_datetime_format, skip_blank_lines)\u001b[0m\n\u001b[0;32m    489\u001b[0m                     skip_blank_lines=skip_blank_lines)\n\u001b[0;32m    490\u001b[0m \u001b[1;33m\u001b[0m\u001b[0m\n\u001b[1;32m--> 491\u001b[1;33m         \u001b[1;32mreturn\u001b[0m \u001b[0m_read\u001b[0m\u001b[1;33m(\u001b[0m\u001b[0mfilepath_or_buffer\u001b[0m\u001b[1;33m,\u001b[0m \u001b[0mkwds\u001b[0m\u001b[1;33m)\u001b[0m\u001b[1;33m\u001b[0m\u001b[0m\n\u001b[0m\u001b[0;32m    492\u001b[0m \u001b[1;33m\u001b[0m\u001b[0m\n\u001b[0;32m    493\u001b[0m     \u001b[0mparser_f\u001b[0m\u001b[1;33m.\u001b[0m\u001b[0m__name__\u001b[0m \u001b[1;33m=\u001b[0m \u001b[0mname\u001b[0m\u001b[1;33m\u001b[0m\u001b[0m\n",
      "\u001b[1;32mC:\\Anaconda3\\lib\\site-packages\\pandas\\io\\parsers.py\u001b[0m in \u001b[0;36m_read\u001b[1;34m(filepath_or_buffer, kwds)\u001b[0m\n\u001b[0;32m    266\u001b[0m \u001b[1;33m\u001b[0m\u001b[0m\n\u001b[0;32m    267\u001b[0m     \u001b[1;31m# Create the parser.\u001b[0m\u001b[1;33m\u001b[0m\u001b[1;33m\u001b[0m\u001b[0m\n\u001b[1;32m--> 268\u001b[1;33m     \u001b[0mparser\u001b[0m \u001b[1;33m=\u001b[0m \u001b[0mTextFileReader\u001b[0m\u001b[1;33m(\u001b[0m\u001b[0mfilepath_or_buffer\u001b[0m\u001b[1;33m,\u001b[0m \u001b[1;33m**\u001b[0m\u001b[0mkwds\u001b[0m\u001b[1;33m)\u001b[0m\u001b[1;33m\u001b[0m\u001b[0m\n\u001b[0m\u001b[0;32m    269\u001b[0m \u001b[1;33m\u001b[0m\u001b[0m\n\u001b[0;32m    270\u001b[0m     \u001b[1;32mif\u001b[0m \u001b[1;33m(\u001b[0m\u001b[0mnrows\u001b[0m \u001b[1;32mis\u001b[0m \u001b[1;32mnot\u001b[0m \u001b[1;32mNone\u001b[0m\u001b[1;33m)\u001b[0m \u001b[1;32mand\u001b[0m \u001b[1;33m(\u001b[0m\u001b[0mchunksize\u001b[0m \u001b[1;32mis\u001b[0m \u001b[1;32mnot\u001b[0m \u001b[1;32mNone\u001b[0m\u001b[1;33m)\u001b[0m\u001b[1;33m:\u001b[0m\u001b[1;33m\u001b[0m\u001b[0m\n",
      "\u001b[1;32mC:\\Anaconda3\\lib\\site-packages\\pandas\\io\\parsers.py\u001b[0m in \u001b[0;36m__init__\u001b[1;34m(self, f, engine, **kwds)\u001b[0m\n\u001b[0;32m    581\u001b[0m             \u001b[0mself\u001b[0m\u001b[1;33m.\u001b[0m\u001b[0moptions\u001b[0m\u001b[1;33m[\u001b[0m\u001b[1;34m'has_index_names'\u001b[0m\u001b[1;33m]\u001b[0m \u001b[1;33m=\u001b[0m \u001b[0mkwds\u001b[0m\u001b[1;33m[\u001b[0m\u001b[1;34m'has_index_names'\u001b[0m\u001b[1;33m]\u001b[0m\u001b[1;33m\u001b[0m\u001b[0m\n\u001b[0;32m    582\u001b[0m \u001b[1;33m\u001b[0m\u001b[0m\n\u001b[1;32m--> 583\u001b[1;33m         \u001b[0mself\u001b[0m\u001b[1;33m.\u001b[0m\u001b[0m_make_engine\u001b[0m\u001b[1;33m(\u001b[0m\u001b[0mself\u001b[0m\u001b[1;33m.\u001b[0m\u001b[0mengine\u001b[0m\u001b[1;33m)\u001b[0m\u001b[1;33m\u001b[0m\u001b[0m\n\u001b[0m\u001b[0;32m    584\u001b[0m \u001b[1;33m\u001b[0m\u001b[0m\n\u001b[0;32m    585\u001b[0m     \u001b[1;32mdef\u001b[0m \u001b[0m_get_options_with_defaults\u001b[0m\u001b[1;33m(\u001b[0m\u001b[0mself\u001b[0m\u001b[1;33m,\u001b[0m \u001b[0mengine\u001b[0m\u001b[1;33m)\u001b[0m\u001b[1;33m:\u001b[0m\u001b[1;33m\u001b[0m\u001b[0m\n",
      "\u001b[1;32mC:\\Anaconda3\\lib\\site-packages\\pandas\\io\\parsers.py\u001b[0m in \u001b[0;36m_make_engine\u001b[1;34m(self, engine)\u001b[0m\n\u001b[0;32m    722\u001b[0m     \u001b[1;32mdef\u001b[0m \u001b[0m_make_engine\u001b[0m\u001b[1;33m(\u001b[0m\u001b[0mself\u001b[0m\u001b[1;33m,\u001b[0m \u001b[0mengine\u001b[0m\u001b[1;33m=\u001b[0m\u001b[1;34m'c'\u001b[0m\u001b[1;33m)\u001b[0m\u001b[1;33m:\u001b[0m\u001b[1;33m\u001b[0m\u001b[0m\n\u001b[0;32m    723\u001b[0m         \u001b[1;32mif\u001b[0m \u001b[0mengine\u001b[0m \u001b[1;33m==\u001b[0m \u001b[1;34m'c'\u001b[0m\u001b[1;33m:\u001b[0m\u001b[1;33m\u001b[0m\u001b[0m\n\u001b[1;32m--> 724\u001b[1;33m             \u001b[0mself\u001b[0m\u001b[1;33m.\u001b[0m\u001b[0m_engine\u001b[0m \u001b[1;33m=\u001b[0m \u001b[0mCParserWrapper\u001b[0m\u001b[1;33m(\u001b[0m\u001b[0mself\u001b[0m\u001b[1;33m.\u001b[0m\u001b[0mf\u001b[0m\u001b[1;33m,\u001b[0m \u001b[1;33m**\u001b[0m\u001b[0mself\u001b[0m\u001b[1;33m.\u001b[0m\u001b[0moptions\u001b[0m\u001b[1;33m)\u001b[0m\u001b[1;33m\u001b[0m\u001b[0m\n\u001b[0m\u001b[0;32m    725\u001b[0m         \u001b[1;32melse\u001b[0m\u001b[1;33m:\u001b[0m\u001b[1;33m\u001b[0m\u001b[0m\n\u001b[0;32m    726\u001b[0m             \u001b[1;32mif\u001b[0m \u001b[0mengine\u001b[0m \u001b[1;33m==\u001b[0m \u001b[1;34m'python'\u001b[0m\u001b[1;33m:\u001b[0m\u001b[1;33m\u001b[0m\u001b[0m\n",
      "\u001b[1;32mC:\\Anaconda3\\lib\\site-packages\\pandas\\io\\parsers.py\u001b[0m in \u001b[0;36m__init__\u001b[1;34m(self, src, **kwds)\u001b[0m\n\u001b[0;32m   1091\u001b[0m         \u001b[0mkwds\u001b[0m\u001b[1;33m[\u001b[0m\u001b[1;34m'allow_leading_cols'\u001b[0m\u001b[1;33m]\u001b[0m \u001b[1;33m=\u001b[0m \u001b[0mself\u001b[0m\u001b[1;33m.\u001b[0m\u001b[0mindex_col\u001b[0m \u001b[1;32mis\u001b[0m \u001b[1;32mnot\u001b[0m \u001b[1;32mFalse\u001b[0m\u001b[1;33m\u001b[0m\u001b[0m\n\u001b[0;32m   1092\u001b[0m \u001b[1;33m\u001b[0m\u001b[0m\n\u001b[1;32m-> 1093\u001b[1;33m         \u001b[0mself\u001b[0m\u001b[1;33m.\u001b[0m\u001b[0m_reader\u001b[0m \u001b[1;33m=\u001b[0m \u001b[0m_parser\u001b[0m\u001b[1;33m.\u001b[0m\u001b[0mTextReader\u001b[0m\u001b[1;33m(\u001b[0m\u001b[0msrc\u001b[0m\u001b[1;33m,\u001b[0m \u001b[1;33m**\u001b[0m\u001b[0mkwds\u001b[0m\u001b[1;33m)\u001b[0m\u001b[1;33m\u001b[0m\u001b[0m\n\u001b[0m\u001b[0;32m   1094\u001b[0m \u001b[1;33m\u001b[0m\u001b[0m\n\u001b[0;32m   1095\u001b[0m         \u001b[1;31m# XXX\u001b[0m\u001b[1;33m\u001b[0m\u001b[1;33m\u001b[0m\u001b[0m\n",
      "\u001b[1;32mpandas\\parser.pyx\u001b[0m in \u001b[0;36mpandas.parser.TextReader.__cinit__ (pandas\\parser.c:3229)\u001b[1;34m()\u001b[0m\n",
      "\u001b[1;32mpandas\\parser.pyx\u001b[0m in \u001b[0;36mpandas.parser.TextReader._setup_parser_source (pandas\\parser.c:6042)\u001b[1;34m()\u001b[0m\n",
      "\u001b[1;31mOSError\u001b[0m: File b'clean_hapmap.txt' does not exist"
     ]
    }
   ],
   "source": [
    "hapmap = pd.read_csv('clean_hapmap.txt')\n",
    "genetic_map = hapmap.ix[:, :'cM_pos']\n",
    "genetic_map = pd.read_csv('nam_prefounders_genetic_map.txt', index_col=None,\n",
    "                         sep='\\t')\n",
    "\n",
    "chr_cM_positions = {}\n",
    "for i in range(1, 11):\n",
    "    chr_cM_positions[i] = []\n",
    "\n",
    "for idx in range(len(genetic_map)):\n",
    "    chr_cM_positions[int(genetic_map.iloc[idx]['chr'])].append(\n",
    "    float(genetic_map.iloc[idx]['cM_pos']))\n",
    "\n",
    "\n",
    "cM_positions = []\n",
    "for i in range(1, 11):\n",
    "    cM_positions.append(chr_cM_positions[i])\n",
    "\n",
    "\n",
    "snp_to_integer = {'A': 0, 'C': 1, 'G': 2, 'T': 3, '-':4, '+':5}\n",
    "allele_names = ['A', 'C', 'T', 'G', 'D', 'I']\n",
    "integer_to_snp = {0: 'A', 1:'C', 2: 'G', 3: 'T', 4: '-', 5: '+'}\n",
    "\n",
    "\n",
    "integral_valued_loci = []\n",
    "relative_integral_valued_loci = {}\n",
    "for idx in range(len(genetic_map)):\n",
    "    if str(genetic_map.iloc[idx]['cM_pos'])[-2:] == '.0':\n",
    "        integral_valued_loci.append(idx)\n",
    "        relative_integral_valued_loci[idx] = (genetic_map.iloc[idx]['chr'], genetic_map.iloc[idx]['cM_pos'])\n",
    "\n",
    "alleles = {i: (snp_to_integer[hapmap.ix[i, 'alleles'][0]], \n",
    "               snp_to_integer[hapmap.ix[i, 'alleles'][-1]]) for i in\n",
    "          range(len(hapmap))}\n",
    "\n",
    "recombination_rates = []\n",
    "for chromosome in cM_positions:\n",
    "    for cM in chromosome:\n",
    "        if str(cM)[-2:] == '.6':\n",
    "            recombination_rates.append(0.01)\n",
    "        else:\n",
    "            recombination_rates.append(0.0)\n",
    "\n",
    "allele_names = ['A', 'C', 'T', 'G', 'D', 'I']\n",
    "\n",
    "flat_cM_positions = []\n",
    "for cMs in cM_positions:\n",
    "    flat_cM_positions.extend(cMs)\n",
    "\n",
    "\n",
    "nam = sim.loadPopulation('nam_prefounders.pop')\n",
    "nam.setSubPopName('prefounders', 0)\n",
    "sample_sizes = {i: 100 for i in range(0, 21, 2)}\n",
    "\n",
    "genetic_structure = {}\n",
    "genetic_structure['cM_positions'] = cM_positions\n",
    "genetic_structure['chr_cM_positions'] = chr_cM_positions\n",
    "genetic_structure['allele_names'] = allele_names\n",
    "genetic_structure['integral_valued_loci'] = integral_valued_loci\n",
    "genetic_structure['relative_integral_valued_loci'] = relative_integral_valued_loci\n",
    "genetic_structure['alleles'] = alleles\n",
    "genetic_structure['recombination_rates'] = recombination_rates"
   ]
  },
  {
   "cell_type": "code",
   "execution_count": 3,
   "metadata": {
    "collapsed": true
   },
   "outputs": [],
   "source": [
    "sim_params = {\n",
    "                'generations_of_selection': 10,\n",
    "                'generations_of_drift': 10,\n",
    "                'generations_of_random_mating': 3,\n",
    "                'operating_population_size': 2000,\n",
    "                'proportion_of_individuals_saved': 0.05,\n",
    "                'overshoot_as_proportion': 0.50,\n",
    "                'individuals_per_breeding_subpop': 5,\n",
    "                'heritability': 0.7,\n",
    "                'meta_pop_sample_sizes': sample_sizes,\n",
    "                'number_of_replicates': 1,\n",
    "                'prefounder_file_name': 'nam_prefounders.pop',\n",
    "                'founders': [(3,18), (2, 13), (7, 14), (1, 19),\n",
    "                            (14, 17), (1, 20), (17, 21), (9, 22)]\n",
    "    }"
   ]
  },
  {
   "cell_type": "code",
   "execution_count": 4,
   "metadata": {
    "collapsed": true
   },
   "outputs": [],
   "source": [
    "qtl_params = {\n",
    "                'qtl': 10,\n",
    "                'allele_effects': 1,\n",
    "}\n",
    "selection_statistics = {\n",
    "    'aggregate': {},\n",
    "    'selected': {},\n",
    "    'non-selected': {}\n",
    "}\n",
    "drift_statistics = {\n",
    "    'aggregate': {},\n",
    "    'selected': {},\n",
    "    'non-selected': {}\n",
    "}"
   ]
  },
  {
   "cell_type": "code",
   "execution_count": 8,
   "metadata": {
    "collapsed": true
   },
   "outputs": [],
   "source": [
    "s = selection.Truncation(sim_params['generations_of_selection'],\n",
    "                       sim_params['generations_of_random_mating'],\n",
    "                       sim_params['operating_population_size'],\n",
    "                       sim_params['proportion_of_individuals_saved'],\n",
    "                       sim_params['overshoot_as_proportion'],\n",
    "                       sim_params['individuals_per_breeding_subpop'],\n",
    "                       sim_params['heritability'],\n",
    "                       sim_params['meta_pop_sample_sizes'],\n",
    "                       sim_params['number_of_replicates'])\n",
    "\n",
    "d = selection.Drift(sim_params['generations_of_drift'],\n",
    "                       sim_params['generations_of_random_mating'],\n",
    "                       sim_params['operating_population_size'],\n",
    "                       sim_params['proportion_of_individuals_saved'],\n",
    "                       sim_params['overshoot_as_proportion'],\n",
    "                       sim_params['individuals_per_breeding_subpop'],\n",
    "                       sim_params['heritability'],\n",
    "                       sim_params['meta_pop_sample_sizes'],\n",
    "                       sim_params['number_of_replicates'])"
   ]
  },
  {
   "cell_type": "code",
   "execution_count": 9,
   "metadata": {
    "collapsed": true
   },
   "outputs": [],
   "source": [
    "sim.tagID(nam, reset=True)\n",
    "\n",
    "founders = sim_params['founders']\n",
    "replicated_nam = sim.Simulator(nam, rep=3)\n",
    "pop = replicated_nam.extract(0)\n",
    "#pop.dvars().statistics = population_statistics\n",
    "selection_meta = replicated_nam.extract(0)\n",
    "drift_meta = replicated_nam.extract(0)\n",
    "#meta.removeSubPops(0)"
   ]
  },
  {
   "cell_type": "markdown",
   "metadata": {},
   "source": [
    "### Simulated Breeding Scenario ###"
   ]
  },
  {
   "cell_type": "code",
   "execution_count": 8,
   "metadata": {
    "collapsed": false
   },
   "outputs": [
    {
     "name": "stdout",
     "output_type": "stream",
     "text": [
      "Creating the F_one population from selected founders.\n",
      "Generation: 0\n"
     ]
    }
   ],
   "source": [
    "s.generate_f_one(pop, recombination_rates, sim_params['founders'])"
   ]
  },
  {
   "cell_type": "code",
   "execution_count": 9,
   "metadata": {
    "collapsed": false
   },
   "outputs": [
    {
     "name": "stdout",
     "output_type": "stream",
     "text": [
      "Generation: 1\tpopSize: 8\n",
      "Generation: 2\tpopSize: 4\n",
      "Generation: 3\tpopSize: 2\n"
     ]
    }
   ],
   "source": [
    "s.recombinatorial_convergence(pop, recombination_rates)"
   ]
  },
  {
   "cell_type": "code",
   "execution_count": 10,
   "metadata": {
    "collapsed": false
   },
   "outputs": [
    {
     "name": "stdout",
     "output_type": "stream",
     "text": [
      "Creating the F_two population.\n",
      "Generation: 4\n",
      "Initiating interim random mating for 3 generations.\n",
      "Generation: 5\n",
      "Generation: 6\n",
      "Generation: 7\n"
     ]
    }
   ],
   "source": [
    "s.expand_by_selfing(pop, recombination_rates)\n",
    "s.interim_random_mating(pop, recombination_rates)\n",
    "sim.stat(pop, numOfSegSites=integral_valued_loci, vars=['numOfSegSites', 'segSites'])"
   ]
  },
  {
   "cell_type": "code",
   "execution_count": 10,
   "metadata": {
    "collapsed": true
   },
   "outputs": [],
   "source": [
    "run_id = \"run_11_\""
   ]
  },
  {
   "cell_type": "code",
   "execution_count": null,
   "metadata": {
    "collapsed": true
   },
   "outputs": [],
   "source": [
    "## Choose QTL and Assign Effects ##"
   ]
  },
  {
   "cell_type": "code",
   "execution_count": 11,
   "metadata": {
    "collapsed": true
   },
   "outputs": [],
   "source": [
    "qtl = parameterizer.seg_qtl_chooser(pop, integral_valued_loci, qtl_params['qtl'])\n",
    "\n",
    "triplet_qtl = []\n",
    "for locus in qtl:\n",
    "    triplet_qtl.append(locus-1)\n",
    "    triplet_qtl.append(locus)\n",
    "    triplet_qtl.append(locus+1)\n",
    "triplet_qtl = sorted(triplet_qtl)\n",
    "\n",
    "qtl_params['triplet_qtl'] = triplet_qtl\n",
    "\n",
    "allele_effects = {locus: {} for locus in triplet_qtl}\n",
    "for tqtl in triplet_qtl:\n",
    "    for allele in alleles[tqtl]:\n",
    "        allele_effects[tqtl][allele] = random.expovariate(qtl_params['allele_effects'])\n",
    "\n",
    "qtl_params['allele_effects'] = allele_effects\n",
    "        \n",
    "\n",
    "\n",
    "# Write parameter sets to a 'shelf'.\n",
    "import shelve\n",
    "with shelve.open(run_id+\"quantitative_trait_simulation_params\") as qtdb:\n",
    "    qtdb['qtl_params'] = qtl_params\n",
    "    qtdb['sim_params'] = sim_params\n",
    "\n",
    "rsparams = shelve.open(\"RS_Parameter_Sets\")\n",
    "rsparams['truncation'] = s\n",
    "rsparams['drift'] = d\n",
    "rsparams['seg_sites_after_rmating'] = list(pop.dvars().segSites)\n",
    "rsparams['qtl_parameters'] = qtl_params\n",
    "rsparams['simulation_parameters'] = sim_params\n",
    "    \n",
    "pop.dvars().qtl = qtl\n",
    "pop.dvars().triplet_qtl = triplet_qtl\n",
    "pop.dvars().allele_effects = allele_effects\n",
    "\n",
    "selection_plus_drift_replicates = sim.Simulator(pop, rep=2)\n",
    "selection_pop = selection_plus_drift_replicates.extract(0)\n",
    "drift_pop = selection_plus_drift_replicates.extract(0)"
   ]
  },
  {
   "cell_type": "code",
   "execution_count": 12,
   "metadata": {
    "collapsed": true
   },
   "outputs": [],
   "source": [
    "selection_pop.dvars().statistics = selection_statistics\n",
    "drift_pop.dvars().statistics = drift_statistics"
   ]
  },
  {
   "cell_type": "code",
   "execution_count": 13,
   "metadata": {
    "collapsed": false
   },
   "outputs": [
    {
     "name": "stdout",
     "output_type": "stream",
     "text": [
      "Initial: Sampled 100 individuals from generation 0 Replicate: 0.\n",
      "Generation: 0\n",
      "Generation: 1\n",
      "Generation: 2\n",
      "Generation: 3\n",
      "Generation: 4\n",
      "Generation: 5\n",
      "Generation: 6\n",
      "Generation: 7\n",
      "Generation: 8\n",
      "Generation: 9\n",
      "Final: Sampled 100 individuals from generation 10\n",
      "Initial: Sampled 100 individuals from generation 0 Replicate: 0.\n",
      "Generation: 0\n",
      "Generation: 1\n",
      "Generation: 2\n",
      "Generation: 3\n",
      "Generation: 4\n",
      "Generation: 5\n",
      "Generation: 6\n",
      "Generation: 7\n",
      "Generation: 8\n",
      "Generation: 9\n",
      "Final: Sampled 100 individuals from generation 10\n"
     ]
    },
    {
     "data": {
      "text/plain": [
       "0"
      ]
     },
     "execution_count": 13,
     "metadata": {},
     "output_type": "execute_result"
    }
   ],
   "source": [
    "s.recurrent_truncation_selection(selection_pop, selection_meta, triplet_qtl, allele_effects,\n",
    "                                recombination_rates)\n",
    "\n",
    "d.recurrent_drift_selection(drift_pop, drift_meta, triplet_qtl, allele_effects, \n",
    "                            recombination_rates)\n",
    "                                \n",
    "selection_meta.removeSubPops(0)\n",
    "drift_meta.removeSubPops(0)\n",
    "\n",
    "selection_qtd = helpers.Frq(selection_meta, triplet_qtl, alleles, allele_effects)\n",
    "drift_qtd = helpers.Frq(drift_meta, triplet_qtl, alleles, allele_effects)\n",
    "\n",
    "\n",
    "selection_af = selection_qtd.allele_frequencies(selection_meta, range(selection_meta.totNumLoci()))\n",
    "drift_af = drift_qtd.allele_frequencies(drift_meta, range(drift_meta.totNumLoci()))\n",
    "selection_qtalleles = selection_qtd.rank_allele_effects(selection_meta, triplet_qtl, alleles, allele_effects)\n",
    "drift_qtalleles = drift_qtd.rank_allele_effects(drift_meta, triplet_qtl, alleles, allele_effects)\n",
    "selection_ties = [locus for locus in range(selection_meta.totNumLoci()) \n",
    "                  if selection_af['minor', 'alleles'][locus] == selection_af['major', 'alleles'][locus]]\n",
    "drift_ties = [locus for locus in range(drift_meta.totNumLoci())\n",
    "                  if drift_af['minor', 'alleles'][locus] == drift_af['major', 'alleles'][locus]]\n",
    "\n",
    "for st in selection_ties:\n",
    "    selection_af['major', 'alleles'][st] = list(selection_meta.dvars().alleleFreq[st])[0]\n",
    "    selection_af['major', 'alleles'][st] = list(selection_meta.dvars().alleleFreq[st])[1]\n",
    "for dt in drift_ties:\n",
    "    drift_af['minor', 'alleles'][dt] = list(drift_meta.dvars().alleleFreq[dt])[0]\n",
    "    drift_af['major', 'alleles'][dt] = list(drift_meta.dvars().alleleFreq[dt])[1]\n",
    "sum(np.equal(list(selection_af['minor', 'alleles'].values()), list(selection_af['major', 'alleles'].values())))\n",
    "sum(np.equal(list(drift_af['minor', 'alleles'].values()), list(drift_af['major', 'alleles'].values())))"
   ]
  },
  {
   "cell_type": "markdown",
   "metadata": {},
   "source": [
    "## Haplotype Data ##"
   ]
  },
  {
   "cell_type": "markdown",
   "metadata": {},
   "source": [
    "### Population Subjected to Selection ###"
   ]
  },
  {
   "cell_type": "code",
   "execution_count": 14,
   "metadata": {
    "collapsed": true
   },
   "outputs": [],
   "source": [
    "sel_htypes = helpers.collect_haplotype_data(selection_meta, allele_effects, triplet_qtl)"
   ]
  },
  {
   "cell_type": "code",
   "execution_count": 15,
   "metadata": {
    "collapsed": false
   },
   "outputs": [
    {
     "data": {
      "text/plain": [
       "{'alleles': {(358, 359, 360): [(0, 2, 0), (2, 1, 0)],\n",
       "  (1700, 1701, 1702): [(1, 2, 1), (1, 1, 1)],\n",
       "  (1950, 1951, 1952): [(4, 1, 2), (4, 3, 2)],\n",
       "  (2345, 2346, 2347): [(1, 3, 2), (1, 1, 2)],\n",
       "  (2915, 2916, 2917): [(2, 0, 0), (1, 1, 2)],\n",
       "  (3530, 3531, 3532): [(1, 0, 3), (1, 2, 3)],\n",
       "  (4140, 4141, 4142): [(1, 1, 0), (3, 3, 0)],\n",
       "  (5726, 5727, 5728): [(3, 3, 2), (1, 1, 2)],\n",
       "  (6916, 6917, 6918): [(0, 1, 1), (0, 3, 3)],\n",
       "  (7106, 7107, 7108): [(0, 2, 3), (3, 0, 3)]},\n",
       " 'effect': {(358, 359, 360): {(0, 2, 0): 1.6601883621410407,\n",
       "   (2, 1, 0): 0.5810797489427847},\n",
       "  (1700, 1701, 1702): {(1, 1, 1): 0.9607279333910945,\n",
       "   (1, 2, 1): 1.4074113804958848},\n",
       "  (1950, 1951, 1952): {(4, 1, 2): 2.1068187653217225,\n",
       "   (4, 3, 2): 0.8829805874715089},\n",
       "  (2345, 2346, 2347): {(1, 1, 2): 1.1953892021708832,\n",
       "   (1, 3, 2): 1.694970424792654},\n",
       "  (2915, 2916, 2917): {(1, 1, 2): 2.65850614885613,\n",
       "   (2, 0, 0): 2.5882654248934207},\n",
       "  (3530, 3531, 3532): {(1, 0, 3): 4.845959177354244,\n",
       "   (1, 2, 3): 4.393987363390172},\n",
       "  (4140, 4141, 4142): {(1, 1, 0): 2.3651286989538836,\n",
       "   (3, 3, 0): 2.9189599389089724},\n",
       "  (5726, 5727, 5728): {(1, 1, 2): 1.258026445367237,\n",
       "   (3, 3, 2): 2.6503850860780447},\n",
       "  (6916, 6917, 6918): {(0, 1, 1): 2.8454999116867663,\n",
       "   (0, 3, 3): 5.035849234649193},\n",
       "  (7106, 7107, 7108): {(0, 2, 3): 0.42980115291198184,\n",
       "   (3, 0, 3): 1.6809875376717862}},\n",
       " 'frequency': {(358, 359, 360): {0: {(0, 2, 0): 0.47, (2, 1, 0): 0.53},\n",
       "   1: {(0, 2, 0): 0.805, (2, 1, 0): 0.195},\n",
       "   2: {(0, 2, 0): 0.925, (2, 1, 0): 0.075},\n",
       "   3: {(0, 2, 0): 0.94, (2, 1, 0): 0.06},\n",
       "   4: {(0, 2, 0): 1.0, (2, 1, 0): 0},\n",
       "   5: {(0, 2, 0): 1.0, (2, 1, 0): 0}},\n",
       "  (1700, 1701, 1702): {0: {(1, 1, 1): 0.53, (1, 2, 1): 0.47},\n",
       "   1: {(1, 1, 1): 0.32, (1, 2, 1): 0.68},\n",
       "   2: {(1, 1, 1): 0.145, (1, 2, 1): 0.855},\n",
       "   3: {(1, 1, 1): 0.115, (1, 2, 1): 0.885},\n",
       "   4: {(1, 1, 1): 0.085, (1, 2, 1): 0.915},\n",
       "   5: {(1, 1, 1): 0.075, (1, 2, 1): 0.925}},\n",
       "  (1950, 1951, 1952): {0: {(4, 1, 2): 0.555, (4, 3, 2): 0.445},\n",
       "   1: {(4, 1, 2): 0.89, (4, 3, 2): 0.11},\n",
       "   2: {(4, 1, 2): 1.0, (4, 3, 2): 0},\n",
       "   3: {(4, 1, 2): 1.0, (4, 3, 2): 0},\n",
       "   4: {(4, 1, 2): 1.0, (4, 3, 2): 0},\n",
       "   5: {(4, 1, 2): 1.0, (4, 3, 2): 0}},\n",
       "  (2345, 2346, 2347): {0: {(1, 1, 2): 0.575, (1, 3, 2): 0.425},\n",
       "   1: {(1, 1, 2): 0.465, (1, 3, 2): 0.535},\n",
       "   2: {(1, 1, 2): 0.295, (1, 3, 2): 0.705},\n",
       "   3: {(1, 1, 2): 0.155, (1, 3, 2): 0.845},\n",
       "   4: {(1, 1, 2): 0.125, (1, 3, 2): 0.875},\n",
       "   5: {(1, 1, 2): 0.03, (1, 3, 2): 0.97}},\n",
       "  (2915, 2916, 2917): {0: {(1, 1, 2): 0.485, (2, 0, 0): 0.515},\n",
       "   1: {(1, 1, 2): 0.6, (2, 0, 0): 0.4},\n",
       "   2: {(1, 1, 2): 0.59, (2, 0, 0): 0.41},\n",
       "   3: {(1, 1, 2): 0.55, (2, 0, 0): 0.45},\n",
       "   4: {(1, 1, 2): 0.555, (2, 0, 0): 0.445},\n",
       "   5: {(1, 1, 2): 0.535, (2, 0, 0): 0.465}},\n",
       "  (3530, 3531, 3532): {0: {(1, 0, 3): 0.455, (1, 2, 3): 0.545},\n",
       "   1: {(1, 0, 3): 0.55, (1, 2, 3): 0.45},\n",
       "   2: {(1, 0, 3): 0.68, (1, 2, 3): 0.32},\n",
       "   3: {(1, 0, 3): 0.8, (1, 2, 3): 0.2},\n",
       "   4: {(1, 0, 3): 0.79, (1, 2, 3): 0.21},\n",
       "   5: {(1, 0, 3): 0.935, (1, 2, 3): 0.065}},\n",
       "  (4140, 4141, 4142): {0: {(1, 1, 0): 0.525, (3, 3, 0): 0.475},\n",
       "   1: {(1, 1, 0): 0.465, (3, 3, 0): 0.535},\n",
       "   2: {(1, 1, 0): 0.21, (3, 3, 0): 0.79},\n",
       "   3: {(1, 1, 0): 0.105, (3, 3, 0): 0.895},\n",
       "   4: {(1, 1, 0): 0.015, (3, 3, 0): 0.985},\n",
       "   5: {(1, 1, 0): 0, (3, 3, 0): 1.0}},\n",
       "  (5726, 5727, 5728): {0: {(1, 1, 2): 0.475, (3, 3, 2): 0.525},\n",
       "   1: {(1, 1, 2): 0.19, (3, 3, 2): 0.81},\n",
       "   2: {(1, 1, 2): 0.065, (3, 3, 2): 0.935},\n",
       "   3: {(1, 1, 2): 0.02, (3, 3, 2): 0.98},\n",
       "   4: {(1, 1, 2): 0, (3, 3, 2): 1.0},\n",
       "   5: {(1, 1, 2): 0, (3, 3, 2): 1.0}},\n",
       "  (6916, 6917, 6918): {0: {(0, 1, 1): 0.535, (0, 3, 3): 0.465},\n",
       "   1: {(0, 1, 1): 0.055, (0, 3, 3): 0.945},\n",
       "   2: {(0, 1, 1): 0, (0, 3, 3): 1.0},\n",
       "   3: {(0, 1, 1): 0, (0, 3, 3): 1.0},\n",
       "   4: {(0, 1, 1): 0, (0, 3, 3): 1.0},\n",
       "   5: {(0, 1, 1): 0, (0, 3, 3): 1.0}},\n",
       "  (7106, 7107, 7108): {0: {(0, 2, 3): 0.53, (3, 0, 3): 0.47},\n",
       "   1: {(0, 2, 3): 0.16, (3, 0, 3): 0.84},\n",
       "   2: {(0, 2, 3): 0.04, (3, 0, 3): 0.96},\n",
       "   3: {(0, 2, 3): 0.025, (3, 0, 3): 0.975},\n",
       "   4: {(0, 2, 3): 0.01, (3, 0, 3): 0.99},\n",
       "   5: {(0, 2, 3): 0, (3, 0, 3): 1.0}}},\n",
       " 'loci': {0: (358, 359, 360),\n",
       "  1: (1700, 1701, 1702),\n",
       "  2: (1950, 1951, 1952),\n",
       "  3: (2345, 2346, 2347),\n",
       "  4: (2915, 2916, 2917),\n",
       "  5: (3530, 3531, 3532),\n",
       "  6: (4140, 4141, 4142),\n",
       "  7: (5726, 5727, 5728),\n",
       "  8: (6916, 6917, 6918),\n",
       "  9: (7106, 7107, 7108)}}"
      ]
     },
     "execution_count": 15,
     "metadata": {},
     "output_type": "execute_result"
    }
   ],
   "source": [
    "sel_htypes"
   ]
  },
  {
   "cell_type": "code",
   "execution_count": 16,
   "metadata": {
    "collapsed": true
   },
   "outputs": [],
   "source": [
    "sel_haplotype_table = helpers.generate_haplotype_data_table(selection_meta, sel_htypes)"
   ]
  },
  {
   "cell_type": "code",
   "execution_count": 17,
   "metadata": {
    "collapsed": false
   },
   "outputs": [
    {
     "data": {
      "text/html": [
       "<div>\n",
       "<table border=\"1\" class=\"dataframe\">\n",
       "  <thead>\n",
       "    <tr style=\"text-align: right;\">\n",
       "      <th></th>\n",
       "      <th>centered_on</th>\n",
       "      <th>relative_position</th>\n",
       "      <th>chromosome</th>\n",
       "      <th>haplotype</th>\n",
       "      <th>effect</th>\n",
       "      <th>G_0</th>\n",
       "      <th>G_2</th>\n",
       "      <th>G_4</th>\n",
       "      <th>G_6</th>\n",
       "      <th>G_8</th>\n",
       "      <th>G_10</th>\n",
       "    </tr>\n",
       "  </thead>\n",
       "  <tbody>\n",
       "    <tr>\n",
       "      <th>0</th>\n",
       "      <td>359</td>\n",
       "      <td>359</td>\n",
       "      <td>1</td>\n",
       "      <td>AGA</td>\n",
       "      <td>1.660188</td>\n",
       "      <td>0.470</td>\n",
       "      <td>0.805</td>\n",
       "      <td>0.925</td>\n",
       "      <td>0.940</td>\n",
       "      <td>1.000</td>\n",
       "      <td>1.000</td>\n",
       "    </tr>\n",
       "    <tr>\n",
       "      <th>1</th>\n",
       "      <td>359</td>\n",
       "      <td>359</td>\n",
       "      <td>1</td>\n",
       "      <td>GCA</td>\n",
       "      <td>0.581080</td>\n",
       "      <td>0.530</td>\n",
       "      <td>0.195</td>\n",
       "      <td>0.075</td>\n",
       "      <td>0.060</td>\n",
       "      <td>0.000</td>\n",
       "      <td>0.000</td>\n",
       "    </tr>\n",
       "    <tr>\n",
       "      <th>2</th>\n",
       "      <td>1701</td>\n",
       "      <td>648</td>\n",
       "      <td>2</td>\n",
       "      <td>CGC</td>\n",
       "      <td>1.407411</td>\n",
       "      <td>0.470</td>\n",
       "      <td>0.680</td>\n",
       "      <td>0.855</td>\n",
       "      <td>0.885</td>\n",
       "      <td>0.915</td>\n",
       "      <td>0.925</td>\n",
       "    </tr>\n",
       "    <tr>\n",
       "      <th>3</th>\n",
       "      <td>1701</td>\n",
       "      <td>648</td>\n",
       "      <td>2</td>\n",
       "      <td>CCC</td>\n",
       "      <td>0.960728</td>\n",
       "      <td>0.530</td>\n",
       "      <td>0.320</td>\n",
       "      <td>0.145</td>\n",
       "      <td>0.115</td>\n",
       "      <td>0.085</td>\n",
       "      <td>0.075</td>\n",
       "    </tr>\n",
       "    <tr>\n",
       "      <th>4</th>\n",
       "      <td>1951</td>\n",
       "      <td>91</td>\n",
       "      <td>3</td>\n",
       "      <td>+CG</td>\n",
       "      <td>2.106819</td>\n",
       "      <td>0.555</td>\n",
       "      <td>0.890</td>\n",
       "      <td>1.000</td>\n",
       "      <td>1.000</td>\n",
       "      <td>1.000</td>\n",
       "      <td>1.000</td>\n",
       "    </tr>\n",
       "    <tr>\n",
       "      <th>5</th>\n",
       "      <td>1951</td>\n",
       "      <td>91</td>\n",
       "      <td>3</td>\n",
       "      <td>+TG</td>\n",
       "      <td>0.882981</td>\n",
       "      <td>0.445</td>\n",
       "      <td>0.110</td>\n",
       "      <td>0.000</td>\n",
       "      <td>0.000</td>\n",
       "      <td>0.000</td>\n",
       "      <td>0.000</td>\n",
       "    </tr>\n",
       "    <tr>\n",
       "      <th>6</th>\n",
       "      <td>2346</td>\n",
       "      <td>486</td>\n",
       "      <td>3</td>\n",
       "      <td>CTG</td>\n",
       "      <td>1.694970</td>\n",
       "      <td>0.425</td>\n",
       "      <td>0.535</td>\n",
       "      <td>0.705</td>\n",
       "      <td>0.845</td>\n",
       "      <td>0.875</td>\n",
       "      <td>0.970</td>\n",
       "    </tr>\n",
       "    <tr>\n",
       "      <th>7</th>\n",
       "      <td>2346</td>\n",
       "      <td>486</td>\n",
       "      <td>3</td>\n",
       "      <td>CCG</td>\n",
       "      <td>1.195389</td>\n",
       "      <td>0.575</td>\n",
       "      <td>0.465</td>\n",
       "      <td>0.295</td>\n",
       "      <td>0.155</td>\n",
       "      <td>0.125</td>\n",
       "      <td>0.030</td>\n",
       "    </tr>\n",
       "    <tr>\n",
       "      <th>8</th>\n",
       "      <td>2916</td>\n",
       "      <td>238</td>\n",
       "      <td>4</td>\n",
       "      <td>GAA</td>\n",
       "      <td>2.588265</td>\n",
       "      <td>0.515</td>\n",
       "      <td>0.400</td>\n",
       "      <td>0.410</td>\n",
       "      <td>0.450</td>\n",
       "      <td>0.445</td>\n",
       "      <td>0.465</td>\n",
       "    </tr>\n",
       "    <tr>\n",
       "      <th>9</th>\n",
       "      <td>2916</td>\n",
       "      <td>238</td>\n",
       "      <td>4</td>\n",
       "      <td>CCG</td>\n",
       "      <td>2.658506</td>\n",
       "      <td>0.485</td>\n",
       "      <td>0.600</td>\n",
       "      <td>0.590</td>\n",
       "      <td>0.550</td>\n",
       "      <td>0.555</td>\n",
       "      <td>0.535</td>\n",
       "    </tr>\n",
       "    <tr>\n",
       "      <th>10</th>\n",
       "      <td>3531</td>\n",
       "      <td>93</td>\n",
       "      <td>5</td>\n",
       "      <td>CAT</td>\n",
       "      <td>4.845959</td>\n",
       "      <td>0.455</td>\n",
       "      <td>0.550</td>\n",
       "      <td>0.680</td>\n",
       "      <td>0.800</td>\n",
       "      <td>0.790</td>\n",
       "      <td>0.935</td>\n",
       "    </tr>\n",
       "    <tr>\n",
       "      <th>11</th>\n",
       "      <td>3531</td>\n",
       "      <td>93</td>\n",
       "      <td>5</td>\n",
       "      <td>CGT</td>\n",
       "      <td>4.393987</td>\n",
       "      <td>0.545</td>\n",
       "      <td>0.450</td>\n",
       "      <td>0.320</td>\n",
       "      <td>0.200</td>\n",
       "      <td>0.210</td>\n",
       "      <td>0.065</td>\n",
       "    </tr>\n",
       "    <tr>\n",
       "      <th>12</th>\n",
       "      <td>4141</td>\n",
       "      <td>703</td>\n",
       "      <td>5</td>\n",
       "      <td>CCA</td>\n",
       "      <td>2.365129</td>\n",
       "      <td>0.525</td>\n",
       "      <td>0.465</td>\n",
       "      <td>0.210</td>\n",
       "      <td>0.105</td>\n",
       "      <td>0.015</td>\n",
       "      <td>0.000</td>\n",
       "    </tr>\n",
       "    <tr>\n",
       "      <th>13</th>\n",
       "      <td>4141</td>\n",
       "      <td>703</td>\n",
       "      <td>5</td>\n",
       "      <td>TTA</td>\n",
       "      <td>2.918960</td>\n",
       "      <td>0.475</td>\n",
       "      <td>0.535</td>\n",
       "      <td>0.790</td>\n",
       "      <td>0.895</td>\n",
       "      <td>0.985</td>\n",
       "      <td>1.000</td>\n",
       "    </tr>\n",
       "    <tr>\n",
       "      <th>14</th>\n",
       "      <td>5727</td>\n",
       "      <td>252</td>\n",
       "      <td>8</td>\n",
       "      <td>TTG</td>\n",
       "      <td>2.650385</td>\n",
       "      <td>0.525</td>\n",
       "      <td>0.810</td>\n",
       "      <td>0.935</td>\n",
       "      <td>0.980</td>\n",
       "      <td>1.000</td>\n",
       "      <td>1.000</td>\n",
       "    </tr>\n",
       "    <tr>\n",
       "      <th>15</th>\n",
       "      <td>5727</td>\n",
       "      <td>252</td>\n",
       "      <td>8</td>\n",
       "      <td>CCG</td>\n",
       "      <td>1.258026</td>\n",
       "      <td>0.475</td>\n",
       "      <td>0.190</td>\n",
       "      <td>0.065</td>\n",
       "      <td>0.020</td>\n",
       "      <td>0.000</td>\n",
       "      <td>0.000</td>\n",
       "    </tr>\n",
       "    <tr>\n",
       "      <th>16</th>\n",
       "      <td>6917</td>\n",
       "      <td>97</td>\n",
       "      <td>10</td>\n",
       "      <td>ACC</td>\n",
       "      <td>2.845500</td>\n",
       "      <td>0.535</td>\n",
       "      <td>0.055</td>\n",
       "      <td>0.000</td>\n",
       "      <td>0.000</td>\n",
       "      <td>0.000</td>\n",
       "      <td>0.000</td>\n",
       "    </tr>\n",
       "    <tr>\n",
       "      <th>17</th>\n",
       "      <td>6917</td>\n",
       "      <td>97</td>\n",
       "      <td>10</td>\n",
       "      <td>ATT</td>\n",
       "      <td>5.035849</td>\n",
       "      <td>0.465</td>\n",
       "      <td>0.945</td>\n",
       "      <td>1.000</td>\n",
       "      <td>1.000</td>\n",
       "      <td>1.000</td>\n",
       "      <td>1.000</td>\n",
       "    </tr>\n",
       "    <tr>\n",
       "      <th>18</th>\n",
       "      <td>7107</td>\n",
       "      <td>287</td>\n",
       "      <td>10</td>\n",
       "      <td>AGT</td>\n",
       "      <td>0.429801</td>\n",
       "      <td>0.530</td>\n",
       "      <td>0.160</td>\n",
       "      <td>0.040</td>\n",
       "      <td>0.025</td>\n",
       "      <td>0.010</td>\n",
       "      <td>0.000</td>\n",
       "    </tr>\n",
       "    <tr>\n",
       "      <th>19</th>\n",
       "      <td>7107</td>\n",
       "      <td>287</td>\n",
       "      <td>10</td>\n",
       "      <td>TAT</td>\n",
       "      <td>1.680988</td>\n",
       "      <td>0.470</td>\n",
       "      <td>0.840</td>\n",
       "      <td>0.960</td>\n",
       "      <td>0.975</td>\n",
       "      <td>0.990</td>\n",
       "      <td>1.000</td>\n",
       "    </tr>\n",
       "  </tbody>\n",
       "</table>\n",
       "</div>"
      ]
     },
     "metadata": {},
     "output_type": "execute_result"
    }
   ],
   "source": [
    "sel_haplotype_table"
   ]
  },
  {
   "cell_type": "markdown",
   "metadata": {},
   "source": [
    "### Population Subjected to Drift ###"
   ]
  },
  {
   "cell_type": "code",
   "execution_count": 18,
   "metadata": {
    "collapsed": true
   },
   "outputs": [],
   "source": [
    "drift_htypes = helpers.collect_haplotype_data(drift_meta, allele_effects, triplet_qtl)"
   ]
  },
  {
   "cell_type": "code",
   "execution_count": 19,
   "metadata": {
    "collapsed": true
   },
   "outputs": [],
   "source": [
    "drift_haplotype_table = helpers.generate_haplotype_data_table(drift_meta, drift_htypes)"
   ]
  },
  {
   "cell_type": "code",
   "execution_count": 20,
   "metadata": {
    "collapsed": false
   },
   "outputs": [
    {
     "data": {
      "text/html": [
       "<div>\n",
       "<table border=\"1\" class=\"dataframe\">\n",
       "  <thead>\n",
       "    <tr style=\"text-align: right;\">\n",
       "      <th></th>\n",
       "      <th>centered_on</th>\n",
       "      <th>relative_position</th>\n",
       "      <th>chromosome</th>\n",
       "      <th>haplotype</th>\n",
       "      <th>effect</th>\n",
       "      <th>G_0</th>\n",
       "      <th>G_2</th>\n",
       "      <th>G_4</th>\n",
       "      <th>G_6</th>\n",
       "      <th>G_8</th>\n",
       "      <th>G_10</th>\n",
       "    </tr>\n",
       "  </thead>\n",
       "  <tbody>\n",
       "    <tr>\n",
       "      <th>0</th>\n",
       "      <td>359</td>\n",
       "      <td>359</td>\n",
       "      <td>1</td>\n",
       "      <td>AGA</td>\n",
       "      <td>1.660188</td>\n",
       "      <td>0.465</td>\n",
       "      <td>0.445</td>\n",
       "      <td>0.475</td>\n",
       "      <td>0.525</td>\n",
       "      <td>0.415</td>\n",
       "      <td>0.345</td>\n",
       "    </tr>\n",
       "    <tr>\n",
       "      <th>1</th>\n",
       "      <td>359</td>\n",
       "      <td>359</td>\n",
       "      <td>1</td>\n",
       "      <td>GCA</td>\n",
       "      <td>0.581080</td>\n",
       "      <td>0.535</td>\n",
       "      <td>0.555</td>\n",
       "      <td>0.525</td>\n",
       "      <td>0.475</td>\n",
       "      <td>0.585</td>\n",
       "      <td>0.655</td>\n",
       "    </tr>\n",
       "    <tr>\n",
       "      <th>2</th>\n",
       "      <td>1701</td>\n",
       "      <td>648</td>\n",
       "      <td>2</td>\n",
       "      <td>CGC</td>\n",
       "      <td>1.407411</td>\n",
       "      <td>0.520</td>\n",
       "      <td>0.570</td>\n",
       "      <td>0.645</td>\n",
       "      <td>0.555</td>\n",
       "      <td>0.570</td>\n",
       "      <td>0.625</td>\n",
       "    </tr>\n",
       "    <tr>\n",
       "      <th>3</th>\n",
       "      <td>1701</td>\n",
       "      <td>648</td>\n",
       "      <td>2</td>\n",
       "      <td>CCC</td>\n",
       "      <td>0.960728</td>\n",
       "      <td>0.480</td>\n",
       "      <td>0.430</td>\n",
       "      <td>0.355</td>\n",
       "      <td>0.445</td>\n",
       "      <td>0.430</td>\n",
       "      <td>0.375</td>\n",
       "    </tr>\n",
       "    <tr>\n",
       "      <th>4</th>\n",
       "      <td>1951</td>\n",
       "      <td>91</td>\n",
       "      <td>3</td>\n",
       "      <td>+CG</td>\n",
       "      <td>2.106819</td>\n",
       "      <td>0.435</td>\n",
       "      <td>0.475</td>\n",
       "      <td>0.395</td>\n",
       "      <td>0.440</td>\n",
       "      <td>0.380</td>\n",
       "      <td>0.310</td>\n",
       "    </tr>\n",
       "    <tr>\n",
       "      <th>5</th>\n",
       "      <td>1951</td>\n",
       "      <td>91</td>\n",
       "      <td>3</td>\n",
       "      <td>+TG</td>\n",
       "      <td>0.882981</td>\n",
       "      <td>0.565</td>\n",
       "      <td>0.525</td>\n",
       "      <td>0.605</td>\n",
       "      <td>0.560</td>\n",
       "      <td>0.620</td>\n",
       "      <td>0.690</td>\n",
       "    </tr>\n",
       "    <tr>\n",
       "      <th>6</th>\n",
       "      <td>2346</td>\n",
       "      <td>486</td>\n",
       "      <td>3</td>\n",
       "      <td>CTG</td>\n",
       "      <td>1.694970</td>\n",
       "      <td>0.485</td>\n",
       "      <td>0.535</td>\n",
       "      <td>0.495</td>\n",
       "      <td>0.470</td>\n",
       "      <td>0.480</td>\n",
       "      <td>0.455</td>\n",
       "    </tr>\n",
       "    <tr>\n",
       "      <th>7</th>\n",
       "      <td>2346</td>\n",
       "      <td>486</td>\n",
       "      <td>3</td>\n",
       "      <td>CCG</td>\n",
       "      <td>1.195389</td>\n",
       "      <td>0.515</td>\n",
       "      <td>0.465</td>\n",
       "      <td>0.505</td>\n",
       "      <td>0.530</td>\n",
       "      <td>0.520</td>\n",
       "      <td>0.545</td>\n",
       "    </tr>\n",
       "    <tr>\n",
       "      <th>8</th>\n",
       "      <td>2916</td>\n",
       "      <td>238</td>\n",
       "      <td>4</td>\n",
       "      <td>GAA</td>\n",
       "      <td>2.588265</td>\n",
       "      <td>0.455</td>\n",
       "      <td>0.535</td>\n",
       "      <td>0.490</td>\n",
       "      <td>0.545</td>\n",
       "      <td>0.535</td>\n",
       "      <td>0.490</td>\n",
       "    </tr>\n",
       "    <tr>\n",
       "      <th>9</th>\n",
       "      <td>2916</td>\n",
       "      <td>238</td>\n",
       "      <td>4</td>\n",
       "      <td>CCG</td>\n",
       "      <td>2.658506</td>\n",
       "      <td>0.545</td>\n",
       "      <td>0.465</td>\n",
       "      <td>0.510</td>\n",
       "      <td>0.455</td>\n",
       "      <td>0.465</td>\n",
       "      <td>0.510</td>\n",
       "    </tr>\n",
       "    <tr>\n",
       "      <th>10</th>\n",
       "      <td>3531</td>\n",
       "      <td>93</td>\n",
       "      <td>5</td>\n",
       "      <td>CAT</td>\n",
       "      <td>4.845959</td>\n",
       "      <td>0.425</td>\n",
       "      <td>0.585</td>\n",
       "      <td>0.490</td>\n",
       "      <td>0.480</td>\n",
       "      <td>0.465</td>\n",
       "      <td>0.530</td>\n",
       "    </tr>\n",
       "    <tr>\n",
       "      <th>11</th>\n",
       "      <td>3531</td>\n",
       "      <td>93</td>\n",
       "      <td>5</td>\n",
       "      <td>CGT</td>\n",
       "      <td>4.393987</td>\n",
       "      <td>0.575</td>\n",
       "      <td>0.415</td>\n",
       "      <td>0.510</td>\n",
       "      <td>0.520</td>\n",
       "      <td>0.535</td>\n",
       "      <td>0.470</td>\n",
       "    </tr>\n",
       "    <tr>\n",
       "      <th>12</th>\n",
       "      <td>4141</td>\n",
       "      <td>703</td>\n",
       "      <td>5</td>\n",
       "      <td>CCA</td>\n",
       "      <td>2.365129</td>\n",
       "      <td>0.575</td>\n",
       "      <td>0.455</td>\n",
       "      <td>0.350</td>\n",
       "      <td>0.515</td>\n",
       "      <td>0.330</td>\n",
       "      <td>0.445</td>\n",
       "    </tr>\n",
       "    <tr>\n",
       "      <th>13</th>\n",
       "      <td>4141</td>\n",
       "      <td>703</td>\n",
       "      <td>5</td>\n",
       "      <td>TTA</td>\n",
       "      <td>2.918960</td>\n",
       "      <td>0.425</td>\n",
       "      <td>0.545</td>\n",
       "      <td>0.650</td>\n",
       "      <td>0.485</td>\n",
       "      <td>0.670</td>\n",
       "      <td>0.555</td>\n",
       "    </tr>\n",
       "    <tr>\n",
       "      <th>14</th>\n",
       "      <td>5727</td>\n",
       "      <td>252</td>\n",
       "      <td>8</td>\n",
       "      <td>TTG</td>\n",
       "      <td>2.650385</td>\n",
       "      <td>0.530</td>\n",
       "      <td>0.455</td>\n",
       "      <td>0.585</td>\n",
       "      <td>0.605</td>\n",
       "      <td>0.575</td>\n",
       "      <td>0.630</td>\n",
       "    </tr>\n",
       "    <tr>\n",
       "      <th>15</th>\n",
       "      <td>5727</td>\n",
       "      <td>252</td>\n",
       "      <td>8</td>\n",
       "      <td>CCG</td>\n",
       "      <td>1.258026</td>\n",
       "      <td>0.470</td>\n",
       "      <td>0.545</td>\n",
       "      <td>0.415</td>\n",
       "      <td>0.395</td>\n",
       "      <td>0.425</td>\n",
       "      <td>0.370</td>\n",
       "    </tr>\n",
       "    <tr>\n",
       "      <th>16</th>\n",
       "      <td>6917</td>\n",
       "      <td>97</td>\n",
       "      <td>10</td>\n",
       "      <td>ACC</td>\n",
       "      <td>2.845500</td>\n",
       "      <td>0.535</td>\n",
       "      <td>0.575</td>\n",
       "      <td>0.650</td>\n",
       "      <td>0.555</td>\n",
       "      <td>0.510</td>\n",
       "      <td>0.490</td>\n",
       "    </tr>\n",
       "    <tr>\n",
       "      <th>17</th>\n",
       "      <td>6917</td>\n",
       "      <td>97</td>\n",
       "      <td>10</td>\n",
       "      <td>ATT</td>\n",
       "      <td>5.035849</td>\n",
       "      <td>0.465</td>\n",
       "      <td>0.425</td>\n",
       "      <td>0.350</td>\n",
       "      <td>0.445</td>\n",
       "      <td>0.490</td>\n",
       "      <td>0.510</td>\n",
       "    </tr>\n",
       "    <tr>\n",
       "      <th>18</th>\n",
       "      <td>7107</td>\n",
       "      <td>287</td>\n",
       "      <td>10</td>\n",
       "      <td>AGT</td>\n",
       "      <td>0.429801</td>\n",
       "      <td>0.465</td>\n",
       "      <td>0.510</td>\n",
       "      <td>0.455</td>\n",
       "      <td>0.555</td>\n",
       "      <td>0.570</td>\n",
       "      <td>0.620</td>\n",
       "    </tr>\n",
       "    <tr>\n",
       "      <th>19</th>\n",
       "      <td>7107</td>\n",
       "      <td>287</td>\n",
       "      <td>10</td>\n",
       "      <td>TAT</td>\n",
       "      <td>1.680988</td>\n",
       "      <td>0.535</td>\n",
       "      <td>0.490</td>\n",
       "      <td>0.545</td>\n",
       "      <td>0.445</td>\n",
       "      <td>0.430</td>\n",
       "      <td>0.380</td>\n",
       "    </tr>\n",
       "  </tbody>\n",
       "</table>\n",
       "</div>"
      ]
     },
     "metadata": {},
     "output_type": "execute_result"
    }
   ],
   "source": [
    "drift_haplotype_table"
   ]
  },
  {
   "cell_type": "code",
   "execution_count": 95,
   "metadata": {
    "collapsed": false
   },
   "outputs": [
    {
     "data": {
      "text/plain": [
       "<module 'saegus.helpers' from 'c:\\\\Anaconda3\\\\lib\\\\site-packages\\\\saegus\\\\helpers.py'>"
      ]
     },
     "execution_count": 95,
     "metadata": {},
     "output_type": "execute_result"
    }
   ],
   "source": [
    "import importlib as imp\n",
    "imp.reload(helpers)"
   ]
  },
  {
   "cell_type": "code",
   "execution_count": 97,
   "metadata": {
    "collapsed": true
   },
   "outputs": [],
   "source": [
    "sel_plot_data = helpers.plot_frequency_vs_effect(selection_meta, sel_haplotype_table, \n",
    "                                                 'Haplotype Frequencies Under Selection',\n",
    "                                                 'Selection_Haplotypes.pdf')"
   ]
  },
  {
   "cell_type": "code",
   "execution_count": 98,
   "metadata": {
    "collapsed": true
   },
   "outputs": [],
   "source": [
    "drift_plot_data = helpers.plot_frequency_vs_effect(drift_meta, drift_haplotype_table, \n",
    "                                                   'Haplotype Frequencies Under Drift',\n",
    "                                                   'Drift_Haplotypes.pdf')"
   ]
  },
  {
   "cell_type": "code",
   "execution_count": 99,
   "metadata": {
    "collapsed": true
   },
   "outputs": [],
   "source": []
  },
  {
   "cell_type": "code",
   "execution_count": 101,
   "metadata": {
    "collapsed": true
   },
   "outputs": [],
   "source": [
    "df_columns = ['chrom', 'start', 'end', 'color', 'width']"
   ]
  },
  {
   "cell_type": "code",
   "execution_count": 102,
   "metadata": {
    "collapsed": true
   },
   "outputs": [],
   "source": [
    "df = pd.DataFrame(columns=df_columns)"
   ]
  },
  {
   "cell_type": "code",
   "execution_count": 103,
   "metadata": {
    "collapsed": false
   },
   "outputs": [
    {
     "data": {
      "text/html": [
       "<div>\n",
       "<table border=\"1\" class=\"dataframe\">\n",
       "  <thead>\n",
       "    <tr style=\"text-align: right;\">\n",
       "      <th></th>\n",
       "      <th>chrom</th>\n",
       "      <th>start</th>\n",
       "      <th>end</th>\n",
       "      <th>color</th>\n",
       "      <th>width</th>\n",
       "    </tr>\n",
       "  </thead>\n",
       "  <tbody>\n",
       "  </tbody>\n",
       "</table>\n",
       "</div>"
      ]
     },
     "metadata": {},
     "output_type": "execute_result"
    }
   ],
   "source": [
    "df"
   ]
  },
  {
   "cell_type": "code",
   "execution_count": null,
   "metadata": {
    "collapsed": true
   },
   "outputs": [],
   "source": []
  }
 ],
 "metadata": {
  "kernelspec": {
   "display_name": "Python 3",
   "language": "python",
   "name": "python3"
  },
  "language_info": {
   "codemirror_mode": {
    "name": "ipython",
    "version": 3
   },
   "file_extension": ".py",
   "mimetype": "text/x-python",
   "name": "python",
   "nbconvert_exporter": "python",
   "pygments_lexer": "ipython3",
   "version": "3.4.3"
  }
 },
 "nbformat": 4,
 "nbformat_minor": 0
}
