{
 "cells": [
  {
   "cell_type": "markdown",
   "metadata": {},
   "source": [
    "# Simulating a Population for Use in GWAS #"
   ]
  },
  {
   "cell_type": "markdown",
   "metadata": {},
   "source": [
    "### Population Parameters ###"
   ]
  },
  {
   "cell_type": "code",
   "execution_count": 1,
   "metadata": {
    "collapsed": true
   },
   "outputs": [],
   "source": [
    "%matplotlib inline\n",
    "import shelve\n",
    "import simuOpt\n",
    "simuOpt.setOptions(alleleType='short', numThreads=4, quiet=True)\n",
    "import simuPOP as sim\n",
    "import pandas as pd\n",
    "import collections as col\n",
    "from saegus import breed, operators, selection, helpers, parser, parameterizer, selection\n",
    "import random\n",
    "#random.seed(1337)\n",
    "import numpy as np\n",
    "np.set_printoptions(suppress=True, precision=3)\n",
    "import matplotlib.pyplot as plt"
   ]
  },
  {
   "cell_type": "code",
   "execution_count": 2,
   "metadata": {
    "collapsed": true
   },
   "outputs": [],
   "source": [
    "hapmap = pd.read_csv('clean_hapmap.txt')\n",
    "genetic_map = hapmap.ix[:, :'cM_pos']\n",
    "genetic_map = pd.read_csv('nam_prefounders_genetic_map.txt', index_col=None,\n",
    "                         sep='\\t')\n",
    "\n",
    "chr_cM_positions = {}\n",
    "for i in range(1, 11):\n",
    "    chr_cM_positions[i] = []\n",
    "\n",
    "for idx in range(len(genetic_map)):\n",
    "    chr_cM_positions[int(genetic_map.iloc[idx]['chr'])].append(\n",
    "    float(genetic_map.iloc[idx]['cM_pos']))\n",
    "\n",
    "\n",
    "cM_positions = []\n",
    "for i in range(1, 11):\n",
    "    cM_positions.append(chr_cM_positions[i])\n",
    "\n",
    "\n",
    "snp_to_integer = {'A': 0, 'C': 1, 'G': 2, 'T': 3, '-':4, '+':5}\n",
    "allele_names = ['A', 'C', 'T', 'G', 'D', 'I']\n",
    "integer_to_snp = {0: 'A', 1:'C', 2: 'G', 3: 'T', 4: '-', 5: '+'}\n",
    "\n",
    "\n",
    "integral_valued_loci = []\n",
    "relative_integral_valued_loci = {}\n",
    "for idx in range(len(genetic_map)):\n",
    "    if str(genetic_map.iloc[idx]['cM_pos'])[-2:] == '.0':\n",
    "        integral_valued_loci.append(idx)\n",
    "        relative_integral_valued_loci[idx] = (genetic_map.iloc[idx]['chr'], genetic_map.iloc[idx]['cM_pos'])\n",
    "\n",
    "alleles = {i: (snp_to_integer[hapmap.ix[i, 'alleles'][0]], \n",
    "               snp_to_integer[hapmap.ix[i, 'alleles'][-1]]) for i in\n",
    "          range(len(hapmap))}\n",
    "\n",
    "recombination_rates = []\n",
    "for chromosome in cM_positions:\n",
    "    for cM in chromosome:\n",
    "        if str(cM)[-2:] == '.6':\n",
    "            recombination_rates.append(0.01)\n",
    "        else:\n",
    "            recombination_rates.append(0.0)\n",
    "\n",
    "allele_names = ['A', 'C', 'T', 'G', 'D', 'I']\n",
    "\n",
    "flat_cM_positions = []\n",
    "for cMs in cM_positions:\n",
    "    flat_cM_positions.extend(cMs)\n",
    "\n",
    "\n",
    "nam = sim.loadPopulation('nam_prefounders.pop')\n",
    "nam.setSubPopName('prefounders', 0)\n",
    "sample_sizes = {i: 100 for i in range(0, 21, 2)}\n",
    "\n",
    "genetic_structure = {}\n",
    "genetic_structure['cM_positions'] = cM_positions\n",
    "genetic_structure['chr_cM_positions'] = chr_cM_positions\n",
    "genetic_structure['allele_names'] = allele_names\n",
    "genetic_structure['integral_valued_loci'] = integral_valued_loci\n",
    "genetic_structure['relative_integral_valued_loci'] = relative_integral_valued_loci\n",
    "genetic_structure['alleles'] = alleles\n",
    "genetic_structure['recombination_rates'] = recombination_rates"
   ]
  },
  {
   "cell_type": "code",
   "execution_count": 3,
   "metadata": {
    "collapsed": true
   },
   "outputs": [],
   "source": [
    "sim_params = {\n",
    "                'generations_of_selection': 10,\n",
    "                'generations_of_drift': 10,\n",
    "                'generations_of_random_mating': 3,\n",
    "                'operating_population_size': 2000,\n",
    "                'proportion_of_individuals_saved': 0.05,\n",
    "                'overshoot_as_proportion': 0.50,\n",
    "                'individuals_per_breeding_subpop': 5,\n",
    "                'heritability': 0.7,\n",
    "                'meta_pop_sample_sizes': sample_sizes,\n",
    "                'number_of_replicates': 1,\n",
    "                'prefounder_file_name': 'nam_prefounders.pop',\n",
    "                'founders': [(3,18), (2, 13), (7, 14), (1, 19),\n",
    "                            (14, 17), (1, 20), (17, 21), (9, 22)]\n",
    "    }"
   ]
  },
  {
   "cell_type": "code",
   "execution_count": 4,
   "metadata": {
    "collapsed": true
   },
   "outputs": [],
   "source": [
    "qtl_params = {\n",
    "                'qtl': 10,\n",
    "                'allele_effects': 1,\n",
    "}\n",
    "selection_statistics = {\n",
    "    'aggregate': {},\n",
    "    'selected': {},\n",
    "    'non-selected': {}\n",
    "}\n",
    "drift_statistics = {\n",
    "    'aggregate': {},\n",
    "    'selected': {},\n",
    "    'non-selected': {}\n",
    "}"
   ]
  },
  {
   "cell_type": "code",
   "execution_count": 5,
   "metadata": {
    "collapsed": true
   },
   "outputs": [],
   "source": [
    "s = selection.Truncation(sim_params['generations_of_selection'],\n",
    "                       sim_params['generations_of_random_mating'],\n",
    "                       sim_params['operating_population_size'],\n",
    "                       sim_params['proportion_of_individuals_saved'],\n",
    "                       sim_params['overshoot_as_proportion'],\n",
    "                       sim_params['individuals_per_breeding_subpop'],\n",
    "                       sim_params['heritability'],\n",
    "                       sim_params['meta_pop_sample_sizes'],\n",
    "                       sim_params['number_of_replicates'])\n",
    "\n",
    "d = selection.Drift(sim_params['generations_of_drift'],\n",
    "                       sim_params['generations_of_random_mating'],\n",
    "                       sim_params['operating_population_size'],\n",
    "                       sim_params['proportion_of_individuals_saved'],\n",
    "                       sim_params['overshoot_as_proportion'],\n",
    "                       sim_params['individuals_per_breeding_subpop'],\n",
    "                       sim_params['heritability'],\n",
    "                       sim_params['meta_pop_sample_sizes'],\n",
    "                       sim_params['number_of_replicates'])"
   ]
  },
  {
   "cell_type": "code",
   "execution_count": 6,
   "metadata": {
    "collapsed": true
   },
   "outputs": [],
   "source": [
    "sim.tagID(nam, reset=True)\n",
    "\n",
    "founders = sim_params['founders']\n",
    "replicated_nam = sim.Simulator(nam, rep=3)\n",
    "pop = replicated_nam.extract(0)\n",
    "#pop.dvars().statistics = population_statistics\n",
    "selection_meta = replicated_nam.extract(0)\n",
    "drift_meta = replicated_nam.extract(0)\n",
    "#meta.removeSubPops(0)"
   ]
  },
  {
   "cell_type": "markdown",
   "metadata": {},
   "source": [
    "### Simulated Breeding Scenario ###"
   ]
  },
  {
   "cell_type": "code",
   "execution_count": 7,
   "metadata": {
    "collapsed": false
   },
   "outputs": [
    {
     "name": "stdout",
     "output_type": "stream",
     "text": [
      "Creating the F_one population from selected founders.\n",
      "Generation: 0\n"
     ]
    }
   ],
   "source": [
    "s.generate_f_one(pop, recombination_rates, sim_params['founders'])"
   ]
  },
  {
   "cell_type": "code",
   "execution_count": 8,
   "metadata": {
    "collapsed": false
   },
   "outputs": [
    {
     "name": "stdout",
     "output_type": "stream",
     "text": [
      "Generation: 1\tpopSize: 8\n",
      "Generation: 2\tpopSize: 4\n",
      "Generation: 3\tpopSize: 2\n"
     ]
    }
   ],
   "source": [
    "s.recombinatorial_convergence(pop, recombination_rates)"
   ]
  },
  {
   "cell_type": "code",
   "execution_count": 9,
   "metadata": {
    "collapsed": false
   },
   "outputs": [
    {
     "name": "stdout",
     "output_type": "stream",
     "text": [
      "Creating the F_two population.\n",
      "Generation: 4\n",
      "Initiating interim random mating for 3 generations.\n",
      "Generation: 5\n",
      "Generation: 6\n",
      "Generation: 7\n"
     ]
    }
   ],
   "source": [
    "s.expand_by_selfing(pop, recombination_rates)\n",
    "s.interim_random_mating(pop, recombination_rates)\n",
    "sim.stat(pop, numOfSegSites=integral_valued_loci, vars=['numOfSegSites', 'segSites'])"
   ]
  },
  {
   "cell_type": "code",
   "execution_count": 10,
   "metadata": {
    "collapsed": true
   },
   "outputs": [],
   "source": [
    "run_id = \"run_11_\""
   ]
  },
  {
   "cell_type": "markdown",
   "metadata": {},
   "source": [
    "## Choose QTL and Assign Effects ##"
   ]
  },
  {
   "cell_type": "code",
   "execution_count": 11,
   "metadata": {
    "collapsed": true
   },
   "outputs": [],
   "source": [
    "qtl = parameterizer.seg_qtl_chooser(pop, integral_valued_loci, qtl_params['qtl'])\n",
    "\n",
    "triplet_qtl = []\n",
    "for locus in qtl:\n",
    "    triplet_qtl.append(locus-1)\n",
    "    triplet_qtl.append(locus)\n",
    "    triplet_qtl.append(locus+1)\n",
    "triplet_qtl = sorted(triplet_qtl)\n",
    "\n",
    "qtl_params['triplet_qtl'] = triplet_qtl\n",
    "\n",
    "allele_effects = {locus: {} for locus in triplet_qtl}\n",
    "for tqtl in triplet_qtl:\n",
    "    for allele in alleles[tqtl]:\n",
    "        allele_effects[tqtl][allele] = random.expovariate(qtl_params['allele_effects'])\n",
    "\n",
    "qtl_params['allele_effects'] = allele_effects\n",
    "        \n",
    "\n",
    "\n",
    "# Write parameter sets to a 'shelf'.\n",
    "import shelve\n",
    "with shelve.open(run_id+\"quantitative_trait_simulation_params\") as qtdb:\n",
    "    qtdb['qtl_params'] = qtl_params\n",
    "    qtdb['sim_params'] = sim_params\n",
    "\n",
    "rsparams = shelve.open(\"RS_Parameter_Sets\")\n",
    "rsparams['truncation'] = s\n",
    "rsparams['drift'] = d\n",
    "rsparams['seg_sites_after_rmating'] = list(pop.dvars().segSites)\n",
    "rsparams['qtl_parameters'] = qtl_params\n",
    "rsparams['simulation_parameters'] = sim_params\n",
    "    \n",
    "pop.dvars().qtl = qtl\n",
    "pop.dvars().triplet_qtl = triplet_qtl\n",
    "pop.dvars().allele_effects = allele_effects\n",
    "\n",
    "selection_plus_drift_replicates = sim.Simulator(pop, rep=2)\n",
    "selection_pop = selection_plus_drift_replicates.extract(0)\n",
    "drift_pop = selection_plus_drift_replicates.extract(0)"
   ]
  },
  {
   "cell_type": "code",
   "execution_count": 12,
   "metadata": {
    "collapsed": true
   },
   "outputs": [],
   "source": [
    "selection_pop.dvars().statistics = selection_statistics\n",
    "drift_pop.dvars().statistics = drift_statistics"
   ]
  },
  {
   "cell_type": "code",
   "execution_count": 13,
   "metadata": {
    "collapsed": false
   },
   "outputs": [
    {
     "name": "stdout",
     "output_type": "stream",
     "text": [
      "Initial: Sampled 100 individuals from generation 0 Replicate: 0.\n",
      "Generation: 0\n",
      "Generation: 1\n",
      "Generation: 2\n",
      "Generation: 3\n",
      "Generation: 4\n",
      "Generation: 5\n",
      "Generation: 6\n",
      "Generation: 7\n",
      "Generation: 8\n",
      "Generation: 9\n",
      "Final: Sampled 100 individuals from generation 10\n",
      "Initial: Sampled 100 individuals from generation 0 Replicate: 0.\n",
      "Generation: 0\n",
      "Generation: 1\n",
      "Generation: 2\n",
      "Generation: 3\n",
      "Generation: 4\n",
      "Generation: 5\n",
      "Generation: 6\n",
      "Generation: 7\n",
      "Generation: 8\n",
      "Generation: 9\n",
      "Final: Sampled 100 individuals from generation 10\n"
     ]
    },
    {
     "data": {
      "text/plain": [
       "0"
      ]
     },
     "execution_count": 13,
     "metadata": {},
     "output_type": "execute_result"
    }
   ],
   "source": [
    "s.recurrent_truncation_selection(selection_pop, selection_meta, triplet_qtl, allele_effects,\n",
    "                                recombination_rates)\n",
    "\n",
    "d.recurrent_drift_selection(drift_pop, drift_meta, triplet_qtl, allele_effects, \n",
    "                            recombination_rates)\n",
    "                                \n",
    "selection_meta.removeSubPops(0)\n",
    "drift_meta.removeSubPops(0)\n",
    "\n",
    "selection_qtd = helpers.Frq(selection_meta, triplet_qtl, alleles, allele_effects)\n",
    "drift_qtd = helpers.Frq(drift_meta, triplet_qtl, alleles, allele_effects)\n",
    "\n",
    "\n",
    "selection_af = selection_qtd.allele_frequencies(selection_meta, range(selection_meta.totNumLoci()))\n",
    "drift_af = drift_qtd.allele_frequencies(drift_meta, range(drift_meta.totNumLoci()))\n",
    "selection_qtalleles = selection_qtd.rank_allele_effects(selection_meta, triplet_qtl, alleles, allele_effects)\n",
    "drift_qtalleles = drift_qtd.rank_allele_effects(drift_meta, triplet_qtl, alleles, allele_effects)\n",
    "selection_ties = [locus for locus in range(selection_meta.totNumLoci()) \n",
    "                  if selection_af['minor', 'alleles'][locus] == selection_af['major', 'alleles'][locus]]\n",
    "drift_ties = [locus for locus in range(drift_meta.totNumLoci())\n",
    "                  if drift_af['minor', 'alleles'][locus] == drift_af['major', 'alleles'][locus]]\n",
    "\n",
    "for st in selection_ties:\n",
    "    selection_af['major', 'alleles'][st] = list(selection_meta.dvars().alleleFreq[st])[0]\n",
    "    selection_af['major', 'alleles'][st] = list(selection_meta.dvars().alleleFreq[st])[1]\n",
    "for dt in drift_ties:\n",
    "    drift_af['minor', 'alleles'][dt] = list(drift_meta.dvars().alleleFreq[dt])[0]\n",
    "    drift_af['major', 'alleles'][dt] = list(drift_meta.dvars().alleleFreq[dt])[1]\n",
    "sum(np.equal(list(selection_af['minor', 'alleles'].values()), list(selection_af['major', 'alleles'].values())))\n",
    "sum(np.equal(list(drift_af['minor', 'alleles'].values()), list(drift_af['major', 'alleles'].values())))"
   ]
  },
  {
   "cell_type": "markdown",
   "metadata": {},
   "source": [
    "## Handling Haplotype Data ##"
   ]
  },
  {
   "cell_type": "code",
   "execution_count": 107,
   "metadata": {
    "collapsed": false
   },
   "outputs": [],
   "source": [
    "htypes = {}\n",
    "htypes['loci'] = {}\n",
    "for k, i in enumerate(range(0, len(triplet_qtl), 3)):\n",
    "    htypes['loci'][k] = (triplet_qtl[i], triplet_qtl[i+1], triplet_qtl[i+2])\n",
    "\n",
    "\n",
    "htypes['alleles'] = {}\n",
    "htypes['effect'] = {}\n",
    "htypes['frequency'] = {}\n",
    "for loci in htypes['loci'].values():\n",
    "    htypes['frequency'][loci] = {}\n",
    "    for sp in range(selection_meta.numSubPop()):\n",
    "        htypes['frequency'][loci][sp] = {}"
   ]
  },
  {
   "cell_type": "code",
   "execution_count": 108,
   "metadata": {
    "collapsed": true
   },
   "outputs": [],
   "source": [
    "sim.stat(selection_meta, haploFreq=list(htypes['loci'].values()), vars=['haploFreq', 'haploFreq_sp'])"
   ]
  },
  {
   "cell_type": "code",
   "execution_count": 109,
   "metadata": {
    "collapsed": false
   },
   "outputs": [],
   "source": [
    "for k, v in htypes['loci'].items():\n",
    "    htypes['alleles'][v] = list(selection_meta.dvars(0).haploFreq[v].keys())"
   ]
  },
  {
   "cell_type": "code",
   "execution_count": 110,
   "metadata": {
    "collapsed": false
   },
   "outputs": [
    {
     "data": {
      "text/plain": [
       "{(788, 789, 790): [(1, 0, 3), (3, 2, 1)],\n",
       " (1210, 1211, 1212): [(0, 3, 0), (0, 1, 0)],\n",
       " (1540, 1541, 1542): [(1, 5, 4), (3, 4, 4)],\n",
       " (2120, 2121, 2122): [(3, 1, 2), (3, 3, 2)],\n",
       " (2975, 2976, 2977): [(1, 0, 0), (0, 2, 1)],\n",
       " (3555, 3556, 3557): [(2, 1, 1), (2, 0, 1)],\n",
       " (4922, 4923, 4924): [(3, 3, 4), (3, 1, 4)],\n",
       " (5447, 5448, 5449): [(3, 3, 3), (3, 1, 3)],\n",
       " (6502, 6503, 6504): [(2, 2, 1), (2, 1, 2)],\n",
       " (7026, 7027, 7028): [(2, 2, 2), (2, 0, 2)]}"
      ]
     },
     "execution_count": 110,
     "metadata": {},
     "output_type": "execute_result"
    }
   ],
   "source": [
    "htypes['alleles']"
   ]
  },
  {
   "cell_type": "code",
   "execution_count": 101,
   "metadata": {
    "collapsed": false
   },
   "outputs": [
    {
     "data": {
      "text/plain": [
       "{(788, 789, 790): [(1, 0, 3), (3, 2, 1)],\n",
       " (1210, 1211, 1212): [(0, 3, 0), (0, 1, 0)],\n",
       " (1540, 1541, 1542): [(1, 5, 4), (3, 4, 4)],\n",
       " (2120, 2121, 2122): [(3, 1, 2), (3, 3, 2)],\n",
       " (2975, 2976, 2977): [(1, 0, 0), (0, 2, 1)],\n",
       " (3555, 3556, 3557): [(2, 1, 1), (2, 0, 1)],\n",
       " (4922, 4923, 4924): [(3, 3, 4), (3, 1, 4)],\n",
       " (5447, 5448, 5449): [(3, 3, 3), (3, 1, 3)],\n",
       " (6502, 6503, 6504): [(2, 2, 1), (2, 1, 2)],\n",
       " (7026, 7027, 7028): [(2, 2, 2), (2, 0, 2)]}"
      ]
     },
     "execution_count": 101,
     "metadata": {},
     "output_type": "execute_result"
    }
   ],
   "source": [
    "htypes['alleles']"
   ]
  },
  {
   "cell_type": "code",
   "execution_count": 102,
   "metadata": {
    "collapsed": false
   },
   "outputs": [],
   "source": [
    "for sp in range(selection_meta.numSubPop()):\n",
    "    for loci, triplet in htypes['alleles'].items():\n",
    "        for alleles in triplet:\n",
    "            htypes['frequency'][loci][sp][alleles] = selection_meta.dvars(sp).haploFreq[loci][alleles]"
   ]
  },
  {
   "cell_type": "code",
   "execution_count": 114,
   "metadata": {
    "collapsed": true
   },
   "outputs": [],
   "source": [
    "for htype, triplets in htypes['alleles'].items():\n",
    "    htypes['effect'][htype] = {}\n",
    "    for trip in triplets:\n",
    "        htype_effect = allele_effects[htype[0]][trip[0]] +\\\n",
    "        allele_effects[htype[1]][trip[1]] +\\\n",
    "        allele_effects[htype[2]][trip[2]]\n",
    "        htypes['effect'][htype][trip] = htype_effect"
   ]
  },
  {
   "cell_type": "code",
   "execution_count": 122,
   "metadata": {
    "collapsed": false
   },
   "outputs": [
    {
     "data": {
      "text/plain": [
       "6.935105577032452"
      ]
     },
     "execution_count": 122,
     "metadata": {},
     "output_type": "execute_result"
    }
   ],
   "source": [
    "htypes['effect'][(788, 789, 790)][(1, 0, 3)]"
   ]
  },
  {
   "cell_type": "code",
   "execution_count": 123,
   "metadata": {
    "collapsed": false
   },
   "outputs": [
    {
     "data": {
      "text/plain": [
       "6.935105577032452"
      ]
     },
     "execution_count": 123,
     "metadata": {},
     "output_type": "execute_result"
    }
   ],
   "source": [
    "allele_effects[788][1] + allele_effects[789][0] + allele_effects[790][3]"
   ]
  },
  {
   "cell_type": "code",
   "execution_count": null,
   "metadata": {
    "collapsed": true
   },
   "outputs": [],
   "source": []
  },
  {
   "cell_type": "code",
   "execution_count": 113,
   "metadata": {
    "collapsed": false
   },
   "outputs": [
    {
     "data": {
      "text/plain": [
       "3.665824391811754"
      ]
     },
     "execution_count": 113,
     "metadata": {},
     "output_type": "execute_result"
    }
   ],
   "source": [
    "allele_effects[788][1]"
   ]
  },
  {
   "cell_type": "code",
   "execution_count": 103,
   "metadata": {
    "collapsed": false
   },
   "outputs": [
    {
     "data": {
      "text/plain": [
       "{(788, 789, 790): {0: {(1, 0, 3): 0.485, (3, 2, 1): 0.515},\n",
       "  1: {(1, 0, 3): 0.695, (3, 2, 1): 0.305},\n",
       "  2: {(1, 0, 3): 0.765, (3, 2, 1): 0.235},\n",
       "  3: {(1, 0, 3): 0.875, (3, 2, 1): 0.125},\n",
       "  4: {(1, 0, 3): 0.955, (3, 2, 1): 0.045},\n",
       "  5: {(1, 0, 3): 0.985, (3, 2, 1): 0.015}},\n",
       " (1210, 1211, 1212): {0: {(0, 1, 0): 0.5, (0, 3, 0): 0.5},\n",
       "  1: {(0, 1, 0): 0.085, (0, 3, 0): 0.915},\n",
       "  2: {(0, 1, 0): 0, (0, 3, 0): 1.0},\n",
       "  3: {(0, 1, 0): 0, (0, 3, 0): 1.0},\n",
       "  4: {(0, 1, 0): 0, (0, 3, 0): 1.0},\n",
       "  5: {(0, 1, 0): 0, (0, 3, 0): 1.0}},\n",
       " (1540, 1541, 1542): {0: {(1, 5, 4): 0.475, (3, 4, 4): 0.525},\n",
       "  1: {(1, 5, 4): 0.635, (3, 4, 4): 0.365},\n",
       "  2: {(1, 5, 4): 0.57, (3, 4, 4): 0.43},\n",
       "  3: {(1, 5, 4): 0.675, (3, 4, 4): 0.325},\n",
       "  4: {(1, 5, 4): 0.77, (3, 4, 4): 0.23},\n",
       "  5: {(1, 5, 4): 0.9, (3, 4, 4): 0.1}},\n",
       " (2120, 2121, 2122): {0: {(3, 1, 2): 0.425, (3, 3, 2): 0.575},\n",
       "  1: {(3, 1, 2): 0.44, (3, 3, 2): 0.56},\n",
       "  2: {(3, 1, 2): 0.26, (3, 3, 2): 0.74},\n",
       "  3: {(3, 1, 2): 0.205, (3, 3, 2): 0.795},\n",
       "  4: {(3, 1, 2): 0.04, (3, 3, 2): 0.96},\n",
       "  5: {(3, 1, 2): 0.03, (3, 3, 2): 0.97}},\n",
       " (2975, 2976, 2977): {0: {(0, 2, 1): 0.485, (1, 0, 0): 0.515},\n",
       "  1: {(0, 2, 1): 0.5, (1, 0, 0): 0.5},\n",
       "  2: {(0, 2, 1): 0.64, (1, 0, 0): 0.36},\n",
       "  3: {(0, 2, 1): 0.62, (1, 0, 0): 0.38},\n",
       "  4: {(0, 2, 1): 0.715, (1, 0, 0): 0.285},\n",
       "  5: {(0, 2, 1): 0.655, (1, 0, 0): 0.345}},\n",
       " (3555, 3556, 3557): {0: {(2, 0, 1): 0.495, (2, 1, 1): 0.505},\n",
       "  1: {(2, 0, 1): 0.55, (2, 1, 1): 0.45},\n",
       "  2: {(2, 0, 1): 0.525, (2, 1, 1): 0.475},\n",
       "  3: {(2, 0, 1): 0.605, (2, 1, 1): 0.395},\n",
       "  4: {(2, 0, 1): 0.71, (2, 1, 1): 0.29},\n",
       "  5: {(2, 0, 1): 0.74, (2, 1, 1): 0.26}},\n",
       " (4922, 4923, 4924): {0: {(3, 1, 4): 0.505, (3, 3, 4): 0.495},\n",
       "  1: {(3, 1, 4): 0.45, (3, 3, 4): 0.55},\n",
       "  2: {(3, 1, 4): 0.405, (3, 3, 4): 0.595},\n",
       "  3: {(3, 1, 4): 0.34, (3, 3, 4): 0.66},\n",
       "  4: {(3, 1, 4): 0.355, (3, 3, 4): 0.645},\n",
       "  5: {(3, 1, 4): 0.375, (3, 3, 4): 0.625}},\n",
       " (5447, 5448, 5449): {0: {(3, 1, 3): 0.495, (3, 3, 3): 0.505},\n",
       "  1: {(3, 1, 3): 0.405, (3, 3, 3): 0.595},\n",
       "  2: {(3, 1, 3): 0.425, (3, 3, 3): 0.575},\n",
       "  3: {(3, 1, 3): 0.54, (3, 3, 3): 0.46},\n",
       "  4: {(3, 1, 3): 0.545, (3, 3, 3): 0.455},\n",
       "  5: {(3, 1, 3): 0.525, (3, 3, 3): 0.475}},\n",
       " (6502, 6503, 6504): {0: {(2, 1, 2): 0.49, (2, 2, 1): 0.51},\n",
       "  1: {(2, 1, 2): 0.4, (2, 2, 1): 0.6},\n",
       "  2: {(2, 1, 2): 0.24, (2, 2, 1): 0.76},\n",
       "  3: {(2, 1, 2): 0.08, (2, 2, 1): 0.92},\n",
       "  4: {(2, 1, 2): 0.1, (2, 2, 1): 0.9},\n",
       "  5: {(2, 1, 2): 0.08, (2, 2, 1): 0.92}},\n",
       " (7026, 7027, 7028): {0: {(2, 0, 2): 0.57, (2, 2, 2): 0.43},\n",
       "  1: {(2, 0, 2): 0.47, (2, 2, 2): 0.53},\n",
       "  2: {(2, 0, 2): 0.39, (2, 2, 2): 0.61},\n",
       "  3: {(2, 0, 2): 0.405, (2, 2, 2): 0.595},\n",
       "  4: {(2, 0, 2): 0.37, (2, 2, 2): 0.63},\n",
       "  5: {(2, 0, 2): 0.25, (2, 2, 2): 0.75}}}"
      ]
     },
     "execution_count": 103,
     "metadata": {},
     "output_type": "execute_result"
    }
   ],
   "source": [
    "htypes['frequency']"
   ]
  },
  {
   "cell_type": "code",
   "execution_count": 104,
   "metadata": {
    "collapsed": false
   },
   "outputs": [
    {
     "name": "stdout",
     "output_type": "stream",
     "text": [
      "(2120, 2121, 2122) [(3, 1, 2), (3, 3, 2)]\n",
      "(1210, 1211, 1212) [(0, 3, 0), (0, 1, 0)]\n",
      "(2975, 2976, 2977) [(1, 0, 0), (0, 2, 1)]\n",
      "(3555, 3556, 3557) [(2, 1, 1), (2, 0, 1)]\n",
      "(788, 789, 790) [(1, 0, 3), (3, 2, 1)]\n",
      "(7026, 7027, 7028) [(2, 2, 2), (2, 0, 2)]\n",
      "(1540, 1541, 1542) [(1, 5, 4), (3, 4, 4)]\n",
      "(4922, 4923, 4924) [(3, 3, 4), (3, 1, 4)]\n",
      "(6502, 6503, 6504) [(2, 2, 1), (2, 1, 2)]\n",
      "(5447, 5448, 5449) [(3, 3, 3), (3, 1, 3)]\n"
     ]
    }
   ],
   "source": [
    "for loci, triplet in htypes['alleles'].items():\n",
    "    print(loci, triplet)"
   ]
  },
  {
   "cell_type": "code",
   "execution_count": 105,
   "metadata": {
    "collapsed": false
   },
   "outputs": [
    {
     "data": {
      "text/plain": [
       "{(788, 789, 790): [(1, 0, 3), (3, 2, 1)],\n",
       " (1210, 1211, 1212): [(0, 3, 0), (0, 1, 0)],\n",
       " (1540, 1541, 1542): [(1, 5, 4), (3, 4, 4)],\n",
       " (2120, 2121, 2122): [(3, 1, 2), (3, 3, 2)],\n",
       " (2975, 2976, 2977): [(1, 0, 0), (0, 2, 1)],\n",
       " (3555, 3556, 3557): [(2, 1, 1), (2, 0, 1)],\n",
       " (4922, 4923, 4924): [(3, 3, 4), (3, 1, 4)],\n",
       " (5447, 5448, 5449): [(3, 3, 3), (3, 1, 3)],\n",
       " (6502, 6503, 6504): [(2, 2, 1), (2, 1, 2)],\n",
       " (7026, 7027, 7028): [(2, 2, 2), (2, 0, 2)]}"
      ]
     },
     "execution_count": 105,
     "metadata": {},
     "output_type": "execute_result"
    }
   ],
   "source": [
    "htypes['alleles']"
   ]
  },
  {
   "cell_type": "code",
   "execution_count": 106,
   "metadata": {
    "collapsed": false
   },
   "outputs": [
    {
     "data": {
      "text/plain": [
       "{(788, 789, 790): {0: {(1, 0, 3): 0.485, (3, 2, 1): 0.515},\n",
       "  1: {(1, 0, 3): 0.695, (3, 2, 1): 0.305},\n",
       "  2: {(1, 0, 3): 0.765, (3, 2, 1): 0.235},\n",
       "  3: {(1, 0, 3): 0.875, (3, 2, 1): 0.125},\n",
       "  4: {(1, 0, 3): 0.955, (3, 2, 1): 0.045},\n",
       "  5: {(1, 0, 3): 0.985, (3, 2, 1): 0.015}},\n",
       " (1210, 1211, 1212): {0: {(0, 1, 0): 0.5, (0, 3, 0): 0.5},\n",
       "  1: {(0, 1, 0): 0.085, (0, 3, 0): 0.915},\n",
       "  2: {(0, 1, 0): 0, (0, 3, 0): 1.0},\n",
       "  3: {(0, 1, 0): 0, (0, 3, 0): 1.0},\n",
       "  4: {(0, 1, 0): 0, (0, 3, 0): 1.0},\n",
       "  5: {(0, 1, 0): 0, (0, 3, 0): 1.0}},\n",
       " (1540, 1541, 1542): {0: {(1, 5, 4): 0.475, (3, 4, 4): 0.525},\n",
       "  1: {(1, 5, 4): 0.635, (3, 4, 4): 0.365},\n",
       "  2: {(1, 5, 4): 0.57, (3, 4, 4): 0.43},\n",
       "  3: {(1, 5, 4): 0.675, (3, 4, 4): 0.325},\n",
       "  4: {(1, 5, 4): 0.77, (3, 4, 4): 0.23},\n",
       "  5: {(1, 5, 4): 0.9, (3, 4, 4): 0.1}},\n",
       " (2120, 2121, 2122): {0: {(3, 1, 2): 0.425, (3, 3, 2): 0.575},\n",
       "  1: {(3, 1, 2): 0.44, (3, 3, 2): 0.56},\n",
       "  2: {(3, 1, 2): 0.26, (3, 3, 2): 0.74},\n",
       "  3: {(3, 1, 2): 0.205, (3, 3, 2): 0.795},\n",
       "  4: {(3, 1, 2): 0.04, (3, 3, 2): 0.96},\n",
       "  5: {(3, 1, 2): 0.03, (3, 3, 2): 0.97}},\n",
       " (2975, 2976, 2977): {0: {(0, 2, 1): 0.485, (1, 0, 0): 0.515},\n",
       "  1: {(0, 2, 1): 0.5, (1, 0, 0): 0.5},\n",
       "  2: {(0, 2, 1): 0.64, (1, 0, 0): 0.36},\n",
       "  3: {(0, 2, 1): 0.62, (1, 0, 0): 0.38},\n",
       "  4: {(0, 2, 1): 0.715, (1, 0, 0): 0.285},\n",
       "  5: {(0, 2, 1): 0.655, (1, 0, 0): 0.345}},\n",
       " (3555, 3556, 3557): {0: {(2, 0, 1): 0.495, (2, 1, 1): 0.505},\n",
       "  1: {(2, 0, 1): 0.55, (2, 1, 1): 0.45},\n",
       "  2: {(2, 0, 1): 0.525, (2, 1, 1): 0.475},\n",
       "  3: {(2, 0, 1): 0.605, (2, 1, 1): 0.395},\n",
       "  4: {(2, 0, 1): 0.71, (2, 1, 1): 0.29},\n",
       "  5: {(2, 0, 1): 0.74, (2, 1, 1): 0.26}},\n",
       " (4922, 4923, 4924): {0: {(3, 1, 4): 0.505, (3, 3, 4): 0.495},\n",
       "  1: {(3, 1, 4): 0.45, (3, 3, 4): 0.55},\n",
       "  2: {(3, 1, 4): 0.405, (3, 3, 4): 0.595},\n",
       "  3: {(3, 1, 4): 0.34, (3, 3, 4): 0.66},\n",
       "  4: {(3, 1, 4): 0.355, (3, 3, 4): 0.645},\n",
       "  5: {(3, 1, 4): 0.375, (3, 3, 4): 0.625}},\n",
       " (5447, 5448, 5449): {0: {(3, 1, 3): 0.495, (3, 3, 3): 0.505},\n",
       "  1: {(3, 1, 3): 0.405, (3, 3, 3): 0.595},\n",
       "  2: {(3, 1, 3): 0.425, (3, 3, 3): 0.575},\n",
       "  3: {(3, 1, 3): 0.54, (3, 3, 3): 0.46},\n",
       "  4: {(3, 1, 3): 0.545, (3, 3, 3): 0.455},\n",
       "  5: {(3, 1, 3): 0.525, (3, 3, 3): 0.475}},\n",
       " (6502, 6503, 6504): {0: {(2, 1, 2): 0.49, (2, 2, 1): 0.51},\n",
       "  1: {(2, 1, 2): 0.4, (2, 2, 1): 0.6},\n",
       "  2: {(2, 1, 2): 0.24, (2, 2, 1): 0.76},\n",
       "  3: {(2, 1, 2): 0.08, (2, 2, 1): 0.92},\n",
       "  4: {(2, 1, 2): 0.1, (2, 2, 1): 0.9},\n",
       "  5: {(2, 1, 2): 0.08, (2, 2, 1): 0.92}},\n",
       " (7026, 7027, 7028): {0: {(2, 0, 2): 0.57, (2, 2, 2): 0.43},\n",
       "  1: {(2, 0, 2): 0.47, (2, 2, 2): 0.53},\n",
       "  2: {(2, 0, 2): 0.39, (2, 2, 2): 0.61},\n",
       "  3: {(2, 0, 2): 0.405, (2, 2, 2): 0.595},\n",
       "  4: {(2, 0, 2): 0.37, (2, 2, 2): 0.63},\n",
       "  5: {(2, 0, 2): 0.25, (2, 2, 2): 0.75}}}"
      ]
     },
     "execution_count": 106,
     "metadata": {},
     "output_type": "execute_result"
    }
   ],
   "source": [
    "htypes['frequency']"
   ]
  },
  {
   "cell_type": "code",
   "execution_count": 43,
   "metadata": {
    "collapsed": true
   },
   "outputs": [],
   "source": [
    "for loci in htypes['loci'].values():\n",
    "    for sp in range(selection_meta.numSubPop()):\n",
    "        htypes['frequency'][loci][sp] = selection_meta.dvars(sp).haploFreq[loci]"
   ]
  },
  {
   "cell_type": "code",
   "execution_count": 47,
   "metadata": {
    "collapsed": false
   },
   "outputs": [
    {
     "data": {
      "text/plain": [
       "0.425"
      ]
     },
     "execution_count": 47,
     "metadata": {},
     "output_type": "execute_result"
    }
   ],
   "source": [
    "htypes['frequency'][(2120, 2121, 2122)][0][(3,1,2)]"
   ]
  },
  {
   "cell_type": "code",
   "execution_count": 48,
   "metadata": {
    "collapsed": false
   },
   "outputs": [
    {
     "data": {
      "text/plain": [
       "{0: (788, 789, 790),\n",
       " 1: (1210, 1211, 1212),\n",
       " 2: (1540, 1541, 1542),\n",
       " 3: (2120, 2121, 2122),\n",
       " 4: (2975, 2976, 2977),\n",
       " 5: (3555, 3556, 3557),\n",
       " 6: (4922, 4923, 4924),\n",
       " 7: (5447, 5448, 5449),\n",
       " 8: (6502, 6503, 6504),\n",
       " 9: (7026, 7027, 7028)}"
      ]
     },
     "execution_count": 48,
     "metadata": {},
     "output_type": "execute_result"
    }
   ],
   "source": [
    "htypes['loci']"
   ]
  },
  {
   "cell_type": "code",
   "execution_count": null,
   "metadata": {
    "collapsed": true
   },
   "outputs": [],
   "source": []
  },
  {
   "cell_type": "code",
   "execution_count": 20,
   "metadata": {
    "collapsed": true
   },
   "outputs": [],
   "source": [
    "for sp in range(selection_meta.numSubPop()):\n",
    "    htypes[sp] = {}"
   ]
  },
  {
   "cell_type": "code",
   "execution_count": null,
   "metadata": {
    "collapsed": true
   },
   "outputs": [],
   "source": [
    "sele"
   ]
  },
  {
   "cell_type": "code",
   "execution_count": null,
   "metadata": {
    "collapsed": true
   },
   "outputs": [],
   "source": []
  },
  {
   "cell_type": "code",
   "execution_count": 140,
   "metadata": {
    "collapsed": true
   },
   "outputs": [],
   "source": [
    "import importlib as imp"
   ]
  },
  {
   "cell_type": "code",
   "execution_count": 147,
   "metadata": {
    "collapsed": false
   },
   "outputs": [
    {
     "data": {
      "text/plain": [
       "<module 'saegus.helpers' from 'c:\\\\Anaconda3\\\\lib\\\\site-packages\\\\saegus\\\\helpers.py'>"
      ]
     },
     "execution_count": 147,
     "metadata": {},
     "output_type": "execute_result"
    }
   ],
   "source": [
    "imp.reload(helpers)"
   ]
  },
  {
   "cell_type": "code",
   "execution_count": 148,
   "metadata": {
    "collapsed": false
   },
   "outputs": [],
   "source": [
    "hz = helpers.haplotype_data(selection_meta, allele_effects, triplet_qtl)"
   ]
  },
  {
   "cell_type": "code",
   "execution_count": 149,
   "metadata": {
    "collapsed": false
   },
   "outputs": [],
   "source": [
    "htable = helpers.haplotype_table(selection_meta, hz)"
   ]
  },
  {
   "cell_type": "code",
   "execution_count": 150,
   "metadata": {
    "collapsed": false
   },
   "outputs": [
    {
     "data": {
      "text/html": [
       "<div>\n",
       "<table border=\"1\" class=\"dataframe\">\n",
       "  <thead>\n",
       "    <tr style=\"text-align: right;\">\n",
       "      <th></th>\n",
       "      <th>centered_on</th>\n",
       "      <th>chromosome</th>\n",
       "      <th>haplotype</th>\n",
       "      <th>effect</th>\n",
       "      <th>0</th>\n",
       "      <th>1</th>\n",
       "      <th>2</th>\n",
       "      <th>3</th>\n",
       "      <th>4</th>\n",
       "      <th>5</th>\n",
       "    </tr>\n",
       "  </thead>\n",
       "  <tbody>\n",
       "    <tr>\n",
       "      <th>0</th>\n",
       "      <td>789</td>\n",
       "      <td>1</td>\n",
       "      <td>CAT</td>\n",
       "      <td>6.935106</td>\n",
       "      <td>0.485</td>\n",
       "      <td>0.695</td>\n",
       "      <td>0.765</td>\n",
       "      <td>0.875</td>\n",
       "      <td>0.955</td>\n",
       "      <td>0.985</td>\n",
       "    </tr>\n",
       "    <tr>\n",
       "      <th>1</th>\n",
       "      <td>789</td>\n",
       "      <td>1</td>\n",
       "      <td>TGC</td>\n",
       "      <td>4.846891</td>\n",
       "      <td>0.515</td>\n",
       "      <td>0.305</td>\n",
       "      <td>0.235</td>\n",
       "      <td>0.125</td>\n",
       "      <td>0.045</td>\n",
       "      <td>0.015</td>\n",
       "    </tr>\n",
       "    <tr>\n",
       "      <th>2</th>\n",
       "      <td>1211</td>\n",
       "      <td>2</td>\n",
       "      <td>ATA</td>\n",
       "      <td>9.371190</td>\n",
       "      <td>0.500</td>\n",
       "      <td>0.915</td>\n",
       "      <td>1.000</td>\n",
       "      <td>1.000</td>\n",
       "      <td>1.000</td>\n",
       "      <td>1.000</td>\n",
       "    </tr>\n",
       "    <tr>\n",
       "      <th>3</th>\n",
       "      <td>1211</td>\n",
       "      <td>2</td>\n",
       "      <td>ACA</td>\n",
       "      <td>2.729647</td>\n",
       "      <td>0.500</td>\n",
       "      <td>0.085</td>\n",
       "      <td>0.000</td>\n",
       "      <td>0.000</td>\n",
       "      <td>0.000</td>\n",
       "      <td>0.000</td>\n",
       "    </tr>\n",
       "    <tr>\n",
       "      <th>4</th>\n",
       "      <td>1541</td>\n",
       "      <td>2</td>\n",
       "      <td>C-+</td>\n",
       "      <td>3.952163</td>\n",
       "      <td>0.475</td>\n",
       "      <td>0.635</td>\n",
       "      <td>0.570</td>\n",
       "      <td>0.675</td>\n",
       "      <td>0.770</td>\n",
       "      <td>0.900</td>\n",
       "    </tr>\n",
       "    <tr>\n",
       "      <th>5</th>\n",
       "      <td>1541</td>\n",
       "      <td>2</td>\n",
       "      <td>T++</td>\n",
       "      <td>3.388314</td>\n",
       "      <td>0.525</td>\n",
       "      <td>0.365</td>\n",
       "      <td>0.430</td>\n",
       "      <td>0.325</td>\n",
       "      <td>0.230</td>\n",
       "      <td>0.100</td>\n",
       "    </tr>\n",
       "    <tr>\n",
       "      <th>6</th>\n",
       "      <td>2121</td>\n",
       "      <td>3</td>\n",
       "      <td>TCG</td>\n",
       "      <td>5.172680</td>\n",
       "      <td>0.425</td>\n",
       "      <td>0.440</td>\n",
       "      <td>0.260</td>\n",
       "      <td>0.205</td>\n",
       "      <td>0.040</td>\n",
       "      <td>0.030</td>\n",
       "    </tr>\n",
       "    <tr>\n",
       "      <th>7</th>\n",
       "      <td>2121</td>\n",
       "      <td>3</td>\n",
       "      <td>TTG</td>\n",
       "      <td>7.677296</td>\n",
       "      <td>0.575</td>\n",
       "      <td>0.560</td>\n",
       "      <td>0.740</td>\n",
       "      <td>0.795</td>\n",
       "      <td>0.960</td>\n",
       "      <td>0.970</td>\n",
       "    </tr>\n",
       "    <tr>\n",
       "      <th>8</th>\n",
       "      <td>2976</td>\n",
       "      <td>4</td>\n",
       "      <td>CAA</td>\n",
       "      <td>2.850391</td>\n",
       "      <td>0.515</td>\n",
       "      <td>0.500</td>\n",
       "      <td>0.360</td>\n",
       "      <td>0.380</td>\n",
       "      <td>0.285</td>\n",
       "      <td>0.345</td>\n",
       "    </tr>\n",
       "    <tr>\n",
       "      <th>9</th>\n",
       "      <td>2976</td>\n",
       "      <td>4</td>\n",
       "      <td>AGC</td>\n",
       "      <td>3.137419</td>\n",
       "      <td>0.485</td>\n",
       "      <td>0.500</td>\n",
       "      <td>0.640</td>\n",
       "      <td>0.620</td>\n",
       "      <td>0.715</td>\n",
       "      <td>0.655</td>\n",
       "    </tr>\n",
       "    <tr>\n",
       "      <th>10</th>\n",
       "      <td>3556</td>\n",
       "      <td>5</td>\n",
       "      <td>GCC</td>\n",
       "      <td>1.600425</td>\n",
       "      <td>0.505</td>\n",
       "      <td>0.450</td>\n",
       "      <td>0.475</td>\n",
       "      <td>0.395</td>\n",
       "      <td>0.290</td>\n",
       "      <td>0.260</td>\n",
       "    </tr>\n",
       "    <tr>\n",
       "      <th>11</th>\n",
       "      <td>3556</td>\n",
       "      <td>5</td>\n",
       "      <td>GAC</td>\n",
       "      <td>2.460940</td>\n",
       "      <td>0.495</td>\n",
       "      <td>0.550</td>\n",
       "      <td>0.525</td>\n",
       "      <td>0.605</td>\n",
       "      <td>0.710</td>\n",
       "      <td>0.740</td>\n",
       "    </tr>\n",
       "    <tr>\n",
       "      <th>12</th>\n",
       "      <td>4923</td>\n",
       "      <td>7</td>\n",
       "      <td>TT+</td>\n",
       "      <td>3.723624</td>\n",
       "      <td>0.495</td>\n",
       "      <td>0.550</td>\n",
       "      <td>0.595</td>\n",
       "      <td>0.660</td>\n",
       "      <td>0.645</td>\n",
       "      <td>0.625</td>\n",
       "    </tr>\n",
       "    <tr>\n",
       "      <th>13</th>\n",
       "      <td>4923</td>\n",
       "      <td>7</td>\n",
       "      <td>TC+</td>\n",
       "      <td>3.739932</td>\n",
       "      <td>0.505</td>\n",
       "      <td>0.450</td>\n",
       "      <td>0.405</td>\n",
       "      <td>0.340</td>\n",
       "      <td>0.355</td>\n",
       "      <td>0.375</td>\n",
       "    </tr>\n",
       "    <tr>\n",
       "      <th>14</th>\n",
       "      <td>5448</td>\n",
       "      <td>7</td>\n",
       "      <td>TTT</td>\n",
       "      <td>3.405663</td>\n",
       "      <td>0.505</td>\n",
       "      <td>0.595</td>\n",
       "      <td>0.575</td>\n",
       "      <td>0.460</td>\n",
       "      <td>0.455</td>\n",
       "      <td>0.475</td>\n",
       "    </tr>\n",
       "    <tr>\n",
       "      <th>15</th>\n",
       "      <td>5448</td>\n",
       "      <td>7</td>\n",
       "      <td>TCT</td>\n",
       "      <td>3.691585</td>\n",
       "      <td>0.495</td>\n",
       "      <td>0.405</td>\n",
       "      <td>0.425</td>\n",
       "      <td>0.540</td>\n",
       "      <td>0.545</td>\n",
       "      <td>0.525</td>\n",
       "    </tr>\n",
       "    <tr>\n",
       "      <th>16</th>\n",
       "      <td>6503</td>\n",
       "      <td>9</td>\n",
       "      <td>GGC</td>\n",
       "      <td>2.996539</td>\n",
       "      <td>0.510</td>\n",
       "      <td>0.600</td>\n",
       "      <td>0.760</td>\n",
       "      <td>0.920</td>\n",
       "      <td>0.900</td>\n",
       "      <td>0.920</td>\n",
       "    </tr>\n",
       "    <tr>\n",
       "      <th>17</th>\n",
       "      <td>6503</td>\n",
       "      <td>9</td>\n",
       "      <td>GCG</td>\n",
       "      <td>1.099000</td>\n",
       "      <td>0.490</td>\n",
       "      <td>0.400</td>\n",
       "      <td>0.240</td>\n",
       "      <td>0.080</td>\n",
       "      <td>0.100</td>\n",
       "      <td>0.080</td>\n",
       "    </tr>\n",
       "    <tr>\n",
       "      <th>18</th>\n",
       "      <td>7027</td>\n",
       "      <td>10</td>\n",
       "      <td>GGG</td>\n",
       "      <td>3.063803</td>\n",
       "      <td>0.430</td>\n",
       "      <td>0.530</td>\n",
       "      <td>0.610</td>\n",
       "      <td>0.595</td>\n",
       "      <td>0.630</td>\n",
       "      <td>0.750</td>\n",
       "    </tr>\n",
       "    <tr>\n",
       "      <th>19</th>\n",
       "      <td>7027</td>\n",
       "      <td>10</td>\n",
       "      <td>GAG</td>\n",
       "      <td>2.451734</td>\n",
       "      <td>0.570</td>\n",
       "      <td>0.470</td>\n",
       "      <td>0.390</td>\n",
       "      <td>0.405</td>\n",
       "      <td>0.370</td>\n",
       "      <td>0.250</td>\n",
       "    </tr>\n",
       "  </tbody>\n",
       "</table>\n",
       "</div>"
      ],
      "text/plain": [
       "    centered_on  chromosome haplotype    effect      0      1      2      3  \\\n",
       "0           789           1       CAT  6.935106  0.485  0.695  0.765  0.875   \n",
       "1           789           1       TGC  4.846891  0.515  0.305  0.235  0.125   \n",
       "2          1211           2       ATA  9.371190  0.500  0.915  1.000  1.000   \n",
       "3          1211           2       ACA  2.729647  0.500  0.085  0.000  0.000   \n",
       "4          1541           2       C-+  3.952163  0.475  0.635  0.570  0.675   \n",
       "5          1541           2       T++  3.388314  0.525  0.365  0.430  0.325   \n",
       "6          2121           3       TCG  5.172680  0.425  0.440  0.260  0.205   \n",
       "7          2121           3       TTG  7.677296  0.575  0.560  0.740  0.795   \n",
       "8          2976           4       CAA  2.850391  0.515  0.500  0.360  0.380   \n",
       "9          2976           4       AGC  3.137419  0.485  0.500  0.640  0.620   \n",
       "10         3556           5       GCC  1.600425  0.505  0.450  0.475  0.395   \n",
       "11         3556           5       GAC  2.460940  0.495  0.550  0.525  0.605   \n",
       "12         4923           7       TT+  3.723624  0.495  0.550  0.595  0.660   \n",
       "13         4923           7       TC+  3.739932  0.505  0.450  0.405  0.340   \n",
       "14         5448           7       TTT  3.405663  0.505  0.595  0.575  0.460   \n",
       "15         5448           7       TCT  3.691585  0.495  0.405  0.425  0.540   \n",
       "16         6503           9       GGC  2.996539  0.510  0.600  0.760  0.920   \n",
       "17         6503           9       GCG  1.099000  0.490  0.400  0.240  0.080   \n",
       "18         7027          10       GGG  3.063803  0.430  0.530  0.610  0.595   \n",
       "19         7027          10       GAG  2.451734  0.570  0.470  0.390  0.405   \n",
       "\n",
       "        4      5  \n",
       "0   0.955  0.985  \n",
       "1   0.045  0.015  \n",
       "2   1.000  1.000  \n",
       "3   0.000  0.000  \n",
       "4   0.770  0.900  \n",
       "5   0.230  0.100  \n",
       "6   0.040  0.030  \n",
       "7   0.960  0.970  \n",
       "8   0.285  0.345  \n",
       "9   0.715  0.655  \n",
       "10  0.290  0.260  \n",
       "11  0.710  0.740  \n",
       "12  0.645  0.625  \n",
       "13  0.355  0.375  \n",
       "14  0.455  0.475  \n",
       "15  0.545  0.525  \n",
       "16  0.900  0.920  \n",
       "17  0.100  0.080  \n",
       "18  0.630  0.750  \n",
       "19  0.370  0.250  "
      ]
     },
     "execution_count": 150,
     "metadata": {},
     "output_type": "execute_result"
    }
   ],
   "source": [
    "htable"
   ]
  },
  {
   "cell_type": "code",
   "execution_count": null,
   "metadata": {
    "collapsed": true
   },
   "outputs": [],
   "source": []
  },
  {
   "cell_type": "code",
   "execution_count": null,
   "metadata": {
    "collapsed": true
   },
   "outputs": [],
   "source": []
  },
  {
   "cell_type": "code",
   "execution_count": null,
   "metadata": {
    "collapsed": true
   },
   "outputs": [],
   "source": []
  },
  {
   "cell_type": "code",
   "execution_count": null,
   "metadata": {
    "collapsed": true
   },
   "outputs": [],
   "source": []
  },
  {
   "cell_type": "code",
   "execution_count": null,
   "metadata": {
    "collapsed": true
   },
   "outputs": [],
   "source": []
  },
  {
   "cell_type": "code",
   "execution_count": null,
   "metadata": {
    "collapsed": true
   },
   "outputs": [],
   "source": []
  },
  {
   "cell_type": "code",
   "execution_count": null,
   "metadata": {
    "collapsed": true
   },
   "outputs": [],
   "source": [
    "selection_meta.dvars().haploFreq"
   ]
  },
  {
   "cell_type": "code",
   "execution_count": null,
   "metadata": {
    "collapsed": true
   },
   "outputs": [],
   "source": [
    "['frequency'][5611, 5612, 5613]"
   ]
  },
  {
   "cell_type": "code",
   "execution_count": null,
   "metadata": {
    "collapsed": true
   },
   "outputs": [],
   "source": [
    "gens"
   ]
  },
  {
   "cell_type": "code",
   "execution_count": null,
   "metadata": {
    "collapsed": true
   },
   "outputs": [],
   "source": [
    "hz['frequency'][loci][haplotype]"
   ]
  },
  {
   "cell_type": "code",
   "execution_count": null,
   "metadata": {
    "collapsed": true
   },
   "outputs": [],
   "source": [
    "alleles"
   ]
  },
  {
   "cell_type": "code",
   "execution_count": null,
   "metadata": {
    "collapsed": true
   },
   "outputs": [],
   "source": [
    "selection_statistics"
   ]
  },
  {
   "cell_type": "code",
   "execution_count": null,
   "metadata": {
    "collapsed": true
   },
   "outputs": [],
   "source": []
  },
  {
   "cell_type": "code",
   "execution_count": null,
   "metadata": {
    "collapsed": true
   },
   "outputs": [],
   "source": [
    "store_toy_parameter_set()"
   ]
  },
  {
   "cell_type": "code",
   "execution_count": null,
   "metadata": {
    "collapsed": true
   },
   "outputs": [],
   "source": [
    "tps = load_toy_parameter_set()"
   ]
  },
  {
   "cell_type": "code",
   "execution_count": null,
   "metadata": {
    "collapsed": true
   },
   "outputs": [],
   "source": [
    "hz = tps['haplotype']"
   ]
  },
  {
   "cell_type": "code",
   "execution_count": null,
   "metadata": {
    "collapsed": true
   },
   "outputs": [],
   "source": [
    "\n",
    "generations"
   ]
  },
  {
   "cell_type": "code",
   "execution_count": null,
   "metadata": {
    "collapsed": true
   },
   "outputs": [],
   "source": [
    "hz['frequency']"
   ]
  },
  {
   "cell_type": "code",
   "execution_count": null,
   "metadata": {
    "collapsed": true
   },
   "outputs": [],
   "source": [
    "haplotypez = []\n",
    "for locus in hz['loci'].values():\n",
    "    haplotypez.extend(hz['alleles'][locus])"
   ]
  },
  {
   "cell_type": "code",
   "execution_count": null,
   "metadata": {
    "collapsed": true
   },
   "outputs": [],
   "source": [
    "len(haplotypez)"
   ]
  },
  {
   "cell_type": "code",
   "execution_count": null,
   "metadata": {
    "collapsed": true
   },
   "outputs": [],
   "source": [
    "data_columns = ['loci', 'haplotype', 'effect'] + generations"
   ]
  },
  {
   "cell_type": "code",
   "execution_count": null,
   "metadata": {
    "collapsed": true
   },
   "outputs": [],
   "source": [
    "data_columns"
   ]
  },
  {
   "cell_type": "code",
   "execution_count": null,
   "metadata": {
    "collapsed": true
   },
   "outputs": [],
   "source": [
    "pop.chromLocusPair(383)"
   ]
  },
  {
   "cell_type": "code",
   "execution_count": null,
   "metadata": {
    "collapsed": true
   },
   "outputs": [],
   "source": [
    "snp_to_integer"
   ]
  },
  {
   "cell_type": "code",
   "execution_count": null,
   "metadata": {
    "collapsed": true
   },
   "outputs": [],
   "source": [
    "integer_to_snp"
   ]
  },
  {
   "cell_type": "code",
   "execution_count": null,
   "metadata": {
    "collapsed": true
   },
   "outputs": [],
   "source": [
    "selection_meta.numLoci()"
   ]
  },
  {
   "cell_type": "code",
   "execution_count": null,
   "metadata": {
    "collapsed": true
   },
   "outputs": [],
   "source": [
    "selection_meta.chromLocusPair(1391)[0]"
   ]
  },
  {
   "cell_type": "code",
   "execution_count": null,
   "metadata": {
    "collapsed": true
   },
   "outputs": [],
   "source": [
    "ht.ix[:, 'effect':]"
   ]
  },
  {
   "cell_type": "code",
   "execution_count": 154,
   "metadata": {
    "collapsed": false
   },
   "outputs": [],
   "source": [
    "haplotypez = []\n",
    "for locus in hz['loci'].values():\n",
    "    haplotypez.extend(hz['alleles'][locus])\n",
    "distinct_haplotypes = len(haplotypez)"
   ]
  },
  {
   "cell_type": "code",
   "execution_count": 155,
   "metadata": {
    "collapsed": false
   },
   "outputs": [
    {
     "data": {
      "text/plain": [
       "20"
      ]
     },
     "execution_count": 155,
     "metadata": {},
     "output_type": "execute_result"
    }
   ],
   "source": [
    "distinct_haplotypes"
   ]
  },
  {
   "cell_type": "code",
   "execution_count": null,
   "metadata": {
    "collapsed": true
   },
   "outputs": [],
   "source": []
  },
  {
   "cell_type": "code",
   "execution_count": null,
   "metadata": {
    "collapsed": true
   },
   "outputs": [],
   "source": [
    "fx_vs_frq = {}\n",
    "#fx_vs_frq[99] = np.zeros((2, distinct_haplotypes))\n",
    "segregating_effects = []\n",
    "haplotype_frequencies = []\n",
    "for htype, triplets in hz['alleles'].items():\n",
    "    for trip in triplets:\n",
    "        segregating_effects.append(hz['effect'][htype][trip])\n",
    "        haplotype_frequencies.append(hz['frequency'][htype][trip])\n",
    "for sp in range(selection_meta.numSubPop()):\n",
    "    fx_vs_frq[sp] = np.zeros((2, distinct_haplotypes))\n",
    "    segregating_effects = []\n",
    "    haplotype_frequencies = []\n",
    "    for htype, triplets in haplo_data['alleles'].items():\n",
    "        for trip in triplets:\n",
    "            segregating_effects.append(haplo_data['effect'][htype][trip])\n",
    "            haplotype_frequencies.append(haplo_data['frequency'][sp][htype][trip])\n",
    "    fx_vs_frq[sp][0] = haplotype_frequencies\n",
    "    fx_vs_frq[sp][1] = segregating_effects"
   ]
  },
  {
   "cell_type": "code",
   "execution_count": null,
   "metadata": {
    "collapsed": true
   },
   "outputs": [],
   "source": [
    "def plot_haplotype_effect_vs_frequency(pop, meta_pop, haplo_data, figure_filename):\n",
    "    \"\"\"Plots haplotype vs frequency in \"\"\"\n",
    "    \n",
    "    haplotypez = []\n",
    "    for locus in hz['loci'].values():\n",
    "        haplotypez.extend(haplo_data['alleles'][locus])\n",
    "    distinct_haplotypes = len(haplotypez)\n",
    "    \n",
    "    fx_vs_frq = {}\n",
    "    #fx_vs_frq[99] = np.zeros((2, distinct_haplotypes))\n",
    "    segregating_effects = []\n",
    "    haplotype_frequencies = []\n",
    "    for htype, triplets in haplo_data['alleles'].items():\n",
    "        for trip in triplets:\n",
    "            segregating_effects.append(haplo_data['effect'][htype][trip])\n",
    "            haplotype_frequencies.append(haplo_data['frequency'][htype][trip])\n",
    "    fx_vs_frq[99][0] = haplotype_frequencies\n",
    "    fx_vs_frq[99][1] = segregating_effects\n",
    "    for sp in range(meta.numSubPop()):\n",
    "        fx_vs_frq[sp] = np.zeros((2, distinct_haplotypes))\n",
    "        segregating_effects = []\n",
    "        haplotype_frequencies = []\n",
    "        for htype, triplets in haplo_data['alleles'].items():\n",
    "            for trip in triplets:\n",
    "                segregating_effects.append(haplo_data['effect'][htype][trip])\n",
    "                haplotype_frequencies.append(haplo_data['frequency'][sp][htype][trip])\n",
    "        fx_vs_frq[sp][0] = haplotype_frequencies\n",
    "        fx_vs_frq[sp][1] = segregating_effects\n",
    "    generations = ['G_'+str(i) for i in range(0, pop.dvars().gen+1, 2)]\n",
    "    \n",
    "    f, ax = plt.subplots(7, 1, figsize=(10,30))\n",
    "    ax[6].scatter(fx_vs_frq[99][0], fx_vs_frq[99][1], c='red')\n",
    "    ax[6].grid(True)\n",
    "    ax[6].set_title(\"Aggregate Generation\")\n",
    "    generations = [0, 2, 4, 6, 8, 10]\n",
    "    for i in range(6):\n",
    "        ax[i].scatter(fx_vs_frq[i][0], fx_vs_frq[i][1], c=np.random.rand(3, 1))\n",
    "        ax[i].set_xlim(-0.1, 1.1)\n",
    "        ax[i].set_title(\"Generation {}\".format(generations[i]))\n",
    "        ax[i].grid(True)\n",
    "    \n",
    "    f.savefig(figure_filename, dpi=300)"
   ]
  },
  {
   "cell_type": "raw",
   "metadata": {},
   "source": []
  },
  {
   "cell_type": "code",
   "execution_count": null,
   "metadata": {
    "collapsed": true
   },
   "outputs": [],
   "source": [
    "sim.stat(meta, varOfInfo=['g', 'p'], vars=['varOfInfo', 'varOfInfo_sp'])"
   ]
  },
  {
   "cell_type": "code",
   "execution_count": null,
   "metadata": {
    "collapsed": true
   },
   "outputs": [],
   "source": [
    "meta.dvars().meanOfInfo"
   ]
  },
  {
   "cell_type": "code",
   "execution_count": null,
   "metadata": {
    "collapsed": true
   },
   "outputs": [],
   "source": [
    "pop.dvars(1).meanOfInfo"
   ]
  },
  {
   "cell_type": "code",
   "execution_count": null,
   "metadata": {
    "collapsed": true
   },
   "outputs": [],
   "source": [
    "for i in range(6):\n",
    "    print(meta.dvars(i).meanOfInfo['p'])"
   ]
  },
  {
   "cell_type": "code",
   "execution_count": null,
   "metadata": {
    "collapsed": true
   },
   "outputs": [],
   "source": [
    "meta_means"
   ]
  },
  {
   "cell_type": "code",
   "execution_count": null,
   "metadata": {
    "collapsed": true
   },
   "outputs": [],
   "source": [
    "plot_means_and_variances(meta, output_prefix+\"Meta-Population_Means_and_Variances_of_Phenotype_Over_Time.pdf\")"
   ]
  },
  {
   "cell_type": "code",
   "execution_count": null,
   "metadata": {
    "collapsed": true
   },
   "outputs": [],
   "source": [
    "meta_gens = [0, 2, 4, 6, 8, 10]\n",
    "meta_means = [meta.dvars(i).meanOfInfo['p'] for i in range(6)]\n",
    "meta_vars = [meta.dvars(i).varOfInfo['p'] for i in range(6)]"
   ]
  },
  {
   "cell_type": "code",
   "execution_count": null,
   "metadata": {
    "collapsed": true
   },
   "outputs": [],
   "source": [
    "meta_plot = np.array([meta_gens, meta_means, meta_vars])"
   ]
  },
  {
   "cell_type": "code",
   "execution_count": null,
   "metadata": {
    "collapsed": true
   },
   "outputs": [],
   "source": [
    "f, ax = plt.subplots()"
   ]
  },
  {
   "cell_type": "code",
   "execution_count": null,
   "metadata": {
    "collapsed": true
   },
   "outputs": [],
   "source": [
    "plt.show()"
   ]
  },
  {
   "cell_type": "code",
   "execution_count": null,
   "metadata": {
    "collapsed": true
   },
   "outputs": [],
   "source": [
    "metainfo = np.zeros(())"
   ]
  },
  {
   "cell_type": "code",
   "execution_count": null,
   "metadata": {
    "collapsed": true
   },
   "outputs": [],
   "source": [
    "meta_means"
   ]
  },
  {
   "cell_type": "code",
   "execution_count": null,
   "metadata": {
    "collapsed": true
   },
   "outputs": [],
   "source": [
    "meta_means"
   ]
  },
  {
   "cell_type": "code",
   "execution_count": null,
   "metadata": {
    "collapsed": true
   },
   "outputs": [],
   "source": [
    "qtl_params['triplet_qtl'] = triplet_qtl\n",
    "qtl_params['allele_effects'] = allele_effects"
   ]
  },
  {
   "cell_type": "code",
   "execution_count": null,
   "metadata": {
    "collapsed": true
   },
   "outputs": [],
   "source": [
    "rw = parameterizer.ReadWrite()"
   ]
  },
  {
   "cell_type": "code",
   "execution_count": null,
   "metadata": {
    "collapsed": true
   },
   "outputs": [],
   "source": [
    "rw.write_trunc_selection_parameters(sim_params, 'truncsel.json', qtl_params,\n",
    "                                    'qtlparams.json', genetic_structure,\n",
    "                                   'genstructure.json')"
   ]
  },
  {
   "cell_type": "code",
   "execution_count": null,
   "metadata": {
    "collapsed": true
   },
   "outputs": [],
   "source": [
    "run_id = id_generator()"
   ]
  },
  {
   "cell_type": "code",
   "execution_count": null,
   "metadata": {
    "collapsed": true
   },
   "outputs": [],
   "source": [
    "from itertools import islice"
   ]
  },
  {
   "cell_type": "code",
   "execution_count": null,
   "metadata": {
    "collapsed": true
   },
   "outputs": [],
   "source": [
    "list(islice(list(selection_pop.indInfo('ind_id')),0, 20, 2))"
   ]
  },
  {
   "cell_type": "code",
   "execution_count": null,
   "metadata": {
    "collapsed": true
   },
   "outputs": [],
   "source": [
    "import itertools"
   ]
  },
  {
   "cell_type": "code",
   "execution_count": null,
   "metadata": {
    "collapsed": true
   },
   "outputs": [],
   "source": [
    "list(itertools.combinations(selection_pop.indInfo('ind_id'), 2))"
   ]
  },
  {
   "cell_type": "code",
   "execution_count": null,
   "metadata": {
    "collapsed": true
   },
   "outputs": [],
   "source": []
  }
 ],
 "metadata": {
  "kernelspec": {
   "display_name": "Python 3",
   "language": "python",
   "name": "python3"
  },
  "language_info": {
   "codemirror_mode": {
    "name": "ipython",
    "version": 3
   },
   "file_extension": ".py",
   "mimetype": "text/x-python",
   "name": "python",
   "nbconvert_exporter": "python",
   "pygments_lexer": "ipython3",
   "version": "3.4.3"
  }
 },
 "nbformat": 4,
 "nbformat_minor": 0
}
