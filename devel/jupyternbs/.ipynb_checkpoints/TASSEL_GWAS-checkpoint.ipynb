{
 "cells": [
  {
   "cell_type": "markdown",
   "metadata": {},
   "source": [
    "# Generate Data for TASSEL GWAS"
   ]
  },
  {
   "cell_type": "code",
   "execution_count": 1,
   "metadata": {
    "collapsed": true
   },
   "outputs": [],
   "source": [
    "%matplotlib inline\n",
    "import shelve\n",
    "import simuOpt\n",
    "simuOpt.setOptions(alleleType='short', numThreads=4, quiet=True)\n",
    "import simuPOP as sim\n",
    "import pandas as pd\n",
    "import collections as col\n",
    "from saegus import breed, operators, selection, helpers, parser, parameterizer, selection\n",
    "import random\n",
    "import copy\n",
    "#random.seed(1337)\n",
    "import numpy as np\n",
    "np.set_printoptions(suppress=True, precision=3)\n",
    "import matplotlib.pyplot as plt"
   ]
  },
  {
   "cell_type": "code",
   "execution_count": 2,
   "metadata": {
    "collapsed": true
   },
   "outputs": [],
   "source": [
    "hapmap = pd.read_csv('clean_hapmap.txt')\n",
    "raw_hmap = pd.read_csv('hapmap3.txt')\n",
    "genetic_map = hapmap.ix[:, :'cM_pos']\n",
    "genetic_map = pd.read_csv('nam_prefounders_genetic_map.txt', index_col=None,\n",
    "                         sep='\\t')\n",
    "\n",
    "raw_hmap = pd.read_csv('hapmap3.txt', delimiter='\\t', index_col=0)\n",
    "locus_names = list(raw_hmap['nearest.site'])\n",
    "pos_column = list(raw_hmap['agp_pos'])\n",
    "\n",
    "chr_cM_positions = {}\n",
    "for i in range(1, 11):\n",
    "    chr_cM_positions[i] = []\n",
    "\n",
    "for idx in range(len(genetic_map)):\n",
    "    chr_cM_positions[int(genetic_map.iloc[idx]['chr'])].append(\n",
    "    float(genetic_map.iloc[idx]['cM_pos']))\n",
    "\n",
    "\n",
    "cM_positions = []\n",
    "for i in range(1, 11):\n",
    "    cM_positions.append(chr_cM_positions[i])"
   ]
  },
  {
   "cell_type": "code",
   "execution_count": 3,
   "metadata": {
    "collapsed": true
   },
   "outputs": [],
   "source": [
    "snp_to_integer = {'A': 0, 'C': 1, 'G': 2, 'T': 3, '-':4, '+':5}\n",
    "allele_names = ['A', 'C', 'T', 'G', 'D', 'I']\n",
    "integer_to_snp = {0: 'A', 1:'C', 2: 'G', 3: 'T', 4: '-', 5: '+'}\n",
    "\n",
    "\n",
    "integral_valued_loci = []\n",
    "relative_integral_valued_loci = {}\n",
    "for idx in range(len(genetic_map)):\n",
    "    if str(genetic_map.iloc[idx]['cM_pos'])[-2:] == '.0':\n",
    "        integral_valued_loci.append(idx)\n",
    "        relative_integral_valued_loci[idx] = (genetic_map.iloc[idx]['chr'], genetic_map.iloc[idx]['cM_pos'])\n",
    "\n",
    "alleles = {i: (snp_to_integer[hapmap.ix[i, 'alleles'][0]], \n",
    "               snp_to_integer[hapmap.ix[i, 'alleles'][-1]]) for i in\n",
    "          range(len(hapmap))}\n",
    "\n",
    "recombination_rates = []\n",
    "for chromosome in cM_positions:\n",
    "    for cM in chromosome:\n",
    "        if str(cM)[-2:] == '.6':\n",
    "            recombination_rates.append(0.01)\n",
    "        else:\n",
    "            recombination_rates.append(0.0)\n",
    "\n",
    "allele_names = ['A', 'C', 'T', 'G', 'D', 'I']\n",
    "\n",
    "flat_cM_positions = []\n",
    "for cMs in cM_positions:\n",
    "    flat_cM_positions.extend(cMs)"
   ]
  },
  {
   "cell_type": "code",
   "execution_count": 4,
   "metadata": {
    "collapsed": true
   },
   "outputs": [],
   "source": [
    "nam = sim.loadPopulation('nam_prefounders.pop')\n",
    "sim.tagID(nam, reset=True)\n",
    "nam.setSubPopName('prefounders', 0)\n",
    "sample_sizes = {i: 100 for i in range(0, 21, 2)}\n",
    "\n",
    "genetic_structure = {}\n",
    "genetic_structure['cM_positions'] = cM_positions\n",
    "genetic_structure['chr_cM_positions'] = chr_cM_positions\n",
    "genetic_structure['allele_names'] = allele_names\n",
    "genetic_structure['integral_valued_loci'] = integral_valued_loci\n",
    "genetic_structure['relative_integral_valued_loci'] = relative_integral_valued_loci\n",
    "genetic_structure['alleles'] = alleles\n",
    "genetic_structure['recombination_rates'] = recombination_rates"
   ]
  },
  {
   "cell_type": "code",
   "execution_count": 447,
   "metadata": {
    "collapsed": true
   },
   "outputs": [],
   "source": [
    "sim_params = {\n",
    "                'generations_of_selection': 10,\n",
    "                'generations_of_drift': 10,\n",
    "                'generations_of_random_mating': 3,\n",
    "                'operating_population_size': 500,\n",
    "                'proportion_of_individuals_saved': 0.05,\n",
    "                'overshoot_as_proportion': 0.50,\n",
    "                'individuals_per_breeding_subpop': 5,\n",
    "                'heritability': 0.7,\n",
    "                'meta_pop_sample_sizes': sample_sizes,\n",
    "                'number_of_replicates': 10,\n",
    "                'prefounder_file_name': 'nam_prefounders.pop',\n",
    "                'founders': [(3,18), (2, 13), (7, 14), (1, 19),\n",
    "                            (14, 17), (1, 20), (17, 21), (9, 22)]\n",
    "    }"
   ]
  },
  {
   "cell_type": "code",
   "execution_count": 6,
   "metadata": {
    "collapsed": true
   },
   "outputs": [],
   "source": [
    "qtl_params = {\n",
    "                'qtl': 10,\n",
    "                'allele_effects': 1,\n",
    "}\n",
    "selection_statistics = {\n",
    "    'aggregate': {},\n",
    "    'selected': {},\n",
    "    'non-selected': {}\n",
    "}\n",
    "drift_statistics = {\n",
    "    'aggregate': {},\n",
    "    'selected': {},\n",
    "    'non-selected': {}\n",
    "}"
   ]
  },
  {
   "cell_type": "code",
   "execution_count": 7,
   "metadata": {
    "collapsed": true
   },
   "outputs": [],
   "source": [
    "s = selection.Truncation(sim_params['generations_of_selection'],\n",
    "                       sim_params['generations_of_random_mating'],\n",
    "                       sim_params['operating_population_size'],\n",
    "                       sim_params['proportion_of_individuals_saved'],\n",
    "                       sim_params['overshoot_as_proportion'],\n",
    "                       sim_params['individuals_per_breeding_subpop'],\n",
    "                       sim_params['heritability'],\n",
    "                       sim_params['meta_pop_sample_sizes'],\n",
    "                       sim_params['number_of_replicates'])\n",
    "\n",
    "d = selection.Drift(sim_params['generations_of_drift'],\n",
    "                       sim_params['generations_of_random_mating'],\n",
    "                       sim_params['operating_population_size'],\n",
    "                       sim_params['proportion_of_individuals_saved'],\n",
    "                       sim_params['overshoot_as_proportion'],\n",
    "                       sim_params['individuals_per_breeding_subpop'],\n",
    "                       sim_params['heritability'],\n",
    "                       sim_params['meta_pop_sample_sizes'],\n",
    "                       sim_params['number_of_replicates'])"
   ]
  },
  {
   "cell_type": "code",
   "execution_count": 8,
   "metadata": {
    "collapsed": false
   },
   "outputs": [],
   "source": [
    "founders = sim_params['founders']\n",
    "replicated_nam = sim.Simulator(nam, rep=3, stealPops=False)\n",
    "pop = replicated_nam.extract(0)\n",
    "#selection_meta = replicated_nam.extract(0)\n",
    "#drift_meta = replicated_nam.extract(0)"
   ]
  },
  {
   "cell_type": "markdown",
   "metadata": {},
   "source": [
    "### Run MAGIC Mating Scheme"
   ]
  },
  {
   "cell_type": "code",
   "execution_count": 9,
   "metadata": {
    "collapsed": false
   },
   "outputs": [
    {
     "name": "stdout",
     "output_type": "stream",
     "text": [
      "Creating the F_one population from selected founders.\n",
      "Generation: 0\n",
      "Generation: 1\tpopSize: 8\n",
      "Generation: 2\tpopSize: 4\n",
      "Generation: 3\tpopSize: 2\n",
      "Creating the F_two population.\n",
      "Generation: 4\n",
      "Initiating interim random mating for 3 generations.\n",
      "Generation: 5\n",
      "Generation: 6\n",
      "Generation: 7\n"
     ]
    }
   ],
   "source": [
    "s.generate_f_one(pop, recombination_rates, sim_params['founders'])\n",
    "s.recombinatorial_convergence(pop, recombination_rates)\n",
    "s.expand_by_selfing(pop, recombination_rates)\n",
    "s.interim_random_mating(pop, recombination_rates)"
   ]
  },
  {
   "cell_type": "markdown",
   "metadata": {},
   "source": [
    "## Adapting QTL and Allele Effects to Multiple Replicate Case"
   ]
  },
  {
   "cell_type": "code",
   "execution_count": 10,
   "metadata": {
    "collapsed": false
   },
   "outputs": [
    {
     "data": {
      "text/plain": [
       "26"
      ]
     },
     "execution_count": 10,
     "metadata": {},
     "output_type": "execute_result"
    }
   ],
   "source": [
    "nam.popSize()"
   ]
  },
  {
   "cell_type": "code",
   "execution_count": 11,
   "metadata": {
    "collapsed": false
   },
   "outputs": [],
   "source": [
    "multipop = sim.Simulator(pop, sim_params['number_of_replicates'])\n",
    "multi_meta = sim.Simulator(nam, sim_params['number_of_replicates'], stealPops=False)"
   ]
  },
  {
   "cell_type": "code",
   "execution_count": 12,
   "metadata": {
    "collapsed": false
   },
   "outputs": [],
   "source": [
    "for pop_rep in multipop.populations():\n",
    "    sim.stat(pop_rep, numOfSegSites=integral_valued_loci, vars=['numOfSegSites', 'segSites'])"
   ]
  },
  {
   "cell_type": "code",
   "execution_count": 13,
   "metadata": {
    "collapsed": false
   },
   "outputs": [
    {
     "data": {
      "text/plain": [
       "10"
      ]
     },
     "execution_count": 13,
     "metadata": {},
     "output_type": "execute_result"
    }
   ],
   "source": [
    "multipop.numRep()"
   ]
  },
  {
   "cell_type": "code",
   "execution_count": 14,
   "metadata": {
    "collapsed": false
   },
   "outputs": [],
   "source": [
    "triplet_qtl = {}\n",
    "for i, pop_rep in enumerate(multipop.populations()):\n",
    "    triplet_qtl[i] = []\n",
    "    qtl = parameterizer.seg_qtl_chooser(pop_rep, integral_valued_loci, qtl_params['qtl'])\n",
    "    for locus in qtl:\n",
    "        triplet_qtl[i].append(locus-1)\n",
    "        triplet_qtl[i].append(locus)\n",
    "        triplet_qtl[i].append(locus+1)\n",
    "\n",
    "#qtl_params['triplet_qtl'] = triplet_qtl"
   ]
  },
  {
   "cell_type": "code",
   "execution_count": 15,
   "metadata": {
    "collapsed": false
   },
   "outputs": [],
   "source": [
    "allele_effects = {rep_id: {locus: {} for locus in triplet_qtl[rep_id]} \n",
    "                  for rep_id in range(sim_params['number_of_replicates'])}\n",
    "for i, pop_rep in enumerate(multipop.populations()):\n",
    "    for tqtl in triplet_qtl[i]:\n",
    "        for allele in alleles[tqtl]:\n",
    "            allele_effects[i][tqtl][allele] = random.expovariate(1)\n",
    "\n",
    "#qtl_params['allele_effects'] = allele_effects"
   ]
  },
  {
   "cell_type": "code",
   "execution_count": 16,
   "metadata": {
    "collapsed": false
   },
   "outputs": [],
   "source": [
    "for repid, pop_rep in enumerate(multipop.populations()):\n",
    "    pop_rep.dvars().qtl = qtl[repid]\n",
    "    pop_rep.dvars().triplet_qtl = triplet_qtl[repid]\n",
    "    pop_rep.dvars().allele_effects = allele_effects[repid]\n",
    "    pop_rep.dvars().statistics = copy.deepcopy(selection_statistics)\n",
    "\n",
    "\n",
    "#selection_plus_drift_replicates = sim.Simulator(pop, rep=2)\n",
    "#selection_pop = multipop.extract(0)\n",
    "#drift_pop = multipop.extract(0)"
   ]
  },
  {
   "cell_type": "code",
   "execution_count": 17,
   "metadata": {
    "collapsed": false
   },
   "outputs": [
    {
     "name": "stdout",
     "output_type": "stream",
     "text": [
      "Initial: Sampled 100 individuals from generation 0 Replicate: 0.\n",
      "Initial: Sampled 100 individuals from generation 0 Replicate: 1.\n",
      "Initial: Sampled 100 individuals from generation 0 Replicate: 2.\n",
      "Initial: Sampled 100 individuals from generation 0 Replicate: 3.\n",
      "Initial: Sampled 100 individuals from generation 0 Replicate: 4.\n",
      "Initial: Sampled 100 individuals from generation 0 Replicate: 5.\n",
      "Initial: Sampled 100 individuals from generation 0 Replicate: 6.\n",
      "Initial: Sampled 100 individuals from generation 0 Replicate: 7.\n",
      "Initial: Sampled 100 individuals from generation 0 Replicate: 8.\n",
      "Initial: Sampled 100 individuals from generation 0 Replicate: 9.\n",
      "Generation: 0\n",
      "Generation: 0\n",
      "Generation: 0\n",
      "Generation: 0\n",
      "Generation: 0\n",
      "Generation: 0\n",
      "Generation: 0\n",
      "Generation: 0\n",
      "Generation: 0\n",
      "Generation: 0\n",
      "Generation: 1\n",
      "Generation: 1\n",
      "Generation: 1\n",
      "Generation: 1\n",
      "Generation: 1\n",
      "Generation: 1\n",
      "Generation: 1\n",
      "Generation: 1\n",
      "Generation: 1\n",
      "Generation: 1\n",
      "Generation: 2\n",
      "Generation: 2\n",
      "Generation: 2\n",
      "Generation: 2\n",
      "Generation: 2\n",
      "Generation: 2\n",
      "Generation: 2\n",
      "Generation: 2\n",
      "Generation: 2\n",
      "Generation: 2\n",
      "Generation: 3\n",
      "Generation: 3\n",
      "Generation: 3\n",
      "Generation: 3\n",
      "Generation: 3\n",
      "Generation: 3\n",
      "Generation: 3\n",
      "Generation: 3\n",
      "Generation: 3\n",
      "Generation: 3\n",
      "Generation: 4\n",
      "Generation: 4\n",
      "Generation: 4\n",
      "Generation: 4\n",
      "Generation: 4\n",
      "Generation: 4\n",
      "Generation: 4\n",
      "Generation: 4\n",
      "Generation: 4\n",
      "Generation: 4\n",
      "Generation: 5\n",
      "Generation: 5\n",
      "Generation: 5\n",
      "Generation: 5\n",
      "Generation: 5\n",
      "Generation: 5\n",
      "Generation: 5\n",
      "Generation: 5\n",
      "Generation: 5\n",
      "Generation: 5\n",
      "Generation: 6\n",
      "Generation: 6\n",
      "Generation: 6\n",
      "Generation: 6\n",
      "Generation: 6\n",
      "Generation: 6\n",
      "Generation: 6\n",
      "Generation: 6\n",
      "Generation: 6\n",
      "Generation: 6\n",
      "Generation: 7\n",
      "Generation: 7\n",
      "Generation: 7\n",
      "Generation: 7\n",
      "Generation: 7\n",
      "Generation: 7\n",
      "Generation: 7\n",
      "Generation: 7\n",
      "Generation: 7\n",
      "Generation: 7\n",
      "Generation: 8\n",
      "Generation: 8\n",
      "Generation: 8\n",
      "Generation: 8\n",
      "Generation: 8\n",
      "Generation: 8\n",
      "Generation: 8\n",
      "Generation: 8\n",
      "Generation: 8\n",
      "Generation: 8\n",
      "Generation: 9\n",
      "Generation: 9\n",
      "Generation: 9\n",
      "Generation: 9\n",
      "Generation: 9\n",
      "Generation: 9\n",
      "Generation: 9\n",
      "Generation: 9\n",
      "Generation: 9\n",
      "Generation: 9\n",
      "Final: Sampled 100 individuals from generation 10\n",
      "Final: Sampled 100 individuals from generation 10\n",
      "Final: Sampled 100 individuals from generation 10\n",
      "Final: Sampled 100 individuals from generation 10\n",
      "Final: Sampled 100 individuals from generation 10\n",
      "Final: Sampled 100 individuals from generation 10\n",
      "Final: Sampled 100 individuals from generation 10\n",
      "Final: Sampled 100 individuals from generation 10\n",
      "Final: Sampled 100 individuals from generation 10\n",
      "Final: Sampled 100 individuals from generation 10\n"
     ]
    }
   ],
   "source": [
    "#selection_pop.dvars().statistics = selection_statistics\n",
    "#drift_pop.dvars().statistics = drift_statistics\n",
    "\n",
    "s.replicate_selection(multipop, multi_meta, triplet_qtl, allele_effects,\n",
    "                                recombination_rates)"
   ]
  },
  {
   "cell_type": "code",
   "execution_count": 18,
   "metadata": {
    "collapsed": false
   },
   "outputs": [],
   "source": [
    "for meta_rep in multi_meta.populations():\n",
    "    assert meta_rep.numSubPop() == 7, \"Correct number subpopulations before removal of the dummy population\"\n",
    "    meta_rep.removeSubPops(0)\n",
    "    assert meta_rep.numSubPop() == 6, \"Correct number after removal\""
   ]
  },
  {
   "cell_type": "code",
   "execution_count": 25,
   "metadata": {
    "collapsed": false
   },
   "outputs": [],
   "source": [
    "for i, meta_rep in enumerate(multi_meta.populations()):\n",
    "    selection_qtd = helpers.Frq(meta_rep, triplet_qtl[i], alleles, allele_effects[i])\n",
    "    #drift_qtd = helpers.Frq(drift_meta, triplet_qtl, alleles, allele_effects)\n",
    "    selection_af = selection_qtd.allele_frequencies(meta_rep, range(meta_rep.totNumLoci()))\n",
    "    #drift_af = drift_qtd.allele_frequencies(drift_meta, range(drift_meta.totNumLoci()))\n",
    "    selection_qtalleles = selection_qtd.rank_allele_effects(meta_rep, triplet_qtl[i], alleles, allele_effects[i])\n",
    "    #drift_qtalleles = drift_qtd.rank_allele_effects(drift_meta, triplet_qtl, alleles, allele_effects)\n",
    "    selection_ties = [locus for locus in range(meta_rep.totNumLoci()) \n",
    "                      if selection_af['minor', 'alleles'][locus] == selection_af['major', 'alleles'][locus]]\n",
    "    #drift_ties = [locus for locus in range(drift_meta.totNumLoci())\n",
    "     #                 if drift_af['minor', 'alleles'][locus] == drift_af['major', 'alleles'][locus]]\n",
    "\n",
    "    for st in selection_ties:\n",
    "        selection_af['major', 'alleles'][st] = list(meta_rep.dvars().alleleFreq[st])[0]\n",
    "        selection_af['minor', 'alleles'][st] = list(meta_rep.dvars().alleleFreq[st])[1]\n",
    "    major_minor_allele_conflicts = sum(np.equal(list(selection_af['minor', 'alleles'].values()), \n",
    "                 list(selection_af['major', 'alleles'].values())))\n",
    "    \n",
    "    assert major_minor_allele_conflicts == 0, \"There is a tie in at least one locus.\"\n",
    "    \n",
    "    pca = helpers.PCA(meta_rep, range(meta_rep.totNumLoci()), selection_qtd)\n",
    "    meta_rep_id = str(meta_rep.dvars().rep)\n",
    "    prefix = 'rs_rep_' + str(meta_rep_id) + '_'\n",
    "    \n",
    "    minor_ac = pca.calculate_count_matrix(meta_rep, selection_af['minor', 'alleles'], \n",
    "                                      prefix + 'minor_allele_count.txt')\n",
    "    eigendata = pca.svd(meta_rep, minor_ac)\n",
    "    meta_rep_id = str(meta_rep.dvars().rep)\n",
    "    individual_names = {ind.ind_id: 'RS_R'+ meta_rep_id +'_G' + \n",
    "                        str(int(ind.generation)) + \n",
    "                        '_I'+str(int(ind.ind_id)) \n",
    "                        for ind in meta_rep.individuals()}\n",
    "    \n",
    "\n",
    "\n",
    "    gwas = helpers.GWAS(meta_rep, individual_names, locus_names, pos_column)\n",
    "    hmap = gwas.hapmap_formatter(integer_to_snp, prefix + 'simulated_hapmap.txt')\n",
    "    phenos = gwas.trait_formatter(prefix + 'phenotype_vector.txt')\n",
    "    kinship_matrix = gwas.calc_kinship_matrix(minor_ac, selection_af, prefix + 'kinship_matrix.txt')\n",
    "    pop_struct_matrix = gwas.population_structure_formatter(eigendata, prefix + 'structure_matrix.txt')\n",
    "    pd.DataFrame(multipop.population(i).dvars().statistics).to_csv(prefix + 'means_and_vars.txt', sep='\\t')"
   ]
  },
  {
   "cell_type": "markdown",
   "metadata": {},
   "source": [
    "### Storing Data in Shelves"
   ]
  },
  {
   "cell_type": "code",
   "execution_count": null,
   "metadata": {
    "collapsed": false
   },
   "outputs": [],
   "source": [
    "sel_htypes = helpers.collect_haplotype_data(selection_meta, allele_effects, triplet_qtl)\n",
    "drift_htypes = helpers.collect_haplotype_data(drift_meta, allele_effects, triplet_qtl)\n",
    "drift_haplotype_table = helpers.generate_haplotype_data_table(drift_meta, drift_htypes)\n",
    "sel_haplotype_table = helpers.generate_haplotype_data_table(selection_meta, sel_htypes)\n",
    "sel_plot_data = helpers.plot_frequency_vs_effect(selection_meta, sel_haplotype_table, \n",
    "                                                 'Haplotype Frequencies Under Selection',\n",
    "                                                 'Selection_Haplotypes.pdf')\n",
    "drift_plot_data = helpers.plot_frequency_vs_effect(drift_meta, drift_haplotype_table, \n",
    "                                                   'Haplotype Frequencies Under Drift',\n",
    "                                                   'Drift_Haplotypes.pdf')"
   ]
  },
  {
   "cell_type": "code",
   "execution_count": null,
   "metadata": {
    "collapsed": true
   },
   "outputs": [],
   "source": [
    "import shelve\n",
    "with shelve.open(run_id+\"quantitative_trait_simulation_params\") as qtdb:\n",
    "    qtdb['qtl_params'] = qtl_params\n",
    "    qtdb['sim_params'] = sim_params\n",
    "\n",
    "rsparams = shelve.open(\"RS_Parameter_Sets\")\n",
    "rsparams['truncation'] = s\n",
    "rsparams['drift'] = d\n",
    "rsparams['seg_sites_after_rmating'] = list(pop.dvars().segSites)\n",
    "rsparams['qtl_parameters'] = qtl_params\n",
    "rsparams['simulation_parameters'] = sim_params"
   ]
  },
  {
   "cell_type": "code",
   "execution_count": null,
   "metadata": {
    "collapsed": true
   },
   "outputs": [],
   "source": []
  },
  {
   "cell_type": "code",
   "execution_count": null,
   "metadata": {
    "collapsed": true
   },
   "outputs": [],
   "source": []
  },
  {
   "cell_type": "code",
   "execution_count": 355,
   "metadata": {
    "collapsed": false
   },
   "outputs": [],
   "source": [
    "tree = ET.parse('sim_gwas_pipeline.xml')"
   ]
  },
  {
   "cell_type": "code",
   "execution_count": 368,
   "metadata": {
    "collapsed": true
   },
   "outputs": [],
   "source": [
    "root = tree.getroot()"
   ]
  },
  {
   "cell_type": "code",
   "execution_count": 390,
   "metadata": {
    "collapsed": false
   },
   "outputs": [],
   "source": [
    "string_tree = etree.fromstring(ET.tostring(root))"
   ]
  },
  {
   "cell_type": "code",
   "execution_count": 394,
   "metadata": {
    "collapsed": false
   },
   "outputs": [
    {
     "data": {
      "text/plain": [
       "[<Element fork1 at 0x25fe1a88>,\n",
       " <Element fork2 at 0x25fe14c8>,\n",
       " <Element fork3 at 0x25fe1748>,\n",
       " <Element fork4 at 0x182dc8c8>,\n",
       " <Element combine5 at 0x24fcae88>,\n",
       " <Element combine6 at 0x24fca988>,\n",
       " <Element runfork1 at 0x24fcac08>,\n",
       " <Element runfork2 at 0x24fcac48>,\n",
       " <Element runfork3 at 0x24fca488>,\n",
       " <Element runfork4 at 0x1028fbc8>]"
      ]
     },
     "execution_count": 394,
     "metadata": {},
     "output_type": "execute_result"
    }
   ],
   "source": [
    "list(string_tree)"
   ]
  },
  {
   "cell_type": "code",
   "execution_count": 402,
   "metadata": {
    "collapsed": false
   },
   "outputs": [],
   "source": [
    "root = string_tree.getroottree()"
   ]
  },
  {
   "cell_type": "code",
   "execution_count": 404,
   "metadata": {
    "collapsed": false
   },
   "outputs": [
    {
     "data": {
      "text/plain": [
       "<lxml.etree._ElementTree at 0x25f8fb88>"
      ]
     },
     "execution_count": 404,
     "metadata": {},
     "output_type": "execute_result"
    }
   ],
   "source": [
    "root"
   ]
  },
  {
   "cell_type": "code",
   "execution_count": 415,
   "metadata": {
    "collapsed": false
   },
   "outputs": [
    {
     "data": {
      "text/plain": [
       "'C:\\\\GWAS\\\\rs_rep_1_simulated_hapmap.txt'"
      ]
     },
     "execution_count": 415,
     "metadata": {},
     "output_type": "execute_result"
    }
   ],
   "source": [
    "string_tree.find('fork1/h').text"
   ]
  },
  {
   "cell_type": "code",
   "execution_count": 416,
   "metadata": {
    "collapsed": false
   },
   "outputs": [],
   "source": [
    "string_tree.find('fork1/h').text = 'C:\\\\GWAS\\\\rs_rep_1_simulated_hapmap.txt'\n",
    "string_tree.find('fork2/t').text = 'C:\\\\GWAS\\\\rs_rep_1_phenotype_vector.txt'\n",
    "string_tree.find('fork3/q').text = 'C:\\\\GWAS\\\\rs_rep_1_structure_matrix.txt.txt'\n",
    "string_tree.find('fork4/k').text = 'C:\\\\GWAS\\\\rs_rep_1_kinship_matrix.txt'\n",
    "\n",
    "string_tree.find('combine6/export').text = 'second_config_trial'"
   ]
  },
  {
   "cell_type": "code",
   "execution_count": 417,
   "metadata": {
    "collapsed": false
   },
   "outputs": [
    {
     "name": "stdout",
     "output_type": "stream",
     "text": [
      "<TasselPipeline>\n",
      "    <fork1>\n",
      "        <h>C:\\GWAS\\rs_rep_1_simulated_hapmap.txt</h>\n",
      "    </fork1>\n",
      "    <fork2>\n",
      "        <t>C:\\GWAS\\rs_rep_1_phenotype_vector.txt</t>\n",
      "    </fork2>\n",
      "    <fork3>\n",
      "        <q>C:\\GWAS\\rs_rep_1_structure_matrix.txt.txt</q>\n",
      "    </fork3>\n",
      "    <fork4>\n",
      "        <k>C:\\GWAS\\rs_rep_1_kinship_matrix.txt</k>\n",
      "    </fork4>\n",
      "    <combine5>\n",
      "        <input1/>\n",
      "        <input2/>\n",
      "        <input3/>\n",
      "        <intersect/>\n",
      "    </combine5>\n",
      "    <combine6>\n",
      "        <input5/>\n",
      "        <input4/>\n",
      "        <mlm/>\n",
      "        <mlmCompressionLevel>\n",
      "            None\n",
      "        </mlmCompressionLevel>\n",
      "        <export>second_config_trial</export>\n",
      "    </combine6>\n",
      "    <runfork1/>\n",
      "    <runfork2/>\n",
      "    <runfork3/>\n",
      "    <runfork4/>\n",
      "</TasselPipeline>\n"
     ]
    }
   ],
   "source": [
    "etree.dump(string_tree)"
   ]
  },
  {
   "cell_type": "code",
   "execution_count": 419,
   "metadata": {
    "collapsed": true
   },
   "outputs": [],
   "source": [
    "et = etree.ElementTree(string_tree)"
   ]
  },
  {
   "cell_type": "code",
   "execution_count": 420,
   "metadata": {
    "collapsed": false
   },
   "outputs": [],
   "source": [
    "et.write('second_sim_gwas_pipeline.xml', encoding=\"UTF-8\", \n",
    "           method=\"xml\", xml_declaration=True, standalone='', pretty_print=True)"
   ]
  },
  {
   "cell_type": "code",
   "execution_count": 338,
   "metadata": {
    "collapsed": true
   },
   "outputs": [],
   "source": [
    "x = etree.parse('sim_gwas_pipeline.xml')"
   ]
  },
  {
   "cell_type": "code",
   "execution_count": null,
   "metadata": {
    "collapsed": true
   },
   "outputs": [],
   "source": [
    "x.write()"
   ]
  },
  {
   "cell_type": "code",
   "execution_count": 339,
   "metadata": {
    "collapsed": false
   },
   "outputs": [
    {
     "data": {
      "text/plain": [
       "<lxml.etree._ElementTree at 0x27eb8dc8>"
      ]
     },
     "execution_count": 339,
     "metadata": {},
     "output_type": "execute_result"
    }
   ],
   "source": [
    "x"
   ]
  },
  {
   "cell_type": "code",
   "execution_count": 334,
   "metadata": {
    "collapsed": false
   },
   "outputs": [
    {
     "data": {
      "text/plain": [
       "<Element TasselPipeline at 0x1d54d548>"
      ]
     },
     "execution_count": 334,
     "metadata": {},
     "output_type": "execute_result"
    }
   ],
   "source": [
    "tree"
   ]
  },
  {
   "cell_type": "code",
   "execution_count": 313,
   "metadata": {
    "collapsed": false
   },
   "outputs": [
    {
     "data": {
      "text/plain": [
       "lxml.etree._Element"
      ]
     },
     "execution_count": 313,
     "metadata": {},
     "output_type": "execute_result"
    }
   ],
   "source": [
    "tree.write()"
   ]
  },
  {
   "cell_type": "code",
   "execution_count": 315,
   "metadata": {
    "collapsed": false
   },
   "outputs": [],
   "source": [
    "et = etree.ElementTree(tree)"
   ]
  },
  {
   "cell_type": "code",
   "execution_count": null,
   "metadata": {
    "collapsed": true
   },
   "outputs": [],
   "source": []
  },
  {
   "cell_type": "code",
   "execution_count": null,
   "metadata": {
    "collapsed": true
   },
   "outputs": [],
   "source": []
  },
  {
   "cell_type": "code",
   "execution_count": 422,
   "metadata": {
    "collapsed": false
   },
   "outputs": [],
   "source": [
    "import yaml"
   ]
  },
  {
   "cell_type": "code",
   "execution_count": 423,
   "metadata": {
    "collapsed": false
   },
   "outputs": [
    {
     "data": {
      "text/plain": [
       "['something', 'tastes', 'slimey', 'like', 'ziggy']"
      ]
     },
     "execution_count": 423,
     "metadata": {},
     "output_type": "execute_result"
    }
   ],
   "source": [
    "yaml.load(\"\"\"\n",
    "- something\n",
    "- tastes\n",
    "- slimey\n",
    "- like\n",
    "- ziggy\n",
    "\"\"\")"
   ]
  },
  {
   "cell_type": "code",
   "execution_count": 424,
   "metadata": {
    "collapsed": true
   },
   "outputs": [],
   "source": [
    "docz = {'name': 'frankie', 'race': 'elven', 'traits': 'badass'}"
   ]
  },
  {
   "cell_type": "code",
   "execution_count": 426,
   "metadata": {
    "collapsed": false
   },
   "outputs": [
    {
     "name": "stdout",
     "output_type": "stream",
     "text": [
      "{name: frankie, race: elven, traits: badass}\n",
      "\n"
     ]
    }
   ],
   "source": [
    "print(yaml.dump(docz))"
   ]
  },
  {
   "cell_type": "code",
   "execution_count": 428,
   "metadata": {
    "collapsed": false
   },
   "outputs": [],
   "source": [
    "with open('test_yaml_dump.yaml', 'w') as stream:\n",
    "    yaml.dump(sim_params, stream)"
   ]
  },
  {
   "cell_type": "code",
   "execution_count": 429,
   "metadata": {
    "collapsed": true
   },
   "outputs": [],
   "source": [
    "with open('test_yaml_dump.yaml', 'r') as instream:\n",
    "    yamlparams = yaml.load(instream)"
   ]
  },
  {
   "cell_type": "code",
   "execution_count": 430,
   "metadata": {
    "collapsed": false
   },
   "outputs": [
    {
     "data": {
      "text/plain": [
       "{'founders': [(3, 18),\n",
       "  (2, 13),\n",
       "  (7, 14),\n",
       "  (1, 19),\n",
       "  (14, 17),\n",
       "  (1, 20),\n",
       "  (17, 21),\n",
       "  (9, 22)],\n",
       " 'generations_of_drift': 10,\n",
       " 'generations_of_random_mating': 3,\n",
       " 'generations_of_selection': 10,\n",
       " 'heritability': 0.7,\n",
       " 'individuals_per_breeding_subpop': 5,\n",
       " 'meta_pop_sample_sizes': {0: 100,\n",
       "  2: 100,\n",
       "  4: 100,\n",
       "  6: 100,\n",
       "  8: 100,\n",
       "  10: 100,\n",
       "  12: 100,\n",
       "  14: 100,\n",
       "  16: 100,\n",
       "  18: 100,\n",
       "  20: 100},\n",
       " 'number_of_replicates': 10,\n",
       " 'operating_population_size': 500,\n",
       " 'overshoot_as_proportion': 0.5,\n",
       " 'prefounder_file_name': 'nam_prefounders.pop',\n",
       " 'proportion_of_individuals_saved': 0.05}"
      ]
     },
     "execution_count": 430,
     "metadata": {},
     "output_type": "execute_result"
    }
   ],
   "source": [
    "yamlparams"
   ]
  },
  {
   "cell_type": "code",
   "execution_count": 437,
   "metadata": {
    "collapsed": false
   },
   "outputs": [],
   "source": [
    "for k, v in triplet_qtl.items():\n",
    "    sim_params[k] = v"
   ]
  },
  {
   "cell_type": "code",
   "execution_count": 440,
   "metadata": {
    "collapsed": false
   },
   "outputs": [
    {
     "data": {
      "text/plain": [
       "dict_keys([0, 1, 2, 'number_of_replicates', 4, 5, 6, 7, 'overshoot_as_proportion', 'individuals_per_breeding_subpop', 3, 9, 'generations_of_drift', 'generations_of_selection', 'proportion_of_individuals_saved', 'founders', 'generations_of_random_mating', 8, 'meta_pop_sample_sizes', 'operating_population_size', 'heritability', 'prefounder_file_name'])"
      ]
     },
     "execution_count": 440,
     "metadata": {},
     "output_type": "execute_result"
    }
   ],
   "source": [
    "sim_params.keys()"
   ]
  },
  {
   "cell_type": "code",
   "execution_count": 441,
   "metadata": {
    "collapsed": true
   },
   "outputs": [
    {
     "data": {
      "text/plain": [
       "{0: [548,\n",
       "  549,\n",
       "  550,\n",
       "  1465,\n",
       "  1466,\n",
       "  1467,\n",
       "  1895,\n",
       "  1896,\n",
       "  1897,\n",
       "  3570,\n",
       "  3571,\n",
       "  3572,\n",
       "  4230,\n",
       "  4231,\n",
       "  4232,\n",
       "  5042,\n",
       "  5043,\n",
       "  5044,\n",
       "  5142,\n",
       "  5143,\n",
       "  5144,\n",
       "  5277,\n",
       "  5278,\n",
       "  5279,\n",
       "  6951,\n",
       "  6952,\n",
       "  6953,\n",
       "  7346,\n",
       "  7347,\n",
       "  7348],\n",
       " 1: [703,\n",
       "  704,\n",
       "  705,\n",
       "  2090,\n",
       "  2091,\n",
       "  2092,\n",
       "  2490,\n",
       "  2491,\n",
       "  2492,\n",
       "  3450,\n",
       "  3451,\n",
       "  3452,\n",
       "  3590,\n",
       "  3591,\n",
       "  3592,\n",
       "  3735,\n",
       "  3736,\n",
       "  3737,\n",
       "  5032,\n",
       "  5033,\n",
       "  5034,\n",
       "  5037,\n",
       "  5038,\n",
       "  5039,\n",
       "  5656,\n",
       "  5657,\n",
       "  5658,\n",
       "  7206,\n",
       "  7207,\n",
       "  7208],\n",
       " 2: [38,\n",
       "  39,\n",
       "  40,\n",
       "  413,\n",
       "  414,\n",
       "  415,\n",
       "  2120,\n",
       "  2121,\n",
       "  2122,\n",
       "  2505,\n",
       "  2506,\n",
       "  2507,\n",
       "  2515,\n",
       "  2516,\n",
       "  2517,\n",
       "  2830,\n",
       "  2831,\n",
       "  2832,\n",
       "  4750,\n",
       "  4751,\n",
       "  4752,\n",
       "  5032,\n",
       "  5033,\n",
       "  5034,\n",
       "  6302,\n",
       "  6303,\n",
       "  6304,\n",
       "  6342,\n",
       "  6343,\n",
       "  6344],\n",
       " 'number_of_replicates': 10,\n",
       " 4: [578,\n",
       "  579,\n",
       "  580,\n",
       "  2120,\n",
       "  2121,\n",
       "  2122,\n",
       "  3295,\n",
       "  3296,\n",
       "  3297,\n",
       "  3325,\n",
       "  3326,\n",
       "  3327,\n",
       "  3735,\n",
       "  3736,\n",
       "  3737,\n",
       "  4230,\n",
       "  4231,\n",
       "  4232,\n",
       "  5886,\n",
       "  5887,\n",
       "  5888,\n",
       "  6407,\n",
       "  6408,\n",
       "  6409,\n",
       "  6911,\n",
       "  6912,\n",
       "  6913,\n",
       "  7366,\n",
       "  7367,\n",
       "  7368],\n",
       " 5: [178,\n",
       "  179,\n",
       "  180,\n",
       "  1295,\n",
       "  1296,\n",
       "  1297,\n",
       "  1605,\n",
       "  1606,\n",
       "  1607,\n",
       "  1965,\n",
       "  1966,\n",
       "  1967,\n",
       "  2090,\n",
       "  2091,\n",
       "  2092,\n",
       "  2505,\n",
       "  2506,\n",
       "  2507,\n",
       "  2515,\n",
       "  2516,\n",
       "  2517,\n",
       "  4080,\n",
       "  4081,\n",
       "  4082,\n",
       "  7186,\n",
       "  7187,\n",
       "  7188,\n",
       "  7276,\n",
       "  7277,\n",
       "  7278],\n",
       " 6: [478,\n",
       "  479,\n",
       "  480,\n",
       "  1280,\n",
       "  1281,\n",
       "  1282,\n",
       "  1335,\n",
       "  1336,\n",
       "  1337,\n",
       "  2560,\n",
       "  2561,\n",
       "  2562,\n",
       "  3460,\n",
       "  3461,\n",
       "  3462,\n",
       "  5442,\n",
       "  5443,\n",
       "  5444,\n",
       "  5676,\n",
       "  5677,\n",
       "  5678,\n",
       "  5691,\n",
       "  5692,\n",
       "  5693,\n",
       "  6111,\n",
       "  6112,\n",
       "  6113,\n",
       "  7041,\n",
       "  7042,\n",
       "  7043],\n",
       " 7: [1705,\n",
       "  1706,\n",
       "  1707,\n",
       "  2755,\n",
       "  2756,\n",
       "  2757,\n",
       "  2830,\n",
       "  2831,\n",
       "  2832,\n",
       "  3420,\n",
       "  3421,\n",
       "  3422,\n",
       "  4675,\n",
       "  4676,\n",
       "  4677,\n",
       "  4802,\n",
       "  4803,\n",
       "  4804,\n",
       "  5227,\n",
       "  5228,\n",
       "  5229,\n",
       "  6652,\n",
       "  6653,\n",
       "  6654,\n",
       "  6916,\n",
       "  6917,\n",
       "  6918,\n",
       "  7211,\n",
       "  7212,\n",
       "  7213],\n",
       " 'overshoot_as_proportion': 0.5,\n",
       " 'individuals_per_breeding_subpop': 5,\n",
       " 3: [43,\n",
       "  44,\n",
       "  45,\n",
       "  1335,\n",
       "  1336,\n",
       "  1337,\n",
       "  1715,\n",
       "  1716,\n",
       "  1717,\n",
       "  3570,\n",
       "  3571,\n",
       "  3572,\n",
       "  3675,\n",
       "  3676,\n",
       "  3677,\n",
       "  5037,\n",
       "  5038,\n",
       "  5039,\n",
       "  5227,\n",
       "  5228,\n",
       "  5229,\n",
       "  5691,\n",
       "  5692,\n",
       "  5693,\n",
       "  5951,\n",
       "  5952,\n",
       "  5953,\n",
       "  6307,\n",
       "  6308,\n",
       "  6309],\n",
       " 9: [638,\n",
       "  639,\n",
       "  640,\n",
       "  688,\n",
       "  689,\n",
       "  690,\n",
       "  1925,\n",
       "  1926,\n",
       "  1927,\n",
       "  2515,\n",
       "  2516,\n",
       "  2517,\n",
       "  2890,\n",
       "  2891,\n",
       "  2892,\n",
       "  3050,\n",
       "  3051,\n",
       "  3052,\n",
       "  3340,\n",
       "  3341,\n",
       "  3342,\n",
       "  3355,\n",
       "  3356,\n",
       "  3357,\n",
       "  3420,\n",
       "  3421,\n",
       "  3422,\n",
       "  4500,\n",
       "  4501,\n",
       "  4502],\n",
       " 'generations_of_drift': 10,\n",
       " 'generations_of_selection': 10,\n",
       " 'proportion_of_individuals_saved': 0.05,\n",
       " 'founders': [(3, 18),\n",
       "  (2, 13),\n",
       "  (7, 14),\n",
       "  (1, 19),\n",
       "  (14, 17),\n",
       "  (1, 20),\n",
       "  (17, 21),\n",
       "  (9, 22)],\n",
       " 'generations_of_random_mating': 3,\n",
       " 8: [638,\n",
       "  639,\n",
       "  640,\n",
       "  1100,\n",
       "  1101,\n",
       "  1102,\n",
       "  2155,\n",
       "  2156,\n",
       "  2157,\n",
       "  2345,\n",
       "  2346,\n",
       "  2347,\n",
       "  3570,\n",
       "  3571,\n",
       "  3572,\n",
       "  3855,\n",
       "  3856,\n",
       "  3857,\n",
       "  3905,\n",
       "  3906,\n",
       "  3907,\n",
       "  4480,\n",
       "  4481,\n",
       "  4482,\n",
       "  6507,\n",
       "  6508,\n",
       "  6509,\n",
       "  7331,\n",
       "  7332,\n",
       "  7333],\n",
       " 'meta_pop_sample_sizes': {0: 100,\n",
       "  2: 100,\n",
       "  4: 100,\n",
       "  6: 100,\n",
       "  8: 100,\n",
       "  10: 100,\n",
       "  12: 100,\n",
       "  14: 100,\n",
       "  16: 100,\n",
       "  18: 100,\n",
       "  20: 100},\n",
       " 'operating_population_size': 500,\n",
       " 'heritability': 0.7,\n",
       " 'prefounder_file_name': 'nam_prefounders.pop'}"
      ]
     },
     "execution_count": 441,
     "metadata": {},
     "output_type": "execute_result"
    }
   ],
   "source": [
    "sim_params"
   ]
  },
  {
   "cell_type": "code",
   "execution_count": 435,
   "metadata": {
    "collapsed": true
   },
   "outputs": [
    {
     "data": {
      "text/plain": [
       "{0: [548,\n",
       "  549,\n",
       "  550,\n",
       "  1465,\n",
       "  1466,\n",
       "  1467,\n",
       "  1895,\n",
       "  1896,\n",
       "  1897,\n",
       "  3570,\n",
       "  3571,\n",
       "  3572,\n",
       "  4230,\n",
       "  4231,\n",
       "  4232,\n",
       "  5042,\n",
       "  5043,\n",
       "  5044,\n",
       "  5142,\n",
       "  5143,\n",
       "  5144,\n",
       "  5277,\n",
       "  5278,\n",
       "  5279,\n",
       "  6951,\n",
       "  6952,\n",
       "  6953,\n",
       "  7346,\n",
       "  7347,\n",
       "  7348],\n",
       " 1: [703,\n",
       "  704,\n",
       "  705,\n",
       "  2090,\n",
       "  2091,\n",
       "  2092,\n",
       "  2490,\n",
       "  2491,\n",
       "  2492,\n",
       "  3450,\n",
       "  3451,\n",
       "  3452,\n",
       "  3590,\n",
       "  3591,\n",
       "  3592,\n",
       "  3735,\n",
       "  3736,\n",
       "  3737,\n",
       "  5032,\n",
       "  5033,\n",
       "  5034,\n",
       "  5037,\n",
       "  5038,\n",
       "  5039,\n",
       "  5656,\n",
       "  5657,\n",
       "  5658,\n",
       "  7206,\n",
       "  7207,\n",
       "  7208],\n",
       " 2: [38,\n",
       "  39,\n",
       "  40,\n",
       "  413,\n",
       "  414,\n",
       "  415,\n",
       "  2120,\n",
       "  2121,\n",
       "  2122,\n",
       "  2505,\n",
       "  2506,\n",
       "  2507,\n",
       "  2515,\n",
       "  2516,\n",
       "  2517,\n",
       "  2830,\n",
       "  2831,\n",
       "  2832,\n",
       "  4750,\n",
       "  4751,\n",
       "  4752,\n",
       "  5032,\n",
       "  5033,\n",
       "  5034,\n",
       "  6302,\n",
       "  6303,\n",
       "  6304,\n",
       "  6342,\n",
       "  6343,\n",
       "  6344],\n",
       " 3: [43,\n",
       "  44,\n",
       "  45,\n",
       "  1335,\n",
       "  1336,\n",
       "  1337,\n",
       "  1715,\n",
       "  1716,\n",
       "  1717,\n",
       "  3570,\n",
       "  3571,\n",
       "  3572,\n",
       "  3675,\n",
       "  3676,\n",
       "  3677,\n",
       "  5037,\n",
       "  5038,\n",
       "  5039,\n",
       "  5227,\n",
       "  5228,\n",
       "  5229,\n",
       "  5691,\n",
       "  5692,\n",
       "  5693,\n",
       "  5951,\n",
       "  5952,\n",
       "  5953,\n",
       "  6307,\n",
       "  6308,\n",
       "  6309],\n",
       " 4: [578,\n",
       "  579,\n",
       "  580,\n",
       "  2120,\n",
       "  2121,\n",
       "  2122,\n",
       "  3295,\n",
       "  3296,\n",
       "  3297,\n",
       "  3325,\n",
       "  3326,\n",
       "  3327,\n",
       "  3735,\n",
       "  3736,\n",
       "  3737,\n",
       "  4230,\n",
       "  4231,\n",
       "  4232,\n",
       "  5886,\n",
       "  5887,\n",
       "  5888,\n",
       "  6407,\n",
       "  6408,\n",
       "  6409,\n",
       "  6911,\n",
       "  6912,\n",
       "  6913,\n",
       "  7366,\n",
       "  7367,\n",
       "  7368],\n",
       " 5: [178,\n",
       "  179,\n",
       "  180,\n",
       "  1295,\n",
       "  1296,\n",
       "  1297,\n",
       "  1605,\n",
       "  1606,\n",
       "  1607,\n",
       "  1965,\n",
       "  1966,\n",
       "  1967,\n",
       "  2090,\n",
       "  2091,\n",
       "  2092,\n",
       "  2505,\n",
       "  2506,\n",
       "  2507,\n",
       "  2515,\n",
       "  2516,\n",
       "  2517,\n",
       "  4080,\n",
       "  4081,\n",
       "  4082,\n",
       "  7186,\n",
       "  7187,\n",
       "  7188,\n",
       "  7276,\n",
       "  7277,\n",
       "  7278],\n",
       " 6: [478,\n",
       "  479,\n",
       "  480,\n",
       "  1280,\n",
       "  1281,\n",
       "  1282,\n",
       "  1335,\n",
       "  1336,\n",
       "  1337,\n",
       "  2560,\n",
       "  2561,\n",
       "  2562,\n",
       "  3460,\n",
       "  3461,\n",
       "  3462,\n",
       "  5442,\n",
       "  5443,\n",
       "  5444,\n",
       "  5676,\n",
       "  5677,\n",
       "  5678,\n",
       "  5691,\n",
       "  5692,\n",
       "  5693,\n",
       "  6111,\n",
       "  6112,\n",
       "  6113,\n",
       "  7041,\n",
       "  7042,\n",
       "  7043],\n",
       " 7: [1705,\n",
       "  1706,\n",
       "  1707,\n",
       "  2755,\n",
       "  2756,\n",
       "  2757,\n",
       "  2830,\n",
       "  2831,\n",
       "  2832,\n",
       "  3420,\n",
       "  3421,\n",
       "  3422,\n",
       "  4675,\n",
       "  4676,\n",
       "  4677,\n",
       "  4802,\n",
       "  4803,\n",
       "  4804,\n",
       "  5227,\n",
       "  5228,\n",
       "  5229,\n",
       "  6652,\n",
       "  6653,\n",
       "  6654,\n",
       "  6916,\n",
       "  6917,\n",
       "  6918,\n",
       "  7211,\n",
       "  7212,\n",
       "  7213],\n",
       " 8: [638,\n",
       "  639,\n",
       "  640,\n",
       "  1100,\n",
       "  1101,\n",
       "  1102,\n",
       "  2155,\n",
       "  2156,\n",
       "  2157,\n",
       "  2345,\n",
       "  2346,\n",
       "  2347,\n",
       "  3570,\n",
       "  3571,\n",
       "  3572,\n",
       "  3855,\n",
       "  3856,\n",
       "  3857,\n",
       "  3905,\n",
       "  3906,\n",
       "  3907,\n",
       "  4480,\n",
       "  4481,\n",
       "  4482,\n",
       "  6507,\n",
       "  6508,\n",
       "  6509,\n",
       "  7331,\n",
       "  7332,\n",
       "  7333],\n",
       " 9: [638,\n",
       "  639,\n",
       "  640,\n",
       "  688,\n",
       "  689,\n",
       "  690,\n",
       "  1925,\n",
       "  1926,\n",
       "  1927,\n",
       "  2515,\n",
       "  2516,\n",
       "  2517,\n",
       "  2890,\n",
       "  2891,\n",
       "  2892,\n",
       "  3050,\n",
       "  3051,\n",
       "  3052,\n",
       "  3340,\n",
       "  3341,\n",
       "  3342,\n",
       "  3355,\n",
       "  3356,\n",
       "  3357,\n",
       "  3420,\n",
       "  3421,\n",
       "  3422,\n",
       "  4500,\n",
       "  4501,\n",
       "  4502]}"
      ]
     },
     "execution_count": 435,
     "metadata": {},
     "output_type": "execute_result"
    }
   ],
   "source": [
    "triplet_qtl"
   ]
  },
  {
   "cell_type": "code",
   "execution_count": 442,
   "metadata": {
    "collapsed": true
   },
   "outputs": [
    {
     "data": {
      "text/plain": [
       "{0: {548: {0: 0.2157579315197949, 1: 0.44802971467943714},\n",
       "  549: {2: 1.4385064304247268, 3: 1.2314937237187655},\n",
       "  550: {1: 0.09715654664389428, 3: 0.5700359110995797},\n",
       "  1465: {0: 0.18200458157323468, 2: 0.19817327325148923},\n",
       "  1466: {1: 0.7941450271989222, 3: 0.4210756900102916},\n",
       "  1467: {4: 0.6373924417810506, 5: 0.41009207187163293},\n",
       "  1895: {1: 0.7232304367425524, 3: 1.092732827938588},\n",
       "  1896: {0: 1.7798639557577958, 2: 0.4874893190904983},\n",
       "  1897: {2: 0.5865673106251283, 3: 0.9693332697091422},\n",
       "  3570: {1: 3.1494945564452976, 2: 1.3468637089634155},\n",
       "  3571: {0: 1.0106705437532852, 3: 0.03541540861167269},\n",
       "  3572: {1: 0.13666576046279968, 2: 0.8285954880623183},\n",
       "  4230: {0: 1.1415460091279717, 3: 1.0743186603721353},\n",
       "  4231: {0: 0.05853251128136551, 3: 0.964496585430735},\n",
       "  4232: {1: 1.0355927608816695, 3: 1.1073325392729365},\n",
       "  5042: {1: 1.4921845144788326, 3: 0.06422587749029596},\n",
       "  5043: {1: 0.28222932306757276, 3: 1.4624080637599588},\n",
       "  5044: {1: 0.028706100742388916, 3: 1.2660435955257958},\n",
       "  5142: {1: 0.134172257599041, 2: 0.47053612376832893},\n",
       "  5143: {1: 0.04191524576476889, 3: 0.0065339467651926155},\n",
       "  5144: {1: 1.2433075648335548, 2: 1.8209517029874345},\n",
       "  5277: {2: 0.2802901949763261, 3: 1.6168937440837552},\n",
       "  5278: {0: 0.5195529033673348, 1: 1.123143894682468},\n",
       "  5279: {1: 0.053756556154124786, 3: 0.20574695379001612},\n",
       "  6951: {0: 0.09229649410524854, 2: 1.5980670939468908},\n",
       "  6952: {1: 1.0874993043370906, 2: 0.03582249466848146},\n",
       "  6953: {4: 0.3571645628941671, 5: 5.205133676252594},\n",
       "  7346: {0: 0.6225871301029342, 2: 0.42748757086970884},\n",
       "  7347: {0: 1.1266845871325568, 2: 0.12318872058543584},\n",
       "  7348: {0: 1.0042819667757263, 2: 1.374053615446958}},\n",
       " 1: {703: {1: 0.7357444296089912, 3: 2.8246121120027388},\n",
       "  704: {0: 0.1090774739896937, 2: 2.6438848373396344},\n",
       "  705: {1: 1.749772478077083, 3: 0.6387464163897634},\n",
       "  2090: {4: 1.433879915458651, 5: 2.7987485808802908},\n",
       "  2091: {1: 2.0898975609985877, 3: 1.0974972465855017},\n",
       "  2092: {0: 0.35841689074555394, 2: 0.1101786683882646},\n",
       "  2490: {0: 1.078611230168366, 1: 1.4419869510355416},\n",
       "  2491: {0: 0.09526345884615504, 3: 1.0678175675304924},\n",
       "  2492: {4: 2.18263256599961, 5: 0.25096591295472576},\n",
       "  3450: {1: 0.05103233200135802, 3: 0.09582913071929312},\n",
       "  3451: {2: 0.5759318069100998, 3: 0.013121059899367885},\n",
       "  3452: {4: 1.1997059528699747, 5: 1.5421362066538011},\n",
       "  3590: {4: 1.1690836083284846, 5: 0.45924841499777536},\n",
       "  3591: {4: 0.2011603312988433, 5: 0.9575469518105549},\n",
       "  3592: {1: 0.446036774736015, 3: 1.5551170422715037},\n",
       "  3735: {4: 0.8719692851509226, 5: 1.899625524048144},\n",
       "  3736: {1: 0.08571598956103943, 2: 0.7243005344484504},\n",
       "  3737: {0: 0.8834254333511189, 2: 0.8403329281299208},\n",
       "  5032: {1: 1.1261991233374644, 3: 0.004505164605729111},\n",
       "  5033: {0: 2.11041855148983, 2: 0.28589075268740427},\n",
       "  5034: {0: 0.28771278146589735, 2: 3.204545638814532},\n",
       "  5037: {2: 0.10903295988804299, 3: 1.6608256472514367},\n",
       "  5038: {2: 2.7801761330251953, 3: 0.8882112525966259},\n",
       "  5039: {1: 2.9244564090215133, 2: 0.9026881101678977},\n",
       "  5656: {1: 1.5076749762282984, 3: 0.24058604620770493},\n",
       "  5657: {1: 3.097363560582421, 2: 0.7840019436492326},\n",
       "  5658: {1: 0.13735446768110174, 3: 0.9884837144478941},\n",
       "  7206: {0: 1.3878981233214078, 3: 0.17179020095517186},\n",
       "  7207: {0: 2.9318112982886717, 2: 2.3629657410457403},\n",
       "  7208: {2: 0.8446946512170531, 3: 2.449713403149034}},\n",
       " 2: {38: {0: 2.859587272730164, 2: 0.28745100136651347},\n",
       "  39: {1: 0.2900834267770738, 3: 2.3241483588464478},\n",
       "  40: {0: 0.6358687008519172, 1: 0.3348971550747358},\n",
       "  413: {0: 1.792141028822363, 1: 0.2151009925520529},\n",
       "  414: {0: 0.617410006031275, 2: 0.18482573550772566},\n",
       "  415: {0: 0.051557479176653584, 1: 0.2454000909516839},\n",
       "  2120: {0: 0.37439805908082713, 3: 2.1061471913324725},\n",
       "  2121: {1: 1.8972190403126998, 3: 0.9423719898379798},\n",
       "  2122: {2: 0.49059810029620765, 3: 0.6663432670597083},\n",
       "  2505: {0: 3.015707536891074, 1: 0.9166235270738278},\n",
       "  2506: {1: 3.262917968023521, 3: 0.6751215819308914},\n",
       "  2507: {1: 0.8209335564543265, 2: 0.8175941676672652},\n",
       "  2515: {0: 1.4744771002101422, 2: 0.0334649572197636},\n",
       "  2516: {2: 0.28904552621870927, 3: 1.480893655303393},\n",
       "  2517: {1: 0.4615399923582006, 3: 0.9620397409617435},\n",
       "  2830: {0: 0.027428014711776333, 2: 0.16007692878611593},\n",
       "  2831: {0: 0.6415162514139363, 2: 0.1254090573341179},\n",
       "  2832: {1: 0.38833827331049114, 2: 0.25173303131977615},\n",
       "  4750: {1: 1.0777052225285868, 3: 0.19306855473681836},\n",
       "  4751: {1: 1.1492515467786875, 3: 0.16070194113763045},\n",
       "  4752: {1: 0.9279784402179039, 2: 2.0708728501080382},\n",
       "  5032: {1: 3.222590605853063, 3: 2.5540906411746103},\n",
       "  5033: {0: 2.4712983912800697, 2: 1.3202628237555503},\n",
       "  5034: {0: 2.1028920661995656, 2: 0.22469492660288606},\n",
       "  6302: {4: 0.2724011237700999, 5: 0.43753424758022874},\n",
       "  6303: {0: 0.321279545657976, 2: 3.8575353590638866},\n",
       "  6304: {1: 0.33608743000819996, 2: 1.4755468157789873},\n",
       "  6342: {0: 2.46557273253179, 2: 0.5628706701538164},\n",
       "  6343: {2: 1.1056257061697292, 3: 3.135978843538565},\n",
       "  6344: {0: 0.21580170426928336, 1: 2.395966229595498}},\n",
       " 3: {43: {4: 1.3131787049044297, 5: 0.16619429145060696},\n",
       "  44: {0: 0.3512711256426265, 2: 0.07174392778183498},\n",
       "  45: {0: 1.14582910746147, 1: 0.10256752011983411},\n",
       "  1335: {0: 0.6679386645898372, 1: 0.38536233226358535},\n",
       "  1336: {0: 0.38524843164964856, 3: 0.7228258016692053},\n",
       "  1337: {0: 0.7841655841763961, 2: 1.1696327715455035},\n",
       "  1715: {4: 0.20527268636499651, 5: 1.3233342525099256},\n",
       "  1716: {0: 1.5439031645168608, 2: 0.6265243038035613},\n",
       "  1717: {0: 0.29184356066669287, 2: 0.9312101736529858},\n",
       "  3570: {1: 3.5028076701897324, 2: 0.003177600389714211},\n",
       "  3571: {0: 0.7986929529104742, 3: 0.5210072918828972},\n",
       "  3572: {1: 1.6593523814715194, 2: 0.03555282836412266},\n",
       "  3675: {4: 0.13738393344313599, 5: 0.6242702864746267},\n",
       "  3676: {1: 0.6364234882651053, 3: 1.233777676127282},\n",
       "  3677: {1: 0.674224305154868, 3: 1.4211866511150388},\n",
       "  5037: {2: 1.7726694936688707, 3: 0.6474221108687804},\n",
       "  5038: {2: 0.8501610035581298, 3: 0.5297225298988557},\n",
       "  5039: {1: 1.2193451111257134, 2: 1.204917117910048},\n",
       "  5227: {1: 0.7644198221472128, 2: 0.43050662291260045},\n",
       "  5228: {0: 0.12304886977517951, 1: 1.220239631595854},\n",
       "  5229: {0: 1.2218311769154073, 2: 0.2333447250383733},\n",
       "  5691: {2: 0.5413554039773172, 3: 0.0482094219448555},\n",
       "  5692: {1: 0.41149678034727094, 3: 0.8202579738766642},\n",
       "  5693: {4: 1.6280975537765239, 5: 0.44458057678735086},\n",
       "  5951: {0: 0.17104351887736238, 2: 0.14592776278750877},\n",
       "  5952: {1: 0.23026246334241687, 2: 0.00873462497745599},\n",
       "  5953: {2: 0.11024193527007044, 3: 0.30445633211783335},\n",
       "  6307: {0: 0.3688519914315993, 1: 2.5720497963892144},\n",
       "  6308: {2: 0.2931553041859806, 3: 0.5377196536731219},\n",
       "  6309: {0: 2.0148199779378593, 1: 2.248378385624621}},\n",
       " 4: {578: {1: 0.7391543626861703, 3: 0.7608935124800659},\n",
       "  579: {4: 0.8338952177637274, 5: 1.0943976770522243},\n",
       "  580: {0: 0.5199659419219476, 2: 1.7539104725399892},\n",
       "  2120: {0: 2.270407015436559, 3: 1.1120107702708046},\n",
       "  2121: {1: 2.4664162933665326, 3: 0.5337777297967833},\n",
       "  2122: {2: 0.017375540648832295, 3: 0.995114481839906},\n",
       "  3295: {1: 3.0630869126269267, 3: 0.30864956539454164},\n",
       "  3296: {1: 1.8841295553955415, 3: 0.7530371261420973},\n",
       "  3297: {0: 0.4729458967195438, 1: 0.14830444922874617},\n",
       "  3325: {1: 2.636232149413255, 3: 0.7947078765225475},\n",
       "  3326: {0: 3.4316380973486043, 1: 3.6896174493937},\n",
       "  3327: {0: 1.2904781714334799, 2: 0.442380406931816},\n",
       "  3735: {4: 0.3319185216722049, 5: 0.2183286626386401},\n",
       "  3736: {1: 3.6470614139993676, 2: 0.8504641250338145},\n",
       "  3737: {0: 1.417109559081774, 2: 0.2699853178509514},\n",
       "  4230: {0: 0.3494125560711654, 3: 0.47692732617909983},\n",
       "  4231: {0: 1.207406146276121, 3: 0.8443849110835961},\n",
       "  4232: {1: 0.10905764897615872, 3: 0.2591252480750789},\n",
       "  5886: {1: 1.54985529006455, 3: 1.0849625338422255},\n",
       "  5887: {1: 0.3704313697349295, 3: 0.5099682616682172},\n",
       "  5888: {0: 2.0301528406456395, 2: 1.1046323409710566},\n",
       "  6407: {0: 1.7252918710382037, 3: 0.988046298374066},\n",
       "  6408: {4: 0.024598690695562427, 5: 0.15680979568967635},\n",
       "  6409: {4: 0.14084243935645394, 5: 1.364654730230181},\n",
       "  6911: {4: 0.021303178871610935, 5: 1.0232859496249216},\n",
       "  6912: {1: 0.5773782639722509, 3: 0.3774028907505903},\n",
       "  6913: {4: 0.11544928226704722, 5: 1.9201466631268815},\n",
       "  7366: {0: 0.11688519901859372, 2: 0.3806190867596138},\n",
       "  7367: {0: 2.1438089172748147, 2: 0.8629216971760177},\n",
       "  7368: {2: 1.367516153354807, 3: 0.10920816482253258}},\n",
       " 5: {178: {1: 0.9015172442520556, 2: 1.692262044934395},\n",
       "  179: {2: 0.22046719680544807, 3: 1.8551315279467016},\n",
       "  180: {2: 3.2998759554937482, 3: 1.3338664080613645},\n",
       "  1295: {0: 0.14311208085538943, 2: 0.4275352658860486},\n",
       "  1296: {0: 0.11492405871851151, 2: 0.3176552154535408},\n",
       "  1297: {0: 0.6558092437536756, 1: 1.007276324754951},\n",
       "  1605: {1: 0.0511548683461974, 3: 0.3614486944244274},\n",
       "  1606: {1: 0.6164876488775378, 3: 0.1672857751394087},\n",
       "  1607: {0: 0.06523756259357476, 2: 0.5359987905317559},\n",
       "  1965: {0: 0.5137238452793291, 1: 0.16837026807806904},\n",
       "  1966: {0: 0.6739219442120574, 2: 0.49550590662094746},\n",
       "  1967: {0: 0.682534066030274, 2: 0.12952234551111605},\n",
       "  2090: {4: 0.8080242683544806, 5: 1.1344645504537505},\n",
       "  2091: {1: 0.12327780609095454, 3: 1.4756989873245439},\n",
       "  2092: {0: 0.6714657384902264, 2: 0.0985391507411142},\n",
       "  2505: {0: 1.5304376484255202, 1: 2.437778081162744},\n",
       "  2506: {1: 0.22510126538063818, 3: 0.716818699467525},\n",
       "  2507: {1: 0.07556334243152123, 2: 0.8819857925509924},\n",
       "  2515: {0: 2.7245817763244125, 2: 1.1175477886119518},\n",
       "  2516: {2: 2.283556541578933, 3: 1.3518787968749408},\n",
       "  2517: {1: 0.9873658087746625, 3: 0.03127452696579117},\n",
       "  4080: {4: 0.7549026013031143, 5: 0.30908135519881275},\n",
       "  4081: {1: 2.651628646189818, 2: 2.0028153198582697},\n",
       "  4082: {0: 0.6909161133513266, 3: 0.7384453081364593},\n",
       "  7186: {1: 0.25698376070084866, 3: 0.03714122819888946},\n",
       "  7187: {0: 0.26357767119456177, 2: 2.7700599316425594},\n",
       "  7188: {1: 0.3304067500221833, 2: 0.73689647330333},\n",
       "  7276: {1: 0.01852314259551921, 2: 2.781415011909758},\n",
       "  7277: {0: 1.5012375664423179, 2: 0.022615039410056964},\n",
       "  7278: {0: 0.5228938725416625, 2: 1.0813067192518242}},\n",
       " 6: {478: {0: 0.28762124191291216, 2: 0.6740193611264701},\n",
       "  479: {0: 3.724742730436877, 2: 1.7441121949809437},\n",
       "  480: {1: 1.131089695227319, 3: 0.4361940058664644},\n",
       "  1280: {0: 1.5369453901869856, 2: 2.357867898462765},\n",
       "  1281: {1: 0.11609058039027656, 3: 0.6421351436632857},\n",
       "  1282: {1: 0.29984054450168385, 2: 0.051563172775972416},\n",
       "  1335: {0: 0.06380611621804176, 1: 0.3571592941048128},\n",
       "  1336: {0: 0.06390658115970049, 3: 0.18731251110875216},\n",
       "  1337: {0: 1.1579759781077783, 2: 0.2755931165489136},\n",
       "  2560: {1: 0.22018635974828324, 3: 0.09531154858593888},\n",
       "  2561: {1: 0.021952908454689505, 3: 0.06660967622481766},\n",
       "  2562: {1: 0.5156518130145165, 3: 0.3774787990487565},\n",
       "  3460: {1: 1.3039497942956986, 2: 2.4807804791144523},\n",
       "  3461: {0: 0.5648813322816295, 2: 0.5616865355547004},\n",
       "  3462: {1: 0.3315763209476394, 3: 6.433176903196259},\n",
       "  5442: {1: 0.6793525423621058, 3: 0.35971307346726406},\n",
       "  5443: {0: 2.1400214105638535, 3: 0.700737723385599},\n",
       "  5444: {1: 1.4746016637037307, 3: 0.24672311813686912},\n",
       "  5676: {1: 0.1321484505006276, 3: 3.8374847358057407},\n",
       "  5677: {2: 0.6957759800513046, 3: 0.5285961717074626},\n",
       "  5678: {4: 1.288059436490212, 5: 0.14594870218187403},\n",
       "  5691: {2: 1.410535557211209, 3: 0.014072165404958736},\n",
       "  5692: {1: 0.11211749664791705, 3: 2.656798760776448},\n",
       "  5693: {4: 0.04173212794927349, 5: 1.3811064065359555},\n",
       "  6111: {1: 0.15960984870838996, 2: 0.28338958758697136},\n",
       "  6112: {0: 0.34246031058482496, 1: 3.226468098922824},\n",
       "  6113: {0: 0.275892045000092, 2: 1.5517780746140883},\n",
       "  7041: {1: 2.9508496441182457, 3: 0.26892663480367973},\n",
       "  7042: {0: 0.19231410578475575, 2: 0.32984229090156286},\n",
       "  7043: {1: 1.7091397250987055, 3: 1.0647256258986015}},\n",
       " 7: {1705: {0: 0.4333468774597721, 1: 0.1930017845014893},\n",
       "  1706: {1: 0.42037235986243465, 2: 0.4547417081666813},\n",
       "  1707: {1: 0.27667825568642745, 3: 0.10391758142574621},\n",
       "  2755: {1: 0.07269771827509657, 2: 1.096401705220052},\n",
       "  2756: {1: 0.8104568057245458, 3: 0.4786542327245755},\n",
       "  2757: {0: 2.689463819268246, 2: 0.32412277924619687},\n",
       "  2830: {0: 0.27582500298169654, 2: 1.3223660198484266},\n",
       "  2831: {0: 0.3456748372138366, 2: 0.023867365817483013},\n",
       "  2832: {1: 2.6966028066868164, 2: 0.044701028626617664},\n",
       "  3420: {2: 0.9510108374187355, 3: 0.04725924307284021},\n",
       "  3421: {1: 1.4203357083415311, 2: 0.24741559021362272},\n",
       "  3422: {2: 1.0999190464774198, 3: 1.5039545590094485},\n",
       "  4675: {0: 0.22464821347575728, 2: 0.08552370552327175},\n",
       "  4676: {0: 0.6910793131881796, 2: 0.07070618805075461},\n",
       "  4677: {1: 1.2609056199970303, 2: 1.309996148989188},\n",
       "  4802: {1: 0.9731702155853378, 3: 0.3947157124917035},\n",
       "  4803: {0: 1.300721081804208, 1: 5.087703017672601},\n",
       "  4804: {0: 0.12412690781455661, 3: 0.4185636383006825},\n",
       "  5227: {1: 0.32657949961701926, 2: 0.5478056464362695},\n",
       "  5228: {0: 2.155794216323023, 1: 0.3851482754773776},\n",
       "  5229: {0: 0.5386196536928521, 2: 0.6794213910583451},\n",
       "  6652: {1: 2.169002789084804, 3: 0.19676478401354672},\n",
       "  6653: {0: 0.747443892029128, 2: 0.07871316187466906},\n",
       "  6654: {0: 1.0089544754419544, 2: 1.4798663808336052},\n",
       "  6916: {0: 0.626223885753504, 2: 0.5913603843639071},\n",
       "  6917: {1: 0.3461205175497924, 3: 0.9952567474439317},\n",
       "  6918: {1: 0.4809656130010311, 3: 5.525232404263036},\n",
       "  7211: {1: 1.284192581664126, 2: 1.6643159368337332},\n",
       "  7212: {1: 0.0624836017921632, 3: 2.2025511695387583},\n",
       "  7213: {0: 1.650976222845218, 2: 0.8219908351743701}},\n",
       " 8: {638: {0: 0.1120902634241286, 2: 0.36572642644704684},\n",
       "  639: {1: 4.088571853072576, 3: 0.6891399958557338},\n",
       "  640: {1: 0.07724360814075681, 2: 0.592906525055801},\n",
       "  1100: {2: 0.7043411674678347, 3: 2.043216287208411},\n",
       "  1101: {0: 0.7668691528408202, 2: 3.286497213283437},\n",
       "  1102: {1: 1.705257277021438, 3: 0.7968389477422261},\n",
       "  2155: {0: 2.6629515573336575, 2: 0.1038074102959215},\n",
       "  2156: {0: 3.9421533328520604, 2: 0.034151909356302204},\n",
       "  2157: {1: 0.44441249920931725, 3: 0.5910166744276913},\n",
       "  2345: {1: 2.0956334926862676, 3: 0.5945877376141292},\n",
       "  2346: {1: 0.6203645400949579, 3: 0.27206569695441135},\n",
       "  2347: {2: 0.20597698030579673, 3: 0.6709748504589713},\n",
       "  3570: {1: 0.18224603737209633, 2: 1.045865913701982},\n",
       "  3571: {0: 0.7324579408263118, 3: 0.5694325846494197},\n",
       "  3572: {1: 2.1638072944807396, 2: 0.9260092284539932},\n",
       "  3855: {4: 1.1035611368120273, 5: 0.7774384371694666},\n",
       "  3856: {1: 0.022523599165471007, 3: 1.896825208701332},\n",
       "  3857: {4: 0.3470383219458067, 5: 0.6911932284816885},\n",
       "  3905: {1: 2.3130333391853855, 3: 0.695143408492436},\n",
       "  3906: {1: 1.0543600938306121, 3: 2.9918024135525667},\n",
       "  3907: {0: 1.7379128924508986, 2: 1.5883989333279072},\n",
       "  4480: {0: 0.6224296091414833, 2: 0.3024722050292698},\n",
       "  4481: {0: 3.3793068900247145, 2: 0.6718615799641262},\n",
       "  4482: {4: 0.4032318412635248, 5: 0.22653116846328084},\n",
       "  6507: {0: 1.4520485487441603, 2: 0.5674525568740854},\n",
       "  6508: {0: 0.13235675945134098, 2: 0.11036313535566403},\n",
       "  6509: {1: 1.1783608730171855, 2: 0.07235813539687375},\n",
       "  7331: {1: 0.812181937417339, 2: 0.026032625269378773},\n",
       "  7332: {0: 1.2358079314276684, 2: 0.87633398313609},\n",
       "  7333: {2: 0.5749732201708605, 3: 1.4990834635402315}},\n",
       " 9: {638: {0: 0.1702309388126876, 2: 0.8582366418300829},\n",
       "  639: {1: 0.08760912207242906, 3: 0.5479477447668852},\n",
       "  640: {1: 0.7282272157152848, 2: 0.22573611152196804},\n",
       "  688: {1: 0.04180833298064997, 3: 0.6216358358683721},\n",
       "  689: {1: 0.884458641762846, 3: 0.09419843002481179},\n",
       "  690: {1: 0.08663642006796861, 2: 0.5603700548085235},\n",
       "  1925: {1: 1.3079961837653062, 2: 0.3333584015049448},\n",
       "  1926: {1: 0.5963946558090013, 2: 0.3608023169440319},\n",
       "  1927: {0: 4.005607441442391, 2: 0.857664034952501},\n",
       "  2515: {0: 1.4557154894559727, 2: 0.20279646680173924},\n",
       "  2516: {2: 1.8841084806090627, 3: 0.6035089196693838},\n",
       "  2517: {1: 0.9267200666350524, 3: 0.057202625922638584},\n",
       "  2890: {1: 1.4061243459614772, 3: 0.22907584778556386},\n",
       "  2891: {1: 0.894366813242253, 2: 0.3813409024651874},\n",
       "  2892: {0: 0.41589700625318504, 2: 0.19663821880779042},\n",
       "  3050: {1: 2.797349130273631, 3: 0.1323707004336231},\n",
       "  3051: {0: 0.9850210663541127, 2: 1.9878851198838354},\n",
       "  3052: {0: 0.05798759236004043, 2: 0.9537507828930631},\n",
       "  3340: {4: 0.8993944824461667, 5: 0.26786989802762684},\n",
       "  3341: {2: 0.5898262696067755, 3: 1.7803217958335102},\n",
       "  3342: {1: 2.271361593167817, 3: 1.4412659757725108},\n",
       "  3355: {0: 1.683838569206756, 3: 0.3588117478085581},\n",
       "  3356: {0: 0.289332940188839, 1: 0.6547390178521129},\n",
       "  3357: {1: 0.319665049845181, 3: 0.6370440014913695},\n",
       "  3420: {2: 0.7916963281747581, 3: 1.3943410015031328},\n",
       "  3421: {1: 0.504552534150963, 2: 1.0716558177047926},\n",
       "  3422: {2: 0.9569390483536426, 3: 0.2862306376222995},\n",
       "  4500: {0: 0.49294613601610104, 1: 0.2034220752210743},\n",
       "  4501: {0: 0.28032444366564896, 2: 0.33184612606618663},\n",
       "  4502: {0: 1.6476556983358142, 2: 1.2485567298471898}}}"
      ]
     },
     "execution_count": 442,
     "metadata": {},
     "output_type": "execute_result"
    }
   ],
   "source": [
    "allele_effects"
   ]
  },
  {
   "cell_type": "code",
   "execution_count": 446,
   "metadata": {
    "collapsed": false
   },
   "outputs": [
    {
     "name": "stdout",
     "output_type": "stream",
     "text": [
      "C:\\Users\\DoubleDanks\\BISB\\wisser\\code\\rjwlab-scripts\\saegus_project\\devel\\jupyternbs\\sim_gwas_first_generation\n"
     ]
    }
   ],
   "source": [
    "cd sim_gwas_first_generation"
   ]
  },
  {
   "cell_type": "code",
   "execution_count": 451,
   "metadata": {
    "collapsed": false
   },
   "outputs": [
    {
     "data": {
      "text/plain": [
       "{'founders': [(3, 18),\n",
       "  (2, 13),\n",
       "  (7, 14),\n",
       "  (1, 19),\n",
       "  (14, 17),\n",
       "  (1, 20),\n",
       "  (17, 21),\n",
       "  (9, 22)],\n",
       " 'generations_of_drift': 10,\n",
       " 'generations_of_random_mating': 3,\n",
       " 'generations_of_selection': 10,\n",
       " 'heritability': 0.7,\n",
       " 'individuals_per_breeding_subpop': 5,\n",
       " 'meta_pop_sample_sizes': {0: 100,\n",
       "  2: 100,\n",
       "  4: 100,\n",
       "  6: 100,\n",
       "  8: 100,\n",
       "  10: 100,\n",
       "  12: 100,\n",
       "  14: 100,\n",
       "  16: 100,\n",
       "  18: 100,\n",
       "  20: 100},\n",
       " 'number_of_replicates': 10,\n",
       " 'operating_population_size': 500,\n",
       " 'overshoot_as_proportion': 0.5,\n",
       " 'prefounder_file_name': 'nam_prefounders.pop',\n",
       " 'proportion_of_individuals_saved': 0.05}"
      ]
     },
     "execution_count": 451,
     "metadata": {},
     "output_type": "execute_result"
    }
   ],
   "source": [
    "sim_params"
   ]
  },
  {
   "cell_type": "code",
   "execution_count": null,
   "metadata": {
    "collapsed": true
   },
   "outputs": [],
   "source": [
    "def parameter_set_writer(run_prefix, sim_params,\n",
    "                        qtl_params, allele_effect_params,\n",
    "                        genetic_struct_params):\n",
    "    \n",
    "    file_names = {}\n",
    "    \n",
    "    file_names[run_prefix + '_simulation_parameters.yaml'] = sim_params\n",
    "    file_names[run_prefix + '_qtl.yaml'] = qtl_params\n",
    "    file_names[run_prefix + '_allele_effects.yaml'] = allele_effects\n",
    "    file_names[run_prefix + '_genetic_structure.yaml'] = genetic_structure\n",
    "    \n",
    "    \n",
    "    \n",
    "    with open(run_prefix+'simulation_parameters.yaml', 'w') as spstream:\n",
    "        yaml.dump()"
   ]
  }
 ],
 "metadata": {
  "kernelspec": {
   "display_name": "Python 3",
   "language": "python",
   "name": "python3"
  },
  "language_info": {
   "codemirror_mode": {
    "name": "ipython",
    "version": 3
   },
   "file_extension": ".py",
   "mimetype": "text/x-python",
   "name": "python",
   "nbconvert_exporter": "python",
   "pygments_lexer": "ipython3",
   "version": "3.4.3"
  }
 },
 "nbformat": 4,
 "nbformat_minor": 0
}
