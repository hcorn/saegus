{
 "cells": [
  {
   "cell_type": "code",
   "execution_count": null,
   "metadata": {
    "collapsed": true
   },
   "outputs": [],
   "source": []
  },
  {
   "cell_type": "code",
   "execution_count": null,
   "metadata": {
    "collapsed": true
   },
   "outputs": [],
   "source": [
    "### Reading Output from TASSEL\n",
    "\n",
    "datafile_names = ['rs_R0_devel_gwas_data.txt', 'rs_R1_devel_gwas_data.txt']\n",
    "\n",
    "for i, filename in enumerate(datafile_names):\n",
    "    gwas_data[:, :, i] = np.loadtxt(filename, delimiter='\\t', skiprows=2, \n",
    "                                   usecols=(4, 5, 6, 13, 14))\n",
    "    \n",
    "\n",
    "gwas_data = np.nan_to_num(gwas_data)\n",
    "\n",
    "locus_means = np.mean(gwas_data, axis=2)\n",
    "\n",
    "np.savetxt('locus_means.txt', locus_means, delimiter='\\t', fmt='%.4f', header=)\n",
    "\n",
    "means_header = 'df\\tF\\tp\\terrordf\\tmarker_r2'\n",
    "means_fmts = ['%d', '%.3f', '%.4f', '%d', '%.4f']\n",
    "\n",
    "np.savetxt('locus_means.txt', locus_means, delimiter='\\t', fmt=means_fmts, \n",
    "           header=means_header)"
   ]
  }
 ],
 "metadata": {
  "kernelspec": {
   "display_name": "Python 3",
   "language": "python",
   "name": "python3"
  },
  "language_info": {
   "codemirror_mode": {
    "name": "ipython",
    "version": 3
   },
   "file_extension": ".py",
   "mimetype": "text/x-python",
   "name": "python",
   "nbconvert_exporter": "python",
   "pygments_lexer": "ipython3",
   "version": "3.4.3"
  }
 },
 "nbformat": 4,
 "nbformat_minor": 0
}
