{
 "cells": [
  {
   "cell_type": "markdown",
   "metadata": {},
   "source": [
    "## Fourth Gen Simulation Script"
   ]
  },
  {
   "cell_type": "code",
   "execution_count": 1,
   "metadata": {
    "collapsed": false
   },
   "outputs": [
    {
     "data": {
      "text/plain": [
       "'C:\\\\Users\\\\DoubleDanks\\\\BISB\\\\wisser\\\\code\\\\rjwlab-scripts\\\\saegus_project\\\\devel\\\\jupyternbs'"
      ]
     },
     "execution_count": 1,
     "metadata": {},
     "output_type": "execute_result"
    }
   ],
   "source": [
    "pwd"
   ]
  },
  {
   "cell_type": "code",
   "execution_count": 2,
   "metadata": {
    "collapsed": false
   },
   "outputs": [
    {
     "name": "stdout",
     "output_type": "stream",
     "text": [
      "C:\\Users\\DoubleDanks\\BISB\\wisser\\code\\recreating_synbreed\n"
     ]
    }
   ],
   "source": [
    "cd C:\\Users\\DoubleDanks\\BISB\\wisser\\code\\recreating_synbreed"
   ]
  },
  {
   "cell_type": "code",
   "execution_count": 3,
   "metadata": {
    "collapsed": false
   },
   "outputs": [
    {
     "data": {
      "text/plain": [
       "\"\\nproto_prefix = 'C:\\\\Users\\\\DoubleDanks\\\\BISB\\\\wisser\\\\code\\\\'\\nrun_prefix = 'rs_L10_H04\\\\'\\n\\n\\ntassel_input_dir_prefix = proto_prefix + run_prefix + 'tassel_input\\\\'\\ntassel_output_dir_prefix = proto_prefix + run_prefix + 'tassel_output\\\\'\\ntassel_config_prefix = proto_prefix + run_prefix + 'tassel_config_files\\\\'\\nvarious_simulation_info_prefix = proto_prefix + run_prefix + 'simulation_data\\\\'\\npopulations_prefix = proto_prefix + run_prefix + 'populations\\\\'\\nparameter_prefix = proto_prefix + run_prefix + 'simulation_parameters\\\\'\\nind_names_prefix = proto_prefix + run_prefix + 'ind_names\\\\'\\n\\nhapmap_file_dir = tassel_input_dir_prefix\\nphenos_file_dir = tassel_input_dir_prefix\\nkinship_file_dir = tassel_input_dir_prefix\\npop_struct_file_dir = tassel_input_dir_prefix\\n\\nhapmap_file_name = 'X_simulated_hapmap.txt'\\nphenos_file_name = 'X_phenotype_vector.txt'\\nkinship_file_name = 'X_kinship_matrix.pop'\\npop_struct_file_name = 'X_structure_matrix.txt'\\n\\nio_parameters = dict(proto_prefix=proto_prefix,\\n                     run_prefix=run_prefix,\\n                     tassel_input_dir_prefix=tassel_output_dir_prefix,\\n                     tassel_output_dir_prefix=tassel_output_dir_prefix,\\n                     tassel_config_prefix=tassel_config_prefix,\\n                     populations_prefix=populations_prefix,\\n                     parameter_prefix=parameter_prefix,\\n                     ind_names_prefix=ind_names_prefix,\\n                     hapmap_file_dir=hapmap_file_dir,\\n                     phenos_file_dir=phenos_file_dir,\\n                     kinship_file_dir=kinship_file_dir,\\n                     pop_struct_file_dir=pop_struct_file_dir,\\n                     hapmap_file_name=hapmap_file_name,\\n                     phenos_file_name=phenos_file_name,\\n                     kinship_file_name=kinship_file_name,\\n                     pop_struct_file_name=pop_struct_file_name\\n                    )\\n\\nwith open('test_io_parameters.yaml', 'w') as tiop:\\n    yaml.dump(io_parameters, tiop)\\n\""
      ]
     },
     "execution_count": 3,
     "metadata": {},
     "output_type": "execute_result"
    }
   ],
   "source": [
    "import simuOpt\n",
    "simuOpt.setOptions(alleleType='short', optimized=True, numThreads=4, quiet=True)\n",
    "import simuPOP as sim\n",
    "import pandas as pd\n",
    "import collections as col\n",
    "from saegus import breed, operators, simulate, analyze, parse, parameters\n",
    "import random\n",
    "import copy\n",
    "import yaml\n",
    "import numpy as np\n",
    "import os\n",
    "np.set_printoptions(suppress=True, precision=5)\n",
    "\n",
    "\n",
    "genetic_map = pd.read_csv('nam_prefounders_genetic_map.txt', index_col=None,\n",
    "                         sep='\\t')\n",
    "\n",
    "\n",
    "with open('universal_parameters.yaml', 'r') as uparms:\n",
    "    u_parameters = yaml.load(uparms)\n",
    "\n",
    "with open('general_genetic_map_parameters.yaml', 'r') as ggmap:\n",
    "    general_genetic_map_params = yaml.load(ggmap)\n",
    "\n",
    "\n",
    "\n",
    "locus_names = u_parameters['locus_names']\n",
    "pos_column = u_parameters['pos_column']\n",
    "allele_names = u_parameters['allele_names']\n",
    "snp_to_integer = u_parameters['snp_to_integer']\n",
    "integer_to_snp = u_parameters['integer_to_snp']\n",
    "\n",
    "\n",
    "alleles = general_genetic_map_params['alleles']\n",
    "chr_cM_positions = general_genetic_map_params['chr_cM_positions']\n",
    "cM_positions = general_genetic_map_params['cM_positions']\n",
    "integral_valued_loci = general_genetic_map_params['integral_valued_loci']\n",
    "relative_integral_valued_loci = general_genetic_map_params['relative_integral_valued_loci']\n",
    "recombination_rates = general_genetic_map_params['recombination_rates']\n",
    "\n",
    "\n",
    "\"\"\"\n",
    "proto_prefix = 'C:\\\\Users\\\\DoubleDanks\\\\BISB\\\\wisser\\\\code\\\\'\n",
    "run_prefix = 'rs_L10_H04\\\\'\n",
    "\n",
    "\n",
    "tassel_input_dir_prefix = proto_prefix + run_prefix + 'tassel_input\\\\'\n",
    "tassel_output_dir_prefix = proto_prefix + run_prefix + 'tassel_output\\\\'\n",
    "tassel_config_prefix = proto_prefix + run_prefix + 'tassel_config_files\\\\'\n",
    "various_simulation_info_prefix = proto_prefix + run_prefix + 'simulation_data\\\\'\n",
    "populations_prefix = proto_prefix + run_prefix + 'populations\\\\'\n",
    "parameter_prefix = proto_prefix + run_prefix + 'simulation_parameters\\\\'\n",
    "ind_names_prefix = proto_prefix + run_prefix + 'ind_names\\\\'\n",
    "\n",
    "hapmap_file_dir = tassel_input_dir_prefix\n",
    "phenos_file_dir = tassel_input_dir_prefix\n",
    "kinship_file_dir = tassel_input_dir_prefix\n",
    "pop_struct_file_dir = tassel_input_dir_prefix\n",
    "\n",
    "hapmap_file_name = 'X_simulated_hapmap.txt'\n",
    "phenos_file_name = 'X_phenotype_vector.txt'\n",
    "kinship_file_name = 'X_kinship_matrix.pop'\n",
    "pop_struct_file_name = 'X_structure_matrix.txt'\n",
    "\n",
    "io_parameters = dict(proto_prefix=proto_prefix,\n",
    "                     run_prefix=run_prefix,\n",
    "                     tassel_input_dir_prefix=tassel_output_dir_prefix,\n",
    "                     tassel_output_dir_prefix=tassel_output_dir_prefix,\n",
    "                     tassel_config_prefix=tassel_config_prefix,\n",
    "                     populations_prefix=populations_prefix,\n",
    "                     parameter_prefix=parameter_prefix,\n",
    "                     ind_names_prefix=ind_names_prefix,\n",
    "                     hapmap_file_dir=hapmap_file_dir,\n",
    "                     phenos_file_dir=phenos_file_dir,\n",
    "                     kinship_file_dir=kinship_file_dir,\n",
    "                     pop_struct_file_dir=pop_struct_file_dir,\n",
    "                     hapmap_file_name=hapmap_file_name,\n",
    "                     phenos_file_name=phenos_file_name,\n",
    "                     kinship_file_name=kinship_file_name,\n",
    "                     pop_struct_file_name=pop_struct_file_name\n",
    "                    )\n",
    "\n",
    "with open('test_io_parameters.yaml', 'w') as tiop:\n",
    "    yaml.dump(io_parameters, tiop)\n",
    "\"\"\""
   ]
  },
  {
   "cell_type": "code",
   "execution_count": 4,
   "metadata": {
    "collapsed": false
   },
   "outputs": [],
   "source": [
    "nam = sim.loadPopulation(u_parameters['prefounder_file_name'])\n",
    "sim.tagID(nam, reset=True)\n",
    "nam.setSubPopName('maize_nam_prefounders', 0)"
   ]
  },
  {
   "cell_type": "code",
   "execution_count": 5,
   "metadata": {
    "collapsed": true
   },
   "outputs": [],
   "source": [
    "selection_statistics = {\n",
    "    'aggregate': {},\n",
    "    'selected': {},\n",
    "    'non-selected': {}\n",
    "}\n",
    "\n",
    "ind_names_for_gwas = {i: {} for i in range(u_parameters['number_of_replicates'])}\n",
    "u_parameters['meta_pop_sample_sizes'] = {i: 100 for i in range(0, u_parameters['generations_of_selection']+1, 2)}\n",
    "\n",
    "s = simulate.Truncation(u_parameters['generations_of_selection'],\n",
    "                       u_parameters['generations_of_random_mating'],\n",
    "                       u_parameters['operating_population_size'],\n",
    "                       u_parameters['proportion_of_individuals_saved'],\n",
    "                       u_parameters['overshoot_as_proportion'],\n",
    "                       u_parameters['individuals_per_breeding_subpop'],\n",
    "                       u_parameters['heritability'],\n",
    "                       u_parameters['meta_pop_sample_sizes'],\n",
    "                       u_parameters['number_of_replicates'])"
   ]
  },
  {
   "cell_type": "code",
   "execution_count": 6,
   "metadata": {
    "collapsed": false
   },
   "outputs": [
    {
     "name": "stdout",
     "output_type": "stream",
     "text": [
      "Generation: 0\n",
      "Generation: 1\tpopSize: 8\n",
      "Generation: 2\tpopSize: 4\n",
      "Generation: 3\tpopSize: 2\n",
      "Generation: 4\n",
      "Initiating interim random mating for 3 generations.\n",
      "Generation: 5\n",
      "Generation: 6\n",
      "Generation: 7\n"
     ]
    }
   ],
   "source": [
    "founders = u_parameters['founders']\n",
    "replicated_nam = sim.Simulator(nam, rep=2, stealPops=False)\n",
    "pop = replicated_nam.extract(0)\n",
    "\n",
    "\n",
    "s.generate_f_one(pop, recombination_rates, u_parameters['founders'])\n",
    "s.recombinatorial_convergence(pop, recombination_rates)\n",
    "s.expand_by_selfing(pop, recombination_rates)\n",
    "s.interim_random_mating(pop, recombination_rates)"
   ]
  },
  {
   "cell_type": "code",
   "execution_count": 7,
   "metadata": {
    "collapsed": false
   },
   "outputs": [
    {
     "name": "stdout",
     "output_type": "stream",
     "text": [
      "Initial: Sampled 100 individuals from generation 0 Replicate: 0.\n",
      "Initial: Sampled 100 individuals from generation 0 Replicate: 1.\n",
      "Generation: 0\n",
      "Generation: 0\n",
      "Generation: 1\n",
      "Generation: 1\n",
      "Generation: 2\n",
      "Generation: 2\n",
      "Generation: 3\n",
      "Generation: 3\n",
      "Generation: 4\n",
      "Generation: 4\n",
      "Generation: 5\n",
      "Generation: 5\n",
      "Generation: 6\n",
      "Generation: 6\n",
      "Generation: 7\n",
      "Generation: 7\n",
      "Generation: 8\n",
      "Generation: 8\n",
      "Generation: 9\n",
      "Generation: 9\n",
      "Final: Sampled 100 individuals from generation 10\n",
      "Final: Sampled 100 individuals from generation 10\n"
     ]
    }
   ],
   "source": [
    "multipop = sim.Simulator(pop, u_parameters['number_of_replicates'])\n",
    "multi_meta = sim.Simulator(nam, u_parameters['number_of_replicates'], stealPops=False)\n",
    "\n",
    "triplet_qtl, allele_effects = parameters.assign_identical_qtl_parameters(multipop, alleles,\n",
    "                                                                         integral_valued_loci, u_parameters['number_of_qtl'],\n",
    "                                                                         u_parameters['allele_effect_parameters'])\n",
    "\n",
    "assert type(triplet_qtl[0]) == type([]), \"Variables are flip-flopped in return.\"\n",
    "\n",
    "for repid, pop_rep in enumerate(multipop.populations()):\n",
    "    pop_rep.dvars().statistics = copy.deepcopy(selection_statistics)\n",
    "\n",
    "s.replicate_selection(multipop, multi_meta, triplet_qtl, allele_effects,\n",
    "                                recombination_rates)"
   ]
  },
  {
   "cell_type": "code",
   "execution_count": 8,
   "metadata": {
    "collapsed": false
   },
   "outputs": [],
   "source": [
    "for meta_rep in multi_meta.populations():\n",
    "    assert meta_rep.numSubPop() == 7, \"Correct number subpopulations before removal of the dummy population\"\n",
    "    meta_rep.removeSubPops(0)\n",
    "    assert meta_rep.numSubPop() == 6, \"Correct number after removal\""
   ]
  },
  {
   "cell_type": "code",
   "execution_count": 1,
   "metadata": {
    "collapsed": true
   },
   "outputs": [],
   "source": [
    "import importlib as imp"
   ]
  },
  {
   "cell_type": "code",
   "execution_count": null,
   "metadata": {
    "collapsed": true
   },
   "outputs": [],
   "source": []
  },
  {
   "cell_type": "code",
   "execution_count": 9,
   "metadata": {
    "collapsed": false
   },
   "outputs": [],
   "source": [
    "for i, meta_rep in enumerate(multi_meta.populations()):\n",
    "    \n",
    "\n",
    "    meta_rep_id = str(meta_rep.dvars().rep)\n",
    "    prefix = 'R' + str(meta_rep_id) + '_'\n",
    "    \n",
    "    meta_rep.dvars().triplet_qtl = triplet_qtl[i]\n",
    "    meta_rep.dvars().allele_effects = allele_effects[i]\n",
    "    frq = analyze.Frq(meta_rep, triplet_qtl[i], alleles, allele_effects[i])\n",
    "    af = frq.allele_frequencies(meta_rep, range(meta_rep.totNumLoci()))\n",
    "    qtalleles = frq.rank_allele_effects(meta_rep, triplet_qtl[i], alleles, allele_effects[i])\n",
    "    ties = [locus for locus in range(meta_rep.totNumLoci())\n",
    "            if af['minor', 'alleles'][locus] == af['major', 'alleles'][locus]]\n",
    "\n",
    "    for st in ties:\n",
    "        af['major', 'alleles'][st] = list(meta_rep.dvars().alleleFreq[st])[0]\n",
    "        af['minor', 'alleles'][st] = list(meta_rep.dvars().alleleFreq[st])[1]\n",
    "    major_minor_allele_conflicts = sum(np.equal(list(af['minor', 'alleles'].values()),\n",
    "                                                list(af['major', 'alleles'].values())))\n",
    "\n",
    "    assert major_minor_allele_conflicts == 0, \"There is a tie in at least one locus.\"\n",
    "\n",
    "    #af_table = frq.allele_frq_table(meta_rep, meta_rep.numSubPop(), af, \n",
    "     #                                                      recombination_rates, genetic_map)\n",
    "    #qtaf_table = frq.qt_allele_table(qtalleles, allele_effects[i])\n",
    "    \n",
    "    #af_table.to_csv(various_simulation_info_prefix + prefix + 'allele_frequency_table.txt', sep=',', index=0)\n",
    "    #qtaf_table.to_csv(various_simulation_info_prefix + prefix + 'qt_allele_info.txt', sep=',', index=0)\n",
    "    \n",
    "    #del af_table, qtaf_table\n",
    "\n",
    "\n",
    "\n",
    "    pca = analyze.PCA(meta_rep, range(meta_rep.totNumLoci()), frq)\n",
    "    \n",
    "\n",
    "    minor_ac = pca.calculate_count_matrix(meta_rep, af['minor', 'alleles'],\n",
    "                                         prefix + 'MAC.txt')\n",
    "\n",
    "    eigendata = pca.svd(meta_rep, minor_ac)\n",
    "\n",
    "\n",
    "    individual_names = {ind.ind_id: 'rs_L10_H07_R'+ meta_rep_id +'_G' +\n",
    "                        str(int(ind.generation)) +\n",
    "                        '_I'+str(int(ind.ind_id))\n",
    "                        for ind in meta_rep.individuals()}\n",
    "\n",
    "    ind_names_for_gwas[meta_rep_id] = individual_names\n",
    "\n",
    "    meta_rep.save(populations_prefix + prefix + 'metapopulation.pop')\n",
    "    \n",
    "    names_filename = ind_names_prefix + prefix + 'individual_names.yaml'\n",
    "    with open(names_filename, 'w') as name_stream:\n",
    "        yaml.dump(individual_names, name_stream)\n",
    "\n",
    "\n",
    "    \n",
    "    \n",
    "\n",
    "    gwas = analyze.GWAS(meta_rep, individual_names, locus_names, pos_column)\n",
    "    hmap = gwas.hapmap_formatter(integer_to_snp, tassel_input_dir_prefix + prefix + 'simulated_hapmap.txt')\n",
    "    phenos = gwas.trait_formatter(tassel_input_dir_prefix + prefix + 'phenotype_vector.txt')\n",
    "    kinship_matrix = gwas.calc_kinship_matrix(minor_ac, af, tassel_input_dir_prefix + prefix + 'kinship_matrix.txt')\n",
    "    pop_struct_matrix = gwas.population_structure_formatter(eigendata, tassel_input_dir_prefix + prefix + 'structure_matrix.txt')\n",
    "    pd.DataFrame(multipop.population(i).dvars().statistics).to_csv(tassel_input_dir_prefix + prefix + 'means_and_vars.txt', sep='\\t')\n",
    "    analyze.generate_tassel_gwas_configs(tassel_input_dir_prefix, \n",
    "                                         tassel_output_dir_prefix, \n",
    "                                       tassel_config_prefix, \n",
    "                                       prefix, \n",
    "                                       'sim_mlm_gwas_pipeline.xml')"
   ]
  },
  {
   "cell_type": "code",
   "execution_count": null,
   "metadata": {
    "collapsed": true
   },
   "outputs": [],
   "source": []
  },
  {
   "cell_type": "markdown",
   "metadata": {},
   "source": [
    "## G Matrix Calculated From Saegus"
   ]
  },
  {
   "cell_type": "markdown",
   "metadata": {},
   "source": [
    "#### Minor Allele Count Matrix:\n",
    "    saegus calculates the minor/major alleles of every generation.\n",
    "    In this the minor allele count matrix corresponds to the minor\n",
    "    allele in the unselected base population, G_0. The allele \n",
    "    frequencies for the G calculation are based upon the major allele\n",
    "    of the unselected base population, G_0."
   ]
  },
  {
   "cell_type": "code",
   "execution_count": null,
   "metadata": {
    "collapsed": true
   },
   "outputs": [],
   "source": []
  },
  {
   "cell_type": "markdown",
   "metadata": {},
   "source": [
    "#### Evaluation Using R0"
   ]
  },
  {
   "cell_type": "code",
   "execution_count": 10,
   "metadata": {
    "collapsed": false
   },
   "outputs": [],
   "source": [
    "r0_mac = np.loadtxt('R0_MAC.txt', delimiter=' ')\n",
    "r0_M = np.matrix(r0_mac -1)\n",
    "r0_aggregate_minor_allele_frqs = np.zeros((multi_meta.population(0).totNumLoci()))\n",
    "for i in range(7386):\n",
    "    maj_allele = af['minor', 'alleles'][i]\n",
    "    r0_aggregate_minor_allele_frqs[i] = multi_meta.population(0).dvars().alleleFreq[i][maj_allele]\n",
    "r0_P = 2*(r0_aggregate_minor_allele_frqs - 0.5)\n",
    "\n",
    "r0_denom = np.zeros((7386))\n",
    "for i, probability in enumerate(r0_aggregate_minor_allele_frqs):\n",
    "    r0_denom[i] = 2*probability*(1 - probability)\n",
    "r0_scaling_factor = sum(r0_denom)\n",
    "\n"
   ]
  },
  {
   "cell_type": "code",
   "execution_count": 11,
   "metadata": {
    "collapsed": false
   },
   "outputs": [
    {
     "data": {
      "text/plain": [
       "array([-1., -1., -1., ..., -1., -1., -1.])"
      ]
     },
     "execution_count": 11,
     "metadata": {},
     "output_type": "execute_result"
    }
   ],
   "source": [
    "r0_P"
   ]
  },
  {
   "cell_type": "code",
   "execution_count": 12,
   "metadata": {
    "collapsed": false
   },
   "outputs": [
    {
     "data": {
      "text/plain": [
       "677.20423750000248"
      ]
     },
     "execution_count": 12,
     "metadata": {},
     "output_type": "execute_result"
    }
   ],
   "source": [
    "r0_scaling_factor"
   ]
  },
  {
   "cell_type": "code",
   "execution_count": 13,
   "metadata": {
    "collapsed": true
   },
   "outputs": [],
   "source": [
    "r0_Z = np.matrix(r0_M - r0_P)\n",
    "r0_G = r0_Z*r0_Z.T/sum(r0_denom)"
   ]
  },
  {
   "cell_type": "code",
   "execution_count": 15,
   "metadata": {
    "collapsed": false
   },
   "outputs": [],
   "source": [
    "np.savetxt('R0_kinship.txt', r0_G, fmt='%0.5f')"
   ]
  },
  {
   "cell_type": "code",
   "execution_count": null,
   "metadata": {
    "collapsed": true
   },
   "outputs": [],
   "source": []
  },
  {
   "cell_type": "markdown",
   "metadata": {
    "collapsed": true
   },
   "source": [
    "#### Evaluation Using R1"
   ]
  },
  {
   "cell_type": "code",
   "execution_count": 16,
   "metadata": {
    "collapsed": true
   },
   "outputs": [],
   "source": [
    "r1_mac = np.loadtxt('R1_MAC.txt', delimiter=' ')\n",
    "r1_M = np.matrix(r1_mac - 1)\n",
    "r1_aggregate_minor_allele_frqs = np.zeros((multi_meta.population(1).totNumLoci()))\n",
    "for i in range(7386):\n",
    "    maj_allele = af['minor', 'alleles'][i]\n",
    "    r1_aggregate_minor_allele_frqs[i] = multi_meta.population(1).dvars().alleleFreq[i][maj_allele]\n",
    "r1_P = 2*(r1_aggregate_minor_allele_frqs - 0.5)\n",
    "\n",
    "r1_denom = np.zeros((7386))\n",
    "for i, probability in enumerate(r1_aggregate_minor_allele_frqs):\n",
    "    r1_denom[i] = 2*probability*(1 - probability)\n",
    "r1_scaling_factor = sum(r0_denom)\n",
    "\n",
    "\n"
   ]
  },
  {
   "cell_type": "code",
   "execution_count": 17,
   "metadata": {
    "collapsed": false
   },
   "outputs": [
    {
     "data": {
      "text/plain": [
       "677.20423750000248"
      ]
     },
     "execution_count": 17,
     "metadata": {},
     "output_type": "execute_result"
    }
   ],
   "source": [
    "r1_scaling_factor"
   ]
  },
  {
   "cell_type": "code",
   "execution_count": 18,
   "metadata": {
    "collapsed": false
   },
   "outputs": [],
   "source": [
    "r1_Z = np.matrix(r1_M - r1_P)\n",
    "r1_G = r1_Z*r1_Z.T/sum(r1_denom)"
   ]
  },
  {
   "cell_type": "code",
   "execution_count": 19,
   "metadata": {
    "collapsed": true
   },
   "outputs": [],
   "source": [
    "np.savetxt('R1_kinship', r1_G, fmt='%.5f')"
   ]
  },
  {
   "cell_type": "code",
   "execution_count": null,
   "metadata": {
    "collapsed": true
   },
   "outputs": [],
   "source": []
  },
  {
   "cell_type": "code",
   "execution_count": null,
   "metadata": {
    "collapsed": true
   },
   "outputs": [],
   "source": []
  },
  {
   "cell_type": "code",
   "execution_count": null,
   "metadata": {
    "collapsed": true
   },
   "outputs": [],
   "source": []
  },
  {
   "cell_type": "code",
   "execution_count": null,
   "metadata": {
    "collapsed": true
   },
   "outputs": [],
   "source": [
    "annotated_G = pd.DataFrame(G, index=[self.individual_names[ind.ind_id]\n",
    "                                     for ind in\n",
    "                                     self.pop.individuals()])\n",
    "\n",
    "# Tassel example has number of individuals in the header of the G\n",
    "# matrix file\n",
    "header = \"{}\\n\".format(self.pop.popSize())\n",
    "\n",
    "cwd = os.getcwd()\n",
    "file_out_path = os.path.join(cwd, kinship_filename)\n",
    "\n",
    "if os.path.exists(file_out_path):\n",
    "    os.remove(file_out_path)\n",
    "with open(kinship_filename, 'a') as f:\n",
    "    f.write(header)\n",
    "    annotated_G.to_csv(f, sep=' ', index=True, header=False)"
   ]
  },
  {
   "cell_type": "code",
   "execution_count": null,
   "metadata": {
    "collapsed": true
   },
   "outputs": [],
   "source": []
  },
  {
   "cell_type": "code",
   "execution_count": null,
   "metadata": {
    "collapsed": true
   },
   "outputs": [],
   "source": []
  },
  {
   "cell_type": "code",
   "execution_count": null,
   "metadata": {
    "collapsed": false
   },
   "outputs": [],
   "source": [
    "analyze.generate_tassel_gwas_configs(tassel_input_dir_prefix, tassel_output_dir_prefix, \n",
    "                                         tassel_config_prefix, run_prefix+prefix, 'sim_mlm_gwas_pipeline.xml')"
   ]
  },
  {
   "cell_type": "code",
   "execution_count": null,
   "metadata": {
    "collapsed": false
   },
   "outputs": [],
   "source": [
    "numap = hmap.drop([\"rs\", \"alleles\", \"chrom\", \"pos\", \"strand\", \n",
    "                   \"assembly\", \"center\", \"protLSID\", \"assayLSID\",\n",
    "                  \"panelLSID\", \"QCcode\"], axis=1).T"
   ]
  },
  {
   "cell_type": "code",
   "execution_count": null,
   "metadata": {
    "collapsed": false
   },
   "outputs": [],
   "source": [
    "numap.columns = [\"M\" + str(idx+1) for idx in numap.columns]"
   ]
  },
  {
   "cell_type": "code",
   "execution_count": null,
   "metadata": {
    "collapsed": false
   },
   "outputs": [],
   "source": [
    "numap.columns"
   ]
  },
  {
   "cell_type": "code",
   "execution_count": null,
   "metadata": {
    "collapsed": true
   },
   "outputs": [],
   "source": []
  }
 ],
 "metadata": {
  "kernelspec": {
   "display_name": "Python 3",
   "language": "python",
   "name": "python3"
  },
  "language_info": {
   "codemirror_mode": {
    "name": "ipython",
    "version": 3
   },
   "file_extension": ".py",
   "mimetype": "text/x-python",
   "name": "python",
   "nbconvert_exporter": "python",
   "pygments_lexer": "ipython3",
   "version": "3.4.3"
  }
 },
 "nbformat": 4,
 "nbformat_minor": 0
}
