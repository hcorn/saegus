{
 "cells": [
  {
   "cell_type": "markdown",
   "metadata": {},
   "source": [
    "# Simulating a Population for Use in GWAS #"
   ]
  },
  {
   "cell_type": "markdown",
   "metadata": {},
   "source": [
    "### Population Parameters ###"
   ]
  },
  {
   "cell_type": "code",
   "execution_count": 1,
   "metadata": {},
   "outputs": [],
   "source": [
    "%matplotlib inline\n",
    "import shelve\n",
    "import simuOpt\n",
    "simuOpt.setOptions(alleleType='short', numThreads=4, quiet=True)\n",
    "import simuPOP as sim\n",
    "import pandas as pd\n",
    "import collections as col\n",
    "from saegus import breed, operators, selection, helpers, parser, parameterizer, selection\n",
    "import random\n",
    "#random.seed(1337)\n",
    "import numpy as np\n",
    "np.set_printoptions(suppress=True, precision=3)\n",
    "import matplotlib.pyplot as plt"
   ]
  },
  {
   "cell_type": "code",
   "execution_count": 2,
   "metadata": {},
   "outputs": [],
   "source": [
    "hapmap = pd.read_csv('clean_hapmap.txt')\n",
    "genetic_map = hapmap.ix[:, :'cM_pos']\n",
    "genetic_map = pd.read_csv('nam_prefounders_genetic_map.txt', index_col=None,\n",
    "                         sep='\\t')\n",
    "\n",
    "chr_cM_positions = {}\n",
    "for i in range(1, 11):\n",
    "    chr_cM_positions[i] = []\n",
    "\n",
    "for idx in range(len(genetic_map)):\n",
    "    chr_cM_positions[int(genetic_map.iloc[idx]['chr'])].append(\n",
    "    float(genetic_map.iloc[idx]['cM_pos']))\n",
    "\n",
    "\n",
    "cM_positions = []\n",
    "for i in range(1, 11):\n",
    "    cM_positions.append(chr_cM_positions[i])\n",
    "\n",
    "\n",
    "snp_to_integer = {'A': 0, 'C': 1, 'G': 2, 'T': 3, '-':4, '+':5}\n",
    "allele_names = ['A', 'C', 'T', 'G', 'D', 'I']\n",
    "integer_to_snp = {0: 'A', 1:'C', 2: 'G', 3: 'T', 4: '-', 5: '+'}\n",
    "\n",
    "\n",
    "integral_valued_loci = []\n",
    "relative_integral_valued_loci = {}\n",
    "for idx in range(len(genetic_map)):\n",
    "    if str(genetic_map.iloc[idx]['cM_pos'])[-2:] == '.0':\n",
    "        integral_valued_loci.append(idx)\n",
    "        relative_integral_valued_loci[idx] = (genetic_map.iloc[idx]['chr'], genetic_map.iloc[idx]['cM_pos'])\n",
    "\n",
    "alleles = {i: (snp_to_integer[hapmap.ix[i, 'alleles'][0]], \n",
    "               snp_to_integer[hapmap.ix[i, 'alleles'][-1]]) for i in\n",
    "          range(len(hapmap))}\n",
    "\n",
    "recombination_rates = []\n",
    "for chromosome in cM_positions:\n",
    "    for cM in chromosome:\n",
    "        if str(cM)[-2:] == '.6':\n",
    "            recombination_rates.append(0.01)\n",
    "        else:\n",
    "            recombination_rates.append(0.0)\n",
    "\n",
    "allele_names = ['A', 'C', 'T', 'G', 'D', 'I']\n",
    "\n",
    "flat_cM_positions = []\n",
    "for cMs in cM_positions:\n",
    "    flat_cM_positions.extend(cMs)\n",
    "\n",
    "\n",
    "nam = sim.loadPopulation('nam_prefounders.pop')\n",
    "nam.setSubPopName('prefounders', 0)\n",
    "sample_sizes = {i: 100 for i in range(0, 21, 2)}\n",
    "\n",
    "genetic_structure = {}\n",
    "genetic_structure['cM_positions'] = cM_positions\n",
    "genetic_structure['chr_cM_positions'] = chr_cM_positions\n",
    "genetic_structure['allele_names'] = allele_names\n",
    "genetic_structure['integral_valued_loci'] = integral_valued_loci\n",
    "genetic_structure['relative_integral_valued_loci'] = relative_integral_valued_loci\n",
    "genetic_structure['alleles'] = alleles\n",
    "genetic_structure['recombination_rates'] = recombination_rates"
   ]
  },
  {
   "cell_type": "code",
   "execution_count": 3,
   "metadata": {},
   "outputs": [],
   "source": [
    "sim_params = {\n",
    "                'generations_of_selection': 10,\n",
    "                'generations_of_drift': 10,\n",
    "                'generations_of_random_mating': 3,\n",
    "                'operating_population_size': 2000,\n",
    "                'proportion_of_individuals_saved': 0.05,\n",
    "                'overshoot_as_proportion': 0.50,\n",
    "                'individuals_per_breeding_subpop': 5,\n",
    "                'heritability': 0.7,\n",
    "                'meta_pop_sample_sizes': sample_sizes,\n",
    "                'number_of_replicates': 1,\n",
    "                'prefounder_file_name': 'nam_prefounders.pop',\n",
    "                'founders': [(3,18), (2, 13), (7, 14), (1, 19),\n",
    "                            (14, 17), (1, 20), (17, 21), (9, 22)]\n",
    "    }"
   ]
  },
  {
   "cell_type": "code",
   "execution_count": 4,
   "metadata": {},
   "outputs": [],
   "source": [
    "qtl_params = {\n",
    "                'qtl': 10,\n",
    "                'allele_effects': 1,\n",
    "}\n",
    "selection_statistics = {\n",
    "    'aggregate': {},\n",
    "    'selected': {},\n",
    "    'non-selected': {}\n",
    "}\n",
    "drift_statistics = {\n",
    "    'aggregate': {},\n",
    "    'selected': {},\n",
    "    'non-selected': {}\n",
    "}"
   ]
  },
  {
   "cell_type": "code",
   "execution_count": 5,
   "metadata": {},
   "outputs": [],
   "source": [
    "s = selection.Truncation(sim_params['generations_of_selection'],\n",
    "                       sim_params['generations_of_random_mating'],\n",
    "                       sim_params['operating_population_size'],\n",
    "                       sim_params['proportion_of_individuals_saved'],\n",
    "                       sim_params['overshoot_as_proportion'],\n",
    "                       sim_params['individuals_per_breeding_subpop'],\n",
    "                       sim_params['heritability'],\n",
    "                       sim_params['meta_pop_sample_sizes'],\n",
    "                       sim_params['number_of_replicates'])\n",
    "\n",
    "d = selection.Drift(sim_params['generations_of_drift'],\n",
    "                       sim_params['generations_of_random_mating'],\n",
    "                       sim_params['operating_population_size'],\n",
    "                       sim_params['proportion_of_individuals_saved'],\n",
    "                       sim_params['overshoot_as_proportion'],\n",
    "                       sim_params['individuals_per_breeding_subpop'],\n",
    "                       sim_params['heritability'],\n",
    "                       sim_params['meta_pop_sample_sizes'],\n",
    "                       sim_params['number_of_replicates'])"
   ]
  },
  {
   "cell_type": "code",
   "execution_count": 6,
   "metadata": {},
   "outputs": [],
   "source": [
    "sim.tagID(nam, reset=True)\n",
    "\n",
    "founders = sim_params['founders']\n",
    "replicated_nam = sim.Simulator(nam, rep=3)\n",
    "pop = replicated_nam.extract(0)\n",
    "#pop.dvars().statistics = population_statistics\n",
    "selection_meta = replicated_nam.extract(0)\n",
    "drift_meta = replicated_nam.extract(0)\n",
    "#meta.removeSubPops(0)"
   ]
  },
  {
   "cell_type": "markdown",
   "metadata": {},
   "source": [
    "### Simulated Breeding Scenario ###"
   ]
  },
  {
   "cell_type": "code",
   "execution_count": 7,
   "metadata": {},
   "outputs": [
    {
     "name": "stdout",
     "output_type": "stream",
     "text": [
      "Creating the F_one population from selected founders.\n",
      "Generation: 0\n"
     ]
    }
   ],
   "source": [
    "s.generate_f_one(pop, recombination_rates, sim_params['founders'])"
   ]
  },
  {
   "cell_type": "code",
   "execution_count": 8,
   "metadata": {},
   "outputs": [
    {
     "name": "stdout",
     "output_type": "stream",
     "text": [
      "Generation: 1\tpopSize: 8\n",
      "Generation: 2\tpopSize: 4\n",
      "Generation: 3\tpopSize: 2\n"
     ]
    }
   ],
   "source": [
    "s.recombinatorial_convergence(pop, recombination_rates)"
   ]
  },
  {
   "cell_type": "code",
   "execution_count": 9,
   "metadata": {},
   "outputs": [
    {
     "name": "stdout",
     "output_type": "stream",
     "text": [
      "Creating the F_two population.\n",
      "Generation: 4\n",
      "Initiating interim random mating for 3 generations.\n",
      "Generation: 5\n",
      "Generation: 6\n",
      "Generation: 7\n"
     ]
    }
   ],
   "source": [
    "s.expand_by_selfing(pop, recombination_rates)\n",
    "s.interim_random_mating(pop, recombination_rates)\n",
    "sim.stat(pop, numOfSegSites=integral_valued_loci, vars=['numOfSegSites', 'segSites'])"
   ]
  },
  {
   "cell_type": "code",
   "execution_count": 10,
   "metadata": {},
   "outputs": [
    {
     "data": {
      "text/plain": [
       "2000"
      ]
     },
     "execution_count": 10,
     "output_type": "execute_result",
     "metadata": {}
    }
   ],
   "source": [
    "pop.popSize()"
   ]
  },
  {
   "cell_type": "code",
   "execution_count": 11,
   "metadata": {},
   "outputs": [],
   "source": [
    "run_id = \"run_11_\""
   ]
  },
  {
   "cell_type": "markdown",
   "metadata": {},
   "source": [
    "## Choose QTL and Assign Effects ##"
   ]
  },
  {
   "cell_type": "code",
   "execution_count": 12,
   "metadata": {},
   "outputs": [],
   "source": [
    "qtl = parameterizer.seg_qtl_chooser(pop, integral_valued_loci, qtl_params['qtl'])\n",
    "\n",
    "triplet_qtl = []\n",
    "for locus in qtl:\n",
    "    triplet_qtl.append(locus-1)\n",
    "    triplet_qtl.append(locus)\n",
    "    triplet_qtl.append(locus+1)\n",
    "triplet_qtl = sorted(triplet_qtl)\n",
    "\n",
    "qtl_params['triplet_qtl'] = triplet_qtl\n",
    "\n",
    "allele_effects = {locus: {} for locus in triplet_qtl}\n",
    "for tqtl in triplet_qtl:\n",
    "    for allele in alleles[tqtl]:\n",
    "        allele_effects[tqtl][allele] = random.expovariate(qtl_params['allele_effects'])\n",
    "\n",
    "qtl_params['allele_effects'] = allele_effects\n",
    "        \n",
    "\n",
    "\n",
    "# Write parameter sets to a 'shelf'.\n",
    "import shelve\n",
    "with shelve.open(run_id+\"quantitative_trait_simulation_params\") as qtdb:\n",
    "    qtdb['qtl_params'] = qtl_params\n",
    "    qtdb['sim_params'] = sim_params\n",
    "\n",
    "rsparams = shelve.open(\"RS_Parameter_Sets\")\n",
    "rsparams['truncation'] = s\n",
    "rsparams['drift'] = d\n",
    "rsparams['seg_sites_after_rmating'] = list(pop.dvars().segSites)\n",
    "rsparams['qtl_parameters'] = qtl_params\n",
    "rsparams['simulation_parameters'] = sim_params\n",
    "    \n",
    "pop.dvars().qtl = qtl\n",
    "pop.dvars().triplet_qtl = triplet_qtl\n",
    "pop.dvars().allele_effects = allele_effects\n",
    "\n",
    "selection_plus_drift_replicates = sim.Simulator(pop, rep=2)\n",
    "selection_pop = selection_plus_drift_replicates.extract(0)\n",
    "drift_pop = selection_plus_drift_replicates.extract(0)"
   ]
  },
  {
   "cell_type": "code",
   "execution_count": 13,
   "metadata": {},
   "outputs": [],
   "source": [
    "selection_pop.dvars().statistics = selection_statistics\n",
    "drift_pop.dvars().statistics = drift_statistics"
   ]
  },
  {
   "cell_type": "code",
   "execution_count": 14,
   "metadata": {},
   "outputs": [
    {
     "name": "stdout",
     "output_type": "stream",
     "text": [
      "Initial: Sampled 100 individuals from generation 0 Replicate: 0.\n",
      "Generation: 0\n",
      "Generation: 1\n",
      "Generation: 2\n",
      "Generation: 3\n",
      "Generation: 4\n",
      "Generation: 5\n",
      "Generation: 6\n",
      "Generation: 7\n",
      "Generation: 8\n",
      "Generation: 9\n",
      "Final: Sampled 100 individuals from generation 10\n",
      "Initial: Sampled 100 individuals from generation 0 Replicate: 0.\n",
      "Generation: 0\n",
      "Generation: 1\n",
      "Generation: 2\n",
      "Generation: 3\n",
      "Generation: 4\n",
      "Generation: 5\n",
      "Generation: 6\n",
      "Generation: 7\n",
      "Generation: 8\n",
      "Generation: 9\n",
      "Final: Sampled 100 individuals from generation 10\n"
     ]
    },
    {
     "data": {
      "text/plain": [
       "0"
      ]
     },
     "execution_count": 14,
     "output_type": "execute_result",
     "metadata": {}
    }
   ],
   "source": [
    "s.recurrent_truncation_selection(selection_pop, selection_meta, triplet_qtl, allele_effects,\n",
    "                                recombination_rates)\n",
    "\n",
    "d.recurrent_drift_selection(drift_pop, drift_meta, triplet_qtl, allele_effects, \n",
    "                            recombination_rates)\n",
    "                                \n",
    "selection_meta.removeSubPops(0)\n",
    "drift_meta.removeSubPops(0)\n",
    "\n",
    "selection_qtd = helpers.Frq(selection_meta, triplet_qtl, alleles, allele_effects)\n",
    "drift_qtd = helpers.Frq(drift_meta, triplet_qtl, alleles, allele_effects)\n",
    "\n",
    "\n",
    "selection_af = selection_qtd.allele_frequencies(selection_meta, range(selection_meta.totNumLoci()))\n",
    "drift_af = drift_qtd.allele_frequencies(drift_meta, range(drift_meta.totNumLoci()))\n",
    "selection_qtalleles = selection_qtd.rank_allele_effects(selection_meta, triplet_qtl, alleles, allele_effects)\n",
    "drift_qtalleles = drift_qtd.rank_allele_effects(drift_meta, triplet_qtl, alleles, allele_effects)\n",
    "selection_ties = [locus for locus in range(selection_meta.totNumLoci()) \n",
    "                  if selection_af['minor', 'alleles'][locus] == selection_af['major', 'alleles'][locus]]\n",
    "drift_ties = [locus for locus in range(drift_meta.totNumLoci())\n",
    "                  if drift_af['minor', 'alleles'][locus] == drift_af['major', 'alleles'][locus]]\n",
    "\n",
    "for st in selection_ties:\n",
    "    selection_af['major', 'alleles'][st] = list(selection_meta.dvars().alleleFreq[st])[0]\n",
    "    selection_af['major', 'alleles'][st] = list(selection_meta.dvars().alleleFreq[st])[1]\n",
    "for dt in drift_ties:\n",
    "    drift_af['minor', 'alleles'][dt] = list(drift_meta.dvars().alleleFreq[dt])[0]\n",
    "    drift_af['major', 'alleles'][dt] = list(drift_meta.dvars().alleleFreq[dt])[1]\n",
    "sum(np.equal(list(selection_af['minor', 'alleles'].values()), list(selection_af['major', 'alleles'].values())))\n",
    "sum(np.equal(list(drift_af['minor', 'alleles'].values()), list(drift_af['major', 'alleles'].values())))"
   ]
  },
  {
   "cell_type": "code",
   "execution_count": 15,
   "metadata": {},
   "outputs": [
    {
     "data": {
      "text/plain": [
       "2000"
      ]
     },
     "execution_count": 15,
     "output_type": "execute_result",
     "metadata": {}
    }
   ],
   "source": [
    "selection_pop.popSize()"
   ]
  },
  {
   "cell_type": "code",
   "execution_count": 16,
   "metadata": {},
   "outputs": [
    {
     "data": {
      "text/plain": [
       "2000"
      ]
     },
     "execution_count": 16,
     "output_type": "execute_result",
     "metadata": {}
    }
   ],
   "source": [
    "drift_pop.popSize()"
   ]
  },
  {
   "cell_type": "raw",
   "metadata": {}
  },
  {
   "cell_type": "raw",
   "metadata": {}
  },
  {
   "cell_type": "markdown",
   "metadata": {},
   "source": [
    "## Gather Data for Use in GWAS ##"
   ]
  },
  {
   "cell_type": "raw",
   "metadata": {}
  },
  {
   "cell_type": "raw",
   "metadata": {}
  },
  {
   "cell_type": "raw",
   "metadata": {}
  },
  {
   "cell_type": "raw",
   "metadata": {}
  },
  {
   "cell_type": "markdown",
   "metadata": {},
   "source": [
    "## Analyzing TASSEL GWAS Results ##"
   ]
  },
  {
   "cell_type": "code",
   "execution_count": null,
   "metadata": {},
   "outputs": [],
   "source": [
    "selection_meta.dvars(3).haploFreq"
   ]
  },
  {
   "cell_type": "code",
   "execution_count": null,
   "metadata": {},
   "outputs": [],
   "source": []
  },
  {
   "cell_type": "code",
   "execution_count": 43,
   "metadata": {},
   "outputs": [],
   "source": [
    "htypes['loci'] = {}\n",
    "\n",
    "\n",
    "\n",
    "for k, i in enumerate(range(0, len(triplet_qtl), 3)):\n",
    "    htypes['loci'][k] = (triplet_qtl[i], triplet_qtl[i+1], triplet_qtl[i+2])\n",
    "\n",
    "\n",
    "htypes['alleles'] = {}\n",
    "htypes['effect'] = {}\n",
    "htypes['frequency'] = {}\n",
    "htypes['frequency']['accumulated'] = {}\n",
    "for loci in htypes['loci'].values():\n",
    "    htypes['frequency'][loci] = {}\n",
    "    for sp in range(selection_meta.numSubPop()):\n",
    "        htypes['frequency'][loci][sp] = {}"
   ]
  },
  {
   "cell_type": "code",
   "execution_count": 55,
   "metadata": {},
   "outputs": [],
   "source": [
    "sim.stat(selection_meta, haploFreq=list(htypes['loci'].values()), vars=['haploFreq', 'haploFreq_sp'])"
   ]
  },
  {
   "cell_type": "code",
   "execution_count": null,
   "metadata": {},
   "outputs": [],
   "source": []
  },
  {
   "cell_type": "code",
   "execution_count": null,
   "metadata": {},
   "outputs": [],
   "source": []
  },
  {
   "cell_type": "code",
   "execution_count": 108,
   "metadata": {},
   "outputs": [],
   "source": [
    "for sp in range(selection_meta.numSubPop()):\n",
    "    for loci, triplet in htypes['alleles'].items():\n",
    "        for alleles in triplet:\n",
    "            htypes['frequency'][loci][sp] = selection_meta.dvars(sp).haploFreq[loci][alleles]\n",
    "\n",
    "for loci, triplet in htypes['alleles'].items():\n",
    "    htypes['frequency']['accumulated'][loci] = {}\n",
    "    for alleles in triplet:\n",
    "        htypes['frequency']['accumulated'][loci] = selection_meta.dvars().haploFreq[loci][alleles]\n"
   ]
  },
  {
   "cell_type": "code",
   "execution_count": 126,
   "metadata": {},
   "outputs": [
    {
     "data": {
      "text/plain": [
       "{(1335, 1336, 1337): 0.4633333333333333,\n",
       " (1475, 1476, 1477): 0.23083333333333333,\n",
       " (2275, 2276, 2277): 0.23,\n",
       " (2685, 2686, 2687): 0.855,\n",
       " (3045, 3046, 3047): 0.56,\n",
       " (4215, 4216, 4217): 0.2,\n",
       " (4335, 4336, 4337): 0.6875,\n",
       " (4847, 4848, 4849): 0.14916666666666667,\n",
       " (6202, 6203, 6204): 0.38,\n",
       " (6227, 6228, 6229): 0.21833333333333332}"
      ]
     },
     "execution_count": 126,
     "output_type": "execute_result",
     "metadata": {}
    }
   ],
   "source": [
    "htypes['frequency']['accumulated']"
   ]
  },
  {
   "cell_type": "code",
   "execution_count": 112,
   "metadata": {},
   "outputs": [
    {
     "data": {
      "text/plain": [
       "{}"
      ]
     },
     "execution_count": 112,
     "output_type": "execute_result",
     "metadata": {}
    }
   ],
   "source": [
    "\n",
    "htypes['frequency']['accumulated']"
   ]
  },
  {
   "cell_type": "code",
   "execution_count": 72,
   "metadata": {},
   "outputs": [],
   "source": [
    "for loci in htypes['loci'].values():\n",
    "    for sp in range(selection_meta.numSubPop()):\n",
    "        htypes['frequency'][loci][sp] = selection_meta.dvars(sp).haploFreq[loci]"
   ]
  },
  {
   "cell_type": "code",
   "execution_count": null,
   "metadata": {},
   "outputs": [],
   "source": []
  },
  {
   "cell_type": "code",
   "execution_count": 20,
   "metadata": {},
   "outputs": [],
   "source": [
    "for sp in range(selection_meta.numSubPop()):\n",
    "    htypes[sp] = {}"
   ]
  },
  {
   "cell_type": "code",
   "execution_count": null,
   "metadata": {},
   "outputs": [],
   "source": [
    "sele"
   ]
  },
  {
   "cell_type": "code",
   "execution_count": 17,
   "metadata": {},
   "outputs": [
    {
     "ename": "KeyError",
     "evalue": "0",
     "output_type": "error",
     "traceback": [
      "\u001b[1;31m---------------------------------------------------------------------------\u001b[0m",
      "\u001b[1;31mKeyError\u001b[0m                                  Traceback (most recent call last)",
      "\u001b[1;32m<ipython-input-17-cb4c369d8a20>\u001b[0m in \u001b[0;36m<module>\u001b[1;34m()\u001b[0m\n\u001b[1;32m----> 1\u001b[1;33m \u001b[0mhz\u001b[0m \u001b[1;33m=\u001b[0m \u001b[0mhelpers\u001b[0m\u001b[1;33m.\u001b[0m\u001b[0mhaplotype_data\u001b[0m\u001b[1;33m(\u001b[0m\u001b[0mselection_pop\u001b[0m\u001b[1;33m,\u001b[0m \u001b[0mselection_meta\u001b[0m\u001b[1;33m,\u001b[0m \u001b[0mallele_effects\u001b[0m\u001b[1;33m,\u001b[0m \u001b[0mtriplet_qtl\u001b[0m\u001b[1;33m)\u001b[0m\u001b[1;33m\u001b[0m\u001b[0m\n\u001b[0m",
      "\u001b[1;32mc:\\Anaconda3\\lib\\site-packages\\saegus\\helpers.py\u001b[0m in \u001b[0;36mhaplotype_data\u001b[1;34m(pop, meta_pop, allele_effects, quan_trait_loci)\u001b[0m\n\u001b[0;32m    347\u001b[0m             \u001b[0mhaplotypes\u001b[0m\u001b[1;33m[\u001b[0m\u001b[1;34m'frequency'\u001b[0m\u001b[1;33m]\u001b[0m\u001b[1;33m[\u001b[0m\u001b[0mlabel\u001b[0m\u001b[1;33m]\u001b[0m\u001b[1;33m[\u001b[0m\u001b[0mhtype\u001b[0m\u001b[1;33m]\u001b[0m \u001b[1;33m=\u001b[0m \u001b[1;33m{\u001b[0m\u001b[1;33m}\u001b[0m\u001b[1;33m\u001b[0m\u001b[0m\n\u001b[0;32m    348\u001b[0m             \u001b[1;32mfor\u001b[0m \u001b[0mtrip\u001b[0m \u001b[1;32min\u001b[0m \u001b[0mtriplets\u001b[0m\u001b[1;33m:\u001b[0m\u001b[1;33m\u001b[0m\u001b[0m\n\u001b[1;32m--> 349\u001b[1;33m                 \u001b[0mhaplotypes\u001b[0m\u001b[1;33m[\u001b[0m\u001b[1;34m'frequency'\u001b[0m\u001b[1;33m]\u001b[0m\u001b[1;33m[\u001b[0m\u001b[0msp\u001b[0m\u001b[1;33m]\u001b[0m\u001b[1;33m[\u001b[0m\u001b[0mhtype\u001b[0m\u001b[1;33m]\u001b[0m\u001b[1;33m[\u001b[0m\u001b[0mlabel\u001b[0m\u001b[1;33m]\u001b[0m\u001b[1;33m[\u001b[0m\u001b[0mtrip\u001b[0m\u001b[1;33m]\u001b[0m \u001b[1;33m=\u001b[0m \u001b[0mmeta_pop\u001b[0m\u001b[1;33m.\u001b[0m\u001b[0mdvars\u001b[0m\u001b[1;33m(\u001b[0m\u001b[0msp\u001b[0m\u001b[1;33m)\u001b[0m\u001b[1;33m.\u001b[0m\u001b[0mhaploFreq\u001b[0m\u001b[1;33m[\u001b[0m\u001b[0mhtype\u001b[0m\u001b[1;33m]\u001b[0m\u001b[1;33m[\u001b[0m\u001b[0mtrip\u001b[0m\u001b[1;33m]\u001b[0m\u001b[1;33m\u001b[0m\u001b[0m\n\u001b[0m\u001b[0;32m    350\u001b[0m \u001b[1;33m\u001b[0m\u001b[0m\n\u001b[0;32m    351\u001b[0m     \u001b[1;32mfor\u001b[0m \u001b[0mhtype\u001b[0m\u001b[1;33m,\u001b[0m \u001b[0mtriplets\u001b[0m \u001b[1;32min\u001b[0m \u001b[0mhaplotypes\u001b[0m\u001b[1;33m[\u001b[0m\u001b[1;34m'alleles'\u001b[0m\u001b[1;33m]\u001b[0m\u001b[1;33m.\u001b[0m\u001b[0mitems\u001b[0m\u001b[1;33m(\u001b[0m\u001b[1;33m)\u001b[0m\u001b[1;33m:\u001b[0m\u001b[1;33m\u001b[0m\u001b[0m\n",
      "\u001b[1;31mKeyError\u001b[0m: 0"
     ]
    }
   ],
   "source": [
    "hz = helpers.haplotype_data(selection_pop, selection_meta, allele_effects, triplet_qtl)"
   ]
  },
  {
   "cell_type": "code",
   "execution_count": null,
   "metadata": {},
   "outputs": [],
   "source": [
    "selection_meta.dvars().haploFreq"
   ]
  },
  {
   "cell_type": "code",
   "execution_count": null,
   "metadata": {},
   "outputs": [],
   "source": [
    "['frequency'][5611, 5612, 5613]"
   ]
  },
  {
   "cell_type": "code",
   "execution_count": null,
   "metadata": {},
   "outputs": [],
   "source": [
    "gens"
   ]
  },
  {
   "cell_type": "code",
   "execution_count": null,
   "metadata": {},
   "outputs": [],
   "source": [
    "hz['frequency'][loci][haplotype]"
   ]
  },
  {
   "cell_type": "code",
   "execution_count": null,
   "metadata": {},
   "outputs": [],
   "source": [
    "alleles"
   ]
  },
  {
   "cell_type": "code",
   "execution_count": null,
   "metadata": {},
   "outputs": [],
   "source": [
    "selection_statistics"
   ]
  },
  {
   "cell_type": "code",
   "execution_count": null,
   "metadata": {},
   "outputs": [],
   "source": []
  },
  {
   "cell_type": "code",
   "execution_count": null,
   "metadata": {},
   "outputs": [],
   "source": [
    "store_toy_parameter_set()"
   ]
  },
  {
   "cell_type": "code",
   "execution_count": null,
   "metadata": {},
   "outputs": [],
   "source": [
    "tps = load_toy_parameter_set()"
   ]
  },
  {
   "cell_type": "code",
   "execution_count": null,
   "metadata": {},
   "outputs": [],
   "source": [
    "hz = tps['haplotype']"
   ]
  },
  {
   "cell_type": "code",
   "execution_count": null,
   "metadata": {},
   "outputs": [],
   "source": [
    "\n",
    "generations"
   ]
  },
  {
   "cell_type": "code",
   "execution_count": null,
   "metadata": {},
   "outputs": [],
   "source": [
    "hz['frequency']"
   ]
  },
  {
   "cell_type": "code",
   "execution_count": null,
   "metadata": {},
   "outputs": [],
   "source": [
    "haplotypez = []\n",
    "for locus in hz['loci'].values():\n",
    "    haplotypez.extend(hz['alleles'][locus])"
   ]
  },
  {
   "cell_type": "code",
   "execution_count": null,
   "metadata": {},
   "outputs": [],
   "source": [
    "len(haplotypez)"
   ]
  },
  {
   "cell_type": "code",
   "execution_count": null,
   "metadata": {},
   "outputs": [],
   "source": [
    "data_columns = ['loci', 'haplotype', 'effect'] + generations"
   ]
  },
  {
   "cell_type": "code",
   "execution_count": null,
   "metadata": {},
   "outputs": [],
   "source": [
    "data_columns"
   ]
  },
  {
   "cell_type": "code",
   "execution_count": null,
   "metadata": {},
   "outputs": [],
   "source": [
    "pop.chromLocusPair(383)"
   ]
  },
  {
   "cell_type": "code",
   "execution_count": null,
   "metadata": {},
   "outputs": [],
   "source": [
    "snp_to_integer"
   ]
  },
  {
   "cell_type": "code",
   "execution_count": null,
   "metadata": {},
   "outputs": [],
   "source": [
    "integer_to_snp"
   ]
  },
  {
   "cell_type": "code",
   "execution_count": null,
   "metadata": {},
   "outputs": [],
   "source": [
    "selection_meta.numLoci()"
   ]
  },
  {
   "cell_type": "code",
   "execution_count": null,
   "metadata": {},
   "outputs": [],
   "source": [
    "selection_meta.chromLocusPair(1391)[0]"
   ]
  },
  {
   "cell_type": "code",
   "execution_count": null,
   "metadata": {},
   "outputs": [],
   "source": [
    "ht.ix[:, 'effect':]"
   ]
  },
  {
   "cell_type": "code",
   "execution_count": null,
   "metadata": {},
   "outputs": [],
   "source": [
    "def plot_haplotype_effect_vs_frequency(pop, meta_pop, haplo_data, figure_filename):\n",
    "    \"\"\"Plots haplotype vs frequency in \"\"\"\n",
    "    \n",
    "    haplotypez = []\n",
    "    for locus in hz['loci'].values():\n",
    "        haplotypez.extend(haplo_data['alleles'][locus])\n",
    "    distinct_haplotypes = len(haplotypez)\n",
    "    \n",
    "    fx_vs_frq = {}\n",
    "    fx_vs_frq[99] = np.zeros((2, distinct_haplotypes))\n",
    "    segregating_effects = []\n",
    "    haplotype_frequencies = []\n",
    "    for htype, triplets in haplo_data['alleles'].items():\n",
    "        for trip in triplets:\n",
    "            segregating_effects.append(haplo_data['effect'][htype][trip])\n",
    "            haplotype_frequencies.append(haplo_data['frequency'][htype][trip])\n",
    "    fx_vs_frq[99][0] = haplotype_frequencies\n",
    "    fx_vs_frq[99][1] = segregating_effects\n",
    "    for sp in range(meta.numSubPop()):\n",
    "        fx_vs_frq[sp] = np.zeros((2, distinct_haplotypes))\n",
    "        segregating_effects = []\n",
    "        haplotype_frequencies = []\n",
    "        for htype, triplets in haplo_data['alleles'].items():\n",
    "            for trip in triplets:\n",
    "                segregating_effects.append(haplo_data['effect'][htype][trip])\n",
    "                haplotype_frequencies.append(haplo_data['frequency'][sp][htype][trip])\n",
    "        fx_vs_frq[sp][0] = haplotype_frequencies\n",
    "        fx_vs_frq[sp][1] = segregating_effects\n",
    "    generations = ['G_'+str(i) for i in range(0, pop.dvars().gen+1, 2)]\n",
    "    \n",
    "    f, ax = plt.subplots(7, 1, figsize=(10,30))\n",
    "    ax[6].scatter(fx_vs_frq[99][0], fx_vs_frq[99][1], c='red')\n",
    "    ax[6].grid(True)\n",
    "    ax[6].set_title(\"Aggregate Generation\")\n",
    "    generations = [0, 2, 4, 6, 8, 10]\n",
    "    for i in range(6):\n",
    "        ax[i].scatter(fx_vs_frq[i][0], fx_vs_frq[i][1], c=np.random.rand(3, 1))\n",
    "        ax[i].set_xlim(-0.1, 1.1)\n",
    "        ax[i].set_title(\"Generation {}\".format(generations[i]))\n",
    "        ax[i].grid(True)\n",
    "    \n",
    "    f.savefig(figure_filename, dpi=300)"
   ]
  },
  {
   "cell_type": "raw",
   "metadata": {}
  },
  {
   "cell_type": "code",
   "execution_count": null,
   "metadata": {},
   "outputs": [],
   "source": [
    "sim.stat(meta, varOfInfo=['g', 'p'], vars=['varOfInfo', 'varOfInfo_sp'])"
   ]
  },
  {
   "cell_type": "code",
   "execution_count": null,
   "metadata": {},
   "outputs": [],
   "source": [
    "meta.dvars().meanOfInfo"
   ]
  },
  {
   "cell_type": "code",
   "execution_count": null,
   "metadata": {},
   "outputs": [],
   "source": [
    "pop.dvars(1).meanOfInfo"
   ]
  },
  {
   "cell_type": "code",
   "execution_count": null,
   "metadata": {},
   "outputs": [],
   "source": [
    "for i in range(6):\n",
    "    print(meta.dvars(i).meanOfInfo['p'])"
   ]
  },
  {
   "cell_type": "code",
   "execution_count": null,
   "metadata": {},
   "outputs": [],
   "source": [
    "meta_means"
   ]
  },
  {
   "cell_type": "code",
   "execution_count": null,
   "metadata": {},
   "outputs": [],
   "source": [
    "plot_means_and_variances(meta, output_prefix+\"Meta-Population_Means_and_Variances_of_Phenotype_Over_Time.pdf\")"
   ]
  },
  {
   "cell_type": "code",
   "execution_count": null,
   "metadata": {},
   "outputs": [],
   "source": [
    "meta_gens = [0, 2, 4, 6, 8, 10]\n",
    "meta_means = [meta.dvars(i).meanOfInfo['p'] for i in range(6)]\n",
    "meta_vars = [meta.dvars(i).varOfInfo['p'] for i in range(6)]"
   ]
  },
  {
   "cell_type": "code",
   "execution_count": null,
   "metadata": {},
   "outputs": [],
   "source": [
    "meta_plot = np.array([meta_gens, meta_means, meta_vars])"
   ]
  },
  {
   "cell_type": "code",
   "execution_count": null,
   "metadata": {},
   "outputs": [],
   "source": [
    "f, ax = plt.subplots()"
   ]
  },
  {
   "cell_type": "code",
   "execution_count": null,
   "metadata": {},
   "outputs": [],
   "source": [
    "plt.show()"
   ]
  },
  {
   "cell_type": "code",
   "execution_count": null,
   "metadata": {},
   "outputs": [],
   "source": [
    "metainfo = np.zeros(())"
   ]
  },
  {
   "cell_type": "code",
   "execution_count": null,
   "metadata": {},
   "outputs": [],
   "source": [
    "meta_means"
   ]
  },
  {
   "cell_type": "code",
   "execution_count": null,
   "metadata": {},
   "outputs": [],
   "source": [
    "meta_means"
   ]
  },
  {
   "cell_type": "code",
   "execution_count": null,
   "metadata": {},
   "outputs": [],
   "source": [
    "qtl_params['triplet_qtl'] = triplet_qtl\n",
    "qtl_params['allele_effects'] = allele_effects"
   ]
  },
  {
   "cell_type": "code",
   "execution_count": null,
   "metadata": {},
   "outputs": [],
   "source": [
    "rw = parameterizer.ReadWrite()"
   ]
  },
  {
   "cell_type": "code",
   "execution_count": null,
   "metadata": {},
   "outputs": [],
   "source": [
    "rw.write_trunc_selection_parameters(sim_params, 'truncsel.json', qtl_params,\n",
    "                                    'qtlparams.json', genetic_structure,\n",
    "                                   'genstructure.json')"
   ]
  },
  {
   "cell_type": "code",
   "execution_count": null,
   "metadata": {},
   "outputs": [],
   "source": [
    "run_id = id_generator()"
   ]
  },
  {
   "cell_type": "code",
   "execution_count": null,
   "metadata": {},
   "outputs": [],
   "source": [
    "from itertools import islice"
   ]
  },
  {
   "cell_type": "code",
   "execution_count": null,
   "metadata": {},
   "outputs": [],
   "source": [
    "list(islice(list(selection_pop.indInfo('ind_id')),0, 20, 2))"
   ]
  },
  {
   "cell_type": "code",
   "execution_count": null,
   "metadata": {},
   "outputs": [],
   "source": [
    "import itertools"
   ]
  },
  {
   "cell_type": "code",
   "execution_count": null,
   "metadata": {},
   "outputs": [],
   "source": [
    "list(itertools.combinations(selection_pop.indInfo('ind_id'), 2))"
   ]
  },
  {
   "cell_type": "code",
   "execution_count": null,
   "metadata": {},
   "outputs": [],
   "source": []
  }
 ],
 "metadata": {
  "kernelspec": {
   "display_name": "Python 3",
   "language": "python",
   "name": "python3"
  },
  "language_info": {
   "codemirror_mode": {
    "name": "ipython",
    "version": 3.0
   },
   "file_extension": ".py",
   "mimetype": "text/x-python",
   "name": "python",
   "nbconvert_exporter": "python",
   "pygments_lexer": "ipython3",
   "version": "3.4.3"
  }
 },
 "nbformat": 4,
 "nbformat_minor": 0
}