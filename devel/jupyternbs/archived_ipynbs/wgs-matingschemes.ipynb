{
 "cells": [
  {
   "cell_type": "code",
   "execution_count": 2,
   "metadata": {
    "collapsed": false
   },
   "outputs": [],
   "source": [
    "import simuOpt\n",
    "simuOpt.setOptions(alleleType='lineage', quiet=True)\n",
    "import simuPOP as sim\n",
    "import simuPOP.utils\n",
    "import simuPOP.lutils\n",
    "import matplotlib.pyplot as plt\n",
    "import matplotlib.patches as mpatches\n",
    "import math\n",
    "import pandas as pd\n",
    "import numpy as np\n",
    "import random\n",
    "import datetime as dt\n",
    "import itertools as ite\n",
    "import seaborn as sns\n",
    "sns.set(context='paper', style='ticks', palette=\"Set2\", font='sans-serif')\n",
    "nucleotides = ['A','C','G','T','D','I']\n",
    "nucleotideTranslator = {\n",
    "    'A':0,\n",
    "    'C':1,\n",
    "    'G':2,\n",
    "    'T':3,\n",
    "    '-':4,\n",
    "    '+':5}\n",
    "from wgs import crosses, operators, parameterizer, parser\n",
    "N=26\n",
    "parse = parser.Parser()\n",
    "param = parameterizer.Parameterizer()\n",
    "f1Crosses = crosses.fOne()\n",
    "f2Crosses = crosses.fTwo()\n",
    "qtl = parameterizer.QTL()\n",
    "ae = parameterizer.AE()\n",
    "ld = parameterizer.LD()\n",
    "pc = crosses.PC()\n",
    "mavs = pd.DataFrame()\n",
    "def preparePopulation():\n",
    "    header, mapdata, mapsubset=parse.mapParser('hapmap3.txt')\n",
    "    ends, chromdistances = parse.endPtFinder(mapsubset)\n",
    "    founderPopulation=sim.Population(N, loci=chromdistances, \n",
    "                                 alleleNames=nucleotides, \n",
    "                                 infoFields=['ind_id',\n",
    "                                            'father_id','mother_id',\n",
    "                                            'ge','pe','fitness'])\n",
    "    param.genotypeSetter(founderPopulation,'neat.txt')\n",
    "    f1 = f1Crosses.fOneCross(founderPopulation, size=1, female_idx=1, male_idx=6)\n",
    "    # F2 population size\n",
    "    M = 2000\n",
    "    pop = f2Crosses.fTwoCross(f1, M)\n",
    "    absQTL, propQTL = qtl.segChooser(f2, 20)\n",
    "    pop.dvars().qtl = absQTL; pop.dvars().properQTL = propQTL\n",
    "    alleleEffects, plotAlleleEffects = ae.exponential(f2, 20)\n",
    "    pop.dvars().alleleEffects = alleleEffects; pop.dvars().plottingAlleleEffects = plotAlleleEffects\n",
    "    #pop.dvars().lociPairs = ld.generateLociPairs(pop, ends)\n",
    "    sim.tagID(pop, reset=True)\n",
    "    #selection_intensity = .05\n",
    "    #f2.dvars().selectionIntensity = selection_intensity\n",
    "    #number_of_selected = f2.popSize() * selection_intensity\n",
    "    #remainder = f2.popSize() - number_of_selected\n",
    "    #number_of_breeding_subpops = int(number_of_selected / 5)\n",
    "    #list_of_applicable_subpops = list(range(1, number_of_breeding_subpops))\n",
    "    exec('import pandas as pd', f2.vars(), f2.vars())\n",
    "    exec('import itertools as ite', f2.vars(), f2.vars())\n",
    "    exec('import datetime as dt', f2.vars(), f2.vars())\n",
    "    exec('import matplotlib.pyplot as plt', f2.vars(), f2.vars())\n",
    "    return pop.clone()"
   ]
  },
  {
   "cell_type": "code",
   "execution_count": 17,
   "metadata": {
    "collapsed": false
   },
   "outputs": [
    {
     "name": "stderr",
     "output_type": "stream",
     "text": [
      "Applied <simuPOP.PyOperator> calling a Python function setGenerationToZero: 0\n",
      "Applied <simuPOP.PyOperator> calling a Python function createMultiGenDataMatrix: 0\n",
      "Applied <simuPOP.Stat> Calculate statistics\n",
      "<ul>\n",
      "<li>calculate population size\n",
      "</ul>: 0.001\n",
      "Applied <simuPOP.PyEval> evalulate expression \"'Gen\\tMeanGe\\tVarGe\\tMeanPe\\tVarPe\\tSubPopulations... \": 0\n",
      "Start evolution.: 0\n",
      "Applied <simuPOP.PyOperator> calling a Python function populationInformationPasser: 2.171\n",
      "Applied <simuPOP.PyOperator> calling a Python function assignFitness: 0.005\n",
      "Applied <simuPOP.Stat> Calculate statistics\n",
      "<ul>\n",
      "<li>calculate\n",
      "<ul>/n<li>Mean of information fields ge, pe\n",
      "<li>Variance of information fields ge, pe\n",
      "</ul>\n",
      "</ul>: 0.001\n",
      "A"
     ]
    },
    {
     "name": "stdout",
     "output_type": "stream",
     "text": [
      "Gen\tMeanGe\tVarGe\tMeanPe\tVarPe\tSubPopulations\n",
      "\n"
     ]
    },
    {
     "name": "stderr",
     "output_type": "stream",
     "text": [
      "pplied <simuPOP.Stat> Calculate statistics\n",
      "<ul>\n",
      "<li>calculate allele frequency at all loci\n",
      "</ul>: 0.202\n",
      "Applied <simuPOP.PyEval> evalulate expression \"'\\n%d\\t%.3f\\t%.3f\\t' % (gen, meanOfInfo['ge'], var... \": 0\n",
      "Applied <simuPOP.PyEval> evalulate expression \"'%.3f\\t%.3f\\t%s\\n' % (meanOfInfo['pe'], varOfInfo[... \": 0\n",
      "Applied <simuPOP.PyOperator> calling a Python function fileWriter: 0.069\n",
      "Applied <simuPOP.PyOperator> calling a Python function sortOnInfoField: 0.01\n",
      "Applied <simuPOP.split subpopulation>: 0\n",
      "Applied <simuPOP.PyOperator> calling a Python function splitAndCombineCalculator: 0.002\n",
      "Start mating at generation 0: 0\n",
      "Mating finished.: 0.363\n",
      "Applied <simuPOP.merge subpopulations>: 0.001\n",
      "Applied <simuPOP.PyOperator> calling a Python function removeIndices: 0.012\n",
      "Applied <simuPOP.PyOperator> calling a Python function minorAlleleListGenerator: 0.004\n",
      "A"
     ]
    },
    {
     "name": "stdout",
     "output_type": "stream",
     "text": [
      "0\t5.894\t0.049\t5.897\t0.055\t[2000]\n"
     ]
    },
    {
     "name": "stderr",
     "output_type": "stream",
     "text": [
      "pplied <simuPOP.PyOperator> calling a Python function minorAlleleCounter: 1.68\n"
     ]
    },
    {
     "data": {
      "text/plain": [
       "1"
      ]
     },
     "execution_count": 17,
     "metadata": {},
     "output_type": "execute_result"
    }
   ],
   "source": [
    "# Regular evolution\n",
    "#f2 = preparePopulation()\n",
    "f2.evolve(\n",
    "    initOps=[\n",
    "        operators.InitGenerationToZero(),\n",
    "        operators.InitializeMultiGenDataMatrix([\n",
    "                                      'smean_ge','svar_ge','smean_pe','svar_pe',\n",
    "                                      'umean_ge','uvar_ge','umean_pe','uvar_pe']),\n",
    "        sim.Stat(popSize=True),\n",
    "        sim.PyEval(r\"'Gen\\tMeanGe\\tVarGe\\tMeanPe\\tVarPe\\tSubPopulations\\n'\"),\n",
    "        ],\n",
    "    preOps=[\n",
    "        operators.GenotypicEffectCalculator(g_effect_field='ge'),\n",
    "        operators.TruncationSelection(0.7,-101, infoFields=['ge','pe']),\n",
    "        sim.Stat(meanOfInfo=['ge','pe'], varOfInfo=['ge','pe']),\n",
    "        sim.Stat(alleleFreq=sim.ALL_AVAIL),\n",
    "        #GenerateLDPlot('sample-All-Chromosome-LD-plot'),\n",
    "        #sim.Stat(numOfSegSites=sim.ALL_AVAIL),\n",
    "        #sim.Stat(effectiveSize=sim.ALL_AVAIL),\n",
    "        #sim.Stat(neutrality=sim.ALL_AVAIL),\n",
    "        sim.Stat(structure=sim.ALL_AVAIL, vars=['F_st']),\n",
    "        GenerateMinorAlleleList(),\n",
    "        MinorAlleleCounter(),\n",
    "        sim.PyEval(r\"'\\n%d\\t%.3f\\t%.3f\\t' % (gen, meanOfInfo['ge'], varOfInfo['ge'])\"),\n",
    "        sim.PyEval(r\"'%.3f\\t%.3f\\t%s\\n' % (meanOfInfo['pe'], varOfInfo['pe'], subPopSize)\"),\n",
    "        operators.TestFileWriter(dt.datetime.now(), 'alleleFrequencies'),\n",
    "        operators.Sorter('pe'),\n",
    "        sim.SplitSubPops(sizes=[5]*20+[1900], randomize=False),\n",
    "        operators.CalcSplitMavs('ge','pe','smean_ge','svar_ge','smean_pe','svar_pe',\n",
    "              'umean_ge','uvar_ge','umean_pe','uvar_pe'),\n",
    "        ],\n",
    "    matingScheme=\n",
    "            sim.HomoMating(\n",
    "                sim.PyParentsChooser(pc.recursivePairwiseParentChooser),\n",
    "                sim.OffspringGenerator(ops=[\n",
    "                    sim.Recombinator(rates=0.01),\n",
    "                    sim.IdTagger(),\n",
    "                    sim.PedigreeTagger()],\n",
    "                    numOffspring=1),\n",
    "                subPopSize=[50]*20+[0],\n",
    "                subPops=list(range(1,60)),\n",
    "                ),\n",
    "    postOps=[\n",
    "        sim.MergeSubPops(),\n",
    "        operators.SelectRandomSeed(1000),\n",
    "        ],\n",
    "    gen=5)"
   ]
  },
  {
   "cell_type": "code",
   "execution_count": null,
   "metadata": {
    "collapsed": true
   },
   "outputs": [],
   "source": [
    "# Regular evolution\n",
    "#f2 = preparePopulation()\n",
    "simf2.evolve(\n",
    "    initOps=[\n",
    "        operators.InitGenerationToZero(),\n",
    "        operators.InitializeMultiGenDataMatrix([\n",
    "                                      'smean_ge','svar_ge','smean_pe','svar_pe',\n",
    "                                      'umean_ge','uvar_ge','umean_pe','uvar_pe']),\n",
    "        sim.Stat(popSize=True),\n",
    "        sim.PyEval(r\"'Gen\\tMeanGe\\tVarGe\\tMeanPe\\tVarPe\\tSubPopulations\\n'\", reps=0),\n",
    "        ],\n",
    "    preOps=[\n",
    "        operators.GenotypicEffectCalculator(g_effect_field='ge'),\n",
    "        operators.TruncationSelection(0.7,-101, infoFields=['ge','pe']),\n",
    "        sim.Stat(meanOfInfo=['ge','pe'], varOfInfo=['ge','pe']),\n",
    "        sim.Stat(alleleFreq=sim.ALL_AVAIL),\n",
    "        #GenerateLDPlot('sample-All-Chromosome-LD-plot'),\n",
    "        #sim.Stat(numOfSegSites=sim.ALL_AVAIL),\n",
    "        #sim.Stat(effectiveSize=sim.ALL_AVAIL),\n",
    "        #sim.Stat(neutrality=sim.ALL_AVAIL),\n",
    "        sim.Stat(structure=sim.ALL_AVAIL, vars=['F_st']),\n",
    "        GenerateMinorAlleleList(),\n",
    "        MinorAlleleCounter(),\n",
    "        sim.PyEval(r\"'\\n%d\\t%.3f\\t%.3f\\t' % (gen, meanOfInfo['ge'], varOfInfo['ge'])\"),\n",
    "        sim.PyEval(r\"'%.3f\\t%.3f\\t%s\\n' % (meanOfInfo['pe'], varOfInfo['pe'], subPopSize)\"),\n",
    "        operators.TestFileWriter(dt.datetime.now(), 'alleleFrequencies'),\n",
    "        operators.Sorter('pe'),\n",
    "        sim.SplitSubPops(sizes=[5]*20+[1900], randomize=False),\n",
    "        operators.CalcSplitMavs('ge','pe','smean_ge','svar_ge','smean_pe','svar_pe',\n",
    "              'umean_ge','uvar_ge','umean_pe','uvar_pe'),\n",
    "        ],\n",
    "    matingScheme=\n",
    "            sim.HomoMating(\n",
    "                sim.PyParentsChooser(pc.recursivePairwiseParentChooser),\n",
    "                sim.OffspringGenerator(ops=[\n",
    "                    sim.Recombinator(rates=0.01),\n",
    "                    sim.IdTagger(),\n",
    "                    sim.PedigreeTagger()],\n",
    "                    numOffspring=1),\n",
    "                subPopSize=[50]*20+[0],\n",
    "                subPops=list(range(1,60)),\n",
    "                ),\n",
    "    postOps=[\n",
    "        sim.MergeSubPops(),\n",
    "        operators.SelectRandomSeed(1000),\n",
    "        ],\n",
    "    gen=5)"
   ]
  },
  {
   "cell_type": "code",
   "execution_count": 1,
   "metadata": {
    "collapsed": true
   },
   "outputs": [],
   "source": [
    "import sympy as sym"
   ]
  },
  {
   "cell_type": "code",
   "execution_count": 6,
   "metadata": {
    "collapsed": false
   },
   "outputs": [],
   "source": [
    "from sympy import init_printing"
   ]
  },
  {
   "cell_type": "code",
   "execution_count": 7,
   "metadata": {
    "collapsed": false
   },
   "outputs": [],
   "source": [
    "init_printing()"
   ]
  },
  {
   "cell_type": "code",
   "execution_count": 8,
   "metadata": {
    "collapsed": true
   },
   "outputs": [],
   "source": [
    "s_i, L_j, i, n = sym.symbols('s_i L_j i n')"
   ]
  },
  {
   "cell_type": "code",
   "execution_count": 30,
   "metadata": {
    "collapsed": false
   },
   "outputs": [
    {
     "data": {
      "image/png": "[encoded data removed]",
      "text/latex": [
       "$$\\sum_{i=1}^{n} \\frac{1}{L_{j}} \\sqrt{\\left(- 0.5 L_{j} + s_{i}\\right)^{2}}$$"
      ],
      "text/plain": [
       "  n                           \n",
       "_____                         \n",
       "╲                             \n",
       " ╲       _____________________\n",
       "  ╲     ╱                   2 \n",
       "   ╲  ╲╱  (-- -0.5⋅L_j + sᵢ)  \n",
       "   ╱  ────────────────────────\n",
       "  ╱             L_j           \n",
       " ╱                            \n",
       "╱                             \n",
       "‾‾‾‾‾                         \n",
       "i = 1                         "
      ]
     },
     "execution_count": 30,
     "metadata": {},
     "output_type": "execute_result"
    }
   ],
   "source": [
    "sym.Sum((sym.sqrt(((s_i - (1/2)*L_j)**2))/L_j), (i, 1, n))"
   ]
  },
  {
   "cell_type": "code",
   "execution_count": 42,
   "metadata": {
    "collapsed": false
   },
   "outputs": [],
   "source": [
    "more_accurate_mavs = f2.dvars().mavs.ix[:,'smean_ge':]"
   ]
  },
  {
   "cell_type": "code",
   "execution_count": 43,
   "metadata": {
    "collapsed": true
   },
   "outputs": [],
   "source": [
    "more_accurate_mavs.to_csv('example-means-and-variances.csv')"
   ]
  },
  {
   "cell_type": "raw",
   "metadata": {
    "collapsed": false
   },
   "source": [
    "class GenerateLDPlot(sim.PyOperator):\n",
    "    def __init__(self, output_filename, *args, **kwargs):\n",
    "        self.output_filename = output_filename\n",
    "        sim.PyOperator.__init__(self, func=self.createLDPlot, *args, **kwargs)\n",
    "    \n",
    "    def createLDPlot(self, pop):\n",
    "        sim.stat(pop, LD=pop.dvars().lociPairs, vars=['R2'])\n",
    "        ldframe = pd.DataFrame(pop.dvars().R2)\n",
    "        f, ax = plt.subplots(figsize=(24,12))\n",
    "        f.suptitle(\"All Chromosomes\", fontsize=20, fontweight='bold')\n",
    "        sns.heatmap(ldframe, vmax=1.0, xticklabels=50,\n",
    "        yticklabels=50, cmap='Spectral', square=True)\n",
    "        ax.set_title(\"Generation: %d, Number Of QTL: %d, Population Size: %d, Selection Intensity: %.2f\"\\\n",
    "                     % (pop.dvars().gen, len(pop.dvars().properQTL), pop.popSize(), pop.dvars().selectionIntensity),\n",
    "                    fontsize=16)\n",
    "        f.axes[1].set_title(r'$R^2$', fontsize=18)\n",
    "        ax.set_xlabel(\"Locus Index\", fontsize=16)\n",
    "        ax.set_ylabel(\"Locus Index\", fontsize=16)\n",
    "        complete_output_filename = self.output_filename + '-'+str(pop.dvars().gen) + '.jpg'\n",
    "        plt.savefig(complete_output_filename,dpi=300)\n",
    "        return True"
   ]
  },
  {
   "cell_type": "code",
   "execution_count": 44,
   "metadata": {
    "collapsed": false
   },
   "outputs": [
    {
     "data": {
      "text/plain": [
       "<matplotlib.axes._subplots.AxesSubplot at 0xc7462b0>"
      ]
     },
     "execution_count": 44,
     "metadata": {},
     "output_type": "execute_result"
    }
   ],
   "source": []
  },
  {
   "cell_type": "raw",
   "metadata": {
    "collapsed": false
   },
   "source": [
    "class PlotMeansAndVariances(sim.PyOperator):\n",
    "    '''Operator to write final means and variances to a file after\n",
    "    a simulation run.'''\n",
    "    def __init__(self, output_filename, *args, **kwargs):\n",
    "        self.output_filename = output_filename\n",
    "        sim.PyOperator.__init__(self, func=self.createMavsPlot, *args, **kwargs)\n",
    "    \n",
    "    def createMavsPlot(self,pop):\n",
    "        mavs = pop.dvars().mavs\n",
    "        num_of_gens = pop.dvars().gen\n",
    "        f, axarr = plt.subplots(figsize=(24,12),nrows=2, ncols=1)\n",
    "        ax_mean = axarr[0]\n",
    "        ax_var = axarr[1]\n",
    "        x = np.array(list(mavs.index))\n",
    "        f.suptitle(\"Means and Variances Over Time\", fontsize=20, fontweight=\"bold\")\n",
    "    \n",
    "        y_mean_ge = np.array(mavs.meanGe); y_mean_pe = np.array(mavs.meanPe)\n",
    "        ax_mean.set_title(\"Means of Ge and Pe\", fontsize=16)\n",
    "        ax_mean.set_xlim(-0.5, num_of_gens - 0.5)\n",
    "        ax_mean.set_ylim(-0.5, max(mavs.max())+2.5)\n",
    "        ax_mean.grid(True)\n",
    "        ax_mean.set_yticks(np.arange(0,max(mavs.max())+2.5),2)\n",
    "        ax_mean.plot(x, y_mean_ge, \"g*-\", label=\"Mean Ge\", ms=8, alpha=0.5)\n",
    "        ax_mean.plot(x, y_mean_pe, \"ro--\", label=\"Mean Pe\", ms=8, alpha=0.5)\n",
    "        mean_legend_handles, mean_legend_labels = ax_mean.get_legend_handles_labels()\n",
    "        ax_mean.legend(mean_legend_handles, mean_legend_labels, loc='lower right')\n",
    "    \n",
    "        y_var_ge = np.array(mavs.varGe); y_var_pe = np.array(mavs.varPe)\n",
    "        ax_var.set_title(\"Variances of Ge and Pe\", fontsize=16)\n",
    "        ax_var.set_xlim(-0.5, num_of_gens - 0.5)\n",
    "        ax_var.set_ylim(-0.5, max(mavs.max())+2.5)\n",
    "        ax_var.grid(True)\n",
    "        ax_var.set_xlabel(\"Generations\", fontsize=12)\n",
    "        ax_var.plot(x, y_var_ge, \"gd-\", label=\"Variance Ge\", ms=8, alpha=0.5)\n",
    "        ax_var.plot(x, y_var_pe, \"r^--\", label=\"Variance Pe\", ms=8, alpha=0.5)\n",
    "        var_legend_handles, var_legend_labels = ax_var.get_legend_handles_labels()\n",
    "        ax_var.legend(var_legend_handles, var_legend_labels)    \n",
    "        plt.savefig(self.output_filename,dpi=300)\n",
    "        return True"
   ]
  },
  {
   "cell_type": "code",
   "execution_count": null,
   "metadata": {
    "collapsed": true
   },
   "outputs": [],
   "source": []
  },
  {
   "cell_type": "code",
   "execution_count": 34,
   "metadata": {
    "collapsed": false
   },
   "outputs": [],
   "source": [
    "f2.dvars().minorAlleleMatrix.to_csv('example-MAF.csv')"
   ]
  },
  {
   "cell_type": "raw",
   "metadata": {},
   "source": [
    "# Regular evolution\n",
    "exec('import pandas as pd', simf2.vars(rep=sim.ALL_AVAIL), simf2.vars(rep=sim.ALL_AVAIL))\n",
    "exec('import itertools as ite', simf2.vars(rep=sim.ALL_AVAIL), simf2.vars(rep=sim.ALL_AVAIL))\n",
    "exec('import datetime as dt', simf2.vars(rep=sim.ALL_AVAIL), simf2.vars(rep=sim.ALL_AVAIL))\n",
    "exec('import matplotlib.pyplot as plt', simf2.vars(rep=sim.ALL_AVAIL), simf2.vars(rep=sim.ALL_AVAIL))\n",
    "simf2.evolve(\n",
    "    initOps=[\n",
    "        InitGenerationToZero(),\n",
    "        InitializeMultiGenDataMatrix(['wmeanGe','wvarGe','wmeanPe','wvarPe',\n",
    "                                      'smean_ge','svar_ge','smean_pe','svar_pe',\n",
    "                                      'umean_ge','uvar_ge','umean_pe','uvar_pe']),\n",
    "        sim.Stat(popSize=True),\n",
    "        sim.PyEval(r\"'Gen\\tMeanGe\\tVarGe\\tMeanPe\\tVarPe\\tSubPopulations\\n'\", reps=0),\n",
    "        ],\n",
    "    preOps=[\n",
    "        operators.GenotypicEffectCalculator(g_effect_field='ge'),\n",
    "        operators.TruncationSelection(0.7,-101, infoFields=['ge','pe']),\n",
    "        sim.Stat(meanOfInfo=['ge','pe'], varOfInfo=['ge','pe']),\n",
    "        StoreDataFromCurrentGeneration('ge','pe','wmeanGe','wvarGe','wmeanPe','wvarPe'),\n",
    "        #sim.Stat(alleleFreq=sim.ALL_AVAIL),\n",
    "        #GenerateLDPlot('sample-All-Chromosome-LD-plot'),\n",
    "        #sim.Stat(numOfSegSites=sim.ALL_AVAIL),\n",
    "        #sim.Stat(effectiveSize=sim.ALL_AVAIL),\n",
    "        #sim.Stat(neutrality=sim.ALL_AVAIL),\n",
    "        #sim.Stat(structure=sim.ALL_AVAIL),\n",
    "        #GenerateMinorAlleleList(),\n",
    "        #MinorAlleleCounter(),\n",
    "        sim.PyEval(r\"'\\n%d\\t%.3f\\t%.3f\\t' % (gen, meanOfInfo['ge'], varOfInfo['ge'])\"),\n",
    "        sim.PyEval(r\"'%.3f\\t%.3f\\t%s\\n' % (meanOfInfo['pe'], varOfInfo['pe'], subPopSize)\"),\n",
    "        #TestFileWriter(dt.datetime.now(), 'alleleFrequencies'),\n",
    "        Sorter('pe'),\n",
    "        sim.SplitSubPops(sizes=[5]*20+[1900], randomize=False),\n",
    "        CalcSplitMavs('ge','pe','smean_ge','svar_ge','smean_pe','svar_pe',\n",
    "              'umean_ge','uvar_ge','umean_pe','uvar_pe'),\n",
    "        ],\n",
    "    matingScheme=\n",
    "            sim.HomoMating(\n",
    "                sim.PyParentsChooser(recursivePairwiseParentChooser),\n",
    "                sim.OffspringGenerator(ops=[\n",
    "                    sim.Recombinator(rates=0.01),\n",
    "                    sim.IdTagger(),\n",
    "                    sim.PedigreeTagger()],\n",
    "                    numOffspring=1),\n",
    "                subPopSize=[150]*20+[0],\n",
    "                subPops=list_of_applicable_subpops,\n",
    "                ),\n",
    "    postOps=[\n",
    "        sim.MergeSubPops(),\n",
    "        SelectRandomSeed(1000),\n",
    "        ],\n",
    "    #finalOps=PlotMeansAndVariances(\"sample-Means-and-Variances-Over-Time.jpg\"),\n",
    "    gen=10)"
   ]
  },
  {
   "cell_type": "code",
   "execution_count": 32,
   "metadata": {
    "collapsed": true
   },
   "outputs": [],
   "source": [
    "def Gcalc(pop, *args, **kwargs):\n",
    "    '''Function form of the genotypic effect calculator.\n",
    "    Useful to be able to calculate 'ge' outside of an evolutionary process\n",
    "    for development purposes.'''\n",
    "    operators.GenotypicEffectCalculator(g_effect_field='ge').apply(pop)\n",
    "def Pcalc(pop, *args, **kwargs):\n",
    "        '''Function form of the truncation selection operator.\n",
    "    Useful to be able to calculate 'pe' outside of an evolutionary process\n",
    "    for development purposes.'''\n",
    "    operators.TruncationSelection(0.7,-101, \n",
    "                                  infoFields=['ge','pe']).apply(pop)"
   ]
  },
  {
   "cell_type": "code",
   "execution_count": 28,
   "metadata": {
    "collapsed": true
   },
   "outputs": [],
   "source": [
    "Gcalc(f2)"
   ]
  },
  {
   "cell_type": "code",
   "execution_count": 33,
   "metadata": {
    "collapsed": true
   },
   "outputs": [],
   "source": [
    "Pcalc(f2)"
   ]
  },
  {
   "cell_type": "code",
   "execution_count": 50,
   "metadata": {
    "collapsed": true
   },
   "outputs": [],
   "source": [
    "def peToStdNorm(pop, pe):\n",
    "    '''Convienience function which converts infoField='pe' of pop\n",
    "    to a standard normal distribution by subtracting by the mean\n",
    "    and dividing by the std. deviation.'''\n",
    "    pop.sortIndividuals('pe', reverse=True)\n",
    "    pre_normed_phenotypes = np.array(pop.indInfo(pe))\n",
    "    sim.stat(pop, meanOfInfo='pe', varOfInfo='pe')\n",
    "    normalized_phenotypes = np.divide(pre_normed_phenotypes-pop.dvars().meanOfInfo['pe'],\n",
    "                                      math.sqrt(pop.dvars().varOfInfo['pe']))\n",
    "    return normalized_phenotypes"
   ]
  },
  {
   "cell_type": "code",
   "execution_count": 56,
   "metadata": {
    "collapsed": true
   },
   "outputs": [],
   "source": [
    "import math"
   ]
  },
  {
   "cell_type": "code",
   "execution_count": 57,
   "metadata": {
    "collapsed": false
   },
   "outputs": [],
   "source": [
    "normalizedPhenotypes = peToStdNorm(f2, 'pe')"
   ]
  },
  {
   "cell_type": "code",
   "execution_count": 1,
   "metadata": {
    "collapsed": true
   },
   "outputs": [],
   "source": [
    "def assessDistributionOfPhenotypes(phenotype_array):\n",
    "    '''Plotting function to examine the distribution\n",
    "    of phenotypes.'''\n",
    "    f, axes= plt.subplots(1,2,figsize=(12,8))\n",
    "    dist_of_phenotypes = np.array(phenotype_array)\n",
    "    sns.distplot(dist_of_phenotypes, kde=False, color='b', ax=axes[0])\n",
    "    sns.distplot(dist_of_phenotypes, color='c', ax=axes[1])\n",
    "    plt.tight_layout()\n",
    "    return f"
   ]
  },
  {
   "cell_type": "code",
   "execution_count": 62,
   "metadata": {
    "collapsed": false
   },
   "outputs": [
    {
     "data": {
      "text/plain": [
       "<matplotlib.figure.Figure at 0xba44898>"
      ]
     },
     "execution_count": 62,
     "metadata": {},
     "output_type": "execute_result"
    }
   ],
   "source": [
    "assessDistributionOfPhenotypes(normalizedPhenotypes)"
   ]
  },
  {
   "cell_type": "code",
   "execution_count": null,
   "metadata": {
    "collapsed": true
   },
   "outputs": [],
   "source": [
    "plt.show()"
   ]
  },
  {
   "cell_type": "code",
   "execution_count": 36,
   "metadata": {
    "collapsed": true
   },
   "outputs": [],
   "source": [
    "pre_normed_phenotypes = np.array(f2.indInfo('pe'))"
   ]
  },
  {
   "cell_type": "code",
   "execution_count": 37,
   "metadata": {
    "collapsed": true
   },
   "outputs": [],
   "source": [
    "sim.stat(f2, meanOfInfo='pe', varOfInfo='pe')"
   ]
  },
  {
   "cell_type": "code",
   "execution_count": 38,
   "metadata": {
    "collapsed": true
   },
   "outputs": [],
   "source": [
    "import math as mth"
   ]
  },
  {
   "cell_type": "code",
   "execution_count": 43,
   "metadata": {
    "collapsed": false
   },
   "outputs": [],
   "source": [
    "normalized_phenotypes = np.divide(pre_normed_phenotypes - f2.dvars().meanOfInfo['pe'], \n",
    "          mth.sqrt(f2.dvars().varOfInfo['pe']))"
   ]
  },
  {
   "cell_type": "code",
   "execution_count": 42,
   "metadata": {
    "collapsed": true
   },
   "outputs": [],
   "source": [
    "f2.addInfoFields('normal_pe')"
   ]
  },
  {
   "cell_type": "code",
   "execution_count": 47,
   "metadata": {
    "collapsed": false
   },
   "outputs": [],
   "source": [
    "f2.setIndInfo(list(normalized_phenotypes), 'normal_pe')"
   ]
  },
  {
   "cell_type": "code",
   "execution_count": 48,
   "metadata": {
    "collapsed": false
   },
   "outputs": [
    {
     "data": {
      "text/plain": [
       "(3.70634676214188,\n",
       " 3.1379383241571555,\n",
       " 3.1180809912598377,\n",
       " 2.8443706242299296,\n",
       " 2.8253036727356076,\n",
       " 2.619348741048233,\n",
       " 2.6073292415483,\n",
       " 2.55858984457516,\n",
       " 2.52218783879325,\n",
       " 2.5168717681019865,\n",
       " 2.4988335379874207,\n",
       " 2.3868991574697977,\n",
       " 2.3596980446023306,\n",
       " 2.283751659857885,\n",
       " 2.194312827852311,\n",
       " 2.1503432954232715,\n",
       " 2.118804709009563,\n",
       " 2.0976056446756,\n",
       " 2.092038760576264,\n",
       " 2.0819706410223886,\n",
       " 2.0717000793113396,\n",
       " 2.066459435405922,\n",
       " 2.06032536665352,\n",
       " 2.0514333297768577,\n",
       " 2.044151530690517,\n",
       " 2.040376500843557,\n",
       " 2.0363197656970753,\n",
       " 2.0283803467453465,\n",
       " 2.0260834241962438,\n",
       " 2.0112435475146966,\n",
       " 2.0017421016813404,\n",
       " 1.9910074844205667,\n",
       " 1.989006541378142,\n",
       " 1.9887649667877787,\n",
       " 1.9676614845476286,\n",
       " 1.961505182304346,\n",
       " 1.9410070961013686,\n",
       " 1.9402409109747278,\n",
       " 1.9217270891596434,\n",
       " 1.9201252426558837,\n",
       " 1.9199971709647095,\n",
       " 1.9059226883875846,\n",
       " 1.9035505222369682,\n",
       " 1.9028165006703597,\n",
       " 1.900154842642105,\n",
       " 1.8856150500093203,\n",
       " 1.8687488757098303,\n",
       " 1.8617731178507406,\n",
       " 1.861589411258936,\n",
       " 1.8530527889115103,\n",
       " 1.8377291937059985,\n",
       " 1.830312540531894,\n",
       " 1.8245757215195892,\n",
       " 1.8133656681371941,\n",
       " 1.8089871819413745,\n",
       " 1.8075713915263947,\n",
       " 1.7944508441303653,\n",
       " 1.7894826250866878,\n",
       " 1.7687806031829298,\n",
       " 1.7506572127277973,\n",
       " 1.749462770017666,\n",
       " 1.7487288945744015,\n",
       " 1.7475979066672265,\n",
       " 1.7421624883650313,\n",
       " 1.7382124384657258,\n",
       " 1.729663197743374,\n",
       " 1.7260676445405927,\n",
       " 1.7151602075225563,\n",
       " 1.7113022553812323,\n",
       " 1.7090674397855465,\n",
       " 1.700688002660495,\n",
       " 1.6904584216020402,\n",
       " 1.6834524375458249,\n",
       " 1.6785968960443107,\n",
       " 1.6744535530671032,\n",
       " 1.6638717960528162,\n",
       " 1.6636843203303844,\n",
       " 1.6627976841574328,\n",
       " 1.6623100039499659,\n",
       " 1.6599502497676155,\n",
       " 1.6574226498869151,\n",
       " 1.6546831367282662,\n",
       " 1.6511273868293797,\n",
       " 1.645499388358417,\n",
       " 1.6451307920368834,\n",
       " 1.638888307840131,\n",
       " 1.6280333014082478,\n",
       " 1.6272040992970762,\n",
       " 1.6241359674067124,\n",
       " 1.6079241524919032,\n",
       " 1.6017724286759796,\n",
       " 1.599167019492209,\n",
       " 1.5979618044110973,\n",
       " 1.5977247628851556,\n",
       " 1.5956891983127723,\n",
       " 1.5937301362974956,\n",
       " 1.593114288042285,\n",
       " 1.5904154545494,\n",
       " 1.5822135883479962,\n",
       " 1.5764034370244442,\n",
       " 1.5653096532168147,\n",
       " 1.5591289748011936,\n",
       " 1.5578176405508741,\n",
       " 1.5573221578572585,\n",
       " 1.554003937799738,\n",
       " 1.547229554416875,\n",
       " 1.5393733252513533,\n",
       " 1.5350230554304976,\n",
       " 1.5339539924544605,\n",
       " 1.5332468571618698,\n",
       " 1.5296681210092276,\n",
       " 1.526927065898132,\n",
       " 1.5184601205297659,\n",
       " 1.517166088616277,\n",
       " 1.5164417014040004,\n",
       " 1.5153181105961375,\n",
       " 1.5150257935227702,\n",
       " 1.5083224714790175,\n",
       " 1.5010150635022799,\n",
       " 1.4995647296888601,\n",
       " 1.499295657998969,\n",
       " 1.4941684100996029,\n",
       " 1.4906140870812805,\n",
       " 1.4870695027448686,\n",
       " 1.4835570918156833,\n",
       " 1.4725531341134013,\n",
       " 1.4714642331186025,\n",
       " 1.4679343128460007,\n",
       " 1.4549323004771217,\n",
       " 1.4542363650128587,\n",
       " 1.450195119982868,\n",
       " 1.4484194403439485,\n",
       " 1.445735911517827,\n",
       " 1.4429419903075809,\n",
       " 1.4402123176180752,\n",
       " 1.436930574044741,\n",
       " 1.426002446272033,\n",
       " 1.4149919303021667,\n",
       " 1.4120430725529287,\n",
       " 1.4093972812451252,\n",
       " 1.4036364571619737,\n",
       " 1.4021135164851328,\n",
       " 1.3988960800672898,\n",
       " 1.3973074910503325,\n",
       " 1.3969441656508002,\n",
       " 1.3916089436068706,\n",
       " 1.385764303699754,\n",
       " 1.384380136917741,\n",
       " 1.3822560046262247,\n",
       " 1.3812177584936831,\n",
       " 1.3802790504892863,\n",
       " 1.3789246956924075,\n",
       " 1.3769364226565828,\n",
       " 1.3765372901157376,\n",
       " 1.371646089515072,\n",
       " 1.369997867710294,\n",
       " 1.362574625842268,\n",
       " 1.3552085266179288,\n",
       " 1.355061874209713,\n",
       " 1.3537801868618797,\n",
       " 1.3523726826844193,\n",
       " 1.3495258008613227,\n",
       " 1.3456884628989718,\n",
       " 1.339597151708992,\n",
       " 1.3390167926422964,\n",
       " 1.3341932365158986,\n",
       " 1.334168161684354,\n",
       " 1.3333614530131919,\n",
       " 1.329463738111032,\n",
       " 1.323572373800606,\n",
       " 1.3175577118307076,\n",
       " 1.3153153786663647,\n",
       " 1.3099476475371956,\n",
       " 1.3090738266429607,\n",
       " 1.3087165162618624,\n",
       " 1.3079772854047682,\n",
       " 1.307718903141901,\n",
       " 1.2990233749538602,\n",
       " 1.2968243072281365,\n",
       " 1.2954082283459871,\n",
       " 1.2931540974786122,\n",
       " 1.2902858533707295,\n",
       " 1.2896831085409992,\n",
       " 1.289504159566299,\n",
       " 1.2875431485885356,\n",
       " 1.2862843720187171,\n",
       " 1.278591577083879,\n",
       " 1.2769743360915975,\n",
       " 1.2756458377856184,\n",
       " 1.272412031800576,\n",
       " 1.2719589556546247,\n",
       " 1.2715736025852715,\n",
       " 1.2657175726208556,\n",
       " 1.2592323004993329,\n",
       " 1.2584400690953195,\n",
       " 1.2578009965311086,\n",
       " 1.255120809118705,\n",
       " 1.2520189600298068,\n",
       " 1.251893228309658,\n",
       " 1.249277307860754,\n",
       " 1.2487644097842583,\n",
       " 1.2456220325538077,\n",
       " 1.2430045541453771,\n",
       " 1.240004176869578,\n",
       " 1.2394321264491444,\n",
       " 1.23832186045719,\n",
       " 1.236962742240739,\n",
       " 1.235397238418696,\n",
       " 1.2338021518996625,\n",
       " 1.2322976699078128,\n",
       " 1.2258672432028592,\n",
       " 1.2200032656460613,\n",
       " 1.2197127562743129,\n",
       " 1.216883859957455,\n",
       " 1.216650073256896,\n",
       " 1.213079793749388,\n",
       " 1.2126543501261735,\n",
       " 1.2100347531295155,\n",
       " 1.2089970262337302,\n",
       " 1.2089099771185263,\n",
       " 1.2078550102518142,\n",
       " 1.2069401199298213,\n",
       " 1.2033584260491064,\n",
       " 1.2006856685549867,\n",
       " 1.1967307994954257,\n",
       " 1.196635382972302,\n",
       " 1.192429791089798,\n",
       " 1.191354304527936,\n",
       " 1.1894993760469057,\n",
       " 1.1872081080630346,\n",
       " 1.1849508169659033,\n",
       " 1.183129474652601,\n",
       " 1.1825798410453705,\n",
       " 1.1820113422958936,\n",
       " 1.1818996688329118,\n",
       " 1.18184029134407,\n",
       " 1.1769635729593622,\n",
       " 1.1766954768485054,\n",
       " 1.175832847320859,\n",
       " 1.1740074154174134,\n",
       " 1.1725063285869133,\n",
       " 1.1679728834351066,\n",
       " 1.1639484355674967,\n",
       " 1.1553229620883148,\n",
       " 1.1540466373194735,\n",
       " 1.1520625368082773,\n",
       " 1.1482293843298437,\n",
       " 1.1478843760906683,\n",
       " 1.1474367017751537,\n",
       " 1.1456211349431509,\n",
       " 1.1455370930604978,\n",
       " 1.1447172981405442,\n",
       " 1.142729406509648,\n",
       " 1.14204828625536,\n",
       " 1.1383990973595632,\n",
       " 1.1378438772594037,\n",
       " 1.1354063628472069,\n",
       " 1.1337202910980877,\n",
       " 1.1320290044397574,\n",
       " 1.1287662982134075,\n",
       " 1.128350061762825,\n",
       " 1.1222059955671373,\n",
       " 1.1217519201721053,\n",
       " 1.1197922273190561,\n",
       " 1.1196997552144545,\n",
       " 1.117844713123189,\n",
       " 1.111251741075317,\n",
       " 1.1090133170646375,\n",
       " 1.1088435266542327,\n",
       " 1.108173102313177,\n",
       " 1.1047206285150928,\n",
       " 1.1044263487003387,\n",
       " 1.103454329099529,\n",
       " 1.102295682383696,\n",
       " 1.1012416615478606,\n",
       " 1.1003431960015944,\n",
       " 1.096353981415688,\n",
       " 1.0951540423954667,\n",
       " 1.0942622789864997,\n",
       " 1.0942518111073716,\n",
       " 1.0931977108654845,\n",
       " 1.0913407053920687,\n",
       " 1.0912631135536517,\n",
       " 1.0903104467597227,\n",
       " 1.0876346146756604,\n",
       " 1.0860828402497904,\n",
       " 1.0842783629338497,\n",
       " 1.0840737606528137,\n",
       " 1.0834768785914142,\n",
       " 1.0832477210826958,\n",
       " 1.0814393381594185,\n",
       " 1.0787938276068696,\n",
       " 1.074741340784825,\n",
       " 1.073092103961736,\n",
       " 1.072544912514418,\n",
       " 1.072338755411419,\n",
       " 1.0713211634249777,\n",
       " 1.0690559486354805,\n",
       " 1.0645112471857179,\n",
       " 1.062552021824994,\n",
       " 1.0615431264091724,\n",
       " 1.0574771700692869,\n",
       " 1.0561794943465115,\n",
       " 1.053029865481436,\n",
       " 1.0508571611772524,\n",
       " 1.0409628133125108,\n",
       " 1.0397424741459707,\n",
       " 1.0380926602252798,\n",
       " 1.0363593923048686,\n",
       " 1.0297836602607795,\n",
       " 1.0286934532338712,\n",
       " 1.028603757255559,\n",
       " 1.0273490066017725,\n",
       " 1.0265347050966365,\n",
       " 1.025171907595987,\n",
       " 1.0194430603221623,\n",
       " 1.0134712896343963,\n",
       " 1.0116355573128464,\n",
       " 1.0104964602477617,\n",
       " 1.0098172849893956,\n",
       " 0.9982147985662003,\n",
       " 0.9921973713065056,\n",
       " 0.9920077398561277,\n",
       " 0.9900834130486995,\n",
       " 0.9836395914374468,\n",
       " 0.9807772507960049,\n",
       " 0.9804730182766783,\n",
       " 0.979708293087044,\n",
       " 0.9796961156161187,\n",
       " 0.9775806522347389,\n",
       " 0.9773619184955944,\n",
       " 0.9760408064076224,\n",
       " 0.9749821818371499,\n",
       " 0.9723361418081561,\n",
       " 0.9705576103636067,\n",
       " 0.9689074514018505,\n",
       " 0.967211797781775,\n",
       " 0.9666747907931015,\n",
       " 0.9663687705162564,\n",
       " 0.9663093513636338,\n",
       " 0.9619859008627099,\n",
       " 0.9605709912967229,\n",
       " 0.9561827431756501,\n",
       " 0.949785648898516,\n",
       " 0.9496882931431859,\n",
       " 0.9488461852700192,\n",
       " 0.9486671067652641,\n",
       " 0.9469544922807347,\n",
       " 0.9465906918823223,\n",
       " 0.945639586775491,\n",
       " 0.9453111826323708,\n",
       " 0.9435095496535533,\n",
       " 0.942580797774645,\n",
       " 0.9425662737540799,\n",
       " 0.9422938560898428,\n",
       " 0.9392196851831663,\n",
       " 0.9382596127815195,\n",
       " 0.9371771387051784,\n",
       " 0.9354200535129609,\n",
       " 0.9329880831892348,\n",
       " 0.9324522554290744,\n",
       " 0.9293005526244754,\n",
       " 0.928325977506465,\n",
       " 0.9278777265941928,\n",
       " 0.9264611416674022,\n",
       " 0.9219595542601116,\n",
       " 0.9217835982853989,\n",
       " 0.9210510527949359,\n",
       " 0.9175835632457414,\n",
       " 0.9175208230347757,\n",
       " 0.9173703568223753,\n",
       " 0.9117851787845089,\n",
       " 0.9106733893507656,\n",
       " 0.9101063763755899,\n",
       " 0.8975960446568184,\n",
       " 0.8964352731455286,\n",
       " 0.8937104873022002,\n",
       " 0.8908245175007404,\n",
       " 0.8897743628706274,\n",
       " 0.8890973141474842,\n",
       " 0.8880994469619483,\n",
       " 0.8861998287251476,\n",
       " 0.883500572645617,\n",
       " 0.8791339085875065,\n",
       " 0.8765564944940218,\n",
       " 0.8760125518028126,\n",
       " 0.8756530959104046,\n",
       " 0.8753858124431703,\n",
       " 0.8717568363628162,\n",
       " 0.8712658406271977,\n",
       " 0.8678783026745321,\n",
       " 0.8664917255178333,\n",
       " 0.8637341456709949,\n",
       " 0.8630242831930158,\n",
       " 0.8608808750275384,\n",
       " 0.860428577789969,\n",
       " 0.8601018618714139,\n",
       " 0.8573434812294455,\n",
       " 0.8549948398122338,\n",
       " 0.8536781361845819,\n",
       " 0.8527439772423439,\n",
       " 0.8512034598616952,\n",
       " 0.8484611888500653,\n",
       " 0.8473704276778546,\n",
       " 0.8459255010307862,\n",
       " 0.8444260661594128,\n",
       " 0.8435408034724584,\n",
       " 0.8422470279055787,\n",
       " 0.8406941152777675,\n",
       " 0.8400699396392088,\n",
       " 0.8379024705950481,\n",
       " 0.8376810655203881,\n",
       " 0.8373969934875567,\n",
       " 0.8361429134141708,\n",
       " 0.8351867890999077,\n",
       " 0.8324645757579385,\n",
       " 0.8320962044944542,\n",
       " 0.831753148101766,\n",
       " 0.8304081371220883,\n",
       " 0.8268173469009431,\n",
       " 0.8249220659756157,\n",
       " 0.8233613013012431,\n",
       " 0.8195995618783319,\n",
       " 0.818716955949268,\n",
       " 0.8169097079952337,\n",
       " 0.8167162748379271,\n",
       " 0.8133531117164686,\n",
       " 0.8121115705201536,\n",
       " 0.8070987242891863,\n",
       " 0.806207219567881,\n",
       " 0.8045027102024987,\n",
       " 0.8019054076356752,\n",
       " 0.796767298144214,\n",
       " 0.7941172795616702,\n",
       " 0.7938553670262142,\n",
       " 0.7921515754827856,\n",
       " 0.789072522598941,\n",
       " 0.787877630628116,\n",
       " 0.787339622736631,\n",
       " 0.7859966951962799,\n",
       " 0.7840192533898394,\n",
       " 0.7836746019150412,\n",
       " 0.7832324099653146,\n",
       " 0.7826375889982476,\n",
       " 0.7826243103906344,\n",
       " 0.7815305440463088,\n",
       " 0.7797587272294249,\n",
       " 0.7795966983447687,\n",
       " 0.7790164882118598,\n",
       " 0.7780779543110592,\n",
       " 0.7755296609819899,\n",
       " 0.7743547503826708,\n",
       " 0.7739035283875436,\n",
       " 0.7738796904287863,\n",
       " 0.7715557821212276,\n",
       " 0.7670548951146221,\n",
       " 0.7663198722683878,\n",
       " 0.7659209189782537,\n",
       " 0.7637814482917608,\n",
       " 0.7633680565063913,\n",
       " 0.7613396380883638,\n",
       " 0.761118394243918,\n",
       " 0.7599149713066818,\n",
       " 0.7586341120047985,\n",
       " 0.7584738932070095,\n",
       " 0.7582477817091527,\n",
       " 0.7539002797530691,\n",
       " 0.7536352761602995,\n",
       " 0.7505869022951095,\n",
       " 0.7505130700050692,\n",
       " 0.7504300805507109,\n",
       " 0.7502585822379594,\n",
       " 0.7494463325163079,\n",
       " 0.7447414619583306,\n",
       " 0.7447242147147107,\n",
       " 0.7437638901121993,\n",
       " 0.738642435691611,\n",
       " 0.7363041599917417,\n",
       " 0.7355401463337342,\n",
       " 0.7330914299578759,\n",
       " 0.7312327686752153,\n",
       " 0.72998910532694,\n",
       " 0.7294822625766874,\n",
       " 0.7292172527899986,\n",
       " 0.7273736913339517,\n",
       " 0.7258449292828775,\n",
       " 0.7246376607025357,\n",
       " 0.7245296155894337,\n",
       " 0.7244377518153701,\n",
       " 0.7231809863144006,\n",
       " 0.7222955652845904,\n",
       " 0.7213992026406825,\n",
       " 0.7193050838478967,\n",
       " 0.7191877295243388,\n",
       " 0.7185168192801739,\n",
       " 0.7175636373313296,\n",
       " 0.7132228637722313,\n",
       " 0.7130910355204945,\n",
       " 0.7128144490172185,\n",
       " 0.7099253139869992,\n",
       " 0.707075666286218,\n",
       " 0.7042564684838277,\n",
       " 0.7038147435737858,\n",
       " 0.703249830674264,\n",
       " 0.701394013953693,\n",
       " 0.6994354168495917,\n",
       " 0.6946444682263457,\n",
       " 0.6937309396621906,\n",
       " 0.6933672973149679,\n",
       " 0.688059213348315,\n",
       " 0.6875423967943504,\n",
       " 0.6871999350271558,\n",
       " 0.6859124629842599,\n",
       " 0.6855296185456365,\n",
       " 0.6852985095773669,\n",
       " 0.6835844784496876,\n",
       " 0.6820249306740103,\n",
       " 0.6807862266251351,\n",
       " 0.6778138982001575,\n",
       " 0.6771533980382806,\n",
       " 0.676688689598125,\n",
       " 0.6758939461242134,\n",
       " 0.6740815336229158,\n",
       " 0.6688397540053568,\n",
       " 0.6685954792742326,\n",
       " 0.6683600881281252,\n",
       " 0.6675198515987267,\n",
       " 0.6670196081697584,\n",
       " 0.666975450279513,\n",
       " 0.663940007949784,\n",
       " 0.6624546616579589,\n",
       " 0.6617740339559598,\n",
       " 0.6613931132820663,\n",
       " 0.6584734242977404,\n",
       " 0.6584655601007704,\n",
       " 0.6581741192875299,\n",
       " 0.6558431766129603,\n",
       " 0.6549686847841767,\n",
       " 0.6537372668162793,\n",
       " 0.6510213821638655,\n",
       " 0.6494824951620882,\n",
       " 0.6479580856168689,\n",
       " 0.6467635274708157,\n",
       " 0.6442991406026802,\n",
       " 0.6405438083987333,\n",
       " 0.6402187527750848,\n",
       " 0.6396053833440017,\n",
       " 0.6381989107844583,\n",
       " 0.6370240219771455,\n",
       " 0.637003043552601,\n",
       " 0.6343490008149009,\n",
       " 0.6335997521152885,\n",
       " 0.6328303848566736,\n",
       " 0.6294722706316578,\n",
       " 0.6292671068587707,\n",
       " 0.6289722984706861,\n",
       " 0.6282093016748608,\n",
       " 0.6248521660296381,\n",
       " 0.6229460680321778,\n",
       " 0.6219518236871147,\n",
       " 0.6204248179072899,\n",
       " 0.6202183848175017,\n",
       " 0.6172977879244783,\n",
       " 0.6166871051801301,\n",
       " 0.6160357198972205,\n",
       " 0.6144131334059106,\n",
       " 0.6126905161105571,\n",
       " 0.6119832471666886,\n",
       " 0.611651747289891,\n",
       " 0.6110591797329468,\n",
       " 0.6092389597832863,\n",
       " 0.6090157520234578,\n",
       " 0.6087392106150067,\n",
       " 0.6064701738386594,\n",
       " 0.6055576328370282,\n",
       " 0.6047364061757612,\n",
       " 0.6046559198258951,\n",
       " 0.603183805765528,\n",
       " 0.6013478202702867,\n",
       " 0.6011419883457997,\n",
       " 0.5992155852214669,\n",
       " 0.5988850039701022,\n",
       " 0.5988189358689137,\n",
       " 0.5947265799251602,\n",
       " 0.5945950662444432,\n",
       " 0.5942071595553331,\n",
       " 0.5933825647439195,\n",
       " 0.5928503095063986,\n",
       " 0.592604822215971,\n",
       " 0.592508349865355,\n",
       " 0.5912478088702192,\n",
       " 0.5904736364077561,\n",
       " 0.5888382470167063,\n",
       " 0.5869763513382324,\n",
       " 0.5856087281280417,\n",
       " 0.5850549307729311,\n",
       " 0.584892930522831,\n",
       " 0.5838412736453858,\n",
       " 0.5821896803943941,\n",
       " 0.582057327646442,\n",
       " 0.5808059021107214,\n",
       " 0.5805643773802633,\n",
       " 0.5802075426196287,\n",
       " 0.5794815041284248,\n",
       " 0.5788222003548652,\n",
       " 0.5781862328624834,\n",
       " 0.5780264468028132,\n",
       " 0.5659346847555402,\n",
       " 0.5601675795566597,\n",
       " 0.5568705852244167,\n",
       " 0.555616503227434,\n",
       " 0.5529548376685566,\n",
       " 0.5528535083645565,\n",
       " 0.5508628805285419,\n",
       " 0.5488831726864932,\n",
       " 0.5471303738792703,\n",
       " 0.5465195422985991,\n",
       " 0.5452431925289724,\n",
       " 0.5448883638899344,\n",
       " 0.5400351729944183,\n",
       " 0.5384456506188036,\n",
       " 0.5382192663270268,\n",
       " 0.5378914629778637,\n",
       " 0.5367346111587954,\n",
       " 0.5366552016052827,\n",
       " 0.5345754041240962,\n",
       " 0.5342417789199563,\n",
       " 0.5330937774995629,\n",
       " 0.5320833641748046,\n",
       " 0.5318178025792893,\n",
       " 0.5316377523507025,\n",
       " 0.5295561101317758,\n",
       " 0.5294556179219108,\n",
       " 0.5294206797053199,\n",
       " 0.5275994088657583,\n",
       " 0.514830393435367,\n",
       " 0.5123305956256325,\n",
       " 0.5094988809400914,\n",
       " 0.5092742500216103,\n",
       " 0.5086866488987354,\n",
       " 0.5077510174259543,\n",
       " 0.5060494550241591,\n",
       " 0.5052487994591437,\n",
       " 0.5049232129323777,\n",
       " 0.504600706014496,\n",
       " 0.5029883263601815,\n",
       " 0.5022818148679343,\n",
       " 0.5016727398536109,\n",
       " 0.4998349552084991,\n",
       " 0.4992800433753842,\n",
       " 0.4934096303537219,\n",
       " 0.48951219964037246,\n",
       " 0.48817566763309905,\n",
       " 0.48779386342931075,\n",
       " 0.48504199238747314,\n",
       " 0.48494287070253295,\n",
       " 0.4840070436685487,\n",
       " 0.48257654661398103,\n",
       " 0.481720150870068,\n",
       " 0.4815132486642496,\n",
       " 0.48005093370162877,\n",
       " 0.47862260873747414,\n",
       " 0.47809155407454823,\n",
       " 0.4734086954554738,\n",
       " 0.4709891995583709,\n",
       " 0.47070079569382645,\n",
       " 0.4669025913979542,\n",
       " 0.46596238754040653,\n",
       " 0.4657794083259622,\n",
       " 0.46547950265440197,\n",
       " 0.4633841485536942,\n",
       " 0.46091347983654524,\n",
       " 0.46058014519793683,\n",
       " 0.4598654553876185,\n",
       " 0.4588982740691566,\n",
       " 0.45550997572724966,\n",
       " 0.4539878111520314,\n",
       " 0.4508899453377913,\n",
       " 0.4453004084604821,\n",
       " 0.44299449797424184,\n",
       " 0.4420543184283029,\n",
       " 0.4402798276045272,\n",
       " 0.44016880010004006,\n",
       " 0.4401333857491495,\n",
       " 0.4361554265182897,\n",
       " 0.43596184541546634,\n",
       " 0.4357736124972108,\n",
       " 0.4350383205864894,\n",
       " 0.43263643936488644,\n",
       " 0.42829662496175575,\n",
       " 0.427452056619127,\n",
       " 0.4271695065888736,\n",
       " 0.42694230107169345,\n",
       " 0.42534310568006567,\n",
       " 0.4248765712569667,\n",
       " 0.42382898219583665,\n",
       " 0.4233274998533263,\n",
       " 0.4232231499533142,\n",
       " 0.4218714680580483,\n",
       " 0.42186344871169446,\n",
       " 0.4211126256310932,\n",
       " 0.4210227567638019,\n",
       " 0.42089382106378503,\n",
       " 0.41860684116209684,\n",
       " 0.41858266091118923,\n",
       " 0.4185107889739159,\n",
       " 0.4184014131734012,\n",
       " 0.4181376596110267,\n",
       " 0.4173537809766474,\n",
       " 0.4165814022676961,\n",
       " 0.4131314683903097,\n",
       " 0.4125076639304297,\n",
       " 0.41163751732872167,\n",
       " 0.41118828204356533,\n",
       " 0.41077063889656945,\n",
       " 0.41072318364642824,\n",
       " 0.4101349471668842,\n",
       " 0.4098559472170903,\n",
       " 0.4086873568662299,\n",
       " 0.4070934601279839,\n",
       " 0.40679381847283036,\n",
       " 0.4019977379118981,\n",
       " 0.401933895801584,\n",
       " 0.4016538466980263,\n",
       " 0.4009037967894297,\n",
       " 0.3980198587834026,\n",
       " 0.3979970154389852,\n",
       " 0.3972716630288393,\n",
       " 0.39471683151450576,\n",
       " 0.3912679788920537,\n",
       " 0.39040780182616575,\n",
       " 0.3896923695656169,\n",
       " 0.38901803647016225,\n",
       " 0.38612197119486,\n",
       " 0.380743237577762,\n",
       " 0.3806387906326671,\n",
       " 0.3806320896097659,\n",
       " 0.3805274088734529,\n",
       " 0.38039956474601083,\n",
       " 0.37977072353048985,\n",
       " 0.37894981594010807,\n",
       " 0.3788895307878658,\n",
       " 0.3778144034384362,\n",
       " 0.37696179938332397,\n",
       " 0.3766991984486338,\n",
       " 0.37603003660190837,\n",
       " 0.3745045856229369,\n",
       " 0.37392463330618514,\n",
       " 0.37329598645586154,\n",
       " 0.3725135883792813,\n",
       " 0.37194374398930585,\n",
       " 0.37128374174175166,\n",
       " 0.36990368931924267,\n",
       " 0.36862148057469607,\n",
       " 0.36802901317119197,\n",
       " 0.36505094998124993,\n",
       " 0.36482282619598694,\n",
       " 0.3634979180478195,\n",
       " 0.36290390996200145,\n",
       " 0.3622209573179153,\n",
       " 0.35868745202522617,\n",
       " 0.35801278021944394,\n",
       " 0.357569696703806,\n",
       " 0.35686958130671675,\n",
       " 0.35667575785089356,\n",
       " 0.35516466409457487,\n",
       " 0.35296274583924364,\n",
       " 0.35202893400534446,\n",
       " 0.34977134967477874,\n",
       " 0.34945153211995694,\n",
       " 0.34828716527568526,\n",
       " 0.34757749262031146,\n",
       " 0.34713731147416477,\n",
       " 0.3467314667392416,\n",
       " 0.34587337256753886,\n",
       " 0.3453036349709624,\n",
       " 0.34345204967400395,\n",
       " 0.34276255392046046,\n",
       " 0.34258724490918024,\n",
       " 0.34210214654543536,\n",
       " 0.3419472410126937,\n",
       " 0.3415835279585544,\n",
       " 0.34082015223069545,\n",
       " 0.33933366637382834,\n",
       " 0.3383309332111163,\n",
       " 0.33458160755864474,\n",
       " 0.3342875066639123,\n",
       " 0.3338702790245166,\n",
       " 0.3336429522859875,\n",
       " 0.3324435746617108,\n",
       " 0.3269433826553603,\n",
       " 0.32188419698969095,\n",
       " 0.3212320580730522,\n",
       " 0.3200283482915051,\n",
       " 0.31533853672824613,\n",
       " 0.31473181049197296,\n",
       " 0.3108554646187505,\n",
       " 0.3087087349722408,\n",
       " 0.30737214633516335,\n",
       " 0.3073657199719007,\n",
       " 0.30629065087899954,\n",
       " 0.3059320000262092,\n",
       " 0.3001177934167809,\n",
       " 0.29887286096877813,\n",
       " 0.29725752659290444,\n",
       " 0.2967333970073858,\n",
       " 0.2962696383917484,\n",
       " 0.2949604548814677,\n",
       " 0.29226915559777816,\n",
       " 0.2890189216643016,\n",
       " 0.2867203770614442,\n",
       " 0.2850902293632018,\n",
       " 0.2838421052829477,\n",
       " 0.28347661260292156,\n",
       " 0.28207882026933645,\n",
       " 0.2817976985293601,\n",
       " 0.28027896711105516,\n",
       " 0.2777008337677799,\n",
       " 0.27211533988385944,\n",
       " 0.2702712871567795,\n",
       " 0.2693486134445909,\n",
       " 0.26905632736238994,\n",
       " 0.26902113365282787,\n",
       " 0.26874616265567264,\n",
       " 0.26873455344386354,\n",
       " 0.2679209014341448,\n",
       " 0.26522190760055203,\n",
       " 0.26276010593286664,\n",
       " 0.2625326673546319,\n",
       " 0.25949791269304606,\n",
       " 0.25901820303690204,\n",
       " 0.25800181673919287,\n",
       " 0.2579615771833896,\n",
       " 0.25606583904071184,\n",
       " 0.2560238451803481,\n",
       " 0.25500161565054563,\n",
       " 0.2546885527291944,\n",
       " 0.253424008729617,\n",
       " 0.2527949537024335,\n",
       " 0.252732243162646,\n",
       " 0.2495073181166664,\n",
       " 0.24734384117296865,\n",
       " 0.24522540679101174,\n",
       " 0.24505478143382992,\n",
       " 0.24501551697211318,\n",
       " 0.24207662440866068,\n",
       " 0.24205411672579785,\n",
       " 0.23997894169244932,\n",
       " 0.2396382291578971,\n",
       " 0.23906150917204116,\n",
       " 0.2343473697730525,\n",
       " 0.23077651201029017,\n",
       " 0.22921569957711632,\n",
       " 0.2278241366230006,\n",
       " 0.22611486131969644,\n",
       " 0.22400201326309302,\n",
       " 0.22299869311174778,\n",
       " 0.21781159175305823,\n",
       " 0.21692215939657394,\n",
       " 0.21408365501292986,\n",
       " 0.21399642694369117,\n",
       " 0.21356969778581425,\n",
       " 0.2073589666662038,\n",
       " 0.20503198479886603,\n",
       " 0.2047012762291889,\n",
       " 0.20416203318160314,\n",
       " 0.2025254300427387,\n",
       " 0.2019090377522654,\n",
       " 0.20042369047802672,\n",
       " 0.19898065009017682,\n",
       " 0.1984794519769222,\n",
       " 0.19755459138116693,\n",
       " 0.1971894694654169,\n",
       " 0.195884053494122,\n",
       " 0.1944432508977063,\n",
       " 0.1916404006660497,\n",
       " 0.1913385267033657,\n",
       " 0.18763372647756488,\n",
       " 0.186948106682352,\n",
       " 0.18664279834157746,\n",
       " 0.18331661251610076,\n",
       " 0.1816996112309665,\n",
       " 0.18165920048104353,\n",
       " 0.18118791398744943,\n",
       " 0.18037998623607873,\n",
       " 0.1788176064707461,\n",
       " 0.17784277040084256,\n",
       " 0.17619984651155135,\n",
       " 0.1720514100047482,\n",
       " 0.17123149812228608,\n",
       " 0.17093203774673663,\n",
       " 0.17061498893776422,\n",
       " 0.17025667253565546,\n",
       " 0.1691732172356049,\n",
       " 0.16559002553745372,\n",
       " 0.16356515680007974,\n",
       " 0.16304949871237923,\n",
       " 0.1626364508418901,\n",
       " 0.1605180806654969,\n",
       " 0.15773559200237364,\n",
       " 0.15752120601689407,\n",
       " 0.15727150464894624,\n",
       " 0.15563802797402324,\n",
       " 0.15476038304357198,\n",
       " 0.15404697637241782,\n",
       " 0.1499820236176403,\n",
       " 0.14933697367246399,\n",
       " 0.14699495552755193,\n",
       " 0.14673172706007265,\n",
       " 0.14630739157402362,\n",
       " 0.1431051303022863,\n",
       " 0.141791801717897,\n",
       " 0.14175552302329064,\n",
       " 0.1413725482249885,\n",
       " 0.13829691341078676,\n",
       " 0.13576340617084862,\n",
       " 0.13564390120367265,\n",
       " 0.13476209788967716,\n",
       " 0.13241252969085868,\n",
       " 0.13226519804102013,\n",
       " 0.1319908333374327,\n",
       " 0.13092247048540395,\n",
       " 0.1280887843034735,\n",
       " 0.12640440998143743,\n",
       " 0.12367665851065525,\n",
       " 0.12367633493212554,\n",
       " 0.12291604268965912,\n",
       " 0.12092230441644385,\n",
       " 0.12074477296143495,\n",
       " 0.1174573823886497,\n",
       " 0.11633216235150487,\n",
       " 0.1154648390018896,\n",
       " 0.11049564889452661,\n",
       " 0.11002282444490763,\n",
       " 0.1071146504151853,\n",
       " 0.10708528097259733,\n",
       " 0.1066160298475995,\n",
       " 0.10577334575140905,\n",
       " 0.10499190615316929,\n",
       " 0.10223804603298377,\n",
       " 0.10133255999605652,\n",
       " 0.10097749248958994,\n",
       " 0.10086821718906712,\n",
       " 0.09649403336512005,\n",
       " 0.09637828842019935,\n",
       " 0.09461693422754774,\n",
       " 0.0941763569115573,\n",
       " 0.0941634308014786,\n",
       " 0.09392058448075466,\n",
       " 0.09280229729114857,\n",
       " 0.08951243005187044,\n",
       " 0.08876734822793919,\n",
       " 0.0865803159329441,\n",
       " 0.08564787729242808,\n",
       " 0.08512979674639394,\n",
       " 0.0847792393395788,\n",
       " 0.08316999455501621,\n",
       " 0.08268571077308029,\n",
       " 0.08239122300696229,\n",
       " 0.08023476959951646,\n",
       " 0.07793967078799428,\n",
       " 0.07723041226934117,\n",
       " 0.07585472597825595,\n",
       " 0.07508488832219262,\n",
       " 0.07494087801276308,\n",
       " 0.074676184835249,\n",
       " 0.07319245526366744,\n",
       " 0.07288983640679371,\n",
       " 0.06973030442462572,\n",
       " 0.06907643961868953,\n",
       " 0.06855034551978523,\n",
       " 0.06837869438020613,\n",
       " 0.06741954789340067,\n",
       " 0.06712838661802889,\n",
       " 0.06573857713100964,\n",
       " 0.06323357728847269,\n",
       " 0.06020256505750904,\n",
       " 0.06014444982245995,\n",
       " 0.05883748977467727,\n",
       " 0.0574645528000236,\n",
       " 0.053285598370304,\n",
       " 0.052216995592180564,\n",
       " 0.05169853346943144,\n",
       " 0.05025422113147441,\n",
       " 0.0498660316729007,\n",
       " 0.04795711465045624,\n",
       " 0.047204775193239304,\n",
       " 0.04714074457129685,\n",
       " 0.04694721154764621,\n",
       " 0.04676000479659123,\n",
       " 0.04654998721133661,\n",
       " 0.04529458363582081,\n",
       " 0.04471225558533123,\n",
       " 0.04455694466052663,\n",
       " 0.03969731725391677,\n",
       " 0.03945799162152043,\n",
       " 0.03868142348043403,\n",
       " 0.0384024928567319,\n",
       " 0.03727033273138531,\n",
       " 0.03681163549862998,\n",
       " ...)"
      ]
     },
     "execution_count": 48,
     "metadata": {},
     "output_type": "execute_result"
    }
   ],
   "source": [
    "f2.indInfo('normal_pe')"
   ]
  },
  {
   "cell_type": "code",
   "execution_count": null,
   "metadata": {
    "collapsed": true
   },
   "outputs": [],
   "source": []
  },
  {
   "cell_type": "code",
   "execution_count": 15,
   "metadata": {
    "collapsed": false
   },
   "outputs": [],
   "source": [
    "simf2 = sim.Simulator(f2, rep=5, stealPops=False)"
   ]
  },
  {
   "cell_type": "code",
   "execution_count": 16,
   "metadata": {
    "collapsed": false
   },
   "outputs": [
    {
     "name": "stderr",
     "output_type": "stream",
     "text": [
      "Applied <simuPOP.PyOperator> calling a Python function setGenerationToZero: 0\n",
      "Applied <simuPOP.PyOperator> calling a Python function createMultiGenDataMatrix: 0\n",
      "Applied <simuPOP.Stat> Calculate statistics\n",
      "<ul>\n",
      "<li>calculate population size\n",
      "</ul>: 0\n",
      "Applied <simuPOP.PyEval> evalulate expression \"'Gen\\tMeanGe\\tVarGe\\tMeanPe\\tVarPe\\tSubPopulations... \": 0\n",
      "Applied <simuPOP.PyOperator> calling a Python function setGenerationToZero: 0\n",
      "Applied <simuPOP.PyOperator> calling a Python function createMultiGenDataMatrix: 0.001\n",
      "Applied <simuPOP.Stat> Calculate statistics\n",
      "<ul>\n",
      "<li>calculate population size\n",
      "</ul>: 0\n",
      "Applied <simuPOP.PyOperator> calling a Python function setGenerationToZero: 0\n",
      "Applied <simuPOP.PyOperator> calling a Python function createMultiGenDataMatrix: 0\n",
      "Applied <simuPOP.Stat> Calculate statistics\n",
      "<ul>\n",
      "<li>calculate population size\n",
      "</ul>: 0\n",
      "Applied <simuPOP.PyOperator> calling a Python function setGenerationToZero: 0\n",
      "Applied <simuPOP.PyOperator> calling a Python function createMultiGenDataMatrix: 0\n",
      "Applied <simuPOP.Stat> Calculate statistics\n",
      "<ul>\n",
      "<li>calculate population size\n",
      "</ul>: 0\n",
      "Applied <simuPOP.PyOperator> calling a Python function setGenerationToZero: 0\n",
      "Applied <simuPOP.PyOperator> calling a Python function createMultiGenDataMatrix: 0\n",
      "Applied <simuPOP.Stat> Calculate statistics\n",
      "<ul>\n",
      "<li>calculate population size\n",
      "</ul>: 0\n",
      "Start evolution.: 0\n",
      "A"
     ]
    },
    {
     "name": "stdout",
     "output_type": "stream",
     "text": [
      "Gen\tMeanGe\tVarGe\tMeanPe\tVarPe\tSubPopulations\n",
      "\n"
     ]
    },
    {
     "name": "stderr",
     "output_type": "stream",
     "text": [
      "pplied <simuPOP.PyOperator> calling a Python function populationInformationPasser: 2.759\n",
      "Applied <simuPOP.PyOperator> calling a Python function assignFitness: 0.008\n",
      "Applied <simuPOP.Stat> Calculate statistics\n",
      "<ul>\n",
      "<li>calculate\n",
      "<ul>/n<li>Mean of information fields ge, pe\n",
      "<li>Variance of information fields ge, pe\n",
      "</ul>\n",
      "</ul>: 0.002\n",
      "Applied <simuPOP.PyOperator> calling a Python function inputDataToMatrix: 0.002\n",
      "Applied <simuPOP.PyEval> evalulate expression \"'\\n%d\\t%.3f\\t%.3f\\t' % (gen, meanOfInfo['ge'], var... \": 0.001\n",
      "Applied <simuPOP.PyEval> evalulate expression \"'%.3f\\t%.3f\\t%s\\n' % (meanOfInfo['pe'], varOfInfo[... \": 0\n",
      "Applied <simuPOP.PyOperator> calling a Python function sortOnInfoField: 0.005\n",
      "Applied <simuPOP.split subpopulation>: 0\n",
      "Applied <simuPOP.PyOperator> calling a Python function splitAndCombineCalculator: 0.002\n",
      "Start mating at generation 0: 0\n",
      "Mating finished.: 0.276\n",
      "Applied <simuPOP.merge subpopulations>: 0\n",
      "Applied <simuPOP.PyOperator> calling a Python function removeIndices: 0.011\n",
      "A"
     ]
    },
    {
     "name": "stdout",
     "output_type": "stream",
     "text": [
      "0\t66.039\t3.319\t66.035\t4.922\t[2000]\n",
      "\n"
     ]
    },
    {
     "name": "stderr",
     "output_type": "stream",
     "text": [
      "pplied <simuPOP.PyOperator> calling a Python function populationInformationPasser: 3.214\n",
      "Applied <simuPOP.PyOperator> calling a Python function assignFitness: 0.005\n",
      "Applied <simuPOP.Stat> Calculate statistics\n",
      "<ul>\n",
      "<li>calculate\n",
      "<ul>/n<li>Mean of information fields ge, pe\n",
      "<li>Variance of information fields ge, pe\n",
      "</ul>\n",
      "</ul>: 0.001\n",
      "Applied <simuPOP.PyOperator> calling a Python function inputDataToMatrix: 0.002\n",
      "Applied <simuPOP.PyEval> evalulate expression \"'\\n%d\\t%.3f\\t%.3f\\t' % (gen, meanOfInfo['ge'], var... \": 0.001\n",
      "Applied <simuPOP.PyEval> evalulate expression \"'%.3f\\t%.3f\\t%s\\n' % (meanOfInfo['pe'], varOfInfo[... \": 0\n",
      "Applied <simuPOP.PyOperator> calling a Python function sortOnInfoField: 0.005\n",
      "Applied <simuPOP.split subpopulation>: 0\n",
      "Applied <simuPOP.PyOperator> calling a Python function splitAndCombineCalculator: 0.003\n",
      "Start mating at generation 0: 0\n",
      "Mating finished.: 0.291\n",
      "Applied <simuPOP.merge subpopulations>: 0\n",
      "Applied <simuPOP.PyOperator> calling a Python function removeIndices: 0.011\n",
      "A"
     ]
    },
    {
     "name": "stdout",
     "output_type": "stream",
     "text": [
      "0\t66.039\t3.319\t66.006\t4.988\t[2000]\n",
      "\n"
     ]
    },
    {
     "name": "stderr",
     "output_type": "stream",
     "text": [
      "pplied <simuPOP.PyOperator> calling a Python function populationInformationPasser: 3.012\n",
      "Applied <simuPOP.PyOperator> calling a Python function assignFitness: 0.005\n",
      "Applied <simuPOP.Stat> Calculate statistics\n",
      "<ul>\n",
      "<li>calculate\n",
      "<ul>/n<li>Mean of information fields ge, pe\n",
      "<li>Variance of information fields ge, pe\n",
      "</ul>\n",
      "</ul>: 0.001\n",
      "Applied <simuPOP.PyOperator> calling a Python function inputDataToMatrix: 0.001\n",
      "Applied <simuPOP.PyEval> evalulate expression \"'\\n%d\\t%.3f\\t%.3f\\t' % (gen, meanOfInfo['ge'], var... \": 0.001\n",
      "Applied <simuPOP.PyEval> evalulate expression \"'%.3f\\t%.3f\\t%s\\n' % (meanOfInfo['pe'], varOfInfo[... \": 0\n",
      "Applied <simuPOP.PyOperator> calling a Python function sortOnInfoField: 0.005\n",
      "Applied <simuPOP.split subpopulation>: 0\n",
      "Applied <simuPOP.PyOperator> calling a Python function splitAndCombineCalculator: 0.002\n",
      "Start mating at generation 0: 0\n",
      "Mating finished.: 0.28\n",
      "Applied <simuPOP.merge subpopulations>: 0\n",
      "Applied <simuPOP.PyOperator> calling a Python function removeIndices: 0.011\n",
      "A"
     ]
    },
    {
     "name": "stdout",
     "output_type": "stream",
     "text": [
      "0\t66.039\t3.319\t66.056\t4.962\t[2000]\n",
      "\n"
     ]
    },
    {
     "name": "stderr",
     "output_type": "stream",
     "text": [
      "pplied <simuPOP.PyOperator> calling a Python function populationInformationPasser: 2.918\n",
      "Applied <simuPOP.PyOperator> calling a Python function assignFitness: 0.005\n",
      "Applied <simuPOP.Stat> Calculate statistics\n",
      "<ul>\n",
      "<li>calculate\n",
      "<ul>/n<li>Mean of information fields ge, pe\n",
      "<li>Variance of information fields ge, pe\n",
      "</ul>\n",
      "</ul>: 0\n",
      "Applied <simuPOP.PyOperator> calling a Python function inputDataToMatrix: 0.001\n",
      "Applied <simuPOP.PyEval> evalulate expression \"'\\n%d\\t%.3f\\t%.3f\\t' % (gen, meanOfInfo['ge'], var... \": 0\n",
      "Applied <simuPOP.PyEval> evalulate expression \"'%.3f\\t%.3f\\t%s\\n' % (meanOfInfo['pe'], varOfInfo[... \": 0\n",
      "Applied <simuPOP.PyOperator> calling a Python function sortOnInfoField: 0.005\n",
      "Applied <simuPOP.split subpopulation>: 0\n",
      "Applied <simuPOP.PyOperator> calling a Python function splitAndCombineCalculator: 0.002\n",
      "Start mating at generation 0: 0\n",
      "Mating finished.: 0.279\n",
      "Applied <simuPOP.merge subpopulations>: 0\n",
      "Applied <simuPOP.PyOperator> calling a Python function removeIndices: 0.011\n",
      "A"
     ]
    },
    {
     "name": "stdout",
     "output_type": "stream",
     "text": [
      "0\t66.039\t3.319\t66.051\t4.948\t[2000]\n",
      "\n"
     ]
    },
    {
     "name": "stderr",
     "output_type": "stream",
     "text": [
      "pplied <simuPOP.PyOperator> calling a Python function populationInformationPasser: 2.961\n",
      "Applied <simuPOP.PyOperator> calling a Python function assignFitness: 0.004\n",
      "Applied <simuPOP.Stat> Calculate statistics\n",
      "<ul>\n",
      "<li>calculate\n",
      "<ul>/n<li>Mean of information fields ge, pe\n",
      "<li>Variance of information fields ge, pe\n",
      "</ul>\n",
      "</ul>: 0\n",
      "Applied <simuPOP.PyOperator> calling a Python function inputDataToMatrix: 0\n",
      "Applied <simuPOP.PyEval> evalulate expression \"'\\n%d\\t%.3f\\t%.3f\\t' % (gen, meanOfInfo['ge'], var... \": 0\n",
      "Applied <simuPOP.PyEval> evalulate expression \"'%.3f\\t%.3f\\t%s\\n' % (meanOfInfo['pe'], varOfInfo[... \": 0\n",
      "Applied <simuPOP.PyOperator> calling a Python function sortOnInfoField: 0.007\n",
      "Applied <simuPOP.split subpopulation>: 0\n",
      "Applied <simuPOP.PyOperator> calling a Python function splitAndCombineCalculator: 0.003\n",
      "Start mating at generation 0: 0\n",
      "Mating finished.: 0.283\n",
      "Applied <simuPOP.merge subpopulations>: 0\n",
      "Applied <simuPOP.PyOperator> calling a Python function removeIndices: 0.011\n",
      "A"
     ]
    },
    {
     "name": "stdout",
     "output_type": "stream",
     "text": [
      "0\t66.039\t3.319\t66.058\t5.048\t[2000]\n",
      "\n"
     ]
    },
    {
     "name": "stderr",
     "output_type": "stream",
     "text": [
      "pplied <simuPOP.PyOperator> calling a Python function populationInformationPasser: 2.889\n",
      "Applied <simuPOP.PyOperator> calling a Python function assignFitness: 0.005\n",
      "Applied <simuPOP.Stat> Calculate statistics\n",
      "<ul>\n",
      "<li>calculate\n",
      "<ul>/n<li>Mean of information fields ge, pe\n",
      "<li>Variance of information fields ge, pe\n",
      "</ul>\n",
      "</ul>: 0.001\n",
      "Applied <simuPOP.PyOperator> calling a Python function inputDataToMatrix: 0.001\n",
      "Applied <simuPOP.PyEval> evalulate expression \"'\\n%d\\t%.3f\\t%.3f\\t' % (gen, meanOfInfo['ge'], var... \": 0\n",
      "Applied <simuPOP.PyEval> evalulate expression \"'%.3f\\t%.3f\\t%s\\n' % (meanOfInfo['pe'], varOfInfo[... \": 0\n",
      "Applied <simuPOP.PyOperator> calling a Python function sortOnInfoField: 0.006\n",
      "Applied <simuPOP.split subpopulation>: 0\n",
      "Applied <simuPOP.PyOperator> calling a Python function splitAndCombineCalculator: 0.003\n",
      "Start mating at generation 1: 0\n",
      "Mating finished.: 0.274\n",
      "Applied <simuPOP.merge subpopulations>: 0\n",
      "Applied <simuPOP.PyOperator> calling a Python function removeIndices: 0.011\n",
      "A"
     ]
    },
    {
     "name": "stdout",
     "output_type": "stream",
     "text": [
      "1\t69.025\t2.069\t69.021\t4.435\t[2000]\n",
      "\n"
     ]
    },
    {
     "name": "stderr",
     "output_type": "stream",
     "text": [
      "pplied <simuPOP.PyOperator> calling a Python function populationInformationPasser: 2.945\n",
      "Applied <simuPOP.PyOperator> calling a Python function assignFitness: 0.007\n",
      "Applied <simuPOP.Stat> Calculate statistics\n",
      "<ul>\n",
      "<li>calculate\n",
      "<ul>/n<li>Mean of information fields ge, pe\n",
      "<li>Variance of information fields ge, pe\n",
      "</ul>\n",
      "</ul>: 0.001\n",
      "Applied <simuPOP.PyOperator> calling a Python function inputDataToMatrix: 0.002\n",
      "Applied <simuPOP.PyEval> evalulate expression \"'\\n%d\\t%.3f\\t%.3f\\t' % (gen, meanOfInfo['ge'], var... \": 0\n",
      "Applied <simuPOP.PyEval> evalulate expression \"'%.3f\\t%.3f\\t%s\\n' % (meanOfInfo['pe'], varOfInfo[... \": 0\n",
      "Applied <simuPOP.PyOperator> calling a Python function sortOnInfoField: 0.005\n",
      "Applied <simuPOP.split subpopulation>: 0\n",
      "Applied <simuPOP.PyOperator> calling a Python function splitAndCombineCalculator: 0.003\n",
      "Start mating at generation 1: 0\n",
      "Mating finished.: 0.261\n",
      "Applied <simuPOP.merge subpopulations>: 0\n",
      "Applied <simuPOP.PyOperator> calling a Python function removeIndices: 0.01\n",
      "A"
     ]
    },
    {
     "name": "stdout",
     "output_type": "stream",
     "text": [
      "1\t69.002\t2.090\t69.062\t4.693\t[2000]\n",
      "\n"
     ]
    },
    {
     "name": "stderr",
     "output_type": "stream",
     "text": [
      "pplied <simuPOP.PyOperator> calling a Python function populationInformationPasser: 2.985\n",
      "Applied <simuPOP.PyOperator> calling a Python function assignFitness: 0.005\n",
      "Applied <simuPOP.Stat> Calculate statistics\n",
      "<ul>\n",
      "<li>calculate\n",
      "<ul>/n<li>Mean of information fields ge, pe\n",
      "<li>Variance of information fields ge, pe\n",
      "</ul>\n",
      "</ul>: 0.001\n",
      "Applied <simuPOP.PyOperator> calling a Python function inputDataToMatrix: 0.001\n",
      "Applied <simuPOP.PyEval> evalulate expression \"'\\n%d\\t%.3f\\t%.3f\\t' % (gen, meanOfInfo['ge'], var... \": 0.001\n",
      "Applied <simuPOP.PyEval> evalulate expression \"'%.3f\\t%.3f\\t%s\\n' % (meanOfInfo['pe'], varOfInfo[... \": 0\n",
      "Applied <simuPOP.PyOperator> calling a Python function sortOnInfoField: 0.008\n",
      "Applied <simuPOP.split subpopulation>: 0\n",
      "Applied <simuPOP.PyOperator> calling a Python function splitAndCombineCalculator: 0.002\n",
      "Start mating at generation 1: 0\n",
      "Mating finished.: 0.25\n",
      "Applied <simuPOP.merge subpopulations>: 0\n",
      "Applied <simuPOP.PyOperator> calling a Python function removeIndices: 0.012\n",
      "A"
     ]
    },
    {
     "name": "stdout",
     "output_type": "stream",
     "text": [
      "1\t69.047\t2.161\t69.023\t4.310\t[2000]\n",
      "\n"
     ]
    },
    {
     "name": "stderr",
     "output_type": "stream",
     "text": [
      "pplied <simuPOP.PyOperator> calling a Python function populationInformationPasser: 2.811\n",
      "Applied <simuPOP.PyOperator> calling a Python function assignFitness: 0.006\n",
      "Applied <simuPOP.Stat> Calculate statistics\n",
      "<ul>\n",
      "<li>calculate\n",
      "<ul>/n<li>Mean of information fields ge, pe\n",
      "<li>Variance of information fields ge, pe\n",
      "</ul>\n",
      "</ul>: 0\n",
      "Applied <simuPOP.PyOperator> calling a Python function inputDataToMatrix: 0.001\n",
      "Applied <simuPOP.PyEval> evalulate expression \"'\\n%d\\t%.3f\\t%.3f\\t' % (gen, meanOfInfo['ge'], var... \": 0.001\n",
      "Applied <simuPOP.PyEval> evalulate expression \"'%.3f\\t%.3f\\t%s\\n' % (meanOfInfo['pe'], varOfInfo[... \": 0\n",
      "Applied <simuPOP.PyOperator> calling a Python function sortOnInfoField: 0.005\n",
      "Applied <simuPOP.split subpopulation>: 0\n",
      "Applied <simuPOP.PyOperator> calling a Python function splitAndCombineCalculator: 0.002\n",
      "Start mating at generation 1: 0\n",
      "Mating finished.: 0.289\n",
      "Applied <simuPOP.merge subpopulations>: 0\n",
      "Applied <simuPOP.PyOperator> calling a Python function removeIndices: 0.012\n",
      "A"
     ]
    },
    {
     "name": "stdout",
     "output_type": "stream",
     "text": [
      "1\t69.191\t2.206\t69.173\t4.440\t[2000]\n",
      "\n"
     ]
    },
    {
     "name": "stderr",
     "output_type": "stream",
     "text": [
      "pplied <simuPOP.PyOperator> calling a Python function populationInformationPasser: 2.934\n",
      "Applied <simuPOP.PyOperator> calling a Python function assignFitness: 0.005\n",
      "Applied <simuPOP.Stat> Calculate statistics\n",
      "<ul>\n",
      "<li>calculate\n",
      "<ul>/n<li>Mean of information fields ge, pe\n",
      "<li>Variance of information fields ge, pe\n",
      "</ul>\n",
      "</ul>: 0.001\n",
      "Applied <simuPOP.PyOperator> calling a Python function inputDataToMatrix: 0.001\n",
      "Applied <simuPOP.PyEval> evalulate expression \"'\\n%d\\t%.3f\\t%.3f\\t' % (gen, meanOfInfo['ge'], var... \": 0\n",
      "Applied <simuPOP.PyEval> evalulate expression \"'%.3f\\t%.3f\\t%s\\n' % (meanOfInfo['pe'], varOfInfo[... \": 0\n",
      "Applied <simuPOP.PyOperator> calling a Python function sortOnInfoField: 0.005\n",
      "Applied <simuPOP.split subpopulation>: 0\n",
      "Applied <simuPOP.PyOperator> calling a Python function splitAndCombineCalculator: 0.002\n",
      "Start mating at generation 1: 0\n",
      "Mating finished.: 0.273\n",
      "Applied <simuPOP.merge subpopulations>: 0\n",
      "Applied <simuPOP.PyOperator> calling a Python function removeIndices: 0.011\n",
      "A"
     ]
    },
    {
     "name": "stdout",
     "output_type": "stream",
     "text": [
      "1\t69.139\t2.026\t69.101\t4.168\t[2000]\n",
      "\n"
     ]
    },
    {
     "name": "stderr",
     "output_type": "stream",
     "text": [
      "pplied <simuPOP.PyOperator> calling a Python function populationInformationPasser: 2.744\n",
      "Applied <simuPOP.PyOperator> calling a Python function assignFitness: 0.005\n",
      "Applied <simuPOP.Stat> Calculate statistics\n",
      "<ul>\n",
      "<li>calculate\n",
      "<ul>/n<li>Mean of information fields ge, pe\n",
      "<li>Variance of information fields ge, pe\n",
      "</ul>\n",
      "</ul>: 0\n",
      "Applied <simuPOP.PyOperator> calling a Python function inputDataToMatrix: 0.001\n",
      "Applied <simuPOP.PyEval> evalulate expression \"'\\n%d\\t%.3f\\t%.3f\\t' % (gen, meanOfInfo['ge'], var... \": 0.001\n",
      "Applied <simuPOP.PyEval> evalulate expression \"'%.3f\\t%.3f\\t%s\\n' % (meanOfInfo['pe'], varOfInfo[... \": 0\n",
      "Applied <simuPOP.PyOperator> calling a Python function sortOnInfoField: 0.005\n",
      "Applied <simuPOP.split subpopulation>: 0\n",
      "Applied <simuPOP.PyOperator> calling a Python function splitAndCombineCalculator: 0.002\n",
      "Start mating at generation 2: 0\n",
      "Mating finished.: 0.255\n",
      "Applied <simuPOP.merge subpopulations>: 0\n",
      "Applied <simuPOP.PyOperator> calling a Python function removeIndices: 0.01\n",
      "A"
     ]
    },
    {
     "name": "stdout",
     "output_type": "stream",
     "text": [
      "2\t71.043\t1.106\t71.026\t8.527\t[2000]\n",
      "\n"
     ]
    },
    {
     "name": "stderr",
     "output_type": "stream",
     "text": [
      "pplied <simuPOP.PyOperator> calling a Python function populationInformationPasser: 2.727\n",
      "Applied <simuPOP.PyOperator> calling a Python function assignFitness: 0.005\n",
      "Applied <simuPOP.Stat> Calculate statistics\n",
      "<ul>\n",
      "<li>calculate\n",
      "<ul>/n<li>Mean of information fields ge, pe\n",
      "<li>Variance of information fields ge, pe\n",
      "</ul>\n",
      "</ul>: 0.001\n",
      "Applied <simuPOP.PyOperator> calling a Python function inputDataToMatrix: 0.001\n",
      "Applied <simuPOP.PyEval> evalulate expression \"'\\n%d\\t%.3f\\t%.3f\\t' % (gen, meanOfInfo['ge'], var... \": 0.001\n",
      "Applied <simuPOP.PyEval> evalulate expression \"'%.3f\\t%.3f\\t%s\\n' % (meanOfInfo['pe'], varOfInfo[... \": 0\n",
      "Applied <simuPOP.PyOperator> calling a Python function sortOnInfoField: 0.005\n",
      "Applied <simuPOP.split subpopulation>: 0\n",
      "Applied <simuPOP.PyOperator> calling a Python function splitAndCombineCalculator: 0.002\n",
      "Start mating at generation 2: 0\n",
      "Mating finished.: 0.266\n",
      "Applied <simuPOP.merge subpopulations>: 0\n",
      "Applied <simuPOP.PyOperator> calling a Python function removeIndices: 0.011\n",
      "A"
     ]
    },
    {
     "name": "stdout",
     "output_type": "stream",
     "text": [
      "2\t70.886\t1.212\t70.830\t6.716\t[2000]\n",
      "\n"
     ]
    },
    {
     "name": "stderr",
     "output_type": "stream",
     "text": [
      "pplied <simuPOP.PyOperator> calling a Python function populationInformationPasser: 2.751\n",
      "Applied <simuPOP.PyOperator> calling a Python function assignFitness: 0.005\n",
      "Applied <simuPOP.Stat> Calculate statistics\n",
      "<ul>\n",
      "<li>calculate\n",
      "<ul>/n<li>Mean of information fields ge, pe\n",
      "<li>Variance of information fields ge, pe\n",
      "</ul>\n",
      "</ul>: 0.001\n",
      "Applied <simuPOP.PyOperator> calling a Python function inputDataToMatrix: 0.001\n",
      "Applied <simuPOP.PyEval> evalulate expression \"'\\n%d\\t%.3f\\t%.3f\\t' % (gen, meanOfInfo['ge'], var... \": 0.001\n",
      "Applied <simuPOP.PyEval> evalulate expression \"'%.3f\\t%.3f\\t%s\\n' % (meanOfInfo['pe'], varOfInfo[... \": 0\n",
      "Applied <simuPOP.PyOperator> calling a Python function sortOnInfoField: 0.005\n",
      "Applied <simuPOP.split subpopulation>: 0\n",
      "Applied <simuPOP.PyOperator> calling a Python function splitAndCombineCalculator: 0.002\n",
      "Start mating at generation 2: 0\n",
      "Mating finished.: 0.264\n",
      "Applied <simuPOP.merge subpopulations>: 0\n",
      "Applied <simuPOP.PyOperator> calling a Python function removeIndices: 0.011\n",
      "A"
     ]
    },
    {
     "name": "stdout",
     "output_type": "stream",
     "text": [
      "2\t70.987\t1.196\t71.020\t6.819\t[2000]\n",
      "\n"
     ]
    },
    {
     "name": "stderr",
     "output_type": "stream",
     "text": [
      "pplied <simuPOP.PyOperator> calling a Python function populationInformationPasser: 2.688\n",
      "Applied <simuPOP.PyOperator> calling a Python function assignFitness: 0.005\n",
      "Applied <simuPOP.Stat> Calculate statistics\n",
      "<ul>\n",
      "<li>calculate\n",
      "<ul>/n<li>Mean of information fields ge, pe\n",
      "<li>Variance of information fields ge, pe\n",
      "</ul>\n",
      "</ul>: 0.001\n",
      "Applied <simuPOP.PyOperator> calling a Python function inputDataToMatrix: 0.001\n",
      "Applied <simuPOP.PyEval> evalulate expression \"'\\n%d\\t%.3f\\t%.3f\\t' % (gen, meanOfInfo['ge'], var... \": 0\n",
      "Applied <simuPOP.PyEval> evalulate expression \"'%.3f\\t%.3f\\t%s\\n' % (meanOfInfo['pe'], varOfInfo[... \": 0\n",
      "Applied <simuPOP.PyOperator> calling a Python function sortOnInfoField: 0.004\n",
      "Applied <simuPOP.split subpopulation>: 0\n",
      "Applied <simuPOP.PyOperator> calling a Python function splitAndCombineCalculator: 0.002\n",
      "Start mating at generation 2: 0\n",
      "Mating finished.: 0.256\n",
      "Applied <simuPOP.merge subpopulations>: 0\n",
      "Applied <simuPOP.PyOperator> calling a Python function removeIndices: 0.011\n",
      "A"
     ]
    },
    {
     "name": "stdout",
     "output_type": "stream",
     "text": [
      "2\t71.194\t1.047\t71.258\t10.212\t[2000]\n",
      "\n"
     ]
    },
    {
     "name": "stderr",
     "output_type": "stream",
     "text": [
      "pplied <simuPOP.PyOperator> calling a Python function populationInformationPasser: 2.722\n",
      "Applied <simuPOP.PyOperator> calling a Python function assignFitness: 0.008\n",
      "Applied <simuPOP.Stat> Calculate statistics\n",
      "<ul>\n",
      "<li>calculate\n",
      "<ul>/n<li>Mean of information fields ge, pe\n",
      "<li>Variance of information fields ge, pe\n",
      "</ul>\n",
      "</ul>: 0.001\n",
      "Applied <simuPOP.PyOperator> calling a Python function inputDataToMatrix: 0.002\n",
      "Applied <simuPOP.PyEval> evalulate expression \"'\\n%d\\t%.3f\\t%.3f\\t' % (gen, meanOfInfo['ge'], var... \": 0.001\n",
      "Applied <simuPOP.PyEval> evalulate expression \"'%.3f\\t%.3f\\t%s\\n' % (meanOfInfo['pe'], varOfInfo[... \": 0\n",
      "Applied <simuPOP.PyOperator> calling a Python function sortOnInfoField: 0.006\n",
      "Applied <simuPOP.split subpopulation>: 0\n",
      "Applied <simuPOP.PyOperator> calling a Python function splitAndCombineCalculator: 0.004\n",
      "Start mating at generation 2: 0\n",
      "Mating finished.: 0.246\n",
      "Applied <simuPOP.merge subpopulations>: 0\n",
      "Applied <simuPOP.PyOperator> calling a Python function removeIndices: 0.01\n",
      "A"
     ]
    },
    {
     "name": "stdout",
     "output_type": "stream",
     "text": [
      "2\t70.914\t1.169\t70.919\t7.501\t[2000]\n",
      "\n"
     ]
    },
    {
     "name": "stderr",
     "output_type": "stream",
     "text": [
      "pplied <simuPOP.PyOperator> calling a Python function populationInformationPasser: 2.729\n",
      "Applied <simuPOP.PyOperator> calling a Python function assignFitness: 0.008\n",
      "Applied <simuPOP.Stat> Calculate statistics\n",
      "<ul>\n",
      "<li>calculate\n",
      "<ul>/n<li>Mean of information fields ge, pe\n",
      "<li>Variance of information fields ge, pe\n",
      "</ul>\n",
      "</ul>: 0.002\n",
      "Applied <simuPOP.PyOperator> calling a Python function inputDataToMatrix: 0.002\n",
      "Applied <simuPOP.PyEval> evalulate expression \"'\\n%d\\t%.3f\\t%.3f\\t' % (gen, meanOfInfo['ge'], var... \": 0\n",
      "Applied <simuPOP.PyEval> evalulate expression \"'%.3f\\t%.3f\\t%s\\n' % (meanOfInfo['pe'], varOfInfo[... \": 0\n",
      "Applied <simuPOP.PyOperator> calling a Python function sortOnInfoField: 0.007\n",
      "Applied <simuPOP.split subpopulation>: 0\n",
      "Applied <simuPOP.PyOperator> calling a Python function splitAndCombineCalculator: 0.002\n",
      "Start mating at generation 3: 0\n",
      "Mating finished.: 0.261\n",
      "Applied <simuPOP.merge subpopulations>: 0.001\n",
      "Applied <simuPOP.PyOperator> calling a Python function removeIndices: 0.011\n",
      "A"
     ]
    },
    {
     "name": "stdout",
     "output_type": "stream",
     "text": [
      "3\t71.700\t0.770\t72.121\t126.383\t[2000]\n",
      "\n"
     ]
    },
    {
     "name": "stderr",
     "output_type": "stream",
     "text": [
      "pplied <simuPOP.PyOperator> calling a Python function populationInformationPasser: 2.79\n",
      "Applied <simuPOP.PyOperator> calling a Python function assignFitness: 0.005\n",
      "Applied <simuPOP.Stat> Calculate statistics\n",
      "<ul>\n",
      "<li>calculate\n",
      "<ul>/n<li>Mean of information fields ge, pe\n",
      "<li>Variance of information fields ge, pe\n",
      "</ul>\n",
      "</ul>: 0.001\n",
      "Applied <simuPOP.PyOperator> calling a Python function inputDataToMatrix: 0.001\n",
      "Applied <simuPOP.PyEval> evalulate expression \"'\\n%d\\t%.3f\\t%.3f\\t' % (gen, meanOfInfo['ge'], var... \": 0.001\n",
      "Applied <simuPOP.PyEval> evalulate expression \"'%.3f\\t%.3f\\t%s\\n' % (meanOfInfo['pe'], varOfInfo[... \": 0\n",
      "Applied <simuPOP.PyOperator> calling a Python function sortOnInfoField: 0.008\n",
      "Applied <simuPOP.split subpopulation>: 0\n",
      "Applied <simuPOP.PyOperator> calling a Python function splitAndCombineCalculator: 0.002\n",
      "Start mating at generation 3: 0\n",
      "Mating finished.: 0.26\n",
      "Applied <simuPOP.merge subpopulations>: 0.001\n",
      "Applied <simuPOP.PyOperator> calling a Python function removeIndices: 0.01\n",
      "A"
     ]
    },
    {
     "name": "stdout",
     "output_type": "stream",
     "text": [
      "3\t71.752\t0.867\t71.563\t28.332\t[2000]\n",
      "\n"
     ]
    },
    {
     "name": "stderr",
     "output_type": "stream",
     "text": [
      "pplied <simuPOP.PyOperator> calling a Python function populationInformationPasser: 2.746\n",
      "Applied <simuPOP.PyOperator> calling a Python function assignFitness: 0.005\n",
      "Applied <simuPOP.Stat> Calculate statistics\n",
      "<ul>\n",
      "<li>calculate\n",
      "<ul>/n<li>Mean of information fields ge, pe\n",
      "<li>Variance of information fields ge, pe\n",
      "</ul>\n",
      "</ul>: 0\n",
      "Applied <simuPOP.PyOperator> calling a Python function inputDataToMatrix: 0.001\n",
      "Applied <simuPOP.PyEval> evalulate expression \"'\\n%d\\t%.3f\\t%.3f\\t' % (gen, meanOfInfo['ge'], var... \": 0\n",
      "Applied <simuPOP.PyEval> evalulate expression \"'%.3f\\t%.3f\\t%s\\n' % (meanOfInfo['pe'], varOfInfo[... \": 0\n",
      "Applied <simuPOP.PyOperator> calling a Python function sortOnInfoField: 0.008\n",
      "Applied <simuPOP.split subpopulation>: 0\n",
      "Applied <simuPOP.PyOperator> calling a Python function splitAndCombineCalculator: 0.001\n",
      "Start mating at generation 3: 0\n",
      "Mating finished.: 0.257\n",
      "Applied <simuPOP.merge subpopulations>: 0\n",
      "Applied <simuPOP.PyOperator> calling a Python function removeIndices: 0.01\n",
      "A"
     ]
    },
    {
     "name": "stdout",
     "output_type": "stream",
     "text": [
      "3\t71.745\t0.811\t71.620\t57.359\t[2000]\n",
      "\n"
     ]
    },
    {
     "name": "stderr",
     "output_type": "stream",
     "text": [
      "pplied <simuPOP.PyOperator> calling a Python function populationInformationPasser: 3.198\n",
      "Applied <simuPOP.PyOperator> calling a Python function assignFitness: 0.005\n",
      "Applied <simuPOP.Stat> Calculate statistics\n",
      "<ul>\n",
      "<li>calculate\n",
      "<ul>/n<li>Mean of information fields ge, pe\n",
      "<li>Variance of information fields ge, pe\n",
      "</ul>\n",
      "</ul>: 0.001\n",
      "Applied <simuPOP.PyOperator> calling a Python function inputDataToMatrix: 0.001\n",
      "Applied <simuPOP.PyEval> evalulate expression \"'\\n%d\\t%.3f\\t%.3f\\t' % (gen, meanOfInfo['ge'], var... \": 0.001\n",
      "Applied <simuPOP.PyEval> evalulate expression \"'%.3f\\t%.3f\\t%s\\n' % (meanOfInfo['pe'], varOfInfo[... \": 0\n",
      "Applied <simuPOP.PyOperator> calling a Python function sortOnInfoField: 0.007\n",
      "Applied <simuPOP.split subpopulation>: 0\n",
      "Applied <simuPOP.PyOperator> calling a Python function splitAndCombineCalculator: 0.001\n",
      "Start mating at generation 3: 0\n",
      "Mating finished.: 0.301\n",
      "Applied <simuPOP.merge subpopulations>: 0\n",
      "Applied <simuPOP.PyOperator> calling a Python function removeIndices: 0.01\n",
      "A"
     ]
    },
    {
     "name": "stdout",
     "output_type": "stream",
     "text": [
      "3\t71.791\t0.656\t71.361\t222.847\t[2000]\n",
      "\n"
     ]
    },
    {
     "name": "stderr",
     "output_type": "stream",
     "text": [
      "pplied <simuPOP.PyOperator> calling a Python function populationInformationPasser: 2.985\n",
      "Applied <simuPOP.PyOperator> calling a Python function assignFitness: 0.005\n",
      "Applied <simuPOP.Stat> Calculate statistics\n",
      "<ul>\n",
      "<li>calculate\n",
      "<ul>/n<li>Mean of information fields ge, pe\n",
      "<li>Variance of information fields ge, pe\n",
      "</ul>\n",
      "</ul>: 0.001\n",
      "Applied <simuPOP.PyOperator> calling a Python function inputDataToMatrix: 0.001\n",
      "Applied <simuPOP.PyEval> evalulate expression \"'\\n%d\\t%.3f\\t%.3f\\t' % (gen, meanOfInfo['ge'], var... \": 0.001\n",
      "Applied <simuPOP.PyEval> evalulate expression \"'%.3f\\t%.3f\\t%s\\n' % (meanOfInfo['pe'], varOfInfo[... \": 0\n",
      "Applied <simuPOP.PyOperator> calling a Python function sortOnInfoField: 0.005\n",
      "Applied <simuPOP.split subpopulation>: 0\n",
      "Applied <simuPOP.PyOperator> calling a Python function splitAndCombineCalculator: 0.002\n",
      "Start mating at generation 3: 0\n",
      "Mating finished.: 0.257\n",
      "Applied <simuPOP.merge subpopulations>: 0\n",
      "Applied <simuPOP.PyOperator> calling a Python function removeIndices: 0.01\n",
      "A"
     ]
    },
    {
     "name": "stdout",
     "output_type": "stream",
     "text": [
      "3\t71.822\t0.693\t74.976\t9430.430\t[2000]\n",
      "\n"
     ]
    },
    {
     "name": "stderr",
     "output_type": "stream",
     "text": [
      "pplied <simuPOP.PyOperator> calling a Python function populationInformationPasser: 2.674\n",
      "Applied <simuPOP.PyOperator> calling a Python function assignFitness: 0.005\n",
      "Applied <simuPOP.Stat> Calculate statistics\n",
      "<ul>\n",
      "<li>calculate\n",
      "<ul>/n<li>Mean of information fields ge, pe\n",
      "<li>Variance of information fields ge, pe\n",
      "</ul>\n",
      "</ul>: 0\n",
      "Applied <simuPOP.PyOperator> calling a Python function inputDataToMatrix: 0.001\n",
      "Applied <simuPOP.PyEval> evalulate expression \"'\\n%d\\t%.3f\\t%.3f\\t' % (gen, meanOfInfo['ge'], var... \": 0.001\n",
      "Applied <simuPOP.PyEval> evalulate expression \"'%.3f\\t%.3f\\t%s\\n' % (meanOfInfo['pe'], varOfInfo[... \": 0\n",
      "Applied <simuPOP.PyOperator> calling a Python function sortOnInfoField: 0.005\n",
      "Applied <simuPOP.split subpopulation>: 0\n",
      "Applied <simuPOP.PyOperator> calling a Python function splitAndCombineCalculator: 0.002\n",
      "Start mating at generation 4: 0\n",
      "Mating finished.: 0.317\n",
      "Applied <simuPOP.merge subpopulations>: 0\n",
      "Applied <simuPOP.PyOperator> calling a Python function removeIndices: 0.01\n",
      "A"
     ]
    },
    {
     "name": "stdout",
     "output_type": "stream",
     "text": [
      "4\t71.879\t0.573\t71.693\t21.385\t[2000]\n",
      "\n"
     ]
    },
    {
     "name": "stderr",
     "output_type": "stream",
     "text": [
      "pplied <simuPOP.PyOperator> calling a Python function populationInformationPasser: 2.766\n",
      "Applied <simuPOP.PyOperator> calling a Python function assignFitness: 0.005\n",
      "Applied <simuPOP.Stat> Calculate statistics\n",
      "<ul>\n",
      "<li>calculate\n",
      "<ul>/n<li>Mean of information fields ge, pe\n",
      "<li>Variance of information fields ge, pe\n",
      "</ul>\n",
      "</ul>: 0.001\n",
      "Applied <simuPOP.PyOperator> calling a Python function inputDataToMatrix: 0.002\n",
      "Applied <simuPOP.PyEval> evalulate expression \"'\\n%d\\t%.3f\\t%.3f\\t' % (gen, meanOfInfo['ge'], var... \": 0\n",
      "Applied <simuPOP.PyEval> evalulate expression \"'%.3f\\t%.3f\\t%s\\n' % (meanOfInfo['pe'], varOfInfo[... \": 0\n",
      "Applied <simuPOP.PyOperator> calling a Python function sortOnInfoField: 0.005\n",
      "Applied <simuPOP.split subpopulation>: 0\n",
      "Applied <simuPOP.PyOperator> calling a Python function splitAndCombineCalculator: 0.002\n",
      "Start mating at generation 4: 0\n",
      "Mating finished.: 0.245\n",
      "Applied <simuPOP.merge subpopulations>: 0.001\n",
      "Applied <simuPOP.PyOperator> calling a Python function removeIndices: 0.011\n",
      "A"
     ]
    },
    {
     "name": "stdout",
     "output_type": "stream",
     "text": [
      "4\t71.997\t0.676\t71.958\t757.860\t[2000]\n",
      "\n"
     ]
    },
    {
     "name": "stderr",
     "output_type": "stream",
     "text": [
      "pplied <simuPOP.PyOperator> calling a Python function populationInformationPasser: 2.764\n",
      "Applied <simuPOP.PyOperator> calling a Python function assignFitness: 0.005\n",
      "Applied <simuPOP.Stat> Calculate statistics\n",
      "<ul>\n",
      "<li>calculate\n",
      "<ul>/n<li>Mean of information fields ge, pe\n",
      "<li>Variance of information fields ge, pe\n",
      "</ul>\n",
      "</ul>: 0.001\n",
      "Applied <simuPOP.PyOperator> calling a Python function inputDataToMatrix: 0.001\n",
      "Applied <simuPOP.PyEval> evalulate expression \"'\\n%d\\t%.3f\\t%.3f\\t' % (gen, meanOfInfo['ge'], var... \": 0\n",
      "Applied <simuPOP.PyEval> evalulate expression \"'%.3f\\t%.3f\\t%s\\n' % (meanOfInfo['pe'], varOfInfo[... \": 0\n",
      "Applied <simuPOP.PyOperator> calling a Python function sortOnInfoField: 0.005\n",
      "Applied <simuPOP.split subpopulation>: 0\n",
      "Applied <simuPOP.PyOperator> calling a Python function splitAndCombineCalculator: 0.003\n",
      "Start mating at generation 4: 0\n",
      "Mating finished.: 0.259\n",
      "Applied <simuPOP.merge subpopulations>: 0\n",
      "Applied <simuPOP.PyOperator> calling a Python function removeIndices: 0.01\n",
      "A"
     ]
    },
    {
     "name": "stdout",
     "output_type": "stream",
     "text": [
      "4\t71.941\t0.702\t78.040\t116002.117\t[2000]\n",
      "\n"
     ]
    },
    {
     "name": "stderr",
     "output_type": "stream",
     "text": [
      "pplied <simuPOP.PyOperator> calling a Python function populationInformationPasser: 2.668\n",
      "Applied <simuPOP.PyOperator> calling a Python function assignFitness: 0.004\n",
      "Applied <simuPOP.Stat> Calculate statistics\n",
      "<ul>\n",
      "<li>calculate\n",
      "<ul>/n<li>Mean of information fields ge, pe\n",
      "<li>Variance of information fields ge, pe\n",
      "</ul>\n",
      "</ul>: 0\n",
      "Applied <simuPOP.PyOperator> calling a Python function inputDataToMatrix: 0.002\n",
      "Applied <simuPOP.PyEval> evalulate expression \"'\\n%d\\t%.3f\\t%.3f\\t' % (gen, meanOfInfo['ge'], var... \": 0\n",
      "Applied <simuPOP.PyEval> evalulate expression \"'%.3f\\t%.3f\\t%s\\n' % (meanOfInfo['pe'], varOfInfo[... \": 0\n",
      "Applied <simuPOP.PyOperator> calling a Python function sortOnInfoField: 0.005\n",
      "Applied <simuPOP.split subpopulation>: 0\n",
      "Applied <simuPOP.PyOperator> calling a Python function splitAndCombineCalculator: 0.002\n",
      "Start mating at generation 4: 0\n",
      "Mating finished.: 0.257\n",
      "Applied <simuPOP.merge subpopulations>: 0\n",
      "Applied <simuPOP.PyOperator> calling a Python function removeIndices: 0.01\n",
      "A"
     ]
    },
    {
     "name": "stdout",
     "output_type": "stream",
     "text": [
      "4\t71.875\t0.649\t72.482\t161.345\t[2000]\n",
      "\n"
     ]
    },
    {
     "name": "stderr",
     "output_type": "stream",
     "text": [
      "pplied <simuPOP.PyOperator> calling a Python function populationInformationPasser: 2.876\n",
      "Applied <simuPOP.PyOperator> calling a Python function assignFitness: 0.005\n",
      "Applied <simuPOP.Stat> Calculate statistics\n",
      "<ul>\n",
      "<li>calculate\n",
      "<ul>/n<li>Mean of information fields ge, pe\n",
      "<li>Variance of information fields ge, pe\n",
      "</ul>\n",
      "</ul>: 0.001\n",
      "Applied <simuPOP.PyOperator> calling a Python function inputDataToMatrix: 0.001\n",
      "Applied <simuPOP.PyEval> evalulate expression \"'\\n%d\\t%.3f\\t%.3f\\t' % (gen, meanOfInfo['ge'], var... \": 0\n",
      "Applied <simuPOP.PyEval> evalulate expression \"'%.3f\\t%.3f\\t%s\\n' % (meanOfInfo['pe'], varOfInfo[... \": 0\n",
      "Applied <simuPOP.PyOperator> calling a Python function sortOnInfoField: 0.004\n",
      "Applied <simuPOP.split subpopulation>: 0\n",
      "Applied <simuPOP.PyOperator> calling a Python function splitAndCombineCalculator: 0.001\n",
      "Start mating at generation 4: 0\n",
      "Mating finished.: 0.256\n",
      "Applied <simuPOP.merge subpopulations>: 0.001\n",
      "Applied <simuPOP.PyOperator> calling a Python function removeIndices: 0.01\n",
      "A"
     ]
    },
    {
     "name": "stdout",
     "output_type": "stream",
     "text": [
      "4\t71.812\t0.728\t71.559\t708.143\t[2000]\n",
      "\n"
     ]
    },
    {
     "name": "stderr",
     "output_type": "stream",
     "text": [
      "pplied <simuPOP.PyOperator> calling a Python function populationInformationPasser: 2.651\n",
      "Applied <simuPOP.PyOperator> calling a Python function assignFitness: 0.005\n",
      "Applied <simuPOP.Stat> Calculate statistics\n",
      "<ul>\n",
      "<li>calculate\n",
      "<ul>/n<li>Mean of information fields ge, pe\n",
      "<li>Variance of information fields ge, pe\n",
      "</ul>\n",
      "</ul>: 0.001\n",
      "Applied <simuPOP.PyOperator> calling a Python function inputDataToMatrix: 0.001\n",
      "Applied <simuPOP.PyEval> evalulate expression \"'\\n%d\\t%.3f\\t%.3f\\t' % (gen, meanOfInfo['ge'], var... \": 0\n",
      "Applied <simuPOP.PyEval> evalulate expression \"'%.3f\\t%.3f\\t%s\\n' % (meanOfInfo['pe'], varOfInfo[... \": 0\n",
      "Applied <simuPOP.PyOperator> calling a Python function sortOnInfoField: 0.004\n",
      "Applied <simuPOP.split subpopulation>: 0\n",
      "Applied <simuPOP.PyOperator> calling a Python function splitAndCombineCalculator: 0.001\n",
      "Start mating at generation 5: 0\n",
      "Mating finished.: 0.314\n",
      "Applied <simuPOP.merge subpopulations>: 0\n",
      "Applied <simuPOP.PyOperator> calling a Python function removeIndices: 0.01\n",
      "A"
     ]
    },
    {
     "name": "stdout",
     "output_type": "stream",
     "text": [
      "5\t72.038\t0.543\t72.148\t11.958\t[2000]\n",
      "\n"
     ]
    },
    {
     "name": "stderr",
     "output_type": "stream",
     "text": [
      "pplied <simuPOP.PyOperator> calling a Python function populationInformationPasser: 2.639\n",
      "Applied <simuPOP.PyOperator> calling a Python function assignFitness: 0.006\n",
      "Applied <simuPOP.Stat> Calculate statistics\n",
      "<ul>\n",
      "<li>calculate\n",
      "<ul>/n<li>Mean of information fields ge, pe\n",
      "<li>Variance of information fields ge, pe\n",
      "</ul>\n",
      "</ul>: 0.001\n",
      "Applied <simuPOP.PyOperator> calling a Python function inputDataToMatrix: 0.003\n",
      "Applied <simuPOP.PyEval> evalulate expression \"'\\n%d\\t%.3f\\t%.3f\\t' % (gen, meanOfInfo['ge'], var... \": 0.001\n",
      "Applied <simuPOP.PyEval> evalulate expression \"'%.3f\\t%.3f\\t%s\\n' % (meanOfInfo['pe'], varOfInfo[... \": 0\n",
      "Applied <simuPOP.PyOperator> calling a Python function sortOnInfoField: 0.005\n",
      "Applied <simuPOP.split subpopulation>: 0\n",
      "Applied <simuPOP.PyOperator> calling a Python function splitAndCombineCalculator: 0.002\n",
      "Start mating at generation 5: 0\n",
      "Mating finished.: 0.26\n",
      "Applied <simuPOP.merge subpopulations>: 0\n",
      "Applied <simuPOP.PyOperator> calling a Python function removeIndices: 0.01\n",
      "A"
     ]
    },
    {
     "name": "stdout",
     "output_type": "stream",
     "text": [
      "5\t72.004\t0.707\t76.260\t10579.416\t[2000]\n",
      "\n"
     ]
    },
    {
     "name": "stderr",
     "output_type": "stream",
     "text": [
      "pplied <simuPOP.PyOperator> calling a Python function populationInformationPasser: 2.763\n",
      "Applied <simuPOP.PyOperator> calling a Python function assignFitness: 0.004\n",
      "Applied <simuPOP.Stat> Calculate statistics\n",
      "<ul>\n",
      "<li>calculate\n",
      "<ul>/n<li>Mean of information fields ge, pe\n",
      "<li>Variance of information fields ge, pe\n",
      "</ul>\n",
      "</ul>: 0.001\n",
      "Applied <simuPOP.PyOperator> calling a Python function inputDataToMatrix: 0.001\n",
      "Applied <simuPOP.PyEval> evalulate expression \"'\\n%d\\t%.3f\\t%.3f\\t' % (gen, meanOfInfo['ge'], var... \": 0\n",
      "Applied <simuPOP.PyEval> evalulate expression \"'%.3f\\t%.3f\\t%s\\n' % (meanOfInfo['pe'], varOfInfo[... \": 0\n",
      "Applied <simuPOP.PyOperator> calling a Python function sortOnInfoField: 0.004\n",
      "Applied <simuPOP.split subpopulation>: 0\n",
      "Applied <simuPOP.PyOperator> calling a Python function splitAndCombineCalculator: 0.001\n",
      "Start mating at generation 5: 0\n",
      "Mating finished.: 0.264\n",
      "Applied <simuPOP.merge subpopulations>: 0\n",
      "Applied <simuPOP.PyOperator> calling a Python function removeIndices: 0.01\n",
      "A"
     ]
    },
    {
     "name": "stdout",
     "output_type": "stream",
     "text": [
      "5\t72.003\t0.649\t72.146\t161.164\t[2000]\n",
      "\n"
     ]
    },
    {
     "name": "stderr",
     "output_type": "stream",
     "text": [
      "pplied <simuPOP.PyOperator> calling a Python function populationInformationPasser: 2.651\n",
      "Applied <simuPOP.PyOperator> calling a Python function assignFitness: 0.005\n",
      "Applied <simuPOP.Stat> Calculate statistics\n",
      "<ul>\n",
      "<li>calculate\n",
      "<ul>/n<li>Mean of information fields ge, pe\n",
      "<li>Variance of information fields ge, pe\n",
      "</ul>\n",
      "</ul>: 0.001\n",
      "Applied <simuPOP.PyOperator> calling a Python function inputDataToMatrix: 0.001\n",
      "Applied <simuPOP.PyEval> evalulate expression \"'\\n%d\\t%.3f\\t%.3f\\t' % (gen, meanOfInfo['ge'], var... \": 0\n",
      "Applied <simuPOP.PyEval> evalulate expression \"'%.3f\\t%.3f\\t%s\\n' % (meanOfInfo['pe'], varOfInfo[... \": 0\n",
      "Applied <simuPOP.PyOperator> calling a Python function sortOnInfoField: 0.005\n",
      "Applied <simuPOP.split subpopulation>: 0.001\n",
      "Applied <simuPOP.PyOperator> calling a Python function splitAndCombineCalculator: 0.002\n",
      "Start mating at generation 5: 0\n",
      "Mating finished.: 0.247\n",
      "Applied <simuPOP.merge subpopulations>: 0\n",
      "Applied <simuPOP.PyOperator> calling a Python function removeIndices: 0.012\n",
      "A"
     ]
    },
    {
     "name": "stdout",
     "output_type": "stream",
     "text": [
      "5\t71.915\t0.612\t71.837\t48.160\t[2000]\n",
      "\n"
     ]
    },
    {
     "name": "stderr",
     "output_type": "stream",
     "text": [
      "pplied <simuPOP.PyOperator> calling a Python function populationInformationPasser: 2.819\n",
      "Applied <simuPOP.PyOperator> calling a Python function assignFitness: 0.005\n",
      "Applied <simuPOP.Stat> Calculate statistics\n",
      "<ul>\n",
      "<li>calculate\n",
      "<ul>/n<li>Mean of information fields ge, pe\n",
      "<li>Variance of information fields ge, pe\n",
      "</ul>\n",
      "</ul>: 0.001\n",
      "Applied <simuPOP.PyOperator> calling a Python function inputDataToMatrix: 0.001\n",
      "Applied <simuPOP.PyEval> evalulate expression \"'\\n%d\\t%.3f\\t%.3f\\t' % (gen, meanOfInfo['ge'], var... \": 0.001\n",
      "Applied <simuPOP.PyEval> evalulate expression \"'%.3f\\t%.3f\\t%s\\n' % (meanOfInfo['pe'], varOfInfo[... \": 0\n",
      "Applied <simuPOP.PyOperator> calling a Python function sortOnInfoField: 0.005\n",
      "Applied <simuPOP.split subpopulation>: 0\n",
      "Applied <simuPOP.PyOperator> calling a Python function splitAndCombineCalculator: 0.002\n",
      "Start mating at generation 5: 0\n",
      "Mating finished.: 0.307\n",
      "Applied <simuPOP.merge subpopulations>: 0.001\n",
      "Applied <simuPOP.PyOperator> calling a Python function removeIndices: 0.013\n",
      "A"
     ]
    },
    {
     "name": "stdout",
     "output_type": "stream",
     "text": [
      "5\t71.843\t0.668\t71.330\t408.055\t[2000]\n",
      "\n"
     ]
    },
    {
     "name": "stderr",
     "output_type": "stream",
     "text": [
      "pplied <simuPOP.PyOperator> calling a Python function populationInformationPasser: 3.39\n",
      "Applied <simuPOP.PyOperator> calling a Python function assignFitness: 0.007\n",
      "Applied <simuPOP.Stat> Calculate statistics\n",
      "<ul>\n",
      "<li>calculate\n",
      "<ul>/n<li>Mean of information fields ge, pe\n",
      "<li>Variance of information fields ge, pe\n",
      "</ul>\n",
      "</ul>: 0.001\n",
      "Applied <simuPOP.PyOperator> calling a Python function inputDataToMatrix: 0.001\n",
      "Applied <simuPOP.PyEval> evalulate expression \"'\\n%d\\t%.3f\\t%.3f\\t' % (gen, meanOfInfo['ge'], var... \": 0\n",
      "Applied <simuPOP.PyEval> evalulate expression \"'%.3f\\t%.3f\\t%s\\n' % (meanOfInfo['pe'], varOfInfo[... \": 0\n",
      "Applied <simuPOP.PyOperator> calling a Python function sortOnInfoField: 0.005\n",
      "Applied <simuPOP.split subpopulation>: 0\n",
      "Applied <simuPOP.PyOperator> calling a Python function splitAndCombineCalculator: 0.002\n",
      "Start mating at generation 6: 0\n",
      "Mating finished.: 0.299\n",
      "Applied <simuPOP.merge subpopulations>: 0\n",
      "Applied <simuPOP.PyOperator> calling a Python function removeIndices: 0.013\n",
      "A"
     ]
    },
    {
     "name": "stdout",
     "output_type": "stream",
     "text": [
      "6\t72.378\t0.436\t72.307\t3.126\t[2000]\n",
      "\n"
     ]
    },
    {
     "name": "stderr",
     "output_type": "stream",
     "text": [
      "pplied <simuPOP.PyOperator> calling a Python function populationInformationPasser: 3.082\n",
      "Applied <simuPOP.PyOperator> calling a Python function assignFitness: 0.008\n",
      "Applied <simuPOP.Stat> Calculate statistics\n",
      "<ul>\n",
      "<li>calculate\n",
      "<ul>/n<li>Mean of information fields ge, pe\n",
      "<li>Variance of information fields ge, pe\n",
      "</ul>\n",
      "</ul>: 0.002\n",
      "Applied <simuPOP.PyOperator> calling a Python function inputDataToMatrix: 0.002\n",
      "Applied <simuPOP.PyEval> evalulate expression \"'\\n%d\\t%.3f\\t%.3f\\t' % (gen, meanOfInfo['ge'], var... \": 0.001\n",
      "Applied <simuPOP.PyEval> evalulate expression \"'%.3f\\t%.3f\\t%s\\n' % (meanOfInfo['pe'], varOfInfo[... \": 0\n",
      "Applied <simuPOP.PyOperator> calling a Python function sortOnInfoField: 0.005\n",
      "Applied <simuPOP.split subpopulation>: 0\n",
      "Applied <simuPOP.PyOperator> calling a Python function splitAndCombineCalculator: 0.004\n",
      "Start mating at generation 6: 0\n",
      "Mating finished.: 0.307\n",
      "Applied <simuPOP.merge subpopulations>: 0.001\n",
      "Applied <simuPOP.PyOperator> calling a Python function removeIndices: 0.013\n",
      "A"
     ]
    },
    {
     "name": "stdout",
     "output_type": "stream",
     "text": [
      "6\t71.982\t0.751\t72.143\t204.575\t[2000]\n",
      "\n"
     ]
    },
    {
     "name": "stderr",
     "output_type": "stream",
     "text": [
      "pplied <simuPOP.PyOperator> calling a Python function populationInformationPasser: 3.032\n",
      "Applied <simuPOP.PyOperator> calling a Python function assignFitness: 0.006\n",
      "Applied <simuPOP.Stat> Calculate statistics\n",
      "<ul>\n",
      "<li>calculate\n",
      "<ul>/n<li>Mean of information fields ge, pe\n",
      "<li>Variance of information fields ge, pe\n",
      "</ul>\n",
      "</ul>: 0.001\n",
      "Applied <simuPOP.PyOperator> calling a Python function inputDataToMatrix: 0.002\n",
      "Applied <simuPOP.PyEval> evalulate expression \"'\\n%d\\t%.3f\\t%.3f\\t' % (gen, meanOfInfo['ge'], var... \": 0\n",
      "Applied <simuPOP.PyEval> evalulate expression \"'%.3f\\t%.3f\\t%s\\n' % (meanOfInfo['pe'], varOfInfo[... \": 0.001\n",
      "Applied <simuPOP.PyOperator> calling a Python function sortOnInfoField: 0.005\n",
      "Applied <simuPOP.split subpopulation>: 0\n",
      "Applied <simuPOP.PyOperator> calling a Python function splitAndCombineCalculator: 0.002\n",
      "Start mating at generation 6: 0\n",
      "Mating finished.: 0.265\n",
      "Applied <simuPOP.merge subpopulations>: 0\n",
      "Applied <simuPOP.PyOperator> calling a Python function removeIndices: 0.011\n",
      "A"
     ]
    },
    {
     "name": "stdout",
     "output_type": "stream",
     "text": [
      "6\t72.058\t0.639\t72.422\t110.410\t[2000]\n",
      "\n"
     ]
    },
    {
     "name": "stderr",
     "output_type": "stream",
     "text": [
      "pplied <simuPOP.PyOperator> calling a Python function populationInformationPasser: 2.969\n",
      "Applied <simuPOP.PyOperator> calling a Python function assignFitness: 0.005\n",
      "Applied <simuPOP.Stat> Calculate statistics\n",
      "<ul>\n",
      "<li>calculate\n",
      "<ul>/n<li>Mean of information fields ge, pe\n",
      "<li>Variance of information fields ge, pe\n",
      "</ul>\n",
      "</ul>: 0.001\n",
      "Applied <simuPOP.PyOperator> calling a Python function inputDataToMatrix: 0.001\n",
      "Applied <simuPOP.PyEval> evalulate expression \"'\\n%d\\t%.3f\\t%.3f\\t' % (gen, meanOfInfo['ge'], var... \": 0.001\n",
      "Applied <simuPOP.PyEval> evalulate expression \"'%.3f\\t%.3f\\t%s\\n' % (meanOfInfo['pe'], varOfInfo[... \": 0\n",
      "Applied <simuPOP.PyOperator> calling a Python function sortOnInfoField: 0.005\n",
      "Applied <simuPOP.split subpopulation>: 0\n",
      "Applied <simuPOP.PyOperator> calling a Python function splitAndCombineCalculator: 0.002\n",
      "Start mating at generation 6: 0\n",
      "Mating finished.: 0.265\n",
      "Applied <simuPOP.merge subpopulations>: 0\n",
      "Applied <simuPOP.PyOperator> calling a Python function removeIndices: 0.011\n",
      "A"
     ]
    },
    {
     "name": "stdout",
     "output_type": "stream",
     "text": [
      "6\t72.001\t0.552\t72.122\t14.586\t[2000]\n",
      "\n"
     ]
    },
    {
     "name": "stderr",
     "output_type": "stream",
     "text": [
      "pplied <simuPOP.PyOperator> calling a Python function populationInformationPasser: 2.943\n",
      "Applied <simuPOP.PyOperator> calling a Python function assignFitness: 0.005\n",
      "Applied <simuPOP.Stat> Calculate statistics\n",
      "<ul>\n",
      "<li>calculate\n",
      "<ul>/n<li>Mean of information fields ge, pe\n",
      "<li>Variance of information fields ge, pe\n",
      "</ul>\n",
      "</ul>: 0.001\n",
      "Applied <simuPOP.PyOperator> calling a Python function inputDataToMatrix: 0.002\n",
      "Applied <simuPOP.PyEval> evalulate expression \"'\\n%d\\t%.3f\\t%.3f\\t' % (gen, meanOfInfo['ge'], var... \": 0\n",
      "Applied <simuPOP.PyEval> evalulate expression \"'%.3f\\t%.3f\\t%s\\n' % (meanOfInfo['pe'], varOfInfo[... \": 0\n",
      "Applied <simuPOP.PyOperator> calling a Python function sortOnInfoField: 0.007\n",
      "Applied <simuPOP.split subpopulation>: 0\n",
      "Applied <simuPOP.PyOperator> calling a Python function splitAndCombineCalculator: 0.003\n",
      "Start mating at generation 6: 0\n",
      "M"
     ]
    },
    {
     "name": "stdout",
     "output_type": "stream",
     "text": [
      "6\t71.870\t0.676\t71.762\t797.864\t[2000]\n"
     ]
    },
    {
     "name": "stderr",
     "output_type": "stream",
     "text": [
      "ating finished.: 0.298\n",
      "Applied <simuPOP.merge subpopulations>: 0\n",
      "Applied <simuPOP.PyOperator> calling a Python function removeIndices: 0.013\n"
     ]
    },
    {
     "data": {
      "text/plain": [
       "(7, 7, 7, 7, 7)"
      ]
     },
     "execution_count": 16,
     "metadata": {},
     "output_type": "execute_result"
    }
   ],
   "source": [
    "# Regular evolution\n",
    "exec('import pandas as pd', f2.vars(), f2.vars())\n",
    "exec('import itertools as ite', f2.vars(), f2.vars())\n",
    "exec('import datetime as dt', f2.vars(), f2.vars())\n",
    "exec('import matplotlib.pyplot as plt', f2.vars(), f2.vars())\n",
    "simf2.evolve(\n",
    "    initOps=[\n",
    "        InitGenerationToZero(),\n",
    "        InitializeMultiGenDataMatrix(['wmeanGe','wvarGe','wmeanPe','wvarPe',\n",
    "                                      'smean_ge','svar_ge','smean_pe','svar_pe',\n",
    "                                      'umean_ge','uvar_ge','umean_pe','uvar_pe']),\n",
    "        sim.Stat(popSize=True),\n",
    "        sim.PyEval(r\"'Gen\\tMeanGe\\tVarGe\\tMeanPe\\tVarPe\\tSubPopulations\\n'\", reps=0),\n",
    "        ],\n",
    "    preOps=[\n",
    "        operators.GenotypicEffectCalculator(g_effect_field='ge'),\n",
    "        operators.TruncationSelection(0.7,-101, infoFields=['ge','pe']),\n",
    "        sim.Stat(meanOfInfo=['ge','pe'], varOfInfo=['ge','pe']),\n",
    "        StoreDataFromCurrentGeneration('ge','pe','wmeanGe','wvarGe','wmeanPe','wvarPe'),\n",
    "        #sim.Stat(alleleFreq=sim.ALL_AVAIL),\n",
    "        #GenerateLDPlot('sample-All-Chromosome-LD-plot'),\n",
    "        #sim.Stat(numOfSegSites=sim.ALL_AVAIL),\n",
    "        #sim.Stat(effectiveSize=sim.ALL_AVAIL),\n",
    "        #sim.Stat(neutrality=sim.ALL_AVAIL),\n",
    "        #sim.Stat(structure=sim.ALL_AVAIL),\n",
    "        #GenerateMinorAlleleList(),\n",
    "        #MinorAlleleCounter(),\n",
    "        sim.PyEval(r\"'\\n%d\\t%.3f\\t%.3f\\t' % (gen, meanOfInfo['ge'], varOfInfo['ge'])\"),\n",
    "        sim.PyEval(r\"'%.3f\\t%.3f\\t%s\\n' % (meanOfInfo['pe'], varOfInfo['pe'], subPopSize)\"),\n",
    "        #TestFileWriter(dt.datetime.now(), 'alleleFrequencies'),\n",
    "        Sorter('pe'),\n",
    "        sim.SplitSubPops(sizes=[5]*20+[1900], randomize=False),\n",
    "        CalcSplitMavs('ge','pe','smean_ge','svar_ge','smean_pe','svar_pe',\n",
    "              'umean_ge','uvar_ge','umean_pe','uvar_pe'),\n",
    "        ],\n",
    "    matingScheme=\n",
    "            sim.HomoMating(\n",
    "                sim.PyParentsChooser(recursivePairwiseParentChooser),\n",
    "                sim.OffspringGenerator(ops=[\n",
    "                    sim.Recombinator(rates=0.01),\n",
    "                    sim.IdTagger(),\n",
    "                    sim.PedigreeTagger()],\n",
    "                    numOffspring=1),\n",
    "                subPopSize=[150]*20+[0],\n",
    "                subPops=list_of_applicable_subpops,\n",
    "                ),\n",
    "    postOps=[\n",
    "        sim.MergeSubPops(),\n",
    "        SelectRandomSeed(1000),\n",
    "        ],\n",
    "    #finalOps=PlotMeansAndVariances(\"sample-Means-and-Variances-Over-Time.jpg\"),\n",
    "    gen=7)"
   ]
  },
  {
   "cell_type": "code",
   "execution_count": 23,
   "metadata": {
    "collapsed": false
   },
   "outputs": [
    {
     "data": {
      "text/html": [
       "<div style=\"max-height:1000px;max-width:1500px;overflow:auto;\">\n",
       "<table border=\"1\" class=\"dataframe\">\n",
       "  <thead>\n",
       "    <tr style=\"text-align: right;\">\n",
       "      <th></th>\n",
       "      <th>wmeanGe</th>\n",
       "      <th>wvarGe</th>\n",
       "      <th>wmeanPe</th>\n",
       "      <th>wvarPe</th>\n",
       "      <th>smean_ge</th>\n",
       "      <th>svar_ge</th>\n",
       "      <th>smean_pe</th>\n",
       "      <th>svar_pe</th>\n",
       "      <th>umean_ge</th>\n",
       "      <th>uvar_ge</th>\n",
       "      <th>umean_pe</th>\n",
       "      <th>uvar_pe</th>\n",
       "    </tr>\n",
       "  </thead>\n",
       "  <tbody>\n",
       "    <tr>\n",
       "      <th>0</th>\n",
       "      <td>66.038636</td>\n",
       "      <td>3.318662</td>\n",
       "      <td>66.058046</td>\n",
       "      <td>5.048220</td>\n",
       "      <td>70.291715</td>\n",
       "      <td>1.772450</td>\n",
       "      <td>72.812698</td>\n",
       "      <td>0.319762</td>\n",
       "      <td>69.668673</td>\n",
       "      <td>1.712806</td>\n",
       "      <td>72.022656</td>\n",
       "      <td>0.026131</td>\n",
       "    </tr>\n",
       "    <tr>\n",
       "      <th>1</th>\n",
       "      <td>69.139347</td>\n",
       "      <td>2.026423</td>\n",
       "      <td>69.101063</td>\n",
       "      <td>4.167597</td>\n",
       "      <td>71.543995</td>\n",
       "      <td>0.584141</td>\n",
       "      <td>74.898232</td>\n",
       "      <td>0.071913</td>\n",
       "      <td>71.137244</td>\n",
       "      <td>0.835477</td>\n",
       "      <td>74.495944</td>\n",
       "      <td>0.011756</td>\n",
       "    </tr>\n",
       "    <tr>\n",
       "      <th>2</th>\n",
       "      <td>70.913748</td>\n",
       "      <td>1.169154</td>\n",
       "      <td>70.919318</td>\n",
       "      <td>7.501037</td>\n",
       "      <td>72.039026</td>\n",
       "      <td>0.193982</td>\n",
       "      <td>79.311372</td>\n",
       "      <td>0.526537</td>\n",
       "      <td>72.306128</td>\n",
       "      <td>0.414806</td>\n",
       "      <td>78.059336</td>\n",
       "      <td>0.130980</td>\n",
       "    </tr>\n",
       "    <tr>\n",
       "      <th>3</th>\n",
       "      <td>71.821873</td>\n",
       "      <td>0.693018</td>\n",
       "      <td>74.976314</td>\n",
       "      <td>9430.429905</td>\n",
       "      <td>71.751405</td>\n",
       "      <td>0.872857</td>\n",
       "      <td>396.455224</td>\n",
       "      <td>130.464536</td>\n",
       "      <td>71.810487</td>\n",
       "      <td>0.831187</td>\n",
       "      <td>331.844479</td>\n",
       "      <td>39.722996</td>\n",
       "    </tr>\n",
       "    <tr>\n",
       "      <th>4</th>\n",
       "      <td>71.812022</td>\n",
       "      <td>0.727596</td>\n",
       "      <td>71.559251</td>\n",
       "      <td>708.143124</td>\n",
       "      <td>71.696922</td>\n",
       "      <td>0.640835</td>\n",
       "      <td>148.113040</td>\n",
       "      <td>8.118102</td>\n",
       "      <td>71.696903</td>\n",
       "      <td>1.090232</td>\n",
       "      <td>141.621399</td>\n",
       "      <td>2.933786</td>\n",
       "    </tr>\n",
       "    <tr>\n",
       "      <th>5</th>\n",
       "      <td>71.843424</td>\n",
       "      <td>0.667590</td>\n",
       "      <td>71.329967</td>\n",
       "      <td>408.055135</td>\n",
       "      <td>72.546355</td>\n",
       "      <td>0.137207</td>\n",
       "      <td>130.243497</td>\n",
       "      <td>7.269252</td>\n",
       "      <td>71.835812</td>\n",
       "      <td>0.819888</td>\n",
       "      <td>125.850984</td>\n",
       "      <td>0.450363</td>\n",
       "    </tr>\n",
       "    <tr>\n",
       "      <th>6</th>\n",
       "      <td>71.870203</td>\n",
       "      <td>0.676201</td>\n",
       "      <td>71.761642</td>\n",
       "      <td>797.863661</td>\n",
       "      <td>71.938933</td>\n",
       "      <td>1.144175</td>\n",
       "      <td>152.526651</td>\n",
       "      <td>13.601673</td>\n",
       "      <td>71.291713</td>\n",
       "      <td>4.212925</td>\n",
       "      <td>141.652007</td>\n",
       "      <td>2.128761</td>\n",
       "    </tr>\n",
       "  </tbody>\n",
       "</table>\n",
       "</div>"
      ],
      "text/plain": [
       "     wmeanGe    wvarGe    wmeanPe       wvarPe   smean_ge   svar_ge  \\\n",
       "0  66.038636  3.318662  66.058046     5.048220  70.291715  1.772450   \n",
       "1  69.139347  2.026423  69.101063     4.167597  71.543995  0.584141   \n",
       "2  70.913748  1.169154  70.919318     7.501037  72.039026  0.193982   \n",
       "3  71.821873  0.693018  74.976314  9430.429905  71.751405  0.872857   \n",
       "4  71.812022  0.727596  71.559251   708.143124  71.696922  0.640835   \n",
       "5  71.843424  0.667590  71.329967   408.055135  72.546355  0.137207   \n",
       "6  71.870203  0.676201  71.761642   797.863661  71.938933  1.144175   \n",
       "\n",
       "     smean_pe     svar_pe   umean_ge   uvar_ge    umean_pe    uvar_pe  \n",
       "0   72.812698    0.319762  69.668673  1.712806   72.022656   0.026131  \n",
       "1   74.898232    0.071913  71.137244  0.835477   74.495944   0.011756  \n",
       "2   79.311372    0.526537  72.306128  0.414806   78.059336   0.130980  \n",
       "3  396.455224  130.464536  71.810487  0.831187  331.844479  39.722996  \n",
       "4  148.113040    8.118102  71.696903  1.090232  141.621399   2.933786  \n",
       "5  130.243497    7.269252  71.835812  0.819888  125.850984   0.450363  \n",
       "6  152.526651   13.601673  71.291713  4.212925  141.652007   2.128761  "
      ]
     },
     "execution_count": 23,
     "metadata": {},
     "output_type": "execute_result"
    }
   ],
   "source": [
    "simf2.dvars(4).mavs"
   ]
  },
  {
   "cell_type": "code",
   "execution_count": 106,
   "metadata": {
    "collapsed": true
   },
   "outputs": [],
   "source": [
    "def createMavsPlot(self,pop):\n",
    "    mavs = pop.dvars().mavs\n",
    "    num_of_gens = pop.dvars().gen\n",
    "    f, axarr = plt.subplots(figsize=(24,12),nrows=2, ncols=1)\n",
    "    ax_mean = axarr[0]\n",
    "    ax_var = axarr[1]\n",
    "    x = np.array(list(mavs.index))\n",
    "    f.suptitle(\"Means and Variances Over Time\", fontsize=20, fontweight=\"bold\")\n",
    "    \n",
    "    y_mean_ge = np.array(mavs.meanGe); y_mean_pe = np.array(mavs.meanPe)\n",
    "    ax_mean.set_title(\"Means of Ge and Pe\", fontsize=16)\n",
    "    ax_mean.set_xlim(-0.5, num_of_gens - 0.5)\n",
    "    ax_mean.set_ylim(-0.5, max(mavs.max())+2.5)\n",
    "    ax_mean.grid(True)\n",
    "    ax_mean.set_yticks(np.arange(0,max(mavs.max())+2.5),2)\n",
    "    ax_mean.plot(x, y_mean_ge, \"g*-\", label=\"Mean Ge\", ms=8, alpha=0.5)\n",
    "    ax_mean.plot(x, y_mean_pe, \"ro--\", label=\"Mean Pe\", ms=8, alpha=0.5)\n",
    "    mean_legend_handles, mean_legend_labels = ax_mean.get_legend_handles_labels()\n",
    "    ax_mean.legend(mean_legend_handles, mean_legend_labels, loc='lower right')\n",
    "    \n",
    "    y_var_ge = np.array(mavs.varGe); y_var_pe = np.array(mavs.varPe)\n",
    "    ax_var.set_title(\"Variances of Ge and Pe\", fontsize=16)\n",
    "    ax_var.set_xlim(-0.5, num_of_gens - 0.5)\n",
    "    ax_var.set_ylim(-0.5, max(mavs.max())+2.5)\n",
    "    ax_var.grid(True)\n",
    "    ax_var.set_xlabel(\"Generations\", fontsize=12)\n",
    "    ax_var.plot(x, y_var_ge, \"gd-\", label=\"Variance Ge\", ms=8, alpha=0.5)\n",
    "    ax_var.plot(x, y_var_pe, \"r^--\", label=\"Variance Pe\", ms=8, alpha=0.5)\n",
    "    var_legend_handles, var_legend_labels = ax_var.get_legend_handles_labels()\n",
    "    ax_var.legend(var_legend_handles, var_legend_labels)    \n",
    "    plt.savefig(self.output_filename,dpi=300)    "
   ]
  },
  {
   "cell_type": "code",
   "execution_count": null,
   "metadata": {
    "collapsed": true
   },
   "outputs": [],
   "source": []
  },
  {
   "cell_type": "code",
   "execution_count": null,
   "metadata": {
    "collapsed": true
   },
   "outputs": [],
   "source": []
  },
  {
   "cell_type": "code",
   "execution_count": 58,
   "metadata": {
    "collapsed": false
   },
   "outputs": [],
   "source": [
    "def LDHeatMapAllChromosomes(pop):\n",
    "    sns.set(context=\"paper\",style='ticks', palette='Set2')\n",
    "    ldframe = pd.DataFrame(pop.dvars().R2)\n",
    "    f, ax = plt.subplots(figsize=(24,12))\n",
    "    f.suptitle(\"All Chromosomes\", fontsize=20, fontweight='bold')\n",
    "    sns.heatmap(ldframe, vmax=1.0, xticklabels=50,\n",
    "    yticklabels=50,square=True)\n",
    "    ax.set_title(\"Generation: %d, Number Of QTL: %d, Population Size: %d, Selection Intensity: %.2f\"\\\n",
    "                 % (pop.dvars().gen, len(pop.dvars().properQTL), pop.popSize(), pop.dvars().selectionIntensity),\n",
    "                fontsize=16)\n",
    "    f.axes[1].set_title(r'$R^2$', fontsize=18)\n",
    "    ax.set_xlabel(\"cM\", fontsize=16)\n",
    "    ax.set_ylabel(\"cM\", fontsize=16)\n",
    "    plt.savefig('sb-ld-heatmap.jpg',dpi=300)\n",
    "    return f"
   ]
  },
  {
   "cell_type": "code",
   "execution_count": 66,
   "metadata": {
    "collapsed": false
   },
   "outputs": [],
   "source": [
    "f2.dvars().lociPairs = lpairs"
   ]
  },
  {
   "cell_type": "code",
   "execution_count": 61,
   "metadata": {
    "collapsed": true
   },
   "outputs": [],
   "source": [
    "import seaborn as sns\n",
    "sns.set(context='paper', style='dark', palette='Set2', font='serif')"
   ]
  },
  {
   "cell_type": "code",
   "execution_count": 63,
   "metadata": {
    "collapsed": true
   },
   "outputs": [],
   "source": [
    "f2.dvars().selectionIntensity = 0.05"
   ]
  },
  {
   "cell_type": "code",
   "execution_count": 64,
   "metadata": {
    "collapsed": false
   },
   "outputs": [
    {
     "data": {
      "text/plain": [
       "<matplotlib.figure.Figure at 0x8648ef0>"
      ]
     },
     "execution_count": 64,
     "metadata": {},
     "output_type": "execute_result"
    }
   ],
   "source": [
    "LDHeatMapAllChromosomes(f2)"
   ]
  },
  {
   "cell_type": "code",
   "execution_count": 14,
   "metadata": {
    "collapsed": false
   },
   "outputs": [
    {
     "name": "stdout",
     "output_type": "stream",
     "text": [
      "Gen\tRep\tMeanGe\tVarGe\tMeanPe\tVarPe\tSubPopulations\n",
      "\n",
      "0\t0\t14.588\t0.143\t14.592\t0.212\t[2000]\n",
      "\n",
      "0\t1\t14.588\t0.143\t14.592\t0.211\t[2000]\n",
      "\n",
      "0\t2\t14.588\t0.143\t14.584\t0.208\t[2000]\n",
      "\n",
      "0\t3\t14.588\t0.143\t14.580\t0.211\t[2000]\n",
      "\n",
      "0\t4\t14.588\t0.143\t14.591\t0.207\t[2000]\n",
      "\n",
      "0\t5\t14.588\t0.143\t14.595\t0.205\t[2000]\n",
      "\n",
      "0\t6\t14.588\t0.143\t14.584\t0.221\t[2000]\n",
      "\n",
      "0\t7\t14.588\t0.143\t14.578\t0.214\t[2000]\n",
      "\n",
      "0\t8\t14.588\t0.143\t14.586\t0.208\t[2000]\n",
      "\n",
      "0\t9\t14.588\t0.143\t14.588\t0.195\t[2000]\n",
      "\n",
      "1\t0\t15.154\t0.016\t15.154\t0.017\t[2000]\n",
      "\n",
      "1\t1\t15.132\t0.029\t15.132\t0.031\t[2000]\n",
      "\n",
      "1\t2\t15.104\t0.035\t15.103\t0.038\t[2000]\n",
      "\n",
      "1\t3\t15.115\t0.032\t15.116\t0.035\t[2000]\n",
      "\n",
      "1\t4\t15.133\t0.028\t15.131\t0.030\t[2000]\n",
      "\n",
      "1\t5\t15.134\t0.025\t15.133\t0.026\t[2000]\n",
      "\n",
      "1\t6\t15.144\t0.020\t15.146\t0.021\t[2000]\n",
      "\n",
      "1\t7\t15.154\t0.020\t15.154\t0.020\t[2000]\n",
      "\n",
      "1\t8\t15.139\t0.027\t15.139\t0.029\t[2000]\n",
      "\n",
      "1\t9\t15.134\t0.029\t15.134\t0.031\t[2000]\n"
     ]
    },
    {
     "data": {
      "text/plain": [
       "(2, 2, 2, 2, 2, 2, 2, 2, 2, 2)"
      ]
     },
     "execution_count": 14,
     "metadata": {},
     "output_type": "execute_result"
    }
   ],
   "source": [
    "# Regular evolution\n",
    "simmedf2.evolve(\n",
    "    initOps=[\n",
    "        InitGenerationToZero(),\n",
    "        InitializeMultiGenDataMatrix(['meanGe','varGe','meanPe','varPe']),\n",
    "        sim.Stat(popSize=True),\n",
    "        sim.PyEval(r\"'Gen\\tRep\\tMeanGe\\tVarGe\\tMeanPe\\tVarPe\\tSubPopulations\\n'\", reps=0),\n",
    "        ],\n",
    "    preOps=[\n",
    "        operators.GenotypicEffectCalculator(g_effect_field='ge'),\n",
    "        operators.TruncationSelection(0.7,-201, infoFields=['ge','pe']),\n",
    "        #sim.Stat(popSize=True),\n",
    "        sim.Stat(meanOfInfo=['ge','pe'], varOfInfo=['ge','pe']),\n",
    "        sim.Stat(alleleFreq=sim.ALL_AVAIL),\n",
    "        sim.Stat(LD=loci_pairs, vars=['R2'])\n",
    "        #sim.Stat(numOfSegSites=sim.ALL_AVAIL),\n",
    "        #sim.Stat(effectiveSize=sim.ALL_AVAIL),\n",
    "        #sim.Stat(neutrality=sim.ALL_AVAIL),\n",
    "        #sim.Stat(structure=sim.ALL_AVAIL),\n",
    "        #AllPairwiseLDCalculator()\n",
    "        #GenerateMinorAlleleList(),\n",
    "        #MinorAlleleCounter(),\n",
    "        #sim.Dumper(loci=[0,1,2], structure=False, max=210),\n",
    "        sim.PyEval(r\"'\\n%d\\t%d\\t%.3f\\t%.3f\\t' % (gen, rep, meanOfInfo['ge'], varOfInfo['ge'])\"),\n",
    "        sim.PyEval(r\"'%.3f\\t%.3f\\t%s\\n' % (meanOfInfo['pe'], varOfInfo['pe'], subPopSize)\"),\n",
    "        StoreDataFromCurrentGeneration('ge','pe','meanGe','varGe','meanPe','varPe'),\n",
    "        #TestFileWriter(dt.datetime.now(), 'alleleFrequencies'),\n",
    "        Sorter('pe'),\n",
    "        sim.SplitSubPops(sizes=[5]*40+[int(remainder)], randomize=False),\n",
    "        ],\n",
    "    matingScheme=\n",
    "            sim.HomoMating(\n",
    "                sim.PyParentsChooser(recursivePairwiseParentChooser),\n",
    "                sim.OffspringGenerator(ops=[\n",
    "                    sim.Recombinator(rates=0.01),\n",
    "                    sim.IdTagger(),\n",
    "                    sim.PedigreeTagger()],\n",
    "                    numOffspring=1),\n",
    "                subPopSize=[75]*40+[0],\n",
    "                subPops=list_of_applicable_subpops,\n",
    "                ),\n",
    "    postOps=[\n",
    "        sim.MergeSubPops(),\n",
    "        SelectRandomSeed(1000),\n",
    "        ],\n",
    "    gen=2)"
   ]
  },
  {
   "cell_type": "code",
   "execution_count": 22,
   "metadata": {
    "collapsed": false
   },
   "outputs": [
    {
     "data": {
      "text/plain": [
       "False"
      ]
     },
     "execution_count": 22,
     "metadata": {},
     "output_type": "execute_result"
    }
   ],
   "source": [
    "simmedf2.dvars(9).meanOfInfo['pe'] == simmedf2.dvars(8).meanOfInfo['pe']"
   ]
  },
  {
   "cell_type": "code",
   "execution_count": 16,
   "metadata": {
    "collapsed": true
   },
   "outputs": [],
   "source": [
    "#Large Scale Simulation"
   ]
  },
  {
   "cell_type": "code",
   "execution_count": 16,
   "metadata": {
    "collapsed": false
   },
   "outputs": [
    {
     "name": "stderr",
     "output_type": "stream",
     "text": [
      "Start evolution.: 0\n",
      "Start mating at generation 0: 0\n",
      "Mating finished.: 0.011\n",
      "Start evolution.: 0\n",
      "Start mating at generation 1: 0\n",
      "Mating finished.: 0.912\n"
     ]
    }
   ],
   "source": [
    "header, mapdata, mapsubset=parse.mapParser('hapmap3.txt')\n",
    "ends, chromdistances = parse.endPtFinder(mapsubset)\n",
    "founderPopulation=sim.Population(N, loci=chromdistances, \n",
    "                                 alleleNames=nucleotides, \n",
    "                                 infoFields=['ind_id',\n",
    "                                            'father_id','mother_id',\n",
    "                                            'ge','pe','fitness'])\n",
    "param.genotypeSetter(founderPopulation,'neat.txt')\n",
    "f1 = f1Crosses.fOneCross(founderPopulation, size=1, female_idx=17, male_idx=6)\n",
    "# F2 population size\n",
    "M = 10000\n",
    "f2 = f2Crosses.fTwoCross(f1, M)\n",
    "# absoluteQTL use absolute indices of qtl so there are 2x items in absoluteQTL than QTL \n",
    "absoluteQTL, properQTL = qtlChooser(f2, 5)\n",
    "f2.dvars().qtl = absoluteQTL\n",
    "f2.dvars().properQTL = properQTL\n",
    "alleleEffects, plottingAlleleEffects = expAlleleEffectsMap(f2,2)\n",
    "f2.dvars().alleleEffects = alleleEffects; f2.dvars().plottingAlleleEffects = plottingAlleleEffects\n",
    "f2.dvars().minorAlleleMatrix = pd.DataFrame(np.zeros((M, f2.totNumLoci())))\n",
    "numberOfGenerations = 10\n",
    "sim.tagID(f2, reset=True)\n",
    "selection_intensity = .05\n",
    "f2.dvars().selectionIntensity = selection_intensity\n",
    "number_of_selected = f2.popSize() * selection_intensity\n",
    "remainder = f2.popSize() - number_of_selected\n",
    "number_of_breeding_subpops = int(number_of_selected / 5)\n",
    "list_of_applicable_subpops = list(range(1,number_of_breeding_subpops))\n",
    "f2.dvars().lociPairs = createLociPairsForLDCalc(f2)"
   ]
  },
  {
   "cell_type": "code",
   "execution_count": 17,
   "metadata": {
    "collapsed": false
   },
   "outputs": [],
   "source": [
    "sim.turnOnDebug('DBG_PROFILE')"
   ]
  },
  {
   "cell_type": "code",
   "execution_count": 17,
   "metadata": {
    "collapsed": false
   },
   "outputs": [
    {
     "name": "stderr",
     "output_type": "stream",
     "text": [
      "Applied <simuPOP.PyOperator> calling a Python function setGenerationToZero: 0\n",
      "Applied <simuPOP.PyOperator> calling a Python function createMultiGenDataMatrix: 0.001\n",
      "Applied <simuPOP.Stat> Calculate statistics\n",
      "<ul>\n",
      "<li>calculate population size\n",
      "</ul>: 0\n",
      "Applied <simuPOP.PyEval> evalulate expression \"'Gen\\tMeanGe\\tVarGe\\tMeanPe\\tVarPe\\tSubPopulations... \": 0\n",
      "Start evolution.: 0\n",
      "Applied <simuPOP.PyOperator> calling a Python function populationInformationPasser: 3.118\n",
      "Applied <simuPOP.PyOperator> calling a Python function assignFitness: 0.029\n",
      "Applied <simuPOP.Stat> Calculate statistics\n",
      "<ul>\n",
      "<li>calculate\n",
      "<ul>/n<li>Mean of information fields ge, pe\n",
      "<li>Variance of information fields ge, pe\n",
      "</ul>\n",
      "</ul>: 0.002\n",
      "Applied <simuPOP.Stat> Calculate statistics\n",
      "<ul>\n",
      "<li>calculate allele frequency at all loci\n",
      "</ul>: 1.324\n",
      "Applied <simuPOP.PyOperator> calling a Python function minorAlleleListGenerator: 0.005\n",
      "A"
     ]
    },
    {
     "name": "stdout",
     "output_type": "stream",
     "text": [
      "Gen\tMeanGe\tVarGe\tMeanPe\tVarPe\tSubPopulations\n",
      "\n"
     ]
    },
    {
     "name": "stderr",
     "output_type": "stream",
     "text": [
      "pplied <simuPOP.PyOperator> calling a Python function minorAlleleCounter: 8.472\n",
      "Applied <simuPOP.PyEval> evalulate expression \"'\\n%d\\t%.3f\\t%.3f\\t' % (gen, meanOfInfo['ge'], var... \": 0.001\n",
      "Applied <simuPOP.PyEval> evalulate expression \"'%.3f\\t%.3f\\t%s\\n' % (meanOfInfo['pe'], varOfInfo[... \": 0\n",
      "Applied <simuPOP.PyOperator> calling a Python function inputDataToMatrix: 0.001\n",
      "Applied <simuPOP.PyOperator> calling a Python function sortOnInfoField: 0.041\n",
      "Applied <simuPOP.split subpopulation>: 0\n",
      "Start mating at generation 0: 0\n",
      "Mating finished.: 1.429\n",
      "Applied <simuPOP.merge subpopulations>: 0\n",
      "Applied <simuPOP.PyOperator> calling a Python function removeIndices: 0.069\n",
      "Applied <simuPOP.PyOperator> calling a Python function populationInformationPasser: 3.109\n",
      "Applied <simuPOP.PyOperator> calling a Python function assignFitness: 0.025\n",
      "Applied <simuPOP.Stat> Calculate statistics\n",
      "<ul>\n",
      "<li>calculate\n",
      "<ul>/n<li>Mean of information fields ge, pe\n",
      "<li>Variance of information fields ge, pe\n",
      "</ul>\n",
      "</ul>: 0.005\n",
      "Applied <simuPOP.Stat> Calculate statistics\n",
      "<ul>\n",
      "<li>calculate allele frequency at all loci\n",
      "</ul>: 0.96\n",
      "Applied <simuPOP.PyOperator> calling a Python function minorAlleleListGenerator: 0.003\n",
      "A"
     ]
    },
    {
     "name": "stdout",
     "output_type": "stream",
     "text": [
      "0\t12.615\t3.563\t12.618\t5.108\t[10000]\n",
      "\n"
     ]
    },
    {
     "name": "stderr",
     "output_type": "stream",
     "text": [
      "pplied <simuPOP.PyOperator> calling a Python function minorAlleleCounter: 8.466\n",
      "Applied <simuPOP.PyEval> evalulate expression \"'\\n%d\\t%.3f\\t%.3f\\t' % (gen, meanOfInfo['ge'], var... \": 0\n",
      "Applied <simuPOP.PyEval> evalulate expression \"'%.3f\\t%.3f\\t%s\\n' % (meanOfInfo['pe'], varOfInfo[... \": 0\n",
      "Applied <simuPOP.PyOperator> calling a Python function inputDataToMatrix: 0.002\n",
      "Applied <simuPOP.PyOperator> calling a Python function sortOnInfoField: 0.036\n",
      "Applied <simuPOP.split subpopulation>: 0\n",
      "Start mating at generation 1: 0\n",
      "Mating finished.: 1.574\n",
      "Applied <simuPOP.merge subpopulations>: 0\n",
      "Applied <simuPOP.PyOperator> calling a Python function removeIndices: 0.066\n",
      "Applied <simuPOP.PyOperator> calling a Python function populationInformationPasser: 2.981\n",
      "Applied <simuPOP.PyOperator> calling a Python function assignFitness: 0.027\n",
      "Applied <simuPOP.Stat> Calculate statistics\n",
      "<ul>\n",
      "<li>calculate\n",
      "<ul>/n<li>Mean of information fields ge, pe\n",
      "<li>Variance of information fields ge, pe\n",
      "</ul>\n",
      "</ul>: 0.004\n",
      "Applied <simuPOP.Stat> Calculate statistics\n",
      "<ul>\n",
      "<li>calculate allele frequency at all loci\n",
      "</ul>: 1.075\n",
      "Applied <simuPOP.PyOperator> calling a Python function minorAlleleListGenerator: 0.013\n",
      "A"
     ]
    },
    {
     "name": "stdout",
     "output_type": "stream",
     "text": [
      "1\t15.474\t0.625\t15.466\t70.363\t[10000]\n",
      "\n"
     ]
    },
    {
     "name": "stderr",
     "output_type": "stream",
     "text": [
      "pplied <simuPOP.PyOperator> calling a Python function minorAlleleCounter: 8.595\n",
      "Applied <simuPOP.PyEval> evalulate expression \"'\\n%d\\t%.3f\\t%.3f\\t' % (gen, meanOfInfo['ge'], var... \": 0.001\n",
      "Applied <simuPOP.PyEval> evalulate expression \"'%.3f\\t%.3f\\t%s\\n' % (meanOfInfo['pe'], varOfInfo[... \": 0\n",
      "Applied <simuPOP.PyOperator> calling a Python function inputDataToMatrix: 0.002\n",
      "Applied <simuPOP.PyOperator> calling a Python function sortOnInfoField: 0.039\n",
      "Applied <simuPOP.split subpopulation>: 0\n",
      "Start mating at generation 2: 0\n",
      "Mating finished.: 1.578\n",
      "Applied <simuPOP.merge subpopulations>: 0\n",
      "Applied <simuPOP.PyOperator> calling a Python function removeIndices: 0.06\n",
      "Applied <simuPOP.PyOperator> calling a Python function populationInformationPasser: 3.404\n",
      "Applied <simuPOP.PyOperator> calling a Python function assignFitness: 0.023\n",
      "Applied <simuPOP.Stat> Calculate statistics\n",
      "<ul>\n",
      "<li>calculate\n",
      "<ul>/n<li>Mean of information fields ge, pe\n",
      "<li>Variance of information fields ge, pe\n",
      "</ul>\n",
      "</ul>: 0.003\n",
      "Applied <simuPOP.Stat> Calculate statistics\n",
      "<ul>\n",
      "<li>calculate allele frequency at all loci\n",
      "</ul>: 0.938\n",
      "Applied <simuPOP.PyOperator> calling a Python function minorAlleleListGenerator: 0.003\n",
      "A"
     ]
    },
    {
     "name": "stdout",
     "output_type": "stream",
     "text": [
      "2\t15.623\t0.470\t15.667\t4.699\t[10000]\n",
      "\n"
     ]
    },
    {
     "name": "stderr",
     "output_type": "stream",
     "text": [
      "pplied <simuPOP.PyOperator> calling a Python function minorAlleleCounter: 8.093\n",
      "Applied <simuPOP.PyEval> evalulate expression \"'\\n%d\\t%.3f\\t%.3f\\t' % (gen, meanOfInfo['ge'], var... \": 0\n",
      "Applied <simuPOP.PyEval> evalulate expression \"'%.3f\\t%.3f\\t%s\\n' % (meanOfInfo['pe'], varOfInfo[... \": 0\n",
      "Applied <simuPOP.PyOperator> calling a Python function inputDataToMatrix: 0.002\n",
      "Applied <simuPOP.PyOperator> calling a Python function sortOnInfoField: 0.032\n",
      "Applied <simuPOP.split subpopulation>: 0\n",
      "Start mating at generation 3: 0\n",
      "Mating finished.: 1.293\n",
      "Applied <simuPOP.merge subpopulations>: 0\n",
      "Applied <simuPOP.PyOperator> calling a Python function removeIndices: 0.063\n",
      "Applied <simuPOP.PyOperator> calling a Python function populationInformationPasser: 2.901\n",
      "Applied <simuPOP.PyOperator> calling a Python function assignFitness: 0.023\n",
      "Applied <simuPOP.Stat> Calculate statistics\n",
      "<ul>\n",
      "<li>calculate\n",
      "<ul>/n<li>Mean of information fields ge, pe\n",
      "<li>Variance of information fields ge, pe\n",
      "</ul>\n",
      "</ul>: 0.002\n",
      "Applied <simuPOP.Stat> Calculate statistics\n",
      "<ul>\n",
      "<li>calculate allele frequency at all loci\n",
      "</ul>: 1.034\n",
      "Applied <simuPOP.PyOperator> calling a Python function minorAlleleListGenerator: 0.003\n",
      "A"
     ]
    },
    {
     "name": "stdout",
     "output_type": "stream",
     "text": [
      "3\t16.012\t0.204\t16.013\t0.369\t[10000]\n",
      "\n"
     ]
    },
    {
     "name": "stderr",
     "output_type": "stream",
     "text": [
      "pplied <simuPOP.PyOperator> calling a Python function minorAlleleCounter: 8.14\n",
      "Applied <simuPOP.PyEval> evalulate expression \"'\\n%d\\t%.3f\\t%.3f\\t' % (gen, meanOfInfo['ge'], var... \": 0.001\n",
      "Applied <simuPOP.PyEval> evalulate expression \"'%.3f\\t%.3f\\t%s\\n' % (meanOfInfo['pe'], varOfInfo[... \": 0\n",
      "Applied <simuPOP.PyOperator> calling a Python function inputDataToMatrix: 0.001\n",
      "Applied <simuPOP.PyOperator> calling a Python function sortOnInfoField: 0.031\n",
      "Applied <simuPOP.split subpopulation>: 0\n",
      "Start mating at generation 4: 0.001\n",
      "Mating finished.: 1.275\n",
      "Applied <simuPOP.merge subpopulations>: 0\n",
      "A"
     ]
    },
    {
     "name": "stdout",
     "output_type": "stream",
     "text": [
      "4\t16.374\t0.012\t16.374\t0.012\t[10000]\n"
     ]
    },
    {
     "name": "stderr",
     "output_type": "stream",
     "text": [
      "pplied <simuPOP.PyOperator> calling a Python function removeIndices: 0.059\n"
     ]
    },
    {
     "data": {
      "text/plain": [
       "5"
      ]
     },
     "execution_count": 17,
     "metadata": {},
     "output_type": "execute_result"
    }
   ],
   "source": [
    "exec('import pandas as pd', f2.vars(), f2.vars())\n",
    "exec('import itertools as ite', f2.vars(), f2.vars())\n",
    "exec('import datetime as dt', f2.vars(), f2.vars())\n",
    "exec('import matplotlib.pyplot as plt', f2.vars(), f2.vars())\n",
    "f2.evolve(\n",
    "    initOps=[\n",
    "        InitGenerationToZero(),\n",
    "        InitializeMultiGenDataMatrix(['meanGe','varGe','meanPe','varPe']),\n",
    "        sim.Stat(popSize=True),\n",
    "        sim.PyEval(r\"'Gen\\tMeanGe\\tVarGe\\tMeanPe\\tVarPe\\tSubPopulations\\n'\"),\n",
    "        ],\n",
    "    preOps=[\n",
    "        operators.GenotypicEffectCalculator(g_effect_field='ge'),\n",
    "        operators.TruncationSelection(0.7,-501, infoFields=['ge','pe']),\n",
    "        sim.Stat(meanOfInfo=['ge','pe'], varOfInfo=['ge','pe']),\n",
    "        sim.Stat(alleleFreq=sim.ALL_AVAIL),\n",
    "        #GenerateLDPlot('sample-All-Chromosome-LD-plot'),\n",
    "        #sim.Stat(numOfSegSites=sim.ALL_AVAIL),\n",
    "        #sim.Stat(effectiveSize=sim.ALL_AVAIL),\n",
    "        #sim.Stat(neutrality=sim.ALL_AVAIL),\n",
    "        #sim.Stat(structure=sim.ALL_AVAIL),\n",
    "        GenerateMinorAlleleList(),\n",
    "        MinorAlleleCounter(),\n",
    "        sim.PyEval(r\"'\\n%d\\t%.3f\\t%.3f\\t' % (gen, meanOfInfo['ge'], varOfInfo['ge'])\"),\n",
    "        sim.PyEval(r\"'%.3f\\t%.3f\\t%s\\n' % (meanOfInfo['pe'], varOfInfo['pe'], subPopSize)\"),\n",
    "        StoreDataFromCurrentGeneration('ge','pe','meanGe','varGe','meanPe','varPe'),\n",
    "        #TestFileWriter(dt.datetime.now(), 'alleleFrequencies'),\n",
    "        Sorter('pe'),\n",
    "        sim.SplitSubPops(sizes=[5]*100+[9500], randomize=False),\n",
    "        ],\n",
    "    matingScheme=\n",
    "            sim.HomoMating(\n",
    "                sim.PyParentsChooser(recursivePairwiseParentChooser),\n",
    "                sim.OffspringGenerator(ops=[\n",
    "                    sim.Recombinator(rates=0.01),\n",
    "                    sim.IdTagger(),\n",
    "                    sim.PedigreeTagger()],\n",
    "                    numOffspring=1),\n",
    "                subPopSize=[150]*100+[0],\n",
    "                subPops=list_of_applicable_subpops,\n",
    "                ),\n",
    "    postOps=[\n",
    "        sim.MergeSubPops(),\n",
    "        SelectRandomSeed(5000),\n",
    "        ],\n",
    "    #finalOps=PlotMeansAndVariances(\"sample-Means-and-Variances-Over-Time.jpg\"),\n",
    "    gen=5)"
   ]
  },
  {
   "cell_type": "code",
   "execution_count": null,
   "metadata": {
    "collapsed": true
   },
   "outputs": [],
   "source": []
  },
  {
   "cell_type": "code",
   "execution_count": null,
   "metadata": {
    "collapsed": true
   },
   "outputs": [],
   "source": []
  },
  {
   "cell_type": "code",
   "execution_count": null,
   "metadata": {
    "collapsed": true
   },
   "outputs": [],
   "source": []
  },
  {
   "cell_type": "code",
   "execution_count": null,
   "metadata": {
    "collapsed": true
   },
   "outputs": [],
   "source": [
    "class DataFileWriter(sim.PyOperator):\n",
    "    '''Operator to collect the matrix-form statistics of the population\n",
    "    such as LD(R2) and alleleFreq for all loci. The function fileWriter \n",
    "    integrates a timestamp into each filename. A microsecond timestamp as a filename\n",
    "    guarantees files are 1) ordered and 2) not overwritten.'''\n",
    "    def __init__(self, timestamp, ld_file_name, allele_frq_file_name, *args, **kwargs):\n",
    "        self.timestamp = timestamp # timestamp = dt.datetime.now()\n",
    "        # will be writing these as .csv files, append suffix\n",
    "        self.ld_file_name = ld_file_name + '.csv'\n",
    "        self.allele_frq_file_name = allele_frq_file_name + '.csv'\n",
    "        sim.PyOperator.__init__(self, func=self.fileWriter, *args, **kwargs)\n",
    "    \n",
    "    def fileWriter(self, pop):\n",
    "        # Annoying splitting routine to get timestamp as a string \n",
    "        # which can be written as a filename\n",
    "        split_timestamp = str(self.timestamp).split(':',maxsplit=-1)\n",
    "        date = split_timestamp[0].split()[0]\n",
    "        hour = split_timestamp[0].split()[1]\n",
    "        minute = split_timestamp[1]\n",
    "        second = split_timestamp[2]\n",
    "        prefix_timestamp = date+'--'+hour+'_'+minute+'_'+second\n",
    "        allele_frq_frame = pd.DataFrame(pop.dvars().alleleFreq).T.fillna(0)\n",
    "        ld_frame = pd.DataFrame(pop.dvars().R2).fillna(0)\n",
    "        pd.to_csv(prefix_timestamp+self.allele_frq_file_name)\n",
    "        pd.to_csv(prefix_timestamp+self.ld_file_name)\n",
    "        return True"
   ]
  },
  {
   "cell_type": "raw",
   "metadata": {
    "collapsed": false
   },
   "source": [
    "sim.utils.export(f2, format='csv', output='genexporttest.csv',header=True, \n",
    "                 affectionFormatter=None, infoFields=['ge','pe','ind_id','father_idx','mother_idx'])"
   ]
  },
  {
   "cell_type": "raw",
   "metadata": {
    "collapsed": false
   },
   "source": [
    "sim.lutils.export(f2, format='csv', output='linexporttest.csv', header=True,\n",
    "                  affectionFormatter=None, infoFields=['ge','pe','ind_id','father_idx','mother_idx'])"
   ]
  },
  {
   "cell_type": "raw",
   "metadata": {
    "collapsed": false
   },
   "source": [
    "genoMatrix = pd.read_csv('genexporttest.csv', index_col='ind_id')\n",
    "lineoMatrix = pd.read_csv('linexporttest.csv', index_col='ind_id')"
   ]
  },
  {
   "cell_type": "markdown",
   "metadata": {
    "collapsed": true
   },
   "source": [
    "# Plotting #"
   ]
  },
  {
   "cell_type": "code",
   "execution_count": 38,
   "metadata": {
    "collapsed": false
   },
   "outputs": [
    {
     "data": {
      "text/plain": [
       "<matplotlib.legend.Legend at 0xa430358>"
      ]
     },
     "execution_count": 38,
     "metadata": {},
     "output_type": "execute_result"
    }
   ],
   "source": [
    "blueLine = mpatches.Patch(color='blue', label='A')\n",
    "greenLine = mpatches.Patch(color='green', label='C')\n",
    "redLine = mpatches.Patch(color='red', label='G')\n",
    "yellowLine = mpatches.Patch(color='yellow', label = 'T')\n",
    "orangeLine = mpatches.Patch(color='orange', label = 'D')\n",
    "brownLine = mpatches.Patch(color='brown', label = 'I')\n",
    "markerSize=6\n",
    "plottingAlleleEffects['0'].plot(figsize=(10,8), color='blue',linewidth=0, marker='o', mec='blue', markersize=markerSize, label='A')\n",
    "plottingAlleleEffects['1'].plot(color='green', linewidth=0, marker='o', mec='green', markersize=markerSize, label='C')\n",
    "plottingAlleleEffects['2'].plot(color='red', linewidth=0, marker='o', mec='red', markersize=markerSize, label='G')\n",
    "plottingAlleleEffects['3'].plot(color='yellow', linewidth=0, marker='o', mec='yellow', markersize=markerSize, label='T')\n",
    "plottingAlleleEffects['4'].plot(color='orange', linewidth=0, marker='o',markersize=markerSize, label='D')\n",
    "plottingAlleleEffects['5'].plot(color='brown', linewidth=0, marker='o', mec='brown', markersize=markerSize, label='I')\n",
    "plt.title('Allele Effects By Locus')\n",
    "#plt.xticks(f2.dvars().qtl)\n",
    "plt.legend(handles=[blueLine,greenLine, redLine, yellowLine, orangeLine, brownLine])"
   ]
  },
  {
   "cell_type": "code",
   "execution_count": 39,
   "metadata": {
    "collapsed": true
   },
   "outputs": [],
   "source": [
    "plt.show()"
   ]
  },
  {
   "cell_type": "code",
   "execution_count": 41,
   "metadata": {
    "collapsed": false
   },
   "outputs": [
    {
     "data": {
      "text/plain": [
       "<matplotlib.text.Text at 0xa3a66a0>"
      ]
     },
     "execution_count": 41,
     "metadata": {},
     "output_type": "execute_result"
    }
   ],
   "source": [
    "fig.suptitle('Means and Variances of Ge,Pe Over Time', fontsize=16, fontweight='bold')"
   ]
  },
  {
   "cell_type": "code",
   "execution_count": null,
   "metadata": {
    "collapsed": false
   },
   "outputs": [],
   "source": [
    "fig, ax0 = plt.subplots(nrows=1)\n",
    "x = np.array(list(pale.index))\n",
    "y = np.array(list(pale['0']))\n",
    "ax0.plot(x,y)\n",
    "ax0.set_title('firstry')\n",
    "plt.show()"
   ]
  },
  {
   "cell_type": "code",
   "execution_count": 24,
   "metadata": {
    "collapsed": false
   },
   "outputs": [
    {
     "ename": "NameError",
     "evalue": "name 'sb73' is not defined",
     "output_type": "error",
     "traceback": [
      "\u001b[1;31m---------------------------------------------------------------------------\u001b[0m",
      "\u001b[1;31mNameError\u001b[0m                                 Traceback (most recent call last)",
      "\u001b[1;32m<ipython-input-24-165f2c6614b1>\u001b[0m in \u001b[0;36m<module>\u001b[1;34m()\u001b[0m\n\u001b[0;32m      1\u001b[0m \u001b[0minfoLoci\u001b[0m \u001b[1;33m=\u001b[0m \u001b[0mlist\u001b[0m\u001b[1;33m(\u001b[0m\u001b[0mrange\u001b[0m\u001b[1;33m(\u001b[0m\u001b[0mf2\u001b[0m\u001b[1;33m.\u001b[0m\u001b[0mtotNumLoci\u001b[0m\u001b[1;33m(\u001b[0m\u001b[1;33m)\u001b[0m\u001b[1;33m)\u001b[0m\u001b[1;33m)\u001b[0m\u001b[1;33m\u001b[0m\u001b[0m\n\u001b[0;32m      2\u001b[0m \u001b[0msim\u001b[0m\u001b[1;33m.\u001b[0m\u001b[0mstat\u001b[0m\u001b[1;33m(\u001b[0m\u001b[0mf2\u001b[0m\u001b[1;33m,\u001b[0m \u001b[0mheteroFreq\u001b[0m\u001b[1;33m=\u001b[0m\u001b[0minfoLoci\u001b[0m\u001b[1;33m)\u001b[0m\u001b[1;33m\u001b[0m\u001b[0m\n\u001b[1;32m----> 3\u001b[1;33m \u001b[0mlineotypeFreqs\u001b[0m \u001b[1;33m=\u001b[0m \u001b[0mpd\u001b[0m\u001b[1;33m.\u001b[0m\u001b[0mDataFrame\u001b[0m\u001b[1;33m(\u001b[0m\u001b[1;33m[\u001b[0m\u001b[0msb73\u001b[0m\u001b[1;33m,\u001b[0m \u001b[0msHybrid\u001b[0m\u001b[1;33m,\u001b[0m \u001b[0msb97\u001b[0m\u001b[1;33m]\u001b[0m\u001b[1;33m)\u001b[0m\u001b[1;33m.\u001b[0m\u001b[0mT\u001b[0m\u001b[1;33m\u001b[0m\u001b[0m\n\u001b[0m\u001b[0;32m      4\u001b[0m \u001b[0mlineotypeFreqs\u001b[0m\u001b[1;33m.\u001b[0m\u001b[0mcolumns\u001b[0m \u001b[1;33m=\u001b[0m \u001b[1;33m[\u001b[0m\u001b[1;34m'b73'\u001b[0m\u001b[1;33m,\u001b[0m \u001b[1;34m'hybrid'\u001b[0m\u001b[1;33m,\u001b[0m\u001b[1;34m'b97'\u001b[0m\u001b[1;33m]\u001b[0m\u001b[1;33m\u001b[0m\u001b[0m\n\u001b[0;32m      5\u001b[0m \u001b[0mtix\u001b[0m \u001b[1;33m=\u001b[0m \u001b[1;33m[\u001b[0m\u001b[1;33m]\u001b[0m\u001b[1;33m\u001b[0m\u001b[0m\n",
      "\u001b[1;31mNameError\u001b[0m: name 'sb73' is not defined"
     ]
    }
   ],
   "source": [
    "infoLoci = list(range(f2.totNumLoci()))\n",
    "sim.stat(f2, heteroFreq=infoLoci)\n",
    "lineotypeFreqs = pd.DataFrame([sb73, sHybrid, sb97]).T\n",
    "lineotypeFreqs.columns = ['b73', 'hybrid','b97']\n",
    "tix = []\n",
    "tickmark=0\n",
    "for dist in chromdistances:\n",
    "    tickmark += dist\n",
    "    tix.append(tickmark)\n",
    "#cumulative sums of chromosomes lengths\n",
    "# need labels for plot as well\n",
    "tix\n",
    "chromdistances\n",
    "chromLabels = ['chr1','chr2','chr3','chr4',\n",
    "               'chr5','chr6','chr7','chr8','chr9','chr10']\n",
    "import matplotlib.patches as mpatches\n",
    "blueLine = mpatches.Patch(color='blue',label='b73')\n",
    "greenLine = mpatches.Patch(color='green',label='hybrid')\n",
    "redLine = mpatches.Patch(color='red',label='b97')\n",
    "lineotypeFreqs['b73'].plot(ylim=[0,1.0],figsize=(18,8), color='blue',linewidth=0, marker='o', mec='blue', markersize=2, label='b73')\n",
    "lineotypeFreqs['hybrid'].plot(color='green',linewidth=0, marker='o', mec='green', markersize=2, label='hybrid')\n",
    "lineotypeFreqs['b97'].plot(color='red',linewidth=0, marker='o', mec='red', markersize=2, label='b97')\n",
    "plt.xticks(tix,chromLabels, rotation=45)\n",
    "plt.xlabel('Locus Index')\n",
    "plt.ylabel('Frequency')\n",
    "plt.title('F2 Lineotype Frequencies')\n",
    "plt.legend(handles=[blueLine, greenLine, redLine])\n",
    "plt.plot(grid=True)\n",
    "plt.axhline(y=0.5, xmin=0, xmax=1478, color = 'gray',linewidth=1)\n",
    "plt.show()"
   ]
  },
  {
   "cell_type": "code",
   "execution_count": 262,
   "metadata": {
    "collapsed": false
   },
   "outputs": [
    {
     "data": {
      "text/plain": [
       "<matplotlib.legend.Legend at 0x2bb5af28>"
      ]
     },
     "execution_count": 262,
     "metadata": {},
     "output_type": "execute_result"
    }
   ],
   "source": [
    "# Plotting code for the allele frequencies for all loci\n",
    "blueLine = mpatches.Patch(color='blue', label='A')\n",
    "greenLine = mpatches.Patch(color='green', label='C')\n",
    "redLine = mpatches.Patch(color='red', label='G')\n",
    "yellowLine = mpatches.Patch(color='yellow', label = 'T')\n",
    "orangeLine = mpatches.Patch(color='orange', label = 'D')\n",
    "brownLine = mpatches.Patch(color='brown', label = 'I')\n",
    "markerSize=6\n",
    "df[0].plot(figsize=(10,8),xlim=[-10.0,1490.0],ylim=[-0.1,1.2], color='blue',linewidth=0, marker='o', mec='blue', markersize=markerSize, label='A')\n",
    "df[1].plot(color='green', linewidth=0, marker='o', mec='green', markersize=markerSize, label='C')\n",
    "df[2].plot(color='red', linewidth=0, marker='o', mec='red', markersize=markerSize, label='G')\n",
    "df[3].plot(color='yellow', linewidth=0, marker='o', mec='yellow', markersize=markerSize, label='T')\n",
    "df[4].plot(color='orange', linewidth=0, marker='o', mec='orange', markersize=markerSize, label='D')\n",
    "df[5].plot(color='brown', linewidth=0, marker='o', mec='brown', markersize=markerSize, label='I')\n",
    "plt.title('Allele Effects By Locus')\n",
    "plt.legend(handles=[blueLine,greenLine, redLine, yellowLine, orangeLine, brownLine])"
   ]
  },
  {
   "cell_type": "code",
   "execution_count": 30,
   "metadata": {
    "collapsed": true
   },
   "outputs": [],
   "source": [
    "def testPlotMeansTogether():\n",
    "    fig = plt.figure(figsize=(18,10))\n",
    "    ax_mean = fig.add_subplot(1,1,1)\n",
    "    x = np.array(list(mavs.index))\n",
    "    y_ge = np.array(mavs.meanGe)\n",
    "    y_pe = np.array(mavs.meanPe)\n",
    "    ax_mean.set_title(\"Change of MeanGe and MeanPe Over Time\")\n",
    "    ax_mean.set_xlim(-0.5, 4.5)\n",
    "    ax_mean.plot(x, y_ge, \"g*\", label='meanGe', linewidth=0.0, ms=8)\n",
    "    ax_mean.plot(x, y_pe, \"ro\", label='meanPe', linewidth=0.0, ms=8)\n",
    "    plt.show()"
   ]
  },
  {
   "cell_type": "code",
   "execution_count": 31,
   "metadata": {
    "collapsed": true
   },
   "outputs": [],
   "source": [
    "testPlotMeansTogether()"
   ]
  },
  {
   "cell_type": "code",
   "execution_count": 32,
   "metadata": {
    "collapsed": false
   },
   "outputs": [],
   "source": [
    "def testPlotVariancesTogether():\n",
    "    fig = plt.figure(figsize=(18,10))\n",
    "    ax_var = fig.add_subplot(1,1,1)\n",
    "    x = np.array(list(mavs.index))\n",
    "    y_ge = np.array(mavs.varGe)\n",
    "    y_pe = np.array(mavs.varPe)\n",
    "    ax_var.set_title(\"Variance of Ge and Pe Over Time\")\n",
    "    ax_var.set_xlim(-0.5, 4.5)\n",
    "    ax_var.plot(x, y_ge, \"gd\", label=\"varGe\", linewidth=0.0, ms=8)\n",
    "    ax_var.plot(x, y_pe, \"r^\", label=\"varPe\", linewidth=0.0, ms=8)\n",
    "    plt.show()"
   ]
  },
  {
   "cell_type": "code",
   "execution_count": 33,
   "metadata": {
    "collapsed": true
   },
   "outputs": [],
   "source": [
    "testPlotVariancesTogether()"
   ]
  },
  {
   "cell_type": "code",
   "execution_count": 44,
   "metadata": {
    "collapsed": true
   },
   "outputs": [],
   "source": [
    "\"\"\"Examples illustrating the use of plt.subplots().\n",
    "\n",
    "This function creates a figure and a grid of subplots with a single call, while\n",
    "providing reasonable control over how the individual plots are created.  For\n",
    "very refined tuning of subplot creation, you can still use add_subplot()\n",
    "directly on a new figure.\n",
    "\"\"\"\n",
    "\n",
    "import matplotlib.pyplot as plt\n",
    "import numpy as np\n",
    "\n",
    "# Simple data to display in various forms\n",
    "x = np.linspace(0, 2 * np.pi, 400)\n",
    "y = np.sin(x ** 2)\n",
    "\n",
    "# Four axes, returned as a 2-d array\n",
    "f, axarr = plt.subplots(2, 2)\n",
    "axarr[0, 0].plot(x, y)\n",
    "axarr[0, 0].set_title('Axis [0,0]')\n",
    "axarr[0, 1].scatter(x, y)\n",
    "axarr[0, 1].set_title('Axis [0,1]')\n",
    "axarr[1, 0].plot(x, y ** 2)\n",
    "axarr[1, 0].set_title('Axis [1,0]')\n",
    "axarr[1, 1].scatter(x, y ** 2)\n",
    "axarr[1, 1].set_title('Axis [1,1]')\n",
    "# Fine-tune figure; hide x ticks for top plots and y ticks for right plots\n",
    "plt.setp([a.get_xticklabels() for a in axarr[0, :]], visible=False)\n",
    "plt.setp([a.get_yticklabels() for a in axarr[:, 1]], visible=False)\n",
    "\n",
    "plt.show()"
   ]
  },
  {
   "cell_type": "code",
   "execution_count": 101,
   "metadata": {
    "collapsed": false
   },
   "outputs": [
    {
     "data": {
      "text/html": [
       "<div style=\"max-height:1000px;max-width:1500px;overflow:auto;\">\n",
       "<table border=\"1\" class=\"dataframe\">\n",
       "  <thead>\n",
       "    <tr style=\"text-align: right;\">\n",
       "      <th></th>\n",
       "      <th>0</th>\n",
       "      <th>1</th>\n",
       "      <th>2</th>\n",
       "      <th>3</th>\n",
       "      <th>4</th>\n",
       "      <th>5</th>\n",
       "    </tr>\n",
       "  </thead>\n",
       "  <tbody>\n",
       "    <tr>\n",
       "      <th>102</th>\n",
       "      <td>0.269818</td>\n",
       "      <td>0.246788</td>\n",
       "      <td>1.084127</td>\n",
       "      <td>0.345775</td>\n",
       "      <td>0.161507</td>\n",
       "      <td>0.497875</td>\n",
       "    </tr>\n",
       "    <tr>\n",
       "      <th>103</th>\n",
       "      <td>0.024009</td>\n",
       "      <td>0.852726</td>\n",
       "      <td>0.001371</td>\n",
       "      <td>1.327541</td>\n",
       "      <td>0.171131</td>\n",
       "      <td>0.006963</td>\n",
       "    </tr>\n",
       "    <tr>\n",
       "      <th>104</th>\n",
       "      <td>0.024009</td>\n",
       "      <td>0.852726</td>\n",
       "      <td>0.001371</td>\n",
       "      <td>1.327541</td>\n",
       "      <td>0.171131</td>\n",
       "      <td>0.006963</td>\n",
       "    </tr>\n",
       "    <tr>\n",
       "      <th>379</th>\n",
       "      <td>0.108633</td>\n",
       "      <td>0.451366</td>\n",
       "      <td>1.499156</td>\n",
       "      <td>0.406907</td>\n",
       "      <td>1.012487</td>\n",
       "      <td>0.469268</td>\n",
       "    </tr>\n",
       "    <tr>\n",
       "      <th>380</th>\n",
       "      <td>0.370689</td>\n",
       "      <td>0.232062</td>\n",
       "      <td>0.335608</td>\n",
       "      <td>0.220176</td>\n",
       "      <td>0.276755</td>\n",
       "      <td>0.308882</td>\n",
       "    </tr>\n",
       "    <tr>\n",
       "      <th>381</th>\n",
       "      <td>0.370689</td>\n",
       "      <td>0.232062</td>\n",
       "      <td>0.335608</td>\n",
       "      <td>0.220176</td>\n",
       "      <td>0.276755</td>\n",
       "      <td>0.308882</td>\n",
       "    </tr>\n",
       "    <tr>\n",
       "      <th>396</th>\n",
       "      <td>0.852668</td>\n",
       "      <td>0.197082</td>\n",
       "      <td>0.853683</td>\n",
       "      <td>0.106318</td>\n",
       "      <td>0.337613</td>\n",
       "      <td>0.108234</td>\n",
       "    </tr>\n",
       "    <tr>\n",
       "      <th>397</th>\n",
       "      <td>0.382308</td>\n",
       "      <td>0.667066</td>\n",
       "      <td>0.163594</td>\n",
       "      <td>0.314281</td>\n",
       "      <td>0.237867</td>\n",
       "      <td>0.939661</td>\n",
       "    </tr>\n",
       "    <tr>\n",
       "      <th>398</th>\n",
       "      <td>0.382308</td>\n",
       "      <td>0.667066</td>\n",
       "      <td>0.163594</td>\n",
       "      <td>0.314281</td>\n",
       "      <td>0.237867</td>\n",
       "      <td>0.939661</td>\n",
       "    </tr>\n",
       "    <tr>\n",
       "      <th>1122</th>\n",
       "      <td>0.224510</td>\n",
       "      <td>0.055353</td>\n",
       "      <td>0.455021</td>\n",
       "      <td>0.150401</td>\n",
       "      <td>0.152998</td>\n",
       "      <td>0.137616</td>\n",
       "    </tr>\n",
       "    <tr>\n",
       "      <th>1123</th>\n",
       "      <td>0.372426</td>\n",
       "      <td>1.183535</td>\n",
       "      <td>0.164531</td>\n",
       "      <td>0.224251</td>\n",
       "      <td>0.763064</td>\n",
       "      <td>0.536880</td>\n",
       "    </tr>\n",
       "    <tr>\n",
       "      <th>1124</th>\n",
       "      <td>0.372426</td>\n",
       "      <td>1.183535</td>\n",
       "      <td>0.164531</td>\n",
       "      <td>0.224251</td>\n",
       "      <td>0.763064</td>\n",
       "      <td>0.536880</td>\n",
       "    </tr>\n",
       "    <tr>\n",
       "      <th>1367</th>\n",
       "      <td>0.319205</td>\n",
       "      <td>0.273027</td>\n",
       "      <td>0.068414</td>\n",
       "      <td>0.020970</td>\n",
       "      <td>0.420929</td>\n",
       "      <td>1.612786</td>\n",
       "    </tr>\n",
       "    <tr>\n",
       "      <th>1368</th>\n",
       "      <td>0.395359</td>\n",
       "      <td>0.357627</td>\n",
       "      <td>0.341900</td>\n",
       "      <td>0.739208</td>\n",
       "      <td>0.068389</td>\n",
       "      <td>0.215884</td>\n",
       "    </tr>\n",
       "    <tr>\n",
       "      <th>1369</th>\n",
       "      <td>0.395359</td>\n",
       "      <td>0.357627</td>\n",
       "      <td>0.341900</td>\n",
       "      <td>0.739208</td>\n",
       "      <td>0.068389</td>\n",
       "      <td>0.215884</td>\n",
       "    </tr>\n",
       "  </tbody>\n",
       "</table>\n",
       "</div>"
      ],
      "text/plain": [
       "             0         1         2         3         4         5\n",
       "102   0.269818  0.246788  1.084127  0.345775  0.161507  0.497875\n",
       "103   0.024009  0.852726  0.001371  1.327541  0.171131  0.006963\n",
       "104   0.024009  0.852726  0.001371  1.327541  0.171131  0.006963\n",
       "379   0.108633  0.451366  1.499156  0.406907  1.012487  0.469268\n",
       "380   0.370689  0.232062  0.335608  0.220176  0.276755  0.308882\n",
       "381   0.370689  0.232062  0.335608  0.220176  0.276755  0.308882\n",
       "396   0.852668  0.197082  0.853683  0.106318  0.337613  0.108234\n",
       "397   0.382308  0.667066  0.163594  0.314281  0.237867  0.939661\n",
       "398   0.382308  0.667066  0.163594  0.314281  0.237867  0.939661\n",
       "1122  0.224510  0.055353  0.455021  0.150401  0.152998  0.137616\n",
       "1123  0.372426  1.183535  0.164531  0.224251  0.763064  0.536880\n",
       "1124  0.372426  1.183535  0.164531  0.224251  0.763064  0.536880\n",
       "1367  0.319205  0.273027  0.068414  0.020970  0.420929  1.612786\n",
       "1368  0.395359  0.357627  0.341900  0.739208  0.068389  0.215884\n",
       "1369  0.395359  0.357627  0.341900  0.739208  0.068389  0.215884"
      ]
     },
     "execution_count": 101,
     "metadata": {},
     "output_type": "execute_result"
    }
   ],
   "source": [
    "plottingAlleleEffects"
   ]
  },
  {
   "cell_type": "code",
   "execution_count": null,
   "metadata": {
    "collapsed": true
   },
   "outputs": [],
   "source": []
  },
  {
   "cell_type": "code",
   "execution_count": 51,
   "metadata": {
    "collapsed": true
   },
   "outputs": [],
   "source": [
    "def testPlotMaVsTogether():\n",
    "    f, axarr = plt.subplots(nrows=2, ncols=1, figsize=(10,8))\n",
    "    ax_mean = axarr[0]\n",
    "    ax_var = axarr[1]\n",
    "    x = np.array(list(mavs.index))\n",
    "    ax_mean.set_title(\"Means of Ge and Pe Over Time\"); ax_var.set_title(\"Variances of Ge and Pe Over Time\")\n",
    "    ax_mean.set_xlim(-0.5, 4.5); ax_var.set_xlim(-0.5, 4.5)\n",
    "    \n",
    "    y_mean_ge = np.array(mavs.meanGe); y_mean_pe = np.array(mavs.meanPe)\n",
    "    ax_mean.plot(x, y_mean_ge, \"g*\", label=\"meanGe\", linewidth=0.0, ms=8)\n",
    "    ax_mean.plot(x, y_mean_pe, \"ro\", label=\"meanPe\", linewidth=0.0, ms=8)\n",
    "    \n",
    "    y_var_ge = np.array(mavs.varGe); y_var_pe = np.array(mavs.varPe)\n",
    "    ax_var.plot(x, y_var_ge, \"gd\", label=\"varGe\", linewidth=0.0, ms=8)\n",
    "    ax_var.plot(x, y_var_pe, \"r^\", label=\"varPe\", linewidth=0.0, ms=8)\n",
    "    \n",
    "    plt.show()\n",
    "    "
   ]
  },
  {
   "cell_type": "code",
   "execution_count": 52,
   "metadata": {
    "collapsed": false
   },
   "outputs": [],
   "source": [
    "testPlotMaVsTogether()"
   ]
  },
  {
   "cell_type": "code",
   "execution_count": 107,
   "metadata": {
    "collapsed": false
   },
   "outputs": [
    {
     "data": {
      "text/plain": [
       "[67, 367, 436, 957, 1349]"
      ]
     },
     "execution_count": 107,
     "metadata": {},
     "output_type": "execute_result"
    }
   ],
   "source": [
    "f2.dvars().properQTL"
   ]
  },
  {
   "cell_type": "code",
   "execution_count": 108,
   "metadata": {
    "collapsed": false
   },
   "outputs": [],
   "source": [
    "sub_ae_matrix = pd.DataFrame([f2.dvars().plottingAlleleEffects.ix['66',:], \n",
    "         f2.dvars().plottingAlleleEffects.ix['67',:],\n",
    "         f2.dvars().plottingAlleleEffects.ix['68',:]])"
   ]
  },
  {
   "cell_type": "code",
   "execution_count": 109,
   "metadata": {
    "collapsed": false
   },
   "outputs": [
    {
     "data": {
      "text/html": [
       "<div style=\"max-height:1000px;max-width:1500px;overflow:auto;\">\n",
       "<table border=\"1\" class=\"dataframe\">\n",
       "  <thead>\n",
       "    <tr style=\"text-align: right;\">\n",
       "      <th></th>\n",
       "      <th>0</th>\n",
       "      <th>1</th>\n",
       "      <th>2</th>\n",
       "      <th>3</th>\n",
       "      <th>4</th>\n",
       "      <th>5</th>\n",
       "    </tr>\n",
       "  </thead>\n",
       "  <tbody>\n",
       "    <tr>\n",
       "      <th>66</th>\n",
       "      <td>0.199742</td>\n",
       "      <td>0.185310</td>\n",
       "      <td>0.052617</td>\n",
       "      <td>0.514806</td>\n",
       "      <td>0.002098</td>\n",
       "      <td>0.028046</td>\n",
       "    </tr>\n",
       "    <tr>\n",
       "      <th>67</th>\n",
       "      <td>1.275904</td>\n",
       "      <td>0.543612</td>\n",
       "      <td>0.302884</td>\n",
       "      <td>0.284639</td>\n",
       "      <td>0.145510</td>\n",
       "      <td>0.473843</td>\n",
       "    </tr>\n",
       "    <tr>\n",
       "      <th>68</th>\n",
       "      <td>0.082538</td>\n",
       "      <td>2.938334</td>\n",
       "      <td>0.078113</td>\n",
       "      <td>0.180790</td>\n",
       "      <td>1.499378</td>\n",
       "      <td>0.110329</td>\n",
       "    </tr>\n",
       "  </tbody>\n",
       "</table>\n",
       "</div>"
      ],
      "text/plain": [
       "           0         1         2         3         4         5\n",
       "66  0.199742  0.185310  0.052617  0.514806  0.002098  0.028046\n",
       "67  1.275904  0.543612  0.302884  0.284639  0.145510  0.473843\n",
       "68  0.082538  2.938334  0.078113  0.180790  1.499378  0.110329"
      ]
     },
     "execution_count": 109,
     "metadata": {},
     "output_type": "execute_result"
    }
   ],
   "source": [
    "subae"
   ]
  },
  {
   "cell_type": "code",
   "execution_count": 69,
   "metadata": {
    "collapsed": false
   },
   "outputs": [
    {
     "data": {
      "text/plain": [
       "array(['102', '103', '103'], \n",
       "      dtype='<U3')"
      ]
     },
     "execution_count": 69,
     "metadata": {},
     "output_type": "execute_result"
    }
   ],
   "source": [
    "np.array(list(subae.index))"
   ]
  },
  {
   "cell_type": "code",
   "execution_count": 124,
   "metadata": {
    "collapsed": false
   },
   "outputs": [
    {
     "data": {
      "text/html": [
       "<div style=\"max-height:1000px;max-width:1500px;overflow:auto;\">\n",
       "<table border=\"1\" class=\"dataframe\">\n",
       "  <thead>\n",
       "    <tr style=\"text-align: right;\">\n",
       "      <th></th>\n",
       "      <th>0</th>\n",
       "      <th>1</th>\n",
       "      <th>2</th>\n",
       "      <th>3</th>\n",
       "      <th>4</th>\n",
       "      <th>5</th>\n",
       "    </tr>\n",
       "  </thead>\n",
       "  <tbody>\n",
       "    <tr>\n",
       "      <th>66</th>\n",
       "      <td>0.199742</td>\n",
       "      <td>0.185310</td>\n",
       "      <td>0.052617</td>\n",
       "      <td>0.514806</td>\n",
       "      <td>0.002098</td>\n",
       "      <td>0.028046</td>\n",
       "    </tr>\n",
       "    <tr>\n",
       "      <th>67</th>\n",
       "      <td>1.275904</td>\n",
       "      <td>0.543612</td>\n",
       "      <td>0.302884</td>\n",
       "      <td>0.284639</td>\n",
       "      <td>0.145510</td>\n",
       "      <td>0.473843</td>\n",
       "    </tr>\n",
       "    <tr>\n",
       "      <th>68</th>\n",
       "      <td>0.082538</td>\n",
       "      <td>2.938334</td>\n",
       "      <td>0.078113</td>\n",
       "      <td>0.180790</td>\n",
       "      <td>1.499378</td>\n",
       "      <td>0.110329</td>\n",
       "    </tr>\n",
       "    <tr>\n",
       "      <th>366</th>\n",
       "      <td>0.066150</td>\n",
       "      <td>0.202834</td>\n",
       "      <td>0.004399</td>\n",
       "      <td>0.177892</td>\n",
       "      <td>0.214152</td>\n",
       "      <td>0.007303</td>\n",
       "    </tr>\n",
       "    <tr>\n",
       "      <th>367</th>\n",
       "      <td>0.308959</td>\n",
       "      <td>0.253841</td>\n",
       "      <td>0.064502</td>\n",
       "      <td>0.494971</td>\n",
       "      <td>0.693748</td>\n",
       "      <td>0.038264</td>\n",
       "    </tr>\n",
       "    <tr>\n",
       "      <th>368</th>\n",
       "      <td>0.081957</td>\n",
       "      <td>0.390307</td>\n",
       "      <td>0.000047</td>\n",
       "      <td>0.941009</td>\n",
       "      <td>0.205587</td>\n",
       "      <td>0.320603</td>\n",
       "    </tr>\n",
       "    <tr>\n",
       "      <th>435</th>\n",
       "      <td>0.634013</td>\n",
       "      <td>0.326882</td>\n",
       "      <td>0.898351</td>\n",
       "      <td>0.034751</td>\n",
       "      <td>0.246533</td>\n",
       "      <td>0.065299</td>\n",
       "    </tr>\n",
       "    <tr>\n",
       "      <th>436</th>\n",
       "      <td>0.504030</td>\n",
       "      <td>0.028640</td>\n",
       "      <td>0.190321</td>\n",
       "      <td>0.989037</td>\n",
       "      <td>0.224150</td>\n",
       "      <td>0.645941</td>\n",
       "    </tr>\n",
       "    <tr>\n",
       "      <th>437</th>\n",
       "      <td>0.239488</td>\n",
       "      <td>0.237018</td>\n",
       "      <td>0.956547</td>\n",
       "      <td>1.666265</td>\n",
       "      <td>0.369828</td>\n",
       "      <td>0.005949</td>\n",
       "    </tr>\n",
       "    <tr>\n",
       "      <th>956</th>\n",
       "      <td>0.315905</td>\n",
       "      <td>0.172129</td>\n",
       "      <td>0.346653</td>\n",
       "      <td>0.118284</td>\n",
       "      <td>0.981513</td>\n",
       "      <td>0.495045</td>\n",
       "    </tr>\n",
       "    <tr>\n",
       "      <th>957</th>\n",
       "      <td>0.029176</td>\n",
       "      <td>0.375194</td>\n",
       "      <td>0.299979</td>\n",
       "      <td>0.234494</td>\n",
       "      <td>1.201477</td>\n",
       "      <td>0.581925</td>\n",
       "    </tr>\n",
       "    <tr>\n",
       "      <th>958</th>\n",
       "      <td>0.176601</td>\n",
       "      <td>0.478304</td>\n",
       "      <td>1.426272</td>\n",
       "      <td>0.065358</td>\n",
       "      <td>0.581793</td>\n",
       "      <td>1.357980</td>\n",
       "    </tr>\n",
       "    <tr>\n",
       "      <th>1348</th>\n",
       "      <td>1.257919</td>\n",
       "      <td>0.182377</td>\n",
       "      <td>0.017777</td>\n",
       "      <td>0.689554</td>\n",
       "      <td>0.129780</td>\n",
       "      <td>0.613075</td>\n",
       "    </tr>\n",
       "    <tr>\n",
       "      <th>1349</th>\n",
       "      <td>0.995021</td>\n",
       "      <td>0.651944</td>\n",
       "      <td>0.200250</td>\n",
       "      <td>1.071513</td>\n",
       "      <td>0.286716</td>\n",
       "      <td>1.072964</td>\n",
       "    </tr>\n",
       "    <tr>\n",
       "      <th>1350</th>\n",
       "      <td>0.232595</td>\n",
       "      <td>0.410278</td>\n",
       "      <td>0.501349</td>\n",
       "      <td>1.023774</td>\n",
       "      <td>0.142764</td>\n",
       "      <td>0.522540</td>\n",
       "    </tr>\n",
       "  </tbody>\n",
       "</table>\n",
       "</div>"
      ],
      "text/plain": [
       "             0         1         2         3         4         5\n",
       "66    0.199742  0.185310  0.052617  0.514806  0.002098  0.028046\n",
       "67    1.275904  0.543612  0.302884  0.284639  0.145510  0.473843\n",
       "68    0.082538  2.938334  0.078113  0.180790  1.499378  0.110329\n",
       "366   0.066150  0.202834  0.004399  0.177892  0.214152  0.007303\n",
       "367   0.308959  0.253841  0.064502  0.494971  0.693748  0.038264\n",
       "368   0.081957  0.390307  0.000047  0.941009  0.205587  0.320603\n",
       "435   0.634013  0.326882  0.898351  0.034751  0.246533  0.065299\n",
       "436   0.504030  0.028640  0.190321  0.989037  0.224150  0.645941\n",
       "437   0.239488  0.237018  0.956547  1.666265  0.369828  0.005949\n",
       "956   0.315905  0.172129  0.346653  0.118284  0.981513  0.495045\n",
       "957   0.029176  0.375194  0.299979  0.234494  1.201477  0.581925\n",
       "958   0.176601  0.478304  1.426272  0.065358  0.581793  1.357980\n",
       "1348  1.257919  0.182377  0.017777  0.689554  0.129780  0.613075\n",
       "1349  0.995021  0.651944  0.200250  1.071513  0.286716  1.072964\n",
       "1350  0.232595  0.410278  0.501349  1.023774  0.142764  0.522540"
      ]
     },
     "execution_count": 124,
     "metadata": {},
     "output_type": "execute_result"
    }
   ],
   "source": [
    "f2.dvars().plottingAlleleEffects"
   ]
  },
  {
   "cell_type": "code",
   "execution_count": 18,
   "metadata": {
    "collapsed": true
   },
   "outputs": [],
   "source": [
    "def testPlotSingleAETriplet():\n",
    "    number_qtl = 5\n",
    "    qtl_list = f2.dvars().properQTL\n",
    "    ae_matrix = plottingAlleleEffects\n",
    "    \n",
    "    fig = plt.figure(figsize=(10,8))\n",
    "    ax = fig.add_subplot(1,1,1)\n",
    "    ax.set_title(\"Allele Effects of Single Triplet\")\n",
    "    ax.set_xlim(65.9, 68.1)\n",
    "    ax.set_ylim(-0.1, 1.6)\n",
    "    ax.grid(True)\n",
    "    \n",
    "    sub_ae_matrix = pd.DataFrame([f2.dvars().plottingAlleleEffects.ix['66',:], \n",
    "         f2.dvars().plottingAlleleEffects.ix['67',:],\n",
    "         f2.dvars().plottingAlleleEffects.ix['68',:]])\n",
    "    \n",
    "    x = np.array(list(sub_ae_matrix.index))\n",
    "    y0 = np.array(sub_ae_matrix['0'])\n",
    "    y1 = np.array(sub_ae_matrix['1'])\n",
    "    y2 = np.array(sub_ae_matrix['2'])\n",
    "    y3 = np.array(sub_ae_matrix['3'])\n",
    "    y4 = np.array(sub_ae_matrix['4'])\n",
    "    y5 = np.array(sub_ae_matrix['5'])\n",
    "    \n",
    "    ax.plot(x, y0, \"rs\", label=\"A\", linewidth=0.0, ms=8, alpha=0.8)\n",
    "    ax.plot(x, y1, \"bp\", label=\"A\", linewidth=0.0, ms=8, alpha=0.8)\n",
    "    ax.plot(x, y2, \"gh\", label=\"A\", linewidth=0.0, ms=8, alpha=0.8)\n",
    "    ax.plot(x, y3, \"c8\", label=\"A\", linewidth=0.0, ms=8, alpha=0.8)\n",
    "    ax.plot(x, y4, \"m+\", label=\"A\", linewidth=0.0, ms=8, alpha=0.8)\n",
    "    ax.plot(x, y5, \"k-\", label=\"A\", linewidth=0.0, ms=8, alpha=0.8)\n",
    "    plt.show()"
   ]
  },
  {
   "cell_type": "code",
   "execution_count": 123,
   "metadata": {
    "collapsed": false
   },
   "outputs": [],
   "source": [
    "testPlotSingleAETriplet()"
   ]
  },
  {
   "cell_type": "code",
   "execution_count": 22,
   "metadata": {
    "collapsed": true
   },
   "outputs": [],
   "source": [
    "def generateSubAEMatrix(central_locus):\n",
    "    left_index = str(central_locus-1)\n",
    "    central_index = str(central_locus)\n",
    "    right_index = str(central_locus+1)\n",
    "    plot_ae_matrix = f2.dvars().plottingAlleleEffects\n",
    "    sub_ae_matrix = pd.DataFrame([plot_ae_matrix.ix[left_index, :],\n",
    "                                  plot_ae_matrix.ix[central_index, :],\n",
    "                                  plot_ae_matrix.ix[right_index,:]])\n",
    "    return sub_ae_matrix\n",
    "def AESubplotter(sub_ae_matrix, axis_from_axes_array):\n",
    "    pre_lims = list(sub_ae_matrix.index)\n",
    "    lims = [int(pre_lims[0]), int(pre_lims[1]), int(pre_lims[2])]\n",
    "    x = np.array(list(sub_ae_matrix.index), dtype=int)\n",
    "    y0 = np.array(sub_ae_matrix['0'])\n",
    "    y1 = np.array(sub_ae_matrix['1'])\n",
    "    y2 = np.array(sub_ae_matrix['2'])\n",
    "    y3 = np.array(sub_ae_matrix['3'])\n",
    "    y4 = np.array(sub_ae_matrix['4'])\n",
    "    y5 = np.array(sub_ae_matrix['5'])\n",
    "    \n",
    "    axis_from_axes_array.set_xlim(lims[0] - 0.1, lims[2] + 0.1)\n",
    "    axis_from_axes_array.set_ylim(-0.1, max(sub_ae_matrix.max()) + 0.1)\n",
    "    axis_from_axes_array.grid(True)\n",
    "    for label in axis_from_axes_array.get_xticklabels():\n",
    "        label.set_fontsize(6)\n",
    "    \n",
    "    axis_from_axes_array.plot(x, y0, \"rs\", label=\"A\", linewidth=0, ms=8, alpha=0.9)\n",
    "    axis_from_axes_array.plot(x, y1, \"bp\", label=\"C\", linewidth=0, ms=8, alpha=0.9)\n",
    "    axis_from_axes_array.plot(x, y2, \"gh\", label=\"G\", linewidth=0, ms=8, alpha=0.9)\n",
    "    axis_from_axes_array.plot(x, y3, \"c8\", label=\"T\", linewidth=0, ms=8, alpha=0.9)\n",
    "    axis_from_axes_array.plot(x, y4, \"m+\", label=\"I\", linewidth=0, ms=8, alpha=0.9)\n",
    "    axis_from_axes_array.plot(x, y5, \"k-\", label=\"D\", linewidth=0, ms=8, alpha=0.9)\n",
    "def AEPlotControlFunction(population):\n",
    "    proper_qtl = population.dvars().properQTL\n",
    "    num_of_subplots = len(proper_qtl)\n",
    "    f, axes_array = plt.subplots(figsize=(10,8), nrows=1, ncols=num_of_subplots)\n",
    "    #f.set_suptitle(\"Plot of Triplet Allele Effects\")\n",
    "    \n",
    "    for cqi, ax in zip(proper_qtl, axes_array):\n",
    "        sub_ae_matrix = generateSubAEMatrix(cqi)\n",
    "        AESubplotter(sub_ae_matrix, ax)\n",
    "    \n",
    "    plt.show()"
   ]
  },
  {
   "cell_type": "code",
   "execution_count": 35,
   "metadata": {
    "collapsed": false
   },
   "outputs": [],
   "source": [
    "AEPlotControlFunction(f2)"
   ]
  },
  {
   "cell_type": "code",
   "execution_count": 38,
   "metadata": {
    "collapsed": false
   },
   "outputs": [
    {
     "ename": "NameError",
     "evalue": "name 'fig' is not defined",
     "output_type": "error",
     "traceback": [
      "\u001b[1;31m---------------------------------------------------------------------------\u001b[0m",
      "\u001b[1;31mNameError\u001b[0m                                 Traceback (most recent call last)",
      "\u001b[1;32m<ipython-input-38-ed08747137ac>\u001b[0m in \u001b[0;36m<module>\u001b[1;34m()\u001b[0m\n\u001b[1;32m----> 1\u001b[1;33m \u001b[0mfig\u001b[0m\u001b[1;33m\u001b[0m\u001b[0m\n\u001b[0m",
      "\u001b[1;31mNameError\u001b[0m: name 'fig' is not defined"
     ]
    }
   ],
   "source": []
  },
  {
   "cell_type": "code",
   "execution_count": 16,
   "metadata": {
    "collapsed": false
   },
   "outputs": [
    {
     "data": {
      "text/html": [
       "<div style=\"max-height:1000px;max-width:1500px;overflow:auto;\">\n",
       "<table border=\"1\" class=\"dataframe\">\n",
       "  <thead>\n",
       "    <tr style=\"text-align: right;\">\n",
       "      <th></th>\n",
       "      <th>0</th>\n",
       "      <th>1</th>\n",
       "      <th>2</th>\n",
       "      <th>3</th>\n",
       "      <th>4</th>\n",
       "      <th>5</th>\n",
       "    </tr>\n",
       "  </thead>\n",
       "  <tbody>\n",
       "    <tr>\n",
       "      <th>17</th>\n",
       "      <td>0.054218</td>\n",
       "      <td>0.252958</td>\n",
       "      <td>0.010968</td>\n",
       "      <td>0.086331</td>\n",
       "      <td>0.738032</td>\n",
       "      <td>0.303340</td>\n",
       "    </tr>\n",
       "    <tr>\n",
       "      <th>18</th>\n",
       "      <td>0.019081</td>\n",
       "      <td>0.252694</td>\n",
       "      <td>0.142012</td>\n",
       "      <td>0.666201</td>\n",
       "      <td>0.762784</td>\n",
       "      <td>1.973906</td>\n",
       "    </tr>\n",
       "    <tr>\n",
       "      <th>19</th>\n",
       "      <td>0.741235</td>\n",
       "      <td>0.639543</td>\n",
       "      <td>0.084423</td>\n",
       "      <td>0.728393</td>\n",
       "      <td>1.107859</td>\n",
       "      <td>0.608349</td>\n",
       "    </tr>\n",
       "  </tbody>\n",
       "</table>\n",
       "</div>"
      ],
      "text/plain": [
       "           0         1         2         3         4         5\n",
       "17  0.054218  0.252958  0.010968  0.086331  0.738032  0.303340\n",
       "18  0.019081  0.252694  0.142012  0.666201  0.762784  1.973906\n",
       "19  0.741235  0.639543  0.084423  0.728393  1.107859  0.608349"
      ]
     },
     "execution_count": 16,
     "metadata": {},
     "output_type": "execute_result"
    }
   ],
   "source": [
    "subae"
   ]
  },
  {
   "cell_type": "code",
   "execution_count": null,
   "metadata": {
    "collapsed": true
   },
   "outputs": [],
   "source": [
    "def testPlotAllAlleleEffects():\n",
    "    "
   ]
  },
  {
   "cell_type": "code",
   "execution_count": null,
   "metadata": {
    "collapsed": true
   },
   "outputs": [],
   "source": []
  }
 ],
 "metadata": {
  "kernelspec": {
   "display_name": "Python 3",
   "language": "python",
   "name": "python3"
  },
  "language_info": {
   "codemirror_mode": {
    "name": "ipython",
    "version": 3
   },
   "file_extension": ".py",
   "mimetype": "text/x-python",
   "name": "python",
   "nbconvert_exporter": "python",
   "pygments_lexer": "ipython3",
   "version": "3.4.3"
  }
 },
 "nbformat": 4,
 "nbformat_minor": 0
}
