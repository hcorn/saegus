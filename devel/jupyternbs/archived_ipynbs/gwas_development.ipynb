{
 "cells": [
  {
   "cell_type": "code",
   "execution_count": 1,
   "metadata": {
    "collapsed": false
   },
   "outputs": [
    {
     "name": "stdout",
     "output_type": "stream",
     "text": [
      "Creating the F_one population from selected founders.\n",
      "Generation: 0\n",
      "Creating the F_two population.\n",
      "Generation: 1\n",
      "Initiating interim random mating for 3 generations.\n",
      "Generation: 2\n",
      "Generation: 3\n",
      "Generation: 4\n",
      "Initiating recombinatorial convergence at generation: 5\n",
      "Processing 1 replications...\n",
      "Initiating recurrent selection for 10 generations.\n",
      "Initial: Sampled 100 individuals from generation 0 Replicate: 0.\n",
      "Generation: 0\n",
      "Generation: 1\n",
      "Generation: 2\n",
      "Generation: 3\n",
      "Generation: 4\n",
      "Generation: 5\n",
      "Generation: 6\n",
      "Generation: 7\n",
      "Generation: 8\n",
      "Generation: 9\n",
      "Final: Sampled 100 individuals from generation 10\n"
     ]
    }
   ],
   "source": [
    "import simuOpt\n",
    "simuOpt.setOptions(alleleType='lineage', optimized=True, quiet=True)\n",
    "import simuPOP as sim\n",
    "import pandas as pd\n",
    "import collections as col\n",
    "from wgs import breed, operators, selection, helpers, parser, parameterizer, selection\n",
    "import random\n",
    "import numpy as np\n",
    "np.set_printoptions(suppress=True, precision=3)\n",
    "import matplotlib.pyplot as plt\n",
    "random.seed(1337)\n",
    "\n",
    "\n",
    "hapmap = pd.read_csv('clean_hapmap.txt')\n",
    "genetic_map = hapmap.ix[:, :'cM_pos']\n",
    "genetic_map = pd.read_csv('nam_prefounders_genetic_map.txt', index_col=None,\n",
    "                         sep='\\t')\n",
    "\n",
    "chr_cm_positions = col.OrderedDict()\n",
    "for i in range(1, 11):\n",
    "    chr_cm_positions[i] = []\n",
    "\n",
    "for idx in range(len(genetic_map)):\n",
    "    chr_cm_positions[int(genetic_map.iloc[idx]['chr'])].append(\n",
    "    float(genetic_map.iloc[idx]['cM_pos']))\n",
    "\n",
    "\n",
    "cM_positions = []\n",
    "for k, v in chr_cm_positions.items():\n",
    "    cM_positions.append(v)\n",
    "\n",
    "\n",
    "snp_to_integer = {'A':0, 'C':1, 'G':2, 'T':3, '-':4, '+':5}\n",
    "\n",
    "integral_valued_loci = []\n",
    "relative_integral_valued_loci = {}\n",
    "for idx in range(len(genetic_map)):\n",
    "    if str(genetic_map.iloc[idx]['cM_pos'])[-2:] == '.0':\n",
    "        integral_valued_loci.append(idx)\n",
    "        relative_integral_valued_loci[idx] = (genetic_map.iloc[idx]['chr'], genetic_map.iloc[idx]['cM_pos'])\n",
    "\n",
    "\n",
    "qtl = sorted(random.sample(integral_valued_loci, 5))\n",
    "\n",
    "triplet_qtl = []\n",
    "for locus in qtl:\n",
    "    triplet_qtl.append(locus-1)\n",
    "    triplet_qtl.append(locus)\n",
    "    triplet_qtl.append(locus+1)\n",
    "triplet_qtl = sorted(triplet_qtl)\n",
    "\n",
    "\n",
    "alleles = {i: (snp_to_integer[hapmap.ix[i, 'alleles'][0]], \n",
    "               snp_to_integer[hapmap.ix[i, 'alleles'][-1]]) for i in\n",
    "          range(len(hapmap))}\n",
    "\n",
    "\n",
    "allele_effects = {}\n",
    "for tqtl in triplet_qtl:\n",
    "    for allele in alleles[tqtl]:\n",
    "        allele_effects[tqtl, allele] = random.expovariate(1)\n",
    "\n",
    "\n",
    "recombination_rates = []\n",
    "for chromosome in cM_positions:\n",
    "    for cM in chromosome:\n",
    "        if str(cM)[-2:] == '.6':\n",
    "            recombination_rates.append(0.01)\n",
    "        else:\n",
    "            recombination_rates.append(0.0)\n",
    "\n",
    "allele_names = ['A', 'C', 'T', 'G', 'D', 'I']\n",
    "\n",
    "flat_cM_positions = []\n",
    "for cMs in cM_positions:\n",
    "    flat_cM_positions.extend(cMs)\n",
    "\n",
    "\n",
    "nam = sim.loadPopulation('nam_prefounders.pop')\n",
    "nam.setSubPopName('prefounders', 0)\n",
    "sample_sizes = {i: 100 for i in range(0, 11, 2)}\n",
    "\n",
    "s = selection.Truncation(10,\n",
    "                       3,\n",
    "                       2000,\n",
    "                       0.05,\n",
    "                       0.50,\n",
    "                       5,\n",
    "                       0.7,\n",
    "                       sample_sizes,\n",
    "                       1)\n",
    "\n",
    "nam.dvars().qtl = qtl\n",
    "nam.dvars().triplet_qtl = triplet_qtl\n",
    "nam.dvars().allele_effects = allele_effects\n",
    "sim.tagID(nam, reset=True)\n",
    "\n",
    "founders = [(1, 5), (7, 8)]\n",
    "replicated_nam = sim.Simulator(nam, rep=2)\n",
    "pop = replicated_nam.extract(0)\n",
    "meta = replicated_nam.extract(0)\n",
    "meta.removeSubPops(0)\n",
    "s.generate_f_one(pop, recombination_rates, founders)\n",
    "s.generate_f_two(pop, recombination_rates)\n",
    "s.interim_random_mating(pop, recombination_rates)\n",
    "s.mate_and_merge(pop, recombination_rates)\n",
    "s.recurrent_truncation_selection(pop, meta, triplet_qtl, allele_effects,\n",
    "                                recombination_rates)\n",
    "                                \n"
   ]
  },
  {
   "cell_type": "code",
   "execution_count": 2,
   "metadata": {
    "collapsed": false
   },
   "outputs": [
    {
     "data": {
      "text/plain": [
       "7"
      ]
     },
     "execution_count": 2,
     "metadata": {},
     "output_type": "execute_result"
    }
   ],
   "source": [
    "meta.numSubPop()"
   ]
  },
  {
   "cell_type": "code",
   "execution_count": 3,
   "metadata": {
    "collapsed": false
   },
   "outputs": [],
   "source": [
    "if meta.subPopSizes()[0] == 0:\n",
    "    meta.removeSubPops(0)"
   ]
  },
  {
   "cell_type": "code",
   "execution_count": 27,
   "metadata": {
    "collapsed": true
   },
   "outputs": [],
   "source": [
    "del base"
   ]
  },
  {
   "cell_type": "code",
   "execution_count": 28,
   "metadata": {
    "collapsed": false
   },
   "outputs": [
    {
     "data": {
      "text/plain": [
       "<module 'wgs.helpers' from 'c:\\\\Anaconda3\\\\lib\\\\site-packages\\\\wgs\\\\helpers.py'>"
      ]
     },
     "execution_count": 28,
     "metadata": {},
     "output_type": "execute_result"
    }
   ],
   "source": [
    "import importlib as imp\n",
    "imp.reload(helpers)"
   ]
  },
  {
   "cell_type": "code",
   "execution_count": 29,
   "metadata": {
    "collapsed": false
   },
   "outputs": [],
   "source": [
    "qtd = helpers.QTData(meta, triplet_qtl, alleles, allele_effects)"
   ]
  },
  {
   "cell_type": "code",
   "execution_count": 30,
   "metadata": {
    "collapsed": true
   },
   "outputs": [],
   "source": [
    "qtas = qtd.rank_allele_effects(meta, triplet_qtl, alleles, allele_effects)"
   ]
  },
  {
   "cell_type": "code",
   "execution_count": 31,
   "metadata": {
    "collapsed": false
   },
   "outputs": [],
   "source": [
    "base = qtd.allele_frequencies(meta, range(meta.totNumLoci()))"
   ]
  },
  {
   "cell_type": "code",
   "execution_count": 40,
   "metadata": {
    "collapsed": false
   },
   "outputs": [
    {
     "data": {
      "text/plain": [
       "[3750,\n",
       " 3751,\n",
       " 3752,\n",
       " 5462,\n",
       " 5463,\n",
       " 5464,\n",
       " 5846,\n",
       " 5847,\n",
       " 5848,\n",
       " 6322,\n",
       " 6323,\n",
       " 6324,\n",
       " 7261,\n",
       " 7262,\n",
       " 7263]"
      ]
     },
     "execution_count": 40,
     "metadata": {},
     "output_type": "execute_result"
    }
   ],
   "source": [
    "triplet_qtl"
   ]
  },
  {
   "cell_type": "raw",
   "metadata": {},
   "source": [
    "favorable_allele_frq = np.zeros((15, 6))\n",
    "unfavorable_allele_frq = np.zeros((15, 6))"
   ]
  },
  {
   "cell_type": "raw",
   "metadata": {},
   "source": [
    "np.equal(list(qtas['alleles']['favorable'].values()), list(qtas['alleles']['unfavorable'].values()))"
   ]
  },
  {
   "cell_type": "raw",
   "metadata": {},
   "source": [
    "qtas['alleles']['favorable']"
   ]
  },
  {
   "cell_type": "raw",
   "metadata": {},
   "source": [
    "qtas.keys()"
   ]
  },
  {
   "cell_type": "raw",
   "metadata": {},
   "source": [
    "qtas['alleles']['minor']"
   ]
  },
  {
   "cell_type": "raw",
   "metadata": {},
   "source": [
    "for row_idx, locus in enumerate(triplet_qtl):\n",
    "    fav_allele = qtas['alleles']['favorable'][locus]\n",
    "    unfav_allele = qtas['alleles']['unfavorable'][locus]\n",
    "    for i in range(meta.numSubPop()):\n",
    "        favorable_allele_frq[row_idx, i] = meta.dvars(i).alleleFreq[locus][fav_allele]\n",
    "        unfavorable_allele_frq[row_idx, i] = meta.dvars(i).alleleFreq[locus][unfav_allele]\n",
    "        "
   ]
  },
  {
   "cell_type": "raw",
   "metadata": {},
   "source": [
    "plt.show()"
   ]
  },
  {
   "cell_type": "code",
   "execution_count": 33,
   "metadata": {
    "collapsed": true
   },
   "outputs": [],
   "source": [
    "qtas = qtd.qt_allele_data(meta, range(meta.totNumLoci()), alleles, allele_effects)"
   ]
  },
  {
   "cell_type": "code",
   "execution_count": 34,
   "metadata": {
    "collapsed": true
   },
   "outputs": [],
   "source": [
    "ties = [locus for locus in range(meta.totNumLoci()) if qtas['minor']['alleles'][locus] == qtas['major']['alleles'][locus]]"
   ]
  },
  {
   "cell_type": "code",
   "execution_count": 35,
   "metadata": {
    "collapsed": true
   },
   "outputs": [],
   "source": [
    "for t in ties:\n",
    "    qtas['major']['alleles'][t] = list(meta.dvars(0).alleleFreq[t])[0]\n",
    "    qtas['minor']['alleles'][t] = list(meta.dvars(0).alleleFreq[t])[1]"
   ]
  },
  {
   "cell_type": "code",
   "execution_count": 36,
   "metadata": {
    "collapsed": false
   },
   "outputs": [
    {
     "data": {
      "text/plain": [
       "0"
      ]
     },
     "execution_count": 36,
     "metadata": {},
     "output_type": "execute_result"
    }
   ],
   "source": [
    "sum(np.equal(list(qtas['minor']['alleles'].values()), list(qtas['major']['alleles'].values())))"
   ]
  },
  {
   "cell_type": "raw",
   "metadata": {},
   "source": [
    "qtas['alleles']['favorable']"
   ]
  },
  {
   "cell_type": "raw",
   "metadata": {},
   "source": [
    "base['minor'"
   ]
  },
  {
   "cell_type": "code",
   "execution_count": null,
   "metadata": {
    "collapsed": true
   },
   "outputs": [],
   "source": []
  },
  {
   "cell_type": "raw",
   "metadata": {},
   "source": [
    "fav_major = dict(qtas['major']['alleles'].items() & qtas['alleles']['favorable'].items())\n",
    "fav_minor = dict(qtas['minor']['alleles'].items() & qtas['alleles']['favorable'].items())\n",
    "unfav_major = dict(qtas['major']['alleles'].items() & qtas['alleles']['unfavorable'].items())\n",
    "unfav_minor = dict(qtas['minor']['alleles'].items() & qtas['alleles']['unfavorable'].items())"
   ]
  },
  {
   "cell_type": "raw",
   "metadata": {},
   "source": [
    "fav_major.update(fav_minor)"
   ]
  },
  {
   "cell_type": "raw",
   "metadata": {},
   "source": [
    "fav_major"
   ]
  },
  {
   "cell_type": "raw",
   "metadata": {},
   "source": [
    "unfav_major.update(unfav_minor)"
   ]
  },
  {
   "cell_type": "raw",
   "metadata": {},
   "source": [
    "fav_major.items() & unfav_major.items()"
   ]
  },
  {
   "cell_type": "raw",
   "metadata": {},
   "source": [
    "allele_freqs = np.zeros((6, 30))\n",
    "one = np.zeros((6, 15))\n",
    "two = np.zeros((6, 15))\n",
    "both = np.zeros((6, 15, 2))"
   ]
  },
  {
   "cell_type": "raw",
   "metadata": {},
   "source": [
    "for col_idx, locus in enumerate(triplet_qtl):\n",
    "    fav = fav_major[locus]\n",
    "    unfav = unfav_major[locus]\n",
    "    for i in range(meta.numSubPop()):\n",
    "        both[i, col_idx, 0] = meta.dvars(i).alleleFreq[locus][fav]\n",
    "        both[i, col_idx, 1] = meta.dvars(i).alleleFreq[locus][unfav]"
   ]
  },
  {
   "cell_type": "raw",
   "metadata": {},
   "source": [
    "both[:, :, 0]"
   ]
  },
  {
   "cell_type": "raw",
   "metadata": {},
   "source": [
    "combine = np.append(both[:, :, 0], both[:, :, 1], axis=1)"
   ]
  },
  {
   "cell_type": "raw",
   "metadata": {},
   "source": [
    "plt.show()"
   ]
  },
  {
   "cell_type": "raw",
   "metadata": {},
   "source": [
    "len(fav_major)"
   ]
  },
  {
   "cell_type": "raw",
   "metadata": {},
   "source": [
    "qtas['major']['alleles'].items() & qtas['minor']['alleles'].items()"
   ]
  },
  {
   "cell_type": "raw",
   "metadata": {
    "collapsed": true
   },
   "source": [
    "qtas['alleles']['favorable']"
   ]
  },
  {
   "cell_type": "code",
   "execution_count": null,
   "metadata": {
    "collapsed": false
   },
   "outputs": [],
   "source": [
    "major_ac = pca.calculate_count_matrix(meta, qtas['major']['alleles'], 'major_allele_count.txt')"
   ]
  },
  {
   "cell_type": "code",
   "execution_count": null,
   "metadata": {
    "collapsed": false
   },
   "outputs": [],
   "source": [
    "sum(minor_ac)"
   ]
  },
  {
   "cell_type": "code",
   "execution_count": null,
   "metadata": {
    "collapsed": false
   },
   "outputs": [],
   "source": [
    "cts = col.Counter(sum(minor_ac))"
   ]
  },
  {
   "cell_type": "code",
   "execution_count": null,
   "metadata": {
    "collapsed": false
   },
   "outputs": [],
   "source": [
    "cts[0]"
   ]
  },
  {
   "cell_type": "code",
   "execution_count": null,
   "metadata": {
    "collapsed": false
   },
   "outputs": [],
   "source": [
    "cts[2]"
   ]
  },
  {
   "cell_type": "code",
   "execution_count": null,
   "metadata": {
    "collapsed": false
   },
   "outputs": [],
   "source": [
    "cts[1]"
   ]
  },
  {
   "cell_type": "code",
   "execution_count": null,
   "metadata": {
    "collapsed": false
   },
   "outputs": [],
   "source": [
    "minor_ac + major_ac"
   ]
  },
  {
   "cell_type": "code",
   "execution_count": null,
   "metadata": {
    "collapsed": false
   },
   "outputs": [],
   "source": [
    "col.Counter(sum(minor_ac + major_ac))"
   ]
  },
  {
   "cell_type": "code",
   "execution_count": null,
   "metadata": {
    "collapsed": true
   },
   "outputs": [],
   "source": []
  },
  {
   "cell_type": "code",
   "execution_count": null,
   "metadata": {
    "collapsed": false
   },
   "outputs": [],
   "source": [
    "col.Counter(list(minor_ac))"
   ]
  },
  {
   "cell_type": "code",
   "execution_count": null,
   "metadata": {
    "collapsed": true
   },
   "outputs": [],
   "source": [
    "pca = helpers.PCA(meta, range(meta.totNumLoci()), qtas)\n",
    "minor_ac = pca.calculate_count_matrix(meta, qtas['minor']['alleles'], 'minor_allele_count.txt')\n",
    "eigendata = pca.svd(meta, minor_ac)\n",
    "ts = pca.test_statistic(meta, eigendata['values'])"
   ]
  },
  {
   "cell_type": "markdown",
   "metadata": {},
   "source": [
    "## Formatting Data For Use in TASSEL ##"
   ]
  },
  {
   "cell_type": "code",
   "execution_count": null,
   "metadata": {
    "collapsed": true
   },
   "outputs": [],
   "source": [
    "integer_to_snp = {0: 'A', 1: 'C', 2: 'G', 3: 'T', 4: '-', 5: '+'}\n",
    "raw_hmap = pd.read_csv('hapmap3.txt', delimiter='\\t', index_col=0)\n",
    "locus_names = list(raw_hmap['nearest.site'])\n",
    "pos_column = list(raw_hmap['agp_pos'])\n",
    "individual_names = {ind.ind_id: 'RS_R'+str(1)+'_G'+str(int(ind.generation)) + '_I'+str(int(ind.ind_id))\n",
    "                   for ind in meta.individuals()}\n",
    "\n",
    "gwas = helpers.GWAS(meta, individual_names, locus_names, pos_column)\n",
    "hmap = gwas.hapmap_formatter(integer_to_snp, 'simulated_hapmap.txt')\n",
    "phenos = gwas.trait_formatter('test_trait_vector.txt')\n",
    "kinship_matrix = gwas.calc_kinship_matrix(minor_ac, base, 'test_kinship_matrix.txt')"
   ]
  }
 ],
 "metadata": {
  "kernelspec": {
   "display_name": "Python 3",
   "language": "python",
   "name": "python3"
  },
  "language_info": {
   "codemirror_mode": {
    "name": "ipython",
    "version": 3
   },
   "file_extension": ".py",
   "mimetype": "text/x-python",
   "name": "python",
   "nbconvert_exporter": "python",
   "pygments_lexer": "ipython3",
   "version": "3.4.3"
  }
 },
 "nbformat": 4,
 "nbformat_minor": 0
}
