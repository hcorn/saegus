{
 "cells": [
  {
   "cell_type": "code",
   "execution_count": null,
   "metadata": {
    "collapsed": false
   },
   "outputs": [],
   "source": [
    "from wgs import *\n",
    "\n",
    "generations_of_selection = 5\n",
    "generations_of_random_mating = 3\n",
    "selection_population_size = 2000\n",
    "proportion_of_individuals_saved = 0.05\n",
    "overshoot_as_proportion = 0.50\n",
    "individuals_per_breeding_subpop = 5\n",
    "initial_heritability = 0.7\n",
    "meta_pop_sample_size = 100\n",
    "\n",
    "ep = runsim.EnhancedPopulation(generations_of_selection, selection_population_size, proportion_of_individuals_saved,\n",
    "                               overshoot_as_proportion, individuals_per_breeding_subpop, initial_heritability,\n",
    "                               meta_pop_sample_size)\n",
    "#prefounders = ep.initialize_prefounders(20, 1)\n",
    "prefounders = sim.loadPopulation('prefounders.pop')\n",
    "sim.tagID(prefounders, reset=True)\n",
    "helpers.ae_file_reader(prefounders, 'ae.csv')\n",
    "ep.initialize_population_data_storage(prefounders)\n",
    "founder_indices = [2, 9, 14, 3, 7, 5, 19, 22]\n",
    "pop = prefounders.clone()\n",
    "ep.arbitrary_ordering_of_founders(prefounders, pop, founder_indices)\n",
    "ep.generate_f_one(pop)\n",
    "ep.generate_f_two(pop)\n",
    "ep.mate_and_merge(pop)\n",
    "replicates = sim.Simulator(pop, 4)\n",
    "ep.interim_random_mating(replicates.population(0), generations_of_random_mating)\n",
    "ep.interim_random_mating(replicates.population(1), generations_of_random_mating)\n",
    "selection_meta_pop = ep.initial_meta_population(replicates.population(0), meta_pop_sample_size)\n",
    "selection_meta_no_rm = ep.initial_meta_population(replicates.population(2), meta_pop_sample_size)\n",
    "drift_meta_pop = ep.initial_meta_population(replicates.population(1), meta_pop_sample_size)\n",
    "drift_meta_no_rm = ep.initial_meta_population(replicates.population(3), meta_pop_sample_size)\n",
    "ep.pure_selection(replicates.population(0), selection_meta_pop)\n",
    "ep.pure_selection(replicates.population(2), selection_meta_no_rm)\n",
    "ep.pure_drift(replicates.population(1), drift_meta_pop)\n",
    "ep.pure_drift(replicates.population(3), drift_meta_no_rm)"
   ]
  },
  {
   "cell_type": "code",
   "execution_count": null,
   "metadata": {
    "collapsed": true
   },
   "outputs": [],
   "source": [
    "meta_filenames = ['post_selection_meta.pop', 'post_drift_meta.pop', 'post_selection_no_rm.pop', 'post_drift_no_rm.pop']\n",
    "for population, filename in zip(replicates.populations(), meta_filenames):\n",
    "    population.save(filename)"
   ]
  },
  {
   "cell_type": "code",
   "execution_count": null,
   "metadata": {
    "collapsed": false
   },
   "outputs": [],
   "source": [
    "selection_meta_pop.removeSubPops(0)\n",
    "selection_meta_no_rm.removeSubPops(0)\n",
    "drift_meta_pop.removeSubPops(0)\n",
    "drift_meta_no_rm.removeSubPops(0)"
   ]
  },
  {
   "cell_type": "code",
   "execution_count": null,
   "metadata": {
    "collapsed": false
   },
   "outputs": [],
   "source": [
    "selection_splitlets = np.flipud(helpers.lineage_triplets_to_splitlets(selection_meta_pop))\n",
    "drift_splitlets = np.flipud(helpers.lineage_triplets_to_splitlets(drift_meta_pop))\n",
    "selection_norm_splitlets = np.flipud(helpers.lineage_triplets_to_splitlets(selection_meta_no_rm))\n",
    "drift_norm_splitlets = np.flipud(helpers.lineage_triplets_to_splitlets(drift_meta_no_rm))\n",
    "\n",
    "selection_sf = helpers.splitlet_frequencies(selection_splitlets)\n",
    "drift_sf = helpers.splitlet_frequencies(drift_splitlets)\n",
    "selection_norm_sf = helpers.splitlet_frequencies(selection_norm_splitlets)\n",
    "drift_norm_sf = helpers.splitlet_frequencies(drift_norm_splitlets)\n",
    "                                     \n",
    "selection_major = helpers.max_finder(selection_sf)\n",
    "drift_major = helpers.max_finder(drift_sf)\n",
    "selection_norm_major = helpers.max_finder(selection_norm_sf)\n",
    "drift_norm_major = helpers.max_finder(drift_norm_sf)"
   ]
  },
  {
   "cell_type": "code",
   "execution_count": null,
   "metadata": {
    "collapsed": false
   },
   "outputs": [],
   "source": [
    "assert len(selection_major) == len(drift_major) == len(selection_norm_major) == len(drift_norm_major), \"Meta-population sizes are unequal.\""
   ]
  },
  {
   "cell_type": "code",
   "execution_count": null,
   "metadata": {
    "collapsed": true
   },
   "outputs": [],
   "source": [
    "def multiple_replicate_genotype_matrix():\n",
    "    \"\"\"\n",
    "    Performs all the same functions as PCA.genotype_matrix; however, the return numpy.arrays of the eigenvectors\n",
    "    and eigenvalues will be three-dimensional. The third dimension is obviously the number of replicates.\n",
    "    \"\"\"\n",
    "    major_allele_list = np.array(list(major_allele_dict.values()), dtype=int)\n",
    "    return major_allele_list"
   ]
  },
  {
   "cell_type": "code",
   "execution_count": null,
   "metadata": {
    "collapsed": true
   },
   "outputs": [],
   "source": [
    "def write_eigenanalysis_to_file(eigenvectors, eigenvalues, eigenvector_filename, eigenvalue_filename):\n",
    "    np.savetxt(eigenvector_filename, eigenvectors, fmt='%0.3f')\n",
    "    np.savetxt(eigenvalue_filename, eigenvalues.T, fmt='%3e.')"
   ]
  },
  {
   "cell_type": "code",
   "execution_count": null,
   "metadata": {
    "collapsed": false
   },
   "outputs": [],
   "source": [
    "selection_evecs, evals, m, n = genotype_matrix(selection_meta_pop, selection_major, selection_splitlets)"
   ]
  },
  {
   "cell_type": "code",
   "execution_count": null,
   "metadata": {
    "collapsed": false
   },
   "outputs": [],
   "source": [
    "evals = np.diagonal(evals)"
   ]
  },
  {
   "cell_type": "code",
   "execution_count": null,
   "metadata": {
    "collapsed": false
   },
   "outputs": [],
   "source": [
    "genotype_matrix_inputs = [(selection_meta_pop, selection_major, selection_splitlets), (drift_meta_pop, drift_major, drift_splitlets),\n",
    "(selection_meta_no_rm, selection_norm_major, selection_norm_splitlets), \n",
    " (drift_meta_no_rm, drift_norm_major, drift_norm_splitlets)]"
   ]
  },
  {
   "cell_type": "code",
   "execution_count": null,
   "metadata": {
    "collapsed": false
   },
   "outputs": [],
   "source": [
    "eigvecs = []\n",
    "eigvals = []\n",
    "for g, m, s in genotype_matrix_inputs:\n",
    "    eigvec, eigval, m, n = genotype_matrix(g, m, s)\n",
    "    eigvecs.append(eigvec)\n",
    "    eigvals.append(eigval)"
   ]
  },
  {
   "cell_type": "code",
   "execution_count": null,
   "metadata": {
    "collapsed": false
   },
   "outputs": [],
   "source": [
    "sns.set(context='paper', style='darkgrid', palette='Set2')"
   ]
  },
  {
   "cell_type": "code",
   "execution_count": null,
   "metadata": {
    "collapsed": true
   },
   "outputs": [],
   "source": [
    "import matplotlib.lines as mlines"
   ]
  },
  {
   "cell_type": "code",
   "execution_count": null,
   "metadata": {
    "collapsed": false
   },
   "outputs": [],
   "source": [
    "plot_multiple_replicate_population_structure(eigvecs, 'multiple_replicate_structure.pdf')"
   ]
  },
  {
   "cell_type": "code",
   "execution_count": null,
   "metadata": {
    "collapsed": false
   },
   "outputs": [],
   "source": [
    "eigz = np.diagonal(eigvals[0])\n",
    "eigo = np.diagonal(eigvals[1])\n",
    "eigtw = np.diagonal(eigvals[2])\n",
    "eigth = np.diagonal(eigvals[3])"
   ]
  },
  {
   "cell_type": "code",
   "execution_count": null,
   "metadata": {
    "collapsed": false
   },
   "outputs": [],
   "source": [
    "for i in range(4):\n",
    "    print(np.diagonal(eigvals[i])[0]/np.sum(np.diagonal(eigvals[i])))"
   ]
  },
  {
   "cell_type": "code",
   "execution_count": null,
   "metadata": {
    "collapsed": false
   },
   "outputs": [],
   "source": [
    "selvecs = np.loadtxt('selection_eigenvectors.txt', usecols=[0,1])"
   ]
  },
  {
   "cell_type": "code",
   "execution_count": null,
   "metadata": {
    "collapsed": false
   },
   "outputs": [],
   "source": [
    "driftvecs = np.loadtxt('drift_eigenvectors.txt', usecols=[0, 1])\n",
    "selnormvecs = np.loadtxt('selection_no_rm_eigenvectors.txt', usecols=[0, 1])\n",
    "driftnormvecs = np.loadtxt('drift_no_rm_eigenvectors.txt', usecols=[0, 1])"
   ]
  },
  {
   "cell_type": "code",
   "execution_count": null,
   "metadata": {
    "collapsed": true
   },
   "outputs": [],
   "source": [
    "np.array(selvecs[:, 0], selvecs[:, 1])"
   ]
  },
  {
   "cell_type": "code",
   "execution_count": null,
   "metadata": {
    "collapsed": false
   },
   "outputs": [],
   "source": [
    "len(selvecs)"
   ]
  },
  {
   "cell_type": "code",
   "execution_count": null,
   "metadata": {
    "collapsed": false
   },
   "outputs": [],
   "source": [
    "len(driftvecs)"
   ]
  },
  {
   "cell_type": "code",
   "execution_count": null,
   "metadata": {
    "collapsed": false
   },
   "outputs": [],
   "source": [
    "sns.distplot(np.diagonal(eigvals[0]))"
   ]
  },
  {
   "cell_type": "code",
   "execution_count": null,
   "metadata": {
    "collapsed": true
   },
   "outputs": [],
   "source": [
    "plt.show()"
   ]
  },
  {
   "cell_type": "code",
   "execution_count": null,
   "metadata": {
    "collapsed": false
   },
   "outputs": [],
   "source": [
    "combine.shape"
   ]
  },
  {
   "cell_type": "code",
   "execution_count": null,
   "metadata": {
    "collapsed": false
   },
   "outputs": [],
   "source": [
    "plot_principal_components(selvecs, driftvecs, selnormvecs, driftnormvecs, 'four_diff_scenaries_pop_structure.pdf')"
   ]
  },
  {
   "cell_type": "code",
   "execution_count": null,
   "metadata": {
    "collapsed": true
   },
   "outputs": [],
   "source": []
  }
 ],
 "metadata": {
  "kernelspec": {
   "display_name": "Python 3",
   "language": "python",
   "name": "python3"
  },
  "language_info": {
   "codemirror_mode": {
    "name": "ipython",
    "version": 3
   },
   "file_extension": ".py",
   "mimetype": "text/x-python",
   "name": "python",
   "nbconvert_exporter": "python",
   "pygments_lexer": "ipython3",
   "version": "3.4.3"
  }
 },
 "nbformat": 4,
 "nbformat_minor": 0
}
