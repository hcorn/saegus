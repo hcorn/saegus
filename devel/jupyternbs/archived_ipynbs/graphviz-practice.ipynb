{
 "cells": [
  {
   "cell_type": "code",
   "execution_count": null,
   "metadata": {
    "collapsed": true
   },
   "outputs": [],
   "source": [
    "from graphviz import Digraph\n",
    "dot = Digraph(comment=\"Example Pedigree : Power of Two\")"
   ]
  },
  {
   "cell_type": "code",
   "execution_count": null,
   "metadata": {
    "collapsed": true
   },
   "outputs": [],
   "source": [
    "prefounders = {0:'B73', 1:'B97', 2:'CML103', 3:'CML228', 4:'CML247', 5:'CML277',\n",
    "            6:'CML322', 7:'CML333', 8:'CML52', 9:'CML69', 10:'HP301',\n",
    "            11:'IL14H', 12:'KI11', 13:'KI3', 14:'KY21', 15:'M162W', 16:'M37W',\n",
    "            17:'M018W', 18:'MS71', 19:'NC350', 20:'NC358', 21:'OH43',\n",
    "            22:'OH7B', 23:'P39', 24:'TX303', 25:'TZI8'}\n",
    "parents = [2, 14, 16, 8, 10, 12, 4, 6]"
   ]
  },
  {
   "cell_type": "code",
   "execution_count": null,
   "metadata": {
    "collapsed": true
   },
   "outputs": [],
   "source": []
  },
  {
   "cell_type": "code",
   "execution_count": null,
   "metadata": {
    "collapsed": false
   },
   "outputs": [],
   "source": [
    "def pedigree_generator(prefounders, parents):\n",
    "    pedigree_graph = Digraph(comment=\"Pedigree\")\n",
    "    for i in range(8):\n",
    "        pedigree_graph.node(str(parents[i]), prefounders[parents[i]])\n",
    "    return pedigree_graph"
   ]
  },
  {
   "cell_type": "code",
   "execution_count": null,
   "metadata": {
    "collapsed": false
   },
   "outputs": [],
   "source": [
    "[(parents[i], parents[i+1]) for i in range(0, 8, 2)]\n",
    "[((parents[i], parents[i+1]),((parents[i+2], parents[i+3]))) for i in range(0, 8, 4)]"
   ]
  },
  {
   "cell_type": "code",
   "execution_count": null,
   "metadata": {
    "collapsed": true
   },
   "outputs": [],
   "source": [
    "dot.node('2/14','CML103/KY21')\n",
    "dot.node('16/8','M37W/CML52')\n",
    "dot.node('10/12','HP301/KI11')\n",
    "dot.node('4/6','CML247/CML322')"
   ]
  },
  {
   "cell_type": "code",
   "execution_count": null,
   "metadata": {
    "collapsed": false
   },
   "outputs": [],
   "source": [
    "dot.edge('2', '2/14')\n",
    "dot.edge('14', '2/14')\n",
    "dot.edge('16', '16/8')\n",
    "dot.edge('8', '16/8')\n",
    "dot.edge('10', '10/12')\n",
    "dot.edge('12', '10/12')\n",
    "dot.edge('4', '4/6')\n",
    "dot.edge('6', '4/6')"
   ]
  },
  {
   "cell_type": "code",
   "execution_count": null,
   "metadata": {
    "collapsed": true
   },
   "outputs": [],
   "source": [
    "# 2/14//16/8\n",
    "# 10/12//4/6\n",
    "dot.node('2/14//16/8', 'CML103/KY21//M37W/CML52')\n",
    "dot.node('10/12//4/6', 'HP301/KI11//CML247/CML322')\n",
    "dot.edge('2/14', '2/14//16/8')\n",
    "dot.edge('16/8', '2/14//16/8')\n",
    "dot.edge('10/12', '10/12//4/6')\n",
    "dot.edge('4/6', '10/12//4/6')\n",
    "# 2/14//16/8///10/12//4/6\n",
    "dot.node('2/14//16/8///10/12//4/6', 'CML103/KY21//M37W/CML52///HP301/KI11//CML247/CML322')\n",
    "dot.edge('2/14//16/8', '2/14//16/8///10/12//4/6')\n",
    "dot.edge('10/12//4/6', '2/14//16/8///10/12//4/6')"
   ]
  },
  {
   "cell_type": "code",
   "execution_count": null,
   "metadata": {
    "collapsed": false
   },
   "outputs": [],
   "source": [
    "dot.render(\"mock-pedigree.pdf\", view=True)"
   ]
  },
  {
   "cell_type": "code",
   "execution_count": null,
   "metadata": {
    "collapsed": true
   },
   "outputs": [],
   "source": [
    "from Bio import Entrez"
   ]
  },
  {
   "cell_type": "code",
   "execution_count": null,
   "metadata": {
    "collapsed": true
   },
   "outputs": [],
   "source": [
    "from reportlab.lib.units import cm"
   ]
  },
  {
   "cell_type": "code",
   "execution_count": null,
   "metadata": {
    "collapsed": true
   },
   "outputs": [],
   "source": [
    "from Bio.Graphics import BasicChromosome"
   ]
  },
  {
   "cell_type": "code",
   "execution_count": null,
   "metadata": {
    "collapsed": true
   },
   "outputs": [],
   "source": [
    "entries = [(\"Chr I\", 30432563),\n",
    "           (\"Chr II\", 19705359),\n",
    "           (\"Chr III\", 23470805),\n",
    "           (\"Chr IV\", 18585042),\n",
    "           (\"Chr V\", 26992728)]"
   ]
  },
  {
   "cell_type": "code",
   "execution_count": null,
   "metadata": {
    "collapsed": false
   },
   "outputs": [],
   "source": [
    "max_len = entries[0][1]"
   ]
  },
  {
   "cell_type": "code",
   "execution_count": null,
   "metadata": {
    "collapsed": true
   },
   "outputs": [],
   "source": [
    "telomere_length = 100000\n",
    "chr_diagram = BasicChromosome.Organism()\n",
    "chr_diagram.page_size = (29.7*cm, 21*cm)"
   ]
  },
  {
   "cell_type": "code",
   "execution_count": null,
   "metadata": {
    "collapsed": true
   },
   "outputs": [],
   "source": [
    "for name, length in entries:\n",
    "    cur_chromosome = BasicChromosome.Chromosome(name)\n",
    "    cur_chromosome.scale_num = max_len + 2*telomere_length\n",
    "    \n",
    "    start = BasicChromosome.TelomereSegment()\n",
    "    start.scale = telomere_length\n",
    "    cur_chromosome.add(start)\n",
    "    \n",
    "    body = BasicChromosome.ChromosomeSegment()\n",
    "    body.scale = length\n",
    "    cur_chromosome.add(body)\n",
    "    \n",
    "    end = BasicChromosome.TelomereSegment(inverted=True)\n",
    "    end.scale = telomere_length\n",
    "    cur_chromosome.add(end)\n",
    "    \n",
    "    chr_diagram.add(cur_chromosome)\n",
    "chr_diagram.draw(\"simple_chroms.pdf\", \"Arabidopsis thaliana\")"
   ]
  },
  {
   "cell_type": "code",
   "execution_count": null,
   "metadata": {
    "collapsed": false
   },
   "outputs": [],
   "source": [
    "from scipy.stats import expon\n",
    "import matplotlib.pyplot as plt\n",
    "import numpy as np"
   ]
  },
  {
   "cell_type": "code",
   "execution_count": null,
   "metadata": {
    "collapsed": false
   },
   "outputs": [],
   "source": [
    "fig, ax = plt.subplots(1, 1)\n",
    "mean, var = expon.stats(moments=\"mv\")\n",
    "x = np.linspace(expon.ppf(0.01), expon.ppf(0.99), 100)\n",
    "ax.grid(True)\n",
    "ax.set_title(\"Distribution of Allelic Effects\")\n",
    "ax.text(2, 0.5, r'$\\alpha_k \\textasciitilde Exp(\\theta)$', fontsize=24)\n",
    "ax.plot(x, expon.pdf(x), 'r-', lw=4, alpha=0.6, label=\"Exponential PDF\")\n",
    "plt.savefig(\"exponential_allele_effect.jpg\", dpi=600)"
   ]
  },
  {
   "cell_type": "code",
   "execution_count": null,
   "metadata": {
    "collapsed": true
   },
   "outputs": [],
   "source": [
    "plt.show()"
   ]
  },
  {
   "cell_type": "code",
   "execution_count": 1,
   "metadata": {
    "collapsed": false
   },
   "outputs": [
    {
     "name": "stdout",
     "output_type": "stream",
     "text": [
      "Populating the interactive namespace from numpy and matplotlib\n"
     ]
    }
   ],
   "source": [
    "%pylab inline"
   ]
  },
  {
   "cell_type": "code",
   "execution_count": 2,
   "metadata": {
    "collapsed": true
   },
   "outputs": [],
   "source": [
    "import matplotlib.pyplot as plt\n",
    "from matplotlib.path import Path\n",
    "import matplotlib.patches as ps"
   ]
  },
  {
   "cell_type": "code",
   "execution_count": 3,
   "metadata": {
    "collapsed": true
   },
   "outputs": [],
   "source": [
    "verts = [\n",
    "    (0, 0),\n",
    "    (0, 1),\n",
    "    (1, 1),\n",
    "    (1, 0),\n",
    "    (0, 0),\n",
    "]"
   ]
  },
  {
   "cell_type": "code",
   "execution_count": 4,
   "metadata": {
    "collapsed": true
   },
   "outputs": [],
   "source": [
    "codes = [Path.MOVETO,\n",
    "        Path.LINETO,\n",
    "        Path.LINETO,\n",
    "         Path.LINETO,\n",
    "         Path.CLOSEPOLY,\n",
    "        ]\n",
    "path = Path(verts, codes)"
   ]
  },
  {
   "cell_type": "code",
   "execution_count": 6,
   "metadata": {
    "collapsed": true
   },
   "outputs": [],
   "source": [
    "plt.ioff()"
   ]
  },
  {
   "cell_type": "code",
   "execution_count": 7,
   "metadata": {
    "collapsed": false
   },
   "outputs": [
    {
     "data": {
      "image/png": "[encoded data removed]",
      "text/plain": [
       "<matplotlib.figure.Figure at 0x704f1d0>"
      ]
     },
     "metadata": {},
     "output_type": "display_data"
    }
   ],
   "source": [
    "fig = plt.figure()\n",
    "ax = fig.add_subplot(111)\n",
    "patch = ps.PathPatch(path, facecolor='orange', lw=2)\n",
    "ax.add_patch(patch)\n",
    "ax.set_xlim(-2, 2)\n",
    "ax.set_ylim(-2, 2)\n",
    "plt.show()"
   ]
  },
  {
   "cell_type": "code",
   "execution_count": null,
   "metadata": {
    "collapsed": true
   },
   "outputs": [],
   "source": []
  },
  {
   "cell_type": "code",
   "execution_count": null,
   "metadata": {
    "collapsed": true
   },
   "outputs": [],
   "source": []
  },
  {
   "cell_type": "code",
   "execution_count": null,
   "metadata": {
    "collapsed": true
   },
   "outputs": [],
   "source": []
  },
  {
   "cell_type": "code",
   "execution_count": null,
   "metadata": {
    "collapsed": true
   },
   "outputs": [],
   "source": []
  },
  {
   "cell_type": "code",
   "execution_count": null,
   "metadata": {
    "collapsed": true
   },
   "outputs": [],
   "source": []
  },
  {
   "cell_type": "code",
   "execution_count": null,
   "metadata": {
    "collapsed": true
   },
   "outputs": [],
   "source": []
  },
  {
   "cell_type": "code",
   "execution_count": null,
   "metadata": {
    "collapsed": true
   },
   "outputs": [],
   "source": []
  },
  {
   "cell_type": "code",
   "execution_count": null,
   "metadata": {
    "collapsed": true
   },
   "outputs": [],
   "source": []
  }
 ],
 "metadata": {
  "kernelspec": {
   "display_name": "Python 3",
   "language": "python",
   "name": "python3"
  },
  "language_info": {
   "codemirror_mode": {
    "name": "ipython",
    "version": 3
   },
   "file_extension": ".py",
   "mimetype": "text/x-python",
   "name": "python",
   "nbconvert_exporter": "python",
   "pygments_lexer": "ipython3",
   "version": "3.4.3"
  }
 },
 "nbformat": 4,
 "nbformat_minor": 0
}
