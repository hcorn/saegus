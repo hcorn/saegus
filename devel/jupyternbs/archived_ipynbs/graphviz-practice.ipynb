{
 "cells": [
  {
   "cell_type": "code",
   "execution_count": 60,
   "metadata": {},
   "outputs": [],
   "source": [
    "from graphviz import Digraph\n",
    "dot = Digraph(comment=\"Example Pedigree : Power of Two\")"
   ]
  },
  {
   "cell_type": "code",
   "execution_count": null,
   "metadata": {
    "collapsed": true
   },
   "outputs": [],
   "source": [
    "prefounders = {0:'B73', 1:'B97', 2:'CML103', 3:'CML228', 4:'CML247', 5:'CML277',\n",
    "            6:'CML322', 7:'CML333', 8:'CML52', 9:'CML69', 10:'HP301',\n",
    "            11:'IL14H', 12:'KI11', 13:'KI3', 14:'KY21', 15:'M162W', 16:'M37W',\n",
    "            17:'M018W', 18:'MS71', 19:'NC350', 20:'NC358', 21:'OH43',\n",
    "            22:'OH7B', 23:'P39', 24:'TX303', 25:'TZI8'}\n",
    "parents = [2, 14, 16, 8, 10, 12, 4, 6]"
   ]
  },
  {
   "cell_type": "code",
   "execution_count": 2,
   "metadata": {
    "collapsed": true
   },
   "outputs": [],
   "source": [
    "import string"
   ]
  },
  {
   "cell_type": "code",
   "execution_count": 5,
   "metadata": {},
   "outputs": [
    {
     "data": {
      "text/plain": [
       "'ABCDEFGH'"
      ]
     },
     "execution_count": 5,
     "metadata": {},
     "output_type": "execute_result"
    }
   ],
   "source": [
    "string.ascii_uppercase[:8]"
   ]
  },
  {
   "cell_type": "code",
   "execution_count": 6,
   "metadata": {
    "collapsed": true
   },
   "outputs": [],
   "source": [
    "parents = string.ascii_uppercase[:8]"
   ]
  },
  {
   "cell_type": "code",
   "execution_count": 7,
   "metadata": {},
   "outputs": [
    {
     "data": {
      "text/plain": [
       "'ABCDEFGH'"
      ]
     },
     "execution_count": 7,
     "metadata": {},
     "output_type": "execute_result"
    }
   ],
   "source": [
    "parents"
   ]
  },
  {
   "cell_type": "code",
   "execution_count": 61,
   "metadata": {
    "collapsed": true
   },
   "outputs": [],
   "source": [
    "pedigree_graph = Digraph(comment=\"Multi-Parental Multi-Generational Pedigree\")"
   ]
  },
  {
   "cell_type": "code",
   "execution_count": 62,
   "metadata": {
    "collapsed": true
   },
   "outputs": [],
   "source": [
    "for i, letter in enumerate(parents):\n",
    "    pedigree_graph.node(str(i), letter)"
   ]
  },
  {
   "cell_type": "code",
   "execution_count": 37,
   "metadata": {
    "collapsed": true
   },
   "outputs": [],
   "source": [
    "generations = {}"
   ]
  },
  {
   "cell_type": "code",
   "execution_count": 24,
   "metadata": {},
   "outputs": [
    {
     "data": {
      "text/plain": [
       "'ACEG'"
      ]
     },
     "execution_count": 24,
     "metadata": {},
     "output_type": "execute_result"
    }
   ],
   "source": [
    "parents[::2]"
   ]
  },
  {
   "cell_type": "code",
   "execution_count": 25,
   "metadata": {},
   "outputs": [
    {
     "data": {
      "text/plain": [
       "'BDFH'"
      ]
     },
     "execution_count": 25,
     "metadata": {},
     "output_type": "execute_result"
    }
   ],
   "source": [
    "parents[1::2]"
   ]
  },
  {
   "cell_type": "code",
   "execution_count": 38,
   "metadata": {
    "collapsed": true
   },
   "outputs": [],
   "source": [
    "generations[0] = [first+'/'+second for first, second in zip(parents[::2], parents[1::2])]"
   ]
  },
  {
   "cell_type": "code",
   "execution_count": 39,
   "metadata": {},
   "outputs": [
    {
     "data": {
      "text/plain": [
       "{0: ['A/B', 'C/D', 'E/F', 'G/H']}"
      ]
     },
     "execution_count": 39,
     "metadata": {},
     "output_type": "execute_result"
    }
   ],
   "source": [
    "generations"
   ]
  },
  {
   "cell_type": "code",
   "execution_count": 31,
   "metadata": {},
   "outputs": [
    {
     "data": {
      "text/plain": [
       "['A/B', 'E/F']"
      ]
     },
     "execution_count": 31,
     "metadata": {},
     "output_type": "execute_result"
    }
   ],
   "source": [
    "generations[0][::2] "
   ]
  },
  {
   "cell_type": "code",
   "execution_count": 32,
   "metadata": {},
   "outputs": [
    {
     "data": {
      "text/plain": [
       "['C/D', 'G/H']"
      ]
     },
     "execution_count": 32,
     "metadata": {},
     "output_type": "execute_result"
    }
   ],
   "source": [
    "generations[0][1::2]"
   ]
  },
  {
   "cell_type": "code",
   "execution_count": 40,
   "metadata": {
    "collapsed": true
   },
   "outputs": [],
   "source": [
    "generations[1] = [first+'//'+second for first, second in zip(generations[0][::2], generations[0][1::2])]"
   ]
  },
  {
   "cell_type": "code",
   "execution_count": 41,
   "metadata": {},
   "outputs": [
    {
     "data": {
      "text/plain": [
       "['A/B//C/D', 'E/F//G/H']"
      ]
     },
     "execution_count": 41,
     "metadata": {},
     "output_type": "execute_result"
    }
   ],
   "source": [
    "generations[1]"
   ]
  },
  {
   "cell_type": "code",
   "execution_count": 42,
   "metadata": {
    "collapsed": true
   },
   "outputs": [],
   "source": [
    "generations[2] = [first+'///'+second for first, second in zip(generations[1][::2], generations[1][1::2])]"
   ]
  },
  {
   "cell_type": "code",
   "execution_count": 43,
   "metadata": {},
   "outputs": [
    {
     "data": {
      "text/plain": [
       "['A/B//C/D///E/F//G/H']"
      ]
     },
     "execution_count": 43,
     "metadata": {},
     "output_type": "execute_result"
    }
   ],
   "source": [
    "generations[2]"
   ]
  },
  {
   "cell_type": "code",
   "execution_count": 72,
   "metadata": {
    "collapsed": true
   },
   "outputs": [],
   "source": [
    "generations = {}\n",
    "spacer = '/'\n",
    "for k in range(3):\n",
    "    if k == 0:\n",
    "        generations[k] = [first+spacer+second for first, second in zip(parents[::2], parents[1::2])]\n",
    "    if k > 0:\n",
    "        generations[k] = [first+spacer*(k+1)+second for first, second in \n",
    "                          zip(generations[k-1][::2], generations[k-1][1::2])]"
   ]
  },
  {
   "cell_type": "code",
   "execution_count": 73,
   "metadata": {},
   "outputs": [
    {
     "data": {
      "text/plain": [
       "{0: ['A/B', 'C/D', 'E/F', 'G/H'],\n",
       " 1: ['A/B//C/D', 'E/F//G/H'],\n",
       " 2: ['A/B//C/D///E/F//G/H']}"
      ]
     },
     "execution_count": 73,
     "metadata": {},
     "output_type": "execute_result"
    }
   ],
   "source": [
    "generations"
   ]
  },
  {
   "cell_type": "code",
   "execution_count": null,
   "metadata": {
    "collapsed": true
   },
   "outputs": [],
   "source": []
  },
  {
   "cell_type": "code",
   "execution_count": null,
   "metadata": {
    "collapsed": true
   },
   "outputs": [],
   "source": [
    "def pedigree_generator(prefounders, parents):\n",
    "    pedigree_graph = Digraph(comment=\"Pedigree\")\n",
    "    for i in range(8):\n",
    "        pedigree_graph.node(str(parents[i]), prefounders[parents[i]])\n",
    "    return pedigree_graph"
   ]
  },
  {
   "cell_type": "code",
   "execution_count": null,
   "metadata": {
    "collapsed": true
   },
   "outputs": [],
   "source": [
    "[(parents[i], parents[i+1]) for i in range(0, 8, 2)]\n",
    "[((parents[i], parents[i+1]),((parents[i+2], parents[i+3]))) for i in range(0, 8, 4)]"
   ]
  },
  {
   "cell_type": "code",
   "execution_count": null,
   "metadata": {
    "collapsed": true
   },
   "outputs": [],
   "source": [
    "dot.node('2/14','CML103/KY21')\n",
    "dot.node('16/8','M37W/CML52')\n",
    "dot.node('10/12','HP301/KI11')\n",
    "dot.node('4/6','CML247/CML322')"
   ]
  },
  {
   "cell_type": "code",
   "execution_count": 47,
   "metadata": {},
   "outputs": [
    {
     "data": {
      "text/plain": [
       "{}"
      ]
     },
     "execution_count": 47,
     "metadata": {},
     "output_type": "execute_result"
    }
   ],
   "source": [
    "pedigree_graph.edge"
   ]
  },
  {
   "cell_type": "code",
   "execution_count": null,
   "metadata": {
    "collapsed": true
   },
   "outputs": [],
   "source": [
    "dot.edge('2', '2/14')\n",
    "dot.edge('14', '2/14')\n",
    "dot.edge('16', '16/8')\n",
    "dot.edge('8', '16/8')\n",
    "dot.edge('10', '10/12')\n",
    "dot.edge('12', '10/12')\n",
    "dot.edge('4', '4/6')\n",
    "dot.edge('6', '4/6')"
   ]
  },
  {
   "cell_type": "code",
   "execution_count": null,
   "metadata": {
    "collapsed": true
   },
   "outputs": [],
   "source": [
    "pedigree_graph.edge('A', '')"
   ]
  },
  {
   "cell_type": "code",
   "execution_count": null,
   "metadata": {
    "collapsed": true
   },
   "outputs": [],
   "source": [
    "# 2/14//16/8\n",
    "# 10/12//4/6\n",
    "dot.node('2/14//16/8', 'CML103/KY21//M37W/CML52')\n",
    "dot.node('10/12//4/6', 'HP301/KI11//CML247/CML322')\n",
    "dot.edge('2/14', '2/14//16/8')\n",
    "dot.edge('16/8', '2/14//16/8')\n",
    "dot.edge('10/12', '10/12//4/6')\n",
    "dot.edge('4/6', '10/12//4/6')\n",
    "# 2/14//16/8///10/12//4/6\n",
    "dot.node('2/14//16/8///10/12//4/6', 'CML103/KY21//M37W/CML52///HP301/KI11//CML247/CML322')\n",
    "dot.edge('2/14//16/8', '2/14//16/8///10/12//4/6')\n",
    "dot.edge('10/12//4/6', '2/14//16/8///10/12//4/6')"
   ]
  },
  {
   "cell_type": "code",
   "execution_count": null,
   "metadata": {
    "collapsed": true
   },
   "outputs": [],
   "source": [
    "dot.render(\"mock-pedigree.pdf\", view=True)"
   ]
  },
  {
   "cell_type": "code",
   "execution_count": 53,
   "metadata": {},
   "outputs": [
    {
     "data": {
      "text/plain": [
       "{'body': ['\\t0 [label=A]',\n",
       "  '\\t1 [label=B]',\n",
       "  '\\t2 [label=C]',\n",
       "  '\\t3 [label=D]',\n",
       "  '\\t4 [label=E]',\n",
       "  '\\t5 [label=F]',\n",
       "  '\\t6 [label=G]',\n",
       "  '\\t7 [label=H]'],\n",
       " 'comment': 'Multi-Parental Multi-Generational Pedigree',\n",
       " 'edge_attr': {},\n",
       " 'filename': 'example_pedigree.pdf',\n",
       " 'graph_attr': {},\n",
       " 'name': None,\n",
       " 'node_attr': {},\n",
       " 'strict': False}"
      ]
     },
     "execution_count": 53,
     "metadata": {},
     "output_type": "execute_result"
    }
   ],
   "source": [
    "pedigree_graph."
   ]
  },
  {
   "cell_type": "code",
   "execution_count": 63,
   "metadata": {
    "collapsed": true
   },
   "outputs": [],
   "source": [
    "pedigree_graph.edge('0', 'A/B')"
   ]
  },
  {
   "cell_type": "code",
   "execution_count": 64,
   "metadata": {
    "collapsed": true
   },
   "outputs": [],
   "source": [
    "pedigree_graph.edge('1', 'A/B')\n",
    "pedigree_graph.edge('2', 'C/D')\n",
    "pedigree_graph.edge('3', 'C/D')\n",
    "pedigree_graph.edge('4', 'E/F')\n",
    "pedigree_graph.edge('5', 'E/F')\n",
    "pedigree_graph.edge('6', 'G/H')\n",
    "pedigree_graph.edge('7', 'G/H')"
   ]
  },
  {
   "cell_type": "code",
   "execution_count": 65,
   "metadata": {},
   "outputs": [
    {
     "data": {
      "text/plain": [
       "'example_pedigree.pdf.pdf'"
      ]
     },
     "execution_count": 65,
     "metadata": {},
     "output_type": "execute_result"
    }
   ],
   "source": [
    "pedigree_graph.render('example_pedigree.pdf', view=True)"
   ]
  },
  {
   "cell_type": "code",
   "execution_count": 70,
   "metadata": {},
   "outputs": [],
   "source": [
    "pedigree_graph.edge('A/B', 'A/B//C/D')\n",
    "pedigree_graph.edge('C/D', 'A/B//C/D')\n",
    "pedigree_graph.edge('E/F', 'E/F//G/H')\n",
    "pedigree_graph.edge('G/H', 'E/F//G/H')"
   ]
  },
  {
   "cell_type": "code",
   "execution_count": 71,
   "metadata": {},
   "outputs": [
    {
     "data": {
      "text/plain": [
       "'example_pedigree.pdf.pdf'"
      ]
     },
     "execution_count": 71,
     "metadata": {},
     "output_type": "execute_result"
    }
   ],
   "source": [
    "pedigree_graph.render('example_pedigree.pdf', view=True)"
   ]
  },
  {
   "cell_type": "code",
   "execution_count": null,
   "metadata": {
    "collapsed": true
   },
   "outputs": [],
   "source": [
    "from Bio import Entrez"
   ]
  },
  {
   "cell_type": "code",
   "execution_count": null,
   "metadata": {
    "collapsed": true
   },
   "outputs": [],
   "source": [
    "from reportlab.lib.units import cm"
   ]
  },
  {
   "cell_type": "code",
   "execution_count": null,
   "metadata": {
    "collapsed": true
   },
   "outputs": [],
   "source": [
    "from Bio.Graphics import BasicChromosome"
   ]
  },
  {
   "cell_type": "code",
   "execution_count": null,
   "metadata": {
    "collapsed": true
   },
   "outputs": [],
   "source": [
    "entries = [(\"Chr I\", 30432563),\n",
    "           (\"Chr II\", 19705359),\n",
    "           (\"Chr III\", 23470805),\n",
    "           (\"Chr IV\", 18585042),\n",
    "           (\"Chr V\", 26992728)]"
   ]
  },
  {
   "cell_type": "code",
   "execution_count": null,
   "metadata": {
    "collapsed": true
   },
   "outputs": [],
   "source": [
    "max_len = entries[0][1]"
   ]
  },
  {
   "cell_type": "code",
   "execution_count": null,
   "metadata": {
    "collapsed": true
   },
   "outputs": [],
   "source": [
    "telomere_length = 100000\n",
    "chr_diagram = BasicChromosome.Organism()\n",
    "chr_diagram.page_size = (29.7*cm, 21*cm)"
   ]
  },
  {
   "cell_type": "code",
   "execution_count": null,
   "metadata": {
    "collapsed": true
   },
   "outputs": [],
   "source": [
    "for name, length in entries:\n",
    "    cur_chromosome = BasicChromosome.Chromosome(name)\n",
    "    cur_chromosome.scale_num = max_len + 2*telomere_length\n",
    "    \n",
    "    start = BasicChromosome.TelomereSegment()\n",
    "    start.scale = telomere_length\n",
    "    cur_chromosome.add(start)\n",
    "    \n",
    "    body = BasicChromosome.ChromosomeSegment()\n",
    "    body.scale = length\n",
    "    cur_chromosome.add(body)\n",
    "    \n",
    "    end = BasicChromosome.TelomereSegment(inverted=True)\n",
    "    end.scale = telomere_length\n",
    "    cur_chromosome.add(end)\n",
    "    \n",
    "    chr_diagram.add(cur_chromosome)\n",
    "chr_diagram.draw(\"simple_chroms.pdf\", \"Arabidopsis thaliana\")"
   ]
  },
  {
   "cell_type": "code",
   "execution_count": null,
   "metadata": {
    "collapsed": true
   },
   "outputs": [],
   "source": [
    "from scipy.stats import expon\n",
    "import matplotlib.pyplot as plt\n",
    "import numpy as np"
   ]
  },
  {
   "cell_type": "code",
   "execution_count": null,
   "metadata": {
    "collapsed": true
   },
   "outputs": [],
   "source": [
    "fig, ax = plt.subplots(1, 1)\n",
    "mean, var = expon.stats(moments=\"mv\")\n",
    "x = np.linspace(expon.ppf(0.01), expon.ppf(0.99), 100)\n",
    "ax.grid(True)\n",
    "ax.set_title(\"Distribution of Allelic Effects\")\n",
    "ax.text(2, 0.5, r'$\\alpha_k \\textasciitilde Exp(\\theta)$', fontsize=24)\n",
    "ax.plot(x, expon.pdf(x), 'r-', lw=4, alpha=0.6, label=\"Exponential PDF\")\n",
    "plt.savefig(\"exponential_allele_effect.jpg\", dpi=600)"
   ]
  },
  {
   "cell_type": "code",
   "execution_count": null,
   "metadata": {
    "collapsed": true
   },
   "outputs": [],
   "source": [
    "plt.show()"
   ]
  },
  {
   "cell_type": "code",
   "execution_count": null,
   "metadata": {
    "collapsed": true
   },
   "outputs": [],
   "source": [
    "%pylab inline"
   ]
  },
  {
   "cell_type": "code",
   "execution_count": null,
   "metadata": {
    "collapsed": true
   },
   "outputs": [],
   "source": [
    "import matplotlib.pyplot as plt\n",
    "from matplotlib.path import Path\n",
    "import matplotlib.patches as ps"
   ]
  },
  {
   "cell_type": "code",
   "execution_count": null,
   "metadata": {
    "collapsed": true
   },
   "outputs": [],
   "source": [
    "verts = [\n",
    "    (0, 0),\n",
    "    (0, 1),\n",
    "    (1, 1),\n",
    "    (1, 0),\n",
    "    (0, 0),\n",
    "]"
   ]
  },
  {
   "cell_type": "code",
   "execution_count": null,
   "metadata": {
    "collapsed": true
   },
   "outputs": [],
   "source": [
    "codes = [Path.MOVETO,\n",
    "        Path.LINETO,\n",
    "        Path.LINETO,\n",
    "         Path.LINETO,\n",
    "         Path.CLOSEPOLY,\n",
    "        ]\n",
    "path = Path(verts, codes)"
   ]
  },
  {
   "cell_type": "code",
   "execution_count": null,
   "metadata": {
    "collapsed": true
   },
   "outputs": [],
   "source": [
    "plt.ioff()"
   ]
  },
  {
   "cell_type": "code",
   "execution_count": null,
   "metadata": {
    "collapsed": true
   },
   "outputs": [],
   "source": [
    "fig = plt.figure()\n",
    "ax = fig.add_subplot(111)\n",
    "patch = ps.PathPatch(path, facecolor='orange', lw=2)\n",
    "ax.add_patch(patch)\n",
    "ax.set_xlim(-2, 2)\n",
    "ax.set_ylim(-2, 2)\n",
    "plt.show()"
   ]
  },
  {
   "cell_type": "code",
   "execution_count": null,
   "metadata": {
    "collapsed": true
   },
   "outputs": [],
   "source": []
  },
  {
   "cell_type": "code",
   "execution_count": null,
   "metadata": {
    "collapsed": true
   },
   "outputs": [],
   "source": []
  },
  {
   "cell_type": "code",
   "execution_count": null,
   "metadata": {
    "collapsed": true
   },
   "outputs": [],
   "source": []
  },
  {
   "cell_type": "code",
   "execution_count": null,
   "metadata": {
    "collapsed": true
   },
   "outputs": [],
   "source": []
  },
  {
   "cell_type": "code",
   "execution_count": null,
   "metadata": {
    "collapsed": true
   },
   "outputs": [],
   "source": []
  },
  {
   "cell_type": "code",
   "execution_count": null,
   "metadata": {
    "collapsed": true
   },
   "outputs": [],
   "source": []
  },
  {
   "cell_type": "code",
   "execution_count": null,
   "metadata": {
    "collapsed": true
   },
   "outputs": [],
   "source": []
  },
  {
   "cell_type": "code",
   "execution_count": null,
   "metadata": {
    "collapsed": true
   },
   "outputs": [],
   "source": []
  }
 ],
 "metadata": {
  "kernelspec": {
   "display_name": "Python 3",
   "language": "python",
   "name": "python3"
  },
  "language_info": {
   "codemirror_mode": {
    "name": "ipython",
    "version": 3
   },
   "file_extension": ".py",
   "mimetype": "text/x-python",
   "name": "python",
   "nbconvert_exporter": "python",
   "pygments_lexer": "ipython3",
   "version": "3.6.1"
  }
 },
 "nbformat": 4,
 "nbformat_minor": 1
}
