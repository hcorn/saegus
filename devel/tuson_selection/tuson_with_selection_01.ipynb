{
 "cells": [
  {
   "cell_type": "code",
   "execution_count": 1,
   "metadata": {
    "collapsed": true
   },
   "outputs": [],
   "source": [
    "import simuOpt\n",
    "simuOpt.setOptions(quiet=True, optimized=True, numThreads=4)\n",
    "import simuPOP as sim\n",
    "import os, numpy as np, pandas as pd, collections as col\n",
    "from saegus import analyze, simulate, parameters, breed, operators\n",
    "from scipy import stats\n",
    "import random\n",
    "np.set_printoptions(suppress=True, precision=3)"
   ]
  },
  {
   "cell_type": "code",
   "execution_count": 2,
   "metadata": {
    "collapsed": true
   },
   "outputs": [],
   "source": [
    "tuson = sim.loadPopulation('tuson.pop')"
   ]
  },
  {
   "cell_type": "code",
   "execution_count": 3,
   "metadata": {
    "collapsed": true
   },
   "outputs": [],
   "source": [
    "artemis = analyze.Study('artemis')"
   ]
  },
  {
   "cell_type": "code",
   "execution_count": 4,
   "metadata": {
    "collapsed": true
   },
   "outputs": [],
   "source": [
    "sim.stat(tuson, numOfSegSites=sim.ALL_AVAIL, vars=['numOfSegSites', 'segSites', 'numOfFixedSites', 'fixedSites'])\n",
    "parameters.randomly_convert_fixed_sites(tuson, tuson.dvars().fixedSites)\n",
    "sim.stat(tuson, numOfSegSites=sim.ALL_AVAIL, vars=['numOfSegSites', 'segSites', 'numOfFixedSites', 'fixedSites'])"
   ]
  },
  {
   "cell_type": "code",
   "execution_count": 6,
   "metadata": {
    "collapsed": true
   },
   "outputs": [],
   "source": [
    "parameters.randomly_convert_fixed_sites(tuson, tuson.dvars().fixedSites)"
   ]
  },
  {
   "cell_type": "code",
   "execution_count": 8,
   "metadata": {
    "collapsed": true
   },
   "outputs": [],
   "source": [
    "sim.stat(tuson, numOfSegSites=sim.ALL_AVAIL, vars=['numOfSegSites', 'segSites', 'numOfFixedSites', 'fixedSites'])"
   ]
  },
  {
   "cell_type": "code",
   "execution_count": 9,
   "metadata": {},
   "outputs": [
    {
     "data": {
      "text/plain": [
       "0"
      ]
     },
     "execution_count": 9,
     "metadata": {},
     "output_type": "execute_result"
    }
   ],
   "source": [
    "tuson.dvars().numOfFixedSites"
   ]
  },
  {
   "cell_type": "code",
   "execution_count": null,
   "metadata": {
    "collapsed": true
   },
   "outputs": [],
   "source": []
  },
  {
   "cell_type": "code",
   "execution_count": 10,
   "metadata": {
    "collapsed": true
   },
   "outputs": [],
   "source": [
    "sim.stat(tuson, alleleFreq=sim.ALL_AVAIL)"
   ]
  },
  {
   "cell_type": "code",
   "execution_count": 11,
   "metadata": {
    "collapsed": true
   },
   "outputs": [],
   "source": [
    "sim.stat(tuson, homoFreq=sim.ALL_AVAIL)"
   ]
  },
  {
   "cell_type": "code",
   "execution_count": 12,
   "metadata": {
    "collapsed": true
   },
   "outputs": [],
   "source": [
    "sim.stat(tuson, heteroFreq=sim.ALL_AVAIL)"
   ]
  },
  {
   "cell_type": "code",
   "execution_count": null,
   "metadata": {
    "collapsed": true
   },
   "outputs": [],
   "source": []
  },
  {
   "cell_type": "code",
   "execution_count": 13,
   "metadata": {
    "collapsed": true
   },
   "outputs": [],
   "source": [
    "alleles  = np.array([list(tuson.dvars().alleleFreq[locus].keys()) for locus in range(tuson.totNumLoci())], dtype=np.int8)"
   ]
  },
  {
   "cell_type": "code",
   "execution_count": 14,
   "metadata": {},
   "outputs": [
    {
     "data": {
      "text/plain": [
       "(44445, 2)"
      ]
     },
     "execution_count": 14,
     "metadata": {},
     "output_type": "execute_result"
    }
   ],
   "source": [
    "alleles.shape"
   ]
  },
  {
   "cell_type": "markdown",
   "metadata": {},
   "source": [
    "## Alleles for Fixed Sites chosen at random."
   ]
  },
  {
   "cell_type": "code",
   "execution_count": 11,
   "metadata": {
    "collapsed": true
   },
   "outputs": [],
   "source": [
    "np.savetxt('alleles_of_tuson_founders.txt', alleles, fmt='%d', delimiter='\\t')"
   ]
  },
  {
   "cell_type": "code",
   "execution_count": 15,
   "metadata": {
    "collapsed": true
   },
   "outputs": [],
   "source": [
    "af = analyze.allele_data(tuson, alleles, range(tuson.totNumLoci()))"
   ]
  },
  {
   "cell_type": "code",
   "execution_count": 22,
   "metadata": {},
   "outputs": [
    {
     "data": {
      "text/html": [
       "<div>\n",
       "<style>\n",
       "    .dataframe thead tr:only-child th {\n",
       "        text-align: right;\n",
       "    }\n",
       "\n",
       "    .dataframe thead th {\n",
       "        text-align: left;\n",
       "    }\n",
       "\n",
       "    .dataframe tbody tr th {\n",
       "        vertical-align: top;\n",
       "    }\n",
       "</style>\n",
       "<table border=\"1\" class=\"dataframe\">\n",
       "  <thead>\n",
       "    <tr style=\"text-align: right;\">\n",
       "      <th></th>\n",
       "      <th>minor_allele</th>\n",
       "      <th>minor_frequency</th>\n",
       "      <th>major_allele</th>\n",
       "      <th>major_frequency</th>\n",
       "    </tr>\n",
       "  </thead>\n",
       "  <tbody>\n",
       "    <tr>\n",
       "      <th>0</th>\n",
       "      <td>1.0</td>\n",
       "      <td>0.319048</td>\n",
       "      <td>2.0</td>\n",
       "      <td>0.680952</td>\n",
       "    </tr>\n",
       "    <tr>\n",
       "      <th>1</th>\n",
       "      <td>2.0</td>\n",
       "      <td>0.219048</td>\n",
       "      <td>3.0</td>\n",
       "      <td>0.780952</td>\n",
       "    </tr>\n",
       "    <tr>\n",
       "      <th>2</th>\n",
       "      <td>3.0</td>\n",
       "      <td>0.061905</td>\n",
       "      <td>2.0</td>\n",
       "      <td>0.938095</td>\n",
       "    </tr>\n",
       "    <tr>\n",
       "      <th>3</th>\n",
       "      <td>1.0</td>\n",
       "      <td>0.061905</td>\n",
       "      <td>3.0</td>\n",
       "      <td>0.938095</td>\n",
       "    </tr>\n",
       "    <tr>\n",
       "      <th>4</th>\n",
       "      <td>3.0</td>\n",
       "      <td>0.309524</td>\n",
       "      <td>1.0</td>\n",
       "      <td>0.690476</td>\n",
       "    </tr>\n",
       "    <tr>\n",
       "      <th>5</th>\n",
       "      <td>3.0</td>\n",
       "      <td>0.052381</td>\n",
       "      <td>1.0</td>\n",
       "      <td>0.947619</td>\n",
       "    </tr>\n",
       "    <tr>\n",
       "      <th>6</th>\n",
       "      <td>1.0</td>\n",
       "      <td>0.204762</td>\n",
       "      <td>3.0</td>\n",
       "      <td>0.795238</td>\n",
       "    </tr>\n",
       "    <tr>\n",
       "      <th>7</th>\n",
       "      <td>1.0</td>\n",
       "      <td>0.128571</td>\n",
       "      <td>3.0</td>\n",
       "      <td>0.871429</td>\n",
       "    </tr>\n",
       "    <tr>\n",
       "      <th>8</th>\n",
       "      <td>1.0</td>\n",
       "      <td>0.133333</td>\n",
       "      <td>3.0</td>\n",
       "      <td>0.866667</td>\n",
       "    </tr>\n",
       "    <tr>\n",
       "      <th>9</th>\n",
       "      <td>3.0</td>\n",
       "      <td>0.180952</td>\n",
       "      <td>2.0</td>\n",
       "      <td>0.819048</td>\n",
       "    </tr>\n",
       "    <tr>\n",
       "      <th>10</th>\n",
       "      <td>3.0</td>\n",
       "      <td>0.461905</td>\n",
       "      <td>1.0</td>\n",
       "      <td>0.538095</td>\n",
       "    </tr>\n",
       "    <tr>\n",
       "      <th>11</th>\n",
       "      <td>1.0</td>\n",
       "      <td>0.461905</td>\n",
       "      <td>2.0</td>\n",
       "      <td>0.538095</td>\n",
       "    </tr>\n",
       "    <tr>\n",
       "      <th>12</th>\n",
       "      <td>1.0</td>\n",
       "      <td>0.090476</td>\n",
       "      <td>3.0</td>\n",
       "      <td>0.909524</td>\n",
       "    </tr>\n",
       "    <tr>\n",
       "      <th>13</th>\n",
       "      <td>3.0</td>\n",
       "      <td>0.114286</td>\n",
       "      <td>1.0</td>\n",
       "      <td>0.885714</td>\n",
       "    </tr>\n",
       "    <tr>\n",
       "      <th>14</th>\n",
       "      <td>2.0</td>\n",
       "      <td>0.004762</td>\n",
       "      <td>1.0</td>\n",
       "      <td>0.995238</td>\n",
       "    </tr>\n",
       "    <tr>\n",
       "      <th>15</th>\n",
       "      <td>1.0</td>\n",
       "      <td>0.004762</td>\n",
       "      <td>3.0</td>\n",
       "      <td>0.995238</td>\n",
       "    </tr>\n",
       "    <tr>\n",
       "      <th>16</th>\n",
       "      <td>2.0</td>\n",
       "      <td>0.004762</td>\n",
       "      <td>1.0</td>\n",
       "      <td>0.995238</td>\n",
       "    </tr>\n",
       "    <tr>\n",
       "      <th>17</th>\n",
       "      <td>2.0</td>\n",
       "      <td>0.038095</td>\n",
       "      <td>1.0</td>\n",
       "      <td>0.961905</td>\n",
       "    </tr>\n",
       "    <tr>\n",
       "      <th>18</th>\n",
       "      <td>2.0</td>\n",
       "      <td>0.128571</td>\n",
       "      <td>3.0</td>\n",
       "      <td>0.871429</td>\n",
       "    </tr>\n",
       "    <tr>\n",
       "      <th>19</th>\n",
       "      <td>1.0</td>\n",
       "      <td>0.004762</td>\n",
       "      <td>2.0</td>\n",
       "      <td>0.995238</td>\n",
       "    </tr>\n",
       "    <tr>\n",
       "      <th>20</th>\n",
       "      <td>1.0</td>\n",
       "      <td>0.295238</td>\n",
       "      <td>3.0</td>\n",
       "      <td>0.704762</td>\n",
       "    </tr>\n",
       "    <tr>\n",
       "      <th>21</th>\n",
       "      <td>3.0</td>\n",
       "      <td>0.423810</td>\n",
       "      <td>1.0</td>\n",
       "      <td>0.576190</td>\n",
       "    </tr>\n",
       "    <tr>\n",
       "      <th>22</th>\n",
       "      <td>1.0</td>\n",
       "      <td>0.214286</td>\n",
       "      <td>3.0</td>\n",
       "      <td>0.785714</td>\n",
       "    </tr>\n",
       "    <tr>\n",
       "      <th>23</th>\n",
       "      <td>1.0</td>\n",
       "      <td>0.042857</td>\n",
       "      <td>3.0</td>\n",
       "      <td>0.957143</td>\n",
       "    </tr>\n",
       "    <tr>\n",
       "      <th>24</th>\n",
       "      <td>2.0</td>\n",
       "      <td>0.004762</td>\n",
       "      <td>1.0</td>\n",
       "      <td>0.995238</td>\n",
       "    </tr>\n",
       "    <tr>\n",
       "      <th>25</th>\n",
       "      <td>1.0</td>\n",
       "      <td>0.309524</td>\n",
       "      <td>3.0</td>\n",
       "      <td>0.690476</td>\n",
       "    </tr>\n",
       "    <tr>\n",
       "      <th>26</th>\n",
       "      <td>1.0</td>\n",
       "      <td>0.223810</td>\n",
       "      <td>3.0</td>\n",
       "      <td>0.776190</td>\n",
       "    </tr>\n",
       "    <tr>\n",
       "      <th>27</th>\n",
       "      <td>2.0</td>\n",
       "      <td>0.004762</td>\n",
       "      <td>3.0</td>\n",
       "      <td>0.995238</td>\n",
       "    </tr>\n",
       "    <tr>\n",
       "      <th>28</th>\n",
       "      <td>1.0</td>\n",
       "      <td>0.104762</td>\n",
       "      <td>3.0</td>\n",
       "      <td>0.895238</td>\n",
       "    </tr>\n",
       "    <tr>\n",
       "      <th>29</th>\n",
       "      <td>1.0</td>\n",
       "      <td>0.004762</td>\n",
       "      <td>3.0</td>\n",
       "      <td>0.995238</td>\n",
       "    </tr>\n",
       "    <tr>\n",
       "      <th>...</th>\n",
       "      <td>...</td>\n",
       "      <td>...</td>\n",
       "      <td>...</td>\n",
       "      <td>...</td>\n",
       "    </tr>\n",
       "    <tr>\n",
       "      <th>44415</th>\n",
       "      <td>1.0</td>\n",
       "      <td>0.066667</td>\n",
       "      <td>3.0</td>\n",
       "      <td>0.933333</td>\n",
       "    </tr>\n",
       "    <tr>\n",
       "      <th>44416</th>\n",
       "      <td>3.0</td>\n",
       "      <td>0.319048</td>\n",
       "      <td>1.0</td>\n",
       "      <td>0.680952</td>\n",
       "    </tr>\n",
       "    <tr>\n",
       "      <th>44417</th>\n",
       "      <td>3.0</td>\n",
       "      <td>0.333333</td>\n",
       "      <td>1.0</td>\n",
       "      <td>0.666667</td>\n",
       "    </tr>\n",
       "    <tr>\n",
       "      <th>44418</th>\n",
       "      <td>3.0</td>\n",
       "      <td>0.328571</td>\n",
       "      <td>1.0</td>\n",
       "      <td>0.671429</td>\n",
       "    </tr>\n",
       "    <tr>\n",
       "      <th>44419</th>\n",
       "      <td>1.0</td>\n",
       "      <td>0.147619</td>\n",
       "      <td>3.0</td>\n",
       "      <td>0.852381</td>\n",
       "    </tr>\n",
       "    <tr>\n",
       "      <th>44420</th>\n",
       "      <td>1.0</td>\n",
       "      <td>0.419048</td>\n",
       "      <td>3.0</td>\n",
       "      <td>0.580952</td>\n",
       "    </tr>\n",
       "    <tr>\n",
       "      <th>44421</th>\n",
       "      <td>1.0</td>\n",
       "      <td>0.071429</td>\n",
       "      <td>3.0</td>\n",
       "      <td>0.928571</td>\n",
       "    </tr>\n",
       "    <tr>\n",
       "      <th>44422</th>\n",
       "      <td>1.0</td>\n",
       "      <td>0.419048</td>\n",
       "      <td>3.0</td>\n",
       "      <td>0.580952</td>\n",
       "    </tr>\n",
       "    <tr>\n",
       "      <th>44423</th>\n",
       "      <td>1.0</td>\n",
       "      <td>0.166667</td>\n",
       "      <td>3.0</td>\n",
       "      <td>0.833333</td>\n",
       "    </tr>\n",
       "    <tr>\n",
       "      <th>44424</th>\n",
       "      <td>3.0</td>\n",
       "      <td>0.080952</td>\n",
       "      <td>1.0</td>\n",
       "      <td>0.919048</td>\n",
       "    </tr>\n",
       "    <tr>\n",
       "      <th>44425</th>\n",
       "      <td>3.0</td>\n",
       "      <td>0.295238</td>\n",
       "      <td>1.0</td>\n",
       "      <td>0.704762</td>\n",
       "    </tr>\n",
       "    <tr>\n",
       "      <th>44426</th>\n",
       "      <td>3.0</td>\n",
       "      <td>0.180952</td>\n",
       "      <td>1.0</td>\n",
       "      <td>0.819048</td>\n",
       "    </tr>\n",
       "    <tr>\n",
       "      <th>44427</th>\n",
       "      <td>1.0</td>\n",
       "      <td>0.028571</td>\n",
       "      <td>2.0</td>\n",
       "      <td>0.971429</td>\n",
       "    </tr>\n",
       "    <tr>\n",
       "      <th>44428</th>\n",
       "      <td>3.0</td>\n",
       "      <td>0.171429</td>\n",
       "      <td>1.0</td>\n",
       "      <td>0.828571</td>\n",
       "    </tr>\n",
       "    <tr>\n",
       "      <th>44429</th>\n",
       "      <td>1.0</td>\n",
       "      <td>0.080952</td>\n",
       "      <td>2.0</td>\n",
       "      <td>0.919048</td>\n",
       "    </tr>\n",
       "    <tr>\n",
       "      <th>44430</th>\n",
       "      <td>3.0</td>\n",
       "      <td>0.457143</td>\n",
       "      <td>1.0</td>\n",
       "      <td>0.542857</td>\n",
       "    </tr>\n",
       "    <tr>\n",
       "      <th>44431</th>\n",
       "      <td>1.0</td>\n",
       "      <td>0.385714</td>\n",
       "      <td>3.0</td>\n",
       "      <td>0.614286</td>\n",
       "    </tr>\n",
       "    <tr>\n",
       "      <th>44432</th>\n",
       "      <td>1.0</td>\n",
       "      <td>0.176190</td>\n",
       "      <td>3.0</td>\n",
       "      <td>0.823810</td>\n",
       "    </tr>\n",
       "    <tr>\n",
       "      <th>44433</th>\n",
       "      <td>1.0</td>\n",
       "      <td>0.376190</td>\n",
       "      <td>3.0</td>\n",
       "      <td>0.623810</td>\n",
       "    </tr>\n",
       "    <tr>\n",
       "      <th>44434</th>\n",
       "      <td>1.0</td>\n",
       "      <td>0.457143</td>\n",
       "      <td>3.0</td>\n",
       "      <td>0.542857</td>\n",
       "    </tr>\n",
       "    <tr>\n",
       "      <th>44435</th>\n",
       "      <td>3.0</td>\n",
       "      <td>0.438095</td>\n",
       "      <td>1.0</td>\n",
       "      <td>0.561905</td>\n",
       "    </tr>\n",
       "    <tr>\n",
       "      <th>44436</th>\n",
       "      <td>1.0</td>\n",
       "      <td>0.380952</td>\n",
       "      <td>3.0</td>\n",
       "      <td>0.619048</td>\n",
       "    </tr>\n",
       "    <tr>\n",
       "      <th>44437</th>\n",
       "      <td>1.0</td>\n",
       "      <td>0.385714</td>\n",
       "      <td>3.0</td>\n",
       "      <td>0.614286</td>\n",
       "    </tr>\n",
       "    <tr>\n",
       "      <th>44438</th>\n",
       "      <td>1.0</td>\n",
       "      <td>0.457143</td>\n",
       "      <td>3.0</td>\n",
       "      <td>0.542857</td>\n",
       "    </tr>\n",
       "    <tr>\n",
       "      <th>44439</th>\n",
       "      <td>3.0</td>\n",
       "      <td>0.457143</td>\n",
       "      <td>1.0</td>\n",
       "      <td>0.542857</td>\n",
       "    </tr>\n",
       "    <tr>\n",
       "      <th>44440</th>\n",
       "      <td>1.0</td>\n",
       "      <td>0.457143</td>\n",
       "      <td>3.0</td>\n",
       "      <td>0.542857</td>\n",
       "    </tr>\n",
       "    <tr>\n",
       "      <th>44441</th>\n",
       "      <td>2.0</td>\n",
       "      <td>0.457143</td>\n",
       "      <td>1.0</td>\n",
       "      <td>0.542857</td>\n",
       "    </tr>\n",
       "    <tr>\n",
       "      <th>44442</th>\n",
       "      <td>2.0</td>\n",
       "      <td>0.466667</td>\n",
       "      <td>1.0</td>\n",
       "      <td>0.533333</td>\n",
       "    </tr>\n",
       "    <tr>\n",
       "      <th>44443</th>\n",
       "      <td>3.0</td>\n",
       "      <td>0.261905</td>\n",
       "      <td>1.0</td>\n",
       "      <td>0.738095</td>\n",
       "    </tr>\n",
       "    <tr>\n",
       "      <th>44444</th>\n",
       "      <td>1.0</td>\n",
       "      <td>0.266667</td>\n",
       "      <td>3.0</td>\n",
       "      <td>0.733333</td>\n",
       "    </tr>\n",
       "  </tbody>\n",
       "</table>\n",
       "<p>44445 rows × 4 columns</p>\n",
       "</div>"
      ],
      "text/plain": [
       "       minor_allele  minor_frequency  major_allele  major_frequency\n",
       "0               1.0         0.319048           2.0         0.680952\n",
       "1               2.0         0.219048           3.0         0.780952\n",
       "2               3.0         0.061905           2.0         0.938095\n",
       "3               1.0         0.061905           3.0         0.938095\n",
       "4               3.0         0.309524           1.0         0.690476\n",
       "5               3.0         0.052381           1.0         0.947619\n",
       "6               1.0         0.204762           3.0         0.795238\n",
       "7               1.0         0.128571           3.0         0.871429\n",
       "8               1.0         0.133333           3.0         0.866667\n",
       "9               3.0         0.180952           2.0         0.819048\n",
       "10              3.0         0.461905           1.0         0.538095\n",
       "11              1.0         0.461905           2.0         0.538095\n",
       "12              1.0         0.090476           3.0         0.909524\n",
       "13              3.0         0.114286           1.0         0.885714\n",
       "14              2.0         0.004762           1.0         0.995238\n",
       "15              1.0         0.004762           3.0         0.995238\n",
       "16              2.0         0.004762           1.0         0.995238\n",
       "17              2.0         0.038095           1.0         0.961905\n",
       "18              2.0         0.128571           3.0         0.871429\n",
       "19              1.0         0.004762           2.0         0.995238\n",
       "20              1.0         0.295238           3.0         0.704762\n",
       "21              3.0         0.423810           1.0         0.576190\n",
       "22              1.0         0.214286           3.0         0.785714\n",
       "23              1.0         0.042857           3.0         0.957143\n",
       "24              2.0         0.004762           1.0         0.995238\n",
       "25              1.0         0.309524           3.0         0.690476\n",
       "26              1.0         0.223810           3.0         0.776190\n",
       "27              2.0         0.004762           3.0         0.995238\n",
       "28              1.0         0.104762           3.0         0.895238\n",
       "29              1.0         0.004762           3.0         0.995238\n",
       "...             ...              ...           ...              ...\n",
       "44415           1.0         0.066667           3.0         0.933333\n",
       "44416           3.0         0.319048           1.0         0.680952\n",
       "44417           3.0         0.333333           1.0         0.666667\n",
       "44418           3.0         0.328571           1.0         0.671429\n",
       "44419           1.0         0.147619           3.0         0.852381\n",
       "44420           1.0         0.419048           3.0         0.580952\n",
       "44421           1.0         0.071429           3.0         0.928571\n",
       "44422           1.0         0.419048           3.0         0.580952\n",
       "44423           1.0         0.166667           3.0         0.833333\n",
       "44424           3.0         0.080952           1.0         0.919048\n",
       "44425           3.0         0.295238           1.0         0.704762\n",
       "44426           3.0         0.180952           1.0         0.819048\n",
       "44427           1.0         0.028571           2.0         0.971429\n",
       "44428           3.0         0.171429           1.0         0.828571\n",
       "44429           1.0         0.080952           2.0         0.919048\n",
       "44430           3.0         0.457143           1.0         0.542857\n",
       "44431           1.0         0.385714           3.0         0.614286\n",
       "44432           1.0         0.176190           3.0         0.823810\n",
       "44433           1.0         0.376190           3.0         0.623810\n",
       "44434           1.0         0.457143           3.0         0.542857\n",
       "44435           3.0         0.438095           1.0         0.561905\n",
       "44436           1.0         0.380952           3.0         0.619048\n",
       "44437           1.0         0.385714           3.0         0.614286\n",
       "44438           1.0         0.457143           3.0         0.542857\n",
       "44439           3.0         0.457143           1.0         0.542857\n",
       "44440           1.0         0.457143           3.0         0.542857\n",
       "44441           2.0         0.457143           1.0         0.542857\n",
       "44442           2.0         0.466667           1.0         0.533333\n",
       "44443           3.0         0.261905           1.0         0.738095\n",
       "44444           1.0         0.266667           3.0         0.733333\n",
       "\n",
       "[44445 rows x 4 columns]"
      ]
     },
     "execution_count": 22,
     "metadata": {},
     "output_type": "execute_result"
    }
   ],
   "source": [
    "af"
   ]
  },
  {
   "cell_type": "code",
   "execution_count": 27,
   "metadata": {
    "collapsed": true
   },
   "outputs": [],
   "source": [
    "minor_alleles = np.array(af['minor_allele'], dtype=np.int8)"
   ]
  },
  {
   "cell_type": "code",
   "execution_count": 29,
   "metadata": {},
   "outputs": [
    {
     "data": {
      "text/plain": [
       "array([1, 2, 3, ..., 2, 3, 1], dtype=int8)"
      ]
     },
     "execution_count": 29,
     "metadata": {},
     "output_type": "execute_result"
    }
   ],
   "source": [
    "minor_alleles"
   ]
  },
  {
   "cell_type": "code",
   "execution_count": 30,
   "metadata": {
    "collapsed": true
   },
   "outputs": [],
   "source": [
    "def expanded_allele_data(pop, allele_data_structure):\n",
    "    sim.stat(pop, heteroFreq=sim.ALL_AVAIL)\n",
    "    hetero_frqs = np.array(list(pop.dvars().heteroFreq.values()))\n",
    "    hetero_column = pd.DataFrame(hetero_frqs, columns=['heterozygote_frequency'])\n",
    "    return allele_data_structure.join(hetero_column)"
   ]
  },
  {
   "cell_type": "code",
   "execution_count": 31,
   "metadata": {
    "collapsed": true
   },
   "outputs": [],
   "source": [
    "eaf = expanded_allele_data(tuson, af)"
   ]
  },
  {
   "cell_type": "code",
   "execution_count": 32,
   "metadata": {},
   "outputs": [
    {
     "data": {
      "text/html": [
       "<div>\n",
       "<style>\n",
       "    .dataframe thead tr:only-child th {\n",
       "        text-align: right;\n",
       "    }\n",
       "\n",
       "    .dataframe thead th {\n",
       "        text-align: left;\n",
       "    }\n",
       "\n",
       "    .dataframe tbody tr th {\n",
       "        vertical-align: top;\n",
       "    }\n",
       "</style>\n",
       "<table border=\"1\" class=\"dataframe\">\n",
       "  <thead>\n",
       "    <tr style=\"text-align: right;\">\n",
       "      <th></th>\n",
       "      <th>minor_allele</th>\n",
       "      <th>minor_frequency</th>\n",
       "      <th>major_allele</th>\n",
       "      <th>major_frequency</th>\n",
       "      <th>heterozygote_frequency</th>\n",
       "    </tr>\n",
       "  </thead>\n",
       "  <tbody>\n",
       "    <tr>\n",
       "      <th>0</th>\n",
       "      <td>1.0</td>\n",
       "      <td>0.319048</td>\n",
       "      <td>2.0</td>\n",
       "      <td>0.680952</td>\n",
       "      <td>0.371429</td>\n",
       "    </tr>\n",
       "    <tr>\n",
       "      <th>1</th>\n",
       "      <td>2.0</td>\n",
       "      <td>0.219048</td>\n",
       "      <td>3.0</td>\n",
       "      <td>0.780952</td>\n",
       "      <td>0.266667</td>\n",
       "    </tr>\n",
       "    <tr>\n",
       "      <th>2</th>\n",
       "      <td>3.0</td>\n",
       "      <td>0.061905</td>\n",
       "      <td>2.0</td>\n",
       "      <td>0.938095</td>\n",
       "      <td>0.104762</td>\n",
       "    </tr>\n",
       "    <tr>\n",
       "      <th>3</th>\n",
       "      <td>1.0</td>\n",
       "      <td>0.061905</td>\n",
       "      <td>3.0</td>\n",
       "      <td>0.938095</td>\n",
       "      <td>0.104762</td>\n",
       "    </tr>\n",
       "    <tr>\n",
       "      <th>4</th>\n",
       "      <td>3.0</td>\n",
       "      <td>0.309524</td>\n",
       "      <td>1.0</td>\n",
       "      <td>0.690476</td>\n",
       "      <td>0.619048</td>\n",
       "    </tr>\n",
       "    <tr>\n",
       "      <th>5</th>\n",
       "      <td>3.0</td>\n",
       "      <td>0.052381</td>\n",
       "      <td>1.0</td>\n",
       "      <td>0.947619</td>\n",
       "      <td>0.085714</td>\n",
       "    </tr>\n",
       "    <tr>\n",
       "      <th>6</th>\n",
       "      <td>1.0</td>\n",
       "      <td>0.204762</td>\n",
       "      <td>3.0</td>\n",
       "      <td>0.795238</td>\n",
       "      <td>0.314286</td>\n",
       "    </tr>\n",
       "    <tr>\n",
       "      <th>7</th>\n",
       "      <td>1.0</td>\n",
       "      <td>0.128571</td>\n",
       "      <td>3.0</td>\n",
       "      <td>0.871429</td>\n",
       "      <td>0.200000</td>\n",
       "    </tr>\n",
       "    <tr>\n",
       "      <th>8</th>\n",
       "      <td>1.0</td>\n",
       "      <td>0.133333</td>\n",
       "      <td>3.0</td>\n",
       "      <td>0.866667</td>\n",
       "      <td>0.209524</td>\n",
       "    </tr>\n",
       "    <tr>\n",
       "      <th>9</th>\n",
       "      <td>3.0</td>\n",
       "      <td>0.180952</td>\n",
       "      <td>2.0</td>\n",
       "      <td>0.819048</td>\n",
       "      <td>0.266667</td>\n",
       "    </tr>\n",
       "    <tr>\n",
       "      <th>10</th>\n",
       "      <td>3.0</td>\n",
       "      <td>0.461905</td>\n",
       "      <td>1.0</td>\n",
       "      <td>0.538095</td>\n",
       "      <td>0.923810</td>\n",
       "    </tr>\n",
       "    <tr>\n",
       "      <th>11</th>\n",
       "      <td>1.0</td>\n",
       "      <td>0.461905</td>\n",
       "      <td>2.0</td>\n",
       "      <td>0.538095</td>\n",
       "      <td>0.923810</td>\n",
       "    </tr>\n",
       "    <tr>\n",
       "      <th>12</th>\n",
       "      <td>1.0</td>\n",
       "      <td>0.090476</td>\n",
       "      <td>3.0</td>\n",
       "      <td>0.909524</td>\n",
       "      <td>0.161905</td>\n",
       "    </tr>\n",
       "    <tr>\n",
       "      <th>13</th>\n",
       "      <td>3.0</td>\n",
       "      <td>0.114286</td>\n",
       "      <td>1.0</td>\n",
       "      <td>0.885714</td>\n",
       "      <td>0.114286</td>\n",
       "    </tr>\n",
       "    <tr>\n",
       "      <th>14</th>\n",
       "      <td>2.0</td>\n",
       "      <td>0.004762</td>\n",
       "      <td>1.0</td>\n",
       "      <td>0.995238</td>\n",
       "      <td>0.009524</td>\n",
       "    </tr>\n",
       "    <tr>\n",
       "      <th>15</th>\n",
       "      <td>1.0</td>\n",
       "      <td>0.004762</td>\n",
       "      <td>3.0</td>\n",
       "      <td>0.995238</td>\n",
       "      <td>0.009524</td>\n",
       "    </tr>\n",
       "    <tr>\n",
       "      <th>16</th>\n",
       "      <td>2.0</td>\n",
       "      <td>0.004762</td>\n",
       "      <td>1.0</td>\n",
       "      <td>0.995238</td>\n",
       "      <td>0.009524</td>\n",
       "    </tr>\n",
       "    <tr>\n",
       "      <th>17</th>\n",
       "      <td>2.0</td>\n",
       "      <td>0.038095</td>\n",
       "      <td>1.0</td>\n",
       "      <td>0.961905</td>\n",
       "      <td>0.076190</td>\n",
       "    </tr>\n",
       "    <tr>\n",
       "      <th>18</th>\n",
       "      <td>2.0</td>\n",
       "      <td>0.128571</td>\n",
       "      <td>3.0</td>\n",
       "      <td>0.871429</td>\n",
       "      <td>0.238095</td>\n",
       "    </tr>\n",
       "    <tr>\n",
       "      <th>19</th>\n",
       "      <td>1.0</td>\n",
       "      <td>0.004762</td>\n",
       "      <td>2.0</td>\n",
       "      <td>0.995238</td>\n",
       "      <td>0.009524</td>\n",
       "    </tr>\n",
       "    <tr>\n",
       "      <th>20</th>\n",
       "      <td>1.0</td>\n",
       "      <td>0.295238</td>\n",
       "      <td>3.0</td>\n",
       "      <td>0.704762</td>\n",
       "      <td>0.323810</td>\n",
       "    </tr>\n",
       "    <tr>\n",
       "      <th>21</th>\n",
       "      <td>3.0</td>\n",
       "      <td>0.423810</td>\n",
       "      <td>1.0</td>\n",
       "      <td>0.576190</td>\n",
       "      <td>0.428571</td>\n",
       "    </tr>\n",
       "    <tr>\n",
       "      <th>22</th>\n",
       "      <td>1.0</td>\n",
       "      <td>0.214286</td>\n",
       "      <td>3.0</td>\n",
       "      <td>0.785714</td>\n",
       "      <td>0.257143</td>\n",
       "    </tr>\n",
       "    <tr>\n",
       "      <th>23</th>\n",
       "      <td>1.0</td>\n",
       "      <td>0.042857</td>\n",
       "      <td>3.0</td>\n",
       "      <td>0.957143</td>\n",
       "      <td>0.085714</td>\n",
       "    </tr>\n",
       "    <tr>\n",
       "      <th>24</th>\n",
       "      <td>2.0</td>\n",
       "      <td>0.004762</td>\n",
       "      <td>1.0</td>\n",
       "      <td>0.995238</td>\n",
       "      <td>0.009524</td>\n",
       "    </tr>\n",
       "    <tr>\n",
       "      <th>25</th>\n",
       "      <td>1.0</td>\n",
       "      <td>0.309524</td>\n",
       "      <td>3.0</td>\n",
       "      <td>0.690476</td>\n",
       "      <td>0.142857</td>\n",
       "    </tr>\n",
       "    <tr>\n",
       "      <th>26</th>\n",
       "      <td>1.0</td>\n",
       "      <td>0.223810</td>\n",
       "      <td>3.0</td>\n",
       "      <td>0.776190</td>\n",
       "      <td>0.447619</td>\n",
       "    </tr>\n",
       "    <tr>\n",
       "      <th>27</th>\n",
       "      <td>2.0</td>\n",
       "      <td>0.004762</td>\n",
       "      <td>3.0</td>\n",
       "      <td>0.995238</td>\n",
       "      <td>0.009524</td>\n",
       "    </tr>\n",
       "    <tr>\n",
       "      <th>28</th>\n",
       "      <td>1.0</td>\n",
       "      <td>0.104762</td>\n",
       "      <td>3.0</td>\n",
       "      <td>0.895238</td>\n",
       "      <td>0.171429</td>\n",
       "    </tr>\n",
       "    <tr>\n",
       "      <th>29</th>\n",
       "      <td>1.0</td>\n",
       "      <td>0.004762</td>\n",
       "      <td>3.0</td>\n",
       "      <td>0.995238</td>\n",
       "      <td>0.009524</td>\n",
       "    </tr>\n",
       "    <tr>\n",
       "      <th>...</th>\n",
       "      <td>...</td>\n",
       "      <td>...</td>\n",
       "      <td>...</td>\n",
       "      <td>...</td>\n",
       "      <td>...</td>\n",
       "    </tr>\n",
       "    <tr>\n",
       "      <th>44415</th>\n",
       "      <td>1.0</td>\n",
       "      <td>0.066667</td>\n",
       "      <td>3.0</td>\n",
       "      <td>0.933333</td>\n",
       "      <td>0.114286</td>\n",
       "    </tr>\n",
       "    <tr>\n",
       "      <th>44416</th>\n",
       "      <td>3.0</td>\n",
       "      <td>0.319048</td>\n",
       "      <td>1.0</td>\n",
       "      <td>0.680952</td>\n",
       "      <td>0.295238</td>\n",
       "    </tr>\n",
       "    <tr>\n",
       "      <th>44417</th>\n",
       "      <td>3.0</td>\n",
       "      <td>0.333333</td>\n",
       "      <td>1.0</td>\n",
       "      <td>0.666667</td>\n",
       "      <td>0.285714</td>\n",
       "    </tr>\n",
       "    <tr>\n",
       "      <th>44418</th>\n",
       "      <td>3.0</td>\n",
       "      <td>0.328571</td>\n",
       "      <td>1.0</td>\n",
       "      <td>0.671429</td>\n",
       "      <td>0.276190</td>\n",
       "    </tr>\n",
       "    <tr>\n",
       "      <th>44419</th>\n",
       "      <td>1.0</td>\n",
       "      <td>0.147619</td>\n",
       "      <td>3.0</td>\n",
       "      <td>0.852381</td>\n",
       "      <td>0.200000</td>\n",
       "    </tr>\n",
       "    <tr>\n",
       "      <th>44420</th>\n",
       "      <td>1.0</td>\n",
       "      <td>0.419048</td>\n",
       "      <td>3.0</td>\n",
       "      <td>0.580952</td>\n",
       "      <td>0.380952</td>\n",
       "    </tr>\n",
       "    <tr>\n",
       "      <th>44421</th>\n",
       "      <td>1.0</td>\n",
       "      <td>0.071429</td>\n",
       "      <td>3.0</td>\n",
       "      <td>0.928571</td>\n",
       "      <td>0.123810</td>\n",
       "    </tr>\n",
       "    <tr>\n",
       "      <th>44422</th>\n",
       "      <td>1.0</td>\n",
       "      <td>0.419048</td>\n",
       "      <td>3.0</td>\n",
       "      <td>0.580952</td>\n",
       "      <td>0.419048</td>\n",
       "    </tr>\n",
       "    <tr>\n",
       "      <th>44423</th>\n",
       "      <td>1.0</td>\n",
       "      <td>0.166667</td>\n",
       "      <td>3.0</td>\n",
       "      <td>0.833333</td>\n",
       "      <td>0.238095</td>\n",
       "    </tr>\n",
       "    <tr>\n",
       "      <th>44424</th>\n",
       "      <td>3.0</td>\n",
       "      <td>0.080952</td>\n",
       "      <td>1.0</td>\n",
       "      <td>0.919048</td>\n",
       "      <td>0.161905</td>\n",
       "    </tr>\n",
       "    <tr>\n",
       "      <th>44425</th>\n",
       "      <td>3.0</td>\n",
       "      <td>0.295238</td>\n",
       "      <td>1.0</td>\n",
       "      <td>0.704762</td>\n",
       "      <td>0.304762</td>\n",
       "    </tr>\n",
       "    <tr>\n",
       "      <th>44426</th>\n",
       "      <td>3.0</td>\n",
       "      <td>0.180952</td>\n",
       "      <td>1.0</td>\n",
       "      <td>0.819048</td>\n",
       "      <td>0.285714</td>\n",
       "    </tr>\n",
       "    <tr>\n",
       "      <th>44427</th>\n",
       "      <td>1.0</td>\n",
       "      <td>0.028571</td>\n",
       "      <td>2.0</td>\n",
       "      <td>0.971429</td>\n",
       "      <td>0.019048</td>\n",
       "    </tr>\n",
       "    <tr>\n",
       "      <th>44428</th>\n",
       "      <td>3.0</td>\n",
       "      <td>0.171429</td>\n",
       "      <td>1.0</td>\n",
       "      <td>0.828571</td>\n",
       "      <td>0.209524</td>\n",
       "    </tr>\n",
       "    <tr>\n",
       "      <th>44429</th>\n",
       "      <td>1.0</td>\n",
       "      <td>0.080952</td>\n",
       "      <td>2.0</td>\n",
       "      <td>0.919048</td>\n",
       "      <td>0.104762</td>\n",
       "    </tr>\n",
       "    <tr>\n",
       "      <th>44430</th>\n",
       "      <td>3.0</td>\n",
       "      <td>0.457143</td>\n",
       "      <td>1.0</td>\n",
       "      <td>0.542857</td>\n",
       "      <td>0.457143</td>\n",
       "    </tr>\n",
       "    <tr>\n",
       "      <th>44431</th>\n",
       "      <td>1.0</td>\n",
       "      <td>0.385714</td>\n",
       "      <td>3.0</td>\n",
       "      <td>0.614286</td>\n",
       "      <td>0.771429</td>\n",
       "    </tr>\n",
       "    <tr>\n",
       "      <th>44432</th>\n",
       "      <td>1.0</td>\n",
       "      <td>0.176190</td>\n",
       "      <td>3.0</td>\n",
       "      <td>0.823810</td>\n",
       "      <td>0.295238</td>\n",
       "    </tr>\n",
       "    <tr>\n",
       "      <th>44433</th>\n",
       "      <td>1.0</td>\n",
       "      <td>0.376190</td>\n",
       "      <td>3.0</td>\n",
       "      <td>0.623810</td>\n",
       "      <td>0.409524</td>\n",
       "    </tr>\n",
       "    <tr>\n",
       "      <th>44434</th>\n",
       "      <td>1.0</td>\n",
       "      <td>0.457143</td>\n",
       "      <td>3.0</td>\n",
       "      <td>0.542857</td>\n",
       "      <td>0.457143</td>\n",
       "    </tr>\n",
       "    <tr>\n",
       "      <th>44435</th>\n",
       "      <td>3.0</td>\n",
       "      <td>0.438095</td>\n",
       "      <td>1.0</td>\n",
       "      <td>0.561905</td>\n",
       "      <td>0.476190</td>\n",
       "    </tr>\n",
       "    <tr>\n",
       "      <th>44436</th>\n",
       "      <td>1.0</td>\n",
       "      <td>0.380952</td>\n",
       "      <td>3.0</td>\n",
       "      <td>0.619048</td>\n",
       "      <td>0.419048</td>\n",
       "    </tr>\n",
       "    <tr>\n",
       "      <th>44437</th>\n",
       "      <td>1.0</td>\n",
       "      <td>0.385714</td>\n",
       "      <td>3.0</td>\n",
       "      <td>0.614286</td>\n",
       "      <td>0.771429</td>\n",
       "    </tr>\n",
       "    <tr>\n",
       "      <th>44438</th>\n",
       "      <td>1.0</td>\n",
       "      <td>0.457143</td>\n",
       "      <td>3.0</td>\n",
       "      <td>0.542857</td>\n",
       "      <td>0.457143</td>\n",
       "    </tr>\n",
       "    <tr>\n",
       "      <th>44439</th>\n",
       "      <td>3.0</td>\n",
       "      <td>0.457143</td>\n",
       "      <td>1.0</td>\n",
       "      <td>0.542857</td>\n",
       "      <td>0.457143</td>\n",
       "    </tr>\n",
       "    <tr>\n",
       "      <th>44440</th>\n",
       "      <td>1.0</td>\n",
       "      <td>0.457143</td>\n",
       "      <td>3.0</td>\n",
       "      <td>0.542857</td>\n",
       "      <td>0.457143</td>\n",
       "    </tr>\n",
       "    <tr>\n",
       "      <th>44441</th>\n",
       "      <td>2.0</td>\n",
       "      <td>0.457143</td>\n",
       "      <td>1.0</td>\n",
       "      <td>0.542857</td>\n",
       "      <td>0.457143</td>\n",
       "    </tr>\n",
       "    <tr>\n",
       "      <th>44442</th>\n",
       "      <td>2.0</td>\n",
       "      <td>0.466667</td>\n",
       "      <td>1.0</td>\n",
       "      <td>0.533333</td>\n",
       "      <td>0.457143</td>\n",
       "    </tr>\n",
       "    <tr>\n",
       "      <th>44443</th>\n",
       "      <td>3.0</td>\n",
       "      <td>0.261905</td>\n",
       "      <td>1.0</td>\n",
       "      <td>0.738095</td>\n",
       "      <td>0.352381</td>\n",
       "    </tr>\n",
       "    <tr>\n",
       "      <th>44444</th>\n",
       "      <td>1.0</td>\n",
       "      <td>0.266667</td>\n",
       "      <td>3.0</td>\n",
       "      <td>0.733333</td>\n",
       "      <td>0.247619</td>\n",
       "    </tr>\n",
       "  </tbody>\n",
       "</table>\n",
       "<p>44445 rows × 5 columns</p>\n",
       "</div>"
      ],
      "text/plain": [
       "       minor_allele  minor_frequency  major_allele  major_frequency  \\\n",
       "0               1.0         0.319048           2.0         0.680952   \n",
       "1               2.0         0.219048           3.0         0.780952   \n",
       "2               3.0         0.061905           2.0         0.938095   \n",
       "3               1.0         0.061905           3.0         0.938095   \n",
       "4               3.0         0.309524           1.0         0.690476   \n",
       "5               3.0         0.052381           1.0         0.947619   \n",
       "6               1.0         0.204762           3.0         0.795238   \n",
       "7               1.0         0.128571           3.0         0.871429   \n",
       "8               1.0         0.133333           3.0         0.866667   \n",
       "9               3.0         0.180952           2.0         0.819048   \n",
       "10              3.0         0.461905           1.0         0.538095   \n",
       "11              1.0         0.461905           2.0         0.538095   \n",
       "12              1.0         0.090476           3.0         0.909524   \n",
       "13              3.0         0.114286           1.0         0.885714   \n",
       "14              2.0         0.004762           1.0         0.995238   \n",
       "15              1.0         0.004762           3.0         0.995238   \n",
       "16              2.0         0.004762           1.0         0.995238   \n",
       "17              2.0         0.038095           1.0         0.961905   \n",
       "18              2.0         0.128571           3.0         0.871429   \n",
       "19              1.0         0.004762           2.0         0.995238   \n",
       "20              1.0         0.295238           3.0         0.704762   \n",
       "21              3.0         0.423810           1.0         0.576190   \n",
       "22              1.0         0.214286           3.0         0.785714   \n",
       "23              1.0         0.042857           3.0         0.957143   \n",
       "24              2.0         0.004762           1.0         0.995238   \n",
       "25              1.0         0.309524           3.0         0.690476   \n",
       "26              1.0         0.223810           3.0         0.776190   \n",
       "27              2.0         0.004762           3.0         0.995238   \n",
       "28              1.0         0.104762           3.0         0.895238   \n",
       "29              1.0         0.004762           3.0         0.995238   \n",
       "...             ...              ...           ...              ...   \n",
       "44415           1.0         0.066667           3.0         0.933333   \n",
       "44416           3.0         0.319048           1.0         0.680952   \n",
       "44417           3.0         0.333333           1.0         0.666667   \n",
       "44418           3.0         0.328571           1.0         0.671429   \n",
       "44419           1.0         0.147619           3.0         0.852381   \n",
       "44420           1.0         0.419048           3.0         0.580952   \n",
       "44421           1.0         0.071429           3.0         0.928571   \n",
       "44422           1.0         0.419048           3.0         0.580952   \n",
       "44423           1.0         0.166667           3.0         0.833333   \n",
       "44424           3.0         0.080952           1.0         0.919048   \n",
       "44425           3.0         0.295238           1.0         0.704762   \n",
       "44426           3.0         0.180952           1.0         0.819048   \n",
       "44427           1.0         0.028571           2.0         0.971429   \n",
       "44428           3.0         0.171429           1.0         0.828571   \n",
       "44429           1.0         0.080952           2.0         0.919048   \n",
       "44430           3.0         0.457143           1.0         0.542857   \n",
       "44431           1.0         0.385714           3.0         0.614286   \n",
       "44432           1.0         0.176190           3.0         0.823810   \n",
       "44433           1.0         0.376190           3.0         0.623810   \n",
       "44434           1.0         0.457143           3.0         0.542857   \n",
       "44435           3.0         0.438095           1.0         0.561905   \n",
       "44436           1.0         0.380952           3.0         0.619048   \n",
       "44437           1.0         0.385714           3.0         0.614286   \n",
       "44438           1.0         0.457143           3.0         0.542857   \n",
       "44439           3.0         0.457143           1.0         0.542857   \n",
       "44440           1.0         0.457143           3.0         0.542857   \n",
       "44441           2.0         0.457143           1.0         0.542857   \n",
       "44442           2.0         0.466667           1.0         0.533333   \n",
       "44443           3.0         0.261905           1.0         0.738095   \n",
       "44444           1.0         0.266667           3.0         0.733333   \n",
       "\n",
       "       heterozygote_frequency  \n",
       "0                    0.371429  \n",
       "1                    0.266667  \n",
       "2                    0.104762  \n",
       "3                    0.104762  \n",
       "4                    0.619048  \n",
       "5                    0.085714  \n",
       "6                    0.314286  \n",
       "7                    0.200000  \n",
       "8                    0.209524  \n",
       "9                    0.266667  \n",
       "10                   0.923810  \n",
       "11                   0.923810  \n",
       "12                   0.161905  \n",
       "13                   0.114286  \n",
       "14                   0.009524  \n",
       "15                   0.009524  \n",
       "16                   0.009524  \n",
       "17                   0.076190  \n",
       "18                   0.238095  \n",
       "19                   0.009524  \n",
       "20                   0.323810  \n",
       "21                   0.428571  \n",
       "22                   0.257143  \n",
       "23                   0.085714  \n",
       "24                   0.009524  \n",
       "25                   0.142857  \n",
       "26                   0.447619  \n",
       "27                   0.009524  \n",
       "28                   0.171429  \n",
       "29                   0.009524  \n",
       "...                       ...  \n",
       "44415                0.114286  \n",
       "44416                0.295238  \n",
       "44417                0.285714  \n",
       "44418                0.276190  \n",
       "44419                0.200000  \n",
       "44420                0.380952  \n",
       "44421                0.123810  \n",
       "44422                0.419048  \n",
       "44423                0.238095  \n",
       "44424                0.161905  \n",
       "44425                0.304762  \n",
       "44426                0.285714  \n",
       "44427                0.019048  \n",
       "44428                0.209524  \n",
       "44429                0.104762  \n",
       "44430                0.457143  \n",
       "44431                0.771429  \n",
       "44432                0.295238  \n",
       "44433                0.409524  \n",
       "44434                0.457143  \n",
       "44435                0.476190  \n",
       "44436                0.419048  \n",
       "44437                0.771429  \n",
       "44438                0.457143  \n",
       "44439                0.457143  \n",
       "44440                0.457143  \n",
       "44441                0.457143  \n",
       "44442                0.457143  \n",
       "44443                0.352381  \n",
       "44444                0.247619  \n",
       "\n",
       "[44445 rows x 5 columns]"
      ]
     },
     "execution_count": 32,
     "metadata": {},
     "output_type": "execute_result"
    }
   ],
   "source": [
    "eaf"
   ]
  },
  {
   "cell_type": "code",
   "execution_count": 33,
   "metadata": {},
   "outputs": [
    {
     "data": {
      "text/plain": [
       "{0: 0.6285714285714286,\n",
       " 1: 0.7333333333333333,\n",
       " 2: 0.8952380952380953,\n",
       " 3: 0.8952380952380953,\n",
       " 4: 0.38095238095238093,\n",
       " 5: 0.9142857142857143,\n",
       " 6: 0.6857142857142857,\n",
       " 7: 0.8,\n",
       " 8: 0.7904761904761904,\n",
       " 9: 0.7333333333333333,\n",
       " 10: 0.0761904761904762,\n",
       " 11: 0.0761904761904762,\n",
       " 12: 0.8380952380952381,\n",
       " 13: 0.8857142857142857,\n",
       " 14: 0.9904761904761905,\n",
       " 15: 0.9904761904761905,\n",
       " 16: 0.9904761904761905,\n",
       " 17: 0.9238095238095239,\n",
       " 18: 0.7619047619047619,\n",
       " 19: 0.9904761904761905,\n",
       " 20: 0.6761904761904762,\n",
       " 21: 0.5714285714285714,\n",
       " 22: 0.7428571428571429,\n",
       " 23: 0.9142857142857143,\n",
       " 24: 0.9904761904761905,\n",
       " 25: 0.8571428571428571,\n",
       " 26: 0.5523809523809524,\n",
       " 27: 0.9904761904761905,\n",
       " 28: 0.8285714285714286,\n",
       " 29: 0.9904761904761905,\n",
       " 30: 0.819047619047619,\n",
       " 31: 0.780952380952381,\n",
       " 32: 0.5333333333333333,\n",
       " 33: 0.9333333333333333,\n",
       " 34: 0.6666666666666666,\n",
       " 35: 0.9142857142857143,\n",
       " 36: 0.638095238095238,\n",
       " 37: 0.13333333333333333,\n",
       " 38: 0.580952380952381,\n",
       " 39: 0.8380952380952381,\n",
       " 40: 0.580952380952381,\n",
       " 41: 0.6095238095238096,\n",
       " 42: 0.6666666666666666,\n",
       " 43: 0.6666666666666666,\n",
       " 44: 0.6666666666666666,\n",
       " 45: 0.8571428571428571,\n",
       " 46: 0.8476190476190476,\n",
       " 47: 0.5904761904761905,\n",
       " 48: 0.6666666666666666,\n",
       " 49: 0.7619047619047619,\n",
       " 50: 0.8380952380952381,\n",
       " 51: 0.6857142857142857,\n",
       " 52: 0.7047619047619048,\n",
       " 53: 0.9904761904761905,\n",
       " 54: 0.8761904761904762,\n",
       " 55: 0.6666666666666666,\n",
       " 56: 0.638095238095238,\n",
       " 57: 0.9904761904761905,\n",
       " 58: 0.5714285714285714,\n",
       " 59: 0.8571428571428571,\n",
       " 60: 0.6095238095238096,\n",
       " 61: 0.9333333333333333,\n",
       " 62: 0.8476190476190476,\n",
       " 63: 0.8666666666666667,\n",
       " 64: 0.6,\n",
       " 65: 0.6190476190476191,\n",
       " 66: 0.5904761904761905,\n",
       " 67: 0.6857142857142857,\n",
       " 68: 0.6285714285714286,\n",
       " 69: 0.4095238095238095,\n",
       " 70: 0.5428571428571428,\n",
       " 71: 0.7428571428571429,\n",
       " 72: 0.580952380952381,\n",
       " 73: 0.8476190476190476,\n",
       " 74: 0.9238095238095239,\n",
       " 75: 0.780952380952381,\n",
       " 76: 0.8666666666666667,\n",
       " 77: 0.6095238095238096,\n",
       " 78: 0.5714285714285714,\n",
       " 79: 0.9238095238095239,\n",
       " 80: 0.6952380952380952,\n",
       " 81: 0.5904761904761905,\n",
       " 82: 0.6857142857142857,\n",
       " 83: 0.8095238095238095,\n",
       " 84: 0.8285714285714286,\n",
       " 85: 0.3047619047619048,\n",
       " 86: 0.7428571428571429,\n",
       " 87: 0.7428571428571429,\n",
       " 88: 0.8857142857142857,\n",
       " 89: 0.7428571428571429,\n",
       " 90: 0.6476190476190476,\n",
       " 91: 0.7333333333333333,\n",
       " 92: 0.6571428571428571,\n",
       " 93: 0.6095238095238096,\n",
       " 94: 0.9904761904761905,\n",
       " 95: 0.7714285714285715,\n",
       " 96: 0.4666666666666667,\n",
       " 97: 0.638095238095238,\n",
       " 98: 0.9904761904761905,\n",
       " 99: 0.580952380952381,\n",
       " 100: 0.7333333333333333,\n",
       " 101: 0.5619047619047619,\n",
       " 102: 0.6476190476190476,\n",
       " 103: 0.7333333333333333,\n",
       " 104: 0.5238095238095238,\n",
       " 105: 0.8857142857142857,\n",
       " 106: 0.47619047619047616,\n",
       " 107: 0.5523809523809524,\n",
       " 108: 0.6,\n",
       " 109: 0.5714285714285714,\n",
       " 110: 0.5619047619047619,\n",
       " 111: 0.5714285714285714,\n",
       " 112: 0.6285714285714286,\n",
       " 113: 0.8476190476190476,\n",
       " 114: 0.5238095238095238,\n",
       " 115: 0.37142857142857144,\n",
       " 116: 0.7428571428571429,\n",
       " 117: 0.5333333333333333,\n",
       " 118: 0.638095238095238,\n",
       " 119: 0.7904761904761904,\n",
       " 120: 0.6190476190476191,\n",
       " 121: 0.6952380952380952,\n",
       " 122: 0.6666666666666666,\n",
       " 123: 0.5523809523809524,\n",
       " 124: 0.6761904761904762,\n",
       " 125: 0.8095238095238095,\n",
       " 126: 0.6571428571428571,\n",
       " 127: 0.9904761904761905,\n",
       " 128: 0.8285714285714286,\n",
       " 129: 0.8095238095238095,\n",
       " 130: 0.7238095238095238,\n",
       " 131: 0.6285714285714286,\n",
       " 132: 0.819047619047619,\n",
       " 133: 0.9142857142857143,\n",
       " 134: 0.7333333333333333,\n",
       " 135: 0.9619047619047619,\n",
       " 136: 0.9523809523809523,\n",
       " 137: 0.5333333333333333,\n",
       " 138: 0.9619047619047619,\n",
       " 139: 0.6476190476190476,\n",
       " 140: 0.9714285714285714,\n",
       " 141: 0.4666666666666667,\n",
       " 142: 0.9047619047619048,\n",
       " 143: 0.9904761904761905,\n",
       " 144: 0.819047619047619,\n",
       " 145: 0.8952380952380953,\n",
       " 146: 0.7619047619047619,\n",
       " 147: 0.8952380952380953,\n",
       " 148: 0.8857142857142857,\n",
       " 149: 0.5047619047619047,\n",
       " 150: 0.5047619047619047,\n",
       " 151: 0.7333333333333333,\n",
       " 152: 0.6476190476190476,\n",
       " 153: 0.5619047619047619,\n",
       " 154: 0.6190476190476191,\n",
       " 155: 0.9428571428571428,\n",
       " 156: 0.6285714285714286,\n",
       " 157: 0.8952380952380953,\n",
       " 158: 0.8761904761904762,\n",
       " 159: 0.6761904761904762,\n",
       " 160: 0.6190476190476191,\n",
       " 161: 0.6666666666666666,\n",
       " 162: 0.6476190476190476,\n",
       " 163: 0.6285714285714286,\n",
       " 164: 0.6476190476190476,\n",
       " 165: 0.9904761904761905,\n",
       " 166: 0.9904761904761905,\n",
       " 167: 0.8857142857142857,\n",
       " 168: 0.5142857142857142,\n",
       " 169: 0.8761904761904762,\n",
       " 170: 0.6,\n",
       " 171: 0.8571428571428571,\n",
       " 172: 0.5904761904761905,\n",
       " 173: 0.2571428571428571,\n",
       " 174: 0.5523809523809524,\n",
       " 175: 0.5619047619047619,\n",
       " 176: 0.5523809523809524,\n",
       " 177: 0.7428571428571429,\n",
       " 178: 0.7714285714285715,\n",
       " 179: 0.8285714285714286,\n",
       " 180: 0.7523809523809524,\n",
       " 181: 0.7047619047619048,\n",
       " 182: 0.5904761904761905,\n",
       " 183: 0.14285714285714285,\n",
       " 184: 0.9142857142857143,\n",
       " 185: 0.5619047619047619,\n",
       " 186: 0.8285714285714286,\n",
       " 187: 0.8380952380952381,\n",
       " 188: 0.6,\n",
       " 189: 0.6,\n",
       " 190: 0.5904761904761905,\n",
       " 191: 0.9428571428571428,\n",
       " 192: 0.6095238095238096,\n",
       " 193: 0.8761904761904762,\n",
       " 194: 0.8761904761904762,\n",
       " 195: 0.7333333333333333,\n",
       " 196: 0.5714285714285714,\n",
       " 197: 0.7142857142857143,\n",
       " 198: 0.8571428571428571,\n",
       " 199: 0.7047619047619048,\n",
       " 200: 0.6857142857142857,\n",
       " 201: 0.9333333333333333,\n",
       " 202: 0.780952380952381,\n",
       " 203: 0.8571428571428571,\n",
       " 204: 0.9047619047619048,\n",
       " 205: 0.7714285714285715,\n",
       " 206: 0.9904761904761905,\n",
       " 207: 0.7904761904761904,\n",
       " 208: 0.9904761904761905,\n",
       " 209: 0.6666666666666666,\n",
       " 210: 0.9904761904761905,\n",
       " 211: 0.6761904761904762,\n",
       " 212: 0.9904761904761905,\n",
       " 213: 0.9333333333333333,\n",
       " 214: 0.6857142857142857,\n",
       " 215: 0.9428571428571428,\n",
       " 216: 0.7142857142857143,\n",
       " 217: 0.6571428571428571,\n",
       " 218: 0.6666666666666666,\n",
       " 219: 0.7047619047619048,\n",
       " 220: 0.9619047619047619,\n",
       " 221: 0.44761904761904764,\n",
       " 222: 0.7904761904761904,\n",
       " 223: 0.580952380952381,\n",
       " 224: 0.6761904761904762,\n",
       " 225: 0.5238095238095238,\n",
       " 226: 0.6666666666666666,\n",
       " 227: 0.6857142857142857,\n",
       " 228: 0.7142857142857143,\n",
       " 229: 0.8761904761904762,\n",
       " 230: 0.8666666666666667,\n",
       " 231: 0.6285714285714286,\n",
       " 232: 0.2857142857142857,\n",
       " 233: 0.580952380952381,\n",
       " 234: 0.2857142857142857,\n",
       " 235: 0.6,\n",
       " 236: 0.8666666666666667,\n",
       " 237: 0.9047619047619048,\n",
       " 238: 0.5238095238095238,\n",
       " 239: 0.9714285714285714,\n",
       " 240: 0.8571428571428571,\n",
       " 241: 0.9047619047619048,\n",
       " 242: 0.2857142857142857,\n",
       " 243: 0.6952380952380952,\n",
       " 244: 0.6666666666666666,\n",
       " 245: 0.6952380952380952,\n",
       " 246: 0.8952380952380953,\n",
       " 247: 0.6095238095238096,\n",
       " 248: 0.9333333333333333,\n",
       " 249: 0.638095238095238,\n",
       " 250: 0.6571428571428571,\n",
       " 251: 0.9333333333333333,\n",
       " 252: 0.7047619047619048,\n",
       " 253: 0.5238095238095238,\n",
       " 254: 0.819047619047619,\n",
       " 255: 0.580952380952381,\n",
       " 256: 0.9904761904761905,\n",
       " 257: 0.6761904761904762,\n",
       " 258: 0.9904761904761905,\n",
       " 259: 0.7047619047619048,\n",
       " 260: 0.9904761904761905,\n",
       " 261: 0.5714285714285714,\n",
       " 262: 0.4857142857142857,\n",
       " 263: 0.7523809523809524,\n",
       " 264: 0.8,\n",
       " 265: 0.5904761904761905,\n",
       " 266: 0.49523809523809526,\n",
       " 267: 0.7333333333333333,\n",
       " 268: 0.7333333333333333,\n",
       " 269: 0.7333333333333333,\n",
       " 270: 0.47619047619047616,\n",
       " 271: 0.5714285714285714,\n",
       " 272: 0.6666666666666666,\n",
       " 273: 0.6,\n",
       " 274: 0.6857142857142857,\n",
       " 275: 0.9904761904761905,\n",
       " 276: 0.9904761904761905,\n",
       " 277: 0.9619047619047619,\n",
       " 278: 0.638095238095238,\n",
       " 279: 0.7619047619047619,\n",
       " 280: 0.9904761904761905,\n",
       " 281: 0.7047619047619048,\n",
       " 282: 0.8571428571428571,\n",
       " 283: 0.11428571428571428,\n",
       " 284: 0.7047619047619048,\n",
       " 285: 0.5333333333333333,\n",
       " 286: 0.5523809523809524,\n",
       " 287: 0.5333333333333333,\n",
       " 288: 0.6285714285714286,\n",
       " 289: 0.6095238095238096,\n",
       " 290: 0.8666666666666667,\n",
       " 291: 0.6476190476190476,\n",
       " 292: 0.8761904761904762,\n",
       " 293: 0.7047619047619048,\n",
       " 294: 0.638095238095238,\n",
       " 295: 0.7333333333333333,\n",
       " 296: 0.7142857142857143,\n",
       " 297: 0.8285714285714286,\n",
       " 298: 0.7047619047619048,\n",
       " 299: 0.819047619047619,\n",
       " 300: 0.6476190476190476,\n",
       " 301: 0.6,\n",
       " 302: 0.7238095238095238,\n",
       " 303: 0.7047619047619048,\n",
       " 304: 0.5428571428571428,\n",
       " 305: 0.9142857142857143,\n",
       " 306: 0.7523809523809524,\n",
       " 307: 0.6857142857142857,\n",
       " 308: 0.6,\n",
       " 309: 0.6,\n",
       " 310: 0.5714285714285714,\n",
       " 311: 0.8952380952380953,\n",
       " 312: 0.5714285714285714,\n",
       " 313: 0.580952380952381,\n",
       " 314: 0.819047619047619,\n",
       " 315: 0.8095238095238095,\n",
       " 316: 0.6190476190476191,\n",
       " 317: 0.8,\n",
       " 318: 0.6857142857142857,\n",
       " 319: 0.9904761904761905,\n",
       " 320: 0.9428571428571428,\n",
       " 321: 0.7047619047619048,\n",
       " 322: 0.7428571428571429,\n",
       " 323: 0.6571428571428571,\n",
       " 324: 0.6666666666666666,\n",
       " 325: 0.9904761904761905,\n",
       " 326: 0.8761904761904762,\n",
       " 327: 0.9333333333333333,\n",
       " 328: 0.638095238095238,\n",
       " 329: 0.5333333333333333,\n",
       " 330: 0.8285714285714286,\n",
       " 331: 0.7333333333333333,\n",
       " 332: 0.9619047619047619,\n",
       " 333: 0.5238095238095238,\n",
       " 334: 0.6952380952380952,\n",
       " 335: 0.9523809523809523,\n",
       " 336: 0.5047619047619047,\n",
       " 337: 0.7619047619047619,\n",
       " 338: 0.9714285714285714,\n",
       " 339: 0.5904761904761905,\n",
       " 340: 0.9238095238095239,\n",
       " 341: 0.7333333333333333,\n",
       " 342: 0.6476190476190476,\n",
       " 343: 0.6952380952380952,\n",
       " 344: 0.7619047619047619,\n",
       " 345: 0.4857142857142857,\n",
       " 346: 0.47619047619047616,\n",
       " 347: 0.7047619047619048,\n",
       " 348: 0.6761904761904762,\n",
       " 349: 0.7523809523809524,\n",
       " 350: 0.26666666666666666,\n",
       " 351: 0.5333333333333333,\n",
       " 352: 0.580952380952381,\n",
       " 353: 0.6476190476190476,\n",
       " 354: 0.9904761904761905,\n",
       " 355: 0.06666666666666667,\n",
       " 356: 0.5619047619047619,\n",
       " 357: 0.9714285714285714,\n",
       " 358: 0.5523809523809524,\n",
       " 359: 0.9619047619047619,\n",
       " 360: 0.9428571428571428,\n",
       " 361: 0.9523809523809523,\n",
       " 362: 0.9047619047619048,\n",
       " 363: 0.6952380952380952,\n",
       " 364: 0.4857142857142857,\n",
       " 365: 0.6,\n",
       " 366: 0.5523809523809524,\n",
       " 367: 0.8380952380952381,\n",
       " 368: 0.819047619047619,\n",
       " 369: 0.819047619047619,\n",
       " 370: 0.8,\n",
       " 371: 0.9428571428571428,\n",
       " 372: 0.7714285714285715,\n",
       " 373: 0.8857142857142857,\n",
       " 374: 0.8,\n",
       " 375: 0.7238095238095238,\n",
       " 376: 0.6,\n",
       " 377: 0.6761904761904762,\n",
       " 378: 0.3619047619047619,\n",
       " 379: 0.8285714285714286,\n",
       " 380: 0.3047619047619048,\n",
       " 381: 0.8761904761904762,\n",
       " 382: 0.47619047619047616,\n",
       " 383: 0.8476190476190476,\n",
       " 384: 0.8666666666666667,\n",
       " 385: 0.7238095238095238,\n",
       " 386: 0.5619047619047619,\n",
       " 387: 0.6666666666666666,\n",
       " 388: 0.8285714285714286,\n",
       " 389: 0.8285714285714286,\n",
       " 390: 0.8952380952380953,\n",
       " 391: 0.6095238095238096,\n",
       " 392: 0.8,\n",
       " 393: 0.047619047619047616,\n",
       " 394: 0.6761904761904762,\n",
       " 395: 0.9714285714285714,\n",
       " 396: 0.9904761904761905,\n",
       " 397: 0.5714285714285714,\n",
       " 398: 0.9904761904761905,\n",
       " 399: 0.6857142857142857,\n",
       " 400: 0.819047619047619,\n",
       " 401: 0.9904761904761905,\n",
       " 402: 0.7619047619047619,\n",
       " 403: 0.9238095238095239,\n",
       " 404: 0.9904761904761905,\n",
       " 405: 0.9904761904761905,\n",
       " 406: 0.8857142857142857,\n",
       " 407: 0.9047619047619048,\n",
       " 408: 0.7619047619047619,\n",
       " 409: 0.5714285714285714,\n",
       " 410: 0.9809523809523809,\n",
       " 411: 0.7428571428571429,\n",
       " 412: 0.8761904761904762,\n",
       " 413: 0.6761904761904762,\n",
       " 414: 0.6571428571428571,\n",
       " 415: 0.9047619047619048,\n",
       " 416: 0.9333333333333333,\n",
       " 417: 0.9333333333333333,\n",
       " 418: 0.7333333333333333,\n",
       " 419: 0.580952380952381,\n",
       " 420: 0.638095238095238,\n",
       " 421: 0.5904761904761905,\n",
       " 422: 0.6190476190476191,\n",
       " 423: 0.3047619047619048,\n",
       " 424: 0.580952380952381,\n",
       " 425: 0.8476190476190476,\n",
       " 426: 0.18095238095238095,\n",
       " 427: 0.6095238095238096,\n",
       " 428: 0.6190476190476191,\n",
       " 429: 0.7047619047619048,\n",
       " 430: 0.819047619047619,\n",
       " 431: 0.8095238095238095,\n",
       " 432: 0.8095238095238095,\n",
       " 433: 0.9333333333333333,\n",
       " 434: 0.8476190476190476,\n",
       " 435: 0.5619047619047619,\n",
       " 436: 0.9904761904761905,\n",
       " 437: 0.638095238095238,\n",
       " 438: 0.6476190476190476,\n",
       " 439: 0.7428571428571429,\n",
       " 440: 0.7142857142857143,\n",
       " 441: 0.7333333333333333,\n",
       " 442: 0.7142857142857143,\n",
       " 443: 0.7047619047619048,\n",
       " 444: 0.21904761904761905,\n",
       " 445: 0.7142857142857143,\n",
       " 446: 0.5333333333333333,\n",
       " 447: 0.7047619047619048,\n",
       " 448: 0.9904761904761905,\n",
       " 449: 0.8,\n",
       " 450: 0.819047619047619,\n",
       " 451: 0.6,\n",
       " 452: 0.8666666666666667,\n",
       " 453: 0.5619047619047619,\n",
       " 454: 0.5714285714285714,\n",
       " 455: 0.5714285714285714,\n",
       " 456: 0.6,\n",
       " 457: 0.9714285714285714,\n",
       " 458: 0.4857142857142857,\n",
       " 459: 0.6476190476190476,\n",
       " 460: 0.8476190476190476,\n",
       " 461: 0.5714285714285714,\n",
       " 462: 0.7047619047619048,\n",
       " 463: 0.5904761904761905,\n",
       " 464: 0.6666666666666666,\n",
       " 465: 0.5238095238095238,\n",
       " 466: 0.24761904761904763,\n",
       " 467: 0.6952380952380952,\n",
       " 468: 0.5904761904761905,\n",
       " 469: 0.6,\n",
       " 470: 0.7142857142857143,\n",
       " 471: 0.06666666666666667,\n",
       " 472: 0.6571428571428571,\n",
       " 473: 0.9047619047619048,\n",
       " 474: 0.5333333333333333,\n",
       " 475: 0.7428571428571429,\n",
       " 476: 0.7428571428571429,\n",
       " 477: 0.5238095238095238,\n",
       " 478: 0.6,\n",
       " 479: 0.8666666666666667,\n",
       " 480: 0.638095238095238,\n",
       " 481: 0.6571428571428571,\n",
       " 482: 0.6761904761904762,\n",
       " 483: 0.6761904761904762,\n",
       " 484: 0.6761904761904762,\n",
       " 485: 0.6571428571428571,\n",
       " 486: 0.9904761904761905,\n",
       " 487: 0.9047619047619048,\n",
       " 488: 0.9904761904761905,\n",
       " 489: 0.6571428571428571,\n",
       " 490: 0.6666666666666666,\n",
       " 491: 0.5047619047619047,\n",
       " 492: 0.9904761904761905,\n",
       " 493: 0.9142857142857143,\n",
       " 494: 0.5523809523809524,\n",
       " 495: 0.7523809523809524,\n",
       " 496: 0.5142857142857142,\n",
       " 497: 0.6095238095238096,\n",
       " 498: 0.7428571428571429,\n",
       " 499: 0.6857142857142857,\n",
       " 500: 0.780952380952381,\n",
       " 501: 0.5714285714285714,\n",
       " 502: 0.8,\n",
       " 503: 0.7714285714285715,\n",
       " 504: 0.819047619047619,\n",
       " 505: 0.9238095238095239,\n",
       " 506: 0.8666666666666667,\n",
       " 507: 0.8857142857142857,\n",
       " 508: 0.6285714285714286,\n",
       " 509: 0.5333333333333333,\n",
       " 510: 0.5904761904761905,\n",
       " 511: 0.7238095238095238,\n",
       " 512: 0.6476190476190476,\n",
       " 513: 0.6761904761904762,\n",
       " 514: 0.6190476190476191,\n",
       " 515: 0.819047619047619,\n",
       " 516: 0.7523809523809524,\n",
       " 517: 0.6476190476190476,\n",
       " 518: 0.6190476190476191,\n",
       " 519: 0.6095238095238096,\n",
       " 520: 0.7142857142857143,\n",
       " 521: 0.7619047619047619,\n",
       " 522: 0.6095238095238096,\n",
       " 523: 0.4,\n",
       " 524: 0.9523809523809523,\n",
       " 525: 0.9523809523809523,\n",
       " 526: 0.8857142857142857,\n",
       " 527: 0.9714285714285714,\n",
       " 528: 0.7047619047619048,\n",
       " 529: 0.9619047619047619,\n",
       " 530: 0.9619047619047619,\n",
       " 531: 0.6571428571428571,\n",
       " 532: 0.5714285714285714,\n",
       " 533: 0.5333333333333333,\n",
       " 534: 0.5333333333333333,\n",
       " 535: 0.8095238095238095,\n",
       " 536: 0.9619047619047619,\n",
       " 537: 0.5238095238095238,\n",
       " 538: 0.5714285714285714,\n",
       " 539: 0.7047619047619048,\n",
       " 540: 0.6095238095238096,\n",
       " 541: 0.5619047619047619,\n",
       " 542: 0.6095238095238096,\n",
       " 543: 0.6761904761904762,\n",
       " 544: 0.7142857142857143,\n",
       " 545: 0.6857142857142857,\n",
       " 546: 0.6666666666666666,\n",
       " 547: 0.8857142857142857,\n",
       " 548: 0.5619047619047619,\n",
       " 549: 0.638095238095238,\n",
       " 550: 0.0380952380952381,\n",
       " 551: 0.1619047619047619,\n",
       " 552: 0.9809523809523809,\n",
       " 553: 0.9714285714285714,\n",
       " 554: 0.0761904761904762,\n",
       " 555: 0.7333333333333333,\n",
       " 556: 0.6857142857142857,\n",
       " 557: 0.9523809523809523,\n",
       " 558: 0.9523809523809523,\n",
       " 559: 0.8571428571428571,\n",
       " 560: 0.8095238095238095,\n",
       " 561: 0.6095238095238096,\n",
       " 562: 0.7523809523809524,\n",
       " 563: 0.7619047619047619,\n",
       " 564: 0.9904761904761905,\n",
       " 565: 0.5714285714285714,\n",
       " 566: 0.7047619047619048,\n",
       " 567: 0.5333333333333333,\n",
       " 568: 0.9904761904761905,\n",
       " 569: 0.7142857142857143,\n",
       " 570: 0.638095238095238,\n",
       " 571: 0.638095238095238,\n",
       " 572: 0.9619047619047619,\n",
       " 573: 0.6095238095238096,\n",
       " 574: 0.9809523809523809,\n",
       " 575: 0.580952380952381,\n",
       " 576: 0.6476190476190476,\n",
       " 577: 0.5619047619047619,\n",
       " 578: 0.819047619047619,\n",
       " 579: 1.0,\n",
       " 580: 0.580952380952381,\n",
       " 581: 0.6761904761904762,\n",
       " 582: 0.8857142857142857,\n",
       " 583: 0.5714285714285714,\n",
       " 584: 0.5714285714285714,\n",
       " 585: 0.5904761904761905,\n",
       " 586: 0.5904761904761905,\n",
       " 587: 0.38095238095238093,\n",
       " 588: 0.8,\n",
       " 589: 0.8952380952380953,\n",
       " 590: 0.6,\n",
       " 591: 0.7142857142857143,\n",
       " 592: 0.7047619047619048,\n",
       " 593: 0.7142857142857143,\n",
       " 594: 0.638095238095238,\n",
       " 595: 0.6571428571428571,\n",
       " 596: 0.7714285714285715,\n",
       " 597: 0.638095238095238,\n",
       " 598: 0.6952380952380952,\n",
       " 599: 0.4666666666666667,\n",
       " 600: 0.5714285714285714,\n",
       " 601: 0.5904761904761905,\n",
       " 602: 0.41904761904761906,\n",
       " 603: 0.9047619047619048,\n",
       " 604: 0.6285714285714286,\n",
       " 605: 0.5904761904761905,\n",
       " 606: 0.5238095238095238,\n",
       " 607: 0.7619047619047619,\n",
       " 608: 0.7619047619047619,\n",
       " 609: 0.9904761904761905,\n",
       " 610: 0.8380952380952381,\n",
       " 611: 0.7523809523809524,\n",
       " 612: 0.7619047619047619,\n",
       " 613: 0.7619047619047619,\n",
       " 614: 0.9714285714285714,\n",
       " 615: 0.09523809523809523,\n",
       " 616: 0.8,\n",
       " 617: 0.7142857142857143,\n",
       " 618: 0.7904761904761904,\n",
       " 619: 0.7619047619047619,\n",
       " 620: 0.6666666666666666,\n",
       " 621: 0.6761904761904762,\n",
       " 622: 0.3904761904761905,\n",
       " 623: 0.6761904761904762,\n",
       " 624: 0.6761904761904762,\n",
       " 625: 0.8,\n",
       " 626: 0.6666666666666666,\n",
       " 627: 0.6857142857142857,\n",
       " 628: 0.6666666666666666,\n",
       " 629: 0.580952380952381,\n",
       " 630: 0.6095238095238096,\n",
       " 631: 0.5333333333333333,\n",
       " 632: 0.8095238095238095,\n",
       " 633: 0.819047619047619,\n",
       " 634: 0.5238095238095238,\n",
       " 635: 0.5238095238095238,\n",
       " 636: 0.8,\n",
       " 637: 0.8,\n",
       " 638: 0.6857142857142857,\n",
       " 639: 0.7904761904761904,\n",
       " 640: 0.7523809523809524,\n",
       " 641: 0.6666666666666666,\n",
       " 642: 0.638095238095238,\n",
       " 643: 0.638095238095238,\n",
       " 644: 0.9333333333333333,\n",
       " 645: 0.45714285714285713,\n",
       " 646: 0.9142857142857143,\n",
       " 647: 0.9238095238095239,\n",
       " 648: 0.6190476190476191,\n",
       " 649: 0.6666666666666666,\n",
       " 650: 0.6666666666666666,\n",
       " 651: 0.6571428571428571,\n",
       " 652: 0.6666666666666666,\n",
       " 653: 0.7142857142857143,\n",
       " 654: 0.7714285714285715,\n",
       " 655: 0.7047619047619048,\n",
       " 656: 0.7904761904761904,\n",
       " 657: 0.9523809523809523,\n",
       " 658: 0.5904761904761905,\n",
       " 659: 0.9904761904761905,\n",
       " 660: 0.8380952380952381,\n",
       " 661: 0.9047619047619048,\n",
       " 662: 0.8761904761904762,\n",
       " 663: 0.6952380952380952,\n",
       " 664: 0.21904761904761905,\n",
       " 665: 0.638095238095238,\n",
       " 666: 0.6,\n",
       " 667: 0.6857142857142857,\n",
       " 668: 0.7238095238095238,\n",
       " 669: 0.7714285714285715,\n",
       " 670: 0.6095238095238096,\n",
       " 671: 0.9714285714285714,\n",
       " 672: 0.9904761904761905,\n",
       " 673: 0.9904761904761905,\n",
       " 674: 0.9428571428571428,\n",
       " 675: 0.7238095238095238,\n",
       " 676: 0.5047619047619047,\n",
       " 677: 0.5904761904761905,\n",
       " 678: 0.6285714285714286,\n",
       " 679: 0.6285714285714286,\n",
       " 680: 0.5619047619047619,\n",
       " 681: 0.5238095238095238,\n",
       " 682: 0.8952380952380953,\n",
       " 683: 0.7619047619047619,\n",
       " 684: 0.45714285714285713,\n",
       " 685: 0.780952380952381,\n",
       " 686: 0.5714285714285714,\n",
       " 687: 0.819047619047619,\n",
       " 688: 0.6190476190476191,\n",
       " 689: 0.7714285714285715,\n",
       " 690: 0.8,\n",
       " 691: 0.7523809523809524,\n",
       " 692: 0.7428571428571429,\n",
       " 693: 0.8571428571428571,\n",
       " 694: 0.5333333333333333,\n",
       " 695: 0.6285714285714286,\n",
       " 696: 0.5904761904761905,\n",
       " 697: 0.6666666666666666,\n",
       " 698: 0.6761904761904762,\n",
       " 699: 0.819047619047619,\n",
       " 700: 0.9428571428571428,\n",
       " 701: 0.6666666666666666,\n",
       " 702: 0.580952380952381,\n",
       " 703: 0.9333333333333333,\n",
       " 704: 0.580952380952381,\n",
       " 705: 0.5619047619047619,\n",
       " 706: 0.5904761904761905,\n",
       " 707: 0.047619047619047616,\n",
       " 708: 0.9904761904761905,\n",
       " 709: 0.5333333333333333,\n",
       " 710: 0.6285714285714286,\n",
       " 711: 0.8,\n",
       " 712: 0.5714285714285714,\n",
       " 713: 0.8857142857142857,\n",
       " 714: 0.6476190476190476,\n",
       " 715: 0.6190476190476191,\n",
       " 716: 0.4380952380952381,\n",
       " 717: 0.41904761904761906,\n",
       " 718: 0.7142857142857143,\n",
       " 719: 0.5619047619047619,\n",
       " 720: 0.9142857142857143,\n",
       " 721: 0.6190476190476191,\n",
       " 722: 0.6571428571428571,\n",
       " 723: 0.5619047619047619,\n",
       " 724: 0.5238095238095238,\n",
       " 725: 0.2571428571428571,\n",
       " 726: 0.9809523809523809,\n",
       " 727: 0.6761904761904762,\n",
       " 728: 0.819047619047619,\n",
       " 729: 0.6952380952380952,\n",
       " 730: 0.6952380952380952,\n",
       " 731: 0.7238095238095238,\n",
       " 732: 0.7333333333333333,\n",
       " 733: 0.6857142857142857,\n",
       " 734: 0.6857142857142857,\n",
       " 735: 0.9047619047619048,\n",
       " 736: 0.09523809523809523,\n",
       " 737: 0.780952380952381,\n",
       " 738: 0.6190476190476191,\n",
       " 739: 0.4380952380952381,\n",
       " 740: 0.6095238095238096,\n",
       " 741: 0.9333333333333333,\n",
       " 742: 0.6190476190476191,\n",
       " 743: 0.9333333333333333,\n",
       " 744: 0.9333333333333333,\n",
       " 745: 0.6,\n",
       " 746: 0.5619047619047619,\n",
       " 747: 0.9904761904761905,\n",
       " 748: 0.9904761904761905,\n",
       " 749: 0.5523809523809524,\n",
       " 750: 0.9904761904761905,\n",
       " 751: 0.9904761904761905,\n",
       " 752: 0.638095238095238,\n",
       " 753: 0.6476190476190476,\n",
       " 754: 0.7523809523809524,\n",
       " 755: 0.6952380952380952,\n",
       " 756: 0.6476190476190476,\n",
       " 757: 0.6761904761904762,\n",
       " 758: 0.5523809523809524,\n",
       " 759: 0.5619047619047619,\n",
       " 760: 0.5428571428571428,\n",
       " 761: 0.5523809523809524,\n",
       " 762: 0.8571428571428571,\n",
       " 763: 0.8761904761904762,\n",
       " 764: 0.8571428571428571,\n",
       " 765: 0.8476190476190476,\n",
       " 766: 0.819047619047619,\n",
       " 767: 0.9904761904761905,\n",
       " 768: 0.9904761904761905,\n",
       " 769: 0.9904761904761905,\n",
       " 770: 0.638095238095238,\n",
       " 771: 0.6761904761904762,\n",
       " 772: 0.4,\n",
       " 773: 0.4095238095238095,\n",
       " 774: 0.8857142857142857,\n",
       " 775: 0.780952380952381,\n",
       " 776: 0.8571428571428571,\n",
       " 777: 0.8095238095238095,\n",
       " 778: 0.8095238095238095,\n",
       " 779: 0.6666666666666666,\n",
       " 780: 0.6190476190476191,\n",
       " 781: 0.7428571428571429,\n",
       " 782: 0.6761904761904762,\n",
       " 783: 0.8095238095238095,\n",
       " 784: 0.7428571428571429,\n",
       " 785: 0.8095238095238095,\n",
       " 786: 0.8095238095238095,\n",
       " 787: 0.638095238095238,\n",
       " 788: 0.8095238095238095,\n",
       " 789: 0.9238095238095239,\n",
       " 790: 0.5333333333333333,\n",
       " 791: 0.8,\n",
       " 792: 0.7428571428571429,\n",
       " 793: 0.6571428571428571,\n",
       " 794: 0.7047619047619048,\n",
       " 795: 0.819047619047619,\n",
       " 796: 0.6761904761904762,\n",
       " 797: 0.7047619047619048,\n",
       " 798: 0.6571428571428571,\n",
       " 799: 0.6666666666666666,\n",
       " 800: 0.780952380952381,\n",
       " 801: 0.5142857142857142,\n",
       " 802: 0.6666666666666666,\n",
       " 803: 0.638095238095238,\n",
       " 804: 0.8380952380952381,\n",
       " 805: 0.580952380952381,\n",
       " 806: 0.5142857142857142,\n",
       " 807: 0.5619047619047619,\n",
       " 808: 0.5714285714285714,\n",
       " 809: 0.5238095238095238,\n",
       " 810: 0.5428571428571428,\n",
       " 811: 0.6857142857142857,\n",
       " 812: 0.5238095238095238,\n",
       " 813: 0.6857142857142857,\n",
       " 814: 0.7142857142857143,\n",
       " 815: 0.8761904761904762,\n",
       " 816: 0.9047619047619048,\n",
       " 817: 0.7333333333333333,\n",
       " 818: 0.580952380952381,\n",
       " 819: 0.6285714285714286,\n",
       " 820: 0.8380952380952381,\n",
       " 821: 0.8285714285714286,\n",
       " 822: 0.6190476190476191,\n",
       " 823: 0.7523809523809524,\n",
       " 824: 0.6285714285714286,\n",
       " 825: 0.6571428571428571,\n",
       " 826: 0.638095238095238,\n",
       " 827: 0.6285714285714286,\n",
       " 828: 0.7333333333333333,\n",
       " 829: 0.8857142857142857,\n",
       " 830: 0.638095238095238,\n",
       " 831: 0.3238095238095238,\n",
       " 832: 0.638095238095238,\n",
       " 833: 0.638095238095238,\n",
       " 834: 0.6095238095238096,\n",
       " 835: 0.6,\n",
       " 836: 0.5333333333333333,\n",
       " 837: 0.9333333333333333,\n",
       " 838: 0.8761904761904762,\n",
       " 839: 0.7333333333333333,\n",
       " 840: 0.7047619047619048,\n",
       " 841: 0.6571428571428571,\n",
       " 842: 0.7047619047619048,\n",
       " 843: 0.6857142857142857,\n",
       " 844: 0.8,\n",
       " 845: 0.9714285714285714,\n",
       " 846: 0.9904761904761905,\n",
       " 847: 0.9904761904761905,\n",
       " 848: 0.9904761904761905,\n",
       " 849: 0.6761904761904762,\n",
       " 850: 0.8666666666666667,\n",
       " 851: 0.7428571428571429,\n",
       " 852: 0.9809523809523809,\n",
       " 853: 0.6190476190476191,\n",
       " 854: 0.7523809523809524,\n",
       " 855: 0.8285714285714286,\n",
       " 856: 0.6761904761904762,\n",
       " 857: 0.6095238095238096,\n",
       " 858: 0.7428571428571429,\n",
       " 859: 0.7333333333333333,\n",
       " 860: 0.9238095238095239,\n",
       " 861: 0.6952380952380952,\n",
       " 862: 0.6190476190476191,\n",
       " 863: 0.6190476190476191,\n",
       " 864: 0.9619047619047619,\n",
       " 865: 0.6190476190476191,\n",
       " 866: 0.5904761904761905,\n",
       " 867: 0.819047619047619,\n",
       " 868: 0.7428571428571429,\n",
       " 869: 0.8095238095238095,\n",
       " 870: 0.6571428571428571,\n",
       " 871: 0.6761904761904762,\n",
       " 872: 0.6666666666666666,\n",
       " 873: 0.8666666666666667,\n",
       " 874: 0.6857142857142857,\n",
       " 875: 0.6761904761904762,\n",
       " 876: 0.7047619047619048,\n",
       " 877: 0.7142857142857143,\n",
       " 878: 0.7142857142857143,\n",
       " 879: 0.6095238095238096,\n",
       " 880: 0.819047619047619,\n",
       " 881: 0.580952380952381,\n",
       " 882: 0.8,\n",
       " 883: 0.6095238095238096,\n",
       " 884: 0.9238095238095239,\n",
       " 885: 0.26666666666666666,\n",
       " 886: 0.24761904761904763,\n",
       " 887: 0.9238095238095239,\n",
       " 888: 0.9047619047619048,\n",
       " 889: 0.8952380952380953,\n",
       " 890: 0.8476190476190476,\n",
       " 891: 0.8285714285714286,\n",
       " 892: 0.780952380952381,\n",
       " 893: 0.7904761904761904,\n",
       " 894: 0.8857142857142857,\n",
       " 895: 0.9904761904761905,\n",
       " 896: 0.5142857142857142,\n",
       " 897: 0.4857142857142857,\n",
       " 898: 0.8380952380952381,\n",
       " 899: 0.5142857142857142,\n",
       " 900: 0.7047619047619048,\n",
       " 901: 0.6761904761904762,\n",
       " 902: 0.8380952380952381,\n",
       " 903: 0.6095238095238096,\n",
       " 904: 0.49523809523809526,\n",
       " 905: 0.580952380952381,\n",
       " 906: 0.9904761904761905,\n",
       " 907: 0.1523809523809524,\n",
       " 908: 0.5523809523809524,\n",
       " 909: 0.6857142857142857,\n",
       " 910: 0.6095238095238096,\n",
       " 911: 0.6857142857142857,\n",
       " 912: 0.6571428571428571,\n",
       " 913: 0.7714285714285715,\n",
       " 914: 0.9142857142857143,\n",
       " 915: 0.8666666666666667,\n",
       " 916: 0.6476190476190476,\n",
       " 917: 0.6761904761904762,\n",
       " 918: 0.6476190476190476,\n",
       " 919: 0.6095238095238096,\n",
       " 920: 0.780952380952381,\n",
       " 921: 0.8476190476190476,\n",
       " 922: 0.6761904761904762,\n",
       " 923: 0.6095238095238096,\n",
       " 924: 0.6952380952380952,\n",
       " 925: 0.638095238095238,\n",
       " 926: 0.6,\n",
       " 927: 0.6666666666666666,\n",
       " 928: 0.7523809523809524,\n",
       " 929: 0.6476190476190476,\n",
       " 930: 0.5714285714285714,\n",
       " 931: 0.9333333333333333,\n",
       " 932: 0.9904761904761905,\n",
       " 933: 0.5523809523809524,\n",
       " 934: 0.5904761904761905,\n",
       " 935: 0.5904761904761905,\n",
       " 936: 0.7904761904761904,\n",
       " 937: 0.6285714285714286,\n",
       " 938: 0.6952380952380952,\n",
       " 939: 0.9523809523809523,\n",
       " 940: 0.8571428571428571,\n",
       " 941: 0.8285714285714286,\n",
       " 942: 0.8761904761904762,\n",
       " 943: 0.8285714285714286,\n",
       " 944: 0.7523809523809524,\n",
       " 945: 0.7904761904761904,\n",
       " 946: 0.7714285714285715,\n",
       " 947: 0.7428571428571429,\n",
       " 948: 0.7904761904761904,\n",
       " 949: 0.8571428571428571,\n",
       " 950: 0.6190476190476191,\n",
       " 951: 0.819047619047619,\n",
       " 952: 0.7904761904761904,\n",
       " 953: 0.9904761904761905,\n",
       " 954: 0.7904761904761904,\n",
       " 955: 0.7047619047619048,\n",
       " 956: 0.7047619047619048,\n",
       " 957: 0.4,\n",
       " 958: 0.7714285714285715,\n",
       " 959: 0.6095238095238096,\n",
       " 960: 0.6761904761904762,\n",
       " 961: 0.6095238095238096,\n",
       " 962: 0.5904761904761905,\n",
       " 963: 0.8476190476190476,\n",
       " 964: 0.6285714285714286,\n",
       " 965: 0.7904761904761904,\n",
       " 966: 0.7047619047619048,\n",
       " 967: 0.7523809523809524,\n",
       " 968: 0.6095238095238096,\n",
       " 969: 0.7333333333333333,\n",
       " 970: 0.7142857142857143,\n",
       " 971: 0.8,\n",
       " 972: 0.49523809523809526,\n",
       " 973: 0.9428571428571428,\n",
       " 974: 0.780952380952381,\n",
       " 975: 0.3238095238095238,\n",
       " 976: 0.8666666666666667,\n",
       " 977: 0.8666666666666667,\n",
       " 978: 0.8857142857142857,\n",
       " 979: 0.8857142857142857,\n",
       " 980: 0.9714285714285714,\n",
       " 981: 0.9047619047619048,\n",
       " 982: 0.8285714285714286,\n",
       " 983: 0.6190476190476191,\n",
       " 984: 0.7619047619047619,\n",
       " 985: 0.6476190476190476,\n",
       " 986: 0.638095238095238,\n",
       " 987: 0.5904761904761905,\n",
       " 988: 0.6571428571428571,\n",
       " 989: 0.9619047619047619,\n",
       " 990: 0.819047619047619,\n",
       " 991: 0.4095238095238095,\n",
       " 992: 0.7142857142857143,\n",
       " 993: 0.638095238095238,\n",
       " 994: 0.6666666666666666,\n",
       " 995: 0.8666666666666667,\n",
       " 996: 0.9904761904761905,\n",
       " 997: 0.9904761904761905,\n",
       " 998: 0.8380952380952381,\n",
       " 999: 0.6190476190476191,\n",
       " ...}"
      ]
     },
     "execution_count": 33,
     "metadata": {},
     "output_type": "execute_result"
    }
   ],
   "source": [
    "tuson.dvars().homoFreq"
   ]
  },
  {
   "cell_type": "code",
   "execution_count": null,
   "metadata": {
    "collapsed": true
   },
   "outputs": [],
   "source": []
  },
  {
   "cell_type": "code",
   "execution_count": null,
   "metadata": {
    "collapsed": true
   },
   "outputs": [],
   "source": []
  },
  {
   "cell_type": "code",
   "execution_count": null,
   "metadata": {
    "collapsed": true
   },
   "outputs": [],
   "source": [
    "eaf.to_csv('example_allele_frequency_table.txt', sep='\\t')"
   ]
  },
  {
   "cell_type": "code",
   "execution_count": null,
   "metadata": {
    "collapsed": true
   },
   "outputs": [],
   "source": [
    "eaf.to_csv('expanded_tuson_founder_allele_frqs.txt', sep='\\t')"
   ]
  },
  {
   "cell_type": "code",
   "execution_count": 16,
   "metadata": {
    "collapsed": true
   },
   "outputs": [],
   "source": [
    "tuson.addInfoFields(['generation', 'replicate', 'g', 'p'])"
   ]
  },
  {
   "cell_type": "code",
   "execution_count": null,
   "metadata": {
    "collapsed": true
   },
   "outputs": [],
   "source": [
    "tuson.save('working_tuson.pop')"
   ]
  },
  {
   "cell_type": "code",
   "execution_count": null,
   "metadata": {
    "collapsed": true
   },
   "outputs": [],
   "source": [
    "tuson.asPedigree()"
   ]
  },
  {
   "cell_type": "code",
   "execution_count": null,
   "metadata": {
    "collapsed": true
   },
   "outputs": [],
   "source": [
    "tuson.save(\"tuson_pedigree.txt\", infoFields=['g', 'p'], loci=sim.ALL_AVAIL)"
   ]
  },
  {
   "cell_type": "code",
   "execution_count": 17,
   "metadata": {},
   "outputs": [
    {
     "data": {
      "text/plain": [
       "105"
      ]
     },
     "execution_count": 17,
     "metadata": {},
     "output_type": "execute_result"
    }
   ],
   "source": [
    "tuson.popSize()"
   ]
  },
  {
   "cell_type": "code",
   "execution_count": 18,
   "metadata": {},
   "outputs": [
    {
     "ename": "AttributeError",
     "evalue": "'Population' object has no attribute 'asPopulation'",
     "output_type": "error",
     "traceback": [
      "\u001b[1;31m---------------------------------------------------------------------------\u001b[0m",
      "\u001b[1;31mAttributeError\u001b[0m                            Traceback (most recent call last)",
      "\u001b[1;32m<ipython-input-18-f2975c2ee60d>\u001b[0m in \u001b[0;36m<module>\u001b[1;34m()\u001b[0m\n\u001b[1;32m----> 1\u001b[1;33m \u001b[0mtuson\u001b[0m\u001b[1;33m.\u001b[0m\u001b[0masPopulation\u001b[0m\u001b[1;33m(\u001b[0m\u001b[1;33m)\u001b[0m\u001b[1;33m\u001b[0m\u001b[0m\n\u001b[0m",
      "\u001b[1;31mAttributeError\u001b[0m: 'Population' object has no attribute 'asPopulation'"
     ]
    }
   ],
   "source": [
    "tuson.asPopulation()"
   ]
  },
  {
   "cell_type": "markdown",
   "metadata": {},
   "source": [
    "## The Tuson Genetic Map"
   ]
  },
  {
   "cell_type": "code",
   "execution_count": 19,
   "metadata": {
    "collapsed": true
   },
   "outputs": [],
   "source": [
    "def parse_recombination_rates(genetic_map_filename):\n",
    "    \"\"\"\n",
    "    Returns a list of crossover probabilities from a genetic map measured in centimorgans.\n",
    "    \"\"\"\n",
    "    genetic_map = pd.read_csv(genetic_map_filename, sep='\\t', index_col=None)\n",
    "    genetic_map.drop(['locus', 'agpv2', 'namZmPRDA', 'namZmPRDS'], axis=1, inplace=True)\n",
    "    genetic_map = np.array(genetic_map)\n",
    "    recombination_rates = col.OrderedDict()\n",
    "    for i in range(1, len(genetic_map), 1):\n",
    "        if genetic_map[i-1][0] == genetic_map[i][0]:\n",
    "            recombination_rates[i] = np.divide(np.abs(genetic_map[i][1] - genetic_map[i-1][1]), 100)\n",
    "        elif genetic_map[i-1][0] != genetic_map[i][0]:\n",
    "            recombination_rates[i] = 0.0\n",
    "    recombination_rates[len(genetic_map)] = 0.0\n",
    "    return list(recombination_rates.values())\n"
   ]
  },
  {
   "cell_type": "code",
   "execution_count": 20,
   "metadata": {
    "collapsed": true
   },
   "outputs": [],
   "source": [
    "recom_rates = parse_recombination_rates('raw_genetic_map.txt')"
   ]
  },
  {
   "cell_type": "markdown",
   "metadata": {},
   "source": [
    "### Using the parameters.PopulationStructure class"
   ]
  },
  {
   "cell_type": "code",
   "execution_count": 21,
   "metadata": {
    "collapsed": true
   },
   "outputs": [],
   "source": [
    "popst = parameters.PopulationStructure(tuson, 'population_structure_matrix.xlsx', 0.01, 1.0)"
   ]
  },
  {
   "cell_type": "code",
   "execution_count": 22,
   "metadata": {
    "collapsed": true
   },
   "outputs": [],
   "source": [
    "struct_mating_probs = popst.generate_population_structure()"
   ]
  },
  {
   "cell_type": "code",
   "execution_count": 23,
   "metadata": {
    "collapsed": true
   },
   "outputs": [],
   "source": [
    "def format_mating_pmfs(population_structure_dict):\n",
    "    mating_pmfs = {}\n",
    "    for ind, probabilities in population_structure_dict.items():\n",
    "        for i, prob in enumerate(probabilities):\n",
    "            values = []\n",
    "            probabilites = []\n",
    "            for i, prob in enumerate(struct_mating_probs[ind]):\n",
    "                values.append(i)\n",
    "                probabilites.append(prob)\n",
    "            pmf_values = (values, probabilites)\n",
    "            mating_pmfs[ind] = stats.rv_discrete(values=pmf_values)\n",
    "    return mating_pmfs"
   ]
  },
  {
   "cell_type": "code",
   "execution_count": 24,
   "metadata": {
    "collapsed": true
   },
   "outputs": [],
   "source": [
    "formed_mating_pmfs = format_mating_pmfs(struct_mating_probs)"
   ]
  },
  {
   "cell_type": "code",
   "execution_count": 25,
   "metadata": {
    "collapsed": true
   },
   "outputs": [],
   "source": [
    "def assign_primary_subpopulation(pop, struct_mating_probabilities):\n",
    "    primary_subpop = {}\n",
    "    for ind_id, inheritance_proportions in struct_mating_probabilities.items():\n",
    "        primary_subpop[ind_id] = float(np.argmax(inheritance_proportions))\n",
    "    for ind in pop.individuals():\n",
    "        ind.primary = primary_subpop[ind.ind_id]"
   ]
  },
  {
   "cell_type": "code",
   "execution_count": 26,
   "metadata": {
    "collapsed": true
   },
   "outputs": [],
   "source": [
    "assign_primary_subpopulation(tuson, struct_mating_probs)"
   ]
  },
  {
   "cell_type": "code",
   "execution_count": 27,
   "metadata": {
    "collapsed": true
   },
   "outputs": [],
   "source": [
    "tuson.dvars().mating_pmfs = formed_mating_pmfs"
   ]
  },
  {
   "cell_type": "code",
   "execution_count": 28,
   "metadata": {
    "collapsed": true
   },
   "outputs": [],
   "source": [
    "pop_struct_expansion = breed.ForcedPopulationStructureParentChooser(10000, formed_mating_pmfs)"
   ]
  },
  {
   "cell_type": "code",
   "execution_count": 29,
   "metadata": {
    "collapsed": true
   },
   "outputs": [],
   "source": [
    "primary_subpopulation_splitter = sim.InfoSplitter(field='primary',\n",
    "                                                  values=[0.0, 1.0, 2.0, 3.0,\n",
    "                                                          4.0, 5.0])\n",
    "tuson.setVirtualSplitter(primary_subpopulation_splitter)\n"
   ]
  },
  {
   "cell_type": "code",
   "execution_count": 30,
   "metadata": {},
   "outputs": [
    {
     "data": {
      "text/plain": [
       "6"
      ]
     },
     "execution_count": 30,
     "metadata": {},
     "output_type": "execute_result"
    }
   ],
   "source": [
    "tuson.numVirtualSubPop()"
   ]
  },
  {
   "cell_type": "code",
   "execution_count": null,
   "metadata": {
    "collapsed": true
   },
   "outputs": [],
   "source": [
    "columns=['rep', 'gen']"
   ]
  },
  {
   "cell_type": "code",
   "execution_count": null,
   "metadata": {
    "collapsed": true
   },
   "outputs": [],
   "source": []
  },
  {
   "cell_type": "code",
   "execution_count": 31,
   "metadata": {
    "collapsed": true
   },
   "outputs": [],
   "source": [
    "sim.tagID(tuson, reset=False)"
   ]
  },
  {
   "cell_type": "code",
   "execution_count": 32,
   "metadata": {
    "collapsed": true
   },
   "outputs": [],
   "source": [
    "multi_son = sim.Simulator(tuson, rep=5)"
   ]
  },
  {
   "cell_type": "code",
   "execution_count": null,
   "metadata": {
    "collapsed": true
   },
   "outputs": [],
   "source": []
  },
  {
   "cell_type": "code",
   "execution_count": null,
   "metadata": {
    "collapsed": true
   },
   "outputs": [],
   "source": []
  },
  {
   "cell_type": "code",
   "execution_count": 33,
   "metadata": {},
   "outputs": [
    {
     "data": {
      "text/plain": [
       "(1, 1, 1, 1, 1)"
      ]
     },
     "execution_count": 33,
     "metadata": {},
     "output_type": "execute_result"
    }
   ],
   "source": [
    "multi_son.evolve(\n",
    "    matingScheme=sim.HomoMating(\n",
    "        sim.PyParentsChooser(pop_struct_expansion.forced_structure_parent_chooser),\n",
    "        sim.OffspringGenerator(ops=[sim.IdTagger(), sim.ParentsTagger(), sim.PedigreeTagger(),\n",
    "                                   sim.Recombinator(recom_rates)], numOffspring=1),\n",
    "            subPopSize=1000),\n",
    "    gen=1\n",
    ")"
   ]
  },
  {
   "cell_type": "code",
   "execution_count": 34,
   "metadata": {
    "collapsed": true
   },
   "outputs": [],
   "source": [
    "qtl = tuple(sorted(random.sample(range(44445), 30)))"
   ]
  },
  {
   "cell_type": "code",
   "execution_count": 35,
   "metadata": {},
   "outputs": [
    {
     "data": {
      "text/plain": [
       "(27,\n",
       " 601,\n",
       " 3153,\n",
       " 3654,\n",
       " 4569,\n",
       " 5510,\n",
       " 9744,\n",
       " 12734,\n",
       " 13180,\n",
       " 13190,\n",
       " 13251,\n",
       " 14123,\n",
       " 17073,\n",
       " 18635,\n",
       " 21380,\n",
       " 22018,\n",
       " 26310,\n",
       " 27162,\n",
       " 27387,\n",
       " 27478,\n",
       " 27923,\n",
       " 29785,\n",
       " 30515,\n",
       " 32793,\n",
       " 34578,\n",
       " 34766,\n",
       " 34910,\n",
       " 35997,\n",
       " 36467,\n",
       " 41835)"
      ]
     },
     "execution_count": 35,
     "metadata": {},
     "output_type": "execute_result"
    }
   ],
   "source": [
    "qtl"
   ]
  },
  {
   "cell_type": "code",
   "execution_count": 36,
   "metadata": {
    "collapsed": true
   },
   "outputs": [],
   "source": [
    "additive_trait = parameters.Trait()"
   ]
  },
  {
   "cell_type": "code",
   "execution_count": null,
   "metadata": {
    "collapsed": true
   },
   "outputs": [],
   "source": []
  },
  {
   "cell_type": "code",
   "execution_count": 37,
   "metadata": {
    "collapsed": true
   },
   "outputs": [],
   "source": [
    "allele_effects = additive_trait.assign_allele_effects(alleles, qtl, random.expovariate, 1, multiplicity=1)"
   ]
  },
  {
   "cell_type": "code",
   "execution_count": null,
   "metadata": {
    "collapsed": true
   },
   "outputs": [],
   "source": []
  },
  {
   "cell_type": "code",
   "execution_count": null,
   "metadata": {
    "collapsed": true
   },
   "outputs": [],
   "source": []
  },
  {
   "cell_type": "code",
   "execution_count": null,
   "metadata": {
    "collapsed": true
   },
   "outputs": [],
   "source": [
    "import importlib as imp\n",
    "imp.reload(simulate)\n",
    "imp.reload(operators)"
   ]
  },
  {
   "cell_type": "code",
   "execution_count": 38,
   "metadata": {
    "collapsed": true
   },
   "outputs": [],
   "source": [
    "sampling_generations = [i for i in range(2, 10, 2)]"
   ]
  },
  {
   "cell_type": "code",
   "execution_count": 39,
   "metadata": {},
   "outputs": [
    {
     "data": {
      "text/plain": [
       "[2, 4, 6, 8]"
      ]
     },
     "execution_count": 39,
     "metadata": {},
     "output_type": "execute_result"
    }
   ],
   "source": [
    "sampling_generations"
   ]
  },
  {
   "cell_type": "code",
   "execution_count": 40,
   "metadata": {
    "collapsed": true
   },
   "outputs": [],
   "source": [
    "sample_sizes = {i: 100 for i in range(11)}"
   ]
  },
  {
   "cell_type": "code",
   "execution_count": null,
   "metadata": {
    "collapsed": true
   },
   "outputs": [],
   "source": []
  },
  {
   "cell_type": "code",
   "execution_count": 41,
   "metadata": {
    "collapsed": true
   },
   "outputs": [],
   "source": [
    "meta_populations = {rep: [] for rep in range(5)}"
   ]
  },
  {
   "cell_type": "code",
   "execution_count": 42,
   "metadata": {
    "collapsed": true
   },
   "outputs": [],
   "source": [
    "trun = simulate.Truncation(10, 1, 1000, 0.05, 0.50, 5, 0.7, sample_sizes, 1)"
   ]
  },
  {
   "cell_type": "code",
   "execution_count": null,
   "metadata": {
    "collapsed": true
   },
   "outputs": [],
   "source": [
    "def print_pop_sizes(multi_pop):\n",
    "    for pop in multi_pop.populations():\n",
    "        print(pop.popSize())"
   ]
  },
  {
   "cell_type": "code",
   "execution_count": null,
   "metadata": {
    "collapsed": true
   },
   "outputs": [],
   "source": [
    "print_pop_sizes(multi_son)"
   ]
  },
  {
   "cell_type": "code",
   "execution_count": null,
   "metadata": {
    "collapsed": true
   },
   "outputs": [],
   "source": [
    "sample_sizes"
   ]
  },
  {
   "cell_type": "code",
   "execution_count": 43,
   "metadata": {},
   "outputs": [
    {
     "name": "stdout",
     "output_type": "stream",
     "text": [
      "Initial: Sampled 100 individuals from generation 0 Replicate: 0.\n",
      "Initial: Sampled 100 individuals from generation 0 Replicate: 1.\n",
      "Initial: Sampled 100 individuals from generation 0 Replicate: 2.\n",
      "Initial: Sampled 100 individuals from generation 0 Replicate: 3.\n",
      "Initial: Sampled 100 individuals from generation 0 Replicate: 4.\n",
      "Generation: 0\n",
      "Generation: 0\n",
      "Generation: 0\n",
      "Generation: 0\n",
      "Generation: 0\n",
      "Generation: 1\n",
      "Generation: 1\n",
      "Generation: 1\n",
      "Generation: 1\n",
      "Generation: 1\n",
      "Generation: 2\n",
      "Generation: 2\n",
      "Generation: 2\n",
      "Generation: 2\n",
      "Generation: 2\n",
      "Generation: 3\n",
      "Generation: 3\n",
      "Generation: 3\n",
      "Generation: 3\n",
      "Generation: 3\n",
      "Generation: 4\n",
      "Generation: 4\n",
      "Generation: 4\n",
      "Generation: 4\n",
      "Generation: 4\n",
      "Generation: 5\n",
      "Generation: 5\n",
      "Generation: 5\n",
      "Generation: 5\n",
      "Generation: 5\n",
      "Generation: 6\n",
      "Generation: 6\n",
      "Generation: 6\n",
      "Generation: 6\n",
      "Generation: 6\n",
      "Generation: 7\n",
      "Generation: 7\n",
      "Generation: 7\n",
      "Generation: 7\n",
      "Generation: 7\n",
      "Generation: 8\n",
      "Generation: 8\n",
      "Generation: 8\n",
      "Generation: 8\n",
      "Generation: 8\n",
      "Generation: 9\n",
      "Generation: 9\n",
      "Generation: 9\n",
      "Generation: 9\n",
      "Generation: 9\n",
      "Final: Sampled 100 individuals from generation 10\n",
      "Final: Sampled 100 individuals from generation 10\n",
      "Final: Sampled 100 individuals from generation 10\n",
      "Final: Sampled 100 individuals from generation 10\n",
      "Final: Sampled 100 individuals from generation 10\n"
     ]
    }
   ],
   "source": [
    "trun.replicate_selection(multi_son, meta_populations, qtl, allele_effects, recom_rates)"
   ]
  },
  {
   "cell_type": "code",
   "execution_count": 44,
   "metadata": {},
   "outputs": [
    {
     "data": {
      "text/plain": [
       "{0: [<simuPOP.Population>,\n",
       "  <simuPOP.Population>,\n",
       "  <simuPOP.Population>,\n",
       "  <simuPOP.Population>,\n",
       "  <simuPOP.Population>,\n",
       "  <simuPOP.Population>],\n",
       " 1: [<simuPOP.Population>,\n",
       "  <simuPOP.Population>,\n",
       "  <simuPOP.Population>,\n",
       "  <simuPOP.Population>,\n",
       "  <simuPOP.Population>,\n",
       "  <simuPOP.Population>],\n",
       " 2: [<simuPOP.Population>,\n",
       "  <simuPOP.Population>,\n",
       "  <simuPOP.Population>,\n",
       "  <simuPOP.Population>,\n",
       "  <simuPOP.Population>,\n",
       "  <simuPOP.Population>],\n",
       " 3: [<simuPOP.Population>,\n",
       "  <simuPOP.Population>,\n",
       "  <simuPOP.Population>,\n",
       "  <simuPOP.Population>,\n",
       "  <simuPOP.Population>,\n",
       "  <simuPOP.Population>],\n",
       " 4: [<simuPOP.Population>,\n",
       "  <simuPOP.Population>,\n",
       "  <simuPOP.Population>,\n",
       "  <simuPOP.Population>,\n",
       "  <simuPOP.Population>,\n",
       "  <simuPOP.Population>]}"
      ]
     },
     "execution_count": 44,
     "metadata": {},
     "output_type": "execute_result"
    }
   ],
   "source": [
    "meta_populations"
   ]
  },
  {
   "cell_type": "code",
   "execution_count": null,
   "metadata": {
    "collapsed": true
   },
   "outputs": [],
   "source": [
    "sample_pop = meta_populations[0][-1]"
   ]
  },
  {
   "cell_type": "code",
   "execution_count": null,
   "metadata": {
    "collapsed": true
   },
   "outputs": [],
   "source": [
    "sample_pop.sortIndividuals('p')"
   ]
  },
  {
   "cell_type": "code",
   "execution_count": 46,
   "metadata": {
    "collapsed": true
   },
   "outputs": [],
   "source": [
    "datar = []"
   ]
  },
  {
   "cell_type": "code",
   "execution_count": 47,
   "metadata": {
    "collapsed": true
   },
   "outputs": [],
   "source": [
    "for rep in range(5):\n",
    "    for gen in range(6):\n",
    "        sample_pop = meta_populations[rep][gen]\n",
    "        g_and_p = np.array((sample_pop.indInfo('ind_id'),\n",
    "                            sample_pop.indInfo('replicate'),\n",
    "                            sample_pop.indInfo('generation'),\n",
    "                            sample_pop.indInfo('g'), \n",
    "                            sample_pop.indInfo('p'))).T\n",
    "        datar.append(g_and_p)\n",
    "        generation_set = set(sample_pop.indInfo('generation'))\n",
    "        generation = generation_set.pop()\n",
    "        name = 'R'+str(rep)+'_'+'G'+str(generation) + '_tuson_selection.txt'\n",
    "        g_and_p_out = pd.DataFrame(g_and_p, columns=['ind_id', 'replicate', 'generation', 'g', 'p'])\n",
    "        g_and_p_out.to_csv(name, sep='\\t', float_format='%.4f')"
   ]
  },
  {
   "cell_type": "code",
   "execution_count": 48,
   "metadata": {
    "collapsed": true
   },
   "outputs": [],
   "source": [
    "concatted = np.concatenate((datar[0], datar[1]), axis=0)"
   ]
  },
  {
   "cell_type": "code",
   "execution_count": 49,
   "metadata": {},
   "outputs": [
    {
     "data": {
      "text/plain": [
       "30"
      ]
     },
     "execution_count": 49,
     "metadata": {},
     "output_type": "execute_result"
    }
   ],
   "source": [
    "len(datar)"
   ]
  },
  {
   "cell_type": "code",
   "execution_count": 50,
   "metadata": {
    "collapsed": true
   },
   "outputs": [],
   "source": [
    "first_concatted = np.concatenate((datar[0], datar[1]), axis=0)\n",
    "for i in range(2, 30):\n",
    "    first_concatted = np.concatenate((first_concatted, datar[i]))"
   ]
  },
  {
   "cell_type": "code",
   "execution_count": 51,
   "metadata": {},
   "outputs": [
    {
     "data": {
      "text/plain": [
       "(3000, 5)"
      ]
     },
     "execution_count": 51,
     "metadata": {},
     "output_type": "execute_result"
    }
   ],
   "source": [
    "first_concatted.shape"
   ]
  },
  {
   "cell_type": "code",
   "execution_count": 52,
   "metadata": {
    "collapsed": true
   },
   "outputs": [],
   "source": [
    "selection_g_and_p = pd.DataFrame(first_concatted, columns=['ind_id', 'rep', 'generation', 'g', 'p'])"
   ]
  },
  {
   "cell_type": "code",
   "execution_count": 54,
   "metadata": {
    "collapsed": true
   },
   "outputs": [],
   "source": [
    "selection_g_and_p.to_csv('first_tuson_selection_g_and_p.txt', sep='\\t', index=False)"
   ]
  },
  {
   "cell_type": "code",
   "execution_count": null,
   "metadata": {
    "collapsed": true
   },
   "outputs": [],
   "source": []
  },
  {
   "cell_type": "code",
   "execution_count": null,
   "metadata": {
    "collapsed": true
   },
   "outputs": [],
   "source": [
    "val = set(sample_pop.indInfo('generation'))"
   ]
  },
  {
   "cell_type": "code",
   "execution_count": null,
   "metadata": {
    "collapsed": true
   },
   "outputs": [],
   "source": [
    "val.pop()"
   ]
  },
  {
   "cell_type": "code",
   "execution_count": null,
   "metadata": {
    "collapsed": true
   },
   "outputs": [],
   "source": [
    "g_and_p = np.array((sample_pop.indInfo('ind_id'),\n",
    "                    sample_pop.indInfo('replicate'),\n",
    "                    sample_pop.indInfo('generation'),\n",
    "                    sample_pop.indInfo('g'), \n",
    "                    sample_pop.indInfo('p'))).T"
   ]
  },
  {
   "cell_type": "code",
   "execution_count": null,
   "metadata": {
    "collapsed": true
   },
   "outputs": [],
   "source": [
    "example_output=pd.DataFrame(g_and_p, columns=['ind_id', 'rep', 'generation', 'g', 'p'])"
   ]
  },
  {
   "cell_type": "code",
   "execution_count": null,
   "metadata": {
    "collapsed": true
   },
   "outputs": [],
   "source": [
    "example_output"
   ]
  },
  {
   "cell_type": "code",
   "execution_count": null,
   "metadata": {
    "collapsed": true
   },
   "outputs": [],
   "source": []
  },
  {
   "cell_type": "code",
   "execution_count": null,
   "metadata": {
    "collapsed": true
   },
   "outputs": [],
   "source": [
    "selected_inds = pd.DataFrame(g_and_p, columns=['ind_id', 'replicate', 'generation', 'g', 'p'])"
   ]
  },
  {
   "cell_type": "code",
   "execution_count": null,
   "metadata": {
    "collapsed": true
   },
   "outputs": [],
   "source": [
    "for rep in range(5):\n",
    "    for i in range(6):\n",
    "        sim.stat(meta_populations[rep][i], alleleFreq=sim.ALL_AVAIL)"
   ]
  },
  {
   "cell_type": "code",
   "execution_count": null,
   "metadata": {
    "collapsed": true
   },
   "outputs": [],
   "source": [
    "meta_populations[0][0].dvars().alleleFreq"
   ]
  },
  {
   "cell_type": "code",
   "execution_count": null,
   "metadata": {
    "collapsed": true
   },
   "outputs": [],
   "source": []
  },
  {
   "cell_type": "code",
   "execution_count": null,
   "metadata": {
    "collapsed": true
   },
   "outputs": [],
   "source": [
    "def insert_allele_frequencies_into_aggregate_matrix(number_of_reps,\n",
    "                                                    meta_population,\n",
    "                                                    minor_allele):\n",
    "    \"\"\"\n",
    "    number_of_reps: integer specifying number of replicates to include\n",
    "    inside of one allele frequency matrix.\n",
    "\n",
    "    meta_population: Multiple replicate meta population.\n",
    "    minor_allele_list: List or numpy.array of minor alleles.\n",
    "    :param number_of_reps: Replicates of the population\n",
    "    :type number_of_reps: int\n",
    "    :param meta_population: Multi-replicate population container\n",
    "    :type meta_population: sim.Simulator\n",
    "    :param minor_allele: Locus: Minor Allele key-value pairs\n",
    "    :type minor_allele: dict\n",
    "    :return: Minor allele frequencies of multiple replicates\n",
    "    :rtype: np.array\n",
    "    \"\"\"\n",
    "    number_of_rows = 6 * number_of_reps\n",
    "    aggregate_frequency_matrix = np.zeros((number_of_rows, 44447))\n",
    "    row_indices = list(range(number_of_rows))\n",
    "    print(\n",
    "        'Calculating allele frequencies for {number_reps} replicates and writing them to an aggregate matrix.'.format(\n",
    "            number_reps=number_of_reps))\n",
    "    for rep in number_of_reps:\n",
    "        for pop in meta_populations[rep]:\n",
    "            sim.stat(pop)\n",
    "    for replicate in meta_population.populations():\n",
    "        print(\"Replicate: {rep_id}\".format(rep_id=replicate.dvars().rep))\n",
    "        sim.stat(replicate, alleleFreq=sim.ALL_AVAIL,\n",
    "                 vars=['alleleFreq_sp'])\n",
    "        subpops_and_gens = [(1, 0), (2, 2), (3, 4), (4, 6), (5, 8),\n",
    "                            (6, 10)]\n",
    "        for sp, gen in subpops_and_gens:\n",
    "            row_index = row_indices.pop(0)\n",
    "            print(\"Row index: {row_index}\".format(row_index=row_index))\n",
    "            rep = replicate.dvars().rep\n",
    "            aggregate_frequency_matrix[row_index, 0] = gen\n",
    "            aggregate_frequency_matrix[row_index, 1] = rep\n",
    "            aggregate_frequency_matrix[row_index, 2:] = [\n",
    "                replicate.dvars(sp).alleleFreq[locus][ma] for ma, locus in\n",
    "                zip(minor_allele.values(), range(44445))]\n",
    "    return aggregate_frequency_matrix\n"
   ]
  },
  {
   "cell_type": "code",
   "execution_count": 68,
   "metadata": {
    "collapsed": true
   },
   "outputs": [],
   "source": [
    "mafrqs = np.zeros((30, 44447))"
   ]
  },
  {
   "cell_type": "code",
   "execution_count": 69,
   "metadata": {
    "collapsed": true
   },
   "outputs": [],
   "source": [
    "row_indices = list(range(6*5))"
   ]
  },
  {
   "cell_type": "code",
   "execution_count": 70,
   "metadata": {
    "collapsed": true
   },
   "outputs": [],
   "source": [
    "for rep in range(5):\n",
    "    for gen in range(6):\n",
    "        rowdex = row_indices.pop(0)\n",
    "        sim.stat(meta_populations[rep][gen], alleleFreq=sim.ALL_AVAIL)\n",
    "        generation_set = set(meta_populations[rep][gen].indInfo('generation'))\n",
    "        generation = generation_set.pop()\n",
    "        mafrqs[rowdex, 0] = rep\n",
    "        mafrqs[rowdex, 1] = generation\n",
    "        mafrqs[rowdex, 2:] = [meta_populations[rep][gen].dvars().alleleFreq[locus][minor_allele] \n",
    "                            for locus, minor_allele in enumerate(minor_alleles)]"
   ]
  },
  {
   "cell_type": "code",
   "execution_count": 74,
   "metadata": {
    "collapsed": true
   },
   "outputs": [],
   "source": [
    "af_cols = [ 'rep', 'generation'] + list(range(44445))"
   ]
  },
  {
   "cell_type": "code",
   "execution_count": 75,
   "metadata": {
    "collapsed": true
   },
   "outputs": [],
   "source": [
    "minor_allele_frqs_data = pd.DataFrame(mafrqs, columns=af_cols)"
   ]
  },
  {
   "cell_type": "code",
   "execution_count": 77,
   "metadata": {
    "collapsed": true
   },
   "outputs": [],
   "source": [
    "minor_allele_frqs_data.to_csv('tuson_selection_mafrqs.txt', sep='\\t')"
   ]
  },
  {
   "cell_type": "code",
   "execution_count": 78,
   "metadata": {
    "collapsed": true
   },
   "outputs": [],
   "source": [
    "hetero_frqs = np.zeros((30, 44447))\n",
    "row_indices = list(range(6*5))"
   ]
  },
  {
   "cell_type": "code",
   "execution_count": null,
   "metadata": {
    "collapsed": true
   },
   "outputs": [],
   "source": []
  },
  {
   "cell_type": "code",
   "execution_count": 79,
   "metadata": {
    "collapsed": true
   },
   "outputs": [],
   "source": [
    "for rep in range(5):\n",
    "    for gen in range(6):\n",
    "        rowdex = row_indices.pop(0)\n",
    "        sim.stat(meta_populations[rep][gen], heteroFreq=sim.ALL_AVAIL)\n",
    "        generation_set = set(meta_populations[rep][gen].indInfo('generation'))\n",
    "        generation = generation_set.pop()\n",
    "        hetero_frqs[rowdex, 0] = rep\n",
    "        hetero_frqs[rowdex, 1] = generation\n",
    "        hetero_frqs[rowdex, 2:] = [meta_populations[rep][gen].dvars().heteroFreq[locus] \n",
    "                            for locus, minor_allele in enumerate(minor_alleles)]"
   ]
  },
  {
   "cell_type": "code",
   "execution_count": null,
   "metadata": {
    "collapsed": true
   },
   "outputs": [],
   "source": []
  },
  {
   "cell_type": "code",
   "execution_count": 81,
   "metadata": {},
   "outputs": [
    {
     "data": {
      "text/plain": [
       "array([[  0.  ,   0.  ,   0.36, ...,   0.43,   0.32,   0.34],\n",
       "       [  0.  ,   2.  ,   0.31, ...,   0.48,   0.3 ,   0.36],\n",
       "       [  0.  ,   4.  ,   0.44, ...,   0.48,   0.24,   0.41],\n",
       "       ..., \n",
       "       [  4.  ,   6.  ,   0.13, ...,   0.52,   0.55,   0.53],\n",
       "       [  4.  ,   8.  ,   0.02, ...,   0.42,   0.44,   0.48],\n",
       "       [  4.  ,  10.  ,   0.  , ...,   0.53,   0.47,   0.58]])"
      ]
     },
     "execution_count": 81,
     "metadata": {},
     "output_type": "execute_result"
    }
   ],
   "source": [
    "hetero_frqs"
   ]
  },
  {
   "cell_type": "code",
   "execution_count": 82,
   "metadata": {
    "collapsed": true
   },
   "outputs": [],
   "source": [
    "hetero_columns = ['rep', 'generation'] + list(range(44445))"
   ]
  },
  {
   "cell_type": "code",
   "execution_count": 83,
   "metadata": {},
   "outputs": [
    {
     "data": {
      "text/plain": [
       "array([ 1.,  2.,  3., ...,  2.,  3.,  1.])"
      ]
     },
     "execution_count": 83,
     "metadata": {},
     "output_type": "execute_result"
    }
   ],
   "source": [
    "minor_alleles"
   ]
  },
  {
   "cell_type": "code",
   "execution_count": 84,
   "metadata": {
    "collapsed": true
   },
   "outputs": [],
   "source": [
    "hetero_frq_data = pd.DataFrame(hetero_frqs, columns=hetero_columns)"
   ]
  },
  {
   "cell_type": "code",
   "execution_count": 86,
   "metadata": {
    "collapsed": true
   },
   "outputs": [],
   "source": [
    "hetero_frq_data.to_csv('heterozygote_frq_selection.txt', sep='\\t')"
   ]
  },
  {
   "cell_type": "code",
   "execution_count": 87,
   "metadata": {
    "collapsed": true
   },
   "outputs": [
    {
     "data": {
      "text/plain": [
       "{27: {2: 2.4563428307058226, 3: 0.902496124727694},\n",
       " 601: {1: 0.5886817538590416, 3: 0.1285805135499849},\n",
       " 3153: {1: 2.0446427412933477, 3: 0.05871532001842488},\n",
       " 3654: {1: 0.44688507279980877, 3: 0.05030852627016928},\n",
       " 4569: {1: 0.15412168275436025, 3: 0.1586014792679026},\n",
       " 5510: {1: 0.4048141023881617, 3: 3.9183884081671514},\n",
       " 9744: {1: 2.6215914152128983, 3: 3.304347811025092},\n",
       " 12734: {1: 1.0272802470164655, 3: 2.0284785297572134},\n",
       " 13180: {1: 1.0797354997413735, 2: 0.06932846723783206},\n",
       " 13190: {1: 0.10199452875256881, 3: 2.672262639036609},\n",
       " 13251: {1: 1.5412144231442957, 3: 2.492018927589699},\n",
       " 14123: {1: 0.7455961703850555, 3: 0.11842416265426248},\n",
       " 17073: {1: 0.2967362392955534, 3: 0.605355189946292},\n",
       " 18635: {1: 0.5453505705076177, 3: 3.73238438019367},\n",
       " 21380: {1: 0.6169528965995916, 2: 2.7270417156963833},\n",
       " 22018: {1: 2.3845380826723264, 3: 2.875438373751781},\n",
       " 26310: {1: 1.0196529670861978, 3: 1.808619880154679},\n",
       " 27162: {1: 0.4306684508602656, 3: 0.7907402838826632},\n",
       " 27387: {1: 0.696441373605891, 3: 0.04638944690128484},\n",
       " 27478: {1: 0.5228136470622132, 3: 0.5107304526907217},\n",
       " 27923: {1: 3.8895795608741524, 3: 3.271095755948988},\n",
       " 29785: {1: 0.2108304107920213, 3: 0.37406904842316524},\n",
       " 30515: {1: 0.42204623551680337, 3: 0.3976763997848975},\n",
       " 32793: {1: 0.11699971110275201, 3: 0.16031534667020259},\n",
       " 34578: {1: 0.30589255547256017, 2: 2.0135621996715267},\n",
       " 34766: {1: 1.1216876432896938, 2: 1.5876872753573565},\n",
       " 34910: {1: 0.5776027473410895, 2: 1.3279592079075984},\n",
       " 35997: {1: 1.2918873623560427, 3: 0.058445778708360194},\n",
       " 36467: {1: 0.7131392243270325, 2: 0.46866031239478484},\n",
       " 41835: {1: 0.36536038823789524, 3: 0.08939763327817266}}"
      ]
     },
     "execution_count": 87,
     "metadata": {},
     "output_type": "execute_result"
    }
   ],
   "source": [
    "allele_effects"
   ]
  },
  {
   "cell_type": "code",
   "execution_count": 89,
   "metadata": {
    "collapsed": true
   },
   "outputs": [],
   "source": [
    "import shelve"
   ]
  },
  {
   "cell_type": "code",
   "execution_count": 90,
   "metadata": {
    "collapsed": true
   },
   "outputs": [],
   "source": [
    "allelefx = shelve.open('tuson_allele_effects')\n",
    "allelefx['first_run'] = allele_effects\n",
    "allelefx.close()"
   ]
  },
  {
   "cell_type": "code",
   "execution_count": null,
   "metadata": {
    "collapsed": true
   },
   "outputs": [],
   "source": []
  },
  {
   "cell_type": "code",
   "execution_count": null,
   "metadata": {
    "collapsed": true
   },
   "outputs": [],
   "source": []
  },
  {
   "cell_type": "code",
   "execution_count": null,
   "metadata": {
    "collapsed": true
   },
   "outputs": [],
   "source": [
    "sim.stat(tuson, alleleFreq=sim.ALL_AVAIL)"
   ]
  },
  {
   "cell_type": "code",
   "execution_count": null,
   "metadata": {
    "collapsed": true
   },
   "outputs": [],
   "source": [
    "tuson.popSize()"
   ]
  },
  {
   "cell_type": "code",
   "execution_count": null,
   "metadata": {
    "collapsed": true
   },
   "outputs": [],
   "source": [
    "tuson.dvars()"
   ]
  },
  {
   "cell_type": "code",
   "execution_count": null,
   "metadata": {
    "collapsed": true
   },
   "outputs": [],
   "source": [
    "tuson.dvars().alleleFreq"
   ]
  },
  {
   "cell_type": "code",
   "execution_count": null,
   "metadata": {
    "collapsed": true
   },
   "outputs": [],
   "source": [
    "sorted(qtl)"
   ]
  },
  {
   "cell_type": "code",
   "execution_count": null,
   "metadata": {
    "collapsed": true
   },
   "outputs": [],
   "source": [
    "qtl"
   ]
  },
  {
   "cell_type": "code",
   "execution_count": null,
   "metadata": {
    "collapsed": true
   },
   "outputs": [],
   "source": []
  },
  {
   "cell_type": "code",
   "execution_count": null,
   "metadata": {
    "collapsed": true
   },
   "outputs": [],
   "source": []
  }
 ],
 "metadata": {
  "kernelspec": {
   "display_name": "Python 3",
   "language": "python",
   "name": "python3"
  },
  "language_info": {
   "codemirror_mode": {
    "name": "ipython",
    "version": 3
   },
   "file_extension": ".py",
   "mimetype": "text/x-python",
   "name": "python",
   "nbconvert_exporter": "python",
   "pygments_lexer": "ipython3",
   "version": "3.6.1"
  }
 },
 "nbformat": 4,
 "nbformat_minor": 1
}
