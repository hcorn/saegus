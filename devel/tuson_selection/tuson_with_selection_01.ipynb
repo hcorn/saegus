{
 "cells": [
  {
   "cell_type": "code",
   "execution_count": 1,
   "metadata": {
    "collapsed": false
   },
   "outputs": [],
   "source": [
    "import simuOpt\n",
    "simuOpt.setOptions(quiet=True, optimized=True, numThreads=4)\n",
    "import simuPOP as sim\n",
    "import os, numpy as np, pandas as pd, collections as col\n",
    "from saegus import analyze, simulate, parameters, breed\n",
    "from scipy import stats\n",
    "import random"
   ]
  },
  {
   "cell_type": "code",
   "execution_count": 2,
   "metadata": {
    "collapsed": true
   },
   "outputs": [],
   "source": [
    "tuson = sim.loadPopulation('tuson.pop')"
   ]
  },
  {
   "cell_type": "code",
   "execution_count": 3,
   "metadata": {
    "collapsed": true
   },
   "outputs": [],
   "source": [
    "artemis = analyze.Study('artemis')"
   ]
  },
  {
   "cell_type": "code",
   "execution_count": 4,
   "metadata": {
    "collapsed": false
   },
   "outputs": [],
   "source": [
    "sim.stat(tuson, numOfSegSites=sim.ALL_AVAIL, vars=['numOfSegSites', 'segSites', 'numOfFixedSites', 'fixedSites'])\n",
    "parameters.randomly_convert_fixed_sites(tuson, tuson.dvars().fixedSites)\n",
    "sim.stat(tuson, numOfSegSites=sim.ALL_AVAIL, vars=['numOfSegSites', 'segSites', 'numOfFixedSites', 'fixedSites'])"
   ]
  },
  {
   "cell_type": "code",
   "execution_count": 5,
   "metadata": {
    "collapsed": false
   },
   "outputs": [
    {
     "data": {
      "text/plain": [
       "0"
      ]
     },
     "execution_count": 5,
     "metadata": {},
     "output_type": "execute_result"
    }
   ],
   "source": [
    "tuson.dvars().numOfFixedSites"
   ]
  },
  {
   "cell_type": "code",
   "execution_count": null,
   "metadata": {
    "collapsed": true
   },
   "outputs": [],
   "source": []
  },
  {
   "cell_type": "code",
   "execution_count": 6,
   "metadata": {
    "collapsed": true
   },
   "outputs": [],
   "source": [
    "sim.stat(tuson, alleleFreq=sim.ALL_AVAIL)"
   ]
  },
  {
   "cell_type": "code",
   "execution_count": 7,
   "metadata": {
    "collapsed": true
   },
   "outputs": [],
   "source": [
    "sim.stat(tuson, homoFreq=sim.ALL_AVAIL)"
   ]
  },
  {
   "cell_type": "code",
   "execution_count": 8,
   "metadata": {
    "collapsed": true
   },
   "outputs": [],
   "source": [
    "sim.stat(tuson, heteroFreq=sim.ALL_AVAIL)"
   ]
  },
  {
   "cell_type": "code",
   "execution_count": null,
   "metadata": {
    "collapsed": true
   },
   "outputs": [],
   "source": []
  },
  {
   "cell_type": "code",
   "execution_count": 9,
   "metadata": {
    "collapsed": true
   },
   "outputs": [],
   "source": [
    "alleles  = np.array([list(tuson.dvars().alleleFreq[locus].keys()) for locus in range(tuson.totNumLoci())], dtype=np.int8)"
   ]
  },
  {
   "cell_type": "code",
   "execution_count": 10,
   "metadata": {
    "collapsed": false
   },
   "outputs": [
    {
     "data": {
      "text/plain": [
       "array([[1, 2],\n",
       "       [2, 3],\n",
       "       [2, 3],\n",
       "       ..., \n",
       "       [1, 2],\n",
       "       [1, 3],\n",
       "       [1, 3]], dtype=int8)"
      ]
     },
     "execution_count": 10,
     "metadata": {},
     "output_type": "execute_result"
    }
   ],
   "source": [
    "alleles"
   ]
  },
  {
   "cell_type": "markdown",
   "metadata": {},
   "source": [
    "## Alleles for Fixed Sites chosen at random."
   ]
  },
  {
   "cell_type": "code",
   "execution_count": 11,
   "metadata": {
    "collapsed": false
   },
   "outputs": [],
   "source": [
    "np.savetxt('alleles_of_tuson_founders.txt', alleles, fmt='%d', delimiter='\\t')"
   ]
  },
  {
   "cell_type": "code",
   "execution_count": 12,
   "metadata": {
    "collapsed": true
   },
   "outputs": [],
   "source": [
    "af = analyze.allele_data(tuson, alleles, range(tuson.totNumLoci()))"
   ]
  },
  {
   "cell_type": "code",
   "execution_count": 13,
   "metadata": {
    "collapsed": true
   },
   "outputs": [],
   "source": [
    "def expanded_allele_data(pop, allele_data_structure):\n",
    "    sim.stat(pop, heteroFreq=sim.ALL_AVAIL)\n",
    "    hetero_frqs = np.array(list(pop.dvars().heteroFreq.values()))\n",
    "    hetero_column = pd.DataFrame(hetero_frqs, columns=['heterozygote_frequency'])\n",
    "    return allele_data_structure.join(hetero_column)"
   ]
  },
  {
   "cell_type": "code",
   "execution_count": 14,
   "metadata": {
    "collapsed": true
   },
   "outputs": [],
   "source": [
    "eaf = expanded_allele_data(tuson, af)"
   ]
  },
  {
   "cell_type": "code",
   "execution_count": 16,
   "metadata": {
    "collapsed": false
   },
   "outputs": [],
   "source": [
    "formed_mia = np.array(af['minor_allele'], dtype=np.int8)\n",
    "formed_maj = np.array(af['major_allele'], dtype=np.int8)"
   ]
  },
  {
   "cell_type": "code",
   "execution_count": 17,
   "metadata": {
    "collapsed": false
   },
   "outputs": [],
   "source": [
    "eaf['minor_allele'] = formed_mia\n",
    "eaf['major_allele'] = formed_maj"
   ]
  },
  {
   "cell_type": "code",
   "execution_count": 18,
   "metadata": {
    "collapsed": true
   },
   "outputs": [],
   "source": [
    "eaf.to_csv('expanded_tuson_founder_allele_frqs.txt', sep='\\t')"
   ]
  },
  {
   "cell_type": "code",
   "execution_count": 20,
   "metadata": {
    "collapsed": true
   },
   "outputs": [],
   "source": [
    "tuson.addInfoFields(['generation', 'g', 'p'])"
   ]
  },
  {
   "cell_type": "code",
   "execution_count": 21,
   "metadata": {
    "collapsed": true
   },
   "outputs": [],
   "source": [
    "tuson.save('working_tuson.pop')"
   ]
  },
  {
   "cell_type": "code",
   "execution_count": 22,
   "metadata": {
    "collapsed": true
   },
   "outputs": [],
   "source": [
    "tuson.asPedigree()"
   ]
  },
  {
   "cell_type": "code",
   "execution_count": 23,
   "metadata": {
    "collapsed": false
   },
   "outputs": [
    {
     "data": {
      "text/plain": [
       "simuPOP.simuPOP_op.Pedigree"
      ]
     },
     "execution_count": 23,
     "metadata": {},
     "output_type": "execute_result"
    }
   ],
   "source": [
    "type(tuson)"
   ]
  },
  {
   "cell_type": "code",
   "execution_count": 25,
   "metadata": {
    "collapsed": true
   },
   "outputs": [],
   "source": [
    "tuson.save(\"tuson_pedigree.txt\", infoFields=['g', 'p'], loci=sim.ALL_AVAIL)"
   ]
  },
  {
   "cell_type": "code",
   "execution_count": 26,
   "metadata": {
    "collapsed": false
   },
   "outputs": [
    {
     "data": {
      "text/plain": [
       "105"
      ]
     },
     "execution_count": 26,
     "metadata": {},
     "output_type": "execute_result"
    }
   ],
   "source": [
    "tuson.popSize()"
   ]
  },
  {
   "cell_type": "code",
   "execution_count": 31,
   "metadata": {
    "collapsed": false
   },
   "outputs": [
    {
     "data": {
      "text/plain": [
       "array([[1, 2],\n",
       "       [2, 3],\n",
       "       [2, 3],\n",
       "       ..., \n",
       "       [1, 2],\n",
       "       [1, 3],\n",
       "       [1, 3]], dtype=int8)"
      ]
     },
     "execution_count": 31,
     "metadata": {},
     "output_type": "execute_result"
    }
   ],
   "source": [
    "alleles"
   ]
  },
  {
   "cell_type": "code",
   "execution_count": 27,
   "metadata": {
    "collapsed": true
   },
   "outputs": [],
   "source": [
    "tuson.asPopulation()"
   ]
  },
  {
   "cell_type": "code",
   "execution_count": 28,
   "metadata": {
    "collapsed": false
   },
   "outputs": [
    {
     "data": {
      "text/plain": [
       "simuPOP.simuPOP_op.Pedigree"
      ]
     },
     "execution_count": 28,
     "metadata": {},
     "output_type": "execute_result"
    }
   ],
   "source": [
    "type(tuson)"
   ]
  },
  {
   "cell_type": "code",
   "execution_count": 32,
   "metadata": {
    "collapsed": true
   },
   "outputs": [
    {
     "data": {
      "text/html": [
       "<div>\n",
       "<table border=\"1\" class=\"dataframe\">\n",
       "  <thead>\n",
       "    <tr style=\"text-align: right;\">\n",
       "      <th></th>\n",
       "      <th>minor_allele</th>\n",
       "      <th>minor_frequency</th>\n",
       "      <th>major_allele</th>\n",
       "      <th>major_frequency</th>\n",
       "      <th>heterozygote_frequency</th>\n",
       "    </tr>\n",
       "  </thead>\n",
       "  <tbody>\n",
       "    <tr>\n",
       "      <th>0</th>\n",
       "      <td>1</td>\n",
       "      <td>0.319048</td>\n",
       "      <td>2</td>\n",
       "      <td>0.680952</td>\n",
       "      <td>0.371429</td>\n",
       "    </tr>\n",
       "    <tr>\n",
       "      <th>1</th>\n",
       "      <td>2</td>\n",
       "      <td>0.219048</td>\n",
       "      <td>3</td>\n",
       "      <td>0.780952</td>\n",
       "      <td>0.266667</td>\n",
       "    </tr>\n",
       "    <tr>\n",
       "      <th>2</th>\n",
       "      <td>3</td>\n",
       "      <td>0.061905</td>\n",
       "      <td>2</td>\n",
       "      <td>0.938095</td>\n",
       "      <td>0.104762</td>\n",
       "    </tr>\n",
       "    <tr>\n",
       "      <th>3</th>\n",
       "      <td>1</td>\n",
       "      <td>0.061905</td>\n",
       "      <td>3</td>\n",
       "      <td>0.938095</td>\n",
       "      <td>0.104762</td>\n",
       "    </tr>\n",
       "    <tr>\n",
       "      <th>4</th>\n",
       "      <td>3</td>\n",
       "      <td>0.309524</td>\n",
       "      <td>1</td>\n",
       "      <td>0.690476</td>\n",
       "      <td>0.619048</td>\n",
       "    </tr>\n",
       "    <tr>\n",
       "      <th>5</th>\n",
       "      <td>3</td>\n",
       "      <td>0.052381</td>\n",
       "      <td>1</td>\n",
       "      <td>0.947619</td>\n",
       "      <td>0.085714</td>\n",
       "    </tr>\n",
       "    <tr>\n",
       "      <th>6</th>\n",
       "      <td>1</td>\n",
       "      <td>0.204762</td>\n",
       "      <td>3</td>\n",
       "      <td>0.795238</td>\n",
       "      <td>0.314286</td>\n",
       "    </tr>\n",
       "    <tr>\n",
       "      <th>7</th>\n",
       "      <td>1</td>\n",
       "      <td>0.128571</td>\n",
       "      <td>3</td>\n",
       "      <td>0.871429</td>\n",
       "      <td>0.200000</td>\n",
       "    </tr>\n",
       "    <tr>\n",
       "      <th>8</th>\n",
       "      <td>1</td>\n",
       "      <td>0.133333</td>\n",
       "      <td>3</td>\n",
       "      <td>0.866667</td>\n",
       "      <td>0.209524</td>\n",
       "    </tr>\n",
       "    <tr>\n",
       "      <th>9</th>\n",
       "      <td>3</td>\n",
       "      <td>0.180952</td>\n",
       "      <td>2</td>\n",
       "      <td>0.819048</td>\n",
       "      <td>0.266667</td>\n",
       "    </tr>\n",
       "    <tr>\n",
       "      <th>10</th>\n",
       "      <td>3</td>\n",
       "      <td>0.461905</td>\n",
       "      <td>1</td>\n",
       "      <td>0.538095</td>\n",
       "      <td>0.923810</td>\n",
       "    </tr>\n",
       "    <tr>\n",
       "      <th>11</th>\n",
       "      <td>1</td>\n",
       "      <td>0.461905</td>\n",
       "      <td>2</td>\n",
       "      <td>0.538095</td>\n",
       "      <td>0.923810</td>\n",
       "    </tr>\n",
       "    <tr>\n",
       "      <th>12</th>\n",
       "      <td>1</td>\n",
       "      <td>0.090476</td>\n",
       "      <td>3</td>\n",
       "      <td>0.909524</td>\n",
       "      <td>0.161905</td>\n",
       "    </tr>\n",
       "    <tr>\n",
       "      <th>13</th>\n",
       "      <td>3</td>\n",
       "      <td>0.114286</td>\n",
       "      <td>1</td>\n",
       "      <td>0.885714</td>\n",
       "      <td>0.114286</td>\n",
       "    </tr>\n",
       "    <tr>\n",
       "      <th>14</th>\n",
       "      <td>2</td>\n",
       "      <td>0.004762</td>\n",
       "      <td>1</td>\n",
       "      <td>0.995238</td>\n",
       "      <td>0.009524</td>\n",
       "    </tr>\n",
       "    <tr>\n",
       "      <th>15</th>\n",
       "      <td>1</td>\n",
       "      <td>0.004762</td>\n",
       "      <td>3</td>\n",
       "      <td>0.995238</td>\n",
       "      <td>0.009524</td>\n",
       "    </tr>\n",
       "    <tr>\n",
       "      <th>16</th>\n",
       "      <td>3</td>\n",
       "      <td>0.004762</td>\n",
       "      <td>1</td>\n",
       "      <td>0.995238</td>\n",
       "      <td>0.009524</td>\n",
       "    </tr>\n",
       "    <tr>\n",
       "      <th>17</th>\n",
       "      <td>2</td>\n",
       "      <td>0.038095</td>\n",
       "      <td>1</td>\n",
       "      <td>0.961905</td>\n",
       "      <td>0.076190</td>\n",
       "    </tr>\n",
       "    <tr>\n",
       "      <th>18</th>\n",
       "      <td>2</td>\n",
       "      <td>0.128571</td>\n",
       "      <td>3</td>\n",
       "      <td>0.871429</td>\n",
       "      <td>0.238095</td>\n",
       "    </tr>\n",
       "    <tr>\n",
       "      <th>19</th>\n",
       "      <td>1</td>\n",
       "      <td>0.004762</td>\n",
       "      <td>2</td>\n",
       "      <td>0.995238</td>\n",
       "      <td>0.009524</td>\n",
       "    </tr>\n",
       "    <tr>\n",
       "      <th>20</th>\n",
       "      <td>1</td>\n",
       "      <td>0.295238</td>\n",
       "      <td>3</td>\n",
       "      <td>0.704762</td>\n",
       "      <td>0.323810</td>\n",
       "    </tr>\n",
       "    <tr>\n",
       "      <th>21</th>\n",
       "      <td>3</td>\n",
       "      <td>0.423810</td>\n",
       "      <td>1</td>\n",
       "      <td>0.576190</td>\n",
       "      <td>0.428571</td>\n",
       "    </tr>\n",
       "    <tr>\n",
       "      <th>22</th>\n",
       "      <td>1</td>\n",
       "      <td>0.214286</td>\n",
       "      <td>3</td>\n",
       "      <td>0.785714</td>\n",
       "      <td>0.257143</td>\n",
       "    </tr>\n",
       "    <tr>\n",
       "      <th>23</th>\n",
       "      <td>1</td>\n",
       "      <td>0.042857</td>\n",
       "      <td>3</td>\n",
       "      <td>0.957143</td>\n",
       "      <td>0.085714</td>\n",
       "    </tr>\n",
       "    <tr>\n",
       "      <th>24</th>\n",
       "      <td>0</td>\n",
       "      <td>0.004762</td>\n",
       "      <td>1</td>\n",
       "      <td>0.995238</td>\n",
       "      <td>0.009524</td>\n",
       "    </tr>\n",
       "    <tr>\n",
       "      <th>25</th>\n",
       "      <td>1</td>\n",
       "      <td>0.309524</td>\n",
       "      <td>3</td>\n",
       "      <td>0.690476</td>\n",
       "      <td>0.142857</td>\n",
       "    </tr>\n",
       "    <tr>\n",
       "      <th>26</th>\n",
       "      <td>1</td>\n",
       "      <td>0.223810</td>\n",
       "      <td>3</td>\n",
       "      <td>0.776190</td>\n",
       "      <td>0.447619</td>\n",
       "    </tr>\n",
       "    <tr>\n",
       "      <th>27</th>\n",
       "      <td>2</td>\n",
       "      <td>0.004762</td>\n",
       "      <td>3</td>\n",
       "      <td>0.995238</td>\n",
       "      <td>0.009524</td>\n",
       "    </tr>\n",
       "    <tr>\n",
       "      <th>28</th>\n",
       "      <td>1</td>\n",
       "      <td>0.104762</td>\n",
       "      <td>3</td>\n",
       "      <td>0.895238</td>\n",
       "      <td>0.171429</td>\n",
       "    </tr>\n",
       "    <tr>\n",
       "      <th>29</th>\n",
       "      <td>1</td>\n",
       "      <td>0.004762</td>\n",
       "      <td>3</td>\n",
       "      <td>0.995238</td>\n",
       "      <td>0.009524</td>\n",
       "    </tr>\n",
       "    <tr>\n",
       "      <th>...</th>\n",
       "      <td>...</td>\n",
       "      <td>...</td>\n",
       "      <td>...</td>\n",
       "      <td>...</td>\n",
       "      <td>...</td>\n",
       "    </tr>\n",
       "    <tr>\n",
       "      <th>44415</th>\n",
       "      <td>1</td>\n",
       "      <td>0.066667</td>\n",
       "      <td>3</td>\n",
       "      <td>0.933333</td>\n",
       "      <td>0.114286</td>\n",
       "    </tr>\n",
       "    <tr>\n",
       "      <th>44416</th>\n",
       "      <td>3</td>\n",
       "      <td>0.319048</td>\n",
       "      <td>1</td>\n",
       "      <td>0.680952</td>\n",
       "      <td>0.295238</td>\n",
       "    </tr>\n",
       "    <tr>\n",
       "      <th>44417</th>\n",
       "      <td>3</td>\n",
       "      <td>0.333333</td>\n",
       "      <td>1</td>\n",
       "      <td>0.666667</td>\n",
       "      <td>0.285714</td>\n",
       "    </tr>\n",
       "    <tr>\n",
       "      <th>44418</th>\n",
       "      <td>3</td>\n",
       "      <td>0.328571</td>\n",
       "      <td>1</td>\n",
       "      <td>0.671429</td>\n",
       "      <td>0.276190</td>\n",
       "    </tr>\n",
       "    <tr>\n",
       "      <th>44419</th>\n",
       "      <td>1</td>\n",
       "      <td>0.147619</td>\n",
       "      <td>3</td>\n",
       "      <td>0.852381</td>\n",
       "      <td>0.200000</td>\n",
       "    </tr>\n",
       "    <tr>\n",
       "      <th>44420</th>\n",
       "      <td>1</td>\n",
       "      <td>0.419048</td>\n",
       "      <td>3</td>\n",
       "      <td>0.580952</td>\n",
       "      <td>0.380952</td>\n",
       "    </tr>\n",
       "    <tr>\n",
       "      <th>44421</th>\n",
       "      <td>1</td>\n",
       "      <td>0.071429</td>\n",
       "      <td>3</td>\n",
       "      <td>0.928571</td>\n",
       "      <td>0.123810</td>\n",
       "    </tr>\n",
       "    <tr>\n",
       "      <th>44422</th>\n",
       "      <td>1</td>\n",
       "      <td>0.419048</td>\n",
       "      <td>3</td>\n",
       "      <td>0.580952</td>\n",
       "      <td>0.419048</td>\n",
       "    </tr>\n",
       "    <tr>\n",
       "      <th>44423</th>\n",
       "      <td>1</td>\n",
       "      <td>0.166667</td>\n",
       "      <td>3</td>\n",
       "      <td>0.833333</td>\n",
       "      <td>0.238095</td>\n",
       "    </tr>\n",
       "    <tr>\n",
       "      <th>44424</th>\n",
       "      <td>3</td>\n",
       "      <td>0.080952</td>\n",
       "      <td>1</td>\n",
       "      <td>0.919048</td>\n",
       "      <td>0.161905</td>\n",
       "    </tr>\n",
       "    <tr>\n",
       "      <th>44425</th>\n",
       "      <td>3</td>\n",
       "      <td>0.295238</td>\n",
       "      <td>1</td>\n",
       "      <td>0.704762</td>\n",
       "      <td>0.304762</td>\n",
       "    </tr>\n",
       "    <tr>\n",
       "      <th>44426</th>\n",
       "      <td>3</td>\n",
       "      <td>0.180952</td>\n",
       "      <td>1</td>\n",
       "      <td>0.819048</td>\n",
       "      <td>0.285714</td>\n",
       "    </tr>\n",
       "    <tr>\n",
       "      <th>44427</th>\n",
       "      <td>1</td>\n",
       "      <td>0.028571</td>\n",
       "      <td>2</td>\n",
       "      <td>0.971429</td>\n",
       "      <td>0.019048</td>\n",
       "    </tr>\n",
       "    <tr>\n",
       "      <th>44428</th>\n",
       "      <td>3</td>\n",
       "      <td>0.171429</td>\n",
       "      <td>1</td>\n",
       "      <td>0.828571</td>\n",
       "      <td>0.209524</td>\n",
       "    </tr>\n",
       "    <tr>\n",
       "      <th>44429</th>\n",
       "      <td>1</td>\n",
       "      <td>0.080952</td>\n",
       "      <td>2</td>\n",
       "      <td>0.919048</td>\n",
       "      <td>0.104762</td>\n",
       "    </tr>\n",
       "    <tr>\n",
       "      <th>44430</th>\n",
       "      <td>3</td>\n",
       "      <td>0.457143</td>\n",
       "      <td>1</td>\n",
       "      <td>0.542857</td>\n",
       "      <td>0.457143</td>\n",
       "    </tr>\n",
       "    <tr>\n",
       "      <th>44431</th>\n",
       "      <td>1</td>\n",
       "      <td>0.385714</td>\n",
       "      <td>3</td>\n",
       "      <td>0.614286</td>\n",
       "      <td>0.771429</td>\n",
       "    </tr>\n",
       "    <tr>\n",
       "      <th>44432</th>\n",
       "      <td>1</td>\n",
       "      <td>0.176190</td>\n",
       "      <td>3</td>\n",
       "      <td>0.823810</td>\n",
       "      <td>0.295238</td>\n",
       "    </tr>\n",
       "    <tr>\n",
       "      <th>44433</th>\n",
       "      <td>1</td>\n",
       "      <td>0.376190</td>\n",
       "      <td>3</td>\n",
       "      <td>0.623810</td>\n",
       "      <td>0.409524</td>\n",
       "    </tr>\n",
       "    <tr>\n",
       "      <th>44434</th>\n",
       "      <td>1</td>\n",
       "      <td>0.457143</td>\n",
       "      <td>3</td>\n",
       "      <td>0.542857</td>\n",
       "      <td>0.457143</td>\n",
       "    </tr>\n",
       "    <tr>\n",
       "      <th>44435</th>\n",
       "      <td>3</td>\n",
       "      <td>0.438095</td>\n",
       "      <td>1</td>\n",
       "      <td>0.561905</td>\n",
       "      <td>0.476190</td>\n",
       "    </tr>\n",
       "    <tr>\n",
       "      <th>44436</th>\n",
       "      <td>1</td>\n",
       "      <td>0.380952</td>\n",
       "      <td>3</td>\n",
       "      <td>0.619048</td>\n",
       "      <td>0.419048</td>\n",
       "    </tr>\n",
       "    <tr>\n",
       "      <th>44437</th>\n",
       "      <td>1</td>\n",
       "      <td>0.385714</td>\n",
       "      <td>3</td>\n",
       "      <td>0.614286</td>\n",
       "      <td>0.771429</td>\n",
       "    </tr>\n",
       "    <tr>\n",
       "      <th>44438</th>\n",
       "      <td>1</td>\n",
       "      <td>0.457143</td>\n",
       "      <td>3</td>\n",
       "      <td>0.542857</td>\n",
       "      <td>0.457143</td>\n",
       "    </tr>\n",
       "    <tr>\n",
       "      <th>44439</th>\n",
       "      <td>3</td>\n",
       "      <td>0.457143</td>\n",
       "      <td>1</td>\n",
       "      <td>0.542857</td>\n",
       "      <td>0.457143</td>\n",
       "    </tr>\n",
       "    <tr>\n",
       "      <th>44440</th>\n",
       "      <td>1</td>\n",
       "      <td>0.457143</td>\n",
       "      <td>3</td>\n",
       "      <td>0.542857</td>\n",
       "      <td>0.457143</td>\n",
       "    </tr>\n",
       "    <tr>\n",
       "      <th>44441</th>\n",
       "      <td>2</td>\n",
       "      <td>0.457143</td>\n",
       "      <td>1</td>\n",
       "      <td>0.542857</td>\n",
       "      <td>0.457143</td>\n",
       "    </tr>\n",
       "    <tr>\n",
       "      <th>44442</th>\n",
       "      <td>2</td>\n",
       "      <td>0.466667</td>\n",
       "      <td>1</td>\n",
       "      <td>0.533333</td>\n",
       "      <td>0.457143</td>\n",
       "    </tr>\n",
       "    <tr>\n",
       "      <th>44443</th>\n",
       "      <td>3</td>\n",
       "      <td>0.261905</td>\n",
       "      <td>1</td>\n",
       "      <td>0.738095</td>\n",
       "      <td>0.352381</td>\n",
       "    </tr>\n",
       "    <tr>\n",
       "      <th>44444</th>\n",
       "      <td>1</td>\n",
       "      <td>0.266667</td>\n",
       "      <td>3</td>\n",
       "      <td>0.733333</td>\n",
       "      <td>0.247619</td>\n",
       "    </tr>\n",
       "  </tbody>\n",
       "</table>\n",
       "<p>44445 rows × 5 columns</p>\n",
       "</div>"
      ],
      "text/plain": [
       "       minor_allele  minor_frequency  major_allele  major_frequency  \\\n",
       "0                 1         0.319048             2         0.680952   \n",
       "1                 2         0.219048             3         0.780952   \n",
       "2                 3         0.061905             2         0.938095   \n",
       "3                 1         0.061905             3         0.938095   \n",
       "4                 3         0.309524             1         0.690476   \n",
       "5                 3         0.052381             1         0.947619   \n",
       "6                 1         0.204762             3         0.795238   \n",
       "7                 1         0.128571             3         0.871429   \n",
       "8                 1         0.133333             3         0.866667   \n",
       "9                 3         0.180952             2         0.819048   \n",
       "10                3         0.461905             1         0.538095   \n",
       "11                1         0.461905             2         0.538095   \n",
       "12                1         0.090476             3         0.909524   \n",
       "13                3         0.114286             1         0.885714   \n",
       "14                2         0.004762             1         0.995238   \n",
       "15                1         0.004762             3         0.995238   \n",
       "16                3         0.004762             1         0.995238   \n",
       "17                2         0.038095             1         0.961905   \n",
       "18                2         0.128571             3         0.871429   \n",
       "19                1         0.004762             2         0.995238   \n",
       "20                1         0.295238             3         0.704762   \n",
       "21                3         0.423810             1         0.576190   \n",
       "22                1         0.214286             3         0.785714   \n",
       "23                1         0.042857             3         0.957143   \n",
       "24                0         0.004762             1         0.995238   \n",
       "25                1         0.309524             3         0.690476   \n",
       "26                1         0.223810             3         0.776190   \n",
       "27                2         0.004762             3         0.995238   \n",
       "28                1         0.104762             3         0.895238   \n",
       "29                1         0.004762             3         0.995238   \n",
       "...             ...              ...           ...              ...   \n",
       "44415             1         0.066667             3         0.933333   \n",
       "44416             3         0.319048             1         0.680952   \n",
       "44417             3         0.333333             1         0.666667   \n",
       "44418             3         0.328571             1         0.671429   \n",
       "44419             1         0.147619             3         0.852381   \n",
       "44420             1         0.419048             3         0.580952   \n",
       "44421             1         0.071429             3         0.928571   \n",
       "44422             1         0.419048             3         0.580952   \n",
       "44423             1         0.166667             3         0.833333   \n",
       "44424             3         0.080952             1         0.919048   \n",
       "44425             3         0.295238             1         0.704762   \n",
       "44426             3         0.180952             1         0.819048   \n",
       "44427             1         0.028571             2         0.971429   \n",
       "44428             3         0.171429             1         0.828571   \n",
       "44429             1         0.080952             2         0.919048   \n",
       "44430             3         0.457143             1         0.542857   \n",
       "44431             1         0.385714             3         0.614286   \n",
       "44432             1         0.176190             3         0.823810   \n",
       "44433             1         0.376190             3         0.623810   \n",
       "44434             1         0.457143             3         0.542857   \n",
       "44435             3         0.438095             1         0.561905   \n",
       "44436             1         0.380952             3         0.619048   \n",
       "44437             1         0.385714             3         0.614286   \n",
       "44438             1         0.457143             3         0.542857   \n",
       "44439             3         0.457143             1         0.542857   \n",
       "44440             1         0.457143             3         0.542857   \n",
       "44441             2         0.457143             1         0.542857   \n",
       "44442             2         0.466667             1         0.533333   \n",
       "44443             3         0.261905             1         0.738095   \n",
       "44444             1         0.266667             3         0.733333   \n",
       "\n",
       "       heterozygote_frequency  \n",
       "0                    0.371429  \n",
       "1                    0.266667  \n",
       "2                    0.104762  \n",
       "3                    0.104762  \n",
       "4                    0.619048  \n",
       "5                    0.085714  \n",
       "6                    0.314286  \n",
       "7                    0.200000  \n",
       "8                    0.209524  \n",
       "9                    0.266667  \n",
       "10                   0.923810  \n",
       "11                   0.923810  \n",
       "12                   0.161905  \n",
       "13                   0.114286  \n",
       "14                   0.009524  \n",
       "15                   0.009524  \n",
       "16                   0.009524  \n",
       "17                   0.076190  \n",
       "18                   0.238095  \n",
       "19                   0.009524  \n",
       "20                   0.323810  \n",
       "21                   0.428571  \n",
       "22                   0.257143  \n",
       "23                   0.085714  \n",
       "24                   0.009524  \n",
       "25                   0.142857  \n",
       "26                   0.447619  \n",
       "27                   0.009524  \n",
       "28                   0.171429  \n",
       "29                   0.009524  \n",
       "...                       ...  \n",
       "44415                0.114286  \n",
       "44416                0.295238  \n",
       "44417                0.285714  \n",
       "44418                0.276190  \n",
       "44419                0.200000  \n",
       "44420                0.380952  \n",
       "44421                0.123810  \n",
       "44422                0.419048  \n",
       "44423                0.238095  \n",
       "44424                0.161905  \n",
       "44425                0.304762  \n",
       "44426                0.285714  \n",
       "44427                0.019048  \n",
       "44428                0.209524  \n",
       "44429                0.104762  \n",
       "44430                0.457143  \n",
       "44431                0.771429  \n",
       "44432                0.295238  \n",
       "44433                0.409524  \n",
       "44434                0.457143  \n",
       "44435                0.476190  \n",
       "44436                0.419048  \n",
       "44437                0.771429  \n",
       "44438                0.457143  \n",
       "44439                0.457143  \n",
       "44440                0.457143  \n",
       "44441                0.457143  \n",
       "44442                0.457143  \n",
       "44443                0.352381  \n",
       "44444                0.247619  \n",
       "\n",
       "[44445 rows x 5 columns]"
      ]
     },
     "execution_count": 32,
     "metadata": {},
     "output_type": "execute_result"
    }
   ],
   "source": [
    "eaf"
   ]
  },
  {
   "cell_type": "markdown",
   "metadata": {},
   "source": [
    "## The Tuson Genetic Map"
   ]
  },
  {
   "cell_type": "code",
   "execution_count": 33,
   "metadata": {
    "collapsed": true
   },
   "outputs": [],
   "source": [
    "def parse_recombination_rates(genetic_map_filename):\n",
    "    \"\"\"\n",
    "    Returns a list of crossover probabilities from a genetic map measured in centimorgans.\n",
    "    \"\"\"\n",
    "    genetic_map = pd.read_csv(genetic_map_filename, sep='\\t', index_col=None)\n",
    "    genetic_map.drop(['locus', 'agpv2', 'namZmPRDA', 'namZmPRDS'], axis=1, inplace=True)\n",
    "    genetic_map = np.array(genetic_map)\n",
    "    recombination_rates = col.OrderedDict()\n",
    "    for i in range(1, len(genetic_map), 1):\n",
    "        if genetic_map[i-1][0] == genetic_map[i][0]:\n",
    "            recombination_rates[i] = np.divide(np.abs(genetic_map[i][1] - genetic_map[i-1][1]), 100)\n",
    "        elif genetic_map[i-1][0] != genetic_map[i][0]:\n",
    "            recombination_rates[i] = 0.0\n",
    "    recombination_rates[len(genetic_map)] = 0.0\n",
    "    return list(recombination_rates.values())\n"
   ]
  },
  {
   "cell_type": "code",
   "execution_count": 34,
   "metadata": {
    "collapsed": false
   },
   "outputs": [],
   "source": [
    "recom_rates = parse_recombination_rates('raw_genetic_map.txt')"
   ]
  },
  {
   "cell_type": "markdown",
   "metadata": {},
   "source": [
    "### Using the parameters.PopulationStructure class"
   ]
  },
  {
   "cell_type": "code",
   "execution_count": 44,
   "metadata": {
    "collapsed": true
   },
   "outputs": [],
   "source": [
    "popst = parameters.PopulationStructure(tuson, 'population_structure_matrix.xlsx', 0.01, 1.0)"
   ]
  },
  {
   "cell_type": "code",
   "execution_count": 45,
   "metadata": {
    "collapsed": false
   },
   "outputs": [],
   "source": [
    "struct_mating_probs = popst.generate_population_structure()"
   ]
  },
  {
   "cell_type": "code",
   "execution_count": 46,
   "metadata": {
    "collapsed": false
   },
   "outputs": [],
   "source": [
    "def format_mating_pmfs(population_structure_dict):\n",
    "    mating_pmfs = {}\n",
    "    for ind, probabilities in population_structure_dict.items():\n",
    "        for i, prob in enumerate(probabilities):\n",
    "            values = []\n",
    "            probabilites = []\n",
    "            for i, prob in enumerate(struct_mating_probs[ind]):\n",
    "                values.append(i)\n",
    "                probabilites.append(prob)\n",
    "            pmf_values = (values, probabilites)\n",
    "            mating_pmfs[ind] = stats.rv_discrete(values=pmf_values)\n",
    "    return mating_pmfs"
   ]
  },
  {
   "cell_type": "code",
   "execution_count": 47,
   "metadata": {
    "collapsed": false
   },
   "outputs": [],
   "source": [
    "formed_mating_pmfs = format_mating_pmfs(struct_mating_probs)"
   ]
  },
  {
   "cell_type": "code",
   "execution_count": 48,
   "metadata": {
    "collapsed": false
   },
   "outputs": [],
   "source": [
    "def assign_primary_subpopulation(pop, struct_mating_probabilities):\n",
    "    primary_subpop = {}\n",
    "    for ind_id, inheritance_proportions in struct_mating_probabilities.items():\n",
    "        primary_subpop[ind_id] = float(np.argmax(inheritance_proportions))\n",
    "    for ind in pop.individuals():\n",
    "        ind.primary = primary_subpop[ind.ind_id]"
   ]
  },
  {
   "cell_type": "code",
   "execution_count": 49,
   "metadata": {
    "collapsed": true
   },
   "outputs": [],
   "source": [
    "assign_primary_subpopulation(tuson, struct_mating_probs)"
   ]
  },
  {
   "cell_type": "code",
   "execution_count": 50,
   "metadata": {
    "collapsed": true
   },
   "outputs": [],
   "source": [
    "tuson.dvars().mating_pmfs = formed_mating_pmfs"
   ]
  },
  {
   "cell_type": "code",
   "execution_count": 51,
   "metadata": {
    "collapsed": false
   },
   "outputs": [],
   "source": [
    "pop_struct_expansion = breed.ForcedPopulationStructureParentChooser(10000, formed_mating_pmfs)"
   ]
  },
  {
   "cell_type": "code",
   "execution_count": 52,
   "metadata": {
    "collapsed": false
   },
   "outputs": [],
   "source": [
    "primary_subpopulation_splitter = sim.InfoSplitter(field='primary',\n",
    "                                                  values=[0.0, 1.0, 2.0, 3.0,\n",
    "                                                          4.0, 5.0])\n",
    "tuson.setVirtualSplitter(primary_subpopulation_splitter)\n"
   ]
  },
  {
   "cell_type": "code",
   "execution_count": 54,
   "metadata": {
    "collapsed": false
   },
   "outputs": [
    {
     "data": {
      "text/plain": [
       "6"
      ]
     },
     "execution_count": 54,
     "metadata": {},
     "output_type": "execute_result"
    }
   ],
   "source": [
    "tuson.numVirtualSubPop()"
   ]
  },
  {
   "cell_type": "code",
   "execution_count": null,
   "metadata": {
    "collapsed": true
   },
   "outputs": [],
   "source": []
  },
  {
   "cell_type": "code",
   "execution_count": null,
   "metadata": {
    "collapsed": true
   },
   "outputs": [],
   "source": []
  },
  {
   "cell_type": "code",
   "execution_count": 56,
   "metadata": {
    "collapsed": true
   },
   "outputs": [],
   "source": [
    "sim.tagID(tuson, reset=False)"
   ]
  },
  {
   "cell_type": "code",
   "execution_count": 57,
   "metadata": {
    "collapsed": true
   },
   "outputs": [],
   "source": [
    "multi_son = sim.Simulator(tuson, rep=5)"
   ]
  },
  {
   "cell_type": "code",
   "execution_count": null,
   "metadata": {
    "collapsed": true
   },
   "outputs": [],
   "source": []
  },
  {
   "cell_type": "code",
   "execution_count": null,
   "metadata": {
    "collapsed": true
   },
   "outputs": [],
   "source": []
  },
  {
   "cell_type": "code",
   "execution_count": 58,
   "metadata": {
    "collapsed": false
   },
   "outputs": [
    {
     "data": {
      "text/plain": [
       "(1, 1, 1, 1, 1)"
      ]
     },
     "execution_count": 58,
     "metadata": {},
     "output_type": "execute_result"
    }
   ],
   "source": [
    "multi_son.evolve(\n",
    "    matingScheme=sim.HomoMating(\n",
    "        sim.PyParentsChooser(pop_struct_expansion.forced_structure_parent_chooser),\n",
    "        sim.OffspringGenerator(ops=[sim.IdTagger(), sim.ParentsTagger(), sim.PedigreeTagger(),\n",
    "                                   sim.Recombinator(recom_rates)], numOffspring=1),\n",
    "            subPopSize=1000),\n",
    "    gen=1\n",
    ")"
   ]
  },
  {
   "cell_type": "code",
   "execution_count": 59,
   "metadata": {
    "collapsed": false
   },
   "outputs": [
    {
     "data": {
      "text/plain": [
       "(1, 1, 1, 1, 1)"
      ]
     },
     "execution_count": 59,
     "metadata": {},
     "output_type": "execute_result"
    }
   ],
   "source": [
    "multi_son.evolve(\n",
    "    matingScheme=sim.RandomMating(ops=[sim.IdTagger(), sim.ParentsTagger(), sim.PedigreeTagger(),\n",
    "                                   sim.Recombinator(recom_rates)], numOffspring=1,\n",
    "            subPopSize=1000),\n",
    "    gen=1,\n",
    ")"
   ]
  },
  {
   "cell_type": "code",
   "execution_count": 60,
   "metadata": {
    "collapsed": false
   },
   "outputs": [
    {
     "name": "stdout",
     "output_type": "stream",
     "text": [
      "1000\n",
      "1000\n",
      "1000\n",
      "1000\n",
      "1000\n"
     ]
    }
   ],
   "source": [
    "for pop in multi_son.populations():\n",
    "    print(pop.popSize())"
   ]
  },
  {
   "cell_type": "code",
   "execution_count": null,
   "metadata": {
    "collapsed": true
   },
   "outputs": [],
   "source": []
  },
  {
   "cell_type": "code",
   "execution_count": 80,
   "metadata": {
    "collapsed": true
   },
   "outputs": [],
   "source": []
  },
  {
   "cell_type": "code",
   "execution_count": 64,
   "metadata": {
    "collapsed": false
   },
   "outputs": [
    {
     "name": "stdout",
     "output_type": "stream",
     "text": [
      "Type: Recurrent Selection\n",
      "**************************\n",
      "Generations of Selection: 4\n",
      "Generations of Random Mating: 1\n",
      "Operating Population Size: 1000\n",
      "Proportion of Individuals Saved: 0.05\n",
      "Number of Replicates: 1\n",
      "\n"
     ]
    }
   ],
   "source": [
    "print(trun)"
   ]
  },
  {
   "cell_type": "code",
   "execution_count": 66,
   "metadata": {
    "collapsed": false
   },
   "outputs": [],
   "source": [
    "first = multi_son.population(0)"
   ]
  },
  {
   "cell_type": "code",
   "execution_count": null,
   "metadata": {
    "collapsed": true
   },
   "outputs": [],
   "source": []
  },
  {
   "cell_type": "code",
   "execution_count": 67,
   "metadata": {
    "collapsed": true
   },
   "outputs": [],
   "source": [
    "meta_first = first.clone()"
   ]
  },
  {
   "cell_type": "code",
   "execution_count": 68,
   "metadata": {
    "collapsed": true
   },
   "outputs": [],
   "source": [
    "meta_first.removeSubPops(0)"
   ]
  },
  {
   "cell_type": "code",
   "execution_count": 69,
   "metadata": {
    "collapsed": false
   },
   "outputs": [
    {
     "data": {
      "text/plain": [
       "0"
      ]
     },
     "execution_count": 69,
     "metadata": {},
     "output_type": "execute_result"
    }
   ],
   "source": [
    "meta_first.popSize()"
   ]
  },
  {
   "cell_type": "code",
   "execution_count": 70,
   "metadata": {
    "collapsed": true
   },
   "outputs": [],
   "source": [
    "qtl = random.sample(range(100), 10)"
   ]
  },
  {
   "cell_type": "code",
   "execution_count": 72,
   "metadata": {
    "collapsed": false
   },
   "outputs": [],
   "source": [
    "additive_trait = parameters.Trait()"
   ]
  },
  {
   "cell_type": "code",
   "execution_count": null,
   "metadata": {
    "collapsed": true
   },
   "outputs": [],
   "source": []
  },
  {
   "cell_type": "code",
   "execution_count": 76,
   "metadata": {
    "collapsed": false
   },
   "outputs": [],
   "source": [
    "allele_effects = additive_trait.assign_allele_effects(alleles, qtl, random.expovariate, 1, multiplicity=1)"
   ]
  },
  {
   "cell_type": "code",
   "execution_count": 84,
   "metadata": {
    "collapsed": false
   },
   "outputs": [
    {
     "data": {
      "text/plain": [
       "<module 'saegus.simulate' from 'C:\\\\Anaconda3\\\\lib\\\\site-packages\\\\saegus\\\\simulate.py'>"
      ]
     },
     "execution_count": 84,
     "metadata": {},
     "output_type": "execute_result"
    }
   ],
   "source": [
    "import importlib as imp\n",
    "imp.reload(simulate)"
   ]
  },
  {
   "cell_type": "code",
   "execution_count": 85,
   "metadata": {
    "collapsed": true
   },
   "outputs": [],
   "source": [
    "sampling_generations = [i for i in range(2, 4, 2)]"
   ]
  },
  {
   "cell_type": "code",
   "execution_count": 86,
   "metadata": {
    "collapsed": false
   },
   "outputs": [
    {
     "data": {
      "text/plain": [
       "[2]"
      ]
     },
     "execution_count": 86,
     "metadata": {},
     "output_type": "execute_result"
    }
   ],
   "source": [
    "sampling_generations"
   ]
  },
  {
   "cell_type": "code",
   "execution_count": 87,
   "metadata": {
    "collapsed": true
   },
   "outputs": [],
   "source": [
    "trun = simulate.Truncation(4, 1, 1000, 0.05, 0.50, 5, 0.7, 50, 1)"
   ]
  },
  {
   "cell_type": "code",
   "execution_count": null,
   "metadata": {
    "collapsed": true
   },
   "outputs": [],
   "source": []
  },
  {
   "cell_type": "code",
   "execution_count": null,
   "metadata": {
    "collapsed": true
   },
   "outputs": [],
   "source": []
  },
  {
   "cell_type": "code",
   "execution_count": 88,
   "metadata": {
    "collapsed": false
   },
   "outputs": [
    {
     "ename": "TypeError",
     "evalue": "'int' object is not iterable",
     "output_type": "error",
     "traceback": [
      "\u001b[1;31m---------------------------------------------------------------------------\u001b[0m",
      "\u001b[1;31mTypeError\u001b[0m                                 Traceback (most recent call last)",
      "\u001b[1;32mC:\\Anaconda3\\lib\\site-packages\\saegus\\operators.py\u001b[0m in \u001b[0;36madditive_model\u001b[1;34m(self, pop)\u001b[0m\n\u001b[0;32m     51\u001b[0m                      \u001b[1;32mfor\u001b[0m\u001b[1;33m\u001b[0m\u001b[0m\n\u001b[0;32m     52\u001b[0m                      \u001b[0mlocus\u001b[0m\u001b[1;33m\u001b[0m\u001b[0m\n\u001b[1;32m---> 53\u001b[1;33m                      in self.absolute_qtl[rep_id]])\n\u001b[0m\u001b[0;32m     54\u001b[0m             \u001b[0mind\u001b[0m\u001b[1;33m.\u001b[0m\u001b[0mg\u001b[0m \u001b[1;33m=\u001b[0m \u001b[0mgenotypic_contribution\u001b[0m\u001b[1;33m\u001b[0m\u001b[0m\n\u001b[0;32m     55\u001b[0m         \u001b[1;32mreturn\u001b[0m \u001b[1;32mTrue\u001b[0m\u001b[1;33m\u001b[0m\u001b[0m\n",
      "\u001b[1;31mTypeError\u001b[0m: 'int' object is not iterable"
     ]
    },
    {
     "ename": "ValueError",
     "evalue": "Function call failed\n",
     "output_type": "error",
     "traceback": [
      "\u001b[1;31m---------------------------------------------------------------------------\u001b[0m",
      "\u001b[1;31mValueError\u001b[0m                                Traceback (most recent call last)",
      "\u001b[1;32m<ipython-input-88-563f11f956fd>\u001b[0m in \u001b[0;36m<module>\u001b[1;34m()\u001b[0m\n\u001b[1;32m----> 1\u001b[1;33m \u001b[0mtrun\u001b[0m\u001b[1;33m.\u001b[0m\u001b[0mrecurrent_truncation_selection\u001b[0m\u001b[1;33m(\u001b[0m\u001b[0mfirst\u001b[0m\u001b[1;33m,\u001b[0m \u001b[0mmeta_first\u001b[0m\u001b[1;33m,\u001b[0m \u001b[0mqtl\u001b[0m\u001b[1;33m,\u001b[0m \u001b[0mallele_effects\u001b[0m\u001b[1;33m,\u001b[0m \u001b[0mrecom_rates\u001b[0m\u001b[1;33m,\u001b[0m \u001b[0msampling_generations\u001b[0m\u001b[1;33m)\u001b[0m\u001b[1;33m\u001b[0m\u001b[0m\n\u001b[0m",
      "\u001b[1;32mC:\\Anaconda3\\lib\\site-packages\\saegus\\simulate.py\u001b[0m in \u001b[0;36mrecurrent_truncation_selection\u001b[1;34m(self, pop, meta_pop, qtl, aes, recombination_rates, sampling_generations)\u001b[0m\n\u001b[0;32m    289\u001b[0m                 \u001b[0moperators\u001b[0m\u001b[1;33m.\u001b[0m\u001b[0mSorter\u001b[0m\u001b[1;33m(\u001b[0m\u001b[1;34m'p'\u001b[0m\u001b[1;33m)\u001b[0m\u001b[1;33m,\u001b[0m\u001b[1;33m\u001b[0m\u001b[0m\n\u001b[0;32m    290\u001b[0m             ],\n\u001b[1;32m--> 291\u001b[1;33m             gen=self.generations_of_selection)\n\u001b[0m\u001b[0;32m    292\u001b[0m \u001b[1;33m\u001b[0m\u001b[0m\n\u001b[0;32m    293\u001b[0m     def replicate_selection(self, multi_pop, multi_meta_pop, qtl, aes,\n",
      "\u001b[1;32mC:\\Anaconda3\\lib\\site-packages\\simuPOP\\__init__.py\u001b[0m in \u001b[0;36mevolve_pop\u001b[1;34m(self, initOps, preOps, matingScheme, postOps, finalOps, gen, dryrun)\u001b[0m\n\u001b[0;32m    405\u001b[0m     \u001b[0msimu\u001b[0m \u001b[1;33m=\u001b[0m \u001b[0mSimulator\u001b[0m\u001b[1;33m(\u001b[0m\u001b[0mself\u001b[0m\u001b[1;33m)\u001b[0m\u001b[1;33m\u001b[0m\u001b[0m\n\u001b[0;32m    406\u001b[0m     \u001b[1;31m# evolve\u001b[0m\u001b[1;33m\u001b[0m\u001b[1;33m\u001b[0m\u001b[0m\n\u001b[1;32m--> 407\u001b[1;33m     \u001b[0mgen\u001b[0m \u001b[1;33m=\u001b[0m \u001b[0msimu\u001b[0m\u001b[1;33m.\u001b[0m\u001b[0mevolve\u001b[0m\u001b[1;33m(\u001b[0m\u001b[0minitOps\u001b[0m\u001b[1;33m,\u001b[0m \u001b[0mpreOps\u001b[0m\u001b[1;33m,\u001b[0m \u001b[0mmatingScheme\u001b[0m\u001b[1;33m,\u001b[0m \u001b[0mpostOps\u001b[0m\u001b[1;33m,\u001b[0m \u001b[0mfinalOps\u001b[0m\u001b[1;33m,\u001b[0m \u001b[0mgen\u001b[0m\u001b[1;33m)\u001b[0m\u001b[1;33m\u001b[0m\u001b[0m\n\u001b[0m\u001b[0;32m    408\u001b[0m     \u001b[1;31m# get the evolved population\u001b[0m\u001b[1;33m\u001b[0m\u001b[1;33m\u001b[0m\u001b[0m\n\u001b[0;32m    409\u001b[0m     \u001b[0mself\u001b[0m\u001b[1;33m.\u001b[0m\u001b[0mswap\u001b[0m\u001b[1;33m(\u001b[0m\u001b[0msimu\u001b[0m\u001b[1;33m.\u001b[0m\u001b[0mpopulation\u001b[0m\u001b[1;33m(\u001b[0m\u001b[1;36m0\u001b[0m\u001b[1;33m)\u001b[0m\u001b[1;33m)\u001b[0m\u001b[1;33m\u001b[0m\u001b[0m\n",
      "\u001b[1;31mValueError\u001b[0m: Function call failed\n"
     ]
    }
   ],
   "source": [
    "trun.recurrent_truncation_selection(first, meta_first, qtl, allele_effects, recom_rates, sampling_generations)"
   ]
  },
  {
   "cell_type": "code",
   "execution_count": null,
   "metadata": {
    "collapsed": true
   },
   "outputs": [],
   "source": []
  },
  {
   "cell_type": "code",
   "execution_count": null,
   "metadata": {
    "collapsed": true
   },
   "outputs": [],
   "source": []
  },
  {
   "cell_type": "code",
   "execution_count": null,
   "metadata": {
    "collapsed": true
   },
   "outputs": [],
   "source": [
    "def recurrent_truncation_selection(self, pop, meta_pop, qtl, aes,\n",
    "                                   recombination_rates):\n",
    "    \"\"\"\n",
    "    Sets up and runs recurrent selection for a number of generations for a\n",
    "    single replicate population. Samples individuals at specified\n",
    "    intervals to make a ``meta_pop``.\n",
    "\n",
    "    :param pop: Population which undergoes selection.\n",
    "    :param meta_pop: Population into which sampled individuals are\n",
    "    deposited\n",
    "    :param qtl: List of loci to which allele effects have been assigned\n",
    "    :param aes: Dictionary of allele effects\n",
    "    \"\"\"\n",
    "\n",
    "    pop.dvars().gen = 0\n",
    "    meta_pop.dvars().gen = 0\n",
    "\n",
    "    sizes = [individuals_per_breeding_subpop] \\\n",
    "            * number_of_breeding_subpops + \\\n",
    "            [number_of_nonbreeding_individuals]\n",
    "    offspring_pops = [offspring_per_breeding_subpop] \\\n",
    "                     * number_of_breeding_subpops + [0]\n",
    "\n",
    "    assert len(sizes) == len(offspring_pops), \"Number of parental \" \\\n",
    "                                              \"subpopulations must equal \" \\\n",
    "                                              \"the number of offspring \" \\\n",
    "                                              \"subpopulations\"\n",
    "\n",
    "    sampling_generations = [i for i in range(2, generations_of_selection, 2)]\n",
    "\n",
    "    pc = breed.HalfSibBulkBalanceChooser(individuals_per_breeding_subpop, offspring_per_female)\n",
    "\n",
    "    pop.evolve(\n",
    "        initOps=[\n",
    "            sim.InitInfo(0, infoFields=['generation']),\n",
    "            operators.GenoAdditive(qtl, aes),\n",
    "            operators.CalculateErrorVariance(heritability),\n",
    "            operators.PhenotypeCalculator(proportion_of_individuals_saved),\n",
    "            operators.MetaPopulation(meta_pop,\n",
    "                                     self.meta_pop_sample_sizes),\n",
    "            sim.PyEval(r'\"Initial: Sampled %d individuals from generation '\n",
    "                       r'%d Replicate: %d.\\n\" % (ss, gen_sampled_from, '\n",
    "                       r'rep)'),\n",
    "            operators.Sorter('p'),\n",
    "            sim.SplitSubPops(sizes=[self.number_of_breeding_individuals,\n",
    "                                    self.number_of_nonbreeding_individuals],\n",
    "                             randomize=False),\n",
    "            sim.MergeSubPops(),\n",
    "            operators.Sorter('p'),\n",
    "        ],\n",
    "        \n",
    "        preOps=[\n",
    "            sim.PyEval(r'\"Generation: %d\\n\" % gen'),\n",
    "            operators.GenoAdditive(qtl, aes, begin=1),\n",
    "            sim.InfoExec('generation=gen'),\n",
    "            operators.PhenotypeCalculator(proportion_of_individuals_saved, begin=1),\n",
    "            operators.MetaPopulation(meta_pop, meta_pop_sample_sizes, at=sampling_generations),\n",
    "            operators.Sorter('p'),\n",
    "            sim.SplitSubPops(sizes=[self.number_of_breeding_individuals,\n",
    "                                    self.number_of_nonbreeding_individuals],\n",
    "                             randomize=False),\n",
    "            sim.MergeSubPops(),\n",
    "            operators.Sorter('p'),\n",
    "            sim.SplitSubPops(sizes=sizes, randomize=False),\n",
    "        ],\n",
    "        \n",
    "        matingScheme=sim.HomoMating(\n",
    "            sim.PyParentsChooser(pc.recursive_pairwise_parent_chooser),\n",
    "            sim.OffspringGenerator(\n",
    "                ops=[sim.IdTagger(), sim.PedigreeTagger(),\n",
    "                     sim.Recombinator(rates=recombination_rates)],\n",
    "                numOffspring=1),\n",
    "            subPopSize=offspring_pops,\n",
    "            subPops=list(range(1, self.number_of_breeding_subpops, 1))\n",
    "        ),\n",
    "        postOps=[\n",
    "            sim.MergeSubPops(),\n",
    "            operators.DiscardRandomOffspring(number_of_offspring_discarded),\n",
    "        ],\n",
    "        finalOps=[\n",
    "            sim.InfoExec('generation=gen'),\n",
    "            operators.GenoAdditive(qtl, aes),\n",
    "            operators.PhenotypeCalculator(proportion_of_individuals_saved),\n",
    "            operators.MetaPopulation(meta_pop, self.meta_pop_sample_sizes),\n",
    "            sim.PyEval(\n",
    "                r'\"Final: Sampled %d individuals from generation %d\\n\" '\n",
    "                r'% (ss, gen_sampled_from)'),\n",
    "            operators.Sorter('p'),\n",
    "            sim.SplitSubPops(sizes=[self.number_of_breeding_individuals,\n",
    "                                    self.number_of_nonbreeding_individuals],\n",
    "                             randomize=False),\n",
    "            operators.Sorter('p'),\n",
    "            sim.MergeSubPops(),\n",
    "            operators.Sorter('p'),\n",
    "        ],\n",
    "        gen=self.generations_of_selection)\n"
   ]
  },
  {
   "cell_type": "code",
   "execution_count": null,
   "metadata": {
    "collapsed": true
   },
   "outputs": [],
   "source": [
    "        sampling_generations = [i for i in range(2,\n",
    "                                                 self.generations_of_selection,\n",
    "                                                 2)]"
   ]
  },
  {
   "cell_type": "code",
   "execution_count": null,
   "metadata": {
    "collapsed": true
   },
   "outputs": [],
   "source": [
    "class Trun(object):\n",
    "    \n",
    "    def __init__(self, generations_selection, start_gen, step):\n",
    "        self.generations_selection = generations_selection\n",
    "        self.sampling_generations = [i for i in range(start_gen, generations_selection, step)]"
   ]
  },
  {
   "cell_type": "code",
   "execution_count": null,
   "metadata": {
    "collapsed": false
   },
   "outputs": [],
   "source": [
    "tr = Trun(10, 2, 2)"
   ]
  },
  {
   "cell_type": "code",
   "execution_count": null,
   "metadata": {
    "collapsed": false
   },
   "outputs": [],
   "source": [
    "tr.sampling_generations"
   ]
  },
  {
   "cell_type": "code",
   "execution_count": null,
   "metadata": {
    "collapsed": true
   },
   "outputs": [],
   "source": [
    "tuson"
   ]
  }
 ],
 "metadata": {
  "kernelspec": {
   "display_name": "Python 3",
   "language": "python",
   "name": "python3"
  },
  "language_info": {
   "codemirror_mode": {
    "name": "ipython",
    "version": 3
   },
   "file_extension": ".py",
   "mimetype": "text/x-python",
   "name": "python",
   "nbconvert_exporter": "python",
   "pygments_lexer": "ipython3",
   "version": "3.4.4"
  }
 },
 "nbformat": 4,
 "nbformat_minor": 0
}
