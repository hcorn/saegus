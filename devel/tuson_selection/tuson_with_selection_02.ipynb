{
 "cells": [
  {
   "cell_type": "code",
   "execution_count": 1,
   "metadata": {
    "collapsed": false
   },
   "outputs": [],
   "source": [
    "import simuOpt\n",
    "simuOpt.setOptions(quiet=True, optimized=True, numThreads=4)\n",
    "import simuPOP as sim\n",
    "import os, numpy as np, pandas as pd, collections as col\n",
    "from saegus import analyze, simulate, parameters, breed, operators\n",
    "from scipy import stats\n",
    "import random\n",
    "np.set_printoptions(suppress=True, precision=3)"
   ]
  },
  {
   "cell_type": "code",
   "execution_count": 2,
   "metadata": {
    "collapsed": true
   },
   "outputs": [],
   "source": [
    "tuson = sim.loadPopulation('tuson.pop')"
   ]
  },
  {
   "cell_type": "code",
   "execution_count": 3,
   "metadata": {
    "collapsed": true
   },
   "outputs": [],
   "source": [
    "artemis = analyze.Study('artemis')"
   ]
  },
  {
   "cell_type": "code",
   "execution_count": 4,
   "metadata": {
    "collapsed": false
   },
   "outputs": [],
   "source": [
    "sim.stat(tuson, numOfSegSites=sim.ALL_AVAIL, vars=['numOfSegSites', 'segSites', 'numOfFixedSites', 'fixedSites'])\n",
    "parameters.randomly_convert_fixed_sites(tuson, tuson.dvars().fixedSites)\n",
    "sim.stat(tuson, numOfSegSites=sim.ALL_AVAIL, vars=['numOfSegSites', 'segSites', 'numOfFixedSites', 'fixedSites'])"
   ]
  },
  {
   "cell_type": "code",
   "execution_count": 5,
   "metadata": {
    "collapsed": false
   },
   "outputs": [
    {
     "data": {
      "text/plain": [
       "0"
      ]
     },
     "execution_count": 5,
     "metadata": {},
     "output_type": "execute_result"
    }
   ],
   "source": [
    "tuson.dvars().numOfFixedSites"
   ]
  },
  {
   "cell_type": "code",
   "execution_count": null,
   "metadata": {
    "collapsed": true
   },
   "outputs": [],
   "source": []
  },
  {
   "cell_type": "code",
   "execution_count": 6,
   "metadata": {
    "collapsed": true
   },
   "outputs": [],
   "source": [
    "sim.stat(tuson, alleleFreq=sim.ALL_AVAIL)"
   ]
  },
  {
   "cell_type": "code",
   "execution_count": 7,
   "metadata": {
    "collapsed": true
   },
   "outputs": [],
   "source": [
    "sim.stat(tuson, homoFreq=sim.ALL_AVAIL)"
   ]
  },
  {
   "cell_type": "code",
   "execution_count": 8,
   "metadata": {
    "collapsed": true
   },
   "outputs": [],
   "source": [
    "sim.stat(tuson, heteroFreq=sim.ALL_AVAIL)"
   ]
  },
  {
   "cell_type": "code",
   "execution_count": null,
   "metadata": {
    "collapsed": true
   },
   "outputs": [],
   "source": []
  },
  {
   "cell_type": "code",
   "execution_count": 9,
   "metadata": {
    "collapsed": true
   },
   "outputs": [],
   "source": [
    "alleles  = np.array([list(tuson.dvars().alleleFreq[locus].keys()) for locus in range(tuson.totNumLoci())], dtype=np.int8)"
   ]
  },
  {
   "cell_type": "code",
   "execution_count": 12,
   "metadata": {
    "collapsed": false
   },
   "outputs": [
    {
     "data": {
      "text/plain": [
       "(44445, 2)"
      ]
     },
     "execution_count": 12,
     "metadata": {},
     "output_type": "execute_result"
    }
   ],
   "source": [
    "alleles.shape"
   ]
  },
  {
   "cell_type": "markdown",
   "metadata": {},
   "source": [
    "## Alleles for Fixed Sites chosen at random."
   ]
  },
  {
   "cell_type": "code",
   "execution_count": 11,
   "metadata": {
    "collapsed": false
   },
   "outputs": [],
   "source": [
    "np.savetxt('alleles_of_tuson_founders.txt', alleles, fmt='%d', delimiter='\\t')"
   ]
  },
  {
   "cell_type": "code",
   "execution_count": 13,
   "metadata": {
    "collapsed": true
   },
   "outputs": [],
   "source": [
    "af = analyze.allele_data(tuson, alleles, range(tuson.totNumLoci()))"
   ]
  },
  {
   "cell_type": "code",
   "execution_count": 14,
   "metadata": {
    "collapsed": false
   },
   "outputs": [],
   "source": [
    "minor_alleles = np.array(af['minor_allele'])"
   ]
  },
  {
   "cell_type": "code",
   "execution_count": 15,
   "metadata": {
    "collapsed": false
   },
   "outputs": [
    {
     "data": {
      "text/plain": [
       "array([ 1.,  2.,  3., ...,  2.,  3.,  1.])"
      ]
     },
     "execution_count": 15,
     "metadata": {},
     "output_type": "execute_result"
    }
   ],
   "source": [
    "minor_alleles"
   ]
  },
  {
   "cell_type": "code",
   "execution_count": null,
   "metadata": {
    "collapsed": true
   },
   "outputs": [],
   "source": []
  },
  {
   "cell_type": "code",
   "execution_count": null,
   "metadata": {
    "collapsed": true
   },
   "outputs": [],
   "source": [
    "def expanded_allele_data(pop, allele_data_structure):\n",
    "    sim.stat(pop, heteroFreq=sim.ALL_AVAIL)\n",
    "    hetero_frqs = np.array(list(pop.dvars().heteroFreq.values()))\n",
    "    hetero_column = pd.DataFrame(hetero_frqs, columns=['heterozygote_frequency'])\n",
    "    return allele_data_structure.join(hetero_column)"
   ]
  },
  {
   "cell_type": "code",
   "execution_count": null,
   "metadata": {
    "collapsed": true
   },
   "outputs": [],
   "source": [
    "eaf = expanded_allele_data(tuson, af)"
   ]
  },
  {
   "cell_type": "code",
   "execution_count": null,
   "metadata": {
    "collapsed": false
   },
   "outputs": [],
   "source": [
    "eaf.to_csv('example_allele_frequency_table.txt', sep='\\t')"
   ]
  },
  {
   "cell_type": "code",
   "execution_count": null,
   "metadata": {
    "collapsed": true
   },
   "outputs": [],
   "source": [
    "eaf.to_csv('expanded_tuson_founder_allele_frqs.txt', sep='\\t')"
   ]
  },
  {
   "cell_type": "code",
   "execution_count": 16,
   "metadata": {
    "collapsed": true
   },
   "outputs": [],
   "source": [
    "tuson.addInfoFields(['generation', 'replicate', 'g', 'p'])"
   ]
  },
  {
   "cell_type": "code",
   "execution_count": null,
   "metadata": {
    "collapsed": true
   },
   "outputs": [],
   "source": [
    "tuson.save('working_tuson.pop')"
   ]
  },
  {
   "cell_type": "code",
   "execution_count": null,
   "metadata": {
    "collapsed": true
   },
   "outputs": [],
   "source": [
    "tuson.asPedigree()"
   ]
  },
  {
   "cell_type": "code",
   "execution_count": null,
   "metadata": {
    "collapsed": true
   },
   "outputs": [],
   "source": [
    "tuson.save(\"tuson_pedigree.txt\", infoFields=['g', 'p'], loci=sim.ALL_AVAIL)"
   ]
  },
  {
   "cell_type": "code",
   "execution_count": 17,
   "metadata": {
    "collapsed": false
   },
   "outputs": [
    {
     "data": {
      "text/plain": [
       "105"
      ]
     },
     "execution_count": 17,
     "metadata": {},
     "output_type": "execute_result"
    }
   ],
   "source": [
    "tuson.popSize()"
   ]
  },
  {
   "cell_type": "code",
   "execution_count": 18,
   "metadata": {
    "collapsed": false
   },
   "outputs": [
    {
     "ename": "AttributeError",
     "evalue": "'Population' object has no attribute 'asPopulation'",
     "output_type": "error",
     "traceback": [
      "\u001b[1;31m---------------------------------------------------------------------------\u001b[0m",
      "\u001b[1;31mAttributeError\u001b[0m                            Traceback (most recent call last)",
      "\u001b[1;32m<ipython-input-18-f2975c2ee60d>\u001b[0m in \u001b[0;36m<module>\u001b[1;34m()\u001b[0m\n\u001b[1;32m----> 1\u001b[1;33m \u001b[0mtuson\u001b[0m\u001b[1;33m.\u001b[0m\u001b[0masPopulation\u001b[0m\u001b[1;33m(\u001b[0m\u001b[1;33m)\u001b[0m\u001b[1;33m\u001b[0m\u001b[0m\n\u001b[0m",
      "\u001b[1;31mAttributeError\u001b[0m: 'Population' object has no attribute 'asPopulation'"
     ]
    }
   ],
   "source": [
    "tuson.asPopulation()"
   ]
  },
  {
   "cell_type": "markdown",
   "metadata": {},
   "source": [
    "## The Tuson Genetic Map"
   ]
  },
  {
   "cell_type": "code",
   "execution_count": 19,
   "metadata": {
    "collapsed": true
   },
   "outputs": [],
   "source": [
    "def parse_recombination_rates(genetic_map_filename):\n",
    "    \"\"\"\n",
    "    Returns a list of crossover probabilities from a genetic map measured in centimorgans.\n",
    "    \"\"\"\n",
    "    genetic_map = pd.read_csv(genetic_map_filename, sep='\\t', index_col=None)\n",
    "    genetic_map.drop(['locus', 'agpv2', 'namZmPRDA', 'namZmPRDS'], axis=1, inplace=True)\n",
    "    genetic_map = np.array(genetic_map)\n",
    "    recombination_rates = col.OrderedDict()\n",
    "    for i in range(1, len(genetic_map), 1):\n",
    "        if genetic_map[i-1][0] == genetic_map[i][0]:\n",
    "            recombination_rates[i] = np.divide(np.abs(genetic_map[i][1] - genetic_map[i-1][1]), 100)\n",
    "        elif genetic_map[i-1][0] != genetic_map[i][0]:\n",
    "            recombination_rates[i] = 0.0\n",
    "    recombination_rates[len(genetic_map)] = 0.0\n",
    "    return list(recombination_rates.values())\n"
   ]
  },
  {
   "cell_type": "code",
   "execution_count": 20,
   "metadata": {
    "collapsed": false
   },
   "outputs": [],
   "source": [
    "recom_rates = parse_recombination_rates('raw_genetic_map.txt')"
   ]
  },
  {
   "cell_type": "markdown",
   "metadata": {},
   "source": [
    "### Using the parameters.PopulationStructure class"
   ]
  },
  {
   "cell_type": "code",
   "execution_count": 21,
   "metadata": {
    "collapsed": true
   },
   "outputs": [],
   "source": [
    "popst = parameters.PopulationStructure(tuson, 'population_structure_matrix.xlsx', 0.01, 1.0)"
   ]
  },
  {
   "cell_type": "code",
   "execution_count": 22,
   "metadata": {
    "collapsed": false
   },
   "outputs": [],
   "source": [
    "struct_mating_probs = popst.generate_population_structure()"
   ]
  },
  {
   "cell_type": "code",
   "execution_count": 23,
   "metadata": {
    "collapsed": false
   },
   "outputs": [],
   "source": [
    "def format_mating_pmfs(population_structure_dict):\n",
    "    mating_pmfs = {}\n",
    "    for ind, probabilities in population_structure_dict.items():\n",
    "        for i, prob in enumerate(probabilities):\n",
    "            values = []\n",
    "            probabilites = []\n",
    "            for i, prob in enumerate(struct_mating_probs[ind]):\n",
    "                values.append(i)\n",
    "                probabilites.append(prob)\n",
    "            pmf_values = (values, probabilites)\n",
    "            mating_pmfs[ind] = stats.rv_discrete(values=pmf_values)\n",
    "    return mating_pmfs"
   ]
  },
  {
   "cell_type": "code",
   "execution_count": 24,
   "metadata": {
    "collapsed": false
   },
   "outputs": [],
   "source": [
    "formed_mating_pmfs = format_mating_pmfs(struct_mating_probs)"
   ]
  },
  {
   "cell_type": "code",
   "execution_count": 25,
   "metadata": {
    "collapsed": false
   },
   "outputs": [],
   "source": [
    "def assign_primary_subpopulation(pop, struct_mating_probabilities):\n",
    "    primary_subpop = {}\n",
    "    for ind_id, inheritance_proportions in struct_mating_probabilities.items():\n",
    "        primary_subpop[ind_id] = float(np.argmax(inheritance_proportions))\n",
    "    for ind in pop.individuals():\n",
    "        ind.primary = primary_subpop[ind.ind_id]"
   ]
  },
  {
   "cell_type": "code",
   "execution_count": 26,
   "metadata": {
    "collapsed": true
   },
   "outputs": [],
   "source": [
    "assign_primary_subpopulation(tuson, struct_mating_probs)"
   ]
  },
  {
   "cell_type": "code",
   "execution_count": 27,
   "metadata": {
    "collapsed": true
   },
   "outputs": [],
   "source": [
    "tuson.dvars().mating_pmfs = formed_mating_pmfs"
   ]
  },
  {
   "cell_type": "code",
   "execution_count": 28,
   "metadata": {
    "collapsed": false
   },
   "outputs": [],
   "source": [
    "pop_struct_expansion = breed.ForcedPopulationStructureParentChooser(10000, formed_mating_pmfs)"
   ]
  },
  {
   "cell_type": "code",
   "execution_count": 29,
   "metadata": {
    "collapsed": false
   },
   "outputs": [],
   "source": [
    "primary_subpopulation_splitter = sim.InfoSplitter(field='primary',\n",
    "                                                  values=[0.0, 1.0, 2.0, 3.0,\n",
    "                                                          4.0, 5.0])\n",
    "tuson.setVirtualSplitter(primary_subpopulation_splitter)\n"
   ]
  },
  {
   "cell_type": "code",
   "execution_count": 30,
   "metadata": {
    "collapsed": false
   },
   "outputs": [
    {
     "data": {
      "text/plain": [
       "6"
      ]
     },
     "execution_count": 30,
     "metadata": {},
     "output_type": "execute_result"
    }
   ],
   "source": [
    "tuson.numVirtualSubPop()"
   ]
  },
  {
   "cell_type": "code",
   "execution_count": null,
   "metadata": {
    "collapsed": true
   },
   "outputs": [],
   "source": [
    "columns=['rep', 'gen']"
   ]
  },
  {
   "cell_type": "code",
   "execution_count": null,
   "metadata": {
    "collapsed": true
   },
   "outputs": [],
   "source": []
  },
  {
   "cell_type": "code",
   "execution_count": 31,
   "metadata": {
    "collapsed": true
   },
   "outputs": [],
   "source": [
    "sim.tagID(tuson, reset=False)"
   ]
  },
  {
   "cell_type": "code",
   "execution_count": 32,
   "metadata": {
    "collapsed": true
   },
   "outputs": [],
   "source": [
    "multi_son = sim.Simulator(tuson, rep=5)"
   ]
  },
  {
   "cell_type": "code",
   "execution_count": null,
   "metadata": {
    "collapsed": true
   },
   "outputs": [],
   "source": []
  },
  {
   "cell_type": "code",
   "execution_count": null,
   "metadata": {
    "collapsed": true
   },
   "outputs": [],
   "source": []
  },
  {
   "cell_type": "code",
   "execution_count": 33,
   "metadata": {
    "collapsed": false
   },
   "outputs": [
    {
     "data": {
      "text/plain": [
       "(1, 1, 1, 1, 1)"
      ]
     },
     "execution_count": 33,
     "metadata": {},
     "output_type": "execute_result"
    }
   ],
   "source": [
    "multi_son.evolve(\n",
    "    matingScheme=sim.HomoMating(\n",
    "        sim.PyParentsChooser(pop_struct_expansion.forced_structure_parent_chooser),\n",
    "        sim.OffspringGenerator(ops=[sim.IdTagger(), sim.ParentsTagger(), sim.PedigreeTagger(),\n",
    "                                   sim.Recombinator(recom_rates)], numOffspring=1),\n",
    "            subPopSize=1000),\n",
    "    gen=1\n",
    ")"
   ]
  },
  {
   "cell_type": "code",
   "execution_count": 34,
   "metadata": {
    "collapsed": true
   },
   "outputs": [],
   "source": [
    "qtl = tuple(sorted(random.sample(range(44445), 30)))"
   ]
  },
  {
   "cell_type": "code",
   "execution_count": 35,
   "metadata": {
    "collapsed": false
   },
   "outputs": [
    {
     "data": {
      "text/plain": [
       "(27,\n",
       " 601,\n",
       " 3153,\n",
       " 3654,\n",
       " 4569,\n",
       " 5510,\n",
       " 9744,\n",
       " 12734,\n",
       " 13180,\n",
       " 13190,\n",
       " 13251,\n",
       " 14123,\n",
       " 17073,\n",
       " 18635,\n",
       " 21380,\n",
       " 22018,\n",
       " 26310,\n",
       " 27162,\n",
       " 27387,\n",
       " 27478,\n",
       " 27923,\n",
       " 29785,\n",
       " 30515,\n",
       " 32793,\n",
       " 34578,\n",
       " 34766,\n",
       " 34910,\n",
       " 35997,\n",
       " 36467,\n",
       " 41835)"
      ]
     },
     "execution_count": 35,
     "metadata": {},
     "output_type": "execute_result"
    }
   ],
   "source": [
    "qtl"
   ]
  },
  {
   "cell_type": "code",
   "execution_count": 36,
   "metadata": {
    "collapsed": false
   },
   "outputs": [],
   "source": [
    "additive_trait = parameters.Trait()"
   ]
  },
  {
   "cell_type": "code",
   "execution_count": null,
   "metadata": {
    "collapsed": true
   },
   "outputs": [],
   "source": []
  },
  {
   "cell_type": "code",
   "execution_count": 37,
   "metadata": {
    "collapsed": false
   },
   "outputs": [],
   "source": [
    "allele_effects = additive_trait.assign_allele_effects(alleles, qtl, random.expovariate, 1, multiplicity=1)"
   ]
  },
  {
   "cell_type": "code",
   "execution_count": null,
   "metadata": {
    "collapsed": true
   },
   "outputs": [],
   "source": []
  },
  {
   "cell_type": "code",
   "execution_count": null,
   "metadata": {
    "collapsed": true
   },
   "outputs": [],
   "source": []
  },
  {
   "cell_type": "code",
   "execution_count": null,
   "metadata": {
    "collapsed": false
   },
   "outputs": [],
   "source": [
    "import importlib as imp\n",
    "imp.reload(simulate)\n",
    "imp.reload(operators)"
   ]
  },
  {
   "cell_type": "code",
   "execution_count": 38,
   "metadata": {
    "collapsed": true
   },
   "outputs": [],
   "source": [
    "sampling_generations = [i for i in range(2, 10, 2)]"
   ]
  },
  {
   "cell_type": "code",
   "execution_count": 39,
   "metadata": {
    "collapsed": false
   },
   "outputs": [
    {
     "data": {
      "text/plain": [
       "[2, 4, 6, 8]"
      ]
     },
     "execution_count": 39,
     "metadata": {},
     "output_type": "execute_result"
    }
   ],
   "source": [
    "sampling_generations"
   ]
  },
  {
   "cell_type": "code",
   "execution_count": 40,
   "metadata": {
    "collapsed": true
   },
   "outputs": [],
   "source": [
    "sample_sizes = {i: 100 for i in range(11)}"
   ]
  },
  {
   "cell_type": "code",
   "execution_count": null,
   "metadata": {
    "collapsed": true
   },
   "outputs": [],
   "source": []
  },
  {
   "cell_type": "code",
   "execution_count": 41,
   "metadata": {
    "collapsed": false
   },
   "outputs": [],
   "source": [
    "meta_populations = {rep: [] for rep in range(5)}"
   ]
  },
  {
   "cell_type": "code",
   "execution_count": 42,
   "metadata": {
    "collapsed": false
   },
   "outputs": [],
   "source": [
    "trun = simulate.Truncation(10, 1, 1000, 0.05, 0.50, 5, 0.7, sample_sizes, 1)"
   ]
  },
  {
   "cell_type": "code",
   "execution_count": null,
   "metadata": {
    "collapsed": true
   },
   "outputs": [],
   "source": [
    "def print_pop_sizes(multi_pop):\n",
    "    for pop in multi_pop.populations():\n",
    "        print(pop.popSize())"
   ]
  },
  {
   "cell_type": "code",
   "execution_count": null,
   "metadata": {
    "collapsed": false
   },
   "outputs": [],
   "source": [
    "print_pop_sizes(multi_son)"
   ]
  },
  {
   "cell_type": "code",
   "execution_count": null,
   "metadata": {
    "collapsed": false
   },
   "outputs": [],
   "source": [
    "sample_sizes"
   ]
  },
  {
   "cell_type": "code",
   "execution_count": 43,
   "metadata": {
    "collapsed": false
   },
   "outputs": [
    {
     "name": "stdout",
     "output_type": "stream",
     "text": [
      "Initial: Sampled 100 individuals from generation 0 Replicate: 0.\n",
      "Initial: Sampled 100 individuals from generation 0 Replicate: 1.\n",
      "Initial: Sampled 100 individuals from generation 0 Replicate: 2.\n",
      "Initial: Sampled 100 individuals from generation 0 Replicate: 3.\n",
      "Initial: Sampled 100 individuals from generation 0 Replicate: 4.\n",
      "Generation: 0\n",
      "Generation: 0\n",
      "Generation: 0\n",
      "Generation: 0\n",
      "Generation: 0\n",
      "Generation: 1\n",
      "Generation: 1\n",
      "Generation: 1\n",
      "Generation: 1\n",
      "Generation: 1\n",
      "Generation: 2\n",
      "Generation: 2\n",
      "Generation: 2\n",
      "Generation: 2\n",
      "Generation: 2\n",
      "Generation: 3\n",
      "Generation: 3\n",
      "Generation: 3\n",
      "Generation: 3\n",
      "Generation: 3\n",
      "Generation: 4\n",
      "Generation: 4\n",
      "Generation: 4\n",
      "Generation: 4\n",
      "Generation: 4\n",
      "Generation: 5\n",
      "Generation: 5\n",
      "Generation: 5\n",
      "Generation: 5\n",
      "Generation: 5\n",
      "Generation: 6\n",
      "Generation: 6\n",
      "Generation: 6\n",
      "Generation: 6\n",
      "Generation: 6\n",
      "Generation: 7\n",
      "Generation: 7\n",
      "Generation: 7\n",
      "Generation: 7\n",
      "Generation: 7\n",
      "Generation: 8\n",
      "Generation: 8\n",
      "Generation: 8\n",
      "Generation: 8\n",
      "Generation: 8\n",
      "Generation: 9\n",
      "Generation: 9\n",
      "Generation: 9\n",
      "Generation: 9\n",
      "Generation: 9\n",
      "Final: Sampled 100 individuals from generation 10\n",
      "Final: Sampled 100 individuals from generation 10\n",
      "Final: Sampled 100 individuals from generation 10\n",
      "Final: Sampled 100 individuals from generation 10\n",
      "Final: Sampled 100 individuals from generation 10\n"
     ]
    }
   ],
   "source": [
    "trun.replicate_selection(multi_son, meta_populations, qtl, allele_effects, recom_rates)"
   ]
  },
  {
   "cell_type": "code",
   "execution_count": 44,
   "metadata": {
    "collapsed": false
   },
   "outputs": [
    {
     "data": {
      "text/plain": [
       "{0: [<simuPOP.Population>,\n",
       "  <simuPOP.Population>,\n",
       "  <simuPOP.Population>,\n",
       "  <simuPOP.Population>,\n",
       "  <simuPOP.Population>,\n",
       "  <simuPOP.Population>],\n",
       " 1: [<simuPOP.Population>,\n",
       "  <simuPOP.Population>,\n",
       "  <simuPOP.Population>,\n",
       "  <simuPOP.Population>,\n",
       "  <simuPOP.Population>,\n",
       "  <simuPOP.Population>],\n",
       " 2: [<simuPOP.Population>,\n",
       "  <simuPOP.Population>,\n",
       "  <simuPOP.Population>,\n",
       "  <simuPOP.Population>,\n",
       "  <simuPOP.Population>,\n",
       "  <simuPOP.Population>],\n",
       " 3: [<simuPOP.Population>,\n",
       "  <simuPOP.Population>,\n",
       "  <simuPOP.Population>,\n",
       "  <simuPOP.Population>,\n",
       "  <simuPOP.Population>,\n",
       "  <simuPOP.Population>],\n",
       " 4: [<simuPOP.Population>,\n",
       "  <simuPOP.Population>,\n",
       "  <simuPOP.Population>,\n",
       "  <simuPOP.Population>,\n",
       "  <simuPOP.Population>,\n",
       "  <simuPOP.Population>]}"
      ]
     },
     "execution_count": 44,
     "metadata": {},
     "output_type": "execute_result"
    }
   ],
   "source": [
    "meta_populations"
   ]
  },
  {
   "cell_type": "code",
   "execution_count": null,
   "metadata": {
    "collapsed": true
   },
   "outputs": [],
   "source": [
    "sample_pop = meta_populations[0][-1]"
   ]
  },
  {
   "cell_type": "code",
   "execution_count": null,
   "metadata": {
    "collapsed": true
   },
   "outputs": [],
   "source": [
    "sample_pop.sortIndividuals('p')"
   ]
  },
  {
   "cell_type": "code",
   "execution_count": 46,
   "metadata": {
    "collapsed": true
   },
   "outputs": [],
   "source": [
    "datar = []"
   ]
  },
  {
   "cell_type": "code",
   "execution_count": 47,
   "metadata": {
    "collapsed": false
   },
   "outputs": [],
   "source": [
    "for rep in range(5):\n",
    "    for gen in range(6):\n",
    "        sample_pop = meta_populations[rep][gen]\n",
    "        g_and_p = np.array((sample_pop.indInfo('ind_id'),\n",
    "                            sample_pop.indInfo('replicate'),\n",
    "                            sample_pop.indInfo('generation'),\n",
    "                            sample_pop.indInfo('g'), \n",
    "                            sample_pop.indInfo('p'))).T\n",
    "        datar.append(g_and_p)\n",
    "        generation_set = set(sample_pop.indInfo('generation'))\n",
    "        generation = generation_set.pop()\n",
    "        name = 'R'+str(rep)+'_'+'G'+str(generation) + '_tuson_selection.txt'\n",
    "        g_and_p_out = pd.DataFrame(g_and_p, columns=['ind_id', 'replicate', 'generation', 'g', 'p'])\n",
    "        g_and_p_out.to_csv(name, sep='\\t', float_format='%.4f')"
   ]
  },
  {
   "cell_type": "code",
   "execution_count": 48,
   "metadata": {
    "collapsed": false
   },
   "outputs": [],
   "source": [
    "concatted = np.concatenate((datar[0], datar[1]), axis=0)"
   ]
  },
  {
   "cell_type": "code",
   "execution_count": 49,
   "metadata": {
    "collapsed": false
   },
   "outputs": [
    {
     "data": {
      "text/plain": [
       "30"
      ]
     },
     "execution_count": 49,
     "metadata": {},
     "output_type": "execute_result"
    }
   ],
   "source": [
    "len(datar)"
   ]
  },
  {
   "cell_type": "code",
   "execution_count": 50,
   "metadata": {
    "collapsed": false
   },
   "outputs": [],
   "source": [
    "first_concatted = np.concatenate((datar[0], datar[1]), axis=0)\n",
    "for i in range(2, 30):\n",
    "    first_concatted = np.concatenate((first_concatted, datar[i]))"
   ]
  },
  {
   "cell_type": "code",
   "execution_count": 51,
   "metadata": {
    "collapsed": false
   },
   "outputs": [
    {
     "data": {
      "text/plain": [
       "(3000, 5)"
      ]
     },
     "execution_count": 51,
     "metadata": {},
     "output_type": "execute_result"
    }
   ],
   "source": [
    "first_concatted.shape"
   ]
  },
  {
   "cell_type": "code",
   "execution_count": 52,
   "metadata": {
    "collapsed": true
   },
   "outputs": [],
   "source": [
    "selection_g_and_p = pd.DataFrame(first_concatted, columns=['ind_id', 'rep', 'generation', 'g', 'p'])"
   ]
  },
  {
   "cell_type": "code",
   "execution_count": 54,
   "metadata": {
    "collapsed": false
   },
   "outputs": [],
   "source": [
    "selection_g_and_p.to_csv('first_tuson_selection_g_and_p.txt', sep='\\t', index=False)"
   ]
  },
  {
   "cell_type": "code",
   "execution_count": null,
   "metadata": {
    "collapsed": true
   },
   "outputs": [],
   "source": []
  },
  {
   "cell_type": "code",
   "execution_count": null,
   "metadata": {
    "collapsed": false
   },
   "outputs": [],
   "source": [
    "val = set(sample_pop.indInfo('generation'))"
   ]
  },
  {
   "cell_type": "code",
   "execution_count": null,
   "metadata": {
    "collapsed": false
   },
   "outputs": [],
   "source": [
    "val.pop()"
   ]
  },
  {
   "cell_type": "code",
   "execution_count": null,
   "metadata": {
    "collapsed": false
   },
   "outputs": [],
   "source": [
    "g_and_p = np.array((sample_pop.indInfo('ind_id'),\n",
    "                    sample_pop.indInfo('replicate'),\n",
    "                    sample_pop.indInfo('generation'),\n",
    "                    sample_pop.indInfo('g'), \n",
    "                    sample_pop.indInfo('p'))).T"
   ]
  },
  {
   "cell_type": "code",
   "execution_count": null,
   "metadata": {
    "collapsed": false
   },
   "outputs": [],
   "source": [
    "example_output=pd.DataFrame(g_and_p, columns=['ind_id', 'rep', 'generation', 'g', 'p'])"
   ]
  },
  {
   "cell_type": "code",
   "execution_count": null,
   "metadata": {
    "collapsed": false
   },
   "outputs": [],
   "source": [
    "example_output"
   ]
  },
  {
   "cell_type": "code",
   "execution_count": null,
   "metadata": {
    "collapsed": true
   },
   "outputs": [],
   "source": []
  },
  {
   "cell_type": "code",
   "execution_count": null,
   "metadata": {
    "collapsed": false
   },
   "outputs": [],
   "source": [
    "selected_inds = pd.DataFrame(g_and_p, columns=['ind_id', 'replicate', 'generation', 'g', 'p'])"
   ]
  },
  {
   "cell_type": "code",
   "execution_count": null,
   "metadata": {
    "collapsed": true
   },
   "outputs": [],
   "source": [
    "for rep in range(5):\n",
    "    for i in range(6):\n",
    "        sim.stat(meta_populations[rep][i], alleleFreq=sim.ALL_AVAIL)"
   ]
  },
  {
   "cell_type": "code",
   "execution_count": null,
   "metadata": {
    "collapsed": true
   },
   "outputs": [],
   "source": [
    "meta_populations[0][0].dvars().alleleFreq"
   ]
  },
  {
   "cell_type": "code",
   "execution_count": null,
   "metadata": {
    "collapsed": true
   },
   "outputs": [],
   "source": []
  },
  {
   "cell_type": "code",
   "execution_count": null,
   "metadata": {
    "collapsed": true
   },
   "outputs": [],
   "source": [
    "def insert_allele_frequencies_into_aggregate_matrix(number_of_reps,\n",
    "                                                    meta_population,\n",
    "                                                    minor_allele):\n",
    "    \"\"\"\n",
    "    number_of_reps: integer specifying number of replicates to include\n",
    "    inside of one allele frequency matrix.\n",
    "\n",
    "    meta_population: Multiple replicate meta population.\n",
    "    minor_allele_list: List or numpy.array of minor alleles.\n",
    "    :param number_of_reps: Replicates of the population\n",
    "    :type number_of_reps: int\n",
    "    :param meta_population: Multi-replicate population container\n",
    "    :type meta_population: sim.Simulator\n",
    "    :param minor_allele: Locus: Minor Allele key-value pairs\n",
    "    :type minor_allele: dict\n",
    "    :return: Minor allele frequencies of multiple replicates\n",
    "    :rtype: np.array\n",
    "    \"\"\"\n",
    "    number_of_rows = 6 * number_of_reps\n",
    "    aggregate_frequency_matrix = np.zeros((number_of_rows, 44447))\n",
    "    row_indices = list(range(number_of_rows))\n",
    "    print(\n",
    "        'Calculating allele frequencies for {number_reps} replicates and writing them to an aggregate matrix.'.format(\n",
    "            number_reps=number_of_reps))\n",
    "    for rep in number_of_reps:\n",
    "        for pop in meta_populations[rep]:\n",
    "            sim.stat(pop)\n",
    "    for replicate in meta_population.populations():\n",
    "        print(\"Replicate: {rep_id}\".format(rep_id=replicate.dvars().rep))\n",
    "        sim.stat(replicate, alleleFreq=sim.ALL_AVAIL,\n",
    "                 vars=['alleleFreq_sp'])\n",
    "        subpops_and_gens = [(1, 0), (2, 2), (3, 4), (4, 6), (5, 8),\n",
    "                            (6, 10)]\n",
    "        for sp, gen in subpops_and_gens:\n",
    "            row_index = row_indices.pop(0)\n",
    "            print(\"Row index: {row_index}\".format(row_index=row_index))\n",
    "            rep = replicate.dvars().rep\n",
    "            aggregate_frequency_matrix[row_index, 0] = gen\n",
    "            aggregate_frequency_matrix[row_index, 1] = rep\n",
    "            aggregate_frequency_matrix[row_index, 2:] = [\n",
    "                replicate.dvars(sp).alleleFreq[locus][ma] for ma, locus in\n",
    "                zip(minor_allele.values(), range(44445))]\n",
    "    return aggregate_frequency_matrix\n"
   ]
  },
  {
   "cell_type": "code",
   "execution_count": 68,
   "metadata": {
    "collapsed": true
   },
   "outputs": [],
   "source": [
    "mafrqs = np.zeros((30, 44447))"
   ]
  },
  {
   "cell_type": "code",
   "execution_count": 69,
   "metadata": {
    "collapsed": true
   },
   "outputs": [],
   "source": [
    "row_indices = list(range(6*5))"
   ]
  },
  {
   "cell_type": "code",
   "execution_count": 70,
   "metadata": {
    "collapsed": false
   },
   "outputs": [],
   "source": [
    "for rep in range(5):\n",
    "    for gen in range(6):\n",
    "        rowdex = row_indices.pop(0)\n",
    "        sim.stat(meta_populations[rep][gen], alleleFreq=sim.ALL_AVAIL)\n",
    "        generation_set = set(meta_populations[rep][gen].indInfo('generation'))\n",
    "        generation = generation_set.pop()\n",
    "        mafrqs[rowdex, 0] = rep\n",
    "        mafrqs[rowdex, 1] = generation\n",
    "        mafrqs[rowdex, 2:] = [meta_populations[rep][gen].dvars().alleleFreq[locus][minor_allele] \n",
    "                            for locus, minor_allele in enumerate(minor_alleles)]"
   ]
  },
  {
   "cell_type": "code",
   "execution_count": 74,
   "metadata": {
    "collapsed": true
   },
   "outputs": [],
   "source": [
    "af_cols = [ 'rep', 'generation'] + list(range(44445))"
   ]
  },
  {
   "cell_type": "code",
   "execution_count": 75,
   "metadata": {
    "collapsed": false
   },
   "outputs": [],
   "source": [
    "minor_allele_frqs_data = pd.DataFrame(mafrqs, columns=af_cols)"
   ]
  },
  {
   "cell_type": "code",
   "execution_count": 77,
   "metadata": {
    "collapsed": false
   },
   "outputs": [],
   "source": [
    "minor_allele_frqs_data.to_csv('tuson_selection_mafrqs.txt', sep='\\t')"
   ]
  },
  {
   "cell_type": "code",
   "execution_count": 78,
   "metadata": {
    "collapsed": true
   },
   "outputs": [],
   "source": [
    "hetero_frqs = np.zeros((30, 44447))\n",
    "row_indices = list(range(6*5))"
   ]
  },
  {
   "cell_type": "code",
   "execution_count": null,
   "metadata": {
    "collapsed": true
   },
   "outputs": [],
   "source": []
  },
  {
   "cell_type": "code",
   "execution_count": 79,
   "metadata": {
    "collapsed": true
   },
   "outputs": [],
   "source": [
    "for rep in range(5):\n",
    "    for gen in range(6):\n",
    "        rowdex = row_indices.pop(0)\n",
    "        sim.stat(meta_populations[rep][gen], heteroFreq=sim.ALL_AVAIL)\n",
    "        generation_set = set(meta_populations[rep][gen].indInfo('generation'))\n",
    "        generation = generation_set.pop()\n",
    "        hetero_frqs[rowdex, 0] = rep\n",
    "        hetero_frqs[rowdex, 1] = generation\n",
    "        hetero_frqs[rowdex, 2:] = [meta_populations[rep][gen].dvars().heteroFreq[locus] \n",
    "                            for locus, minor_allele in enumerate(minor_alleles)]"
   ]
  },
  {
   "cell_type": "code",
   "execution_count": null,
   "metadata": {
    "collapsed": true
   },
   "outputs": [],
   "source": []
  },
  {
   "cell_type": "code",
   "execution_count": 81,
   "metadata": {
    "collapsed": false
   },
   "outputs": [
    {
     "data": {
      "text/plain": [
       "array([[  0.  ,   0.  ,   0.36, ...,   0.43,   0.32,   0.34],\n",
       "       [  0.  ,   2.  ,   0.31, ...,   0.48,   0.3 ,   0.36],\n",
       "       [  0.  ,   4.  ,   0.44, ...,   0.48,   0.24,   0.41],\n",
       "       ..., \n",
       "       [  4.  ,   6.  ,   0.13, ...,   0.52,   0.55,   0.53],\n",
       "       [  4.  ,   8.  ,   0.02, ...,   0.42,   0.44,   0.48],\n",
       "       [  4.  ,  10.  ,   0.  , ...,   0.53,   0.47,   0.58]])"
      ]
     },
     "execution_count": 81,
     "metadata": {},
     "output_type": "execute_result"
    }
   ],
   "source": [
    "hetero_frqs"
   ]
  },
  {
   "cell_type": "code",
   "execution_count": 82,
   "metadata": {
    "collapsed": true
   },
   "outputs": [],
   "source": [
    "hetero_columns = ['rep', 'generation'] + list(range(44445))"
   ]
  },
  {
   "cell_type": "code",
   "execution_count": 83,
   "metadata": {
    "collapsed": false
   },
   "outputs": [
    {
     "data": {
      "text/plain": [
       "array([ 1.,  2.,  3., ...,  2.,  3.,  1.])"
      ]
     },
     "execution_count": 83,
     "metadata": {},
     "output_type": "execute_result"
    }
   ],
   "source": [
    "minor_alleles"
   ]
  },
  {
   "cell_type": "code",
   "execution_count": 84,
   "metadata": {
    "collapsed": true
   },
   "outputs": [],
   "source": [
    "hetero_frq_data = pd.DataFrame(hetero_frqs, columns=hetero_columns)"
   ]
  },
  {
   "cell_type": "code",
   "execution_count": 86,
   "metadata": {
    "collapsed": false
   },
   "outputs": [],
   "source": [
    "hetero_frq_data.to_csv('heterozygote_frq_selection.txt', sep='\\t')"
   ]
  },
  {
   "cell_type": "code",
   "execution_count": 87,
   "metadata": {
    "collapsed": true
   },
   "outputs": [
    {
     "data": {
      "text/plain": [
       "{27: {2: 2.4563428307058226, 3: 0.902496124727694},\n",
       " 601: {1: 0.5886817538590416, 3: 0.1285805135499849},\n",
       " 3153: {1: 2.0446427412933477, 3: 0.05871532001842488},\n",
       " 3654: {1: 0.44688507279980877, 3: 0.05030852627016928},\n",
       " 4569: {1: 0.15412168275436025, 3: 0.1586014792679026},\n",
       " 5510: {1: 0.4048141023881617, 3: 3.9183884081671514},\n",
       " 9744: {1: 2.6215914152128983, 3: 3.304347811025092},\n",
       " 12734: {1: 1.0272802470164655, 3: 2.0284785297572134},\n",
       " 13180: {1: 1.0797354997413735, 2: 0.06932846723783206},\n",
       " 13190: {1: 0.10199452875256881, 3: 2.672262639036609},\n",
       " 13251: {1: 1.5412144231442957, 3: 2.492018927589699},\n",
       " 14123: {1: 0.7455961703850555, 3: 0.11842416265426248},\n",
       " 17073: {1: 0.2967362392955534, 3: 0.605355189946292},\n",
       " 18635: {1: 0.5453505705076177, 3: 3.73238438019367},\n",
       " 21380: {1: 0.6169528965995916, 2: 2.7270417156963833},\n",
       " 22018: {1: 2.3845380826723264, 3: 2.875438373751781},\n",
       " 26310: {1: 1.0196529670861978, 3: 1.808619880154679},\n",
       " 27162: {1: 0.4306684508602656, 3: 0.7907402838826632},\n",
       " 27387: {1: 0.696441373605891, 3: 0.04638944690128484},\n",
       " 27478: {1: 0.5228136470622132, 3: 0.5107304526907217},\n",
       " 27923: {1: 3.8895795608741524, 3: 3.271095755948988},\n",
       " 29785: {1: 0.2108304107920213, 3: 0.37406904842316524},\n",
       " 30515: {1: 0.42204623551680337, 3: 0.3976763997848975},\n",
       " 32793: {1: 0.11699971110275201, 3: 0.16031534667020259},\n",
       " 34578: {1: 0.30589255547256017, 2: 2.0135621996715267},\n",
       " 34766: {1: 1.1216876432896938, 2: 1.5876872753573565},\n",
       " 34910: {1: 0.5776027473410895, 2: 1.3279592079075984},\n",
       " 35997: {1: 1.2918873623560427, 3: 0.058445778708360194},\n",
       " 36467: {1: 0.7131392243270325, 2: 0.46866031239478484},\n",
       " 41835: {1: 0.36536038823789524, 3: 0.08939763327817266}}"
      ]
     },
     "execution_count": 87,
     "metadata": {},
     "output_type": "execute_result"
    }
   ],
   "source": [
    "allele_effects"
   ]
  },
  {
   "cell_type": "code",
   "execution_count": 89,
   "metadata": {
    "collapsed": true
   },
   "outputs": [],
   "source": [
    "import shelve"
   ]
  },
  {
   "cell_type": "code",
   "execution_count": 90,
   "metadata": {
    "collapsed": true
   },
   "outputs": [],
   "source": [
    "allelefx = shelve.open('tuson_allele_effects')\n",
    "allelefx['first_run'] = allele_effects\n",
    "allelefx.close()"
   ]
  },
  {
   "cell_type": "code",
   "execution_count": null,
   "metadata": {
    "collapsed": true
   },
   "outputs": [],
   "source": []
  },
  {
   "cell_type": "code",
   "execution_count": null,
   "metadata": {
    "collapsed": true
   },
   "outputs": [],
   "source": []
  },
  {
   "cell_type": "code",
   "execution_count": null,
   "metadata": {
    "collapsed": true
   },
   "outputs": [],
   "source": [
    "sim.stat(tuson, alleleFreq=sim.ALL_AVAIL)"
   ]
  },
  {
   "cell_type": "code",
   "execution_count": null,
   "metadata": {
    "collapsed": false
   },
   "outputs": [],
   "source": [
    "tuson.popSize()"
   ]
  },
  {
   "cell_type": "code",
   "execution_count": null,
   "metadata": {
    "collapsed": false
   },
   "outputs": [],
   "source": [
    "tuson.dvars()"
   ]
  },
  {
   "cell_type": "code",
   "execution_count": null,
   "metadata": {
    "collapsed": false
   },
   "outputs": [],
   "source": [
    "tuson.dvars().alleleFreq"
   ]
  },
  {
   "cell_type": "code",
   "execution_count": null,
   "metadata": {
    "collapsed": false
   },
   "outputs": [],
   "source": [
    "sorted(qtl)"
   ]
  },
  {
   "cell_type": "code",
   "execution_count": null,
   "metadata": {
    "collapsed": false
   },
   "outputs": [],
   "source": [
    "qtl"
   ]
  },
  {
   "cell_type": "code",
   "execution_count": null,
   "metadata": {
    "collapsed": true
   },
   "outputs": [],
   "source": []
  },
  {
   "cell_type": "code",
   "execution_count": null,
   "metadata": {
    "collapsed": true
   },
   "outputs": [],
   "source": []
  }
 ],
 "metadata": {
  "kernelspec": {
   "display_name": "Python 3",
   "language": "python",
   "name": "python3"
  },
  "language_info": {
   "codemirror_mode": {
    "name": "ipython",
    "version": 3
   },
   "file_extension": ".py",
   "mimetype": "text/x-python",
   "name": "python",
   "nbconvert_exporter": "python",
   "pygments_lexer": "ipython3",
   "version": "3.4.4"
  }
 },
 "nbformat": 4,
 "nbformat_minor": 0
}
