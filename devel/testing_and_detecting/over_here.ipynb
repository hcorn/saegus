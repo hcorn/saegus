{
 "cells": [
  {
   "cell_type": "code",
   "execution_count": 1,
   "metadata": {
    "collapsed": false
   },
   "outputs": [],
   "source": [
    "import pytest\n",
    "import simuOpt\n",
    "simuOpt.setOptions(alleleType='short', quiet=True)\n",
    "import simuPOP as sim\n",
    "import pandas as pd\n",
    "from saegus import breed, operators, simulate, analyze, parse, parameters\n",
    "import shelve\n",
    "import numpy as np\n",
    "import random\n",
    "np.set_printoptions(suppress=True, precision=3)"
   ]
  },
  {
   "cell_type": "code",
   "execution_count": 2,
   "metadata": {
    "collapsed": false
   },
   "outputs": [],
   "source": [
    "\n",
    "pf_map = shelve.open('pf_map')\n",
    "misc_gmap = shelve.open('misc_gmap')\n",
    "uniparams = shelve.open('uniparams')\n",
    "\n",
    "locus_names = uniparams['locus_names']\n",
    "pos_column = uniparams['pos_column']\n",
    "allele_names = uniparams['allele_names']\n",
    "snp_to_integer = uniparams['snp_to_integer']\n",
    "integer_to_snp = uniparams['integer_to_snp']\n",
    "\n",
    "alleles = misc_gmap['alleles']\n",
    "chr_cM_positions = misc_gmap['chr_cM_positions']\n",
    "cM_positions = misc_gmap['cM_positions']\n",
    "integral_valued_loci = misc_gmap['integral_valued_loci']\n",
    "relative_integral_valued_loci = misc_gmap['relative_integral_valued_loci']\n",
    "recombination_rates = misc_gmap['recombination_rates']\n",
    "\n",
    "\n",
    "\n",
    "\n"
   ]
  },
  {
   "cell_type": "code",
   "execution_count": 3,
   "metadata": {
    "collapsed": false
   },
   "outputs": [
    {
     "data": {
      "text/plain": [
       "['meta_pop_sample_sizes',\n",
       " 'allele_effect_parameters',\n",
       " 'snp_to_integer',\n",
       " 'proportion_of_individuals_saved',\n",
       " 'number_of_qtl',\n",
       " 'generations_of_random_mating',\n",
       " 'number_of_replicates',\n",
       " 'heritability',\n",
       " 'integer_to_snp',\n",
       " 'generations_of_selection',\n",
       " 'founders',\n",
       " 'allele_names',\n",
       " 'prefounder_file_name',\n",
       " 'individuals_per_breeding_subpop',\n",
       " 'overshoot_as_proportion',\n",
       " 'operating_population_size',\n",
       " 'locus_names',\n",
       " 'pos_column']"
      ]
     },
     "execution_count": 3,
     "metadata": {},
     "output_type": "execute_result"
    }
   ],
   "source": [
    "list(uniparams.keys())"
   ]
  },
  {
   "cell_type": "code",
   "execution_count": 4,
   "metadata": {
    "collapsed": false
   },
   "outputs": [],
   "source": [
    "uniparams['founders'] = [[1, 2], [3, 4], [5, 6], [7, 8]]"
   ]
  },
  {
   "cell_type": "code",
   "execution_count": 5,
   "metadata": {
    "collapsed": false
   },
   "outputs": [
    {
     "data": {
      "text/plain": [
       "[[1, 2], [3, 4], [5, 6], [7, 8]]"
      ]
     },
     "execution_count": 5,
     "metadata": {},
     "output_type": "execute_result"
    }
   ],
   "source": [
    "uniparams['founders']"
   ]
  },
  {
   "cell_type": "code",
   "execution_count": 6,
   "metadata": {
    "collapsed": false
   },
   "outputs": [
    {
     "data": {
      "text/plain": [
       "2000"
      ]
     },
     "execution_count": 6,
     "metadata": {},
     "output_type": "execute_result"
    }
   ],
   "source": [
    "uniparams['operating_population_size']"
   ]
  },
  {
   "cell_type": "code",
   "execution_count": 7,
   "metadata": {
    "collapsed": true
   },
   "outputs": [],
   "source": [
    "offspring_per_founder = 2000/8"
   ]
  },
  {
   "cell_type": "code",
   "execution_count": null,
   "metadata": {
    "collapsed": true
   },
   "outputs": [],
   "source": []
  },
  {
   "cell_type": "code",
   "execution_count": null,
   "metadata": {
    "collapsed": true
   },
   "outputs": [],
   "source": []
  },
  {
   "cell_type": "code",
   "execution_count": null,
   "metadata": {
    "collapsed": true
   },
   "outputs": [],
   "source": []
  },
  {
   "cell_type": "code",
   "execution_count": 8,
   "metadata": {
    "collapsed": false
   },
   "outputs": [
    {
     "name": "stdout",
     "output_type": "stream",
     "text": [
      "Generation: 0\n"
     ]
    }
   ],
   "source": [
    "nam = sim.loadPopulation(uniparams['prefounder_file_name'])\n",
    "sim.tagID(nam, reset=True)\n",
    "nam.setSubPopName('maize_nam_prefounders', 0)\n",
    "\n",
    "\"\"\"\n",
    "selection_statistics = {\n",
    "    'aggregate': {},\n",
    "    'selected': {},\n",
    "    'non-selected': {}\n",
    "}\n",
    "\"\"\"\n",
    "ind_names_for_gwas = {i: {} for i in range(uniparams[\n",
    "    'number_of_replicates'])}\n",
    "uniparams['meta_pop_sample_sizes'] = {i: 100 for i in\n",
    "                                      range(0, uniparams['generations_of_selection'] + 1, 2)\n",
    "                                      }\n",
    "\n",
    "s = simulate.Truncation(uniparams['generations_of_selection'],\n",
    "                       uniparams['generations_of_random_mating'],\n",
    "                       uniparams['operating_population_size'],\n",
    "                        uniparams[\n",
    "                            'proportion_of_individuals_saved'],\n",
    "                       uniparams['overshoot_as_proportion'],\n",
    "                   uniparams['individuals_per_breeding_subpop'],\n",
    "                       uniparams['heritability'],\n",
    "                       uniparams['meta_pop_sample_sizes'],\n",
    "                       uniparams['number_of_replicates'])\n",
    "\n",
    "ind_names_for_gwas = {i: {} for i in range(uniparams[\n",
    "    'number_of_replicates'])}\n",
    "\n",
    "founders = uniparams['founders']\n",
    "replicated_nam = sim.Simulator(nam, rep=2, stealPops=False)\n",
    "pop = replicated_nam.extract(0)\n",
    "\n",
    "assert pop.popSize() == 26, \"Population is too large.\"\n",
    "\n",
    "s.generate_f_one(pop, recombination_rates, founders, 500)\n"
   ]
  },
  {
   "cell_type": "code",
   "execution_count": 16,
   "metadata": {
    "collapsed": false
   },
   "outputs": [],
   "source": [
    "mother_ids = [random.choice(pop.indInfo('ind_id')) for i in range(2000)]\n",
    "father_ids = [random.choice(pop.indInfo('ind_id')) for i in range(2000)]"
   ]
  },
  {
   "cell_type": "code",
   "execution_count": 21,
   "metadata": {
    "collapsed": false
   },
   "outputs": [
    {
     "data": {
      "text/plain": [
       "False"
      ]
     },
     "execution_count": 21,
     "metadata": {},
     "output_type": "execute_result"
    }
   ],
   "source": [
    "mother_ids == father_ids"
   ]
  },
  {
   "cell_type": "code",
   "execution_count": 24,
   "metadata": {
    "collapsed": true
   },
   "outputs": [],
   "source": [
    "breeding_parameters = dict(offspring_per_founder_pair=uniparams['operating_population_size']/(len(founders)))"
   ]
  },
  {
   "cell_type": "code",
   "execution_count": 26,
   "metadata": {
    "collapsed": false
   },
   "outputs": [
    {
     "data": {
      "text/plain": [
       "{'offspring_per_founder_pair': 500.0}"
      ]
     },
     "execution_count": 26,
     "metadata": {},
     "output_type": "execute_result"
    }
   ],
   "source": [
    "breeding_parameters"
   ]
  },
  {
   "cell_type": "code",
   "execution_count": 34,
   "metadata": {
    "collapsed": true
   },
   "outputs": [],
   "source": [
    "expected_f_one_mother_ids = [1.0 for i in range(500)] + [3.0 for i in range(500)] + [5.0 for i in range(500)] + [7.0 for i in range(500)]"
   ]
  },
  {
   "cell_type": "code",
   "execution_count": 30,
   "metadata": {
    "collapsed": false
   },
   "outputs": [
    {
     "data": {
      "text/plain": [
       "True"
      ]
     },
     "execution_count": 30,
     "metadata": {},
     "output_type": "execute_result"
    }
   ],
   "source": [
    "mothers == list(pop.indInfo('mother_id'))"
   ]
  },
  {
   "cell_type": "code",
   "execution_count": 32,
   "metadata": {
    "collapsed": false
   },
   "outputs": [
    {
     "data": {
      "text/plain": [
       "2000"
      ]
     },
     "execution_count": 32,
     "metadata": {},
     "output_type": "execute_result"
    }
   ],
   "source": [
    "sum(np.equal(mothers, list(pop.indInfo('mother_id'))))"
   ]
  },
  {
   "cell_type": "code",
   "execution_count": 33,
   "metadata": {
    "collapsed": true
   },
   "outputs": [],
   "source": [
    "observed_f_one_mother_ids = list(pop.indInfo('mother_id'))"
   ]
  },
  {
   "cell_type": "code",
   "execution_count": null,
   "metadata": {
    "collapsed": true
   },
   "outputs": [],
   "source": []
  },
  {
   "cell_type": "code",
   "execution_count": 35,
   "metadata": {
    "collapsed": false
   },
   "outputs": [],
   "source": [
    "breeding_parameters['expected_f_one_mother_ids'] = expected_f_one_mother_ids\n",
    "breeding_parameters['observed_f_one_mother_ids'] = observed_f_one_mother_ids\n",
    "breeding_parameters['number_of_matches_f_one_mother_ids'] = sum(np.equal(expected_f_one_mother_ids, observed_f_one_mother_ids))"
   ]
  },
  {
   "cell_type": "code",
   "execution_count": 37,
   "metadata": {
    "collapsed": true
   },
   "outputs": [],
   "source": [
    "expected_f_one_father_ids = [2.0 for i in range(500)] + [4.0 for i in range(500)] + [6.0 for i in range(500)] + [8.0 for i in range(500)]"
   ]
  },
  {
   "cell_type": "code",
   "execution_count": 38,
   "metadata": {
    "collapsed": true
   },
   "outputs": [],
   "source": [
    "observed_f_one_father_ids = list(pop.indInfo('father_id'))"
   ]
  },
  {
   "cell_type": "code",
   "execution_count": 39,
   "metadata": {
    "collapsed": true
   },
   "outputs": [],
   "source": [
    "breeding_parameters['expected_f_father_mother_ids'] = expected_f_one_mother_ids\n",
    "breeding_parameters['observed_f_father_mother_ids'] = observed_f_one_mother_ids\n",
    "breeding_parameters['number_of_matches_f_one_father_ids'] = sum(np.equal(expected_f_one_mother_ids, observed_f_one_mother_ids))"
   ]
  },
  {
   "cell_type": "code",
   "execution_count": 40,
   "metadata": {
    "collapsed": false
   },
   "outputs": [
    {
     "data": {
      "text/plain": [
       "2000"
      ]
     },
     "execution_count": 40,
     "metadata": {},
     "output_type": "execute_result"
    }
   ],
   "source": [
    "breeding_parameters['number_of_matches_f_one_father_ids']"
   ]
  },
  {
   "cell_type": "code",
   "execution_count": null,
   "metadata": {
    "collapsed": true
   },
   "outputs": [],
   "source": []
  },
  {
   "cell_type": "code",
   "execution_count": null,
   "metadata": {
    "collapsed": true
   },
   "outputs": [],
   "source": []
  },
  {
   "cell_type": "code",
   "execution_count": 9,
   "metadata": {
    "collapsed": false
   },
   "outputs": [
    {
     "data": {
      "text/plain": [
       "2000"
      ]
     },
     "execution_count": 9,
     "metadata": {},
     "output_type": "execute_result"
    }
   ],
   "source": [
    "pop.popSize()"
   ]
  },
  {
   "cell_type": "code",
   "execution_count": 43,
   "metadata": {
    "collapsed": true
   },
   "outputs": [],
   "source": [
    "expected_f_two_mother_ids = [random.choice(pop.indInfo('ind_id')) for i in range(uniparams['operating_population_size'])]\n",
    "expected_f_two_father_ids = [random.choice(pop.indInfo('ind_id')) for i in range(uniparams['operating_population_size'])]"
   ]
  },
  {
   "cell_type": "code",
   "execution_count": null,
   "metadata": {
    "collapsed": true
   },
   "outputs": [],
   "source": []
  },
  {
   "cell_type": "markdown",
   "metadata": {},
   "source": [
    "### Split the Offspring for Convienience"
   ]
  },
  {
   "cell_type": "code",
   "execution_count": 71,
   "metadata": {
    "collapsed": false
   },
   "outputs": [
    {
     "data": {
      "text/plain": [
       "(0, 1)"
      ]
     },
     "execution_count": 71,
     "metadata": {},
     "output_type": "execute_result"
    }
   ],
   "source": [
    "pop.splitSubPop(0, [1000] * 2)"
   ]
  },
  {
   "cell_type": "code",
   "execution_count": 72,
   "metadata": {
    "collapsed": false
   },
   "outputs": [
    {
     "data": {
      "text/plain": [
       "(1000, 1000)"
      ]
     },
     "execution_count": 72,
     "metadata": {},
     "output_type": "execute_result"
    }
   ],
   "source": [
    "pop.subPopSizes()"
   ]
  },
  {
   "cell_type": "code",
   "execution_count": 50,
   "metadata": {
    "collapsed": true
   },
   "outputs": [],
   "source": [
    "first_sp_mothers = [random.choice(pop.indInfo('ind_id', 0)) for i in range(1000)]\n",
    "first_sp_fathers = [random.choice(pop.indInfo('ind_id', 0)) for i in range(1000)]\n",
    "\n",
    "second_sp_mothers = [random.choice(pop.indInfo('ind_id', 0)) for i in range(1000, 2000)]\n",
    "second_sp_fathers = [random.choice(pop.indInfo('ind_id', 0)) for i in range(1000, 2000)]"
   ]
  },
  {
   "cell_type": "markdown",
   "metadata": {},
   "source": [
    "### Merge Offspring After Choosing Parents"
   ]
  },
  {
   "cell_type": "code",
   "execution_count": 73,
   "metadata": {
    "collapsed": false
   },
   "outputs": [
    {
     "data": {
      "text/plain": [
       "0"
      ]
     },
     "execution_count": 73,
     "metadata": {},
     "output_type": "execute_result"
    }
   ],
   "source": [
    "pop.mergeSubPops()"
   ]
  },
  {
   "cell_type": "code",
   "execution_count": 74,
   "metadata": {
    "collapsed": false
   },
   "outputs": [
    {
     "data": {
      "text/plain": [
       "(2000,)"
      ]
     },
     "execution_count": 74,
     "metadata": {},
     "output_type": "execute_result"
    }
   ],
   "source": [
    "pop.subPopSizes()"
   ]
  },
  {
   "cell_type": "code",
   "execution_count": 56,
   "metadata": {
    "collapsed": true
   },
   "outputs": [],
   "source": [
    "expected_f_two_mother_ids = first_sp_mothers + second_sp_mothers\n",
    "expected_f_two_father_ids = first_sp_fathers + second_sp_fathers"
   ]
  },
  {
   "cell_type": "code",
   "execution_count": 75,
   "metadata": {
    "collapsed": false
   },
   "outputs": [],
   "source": [
    "breeding_parameters['expected_f_two_mother_ids'] = expected_f_two_mother_ids\n",
    "breeding_parameters['expected_f_two_father_ids'] = expected_f_two_father_ids"
   ]
  },
  {
   "cell_type": "code",
   "execution_count": null,
   "metadata": {
    "collapsed": true
   },
   "outputs": [],
   "source": []
  },
  {
   "cell_type": "code",
   "execution_count": null,
   "metadata": {
    "collapsed": true
   },
   "outputs": [],
   "source": []
  },
  {
   "cell_type": "code",
   "execution_count": null,
   "metadata": {
    "collapsed": true
   },
   "outputs": [],
   "source": []
  },
  {
   "cell_type": "code",
   "execution_count": 11,
   "metadata": {
    "collapsed": false
   },
   "outputs": [
    {
     "ename": "ValueError",
     "evalue": "population.cpp: 1166 Sum of parameter sizes should be 1 or the size of subpopulation 0",
     "output_type": "error",
     "traceback": [
      "\u001b[1;31m---------------------------------------------------------------------------\u001b[0m",
      "\u001b[1;31mValueError\u001b[0m                                Traceback (most recent call last)",
      "\u001b[1;32m<ipython-input-11-269d99896601>\u001b[0m in \u001b[0;36m<module>\u001b[1;34m()\u001b[0m\n\u001b[0;32m      5\u001b[0m \u001b[1;31m#subpop_list = list(range(pop.numSubPop()))\u001b[0m\u001b[1;33m\u001b[0m\u001b[1;33m\u001b[0m\u001b[0m\n\u001b[0;32m      6\u001b[0m \u001b[1;33m\u001b[0m\u001b[0m\n\u001b[1;32m----> 7\u001b[1;33m \u001b[0mintmd_os_struct\u001b[0m \u001b[1;33m=\u001b[0m \u001b[0ms\u001b[0m\u001b[1;33m.\u001b[0m\u001b[0mrestructure_offspring\u001b[0m\u001b[1;33m(\u001b[0m\u001b[0mpop\u001b[0m\u001b[1;33m,\u001b[0m \u001b[1;36m100\u001b[0m\u001b[1;33m,\u001b[0m \u001b[1;36m4\u001b[0m\u001b[1;33m)\u001b[0m\u001b[1;33m\u001b[0m\u001b[0m\n\u001b[0m\u001b[0;32m      8\u001b[0m \u001b[0msnd_order\u001b[0m \u001b[1;33m=\u001b[0m \u001b[0mbreed\u001b[0m\u001b[1;33m.\u001b[0m\u001b[0mSecondOrderPairIDChooser\u001b[0m\u001b[1;33m(\u001b[0m\u001b[0mintmd_os_struct\u001b[0m\u001b[1;33m,\u001b[0m \u001b[1;36m1\u001b[0m\u001b[1;33m)\u001b[0m\u001b[1;33m\u001b[0m\u001b[0m\n\u001b[0;32m      9\u001b[0m \u001b[1;33m\u001b[0m\u001b[0m\n",
      "\u001b[1;32mc:\\Anaconda3\\lib\\site-packages\\saegus\\simulate.py\u001b[0m in \u001b[0;36mrestructure_offspring\u001b[1;34m(self, pop, offspring_per_subpop, number_subpops)\u001b[0m\n\u001b[0;32m    217\u001b[0m \u001b[1;31m#        if type(offspring_per_subpop) != list:\u001b[0m\u001b[1;33m\u001b[0m\u001b[1;33m\u001b[0m\u001b[0m\n\u001b[0;32m    218\u001b[0m \u001b[1;31m#            offspring_per_subpop = [offspring_per_subpop]\u001b[0m\u001b[1;33m\u001b[0m\u001b[1;33m\u001b[0m\u001b[0m\n\u001b[1;32m--> 219\u001b[1;33m         \u001b[0mpop\u001b[0m\u001b[1;33m.\u001b[0m\u001b[0msplitSubPop\u001b[0m\u001b[1;33m(\u001b[0m\u001b[1;36m0\u001b[0m\u001b[1;33m,\u001b[0m \u001b[1;33m[\u001b[0m\u001b[0moffspring_per_subpop\u001b[0m\u001b[1;33m]\u001b[0m \u001b[1;33m*\u001b[0m \u001b[0mnumber_subpops\u001b[0m\u001b[1;33m)\u001b[0m\u001b[1;33m\u001b[0m\u001b[0m\n\u001b[0m\u001b[0;32m    220\u001b[0m         \u001b[0msubpop_list\u001b[0m \u001b[1;33m=\u001b[0m \u001b[0mlist\u001b[0m\u001b[1;33m(\u001b[0m\u001b[0mrange\u001b[0m\u001b[1;33m(\u001b[0m\u001b[0mpop\u001b[0m\u001b[1;33m.\u001b[0m\u001b[0mnumSubPop\u001b[0m\u001b[1;33m(\u001b[0m\u001b[1;33m)\u001b[0m\u001b[1;33m)\u001b[0m\u001b[1;33m)\u001b[0m\u001b[1;33m\u001b[0m\u001b[0m\n\u001b[0;32m    221\u001b[0m \u001b[1;33m\u001b[0m\u001b[0m\n",
      "\u001b[1;31mValueError\u001b[0m: population.cpp: 1166 Sum of parameter sizes should be 1 or the size of subpopulation 0"
     ]
    }
   ],
   "source": [
    "\n",
    "assert pop.popSize() == 2000, \"Population should have size: {} after the F_1 mating \" \\\n",
    "                                           \"procedure.\" \\\n",
    "                                           \"\".format(len(founders) * 500)\n",
    "\n",
    "#pop.splitSubPop(0, [100] * 4)\n",
    "#subpop_list = list(range(pop.numSubPop()))\n",
    "\n",
    "#intmd_os_struct = s.restructure_offspring(pop, 100, 4)\n",
    "snd_order = breed.SecondOrderPairIDChooser(intmd_os_struct, 1)\n",
    "\n"
   ]
  },
  {
   "cell_type": "code",
   "execution_count": null,
   "metadata": {
    "collapsed": true
   },
   "outputs": [],
   "source": [
    "pop.evolve(\n",
    "    preOps=[sim.MergeSubPops()],\n",
    "    matingScheme=sim.HomoMating(\n",
    "        sim.PyParentsChooser(snd_order.snd_ord_id_pairs),\n",
    "        sim.OffspringGenerator(ops=[\n",
    "            sim.IdTagger(),\n",
    "            sim.ParentsTagger(),\n",
    "            sim.PedigreeTagger(),\n",
    "            sim.Recombinator(rates=recombination_rates)\n",
    "        ],\n",
    "            numOffspring=1),\n",
    "        subPopSize=[200],\n",
    "    ),\n",
    "    gen=1,\n",
    ")\n",
    "\n",
    "assert pop.popSize() == 1, \"Population does not have correct size after second round of mating.\"\n",
    "\n",
    "second_intmd_os_struct = s.restructure_offspring(pop, 100, 2)\n",
    "third_order = breed.SecondOrderPairIDChooser(second_intmd_os_struct, 1)\n",
    "\n",
    "\n",
    "pop.evolve(\n",
    "    preOps=[sim.MergeSubPops()],\n",
    "    matingScheme=sim.HomoMating(\n",
    "        sim.PyParentsChooser(third_order.snd_ord_id_pairs),\n",
    "        sim.OffspringGenerator(ops=[\n",
    "            sim.IdTagger(),\n",
    "            sim.ParentsTagger(),\n",
    "            sim.PedigreeTagger(),\n",
    "            sim.Recombinator(rates=recombination_rates)\n",
    "        ],\n",
    "            numOffspring=1),\n",
    "        subPopSize=[100],\n",
    "    ),\n",
    "    gen=1,\n",
    ")\n",
    "\n",
    "assert pop.popSize() == 100, \"Second merge of breeding sub-populations. Offspring population does not have \" \\\n",
    "                             \"correct size\"\n"
   ]
  },
  {
   "cell_type": "code",
   "execution_count": null,
   "metadata": {
    "collapsed": true
   },
   "outputs": [],
   "source": []
  },
  {
   "cell_type": "code",
   "execution_count": null,
   "metadata": {
    "collapsed": true
   },
   "outputs": [],
   "source": []
  },
  {
   "cell_type": "code",
   "execution_count": null,
   "metadata": {
    "collapsed": true
   },
   "outputs": [],
   "source": []
  },
  {
   "cell_type": "code",
   "execution_count": null,
   "metadata": {
    "collapsed": false
   },
   "outputs": [],
   "source": [
    "intmd_os_struct[0][0]"
   ]
  },
  {
   "cell_type": "code",
   "execution_count": null,
   "metadata": {
    "collapsed": false
   },
   "outputs": [],
   "source": [
    "pop.popSize()"
   ]
  },
  {
   "cell_type": "code",
   "execution_count": null,
   "metadata": {
    "collapsed": false
   },
   "outputs": [],
   "source": [
    "pop.numSubPop()"
   ]
  },
  {
   "cell_type": "code",
   "execution_count": null,
   "metadata": {
    "collapsed": false
   },
   "outputs": [],
   "source": [
    "pop.subPopSizes()"
   ]
  },
  {
   "cell_type": "code",
   "execution_count": null,
   "metadata": {
    "collapsed": false
   },
   "outputs": [],
   "source": [
    "expected_mother_ids = np.append(intmd_os_struct[0, 0], intmd_os_struct[1, 0])"
   ]
  },
  {
   "cell_type": "code",
   "execution_count": null,
   "metadata": {
    "collapsed": false
   },
   "outputs": [],
   "source": [
    "expected_mother_ids.shape"
   ]
  },
  {
   "cell_type": "code",
   "execution_count": null,
   "metadata": {
    "collapsed": true
   },
   "outputs": [],
   "source": [
    "expected_father_ids = intmd_os_struct[0, 1]"
   ]
  },
  {
   "cell_type": "code",
   "execution_count": null,
   "metadata": {
    "collapsed": true
   },
   "outputs": [],
   "source": [
    "brcancer_data = pd.read_csv('hedenfalk_brcancer_data.txt', sep='\\t')"
   ]
  },
  {
   "cell_type": "code",
   "execution_count": null,
   "metadata": {
    "collapsed": false
   },
   "outputs": [],
   "source": [
    "brcancer_data.ix[0, :]"
   ]
  },
  {
   "cell_type": "code",
   "execution_count": null,
   "metadata": {
    "collapsed": true
   },
   "outputs": [],
   "source": []
  }
 ],
 "metadata": {
  "kernelspec": {
   "display_name": "Python 3",
   "language": "python",
   "name": "python3"
  },
  "language_info": {
   "codemirror_mode": {
    "name": "ipython",
    "version": 3
   },
   "file_extension": ".py",
   "mimetype": "text/x-python",
   "name": "python",
   "nbconvert_exporter": "python",
   "pygments_lexer": "ipython3",
   "version": "3.4.4"
  }
 },
 "nbformat": 4,
 "nbformat_minor": 0
}
