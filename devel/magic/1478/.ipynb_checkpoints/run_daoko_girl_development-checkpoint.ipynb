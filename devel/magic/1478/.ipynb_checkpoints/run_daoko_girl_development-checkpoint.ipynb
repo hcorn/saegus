{
 "cells": [
  {
   "cell_type": "markdown",
   "metadata": {},
   "source": [
    "## Run: daoko_girl"
   ]
  },
  {
   "cell_type": "code",
   "execution_count": 1,
   "metadata": {
    "collapsed": false
   },
   "outputs": [],
   "source": [
    "import pytest\n",
    "import simuOpt\n",
    "simuOpt.setOptions(alleleType='short', numThreads=4, quiet=True)\n",
    "import simuPOP as sim\n",
    "import pandas as pd\n",
    "from saegus import breed, operators, simulate, analyze, parse, parameters\n",
    "import shelve\n",
    "import numpy as np\n",
    "import random\n",
    "np.set_printoptions(suppress=True, precision=3)"
   ]
  },
  {
   "cell_type": "code",
   "execution_count": null,
   "metadata": {
    "collapsed": false
   },
   "outputs": [],
   "source": [
    "import importlib as imp\n",
    "imp.reload(analyze)"
   ]
  },
  {
   "cell_type": "markdown",
   "metadata": {},
   "source": [
    "### Top Level Definitions"
   ]
  },
  {
   "cell_type": "code",
   "execution_count": null,
   "metadata": {
    "collapsed": false
   },
   "outputs": [],
   "source": [
    "trait_parameter_set = shelve.open('daoko_girl_trait_parameters')\n",
    "list(trait_parameter_set)"
   ]
  },
  {
   "cell_type": "code",
   "execution_count": null,
   "metadata": {
    "collapsed": true
   },
   "outputs": [],
   "source": [
    "run_id = 'daoko_girl'\n",
    "trait_parameter_set = run_id + '_trait_parameters'\n",
    "analysis_parameter_set = run_id + '_analysis_parameters'"
   ]
  },
  {
   "cell_type": "code",
   "execution_count": null,
   "metadata": {
    "collapsed": true
   },
   "outputs": [],
   "source": [
    "analysis_parameters = shelve.open(analysis_parameter_set)\n",
    "analysis_parameters['population_name'] = run_id\n",
    "analysis_parameters['scenario'] = 'random_mating'\n",
    "analysis_parameters['generations'] = 3\n",
    "analysis_parameters['run_identifier'] = run_id\n",
    "analysis_parameters['operating_population_size'] = 2000"
   ]
  },
  {
   "cell_type": "code",
   "execution_count": null,
   "metadata": {
    "collapsed": true
   },
   "outputs": [],
   "source": [
    "trait = shelve.open(trait_parameter_set)\n",
    "trait['allele_effect_distribution'] = random.expovariate.__name__\n",
    "trait['distribution_parameters'] = 1\n",
    "trait['multiplicity'] = 3\n",
    "trait['heritability'] = 0.7"
   ]
  },
  {
   "cell_type": "markdown",
   "metadata": {},
   "source": [
    "### File Names"
   ]
  },
  {
   "cell_type": "code",
   "execution_count": null,
   "metadata": {
    "collapsed": true
   },
   "outputs": [],
   "source": [
    "base_population_file_name = \"populations\\\\magic_1478.pop\"\n",
    "genetic_map_file_name = \"parameters\\\\genetic_map_1478.hdf\"\n",
    "allele_file_name = \"parameters\\\\alleles_at_1478_loci.hdf\""
   ]
  },
  {
   "cell_type": "markdown",
   "metadata": {},
   "source": [
    "### Genotype Data"
   ]
  },
  {
   "cell_type": "code",
   "execution_count": null,
   "metadata": {
    "collapsed": true
   },
   "outputs": [],
   "source": [
    "genetic_map = pd.read_hdf(genetic_map_file_name)\n",
    "alleles = np.array(pd.read_hdf(allele_file_name))\n",
    "recombination_rates = np.array(list(genetic_map['recom_rate']))\n",
    "number_qt_loci = 10"
   ]
  },
  {
   "cell_type": "code",
   "execution_count": null,
   "metadata": {
    "collapsed": false
   },
   "outputs": [],
   "source": [
    "base_population = sim.loadPopulation(base_population_file_name)"
   ]
  },
  {
   "cell_type": "code",
   "execution_count": null,
   "metadata": {
    "collapsed": false
   },
   "outputs": [],
   "source": [
    "base_population.setSubPopName(run_id, 0)"
   ]
  },
  {
   "cell_type": "code",
   "execution_count": null,
   "metadata": {
    "collapsed": false
   },
   "outputs": [],
   "source": [
    "analyze.allele_data(base_population, alleles, list(range(1478)))"
   ]
  },
  {
   "cell_type": "markdown",
   "metadata": {},
   "source": [
    "### Create Analysis Population"
   ]
  },
  {
   "cell_type": "code",
   "execution_count": null,
   "metadata": {
    "collapsed": true
   },
   "outputs": [],
   "source": [
    "sim.tagID(base_population, reset=False)"
   ]
  },
  {
   "cell_type": "code",
   "execution_count": null,
   "metadata": {
    "collapsed": true
   },
   "outputs": [],
   "source": [
    "random_mater = breed.MAGIC(base_population, recombination_rates)"
   ]
  },
  {
   "cell_type": "code",
   "execution_count": null,
   "metadata": {
    "collapsed": false
   },
   "outputs": [],
   "source": [
    "random_mater.interim_random_mating(analysis_parameters['generations']\n",
    "                                   ,analysis_parameters['operating_population_size'])"
   ]
  },
  {
   "cell_type": "code",
   "execution_count": null,
   "metadata": {
    "collapsed": true
   },
   "outputs": [],
   "source": [
    "sim.stat(base_population, alleleFreq=sim.ALL_AVAIL)\n",
    "sim.stat(base_population, numOfSegSites=sim.ALL_AVAIL, vars=['segSites', 'numOfSegSites'])"
   ]
  },
  {
   "cell_type": "markdown",
   "metadata": {},
   "source": [
    "### Quantitative Trait"
   ]
  },
  {
   "cell_type": "code",
   "execution_count": null,
   "metadata": {
    "collapsed": false
   },
   "outputs": [],
   "source": [
    "qtl = sorted(random.sample(base_population.dvars().segSites, number_qt_loci))"
   ]
  },
  {
   "cell_type": "code",
   "execution_count": null,
   "metadata": {
    "collapsed": true
   },
   "outputs": [],
   "source": [
    "additive_trait = parameters.Trait()"
   ]
  },
  {
   "cell_type": "code",
   "execution_count": null,
   "metadata": {
    "collapsed": false
   },
   "outputs": [],
   "source": [
    "aes = additive_trait.assign_allele_effects(alleles, qtl, random.expovariate, 1, multiplicity=3)"
   ]
  },
  {
   "cell_type": "code",
   "execution_count": null,
   "metadata": {
    "collapsed": false
   },
   "outputs": [],
   "source": [
    "aes"
   ]
  },
  {
   "cell_type": "code",
   "execution_count": null,
   "metadata": {
    "collapsed": false
   },
   "outputs": [],
   "source": [
    "allele_effects_table"
   ]
  },
  {
   "cell_type": "code",
   "execution_count": null,
   "metadata": {
    "collapsed": false
   },
   "outputs": [],
   "source": [
    "alle"
   ]
  },
  {
   "cell_type": "code",
   "execution_count": null,
   "metadata": {
    "collapsed": true
   },
   "outputs": [],
   "source": [
    "heratability = 0.7"
   ]
  },
  {
   "cell_type": "code",
   "execution_count": null,
   "metadata": {
    "collapsed": true
   },
   "outputs": [],
   "source": [
    "operators.assign_additive_g(base_population, qtl, aes)"
   ]
  },
  {
   "cell_type": "code",
   "execution_count": null,
   "metadata": {
    "collapsed": false
   },
   "outputs": [],
   "source": [
    "import importlib as imp\n",
    "imp.reload(analyze)\n",
    "imp.reload(parameters)"
   ]
  },
  {
   "cell_type": "markdown",
   "metadata": {},
   "source": [
    "# Main Analysis Engine"
   ]
  },
  {
   "cell_type": "code",
   "execution_count": null,
   "metadata": {
    "collapsed": true
   },
   "outputs": [],
   "source": [
    "segregating_loci"
   ]
  },
  {
   "cell_type": "code",
   "execution_count": null,
   "metadata": {
    "collapsed": false
   },
   "outputs": [],
   "source": [
    "for size in range(100, 2100, 100):\n",
    "    segregating_loci, allele_effects_table = analyze.population_sample_analyzer(base_population, size, qtl, \n",
    "                                                  alleles, aes, heratability)"
   ]
  },
  {
   "cell_type": "code",
   "execution_count": null,
   "metadata": {
    "collapsed": true
   },
   "outputs": [],
   "source": []
  },
  {
   "cell_type": "code",
   "execution_count": null,
   "metadata": {
    "collapsed": false
   },
   "outputs": [],
   "source": [
    "segregating_loci, allele_effects_table = analyze.population_sample_analyzer(base_population, 200, qtl, \n",
    "                                                  alleles, aes, heratability)"
   ]
  },
  {
   "cell_type": "code",
   "execution_count": null,
   "metadata": {
    "collapsed": false
   },
   "outputs": [],
   "source": [
    "expanded_ae_table = analyze.remap_ae_table_loci(allele_effects_table, saegus_to_tassel_loci)"
   ]
  },
  {
   "cell_type": "code",
   "execution_count": null,
   "metadata": {
    "collapsed": false
   },
   "outputs": [],
   "source": [
    "allele_effects_table"
   ]
  },
  {
   "cell_type": "code",
   "execution_count": null,
   "metadata": {
    "collapsed": false
   },
   "outputs": [],
   "source": [
    "expanded_ae_table.to_hdf(\"expanded_allele_effects.hdf\", \"exp\")"
   ]
  },
  {
   "cell_type": "code",
   "execution_count": null,
   "metadata": {
    "collapsed": true
   },
   "outputs": [],
   "source": [
    "allele_effects_table.to_hdf(\"allele_effects.hdf\", \"allele_effects\")"
   ]
  },
  {
   "cell_type": "code",
   "execution_count": null,
   "metadata": {
    "collapsed": false
   },
   "outputs": [],
   "source": [
    "#synthesis_parameters['founders'] = simulation_parameters['founders']\n",
    "#synthesis_parameters['operating_population_size'] = 2000\n",
    "#synthesis_parameters['snp_to_integer'] = simulation_parameters['snp_to_integer']\n",
    "#synthesis_parameters['integer_to_snp'] = simulation_parameters['integer_to_snp']\n",
    "#synthesis_parameters['prefounder_file_name'] = 'prefounders_1478.pop'\n",
    "#synthesis_parameters['mating_scheme'] = 'MAGIC'"
   ]
  },
  {
   "cell_type": "code",
   "execution_count": null,
   "metadata": {
    "collapsed": false
   },
   "outputs": [],
   "source": [
    "saegus_to_tassel_loci = {}\n",
    "tassel_to_saegus_loci = {}\n",
    "for idx, locus in enumerate(segregating_loci):\n",
    "    saegus_to_tassel_loci[locus] = idx\n",
    "    tassel_to_saegus_loci[idx] = locus"
   ]
  },
  {
   "cell_type": "code",
   "execution_count": null,
   "metadata": {
    "collapsed": false
   },
   "outputs": [],
   "source": [
    "segregating_frqs = [base_population.dvars().alleleFreq[seg_loc] for seg_loc in segregating_loci]"
   ]
  },
  {
   "cell_type": "code",
   "execution_count": null,
   "metadata": {
    "collapsed": false
   },
   "outputs": [],
   "source": [
    "allele_effects_table"
   ]
  },
  {
   "cell_type": "code",
   "execution_count": null,
   "metadata": {
    "collapsed": false
   },
   "outputs": [],
   "source": [
    "aeframe.to_hdf(indir+'daoko_girl_allele_effects_table.hdf', 'aeframe')"
   ]
  },
  {
   "cell_type": "code",
   "execution_count": null,
   "metadata": {
    "collapsed": false
   },
   "outputs": [],
   "source": [
    "analysis_parameters['sample_segregating_loci'] = rm_sample.dvars().segSites\n",
    "analysis_parameters['sample_allele_frequencies'] = dict(rm_sample.dvars().alleleFreq)\n",
    "analysis_parameters['saegus_to_tassel_loci'] = saegus_to_tassel_loci\n",
    "analysis_parameters['tassel_to_saegus_loci'] = tassel_to_saegus_loci"
   ]
  },
  {
   "cell_type": "code",
   "execution_count": null,
   "metadata": {
    "collapsed": true
   },
   "outputs": [],
   "source": [
    "analysis_parameters.close()"
   ]
  },
  {
   "cell_type": "code",
   "execution_count": null,
   "metadata": {
    "collapsed": false
   },
   "outputs": [],
   "source": [
    "import importlib as imp\n",
    "imp.reload(analyze)"
   ]
  },
  {
   "cell_type": "code",
   "execution_count": null,
   "metadata": {
    "collapsed": false
   },
   "outputs": [],
   "source": [
    "gwas.generate_tassel_gwas_configs(\"C:\\\\tassel\\\\bin\\\\daoko_girl_\", \n",
    "                                     \"C:\\\\tassel\\\\input\\\\daoko_girl_\",\n",
    "                                    \"C:\\\\tassel\\\\output\\\\daoko_girl_\",\n",
    "                                    \"C:\\\\Users\\DoubleDanks\\\\BISB\\\\wisser\\\\code\\\\rjwlab-scripts\\\\saegus_project\\\\devel\\\\magic\\\\1478\\\\daoko_girl_gwas_pipeline.xml\")"
   ]
  },
  {
   "cell_type": "code",
   "execution_count": null,
   "metadata": {
    "collapsed": true
   },
   "outputs": [],
   "source": [
    "def generate_tassel_gwas_configs(sample_size,\n",
    "                                 hapmap_file_name,\n",
    "                                 kinship_file_name,\n",
    "                                 phenotype_file_name,\n",
    "                                 structure_file_name,\n",
    "                                 output_file_name,\n",
    "                                 config_file_template):\n",
    "    \"\"\"\n",
    "    Creates an xml file to run TASSEL using a mixed linear model approach.\n",
    "    Assumes use of hapmap, kinship, phenotype and population structure files.\n",
    "\n",
    "    The TASSEL command line interface requires a considerable number of\n",
    "    options to run GWAS. It is impractical to run the command line manually\n",
    "    for the number of replications in a simulated study. The TASSEL command\n",
    "    line interface allows the user to input a .xml file with the same\n",
    "    information which is used in the terminal.\n",
    "\n",
    "    :param input_directory: Directory path to send the input files.\n",
    "    :param run_identifier_prefix: Identifier for single replicate of data\n",
    "    :param config_file_templae: XML file already setup for running a\n",
    "    specific kind of GWAS\n",
    "    :return: XML file to run a single replicate of data using TASSEL\n",
    "    \"\"\"\n",
    "\n",
    "\n",
    "    import xml.etree.ElementTree as ET\n",
    "    import lxml.etree as etree\n",
    "\n",
    "    tree = ET.parse(config_file_template)\n",
    "    root = tree.getroot()\n",
    "    lxml_tree = etree.fromstring(ET.tostring(root))\n",
    "    lxml_root = lxml_tree.getroottree()\n",
    "\n",
    "    lxml_root.find('fork1/h').text = hapmap_file_name\n",
    "    lxml_root.find('fork2/t').text = phenotype_file_name\n",
    "    lxml_root.find('fork3/q').text = structure_file_name\n",
    "    lxml_root.find('fork4/k').text = kinship_file_name\n",
    "\n",
    "    lxml_root.find('combine6/export').text = str(sample_size) + \"_daoko_girl_out_\"\n",
    "\n",
    "\n",
    "    lxml_root.write(output_file_name,\n",
    "                    encoding=\"UTF-8\",\n",
    "                   method=\"xml\", xml_declaration=True, standalone='',\n",
    "                    pretty_print=True)\n"
   ]
  },
  {
   "cell_type": "code",
   "execution_count": null,
   "metadata": {
    "collapsed": false
   },
   "outputs": [],
   "source": [
    "indir = \"C:\\\\tassel\\\\input\\\\\"\n",
    "\n",
    "for sample_size in range(100, 2000, 100):\n",
    "    generate_tassel_gwas_configs(sample_size,\n",
    "                  indir + str(sample_size) + '_daoko_girl_simulated_hapmap.txt',\n",
    "                  indir + str(sample_size) + '_daoko_girl_kinship_matrix.txt',\n",
    "                  indir + str(sample_size) + '_daoko_girl_phenotype_vector.txt',\n",
    "                  indir + str(sample_size) + '_daoko_girl_structure_matrix.txt',\n",
    "                  \"C:\\\\tassel\\\\bin\\\\daoko_girl_\" + str(sample_size) + \"_sim_gwas_pipeline.xml\",\n",
    "                  \"C:\\\\Users\\DoubleDanks\\\\BISB\\\\wisser\\\\code\\\\rjwlab-scripts\\\\\"\n",
    "              \"saegus_project\\\\devel\\\\magic\\\\1478\\\\daoko_girl_gwas_pipeline.xml\")\n"
   ]
  },
  {
   "cell_type": "code",
   "execution_count": null,
   "metadata": {
    "collapsed": true
   },
   "outputs": [],
   "source": []
  },
  {
   "cell_type": "code",
   "execution_count": 2,
   "metadata": {
    "collapsed": true
   },
   "outputs": [],
   "source": [
    "analysis_parameters = shelve.open('daoko_girl_analysis_parameters')"
   ]
  },
  {
   "cell_type": "code",
   "execution_count": 3,
   "metadata": {
    "collapsed": false
   },
   "outputs": [
    {
     "data": {
      "text/plain": [
       "['saegus_to_tassel_loci',\n",
       " 'sampled_ind_ids',\n",
       " 'run_identifier',\n",
       " 'tassel_to_saegus_loci',\n",
       " 'scenario',\n",
       " 'operating_population_size',\n",
       " 'sample_allele_frequencies',\n",
       " 'pos_names',\n",
       " 'sample_segregating_loci',\n",
       " 'population_name',\n",
       " 'sample_size',\n",
       " 'generations']"
      ]
     },
     "execution_count": 3,
     "metadata": {},
     "output_type": "execute_result"
    }
   ],
   "source": [
    "list(analysis_parameters)"
   ]
  },
  {
   "cell_type": "code",
   "execution_count": 5,
   "metadata": {
    "collapsed": true
   },
   "outputs": [
    {
     "data": {
      "text/plain": [
       "{1: 0,\n",
       " 2: 1,\n",
       " 4: 2,\n",
       " 5: 3,\n",
       " 6: 4,\n",
       " 8: 5,\n",
       " 10: 6,\n",
       " 12: 7,\n",
       " 13: 8,\n",
       " 15: 9,\n",
       " 16: 10,\n",
       " 20: 11,\n",
       " 21: 12,\n",
       " 23: 13,\n",
       " 24: 14,\n",
       " 25: 15,\n",
       " 26: 16,\n",
       " 28: 17,\n",
       " 29: 18,\n",
       " 31: 19,\n",
       " 32: 20,\n",
       " 34: 21,\n",
       " 36: 22,\n",
       " 38: 23,\n",
       " 40: 24,\n",
       " 42: 25,\n",
       " 44: 26,\n",
       " 45: 27,\n",
       " 46: 28,\n",
       " 47: 29,\n",
       " 49: 30,\n",
       " 50: 31,\n",
       " 54: 32,\n",
       " 55: 33,\n",
       " 56: 34,\n",
       " 58: 35,\n",
       " 60: 36,\n",
       " 61: 37,\n",
       " 62: 38,\n",
       " 68: 39,\n",
       " 70: 40,\n",
       " 74: 41,\n",
       " 77: 42,\n",
       " 82: 43,\n",
       " 85: 44,\n",
       " 86: 45,\n",
       " 94: 46,\n",
       " 95: 47,\n",
       " 99: 48,\n",
       " 100: 49,\n",
       " 102: 50,\n",
       " 103: 51,\n",
       " 105: 52,\n",
       " 106: 53,\n",
       " 107: 54,\n",
       " 108: 55,\n",
       " 109: 56,\n",
       " 114: 57,\n",
       " 115: 58,\n",
       " 116: 59,\n",
       " 119: 60,\n",
       " 120: 61,\n",
       " 121: 62,\n",
       " 122: 63,\n",
       " 123: 64,\n",
       " 124: 65,\n",
       " 126: 66,\n",
       " 127: 67,\n",
       " 128: 68,\n",
       " 130: 69,\n",
       " 132: 70,\n",
       " 134: 71,\n",
       " 137: 72,\n",
       " 138: 73,\n",
       " 139: 74,\n",
       " 140: 75,\n",
       " 141: 76,\n",
       " 144: 77,\n",
       " 145: 78,\n",
       " 146: 79,\n",
       " 147: 80,\n",
       " 149: 81,\n",
       " 152: 82,\n",
       " 153: 83,\n",
       " 155: 84,\n",
       " 156: 85,\n",
       " 158: 86,\n",
       " 159: 87,\n",
       " 163: 88,\n",
       " 165: 89,\n",
       " 168: 90,\n",
       " 171: 91,\n",
       " 173: 92,\n",
       " 174: 93,\n",
       " 176: 94,\n",
       " 178: 95,\n",
       " 184: 96,\n",
       " 185: 97,\n",
       " 186: 98,\n",
       " 187: 99,\n",
       " 189: 100,\n",
       " 191: 101,\n",
       " 192: 102,\n",
       " 193: 103,\n",
       " 194: 104,\n",
       " 195: 105,\n",
       " 196: 106,\n",
       " 202: 107,\n",
       " 203: 108,\n",
       " 208: 109,\n",
       " 211: 110,\n",
       " 212: 111,\n",
       " 213: 112,\n",
       " 214: 113,\n",
       " 215: 114,\n",
       " 220: 115,\n",
       " 222: 116,\n",
       " 223: 117,\n",
       " 225: 118,\n",
       " 226: 119,\n",
       " 227: 120,\n",
       " 229: 121,\n",
       " 232: 122,\n",
       " 234: 123,\n",
       " 235: 124,\n",
       " 240: 125,\n",
       " 241: 126,\n",
       " 242: 127,\n",
       " 244: 128,\n",
       " 245: 129,\n",
       " 247: 130,\n",
       " 252: 131,\n",
       " 256: 132,\n",
       " 257: 133,\n",
       " 258: 134,\n",
       " 259: 135,\n",
       " 261: 136,\n",
       " 262: 137,\n",
       " 264: 138,\n",
       " 265: 139,\n",
       " 266: 140,\n",
       " 268: 141,\n",
       " 272: 142,\n",
       " 273: 143,\n",
       " 274: 144,\n",
       " 275: 145,\n",
       " 277: 146,\n",
       " 281: 147,\n",
       " 282: 148,\n",
       " 283: 149,\n",
       " 284: 150,\n",
       " 285: 151,\n",
       " 288: 152,\n",
       " 290: 153,\n",
       " 291: 154,\n",
       " 292: 155,\n",
       " 293: 156,\n",
       " 294: 157,\n",
       " 297: 158,\n",
       " 299: 159,\n",
       " 300: 160,\n",
       " 301: 161,\n",
       " 302: 162,\n",
       " 303: 163,\n",
       " 305: 164,\n",
       " 306: 165,\n",
       " 307: 166,\n",
       " 310: 167,\n",
       " 312: 168,\n",
       " 314: 169,\n",
       " 315: 170,\n",
       " 316: 171,\n",
       " 317: 172,\n",
       " 318: 173,\n",
       " 319: 174,\n",
       " 320: 175,\n",
       " 321: 176,\n",
       " 325: 177,\n",
       " 328: 178,\n",
       " 331: 179,\n",
       " 332: 180,\n",
       " 333: 181,\n",
       " 334: 182,\n",
       " 335: 183,\n",
       " 336: 184,\n",
       " 339: 185,\n",
       " 340: 186,\n",
       " 341: 187,\n",
       " 342: 188,\n",
       " 344: 189,\n",
       " 345: 190,\n",
       " 346: 191,\n",
       " 347: 192,\n",
       " 348: 193,\n",
       " 349: 194,\n",
       " 352: 195,\n",
       " 353: 196,\n",
       " 355: 197,\n",
       " 356: 198,\n",
       " 361: 199,\n",
       " 363: 200,\n",
       " 364: 201,\n",
       " 365: 202,\n",
       " 366: 203,\n",
       " 367: 204,\n",
       " 372: 205,\n",
       " 375: 206,\n",
       " 378: 207,\n",
       " 379: 208,\n",
       " 380: 209,\n",
       " 382: 210,\n",
       " 383: 211,\n",
       " 384: 212,\n",
       " 386: 213,\n",
       " 387: 214,\n",
       " 389: 215,\n",
       " 392: 216,\n",
       " 393: 217,\n",
       " 395: 218,\n",
       " 399: 219,\n",
       " 400: 220,\n",
       " 401: 221,\n",
       " 402: 222,\n",
       " 404: 223,\n",
       " 405: 224,\n",
       " 407: 225,\n",
       " 408: 226,\n",
       " 411: 227,\n",
       " 412: 228,\n",
       " 413: 229,\n",
       " 417: 230,\n",
       " 418: 231,\n",
       " 420: 232,\n",
       " 421: 233,\n",
       " 422: 234,\n",
       " 423: 235,\n",
       " 424: 236,\n",
       " 426: 237,\n",
       " 428: 238,\n",
       " 429: 239,\n",
       " 430: 240,\n",
       " 431: 241,\n",
       " 432: 242,\n",
       " 433: 243,\n",
       " 436: 244,\n",
       " 437: 245,\n",
       " 441: 246,\n",
       " 442: 247,\n",
       " 445: 248,\n",
       " 447: 249,\n",
       " 448: 250,\n",
       " 449: 251,\n",
       " 450: 252,\n",
       " 451: 253,\n",
       " 452: 254,\n",
       " 454: 255,\n",
       " 460: 256,\n",
       " 462: 257,\n",
       " 464: 258,\n",
       " 465: 259,\n",
       " 468: 260,\n",
       " 469: 261,\n",
       " 472: 262,\n",
       " 475: 263,\n",
       " 479: 264,\n",
       " 480: 265,\n",
       " 481: 266,\n",
       " 483: 267,\n",
       " 484: 268,\n",
       " 485: 269,\n",
       " 488: 270,\n",
       " 489: 271,\n",
       " 490: 272,\n",
       " 494: 273,\n",
       " 495: 274,\n",
       " 497: 275,\n",
       " 498: 276,\n",
       " 499: 277,\n",
       " 501: 278,\n",
       " 502: 279,\n",
       " 503: 280,\n",
       " 504: 281,\n",
       " 506: 282,\n",
       " 507: 283,\n",
       " 508: 284,\n",
       " 510: 285,\n",
       " 511: 286,\n",
       " 513: 287,\n",
       " 514: 288,\n",
       " 517: 289,\n",
       " 520: 290,\n",
       " 521: 291,\n",
       " 523: 292,\n",
       " 524: 293,\n",
       " 525: 294,\n",
       " 526: 295,\n",
       " 527: 296,\n",
       " 529: 297,\n",
       " 530: 298,\n",
       " 536: 299,\n",
       " 537: 300,\n",
       " 539: 301,\n",
       " 541: 302,\n",
       " 547: 303,\n",
       " 548: 304,\n",
       " 550: 305,\n",
       " 551: 306,\n",
       " 553: 307,\n",
       " 555: 308,\n",
       " 556: 309,\n",
       " 557: 310,\n",
       " 558: 311,\n",
       " 559: 312,\n",
       " 560: 313,\n",
       " 561: 314,\n",
       " 564: 315,\n",
       " 565: 316,\n",
       " 567: 317,\n",
       " 568: 318,\n",
       " 569: 319,\n",
       " 570: 320,\n",
       " 571: 321,\n",
       " 572: 322,\n",
       " 575: 323,\n",
       " 576: 324,\n",
       " 577: 325,\n",
       " 579: 326,\n",
       " 581: 327,\n",
       " 582: 328,\n",
       " 583: 329,\n",
       " 585: 330,\n",
       " 586: 331,\n",
       " 589: 332,\n",
       " 591: 333,\n",
       " 592: 334,\n",
       " 593: 335,\n",
       " 594: 336,\n",
       " 595: 337,\n",
       " 597: 338,\n",
       " 598: 339,\n",
       " 599: 340,\n",
       " 601: 341,\n",
       " 603: 342,\n",
       " 604: 343,\n",
       " 605: 344,\n",
       " 608: 345,\n",
       " 610: 346,\n",
       " 611: 347,\n",
       " 614: 348,\n",
       " 615: 349,\n",
       " 616: 350,\n",
       " 617: 351,\n",
       " 619: 352,\n",
       " 621: 353,\n",
       " 622: 354,\n",
       " 626: 355,\n",
       " 627: 356,\n",
       " 630: 357,\n",
       " 633: 358,\n",
       " 634: 359,\n",
       " 636: 360,\n",
       " 637: 361,\n",
       " 638: 362,\n",
       " 639: 363,\n",
       " 640: 364,\n",
       " 641: 365,\n",
       " 643: 366,\n",
       " 645: 367,\n",
       " 646: 368,\n",
       " 647: 369,\n",
       " 648: 370,\n",
       " 650: 371,\n",
       " 652: 372,\n",
       " 653: 373,\n",
       " 654: 374,\n",
       " 657: 375,\n",
       " 658: 376,\n",
       " 659: 377,\n",
       " 661: 378,\n",
       " 662: 379,\n",
       " 663: 380,\n",
       " 664: 381,\n",
       " 666: 382,\n",
       " 667: 383,\n",
       " 668: 384,\n",
       " 669: 385,\n",
       " 670: 386,\n",
       " 671: 387,\n",
       " 673: 388,\n",
       " 676: 389,\n",
       " 677: 390,\n",
       " 679: 391,\n",
       " 680: 392,\n",
       " 681: 393,\n",
       " 682: 394,\n",
       " 683: 395,\n",
       " 684: 396,\n",
       " 685: 397,\n",
       " 688: 398,\n",
       " 689: 399,\n",
       " 691: 400,\n",
       " 694: 401,\n",
       " 695: 402,\n",
       " 696: 403,\n",
       " 697: 404,\n",
       " 698: 405,\n",
       " 699: 406,\n",
       " 701: 407,\n",
       " 702: 408,\n",
       " 703: 409,\n",
       " 705: 410,\n",
       " 707: 411,\n",
       " 708: 412,\n",
       " 709: 413,\n",
       " 710: 414,\n",
       " 711: 415,\n",
       " 714: 416,\n",
       " 716: 417,\n",
       " 722: 418,\n",
       " 723: 419,\n",
       " 724: 420,\n",
       " 725: 421,\n",
       " 726: 422,\n",
       " 727: 423,\n",
       " 729: 424,\n",
       " 730: 425,\n",
       " 731: 426,\n",
       " 735: 427,\n",
       " 736: 428,\n",
       " 737: 429,\n",
       " 739: 430,\n",
       " 740: 431,\n",
       " 742: 432,\n",
       " 745: 433,\n",
       " 746: 434,\n",
       " 747: 435,\n",
       " 752: 436,\n",
       " 753: 437,\n",
       " 757: 438,\n",
       " 758: 439,\n",
       " 759: 440,\n",
       " 764: 441,\n",
       " 767: 442,\n",
       " 769: 443,\n",
       " 770: 444,\n",
       " 771: 445,\n",
       " 772: 446,\n",
       " 776: 447,\n",
       " 777: 448,\n",
       " 778: 449,\n",
       " 779: 450,\n",
       " 780: 451,\n",
       " 782: 452,\n",
       " 783: 453,\n",
       " 784: 454,\n",
       " 785: 455,\n",
       " 787: 456,\n",
       " 789: 457,\n",
       " 791: 458,\n",
       " 794: 459,\n",
       " 795: 460,\n",
       " 796: 461,\n",
       " 798: 462,\n",
       " 802: 463,\n",
       " 803: 464,\n",
       " 804: 465,\n",
       " 806: 466,\n",
       " 809: 467,\n",
       " 812: 468,\n",
       " 813: 469,\n",
       " 814: 470,\n",
       " 815: 471,\n",
       " 817: 472,\n",
       " 819: 473,\n",
       " 820: 474,\n",
       " 822: 475,\n",
       " 824: 476,\n",
       " 825: 477,\n",
       " 826: 478,\n",
       " 827: 479,\n",
       " 830: 480,\n",
       " 832: 481,\n",
       " 833: 482,\n",
       " 834: 483,\n",
       " 835: 484,\n",
       " 836: 485,\n",
       " 841: 486,\n",
       " 842: 487,\n",
       " 844: 488,\n",
       " 846: 489,\n",
       " 847: 490,\n",
       " 848: 491,\n",
       " 849: 492,\n",
       " 850: 493,\n",
       " 852: 494,\n",
       " 853: 495,\n",
       " 859: 496,\n",
       " 862: 497,\n",
       " 863: 498,\n",
       " 866: 499,\n",
       " 867: 500,\n",
       " 868: 501,\n",
       " 869: 502,\n",
       " 870: 503,\n",
       " 871: 504,\n",
       " 872: 505,\n",
       " 873: 506,\n",
       " 878: 507,\n",
       " 879: 508,\n",
       " 881: 509,\n",
       " 882: 510,\n",
       " 883: 511,\n",
       " 884: 512,\n",
       " 885: 513,\n",
       " 890: 514,\n",
       " 892: 515,\n",
       " 894: 516,\n",
       " 895: 517,\n",
       " 896: 518,\n",
       " 897: 519,\n",
       " 899: 520,\n",
       " 900: 521,\n",
       " 904: 522,\n",
       " 906: 523,\n",
       " 907: 524,\n",
       " 908: 525,\n",
       " 909: 526,\n",
       " 910: 527,\n",
       " 912: 528,\n",
       " 918: 529,\n",
       " 921: 530,\n",
       " 923: 531,\n",
       " 925: 532,\n",
       " 927: 533,\n",
       " 928: 534,\n",
       " 929: 535,\n",
       " 930: 536,\n",
       " 932: 537,\n",
       " 934: 538,\n",
       " 935: 539,\n",
       " 937: 540,\n",
       " 938: 541,\n",
       " 940: 542,\n",
       " 941: 543,\n",
       " 943: 544,\n",
       " 947: 545,\n",
       " 948: 546,\n",
       " 949: 547,\n",
       " 950: 548,\n",
       " 952: 549,\n",
       " 953: 550,\n",
       " 955: 551,\n",
       " 956: 552,\n",
       " 958: 553,\n",
       " 959: 554,\n",
       " 960: 555,\n",
       " 963: 556,\n",
       " 964: 557,\n",
       " 965: 558,\n",
       " 970: 559,\n",
       " 972: 560,\n",
       " 973: 561,\n",
       " 975: 562,\n",
       " 978: 563,\n",
       " 981: 564,\n",
       " 983: 565,\n",
       " 987: 566,\n",
       " 988: 567,\n",
       " 992: 568,\n",
       " 993: 569,\n",
       " 995: 570,\n",
       " 996: 571,\n",
       " 997: 572,\n",
       " 998: 573,\n",
       " 1001: 574,\n",
       " 1002: 575,\n",
       " 1003: 576,\n",
       " 1005: 577,\n",
       " 1006: 578,\n",
       " 1007: 579,\n",
       " 1008: 580,\n",
       " 1009: 581,\n",
       " 1010: 582,\n",
       " 1011: 583,\n",
       " 1012: 584,\n",
       " 1013: 585,\n",
       " 1014: 586,\n",
       " 1015: 587,\n",
       " 1016: 588,\n",
       " 1017: 589,\n",
       " 1018: 590,\n",
       " 1020: 591,\n",
       " 1022: 592,\n",
       " 1023: 593,\n",
       " 1026: 594,\n",
       " 1028: 595,\n",
       " 1030: 596,\n",
       " 1031: 597,\n",
       " 1032: 598,\n",
       " 1033: 599,\n",
       " 1034: 600,\n",
       " 1035: 601,\n",
       " 1036: 602,\n",
       " 1037: 603,\n",
       " 1038: 604,\n",
       " 1039: 605,\n",
       " 1040: 606,\n",
       " 1041: 607,\n",
       " 1043: 608,\n",
       " 1046: 609,\n",
       " 1047: 610,\n",
       " 1049: 611,\n",
       " 1053: 612,\n",
       " 1054: 613,\n",
       " 1055: 614,\n",
       " 1057: 615,\n",
       " 1058: 616,\n",
       " 1059: 617,\n",
       " 1060: 618,\n",
       " 1061: 619,\n",
       " 1062: 620,\n",
       " 1063: 621,\n",
       " 1064: 622,\n",
       " 1065: 623,\n",
       " 1068: 624,\n",
       " 1069: 625,\n",
       " 1072: 626,\n",
       " 1074: 627,\n",
       " 1076: 628,\n",
       " 1077: 629,\n",
       " 1079: 630,\n",
       " 1081: 631,\n",
       " 1082: 632,\n",
       " 1084: 633,\n",
       " 1086: 634,\n",
       " 1088: 635,\n",
       " 1089: 636,\n",
       " 1090: 637,\n",
       " 1091: 638,\n",
       " 1093: 639,\n",
       " 1096: 640,\n",
       " 1100: 641,\n",
       " 1102: 642,\n",
       " 1103: 643,\n",
       " 1104: 644,\n",
       " 1107: 645,\n",
       " 1108: 646,\n",
       " 1112: 647,\n",
       " 1114: 648,\n",
       " 1116: 649,\n",
       " 1118: 650,\n",
       " 1119: 651,\n",
       " 1120: 652,\n",
       " 1121: 653,\n",
       " 1122: 654,\n",
       " 1124: 655,\n",
       " 1125: 656,\n",
       " 1127: 657,\n",
       " 1129: 658,\n",
       " 1130: 659,\n",
       " 1131: 660,\n",
       " 1132: 661,\n",
       " 1133: 662,\n",
       " 1134: 663,\n",
       " 1135: 664,\n",
       " 1136: 665,\n",
       " 1137: 666,\n",
       " 1138: 667,\n",
       " 1139: 668,\n",
       " 1141: 669,\n",
       " 1143: 670,\n",
       " 1145: 671,\n",
       " 1148: 672,\n",
       " 1152: 673,\n",
       " 1155: 674,\n",
       " 1159: 675,\n",
       " 1160: 676,\n",
       " 1161: 677,\n",
       " 1162: 678,\n",
       " 1163: 679,\n",
       " 1164: 680,\n",
       " 1165: 681,\n",
       " 1166: 682,\n",
       " 1168: 683,\n",
       " 1169: 684,\n",
       " 1174: 685,\n",
       " 1176: 686,\n",
       " 1177: 687,\n",
       " 1178: 688,\n",
       " 1183: 689,\n",
       " 1188: 690,\n",
       " 1189: 691,\n",
       " 1190: 692,\n",
       " 1191: 693,\n",
       " 1193: 694,\n",
       " 1195: 695,\n",
       " 1196: 696,\n",
       " 1197: 697,\n",
       " 1198: 698,\n",
       " 1201: 699,\n",
       " 1202: 700,\n",
       " 1204: 701,\n",
       " 1206: 702,\n",
       " 1212: 703,\n",
       " 1213: 704,\n",
       " 1214: 705,\n",
       " 1215: 706,\n",
       " 1217: 707,\n",
       " 1218: 708,\n",
       " 1220: 709,\n",
       " 1221: 710,\n",
       " 1225: 711,\n",
       " 1226: 712,\n",
       " 1227: 713,\n",
       " 1228: 714,\n",
       " 1229: 715,\n",
       " 1230: 716,\n",
       " 1231: 717,\n",
       " 1232: 718,\n",
       " 1233: 719,\n",
       " 1234: 720,\n",
       " 1235: 721,\n",
       " 1236: 722,\n",
       " 1239: 723,\n",
       " 1241: 724,\n",
       " 1242: 725,\n",
       " 1246: 726,\n",
       " 1249: 727,\n",
       " 1254: 728,\n",
       " 1255: 729,\n",
       " 1256: 730,\n",
       " 1257: 731,\n",
       " 1259: 732,\n",
       " 1261: 733,\n",
       " 1262: 734,\n",
       " 1263: 735,\n",
       " 1264: 736,\n",
       " 1265: 737,\n",
       " 1266: 738,\n",
       " 1267: 739,\n",
       " 1268: 740,\n",
       " 1269: 741,\n",
       " 1270: 742,\n",
       " 1271: 743,\n",
       " 1276: 744,\n",
       " 1277: 745,\n",
       " 1278: 746,\n",
       " 1280: 747,\n",
       " 1283: 748,\n",
       " 1285: 749,\n",
       " 1287: 750,\n",
       " 1288: 751,\n",
       " 1290: 752,\n",
       " 1291: 753,\n",
       " 1293: 754,\n",
       " 1295: 755,\n",
       " 1296: 756,\n",
       " 1297: 757,\n",
       " 1300: 758,\n",
       " 1301: 759,\n",
       " 1302: 760,\n",
       " 1304: 761,\n",
       " 1306: 762,\n",
       " 1307: 763,\n",
       " 1309: 764,\n",
       " 1310: 765,\n",
       " 1316: 766,\n",
       " 1318: 767,\n",
       " 1320: 768,\n",
       " 1322: 769,\n",
       " 1323: 770,\n",
       " 1324: 771,\n",
       " 1327: 772,\n",
       " 1328: 773,\n",
       " 1329: 774,\n",
       " 1332: 775,\n",
       " 1333: 776,\n",
       " 1334: 777,\n",
       " 1335: 778,\n",
       " 1336: 779,\n",
       " 1337: 780,\n",
       " 1338: 781,\n",
       " 1340: 782,\n",
       " 1342: 783,\n",
       " 1343: 784,\n",
       " 1344: 785,\n",
       " 1347: 786,\n",
       " 1348: 787,\n",
       " 1349: 788,\n",
       " 1352: 789,\n",
       " 1353: 790,\n",
       " 1354: 791,\n",
       " 1355: 792,\n",
       " 1356: 793,\n",
       " 1358: 794,\n",
       " 1359: 795,\n",
       " 1360: 796,\n",
       " 1361: 797,\n",
       " 1365: 798,\n",
       " 1366: 799,\n",
       " 1367: 800,\n",
       " 1368: 801,\n",
       " 1370: 802,\n",
       " 1371: 803,\n",
       " 1372: 804,\n",
       " 1374: 805,\n",
       " 1378: 806,\n",
       " 1381: 807,\n",
       " 1382: 808,\n",
       " 1383: 809,\n",
       " 1385: 810,\n",
       " 1386: 811,\n",
       " 1388: 812,\n",
       " 1389: 813,\n",
       " 1390: 814,\n",
       " 1392: 815,\n",
       " 1393: 816,\n",
       " 1394: 817,\n",
       " 1396: 818,\n",
       " 1398: 819,\n",
       " 1399: 820,\n",
       " 1402: 821,\n",
       " 1404: 822,\n",
       " 1406: 823,\n",
       " 1407: 824,\n",
       " 1408: 825,\n",
       " 1409: 826,\n",
       " 1411: 827,\n",
       " 1412: 828,\n",
       " 1413: 829,\n",
       " 1417: 830,\n",
       " 1419: 831,\n",
       " 1422: 832,\n",
       " 1423: 833,\n",
       " 1424: 834,\n",
       " 1425: 835,\n",
       " 1426: 836,\n",
       " 1428: 837,\n",
       " 1429: 838,\n",
       " 1430: 839,\n",
       " 1432: 840,\n",
       " 1434: 841,\n",
       " 1438: 842,\n",
       " 1439: 843,\n",
       " 1440: 844,\n",
       " 1442: 845,\n",
       " 1444: 846,\n",
       " 1445: 847,\n",
       " 1446: 848,\n",
       " 1447: 849,\n",
       " 1448: 850,\n",
       " 1449: 851,\n",
       " 1450: 852,\n",
       " 1454: 853,\n",
       " 1455: 854,\n",
       " 1457: 855,\n",
       " 1458: 856,\n",
       " 1462: 857,\n",
       " 1463: 858,\n",
       " 1466: 859,\n",
       " 1468: 860,\n",
       " 1470: 861,\n",
       " 1473: 862,\n",
       " 1474: 863,\n",
       " 1475: 864,\n",
       " 1477: 865}"
      ]
     },
     "execution_count": 5,
     "metadata": {},
     "output_type": "execute_result"
    }
   ],
   "source": [
    "analysis_parameters['saegus_to_tassel_loci']"
   ]
  },
  {
   "cell_type": "code",
   "execution_count": null,
   "metadata": {
    "collapsed": true
   },
   "outputs": [],
   "source": []
  },
  {
   "cell_type": "code",
   "execution_count": null,
   "metadata": {
    "collapsed": true
   },
   "outputs": [],
   "source": []
  }
 ],
 "metadata": {
  "kernelspec": {
   "display_name": "Python 3",
   "language": "python",
   "name": "python3"
  },
  "language_info": {
   "codemirror_mode": {
    "name": "ipython",
    "version": 3
   },
   "file_extension": ".py",
   "mimetype": "text/x-python",
   "name": "python",
   "nbconvert_exporter": "python",
   "pygments_lexer": "ipython3",
   "version": "3.4.4"
  }
 },
 "nbformat": 4,
 "nbformat_minor": 0
}
