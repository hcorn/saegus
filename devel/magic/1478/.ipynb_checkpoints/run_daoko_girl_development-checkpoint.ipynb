{
 "cells": [
  {
   "cell_type": "markdown",
   "metadata": {},
   "source": [
    "## Run: daoko_girl"
   ]
  },
  {
   "cell_type": "code",
   "execution_count": 1,
   "metadata": {
    "collapsed": true
   },
   "outputs": [],
   "source": [
    "import pytest\n",
    "import simuOpt\n",
    "simuOpt.setOptions(alleleType='short', numThreads=4, quiet=True)\n",
    "import simuPOP as sim\n",
    "import pandas as pd\n",
    "from saegus import breed, operators, simulate, analyze, parse, parameters\n",
    "import shelve\n",
    "import numpy as np\n",
    "import random\n",
    "np.set_printoptions(suppress=True, precision=3)"
   ]
  },
  {
   "cell_type": "code",
   "execution_count": null,
   "metadata": {
    "collapsed": true
   },
   "outputs": [],
   "source": []
  },
  {
   "cell_type": "code",
   "execution_count": null,
   "metadata": {
    "collapsed": true
   },
   "outputs": [],
   "source": []
  },
  {
   "cell_type": "code",
   "execution_count": 2,
   "metadata": {
    "collapsed": false
   },
   "outputs": [],
   "source": [
    "magic1478 = sim.loadPopulation('populations\\\\magic_1478.pop')"
   ]
  },
  {
   "cell_type": "code",
   "execution_count": 3,
   "metadata": {
    "collapsed": false
   },
   "outputs": [],
   "source": [
    "magic1478.setSubPopName('daoko_girl', 0)"
   ]
  },
  {
   "cell_type": "code",
   "execution_count": 4,
   "metadata": {
    "collapsed": false
   },
   "outputs": [
    {
     "data": {
      "text/plain": [
       "{'gen': 3, 'rep': 0}"
      ]
     },
     "execution_count": 4,
     "metadata": {},
     "output_type": "execute_result"
    }
   ],
   "source": [
    "magic1478.dvars()"
   ]
  },
  {
   "cell_type": "code",
   "execution_count": 5,
   "metadata": {
    "collapsed": false
   },
   "outputs": [
    {
     "data": {
      "text/plain": [
       "('daoko_girl',)"
      ]
     },
     "execution_count": 5,
     "metadata": {},
     "output_type": "execute_result"
    }
   ],
   "source": [
    "magic1478.subPopNames()"
   ]
  },
  {
   "cell_type": "markdown",
   "metadata": {},
   "source": [
    "### Analysis Parameters"
   ]
  },
  {
   "cell_type": "code",
   "execution_count": null,
   "metadata": {
    "collapsed": true
   },
   "outputs": [],
   "source": [
    "analysis_parameters = shelve.open('analysis_parameters')\n",
    "analysis_parameters['population_name'] = 'daoko_girl'\n",
    "analysis_parameters['scenario'] = 'random_mating'\n",
    "analysis_parameters['generations'] = 3\n",
    "analysis_parameters['output_prefix'] = 'daoko_girl'"
   ]
  },
  {
   "cell_type": "code",
   "execution_count": 6,
   "metadata": {
    "collapsed": true
   },
   "outputs": [],
   "source": [
    "sim.tagID(magic1478, reset=False)"
   ]
  },
  {
   "cell_type": "code",
   "execution_count": 7,
   "metadata": {
    "collapsed": true
   },
   "outputs": [],
   "source": [
    "genetic_map = pd.read_hdf('parameters\\\\genetic_map_1478.hdf')"
   ]
  },
  {
   "cell_type": "code",
   "execution_count": 8,
   "metadata": {
    "collapsed": true
   },
   "outputs": [],
   "source": [
    "trait = shelve.open('daoko_girl_trait_parameters')\n",
    "alleles = np.array(pd.read_hdf('parameters\\\\alleles_at_1478_loci.hdf'))"
   ]
  },
  {
   "cell_type": "code",
   "execution_count": 9,
   "metadata": {
    "collapsed": true
   },
   "outputs": [],
   "source": [
    "recombination_rates = np.array(list(genetic_map['recom_rate']))"
   ]
  },
  {
   "cell_type": "code",
   "execution_count": 10,
   "metadata": {
    "collapsed": true
   },
   "outputs": [],
   "source": [
    "breed_magic_1478 = breed.MAGIC(magic1478, recombination_rates)"
   ]
  },
  {
   "cell_type": "code",
   "execution_count": 11,
   "metadata": {
    "collapsed": false
   },
   "outputs": [
    {
     "name": "stdout",
     "output_type": "stream",
     "text": [
      "Initiating interim random mating for 3 generations.\n",
      "Generation: 3\n",
      "Generation: 4\n",
      "Generation: 5\n"
     ]
    }
   ],
   "source": [
    "breed_magic_1478.interim_random_mating(3, 2000)"
   ]
  },
  {
   "cell_type": "code",
   "execution_count": 12,
   "metadata": {
    "collapsed": true
   },
   "outputs": [],
   "source": [
    "sim.stat(magic1478, numOfSegSites=sim.ALL_AVAIL, vars=['segSites', 'numOfSegSites'])"
   ]
  },
  {
   "cell_type": "code",
   "execution_count": null,
   "metadata": {
    "collapsed": true
   },
   "outputs": [],
   "source": []
  },
  {
   "cell_type": "code",
   "execution_count": 13,
   "metadata": {
    "collapsed": true
   },
   "outputs": [],
   "source": [
    "sim.stat(magic1478, alleleFreq=magic1478.dvars().segSites)"
   ]
  },
  {
   "cell_type": "code",
   "execution_count": null,
   "metadata": {
    "collapsed": true
   },
   "outputs": [],
   "source": []
  },
  {
   "cell_type": "code",
   "execution_count": 14,
   "metadata": {
    "collapsed": true
   },
   "outputs": [],
   "source": [
    "qtl = sorted(random.sample(magic1478.dvars().segSites, 10))"
   ]
  },
  {
   "cell_type": "code",
   "execution_count": 15,
   "metadata": {
    "collapsed": false
   },
   "outputs": [
    {
     "data": {
      "text/plain": [
       "[137, 688, 787, 824, 894, 983, 1022, 1026, 1232, 1276]"
      ]
     },
     "execution_count": 15,
     "metadata": {},
     "output_type": "execute_result"
    }
   ],
   "source": [
    "qtl"
   ]
  },
  {
   "cell_type": "code",
   "execution_count": 16,
   "metadata": {
    "collapsed": true
   },
   "outputs": [],
   "source": [
    "def assign_allele_effects(alleles, qtl, distribution_function,\n",
    "                         *distribution_function_parameters, multiplicity):\n",
    "    allele_effects = {}\n",
    "    for locus in qtl:\n",
    "        allele_effects[locus] = {}\n",
    "        for allele in alleles[locus]:\n",
    "            allele_effects[locus][allele] = sum([distribution_function(*distribution_function_parameters) \n",
    "                                      for i in range(multiplicity)])\n",
    "    return allele_effects"
   ]
  },
  {
   "cell_type": "code",
   "execution_count": 17,
   "metadata": {
    "collapsed": false
   },
   "outputs": [],
   "source": [
    "allele_effects = assign_allele_effects(alleles, qtl, random.expovariate, 1, multiplicity=3)"
   ]
  },
  {
   "cell_type": "code",
   "execution_count": 18,
   "metadata": {
    "collapsed": false
   },
   "outputs": [
    {
     "data": {
      "text/plain": [
       "{137: {1: 3.078821273322924, 3: 0.5829712695936001},\n",
       " 688: {2: 2.969000689332179, 3: 3.6857109128806576},\n",
       " 787: {1: 3.305930137340206, 3: 3.3562554392930437},\n",
       " 824: {2: 1.1965961388117203, 3: 3.338712110348264},\n",
       " 894: {0: 3.443208307676648, 2: 3.320355105475178},\n",
       " 983: {1: 1.1699849842081493, 3: 3.2272875444749127},\n",
       " 1022: {1: 3.886448775272619, 3: 1.1265398514212266},\n",
       " 1026: {1: 0.9450591255805005, 2: 5.266496403224768},\n",
       " 1232: {0: 6.9604205283702365, 2: 4.000834343924458},\n",
       " 1276: {2: 0.6667751598860474, 3: 2.630377450799637}}"
      ]
     },
     "execution_count": 18,
     "metadata": {},
     "output_type": "execute_result"
    }
   ],
   "source": [
    "allele_effects"
   ]
  },
  {
   "cell_type": "code",
   "execution_count": 19,
   "metadata": {
    "collapsed": false
   },
   "outputs": [],
   "source": [
    "trait['number_of_qtl'] = len(qtl)\n",
    "trait['qtl'] = qtl\n",
    "trait['allele_effects'] = allele_effects\n",
    "trait['allele_effect_distribution'] = random.expovariate.__name__\n",
    "trait['heritability'] = 0.7"
   ]
  },
  {
   "cell_type": "code",
   "execution_count": 20,
   "metadata": {
    "collapsed": true
   },
   "outputs": [],
   "source": [
    "heritability = 0.7"
   ]
  },
  {
   "cell_type": "code",
   "execution_count": 21,
   "metadata": {
    "collapsed": true
   },
   "outputs": [],
   "source": [
    "def assign_additive_g(pop, qtl, allele_effects):\n",
    "    \"\"\"\n",
    "    Calculates genotypic contribution ``g`` by summing the effect of each\n",
    "    allele at each QTL triplet.\n",
    "    \"\"\"\n",
    "    for ind in pop.individuals():\n",
    "        genotypic_contribution = \\\n",
    "            sum([\n",
    "                    allele_effects[locus][ind.genotype(ploidy=0)[locus]] +\\\n",
    "                    allele_effects[locus][ind.genotype(ploidy=1)[locus]]\n",
    "                 for locus\n",
    "                 in qtl])\n",
    "        ind.g = genotypic_contribution"
   ]
  },
  {
   "cell_type": "code",
   "execution_count": null,
   "metadata": {
    "collapsed": true
   },
   "outputs": [],
   "source": []
  },
  {
   "cell_type": "code",
   "execution_count": 22,
   "metadata": {
    "collapsed": true
   },
   "outputs": [],
   "source": [
    "assign_additive_g(magic1478, qtl, allele_effects)"
   ]
  },
  {
   "cell_type": "code",
   "execution_count": 24,
   "metadata": {
    "collapsed": true
   },
   "outputs": [],
   "source": [
    "def calculate_error_variance(pop, heritability):\n",
    "    \"\"\"\n",
    "    Calculates the parameter ``epsilon`` to be used as the variance\n",
    "    of the error distribution. The error distribution generates noise\n",
    "    found in real experiments.\n",
    "    \"\"\"\n",
    "    variance_of_g = np.var(pop.indInfo('g'))\n",
    "    epsilon = variance_of_g*(1/heritability - 1)\n",
    "    pop.dvars().epsilon = epsilon"
   ]
  },
  {
   "cell_type": "code",
   "execution_count": 25,
   "metadata": {
    "collapsed": true
   },
   "outputs": [],
   "source": [
    "\n",
    "def phenotypic_effect_calculator(pop):\n",
    "    \"\"\"\n",
    "    Simulate measurement error by adding random error to genotypic\n",
    "    contribution.\n",
    "    \"\"\"\n",
    "    for ind in pop.individuals():\n",
    "        ind.p = ind.g + random.normalvariate(0, pop.dvars().epsilon)"
   ]
  },
  {
   "cell_type": "code",
   "execution_count": 26,
   "metadata": {
    "collapsed": false
   },
   "outputs": [],
   "source": [
    "calculate_error_variance(magic1478, heritability)"
   ]
  },
  {
   "cell_type": "code",
   "execution_count": 27,
   "metadata": {
    "collapsed": false
   },
   "outputs": [
    {
     "data": {
      "text/plain": [
       "7.7486364405234669"
      ]
     },
     "execution_count": 27,
     "metadata": {},
     "output_type": "execute_result"
    }
   ],
   "source": [
    "magic1478.dvars().epsilon"
   ]
  },
  {
   "cell_type": "code",
   "execution_count": 28,
   "metadata": {
    "collapsed": true
   },
   "outputs": [],
   "source": [
    "phenotypic_effect_calculator(magic1478)"
   ]
  },
  {
   "cell_type": "code",
   "execution_count": 29,
   "metadata": {
    "collapsed": false
   },
   "outputs": [],
   "source": [
    "synthesis_parameters = shelve.open('synthesis_parameters')\n",
    "#synthesis_parameters['prefounder_names'] = prefounder_names"
   ]
  },
  {
   "cell_type": "code",
   "execution_count": null,
   "metadata": {
    "collapsed": false
   },
   "outputs": [],
   "source": [
    "#synthesis_parameters['founders'] = simulation_parameters['founders']\n",
    "#synthesis_parameters['operating_population_size'] = 2000\n",
    "#synthesis_parameters['snp_to_integer'] = simulation_parameters['snp_to_integer']\n",
    "#synthesis_parameters['integer_to_snp'] = simulation_parameters['integer_to_snp']\n",
    "#synthesis_parameters['prefounder_file_name'] = 'prefounders_1478.pop'\n",
    "#synthesis_parameters['mating_scheme'] = 'MAGIC'"
   ]
  },
  {
   "cell_type": "code",
   "execution_count": 30,
   "metadata": {
    "collapsed": false
   },
   "outputs": [
    {
     "data": {
      "text/plain": [
       "{137: {1: 3.078821273322924, 3: 0.5829712695936001},\n",
       " 688: {2: 2.969000689332179, 3: 3.6857109128806576},\n",
       " 787: {1: 3.305930137340206, 3: 3.3562554392930437},\n",
       " 824: {2: 1.1965961388117203, 3: 3.338712110348264},\n",
       " 894: {0: 3.443208307676648, 2: 3.320355105475178},\n",
       " 983: {1: 1.1699849842081493, 3: 3.2272875444749127},\n",
       " 1022: {1: 3.886448775272619, 3: 1.1265398514212266},\n",
       " 1026: {1: 0.9450591255805005, 2: 5.266496403224768},\n",
       " 1232: {0: 6.9604205283702365, 2: 4.000834343924458},\n",
       " 1276: {2: 0.6667751598860474, 3: 2.630377450799637}}"
      ]
     },
     "execution_count": 30,
     "metadata": {},
     "output_type": "execute_result"
    }
   ],
   "source": [
    "allele_effects"
   ]
  },
  {
   "cell_type": "code",
   "execution_count": 31,
   "metadata": {
    "collapsed": false
   },
   "outputs": [
    {
     "data": {
      "text/plain": [
       "{137: {1: 3.078821273322924, 3: 0.5829712695936001},\n",
       " 688: {2: 2.969000689332179, 3: 3.6857109128806576},\n",
       " 787: {1: 3.305930137340206, 3: 3.3562554392930437},\n",
       " 824: {2: 1.1965961388117203, 3: 3.338712110348264},\n",
       " 894: {0: 3.443208307676648, 2: 3.320355105475178},\n",
       " 983: {1: 1.1699849842081493, 3: 3.2272875444749127},\n",
       " 1022: {1: 3.886448775272619, 3: 1.1265398514212266},\n",
       " 1026: {1: 0.9450591255805005, 2: 5.266496403224768},\n",
       " 1232: {0: 6.9604205283702365, 2: 4.000834343924458},\n",
       " 1276: {2: 0.6667751598860474, 3: 2.630377450799637}}"
      ]
     },
     "execution_count": 31,
     "metadata": {},
     "output_type": "execute_result"
    }
   ],
   "source": [
    "trait['allele_effects']"
   ]
  },
  {
   "cell_type": "code",
   "execution_count": 32,
   "metadata": {
    "collapsed": false
   },
   "outputs": [
    {
     "data": {
      "text/plain": [
       "array([[1, 2],\n",
       "       [1, 3],\n",
       "       [3, 1],\n",
       "       ..., \n",
       "       [1, 0],\n",
       "       [3, 0],\n",
       "       [3, 1]], dtype=int64)"
      ]
     },
     "execution_count": 32,
     "metadata": {},
     "output_type": "execute_result"
    }
   ],
   "source": [
    "alleles"
   ]
  },
  {
   "cell_type": "code",
   "execution_count": 33,
   "metadata": {
    "collapsed": false
   },
   "outputs": [],
   "source": [
    "def generate_allele_effects_table(qtl, alleles, allele_effects):\n",
    "    \"\"\"\n",
    "    Creates a simple pd.DataFrame for allele effects. Hard-coded\n",
    "    for bi-allelic case.\n",
    "    \n",
    "    :parameter list qtl: List of loci declared as QTL\n",
    "    :parameter np.array alleles: Array of alleles at each locus\n",
    "    :parameter dict allele_effects: Mapping of effects for alleles at each QTLocus\n",
    "    \n",
    "    \"\"\"\n",
    "    ae_table = {\n",
    "        'locus': [],\n",
    "        'alpha_allele': [],\n",
    "        'alpha_effect': [],\n",
    "        'beta_allele': [],\n",
    "        'beta_effect': [],\n",
    "    }\n",
    "\n",
    "    for locus in qtl:\n",
    "        ae_table['locus'].append(locus)\n",
    "        alpha_allele, beta_allele = alleles[locus]\n",
    "        ae_table['alpha_allele'].append(alpha_allele)\n",
    "        ae_table['beta_allele'].append(beta_allele)\n",
    "        alpha_effect = allele_effects[locus][alpha_allele]\n",
    "        ae_table['alpha_effect'].append(alpha_effect)\n",
    "        beta_effect = allele_effects[locus][beta_allele]\n",
    "        ae_table['beta_effect'].append(beta_effect)\n",
    "    order_of_columns = ['locus', 'alpha_allele', 'alpha_effect', 'beta_allele', 'beta_effect']\n",
    "    allele_effect_frame = pd.DataFrame(ae_table, columns=order_of_columns)\n",
    "    return allele_effect_frame"
   ]
  },
  {
   "cell_type": "code",
   "execution_count": 34,
   "metadata": {
    "collapsed": true
   },
   "outputs": [],
   "source": [
    "aeframe = generate_allele_effects_table(qtl, alleles, allele_effects)"
   ]
  },
  {
   "cell_type": "code",
   "execution_count": 35,
   "metadata": {
    "collapsed": false
   },
   "outputs": [
    {
     "data": {
      "text/html": [
       "<div>\n",
       "<table border=\"1\" class=\"dataframe\">\n",
       "  <thead>\n",
       "    <tr style=\"text-align: right;\">\n",
       "      <th></th>\n",
       "      <th>locus</th>\n",
       "      <th>alpha_allele</th>\n",
       "      <th>alpha_effect</th>\n",
       "      <th>beta_allele</th>\n",
       "      <th>beta_effect</th>\n",
       "    </tr>\n",
       "  </thead>\n",
       "  <tbody>\n",
       "    <tr>\n",
       "      <th>0</th>\n",
       "      <td>137</td>\n",
       "      <td>3</td>\n",
       "      <td>0.582971</td>\n",
       "      <td>1</td>\n",
       "      <td>3.078821</td>\n",
       "    </tr>\n",
       "    <tr>\n",
       "      <th>1</th>\n",
       "      <td>688</td>\n",
       "      <td>2</td>\n",
       "      <td>2.969001</td>\n",
       "      <td>3</td>\n",
       "      <td>3.685711</td>\n",
       "    </tr>\n",
       "    <tr>\n",
       "      <th>2</th>\n",
       "      <td>787</td>\n",
       "      <td>1</td>\n",
       "      <td>3.305930</td>\n",
       "      <td>3</td>\n",
       "      <td>3.356255</td>\n",
       "    </tr>\n",
       "    <tr>\n",
       "      <th>3</th>\n",
       "      <td>824</td>\n",
       "      <td>2</td>\n",
       "      <td>1.196596</td>\n",
       "      <td>3</td>\n",
       "      <td>3.338712</td>\n",
       "    </tr>\n",
       "    <tr>\n",
       "      <th>4</th>\n",
       "      <td>894</td>\n",
       "      <td>2</td>\n",
       "      <td>3.320355</td>\n",
       "      <td>0</td>\n",
       "      <td>3.443208</td>\n",
       "    </tr>\n",
       "    <tr>\n",
       "      <th>5</th>\n",
       "      <td>983</td>\n",
       "      <td>1</td>\n",
       "      <td>1.169985</td>\n",
       "      <td>3</td>\n",
       "      <td>3.227288</td>\n",
       "    </tr>\n",
       "    <tr>\n",
       "      <th>6</th>\n",
       "      <td>1022</td>\n",
       "      <td>3</td>\n",
       "      <td>1.126540</td>\n",
       "      <td>1</td>\n",
       "      <td>3.886449</td>\n",
       "    </tr>\n",
       "    <tr>\n",
       "      <th>7</th>\n",
       "      <td>1026</td>\n",
       "      <td>1</td>\n",
       "      <td>0.945059</td>\n",
       "      <td>2</td>\n",
       "      <td>5.266496</td>\n",
       "    </tr>\n",
       "    <tr>\n",
       "      <th>8</th>\n",
       "      <td>1232</td>\n",
       "      <td>2</td>\n",
       "      <td>4.000834</td>\n",
       "      <td>0</td>\n",
       "      <td>6.960421</td>\n",
       "    </tr>\n",
       "    <tr>\n",
       "      <th>9</th>\n",
       "      <td>1276</td>\n",
       "      <td>2</td>\n",
       "      <td>0.666775</td>\n",
       "      <td>3</td>\n",
       "      <td>2.630377</td>\n",
       "    </tr>\n",
       "  </tbody>\n",
       "</table>\n",
       "</div>"
      ],
      "text/plain": [
       "   locus  alpha_allele  alpha_effect  beta_allele  beta_effect\n",
       "0    137             3      0.582971            1     3.078821\n",
       "1    688             2      2.969001            3     3.685711\n",
       "2    787             1      3.305930            3     3.356255\n",
       "3    824             2      1.196596            3     3.338712\n",
       "4    894             2      3.320355            0     3.443208\n",
       "5    983             1      1.169985            3     3.227288\n",
       "6   1022             3      1.126540            1     3.886449\n",
       "7   1026             1      0.945059            2     5.266496\n",
       "8   1232             2      4.000834            0     6.960421\n",
       "9   1276             2      0.666775            3     2.630377"
      ]
     },
     "execution_count": 35,
     "metadata": {},
     "output_type": "execute_result"
    }
   ],
   "source": [
    "aeframe"
   ]
  },
  {
   "cell_type": "code",
   "execution_count": 36,
   "metadata": {
    "collapsed": false
   },
   "outputs": [],
   "source": [
    "trait['epsilon'] = magic1478.dvars().epsilon"
   ]
  },
  {
   "cell_type": "code",
   "execution_count": 37,
   "metadata": {
    "collapsed": false
   },
   "outputs": [],
   "source": [
    "segregating_loci = magic1478.dvars().segSites"
   ]
  },
  {
   "cell_type": "code",
   "execution_count": 63,
   "metadata": {
    "collapsed": false
   },
   "outputs": [
    {
     "data": {
      "text/plain": [
       "<module 'saegus.analyze' from 'c:\\\\Anaconda3\\\\lib\\\\site-packages\\\\saegus\\\\analyze.py'>"
      ]
     },
     "execution_count": 63,
     "metadata": {},
     "output_type": "execute_result"
    }
   ],
   "source": [
    "import importlib as imp\n",
    "imp.reload(analyze)"
   ]
  },
  {
   "cell_type": "code",
   "execution_count": 39,
   "metadata": {
    "collapsed": false
   },
   "outputs": [],
   "source": [
    "af = analyze.allele_data(magic1478, alleles, list(range(1478)))"
   ]
  },
  {
   "cell_type": "code",
   "execution_count": null,
   "metadata": {
    "collapsed": true
   },
   "outputs": [],
   "source": [
    "pca = analyze.PCA(magic1478, segregating_loci, np.array(af['minor_allele']))"
   ]
  },
  {
   "cell_type": "code",
   "execution_count": null,
   "metadata": {
    "collapsed": false
   },
   "outputs": [],
   "source": [
    "ccm = pca.calculate_count_matrix('run_daoko_girl_minor_cm.txt')"
   ]
  },
  {
   "cell_type": "code",
   "execution_count": null,
   "metadata": {
    "collapsed": true
   },
   "outputs": [],
   "source": [
    "af['minor_allele']"
   ]
  },
  {
   "cell_type": "code",
   "execution_count": null,
   "metadata": {
    "collapsed": false
   },
   "outputs": [],
   "source": [
    "eigendata = pca.svd(ccm)"
   ]
  },
  {
   "cell_type": "code",
   "execution_count": null,
   "metadata": {
    "collapsed": false
   },
   "outputs": [],
   "source": [
    "segregating_frame = pd.DataFrame(segregating_data, columns=['segregating_locus', 'minor_allele', 'frequency'])"
   ]
  },
  {
   "cell_type": "code",
   "execution_count": null,
   "metadata": {
    "collapsed": false
   },
   "outputs": [],
   "source": [
    "segregating_loci = np.array(magic1478.dvars().segSites)"
   ]
  },
  {
   "cell_type": "code",
   "execution_count": 132,
   "metadata": {
    "collapsed": false
   },
   "outputs": [
    {
     "data": {
      "text/plain": [
       "<module 'saegus.analyze' from 'c:\\\\Anaconda3\\\\lib\\\\site-packages\\\\saegus\\\\analyze.py'>"
      ]
     },
     "execution_count": 132,
     "metadata": {},
     "output_type": "execute_result"
    }
   ],
   "source": [
    "import importlib as imp\n",
    "imp.reload(analyze)"
   ]
  },
  {
   "cell_type": "code",
   "execution_count": 133,
   "metadata": {
    "collapsed": true
   },
   "outputs": [],
   "source": [
    "gwas = analyze.GWAS(magic1478, segregating_loci, list(af['minor_allele']), 'daoko_girl')"
   ]
  },
  {
   "cell_type": "code",
   "execution_count": 134,
   "metadata": {
    "collapsed": false
   },
   "outputs": [
    {
     "data": {
      "text/plain": [
       "<saegus.analyze.GWAS at 0x1b631978>"
      ]
     },
     "execution_count": 134,
     "metadata": {},
     "output_type": "execute_result"
    }
   ],
   "source": [
    "gwas"
   ]
  },
  {
   "cell_type": "code",
   "execution_count": 135,
   "metadata": {
    "collapsed": true
   },
   "outputs": [],
   "source": [
    "ccm = gwas.calculate_count_matrix('daoko_girl_ma_count.txt')"
   ]
  },
  {
   "cell_type": "code",
   "execution_count": 136,
   "metadata": {
    "collapsed": true
   },
   "outputs": [],
   "source": [
    "ps_svd = gwas.pop_struct_svd(ccm)"
   ]
  },
  {
   "cell_type": "code",
   "execution_count": 137,
   "metadata": {
    "collapsed": false
   },
   "outputs": [],
   "source": [
    "ps_m = gwas.population_structure_formatter(ps_svd, 'daoko_girl_structure.txt')"
   ]
  },
  {
   "cell_type": "code",
   "execution_count": 138,
   "metadata": {
    "collapsed": false
   },
   "outputs": [],
   "source": [
    "synthesis_parameters = shelve.open('synthesis_parameters')\n",
    "int_to_snp_map = synthesis_parameters['integer_to_snp']\n",
    "synthesis_parameters.close()"
   ]
  },
  {
   "cell_type": "code",
   "execution_count": 139,
   "metadata": {
    "collapsed": false
   },
   "outputs": [
    {
     "data": {
      "text/plain": [
       "{0: 'A', 1: 'C', 2: 'G', 3: 'T', 4: '-', 5: '+'}"
      ]
     },
     "execution_count": 139,
     "metadata": {},
     "output_type": "execute_result"
    }
   ],
   "source": [
    "int_to_snp_map"
   ]
  },
  {
   "cell_type": "code",
   "execution_count": 140,
   "metadata": {
    "collapsed": false
   },
   "outputs": [],
   "source": [
    "hmap = gwas.hapmap_formatter(int_to_snp_map, 'daoko_girl_hapmap.txt')"
   ]
  },
  {
   "cell_type": "code",
   "execution_count": null,
   "metadata": {
    "collapsed": true
   },
   "outputs": [],
   "source": []
  },
  {
   "cell_type": "code",
   "execution_count": 141,
   "metadata": {
    "collapsed": false
   },
   "outputs": [],
   "source": [
    "ks_m = gwas.calc_kinship_matrix(ccm, af, 'daoko_girl_kinship_matrix.txt')"
   ]
  },
  {
   "cell_type": "code",
   "execution_count": null,
   "metadata": {
    "collapsed": true
   },
   "outputs": [],
   "source": []
  },
  {
   "cell_type": "code",
   "execution_count": 142,
   "metadata": {
    "collapsed": false
   },
   "outputs": [],
   "source": [
    "trait_vector = pd.DataFrame(np.array([magic1478.indInfo('ind_id'),magic1478.indInfo('p')]).T)"
   ]
  },
  {
   "cell_type": "code",
   "execution_count": 143,
   "metadata": {
    "collapsed": false
   },
   "outputs": [],
   "source": [
    "trait_vector.to_csv('daoko_girl_trait_vector.txt', sep=' ', index=False, header=False)"
   ]
  },
  {
   "cell_type": "code",
   "execution_count": 144,
   "metadata": {
    "collapsed": false
   },
   "outputs": [
    {
     "data": {
      "text/plain": [
       "1477"
      ]
     },
     "execution_count": 144,
     "metadata": {},
     "output_type": "execute_result"
    }
   ],
   "source": [
    "max(segregating_loci)"
   ]
  },
  {
   "cell_type": "code",
   "execution_count": 145,
   "metadata": {
    "collapsed": true
   },
   "outputs": [],
   "source": [
    "intermediate_data = shelve.open('daoko_girl_debug_data')\n",
    "intermediate_data['allele_frequencies'] = af\n",
    "intermediate_data['g'] = np.array(magic1478.indInfo('g'))\n",
    "intermediate_data['p'] = np.array(magic1478.indInfo('p'))\n",
    "intermediate_data['segregating_loci'] = segregating_loci\n",
    "intermediate_data['run_name'] = 'daoko_girl'"
   ]
  },
  {
   "cell_type": "code",
   "execution_count": 146,
   "metadata": {
    "collapsed": false
   },
   "outputs": [],
   "source": [
    "trait.close()\n",
    "#analysis_parameters.close()\n",
    "intermediate_data.close()"
   ]
  },
  {
   "cell_type": "code",
   "execution_count": null,
   "metadata": {
    "collapsed": true
   },
   "outputs": [],
   "source": []
  }
 ],
 "metadata": {
  "kernelspec": {
   "display_name": "Python 3",
   "language": "python",
   "name": "python3"
  },
  "language_info": {
   "codemirror_mode": {
    "name": "ipython",
    "version": 3
   },
   "file_extension": ".py",
   "mimetype": "text/x-python",
   "name": "python",
   "nbconvert_exporter": "python",
   "pygments_lexer": "ipython3",
   "version": "3.4.4"
  }
 },
 "nbformat": 4,
 "nbformat_minor": 0
}
