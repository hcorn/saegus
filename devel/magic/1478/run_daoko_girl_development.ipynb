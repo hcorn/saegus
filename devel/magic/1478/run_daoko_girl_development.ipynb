{
 "cells": [
  {
   "cell_type": "markdown",
   "metadata": {},
   "source": [
    "## Run: daoko_girl"
   ]
  },
  {
   "cell_type": "code",
   "execution_count": 1,
   "metadata": {
    "collapsed": true
   },
   "outputs": [],
   "source": [
    "import pytest\n",
    "import simuOpt\n",
    "simuOpt.setOptions(alleleType='short', numThreads=4, quiet=True)\n",
    "import simuPOP as sim\n",
    "import pandas as pd\n",
    "from saegus import breed, operators, simulate, analyze, parse, parameters\n",
    "import shelve\n",
    "import numpy as np\n",
    "import random\n",
    "np.set_printoptions(suppress=True, precision=3)"
   ]
  },
  {
   "cell_type": "markdown",
   "metadata": {},
   "source": [
    "### Top Level Definitions"
   ]
  },
  {
   "cell_type": "code",
   "execution_count": 2,
   "metadata": {
    "collapsed": false
   },
   "outputs": [
    {
     "data": {
      "text/plain": [
       "['epsilon',\n",
       " 'number_of_qtl',\n",
       " 'qtl',\n",
       " 'multiplicity',\n",
       " 'distribution_parameters',\n",
       " 'allele_effect_distribution',\n",
       " 'allele_effects',\n",
       " 'heritability']"
      ]
     },
     "execution_count": 2,
     "metadata": {},
     "output_type": "execute_result"
    }
   ],
   "source": [
    "trait_parameter_set = shelve.open('daoko_girl_trait_parameters')\n",
    "list(trait_parameter_set)"
   ]
  },
  {
   "cell_type": "code",
   "execution_count": 3,
   "metadata": {
    "collapsed": true
   },
   "outputs": [],
   "source": [
    "run_id = 'daoko_girl'\n",
    "trait_parameter_set = run_id + '_trait_parameters'\n",
    "analysis_parameter_set = run_id + '_analysis_parameters'"
   ]
  },
  {
   "cell_type": "code",
   "execution_count": 4,
   "metadata": {
    "collapsed": true
   },
   "outputs": [],
   "source": [
    "analysis_parameters = shelve.open(analysis_parameter_set)\n",
    "analysis_parameters['population_name'] = run_id\n",
    "analysis_parameters['scenario'] = 'random_mating'\n",
    "analysis_parameters['generations'] = 3\n",
    "analysis_parameters['run_identifier'] = run_id\n",
    "analysis_parameters['operating_population_size'] = 2000"
   ]
  },
  {
   "cell_type": "code",
   "execution_count": 5,
   "metadata": {
    "collapsed": true
   },
   "outputs": [],
   "source": [
    "trait = shelve.open(trait_parameter_set)\n",
    "trait['allele_effect_distribution'] = random.expovariate.__name__\n",
    "trait['distribution_parameters'] = 1\n",
    "trait['multiplicity'] = 3\n",
    "trait['heritability'] = 0.7"
   ]
  },
  {
   "cell_type": "markdown",
   "metadata": {},
   "source": [
    "### File Names"
   ]
  },
  {
   "cell_type": "code",
   "execution_count": 6,
   "metadata": {
    "collapsed": true
   },
   "outputs": [],
   "source": [
    "base_population_file_name = \"populations\\\\magic_1478.pop\"\n",
    "genetic_map_file_name = \"parameters\\\\genetic_map_1478.hdf\"\n",
    "allele_file_name = \"parameters\\\\alleles_at_1478_loci.hdf\""
   ]
  },
  {
   "cell_type": "markdown",
   "metadata": {},
   "source": [
    "### Genotype Data"
   ]
  },
  {
   "cell_type": "code",
   "execution_count": 7,
   "metadata": {
    "collapsed": true
   },
   "outputs": [],
   "source": [
    "genetic_map = pd.read_hdf(genetic_map_file_name)\n",
    "alleles = np.array(pd.read_hdf(allele_file_name))\n",
    "recombination_rates = np.array(list(genetic_map['recom_rate']))\n",
    "number_qt_loci = 10"
   ]
  },
  {
   "cell_type": "markdown",
   "metadata": {},
   "source": [
    "### Quantitative Trait"
   ]
  },
  {
   "cell_type": "code",
   "execution_count": 8,
   "metadata": {
    "collapsed": false
   },
   "outputs": [],
   "source": [
    "base_population = sim.loadPopulation(base_population_file_name)"
   ]
  },
  {
   "cell_type": "code",
   "execution_count": 9,
   "metadata": {
    "collapsed": false
   },
   "outputs": [],
   "source": [
    "base_population.setSubPopName(run_id, 0)"
   ]
  },
  {
   "cell_type": "markdown",
   "metadata": {},
   "source": [
    "### Create Analysis Population"
   ]
  },
  {
   "cell_type": "code",
   "execution_count": 10,
   "metadata": {
    "collapsed": true
   },
   "outputs": [],
   "source": [
    "sim.tagID(base_population, reset=False)"
   ]
  },
  {
   "cell_type": "code",
   "execution_count": 11,
   "metadata": {
    "collapsed": true
   },
   "outputs": [],
   "source": [
    "random_mater = breed.MAGIC(base_population, recombination_rates)"
   ]
  },
  {
   "cell_type": "code",
   "execution_count": 12,
   "metadata": {
    "collapsed": false
   },
   "outputs": [
    {
     "name": "stdout",
     "output_type": "stream",
     "text": [
      "Initiating interim random mating for 3 generations.\n",
      "Generation: 3\n",
      "Generation: 4\n",
      "Generation: 5\n"
     ]
    }
   ],
   "source": [
    "random_mater.interim_random_mating(analysis_parameters['generations']\n",
    "                                   ,analysis_parameters['operating_population_size'])"
   ]
  },
  {
   "cell_type": "code",
   "execution_count": 13,
   "metadata": {
    "collapsed": true
   },
   "outputs": [],
   "source": [
    "sim.stat(base_population, alleleFreq=sim.ALL_AVAIL)\n",
    "sim.stat(base_population, numOfSegSites=sim.ALL_AVAIL, vars=['segSites', 'numOfSegSites'])"
   ]
  },
  {
   "cell_type": "code",
   "execution_count": 14,
   "metadata": {
    "collapsed": false
   },
   "outputs": [],
   "source": [
    "qtl = sorted(random.sample(base_population.dvars().segSites, number_qt_loci))"
   ]
  },
  {
   "cell_type": "code",
   "execution_count": 15,
   "metadata": {
    "collapsed": true
   },
   "outputs": [],
   "source": [
    "additive_trait = parameters.Trait()"
   ]
  },
  {
   "cell_type": "code",
   "execution_count": 16,
   "metadata": {
    "collapsed": false
   },
   "outputs": [],
   "source": [
    "aes = additive_trait.assign_allele_effects(alleles, qtl, random.expovariate, 1, multiplicity=3)"
   ]
  },
  {
   "cell_type": "code",
   "execution_count": 17,
   "metadata": {
    "collapsed": false
   },
   "outputs": [
    {
     "data": {
      "text/plain": [
       "{155: {0: 5.246355642444491, 2: 4.4593782658468335},\n",
       " 420: {2: 2.259192368494645, 3: 3.092229777105861},\n",
       " 646: {1: 4.785768179045667, 2: 3.9965290715630735},\n",
       " 667: {2: 3.514687471834254, 3: 4.566962428451008},\n",
       " 925: {0: 2.531262958045664, 2: 3.105306129011896},\n",
       " 1093: {1: 6.0877450839025204, 2: 3.8672779857240007},\n",
       " 1132: {2: 3.139314451285914, 3: 2.354233854620061},\n",
       " 1178: {1: 2.775562895221297, 2: 3.1281122552083684},\n",
       " 1191: {2: 6.586549033287626, 3: 0.8933349309649996},\n",
       " 1445: {1: 6.085636913676679, 3: 3.277924371568076}}"
      ]
     },
     "execution_count": 17,
     "metadata": {},
     "output_type": "execute_result"
    }
   ],
   "source": [
    "aes"
   ]
  },
  {
   "cell_type": "code",
   "execution_count": 19,
   "metadata": {
    "collapsed": true
   },
   "outputs": [],
   "source": [
    "heritability = 0.7"
   ]
  },
  {
   "cell_type": "code",
   "execution_count": 78,
   "metadata": {
    "collapsed": true
   },
   "outputs": [],
   "source": [
    "operators.assign_additive_g(base_population, qtl, aes)"
   ]
  },
  {
   "cell_type": "code",
   "execution_count": 141,
   "metadata": {
    "collapsed": false
   },
   "outputs": [],
   "source": [
    "allele_effects_table = population_sample_analyzer(base_population, 300, 10, alleles, random.expovariate, 1, multiplicity=3,\n",
    "                          heritability=0.7, run_id=\"daoko_girl\")"
   ]
  },
  {
   "cell_type": "code",
   "execution_count": 144,
   "metadata": {
    "collapsed": true
   },
   "outputs": [],
   "source": [
    "reread_ae_table = pd.read_hdf(\"C:\\\\tassel\\\\output\\\\allele_effects_table_200.hdf\")"
   ]
  },
  {
   "cell_type": "code",
   "execution_count": 149,
   "metadata": {
    "collapsed": false
   },
   "outputs": [
    {
     "data": {
      "text/plain": [
       "114"
      ]
     },
     "execution_count": 149,
     "metadata": {},
     "output_type": "execute_result"
    }
   ],
   "source": [
    "saegus_to_tassel_loci[215]"
   ]
  },
  {
   "cell_type": "code",
   "execution_count": 153,
   "metadata": {
    "collapsed": false
   },
   "outputs": [],
   "source": [
    "remapped_loci = [saegus_to_tassel_loci[reread_ae_table['locus'][i]] for i in range(10)]"
   ]
  },
  {
   "cell_type": "code",
   "execution_count": 154,
   "metadata": {
    "collapsed": false
   },
   "outputs": [
    {
     "data": {
      "text/plain": [
       "[114, 183, 363, 405, 420, 423, 503, 634, 690, 780]"
      ]
     },
     "execution_count": 154,
     "metadata": {},
     "output_type": "execute_result"
    }
   ],
   "source": [
    "remapped_loci"
   ]
  },
  {
   "cell_type": "code",
   "execution_count": 155,
   "metadata": {
    "collapsed": true
   },
   "outputs": [],
   "source": [
    "reread_ae_table['locus'] = remapped_loci"
   ]
  },
  {
   "cell_type": "code",
   "execution_count": 157,
   "metadata": {
    "collapsed": false
   },
   "outputs": [],
   "source": [
    "reread_ae_table.to_hdf(\"allele_effects_table_200.hdf\", \"daoko\")"
   ]
  },
  {
   "cell_type": "code",
   "execution_count": null,
   "metadata": {
    "collapsed": false
   },
   "outputs": [],
   "source": [
    "#synthesis_parameters['founders'] = simulation_parameters['founders']\n",
    "#synthesis_parameters['operating_population_size'] = 2000\n",
    "#synthesis_parameters['snp_to_integer'] = simulation_parameters['snp_to_integer']\n",
    "#synthesis_parameters['integer_to_snp'] = simulation_parameters['integer_to_snp']\n",
    "#synthesis_parameters['prefounder_file_name'] = 'prefounders_1478.pop'\n",
    "#synthesis_parameters['mating_scheme'] = 'MAGIC'"
   ]
  },
  {
   "cell_type": "code",
   "execution_count": 23,
   "metadata": {
    "collapsed": false
   },
   "outputs": [],
   "source": [
    "aeframe = analyze.generate_allele_effects_table(qtl, alleles, aes)"
   ]
  },
  {
   "cell_type": "code",
   "execution_count": 25,
   "metadata": {
    "collapsed": false
   },
   "outputs": [],
   "source": [
    "trait['epsilon'] = base_population.dvars().epsilon"
   ]
  },
  {
   "cell_type": "code",
   "execution_count": 61,
   "metadata": {
    "collapsed": true
   },
   "outputs": [],
   "source": [
    "gwas = analyze.GWAS(base_population, segregating_loci, np.array(af['minor_allele']), run_id)"
   ]
  },
  {
   "cell_type": "code",
   "execution_count": 67,
   "metadata": {
    "collapsed": false
   },
   "outputs": [],
   "source": [
    "ps_m = gwas.population_structure_formatter(ps_svd, indir+'daoko_girl_population_structure.txt')"
   ]
  },
  {
   "cell_type": "code",
   "execution_count": 68,
   "metadata": {
    "collapsed": false
   },
   "outputs": [],
   "source": [
    "synthesis_parameters = shelve.open('synthesis_parameters')\n",
    "int_to_snp_map = synthesis_parameters['integer_to_snp']\n",
    "synthesis_parameters.close()"
   ]
  },
  {
   "cell_type": "code",
   "execution_count": 69,
   "metadata": {
    "collapsed": false
   },
   "outputs": [],
   "source": [
    "hmap = gwas.hapmap_formatter(int_to_snp_map, indir+'daoko_girl_hapmap.txt')"
   ]
  },
  {
   "cell_type": "code",
   "execution_count": 70,
   "metadata": {
    "collapsed": true
   },
   "outputs": [],
   "source": [
    "phenos = gwas.trait_formatter(indir+'daoko_girl_phenotype_vector.txt')"
   ]
  },
  {
   "cell_type": "code",
   "execution_count": 71,
   "metadata": {
    "collapsed": false
   },
   "outputs": [],
   "source": [
    "ks_m = gwas.calc_kinship_matrix(ccm, af, indir+'daoko_girl_kinship_matrix.txt')"
   ]
  },
  {
   "cell_type": "code",
   "execution_count": null,
   "metadata": {
    "collapsed": false
   },
   "outputs": [],
   "source": [
    "trait.close()\n",
    "#analysis_parameters.close()\n",
    "intermediate_data.close()"
   ]
  },
  {
   "cell_type": "markdown",
   "metadata": {},
   "source": [
    "### `saegus_to_tassel_loci`:\n",
    "    Takes a locus from segregating_loci and returns corresponding locus for TASSEL"
   ]
  },
  {
   "cell_type": "markdown",
   "metadata": {},
   "source": [
    "### `saegus_to_tassel_loci`:\n",
    "    Takes a locus from rs column of TASSEL output and returns corresponding segregating locus in saegus"
   ]
  },
  {
   "cell_type": "code",
   "execution_count": 73,
   "metadata": {
    "collapsed": false
   },
   "outputs": [],
   "source": [
    "saegus_to_tassel_loci = {}\n",
    "tassel_to_saegus_loci = {}\n",
    "for idx, locus in enumerate(segregating_loci):\n",
    "    saegus_to_tassel_loci[locus] = idx\n",
    "    tassel_to_saegus_loci[idx] = locus"
   ]
  },
  {
   "cell_type": "code",
   "execution_count": 74,
   "metadata": {
    "collapsed": false
   },
   "outputs": [],
   "source": [
    "segregating_frqs = [base_population.dvars().alleleFreq[seg_loc] for seg_loc in segregating_loci]"
   ]
  },
  {
   "cell_type": "code",
   "execution_count": 76,
   "metadata": {
    "collapsed": false
   },
   "outputs": [],
   "source": [
    "aeframe.to_hdf(indir+'daoko_girl_allele_effects_table.hdf', 'aeframe')"
   ]
  },
  {
   "cell_type": "code",
   "execution_count": null,
   "metadata": {
    "collapsed": false
   },
   "outputs": [],
   "source": [
    "analysis_parameters['sample_size'] = 100\n",
    "rm_sample = sim.sampling.drawRandomSample(base_population, sizes=analysis_parameters['sample_size'])\n",
    "analysis_parameters['sampled_ind_ids'] = list(rm_sample.indInfo('ind_id'))"
   ]
  },
  {
   "cell_type": "code",
   "execution_count": null,
   "metadata": {
    "collapsed": false
   },
   "outputs": [],
   "source": [
    "sim.stat(rm_sample, numOfSegSites=sim.ALL_AVAIL, vars=['segSites'])\n",
    "sim.stat(rm_sample, alleleFreq=sim.ALL_AVAIL)"
   ]
  },
  {
   "cell_type": "code",
   "execution_count": null,
   "metadata": {
    "collapsed": true
   },
   "outputs": [],
   "source": [
    "rm_sample.dvars()"
   ]
  },
  {
   "cell_type": "code",
   "execution_count": null,
   "metadata": {
    "collapsed": false
   },
   "outputs": [],
   "source": [
    "analysis_parameters['sample_segregating_loci'] = rm_sample.dvars().segSites\n",
    "analysis_parameters['sample_allele_frequencies'] = dict(rm_sample.dvars().alleleFreq)\n",
    "analysis_parameters['saegus_to_tassel_loci'] = saegus_to_tassel_loci\n",
    "analysis_parameters['tassel_to_saegus_loci'] = tassel_to_saegus_loci"
   ]
  },
  {
   "cell_type": "code",
   "execution_count": null,
   "metadata": {
    "collapsed": true
   },
   "outputs": [],
   "source": [
    "analysis_parameters.close()"
   ]
  },
  {
   "cell_type": "code",
   "execution_count": 130,
   "metadata": {
    "collapsed": false
   },
   "outputs": [
    {
     "data": {
      "text/plain": [
       "<module 'saegus.analyze' from 'c:\\\\Anaconda3\\\\lib\\\\site-packages\\\\saegus\\\\analyze.py'>"
      ]
     },
     "execution_count": 130,
     "metadata": {},
     "output_type": "execute_result"
    }
   ],
   "source": [
    "import importlib as imp\n",
    "imp.reload(analyze)"
   ]
  },
  {
   "cell_type": "code",
   "execution_count": 90,
   "metadata": {
    "collapsed": false
   },
   "outputs": [],
   "source": [
    "gwas.generate_tassel_gwas_configs(\"C:\\\\tassel\\\\bin\\\\daoko_girl_\", \n",
    "                                     \"C:\\\\tassel\\\\input\\\\daoko_girl_\",\n",
    "                                    \"C:\\\\tassel\\\\output\\\\daoko_girl_\",\n",
    "                                    \"C:\\\\Users\\DoubleDanks\\\\BISB\\\\wisser\\\\code\\\\rjwlab-scripts\\\\saegus_project\\\\devel\\\\magic\\\\1478\\\\daoko_girl_gwas_pipeline.xml\")"
   ]
  },
  {
   "cell_type": "code",
   "execution_count": null,
   "metadata": {
    "collapsed": true
   },
   "outputs": [],
   "source": []
  },
  {
   "cell_type": "code",
   "execution_count": null,
   "metadata": {
    "collapsed": true
   },
   "outputs": [],
   "source": []
  }
 ],
 "metadata": {
  "kernelspec": {
   "display_name": "Python 3",
   "language": "python",
   "name": "python3"
  },
  "language_info": {
   "codemirror_mode": {
    "name": "ipython",
    "version": 3
   },
   "file_extension": ".py",
   "mimetype": "text/x-python",
   "name": "python",
   "nbconvert_exporter": "python",
   "pygments_lexer": "ipython3",
   "version": "3.4.4"
  }
 },
 "nbformat": 4,
 "nbformat_minor": 0
}
