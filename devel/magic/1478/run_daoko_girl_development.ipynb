{
 "cells": [
  {
   "cell_type": "markdown",
   "metadata": {},
   "source": [
    "## Run: daoko_girl"
   ]
  },
  {
   "cell_type": "code",
   "execution_count": 1,
   "metadata": {
    "collapsed": false
   },
   "outputs": [],
   "source": [
    "import pytest\n",
    "import simuOpt\n",
    "simuOpt.setOptions(alleleType='short', numThreads=4, quiet=True)\n",
    "import simuPOP as sim\n",
    "import pandas as pd\n",
    "from saegus import breed, operators, simulate, analyze, parse, parameters\n",
    "import shelve\n",
    "import numpy as np\n",
    "import random\n",
    "np.set_printoptions(suppress=True, precision=3)"
   ]
  },
  {
   "cell_type": "code",
   "execution_count": null,
   "metadata": {
    "collapsed": false
   },
   "outputs": [],
   "source": [
    "import importlib as imp\n",
    "imp.reload(analyze)"
   ]
  },
  {
   "cell_type": "markdown",
   "metadata": {},
   "source": [
    "### Top Level Definitions"
   ]
  },
  {
   "cell_type": "code",
   "execution_count": 2,
   "metadata": {
    "collapsed": false
   },
   "outputs": [
    {
     "data": {
      "text/plain": [
       "['number_of_qtl',\n",
       " 'qtl',\n",
       " 'distribution_parameters',\n",
       " 'allele_effects',\n",
       " 'heritability',\n",
       " 'allele_effect_distribution',\n",
       " 'multiplicity',\n",
       " 'epsilon']"
      ]
     },
     "execution_count": 2,
     "metadata": {},
     "output_type": "execute_result"
    }
   ],
   "source": [
    "trait_parameter_set = shelve.open('daoko_girl_trait_parameters')\n",
    "list(trait_parameter_set)"
   ]
  },
  {
   "cell_type": "code",
   "execution_count": 3,
   "metadata": {
    "collapsed": true
   },
   "outputs": [],
   "source": [
    "run_id = 'daoko_girl'\n",
    "trait_parameter_set = run_id + '_trait_parameters'\n",
    "analysis_parameter_set = run_id + '_analysis_parameters'"
   ]
  },
  {
   "cell_type": "code",
   "execution_count": 4,
   "metadata": {
    "collapsed": true
   },
   "outputs": [],
   "source": [
    "analysis_parameters = shelve.open(analysis_parameter_set)\n",
    "analysis_parameters['population_name'] = run_id\n",
    "analysis_parameters['scenario'] = 'random_mating'\n",
    "analysis_parameters['generations'] = 3\n",
    "analysis_parameters['run_identifier'] = run_id\n",
    "analysis_parameters['operating_population_size'] = 2000"
   ]
  },
  {
   "cell_type": "code",
   "execution_count": 5,
   "metadata": {
    "collapsed": true
   },
   "outputs": [],
   "source": [
    "trait = shelve.open(trait_parameter_set)\n",
    "trait['allele_effect_distribution'] = random.expovariate.__name__\n",
    "trait['distribution_parameters'] = 1\n",
    "trait['multiplicity'] = 3\n",
    "trait['heritability'] = 0.7"
   ]
  },
  {
   "cell_type": "markdown",
   "metadata": {},
   "source": [
    "### File Names"
   ]
  },
  {
   "cell_type": "code",
   "execution_count": 6,
   "metadata": {
    "collapsed": true
   },
   "outputs": [],
   "source": [
    "base_population_file_name = \"populations\\\\magic_1478.pop\"\n",
    "genetic_map_file_name = \"parameters\\\\genetic_map_1478.hdf\"\n",
    "allele_file_name = \"parameters\\\\alleles_at_1478_loci.hdf\""
   ]
  },
  {
   "cell_type": "markdown",
   "metadata": {},
   "source": [
    "### Genotype Data"
   ]
  },
  {
   "cell_type": "code",
   "execution_count": 7,
   "metadata": {
    "collapsed": true
   },
   "outputs": [],
   "source": [
    "genetic_map = pd.read_hdf(genetic_map_file_name)\n",
    "alleles = np.array(pd.read_hdf(allele_file_name))\n",
    "recombination_rates = np.array(list(genetic_map['recom_rate']))\n",
    "number_qt_loci = 10"
   ]
  },
  {
   "cell_type": "markdown",
   "metadata": {},
   "source": [
    "### Quantitative Trait"
   ]
  },
  {
   "cell_type": "code",
   "execution_count": 8,
   "metadata": {
    "collapsed": false
   },
   "outputs": [],
   "source": [
    "base_population = sim.loadPopulation(base_population_file_name)"
   ]
  },
  {
   "cell_type": "code",
   "execution_count": 9,
   "metadata": {
    "collapsed": false
   },
   "outputs": [],
   "source": [
    "base_population.setSubPopName(run_id, 0)"
   ]
  },
  {
   "cell_type": "markdown",
   "metadata": {},
   "source": [
    "### Create Analysis Population"
   ]
  },
  {
   "cell_type": "code",
   "execution_count": 10,
   "metadata": {
    "collapsed": true
   },
   "outputs": [],
   "source": [
    "sim.tagID(base_population, reset=False)"
   ]
  },
  {
   "cell_type": "code",
   "execution_count": 11,
   "metadata": {
    "collapsed": true
   },
   "outputs": [],
   "source": [
    "random_mater = breed.MAGIC(base_population, recombination_rates)"
   ]
  },
  {
   "cell_type": "code",
   "execution_count": 12,
   "metadata": {
    "collapsed": false
   },
   "outputs": [
    {
     "name": "stdout",
     "output_type": "stream",
     "text": [
      "Initiating interim random mating for 3 generations.\n",
      "Generation: 3\n",
      "Generation: 4\n",
      "Generation: 5\n"
     ]
    }
   ],
   "source": [
    "random_mater.interim_random_mating(analysis_parameters['generations']\n",
    "                                   ,analysis_parameters['operating_population_size'])"
   ]
  },
  {
   "cell_type": "code",
   "execution_count": 13,
   "metadata": {
    "collapsed": true
   },
   "outputs": [],
   "source": [
    "sim.stat(base_population, alleleFreq=sim.ALL_AVAIL)\n",
    "sim.stat(base_population, numOfSegSites=sim.ALL_AVAIL, vars=['segSites', 'numOfSegSites'])"
   ]
  },
  {
   "cell_type": "code",
   "execution_count": 14,
   "metadata": {
    "collapsed": false
   },
   "outputs": [],
   "source": [
    "qtl = sorted(random.sample(base_population.dvars().segSites, number_qt_loci))"
   ]
  },
  {
   "cell_type": "code",
   "execution_count": 15,
   "metadata": {
    "collapsed": true
   },
   "outputs": [],
   "source": [
    "additive_trait = parameters.Trait()"
   ]
  },
  {
   "cell_type": "code",
   "execution_count": 16,
   "metadata": {
    "collapsed": false
   },
   "outputs": [],
   "source": [
    "aes = additive_trait.assign_allele_effects(alleles, qtl, random.expovariate, 1, multiplicity=3)"
   ]
  },
  {
   "cell_type": "code",
   "execution_count": 17,
   "metadata": {
    "collapsed": false
   },
   "outputs": [
    {
     "data": {
      "text/plain": [
       "{42: {1: 1.393701239159606, 2: 3.184295015795534},\n",
       " 127: {1: 5.367228389288934, 3: 1.3078061708495794},\n",
       " 449: {1: 8.035747688940756, 3: 0.6976499336874429},\n",
       " 611: {0: 2.519242596821685, 2: 0.6305183368377753},\n",
       " 621: {1: 4.386457733737859, 3: 4.030080017077876},\n",
       " 705: {0: 2.556492893713342, 2: 2.4893106817937616},\n",
       " 714: {1: 2.09885237770004, 2: 4.887870521417468},\n",
       " 930: {1: 2.0592992333167435, 2: 3.567773234808219},\n",
       " 1018: {1: 3.0368174994984773, 3: 5.546120917748954},\n",
       " 1255: {1: 1.3620001555727523, 3: 0.9369738103146801}}"
      ]
     },
     "execution_count": 17,
     "metadata": {},
     "output_type": "execute_result"
    }
   ],
   "source": [
    "aes"
   ]
  },
  {
   "cell_type": "code",
   "execution_count": 27,
   "metadata": {
    "collapsed": true
   },
   "outputs": [],
   "source": [
    "heratability = 0.7"
   ]
  },
  {
   "cell_type": "code",
   "execution_count": null,
   "metadata": {
    "collapsed": true
   },
   "outputs": [],
   "source": [
    "operators.assign_additive_g(base_population, qtl, aes)"
   ]
  },
  {
   "cell_type": "code",
   "execution_count": 34,
   "metadata": {
    "collapsed": false
   },
   "outputs": [
    {
     "data": {
      "text/plain": [
       "<module 'saegus.parameters' from 'c:\\\\Anaconda3\\\\lib\\\\site-packages\\\\saegus\\\\parameters.py'>"
      ]
     },
     "execution_count": 34,
     "metadata": {},
     "output_type": "execute_result"
    }
   ],
   "source": []
  },
  {
   "cell_type": "code",
   "execution_count": 35,
   "metadata": {
    "collapsed": false
   },
   "outputs": [
    {
     "data": {
      "text/plain": [
       "[42, 127, 449, 611, 621, 705, 714, 930, 1018, 1255]"
      ]
     },
     "execution_count": 35,
     "metadata": {},
     "output_type": "execute_result"
    }
   ],
   "source": [
    "qtl"
   ]
  },
  {
   "cell_type": "code",
   "execution_count": null,
   "metadata": {
    "collapsed": true
   },
   "outputs": [],
   "source": []
  },
  {
   "cell_type": "code",
   "execution_count": 85,
   "metadata": {
    "collapsed": false
   },
   "outputs": [
    {
     "data": {
      "text/plain": [
       "<module 'saegus.parameters' from 'c:\\\\Anaconda3\\\\lib\\\\site-packages\\\\saegus\\\\parameters.py'>"
      ]
     },
     "execution_count": 85,
     "metadata": {},
     "output_type": "execute_result"
    }
   ],
   "source": [
    "import importlib as imp\n",
    "imp.reload(analyze)\n",
    "imp.reload(parameters)"
   ]
  },
  {
   "cell_type": "markdown",
   "metadata": {},
   "source": [
    "# Main Analysis Engine"
   ]
  },
  {
   "cell_type": "code",
   "execution_count": 86,
   "metadata": {
    "collapsed": false
   },
   "outputs": [],
   "source": [
    "segregating_loci, allele_effects_table = analyze.population_sample_analyzer(base_population, 200, qtl, \n",
    "                                                  alleles, aes, heratability)"
   ]
  },
  {
   "cell_type": "code",
   "execution_count": 89,
   "metadata": {
    "collapsed": false
   },
   "outputs": [
    {
     "data": {
      "text/html": [
       "<div>\n",
       "<table border=\"1\" class=\"dataframe\">\n",
       "  <thead>\n",
       "    <tr style=\"text-align: right;\">\n",
       "      <th></th>\n",
       "      <th>locus</th>\n",
       "      <th>alpha_allele</th>\n",
       "      <th>alpha_effect</th>\n",
       "      <th>beta_allele</th>\n",
       "      <th>beta_effect</th>\n",
       "    </tr>\n",
       "  </thead>\n",
       "  <tbody>\n",
       "    <tr>\n",
       "      <th>0</th>\n",
       "      <td>42</td>\n",
       "      <td>2</td>\n",
       "      <td>3.184295</td>\n",
       "      <td>1</td>\n",
       "      <td>1.393701</td>\n",
       "    </tr>\n",
       "    <tr>\n",
       "      <th>1</th>\n",
       "      <td>127</td>\n",
       "      <td>3</td>\n",
       "      <td>1.307806</td>\n",
       "      <td>1</td>\n",
       "      <td>5.367228</td>\n",
       "    </tr>\n",
       "    <tr>\n",
       "      <th>2</th>\n",
       "      <td>449</td>\n",
       "      <td>3</td>\n",
       "      <td>0.697650</td>\n",
       "      <td>1</td>\n",
       "      <td>8.035748</td>\n",
       "    </tr>\n",
       "    <tr>\n",
       "      <th>3</th>\n",
       "      <td>611</td>\n",
       "      <td>2</td>\n",
       "      <td>0.630518</td>\n",
       "      <td>0</td>\n",
       "      <td>2.519243</td>\n",
       "    </tr>\n",
       "    <tr>\n",
       "      <th>4</th>\n",
       "      <td>621</td>\n",
       "      <td>3</td>\n",
       "      <td>4.030080</td>\n",
       "      <td>1</td>\n",
       "      <td>4.386458</td>\n",
       "    </tr>\n",
       "    <tr>\n",
       "      <th>5</th>\n",
       "      <td>705</td>\n",
       "      <td>2</td>\n",
       "      <td>2.489311</td>\n",
       "      <td>0</td>\n",
       "      <td>2.556493</td>\n",
       "    </tr>\n",
       "    <tr>\n",
       "      <th>6</th>\n",
       "      <td>714</td>\n",
       "      <td>1</td>\n",
       "      <td>2.098852</td>\n",
       "      <td>2</td>\n",
       "      <td>4.887871</td>\n",
       "    </tr>\n",
       "    <tr>\n",
       "      <th>7</th>\n",
       "      <td>930</td>\n",
       "      <td>2</td>\n",
       "      <td>3.567773</td>\n",
       "      <td>1</td>\n",
       "      <td>2.059299</td>\n",
       "    </tr>\n",
       "    <tr>\n",
       "      <th>8</th>\n",
       "      <td>1018</td>\n",
       "      <td>3</td>\n",
       "      <td>5.546121</td>\n",
       "      <td>1</td>\n",
       "      <td>3.036817</td>\n",
       "    </tr>\n",
       "    <tr>\n",
       "      <th>9</th>\n",
       "      <td>1255</td>\n",
       "      <td>1</td>\n",
       "      <td>1.362000</td>\n",
       "      <td>3</td>\n",
       "      <td>0.936974</td>\n",
       "    </tr>\n",
       "  </tbody>\n",
       "</table>\n",
       "</div>"
      ],
      "text/plain": [
       "   locus  alpha_allele  alpha_effect  beta_allele  beta_effect\n",
       "0     42             2      3.184295            1     1.393701\n",
       "1    127             3      1.307806            1     5.367228\n",
       "2    449             3      0.697650            1     8.035748\n",
       "3    611             2      0.630518            0     2.519243\n",
       "4    621             3      4.030080            1     4.386458\n",
       "5    705             2      2.489311            0     2.556493\n",
       "6    714             1      2.098852            2     4.887871\n",
       "7    930             2      3.567773            1     2.059299\n",
       "8   1018             3      5.546121            1     3.036817\n",
       "9   1255             1      1.362000            3     0.936974"
      ]
     },
     "execution_count": 89,
     "metadata": {},
     "output_type": "execute_result"
    }
   ],
   "source": [
    "allele_effects_table"
   ]
  },
  {
   "cell_type": "code",
   "execution_count": 90,
   "metadata": {
    "collapsed": false
   },
   "outputs": [],
   "source": [
    "expanded_ae_table = analyze.remap_ae_table_loci(allele_effects_table, saegus_to_tassel_loci)"
   ]
  },
  {
   "cell_type": "code",
   "execution_count": null,
   "metadata": {
    "collapsed": false
   },
   "outputs": [],
   "source": [
    "#synthesis_parameters['founders'] = simulation_parameters['founders']\n",
    "#synthesis_parameters['operating_population_size'] = 2000\n",
    "#synthesis_parameters['snp_to_integer'] = simulation_parameters['snp_to_integer']\n",
    "#synthesis_parameters['integer_to_snp'] = simulation_parameters['integer_to_snp']\n",
    "#synthesis_parameters['prefounder_file_name'] = 'prefounders_1478.pop'\n",
    "#synthesis_parameters['mating_scheme'] = 'MAGIC'"
   ]
  },
  {
   "cell_type": "code",
   "execution_count": 37,
   "metadata": {
    "collapsed": false
   },
   "outputs": [],
   "source": [
    "saegus_to_tassel_loci = {}\n",
    "tassel_to_saegus_loci = {}\n",
    "for idx, locus in enumerate(segregating_loci):\n",
    "    saegus_to_tassel_loci[locus] = idx\n",
    "    tassel_to_saegus_loci[idx] = locus"
   ]
  },
  {
   "cell_type": "code",
   "execution_count": null,
   "metadata": {
    "collapsed": false
   },
   "outputs": [],
   "source": [
    "segregating_frqs = [base_population.dvars().alleleFreq[seg_loc] for seg_loc in segregating_loci]"
   ]
  },
  {
   "cell_type": "code",
   "execution_count": null,
   "metadata": {
    "collapsed": false
   },
   "outputs": [],
   "source": [
    "aeframe.to_hdf(indir+'daoko_girl_allele_effects_table.hdf', 'aeframe')"
   ]
  },
  {
   "cell_type": "code",
   "execution_count": null,
   "metadata": {
    "collapsed": false
   },
   "outputs": [],
   "source": [
    "analysis_parameters['sample_size'] = 100\n",
    "rm_sample = sim.sampling.drawRandomSample(base_population, sizes=analysis_parameters['sample_size'])\n",
    "analysis_parameters['sampled_ind_ids'] = list(rm_sample.indInfo('ind_id'))"
   ]
  },
  {
   "cell_type": "code",
   "execution_count": null,
   "metadata": {
    "collapsed": false
   },
   "outputs": [],
   "source": [
    "sim.stat(rm_sample, numOfSegSites=sim.ALL_AVAIL, vars=['segSites'])\n",
    "sim.stat(rm_sample, alleleFreq=sim.ALL_AVAIL)"
   ]
  },
  {
   "cell_type": "code",
   "execution_count": null,
   "metadata": {
    "collapsed": true
   },
   "outputs": [],
   "source": [
    "rm_sample.dvars()"
   ]
  },
  {
   "cell_type": "code",
   "execution_count": null,
   "metadata": {
    "collapsed": false
   },
   "outputs": [],
   "source": [
    "analysis_parameters['sample_segregating_loci'] = rm_sample.dvars().segSites\n",
    "analysis_parameters['sample_allele_frequencies'] = dict(rm_sample.dvars().alleleFreq)\n",
    "analysis_parameters['saegus_to_tassel_loci'] = saegus_to_tassel_loci\n",
    "analysis_parameters['tassel_to_saegus_loci'] = tassel_to_saegus_loci"
   ]
  },
  {
   "cell_type": "code",
   "execution_count": null,
   "metadata": {
    "collapsed": true
   },
   "outputs": [],
   "source": [
    "analysis_parameters.close()"
   ]
  },
  {
   "cell_type": "code",
   "execution_count": null,
   "metadata": {
    "collapsed": false
   },
   "outputs": [],
   "source": [
    "import importlib as imp\n",
    "imp.reload(analyze)"
   ]
  },
  {
   "cell_type": "code",
   "execution_count": null,
   "metadata": {
    "collapsed": false
   },
   "outputs": [],
   "source": [
    "gwas.generate_tassel_gwas_configs(\"C:\\\\tassel\\\\bin\\\\daoko_girl_\", \n",
    "                                     \"C:\\\\tassel\\\\input\\\\daoko_girl_\",\n",
    "                                    \"C:\\\\tassel\\\\output\\\\daoko_girl_\",\n",
    "                                    \"C:\\\\Users\\DoubleDanks\\\\BISB\\\\wisser\\\\code\\\\rjwlab-scripts\\\\saegus_project\\\\devel\\\\magic\\\\1478\\\\daoko_girl_gwas_pipeline.xml\")"
   ]
  },
  {
   "cell_type": "code",
   "execution_count": null,
   "metadata": {
    "collapsed": true
   },
   "outputs": [],
   "source": []
  },
  {
   "cell_type": "code",
   "execution_count": null,
   "metadata": {
    "collapsed": true
   },
   "outputs": [],
   "source": []
  }
 ],
 "metadata": {
  "kernelspec": {
   "display_name": "Python 3",
   "language": "python",
   "name": "python3"
  },
  "language_info": {
   "codemirror_mode": {
    "name": "ipython",
    "version": 3
   },
   "file_extension": ".py",
   "mimetype": "text/x-python",
   "name": "python",
   "nbconvert_exporter": "python",
   "pygments_lexer": "ipython3",
   "version": "3.4.4"
  }
 },
 "nbformat": 4,
 "nbformat_minor": 0
}
