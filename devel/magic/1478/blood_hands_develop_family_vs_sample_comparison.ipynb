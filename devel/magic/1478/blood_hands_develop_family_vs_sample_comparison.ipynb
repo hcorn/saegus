{
 "cells": [
  {
   "cell_type": "code",
   "execution_count": null,
   "metadata": {
    "collapsed": true
   },
   "outputs": [],
   "source": [
    "import simuOpt\n",
    "simuOpt.setOptions(alleleType='short', optimized=True, numThreads=4, quiet=True)\n",
    "import simuPOP as sim\n",
    "import pandas as pd\n",
    "from saegus import breed, operators, simulate, analyze, parse, parameters\n",
    "import shelve\n",
    "import numpy as np\n",
    "import xml.etree.ElementTree as ET\n",
    "import lxml.etree as etree\n",
    "import random\n",
    "np.set_printoptions(suppress=True, precision=3)"
   ]
  },
  {
   "cell_type": "code",
   "execution_count": null,
   "metadata": {
    "collapsed": false
   },
   "outputs": [],
   "source": [
    "prefounders = sim.loadPopulation('prefounders1478.pop')\n",
    "multi_prefounders = sim.Simulator(prefounders, 10, stealPops=False)\n",
    "founders = [[1, 2], [3, 4], [5, 6], [7, 8]]\n",
    "os_per_pair = 500\n",
    "magic = breed.MAGIC(multi_prefounders, [0.01]*1478)\n",
    "sim.tagID(prefounders, reset=27)\n",
    "magic.generate_f_one(founders, os_per_pair)\n",
    "mrc = breed.MultiRandomCross(multi_prefounders, 4, 500)\n",
    "mother_choices, father_choices = mrc.determine_random_cross()\n",
    "multi_snd_ord_chooser = breed.MultiSecondOrderPairIDChooser(mother_choices, father_choices)\n",
    "multi_prefounders.evolve(\n",
    "    matingScheme=sim.HomoMating(\n",
    "        sim.PyParentsChooser(multi_snd_ord_chooser.snd_ord_id_pairs),\n",
    "        sim.OffspringGenerator(ops=[\n",
    "            sim.IdTagger(),\n",
    "            sim.PedigreeTagger(),\n",
    "            sim.Recombinator(rates=0.01)\n",
    "        ],\n",
    "            numOffspring=1),\n",
    "        subPopSize=[2000],\n",
    "    ),\n",
    "    gen=1,\n",
    ")"
   ]
  },
  {
   "cell_type": "raw",
   "metadata": {
    "collapsed": false
   },
   "source": [
    "if new_founders % 2 == 0:\n",
    "    new_founders /= 2\n",
    "    print(new_founders)\n",
    "elif new_founders % 2 != 0:\n",
    "    new_founders += 1\n",
    "    new_founders /= 2\n",
    "    print(new_founders)"
   ]
  },
  {
   "cell_type": "code",
   "execution_count": null,
   "metadata": {
    "collapsed": true
   },
   "outputs": [],
   "source": [
    "final_mrc = breed.MultiRandomCross(multi_prefounders, 2, 1000)\n",
    "final_mothers, final_fathers = final_mrc.determine_random_cross()\n",
    "final_multi_snd_ord_chooser = breed.MultiSecondOrderPairIDChooser(final_mothers, final_fathers)\n",
    "multi_prefounders.evolve(\n",
    "    matingScheme=sim.HomoMating(\n",
    "        sim.PyParentsChooser(final_multi_snd_ord_chooser.snd_ord_id_pairs),\n",
    "        sim.OffspringGenerator(ops=[\n",
    "            sim.IdTagger(),\n",
    "            sim.PedigreeTagger(),\n",
    "            sim.Recombinator(rates=0.01)\n",
    "        ],\n",
    "            numOffspring=1),\n",
    "        subPopSize=[2000],\n",
    "    ),\n",
    "    gen=1,\n",
    ")\n",
    "mater = breed.MAGIC(multi_prefounders, [0.01]*1478)"
   ]
  },
  {
   "cell_type": "code",
   "execution_count": null,
   "metadata": {
    "collapsed": false
   },
   "outputs": [],
   "source": [
    "mater.random_mating(3, 2000)"
   ]
  },
  {
   "cell_type": "code",
   "execution_count": null,
   "metadata": {
    "collapsed": true
   },
   "outputs": [],
   "source": [
    "sample_sizes = [100, 200, 300]"
   ]
  },
  {
   "cell_type": "code",
   "execution_count": null,
   "metadata": {
    "collapsed": true
   },
   "outputs": [],
   "source": [
    "run_id = 'blood_hands'"
   ]
  },
  {
   "cell_type": "code",
   "execution_count": null,
   "metadata": {
    "collapsed": true
   },
   "outputs": [],
   "source": [
    "def collect_samples(replicate_populations, sample_sizes, run_id):\n",
    "    \"\"\"\n",
    "    Testing for concordance of segregating loci among samples requires that\n",
    "    the samples be gathered in advance. Collects samples from replicate_populations\n",
    "\n",
    "    :param replicate_populations: Multi-replicate population to analyze\n",
    "    :param sample_sizes: Size of sample to gather.\n",
    "\n",
    "    :note: :py:func:`len(sample_sizez)` == number of samples gathered from each replicate.\n",
    "\n",
    "    :param str run_id: Identifier\n",
    "    :return: List of populations\n",
    "    \"\"\"\n",
    "    sample_library = {}\n",
    "    for rep in replicate_populations.populations():\n",
    "        sample_library[rep.dvars().rep] = [sim.sampling.drawRandomSample(rep, sizes=sample_size) for sample_size in sample_sizes]\n",
    "    return sample_library"
   ]
  },
  {
   "cell_type": "code",
   "execution_count": null,
   "metadata": {
    "collapsed": false
   },
   "outputs": [],
   "source": [
    "samples = collect_samples(multi_prefounders, sample_sizes, run_id)"
   ]
  },
  {
   "cell_type": "code",
   "execution_count": null,
   "metadata": {
    "collapsed": false
   },
   "outputs": [],
   "source": [
    "samples"
   ]
  },
  {
   "cell_type": "code",
   "execution_count": null,
   "metadata": {
    "collapsed": true
   },
   "outputs": [],
   "source": [
    "alleles = np.array(pd.read_hdf('parameters\\\\alleles_at_1478_loci.hdf'))"
   ]
  },
  {
   "cell_type": "code",
   "execution_count": null,
   "metadata": {
    "collapsed": true
   },
   "outputs": [],
   "source": [
    "def multi_sample_allele_frq_storage(library_of_samples, alleles, run_id='hdenies'):\n",
    "\n",
    "    hdf_store = pd.HDFStore(run_id + '_library_storage.h5')\n",
    "\n",
    "    for rep_id, samples in library_of_samples.items():\n",
    "        for sample in samples:\n",
    "            af = analyze.allele_data(sample, alleles,\n",
    "                                 range(sample.totNumLoci()))\n",
    "\n",
    "            name = run_id + '/' + str(rep_id) + '/' + str(sample.popSize())\n",
    "\n",
    "            hdf_store.put(name, af)\n",
    "    hdf_store.close()"
   ]
  },
  {
   "cell_type": "code",
   "execution_count": null,
   "metadata": {
    "collapsed": false
   },
   "outputs": [],
   "source": [
    "multi_sample_allele_frq_storage(samples, alleles, run_id=run_id)"
   ]
  },
  {
   "cell_type": "code",
   "execution_count": null,
   "metadata": {
    "collapsed": true
   },
   "outputs": [],
   "source": [
    "def seg_from_sample_lib(sample_library):\n",
    "    for rep in sample_library.values():\n",
    "        for sample in rep:\n",
    "            sim.stat(sample, numOfSegSites=sim.ALL_AVAIL, vars=['segSites', 'numOfSegSites'])\n",
    "    seg_of_samples = (tuple(sample.dvars().segSites) for rep in sample_library.values() for sample in rep)\n",
    "    segregating_loci_counts = col.Counter(seg_of_samples)\n",
    "    return segregating_loci_counts"
   ]
  },
  {
   "cell_type": "code",
   "execution_count": null,
   "metadata": {
    "collapsed": false
   },
   "outputs": [],
   "source": [
    "seg_loci_of_samples = seg_from_sample_lib(samples)"
   ]
  },
  {
   "cell_type": "code",
   "execution_count": null,
   "metadata": {
    "collapsed": false
   },
   "outputs": [],
   "source": [
    "set(seg_loci_of_samples.keys())"
   ]
  },
  {
   "cell_type": "code",
   "execution_count": null,
   "metadata": {
    "collapsed": true
   },
   "outputs": [],
   "source": [
    " "
   ]
  },
  {
   "cell_type": "code",
   "execution_count": null,
   "metadata": {
    "collapsed": true
   },
   "outputs": [],
   "source": [
    "def count_qtl_concordance(array_of_seg_loci, qtl):\n",
    "    qtl_agreement_counts = col.defaultdict(int, default=0)\n",
    "    for i, row in enumerate(array_of_seg_loci):\n",
    "        for locus in qtl:\n",
    "            if locus in row:\n",
    "                qtl_agreement_counts[i] += 1\n",
    "    return qtl_agreement_counts\n",
    "\n",
    "def test_qtl_concordance(agreement_counts, qtl):\n",
    "    qtl_concordance = True\n",
    "    for k, v in agreement_counts.items():\n",
    "        if v != len(qtl) and k != 'default':\n",
    "            qtl_concordance = False\n",
    "            print(\"Disagrement of QTL at sample {}\".format(k))\n",
    "    return qtl_concordance\n",
    "\n",
    "def count_segregating_site_concordance(replicate_):\n",
    "    segregating_loci_concordance_counts = col.defaultdict(int, default=0)\n",
    "    for row in array_of_seg_loci:\n",
    "        segregating_loci_concordance_counts[tuple(row)] += 1\n",
    "    return segregating_loci_concordance_counts\n",
    "\n",
    "def test_segregatng_loci_concordance(seg_loci_agreement_counts):\n",
    "    seg_loci_agreement = True\n",
    "    if len(seg_loci_agreement_counts) > 2:\n",
    "        seg_loci_agreement = False\n",
    "    return seg_loci_agreement"
   ]
  },
  {
   "cell_type": "code",
   "execution_count": null,
   "metadata": {
    "collapsed": false
   },
   "outputs": [],
   "source": [
    "seg_loci_concordance_counts = ()\n",
    "for row in seg_of_samples:\n",
    "    seg_loci_concordance_counts.append(tuple(row))"
   ]
  },
  {
   "cell_type": "code",
   "execution_count": null,
   "metadata": {
    "collapsed": true
   },
   "outputs": [],
   "source": [
    "for rep in multi_prefounders.populations():\n",
    "    sim.stat(rep, numOfSegSites=sim.ALL_AVAIL, vars=['segSites', 'numOfSegSites'])"
   ]
  },
  {
   "cell_type": "code",
   "execution_count": null,
   "metadata": {
    "collapsed": true
   },
   "outputs": [],
   "source": [
    "seg_loci = (tuple(rep.dvars().segSites) for rep in multi_prefounders.populations())"
   ]
  },
  {
   "cell_type": "code",
   "execution_count": null,
   "metadata": {
    "collapsed": false
   },
   "outputs": [],
   "source": [
    "repr_seg_loci = next(seg_loci)"
   ]
  },
  {
   "cell_type": "code",
   "execution_count": null,
   "metadata": {
    "collapsed": true
   },
   "outputs": [],
   "source": [
    "import sys"
   ]
  },
  {
   "cell_type": "code",
   "execution_count": null,
   "metadata": {
    "collapsed": true
   },
   "outputs": [],
   "source": [
    "import collections as col"
   ]
  },
  {
   "cell_type": "code",
   "execution_count": null,
   "metadata": {
    "collapsed": false
   },
   "outputs": [],
   "source": [
    "test_segregatng_loci_concordance(seg_loc_counts)"
   ]
  },
  {
   "cell_type": "code",
   "execution_count": null,
   "metadata": {
    "collapsed": true
   },
   "outputs": [],
   "source": [
    "class Study(object):\n",
    "    def __init__(self, run_id):\n",
    "        self._run_id = run_id\n",
    "        self._concordance = None\n",
    "        \n",
    "    @property\n",
    "     # the x property. the decorator creates a read-only property\n",
    "    def concordance(self):\n",
    "        return self._concordance\n",
    "\n",
    "    @concordance.setter\n",
    "    # the x property setter makes the property writeable\n",
    "    def concordance(self, value):\n",
    "        self._concordance = value\n",
    "\n",
    "    @concordance.deleter\n",
    "    def concordance(self):\n",
    "        del self._concordance"
   ]
  },
  {
   "cell_type": "code",
   "execution_count": null,
   "metadata": {
    "collapsed": true
   },
   "outputs": [],
   "source": [
    "stdy = Study('blood_hands')"
   ]
  },
  {
   "cell_type": "code",
   "execution_count": null,
   "metadata": {
    "collapsed": true
   },
   "outputs": [],
   "source": [
    "stdy.concordance = True"
   ]
  },
  {
   "cell_type": "code",
   "execution_count": null,
   "metadata": {
    "collapsed": false
   },
   "outputs": [],
   "source": [
    "stdy.concordance"
   ]
  },
  {
   "cell_type": "code",
   "execution_count": null,
   "metadata": {
    "collapsed": true
   },
   "outputs": [],
   "source": [
    "seg_loci_of_samples = np.zeros((50, 866, 3), dtype=np.int32)\n",
    "segarray = np.array(seg_loci_of_samples)"
   ]
  },
  {
   "cell_type": "code",
   "execution_count": null,
   "metadata": {
    "collapsed": true
   },
   "outputs": [],
   "source": [
    "test_pop = samples[0][0]"
   ]
  },
  {
   "cell_type": "code",
   "execution_count": null,
   "metadata": {
    "collapsed": true
   },
   "outputs": [],
   "source": [
    "def q_assign_qtl():\n",
    "    sim.stat(test_pop, numOfSegSites=sim.ALL_AVAIL, vars=['segSites', 'numOfSegSites'])\n",
    "    eligible = test_pop.dvars().segSites\n",
    "    number_qtl = 10\n",
    "    qtl = sorted(random.sample(eligible, number_qtl))\n",
    "    qtl = [int(locus) for locus in qtl]\n",
    "    return qtl"
   ]
  },
  {
   "cell_type": "code",
   "execution_count": null,
   "metadata": {
    "collapsed": false
   },
   "outputs": [],
   "source": [
    "qtl = q_assign_qtl()"
   ]
  },
  {
   "cell_type": "code",
   "execution_count": null,
   "metadata": {
    "collapsed": false
   },
   "outputs": [],
   "source": [
    "qtl"
   ]
  },
  {
   "cell_type": "code",
   "execution_count": null,
   "metadata": {
    "collapsed": false
   },
   "outputs": [],
   "source": [
    "add_trait = parameters.Trait()\n",
    "allele_effects = add_trait.assign_allele_effects(alleles, qtl, random.expovariate, 1, multiplicity=3)"
   ]
  },
  {
   "cell_type": "code",
   "execution_count": null,
   "metadata": {
    "collapsed": false
   },
   "outputs": [],
   "source": [
    "allele_effects"
   ]
  },
  {
   "cell_type": "code",
   "execution_count": null,
   "metadata": {
    "collapsed": false
   },
   "outputs": [],
   "source": [
    "test_pop = samples[0][0]"
   ]
  },
  {
   "cell_type": "markdown",
   "metadata": {},
   "source": [
    "## Create Family Means to Sub Into Individual Values"
   ]
  },
  {
   "cell_type": "code",
   "execution_count": null,
   "metadata": {
    "collapsed": false
   },
   "outputs": [],
   "source": [
    "def create_top_crosses(existing_pop, offspring_per_individual):\n",
    "    new_pop_size = offspring_per_individual * existing_pop.popSize()\n",
    "    \n",
    "    existing_pop.evolve(\n",
    "        matingScheme=sim.SelfMating(replacement=False, numOffspring=offspring_per_individual, subPopSize=new_pop_size,\n",
    "                                   ops=[\n",
    "                        sim.IdTagger(),\n",
    "                        sim.PedigreeTagger(),\n",
    "                        sim.Recombinator(rates=0.01)],),\n",
    "        gen=1,\n",
    "    )"
   ]
  },
  {
   "cell_type": "code",
   "execution_count": null,
   "metadata": {
    "collapsed": false
   },
   "outputs": [],
   "source": [
    "def calculate_family_means(top_crossed_pop, individuals_per_family, qtl, allele_effects):\n",
    "    if top_crossed_pop.numSubPop() > 1:\n",
    "        top_crossed_pop.mergeSubPops()\n",
    "    number_of_families = int(top_crossed_pop.popSize() / individuals_per_family)\n",
    "    top_crossed_pop.splitSubPop(0, size=[individuals_per_family]*number_of_families)\n",
    "    operators.assign_additive_g(test_pop, qtl, allele_effects)\n",
    "    sim.stat(test_pop, meanOfInfo='g', vars=['meanOfInfo_sp', 'meanOfInfo'])\n",
    "    family_mean_g = np.array([top_crossed_pop.dvars(sp).meanOfInfo['g'] \n",
    "                             for sp in range(top_crossed_pop.numSubPop())])\n",
    "    return family_mean_g\n",
    "\n",
    "def calculate_family_error_variance(top_crossed_pop, family_mean_g_values, heritability):\n",
    "    variance_of_family_g = np.var(family_mean_g_values)\n",
    "    family_epsilon = variance_of_family_g * (1/heritability - heritability)\n",
    "    top_crossed_pop.dvars().family_epsilon = family_epsilon\n",
    "    \n",
    "def calculate_family_p(top_crossed_pop, family_mean_g_values):\n",
    "    family_mean_p_values = np.zeros((top_crossed_pop.popSize()))\n",
    "    for mean_g_value, mean_p_value in zip(family_mean_g_values, family_mean_p_values):\n",
    "        mean_p_value = mean_g_value + random.normalvariate(0, top_crossed_pop.dvars().family_epsilon)\n",
    "    return family_mean_p_values"
   ]
  },
  {
   "cell_type": "code",
   "execution_count": null,
   "metadata": {
    "collapsed": true
   },
   "outputs": [],
   "source": [
    "def modify_existing_phenotypes(existing_phenotype_file, modded_values, modified_phenotype_file):\n",
    "    existing_phenotypes = np.array(pd.read_csv(existing_phenotype_file, sep='\\t'))\n",
    "    modified_phenotypes = np.array(existing_phenotypes)\n",
    "    modified_phenotypes[:, 1] = modded_values\n",
    "    modified_pheno_output = pd.DataFrame(modified_phenotypes)\n",
    "    header = \"<Trait>\\tsim\\n\"    \n",
    "    with open(modified_phenotype_file, 'w') as mod_pheno_file:\n",
    "        mod_pheno_file.write(header)\n",
    "        modified_pheno_output.to_csv(mod_pheno_file, sep='\\t', index=False, header=False)"
   ]
  },
  {
   "cell_type": "code",
   "execution_count": null,
   "metadata": {
    "collapsed": true
   },
   "outputs": [],
   "source": [
    "def modify_gwas_config(rep_id, sample_size, new_run_id,\n",
    "                                      new_phenotype_file_name,\n",
    "                                      new_output_file_prefix,\n",
    "                                      existing_config_file):\n",
    "\n",
    "\n",
    "\n",
    "    tree = ET.parse(existing_config_file)\n",
    "    root = tree.getroot()\n",
    "    lxml_tree = etree.fromstring(ET.tostring(root))\n",
    "    lxml_root = lxml_tree.getroottree()\n",
    "\n",
    "    lxml_root.find('fork2/t').text = new_phenotype_file_name\n",
    "    lxml_root.find('combine6/export').text = new_output_file_prefix\n",
    "\n",
    "    lxml_root.write(\"C:\\\\tassel\\\\bin\\\\\" + 'R' + rep_id + '_' + str(\n",
    "        sample_size) + '_' + new_run_id + '_' + \"_sim_gwas_pipeline.xml\",\n",
    "                    encoding=\"UTF-8\",\n",
    "                    method=\"xml\", xml_declaration=True, standalone='',\n",
    "                    pretty_print=True)\n"
   ]
  },
  {
   "cell_type": "code",
   "execution_count": null,
   "metadata": {
    "collapsed": false
   },
   "outputs": [],
   "source": [
    "test_pop.popSize()"
   ]
  },
  {
   "cell_type": "code",
   "execution_count": null,
   "metadata": {
    "collapsed": false
   },
   "outputs": [],
   "source": [
    "test_pop.numSubPop()"
   ]
  },
  {
   "cell_type": "code",
   "execution_count": null,
   "metadata": {
    "collapsed": false
   },
   "outputs": [],
   "source": [
    "test_pop.indInfo('ind_id')"
   ]
  },
  {
   "cell_type": "code",
   "execution_count": null,
   "metadata": {
    "collapsed": false
   },
   "outputs": [],
   "source": [
    "test_pop.indInfo('father_id')"
   ]
  },
  {
   "cell_type": "code",
   "execution_count": null,
   "metadata": {
    "collapsed": false
   },
   "outputs": [],
   "source": [
    "test_pop.indInfo('g')"
   ]
  },
  {
   "cell_type": "code",
   "execution_count": null,
   "metadata": {
    "collapsed": false
   },
   "outputs": [],
   "source": [
    "operators.assign_additive_g(test_pop, qtl, allele_effects)"
   ]
  },
  {
   "cell_type": "code",
   "execution_count": null,
   "metadata": {
    "collapsed": false
   },
   "outputs": [],
   "source": [
    "test_pop.indInfo('g')"
   ]
  },
  {
   "cell_type": "code",
   "execution_count": null,
   "metadata": {
    "collapsed": false
   },
   "outputs": [],
   "source": [
    "test_pop.indInfo('ind_id')"
   ]
  },
  {
   "cell_type": "code",
   "execution_count": null,
   "metadata": {
    "collapsed": false
   },
   "outputs": [],
   "source": [
    "test_pop.setSubPopByIndInfo('father_id')"
   ]
  },
  {
   "cell_type": "code",
   "execution_count": null,
   "metadata": {
    "collapsed": false
   },
   "outputs": [],
   "source": [
    "test_pop.mergeSubPops()"
   ]
  },
  {
   "cell_type": "code",
   "execution_count": null,
   "metadata": {
    "collapsed": false
   },
   "outputs": [],
   "source": [
    "test_pop.popSize()"
   ]
  },
  {
   "cell_type": "code",
   "execution_count": null,
   "metadata": {
    "collapsed": false
   },
   "outputs": [],
   "source": [
    "col.Counter(test_pop.indInfo('father_id'))"
   ]
  },
  {
   "cell_type": "code",
   "execution_count": null,
   "metadata": {
    "collapsed": true
   },
   "outputs": [],
   "source": [
    "ind_ids = list(test_pop.indInfo('ind_id'))"
   ]
  },
  {
   "cell_type": "code",
   "execution_count": null,
   "metadata": {
    "collapsed": false
   },
   "outputs": [],
   "source": [
    "test_pop.splitSubPop(0, sizes=[10]*100)"
   ]
  },
  {
   "cell_type": "code",
   "execution_count": null,
   "metadata": {
    "collapsed": false
   },
   "outputs": [],
   "source": [
    "for inds in test_pop.individuals(0):\n",
    "    print(inds.father_id)"
   ]
  },
  {
   "cell_type": "code",
   "execution_count": null,
   "metadata": {
    "collapsed": false
   },
   "outputs": [],
   "source": [
    "sim.stat(test_pop, meanOfInfo='g', vars=['meanOfInfo_sp', 'meanOfInfo'])"
   ]
  },
  {
   "cell_type": "code",
   "execution_count": null,
   "metadata": {
    "collapsed": false
   },
   "outputs": [],
   "source": [
    "for x in range(10):\n",
    "    print(test_pop.dvars(x).meanOfInfo['g'])"
   ]
  },
  {
   "cell_type": "code",
   "execution_count": null,
   "metadata": {
    "collapsed": false
   },
   "outputs": [],
   "source": [
    "test_pop.indInfo('father_id')"
   ]
  },
  {
   "cell_type": "code",
   "execution_count": null,
   "metadata": {
    "collapsed": true
   },
   "outputs": [],
   "source": []
  },
  {
   "cell_type": "code",
   "execution_count": null,
   "metadata": {
    "collapsed": true
   },
   "outputs": [],
   "source": []
  },
  {
   "cell_type": "code",
   "execution_count": 1,
   "metadata": {
    "collapsed": false
   },
   "outputs": [
    {
     "data": {
      "text/plain": [
       "'C:\\\\Users\\\\DoubleDanks\\\\BISB\\\\wisser\\\\code\\\\rjwlab-scripts\\\\saegus_project\\\\devel\\\\magic\\\\1478'"
      ]
     },
     "execution_count": 1,
     "metadata": {},
     "output_type": "execute_result"
    }
   ],
   "source": [
    "pwd"
   ]
  },
  {
   "cell_type": "code",
   "execution_count": 3,
   "metadata": {
    "collapsed": true
   },
   "outputs": [],
   "source": [
    "import pandas as pd"
   ]
  },
  {
   "cell_type": "code",
   "execution_count": 9,
   "metadata": {
    "collapsed": false
   },
   "outputs": [],
   "source": [
    "results = pd.read_csv('heaven_denies_power_fpr_results.txt', sep='\\t', index_col=0)"
   ]
  },
  {
   "cell_type": "code",
   "execution_count": 12,
   "metadata": {
    "collapsed": false
   },
   "outputs": [
    {
     "data": {
      "text/plain": [
       "power_100     0.000000\n",
       "fpr_100       0.000000\n",
       "power_250     0.042164\n",
       "fpr_250       0.000000\n",
       "power_500     0.048305\n",
       "fpr_500       0.000493\n",
       "power_750     0.097183\n",
       "fpr_750       0.000000\n",
       "power_1000    0.051640\n",
       "fpr_1000      0.000000\n",
       "power_1250    0.091894\n",
       "fpr_1250      0.000493\n",
       "dtype: float64"
      ]
     },
     "execution_count": 12,
     "metadata": {},
     "output_type": "execute_result"
    }
   ],
   "source": [
    "results.std()"
   ]
  },
  {
   "cell_type": "code",
   "execution_count": 15,
   "metadata": {
    "collapsed": false
   },
   "outputs": [],
   "source": [
    "mean_stdev = pd.DataFrame([results.mean(), results.std()], index=['mean', 'stdev']).T"
   ]
  },
  {
   "cell_type": "code",
   "execution_count": 17,
   "metadata": {
    "collapsed": false
   },
   "outputs": [],
   "source": [
    "mean_stdev.to_csv('heaven_denies_power_fpr_mean_stdev.txt', sep='\\t', index=False)"
   ]
  },
  {
   "cell_type": "code",
   "execution_count": 18,
   "metadata": {
    "collapsed": true
   },
   "outputs": [],
   "source": [
    "import shelve"
   ]
  },
  {
   "cell_type": "code",
   "execution_count": 19,
   "metadata": {
    "collapsed": true
   },
   "outputs": [],
   "source": [
    "hd = shelve.open('allele_effects_storage')"
   ]
  },
  {
   "cell_type": "code",
   "execution_count": 20,
   "metadata": {
    "collapsed": false
   },
   "outputs": [
    {
     "data": {
      "text/plain": [
       "['caramon', 'beneath_these_waves', 'demonstration', 'heaven_denies']"
      ]
     },
     "execution_count": 20,
     "metadata": {},
     "output_type": "execute_result"
    }
   ],
   "source": [
    "list(hd)"
   ]
  },
  {
   "cell_type": "code",
   "execution_count": 22,
   "metadata": {
    "collapsed": false
   },
   "outputs": [
    {
     "data": {
      "text/plain": [
       "{189: {0: 4.284828888625308, 2: 0.7212546695504344},\n",
       " 290: {2: 1.3862139007220504, 3: 2.642455160538799},\n",
       " 589: {1: 4.787695340673567, 3: 1.3637443274662537},\n",
       " 669: {0: 2.2468016374773283, 1: 2.881396308559403},\n",
       " 806: {2: 3.742542881729241, 3: 0.6626878213492292},\n",
       " 1036: {0: 4.291797716058894, 2: 1.8636809000550545},\n",
       " 1060: {4: 2.410924219536518, 5: 2.775896119356275},\n",
       " 1112: {1: 2.4660958755387257, 3: 2.591612800685531},\n",
       " 1225: {4: 2.6238242991767544, 5: 3.8379486805851597},\n",
       " 1446: {1: 1.6280833274073379, 3: 3.740474580390268}}"
      ]
     },
     "execution_count": 22,
     "metadata": {},
     "output_type": "execute_result"
    }
   ],
   "source": [
    "hd['heaven_denies']"
   ]
  },
  {
   "cell_type": "code",
   "execution_count": null,
   "metadata": {
    "collapsed": true
   },
   "outputs": [],
   "source": []
  }
 ],
 "metadata": {
  "kernelspec": {
   "display_name": "Python 3",
   "language": "python",
   "name": "python3"
  },
  "language_info": {
   "codemirror_mode": {
    "name": "ipython",
    "version": 3
   },
   "file_extension": ".py",
   "mimetype": "text/x-python",
   "name": "python",
   "nbconvert_exporter": "python",
   "pygments_lexer": "ipython3",
   "version": "3.4.4"
  }
 },
 "nbformat": 4,
 "nbformat_minor": 0
}
