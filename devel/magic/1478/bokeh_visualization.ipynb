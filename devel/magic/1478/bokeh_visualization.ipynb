{
 "cells": [
  {
   "cell_type": "code",
   "execution_count": 1,
   "metadata": {
    "collapsed": true
   },
   "outputs": [],
   "source": [
    "import numpy as np\n",
    "import pandas as pd\n",
    "from scipy import stats\n",
    "from bokeh.io import output_notebook\n",
    "from bokeh.charts import Dot, Scatter, show, output_file"
   ]
  },
  {
   "cell_type": "code",
   "execution_count": 3,
   "metadata": {
    "collapsed": true
   },
   "outputs": [],
   "source": [
    "from bokeh.plotting import show, figure"
   ]
  },
  {
   "cell_type": "code",
   "execution_count": 4,
   "metadata": {
    "collapsed": false
   },
   "outputs": [
    {
     "data": {
      "text/html": [
       "\n",
       "    <div class=\"bk-banner\">\n",
       "        <a href=\"http://bokeh.pydata.org\" target=\"_blank\" class=\"bk-logo bk-logo-small bk-logo-notebook\"></a>\n",
       "        <span id=\"0779dc97-5bb6-4b80-8314-aa4e4c790f9c\">Loading BokehJS ...</span>\n",
       "    </div>"
      ]
     },
     "metadata": {},
     "output_type": "display_data"
    },
    {
     "data": {
      "application/javascript": [
       "\n",
       "(function(global) {\n",
       "  function now() {\n",
       "    return new Date();\n",
       "  }\n",
       "\n",
       "  if (typeof (window._bokeh_onload_callbacks) === \"undefined\") {\n",
       "    window._bokeh_onload_callbacks = [];\n",
       "  }\n",
       "\n",
       "  function run_callbacks() {\n",
       "    window._bokeh_onload_callbacks.forEach(function(callback) { callback() });\n",
       "    delete window._bokeh_onload_callbacks\n",
       "    console.info(\"Bokeh: all callbacks have finished\");\n",
       "  }\n",
       "\n",
       "  function load_libs(js_urls, callback) {\n",
       "    window._bokeh_onload_callbacks.push(callback);\n",
       "    if (window._bokeh_is_loading > 0) {\n",
       "      console.log(\"Bokeh: BokehJS is being loaded, scheduling callback at\", now());\n",
       "      return null;\n",
       "    }\n",
       "    if (js_urls == null || js_urls.length === 0) {\n",
       "      run_callbacks();\n",
       "      return null;\n",
       "    }\n",
       "    console.log(\"Bokeh: BokehJS not loaded, scheduling load and callback at\", now());\n",
       "    window._bokeh_is_loading = js_urls.length;\n",
       "    for (var i = 0; i < js_urls.length; i++) {\n",
       "      var url = js_urls[i];\n",
       "      var s = document.createElement('script');\n",
       "      s.src = url;\n",
       "      s.async = false;\n",
       "      s.onreadystatechange = s.onload = function() {\n",
       "        window._bokeh_is_loading--;\n",
       "        if (window._bokeh_is_loading === 0) {\n",
       "          console.log(\"Bokeh: all BokehJS libraries loaded\");\n",
       "          run_callbacks()\n",
       "        }\n",
       "      };\n",
       "      s.onerror = function() {\n",
       "        console.warn(\"failed to load library \" + url);\n",
       "      };\n",
       "      console.log(\"Bokeh: injecting script tag for BokehJS library: \", url);\n",
       "      document.getElementsByTagName(\"head\")[0].appendChild(s);\n",
       "    }\n",
       "  };\n",
       "\n",
       "  var js_urls = ['https://cdn.pydata.org/bokeh/release/bokeh-0.11.1.min.js', 'https://cdn.pydata.org/bokeh/release/bokeh-widgets-0.11.1.min.js', 'https://cdn.pydata.org/bokeh/release/bokeh-compiler-0.11.1.min.js'];\n",
       "\n",
       "  var inline_js = [\n",
       "    function(Bokeh) {\n",
       "      Bokeh.set_log_level(\"info\");\n",
       "    },\n",
       "    \n",
       "    function(Bokeh) {\n",
       "      Bokeh.$(\"#0779dc97-5bb6-4b80-8314-aa4e4c790f9c\").text(\"BokehJS successfully loaded\");\n",
       "    },\n",
       "    function(Bokeh) {\n",
       "      console.log(\"Bokeh: injecting CSS: https://cdn.pydata.org/bokeh/release/bokeh-0.11.1.min.css\");\n",
       "      Bokeh.embed.inject_css(\"https://cdn.pydata.org/bokeh/release/bokeh-0.11.1.min.css\");\n",
       "      console.log(\"Bokeh: injecting CSS: https://cdn.pydata.org/bokeh/release/bokeh-widgets-0.11.1.min.css\");\n",
       "      Bokeh.embed.inject_css(\"https://cdn.pydata.org/bokeh/release/bokeh-widgets-0.11.1.min.css\");\n",
       "    }\n",
       "  ];\n",
       "\n",
       "  function run_inline_js() {\n",
       "    for (var i = 0; i < inline_js.length; i++) {\n",
       "      inline_js[i](window.Bokeh);\n",
       "    }\n",
       "  }\n",
       "\n",
       "  if (window._bokeh_is_loading === 0) {\n",
       "    console.log(\"Bokeh: BokehJS loaded, going straight to plotting\");\n",
       "    run_inline_js();\n",
       "  } else {\n",
       "    load_libs(js_urls, function() {\n",
       "      console.log(\"Bokeh: BokehJS plotting callback run at\", now());\n",
       "      run_inline_js();\n",
       "    });\n",
       "  }\n",
       "}(this));"
      ]
     },
     "metadata": {},
     "output_type": "display_data"
    }
   ],
   "source": [
    "output_notebook()"
   ]
  },
  {
   "cell_type": "code",
   "execution_count": 2,
   "metadata": {
    "collapsed": true
   },
   "outputs": [],
   "source": [
    "x = np.linspace(stats.expon.ppf(0.01),\n",
    "                stats.expon.ppf(0.99), 100)"
   ]
  },
  {
   "cell_type": "code",
   "execution_count": 5,
   "metadata": {
    "collapsed": false
   },
   "outputs": [
    {
     "data": {
      "text/plain": [
       "array([ 0.01005034,  0.05646569,  0.10288104,  0.14929639,  0.19571174,\n",
       "        0.2421271 ,  0.28854245,  0.3349578 ,  0.38137315,  0.4277885 ,\n",
       "        0.47420386,  0.52061921,  0.56703456,  0.61344991,  0.65986526,\n",
       "        0.70628062,  0.75269597,  0.79911132,  0.84552667,  0.89194202,\n",
       "        0.93835738,  0.98477273,  1.03118808,  1.07760343,  1.12401878,\n",
       "        1.17043414,  1.21684949,  1.26326484,  1.30968019,  1.35609554,\n",
       "        1.4025109 ,  1.44892625,  1.4953416 ,  1.54175695,  1.5881723 ,\n",
       "        1.63458766,  1.68100301,  1.72741836,  1.77383371,  1.82024906,\n",
       "        1.86666442,  1.91307977,  1.95949512,  2.00591047,  2.05232582,\n",
       "        2.09874118,  2.14515653,  2.19157188,  2.23798723,  2.28440258,\n",
       "        2.33081794,  2.37723329,  2.42364864,  2.47006399,  2.51647935,\n",
       "        2.5628947 ,  2.60931005,  2.6557254 ,  2.70214075,  2.74855611,\n",
       "        2.79497146,  2.84138681,  2.88780216,  2.93421751,  2.98063287,\n",
       "        3.02704822,  3.07346357,  3.11987892,  3.16629427,  3.21270963,\n",
       "        3.25912498,  3.30554033,  3.35195568,  3.39837103,  3.44478639,\n",
       "        3.49120174,  3.53761709,  3.58403244,  3.63044779,  3.67686315,\n",
       "        3.7232785 ,  3.76969385,  3.8161092 ,  3.86252455,  3.90893991,\n",
       "        3.95535526,  4.00177061,  4.04818596,  4.09460131,  4.14101667,\n",
       "        4.18743202,  4.23384737,  4.28026272,  4.32667807,  4.37309343,\n",
       "        4.41950878,  4.46592413,  4.51233948,  4.55875483,  4.60517019])"
      ]
     },
     "execution_count": 5,
     "metadata": {},
     "output_type": "execute_result"
    }
   ],
   "source": [
    "x"
   ]
  },
  {
   "cell_type": "code",
   "execution_count": 6,
   "metadata": {
    "collapsed": true
   },
   "outputs": [],
   "source": [
    "p = figure()"
   ]
  },
  {
   "cell_type": "code",
   "execution_count": 10,
   "metadata": {
    "collapsed": false
   },
   "outputs": [
    {
     "ename": "SyntaxError",
     "evalue": "(unicode error) 'unicodeescape' codec can't decode bytes in position 0-21: unknown Unicode character name (<ipython-input-10-d71bbb96ae6f>, line 1)",
     "output_type": "error",
     "traceback": [
      "\u001b[1;36m  File \u001b[1;32m\"<ipython-input-10-d71bbb96ae6f>\"\u001b[1;36m, line \u001b[1;32m1\u001b[0m\n\u001b[1;33m    \"\\N{GREEK LETTER THETA}\"\u001b[0m\n\u001b[1;37m                            ^\u001b[0m\n\u001b[1;31mSyntaxError\u001b[0m\u001b[1;31m:\u001b[0m (unicode error) 'unicodeescape' codec can't decode bytes in position 0-21: unknown Unicode character name\n"
     ]
    }
   ],
   "source": [
    "\"\\N{GREEK LETTER THETA}\"b"
   ]
  },
  {
   "cell_type": "code",
   "execution_count": 8,
   "metadata": {
    "collapsed": false
   },
   "outputs": [
    {
     "data": {
      "text/html": [
       "\n",
       "\n",
       "    <div class=\"plotdiv\" id=\"634c147a-cd0c-4d1b-8e01-fb9c34ae94d6\"></div>\n",
       "<script type=\"text/javascript\">\n",
       "  \n",
       "  (function(global) {\n",
       "    function now() {\n",
       "      return new Date();\n",
       "    }\n",
       "  \n",
       "    if (typeof (window._bokeh_onload_callbacks) === \"undefined\") {\n",
       "      window._bokeh_onload_callbacks = [];\n",
       "    }\n",
       "  \n",
       "    function run_callbacks() {\n",
       "      window._bokeh_onload_callbacks.forEach(function(callback) { callback() });\n",
       "      delete window._bokeh_onload_callbacks\n",
       "      console.info(\"Bokeh: all callbacks have finished\");\n",
       "    }\n",
       "  \n",
       "    function load_libs(js_urls, callback) {\n",
       "      window._bokeh_onload_callbacks.push(callback);\n",
       "      if (window._bokeh_is_loading > 0) {\n",
       "        console.log(\"Bokeh: BokehJS is being loaded, scheduling callback at\", now());\n",
       "        return null;\n",
       "      }\n",
       "      if (js_urls == null || js_urls.length === 0) {\n",
       "        run_callbacks();\n",
       "        return null;\n",
       "      }\n",
       "      console.log(\"Bokeh: BokehJS not loaded, scheduling load and callback at\", now());\n",
       "      window._bokeh_is_loading = js_urls.length;\n",
       "      for (var i = 0; i < js_urls.length; i++) {\n",
       "        var url = js_urls[i];\n",
       "        var s = document.createElement('script');\n",
       "        s.src = url;\n",
       "        s.async = false;\n",
       "        s.onreadystatechange = s.onload = function() {\n",
       "          window._bokeh_is_loading--;\n",
       "          if (window._bokeh_is_loading === 0) {\n",
       "            console.log(\"Bokeh: all BokehJS libraries loaded\");\n",
       "            run_callbacks()\n",
       "          }\n",
       "        };\n",
       "        s.onerror = function() {\n",
       "          console.warn(\"failed to load library \" + url);\n",
       "        };\n",
       "        console.log(\"Bokeh: injecting script tag for BokehJS library: \", url);\n",
       "        document.getElementsByTagName(\"head\")[0].appendChild(s);\n",
       "      }\n",
       "    };var element = document.getElementById(\"634c147a-cd0c-4d1b-8e01-fb9c34ae94d6\");\n",
       "    if (element == null) {\n",
       "      console.log(\"Bokeh: ERROR: autoload.js configured with elementid '634c147a-cd0c-4d1b-8e01-fb9c34ae94d6' but no matching script tag was found. \")\n",
       "      return false;\n",
       "    }\n",
       "  \n",
       "    var js_urls = [];\n",
       "  \n",
       "    var inline_js = [\n",
       "      function(Bokeh) {\n",
       "        Bokeh.$(function() {\n",
       "            var docs_json = {\"5a13a51b-975e-4872-8b58-cdf2779b6e53\":{\"roots\":{\"references\":[{\"attributes\":{\"below\":[{\"id\":\"89f9391e-4542-4732-9ebc-240753cbabad\",\"type\":\"LinearAxis\"}],\"left\":[{\"id\":\"846cdafc-4191-4a4a-b276-830c48425032\",\"type\":\"LinearAxis\"}],\"renderers\":[{\"id\":\"89f9391e-4542-4732-9ebc-240753cbabad\",\"type\":\"LinearAxis\"},{\"id\":\"570583e7-7fd1-4950-b629-5c17a91f34aa\",\"type\":\"Grid\"},{\"id\":\"846cdafc-4191-4a4a-b276-830c48425032\",\"type\":\"LinearAxis\"},{\"id\":\"4567bf89-16ef-4735-935a-6c6bd9911e20\",\"type\":\"Grid\"},{\"id\":\"4981da71-1a8f-4807-9846-efc908a47ceb\",\"type\":\"BoxAnnotation\"},{\"id\":\"307ce384-3ea9-4d37-b20e-328f96be5b84\",\"type\":\"GlyphRenderer\"},{\"id\":\"3e047ead-2566-48ec-9a9c-cc004856be48\",\"type\":\"GlyphRenderer\"}],\"tool_events\":{\"id\":\"433e7645-3e81-4ae9-9779-2e0547496373\",\"type\":\"ToolEvents\"},\"tools\":[{\"id\":\"da53f26f-8214-49f8-8eb5-d3886ee5eb2c\",\"type\":\"PanTool\"},{\"id\":\"bfacb507-8815-4a1f-b4c9-3df0bea301cd\",\"type\":\"WheelZoomTool\"},{\"id\":\"f77e94f3-c142-420e-8195-d1df4d1d87de\",\"type\":\"BoxZoomTool\"},{\"id\":\"7b33928a-1e9f-4990-b003-172f5f2654c9\",\"type\":\"PreviewSaveTool\"},{\"id\":\"140b9e2e-c383-41a1-bd20-f36512e744f9\",\"type\":\"ResizeTool\"},{\"id\":\"dd94442c-3e91-4238-9942-ab6b512aaad1\",\"type\":\"ResetTool\"},{\"id\":\"8d9fea90-6670-416d-aef4-c5520ad53517\",\"type\":\"HelpTool\"}],\"x_range\":{\"id\":\"bad6c8af-8be6-4b14-b672-371a28827893\",\"type\":\"DataRange1d\"},\"y_range\":{\"id\":\"cb3870f5-7628-40be-9422-56e611656064\",\"type\":\"DataRange1d\"}},\"id\":\"9a13f0c6-dc8f-42f8-afd1-9af35b23f45f\",\"subtype\":\"Figure\",\"type\":\"Plot\"},{\"attributes\":{\"plot\":{\"id\":\"9a13f0c6-dc8f-42f8-afd1-9af35b23f45f\",\"subtype\":\"Figure\",\"type\":\"Plot\"}},\"id\":\"7b33928a-1e9f-4990-b003-172f5f2654c9\",\"type\":\"PreviewSaveTool\"},{\"attributes\":{\"line_color\":{\"value\":\"#1f77b4\"},\"x\":{\"field\":\"x\"}},\"id\":\"3c8c0f82-37a0-4605-b4bd-616ecaf33661\",\"type\":\"Line\"},{\"attributes\":{\"callback\":null},\"id\":\"bad6c8af-8be6-4b14-b672-371a28827893\",\"type\":\"DataRange1d\"},{\"attributes\":{\"line_alpha\":{\"value\":0.1},\"line_color\":{\"value\":\"#1f77b4\"},\"x\":{\"field\":\"x\"}},\"id\":\"cb3e7646-64f3-4df8-9bae-f2a5a5db716a\",\"type\":\"Line\"},{\"attributes\":{},\"id\":\"c7b6b861-df06-4c7e-a9b9-486ab628dc34\",\"type\":\"BasicTickFormatter\"},{\"attributes\":{\"line_color\":{\"value\":\"#1f77b4\"},\"x\":{\"field\":\"x\"}},\"id\":\"473e0667-d2fe-46dd-b8e5-ceb66a3e9359\",\"type\":\"Line\"},{\"attributes\":{\"plot\":{\"id\":\"9a13f0c6-dc8f-42f8-afd1-9af35b23f45f\",\"subtype\":\"Figure\",\"type\":\"Plot\"}},\"id\":\"dd94442c-3e91-4238-9942-ab6b512aaad1\",\"type\":\"ResetTool\"},{\"attributes\":{\"plot\":{\"id\":\"9a13f0c6-dc8f-42f8-afd1-9af35b23f45f\",\"subtype\":\"Figure\",\"type\":\"Plot\"}},\"id\":\"bfacb507-8815-4a1f-b4c9-3df0bea301cd\",\"type\":\"WheelZoomTool\"},{\"attributes\":{\"plot\":{\"id\":\"9a13f0c6-dc8f-42f8-afd1-9af35b23f45f\",\"subtype\":\"Figure\",\"type\":\"Plot\"}},\"id\":\"da53f26f-8214-49f8-8eb5-d3886ee5eb2c\",\"type\":\"PanTool\"},{\"attributes\":{\"callback\":null,\"column_names\":[\"x\"],\"data\":{\"x\":[0.010050335853501442,0.05646568787506296,0.10288103989662448,0.14929639191818597,0.1957117439397475,0.24212709596130902,0.28854244798287054,0.3349578000044321,0.3813731520259936,0.4277885040475551,0.47420385606911664,0.5206192080906782,0.5670345601122396,0.6134499121338012,0.6598652641553627,0.7062806161769242,0.7526959681984857,0.7991113202200473,0.8455266722416087,0.8919420242631703,0.9383573762847318,0.9847727283062933,1.0311880803278548,1.0776034323494161,1.1240187843709777,1.1704341363925392,1.2168494884141008,1.2632648404356623,1.309680192457224,1.3560955444787852,1.4025108965003468,1.4489262485219083,1.4953416005434699,1.5417569525650314,1.588172304586593,1.6345876566081545,1.6810030086297159,1.7274183606512774,1.773833712672839,1.8202490646944005,1.866664416715962,1.9130797687375236,1.959495120759085,2.0059104727806467,2.0523258248022085,2.09874117682377,2.145156528845331,2.191571880866893,2.2379872328884542,2.284402584910016,2.3308179369315773,2.377233288953139,2.4236486409747005,2.470063992996262,2.5164793450178236,2.562894697039385,2.6093100490609467,2.655725401082508,2.7021407531040693,2.748556105125631,2.7949714571471924,2.841386809168754,2.8878021611903155,2.9342175132118773,2.9806328652334386,3.027048217255,3.0734635692765617,3.119878921298123,3.166294273319685,3.212709625341246,3.259124977362808,3.3055403293843693,3.3519556814059306,3.3983710334274924,3.4447863854490537,3.4912017374706155,3.537617089492177,3.584032441513738,3.6304477935353,3.6768631455568612,3.723278497578423,3.7696938495999843,3.816109201621546,3.8625245536431074,3.9089399056646688,3.9553552576862305,4.001770609707791,4.048185961729353,4.094601313750915,4.141016665772476,4.187432017794038,4.233847369815599,4.28026272183716,4.326678073858722,4.373093425880284,4.419508777901846,4.4659241299234065,4.512339481944968,4.55875483396653,4.605170185988091]}},\"id\":\"9c6cf5b2-648c-4c41-af5b-e9e687493ffd\",\"type\":\"ColumnDataSource\"},{\"attributes\":{},\"id\":\"fb836091-a63c-4959-a450-ac94905ee7a6\",\"type\":\"BasicTicker\"},{\"attributes\":{\"plot\":{\"id\":\"9a13f0c6-dc8f-42f8-afd1-9af35b23f45f\",\"subtype\":\"Figure\",\"type\":\"Plot\"},\"ticker\":{\"id\":\"65932b2c-0ee5-4fce-88f5-8850973aafb5\",\"type\":\"BasicTicker\"}},\"id\":\"570583e7-7fd1-4950-b629-5c17a91f34aa\",\"type\":\"Grid\"},{\"attributes\":{},\"id\":\"65932b2c-0ee5-4fce-88f5-8850973aafb5\",\"type\":\"BasicTicker\"},{\"attributes\":{\"data_source\":{\"id\":\"6261de59-ef0e-40d6-8d2f-58091c31b133\",\"type\":\"ColumnDataSource\"},\"glyph\":{\"id\":\"473e0667-d2fe-46dd-b8e5-ceb66a3e9359\",\"type\":\"Line\"},\"hover_glyph\":null,\"nonselection_glyph\":{\"id\":\"35e3e4d9-2260-4029-89ab-3e5732357742\",\"type\":\"Line\"},\"selection_glyph\":null},\"id\":\"3e047ead-2566-48ec-9a9c-cc004856be48\",\"type\":\"GlyphRenderer\"},{\"attributes\":{\"formatter\":{\"id\":\"c7b6b861-df06-4c7e-a9b9-486ab628dc34\",\"type\":\"BasicTickFormatter\"},\"plot\":{\"id\":\"9a13f0c6-dc8f-42f8-afd1-9af35b23f45f\",\"subtype\":\"Figure\",\"type\":\"Plot\"},\"ticker\":{\"id\":\"fb836091-a63c-4959-a450-ac94905ee7a6\",\"type\":\"BasicTicker\"}},\"id\":\"846cdafc-4191-4a4a-b276-830c48425032\",\"type\":\"LinearAxis\"},{\"attributes\":{},\"id\":\"48d6e3d9-a300-4d78-ae5a-746bd144bcbc\",\"type\":\"BasicTickFormatter\"},{\"attributes\":{\"plot\":{\"id\":\"9a13f0c6-dc8f-42f8-afd1-9af35b23f45f\",\"subtype\":\"Figure\",\"type\":\"Plot\"}},\"id\":\"140b9e2e-c383-41a1-bd20-f36512e744f9\",\"type\":\"ResizeTool\"},{\"attributes\":{\"plot\":{\"id\":\"9a13f0c6-dc8f-42f8-afd1-9af35b23f45f\",\"subtype\":\"Figure\",\"type\":\"Plot\"}},\"id\":\"8d9fea90-6670-416d-aef4-c5520ad53517\",\"type\":\"HelpTool\"},{\"attributes\":{},\"id\":\"433e7645-3e81-4ae9-9779-2e0547496373\",\"type\":\"ToolEvents\"},{\"attributes\":{\"line_alpha\":{\"value\":0.1},\"line_color\":{\"value\":\"#1f77b4\"},\"x\":{\"field\":\"x\"}},\"id\":\"35e3e4d9-2260-4029-89ab-3e5732357742\",\"type\":\"Line\"},{\"attributes\":{\"callback\":null},\"id\":\"cb3870f5-7628-40be-9422-56e611656064\",\"type\":\"DataRange1d\"},{\"attributes\":{\"dimension\":1,\"plot\":{\"id\":\"9a13f0c6-dc8f-42f8-afd1-9af35b23f45f\",\"subtype\":\"Figure\",\"type\":\"Plot\"},\"ticker\":{\"id\":\"fb836091-a63c-4959-a450-ac94905ee7a6\",\"type\":\"BasicTicker\"}},\"id\":\"4567bf89-16ef-4735-935a-6c6bd9911e20\",\"type\":\"Grid\"},{\"attributes\":{\"formatter\":{\"id\":\"48d6e3d9-a300-4d78-ae5a-746bd144bcbc\",\"type\":\"BasicTickFormatter\"},\"plot\":{\"id\":\"9a13f0c6-dc8f-42f8-afd1-9af35b23f45f\",\"subtype\":\"Figure\",\"type\":\"Plot\"},\"ticker\":{\"id\":\"65932b2c-0ee5-4fce-88f5-8850973aafb5\",\"type\":\"BasicTicker\"}},\"id\":\"89f9391e-4542-4732-9ebc-240753cbabad\",\"type\":\"LinearAxis\"},{\"attributes\":{\"data_source\":{\"id\":\"9c6cf5b2-648c-4c41-af5b-e9e687493ffd\",\"type\":\"ColumnDataSource\"},\"glyph\":{\"id\":\"3c8c0f82-37a0-4605-b4bd-616ecaf33661\",\"type\":\"Line\"},\"hover_glyph\":null,\"nonselection_glyph\":{\"id\":\"cb3e7646-64f3-4df8-9bae-f2a5a5db716a\",\"type\":\"Line\"},\"selection_glyph\":null},\"id\":\"307ce384-3ea9-4d37-b20e-328f96be5b84\",\"type\":\"GlyphRenderer\"},{\"attributes\":{\"bottom_units\":\"screen\",\"fill_alpha\":{\"value\":0.5},\"fill_color\":{\"value\":\"lightgrey\"},\"left_units\":\"screen\",\"level\":\"overlay\",\"line_alpha\":{\"value\":1.0},\"line_color\":{\"value\":\"black\"},\"line_dash\":[4,4],\"line_width\":{\"value\":2},\"plot\":null,\"render_mode\":\"css\",\"right_units\":\"screen\",\"top_units\":\"screen\"},\"id\":\"4981da71-1a8f-4807-9846-efc908a47ceb\",\"type\":\"BoxAnnotation\"},{\"attributes\":{\"overlay\":{\"id\":\"4981da71-1a8f-4807-9846-efc908a47ceb\",\"type\":\"BoxAnnotation\"},\"plot\":{\"id\":\"9a13f0c6-dc8f-42f8-afd1-9af35b23f45f\",\"subtype\":\"Figure\",\"type\":\"Plot\"}},\"id\":\"f77e94f3-c142-420e-8195-d1df4d1d87de\",\"type\":\"BoxZoomTool\"},{\"attributes\":{\"callback\":null,\"column_names\":[\"x\"],\"data\":{\"x\":[0.010050335853501442,0.05646568787506296,0.10288103989662448,0.14929639191818597,0.1957117439397475,0.24212709596130902,0.28854244798287054,0.3349578000044321,0.3813731520259936,0.4277885040475551,0.47420385606911664,0.5206192080906782,0.5670345601122396,0.6134499121338012,0.6598652641553627,0.7062806161769242,0.7526959681984857,0.7991113202200473,0.8455266722416087,0.8919420242631703,0.9383573762847318,0.9847727283062933,1.0311880803278548,1.0776034323494161,1.1240187843709777,1.1704341363925392,1.2168494884141008,1.2632648404356623,1.309680192457224,1.3560955444787852,1.4025108965003468,1.4489262485219083,1.4953416005434699,1.5417569525650314,1.588172304586593,1.6345876566081545,1.6810030086297159,1.7274183606512774,1.773833712672839,1.8202490646944005,1.866664416715962,1.9130797687375236,1.959495120759085,2.0059104727806467,2.0523258248022085,2.09874117682377,2.145156528845331,2.191571880866893,2.2379872328884542,2.284402584910016,2.3308179369315773,2.377233288953139,2.4236486409747005,2.470063992996262,2.5164793450178236,2.562894697039385,2.6093100490609467,2.655725401082508,2.7021407531040693,2.748556105125631,2.7949714571471924,2.841386809168754,2.8878021611903155,2.9342175132118773,2.9806328652334386,3.027048217255,3.0734635692765617,3.119878921298123,3.166294273319685,3.212709625341246,3.259124977362808,3.3055403293843693,3.3519556814059306,3.3983710334274924,3.4447863854490537,3.4912017374706155,3.537617089492177,3.584032441513738,3.6304477935353,3.6768631455568612,3.723278497578423,3.7696938495999843,3.816109201621546,3.8625245536431074,3.9089399056646688,3.9553552576862305,4.001770609707791,4.048185961729353,4.094601313750915,4.141016665772476,4.187432017794038,4.233847369815599,4.28026272183716,4.326678073858722,4.373093425880284,4.419508777901846,4.4659241299234065,4.512339481944968,4.55875483396653,4.605170185988091]}},\"id\":\"6261de59-ef0e-40d6-8d2f-58091c31b133\",\"type\":\"ColumnDataSource\"}],\"root_ids\":[\"9a13f0c6-dc8f-42f8-afd1-9af35b23f45f\"]},\"title\":\"Bokeh Application\",\"version\":\"0.11.1\"}};\n",
       "            var render_items = [{\"docid\":\"5a13a51b-975e-4872-8b58-cdf2779b6e53\",\"elementid\":\"634c147a-cd0c-4d1b-8e01-fb9c34ae94d6\",\"modelid\":\"9a13f0c6-dc8f-42f8-afd1-9af35b23f45f\",\"notebook_comms_target\":\"e5e6c7a9-cd67-41d9-b80c-c04a095a04f4\"}];\n",
       "            \n",
       "            Bokeh.embed.embed_items(docs_json, render_items);\n",
       "        });\n",
       "      },\n",
       "      function(Bokeh) {\n",
       "      }\n",
       "    ];\n",
       "  \n",
       "    function run_inline_js() {\n",
       "      for (var i = 0; i < inline_js.length; i++) {\n",
       "        inline_js[i](window.Bokeh);\n",
       "      }\n",
       "    }\n",
       "  \n",
       "    if (window._bokeh_is_loading === 0) {\n",
       "      console.log(\"Bokeh: BokehJS loaded, going straight to plotting\");\n",
       "      run_inline_js();\n",
       "    } else {\n",
       "      load_libs(js_urls, function() {\n",
       "        console.log(\"Bokeh: BokehJS plotting callback run at\", now());\n",
       "        run_inline_js();\n",
       "      });\n",
       "    }\n",
       "  }(this));\n",
       "</script>"
      ]
     },
     "metadata": {},
     "output_type": "display_data"
    },
    {
     "data": {
      "text/html": [
       "<p><code>&lt;Bokeh Notebook handle for <strong>In[8]</strong>&gt;</code></p>"
      ],
      "text/plain": [
       "<bokeh.io._CommsHandle at 0x78c7320>"
      ]
     },
     "execution_count": 8,
     "metadata": {},
     "output_type": "execute_result"
    }
   ],
   "source": [
    "p.line(x)\n"
   ]
  },
  {
   "cell_type": "code",
   "execution_count": null,
   "metadata": {
    "collapsed": true
   },
   "outputs": [],
   "source": []
  },
  {
   "cell_type": "code",
   "execution_count": null,
   "metadata": {
    "collapsed": true
   },
   "outputs": [],
   "source": []
  },
  {
   "cell_type": "code",
   "execution_count": 3,
   "metadata": {
    "collapsed": true
   },
   "outputs": [],
   "source": [
    "# best support is with data in a format that is table-like\n",
    "data = {\n",
    "    'sample': ['1st', '2nd', '1st', '2nd', '1st', '2nd'],\n",
    "    'interpreter': ['python', 'python', 'pypy', 'pypy', 'jython', 'jython'],\n",
    "    'timing': [-2, 5, 12, 40, 22, 30],\n",
    "}\n",
    "\n",
    "data_2 = {\n",
    "    'power': [0.2, 0.4, 0.6, 0.8],\n",
    "    'sample_sizes': ['250', '500', '750', '1000'],\n",
    "    'rep': ['0', '0', '0', '0']\n",
    "}\n",
    "\n",
    "# x-axis labels pulled from the interpreter column, stacking labels from sample column\n",
    "dots = Dot(data, values='timing', label='interpreter',\n",
    "           group='sample', agg='mean',\n",
    "           title=\"Python Interpreter Sampling\",\n",
    "           legend='top_right', width=600)\n",
    "           \n",
    "dots_2 = Dot(data_2, values='power', label='sample_sizes',\n",
    "                group='rep', agg='mean', \n",
    "                title=\"First Bokeh Dot PLot\",\n",
    "                legend='top_right', width=600)"
   ]
  },
  {
   "cell_type": "code",
   "execution_count": null,
   "metadata": {
    "collapsed": true
   },
   "outputs": [],
   "source": []
  },
  {
   "cell_type": "code",
   "execution_count": null,
   "metadata": {
    "collapsed": true
   },
   "outputs": [],
   "source": []
  },
  {
   "cell_type": "code",
   "execution_count": null,
   "metadata": {
    "collapsed": true
   },
   "outputs": [],
   "source": []
  },
  {
   "cell_type": "code",
   "execution_count": 4,
   "metadata": {
    "collapsed": false
   },
   "outputs": [
    {
     "data": {
      "text/html": [
       "\n",
       "\n",
       "    <div class=\"plotdiv\" id=\"29ce718f-b0e0-43d7-8e6c-05f7582f0643\"></div>\n",
       "<script type=\"text/javascript\">\n",
       "  \n",
       "  (function(global) {\n",
       "    function now() {\n",
       "      return new Date();\n",
       "    }\n",
       "  \n",
       "    if (typeof (window._bokeh_onload_callbacks) === \"undefined\") {\n",
       "      window._bokeh_onload_callbacks = [];\n",
       "    }\n",
       "  \n",
       "    function run_callbacks() {\n",
       "      window._bokeh_onload_callbacks.forEach(function(callback) { callback() });\n",
       "      delete window._bokeh_onload_callbacks\n",
       "      console.info(\"Bokeh: all callbacks have finished\");\n",
       "    }\n",
       "  \n",
       "    function load_libs(js_urls, callback) {\n",
       "      window._bokeh_onload_callbacks.push(callback);\n",
       "      if (window._bokeh_is_loading > 0) {\n",
       "        console.log(\"Bokeh: BokehJS is being loaded, scheduling callback at\", now());\n",
       "        return null;\n",
       "      }\n",
       "      if (js_urls == null || js_urls.length === 0) {\n",
       "        run_callbacks();\n",
       "        return null;\n",
       "      }\n",
       "      console.log(\"Bokeh: BokehJS not loaded, scheduling load and callback at\", now());\n",
       "      window._bokeh_is_loading = js_urls.length;\n",
       "      for (var i = 0; i < js_urls.length; i++) {\n",
       "        var url = js_urls[i];\n",
       "        var s = document.createElement('script');\n",
       "        s.src = url;\n",
       "        s.async = false;\n",
       "        s.onreadystatechange = s.onload = function() {\n",
       "          window._bokeh_is_loading--;\n",
       "          if (window._bokeh_is_loading === 0) {\n",
       "            console.log(\"Bokeh: all BokehJS libraries loaded\");\n",
       "            run_callbacks()\n",
       "          }\n",
       "        };\n",
       "        s.onerror = function() {\n",
       "          console.warn(\"failed to load library \" + url);\n",
       "        };\n",
       "        console.log(\"Bokeh: injecting script tag for BokehJS library: \", url);\n",
       "        document.getElementsByTagName(\"head\")[0].appendChild(s);\n",
       "      }\n",
       "    };var element = document.getElementById(\"29ce718f-b0e0-43d7-8e6c-05f7582f0643\");\n",
       "    if (element == null) {\n",
       "      console.log(\"Bokeh: ERROR: autoload.js configured with elementid '29ce718f-b0e0-43d7-8e6c-05f7582f0643' but no matching script tag was found. \")\n",
       "      return false;\n",
       "    }\n",
       "  \n",
       "    var js_urls = [];\n",
       "  \n",
       "    var inline_js = [\n",
       "      function(Bokeh) {\n",
       "        Bokeh.$(function() {\n",
       "            var docs_json = {\"d2b8f075-9792-4e12-81e3-ed5af257e4f2\":{\"roots\":{\"references\":[{\"attributes\":{\"fill_alpha\":{\"field\":\"fill_alpha\"},\"fill_color\":{\"value\":\"#f22c40\"},\"line_alpha\":{\"field\":\"line_alpha\"},\"line_color\":{\"value\":\"#f22c40\"},\"size\":{\"units\":\"screen\",\"value\":8},\"x\":{\"field\":\"x\"},\"y\":{\"field\":\"height\"}},\"id\":\"effc22cc-bce5-403b-b6aa-f473fc2942d7\",\"type\":\"Circle\"},{\"attributes\":{\"callback\":null,\"column_names\":[\"fill_alpha\",\"line_color\",\"line_alpha\",\"width\",\"y\",\"x\",\"height\",\"color\"],\"data\":{\"chart_index\":[{\"rep\":\"0\",\"sample_sizes\":\"250\"}],\"color\":[\"#f22c40\"],\"fill_alpha\":[0.8],\"height\":[0.2],\"line_alpha\":[1.0],\"line_color\":[\"#f22c40\"],\"rep\":[\"0\"],\"sample_sizes\":[\"250\"],\"width\":[0.2],\"x\":[\"250:0.5\"],\"y\":[0.1]}},\"id\":\"f0b01762-ac0a-40ed-b7e9-17dcedb170e4\",\"type\":\"ColumnDataSource\"},{\"attributes\":{\"below\":[{\"id\":\"d984eb34-7672-45b6-9151-162332f868de\",\"type\":\"CategoricalAxis\"}],\"left\":[{\"id\":\"02a22fc9-bfa0-4cda-bf40-0d8a74781870\",\"type\":\"LinearAxis\"}],\"legend\":\"top_right\",\"renderers\":[{\"id\":\"71770e27-99ac-4474-8f38-38facd39c440\",\"type\":\"BoxAnnotation\"},{\"id\":\"b1d062a2-82ca-4f41-bcb6-7f49cd6ecfa2\",\"type\":\"GlyphRenderer\"},{\"id\":\"40254292-278d-4ead-a20d-b5406e10cacb\",\"type\":\"GlyphRenderer\"},{\"id\":\"4d8b9685-ab2b-44d4-b619-3e50deb4d3e7\",\"type\":\"GlyphRenderer\"},{\"id\":\"55d09ac5-1a68-4802-8dde-6d7d26f68948\",\"type\":\"GlyphRenderer\"},{\"id\":\"47b0d0b8-9aca-4069-ae9f-102f87fd40ae\",\"type\":\"Legend\"},{\"id\":\"d984eb34-7672-45b6-9151-162332f868de\",\"type\":\"CategoricalAxis\"},{\"id\":\"02a22fc9-bfa0-4cda-bf40-0d8a74781870\",\"type\":\"LinearAxis\"},{\"id\":\"620ef84e-3587-4a35-bca8-83ed40e09fa8\",\"type\":\"Grid\"}],\"title\":\"First Bokeh Dot PLot\",\"title_text_font_size\":{\"value\":\"14pt\"},\"tool_events\":{\"id\":\"abf7222e-1f9e-4c6a-bf11-e6b656ff7336\",\"type\":\"ToolEvents\"},\"tools\":[{\"id\":\"600a8e68-60b1-4001-959f-5bdc8d1fc7a0\",\"type\":\"PanTool\"},{\"id\":\"a7853d4b-100f-414e-add1-2281db76203d\",\"type\":\"WheelZoomTool\"},{\"id\":\"8a5a8459-b247-46e0-93ef-bdf96e504fd6\",\"type\":\"BoxZoomTool\"},{\"id\":\"72a2d32b-c2ed-454f-b772-9b094518934b\",\"type\":\"PreviewSaveTool\"},{\"id\":\"83860c1a-180f-452f-9e10-85adc82cdccb\",\"type\":\"ResizeTool\"},{\"id\":\"d1a4b36d-93a7-4723-9098-47ea8f9f0cda\",\"type\":\"ResetTool\"},{\"id\":\"c4ff3c5b-74d3-420f-a153-9810bd3dd0e2\",\"type\":\"HelpTool\"}],\"x_mapper_type\":\"auto\",\"x_range\":{\"id\":\"7fc01c10-1506-4bbe-96d3-b6d98344cb55\",\"type\":\"FactorRange\"},\"xgrid\":false,\"xscale\":\"auto\",\"y_mapper_type\":\"auto\",\"y_range\":{\"id\":\"22cf0114-9f37-4262-b1b8-1e4f300da32a\",\"type\":\"Range1d\"},\"yscale\":\"auto\"},\"id\":\"21a40375-1dd9-429c-b8dc-dc449d914668\",\"subtype\":\"Chart\",\"type\":\"Plot\"},{\"attributes\":{\"data_source\":{\"id\":\"eab28995-767b-4591-a54b-f60684e65e1b\",\"type\":\"ColumnDataSource\"},\"glyph\":{\"id\":\"effc22cc-bce5-403b-b6aa-f473fc2942d7\",\"type\":\"Circle\"},\"hover_glyph\":null,\"nonselection_glyph\":null,\"selection_glyph\":null},\"id\":\"55d09ac5-1a68-4802-8dde-6d7d26f68948\",\"type\":\"GlyphRenderer\"},{\"attributes\":{\"callback\":null,\"factors\":[\"1000\",\"250\",\"500\",\"750\"]},\"id\":\"7fc01c10-1506-4bbe-96d3-b6d98344cb55\",\"type\":\"FactorRange\"},{\"attributes\":{\"bottom_units\":\"screen\",\"fill_alpha\":{\"value\":0.5},\"fill_color\":{\"value\":\"lightgrey\"},\"left_units\":\"screen\",\"level\":\"overlay\",\"line_alpha\":{\"value\":1.0},\"line_color\":{\"value\":\"black\"},\"line_dash\":[4,4],\"line_width\":{\"value\":2},\"plot\":null,\"render_mode\":\"css\",\"right_units\":\"screen\",\"top_units\":\"screen\"},\"id\":\"db62a6e7-015f-49b5-b3bc-58bbd3d48da0\",\"type\":\"BoxAnnotation\"},{\"attributes\":{\"callback\":null,\"column_names\":[\"fill_alpha\",\"line_color\",\"line_alpha\",\"width\",\"y\",\"x\",\"height\",\"color\"],\"data\":{\"chart_index\":[{\"interpreter\":\"python\",\"sample\":\"1st\"}],\"color\":[\"#f22c40\"],\"fill_alpha\":[0.8],\"height\":[-2.0],\"interpreter\":[\"python\"],\"line_alpha\":[1.0],\"line_color\":[\"#f22c40\"],\"sample\":[\"1st\"],\"width\":[0.2],\"x\":[\"python:0.333333333333\"],\"y\":[-1.0]}},\"id\":\"87a982eb-dc85-4daf-9e78-3234ab3c80de\",\"type\":\"ColumnDataSource\"},{\"attributes\":{\"data_source\":{\"id\":\"c63cae36-1e8e-4899-a99c-bcbe744b498f\",\"type\":\"ColumnDataSource\"},\"glyph\":{\"id\":\"17eafc1b-9b23-433c-b64e-7af026d2a032\",\"type\":\"Circle\"},\"hover_glyph\":null,\"nonselection_glyph\":null,\"selection_glyph\":null},\"id\":\"ae95f629-5358-485f-9427-923327640c1f\",\"type\":\"GlyphRenderer\"},{\"attributes\":{\"data_source\":{\"id\":\"998c1a33-e44b-4d34-8b77-c3bd39f83a2f\",\"type\":\"ColumnDataSource\"},\"glyph\":{\"id\":\"36dcd9e3-acf2-4615-9b6f-46bfe6200982\",\"type\":\"Circle\"},\"hover_glyph\":null,\"nonselection_glyph\":null,\"selection_glyph\":null},\"id\":\"0880aeef-4c30-4210-acac-1a543a6775e4\",\"type\":\"GlyphRenderer\"},{\"attributes\":{\"overlay\":{\"id\":\"71770e27-99ac-4474-8f38-38facd39c440\",\"type\":\"BoxAnnotation\"},\"plot\":{\"id\":\"21a40375-1dd9-429c-b8dc-dc449d914668\",\"subtype\":\"Chart\",\"type\":\"Plot\"}},\"id\":\"8a5a8459-b247-46e0-93ef-bdf96e504fd6\",\"type\":\"BoxZoomTool\"},{\"attributes\":{\"plot\":{\"id\":\"d6822298-866e-4493-8c93-b5ff36d9c882\",\"subtype\":\"Chart\",\"type\":\"Plot\"}},\"id\":\"e7eff6e2-bae9-4f57-8124-43ebd89093ce\",\"type\":\"PreviewSaveTool\"},{\"attributes\":{},\"id\":\"61a4626e-f709-4468-926d-3b08f6c5c88f\",\"type\":\"BasicTickFormatter\"},{\"attributes\":{\"plot\":{\"id\":\"21a40375-1dd9-429c-b8dc-dc449d914668\",\"subtype\":\"Chart\",\"type\":\"Plot\"}},\"id\":\"c4ff3c5b-74d3-420f-a153-9810bd3dd0e2\",\"type\":\"HelpTool\"},{\"attributes\":{\"callback\":null,\"end\":41.9,\"start\":-3.9000000000000004},\"id\":\"b0085a35-88d0-47ff-91ac-f47c391244e1\",\"type\":\"Range1d\"},{\"attributes\":{\"fill_alpha\":{\"field\":\"fill_alpha\"},\"fill_color\":{\"value\":\"#f22c40\"},\"line_alpha\":{\"field\":\"line_alpha\"},\"line_color\":{\"value\":\"#f22c40\"},\"size\":{\"units\":\"screen\",\"value\":8},\"x\":{\"field\":\"x\"},\"y\":{\"field\":\"height\"}},\"id\":\"ef9508ba-3034-4e10-8e7c-292ba864b404\",\"type\":\"Circle\"},{\"attributes\":{},\"id\":\"1f63775d-4801-447d-9c2e-41dafe0fe67d\",\"type\":\"CategoricalTickFormatter\"},{\"attributes\":{\"overlay\":{\"id\":\"db62a6e7-015f-49b5-b3bc-58bbd3d48da0\",\"type\":\"BoxAnnotation\"},\"plot\":{\"id\":\"d6822298-866e-4493-8c93-b5ff36d9c882\",\"subtype\":\"Chart\",\"type\":\"Plot\"}},\"id\":\"ce0e6641-c798-4f39-834f-7cb2b439e1c9\",\"type\":\"BoxZoomTool\"},{\"attributes\":{\"plot\":{\"id\":\"d6822298-866e-4493-8c93-b5ff36d9c882\",\"subtype\":\"Chart\",\"type\":\"Plot\"}},\"id\":\"bf04493a-0a44-4a98-aa8b-af7e1bf0bdd3\",\"type\":\"HelpTool\"},{\"attributes\":{},\"id\":\"fb49b636-830c-4da0-86b3-779dcbb665dc\",\"type\":\"BasicTicker\"},{\"attributes\":{\"legends\":[[\"0\",[{\"id\":\"b1d062a2-82ca-4f41-bcb6-7f49cd6ecfa2\",\"type\":\"GlyphRenderer\"}]]],\"plot\":{\"id\":\"21a40375-1dd9-429c-b8dc-dc449d914668\",\"subtype\":\"Chart\",\"type\":\"Plot\"}},\"id\":\"47b0d0b8-9aca-4069-ae9f-102f87fd40ae\",\"type\":\"Legend\"},{\"attributes\":{\"data_source\":{\"id\":\"76027c4f-3e34-4eea-94fb-f22b0dd20abd\",\"type\":\"ColumnDataSource\"},\"glyph\":{\"id\":\"bf822bcb-0ebf-4faa-8945-c81a823613a3\",\"type\":\"Circle\"},\"hover_glyph\":null,\"nonselection_glyph\":null,\"selection_glyph\":null},\"id\":\"4d8b9685-ab2b-44d4-b619-3e50deb4d3e7\",\"type\":\"GlyphRenderer\"},{\"attributes\":{\"callback\":null,\"factors\":[\"jython\",\"pypy\",\"python\"]},\"id\":\"2c9e887f-cdee-42a0-9461-e48906d991ee\",\"type\":\"FactorRange\"},{\"attributes\":{\"dimension\":1,\"plot\":{\"id\":\"d6822298-866e-4493-8c93-b5ff36d9c882\",\"subtype\":\"Chart\",\"type\":\"Plot\"},\"ticker\":{\"id\":\"fb49b636-830c-4da0-86b3-779dcbb665dc\",\"type\":\"BasicTicker\"}},\"id\":\"5a89e43b-3091-404e-aa25-1884ba91d2a2\",\"type\":\"Grid\"},{\"attributes\":{\"plot\":{\"id\":\"21a40375-1dd9-429c-b8dc-dc449d914668\",\"subtype\":\"Chart\",\"type\":\"Plot\"}},\"id\":\"72a2d32b-c2ed-454f-b772-9b094518934b\",\"type\":\"PreviewSaveTool\"},{\"attributes\":{\"plot\":{\"id\":\"d6822298-866e-4493-8c93-b5ff36d9c882\",\"subtype\":\"Chart\",\"type\":\"Plot\"}},\"id\":\"34d32e12-fcb7-413a-8c75-030a99d9d2e2\",\"type\":\"PanTool\"},{\"attributes\":{\"callback\":null,\"column_names\":[\"fill_alpha\",\"line_color\",\"line_alpha\",\"width\",\"y\",\"x\",\"height\",\"color\"],\"data\":{\"chart_index\":[{\"interpreter\":\"pypy\",\"sample\":\"1st\"}],\"color\":[\"#f22c40\"],\"fill_alpha\":[0.8],\"height\":[12.0],\"interpreter\":[\"pypy\"],\"line_alpha\":[1.0],\"line_color\":[\"#f22c40\"],\"sample\":[\"1st\"],\"width\":[0.2],\"x\":[\"pypy:0.333333333333\"],\"y\":[6.0]}},\"id\":\"e953a78c-9b8e-4105-8f01-15747311a3f0\",\"type\":\"ColumnDataSource\"},{\"attributes\":{\"axis_label\":\"Interpreter\",\"formatter\":{\"id\":\"686652f1-1247-4ae6-85ec-dae29c5c7782\",\"type\":\"CategoricalTickFormatter\"},\"major_label_orientation\":0.7853981633974483,\"plot\":{\"id\":\"d6822298-866e-4493-8c93-b5ff36d9c882\",\"subtype\":\"Chart\",\"type\":\"Plot\"},\"ticker\":{\"id\":\"27852b40-5c76-498d-97f3-b63b676feaff\",\"type\":\"CategoricalTicker\"}},\"id\":\"a4dc824d-cc8d-49c7-98ff-885f028cd1c8\",\"type\":\"CategoricalAxis\"},{\"attributes\":{\"axis_label\":\"Mean( Power )\",\"formatter\":{\"id\":\"61a4626e-f709-4468-926d-3b08f6c5c88f\",\"type\":\"BasicTickFormatter\"},\"plot\":{\"id\":\"21a40375-1dd9-429c-b8dc-dc449d914668\",\"subtype\":\"Chart\",\"type\":\"Plot\"},\"ticker\":{\"id\":\"278385f4-4299-490e-abbc-4d6feef5928b\",\"type\":\"BasicTicker\"}},\"id\":\"02a22fc9-bfa0-4cda-bf40-0d8a74781870\",\"type\":\"LinearAxis\"},{\"attributes\":{\"axis_label\":\"Mean( Timing )\",\"formatter\":{\"id\":\"356654e2-cc56-46d9-a52b-87ef9f2250a3\",\"type\":\"BasicTickFormatter\"},\"plot\":{\"id\":\"d6822298-866e-4493-8c93-b5ff36d9c882\",\"subtype\":\"Chart\",\"type\":\"Plot\"},\"ticker\":{\"id\":\"fb49b636-830c-4da0-86b3-779dcbb665dc\",\"type\":\"BasicTicker\"}},\"id\":\"5b4d2280-e63c-4236-9f1c-39ba15177489\",\"type\":\"LinearAxis\"},{\"attributes\":{\"fill_alpha\":{\"field\":\"fill_alpha\"},\"fill_color\":{\"value\":\"#f22c40\"},\"line_alpha\":{\"field\":\"line_alpha\"},\"line_color\":{\"value\":\"#f22c40\"},\"size\":{\"units\":\"screen\",\"value\":8},\"x\":{\"field\":\"x\"},\"y\":{\"field\":\"height\"}},\"id\":\"0ad7bd2e-01e1-4055-9e7d-013053c8b588\",\"type\":\"Circle\"},{\"attributes\":{\"callback\":null,\"column_names\":[\"fill_alpha\",\"line_color\",\"line_alpha\",\"width\",\"y\",\"x\",\"height\",\"color\"],\"data\":{\"chart_index\":[{\"rep\":\"0\",\"sample_sizes\":\"1000\"}],\"color\":[\"#f22c40\"],\"fill_alpha\":[0.8],\"height\":[0.8],\"line_alpha\":[1.0],\"line_color\":[\"#f22c40\"],\"rep\":[\"0\"],\"sample_sizes\":[\"1000\"],\"width\":[0.2],\"x\":[\"1000:0.5\"],\"y\":[0.4]}},\"id\":\"eab28995-767b-4591-a54b-f60684e65e1b\",\"type\":\"ColumnDataSource\"},{\"attributes\":{\"data_source\":{\"id\":\"f0b01762-ac0a-40ed-b7e9-17dcedb170e4\",\"type\":\"ColumnDataSource\"},\"glyph\":{\"id\":\"71cc24d8-5b12-4cb2-8174-69948af39e8d\",\"type\":\"Circle\"},\"hover_glyph\":null,\"nonselection_glyph\":null,\"selection_glyph\":null},\"id\":\"b1d062a2-82ca-4f41-bcb6-7f49cd6ecfa2\",\"type\":\"GlyphRenderer\"},{\"attributes\":{\"callback\":null,\"column_names\":[\"fill_alpha\",\"line_color\",\"line_alpha\",\"width\",\"y\",\"x\",\"height\",\"color\"],\"data\":{\"chart_index\":[{\"rep\":\"0\",\"sample_sizes\":\"500\"}],\"color\":[\"#f22c40\"],\"fill_alpha\":[0.8],\"height\":[0.4],\"line_alpha\":[1.0],\"line_color\":[\"#f22c40\"],\"rep\":[\"0\"],\"sample_sizes\":[\"500\"],\"width\":[0.2],\"x\":[\"500:0.5\"],\"y\":[0.2]}},\"id\":\"fdcebb2e-be66-4d6f-b496-3269718d1185\",\"type\":\"ColumnDataSource\"},{\"attributes\":{\"data_source\":{\"id\":\"5ff5952f-6f20-4471-a3ca-408f8d6802ae\",\"type\":\"ColumnDataSource\"},\"glyph\":{\"id\":\"ce405d9b-d2ce-4478-978f-be1853e6b046\",\"type\":\"Circle\"},\"hover_glyph\":null,\"nonselection_glyph\":null,\"selection_glyph\":null},\"id\":\"e9aaa695-d043-4834-bdf9-09d4b9e64d20\",\"type\":\"GlyphRenderer\"},{\"attributes\":{},\"id\":\"6f8e9c2c-a640-4d15-91b5-4d548fcd24f8\",\"type\":\"ToolEvents\"},{\"attributes\":{\"callback\":null,\"column_names\":[\"fill_alpha\",\"line_color\",\"line_alpha\",\"width\",\"y\",\"x\",\"height\",\"color\"],\"data\":{\"chart_index\":[{\"interpreter\":\"pypy\",\"sample\":\"2nd\"}],\"color\":[\"#5ab738\"],\"fill_alpha\":[0.8],\"height\":[40.0],\"interpreter\":[\"pypy\"],\"line_alpha\":[1.0],\"line_color\":[\"#f22c40\"],\"sample\":[\"2nd\"],\"width\":[0.2],\"x\":[\"pypy:0.666666666667\"],\"y\":[20.0]}},\"id\":\"5ff5952f-6f20-4471-a3ca-408f8d6802ae\",\"type\":\"ColumnDataSource\"},{\"attributes\":{\"fill_alpha\":{\"field\":\"fill_alpha\"},\"fill_color\":{\"value\":\"#f22c40\"},\"line_alpha\":{\"field\":\"line_alpha\"},\"line_color\":{\"value\":\"#f22c40\"},\"size\":{\"units\":\"screen\",\"value\":8},\"x\":{\"field\":\"x\"},\"y\":{\"field\":\"height\"}},\"id\":\"bf822bcb-0ebf-4faa-8945-c81a823613a3\",\"type\":\"Circle\"},{\"attributes\":{},\"id\":\"5f168d97-a01c-437b-b627-a41aec24768c\",\"type\":\"CategoricalTicker\"},{\"attributes\":{},\"id\":\"278385f4-4299-490e-abbc-4d6feef5928b\",\"type\":\"BasicTicker\"},{\"attributes\":{\"bottom_units\":\"screen\",\"fill_alpha\":{\"value\":0.5},\"fill_color\":{\"value\":\"lightgrey\"},\"left_units\":\"screen\",\"level\":\"overlay\",\"line_alpha\":{\"value\":1.0},\"line_color\":{\"value\":\"black\"},\"line_dash\":[4,4],\"line_width\":{\"value\":2},\"plot\":null,\"render_mode\":\"css\",\"right_units\":\"screen\",\"top_units\":\"screen\"},\"id\":\"71770e27-99ac-4474-8f38-38facd39c440\",\"type\":\"BoxAnnotation\"},{\"attributes\":{\"fill_alpha\":{\"field\":\"fill_alpha\"},\"fill_color\":{\"value\":\"#5ab738\"},\"line_alpha\":{\"field\":\"line_alpha\"},\"line_color\":{\"value\":\"#f22c40\"},\"size\":{\"units\":\"screen\",\"value\":8},\"x\":{\"field\":\"x\"},\"y\":{\"field\":\"height\"}},\"id\":\"17eafc1b-9b23-433c-b64e-7af026d2a032\",\"type\":\"Circle\"},{\"attributes\":{\"plot\":{\"id\":\"21a40375-1dd9-429c-b8dc-dc449d914668\",\"subtype\":\"Chart\",\"type\":\"Plot\"}},\"id\":\"a7853d4b-100f-414e-add1-2281db76203d\",\"type\":\"WheelZoomTool\"},{\"attributes\":{\"plot\":{\"id\":\"d6822298-866e-4493-8c93-b5ff36d9c882\",\"subtype\":\"Chart\",\"type\":\"Plot\"}},\"id\":\"d3f32d8e-c2e5-4b31-8a74-23d951b1f62a\",\"type\":\"ResizeTool\"},{\"attributes\":{},\"id\":\"abf7222e-1f9e-4c6a-bf11-e6b656ff7336\",\"type\":\"ToolEvents\"},{\"attributes\":{\"callback\":null,\"column_names\":[\"fill_alpha\",\"line_color\",\"line_alpha\",\"width\",\"y\",\"x\",\"height\",\"color\"],\"data\":{\"chart_index\":[{\"interpreter\":\"jython\",\"sample\":\"1st\"}],\"color\":[\"#f22c40\"],\"fill_alpha\":[0.8],\"height\":[22.0],\"interpreter\":[\"jython\"],\"line_alpha\":[1.0],\"line_color\":[\"#f22c40\"],\"sample\":[\"1st\"],\"width\":[0.2],\"x\":[\"jython:0.333333333333\"],\"y\":[11.0]}},\"id\":\"998c1a33-e44b-4d34-8b77-c3bd39f83a2f\",\"type\":\"ColumnDataSource\"},{\"attributes\":{\"below\":[{\"id\":\"a4dc824d-cc8d-49c7-98ff-885f028cd1c8\",\"type\":\"CategoricalAxis\"}],\"left\":[{\"id\":\"5b4d2280-e63c-4236-9f1c-39ba15177489\",\"type\":\"LinearAxis\"}],\"legend\":\"top_right\",\"renderers\":[{\"id\":\"db62a6e7-015f-49b5-b3bc-58bbd3d48da0\",\"type\":\"BoxAnnotation\"},{\"id\":\"dbb0280d-ca6c-4880-8f8e-d4f60eb0d750\",\"type\":\"GlyphRenderer\"},{\"id\":\"ae95f629-5358-485f-9427-923327640c1f\",\"type\":\"GlyphRenderer\"},{\"id\":\"c3ba946a-5d28-4598-837a-e09bc7305255\",\"type\":\"GlyphRenderer\"},{\"id\":\"e9aaa695-d043-4834-bdf9-09d4b9e64d20\",\"type\":\"GlyphRenderer\"},{\"id\":\"0880aeef-4c30-4210-acac-1a543a6775e4\",\"type\":\"GlyphRenderer\"},{\"id\":\"daba478d-84e0-46bc-99a5-92fedab2983d\",\"type\":\"GlyphRenderer\"},{\"id\":\"3514e822-7527-453d-9747-fd3c28dc269a\",\"type\":\"Legend\"},{\"id\":\"a4dc824d-cc8d-49c7-98ff-885f028cd1c8\",\"type\":\"CategoricalAxis\"},{\"id\":\"5b4d2280-e63c-4236-9f1c-39ba15177489\",\"type\":\"LinearAxis\"},{\"id\":\"5a89e43b-3091-404e-aa25-1884ba91d2a2\",\"type\":\"Grid\"}],\"title\":\"Python Interpreter Sampling\",\"title_text_font_size\":{\"value\":\"14pt\"},\"tool_events\":{\"id\":\"6f8e9c2c-a640-4d15-91b5-4d548fcd24f8\",\"type\":\"ToolEvents\"},\"tools\":[{\"id\":\"34d32e12-fcb7-413a-8c75-030a99d9d2e2\",\"type\":\"PanTool\"},{\"id\":\"23befe9d-137c-4f4c-befe-fc660950ad79\",\"type\":\"WheelZoomTool\"},{\"id\":\"ce0e6641-c798-4f39-834f-7cb2b439e1c9\",\"type\":\"BoxZoomTool\"},{\"id\":\"e7eff6e2-bae9-4f57-8124-43ebd89093ce\",\"type\":\"PreviewSaveTool\"},{\"id\":\"d3f32d8e-c2e5-4b31-8a74-23d951b1f62a\",\"type\":\"ResizeTool\"},{\"id\":\"74ca9ccb-8f3f-42aa-b7ec-eb06d3d18a86\",\"type\":\"ResetTool\"},{\"id\":\"bf04493a-0a44-4a98-aa8b-af7e1bf0bdd3\",\"type\":\"HelpTool\"}],\"x_mapper_type\":\"auto\",\"x_range\":{\"id\":\"2c9e887f-cdee-42a0-9461-e48906d991ee\",\"type\":\"FactorRange\"},\"xgrid\":false,\"xscale\":\"auto\",\"y_mapper_type\":\"auto\",\"y_range\":{\"id\":\"b0085a35-88d0-47ff-91ac-f47c391244e1\",\"type\":\"Range1d\"},\"yscale\":\"auto\"},\"id\":\"d6822298-866e-4493-8c93-b5ff36d9c882\",\"subtype\":\"Chart\",\"type\":\"Plot\"},{\"attributes\":{\"data_source\":{\"id\":\"e953a78c-9b8e-4105-8f01-15747311a3f0\",\"type\":\"ColumnDataSource\"},\"glyph\":{\"id\":\"ef9508ba-3034-4e10-8e7c-292ba864b404\",\"type\":\"Circle\"},\"hover_glyph\":null,\"nonselection_glyph\":null,\"selection_glyph\":null},\"id\":\"c3ba946a-5d28-4598-837a-e09bc7305255\",\"type\":\"GlyphRenderer\"},{\"attributes\":{\"dimension\":1,\"plot\":{\"id\":\"21a40375-1dd9-429c-b8dc-dc449d914668\",\"subtype\":\"Chart\",\"type\":\"Plot\"},\"ticker\":{\"id\":\"278385f4-4299-490e-abbc-4d6feef5928b\",\"type\":\"BasicTicker\"}},\"id\":\"620ef84e-3587-4a35-bca8-83ed40e09fa8\",\"type\":\"Grid\"},{\"attributes\":{\"plot\":{\"id\":\"d6822298-866e-4493-8c93-b5ff36d9c882\",\"subtype\":\"Chart\",\"type\":\"Plot\"}},\"id\":\"23befe9d-137c-4f4c-befe-fc660950ad79\",\"type\":\"WheelZoomTool\"},{\"attributes\":{\"fill_alpha\":{\"field\":\"fill_alpha\"},\"fill_color\":{\"value\":\"#f22c40\"},\"line_alpha\":{\"field\":\"line_alpha\"},\"line_color\":{\"value\":\"#f22c40\"},\"size\":{\"units\":\"screen\",\"value\":8},\"x\":{\"field\":\"x\"},\"y\":{\"field\":\"height\"}},\"id\":\"fb01c789-c862-492b-a8c1-60f4d382c9cb\",\"type\":\"Circle\"},{\"attributes\":{},\"id\":\"686652f1-1247-4ae6-85ec-dae29c5c7782\",\"type\":\"CategoricalTickFormatter\"},{\"attributes\":{},\"id\":\"27852b40-5c76-498d-97f3-b63b676feaff\",\"type\":\"CategoricalTicker\"},{\"attributes\":{\"plot\":{\"id\":\"21a40375-1dd9-429c-b8dc-dc449d914668\",\"subtype\":\"Chart\",\"type\":\"Plot\"}},\"id\":\"83860c1a-180f-452f-9e10-85adc82cdccb\",\"type\":\"ResizeTool\"},{\"attributes\":{\"fill_alpha\":{\"field\":\"fill_alpha\"},\"fill_color\":{\"value\":\"#5ab738\"},\"line_alpha\":{\"field\":\"line_alpha\"},\"line_color\":{\"value\":\"#f22c40\"},\"size\":{\"units\":\"screen\",\"value\":8},\"x\":{\"field\":\"x\"},\"y\":{\"field\":\"height\"}},\"id\":\"ce405d9b-d2ce-4478-978f-be1853e6b046\",\"type\":\"Circle\"},{\"attributes\":{\"data_source\":{\"id\":\"87a982eb-dc85-4daf-9e78-3234ab3c80de\",\"type\":\"ColumnDataSource\"},\"glyph\":{\"id\":\"0ad7bd2e-01e1-4055-9e7d-013053c8b588\",\"type\":\"Circle\"},\"hover_glyph\":null,\"nonselection_glyph\":null,\"selection_glyph\":null},\"id\":\"dbb0280d-ca6c-4880-8f8e-d4f60eb0d750\",\"type\":\"GlyphRenderer\"},{\"attributes\":{\"plot\":{\"id\":\"21a40375-1dd9-429c-b8dc-dc449d914668\",\"subtype\":\"Chart\",\"type\":\"Plot\"}},\"id\":\"d1a4b36d-93a7-4723-9098-47ea8f9f0cda\",\"type\":\"ResetTool\"},{\"attributes\":{},\"id\":\"356654e2-cc56-46d9-a52b-87ef9f2250a3\",\"type\":\"BasicTickFormatter\"},{\"attributes\":{\"callback\":null,\"column_names\":[\"fill_alpha\",\"line_color\",\"line_alpha\",\"width\",\"y\",\"x\",\"height\",\"color\"],\"data\":{\"chart_index\":[{\"interpreter\":\"python\",\"sample\":\"2nd\"}],\"color\":[\"#5ab738\"],\"fill_alpha\":[0.8],\"height\":[5.0],\"interpreter\":[\"python\"],\"line_alpha\":[1.0],\"line_color\":[\"#f22c40\"],\"sample\":[\"2nd\"],\"width\":[0.2],\"x\":[\"python:0.666666666667\"],\"y\":[2.5]}},\"id\":\"c63cae36-1e8e-4899-a99c-bcbe744b498f\",\"type\":\"ColumnDataSource\"},{\"attributes\":{\"callback\":null,\"end\":0.8400000000000001},\"id\":\"22cf0114-9f37-4262-b1b8-1e4f300da32a\",\"type\":\"Range1d\"},{\"attributes\":{\"fill_alpha\":{\"field\":\"fill_alpha\"},\"fill_color\":{\"value\":\"#f22c40\"},\"line_alpha\":{\"field\":\"line_alpha\"},\"line_color\":{\"value\":\"#f22c40\"},\"size\":{\"units\":\"screen\",\"value\":8},\"x\":{\"field\":\"x\"},\"y\":{\"field\":\"height\"}},\"id\":\"36dcd9e3-acf2-4615-9b6f-46bfe6200982\",\"type\":\"Circle\"},{\"attributes\":{\"plot\":{\"id\":\"21a40375-1dd9-429c-b8dc-dc449d914668\",\"subtype\":\"Chart\",\"type\":\"Plot\"}},\"id\":\"600a8e68-60b1-4001-959f-5bdc8d1fc7a0\",\"type\":\"PanTool\"},{\"attributes\":{\"fill_alpha\":{\"field\":\"fill_alpha\"},\"fill_color\":{\"value\":\"#f22c40\"},\"line_alpha\":{\"field\":\"line_alpha\"},\"line_color\":{\"value\":\"#f22c40\"},\"size\":{\"units\":\"screen\",\"value\":8},\"x\":{\"field\":\"x\"},\"y\":{\"field\":\"height\"}},\"id\":\"71cc24d8-5b12-4cb2-8174-69948af39e8d\",\"type\":\"Circle\"},{\"attributes\":{\"data_source\":{\"id\":\"fdcebb2e-be66-4d6f-b496-3269718d1185\",\"type\":\"ColumnDataSource\"},\"glyph\":{\"id\":\"fb01c789-c862-492b-a8c1-60f4d382c9cb\",\"type\":\"Circle\"},\"hover_glyph\":null,\"nonselection_glyph\":null,\"selection_glyph\":null},\"id\":\"40254292-278d-4ead-a20d-b5406e10cacb\",\"type\":\"GlyphRenderer\"},{\"attributes\":{\"data_source\":{\"id\":\"f6247879-57a3-4154-bdb9-c3a330ce54da\",\"type\":\"ColumnDataSource\"},\"glyph\":{\"id\":\"cf60831c-996a-4d29-b974-b5df0ecb03b2\",\"type\":\"Circle\"},\"hover_glyph\":null,\"nonselection_glyph\":null,\"selection_glyph\":null},\"id\":\"daba478d-84e0-46bc-99a5-92fedab2983d\",\"type\":\"GlyphRenderer\"},{\"attributes\":{\"callback\":null,\"column_names\":[\"fill_alpha\",\"line_color\",\"line_alpha\",\"width\",\"y\",\"x\",\"height\",\"color\"],\"data\":{\"chart_index\":[{\"rep\":\"0\",\"sample_sizes\":\"750\"}],\"color\":[\"#f22c40\"],\"fill_alpha\":[0.8],\"height\":[0.6],\"line_alpha\":[1.0],\"line_color\":[\"#f22c40\"],\"rep\":[\"0\"],\"sample_sizes\":[\"750\"],\"width\":[0.2],\"x\":[\"750:0.5\"],\"y\":[0.3]}},\"id\":\"76027c4f-3e34-4eea-94fb-f22b0dd20abd\",\"type\":\"ColumnDataSource\"},{\"attributes\":{\"callback\":null,\"column_names\":[\"fill_alpha\",\"line_color\",\"line_alpha\",\"width\",\"y\",\"x\",\"height\",\"color\"],\"data\":{\"chart_index\":[{\"interpreter\":\"jython\",\"sample\":\"2nd\"}],\"color\":[\"#5ab738\"],\"fill_alpha\":[0.8],\"height\":[30.0],\"interpreter\":[\"jython\"],\"line_alpha\":[1.0],\"line_color\":[\"#f22c40\"],\"sample\":[\"2nd\"],\"width\":[0.2],\"x\":[\"jython:0.666666666667\"],\"y\":[15.0]}},\"id\":\"f6247879-57a3-4154-bdb9-c3a330ce54da\",\"type\":\"ColumnDataSource\"},{\"attributes\":{\"axis_label\":\"Sample_Sizes\",\"formatter\":{\"id\":\"1f63775d-4801-447d-9c2e-41dafe0fe67d\",\"type\":\"CategoricalTickFormatter\"},\"major_label_orientation\":0.7853981633974483,\"plot\":{\"id\":\"21a40375-1dd9-429c-b8dc-dc449d914668\",\"subtype\":\"Chart\",\"type\":\"Plot\"},\"ticker\":{\"id\":\"5f168d97-a01c-437b-b627-a41aec24768c\",\"type\":\"CategoricalTicker\"}},\"id\":\"d984eb34-7672-45b6-9151-162332f868de\",\"type\":\"CategoricalAxis\"},{\"attributes\":{\"fill_alpha\":{\"field\":\"fill_alpha\"},\"fill_color\":{\"value\":\"#5ab738\"},\"line_alpha\":{\"field\":\"line_alpha\"},\"line_color\":{\"value\":\"#f22c40\"},\"size\":{\"units\":\"screen\",\"value\":8},\"x\":{\"field\":\"x\"},\"y\":{\"field\":\"height\"}},\"id\":\"cf60831c-996a-4d29-b974-b5df0ecb03b2\",\"type\":\"Circle\"},{\"attributes\":{\"plot\":{\"id\":\"d6822298-866e-4493-8c93-b5ff36d9c882\",\"subtype\":\"Chart\",\"type\":\"Plot\"}},\"id\":\"74ca9ccb-8f3f-42aa-b7ec-eb06d3d18a86\",\"type\":\"ResetTool\"},{\"attributes\":{\"legends\":[[\"1st\",[{\"id\":\"dbb0280d-ca6c-4880-8f8e-d4f60eb0d750\",\"type\":\"GlyphRenderer\"}]],[\"2nd\",[{\"id\":\"ae95f629-5358-485f-9427-923327640c1f\",\"type\":\"GlyphRenderer\"}]]],\"plot\":{\"id\":\"d6822298-866e-4493-8c93-b5ff36d9c882\",\"subtype\":\"Chart\",\"type\":\"Plot\"}},\"id\":\"3514e822-7527-453d-9747-fd3c28dc269a\",\"type\":\"Legend\"}],\"root_ids\":[\"d6822298-866e-4493-8c93-b5ff36d9c882\",\"21a40375-1dd9-429c-b8dc-dc449d914668\"]},\"title\":\"Bokeh Application\",\"version\":\"0.11.1\"}};\n",
       "            var render_items = [{\"docid\":\"d2b8f075-9792-4e12-81e3-ed5af257e4f2\",\"elementid\":\"29ce718f-b0e0-43d7-8e6c-05f7582f0643\",\"modelid\":\"d6822298-866e-4493-8c93-b5ff36d9c882\",\"notebook_comms_target\":\"4768217a-e8d0-4e58-8278-37b6eb6b7600\"}];\n",
       "            \n",
       "            Bokeh.embed.embed_items(docs_json, render_items);\n",
       "        });\n",
       "      },\n",
       "      function(Bokeh) {\n",
       "      }\n",
       "    ];\n",
       "  \n",
       "    function run_inline_js() {\n",
       "      for (var i = 0; i < inline_js.length; i++) {\n",
       "        inline_js[i](window.Bokeh);\n",
       "      }\n",
       "    }\n",
       "  \n",
       "    if (window._bokeh_is_loading === 0) {\n",
       "      console.log(\"Bokeh: BokehJS loaded, going straight to plotting\");\n",
       "      run_inline_js();\n",
       "    } else {\n",
       "      load_libs(js_urls, function() {\n",
       "        console.log(\"Bokeh: BokehJS plotting callback run at\", now());\n",
       "        run_inline_js();\n",
       "      });\n",
       "    }\n",
       "  }(this));\n",
       "</script>"
      ]
     },
     "metadata": {},
     "output_type": "display_data"
    },
    {
     "data": {
      "text/html": [
       "<p><code>&lt;Bokeh Notebook handle for <strong>In[4]</strong>&gt;</code></p>"
      ],
      "text/plain": [
       "<bokeh.io._CommsHandle at 0x8bcca58>"
      ]
     },
     "execution_count": 4,
     "metadata": {},
     "output_type": "execute_result"
    }
   ],
   "source": [
    "output_file(\"dots.html\", title=\"dots.py example\")\n",
    "\n",
    "show(dots)"
   ]
  },
  {
   "cell_type": "code",
   "execution_count": null,
   "metadata": {
    "collapsed": true
   },
   "outputs": [],
   "source": []
  },
  {
   "cell_type": "code",
   "execution_count": null,
   "metadata": {
    "collapsed": true
   },
   "outputs": [],
   "source": []
  },
  {
   "cell_type": "code",
   "execution_count": 5,
   "metadata": {
    "collapsed": false
   },
   "outputs": [
    {
     "data": {
      "text/html": [
       "\n",
       "\n",
       "    <div class=\"plotdiv\" id=\"8df8100b-c1e0-4a31-9e50-5004e0ee794b\"></div>\n",
       "<script type=\"text/javascript\">\n",
       "  \n",
       "  (function(global) {\n",
       "    function now() {\n",
       "      return new Date();\n",
       "    }\n",
       "  \n",
       "    if (typeof (window._bokeh_onload_callbacks) === \"undefined\") {\n",
       "      window._bokeh_onload_callbacks = [];\n",
       "    }\n",
       "  \n",
       "    function run_callbacks() {\n",
       "      window._bokeh_onload_callbacks.forEach(function(callback) { callback() });\n",
       "      delete window._bokeh_onload_callbacks\n",
       "      console.info(\"Bokeh: all callbacks have finished\");\n",
       "    }\n",
       "  \n",
       "    function load_libs(js_urls, callback) {\n",
       "      window._bokeh_onload_callbacks.push(callback);\n",
       "      if (window._bokeh_is_loading > 0) {\n",
       "        console.log(\"Bokeh: BokehJS is being loaded, scheduling callback at\", now());\n",
       "        return null;\n",
       "      }\n",
       "      if (js_urls == null || js_urls.length === 0) {\n",
       "        run_callbacks();\n",
       "        return null;\n",
       "      }\n",
       "      console.log(\"Bokeh: BokehJS not loaded, scheduling load and callback at\", now());\n",
       "      window._bokeh_is_loading = js_urls.length;\n",
       "      for (var i = 0; i < js_urls.length; i++) {\n",
       "        var url = js_urls[i];\n",
       "        var s = document.createElement('script');\n",
       "        s.src = url;\n",
       "        s.async = false;\n",
       "        s.onreadystatechange = s.onload = function() {\n",
       "          window._bokeh_is_loading--;\n",
       "          if (window._bokeh_is_loading === 0) {\n",
       "            console.log(\"Bokeh: all BokehJS libraries loaded\");\n",
       "            run_callbacks()\n",
       "          }\n",
       "        };\n",
       "        s.onerror = function() {\n",
       "          console.warn(\"failed to load library \" + url);\n",
       "        };\n",
       "        console.log(\"Bokeh: injecting script tag for BokehJS library: \", url);\n",
       "        document.getElementsByTagName(\"head\")[0].appendChild(s);\n",
       "      }\n",
       "    };var element = document.getElementById(\"8df8100b-c1e0-4a31-9e50-5004e0ee794b\");\n",
       "    if (element == null) {\n",
       "      console.log(\"Bokeh: ERROR: autoload.js configured with elementid '8df8100b-c1e0-4a31-9e50-5004e0ee794b' but no matching script tag was found. \")\n",
       "      return false;\n",
       "    }\n",
       "  \n",
       "    var js_urls = [];\n",
       "  \n",
       "    var inline_js = [\n",
       "      function(Bokeh) {\n",
       "        Bokeh.$(function() {\n",
       "            var docs_json = {\"fe60d5de-7fa3-4b14-90b4-b499f0886616\":{\"roots\":{\"references\":[{\"attributes\":{\"fill_alpha\":{\"field\":\"fill_alpha\"},\"fill_color\":{\"value\":\"#f22c40\"},\"line_alpha\":{\"field\":\"line_alpha\"},\"line_color\":{\"value\":\"#f22c40\"},\"size\":{\"units\":\"screen\",\"value\":8},\"x\":{\"field\":\"x\"},\"y\":{\"field\":\"height\"}},\"id\":\"effc22cc-bce5-403b-b6aa-f473fc2942d7\",\"type\":\"Circle\"},{\"attributes\":{\"callback\":null,\"column_names\":[\"fill_alpha\",\"line_color\",\"line_alpha\",\"width\",\"y\",\"x\",\"height\",\"color\"],\"data\":{\"chart_index\":[{\"rep\":\"0\",\"sample_sizes\":\"250\"}],\"color\":[\"#f22c40\"],\"fill_alpha\":[0.8],\"height\":[0.2],\"line_alpha\":[1.0],\"line_color\":[\"#f22c40\"],\"rep\":[\"0\"],\"sample_sizes\":[\"250\"],\"width\":[0.2],\"x\":[\"250:0.5\"],\"y\":[0.1]}},\"id\":\"f0b01762-ac0a-40ed-b7e9-17dcedb170e4\",\"type\":\"ColumnDataSource\"},{\"attributes\":{\"below\":[{\"id\":\"d984eb34-7672-45b6-9151-162332f868de\",\"type\":\"CategoricalAxis\"}],\"left\":[{\"id\":\"02a22fc9-bfa0-4cda-bf40-0d8a74781870\",\"type\":\"LinearAxis\"}],\"legend\":\"top_right\",\"renderers\":[{\"id\":\"71770e27-99ac-4474-8f38-38facd39c440\",\"type\":\"BoxAnnotation\"},{\"id\":\"b1d062a2-82ca-4f41-bcb6-7f49cd6ecfa2\",\"type\":\"GlyphRenderer\"},{\"id\":\"40254292-278d-4ead-a20d-b5406e10cacb\",\"type\":\"GlyphRenderer\"},{\"id\":\"4d8b9685-ab2b-44d4-b619-3e50deb4d3e7\",\"type\":\"GlyphRenderer\"},{\"id\":\"55d09ac5-1a68-4802-8dde-6d7d26f68948\",\"type\":\"GlyphRenderer\"},{\"id\":\"47b0d0b8-9aca-4069-ae9f-102f87fd40ae\",\"type\":\"Legend\"},{\"id\":\"d984eb34-7672-45b6-9151-162332f868de\",\"type\":\"CategoricalAxis\"},{\"id\":\"02a22fc9-bfa0-4cda-bf40-0d8a74781870\",\"type\":\"LinearAxis\"},{\"id\":\"620ef84e-3587-4a35-bca8-83ed40e09fa8\",\"type\":\"Grid\"}],\"title\":\"First Bokeh Dot PLot\",\"title_text_font_size\":{\"value\":\"14pt\"},\"tool_events\":{\"id\":\"abf7222e-1f9e-4c6a-bf11-e6b656ff7336\",\"type\":\"ToolEvents\"},\"tools\":[{\"id\":\"600a8e68-60b1-4001-959f-5bdc8d1fc7a0\",\"type\":\"PanTool\"},{\"id\":\"a7853d4b-100f-414e-add1-2281db76203d\",\"type\":\"WheelZoomTool\"},{\"id\":\"8a5a8459-b247-46e0-93ef-bdf96e504fd6\",\"type\":\"BoxZoomTool\"},{\"id\":\"72a2d32b-c2ed-454f-b772-9b094518934b\",\"type\":\"PreviewSaveTool\"},{\"id\":\"83860c1a-180f-452f-9e10-85adc82cdccb\",\"type\":\"ResizeTool\"},{\"id\":\"d1a4b36d-93a7-4723-9098-47ea8f9f0cda\",\"type\":\"ResetTool\"},{\"id\":\"c4ff3c5b-74d3-420f-a153-9810bd3dd0e2\",\"type\":\"HelpTool\"}],\"x_mapper_type\":\"auto\",\"x_range\":{\"id\":\"7fc01c10-1506-4bbe-96d3-b6d98344cb55\",\"type\":\"FactorRange\"},\"xgrid\":false,\"xscale\":\"auto\",\"y_mapper_type\":\"auto\",\"y_range\":{\"id\":\"22cf0114-9f37-4262-b1b8-1e4f300da32a\",\"type\":\"Range1d\"},\"yscale\":\"auto\"},\"id\":\"21a40375-1dd9-429c-b8dc-dc449d914668\",\"subtype\":\"Chart\",\"type\":\"Plot\"},{\"attributes\":{\"data_source\":{\"id\":\"eab28995-767b-4591-a54b-f60684e65e1b\",\"type\":\"ColumnDataSource\"},\"glyph\":{\"id\":\"effc22cc-bce5-403b-b6aa-f473fc2942d7\",\"type\":\"Circle\"},\"hover_glyph\":null,\"nonselection_glyph\":null,\"selection_glyph\":null},\"id\":\"55d09ac5-1a68-4802-8dde-6d7d26f68948\",\"type\":\"GlyphRenderer\"},{\"attributes\":{\"callback\":null,\"factors\":[\"1000\",\"250\",\"500\",\"750\"]},\"id\":\"7fc01c10-1506-4bbe-96d3-b6d98344cb55\",\"type\":\"FactorRange\"},{\"attributes\":{\"bottom_units\":\"screen\",\"fill_alpha\":{\"value\":0.5},\"fill_color\":{\"value\":\"lightgrey\"},\"left_units\":\"screen\",\"level\":\"overlay\",\"line_alpha\":{\"value\":1.0},\"line_color\":{\"value\":\"black\"},\"line_dash\":[4,4],\"line_width\":{\"value\":2},\"plot\":null,\"render_mode\":\"css\",\"right_units\":\"screen\",\"top_units\":\"screen\"},\"id\":\"db62a6e7-015f-49b5-b3bc-58bbd3d48da0\",\"type\":\"BoxAnnotation\"},{\"attributes\":{\"callback\":null,\"column_names\":[\"fill_alpha\",\"line_color\",\"line_alpha\",\"width\",\"y\",\"x\",\"height\",\"color\"],\"data\":{\"chart_index\":[{\"interpreter\":\"python\",\"sample\":\"1st\"}],\"color\":[\"#f22c40\"],\"fill_alpha\":[0.8],\"height\":[-2.0],\"interpreter\":[\"python\"],\"line_alpha\":[1.0],\"line_color\":[\"#f22c40\"],\"sample\":[\"1st\"],\"width\":[0.2],\"x\":[\"python:0.333333333333\"],\"y\":[-1.0]}},\"id\":\"87a982eb-dc85-4daf-9e78-3234ab3c80de\",\"type\":\"ColumnDataSource\"},{\"attributes\":{\"data_source\":{\"id\":\"c63cae36-1e8e-4899-a99c-bcbe744b498f\",\"type\":\"ColumnDataSource\"},\"glyph\":{\"id\":\"17eafc1b-9b23-433c-b64e-7af026d2a032\",\"type\":\"Circle\"},\"hover_glyph\":null,\"nonselection_glyph\":null,\"selection_glyph\":null},\"id\":\"ae95f629-5358-485f-9427-923327640c1f\",\"type\":\"GlyphRenderer\"},{\"attributes\":{\"data_source\":{\"id\":\"998c1a33-e44b-4d34-8b77-c3bd39f83a2f\",\"type\":\"ColumnDataSource\"},\"glyph\":{\"id\":\"36dcd9e3-acf2-4615-9b6f-46bfe6200982\",\"type\":\"Circle\"},\"hover_glyph\":null,\"nonselection_glyph\":null,\"selection_glyph\":null},\"id\":\"0880aeef-4c30-4210-acac-1a543a6775e4\",\"type\":\"GlyphRenderer\"},{\"attributes\":{\"overlay\":{\"id\":\"71770e27-99ac-4474-8f38-38facd39c440\",\"type\":\"BoxAnnotation\"},\"plot\":{\"id\":\"21a40375-1dd9-429c-b8dc-dc449d914668\",\"subtype\":\"Chart\",\"type\":\"Plot\"}},\"id\":\"8a5a8459-b247-46e0-93ef-bdf96e504fd6\",\"type\":\"BoxZoomTool\"},{\"attributes\":{\"plot\":{\"id\":\"d6822298-866e-4493-8c93-b5ff36d9c882\",\"subtype\":\"Chart\",\"type\":\"Plot\"}},\"id\":\"e7eff6e2-bae9-4f57-8124-43ebd89093ce\",\"type\":\"PreviewSaveTool\"},{\"attributes\":{},\"id\":\"61a4626e-f709-4468-926d-3b08f6c5c88f\",\"type\":\"BasicTickFormatter\"},{\"attributes\":{\"plot\":{\"id\":\"21a40375-1dd9-429c-b8dc-dc449d914668\",\"subtype\":\"Chart\",\"type\":\"Plot\"}},\"id\":\"c4ff3c5b-74d3-420f-a153-9810bd3dd0e2\",\"type\":\"HelpTool\"},{\"attributes\":{\"callback\":null,\"end\":41.9,\"start\":-3.9000000000000004},\"id\":\"b0085a35-88d0-47ff-91ac-f47c391244e1\",\"type\":\"Range1d\"},{\"attributes\":{\"fill_alpha\":{\"field\":\"fill_alpha\"},\"fill_color\":{\"value\":\"#f22c40\"},\"line_alpha\":{\"field\":\"line_alpha\"},\"line_color\":{\"value\":\"#f22c40\"},\"size\":{\"units\":\"screen\",\"value\":8},\"x\":{\"field\":\"x\"},\"y\":{\"field\":\"height\"}},\"id\":\"ef9508ba-3034-4e10-8e7c-292ba864b404\",\"type\":\"Circle\"},{\"attributes\":{},\"id\":\"1f63775d-4801-447d-9c2e-41dafe0fe67d\",\"type\":\"CategoricalTickFormatter\"},{\"attributes\":{\"overlay\":{\"id\":\"db62a6e7-015f-49b5-b3bc-58bbd3d48da0\",\"type\":\"BoxAnnotation\"},\"plot\":{\"id\":\"d6822298-866e-4493-8c93-b5ff36d9c882\",\"subtype\":\"Chart\",\"type\":\"Plot\"}},\"id\":\"ce0e6641-c798-4f39-834f-7cb2b439e1c9\",\"type\":\"BoxZoomTool\"},{\"attributes\":{\"plot\":{\"id\":\"d6822298-866e-4493-8c93-b5ff36d9c882\",\"subtype\":\"Chart\",\"type\":\"Plot\"}},\"id\":\"bf04493a-0a44-4a98-aa8b-af7e1bf0bdd3\",\"type\":\"HelpTool\"},{\"attributes\":{},\"id\":\"fb49b636-830c-4da0-86b3-779dcbb665dc\",\"type\":\"BasicTicker\"},{\"attributes\":{\"legends\":[[\"0\",[{\"id\":\"b1d062a2-82ca-4f41-bcb6-7f49cd6ecfa2\",\"type\":\"GlyphRenderer\"}]]],\"plot\":{\"id\":\"21a40375-1dd9-429c-b8dc-dc449d914668\",\"subtype\":\"Chart\",\"type\":\"Plot\"}},\"id\":\"47b0d0b8-9aca-4069-ae9f-102f87fd40ae\",\"type\":\"Legend\"},{\"attributes\":{\"data_source\":{\"id\":\"76027c4f-3e34-4eea-94fb-f22b0dd20abd\",\"type\":\"ColumnDataSource\"},\"glyph\":{\"id\":\"bf822bcb-0ebf-4faa-8945-c81a823613a3\",\"type\":\"Circle\"},\"hover_glyph\":null,\"nonselection_glyph\":null,\"selection_glyph\":null},\"id\":\"4d8b9685-ab2b-44d4-b619-3e50deb4d3e7\",\"type\":\"GlyphRenderer\"},{\"attributes\":{\"callback\":null,\"factors\":[\"jython\",\"pypy\",\"python\"]},\"id\":\"2c9e887f-cdee-42a0-9461-e48906d991ee\",\"type\":\"FactorRange\"},{\"attributes\":{\"dimension\":1,\"plot\":{\"id\":\"d6822298-866e-4493-8c93-b5ff36d9c882\",\"subtype\":\"Chart\",\"type\":\"Plot\"},\"ticker\":{\"id\":\"fb49b636-830c-4da0-86b3-779dcbb665dc\",\"type\":\"BasicTicker\"}},\"id\":\"5a89e43b-3091-404e-aa25-1884ba91d2a2\",\"type\":\"Grid\"},{\"attributes\":{\"plot\":{\"id\":\"21a40375-1dd9-429c-b8dc-dc449d914668\",\"subtype\":\"Chart\",\"type\":\"Plot\"}},\"id\":\"72a2d32b-c2ed-454f-b772-9b094518934b\",\"type\":\"PreviewSaveTool\"},{\"attributes\":{\"plot\":{\"id\":\"d6822298-866e-4493-8c93-b5ff36d9c882\",\"subtype\":\"Chart\",\"type\":\"Plot\"}},\"id\":\"34d32e12-fcb7-413a-8c75-030a99d9d2e2\",\"type\":\"PanTool\"},{\"attributes\":{\"callback\":null,\"column_names\":[\"fill_alpha\",\"line_color\",\"line_alpha\",\"width\",\"y\",\"x\",\"height\",\"color\"],\"data\":{\"chart_index\":[{\"interpreter\":\"pypy\",\"sample\":\"1st\"}],\"color\":[\"#f22c40\"],\"fill_alpha\":[0.8],\"height\":[12.0],\"interpreter\":[\"pypy\"],\"line_alpha\":[1.0],\"line_color\":[\"#f22c40\"],\"sample\":[\"1st\"],\"width\":[0.2],\"x\":[\"pypy:0.333333333333\"],\"y\":[6.0]}},\"id\":\"e953a78c-9b8e-4105-8f01-15747311a3f0\",\"type\":\"ColumnDataSource\"},{\"attributes\":{\"axis_label\":\"Interpreter\",\"formatter\":{\"id\":\"686652f1-1247-4ae6-85ec-dae29c5c7782\",\"type\":\"CategoricalTickFormatter\"},\"major_label_orientation\":0.7853981633974483,\"plot\":{\"id\":\"d6822298-866e-4493-8c93-b5ff36d9c882\",\"subtype\":\"Chart\",\"type\":\"Plot\"},\"ticker\":{\"id\":\"27852b40-5c76-498d-97f3-b63b676feaff\",\"type\":\"CategoricalTicker\"}},\"id\":\"a4dc824d-cc8d-49c7-98ff-885f028cd1c8\",\"type\":\"CategoricalAxis\"},{\"attributes\":{\"axis_label\":\"Mean( Power )\",\"formatter\":{\"id\":\"61a4626e-f709-4468-926d-3b08f6c5c88f\",\"type\":\"BasicTickFormatter\"},\"plot\":{\"id\":\"21a40375-1dd9-429c-b8dc-dc449d914668\",\"subtype\":\"Chart\",\"type\":\"Plot\"},\"ticker\":{\"id\":\"278385f4-4299-490e-abbc-4d6feef5928b\",\"type\":\"BasicTicker\"}},\"id\":\"02a22fc9-bfa0-4cda-bf40-0d8a74781870\",\"type\":\"LinearAxis\"},{\"attributes\":{\"axis_label\":\"Mean( Timing )\",\"formatter\":{\"id\":\"356654e2-cc56-46d9-a52b-87ef9f2250a3\",\"type\":\"BasicTickFormatter\"},\"plot\":{\"id\":\"d6822298-866e-4493-8c93-b5ff36d9c882\",\"subtype\":\"Chart\",\"type\":\"Plot\"},\"ticker\":{\"id\":\"fb49b636-830c-4da0-86b3-779dcbb665dc\",\"type\":\"BasicTicker\"}},\"id\":\"5b4d2280-e63c-4236-9f1c-39ba15177489\",\"type\":\"LinearAxis\"},{\"attributes\":{\"fill_alpha\":{\"field\":\"fill_alpha\"},\"fill_color\":{\"value\":\"#f22c40\"},\"line_alpha\":{\"field\":\"line_alpha\"},\"line_color\":{\"value\":\"#f22c40\"},\"size\":{\"units\":\"screen\",\"value\":8},\"x\":{\"field\":\"x\"},\"y\":{\"field\":\"height\"}},\"id\":\"0ad7bd2e-01e1-4055-9e7d-013053c8b588\",\"type\":\"Circle\"},{\"attributes\":{\"callback\":null,\"column_names\":[\"fill_alpha\",\"line_color\",\"line_alpha\",\"width\",\"y\",\"x\",\"height\",\"color\"],\"data\":{\"chart_index\":[{\"rep\":\"0\",\"sample_sizes\":\"1000\"}],\"color\":[\"#f22c40\"],\"fill_alpha\":[0.8],\"height\":[0.8],\"line_alpha\":[1.0],\"line_color\":[\"#f22c40\"],\"rep\":[\"0\"],\"sample_sizes\":[\"1000\"],\"width\":[0.2],\"x\":[\"1000:0.5\"],\"y\":[0.4]}},\"id\":\"eab28995-767b-4591-a54b-f60684e65e1b\",\"type\":\"ColumnDataSource\"},{\"attributes\":{\"data_source\":{\"id\":\"f0b01762-ac0a-40ed-b7e9-17dcedb170e4\",\"type\":\"ColumnDataSource\"},\"glyph\":{\"id\":\"71cc24d8-5b12-4cb2-8174-69948af39e8d\",\"type\":\"Circle\"},\"hover_glyph\":null,\"nonselection_glyph\":null,\"selection_glyph\":null},\"id\":\"b1d062a2-82ca-4f41-bcb6-7f49cd6ecfa2\",\"type\":\"GlyphRenderer\"},{\"attributes\":{\"callback\":null,\"column_names\":[\"fill_alpha\",\"line_color\",\"line_alpha\",\"width\",\"y\",\"x\",\"height\",\"color\"],\"data\":{\"chart_index\":[{\"rep\":\"0\",\"sample_sizes\":\"500\"}],\"color\":[\"#f22c40\"],\"fill_alpha\":[0.8],\"height\":[0.4],\"line_alpha\":[1.0],\"line_color\":[\"#f22c40\"],\"rep\":[\"0\"],\"sample_sizes\":[\"500\"],\"width\":[0.2],\"x\":[\"500:0.5\"],\"y\":[0.2]}},\"id\":\"fdcebb2e-be66-4d6f-b496-3269718d1185\",\"type\":\"ColumnDataSource\"},{\"attributes\":{\"data_source\":{\"id\":\"5ff5952f-6f20-4471-a3ca-408f8d6802ae\",\"type\":\"ColumnDataSource\"},\"glyph\":{\"id\":\"ce405d9b-d2ce-4478-978f-be1853e6b046\",\"type\":\"Circle\"},\"hover_glyph\":null,\"nonselection_glyph\":null,\"selection_glyph\":null},\"id\":\"e9aaa695-d043-4834-bdf9-09d4b9e64d20\",\"type\":\"GlyphRenderer\"},{\"attributes\":{},\"id\":\"6f8e9c2c-a640-4d15-91b5-4d548fcd24f8\",\"type\":\"ToolEvents\"},{\"attributes\":{\"callback\":null,\"column_names\":[\"fill_alpha\",\"line_color\",\"line_alpha\",\"width\",\"y\",\"x\",\"height\",\"color\"],\"data\":{\"chart_index\":[{\"interpreter\":\"pypy\",\"sample\":\"2nd\"}],\"color\":[\"#5ab738\"],\"fill_alpha\":[0.8],\"height\":[40.0],\"interpreter\":[\"pypy\"],\"line_alpha\":[1.0],\"line_color\":[\"#f22c40\"],\"sample\":[\"2nd\"],\"width\":[0.2],\"x\":[\"pypy:0.666666666667\"],\"y\":[20.0]}},\"id\":\"5ff5952f-6f20-4471-a3ca-408f8d6802ae\",\"type\":\"ColumnDataSource\"},{\"attributes\":{\"fill_alpha\":{\"field\":\"fill_alpha\"},\"fill_color\":{\"value\":\"#f22c40\"},\"line_alpha\":{\"field\":\"line_alpha\"},\"line_color\":{\"value\":\"#f22c40\"},\"size\":{\"units\":\"screen\",\"value\":8},\"x\":{\"field\":\"x\"},\"y\":{\"field\":\"height\"}},\"id\":\"bf822bcb-0ebf-4faa-8945-c81a823613a3\",\"type\":\"Circle\"},{\"attributes\":{},\"id\":\"5f168d97-a01c-437b-b627-a41aec24768c\",\"type\":\"CategoricalTicker\"},{\"attributes\":{},\"id\":\"278385f4-4299-490e-abbc-4d6feef5928b\",\"type\":\"BasicTicker\"},{\"attributes\":{\"bottom_units\":\"screen\",\"fill_alpha\":{\"value\":0.5},\"fill_color\":{\"value\":\"lightgrey\"},\"left_units\":\"screen\",\"level\":\"overlay\",\"line_alpha\":{\"value\":1.0},\"line_color\":{\"value\":\"black\"},\"line_dash\":[4,4],\"line_width\":{\"value\":2},\"plot\":null,\"render_mode\":\"css\",\"right_units\":\"screen\",\"top_units\":\"screen\"},\"id\":\"71770e27-99ac-4474-8f38-38facd39c440\",\"type\":\"BoxAnnotation\"},{\"attributes\":{\"fill_alpha\":{\"field\":\"fill_alpha\"},\"fill_color\":{\"value\":\"#5ab738\"},\"line_alpha\":{\"field\":\"line_alpha\"},\"line_color\":{\"value\":\"#f22c40\"},\"size\":{\"units\":\"screen\",\"value\":8},\"x\":{\"field\":\"x\"},\"y\":{\"field\":\"height\"}},\"id\":\"17eafc1b-9b23-433c-b64e-7af026d2a032\",\"type\":\"Circle\"},{\"attributes\":{\"plot\":{\"id\":\"21a40375-1dd9-429c-b8dc-dc449d914668\",\"subtype\":\"Chart\",\"type\":\"Plot\"}},\"id\":\"a7853d4b-100f-414e-add1-2281db76203d\",\"type\":\"WheelZoomTool\"},{\"attributes\":{\"plot\":{\"id\":\"d6822298-866e-4493-8c93-b5ff36d9c882\",\"subtype\":\"Chart\",\"type\":\"Plot\"}},\"id\":\"d3f32d8e-c2e5-4b31-8a74-23d951b1f62a\",\"type\":\"ResizeTool\"},{\"attributes\":{},\"id\":\"abf7222e-1f9e-4c6a-bf11-e6b656ff7336\",\"type\":\"ToolEvents\"},{\"attributes\":{\"callback\":null,\"column_names\":[\"fill_alpha\",\"line_color\",\"line_alpha\",\"width\",\"y\",\"x\",\"height\",\"color\"],\"data\":{\"chart_index\":[{\"interpreter\":\"jython\",\"sample\":\"1st\"}],\"color\":[\"#f22c40\"],\"fill_alpha\":[0.8],\"height\":[22.0],\"interpreter\":[\"jython\"],\"line_alpha\":[1.0],\"line_color\":[\"#f22c40\"],\"sample\":[\"1st\"],\"width\":[0.2],\"x\":[\"jython:0.333333333333\"],\"y\":[11.0]}},\"id\":\"998c1a33-e44b-4d34-8b77-c3bd39f83a2f\",\"type\":\"ColumnDataSource\"},{\"attributes\":{\"below\":[{\"id\":\"a4dc824d-cc8d-49c7-98ff-885f028cd1c8\",\"type\":\"CategoricalAxis\"}],\"left\":[{\"id\":\"5b4d2280-e63c-4236-9f1c-39ba15177489\",\"type\":\"LinearAxis\"}],\"legend\":\"top_right\",\"renderers\":[{\"id\":\"db62a6e7-015f-49b5-b3bc-58bbd3d48da0\",\"type\":\"BoxAnnotation\"},{\"id\":\"dbb0280d-ca6c-4880-8f8e-d4f60eb0d750\",\"type\":\"GlyphRenderer\"},{\"id\":\"ae95f629-5358-485f-9427-923327640c1f\",\"type\":\"GlyphRenderer\"},{\"id\":\"c3ba946a-5d28-4598-837a-e09bc7305255\",\"type\":\"GlyphRenderer\"},{\"id\":\"e9aaa695-d043-4834-bdf9-09d4b9e64d20\",\"type\":\"GlyphRenderer\"},{\"id\":\"0880aeef-4c30-4210-acac-1a543a6775e4\",\"type\":\"GlyphRenderer\"},{\"id\":\"daba478d-84e0-46bc-99a5-92fedab2983d\",\"type\":\"GlyphRenderer\"},{\"id\":\"3514e822-7527-453d-9747-fd3c28dc269a\",\"type\":\"Legend\"},{\"id\":\"a4dc824d-cc8d-49c7-98ff-885f028cd1c8\",\"type\":\"CategoricalAxis\"},{\"id\":\"5b4d2280-e63c-4236-9f1c-39ba15177489\",\"type\":\"LinearAxis\"},{\"id\":\"5a89e43b-3091-404e-aa25-1884ba91d2a2\",\"type\":\"Grid\"}],\"title\":\"Python Interpreter Sampling\",\"title_text_font_size\":{\"value\":\"14pt\"},\"tool_events\":{\"id\":\"6f8e9c2c-a640-4d15-91b5-4d548fcd24f8\",\"type\":\"ToolEvents\"},\"tools\":[{\"id\":\"34d32e12-fcb7-413a-8c75-030a99d9d2e2\",\"type\":\"PanTool\"},{\"id\":\"23befe9d-137c-4f4c-befe-fc660950ad79\",\"type\":\"WheelZoomTool\"},{\"id\":\"ce0e6641-c798-4f39-834f-7cb2b439e1c9\",\"type\":\"BoxZoomTool\"},{\"id\":\"e7eff6e2-bae9-4f57-8124-43ebd89093ce\",\"type\":\"PreviewSaveTool\"},{\"id\":\"d3f32d8e-c2e5-4b31-8a74-23d951b1f62a\",\"type\":\"ResizeTool\"},{\"id\":\"74ca9ccb-8f3f-42aa-b7ec-eb06d3d18a86\",\"type\":\"ResetTool\"},{\"id\":\"bf04493a-0a44-4a98-aa8b-af7e1bf0bdd3\",\"type\":\"HelpTool\"}],\"x_mapper_type\":\"auto\",\"x_range\":{\"id\":\"2c9e887f-cdee-42a0-9461-e48906d991ee\",\"type\":\"FactorRange\"},\"xgrid\":false,\"xscale\":\"auto\",\"y_mapper_type\":\"auto\",\"y_range\":{\"id\":\"b0085a35-88d0-47ff-91ac-f47c391244e1\",\"type\":\"Range1d\"},\"yscale\":\"auto\"},\"id\":\"d6822298-866e-4493-8c93-b5ff36d9c882\",\"subtype\":\"Chart\",\"type\":\"Plot\"},{\"attributes\":{\"data_source\":{\"id\":\"e953a78c-9b8e-4105-8f01-15747311a3f0\",\"type\":\"ColumnDataSource\"},\"glyph\":{\"id\":\"ef9508ba-3034-4e10-8e7c-292ba864b404\",\"type\":\"Circle\"},\"hover_glyph\":null,\"nonselection_glyph\":null,\"selection_glyph\":null},\"id\":\"c3ba946a-5d28-4598-837a-e09bc7305255\",\"type\":\"GlyphRenderer\"},{\"attributes\":{\"dimension\":1,\"plot\":{\"id\":\"21a40375-1dd9-429c-b8dc-dc449d914668\",\"subtype\":\"Chart\",\"type\":\"Plot\"},\"ticker\":{\"id\":\"278385f4-4299-490e-abbc-4d6feef5928b\",\"type\":\"BasicTicker\"}},\"id\":\"620ef84e-3587-4a35-bca8-83ed40e09fa8\",\"type\":\"Grid\"},{\"attributes\":{\"plot\":{\"id\":\"d6822298-866e-4493-8c93-b5ff36d9c882\",\"subtype\":\"Chart\",\"type\":\"Plot\"}},\"id\":\"23befe9d-137c-4f4c-befe-fc660950ad79\",\"type\":\"WheelZoomTool\"},{\"attributes\":{\"fill_alpha\":{\"field\":\"fill_alpha\"},\"fill_color\":{\"value\":\"#f22c40\"},\"line_alpha\":{\"field\":\"line_alpha\"},\"line_color\":{\"value\":\"#f22c40\"},\"size\":{\"units\":\"screen\",\"value\":8},\"x\":{\"field\":\"x\"},\"y\":{\"field\":\"height\"}},\"id\":\"fb01c789-c862-492b-a8c1-60f4d382c9cb\",\"type\":\"Circle\"},{\"attributes\":{},\"id\":\"686652f1-1247-4ae6-85ec-dae29c5c7782\",\"type\":\"CategoricalTickFormatter\"},{\"attributes\":{},\"id\":\"27852b40-5c76-498d-97f3-b63b676feaff\",\"type\":\"CategoricalTicker\"},{\"attributes\":{\"plot\":{\"id\":\"21a40375-1dd9-429c-b8dc-dc449d914668\",\"subtype\":\"Chart\",\"type\":\"Plot\"}},\"id\":\"83860c1a-180f-452f-9e10-85adc82cdccb\",\"type\":\"ResizeTool\"},{\"attributes\":{\"fill_alpha\":{\"field\":\"fill_alpha\"},\"fill_color\":{\"value\":\"#5ab738\"},\"line_alpha\":{\"field\":\"line_alpha\"},\"line_color\":{\"value\":\"#f22c40\"},\"size\":{\"units\":\"screen\",\"value\":8},\"x\":{\"field\":\"x\"},\"y\":{\"field\":\"height\"}},\"id\":\"ce405d9b-d2ce-4478-978f-be1853e6b046\",\"type\":\"Circle\"},{\"attributes\":{\"data_source\":{\"id\":\"87a982eb-dc85-4daf-9e78-3234ab3c80de\",\"type\":\"ColumnDataSource\"},\"glyph\":{\"id\":\"0ad7bd2e-01e1-4055-9e7d-013053c8b588\",\"type\":\"Circle\"},\"hover_glyph\":null,\"nonselection_glyph\":null,\"selection_glyph\":null},\"id\":\"dbb0280d-ca6c-4880-8f8e-d4f60eb0d750\",\"type\":\"GlyphRenderer\"},{\"attributes\":{\"plot\":{\"id\":\"21a40375-1dd9-429c-b8dc-dc449d914668\",\"subtype\":\"Chart\",\"type\":\"Plot\"}},\"id\":\"d1a4b36d-93a7-4723-9098-47ea8f9f0cda\",\"type\":\"ResetTool\"},{\"attributes\":{},\"id\":\"356654e2-cc56-46d9-a52b-87ef9f2250a3\",\"type\":\"BasicTickFormatter\"},{\"attributes\":{\"callback\":null,\"column_names\":[\"fill_alpha\",\"line_color\",\"line_alpha\",\"width\",\"y\",\"x\",\"height\",\"color\"],\"data\":{\"chart_index\":[{\"interpreter\":\"python\",\"sample\":\"2nd\"}],\"color\":[\"#5ab738\"],\"fill_alpha\":[0.8],\"height\":[5.0],\"interpreter\":[\"python\"],\"line_alpha\":[1.0],\"line_color\":[\"#f22c40\"],\"sample\":[\"2nd\"],\"width\":[0.2],\"x\":[\"python:0.666666666667\"],\"y\":[2.5]}},\"id\":\"c63cae36-1e8e-4899-a99c-bcbe744b498f\",\"type\":\"ColumnDataSource\"},{\"attributes\":{\"callback\":null,\"end\":0.8400000000000001},\"id\":\"22cf0114-9f37-4262-b1b8-1e4f300da32a\",\"type\":\"Range1d\"},{\"attributes\":{\"fill_alpha\":{\"field\":\"fill_alpha\"},\"fill_color\":{\"value\":\"#f22c40\"},\"line_alpha\":{\"field\":\"line_alpha\"},\"line_color\":{\"value\":\"#f22c40\"},\"size\":{\"units\":\"screen\",\"value\":8},\"x\":{\"field\":\"x\"},\"y\":{\"field\":\"height\"}},\"id\":\"36dcd9e3-acf2-4615-9b6f-46bfe6200982\",\"type\":\"Circle\"},{\"attributes\":{\"plot\":{\"id\":\"21a40375-1dd9-429c-b8dc-dc449d914668\",\"subtype\":\"Chart\",\"type\":\"Plot\"}},\"id\":\"600a8e68-60b1-4001-959f-5bdc8d1fc7a0\",\"type\":\"PanTool\"},{\"attributes\":{\"fill_alpha\":{\"field\":\"fill_alpha\"},\"fill_color\":{\"value\":\"#f22c40\"},\"line_alpha\":{\"field\":\"line_alpha\"},\"line_color\":{\"value\":\"#f22c40\"},\"size\":{\"units\":\"screen\",\"value\":8},\"x\":{\"field\":\"x\"},\"y\":{\"field\":\"height\"}},\"id\":\"71cc24d8-5b12-4cb2-8174-69948af39e8d\",\"type\":\"Circle\"},{\"attributes\":{\"data_source\":{\"id\":\"fdcebb2e-be66-4d6f-b496-3269718d1185\",\"type\":\"ColumnDataSource\"},\"glyph\":{\"id\":\"fb01c789-c862-492b-a8c1-60f4d382c9cb\",\"type\":\"Circle\"},\"hover_glyph\":null,\"nonselection_glyph\":null,\"selection_glyph\":null},\"id\":\"40254292-278d-4ead-a20d-b5406e10cacb\",\"type\":\"GlyphRenderer\"},{\"attributes\":{\"data_source\":{\"id\":\"f6247879-57a3-4154-bdb9-c3a330ce54da\",\"type\":\"ColumnDataSource\"},\"glyph\":{\"id\":\"cf60831c-996a-4d29-b974-b5df0ecb03b2\",\"type\":\"Circle\"},\"hover_glyph\":null,\"nonselection_glyph\":null,\"selection_glyph\":null},\"id\":\"daba478d-84e0-46bc-99a5-92fedab2983d\",\"type\":\"GlyphRenderer\"},{\"attributes\":{\"callback\":null,\"column_names\":[\"fill_alpha\",\"line_color\",\"line_alpha\",\"width\",\"y\",\"x\",\"height\",\"color\"],\"data\":{\"chart_index\":[{\"rep\":\"0\",\"sample_sizes\":\"750\"}],\"color\":[\"#f22c40\"],\"fill_alpha\":[0.8],\"height\":[0.6],\"line_alpha\":[1.0],\"line_color\":[\"#f22c40\"],\"rep\":[\"0\"],\"sample_sizes\":[\"750\"],\"width\":[0.2],\"x\":[\"750:0.5\"],\"y\":[0.3]}},\"id\":\"76027c4f-3e34-4eea-94fb-f22b0dd20abd\",\"type\":\"ColumnDataSource\"},{\"attributes\":{\"callback\":null,\"column_names\":[\"fill_alpha\",\"line_color\",\"line_alpha\",\"width\",\"y\",\"x\",\"height\",\"color\"],\"data\":{\"chart_index\":[{\"interpreter\":\"jython\",\"sample\":\"2nd\"}],\"color\":[\"#5ab738\"],\"fill_alpha\":[0.8],\"height\":[30.0],\"interpreter\":[\"jython\"],\"line_alpha\":[1.0],\"line_color\":[\"#f22c40\"],\"sample\":[\"2nd\"],\"width\":[0.2],\"x\":[\"jython:0.666666666667\"],\"y\":[15.0]}},\"id\":\"f6247879-57a3-4154-bdb9-c3a330ce54da\",\"type\":\"ColumnDataSource\"},{\"attributes\":{\"axis_label\":\"Sample_Sizes\",\"formatter\":{\"id\":\"1f63775d-4801-447d-9c2e-41dafe0fe67d\",\"type\":\"CategoricalTickFormatter\"},\"major_label_orientation\":0.7853981633974483,\"plot\":{\"id\":\"21a40375-1dd9-429c-b8dc-dc449d914668\",\"subtype\":\"Chart\",\"type\":\"Plot\"},\"ticker\":{\"id\":\"5f168d97-a01c-437b-b627-a41aec24768c\",\"type\":\"CategoricalTicker\"}},\"id\":\"d984eb34-7672-45b6-9151-162332f868de\",\"type\":\"CategoricalAxis\"},{\"attributes\":{\"fill_alpha\":{\"field\":\"fill_alpha\"},\"fill_color\":{\"value\":\"#5ab738\"},\"line_alpha\":{\"field\":\"line_alpha\"},\"line_color\":{\"value\":\"#f22c40\"},\"size\":{\"units\":\"screen\",\"value\":8},\"x\":{\"field\":\"x\"},\"y\":{\"field\":\"height\"}},\"id\":\"cf60831c-996a-4d29-b974-b5df0ecb03b2\",\"type\":\"Circle\"},{\"attributes\":{\"plot\":{\"id\":\"d6822298-866e-4493-8c93-b5ff36d9c882\",\"subtype\":\"Chart\",\"type\":\"Plot\"}},\"id\":\"74ca9ccb-8f3f-42aa-b7ec-eb06d3d18a86\",\"type\":\"ResetTool\"},{\"attributes\":{\"legends\":[[\"1st\",[{\"id\":\"dbb0280d-ca6c-4880-8f8e-d4f60eb0d750\",\"type\":\"GlyphRenderer\"}]],[\"2nd\",[{\"id\":\"ae95f629-5358-485f-9427-923327640c1f\",\"type\":\"GlyphRenderer\"}]]],\"plot\":{\"id\":\"d6822298-866e-4493-8c93-b5ff36d9c882\",\"subtype\":\"Chart\",\"type\":\"Plot\"}},\"id\":\"3514e822-7527-453d-9747-fd3c28dc269a\",\"type\":\"Legend\"}],\"root_ids\":[\"d6822298-866e-4493-8c93-b5ff36d9c882\",\"21a40375-1dd9-429c-b8dc-dc449d914668\"]},\"title\":\"Bokeh Application\",\"version\":\"0.11.1\"}};\n",
       "            var render_items = [{\"docid\":\"fe60d5de-7fa3-4b14-90b4-b499f0886616\",\"elementid\":\"8df8100b-c1e0-4a31-9e50-5004e0ee794b\",\"modelid\":\"21a40375-1dd9-429c-b8dc-dc449d914668\",\"notebook_comms_target\":\"54f9b721-d0cf-4616-bee6-65ff9f5a9001\"}];\n",
       "            \n",
       "            Bokeh.embed.embed_items(docs_json, render_items);\n",
       "        });\n",
       "      },\n",
       "      function(Bokeh) {\n",
       "      }\n",
       "    ];\n",
       "  \n",
       "    function run_inline_js() {\n",
       "      for (var i = 0; i < inline_js.length; i++) {\n",
       "        inline_js[i](window.Bokeh);\n",
       "      }\n",
       "    }\n",
       "  \n",
       "    if (window._bokeh_is_loading === 0) {\n",
       "      console.log(\"Bokeh: BokehJS loaded, going straight to plotting\");\n",
       "      run_inline_js();\n",
       "    } else {\n",
       "      load_libs(js_urls, function() {\n",
       "        console.log(\"Bokeh: BokehJS plotting callback run at\", now());\n",
       "        run_inline_js();\n",
       "      });\n",
       "    }\n",
       "  }(this));\n",
       "</script>"
      ]
     },
     "metadata": {},
     "output_type": "display_data"
    },
    {
     "data": {
      "text/html": [
       "<p><code>&lt;Bokeh Notebook handle for <strong>In[5]</strong>&gt;</code></p>"
      ],
      "text/plain": [
       "<bokeh.io._CommsHandle at 0x8beda58>"
      ]
     },
     "execution_count": 5,
     "metadata": {},
     "output_type": "execute_result"
    }
   ],
   "source": [
    "show(dots_2)"
   ]
  },
  {
   "cell_type": "code",
   "execution_count": 6,
   "metadata": {
    "collapsed": false
   },
   "outputs": [
    {
     "data": {
      "text/html": [
       "\n",
       "\n",
       "    <div class=\"plotdiv\" id=\"98707839-68ff-4811-a4fa-90536e321520\"></div>\n",
       "<script type=\"text/javascript\">\n",
       "  \n",
       "  (function(global) {\n",
       "    function now() {\n",
       "      return new Date();\n",
       "    }\n",
       "  \n",
       "    if (typeof (window._bokeh_onload_callbacks) === \"undefined\") {\n",
       "      window._bokeh_onload_callbacks = [];\n",
       "    }\n",
       "  \n",
       "    function run_callbacks() {\n",
       "      window._bokeh_onload_callbacks.forEach(function(callback) { callback() });\n",
       "      delete window._bokeh_onload_callbacks\n",
       "      console.info(\"Bokeh: all callbacks have finished\");\n",
       "    }\n",
       "  \n",
       "    function load_libs(js_urls, callback) {\n",
       "      window._bokeh_onload_callbacks.push(callback);\n",
       "      if (window._bokeh_is_loading > 0) {\n",
       "        console.log(\"Bokeh: BokehJS is being loaded, scheduling callback at\", now());\n",
       "        return null;\n",
       "      }\n",
       "      if (js_urls == null || js_urls.length === 0) {\n",
       "        run_callbacks();\n",
       "        return null;\n",
       "      }\n",
       "      console.log(\"Bokeh: BokehJS not loaded, scheduling load and callback at\", now());\n",
       "      window._bokeh_is_loading = js_urls.length;\n",
       "      for (var i = 0; i < js_urls.length; i++) {\n",
       "        var url = js_urls[i];\n",
       "        var s = document.createElement('script');\n",
       "        s.src = url;\n",
       "        s.async = false;\n",
       "        s.onreadystatechange = s.onload = function() {\n",
       "          window._bokeh_is_loading--;\n",
       "          if (window._bokeh_is_loading === 0) {\n",
       "            console.log(\"Bokeh: all BokehJS libraries loaded\");\n",
       "            run_callbacks()\n",
       "          }\n",
       "        };\n",
       "        s.onerror = function() {\n",
       "          console.warn(\"failed to load library \" + url);\n",
       "        };\n",
       "        console.log(\"Bokeh: injecting script tag for BokehJS library: \", url);\n",
       "        document.getElementsByTagName(\"head\")[0].appendChild(s);\n",
       "      }\n",
       "    };var element = document.getElementById(\"98707839-68ff-4811-a4fa-90536e321520\");\n",
       "    if (element == null) {\n",
       "      console.log(\"Bokeh: ERROR: autoload.js configured with elementid '98707839-68ff-4811-a4fa-90536e321520' but no matching script tag was found. \")\n",
       "      return false;\n",
       "    }\n",
       "  \n",
       "    var js_urls = [];\n",
       "  \n",
       "    var inline_js = [\n",
       "      function(Bokeh) {\n",
       "        Bokeh.$(function() {\n",
       "            var docs_json = {\"486c6da3-363f-4573-99bc-b671a2262166\":{\"roots\":{\"references\":[{\"attributes\":{\"callback\":null,\"column_names\":[\"fill_alpha\",\"line_color\",\"line_alpha\",\"width\",\"y\",\"x\",\"height\",\"color\"],\"data\":{\"chart_index\":[{\"index\":3}],\"color\":[\"#f22c40\"],\"fill_alpha\":[0.8],\"height\":[20.55],\"index\":[3],\"line_alpha\":[1.0],\"line_color\":[\"#f22c40\"],\"width\":[0.8],\"x\":[\"3\"],\"y\":[10.275]}},\"id\":\"22350043-9d87-4984-a815-f11d093c005d\",\"type\":\"ColumnDataSource\"},{\"attributes\":{\"callback\":null,\"column_names\":[\"fill_alpha\",\"line_color\",\"line_alpha\",\"width\",\"y\",\"x\",\"height\",\"color\"],\"data\":{\"chart_index\":[{\"cyl\":3}],\"color\":[\"#f22c40\"],\"cyl\":[3],\"fill_alpha\":[0.8],\"height\":[4.0],\"line_alpha\":[1.0],\"line_color\":[\"#f22c40\"],\"width\":[0.8],\"x\":[\"3\"],\"y\":[2.0]}},\"id\":\"932e7c4e-f488-408c-9ed0-d4315f504f62\",\"type\":\"ColumnDataSource\"},{\"attributes\":{},\"id\":\"ca9f9591-3dce-42f5-becb-2239c9de6c29\",\"type\":\"BasicTicker\"},{\"attributes\":{},\"id\":\"55c25b79-b27c-445c-abcb-c702ba80b58b\",\"type\":\"CategoricalTicker\"},{\"attributes\":{},\"id\":\"669840aa-9735-47aa-8fac-522e7719800c\",\"type\":\"BasicTickFormatter\"},{\"attributes\":{\"data_source\":{\"id\":\"026e8a7c-e895-416a-9a04-a8cfc6f1381f\",\"type\":\"ColumnDataSource\"},\"glyph\":{\"id\":\"ab773f4a-6ee5-4810-b746-3d6cf4c6550a\",\"type\":\"Circle\"},\"hover_glyph\":null,\"nonselection_glyph\":null,\"selection_glyph\":null},\"id\":\"632938ae-eca8-41b7-a998-1d49a678fdbe\",\"type\":\"GlyphRenderer\"},{\"attributes\":{\"children\":[{\"id\":\"bba2c68c-bc7e-4c6f-baba-7357a2e1dc39\",\"type\":\"HBox\"},{\"id\":\"ee224a31-0416-44d0-aa98-1c117caa1470\",\"type\":\"HBox\"},{\"id\":\"a3a58f47-3da0-4f56-8521-ced6d8928774\",\"type\":\"HBox\"},{\"id\":\"412fd91a-2313-4548-b078-c7776156646b\",\"type\":\"HBox\"},{\"id\":\"f39d5892-1599-42a3-bf99-6b6e6ba13b51\",\"type\":\"HBox\"}]},\"id\":\"538274b8-009e-4ee4-b687-3e7c9dc2bb08\",\"type\":\"VBox\"},{\"attributes\":{\"data_source\":{\"id\":\"8b2addbb-1387-48c1-8ad2-9192ad51dc98\",\"type\":\"ColumnDataSource\"},\"glyph\":{\"id\":\"03dac7fc-f1bb-4491-98aa-204f3c29671d\",\"type\":\"Circle\"},\"hover_glyph\":null,\"nonselection_glyph\":null,\"selection_glyph\":null},\"id\":\"3d127c69-5b3d-4a0f-b6b0-a76731de11b4\",\"type\":\"GlyphRenderer\"},{\"attributes\":{\"below\":[{\"id\":\"5fe28448-adad-4250-b0b9-ec590fa4c849\",\"type\":\"CategoricalAxis\"}],\"left\":[{\"id\":\"0c0ccd61-7759-4909-9e42-53c54011893e\",\"type\":\"LinearAxis\"}],\"legend\":\"top_right\",\"plot_height\":350,\"plot_width\":450,\"renderers\":[{\"id\":\"caae419c-0fc4-4b3f-a6c7-bcfdc205019a\",\"type\":\"BoxAnnotation\"},{\"id\":\"c9d54022-7bf1-4140-8a9b-20ffedfdaa41\",\"type\":\"GlyphRenderer\"},{\"id\":\"efd755b1-b55f-47ca-94d6-ad60decd1eaa\",\"type\":\"GlyphRenderer\"},{\"id\":\"4c3e1e77-a508-40be-9502-469355fb5315\",\"type\":\"GlyphRenderer\"},{\"id\":\"6a72c335-6a90-48b1-b847-85ad7042b277\",\"type\":\"GlyphRenderer\"},{\"id\":\"f2d3856a-ff07-484d-b1ef-eabf0add4236\",\"type\":\"GlyphRenderer\"},{\"id\":\"66bdafaa-69a1-4149-8e62-dbf203d46d39\",\"type\":\"Legend\"},{\"id\":\"5fe28448-adad-4250-b0b9-ec590fa4c849\",\"type\":\"CategoricalAxis\"},{\"id\":\"0c0ccd61-7759-4909-9e42-53c54011893e\",\"type\":\"LinearAxis\"},{\"id\":\"8eae4c4d-57ad-4d03-b645-6b3deff061ed\",\"type\":\"Grid\"}],\"title\":\"inferred labels\",\"title_text_font_size\":{\"value\":\"14pt\"},\"tool_events\":{\"id\":\"3a3ac1d4-95c5-49bb-97dc-32867aef4699\",\"type\":\"ToolEvents\"},\"tools\":[{\"id\":\"08489c26-b618-4316-a8e0-23c6570ea05c\",\"type\":\"PanTool\"},{\"id\":\"5fa2e5dc-499f-482a-b1c5-272e9abdfec6\",\"type\":\"WheelZoomTool\"},{\"id\":\"04ee89bd-159f-434d-a476-0024950594b0\",\"type\":\"BoxZoomTool\"},{\"id\":\"244d4823-a091-4ee3-b560-2805415a0da7\",\"type\":\"PreviewSaveTool\"},{\"id\":\"63af1030-92be-429c-90fe-8feff694cb6a\",\"type\":\"ResizeTool\"},{\"id\":\"238e2eb6-2ac4-48ef-bec7-323bbe313b4e\",\"type\":\"ResetTool\"},{\"id\":\"f624accd-94bf-4fc0-9fa1-b925d89a468a\",\"type\":\"HelpTool\"}],\"x_mapper_type\":\"auto\",\"x_range\":{\"id\":\"868936d8-1f88-4460-aac3-07870e31dcac\",\"type\":\"FactorRange\"},\"xgrid\":false,\"xscale\":\"auto\",\"y_mapper_type\":\"auto\",\"y_range\":{\"id\":\"f7e0c59a-a7d1-419d-ad04-f6f5b0fe805e\",\"type\":\"Range1d\"},\"yscale\":\"auto\"},\"id\":\"72e61fe9-6f2e-4bda-bb0a-4efa55991e92\",\"subtype\":\"Chart\",\"type\":\"Plot\"},{\"attributes\":{\"fill_alpha\":{\"field\":\"fill_alpha\"},\"fill_color\":{\"value\":\"#5ab738\"},\"line_alpha\":{\"field\":\"line_alpha\"},\"line_color\":{\"value\":\"#f22c40\"},\"size\":{\"units\":\"screen\",\"value\":8},\"x\":{\"field\":\"x\"},\"y\":{\"field\":\"height\"}},\"id\":\"bd1a7fef-cbda-433e-a51d-8b176c99ee0c\",\"type\":\"Circle\"},{\"attributes\":{\"axis_label\":\"Interpreter\",\"formatter\":{\"id\":\"686652f1-1247-4ae6-85ec-dae29c5c7782\",\"type\":\"CategoricalTickFormatter\"},\"major_label_orientation\":0.7853981633974483,\"plot\":{\"id\":\"d6822298-866e-4493-8c93-b5ff36d9c882\",\"subtype\":\"Chart\",\"type\":\"Plot\"},\"ticker\":{\"id\":\"27852b40-5c76-498d-97f3-b63b676feaff\",\"type\":\"CategoricalTicker\"}},\"id\":\"a4dc824d-cc8d-49c7-98ff-885f028cd1c8\",\"type\":\"CategoricalAxis\"},{\"attributes\":{\"callback\":null,\"column_names\":[\"fill_alpha\",\"line_color\",\"line_alpha\",\"width\",\"y\",\"x\",\"height\",\"color\"],\"data\":{\"chart_index\":[{\"cyl\":5}],\"color\":[\"#f22c40\"],\"cyl\":[5],\"fill_alpha\":[0.8],\"height\":[27.366666666666664],\"line_alpha\":[1.0],\"line_color\":[\"#f22c40\"],\"width\":[0.8],\"x\":[\"5\"],\"y\":[13.683333333333332]}},\"id\":\"228e9d13-4703-49aa-890c-596d28aba2b4\",\"type\":\"ColumnDataSource\"},{\"attributes\":{\"axis_label\":\"Count( Cyl )\",\"formatter\":{\"id\":\"6653fed9-d02c-4a1f-9f73-16c385588e55\",\"type\":\"BasicTickFormatter\"},\"plot\":{\"id\":\"f06fbef1-6326-4c65-8fb6-ac105fc279eb\",\"subtype\":\"Chart\",\"type\":\"Plot\"},\"ticker\":{\"id\":\"ca9f9591-3dce-42f5-becb-2239c9de6c29\",\"type\":\"BasicTicker\"}},\"id\":\"becd9761-33b2-4fd4-9ce2-f4d3e0cc2837\",\"type\":\"LinearAxis\"},{\"attributes\":{\"callback\":null,\"end\":33.17543478260869},\"id\":\"93b280b4-7ae0-44d3-9ae5-7ac8bd97c352\",\"type\":\"Range1d\"},{\"attributes\":{\"callback\":null,\"column_names\":[\"fill_alpha\",\"line_color\",\"line_alpha\",\"width\",\"y\",\"x\",\"height\",\"color\"],\"data\":{\"chart_index\":[{\"rep\":\"0\",\"sample_sizes\":\"1000\"}],\"color\":[\"#f22c40\"],\"fill_alpha\":[0.8],\"height\":[0.8],\"line_alpha\":[1.0],\"line_color\":[\"#f22c40\"],\"rep\":[\"0\"],\"sample_sizes\":[\"1000\"],\"width\":[0.2],\"x\":[\"1000:0.5\"],\"y\":[0.4]}},\"id\":\"eab28995-767b-4591-a54b-f60684e65e1b\",\"type\":\"ColumnDataSource\"},{\"attributes\":{\"plot\":{\"id\":\"dda01bd5-a3c6-40cb-bc29-237894282ba2\",\"subtype\":\"Chart\",\"type\":\"Plot\"}},\"id\":\"404d9fe1-6720-4d9e-9822-9a9b571b5f3e\",\"type\":\"WheelZoomTool\"},{\"attributes\":{\"plot\":{\"id\":\"d6822298-866e-4493-8c93-b5ff36d9c882\",\"subtype\":\"Chart\",\"type\":\"Plot\"}},\"id\":\"34d32e12-fcb7-413a-8c75-030a99d9d2e2\",\"type\":\"PanTool\"},{\"attributes\":{\"callback\":null,\"column_names\":[\"fill_alpha\",\"line_color\",\"line_alpha\",\"width\",\"y\",\"x\",\"height\",\"color\"],\"data\":{\"chart_index\":[{\"cyl\":6,\"origin\":1}],\"color\":[\"#df5320\"],\"cyl\":[6],\"fill_alpha\":[0.8],\"height\":[19.645205479452052],\"line_alpha\":[1.0],\"line_color\":[\"#f22c40\"],\"origin\":[1],\"width\":[0.8],\"x\":[\"1\"],\"y\":[24.785709535842535]}},\"id\":\"22a24420-2d1b-487a-809e-f9f3a7f78758\",\"type\":\"ColumnDataSource\"},{\"attributes\":{\"children\":[{\"id\":\"72e61fe9-6f2e-4bda-bb0a-4efa55991e92\",\"subtype\":\"Chart\",\"type\":\"Plot\"}]},\"id\":\"f39d5892-1599-42a3-bf99-6b6e6ba13b51\",\"type\":\"HBox\"},{\"attributes\":{\"fill_alpha\":{\"field\":\"fill_alpha\"},\"fill_color\":{\"value\":\"#f22c40\"},\"line_alpha\":{\"field\":\"line_alpha\"},\"line_color\":{\"value\":\"#f22c40\"},\"size\":{\"units\":\"screen\",\"value\":8},\"x\":{\"field\":\"x\"},\"y\":{\"field\":\"height\"}},\"id\":\"2f5aee84-7ddb-4b22-b9e0-be8845c47cb0\",\"type\":\"Circle\"},{\"attributes\":{\"plot\":{\"id\":\"dda01bd5-a3c6-40cb-bc29-237894282ba2\",\"subtype\":\"Chart\",\"type\":\"Plot\"}},\"id\":\"17e46e1b-2bac-46ce-acf6-b5b1c5232667\",\"type\":\"PanTool\"},{\"attributes\":{\"fill_alpha\":{\"field\":\"fill_alpha\"},\"fill_color\":{\"value\":\"#f22c40\"},\"line_alpha\":{\"field\":\"line_alpha\"},\"line_color\":{\"value\":\"#f22c40\"},\"size\":{\"units\":\"screen\",\"value\":8},\"x\":{\"field\":\"x\"},\"y\":{\"field\":\"height\"}},\"id\":\"344c8e58-e94f-4117-8b16-015c9f266973\",\"type\":\"Circle\"},{\"attributes\":{\"fill_alpha\":{\"field\":\"fill_alpha\"},\"fill_color\":{\"value\":\"#5ab738\"},\"line_alpha\":{\"field\":\"line_alpha\"},\"line_color\":{\"value\":\"#f22c40\"},\"size\":{\"units\":\"screen\",\"value\":8},\"x\":{\"field\":\"x\"},\"y\":{\"field\":\"height\"}},\"id\":\"6758256d-269b-4fda-aae0-cc839c17ef9f\",\"type\":\"Circle\"},{\"attributes\":{\"axis_label\":\"Mean( Power )\",\"formatter\":{\"id\":\"61a4626e-f709-4468-926d-3b08f6c5c88f\",\"type\":\"BasicTickFormatter\"},\"plot\":{\"id\":\"21a40375-1dd9-429c-b8dc-dc449d914668\",\"subtype\":\"Chart\",\"type\":\"Plot\"},\"ticker\":{\"id\":\"278385f4-4299-490e-abbc-4d6feef5928b\",\"type\":\"BasicTicker\"}},\"id\":\"02a22fc9-bfa0-4cda-bf40-0d8a74781870\",\"type\":\"LinearAxis\"},{\"attributes\":{\"data_source\":{\"id\":\"342aca58-2e9e-4c02-9b69-0f94b639bbea\",\"type\":\"ColumnDataSource\"},\"glyph\":{\"id\":\"b9d26b27-0b37-40c6-955e-bc307626a5ef\",\"type\":\"Circle\"},\"hover_glyph\":null,\"nonselection_glyph\":null,\"selection_glyph\":null},\"id\":\"91d2ba38-ac92-4d0a-9477-a350dc894b3c\",\"type\":\"GlyphRenderer\"},{\"attributes\":{\"data_source\":{\"id\":\"819e1890-14b2-4201-b196-b278c04df918\",\"type\":\"ColumnDataSource\"},\"glyph\":{\"id\":\"2f5aee84-7ddb-4b22-b9e0-be8845c47cb0\",\"type\":\"Circle\"},\"hover_glyph\":null,\"nonselection_glyph\":null,\"selection_glyph\":null},\"id\":\"dc876ae6-e442-42b8-965c-214ebccdd7f4\",\"type\":\"GlyphRenderer\"},{\"attributes\":{\"fill_alpha\":{\"field\":\"fill_alpha\"},\"fill_color\":{\"value\":\"#5ab738\"},\"line_alpha\":{\"field\":\"line_alpha\"},\"line_color\":{\"value\":\"#f22c40\"},\"size\":{\"units\":\"screen\",\"value\":8},\"x\":{\"field\":\"x\"},\"y\":{\"field\":\"height\"}},\"id\":\"ef0ccec0-3f06-4df3-958e-ee67ee8b05e8\",\"type\":\"Circle\"},{\"attributes\":{},\"id\":\"6f8e9c2c-a640-4d15-91b5-4d548fcd24f8\",\"type\":\"ToolEvents\"},{\"attributes\":{\"children\":[{\"id\":\"7e59fa8b-7bf1-4ee7-bd17-72959429603d\",\"subtype\":\"Chart\",\"type\":\"Plot\"},{\"id\":\"c6dc9d14-ff8d-448a-a6af-b200cae48c05\",\"subtype\":\"Chart\",\"type\":\"Plot\"}]},\"id\":\"a3a58f47-3da0-4f56-8521-ced6d8928774\",\"type\":\"HBox\"},{\"attributes\":{\"callback\":null,\"column_names\":[\"fill_alpha\",\"line_color\",\"line_alpha\",\"width\",\"y\",\"x\",\"height\",\"color\"],\"data\":{\"chart_index\":[{\"index\":5}],\"color\":[\"#f22c40\"],\"fill_alpha\":[0.8],\"height\":[27.366666666666664],\"index\":[5],\"line_alpha\":[1.0],\"line_color\":[\"#f22c40\"],\"width\":[0.8],\"x\":[\"5\"],\"y\":[13.683333333333332]}},\"id\":\"ef65b9a4-0df4-414c-b180-2bf4487db41a\",\"type\":\"ColumnDataSource\"},{\"attributes\":{\"plot\":{\"id\":\"21a40375-1dd9-429c-b8dc-dc449d914668\",\"subtype\":\"Chart\",\"type\":\"Plot\"}},\"id\":\"a7853d4b-100f-414e-add1-2281db76203d\",\"type\":\"WheelZoomTool\"},{\"attributes\":{\"callback\":null,\"end\":208.95},\"id\":\"2e1c3194-08f2-4938-872e-b4b0654237e0\",\"type\":\"Range1d\"},{\"attributes\":{\"callback\":null,\"column_names\":[\"fill_alpha\",\"line_color\",\"line_alpha\",\"width\",\"y\",\"x\",\"height\",\"color\"],\"data\":{\"chart_index\":[{\"cyl\":8}],\"color\":[\"#f22c40\"],\"cyl\":[8],\"fill_alpha\":[0.8],\"height\":[103.0],\"line_alpha\":[1.0],\"line_color\":[\"#f22c40\"],\"width\":[0.8],\"x\":[\"8\"],\"y\":[51.5]}},\"id\":\"9efdae56-9591-4f71-af63-1dac3cc2ea61\",\"type\":\"ColumnDataSource\"},{\"attributes\":{\"fill_alpha\":{\"field\":\"fill_alpha\"},\"fill_color\":{\"value\":\"#f22c40\"},\"line_alpha\":{\"field\":\"line_alpha\"},\"line_color\":{\"value\":\"#f22c40\"},\"size\":{\"units\":\"screen\",\"value\":8},\"x\":{\"field\":\"x\"},\"y\":{\"field\":\"height\"}},\"id\":\"0c327a80-a9bc-412f-b93b-bd158e005dae\",\"type\":\"Circle\"},{\"attributes\":{},\"id\":\"0a5b6a28-f735-4309-a9e5-3990a2ab79e8\",\"type\":\"ToolEvents\"},{\"attributes\":{\"overlay\":{\"id\":\"2f8959c4-93b7-4ee7-a05e-64f7048f8505\",\"type\":\"BoxAnnotation\"},\"plot\":{\"id\":\"3aad506f-bbac-4aff-93d8-ccd4351bdfc6\",\"subtype\":\"Chart\",\"type\":\"Plot\"}},\"id\":\"a475f754-f605-4842-9040-df66dc08463d\",\"type\":\"BoxZoomTool\"},{\"attributes\":{\"data_source\":{\"id\":\"ae4ff1e5-26d5-4cce-8a7e-9ddd2c0ee902\",\"type\":\"ColumnDataSource\"},\"glyph\":{\"id\":\"ce70138f-7a0e-4a45-8390-e0b92630b639\",\"type\":\"Circle\"},\"hover_glyph\":null,\"nonselection_glyph\":null,\"selection_glyph\":null},\"id\":\"5c084c70-2135-4f5f-9dd9-481506bc4ffc\",\"type\":\"GlyphRenderer\"},{\"attributes\":{\"data_source\":{\"id\":\"2fa3a07a-c7f6-49c3-bcaf-5673f00ce5bc\",\"type\":\"ColumnDataSource\"},\"glyph\":{\"id\":\"aed30ae1-d04c-4ee7-a431-e877aaa5deb9\",\"type\":\"Circle\"},\"hover_glyph\":null,\"nonselection_glyph\":null,\"selection_glyph\":null},\"id\":\"556167ad-f8c2-499a-80cb-aa8886f56b60\",\"type\":\"GlyphRenderer\"},{\"attributes\":{},\"id\":\"8a062269-6aee-40a4-b164-ce171f5f582d\",\"type\":\"BasicTicker\"},{\"attributes\":{\"callback\":null,\"factors\":[\"(3, 3)\",\"(4, 1)\",\"(4, 2)\",\"(4, 3)\",\"(5, 2)\",\"(6, 1)\",\"(6, 2)\",\"(6, 3)\",\"(8, 1)\"]},\"id\":\"0a4ee18c-dae3-41da-aef5-141e33c4ea24\",\"type\":\"FactorRange\"},{\"attributes\":{\"plot\":{\"id\":\"dda01bd5-a3c6-40cb-bc29-237894282ba2\",\"subtype\":\"Chart\",\"type\":\"Plot\"}},\"id\":\"85b3fd4e-a91a-42bd-b5ad-6ae08d4cac8d\",\"type\":\"ResizeTool\"},{\"attributes\":{\"callback\":null,\"column_names\":[\"fill_alpha\",\"line_color\",\"line_alpha\",\"width\",\"y\",\"x\",\"height\",\"color\"],\"data\":{\"chart_index\":[{\"cyl\":8,\"origin\":1}],\"color\":[\"#f22c40\"],\"cyl\":[8],\"fill_alpha\":[0.8],\"height\":[14.963106796116508],\"line_alpha\":[1.0],\"line_color\":[\"#f22c40\"],\"origin\":[1],\"width\":[0.8],\"x\":[\"(8, 1)\"],\"y\":[7.481553398058254]}},\"id\":\"e1c0d76d-e223-437e-9f50-f81dbe1dc4b2\",\"type\":\"ColumnDataSource\"},{\"attributes\":{\"axis_label\":\"Cyl\",\"formatter\":{\"id\":\"1674fe59-afb2-4129-85f0-634bb89eca31\",\"type\":\"CategoricalTickFormatter\"},\"major_label_orientation\":0.7853981633974483,\"plot\":{\"id\":\"dda01bd5-a3c6-40cb-bc29-237894282ba2\",\"subtype\":\"Chart\",\"type\":\"Plot\"},\"ticker\":{\"id\":\"9a10979b-5666-4193-b8e8-6d916adfd7e1\",\"type\":\"CategoricalTicker\"}},\"id\":\"5299f361-8ae0-493a-b425-7329029dadc8\",\"type\":\"CategoricalAxis\"},{\"attributes\":{\"axis_label\":\"Mean( Mpg )\",\"formatter\":{\"id\":\"8ce19fa1-d2a4-4518-9393-5dddca033451\",\"type\":\"BasicTickFormatter\"},\"plot\":{\"id\":\"3aad506f-bbac-4aff-93d8-ccd4351bdfc6\",\"subtype\":\"Chart\",\"type\":\"Plot\"},\"ticker\":{\"id\":\"0f1cb761-5bd6-4be1-93ab-9c75ec087a66\",\"type\":\"BasicTicker\"}},\"id\":\"876ff155-c2fa-48ba-9b68-cce575e01a4f\",\"type\":\"LinearAxis\"},{\"attributes\":{\"legends\":[[\"1st\",[{\"id\":\"dbb0280d-ca6c-4880-8f8e-d4f60eb0d750\",\"type\":\"GlyphRenderer\"}]],[\"2nd\",[{\"id\":\"ae95f629-5358-485f-9427-923327640c1f\",\"type\":\"GlyphRenderer\"}]]],\"plot\":{\"id\":\"d6822298-866e-4493-8c93-b5ff36d9c882\",\"subtype\":\"Chart\",\"type\":\"Plot\"}},\"id\":\"3514e822-7527-453d-9747-fd3c28dc269a\",\"type\":\"Legend\"},{\"attributes\":{\"data_source\":{\"id\":\"de317aff-ca30-4025-9304-8ef9d69a0035\",\"type\":\"ColumnDataSource\"},\"glyph\":{\"id\":\"116d0448-f54f-412f-9af6-b69c30b2404d\",\"type\":\"Circle\"},\"hover_glyph\":null,\"nonselection_glyph\":null,\"selection_glyph\":null},\"id\":\"ef597fc3-4207-48db-b5a2-fd3c56885ff1\",\"type\":\"GlyphRenderer\"},{\"attributes\":{\"overlay\":{\"id\":\"96162a54-fd1b-4986-9d19-a9fca396dff3\",\"type\":\"BoxAnnotation\"},\"plot\":{\"id\":\"f06fbef1-6326-4c65-8fb6-ac105fc279eb\",\"subtype\":\"Chart\",\"type\":\"Plot\"}},\"id\":\"6d3112c0-372b-4664-a875-f554b7489a89\",\"type\":\"BoxZoomTool\"},{\"attributes\":{\"data_source\":{\"id\":\"b5f07909-c991-43ec-9f91-3eadb1d15788\",\"type\":\"ColumnDataSource\"},\"glyph\":{\"id\":\"0ab837cf-31e8-4ecb-8e76-eb8820918ef8\",\"type\":\"Circle\"},\"hover_glyph\":null,\"nonselection_glyph\":null,\"selection_glyph\":null},\"id\":\"7877722b-bff3-4076-a005-ee0d8ab7fb8c\",\"type\":\"GlyphRenderer\"},{\"attributes\":{\"callback\":null,\"column_names\":[\"fill_alpha\",\"line_color\",\"line_alpha\",\"width\",\"y\",\"x\",\"height\",\"color\"],\"data\":{\"chart_index\":[{\"cyl\":8,\"origin\":1}],\"color\":[\"#f22c40\"],\"cyl\":[8],\"fill_alpha\":[0.8],\"height\":[-14.963106796116508],\"line_alpha\":[1.0],\"line_color\":[\"#f22c40\"],\"origin\":[1],\"width\":[0.2],\"x\":[\"8:0.25\"],\"y\":[-7.481553398058254]}},\"id\":\"b80cdc20-da42-44b6-8b3d-381048892aba\",\"type\":\"ColumnDataSource\"},{\"attributes\":{\"bottom_units\":\"screen\",\"fill_alpha\":{\"value\":0.5},\"fill_color\":{\"value\":\"lightgrey\"},\"left_units\":\"screen\",\"level\":\"overlay\",\"line_alpha\":{\"value\":1.0},\"line_color\":{\"value\":\"black\"},\"line_dash\":[4,4],\"line_width\":{\"value\":2},\"plot\":null,\"render_mode\":\"css\",\"right_units\":\"screen\",\"top_units\":\"screen\"},\"id\":\"f08cc498-bf3d-46fe-88b5-16276629f265\",\"type\":\"BoxAnnotation\"},{\"attributes\":{\"bottom_units\":\"screen\",\"fill_alpha\":{\"value\":0.5},\"fill_color\":{\"value\":\"lightgrey\"},\"left_units\":\"screen\",\"level\":\"overlay\",\"line_alpha\":{\"value\":1.0},\"line_color\":{\"value\":\"black\"},\"line_dash\":[4,4],\"line_width\":{\"value\":2},\"plot\":null,\"render_mode\":\"css\",\"right_units\":\"screen\",\"top_units\":\"screen\"},\"id\":\"db62a6e7-015f-49b5-b3bc-58bbd3d48da0\",\"type\":\"BoxAnnotation\"},{\"attributes\":{\"bottom_units\":\"screen\",\"fill_alpha\":{\"value\":0.5},\"fill_color\":{\"value\":\"lightgrey\"},\"left_units\":\"screen\",\"level\":\"overlay\",\"line_alpha\":{\"value\":1.0},\"line_color\":{\"value\":\"black\"},\"line_dash\":[4,4],\"line_width\":{\"value\":2},\"plot\":null,\"render_mode\":\"css\",\"right_units\":\"screen\",\"top_units\":\"screen\"},\"id\":\"71770e27-99ac-4474-8f38-38facd39c440\",\"type\":\"BoxAnnotation\"},{\"attributes\":{\"fill_alpha\":{\"field\":\"fill_alpha\"},\"fill_color\":{\"value\":\"#f22c40\"},\"line_alpha\":{\"field\":\"line_alpha\"},\"line_color\":{\"value\":\"#f22c40\"},\"size\":{\"units\":\"screen\",\"value\":8},\"x\":{\"field\":\"x\"},\"y\":{\"field\":\"height\"}},\"id\":\"4c8ca02d-7a48-4933-9ba1-b10ac463611c\",\"type\":\"Circle\"},{\"attributes\":{\"plot\":{\"id\":\"0e655c7c-a7f6-494d-b710-87972eb8e687\",\"subtype\":\"Chart\",\"type\":\"Plot\"}},\"id\":\"0523291e-94e5-4801-b6ba-0b515f8731ef\",\"type\":\"HelpTool\"},{\"attributes\":{},\"id\":\"6275d545-8f87-4b1b-8090-f61d20054dde\",\"type\":\"ToolEvents\"},{\"attributes\":{},\"id\":\"2e4e55b6-6fe7-49ed-abe3-f0d1869058d8\",\"type\":\"BasicTickFormatter\"},{\"attributes\":{\"axis_label\":\"Cyl, Origin\",\"formatter\":{\"id\":\"4f9f6847-1304-4145-827a-7ab88c281f95\",\"type\":\"CategoricalTickFormatter\"},\"major_label_orientation\":0.7853981633974483,\"plot\":{\"id\":\"7e59fa8b-7bf1-4ee7-bd17-72959429603d\",\"subtype\":\"Chart\",\"type\":\"Plot\"},\"ticker\":{\"id\":\"fc30e102-c5f8-4dfe-9069-12e36488d23c\",\"type\":\"CategoricalTicker\"}},\"id\":\"c78138a9-87fe-4896-9cc9-467753bb845f\",\"type\":\"CategoricalAxis\"},{\"attributes\":{\"callback\":null,\"column_names\":[\"fill_alpha\",\"line_color\",\"line_alpha\",\"width\",\"y\",\"x\",\"height\",\"color\"],\"data\":{\"chart_index\":[{\"cyl\":4,\"origin\":1}],\"color\":[\"#5ab738\"],\"cyl\":[4],\"fill_alpha\":[0.8],\"height\":[28.013043478260876],\"line_alpha\":[1.0],\"line_color\":[\"#f22c40\"],\"origin\":[1],\"width\":[0.8],\"x\":[\"1\"],\"y\":[48.614834014699]}},\"id\":\"b43912a9-1e05-49b5-a66f-ddd87be43fd0\",\"type\":\"ColumnDataSource\"},{\"attributes\":{\"children\":[{\"id\":\"0e655c7c-a7f6-494d-b710-87972eb8e687\",\"subtype\":\"Chart\",\"type\":\"Plot\"},{\"id\":\"dda01bd5-a3c6-40cb-bc29-237894282ba2\",\"subtype\":\"Chart\",\"type\":\"Plot\"}]},\"id\":\"bba2c68c-bc7e-4c6f-baba-7357a2e1dc39\",\"type\":\"HBox\"},{\"attributes\":{\"plot\":{\"id\":\"f06fbef1-6326-4c65-8fb6-ac105fc279eb\",\"subtype\":\"Chart\",\"type\":\"Plot\"}},\"id\":\"ddc1957e-3094-475c-ae8e-0c7d0a3e594a\",\"type\":\"HelpTool\"},{\"attributes\":{\"callback\":null,\"factors\":[\"3\",\"4\",\"5\",\"6\",\"8\"]},\"id\":\"587d8d47-92be-42f9-a309-2ed9113af652\",\"type\":\"FactorRange\"},{\"attributes\":{\"fill_alpha\":{\"field\":\"fill_alpha\"},\"fill_color\":{\"value\":\"#f22c40\"},\"line_alpha\":{\"field\":\"line_alpha\"},\"line_color\":{\"value\":\"#f22c40\"},\"size\":{\"units\":\"screen\",\"value\":8},\"x\":{\"field\":\"x\"},\"y\":{\"field\":\"height\"}},\"id\":\"cd79c6c0-605d-49fc-9867-26318490c31f\",\"type\":\"Circle\"},{\"attributes\":{\"plot\":{\"id\":\"c6dc9d14-ff8d-448a-a6af-b200cae48c05\",\"subtype\":\"Chart\",\"type\":\"Plot\"}},\"id\":\"b782d3a1-9348-47a6-a1d7-cd47a431c0f0\",\"type\":\"PreviewSaveTool\"},{\"attributes\":{},\"id\":\"1ba5c7e4-5fc6-4a50-9877-31ed16823bca\",\"type\":\"ToolEvents\"},{\"attributes\":{\"bottom_units\":\"screen\",\"fill_alpha\":{\"value\":0.5},\"fill_color\":{\"value\":\"lightgrey\"},\"left_units\":\"screen\",\"level\":\"overlay\",\"line_alpha\":{\"value\":1.0},\"line_color\":{\"value\":\"black\"},\"line_dash\":[4,4],\"line_width\":{\"value\":2},\"plot\":null,\"render_mode\":\"css\",\"right_units\":\"screen\",\"top_units\":\"screen\"},\"id\":\"2417b374-6bf2-4928-b818-7bcbb743fa49\",\"type\":\"BoxAnnotation\"},{\"attributes\":{\"dimension\":1,\"plot\":{\"id\":\"72e61fe9-6f2e-4bda-bb0a-4efa55991e92\",\"subtype\":\"Chart\",\"type\":\"Plot\"},\"ticker\":{\"id\":\"5db27947-7e1b-46c6-9360-83a5fad6030a\",\"type\":\"BasicTicker\"}},\"id\":\"8eae4c4d-57ad-4d03-b645-6b3deff061ed\",\"type\":\"Grid\"},{\"attributes\":{\"axis_label\":\"Mean( Mpg )\",\"formatter\":{\"id\":\"11380822-d56a-43ec-9538-092196eb25f8\",\"type\":\"BasicTickFormatter\"},\"plot\":{\"id\":\"7e59fa8b-7bf1-4ee7-bd17-72959429603d\",\"subtype\":\"Chart\",\"type\":\"Plot\"},\"ticker\":{\"id\":\"bc627517-84c3-478f-9434-1dbb2dce25e0\",\"type\":\"BasicTicker\"}},\"id\":\"04260fb4-a23e-4000-b959-cbeeba546ee9\",\"type\":\"LinearAxis\"},{\"attributes\":{\"overlay\":{\"id\":\"345b0bbc-7ca6-4b0a-878e-4941d2bc0548\",\"type\":\"BoxAnnotation\"},\"plot\":{\"id\":\"c6b44c4e-a7ea-450c-9a40-2211543ca05b\",\"subtype\":\"Chart\",\"type\":\"Plot\"}},\"id\":\"7d1748d7-d0e8-4bc6-b551-a7512f914720\",\"type\":\"BoxZoomTool\"},{\"attributes\":{\"plot\":{\"id\":\"0e655c7c-a7f6-494d-b710-87972eb8e687\",\"subtype\":\"Chart\",\"type\":\"Plot\"}},\"id\":\"83f95984-5adc-4f6b-97d0-4212cd09f9ee\",\"type\":\"WheelZoomTool\"},{\"attributes\":{\"callback\":null,\"column_names\":[\"fill_alpha\",\"line_color\",\"line_alpha\",\"width\",\"y\",\"x\",\"height\",\"color\"],\"data\":{\"chart_index\":[{\"index\":8}],\"color\":[\"#f22c40\"],\"fill_alpha\":[0.8],\"height\":[14.963106796116508],\"index\":[8],\"line_alpha\":[1.0],\"line_color\":[\"#f22c40\"],\"width\":[0.8],\"x\":[\"8\"],\"y\":[7.481553398058254]}},\"id\":\"64d812d5-39b3-4155-8711-add3ceab6741\",\"type\":\"ColumnDataSource\"},{\"attributes\":{\"plot\":{\"id\":\"7e59fa8b-7bf1-4ee7-bd17-72959429603d\",\"subtype\":\"Chart\",\"type\":\"Plot\"}},\"id\":\"bee0d165-8d2b-428a-bbdf-7439d056dcd1\",\"type\":\"WheelZoomTool\"},{\"attributes\":{\"fill_alpha\":{\"field\":\"fill_alpha\"},\"fill_color\":{\"value\":\"#f22c40\"},\"line_alpha\":{\"field\":\"line_alpha\"},\"line_color\":{\"value\":\"#f22c40\"},\"size\":{\"units\":\"screen\",\"value\":8},\"x\":{\"field\":\"x\"},\"y\":{\"field\":\"height\"}},\"id\":\"ccc642d9-c498-479e-b3e8-79d3f5733067\",\"type\":\"Circle\"},{\"attributes\":{\"fill_alpha\":{\"field\":\"fill_alpha\"},\"fill_color\":{\"value\":\"#f22c40\"},\"line_alpha\":{\"field\":\"line_alpha\"},\"line_color\":{\"value\":\"#f22c40\"},\"size\":{\"units\":\"screen\",\"value\":8},\"x\":{\"field\":\"x\"},\"y\":{\"field\":\"height\"}},\"id\":\"b19d54ab-2df5-434d-b7a8-cd97de9f610b\",\"type\":\"Circle\"},{\"attributes\":{},\"id\":\"61a76782-3474-4cec-96f2-fba86d127c52\",\"type\":\"ToolEvents\"},{\"attributes\":{\"axis_label\":\"Mean( Timing )\",\"formatter\":{\"id\":\"356654e2-cc56-46d9-a52b-87ef9f2250a3\",\"type\":\"BasicTickFormatter\"},\"plot\":{\"id\":\"d6822298-866e-4493-8c93-b5ff36d9c882\",\"subtype\":\"Chart\",\"type\":\"Plot\"},\"ticker\":{\"id\":\"fb49b636-830c-4da0-86b3-779dcbb665dc\",\"type\":\"BasicTicker\"}},\"id\":\"5b4d2280-e63c-4236-9f1c-39ba15177489\",\"type\":\"LinearAxis\"},{\"attributes\":{},\"id\":\"fc30e102-c5f8-4dfe-9069-12e36488d23c\",\"type\":\"CategoricalTicker\"},{\"attributes\":{\"data_source\":{\"id\":\"78b9a5d1-18ec-44e1-a220-7727a459da4f\",\"type\":\"ColumnDataSource\"},\"glyph\":{\"id\":\"828804be-ff0a-4462-9f69-f2e593d648ae\",\"type\":\"Circle\"},\"hover_glyph\":null,\"nonselection_glyph\":null,\"selection_glyph\":null},\"id\":\"113f9503-281f-4064-9468-324924db4544\",\"type\":\"GlyphRenderer\"},{\"attributes\":{},\"id\":\"3a3ac1d4-95c5-49bb-97dc-32867aef4699\",\"type\":\"ToolEvents\"},{\"attributes\":{\"line_alpha\":{\"field\":\"fill_alpha\"},\"x0\":{\"field\":\"x\"},\"x1\":{\"field\":\"x\"},\"y0\":{\"value\":0},\"y1\":{\"field\":\"height\"}},\"id\":\"46ba557b-649f-41dd-b53e-8d3c116cb45f\",\"type\":\"Segment\"},{\"attributes\":{\"axis_label\":\"Cyl\",\"formatter\":{\"id\":\"8dea5b78-cf91-409f-b3a5-4db16624c6d0\",\"type\":\"CategoricalTickFormatter\"},\"major_label_orientation\":0.7853981633974483,\"plot\":{\"id\":\"0e655c7c-a7f6-494d-b710-87972eb8e687\",\"subtype\":\"Chart\",\"type\":\"Plot\"},\"ticker\":{\"id\":\"fadc547f-f902-4afd-a783-a622c9a03b46\",\"type\":\"CategoricalTicker\"}},\"id\":\"b26ba9e6-87ee-475c-9854-87545fd996f8\",\"type\":\"CategoricalAxis\"},{\"attributes\":{\"fill_alpha\":{\"field\":\"fill_alpha\"},\"fill_color\":{\"value\":\"#407ee7\"},\"line_alpha\":{\"field\":\"line_alpha\"},\"line_color\":{\"value\":\"#f22c40\"},\"size\":{\"units\":\"screen\",\"value\":8},\"x\":{\"field\":\"x\"},\"y\":{\"field\":\"height\"}},\"id\":\"371e3d94-cada-488b-97d8-9d994fbad9a6\",\"type\":\"Circle\"},{\"attributes\":{\"fill_alpha\":{\"field\":\"fill_alpha\"},\"fill_color\":{\"value\":\"#f22c40\"},\"line_alpha\":{\"field\":\"line_alpha\"},\"line_color\":{\"value\":\"#f22c40\"},\"size\":{\"units\":\"screen\",\"value\":8},\"x\":{\"field\":\"x\"},\"y\":{\"field\":\"height\"}},\"id\":\"e5cf7c5a-1a9f-4d8f-93ac-6880cfd0c4c9\",\"type\":\"Circle\"},{\"attributes\":{},\"id\":\"278385f4-4299-490e-abbc-4d6feef5928b\",\"type\":\"BasicTicker\"},{\"attributes\":{\"fill_alpha\":{\"field\":\"fill_alpha\"},\"fill_color\":{\"value\":\"#f22c40\"},\"line_alpha\":{\"field\":\"line_alpha\"},\"line_color\":{\"value\":\"#f22c40\"},\"size\":{\"units\":\"screen\",\"value\":8},\"x\":{\"field\":\"x\"},\"y\":{\"field\":\"height\"}},\"id\":\"5c73529c-4ac3-4266-8608-c6355c39149a\",\"type\":\"Circle\"},{\"attributes\":{\"axis_label\":\"Cyl\",\"formatter\":{\"id\":\"62ccb6ff-af88-4e3c-8413-f69116b31bb3\",\"type\":\"CategoricalTickFormatter\"},\"major_label_orientation\":0.7853981633974483,\"plot\":{\"id\":\"c6b44c4e-a7ea-450c-9a40-2211543ca05b\",\"subtype\":\"Chart\",\"type\":\"Plot\"},\"ticker\":{\"id\":\"55c25b79-b27c-445c-abcb-c702ba80b58b\",\"type\":\"CategoricalTicker\"}},\"id\":\"36bea574-eb79-4969-9b08-4e7d81037dc8\",\"type\":\"CategoricalAxis\"},{\"attributes\":{\"bottom_units\":\"screen\",\"fill_alpha\":{\"value\":0.5},\"fill_color\":{\"value\":\"lightgrey\"},\"left_units\":\"screen\",\"level\":\"overlay\",\"line_alpha\":{\"value\":1.0},\"line_color\":{\"value\":\"black\"},\"line_dash\":[4,4],\"line_width\":{\"value\":2},\"plot\":null,\"render_mode\":\"css\",\"right_units\":\"screen\",\"top_units\":\"screen\"},\"id\":\"345b0bbc-7ca6-4b0a-878e-4941d2bc0548\",\"type\":\"BoxAnnotation\"},{\"attributes\":{\"below\":[{\"id\":\"b26ba9e6-87ee-475c-9854-87545fd996f8\",\"type\":\"CategoricalAxis\"}],\"left\":[{\"id\":\"d91e532e-eda2-4e80-a09e-250d58994729\",\"type\":\"LinearAxis\"}],\"legend\":null,\"plot_height\":350,\"plot_width\":450,\"renderers\":[{\"id\":\"a2203ba5-7466-4dd4-bb28-28493943901c\",\"type\":\"BoxAnnotation\"},{\"id\":\"7877722b-bff3-4076-a005-ee0d8ab7fb8c\",\"type\":\"GlyphRenderer\"},{\"id\":\"556167ad-f8c2-499a-80cb-aa8886f56b60\",\"type\":\"GlyphRenderer\"},{\"id\":\"ef597fc3-4207-48db-b5a2-fd3c56885ff1\",\"type\":\"GlyphRenderer\"},{\"id\":\"12be3af5-fbe5-4c42-9095-a435dbffba85\",\"type\":\"GlyphRenderer\"},{\"id\":\"70db4f75-f40e-400f-92c4-a44eee1abf3a\",\"type\":\"GlyphRenderer\"},{\"id\":\"b26ba9e6-87ee-475c-9854-87545fd996f8\",\"type\":\"CategoricalAxis\"},{\"id\":\"d91e532e-eda2-4e80-a09e-250d58994729\",\"type\":\"LinearAxis\"},{\"id\":\"3cd2925b-e885-4616-a4b9-6c18a62a38cc\",\"type\":\"Grid\"}],\"title\":\"label='cyl'\",\"title_text_font_size\":{\"value\":\"14pt\"},\"tool_events\":{\"id\":\"6275d545-8f87-4b1b-8090-f61d20054dde\",\"type\":\"ToolEvents\"},\"tools\":[{\"id\":\"989067ed-d4c2-47aa-be38-71e78c29ed20\",\"type\":\"PanTool\"},{\"id\":\"83f95984-5adc-4f6b-97d0-4212cd09f9ee\",\"type\":\"WheelZoomTool\"},{\"id\":\"9c7f6dc9-525d-4041-af1f-92819be5c311\",\"type\":\"BoxZoomTool\"},{\"id\":\"60019832-6ee0-43de-9f0d-397d1c1021ce\",\"type\":\"PreviewSaveTool\"},{\"id\":\"aa2e337a-5025-48bf-a0ec-9837a85d0375\",\"type\":\"ResizeTool\"},{\"id\":\"386c2643-3c70-4d0e-9e03-a36594838716\",\"type\":\"ResetTool\"},{\"id\":\"0523291e-94e5-4801-b6ba-0b515f8731ef\",\"type\":\"HelpTool\"}],\"x_mapper_type\":\"auto\",\"x_range\":{\"id\":\"6a0bdff4-6352-4459-b4c4-36e753dbc057\",\"type\":\"FactorRange\"},\"xgrid\":false,\"xscale\":\"auto\",\"y_mapper_type\":\"auto\",\"y_range\":{\"id\":\"4963fab7-e5d2-4907-b9e2-08383f265dde\",\"type\":\"Range1d\"},\"yscale\":\"auto\"},\"id\":\"0e655c7c-a7f6-494d-b710-87972eb8e687\",\"subtype\":\"Chart\",\"type\":\"Plot\"},{\"attributes\":{\"callback\":null,\"end\":30.748115577889454},\"id\":\"56c96e4f-5de5-45b8-b710-ef212446387b\",\"type\":\"Range1d\"},{\"attributes\":{\"plot\":{\"id\":\"d6822298-866e-4493-8c93-b5ff36d9c882\",\"subtype\":\"Chart\",\"type\":\"Plot\"}},\"id\":\"d3f32d8e-c2e5-4b31-8a74-23d951b1f62a\",\"type\":\"ResizeTool\"},{\"attributes\":{\"plot\":{\"id\":\"7e59fa8b-7bf1-4ee7-bd17-72959429603d\",\"subtype\":\"Chart\",\"type\":\"Plot\"}},\"id\":\"77568323-ee67-472f-aa33-fdf3bb1d70b7\",\"type\":\"PanTool\"},{\"attributes\":{},\"id\":\"abf7222e-1f9e-4c6a-bf11-e6b656ff7336\",\"type\":\"ToolEvents\"},{\"attributes\":{\"data_source\":{\"id\":\"241ffeed-51bd-4399-bfba-bbe91243b381\",\"type\":\"ColumnDataSource\"},\"glyph\":{\"id\":\"5ba51837-4bec-4e1c-bae6-0da754ad3f3e\",\"type\":\"Circle\"},\"hover_glyph\":null,\"nonselection_glyph\":null,\"selection_glyph\":null},\"id\":\"279160e3-741d-4733-8387-9e9685043363\",\"type\":\"GlyphRenderer\"},{\"attributes\":{},\"id\":\"863bc441-8edb-4d6a-80cc-4060ba9a08c1\",\"type\":\"BasicTickFormatter\"},{\"attributes\":{\"data_source\":{\"id\":\"4cbe3cf4-c095-48d0-a766-71cdbfe56d90\",\"type\":\"ColumnDataSource\"},\"glyph\":{\"id\":\"03d472c2-3362-4112-bc29-974ac6cc2e24\",\"type\":\"Circle\"},\"hover_glyph\":null,\"nonselection_glyph\":null,\"selection_glyph\":null},\"id\":\"b0e9d795-df6f-40c2-93be-a0ad48090b1b\",\"type\":\"GlyphRenderer\"},{\"attributes\":{\"callback\":null,\"column_names\":[\"fill_alpha\",\"line_color\",\"line_alpha\",\"width\",\"y\",\"x\",\"height\",\"color\"],\"data\":{\"chart_index\":[{\"cyl\":6,\"origin\":1}],\"color\":[\"#f22c40\"],\"cyl\":[6],\"fill_alpha\":[0.8],\"height\":[226.64383561643837],\"line_alpha\":[1.0],\"line_color\":[\"#f22c40\"],\"origin\":[1],\"width\":[0.2],\"x\":[\"6:0.25\"],\"y\":[113.32191780821918]}},\"id\":\"e461a7c8-ec0d-4cc6-bdf6-2ac74a74a2b2\",\"type\":\"ColumnDataSource\"},{\"attributes\":{\"callback\":null,\"column_names\":[\"fill_alpha\",\"line_color\",\"line_alpha\",\"width\",\"y\",\"x\",\"height\",\"color\"],\"data\":{\"chart_index\":[{\"interpreter\":\"pypy\",\"sample\":\"1st\"}],\"color\":[\"#f22c40\"],\"fill_alpha\":[0.8],\"height\":[12.0],\"interpreter\":[\"pypy\"],\"line_alpha\":[1.0],\"line_color\":[\"#f22c40\"],\"sample\":[\"1st\"],\"width\":[0.2],\"x\":[\"pypy:0.333333333333\"],\"y\":[6.0]}},\"id\":\"e953a78c-9b8e-4105-8f01-15747311a3f0\",\"type\":\"ColumnDataSource\"},{\"attributes\":{\"fill_alpha\":{\"field\":\"fill_alpha\"},\"fill_color\":{\"value\":\"#f22c40\"},\"line_alpha\":{\"field\":\"line_alpha\"},\"line_color\":{\"value\":\"#f22c40\"},\"size\":{\"units\":\"screen\",\"value\":8},\"x\":{\"field\":\"x\"},\"y\":{\"field\":\"height\"}},\"id\":\"116d0448-f54f-412f-9af6-b69c30b2404d\",\"type\":\"Circle\"},{\"attributes\":{\"fill_alpha\":{\"field\":\"fill_alpha\"},\"fill_color\":{\"value\":\"#f22c40\"},\"line_alpha\":{\"field\":\"line_alpha\"},\"line_color\":{\"value\":\"#f22c40\"},\"size\":{\"units\":\"screen\",\"value\":8},\"x\":{\"field\":\"x\"},\"y\":{\"field\":\"height\"}},\"id\":\"0ab837cf-31e8-4ecb-8e76-eb8820918ef8\",\"type\":\"Circle\"},{\"attributes\":{\"callback\":null,\"end\":79.83043478260868},\"id\":\"a283f004-a5ef-483b-b85e-9417809b2324\",\"type\":\"Range1d\"},{\"attributes\":{\"data_source\":{\"id\":\"932e7c4e-f488-408c-9ed0-d4315f504f62\",\"type\":\"ColumnDataSource\"},\"glyph\":{\"id\":\"8d6de174-afae-414f-99a7-a346a470c7c1\",\"type\":\"Circle\"},\"hover_glyph\":null,\"nonselection_glyph\":null,\"selection_glyph\":null},\"id\":\"12be3af5-fbe5-4c42-9095-a435dbffba85\",\"type\":\"GlyphRenderer\"},{\"attributes\":{\"overlay\":{\"id\":\"f08cc498-bf3d-46fe-88b5-16276629f265\",\"type\":\"BoxAnnotation\"},\"plot\":{\"id\":\"c6dc9d14-ff8d-448a-a6af-b200cae48c05\",\"subtype\":\"Chart\",\"type\":\"Plot\"}},\"id\":\"6030e5da-5976-4aec-a4fb-73e1db8f8825\",\"type\":\"BoxZoomTool\"},{\"attributes\":{\"callback\":null,\"column_names\":[\"fill_alpha\",\"line_color\",\"line_alpha\",\"width\",\"y\",\"x\",\"height\",\"color\"],\"data\":{\"chart_index\":[{\"interpreter\":\"python\",\"sample\":\"2nd\"}],\"color\":[\"#5ab738\"],\"fill_alpha\":[0.8],\"height\":[5.0],\"interpreter\":[\"python\"],\"line_alpha\":[1.0],\"line_color\":[\"#f22c40\"],\"sample\":[\"2nd\"],\"width\":[0.2],\"x\":[\"python:0.666666666667\"],\"y\":[2.5]}},\"id\":\"c63cae36-1e8e-4899-a99c-bcbe744b498f\",\"type\":\"ColumnDataSource\"},{\"attributes\":{\"callback\":null,\"end\":0.8400000000000001},\"id\":\"22cf0114-9f37-4262-b1b8-1e4f300da32a\",\"type\":\"Range1d\"},{\"attributes\":{\"fill_alpha\":{\"field\":\"fill_alpha\"},\"fill_color\":{\"value\":\"#f22c40\"},\"line_alpha\":{\"field\":\"line_alpha\"},\"line_color\":{\"value\":\"#f22c40\"},\"size\":{\"units\":\"screen\",\"value\":8},\"x\":{\"field\":\"x\"},\"y\":{\"field\":\"height\"}},\"id\":\"36dcd9e3-acf2-4615-9b6f-46bfe6200982\",\"type\":\"Circle\"},{\"attributes\":{\"plot\":{\"id\":\"72e61fe9-6f2e-4bda-bb0a-4efa55991e92\",\"subtype\":\"Chart\",\"type\":\"Plot\"}},\"id\":\"238e2eb6-2ac4-48ef-bec7-323bbe313b4e\",\"type\":\"ResetTool\"},{\"attributes\":{\"plot\":{\"id\":\"f06fbef1-6326-4c65-8fb6-ac105fc279eb\",\"subtype\":\"Chart\",\"type\":\"Plot\"}},\"id\":\"0e2f1792-7b5a-40e7-9133-13e4255e447b\",\"type\":\"WheelZoomTool\"},{\"attributes\":{\"data_source\":{\"id\":\"8b599703-79d5-4287-a2bd-29da9572033e\",\"type\":\"ColumnDataSource\"},\"glyph\":{\"id\":\"5df2c8b1-314b-43c9-9084-67899e57046a\",\"type\":\"Segment\"},\"hover_glyph\":null,\"nonselection_glyph\":null,\"selection_glyph\":null},\"id\":\"2858647c-6b31-4613-a2f2-b48ea624da38\",\"type\":\"GlyphRenderer\"},{\"attributes\":{\"plot\":{\"id\":\"3aad506f-bbac-4aff-93d8-ccd4351bdfc6\",\"subtype\":\"Chart\",\"type\":\"Plot\"}},\"id\":\"5f76ea7e-8184-48cb-b4bd-3afb0fe81501\",\"type\":\"HelpTool\"},{\"attributes\":{\"data_source\":{\"id\":\"eb165cda-29b3-4dd2-8449-d62c6ee0b4b9\",\"type\":\"ColumnDataSource\"},\"glyph\":{\"id\":\"de88b5ca-5172-4377-b50b-ab989dce7669\",\"type\":\"Circle\"},\"hover_glyph\":null,\"nonselection_glyph\":null,\"selection_glyph\":null},\"id\":\"b7f8b882-dcb3-4f3e-b6bd-672ada774053\",\"type\":\"GlyphRenderer\"},{\"attributes\":{\"fill_alpha\":{\"field\":\"fill_alpha\"},\"fill_color\":{\"value\":\"#5ab738\"},\"line_alpha\":{\"field\":\"line_alpha\"},\"line_color\":{\"value\":\"#f22c40\"},\"size\":{\"units\":\"screen\",\"value\":8},\"x\":{\"field\":\"x\"},\"y\":{\"field\":\"height\"}},\"id\":\"cf60831c-996a-4d29-b974-b5df0ecb03b2\",\"type\":\"Circle\"},{\"attributes\":{\"fill_alpha\":{\"field\":\"fill_alpha\"},\"fill_color\":{\"value\":\"#f22c40\"},\"line_alpha\":{\"field\":\"line_alpha\"},\"line_color\":{\"value\":\"#f22c40\"},\"size\":{\"units\":\"screen\",\"value\":8},\"x\":{\"field\":\"x\"},\"y\":{\"field\":\"height\"}},\"id\":\"ce324367-2f8a-47b4-92f7-85fce305646b\",\"type\":\"Circle\"},{\"attributes\":{\"bottom_units\":\"screen\",\"fill_alpha\":{\"value\":0.5},\"fill_color\":{\"value\":\"lightgrey\"},\"left_units\":\"screen\",\"level\":\"overlay\",\"line_alpha\":{\"value\":1.0},\"line_color\":{\"value\":\"black\"},\"line_dash\":[4,4],\"line_width\":{\"value\":2},\"plot\":null,\"render_mode\":\"css\",\"right_units\":\"screen\",\"top_units\":\"screen\"},\"id\":\"2f8959c4-93b7-4ee7-a05e-64f7048f8505\",\"type\":\"BoxAnnotation\"},{\"attributes\":{\"data_source\":{\"id\":\"5dbf19f6-5699-42fa-835a-a62dcae9384f\",\"type\":\"ColumnDataSource\"},\"glyph\":{\"id\":\"4ea92711-bfc5-4fe6-9caf-48c03bba25e8\",\"type\":\"Circle\"},\"hover_glyph\":null,\"nonselection_glyph\":null,\"selection_glyph\":null},\"id\":\"4f693973-784a-4cec-9a47-1c72d2aef621\",\"type\":\"GlyphRenderer\"},{\"attributes\":{\"below\":[{\"id\":\"d984eb34-7672-45b6-9151-162332f868de\",\"type\":\"CategoricalAxis\"}],\"left\":[{\"id\":\"02a22fc9-bfa0-4cda-bf40-0d8a74781870\",\"type\":\"LinearAxis\"}],\"legend\":\"top_right\",\"renderers\":[{\"id\":\"71770e27-99ac-4474-8f38-38facd39c440\",\"type\":\"BoxAnnotation\"},{\"id\":\"b1d062a2-82ca-4f41-bcb6-7f49cd6ecfa2\",\"type\":\"GlyphRenderer\"},{\"id\":\"40254292-278d-4ead-a20d-b5406e10cacb\",\"type\":\"GlyphRenderer\"},{\"id\":\"4d8b9685-ab2b-44d4-b619-3e50deb4d3e7\",\"type\":\"GlyphRenderer\"},{\"id\":\"55d09ac5-1a68-4802-8dde-6d7d26f68948\",\"type\":\"GlyphRenderer\"},{\"id\":\"47b0d0b8-9aca-4069-ae9f-102f87fd40ae\",\"type\":\"Legend\"},{\"id\":\"d984eb34-7672-45b6-9151-162332f868de\",\"type\":\"CategoricalAxis\"},{\"id\":\"02a22fc9-bfa0-4cda-bf40-0d8a74781870\",\"type\":\"LinearAxis\"},{\"id\":\"620ef84e-3587-4a35-bca8-83ed40e09fa8\",\"type\":\"Grid\"}],\"title\":\"First Bokeh Dot PLot\",\"title_text_font_size\":{\"value\":\"14pt\"},\"tool_events\":{\"id\":\"abf7222e-1f9e-4c6a-bf11-e6b656ff7336\",\"type\":\"ToolEvents\"},\"tools\":[{\"id\":\"600a8e68-60b1-4001-959f-5bdc8d1fc7a0\",\"type\":\"PanTool\"},{\"id\":\"a7853d4b-100f-414e-add1-2281db76203d\",\"type\":\"WheelZoomTool\"},{\"id\":\"8a5a8459-b247-46e0-93ef-bdf96e504fd6\",\"type\":\"BoxZoomTool\"},{\"id\":\"72a2d32b-c2ed-454f-b772-9b094518934b\",\"type\":\"PreviewSaveTool\"},{\"id\":\"83860c1a-180f-452f-9e10-85adc82cdccb\",\"type\":\"ResizeTool\"},{\"id\":\"d1a4b36d-93a7-4723-9098-47ea8f9f0cda\",\"type\":\"ResetTool\"},{\"id\":\"c4ff3c5b-74d3-420f-a153-9810bd3dd0e2\",\"type\":\"HelpTool\"}],\"x_mapper_type\":\"auto\",\"x_range\":{\"id\":\"7fc01c10-1506-4bbe-96d3-b6d98344cb55\",\"type\":\"FactorRange\"},\"xgrid\":false,\"xscale\":\"auto\",\"y_mapper_type\":\"auto\",\"y_range\":{\"id\":\"22cf0114-9f37-4262-b1b8-1e4f300da32a\",\"type\":\"Range1d\"},\"yscale\":\"auto\"},\"id\":\"21a40375-1dd9-429c-b8dc-dc449d914668\",\"subtype\":\"Chart\",\"type\":\"Plot\"},{\"attributes\":{\"callback\":null,\"factors\":[\"1000\",\"250\",\"500\",\"750\"]},\"id\":\"7fc01c10-1506-4bbe-96d3-b6d98344cb55\",\"type\":\"FactorRange\"},{\"attributes\":{\"plot\":{\"id\":\"7e59fa8b-7bf1-4ee7-bd17-72959429603d\",\"subtype\":\"Chart\",\"type\":\"Plot\"}},\"id\":\"b3f4805f-e2b3-4276-a822-35d9ac1511b9\",\"type\":\"HelpTool\"},{\"attributes\":{\"data_source\":{\"id\":\"61345a18-75a8-41d6-bdff-6cff2e62d6ac\",\"type\":\"ColumnDataSource\"},\"glyph\":{\"id\":\"5c73529c-4ac3-4266-8608-c6355c39149a\",\"type\":\"Circle\"},\"hover_glyph\":null,\"nonselection_glyph\":null,\"selection_glyph\":null},\"id\":\"6fe92458-3897-49e2-9be4-3754c7038a69\",\"type\":\"GlyphRenderer\"},{\"attributes\":{},\"id\":\"fadc547f-f902-4afd-a783-a622c9a03b46\",\"type\":\"CategoricalTicker\"},{\"attributes\":{\"data_source\":{\"id\":\"c63cae36-1e8e-4899-a99c-bcbe744b498f\",\"type\":\"ColumnDataSource\"},\"glyph\":{\"id\":\"17eafc1b-9b23-433c-b64e-7af026d2a032\",\"type\":\"Circle\"},\"hover_glyph\":null,\"nonselection_glyph\":null,\"selection_glyph\":null},\"id\":\"ae95f629-5358-485f-9427-923327640c1f\",\"type\":\"GlyphRenderer\"},{\"attributes\":{\"overlay\":{\"id\":\"74303bcc-363a-4867-b617-1c172444bafb\",\"type\":\"BoxAnnotation\"},\"plot\":{\"id\":\"dda01bd5-a3c6-40cb-bc29-237894282ba2\",\"subtype\":\"Chart\",\"type\":\"Plot\"}},\"id\":\"53f0c2a4-1036-4e7b-bb43-596e93664209\",\"type\":\"BoxZoomTool\"},{\"attributes\":{},\"id\":\"62ccb6ff-af88-4e3c-8413-f69116b31bb3\",\"type\":\"CategoricalTickFormatter\"},{\"attributes\":{\"fill_alpha\":{\"field\":\"fill_alpha\"},\"fill_color\":{\"value\":\"#f22c40\"},\"line_alpha\":{\"field\":\"line_alpha\"},\"line_color\":{\"value\":\"#f22c40\"},\"size\":{\"units\":\"screen\",\"value\":8},\"x\":{\"field\":\"x\"},\"y\":{\"field\":\"height\"}},\"id\":\"0ea90463-bdcf-4e76-9b9b-4501196ec3da\",\"type\":\"Circle\"},{\"attributes\":{},\"id\":\"bc627517-84c3-478f-9434-1dbb2dce25e0\",\"type\":\"BasicTicker\"},{\"attributes\":{\"callback\":null,\"column_names\":[\"fill_alpha\",\"line_color\",\"line_alpha\",\"width\",\"y\",\"x\",\"height\",\"color\"],\"data\":{\"chart_index\":[{\"cyl\":6}],\"color\":[\"#f22c40\"],\"cyl\":[6],\"fill_alpha\":[0.8],\"height\":[83.0],\"line_alpha\":[1.0],\"line_color\":[\"#f22c40\"],\"width\":[0.8],\"x\":[\"6\"],\"y\":[41.5]}},\"id\":\"34b791e7-d3e4-4d16-9df1-922488a0e9ba\",\"type\":\"ColumnDataSource\"},{\"attributes\":{},\"id\":\"5c5e6783-8ea8-4e19-8cef-462384479b02\",\"type\":\"ToolEvents\"},{\"attributes\":{\"plot\":{\"id\":\"ab38e769-b993-49d4-ba31-7cef8596f3a4\",\"subtype\":\"Chart\",\"type\":\"Plot\"}},\"id\":\"eccf1f1a-e61b-413b-b6be-cd200080aa2c\",\"type\":\"WheelZoomTool\"},{\"attributes\":{\"fill_alpha\":{\"field\":\"fill_alpha\"},\"fill_color\":{\"value\":\"dimgray\"},\"line_alpha\":{\"field\":\"line_alpha\"},\"line_color\":{\"value\":\"#f22c40\"},\"size\":{\"units\":\"screen\",\"value\":8},\"x\":{\"field\":\"x\"},\"y\":{\"field\":\"height\"}},\"id\":\"e6d3c1ab-ae6b-4ccd-8584-194ef1ab5a44\",\"type\":\"Circle\"},{\"attributes\":{},\"id\":\"8dea5b78-cf91-409f-b3a5-4db16624c6d0\",\"type\":\"CategoricalTickFormatter\"},{\"attributes\":{\"plot\":{\"id\":\"0e655c7c-a7f6-494d-b710-87972eb8e687\",\"subtype\":\"Chart\",\"type\":\"Plot\"}},\"id\":\"989067ed-d4c2-47aa-be38-71e78c29ed20\",\"type\":\"PanTool\"},{\"attributes\":{\"children\":[{\"id\":\"3aad506f-bbac-4aff-93d8-ccd4351bdfc6\",\"subtype\":\"Chart\",\"type\":\"Plot\"},{\"id\":\"f06fbef1-6326-4c65-8fb6-ac105fc279eb\",\"subtype\":\"Chart\",\"type\":\"Plot\"}]},\"id\":\"ee224a31-0416-44d0-aa98-1c117caa1470\",\"type\":\"HBox\"},{\"attributes\":{\"fill_alpha\":{\"field\":\"fill_alpha\"},\"fill_color\":{\"value\":\"#407ee7\"},\"line_alpha\":{\"field\":\"line_alpha\"},\"line_color\":{\"value\":\"#f22c40\"},\"size\":{\"units\":\"screen\",\"value\":8},\"x\":{\"field\":\"x\"},\"y\":{\"field\":\"height\"}},\"id\":\"03dac7fc-f1bb-4491-98aa-204f3c29671d\",\"type\":\"Circle\"},{\"attributes\":{\"data_source\":{\"id\":\"c8020015-b750-4311-aacf-ef7a4c8d505e\",\"type\":\"ColumnDataSource\"},\"glyph\":{\"id\":\"46ba557b-649f-41dd-b53e-8d3c116cb45f\",\"type\":\"Segment\"},\"hover_glyph\":null,\"nonselection_glyph\":null,\"selection_glyph\":null},\"id\":\"5fb62a11-8b75-455e-a5c8-2d0113e6bbb4\",\"type\":\"GlyphRenderer\"},{\"attributes\":{\"plot\":{\"id\":\"ab38e769-b993-49d4-ba31-7cef8596f3a4\",\"subtype\":\"Chart\",\"type\":\"Plot\"}},\"id\":\"7738e490-6807-4988-90db-5d5748e97942\",\"type\":\"HelpTool\"},{\"attributes\":{},\"id\":\"e2e0faf1-60f4-4591-bb76-da4872dd9b1e\",\"type\":\"CategoricalTicker\"},{\"attributes\":{},\"id\":\"4f9f6847-1304-4145-827a-7ab88c281f95\",\"type\":\"CategoricalTickFormatter\"},{\"attributes\":{\"legends\":[[\"8\",[{\"id\":\"c9d54022-7bf1-4140-8a9b-20ffedfdaa41\",\"type\":\"GlyphRenderer\"}]],[\"4\",[{\"id\":\"efd755b1-b55f-47ca-94d6-ad60decd1eaa\",\"type\":\"GlyphRenderer\"}]],[\"6\",[{\"id\":\"4c3e1e77-a508-40be-9502-469355fb5315\",\"type\":\"GlyphRenderer\"}]],[\"3\",[{\"id\":\"6a72c335-6a90-48b1-b847-85ad7042b277\",\"type\":\"GlyphRenderer\"}]],[\"5\",[{\"id\":\"f2d3856a-ff07-484d-b1ef-eabf0add4236\",\"type\":\"GlyphRenderer\"}]]],\"plot\":{\"id\":\"72e61fe9-6f2e-4bda-bb0a-4efa55991e92\",\"subtype\":\"Chart\",\"type\":\"Plot\"}},\"id\":\"66bdafaa-69a1-4149-8e62-dbf203d46d39\",\"type\":\"Legend\"},{\"attributes\":{\"below\":[{\"id\":\"3577b8e5-bce3-4262-8fec-153cbc380a4b\",\"type\":\"CategoricalAxis\"}],\"left\":[{\"id\":\"876ff155-c2fa-48ba-9b68-cce575e01a4f\",\"type\":\"LinearAxis\"}],\"legend\":null,\"plot_height\":350,\"plot_width\":450,\"renderers\":[{\"id\":\"2f8959c4-93b7-4ee7-a05e-64f7048f8505\",\"type\":\"BoxAnnotation\"},{\"id\":\"acef7e17-a318-4688-b120-6d19d724b18d\",\"type\":\"GlyphRenderer\"},{\"id\":\"6b447bd2-c14b-49fd-8cdd-3af53358ce3e\",\"type\":\"GlyphRenderer\"},{\"id\":\"1c6a5d8a-881c-4179-8035-293a47396e00\",\"type\":\"GlyphRenderer\"},{\"id\":\"632938ae-eca8-41b7-a998-1d49a678fdbe\",\"type\":\"GlyphRenderer\"},{\"id\":\"5fb62a11-8b75-455e-a5c8-2d0113e6bbb4\",\"type\":\"GlyphRenderer\"},{\"id\":\"dafd6a0d-2f6c-470c-b7a6-3c3b85963118\",\"type\":\"GlyphRenderer\"},{\"id\":\"2858647c-6b31-4613-a2f2-b48ea624da38\",\"type\":\"GlyphRenderer\"},{\"id\":\"75fda251-f46e-4050-8829-e2f7f91be610\",\"type\":\"GlyphRenderer\"},{\"id\":\"1b978cd6-aab5-46ea-9da6-fc1b3a90a87c\",\"type\":\"GlyphRenderer\"},{\"id\":\"d926c6ea-9701-4a19-9c8f-a5d8300b4939\",\"type\":\"GlyphRenderer\"},{\"id\":\"3577b8e5-bce3-4262-8fec-153cbc380a4b\",\"type\":\"CategoricalAxis\"},{\"id\":\"876ff155-c2fa-48ba-9b68-cce575e01a4f\",\"type\":\"LinearAxis\"},{\"id\":\"68841b22-e699-4d4e-81b6-8166d82c42b9\",\"type\":\"Grid\"}],\"title\":\"label='cyl' values='mpg' agg='mean'\",\"title_text_font_size\":{\"value\":\"14pt\"},\"tool_events\":{\"id\":\"61a76782-3474-4cec-96f2-fba86d127c52\",\"type\":\"ToolEvents\"},\"tools\":[{\"id\":\"e30c5d1b-e586-4187-9202-b9953e373319\",\"type\":\"PanTool\"},{\"id\":\"2ef5e149-5fda-4f25-a3c6-8d8fc0d58138\",\"type\":\"WheelZoomTool\"},{\"id\":\"a475f754-f605-4842-9040-df66dc08463d\",\"type\":\"BoxZoomTool\"},{\"id\":\"8c28dac1-2c58-410e-8b7e-1e5e7031566a\",\"type\":\"PreviewSaveTool\"},{\"id\":\"63adf111-0c08-40af-9088-354a9b127688\",\"type\":\"ResizeTool\"},{\"id\":\"59358a61-77b3-4259-9401-a24f5a5baf2b\",\"type\":\"ResetTool\"},{\"id\":\"5f76ea7e-8184-48cb-b4bd-3afb0fe81501\",\"type\":\"HelpTool\"}],\"x_mapper_type\":\"auto\",\"x_range\":{\"id\":\"6675b24a-5d17-403a-98e6-9fcf3a801fe9\",\"type\":\"FactorRange\"},\"xgrid\":false,\"xscale\":\"auto\",\"y_mapper_type\":\"auto\",\"y_range\":{\"id\":\"56c96e4f-5de5-45b8-b710-ef212446387b\",\"type\":\"Range1d\"},\"yscale\":\"auto\"},\"id\":\"3aad506f-bbac-4aff-93d8-ccd4351bdfc6\",\"subtype\":\"Chart\",\"type\":\"Plot\"},{\"attributes\":{\"dimension\":1,\"plot\":{\"id\":\"7e59fa8b-7bf1-4ee7-bd17-72959429603d\",\"subtype\":\"Chart\",\"type\":\"Plot\"},\"ticker\":{\"id\":\"bc627517-84c3-478f-9434-1dbb2dce25e0\",\"type\":\"BasicTicker\"}},\"id\":\"30848a4a-9209-4e3a-8d7e-5b9ad7569f37\",\"type\":\"Grid\"},{\"attributes\":{\"data_source\":{\"id\":\"f0b01762-ac0a-40ed-b7e9-17dcedb170e4\",\"type\":\"ColumnDataSource\"},\"glyph\":{\"id\":\"71cc24d8-5b12-4cb2-8174-69948af39e8d\",\"type\":\"Circle\"},\"hover_glyph\":null,\"nonselection_glyph\":null,\"selection_glyph\":null},\"id\":\"b1d062a2-82ca-4f41-bcb6-7f49cd6ecfa2\",\"type\":\"GlyphRenderer\"},{\"attributes\":{\"callback\":null,\"column_names\":[\"fill_alpha\",\"line_color\",\"line_alpha\",\"width\",\"y\",\"x\",\"height\",\"color\"],\"data\":{\"chart_index\":[{\"rep\":\"0\",\"sample_sizes\":\"500\"}],\"color\":[\"#f22c40\"],\"fill_alpha\":[0.8],\"height\":[0.4],\"line_alpha\":[1.0],\"line_color\":[\"#f22c40\"],\"rep\":[\"0\"],\"sample_sizes\":[\"500\"],\"width\":[0.2],\"x\":[\"500:0.5\"],\"y\":[0.2]}},\"id\":\"fdcebb2e-be66-4d6f-b496-3269718d1185\",\"type\":\"ColumnDataSource\"},{\"attributes\":{\"fill_alpha\":{\"field\":\"fill_alpha\"},\"fill_color\":{\"value\":\"#f22c40\"},\"line_alpha\":{\"field\":\"line_alpha\"},\"line_color\":{\"value\":\"#f22c40\"},\"size\":{\"units\":\"screen\",\"value\":8},\"x\":{\"field\":\"x\"},\"y\":{\"field\":\"height\"}},\"id\":\"03d472c2-3362-4112-bc29-974ac6cc2e24\",\"type\":\"Circle\"},{\"attributes\":{\"data_source\":{\"id\":\"3443b180-9a2b-4c00-8809-c25feeb2c694\",\"type\":\"ColumnDataSource\"},\"glyph\":{\"id\":\"3a5cc2a4-68de-4dbc-b883-d281cecbda4d\",\"type\":\"Circle\"},\"hover_glyph\":null,\"nonselection_glyph\":null,\"selection_glyph\":null},\"id\":\"5acc2bcf-8b1f-42d4-af17-c9c57a799dcc\",\"type\":\"GlyphRenderer\"},{\"attributes\":{\"fill_alpha\":{\"field\":\"fill_alpha\"},\"fill_color\":{\"value\":\"dimgray\"},\"line_alpha\":{\"field\":\"line_alpha\"},\"line_color\":{\"value\":\"#f22c40\"},\"size\":{\"units\":\"screen\",\"value\":8},\"x\":{\"field\":\"x\"},\"y\":{\"field\":\"height\"}},\"id\":\"4f15174f-6569-4d51-8c90-ba6eb36334c8\",\"type\":\"Circle\"},{\"attributes\":{\"axis_label\":\"Count( Cyl )\",\"formatter\":{\"id\":\"2e4e55b6-6fe7-49ed-abe3-f0d1869058d8\",\"type\":\"BasicTickFormatter\"},\"plot\":{\"id\":\"0e655c7c-a7f6-494d-b710-87972eb8e687\",\"subtype\":\"Chart\",\"type\":\"Plot\"},\"ticker\":{\"id\":\"d33ebe0e-7c4a-4695-b4f5-0cb04887fc46\",\"type\":\"BasicTicker\"}},\"id\":\"d91e532e-eda2-4e80-a09e-250d58994729\",\"type\":\"LinearAxis\"},{\"attributes\":{\"callback\":null,\"column_names\":[\"fill_alpha\",\"line_color\",\"line_alpha\",\"width\",\"y\",\"x\",\"height\",\"color\"],\"data\":{\"chart_index\":[{\"rep\":\"0\",\"sample_sizes\":\"250\"}],\"color\":[\"#f22c40\"],\"fill_alpha\":[0.8],\"height\":[0.2],\"line_alpha\":[1.0],\"line_color\":[\"#f22c40\"],\"rep\":[\"0\"],\"sample_sizes\":[\"250\"],\"width\":[0.2],\"x\":[\"250:0.5\"],\"y\":[0.1]}},\"id\":\"f0b01762-ac0a-40ed-b7e9-17dcedb170e4\",\"type\":\"ColumnDataSource\"},{\"attributes\":{\"plot\":{\"id\":\"7e59fa8b-7bf1-4ee7-bd17-72959429603d\",\"subtype\":\"Chart\",\"type\":\"Plot\"}},\"id\":\"670bf9ab-3411-4949-8939-1dcf573b7c57\",\"type\":\"PreviewSaveTool\"},{\"attributes\":{\"fill_alpha\":{\"field\":\"fill_alpha\"},\"fill_color\":{\"value\":\"#f22c40\"},\"line_alpha\":{\"field\":\"line_alpha\"},\"line_color\":{\"value\":\"#f22c40\"},\"size\":{\"units\":\"screen\",\"value\":8},\"x\":{\"field\":\"x\"},\"y\":{\"field\":\"height\"}},\"id\":\"2a65352d-647c-40a3-914f-8f0fd867de7f\",\"type\":\"Circle\"},{\"attributes\":{\"dimension\":1,\"plot\":{\"id\":\"dda01bd5-a3c6-40cb-bc29-237894282ba2\",\"subtype\":\"Chart\",\"type\":\"Plot\"},\"ticker\":{\"id\":\"09d6da24-e217-46f4-b5f6-310106b82c09\",\"type\":\"BasicTicker\"}},\"id\":\"f5483e74-8e74-42be-9dd4-28648b0707fa\",\"type\":\"Grid\"},{\"attributes\":{\"plot\":{\"id\":\"0e655c7c-a7f6-494d-b710-87972eb8e687\",\"subtype\":\"Chart\",\"type\":\"Plot\"}},\"id\":\"aa2e337a-5025-48bf-a0ec-9837a85d0375\",\"type\":\"ResizeTool\"},{\"attributes\":{\"data_source\":{\"id\":\"52b21c7f-727b-423e-b3d7-43f7de635f97\",\"type\":\"ColumnDataSource\"},\"glyph\":{\"id\":\"344c8e58-e94f-4117-8b16-015c9f266973\",\"type\":\"Circle\"},\"hover_glyph\":null,\"nonselection_glyph\":null,\"selection_glyph\":null},\"id\":\"ffef9dde-5e34-413d-90c4-6c6d9041a89e\",\"type\":\"GlyphRenderer\"},{\"attributes\":{\"callback\":null,\"column_names\":[\"fill_alpha\",\"line_color\",\"line_alpha\",\"width\",\"y\",\"x\",\"height\",\"color\"],\"data\":{\"chart_index\":[{\"cyl\":6,\"origin\":3}],\"color\":[\"#df5320\"],\"cyl\":[6],\"fill_alpha\":[0.8],\"height\":[23.88333333333333],\"line_alpha\":[1.0],\"line_color\":[\"#f22c40\"],\"origin\":[3],\"width\":[0.8],\"x\":[\"3\"],\"y\":[64.0873188405797]}},\"id\":\"21446b25-303f-4d0b-9fca-825f5730878a\",\"type\":\"ColumnDataSource\"},{\"attributes\":{\"fill_alpha\":{\"field\":\"fill_alpha\"},\"fill_color\":{\"value\":\"#f22c40\"},\"line_alpha\":{\"field\":\"line_alpha\"},\"line_color\":{\"value\":\"#f22c40\"},\"size\":{\"units\":\"screen\",\"value\":8},\"x\":{\"field\":\"x\"},\"y\":{\"field\":\"height\"}},\"id\":\"0ad7bd2e-01e1-4055-9e7d-013053c8b588\",\"type\":\"Circle\"},{\"attributes\":{\"callback\":null,\"end\":362.26019417475726},\"id\":\"02bd77d9-3b8c-4788-ad83-e1cccaca9446\",\"type\":\"Range1d\"},{\"attributes\":{\"fill_alpha\":{\"field\":\"fill_alpha\"},\"fill_color\":{\"value\":\"#5ab738\"},\"line_alpha\":{\"field\":\"line_alpha\"},\"line_color\":{\"value\":\"#f22c40\"},\"size\":{\"units\":\"screen\",\"value\":8},\"x\":{\"field\":\"x\"},\"y\":{\"field\":\"height\"}},\"id\":\"17eafc1b-9b23-433c-b64e-7af026d2a032\",\"type\":\"Circle\"},{\"attributes\":{},\"id\":\"b0c99323-e0ba-4f36-a9f5-6ff4fcdc0bee\",\"type\":\"CategoricalTickFormatter\"},{\"attributes\":{\"plot\":{\"id\":\"f06fbef1-6326-4c65-8fb6-ac105fc279eb\",\"subtype\":\"Chart\",\"type\":\"Plot\"}},\"id\":\"0859fbc5-69d7-4968-984f-3afc07d5843e\",\"type\":\"PreviewSaveTool\"},{\"attributes\":{\"callback\":null,\"column_names\":[\"fill_alpha\",\"line_color\",\"line_alpha\",\"width\",\"y\",\"x\",\"height\",\"color\"],\"data\":{\"chart_index\":[{\"cyl\":5}],\"color\":[\"dimgray\"],\"cyl\":[5],\"fill_alpha\":[0.8],\"height\":[3.0],\"line_alpha\":[1.0],\"line_color\":[\"#f22c40\"],\"width\":[0.8],\"x\":[\"5\"],\"y\":[1.5]}},\"id\":\"0f91df2e-7a78-4c97-972e-f645e43eab98\",\"type\":\"ColumnDataSource\"},{\"attributes\":{\"data_source\":{\"id\":\"aeeb2f59-c079-46aa-93c5-b3f79f72a2fd\",\"type\":\"ColumnDataSource\"},\"glyph\":{\"id\":\"371e3d94-cada-488b-97d8-9d994fbad9a6\",\"type\":\"Circle\"},\"hover_glyph\":null,\"nonselection_glyph\":null,\"selection_glyph\":null},\"id\":\"79b5e9df-b783-4a7b-a1e4-a1ec9cc06fd3\",\"type\":\"GlyphRenderer\"},{\"attributes\":{\"plot\":{\"id\":\"d6822298-866e-4493-8c93-b5ff36d9c882\",\"subtype\":\"Chart\",\"type\":\"Plot\"}},\"id\":\"23befe9d-137c-4f4c-befe-fc660950ad79\",\"type\":\"WheelZoomTool\"},{\"attributes\":{\"data_source\":{\"id\":\"5ff5952f-6f20-4471-a3ca-408f8d6802ae\",\"type\":\"ColumnDataSource\"},\"glyph\":{\"id\":\"ce405d9b-d2ce-4478-978f-be1853e6b046\",\"type\":\"Circle\"},\"hover_glyph\":null,\"nonselection_glyph\":null,\"selection_glyph\":null},\"id\":\"e9aaa695-d043-4834-bdf9-09d4b9e64d20\",\"type\":\"GlyphRenderer\"},{\"attributes\":{\"plot\":{\"id\":\"21a40375-1dd9-429c-b8dc-dc449d914668\",\"subtype\":\"Chart\",\"type\":\"Plot\"}},\"id\":\"83860c1a-180f-452f-9e10-85adc82cdccb\",\"type\":\"ResizeTool\"},{\"attributes\":{\"callback\":null,\"column_names\":[\"fill_alpha\",\"line_color\",\"line_alpha\",\"width\",\"y\",\"x\",\"height\",\"color\"],\"data\":{\"chart_index\":[{\"index\":4}],\"color\":[\"#f22c40\"],\"fill_alpha\":[0.8],\"height\":[29.283919597989957],\"index\":[4],\"line_alpha\":[1.0],\"line_color\":[\"#f22c40\"],\"width\":[0.8],\"x\":[\"4\"],\"y\":[14.641959798994979]}},\"id\":\"cdfa6882-e003-4a5d-a3f9-881e4dc84b0f\",\"type\":\"ColumnDataSource\"},{\"attributes\":{\"axis_label\":\"Cyl\",\"formatter\":{\"id\":\"20bc2ff4-9080-40aa-9374-f3bbb6675e1f\",\"type\":\"CategoricalTickFormatter\"},\"major_label_orientation\":0.7853981633974483,\"plot\":{\"id\":\"ab38e769-b993-49d4-ba31-7cef8596f3a4\",\"subtype\":\"Chart\",\"type\":\"Plot\"},\"ticker\":{\"id\":\"e2e0faf1-60f4-4591-bb76-da4872dd9b1e\",\"type\":\"CategoricalTicker\"}},\"id\":\"e02568a4-539a-4ccc-a86a-6f8e35948e9f\",\"type\":\"CategoricalAxis\"},{\"attributes\":{\"data_source\":{\"id\":\"e953a78c-9b8e-4105-8f01-15747311a3f0\",\"type\":\"ColumnDataSource\"},\"glyph\":{\"id\":\"ef9508ba-3034-4e10-8e7c-292ba864b404\",\"type\":\"Circle\"},\"hover_glyph\":null,\"nonselection_glyph\":null,\"selection_glyph\":null},\"id\":\"c3ba946a-5d28-4598-837a-e09bc7305255\",\"type\":\"GlyphRenderer\"},{\"attributes\":{\"callback\":null,\"column_names\":[\"fill_alpha\",\"line_color\",\"line_alpha\",\"width\",\"y\",\"x\",\"height\",\"color\"],\"data\":{\"chart_index\":[{\"cyl\":4}],\"color\":[\"#f22c40\"],\"cyl\":[4],\"fill_alpha\":[0.8],\"height\":[199.0],\"line_alpha\":[1.0],\"line_color\":[\"#f22c40\"],\"width\":[0.8],\"x\":[\"4\"],\"y\":[99.5]}},\"id\":\"2fa3a07a-c7f6-49c3-bcaf-5673f00ce5bc\",\"type\":\"ColumnDataSource\"},{\"attributes\":{},\"id\":\"356654e2-cc56-46d9-a52b-87ef9f2250a3\",\"type\":\"BasicTickFormatter\"},{\"attributes\":{\"data_source\":{\"id\":\"f6247879-57a3-4154-bdb9-c3a330ce54da\",\"type\":\"ColumnDataSource\"},\"glyph\":{\"id\":\"cf60831c-996a-4d29-b974-b5df0ecb03b2\",\"type\":\"Circle\"},\"hover_glyph\":null,\"nonselection_glyph\":null,\"selection_glyph\":null},\"id\":\"daba478d-84e0-46bc-99a5-92fedab2983d\",\"type\":\"GlyphRenderer\"},{\"attributes\":{\"fill_alpha\":{\"field\":\"fill_alpha\"},\"fill_color\":{\"value\":\"#df5320\"},\"line_alpha\":{\"field\":\"line_alpha\"},\"line_color\":{\"value\":\"#f22c40\"},\"size\":{\"units\":\"screen\",\"value\":8},\"x\":{\"field\":\"x\"},\"y\":{\"field\":\"height\"}},\"id\":\"b7e2f04c-a77d-458e-877e-d15283fb3474\",\"type\":\"Circle\"},{\"attributes\":{\"plot\":{\"id\":\"72e61fe9-6f2e-4bda-bb0a-4efa55991e92\",\"subtype\":\"Chart\",\"type\":\"Plot\"}},\"id\":\"08489c26-b618-4316-a8e0-23c6570ea05c\",\"type\":\"PanTool\"},{\"attributes\":{\"plot\":{\"id\":\"3aad506f-bbac-4aff-93d8-ccd4351bdfc6\",\"subtype\":\"Chart\",\"type\":\"Plot\"}},\"id\":\"59358a61-77b3-4259-9401-a24f5a5baf2b\",\"type\":\"ResetTool\"},{\"attributes\":{\"plot\":{\"id\":\"21a40375-1dd9-429c-b8dc-dc449d914668\",\"subtype\":\"Chart\",\"type\":\"Plot\"}},\"id\":\"600a8e68-60b1-4001-959f-5bdc8d1fc7a0\",\"type\":\"PanTool\"},{\"attributes\":{\"fill_alpha\":{\"field\":\"fill_alpha\"},\"fill_color\":{\"value\":\"#f22c40\"},\"line_alpha\":{\"field\":\"line_alpha\"},\"line_color\":{\"value\":\"#f22c40\"},\"size\":{\"units\":\"screen\",\"value\":8},\"x\":{\"field\":\"x\"},\"y\":{\"field\":\"height\"}},\"id\":\"321c4ee8-e06f-415b-a7cd-28994cca8354\",\"type\":\"Circle\"},{\"attributes\":{\"plot\":{\"id\":\"c6dc9d14-ff8d-448a-a6af-b200cae48c05\",\"subtype\":\"Chart\",\"type\":\"Plot\"}},\"id\":\"ff91512d-dbb1-4dc3-85e9-d4561635115f\",\"type\":\"ResizeTool\"},{\"attributes\":{\"callback\":null,\"column_names\":[\"fill_alpha\",\"line_color\",\"line_alpha\",\"width\",\"y\",\"x\",\"height\",\"color\"],\"data\":{\"chart_index\":[{\"cyl\":6,\"origin\":3}],\"color\":[\"#407ee7\"],\"cyl\":[6],\"fill_alpha\":[0.8],\"height\":[-23.88333333333333],\"line_alpha\":[1.0],\"line_color\":[\"#f22c40\"],\"origin\":[3],\"width\":[0.2],\"x\":[\"6:0.5\"],\"y\":[-11.941666666666665]}},\"id\":\"8b2addbb-1387-48c1-8ad2-9192ad51dc98\",\"type\":\"ColumnDataSource\"},{\"attributes\":{\"fill_alpha\":{\"field\":\"fill_alpha\"},\"fill_color\":{\"value\":\"#00ad9c\"},\"line_alpha\":{\"field\":\"line_alpha\"},\"line_color\":{\"value\":\"#f22c40\"},\"size\":{\"units\":\"screen\",\"value\":8},\"x\":{\"field\":\"x\"},\"y\":{\"field\":\"height\"}},\"id\":\"828804be-ff0a-4462-9f69-f2e593d648ae\",\"type\":\"Circle\"},{\"attributes\":{\"fill_alpha\":{\"field\":\"fill_alpha\"},\"fill_color\":{\"value\":\"#f22c40\"},\"line_alpha\":{\"field\":\"line_alpha\"},\"line_color\":{\"value\":\"#f22c40\"},\"size\":{\"units\":\"screen\",\"value\":8},\"x\":{\"field\":\"x\"},\"y\":{\"field\":\"height\"}},\"id\":\"bf822bcb-0ebf-4faa-8945-c81a823613a3\",\"type\":\"Circle\"},{\"attributes\":{\"axis_label\":\"Mean( Mpg )\",\"formatter\":{\"id\":\"114dafb1-efe7-45b3-81d4-0d3f1a03bb60\",\"type\":\"BasicTickFormatter\"},\"plot\":{\"id\":\"72e61fe9-6f2e-4bda-bb0a-4efa55991e92\",\"subtype\":\"Chart\",\"type\":\"Plot\"},\"ticker\":{\"id\":\"5db27947-7e1b-46c6-9360-83a5fad6030a\",\"type\":\"BasicTicker\"}},\"id\":\"0c0ccd61-7759-4909-9e42-53c54011893e\",\"type\":\"LinearAxis\"},{\"attributes\":{\"line_alpha\":{\"field\":\"fill_alpha\"},\"x0\":{\"field\":\"x\"},\"x1\":{\"field\":\"x\"},\"y0\":{\"value\":0},\"y1\":{\"field\":\"height\"}},\"id\":\"961cc536-9df8-4a78-a7f2-0b01ddda65ee\",\"type\":\"Segment\"},{\"attributes\":{\"fill_alpha\":{\"field\":\"fill_alpha\"},\"fill_color\":{\"value\":\"#407ee7\"},\"line_alpha\":{\"field\":\"line_alpha\"},\"line_color\":{\"value\":\"#f22c40\"},\"size\":{\"units\":\"screen\",\"value\":8},\"x\":{\"field\":\"x\"},\"y\":{\"field\":\"height\"}},\"id\":\"e32f13c3-eefa-4b78-ab6d-59dd4974d765\",\"type\":\"Circle\"},{\"attributes\":{\"overlay\":{\"id\":\"a2203ba5-7466-4dd4-bb28-28493943901c\",\"type\":\"BoxAnnotation\"},\"plot\":{\"id\":\"0e655c7c-a7f6-494d-b710-87972eb8e687\",\"subtype\":\"Chart\",\"type\":\"Plot\"}},\"id\":\"9c7f6dc9-525d-4041-af1f-92819be5c311\",\"type\":\"BoxZoomTool\"},{\"attributes\":{\"callback\":null,\"column_names\":[\"fill_alpha\",\"line_color\",\"line_alpha\",\"width\",\"y\",\"x\",\"height\",\"color\"],\"data\":{\"chart_index\":[{\"cyl\":3}],\"color\":[\"dimgray\"],\"cyl\":[3],\"fill_alpha\":[0.8],\"height\":[4.0],\"line_alpha\":[1.0],\"line_color\":[\"#f22c40\"],\"width\":[0.8],\"x\":[\"3\"],\"y\":[2.0]}},\"id\":\"c63b8e3e-888a-40fe-8172-fe246c237161\",\"type\":\"ColumnDataSource\"},{\"attributes\":{\"data_source\":{\"id\":\"cdfa6882-e003-4a5d-a3f9-881e4dc84b0f\",\"type\":\"ColumnDataSource\"},\"glyph\":{\"id\":\"f991e4b0-7bc8-4e71-9223-2012454e3a4b\",\"type\":\"Circle\"},\"hover_glyph\":null,\"nonselection_glyph\":null,\"selection_glyph\":null},\"id\":\"efd755b1-b55f-47ca-94d6-ad60decd1eaa\",\"type\":\"GlyphRenderer\"},{\"attributes\":{},\"id\":\"10d37484-fbd3-4f8c-a103-dbb4c6b0ec71\",\"type\":\"BasicTicker\"},{\"attributes\":{\"callback\":null,\"column_names\":[\"fill_alpha\",\"line_color\",\"line_alpha\",\"width\",\"y\",\"x\",\"height\",\"color\"],\"data\":{\"chart_index\":[{\"interpreter\":\"python\",\"sample\":\"1st\"}],\"color\":[\"#f22c40\"],\"fill_alpha\":[0.8],\"height\":[-2.0],\"interpreter\":[\"python\"],\"line_alpha\":[1.0],\"line_color\":[\"#f22c40\"],\"sample\":[\"1st\"],\"width\":[0.2],\"x\":[\"python:0.333333333333\"],\"y\":[-1.0]}},\"id\":\"87a982eb-dc85-4daf-9e78-3234ab3c80de\",\"type\":\"ColumnDataSource\"},{\"attributes\":{\"below\":[{\"id\":\"47103bc7-f178-47ce-a642-8a9d99feebe0\",\"type\":\"CategoricalAxis\"}],\"left\":[{\"id\":\"becd9761-33b2-4fd4-9ce2-f4d3e0cc2837\",\"type\":\"LinearAxis\"}],\"legend\":null,\"plot_height\":350,\"plot_width\":450,\"renderers\":[{\"id\":\"96162a54-fd1b-4986-9d19-a9fca396dff3\",\"type\":\"BoxAnnotation\"},{\"id\":\"91d2ba38-ac92-4d0a-9477-a350dc894b3c\",\"type\":\"GlyphRenderer\"},{\"id\":\"8c044965-9e5c-41da-a806-a35490f0cd12\",\"type\":\"GlyphRenderer\"},{\"id\":\"fe78cd57-1779-4b36-b7d3-27369cc6bf15\",\"type\":\"GlyphRenderer\"},{\"id\":\"3e51a862-bf8a-4b02-8643-53dbf8092525\",\"type\":\"GlyphRenderer\"},{\"id\":\"0414ce60-dd36-4b36-9f7f-ef47bd82a54f\",\"type\":\"GlyphRenderer\"},{\"id\":\"47103bc7-f178-47ce-a642-8a9d99feebe0\",\"type\":\"CategoricalAxis\"},{\"id\":\"becd9761-33b2-4fd4-9ce2-f4d3e0cc2837\",\"type\":\"LinearAxis\"},{\"id\":\"f75c3cbe-6532-4667-b9c1-349137254b6e\",\"type\":\"Grid\"}],\"title\":\"label='cyl' color='DimGray'\",\"title_text_font_size\":{\"value\":\"14pt\"},\"tool_events\":{\"id\":\"b1bc7ba9-691e-433f-8ff1-034446fca998\",\"type\":\"ToolEvents\"},\"tools\":[{\"id\":\"3a37fa9d-6ce0-4c07-a4a6-5f2018f9db9a\",\"type\":\"PanTool\"},{\"id\":\"0e2f1792-7b5a-40e7-9133-13e4255e447b\",\"type\":\"WheelZoomTool\"},{\"id\":\"6d3112c0-372b-4664-a875-f554b7489a89\",\"type\":\"BoxZoomTool\"},{\"id\":\"0859fbc5-69d7-4968-984f-3afc07d5843e\",\"type\":\"PreviewSaveTool\"},{\"id\":\"57209332-7a8d-4df7-852d-b6308fa42ac5\",\"type\":\"ResizeTool\"},{\"id\":\"a4e879f5-5629-4572-b165-67d88fcbcca8\",\"type\":\"ResetTool\"},{\"id\":\"ddc1957e-3094-475c-ae8e-0c7d0a3e594a\",\"type\":\"HelpTool\"}],\"x_mapper_type\":\"auto\",\"x_range\":{\"id\":\"e2436260-c332-49e7-8487-47eff16187f3\",\"type\":\"FactorRange\"},\"xgrid\":false,\"xscale\":\"auto\",\"y_mapper_type\":\"auto\",\"y_range\":{\"id\":\"4f86f321-dfc6-42cc-a287-0ca63ab50991\",\"type\":\"Range1d\"},\"yscale\":\"auto\"},\"id\":\"f06fbef1-6326-4c65-8fb6-ac105fc279eb\",\"subtype\":\"Chart\",\"type\":\"Plot\"},{\"attributes\":{\"data_source\":{\"id\":\"998c1a33-e44b-4d34-8b77-c3bd39f83a2f\",\"type\":\"ColumnDataSource\"},\"glyph\":{\"id\":\"36dcd9e3-acf2-4615-9b6f-46bfe6200982\",\"type\":\"Circle\"},\"hover_glyph\":null,\"nonselection_glyph\":null,\"selection_glyph\":null},\"id\":\"0880aeef-4c30-4210-acac-1a543a6775e4\",\"type\":\"GlyphRenderer\"},{\"attributes\":{\"plot\":{\"id\":\"d6822298-866e-4493-8c93-b5ff36d9c882\",\"subtype\":\"Chart\",\"type\":\"Plot\"}},\"id\":\"e7eff6e2-bae9-4f57-8124-43ebd89093ce\",\"type\":\"PreviewSaveTool\"},{\"attributes\":{\"data_source\":{\"id\":\"b43912a9-1e05-49b5-a66f-ddd87be43fd0\",\"type\":\"ColumnDataSource\"},\"glyph\":{\"id\":\"426f1cfc-c5e0-4663-b2c4-7fb9a7df4fab\",\"type\":\"Circle\"},\"hover_glyph\":null,\"nonselection_glyph\":null,\"selection_glyph\":null},\"id\":\"92455023-2914-4aea-87db-24e5af1dea2c\",\"type\":\"GlyphRenderer\"},{\"attributes\":{\"below\":[{\"id\":\"36bea574-eb79-4969-9b08-4e7d81037dc8\",\"type\":\"CategoricalAxis\"}],\"left\":[{\"id\":\"845fd9f5-1e7a-466a-a55b-80cc4e61b4a1\",\"type\":\"LinearAxis\"}],\"legend\":\"top_right\",\"plot_height\":350,\"plot_width\":450,\"renderers\":[{\"id\":\"345b0bbc-7ca6-4b0a-878e-4941d2bc0548\",\"type\":\"BoxAnnotation\"},{\"id\":\"4cd38172-906b-41f4-8752-71e550f0af77\",\"type\":\"GlyphRenderer\"},{\"id\":\"b2cd0bdf-e3cd-4b2f-9802-fc260ad96608\",\"type\":\"GlyphRenderer\"},{\"id\":\"24ee15df-cc4c-4e7a-be93-b74e13684fa4\",\"type\":\"GlyphRenderer\"},{\"id\":\"0434722b-a701-44de-93c8-c3eca383f95a\",\"type\":\"GlyphRenderer\"},{\"id\":\"6fe92458-3897-49e2-9be4-3754c7038a69\",\"type\":\"GlyphRenderer\"},{\"id\":\"279160e3-741d-4733-8387-9e9685043363\",\"type\":\"GlyphRenderer\"},{\"id\":\"3d127c69-5b3d-4a0f-b6b0-a76731de11b4\",\"type\":\"GlyphRenderer\"},{\"id\":\"b970ae24-2596-43b2-8139-93f0e1dd101c\",\"type\":\"GlyphRenderer\"},{\"id\":\"d8f35c19-0153-4072-88a9-32ef12586814\",\"type\":\"GlyphRenderer\"},{\"id\":\"2f8f52ec-f21e-4022-a8a8-8a75cf4279a5\",\"type\":\"Legend\"},{\"id\":\"36bea574-eb79-4969-9b08-4e7d81037dc8\",\"type\":\"CategoricalAxis\"},{\"id\":\"845fd9f5-1e7a-466a-a55b-80cc4e61b4a1\",\"type\":\"LinearAxis\"},{\"id\":\"6b522d57-baea-420d-8f1c-67ef73ecaa53\",\"type\":\"Grid\"}],\"title\":\"label='cyl' values='neg_mpg' agg='mean' group='origin'\",\"title_text_font_size\":{\"value\":\"11pt\"},\"tool_events\":{\"id\":\"b6beeb91-31be-4985-bc1e-072d4e1125b1\",\"type\":\"ToolEvents\"},\"tools\":[{\"id\":\"25ee4f65-0a66-4c3b-84e0-13c95b402bd9\",\"type\":\"PanTool\"},{\"id\":\"760a2a0a-cadf-4c04-975f-0399b8e03d37\",\"type\":\"WheelZoomTool\"},{\"id\":\"7d1748d7-d0e8-4bc6-b551-a7512f914720\",\"type\":\"BoxZoomTool\"},{\"id\":\"346daf49-6d3d-4631-8591-4db1880c5341\",\"type\":\"PreviewSaveTool\"},{\"id\":\"6474ae36-e878-4509-9a6c-71228ae4d4b8\",\"type\":\"ResizeTool\"},{\"id\":\"68c6b3f9-ff15-44b8-895a-c13cd3f72515\",\"type\":\"ResetTool\"},{\"id\":\"aece1c14-ae74-4a2d-827c-89d94e69416e\",\"type\":\"HelpTool\"}],\"x_mapper_type\":\"auto\",\"x_range\":{\"id\":\"5a0f4e5d-b5bc-4c71-af8b-4016ce6d64da\",\"type\":\"FactorRange\"},\"xgrid\":false,\"xscale\":\"auto\",\"y_mapper_type\":\"auto\",\"y_range\":{\"id\":\"0127cfc3-a023-450c-85c0-c1b697583860\",\"type\":\"Range1d\"},\"yscale\":\"auto\"},\"id\":\"c6b44c4e-a7ea-450c-9a40-2211543ca05b\",\"subtype\":\"Chart\",\"type\":\"Plot\"},{\"attributes\":{\"fill_alpha\":{\"field\":\"fill_alpha\"},\"fill_color\":{\"value\":\"#f22c40\"},\"line_alpha\":{\"field\":\"line_alpha\"},\"line_color\":{\"value\":\"#f22c40\"},\"size\":{\"units\":\"screen\",\"value\":8},\"x\":{\"field\":\"x\"},\"y\":{\"field\":\"height\"}},\"id\":\"ef9508ba-3034-4e10-8e7c-292ba864b404\",\"type\":\"Circle\"},{\"attributes\":{\"plot\":{\"id\":\"c6b44c4e-a7ea-450c-9a40-2211543ca05b\",\"subtype\":\"Chart\",\"type\":\"Plot\"}},\"id\":\"68c6b3f9-ff15-44b8-895a-c13cd3f72515\",\"type\":\"ResetTool\"},{\"attributes\":{},\"id\":\"1f63775d-4801-447d-9c2e-41dafe0fe67d\",\"type\":\"CategoricalTickFormatter\"},{\"attributes\":{\"callback\":null,\"column_names\":[\"fill_alpha\",\"line_color\",\"line_alpha\",\"width\",\"y\",\"x\",\"height\",\"color\"],\"data\":{\"chart_index\":[{\"cyl\":6,\"origin\":3}],\"color\":[\"#f22c40\"],\"cyl\":[6],\"fill_alpha\":[0.8],\"height\":[23.88333333333333],\"line_alpha\":[1.0],\"line_color\":[\"#f22c40\"],\"origin\":[3],\"width\":[0.8],\"x\":[\"(6, 3)\"],\"y\":[11.941666666666665]}},\"id\":\"5dbf19f6-5699-42fa-835a-a62dcae9384f\",\"type\":\"ColumnDataSource\"},{\"attributes\":{},\"id\":\"da2bb50d-9715-4b8e-b459-5027e7e58cfd\",\"type\":\"ToolEvents\"},{\"attributes\":{\"fill_alpha\":{\"field\":\"fill_alpha\"},\"fill_color\":{\"value\":\"#5ab738\"},\"line_alpha\":{\"field\":\"line_alpha\"},\"line_color\":{\"value\":\"#f22c40\"},\"size\":{\"units\":\"screen\",\"value\":8},\"x\":{\"field\":\"x\"},\"y\":{\"field\":\"height\"}},\"id\":\"426f1cfc-c5e0-4663-b2c4-7fb9a7df4fab\",\"type\":\"Circle\"},{\"attributes\":{\"callback\":null,\"factors\":[\"3\",\"4\",\"5\",\"6\",\"8\"]},\"id\":\"e2436260-c332-49e7-8487-47eff16187f3\",\"type\":\"FactorRange\"},{\"attributes\":{\"plot\":{\"id\":\"21a40375-1dd9-429c-b8dc-dc449d914668\",\"subtype\":\"Chart\",\"type\":\"Plot\"}},\"id\":\"d1a4b36d-93a7-4723-9098-47ea8f9f0cda\",\"type\":\"ResetTool\"},{\"attributes\":{\"plot\":{\"id\":\"c6dc9d14-ff8d-448a-a6af-b200cae48c05\",\"subtype\":\"Chart\",\"type\":\"Plot\"}},\"id\":\"f36564b4-0e07-4983-ac6c-692a89383c21\",\"type\":\"PanTool\"},{\"attributes\":{\"fill_alpha\":{\"field\":\"fill_alpha\"},\"fill_color\":{\"value\":\"#5ab738\"},\"line_alpha\":{\"field\":\"line_alpha\"},\"line_color\":{\"value\":\"#f22c40\"},\"size\":{\"units\":\"screen\",\"value\":8},\"x\":{\"field\":\"x\"},\"y\":{\"field\":\"height\"}},\"id\":\"7a52c369-df04-4e26-b76a-19f95ec6c7bf\",\"type\":\"Circle\"},{\"attributes\":{\"plot\":{\"id\":\"ab38e769-b993-49d4-ba31-7cef8596f3a4\",\"subtype\":\"Chart\",\"type\":\"Plot\"}},\"id\":\"70537b8f-aeca-4026-aee0-7306abf4449d\",\"type\":\"ResetTool\"},{\"attributes\":{\"dimension\":1,\"plot\":{\"id\":\"c6dc9d14-ff8d-448a-a6af-b200cae48c05\",\"subtype\":\"Chart\",\"type\":\"Plot\"},\"ticker\":{\"id\":\"f7793930-08ac-4d29-85d4-bb4276c4dfd5\",\"type\":\"BasicTicker\"}},\"id\":\"b9ec1c08-c6b6-4528-9989-96b3b5988737\",\"type\":\"Grid\"},{\"attributes\":{},\"id\":\"5db27947-7e1b-46c6-9360-83a5fad6030a\",\"type\":\"BasicTicker\"},{\"attributes\":{\"callback\":null,\"column_names\":[\"fill_alpha\",\"line_color\",\"line_alpha\",\"width\",\"y\",\"x\",\"height\",\"color\"],\"data\":{\"chart_index\":[{\"cyl\":3}],\"color\":[\"#f22c40\"],\"cyl\":[3],\"fill_alpha\":[0.8],\"height\":[20.55],\"line_alpha\":[1.0],\"line_color\":[\"#f22c40\"],\"width\":[0.8],\"x\":[\"3\"],\"y\":[10.275]}},\"id\":\"8b599703-79d5-4287-a2bd-29da9572033e\",\"type\":\"ColumnDataSource\"},{\"attributes\":{\"fill_alpha\":{\"field\":\"fill_alpha\"},\"fill_color\":{\"value\":\"#5ab738\"},\"line_alpha\":{\"field\":\"line_alpha\"},\"line_color\":{\"value\":\"#f22c40\"},\"size\":{\"units\":\"screen\",\"value\":8},\"x\":{\"field\":\"x\"},\"y\":{\"field\":\"height\"}},\"id\":\"e8854e19-e813-4c81-b697-6e4c4d403736\",\"type\":\"Circle\"},{\"attributes\":{\"fill_alpha\":{\"field\":\"fill_alpha\"},\"fill_color\":{\"value\":\"#f22c40\"},\"line_alpha\":{\"field\":\"line_alpha\"},\"line_color\":{\"value\":\"#f22c40\"},\"size\":{\"units\":\"screen\",\"value\":8},\"x\":{\"field\":\"x\"},\"y\":{\"field\":\"height\"}},\"id\":\"f991e4b0-7bc8-4e71-9223-2012454e3a4b\",\"type\":\"Circle\"},{\"attributes\":{\"callback\":null,\"column_names\":[\"fill_alpha\",\"line_color\",\"line_alpha\",\"width\",\"y\",\"x\",\"height\",\"color\"],\"data\":{\"chart_index\":[{\"cyl\":3,\"origin\":3}],\"color\":[\"#407ee7\"],\"cyl\":[3],\"fill_alpha\":[0.8],\"height\":[-20.55],\"line_alpha\":[1.0],\"line_color\":[\"#f22c40\"],\"origin\":[3],\"width\":[0.2],\"x\":[\"3:0.5\"],\"y\":[-10.275]}},\"id\":\"241ffeed-51bd-4399-bfba-bbe91243b381\",\"type\":\"ColumnDataSource\"},{\"attributes\":{\"callback\":null,\"column_names\":[\"fill_alpha\",\"line_color\",\"line_alpha\",\"width\",\"y\",\"x\",\"height\",\"color\"],\"data\":{\"chart_index\":[{\"cyl\":4}],\"color\":[\"dimgray\"],\"cyl\":[4],\"fill_alpha\":[0.8],\"height\":[199.0],\"line_alpha\":[1.0],\"line_color\":[\"#f22c40\"],\"width\":[0.8],\"x\":[\"4\"],\"y\":[99.5]}},\"id\":\"9293b339-7df3-48bf-bb7b-cebf697b63b0\",\"type\":\"ColumnDataSource\"},{\"attributes\":{\"callback\":null,\"column_names\":[\"fill_alpha\",\"line_color\",\"line_alpha\",\"width\",\"y\",\"x\",\"height\",\"color\"],\"data\":{\"chart_index\":[{\"cyl\":4}],\"color\":[\"#f22c40\"],\"cyl\":[4],\"fill_alpha\":[0.8],\"height\":[29.283919597989957],\"line_alpha\":[1.0],\"line_color\":[\"#f22c40\"],\"width\":[0.8],\"x\":[\"4\"],\"y\":[14.641959798994979]}},\"id\":\"026e8a7c-e895-416a-9a04-a8cfc6f1381f\",\"type\":\"ColumnDataSource\"},{\"attributes\":{\"callback\":null,\"column_names\":[\"fill_alpha\",\"line_color\",\"line_alpha\",\"width\",\"y\",\"x\",\"height\",\"color\"],\"data\":{\"chart_index\":[{\"cyl\":4,\"origin\":3}],\"color\":[\"#407ee7\"],\"cyl\":[4],\"fill_alpha\":[0.8],\"height\":[99.76811594202898],\"line_alpha\":[1.0],\"line_color\":[\"#f22c40\"],\"origin\":[3],\"width\":[0.2],\"x\":[\"4:0.5\"],\"y\":[49.88405797101449]}},\"id\":\"ff887ebb-f097-474a-9077-7133f1a31423\",\"type\":\"ColumnDataSource\"},{\"attributes\":{\"plot\":{\"id\":\"c6b44c4e-a7ea-450c-9a40-2211543ca05b\",\"subtype\":\"Chart\",\"type\":\"Plot\"}},\"id\":\"760a2a0a-cadf-4c04-975f-0399b8e03d37\",\"type\":\"WheelZoomTool\"},{\"attributes\":{\"callback\":null,\"factors\":[\"3\",\"4\",\"5\",\"6\",\"8\"]},\"id\":\"868936d8-1f88-4460-aac3-07870e31dcac\",\"type\":\"FactorRange\"},{\"attributes\":{\"callback\":null,\"column_names\":[\"fill_alpha\",\"line_color\",\"line_alpha\",\"width\",\"y\",\"x\",\"height\",\"color\"],\"data\":{\"chart_index\":[{\"cyl\":4,\"origin\":1}],\"color\":[\"#f22c40\"],\"cyl\":[4],\"fill_alpha\":[0.8],\"height\":[28.013043478260876],\"line_alpha\":[1.0],\"line_color\":[\"#f22c40\"],\"origin\":[1],\"width\":[0.8],\"x\":[\"(4, 1)\"],\"y\":[14.006521739130438]}},\"id\":\"e7087688-319a-490a-bb40-403b8e25118d\",\"type\":\"ColumnDataSource\"},{\"attributes\":{\"data_source\":{\"id\":\"068a0d80-a25c-4b9c-9a30-8b543d7cf430\",\"type\":\"ColumnDataSource\"},\"glyph\":{\"id\":\"655d4239-6468-486f-8699-a0453d5f91b1\",\"type\":\"Circle\"},\"hover_glyph\":null,\"nonselection_glyph\":null,\"selection_glyph\":null},\"id\":\"3a7b5d4c-f445-46bd-a0fd-17f3b15eda97\",\"type\":\"GlyphRenderer\"},{\"attributes\":{\"callback\":null,\"factors\":[\"3\",\"4\",\"5\",\"6\",\"8\"]},\"id\":\"6675b24a-5d17-403a-98e6-9fcf3a801fe9\",\"type\":\"FactorRange\"},{\"attributes\":{},\"id\":\"bc87d84e-9b8e-4582-8619-52c5a38c4076\",\"type\":\"BasicTickFormatter\"},{\"attributes\":{\"fill_alpha\":{\"field\":\"fill_alpha\"},\"fill_color\":{\"value\":\"#f22c40\"},\"line_alpha\":{\"field\":\"line_alpha\"},\"line_color\":{\"value\":\"#f22c40\"},\"size\":{\"units\":\"screen\",\"value\":8},\"x\":{\"field\":\"x\"},\"y\":{\"field\":\"height\"}},\"id\":\"8d6de174-afae-414f-99a7-a346a470c7c1\",\"type\":\"Circle\"},{\"attributes\":{\"data_source\":{\"id\":\"e7087688-319a-490a-bb40-403b8e25118d\",\"type\":\"ColumnDataSource\"},\"glyph\":{\"id\":\"ce324367-2f8a-47b4-92f7-85fce305646b\",\"type\":\"Circle\"},\"hover_glyph\":null,\"nonselection_glyph\":null,\"selection_glyph\":null},\"id\":\"382fe511-299d-416f-a37a-225c002c4e5d\",\"type\":\"GlyphRenderer\"},{\"attributes\":{},\"id\":\"0f1cb761-5bd6-4be1-93ab-9c75ec087a66\",\"type\":\"BasicTicker\"},{\"attributes\":{\"callback\":null,\"column_names\":[\"fill_alpha\",\"line_color\",\"line_alpha\",\"width\",\"y\",\"x\",\"height\",\"color\"],\"data\":{\"chart_index\":[{\"cyl\":5}],\"color\":[\"#f22c40\"],\"cyl\":[5],\"fill_alpha\":[0.8],\"height\":[3.0],\"line_alpha\":[1.0],\"line_color\":[\"#f22c40\"],\"width\":[0.8],\"x\":[\"5\"],\"y\":[1.5]}},\"id\":\"2ed5d62e-29e7-438d-a03f-04627dab2e0d\",\"type\":\"ColumnDataSource\"},{\"attributes\":{},\"id\":\"27852b40-5c76-498d-97f3-b63b676feaff\",\"type\":\"CategoricalTicker\"},{\"attributes\":{\"fill_alpha\":{\"field\":\"fill_alpha\"},\"fill_color\":{\"value\":\"#5ab738\"},\"line_alpha\":{\"field\":\"line_alpha\"},\"line_color\":{\"value\":\"#f22c40\"},\"size\":{\"units\":\"screen\",\"value\":8},\"x\":{\"field\":\"x\"},\"y\":{\"field\":\"height\"}},\"id\":\"ce405d9b-d2ce-4478-978f-be1853e6b046\",\"type\":\"Circle\"},{\"attributes\":{\"callback\":null,\"column_names\":[\"fill_alpha\",\"line_color\",\"line_alpha\",\"width\",\"y\",\"x\",\"height\",\"color\"],\"data\":{\"chart_index\":[{\"cyl\":3}],\"color\":[\"#f22c40\"],\"cyl\":[3],\"fill_alpha\":[0.8],\"height\":[4.0],\"line_alpha\":[1.0],\"line_color\":[\"#f22c40\"],\"width\":[0.8],\"x\":[\"3\"],\"y\":[2.0]}},\"id\":\"52b21c7f-727b-423e-b3d7-43f7de635f97\",\"type\":\"ColumnDataSource\"},{\"attributes\":{\"legends\":[[\"0\",[{\"id\":\"b1d062a2-82ca-4f41-bcb6-7f49cd6ecfa2\",\"type\":\"GlyphRenderer\"}]]],\"plot\":{\"id\":\"21a40375-1dd9-429c-b8dc-dc449d914668\",\"subtype\":\"Chart\",\"type\":\"Plot\"}},\"id\":\"47b0d0b8-9aca-4069-ae9f-102f87fd40ae\",\"type\":\"Legend\"},{\"attributes\":{\"axis_label\":\"Cyl\",\"formatter\":{\"id\":\"de96303c-7bb1-481b-a2cc-6ed5512cd88e\",\"type\":\"CategoricalTickFormatter\"},\"major_label_orientation\":0.7853981633974483,\"plot\":{\"id\":\"f06fbef1-6326-4c65-8fb6-ac105fc279eb\",\"subtype\":\"Chart\",\"type\":\"Plot\"},\"ticker\":{\"id\":\"024da77a-a4e2-46e6-b926-a310543a15d2\",\"type\":\"CategoricalTicker\"}},\"id\":\"47103bc7-f178-47ce-a642-8a9d99feebe0\",\"type\":\"CategoricalAxis\"},{\"attributes\":{\"dimension\":1,\"plot\":{\"id\":\"0e655c7c-a7f6-494d-b710-87972eb8e687\",\"subtype\":\"Chart\",\"type\":\"Plot\"},\"ticker\":{\"id\":\"d33ebe0e-7c4a-4695-b4f5-0cb04887fc46\",\"type\":\"BasicTicker\"}},\"id\":\"3cd2925b-e885-4616-a4b9-6c18a62a38cc\",\"type\":\"Grid\"},{\"attributes\":{\"fill_alpha\":{\"field\":\"fill_alpha\"},\"fill_color\":{\"value\":\"#5ab738\"},\"line_alpha\":{\"field\":\"line_alpha\"},\"line_color\":{\"value\":\"#f22c40\"},\"size\":{\"units\":\"screen\",\"value\":8},\"x\":{\"field\":\"x\"},\"y\":{\"field\":\"height\"}},\"id\":\"30ba3e60-eef2-4b1f-93c7-1cec8e3c9de0\",\"type\":\"Circle\"},{\"attributes\":{\"plot\":{\"id\":\"21a40375-1dd9-429c-b8dc-dc449d914668\",\"subtype\":\"Chart\",\"type\":\"Plot\"}},\"id\":\"c4ff3c5b-74d3-420f-a153-9810bd3dd0e2\",\"type\":\"HelpTool\"},{\"attributes\":{\"data_source\":{\"id\":\"25103223-4434-48b6-8912-45330e538095\",\"type\":\"ColumnDataSource\"},\"glyph\":{\"id\":\"2e6c7a49-b806-4c4b-8c8c-2bcd6bc66f4b\",\"type\":\"Circle\"},\"hover_glyph\":null,\"nonselection_glyph\":null,\"selection_glyph\":null},\"id\":\"7ebff80f-d276-464b-9072-a6aee8c7b5e2\",\"type\":\"GlyphRenderer\"},{\"attributes\":{\"data_source\":{\"id\":\"ff887ebb-f097-474a-9077-7133f1a31423\",\"type\":\"ColumnDataSource\"},\"glyph\":{\"id\":\"e32f13c3-eefa-4b78-ab6d-59dd4974d765\",\"type\":\"Circle\"},\"hover_glyph\":null,\"nonselection_glyph\":null,\"selection_glyph\":null},\"id\":\"c3cf89d6-2ee3-4939-9c4f-55431accb3bd\",\"type\":\"GlyphRenderer\"},{\"attributes\":{\"fill_alpha\":{\"field\":\"fill_alpha\"},\"fill_color\":{\"value\":\"#5ab738\"},\"line_alpha\":{\"field\":\"line_alpha\"},\"line_color\":{\"value\":\"#f22c40\"},\"size\":{\"units\":\"screen\",\"value\":8},\"x\":{\"field\":\"x\"},\"y\":{\"field\":\"height\"}},\"id\":\"2e6c7a49-b806-4c4b-8c8c-2bcd6bc66f4b\",\"type\":\"Circle\"},{\"attributes\":{\"data_source\":{\"id\":\"e1c0d76d-e223-437e-9f50-f81dbe1dc4b2\",\"type\":\"ColumnDataSource\"},\"glyph\":{\"id\":\"4c8ca02d-7a48-4933-9ba1-b10ac463611c\",\"type\":\"Circle\"},\"hover_glyph\":null,\"nonselection_glyph\":null,\"selection_glyph\":null},\"id\":\"6d447604-a589-4c0a-a05c-24cc81875113\",\"type\":\"GlyphRenderer\"},{\"attributes\":{\"callback\":null,\"column_names\":[\"fill_alpha\",\"line_color\",\"line_alpha\",\"width\",\"y\",\"x\",\"height\",\"color\"],\"data\":{\"chart_index\":[{\"cyl\":6}],\"color\":[\"#f22c40\"],\"cyl\":[6],\"fill_alpha\":[0.8],\"height\":[83.0],\"line_alpha\":[1.0],\"line_color\":[\"#f22c40\"],\"width\":[0.8],\"x\":[\"6\"],\"y\":[41.5]}},\"id\":\"de317aff-ca30-4025-9304-8ef9d69a0035\",\"type\":\"ColumnDataSource\"},{\"attributes\":{\"plot\":{\"id\":\"d6822298-866e-4493-8c93-b5ff36d9c882\",\"subtype\":\"Chart\",\"type\":\"Plot\"}},\"id\":\"74ca9ccb-8f3f-42aa-b7ec-eb06d3d18a86\",\"type\":\"ResetTool\"},{\"attributes\":{\"fill_alpha\":{\"field\":\"fill_alpha\"},\"fill_color\":{\"value\":\"#f22c40\"},\"line_alpha\":{\"field\":\"line_alpha\"},\"line_color\":{\"value\":\"#f22c40\"},\"size\":{\"units\":\"screen\",\"value\":8},\"x\":{\"field\":\"x\"},\"y\":{\"field\":\"height\"}},\"id\":\"effc22cc-bce5-403b-b6aa-f473fc2942d7\",\"type\":\"Circle\"},{\"attributes\":{\"plot\":{\"id\":\"7e59fa8b-7bf1-4ee7-bd17-72959429603d\",\"subtype\":\"Chart\",\"type\":\"Plot\"}},\"id\":\"c33e3414-d1ee-465b-9d34-a1a31bc2e3b5\",\"type\":\"ResetTool\"},{\"attributes\":{\"bottom_units\":\"screen\",\"fill_alpha\":{\"value\":0.5},\"fill_color\":{\"value\":\"lightgrey\"},\"left_units\":\"screen\",\"level\":\"overlay\",\"line_alpha\":{\"value\":1.0},\"line_color\":{\"value\":\"black\"},\"line_dash\":[4,4],\"line_width\":{\"value\":2},\"plot\":null,\"render_mode\":\"css\",\"right_units\":\"screen\",\"top_units\":\"screen\"},\"id\":\"a2203ba5-7466-4dd4-bb28-28493943901c\",\"type\":\"BoxAnnotation\"},{\"attributes\":{},\"id\":\"377efac4-8d02-44a1-927c-f3a44a5e3636\",\"type\":\"CategoricalTicker\"},{\"attributes\":{\"legends\":[[\"1\",[{\"id\":\"ec387322-923e-46a9-8527-aabe90cced1d\",\"type\":\"GlyphRenderer\"}]],[\"3\",[{\"id\":\"c3cf89d6-2ee3-4939-9c4f-55431accb3bd\",\"type\":\"GlyphRenderer\"}]],[\"2\",[{\"id\":\"c8145922-8251-45d1-89e3-f066f0a46832\",\"type\":\"GlyphRenderer\"}]]],\"plot\":{\"id\":\"ab38e769-b993-49d4-ba31-7cef8596f3a4\",\"subtype\":\"Chart\",\"type\":\"Plot\"}},\"id\":\"d56791dc-e4d3-4dba-a2d1-4b0ad306eab7\",\"type\":\"Legend\"},{\"attributes\":{\"callback\":null,\"column_names\":[\"fill_alpha\",\"line_color\",\"line_alpha\",\"width\",\"y\",\"x\",\"height\",\"color\"],\"data\":{\"chart_index\":[{\"cyl\":6,\"origin\":2}],\"color\":[\"#5ab738\"],\"cyl\":[6],\"fill_alpha\":[0.8],\"height\":[-20.1],\"line_alpha\":[1.0],\"line_color\":[\"#f22c40\"],\"origin\":[2],\"width\":[0.2],\"x\":[\"6:0.75\"],\"y\":[-10.05]}},\"id\":\"17da9cb6-18b9-45e4-a5df-47cb31c6f97b\",\"type\":\"ColumnDataSource\"},{\"attributes\":{\"callback\":null,\"factors\":[\"jython\",\"pypy\",\"python\"]},\"id\":\"2c9e887f-cdee-42a0-9461-e48906d991ee\",\"type\":\"FactorRange\"},{\"attributes\":{},\"id\":\"8ce19fa1-d2a4-4518-9393-5dddca033451\",\"type\":\"BasicTickFormatter\"},{\"attributes\":{},\"id\":\"20bc2ff4-9080-40aa-9374-f3bbb6675e1f\",\"type\":\"CategoricalTickFormatter\"},{\"attributes\":{\"data_source\":{\"id\":\"b8eba528-bf41-4bd6-a0a8-6af63614153f\",\"type\":\"ColumnDataSource\"},\"glyph\":{\"id\":\"bd3e77d5-ef05-4ec2-a636-6b6780f08038\",\"type\":\"Circle\"},\"hover_glyph\":null,\"nonselection_glyph\":null,\"selection_glyph\":null},\"id\":\"47c11f9c-fc0d-49e9-8aa8-73aa3343da05\",\"type\":\"GlyphRenderer\"},{\"attributes\":{\"bottom_units\":\"screen\",\"fill_alpha\":{\"value\":0.5},\"fill_color\":{\"value\":\"lightgrey\"},\"left_units\":\"screen\",\"level\":\"overlay\",\"line_alpha\":{\"value\":1.0},\"line_color\":{\"value\":\"black\"},\"line_dash\":[4,4],\"line_width\":{\"value\":2},\"plot\":null,\"render_mode\":\"css\",\"right_units\":\"screen\",\"top_units\":\"screen\"},\"id\":\"caae419c-0fc4-4b3f-a6c7-bcfdc205019a\",\"type\":\"BoxAnnotation\"},{\"attributes\":{\"line_alpha\":{\"field\":\"fill_alpha\"},\"x0\":{\"field\":\"x\"},\"x1\":{\"field\":\"x\"},\"y0\":{\"value\":0},\"y1\":{\"field\":\"height\"}},\"id\":\"5df2c8b1-314b-43c9-9084-67899e57046a\",\"type\":\"Segment\"},{\"attributes\":{\"plot\":{\"id\":\"21a40375-1dd9-429c-b8dc-dc449d914668\",\"subtype\":\"Chart\",\"type\":\"Plot\"}},\"id\":\"72a2d32b-c2ed-454f-b772-9b094518934b\",\"type\":\"PreviewSaveTool\"},{\"attributes\":{\"plot\":{\"id\":\"f06fbef1-6326-4c65-8fb6-ac105fc279eb\",\"subtype\":\"Chart\",\"type\":\"Plot\"}},\"id\":\"a4e879f5-5629-4572-b165-67d88fcbcca8\",\"type\":\"ResetTool\"},{\"attributes\":{\"fill_alpha\":{\"field\":\"fill_alpha\"},\"fill_color\":{\"value\":\"#f22c40\"},\"line_alpha\":{\"field\":\"line_alpha\"},\"line_color\":{\"value\":\"#f22c40\"},\"size\":{\"units\":\"screen\",\"value\":8},\"x\":{\"field\":\"x\"},\"y\":{\"field\":\"height\"}},\"id\":\"fb01c789-c862-492b-a8c1-60f4d382c9cb\",\"type\":\"Circle\"},{\"attributes\":{\"fill_alpha\":{\"field\":\"fill_alpha\"},\"fill_color\":{\"value\":\"#f22c40\"},\"line_alpha\":{\"field\":\"line_alpha\"},\"line_color\":{\"value\":\"#f22c40\"},\"size\":{\"units\":\"screen\",\"value\":8},\"x\":{\"field\":\"x\"},\"y\":{\"field\":\"height\"}},\"id\":\"1c54cc5e-f6ea-4570-bfa1-aec0ebc87dfc\",\"type\":\"Circle\"},{\"attributes\":{\"data_source\":{\"id\":\"ef65b9a4-0df4-414c-b180-2bf4487db41a\",\"type\":\"ColumnDataSource\"},\"glyph\":{\"id\":\"0c327a80-a9bc-412f-b93b-bd158e005dae\",\"type\":\"Circle\"},\"hover_glyph\":null,\"nonselection_glyph\":null,\"selection_glyph\":null},\"id\":\"f2d3856a-ff07-484d-b1ef-eabf0add4236\",\"type\":\"GlyphRenderer\"},{\"attributes\":{\"callback\":null,\"column_names\":[\"fill_alpha\",\"line_color\",\"line_alpha\",\"width\",\"y\",\"x\",\"height\",\"color\"],\"data\":{\"chart_index\":[{\"index\":6}],\"color\":[\"#f22c40\"],\"fill_alpha\":[0.8],\"height\":[19.973493975903615],\"index\":[6],\"line_alpha\":[1.0],\"line_color\":[\"#f22c40\"],\"width\":[0.8],\"x\":[\"6\"],\"y\":[9.986746987951808]}},\"id\":\"389c0d48-beb9-407d-aa2e-76a2a699f9ee\",\"type\":\"ColumnDataSource\"},{\"attributes\":{\"axis_label\":\"Mean( Displ )\",\"formatter\":{\"id\":\"863bc441-8edb-4d6a-80cc-4060ba9a08c1\",\"type\":\"BasicTickFormatter\"},\"plot\":{\"id\":\"ab38e769-b993-49d4-ba31-7cef8596f3a4\",\"subtype\":\"Chart\",\"type\":\"Plot\"},\"ticker\":{\"id\":\"10d37484-fbd3-4f8c-a103-dbb4c6b0ec71\",\"type\":\"BasicTicker\"}},\"id\":\"d447b871-87e6-4f62-819a-10d7500c5b4c\",\"type\":\"LinearAxis\"},{\"attributes\":{\"bottom_units\":\"screen\",\"fill_alpha\":{\"value\":0.5},\"fill_color\":{\"value\":\"lightgrey\"},\"left_units\":\"screen\",\"level\":\"overlay\",\"line_alpha\":{\"value\":1.0},\"line_color\":{\"value\":\"black\"},\"line_dash\":[4,4],\"line_width\":{\"value\":2},\"plot\":null,\"render_mode\":\"css\",\"right_units\":\"screen\",\"top_units\":\"screen\"},\"id\":\"74303bcc-363a-4867-b617-1c172444bafb\",\"type\":\"BoxAnnotation\"},{\"attributes\":{\"data_source\":{\"id\":\"22350043-9d87-4984-a815-f11d093c005d\",\"type\":\"ColumnDataSource\"},\"glyph\":{\"id\":\"0407df3e-300d-42ad-953a-2e59e4650575\",\"type\":\"Circle\"},\"hover_glyph\":null,\"nonselection_glyph\":null,\"selection_glyph\":null},\"id\":\"6a72c335-6a90-48b1-b847-85ad7042b277\",\"type\":\"GlyphRenderer\"},{\"attributes\":{\"callback\":null,\"column_names\":[\"fill_alpha\",\"line_color\",\"line_alpha\",\"width\",\"y\",\"x\",\"height\",\"color\"],\"data\":{\"chart_index\":[{\"interpreter\":\"pypy\",\"sample\":\"2nd\"}],\"color\":[\"#5ab738\"],\"fill_alpha\":[0.8],\"height\":[40.0],\"interpreter\":[\"pypy\"],\"line_alpha\":[1.0],\"line_color\":[\"#f22c40\"],\"sample\":[\"2nd\"],\"width\":[0.2],\"x\":[\"pypy:0.666666666667\"],\"y\":[20.0]}},\"id\":\"5ff5952f-6f20-4471-a3ca-408f8d6802ae\",\"type\":\"ColumnDataSource\"},{\"attributes\":{\"data_source\":{\"id\":\"46cfa98b-9ea8-4009-8e9f-92b12fab76d8\",\"type\":\"ColumnDataSource\"},\"glyph\":{\"id\":\"b7b02842-16b8-4dec-9dbc-1784c66db98d\",\"type\":\"Circle\"},\"hover_glyph\":null,\"nonselection_glyph\":null,\"selection_glyph\":null},\"id\":\"24ee15df-cc4c-4e7a-be93-b74e13684fa4\",\"type\":\"GlyphRenderer\"},{\"attributes\":{\"fill_alpha\":{\"field\":\"fill_alpha\"},\"fill_color\":{\"value\":\"#df5320\"},\"line_alpha\":{\"field\":\"line_alpha\"},\"line_color\":{\"value\":\"#f22c40\"},\"size\":{\"units\":\"screen\",\"value\":8},\"x\":{\"field\":\"x\"},\"y\":{\"field\":\"height\"}},\"id\":\"09276f1c-fafe-4042-80d6-ed8c90aa8f40\",\"type\":\"Circle\"},{\"attributes\":{\"data_source\":{\"id\":\"c8020015-b750-4311-aacf-ef7a4c8d505e\",\"type\":\"ColumnDataSource\"},\"glyph\":{\"id\":\"cd79c6c0-605d-49fc-9867-26318490c31f\",\"type\":\"Circle\"},\"hover_glyph\":null,\"nonselection_glyph\":null,\"selection_glyph\":null},\"id\":\"dafd6a0d-2f6c-470c-b7a6-3c3b85963118\",\"type\":\"GlyphRenderer\"},{\"attributes\":{\"dimension\":1,\"plot\":{\"id\":\"c6b44c4e-a7ea-450c-9a40-2211543ca05b\",\"subtype\":\"Chart\",\"type\":\"Plot\"},\"ticker\":{\"id\":\"8a062269-6aee-40a4-b164-ce171f5f582d\",\"type\":\"BasicTicker\"}},\"id\":\"6b522d57-baea-420d-8f1c-67ef73ecaa53\",\"type\":\"Grid\"},{\"attributes\":{\"plot\":{\"id\":\"c6b44c4e-a7ea-450c-9a40-2211543ca05b\",\"subtype\":\"Chart\",\"type\":\"Plot\"}},\"id\":\"346daf49-6d3d-4631-8591-4db1880c5341\",\"type\":\"PreviewSaveTool\"},{\"attributes\":{\"formatter\":{\"id\":\"379271a4-7bf9-4e70-8d3d-5f222c2bdead\",\"type\":\"CategoricalTickFormatter\"},\"major_label_orientation\":0.7853981633974483,\"plot\":{\"id\":\"72e61fe9-6f2e-4bda-bb0a-4efa55991e92\",\"subtype\":\"Chart\",\"type\":\"Plot\"},\"ticker\":{\"id\":\"030fa44b-e865-4ecd-9374-d5d38a1534f4\",\"type\":\"CategoricalTicker\"}},\"id\":\"5fe28448-adad-4250-b0b9-ec590fa4c849\",\"type\":\"CategoricalAxis\"},{\"attributes\":{\"fill_alpha\":{\"field\":\"fill_alpha\"},\"fill_color\":{\"value\":\"dimgray\"},\"line_alpha\":{\"field\":\"line_alpha\"},\"line_color\":{\"value\":\"#f22c40\"},\"size\":{\"units\":\"screen\",\"value\":8},\"x\":{\"field\":\"x\"},\"y\":{\"field\":\"height\"}},\"id\":\"e6eaa2c5-1b59-4768-a4a2-c592212b53cd\",\"type\":\"Circle\"},{\"attributes\":{\"overlay\":{\"id\":\"caae419c-0fc4-4b3f-a6c7-bcfdc205019a\",\"type\":\"BoxAnnotation\"},\"plot\":{\"id\":\"72e61fe9-6f2e-4bda-bb0a-4efa55991e92\",\"subtype\":\"Chart\",\"type\":\"Plot\"}},\"id\":\"04ee89bd-159f-434d-a476-0024950594b0\",\"type\":\"BoxZoomTool\"},{\"attributes\":{\"legends\":[[\"8\",[{\"id\":\"113f9503-281f-4064-9468-324924db4544\",\"type\":\"GlyphRenderer\"}]],[\"4\",[{\"id\":\"7ebff80f-d276-464b-9072-a6aee8c7b5e2\",\"type\":\"GlyphRenderer\"}]],[\"6\",[{\"id\":\"d2cebee6-b84c-4f0a-b65c-4288a7a494c6\",\"type\":\"GlyphRenderer\"}]],[\"3\",[{\"id\":\"b0e9d795-df6f-40c2-93be-a0ad48090b1b\",\"type\":\"GlyphRenderer\"}]],[\"5\",[{\"id\":\"b7f8b882-dcb3-4f3e-b6bd-672ada774053\",\"type\":\"GlyphRenderer\"}]]],\"plot\":{\"id\":\"c6dc9d14-ff8d-448a-a6af-b200cae48c05\",\"subtype\":\"Chart\",\"type\":\"Plot\"}},\"id\":\"2f1f4967-8440-4751-89bd-3baaf32c5b37\",\"type\":\"Legend\"},{\"attributes\":{\"callback\":null,\"column_names\":[\"fill_alpha\",\"line_color\",\"line_alpha\",\"width\",\"y\",\"x\",\"height\",\"color\"],\"data\":{\"chart_index\":[{\"cyl\":5}],\"color\":[\"#f22c40\"],\"cyl\":[5],\"fill_alpha\":[0.8],\"height\":[3.0],\"line_alpha\":[1.0],\"line_color\":[\"#f22c40\"],\"width\":[0.8],\"x\":[\"5\"],\"y\":[1.5]}},\"id\":\"068a0d80-a25c-4b9c-9a30-8b543d7cf430\",\"type\":\"ColumnDataSource\"},{\"attributes\":{\"data_source\":{\"id\":\"87a982eb-dc85-4daf-9e78-3234ab3c80de\",\"type\":\"ColumnDataSource\"},\"glyph\":{\"id\":\"0ad7bd2e-01e1-4055-9e7d-013053c8b588\",\"type\":\"Circle\"},\"hover_glyph\":null,\"nonselection_glyph\":null,\"selection_glyph\":null},\"id\":\"dbb0280d-ca6c-4880-8f8e-d4f60eb0d750\",\"type\":\"GlyphRenderer\"},{\"attributes\":{\"callback\":null,\"end\":208.95},\"id\":\"4963fab7-e5d2-4907-b9e2-08383f265dde\",\"type\":\"Range1d\"},{\"attributes\":{\"callback\":null,\"column_names\":[\"fill_alpha\",\"line_color\",\"line_alpha\",\"width\",\"y\",\"x\",\"height\",\"color\"],\"data\":{\"chart_index\":[{\"cyl\":4,\"origin\":2}],\"color\":[\"#f22c40\"],\"cyl\":[4],\"fill_alpha\":[0.8],\"height\":[28.106557377049178],\"line_alpha\":[1.0],\"line_color\":[\"#f22c40\"],\"origin\":[2],\"width\":[0.8],\"x\":[\"(4, 2)\"],\"y\":[14.053278688524589]}},\"id\":\"0ab8b5cf-d1c7-4b8d-bed9-0d97f158b1c1\",\"type\":\"ColumnDataSource\"},{\"attributes\":{\"callback\":null,\"column_names\":[\"fill_alpha\",\"line_color\",\"line_alpha\",\"width\",\"y\",\"x\",\"height\",\"color\"],\"data\":{\"chart_index\":[{\"cyl\":4,\"origin\":2}],\"color\":[\"#5ab738\"],\"cyl\":[4],\"fill_alpha\":[0.8],\"height\":[-28.106557377049178],\"line_alpha\":[1.0],\"line_color\":[\"#f22c40\"],\"origin\":[2],\"width\":[0.2],\"x\":[\"4:0.75\"],\"y\":[-14.053278688524589]}},\"id\":\"83c7d6bb-cb17-4ccf-b2e7-69c7a8bfdee5\",\"type\":\"ColumnDataSource\"},{\"attributes\":{\"fill_alpha\":{\"field\":\"fill_alpha\"},\"fill_color\":{\"value\":\"#f22c40\"},\"line_alpha\":{\"field\":\"line_alpha\"},\"line_color\":{\"value\":\"#f22c40\"},\"size\":{\"units\":\"screen\",\"value\":8},\"x\":{\"field\":\"x\"},\"y\":{\"field\":\"height\"}},\"id\":\"71cc24d8-5b12-4cb2-8174-69948af39e8d\",\"type\":\"Circle\"},{\"attributes\":{\"plot\":{\"id\":\"ab38e769-b993-49d4-ba31-7cef8596f3a4\",\"subtype\":\"Chart\",\"type\":\"Plot\"}},\"id\":\"a9512546-d4c8-4968-9ef5-b9a0d2949bbe\",\"type\":\"PanTool\"},{\"attributes\":{\"below\":[{\"id\":\"c78138a9-87fe-4896-9cc9-467753bb845f\",\"type\":\"CategoricalAxis\"}],\"left\":[{\"id\":\"04260fb4-a23e-4000-b959-cbeeba546ee9\",\"type\":\"LinearAxis\"}],\"legend\":null,\"plot_height\":350,\"plot_width\":450,\"renderers\":[{\"id\":\"2417b374-6bf2-4928-b818-7bcbb743fa49\",\"type\":\"BoxAnnotation\"},{\"id\":\"6d447604-a589-4c0a-a05c-24cc81875113\",\"type\":\"GlyphRenderer\"},{\"id\":\"c111342c-700d-4d36-999b-91ad0c50fefb\",\"type\":\"GlyphRenderer\"},{\"id\":\"4422fe47-fc3b-425c-8eea-85ff2722b5a0\",\"type\":\"GlyphRenderer\"},{\"id\":\"74b96e41-491c-4f6b-8de6-c5350585b4e3\",\"type\":\"GlyphRenderer\"},{\"id\":\"382fe511-299d-416f-a37a-225c002c4e5d\",\"type\":\"GlyphRenderer\"},{\"id\":\"47c11f9c-fc0d-49e9-8aa8-73aa3343da05\",\"type\":\"GlyphRenderer\"},{\"id\":\"4f693973-784a-4cec-9a47-1c72d2aef621\",\"type\":\"GlyphRenderer\"},{\"id\":\"3649310f-38e5-48f3-90ee-74ee9ab72352\",\"type\":\"GlyphRenderer\"},{\"id\":\"77add203-3ba6-41de-a3ad-cb8792205b0e\",\"type\":\"GlyphRenderer\"},{\"id\":\"c78138a9-87fe-4896-9cc9-467753bb845f\",\"type\":\"CategoricalAxis\"},{\"id\":\"04260fb4-a23e-4000-b959-cbeeba546ee9\",\"type\":\"LinearAxis\"},{\"id\":\"30848a4a-9209-4e3a-8d7e-5b9ad7569f37\",\"type\":\"Grid\"}],\"title\":\"label=['cyl', 'origin'] values='mpg' agg='mean'\",\"title_text_font_size\":{\"value\":\"14pt\"},\"tool_events\":{\"id\":\"0a5b6a28-f735-4309-a9e5-3990a2ab79e8\",\"type\":\"ToolEvents\"},\"tools\":[{\"id\":\"77568323-ee67-472f-aa33-fdf3bb1d70b7\",\"type\":\"PanTool\"},{\"id\":\"bee0d165-8d2b-428a-bbdf-7439d056dcd1\",\"type\":\"WheelZoomTool\"},{\"id\":\"94eafc6b-7a3f-49cf-8fa2-0f83bb794a95\",\"type\":\"BoxZoomTool\"},{\"id\":\"670bf9ab-3411-4949-8939-1dcf573b7c57\",\"type\":\"PreviewSaveTool\"},{\"id\":\"11d67d9c-fab5-458a-938a-d231566a0969\",\"type\":\"ResizeTool\"},{\"id\":\"c33e3414-d1ee-465b-9d34-a1a31bc2e3b5\",\"type\":\"ResetTool\"},{\"id\":\"b3f4805f-e2b3-4276-a822-35d9ac1511b9\",\"type\":\"HelpTool\"}],\"x_mapper_type\":\"auto\",\"x_range\":{\"id\":\"0a4ee18c-dae3-41da-aef5-141e33c4ea24\",\"type\":\"FactorRange\"},\"xgrid\":false,\"xscale\":\"auto\",\"y_mapper_type\":\"auto\",\"y_range\":{\"id\":\"93b280b4-7ae0-44d3-9ae5-7ac8bd97c352\",\"type\":\"Range1d\"},\"yscale\":\"auto\"},\"id\":\"7e59fa8b-7bf1-4ee7-bd17-72959429603d\",\"subtype\":\"Chart\",\"type\":\"Plot\"},{\"attributes\":{\"callback\":null,\"column_names\":[\"fill_alpha\",\"line_color\",\"line_alpha\",\"width\",\"y\",\"x\",\"height\",\"color\"],\"data\":{\"chart_index\":[{\"rep\":\"0\",\"sample_sizes\":\"750\"}],\"color\":[\"#f22c40\"],\"fill_alpha\":[0.8],\"height\":[0.6],\"line_alpha\":[1.0],\"line_color\":[\"#f22c40\"],\"rep\":[\"0\"],\"sample_sizes\":[\"750\"],\"width\":[0.2],\"x\":[\"750:0.5\"],\"y\":[0.3]}},\"id\":\"76027c4f-3e34-4eea-94fb-f22b0dd20abd\",\"type\":\"ColumnDataSource\"},{\"attributes\":{\"callback\":null,\"column_names\":[\"fill_alpha\",\"line_color\",\"line_alpha\",\"width\",\"y\",\"x\",\"height\",\"color\"],\"data\":{\"chart_index\":[{\"interpreter\":\"jython\",\"sample\":\"2nd\"}],\"color\":[\"#5ab738\"],\"fill_alpha\":[0.8],\"height\":[30.0],\"interpreter\":[\"jython\"],\"line_alpha\":[1.0],\"line_color\":[\"#f22c40\"],\"sample\":[\"2nd\"],\"width\":[0.2],\"x\":[\"jython:0.666666666667\"],\"y\":[15.0]}},\"id\":\"f6247879-57a3-4154-bdb9-c3a330ce54da\",\"type\":\"ColumnDataSource\"},{\"attributes\":{},\"id\":\"b6beeb91-31be-4985-bc1e-072d4e1125b1\",\"type\":\"ToolEvents\"},{\"attributes\":{\"data_source\":{\"id\":\"026e8a7c-e895-416a-9a04-a8cfc6f1381f\",\"type\":\"ColumnDataSource\"},\"glyph\":{\"id\":\"bc9aabff-c481-4b49-aecf-64a3af880f25\",\"type\":\"Segment\"},\"hover_glyph\":null,\"nonselection_glyph\":null,\"selection_glyph\":null},\"id\":\"1c6a5d8a-881c-4179-8035-293a47396e00\",\"type\":\"GlyphRenderer\"},{\"attributes\":{\"fill_alpha\":{\"field\":\"fill_alpha\"},\"fill_color\":{\"value\":\"#f22c40\"},\"line_alpha\":{\"field\":\"line_alpha\"},\"line_color\":{\"value\":\"#f22c40\"},\"size\":{\"units\":\"screen\",\"value\":8},\"x\":{\"field\":\"x\"},\"y\":{\"field\":\"height\"}},\"id\":\"a513a070-9830-4f27-962e-c80d7a7feb5d\",\"type\":\"Circle\"},{\"attributes\":{\"plot\":{\"id\":\"72e61fe9-6f2e-4bda-bb0a-4efa55991e92\",\"subtype\":\"Chart\",\"type\":\"Plot\"}},\"id\":\"f624accd-94bf-4fc0-9fa1-b925d89a468a\",\"type\":\"HelpTool\"},{\"attributes\":{\"fill_alpha\":{\"field\":\"fill_alpha\"},\"fill_color\":{\"value\":\"#f22c40\"},\"line_alpha\":{\"field\":\"line_alpha\"},\"line_color\":{\"value\":\"#f22c40\"},\"size\":{\"units\":\"screen\",\"value\":8},\"x\":{\"field\":\"x\"},\"y\":{\"field\":\"height\"}},\"id\":\"bd3e77d5-ef05-4ec2-a636-6b6780f08038\",\"type\":\"Circle\"},{\"attributes\":{\"data_source\":{\"id\":\"eab28995-767b-4591-a54b-f60684e65e1b\",\"type\":\"ColumnDataSource\"},\"glyph\":{\"id\":\"effc22cc-bce5-403b-b6aa-f473fc2942d7\",\"type\":\"Circle\"},\"hover_glyph\":null,\"nonselection_glyph\":null,\"selection_glyph\":null},\"id\":\"55d09ac5-1a68-4802-8dde-6d7d26f68948\",\"type\":\"GlyphRenderer\"},{\"attributes\":{\"fill_alpha\":{\"field\":\"fill_alpha\"},\"fill_color\":{\"value\":\"dimgray\"},\"line_alpha\":{\"field\":\"line_alpha\"},\"line_color\":{\"value\":\"#f22c40\"},\"size\":{\"units\":\"screen\",\"value\":8},\"x\":{\"field\":\"x\"},\"y\":{\"field\":\"height\"}},\"id\":\"b9d26b27-0b37-40c6-955e-bc307626a5ef\",\"type\":\"Circle\"},{\"attributes\":{\"fill_alpha\":{\"field\":\"fill_alpha\"},\"fill_color\":{\"value\":\"dimgray\"},\"line_alpha\":{\"field\":\"line_alpha\"},\"line_color\":{\"value\":\"#f22c40\"},\"size\":{\"units\":\"screen\",\"value\":8},\"x\":{\"field\":\"x\"},\"y\":{\"field\":\"height\"}},\"id\":\"817ad4ae-41ea-4ec1-9556-39ae7816e81e\",\"type\":\"Circle\"},{\"attributes\":{\"plot\":{\"id\":\"c6dc9d14-ff8d-448a-a6af-b200cae48c05\",\"subtype\":\"Chart\",\"type\":\"Plot\"}},\"id\":\"5777daaf-7723-44f2-ba4b-5d3ed6149cde\",\"type\":\"WheelZoomTool\"},{\"attributes\":{\"data_source\":{\"id\":\"2a34d7b5-e56c-4d25-98c6-51fee1e9dd3b\",\"type\":\"ColumnDataSource\"},\"glyph\":{\"id\":\"961cc536-9df8-4a78-a7f2-0b01ddda65ee\",\"type\":\"Segment\"},\"hover_glyph\":null,\"nonselection_glyph\":null,\"selection_glyph\":null},\"id\":\"acef7e17-a318-4688-b120-6d19d724b18d\",\"type\":\"GlyphRenderer\"},{\"attributes\":{},\"id\":\"379271a4-7bf9-4e70-8d3d-5f222c2bdead\",\"type\":\"CategoricalTickFormatter\"},{\"attributes\":{\"overlay\":{\"id\":\"71770e27-99ac-4474-8f38-38facd39c440\",\"type\":\"BoxAnnotation\"},\"plot\":{\"id\":\"21a40375-1dd9-429c-b8dc-dc449d914668\",\"subtype\":\"Chart\",\"type\":\"Plot\"}},\"id\":\"8a5a8459-b247-46e0-93ef-bdf96e504fd6\",\"type\":\"BoxZoomTool\"},{\"attributes\":{\"data_source\":{\"id\":\"42b2d8ef-aa9e-441d-b51c-3e3bce0746c8\",\"type\":\"ColumnDataSource\"},\"glyph\":{\"id\":\"0ea90463-bdcf-4e76-9b9b-4501196ec3da\",\"type\":\"Circle\"},\"hover_glyph\":null,\"nonselection_glyph\":null,\"selection_glyph\":null},\"id\":\"77add203-3ba6-41de-a3ad-cb8792205b0e\",\"type\":\"GlyphRenderer\"},{\"attributes\":{\"plot\":{\"id\":\"3aad506f-bbac-4aff-93d8-ccd4351bdfc6\",\"subtype\":\"Chart\",\"type\":\"Plot\"}},\"id\":\"8c28dac1-2c58-410e-8b7e-1e5e7031566a\",\"type\":\"PreviewSaveTool\"},{\"attributes\":{},\"id\":\"61a4626e-f709-4468-926d-3b08f6c5c88f\",\"type\":\"BasicTickFormatter\"},{\"attributes\":{\"callback\":null,\"column_names\":[\"fill_alpha\",\"line_color\",\"line_alpha\",\"width\",\"y\",\"x\",\"height\",\"color\"],\"data\":{\"chart_index\":[{\"cyl\":8}],\"color\":[\"#f22c40\"],\"cyl\":[8],\"fill_alpha\":[0.8],\"height\":[14.963106796116508],\"line_alpha\":[1.0],\"line_color\":[\"#f22c40\"],\"width\":[0.8],\"x\":[\"8\"],\"y\":[7.481553398058254]}},\"id\":\"2a34d7b5-e56c-4d25-98c6-51fee1e9dd3b\",\"type\":\"ColumnDataSource\"},{\"attributes\":{\"data_source\":{\"id\":\"af9556b8-1022-4fab-8a2b-0af786d0f7a3\",\"type\":\"ColumnDataSource\"},\"glyph\":{\"id\":\"e6eaa2c5-1b59-4768-a4a2-c592212b53cd\",\"type\":\"Circle\"},\"hover_glyph\":null,\"nonselection_glyph\":null,\"selection_glyph\":null},\"id\":\"fe78cd57-1779-4b36-b7d3-27369cc6bf15\",\"type\":\"GlyphRenderer\"},{\"attributes\":{\"callback\":null,\"column_names\":[\"fill_alpha\",\"line_color\",\"line_alpha\",\"width\",\"y\",\"x\",\"height\",\"color\"],\"data\":{\"chart_index\":[{\"cyl\":5,\"origin\":2}],\"color\":[\"#5ab738\"],\"cyl\":[5],\"fill_alpha\":[0.8],\"height\":[-27.366666666666664],\"line_alpha\":[1.0],\"line_color\":[\"#f22c40\"],\"origin\":[2],\"width\":[0.2],\"x\":[\"5:0.75\"],\"y\":[-13.683333333333332]}},\"id\":\"ea4fa13e-7ee5-45b6-bb8b-37e6c840dff2\",\"type\":\"ColumnDataSource\"},{\"attributes\":{\"callback\":null,\"column_names\":[\"fill_alpha\",\"line_color\",\"line_alpha\",\"width\",\"y\",\"x\",\"height\",\"color\"],\"data\":{\"chart_index\":[{\"cyl\":5,\"origin\":2}],\"color\":[\"#f22c40\"],\"cyl\":[5],\"fill_alpha\":[0.8],\"height\":[27.366666666666664],\"line_alpha\":[1.0],\"line_color\":[\"#f22c40\"],\"origin\":[2],\"width\":[0.8],\"x\":[\"(5, 2)\"],\"y\":[13.683333333333332]}},\"id\":\"42b2d8ef-aa9e-441d-b51c-3e3bce0746c8\",\"type\":\"ColumnDataSource\"},{\"attributes\":{\"line_alpha\":{\"field\":\"fill_alpha\"},\"x0\":{\"field\":\"x\"},\"x1\":{\"field\":\"x\"},\"y0\":{\"value\":0},\"y1\":{\"field\":\"height\"}},\"id\":\"bc9aabff-c481-4b49-aecf-64a3af880f25\",\"type\":\"Segment\"},{\"attributes\":{\"overlay\":{\"id\":\"db62a6e7-015f-49b5-b3bc-58bbd3d48da0\",\"type\":\"BoxAnnotation\"},\"plot\":{\"id\":\"d6822298-866e-4493-8c93-b5ff36d9c882\",\"subtype\":\"Chart\",\"type\":\"Plot\"}},\"id\":\"ce0e6641-c798-4f39-834f-7cb2b439e1c9\",\"type\":\"BoxZoomTool\"},{\"attributes\":{\"plot\":{\"id\":\"d6822298-866e-4493-8c93-b5ff36d9c882\",\"subtype\":\"Chart\",\"type\":\"Plot\"}},\"id\":\"bf04493a-0a44-4a98-aa8b-af7e1bf0bdd3\",\"type\":\"HelpTool\"},{\"attributes\":{},\"id\":\"fb49b636-830c-4da0-86b3-779dcbb665dc\",\"type\":\"BasicTicker\"},{\"attributes\":{\"plot\":{\"id\":\"72e61fe9-6f2e-4bda-bb0a-4efa55991e92\",\"subtype\":\"Chart\",\"type\":\"Plot\"}},\"id\":\"63af1030-92be-429c-90fe-8feff694cb6a\",\"type\":\"ResizeTool\"},{\"attributes\":{},\"id\":\"d33ebe0e-7c4a-4695-b4f5-0cb04887fc46\",\"type\":\"BasicTicker\"},{\"attributes\":{\"callback\":null,\"column_names\":[\"fill_alpha\",\"line_color\",\"line_alpha\",\"width\",\"y\",\"x\",\"height\",\"color\"],\"data\":{\"chart_index\":[{\"cyl\":5,\"origin\":2}],\"color\":[\"#407ee7\"],\"cyl\":[5],\"fill_alpha\":[0.8],\"height\":[27.366666666666664],\"line_alpha\":[1.0],\"line_color\":[\"#f22c40\"],\"origin\":[2],\"width\":[0.8],\"x\":[\"2\"],\"y\":[61.88989071038251]}},\"id\":\"eb165cda-29b3-4dd2-8449-d62c6ee0b4b9\",\"type\":\"ColumnDataSource\"},{\"attributes\":{\"data_source\":{\"id\":\"aa9970cc-5b29-43dc-9b0b-cf4fcb99ce67\",\"type\":\"ColumnDataSource\"},\"glyph\":{\"id\":\"e8854e19-e813-4c81-b697-6e4c4d403736\",\"type\":\"Circle\"},\"hover_glyph\":null,\"nonselection_glyph\":null,\"selection_glyph\":null},\"id\":\"a1be715d-5254-4503-bab9-7a364d348b63\",\"type\":\"GlyphRenderer\"},{\"attributes\":{\"axis_label\":\"Mean( Mpg )\",\"formatter\":{\"id\":\"669840aa-9735-47aa-8fac-522e7719800c\",\"type\":\"BasicTickFormatter\"},\"plot\":{\"id\":\"c6dc9d14-ff8d-448a-a6af-b200cae48c05\",\"subtype\":\"Chart\",\"type\":\"Plot\"},\"ticker\":{\"id\":\"f7793930-08ac-4d29-85d4-bb4276c4dfd5\",\"type\":\"BasicTicker\"}},\"id\":\"55f7be83-3f8f-4608-b5da-730a74d9ec54\",\"type\":\"LinearAxis\"},{\"attributes\":{},\"id\":\"1674fe59-afb2-4129-85f0-634bb89eca31\",\"type\":\"CategoricalTickFormatter\"},{\"attributes\":{\"axis_label\":\"Cyl\",\"formatter\":{\"id\":\"b0c99323-e0ba-4f36-a9f5-6ff4fcdc0bee\",\"type\":\"CategoricalTickFormatter\"},\"major_label_orientation\":0.7853981633974483,\"plot\":{\"id\":\"3aad506f-bbac-4aff-93d8-ccd4351bdfc6\",\"subtype\":\"Chart\",\"type\":\"Plot\"},\"ticker\":{\"id\":\"377efac4-8d02-44a1-927c-f3a44a5e3636\",\"type\":\"CategoricalTicker\"}},\"id\":\"3577b8e5-bce3-4262-8fec-153cbc380a4b\",\"type\":\"CategoricalAxis\"},{\"attributes\":{\"callback\":null,\"column_names\":[\"fill_alpha\",\"line_color\",\"line_alpha\",\"width\",\"y\",\"x\",\"height\",\"color\"],\"data\":{\"chart_index\":[{\"cyl\":3,\"origin\":3}],\"color\":[\"#f22c40\"],\"cyl\":[3],\"fill_alpha\":[0.8],\"height\":[20.55],\"line_alpha\":[1.0],\"line_color\":[\"#f22c40\"],\"origin\":[3],\"width\":[0.8],\"x\":[\"3\"],\"y\":[41.87065217391304]}},\"id\":\"4cbe3cf4-c095-48d0-a766-71cdbfe56d90\",\"type\":\"ColumnDataSource\"},{\"attributes\":{\"fill_alpha\":{\"field\":\"fill_alpha\"},\"fill_color\":{\"value\":\"#407ee7\"},\"line_alpha\":{\"field\":\"line_alpha\"},\"line_color\":{\"value\":\"#f22c40\"},\"size\":{\"units\":\"screen\",\"value\":8},\"x\":{\"field\":\"x\"},\"y\":{\"field\":\"height\"}},\"id\":\"08dcc572-b67c-4b02-b681-fd1cf58a0aca\",\"type\":\"Circle\"},{\"attributes\":{\"callback\":null,\"column_names\":[\"fill_alpha\",\"line_color\",\"line_alpha\",\"width\",\"y\",\"x\",\"height\",\"color\"],\"data\":{\"chart_index\":[{\"cyl\":6,\"origin\":2}],\"color\":[\"#f22c40\"],\"cyl\":[6],\"fill_alpha\":[0.8],\"height\":[20.1],\"line_alpha\":[1.0],\"line_color\":[\"#f22c40\"],\"origin\":[2],\"width\":[0.8],\"x\":[\"(6, 2)\"],\"y\":[10.05]}},\"id\":\"2759b596-061f-43c3-a11c-66549818942d\",\"type\":\"ColumnDataSource\"},{\"attributes\":{},\"id\":\"5f168d97-a01c-437b-b627-a41aec24768c\",\"type\":\"CategoricalTicker\"},{\"attributes\":{\"callback\":null,\"column_names\":[\"fill_alpha\",\"line_color\",\"line_alpha\",\"width\",\"y\",\"x\",\"height\",\"color\"],\"data\":{\"chart_index\":[{\"cyl\":4,\"origin\":1}],\"color\":[\"#f22c40\"],\"cyl\":[4],\"fill_alpha\":[0.8],\"height\":[-28.013043478260876],\"line_alpha\":[1.0],\"line_color\":[\"#f22c40\"],\"origin\":[1],\"width\":[0.2],\"x\":[\"4:0.25\"],\"y\":[-14.006521739130438]}},\"id\":\"61345a18-75a8-41d6-bdff-6cff2e62d6ac\",\"type\":\"ColumnDataSource\"},{\"attributes\":{\"fill_alpha\":{\"field\":\"fill_alpha\"},\"fill_color\":{\"value\":\"#f22c40\"},\"line_alpha\":{\"field\":\"line_alpha\"},\"line_color\":{\"value\":\"#f22c40\"},\"size\":{\"units\":\"screen\",\"value\":8},\"x\":{\"field\":\"x\"},\"y\":{\"field\":\"height\"}},\"id\":\"f6fbfd46-868a-4fbb-b82b-552f49286f55\",\"type\":\"Circle\"},{\"attributes\":{\"fill_alpha\":{\"field\":\"fill_alpha\"},\"fill_color\":{\"value\":\"#f22c40\"},\"line_alpha\":{\"field\":\"line_alpha\"},\"line_color\":{\"value\":\"#f22c40\"},\"size\":{\"units\":\"screen\",\"value\":8},\"x\":{\"field\":\"x\"},\"y\":{\"field\":\"height\"}},\"id\":\"0407df3e-300d-42ad-953a-2e59e4650575\",\"type\":\"Circle\"},{\"attributes\":{\"bottom_units\":\"screen\",\"fill_alpha\":{\"value\":0.5},\"fill_color\":{\"value\":\"lightgrey\"},\"left_units\":\"screen\",\"level\":\"overlay\",\"line_alpha\":{\"value\":1.0},\"line_color\":{\"value\":\"black\"},\"line_dash\":[4,4],\"line_width\":{\"value\":2},\"plot\":null,\"render_mode\":\"css\",\"right_units\":\"screen\",\"top_units\":\"screen\"},\"id\":\"96162a54-fd1b-4986-9d19-a9fca396dff3\",\"type\":\"BoxAnnotation\"},{\"attributes\":{\"dimension\":1,\"plot\":{\"id\":\"3aad506f-bbac-4aff-93d8-ccd4351bdfc6\",\"subtype\":\"Chart\",\"type\":\"Plot\"},\"ticker\":{\"id\":\"0f1cb761-5bd6-4be1-93ab-9c75ec087a66\",\"type\":\"BasicTicker\"}},\"id\":\"68841b22-e699-4d4e-81b6-8166d82c42b9\",\"type\":\"Grid\"},{\"attributes\":{},\"id\":\"de96303c-7bb1-481b-a2cc-6ed5512cd88e\",\"type\":\"CategoricalTickFormatter\"},{\"attributes\":{\"plot\":{\"id\":\"c6b44c4e-a7ea-450c-9a40-2211543ca05b\",\"subtype\":\"Chart\",\"type\":\"Plot\"}},\"id\":\"aece1c14-ae74-4a2d-827c-89d94e69416e\",\"type\":\"HelpTool\"},{\"attributes\":{\"plot\":{\"id\":\"f06fbef1-6326-4c65-8fb6-ac105fc279eb\",\"subtype\":\"Chart\",\"type\":\"Plot\"}},\"id\":\"3a37fa9d-6ce0-4c07-a4a6-5f2018f9db9a\",\"type\":\"PanTool\"},{\"attributes\":{\"fill_alpha\":{\"field\":\"fill_alpha\"},\"fill_color\":{\"value\":\"#f22c40\"},\"line_alpha\":{\"field\":\"line_alpha\"},\"line_color\":{\"value\":\"#f22c40\"},\"size\":{\"units\":\"screen\",\"value\":8},\"x\":{\"field\":\"x\"},\"y\":{\"field\":\"height\"}},\"id\":\"655d4239-6468-486f-8699-a0453d5f91b1\",\"type\":\"Circle\"},{\"attributes\":{\"callback\":null,\"column_names\":[\"fill_alpha\",\"line_color\",\"line_alpha\",\"width\",\"y\",\"x\",\"height\",\"color\"],\"data\":{\"chart_index\":[{\"cyl\":6,\"origin\":2}],\"color\":[\"#5ab738\"],\"cyl\":[6],\"fill_alpha\":[0.8],\"height\":[159.75],\"line_alpha\":[1.0],\"line_color\":[\"#f22c40\"],\"origin\":[2],\"width\":[0.2],\"x\":[\"6:0.75\"],\"y\":[79.875]}},\"id\":\"362bec13-27d5-4290-8624-c644666efa47\",\"type\":\"ColumnDataSource\"},{\"attributes\":{\"callback\":null,\"column_names\":[\"fill_alpha\",\"line_color\",\"line_alpha\",\"width\",\"y\",\"x\",\"height\",\"color\"],\"data\":{\"chart_index\":[{\"cyl\":6,\"origin\":1}],\"color\":[\"#f22c40\"],\"cyl\":[6],\"fill_alpha\":[0.8],\"height\":[-19.645205479452052],\"line_alpha\":[1.0],\"line_color\":[\"#f22c40\"],\"origin\":[1],\"width\":[0.2],\"x\":[\"6:0.25\"],\"y\":[-9.822602739726026]}},\"id\":\"46cfa98b-9ea8-4009-8e9f-92b12fab76d8\",\"type\":\"ColumnDataSource\"},{\"attributes\":{\"data_source\":{\"id\":\"389c0d48-beb9-407d-aa2e-76a2a699f9ee\",\"type\":\"ColumnDataSource\"},\"glyph\":{\"id\":\"0afb868d-b453-4f12-bcc4-b9a7db58ad02\",\"type\":\"Circle\"},\"hover_glyph\":null,\"nonselection_glyph\":null,\"selection_glyph\":null},\"id\":\"4c3e1e77-a508-40be-9502-469355fb5315\",\"type\":\"GlyphRenderer\"},{\"attributes\":{\"fill_alpha\":{\"field\":\"fill_alpha\"},\"fill_color\":{\"value\":\"#f22c40\"},\"line_alpha\":{\"field\":\"line_alpha\"},\"line_color\":{\"value\":\"#f22c40\"},\"size\":{\"units\":\"screen\",\"value\":8},\"x\":{\"field\":\"x\"},\"y\":{\"field\":\"height\"}},\"id\":\"331bd053-c7cc-409d-b2f3-65ac09d7508b\",\"type\":\"Circle\"},{\"attributes\":{\"fill_alpha\":{\"field\":\"fill_alpha\"},\"fill_color\":{\"value\":\"#df5320\"},\"line_alpha\":{\"field\":\"line_alpha\"},\"line_color\":{\"value\":\"#f22c40\"},\"size\":{\"units\":\"screen\",\"value\":8},\"x\":{\"field\":\"x\"},\"y\":{\"field\":\"height\"}},\"id\":\"65fc1853-810c-4e1f-be75-1f6121c4c57b\",\"type\":\"Circle\"},{\"attributes\":{\"data_source\":{\"id\":\"76027c4f-3e34-4eea-94fb-f22b0dd20abd\",\"type\":\"ColumnDataSource\"},\"glyph\":{\"id\":\"bf822bcb-0ebf-4faa-8945-c81a823613a3\",\"type\":\"Circle\"},\"hover_glyph\":null,\"nonselection_glyph\":null,\"selection_glyph\":null},\"id\":\"4d8b9685-ab2b-44d4-b619-3e50deb4d3e7\",\"type\":\"GlyphRenderer\"},{\"attributes\":{\"plot\":{\"id\":\"3aad506f-bbac-4aff-93d8-ccd4351bdfc6\",\"subtype\":\"Chart\",\"type\":\"Plot\"}},\"id\":\"63adf111-0c08-40af-9088-354a9b127688\",\"type\":\"ResizeTool\"},{\"attributes\":{\"bottom_units\":\"screen\",\"fill_alpha\":{\"value\":0.5},\"fill_color\":{\"value\":\"lightgrey\"},\"left_units\":\"screen\",\"level\":\"overlay\",\"line_alpha\":{\"value\":1.0},\"line_color\":{\"value\":\"black\"},\"line_dash\":[4,4],\"line_width\":{\"value\":2},\"plot\":null,\"render_mode\":\"css\",\"right_units\":\"screen\",\"top_units\":\"screen\"},\"id\":\"9127ff90-3737-4090-99a6-48a38bd0fd13\",\"type\":\"BoxAnnotation\"},{\"attributes\":{\"data_source\":{\"id\":\"fdcebb2e-be66-4d6f-b496-3269718d1185\",\"type\":\"ColumnDataSource\"},\"glyph\":{\"id\":\"fb01c789-c862-492b-a8c1-60f4d382c9cb\",\"type\":\"Circle\"},\"hover_glyph\":null,\"nonselection_glyph\":null,\"selection_glyph\":null},\"id\":\"40254292-278d-4ead-a20d-b5406e10cacb\",\"type\":\"GlyphRenderer\"},{\"attributes\":{\"overlay\":{\"id\":\"9127ff90-3737-4090-99a6-48a38bd0fd13\",\"type\":\"BoxAnnotation\"},\"plot\":{\"id\":\"ab38e769-b993-49d4-ba31-7cef8596f3a4\",\"subtype\":\"Chart\",\"type\":\"Plot\"}},\"id\":\"cb4a224d-a91d-4385-87ab-157dad17a7b9\",\"type\":\"BoxZoomTool\"},{\"attributes\":{\"callback\":null,\"column_names\":[\"fill_alpha\",\"line_color\",\"line_alpha\",\"width\",\"y\",\"x\",\"height\",\"color\"],\"data\":{\"chart_index\":[{\"cyl\":3,\"origin\":3}],\"color\":[\"#407ee7\"],\"cyl\":[3],\"fill_alpha\":[0.8],\"height\":[72.5],\"line_alpha\":[1.0],\"line_color\":[\"#f22c40\"],\"origin\":[3],\"width\":[0.2],\"x\":[\"3:0.5\"],\"y\":[36.25]}},\"id\":\"aeeb2f59-c079-46aa-93c5-b3f79f72a2fd\",\"type\":\"ColumnDataSource\"},{\"attributes\":{\"data_source\":{\"id\":\"d3e0c737-779b-466a-bc34-5d74bd239675\",\"type\":\"ColumnDataSource\"},\"glyph\":{\"id\":\"ef0ccec0-3f06-4df3-958e-ee67ee8b05e8\",\"type\":\"Circle\"},\"hover_glyph\":null,\"nonselection_glyph\":null,\"selection_glyph\":null},\"id\":\"c8145922-8251-45d1-89e3-f066f0a46832\",\"type\":\"GlyphRenderer\"},{\"attributes\":{\"callback\":null,\"end\":208.95},\"id\":\"4f86f321-dfc6-42cc-a287-0ca63ab50991\",\"type\":\"Range1d\"},{\"attributes\":{\"plot\":{\"id\":\"7e59fa8b-7bf1-4ee7-bd17-72959429603d\",\"subtype\":\"Chart\",\"type\":\"Plot\"}},\"id\":\"11d67d9c-fab5-458a-938a-d231566a0969\",\"type\":\"ResizeTool\"},{\"attributes\":{\"data_source\":{\"id\":\"7aa2fab4-f5db-441b-aeeb-8ad2834182ea\",\"type\":\"ColumnDataSource\"},\"glyph\":{\"id\":\"08dcc572-b67c-4b02-b681-fd1cf58a0aca\",\"type\":\"Circle\"},\"hover_glyph\":null,\"nonselection_glyph\":null,\"selection_glyph\":null},\"id\":\"b2cd0bdf-e3cd-4b2f-9802-fc260ad96608\",\"type\":\"GlyphRenderer\"},{\"attributes\":{\"callback\":null,\"column_names\":[\"fill_alpha\",\"line_color\",\"line_alpha\",\"width\",\"y\",\"x\",\"height\",\"color\"],\"data\":{\"chart_index\":[{\"cyl\":4,\"origin\":3}],\"color\":[\"#407ee7\"],\"cyl\":[4],\"fill_alpha\":[0.8],\"height\":[-31.595652173913034],\"line_alpha\":[1.0],\"line_color\":[\"#f22c40\"],\"origin\":[3],\"width\":[0.2],\"x\":[\"4:0.5\"],\"y\":[-15.797826086956517]}},\"id\":\"7aa2fab4-f5db-441b-aeeb-8ad2834182ea\",\"type\":\"ColumnDataSource\"},{\"attributes\":{},\"id\":\"030fa44b-e865-4ecd-9374-d5d38a1534f4\",\"type\":\"CategoricalTicker\"},{\"attributes\":{},\"id\":\"8e8e3fb0-ca2c-4588-b9e4-94b07cc3b99f\",\"type\":\"CategoricalTicker\"},{\"attributes\":{\"fill_alpha\":{\"field\":\"fill_alpha\"},\"fill_color\":{\"value\":\"#f22c40\"},\"line_alpha\":{\"field\":\"line_alpha\"},\"line_color\":{\"value\":\"#f22c40\"},\"size\":{\"units\":\"screen\",\"value\":8},\"x\":{\"field\":\"x\"},\"y\":{\"field\":\"height\"}},\"id\":\"b7b02842-16b8-4dec-9dbc-1784c66db98d\",\"type\":\"Circle\"},{\"attributes\":{\"plot\":{\"id\":\"72e61fe9-6f2e-4bda-bb0a-4efa55991e92\",\"subtype\":\"Chart\",\"type\":\"Plot\"}},\"id\":\"244d4823-a091-4ee3-b560-2805415a0da7\",\"type\":\"PreviewSaveTool\"},{\"attributes\":{\"below\":[{\"id\":\"5299f361-8ae0-493a-b425-7329029dadc8\",\"type\":\"CategoricalAxis\"}],\"left\":[{\"id\":\"aa4b9602-66cc-410d-8733-45aac1588a5b\",\"type\":\"LinearAxis\"}],\"legend\":null,\"plot_height\":350,\"plot_width\":450,\"renderers\":[{\"id\":\"74303bcc-363a-4867-b617-1c172444bafb\",\"type\":\"BoxAnnotation\"},{\"id\":\"034712eb-1b67-47f4-b1b1-f38b974f6e5d\",\"type\":\"GlyphRenderer\"},{\"id\":\"17e489e0-5dad-4f29-b23a-7cc068aea69e\",\"type\":\"GlyphRenderer\"},{\"id\":\"918ca171-21d8-4d39-835e-af2612cdca49\",\"type\":\"GlyphRenderer\"},{\"id\":\"ffef9dde-5e34-413d-90c4-6c6d9041a89e\",\"type\":\"GlyphRenderer\"},{\"id\":\"3a7b5d4c-f445-46bd-a0fd-17f3b15eda97\",\"type\":\"GlyphRenderer\"},{\"id\":\"5299f361-8ae0-493a-b425-7329029dadc8\",\"type\":\"CategoricalAxis\"},{\"id\":\"aa4b9602-66cc-410d-8733-45aac1588a5b\",\"type\":\"LinearAxis\"},{\"id\":\"f5483e74-8e74-42be-9dd4-28648b0707fa\",\"type\":\"Grid\"}],\"title\":\"label='cyl' dot_width=0.4\",\"title_text_font_size\":{\"value\":\"14pt\"},\"tool_events\":{\"id\":\"1ba5c7e4-5fc6-4a50-9877-31ed16823bca\",\"type\":\"ToolEvents\"},\"tools\":[{\"id\":\"17e46e1b-2bac-46ce-acf6-b5b1c5232667\",\"type\":\"PanTool\"},{\"id\":\"404d9fe1-6720-4d9e-9822-9a9b571b5f3e\",\"type\":\"WheelZoomTool\"},{\"id\":\"53f0c2a4-1036-4e7b-bb43-596e93664209\",\"type\":\"BoxZoomTool\"},{\"id\":\"f83d7501-1b9b-4ff3-9267-66f5b4fd4839\",\"type\":\"PreviewSaveTool\"},{\"id\":\"85b3fd4e-a91a-42bd-b5ad-6ae08d4cac8d\",\"type\":\"ResizeTool\"},{\"id\":\"ebbc2899-3994-4262-bdd7-b3066c9e1a00\",\"type\":\"ResetTool\"},{\"id\":\"cc6de112-bac3-475f-916b-ee887c66d693\",\"type\":\"HelpTool\"}],\"x_mapper_type\":\"auto\",\"x_range\":{\"id\":\"5b4ee931-ff2c-4a48-b761-476181e01a7f\",\"type\":\"FactorRange\"},\"xgrid\":false,\"xscale\":\"auto\",\"y_mapper_type\":\"auto\",\"y_range\":{\"id\":\"2e1c3194-08f2-4938-872e-b4b0654237e0\",\"type\":\"Range1d\"},\"yscale\":\"auto\"},\"id\":\"dda01bd5-a3c6-40cb-bc29-237894282ba2\",\"subtype\":\"Chart\",\"type\":\"Plot\"},{\"attributes\":{\"callback\":null,\"factors\":[\"1\",\"2\",\"3\"]},\"id\":\"8ef19ed0-ac44-4211-bcc0-c50e6de8085c\",\"type\":\"FactorRange\"},{\"attributes\":{\"overlay\":{\"id\":\"2417b374-6bf2-4928-b818-7bcbb743fa49\",\"type\":\"BoxAnnotation\"},\"plot\":{\"id\":\"7e59fa8b-7bf1-4ee7-bd17-72959429603d\",\"subtype\":\"Chart\",\"type\":\"Plot\"}},\"id\":\"94eafc6b-7a3f-49cf-8fa2-0f83bb794a95\",\"type\":\"BoxZoomTool\"},{\"attributes\":{\"plot\":{\"id\":\"72e61fe9-6f2e-4bda-bb0a-4efa55991e92\",\"subtype\":\"Chart\",\"type\":\"Plot\"}},\"id\":\"5fa2e5dc-499f-482a-b1c5-272e9abdfec6\",\"type\":\"WheelZoomTool\"},{\"attributes\":{\"data_source\":{\"id\":\"2ed5d62e-29e7-438d-a03f-04627dab2e0d\",\"type\":\"ColumnDataSource\"},\"glyph\":{\"id\":\"93005690-ad39-4835-892e-80fb7c17919d\",\"type\":\"Circle\"},\"hover_glyph\":null,\"nonselection_glyph\":null,\"selection_glyph\":null},\"id\":\"70db4f75-f40e-400f-92c4-a44eee1abf3a\",\"type\":\"GlyphRenderer\"},{\"attributes\":{\"plot\":{\"id\":\"c6dc9d14-ff8d-448a-a6af-b200cae48c05\",\"subtype\":\"Chart\",\"type\":\"Plot\"}},\"id\":\"7973ac5e-240b-463c-ba7a-7b07649099f0\",\"type\":\"ResetTool\"},{\"attributes\":{\"callback\":null,\"factors\":[\"3\",\"4\",\"5\",\"6\",\"8\"]},\"id\":\"6a0bdff4-6352-4459-b4c4-36e753dbc057\",\"type\":\"FactorRange\"},{\"attributes\":{\"data_source\":{\"id\":\"ed6b5d73-522f-4e82-879d-f35d8ad03d77\",\"type\":\"ColumnDataSource\"},\"glyph\":{\"id\":\"0a0fb043-a30a-4a3d-8813-c21957e9da2a\",\"type\":\"Circle\"},\"hover_glyph\":null,\"nonselection_glyph\":null,\"selection_glyph\":null},\"id\":\"17e489e0-5dad-4f29-b23a-7cc068aea69e\",\"type\":\"GlyphRenderer\"},{\"attributes\":{\"fill_alpha\":{\"field\":\"fill_alpha\"},\"fill_color\":{\"value\":\"#f22c40\"},\"line_alpha\":{\"field\":\"line_alpha\"},\"line_color\":{\"value\":\"#f22c40\"},\"size\":{\"units\":\"screen\",\"value\":8},\"x\":{\"field\":\"x\"},\"y\":{\"field\":\"height\"}},\"id\":\"0afb868d-b453-4f12-bcc4-b9a7db58ad02\",\"type\":\"Circle\"},{\"attributes\":{\"callback\":null,\"column_names\":[\"fill_alpha\",\"line_color\",\"line_alpha\",\"width\",\"y\",\"x\",\"height\",\"color\"],\"data\":{\"chart_index\":[{\"cyl\":4,\"origin\":2}],\"color\":[\"#5ab738\"],\"cyl\":[4],\"fill_alpha\":[0.8],\"height\":[28.106557377049178],\"line_alpha\":[1.0],\"line_color\":[\"#f22c40\"],\"origin\":[2],\"width\":[0.8],\"x\":[\"2\"],\"y\":[14.053278688524589]}},\"id\":\"aa9970cc-5b29-43dc-9b0b-cf4fcb99ce67\",\"type\":\"ColumnDataSource\"},{\"attributes\":{\"callback\":null,\"column_names\":[\"fill_alpha\",\"line_color\",\"line_alpha\",\"width\",\"y\",\"x\",\"height\",\"color\"],\"data\":{\"chart_index\":[{\"cyl\":5,\"origin\":2}],\"color\":[\"#5ab738\"],\"cyl\":[5],\"fill_alpha\":[0.8],\"height\":[145.0],\"line_alpha\":[1.0],\"line_color\":[\"#f22c40\"],\"origin\":[2],\"width\":[0.2],\"x\":[\"5:0.75\"],\"y\":[72.5]}},\"id\":\"ae4ff1e5-26d5-4cce-8a7e-9ddd2c0ee902\",\"type\":\"ColumnDataSource\"},{\"attributes\":{\"plot\":{\"id\":\"3aad506f-bbac-4aff-93d8-ccd4351bdfc6\",\"subtype\":\"Chart\",\"type\":\"Plot\"}},\"id\":\"2ef5e149-5fda-4f25-a3c6-8d8fc0d58138\",\"type\":\"WheelZoomTool\"},{\"attributes\":{\"data_source\":{\"id\":\"22a24420-2d1b-487a-809e-f9f3a7f78758\",\"type\":\"ColumnDataSource\"},\"glyph\":{\"id\":\"09276f1c-fafe-4042-80d6-ed8c90aa8f40\",\"type\":\"Circle\"},\"hover_glyph\":null,\"nonselection_glyph\":null,\"selection_glyph\":null},\"id\":\"d2cebee6-b84c-4f0a-b65c-4288a7a494c6\",\"type\":\"GlyphRenderer\"},{\"attributes\":{\"dimension\":1,\"plot\":{\"id\":\"d6822298-866e-4493-8c93-b5ff36d9c882\",\"subtype\":\"Chart\",\"type\":\"Plot\"},\"ticker\":{\"id\":\"fb49b636-830c-4da0-86b3-779dcbb665dc\",\"type\":\"BasicTicker\"}},\"id\":\"5a89e43b-3091-404e-aa25-1884ba91d2a2\",\"type\":\"Grid\"},{\"attributes\":{\"plot\":{\"id\":\"c6dc9d14-ff8d-448a-a6af-b200cae48c05\",\"subtype\":\"Chart\",\"type\":\"Plot\"}},\"id\":\"13da4837-e3a0-4d52-9f00-8580c08e56dc\",\"type\":\"HelpTool\"},{\"attributes\":{},\"id\":\"09d6da24-e217-46f4-b5f6-310106b82c09\",\"type\":\"BasicTicker\"},{\"attributes\":{\"dimension\":1,\"plot\":{\"id\":\"ab38e769-b993-49d4-ba31-7cef8596f3a4\",\"subtype\":\"Chart\",\"type\":\"Plot\"},\"ticker\":{\"id\":\"10d37484-fbd3-4f8c-a103-dbb4c6b0ec71\",\"type\":\"BasicTicker\"}},\"id\":\"d287efea-e27b-499f-8b95-ac374b4f256a\",\"type\":\"Grid\"},{\"attributes\":{\"data_source\":{\"id\":\"c63b8e3e-888a-40fe-8172-fe246c237161\",\"type\":\"ColumnDataSource\"},\"glyph\":{\"id\":\"4f15174f-6569-4d51-8c90-ba6eb36334c8\",\"type\":\"Circle\"},\"hover_glyph\":null,\"nonselection_glyph\":null,\"selection_glyph\":null},\"id\":\"3e51a862-bf8a-4b02-8643-53dbf8092525\",\"type\":\"GlyphRenderer\"},{\"attributes\":{\"callback\":null,\"column_names\":[\"fill_alpha\",\"line_color\",\"line_alpha\",\"width\",\"y\",\"x\",\"height\",\"color\"],\"data\":{\"chart_index\":[{\"cyl\":6,\"origin\":1}],\"color\":[\"#f22c40\"],\"cyl\":[6],\"fill_alpha\":[0.8],\"height\":[19.645205479452052],\"line_alpha\":[1.0],\"line_color\":[\"#f22c40\"],\"origin\":[1],\"width\":[0.8],\"x\":[\"(6, 1)\"],\"y\":[9.822602739726026]}},\"id\":\"50fa4bba-16db-4dd7-806e-247e20033877\",\"type\":\"ColumnDataSource\"},{\"attributes\":{\"data_source\":{\"id\":\"9efdae56-9591-4f71-af63-1dac3cc2ea61\",\"type\":\"ColumnDataSource\"},\"glyph\":{\"id\":\"9372d381-d0eb-472f-9898-8fc243f19687\",\"type\":\"Circle\"},\"hover_glyph\":null,\"nonselection_glyph\":null,\"selection_glyph\":null},\"id\":\"034712eb-1b67-47f4-b1b1-f38b974f6e5d\",\"type\":\"GlyphRenderer\"},{\"attributes\":{\"fill_alpha\":{\"field\":\"fill_alpha\"},\"fill_color\":{\"value\":\"#407ee7\"},\"line_alpha\":{\"field\":\"line_alpha\"},\"line_color\":{\"value\":\"#f22c40\"},\"size\":{\"units\":\"screen\",\"value\":8},\"x\":{\"field\":\"x\"},\"y\":{\"field\":\"height\"}},\"id\":\"3a5cc2a4-68de-4dbc-b883-d281cecbda4d\",\"type\":\"Circle\"},{\"attributes\":{\"data_source\":{\"id\":\"50fa4bba-16db-4dd7-806e-247e20033877\",\"type\":\"ColumnDataSource\"},\"glyph\":{\"id\":\"e5cf7c5a-1a9f-4d8f-93ac-6880cfd0c4c9\",\"type\":\"Circle\"},\"hover_glyph\":null,\"nonselection_glyph\":null,\"selection_glyph\":null},\"id\":\"4422fe47-fc3b-425c-8eea-85ff2722b5a0\",\"type\":\"GlyphRenderer\"},{\"attributes\":{\"legends\":[[\"1\",[{\"id\":\"4cd38172-906b-41f4-8752-71e550f0af77\",\"type\":\"GlyphRenderer\"}]],[\"3\",[{\"id\":\"b2cd0bdf-e3cd-4b2f-9802-fc260ad96608\",\"type\":\"GlyphRenderer\"}]],[\"2\",[{\"id\":\"0434722b-a701-44de-93c8-c3eca383f95a\",\"type\":\"GlyphRenderer\"}]]],\"plot\":{\"id\":\"c6b44c4e-a7ea-450c-9a40-2211543ca05b\",\"subtype\":\"Chart\",\"type\":\"Plot\"}},\"id\":\"2f8f52ec-f21e-4022-a8a8-8a75cf4279a5\",\"type\":\"Legend\"},{\"attributes\":{\"callback\":null,\"factors\":[\"3\",\"4\",\"5\",\"6\",\"8\"]},\"id\":\"5b4ee931-ff2c-4a48-b761-476181e01a7f\",\"type\":\"FactorRange\"},{\"attributes\":{\"callback\":null,\"column_names\":[\"fill_alpha\",\"line_color\",\"line_alpha\",\"width\",\"y\",\"x\",\"height\",\"color\"],\"data\":{\"chart_index\":[{\"cyl\":8,\"origin\":1}],\"color\":[\"#00ad9c\"],\"cyl\":[8],\"fill_alpha\":[0.8],\"height\":[14.963106796116508],\"line_alpha\":[1.0],\"line_color\":[\"#f22c40\"],\"origin\":[1],\"width\":[0.8],\"x\":[\"1\"],\"y\":[7.481553398058254]}},\"id\":\"78b9a5d1-18ec-44e1-a220-7727a459da4f\",\"type\":\"ColumnDataSource\"},{\"attributes\":{\"callback\":null,\"column_names\":[\"fill_alpha\",\"line_color\",\"line_alpha\",\"width\",\"y\",\"x\",\"height\",\"color\"],\"data\":{\"chart_index\":[{\"cyl\":4,\"origin\":3}],\"color\":[\"#f22c40\"],\"cyl\":[4],\"fill_alpha\":[0.8],\"height\":[31.595652173913034],\"line_alpha\":[1.0],\"line_color\":[\"#f22c40\"],\"origin\":[3],\"width\":[0.8],\"x\":[\"(4, 3)\"],\"y\":[15.797826086956517]}},\"id\":\"a2340146-e23d-4d19-bc2a-cfddad3d5a5f\",\"type\":\"ColumnDataSource\"},{\"attributes\":{\"axis_label\":\"Origin\",\"formatter\":{\"id\":\"0a99c832-6b2e-4bdb-b678-56302647fe2f\",\"type\":\"CategoricalTickFormatter\"},\"major_label_orientation\":0.7853981633974483,\"plot\":{\"id\":\"c6dc9d14-ff8d-448a-a6af-b200cae48c05\",\"subtype\":\"Chart\",\"type\":\"Plot\"},\"ticker\":{\"id\":\"8e8e3fb0-ca2c-4588-b9e4-94b07cc3b99f\",\"type\":\"CategoricalTicker\"}},\"id\":\"ba3e304d-8dc1-4e28-b420-f669965c541e\",\"type\":\"CategoricalAxis\"},{\"attributes\":{\"plot\":{\"id\":\"0e655c7c-a7f6-494d-b710-87972eb8e687\",\"subtype\":\"Chart\",\"type\":\"Plot\"}},\"id\":\"386c2643-3c70-4d0e-9e03-a36594838716\",\"type\":\"ResetTool\"},{\"attributes\":{},\"id\":\"11380822-d56a-43ec-9538-092196eb25f8\",\"type\":\"BasicTickFormatter\"},{\"attributes\":{\"fill_alpha\":{\"field\":\"fill_alpha\"},\"fill_color\":{\"value\":\"#f22c40\"},\"line_alpha\":{\"field\":\"line_alpha\"},\"line_color\":{\"value\":\"#f22c40\"},\"size\":{\"units\":\"screen\",\"value\":8},\"x\":{\"field\":\"x\"},\"y\":{\"field\":\"height\"}},\"id\":\"4ea92711-bfc5-4fe6-9caf-48c03bba25e8\",\"type\":\"Circle\"},{\"attributes\":{\"plot\":{\"id\":\"f06fbef1-6326-4c65-8fb6-ac105fc279eb\",\"subtype\":\"Chart\",\"type\":\"Plot\"}},\"id\":\"57209332-7a8d-4df7-852d-b6308fa42ac5\",\"type\":\"ResizeTool\"},{\"attributes\":{\"plot\":{\"id\":\"dda01bd5-a3c6-40cb-bc29-237894282ba2\",\"subtype\":\"Chart\",\"type\":\"Plot\"}},\"id\":\"ebbc2899-3994-4262-bdd7-b3066c9e1a00\",\"type\":\"ResetTool\"},{\"attributes\":{\"data_source\":{\"id\":\"e461a7c8-ec0d-4cc6-bdf6-2ac74a74a2b2\",\"type\":\"ColumnDataSource\"},\"glyph\":{\"id\":\"313114aa-654b-4278-a44e-7a45c91791f1\",\"type\":\"Circle\"},\"hover_glyph\":null,\"nonselection_glyph\":null,\"selection_glyph\":null},\"id\":\"082dbc66-7646-4a2c-b5bf-f496936c8211\",\"type\":\"GlyphRenderer\"},{\"attributes\":{\"fill_alpha\":{\"field\":\"fill_alpha\"},\"fill_color\":{\"value\":\"#f22c40\"},\"line_alpha\":{\"field\":\"line_alpha\"},\"line_color\":{\"value\":\"#f22c40\"},\"size\":{\"units\":\"screen\",\"value\":8},\"x\":{\"field\":\"x\"},\"y\":{\"field\":\"height\"}},\"id\":\"9372d381-d0eb-472f-9898-8fc243f19687\",\"type\":\"Circle\"},{\"attributes\":{\"fill_alpha\":{\"field\":\"fill_alpha\"},\"fill_color\":{\"value\":\"#407ee7\"},\"line_alpha\":{\"field\":\"line_alpha\"},\"line_color\":{\"value\":\"#f22c40\"},\"size\":{\"units\":\"screen\",\"value\":8},\"x\":{\"field\":\"x\"},\"y\":{\"field\":\"height\"}},\"id\":\"de88b5ca-5172-4377-b50b-ab989dce7669\",\"type\":\"Circle\"},{\"attributes\":{\"callback\":null,\"column_names\":[\"fill_alpha\",\"line_color\",\"line_alpha\",\"width\",\"y\",\"x\",\"height\",\"color\"],\"data\":{\"chart_index\":[{\"cyl\":6,\"origin\":2}],\"color\":[\"#df5320\"],\"cyl\":[6],\"fill_alpha\":[0.8],\"height\":[20.1],\"line_alpha\":[1.0],\"line_color\":[\"#f22c40\"],\"origin\":[2],\"width\":[0.8],\"x\":[\"2\"],\"y\":[38.15655737704918]}},\"id\":\"ce50d3ac-7c07-45a3-92e8-df11ad3be03f\",\"type\":\"ColumnDataSource\"},{\"attributes\":{\"data_source\":{\"id\":\"64d812d5-39b3-4155-8711-add3ceab6741\",\"type\":\"ColumnDataSource\"},\"glyph\":{\"id\":\"7ee0553a-0198-46a9-a07f-b422c037779e\",\"type\":\"Circle\"},\"hover_glyph\":null,\"nonselection_glyph\":null,\"selection_glyph\":null},\"id\":\"c9d54022-7bf1-4140-8a9b-20ffedfdaa41\",\"type\":\"GlyphRenderer\"},{\"attributes\":{},\"id\":\"6653fed9-d02c-4a1f-9f73-16c385588e55\",\"type\":\"BasicTickFormatter\"},{\"attributes\":{\"callback\":null,\"column_names\":[\"fill_alpha\",\"line_color\",\"line_alpha\",\"width\",\"y\",\"x\",\"height\",\"color\"],\"data\":{\"chart_index\":[{\"cyl\":8,\"origin\":1}],\"color\":[\"#f22c40\"],\"cyl\":[8],\"fill_alpha\":[0.8],\"height\":[345.00970873786406],\"line_alpha\":[1.0],\"line_color\":[\"#f22c40\"],\"origin\":[1],\"width\":[0.2],\"x\":[\"8:0.25\"],\"y\":[172.50485436893203]}},\"id\":\"fae9255a-b723-4f70-835d-3d7df1b6b304\",\"type\":\"ColumnDataSource\"},{\"attributes\":{\"data_source\":{\"id\":\"228e9d13-4703-49aa-890c-596d28aba2b4\",\"type\":\"ColumnDataSource\"},\"glyph\":{\"id\":\"1c54cc5e-f6ea-4570-bfa1-aec0ebc87dfc\",\"type\":\"Circle\"},\"hover_glyph\":null,\"nonselection_glyph\":null,\"selection_glyph\":null},\"id\":\"d926c6ea-9701-4a19-9c8f-a5d8300b4939\",\"type\":\"GlyphRenderer\"},{\"attributes\":{\"data_source\":{\"id\":\"b80cdc20-da42-44b6-8b3d-381048892aba\",\"type\":\"ColumnDataSource\"},\"glyph\":{\"id\":\"b19d54ab-2df5-434d-b7a8-cd97de9f610b\",\"type\":\"Circle\"},\"hover_glyph\":null,\"nonselection_glyph\":null,\"selection_glyph\":null},\"id\":\"4cd38172-906b-41f4-8752-71e550f0af77\",\"type\":\"GlyphRenderer\"},{\"attributes\":{\"fill_alpha\":{\"field\":\"fill_alpha\"},\"fill_color\":{\"value\":\"#5ab738\"},\"line_alpha\":{\"field\":\"line_alpha\"},\"line_color\":{\"value\":\"#f22c40\"},\"size\":{\"units\":\"screen\",\"value\":8},\"x\":{\"field\":\"x\"},\"y\":{\"field\":\"height\"}},\"id\":\"ce70138f-7a0e-4a45-8390-e0b92630b639\",\"type\":\"Circle\"},{\"attributes\":{\"data_source\":{\"id\":\"9293b339-7df3-48bf-bb7b-cebf697b63b0\",\"type\":\"ColumnDataSource\"},\"glyph\":{\"id\":\"817ad4ae-41ea-4ec1-9556-39ae7816e81e\",\"type\":\"Circle\"},\"hover_glyph\":null,\"nonselection_glyph\":null,\"selection_glyph\":null},\"id\":\"8c044965-9e5c-41da-a806-a35490f0cd12\",\"type\":\"GlyphRenderer\"},{\"attributes\":{\"below\":[{\"id\":\"e02568a4-539a-4ccc-a86a-6f8e35948e9f\",\"type\":\"CategoricalAxis\"}],\"left\":[{\"id\":\"d447b871-87e6-4f62-819a-10d7500c5b4c\",\"type\":\"LinearAxis\"}],\"legend\":\"top_right\",\"plot_height\":350,\"plot_width\":450,\"renderers\":[{\"id\":\"9127ff90-3737-4090-99a6-48a38bd0fd13\",\"type\":\"BoxAnnotation\"},{\"id\":\"ec387322-923e-46a9-8527-aabe90cced1d\",\"type\":\"GlyphRenderer\"},{\"id\":\"c3cf89d6-2ee3-4939-9c4f-55431accb3bd\",\"type\":\"GlyphRenderer\"},{\"id\":\"082dbc66-7646-4a2c-b5bf-f496936c8211\",\"type\":\"GlyphRenderer\"},{\"id\":\"c8145922-8251-45d1-89e3-f066f0a46832\",\"type\":\"GlyphRenderer\"},{\"id\":\"dc876ae6-e442-42b8-965c-214ebccdd7f4\",\"type\":\"GlyphRenderer\"},{\"id\":\"79b5e9df-b783-4a7b-a1e4-a1ec9cc06fd3\",\"type\":\"GlyphRenderer\"},{\"id\":\"5acc2bcf-8b1f-42d4-af17-c9c57a799dcc\",\"type\":\"GlyphRenderer\"},{\"id\":\"a0a11ee0-9d2a-4115-b042-c3402d198f07\",\"type\":\"GlyphRenderer\"},{\"id\":\"5c084c70-2135-4f5f-9dd9-481506bc4ffc\",\"type\":\"GlyphRenderer\"},{\"id\":\"d56791dc-e4d3-4dba-a2d1-4b0ad306eab7\",\"type\":\"Legend\"},{\"id\":\"e02568a4-539a-4ccc-a86a-6f8e35948e9f\",\"type\":\"CategoricalAxis\"},{\"id\":\"d447b871-87e6-4f62-819a-10d7500c5b4c\",\"type\":\"LinearAxis\"},{\"id\":\"d287efea-e27b-499f-8b95-ac374b4f256a\",\"type\":\"Grid\"}],\"title\":\"label='cyl' values='displ' agg='mean' group='origin'\",\"title_text_font_size\":{\"value\":\"14pt\"},\"tool_events\":{\"id\":\"5c5e6783-8ea8-4e19-8cef-462384479b02\",\"type\":\"ToolEvents\"},\"tools\":[{\"id\":\"a9512546-d4c8-4968-9ef5-b9a0d2949bbe\",\"type\":\"PanTool\"},{\"id\":\"eccf1f1a-e61b-413b-b6be-cd200080aa2c\",\"type\":\"WheelZoomTool\"},{\"id\":\"cb4a224d-a91d-4385-87ab-157dad17a7b9\",\"type\":\"BoxZoomTool\"},{\"id\":\"3a16264b-564c-4cc3-8c4a-f31cd68348c8\",\"type\":\"PreviewSaveTool\"},{\"id\":\"f86fbbbc-1e82-4a7b-b576-24553ba4ee05\",\"type\":\"ResizeTool\"},{\"id\":\"70537b8f-aeca-4026-aee0-7306abf4449d\",\"type\":\"ResetTool\"},{\"id\":\"7738e490-6807-4988-90db-5d5748e97942\",\"type\":\"HelpTool\"}],\"x_mapper_type\":\"auto\",\"x_range\":{\"id\":\"587d8d47-92be-42f9-a309-2ed9113af652\",\"type\":\"FactorRange\"},\"xgrid\":false,\"xscale\":\"auto\",\"y_mapper_type\":\"auto\",\"y_range\":{\"id\":\"02bd77d9-3b8c-4788-ad83-e1cccaca9446\",\"type\":\"Range1d\"},\"yscale\":\"auto\"},\"id\":\"ab38e769-b993-49d4-ba31-7cef8596f3a4\",\"subtype\":\"Chart\",\"type\":\"Plot\"},{\"attributes\":{\"data_source\":{\"id\":\"8b599703-79d5-4287-a2bd-29da9572033e\",\"type\":\"ColumnDataSource\"},\"glyph\":{\"id\":\"f6fbfd46-868a-4fbb-b82b-552f49286f55\",\"type\":\"Circle\"},\"hover_glyph\":null,\"nonselection_glyph\":null,\"selection_glyph\":null},\"id\":\"75fda251-f46e-4050-8829-e2f7f91be610\",\"type\":\"GlyphRenderer\"},{\"attributes\":{\"plot\":{\"id\":\"0e655c7c-a7f6-494d-b710-87972eb8e687\",\"subtype\":\"Chart\",\"type\":\"Plot\"}},\"id\":\"60019832-6ee0-43de-9f0d-397d1c1021ce\",\"type\":\"PreviewSaveTool\"},{\"attributes\":{\"data_source\":{\"id\":\"17da9cb6-18b9-45e4-a5df-47cb31c6f97b\",\"type\":\"ColumnDataSource\"},\"glyph\":{\"id\":\"30ba3e60-eef2-4b1f-93c7-1cec8e3c9de0\",\"type\":\"Circle\"},\"hover_glyph\":null,\"nonselection_glyph\":null,\"selection_glyph\":null},\"id\":\"b970ae24-2596-43b2-8139-93f0e1dd101c\",\"type\":\"GlyphRenderer\"},{\"attributes\":{\"data_source\":{\"id\":\"2a34d7b5-e56c-4d25-98c6-51fee1e9dd3b\",\"type\":\"ColumnDataSource\"},\"glyph\":{\"id\":\"45df42a4-c916-40cd-bd26-631add76ad15\",\"type\":\"Circle\"},\"hover_glyph\":null,\"nonselection_glyph\":null,\"selection_glyph\":null},\"id\":\"6b447bd2-c14b-49fd-8cdd-3af53358ce3e\",\"type\":\"GlyphRenderer\"},{\"attributes\":{},\"id\":\"686652f1-1247-4ae6-85ec-dae29c5c7782\",\"type\":\"CategoricalTickFormatter\"},{\"attributes\":{\"fill_alpha\":{\"field\":\"fill_alpha\"},\"fill_color\":{\"value\":\"#f22c40\"},\"line_alpha\":{\"field\":\"line_alpha\"},\"line_color\":{\"value\":\"#f22c40\"},\"size\":{\"units\":\"screen\",\"value\":8},\"x\":{\"field\":\"x\"},\"y\":{\"field\":\"height\"}},\"id\":\"ab773f4a-6ee5-4810-b746-3d6cf4c6550a\",\"type\":\"Circle\"},{\"attributes\":{\"callback\":null,\"column_names\":[\"fill_alpha\",\"line_color\",\"line_alpha\",\"width\",\"y\",\"x\",\"height\",\"color\"],\"data\":{\"chart_index\":[{\"cyl\":4,\"origin\":1}],\"color\":[\"#f22c40\"],\"cyl\":[4],\"fill_alpha\":[0.8],\"height\":[124.05072463768116],\"line_alpha\":[1.0],\"line_color\":[\"#f22c40\"],\"origin\":[1],\"width\":[0.2],\"x\":[\"4:0.25\"],\"y\":[62.02536231884058]}},\"id\":\"819e1890-14b2-4201-b196-b278c04df918\",\"type\":\"ColumnDataSource\"},{\"attributes\":{},\"id\":\"114dafb1-efe7-45b3-81d4-0d3f1a03bb60\",\"type\":\"BasicTickFormatter\"},{\"attributes\":{\"callback\":null,\"end\":0.0,\"start\":-33.17543478260869},\"id\":\"0127cfc3-a023-450c-85c0-c1b697583860\",\"type\":\"Range1d\"},{\"attributes\":{\"children\":[{\"id\":\"ab38e769-b993-49d4-ba31-7cef8596f3a4\",\"subtype\":\"Chart\",\"type\":\"Plot\"},{\"id\":\"c6b44c4e-a7ea-450c-9a40-2211543ca05b\",\"subtype\":\"Chart\",\"type\":\"Plot\"}]},\"id\":\"412fd91a-2313-4548-b078-c7776156646b\",\"type\":\"HBox\"},{\"attributes\":{\"callback\":null,\"end\":30.748115577889454},\"id\":\"f7e0c59a-a7d1-419d-ad04-f6f5b0fe805e\",\"type\":\"Range1d\"},{\"attributes\":{\"callback\":null,\"column_names\":[\"fill_alpha\",\"line_color\",\"line_alpha\",\"width\",\"y\",\"x\",\"height\",\"color\"],\"data\":{\"chart_index\":[{\"cyl\":8}],\"color\":[\"#f22c40\"],\"cyl\":[8],\"fill_alpha\":[0.8],\"height\":[103.0],\"line_alpha\":[1.0],\"line_color\":[\"#f22c40\"],\"width\":[0.8],\"x\":[\"8\"],\"y\":[51.5]}},\"id\":\"b5f07909-c991-43ec-9f91-3eadb1d15788\",\"type\":\"ColumnDataSource\"},{\"attributes\":{\"data_source\":{\"id\":\"0ab8b5cf-d1c7-4b8d-bed9-0d97f158b1c1\",\"type\":\"ColumnDataSource\"},\"glyph\":{\"id\":\"321c4ee8-e06f-415b-a7cd-28994cca8354\",\"type\":\"Circle\"},\"hover_glyph\":null,\"nonselection_glyph\":null,\"selection_glyph\":null},\"id\":\"74b96e41-491c-4f6b-8de6-c5350585b4e3\",\"type\":\"GlyphRenderer\"},{\"attributes\":{\"fill_alpha\":{\"field\":\"fill_alpha\"},\"fill_color\":{\"value\":\"#f22c40\"},\"line_alpha\":{\"field\":\"line_alpha\"},\"line_color\":{\"value\":\"#f22c40\"},\"size\":{\"units\":\"screen\",\"value\":8},\"x\":{\"field\":\"x\"},\"y\":{\"field\":\"height\"}},\"id\":\"0a0fb043-a30a-4a3d-8813-c21957e9da2a\",\"type\":\"Circle\"},{\"attributes\":{\"data_source\":{\"id\":\"fae9255a-b723-4f70-835d-3d7df1b6b304\",\"type\":\"ColumnDataSource\"},\"glyph\":{\"id\":\"331bd053-c7cc-409d-b2f3-65ac09d7508b\",\"type\":\"Circle\"},\"hover_glyph\":null,\"nonselection_glyph\":null,\"selection_glyph\":null},\"id\":\"ec387322-923e-46a9-8527-aabe90cced1d\",\"type\":\"GlyphRenderer\"},{\"attributes\":{\"callback\":null,\"column_names\":[\"fill_alpha\",\"line_color\",\"line_alpha\",\"width\",\"y\",\"x\",\"height\",\"color\"],\"data\":{\"chart_index\":[{\"cyl\":6}],\"color\":[\"#f22c40\"],\"cyl\":[6],\"fill_alpha\":[0.8],\"height\":[19.973493975903615],\"line_alpha\":[1.0],\"line_color\":[\"#f22c40\"],\"width\":[0.8],\"x\":[\"6\"],\"y\":[9.986746987951808]}},\"id\":\"c8020015-b750-4311-aacf-ef7a4c8d505e\",\"type\":\"ColumnDataSource\"},{\"attributes\":{\"data_source\":{\"id\":\"0f91df2e-7a78-4c97-972e-f645e43eab98\",\"type\":\"ColumnDataSource\"},\"glyph\":{\"id\":\"e6d3c1ab-ae6b-4ccd-8584-194ef1ab5a44\",\"type\":\"Circle\"},\"hover_glyph\":null,\"nonselection_glyph\":null,\"selection_glyph\":null},\"id\":\"0414ce60-dd36-4b36-9f7f-ef47bd82a54f\",\"type\":\"GlyphRenderer\"},{\"attributes\":{\"plot\":{\"id\":\"ab38e769-b993-49d4-ba31-7cef8596f3a4\",\"subtype\":\"Chart\",\"type\":\"Plot\"}},\"id\":\"f86fbbbc-1e82-4a7b-b576-24553ba4ee05\",\"type\":\"ResizeTool\"},{\"attributes\":{},\"id\":\"e0dd898c-9fff-47f7-81ca-ef7d7b07a65a\",\"type\":\"BasicTickFormatter\"},{\"attributes\":{\"fill_alpha\":{\"field\":\"fill_alpha\"},\"fill_color\":{\"value\":\"#f22c40\"},\"line_alpha\":{\"field\":\"line_alpha\"},\"line_color\":{\"value\":\"#f22c40\"},\"size\":{\"units\":\"screen\",\"value\":8},\"x\":{\"field\":\"x\"},\"y\":{\"field\":\"height\"}},\"id\":\"aed30ae1-d04c-4ee7-a431-e877aaa5deb9\",\"type\":\"Circle\"},{\"attributes\":{},\"id\":\"0a99c832-6b2e-4bdb-b678-56302647fe2f\",\"type\":\"CategoricalTickFormatter\"},{\"attributes\":{\"plot\":{\"id\":\"ab38e769-b993-49d4-ba31-7cef8596f3a4\",\"subtype\":\"Chart\",\"type\":\"Plot\"}},\"id\":\"3a16264b-564c-4cc3-8c4a-f31cd68348c8\",\"type\":\"PreviewSaveTool\"},{\"attributes\":{\"plot\":{\"id\":\"c6b44c4e-a7ea-450c-9a40-2211543ca05b\",\"subtype\":\"Chart\",\"type\":\"Plot\"}},\"id\":\"25ee4f65-0a66-4c3b-84e0-13c95b402bd9\",\"type\":\"PanTool\"},{\"attributes\":{\"axis_label\":\"Mean( Neg_Mpg )\",\"formatter\":{\"id\":\"e0dd898c-9fff-47f7-81ca-ef7d7b07a65a\",\"type\":\"BasicTickFormatter\"},\"plot\":{\"id\":\"c6b44c4e-a7ea-450c-9a40-2211543ca05b\",\"subtype\":\"Chart\",\"type\":\"Plot\"},\"ticker\":{\"id\":\"8a062269-6aee-40a4-b164-ce171f5f582d\",\"type\":\"BasicTicker\"}},\"id\":\"845fd9f5-1e7a-466a-a55b-80cc4e61b4a1\",\"type\":\"LinearAxis\"},{\"attributes\":{\"data_source\":{\"id\":\"34b791e7-d3e4-4d16-9df1-922488a0e9ba\",\"type\":\"ColumnDataSource\"},\"glyph\":{\"id\":\"2a65352d-647c-40a3-914f-8f0fd867de7f\",\"type\":\"Circle\"},\"hover_glyph\":null,\"nonselection_glyph\":null,\"selection_glyph\":null},\"id\":\"918ca171-21d8-4d39-835e-af2612cdca49\",\"type\":\"GlyphRenderer\"},{\"attributes\":{\"callback\":null,\"column_names\":[\"fill_alpha\",\"line_color\",\"line_alpha\",\"width\",\"y\",\"x\",\"height\",\"color\"],\"data\":{\"chart_index\":[{\"cyl\":4}],\"color\":[\"#f22c40\"],\"cyl\":[4],\"fill_alpha\":[0.8],\"height\":[199.0],\"line_alpha\":[1.0],\"line_color\":[\"#f22c40\"],\"width\":[0.8],\"x\":[\"4\"],\"y\":[99.5]}},\"id\":\"ed6b5d73-522f-4e82-879d-f35d8ad03d77\",\"type\":\"ColumnDataSource\"},{\"attributes\":{},\"id\":\"b1bc7ba9-691e-433f-8ff1-034446fca998\",\"type\":\"ToolEvents\"},{\"attributes\":{},\"id\":\"9a10979b-5666-4193-b8e8-6d916adfd7e1\",\"type\":\"CategoricalTicker\"},{\"attributes\":{\"plot\":{\"id\":\"dda01bd5-a3c6-40cb-bc29-237894282ba2\",\"subtype\":\"Chart\",\"type\":\"Plot\"}},\"id\":\"f83d7501-1b9b-4ff3-9267-66f5b4fd4839\",\"type\":\"PreviewSaveTool\"},{\"attributes\":{\"fill_alpha\":{\"field\":\"fill_alpha\"},\"fill_color\":{\"value\":\"#f22c40\"},\"line_alpha\":{\"field\":\"line_alpha\"},\"line_color\":{\"value\":\"#f22c40\"},\"size\":{\"units\":\"screen\",\"value\":8},\"x\":{\"field\":\"x\"},\"y\":{\"field\":\"height\"}},\"id\":\"93005690-ad39-4835-892e-80fb7c17919d\",\"type\":\"Circle\"},{\"attributes\":{\"plot\":{\"id\":\"dda01bd5-a3c6-40cb-bc29-237894282ba2\",\"subtype\":\"Chart\",\"type\":\"Plot\"}},\"id\":\"cc6de112-bac3-475f-916b-ee887c66d693\",\"type\":\"HelpTool\"},{\"attributes\":{\"data_source\":{\"id\":\"21446b25-303f-4d0b-9fca-825f5730878a\",\"type\":\"ColumnDataSource\"},\"glyph\":{\"id\":\"65fc1853-810c-4e1f-be75-1f6121c4c57b\",\"type\":\"Circle\"},\"hover_glyph\":null,\"nonselection_glyph\":null,\"selection_glyph\":null},\"id\":\"2f1fd07b-69f9-47a3-9dde-8daf369d707f\",\"type\":\"GlyphRenderer\"},{\"attributes\":{\"callback\":null,\"column_names\":[\"fill_alpha\",\"line_color\",\"line_alpha\",\"width\",\"y\",\"x\",\"height\",\"color\"],\"data\":{\"chart_index\":[{\"cyl\":6,\"origin\":3}],\"color\":[\"#407ee7\"],\"cyl\":[6],\"fill_alpha\":[0.8],\"height\":[156.66666666666666],\"line_alpha\":[1.0],\"line_color\":[\"#f22c40\"],\"origin\":[3],\"width\":[0.2],\"x\":[\"6:0.5\"],\"y\":[78.33333333333333]}},\"id\":\"3443b180-9a2b-4c00-8809-c25feeb2c694\",\"type\":\"ColumnDataSource\"},{\"attributes\":{\"axis_label\":\"Count( Cyl )\",\"formatter\":{\"id\":\"bc87d84e-9b8e-4582-8619-52c5a38c4076\",\"type\":\"BasicTickFormatter\"},\"plot\":{\"id\":\"dda01bd5-a3c6-40cb-bc29-237894282ba2\",\"subtype\":\"Chart\",\"type\":\"Plot\"},\"ticker\":{\"id\":\"09d6da24-e217-46f4-b5f6-310106b82c09\",\"type\":\"BasicTicker\"}},\"id\":\"aa4b9602-66cc-410d-8733-45aac1588a5b\",\"type\":\"LinearAxis\"},{\"attributes\":{\"line_alpha\":{\"field\":\"fill_alpha\"},\"x0\":{\"field\":\"x\"},\"x1\":{\"field\":\"x\"},\"y0\":{\"value\":0},\"y1\":{\"field\":\"height\"}},\"id\":\"373c1659-f244-468c-887a-a3ecb6da8989\",\"type\":\"Segment\"},{\"attributes\":{\"callback\":null,\"column_names\":[\"fill_alpha\",\"line_color\",\"line_alpha\",\"width\",\"y\",\"x\",\"height\",\"color\"],\"data\":{\"chart_index\":[{\"cyl\":8}],\"color\":[\"dimgray\"],\"cyl\":[8],\"fill_alpha\":[0.8],\"height\":[103.0],\"line_alpha\":[1.0],\"line_color\":[\"#f22c40\"],\"width\":[0.8],\"x\":[\"8\"],\"y\":[51.5]}},\"id\":\"342aca58-2e9e-4c02-9b69-0f94b639bbea\",\"type\":\"ColumnDataSource\"},{\"attributes\":{\"data_source\":{\"id\":\"ce50d3ac-7c07-45a3-92e8-df11ad3be03f\",\"type\":\"ColumnDataSource\"},\"glyph\":{\"id\":\"b7e2f04c-a77d-458e-877e-d15283fb3474\",\"type\":\"Circle\"},\"hover_glyph\":null,\"nonselection_glyph\":null,\"selection_glyph\":null},\"id\":\"a0332a91-561f-4e62-a3e5-7147e1b3b77e\",\"type\":\"GlyphRenderer\"},{\"attributes\":{\"callback\":null,\"column_names\":[\"fill_alpha\",\"line_color\",\"line_alpha\",\"width\",\"y\",\"x\",\"height\",\"color\"],\"data\":{\"chart_index\":[{\"cyl\":4,\"origin\":3}],\"color\":[\"#5ab738\"],\"cyl\":[4],\"fill_alpha\":[0.8],\"height\":[31.595652173913034],\"line_alpha\":[1.0],\"line_color\":[\"#f22c40\"],\"origin\":[3],\"width\":[0.8],\"x\":[\"3\"],\"y\":[15.797826086956517]}},\"id\":\"25103223-4434-48b6-8912-45330e538095\",\"type\":\"ColumnDataSource\"},{\"attributes\":{\"data_source\":{\"id\":\"228e9d13-4703-49aa-890c-596d28aba2b4\",\"type\":\"ColumnDataSource\"},\"glyph\":{\"id\":\"373c1659-f244-468c-887a-a3ecb6da8989\",\"type\":\"Segment\"},\"hover_glyph\":null,\"nonselection_glyph\":null,\"selection_glyph\":null},\"id\":\"1b978cd6-aab5-46ea-9da6-fc1b3a90a87c\",\"type\":\"GlyphRenderer\"},{\"attributes\":{\"data_source\":{\"id\":\"83c7d6bb-cb17-4ccf-b2e7-69c7a8bfdee5\",\"type\":\"ColumnDataSource\"},\"glyph\":{\"id\":\"6758256d-269b-4fda-aae0-cc839c17ef9f\",\"type\":\"Circle\"},\"hover_glyph\":null,\"nonselection_glyph\":null,\"selection_glyph\":null},\"id\":\"0434722b-a701-44de-93c8-c3eca383f95a\",\"type\":\"GlyphRenderer\"},{\"attributes\":{\"data_source\":{\"id\":\"2759b596-061f-43c3-a11c-66549818942d\",\"type\":\"ColumnDataSource\"},\"glyph\":{\"id\":\"ccc642d9-c498-479e-b3e8-79d3f5733067\",\"type\":\"Circle\"},\"hover_glyph\":null,\"nonselection_glyph\":null,\"selection_glyph\":null},\"id\":\"3649310f-38e5-48f3-90ee-74ee9ab72352\",\"type\":\"GlyphRenderer\"},{\"attributes\":{\"plot\":{\"id\":\"c6b44c4e-a7ea-450c-9a40-2211543ca05b\",\"subtype\":\"Chart\",\"type\":\"Plot\"}},\"id\":\"6474ae36-e878-4509-9a6c-71228ae4d4b8\",\"type\":\"ResizeTool\"},{\"attributes\":{\"data_source\":{\"id\":\"a2340146-e23d-4d19-bc2a-cfddad3d5a5f\",\"type\":\"ColumnDataSource\"},\"glyph\":{\"id\":\"a513a070-9830-4f27-962e-c80d7a7feb5d\",\"type\":\"Circle\"},\"hover_glyph\":null,\"nonselection_glyph\":null,\"selection_glyph\":null},\"id\":\"c111342c-700d-4d36-999b-91ad0c50fefb\",\"type\":\"GlyphRenderer\"},{\"attributes\":{\"callback\":null,\"column_names\":[\"fill_alpha\",\"line_color\",\"line_alpha\",\"width\",\"y\",\"x\",\"height\",\"color\"],\"data\":{\"chart_index\":[{\"interpreter\":\"jython\",\"sample\":\"1st\"}],\"color\":[\"#f22c40\"],\"fill_alpha\":[0.8],\"height\":[22.0],\"interpreter\":[\"jython\"],\"line_alpha\":[1.0],\"line_color\":[\"#f22c40\"],\"sample\":[\"1st\"],\"width\":[0.2],\"x\":[\"jython:0.333333333333\"],\"y\":[11.0]}},\"id\":\"998c1a33-e44b-4d34-8b77-c3bd39f83a2f\",\"type\":\"ColumnDataSource\"},{\"attributes\":{\"below\":[{\"id\":\"a4dc824d-cc8d-49c7-98ff-885f028cd1c8\",\"type\":\"CategoricalAxis\"}],\"left\":[{\"id\":\"5b4d2280-e63c-4236-9f1c-39ba15177489\",\"type\":\"LinearAxis\"}],\"legend\":\"top_right\",\"renderers\":[{\"id\":\"db62a6e7-015f-49b5-b3bc-58bbd3d48da0\",\"type\":\"BoxAnnotation\"},{\"id\":\"dbb0280d-ca6c-4880-8f8e-d4f60eb0d750\",\"type\":\"GlyphRenderer\"},{\"id\":\"ae95f629-5358-485f-9427-923327640c1f\",\"type\":\"GlyphRenderer\"},{\"id\":\"c3ba946a-5d28-4598-837a-e09bc7305255\",\"type\":\"GlyphRenderer\"},{\"id\":\"e9aaa695-d043-4834-bdf9-09d4b9e64d20\",\"type\":\"GlyphRenderer\"},{\"id\":\"0880aeef-4c30-4210-acac-1a543a6775e4\",\"type\":\"GlyphRenderer\"},{\"id\":\"daba478d-84e0-46bc-99a5-92fedab2983d\",\"type\":\"GlyphRenderer\"},{\"id\":\"3514e822-7527-453d-9747-fd3c28dc269a\",\"type\":\"Legend\"},{\"id\":\"a4dc824d-cc8d-49c7-98ff-885f028cd1c8\",\"type\":\"CategoricalAxis\"},{\"id\":\"5b4d2280-e63c-4236-9f1c-39ba15177489\",\"type\":\"LinearAxis\"},{\"id\":\"5a89e43b-3091-404e-aa25-1884ba91d2a2\",\"type\":\"Grid\"}],\"title\":\"Python Interpreter Sampling\",\"title_text_font_size\":{\"value\":\"14pt\"},\"tool_events\":{\"id\":\"6f8e9c2c-a640-4d15-91b5-4d548fcd24f8\",\"type\":\"ToolEvents\"},\"tools\":[{\"id\":\"34d32e12-fcb7-413a-8c75-030a99d9d2e2\",\"type\":\"PanTool\"},{\"id\":\"23befe9d-137c-4f4c-befe-fc660950ad79\",\"type\":\"WheelZoomTool\"},{\"id\":\"ce0e6641-c798-4f39-834f-7cb2b439e1c9\",\"type\":\"BoxZoomTool\"},{\"id\":\"e7eff6e2-bae9-4f57-8124-43ebd89093ce\",\"type\":\"PreviewSaveTool\"},{\"id\":\"d3f32d8e-c2e5-4b31-8a74-23d951b1f62a\",\"type\":\"ResizeTool\"},{\"id\":\"74ca9ccb-8f3f-42aa-b7ec-eb06d3d18a86\",\"type\":\"ResetTool\"},{\"id\":\"bf04493a-0a44-4a98-aa8b-af7e1bf0bdd3\",\"type\":\"HelpTool\"}],\"x_mapper_type\":\"auto\",\"x_range\":{\"id\":\"2c9e887f-cdee-42a0-9461-e48906d991ee\",\"type\":\"FactorRange\"},\"xgrid\":false,\"xscale\":\"auto\",\"y_mapper_type\":\"auto\",\"y_range\":{\"id\":\"b0085a35-88d0-47ff-91ac-f47c391244e1\",\"type\":\"Range1d\"},\"yscale\":\"auto\"},\"id\":\"d6822298-866e-4493-8c93-b5ff36d9c882\",\"subtype\":\"Chart\",\"type\":\"Plot\"},{\"attributes\":{\"callback\":null,\"end\":41.9,\"start\":-3.9000000000000004},\"id\":\"b0085a35-88d0-47ff-91ac-f47c391244e1\",\"type\":\"Range1d\"},{\"attributes\":{\"data_source\":{\"id\":\"ea4fa13e-7ee5-45b6-bb8b-37e6c840dff2\",\"type\":\"ColumnDataSource\"},\"glyph\":{\"id\":\"7a52c369-df04-4e26-b76a-19f95ec6c7bf\",\"type\":\"Circle\"},\"hover_glyph\":null,\"nonselection_glyph\":null,\"selection_glyph\":null},\"id\":\"d8f35c19-0153-4072-88a9-32ef12586814\",\"type\":\"GlyphRenderer\"},{\"attributes\":{\"dimension\":1,\"plot\":{\"id\":\"21a40375-1dd9-429c-b8dc-dc449d914668\",\"subtype\":\"Chart\",\"type\":\"Plot\"},\"ticker\":{\"id\":\"278385f4-4299-490e-abbc-4d6feef5928b\",\"type\":\"BasicTicker\"}},\"id\":\"620ef84e-3587-4a35-bca8-83ed40e09fa8\",\"type\":\"Grid\"},{\"attributes\":{\"data_source\":{\"id\":\"362bec13-27d5-4290-8624-c644666efa47\",\"type\":\"ColumnDataSource\"},\"glyph\":{\"id\":\"bd1a7fef-cbda-433e-a51d-8b176c99ee0c\",\"type\":\"Circle\"},\"hover_glyph\":null,\"nonselection_glyph\":null,\"selection_glyph\":null},\"id\":\"a0a11ee0-9d2a-4115-b042-c3402d198f07\",\"type\":\"GlyphRenderer\"},{\"attributes\":{\"plot\":{\"id\":\"3aad506f-bbac-4aff-93d8-ccd4351bdfc6\",\"subtype\":\"Chart\",\"type\":\"Plot\"}},\"id\":\"e30c5d1b-e586-4187-9202-b9953e373319\",\"type\":\"PanTool\"},{\"attributes\":{},\"id\":\"f7793930-08ac-4d29-85d4-bb4276c4dfd5\",\"type\":\"BasicTicker\"},{\"attributes\":{\"below\":[{\"id\":\"ba3e304d-8dc1-4e28-b420-f669965c541e\",\"type\":\"CategoricalAxis\"}],\"left\":[{\"id\":\"55f7be83-3f8f-4608-b5da-730a74d9ec54\",\"type\":\"LinearAxis\"}],\"legend\":\"top_right\",\"plot_height\":350,\"plot_width\":450,\"renderers\":[{\"id\":\"f08cc498-bf3d-46fe-88b5-16276629f265\",\"type\":\"BoxAnnotation\"},{\"id\":\"113f9503-281f-4064-9468-324924db4544\",\"type\":\"GlyphRenderer\"},{\"id\":\"7ebff80f-d276-464b-9072-a6aee8c7b5e2\",\"type\":\"GlyphRenderer\"},{\"id\":\"d2cebee6-b84c-4f0a-b65c-4288a7a494c6\",\"type\":\"GlyphRenderer\"},{\"id\":\"a1be715d-5254-4503-bab9-7a364d348b63\",\"type\":\"GlyphRenderer\"},{\"id\":\"92455023-2914-4aea-87db-24e5af1dea2c\",\"type\":\"GlyphRenderer\"},{\"id\":\"b0e9d795-df6f-40c2-93be-a0ad48090b1b\",\"type\":\"GlyphRenderer\"},{\"id\":\"2f1fd07b-69f9-47a3-9dde-8daf369d707f\",\"type\":\"GlyphRenderer\"},{\"id\":\"a0332a91-561f-4e62-a3e5-7147e1b3b77e\",\"type\":\"GlyphRenderer\"},{\"id\":\"b7f8b882-dcb3-4f3e-b6bd-672ada774053\",\"type\":\"GlyphRenderer\"},{\"id\":\"2f1f4967-8440-4751-89bd-3baaf32c5b37\",\"type\":\"Legend\"},{\"id\":\"ba3e304d-8dc1-4e28-b420-f669965c541e\",\"type\":\"CategoricalAxis\"},{\"id\":\"55f7be83-3f8f-4608-b5da-730a74d9ec54\",\"type\":\"LinearAxis\"},{\"id\":\"b9ec1c08-c6b6-4528-9989-96b3b5988737\",\"type\":\"Grid\"}],\"title\":\"label='origin' values='mpg' agg='mean' stack='cyl'\",\"title_text_font_size\":{\"value\":\"14pt\"},\"tool_events\":{\"id\":\"da2bb50d-9715-4b8e-b459-5027e7e58cfd\",\"type\":\"ToolEvents\"},\"tools\":[{\"id\":\"f36564b4-0e07-4983-ac6c-692a89383c21\",\"type\":\"PanTool\"},{\"id\":\"5777daaf-7723-44f2-ba4b-5d3ed6149cde\",\"type\":\"WheelZoomTool\"},{\"id\":\"6030e5da-5976-4aec-a4fb-73e1db8f8825\",\"type\":\"BoxZoomTool\"},{\"id\":\"b782d3a1-9348-47a6-a1d7-cd47a431c0f0\",\"type\":\"PreviewSaveTool\"},{\"id\":\"ff91512d-dbb1-4dc3-85e9-d4561635115f\",\"type\":\"ResizeTool\"},{\"id\":\"7973ac5e-240b-463c-ba7a-7b07649099f0\",\"type\":\"ResetTool\"},{\"id\":\"13da4837-e3a0-4d52-9f00-8580c08e56dc\",\"type\":\"HelpTool\"}],\"x_mapper_type\":\"auto\",\"x_range\":{\"id\":\"8ef19ed0-ac44-4211-bcc0-c50e6de8085c\",\"type\":\"FactorRange\"},\"xgrid\":false,\"xscale\":\"auto\",\"y_mapper_type\":\"auto\",\"y_range\":{\"id\":\"a283f004-a5ef-483b-b85e-9417809b2324\",\"type\":\"Range1d\"},\"yscale\":\"auto\"},\"id\":\"c6dc9d14-ff8d-448a-a6af-b200cae48c05\",\"subtype\":\"Chart\",\"type\":\"Plot\"},{\"attributes\":{\"callback\":null,\"column_names\":[\"fill_alpha\",\"line_color\",\"line_alpha\",\"width\",\"y\",\"x\",\"height\",\"color\"],\"data\":{\"chart_index\":[{\"cyl\":4,\"origin\":2}],\"color\":[\"#5ab738\"],\"cyl\":[4],\"fill_alpha\":[0.8],\"height\":[104.60655737704919],\"line_alpha\":[1.0],\"line_color\":[\"#f22c40\"],\"origin\":[2],\"width\":[0.2],\"x\":[\"4:0.75\"],\"y\":[52.30327868852459]}},\"id\":\"d3e0c737-779b-466a-bc34-5d74bd239675\",\"type\":\"ColumnDataSource\"},{\"attributes\":{\"callback\":null,\"column_names\":[\"fill_alpha\",\"line_color\",\"line_alpha\",\"width\",\"y\",\"x\",\"height\",\"color\"],\"data\":{\"chart_index\":[{\"cyl\":3,\"origin\":3}],\"color\":[\"#f22c40\"],\"cyl\":[3],\"fill_alpha\":[0.8],\"height\":[20.55],\"line_alpha\":[1.0],\"line_color\":[\"#f22c40\"],\"origin\":[3],\"width\":[0.8],\"x\":[\"(3, 3)\"],\"y\":[10.275]}},\"id\":\"b8eba528-bf41-4bd6-a0a8-6af63614153f\",\"type\":\"ColumnDataSource\"},{\"attributes\":{\"callback\":null,\"factors\":[\"3\",\"4\",\"5\",\"6\",\"8\"]},\"id\":\"5a0f4e5d-b5bc-4c71-af8b-4016ce6d64da\",\"type\":\"FactorRange\"},{\"attributes\":{},\"id\":\"024da77a-a4e2-46e6-b926-a310543a15d2\",\"type\":\"CategoricalTicker\"},{\"attributes\":{\"dimension\":1,\"plot\":{\"id\":\"f06fbef1-6326-4c65-8fb6-ac105fc279eb\",\"subtype\":\"Chart\",\"type\":\"Plot\"},\"ticker\":{\"id\":\"ca9f9591-3dce-42f5-becb-2239c9de6c29\",\"type\":\"BasicTicker\"}},\"id\":\"f75c3cbe-6532-4667-b9c1-349137254b6e\",\"type\":\"Grid\"},{\"attributes\":{\"fill_alpha\":{\"field\":\"fill_alpha\"},\"fill_color\":{\"value\":\"#407ee7\"},\"line_alpha\":{\"field\":\"line_alpha\"},\"line_color\":{\"value\":\"#f22c40\"},\"size\":{\"units\":\"screen\",\"value\":8},\"x\":{\"field\":\"x\"},\"y\":{\"field\":\"height\"}},\"id\":\"5ba51837-4bec-4e1c-bae6-0da754ad3f3e\",\"type\":\"Circle\"},{\"attributes\":{\"callback\":null,\"column_names\":[\"fill_alpha\",\"line_color\",\"line_alpha\",\"width\",\"y\",\"x\",\"height\",\"color\"],\"data\":{\"chart_index\":[{\"cyl\":6}],\"color\":[\"dimgray\"],\"cyl\":[6],\"fill_alpha\":[0.8],\"height\":[83.0],\"line_alpha\":[1.0],\"line_color\":[\"#f22c40\"],\"width\":[0.8],\"x\":[\"6\"],\"y\":[41.5]}},\"id\":\"af9556b8-1022-4fab-8a2b-0af786d0f7a3\",\"type\":\"ColumnDataSource\"},{\"attributes\":{\"fill_alpha\":{\"field\":\"fill_alpha\"},\"fill_color\":{\"value\":\"#f22c40\"},\"line_alpha\":{\"field\":\"line_alpha\"},\"line_color\":{\"value\":\"#f22c40\"},\"size\":{\"units\":\"screen\",\"value\":8},\"x\":{\"field\":\"x\"},\"y\":{\"field\":\"height\"}},\"id\":\"313114aa-654b-4278-a44e-7a45c91791f1\",\"type\":\"Circle\"},{\"attributes\":{\"axis_label\":\"Sample_Sizes\",\"formatter\":{\"id\":\"1f63775d-4801-447d-9c2e-41dafe0fe67d\",\"type\":\"CategoricalTickFormatter\"},\"major_label_orientation\":0.7853981633974483,\"plot\":{\"id\":\"21a40375-1dd9-429c-b8dc-dc449d914668\",\"subtype\":\"Chart\",\"type\":\"Plot\"},\"ticker\":{\"id\":\"5f168d97-a01c-437b-b627-a41aec24768c\",\"type\":\"CategoricalTicker\"}},\"id\":\"d984eb34-7672-45b6-9151-162332f868de\",\"type\":\"CategoricalAxis\"},{\"attributes\":{\"fill_alpha\":{\"field\":\"fill_alpha\"},\"fill_color\":{\"value\":\"#f22c40\"},\"line_alpha\":{\"field\":\"line_alpha\"},\"line_color\":{\"value\":\"#f22c40\"},\"size\":{\"units\":\"screen\",\"value\":8},\"x\":{\"field\":\"x\"},\"y\":{\"field\":\"height\"}},\"id\":\"45df42a4-c916-40cd-bd26-631add76ad15\",\"type\":\"Circle\"},{\"attributes\":{\"fill_alpha\":{\"field\":\"fill_alpha\"},\"fill_color\":{\"value\":\"#f22c40\"},\"line_alpha\":{\"field\":\"line_alpha\"},\"line_color\":{\"value\":\"#f22c40\"},\"size\":{\"units\":\"screen\",\"value\":8},\"x\":{\"field\":\"x\"},\"y\":{\"field\":\"height\"}},\"id\":\"7ee0553a-0198-46a9-a07f-b422c037779e\",\"type\":\"Circle\"}],\"root_ids\":[\"d6822298-866e-4493-8c93-b5ff36d9c882\",\"21a40375-1dd9-429c-b8dc-dc449d914668\",\"538274b8-009e-4ee4-b687-3e7c9dc2bb08\"]},\"title\":\"Bokeh Application\",\"version\":\"0.11.1\"}};\n",
       "            var render_items = [{\"docid\":\"486c6da3-363f-4573-99bc-b671a2262166\",\"elementid\":\"98707839-68ff-4811-a4fa-90536e321520\",\"modelid\":\"538274b8-009e-4ee4-b687-3e7c9dc2bb08\",\"notebook_comms_target\":\"c3cb6b14-54c5-43a9-a896-a1b8502653ff\"}];\n",
       "            \n",
       "            Bokeh.embed.embed_items(docs_json, render_items);\n",
       "        });\n",
       "      },\n",
       "      function(Bokeh) {\n",
       "      }\n",
       "    ];\n",
       "  \n",
       "    function run_inline_js() {\n",
       "      for (var i = 0; i < inline_js.length; i++) {\n",
       "        inline_js[i](window.Bokeh);\n",
       "      }\n",
       "    }\n",
       "  \n",
       "    if (window._bokeh_is_loading === 0) {\n",
       "      console.log(\"Bokeh: BokehJS loaded, going straight to plotting\");\n",
       "      run_inline_js();\n",
       "    } else {\n",
       "      load_libs(js_urls, function() {\n",
       "        console.log(\"Bokeh: BokehJS plotting callback run at\", now());\n",
       "        run_inline_js();\n",
       "      });\n",
       "    }\n",
       "  }(this));\n",
       "</script>"
      ]
     },
     "metadata": {},
     "output_type": "display_data"
    },
    {
     "data": {
      "text/html": [
       "<p><code>&lt;Bokeh Notebook handle for <strong>In[6]</strong>&gt;</code></p>"
      ],
      "text/plain": [
       "<bokeh.io._CommsHandle at 0x8f9eba8>"
      ]
     },
     "execution_count": 6,
     "metadata": {},
     "output_type": "execute_result"
    }
   ],
   "source": [
    "from bokeh.charts import Dot, output_file, show, vplot, hplot, defaults\n",
    "from bokeh.sampledata.autompg import autompg as df\n",
    "\n",
    "df['neg_mpg'] = 0 - df['mpg']\n",
    "\n",
    "defaults.plot_width = 450\n",
    "defaults.plot_height = 350\n",
    "\n",
    "dot_plot = Dot(df, label='cyl', title=\"label='cyl'\")\n",
    "\n",
    "dot_plot2 = Dot(df, label='cyl', title=\"label='cyl' dot_width=0.4\")\n",
    "\n",
    "dot_plot3 = Dot(df, label='cyl', values='mpg', agg='mean', stem=True,\n",
    "                title=\"label='cyl' values='mpg' agg='mean'\")\n",
    "\n",
    "dot_plot4 = Dot(df, label='cyl', title=\"label='cyl' color='DimGray'\", color='dimgray')\n",
    "\n",
    "# multiple columns\n",
    "dot_plot5 = Dot(df, label=['cyl', 'origin'], values='mpg', agg='mean',\n",
    "                title=\"label=['cyl', 'origin'] values='mpg' agg='mean'\")\n",
    "\n",
    "dot_plot6 = Dot(df, label='origin', values='mpg', agg='mean', stack='cyl',\n",
    "                title=\"label='origin' values='mpg' agg='mean' stack='cyl'\",\n",
    "                legend='top_right')\n",
    "\n",
    "dot_plot7 = Dot(df, label='cyl', values='displ', agg='mean', group='origin',\n",
    "                title=\"label='cyl' values='displ' agg='mean' group='origin'\",\n",
    "                legend='top_right')\n",
    "\n",
    "dot_plot8 = Dot(df, label='cyl', values='neg_mpg', agg='mean', group='origin',\n",
    "                color='origin', legend='top_right',\n",
    "                title=\"label='cyl' values='neg_mpg' agg='mean' group='origin'\")\n",
    "dot_plot8.title_text_font_size = '11pt'\n",
    "\n",
    "# infer labels from index\n",
    "df = df.set_index('cyl')\n",
    "dot_plot9 = Dot(df, values='mpg', agg='mean', legend='top_right', title='inferred labels')\n",
    "\n",
    "output_file(\"dots_multi.html\", title=\"dots_multi.py example\")\n",
    "\n",
    "show(vplot(\n",
    "    hplot(dot_plot, dot_plot2),\n",
    "    hplot(dot_plot3, dot_plot4),\n",
    "    hplot(dot_plot5, dot_plot6),\n",
    "    hplot(dot_plot7, dot_plot8),\n",
    "    hplot(dot_plot9)\n",
    "))\n"
   ]
  },
  {
   "cell_type": "code",
   "execution_count": 7,
   "metadata": {
    "collapsed": false
   },
   "outputs": [
    {
     "name": "stdout",
     "output_type": "stream",
     "text": [
      "Wrote anscombe.html\n"
     ]
    }
   ],
   "source": [
    "from __future__ import print_function\n",
    "\n",
    "import numpy as np\n",
    "import pandas as pd\n",
    "\n",
    "from bokeh.util.browser import view\n",
    "from bokeh.document import Document\n",
    "from bokeh.embed import file_html\n",
    "from bokeh.models.glyphs import Circle, Line\n",
    "from bokeh.models import (\n",
    "    ColumnDataSource, Grid, GridPlot, LinearAxis, Plot, Range1d\n",
    ")\n",
    "from bokeh.resources import INLINE\n",
    "\n",
    "raw_columns=[\n",
    "[10.0,   8.04,   10.0,   9.14,   10.0,   7.46,   8.0,    6.58],\n",
    "[8.0,    6.95,   8.0,    8.14,   8.0,    6.77,   8.0,    5.76],\n",
    "[13.0,   7.58,   13.0,   8.74,   13.0,   12.74,  8.0,    7.71],\n",
    "[9.0,    8.81,   9.0,    8.77,   9.0,    7.11,   8.0,    8.84],\n",
    "[11.0,   8.33,   11.0,   9.26,   11.0,   7.81,   8.0,    8.47],\n",
    "[14.0,   9.96,   14.0,   8.10,   14.0,   8.84,   8.0,    7.04],\n",
    "[6.0,    7.24,   6.0,    6.13,   6.0,    6.08,   8.0,    5.25],\n",
    "[4.0,    4.26,   4.0,    3.10,   4.0,    5.39,   19.0,   12.5],\n",
    "[12.0,   10.84,  12.0,   9.13,   12.0,   8.15,   8.0,    5.56],\n",
    "[7.0,    4.82,   7.0,    7.26,   7.0,    6.42,   8.0,    7.91],\n",
    "[5.0,    5.68,   5.0,    4.74,   5.0,    5.73,   8.0,    6.89]]\n",
    "\n",
    "quartet = pd.DataFrame(data=raw_columns, columns=\n",
    "                       ['Ix','Iy','IIx','IIy','IIIx','IIIy','IVx','IVy'])\n",
    "\n",
    "\n",
    "circles_source = ColumnDataSource(\n",
    "    data = dict(\n",
    "        xi   = quartet['Ix'],\n",
    "        yi   = quartet['Iy'],\n",
    "        xii  = quartet['IIx'],\n",
    "        yii  = quartet['IIy'],\n",
    "        xiii = quartet['IIIx'],\n",
    "        yiii = quartet['IIIy'],\n",
    "        xiv  = quartet['IVx'],\n",
    "        yiv  = quartet['IVy'],\n",
    "    )\n",
    "   )\n",
    "\n",
    "x = np.linspace(-0.5, 20.5, 10)\n",
    "y = 3 + 0.5 * x\n",
    "lines_source = ColumnDataSource(data=dict(x=x, y=y))\n",
    "\n",
    "xdr = Range1d(start=-0.5, end=20.5)\n",
    "ydr = Range1d(start=-0.5, end=20.5)\n",
    "\n",
    "def make_plot(title, xname, yname):\n",
    "    plot = Plot(\n",
    "        x_range=xdr, y_range=ydr,\n",
    "        title=title, plot_width=400, plot_height=400,\n",
    "        border_fill_color='white', background_fill_color='#e9e0db'\n",
    "    )\n",
    "\n",
    "    xaxis = LinearAxis(axis_line_color=None)\n",
    "    plot.add_layout(xaxis, 'below')\n",
    "\n",
    "    yaxis = LinearAxis(axis_line_color=None)\n",
    "    plot.add_layout(yaxis, 'left')\n",
    "\n",
    "    plot.add_layout(Grid(dimension=0, ticker=xaxis.ticker))\n",
    "    plot.add_layout(Grid(dimension=1, ticker=yaxis.ticker))\n",
    "\n",
    "    line = Line(x='x', y='y', line_color=\"#666699\", line_width=2)\n",
    "    plot.add_glyph(lines_source, line)\n",
    "\n",
    "    circle = Circle(\n",
    "        x=xname, y=yname, size=12,\n",
    "        fill_color=\"#cc6633\", line_color=\"#cc6633\", fill_alpha=0.5\n",
    "    )\n",
    "    plot.add_glyph(circles_source, circle)\n",
    "\n",
    "    return plot\n",
    "\n",
    "#where will this comment show up\n",
    "I   = make_plot('I',   'xi',   'yi')\n",
    "II  = make_plot('II',  'xii',  'yii')\n",
    "III = make_plot('III', 'xiii', 'yiii')\n",
    "IV  = make_plot('IV',  'xiv',  'yiv')\n",
    "\n",
    "grid = GridPlot(children=[[I, II], [III, IV]])\n",
    "\n",
    "doc = Document()\n",
    "doc.add_root(grid)\n",
    "\n",
    "if __name__ == \"__main__\":\n",
    "    filename = \"anscombe.html\"\n",
    "    with open(filename, \"w\") as f:\n",
    "        f.write(file_html(doc, INLINE, \"Anscombe's Quartet\"))\n",
    "    print(\"Wrote %s\" % filename)\n",
    "    view(filename)\n"
   ]
  },
  {
   "cell_type": "code",
   "execution_count": null,
   "metadata": {
    "collapsed": true
   },
   "outputs": [],
   "source": []
  },
  {
   "cell_type": "code",
   "execution_count": null,
   "metadata": {
    "collapsed": true
   },
   "outputs": [],
   "source": []
  },
  {
   "cell_type": "code",
   "execution_count": 15,
   "metadata": {
    "collapsed": false
   },
   "outputs": [
    {
     "name": "stdout",
     "output_type": "stream",
     "text": [
      "Wrote data_tables.html\n"
     ]
    }
   ],
   "source": [
    "from bokeh.io import vplot\n",
    "from bokeh.models import ColumnDataSource, DataRange1d, Plot, LinearAxis, Grid, Circle, HoverTool, BoxSelectTool\n",
    "from bokeh.models.widgets import DataTable, TableColumn, StringFormatter, NumberFormatter, StringEditor, IntEditor, NumberEditor, SelectEditor\n",
    "from bokeh.embed import file_html\n",
    "from bokeh.resources import INLINE\n",
    "from bokeh.util.browser import view\n",
    "from bokeh.sampledata.autompg2 import autompg2 as mpg\n",
    "\n",
    "source = ColumnDataSource(mpg)\n",
    "\n",
    "manufacturers = sorted(mpg[\"manufacturer\"].unique())\n",
    "models = sorted(mpg[\"model\"].unique())\n",
    "transmissions = sorted(mpg[\"trans\"].unique())\n",
    "drives = sorted(mpg[\"drv\"].unique())\n",
    "classes = sorted(mpg[\"class\"].unique())\n",
    "\n",
    "columns = [\n",
    "    TableColumn(field=\"manufacturer\", title=\"Manufacturer\", editor=SelectEditor(options=manufacturers), formatter=StringFormatter(font_style=\"bold\")),\n",
    "    TableColumn(field=\"model\",        title=\"Model\",        editor=StringEditor(completions=models)),\n",
    "    TableColumn(field=\"displ\",        title=\"Displacement\", editor=NumberEditor(step=0.1),              formatter=NumberFormatter(format=\"0.0\")),\n",
    "    TableColumn(field=\"year\",         title=\"Year\",         editor=IntEditor()),\n",
    "    TableColumn(field=\"cyl\",          title=\"Cylinders\",    editor=IntEditor()),\n",
    "    TableColumn(field=\"trans\",        title=\"Transmission\", editor=SelectEditor(options=transmissions)),\n",
    "    TableColumn(field=\"drv\",          title=\"Drive\",        editor=SelectEditor(options=drives)),\n",
    "    TableColumn(field=\"class\",        title=\"Class\",        editor=SelectEditor(options=classes)),\n",
    "    TableColumn(field=\"cty\",          title=\"City MPG\",     editor=IntEditor()),\n",
    "    TableColumn(field=\"hwy\",          title=\"Highway MPG\",  editor=IntEditor()),\n",
    "]\n",
    "data_table = DataTable(source=source, columns=columns, editable=True)\n",
    "\n",
    "plot = Plot(title=None, x_range= DataRange1d(), y_range=DataRange1d(), plot_width=1000, plot_height=300)\n",
    "\n",
    "# Set up x & y axis\n",
    "plot.add_layout(LinearAxis(), 'below')\n",
    "yaxis = LinearAxis()\n",
    "plot.add_layout(yaxis, 'left')\n",
    "plot.add_layout(Grid(dimension=1, ticker=yaxis.ticker))\n",
    "\n",
    "# Add Glyphs\n",
    "cty_glyph = Circle(x=\"index\", y=\"cty\", fill_color=\"#396285\", size=8, fill_alpha=0.5, line_alpha=0.5)\n",
    "hwy_glyph = Circle(x=\"index\", y=\"hwy\", fill_color=\"#CE603D\", size=8, fill_alpha=0.5, line_alpha=0.5)\n",
    "cty = plot.add_glyph(source, cty_glyph)\n",
    "hwy = plot.add_glyph(source, hwy_glyph)\n",
    "\n",
    "# Add the tools\n",
    "tooltips = [\n",
    "    (\"Manufacturer\", \"@manufacturer\"),\n",
    "    (\"Model\", \"@model\"),\n",
    "    (\"Displacement\", \"@displ\"),\n",
    "    (\"Year\", \"@year\"),\n",
    "    (\"Cylinders\", \"@cyl\"),\n",
    "    (\"Transmission\", \"@trans\"),\n",
    "    (\"Drive\", \"@drv\"),\n",
    "    (\"Class\", \"@class\"),\n",
    "]\n",
    "cty_hover_tool = HoverTool(renderers=[cty], tooltips=tooltips + [(\"City MPG\", \"@cty\")])\n",
    "hwy_hover_tool = HoverTool(renderers=[hwy], tooltips=tooltips + [(\"Highway MPG\", \"@hwy\")])\n",
    "select_tool = BoxSelectTool(renderers=[cty, hwy], dimensions=['width'])\n",
    "plot.add_tools(cty_hover_tool, hwy_hover_tool, select_tool)\n",
    "\n",
    "layout = vplot(plot, data_table)\n",
    "\n",
    "if __name__ == \"__main__\":\n",
    "    filename = \"data_tables.html\"\n",
    "    with open(filename, \"w\") as f:\n",
    "        f.write(file_html(layout, INLINE, \"Data Tables\"))\n",
    "    print(\"Wrote %s\" % filename)\n",
    "    view(filename)\n"
   ]
  },
  {
   "cell_type": "code",
   "execution_count": 12,
   "metadata": {
    "collapsed": false
   },
   "outputs": [
    {
     "name": "stdout",
     "output_type": "stream",
     "text": [
      "Wrote gears.html\n"
     ]
    }
   ],
   "source": [
    "from __future__ import print_function\n",
    "\n",
    "from math import pi\n",
    "\n",
    "from bokeh.document import Document\n",
    "from bokeh.embed import file_html\n",
    "from bokeh.resources import INLINE\n",
    "from bokeh.util.browser import view\n",
    "\n",
    "from bokeh.models import Range1d, Plot, PanTool, WheelZoomTool, BoxZoomTool, UndoTool, RedoTool, ResetTool\n",
    "from bokeh.models.glyphs import Gear\n",
    "\n",
    "def pitch_radius(module, teeth):\n",
    "    return float(module*teeth)/2\n",
    "\n",
    "def half_tooth(teeth):\n",
    "    return pi/teeth\n",
    "\n",
    "line_color = '#606060'\n",
    "fill_color = ['#ddd0dd', '#d0d0e8', '#ddddd0']\n",
    "\n",
    "def sample_gear():\n",
    "    xdr = Range1d(start=-30, end=30)\n",
    "    ydr = Range1d(start=-30, end=30)\n",
    "\n",
    "    plot = Plot(title=None, x_range=xdr, y_range=ydr, plot_width=800, plot_height=800)\n",
    "    plot.add_tools(PanTool(), WheelZoomTool(), BoxZoomTool(), UndoTool(), RedoTool(), ResetTool())\n",
    "\n",
    "    glyph = Gear(x=0, y=0, module=5, teeth=8, angle=0, shaft_size=0.2, fill_color=fill_color[2], line_color=line_color)\n",
    "    plot.add_glyph(glyph)\n",
    "\n",
    "    return plot\n",
    "\n",
    "def classical_gear(module, large_teeth, small_teeth):\n",
    "    xdr = Range1d(start=-300, end=150)\n",
    "    ydr = Range1d(start=-100, end=100)\n",
    "\n",
    "    plot = Plot(\n",
    "        title=None,\n",
    "        x_range=xdr, y_range=ydr,\n",
    "        plot_width=800, plot_height=800\n",
    "    )\n",
    "    plot.add_tools(PanTool(), WheelZoomTool(), BoxZoomTool(), UndoTool(), RedoTool(), ResetTool())\n",
    "\n",
    "    radius = pitch_radius(module, large_teeth)\n",
    "    angle = 0\n",
    "    glyph = Gear(\n",
    "        x=-radius, y=0,\n",
    "        module=module, teeth=large_teeth, angle=angle,\n",
    "        fill_color=fill_color[0], line_color=line_color\n",
    "    )\n",
    "    plot.add_glyph(glyph)\n",
    "\n",
    "    radius = pitch_radius(module, small_teeth)\n",
    "    angle = half_tooth(small_teeth)\n",
    "    glyph = Gear(\n",
    "        x=radius, y=0,\n",
    "        module=module, teeth=small_teeth, angle=angle,\n",
    "        fill_color=fill_color[1], line_color=line_color\n",
    "    )\n",
    "    plot.add_glyph(glyph)\n",
    "\n",
    "    return plot\n",
    "\n",
    "def epicyclic_gear(module, sun_teeth, planet_teeth):\n",
    "    xdr = Range1d(start=-150, end=150)\n",
    "    ydr = Range1d(start=-150, end=150)\n",
    "\n",
    "    plot = Plot(\n",
    "        title=None,\n",
    "        x_range=xdr, y_range=ydr,\n",
    "        plot_width=800, plot_height=800\n",
    "    )\n",
    "    plot.add_tools(PanTool(), WheelZoomTool(), BoxZoomTool(), UndoTool(), RedoTool(), ResetTool())\n",
    "\n",
    "    annulus_teeth = sun_teeth + 2*planet_teeth\n",
    "\n",
    "    glyph = Gear(\n",
    "        x=0, y=0,\n",
    "        module=module, teeth=annulus_teeth, angle=0,\n",
    "        fill_color=fill_color[0], line_color=line_color, internal=True\n",
    "    )\n",
    "    plot.add_glyph(glyph)\n",
    "\n",
    "    glyph = Gear(\n",
    "        x=0, y=0,\n",
    "        module=module, teeth=sun_teeth, angle=0,\n",
    "        fill_color=fill_color[2], line_color=line_color\n",
    "    )\n",
    "    plot.add_glyph(glyph)\n",
    "\n",
    "    sun_radius = pitch_radius(module, sun_teeth)\n",
    "    planet_radius = pitch_radius(module, planet_teeth)\n",
    "\n",
    "    radius = sun_radius + planet_radius\n",
    "    angle = half_tooth(planet_teeth)\n",
    "\n",
    "    for i, j in [(+1, 0), (0, +1), (-1, 0), (0, -1)]:\n",
    "        glyph = Gear(\n",
    "            x=radius*i, y=radius*j,\n",
    "            module=module, teeth=planet_teeth, angle=angle,\n",
    "            fill_color=fill_color[1], line_color=line_color\n",
    "        )\n",
    "        plot.add_glyph(glyph)\n",
    "\n",
    "    return plot\n",
    "\n",
    "doc = Document()\n",
    "doc.add_root(sample_gear())\n",
    "\n",
    "classical = classical_gear(5, 52, 24)\n",
    "epicyclic = epicyclic_gear(5, 24, 12)\n",
    "\n",
    "doc.add_root(classical)\n",
    "doc.add_root(epicyclic)\n",
    "\n",
    "if __name__ == \"__main__\":\n",
    "    filename = \"gears.html\"\n",
    "    with open(filename, \"w\") as f:\n",
    "        f.write(file_html(doc, INLINE, \"Gears\"))\n",
    "    print(\"Wrote %s\" % filename)\n",
    "    view(filename)\n"
   ]
  },
  {
   "cell_type": "code",
   "execution_count": 13,
   "metadata": {
    "collapsed": false
   },
   "outputs": [
    {
     "name": "stdout",
     "output_type": "stream",
     "text": [
      "Wrote line.html\n"
     ]
    }
   ],
   "source": [
    "from __future__ import print_function\n",
    "\n",
    "from numpy import pi, sin, cos\n",
    "import numpy as np\n",
    "\n",
    "from bokeh.util.browser import view\n",
    "from bokeh.document import Document\n",
    "from bokeh.embed import file_html\n",
    "from bokeh.models.glyphs import Line\n",
    "from bokeh.models import (\n",
    "    Plot, DataRange1d, LinearAxis, ColumnDataSource,\n",
    "    PanTool, WheelZoomTool, PreviewSaveTool\n",
    ")\n",
    "from bokeh.resources import INLINE\n",
    "\n",
    "x = np.linspace(-2*pi, 2*pi, 1000)\n",
    "y = sin(x)\n",
    "z = cos(x)\n",
    "\n",
    "source = ColumnDataSource(data=dict(x=x, y=y))\n",
    "\n",
    "xdr = DataRange1d()\n",
    "ydr = DataRange1d()\n",
    "\n",
    "plot = Plot(x_range=xdr, y_range=ydr, min_border=50)\n",
    "\n",
    "line_glyph = Line(x=\"x\", y=\"y\", line_color=\"blue\")\n",
    "plot.add_glyph(source, line_glyph)\n",
    "\n",
    "plot.add_layout(LinearAxis(), 'below')\n",
    "plot.add_layout(LinearAxis(), 'left')\n",
    "\n",
    "pan = PanTool()\n",
    "wheel_zoom = WheelZoomTool()\n",
    "preview_save = PreviewSaveTool()\n",
    "\n",
    "plot.add_tools(pan, wheel_zoom, preview_save)\n",
    "\n",
    "doc = Document()\n",
    "doc.add_root(plot)\n",
    "\n",
    "if __name__ == \"__main__\":\n",
    "    filename = \"line.html\"\n",
    "    with open(filename, \"w\") as f:\n",
    "        f.write(file_html(doc, INLINE, \"Line Glyph Example\"))\n",
    "    print(\"Wrote %s\" % filename)\n",
    "    view(filename)\n"
   ]
  },
  {
   "cell_type": "code",
   "execution_count": null,
   "metadata": {
    "collapsed": true
   },
   "outputs": [],
   "source": []
  },
  {
   "cell_type": "code",
   "execution_count": null,
   "metadata": {
    "collapsed": true
   },
   "outputs": [],
   "source": []
  },
  {
   "cell_type": "code",
   "execution_count": 44,
   "metadata": {
    "collapsed": true
   },
   "outputs": [],
   "source": [
    "allele_effects = pd.read_hdf('allele_effects.hdf')"
   ]
  },
  {
   "cell_type": "code",
   "execution_count": 14,
   "metadata": {
    "collapsed": false
   },
   "outputs": [],
   "source": [
    "loci = [str(locus) for locus in allele_effects.locus]"
   ]
  },
  {
   "cell_type": "code",
   "execution_count": 45,
   "metadata": {
    "collapsed": false
   },
   "outputs": [],
   "source": [
    "allele_effects.index = list(allele_effects.index)"
   ]
  },
  {
   "cell_type": "code",
   "execution_count": 46,
   "metadata": {
    "collapsed": false
   },
   "outputs": [
    {
     "data": {
      "text/html": [
       "<div>\n",
       "<table border=\"1\" class=\"dataframe\">\n",
       "  <thead>\n",
       "    <tr style=\"text-align: right;\">\n",
       "      <th></th>\n",
       "      <th>locus</th>\n",
       "      <th>alpha_allele</th>\n",
       "      <th>alpha_effect</th>\n",
       "      <th>beta_allele</th>\n",
       "      <th>beta_effect</th>\n",
       "      <th>difference</th>\n",
       "    </tr>\n",
       "  </thead>\n",
       "  <tbody>\n",
       "    <tr>\n",
       "      <th>25</th>\n",
       "      <td>25</td>\n",
       "      <td>2</td>\n",
       "      <td>3.184295</td>\n",
       "      <td>1</td>\n",
       "      <td>1.393701</td>\n",
       "      <td>1.790594</td>\n",
       "    </tr>\n",
       "    <tr>\n",
       "      <th>67</th>\n",
       "      <td>67</td>\n",
       "      <td>3</td>\n",
       "      <td>1.307806</td>\n",
       "      <td>1</td>\n",
       "      <td>5.367228</td>\n",
       "      <td>4.059422</td>\n",
       "    </tr>\n",
       "    <tr>\n",
       "      <th>251</th>\n",
       "      <td>251</td>\n",
       "      <td>3</td>\n",
       "      <td>0.697650</td>\n",
       "      <td>1</td>\n",
       "      <td>8.035748</td>\n",
       "      <td>7.338098</td>\n",
       "    </tr>\n",
       "    <tr>\n",
       "      <th>347</th>\n",
       "      <td>347</td>\n",
       "      <td>2</td>\n",
       "      <td>0.630518</td>\n",
       "      <td>0</td>\n",
       "      <td>2.519243</td>\n",
       "      <td>1.888724</td>\n",
       "    </tr>\n",
       "    <tr>\n",
       "      <th>353</th>\n",
       "      <td>353</td>\n",
       "      <td>3</td>\n",
       "      <td>4.030080</td>\n",
       "      <td>1</td>\n",
       "      <td>4.386458</td>\n",
       "      <td>0.356378</td>\n",
       "    </tr>\n",
       "    <tr>\n",
       "      <th>410</th>\n",
       "      <td>410</td>\n",
       "      <td>2</td>\n",
       "      <td>2.489311</td>\n",
       "      <td>0</td>\n",
       "      <td>2.556493</td>\n",
       "      <td>0.067182</td>\n",
       "    </tr>\n",
       "    <tr>\n",
       "      <th>416</th>\n",
       "      <td>416</td>\n",
       "      <td>1</td>\n",
       "      <td>2.098852</td>\n",
       "      <td>2</td>\n",
       "      <td>4.887871</td>\n",
       "      <td>2.789018</td>\n",
       "    </tr>\n",
       "    <tr>\n",
       "      <th>536</th>\n",
       "      <td>536</td>\n",
       "      <td>2</td>\n",
       "      <td>3.567773</td>\n",
       "      <td>1</td>\n",
       "      <td>2.059299</td>\n",
       "      <td>1.508474</td>\n",
       "    </tr>\n",
       "    <tr>\n",
       "      <th>590</th>\n",
       "      <td>590</td>\n",
       "      <td>3</td>\n",
       "      <td>5.546121</td>\n",
       "      <td>1</td>\n",
       "      <td>3.036817</td>\n",
       "      <td>2.509303</td>\n",
       "    </tr>\n",
       "    <tr>\n",
       "      <th>729</th>\n",
       "      <td>729</td>\n",
       "      <td>1</td>\n",
       "      <td>1.362000</td>\n",
       "      <td>3</td>\n",
       "      <td>0.936974</td>\n",
       "      <td>0.425026</td>\n",
       "    </tr>\n",
       "  </tbody>\n",
       "</table>\n",
       "</div>"
      ],
      "text/plain": [
       "     locus  alpha_allele  alpha_effect  beta_allele  beta_effect  difference\n",
       "25      25             2      3.184295            1     1.393701    1.790594\n",
       "67      67             3      1.307806            1     5.367228    4.059422\n",
       "251    251             3      0.697650            1     8.035748    7.338098\n",
       "347    347             2      0.630518            0     2.519243    1.888724\n",
       "353    353             3      4.030080            1     4.386458    0.356378\n",
       "410    410             2      2.489311            0     2.556493    0.067182\n",
       "416    416             1      2.098852            2     4.887871    2.789018\n",
       "536    536             2      3.567773            1     2.059299    1.508474\n",
       "590    590             3      5.546121            1     3.036817    2.509303\n",
       "729    729             1      1.362000            3     0.936974    0.425026"
      ]
     },
     "execution_count": 46,
     "metadata": {},
     "output_type": "execute_result"
    }
   ],
   "source": [
    "allele_effects"
   ]
  },
  {
   "cell_type": "code",
   "execution_count": 47,
   "metadata": {
    "collapsed": false
   },
   "outputs": [],
   "source": [
    "allele_effects.locus = allele_effects.locus.astype(str)"
   ]
  },
  {
   "cell_type": "code",
   "execution_count": 16,
   "metadata": {
    "collapsed": false
   },
   "outputs": [],
   "source": [
    "allele_effects.drop('locus', axis=1, inplace=True)"
   ]
  },
  {
   "cell_type": "code",
   "execution_count": 19,
   "metadata": {
    "collapsed": false
   },
   "outputs": [],
   "source": [
    "allele_effects.index = list(allele_effects.index)"
   ]
  },
  {
   "cell_type": "code",
   "execution_count": 26,
   "metadata": {
    "collapsed": false
   },
   "outputs": [
    {
     "data": {
      "text/plain": [
       "Index(['alpha_allele', 'alpha_effect', 'beta_allele', 'beta_effect',\n",
       "       'difference'],\n",
       "      dtype='object')"
      ]
     },
     "execution_count": 26,
     "metadata": {},
     "output_type": "execute_result"
    }
   ],
   "source": [
    "allele_effects.columns"
   ]
  },
  {
   "cell_type": "code",
   "execution_count": 49,
   "metadata": {
    "collapsed": false
   },
   "outputs": [
    {
     "data": {
      "text/html": [
       "\n",
       "    <div class=\"bk-banner\">\n",
       "        <a href=\"http://bokeh.pydata.org\" target=\"_blank\" class=\"bk-logo bk-logo-small bk-logo-notebook\"></a>\n",
       "        <span id=\"ecc35d62-d484-452b-a6bb-e3cf2cf22d5f\">Loading BokehJS ...</span>\n",
       "    </div>"
      ]
     },
     "metadata": {},
     "output_type": "display_data"
    },
    {
     "data": {
      "application/javascript": [
       "\n",
       "(function(global) {\n",
       "  function now() {\n",
       "    return new Date();\n",
       "  }\n",
       "\n",
       "  if (typeof (window._bokeh_onload_callbacks) === \"undefined\") {\n",
       "    window._bokeh_onload_callbacks = [];\n",
       "  }\n",
       "\n",
       "  function run_callbacks() {\n",
       "    window._bokeh_onload_callbacks.forEach(function(callback) { callback() });\n",
       "    delete window._bokeh_onload_callbacks\n",
       "    console.info(\"Bokeh: all callbacks have finished\");\n",
       "  }\n",
       "\n",
       "  function load_libs(js_urls, callback) {\n",
       "    window._bokeh_onload_callbacks.push(callback);\n",
       "    if (window._bokeh_is_loading > 0) {\n",
       "      console.log(\"Bokeh: BokehJS is being loaded, scheduling callback at\", now());\n",
       "      return null;\n",
       "    }\n",
       "    if (js_urls == null || js_urls.length === 0) {\n",
       "      run_callbacks();\n",
       "      return null;\n",
       "    }\n",
       "    console.log(\"Bokeh: BokehJS not loaded, scheduling load and callback at\", now());\n",
       "    window._bokeh_is_loading = js_urls.length;\n",
       "    for (var i = 0; i < js_urls.length; i++) {\n",
       "      var url = js_urls[i];\n",
       "      var s = document.createElement('script');\n",
       "      s.src = url;\n",
       "      s.async = false;\n",
       "      s.onreadystatechange = s.onload = function() {\n",
       "        window._bokeh_is_loading--;\n",
       "        if (window._bokeh_is_loading === 0) {\n",
       "          console.log(\"Bokeh: all BokehJS libraries loaded\");\n",
       "          run_callbacks()\n",
       "        }\n",
       "      };\n",
       "      s.onerror = function() {\n",
       "        console.warn(\"failed to load library \" + url);\n",
       "      };\n",
       "      console.log(\"Bokeh: injecting script tag for BokehJS library: \", url);\n",
       "      document.getElementsByTagName(\"head\")[0].appendChild(s);\n",
       "    }\n",
       "  };\n",
       "\n",
       "  var js_urls = ['https://cdn.pydata.org/bokeh/release/bokeh-0.11.1.min.js', 'https://cdn.pydata.org/bokeh/release/bokeh-widgets-0.11.1.min.js', 'https://cdn.pydata.org/bokeh/release/bokeh-compiler-0.11.1.min.js'];\n",
       "\n",
       "  var inline_js = [\n",
       "    function(Bokeh) {\n",
       "      Bokeh.set_log_level(\"info\");\n",
       "    },\n",
       "    \n",
       "    function(Bokeh) {\n",
       "      Bokeh.$(\"#ecc35d62-d484-452b-a6bb-e3cf2cf22d5f\").text(\"BokehJS successfully loaded\");\n",
       "    },\n",
       "    function(Bokeh) {\n",
       "      console.log(\"Bokeh: injecting CSS: https://cdn.pydata.org/bokeh/release/bokeh-0.11.1.min.css\");\n",
       "      Bokeh.embed.inject_css(\"https://cdn.pydata.org/bokeh/release/bokeh-0.11.1.min.css\");\n",
       "      console.log(\"Bokeh: injecting CSS: https://cdn.pydata.org/bokeh/release/bokeh-widgets-0.11.1.min.css\");\n",
       "      Bokeh.embed.inject_css(\"https://cdn.pydata.org/bokeh/release/bokeh-widgets-0.11.1.min.css\");\n",
       "    }\n",
       "  ];\n",
       "\n",
       "  function run_inline_js() {\n",
       "    for (var i = 0; i < inline_js.length; i++) {\n",
       "      inline_js[i](window.Bokeh);\n",
       "    }\n",
       "  }\n",
       "\n",
       "  if (window._bokeh_is_loading === 0) {\n",
       "    console.log(\"Bokeh: BokehJS loaded, going straight to plotting\");\n",
       "    run_inline_js();\n",
       "  } else {\n",
       "    load_libs(js_urls, function() {\n",
       "      console.log(\"Bokeh: BokehJS plotting callback run at\", now());\n",
       "      run_inline_js();\n",
       "    });\n",
       "  }\n",
       "}(this));"
      ]
     },
     "metadata": {},
     "output_type": "display_data"
    }
   ],
   "source": [
    "output_notebook()"
   ]
  },
  {
   "cell_type": "code",
   "execution_count": 51,
   "metadata": {
    "collapsed": false
   },
   "outputs": [
    {
     "data": {
      "text/html": [
       "\n",
       "\n",
       "    <div class=\"plotdiv\" id=\"1ac5c0cd-6ce5-436c-b0d6-23d9614d0c61\"></div>\n",
       "<script type=\"text/javascript\">\n",
       "  \n",
       "  (function(global) {\n",
       "    function now() {\n",
       "      return new Date();\n",
       "    }\n",
       "  \n",
       "    if (typeof (window._bokeh_onload_callbacks) === \"undefined\") {\n",
       "      window._bokeh_onload_callbacks = [];\n",
       "    }\n",
       "  \n",
       "    function run_callbacks() {\n",
       "      window._bokeh_onload_callbacks.forEach(function(callback) { callback() });\n",
       "      delete window._bokeh_onload_callbacks\n",
       "      console.info(\"Bokeh: all callbacks have finished\");\n",
       "    }\n",
       "  \n",
       "    function load_libs(js_urls, callback) {\n",
       "      window._bokeh_onload_callbacks.push(callback);\n",
       "      if (window._bokeh_is_loading > 0) {\n",
       "        console.log(\"Bokeh: BokehJS is being loaded, scheduling callback at\", now());\n",
       "        return null;\n",
       "      }\n",
       "      if (js_urls == null || js_urls.length === 0) {\n",
       "        run_callbacks();\n",
       "        return null;\n",
       "      }\n",
       "      console.log(\"Bokeh: BokehJS not loaded, scheduling load and callback at\", now());\n",
       "      window._bokeh_is_loading = js_urls.length;\n",
       "      for (var i = 0; i < js_urls.length; i++) {\n",
       "        var url = js_urls[i];\n",
       "        var s = document.createElement('script');\n",
       "        s.src = url;\n",
       "        s.async = false;\n",
       "        s.onreadystatechange = s.onload = function() {\n",
       "          window._bokeh_is_loading--;\n",
       "          if (window._bokeh_is_loading === 0) {\n",
       "            console.log(\"Bokeh: all BokehJS libraries loaded\");\n",
       "            run_callbacks()\n",
       "          }\n",
       "        };\n",
       "        s.onerror = function() {\n",
       "          console.warn(\"failed to load library \" + url);\n",
       "        };\n",
       "        console.log(\"Bokeh: injecting script tag for BokehJS library: \", url);\n",
       "        document.getElementsByTagName(\"head\")[0].appendChild(s);\n",
       "      }\n",
       "    };var element = document.getElementById(\"1ac5c0cd-6ce5-436c-b0d6-23d9614d0c61\");\n",
       "    if (element == null) {\n",
       "      console.log(\"Bokeh: ERROR: autoload.js configured with elementid '1ac5c0cd-6ce5-436c-b0d6-23d9614d0c61' but no matching script tag was found. \")\n",
       "      return false;\n",
       "    }\n",
       "  \n",
       "    var js_urls = [];\n",
       "  \n",
       "    var inline_js = [\n",
       "      function(Bokeh) {\n",
       "        Bokeh.$(function() {\n",
       "            var docs_json = {\"9ed1eb3c-f833-4a69-a5a0-48a52ac0c458\":{\"roots\":{\"references\":[{\"attributes\":{\"plot\":{\"id\":\"d7fc0b54-2ccb-4c72-aa8b-3df87826b7dd\",\"subtype\":\"Chart\",\"type\":\"Plot\"},\"ticker\":{\"id\":\"e552017a-7ced-4824-a475-25ab9ccd697d\",\"type\":\"BasicTicker\"}},\"id\":\"e53d09f4-c873-4959-8b50-5543b9f0f312\",\"type\":\"Grid\"},{\"attributes\":{\"dimension\":1,\"plot\":{\"id\":\"14dc5235-3f84-4eb2-bdd9-1dd4340285d8\",\"subtype\":\"Chart\",\"type\":\"Plot\"},\"ticker\":{\"id\":\"d206ba4c-99fc-40e8-8ec8-8e1ef521ea6e\",\"type\":\"CategoricalTicker\"}},\"id\":\"fc731635-5cb7-45fb-869d-ebd4faecc0e8\",\"type\":\"Grid\"},{\"attributes\":{},\"id\":\"74e03f32-4b42-42be-8af4-c47822d5f37b\",\"type\":\"BasicTicker\"},{\"attributes\":{\"below\":[{\"id\":\"ac0faa03-8850-4eba-b7e5-d8634b5ba8e9\",\"type\":\"LinearAxis\"}],\"left\":[{\"id\":\"36497ff7-0f64-4a74-84c9-8d8dd378c15d\",\"type\":\"CategoricalAxis\"}],\"legend\":null,\"renderers\":[{\"id\":\"709c2563-236d-4d74-b2ba-691d1247ad61\",\"type\":\"BoxAnnotation\"},{\"id\":\"994515fa-852b-47aa-9928-c57c38a7ee97\",\"type\":\"GlyphRenderer\"},{\"id\":\"ac0faa03-8850-4eba-b7e5-d8634b5ba8e9\",\"type\":\"LinearAxis\"},{\"id\":\"36497ff7-0f64-4a74-84c9-8d8dd378c15d\",\"type\":\"CategoricalAxis\"},{\"id\":\"e53d09f4-c873-4959-8b50-5543b9f0f312\",\"type\":\"Grid\"},{\"id\":\"f6678c28-44a5-486b-9219-8f52acb2959c\",\"type\":\"Grid\"}],\"title\":\"Allele Effect Differences\",\"title_text_font_size\":{\"value\":\"14pt\"},\"tool_events\":{\"id\":\"c0fd5d0d-a818-45d0-a92c-4b4e9b33c60d\",\"type\":\"ToolEvents\"},\"tools\":[{\"id\":\"7c106950-2281-464c-9c6e-2187e0844296\",\"type\":\"PanTool\"},{\"id\":\"9d66d496-1e3e-4291-a767-3c2a762d97d7\",\"type\":\"WheelZoomTool\"},{\"id\":\"cc91681c-f7ed-4d54-9f9e-2c1fe9c48f18\",\"type\":\"BoxZoomTool\"},{\"id\":\"1998b474-4077-4d02-8dc3-b7b8a04f5739\",\"type\":\"PreviewSaveTool\"},{\"id\":\"2571fa20-27aa-418e-b8c3-a65af545b41e\",\"type\":\"ResizeTool\"},{\"id\":\"15b0308b-44aa-46b2-8b75-f336e107d09b\",\"type\":\"ResetTool\"},{\"id\":\"46e96498-03e6-4af3-a089-822a6fd364b0\",\"type\":\"HelpTool\"}],\"x_mapper_type\":\"auto\",\"x_range\":{\"id\":\"8316fc48-fcf8-49a8-89c3-f04f80fd587a\",\"type\":\"Range1d\"},\"xscale\":\"auto\",\"y_mapper_type\":\"auto\",\"y_range\":{\"id\":\"d6ef64d1-6e2f-4ec4-aab3-211251880899\",\"type\":\"FactorRange\"},\"yscale\":\"auto\"},\"id\":\"d7fc0b54-2ccb-4c72-aa8b-3df87826b7dd\",\"subtype\":\"Chart\",\"type\":\"Plot\"},{\"attributes\":{\"plot\":{\"id\":\"d7fc0b54-2ccb-4c72-aa8b-3df87826b7dd\",\"subtype\":\"Chart\",\"type\":\"Plot\"}},\"id\":\"15b0308b-44aa-46b2-8b75-f336e107d09b\",\"type\":\"ResetTool\"},{\"attributes\":{\"plot\":{\"id\":\"dc4674bc-dcd2-408f-8c1f-9f257ad66120\",\"subtype\":\"Chart\",\"type\":\"Plot\"}},\"id\":\"ede9363f-f13d-4358-82b3-a4dcbce392fe\",\"type\":\"ResizeTool\"},{\"attributes\":{\"plot\":{\"id\":\"d7fc0b54-2ccb-4c72-aa8b-3df87826b7dd\",\"subtype\":\"Chart\",\"type\":\"Plot\"}},\"id\":\"46e96498-03e6-4af3-a089-822a6fd364b0\",\"type\":\"HelpTool\"},{\"attributes\":{\"axis_label\":\"Locus\",\"formatter\":{\"id\":\"1dd2732a-c073-45ae-bca6-8ae3755cb1d5\",\"type\":\"BasicTickFormatter\"},\"plot\":{\"id\":\"654c8f79-be5a-4fd6-916d-c7c31a693b3e\",\"subtype\":\"Chart\",\"type\":\"Plot\"},\"ticker\":{\"id\":\"e3429281-a10b-4bbb-b08b-51f712b97132\",\"type\":\"BasicTicker\"}},\"id\":\"22a27d18-27fe-4daa-b0dc-86f16629bf73\",\"type\":\"LinearAxis\"},{\"attributes\":{},\"id\":\"67792db3-b7fb-48f8-adf9-d3522658a5ae\",\"type\":\"BasicTicker\"},{\"attributes\":{\"axis_label\":\"Locus\",\"formatter\":{\"id\":\"2102e4df-82b5-4c9f-9558-797e52591a37\",\"type\":\"CategoricalTickFormatter\"},\"major_label_orientation\":0.7853981633974483,\"plot\":{\"id\":\"14dc5235-3f84-4eb2-bdd9-1dd4340285d8\",\"subtype\":\"Chart\",\"type\":\"Plot\"},\"ticker\":{\"id\":\"d206ba4c-99fc-40e8-8ec8-8e1ef521ea6e\",\"type\":\"CategoricalTicker\"}},\"id\":\"f6e9260d-9fc3-4848-812f-f15d11f37507\",\"type\":\"CategoricalAxis\"},{\"attributes\":{},\"id\":\"a6a5cba3-e1e6-4977-8e12-a88586724974\",\"type\":\"BasicTicker\"},{\"attributes\":{\"plot\":{\"id\":\"e6ac3b57-4231-4a6a-a516-e5706d65c5e6\",\"subtype\":\"Chart\",\"type\":\"Plot\"}},\"id\":\"a7448650-407c-4dd4-b18c-bbba7efe5cb9\",\"type\":\"ResizeTool\"},{\"attributes\":{\"plot\":{\"id\":\"28ace379-0340-48c4-80c1-c82f71499804\",\"subtype\":\"Chart\",\"type\":\"Plot\"}},\"id\":\"2ce78315-cbc5-4554-a49a-dd398502407e\",\"type\":\"PanTool\"},{\"attributes\":{\"plot\":{\"id\":\"d070a192-96e9-42b9-b6d9-a98adc888972\",\"subtype\":\"Chart\",\"type\":\"Plot\"}},\"id\":\"57d625d6-bd17-4992-8b39-e4cd984ebf82\",\"type\":\"PreviewSaveTool\"},{\"attributes\":{\"bottom_units\":\"screen\",\"fill_alpha\":{\"value\":0.5},\"fill_color\":{\"value\":\"lightgrey\"},\"left_units\":\"screen\",\"level\":\"overlay\",\"line_alpha\":{\"value\":1.0},\"line_color\":{\"value\":\"black\"},\"line_dash\":[4,4],\"line_width\":{\"value\":2},\"plot\":null,\"render_mode\":\"css\",\"right_units\":\"screen\",\"top_units\":\"screen\"},\"id\":\"e49b3657-80d5-4d36-9f6c-befddd6b06ea\",\"type\":\"BoxAnnotation\"},{\"attributes\":{\"dimension\":1,\"plot\":{\"id\":\"4b9b9aeb-f746-47a2-8c22-e7b1dcfb021b\",\"subtype\":\"Chart\",\"type\":\"Plot\"},\"ticker\":{\"id\":\"cec0c45c-b317-4765-9d34-0ba167e9643b\",\"type\":\"CategoricalTicker\"}},\"id\":\"6031514c-ae7b-479c-94ab-0230116beec5\",\"type\":\"Grid\"},{\"attributes\":{\"plot\":{\"id\":\"dca55044-79ca-4da9-8c61-ae348199a301\",\"subtype\":\"Chart\",\"type\":\"Plot\"}},\"id\":\"a678e5fa-2e3f-4250-b346-62de0c3f26e3\",\"type\":\"WheelZoomTool\"},{\"attributes\":{},\"id\":\"e3429281-a10b-4bbb-b08b-51f712b97132\",\"type\":\"BasicTicker\"},{\"attributes\":{\"callback\":null,\"end\":799.4,\"start\":-45.400000000000006},\"id\":\"94affbf7-3aee-46c1-a73d-f44295ab16c8\",\"type\":\"Range1d\"},{\"attributes\":{\"plot\":{\"id\":\"14dc5235-3f84-4eb2-bdd9-1dd4340285d8\",\"subtype\":\"Chart\",\"type\":\"Plot\"}},\"id\":\"165ca4e7-8837-46da-bff2-9c64d2a3240a\",\"type\":\"HelpTool\"},{\"attributes\":{\"fill_alpha\":{\"value\":0.7},\"fill_color\":{\"value\":\"#f22c40\"},\"line_color\":{\"value\":\"#f22c40\"},\"size\":{\"units\":\"screen\",\"value\":8},\"x\":{\"field\":\"x_values\"},\"y\":{\"field\":\"y_values\"}},\"id\":\"1da23b23-6c20-4998-923d-529d89752127\",\"type\":\"Circle\"},{\"attributes\":{\"callback\":null,\"factors\":[\"None\"]},\"id\":\"f8f5d5c8-ef3e-4c60-bbf4-a5791ea084d6\",\"type\":\"FactorRange\"},{\"attributes\":{\"data_source\":{\"id\":\"0e8e54d2-eb86-45f9-84ff-935856a07ad4\",\"type\":\"ColumnDataSource\"},\"glyph\":{\"id\":\"832c91e7-17c2-49bb-9d74-b6cef87e1dfa\",\"type\":\"Circle\"},\"hover_glyph\":null,\"nonselection_glyph\":null,\"selection_glyph\":null},\"id\":\"246be461-e483-44d9-8448-04052e8cdbf4\",\"type\":\"GlyphRenderer\"},{\"attributes\":{\"plot\":{\"id\":\"d7fc0b54-2ccb-4c72-aa8b-3df87826b7dd\",\"subtype\":\"Chart\",\"type\":\"Plot\"}},\"id\":\"7c106950-2281-464c-9c6e-2187e0844296\",\"type\":\"PanTool\"},{\"attributes\":{},\"id\":\"e343da4a-4cc7-4544-9ed1-aba58fbd8ad9\",\"type\":\"BasicTickFormatter\"},{\"attributes\":{\"fill_alpha\":{\"value\":0.7},\"fill_color\":{\"value\":\"#f22c40\"},\"line_color\":{\"value\":\"#f22c40\"},\"size\":{\"units\":\"screen\",\"value\":8},\"x\":{\"field\":\"x_values\"},\"y\":{\"field\":\"y_values\"}},\"id\":\"785aad73-ee93-4a9e-a022-310d9120dead\",\"type\":\"Circle\"},{\"attributes\":{\"plot\":{\"id\":\"654c8f79-be5a-4fd6-916d-c7c31a693b3e\",\"subtype\":\"Chart\",\"type\":\"Plot\"}},\"id\":\"f5c85d45-a990-4c79-85dd-f29a3a6d5390\",\"type\":\"PanTool\"},{\"attributes\":{\"callback\":null,\"column_names\":[\"x_values\",\"y_values\"],\"data\":{\"chart_index\":[null,null,null,null,null,null,null,null,null,null],\"x_values\":[1.790593776635928,4.059422218439355,7.338097755253313,1.8887242599839098,0.3563777166599831,0.0671822119195804,2.7890181437174277,1.5084740014914755,2.509303418250477,0.42502634525807226],\"y_values\":[\"None\",\"None\",\"None\",\"None\",\"None\",\"None\",\"None\",\"None\",\"None\",\"None\"]}},\"id\":\"252685a1-cd16-4fe4-ab58-d998774b5ab2\",\"type\":\"ColumnDataSource\"},{\"attributes\":{\"dimension\":1,\"plot\":{\"id\":\"3be86840-af6f-47f9-9dc1-74ca0400cb95\",\"subtype\":\"Chart\",\"type\":\"Plot\"},\"ticker\":{\"id\":\"7fb594a9-cded-4e0e-bf99-b15d9bbf9904\",\"type\":\"BasicTicker\"}},\"id\":\"4bd9678c-242c-4242-bed0-f9877a355c63\",\"type\":\"Grid\"},{\"attributes\":{\"bottom_units\":\"screen\",\"fill_alpha\":{\"value\":0.5},\"fill_color\":{\"value\":\"lightgrey\"},\"left_units\":\"screen\",\"level\":\"overlay\",\"line_alpha\":{\"value\":1.0},\"line_color\":{\"value\":\"black\"},\"line_dash\":[4,4],\"line_width\":{\"value\":2},\"plot\":null,\"render_mode\":\"css\",\"right_units\":\"screen\",\"top_units\":\"screen\"},\"id\":\"d3e8c3fc-5698-48b1-83b5-65c27130c796\",\"type\":\"BoxAnnotation\"},{\"attributes\":{\"bottom_units\":\"screen\",\"fill_alpha\":{\"value\":0.5},\"fill_color\":{\"value\":\"lightgrey\"},\"left_units\":\"screen\",\"level\":\"overlay\",\"line_alpha\":{\"value\":1.0},\"line_color\":{\"value\":\"black\"},\"line_dash\":[4,4],\"line_width\":{\"value\":2},\"plot\":null,\"render_mode\":\"css\",\"right_units\":\"screen\",\"top_units\":\"screen\"},\"id\":\"171b3766-419b-4d8c-854f-82ae495d36de\",\"type\":\"BoxAnnotation\"},{\"attributes\":{\"callback\":null,\"factors\":[\"25\",\"67\",\"251\",\"347\",\"353\",\"410\",\"416\",\"536\",\"590\",\"729\"]},\"id\":\"d6ef64d1-6e2f-4ec4-aab3-211251880899\",\"type\":\"FactorRange\"},{\"attributes\":{},\"id\":\"73789de3-2e61-4fbc-8651-51e2bdf364f4\",\"type\":\"BasicTicker\"},{\"attributes\":{\"axis_label\":\"Locus\",\"formatter\":{\"id\":\"e343da4a-4cc7-4544-9ed1-aba58fbd8ad9\",\"type\":\"BasicTickFormatter\"},\"plot\":{\"id\":\"28ace379-0340-48c4-80c1-c82f71499804\",\"subtype\":\"Chart\",\"type\":\"Plot\"},\"ticker\":{\"id\":\"c6bd4713-5856-4f18-8035-c79e00e7d3c7\",\"type\":\"BasicTicker\"}},\"id\":\"aa6ba208-058c-4240-93fe-7b5347bb3595\",\"type\":\"LinearAxis\"},{\"attributes\":{\"plot\":{\"id\":\"e6ac3b57-4231-4a6a-a516-e5706d65c5e6\",\"subtype\":\"Chart\",\"type\":\"Plot\"}},\"id\":\"af13e533-e7a8-49f9-98b8-093cf77a72c7\",\"type\":\"WheelZoomTool\"},{\"attributes\":{\"plot\":{\"id\":\"3be86840-af6f-47f9-9dc1-74ca0400cb95\",\"subtype\":\"Chart\",\"type\":\"Plot\"}},\"id\":\"ec456cea-7661-4891-8b96-d5b21e0171b1\",\"type\":\"WheelZoomTool\"},{\"attributes\":{\"axis_label\":\"Difference\",\"formatter\":{\"id\":\"dfc8ecd5-e252-412a-979c-a504a54ed2fd\",\"type\":\"BasicTickFormatter\"},\"plot\":{\"id\":\"e6ac3b57-4231-4a6a-a516-e5706d65c5e6\",\"subtype\":\"Chart\",\"type\":\"Plot\"},\"ticker\":{\"id\":\"5ee6d966-3c1a-4ffe-a947-759a358e2261\",\"type\":\"BasicTicker\"}},\"id\":\"f1c010a9-e292-4e49-9a6e-0fba72574449\",\"type\":\"LinearAxis\"},{\"attributes\":{\"dimension\":1,\"plot\":{\"id\":\"e6ac3b57-4231-4a6a-a516-e5706d65c5e6\",\"subtype\":\"Chart\",\"type\":\"Plot\"},\"ticker\":{\"id\":\"47fa69db-1555-4eca-a649-016833ad1b3c\",\"type\":\"CategoricalTicker\"}},\"id\":\"3b4c937d-40e1-4514-9740-359bba29e99d\",\"type\":\"Grid\"},{\"attributes\":{},\"id\":\"c5041114-78be-4f32-8990-7dd3f59bf2b5\",\"type\":\"BasicTicker\"},{\"attributes\":{\"callback\":null,\"end\":8.065189309586685,\"start\":-0.6599093424137928},\"id\":\"6ba4e399-bcee-4395-87e2-5ec48cc5e10f\",\"type\":\"Range1d\"},{\"attributes\":{\"data_source\":{\"id\":\"9ba372d8-5655-4aeb-91cb-b2942507c89a\",\"type\":\"ColumnDataSource\"},\"glyph\":{\"id\":\"e1fa66d9-1f4e-4315-9dcb-92d3c191e312\",\"type\":\"Circle\"},\"hover_glyph\":null,\"nonselection_glyph\":null,\"selection_glyph\":null},\"id\":\"33e40e9a-adc3-4e02-badc-9cd694002278\",\"type\":\"GlyphRenderer\"},{\"attributes\":{},\"id\":\"f520c77c-e58a-41fd-a3a9-91eaecd08fc2\",\"type\":\"BasicTicker\"},{\"attributes\":{\"callback\":null,\"end\":799.4,\"start\":-45.400000000000006},\"id\":\"6c874631-a74f-44ba-b2bf-180028e2538b\",\"type\":\"Range1d\"},{\"attributes\":{\"fill_alpha\":{\"value\":0.7},\"fill_color\":{\"value\":\"#f22c40\"},\"line_color\":{\"value\":\"#f22c40\"},\"size\":{\"units\":\"screen\",\"value\":8},\"x\":{\"field\":\"x_values\"},\"y\":{\"field\":\"y_values\"}},\"id\":\"8a536349-21e8-49e4-9d60-60efea6bbef3\",\"type\":\"Circle\"},{\"attributes\":{\"dimension\":1,\"plot\":{\"id\":\"dca55044-79ca-4da9-8c61-ae348199a301\",\"subtype\":\"Chart\",\"type\":\"Plot\"},\"ticker\":{\"id\":\"5d896c29-b57f-47ed-8360-155a395d9d5c\",\"type\":\"CategoricalTicker\"}},\"id\":\"a5d0124a-8b19-4a04-8fc1-c974d896d04c\",\"type\":\"Grid\"},{\"attributes\":{},\"id\":\"5bbce9e0-c3c0-4af3-b9da-2ca8df3ddc71\",\"type\":\"CategoricalTickFormatter\"},{\"attributes\":{\"data_source\":{\"id\":\"7b89c135-cbb7-4527-8f4c-dae1a8161b6f\",\"type\":\"ColumnDataSource\"},\"glyph\":{\"id\":\"f1a71152-fb83-4adf-9c33-f1b0ec22838f\",\"type\":\"Circle\"},\"hover_glyph\":null,\"nonselection_glyph\":null,\"selection_glyph\":null},\"id\":\"c298d93b-01ed-41ce-a03d-8d53560e254c\",\"type\":\"GlyphRenderer\"},{\"attributes\":{\"overlay\":{\"id\":\"171b3766-419b-4d8c-854f-82ae495d36de\",\"type\":\"BoxAnnotation\"},\"plot\":{\"id\":\"4b9b9aeb-f746-47a2-8c22-e7b1dcfb021b\",\"subtype\":\"Chart\",\"type\":\"Plot\"}},\"id\":\"72c57576-300c-46fa-8f6f-de78a8af9352\",\"type\":\"BoxZoomTool\"},{\"attributes\":{\"plot\":{\"id\":\"28ace379-0340-48c4-80c1-c82f71499804\",\"subtype\":\"Chart\",\"type\":\"Plot\"}},\"id\":\"4da45cb1-07ba-49f1-85fd-a6ec60bd00ae\",\"type\":\"HelpTool\"},{\"attributes\":{\"plot\":{\"id\":\"4b9b9aeb-f746-47a2-8c22-e7b1dcfb021b\",\"subtype\":\"Chart\",\"type\":\"Plot\"}},\"id\":\"ef6e83b1-f002-4184-b7b2-7f1026a37056\",\"type\":\"WheelZoomTool\"},{\"attributes\":{\"data_source\":{\"id\":\"8db78a0d-e14d-4867-881f-5a582177046a\",\"type\":\"ColumnDataSource\"},\"glyph\":{\"id\":\"38f71cfc-7613-485e-8245-7badb6e1ee5e\",\"type\":\"Circle\"},\"hover_glyph\":null,\"nonselection_glyph\":null,\"selection_glyph\":null},\"id\":\"eb22700d-b934-4987-a7c1-15d6a2a34000\",\"type\":\"GlyphRenderer\"},{\"attributes\":{\"plot\":{\"id\":\"654c8f79-be5a-4fd6-916d-c7c31a693b3e\",\"subtype\":\"Chart\",\"type\":\"Plot\"}},\"id\":\"b25bd965-98a8-4c49-848f-aed651fe4ba0\",\"type\":\"HelpTool\"},{\"attributes\":{\"axis_label\":\"Difference\",\"formatter\":{\"id\":\"6e821dc9-3854-4635-b7f3-96da40b246d3\",\"type\":\"BasicTickFormatter\"},\"plot\":{\"id\":\"dc4674bc-dcd2-408f-8c1f-9f257ad66120\",\"subtype\":\"Chart\",\"type\":\"Plot\"},\"ticker\":{\"id\":\"a6a5cba3-e1e6-4977-8e12-a88586724974\",\"type\":\"BasicTicker\"}},\"id\":\"3a41ea18-1847-40c6-8834-ec2a690e81d0\",\"type\":\"LinearAxis\"},{\"attributes\":{\"axis_label\":\"Locus\",\"formatter\":{\"id\":\"2624ebc9-abc3-4b9f-8b4e-c1a132da2c04\",\"type\":\"BasicTickFormatter\"},\"plot\":{\"id\":\"d070a192-96e9-42b9-b6d9-a98adc888972\",\"subtype\":\"Chart\",\"type\":\"Plot\"},\"ticker\":{\"id\":\"74e03f32-4b42-42be-8af4-c47822d5f37b\",\"type\":\"BasicTicker\"}},\"id\":\"9e888f78-d1c3-4fea-bc5d-b77452baf47e\",\"type\":\"LinearAxis\"},{\"attributes\":{\"axis_label\":\"Difference\",\"formatter\":{\"id\":\"94781bb7-ee1f-42fa-90e5-baf10fa10a1b\",\"type\":\"BasicTickFormatter\"},\"plot\":{\"id\":\"654c8f79-be5a-4fd6-916d-c7c31a693b3e\",\"subtype\":\"Chart\",\"type\":\"Plot\"},\"ticker\":{\"id\":\"f520c77c-e58a-41fd-a3a9-91eaecd08fc2\",\"type\":\"BasicTicker\"}},\"id\":\"7b8d10fe-0933-4eb4-b04e-2f2cb5f3eb0c\",\"type\":\"LinearAxis\"},{\"attributes\":{\"overlay\":{\"id\":\"4f1dd46f-29e9-4141-a9c3-c3199e20257e\",\"type\":\"BoxAnnotation\"},\"plot\":{\"id\":\"14dc5235-3f84-4eb2-bdd9-1dd4340285d8\",\"subtype\":\"Chart\",\"type\":\"Plot\"}},\"id\":\"1a7a7fc5-8908-4c5d-8496-7c9304fe5af3\",\"type\":\"BoxZoomTool\"},{\"attributes\":{\"below\":[{\"id\":\"e7f2aaaa-2e2c-4239-b58b-a4543d7001a0\",\"type\":\"LinearAxis\"}],\"left\":[{\"id\":\"bf7f754d-8802-4691-8e23-2a62d0a2f7ca\",\"type\":\"LinearAxis\"}],\"legend\":null,\"renderers\":[{\"id\":\"6f35cbb5-f19d-4c51-a21b-827f7a901bed\",\"type\":\"BoxAnnotation\"},{\"id\":\"c302e027-e9aa-4e2c-881e-093f2d966d50\",\"type\":\"GlyphRenderer\"},{\"id\":\"e7f2aaaa-2e2c-4239-b58b-a4543d7001a0\",\"type\":\"LinearAxis\"},{\"id\":\"bf7f754d-8802-4691-8e23-2a62d0a2f7ca\",\"type\":\"LinearAxis\"},{\"id\":\"e43894d1-faef-4b10-a286-586a0404bfa2\",\"type\":\"Grid\"},{\"id\":\"4bd9678c-242c-4242-bed0-f9877a355c63\",\"type\":\"Grid\"}],\"title\":\"Allele Effect Differences\",\"title_text_font_size\":{\"value\":\"14pt\"},\"tool_events\":{\"id\":\"cc1870fb-51fe-4900-82e2-100b35784631\",\"type\":\"ToolEvents\"},\"tools\":[{\"id\":\"4b36b86b-9d89-4879-9171-e824f4fb3e94\",\"type\":\"PanTool\"},{\"id\":\"ec456cea-7661-4891-8b96-d5b21e0171b1\",\"type\":\"WheelZoomTool\"},{\"id\":\"5d41f1d9-3fe5-49e7-b59c-49bc272591fd\",\"type\":\"BoxZoomTool\"},{\"id\":\"df72d0d9-afb8-42f9-a51e-9b69dac24aaf\",\"type\":\"PreviewSaveTool\"},{\"id\":\"aef3383d-4018-4b70-a60c-212593de4cda\",\"type\":\"ResizeTool\"},{\"id\":\"d60b0415-bb72-42cc-8784-ed5b07e7fa04\",\"type\":\"ResetTool\"},{\"id\":\"81c3e1e2-9b05-42b0-bb54-d878830ff466\",\"type\":\"HelpTool\"}],\"x_mapper_type\":\"auto\",\"x_range\":{\"id\":\"6ba4e399-bcee-4395-87e2-5ec48cc5e10f\",\"type\":\"Range1d\"},\"xscale\":\"auto\",\"y_mapper_type\":\"auto\",\"y_range\":{\"id\":\"6c874631-a74f-44ba-b2bf-180028e2538b\",\"type\":\"Range1d\"},\"yscale\":\"auto\"},\"id\":\"3be86840-af6f-47f9-9dc1-74ca0400cb95\",\"subtype\":\"Chart\",\"type\":\"Plot\"},{\"attributes\":{\"plot\":{\"id\":\"dca55044-79ca-4da9-8c61-ae348199a301\",\"subtype\":\"Chart\",\"type\":\"Plot\"}},\"id\":\"df21b1fb-c19e-4631-b094-459cd5e7263a\",\"type\":\"ResizeTool\"},{\"attributes\":{\"callback\":null,\"end\":8.065189309586685,\"start\":-0.6599093424137928},\"id\":\"f74cdc88-459f-41fa-bb71-52071d468db8\",\"type\":\"Range1d\"},{\"attributes\":{\"axis_label\":\"Difference\",\"formatter\":{\"id\":\"56ccfdcd-bf6f-42ee-9250-356738b8b785\",\"type\":\"BasicTickFormatter\"},\"plot\":{\"id\":\"d070a192-96e9-42b9-b6d9-a98adc888972\",\"subtype\":\"Chart\",\"type\":\"Plot\"},\"ticker\":{\"id\":\"c5041114-78be-4f32-8990-7dd3f59bf2b5\",\"type\":\"BasicTicker\"}},\"id\":\"10aaee64-2c11-4ab9-8617-0a49b6059534\",\"type\":\"LinearAxis\"},{\"attributes\":{},\"id\":\"d3776e65-1455-4711-bc93-aa4eea736342\",\"type\":\"BasicTickFormatter\"},{\"attributes\":{\"plot\":{\"id\":\"3be86840-af6f-47f9-9dc1-74ca0400cb95\",\"subtype\":\"Chart\",\"type\":\"Plot\"}},\"id\":\"d60b0415-bb72-42cc-8784-ed5b07e7fa04\",\"type\":\"ResetTool\"},{\"attributes\":{\"callback\":null,\"column_names\":[\"x_values\",\"y_values\"],\"data\":{\"chart_index\":[null,null,null,null,null,null,null,null,null,null],\"x_values\":[1.790593776635928,4.059422218439355,7.338097755253313,1.8887242599839098,0.3563777166599831,0.0671822119195804,2.7890181437174277,1.5084740014914755,2.509303418250477,0.42502634525807226],\"y_values\":[\"25\",\"67\",\"251\",\"347\",\"353\",\"410\",\"416\",\"536\",\"590\",\"729\"]}},\"id\":\"236b1cd5-76d9-414b-aff0-a0adf798319a\",\"type\":\"ColumnDataSource\"},{\"attributes\":{\"plot\":{\"id\":\"3be86840-af6f-47f9-9dc1-74ca0400cb95\",\"subtype\":\"Chart\",\"type\":\"Plot\"}},\"id\":\"df72d0d9-afb8-42f9-a51e-9b69dac24aaf\",\"type\":\"PreviewSaveTool\"},{\"attributes\":{\"dimension\":1,\"plot\":{\"id\":\"d7fc0b54-2ccb-4c72-aa8b-3df87826b7dd\",\"subtype\":\"Chart\",\"type\":\"Plot\"},\"ticker\":{\"id\":\"7056a16d-98a2-43d0-94aa-b9505cf5311a\",\"type\":\"CategoricalTicker\"}},\"id\":\"f6678c28-44a5-486b-9219-8f52acb2959c\",\"type\":\"Grid\"},{\"attributes\":{\"dimension\":1,\"plot\":{\"id\":\"28ace379-0340-48c4-80c1-c82f71499804\",\"subtype\":\"Chart\",\"type\":\"Plot\"},\"ticker\":{\"id\":\"c6bd4713-5856-4f18-8035-c79e00e7d3c7\",\"type\":\"BasicTicker\"}},\"id\":\"79aa7150-8117-4a33-999d-e6ee509e2a7c\",\"type\":\"Grid\"},{\"attributes\":{\"callback\":null,\"factors\":[\"None\"]},\"id\":\"360a90e8-6c1b-43f7-967b-77627aab6d1c\",\"type\":\"FactorRange\"},{\"attributes\":{},\"id\":\"5ee6d966-3c1a-4ffe-a947-759a358e2261\",\"type\":\"BasicTicker\"},{\"attributes\":{\"axis_label\":\"Difference\",\"formatter\":{\"id\":\"6becffa3-7bb7-4f6e-a539-a91ee7973dcf\",\"type\":\"BasicTickFormatter\"},\"plot\":{\"id\":\"14dc5235-3f84-4eb2-bdd9-1dd4340285d8\",\"subtype\":\"Chart\",\"type\":\"Plot\"},\"ticker\":{\"id\":\"67792db3-b7fb-48f8-adf9-d3522658a5ae\",\"type\":\"BasicTicker\"}},\"id\":\"fcea3b4a-3f94-49f6-a95a-a4d9c5456ad1\",\"type\":\"LinearAxis\"},{\"attributes\":{},\"id\":\"6a6b322a-1197-4562-a292-ce5d5d32ca61\",\"type\":\"CategoricalTickFormatter\"},{\"attributes\":{},\"id\":\"c6426c66-be0b-4ac6-9056-f216628191ca\",\"type\":\"BasicTicker\"},{\"attributes\":{\"fill_alpha\":{\"value\":0.7},\"fill_color\":{\"value\":\"#f22c40\"},\"line_color\":{\"value\":\"#f22c40\"},\"size\":{\"units\":\"screen\",\"value\":8},\"x\":{\"field\":\"x_values\"},\"y\":{\"field\":\"y_values\"}},\"id\":\"832c91e7-17c2-49bb-9d74-b6cef87e1dfa\",\"type\":\"Circle\"},{\"attributes\":{},\"id\":\"c6bd4713-5856-4f18-8035-c79e00e7d3c7\",\"type\":\"BasicTicker\"},{\"attributes\":{\"plot\":{\"id\":\"654c8f79-be5a-4fd6-916d-c7c31a693b3e\",\"subtype\":\"Chart\",\"type\":\"Plot\"}},\"id\":\"e8a1c9f4-c109-40ce-8461-856072a2bdd1\",\"type\":\"PreviewSaveTool\"},{\"attributes\":{\"plot\":{\"id\":\"3be86840-af6f-47f9-9dc1-74ca0400cb95\",\"subtype\":\"Chart\",\"type\":\"Plot\"}},\"id\":\"81c3e1e2-9b05-42b0-bb54-d878830ff466\",\"type\":\"HelpTool\"},{\"attributes\":{\"callback\":null,\"end\":8.065189309586685,\"start\":-0.6599093424137928},\"id\":\"6367ba8a-c9b1-4ee4-90ea-6cceca0a94b3\",\"type\":\"Range1d\"},{\"attributes\":{\"overlay\":{\"id\":\"e49b3657-80d5-4d36-9f6c-befddd6b06ea\",\"type\":\"BoxAnnotation\"},\"plot\":{\"id\":\"dc4674bc-dcd2-408f-8c1f-9f257ad66120\",\"subtype\":\"Chart\",\"type\":\"Plot\"}},\"id\":\"302af935-72e0-4cac-b026-9080e1ef4fd3\",\"type\":\"BoxZoomTool\"},{\"attributes\":{\"data_source\":{\"id\":\"252685a1-cd16-4fe4-ab58-d998774b5ab2\",\"type\":\"ColumnDataSource\"},\"glyph\":{\"id\":\"2f27a707-5a5d-4b51-b986-ddf2570e9818\",\"type\":\"Circle\"},\"hover_glyph\":null,\"nonselection_glyph\":null,\"selection_glyph\":null},\"id\":\"4bedebe0-189d-42ae-be78-c05f8cea62ed\",\"type\":\"GlyphRenderer\"},{\"attributes\":{},\"id\":\"d206ba4c-99fc-40e8-8ec8-8e1ef521ea6e\",\"type\":\"CategoricalTicker\"},{\"attributes\":{\"plot\":{\"id\":\"d7fc0b54-2ccb-4c72-aa8b-3df87826b7dd\",\"subtype\":\"Chart\",\"type\":\"Plot\"}},\"id\":\"9d66d496-1e3e-4291-a767-3c2a762d97d7\",\"type\":\"WheelZoomTool\"},{\"attributes\":{\"plot\":{\"id\":\"14dc5235-3f84-4eb2-bdd9-1dd4340285d8\",\"subtype\":\"Chart\",\"type\":\"Plot\"}},\"id\":\"815afe65-bd19-4b27-993c-d19339ed878c\",\"type\":\"WheelZoomTool\"},{\"attributes\":{},\"id\":\"cec0c45c-b317-4765-9d34-0ba167e9643b\",\"type\":\"CategoricalTicker\"},{\"attributes\":{},\"id\":\"a35c705e-8509-4695-abab-568c8c620bf7\",\"type\":\"BasicTickFormatter\"},{\"attributes\":{\"callback\":null,\"column_names\":[\"x_values\",\"y_values\"],\"data\":{\"chart_index\":[null,null,null,null,null,null,null,null,null,null],\"x_values\":[1.790593776635928,4.059422218439355,7.338097755253313,1.8887242599839098,0.3563777166599831,0.0671822119195804,2.7890181437174277,1.5084740014914755,2.509303418250477,0.42502634525807226],\"y_values\":[\"None\",\"None\",\"None\",\"None\",\"None\",\"None\",\"None\",\"None\",\"None\",\"None\"]}},\"id\":\"9ba372d8-5655-4aeb-91cb-b2942507c89a\",\"type\":\"ColumnDataSource\"},{\"attributes\":{\"bottom_units\":\"screen\",\"fill_alpha\":{\"value\":0.5},\"fill_color\":{\"value\":\"lightgrey\"},\"left_units\":\"screen\",\"level\":\"overlay\",\"line_alpha\":{\"value\":1.0},\"line_color\":{\"value\":\"black\"},\"line_dash\":[4,4],\"line_width\":{\"value\":2},\"plot\":null,\"render_mode\":\"css\",\"right_units\":\"screen\",\"top_units\":\"screen\"},\"id\":\"4f1dd46f-29e9-4141-a9c3-c3199e20257e\",\"type\":\"BoxAnnotation\"},{\"attributes\":{},\"id\":\"c0fd5d0d-a818-45d0-a92c-4b4e9b33c60d\",\"type\":\"ToolEvents\"},{\"attributes\":{},\"id\":\"2624ebc9-abc3-4b9f-8b4e-c1a132da2c04\",\"type\":\"BasicTickFormatter\"},{\"attributes\":{\"data_source\":{\"id\":\"236b1cd5-76d9-414b-aff0-a0adf798319a\",\"type\":\"ColumnDataSource\"},\"glyph\":{\"id\":\"785aad73-ee93-4a9e-a022-310d9120dead\",\"type\":\"Circle\"},\"hover_glyph\":null,\"nonselection_glyph\":null,\"selection_glyph\":null},\"id\":\"994515fa-852b-47aa-9928-c57c38a7ee97\",\"type\":\"GlyphRenderer\"},{\"attributes\":{\"below\":[{\"id\":\"3a41ea18-1847-40c6-8834-ec2a690e81d0\",\"type\":\"LinearAxis\"}],\"left\":[{\"id\":\"974f1a64-5d45-473e-af5d-8f498165c633\",\"type\":\"CategoricalAxis\"}],\"legend\":null,\"renderers\":[{\"id\":\"e49b3657-80d5-4d36-9f6c-befddd6b06ea\",\"type\":\"BoxAnnotation\"},{\"id\":\"246be461-e483-44d9-8448-04052e8cdbf4\",\"type\":\"GlyphRenderer\"},{\"id\":\"3a41ea18-1847-40c6-8834-ec2a690e81d0\",\"type\":\"LinearAxis\"},{\"id\":\"974f1a64-5d45-473e-af5d-8f498165c633\",\"type\":\"CategoricalAxis\"},{\"id\":\"a31281f6-1c09-470d-900d-69381043e426\",\"type\":\"Grid\"},{\"id\":\"a749b3a7-e99b-42df-ab0c-7c3e0ce31441\",\"type\":\"Grid\"}],\"title\":\"Allele Effect Differences\",\"title_text_font_size\":{\"value\":\"14pt\"},\"tool_events\":{\"id\":\"c0076a6c-8966-46df-900b-ed5f2e6b8244\",\"type\":\"ToolEvents\"},\"tools\":[{\"id\":\"a61a5f93-2f1c-47ac-b34e-5615fd6b11b2\",\"type\":\"PanTool\"},{\"id\":\"43663a20-46b6-452f-b427-9f120a28d379\",\"type\":\"WheelZoomTool\"},{\"id\":\"302af935-72e0-4cac-b026-9080e1ef4fd3\",\"type\":\"BoxZoomTool\"},{\"id\":\"80edfabe-9819-46aa-9251-4cab5ac45380\",\"type\":\"PreviewSaveTool\"},{\"id\":\"ede9363f-f13d-4358-82b3-a4dcbce392fe\",\"type\":\"ResizeTool\"},{\"id\":\"242e24ac-be31-4eb6-964a-f575d0d52de0\",\"type\":\"ResetTool\"},{\"id\":\"d75a80d3-5a2a-4292-901e-bed14ad13a16\",\"type\":\"HelpTool\"}],\"x_mapper_type\":\"auto\",\"x_range\":{\"id\":\"6367ba8a-c9b1-4ee4-90ea-6cceca0a94b3\",\"type\":\"Range1d\"},\"xscale\":\"auto\",\"y_mapper_type\":\"auto\",\"y_range\":{\"id\":\"7b6dd7b7-044d-479b-a332-b423dcba5123\",\"type\":\"FactorRange\"},\"yscale\":\"auto\"},\"id\":\"dc4674bc-dcd2-408f-8c1f-9f257ad66120\",\"subtype\":\"Chart\",\"type\":\"Plot\"},{\"attributes\":{},\"id\":\"c0eff11f-7e8c-41f7-83c0-aa82bd5c009b\",\"type\":\"BasicTickFormatter\"},{\"attributes\":{},\"id\":\"c0076a6c-8966-46df-900b-ed5f2e6b8244\",\"type\":\"ToolEvents\"},{\"attributes\":{\"callback\":null,\"end\":8.065189309586685,\"start\":-0.6599093424137928},\"id\":\"8c234d3f-ce75-42b6-84ca-045242139d58\",\"type\":\"Range1d\"},{\"attributes\":{\"axis_label\":\"Locus\",\"formatter\":{\"id\":\"ac89ca23-b806-4740-89f5-16e977e1f452\",\"type\":\"BasicTickFormatter\"},\"plot\":{\"id\":\"3be86840-af6f-47f9-9dc1-74ca0400cb95\",\"subtype\":\"Chart\",\"type\":\"Plot\"},\"ticker\":{\"id\":\"7fb594a9-cded-4e0e-bf99-b15d9bbf9904\",\"type\":\"BasicTicker\"}},\"id\":\"bf7f754d-8802-4691-8e23-2a62d0a2f7ca\",\"type\":\"LinearAxis\"},{\"attributes\":{\"plot\":{\"id\":\"28ace379-0340-48c4-80c1-c82f71499804\",\"subtype\":\"Chart\",\"type\":\"Plot\"}},\"id\":\"363bd9a1-f1af-4204-a04d-3440db02064a\",\"type\":\"ResetTool\"},{\"attributes\":{\"plot\":{\"id\":\"e6ac3b57-4231-4a6a-a516-e5706d65c5e6\",\"subtype\":\"Chart\",\"type\":\"Plot\"},\"ticker\":{\"id\":\"5ee6d966-3c1a-4ffe-a947-759a358e2261\",\"type\":\"BasicTicker\"}},\"id\":\"57bca747-5596-435a-baa0-079b46857fb4\",\"type\":\"Grid\"},{\"attributes\":{\"callback\":null,\"end\":8.065189309586685,\"start\":-0.6599093424137928},\"id\":\"9a553067-ef61-498a-b8c2-ad6c2109cb96\",\"type\":\"Range1d\"},{\"attributes\":{\"axis_label\":\"Difference\",\"formatter\":{\"id\":\"eeecd453-4b65-45fc-99e7-3a4518709cd6\",\"type\":\"BasicTickFormatter\"},\"plot\":{\"id\":\"d7fc0b54-2ccb-4c72-aa8b-3df87826b7dd\",\"subtype\":\"Chart\",\"type\":\"Plot\"},\"ticker\":{\"id\":\"e552017a-7ced-4824-a475-25ab9ccd697d\",\"type\":\"BasicTicker\"}},\"id\":\"ac0faa03-8850-4eba-b7e5-d8634b5ba8e9\",\"type\":\"LinearAxis\"},{\"attributes\":{\"plot\":{\"id\":\"dc4674bc-dcd2-408f-8c1f-9f257ad66120\",\"subtype\":\"Chart\",\"type\":\"Plot\"}},\"id\":\"a61a5f93-2f1c-47ac-b34e-5615fd6b11b2\",\"type\":\"PanTool\"},{\"attributes\":{\"overlay\":{\"id\":\"a52fa28f-6e14-40b1-85bb-fb42a2f47c2a\",\"type\":\"BoxAnnotation\"},\"plot\":{\"id\":\"d070a192-96e9-42b9-b6d9-a98adc888972\",\"subtype\":\"Chart\",\"type\":\"Plot\"}},\"id\":\"b7c01085-2cda-4f64-bae4-09e9504b3263\",\"type\":\"BoxZoomTool\"},{\"attributes\":{\"overlay\":{\"id\":\"c47cd0a7-2c47-473c-9077-63e19576fcdb\",\"type\":\"BoxAnnotation\"},\"plot\":{\"id\":\"654c8f79-be5a-4fd6-916d-c7c31a693b3e\",\"subtype\":\"Chart\",\"type\":\"Plot\"}},\"id\":\"1762e3a3-962c-4bf7-ab1a-5aa5170dc224\",\"type\":\"BoxZoomTool\"},{\"attributes\":{\"callback\":null,\"end\":8.065189309586685,\"start\":-0.6599093424137928},\"id\":\"e9be8948-118a-437f-87a9-e8c443ab690e\",\"type\":\"Range1d\"},{\"attributes\":{\"callback\":null,\"end\":799.4,\"start\":-45.400000000000006},\"id\":\"4f50d0e6-ca88-4b8e-8306-8dac5fbea365\",\"type\":\"Range1d\"},{\"attributes\":{\"bottom_units\":\"screen\",\"fill_alpha\":{\"value\":0.5},\"fill_color\":{\"value\":\"lightgrey\"},\"left_units\":\"screen\",\"level\":\"overlay\",\"line_alpha\":{\"value\":1.0},\"line_color\":{\"value\":\"black\"},\"line_dash\":[4,4],\"line_width\":{\"value\":2},\"plot\":null,\"render_mode\":\"css\",\"right_units\":\"screen\",\"top_units\":\"screen\"},\"id\":\"869d61fb-133c-4c0f-81ed-f117c63eb2cb\",\"type\":\"BoxAnnotation\"},{\"attributes\":{\"axis_label\":\"Locus\",\"formatter\":{\"id\":\"2ba86f2f-a068-42ae-88d8-df6ea5b34902\",\"type\":\"CategoricalTickFormatter\"},\"major_label_orientation\":0.7853981633974483,\"plot\":{\"id\":\"e6ac3b57-4231-4a6a-a516-e5706d65c5e6\",\"subtype\":\"Chart\",\"type\":\"Plot\"},\"ticker\":{\"id\":\"47fa69db-1555-4eca-a649-016833ad1b3c\",\"type\":\"CategoricalTicker\"}},\"id\":\"52fce4c9-b62d-4c3e-ba33-a25cc09fbdf2\",\"type\":\"CategoricalAxis\"},{\"attributes\":{\"plot\":{\"id\":\"654c8f79-be5a-4fd6-916d-c7c31a693b3e\",\"subtype\":\"Chart\",\"type\":\"Plot\"}},\"id\":\"14b5bf58-1696-4ad5-8bd0-c67c19482678\",\"type\":\"ResizeTool\"},{\"attributes\":{\"plot\":{\"id\":\"dc4674bc-dcd2-408f-8c1f-9f257ad66120\",\"subtype\":\"Chart\",\"type\":\"Plot\"}},\"id\":\"80edfabe-9819-46aa-9251-4cab5ac45380\",\"type\":\"PreviewSaveTool\"},{\"attributes\":{\"callback\":null,\"end\":799.4,\"start\":-45.400000000000006},\"id\":\"cf0b2afe-4da8-44a6-b07f-f0985e88be15\",\"type\":\"Range1d\"},{\"attributes\":{\"fill_alpha\":{\"value\":0.7},\"fill_color\":{\"value\":\"#f22c40\"},\"line_color\":{\"value\":\"#f22c40\"},\"size\":{\"units\":\"screen\",\"value\":8},\"x\":{\"field\":\"x_values\"},\"y\":{\"field\":\"y_values\"}},\"id\":\"57fe8749-5b16-492a-ac2c-507a593fae22\",\"type\":\"Circle\"},{\"attributes\":{\"fill_alpha\":{\"value\":0.7},\"fill_color\":{\"value\":\"#f22c40\"},\"line_color\":{\"value\":\"#f22c40\"},\"size\":{\"units\":\"screen\",\"value\":8},\"x\":{\"field\":\"x_values\"},\"y\":{\"field\":\"y_values\"}},\"id\":\"e1fa66d9-1f4e-4315-9dcb-92d3c191e312\",\"type\":\"Circle\"},{\"attributes\":{},\"id\":\"63136b62-d04f-494f-ad63-41d081f7a440\",\"type\":\"CategoricalTickFormatter\"},{\"attributes\":{\"plot\":{\"id\":\"14dc5235-3f84-4eb2-bdd9-1dd4340285d8\",\"subtype\":\"Chart\",\"type\":\"Plot\"},\"ticker\":{\"id\":\"67792db3-b7fb-48f8-adf9-d3522658a5ae\",\"type\":\"BasicTicker\"}},\"id\":\"5f710ed4-f907-4ffc-98eb-772de12f536b\",\"type\":\"Grid\"},{\"attributes\":{\"plot\":{\"id\":\"654c8f79-be5a-4fd6-916d-c7c31a693b3e\",\"subtype\":\"Chart\",\"type\":\"Plot\"},\"ticker\":{\"id\":\"f520c77c-e58a-41fd-a3a9-91eaecd08fc2\",\"type\":\"BasicTicker\"}},\"id\":\"788c1f4e-2af0-44d8-a25e-66a84836b76d\",\"type\":\"Grid\"},{\"attributes\":{\"data_source\":{\"id\":\"825e6381-fc46-40ec-86b5-800a7603afe0\",\"type\":\"ColumnDataSource\"},\"glyph\":{\"id\":\"1095d86f-8ed4-4976-bc4c-3819cccff13f\",\"type\":\"Circle\"},\"hover_glyph\":null,\"nonselection_glyph\":null,\"selection_glyph\":null},\"id\":\"e156c2bc-0b7a-473a-bc3f-5b65439662e1\",\"type\":\"GlyphRenderer\"},{\"attributes\":{},\"id\":\"2a7c6a39-1f6f-4402-b36d-9c9a38a8b186\",\"type\":\"CategoricalTickFormatter\"},{\"attributes\":{\"bottom_units\":\"screen\",\"fill_alpha\":{\"value\":0.5},\"fill_color\":{\"value\":\"lightgrey\"},\"left_units\":\"screen\",\"level\":\"overlay\",\"line_alpha\":{\"value\":1.0},\"line_color\":{\"value\":\"black\"},\"line_dash\":[4,4],\"line_width\":{\"value\":2},\"plot\":null,\"render_mode\":\"css\",\"right_units\":\"screen\",\"top_units\":\"screen\"},\"id\":\"5d4c1227-f571-4081-865c-94c51dedbe72\",\"type\":\"BoxAnnotation\"},{\"attributes\":{\"below\":[{\"id\":\"fcea3b4a-3f94-49f6-a95a-a4d9c5456ad1\",\"type\":\"LinearAxis\"}],\"left\":[{\"id\":\"f6e9260d-9fc3-4848-812f-f15d11f37507\",\"type\":\"CategoricalAxis\"}],\"legend\":null,\"renderers\":[{\"id\":\"4f1dd46f-29e9-4141-a9c3-c3199e20257e\",\"type\":\"BoxAnnotation\"},{\"id\":\"33e40e9a-adc3-4e02-badc-9cd694002278\",\"type\":\"GlyphRenderer\"},{\"id\":\"fcea3b4a-3f94-49f6-a95a-a4d9c5456ad1\",\"type\":\"LinearAxis\"},{\"id\":\"f6e9260d-9fc3-4848-812f-f15d11f37507\",\"type\":\"CategoricalAxis\"},{\"id\":\"5f710ed4-f907-4ffc-98eb-772de12f536b\",\"type\":\"Grid\"},{\"id\":\"fc731635-5cb7-45fb-869d-ebd4faecc0e8\",\"type\":\"Grid\"}],\"title\":\"Allele Effect Differences\",\"title_text_font_size\":{\"value\":\"14pt\"},\"tool_events\":{\"id\":\"575f45f3-b6b7-4ac5-9e0e-8773c31e6912\",\"type\":\"ToolEvents\"},\"tools\":[{\"id\":\"f36e1642-976c-47e0-9e88-7d5f993c300e\",\"type\":\"PanTool\"},{\"id\":\"815afe65-bd19-4b27-993c-d19339ed878c\",\"type\":\"WheelZoomTool\"},{\"id\":\"1a7a7fc5-8908-4c5d-8496-7c9304fe5af3\",\"type\":\"BoxZoomTool\"},{\"id\":\"3723f33b-89c7-4656-beb7-2107ddb2cb97\",\"type\":\"PreviewSaveTool\"},{\"id\":\"41133c49-ad7b-4dc4-8a39-122a6e0b50fc\",\"type\":\"ResizeTool\"},{\"id\":\"ba71d1b2-c809-457b-8402-59d37441f3c7\",\"type\":\"ResetTool\"},{\"id\":\"165ca4e7-8837-46da-bff2-9c64d2a3240a\",\"type\":\"HelpTool\"}],\"x_mapper_type\":\"auto\",\"x_range\":{\"id\":\"9a553067-ef61-498a-b8c2-ad6c2109cb96\",\"type\":\"Range1d\"},\"xscale\":\"auto\",\"y_mapper_type\":\"auto\",\"y_range\":{\"id\":\"4eddbe2f-1d92-494e-aaf6-5da8b30e583c\",\"type\":\"FactorRange\"},\"yscale\":\"auto\"},\"id\":\"14dc5235-3f84-4eb2-bdd9-1dd4340285d8\",\"subtype\":\"Chart\",\"type\":\"Plot\"},{\"attributes\":{},\"id\":\"e552017a-7ced-4824-a475-25ab9ccd697d\",\"type\":\"BasicTicker\"},{\"attributes\":{\"axis_label\":\"Difference\",\"formatter\":{\"id\":\"c0eff11f-7e8c-41f7-83c0-aa82bd5c009b\",\"type\":\"BasicTickFormatter\"},\"plot\":{\"id\":\"3be86840-af6f-47f9-9dc1-74ca0400cb95\",\"subtype\":\"Chart\",\"type\":\"Plot\"},\"ticker\":{\"id\":\"be6c135e-9998-461d-9da1-bb5a9d76111e\",\"type\":\"BasicTicker\"}},\"id\":\"e7f2aaaa-2e2c-4239-b58b-a4543d7001a0\",\"type\":\"LinearAxis\"},{\"attributes\":{\"data_source\":{\"id\":\"0108a250-640c-4f04-829f-33f58d0f849c\",\"type\":\"ColumnDataSource\"},\"glyph\":{\"id\":\"8a536349-21e8-49e4-9d60-60efea6bbef3\",\"type\":\"Circle\"},\"hover_glyph\":null,\"nonselection_glyph\":null,\"selection_glyph\":null},\"id\":\"4e72cff1-8c49-405f-8641-0986fc23f8b7\",\"type\":\"GlyphRenderer\"},{\"attributes\":{\"plot\":{\"id\":\"dc4674bc-dcd2-408f-8c1f-9f257ad66120\",\"subtype\":\"Chart\",\"type\":\"Plot\"}},\"id\":\"242e24ac-be31-4eb6-964a-f575d0d52de0\",\"type\":\"ResetTool\"},{\"attributes\":{},\"id\":\"6becffa3-7bb7-4f6e-a539-a91ee7973dcf\",\"type\":\"BasicTickFormatter\"},{\"attributes\":{\"callback\":null,\"column_names\":[\"x_values\",\"y_values\"],\"data\":{\"chart_index\":[null,null,null,null,null,null,null,null,null,null],\"x_values\":[1.790593776635928,4.059422218439355,7.338097755253313,1.8887242599839098,0.3563777166599831,0.0671822119195804,2.7890181437174277,1.5084740014914755,2.509303418250477,0.42502634525807226],\"y_values\":[\"None\",\"None\",\"None\",\"None\",\"None\",\"None\",\"None\",\"None\",\"None\",\"None\"]}},\"id\":\"afc77b20-933a-4d40-9d74-a5929183f3be\",\"type\":\"ColumnDataSource\"},{\"attributes\":{\"plot\":{\"id\":\"d070a192-96e9-42b9-b6d9-a98adc888972\",\"subtype\":\"Chart\",\"type\":\"Plot\"},\"ticker\":{\"id\":\"c5041114-78be-4f32-8990-7dd3f59bf2b5\",\"type\":\"BasicTicker\"}},\"id\":\"d2872f6c-b6c6-40d6-b414-fe8555c6c8c6\",\"type\":\"Grid\"},{\"attributes\":{\"plot\":{\"id\":\"14dc5235-3f84-4eb2-bdd9-1dd4340285d8\",\"subtype\":\"Chart\",\"type\":\"Plot\"}},\"id\":\"41133c49-ad7b-4dc4-8a39-122a6e0b50fc\",\"type\":\"ResizeTool\"},{\"attributes\":{\"plot\":{\"id\":\"dc4674bc-dcd2-408f-8c1f-9f257ad66120\",\"subtype\":\"Chart\",\"type\":\"Plot\"}},\"id\":\"43663a20-46b6-452f-b427-9f120a28d379\",\"type\":\"WheelZoomTool\"},{\"attributes\":{\"plot\":{\"id\":\"dca55044-79ca-4da9-8c61-ae348199a301\",\"subtype\":\"Chart\",\"type\":\"Plot\"}},\"id\":\"3d3dc865-2bf8-4eab-bab0-9adb2b958d55\",\"type\":\"PanTool\"},{\"attributes\":{},\"id\":\"56ccfdcd-bf6f-42ee-9250-356738b8b785\",\"type\":\"BasicTickFormatter\"},{\"attributes\":{},\"id\":\"575f45f3-b6b7-4ac5-9e0e-8773c31e6912\",\"type\":\"ToolEvents\"},{\"attributes\":{\"axis_label\":\"Difference\",\"formatter\":{\"id\":\"a35c705e-8509-4695-abab-568c8c620bf7\",\"type\":\"BasicTickFormatter\"},\"plot\":{\"id\":\"4b9b9aeb-f746-47a2-8c22-e7b1dcfb021b\",\"subtype\":\"Chart\",\"type\":\"Plot\"},\"ticker\":{\"id\":\"6a7bf505-ffb4-4f9a-b1ef-1cb5adf899a5\",\"type\":\"BasicTicker\"}},\"id\":\"387c6d82-3d3b-4a46-bd28-664eb0fb0818\",\"type\":\"LinearAxis\"},{\"attributes\":{\"plot\":{\"id\":\"e6ac3b57-4231-4a6a-a516-e5706d65c5e6\",\"subtype\":\"Chart\",\"type\":\"Plot\"}},\"id\":\"d91baf01-8170-45fe-9e1f-2a06c9f26a79\",\"type\":\"PanTool\"},{\"attributes\":{},\"id\":\"e9c855c3-0631-4c35-809b-3f3c3f2127c1\",\"type\":\"CategoricalTicker\"},{\"attributes\":{\"callback\":null,\"end\":8.065189309586685,\"start\":-0.6599093424137928},\"id\":\"efaf760d-ef89-4422-9c02-01e32cb32a60\",\"type\":\"Range1d\"},{\"attributes\":{\"callback\":null,\"factors\":[\"None\"]},\"id\":\"4eddbe2f-1d92-494e-aaf6-5da8b30e583c\",\"type\":\"FactorRange\"},{\"attributes\":{\"plot\":{\"id\":\"dca55044-79ca-4da9-8c61-ae348199a301\",\"subtype\":\"Chart\",\"type\":\"Plot\"}},\"id\":\"0652fb89-e50b-49ab-b607-08f875bf806b\",\"type\":\"HelpTool\"},{\"attributes\":{\"bottom_units\":\"screen\",\"fill_alpha\":{\"value\":0.5},\"fill_color\":{\"value\":\"lightgrey\"},\"left_units\":\"screen\",\"level\":\"overlay\",\"line_alpha\":{\"value\":1.0},\"line_color\":{\"value\":\"black\"},\"line_dash\":[4,4],\"line_width\":{\"value\":2},\"plot\":null,\"render_mode\":\"css\",\"right_units\":\"screen\",\"top_units\":\"screen\"},\"id\":\"709c2563-236d-4d74-b2ba-691d1247ad61\",\"type\":\"BoxAnnotation\"},{\"attributes\":{},\"id\":\"be6c135e-9998-461d-9da1-bb5a9d76111e\",\"type\":\"BasicTicker\"},{\"attributes\":{\"overlay\":{\"id\":\"d3e8c3fc-5698-48b1-83b5-65c27130c796\",\"type\":\"BoxAnnotation\"},\"plot\":{\"id\":\"dca55044-79ca-4da9-8c61-ae348199a301\",\"subtype\":\"Chart\",\"type\":\"Plot\"}},\"id\":\"8ad6577c-a92d-4d7e-b044-fdca845512e6\",\"type\":\"BoxZoomTool\"},{\"attributes\":{\"plot\":{\"id\":\"28ace379-0340-48c4-80c1-c82f71499804\",\"subtype\":\"Chart\",\"type\":\"Plot\"}},\"id\":\"03db83ee-cd1d-4130-a252-614b11f45295\",\"type\":\"WheelZoomTool\"},{\"attributes\":{},\"id\":\"6b48a79e-7564-4b8d-be1f-dec81fd8a0a5\",\"type\":\"ToolEvents\"},{\"attributes\":{\"bottom_units\":\"screen\",\"fill_alpha\":{\"value\":0.5},\"fill_color\":{\"value\":\"lightgrey\"},\"left_units\":\"screen\",\"level\":\"overlay\",\"line_alpha\":{\"value\":1.0},\"line_color\":{\"value\":\"black\"},\"line_dash\":[4,4],\"line_width\":{\"value\":2},\"plot\":null,\"render_mode\":\"css\",\"right_units\":\"screen\",\"top_units\":\"screen\"},\"id\":\"a52fa28f-6e14-40b1-85bb-fb42a2f47c2a\",\"type\":\"BoxAnnotation\"},{\"attributes\":{\"callback\":null,\"factors\":[\"None\"]},\"id\":\"81a89d03-2d50-4820-8297-0fe14c1272dd\",\"type\":\"FactorRange\"},{\"attributes\":{},\"id\":\"42b3783c-3d0c-44ec-8f05-8a0621ec0afe\",\"type\":\"BasicTickFormatter\"},{\"attributes\":{\"plot\":{\"id\":\"dca55044-79ca-4da9-8c61-ae348199a301\",\"subtype\":\"Chart\",\"type\":\"Plot\"}},\"id\":\"cb76e89a-3302-4d9c-b767-8a659fe852d1\",\"type\":\"ResetTool\"},{\"attributes\":{\"axis_label\":\"Difference\",\"formatter\":{\"id\":\"42b3783c-3d0c-44ec-8f05-8a0621ec0afe\",\"type\":\"BasicTickFormatter\"},\"plot\":{\"id\":\"28ace379-0340-48c4-80c1-c82f71499804\",\"subtype\":\"Chart\",\"type\":\"Plot\"},\"ticker\":{\"id\":\"73789de3-2e61-4fbc-8651-51e2bdf364f4\",\"type\":\"BasicTicker\"}},\"id\":\"b4a54044-3202-4d78-a077-dd0bf394707b\",\"type\":\"LinearAxis\"},{\"attributes\":{\"plot\":{\"id\":\"4b9b9aeb-f746-47a2-8c22-e7b1dcfb021b\",\"subtype\":\"Chart\",\"type\":\"Plot\"},\"ticker\":{\"id\":\"6a7bf505-ffb4-4f9a-b1ef-1cb5adf899a5\",\"type\":\"BasicTicker\"}},\"id\":\"cc3d3096-d551-4287-84f2-a0cc55244733\",\"type\":\"Grid\"},{\"attributes\":{\"fill_alpha\":{\"value\":0.7},\"fill_color\":{\"value\":\"#f22c40\"},\"line_color\":{\"value\":\"#f22c40\"},\"size\":{\"units\":\"screen\",\"value\":8},\"x\":{\"field\":\"x_values\"},\"y\":{\"field\":\"y_values\"}},\"id\":\"f1a71152-fb83-4adf-9c33-f1b0ec22838f\",\"type\":\"Circle\"},{\"attributes\":{\"fill_alpha\":{\"value\":0.7},\"fill_color\":{\"value\":\"#f22c40\"},\"line_color\":{\"value\":\"#f22c40\"},\"size\":{\"units\":\"screen\",\"value\":8},\"x\":{\"field\":\"x_values\"},\"y\":{\"field\":\"y_values\"}},\"id\":\"2f27a707-5a5d-4b51-b986-ddf2570e9818\",\"type\":\"Circle\"},{\"attributes\":{\"data_source\":{\"id\":\"afc77b20-933a-4d40-9d74-a5929183f3be\",\"type\":\"ColumnDataSource\"},\"glyph\":{\"id\":\"1da23b23-6c20-4998-923d-529d89752127\",\"type\":\"Circle\"},\"hover_glyph\":null,\"nonselection_glyph\":null,\"selection_glyph\":null},\"id\":\"6fa3bf0e-cb89-4886-95bc-e0e6f6974afd\",\"type\":\"GlyphRenderer\"},{\"attributes\":{\"overlay\":{\"id\":\"6f35cbb5-f19d-4c51-a21b-827f7a901bed\",\"type\":\"BoxAnnotation\"},\"plot\":{\"id\":\"3be86840-af6f-47f9-9dc1-74ca0400cb95\",\"subtype\":\"Chart\",\"type\":\"Plot\"}},\"id\":\"5d41f1d9-3fe5-49e7-b59c-49bc272591fd\",\"type\":\"BoxZoomTool\"},{\"attributes\":{\"callback\":null,\"end\":8.065189309586685,\"start\":-0.6599093424137928},\"id\":\"b3472bd2-d06d-4b25-a16e-c2959b4e7971\",\"type\":\"Range1d\"},{\"attributes\":{\"plot\":{\"id\":\"4b9b9aeb-f746-47a2-8c22-e7b1dcfb021b\",\"subtype\":\"Chart\",\"type\":\"Plot\"}},\"id\":\"5ec4a797-c3c5-4fec-95d2-8e9eb01a81dd\",\"type\":\"ResetTool\"},{\"attributes\":{\"plot\":{\"id\":\"28ace379-0340-48c4-80c1-c82f71499804\",\"subtype\":\"Chart\",\"type\":\"Plot\"}},\"id\":\"02b9ceb2-55b0-4ac2-a8c4-aa39b194c722\",\"type\":\"PreviewSaveTool\"},{\"attributes\":{\"overlay\":{\"id\":\"869d61fb-133c-4c0f-81ed-f117c63eb2cb\",\"type\":\"BoxAnnotation\"},\"plot\":{\"id\":\"e6ac3b57-4231-4a6a-a516-e5706d65c5e6\",\"subtype\":\"Chart\",\"type\":\"Plot\"}},\"id\":\"0fcd2028-f0fa-466c-9f60-9310b1b84abc\",\"type\":\"BoxZoomTool\"},{\"attributes\":{},\"id\":\"5d896c29-b57f-47ed-8360-155a395d9d5c\",\"type\":\"CategoricalTicker\"},{\"attributes\":{},\"id\":\"cc1870fb-51fe-4900-82e2-100b35784631\",\"type\":\"ToolEvents\"},{\"attributes\":{},\"id\":\"7fb594a9-cded-4e0e-bf99-b15d9bbf9904\",\"type\":\"BasicTicker\"},{\"attributes\":{\"below\":[{\"id\":\"7b8d10fe-0933-4eb4-b04e-2f2cb5f3eb0c\",\"type\":\"LinearAxis\"}],\"left\":[{\"id\":\"22a27d18-27fe-4daa-b0dc-86f16629bf73\",\"type\":\"LinearAxis\"}],\"legend\":null,\"renderers\":[{\"id\":\"c47cd0a7-2c47-473c-9077-63e19576fcdb\",\"type\":\"BoxAnnotation\"},{\"id\":\"e156c2bc-0b7a-473a-bc3f-5b65439662e1\",\"type\":\"GlyphRenderer\"},{\"id\":\"7b8d10fe-0933-4eb4-b04e-2f2cb5f3eb0c\",\"type\":\"LinearAxis\"},{\"id\":\"22a27d18-27fe-4daa-b0dc-86f16629bf73\",\"type\":\"LinearAxis\"},{\"id\":\"788c1f4e-2af0-44d8-a25e-66a84836b76d\",\"type\":\"Grid\"},{\"id\":\"cc31479c-1766-42ae-ad10-eb4051d37424\",\"type\":\"Grid\"}],\"title\":\"Allele Effect Differences\",\"title_text_font_size\":{\"value\":\"14pt\"},\"tool_events\":{\"id\":\"e6a268ec-88cf-4e2f-9635-d982424137db\",\"type\":\"ToolEvents\"},\"tools\":[{\"id\":\"f5c85d45-a990-4c79-85dd-f29a3a6d5390\",\"type\":\"PanTool\"},{\"id\":\"27b0cf67-5a2a-42eb-a4d9-7ab5467bbc17\",\"type\":\"WheelZoomTool\"},{\"id\":\"1762e3a3-962c-4bf7-ab1a-5aa5170dc224\",\"type\":\"BoxZoomTool\"},{\"id\":\"e8a1c9f4-c109-40ce-8461-856072a2bdd1\",\"type\":\"PreviewSaveTool\"},{\"id\":\"14b5bf58-1696-4ad5-8bd0-c67c19482678\",\"type\":\"ResizeTool\"},{\"id\":\"7b0e0a24-85e4-4a85-a05f-c96b13a10c69\",\"type\":\"ResetTool\"},{\"id\":\"b25bd965-98a8-4c49-848f-aed651fe4ba0\",\"type\":\"HelpTool\"}],\"x_mapper_type\":\"auto\",\"x_range\":{\"id\":\"8c234d3f-ce75-42b6-84ca-045242139d58\",\"type\":\"Range1d\"},\"xscale\":\"auto\",\"y_mapper_type\":\"auto\",\"y_range\":{\"id\":\"94affbf7-3aee-46c1-a73d-f44295ab16c8\",\"type\":\"Range1d\"},\"yscale\":\"auto\"},\"id\":\"654c8f79-be5a-4fd6-916d-c7c31a693b3e\",\"subtype\":\"Chart\",\"type\":\"Plot\"},{\"attributes\":{\"plot\":{\"id\":\"28ace379-0340-48c4-80c1-c82f71499804\",\"subtype\":\"Chart\",\"type\":\"Plot\"},\"ticker\":{\"id\":\"73789de3-2e61-4fbc-8651-51e2bdf364f4\",\"type\":\"BasicTicker\"}},\"id\":\"bc92d142-c1f5-4d41-8942-b01d2d0de910\",\"type\":\"Grid\"},{\"attributes\":{},\"id\":\"6e821dc9-3854-4635-b7f3-96da40b246d3\",\"type\":\"BasicTickFormatter\"},{\"attributes\":{\"axis_label\":\"Difference\",\"formatter\":{\"id\":\"d3776e65-1455-4711-bc93-aa4eea736342\",\"type\":\"BasicTickFormatter\"},\"plot\":{\"id\":\"dca55044-79ca-4da9-8c61-ae348199a301\",\"subtype\":\"Chart\",\"type\":\"Plot\"},\"ticker\":{\"id\":\"c6426c66-be0b-4ac6-9056-f216628191ca\",\"type\":\"BasicTicker\"}},\"id\":\"80cac089-a0e0-4136-9a20-3c19a0791900\",\"type\":\"LinearAxis\"},{\"attributes\":{\"plot\":{\"id\":\"e6ac3b57-4231-4a6a-a516-e5706d65c5e6\",\"subtype\":\"Chart\",\"type\":\"Plot\"}},\"id\":\"da4c4617-c1bd-4ba0-acae-d601adf564df\",\"type\":\"HelpTool\"},{\"attributes\":{\"plot\":{\"id\":\"d7fc0b54-2ccb-4c72-aa8b-3df87826b7dd\",\"subtype\":\"Chart\",\"type\":\"Plot\"}},\"id\":\"2571fa20-27aa-418e-b8c3-a65af545b41e\",\"type\":\"ResizeTool\"},{\"attributes\":{},\"id\":\"47fa69db-1555-4eca-a649-016833ad1b3c\",\"type\":\"CategoricalTicker\"},{\"attributes\":{\"below\":[{\"id\":\"387c6d82-3d3b-4a46-bd28-664eb0fb0818\",\"type\":\"LinearAxis\"}],\"left\":[{\"id\":\"551fffa4-c4bf-429c-a077-4857453cd6dc\",\"type\":\"CategoricalAxis\"}],\"legend\":null,\"renderers\":[{\"id\":\"171b3766-419b-4d8c-854f-82ae495d36de\",\"type\":\"BoxAnnotation\"},{\"id\":\"6fa3bf0e-cb89-4886-95bc-e0e6f6974afd\",\"type\":\"GlyphRenderer\"},{\"id\":\"387c6d82-3d3b-4a46-bd28-664eb0fb0818\",\"type\":\"LinearAxis\"},{\"id\":\"551fffa4-c4bf-429c-a077-4857453cd6dc\",\"type\":\"CategoricalAxis\"},{\"id\":\"cc3d3096-d551-4287-84f2-a0cc55244733\",\"type\":\"Grid\"},{\"id\":\"6031514c-ae7b-479c-94ab-0230116beec5\",\"type\":\"Grid\"}],\"title\":\"Allele Effect Differences\",\"title_text_font_size\":{\"value\":\"14pt\"},\"tool_events\":{\"id\":\"6b48a79e-7564-4b8d-be1f-dec81fd8a0a5\",\"type\":\"ToolEvents\"},\"tools\":[{\"id\":\"aa7f80de-ba41-4b03-a269-37601d94382e\",\"type\":\"PanTool\"},{\"id\":\"ef6e83b1-f002-4184-b7b2-7f1026a37056\",\"type\":\"WheelZoomTool\"},{\"id\":\"72c57576-300c-46fa-8f6f-de78a8af9352\",\"type\":\"BoxZoomTool\"},{\"id\":\"b0efee37-fb8d-4604-a4ed-d7ed6b519428\",\"type\":\"PreviewSaveTool\"},{\"id\":\"93cd5236-ec82-41f4-9afe-7f0319c77b0f\",\"type\":\"ResizeTool\"},{\"id\":\"5ec4a797-c3c5-4fec-95d2-8e9eb01a81dd\",\"type\":\"ResetTool\"},{\"id\":\"83dd8295-41b0-4786-acbb-f73fad40d6d5\",\"type\":\"HelpTool\"}],\"x_mapper_type\":\"auto\",\"x_range\":{\"id\":\"efaf760d-ef89-4422-9c02-01e32cb32a60\",\"type\":\"Range1d\"},\"xscale\":\"auto\",\"y_mapper_type\":\"auto\",\"y_range\":{\"id\":\"f8f5d5c8-ef3e-4c60-bbf4-a5791ea084d6\",\"type\":\"FactorRange\"},\"yscale\":\"auto\"},\"id\":\"4b9b9aeb-f746-47a2-8c22-e7b1dcfb021b\",\"subtype\":\"Chart\",\"type\":\"Plot\"},{\"attributes\":{\"dimension\":1,\"plot\":{\"id\":\"654c8f79-be5a-4fd6-916d-c7c31a693b3e\",\"subtype\":\"Chart\",\"type\":\"Plot\"},\"ticker\":{\"id\":\"e3429281-a10b-4bbb-b08b-51f712b97132\",\"type\":\"BasicTicker\"}},\"id\":\"cc31479c-1766-42ae-ad10-eb4051d37424\",\"type\":\"Grid\"},{\"attributes\":{\"fill_alpha\":{\"value\":0.7},\"fill_color\":{\"value\":\"#f22c40\"},\"line_color\":{\"value\":\"#f22c40\"},\"size\":{\"units\":\"screen\",\"value\":8},\"x\":{\"field\":\"x_values\"},\"y\":{\"field\":\"y_values\"}},\"id\":\"1095d86f-8ed4-4976-bc4c-3819cccff13f\",\"type\":\"Circle\"},{\"attributes\":{\"callback\":null,\"end\":8.065189309586685,\"start\":-0.6599093424137928},\"id\":\"8316fc48-fcf8-49a8-89c3-f04f80fd587a\",\"type\":\"Range1d\"},{\"attributes\":{\"plot\":{\"id\":\"d070a192-96e9-42b9-b6d9-a98adc888972\",\"subtype\":\"Chart\",\"type\":\"Plot\"}},\"id\":\"4fe139f5-d96b-4cee-932b-0c242a26c48d\",\"type\":\"ResetTool\"},{\"attributes\":{\"plot\":{\"id\":\"4b9b9aeb-f746-47a2-8c22-e7b1dcfb021b\",\"subtype\":\"Chart\",\"type\":\"Plot\"}},\"id\":\"93cd5236-ec82-41f4-9afe-7f0319c77b0f\",\"type\":\"ResizeTool\"},{\"attributes\":{\"plot\":{\"id\":\"dca55044-79ca-4da9-8c61-ae348199a301\",\"subtype\":\"Chart\",\"type\":\"Plot\"}},\"id\":\"a2ac5e57-6d2a-4421-8e18-cf1eb3c6bf7b\",\"type\":\"PreviewSaveTool\"},{\"attributes\":{\"bottom_units\":\"screen\",\"fill_alpha\":{\"value\":0.5},\"fill_color\":{\"value\":\"lightgrey\"},\"left_units\":\"screen\",\"level\":\"overlay\",\"line_alpha\":{\"value\":1.0},\"line_color\":{\"value\":\"black\"},\"line_dash\":[4,4],\"line_width\":{\"value\":2},\"plot\":null,\"render_mode\":\"css\",\"right_units\":\"screen\",\"top_units\":\"screen\"},\"id\":\"c47cd0a7-2c47-473c-9077-63e19576fcdb\",\"type\":\"BoxAnnotation\"},{\"attributes\":{\"callback\":null,\"factors\":[\"None\"]},\"id\":\"7b6dd7b7-044d-479b-a332-b423dcba5123\",\"type\":\"FactorRange\"},{\"attributes\":{},\"id\":\"eeecd453-4b65-45fc-99e7-3a4518709cd6\",\"type\":\"BasicTickFormatter\"},{\"attributes\":{\"axis_label\":\"Locus\",\"formatter\":{\"id\":\"63136b62-d04f-494f-ad63-41d081f7a440\",\"type\":\"CategoricalTickFormatter\"},\"major_label_orientation\":0.7853981633974483,\"plot\":{\"id\":\"4b9b9aeb-f746-47a2-8c22-e7b1dcfb021b\",\"subtype\":\"Chart\",\"type\":\"Plot\"},\"ticker\":{\"id\":\"cec0c45c-b317-4765-9d34-0ba167e9643b\",\"type\":\"CategoricalTicker\"}},\"id\":\"551fffa4-c4bf-429c-a077-4857453cd6dc\",\"type\":\"CategoricalAxis\"},{\"attributes\":{\"callback\":null,\"column_names\":[\"x_values\",\"y_values\"],\"data\":{\"chart_index\":[null,null,null,null,null,null,null,null,null,null],\"x_values\":[1.790593776635928,4.059422218439355,7.338097755253313,1.8887242599839098,0.3563777166599831,0.0671822119195804,2.7890181437174277,1.5084740014914755,2.509303418250477,0.42502634525807226],\"y_values\":[25,67,251,347,353,410,416,536,590,729]}},\"id\":\"825e6381-fc46-40ec-86b5-800a7603afe0\",\"type\":\"ColumnDataSource\"},{\"attributes\":{\"plot\":{\"id\":\"dca55044-79ca-4da9-8c61-ae348199a301\",\"subtype\":\"Chart\",\"type\":\"Plot\"},\"ticker\":{\"id\":\"c6426c66-be0b-4ac6-9056-f216628191ca\",\"type\":\"BasicTicker\"}},\"id\":\"0f20b87c-2181-4993-b84c-4d37ef1ad46f\",\"type\":\"Grid\"},{\"attributes\":{\"plot\":{\"id\":\"dc4674bc-dcd2-408f-8c1f-9f257ad66120\",\"subtype\":\"Chart\",\"type\":\"Plot\"},\"ticker\":{\"id\":\"a6a5cba3-e1e6-4977-8e12-a88586724974\",\"type\":\"BasicTicker\"}},\"id\":\"a31281f6-1c09-470d-900d-69381043e426\",\"type\":\"Grid\"},{\"attributes\":{\"plot\":{\"id\":\"e6ac3b57-4231-4a6a-a516-e5706d65c5e6\",\"subtype\":\"Chart\",\"type\":\"Plot\"}},\"id\":\"fdf2c1fc-c46b-48b5-9dce-fe63045cf1fb\",\"type\":\"PreviewSaveTool\"},{\"attributes\":{\"fill_alpha\":{\"value\":0.7},\"fill_color\":{\"value\":\"#f22c40\"},\"line_color\":{\"value\":\"#f22c40\"},\"size\":{\"units\":\"screen\",\"value\":8},\"x\":{\"field\":\"x_values\"},\"y\":{\"field\":\"y_values\"}},\"id\":\"38f71cfc-7613-485e-8245-7badb6e1ee5e\",\"type\":\"Circle\"},{\"attributes\":{},\"id\":\"eeccfd64-b1ec-413d-87c8-28a6f413e97a\",\"type\":\"ToolEvents\"},{\"attributes\":{\"below\":[{\"id\":\"f1c010a9-e292-4e49-9a6e-0fba72574449\",\"type\":\"LinearAxis\"}],\"left\":[{\"id\":\"52fce4c9-b62d-4c3e-ba33-a25cc09fbdf2\",\"type\":\"CategoricalAxis\"}],\"legend\":null,\"renderers\":[{\"id\":\"869d61fb-133c-4c0f-81ed-f117c63eb2cb\",\"type\":\"BoxAnnotation\"},{\"id\":\"4bedebe0-189d-42ae-be78-c05f8cea62ed\",\"type\":\"GlyphRenderer\"},{\"id\":\"f1c010a9-e292-4e49-9a6e-0fba72574449\",\"type\":\"LinearAxis\"},{\"id\":\"52fce4c9-b62d-4c3e-ba33-a25cc09fbdf2\",\"type\":\"CategoricalAxis\"},{\"id\":\"57bca747-5596-435a-baa0-079b46857fb4\",\"type\":\"Grid\"},{\"id\":\"3b4c937d-40e1-4514-9740-359bba29e99d\",\"type\":\"Grid\"}],\"title\":\"Allele Effect Differences\",\"title_text_font_size\":{\"value\":\"14pt\"},\"tool_events\":{\"id\":\"eeccfd64-b1ec-413d-87c8-28a6f413e97a\",\"type\":\"ToolEvents\"},\"tools\":[{\"id\":\"d91baf01-8170-45fe-9e1f-2a06c9f26a79\",\"type\":\"PanTool\"},{\"id\":\"af13e533-e7a8-49f9-98b8-093cf77a72c7\",\"type\":\"WheelZoomTool\"},{\"id\":\"0fcd2028-f0fa-466c-9f60-9310b1b84abc\",\"type\":\"BoxZoomTool\"},{\"id\":\"fdf2c1fc-c46b-48b5-9dce-fe63045cf1fb\",\"type\":\"PreviewSaveTool\"},{\"id\":\"a7448650-407c-4dd4-b18c-bbba7efe5cb9\",\"type\":\"ResizeTool\"},{\"id\":\"6fb91990-fd67-49cf-9109-0bc0079f881a\",\"type\":\"ResetTool\"},{\"id\":\"da4c4617-c1bd-4ba0-acae-d601adf564df\",\"type\":\"HelpTool\"}],\"x_mapper_type\":\"auto\",\"x_range\":{\"id\":\"b3472bd2-d06d-4b25-a16e-c2959b4e7971\",\"type\":\"Range1d\"},\"xscale\":\"auto\",\"y_mapper_type\":\"auto\",\"y_range\":{\"id\":\"360a90e8-6c1b-43f7-967b-77627aab6d1c\",\"type\":\"FactorRange\"},\"yscale\":\"auto\"},\"id\":\"e6ac3b57-4231-4a6a-a516-e5706d65c5e6\",\"subtype\":\"Chart\",\"type\":\"Plot\"},{\"attributes\":{\"plot\":{\"id\":\"dc4674bc-dcd2-408f-8c1f-9f257ad66120\",\"subtype\":\"Chart\",\"type\":\"Plot\"}},\"id\":\"d75a80d3-5a2a-4292-901e-bed14ad13a16\",\"type\":\"HelpTool\"},{\"attributes\":{\"plot\":{\"id\":\"654c8f79-be5a-4fd6-916d-c7c31a693b3e\",\"subtype\":\"Chart\",\"type\":\"Plot\"}},\"id\":\"27b0cf67-5a2a-42eb-a4d9-7ab5467bbc17\",\"type\":\"WheelZoomTool\"},{\"attributes\":{\"plot\":{\"id\":\"14dc5235-3f84-4eb2-bdd9-1dd4340285d8\",\"subtype\":\"Chart\",\"type\":\"Plot\"}},\"id\":\"f36e1642-976c-47e0-9e88-7d5f993c300e\",\"type\":\"PanTool\"},{\"attributes\":{\"data_source\":{\"id\":\"d5564953-f1f2-4210-bf63-c9c933e57b78\",\"type\":\"ColumnDataSource\"},\"glyph\":{\"id\":\"57fe8749-5b16-492a-ac2c-507a593fae22\",\"type\":\"Circle\"},\"hover_glyph\":null,\"nonselection_glyph\":null,\"selection_glyph\":null},\"id\":\"c302e027-e9aa-4e2c-881e-093f2d966d50\",\"type\":\"GlyphRenderer\"},{\"attributes\":{},\"id\":\"dfc8ecd5-e252-412a-979c-a504a54ed2fd\",\"type\":\"BasicTickFormatter\"},{\"attributes\":{\"plot\":{\"id\":\"d7fc0b54-2ccb-4c72-aa8b-3df87826b7dd\",\"subtype\":\"Chart\",\"type\":\"Plot\"}},\"id\":\"1998b474-4077-4d02-8dc3-b7b8a04f5739\",\"type\":\"PreviewSaveTool\"},{\"attributes\":{\"plot\":{\"id\":\"28ace379-0340-48c4-80c1-c82f71499804\",\"subtype\":\"Chart\",\"type\":\"Plot\"}},\"id\":\"777b500a-9350-473f-82ee-983030a45eda\",\"type\":\"ResizeTool\"},{\"attributes\":{\"callback\":null,\"column_names\":[\"x_values\",\"y_values\"],\"data\":{\"chart_index\":[null,null,null,null,null,null,null,null,null,null],\"x_values\":[1.790593776635928,4.059422218439355,7.338097755253313,1.8887242599839098,0.3563777166599831,0.0671822119195804,2.7890181437174277,1.5084740014914755,2.509303418250477,0.42502634525807226],\"y_values\":[25,67,251,347,353,410,416,536,590,729]}},\"id\":\"8db78a0d-e14d-4867-881f-5a582177046a\",\"type\":\"ColumnDataSource\"},{\"attributes\":{},\"id\":\"6a7bf505-ffb4-4f9a-b1ef-1cb5adf899a5\",\"type\":\"BasicTicker\"},{\"attributes\":{\"bottom_units\":\"screen\",\"fill_alpha\":{\"value\":0.5},\"fill_color\":{\"value\":\"lightgrey\"},\"left_units\":\"screen\",\"level\":\"overlay\",\"line_alpha\":{\"value\":1.0},\"line_color\":{\"value\":\"black\"},\"line_dash\":[4,4],\"line_width\":{\"value\":2},\"plot\":null,\"render_mode\":\"css\",\"right_units\":\"screen\",\"top_units\":\"screen\"},\"id\":\"6f35cbb5-f19d-4c51-a21b-827f7a901bed\",\"type\":\"BoxAnnotation\"},{\"attributes\":{\"plot\":{\"id\":\"14dc5235-3f84-4eb2-bdd9-1dd4340285d8\",\"subtype\":\"Chart\",\"type\":\"Plot\"}},\"id\":\"ba71d1b2-c809-457b-8402-59d37441f3c7\",\"type\":\"ResetTool\"},{\"attributes\":{\"axis_label\":\"Locus\",\"formatter\":{\"id\":\"2a7c6a39-1f6f-4402-b36d-9c9a38a8b186\",\"type\":\"CategoricalTickFormatter\"},\"major_label_orientation\":0.7853981633974483,\"plot\":{\"id\":\"d7fc0b54-2ccb-4c72-aa8b-3df87826b7dd\",\"subtype\":\"Chart\",\"type\":\"Plot\"},\"ticker\":{\"id\":\"7056a16d-98a2-43d0-94aa-b9505cf5311a\",\"type\":\"CategoricalTicker\"}},\"id\":\"36497ff7-0f64-4a74-84c9-8d8dd378c15d\",\"type\":\"CategoricalAxis\"},{\"attributes\":{\"axis_label\":\"Locus\",\"formatter\":{\"id\":\"6a6b322a-1197-4562-a292-ce5d5d32ca61\",\"type\":\"CategoricalTickFormatter\"},\"major_label_orientation\":0.7853981633974483,\"plot\":{\"id\":\"dca55044-79ca-4da9-8c61-ae348199a301\",\"subtype\":\"Chart\",\"type\":\"Plot\"},\"ticker\":{\"id\":\"5d896c29-b57f-47ed-8360-155a395d9d5c\",\"type\":\"CategoricalTicker\"}},\"id\":\"65574ef6-949e-45ae-a04d-a16be193960b\",\"type\":\"CategoricalAxis\"},{\"attributes\":{\"below\":[{\"id\":\"80cac089-a0e0-4136-9a20-3c19a0791900\",\"type\":\"LinearAxis\"}],\"left\":[{\"id\":\"65574ef6-949e-45ae-a04d-a16be193960b\",\"type\":\"CategoricalAxis\"}],\"legend\":null,\"renderers\":[{\"id\":\"d3e8c3fc-5698-48b1-83b5-65c27130c796\",\"type\":\"BoxAnnotation\"},{\"id\":\"4e72cff1-8c49-405f-8641-0986fc23f8b7\",\"type\":\"GlyphRenderer\"},{\"id\":\"80cac089-a0e0-4136-9a20-3c19a0791900\",\"type\":\"LinearAxis\"},{\"id\":\"65574ef6-949e-45ae-a04d-a16be193960b\",\"type\":\"CategoricalAxis\"},{\"id\":\"0f20b87c-2181-4993-b84c-4d37ef1ad46f\",\"type\":\"Grid\"},{\"id\":\"a5d0124a-8b19-4a04-8fc1-c974d896d04c\",\"type\":\"Grid\"}],\"title\":\"Allele Effect Differences\",\"title_text_font_size\":{\"value\":\"14pt\"},\"tool_events\":{\"id\":\"063afddb-dba5-46e8-be2f-f1164bc6fbd7\",\"type\":\"ToolEvents\"},\"tools\":[{\"id\":\"3d3dc865-2bf8-4eab-bab0-9adb2b958d55\",\"type\":\"PanTool\"},{\"id\":\"a678e5fa-2e3f-4250-b346-62de0c3f26e3\",\"type\":\"WheelZoomTool\"},{\"id\":\"8ad6577c-a92d-4d7e-b044-fdca845512e6\",\"type\":\"BoxZoomTool\"},{\"id\":\"a2ac5e57-6d2a-4421-8e18-cf1eb3c6bf7b\",\"type\":\"PreviewSaveTool\"},{\"id\":\"df21b1fb-c19e-4631-b094-459cd5e7263a\",\"type\":\"ResizeTool\"},{\"id\":\"cb76e89a-3302-4d9c-b767-8a659fe852d1\",\"type\":\"ResetTool\"},{\"id\":\"0652fb89-e50b-49ab-b607-08f875bf806b\",\"type\":\"HelpTool\"}],\"x_mapper_type\":\"auto\",\"x_range\":{\"id\":\"f74cdc88-459f-41fa-bb71-52071d468db8\",\"type\":\"Range1d\"},\"xscale\":\"auto\",\"y_mapper_type\":\"auto\",\"y_range\":{\"id\":\"81a89d03-2d50-4820-8297-0fe14c1272dd\",\"type\":\"FactorRange\"},\"yscale\":\"auto\"},\"id\":\"dca55044-79ca-4da9-8c61-ae348199a301\",\"subtype\":\"Chart\",\"type\":\"Plot\"},{\"attributes\":{\"plot\":{\"id\":\"4b9b9aeb-f746-47a2-8c22-e7b1dcfb021b\",\"subtype\":\"Chart\",\"type\":\"Plot\"}},\"id\":\"83dd8295-41b0-4786-acbb-f73fad40d6d5\",\"type\":\"HelpTool\"},{\"attributes\":{},\"id\":\"ac89ca23-b806-4740-89f5-16e977e1f452\",\"type\":\"BasicTickFormatter\"},{\"attributes\":{\"plot\":{\"id\":\"3be86840-af6f-47f9-9dc1-74ca0400cb95\",\"subtype\":\"Chart\",\"type\":\"Plot\"}},\"id\":\"4b36b86b-9d89-4879-9171-e824f4fb3e94\",\"type\":\"PanTool\"},{\"attributes\":{\"plot\":{\"id\":\"e6ac3b57-4231-4a6a-a516-e5706d65c5e6\",\"subtype\":\"Chart\",\"type\":\"Plot\"}},\"id\":\"6fb91990-fd67-49cf-9109-0bc0079f881a\",\"type\":\"ResetTool\"},{\"attributes\":{\"plot\":{\"id\":\"654c8f79-be5a-4fd6-916d-c7c31a693b3e\",\"subtype\":\"Chart\",\"type\":\"Plot\"}},\"id\":\"7b0e0a24-85e4-4a85-a05f-c96b13a10c69\",\"type\":\"ResetTool\"},{\"attributes\":{},\"id\":\"1dd2732a-c073-45ae-bca6-8ae3755cb1d5\",\"type\":\"BasicTickFormatter\"},{\"attributes\":{\"plot\":{\"id\":\"3be86840-af6f-47f9-9dc1-74ca0400cb95\",\"subtype\":\"Chart\",\"type\":\"Plot\"},\"ticker\":{\"id\":\"be6c135e-9998-461d-9da1-bb5a9d76111e\",\"type\":\"BasicTicker\"}},\"id\":\"e43894d1-faef-4b10-a286-586a0404bfa2\",\"type\":\"Grid\"},{\"attributes\":{\"dimension\":1,\"plot\":{\"id\":\"d070a192-96e9-42b9-b6d9-a98adc888972\",\"subtype\":\"Chart\",\"type\":\"Plot\"},\"ticker\":{\"id\":\"74e03f32-4b42-42be-8af4-c47822d5f37b\",\"type\":\"BasicTicker\"}},\"id\":\"b7617601-5f3d-499e-a1b9-45d805a5390f\",\"type\":\"Grid\"},{\"attributes\":{\"callback\":null,\"column_names\":[\"x_values\",\"y_values\"],\"data\":{\"chart_index\":[null,null,null,null,null,null,null,null,null,null],\"x_values\":[1.790593776635928,4.059422218439355,7.338097755253313,1.8887242599839098,0.3563777166599831,0.0671822119195804,2.7890181437174277,1.5084740014914755,2.509303418250477,0.42502634525807226],\"y_values\":[\"None\",\"None\",\"None\",\"None\",\"None\",\"None\",\"None\",\"None\",\"None\",\"None\"]}},\"id\":\"0e8e54d2-eb86-45f9-84ff-935856a07ad4\",\"type\":\"ColumnDataSource\"},{\"attributes\":{\"below\":[{\"id\":\"b4a54044-3202-4d78-a077-dd0bf394707b\",\"type\":\"LinearAxis\"}],\"left\":[{\"id\":\"aa6ba208-058c-4240-93fe-7b5347bb3595\",\"type\":\"LinearAxis\"}],\"legend\":null,\"renderers\":[{\"id\":\"5d4c1227-f571-4081-865c-94c51dedbe72\",\"type\":\"BoxAnnotation\"},{\"id\":\"c298d93b-01ed-41ce-a03d-8d53560e254c\",\"type\":\"GlyphRenderer\"},{\"id\":\"b4a54044-3202-4d78-a077-dd0bf394707b\",\"type\":\"LinearAxis\"},{\"id\":\"aa6ba208-058c-4240-93fe-7b5347bb3595\",\"type\":\"LinearAxis\"},{\"id\":\"bc92d142-c1f5-4d41-8942-b01d2d0de910\",\"type\":\"Grid\"},{\"id\":\"79aa7150-8117-4a33-999d-e6ee509e2a7c\",\"type\":\"Grid\"}],\"title\":\"Allele Effect Differences\",\"title_text_font_size\":{\"value\":\"14pt\"},\"tool_events\":{\"id\":\"532e7299-677f-4e7e-88d2-80610990130e\",\"type\":\"ToolEvents\"},\"tools\":[{\"id\":\"2ce78315-cbc5-4554-a49a-dd398502407e\",\"type\":\"PanTool\"},{\"id\":\"03db83ee-cd1d-4130-a252-614b11f45295\",\"type\":\"WheelZoomTool\"},{\"id\":\"1fb7d2b3-a8ac-4831-81b7-7977b067ac51\",\"type\":\"BoxZoomTool\"},{\"id\":\"02b9ceb2-55b0-4ac2-a8c4-aa39b194c722\",\"type\":\"PreviewSaveTool\"},{\"id\":\"777b500a-9350-473f-82ee-983030a45eda\",\"type\":\"ResizeTool\"},{\"id\":\"363bd9a1-f1af-4204-a04d-3440db02064a\",\"type\":\"ResetTool\"},{\"id\":\"4da45cb1-07ba-49f1-85fd-a6ec60bd00ae\",\"type\":\"HelpTool\"}],\"x_mapper_type\":\"auto\",\"x_range\":{\"id\":\"6978a434-f009-4f25-ac7d-0cea9df104b2\",\"type\":\"Range1d\"},\"xscale\":\"auto\",\"y_mapper_type\":\"auto\",\"y_range\":{\"id\":\"cf0b2afe-4da8-44a6-b07f-f0985e88be15\",\"type\":\"Range1d\"},\"yscale\":\"auto\"},\"id\":\"28ace379-0340-48c4-80c1-c82f71499804\",\"subtype\":\"Chart\",\"type\":\"Plot\"},{\"attributes\":{\"axis_label\":\"Locus\",\"formatter\":{\"id\":\"5bbce9e0-c3c0-4af3-b9da-2ca8df3ddc71\",\"type\":\"CategoricalTickFormatter\"},\"major_label_orientation\":0.7853981633974483,\"plot\":{\"id\":\"dc4674bc-dcd2-408f-8c1f-9f257ad66120\",\"subtype\":\"Chart\",\"type\":\"Plot\"},\"ticker\":{\"id\":\"e9c855c3-0631-4c35-809b-3f3c3f2127c1\",\"type\":\"CategoricalTicker\"}},\"id\":\"974f1a64-5d45-473e-af5d-8f498165c633\",\"type\":\"CategoricalAxis\"},{\"attributes\":{},\"id\":\"2ba86f2f-a068-42ae-88d8-df6ea5b34902\",\"type\":\"CategoricalTickFormatter\"},{\"attributes\":{\"plot\":{\"id\":\"d070a192-96e9-42b9-b6d9-a98adc888972\",\"subtype\":\"Chart\",\"type\":\"Plot\"}},\"id\":\"917f1c48-e593-4e1d-a2d6-4f53b1513d8a\",\"type\":\"WheelZoomTool\"},{\"attributes\":{},\"id\":\"e6a268ec-88cf-4e2f-9635-d982424137db\",\"type\":\"ToolEvents\"},{\"attributes\":{\"callback\":null,\"end\":8.065189309586685,\"start\":-0.6599093424137928},\"id\":\"6978a434-f009-4f25-ac7d-0cea9df104b2\",\"type\":\"Range1d\"},{\"attributes\":{},\"id\":\"7056a16d-98a2-43d0-94aa-b9505cf5311a\",\"type\":\"CategoricalTicker\"},{\"attributes\":{\"plot\":{\"id\":\"4b9b9aeb-f746-47a2-8c22-e7b1dcfb021b\",\"subtype\":\"Chart\",\"type\":\"Plot\"}},\"id\":\"b0efee37-fb8d-4604-a4ed-d7ed6b519428\",\"type\":\"PreviewSaveTool\"},{\"attributes\":{\"plot\":{\"id\":\"3be86840-af6f-47f9-9dc1-74ca0400cb95\",\"subtype\":\"Chart\",\"type\":\"Plot\"}},\"id\":\"aef3383d-4018-4b70-a60c-212593de4cda\",\"type\":\"ResizeTool\"},{\"attributes\":{\"overlay\":{\"id\":\"709c2563-236d-4d74-b2ba-691d1247ad61\",\"type\":\"BoxAnnotation\"},\"plot\":{\"id\":\"d7fc0b54-2ccb-4c72-aa8b-3df87826b7dd\",\"subtype\":\"Chart\",\"type\":\"Plot\"}},\"id\":\"cc91681c-f7ed-4d54-9f9e-2c1fe9c48f18\",\"type\":\"BoxZoomTool\"},{\"attributes\":{\"dimension\":1,\"plot\":{\"id\":\"dc4674bc-dcd2-408f-8c1f-9f257ad66120\",\"subtype\":\"Chart\",\"type\":\"Plot\"},\"ticker\":{\"id\":\"e9c855c3-0631-4c35-809b-3f3c3f2127c1\",\"type\":\"CategoricalTicker\"}},\"id\":\"a749b3a7-e99b-42df-ab0c-7c3e0ce31441\",\"type\":\"Grid\"},{\"attributes\":{},\"id\":\"532e7299-677f-4e7e-88d2-80610990130e\",\"type\":\"ToolEvents\"},{\"attributes\":{\"callback\":null,\"column_names\":[\"x_values\",\"y_values\"],\"data\":{\"chart_index\":[null,null,null,null,null,null,null,null,null,null],\"x_values\":[1.790593776635928,4.059422218439355,7.338097755253313,1.8887242599839098,0.3563777166599831,0.0671822119195804,2.7890181437174277,1.5084740014914755,2.509303418250477,0.42502634525807226],\"y_values\":[25,67,251,347,353,410,416,536,590,729]}},\"id\":\"d5564953-f1f2-4210-bf63-c9c933e57b78\",\"type\":\"ColumnDataSource\"},{\"attributes\":{\"callback\":null,\"column_names\":[\"x_values\",\"y_values\"],\"data\":{\"chart_index\":[null,null,null,null,null,null,null,null,null,null],\"x_values\":[1.790593776635928,4.059422218439355,7.338097755253313,1.8887242599839098,0.3563777166599831,0.0671822119195804,2.7890181437174277,1.5084740014914755,2.509303418250477,0.42502634525807226],\"y_values\":[\"None\",\"None\",\"None\",\"None\",\"None\",\"None\",\"None\",\"None\",\"None\",\"None\"]}},\"id\":\"0108a250-640c-4f04-829f-33f58d0f849c\",\"type\":\"ColumnDataSource\"},{\"attributes\":{},\"id\":\"063afddb-dba5-46e8-be2f-f1164bc6fbd7\",\"type\":\"ToolEvents\"},{\"attributes\":{\"overlay\":{\"id\":\"5d4c1227-f571-4081-865c-94c51dedbe72\",\"type\":\"BoxAnnotation\"},\"plot\":{\"id\":\"28ace379-0340-48c4-80c1-c82f71499804\",\"subtype\":\"Chart\",\"type\":\"Plot\"}},\"id\":\"1fb7d2b3-a8ac-4831-81b7-7977b067ac51\",\"type\":\"BoxZoomTool\"},{\"attributes\":{\"plot\":{\"id\":\"d070a192-96e9-42b9-b6d9-a98adc888972\",\"subtype\":\"Chart\",\"type\":\"Plot\"}},\"id\":\"1c6abb99-bb51-4463-8cef-bfaf92ccca1d\",\"type\":\"ResizeTool\"},{\"attributes\":{},\"id\":\"2102e4df-82b5-4c9f-9558-797e52591a37\",\"type\":\"CategoricalTickFormatter\"},{\"attributes\":{},\"id\":\"94781bb7-ee1f-42fa-90e5-baf10fa10a1b\",\"type\":\"BasicTickFormatter\"},{\"attributes\":{},\"id\":\"3a8eddc0-892c-4d4f-b53e-a95aaec295d8\",\"type\":\"ToolEvents\"},{\"attributes\":{\"plot\":{\"id\":\"d070a192-96e9-42b9-b6d9-a98adc888972\",\"subtype\":\"Chart\",\"type\":\"Plot\"}},\"id\":\"9495e13a-858b-4908-89e2-a440ecbd17d3\",\"type\":\"HelpTool\"},{\"attributes\":{\"below\":[{\"id\":\"10aaee64-2c11-4ab9-8617-0a49b6059534\",\"type\":\"LinearAxis\"}],\"left\":[{\"id\":\"9e888f78-d1c3-4fea-bc5d-b77452baf47e\",\"type\":\"LinearAxis\"}],\"legend\":null,\"renderers\":[{\"id\":\"a52fa28f-6e14-40b1-85bb-fb42a2f47c2a\",\"type\":\"BoxAnnotation\"},{\"id\":\"eb22700d-b934-4987-a7c1-15d6a2a34000\",\"type\":\"GlyphRenderer\"},{\"id\":\"10aaee64-2c11-4ab9-8617-0a49b6059534\",\"type\":\"LinearAxis\"},{\"id\":\"9e888f78-d1c3-4fea-bc5d-b77452baf47e\",\"type\":\"LinearAxis\"},{\"id\":\"d2872f6c-b6c6-40d6-b414-fe8555c6c8c6\",\"type\":\"Grid\"},{\"id\":\"b7617601-5f3d-499e-a1b9-45d805a5390f\",\"type\":\"Grid\"}],\"title\":\"Allele Effect Differences\",\"title_text_font_size\":{\"value\":\"14pt\"},\"tool_events\":{\"id\":\"3a8eddc0-892c-4d4f-b53e-a95aaec295d8\",\"type\":\"ToolEvents\"},\"tools\":[{\"id\":\"c5bcaed4-366a-442c-936d-6f7210167c5a\",\"type\":\"PanTool\"},{\"id\":\"917f1c48-e593-4e1d-a2d6-4f53b1513d8a\",\"type\":\"WheelZoomTool\"},{\"id\":\"b7c01085-2cda-4f64-bae4-09e9504b3263\",\"type\":\"BoxZoomTool\"},{\"id\":\"57d625d6-bd17-4992-8b39-e4cd984ebf82\",\"type\":\"PreviewSaveTool\"},{\"id\":\"1c6abb99-bb51-4463-8cef-bfaf92ccca1d\",\"type\":\"ResizeTool\"},{\"id\":\"4fe139f5-d96b-4cee-932b-0c242a26c48d\",\"type\":\"ResetTool\"},{\"id\":\"9495e13a-858b-4908-89e2-a440ecbd17d3\",\"type\":\"HelpTool\"}],\"x_mapper_type\":\"auto\",\"x_range\":{\"id\":\"e9be8948-118a-437f-87a9-e8c443ab690e\",\"type\":\"Range1d\"},\"xscale\":\"auto\",\"y_mapper_type\":\"auto\",\"y_range\":{\"id\":\"4f50d0e6-ca88-4b8e-8306-8dac5fbea365\",\"type\":\"Range1d\"},\"yscale\":\"auto\"},\"id\":\"d070a192-96e9-42b9-b6d9-a98adc888972\",\"subtype\":\"Chart\",\"type\":\"Plot\"},{\"attributes\":{\"callback\":null,\"column_names\":[\"x_values\",\"y_values\"],\"data\":{\"chart_index\":[null,null,null,null,null,null,null,null,null,null],\"x_values\":[1.790593776635928,4.059422218439355,7.338097755253313,1.8887242599839098,0.3563777166599831,0.0671822119195804,2.7890181437174277,1.5084740014914755,2.509303418250477,0.42502634525807226],\"y_values\":[25,67,251,347,353,410,416,536,590,729]}},\"id\":\"7b89c135-cbb7-4527-8f4c-dae1a8161b6f\",\"type\":\"ColumnDataSource\"},{\"attributes\":{\"plot\":{\"id\":\"4b9b9aeb-f746-47a2-8c22-e7b1dcfb021b\",\"subtype\":\"Chart\",\"type\":\"Plot\"}},\"id\":\"aa7f80de-ba41-4b03-a269-37601d94382e\",\"type\":\"PanTool\"},{\"attributes\":{\"plot\":{\"id\":\"d070a192-96e9-42b9-b6d9-a98adc888972\",\"subtype\":\"Chart\",\"type\":\"Plot\"}},\"id\":\"c5bcaed4-366a-442c-936d-6f7210167c5a\",\"type\":\"PanTool\"},{\"attributes\":{\"plot\":{\"id\":\"14dc5235-3f84-4eb2-bdd9-1dd4340285d8\",\"subtype\":\"Chart\",\"type\":\"Plot\"}},\"id\":\"3723f33b-89c7-4656-beb7-2107ddb2cb97\",\"type\":\"PreviewSaveTool\"}],\"root_ids\":[\"14dc5235-3f84-4eb2-bdd9-1dd4340285d8\",\"dc4674bc-dcd2-408f-8c1f-9f257ad66120\",\"e6ac3b57-4231-4a6a-a516-e5706d65c5e6\",\"d070a192-96e9-42b9-b6d9-a98adc888972\",\"654c8f79-be5a-4fd6-916d-c7c31a693b3e\",\"3be86840-af6f-47f9-9dc1-74ca0400cb95\",\"28ace379-0340-48c4-80c1-c82f71499804\",\"dca55044-79ca-4da9-8c61-ae348199a301\",\"4b9b9aeb-f746-47a2-8c22-e7b1dcfb021b\",\"d7fc0b54-2ccb-4c72-aa8b-3df87826b7dd\"]},\"title\":\"Bokeh Application\",\"version\":\"0.11.1\"}};\n",
       "            var render_items = [{\"docid\":\"9ed1eb3c-f833-4a69-a5a0-48a52ac0c458\",\"elementid\":\"1ac5c0cd-6ce5-436c-b0d6-23d9614d0c61\",\"modelid\":\"d7fc0b54-2ccb-4c72-aa8b-3df87826b7dd\",\"notebook_comms_target\":\"d811164b-c859-42fb-b44a-0097ab61bf54\"}];\n",
       "            \n",
       "            Bokeh.embed.embed_items(docs_json, render_items);\n",
       "        });\n",
       "      },\n",
       "      function(Bokeh) {\n",
       "      }\n",
       "    ];\n",
       "  \n",
       "    function run_inline_js() {\n",
       "      for (var i = 0; i < inline_js.length; i++) {\n",
       "        inline_js[i](window.Bokeh);\n",
       "      }\n",
       "    }\n",
       "  \n",
       "    if (window._bokeh_is_loading === 0) {\n",
       "      console.log(\"Bokeh: BokehJS loaded, going straight to plotting\");\n",
       "      run_inline_js();\n",
       "    } else {\n",
       "      load_libs(js_urls, function() {\n",
       "        console.log(\"Bokeh: BokehJS plotting callback run at\", now());\n",
       "        run_inline_js();\n",
       "      });\n",
       "    }\n",
       "  }(this));\n",
       "</script>"
      ]
     },
     "metadata": {},
     "output_type": "display_data"
    },
    {
     "data": {
      "text/html": [
       "<p><code>&lt;Bokeh Notebook handle for <strong>In[51]</strong>&gt;</code></p>"
      ],
      "text/plain": [
       "<bokeh.io._CommsHandle at 0x94a30f0>"
      ]
     },
     "execution_count": 51,
     "metadata": {},
     "output_type": "execute_result"
    }
   ],
   "source": [
    "scatter = Scatter(allele_effects, x='difference', y='locus', title='Allele Effect Differences',\n",
    "                 xlabel='Difference', ylabel='Locus')\n",
    "show(scatter)"
   ]
  },
  {
   "cell_type": "code",
   "execution_count": 33,
   "metadata": {
    "collapsed": false
   },
   "outputs": [
    {
     "data": {
      "text/plain": [
       "<bokeh.charts.chart.Chart at 0x9409400>"
      ]
     },
     "execution_count": 33,
     "metadata": {},
     "output_type": "execute_result"
    }
   ],
   "source": [
    "scatter"
   ]
  },
  {
   "cell_type": "code",
   "execution_count": null,
   "metadata": {
    "collapsed": true
   },
   "outputs": [],
   "source": []
  }
 ],
 "metadata": {
  "kernelspec": {
   "display_name": "Python 3",
   "language": "python",
   "name": "python3"
  },
  "language_info": {
   "codemirror_mode": {
    "name": "ipython",
    "version": 3
   },
   "file_extension": ".py",
   "mimetype": "text/x-python",
   "name": "python",
   "nbconvert_exporter": "python",
   "pygments_lexer": "ipython3",
   "version": "3.4.4"
  }
 },
 "nbformat": 4,
 "nbformat_minor": 0
}
