{
 "cells": [
  {
   "cell_type": "code",
   "execution_count": 43,
   "metadata": {
    "collapsed": true
   },
   "outputs": [],
   "source": [
    "import numpy as np\n",
    "import pandas as pd\n",
    "from bokeh.charts import Scatter, show\n",
    "from bokeh.io import output_notebook"
   ]
  },
  {
   "cell_type": "code",
   "execution_count": 44,
   "metadata": {
    "collapsed": true
   },
   "outputs": [],
   "source": [
    "allele_effects = pd.read_hdf('allele_effects.hdf')"
   ]
  },
  {
   "cell_type": "code",
   "execution_count": 14,
   "metadata": {
    "collapsed": false
   },
   "outputs": [],
   "source": [
    "loci = [str(locus) for locus in allele_effects.locus]"
   ]
  },
  {
   "cell_type": "code",
   "execution_count": 45,
   "metadata": {
    "collapsed": false
   },
   "outputs": [],
   "source": [
    "allele_effects.index = list(allele_effects.index)"
   ]
  },
  {
   "cell_type": "code",
   "execution_count": 46,
   "metadata": {
    "collapsed": false
   },
   "outputs": [
    {
     "data": {
      "text/html": [
       "<div>\n",
       "<table border=\"1\" class=\"dataframe\">\n",
       "  <thead>\n",
       "    <tr style=\"text-align: right;\">\n",
       "      <th></th>\n",
       "      <th>locus</th>\n",
       "      <th>alpha_allele</th>\n",
       "      <th>alpha_effect</th>\n",
       "      <th>beta_allele</th>\n",
       "      <th>beta_effect</th>\n",
       "      <th>difference</th>\n",
       "    </tr>\n",
       "  </thead>\n",
       "  <tbody>\n",
       "    <tr>\n",
       "      <th>25</th>\n",
       "      <td>25</td>\n",
       "      <td>2</td>\n",
       "      <td>3.184295</td>\n",
       "      <td>1</td>\n",
       "      <td>1.393701</td>\n",
       "      <td>1.790594</td>\n",
       "    </tr>\n",
       "    <tr>\n",
       "      <th>67</th>\n",
       "      <td>67</td>\n",
       "      <td>3</td>\n",
       "      <td>1.307806</td>\n",
       "      <td>1</td>\n",
       "      <td>5.367228</td>\n",
       "      <td>4.059422</td>\n",
       "    </tr>\n",
       "    <tr>\n",
       "      <th>251</th>\n",
       "      <td>251</td>\n",
       "      <td>3</td>\n",
       "      <td>0.697650</td>\n",
       "      <td>1</td>\n",
       "      <td>8.035748</td>\n",
       "      <td>7.338098</td>\n",
       "    </tr>\n",
       "    <tr>\n",
       "      <th>347</th>\n",
       "      <td>347</td>\n",
       "      <td>2</td>\n",
       "      <td>0.630518</td>\n",
       "      <td>0</td>\n",
       "      <td>2.519243</td>\n",
       "      <td>1.888724</td>\n",
       "    </tr>\n",
       "    <tr>\n",
       "      <th>353</th>\n",
       "      <td>353</td>\n",
       "      <td>3</td>\n",
       "      <td>4.030080</td>\n",
       "      <td>1</td>\n",
       "      <td>4.386458</td>\n",
       "      <td>0.356378</td>\n",
       "    </tr>\n",
       "    <tr>\n",
       "      <th>410</th>\n",
       "      <td>410</td>\n",
       "      <td>2</td>\n",
       "      <td>2.489311</td>\n",
       "      <td>0</td>\n",
       "      <td>2.556493</td>\n",
       "      <td>0.067182</td>\n",
       "    </tr>\n",
       "    <tr>\n",
       "      <th>416</th>\n",
       "      <td>416</td>\n",
       "      <td>1</td>\n",
       "      <td>2.098852</td>\n",
       "      <td>2</td>\n",
       "      <td>4.887871</td>\n",
       "      <td>2.789018</td>\n",
       "    </tr>\n",
       "    <tr>\n",
       "      <th>536</th>\n",
       "      <td>536</td>\n",
       "      <td>2</td>\n",
       "      <td>3.567773</td>\n",
       "      <td>1</td>\n",
       "      <td>2.059299</td>\n",
       "      <td>1.508474</td>\n",
       "    </tr>\n",
       "    <tr>\n",
       "      <th>590</th>\n",
       "      <td>590</td>\n",
       "      <td>3</td>\n",
       "      <td>5.546121</td>\n",
       "      <td>1</td>\n",
       "      <td>3.036817</td>\n",
       "      <td>2.509303</td>\n",
       "    </tr>\n",
       "    <tr>\n",
       "      <th>729</th>\n",
       "      <td>729</td>\n",
       "      <td>1</td>\n",
       "      <td>1.362000</td>\n",
       "      <td>3</td>\n",
       "      <td>0.936974</td>\n",
       "      <td>0.425026</td>\n",
       "    </tr>\n",
       "  </tbody>\n",
       "</table>\n",
       "</div>"
      ],
      "text/plain": [
       "     locus  alpha_allele  alpha_effect  beta_allele  beta_effect  difference\n",
       "25      25             2      3.184295            1     1.393701    1.790594\n",
       "67      67             3      1.307806            1     5.367228    4.059422\n",
       "251    251             3      0.697650            1     8.035748    7.338098\n",
       "347    347             2      0.630518            0     2.519243    1.888724\n",
       "353    353             3      4.030080            1     4.386458    0.356378\n",
       "410    410             2      2.489311            0     2.556493    0.067182\n",
       "416    416             1      2.098852            2     4.887871    2.789018\n",
       "536    536             2      3.567773            1     2.059299    1.508474\n",
       "590    590             3      5.546121            1     3.036817    2.509303\n",
       "729    729             1      1.362000            3     0.936974    0.425026"
      ]
     },
     "execution_count": 46,
     "metadata": {},
     "output_type": "execute_result"
    }
   ],
   "source": [
    "allele_effects"
   ]
  },
  {
   "cell_type": "code",
   "execution_count": 47,
   "metadata": {
    "collapsed": false
   },
   "outputs": [],
   "source": [
    "allele_effects.locus = allele_effects.locus.astype(str)"
   ]
  },
  {
   "cell_type": "code",
   "execution_count": 16,
   "metadata": {
    "collapsed": false
   },
   "outputs": [],
   "source": [
    "allele_effects.drop('locus', axis=1, inplace=True)"
   ]
  },
  {
   "cell_type": "code",
   "execution_count": 19,
   "metadata": {
    "collapsed": false
   },
   "outputs": [],
   "source": [
    "allele_effects.index = list(allele_effects.index)"
   ]
  },
  {
   "cell_type": "code",
   "execution_count": 26,
   "metadata": {
    "collapsed": false
   },
   "outputs": [
    {
     "data": {
      "text/plain": [
       "Index(['alpha_allele', 'alpha_effect', 'beta_allele', 'beta_effect',\n",
       "       'difference'],\n",
       "      dtype='object')"
      ]
     },
     "execution_count": 26,
     "metadata": {},
     "output_type": "execute_result"
    }
   ],
   "source": [
    "allele_effects.columns"
   ]
  },
  {
   "cell_type": "code",
   "execution_count": 49,
   "metadata": {
    "collapsed": false
   },
   "outputs": [
    {
     "data": {
      "text/html": [
       "\n",
       "    <div class=\"bk-banner\">\n",
       "        <a href=\"http://bokeh.pydata.org\" target=\"_blank\" class=\"bk-logo bk-logo-small bk-logo-notebook\"></a>\n",
       "        <span id=\"ecc35d62-d484-452b-a6bb-e3cf2cf22d5f\">Loading BokehJS ...</span>\n",
       "    </div>"
      ]
     },
     "metadata": {},
     "output_type": "display_data"
    },
    {
     "data": {
      "application/javascript": [
       "\n",
       "(function(global) {\n",
       "  function now() {\n",
       "    return new Date();\n",
       "  }\n",
       "\n",
       "  if (typeof (window._bokeh_onload_callbacks) === \"undefined\") {\n",
       "    window._bokeh_onload_callbacks = [];\n",
       "  }\n",
       "\n",
       "  function run_callbacks() {\n",
       "    window._bokeh_onload_callbacks.forEach(function(callback) { callback() });\n",
       "    delete window._bokeh_onload_callbacks\n",
       "    console.info(\"Bokeh: all callbacks have finished\");\n",
       "  }\n",
       "\n",
       "  function load_libs(js_urls, callback) {\n",
       "    window._bokeh_onload_callbacks.push(callback);\n",
       "    if (window._bokeh_is_loading > 0) {\n",
       "      console.log(\"Bokeh: BokehJS is being loaded, scheduling callback at\", now());\n",
       "      return null;\n",
       "    }\n",
       "    if (js_urls == null || js_urls.length === 0) {\n",
       "      run_callbacks();\n",
       "      return null;\n",
       "    }\n",
       "    console.log(\"Bokeh: BokehJS not loaded, scheduling load and callback at\", now());\n",
       "    window._bokeh_is_loading = js_urls.length;\n",
       "    for (var i = 0; i < js_urls.length; i++) {\n",
       "      var url = js_urls[i];\n",
       "      var s = document.createElement('script');\n",
       "      s.src = url;\n",
       "      s.async = false;\n",
       "      s.onreadystatechange = s.onload = function() {\n",
       "        window._bokeh_is_loading--;\n",
       "        if (window._bokeh_is_loading === 0) {\n",
       "          console.log(\"Bokeh: all BokehJS libraries loaded\");\n",
       "          run_callbacks()\n",
       "        }\n",
       "      };\n",
       "      s.onerror = function() {\n",
       "        console.warn(\"failed to load library \" + url);\n",
       "      };\n",
       "      console.log(\"Bokeh: injecting script tag for BokehJS library: \", url);\n",
       "      document.getElementsByTagName(\"head\")[0].appendChild(s);\n",
       "    }\n",
       "  };\n",
       "\n",
       "  var js_urls = ['https://cdn.pydata.org/bokeh/release/bokeh-0.11.1.min.js', 'https://cdn.pydata.org/bokeh/release/bokeh-widgets-0.11.1.min.js', 'https://cdn.pydata.org/bokeh/release/bokeh-compiler-0.11.1.min.js'];\n",
       "\n",
       "  var inline_js = [\n",
       "    function(Bokeh) {\n",
       "      Bokeh.set_log_level(\"info\");\n",
       "    },\n",
       "    \n",
       "    function(Bokeh) {\n",
       "      Bokeh.$(\"#ecc35d62-d484-452b-a6bb-e3cf2cf22d5f\").text(\"BokehJS successfully loaded\");\n",
       "    },\n",
       "    function(Bokeh) {\n",
       "      console.log(\"Bokeh: injecting CSS: https://cdn.pydata.org/bokeh/release/bokeh-0.11.1.min.css\");\n",
       "      Bokeh.embed.inject_css(\"https://cdn.pydata.org/bokeh/release/bokeh-0.11.1.min.css\");\n",
       "      console.log(\"Bokeh: injecting CSS: https://cdn.pydata.org/bokeh/release/bokeh-widgets-0.11.1.min.css\");\n",
       "      Bokeh.embed.inject_css(\"https://cdn.pydata.org/bokeh/release/bokeh-widgets-0.11.1.min.css\");\n",
       "    }\n",
       "  ];\n",
       "\n",
       "  function run_inline_js() {\n",
       "    for (var i = 0; i < inline_js.length; i++) {\n",
       "      inline_js[i](window.Bokeh);\n",
       "    }\n",
       "  }\n",
       "\n",
       "  if (window._bokeh_is_loading === 0) {\n",
       "    console.log(\"Bokeh: BokehJS loaded, going straight to plotting\");\n",
       "    run_inline_js();\n",
       "  } else {\n",
       "    load_libs(js_urls, function() {\n",
       "      console.log(\"Bokeh: BokehJS plotting callback run at\", now());\n",
       "      run_inline_js();\n",
       "    });\n",
       "  }\n",
       "}(this));"
      ]
     },
     "metadata": {},
     "output_type": "display_data"
    }
   ],
   "source": [
    "output_notebook()"
   ]
  },
  {
   "cell_type": "code",
   "execution_count": 51,
   "metadata": {
    "collapsed": false
   },
   "outputs": [
    {
     "data": {
      "text/html": [
       "\n",
       "\n",
       "    <div class=\"plotdiv\" id=\"1ac5c0cd-6ce5-436c-b0d6-23d9614d0c61\"></div>\n",
       "<script type=\"text/javascript\">\n",
       "  \n",
       "  (function(global) {\n",
       "    function now() {\n",
       "      return new Date();\n",
       "    }\n",
       "  \n",
       "    if (typeof (window._bokeh_onload_callbacks) === \"undefined\") {\n",
       "      window._bokeh_onload_callbacks = [];\n",
       "    }\n",
       "  \n",
       "    function run_callbacks() {\n",
       "      window._bokeh_onload_callbacks.forEach(function(callback) { callback() });\n",
       "      delete window._bokeh_onload_callbacks\n",
       "      console.info(\"Bokeh: all callbacks have finished\");\n",
       "    }\n",
       "  \n",
       "    function load_libs(js_urls, callback) {\n",
       "      window._bokeh_onload_callbacks.push(callback);\n",
       "      if (window._bokeh_is_loading > 0) {\n",
       "        console.log(\"Bokeh: BokehJS is being loaded, scheduling callback at\", now());\n",
       "        return null;\n",
       "      }\n",
       "      if (js_urls == null || js_urls.length === 0) {\n",
       "        run_callbacks();\n",
       "        return null;\n",
       "      }\n",
       "      console.log(\"Bokeh: BokehJS not loaded, scheduling load and callback at\", now());\n",
       "      window._bokeh_is_loading = js_urls.length;\n",
       "      for (var i = 0; i < js_urls.length; i++) {\n",
       "        var url = js_urls[i];\n",
       "        var s = document.createElement('script');\n",
       "        s.src = url;\n",
       "        s.async = false;\n",
       "        s.onreadystatechange = s.onload = function() {\n",
       "          window._bokeh_is_loading--;\n",
       "          if (window._bokeh_is_loading === 0) {\n",
       "            console.log(\"Bokeh: all BokehJS libraries loaded\");\n",
       "            run_callbacks()\n",
       "          }\n",
       "        };\n",
       "        s.onerror = function() {\n",
       "          console.warn(\"failed to load library \" + url);\n",
       "        };\n",
       "        console.log(\"Bokeh: injecting script tag for BokehJS library: \", url);\n",
       "        document.getElementsByTagName(\"head\")[0].appendChild(s);\n",
       "      }\n",
       "    };var element = document.getElementById(\"1ac5c0cd-6ce5-436c-b0d6-23d9614d0c61\");\n",
       "    if (element == null) {\n",
       "      console.log(\"Bokeh: ERROR: autoload.js configured with elementid '1ac5c0cd-6ce5-436c-b0d6-23d9614d0c61' but no matching script tag was found. \")\n",
       "      return false;\n",
       "    }\n",
       "  \n",
       "    var js_urls = [];\n",
       "  \n",
       "    var inline_js = [\n",
       "      function(Bokeh) {\n",
       "        Bokeh.$(function() {\n",
       "            var docs_json = {\"9ed1eb3c-f833-4a69-a5a0-48a52ac0c458\":{\"roots\":{\"references\":[{\"attributes\":{\"plot\":{\"id\":\"d7fc0b54-2ccb-4c72-aa8b-3df87826b7dd\",\"subtype\":\"Chart\",\"type\":\"Plot\"},\"ticker\":{\"id\":\"e552017a-7ced-4824-a475-25ab9ccd697d\",\"type\":\"BasicTicker\"}},\"id\":\"e53d09f4-c873-4959-8b50-5543b9f0f312\",\"type\":\"Grid\"},{\"attributes\":{\"dimension\":1,\"plot\":{\"id\":\"14dc5235-3f84-4eb2-bdd9-1dd4340285d8\",\"subtype\":\"Chart\",\"type\":\"Plot\"},\"ticker\":{\"id\":\"d206ba4c-99fc-40e8-8ec8-8e1ef521ea6e\",\"type\":\"CategoricalTicker\"}},\"id\":\"fc731635-5cb7-45fb-869d-ebd4faecc0e8\",\"type\":\"Grid\"},{\"attributes\":{},\"id\":\"74e03f32-4b42-42be-8af4-c47822d5f37b\",\"type\":\"BasicTicker\"},{\"attributes\":{\"below\":[{\"id\":\"ac0faa03-8850-4eba-b7e5-d8634b5ba8e9\",\"type\":\"LinearAxis\"}],\"left\":[{\"id\":\"36497ff7-0f64-4a74-84c9-8d8dd378c15d\",\"type\":\"CategoricalAxis\"}],\"legend\":null,\"renderers\":[{\"id\":\"709c2563-236d-4d74-b2ba-691d1247ad61\",\"type\":\"BoxAnnotation\"},{\"id\":\"994515fa-852b-47aa-9928-c57c38a7ee97\",\"type\":\"GlyphRenderer\"},{\"id\":\"ac0faa03-8850-4eba-b7e5-d8634b5ba8e9\",\"type\":\"LinearAxis\"},{\"id\":\"36497ff7-0f64-4a74-84c9-8d8dd378c15d\",\"type\":\"CategoricalAxis\"},{\"id\":\"e53d09f4-c873-4959-8b50-5543b9f0f312\",\"type\":\"Grid\"},{\"id\":\"f6678c28-44a5-486b-9219-8f52acb2959c\",\"type\":\"Grid\"}],\"title\":\"Allele Effect Differences\",\"title_text_font_size\":{\"value\":\"14pt\"},\"tool_events\":{\"id\":\"c0fd5d0d-a818-45d0-a92c-4b4e9b33c60d\",\"type\":\"ToolEvents\"},\"tools\":[{\"id\":\"7c106950-2281-464c-9c6e-2187e0844296\",\"type\":\"PanTool\"},{\"id\":\"9d66d496-1e3e-4291-a767-3c2a762d97d7\",\"type\":\"WheelZoomTool\"},{\"id\":\"cc91681c-f7ed-4d54-9f9e-2c1fe9c48f18\",\"type\":\"BoxZoomTool\"},{\"id\":\"1998b474-4077-4d02-8dc3-b7b8a04f5739\",\"type\":\"PreviewSaveTool\"},{\"id\":\"2571fa20-27aa-418e-b8c3-a65af545b41e\",\"type\":\"ResizeTool\"},{\"id\":\"15b0308b-44aa-46b2-8b75-f336e107d09b\",\"type\":\"ResetTool\"},{\"id\":\"46e96498-03e6-4af3-a089-822a6fd364b0\",\"type\":\"HelpTool\"}],\"x_mapper_type\":\"auto\",\"x_range\":{\"id\":\"8316fc48-fcf8-49a8-89c3-f04f80fd587a\",\"type\":\"Range1d\"},\"xscale\":\"auto\",\"y_mapper_type\":\"auto\",\"y_range\":{\"id\":\"d6ef64d1-6e2f-4ec4-aab3-211251880899\",\"type\":\"FactorRange\"},\"yscale\":\"auto\"},\"id\":\"d7fc0b54-2ccb-4c72-aa8b-3df87826b7dd\",\"subtype\":\"Chart\",\"type\":\"Plot\"},{\"attributes\":{\"plot\":{\"id\":\"d7fc0b54-2ccb-4c72-aa8b-3df87826b7dd\",\"subtype\":\"Chart\",\"type\":\"Plot\"}},\"id\":\"15b0308b-44aa-46b2-8b75-f336e107d09b\",\"type\":\"ResetTool\"},{\"attributes\":{\"plot\":{\"id\":\"dc4674bc-dcd2-408f-8c1f-9f257ad66120\",\"subtype\":\"Chart\",\"type\":\"Plot\"}},\"id\":\"ede9363f-f13d-4358-82b3-a4dcbce392fe\",\"type\":\"ResizeTool\"},{\"attributes\":{\"plot\":{\"id\":\"d7fc0b54-2ccb-4c72-aa8b-3df87826b7dd\",\"subtype\":\"Chart\",\"type\":\"Plot\"}},\"id\":\"46e96498-03e6-4af3-a089-822a6fd364b0\",\"type\":\"HelpTool\"},{\"attributes\":{\"axis_label\":\"Locus\",\"formatter\":{\"id\":\"1dd2732a-c073-45ae-bca6-8ae3755cb1d5\",\"type\":\"BasicTickFormatter\"},\"plot\":{\"id\":\"654c8f79-be5a-4fd6-916d-c7c31a693b3e\",\"subtype\":\"Chart\",\"type\":\"Plot\"},\"ticker\":{\"id\":\"e3429281-a10b-4bbb-b08b-51f712b97132\",\"type\":\"BasicTicker\"}},\"id\":\"22a27d18-27fe-4daa-b0dc-86f16629bf73\",\"type\":\"LinearAxis\"},{\"attributes\":{},\"id\":\"67792db3-b7fb-48f8-adf9-d3522658a5ae\",\"type\":\"BasicTicker\"},{\"attributes\":{\"axis_label\":\"Locus\",\"formatter\":{\"id\":\"2102e4df-82b5-4c9f-9558-797e52591a37\",\"type\":\"CategoricalTickFormatter\"},\"major_label_orientation\":0.7853981633974483,\"plot\":{\"id\":\"14dc5235-3f84-4eb2-bdd9-1dd4340285d8\",\"subtype\":\"Chart\",\"type\":\"Plot\"},\"ticker\":{\"id\":\"d206ba4c-99fc-40e8-8ec8-8e1ef521ea6e\",\"type\":\"CategoricalTicker\"}},\"id\":\"f6e9260d-9fc3-4848-812f-f15d11f37507\",\"type\":\"CategoricalAxis\"},{\"attributes\":{},\"id\":\"a6a5cba3-e1e6-4977-8e12-a88586724974\",\"type\":\"BasicTicker\"},{\"attributes\":{\"plot\":{\"id\":\"e6ac3b57-4231-4a6a-a516-e5706d65c5e6\",\"subtype\":\"Chart\",\"type\":\"Plot\"}},\"id\":\"a7448650-407c-4dd4-b18c-bbba7efe5cb9\",\"type\":\"ResizeTool\"},{\"attributes\":{\"plot\":{\"id\":\"28ace379-0340-48c4-80c1-c82f71499804\",\"subtype\":\"Chart\",\"type\":\"Plot\"}},\"id\":\"2ce78315-cbc5-4554-a49a-dd398502407e\",\"type\":\"PanTool\"},{\"attributes\":{\"plot\":{\"id\":\"d070a192-96e9-42b9-b6d9-a98adc888972\",\"subtype\":\"Chart\",\"type\":\"Plot\"}},\"id\":\"57d625d6-bd17-4992-8b39-e4cd984ebf82\",\"type\":\"PreviewSaveTool\"},{\"attributes\":{\"bottom_units\":\"screen\",\"fill_alpha\":{\"value\":0.5},\"fill_color\":{\"value\":\"lightgrey\"},\"left_units\":\"screen\",\"level\":\"overlay\",\"line_alpha\":{\"value\":1.0},\"line_color\":{\"value\":\"black\"},\"line_dash\":[4,4],\"line_width\":{\"value\":2},\"plot\":null,\"render_mode\":\"css\",\"right_units\":\"screen\",\"top_units\":\"screen\"},\"id\":\"e49b3657-80d5-4d36-9f6c-befddd6b06ea\",\"type\":\"BoxAnnotation\"},{\"attributes\":{\"dimension\":1,\"plot\":{\"id\":\"4b9b9aeb-f746-47a2-8c22-e7b1dcfb021b\",\"subtype\":\"Chart\",\"type\":\"Plot\"},\"ticker\":{\"id\":\"cec0c45c-b317-4765-9d34-0ba167e9643b\",\"type\":\"CategoricalTicker\"}},\"id\":\"6031514c-ae7b-479c-94ab-0230116beec5\",\"type\":\"Grid\"},{\"attributes\":{\"plot\":{\"id\":\"dca55044-79ca-4da9-8c61-ae348199a301\",\"subtype\":\"Chart\",\"type\":\"Plot\"}},\"id\":\"a678e5fa-2e3f-4250-b346-62de0c3f26e3\",\"type\":\"WheelZoomTool\"},{\"attributes\":{},\"id\":\"e3429281-a10b-4bbb-b08b-51f712b97132\",\"type\":\"BasicTicker\"},{\"attributes\":{\"callback\":null,\"end\":799.4,\"start\":-45.400000000000006},\"id\":\"94affbf7-3aee-46c1-a73d-f44295ab16c8\",\"type\":\"Range1d\"},{\"attributes\":{\"plot\":{\"id\":\"14dc5235-3f84-4eb2-bdd9-1dd4340285d8\",\"subtype\":\"Chart\",\"type\":\"Plot\"}},\"id\":\"165ca4e7-8837-46da-bff2-9c64d2a3240a\",\"type\":\"HelpTool\"},{\"attributes\":{\"fill_alpha\":{\"value\":0.7},\"fill_color\":{\"value\":\"#f22c40\"},\"line_color\":{\"value\":\"#f22c40\"},\"size\":{\"units\":\"screen\",\"value\":8},\"x\":{\"field\":\"x_values\"},\"y\":{\"field\":\"y_values\"}},\"id\":\"1da23b23-6c20-4998-923d-529d89752127\",\"type\":\"Circle\"},{\"attributes\":{\"callback\":null,\"factors\":[\"None\"]},\"id\":\"f8f5d5c8-ef3e-4c60-bbf4-a5791ea084d6\",\"type\":\"FactorRange\"},{\"attributes\":{\"data_source\":{\"id\":\"0e8e54d2-eb86-45f9-84ff-935856a07ad4\",\"type\":\"ColumnDataSource\"},\"glyph\":{\"id\":\"832c91e7-17c2-49bb-9d74-b6cef87e1dfa\",\"type\":\"Circle\"},\"hover_glyph\":null,\"nonselection_glyph\":null,\"selection_glyph\":null},\"id\":\"246be461-e483-44d9-8448-04052e8cdbf4\",\"type\":\"GlyphRenderer\"},{\"attributes\":{\"plot\":{\"id\":\"d7fc0b54-2ccb-4c72-aa8b-3df87826b7dd\",\"subtype\":\"Chart\",\"type\":\"Plot\"}},\"id\":\"7c106950-2281-464c-9c6e-2187e0844296\",\"type\":\"PanTool\"},{\"attributes\":{},\"id\":\"e343da4a-4cc7-4544-9ed1-aba58fbd8ad9\",\"type\":\"BasicTickFormatter\"},{\"attributes\":{\"fill_alpha\":{\"value\":0.7},\"fill_color\":{\"value\":\"#f22c40\"},\"line_color\":{\"value\":\"#f22c40\"},\"size\":{\"units\":\"screen\",\"value\":8},\"x\":{\"field\":\"x_values\"},\"y\":{\"field\":\"y_values\"}},\"id\":\"785aad73-ee93-4a9e-a022-310d9120dead\",\"type\":\"Circle\"},{\"attributes\":{\"plot\":{\"id\":\"654c8f79-be5a-4fd6-916d-c7c31a693b3e\",\"subtype\":\"Chart\",\"type\":\"Plot\"}},\"id\":\"f5c85d45-a990-4c79-85dd-f29a3a6d5390\",\"type\":\"PanTool\"},{\"attributes\":{\"callback\":null,\"column_names\":[\"x_values\",\"y_values\"],\"data\":{\"chart_index\":[null,null,null,null,null,null,null,null,null,null],\"x_values\":[1.790593776635928,4.059422218439355,7.338097755253313,1.8887242599839098,0.3563777166599831,0.0671822119195804,2.7890181437174277,1.5084740014914755,2.509303418250477,0.42502634525807226],\"y_values\":[\"None\",\"None\",\"None\",\"None\",\"None\",\"None\",\"None\",\"None\",\"None\",\"None\"]}},\"id\":\"252685a1-cd16-4fe4-ab58-d998774b5ab2\",\"type\":\"ColumnDataSource\"},{\"attributes\":{\"dimension\":1,\"plot\":{\"id\":\"3be86840-af6f-47f9-9dc1-74ca0400cb95\",\"subtype\":\"Chart\",\"type\":\"Plot\"},\"ticker\":{\"id\":\"7fb594a9-cded-4e0e-bf99-b15d9bbf9904\",\"type\":\"BasicTicker\"}},\"id\":\"4bd9678c-242c-4242-bed0-f9877a355c63\",\"type\":\"Grid\"},{\"attributes\":{\"bottom_units\":\"screen\",\"fill_alpha\":{\"value\":0.5},\"fill_color\":{\"value\":\"lightgrey\"},\"left_units\":\"screen\",\"level\":\"overlay\",\"line_alpha\":{\"value\":1.0},\"line_color\":{\"value\":\"black\"},\"line_dash\":[4,4],\"line_width\":{\"value\":2},\"plot\":null,\"render_mode\":\"css\",\"right_units\":\"screen\",\"top_units\":\"screen\"},\"id\":\"d3e8c3fc-5698-48b1-83b5-65c27130c796\",\"type\":\"BoxAnnotation\"},{\"attributes\":{\"bottom_units\":\"screen\",\"fill_alpha\":{\"value\":0.5},\"fill_color\":{\"value\":\"lightgrey\"},\"left_units\":\"screen\",\"level\":\"overlay\",\"line_alpha\":{\"value\":1.0},\"line_color\":{\"value\":\"black\"},\"line_dash\":[4,4],\"line_width\":{\"value\":2},\"plot\":null,\"render_mode\":\"css\",\"right_units\":\"screen\",\"top_units\":\"screen\"},\"id\":\"171b3766-419b-4d8c-854f-82ae495d36de\",\"type\":\"BoxAnnotation\"},{\"attributes\":{\"callback\":null,\"factors\":[\"25\",\"67\",\"251\",\"347\",\"353\",\"410\",\"416\",\"536\",\"590\",\"729\"]},\"id\":\"d6ef64d1-6e2f-4ec4-aab3-211251880899\",\"type\":\"FactorRange\"},{\"attributes\":{},\"id\":\"73789de3-2e61-4fbc-8651-51e2bdf364f4\",\"type\":\"BasicTicker\"},{\"attributes\":{\"axis_label\":\"Locus\",\"formatter\":{\"id\":\"e343da4a-4cc7-4544-9ed1-aba58fbd8ad9\",\"type\":\"BasicTickFormatter\"},\"plot\":{\"id\":\"28ace379-0340-48c4-80c1-c82f71499804\",\"subtype\":\"Chart\",\"type\":\"Plot\"},\"ticker\":{\"id\":\"c6bd4713-5856-4f18-8035-c79e00e7d3c7\",\"type\":\"BasicTicker\"}},\"id\":\"aa6ba208-058c-4240-93fe-7b5347bb3595\",\"type\":\"LinearAxis\"},{\"attributes\":{\"plot\":{\"id\":\"e6ac3b57-4231-4a6a-a516-e5706d65c5e6\",\"subtype\":\"Chart\",\"type\":\"Plot\"}},\"id\":\"af13e533-e7a8-49f9-98b8-093cf77a72c7\",\"type\":\"WheelZoomTool\"},{\"attributes\":{\"plot\":{\"id\":\"3be86840-af6f-47f9-9dc1-74ca0400cb95\",\"subtype\":\"Chart\",\"type\":\"Plot\"}},\"id\":\"ec456cea-7661-4891-8b96-d5b21e0171b1\",\"type\":\"WheelZoomTool\"},{\"attributes\":{\"axis_label\":\"Difference\",\"formatter\":{\"id\":\"dfc8ecd5-e252-412a-979c-a504a54ed2fd\",\"type\":\"BasicTickFormatter\"},\"plot\":{\"id\":\"e6ac3b57-4231-4a6a-a516-e5706d65c5e6\",\"subtype\":\"Chart\",\"type\":\"Plot\"},\"ticker\":{\"id\":\"5ee6d966-3c1a-4ffe-a947-759a358e2261\",\"type\":\"BasicTicker\"}},\"id\":\"f1c010a9-e292-4e49-9a6e-0fba72574449\",\"type\":\"LinearAxis\"},{\"attributes\":{\"dimension\":1,\"plot\":{\"id\":\"e6ac3b57-4231-4a6a-a516-e5706d65c5e6\",\"subtype\":\"Chart\",\"type\":\"Plot\"},\"ticker\":{\"id\":\"47fa69db-1555-4eca-a649-016833ad1b3c\",\"type\":\"CategoricalTicker\"}},\"id\":\"3b4c937d-40e1-4514-9740-359bba29e99d\",\"type\":\"Grid\"},{\"attributes\":{},\"id\":\"c5041114-78be-4f32-8990-7dd3f59bf2b5\",\"type\":\"BasicTicker\"},{\"attributes\":{\"callback\":null,\"end\":8.065189309586685,\"start\":-0.6599093424137928},\"id\":\"6ba4e399-bcee-4395-87e2-5ec48cc5e10f\",\"type\":\"Range1d\"},{\"attributes\":{\"data_source\":{\"id\":\"9ba372d8-5655-4aeb-91cb-b2942507c89a\",\"type\":\"ColumnDataSource\"},\"glyph\":{\"id\":\"e1fa66d9-1f4e-4315-9dcb-92d3c191e312\",\"type\":\"Circle\"},\"hover_glyph\":null,\"nonselection_glyph\":null,\"selection_glyph\":null},\"id\":\"33e40e9a-adc3-4e02-badc-9cd694002278\",\"type\":\"GlyphRenderer\"},{\"attributes\":{},\"id\":\"f520c77c-e58a-41fd-a3a9-91eaecd08fc2\",\"type\":\"BasicTicker\"},{\"attributes\":{\"callback\":null,\"end\":799.4,\"start\":-45.400000000000006},\"id\":\"6c874631-a74f-44ba-b2bf-180028e2538b\",\"type\":\"Range1d\"},{\"attributes\":{\"fill_alpha\":{\"value\":0.7},\"fill_color\":{\"value\":\"#f22c40\"},\"line_color\":{\"value\":\"#f22c40\"},\"size\":{\"units\":\"screen\",\"value\":8},\"x\":{\"field\":\"x_values\"},\"y\":{\"field\":\"y_values\"}},\"id\":\"8a536349-21e8-49e4-9d60-60efea6bbef3\",\"type\":\"Circle\"},{\"attributes\":{\"dimension\":1,\"plot\":{\"id\":\"dca55044-79ca-4da9-8c61-ae348199a301\",\"subtype\":\"Chart\",\"type\":\"Plot\"},\"ticker\":{\"id\":\"5d896c29-b57f-47ed-8360-155a395d9d5c\",\"type\":\"CategoricalTicker\"}},\"id\":\"a5d0124a-8b19-4a04-8fc1-c974d896d04c\",\"type\":\"Grid\"},{\"attributes\":{},\"id\":\"5bbce9e0-c3c0-4af3-b9da-2ca8df3ddc71\",\"type\":\"CategoricalTickFormatter\"},{\"attributes\":{\"data_source\":{\"id\":\"7b89c135-cbb7-4527-8f4c-dae1a8161b6f\",\"type\":\"ColumnDataSource\"},\"glyph\":{\"id\":\"f1a71152-fb83-4adf-9c33-f1b0ec22838f\",\"type\":\"Circle\"},\"hover_glyph\":null,\"nonselection_glyph\":null,\"selection_glyph\":null},\"id\":\"c298d93b-01ed-41ce-a03d-8d53560e254c\",\"type\":\"GlyphRenderer\"},{\"attributes\":{\"overlay\":{\"id\":\"171b3766-419b-4d8c-854f-82ae495d36de\",\"type\":\"BoxAnnotation\"},\"plot\":{\"id\":\"4b9b9aeb-f746-47a2-8c22-e7b1dcfb021b\",\"subtype\":\"Chart\",\"type\":\"Plot\"}},\"id\":\"72c57576-300c-46fa-8f6f-de78a8af9352\",\"type\":\"BoxZoomTool\"},{\"attributes\":{\"plot\":{\"id\":\"28ace379-0340-48c4-80c1-c82f71499804\",\"subtype\":\"Chart\",\"type\":\"Plot\"}},\"id\":\"4da45cb1-07ba-49f1-85fd-a6ec60bd00ae\",\"type\":\"HelpTool\"},{\"attributes\":{\"plot\":{\"id\":\"4b9b9aeb-f746-47a2-8c22-e7b1dcfb021b\",\"subtype\":\"Chart\",\"type\":\"Plot\"}},\"id\":\"ef6e83b1-f002-4184-b7b2-7f1026a37056\",\"type\":\"WheelZoomTool\"},{\"attributes\":{\"data_source\":{\"id\":\"8db78a0d-e14d-4867-881f-5a582177046a\",\"type\":\"ColumnDataSource\"},\"glyph\":{\"id\":\"38f71cfc-7613-485e-8245-7badb6e1ee5e\",\"type\":\"Circle\"},\"hover_glyph\":null,\"nonselection_glyph\":null,\"selection_glyph\":null},\"id\":\"eb22700d-b934-4987-a7c1-15d6a2a34000\",\"type\":\"GlyphRenderer\"},{\"attributes\":{\"plot\":{\"id\":\"654c8f79-be5a-4fd6-916d-c7c31a693b3e\",\"subtype\":\"Chart\",\"type\":\"Plot\"}},\"id\":\"b25bd965-98a8-4c49-848f-aed651fe4ba0\",\"type\":\"HelpTool\"},{\"attributes\":{\"axis_label\":\"Difference\",\"formatter\":{\"id\":\"6e821dc9-3854-4635-b7f3-96da40b246d3\",\"type\":\"BasicTickFormatter\"},\"plot\":{\"id\":\"dc4674bc-dcd2-408f-8c1f-9f257ad66120\",\"subtype\":\"Chart\",\"type\":\"Plot\"},\"ticker\":{\"id\":\"a6a5cba3-e1e6-4977-8e12-a88586724974\",\"type\":\"BasicTicker\"}},\"id\":\"3a41ea18-1847-40c6-8834-ec2a690e81d0\",\"type\":\"LinearAxis\"},{\"attributes\":{\"axis_label\":\"Locus\",\"formatter\":{\"id\":\"2624ebc9-abc3-4b9f-8b4e-c1a132da2c04\",\"type\":\"BasicTickFormatter\"},\"plot\":{\"id\":\"d070a192-96e9-42b9-b6d9-a98adc888972\",\"subtype\":\"Chart\",\"type\":\"Plot\"},\"ticker\":{\"id\":\"74e03f32-4b42-42be-8af4-c47822d5f37b\",\"type\":\"BasicTicker\"}},\"id\":\"9e888f78-d1c3-4fea-bc5d-b77452baf47e\",\"type\":\"LinearAxis\"},{\"attributes\":{\"axis_label\":\"Difference\",\"formatter\":{\"id\":\"94781bb7-ee1f-42fa-90e5-baf10fa10a1b\",\"type\":\"BasicTickFormatter\"},\"plot\":{\"id\":\"654c8f79-be5a-4fd6-916d-c7c31a693b3e\",\"subtype\":\"Chart\",\"type\":\"Plot\"},\"ticker\":{\"id\":\"f520c77c-e58a-41fd-a3a9-91eaecd08fc2\",\"type\":\"BasicTicker\"}},\"id\":\"7b8d10fe-0933-4eb4-b04e-2f2cb5f3eb0c\",\"type\":\"LinearAxis\"},{\"attributes\":{\"overlay\":{\"id\":\"4f1dd46f-29e9-4141-a9c3-c3199e20257e\",\"type\":\"BoxAnnotation\"},\"plot\":{\"id\":\"14dc5235-3f84-4eb2-bdd9-1dd4340285d8\",\"subtype\":\"Chart\",\"type\":\"Plot\"}},\"id\":\"1a7a7fc5-8908-4c5d-8496-7c9304fe5af3\",\"type\":\"BoxZoomTool\"},{\"attributes\":{\"below\":[{\"id\":\"e7f2aaaa-2e2c-4239-b58b-a4543d7001a0\",\"type\":\"LinearAxis\"}],\"left\":[{\"id\":\"bf7f754d-8802-4691-8e23-2a62d0a2f7ca\",\"type\":\"LinearAxis\"}],\"legend\":null,\"renderers\":[{\"id\":\"6f35cbb5-f19d-4c51-a21b-827f7a901bed\",\"type\":\"BoxAnnotation\"},{\"id\":\"c302e027-e9aa-4e2c-881e-093f2d966d50\",\"type\":\"GlyphRenderer\"},{\"id\":\"e7f2aaaa-2e2c-4239-b58b-a4543d7001a0\",\"type\":\"LinearAxis\"},{\"id\":\"bf7f754d-8802-4691-8e23-2a62d0a2f7ca\",\"type\":\"LinearAxis\"},{\"id\":\"e43894d1-faef-4b10-a286-586a0404bfa2\",\"type\":\"Grid\"},{\"id\":\"4bd9678c-242c-4242-bed0-f9877a355c63\",\"type\":\"Grid\"}],\"title\":\"Allele Effect Differences\",\"title_text_font_size\":{\"value\":\"14pt\"},\"tool_events\":{\"id\":\"cc1870fb-51fe-4900-82e2-100b35784631\",\"type\":\"ToolEvents\"},\"tools\":[{\"id\":\"4b36b86b-9d89-4879-9171-e824f4fb3e94\",\"type\":\"PanTool\"},{\"id\":\"ec456cea-7661-4891-8b96-d5b21e0171b1\",\"type\":\"WheelZoomTool\"},{\"id\":\"5d41f1d9-3fe5-49e7-b59c-49bc272591fd\",\"type\":\"BoxZoomTool\"},{\"id\":\"df72d0d9-afb8-42f9-a51e-9b69dac24aaf\",\"type\":\"PreviewSaveTool\"},{\"id\":\"aef3383d-4018-4b70-a60c-212593de4cda\",\"type\":\"ResizeTool\"},{\"id\":\"d60b0415-bb72-42cc-8784-ed5b07e7fa04\",\"type\":\"ResetTool\"},{\"id\":\"81c3e1e2-9b05-42b0-bb54-d878830ff466\",\"type\":\"HelpTool\"}],\"x_mapper_type\":\"auto\",\"x_range\":{\"id\":\"6ba4e399-bcee-4395-87e2-5ec48cc5e10f\",\"type\":\"Range1d\"},\"xscale\":\"auto\",\"y_mapper_type\":\"auto\",\"y_range\":{\"id\":\"6c874631-a74f-44ba-b2bf-180028e2538b\",\"type\":\"Range1d\"},\"yscale\":\"auto\"},\"id\":\"3be86840-af6f-47f9-9dc1-74ca0400cb95\",\"subtype\":\"Chart\",\"type\":\"Plot\"},{\"attributes\":{\"plot\":{\"id\":\"dca55044-79ca-4da9-8c61-ae348199a301\",\"subtype\":\"Chart\",\"type\":\"Plot\"}},\"id\":\"df21b1fb-c19e-4631-b094-459cd5e7263a\",\"type\":\"ResizeTool\"},{\"attributes\":{\"callback\":null,\"end\":8.065189309586685,\"start\":-0.6599093424137928},\"id\":\"f74cdc88-459f-41fa-bb71-52071d468db8\",\"type\":\"Range1d\"},{\"attributes\":{\"axis_label\":\"Difference\",\"formatter\":{\"id\":\"56ccfdcd-bf6f-42ee-9250-356738b8b785\",\"type\":\"BasicTickFormatter\"},\"plot\":{\"id\":\"d070a192-96e9-42b9-b6d9-a98adc888972\",\"subtype\":\"Chart\",\"type\":\"Plot\"},\"ticker\":{\"id\":\"c5041114-78be-4f32-8990-7dd3f59bf2b5\",\"type\":\"BasicTicker\"}},\"id\":\"10aaee64-2c11-4ab9-8617-0a49b6059534\",\"type\":\"LinearAxis\"},{\"attributes\":{},\"id\":\"d3776e65-1455-4711-bc93-aa4eea736342\",\"type\":\"BasicTickFormatter\"},{\"attributes\":{\"plot\":{\"id\":\"3be86840-af6f-47f9-9dc1-74ca0400cb95\",\"subtype\":\"Chart\",\"type\":\"Plot\"}},\"id\":\"d60b0415-bb72-42cc-8784-ed5b07e7fa04\",\"type\":\"ResetTool\"},{\"attributes\":{\"callback\":null,\"column_names\":[\"x_values\",\"y_values\"],\"data\":{\"chart_index\":[null,null,null,null,null,null,null,null,null,null],\"x_values\":[1.790593776635928,4.059422218439355,7.338097755253313,1.8887242599839098,0.3563777166599831,0.0671822119195804,2.7890181437174277,1.5084740014914755,2.509303418250477,0.42502634525807226],\"y_values\":[\"25\",\"67\",\"251\",\"347\",\"353\",\"410\",\"416\",\"536\",\"590\",\"729\"]}},\"id\":\"236b1cd5-76d9-414b-aff0-a0adf798319a\",\"type\":\"ColumnDataSource\"},{\"attributes\":{\"plot\":{\"id\":\"3be86840-af6f-47f9-9dc1-74ca0400cb95\",\"subtype\":\"Chart\",\"type\":\"Plot\"}},\"id\":\"df72d0d9-afb8-42f9-a51e-9b69dac24aaf\",\"type\":\"PreviewSaveTool\"},{\"attributes\":{\"dimension\":1,\"plot\":{\"id\":\"d7fc0b54-2ccb-4c72-aa8b-3df87826b7dd\",\"subtype\":\"Chart\",\"type\":\"Plot\"},\"ticker\":{\"id\":\"7056a16d-98a2-43d0-94aa-b9505cf5311a\",\"type\":\"CategoricalTicker\"}},\"id\":\"f6678c28-44a5-486b-9219-8f52acb2959c\",\"type\":\"Grid\"},{\"attributes\":{\"dimension\":1,\"plot\":{\"id\":\"28ace379-0340-48c4-80c1-c82f71499804\",\"subtype\":\"Chart\",\"type\":\"Plot\"},\"ticker\":{\"id\":\"c6bd4713-5856-4f18-8035-c79e00e7d3c7\",\"type\":\"BasicTicker\"}},\"id\":\"79aa7150-8117-4a33-999d-e6ee509e2a7c\",\"type\":\"Grid\"},{\"attributes\":{\"callback\":null,\"factors\":[\"None\"]},\"id\":\"360a90e8-6c1b-43f7-967b-77627aab6d1c\",\"type\":\"FactorRange\"},{\"attributes\":{},\"id\":\"5ee6d966-3c1a-4ffe-a947-759a358e2261\",\"type\":\"BasicTicker\"},{\"attributes\":{\"axis_label\":\"Difference\",\"formatter\":{\"id\":\"6becffa3-7bb7-4f6e-a539-a91ee7973dcf\",\"type\":\"BasicTickFormatter\"},\"plot\":{\"id\":\"14dc5235-3f84-4eb2-bdd9-1dd4340285d8\",\"subtype\":\"Chart\",\"type\":\"Plot\"},\"ticker\":{\"id\":\"67792db3-b7fb-48f8-adf9-d3522658a5ae\",\"type\":\"BasicTicker\"}},\"id\":\"fcea3b4a-3f94-49f6-a95a-a4d9c5456ad1\",\"type\":\"LinearAxis\"},{\"attributes\":{},\"id\":\"6a6b322a-1197-4562-a292-ce5d5d32ca61\",\"type\":\"CategoricalTickFormatter\"},{\"attributes\":{},\"id\":\"c6426c66-be0b-4ac6-9056-f216628191ca\",\"type\":\"BasicTicker\"},{\"attributes\":{\"fill_alpha\":{\"value\":0.7},\"fill_color\":{\"value\":\"#f22c40\"},\"line_color\":{\"value\":\"#f22c40\"},\"size\":{\"units\":\"screen\",\"value\":8},\"x\":{\"field\":\"x_values\"},\"y\":{\"field\":\"y_values\"}},\"id\":\"832c91e7-17c2-49bb-9d74-b6cef87e1dfa\",\"type\":\"Circle\"},{\"attributes\":{},\"id\":\"c6bd4713-5856-4f18-8035-c79e00e7d3c7\",\"type\":\"BasicTicker\"},{\"attributes\":{\"plot\":{\"id\":\"654c8f79-be5a-4fd6-916d-c7c31a693b3e\",\"subtype\":\"Chart\",\"type\":\"Plot\"}},\"id\":\"e8a1c9f4-c109-40ce-8461-856072a2bdd1\",\"type\":\"PreviewSaveTool\"},{\"attributes\":{\"plot\":{\"id\":\"3be86840-af6f-47f9-9dc1-74ca0400cb95\",\"subtype\":\"Chart\",\"type\":\"Plot\"}},\"id\":\"81c3e1e2-9b05-42b0-bb54-d878830ff466\",\"type\":\"HelpTool\"},{\"attributes\":{\"callback\":null,\"end\":8.065189309586685,\"start\":-0.6599093424137928},\"id\":\"6367ba8a-c9b1-4ee4-90ea-6cceca0a94b3\",\"type\":\"Range1d\"},{\"attributes\":{\"overlay\":{\"id\":\"e49b3657-80d5-4d36-9f6c-befddd6b06ea\",\"type\":\"BoxAnnotation\"},\"plot\":{\"id\":\"dc4674bc-dcd2-408f-8c1f-9f257ad66120\",\"subtype\":\"Chart\",\"type\":\"Plot\"}},\"id\":\"302af935-72e0-4cac-b026-9080e1ef4fd3\",\"type\":\"BoxZoomTool\"},{\"attributes\":{\"data_source\":{\"id\":\"252685a1-cd16-4fe4-ab58-d998774b5ab2\",\"type\":\"ColumnDataSource\"},\"glyph\":{\"id\":\"2f27a707-5a5d-4b51-b986-ddf2570e9818\",\"type\":\"Circle\"},\"hover_glyph\":null,\"nonselection_glyph\":null,\"selection_glyph\":null},\"id\":\"4bedebe0-189d-42ae-be78-c05f8cea62ed\",\"type\":\"GlyphRenderer\"},{\"attributes\":{},\"id\":\"d206ba4c-99fc-40e8-8ec8-8e1ef521ea6e\",\"type\":\"CategoricalTicker\"},{\"attributes\":{\"plot\":{\"id\":\"d7fc0b54-2ccb-4c72-aa8b-3df87826b7dd\",\"subtype\":\"Chart\",\"type\":\"Plot\"}},\"id\":\"9d66d496-1e3e-4291-a767-3c2a762d97d7\",\"type\":\"WheelZoomTool\"},{\"attributes\":{\"plot\":{\"id\":\"14dc5235-3f84-4eb2-bdd9-1dd4340285d8\",\"subtype\":\"Chart\",\"type\":\"Plot\"}},\"id\":\"815afe65-bd19-4b27-993c-d19339ed878c\",\"type\":\"WheelZoomTool\"},{\"attributes\":{},\"id\":\"cec0c45c-b317-4765-9d34-0ba167e9643b\",\"type\":\"CategoricalTicker\"},{\"attributes\":{},\"id\":\"a35c705e-8509-4695-abab-568c8c620bf7\",\"type\":\"BasicTickFormatter\"},{\"attributes\":{\"callback\":null,\"column_names\":[\"x_values\",\"y_values\"],\"data\":{\"chart_index\":[null,null,null,null,null,null,null,null,null,null],\"x_values\":[1.790593776635928,4.059422218439355,7.338097755253313,1.8887242599839098,0.3563777166599831,0.0671822119195804,2.7890181437174277,1.5084740014914755,2.509303418250477,0.42502634525807226],\"y_values\":[\"None\",\"None\",\"None\",\"None\",\"None\",\"None\",\"None\",\"None\",\"None\",\"None\"]}},\"id\":\"9ba372d8-5655-4aeb-91cb-b2942507c89a\",\"type\":\"ColumnDataSource\"},{\"attributes\":{\"bottom_units\":\"screen\",\"fill_alpha\":{\"value\":0.5},\"fill_color\":{\"value\":\"lightgrey\"},\"left_units\":\"screen\",\"level\":\"overlay\",\"line_alpha\":{\"value\":1.0},\"line_color\":{\"value\":\"black\"},\"line_dash\":[4,4],\"line_width\":{\"value\":2},\"plot\":null,\"render_mode\":\"css\",\"right_units\":\"screen\",\"top_units\":\"screen\"},\"id\":\"4f1dd46f-29e9-4141-a9c3-c3199e20257e\",\"type\":\"BoxAnnotation\"},{\"attributes\":{},\"id\":\"c0fd5d0d-a818-45d0-a92c-4b4e9b33c60d\",\"type\":\"ToolEvents\"},{\"attributes\":{},\"id\":\"2624ebc9-abc3-4b9f-8b4e-c1a132da2c04\",\"type\":\"BasicTickFormatter\"},{\"attributes\":{\"data_source\":{\"id\":\"236b1cd5-76d9-414b-aff0-a0adf798319a\",\"type\":\"ColumnDataSource\"},\"glyph\":{\"id\":\"785aad73-ee93-4a9e-a022-310d9120dead\",\"type\":\"Circle\"},\"hover_glyph\":null,\"nonselection_glyph\":null,\"selection_glyph\":null},\"id\":\"994515fa-852b-47aa-9928-c57c38a7ee97\",\"type\":\"GlyphRenderer\"},{\"attributes\":{\"below\":[{\"id\":\"3a41ea18-1847-40c6-8834-ec2a690e81d0\",\"type\":\"LinearAxis\"}],\"left\":[{\"id\":\"974f1a64-5d45-473e-af5d-8f498165c633\",\"type\":\"CategoricalAxis\"}],\"legend\":null,\"renderers\":[{\"id\":\"e49b3657-80d5-4d36-9f6c-befddd6b06ea\",\"type\":\"BoxAnnotation\"},{\"id\":\"246be461-e483-44d9-8448-04052e8cdbf4\",\"type\":\"GlyphRenderer\"},{\"id\":\"3a41ea18-1847-40c6-8834-ec2a690e81d0\",\"type\":\"LinearAxis\"},{\"id\":\"974f1a64-5d45-473e-af5d-8f498165c633\",\"type\":\"CategoricalAxis\"},{\"id\":\"a31281f6-1c09-470d-900d-69381043e426\",\"type\":\"Grid\"},{\"id\":\"a749b3a7-e99b-42df-ab0c-7c3e0ce31441\",\"type\":\"Grid\"}],\"title\":\"Allele Effect Differences\",\"title_text_font_size\":{\"value\":\"14pt\"},\"tool_events\":{\"id\":\"c0076a6c-8966-46df-900b-ed5f2e6b8244\",\"type\":\"ToolEvents\"},\"tools\":[{\"id\":\"a61a5f93-2f1c-47ac-b34e-5615fd6b11b2\",\"type\":\"PanTool\"},{\"id\":\"43663a20-46b6-452f-b427-9f120a28d379\",\"type\":\"WheelZoomTool\"},{\"id\":\"302af935-72e0-4cac-b026-9080e1ef4fd3\",\"type\":\"BoxZoomTool\"},{\"id\":\"80edfabe-9819-46aa-9251-4cab5ac45380\",\"type\":\"PreviewSaveTool\"},{\"id\":\"ede9363f-f13d-4358-82b3-a4dcbce392fe\",\"type\":\"ResizeTool\"},{\"id\":\"242e24ac-be31-4eb6-964a-f575d0d52de0\",\"type\":\"ResetTool\"},{\"id\":\"d75a80d3-5a2a-4292-901e-bed14ad13a16\",\"type\":\"HelpTool\"}],\"x_mapper_type\":\"auto\",\"x_range\":{\"id\":\"6367ba8a-c9b1-4ee4-90ea-6cceca0a94b3\",\"type\":\"Range1d\"},\"xscale\":\"auto\",\"y_mapper_type\":\"auto\",\"y_range\":{\"id\":\"7b6dd7b7-044d-479b-a332-b423dcba5123\",\"type\":\"FactorRange\"},\"yscale\":\"auto\"},\"id\":\"dc4674bc-dcd2-408f-8c1f-9f257ad66120\",\"subtype\":\"Chart\",\"type\":\"Plot\"},{\"attributes\":{},\"id\":\"c0eff11f-7e8c-41f7-83c0-aa82bd5c009b\",\"type\":\"BasicTickFormatter\"},{\"attributes\":{},\"id\":\"c0076a6c-8966-46df-900b-ed5f2e6b8244\",\"type\":\"ToolEvents\"},{\"attributes\":{\"callback\":null,\"end\":8.065189309586685,\"start\":-0.6599093424137928},\"id\":\"8c234d3f-ce75-42b6-84ca-045242139d58\",\"type\":\"Range1d\"},{\"attributes\":{\"axis_label\":\"Locus\",\"formatter\":{\"id\":\"ac89ca23-b806-4740-89f5-16e977e1f452\",\"type\":\"BasicTickFormatter\"},\"plot\":{\"id\":\"3be86840-af6f-47f9-9dc1-74ca0400cb95\",\"subtype\":\"Chart\",\"type\":\"Plot\"},\"ticker\":{\"id\":\"7fb594a9-cded-4e0e-bf99-b15d9bbf9904\",\"type\":\"BasicTicker\"}},\"id\":\"bf7f754d-8802-4691-8e23-2a62d0a2f7ca\",\"type\":\"LinearAxis\"},{\"attributes\":{\"plot\":{\"id\":\"28ace379-0340-48c4-80c1-c82f71499804\",\"subtype\":\"Chart\",\"type\":\"Plot\"}},\"id\":\"363bd9a1-f1af-4204-a04d-3440db02064a\",\"type\":\"ResetTool\"},{\"attributes\":{\"plot\":{\"id\":\"e6ac3b57-4231-4a6a-a516-e5706d65c5e6\",\"subtype\":\"Chart\",\"type\":\"Plot\"},\"ticker\":{\"id\":\"5ee6d966-3c1a-4ffe-a947-759a358e2261\",\"type\":\"BasicTicker\"}},\"id\":\"57bca747-5596-435a-baa0-079b46857fb4\",\"type\":\"Grid\"},{\"attributes\":{\"callback\":null,\"end\":8.065189309586685,\"start\":-0.6599093424137928},\"id\":\"9a553067-ef61-498a-b8c2-ad6c2109cb96\",\"type\":\"Range1d\"},{\"attributes\":{\"axis_label\":\"Difference\",\"formatter\":{\"id\":\"eeecd453-4b65-45fc-99e7-3a4518709cd6\",\"type\":\"BasicTickFormatter\"},\"plot\":{\"id\":\"d7fc0b54-2ccb-4c72-aa8b-3df87826b7dd\",\"subtype\":\"Chart\",\"type\":\"Plot\"},\"ticker\":{\"id\":\"e552017a-7ced-4824-a475-25ab9ccd697d\",\"type\":\"BasicTicker\"}},\"id\":\"ac0faa03-8850-4eba-b7e5-d8634b5ba8e9\",\"type\":\"LinearAxis\"},{\"attributes\":{\"plot\":{\"id\":\"dc4674bc-dcd2-408f-8c1f-9f257ad66120\",\"subtype\":\"Chart\",\"type\":\"Plot\"}},\"id\":\"a61a5f93-2f1c-47ac-b34e-5615fd6b11b2\",\"type\":\"PanTool\"},{\"attributes\":{\"overlay\":{\"id\":\"a52fa28f-6e14-40b1-85bb-fb42a2f47c2a\",\"type\":\"BoxAnnotation\"},\"plot\":{\"id\":\"d070a192-96e9-42b9-b6d9-a98adc888972\",\"subtype\":\"Chart\",\"type\":\"Plot\"}},\"id\":\"b7c01085-2cda-4f64-bae4-09e9504b3263\",\"type\":\"BoxZoomTool\"},{\"attributes\":{\"overlay\":{\"id\":\"c47cd0a7-2c47-473c-9077-63e19576fcdb\",\"type\":\"BoxAnnotation\"},\"plot\":{\"id\":\"654c8f79-be5a-4fd6-916d-c7c31a693b3e\",\"subtype\":\"Chart\",\"type\":\"Plot\"}},\"id\":\"1762e3a3-962c-4bf7-ab1a-5aa5170dc224\",\"type\":\"BoxZoomTool\"},{\"attributes\":{\"callback\":null,\"end\":8.065189309586685,\"start\":-0.6599093424137928},\"id\":\"e9be8948-118a-437f-87a9-e8c443ab690e\",\"type\":\"Range1d\"},{\"attributes\":{\"callback\":null,\"end\":799.4,\"start\":-45.400000000000006},\"id\":\"4f50d0e6-ca88-4b8e-8306-8dac5fbea365\",\"type\":\"Range1d\"},{\"attributes\":{\"bottom_units\":\"screen\",\"fill_alpha\":{\"value\":0.5},\"fill_color\":{\"value\":\"lightgrey\"},\"left_units\":\"screen\",\"level\":\"overlay\",\"line_alpha\":{\"value\":1.0},\"line_color\":{\"value\":\"black\"},\"line_dash\":[4,4],\"line_width\":{\"value\":2},\"plot\":null,\"render_mode\":\"css\",\"right_units\":\"screen\",\"top_units\":\"screen\"},\"id\":\"869d61fb-133c-4c0f-81ed-f117c63eb2cb\",\"type\":\"BoxAnnotation\"},{\"attributes\":{\"axis_label\":\"Locus\",\"formatter\":{\"id\":\"2ba86f2f-a068-42ae-88d8-df6ea5b34902\",\"type\":\"CategoricalTickFormatter\"},\"major_label_orientation\":0.7853981633974483,\"plot\":{\"id\":\"e6ac3b57-4231-4a6a-a516-e5706d65c5e6\",\"subtype\":\"Chart\",\"type\":\"Plot\"},\"ticker\":{\"id\":\"47fa69db-1555-4eca-a649-016833ad1b3c\",\"type\":\"CategoricalTicker\"}},\"id\":\"52fce4c9-b62d-4c3e-ba33-a25cc09fbdf2\",\"type\":\"CategoricalAxis\"},{\"attributes\":{\"plot\":{\"id\":\"654c8f79-be5a-4fd6-916d-c7c31a693b3e\",\"subtype\":\"Chart\",\"type\":\"Plot\"}},\"id\":\"14b5bf58-1696-4ad5-8bd0-c67c19482678\",\"type\":\"ResizeTool\"},{\"attributes\":{\"plot\":{\"id\":\"dc4674bc-dcd2-408f-8c1f-9f257ad66120\",\"subtype\":\"Chart\",\"type\":\"Plot\"}},\"id\":\"80edfabe-9819-46aa-9251-4cab5ac45380\",\"type\":\"PreviewSaveTool\"},{\"attributes\":{\"callback\":null,\"end\":799.4,\"start\":-45.400000000000006},\"id\":\"cf0b2afe-4da8-44a6-b07f-f0985e88be15\",\"type\":\"Range1d\"},{\"attributes\":{\"fill_alpha\":{\"value\":0.7},\"fill_color\":{\"value\":\"#f22c40\"},\"line_color\":{\"value\":\"#f22c40\"},\"size\":{\"units\":\"screen\",\"value\":8},\"x\":{\"field\":\"x_values\"},\"y\":{\"field\":\"y_values\"}},\"id\":\"57fe8749-5b16-492a-ac2c-507a593fae22\",\"type\":\"Circle\"},{\"attributes\":{\"fill_alpha\":{\"value\":0.7},\"fill_color\":{\"value\":\"#f22c40\"},\"line_color\":{\"value\":\"#f22c40\"},\"size\":{\"units\":\"screen\",\"value\":8},\"x\":{\"field\":\"x_values\"},\"y\":{\"field\":\"y_values\"}},\"id\":\"e1fa66d9-1f4e-4315-9dcb-92d3c191e312\",\"type\":\"Circle\"},{\"attributes\":{},\"id\":\"63136b62-d04f-494f-ad63-41d081f7a440\",\"type\":\"CategoricalTickFormatter\"},{\"attributes\":{\"plot\":{\"id\":\"14dc5235-3f84-4eb2-bdd9-1dd4340285d8\",\"subtype\":\"Chart\",\"type\":\"Plot\"},\"ticker\":{\"id\":\"67792db3-b7fb-48f8-adf9-d3522658a5ae\",\"type\":\"BasicTicker\"}},\"id\":\"5f710ed4-f907-4ffc-98eb-772de12f536b\",\"type\":\"Grid\"},{\"attributes\":{\"plot\":{\"id\":\"654c8f79-be5a-4fd6-916d-c7c31a693b3e\",\"subtype\":\"Chart\",\"type\":\"Plot\"},\"ticker\":{\"id\":\"f520c77c-e58a-41fd-a3a9-91eaecd08fc2\",\"type\":\"BasicTicker\"}},\"id\":\"788c1f4e-2af0-44d8-a25e-66a84836b76d\",\"type\":\"Grid\"},{\"attributes\":{\"data_source\":{\"id\":\"825e6381-fc46-40ec-86b5-800a7603afe0\",\"type\":\"ColumnDataSource\"},\"glyph\":{\"id\":\"1095d86f-8ed4-4976-bc4c-3819cccff13f\",\"type\":\"Circle\"},\"hover_glyph\":null,\"nonselection_glyph\":null,\"selection_glyph\":null},\"id\":\"e156c2bc-0b7a-473a-bc3f-5b65439662e1\",\"type\":\"GlyphRenderer\"},{\"attributes\":{},\"id\":\"2a7c6a39-1f6f-4402-b36d-9c9a38a8b186\",\"type\":\"CategoricalTickFormatter\"},{\"attributes\":{\"bottom_units\":\"screen\",\"fill_alpha\":{\"value\":0.5},\"fill_color\":{\"value\":\"lightgrey\"},\"left_units\":\"screen\",\"level\":\"overlay\",\"line_alpha\":{\"value\":1.0},\"line_color\":{\"value\":\"black\"},\"line_dash\":[4,4],\"line_width\":{\"value\":2},\"plot\":null,\"render_mode\":\"css\",\"right_units\":\"screen\",\"top_units\":\"screen\"},\"id\":\"5d4c1227-f571-4081-865c-94c51dedbe72\",\"type\":\"BoxAnnotation\"},{\"attributes\":{\"below\":[{\"id\":\"fcea3b4a-3f94-49f6-a95a-a4d9c5456ad1\",\"type\":\"LinearAxis\"}],\"left\":[{\"id\":\"f6e9260d-9fc3-4848-812f-f15d11f37507\",\"type\":\"CategoricalAxis\"}],\"legend\":null,\"renderers\":[{\"id\":\"4f1dd46f-29e9-4141-a9c3-c3199e20257e\",\"type\":\"BoxAnnotation\"},{\"id\":\"33e40e9a-adc3-4e02-badc-9cd694002278\",\"type\":\"GlyphRenderer\"},{\"id\":\"fcea3b4a-3f94-49f6-a95a-a4d9c5456ad1\",\"type\":\"LinearAxis\"},{\"id\":\"f6e9260d-9fc3-4848-812f-f15d11f37507\",\"type\":\"CategoricalAxis\"},{\"id\":\"5f710ed4-f907-4ffc-98eb-772de12f536b\",\"type\":\"Grid\"},{\"id\":\"fc731635-5cb7-45fb-869d-ebd4faecc0e8\",\"type\":\"Grid\"}],\"title\":\"Allele Effect Differences\",\"title_text_font_size\":{\"value\":\"14pt\"},\"tool_events\":{\"id\":\"575f45f3-b6b7-4ac5-9e0e-8773c31e6912\",\"type\":\"ToolEvents\"},\"tools\":[{\"id\":\"f36e1642-976c-47e0-9e88-7d5f993c300e\",\"type\":\"PanTool\"},{\"id\":\"815afe65-bd19-4b27-993c-d19339ed878c\",\"type\":\"WheelZoomTool\"},{\"id\":\"1a7a7fc5-8908-4c5d-8496-7c9304fe5af3\",\"type\":\"BoxZoomTool\"},{\"id\":\"3723f33b-89c7-4656-beb7-2107ddb2cb97\",\"type\":\"PreviewSaveTool\"},{\"id\":\"41133c49-ad7b-4dc4-8a39-122a6e0b50fc\",\"type\":\"ResizeTool\"},{\"id\":\"ba71d1b2-c809-457b-8402-59d37441f3c7\",\"type\":\"ResetTool\"},{\"id\":\"165ca4e7-8837-46da-bff2-9c64d2a3240a\",\"type\":\"HelpTool\"}],\"x_mapper_type\":\"auto\",\"x_range\":{\"id\":\"9a553067-ef61-498a-b8c2-ad6c2109cb96\",\"type\":\"Range1d\"},\"xscale\":\"auto\",\"y_mapper_type\":\"auto\",\"y_range\":{\"id\":\"4eddbe2f-1d92-494e-aaf6-5da8b30e583c\",\"type\":\"FactorRange\"},\"yscale\":\"auto\"},\"id\":\"14dc5235-3f84-4eb2-bdd9-1dd4340285d8\",\"subtype\":\"Chart\",\"type\":\"Plot\"},{\"attributes\":{},\"id\":\"e552017a-7ced-4824-a475-25ab9ccd697d\",\"type\":\"BasicTicker\"},{\"attributes\":{\"axis_label\":\"Difference\",\"formatter\":{\"id\":\"c0eff11f-7e8c-41f7-83c0-aa82bd5c009b\",\"type\":\"BasicTickFormatter\"},\"plot\":{\"id\":\"3be86840-af6f-47f9-9dc1-74ca0400cb95\",\"subtype\":\"Chart\",\"type\":\"Plot\"},\"ticker\":{\"id\":\"be6c135e-9998-461d-9da1-bb5a9d76111e\",\"type\":\"BasicTicker\"}},\"id\":\"e7f2aaaa-2e2c-4239-b58b-a4543d7001a0\",\"type\":\"LinearAxis\"},{\"attributes\":{\"data_source\":{\"id\":\"0108a250-640c-4f04-829f-33f58d0f849c\",\"type\":\"ColumnDataSource\"},\"glyph\":{\"id\":\"8a536349-21e8-49e4-9d60-60efea6bbef3\",\"type\":\"Circle\"},\"hover_glyph\":null,\"nonselection_glyph\":null,\"selection_glyph\":null},\"id\":\"4e72cff1-8c49-405f-8641-0986fc23f8b7\",\"type\":\"GlyphRenderer\"},{\"attributes\":{\"plot\":{\"id\":\"dc4674bc-dcd2-408f-8c1f-9f257ad66120\",\"subtype\":\"Chart\",\"type\":\"Plot\"}},\"id\":\"242e24ac-be31-4eb6-964a-f575d0d52de0\",\"type\":\"ResetTool\"},{\"attributes\":{},\"id\":\"6becffa3-7bb7-4f6e-a539-a91ee7973dcf\",\"type\":\"BasicTickFormatter\"},{\"attributes\":{\"callback\":null,\"column_names\":[\"x_values\",\"y_values\"],\"data\":{\"chart_index\":[null,null,null,null,null,null,null,null,null,null],\"x_values\":[1.790593776635928,4.059422218439355,7.338097755253313,1.8887242599839098,0.3563777166599831,0.0671822119195804,2.7890181437174277,1.5084740014914755,2.509303418250477,0.42502634525807226],\"y_values\":[\"None\",\"None\",\"None\",\"None\",\"None\",\"None\",\"None\",\"None\",\"None\",\"None\"]}},\"id\":\"afc77b20-933a-4d40-9d74-a5929183f3be\",\"type\":\"ColumnDataSource\"},{\"attributes\":{\"plot\":{\"id\":\"d070a192-96e9-42b9-b6d9-a98adc888972\",\"subtype\":\"Chart\",\"type\":\"Plot\"},\"ticker\":{\"id\":\"c5041114-78be-4f32-8990-7dd3f59bf2b5\",\"type\":\"BasicTicker\"}},\"id\":\"d2872f6c-b6c6-40d6-b414-fe8555c6c8c6\",\"type\":\"Grid\"},{\"attributes\":{\"plot\":{\"id\":\"14dc5235-3f84-4eb2-bdd9-1dd4340285d8\",\"subtype\":\"Chart\",\"type\":\"Plot\"}},\"id\":\"41133c49-ad7b-4dc4-8a39-122a6e0b50fc\",\"type\":\"ResizeTool\"},{\"attributes\":{\"plot\":{\"id\":\"dc4674bc-dcd2-408f-8c1f-9f257ad66120\",\"subtype\":\"Chart\",\"type\":\"Plot\"}},\"id\":\"43663a20-46b6-452f-b427-9f120a28d379\",\"type\":\"WheelZoomTool\"},{\"attributes\":{\"plot\":{\"id\":\"dca55044-79ca-4da9-8c61-ae348199a301\",\"subtype\":\"Chart\",\"type\":\"Plot\"}},\"id\":\"3d3dc865-2bf8-4eab-bab0-9adb2b958d55\",\"type\":\"PanTool\"},{\"attributes\":{},\"id\":\"56ccfdcd-bf6f-42ee-9250-356738b8b785\",\"type\":\"BasicTickFormatter\"},{\"attributes\":{},\"id\":\"575f45f3-b6b7-4ac5-9e0e-8773c31e6912\",\"type\":\"ToolEvents\"},{\"attributes\":{\"axis_label\":\"Difference\",\"formatter\":{\"id\":\"a35c705e-8509-4695-abab-568c8c620bf7\",\"type\":\"BasicTickFormatter\"},\"plot\":{\"id\":\"4b9b9aeb-f746-47a2-8c22-e7b1dcfb021b\",\"subtype\":\"Chart\",\"type\":\"Plot\"},\"ticker\":{\"id\":\"6a7bf505-ffb4-4f9a-b1ef-1cb5adf899a5\",\"type\":\"BasicTicker\"}},\"id\":\"387c6d82-3d3b-4a46-bd28-664eb0fb0818\",\"type\":\"LinearAxis\"},{\"attributes\":{\"plot\":{\"id\":\"e6ac3b57-4231-4a6a-a516-e5706d65c5e6\",\"subtype\":\"Chart\",\"type\":\"Plot\"}},\"id\":\"d91baf01-8170-45fe-9e1f-2a06c9f26a79\",\"type\":\"PanTool\"},{\"attributes\":{},\"id\":\"e9c855c3-0631-4c35-809b-3f3c3f2127c1\",\"type\":\"CategoricalTicker\"},{\"attributes\":{\"callback\":null,\"end\":8.065189309586685,\"start\":-0.6599093424137928},\"id\":\"efaf760d-ef89-4422-9c02-01e32cb32a60\",\"type\":\"Range1d\"},{\"attributes\":{\"callback\":null,\"factors\":[\"None\"]},\"id\":\"4eddbe2f-1d92-494e-aaf6-5da8b30e583c\",\"type\":\"FactorRange\"},{\"attributes\":{\"plot\":{\"id\":\"dca55044-79ca-4da9-8c61-ae348199a301\",\"subtype\":\"Chart\",\"type\":\"Plot\"}},\"id\":\"0652fb89-e50b-49ab-b607-08f875bf806b\",\"type\":\"HelpTool\"},{\"attributes\":{\"bottom_units\":\"screen\",\"fill_alpha\":{\"value\":0.5},\"fill_color\":{\"value\":\"lightgrey\"},\"left_units\":\"screen\",\"level\":\"overlay\",\"line_alpha\":{\"value\":1.0},\"line_color\":{\"value\":\"black\"},\"line_dash\":[4,4],\"line_width\":{\"value\":2},\"plot\":null,\"render_mode\":\"css\",\"right_units\":\"screen\",\"top_units\":\"screen\"},\"id\":\"709c2563-236d-4d74-b2ba-691d1247ad61\",\"type\":\"BoxAnnotation\"},{\"attributes\":{},\"id\":\"be6c135e-9998-461d-9da1-bb5a9d76111e\",\"type\":\"BasicTicker\"},{\"attributes\":{\"overlay\":{\"id\":\"d3e8c3fc-5698-48b1-83b5-65c27130c796\",\"type\":\"BoxAnnotation\"},\"plot\":{\"id\":\"dca55044-79ca-4da9-8c61-ae348199a301\",\"subtype\":\"Chart\",\"type\":\"Plot\"}},\"id\":\"8ad6577c-a92d-4d7e-b044-fdca845512e6\",\"type\":\"BoxZoomTool\"},{\"attributes\":{\"plot\":{\"id\":\"28ace379-0340-48c4-80c1-c82f71499804\",\"subtype\":\"Chart\",\"type\":\"Plot\"}},\"id\":\"03db83ee-cd1d-4130-a252-614b11f45295\",\"type\":\"WheelZoomTool\"},{\"attributes\":{},\"id\":\"6b48a79e-7564-4b8d-be1f-dec81fd8a0a5\",\"type\":\"ToolEvents\"},{\"attributes\":{\"bottom_units\":\"screen\",\"fill_alpha\":{\"value\":0.5},\"fill_color\":{\"value\":\"lightgrey\"},\"left_units\":\"screen\",\"level\":\"overlay\",\"line_alpha\":{\"value\":1.0},\"line_color\":{\"value\":\"black\"},\"line_dash\":[4,4],\"line_width\":{\"value\":2},\"plot\":null,\"render_mode\":\"css\",\"right_units\":\"screen\",\"top_units\":\"screen\"},\"id\":\"a52fa28f-6e14-40b1-85bb-fb42a2f47c2a\",\"type\":\"BoxAnnotation\"},{\"attributes\":{\"callback\":null,\"factors\":[\"None\"]},\"id\":\"81a89d03-2d50-4820-8297-0fe14c1272dd\",\"type\":\"FactorRange\"},{\"attributes\":{},\"id\":\"42b3783c-3d0c-44ec-8f05-8a0621ec0afe\",\"type\":\"BasicTickFormatter\"},{\"attributes\":{\"plot\":{\"id\":\"dca55044-79ca-4da9-8c61-ae348199a301\",\"subtype\":\"Chart\",\"type\":\"Plot\"}},\"id\":\"cb76e89a-3302-4d9c-b767-8a659fe852d1\",\"type\":\"ResetTool\"},{\"attributes\":{\"axis_label\":\"Difference\",\"formatter\":{\"id\":\"42b3783c-3d0c-44ec-8f05-8a0621ec0afe\",\"type\":\"BasicTickFormatter\"},\"plot\":{\"id\":\"28ace379-0340-48c4-80c1-c82f71499804\",\"subtype\":\"Chart\",\"type\":\"Plot\"},\"ticker\":{\"id\":\"73789de3-2e61-4fbc-8651-51e2bdf364f4\",\"type\":\"BasicTicker\"}},\"id\":\"b4a54044-3202-4d78-a077-dd0bf394707b\",\"type\":\"LinearAxis\"},{\"attributes\":{\"plot\":{\"id\":\"4b9b9aeb-f746-47a2-8c22-e7b1dcfb021b\",\"subtype\":\"Chart\",\"type\":\"Plot\"},\"ticker\":{\"id\":\"6a7bf505-ffb4-4f9a-b1ef-1cb5adf899a5\",\"type\":\"BasicTicker\"}},\"id\":\"cc3d3096-d551-4287-84f2-a0cc55244733\",\"type\":\"Grid\"},{\"attributes\":{\"fill_alpha\":{\"value\":0.7},\"fill_color\":{\"value\":\"#f22c40\"},\"line_color\":{\"value\":\"#f22c40\"},\"size\":{\"units\":\"screen\",\"value\":8},\"x\":{\"field\":\"x_values\"},\"y\":{\"field\":\"y_values\"}},\"id\":\"f1a71152-fb83-4adf-9c33-f1b0ec22838f\",\"type\":\"Circle\"},{\"attributes\":{\"fill_alpha\":{\"value\":0.7},\"fill_color\":{\"value\":\"#f22c40\"},\"line_color\":{\"value\":\"#f22c40\"},\"size\":{\"units\":\"screen\",\"value\":8},\"x\":{\"field\":\"x_values\"},\"y\":{\"field\":\"y_values\"}},\"id\":\"2f27a707-5a5d-4b51-b986-ddf2570e9818\",\"type\":\"Circle\"},{\"attributes\":{\"data_source\":{\"id\":\"afc77b20-933a-4d40-9d74-a5929183f3be\",\"type\":\"ColumnDataSource\"},\"glyph\":{\"id\":\"1da23b23-6c20-4998-923d-529d89752127\",\"type\":\"Circle\"},\"hover_glyph\":null,\"nonselection_glyph\":null,\"selection_glyph\":null},\"id\":\"6fa3bf0e-cb89-4886-95bc-e0e6f6974afd\",\"type\":\"GlyphRenderer\"},{\"attributes\":{\"overlay\":{\"id\":\"6f35cbb5-f19d-4c51-a21b-827f7a901bed\",\"type\":\"BoxAnnotation\"},\"plot\":{\"id\":\"3be86840-af6f-47f9-9dc1-74ca0400cb95\",\"subtype\":\"Chart\",\"type\":\"Plot\"}},\"id\":\"5d41f1d9-3fe5-49e7-b59c-49bc272591fd\",\"type\":\"BoxZoomTool\"},{\"attributes\":{\"callback\":null,\"end\":8.065189309586685,\"start\":-0.6599093424137928},\"id\":\"b3472bd2-d06d-4b25-a16e-c2959b4e7971\",\"type\":\"Range1d\"},{\"attributes\":{\"plot\":{\"id\":\"4b9b9aeb-f746-47a2-8c22-e7b1dcfb021b\",\"subtype\":\"Chart\",\"type\":\"Plot\"}},\"id\":\"5ec4a797-c3c5-4fec-95d2-8e9eb01a81dd\",\"type\":\"ResetTool\"},{\"attributes\":{\"plot\":{\"id\":\"28ace379-0340-48c4-80c1-c82f71499804\",\"subtype\":\"Chart\",\"type\":\"Plot\"}},\"id\":\"02b9ceb2-55b0-4ac2-a8c4-aa39b194c722\",\"type\":\"PreviewSaveTool\"},{\"attributes\":{\"overlay\":{\"id\":\"869d61fb-133c-4c0f-81ed-f117c63eb2cb\",\"type\":\"BoxAnnotation\"},\"plot\":{\"id\":\"e6ac3b57-4231-4a6a-a516-e5706d65c5e6\",\"subtype\":\"Chart\",\"type\":\"Plot\"}},\"id\":\"0fcd2028-f0fa-466c-9f60-9310b1b84abc\",\"type\":\"BoxZoomTool\"},{\"attributes\":{},\"id\":\"5d896c29-b57f-47ed-8360-155a395d9d5c\",\"type\":\"CategoricalTicker\"},{\"attributes\":{},\"id\":\"cc1870fb-51fe-4900-82e2-100b35784631\",\"type\":\"ToolEvents\"},{\"attributes\":{},\"id\":\"7fb594a9-cded-4e0e-bf99-b15d9bbf9904\",\"type\":\"BasicTicker\"},{\"attributes\":{\"below\":[{\"id\":\"7b8d10fe-0933-4eb4-b04e-2f2cb5f3eb0c\",\"type\":\"LinearAxis\"}],\"left\":[{\"id\":\"22a27d18-27fe-4daa-b0dc-86f16629bf73\",\"type\":\"LinearAxis\"}],\"legend\":null,\"renderers\":[{\"id\":\"c47cd0a7-2c47-473c-9077-63e19576fcdb\",\"type\":\"BoxAnnotation\"},{\"id\":\"e156c2bc-0b7a-473a-bc3f-5b65439662e1\",\"type\":\"GlyphRenderer\"},{\"id\":\"7b8d10fe-0933-4eb4-b04e-2f2cb5f3eb0c\",\"type\":\"LinearAxis\"},{\"id\":\"22a27d18-27fe-4daa-b0dc-86f16629bf73\",\"type\":\"LinearAxis\"},{\"id\":\"788c1f4e-2af0-44d8-a25e-66a84836b76d\",\"type\":\"Grid\"},{\"id\":\"cc31479c-1766-42ae-ad10-eb4051d37424\",\"type\":\"Grid\"}],\"title\":\"Allele Effect Differences\",\"title_text_font_size\":{\"value\":\"14pt\"},\"tool_events\":{\"id\":\"e6a268ec-88cf-4e2f-9635-d982424137db\",\"type\":\"ToolEvents\"},\"tools\":[{\"id\":\"f5c85d45-a990-4c79-85dd-f29a3a6d5390\",\"type\":\"PanTool\"},{\"id\":\"27b0cf67-5a2a-42eb-a4d9-7ab5467bbc17\",\"type\":\"WheelZoomTool\"},{\"id\":\"1762e3a3-962c-4bf7-ab1a-5aa5170dc224\",\"type\":\"BoxZoomTool\"},{\"id\":\"e8a1c9f4-c109-40ce-8461-856072a2bdd1\",\"type\":\"PreviewSaveTool\"},{\"id\":\"14b5bf58-1696-4ad5-8bd0-c67c19482678\",\"type\":\"ResizeTool\"},{\"id\":\"7b0e0a24-85e4-4a85-a05f-c96b13a10c69\",\"type\":\"ResetTool\"},{\"id\":\"b25bd965-98a8-4c49-848f-aed651fe4ba0\",\"type\":\"HelpTool\"}],\"x_mapper_type\":\"auto\",\"x_range\":{\"id\":\"8c234d3f-ce75-42b6-84ca-045242139d58\",\"type\":\"Range1d\"},\"xscale\":\"auto\",\"y_mapper_type\":\"auto\",\"y_range\":{\"id\":\"94affbf7-3aee-46c1-a73d-f44295ab16c8\",\"type\":\"Range1d\"},\"yscale\":\"auto\"},\"id\":\"654c8f79-be5a-4fd6-916d-c7c31a693b3e\",\"subtype\":\"Chart\",\"type\":\"Plot\"},{\"attributes\":{\"plot\":{\"id\":\"28ace379-0340-48c4-80c1-c82f71499804\",\"subtype\":\"Chart\",\"type\":\"Plot\"},\"ticker\":{\"id\":\"73789de3-2e61-4fbc-8651-51e2bdf364f4\",\"type\":\"BasicTicker\"}},\"id\":\"bc92d142-c1f5-4d41-8942-b01d2d0de910\",\"type\":\"Grid\"},{\"attributes\":{},\"id\":\"6e821dc9-3854-4635-b7f3-96da40b246d3\",\"type\":\"BasicTickFormatter\"},{\"attributes\":{\"axis_label\":\"Difference\",\"formatter\":{\"id\":\"d3776e65-1455-4711-bc93-aa4eea736342\",\"type\":\"BasicTickFormatter\"},\"plot\":{\"id\":\"dca55044-79ca-4da9-8c61-ae348199a301\",\"subtype\":\"Chart\",\"type\":\"Plot\"},\"ticker\":{\"id\":\"c6426c66-be0b-4ac6-9056-f216628191ca\",\"type\":\"BasicTicker\"}},\"id\":\"80cac089-a0e0-4136-9a20-3c19a0791900\",\"type\":\"LinearAxis\"},{\"attributes\":{\"plot\":{\"id\":\"e6ac3b57-4231-4a6a-a516-e5706d65c5e6\",\"subtype\":\"Chart\",\"type\":\"Plot\"}},\"id\":\"da4c4617-c1bd-4ba0-acae-d601adf564df\",\"type\":\"HelpTool\"},{\"attributes\":{\"plot\":{\"id\":\"d7fc0b54-2ccb-4c72-aa8b-3df87826b7dd\",\"subtype\":\"Chart\",\"type\":\"Plot\"}},\"id\":\"2571fa20-27aa-418e-b8c3-a65af545b41e\",\"type\":\"ResizeTool\"},{\"attributes\":{},\"id\":\"47fa69db-1555-4eca-a649-016833ad1b3c\",\"type\":\"CategoricalTicker\"},{\"attributes\":{\"below\":[{\"id\":\"387c6d82-3d3b-4a46-bd28-664eb0fb0818\",\"type\":\"LinearAxis\"}],\"left\":[{\"id\":\"551fffa4-c4bf-429c-a077-4857453cd6dc\",\"type\":\"CategoricalAxis\"}],\"legend\":null,\"renderers\":[{\"id\":\"171b3766-419b-4d8c-854f-82ae495d36de\",\"type\":\"BoxAnnotation\"},{\"id\":\"6fa3bf0e-cb89-4886-95bc-e0e6f6974afd\",\"type\":\"GlyphRenderer\"},{\"id\":\"387c6d82-3d3b-4a46-bd28-664eb0fb0818\",\"type\":\"LinearAxis\"},{\"id\":\"551fffa4-c4bf-429c-a077-4857453cd6dc\",\"type\":\"CategoricalAxis\"},{\"id\":\"cc3d3096-d551-4287-84f2-a0cc55244733\",\"type\":\"Grid\"},{\"id\":\"6031514c-ae7b-479c-94ab-0230116beec5\",\"type\":\"Grid\"}],\"title\":\"Allele Effect Differences\",\"title_text_font_size\":{\"value\":\"14pt\"},\"tool_events\":{\"id\":\"6b48a79e-7564-4b8d-be1f-dec81fd8a0a5\",\"type\":\"ToolEvents\"},\"tools\":[{\"id\":\"aa7f80de-ba41-4b03-a269-37601d94382e\",\"type\":\"PanTool\"},{\"id\":\"ef6e83b1-f002-4184-b7b2-7f1026a37056\",\"type\":\"WheelZoomTool\"},{\"id\":\"72c57576-300c-46fa-8f6f-de78a8af9352\",\"type\":\"BoxZoomTool\"},{\"id\":\"b0efee37-fb8d-4604-a4ed-d7ed6b519428\",\"type\":\"PreviewSaveTool\"},{\"id\":\"93cd5236-ec82-41f4-9afe-7f0319c77b0f\",\"type\":\"ResizeTool\"},{\"id\":\"5ec4a797-c3c5-4fec-95d2-8e9eb01a81dd\",\"type\":\"ResetTool\"},{\"id\":\"83dd8295-41b0-4786-acbb-f73fad40d6d5\",\"type\":\"HelpTool\"}],\"x_mapper_type\":\"auto\",\"x_range\":{\"id\":\"efaf760d-ef89-4422-9c02-01e32cb32a60\",\"type\":\"Range1d\"},\"xscale\":\"auto\",\"y_mapper_type\":\"auto\",\"y_range\":{\"id\":\"f8f5d5c8-ef3e-4c60-bbf4-a5791ea084d6\",\"type\":\"FactorRange\"},\"yscale\":\"auto\"},\"id\":\"4b9b9aeb-f746-47a2-8c22-e7b1dcfb021b\",\"subtype\":\"Chart\",\"type\":\"Plot\"},{\"attributes\":{\"dimension\":1,\"plot\":{\"id\":\"654c8f79-be5a-4fd6-916d-c7c31a693b3e\",\"subtype\":\"Chart\",\"type\":\"Plot\"},\"ticker\":{\"id\":\"e3429281-a10b-4bbb-b08b-51f712b97132\",\"type\":\"BasicTicker\"}},\"id\":\"cc31479c-1766-42ae-ad10-eb4051d37424\",\"type\":\"Grid\"},{\"attributes\":{\"fill_alpha\":{\"value\":0.7},\"fill_color\":{\"value\":\"#f22c40\"},\"line_color\":{\"value\":\"#f22c40\"},\"size\":{\"units\":\"screen\",\"value\":8},\"x\":{\"field\":\"x_values\"},\"y\":{\"field\":\"y_values\"}},\"id\":\"1095d86f-8ed4-4976-bc4c-3819cccff13f\",\"type\":\"Circle\"},{\"attributes\":{\"callback\":null,\"end\":8.065189309586685,\"start\":-0.6599093424137928},\"id\":\"8316fc48-fcf8-49a8-89c3-f04f80fd587a\",\"type\":\"Range1d\"},{\"attributes\":{\"plot\":{\"id\":\"d070a192-96e9-42b9-b6d9-a98adc888972\",\"subtype\":\"Chart\",\"type\":\"Plot\"}},\"id\":\"4fe139f5-d96b-4cee-932b-0c242a26c48d\",\"type\":\"ResetTool\"},{\"attributes\":{\"plot\":{\"id\":\"4b9b9aeb-f746-47a2-8c22-e7b1dcfb021b\",\"subtype\":\"Chart\",\"type\":\"Plot\"}},\"id\":\"93cd5236-ec82-41f4-9afe-7f0319c77b0f\",\"type\":\"ResizeTool\"},{\"attributes\":{\"plot\":{\"id\":\"dca55044-79ca-4da9-8c61-ae348199a301\",\"subtype\":\"Chart\",\"type\":\"Plot\"}},\"id\":\"a2ac5e57-6d2a-4421-8e18-cf1eb3c6bf7b\",\"type\":\"PreviewSaveTool\"},{\"attributes\":{\"bottom_units\":\"screen\",\"fill_alpha\":{\"value\":0.5},\"fill_color\":{\"value\":\"lightgrey\"},\"left_units\":\"screen\",\"level\":\"overlay\",\"line_alpha\":{\"value\":1.0},\"line_color\":{\"value\":\"black\"},\"line_dash\":[4,4],\"line_width\":{\"value\":2},\"plot\":null,\"render_mode\":\"css\",\"right_units\":\"screen\",\"top_units\":\"screen\"},\"id\":\"c47cd0a7-2c47-473c-9077-63e19576fcdb\",\"type\":\"BoxAnnotation\"},{\"attributes\":{\"callback\":null,\"factors\":[\"None\"]},\"id\":\"7b6dd7b7-044d-479b-a332-b423dcba5123\",\"type\":\"FactorRange\"},{\"attributes\":{},\"id\":\"eeecd453-4b65-45fc-99e7-3a4518709cd6\",\"type\":\"BasicTickFormatter\"},{\"attributes\":{\"axis_label\":\"Locus\",\"formatter\":{\"id\":\"63136b62-d04f-494f-ad63-41d081f7a440\",\"type\":\"CategoricalTickFormatter\"},\"major_label_orientation\":0.7853981633974483,\"plot\":{\"id\":\"4b9b9aeb-f746-47a2-8c22-e7b1dcfb021b\",\"subtype\":\"Chart\",\"type\":\"Plot\"},\"ticker\":{\"id\":\"cec0c45c-b317-4765-9d34-0ba167e9643b\",\"type\":\"CategoricalTicker\"}},\"id\":\"551fffa4-c4bf-429c-a077-4857453cd6dc\",\"type\":\"CategoricalAxis\"},{\"attributes\":{\"callback\":null,\"column_names\":[\"x_values\",\"y_values\"],\"data\":{\"chart_index\":[null,null,null,null,null,null,null,null,null,null],\"x_values\":[1.790593776635928,4.059422218439355,7.338097755253313,1.8887242599839098,0.3563777166599831,0.0671822119195804,2.7890181437174277,1.5084740014914755,2.509303418250477,0.42502634525807226],\"y_values\":[25,67,251,347,353,410,416,536,590,729]}},\"id\":\"825e6381-fc46-40ec-86b5-800a7603afe0\",\"type\":\"ColumnDataSource\"},{\"attributes\":{\"plot\":{\"id\":\"dca55044-79ca-4da9-8c61-ae348199a301\",\"subtype\":\"Chart\",\"type\":\"Plot\"},\"ticker\":{\"id\":\"c6426c66-be0b-4ac6-9056-f216628191ca\",\"type\":\"BasicTicker\"}},\"id\":\"0f20b87c-2181-4993-b84c-4d37ef1ad46f\",\"type\":\"Grid\"},{\"attributes\":{\"plot\":{\"id\":\"dc4674bc-dcd2-408f-8c1f-9f257ad66120\",\"subtype\":\"Chart\",\"type\":\"Plot\"},\"ticker\":{\"id\":\"a6a5cba3-e1e6-4977-8e12-a88586724974\",\"type\":\"BasicTicker\"}},\"id\":\"a31281f6-1c09-470d-900d-69381043e426\",\"type\":\"Grid\"},{\"attributes\":{\"plot\":{\"id\":\"e6ac3b57-4231-4a6a-a516-e5706d65c5e6\",\"subtype\":\"Chart\",\"type\":\"Plot\"}},\"id\":\"fdf2c1fc-c46b-48b5-9dce-fe63045cf1fb\",\"type\":\"PreviewSaveTool\"},{\"attributes\":{\"fill_alpha\":{\"value\":0.7},\"fill_color\":{\"value\":\"#f22c40\"},\"line_color\":{\"value\":\"#f22c40\"},\"size\":{\"units\":\"screen\",\"value\":8},\"x\":{\"field\":\"x_values\"},\"y\":{\"field\":\"y_values\"}},\"id\":\"38f71cfc-7613-485e-8245-7badb6e1ee5e\",\"type\":\"Circle\"},{\"attributes\":{},\"id\":\"eeccfd64-b1ec-413d-87c8-28a6f413e97a\",\"type\":\"ToolEvents\"},{\"attributes\":{\"below\":[{\"id\":\"f1c010a9-e292-4e49-9a6e-0fba72574449\",\"type\":\"LinearAxis\"}],\"left\":[{\"id\":\"52fce4c9-b62d-4c3e-ba33-a25cc09fbdf2\",\"type\":\"CategoricalAxis\"}],\"legend\":null,\"renderers\":[{\"id\":\"869d61fb-133c-4c0f-81ed-f117c63eb2cb\",\"type\":\"BoxAnnotation\"},{\"id\":\"4bedebe0-189d-42ae-be78-c05f8cea62ed\",\"type\":\"GlyphRenderer\"},{\"id\":\"f1c010a9-e292-4e49-9a6e-0fba72574449\",\"type\":\"LinearAxis\"},{\"id\":\"52fce4c9-b62d-4c3e-ba33-a25cc09fbdf2\",\"type\":\"CategoricalAxis\"},{\"id\":\"57bca747-5596-435a-baa0-079b46857fb4\",\"type\":\"Grid\"},{\"id\":\"3b4c937d-40e1-4514-9740-359bba29e99d\",\"type\":\"Grid\"}],\"title\":\"Allele Effect Differences\",\"title_text_font_size\":{\"value\":\"14pt\"},\"tool_events\":{\"id\":\"eeccfd64-b1ec-413d-87c8-28a6f413e97a\",\"type\":\"ToolEvents\"},\"tools\":[{\"id\":\"d91baf01-8170-45fe-9e1f-2a06c9f26a79\",\"type\":\"PanTool\"},{\"id\":\"af13e533-e7a8-49f9-98b8-093cf77a72c7\",\"type\":\"WheelZoomTool\"},{\"id\":\"0fcd2028-f0fa-466c-9f60-9310b1b84abc\",\"type\":\"BoxZoomTool\"},{\"id\":\"fdf2c1fc-c46b-48b5-9dce-fe63045cf1fb\",\"type\":\"PreviewSaveTool\"},{\"id\":\"a7448650-407c-4dd4-b18c-bbba7efe5cb9\",\"type\":\"ResizeTool\"},{\"id\":\"6fb91990-fd67-49cf-9109-0bc0079f881a\",\"type\":\"ResetTool\"},{\"id\":\"da4c4617-c1bd-4ba0-acae-d601adf564df\",\"type\":\"HelpTool\"}],\"x_mapper_type\":\"auto\",\"x_range\":{\"id\":\"b3472bd2-d06d-4b25-a16e-c2959b4e7971\",\"type\":\"Range1d\"},\"xscale\":\"auto\",\"y_mapper_type\":\"auto\",\"y_range\":{\"id\":\"360a90e8-6c1b-43f7-967b-77627aab6d1c\",\"type\":\"FactorRange\"},\"yscale\":\"auto\"},\"id\":\"e6ac3b57-4231-4a6a-a516-e5706d65c5e6\",\"subtype\":\"Chart\",\"type\":\"Plot\"},{\"attributes\":{\"plot\":{\"id\":\"dc4674bc-dcd2-408f-8c1f-9f257ad66120\",\"subtype\":\"Chart\",\"type\":\"Plot\"}},\"id\":\"d75a80d3-5a2a-4292-901e-bed14ad13a16\",\"type\":\"HelpTool\"},{\"attributes\":{\"plot\":{\"id\":\"654c8f79-be5a-4fd6-916d-c7c31a693b3e\",\"subtype\":\"Chart\",\"type\":\"Plot\"}},\"id\":\"27b0cf67-5a2a-42eb-a4d9-7ab5467bbc17\",\"type\":\"WheelZoomTool\"},{\"attributes\":{\"plot\":{\"id\":\"14dc5235-3f84-4eb2-bdd9-1dd4340285d8\",\"subtype\":\"Chart\",\"type\":\"Plot\"}},\"id\":\"f36e1642-976c-47e0-9e88-7d5f993c300e\",\"type\":\"PanTool\"},{\"attributes\":{\"data_source\":{\"id\":\"d5564953-f1f2-4210-bf63-c9c933e57b78\",\"type\":\"ColumnDataSource\"},\"glyph\":{\"id\":\"57fe8749-5b16-492a-ac2c-507a593fae22\",\"type\":\"Circle\"},\"hover_glyph\":null,\"nonselection_glyph\":null,\"selection_glyph\":null},\"id\":\"c302e027-e9aa-4e2c-881e-093f2d966d50\",\"type\":\"GlyphRenderer\"},{\"attributes\":{},\"id\":\"dfc8ecd5-e252-412a-979c-a504a54ed2fd\",\"type\":\"BasicTickFormatter\"},{\"attributes\":{\"plot\":{\"id\":\"d7fc0b54-2ccb-4c72-aa8b-3df87826b7dd\",\"subtype\":\"Chart\",\"type\":\"Plot\"}},\"id\":\"1998b474-4077-4d02-8dc3-b7b8a04f5739\",\"type\":\"PreviewSaveTool\"},{\"attributes\":{\"plot\":{\"id\":\"28ace379-0340-48c4-80c1-c82f71499804\",\"subtype\":\"Chart\",\"type\":\"Plot\"}},\"id\":\"777b500a-9350-473f-82ee-983030a45eda\",\"type\":\"ResizeTool\"},{\"attributes\":{\"callback\":null,\"column_names\":[\"x_values\",\"y_values\"],\"data\":{\"chart_index\":[null,null,null,null,null,null,null,null,null,null],\"x_values\":[1.790593776635928,4.059422218439355,7.338097755253313,1.8887242599839098,0.3563777166599831,0.0671822119195804,2.7890181437174277,1.5084740014914755,2.509303418250477,0.42502634525807226],\"y_values\":[25,67,251,347,353,410,416,536,590,729]}},\"id\":\"8db78a0d-e14d-4867-881f-5a582177046a\",\"type\":\"ColumnDataSource\"},{\"attributes\":{},\"id\":\"6a7bf505-ffb4-4f9a-b1ef-1cb5adf899a5\",\"type\":\"BasicTicker\"},{\"attributes\":{\"bottom_units\":\"screen\",\"fill_alpha\":{\"value\":0.5},\"fill_color\":{\"value\":\"lightgrey\"},\"left_units\":\"screen\",\"level\":\"overlay\",\"line_alpha\":{\"value\":1.0},\"line_color\":{\"value\":\"black\"},\"line_dash\":[4,4],\"line_width\":{\"value\":2},\"plot\":null,\"render_mode\":\"css\",\"right_units\":\"screen\",\"top_units\":\"screen\"},\"id\":\"6f35cbb5-f19d-4c51-a21b-827f7a901bed\",\"type\":\"BoxAnnotation\"},{\"attributes\":{\"plot\":{\"id\":\"14dc5235-3f84-4eb2-bdd9-1dd4340285d8\",\"subtype\":\"Chart\",\"type\":\"Plot\"}},\"id\":\"ba71d1b2-c809-457b-8402-59d37441f3c7\",\"type\":\"ResetTool\"},{\"attributes\":{\"axis_label\":\"Locus\",\"formatter\":{\"id\":\"2a7c6a39-1f6f-4402-b36d-9c9a38a8b186\",\"type\":\"CategoricalTickFormatter\"},\"major_label_orientation\":0.7853981633974483,\"plot\":{\"id\":\"d7fc0b54-2ccb-4c72-aa8b-3df87826b7dd\",\"subtype\":\"Chart\",\"type\":\"Plot\"},\"ticker\":{\"id\":\"7056a16d-98a2-43d0-94aa-b9505cf5311a\",\"type\":\"CategoricalTicker\"}},\"id\":\"36497ff7-0f64-4a74-84c9-8d8dd378c15d\",\"type\":\"CategoricalAxis\"},{\"attributes\":{\"axis_label\":\"Locus\",\"formatter\":{\"id\":\"6a6b322a-1197-4562-a292-ce5d5d32ca61\",\"type\":\"CategoricalTickFormatter\"},\"major_label_orientation\":0.7853981633974483,\"plot\":{\"id\":\"dca55044-79ca-4da9-8c61-ae348199a301\",\"subtype\":\"Chart\",\"type\":\"Plot\"},\"ticker\":{\"id\":\"5d896c29-b57f-47ed-8360-155a395d9d5c\",\"type\":\"CategoricalTicker\"}},\"id\":\"65574ef6-949e-45ae-a04d-a16be193960b\",\"type\":\"CategoricalAxis\"},{\"attributes\":{\"below\":[{\"id\":\"80cac089-a0e0-4136-9a20-3c19a0791900\",\"type\":\"LinearAxis\"}],\"left\":[{\"id\":\"65574ef6-949e-45ae-a04d-a16be193960b\",\"type\":\"CategoricalAxis\"}],\"legend\":null,\"renderers\":[{\"id\":\"d3e8c3fc-5698-48b1-83b5-65c27130c796\",\"type\":\"BoxAnnotation\"},{\"id\":\"4e72cff1-8c49-405f-8641-0986fc23f8b7\",\"type\":\"GlyphRenderer\"},{\"id\":\"80cac089-a0e0-4136-9a20-3c19a0791900\",\"type\":\"LinearAxis\"},{\"id\":\"65574ef6-949e-45ae-a04d-a16be193960b\",\"type\":\"CategoricalAxis\"},{\"id\":\"0f20b87c-2181-4993-b84c-4d37ef1ad46f\",\"type\":\"Grid\"},{\"id\":\"a5d0124a-8b19-4a04-8fc1-c974d896d04c\",\"type\":\"Grid\"}],\"title\":\"Allele Effect Differences\",\"title_text_font_size\":{\"value\":\"14pt\"},\"tool_events\":{\"id\":\"063afddb-dba5-46e8-be2f-f1164bc6fbd7\",\"type\":\"ToolEvents\"},\"tools\":[{\"id\":\"3d3dc865-2bf8-4eab-bab0-9adb2b958d55\",\"type\":\"PanTool\"},{\"id\":\"a678e5fa-2e3f-4250-b346-62de0c3f26e3\",\"type\":\"WheelZoomTool\"},{\"id\":\"8ad6577c-a92d-4d7e-b044-fdca845512e6\",\"type\":\"BoxZoomTool\"},{\"id\":\"a2ac5e57-6d2a-4421-8e18-cf1eb3c6bf7b\",\"type\":\"PreviewSaveTool\"},{\"id\":\"df21b1fb-c19e-4631-b094-459cd5e7263a\",\"type\":\"ResizeTool\"},{\"id\":\"cb76e89a-3302-4d9c-b767-8a659fe852d1\",\"type\":\"ResetTool\"},{\"id\":\"0652fb89-e50b-49ab-b607-08f875bf806b\",\"type\":\"HelpTool\"}],\"x_mapper_type\":\"auto\",\"x_range\":{\"id\":\"f74cdc88-459f-41fa-bb71-52071d468db8\",\"type\":\"Range1d\"},\"xscale\":\"auto\",\"y_mapper_type\":\"auto\",\"y_range\":{\"id\":\"81a89d03-2d50-4820-8297-0fe14c1272dd\",\"type\":\"FactorRange\"},\"yscale\":\"auto\"},\"id\":\"dca55044-79ca-4da9-8c61-ae348199a301\",\"subtype\":\"Chart\",\"type\":\"Plot\"},{\"attributes\":{\"plot\":{\"id\":\"4b9b9aeb-f746-47a2-8c22-e7b1dcfb021b\",\"subtype\":\"Chart\",\"type\":\"Plot\"}},\"id\":\"83dd8295-41b0-4786-acbb-f73fad40d6d5\",\"type\":\"HelpTool\"},{\"attributes\":{},\"id\":\"ac89ca23-b806-4740-89f5-16e977e1f452\",\"type\":\"BasicTickFormatter\"},{\"attributes\":{\"plot\":{\"id\":\"3be86840-af6f-47f9-9dc1-74ca0400cb95\",\"subtype\":\"Chart\",\"type\":\"Plot\"}},\"id\":\"4b36b86b-9d89-4879-9171-e824f4fb3e94\",\"type\":\"PanTool\"},{\"attributes\":{\"plot\":{\"id\":\"e6ac3b57-4231-4a6a-a516-e5706d65c5e6\",\"subtype\":\"Chart\",\"type\":\"Plot\"}},\"id\":\"6fb91990-fd67-49cf-9109-0bc0079f881a\",\"type\":\"ResetTool\"},{\"attributes\":{\"plot\":{\"id\":\"654c8f79-be5a-4fd6-916d-c7c31a693b3e\",\"subtype\":\"Chart\",\"type\":\"Plot\"}},\"id\":\"7b0e0a24-85e4-4a85-a05f-c96b13a10c69\",\"type\":\"ResetTool\"},{\"attributes\":{},\"id\":\"1dd2732a-c073-45ae-bca6-8ae3755cb1d5\",\"type\":\"BasicTickFormatter\"},{\"attributes\":{\"plot\":{\"id\":\"3be86840-af6f-47f9-9dc1-74ca0400cb95\",\"subtype\":\"Chart\",\"type\":\"Plot\"},\"ticker\":{\"id\":\"be6c135e-9998-461d-9da1-bb5a9d76111e\",\"type\":\"BasicTicker\"}},\"id\":\"e43894d1-faef-4b10-a286-586a0404bfa2\",\"type\":\"Grid\"},{\"attributes\":{\"dimension\":1,\"plot\":{\"id\":\"d070a192-96e9-42b9-b6d9-a98adc888972\",\"subtype\":\"Chart\",\"type\":\"Plot\"},\"ticker\":{\"id\":\"74e03f32-4b42-42be-8af4-c47822d5f37b\",\"type\":\"BasicTicker\"}},\"id\":\"b7617601-5f3d-499e-a1b9-45d805a5390f\",\"type\":\"Grid\"},{\"attributes\":{\"callback\":null,\"column_names\":[\"x_values\",\"y_values\"],\"data\":{\"chart_index\":[null,null,null,null,null,null,null,null,null,null],\"x_values\":[1.790593776635928,4.059422218439355,7.338097755253313,1.8887242599839098,0.3563777166599831,0.0671822119195804,2.7890181437174277,1.5084740014914755,2.509303418250477,0.42502634525807226],\"y_values\":[\"None\",\"None\",\"None\",\"None\",\"None\",\"None\",\"None\",\"None\",\"None\",\"None\"]}},\"id\":\"0e8e54d2-eb86-45f9-84ff-935856a07ad4\",\"type\":\"ColumnDataSource\"},{\"attributes\":{\"below\":[{\"id\":\"b4a54044-3202-4d78-a077-dd0bf394707b\",\"type\":\"LinearAxis\"}],\"left\":[{\"id\":\"aa6ba208-058c-4240-93fe-7b5347bb3595\",\"type\":\"LinearAxis\"}],\"legend\":null,\"renderers\":[{\"id\":\"5d4c1227-f571-4081-865c-94c51dedbe72\",\"type\":\"BoxAnnotation\"},{\"id\":\"c298d93b-01ed-41ce-a03d-8d53560e254c\",\"type\":\"GlyphRenderer\"},{\"id\":\"b4a54044-3202-4d78-a077-dd0bf394707b\",\"type\":\"LinearAxis\"},{\"id\":\"aa6ba208-058c-4240-93fe-7b5347bb3595\",\"type\":\"LinearAxis\"},{\"id\":\"bc92d142-c1f5-4d41-8942-b01d2d0de910\",\"type\":\"Grid\"},{\"id\":\"79aa7150-8117-4a33-999d-e6ee509e2a7c\",\"type\":\"Grid\"}],\"title\":\"Allele Effect Differences\",\"title_text_font_size\":{\"value\":\"14pt\"},\"tool_events\":{\"id\":\"532e7299-677f-4e7e-88d2-80610990130e\",\"type\":\"ToolEvents\"},\"tools\":[{\"id\":\"2ce78315-cbc5-4554-a49a-dd398502407e\",\"type\":\"PanTool\"},{\"id\":\"03db83ee-cd1d-4130-a252-614b11f45295\",\"type\":\"WheelZoomTool\"},{\"id\":\"1fb7d2b3-a8ac-4831-81b7-7977b067ac51\",\"type\":\"BoxZoomTool\"},{\"id\":\"02b9ceb2-55b0-4ac2-a8c4-aa39b194c722\",\"type\":\"PreviewSaveTool\"},{\"id\":\"777b500a-9350-473f-82ee-983030a45eda\",\"type\":\"ResizeTool\"},{\"id\":\"363bd9a1-f1af-4204-a04d-3440db02064a\",\"type\":\"ResetTool\"},{\"id\":\"4da45cb1-07ba-49f1-85fd-a6ec60bd00ae\",\"type\":\"HelpTool\"}],\"x_mapper_type\":\"auto\",\"x_range\":{\"id\":\"6978a434-f009-4f25-ac7d-0cea9df104b2\",\"type\":\"Range1d\"},\"xscale\":\"auto\",\"y_mapper_type\":\"auto\",\"y_range\":{\"id\":\"cf0b2afe-4da8-44a6-b07f-f0985e88be15\",\"type\":\"Range1d\"},\"yscale\":\"auto\"},\"id\":\"28ace379-0340-48c4-80c1-c82f71499804\",\"subtype\":\"Chart\",\"type\":\"Plot\"},{\"attributes\":{\"axis_label\":\"Locus\",\"formatter\":{\"id\":\"5bbce9e0-c3c0-4af3-b9da-2ca8df3ddc71\",\"type\":\"CategoricalTickFormatter\"},\"major_label_orientation\":0.7853981633974483,\"plot\":{\"id\":\"dc4674bc-dcd2-408f-8c1f-9f257ad66120\",\"subtype\":\"Chart\",\"type\":\"Plot\"},\"ticker\":{\"id\":\"e9c855c3-0631-4c35-809b-3f3c3f2127c1\",\"type\":\"CategoricalTicker\"}},\"id\":\"974f1a64-5d45-473e-af5d-8f498165c633\",\"type\":\"CategoricalAxis\"},{\"attributes\":{},\"id\":\"2ba86f2f-a068-42ae-88d8-df6ea5b34902\",\"type\":\"CategoricalTickFormatter\"},{\"attributes\":{\"plot\":{\"id\":\"d070a192-96e9-42b9-b6d9-a98adc888972\",\"subtype\":\"Chart\",\"type\":\"Plot\"}},\"id\":\"917f1c48-e593-4e1d-a2d6-4f53b1513d8a\",\"type\":\"WheelZoomTool\"},{\"attributes\":{},\"id\":\"e6a268ec-88cf-4e2f-9635-d982424137db\",\"type\":\"ToolEvents\"},{\"attributes\":{\"callback\":null,\"end\":8.065189309586685,\"start\":-0.6599093424137928},\"id\":\"6978a434-f009-4f25-ac7d-0cea9df104b2\",\"type\":\"Range1d\"},{\"attributes\":{},\"id\":\"7056a16d-98a2-43d0-94aa-b9505cf5311a\",\"type\":\"CategoricalTicker\"},{\"attributes\":{\"plot\":{\"id\":\"4b9b9aeb-f746-47a2-8c22-e7b1dcfb021b\",\"subtype\":\"Chart\",\"type\":\"Plot\"}},\"id\":\"b0efee37-fb8d-4604-a4ed-d7ed6b519428\",\"type\":\"PreviewSaveTool\"},{\"attributes\":{\"plot\":{\"id\":\"3be86840-af6f-47f9-9dc1-74ca0400cb95\",\"subtype\":\"Chart\",\"type\":\"Plot\"}},\"id\":\"aef3383d-4018-4b70-a60c-212593de4cda\",\"type\":\"ResizeTool\"},{\"attributes\":{\"overlay\":{\"id\":\"709c2563-236d-4d74-b2ba-691d1247ad61\",\"type\":\"BoxAnnotation\"},\"plot\":{\"id\":\"d7fc0b54-2ccb-4c72-aa8b-3df87826b7dd\",\"subtype\":\"Chart\",\"type\":\"Plot\"}},\"id\":\"cc91681c-f7ed-4d54-9f9e-2c1fe9c48f18\",\"type\":\"BoxZoomTool\"},{\"attributes\":{\"dimension\":1,\"plot\":{\"id\":\"dc4674bc-dcd2-408f-8c1f-9f257ad66120\",\"subtype\":\"Chart\",\"type\":\"Plot\"},\"ticker\":{\"id\":\"e9c855c3-0631-4c35-809b-3f3c3f2127c1\",\"type\":\"CategoricalTicker\"}},\"id\":\"a749b3a7-e99b-42df-ab0c-7c3e0ce31441\",\"type\":\"Grid\"},{\"attributes\":{},\"id\":\"532e7299-677f-4e7e-88d2-80610990130e\",\"type\":\"ToolEvents\"},{\"attributes\":{\"callback\":null,\"column_names\":[\"x_values\",\"y_values\"],\"data\":{\"chart_index\":[null,null,null,null,null,null,null,null,null,null],\"x_values\":[1.790593776635928,4.059422218439355,7.338097755253313,1.8887242599839098,0.3563777166599831,0.0671822119195804,2.7890181437174277,1.5084740014914755,2.509303418250477,0.42502634525807226],\"y_values\":[25,67,251,347,353,410,416,536,590,729]}},\"id\":\"d5564953-f1f2-4210-bf63-c9c933e57b78\",\"type\":\"ColumnDataSource\"},{\"attributes\":{\"callback\":null,\"column_names\":[\"x_values\",\"y_values\"],\"data\":{\"chart_index\":[null,null,null,null,null,null,null,null,null,null],\"x_values\":[1.790593776635928,4.059422218439355,7.338097755253313,1.8887242599839098,0.3563777166599831,0.0671822119195804,2.7890181437174277,1.5084740014914755,2.509303418250477,0.42502634525807226],\"y_values\":[\"None\",\"None\",\"None\",\"None\",\"None\",\"None\",\"None\",\"None\",\"None\",\"None\"]}},\"id\":\"0108a250-640c-4f04-829f-33f58d0f849c\",\"type\":\"ColumnDataSource\"},{\"attributes\":{},\"id\":\"063afddb-dba5-46e8-be2f-f1164bc6fbd7\",\"type\":\"ToolEvents\"},{\"attributes\":{\"overlay\":{\"id\":\"5d4c1227-f571-4081-865c-94c51dedbe72\",\"type\":\"BoxAnnotation\"},\"plot\":{\"id\":\"28ace379-0340-48c4-80c1-c82f71499804\",\"subtype\":\"Chart\",\"type\":\"Plot\"}},\"id\":\"1fb7d2b3-a8ac-4831-81b7-7977b067ac51\",\"type\":\"BoxZoomTool\"},{\"attributes\":{\"plot\":{\"id\":\"d070a192-96e9-42b9-b6d9-a98adc888972\",\"subtype\":\"Chart\",\"type\":\"Plot\"}},\"id\":\"1c6abb99-bb51-4463-8cef-bfaf92ccca1d\",\"type\":\"ResizeTool\"},{\"attributes\":{},\"id\":\"2102e4df-82b5-4c9f-9558-797e52591a37\",\"type\":\"CategoricalTickFormatter\"},{\"attributes\":{},\"id\":\"94781bb7-ee1f-42fa-90e5-baf10fa10a1b\",\"type\":\"BasicTickFormatter\"},{\"attributes\":{},\"id\":\"3a8eddc0-892c-4d4f-b53e-a95aaec295d8\",\"type\":\"ToolEvents\"},{\"attributes\":{\"plot\":{\"id\":\"d070a192-96e9-42b9-b6d9-a98adc888972\",\"subtype\":\"Chart\",\"type\":\"Plot\"}},\"id\":\"9495e13a-858b-4908-89e2-a440ecbd17d3\",\"type\":\"HelpTool\"},{\"attributes\":{\"below\":[{\"id\":\"10aaee64-2c11-4ab9-8617-0a49b6059534\",\"type\":\"LinearAxis\"}],\"left\":[{\"id\":\"9e888f78-d1c3-4fea-bc5d-b77452baf47e\",\"type\":\"LinearAxis\"}],\"legend\":null,\"renderers\":[{\"id\":\"a52fa28f-6e14-40b1-85bb-fb42a2f47c2a\",\"type\":\"BoxAnnotation\"},{\"id\":\"eb22700d-b934-4987-a7c1-15d6a2a34000\",\"type\":\"GlyphRenderer\"},{\"id\":\"10aaee64-2c11-4ab9-8617-0a49b6059534\",\"type\":\"LinearAxis\"},{\"id\":\"9e888f78-d1c3-4fea-bc5d-b77452baf47e\",\"type\":\"LinearAxis\"},{\"id\":\"d2872f6c-b6c6-40d6-b414-fe8555c6c8c6\",\"type\":\"Grid\"},{\"id\":\"b7617601-5f3d-499e-a1b9-45d805a5390f\",\"type\":\"Grid\"}],\"title\":\"Allele Effect Differences\",\"title_text_font_size\":{\"value\":\"14pt\"},\"tool_events\":{\"id\":\"3a8eddc0-892c-4d4f-b53e-a95aaec295d8\",\"type\":\"ToolEvents\"},\"tools\":[{\"id\":\"c5bcaed4-366a-442c-936d-6f7210167c5a\",\"type\":\"PanTool\"},{\"id\":\"917f1c48-e593-4e1d-a2d6-4f53b1513d8a\",\"type\":\"WheelZoomTool\"},{\"id\":\"b7c01085-2cda-4f64-bae4-09e9504b3263\",\"type\":\"BoxZoomTool\"},{\"id\":\"57d625d6-bd17-4992-8b39-e4cd984ebf82\",\"type\":\"PreviewSaveTool\"},{\"id\":\"1c6abb99-bb51-4463-8cef-bfaf92ccca1d\",\"type\":\"ResizeTool\"},{\"id\":\"4fe139f5-d96b-4cee-932b-0c242a26c48d\",\"type\":\"ResetTool\"},{\"id\":\"9495e13a-858b-4908-89e2-a440ecbd17d3\",\"type\":\"HelpTool\"}],\"x_mapper_type\":\"auto\",\"x_range\":{\"id\":\"e9be8948-118a-437f-87a9-e8c443ab690e\",\"type\":\"Range1d\"},\"xscale\":\"auto\",\"y_mapper_type\":\"auto\",\"y_range\":{\"id\":\"4f50d0e6-ca88-4b8e-8306-8dac5fbea365\",\"type\":\"Range1d\"},\"yscale\":\"auto\"},\"id\":\"d070a192-96e9-42b9-b6d9-a98adc888972\",\"subtype\":\"Chart\",\"type\":\"Plot\"},{\"attributes\":{\"callback\":null,\"column_names\":[\"x_values\",\"y_values\"],\"data\":{\"chart_index\":[null,null,null,null,null,null,null,null,null,null],\"x_values\":[1.790593776635928,4.059422218439355,7.338097755253313,1.8887242599839098,0.3563777166599831,0.0671822119195804,2.7890181437174277,1.5084740014914755,2.509303418250477,0.42502634525807226],\"y_values\":[25,67,251,347,353,410,416,536,590,729]}},\"id\":\"7b89c135-cbb7-4527-8f4c-dae1a8161b6f\",\"type\":\"ColumnDataSource\"},{\"attributes\":{\"plot\":{\"id\":\"4b9b9aeb-f746-47a2-8c22-e7b1dcfb021b\",\"subtype\":\"Chart\",\"type\":\"Plot\"}},\"id\":\"aa7f80de-ba41-4b03-a269-37601d94382e\",\"type\":\"PanTool\"},{\"attributes\":{\"plot\":{\"id\":\"d070a192-96e9-42b9-b6d9-a98adc888972\",\"subtype\":\"Chart\",\"type\":\"Plot\"}},\"id\":\"c5bcaed4-366a-442c-936d-6f7210167c5a\",\"type\":\"PanTool\"},{\"attributes\":{\"plot\":{\"id\":\"14dc5235-3f84-4eb2-bdd9-1dd4340285d8\",\"subtype\":\"Chart\",\"type\":\"Plot\"}},\"id\":\"3723f33b-89c7-4656-beb7-2107ddb2cb97\",\"type\":\"PreviewSaveTool\"}],\"root_ids\":[\"14dc5235-3f84-4eb2-bdd9-1dd4340285d8\",\"dc4674bc-dcd2-408f-8c1f-9f257ad66120\",\"e6ac3b57-4231-4a6a-a516-e5706d65c5e6\",\"d070a192-96e9-42b9-b6d9-a98adc888972\",\"654c8f79-be5a-4fd6-916d-c7c31a693b3e\",\"3be86840-af6f-47f9-9dc1-74ca0400cb95\",\"28ace379-0340-48c4-80c1-c82f71499804\",\"dca55044-79ca-4da9-8c61-ae348199a301\",\"4b9b9aeb-f746-47a2-8c22-e7b1dcfb021b\",\"d7fc0b54-2ccb-4c72-aa8b-3df87826b7dd\"]},\"title\":\"Bokeh Application\",\"version\":\"0.11.1\"}};\n",
       "            var render_items = [{\"docid\":\"9ed1eb3c-f833-4a69-a5a0-48a52ac0c458\",\"elementid\":\"1ac5c0cd-6ce5-436c-b0d6-23d9614d0c61\",\"modelid\":\"d7fc0b54-2ccb-4c72-aa8b-3df87826b7dd\",\"notebook_comms_target\":\"d811164b-c859-42fb-b44a-0097ab61bf54\"}];\n",
       "            \n",
       "            Bokeh.embed.embed_items(docs_json, render_items);\n",
       "        });\n",
       "      },\n",
       "      function(Bokeh) {\n",
       "      }\n",
       "    ];\n",
       "  \n",
       "    function run_inline_js() {\n",
       "      for (var i = 0; i < inline_js.length; i++) {\n",
       "        inline_js[i](window.Bokeh);\n",
       "      }\n",
       "    }\n",
       "  \n",
       "    if (window._bokeh_is_loading === 0) {\n",
       "      console.log(\"Bokeh: BokehJS loaded, going straight to plotting\");\n",
       "      run_inline_js();\n",
       "    } else {\n",
       "      load_libs(js_urls, function() {\n",
       "        console.log(\"Bokeh: BokehJS plotting callback run at\", now());\n",
       "        run_inline_js();\n",
       "      });\n",
       "    }\n",
       "  }(this));\n",
       "</script>"
      ]
     },
     "metadata": {},
     "output_type": "display_data"
    },
    {
     "data": {
      "text/html": [
       "<p><code>&lt;Bokeh Notebook handle for <strong>In[51]</strong>&gt;</code></p>"
      ],
      "text/plain": [
       "<bokeh.io._CommsHandle at 0x94a30f0>"
      ]
     },
     "execution_count": 51,
     "metadata": {},
     "output_type": "execute_result"
    }
   ],
   "source": [
    "scatter = Scatter(allele_effects, x='difference', y='locus', title='Allele Effect Differences',\n",
    "                 xlabel='Difference', ylabel='Locus')\n",
    "show(scatter)"
   ]
  },
  {
   "cell_type": "code",
   "execution_count": 33,
   "metadata": {
    "collapsed": false
   },
   "outputs": [
    {
     "data": {
      "text/plain": [
       "<bokeh.charts.chart.Chart at 0x9409400>"
      ]
     },
     "execution_count": 33,
     "metadata": {},
     "output_type": "execute_result"
    }
   ],
   "source": [
    "scatter"
   ]
  },
  {
   "cell_type": "code",
   "execution_count": null,
   "metadata": {
    "collapsed": true
   },
   "outputs": [],
   "source": []
  }
 ],
 "metadata": {
  "kernelspec": {
   "display_name": "Python 3",
   "language": "python",
   "name": "python3"
  },
  "language_info": {
   "codemirror_mode": {
    "name": "ipython",
    "version": 3
   },
   "file_extension": ".py",
   "mimetype": "text/x-python",
   "name": "python",
   "nbconvert_exporter": "python",
   "pygments_lexer": "ipython3",
   "version": "3.4.4"
  }
 },
 "nbformat": 4,
 "nbformat_minor": 0
}
