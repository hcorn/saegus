{
 "cells": [
  {
   "cell_type": "code",
   "execution_count": 61,
   "metadata": {
    "collapsed": true
   },
   "outputs": [],
   "source": [
    "import numpy as np\n",
    "import pandas as pd\n",
    "from bokeh.charts import Scatter, show\n",
    "from bokeh.io import output_notebook"
   ]
  },
  {
   "cell_type": "code",
   "execution_count": 56,
   "metadata": {
    "collapsed": true
   },
   "outputs": [],
   "source": [
    "allele_effects = pd.read_hdf('allele_effects.hdf')"
   ]
  },
  {
   "cell_type": "code",
   "execution_count": 62,
   "metadata": {
    "collapsed": false
   },
   "outputs": [],
   "source": [
    "loci = [str(locus) for locus in allele_effects.locus]"
   ]
  },
  {
   "cell_type": "code",
   "execution_count": 93,
   "metadata": {
    "collapsed": false
   },
   "outputs": [],
   "source": [
    "allele_effects.locus = allele_effects.locus.astype(str)"
   ]
  },
  {
   "cell_type": "code",
   "execution_count": 94,
   "metadata": {
    "collapsed": false
   },
   "outputs": [
    {
     "data": {
      "text/html": [
       "<div>\n",
       "<table border=\"1\" class=\"dataframe\">\n",
       "  <thead>\n",
       "    <tr style=\"text-align: right;\">\n",
       "      <th></th>\n",
       "      <th>locus</th>\n",
       "      <th>alpha_allele</th>\n",
       "      <th>alpha_effect</th>\n",
       "      <th>beta_allele</th>\n",
       "      <th>beta_effect</th>\n",
       "      <th>difference</th>\n",
       "    </tr>\n",
       "  </thead>\n",
       "  <tbody>\n",
       "    <tr>\n",
       "      <th>25</th>\n",
       "      <td>25</td>\n",
       "      <td>2</td>\n",
       "      <td>3.184295</td>\n",
       "      <td>1</td>\n",
       "      <td>1.393701</td>\n",
       "      <td>1.790594</td>\n",
       "    </tr>\n",
       "    <tr>\n",
       "      <th>67</th>\n",
       "      <td>67</td>\n",
       "      <td>3</td>\n",
       "      <td>1.307806</td>\n",
       "      <td>1</td>\n",
       "      <td>5.367228</td>\n",
       "      <td>4.059422</td>\n",
       "    </tr>\n",
       "    <tr>\n",
       "      <th>251</th>\n",
       "      <td>251</td>\n",
       "      <td>3</td>\n",
       "      <td>0.697650</td>\n",
       "      <td>1</td>\n",
       "      <td>8.035748</td>\n",
       "      <td>7.338098</td>\n",
       "    </tr>\n",
       "    <tr>\n",
       "      <th>347</th>\n",
       "      <td>347</td>\n",
       "      <td>2</td>\n",
       "      <td>0.630518</td>\n",
       "      <td>0</td>\n",
       "      <td>2.519243</td>\n",
       "      <td>1.888724</td>\n",
       "    </tr>\n",
       "    <tr>\n",
       "      <th>353</th>\n",
       "      <td>353</td>\n",
       "      <td>3</td>\n",
       "      <td>4.030080</td>\n",
       "      <td>1</td>\n",
       "      <td>4.386458</td>\n",
       "      <td>0.356378</td>\n",
       "    </tr>\n",
       "    <tr>\n",
       "      <th>410</th>\n",
       "      <td>410</td>\n",
       "      <td>2</td>\n",
       "      <td>2.489311</td>\n",
       "      <td>0</td>\n",
       "      <td>2.556493</td>\n",
       "      <td>0.067182</td>\n",
       "    </tr>\n",
       "    <tr>\n",
       "      <th>416</th>\n",
       "      <td>416</td>\n",
       "      <td>1</td>\n",
       "      <td>2.098852</td>\n",
       "      <td>2</td>\n",
       "      <td>4.887871</td>\n",
       "      <td>2.789018</td>\n",
       "    </tr>\n",
       "    <tr>\n",
       "      <th>536</th>\n",
       "      <td>536</td>\n",
       "      <td>2</td>\n",
       "      <td>3.567773</td>\n",
       "      <td>1</td>\n",
       "      <td>2.059299</td>\n",
       "      <td>1.508474</td>\n",
       "    </tr>\n",
       "    <tr>\n",
       "      <th>590</th>\n",
       "      <td>590</td>\n",
       "      <td>3</td>\n",
       "      <td>5.546121</td>\n",
       "      <td>1</td>\n",
       "      <td>3.036817</td>\n",
       "      <td>2.509303</td>\n",
       "    </tr>\n",
       "    <tr>\n",
       "      <th>729</th>\n",
       "      <td>729</td>\n",
       "      <td>1</td>\n",
       "      <td>1.362000</td>\n",
       "      <td>3</td>\n",
       "      <td>0.936974</td>\n",
       "      <td>0.425026</td>\n",
       "    </tr>\n",
       "  </tbody>\n",
       "</table>\n",
       "</div>"
      ],
      "text/plain": [
       "    locus  alpha_allele  alpha_effect  beta_allele  beta_effect  difference\n",
       "25     25             2      3.184295            1     1.393701    1.790594\n",
       "67     67             3      1.307806            1     5.367228    4.059422\n",
       "251   251             3      0.697650            1     8.035748    7.338098\n",
       "347   347             2      0.630518            0     2.519243    1.888724\n",
       "353   353             3      4.030080            1     4.386458    0.356378\n",
       "410   410             2      2.489311            0     2.556493    0.067182\n",
       "416   416             1      2.098852            2     4.887871    2.789018\n",
       "536   536             2      3.567773            1     2.059299    1.508474\n",
       "590   590             3      5.546121            1     3.036817    2.509303\n",
       "729   729             1      1.362000            3     0.936974    0.425026"
      ]
     },
     "execution_count": 94,
     "metadata": {},
     "output_type": "execute_result"
    }
   ],
   "source": [
    "allele_effects"
   ]
  },
  {
   "cell_type": "code",
   "execution_count": 95,
   "metadata": {
    "collapsed": false
   },
   "outputs": [
    {
     "data": {
      "text/html": [
       "\n",
       "\n",
       "    <div class=\"plotdiv\" id=\"4b59d634-a1b5-4d72-a7a9-a9e0f5cc7cb3\"></div>\n",
       "<script type=\"text/javascript\">\n",
       "  \n",
       "  (function(global) {\n",
       "    function now() {\n",
       "      return new Date();\n",
       "    }\n",
       "  \n",
       "    if (typeof (window._bokeh_onload_callbacks) === \"undefined\") {\n",
       "      window._bokeh_onload_callbacks = [];\n",
       "    }\n",
       "  \n",
       "    function run_callbacks() {\n",
       "      window._bokeh_onload_callbacks.forEach(function(callback) { callback() });\n",
       "      delete window._bokeh_onload_callbacks\n",
       "      console.info(\"Bokeh: all callbacks have finished\");\n",
       "    }\n",
       "  \n",
       "    function load_libs(js_urls, callback) {\n",
       "      window._bokeh_onload_callbacks.push(callback);\n",
       "      if (window._bokeh_is_loading > 0) {\n",
       "        console.log(\"Bokeh: BokehJS is being loaded, scheduling callback at\", now());\n",
       "        return null;\n",
       "      }\n",
       "      if (js_urls == null || js_urls.length === 0) {\n",
       "        run_callbacks();\n",
       "        return null;\n",
       "      }\n",
       "      console.log(\"Bokeh: BokehJS not loaded, scheduling load and callback at\", now());\n",
       "      window._bokeh_is_loading = js_urls.length;\n",
       "      for (var i = 0; i < js_urls.length; i++) {\n",
       "        var url = js_urls[i];\n",
       "        var s = document.createElement('script');\n",
       "        s.src = url;\n",
       "        s.async = false;\n",
       "        s.onreadystatechange = s.onload = function() {\n",
       "          window._bokeh_is_loading--;\n",
       "          if (window._bokeh_is_loading === 0) {\n",
       "            console.log(\"Bokeh: all BokehJS libraries loaded\");\n",
       "            run_callbacks()\n",
       "          }\n",
       "        };\n",
       "        s.onerror = function() {\n",
       "          console.warn(\"failed to load library \" + url);\n",
       "        };\n",
       "        console.log(\"Bokeh: injecting script tag for BokehJS library: \", url);\n",
       "        document.getElementsByTagName(\"head\")[0].appendChild(s);\n",
       "      }\n",
       "    };var element = document.getElementById(\"4b59d634-a1b5-4d72-a7a9-a9e0f5cc7cb3\");\n",
       "    if (element == null) {\n",
       "      console.log(\"Bokeh: ERROR: autoload.js configured with elementid '4b59d634-a1b5-4d72-a7a9-a9e0f5cc7cb3' but no matching script tag was found. \")\n",
       "      return false;\n",
       "    }\n",
       "  \n",
       "    var js_urls = [];\n",
       "  \n",
       "    var inline_js = [\n",
       "      function(Bokeh) {\n",
       "        Bokeh.$(function() {\n",
       "            var docs_json = {\"c2a2ff2e-34e0-4124-b05e-a2ecca9d6d2c\":{\"roots\":{\"references\":[{\"attributes\":{\"fill_alpha\":{\"value\":0.1},\"fill_color\":{\"value\":\"#1f77b4\"},\"line_alpha\":{\"value\":0.1},\"line_color\":{\"value\":\"#1f77b4\"},\"line_width\":{\"value\":3},\"size\":{\"units\":\"screen\",\"value\":15},\"x\":{\"field\":\"x\"},\"y\":{\"field\":\"y\"}},\"id\":\"6876d116-9a66-4357-8c64-c41c14431e60\",\"type\":\"Circle\"},{\"attributes\":{\"plot\":{\"id\":\"8585a2a3-8c93-4e42-ac94-814fd711a4b4\",\"subtype\":\"Chart\",\"type\":\"Plot\"}},\"id\":\"5bdf1275-a16f-40b1-b3f8-bf18a3131464\",\"type\":\"PreviewSaveTool\"},{\"attributes\":{\"plot\":{\"id\":\"f99dbfe5-a922-4be8-b93c-8f96aa5d6e50\",\"subtype\":\"Figure\",\"type\":\"Plot\"},\"ticker\":{\"id\":\"22892ff3-20fa-41e6-9b4f-3ca89940c6fd\",\"type\":\"BasicTicker\"}},\"id\":\"98c4055a-a2d7-44a5-9712-dd9c100afee9\",\"type\":\"Grid\"},{\"attributes\":{\"overlay\":{\"id\":\"abdec69e-1cdd-4a71-bd71-e4014390dcab\",\"type\":\"BoxAnnotation\"},\"plot\":{\"id\":\"4517cd4a-7c6f-43cd-a3f2-2f380b17b3d8\",\"subtype\":\"Chart\",\"type\":\"Plot\"}},\"id\":\"fe07fb9c-6c4f-4f7d-a5f7-129079d1cba5\",\"type\":\"BoxZoomTool\"},{\"attributes\":{\"callback\":null},\"id\":\"95fb8dd3-cc9f-433a-9131-fe36ff8871e6\",\"type\":\"DataRange1d\"},{\"attributes\":{\"plot\":{\"id\":\"fadbb901-7bc5-4a9f-8f02-d53e598ea923\",\"subtype\":\"Figure\",\"type\":\"Plot\"},\"ticker\":{\"id\":\"12d6e338-0aa0-410f-8a9d-8524dd1b9a30\",\"type\":\"BasicTicker\"}},\"id\":\"c2e2ace3-763f-46b3-acd7-71837655018e\",\"type\":\"Grid\"},{\"attributes\":{\"plot\":{\"id\":\"8585a2a3-8c93-4e42-ac94-814fd711a4b4\",\"subtype\":\"Chart\",\"type\":\"Plot\"}},\"id\":\"d6ac505e-fc34-4e44-bb39-e40b7fee11f0\",\"type\":\"WheelZoomTool\"},{\"attributes\":{\"axis_label\":\"Difference\",\"formatter\":{\"id\":\"84c7b90b-5b60-4086-9c6d-332cbfed8da5\",\"type\":\"BasicTickFormatter\"},\"plot\":{\"id\":\"4517cd4a-7c6f-43cd-a3f2-2f380b17b3d8\",\"subtype\":\"Chart\",\"type\":\"Plot\"},\"ticker\":{\"id\":\"27ffaa3c-8a57-4097-a68c-f9df54e7ef60\",\"type\":\"BasicTicker\"}},\"id\":\"77b1c3aa-5734-474b-a0cf-7bb971a04de3\",\"type\":\"LinearAxis\"},{\"attributes\":{\"dimension\":1,\"plot\":{\"id\":\"4517cd4a-7c6f-43cd-a3f2-2f380b17b3d8\",\"subtype\":\"Chart\",\"type\":\"Plot\"},\"ticker\":{\"id\":\"1512547a-6bef-4c51-b69f-325c6d246bc2\",\"type\":\"BasicTicker\"}},\"id\":\"422c7fcf-52a8-4d3b-9f24-220e8ef513db\",\"type\":\"Grid\"},{\"attributes\":{\"plot\":{\"id\":\"18bad4e6-12b9-47e6-b2a1-544504fbb63b\",\"subtype\":\"Chart\",\"type\":\"Plot\"}},\"id\":\"60e09ac8-f3a9-4d20-8331-737ab7cbef05\",\"type\":\"PanTool\"},{\"attributes\":{},\"id\":\"ecb61212-a98f-4d49-80f5-5b982789f71a\",\"type\":\"ToolEvents\"},{\"attributes\":{\"overlay\":{\"id\":\"ed23abe9-76b5-4a21-8c86-0bf525577a36\",\"type\":\"BoxAnnotation\"},\"plot\":{\"id\":\"fb670c4d-ffe0-4735-92a5-67e9e1433c3b\",\"subtype\":\"Figure\",\"type\":\"Plot\"}},\"id\":\"4cc2a04e-5408-47d6-9958-f9043f829600\",\"type\":\"BoxZoomTool\"},{\"attributes\":{\"callback\":null,\"end\":8.065189309586685,\"start\":-0.6599093424137928},\"id\":\"27a15d68-b17b-4b26-a15f-cfbf3bb9643b\",\"type\":\"Range1d\"},{\"attributes\":{\"plot\":{\"id\":\"fadbb901-7bc5-4a9f-8f02-d53e598ea923\",\"subtype\":\"Figure\",\"type\":\"Plot\"}},\"id\":\"8c7a57e2-41b2-4182-b90d-3421b1e8d31a\",\"type\":\"WheelZoomTool\"},{\"attributes\":{\"plot\":{\"id\":\"33225c35-a060-4dee-8921-d69228828f06\",\"subtype\":\"Chart\",\"type\":\"Plot\"}},\"id\":\"749474cf-ecd8-4c62-a191-2eb34abe7d4c\",\"type\":\"PanTool\"},{\"attributes\":{\"data_source\":{\"id\":\"dcece0cb-c85b-45cf-a59f-2c49c6ff5d39\",\"type\":\"ColumnDataSource\"},\"glyph\":{\"id\":\"5c5f1392-dbc2-4aa1-842f-b03421af7fc7\",\"type\":\"Circle\"},\"hover_glyph\":null,\"nonselection_glyph\":null,\"selection_glyph\":null},\"id\":\"57bdc4ef-0b4d-4c82-8b68-df6c477f4068\",\"type\":\"GlyphRenderer\"},{\"attributes\":{\"bottom_units\":\"screen\",\"fill_alpha\":{\"value\":0.5},\"fill_color\":{\"value\":\"lightgrey\"},\"left_units\":\"screen\",\"level\":\"overlay\",\"line_alpha\":{\"value\":1.0},\"line_color\":{\"value\":\"black\"},\"line_dash\":[4,4],\"line_width\":{\"value\":2},\"plot\":null,\"render_mode\":\"css\",\"right_units\":\"screen\",\"top_units\":\"screen\"},\"id\":\"ed23abe9-76b5-4a21-8c86-0bf525577a36\",\"type\":\"BoxAnnotation\"},{\"attributes\":{\"formatter\":{\"id\":\"4eaba6ac-9805-4247-a65d-5b6c6ddc2dd4\",\"type\":\"BasicTickFormatter\"},\"plot\":{\"id\":\"ef3d51f3-cbd9-4e74-89d2-59fd7104187d\",\"subtype\":\"Figure\",\"type\":\"Plot\"},\"ticker\":{\"id\":\"2334ed36-61da-40cd-92ba-3f0b90d3c3fc\",\"type\":\"BasicTicker\"}},\"id\":\"af194b23-aed9-43be-8256-e11e59cd732a\",\"type\":\"LinearAxis\"},{\"attributes\":{\"callback\":null,\"column_names\":[\"y_values\",\"x_values\"],\"data\":{\"chart_index\":[null,null,null,null,null,null,null,null,null,null],\"x_values\":[1.790593776635928,4.059422218439355,7.338097755253313,1.8887242599839098,0.3563777166599831,0.0671822119195804,2.7890181437174277,1.5084740014914755,2.509303418250477,0.42502634525807226],\"y_values\":[25,67,251,347,353,410,416,536,590,729]}},\"id\":\"634d4ff3-898f-4f09-9ba9-dc33406ed9bc\",\"type\":\"ColumnDataSource\"},{\"attributes\":{},\"id\":\"59fd73ce-ff5e-492d-9e0f-af73ad07b6fd\",\"type\":\"BasicTickFormatter\"},{\"attributes\":{\"fill_alpha\":{\"value\":0.7},\"fill_color\":{\"value\":\"#f22c40\"},\"line_color\":{\"value\":\"#f22c40\"},\"size\":{\"units\":\"screen\",\"value\":8},\"x\":{\"field\":\"x_values\"},\"y\":{\"field\":\"y_values\"}},\"id\":\"5c5f1392-dbc2-4aa1-842f-b03421af7fc7\",\"type\":\"Circle\"},{\"attributes\":{\"plot\":{\"id\":\"fadbb901-7bc5-4a9f-8f02-d53e598ea923\",\"subtype\":\"Figure\",\"type\":\"Plot\"}},\"id\":\"eb0b5f09-7f4c-44c9-a9b7-5587d5467dc9\",\"type\":\"PreviewSaveTool\"},{\"attributes\":{\"below\":[{\"id\":\"1d343401-47ea-44ac-bd25-05b70d399bdc\",\"type\":\"LinearAxis\"}],\"left\":[{\"id\":\"2b429944-f86b-4a2e-860d-21ea1cbe95d8\",\"type\":\"LinearAxis\"}],\"legend\":null,\"renderers\":[{\"id\":\"b4c06e77-8b76-4158-90a4-e01afacf7e65\",\"type\":\"BoxAnnotation\"},{\"id\":\"54276329-2ccb-4aa1-9de3-a573afd2b60e\",\"type\":\"GlyphRenderer\"},{\"id\":\"1d343401-47ea-44ac-bd25-05b70d399bdc\",\"type\":\"LinearAxis\"},{\"id\":\"2b429944-f86b-4a2e-860d-21ea1cbe95d8\",\"type\":\"LinearAxis\"},{\"id\":\"5262c484-2934-4bc2-9dba-236fc988bf98\",\"type\":\"Grid\"},{\"id\":\"a39dcd9d-f029-49ca-b93d-c05a1ca2ee40\",\"type\":\"Grid\"}],\"title\":\"Allele Effect Differences\",\"title_text_font_size\":{\"value\":\"14pt\"},\"tool_events\":{\"id\":\"f0c54326-95b7-4853-aab4-5ab114bf1fea\",\"type\":\"ToolEvents\"},\"tools\":[{\"id\":\"749474cf-ecd8-4c62-a191-2eb34abe7d4c\",\"type\":\"PanTool\"},{\"id\":\"0fd00e4e-d3e4-47cc-a1d1-3912626b9636\",\"type\":\"WheelZoomTool\"},{\"id\":\"5ab7c26a-e68f-4d9a-9913-21968e75974f\",\"type\":\"BoxZoomTool\"},{\"id\":\"5b0415c5-8d28-48c4-b9f4-d3c7e5ca844f\",\"type\":\"PreviewSaveTool\"},{\"id\":\"2d45c727-50cf-46df-a210-0bab0c0185ec\",\"type\":\"ResizeTool\"},{\"id\":\"e1637d7c-59ac-48ca-9841-a38439e63cd9\",\"type\":\"ResetTool\"},{\"id\":\"1b29c7e3-614a-497b-ac49-2b277a9f6337\",\"type\":\"HelpTool\"}],\"x_mapper_type\":\"auto\",\"x_range\":{\"id\":\"6a73ebb7-615e-4808-b68c-0c861c4279a7\",\"type\":\"Range1d\"},\"xscale\":\"auto\",\"y_mapper_type\":\"auto\",\"y_range\":{\"id\":\"7aa30b25-05d6-4fe5-a768-c95877bf7eb8\",\"type\":\"Range1d\"},\"yscale\":\"auto\"},\"id\":\"33225c35-a060-4dee-8921-d69228828f06\",\"subtype\":\"Chart\",\"type\":\"Plot\"},{\"attributes\":{\"callback\":null},\"id\":\"5edea7ff-d0c6-4125-b19c-b455b92e4d8b\",\"type\":\"DataRange1d\"},{\"attributes\":{\"callback\":null,\"factors\":[\"25\",\"67\",\"251\",\"347\",\"353\",\"410\",\"416\",\"536\",\"590\",\"729\"]},\"id\":\"43c474cc-bdaa-4f25-8158-de8171ebe8e7\",\"type\":\"FactorRange\"},{\"attributes\":{},\"id\":\"3de7bada-ef5a-48e0-b154-89b2686bbf3a\",\"type\":\"BasicTicker\"},{\"attributes\":{\"callback\":null,\"column_names\":[\"x\",\"y\"],\"data\":{\"x\":[1.790593776635928,4.059422218439355,7.338097755253313,1.8887242599839098,0.3563777166599831,0.0671822119195804,2.7890181437174277,1.5084740014914755,2.509303418250477,0.42502634525807226],\"y\":[\"25\",\"67\",\"251\",\"347\",\"353\",\"410\",\"416\",\"536\",\"590\",\"729\"]}},\"id\":\"4c510eb2-aaee-4607-a433-c301c5f8b352\",\"type\":\"ColumnDataSource\"},{\"attributes\":{},\"id\":\"2334ed36-61da-40cd-92ba-3f0b90d3c3fc\",\"type\":\"BasicTicker\"},{\"attributes\":{\"plot\":{\"id\":\"fb670c4d-ffe0-4735-92a5-67e9e1433c3b\",\"subtype\":\"Figure\",\"type\":\"Plot\"},\"ticker\":{\"id\":\"0b39b3fa-8831-4a08-8164-d59219cad26c\",\"type\":\"BasicTicker\"}},\"id\":\"ec7a822d-33db-4c48-94b6-621c0882511a\",\"type\":\"Grid\"},{\"attributes\":{},\"id\":\"22892ff3-20fa-41e6-9b4f-3ca89940c6fd\",\"type\":\"BasicTicker\"},{\"attributes\":{\"overlay\":{\"id\":\"4902cac0-96d0-47fd-b39e-8f18dc420dcd\",\"type\":\"BoxAnnotation\"},\"plot\":{\"id\":\"8585a2a3-8c93-4e42-ac94-814fd711a4b4\",\"subtype\":\"Chart\",\"type\":\"Plot\"}},\"id\":\"6f587b61-82a3-4913-bf84-e477920d0204\",\"type\":\"BoxZoomTool\"},{\"attributes\":{\"callback\":null,\"column_names\":[\"y_values\",\"x_values\"],\"data\":{\"chart_index\":[null,null,null,null,null,null,null,null,null,null],\"x_values\":[1.790593776635928,4.059422218439355,7.338097755253313,1.8887242599839098,0.3563777166599831,0.0671822119195804,2.7890181437174277,1.5084740014914755,2.509303418250477,0.42502634525807226],\"y_values\":[25.0,67.0,251.0,347.0,353.0,410.0,416.0,536.0,590.0,729.0]}},\"id\":\"dcece0cb-c85b-45cf-a59f-2c49c6ff5d39\",\"type\":\"ColumnDataSource\"},{\"attributes\":{\"plot\":{\"id\":\"fadbb901-7bc5-4a9f-8f02-d53e598ea923\",\"subtype\":\"Figure\",\"type\":\"Plot\"}},\"id\":\"d1dad2d5-d251-43af-93b7-b89dca638167\",\"type\":\"HelpTool\"},{\"attributes\":{},\"id\":\"9b5861d7-334f-417f-918e-3f6e25ecdfff\",\"type\":\"ToolEvents\"},{\"attributes\":{},\"id\":\"a9d79c89-4e2b-4e26-b817-41f8c1b6dd56\",\"type\":\"BasicTickFormatter\"},{\"attributes\":{},\"id\":\"bcb1b471-b24f-4f0e-8fa9-44605955aea3\",\"type\":\"CategoricalTickFormatter\"},{\"attributes\":{},\"id\":\"b7715c84-ffdd-4b23-aac3-278036b6aada\",\"type\":\"CategoricalTicker\"},{\"attributes\":{},\"id\":\"0e21e2b4-ea0b-431c-9d49-ee9efcc3381a\",\"type\":\"BasicTickFormatter\"},{\"attributes\":{},\"id\":\"9e03d524-beb8-4c7d-9f24-330336cced38\",\"type\":\"BasicTickFormatter\"},{\"attributes\":{},\"id\":\"3849ba89-ab52-4bc2-a741-4fd0907136b8\",\"type\":\"CategoricalTicker\"},{\"attributes\":{\"callback\":null,\"factors\":[\"25\",\"67\",\"251\",\"347\",\"353\",\"410\",\"416\",\"536\",\"590\",\"729\"]},\"id\":\"81f3c215-de03-4d91-846f-440b55333e41\",\"type\":\"FactorRange\"},{\"attributes\":{},\"id\":\"1512547a-6bef-4c51-b69f-325c6d246bc2\",\"type\":\"BasicTicker\"},{\"attributes\":{\"plot\":{\"id\":\"8585a2a3-8c93-4e42-ac94-814fd711a4b4\",\"subtype\":\"Chart\",\"type\":\"Plot\"}},\"id\":\"b2c2aca6-3e23-42f7-bc3b-7dec987133bf\",\"type\":\"ResetTool\"},{\"attributes\":{\"plot\":{\"id\":\"33225c35-a060-4dee-8921-d69228828f06\",\"subtype\":\"Chart\",\"type\":\"Plot\"}},\"id\":\"2d45c727-50cf-46df-a210-0bab0c0185ec\",\"type\":\"ResizeTool\"},{\"attributes\":{\"plot\":{\"id\":\"fadbb901-7bc5-4a9f-8f02-d53e598ea923\",\"subtype\":\"Figure\",\"type\":\"Plot\"}},\"id\":\"607cbbcc-4744-4771-afd0-52f90b3fa6f8\",\"type\":\"ResetTool\"},{\"attributes\":{\"plot\":{\"id\":\"ef3d51f3-cbd9-4e74-89d2-59fd7104187d\",\"subtype\":\"Figure\",\"type\":\"Plot\"}},\"id\":\"03956807-9647-4697-9c82-5dd30580108a\",\"type\":\"WheelZoomTool\"},{\"attributes\":{\"plot\":{\"id\":\"fb670c4d-ffe0-4735-92a5-67e9e1433c3b\",\"subtype\":\"Figure\",\"type\":\"Plot\"}},\"id\":\"0e09a50d-4573-4cd8-92e0-2101ee96bc20\",\"type\":\"PanTool\"},{\"attributes\":{},\"id\":\"aac4b8be-ae54-433d-b5ac-3f41d44f21fc\",\"type\":\"BasicTickFormatter\"},{\"attributes\":{\"plot\":{\"id\":\"f99dbfe5-a922-4be8-b93c-8f96aa5d6e50\",\"subtype\":\"Figure\",\"type\":\"Plot\"}},\"id\":\"bfa4abd7-3edd-4a07-9590-0b883238821c\",\"type\":\"WheelZoomTool\"},{\"attributes\":{\"dimension\":1,\"plot\":{\"id\":\"ef3d51f3-cbd9-4e74-89d2-59fd7104187d\",\"subtype\":\"Figure\",\"type\":\"Plot\"},\"ticker\":{\"id\":\"cdfec39a-f6f6-4f45-a4c8-55f04c40bdbe\",\"type\":\"CategoricalTicker\"}},\"id\":\"9091aec3-0df9-4535-9dca-c28f75e70441\",\"type\":\"Grid\"},{\"attributes\":{\"fill_alpha\":{\"value\":0.7},\"fill_color\":{\"value\":\"#f22c40\"},\"line_color\":{\"value\":\"#f22c40\"},\"size\":{\"units\":\"screen\",\"value\":8},\"x\":{\"field\":\"x_values\"},\"y\":{\"field\":\"y_values\"}},\"id\":\"6d28bb9d-e771-49b1-ab87-ea9cfac16d90\",\"type\":\"Circle\"},{\"attributes\":{},\"id\":\"84c7b90b-5b60-4086-9c6d-332cbfed8da5\",\"type\":\"BasicTickFormatter\"},{\"attributes\":{},\"id\":\"d0b1c81e-3c9d-4af7-a8a7-7d07b5f360be\",\"type\":\"ToolEvents\"},{\"attributes\":{\"plot\":{\"id\":\"18bad4e6-12b9-47e6-b2a1-544504fbb63b\",\"subtype\":\"Chart\",\"type\":\"Plot\"}},\"id\":\"7f55d239-1c80-42b3-a733-2cdf694b9224\",\"type\":\"ResetTool\"},{\"attributes\":{\"formatter\":{\"id\":\"bcb1b471-b24f-4f0e-8fa9-44605955aea3\",\"type\":\"CategoricalTickFormatter\"},\"plot\":{\"id\":\"fb670c4d-ffe0-4735-92a5-67e9e1433c3b\",\"subtype\":\"Figure\",\"type\":\"Plot\"},\"ticker\":{\"id\":\"c4513ce3-856b-481a-81e2-b2d0bc04694d\",\"type\":\"CategoricalTicker\"}},\"id\":\"cbb62278-3e32-471e-909f-d3a79305b45d\",\"type\":\"CategoricalAxis\"},{\"attributes\":{},\"id\":\"5bfeb8b3-3838-4392-8734-b14938ed8476\",\"type\":\"BasicTicker\"},{\"attributes\":{\"plot\":{\"id\":\"f99dbfe5-a922-4be8-b93c-8f96aa5d6e50\",\"subtype\":\"Figure\",\"type\":\"Plot\"}},\"id\":\"82da47d7-d523-47f9-afc5-3873fc8573d8\",\"type\":\"ResizeTool\"},{\"attributes\":{\"formatter\":{\"id\":\"aac4b8be-ae54-433d-b5ac-3f41d44f21fc\",\"type\":\"BasicTickFormatter\"},\"plot\":{\"id\":\"fb670c4d-ffe0-4735-92a5-67e9e1433c3b\",\"subtype\":\"Figure\",\"type\":\"Plot\"},\"ticker\":{\"id\":\"0b39b3fa-8831-4a08-8164-d59219cad26c\",\"type\":\"BasicTicker\"}},\"id\":\"0c3283e1-d92b-421d-a593-218d10c55def\",\"type\":\"LinearAxis\"},{\"attributes\":{\"plot\":{\"id\":\"33225c35-a060-4dee-8921-d69228828f06\",\"subtype\":\"Chart\",\"type\":\"Plot\"}},\"id\":\"5b0415c5-8d28-48c4-b9f4-d3c7e5ca844f\",\"type\":\"PreviewSaveTool\"},{\"attributes\":{\"formatter\":{\"id\":\"e6014eeb-749a-478a-8bd3-3b5ce7d71f04\",\"type\":\"CategoricalTickFormatter\"},\"plot\":{\"id\":\"fadbb901-7bc5-4a9f-8f02-d53e598ea923\",\"subtype\":\"Figure\",\"type\":\"Plot\"},\"ticker\":{\"id\":\"f3e413bc-39f9-4636-ade5-481fdd15e615\",\"type\":\"CategoricalTicker\"}},\"id\":\"a95c9098-b95f-4a55-bdad-88dbed40e413\",\"type\":\"CategoricalAxis\"},{\"attributes\":{\"callback\":null,\"end\":799.4,\"start\":-45.400000000000006},\"id\":\"281dfc64-6568-47a4-9662-ac9c9d987d3d\",\"type\":\"Range1d\"},{\"attributes\":{\"plot\":{\"id\":\"8585a2a3-8c93-4e42-ac94-814fd711a4b4\",\"subtype\":\"Chart\",\"type\":\"Plot\"}},\"id\":\"58d423a5-af1f-4359-ab51-4e3715652e85\",\"type\":\"HelpTool\"},{\"attributes\":{},\"id\":\"b15d5dfe-db8f-435d-856b-b67a6ea465af\",\"type\":\"CategoricalTickFormatter\"},{\"attributes\":{},\"id\":\"e6014eeb-749a-478a-8bd3-3b5ce7d71f04\",\"type\":\"CategoricalTickFormatter\"},{\"attributes\":{\"dimension\":1,\"plot\":{\"id\":\"fb670c4d-ffe0-4735-92a5-67e9e1433c3b\",\"subtype\":\"Figure\",\"type\":\"Plot\"},\"ticker\":{\"id\":\"c4513ce3-856b-481a-81e2-b2d0bc04694d\",\"type\":\"CategoricalTicker\"}},\"id\":\"33bdd1b9-1014-4dad-bdd5-bc6628012739\",\"type\":\"Grid\"},{\"attributes\":{\"axis_label\":\"Locus\",\"formatter\":{\"id\":\"b15d5dfe-db8f-435d-856b-b67a6ea465af\",\"type\":\"CategoricalTickFormatter\"},\"major_label_orientation\":0.7853981633974483,\"plot\":{\"id\":\"8585a2a3-8c93-4e42-ac94-814fd711a4b4\",\"subtype\":\"Chart\",\"type\":\"Plot\"},\"ticker\":{\"id\":\"3849ba89-ab52-4bc2-a741-4fd0907136b8\",\"type\":\"CategoricalTicker\"}},\"id\":\"bc5eb2ab-35dd-4b0a-b83a-0426467fd7b3\",\"type\":\"CategoricalAxis\"},{\"attributes\":{\"bottom_units\":\"screen\",\"fill_alpha\":{\"value\":0.5},\"fill_color\":{\"value\":\"lightgrey\"},\"left_units\":\"screen\",\"level\":\"overlay\",\"line_alpha\":{\"value\":1.0},\"line_color\":{\"value\":\"black\"},\"line_dash\":[4,4],\"line_width\":{\"value\":2},\"plot\":null,\"render_mode\":\"css\",\"right_units\":\"screen\",\"top_units\":\"screen\"},\"id\":\"4bc5d919-c44c-40e5-92a4-aa678332306b\",\"type\":\"BoxAnnotation\"},{\"attributes\":{\"callback\":null,\"end\":8.065189309586685,\"start\":-0.6599093424137928},\"id\":\"6a73ebb7-615e-4808-b68c-0c861c4279a7\",\"type\":\"Range1d\"},{\"attributes\":{\"overlay\":{\"id\":\"b4c06e77-8b76-4158-90a4-e01afacf7e65\",\"type\":\"BoxAnnotation\"},\"plot\":{\"id\":\"33225c35-a060-4dee-8921-d69228828f06\",\"subtype\":\"Chart\",\"type\":\"Plot\"}},\"id\":\"5ab7c26a-e68f-4d9a-9913-21968e75974f\",\"type\":\"BoxZoomTool\"},{\"attributes\":{\"plot\":{\"id\":\"33225c35-a060-4dee-8921-d69228828f06\",\"subtype\":\"Chart\",\"type\":\"Plot\"}},\"id\":\"0fd00e4e-d3e4-47cc-a1d1-3912626b9636\",\"type\":\"WheelZoomTool\"},{\"attributes\":{\"overlay\":{\"id\":\"4bc5d919-c44c-40e5-92a4-aa678332306b\",\"type\":\"BoxAnnotation\"},\"plot\":{\"id\":\"18bad4e6-12b9-47e6-b2a1-544504fbb63b\",\"subtype\":\"Chart\",\"type\":\"Plot\"}},\"id\":\"bed1e0b2-e130-49dc-b71e-a43742113b78\",\"type\":\"BoxZoomTool\"},{\"attributes\":{\"bottom_units\":\"screen\",\"fill_alpha\":{\"value\":0.5},\"fill_color\":{\"value\":\"lightgrey\"},\"left_units\":\"screen\",\"level\":\"overlay\",\"line_alpha\":{\"value\":1.0},\"line_color\":{\"value\":\"black\"},\"line_dash\":[4,4],\"line_width\":{\"value\":2},\"plot\":null,\"render_mode\":\"css\",\"right_units\":\"screen\",\"top_units\":\"screen\"},\"id\":\"f5373a86-fdba-4627-87eb-79056deabae6\",\"type\":\"BoxAnnotation\"},{\"attributes\":{\"bottom_units\":\"screen\",\"fill_alpha\":{\"value\":0.5},\"fill_color\":{\"value\":\"lightgrey\"},\"left_units\":\"screen\",\"level\":\"overlay\",\"line_alpha\":{\"value\":1.0},\"line_color\":{\"value\":\"black\"},\"line_dash\":[4,4],\"line_width\":{\"value\":2},\"plot\":null,\"render_mode\":\"css\",\"right_units\":\"screen\",\"top_units\":\"screen\"},\"id\":\"4902cac0-96d0-47fd-b39e-8f18dc420dcd\",\"type\":\"BoxAnnotation\"},{\"attributes\":{},\"id\":\"f0c54326-95b7-4853-aab4-5ab114bf1fea\",\"type\":\"ToolEvents\"},{\"attributes\":{\"fill_alpha\":{\"value\":0.7},\"fill_color\":{\"value\":\"#f22c40\"},\"line_color\":{\"value\":\"#f22c40\"},\"size\":{\"units\":\"screen\",\"value\":8},\"x\":{\"field\":\"x_values\"},\"y\":{\"field\":\"y_values\"}},\"id\":\"726bba8f-7536-451f-bccf-d16fb0699244\",\"type\":\"Circle\"},{\"attributes\":{},\"id\":\"dfd732b4-afce-479d-9dd2-2ebf92aff632\",\"type\":\"BasicTicker\"},{\"attributes\":{\"plot\":{\"id\":\"fb670c4d-ffe0-4735-92a5-67e9e1433c3b\",\"subtype\":\"Figure\",\"type\":\"Plot\"}},\"id\":\"200cf7b1-b2d1-4500-8af1-7d9fa55f0b6a\",\"type\":\"PreviewSaveTool\"},{\"attributes\":{\"plot\":{\"id\":\"4517cd4a-7c6f-43cd-a3f2-2f380b17b3d8\",\"subtype\":\"Chart\",\"type\":\"Plot\"}},\"id\":\"39918a29-6076-432f-88aa-f4de601dc4ff\",\"type\":\"ResizeTool\"},{\"attributes\":{\"axis_label\":\"Locus\",\"formatter\":{\"id\":\"0e21e2b4-ea0b-431c-9d49-ee9efcc3381a\",\"type\":\"BasicTickFormatter\"},\"plot\":{\"id\":\"4517cd4a-7c6f-43cd-a3f2-2f380b17b3d8\",\"subtype\":\"Chart\",\"type\":\"Plot\"},\"ticker\":{\"id\":\"1512547a-6bef-4c51-b69f-325c6d246bc2\",\"type\":\"BasicTicker\"}},\"id\":\"0e23a985-3019-4b8f-a176-5cdcc7a991d2\",\"type\":\"LinearAxis\"},{\"attributes\":{\"fill_alpha\":{\"value\":0.7},\"fill_color\":{\"value\":\"#f22c40\"},\"line_color\":{\"value\":\"#f22c40\"},\"size\":{\"units\":\"screen\",\"value\":8},\"x\":{\"field\":\"x_values\"},\"y\":{\"field\":\"y_values\"}},\"id\":\"023734d4-7f9e-49a8-a6ff-961bcd8d0149\",\"type\":\"Circle\"},{\"attributes\":{\"plot\":{\"id\":\"ef3d51f3-cbd9-4e74-89d2-59fd7104187d\",\"subtype\":\"Figure\",\"type\":\"Plot\"}},\"id\":\"c1f1360b-3941-493b-ab06-22c6a262df7a\",\"type\":\"PanTool\"},{\"attributes\":{\"plot\":{\"id\":\"f99dbfe5-a922-4be8-b93c-8f96aa5d6e50\",\"subtype\":\"Figure\",\"type\":\"Plot\"}},\"id\":\"fba944b6-c85c-4613-a0d8-1be995a8aee8\",\"type\":\"ResetTool\"},{\"attributes\":{\"below\":[{\"id\":\"77b1c3aa-5734-474b-a0cf-7bb971a04de3\",\"type\":\"LinearAxis\"}],\"left\":[{\"id\":\"0e23a985-3019-4b8f-a176-5cdcc7a991d2\",\"type\":\"LinearAxis\"}],\"legend\":null,\"renderers\":[{\"id\":\"abdec69e-1cdd-4a71-bd71-e4014390dcab\",\"type\":\"BoxAnnotation\"},{\"id\":\"57bdc4ef-0b4d-4c82-8b68-df6c477f4068\",\"type\":\"GlyphRenderer\"},{\"id\":\"77b1c3aa-5734-474b-a0cf-7bb971a04de3\",\"type\":\"LinearAxis\"},{\"id\":\"0e23a985-3019-4b8f-a176-5cdcc7a991d2\",\"type\":\"LinearAxis\"},{\"id\":\"7fdf0d5f-3620-4505-b1d4-8ba9ef69f714\",\"type\":\"Grid\"},{\"id\":\"422c7fcf-52a8-4d3b-9f24-220e8ef513db\",\"type\":\"Grid\"}],\"title\":\"Allele Effect Differences\",\"title_text_font_size\":{\"value\":\"14pt\"},\"tool_events\":{\"id\":\"457e822e-67a3-4d8c-bd2d-b9b7120d6b51\",\"type\":\"ToolEvents\"},\"tools\":[{\"id\":\"86017045-11fe-4c18-81dc-03e79fb10795\",\"type\":\"PanTool\"},{\"id\":\"490d6789-8c2e-475c-95eb-99e694bcf627\",\"type\":\"WheelZoomTool\"},{\"id\":\"fe07fb9c-6c4f-4f7d-a5f7-129079d1cba5\",\"type\":\"BoxZoomTool\"},{\"id\":\"bc0a5d82-d533-4c23-a694-899cfc52ae82\",\"type\":\"PreviewSaveTool\"},{\"id\":\"39918a29-6076-432f-88aa-f4de601dc4ff\",\"type\":\"ResizeTool\"},{\"id\":\"bfc4db62-67a8-4374-9e80-7dd3a0441134\",\"type\":\"ResetTool\"},{\"id\":\"f24c47d4-1c58-460a-853f-264832a538ee\",\"type\":\"HelpTool\"}],\"x_mapper_type\":\"auto\",\"x_range\":{\"id\":\"f19fdbd4-c08e-48af-ae1e-59ba70d8555a\",\"type\":\"Range1d\"},\"xscale\":\"auto\",\"y_mapper_type\":\"auto\",\"y_range\":{\"id\":\"281dfc64-6568-47a4-9662-ac9c9d987d3d\",\"type\":\"Range1d\"},\"yscale\":\"auto\"},\"id\":\"4517cd4a-7c6f-43cd-a3f2-2f380b17b3d8\",\"subtype\":\"Chart\",\"type\":\"Plot\"},{\"attributes\":{},\"id\":\"e90ac143-3150-433b-9d9a-15701ec390b8\",\"type\":\"ToolEvents\"},{\"attributes\":{\"data_source\":{\"id\":\"1648fc65-7eaf-412f-8c28-1dea360f9697\",\"type\":\"ColumnDataSource\"},\"glyph\":{\"id\":\"9b7b3661-f2ef-46dc-adb3-70e7f1707800\",\"type\":\"Circle\"},\"hover_glyph\":null,\"nonselection_glyph\":{\"id\":\"3c1ce479-733a-45d5-83c8-6acd9283881a\",\"type\":\"Circle\"},\"selection_glyph\":null},\"id\":\"eae95cca-1cd1-43f4-b00a-9efad52c8c78\",\"type\":\"GlyphRenderer\"},{\"attributes\":{\"axis_label\":\"Locus\",\"formatter\":{\"id\":\"61a2613b-7a88-4a41-89af-3f174274a8ca\",\"type\":\"BasicTickFormatter\"},\"plot\":{\"id\":\"18bad4e6-12b9-47e6-b2a1-544504fbb63b\",\"subtype\":\"Chart\",\"type\":\"Plot\"},\"ticker\":{\"id\":\"5bfeb8b3-3838-4392-8734-b14938ed8476\",\"type\":\"BasicTicker\"}},\"id\":\"5f2a6b66-ba23-469a-910a-ad98e47b3594\",\"type\":\"LinearAxis\"},{\"attributes\":{\"axis_label\":\"Locus\",\"formatter\":{\"id\":\"9e03d524-beb8-4c7d-9f24-330336cced38\",\"type\":\"BasicTickFormatter\"},\"plot\":{\"id\":\"33225c35-a060-4dee-8921-d69228828f06\",\"subtype\":\"Chart\",\"type\":\"Plot\"},\"ticker\":{\"id\":\"73eed09b-2f6d-4a1f-9906-6d02486242f7\",\"type\":\"BasicTicker\"}},\"id\":\"2b429944-f86b-4a2e-860d-21ea1cbe95d8\",\"type\":\"LinearAxis\"},{\"attributes\":{},\"id\":\"0b39b3fa-8831-4a08-8164-d59219cad26c\",\"type\":\"BasicTicker\"},{\"attributes\":{\"plot\":{\"id\":\"33225c35-a060-4dee-8921-d69228828f06\",\"subtype\":\"Chart\",\"type\":\"Plot\"},\"ticker\":{\"id\":\"dfd732b4-afce-479d-9dd2-2ebf92aff632\",\"type\":\"BasicTicker\"}},\"id\":\"5262c484-2934-4bc2-9dba-236fc988bf98\",\"type\":\"Grid\"},{\"attributes\":{},\"id\":\"47fd51c6-ef40-42c9-ad96-3faa641e5107\",\"type\":\"BasicTickFormatter\"},{\"attributes\":{\"callback\":null},\"id\":\"aa9b75b0-fc16-42e7-8921-94b0c6d4af04\",\"type\":\"DataRange1d\"},{\"attributes\":{},\"id\":\"12d6e338-0aa0-410f-8a9d-8524dd1b9a30\",\"type\":\"BasicTicker\"},{\"attributes\":{\"plot\":{\"id\":\"4517cd4a-7c6f-43cd-a3f2-2f380b17b3d8\",\"subtype\":\"Chart\",\"type\":\"Plot\"}},\"id\":\"86017045-11fe-4c18-81dc-03e79fb10795\",\"type\":\"PanTool\"},{\"attributes\":{\"plot\":{\"id\":\"8585a2a3-8c93-4e42-ac94-814fd711a4b4\",\"subtype\":\"Chart\",\"type\":\"Plot\"}},\"id\":\"e6cceb59-e31e-4fb5-936e-b53e0c8794fa\",\"type\":\"ResizeTool\"},{\"attributes\":{\"plot\":{\"id\":\"18bad4e6-12b9-47e6-b2a1-544504fbb63b\",\"subtype\":\"Chart\",\"type\":\"Plot\"}},\"id\":\"aee2e2aa-fd61-4291-b29f-38dfd983396e\",\"type\":\"PreviewSaveTool\"},{\"attributes\":{\"dimension\":1,\"plot\":{\"id\":\"fadbb901-7bc5-4a9f-8f02-d53e598ea923\",\"subtype\":\"Figure\",\"type\":\"Plot\"},\"ticker\":{\"id\":\"f3e413bc-39f9-4636-ade5-481fdd15e615\",\"type\":\"CategoricalTicker\"}},\"id\":\"3d35088d-768e-486c-aec9-24979c84ea28\",\"type\":\"Grid\"},{\"attributes\":{\"axis_label\":\"Difference\",\"formatter\":{\"id\":\"afd7cd4c-60ce-494c-a661-9af20d27d46c\",\"type\":\"BasicTickFormatter\"},\"plot\":{\"id\":\"18bad4e6-12b9-47e6-b2a1-544504fbb63b\",\"subtype\":\"Chart\",\"type\":\"Plot\"},\"ticker\":{\"id\":\"3de7bada-ef5a-48e0-b154-89b2686bbf3a\",\"type\":\"BasicTicker\"}},\"id\":\"d2b74534-cd51-4d9a-92cc-459e41bdca53\",\"type\":\"LinearAxis\"},{\"attributes\":{\"plot\":{\"id\":\"8585a2a3-8c93-4e42-ac94-814fd711a4b4\",\"subtype\":\"Chart\",\"type\":\"Plot\"},\"ticker\":{\"id\":\"699cd2f2-502e-4293-82d0-7c55ada5e0b3\",\"type\":\"BasicTicker\"}},\"id\":\"c9362721-4fa4-457a-b85b-2bfd446bbff8\",\"type\":\"Grid\"},{\"attributes\":{\"callback\":null,\"column_names\":[\"y_values\",\"x_values\"],\"data\":{\"chart_index\":[null,null,null,null,null,null,null,null,null,null],\"x_values\":[1.790593776635928,4.059422218439355,7.338097755253313,1.8887242599839098,0.3563777166599831,0.0671822119195804,2.7890181437174277,1.5084740014914755,2.509303418250477,0.42502634525807226],\"y_values\":[25,67,251,347,353,410,416,536,590,729]}},\"id\":\"a08bf8aa-a04f-4da3-883d-17c23b6c17c7\",\"type\":\"ColumnDataSource\"},{\"attributes\":{},\"id\":\"27ffaa3c-8a57-4097-a68c-f9df54e7ef60\",\"type\":\"BasicTicker\"},{\"attributes\":{\"plot\":{\"id\":\"ef3d51f3-cbd9-4e74-89d2-59fd7104187d\",\"subtype\":\"Figure\",\"type\":\"Plot\"},\"ticker\":{\"id\":\"2334ed36-61da-40cd-92ba-3f0b90d3c3fc\",\"type\":\"BasicTicker\"}},\"id\":\"fe0a9bfd-4e11-48a1-887d-1f218fd39447\",\"type\":\"Grid\"},{\"attributes\":{\"plot\":{\"id\":\"ef3d51f3-cbd9-4e74-89d2-59fd7104187d\",\"subtype\":\"Figure\",\"type\":\"Plot\"}},\"id\":\"620bb1f9-28f4-4c18-91ab-a46e3ce57046\",\"type\":\"ResetTool\"},{\"attributes\":{\"bottom_units\":\"screen\",\"fill_alpha\":{\"value\":0.5},\"fill_color\":{\"value\":\"lightgrey\"},\"left_units\":\"screen\",\"level\":\"overlay\",\"line_alpha\":{\"value\":1.0},\"line_color\":{\"value\":\"black\"},\"line_dash\":[4,4],\"line_width\":{\"value\":2},\"plot\":null,\"render_mode\":\"css\",\"right_units\":\"screen\",\"top_units\":\"screen\"},\"id\":\"6a2643c9-556e-47dc-b2a9-7448165d0077\",\"type\":\"BoxAnnotation\"},{\"attributes\":{\"plot\":{\"id\":\"fb670c4d-ffe0-4735-92a5-67e9e1433c3b\",\"subtype\":\"Figure\",\"type\":\"Plot\"}},\"id\":\"2ed8314d-c3b4-48d5-9140-f948971edf99\",\"type\":\"ResetTool\"},{\"attributes\":{\"below\":[{\"id\":\"0c3283e1-d92b-421d-a593-218d10c55def\",\"type\":\"LinearAxis\"}],\"left\":[{\"id\":\"cbb62278-3e32-471e-909f-d3a79305b45d\",\"type\":\"CategoricalAxis\"}],\"renderers\":[{\"id\":\"0c3283e1-d92b-421d-a593-218d10c55def\",\"type\":\"LinearAxis\"},{\"id\":\"ec7a822d-33db-4c48-94b6-621c0882511a\",\"type\":\"Grid\"},{\"id\":\"cbb62278-3e32-471e-909f-d3a79305b45d\",\"type\":\"CategoricalAxis\"},{\"id\":\"33bdd1b9-1014-4dad-bdd5-bc6628012739\",\"type\":\"Grid\"},{\"id\":\"ed23abe9-76b5-4a21-8c86-0bf525577a36\",\"type\":\"BoxAnnotation\"},{\"id\":\"eae95cca-1cd1-43f4-b00a-9efad52c8c78\",\"type\":\"GlyphRenderer\"}],\"title\":\"Notebok\",\"tool_events\":{\"id\":\"ecb61212-a98f-4d49-80f5-5b982789f71a\",\"type\":\"ToolEvents\"},\"tools\":[{\"id\":\"0e09a50d-4573-4cd8-92e0-2101ee96bc20\",\"type\":\"PanTool\"},{\"id\":\"962b634a-ce05-4e4c-9822-223ccf2ab394\",\"type\":\"WheelZoomTool\"},{\"id\":\"4cc2a04e-5408-47d6-9958-f9043f829600\",\"type\":\"BoxZoomTool\"},{\"id\":\"200cf7b1-b2d1-4500-8af1-7d9fa55f0b6a\",\"type\":\"PreviewSaveTool\"},{\"id\":\"f0948497-2579-437b-b3e8-cf5027dbbf40\",\"type\":\"ResizeTool\"},{\"id\":\"2ed8314d-c3b4-48d5-9140-f948971edf99\",\"type\":\"ResetTool\"},{\"id\":\"8d242653-ecc1-4603-82a6-07b19cfe9003\",\"type\":\"HelpTool\"}],\"x_range\":{\"id\":\"95fb8dd3-cc9f-433a-9131-fe36ff8871e6\",\"type\":\"DataRange1d\"},\"y_range\":{\"id\":\"e71b1de1-a728-45ed-83fb-c06c895e1e20\",\"type\":\"FactorRange\"}},\"id\":\"fb670c4d-ffe0-4735-92a5-67e9e1433c3b\",\"subtype\":\"Figure\",\"type\":\"Plot\"},{\"attributes\":{\"callback\":null,\"factors\":[\"25\",\"67\",\"251\",\"347\",\"353\",\"410\",\"416\",\"536\",\"590\",\"729\"]},\"id\":\"1dfa4001-4faf-4f86-b8b6-45aac128e46b\",\"type\":\"FactorRange\"},{\"attributes\":{\"callback\":null,\"end\":8.065189309586685,\"start\":-0.6599093424137928},\"id\":\"f19fdbd4-c08e-48af-ae1e-59ba70d8555a\",\"type\":\"Range1d\"},{\"attributes\":{\"callback\":null,\"factors\":[\"25\",\"67\",\"251\",\"347\",\"353\",\"410\",\"416\",\"536\",\"590\",\"729\"]},\"id\":\"690380b5-a8d0-4a05-a23f-8da5a08c6524\",\"type\":\"FactorRange\"},{\"attributes\":{\"data_source\":{\"id\":\"a08bf8aa-a04f-4da3-883d-17c23b6c17c7\",\"type\":\"ColumnDataSource\"},\"glyph\":{\"id\":\"023734d4-7f9e-49a8-a6ff-961bcd8d0149\",\"type\":\"Circle\"},\"hover_glyph\":null,\"nonselection_glyph\":null,\"selection_glyph\":null},\"id\":\"54276329-2ccb-4aa1-9de3-a573afd2b60e\",\"type\":\"GlyphRenderer\"},{\"attributes\":{\"plot\":{\"id\":\"ef3d51f3-cbd9-4e74-89d2-59fd7104187d\",\"subtype\":\"Figure\",\"type\":\"Plot\"}},\"id\":\"529a135d-3c22-4bff-be8f-ed24286016b7\",\"type\":\"PreviewSaveTool\"},{\"attributes\":{\"data_source\":{\"id\":\"4c510eb2-aaee-4607-a433-c301c5f8b352\",\"type\":\"ColumnDataSource\"},\"glyph\":{\"id\":\"6fe1f579-fa48-4db8-b43e-237437a658e2\",\"type\":\"Circle\"},\"hover_glyph\":null,\"nonselection_glyph\":{\"id\":\"6876d116-9a66-4357-8c64-c41c14431e60\",\"type\":\"Circle\"},\"selection_glyph\":null},\"id\":\"19fcd7fb-d791-408b-96a6-4e9ac5f4c447\",\"type\":\"GlyphRenderer\"},{\"attributes\":{\"callback\":null,\"end\":799.4,\"start\":-45.400000000000006},\"id\":\"7aa30b25-05d6-4fe5-a768-c95877bf7eb8\",\"type\":\"Range1d\"},{\"attributes\":{\"plot\":{\"id\":\"4517cd4a-7c6f-43cd-a3f2-2f380b17b3d8\",\"subtype\":\"Chart\",\"type\":\"Plot\"}},\"id\":\"f24c47d4-1c58-460a-853f-264832a538ee\",\"type\":\"HelpTool\"},{\"attributes\":{\"plot\":{\"id\":\"fb670c4d-ffe0-4735-92a5-67e9e1433c3b\",\"subtype\":\"Figure\",\"type\":\"Plot\"}},\"id\":\"962b634a-ce05-4e4c-9822-223ccf2ab394\",\"type\":\"WheelZoomTool\"},{\"attributes\":{},\"id\":\"2c7421c1-1396-4bed-8a6c-52cf74f7f943\",\"type\":\"ToolEvents\"},{\"attributes\":{\"axis_label\":\"Difference\",\"formatter\":{\"id\":\"c6d42141-1a0d-4fdb-841f-e5733f0fec70\",\"type\":\"BasicTickFormatter\"},\"plot\":{\"id\":\"33225c35-a060-4dee-8921-d69228828f06\",\"subtype\":\"Chart\",\"type\":\"Plot\"},\"ticker\":{\"id\":\"dfd732b4-afce-479d-9dd2-2ebf92aff632\",\"type\":\"BasicTicker\"}},\"id\":\"1d343401-47ea-44ac-bd25-05b70d399bdc\",\"type\":\"LinearAxis\"},{\"attributes\":{\"overlay\":{\"id\":\"f5373a86-fdba-4627-87eb-79056deabae6\",\"type\":\"BoxAnnotation\"},\"plot\":{\"id\":\"f99dbfe5-a922-4be8-b93c-8f96aa5d6e50\",\"subtype\":\"Figure\",\"type\":\"Plot\"}},\"id\":\"6c0a4c5b-c57c-4756-8b89-d53ef5af22cf\",\"type\":\"BoxZoomTool\"},{\"attributes\":{},\"id\":\"c4513ce3-856b-481a-81e2-b2d0bc04694d\",\"type\":\"CategoricalTicker\"},{\"attributes\":{\"below\":[{\"id\":\"d2b74534-cd51-4d9a-92cc-459e41bdca53\",\"type\":\"LinearAxis\"}],\"left\":[{\"id\":\"5f2a6b66-ba23-469a-910a-ad98e47b3594\",\"type\":\"LinearAxis\"}],\"legend\":null,\"renderers\":[{\"id\":\"4bc5d919-c44c-40e5-92a4-aa678332306b\",\"type\":\"BoxAnnotation\"},{\"id\":\"bfcdd397-83de-4faf-bd47-ba33cccbe00e\",\"type\":\"GlyphRenderer\"},{\"id\":\"d2b74534-cd51-4d9a-92cc-459e41bdca53\",\"type\":\"LinearAxis\"},{\"id\":\"5f2a6b66-ba23-469a-910a-ad98e47b3594\",\"type\":\"LinearAxis\"},{\"id\":\"ea37ff2f-61be-442c-84f6-bbd8ba6f3d30\",\"type\":\"Grid\"},{\"id\":\"f5c67d5c-9535-4eae-a662-af217b276e9b\",\"type\":\"Grid\"}],\"title\":\"Allele Effect Differences\",\"title_text_font_size\":{\"value\":\"14pt\"},\"tool_events\":{\"id\":\"d0b1c81e-3c9d-4af7-a8a7-7d07b5f360be\",\"type\":\"ToolEvents\"},\"tools\":[{\"id\":\"60e09ac8-f3a9-4d20-8331-737ab7cbef05\",\"type\":\"PanTool\"},{\"id\":\"2e59e081-b55c-4bb2-a1e0-c15ef2a8548c\",\"type\":\"WheelZoomTool\"},{\"id\":\"bed1e0b2-e130-49dc-b71e-a43742113b78\",\"type\":\"BoxZoomTool\"},{\"id\":\"aee2e2aa-fd61-4291-b29f-38dfd983396e\",\"type\":\"PreviewSaveTool\"},{\"id\":\"032b4e7a-c2ff-43fb-9f99-18e47bceea22\",\"type\":\"ResizeTool\"},{\"id\":\"7f55d239-1c80-42b3-a733-2cdf694b9224\",\"type\":\"ResetTool\"},{\"id\":\"9539e353-d923-492e-ab91-488eb64b5059\",\"type\":\"HelpTool\"}],\"x_mapper_type\":\"auto\",\"x_range\":{\"id\":\"037c8a08-9671-45d1-b322-11dd247b0fab\",\"type\":\"Range1d\"},\"xscale\":\"auto\",\"y_mapper_type\":\"auto\",\"y_range\":{\"id\":\"bd37761f-2fc0-41c6-969b-4b61f8104d88\",\"type\":\"Range1d\"},\"yscale\":\"auto\"},\"id\":\"18bad4e6-12b9-47e6-b2a1-544504fbb63b\",\"subtype\":\"Chart\",\"type\":\"Plot\"},{\"attributes\":{\"overlay\":{\"id\":\"25554e82-c69f-48b8-a33b-f00203dd94d2\",\"type\":\"BoxAnnotation\"},\"plot\":{\"id\":\"ef3d51f3-cbd9-4e74-89d2-59fd7104187d\",\"subtype\":\"Figure\",\"type\":\"Plot\"}},\"id\":\"65142d3b-0d0b-4a56-82e8-1d8fadd76866\",\"type\":\"BoxZoomTool\"},{\"attributes\":{\"plot\":{\"id\":\"4517cd4a-7c6f-43cd-a3f2-2f380b17b3d8\",\"subtype\":\"Chart\",\"type\":\"Plot\"}},\"id\":\"490d6789-8c2e-475c-95eb-99e694bcf627\",\"type\":\"WheelZoomTool\"},{\"attributes\":{\"fill_color\":{\"value\":\"orange\"},\"line_color\":{\"value\":\"green\"},\"line_width\":{\"value\":3},\"size\":{\"units\":\"screen\",\"value\":15},\"x\":{\"field\":\"x\"},\"y\":{\"field\":\"y\"}},\"id\":\"6fe1f579-fa48-4db8-b43e-237437a658e2\",\"type\":\"Circle\"},{\"attributes\":{\"plot\":{\"id\":\"33225c35-a060-4dee-8921-d69228828f06\",\"subtype\":\"Chart\",\"type\":\"Plot\"}},\"id\":\"e1637d7c-59ac-48ca-9841-a38439e63cd9\",\"type\":\"ResetTool\"},{\"attributes\":{\"plot\":{\"id\":\"8585a2a3-8c93-4e42-ac94-814fd711a4b4\",\"subtype\":\"Chart\",\"type\":\"Plot\"}},\"id\":\"5dc53f21-0466-4771-a549-29ea85ab486e\",\"type\":\"PanTool\"},{\"attributes\":{},\"id\":\"afd7cd4c-60ce-494c-a661-9af20d27d46c\",\"type\":\"BasicTickFormatter\"},{\"attributes\":{\"plot\":{\"id\":\"fadbb901-7bc5-4a9f-8f02-d53e598ea923\",\"subtype\":\"Figure\",\"type\":\"Plot\"}},\"id\":\"82b90c62-bd8f-4440-ba83-4eb5c92d233f\",\"type\":\"ResizeTool\"},{\"attributes\":{\"formatter\":{\"id\":\"59fd73ce-ff5e-492d-9e0f-af73ad07b6fd\",\"type\":\"BasicTickFormatter\"},\"plot\":{\"id\":\"fadbb901-7bc5-4a9f-8f02-d53e598ea923\",\"subtype\":\"Figure\",\"type\":\"Plot\"},\"ticker\":{\"id\":\"12d6e338-0aa0-410f-8a9d-8524dd1b9a30\",\"type\":\"BasicTicker\"}},\"id\":\"ebae7a9d-c81e-45ec-a02b-f4a469656fd7\",\"type\":\"LinearAxis\"},{\"attributes\":{\"plot\":{\"id\":\"18bad4e6-12b9-47e6-b2a1-544504fbb63b\",\"subtype\":\"Chart\",\"type\":\"Plot\"}},\"id\":\"9539e353-d923-492e-ab91-488eb64b5059\",\"type\":\"HelpTool\"},{\"attributes\":{},\"id\":\"ce893ab6-fcc1-41b6-9ea1-ef03ca03685d\",\"type\":\"CategoricalTickFormatter\"},{\"attributes\":{\"below\":[{\"id\":\"ebae7a9d-c81e-45ec-a02b-f4a469656fd7\",\"type\":\"LinearAxis\"}],\"left\":[{\"id\":\"a95c9098-b95f-4a55-bdad-88dbed40e413\",\"type\":\"CategoricalAxis\"}],\"renderers\":[{\"id\":\"ebae7a9d-c81e-45ec-a02b-f4a469656fd7\",\"type\":\"LinearAxis\"},{\"id\":\"c2e2ace3-763f-46b3-acd7-71837655018e\",\"type\":\"Grid\"},{\"id\":\"a95c9098-b95f-4a55-bdad-88dbed40e413\",\"type\":\"CategoricalAxis\"},{\"id\":\"3d35088d-768e-486c-aec9-24979c84ea28\",\"type\":\"Grid\"},{\"id\":\"6a2643c9-556e-47dc-b2a9-7448165d0077\",\"type\":\"BoxAnnotation\"}],\"title\":\"Allele Effect Differences\",\"tool_events\":{\"id\":\"2c7421c1-1396-4bed-8a6c-52cf74f7f943\",\"type\":\"ToolEvents\"},\"tools\":[{\"id\":\"0bf9c76e-f3fb-40c2-a49d-14bdd4299da6\",\"type\":\"PanTool\"},{\"id\":\"8c7a57e2-41b2-4182-b90d-3421b1e8d31a\",\"type\":\"WheelZoomTool\"},{\"id\":\"7ef5e863-b498-498b-95fe-81790342db52\",\"type\":\"BoxZoomTool\"},{\"id\":\"eb0b5f09-7f4c-44c9-a9b7-5587d5467dc9\",\"type\":\"PreviewSaveTool\"},{\"id\":\"82b90c62-bd8f-4440-ba83-4eb5c92d233f\",\"type\":\"ResizeTool\"},{\"id\":\"607cbbcc-4744-4771-afd0-52f90b3fa6f8\",\"type\":\"ResetTool\"},{\"id\":\"d1dad2d5-d251-43af-93b7-b89dca638167\",\"type\":\"HelpTool\"}],\"x_range\":{\"id\":\"aa9b75b0-fc16-42e7-8921-94b0c6d4af04\",\"type\":\"DataRange1d\"},\"y_range\":{\"id\":\"81f3c215-de03-4d91-846f-440b55333e41\",\"type\":\"FactorRange\"}},\"id\":\"fadbb901-7bc5-4a9f-8f02-d53e598ea923\",\"subtype\":\"Figure\",\"type\":\"Plot\"},{\"attributes\":{\"plot\":{\"id\":\"fadbb901-7bc5-4a9f-8f02-d53e598ea923\",\"subtype\":\"Figure\",\"type\":\"Plot\"}},\"id\":\"0bf9c76e-f3fb-40c2-a49d-14bdd4299da6\",\"type\":\"PanTool\"},{\"attributes\":{\"formatter\":{\"id\":\"a9d79c89-4e2b-4e26-b817-41f8c1b6dd56\",\"type\":\"BasicTickFormatter\"},\"plot\":{\"id\":\"f99dbfe5-a922-4be8-b93c-8f96aa5d6e50\",\"subtype\":\"Figure\",\"type\":\"Plot\"},\"ticker\":{\"id\":\"22892ff3-20fa-41e6-9b4f-3ca89940c6fd\",\"type\":\"BasicTicker\"}},\"id\":\"80779da2-0d68-4d44-b212-0e7ca7141d2a\",\"type\":\"LinearAxis\"},{\"attributes\":{\"formatter\":{\"id\":\"ce893ab6-fcc1-41b6-9ea1-ef03ca03685d\",\"type\":\"CategoricalTickFormatter\"},\"plot\":{\"id\":\"f99dbfe5-a922-4be8-b93c-8f96aa5d6e50\",\"subtype\":\"Figure\",\"type\":\"Plot\"},\"ticker\":{\"id\":\"b7715c84-ffdd-4b23-aac3-278036b6aada\",\"type\":\"CategoricalTicker\"}},\"id\":\"2f34b2b8-63ca-4c04-b7a2-b6c09f15916c\",\"type\":\"CategoricalAxis\"},{\"attributes\":{\"plot\":{\"id\":\"fb670c4d-ffe0-4735-92a5-67e9e1433c3b\",\"subtype\":\"Figure\",\"type\":\"Plot\"}},\"id\":\"f0948497-2579-437b-b3e8-cf5027dbbf40\",\"type\":\"ResizeTool\"},{\"attributes\":{\"below\":[{\"id\":\"7a39bc2e-c9e4-4501-a5fa-4899e7e0932d\",\"type\":\"LinearAxis\"}],\"left\":[{\"id\":\"bc5eb2ab-35dd-4b0a-b83a-0426467fd7b3\",\"type\":\"CategoricalAxis\"}],\"legend\":null,\"renderers\":[{\"id\":\"4902cac0-96d0-47fd-b39e-8f18dc420dcd\",\"type\":\"BoxAnnotation\"},{\"id\":\"5a01d437-84de-45a2-972f-81bcf9caadb2\",\"type\":\"GlyphRenderer\"},{\"id\":\"7a39bc2e-c9e4-4501-a5fa-4899e7e0932d\",\"type\":\"LinearAxis\"},{\"id\":\"bc5eb2ab-35dd-4b0a-b83a-0426467fd7b3\",\"type\":\"CategoricalAxis\"},{\"id\":\"c9362721-4fa4-457a-b85b-2bfd446bbff8\",\"type\":\"Grid\"},{\"id\":\"6d808fb8-db90-4fee-8f1f-5e5689f42bb0\",\"type\":\"Grid\"}],\"title\":\"Allele Effect Differences\",\"title_text_font_size\":{\"value\":\"14pt\"},\"tool_events\":{\"id\":\"e90ac143-3150-433b-9d9a-15701ec390b8\",\"type\":\"ToolEvents\"},\"tools\":[{\"id\":\"5dc53f21-0466-4771-a549-29ea85ab486e\",\"type\":\"PanTool\"},{\"id\":\"d6ac505e-fc34-4e44-bb39-e40b7fee11f0\",\"type\":\"WheelZoomTool\"},{\"id\":\"6f587b61-82a3-4913-bf84-e477920d0204\",\"type\":\"BoxZoomTool\"},{\"id\":\"5bdf1275-a16f-40b1-b3f8-bf18a3131464\",\"type\":\"PreviewSaveTool\"},{\"id\":\"e6cceb59-e31e-4fb5-936e-b53e0c8794fa\",\"type\":\"ResizeTool\"},{\"id\":\"b2c2aca6-3e23-42f7-bc3b-7dec987133bf\",\"type\":\"ResetTool\"},{\"id\":\"58d423a5-af1f-4359-ab51-4e3715652e85\",\"type\":\"HelpTool\"}],\"x_mapper_type\":\"auto\",\"x_range\":{\"id\":\"27a15d68-b17b-4b26-a15f-cfbf3bb9643b\",\"type\":\"Range1d\"},\"xscale\":\"auto\",\"y_mapper_type\":\"auto\",\"y_range\":{\"id\":\"690380b5-a8d0-4a05-a23f-8da5a08c6524\",\"type\":\"FactorRange\"},\"yscale\":\"auto\"},\"id\":\"8585a2a3-8c93-4e42-ac94-814fd711a4b4\",\"subtype\":\"Chart\",\"type\":\"Plot\"},{\"attributes\":{},\"id\":\"699cd2f2-502e-4293-82d0-7c55ada5e0b3\",\"type\":\"BasicTicker\"},{\"attributes\":{\"plot\":{\"id\":\"f99dbfe5-a922-4be8-b93c-8f96aa5d6e50\",\"subtype\":\"Figure\",\"type\":\"Plot\"}},\"id\":\"99bcb1fc-c5d2-4c86-8b1d-c85fade806f5\",\"type\":\"HelpTool\"},{\"attributes\":{\"callback\":null,\"column_names\":[\"x\",\"y\"],\"data\":{\"x\":[1.790593776635928,4.059422218439355,7.338097755253313,1.8887242599839098,0.3563777166599831,0.0671822119195804,2.7890181437174277,1.5084740014914755,2.509303418250477,0.42502634525807226],\"y\":[\"25\",\"67\",\"251\",\"347\",\"353\",\"410\",\"416\",\"536\",\"590\",\"729\"]}},\"id\":\"1648fc65-7eaf-412f-8c28-1dea360f9697\",\"type\":\"ColumnDataSource\"},{\"attributes\":{\"fill_alpha\":{\"value\":0.1},\"fill_color\":{\"value\":\"#1f77b4\"},\"line_alpha\":{\"value\":0.1},\"line_color\":{\"value\":\"#1f77b4\"},\"line_width\":{\"value\":3},\"size\":{\"units\":\"screen\",\"value\":15},\"x\":{\"field\":\"x\"},\"y\":{\"field\":\"y\"}},\"id\":\"3c1ce479-733a-45d5-83c8-6acd9283881a\",\"type\":\"Circle\"},{\"attributes\":{\"dimension\":1,\"plot\":{\"id\":\"18bad4e6-12b9-47e6-b2a1-544504fbb63b\",\"subtype\":\"Chart\",\"type\":\"Plot\"},\"ticker\":{\"id\":\"5bfeb8b3-3838-4392-8734-b14938ed8476\",\"type\":\"BasicTicker\"}},\"id\":\"f5c67d5c-9535-4eae-a662-af217b276e9b\",\"type\":\"Grid\"},{\"attributes\":{},\"id\":\"61a2613b-7a88-4a41-89af-3f174274a8ca\",\"type\":\"BasicTickFormatter\"},{\"attributes\":{\"dimension\":1,\"plot\":{\"id\":\"8585a2a3-8c93-4e42-ac94-814fd711a4b4\",\"subtype\":\"Chart\",\"type\":\"Plot\"},\"ticker\":{\"id\":\"3849ba89-ab52-4bc2-a741-4fd0907136b8\",\"type\":\"CategoricalTicker\"}},\"id\":\"6d808fb8-db90-4fee-8f1f-5e5689f42bb0\",\"type\":\"Grid\"},{\"attributes\":{\"bottom_units\":\"screen\",\"fill_alpha\":{\"value\":0.5},\"fill_color\":{\"value\":\"lightgrey\"},\"left_units\":\"screen\",\"level\":\"overlay\",\"line_alpha\":{\"value\":1.0},\"line_color\":{\"value\":\"black\"},\"line_dash\":[4,4],\"line_width\":{\"value\":2},\"plot\":null,\"render_mode\":\"css\",\"right_units\":\"screen\",\"top_units\":\"screen\"},\"id\":\"abdec69e-1cdd-4a71-bd71-e4014390dcab\",\"type\":\"BoxAnnotation\"},{\"attributes\":{\"plot\":{\"id\":\"fb670c4d-ffe0-4735-92a5-67e9e1433c3b\",\"subtype\":\"Figure\",\"type\":\"Plot\"}},\"id\":\"8d242653-ecc1-4603-82a6-07b19cfe9003\",\"type\":\"HelpTool\"},{\"attributes\":{\"below\":[{\"id\":\"af194b23-aed9-43be-8256-e11e59cd732a\",\"type\":\"LinearAxis\"}],\"left\":[{\"id\":\"86bd1a4a-8e50-4ce6-8382-c42ee73a558f\",\"type\":\"CategoricalAxis\"}],\"renderers\":[{\"id\":\"af194b23-aed9-43be-8256-e11e59cd732a\",\"type\":\"LinearAxis\"},{\"id\":\"fe0a9bfd-4e11-48a1-887d-1f218fd39447\",\"type\":\"Grid\"},{\"id\":\"86bd1a4a-8e50-4ce6-8382-c42ee73a558f\",\"type\":\"CategoricalAxis\"},{\"id\":\"9091aec3-0df9-4535-9dca-c28f75e70441\",\"type\":\"Grid\"},{\"id\":\"25554e82-c69f-48b8-a33b-f00203dd94d2\",\"type\":\"BoxAnnotation\"}],\"title\":\"Allele Effect Differences\",\"tool_events\":{\"id\":\"625ddcd0-88eb-4cb5-9372-ba7cf3290ca5\",\"type\":\"ToolEvents\"},\"tools\":[{\"id\":\"c1f1360b-3941-493b-ab06-22c6a262df7a\",\"type\":\"PanTool\"},{\"id\":\"03956807-9647-4697-9c82-5dd30580108a\",\"type\":\"WheelZoomTool\"},{\"id\":\"65142d3b-0d0b-4a56-82e8-1d8fadd76866\",\"type\":\"BoxZoomTool\"},{\"id\":\"529a135d-3c22-4bff-be8f-ed24286016b7\",\"type\":\"PreviewSaveTool\"},{\"id\":\"c8f2a41f-9f24-4280-a3ec-7d07bf8a9ae5\",\"type\":\"ResizeTool\"},{\"id\":\"620bb1f9-28f4-4c18-91ab-a46e3ce57046\",\"type\":\"ResetTool\"},{\"id\":\"5a430757-a1c5-4051-93a7-a4477723c6a3\",\"type\":\"HelpTool\"}],\"x_range\":{\"id\":\"5edea7ff-d0c6-4125-b19c-b455b92e4d8b\",\"type\":\"DataRange1d\"},\"y_range\":{\"id\":\"1dfa4001-4faf-4f86-b8b6-45aac128e46b\",\"type\":\"FactorRange\"}},\"id\":\"ef3d51f3-cbd9-4e74-89d2-59fd7104187d\",\"subtype\":\"Figure\",\"type\":\"Plot\"},{\"attributes\":{\"plot\":{\"id\":\"18bad4e6-12b9-47e6-b2a1-544504fbb63b\",\"subtype\":\"Chart\",\"type\":\"Plot\"}},\"id\":\"032b4e7a-c2ff-43fb-9f99-18e47bceea22\",\"type\":\"ResizeTool\"},{\"attributes\":{\"overlay\":{\"id\":\"6a2643c9-556e-47dc-b2a9-7448165d0077\",\"type\":\"BoxAnnotation\"},\"plot\":{\"id\":\"fadbb901-7bc5-4a9f-8f02-d53e598ea923\",\"subtype\":\"Figure\",\"type\":\"Plot\"}},\"id\":\"7ef5e863-b498-498b-95fe-81790342db52\",\"type\":\"BoxZoomTool\"},{\"attributes\":{\"callback\":null},\"id\":\"f80cb012-634b-47cd-9316-ca548f215ad0\",\"type\":\"DataRange1d\"},{\"attributes\":{\"plot\":{\"id\":\"ef3d51f3-cbd9-4e74-89d2-59fd7104187d\",\"subtype\":\"Figure\",\"type\":\"Plot\"}},\"id\":\"c8f2a41f-9f24-4280-a3ec-7d07bf8a9ae5\",\"type\":\"ResizeTool\"},{\"attributes\":{\"data_source\":{\"id\":\"634d4ff3-898f-4f09-9ba9-dc33406ed9bc\",\"type\":\"ColumnDataSource\"},\"glyph\":{\"id\":\"726bba8f-7536-451f-bccf-d16fb0699244\",\"type\":\"Circle\"},\"hover_glyph\":null,\"nonselection_glyph\":null,\"selection_glyph\":null},\"id\":\"bfcdd397-83de-4faf-bd47-ba33cccbe00e\",\"type\":\"GlyphRenderer\"},{\"attributes\":{\"formatter\":{\"id\":\"a4af3104-31ad-44df-b636-9d2a30f7d3ab\",\"type\":\"CategoricalTickFormatter\"},\"plot\":{\"id\":\"ef3d51f3-cbd9-4e74-89d2-59fd7104187d\",\"subtype\":\"Figure\",\"type\":\"Plot\"},\"ticker\":{\"id\":\"cdfec39a-f6f6-4f45-a4c8-55f04c40bdbe\",\"type\":\"CategoricalTicker\"}},\"id\":\"86bd1a4a-8e50-4ce6-8382-c42ee73a558f\",\"type\":\"CategoricalAxis\"},{\"attributes\":{\"data_source\":{\"id\":\"7fa04ce8-e001-4878-a2cf-9d968cf0a793\",\"type\":\"ColumnDataSource\"},\"glyph\":{\"id\":\"6d28bb9d-e771-49b1-ab87-ea9cfac16d90\",\"type\":\"Circle\"},\"hover_glyph\":null,\"nonselection_glyph\":null,\"selection_glyph\":null},\"id\":\"5a01d437-84de-45a2-972f-81bcf9caadb2\",\"type\":\"GlyphRenderer\"},{\"attributes\":{\"callback\":null,\"column_names\":[\"y_values\",\"x_values\"],\"data\":{\"chart_index\":[null,null,null,null,null,null,null,null,null,null],\"x_values\":[1.790593776635928,4.059422218439355,7.338097755253313,1.8887242599839098,0.3563777166599831,0.0671822119195804,2.7890181437174277,1.5084740014914755,2.509303418250477,0.42502634525807226],\"y_values\":[\"25\",\"67\",\"251\",\"347\",\"353\",\"410\",\"416\",\"536\",\"590\",\"729\"]}},\"id\":\"7fa04ce8-e001-4878-a2cf-9d968cf0a793\",\"type\":\"ColumnDataSource\"},{\"attributes\":{},\"id\":\"4eaba6ac-9805-4247-a65d-5b6c6ddc2dd4\",\"type\":\"BasicTickFormatter\"},{\"attributes\":{},\"id\":\"a4af3104-31ad-44df-b636-9d2a30f7d3ab\",\"type\":\"CategoricalTickFormatter\"},{\"attributes\":{},\"id\":\"73eed09b-2f6d-4a1f-9906-6d02486242f7\",\"type\":\"BasicTicker\"},{\"attributes\":{\"dimension\":1,\"plot\":{\"id\":\"33225c35-a060-4dee-8921-d69228828f06\",\"subtype\":\"Chart\",\"type\":\"Plot\"},\"ticker\":{\"id\":\"73eed09b-2f6d-4a1f-9906-6d02486242f7\",\"type\":\"BasicTicker\"}},\"id\":\"a39dcd9d-f029-49ca-b93d-c05a1ca2ee40\",\"type\":\"Grid\"},{\"attributes\":{\"plot\":{\"id\":\"4517cd4a-7c6f-43cd-a3f2-2f380b17b3d8\",\"subtype\":\"Chart\",\"type\":\"Plot\"},\"ticker\":{\"id\":\"27ffaa3c-8a57-4097-a68c-f9df54e7ef60\",\"type\":\"BasicTicker\"}},\"id\":\"7fdf0d5f-3620-4505-b1d4-8ba9ef69f714\",\"type\":\"Grid\"},{\"attributes\":{\"below\":[{\"id\":\"80779da2-0d68-4d44-b212-0e7ca7141d2a\",\"type\":\"LinearAxis\"}],\"left\":[{\"id\":\"2f34b2b8-63ca-4c04-b7a2-b6c09f15916c\",\"type\":\"CategoricalAxis\"}],\"renderers\":[{\"id\":\"80779da2-0d68-4d44-b212-0e7ca7141d2a\",\"type\":\"LinearAxis\"},{\"id\":\"98c4055a-a2d7-44a5-9712-dd9c100afee9\",\"type\":\"Grid\"},{\"id\":\"2f34b2b8-63ca-4c04-b7a2-b6c09f15916c\",\"type\":\"CategoricalAxis\"},{\"id\":\"52344a2c-68f4-4224-b362-bf04435e11d3\",\"type\":\"Grid\"},{\"id\":\"f5373a86-fdba-4627-87eb-79056deabae6\",\"type\":\"BoxAnnotation\"},{\"id\":\"19fcd7fb-d791-408b-96a6-4e9ac5f4c447\",\"type\":\"GlyphRenderer\"}],\"title\":\"Allele Effect Differences\",\"tool_events\":{\"id\":\"9b5861d7-334f-417f-918e-3f6e25ecdfff\",\"type\":\"ToolEvents\"},\"tools\":[{\"id\":\"8ce69342-18d2-46a9-ac9b-dbad7098758a\",\"type\":\"PanTool\"},{\"id\":\"bfa4abd7-3edd-4a07-9590-0b883238821c\",\"type\":\"WheelZoomTool\"},{\"id\":\"6c0a4c5b-c57c-4756-8b89-d53ef5af22cf\",\"type\":\"BoxZoomTool\"},{\"id\":\"a2d8a991-280f-48c6-9bcc-f999e824b081\",\"type\":\"PreviewSaveTool\"},{\"id\":\"82da47d7-d523-47f9-afc5-3873fc8573d8\",\"type\":\"ResizeTool\"},{\"id\":\"fba944b6-c85c-4613-a0d8-1be995a8aee8\",\"type\":\"ResetTool\"},{\"id\":\"99bcb1fc-c5d2-4c86-8b1d-c85fade806f5\",\"type\":\"HelpTool\"}],\"x_range\":{\"id\":\"f80cb012-634b-47cd-9316-ca548f215ad0\",\"type\":\"DataRange1d\"},\"y_range\":{\"id\":\"43c474cc-bdaa-4f25-8158-de8171ebe8e7\",\"type\":\"FactorRange\"}},\"id\":\"f99dbfe5-a922-4be8-b93c-8f96aa5d6e50\",\"subtype\":\"Figure\",\"type\":\"Plot\"},{\"attributes\":{\"dimension\":1,\"plot\":{\"id\":\"f99dbfe5-a922-4be8-b93c-8f96aa5d6e50\",\"subtype\":\"Figure\",\"type\":\"Plot\"},\"ticker\":{\"id\":\"b7715c84-ffdd-4b23-aac3-278036b6aada\",\"type\":\"CategoricalTicker\"}},\"id\":\"52344a2c-68f4-4224-b362-bf04435e11d3\",\"type\":\"Grid\"},{\"attributes\":{},\"id\":\"cdfec39a-f6f6-4f45-a4c8-55f04c40bdbe\",\"type\":\"CategoricalTicker\"},{\"attributes\":{\"plot\":{\"id\":\"18bad4e6-12b9-47e6-b2a1-544504fbb63b\",\"subtype\":\"Chart\",\"type\":\"Plot\"}},\"id\":\"2e59e081-b55c-4bb2-a1e0-c15ef2a8548c\",\"type\":\"WheelZoomTool\"},{\"attributes\":{\"plot\":{\"id\":\"f99dbfe5-a922-4be8-b93c-8f96aa5d6e50\",\"subtype\":\"Figure\",\"type\":\"Plot\"}},\"id\":\"a2d8a991-280f-48c6-9bcc-f999e824b081\",\"type\":\"PreviewSaveTool\"},{\"attributes\":{},\"id\":\"f3e413bc-39f9-4636-ade5-481fdd15e615\",\"type\":\"CategoricalTicker\"},{\"attributes\":{\"bottom_units\":\"screen\",\"fill_alpha\":{\"value\":0.5},\"fill_color\":{\"value\":\"lightgrey\"},\"left_units\":\"screen\",\"level\":\"overlay\",\"line_alpha\":{\"value\":1.0},\"line_color\":{\"value\":\"black\"},\"line_dash\":[4,4],\"line_width\":{\"value\":2},\"plot\":null,\"render_mode\":\"css\",\"right_units\":\"screen\",\"top_units\":\"screen\"},\"id\":\"b4c06e77-8b76-4158-90a4-e01afacf7e65\",\"type\":\"BoxAnnotation\"},{\"attributes\":{\"callback\":null,\"end\":8.065189309586685,\"start\":-0.6599093424137928},\"id\":\"037c8a08-9671-45d1-b322-11dd247b0fab\",\"type\":\"Range1d\"},{\"attributes\":{},\"id\":\"c6d42141-1a0d-4fdb-841f-e5733f0fec70\",\"type\":\"BasicTickFormatter\"},{\"attributes\":{\"plot\":{\"id\":\"4517cd4a-7c6f-43cd-a3f2-2f380b17b3d8\",\"subtype\":\"Chart\",\"type\":\"Plot\"}},\"id\":\"bfc4db62-67a8-4374-9e80-7dd3a0441134\",\"type\":\"ResetTool\"},{\"attributes\":{\"fill_color\":{\"value\":\"orange\"},\"line_color\":{\"value\":\"green\"},\"line_width\":{\"value\":3},\"size\":{\"units\":\"screen\",\"value\":15},\"x\":{\"field\":\"x\"},\"y\":{\"field\":\"y\"}},\"id\":\"9b7b3661-f2ef-46dc-adb3-70e7f1707800\",\"type\":\"Circle\"},{\"attributes\":{\"plot\":{\"id\":\"33225c35-a060-4dee-8921-d69228828f06\",\"subtype\":\"Chart\",\"type\":\"Plot\"}},\"id\":\"1b29c7e3-614a-497b-ac49-2b277a9f6337\",\"type\":\"HelpTool\"},{\"attributes\":{\"plot\":{\"id\":\"ef3d51f3-cbd9-4e74-89d2-59fd7104187d\",\"subtype\":\"Figure\",\"type\":\"Plot\"}},\"id\":\"5a430757-a1c5-4051-93a7-a4477723c6a3\",\"type\":\"HelpTool\"},{\"attributes\":{},\"id\":\"625ddcd0-88eb-4cb5-9372-ba7cf3290ca5\",\"type\":\"ToolEvents\"},{\"attributes\":{},\"id\":\"457e822e-67a3-4d8c-bd2d-b9b7120d6b51\",\"type\":\"ToolEvents\"},{\"attributes\":{\"callback\":null,\"end\":799.4,\"start\":-45.400000000000006},\"id\":\"bd37761f-2fc0-41c6-969b-4b61f8104d88\",\"type\":\"Range1d\"},{\"attributes\":{\"plot\":{\"id\":\"18bad4e6-12b9-47e6-b2a1-544504fbb63b\",\"subtype\":\"Chart\",\"type\":\"Plot\"},\"ticker\":{\"id\":\"3de7bada-ef5a-48e0-b154-89b2686bbf3a\",\"type\":\"BasicTicker\"}},\"id\":\"ea37ff2f-61be-442c-84f6-bbd8ba6f3d30\",\"type\":\"Grid\"},{\"attributes\":{\"axis_label\":\"Difference\",\"formatter\":{\"id\":\"47fd51c6-ef40-42c9-ad96-3faa641e5107\",\"type\":\"BasicTickFormatter\"},\"plot\":{\"id\":\"8585a2a3-8c93-4e42-ac94-814fd711a4b4\",\"subtype\":\"Chart\",\"type\":\"Plot\"},\"ticker\":{\"id\":\"699cd2f2-502e-4293-82d0-7c55ada5e0b3\",\"type\":\"BasicTicker\"}},\"id\":\"7a39bc2e-c9e4-4501-a5fa-4899e7e0932d\",\"type\":\"LinearAxis\"},{\"attributes\":{\"callback\":null,\"factors\":[\"25\",\"67\",\"251\",\"347\",\"353\",\"410\",\"416\",\"536\",\"590\",\"729\"]},\"id\":\"e71b1de1-a728-45ed-83fb-c06c895e1e20\",\"type\":\"FactorRange\"},{\"attributes\":{\"plot\":{\"id\":\"f99dbfe5-a922-4be8-b93c-8f96aa5d6e50\",\"subtype\":\"Figure\",\"type\":\"Plot\"}},\"id\":\"8ce69342-18d2-46a9-ac9b-dbad7098758a\",\"type\":\"PanTool\"},{\"attributes\":{\"bottom_units\":\"screen\",\"fill_alpha\":{\"value\":0.5},\"fill_color\":{\"value\":\"lightgrey\"},\"left_units\":\"screen\",\"level\":\"overlay\",\"line_alpha\":{\"value\":1.0},\"line_color\":{\"value\":\"black\"},\"line_dash\":[4,4],\"line_width\":{\"value\":2},\"plot\":null,\"render_mode\":\"css\",\"right_units\":\"screen\",\"top_units\":\"screen\"},\"id\":\"25554e82-c69f-48b8-a33b-f00203dd94d2\",\"type\":\"BoxAnnotation\"},{\"attributes\":{\"plot\":{\"id\":\"4517cd4a-7c6f-43cd-a3f2-2f380b17b3d8\",\"subtype\":\"Chart\",\"type\":\"Plot\"}},\"id\":\"bc0a5d82-d533-4c23-a694-899cfc52ae82\",\"type\":\"PreviewSaveTool\"}],\"root_ids\":[\"fb670c4d-ffe0-4735-92a5-67e9e1433c3b\",\"ef3d51f3-cbd9-4e74-89d2-59fd7104187d\",\"fadbb901-7bc5-4a9f-8f02-d53e598ea923\",\"f99dbfe5-a922-4be8-b93c-8f96aa5d6e50\",\"4517cd4a-7c6f-43cd-a3f2-2f380b17b3d8\",\"33225c35-a060-4dee-8921-d69228828f06\",\"18bad4e6-12b9-47e6-b2a1-544504fbb63b\",\"8585a2a3-8c93-4e42-ac94-814fd711a4b4\"]},\"title\":\"Bokeh Application\",\"version\":\"0.11.1\"}};\n",
       "            var render_items = [{\"docid\":\"c2a2ff2e-34e0-4124-b05e-a2ecca9d6d2c\",\"elementid\":\"4b59d634-a1b5-4d72-a7a9-a9e0f5cc7cb3\",\"modelid\":\"8585a2a3-8c93-4e42-ac94-814fd711a4b4\",\"notebook_comms_target\":\"112d3293-d765-4f82-a957-924cea4dc4d5\"}];\n",
       "            \n",
       "            Bokeh.embed.embed_items(docs_json, render_items);\n",
       "        });\n",
       "      },\n",
       "      function(Bokeh) {\n",
       "      }\n",
       "    ];\n",
       "  \n",
       "    function run_inline_js() {\n",
       "      for (var i = 0; i < inline_js.length; i++) {\n",
       "        inline_js[i](window.Bokeh);\n",
       "      }\n",
       "    }\n",
       "  \n",
       "    if (window._bokeh_is_loading === 0) {\n",
       "      console.log(\"Bokeh: BokehJS loaded, going straight to plotting\");\n",
       "      run_inline_js();\n",
       "    } else {\n",
       "      load_libs(js_urls, function() {\n",
       "        console.log(\"Bokeh: BokehJS plotting callback run at\", now());\n",
       "        run_inline_js();\n",
       "      });\n",
       "    }\n",
       "  }(this));\n",
       "</script>"
      ]
     },
     "metadata": {},
     "output_type": "display_data"
    },
    {
     "data": {
      "text/html": [
       "<p><code>&lt;Bokeh Notebook handle for <strong>In[95]</strong>&gt;</code></p>"
      ],
      "text/plain": [
       "<bokeh.io._CommsHandle at 0x868ae10>"
      ]
     },
     "execution_count": 95,
     "metadata": {},
     "output_type": "execute_result"
    }
   ],
   "source": [
    "scatter = Scatter(allele_effects, x='difference', y='locus', title='Allele Effect Differences',\n",
    "                 xlabel='Difference', ylabel='Locus')\n",
    "show(scatter)"
   ]
  },
  {
   "cell_type": "code",
   "execution_count": null,
   "metadata": {
    "collapsed": true
   },
   "outputs": [],
   "source": []
  }
 ],
 "metadata": {
  "kernelspec": {
   "display_name": "Python 3",
   "language": "python",
   "name": "python3"
  },
  "language_info": {
   "codemirror_mode": {
    "name": "ipython",
    "version": 3
   },
   "file_extension": ".py",
   "mimetype": "text/x-python",
   "name": "python",
   "nbconvert_exporter": "python",
   "pygments_lexer": "ipython3",
   "version": "3.4.4"
  }
 },
 "nbformat": 4,
 "nbformat_minor": 0
}
