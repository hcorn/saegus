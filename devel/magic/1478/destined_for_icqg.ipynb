{
 "cells": [
  {
   "cell_type": "code",
   "execution_count": 1,
   "metadata": {
    "collapsed": true
   },
   "outputs": [],
   "source": [
    "import simuOpt\n",
    "simuOpt.setOptions(alleleType='short', optimized=True, numThreads=4, quiet=True)\n",
    "import simuPOP as sim\n",
    "import pandas as pd\n",
    "from saegus import breed, operators, simulate, analyze, parse, parameters\n",
    "import shelve\n",
    "import numpy as np\n",
    "import random\n",
    "import collections as col\n",
    "np.set_printoptions(suppress=True, precision=3)"
   ]
  },
  {
   "cell_type": "code",
   "execution_count": 61,
   "metadata": {
    "collapsed": true
   },
   "outputs": [],
   "source": [
    "run_id='icqg'\n",
    "sample_sizes=[250, 500, 750, 1000]\n",
    "number_of_qtl = 10\n",
    "number_of_replicates = 50\n",
    "founders = [[2, 26], [3, 25], [4, 24], [5, 23]]\n",
    "os_per_pair = 500\n",
    "recombination_rates = [0.01]*1478"
   ]
  },
  {
   "cell_type": "code",
   "execution_count": 8,
   "metadata": {
    "collapsed": true
   },
   "outputs": [],
   "source": [
    "founder_pair_count = len(founders)"
   ]
  },
  {
   "cell_type": "code",
   "execution_count": 16,
   "metadata": {
    "collapsed": true
   },
   "outputs": [],
   "source": [
    "if founder_pair_count == 1:\n",
    "    pass\n",
    "elif founder_pair_count % 2 == 0:\n",
    "    founder_pair_count /= 2\n",
    "elif founder_pair_count % 2 > 0:\n",
    "    founder_pair_count + 1\n",
    "    founders.append(founders[0])\n",
    "else:\n",
    "    pass"
   ]
  },
  {
   "cell_type": "code",
   "execution_count": 13,
   "metadata": {
    "collapsed": false
   },
   "outputs": [
    {
     "data": {
      "text/plain": [
       "2.0"
      ]
     },
     "execution_count": 13,
     "metadata": {},
     "output_type": "execute_result"
    }
   ],
   "source": [
    "len(founders) / 2"
   ]
  },
  {
   "cell_type": "code",
   "execution_count": 58,
   "metadata": {
    "collapsed": false
   },
   "outputs": [
    {
     "data": {
      "text/plain": [
       "[[2, 26], [3, 25], [4, 24], [5, 23]]"
      ]
     },
     "execution_count": 58,
     "metadata": {},
     "output_type": "execute_result"
    }
   ],
   "source": [
    "founders"
   ]
  },
  {
   "cell_type": "code",
   "execution_count": 63,
   "metadata": {
    "collapsed": true
   },
   "outputs": [],
   "source": [
    "founder_generator = (founder_pair for founder_pair in founders)"
   ]
  },
  {
   "cell_type": "code",
   "execution_count": 60,
   "metadata": {
    "collapsed": false
   },
   "outputs": [
    {
     "name": "stdout",
     "output_type": "stream",
     "text": [
      "[2, 26]\n",
      "[3, 25]\n",
      "[4, 24]\n",
      "[5, 23]\n"
     ]
    },
    {
     "ename": "StopIteration",
     "evalue": "",
     "output_type": "error",
     "traceback": [
      "\u001b[1;31m---------------------------------------------------------------------------\u001b[0m",
      "\u001b[1;31mStopIteration\u001b[0m                             Traceback (most recent call last)",
      "\u001b[1;32m<ipython-input-60-e7237649e527>\u001b[0m in \u001b[0;36m<module>\u001b[1;34m()\u001b[0m\n\u001b[0;32m      1\u001b[0m \u001b[1;32mwhile\u001b[0m \u001b[0mfounder_generator\u001b[0m\u001b[1;33m:\u001b[0m\u001b[1;33m\u001b[0m\u001b[0m\n\u001b[1;32m----> 2\u001b[1;33m     \u001b[0mprint\u001b[0m\u001b[1;33m(\u001b[0m\u001b[0mnext\u001b[0m\u001b[1;33m(\u001b[0m\u001b[0mfounder_generator\u001b[0m\u001b[1;33m)\u001b[0m\u001b[1;33m)\u001b[0m\u001b[1;33m\u001b[0m\u001b[0m\n\u001b[0m",
      "\u001b[1;31mStopIteration\u001b[0m: "
     ]
    }
   ],
   "source": [
    "while founder_generator:\n",
    "    print(next(founder_generator))"
   ]
  },
  {
   "cell_type": "code",
   "execution_count": 64,
   "metadata": {
    "collapsed": false
   },
   "outputs": [
    {
     "name": "stdout",
     "output_type": "stream",
     "text": [
      "[2, 26]\n",
      "[3, 25]\n",
      "[4, 24]\n",
      "[5, 23]\n"
     ]
    }
   ],
   "source": [
    "for pair in founder_generator:\n",
    "    print(pair)"
   ]
  },
  {
   "cell_type": "code",
   "execution_count": 4,
   "metadata": {
    "collapsed": false
   },
   "outputs": [
    {
     "name": "stdout",
     "output_type": "stream",
     "text": [
      "Initiating random mating for 3 generations.\n"
     ]
    }
   ],
   "source": [
    "prefounders = sim.loadPopulation('prefounders1478.pop')\n",
    "multi_prefounders = sim.Simulator(prefounders, number_of_replicates, stealPops=False)\n",
    "magic = breed.MAGIC(multi_prefounders, founders, recombination_rates)\n",
    "sim.tagID(prefounders, reset=27)\n",
    "magic.generate_f_one(founders, os_per_pair)\n",
    "mrc = breed.MultiRandomCross(multi_prefounders, 4, os_per_pair)\n",
    "mother_choices, father_choices = mrc.determine_random_cross()\n",
    "multi_snd_ord_chooser = breed.MultiSecondOrderPairIDChooser(mother_choices, father_choices)\n",
    "multi_prefounders.evolve(\n",
    "    matingScheme=sim.HomoMating(\n",
    "        sim.PyParentsChooser(multi_snd_ord_chooser.snd_ord_id_pairs),\n",
    "        sim.OffspringGenerator(ops=[\n",
    "            sim.IdTagger(),\n",
    "            sim.PedigreeTagger(),\n",
    "            sim.Recombinator(rates=0.01)\n",
    "        ],\n",
    "            numOffspring=1),\n",
    "        subPopSize=[2000],\n",
    "    ),\n",
    "    gen=1,\n",
    ")\n",
    "final_mrc = breed.MultiRandomCross(multi_prefounders, 2, 1000)\n",
    "final_mothers, final_fathers = final_mrc.determine_random_cross()\n",
    "final_multi_snd_ord_chooser = breed.MultiSecondOrderPairIDChooser(final_mothers, final_fathers)\n",
    "multi_prefounders.evolve(\n",
    "    matingScheme=sim.HomoMating(\n",
    "        sim.PyParentsChooser(final_multi_snd_ord_chooser.snd_ord_id_pairs),\n",
    "        sim.OffspringGenerator(ops=[\n",
    "            sim.IdTagger(),\n",
    "            sim.PedigreeTagger(),\n",
    "            sim.Recombinator(rates=0.01)\n",
    "        ],\n",
    "            numOffspring=1),\n",
    "        subPopSize=[2000],\n",
    "    ),\n",
    "    gen=1,\n",
    ")\n",
    "mater = breed.MAGIC(multi_prefounders, founders, [0.01]*1478)\n",
    "mater.random_mating(3, 2000)"
   ]
  },
  {
   "cell_type": "code",
   "execution_count": 65,
   "metadata": {
    "collapsed": false
   },
   "outputs": [],
   "source": [
    "icqg = analyze.Study('icqg')"
   ]
  },
  {
   "cell_type": "code",
   "execution_count": 66,
   "metadata": {
    "collapsed": true
   },
   "outputs": [],
   "source": [
    "sample_library = icqg.collect_samples(multi_prefounders, sample_sizes)"
   ]
  },
  {
   "cell_type": "code",
   "execution_count": 67,
   "metadata": {
    "collapsed": true
   },
   "outputs": [
    {
     "data": {
      "text/plain": [
       "{0: [<simuPOP.Population>,\n",
       "  <simuPOP.Population>,\n",
       "  <simuPOP.Population>,\n",
       "  <simuPOP.Population>],\n",
       " 1: [<simuPOP.Population>,\n",
       "  <simuPOP.Population>,\n",
       "  <simuPOP.Population>,\n",
       "  <simuPOP.Population>],\n",
       " 2: [<simuPOP.Population>,\n",
       "  <simuPOP.Population>,\n",
       "  <simuPOP.Population>,\n",
       "  <simuPOP.Population>],\n",
       " 3: [<simuPOP.Population>,\n",
       "  <simuPOP.Population>,\n",
       "  <simuPOP.Population>,\n",
       "  <simuPOP.Population>],\n",
       " 4: [<simuPOP.Population>,\n",
       "  <simuPOP.Population>,\n",
       "  <simuPOP.Population>,\n",
       "  <simuPOP.Population>],\n",
       " 5: [<simuPOP.Population>,\n",
       "  <simuPOP.Population>,\n",
       "  <simuPOP.Population>,\n",
       "  <simuPOP.Population>],\n",
       " 6: [<simuPOP.Population>,\n",
       "  <simuPOP.Population>,\n",
       "  <simuPOP.Population>,\n",
       "  <simuPOP.Population>],\n",
       " 7: [<simuPOP.Population>,\n",
       "  <simuPOP.Population>,\n",
       "  <simuPOP.Population>,\n",
       "  <simuPOP.Population>],\n",
       " 8: [<simuPOP.Population>,\n",
       "  <simuPOP.Population>,\n",
       "  <simuPOP.Population>,\n",
       "  <simuPOP.Population>],\n",
       " 9: [<simuPOP.Population>,\n",
       "  <simuPOP.Population>,\n",
       "  <simuPOP.Population>,\n",
       "  <simuPOP.Population>],\n",
       " 10: [<simuPOP.Population>,\n",
       "  <simuPOP.Population>,\n",
       "  <simuPOP.Population>,\n",
       "  <simuPOP.Population>],\n",
       " 11: [<simuPOP.Population>,\n",
       "  <simuPOP.Population>,\n",
       "  <simuPOP.Population>,\n",
       "  <simuPOP.Population>],\n",
       " 12: [<simuPOP.Population>,\n",
       "  <simuPOP.Population>,\n",
       "  <simuPOP.Population>,\n",
       "  <simuPOP.Population>],\n",
       " 13: [<simuPOP.Population>,\n",
       "  <simuPOP.Population>,\n",
       "  <simuPOP.Population>,\n",
       "  <simuPOP.Population>],\n",
       " 14: [<simuPOP.Population>,\n",
       "  <simuPOP.Population>,\n",
       "  <simuPOP.Population>,\n",
       "  <simuPOP.Population>],\n",
       " 15: [<simuPOP.Population>,\n",
       "  <simuPOP.Population>,\n",
       "  <simuPOP.Population>,\n",
       "  <simuPOP.Population>],\n",
       " 16: [<simuPOP.Population>,\n",
       "  <simuPOP.Population>,\n",
       "  <simuPOP.Population>,\n",
       "  <simuPOP.Population>],\n",
       " 17: [<simuPOP.Population>,\n",
       "  <simuPOP.Population>,\n",
       "  <simuPOP.Population>,\n",
       "  <simuPOP.Population>],\n",
       " 18: [<simuPOP.Population>,\n",
       "  <simuPOP.Population>,\n",
       "  <simuPOP.Population>,\n",
       "  <simuPOP.Population>],\n",
       " 19: [<simuPOP.Population>,\n",
       "  <simuPOP.Population>,\n",
       "  <simuPOP.Population>,\n",
       "  <simuPOP.Population>],\n",
       " 20: [<simuPOP.Population>,\n",
       "  <simuPOP.Population>,\n",
       "  <simuPOP.Population>,\n",
       "  <simuPOP.Population>],\n",
       " 21: [<simuPOP.Population>,\n",
       "  <simuPOP.Population>,\n",
       "  <simuPOP.Population>,\n",
       "  <simuPOP.Population>],\n",
       " 22: [<simuPOP.Population>,\n",
       "  <simuPOP.Population>,\n",
       "  <simuPOP.Population>,\n",
       "  <simuPOP.Population>],\n",
       " 23: [<simuPOP.Population>,\n",
       "  <simuPOP.Population>,\n",
       "  <simuPOP.Population>,\n",
       "  <simuPOP.Population>],\n",
       " 24: [<simuPOP.Population>,\n",
       "  <simuPOP.Population>,\n",
       "  <simuPOP.Population>,\n",
       "  <simuPOP.Population>],\n",
       " 25: [<simuPOP.Population>,\n",
       "  <simuPOP.Population>,\n",
       "  <simuPOP.Population>,\n",
       "  <simuPOP.Population>],\n",
       " 26: [<simuPOP.Population>,\n",
       "  <simuPOP.Population>,\n",
       "  <simuPOP.Population>,\n",
       "  <simuPOP.Population>],\n",
       " 27: [<simuPOP.Population>,\n",
       "  <simuPOP.Population>,\n",
       "  <simuPOP.Population>,\n",
       "  <simuPOP.Population>],\n",
       " 28: [<simuPOP.Population>,\n",
       "  <simuPOP.Population>,\n",
       "  <simuPOP.Population>,\n",
       "  <simuPOP.Population>],\n",
       " 29: [<simuPOP.Population>,\n",
       "  <simuPOP.Population>,\n",
       "  <simuPOP.Population>,\n",
       "  <simuPOP.Population>],\n",
       " 30: [<simuPOP.Population>,\n",
       "  <simuPOP.Population>,\n",
       "  <simuPOP.Population>,\n",
       "  <simuPOP.Population>],\n",
       " 31: [<simuPOP.Population>,\n",
       "  <simuPOP.Population>,\n",
       "  <simuPOP.Population>,\n",
       "  <simuPOP.Population>],\n",
       " 32: [<simuPOP.Population>,\n",
       "  <simuPOP.Population>,\n",
       "  <simuPOP.Population>,\n",
       "  <simuPOP.Population>],\n",
       " 33: [<simuPOP.Population>,\n",
       "  <simuPOP.Population>,\n",
       "  <simuPOP.Population>,\n",
       "  <simuPOP.Population>],\n",
       " 34: [<simuPOP.Population>,\n",
       "  <simuPOP.Population>,\n",
       "  <simuPOP.Population>,\n",
       "  <simuPOP.Population>],\n",
       " 35: [<simuPOP.Population>,\n",
       "  <simuPOP.Population>,\n",
       "  <simuPOP.Population>,\n",
       "  <simuPOP.Population>],\n",
       " 36: [<simuPOP.Population>,\n",
       "  <simuPOP.Population>,\n",
       "  <simuPOP.Population>,\n",
       "  <simuPOP.Population>],\n",
       " 37: [<simuPOP.Population>,\n",
       "  <simuPOP.Population>,\n",
       "  <simuPOP.Population>,\n",
       "  <simuPOP.Population>],\n",
       " 38: [<simuPOP.Population>,\n",
       "  <simuPOP.Population>,\n",
       "  <simuPOP.Population>,\n",
       "  <simuPOP.Population>],\n",
       " 39: [<simuPOP.Population>,\n",
       "  <simuPOP.Population>,\n",
       "  <simuPOP.Population>,\n",
       "  <simuPOP.Population>],\n",
       " 40: [<simuPOP.Population>,\n",
       "  <simuPOP.Population>,\n",
       "  <simuPOP.Population>,\n",
       "  <simuPOP.Population>],\n",
       " 41: [<simuPOP.Population>,\n",
       "  <simuPOP.Population>,\n",
       "  <simuPOP.Population>,\n",
       "  <simuPOP.Population>],\n",
       " 42: [<simuPOP.Population>,\n",
       "  <simuPOP.Population>,\n",
       "  <simuPOP.Population>,\n",
       "  <simuPOP.Population>],\n",
       " 43: [<simuPOP.Population>,\n",
       "  <simuPOP.Population>,\n",
       "  <simuPOP.Population>,\n",
       "  <simuPOP.Population>],\n",
       " 44: [<simuPOP.Population>,\n",
       "  <simuPOP.Population>,\n",
       "  <simuPOP.Population>,\n",
       "  <simuPOP.Population>],\n",
       " 45: [<simuPOP.Population>,\n",
       "  <simuPOP.Population>,\n",
       "  <simuPOP.Population>,\n",
       "  <simuPOP.Population>],\n",
       " 46: [<simuPOP.Population>,\n",
       "  <simuPOP.Population>,\n",
       "  <simuPOP.Population>,\n",
       "  <simuPOP.Population>],\n",
       " 47: [<simuPOP.Population>,\n",
       "  <simuPOP.Population>,\n",
       "  <simuPOP.Population>,\n",
       "  <simuPOP.Population>],\n",
       " 48: [<simuPOP.Population>,\n",
       "  <simuPOP.Population>,\n",
       "  <simuPOP.Population>,\n",
       "  <simuPOP.Population>],\n",
       " 49: [<simuPOP.Population>,\n",
       "  <simuPOP.Population>,\n",
       "  <simuPOP.Population>,\n",
       "  <simuPOP.Population>]}"
      ]
     },
     "execution_count": 67,
     "metadata": {},
     "output_type": "execute_result"
    }
   ],
   "source": [
    "sample_library"
   ]
  },
  {
   "cell_type": "code",
   "execution_count": 68,
   "metadata": {
    "collapsed": true
   },
   "outputs": [],
   "source": [
    "alleles = np.array(pd.read_hdf('parameters\\\\alleles_at_1478_loci.hdf'))"
   ]
  },
  {
   "cell_type": "code",
   "execution_count": 69,
   "metadata": {
    "collapsed": false
   },
   "outputs": [
    {
     "name": "stderr",
     "output_type": "stream",
     "text": [
      "C:\\Anaconda3\\lib\\site-packages\\tables\\path.py:100: NaturalNameWarning: object name is not a valid Python identifier: '0'; it does not match the pattern ``^[a-zA-Z_][a-zA-Z0-9_]*$``; you will not be able to use natural naming to access this object; using ``getattr()`` will still work, though\n",
      "  NaturalNameWarning)\n",
      "C:\\Anaconda3\\lib\\site-packages\\tables\\path.py:100: NaturalNameWarning: object name is not a valid Python identifier: '250'; it does not match the pattern ``^[a-zA-Z_][a-zA-Z0-9_]*$``; you will not be able to use natural naming to access this object; using ``getattr()`` will still work, though\n",
      "  NaturalNameWarning)\n",
      "C:\\Anaconda3\\lib\\site-packages\\tables\\path.py:100: NaturalNameWarning: object name is not a valid Python identifier: '500'; it does not match the pattern ``^[a-zA-Z_][a-zA-Z0-9_]*$``; you will not be able to use natural naming to access this object; using ``getattr()`` will still work, though\n",
      "  NaturalNameWarning)\n",
      "C:\\Anaconda3\\lib\\site-packages\\tables\\path.py:100: NaturalNameWarning: object name is not a valid Python identifier: '750'; it does not match the pattern ``^[a-zA-Z_][a-zA-Z0-9_]*$``; you will not be able to use natural naming to access this object; using ``getattr()`` will still work, though\n",
      "  NaturalNameWarning)\n",
      "C:\\Anaconda3\\lib\\site-packages\\tables\\path.py:100: NaturalNameWarning: object name is not a valid Python identifier: '1000'; it does not match the pattern ``^[a-zA-Z_][a-zA-Z0-9_]*$``; you will not be able to use natural naming to access this object; using ``getattr()`` will still work, though\n",
      "  NaturalNameWarning)\n",
      "C:\\Anaconda3\\lib\\site-packages\\tables\\path.py:100: NaturalNameWarning: object name is not a valid Python identifier: '1'; it does not match the pattern ``^[a-zA-Z_][a-zA-Z0-9_]*$``; you will not be able to use natural naming to access this object; using ``getattr()`` will still work, though\n",
      "  NaturalNameWarning)\n",
      "C:\\Anaconda3\\lib\\site-packages\\tables\\path.py:100: NaturalNameWarning: object name is not a valid Python identifier: '2'; it does not match the pattern ``^[a-zA-Z_][a-zA-Z0-9_]*$``; you will not be able to use natural naming to access this object; using ``getattr()`` will still work, though\n",
      "  NaturalNameWarning)\n",
      "C:\\Anaconda3\\lib\\site-packages\\tables\\path.py:100: NaturalNameWarning: object name is not a valid Python identifier: '3'; it does not match the pattern ``^[a-zA-Z_][a-zA-Z0-9_]*$``; you will not be able to use natural naming to access this object; using ``getattr()`` will still work, though\n",
      "  NaturalNameWarning)\n",
      "C:\\Anaconda3\\lib\\site-packages\\tables\\path.py:100: NaturalNameWarning: object name is not a valid Python identifier: '4'; it does not match the pattern ``^[a-zA-Z_][a-zA-Z0-9_]*$``; you will not be able to use natural naming to access this object; using ``getattr()`` will still work, though\n",
      "  NaturalNameWarning)\n",
      "C:\\Anaconda3\\lib\\site-packages\\tables\\path.py:100: NaturalNameWarning: object name is not a valid Python identifier: '5'; it does not match the pattern ``^[a-zA-Z_][a-zA-Z0-9_]*$``; you will not be able to use natural naming to access this object; using ``getattr()`` will still work, though\n",
      "  NaturalNameWarning)\n",
      "C:\\Anaconda3\\lib\\site-packages\\tables\\path.py:100: NaturalNameWarning: object name is not a valid Python identifier: '6'; it does not match the pattern ``^[a-zA-Z_][a-zA-Z0-9_]*$``; you will not be able to use natural naming to access this object; using ``getattr()`` will still work, though\n",
      "  NaturalNameWarning)\n",
      "C:\\Anaconda3\\lib\\site-packages\\tables\\path.py:100: NaturalNameWarning: object name is not a valid Python identifier: '7'; it does not match the pattern ``^[a-zA-Z_][a-zA-Z0-9_]*$``; you will not be able to use natural naming to access this object; using ``getattr()`` will still work, though\n",
      "  NaturalNameWarning)\n",
      "C:\\Anaconda3\\lib\\site-packages\\tables\\path.py:100: NaturalNameWarning: object name is not a valid Python identifier: '8'; it does not match the pattern ``^[a-zA-Z_][a-zA-Z0-9_]*$``; you will not be able to use natural naming to access this object; using ``getattr()`` will still work, though\n",
      "  NaturalNameWarning)\n",
      "C:\\Anaconda3\\lib\\site-packages\\tables\\path.py:100: NaturalNameWarning: object name is not a valid Python identifier: '9'; it does not match the pattern ``^[a-zA-Z_][a-zA-Z0-9_]*$``; you will not be able to use natural naming to access this object; using ``getattr()`` will still work, though\n",
      "  NaturalNameWarning)\n",
      "C:\\Anaconda3\\lib\\site-packages\\tables\\path.py:100: NaturalNameWarning: object name is not a valid Python identifier: '10'; it does not match the pattern ``^[a-zA-Z_][a-zA-Z0-9_]*$``; you will not be able to use natural naming to access this object; using ``getattr()`` will still work, though\n",
      "  NaturalNameWarning)\n",
      "C:\\Anaconda3\\lib\\site-packages\\tables\\path.py:100: NaturalNameWarning: object name is not a valid Python identifier: '11'; it does not match the pattern ``^[a-zA-Z_][a-zA-Z0-9_]*$``; you will not be able to use natural naming to access this object; using ``getattr()`` will still work, though\n",
      "  NaturalNameWarning)\n",
      "C:\\Anaconda3\\lib\\site-packages\\tables\\path.py:100: NaturalNameWarning: object name is not a valid Python identifier: '12'; it does not match the pattern ``^[a-zA-Z_][a-zA-Z0-9_]*$``; you will not be able to use natural naming to access this object; using ``getattr()`` will still work, though\n",
      "  NaturalNameWarning)\n",
      "C:\\Anaconda3\\lib\\site-packages\\tables\\path.py:100: NaturalNameWarning: object name is not a valid Python identifier: '13'; it does not match the pattern ``^[a-zA-Z_][a-zA-Z0-9_]*$``; you will not be able to use natural naming to access this object; using ``getattr()`` will still work, though\n",
      "  NaturalNameWarning)\n",
      "C:\\Anaconda3\\lib\\site-packages\\tables\\path.py:100: NaturalNameWarning: object name is not a valid Python identifier: '14'; it does not match the pattern ``^[a-zA-Z_][a-zA-Z0-9_]*$``; you will not be able to use natural naming to access this object; using ``getattr()`` will still work, though\n",
      "  NaturalNameWarning)\n",
      "C:\\Anaconda3\\lib\\site-packages\\tables\\path.py:100: NaturalNameWarning: object name is not a valid Python identifier: '15'; it does not match the pattern ``^[a-zA-Z_][a-zA-Z0-9_]*$``; you will not be able to use natural naming to access this object; using ``getattr()`` will still work, though\n",
      "  NaturalNameWarning)\n",
      "C:\\Anaconda3\\lib\\site-packages\\tables\\path.py:100: NaturalNameWarning: object name is not a valid Python identifier: '16'; it does not match the pattern ``^[a-zA-Z_][a-zA-Z0-9_]*$``; you will not be able to use natural naming to access this object; using ``getattr()`` will still work, though\n",
      "  NaturalNameWarning)\n",
      "C:\\Anaconda3\\lib\\site-packages\\tables\\path.py:100: NaturalNameWarning: object name is not a valid Python identifier: '17'; it does not match the pattern ``^[a-zA-Z_][a-zA-Z0-9_]*$``; you will not be able to use natural naming to access this object; using ``getattr()`` will still work, though\n",
      "  NaturalNameWarning)\n",
      "C:\\Anaconda3\\lib\\site-packages\\tables\\path.py:100: NaturalNameWarning: object name is not a valid Python identifier: '18'; it does not match the pattern ``^[a-zA-Z_][a-zA-Z0-9_]*$``; you will not be able to use natural naming to access this object; using ``getattr()`` will still work, though\n",
      "  NaturalNameWarning)\n",
      "C:\\Anaconda3\\lib\\site-packages\\tables\\path.py:100: NaturalNameWarning: object name is not a valid Python identifier: '19'; it does not match the pattern ``^[a-zA-Z_][a-zA-Z0-9_]*$``; you will not be able to use natural naming to access this object; using ``getattr()`` will still work, though\n",
      "  NaturalNameWarning)\n",
      "C:\\Anaconda3\\lib\\site-packages\\tables\\path.py:100: NaturalNameWarning: object name is not a valid Python identifier: '20'; it does not match the pattern ``^[a-zA-Z_][a-zA-Z0-9_]*$``; you will not be able to use natural naming to access this object; using ``getattr()`` will still work, though\n",
      "  NaturalNameWarning)\n",
      "C:\\Anaconda3\\lib\\site-packages\\tables\\path.py:100: NaturalNameWarning: object name is not a valid Python identifier: '21'; it does not match the pattern ``^[a-zA-Z_][a-zA-Z0-9_]*$``; you will not be able to use natural naming to access this object; using ``getattr()`` will still work, though\n",
      "  NaturalNameWarning)\n",
      "C:\\Anaconda3\\lib\\site-packages\\tables\\path.py:100: NaturalNameWarning: object name is not a valid Python identifier: '22'; it does not match the pattern ``^[a-zA-Z_][a-zA-Z0-9_]*$``; you will not be able to use natural naming to access this object; using ``getattr()`` will still work, though\n",
      "  NaturalNameWarning)\n",
      "C:\\Anaconda3\\lib\\site-packages\\tables\\path.py:100: NaturalNameWarning: object name is not a valid Python identifier: '23'; it does not match the pattern ``^[a-zA-Z_][a-zA-Z0-9_]*$``; you will not be able to use natural naming to access this object; using ``getattr()`` will still work, though\n",
      "  NaturalNameWarning)\n",
      "C:\\Anaconda3\\lib\\site-packages\\tables\\path.py:100: NaturalNameWarning: object name is not a valid Python identifier: '24'; it does not match the pattern ``^[a-zA-Z_][a-zA-Z0-9_]*$``; you will not be able to use natural naming to access this object; using ``getattr()`` will still work, though\n",
      "  NaturalNameWarning)\n",
      "C:\\Anaconda3\\lib\\site-packages\\tables\\path.py:100: NaturalNameWarning: object name is not a valid Python identifier: '25'; it does not match the pattern ``^[a-zA-Z_][a-zA-Z0-9_]*$``; you will not be able to use natural naming to access this object; using ``getattr()`` will still work, though\n",
      "  NaturalNameWarning)\n",
      "C:\\Anaconda3\\lib\\site-packages\\tables\\path.py:100: NaturalNameWarning: object name is not a valid Python identifier: '26'; it does not match the pattern ``^[a-zA-Z_][a-zA-Z0-9_]*$``; you will not be able to use natural naming to access this object; using ``getattr()`` will still work, though\n",
      "  NaturalNameWarning)\n",
      "C:\\Anaconda3\\lib\\site-packages\\tables\\path.py:100: NaturalNameWarning: object name is not a valid Python identifier: '27'; it does not match the pattern ``^[a-zA-Z_][a-zA-Z0-9_]*$``; you will not be able to use natural naming to access this object; using ``getattr()`` will still work, though\n",
      "  NaturalNameWarning)\n",
      "C:\\Anaconda3\\lib\\site-packages\\tables\\path.py:100: NaturalNameWarning: object name is not a valid Python identifier: '28'; it does not match the pattern ``^[a-zA-Z_][a-zA-Z0-9_]*$``; you will not be able to use natural naming to access this object; using ``getattr()`` will still work, though\n",
      "  NaturalNameWarning)\n",
      "C:\\Anaconda3\\lib\\site-packages\\tables\\path.py:100: NaturalNameWarning: object name is not a valid Python identifier: '29'; it does not match the pattern ``^[a-zA-Z_][a-zA-Z0-9_]*$``; you will not be able to use natural naming to access this object; using ``getattr()`` will still work, though\n",
      "  NaturalNameWarning)\n",
      "C:\\Anaconda3\\lib\\site-packages\\tables\\path.py:100: NaturalNameWarning: object name is not a valid Python identifier: '30'; it does not match the pattern ``^[a-zA-Z_][a-zA-Z0-9_]*$``; you will not be able to use natural naming to access this object; using ``getattr()`` will still work, though\n",
      "  NaturalNameWarning)\n",
      "C:\\Anaconda3\\lib\\site-packages\\tables\\path.py:100: NaturalNameWarning: object name is not a valid Python identifier: '31'; it does not match the pattern ``^[a-zA-Z_][a-zA-Z0-9_]*$``; you will not be able to use natural naming to access this object; using ``getattr()`` will still work, though\n",
      "  NaturalNameWarning)\n",
      "C:\\Anaconda3\\lib\\site-packages\\tables\\path.py:100: NaturalNameWarning: object name is not a valid Python identifier: '32'; it does not match the pattern ``^[a-zA-Z_][a-zA-Z0-9_]*$``; you will not be able to use natural naming to access this object; using ``getattr()`` will still work, though\n",
      "  NaturalNameWarning)\n",
      "C:\\Anaconda3\\lib\\site-packages\\tables\\path.py:100: NaturalNameWarning: object name is not a valid Python identifier: '33'; it does not match the pattern ``^[a-zA-Z_][a-zA-Z0-9_]*$``; you will not be able to use natural naming to access this object; using ``getattr()`` will still work, though\n",
      "  NaturalNameWarning)\n",
      "C:\\Anaconda3\\lib\\site-packages\\tables\\path.py:100: NaturalNameWarning: object name is not a valid Python identifier: '34'; it does not match the pattern ``^[a-zA-Z_][a-zA-Z0-9_]*$``; you will not be able to use natural naming to access this object; using ``getattr()`` will still work, though\n",
      "  NaturalNameWarning)\n",
      "C:\\Anaconda3\\lib\\site-packages\\tables\\path.py:100: NaturalNameWarning: object name is not a valid Python identifier: '35'; it does not match the pattern ``^[a-zA-Z_][a-zA-Z0-9_]*$``; you will not be able to use natural naming to access this object; using ``getattr()`` will still work, though\n",
      "  NaturalNameWarning)\n",
      "C:\\Anaconda3\\lib\\site-packages\\tables\\path.py:100: NaturalNameWarning: object name is not a valid Python identifier: '36'; it does not match the pattern ``^[a-zA-Z_][a-zA-Z0-9_]*$``; you will not be able to use natural naming to access this object; using ``getattr()`` will still work, though\n",
      "  NaturalNameWarning)\n",
      "C:\\Anaconda3\\lib\\site-packages\\tables\\path.py:100: NaturalNameWarning: object name is not a valid Python identifier: '37'; it does not match the pattern ``^[a-zA-Z_][a-zA-Z0-9_]*$``; you will not be able to use natural naming to access this object; using ``getattr()`` will still work, though\n",
      "  NaturalNameWarning)\n",
      "C:\\Anaconda3\\lib\\site-packages\\tables\\path.py:100: NaturalNameWarning: object name is not a valid Python identifier: '38'; it does not match the pattern ``^[a-zA-Z_][a-zA-Z0-9_]*$``; you will not be able to use natural naming to access this object; using ``getattr()`` will still work, though\n",
      "  NaturalNameWarning)\n",
      "C:\\Anaconda3\\lib\\site-packages\\tables\\path.py:100: NaturalNameWarning: object name is not a valid Python identifier: '39'; it does not match the pattern ``^[a-zA-Z_][a-zA-Z0-9_]*$``; you will not be able to use natural naming to access this object; using ``getattr()`` will still work, though\n",
      "  NaturalNameWarning)\n",
      "C:\\Anaconda3\\lib\\site-packages\\tables\\path.py:100: NaturalNameWarning: object name is not a valid Python identifier: '40'; it does not match the pattern ``^[a-zA-Z_][a-zA-Z0-9_]*$``; you will not be able to use natural naming to access this object; using ``getattr()`` will still work, though\n",
      "  NaturalNameWarning)\n",
      "C:\\Anaconda3\\lib\\site-packages\\tables\\path.py:100: NaturalNameWarning: object name is not a valid Python identifier: '41'; it does not match the pattern ``^[a-zA-Z_][a-zA-Z0-9_]*$``; you will not be able to use natural naming to access this object; using ``getattr()`` will still work, though\n",
      "  NaturalNameWarning)\n",
      "C:\\Anaconda3\\lib\\site-packages\\tables\\path.py:100: NaturalNameWarning: object name is not a valid Python identifier: '42'; it does not match the pattern ``^[a-zA-Z_][a-zA-Z0-9_]*$``; you will not be able to use natural naming to access this object; using ``getattr()`` will still work, though\n",
      "  NaturalNameWarning)\n",
      "C:\\Anaconda3\\lib\\site-packages\\tables\\path.py:100: NaturalNameWarning: object name is not a valid Python identifier: '43'; it does not match the pattern ``^[a-zA-Z_][a-zA-Z0-9_]*$``; you will not be able to use natural naming to access this object; using ``getattr()`` will still work, though\n",
      "  NaturalNameWarning)\n",
      "C:\\Anaconda3\\lib\\site-packages\\tables\\path.py:100: NaturalNameWarning: object name is not a valid Python identifier: '44'; it does not match the pattern ``^[a-zA-Z_][a-zA-Z0-9_]*$``; you will not be able to use natural naming to access this object; using ``getattr()`` will still work, though\n",
      "  NaturalNameWarning)\n",
      "C:\\Anaconda3\\lib\\site-packages\\tables\\path.py:100: NaturalNameWarning: object name is not a valid Python identifier: '45'; it does not match the pattern ``^[a-zA-Z_][a-zA-Z0-9_]*$``; you will not be able to use natural naming to access this object; using ``getattr()`` will still work, though\n",
      "  NaturalNameWarning)\n",
      "C:\\Anaconda3\\lib\\site-packages\\tables\\path.py:100: NaturalNameWarning: object name is not a valid Python identifier: '46'; it does not match the pattern ``^[a-zA-Z_][a-zA-Z0-9_]*$``; you will not be able to use natural naming to access this object; using ``getattr()`` will still work, though\n",
      "  NaturalNameWarning)\n",
      "C:\\Anaconda3\\lib\\site-packages\\tables\\path.py:100: NaturalNameWarning: object name is not a valid Python identifier: '47'; it does not match the pattern ``^[a-zA-Z_][a-zA-Z0-9_]*$``; you will not be able to use natural naming to access this object; using ``getattr()`` will still work, though\n",
      "  NaturalNameWarning)\n",
      "C:\\Anaconda3\\lib\\site-packages\\tables\\path.py:100: NaturalNameWarning: object name is not a valid Python identifier: '48'; it does not match the pattern ``^[a-zA-Z_][a-zA-Z0-9_]*$``; you will not be able to use natural naming to access this object; using ``getattr()`` will still work, though\n",
      "  NaturalNameWarning)\n",
      "C:\\Anaconda3\\lib\\site-packages\\tables\\path.py:100: NaturalNameWarning: object name is not a valid Python identifier: '49'; it does not match the pattern ``^[a-zA-Z_][a-zA-Z0-9_]*$``; you will not be able to use natural naming to access this object; using ``getattr()`` will still work, though\n",
      "  NaturalNameWarning)\n"
     ]
    }
   ],
   "source": [
    "analyze.multi_sample_allele_frq_storage(sample_library, alleles, run_id)"
   ]
  },
  {
   "cell_type": "code",
   "execution_count": 71,
   "metadata": {
    "collapsed": false
   },
   "outputs": [],
   "source": [
    "sets_of_segregating_loci = icqg.seg_loci_among_samples(sample_library)"
   ]
  },
  {
   "cell_type": "code",
   "execution_count": 72,
   "metadata": {
    "collapsed": false
   },
   "outputs": [
    {
     "data": {
      "text/plain": [
       "dict_values([200])"
      ]
     },
     "execution_count": 72,
     "metadata": {},
     "output_type": "execute_result"
    }
   ],
   "source": [
    "sets_of_segregating_loci.values()"
   ]
  },
  {
   "cell_type": "code",
   "execution_count": 73,
   "metadata": {
    "collapsed": true
   },
   "outputs": [],
   "source": [
    "concordant_segregating_loci = list(sets_of_segregating_loci.keys())[0]"
   ]
  },
  {
   "cell_type": "code",
   "execution_count": 76,
   "metadata": {
    "collapsed": true
   },
   "outputs": [],
   "source": [
    "qtl = tuple(sorted(random.sample(concordant_segregating_loci, number_of_qtl)))"
   ]
  },
  {
   "cell_type": "code",
   "execution_count": 77,
   "metadata": {
    "collapsed": false
   },
   "outputs": [
    {
     "data": {
      "text/plain": [
       "(97, 107, 301, 356, 633, 637, 1097, 1169, 1311, 1333)"
      ]
     },
     "execution_count": 77,
     "metadata": {},
     "output_type": "execute_result"
    }
   ],
   "source": [
    "qtl"
   ]
  },
  {
   "cell_type": "code",
   "execution_count": 83,
   "metadata": {
    "collapsed": true
   },
   "outputs": [],
   "source": [
    "add_trait = parameters.Trait()"
   ]
  },
  {
   "cell_type": "code",
   "execution_count": 84,
   "metadata": {
    "collapsed": false
   },
   "outputs": [],
   "source": [
    "exponential_allele_effects = add_trait.assign_allele_effects(alleles, qtl, np.random.exponential, 1, multiplicity=1)"
   ]
  },
  {
   "cell_type": "code",
   "execution_count": 81,
   "metadata": {
    "collapsed": false
   },
   "outputs": [
    {
     "data": {
      "text/plain": [
       "<module 'saegus.parameters' from 'C:\\\\Anaconda3\\\\lib\\\\site-packages\\\\saegus\\\\parameters.py'>"
      ]
     },
     "execution_count": 81,
     "metadata": {},
     "output_type": "execute_result"
    }
   ],
   "source": [
    "import importlib as imp\n",
    "imp.reload(parameters)"
   ]
  },
  {
   "cell_type": "code",
   "execution_count": 86,
   "metadata": {
    "collapsed": false
   },
   "outputs": [],
   "source": [
    "geometric_allele_effects = add_trait.assign_geometric_series(exponential_allele_effects, 0.90, 10)"
   ]
  },
  {
   "cell_type": "code",
   "execution_count": 87,
   "metadata": {
    "collapsed": false
   },
   "outputs": [
    {
     "data": {
      "text/plain": [
       "{97: {1: 0.9, 2: 0},\n",
       " 107: {1: 0.81, 3: 0},\n",
       " 301: {1: 0.7290000000000001, 3: 0},\n",
       " 356: {0: 0.6561, 3: 0},\n",
       " 633: {2: 0.5904900000000001, 3: 0},\n",
       " 637: {1: 0.531441, 3: 0},\n",
       " 1097: {1: 0.4782969000000001, 2: 0},\n",
       " 1169: {0: 0.4304672100000001, 3: 0},\n",
       " 1311: {1: 0.3874204890000001, 3: 0},\n",
       " 1333: {4: 0.3486784401000001, 5: 0}}"
      ]
     },
     "execution_count": 87,
     "metadata": {},
     "output_type": "execute_result"
    }
   ],
   "source": [
    "geometric_allele_effects"
   ]
  },
  {
   "cell_type": "code",
   "execution_count": 88,
   "metadata": {
    "collapsed": false
   },
   "outputs": [
    {
     "data": {
      "text/plain": [
       "{97: {1: 1.051432857038865, 2: 0.057826115322452784},\n",
       " 107: {1: 2.6121643009302526, 3: 0.6785810010503582},\n",
       " 301: {1: 0.16514923263694337, 3: 0.40333256089372005},\n",
       " 356: {0: 0.8057544731217682, 3: 2.668606006563908},\n",
       " 633: {2: 0.637690579008768, 3: 1.396970469747448},\n",
       " 637: {1: 1.037086746271281, 3: 0.35723126659288434},\n",
       " 1097: {1: 1.971178392119941, 2: 2.855233431514642},\n",
       " 1169: {0: 1.5942361468831883, 3: 0.607884448672498},\n",
       " 1311: {1: 2.1739729921340385, 3: 0.5465183224694323},\n",
       " 1333: {4: 0.468064705529327, 5: 1.0394027313631007}}"
      ]
     },
     "execution_count": 88,
     "metadata": {},
     "output_type": "execute_result"
    }
   ],
   "source": [
    "exponential_allele_effects"
   ]
  },
  {
   "cell_type": "code",
   "execution_count": 90,
   "metadata": {
    "collapsed": true
   },
   "outputs": [
    {
     "data": {
      "text/plain": [
       "(1,\n",
       " 2,\n",
       " 3,\n",
       " 4,\n",
       " 5,\n",
       " 6,\n",
       " 8,\n",
       " 10,\n",
       " 12,\n",
       " 13,\n",
       " 14,\n",
       " 15,\n",
       " 16,\n",
       " 20,\n",
       " 21,\n",
       " 23,\n",
       " 24,\n",
       " 25,\n",
       " 26,\n",
       " 27,\n",
       " 29,\n",
       " 30,\n",
       " 31,\n",
       " 32,\n",
       " 34,\n",
       " 36,\n",
       " 37,\n",
       " 38,\n",
       " 39,\n",
       " 40,\n",
       " 42,\n",
       " 45,\n",
       " 46,\n",
       " 50,\n",
       " 52,\n",
       " 53,\n",
       " 54,\n",
       " 56,\n",
       " 59,\n",
       " 61,\n",
       " 62,\n",
       " 63,\n",
       " 66,\n",
       " 67,\n",
       " 68,\n",
       " 70,\n",
       " 71,\n",
       " 74,\n",
       " 76,\n",
       " 77,\n",
       " 79,\n",
       " 80,\n",
       " 82,\n",
       " 86,\n",
       " 88,\n",
       " 90,\n",
       " 91,\n",
       " 95,\n",
       " 96,\n",
       " 97,\n",
       " 98,\n",
       " 99,\n",
       " 100,\n",
       " 101,\n",
       " 103,\n",
       " 104,\n",
       " 106,\n",
       " 107,\n",
       " 108,\n",
       " 109,\n",
       " 114,\n",
       " 115,\n",
       " 116,\n",
       " 119,\n",
       " 120,\n",
       " 121,\n",
       " 122,\n",
       " 123,\n",
       " 124,\n",
       " 126,\n",
       " 127,\n",
       " 128,\n",
       " 129,\n",
       " 130,\n",
       " 132,\n",
       " 134,\n",
       " 136,\n",
       " 138,\n",
       " 139,\n",
       " 140,\n",
       " 141,\n",
       " 144,\n",
       " 145,\n",
       " 146,\n",
       " 147,\n",
       " 149,\n",
       " 152,\n",
       " 153,\n",
       " 155,\n",
       " 158,\n",
       " 159,\n",
       " 163,\n",
       " 165,\n",
       " 168,\n",
       " 170,\n",
       " 171,\n",
       " 172,\n",
       " 173,\n",
       " 174,\n",
       " 175,\n",
       " 177,\n",
       " 181,\n",
       " 182,\n",
       " 185,\n",
       " 186,\n",
       " 190,\n",
       " 191,\n",
       " 192,\n",
       " 193,\n",
       " 196,\n",
       " 198,\n",
       " 202,\n",
       " 208,\n",
       " 209,\n",
       " 211,\n",
       " 212,\n",
       " 214,\n",
       " 215,\n",
       " 218,\n",
       " 219,\n",
       " 220,\n",
       " 221,\n",
       " 223,\n",
       " 224,\n",
       " 225,\n",
       " 227,\n",
       " 229,\n",
       " 232,\n",
       " 235,\n",
       " 240,\n",
       " 241,\n",
       " 246,\n",
       " 247,\n",
       " 249,\n",
       " 250,\n",
       " 252,\n",
       " 253,\n",
       " 254,\n",
       " 255,\n",
       " 256,\n",
       " 257,\n",
       " 258,\n",
       " 259,\n",
       " 261,\n",
       " 262,\n",
       " 263,\n",
       " 264,\n",
       " 265,\n",
       " 266,\n",
       " 268,\n",
       " 270,\n",
       " 272,\n",
       " 274,\n",
       " 275,\n",
       " 277,\n",
       " 278,\n",
       " 279,\n",
       " 280,\n",
       " 282,\n",
       " 283,\n",
       " 284,\n",
       " 285,\n",
       " 288,\n",
       " 291,\n",
       " 292,\n",
       " 293,\n",
       " 294,\n",
       " 297,\n",
       " 299,\n",
       " 300,\n",
       " 301,\n",
       " 302,\n",
       " 303,\n",
       " 304,\n",
       " 305,\n",
       " 307,\n",
       " 308,\n",
       " 310,\n",
       " 311,\n",
       " 312,\n",
       " 313,\n",
       " 314,\n",
       " 315,\n",
       " 316,\n",
       " 317,\n",
       " 318,\n",
       " 319,\n",
       " 321,\n",
       " 327,\n",
       " 328,\n",
       " 329,\n",
       " 331,\n",
       " 333,\n",
       " 334,\n",
       " 335,\n",
       " 336,\n",
       " 338,\n",
       " 339,\n",
       " 341,\n",
       " 342,\n",
       " 344,\n",
       " 345,\n",
       " 346,\n",
       " 348,\n",
       " 349,\n",
       " 350,\n",
       " 352,\n",
       " 353,\n",
       " 354,\n",
       " 355,\n",
       " 356,\n",
       " 359,\n",
       " 361,\n",
       " 362,\n",
       " 363,\n",
       " 366,\n",
       " 367,\n",
       " 375,\n",
       " 378,\n",
       " 379,\n",
       " 380,\n",
       " 381,\n",
       " 382,\n",
       " 383,\n",
       " 384,\n",
       " 387,\n",
       " 388,\n",
       " 389,\n",
       " 390,\n",
       " 392,\n",
       " 393,\n",
       " 394,\n",
       " 395,\n",
       " 398,\n",
       " 399,\n",
       " 400,\n",
       " 401,\n",
       " 402,\n",
       " 404,\n",
       " 408,\n",
       " 410,\n",
       " 411,\n",
       " 412,\n",
       " 413,\n",
       " 418,\n",
       " 420,\n",
       " 421,\n",
       " 423,\n",
       " 426,\n",
       " 428,\n",
       " 429,\n",
       " 430,\n",
       " 431,\n",
       " 432,\n",
       " 433,\n",
       " 434,\n",
       " 435,\n",
       " 436,\n",
       " 437,\n",
       " 438,\n",
       " 440,\n",
       " 441,\n",
       " 442,\n",
       " 443,\n",
       " 445,\n",
       " 447,\n",
       " 448,\n",
       " 449,\n",
       " 450,\n",
       " 451,\n",
       " 452,\n",
       " 453,\n",
       " 454,\n",
       " 456,\n",
       " 460,\n",
       " 461,\n",
       " 462,\n",
       " 464,\n",
       " 465,\n",
       " 468,\n",
       " 469,\n",
       " 471,\n",
       " 472,\n",
       " 474,\n",
       " 475,\n",
       " 477,\n",
       " 478,\n",
       " 479,\n",
       " 480,\n",
       " 481,\n",
       " 483,\n",
       " 484,\n",
       " 485,\n",
       " 487,\n",
       " 488,\n",
       " 489,\n",
       " 491,\n",
       " 492,\n",
       " 494,\n",
       " 495,\n",
       " 497,\n",
       " 498,\n",
       " 499,\n",
       " 500,\n",
       " 501,\n",
       " 502,\n",
       " 503,\n",
       " 504,\n",
       " 505,\n",
       " 506,\n",
       " 507,\n",
       " 508,\n",
       " 510,\n",
       " 512,\n",
       " 513,\n",
       " 515,\n",
       " 517,\n",
       " 518,\n",
       " 520,\n",
       " 521,\n",
       " 524,\n",
       " 525,\n",
       " 526,\n",
       " 527,\n",
       " 529,\n",
       " 530,\n",
       " 532,\n",
       " 536,\n",
       " 539,\n",
       " 540,\n",
       " 543,\n",
       " 544,\n",
       " 547,\n",
       " 548,\n",
       " 549,\n",
       " 550,\n",
       " 551,\n",
       " 552,\n",
       " 553,\n",
       " 556,\n",
       " 557,\n",
       " 558,\n",
       " 559,\n",
       " 560,\n",
       " 564,\n",
       " 565,\n",
       " 567,\n",
       " 568,\n",
       " 570,\n",
       " 571,\n",
       " 573,\n",
       " 576,\n",
       " 577,\n",
       " 578,\n",
       " 579,\n",
       " 582,\n",
       " 583,\n",
       " 584,\n",
       " 585,\n",
       " 586,\n",
       " 587,\n",
       " 589,\n",
       " 591,\n",
       " 592,\n",
       " 593,\n",
       " 595,\n",
       " 597,\n",
       " 598,\n",
       " 599,\n",
       " 600,\n",
       " 602,\n",
       " 604,\n",
       " 605,\n",
       " 606,\n",
       " 608,\n",
       " 609,\n",
       " 610,\n",
       " 611,\n",
       " 614,\n",
       " 615,\n",
       " 616,\n",
       " 617,\n",
       " 619,\n",
       " 621,\n",
       " 624,\n",
       " 625,\n",
       " 627,\n",
       " 628,\n",
       " 629,\n",
       " 630,\n",
       " 632,\n",
       " 633,\n",
       " 637,\n",
       " 638,\n",
       " 640,\n",
       " 641,\n",
       " 643,\n",
       " 644,\n",
       " 645,\n",
       " 649,\n",
       " 650,\n",
       " 652,\n",
       " 653,\n",
       " 654,\n",
       " 656,\n",
       " 657,\n",
       " 658,\n",
       " 660,\n",
       " 661,\n",
       " 662,\n",
       " 663,\n",
       " 664,\n",
       " 665,\n",
       " 667,\n",
       " 668,\n",
       " 669,\n",
       " 670,\n",
       " 671,\n",
       " 673,\n",
       " 674,\n",
       " 676,\n",
       " 677,\n",
       " 679,\n",
       " 680,\n",
       " 681,\n",
       " 682,\n",
       " 683,\n",
       " 685,\n",
       " 687,\n",
       " 689,\n",
       " 691,\n",
       " 693,\n",
       " 694,\n",
       " 696,\n",
       " 697,\n",
       " 699,\n",
       " 702,\n",
       " 703,\n",
       " 705,\n",
       " 708,\n",
       " 709,\n",
       " 710,\n",
       " 711,\n",
       " 713,\n",
       " 714,\n",
       " 715,\n",
       " 716,\n",
       " 718,\n",
       " 719,\n",
       " 720,\n",
       " 722,\n",
       " 724,\n",
       " 725,\n",
       " 727,\n",
       " 729,\n",
       " 730,\n",
       " 731,\n",
       " 733,\n",
       " 735,\n",
       " 736,\n",
       " 737,\n",
       " 738,\n",
       " 739,\n",
       " 740,\n",
       " 742,\n",
       " 743,\n",
       " 745,\n",
       " 746,\n",
       " 747,\n",
       " 749,\n",
       " 751,\n",
       " 752,\n",
       " 753,\n",
       " 757,\n",
       " 758,\n",
       " 759,\n",
       " 760,\n",
       " 764,\n",
       " 767,\n",
       " 769,\n",
       " 770,\n",
       " 772,\n",
       " 776,\n",
       " 777,\n",
       " 778,\n",
       " 779,\n",
       " 780,\n",
       " 782,\n",
       " 783,\n",
       " 784,\n",
       " 785,\n",
       " 786,\n",
       " 789,\n",
       " 791,\n",
       " 792,\n",
       " 794,\n",
       " 795,\n",
       " 796,\n",
       " 798,\n",
       " 799,\n",
       " 802,\n",
       " 803,\n",
       " 804,\n",
       " 805,\n",
       " 806,\n",
       " 808,\n",
       " 809,\n",
       " 811,\n",
       " 812,\n",
       " 814,\n",
       " 815,\n",
       " 817,\n",
       " 818,\n",
       " 819,\n",
       " 820,\n",
       " 822,\n",
       " 824,\n",
       " 826,\n",
       " 827,\n",
       " 830,\n",
       " 831,\n",
       " 832,\n",
       " 833,\n",
       " 834,\n",
       " 836,\n",
       " 840,\n",
       " 841,\n",
       " 842,\n",
       " 844,\n",
       " 845,\n",
       " 849,\n",
       " 851,\n",
       " 852,\n",
       " 853,\n",
       " 859,\n",
       " 861,\n",
       " 862,\n",
       " 863,\n",
       " 867,\n",
       " 868,\n",
       " 869,\n",
       " 870,\n",
       " 872,\n",
       " 873,\n",
       " 878,\n",
       " 879,\n",
       " 881,\n",
       " 882,\n",
       " 883,\n",
       " 884,\n",
       " 886,\n",
       " 888,\n",
       " 890,\n",
       " 892,\n",
       " 894,\n",
       " 895,\n",
       " 897,\n",
       " 898,\n",
       " 899,\n",
       " 900,\n",
       " 901,\n",
       " 902,\n",
       " 904,\n",
       " 906,\n",
       " 907,\n",
       " 908,\n",
       " 909,\n",
       " 910,\n",
       " 914,\n",
       " 917,\n",
       " 918,\n",
       " 919,\n",
       " 921,\n",
       " 923,\n",
       " 927,\n",
       " 928,\n",
       " 929,\n",
       " 930,\n",
       " 931,\n",
       " 932,\n",
       " 934,\n",
       " 935,\n",
       " 937,\n",
       " 938,\n",
       " 939,\n",
       " 940,\n",
       " 941,\n",
       " 943,\n",
       " 947,\n",
       " 949,\n",
       " 950,\n",
       " 951,\n",
       " 952,\n",
       " 955,\n",
       " 956,\n",
       " 957,\n",
       " 958,\n",
       " 960,\n",
       " 961,\n",
       " 963,\n",
       " 964,\n",
       " 965,\n",
       " 967,\n",
       " 970,\n",
       " 972,\n",
       " 973,\n",
       " 974,\n",
       " 975,\n",
       " 976,\n",
       " 978,\n",
       " 981,\n",
       " 982,\n",
       " 983,\n",
       " 985,\n",
       " 987,\n",
       " 988,\n",
       " 991,\n",
       " 992,\n",
       " 993,\n",
       " 994,\n",
       " 995,\n",
       " 997,\n",
       " 998,\n",
       " 999,\n",
       " 1001,\n",
       " 1002,\n",
       " 1003,\n",
       " 1005,\n",
       " 1006,\n",
       " 1007,\n",
       " 1008,\n",
       " 1009,\n",
       " 1010,\n",
       " 1011,\n",
       " 1012,\n",
       " 1013,\n",
       " 1014,\n",
       " 1015,\n",
       " 1016,\n",
       " 1017,\n",
       " 1018,\n",
       " 1020,\n",
       " 1022,\n",
       " 1023,\n",
       " 1024,\n",
       " 1026,\n",
       " 1028,\n",
       " 1030,\n",
       " 1031,\n",
       " 1032,\n",
       " 1033,\n",
       " 1034,\n",
       " 1035,\n",
       " 1036,\n",
       " 1037,\n",
       " 1038,\n",
       " 1039,\n",
       " 1041,\n",
       " 1047,\n",
       " 1048,\n",
       " 1049,\n",
       " 1050,\n",
       " 1053,\n",
       " 1054,\n",
       " 1055,\n",
       " 1056,\n",
       " 1057,\n",
       " 1058,\n",
       " 1060,\n",
       " 1061,\n",
       " 1062,\n",
       " 1063,\n",
       " 1064,\n",
       " 1065,\n",
       " 1066,\n",
       " 1074,\n",
       " 1076,\n",
       " 1077,\n",
       " 1078,\n",
       " 1080,\n",
       " 1081,\n",
       " 1082,\n",
       " 1084,\n",
       " 1085,\n",
       " 1087,\n",
       " 1088,\n",
       " 1089,\n",
       " 1090,\n",
       " 1091,\n",
       " 1093,\n",
       " 1095,\n",
       " 1096,\n",
       " 1097,\n",
       " 1100,\n",
       " 1102,\n",
       " 1103,\n",
       " 1104,\n",
       " 1107,\n",
       " 1108,\n",
       " 1111,\n",
       " 1112,\n",
       " 1114,\n",
       " 1116,\n",
       " 1120,\n",
       " 1122,\n",
       " 1123,\n",
       " 1125,\n",
       " 1128,\n",
       " 1129,\n",
       " 1130,\n",
       " 1132,\n",
       " 1133,\n",
       " 1135,\n",
       " 1136,\n",
       " 1137,\n",
       " 1138,\n",
       " 1141,\n",
       " 1142,\n",
       " 1145,\n",
       " 1147,\n",
       " 1148,\n",
       " 1149,\n",
       " 1150,\n",
       " 1152,\n",
       " 1153,\n",
       " 1154,\n",
       " 1155,\n",
       " 1156,\n",
       " 1159,\n",
       " 1160,\n",
       " 1161,\n",
       " 1162,\n",
       " 1163,\n",
       " 1164,\n",
       " 1165,\n",
       " 1166,\n",
       " 1167,\n",
       " 1168,\n",
       " 1169,\n",
       " 1174,\n",
       " 1177,\n",
       " 1178,\n",
       " 1182,\n",
       " 1183,\n",
       " 1188,\n",
       " 1189,\n",
       " 1190,\n",
       " 1193,\n",
       " 1194,\n",
       " 1195,\n",
       " 1196,\n",
       " 1197,\n",
       " 1198,\n",
       " 1199,\n",
       " 1200,\n",
       " 1201,\n",
       " 1202,\n",
       " 1204,\n",
       " 1206,\n",
       " 1207,\n",
       " 1210,\n",
       " 1212,\n",
       " 1213,\n",
       " 1214,\n",
       " 1215,\n",
       " 1216,\n",
       " 1217,\n",
       " 1218,\n",
       " 1220,\n",
       " 1221,\n",
       " 1222,\n",
       " 1227,\n",
       " 1228,\n",
       " 1229,\n",
       " 1230,\n",
       " 1232,\n",
       " 1233,\n",
       " 1234,\n",
       " 1235,\n",
       " 1236,\n",
       " 1239,\n",
       " 1241,\n",
       " 1242,\n",
       " 1243,\n",
       " 1245,\n",
       " 1247,\n",
       " 1248,\n",
       " 1249,\n",
       " 1250,\n",
       " 1253,\n",
       " 1254,\n",
       " 1255,\n",
       " 1256,\n",
       " 1257,\n",
       " 1258,\n",
       " 1259,\n",
       " 1261,\n",
       " 1262,\n",
       " 1263,\n",
       " 1264,\n",
       " 1266,\n",
       " 1268,\n",
       " 1269,\n",
       " 1270,\n",
       " 1272,\n",
       " 1274,\n",
       " 1277,\n",
       " 1278,\n",
       " 1280,\n",
       " 1283,\n",
       " 1284,\n",
       " 1285,\n",
       " 1287,\n",
       " 1290,\n",
       " 1291,\n",
       " 1293,\n",
       " 1294,\n",
       " 1295,\n",
       " 1296,\n",
       " 1297,\n",
       " 1299,\n",
       " 1300,\n",
       " 1302,\n",
       " 1303,\n",
       " 1304,\n",
       " 1305,\n",
       " 1306,\n",
       " 1307,\n",
       " 1310,\n",
       " 1311,\n",
       " 1312,\n",
       " 1313,\n",
       " 1314,\n",
       " 1316,\n",
       " 1317,\n",
       " 1320,\n",
       " 1322,\n",
       " 1323,\n",
       " 1324,\n",
       " 1326,\n",
       " 1327,\n",
       " 1328,\n",
       " 1330,\n",
       " 1332,\n",
       " 1333,\n",
       " 1334,\n",
       " 1335,\n",
       " 1336,\n",
       " 1337,\n",
       " 1339,\n",
       " 1341,\n",
       " 1342,\n",
       " 1344,\n",
       " 1345,\n",
       " 1347,\n",
       " 1348,\n",
       " 1349,\n",
       " 1350,\n",
       " 1351,\n",
       " 1352,\n",
       " 1353,\n",
       " 1354,\n",
       " 1357,\n",
       " 1358,\n",
       " 1361,\n",
       " 1363,\n",
       " 1366,\n",
       " 1367,\n",
       " 1370,\n",
       " 1371,\n",
       " 1372,\n",
       " 1377,\n",
       " 1378,\n",
       " 1379,\n",
       " 1382,\n",
       " 1386,\n",
       " 1388,\n",
       " 1389,\n",
       " 1392,\n",
       " 1393,\n",
       " 1396,\n",
       " 1398,\n",
       " 1402,\n",
       " 1404,\n",
       " 1405,\n",
       " 1406,\n",
       " 1407,\n",
       " 1408,\n",
       " 1409,\n",
       " 1411,\n",
       " 1413,\n",
       " 1417,\n",
       " 1418,\n",
       " 1422,\n",
       " 1423,\n",
       " 1424,\n",
       " 1425,\n",
       " 1426,\n",
       " 1427,\n",
       " 1428,\n",
       " 1430,\n",
       " 1431,\n",
       " 1432,\n",
       " 1433,\n",
       " 1434,\n",
       " 1438,\n",
       " 1439,\n",
       " 1440,\n",
       " 1442,\n",
       " 1444,\n",
       " 1445,\n",
       " 1446,\n",
       " 1447,\n",
       " 1448,\n",
       " 1449,\n",
       " 1450,\n",
       " 1454,\n",
       " 1455,\n",
       " 1456,\n",
       " 1457,\n",
       " 1458,\n",
       " 1460,\n",
       " 1461,\n",
       " 1462,\n",
       " 1463,\n",
       " 1465,\n",
       " 1468,\n",
       " 1470,\n",
       " 1472,\n",
       " 1473,\n",
       " 1474,\n",
       " 1475,\n",
       " 1476)"
      ]
     },
     "execution_count": 90,
     "metadata": {},
     "output_type": "execute_result"
    }
   ],
   "source": [
    "concordant_segregating_loci"
   ]
  },
  {
   "cell_type": "code",
   "execution_count": 91,
   "metadata": {
    "collapsed": true
   },
   "outputs": [],
   "source": [
    "seg_loc_storage = shelve.open('segregating_loci_storage')\n",
    "seg_loc_storage[run_id] = concordant_segregating_loci\n",
    "seg_loc_storage.close()"
   ]
  },
  {
   "cell_type": "code",
   "execution_count": 92,
   "metadata": {
    "collapsed": false
   },
   "outputs": [],
   "source": [
    "droppable_loci = [droppable for droppable in range(1478) if droppable not in concordant_segregating_loci]"
   ]
  },
  {
   "cell_type": "code",
   "execution_count": 93,
   "metadata": {
    "collapsed": true
   },
   "outputs": [
    {
     "data": {
      "text/plain": [
       "[0,\n",
       " 7,\n",
       " 9,\n",
       " 11,\n",
       " 17,\n",
       " 18,\n",
       " 19,\n",
       " 22,\n",
       " 28,\n",
       " 33,\n",
       " 35,\n",
       " 41,\n",
       " 43,\n",
       " 44,\n",
       " 47,\n",
       " 48,\n",
       " 49,\n",
       " 51,\n",
       " 55,\n",
       " 57,\n",
       " 58,\n",
       " 60,\n",
       " 64,\n",
       " 65,\n",
       " 69,\n",
       " 72,\n",
       " 73,\n",
       " 75,\n",
       " 78,\n",
       " 81,\n",
       " 83,\n",
       " 84,\n",
       " 85,\n",
       " 87,\n",
       " 89,\n",
       " 92,\n",
       " 93,\n",
       " 94,\n",
       " 102,\n",
       " 105,\n",
       " 110,\n",
       " 111,\n",
       " 112,\n",
       " 113,\n",
       " 117,\n",
       " 118,\n",
       " 125,\n",
       " 131,\n",
       " 133,\n",
       " 135,\n",
       " 137,\n",
       " 142,\n",
       " 143,\n",
       " 148,\n",
       " 150,\n",
       " 151,\n",
       " 154,\n",
       " 156,\n",
       " 157,\n",
       " 160,\n",
       " 161,\n",
       " 162,\n",
       " 164,\n",
       " 166,\n",
       " 167,\n",
       " 169,\n",
       " 176,\n",
       " 178,\n",
       " 179,\n",
       " 180,\n",
       " 183,\n",
       " 184,\n",
       " 187,\n",
       " 188,\n",
       " 189,\n",
       " 194,\n",
       " 195,\n",
       " 197,\n",
       " 199,\n",
       " 200,\n",
       " 201,\n",
       " 203,\n",
       " 204,\n",
       " 205,\n",
       " 206,\n",
       " 207,\n",
       " 210,\n",
       " 213,\n",
       " 216,\n",
       " 217,\n",
       " 222,\n",
       " 226,\n",
       " 228,\n",
       " 230,\n",
       " 231,\n",
       " 233,\n",
       " 234,\n",
       " 236,\n",
       " 237,\n",
       " 238,\n",
       " 239,\n",
       " 242,\n",
       " 243,\n",
       " 244,\n",
       " 245,\n",
       " 248,\n",
       " 251,\n",
       " 260,\n",
       " 267,\n",
       " 269,\n",
       " 271,\n",
       " 273,\n",
       " 276,\n",
       " 281,\n",
       " 286,\n",
       " 287,\n",
       " 289,\n",
       " 290,\n",
       " 295,\n",
       " 296,\n",
       " 298,\n",
       " 306,\n",
       " 309,\n",
       " 320,\n",
       " 322,\n",
       " 323,\n",
       " 324,\n",
       " 325,\n",
       " 326,\n",
       " 330,\n",
       " 332,\n",
       " 337,\n",
       " 340,\n",
       " 343,\n",
       " 347,\n",
       " 351,\n",
       " 357,\n",
       " 358,\n",
       " 360,\n",
       " 364,\n",
       " 365,\n",
       " 368,\n",
       " 369,\n",
       " 370,\n",
       " 371,\n",
       " 372,\n",
       " 373,\n",
       " 374,\n",
       " 376,\n",
       " 377,\n",
       " 385,\n",
       " 386,\n",
       " 391,\n",
       " 396,\n",
       " 397,\n",
       " 403,\n",
       " 405,\n",
       " 406,\n",
       " 407,\n",
       " 409,\n",
       " 414,\n",
       " 415,\n",
       " 416,\n",
       " 417,\n",
       " 419,\n",
       " 422,\n",
       " 424,\n",
       " 425,\n",
       " 427,\n",
       " 439,\n",
       " 444,\n",
       " 446,\n",
       " 455,\n",
       " 457,\n",
       " 458,\n",
       " 459,\n",
       " 463,\n",
       " 466,\n",
       " 467,\n",
       " 470,\n",
       " 473,\n",
       " 476,\n",
       " 482,\n",
       " 486,\n",
       " 490,\n",
       " 493,\n",
       " 496,\n",
       " 509,\n",
       " 511,\n",
       " 514,\n",
       " 516,\n",
       " 519,\n",
       " 522,\n",
       " 523,\n",
       " 528,\n",
       " 531,\n",
       " 533,\n",
       " 534,\n",
       " 535,\n",
       " 537,\n",
       " 538,\n",
       " 541,\n",
       " 542,\n",
       " 545,\n",
       " 546,\n",
       " 554,\n",
       " 555,\n",
       " 561,\n",
       " 562,\n",
       " 563,\n",
       " 566,\n",
       " 569,\n",
       " 572,\n",
       " 574,\n",
       " 575,\n",
       " 580,\n",
       " 581,\n",
       " 588,\n",
       " 590,\n",
       " 594,\n",
       " 596,\n",
       " 601,\n",
       " 603,\n",
       " 607,\n",
       " 612,\n",
       " 613,\n",
       " 618,\n",
       " 620,\n",
       " 622,\n",
       " 623,\n",
       " 626,\n",
       " 631,\n",
       " 634,\n",
       " 635,\n",
       " 636,\n",
       " 639,\n",
       " 642,\n",
       " 646,\n",
       " 647,\n",
       " 648,\n",
       " 651,\n",
       " 655,\n",
       " 659,\n",
       " 666,\n",
       " 672,\n",
       " 675,\n",
       " 678,\n",
       " 684,\n",
       " 686,\n",
       " 688,\n",
       " 690,\n",
       " 692,\n",
       " 695,\n",
       " 698,\n",
       " 700,\n",
       " 701,\n",
       " 704,\n",
       " 706,\n",
       " 707,\n",
       " 712,\n",
       " 717,\n",
       " 721,\n",
       " 723,\n",
       " 726,\n",
       " 728,\n",
       " 732,\n",
       " 734,\n",
       " 741,\n",
       " 744,\n",
       " 748,\n",
       " 750,\n",
       " 754,\n",
       " 755,\n",
       " 756,\n",
       " 761,\n",
       " 762,\n",
       " 763,\n",
       " 765,\n",
       " 766,\n",
       " 768,\n",
       " 771,\n",
       " 773,\n",
       " 774,\n",
       " 775,\n",
       " 781,\n",
       " 787,\n",
       " 788,\n",
       " 790,\n",
       " 793,\n",
       " 797,\n",
       " 800,\n",
       " 801,\n",
       " 807,\n",
       " 810,\n",
       " 813,\n",
       " 816,\n",
       " 821,\n",
       " 823,\n",
       " 825,\n",
       " 828,\n",
       " 829,\n",
       " 835,\n",
       " 837,\n",
       " 838,\n",
       " 839,\n",
       " 843,\n",
       " 846,\n",
       " 847,\n",
       " 848,\n",
       " 850,\n",
       " 854,\n",
       " 855,\n",
       " 856,\n",
       " 857,\n",
       " 858,\n",
       " 860,\n",
       " 864,\n",
       " 865,\n",
       " 866,\n",
       " 871,\n",
       " 874,\n",
       " 875,\n",
       " 876,\n",
       " 877,\n",
       " 880,\n",
       " 885,\n",
       " 887,\n",
       " 889,\n",
       " 891,\n",
       " 893,\n",
       " 896,\n",
       " 903,\n",
       " 905,\n",
       " 911,\n",
       " 912,\n",
       " 913,\n",
       " 915,\n",
       " 916,\n",
       " 920,\n",
       " 922,\n",
       " 924,\n",
       " 925,\n",
       " 926,\n",
       " 933,\n",
       " 936,\n",
       " 942,\n",
       " 944,\n",
       " 945,\n",
       " 946,\n",
       " 948,\n",
       " 953,\n",
       " 954,\n",
       " 959,\n",
       " 962,\n",
       " 966,\n",
       " 968,\n",
       " 969,\n",
       " 971,\n",
       " 977,\n",
       " 979,\n",
       " 980,\n",
       " 984,\n",
       " 986,\n",
       " 989,\n",
       " 990,\n",
       " 996,\n",
       " 1000,\n",
       " 1004,\n",
       " 1019,\n",
       " 1021,\n",
       " 1025,\n",
       " 1027,\n",
       " 1029,\n",
       " 1040,\n",
       " 1042,\n",
       " 1043,\n",
       " 1044,\n",
       " 1045,\n",
       " 1046,\n",
       " 1051,\n",
       " 1052,\n",
       " 1059,\n",
       " 1067,\n",
       " 1068,\n",
       " 1069,\n",
       " 1070,\n",
       " 1071,\n",
       " 1072,\n",
       " 1073,\n",
       " 1075,\n",
       " 1079,\n",
       " 1083,\n",
       " 1086,\n",
       " 1092,\n",
       " 1094,\n",
       " 1098,\n",
       " 1099,\n",
       " 1101,\n",
       " 1105,\n",
       " 1106,\n",
       " 1109,\n",
       " 1110,\n",
       " 1113,\n",
       " 1115,\n",
       " 1117,\n",
       " 1118,\n",
       " 1119,\n",
       " 1121,\n",
       " 1124,\n",
       " 1126,\n",
       " 1127,\n",
       " 1131,\n",
       " 1134,\n",
       " 1139,\n",
       " 1140,\n",
       " 1143,\n",
       " 1144,\n",
       " 1146,\n",
       " 1151,\n",
       " 1157,\n",
       " 1158,\n",
       " 1170,\n",
       " 1171,\n",
       " 1172,\n",
       " 1173,\n",
       " 1175,\n",
       " 1176,\n",
       " 1179,\n",
       " 1180,\n",
       " 1181,\n",
       " 1184,\n",
       " 1185,\n",
       " 1186,\n",
       " 1187,\n",
       " 1191,\n",
       " 1192,\n",
       " 1203,\n",
       " 1205,\n",
       " 1208,\n",
       " 1209,\n",
       " 1211,\n",
       " 1219,\n",
       " 1223,\n",
       " 1224,\n",
       " 1225,\n",
       " 1226,\n",
       " 1231,\n",
       " 1237,\n",
       " 1238,\n",
       " 1240,\n",
       " 1244,\n",
       " 1246,\n",
       " 1251,\n",
       " 1252,\n",
       " 1260,\n",
       " 1265,\n",
       " 1267,\n",
       " 1271,\n",
       " 1273,\n",
       " 1275,\n",
       " 1276,\n",
       " 1279,\n",
       " 1281,\n",
       " 1282,\n",
       " 1286,\n",
       " 1288,\n",
       " 1289,\n",
       " 1292,\n",
       " 1298,\n",
       " 1301,\n",
       " 1308,\n",
       " 1309,\n",
       " 1315,\n",
       " 1318,\n",
       " 1319,\n",
       " 1321,\n",
       " 1325,\n",
       " 1329,\n",
       " 1331,\n",
       " 1338,\n",
       " 1340,\n",
       " 1343,\n",
       " 1346,\n",
       " 1355,\n",
       " 1356,\n",
       " 1359,\n",
       " 1360,\n",
       " 1362,\n",
       " 1364,\n",
       " 1365,\n",
       " 1368,\n",
       " 1369,\n",
       " 1373,\n",
       " 1374,\n",
       " 1375,\n",
       " 1376,\n",
       " 1380,\n",
       " 1381,\n",
       " 1383,\n",
       " 1384,\n",
       " 1385,\n",
       " 1387,\n",
       " 1390,\n",
       " 1391,\n",
       " 1394,\n",
       " 1395,\n",
       " 1397,\n",
       " 1399,\n",
       " 1400,\n",
       " 1401,\n",
       " 1403,\n",
       " 1410,\n",
       " 1412,\n",
       " 1414,\n",
       " 1415,\n",
       " 1416,\n",
       " 1419,\n",
       " 1420,\n",
       " 1421,\n",
       " 1429,\n",
       " 1435,\n",
       " 1436,\n",
       " 1437,\n",
       " 1441,\n",
       " 1443,\n",
       " 1451,\n",
       " 1452,\n",
       " 1453,\n",
       " 1459,\n",
       " 1464,\n",
       " 1466,\n",
       " 1467,\n",
       " 1469,\n",
       " 1471,\n",
       " 1477]"
      ]
     },
     "execution_count": 93,
     "metadata": {},
     "output_type": "execute_result"
    }
   ],
   "source": [
    "droppable_loci"
   ]
  },
  {
   "cell_type": "code",
   "execution_count": 101,
   "metadata": {
    "collapsed": false
   },
   "outputs": [
    {
     "data": {
      "text/plain": [
       "<module 'saegus.analyze' from 'C:\\\\Anaconda3\\\\lib\\\\site-packages\\\\saegus\\\\analyze.py'>"
      ]
     },
     "execution_count": 101,
     "metadata": {},
     "output_type": "execute_result"
    }
   ],
   "source": [
    "imp.reload(analyze)"
   ]
  },
  {
   "cell_type": "code",
   "execution_count": 103,
   "metadata": {
    "collapsed": false
   },
   "outputs": [
    {
     "name": "stderr",
     "output_type": "stream",
     "text": [
      "C:\\Anaconda3\\lib\\site-packages\\tables\\path.py:100: NaturalNameWarning: object name is not a valid Python identifier: '0'; it does not match the pattern ``^[a-zA-Z_][a-zA-Z0-9_]*$``; you will not be able to use natural naming to access this object; using ``getattr()`` will still work, though\n",
      "  NaturalNameWarning)\n",
      "C:\\Anaconda3\\lib\\site-packages\\tables\\path.py:100: NaturalNameWarning: object name is not a valid Python identifier: '250'; it does not match the pattern ``^[a-zA-Z_][a-zA-Z0-9_]*$``; you will not be able to use natural naming to access this object; using ``getattr()`` will still work, though\n",
      "  NaturalNameWarning)\n",
      "C:\\Anaconda3\\lib\\site-packages\\tables\\path.py:100: NaturalNameWarning: object name is not a valid Python identifier: '500'; it does not match the pattern ``^[a-zA-Z_][a-zA-Z0-9_]*$``; you will not be able to use natural naming to access this object; using ``getattr()`` will still work, though\n",
      "  NaturalNameWarning)\n",
      "C:\\Anaconda3\\lib\\site-packages\\tables\\path.py:100: NaturalNameWarning: object name is not a valid Python identifier: '750'; it does not match the pattern ``^[a-zA-Z_][a-zA-Z0-9_]*$``; you will not be able to use natural naming to access this object; using ``getattr()`` will still work, though\n",
      "  NaturalNameWarning)\n",
      "C:\\Anaconda3\\lib\\site-packages\\tables\\path.py:100: NaturalNameWarning: object name is not a valid Python identifier: '1000'; it does not match the pattern ``^[a-zA-Z_][a-zA-Z0-9_]*$``; you will not be able to use natural naming to access this object; using ``getattr()`` will still work, though\n",
      "  NaturalNameWarning)\n",
      "C:\\Anaconda3\\lib\\site-packages\\tables\\path.py:100: NaturalNameWarning: object name is not a valid Python identifier: '1'; it does not match the pattern ``^[a-zA-Z_][a-zA-Z0-9_]*$``; you will not be able to use natural naming to access this object; using ``getattr()`` will still work, though\n",
      "  NaturalNameWarning)\n",
      "C:\\Anaconda3\\lib\\site-packages\\tables\\path.py:100: NaturalNameWarning: object name is not a valid Python identifier: '2'; it does not match the pattern ``^[a-zA-Z_][a-zA-Z0-9_]*$``; you will not be able to use natural naming to access this object; using ``getattr()`` will still work, though\n",
      "  NaturalNameWarning)\n",
      "C:\\Anaconda3\\lib\\site-packages\\tables\\path.py:100: NaturalNameWarning: object name is not a valid Python identifier: '3'; it does not match the pattern ``^[a-zA-Z_][a-zA-Z0-9_]*$``; you will not be able to use natural naming to access this object; using ``getattr()`` will still work, though\n",
      "  NaturalNameWarning)\n",
      "C:\\Anaconda3\\lib\\site-packages\\tables\\path.py:100: NaturalNameWarning: object name is not a valid Python identifier: '4'; it does not match the pattern ``^[a-zA-Z_][a-zA-Z0-9_]*$``; you will not be able to use natural naming to access this object; using ``getattr()`` will still work, though\n",
      "  NaturalNameWarning)\n",
      "C:\\Anaconda3\\lib\\site-packages\\tables\\path.py:100: NaturalNameWarning: object name is not a valid Python identifier: '5'; it does not match the pattern ``^[a-zA-Z_][a-zA-Z0-9_]*$``; you will not be able to use natural naming to access this object; using ``getattr()`` will still work, though\n",
      "  NaturalNameWarning)\n",
      "C:\\Anaconda3\\lib\\site-packages\\tables\\path.py:100: NaturalNameWarning: object name is not a valid Python identifier: '6'; it does not match the pattern ``^[a-zA-Z_][a-zA-Z0-9_]*$``; you will not be able to use natural naming to access this object; using ``getattr()`` will still work, though\n",
      "  NaturalNameWarning)\n",
      "C:\\Anaconda3\\lib\\site-packages\\tables\\path.py:100: NaturalNameWarning: object name is not a valid Python identifier: '7'; it does not match the pattern ``^[a-zA-Z_][a-zA-Z0-9_]*$``; you will not be able to use natural naming to access this object; using ``getattr()`` will still work, though\n",
      "  NaturalNameWarning)\n",
      "C:\\Anaconda3\\lib\\site-packages\\tables\\path.py:100: NaturalNameWarning: object name is not a valid Python identifier: '8'; it does not match the pattern ``^[a-zA-Z_][a-zA-Z0-9_]*$``; you will not be able to use natural naming to access this object; using ``getattr()`` will still work, though\n",
      "  NaturalNameWarning)\n",
      "C:\\Anaconda3\\lib\\site-packages\\tables\\path.py:100: NaturalNameWarning: object name is not a valid Python identifier: '9'; it does not match the pattern ``^[a-zA-Z_][a-zA-Z0-9_]*$``; you will not be able to use natural naming to access this object; using ``getattr()`` will still work, though\n",
      "  NaturalNameWarning)\n",
      "C:\\Anaconda3\\lib\\site-packages\\tables\\path.py:100: NaturalNameWarning: object name is not a valid Python identifier: '10'; it does not match the pattern ``^[a-zA-Z_][a-zA-Z0-9_]*$``; you will not be able to use natural naming to access this object; using ``getattr()`` will still work, though\n",
      "  NaturalNameWarning)\n",
      "C:\\Anaconda3\\lib\\site-packages\\tables\\path.py:100: NaturalNameWarning: object name is not a valid Python identifier: '11'; it does not match the pattern ``^[a-zA-Z_][a-zA-Z0-9_]*$``; you will not be able to use natural naming to access this object; using ``getattr()`` will still work, though\n",
      "  NaturalNameWarning)\n",
      "C:\\Anaconda3\\lib\\site-packages\\tables\\path.py:100: NaturalNameWarning: object name is not a valid Python identifier: '12'; it does not match the pattern ``^[a-zA-Z_][a-zA-Z0-9_]*$``; you will not be able to use natural naming to access this object; using ``getattr()`` will still work, though\n",
      "  NaturalNameWarning)\n",
      "C:\\Anaconda3\\lib\\site-packages\\tables\\path.py:100: NaturalNameWarning: object name is not a valid Python identifier: '13'; it does not match the pattern ``^[a-zA-Z_][a-zA-Z0-9_]*$``; you will not be able to use natural naming to access this object; using ``getattr()`` will still work, though\n",
      "  NaturalNameWarning)\n",
      "C:\\Anaconda3\\lib\\site-packages\\tables\\path.py:100: NaturalNameWarning: object name is not a valid Python identifier: '14'; it does not match the pattern ``^[a-zA-Z_][a-zA-Z0-9_]*$``; you will not be able to use natural naming to access this object; using ``getattr()`` will still work, though\n",
      "  NaturalNameWarning)\n",
      "C:\\Anaconda3\\lib\\site-packages\\tables\\path.py:100: NaturalNameWarning: object name is not a valid Python identifier: '15'; it does not match the pattern ``^[a-zA-Z_][a-zA-Z0-9_]*$``; you will not be able to use natural naming to access this object; using ``getattr()`` will still work, though\n",
      "  NaturalNameWarning)\n",
      "C:\\Anaconda3\\lib\\site-packages\\tables\\path.py:100: NaturalNameWarning: object name is not a valid Python identifier: '16'; it does not match the pattern ``^[a-zA-Z_][a-zA-Z0-9_]*$``; you will not be able to use natural naming to access this object; using ``getattr()`` will still work, though\n",
      "  NaturalNameWarning)\n",
      "C:\\Anaconda3\\lib\\site-packages\\tables\\path.py:100: NaturalNameWarning: object name is not a valid Python identifier: '17'; it does not match the pattern ``^[a-zA-Z_][a-zA-Z0-9_]*$``; you will not be able to use natural naming to access this object; using ``getattr()`` will still work, though\n",
      "  NaturalNameWarning)\n",
      "C:\\Anaconda3\\lib\\site-packages\\tables\\path.py:100: NaturalNameWarning: object name is not a valid Python identifier: '18'; it does not match the pattern ``^[a-zA-Z_][a-zA-Z0-9_]*$``; you will not be able to use natural naming to access this object; using ``getattr()`` will still work, though\n",
      "  NaturalNameWarning)\n",
      "C:\\Anaconda3\\lib\\site-packages\\tables\\path.py:100: NaturalNameWarning: object name is not a valid Python identifier: '19'; it does not match the pattern ``^[a-zA-Z_][a-zA-Z0-9_]*$``; you will not be able to use natural naming to access this object; using ``getattr()`` will still work, though\n",
      "  NaturalNameWarning)\n",
      "C:\\Anaconda3\\lib\\site-packages\\tables\\path.py:100: NaturalNameWarning: object name is not a valid Python identifier: '20'; it does not match the pattern ``^[a-zA-Z_][a-zA-Z0-9_]*$``; you will not be able to use natural naming to access this object; using ``getattr()`` will still work, though\n",
      "  NaturalNameWarning)\n",
      "C:\\Anaconda3\\lib\\site-packages\\tables\\path.py:100: NaturalNameWarning: object name is not a valid Python identifier: '21'; it does not match the pattern ``^[a-zA-Z_][a-zA-Z0-9_]*$``; you will not be able to use natural naming to access this object; using ``getattr()`` will still work, though\n",
      "  NaturalNameWarning)\n",
      "C:\\Anaconda3\\lib\\site-packages\\tables\\path.py:100: NaturalNameWarning: object name is not a valid Python identifier: '22'; it does not match the pattern ``^[a-zA-Z_][a-zA-Z0-9_]*$``; you will not be able to use natural naming to access this object; using ``getattr()`` will still work, though\n",
      "  NaturalNameWarning)\n",
      "C:\\Anaconda3\\lib\\site-packages\\tables\\path.py:100: NaturalNameWarning: object name is not a valid Python identifier: '23'; it does not match the pattern ``^[a-zA-Z_][a-zA-Z0-9_]*$``; you will not be able to use natural naming to access this object; using ``getattr()`` will still work, though\n",
      "  NaturalNameWarning)\n",
      "C:\\Anaconda3\\lib\\site-packages\\tables\\path.py:100: NaturalNameWarning: object name is not a valid Python identifier: '24'; it does not match the pattern ``^[a-zA-Z_][a-zA-Z0-9_]*$``; you will not be able to use natural naming to access this object; using ``getattr()`` will still work, though\n",
      "  NaturalNameWarning)\n",
      "C:\\Anaconda3\\lib\\site-packages\\tables\\path.py:100: NaturalNameWarning: object name is not a valid Python identifier: '25'; it does not match the pattern ``^[a-zA-Z_][a-zA-Z0-9_]*$``; you will not be able to use natural naming to access this object; using ``getattr()`` will still work, though\n",
      "  NaturalNameWarning)\n",
      "C:\\Anaconda3\\lib\\site-packages\\tables\\path.py:100: NaturalNameWarning: object name is not a valid Python identifier: '26'; it does not match the pattern ``^[a-zA-Z_][a-zA-Z0-9_]*$``; you will not be able to use natural naming to access this object; using ``getattr()`` will still work, though\n",
      "  NaturalNameWarning)\n",
      "C:\\Anaconda3\\lib\\site-packages\\tables\\path.py:100: NaturalNameWarning: object name is not a valid Python identifier: '27'; it does not match the pattern ``^[a-zA-Z_][a-zA-Z0-9_]*$``; you will not be able to use natural naming to access this object; using ``getattr()`` will still work, though\n",
      "  NaturalNameWarning)\n",
      "C:\\Anaconda3\\lib\\site-packages\\tables\\path.py:100: NaturalNameWarning: object name is not a valid Python identifier: '28'; it does not match the pattern ``^[a-zA-Z_][a-zA-Z0-9_]*$``; you will not be able to use natural naming to access this object; using ``getattr()`` will still work, though\n",
      "  NaturalNameWarning)\n",
      "C:\\Anaconda3\\lib\\site-packages\\tables\\path.py:100: NaturalNameWarning: object name is not a valid Python identifier: '29'; it does not match the pattern ``^[a-zA-Z_][a-zA-Z0-9_]*$``; you will not be able to use natural naming to access this object; using ``getattr()`` will still work, though\n",
      "  NaturalNameWarning)\n",
      "C:\\Anaconda3\\lib\\site-packages\\tables\\path.py:100: NaturalNameWarning: object name is not a valid Python identifier: '30'; it does not match the pattern ``^[a-zA-Z_][a-zA-Z0-9_]*$``; you will not be able to use natural naming to access this object; using ``getattr()`` will still work, though\n",
      "  NaturalNameWarning)\n",
      "C:\\Anaconda3\\lib\\site-packages\\tables\\path.py:100: NaturalNameWarning: object name is not a valid Python identifier: '31'; it does not match the pattern ``^[a-zA-Z_][a-zA-Z0-9_]*$``; you will not be able to use natural naming to access this object; using ``getattr()`` will still work, though\n",
      "  NaturalNameWarning)\n",
      "C:\\Anaconda3\\lib\\site-packages\\tables\\path.py:100: NaturalNameWarning: object name is not a valid Python identifier: '32'; it does not match the pattern ``^[a-zA-Z_][a-zA-Z0-9_]*$``; you will not be able to use natural naming to access this object; using ``getattr()`` will still work, though\n",
      "  NaturalNameWarning)\n",
      "C:\\Anaconda3\\lib\\site-packages\\tables\\path.py:100: NaturalNameWarning: object name is not a valid Python identifier: '33'; it does not match the pattern ``^[a-zA-Z_][a-zA-Z0-9_]*$``; you will not be able to use natural naming to access this object; using ``getattr()`` will still work, though\n",
      "  NaturalNameWarning)\n",
      "C:\\Anaconda3\\lib\\site-packages\\tables\\path.py:100: NaturalNameWarning: object name is not a valid Python identifier: '34'; it does not match the pattern ``^[a-zA-Z_][a-zA-Z0-9_]*$``; you will not be able to use natural naming to access this object; using ``getattr()`` will still work, though\n",
      "  NaturalNameWarning)\n",
      "C:\\Anaconda3\\lib\\site-packages\\tables\\path.py:100: NaturalNameWarning: object name is not a valid Python identifier: '35'; it does not match the pattern ``^[a-zA-Z_][a-zA-Z0-9_]*$``; you will not be able to use natural naming to access this object; using ``getattr()`` will still work, though\n",
      "  NaturalNameWarning)\n",
      "C:\\Anaconda3\\lib\\site-packages\\tables\\path.py:100: NaturalNameWarning: object name is not a valid Python identifier: '36'; it does not match the pattern ``^[a-zA-Z_][a-zA-Z0-9_]*$``; you will not be able to use natural naming to access this object; using ``getattr()`` will still work, though\n",
      "  NaturalNameWarning)\n",
      "C:\\Anaconda3\\lib\\site-packages\\tables\\path.py:100: NaturalNameWarning: object name is not a valid Python identifier: '37'; it does not match the pattern ``^[a-zA-Z_][a-zA-Z0-9_]*$``; you will not be able to use natural naming to access this object; using ``getattr()`` will still work, though\n",
      "  NaturalNameWarning)\n",
      "C:\\Anaconda3\\lib\\site-packages\\tables\\path.py:100: NaturalNameWarning: object name is not a valid Python identifier: '38'; it does not match the pattern ``^[a-zA-Z_][a-zA-Z0-9_]*$``; you will not be able to use natural naming to access this object; using ``getattr()`` will still work, though\n",
      "  NaturalNameWarning)\n",
      "C:\\Anaconda3\\lib\\site-packages\\tables\\path.py:100: NaturalNameWarning: object name is not a valid Python identifier: '39'; it does not match the pattern ``^[a-zA-Z_][a-zA-Z0-9_]*$``; you will not be able to use natural naming to access this object; using ``getattr()`` will still work, though\n",
      "  NaturalNameWarning)\n",
      "C:\\Anaconda3\\lib\\site-packages\\tables\\path.py:100: NaturalNameWarning: object name is not a valid Python identifier: '40'; it does not match the pattern ``^[a-zA-Z_][a-zA-Z0-9_]*$``; you will not be able to use natural naming to access this object; using ``getattr()`` will still work, though\n",
      "  NaturalNameWarning)\n",
      "C:\\Anaconda3\\lib\\site-packages\\tables\\path.py:100: NaturalNameWarning: object name is not a valid Python identifier: '41'; it does not match the pattern ``^[a-zA-Z_][a-zA-Z0-9_]*$``; you will not be able to use natural naming to access this object; using ``getattr()`` will still work, though\n",
      "  NaturalNameWarning)\n",
      "C:\\Anaconda3\\lib\\site-packages\\tables\\path.py:100: NaturalNameWarning: object name is not a valid Python identifier: '42'; it does not match the pattern ``^[a-zA-Z_][a-zA-Z0-9_]*$``; you will not be able to use natural naming to access this object; using ``getattr()`` will still work, though\n",
      "  NaturalNameWarning)\n",
      "C:\\Anaconda3\\lib\\site-packages\\tables\\path.py:100: NaturalNameWarning: object name is not a valid Python identifier: '43'; it does not match the pattern ``^[a-zA-Z_][a-zA-Z0-9_]*$``; you will not be able to use natural naming to access this object; using ``getattr()`` will still work, though\n",
      "  NaturalNameWarning)\n",
      "C:\\Anaconda3\\lib\\site-packages\\tables\\path.py:100: NaturalNameWarning: object name is not a valid Python identifier: '44'; it does not match the pattern ``^[a-zA-Z_][a-zA-Z0-9_]*$``; you will not be able to use natural naming to access this object; using ``getattr()`` will still work, though\n",
      "  NaturalNameWarning)\n",
      "C:\\Anaconda3\\lib\\site-packages\\tables\\path.py:100: NaturalNameWarning: object name is not a valid Python identifier: '45'; it does not match the pattern ``^[a-zA-Z_][a-zA-Z0-9_]*$``; you will not be able to use natural naming to access this object; using ``getattr()`` will still work, though\n",
      "  NaturalNameWarning)\n",
      "C:\\Anaconda3\\lib\\site-packages\\tables\\path.py:100: NaturalNameWarning: object name is not a valid Python identifier: '46'; it does not match the pattern ``^[a-zA-Z_][a-zA-Z0-9_]*$``; you will not be able to use natural naming to access this object; using ``getattr()`` will still work, though\n",
      "  NaturalNameWarning)\n",
      "C:\\Anaconda3\\lib\\site-packages\\tables\\path.py:100: NaturalNameWarning: object name is not a valid Python identifier: '47'; it does not match the pattern ``^[a-zA-Z_][a-zA-Z0-9_]*$``; you will not be able to use natural naming to access this object; using ``getattr()`` will still work, though\n",
      "  NaturalNameWarning)\n",
      "C:\\Anaconda3\\lib\\site-packages\\tables\\path.py:100: NaturalNameWarning: object name is not a valid Python identifier: '48'; it does not match the pattern ``^[a-zA-Z_][a-zA-Z0-9_]*$``; you will not be able to use natural naming to access this object; using ``getattr()`` will still work, though\n",
      "  NaturalNameWarning)\n",
      "C:\\Anaconda3\\lib\\site-packages\\tables\\path.py:100: NaturalNameWarning: object name is not a valid Python identifier: '49'; it does not match the pattern ``^[a-zA-Z_][a-zA-Z0-9_]*$``; you will not be able to use natural naming to access this object; using ``getattr()`` will still work, though\n",
      "  NaturalNameWarning)\n"
     ]
    }
   ],
   "source": [
    "analyze.store_allele_effect_frequency_tables(sample_library, alleles, \n",
    "                                             qtl,\n",
    "                                             exponential_allele_effects,\n",
    "                                            run_id, 'exponential')"
   ]
  },
  {
   "cell_type": "code",
   "execution_count": null,
   "metadata": {
    "collapsed": true
   },
   "outputs": [],
   "source": [
    "analyze.generate_allele_effects_frequencies()"
   ]
  },
  {
   "cell_type": "code",
   "execution_count": null,
   "metadata": {
    "collapsed": false
   },
   "outputs": [],
   "source": [
    "store_allele_effect_frequency_tables(sample_library, ge, alpha_alleles, beta_alleles, run_id, sub_run_id)"
   ]
  },
  {
   "cell_type": "code",
   "execution_count": null,
   "metadata": {
    "collapsed": false
   },
   "outputs": [],
   "source": [
    "expanded_aef = assign_alpha_beta_allele_frequencies(rep, ge, alpha_alleles, beta_alleles)"
   ]
  },
  {
   "cell_type": "code",
   "execution_count": null,
   "metadata": {
    "collapsed": true
   },
   "outputs": [],
   "source": [
    "multi_sample_allele_effect_and_frq = pd.HDFStore('dragonlance_geometric_allele_effects_and_frequencies.h5')"
   ]
  },
  {
   "cell_type": "code",
   "execution_count": null,
   "metadata": {
    "collapsed": true
   },
   "outputs": [],
   "source": [
    "multi_sample_allele_effect_and_frq.close()"
   ]
  },
  {
   "cell_type": "code",
   "execution_count": null,
   "metadata": {
    "collapsed": true
   },
   "outputs": [],
   "source": [
    "multi_sample_allele_effect_and_frq.open()"
   ]
  },
  {
   "cell_type": "code",
   "execution_count": null,
   "metadata": {
    "collapsed": false
   },
   "outputs": [],
   "source": [
    "multi_sample_allele_effect_and_frq.close()"
   ]
  },
  {
   "cell_type": "code",
   "execution_count": null,
   "metadata": {
    "collapsed": false
   },
   "outputs": [],
   "source": [
    "sub_run_id = 'geometric'"
   ]
  },
  {
   "cell_type": "code",
   "execution_count": null,
   "metadata": {
    "collapsed": false
   },
   "outputs": [],
   "source": [
    "'/'.join([run_id, sub_run_id])"
   ]
  },
  {
   "cell_type": "code",
   "execution_count": null,
   "metadata": {
    "collapsed": true
   },
   "outputs": [],
   "source": [
    "for rep_id, samples in sample_library.items():\n",
    "    for sample in samples:\n",
    "        expanded_allele_effects_and_frequencies = generate_allele_effects_frequencies(sample, ge, alpha_alleles, beta_alleles)\n",
    "        name = '/'+ '/'.join([run_id, sub_run_id, str(rep_id), str(sample.popSize())])\n",
    "        multi_sample_allele_effect_and_frq.put(name, expanded_allele_effects_and_frequencies)\n",
    "        "
   ]
  },
  {
   "cell_type": "code",
   "execution_count": null,
   "metadata": {
    "collapsed": true
   },
   "outputs": [],
   "source": []
  },
  {
   "cell_type": "code",
   "execution_count": null,
   "metadata": {
    "collapsed": true
   },
   "outputs": [],
   "source": []
  },
  {
   "cell_type": "code",
   "execution_count": null,
   "metadata": {
    "collapsed": true
   },
   "outputs": [],
   "source": []
  },
  {
   "cell_type": "code",
   "execution_count": null,
   "metadata": {
    "collapsed": false
   },
   "outputs": [],
   "source": [
    "imp.reload(analyze)"
   ]
  },
  {
   "cell_type": "code",
   "execution_count": null,
   "metadata": {
    "collapsed": false
   },
   "outputs": [],
   "source": [
    "sub_run_id = 'geometric'"
   ]
  },
  {
   "cell_type": "code",
   "execution_count": null,
   "metadata": {
    "collapsed": false
   },
   "outputs": [],
   "source": [
    "su = analyze.generate_super_table(run_id, 1, 500, concordant_segregating_loci, sub_run_id=sub_run_id)"
   ]
  },
  {
   "cell_type": "code",
   "execution_count": null,
   "metadata": {
    "collapsed": false
   },
   "outputs": [],
   "source": [
    "pd.HDFStore('dragonlance_storage.h5')"
   ]
  },
  {
   "cell_type": "code",
   "execution_count": null,
   "metadata": {
    "collapsed": false
   },
   "outputs": [],
   "source": [
    "dir()"
   ]
  },
  {
   "cell_type": "code",
   "execution_count": null,
   "metadata": {
    "collapsed": true
   },
   "outputs": [],
   "source": []
  },
  {
   "cell_type": "code",
   "execution_count": null,
   "metadata": {
    "collapsed": false
   },
   "outputs": [],
   "source": [
    "del example_af"
   ]
  },
  {
   "cell_type": "code",
   "execution_count": null,
   "metadata": {
    "collapsed": false
   },
   "outputs": [],
   "source": [
    "del reloaded_table"
   ]
  },
  {
   "cell_type": "code",
   "execution_count": null,
   "metadata": {
    "collapsed": true
   },
   "outputs": [],
   "source": [
    "geometric_series = []\n",
    "a = 9/10\n",
    "for i in range(1, 11):\n",
    "    geometric_series.append(a**i)"
   ]
  },
  {
   "cell_type": "code",
   "execution_count": null,
   "metadata": {
    "collapsed": true
   },
   "outputs": [],
   "source": []
  },
  {
   "cell_type": "code",
   "execution_count": null,
   "metadata": {
    "collapsed": false
   },
   "outputs": [],
   "source": [
    "(9/10)**1"
   ]
  },
  {
   "cell_type": "code",
   "execution_count": null,
   "metadata": {
    "collapsed": false
   },
   "outputs": [],
   "source": [
    "geometric_series"
   ]
  },
  {
   "cell_type": "code",
   "execution_count": null,
   "metadata": {
    "collapsed": true
   },
   "outputs": [],
   "source": [
    "for locus in alleles:\n",
    "    alpha_allele, beta_allele = alleles[locus]\n",
    "    "
   ]
  },
  {
   "cell_type": "code",
   "execution_count": null,
   "metadata": {
    "collapsed": true
   },
   "outputs": [],
   "source": [
    "alpha_alleles = alleles[:, 0]"
   ]
  },
  {
   "cell_type": "code",
   "execution_count": null,
   "metadata": {
    "collapsed": false
   },
   "outputs": [],
   "source": [
    "beta_alleles = alleles[:, 1]"
   ]
  },
  {
   "cell_type": "code",
   "execution_count": null,
   "metadata": {
    "collapsed": false
   },
   "outputs": [],
   "source": [
    "beta_alleles"
   ]
  },
  {
   "cell_type": "code",
   "execution_count": null,
   "metadata": {
    "collapsed": false
   },
   "outputs": [],
   "source": [
    "geometric_allele_effects"
   ]
  },
  {
   "cell_type": "code",
   "execution_count": null,
   "metadata": {
    "collapsed": true
   },
   "outputs": [],
   "source": []
  },
  {
   "cell_type": "code",
   "execution_count": null,
   "metadata": {
    "collapsed": true
   },
   "outputs": [],
   "source": [
    "def assign_geometric_series_effects(base, power):\n",
    "    geometric_series = [base**i_power for i_power in range(1, power+1)]\n",
    "    return geometric_series"
   ]
  },
  {
   "cell_type": "code",
   "execution_count": null,
   "metadata": {
    "collapsed": false
   },
   "outputs": [],
   "source": [
    "geffects = col.defaultdict(float)"
   ]
  },
  {
   "cell_type": "code",
   "execution_count": null,
   "metadata": {
    "collapsed": false
   },
   "outputs": [],
   "source": [
    "alpha_qt_alleles = [alpha_alleles[locus] for locus in qtl]"
   ]
  },
  {
   "cell_type": "code",
   "execution_count": null,
   "metadata": {
    "collapsed": false
   },
   "outputs": [],
   "source": [
    "alpha_qt_alleles"
   ]
  },
  {
   "cell_type": "code",
   "execution_count": null,
   "metadata": {
    "collapsed": false
   },
   "outputs": [],
   "source": [
    "geffects"
   ]
  },
  {
   "cell_type": "code",
   "execution_count": null,
   "metadata": {
    "collapsed": false
   },
   "outputs": [],
   "source": [
    "exponential_allele_effects"
   ]
  },
  {
   "cell_type": "code",
   "execution_count": null,
   "metadata": {
    "collapsed": true
   },
   "outputs": [],
   "source": [
    "import copy"
   ]
  },
  {
   "cell_type": "code",
   "execution_count": null,
   "metadata": {
    "collapsed": false
   },
   "outputs": [],
   "source": [
    "geometric_ae = copy.deepcopy(exponential_allele_effects)"
   ]
  },
  {
   "cell_type": "code",
   "execution_count": null,
   "metadata": {
    "collapsed": false
   },
   "outputs": [],
   "source": [
    "geometric_ae[2][1] = geometric_series[0]\n",
    "geometric_ae[2][3] = 0"
   ]
  },
  {
   "cell_type": "code",
   "execution_count": null,
   "metadata": {
    "collapsed": true
   },
   "outputs": [],
   "source": []
  },
  {
   "cell_type": "code",
   "execution_count": null,
   "metadata": {
    "collapsed": true
   },
   "outputs": [],
   "source": [
    "geometric_ae = copy.deepcopy(exponential_allele_effects)"
   ]
  },
  {
   "cell_type": "code",
   "execution_count": null,
   "metadata": {
    "collapsed": false
   },
   "outputs": [],
   "source": [
    "geometric_ae"
   ]
  },
  {
   "cell_type": "code",
   "execution_count": null,
   "metadata": {
    "collapsed": false
   },
   "outputs": [],
   "source": [
    "def assign_geometric_series(allele_effects, geometric_series):\n",
    "    geometric_allele_effects = copy.deepcopy(allele_effects)\n",
    "    for locus, i in zip(sorted(allele_effects.keys()), range(len(geometric_series))):\n",
    "        ael = list(allele_effects[locus])\n",
    "        geometric_allele_effects[locus][ael[0]] = geometric_series[i]\n",
    "        geometric_allele_effects[locus][ael[1]] = 0\n",
    "    return geometric_allele_effects"
   ]
  },
  {
   "cell_type": "code",
   "execution_count": null,
   "metadata": {
    "collapsed": false
   },
   "outputs": [],
   "source": [
    "geometric_series"
   ]
  },
  {
   "cell_type": "code",
   "execution_count": null,
   "metadata": {
    "collapsed": false
   },
   "outputs": [],
   "source": [
    "ge = assign_geometric_series(exponential_allele_effects, geometric_series)"
   ]
  },
  {
   "cell_type": "code",
   "execution_count": null,
   "metadata": {
    "collapsed": false
   },
   "outputs": [],
   "source": [
    "ge"
   ]
  },
  {
   "cell_type": "code",
   "execution_count": null,
   "metadata": {
    "collapsed": false
   },
   "outputs": [],
   "source": [
    "ge_table = analyze.generate_allele_effects_table(qtl, alleles, ge, saegus_to_tassel_loci)"
   ]
  },
  {
   "cell_type": "code",
   "execution_count": null,
   "metadata": {
    "collapsed": true
   },
   "outputs": [],
   "source": [
    "columns = ['locus', 'tassel_locus', 'alpha_allele', 'alpha_frequency', 'alpha_effect',\n",
    "          'beta_allele', 'beta_frequency', 'beta_effect', 'difference']"
   ]
  },
  {
   "cell_type": "code",
   "execution_count": null,
   "metadata": {
    "collapsed": false
   },
   "outputs": [],
   "source": [
    "expanded_aetable = pd.DataFrame(np.zeros((1478, 9)), columns=columns)"
   ]
  },
  {
   "cell_type": "code",
   "execution_count": null,
   "metadata": {
    "collapsed": true
   },
   "outputs": [],
   "source": [
    "for locus, ae_map in ge.items():\n",
    "    expanded_aetable.ix[locus, 'alpha_effect']"
   ]
  },
  {
   "cell_type": "code",
   "execution_count": null,
   "metadata": {
    "collapsed": true
   },
   "outputs": [],
   "source": [
    "for i, allele_set in enumerate(alleles):\n",
    "    "
   ]
  },
  {
   "cell_type": "code",
   "execution_count": null,
   "metadata": {
    "collapsed": false
   },
   "outputs": [],
   "source": [
    "expanded_aetable.ix[:, 'alpha_allele'] = alpha_alleles"
   ]
  },
  {
   "cell_type": "code",
   "execution_count": null,
   "metadata": {
    "collapsed": true
   },
   "outputs": [],
   "source": [
    "expanded_aetable.ix[:, 'beta_allele'] = beta_alleles"
   ]
  },
  {
   "cell_type": "code",
   "execution_count": null,
   "metadata": {
    "collapsed": false
   },
   "outputs": [],
   "source": [
    "af.join(expanded_aetable)"
   ]
  },
  {
   "cell_type": "code",
   "execution_count": null,
   "metadata": {
    "collapsed": false
   },
   "outputs": [],
   "source": [
    "np.array(af['major_allele'], dtype=np.int64)"
   ]
  },
  {
   "cell_type": "code",
   "execution_count": null,
   "metadata": {
    "collapsed": false
   },
   "outputs": [],
   "source": [
    "np.where(False, np.equal(np.array(expanded_aetable['alpha_allele']), np.array(af['major_allele'], dtype=np.int64)))"
   ]
  },
  {
   "cell_type": "code",
   "execution_count": null,
   "metadata": {
    "collapsed": false
   },
   "outputs": [],
   "source": [
    "sample_library[0][0].dvars().alleleFreq"
   ]
  },
  {
   "cell_type": "code",
   "execution_count": null,
   "metadata": {
    "collapsed": true
   },
   "outputs": [],
   "source": []
  },
  {
   "cell_type": "code",
   "execution_count": null,
   "metadata": {
    "collapsed": true
   },
   "outputs": [],
   "source": []
  },
  {
   "cell_type": "code",
   "execution_count": null,
   "metadata": {
    "collapsed": false
   },
   "outputs": [],
   "source": [
    "ge"
   ]
  },
  {
   "cell_type": "code",
   "execution_count": null,
   "metadata": {
    "collapsed": true
   },
   "outputs": [],
   "source": [
    "for "
   ]
  },
  {
   "cell_type": "code",
   "execution_count": null,
   "metadata": {
    "collapsed": true
   },
   "outputs": [],
   "source": [
    "1478 - 1429"
   ]
  },
  {
   "cell_type": "code",
   "execution_count": null,
   "metadata": {
    "collapsed": false
   },
   "outputs": [],
   "source": [
    "dict(af)"
   ]
  },
  {
   "cell_type": "code",
   "execution_count": null,
   "metadata": {
    "collapsed": true
   },
   "outputs": [],
   "source": [
    "for locus, alpha_allele in enumerate(alpha_alleles):\n",
    "    af[]"
   ]
  },
  {
   "cell_type": "code",
   "execution_count": null,
   "metadata": {
    "collapsed": true
   },
   "outputs": [],
   "source": [
    "alpha_allele_frequencies = "
   ]
  },
  {
   "cell_type": "code",
   "execution_count": null,
   "metadata": {
    "collapsed": false
   },
   "outputs": [],
   "source": [
    "expanded_aetable"
   ]
  },
  {
   "cell_type": "code",
   "execution_count": null,
   "metadata": {
    "collapsed": false
   },
   "outputs": [],
   "source": [
    "del geometric_allele_effects"
   ]
  },
  {
   "cell_type": "code",
   "execution_count": null,
   "metadata": {
    "collapsed": false
   },
   "outputs": [],
   "source": [
    "for locus, allele_effect_map in geometric_ae.items():\n",
    "    ael = list(allele_effect_map.keys())    \n",
    "    geometric_allele_effects[locus][ael[0]]"
   ]
  },
  {
   "cell_type": "code",
   "execution_count": null,
   "metadata": {
    "collapsed": true
   },
   "outputs": [],
   "source": []
  },
  {
   "cell_type": "code",
   "execution_count": null,
   "metadata": {
    "collapsed": true
   },
   "outputs": [],
   "source": []
  },
  {
   "cell_type": "code",
   "execution_count": null,
   "metadata": {
    "collapsed": false
   },
   "outputs": [],
   "source": [
    "geometric_ae"
   ]
  },
  {
   "cell_type": "code",
   "execution_count": null,
   "metadata": {
    "collapsed": true
   },
   "outputs": [],
   "source": [
    "alle"
   ]
  },
  {
   "cell_type": "code",
   "execution_count": null,
   "metadata": {
    "collapsed": true
   },
   "outputs": [],
   "source": [
    "for locus in qtl:\n",
    "    alpha_allele = alpha_alleles[locus]\n",
    "    geffects[locus]"
   ]
  },
  {
   "cell_type": "code",
   "execution_count": null,
   "metadata": {
    "collapsed": false
   },
   "outputs": [],
   "source": [
    "assign_geometric_series_effects(9/10, 10)"
   ]
  },
  {
   "cell_type": "code",
   "execution_count": null,
   "metadata": {
    "collapsed": true
   },
   "outputs": [],
   "source": []
  },
  {
   "cell_type": "code",
   "execution_count": null,
   "metadata": {
    "collapsed": true
   },
   "outputs": [],
   "source": [
    "geometric_allele_effects = col.defaultdict"
   ]
  },
  {
   "cell_type": "code",
   "execution_count": null,
   "metadata": {
    "collapsed": false
   },
   "outputs": [],
   "source": [
    "def_allele_effects = col.defaultdict(geometric_allele_effects, 0.0, float)"
   ]
  },
  {
   "cell_type": "code",
   "execution_count": null,
   "metadata": {
    "collapsed": true
   },
   "outputs": [],
   "source": [
    "alph"
   ]
  },
  {
   "cell_type": "code",
   "execution_count": null,
   "metadata": {
    "collapsed": true
   },
   "outputs": [],
   "source": [
    "alpha_allele_effects = allele_effects"
   ]
  },
  {
   "cell_type": "code",
   "execution_count": null,
   "metadata": {
    "collapsed": true
   },
   "outputs": [],
   "source": []
  },
  {
   "cell_type": "code",
   "execution_count": null,
   "metadata": {
    "collapsed": true
   },
   "outputs": [],
   "source": [
    "alpha_allele, beta_allele = allel"
   ]
  },
  {
   "cell_type": "code",
   "execution_count": null,
   "metadata": {
    "collapsed": false
   },
   "outputs": [],
   "source": [
    "geometric_allele_effects_table"
   ]
  },
  {
   "cell_type": "code",
   "execution_count": null,
   "metadata": {
    "collapsed": false
   },
   "outputs": [],
   "source": [
    "af = allele_frequencies['/dragonlance/0/1000']"
   ]
  },
  {
   "cell_type": "code",
   "execution_count": null,
   "metadata": {
    "collapsed": false
   },
   "outputs": [],
   "source": [
    "af.ix[:10, ]"
   ]
  },
  {
   "cell_type": "code",
   "execution_count": null,
   "metadata": {
    "collapsed": true
   },
   "outputs": [],
   "source": []
  },
  {
   "cell_type": "code",
   "execution_count": null,
   "metadata": {
    "collapsed": true
   },
   "outputs": [],
   "source": []
  },
  {
   "cell_type": "code",
   "execution_count": null,
   "metadata": {
    "collapsed": false
   },
   "outputs": [],
   "source": [
    "af['minor_allele'][0]"
   ]
  },
  {
   "cell_type": "code",
   "execution_count": null,
   "metadata": {
    "collapsed": false
   },
   "outputs": [],
   "source": [
    "af['minor_allele'][0] == 2.0 or af['major_allele'][0] == 2.0"
   ]
  },
  {
   "cell_type": "code",
   "execution_count": null,
   "metadata": {
    "collapsed": false
   },
   "outputs": [],
   "source": [
    "af.minor_allele[0]"
   ]
  },
  {
   "cell_type": "code",
   "execution_count": null,
   "metadata": {
    "collapsed": true
   },
   "outputs": [],
   "source": [
    "if af.minor_allele[0] == "
   ]
  },
  {
   "cell_type": "code",
   "execution_count": null,
   "metadata": {
    "collapsed": true
   },
   "outputs": [],
   "source": [
    "alpha_alleles = [allele for allele in geometric_allele_effects_table['alpha_allele']]"
   ]
  },
  {
   "cell_type": "code",
   "execution_count": null,
   "metadata": {
    "collapsed": false
   },
   "outputs": [],
   "source": [
    "alpha_alleles"
   ]
  },
  {
   "cell_type": "code",
   "execution_count": null,
   "metadata": {
    "collapsed": false
   },
   "outputs": [],
   "source": [
    "beta_alleles = af['minor_allele']"
   ]
  },
  {
   "cell_type": "code",
   "execution_count": null,
   "metadata": {
    "collapsed": false
   },
   "outputs": [],
   "source": [
    "beta_alleles"
   ]
  },
  {
   "cell_type": "code",
   "execution_count": null,
   "metadata": {
    "collapsed": true
   },
   "outputs": [],
   "source": [
    "allele_effect"
   ]
  },
  {
   "cell_type": "code",
   "execution_count": null,
   "metadata": {
    "collapsed": true
   },
   "outputs": [],
   "source": [
    "alpha_alleles = "
   ]
  },
  {
   "cell_type": "code",
   "execution_count": null,
   "metadata": {
    "collapsed": false
   },
   "outputs": [],
   "source": [
    "for allele in geometric_allele_effects_table['alpha_allele']:\n",
    "    print(allele)"
   ]
  },
  {
   "cell_type": "code",
   "execution_count": null,
   "metadata": {
    "collapsed": true
   },
   "outputs": [],
   "source": [
    "np.zeros(())"
   ]
  },
  {
   "cell_type": "code",
   "execution_count": null,
   "metadata": {
    "collapsed": false
   },
   "outputs": [],
   "source": [
    "allele_effects_table = analyze.generate_allele_effects_table(qtl, geometric_allele_effects, b\n",
    "                                                            )"
   ]
  },
  {
   "cell_type": "code",
   "execution_count": null,
   "metadata": {
    "collapsed": true
   },
   "outputs": [],
   "source": [
    "def remap_afrq_table_loci(allele_frequency_table,\n",
    "                          saegus_to_tassel_loci):\n",
    "\n",
    "    loci = list(allele_frequency_table.index)\n",
    "    segregating_loci = list(saegus_to_tassel_loci.keys())\n",
    "    droppable_loci = [locus for locus in loci if locus not in segregating_loci]\n",
    "    allele_frequency_table_subset = allele_frequency_table.drop(droppable_loci,\n",
    "                                                                axis=0)\n",
    "    new_index = list(range(len(segregating_loci)))\n",
    "    allele_frequency_table_subset.index = new_index\n",
    "    return allele_frequency_table_subset"
   ]
  },
  {
   "cell_type": "code",
   "execution_count": null,
   "metadata": {
    "collapsed": false
   },
   "outputs": [],
   "source": [
    "cd C:\\Users\\DoubleDanks\\BISB\\wisser\\code\\rjwlab-scripts\\saegus_project\\devel\\magic\\1478"
   ]
  },
  {
   "cell_type": "code",
   "execution_count": null,
   "metadata": {
    "collapsed": false
   },
   "outputs": [],
   "source": [
    "allele_frequencies = pd.HDFStore('dragonlance_storage.h5', mode='r')"
   ]
  },
  {
   "cell_type": "code",
   "execution_count": null,
   "metadata": {
    "collapsed": false
   },
   "outputs": [],
   "source": [
    "allele_frequenciesrequencies"
   ]
  },
  {
   "cell_type": "code",
   "execution_count": null,
   "metadata": {
    "collapsed": false
   },
   "outputs": [],
   "source": [
    "example_af = allele_frequencies['/dragonlance/0/500']"
   ]
  },
  {
   "cell_type": "code",
   "execution_count": null,
   "metadata": {
    "collapsed": false
   },
   "outputs": [],
   "source": [
    "example_af.ix[:10, ]"
   ]
  },
  {
   "cell_type": "code",
   "execution_count": null,
   "metadata": {
    "collapsed": false
   },
   "outputs": [],
   "source": [
    "j.ix[:10,]"
   ]
  },
  {
   "cell_type": "code",
   "execution_count": null,
   "metadata": {
    "collapsed": false
   },
   "outputs": [],
   "source": [
    "j = rcon.join(example_af)"
   ]
  },
  {
   "cell_type": "code",
   "execution_count": null,
   "metadata": {
    "collapsed": true
   },
   "outputs": [],
   "source": []
  },
  {
   "cell_type": "code",
   "execution_count": null,
   "metadata": {
    "collapsed": true
   },
   "outputs": [],
   "source": [
    "example_af.to_csv('exampleaf.txt', sep='\\t')"
   ]
  },
  {
   "cell_type": "code",
   "execution_count": null,
   "metadata": {
    "collapsed": true
   },
   "outputs": [],
   "source": [
    "j.to_csv('joined.txt', sep='\\t')"
   ]
  },
  {
   "cell_type": "code",
   "execution_count": null,
   "metadata": {
    "collapsed": false
   },
   "outputs": [],
   "source": [
    "subset_geo_af = remap_afrq_table_loci(example_af, saegus_to_tassel_loci)"
   ]
  },
  {
   "cell_type": "code",
   "execution_count": null,
   "metadata": {
    "collapsed": false
   },
   "outputs": [],
   "source": [
    "subset_geo_af.to_csv('subsetaf.txt', sep='\\t')"
   ]
  },
  {
   "cell_type": "code",
   "execution_count": null,
   "metadata": {
    "collapsed": true
   },
   "outputs": [],
   "source": []
  },
  {
   "cell_type": "code",
   "execution_count": null,
   "metadata": {
    "collapsed": false
   },
   "outputs": [],
   "source": [
    "pd.read_csv('dragonlance_geometric_0_500_qvalues.txt', sep='\\t')"
   ]
  },
  {
   "cell_type": "code",
   "execution_count": null,
   "metadata": {
    "collapsed": true
   },
   "outputs": [],
   "source": [
    "rcon = analyze.reconfigure_gwas_results('dragonlance_geometric_0_500_out_2.txt', 'dragonlance_geometric_0_500_qvalues.txt', geo_expanded)"
   ]
  },
  {
   "cell_type": "code",
   "execution_count": null,
   "metadata": {
    "collapsed": false
   },
   "outputs": [],
   "source": [
    "rcon.join(example_af)"
   ]
  },
  {
   "cell_type": "code",
   "execution_count": null,
   "metadata": {
    "collapsed": false
   },
   "outputs": [],
   "source": [
    "geometric_allele_effects_table"
   ]
  },
  {
   "cell_type": "code",
   "execution_count": null,
   "metadata": {
    "collapsed": false
   },
   "outputs": [],
   "source": [
    "supert = analyze.generate_super_table('dragonlance_geometric_0_500_out_2.txt', 'dragonlance_geometric_0_500_out_1.txt', example_af, geo_expanded)"
   ]
  },
  {
   "cell_type": "code",
   "execution_count": null,
   "metadata": {
    "collapsed": true
   },
   "outputs": [],
   "source": [
    "def generate_super_table(gwas_results_file, q_values_file,\n",
    "                         subsetted_allele_frequency_table,\n",
    "                         expanded_allele_effects_table, delim=\"\\t\"):\n",
    "\n",
    "\n",
    "    \"\"\"\n",
    "    Combines the TASSEL output with allele frequencies, allele effects and\n",
    "    q values.\n",
    "\n",
    "\n",
    "    \"\"\"\n",
    "    gwas_results = pd.read_csv(gwas_results_file, sep=delim)\n",
    "    gwas_results.drop('Trait', axis=1, inplace=True)\n",
    "    gwas_results.drop('Pos', axis=1, inplace=True)\n",
    "    gwas_results.drop(0, axis=0, inplace=True)\n",
    "    gwas_results = gwas_results.ix[:, 'Marker':'dom_p']\n",
    "    gwas_results.index = gwas_results.index - 1\n",
    "    gwas_results.drop('Marker', axis=1, inplace=True)\n",
    "    qvalues = pd.read_csv(q_values_file, sep=delim)\n",
    "    qvalues.columns = ['q']\n",
    "    qvalues.index = qvalues.index - 1\n",
    "    results = gwas_results.join(qvalues)\n",
    "    greater_results = results.join(expanded_allele_effects_table)\n",
    "    super_table = greater_results.join(subsetted_allele_frequency_table)\n",
    "\n",
    "    return super_table"
   ]
  },
  {
   "cell_type": "code",
   "execution_count": null,
   "metadata": {
    "collapsed": true
   },
   "outputs": [],
   "source": [
    "    gwas_results = pd.read_csv(gwas_results_file, sep=delim)\n",
    "    gwas_results.drop('Trait', axis=1, inplace=True)\n",
    "    gwas_results.drop('Pos', axis=1, inplace=True)\n",
    "    gwas_results.drop(0, axis=0, inplace=True)\n",
    "    gwas_results = gwas_results.ix[:, 'Marker':'dom_p']\n",
    "    gwas_results.index = gwas_results.index - 1\n",
    "    gwas_results.drop('Marker', axis=1, inplace=True)\n",
    "    qvalues = pd.read_csv(q_values_file, sep=delim)\n",
    "    qvalues.columns = ['q']\n",
    "    qvalues.index = qvalues.index - 1"
   ]
  },
  {
   "cell_type": "code",
   "execution_count": null,
   "metadata": {
    "collapsed": true
   },
   "outputs": [],
   "source": []
  },
  {
   "cell_type": "code",
   "execution_count": null,
   "metadata": {
    "collapsed": true
   },
   "outputs": [],
   "source": []
  },
  {
   "cell_type": "code",
   "execution_count": null,
   "metadata": {
    "collapsed": true
   },
   "outputs": [],
   "source": [
    "geo_expanded"
   ]
  },
  {
   "cell_type": "code",
   "execution_count": null,
   "metadata": {
    "collapsed": true
   },
   "outputs": [],
   "source": []
  },
  {
   "cell_type": "code",
   "execution_count": null,
   "metadata": {
    "collapsed": true
   },
   "outputs": [],
   "source": []
  },
  {
   "cell_type": "code",
   "execution_count": null,
   "metadata": {
    "collapsed": false
   },
   "outputs": [],
   "source": [
    "allele_effects_store = shelve.open('allele_effects_storage')\n",
    "allele_effects_store['dragonlance_exponential'] = exponential_allele_effects\n",
    "allele_effects_store['dragonlance_geometric'] = geometric_allele_effects\n",
    "allele_effects_store.close()"
   ]
  },
  {
   "cell_type": "code",
   "execution_count": null,
   "metadata": {
    "collapsed": true
   },
   "outputs": [],
   "source": [
    "loci_conversions = shelve.open(run_id+'_loci_conversions')\n",
    "saegus_to_tassel_loci = {}\n",
    "tassel_to_saegus_loci = {}\n",
    "for idx, locus in enumerate(concordant_segregating_loci):\n",
    "    saegus_to_tassel_loci[locus] = idx\n",
    "    tassel_to_saegus_loci[idx] = locus\n",
    "loci_conversions['saegus_to_tassel'] = saegus_to_tassel_loci\n",
    "loci_conversions['tassel_to_saegus'] = tassel_to_saegus_loci\n",
    "loci_conversions.close()"
   ]
  },
  {
   "cell_type": "code",
   "execution_count": null,
   "metadata": {
    "collapsed": true
   },
   "outputs": [],
   "source": [
    "exponential_allele_effects_table = analyze.generate_allele_effects_table(qtl, alleles, \n",
    "                                                exponential_allele_effects, saegus_to_tassel_loci)"
   ]
  },
  {
   "cell_type": "code",
   "execution_count": null,
   "metadata": {
    "collapsed": true
   },
   "outputs": [],
   "source": [
    "geometric_allele_effects_table = analyze.generate_allele_effects_table(qtl, alleles, \n",
    "                                                geometric_allele_effects, saegus_to_tassel_loci)"
   ]
  },
  {
   "cell_type": "code",
   "execution_count": null,
   "metadata": {
    "collapsed": false
   },
   "outputs": [],
   "source": [
    "exponential_allele_effects_table"
   ]
  },
  {
   "cell_type": "code",
   "execution_count": null,
   "metadata": {
    "collapsed": false
   },
   "outputs": [],
   "source": [
    "geometric_allele_effects_table"
   ]
  },
  {
   "cell_type": "code",
   "execution_count": null,
   "metadata": {
    "collapsed": false
   },
   "outputs": [],
   "source": [
    "import importlib as imp\n",
    "imp.reload(analyze)"
   ]
  },
  {
   "cell_type": "code",
   "execution_count": null,
   "metadata": {
    "collapsed": false
   },
   "outputs": [],
   "source": [
    "cd C:\\Users\\DoubleDanks\\BISB\\wisser\\code\\rjwlab-scripts\\saegus_project\\devel\\magic\\1478"
   ]
  },
  {
   "cell_type": "code",
   "execution_count": null,
   "metadata": {
    "collapsed": true
   },
   "outputs": [],
   "source": []
  },
  {
   "cell_type": "code",
   "execution_count": null,
   "metadata": {
    "collapsed": false
   },
   "outputs": [],
   "source": [
    "analyze.write_multiple_sample_analyzer(sample_library, sample_sizes, qtl, alleles, \n",
    "                                       exponential_allele_effects, 0.7,  concordant_segregating_loci, \n",
    "                                       run_id=run_id, sub_run_id='_exponential',\n",
    "                                       allele_frequency_hdf=run_id+'_storage.h5')"
   ]
  },
  {
   "cell_type": "code",
   "execution_count": null,
   "metadata": {
    "collapsed": false
   },
   "outputs": [],
   "source": [
    "analyze.write_multiple_sample_analyzer(sample_library, sample_sizes, qtl, alleles, \n",
    "                                       geometric_allele_effects, 0.7,  concordant_segregating_loci, \n",
    "                                       run_id=run_id, sub_run_id='_geometric', \n",
    "                                       allele_frequency_hdf=run_id+'_storage.h5')"
   ]
  },
  {
   "cell_type": "code",
   "execution_count": null,
   "metadata": {
    "collapsed": true
   },
   "outputs": [],
   "source": [
    "import ipyparallel as ipp"
   ]
  },
  {
   "cell_type": "code",
   "execution_count": null,
   "metadata": {
    "collapsed": true
   },
   "outputs": [],
   "source": [
    "c = ipp.Client()"
   ]
  },
  {
   "cell_type": "code",
   "execution_count": null,
   "metadata": {
    "collapsed": false
   },
   "outputs": [],
   "source": [
    "cd C:\\tassel\\output"
   ]
  },
  {
   "cell_type": "code",
   "execution_count": null,
   "metadata": {
    "collapsed": true
   },
   "outputs": [],
   "source": [
    "exp_expanded = analyze.remap_ae_table_loci(exponential_allele_effects_table, saegus_to_tassel_loci)"
   ]
  },
  {
   "cell_type": "code",
   "execution_count": null,
   "metadata": {
    "collapsed": true
   },
   "outputs": [],
   "source": [
    "geo_expanded = analyze.remap_ae_table_loci(geometric_allele_effects_table, saegus_to_tassel_loci)"
   ]
  },
  {
   "cell_type": "code",
   "execution_count": null,
   "metadata": {
    "collapsed": true
   },
   "outputs": [],
   "source": [
    "dragonlance = analyze.Study(run_id+'_geometric')"
   ]
  },
  {
   "cell_type": "code",
   "execution_count": null,
   "metadata": {
    "collapsed": false
   },
   "outputs": [],
   "source": [
    "expo_fpr_raw_data = dragonlance.collect_power_analysis_data(sample_sizes, number_of_replicates, exp_expanded)"
   ]
  },
  {
   "cell_type": "code",
   "execution_count": null,
   "metadata": {
    "collapsed": false
   },
   "outputs": [],
   "source": [
    "cd C:\\tassel\\output"
   ]
  },
  {
   "cell_type": "code",
   "execution_count": null,
   "metadata": {
    "collapsed": false
   },
   "outputs": [],
   "source": [
    "geometric_fpr_raw_data = dragonlance.collect_power_analysis_data(sample_sizes, number_of_replicates, geo_expanded)"
   ]
  },
  {
   "cell_type": "code",
   "execution_count": null,
   "metadata": {
    "collapsed": false
   },
   "outputs": [],
   "source": [
    "ls"
   ]
  },
  {
   "cell_type": "code",
   "execution_count": null,
   "metadata": {
    "collapsed": true
   },
   "outputs": [],
   "source": [
    "exp_results, exp_true_positives, exp_false_positives = dragonlance.calculate_power_fpr(expo_fpr_raw_data, sample_sizes, \n",
    "                                                                             number_of_replicates, number_of_qtl)"
   ]
  },
  {
   "cell_type": "code",
   "execution_count": null,
   "metadata": {
    "collapsed": true
   },
   "outputs": [],
   "source": [
    "geo_results, geo_true_positives, geo_false_positives = demonstration.calculate_power_fpr(geo_fpr_raw_data, sample_sizes, \n",
    "                                                                             number_of_replicates, number_of_qtl)"
   ]
  },
  {
   "cell_type": "code",
   "execution_count": null,
   "metadata": {
    "collapsed": false
   },
   "outputs": [],
   "source": [
    "qtl"
   ]
  },
  {
   "cell_type": "code",
   "execution_count": null,
   "metadata": {
    "collapsed": false
   },
   "outputs": [],
   "source": [
    "saegus_to_tassel_loci[2]"
   ]
  },
  {
   "cell_type": "code",
   "execution_count": null,
   "metadata": {
    "collapsed": true
   },
   "outputs": [],
   "source": []
  },
  {
   "cell_type": "code",
   "execution_count": null,
   "metadata": {
    "collapsed": true
   },
   "outputs": [],
   "source": [
    "popgen = (pop for pop in sample_library[0])"
   ]
  },
  {
   "cell_type": "code",
   "execution_count": null,
   "metadata": {
    "collapsed": true
   },
   "outputs": [],
   "source": [
    "for pop in popgen:\n",
    "    "
   ]
  },
  {
   "cell_type": "code",
   "execution_count": null,
   "metadata": {
    "collapsed": true
   },
   "outputs": [],
   "source": []
  },
  {
   "cell_type": "code",
   "execution_count": null,
   "metadata": {
    "collapsed": true
   },
   "outputs": [],
   "source": []
  },
  {
   "cell_type": "code",
   "execution_count": null,
   "metadata": {
    "collapsed": true
   },
   "outputs": [],
   "source": []
  }
 ],
 "metadata": {
  "kernelspec": {
   "display_name": "Python 3",
   "language": "python",
   "name": "python3"
  },
  "language_info": {
   "codemirror_mode": {
    "name": "ipython",
    "version": 3
   },
   "file_extension": ".py",
   "mimetype": "text/x-python",
   "name": "python",
   "nbconvert_exporter": "python",
   "pygments_lexer": "ipython3",
   "version": "3.4.4"
  }
 },
 "nbformat": 4,
 "nbformat_minor": 0
}
