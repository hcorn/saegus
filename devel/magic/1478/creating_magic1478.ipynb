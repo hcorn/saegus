{
 "cells": [
  {
   "cell_type": "code",
   "execution_count": 1,
   "metadata": {
    "collapsed": false
   },
   "outputs": [],
   "source": [
    "import simuOpt\n",
    "simuOpt.setOptions(alleleType='short', numThreads=4, quiet=True)\n",
    "import simuPOP as sim\n",
    "import pandas as pd\n",
    "from saegus import breed, operators, simulate, analyze, parse, parameters\n",
    "import shelve\n",
    "import numpy as np\n",
    "import random\n",
    "np.set_printoptions(suppress=True, precision=3)"
   ]
  },
  {
   "cell_type": "raw",
   "metadata": {},
   "source": [
    "m1478_sim_parameters = shelve.open('magic_1478_simulation_parameters')\n",
    "m1478_sim_parameters['founders'] = founders\n",
    "m1478_sim_parameters['number_of_replicates'] = 5\n",
    "m1478_sim_parameters['prefounder_file_name'] = 'prefounders_1478.pop'\n",
    "m1478_sim_parameters['alleles'] = magic1478_alleles\n",
    "m1478_sim_parameters['operating_population_size'] = 2000\n",
    "m1478_sim_parameters['recombination_rates'] = [0.01]*1478\n",
    "m1478_sim_parameters.close()"
   ]
  },
  {
   "cell_type": "raw",
   "metadata": {},
   "source": [
    "m1478_trait_parameters = shelve.open('magic_1478_trait_parameters')\n",
    "m1478_trait_parameters['number_of_qtl'] = 10\n",
    "m1478_trait_parameters['allele_effect_parameters'] = 1\n",
    "m1478_trait_parameters.close()"
   ]
  },
  {
   "cell_type": "code",
   "execution_count": null,
   "metadata": {
    "collapsed": false
   },
   "outputs": [],
   "source": [
    "pf_map = shelve.open('pf_map')\n",
    "misc_gmap = shelve.open('misc_gmap')\n",
    "uniparams = shelve.open('uniparams')"
   ]
  },
  {
   "cell_type": "code",
   "execution_count": null,
   "metadata": {
    "collapsed": true
   },
   "outputs": [],
   "source": [
    "locus_names = uniparams['locus_names']\n",
    "pos_column = uniparams['pos_column']\n",
    "allele_names = uniparams['allele_names']\n",
    "snp_to_integer = uniparams['snp_to_integer']\n",
    "integer_to_snp = uniparams['integer_to_snp']"
   ]
  },
  {
   "cell_type": "code",
   "execution_count": null,
   "metadata": {
    "collapsed": true
   },
   "outputs": [],
   "source": [
    "alleles = misc_gmap['alleles']\n",
    "chr_cM_positions = misc_gmap['chr_cM_positions']\n",
    "cM_positions = misc_gmap['cM_positions']\n",
    "integral_valued_loci = misc_gmap['integral_valued_loci']\n",
    "relative_integral_valued_loci = misc_gmap['relative_integral_valued_loci']\n",
    "recombination_rates = misc_gmap['recombination_rates']"
   ]
  },
  {
   "cell_type": "code",
   "execution_count": null,
   "metadata": {
    "collapsed": true
   },
   "outputs": [],
   "source": [
    "def assign_genotypes_to_magic1478(prefounders_7386, prefounders_1478, integer_subset):\n",
    "    for ind_7386, ind_1478 in zip(prefounders_7386.individuals(), prefounders_1478.individuals()):\n",
    "        sub_alpha = [ind_7386.genotype(ploidy=0)[integer_position] \n",
    "                     for integer_position in integer_subset]\n",
    "        sub_beta = [ind_7386.genotype(ploidy=1)[integer_position] \n",
    "                    for integer_position in integer_subset]\n",
    "        genotype_1478 = sub_alpha + sub_beta        \n",
    "        ind_1478.setGenotype(genotype_1478)"
   ]
  },
  {
   "cell_type": "code",
   "execution_count": null,
   "metadata": {
    "collapsed": true
   },
   "outputs": [],
   "source": [
    "assign_genotypes_to_magic1478(prefounders, prefounders1478, integral_valued_loci)"
   ]
  },
  {
   "cell_type": "code",
   "execution_count": null,
   "metadata": {
    "collapsed": false
   },
   "outputs": [],
   "source": [
    "len(prefounders1478.genotype())"
   ]
  },
  {
   "cell_type": "code",
   "execution_count": null,
   "metadata": {
    "collapsed": false
   },
   "outputs": [],
   "source": [
    "1478*2*26"
   ]
  },
  {
   "cell_type": "code",
   "execution_count": null,
   "metadata": {
    "collapsed": false
   },
   "outputs": [],
   "source": [
    "uniparams['operating_population_size']"
   ]
  },
  {
   "cell_type": "code",
   "execution_count": null,
   "metadata": {
    "collapsed": true
   },
   "outputs": [],
   "source": [
    "prefounders1478.save('prefounders_1478.pop')"
   ]
  },
  {
   "cell_type": "code",
   "execution_count": null,
   "metadata": {
    "collapsed": false
   },
   "outputs": [],
   "source": [
    "prefounders1478 = sim.loadPopulation('prefounders_1478.pop')"
   ]
  },
  {
   "cell_type": "code",
   "execution_count": null,
   "metadata": {
    "collapsed": false
   },
   "outputs": [],
   "source": [
    "sim.tagID(prefounders1478, reset=True)"
   ]
  },
  {
   "cell_type": "code",
   "execution_count": null,
   "metadata": {
    "collapsed": true
   },
   "outputs": [],
   "source": [
    "prefounders1478.indInfo('ind_id')"
   ]
  },
  {
   "cell_type": "code",
   "execution_count": null,
   "metadata": {
    "collapsed": false
   },
   "outputs": [],
   "source": [
    "uniparams['founders']"
   ]
  },
  {
   "cell_type": "code",
   "execution_count": null,
   "metadata": {
    "collapsed": true
   },
   "outputs": [],
   "source": [
    "offspring_per_founder = 2000/8"
   ]
  },
  {
   "cell_type": "code",
   "execution_count": null,
   "metadata": {
    "collapsed": false
   },
   "outputs": [],
   "source": [
    "nam = sim.loadPopulation(uniparams['prefounder_file_name'])\n",
    "sim.tagID(nam, reset=True)\n",
    "nam.setSubPopName('maize_nam_prefounders', 0)\n",
    "ind_names_for_gwas = {i: {} for i in range(uniparams['number_of_replicates'])}\n",
    "\n",
    "uniparams['meta_pop_sample_sizes'] = {i: 100 for i in\n",
    "                                      range(0, uniparams['generations_of_selection'] + 1, 2)}\n",
    "\n",
    "s = simulate.Truncation(uniparams['generations_of_selection'],\n",
    "                       uniparams['generations_of_random_mating'],\n",
    "                       uniparams['operating_population_size'],\n",
    "                        uniparams['proportion_of_individuals_saved'],\n",
    "                       uniparams['overshoot_as_proportion'],\n",
    "                   uniparams['individuals_per_breeding_subpop'],\n",
    "                       uniparams['heritability'],\n",
    "                       uniparams['meta_pop_sample_sizes'],\n",
    "                       uniparams['number_of_replicates'])\n",
    "\n",
    "ind_names_for_gwas = {i: {} for i in range(uniparams[\n",
    "    'number_of_replicates'])}\n",
    "\n",
    "founders = uniparams['founders']\n",
    "replicated_nam = sim.Simulator(nam, rep=2, stealPops=False)\n",
    "pop = replicated_nam.extract(0)\n",
    "\n",
    "assert pop.popSize() == 26, \"Population is too large.\"\n",
    "\n",
    "s.generate_f_one(pop, recombination_rates, founders, 500)"
   ]
  },
  {
   "cell_type": "code",
   "execution_count": null,
   "metadata": {
    "collapsed": true
   },
   "outputs": [],
   "source": [
    "s = simulate.Truncation(uniparams['generations_of_selection'],\n",
    "                       uniparams['generations_of_random_mating'],\n",
    "                       uniparams['operating_population_size'],\n",
    "                        uniparams['proportion_of_individuals_saved'],\n",
    "                       uniparams['overshoot_as_proportion'],\n",
    "                   uniparams['individuals_per_breeding_subpop'],\n",
    "                       uniparams['heritability'],\n",
    "                       uniparams['meta_pop_sample_sizes'],\n",
    "                       uniparams['number_of_replicates'])\n",
    "\n",
    "ind_names_for_gwas = {i: {} for i in range(uniparams[\n",
    "    'number_of_replicates'])}\n",
    "\n",
    "founders = uniparams['founders']"
   ]
  },
  {
   "cell_type": "code",
   "execution_count": null,
   "metadata": {
    "collapsed": true
   },
   "outputs": [],
   "source": [
    "multi_magic_1478 = sim.Simulator(prefounders1478, 5, stealPops=False)"
   ]
  },
  {
   "cell_type": "code",
   "execution_count": null,
   "metadata": {
    "collapsed": true
   },
   "outputs": [],
   "source": [
    "pop = multi_magic_1478.extract(0)"
   ]
  },
  {
   "cell_type": "code",
   "execution_count": null,
   "metadata": {
    "collapsed": false
   },
   "outputs": [],
   "source": [
    "s.generate_f_one(pop, [0.01]*1478, founders, 500)"
   ]
  },
  {
   "cell_type": "code",
   "execution_count": null,
   "metadata": {
    "collapsed": false
   },
   "outputs": [],
   "source": [
    "pop.popSize()"
   ]
  },
  {
   "cell_type": "code",
   "execution_count": null,
   "metadata": {
    "collapsed": true
   },
   "outputs": [],
   "source": [
    "breeding_parameters = dict(offspring_per_founder_pair=uniparams['operating_population_size']/(len(founders)))"
   ]
  },
  {
   "cell_type": "code",
   "execution_count": null,
   "metadata": {
    "collapsed": false
   },
   "outputs": [],
   "source": [
    "breeding_parameters"
   ]
  },
  {
   "cell_type": "code",
   "execution_count": null,
   "metadata": {
    "collapsed": true
   },
   "outputs": [],
   "source": [
    "expected_f_one_mother_ids = [1.0 for i in range(500)] + [3.0 for i in range(500)] + [5.0 for i in range(500)] + [7.0 for i in range(500)]\n",
    "expected_f_one_father_ids = [2.0 for i in range(500)] + [4.0 for i in range(500)] + [6.0 for i in range(500)] + [8.0 for i in range(500)]"
   ]
  },
  {
   "cell_type": "code",
   "execution_count": null,
   "metadata": {
    "collapsed": true
   },
   "outputs": [],
   "source": [
    "observed_f_one_mother_ids = list(pop.indInfo('mother_id'))\n",
    "observed_f_one_father_ids = list(pop.indInfo('father_id'))"
   ]
  },
  {
   "cell_type": "code",
   "execution_count": null,
   "metadata": {
    "collapsed": false
   },
   "outputs": [],
   "source": [
    "breeding_parameters['expected_f_one_mother_ids'] = expected_f_one_mother_ids\n",
    "breeding_parameters['expected_f_one_father_ids'] = expected_f_one_father_ids\n",
    "\n",
    "breeding_parameters['observed_f_one_mother_ids'] = observed_f_one_mother_ids\n",
    "breeding_parameters['observed_f_one_father_ids'] = observed_f_one_father_ids\n",
    "\n",
    "breeding_parameters['number_of_matches_f_one_mother_ids'] = sum(np.equal(expected_f_one_mother_ids, observed_f_one_mother_ids))\n",
    "breeding_parameters['number_of_matches_f_one_father_ids'] = sum(np.equal(expected_f_one_father_ids, observed_f_one_father_ids))"
   ]
  },
  {
   "cell_type": "code",
   "execution_count": null,
   "metadata": {
    "collapsed": true
   },
   "outputs": [],
   "source": [
    "breeding_parameters['number_of_matches_f_one_father_ids']\n",
    "breeding_parameters['number_of_matches_f_one_mother_ids']"
   ]
  },
  {
   "cell_type": "markdown",
   "metadata": {},
   "source": [
    "### Split the Offspring for Convienience"
   ]
  },
  {
   "cell_type": "code",
   "execution_count": null,
   "metadata": {
    "collapsed": false
   },
   "outputs": [],
   "source": [
    "pop.splitSubPop(0, [500] * 4)"
   ]
  },
  {
   "cell_type": "code",
   "execution_count": null,
   "metadata": {
    "collapsed": false
   },
   "outputs": [],
   "source": [
    "pop.setSubPopName('first', 0)\n",
    "pop.setSubPopName('second', 1)\n",
    "pop.setSubPopName('third', 2)\n",
    "pop.setSubPopName('fourth', 3)"
   ]
  },
  {
   "cell_type": "code",
   "execution_count": null,
   "metadata": {
    "collapsed": false
   },
   "outputs": [],
   "source": [
    "first_sp_mothers = [random.choice(pop.indInfo('ind_id', 0)) for i in range(1000)]\n",
    "second_sp_fathers = [random.choice(pop.indInfo('ind_id', 1)) for i in range(1000)]\n",
    "third_sp_mothers = [random.choice(pop.indInfo('ind_id', 2)) for i in range(1000)]\n",
    "fourth_sp_fathers = [random.choice(pop.indInfo('ind_id', 3)) for i in range(1000)]"
   ]
  },
  {
   "cell_type": "markdown",
   "metadata": {},
   "source": [
    "### Merge Offspring After Choosing Parents"
   ]
  },
  {
   "cell_type": "code",
   "execution_count": null,
   "metadata": {
    "collapsed": false
   },
   "outputs": [],
   "source": [
    "pop.mergeSubPops()"
   ]
  },
  {
   "cell_type": "code",
   "execution_count": null,
   "metadata": {
    "collapsed": false
   },
   "outputs": [],
   "source": [
    "pop.subPopSizes()"
   ]
  },
  {
   "cell_type": "code",
   "execution_count": null,
   "metadata": {
    "collapsed": true
   },
   "outputs": [],
   "source": [
    "expected_f_two_mother_ids = first_sp_mothers + third_sp_mothers\n",
    "expected_f_two_father_ids = second_sp_fathers + fourth_sp_fathers"
   ]
  },
  {
   "cell_type": "code",
   "execution_count": null,
   "metadata": {
    "collapsed": false
   },
   "outputs": [],
   "source": [
    "breeding_parameters['expected_f_two_mother_ids'] = expected_f_two_mother_ids\n",
    "breeding_parameters['expected_f_two_father_ids'] = expected_f_two_father_ids"
   ]
  },
  {
   "cell_type": "code",
   "execution_count": null,
   "metadata": {
    "collapsed": true
   },
   "outputs": [],
   "source": [
    "second_order_pc = breed.SecondOrderPairIDChooser(expected_f_two_mother_ids, expected_f_two_father_ids)"
   ]
  },
  {
   "cell_type": "code",
   "execution_count": null,
   "metadata": {
    "collapsed": true
   },
   "outputs": [],
   "source": [
    "second_order_pc = breed.SecondOrderPairIDChooser(expected_f_two_mother_ids, expected_f_two_father_ids)"
   ]
  },
  {
   "cell_type": "code",
   "execution_count": null,
   "metadata": {
    "collapsed": false
   },
   "outputs": [],
   "source": [
    "pop.mergeSubPops()"
   ]
  },
  {
   "cell_type": "code",
   "execution_count": null,
   "metadata": {
    "collapsed": false
   },
   "outputs": [],
   "source": [
    "pop.evolve(\n",
    "    matingScheme=sim.HomoMating(\n",
    "        sim.PyParentsChooser(second_order_pc.snd_ord_id_pairs),\n",
    "        sim.OffspringGenerator(ops=[\n",
    "            sim.IdTagger(),\n",
    "            sim.ParentsTagger(),\n",
    "            sim.PedigreeTagger(),\n",
    "            sim.Recombinator(rates=0.01)\n",
    "        ],\n",
    "            numOffspring=1),\n",
    "        subPopSize=[2000],\n",
    "    ),\n",
    "    gen=1,\n",
    ")"
   ]
  },
  {
   "cell_type": "code",
   "execution_count": null,
   "metadata": {
    "collapsed": false
   },
   "outputs": [],
   "source": [
    "pop.popSize()"
   ]
  },
  {
   "cell_type": "code",
   "execution_count": null,
   "metadata": {
    "collapsed": true
   },
   "outputs": [],
   "source": [
    "observed_f_two_mother_ids = list(pop.indInfo('mother_id'))\n",
    "observed_f_two_father_ids = list(pop.indInfo('father_id'))"
   ]
  },
  {
   "cell_type": "code",
   "execution_count": null,
   "metadata": {
    "collapsed": true
   },
   "outputs": [],
   "source": [
    ""
   ]
  },
  {
   "cell_type": "code",
   "execution_count": null,
   "metadata": {
    "collapsed": true
   },
   "outputs": [],
   "source": [
    "breeding_parameters['expected_f_two_mother_ids'] = expected_f_two_mother_ids\n",
    "breeding_parameters['expected_f_two_father_ids'] = expected_f_two_father_ids\n",
    "\n",
    "breeding_parameters['observed_f_two_mother_ids'] = observed_f_two_mother_ids\n",
    "breeding_parameters['observed_f_two_father_ids'] = observed_f_two_father_ids\n",
    "\n",
    "breeding_parameters['number_of_matches_f_two_mother_ids'] = sum(np.equal(expected_f_two_mother_ids, observed_f_two_mother_ids))\n",
    "breeding_parameters['number_of_matches_f_two_father_ids'] = sum(np.equal(expected_f_two_father_ids, observed_f_two_father_ids))"
   ]
  },
  {
   "cell_type": "code",
   "execution_count": null,
   "metadata": {
    "collapsed": false
   },
   "outputs": [],
   "source": [
    "breeding_parameters['number_of_matches_f_two_father_ids']"
   ]
  },
  {
   "cell_type": "code",
   "execution_count": null,
   "metadata": {
    "collapsed": false
   },
   "outputs": [],
   "source": [
    "breeding_parameters['number_of_matches_f_two_mother_ids']"
   ]
  },
  {
   "cell_type": "markdown",
   "metadata": {},
   "source": [
    "## Determining Rounds of Mating Required for Convergence\n",
    "\n",
    "Given *n* founders to start with:\n",
    "\n",
    "If *n* is a power of two, *m*, then there are *m* rounds of mating.\n",
    "\n",
    "The number of rounds of mating is the largest power of 2 which can\n",
    "be subtracted from *n* + 1.\n",
    "\n",
    "**Example**\n",
    "```python\n",
    "\n",
    "    founders = [1, 2, 3, 4, 5, 6, 7, 8]\n",
    "    first_round = [(1, 2), (3, 4), (5, 6), (7, 8)]\n",
    "    second_round = [(1/2, 3/4), (5/6, 7/8)]\n",
    "    third_round = [(1/2 // 3/4, 5/6 // 7/8)]\n",
    "    final_result = 1/2 // 3/4 /// 5/6 // 7/8\n",
    "``` "
   ]
  },
  {
   "cell_type": "code",
   "execution_count": null,
   "metadata": {
    "collapsed": true
   },
   "outputs": [],
   "source": [
    ""
   ]
  },
  {
   "cell_type": "markdown",
   "metadata": {},
   "source": [
    "# Final Round of Mating"
   ]
  },
  {
   "cell_type": "code",
   "execution_count": null,
   "metadata": {
    "collapsed": false
   },
   "outputs": [],
   "source": [
    "pop.splitSubPop(0, sizes=[1000] * 2)"
   ]
  },
  {
   "cell_type": "code",
   "execution_count": null,
   "metadata": {
    "collapsed": true
   },
   "outputs": [],
   "source": [
    "final_first_sp_mothers = [random.choice(pop.indInfo('ind_id', 0)) for i in range(2000)]\n",
    "\n",
    "final_second_sp_fathers = [random.choice(pop.indInfo('ind_id', 1)) for i in range(2000)]"
   ]
  },
  {
   "cell_type": "code",
   "execution_count": null,
   "metadata": {
    "collapsed": true
   },
   "outputs": [],
   "source": [
    "expected_f_final_mother_ids = final_first_sp_mothers\n",
    "expected_f_final_father_ids = final_second_sp_fathers"
   ]
  },
  {
   "cell_type": "code",
   "execution_count": null,
   "metadata": {
    "collapsed": true
   },
   "outputs": [],
   "source": [
    "third_order_pc = breed.SecondOrderPairIDChooser(expected_f_final_mother_ids, expected_f_final_father_ids)"
   ]
  },
  {
   "cell_type": "code",
   "execution_count": null,
   "metadata": {
    "collapsed": false
   },
   "outputs": [],
   "source": [
    "pop.numSubPop()"
   ]
  },
  {
   "cell_type": "code",
   "execution_count": null,
   "metadata": {
    "collapsed": false
   },
   "outputs": [],
   "source": [
    "pop.mergeSubPops()"
   ]
  },
  {
   "cell_type": "code",
   "execution_count": null,
   "metadata": {
    "collapsed": false
   },
   "outputs": [],
   "source": [
    "pop.evolve(\n",
    "    matingScheme=sim.HomoMating(\n",
    "        sim.PyParentsChooser(third_order_pc.snd_ord_id_pairs),\n",
    "        sim.OffspringGenerator(ops=[\n",
    "            sim.IdTagger(),\n",
    "            sim.ParentsTagger(),\n",
    "            sim.PedigreeTagger(),\n",
    "            sim.Recombinator(rates=0.01)\n",
    "        ],\n",
    "            numOffspring=1),\n",
    "        subPopSize=[2000],\n",
    "    ),\n",
    "    gen=1,\n",
    ")"
   ]
  },
  {
   "cell_type": "code",
   "execution_count": null,
   "metadata": {
    "collapsed": true
   },
   "outputs": [],
   "source": [
    ""
   ]
  },
  {
   "cell_type": "code",
   "execution_count": null,
   "metadata": {
    "collapsed": true
   },
   "outputs": [],
   "source": [
    "observed_f_final_mother_ids = list(pop.indInfo('mother_id'))\n",
    "observed_f_final_father_ids = list(pop.indInfo('father_id'))"
   ]
  },
  {
   "cell_type": "code",
   "execution_count": null,
   "metadata": {
    "collapsed": false
   },
   "outputs": [],
   "source": [
    "breeding_parameters['expected_f_two_mother_ids'] = expected_f_final_mother_ids\n",
    "breeding_parameters['expected_f_two_father_ids'] = expected_f_final_father_ids\n",
    "\n",
    "breeding_parameters['observed_f_two_mother_ids'] = observed_f_final_mother_ids\n",
    "breeding_parameters['observed_f_two_father_ids'] = observed_f_final_father_ids\n",
    "\n",
    "breeding_parameters['number_of_matches_f_final_mother_ids'] = sum(np.equal(expected_f_final_mother_ids, \n",
    "                                                                         observed_f_final_mother_ids))\n",
    "breeding_parameters['number_of_matches_f_final_father_ids'] = sum(np.equal(expected_f_final_father_ids, \n",
    "                                                                         observed_f_final_father_ids))"
   ]
  },
  {
   "cell_type": "code",
   "execution_count": null,
   "metadata": {
    "collapsed": false
   },
   "outputs": [],
   "source": [
    "breeding_parameters['number_of_matches_f_final_mother_ids']"
   ]
  },
  {
   "cell_type": "code",
   "execution_count": null,
   "metadata": {
    "collapsed": false
   },
   "outputs": [],
   "source": [
    "breeding_parameters['number_of_matches_f_final_father_ids']"
   ]
  },
  {
   "cell_type": "code",
   "execution_count": null,
   "metadata": {
    "collapsed": true
   },
   "outputs": [],
   "source": [
    "pop.save(\"magic_1478.pop\")\n",
    "\n",
    "standard_magic_1478_history = shelve.open(\"magic_1478_history\")\n",
    "for k, v in breeding_parameters.items():\n",
    "    standard_magic_history[k] = v\n",
    "standard_magic_history.close()"
   ]
  },
  {
   "cell_type": "code",
   "execution_count": null,
   "metadata": {
    "collapsed": true
   },
   "outputs": [],
   "source": [
    "magic_1478_history = shelve.open(\"standard_magic_history\")"
   ]
  },
  {
   "cell_type": "code",
   "execution_count": null,
   "metadata": {
    "collapsed": false
   },
   "outputs": [],
   "source": [
    "list(magic_1478_history.keys())"
   ]
  },
  {
   "cell_type": "code",
   "execution_count": null,
   "metadata": {
    "collapsed": false
   },
   "outputs": [],
   "source": [
    "len(magic_1478_history['expected_f_one_mother_ids'])"
   ]
  },
  {
   "cell_type": "code",
   "execution_count": null,
   "metadata": {
    "collapsed": false
   },
   "outputs": [],
   "source": [
    "len(alleles)"
   ]
  },
  {
   "cell_type": "code",
   "execution_count": null,
   "metadata": {
    "collapsed": false
   },
   "outputs": [],
   "source": [
    "trait_parameters = shelve.open('magic_1478_trait_parameters')"
   ]
  },
  {
   "cell_type": "code",
   "execution_count": null,
   "metadata": {
    "collapsed": true
   },
   "outputs": [],
   "source": [
    ""
   ]
  }
 ],
 "metadata": {
  "kernelspec": {
   "display_name": "Python 3",
   "language": "python",
   "name": "python3"
  },
  "language_info": {
   "codemirror_mode": {
    "name": "ipython",
    "version": 3.0
   },
   "file_extension": ".py",
   "mimetype": "text/x-python",
   "name": "python",
   "nbconvert_exporter": "python",
   "pygments_lexer": "ipython3",
   "version": "3.4.4"
  }
 },
 "nbformat": 4,
 "nbformat_minor": 0
}