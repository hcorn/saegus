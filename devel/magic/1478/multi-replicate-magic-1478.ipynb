{
 "cells": [
  {
   "cell_type": "code",
   "execution_count": 1,
   "metadata": {
    "collapsed": false
   },
   "outputs": [],
   "source": [
    "import simuOpt\n",
    "simuOpt.setOptions(alleleType='short', optimized=True, numThreads=4, quiet=True)\n",
    "import simuPOP as sim\n",
    "import pandas as pd\n",
    "from saegus import breed, operators, simulate, analyze, parse, parameters\n",
    "import shelve\n",
    "import numpy as np\n",
    "import random\n",
    "np.set_printoptions(suppress=True, precision=3)"
   ]
  },
  {
   "cell_type": "code",
   "execution_count": 2,
   "metadata": {
    "collapsed": false
   },
   "outputs": [],
   "source": [
    "prefounders = sim.loadPopulation('prefounders1478.pop')"
   ]
  },
  {
   "cell_type": "code",
   "execution_count": 3,
   "metadata": {
    "collapsed": true
   },
   "outputs": [],
   "source": [
    "multi_prefounders = sim.Simulator(prefounders, 50, stealPops=False)"
   ]
  },
  {
   "cell_type": "code",
   "execution_count": 4,
   "metadata": {
    "collapsed": true
   },
   "outputs": [],
   "source": [
    "founders = [[1, 2], [3, 4], [5, 6], [7, 8]]\n",
    "os_per_pair = 500"
   ]
  },
  {
   "cell_type": "code",
   "execution_count": 5,
   "metadata": {
    "collapsed": true
   },
   "outputs": [],
   "source": [
    "magic = breed.MAGIC(multi_prefounders, [0.01]*1478)"
   ]
  },
  {
   "cell_type": "code",
   "execution_count": 6,
   "metadata": {
    "collapsed": false
   },
   "outputs": [],
   "source": [
    "sim.tagID(prefounders, reset=27)"
   ]
  },
  {
   "cell_type": "code",
   "execution_count": 7,
   "metadata": {
    "collapsed": false
   },
   "outputs": [
    {
     "name": "stdout",
     "output_type": "stream",
     "text": [
      "Generation: 0\n",
      "Generation: 0\n",
      "Generation: 0\n",
      "Generation: 0\n",
      "Generation: 0\n",
      "Generation: 0\n",
      "Generation: 0\n",
      "Generation: 0\n",
      "Generation: 0\n",
      "Generation: 0\n",
      "Generation: 0\n",
      "Generation: 0\n",
      "Generation: 0\n",
      "Generation: 0\n",
      "Generation: 0\n",
      "Generation: 0\n",
      "Generation: 0\n",
      "Generation: 0\n",
      "Generation: 0\n",
      "Generation: 0\n",
      "Generation: 0\n",
      "Generation: 0\n",
      "Generation: 0\n",
      "Generation: 0\n",
      "Generation: 0\n",
      "Generation: 0\n",
      "Generation: 0\n",
      "Generation: 0\n",
      "Generation: 0\n",
      "Generation: 0\n",
      "Generation: 0\n",
      "Generation: 0\n",
      "Generation: 0\n",
      "Generation: 0\n",
      "Generation: 0\n",
      "Generation: 0\n",
      "Generation: 0\n",
      "Generation: 0\n",
      "Generation: 0\n",
      "Generation: 0\n",
      "Generation: 0\n",
      "Generation: 0\n",
      "Generation: 0\n",
      "Generation: 0\n",
      "Generation: 0\n",
      "Generation: 0\n",
      "Generation: 0\n",
      "Generation: 0\n",
      "Generation: 0\n",
      "Generation: 0\n"
     ]
    }
   ],
   "source": [
    "magic.generate_f_one(founders, os_per_pair)"
   ]
  },
  {
   "cell_type": "code",
   "execution_count": 8,
   "metadata": {
    "collapsed": true
   },
   "outputs": [],
   "source": [
    "mrc = breed.MultiRandomCross(multi_prefounders, 4, 500)"
   ]
  },
  {
   "cell_type": "code",
   "execution_count": 9,
   "metadata": {
    "collapsed": true
   },
   "outputs": [],
   "source": [
    "mother_choices, father_choices = mrc.determine_random_cross()"
   ]
  },
  {
   "cell_type": "code",
   "execution_count": 10,
   "metadata": {
    "collapsed": true
   },
   "outputs": [],
   "source": [
    "multi_snd_ord_chooser = breed.MultiSecondOrderPairIDChooser(mother_choices, father_choices)"
   ]
  },
  {
   "cell_type": "code",
   "execution_count": 11,
   "metadata": {
    "collapsed": false
   },
   "outputs": [
    {
     "data": {
      "text/plain": [
       "(1,\n",
       " 1,\n",
       " 1,\n",
       " 1,\n",
       " 1,\n",
       " 1,\n",
       " 1,\n",
       " 1,\n",
       " 1,\n",
       " 1,\n",
       " 1,\n",
       " 1,\n",
       " 1,\n",
       " 1,\n",
       " 1,\n",
       " 1,\n",
       " 1,\n",
       " 1,\n",
       " 1,\n",
       " 1,\n",
       " 1,\n",
       " 1,\n",
       " 1,\n",
       " 1,\n",
       " 1,\n",
       " 1,\n",
       " 1,\n",
       " 1,\n",
       " 1,\n",
       " 1,\n",
       " 1,\n",
       " 1,\n",
       " 1,\n",
       " 1,\n",
       " 1,\n",
       " 1,\n",
       " 1,\n",
       " 1,\n",
       " 1,\n",
       " 1,\n",
       " 1,\n",
       " 1,\n",
       " 1,\n",
       " 1,\n",
       " 1,\n",
       " 1,\n",
       " 1,\n",
       " 1,\n",
       " 1,\n",
       " 1)"
      ]
     },
     "execution_count": 11,
     "metadata": {},
     "output_type": "execute_result"
    }
   ],
   "source": [
    "multi_prefounders.evolve(\n",
    "    matingScheme=sim.HomoMating(\n",
    "        sim.PyParentsChooser(multi_snd_ord_chooser.snd_ord_id_pairs),\n",
    "        sim.OffspringGenerator(ops=[\n",
    "            sim.IdTagger(),\n",
    "            sim.PedigreeTagger(),\n",
    "            sim.Recombinator(rates=0.01)\n",
    "        ],\n",
    "            numOffspring=1),\n",
    "        subPopSize=[2000],\n",
    "    ),\n",
    "    gen=1,\n",
    ")"
   ]
  },
  {
   "cell_type": "code",
   "execution_count": 12,
   "metadata": {
    "collapsed": true
   },
   "outputs": [],
   "source": [
    "final_mrc = breed.MultiRandomCross(multi_prefounders, 2, 1000)"
   ]
  },
  {
   "cell_type": "code",
   "execution_count": 13,
   "metadata": {
    "collapsed": true
   },
   "outputs": [],
   "source": [
    "final_mothers, final_fathers = final_mrc.determine_random_cross()"
   ]
  },
  {
   "cell_type": "code",
   "execution_count": 14,
   "metadata": {
    "collapsed": true
   },
   "outputs": [],
   "source": [
    "final_multi_snd_ord_chooser = breed.MultiSecondOrderPairIDChooser(final_mothers, final_fathers)"
   ]
  },
  {
   "cell_type": "code",
   "execution_count": 15,
   "metadata": {
    "collapsed": false
   },
   "outputs": [
    {
     "data": {
      "text/plain": [
       "(1,\n",
       " 1,\n",
       " 1,\n",
       " 1,\n",
       " 1,\n",
       " 1,\n",
       " 1,\n",
       " 1,\n",
       " 1,\n",
       " 1,\n",
       " 1,\n",
       " 1,\n",
       " 1,\n",
       " 1,\n",
       " 1,\n",
       " 1,\n",
       " 1,\n",
       " 1,\n",
       " 1,\n",
       " 1,\n",
       " 1,\n",
       " 1,\n",
       " 1,\n",
       " 1,\n",
       " 1,\n",
       " 1,\n",
       " 1,\n",
       " 1,\n",
       " 1,\n",
       " 1,\n",
       " 1,\n",
       " 1,\n",
       " 1,\n",
       " 1,\n",
       " 1,\n",
       " 1,\n",
       " 1,\n",
       " 1,\n",
       " 1,\n",
       " 1,\n",
       " 1,\n",
       " 1,\n",
       " 1,\n",
       " 1,\n",
       " 1,\n",
       " 1,\n",
       " 1,\n",
       " 1,\n",
       " 1,\n",
       " 1)"
      ]
     },
     "execution_count": 15,
     "metadata": {},
     "output_type": "execute_result"
    }
   ],
   "source": [
    "multi_prefounders.evolve(\n",
    "    matingScheme=sim.HomoMating(\n",
    "        sim.PyParentsChooser(final_multi_snd_ord_chooser.snd_ord_id_pairs),\n",
    "        sim.OffspringGenerator(ops=[\n",
    "            sim.IdTagger(),\n",
    "            sim.PedigreeTagger(),\n",
    "            sim.Recombinator(rates=0.01)\n",
    "        ],\n",
    "            numOffspring=1),\n",
    "        subPopSize=[2000],\n",
    "    ),\n",
    "    gen=1,\n",
    ")"
   ]
  },
  {
   "cell_type": "code",
   "execution_count": 16,
   "metadata": {
    "collapsed": true
   },
   "outputs": [],
   "source": [
    "mater = breed.MAGIC(multi_prefounders, [0.01]*1478)"
   ]
  },
  {
   "cell_type": "code",
   "execution_count": 17,
   "metadata": {
    "collapsed": false
   },
   "outputs": [
    {
     "name": "stdout",
     "output_type": "stream",
     "text": [
      "Initiating random mating for 3 generations.\n",
      "Generation: 3\n",
      "Generation: 3\n",
      "Generation: 3\n",
      "Generation: 3\n",
      "Generation: 3\n",
      "Generation: 3\n",
      "Generation: 3\n",
      "Generation: 3\n",
      "Generation: 3\n",
      "Generation: 3\n",
      "Generation: 3\n",
      "Generation: 3\n",
      "Generation: 3\n",
      "Generation: 3\n",
      "Generation: 3\n",
      "Generation: 3\n",
      "Generation: 3\n",
      "Generation: 3\n",
      "Generation: 3\n",
      "Generation: 3\n",
      "Generation: 3\n",
      "Generation: 3\n",
      "Generation: 3\n",
      "Generation: 3\n",
      "Generation: 3\n",
      "Generation: 3\n",
      "Generation: 3\n",
      "Generation: 3\n",
      "Generation: 3\n",
      "Generation: 3\n",
      "Generation: 3\n",
      "Generation: 3\n",
      "Generation: 3\n",
      "Generation: 3\n",
      "Generation: 3\n",
      "Generation: 3\n",
      "Generation: 3\n",
      "Generation: 3\n",
      "Generation: 3\n",
      "Generation: 3\n",
      "Generation: 3\n",
      "Generation: 3\n",
      "Generation: 3\n",
      "Generation: 3\n",
      "Generation: 3\n",
      "Generation: 3\n",
      "Generation: 3\n",
      "Generation: 3\n",
      "Generation: 3\n",
      "Generation: 3\n",
      "Generation: 4\n",
      "Generation: 4\n",
      "Generation: 4\n",
      "Generation: 4\n",
      "Generation: 4\n",
      "Generation: 4\n",
      "Generation: 4\n",
      "Generation: 4\n",
      "Generation: 4\n",
      "Generation: 4\n",
      "Generation: 4\n",
      "Generation: 4\n",
      "Generation: 4\n",
      "Generation: 4\n",
      "Generation: 4\n",
      "Generation: 4\n",
      "Generation: 4\n",
      "Generation: 4\n",
      "Generation: 4\n",
      "Generation: 4\n",
      "Generation: 4\n",
      "Generation: 4\n",
      "Generation: 4\n",
      "Generation: 4\n",
      "Generation: 4\n",
      "Generation: 4\n",
      "Generation: 4\n",
      "Generation: 4\n",
      "Generation: 4\n",
      "Generation: 4\n",
      "Generation: 4\n",
      "Generation: 4\n",
      "Generation: 4\n",
      "Generation: 4\n",
      "Generation: 4\n",
      "Generation: 4\n",
      "Generation: 4\n",
      "Generation: 4\n",
      "Generation: 4\n",
      "Generation: 4\n",
      "Generation: 4\n",
      "Generation: 4\n",
      "Generation: 4\n",
      "Generation: 4\n",
      "Generation: 4\n",
      "Generation: 4\n",
      "Generation: 4\n",
      "Generation: 4\n",
      "Generation: 4\n",
      "Generation: 4\n",
      "Generation: 5\n",
      "Generation: 5\n",
      "Generation: 5\n",
      "Generation: 5\n",
      "Generation: 5\n",
      "Generation: 5\n",
      "Generation: 5\n",
      "Generation: 5\n",
      "Generation: 5\n",
      "Generation: 5\n",
      "Generation: 5\n",
      "Generation: 5\n",
      "Generation: 5\n",
      "Generation: 5\n",
      "Generation: 5\n",
      "Generation: 5\n",
      "Generation: 5\n",
      "Generation: 5\n",
      "Generation: 5\n",
      "Generation: 5\n",
      "Generation: 5\n",
      "Generation: 5\n",
      "Generation: 5\n",
      "Generation: 5\n",
      "Generation: 5\n",
      "Generation: 5\n",
      "Generation: 5\n",
      "Generation: 5\n",
      "Generation: 5\n",
      "Generation: 5\n",
      "Generation: 5\n",
      "Generation: 5\n",
      "Generation: 5\n",
      "Generation: 5\n",
      "Generation: 5\n",
      "Generation: 5\n",
      "Generation: 5\n",
      "Generation: 5\n",
      "Generation: 5\n",
      "Generation: 5\n",
      "Generation: 5\n",
      "Generation: 5\n",
      "Generation: 5\n",
      "Generation: 5\n",
      "Generation: 5\n",
      "Generation: 5\n",
      "Generation: 5\n",
      "Generation: 5\n",
      "Generation: 5\n",
      "Generation: 5\n"
     ]
    }
   ],
   "source": [
    "mater.random_mating(3, 2000)"
   ]
  },
  {
   "cell_type": "markdown",
   "metadata": {},
   "source": [
    "### Segregating Loci"
   ]
  },
  {
   "cell_type": "code",
   "execution_count": 18,
   "metadata": {
    "collapsed": true
   },
   "outputs": [],
   "source": [
    "for rep in multi_prefounders.populations():\n",
    "    sim.stat(rep, numOfSegSites=sim.ALL_AVAIL, vars=['segSites', 'numOfSegSites'])"
   ]
  },
  {
   "cell_type": "code",
   "execution_count": 19,
   "metadata": {
    "collapsed": true
   },
   "outputs": [],
   "source": [
    "seg_loci_of_samples = np.zeros((50, 866, 3), dtype=np.int32)"
   ]
  },
  {
   "cell_type": "code",
   "execution_count": 21,
   "metadata": {
    "collapsed": true
   },
   "outputs": [],
   "source": [
    "sample_sizes = [100, 250, 500]"
   ]
  },
  {
   "cell_type": "code",
   "execution_count": 22,
   "metadata": {
    "collapsed": false
   },
   "outputs": [],
   "source": [
    "for rep in multi_prefounders.populations():\n",
    "    for i, sample in enumerate(sample_sizes):\n",
    "        sampled_pop = sim.sampling.drawRandomSample(rep, sample)\n",
    "        sim.stat(sampled_pop, numOfSegSites=sim.ALL_AVAIL, vars=['segSites', 'numOfSegSites'])\n",
    "        seg_loci_of_samples[rep.dvars().rep, :, i] = sampled_pop.dvars().segSites"
   ]
  },
  {
   "cell_type": "markdown",
   "metadata": {},
   "source": [
    "### Determine QTL"
   ]
  },
  {
   "cell_type": "code",
   "execution_count": null,
   "metadata": {
    "collapsed": true
   },
   "outputs": [],
   "source": []
  },
  {
   "cell_type": "code",
   "execution_count": 23,
   "metadata": {
    "collapsed": true
   },
   "outputs": [],
   "source": [
    "number_qt_loci = 10"
   ]
  },
  {
   "cell_type": "code",
   "execution_count": 24,
   "metadata": {
    "collapsed": false
   },
   "outputs": [],
   "source": [
    "segregating_loci = list(seg_loci_of_samples[0, :, 0])"
   ]
  },
  {
   "cell_type": "code",
   "execution_count": 48,
   "metadata": {
    "collapsed": true
   },
   "outputs": [],
   "source": [
    "segregating_loci = [int(locus) for locus in segregating_loci]"
   ]
  },
  {
   "cell_type": "code",
   "execution_count": 25,
   "metadata": {
    "collapsed": false
   },
   "outputs": [],
   "source": [
    "qtl = sorted(random.sample(segregating_loci, number_qt_loci))"
   ]
  },
  {
   "cell_type": "code",
   "execution_count": 26,
   "metadata": {
    "collapsed": false
   },
   "outputs": [],
   "source": [
    "qtl = [int(locus) for locus in qtl]"
   ]
  },
  {
   "cell_type": "code",
   "execution_count": 47,
   "metadata": {
    "collapsed": false
   },
   "outputs": [
    {
     "data": {
      "text/plain": [
       "numpy.int32"
      ]
     },
     "execution_count": 47,
     "metadata": {},
     "output_type": "execute_result"
    }
   ],
   "source": []
  },
  {
   "cell_type": "code",
   "execution_count": 27,
   "metadata": {
    "collapsed": false
   },
   "outputs": [
    {
     "data": {
      "text/plain": [
       "[85, 294, 378, 417, 431, 730, 935, 1108, 1348, 1355]"
      ]
     },
     "execution_count": 27,
     "metadata": {},
     "output_type": "execute_result"
    }
   ],
   "source": [
    "qtl"
   ]
  },
  {
   "cell_type": "code",
   "execution_count": null,
   "metadata": {
    "collapsed": true
   },
   "outputs": [],
   "source": [
    "def coefficient_of_dispersion(pop, loci):\n",
    "    \"\"\"\n",
    "    Mean to variance ratio of pairwise sequential distances of quantitative trait loci.\n",
    "    Note that this statistic contributes nothing if there is only one qtl on a chromosome.\n",
    "    :param pop:\n",
    "    \"\"\"\n",
    "    chrom_loc_pairs = [pop.chromLocusPair(int(locus)) for locus in loci]\n",
    "    chromosomes = [chrom_loc_pairs[i][0] for i in range(len(chrom_loc_pairs))]\n",
    "    diffs = []\n",
    "    for i in range(len(chrom_loc_pairs)):\n",
    "        if chromosomes[i-1] == chromosomes[i]:\n",
    "            diffs.append(math.fabs(chrom_loc_pairs[i-1][1] - chrom_loc_pairs[i][1]))\n",
    "    diffs = np.array(diffs)\n",
    "    mean = np.mean(diffs)\n",
    "    var = np.var(diffs)\n",
    "    var_to_mean_ratio = var/mean\n",
    "    return var_to_mean_ratio"
   ]
  },
  {
   "cell_type": "code",
   "execution_count": null,
   "metadata": {
    "collapsed": true
   },
   "outputs": [],
   "source": [
    "first = multi_prefounders.population(0)"
   ]
  },
  {
   "cell_type": "code",
   "execution_count": null,
   "metadata": {
    "collapsed": false
   },
   "outputs": [],
   "source": [
    "coefficient_of_dispersion(first, qtl)"
   ]
  },
  {
   "cell_type": "code",
   "execution_count": 28,
   "metadata": {
    "collapsed": false
   },
   "outputs": [],
   "source": [
    "alleles = pd.read_hdf('parameters\\\\alleles_at_1478_loci.hdf')"
   ]
  },
  {
   "cell_type": "code",
   "execution_count": 31,
   "metadata": {
    "collapsed": true
   },
   "outputs": [],
   "source": [
    "alleles = np.array(alleles)"
   ]
  },
  {
   "cell_type": "code",
   "execution_count": 32,
   "metadata": {
    "collapsed": true
   },
   "outputs": [],
   "source": [
    "add_trait = parameters.Trait()"
   ]
  },
  {
   "cell_type": "code",
   "execution_count": 33,
   "metadata": {
    "collapsed": false
   },
   "outputs": [],
   "source": [
    "allele_effects = add_trait.assign_allele_effects(alleles, qtl, random.expovariate, 1, multiplicity=3)"
   ]
  },
  {
   "cell_type": "code",
   "execution_count": 34,
   "metadata": {
    "collapsed": false
   },
   "outputs": [
    {
     "data": {
      "text/plain": [
       "{85: {1: 0.7639459962395068, 3: 1.1275557092940487},\n",
       " 294: {0: 0.8082841215038653, 2: 1.8820116489441723},\n",
       " 378: {0: 7.048513796426754, 2: 1.4224519757549239},\n",
       " 417: {1: 6.714168847163591, 3: 1.268012923400879},\n",
       " 431: {1: 2.6270165938652026, 3: 4.909446892623217},\n",
       " 730: {1: 3.378195420119303, 3: 3.752044147848409},\n",
       " 935: {0: 3.1937192305039086, 2: 4.8342880250866},\n",
       " 1108: {0: 3.214484353047612, 1: 5.40893005938693},\n",
       " 1348: {1: 5.138900439370714, 3: 4.188077952052308},\n",
       " 1355: {0: 3.323581565680311, 3: 5.605738561429297}}"
      ]
     },
     "execution_count": 34,
     "metadata": {},
     "output_type": "execute_result"
    }
   ],
   "source": [
    "allele_effects"
   ]
  },
  {
   "cell_type": "markdown",
   "metadata": {},
   "source": [
    "## Save Population Samples"
   ]
  },
  {
   "cell_type": "code",
   "execution_count": null,
   "metadata": {
    "collapsed": true
   },
   "outputs": [],
   "source": [
    "sample_sizes = [100, 250, 500]"
   ]
  },
  {
   "cell_type": "code",
   "execution_count": null,
   "metadata": {
    "collapsed": true
   },
   "outputs": [],
   "source": [
    "for rep in multi_prefounders.populations():\n",
    "    for sample in sample_sizes:\n",
    "        sampled_pop = sim.sampling.drawRandomSample(rep, sample)\n",
    "        sample_name = 'infinite_R_' + str(rep.dvars().rep) + ' _' + str(sampled_pop.popSize()) + '.pop'\n",
    "        sampled_pop.save(sample_name)"
   ]
  },
  {
   "cell_type": "code",
   "execution_count": 53,
   "metadata": {
    "collapsed": false
   },
   "outputs": [
    {
     "data": {
      "text/plain": [
       "<module 'saegus.analyze' from 'C:\\\\Anaconda3\\\\lib\\\\site-packages\\\\saegus\\\\analyze.py'>"
      ]
     },
     "execution_count": 53,
     "metadata": {},
     "output_type": "execute_result"
    }
   ],
   "source": [
    "import importlib as imp\n",
    "imp.reload(analyze)"
   ]
  },
  {
   "cell_type": "code",
   "execution_count": 54,
   "metadata": {
    "collapsed": false
   },
   "outputs": [],
   "source": [
    "analyze.multiple_sample_analyzer(multi_prefounders, sample_sizes, qtl, alleles, allele_effects, 0.7, segregating_loci)"
   ]
  },
  {
   "cell_type": "code",
   "execution_count": 37,
   "metadata": {
    "collapsed": false
   },
   "outputs": [
    {
     "name": "stdout",
     "output_type": "stream",
     "text": [
      "0\n"
     ]
    }
   ],
   "source": [
    "for rep in multi_prefounders.populations():\n",
    "    print(rep.dvars().rep)\n",
    "    break"
   ]
  },
  {
   "cell_type": "code",
   "execution_count": 55,
   "metadata": {
    "collapsed": true
   },
   "outputs": [],
   "source": [
    "saegus_to_tassel_loci = {}\n",
    "tassel_to_saegus_loci = {}\n",
    "for idx, locus in enumerate(segregating_loci):\n",
    "    saegus_to_tassel_loci[locus] = idx\n",
    "    tassel_to_saegus_loci[idx] = locus"
   ]
  },
  {
   "cell_type": "code",
   "execution_count": 56,
   "metadata": {
    "collapsed": true
   },
   "outputs": [],
   "source": [
    "infinite_loci_conversions = shelve.open('infinite_loci_conversions')"
   ]
  },
  {
   "cell_type": "code",
   "execution_count": 57,
   "metadata": {
    "collapsed": true
   },
   "outputs": [],
   "source": [
    "infinite_loci_conversions['saegus_to_tassel'] = saegus_to_tassel_loci\n",
    "infinite_loci_conversions['tassel_to_saegus'] = tassel_to_saegus_loci"
   ]
  },
  {
   "cell_type": "code",
   "execution_count": 58,
   "metadata": {
    "collapsed": true
   },
   "outputs": [],
   "source": [
    "infinite_loci_conversions.close()"
   ]
  },
  {
   "cell_type": "code",
   "execution_count": 59,
   "metadata": {
    "collapsed": true
   },
   "outputs": [],
   "source": [
    "inf_ae_table = analyze.generate_allele_effects_table(qtl, alleles, allele_effects)"
   ]
  },
  {
   "cell_type": "code",
   "execution_count": 60,
   "metadata": {
    "collapsed": false
   },
   "outputs": [
    {
     "data": {
      "text/html": [
       "<div>\n",
       "<table border=\"1\" class=\"dataframe\">\n",
       "  <thead>\n",
       "    <tr style=\"text-align: right;\">\n",
       "      <th></th>\n",
       "      <th>locus</th>\n",
       "      <th>alpha_allele</th>\n",
       "      <th>alpha_effect</th>\n",
       "      <th>beta_allele</th>\n",
       "      <th>beta_effect</th>\n",
       "    </tr>\n",
       "  </thead>\n",
       "  <tbody>\n",
       "    <tr>\n",
       "      <th>0</th>\n",
       "      <td>85</td>\n",
       "      <td>3</td>\n",
       "      <td>1.127556</td>\n",
       "      <td>1</td>\n",
       "      <td>0.763946</td>\n",
       "    </tr>\n",
       "    <tr>\n",
       "      <th>1</th>\n",
       "      <td>294</td>\n",
       "      <td>0</td>\n",
       "      <td>0.808284</td>\n",
       "      <td>2</td>\n",
       "      <td>1.882012</td>\n",
       "    </tr>\n",
       "    <tr>\n",
       "      <th>2</th>\n",
       "      <td>378</td>\n",
       "      <td>2</td>\n",
       "      <td>1.422452</td>\n",
       "      <td>0</td>\n",
       "      <td>7.048514</td>\n",
       "    </tr>\n",
       "    <tr>\n",
       "      <th>3</th>\n",
       "      <td>417</td>\n",
       "      <td>3</td>\n",
       "      <td>1.268013</td>\n",
       "      <td>1</td>\n",
       "      <td>6.714169</td>\n",
       "    </tr>\n",
       "    <tr>\n",
       "      <th>4</th>\n",
       "      <td>431</td>\n",
       "      <td>3</td>\n",
       "      <td>4.909447</td>\n",
       "      <td>1</td>\n",
       "      <td>2.627017</td>\n",
       "    </tr>\n",
       "    <tr>\n",
       "      <th>5</th>\n",
       "      <td>730</td>\n",
       "      <td>3</td>\n",
       "      <td>3.752044</td>\n",
       "      <td>1</td>\n",
       "      <td>3.378195</td>\n",
       "    </tr>\n",
       "    <tr>\n",
       "      <th>6</th>\n",
       "      <td>935</td>\n",
       "      <td>2</td>\n",
       "      <td>4.834288</td>\n",
       "      <td>0</td>\n",
       "      <td>3.193719</td>\n",
       "    </tr>\n",
       "    <tr>\n",
       "      <th>7</th>\n",
       "      <td>1108</td>\n",
       "      <td>0</td>\n",
       "      <td>3.214484</td>\n",
       "      <td>1</td>\n",
       "      <td>5.408930</td>\n",
       "    </tr>\n",
       "    <tr>\n",
       "      <th>8</th>\n",
       "      <td>1348</td>\n",
       "      <td>3</td>\n",
       "      <td>4.188078</td>\n",
       "      <td>1</td>\n",
       "      <td>5.138900</td>\n",
       "    </tr>\n",
       "    <tr>\n",
       "      <th>9</th>\n",
       "      <td>1355</td>\n",
       "      <td>3</td>\n",
       "      <td>5.605739</td>\n",
       "      <td>0</td>\n",
       "      <td>3.323582</td>\n",
       "    </tr>\n",
       "  </tbody>\n",
       "</table>\n",
       "</div>"
      ],
      "text/plain": [
       "   locus  alpha_allele  alpha_effect  beta_allele  beta_effect\n",
       "0     85             3      1.127556            1     0.763946\n",
       "1    294             0      0.808284            2     1.882012\n",
       "2    378             2      1.422452            0     7.048514\n",
       "3    417             3      1.268013            1     6.714169\n",
       "4    431             3      4.909447            1     2.627017\n",
       "5    730             3      3.752044            1     3.378195\n",
       "6    935             2      4.834288            0     3.193719\n",
       "7   1108             0      3.214484            1     5.408930\n",
       "8   1348             3      4.188078            1     5.138900\n",
       "9   1355             3      5.605739            0     3.323582"
      ]
     },
     "execution_count": 60,
     "metadata": {},
     "output_type": "execute_result"
    }
   ],
   "source": [
    "inf_ae_table"
   ]
  },
  {
   "cell_type": "code",
   "execution_count": 61,
   "metadata": {
    "collapsed": true
   },
   "outputs": [],
   "source": [
    "expanded_inf_ae = analyze.remap_ae_table_loci(inf_ae_table, \n",
    "                                              saegus_to_tassel_loci)"
   ]
  },
  {
   "cell_type": "code",
   "execution_count": 63,
   "metadata": {
    "collapsed": false
   },
   "outputs": [],
   "source": [
    "expanded_inf_ae.to_hdf('expanded_infinite_allele_effects.hdf', 'exp')"
   ]
  },
  {
   "cell_type": "code",
   "execution_count": null,
   "metadata": {
    "collapsed": true
   },
   "outputs": [],
   "source": []
  }
 ],
 "metadata": {
  "kernelspec": {
   "display_name": "Python 3",
   "language": "python",
   "name": "python3"
  },
  "language_info": {
   "codemirror_mode": {
    "name": "ipython",
    "version": 3
   },
   "file_extension": ".py",
   "mimetype": "text/x-python",
   "name": "python",
   "nbconvert_exporter": "python",
   "pygments_lexer": "ipython3",
   "version": "3.4.4"
  }
 },
 "nbformat": 4,
 "nbformat_minor": 0
}
