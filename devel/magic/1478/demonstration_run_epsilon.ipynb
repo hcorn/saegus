{
 "cells": [
  {
   "cell_type": "markdown",
   "metadata": {},
   "source": [
    "# Epsilon"
   ]
  },
  {
   "cell_type": "code",
   "execution_count": 1,
   "metadata": {
    "collapsed": true
   },
   "outputs": [],
   "source": [
    "import simuOpt\n",
    "simuOpt.setOptions(alleleType='short', optimized=True, numThreads=4, quiet=True)\n",
    "import simuPOP as sim\n",
    "import pandas as pd\n",
    "from saegus import breed, operators, simulate, analyze, parse, parameters\n",
    "import shelve\n",
    "import numpy as np\n",
    "import random\n",
    "import h5py\n",
    "import collections as col\n",
    "np.set_printoptions(suppress=True, precision=3)"
   ]
  },
  {
   "cell_type": "code",
   "execution_count": 2,
   "metadata": {
    "collapsed": true
   },
   "outputs": [],
   "source": [
    "mg = analyze.MultiGeneration('epsilon')"
   ]
  },
  {
   "cell_type": "code",
   "execution_count": 3,
   "metadata": {
    "collapsed": true
   },
   "outputs": [],
   "source": [
    "run_id = 'epsilon'\n",
    "generations_of_random_mating = 10\n",
    "sample_sizes=[250, 500, 750, 1000]\n",
    "number_of_qtl = 10\n",
    "number_of_replicates = 6\n",
    "founders = [[2, 26], [3, 25], [4, 24], [5, 23]]\n",
    "os_per_pair = 500\n",
    "recombination_rates = [0.01]*1478"
   ]
  },
  {
   "cell_type": "code",
   "execution_count": 4,
   "metadata": {
    "collapsed": false
   },
   "outputs": [],
   "source": [
    "prefounders = sim.loadPopulation('bia_prefounders.pop')"
   ]
  },
  {
   "cell_type": "code",
   "execution_count": 5,
   "metadata": {
    "collapsed": true
   },
   "outputs": [],
   "source": [
    "sim.tagID(prefounders, reset=True)"
   ]
  },
  {
   "cell_type": "code",
   "execution_count": 6,
   "metadata": {
    "collapsed": false
   },
   "outputs": [],
   "source": [
    "alleles = np.array(pd.read_hdf('parameters/alleles_at_1478_loci.hdf'))"
   ]
  },
  {
   "cell_type": "code",
   "execution_count": 7,
   "metadata": {
    "collapsed": false
   },
   "outputs": [],
   "source": [
    "rdm_populations = sim.Simulator(prefounders, 2, stealPops=False)\n",
    "sel_populations = sim.Simulator(prefounders, 2, stealPops=False)\n",
    "dri_populations = sim.Simulator(prefounders, 2, stealPops=False)\n",
    "\n",
    "rdm_magic = breed.MAGIC(rdm_populations, founders, recombination_rates)\n",
    "sel_magic = breed.MAGIC(sel_populations, founders, recombination_rates)\n",
    "dri_magic = breed.MAGIC(dri_populations, founders, recombination_rates)\n",
    "\n",
    "sim.tagID(prefounders, reset=27)\n",
    "\n",
    "rdm_magic.generate_f_one(founders, os_per_pair)\n",
    "sel_magic.generate_f_one(founders, os_per_pair)\n",
    "dri_magic.generate_f_one(founders, os_per_pair)\n",
    "\n",
    "sim.stat(rdm_populations.population(0), alleleFreq=sim.ALL_AVAIL)\n",
    "af = analyze.allele_data(rdm_populations.population(0), alleles, list(range(1478)))"
   ]
  },
  {
   "cell_type": "code",
   "execution_count": 8,
   "metadata": {
    "collapsed": false
   },
   "outputs": [],
   "source": [
    "minor_alleles = np.asarray(af.minor_allele, dtype=np.int8)"
   ]
  },
  {
   "cell_type": "code",
   "execution_count": 9,
   "metadata": {
    "collapsed": false
   },
   "outputs": [
    {
     "name": "stdout",
     "output_type": "stream",
     "text": [
      "Start of recombinatorial convergence.\n",
      "Prior to convergence: 4\n",
      "Prior to convergence: 2\n",
      "Start of recombinatorial convergence.\n",
      "Prior to convergence: 4\n",
      "Prior to convergence: 2\n",
      "Start of recombinatorial convergence.\n",
      "Prior to convergence: 4\n",
      "Prior to convergence: 2\n"
     ]
    }
   ],
   "source": [
    "rdm_magic.recombinatorial_convergence(rdm_populations, 4, 500)\n",
    "sel_magic.recombinatorial_convergence(sel_populations, 4, 500)\n",
    "dri_magic.recombinatorial_convergence(dri_populations, 4, 500)"
   ]
  },
  {
   "cell_type": "code",
   "execution_count": 10,
   "metadata": {
    "collapsed": false
   },
   "outputs": [],
   "source": [
    "study = analyze.Study(run_id)"
   ]
  },
  {
   "cell_type": "code",
   "execution_count": 11,
   "metadata": {
    "collapsed": true
   },
   "outputs": [],
   "source": [
    "qtl = sorted(random.sample(tuple(range(1478)), 50))"
   ]
  },
  {
   "cell_type": "code",
   "execution_count": 12,
   "metadata": {
    "collapsed": true
   },
   "outputs": [
    {
     "data": {
      "text/plain": [
       "[14,\n",
       " 54,\n",
       " 77,\n",
       " 86,\n",
       " 93,\n",
       " 94,\n",
       " 130,\n",
       " 132,\n",
       " 153,\n",
       " 210,\n",
       " 211,\n",
       " 242,\n",
       " 267,\n",
       " 290,\n",
       " 338,\n",
       " 341,\n",
       " 350,\n",
       " 353,\n",
       " 358,\n",
       " 373,\n",
       " 377,\n",
       " 379,\n",
       " 415,\n",
       " 418,\n",
       " 513,\n",
       " 519,\n",
       " 572,\n",
       " 612,\n",
       " 715,\n",
       " 721,\n",
       " 734,\n",
       " 740,\n",
       " 804,\n",
       " 831,\n",
       " 892,\n",
       " 924,\n",
       " 969,\n",
       " 993,\n",
       " 1078,\n",
       " 1099,\n",
       " 1113,\n",
       " 1119,\n",
       " 1128,\n",
       " 1171,\n",
       " 1249,\n",
       " 1314,\n",
       " 1339,\n",
       " 1354,\n",
       " 1371,\n",
       " 1401]"
      ]
     },
     "execution_count": 12,
     "metadata": {},
     "output_type": "execute_result"
    }
   ],
   "source": [
    "qtl"
   ]
  },
  {
   "cell_type": "code",
   "execution_count": 13,
   "metadata": {
    "collapsed": false
   },
   "outputs": [],
   "source": [
    "additive_trait = parameters.Trait()\n",
    "allele_effects = additive_trait.assign_allele_effects(alleles, qtl, random.expovariate, 1,\n",
    "                                                     multiplicity=1)"
   ]
  },
  {
   "cell_type": "code",
   "execution_count": 14,
   "metadata": {
    "collapsed": true
   },
   "outputs": [],
   "source": [
    "ae_array = additive_trait.convert_allele_effects_into_array(prefounders.totNumLoci(), 6, allele_effects)"
   ]
  },
  {
   "cell_type": "code",
   "execution_count": 15,
   "metadata": {
    "collapsed": false
   },
   "outputs": [
    {
     "data": {
      "text/plain": [
       "array([[ 1.149,  0.   ,  0.   ,  0.338,  0.   ,  0.   ],\n",
       "       [ 0.964,  0.527,  0.   ,  0.   ,  0.   ,  0.   ],\n",
       "       [ 0.   ,  0.85 ,  0.   ,  0.235,  0.   ,  0.   ],\n",
       "       [ 0.   ,  1.616,  0.   ,  0.404,  0.   ,  0.   ],\n",
       "       [ 0.065,  0.   ,  0.   ,  3.433,  0.   ,  0.   ],\n",
       "       [ 0.834,  0.   ,  0.   ,  0.706,  0.   ,  0.   ],\n",
       "       [ 0.713,  0.   ,  0.232,  0.   ,  0.   ,  0.   ],\n",
       "       [ 0.   ,  0.092,  0.   ,  1.224,  0.   ,  0.   ],\n",
       "       [ 0.   ,  2.743,  0.   ,  2.532,  0.   ,  0.   ],\n",
       "       [ 0.506,  0.   ,  0.721,  0.   ,  0.   ,  0.   ],\n",
       "       [ 1.084,  0.   ,  0.205,  0.   ,  0.   ,  0.   ],\n",
       "       [ 1.552,  0.   ,  1.993,  0.   ,  0.   ,  0.   ],\n",
       "       [ 6.672,  0.   ,  0.52 ,  0.   ,  0.   ,  0.   ],\n",
       "       [ 0.   ,  0.   ,  0.178,  0.64 ,  0.   ,  0.   ],\n",
       "       [ 0.   ,  0.   ,  0.   ,  0.   ,  0.582,  2.184],\n",
       "       [ 0.   ,  1.119,  0.   ,  1.566,  0.   ,  0.   ],\n",
       "       [ 0.   ,  0.237,  0.   ,  0.158,  0.   ,  0.   ],\n",
       "       [ 0.533,  0.029,  0.   ,  0.   ,  0.   ,  0.   ],\n",
       "       [ 0.112,  0.   ,  0.   ,  1.675,  0.   ,  0.   ],\n",
       "       [ 1.461,  0.   ,  1.317,  0.   ,  0.   ,  0.   ],\n",
       "       [ 0.458,  0.   ,  0.   ,  0.785,  0.   ,  0.   ],\n",
       "       [ 1.267,  0.244,  0.   ,  0.   ,  0.   ,  0.   ],\n",
       "       [ 0.   ,  0.204,  0.   ,  0.633,  0.   ,  0.   ],\n",
       "       [ 0.   ,  0.54 ,  0.   ,  2.086,  0.   ,  0.   ],\n",
       "       [ 0.   ,  0.   ,  1.521,  1.865,  0.   ,  0.   ],\n",
       "       [ 0.   ,  0.   ,  1.544,  2.979,  0.   ,  0.   ],\n",
       "       [ 0.   ,  1.605,  0.   ,  1.216,  0.   ,  0.   ],\n",
       "       [ 0.   ,  1.019,  0.155,  0.   ,  0.   ,  0.   ],\n",
       "       [ 0.   ,  4.386,  0.   ,  0.477,  0.   ,  0.   ],\n",
       "       [ 0.   ,  0.   ,  0.   ,  0.   ,  0.913,  0.809],\n",
       "       [ 0.   ,  0.638,  0.   ,  1.078,  0.   ,  0.   ],\n",
       "       [ 0.   ,  1.433,  0.   ,  1.252,  0.   ,  0.   ],\n",
       "       [ 0.936,  0.   ,  0.157,  0.   ,  0.   ,  0.   ],\n",
       "       [ 1.642,  0.   ,  0.114,  0.   ,  0.   ,  0.   ],\n",
       "       [ 0.   ,  2.97 ,  2.847,  0.   ,  0.   ,  0.   ],\n",
       "       [ 0.   ,  0.   ,  0.   ,  0.   ,  0.43 ,  0.681],\n",
       "       [ 0.299,  0.21 ,  0.   ,  0.   ,  0.   ,  0.   ],\n",
       "       [ 0.   ,  0.163,  0.   ,  0.28 ,  0.   ,  0.   ],\n",
       "       [ 0.854,  0.   ,  0.31 ,  0.   ,  0.   ,  0.   ],\n",
       "       [ 0.   ,  0.17 ,  0.   ,  0.135,  0.   ,  0.   ],\n",
       "       [ 1.367,  0.   ,  0.   ,  0.237,  0.   ,  0.   ],\n",
       "       [ 0.   ,  0.556,  1.161,  0.   ,  0.   ,  0.   ],\n",
       "       [ 0.   ,  0.   ,  0.   ,  0.   ,  2.737,  0.044],\n",
       "       [ 0.754,  0.   ,  1.67 ,  0.   ,  0.   ,  0.   ],\n",
       "       [ 0.   ,  0.   ,  0.177,  0.524,  0.   ,  0.   ],\n",
       "       [ 0.   ,  0.178,  0.   ,  0.048,  0.   ,  0.   ],\n",
       "       [ 0.   ,  0.   ,  2.439,  0.341,  0.   ,  0.   ],\n",
       "       [ 0.   ,  0.345,  0.   ,  0.499,  0.   ,  0.   ],\n",
       "       [ 0.   ,  0.43 ,  0.   ,  0.492,  0.   ,  0.   ],\n",
       "       [ 0.481,  0.   ,  1.684,  0.   ,  0.   ,  0.   ]])"
      ]
     },
     "execution_count": 15,
     "metadata": {},
     "output_type": "execute_result"
    }
   ],
   "source": [
    "ae_array[qtl, :]"
   ]
  },
  {
   "cell_type": "code",
   "execution_count": 16,
   "metadata": {
    "collapsed": false
   },
   "outputs": [
    {
     "data": {
      "text/plain": [
       "(1478, 6)"
      ]
     },
     "execution_count": 16,
     "metadata": {},
     "output_type": "execute_result"
    }
   ],
   "source": [
    "ae_array.shape"
   ]
  },
  {
   "cell_type": "code",
   "execution_count": 17,
   "metadata": {
    "collapsed": true
   },
   "outputs": [],
   "source": [
    "sampling_generations = [i for i in range(2, 10, 2)]\n",
    "sample_sizes = {i: 100 for i in range(11)}"
   ]
  },
  {
   "cell_type": "code",
   "execution_count": 18,
   "metadata": {
    "collapsed": true
   },
   "outputs": [],
   "source": [
    "rdm_meta_populations = {rep: [] for rep in range(2)}\n",
    "sel_meta_populations = {rep: [] for rep in range(2)}\n",
    "dri_meta_populations = {rep: [] for rep in range(2)}"
   ]
  },
  {
   "cell_type": "code",
   "execution_count": null,
   "metadata": {
    "collapsed": false
   },
   "outputs": [],
   "source": [
    "import importlib as imp\n",
    "imp.reload(simulate)"
   ]
  },
  {
   "cell_type": "code",
   "execution_count": 20,
   "metadata": {
    "collapsed": false
   },
   "outputs": [],
   "source": [
    "rdm_mating = simulate.RandomMating(10, 2000, 0.05, 0.5, 5, 0.7, sample_sizes)"
   ]
  },
  {
   "cell_type": "code",
   "execution_count": 21,
   "metadata": {
    "collapsed": false
   },
   "outputs": [],
   "source": [
    "drift = simulate.Drift(10, 2000, 0.05, 0.5, 5, 0.7, sample_sizes)"
   ]
  },
  {
   "cell_type": "code",
   "execution_count": 22,
   "metadata": {
    "collapsed": true
   },
   "outputs": [],
   "source": [
    "selection = simulate.Truncation(10, 2000, 0.05, 0.5, 5, 0.7, sample_sizes)"
   ]
  },
  {
   "cell_type": "code",
   "execution_count": 23,
   "metadata": {
    "collapsed": false,
    "scrolled": false
   },
   "outputs": [
    {
     "name": "stdout",
     "output_type": "stream",
     "text": [
      "Initial: Sampled 100 individuals from generation 0 Replicate: 0.\n",
      "Initial: Sampled 100 individuals from generation 0 Replicate: 1.\n",
      "Generation: 0\n",
      "Generation: 0\n",
      "Generation: 1\n",
      "Generation: 1\n",
      "Generation: 2\n",
      "Generation: 2\n",
      "Generation: 3\n",
      "Generation: 3\n",
      "Generation: 4\n",
      "Generation: 4\n",
      "Generation: 5\n",
      "Generation: 5\n",
      "Generation: 6\n",
      "Generation: 6\n",
      "Generation: 7\n",
      "Generation: 7\n",
      "Generation: 8\n",
      "Generation: 8\n",
      "Generation: 9\n",
      "Generation: 9\n",
      "Final: Sampled 100 individuals from generation 10\n",
      "Final: Sampled 100 individuals from generation 10\n"
     ]
    }
   ],
   "source": [
    "rdm_mating.replicate_random_mating(rdm_populations, rdm_meta_populations, qtl, ae_array, recombination_rates)"
   ]
  },
  {
   "cell_type": "markdown",
   "metadata": {},
   "source": [
    "del rdm_populations"
   ]
  },
  {
   "cell_type": "code",
   "execution_count": null,
   "metadata": {
    "collapsed": false
   },
   "outputs": [],
   "source": [
    "drift.replicate_recurrent_drift(dri_populations, dri_meta_populations, qtl, ae_array, recombination_rates)"
   ]
  },
  {
   "cell_type": "code",
   "execution_count": null,
   "metadata": {
    "collapsed": false
   },
   "outputs": [],
   "source": [
    "selection.replicate_selection(sel_populations, sel_meta_populations, qtl, ae_array, recombination_rates)"
   ]
  },
  {
   "cell_type": "markdown",
   "metadata": {},
   "source": [
    "del sel_populations"
   ]
  },
  {
   "cell_type": "code",
   "execution_count": null,
   "metadata": {
    "collapsed": true
   },
   "outputs": [],
   "source": [
    "wombo_combo = [rdm_meta_populations, dri_meta_populations, sel_meta_populations]"
   ]
  },
  {
   "cell_type": "raw",
   "metadata": {
    "collapsed": false
   },
   "source": [
    "for meta_populations in wombo_combo:\n",
    "    for rep, sample_list in meta_populations.items():\n",
    "        for sample in sample_list:\n",
    "            sim.stat(sample, heteroFreq=sim.ALL_AVAIL)\n",
    "            sim.stat(sample, alleleFreq=sim.ALL_AVAIL)\n",
    "            sim.stat(sample, genoFreq=sim.ALL_AVAIL)"
   ]
  },
  {
   "cell_type": "code",
   "execution_count": 24,
   "metadata": {
    "collapsed": true
   },
   "outputs": [],
   "source": [
    "for rep, sample_list in rdm_meta_populations.items():\n",
    "    for sample in sample_list:\n",
    "        sim.stat(sample, alleleFreq=sim.ALL_AVAIL)"
   ]
  },
  {
   "cell_type": "code",
   "execution_count": 25,
   "metadata": {
    "collapsed": false
   },
   "outputs": [],
   "source": [
    "mg = analyze.MultiGeneration('demeter')"
   ]
  },
  {
   "cell_type": "raw",
   "metadata": {
    "collapsed": false
   },
   "source": [
    "mgrdm_af_data = mg.collect_allele_frequency_data(meta_populations, minor_alleles)"
   ]
  },
  {
   "cell_type": "raw",
   "metadata": {
    "collapsed": false
   },
   "source": [
    "mgrdm_af_data"
   ]
  },
  {
   "cell_type": "raw",
   "metadata": {
    "collapsed": false
   },
   "source": [
    "print(mgrdm_af_data)"
   ]
  },
  {
   "cell_type": "code",
   "execution_count": null,
   "metadata": {
    "collapsed": false
   },
   "outputs": [],
   "source": [
    "mg.store_allele_frequency_data(meta_populations, minor_alleles, 'demeter_allele_frequencies.hdf5')"
   ]
  },
  {
   "cell_type": "code",
   "execution_count": null,
   "metadata": {
    "collapsed": false
   },
   "outputs": [],
   "source": [
    "study.store_allele_frequencies(meta_populations, alleles)"
   ]
  },
  {
   "cell_type": "code",
   "execution_count": null,
   "metadata": {
    "collapsed": false
   },
   "outputs": [],
   "source": [
    "sets_of_segregating_loci = study.seg_loci_among_samples(meta_populations)"
   ]
  },
  {
   "cell_type": "code",
   "execution_count": null,
   "metadata": {
    "collapsed": true
   },
   "outputs": [],
   "source": [
    "concordant_segregating_loci = list(sets_of_segregating_loci.keys())[0]"
   ]
  },
  {
   "cell_type": "code",
   "execution_count": null,
   "metadata": {
    "collapsed": true
   },
   "outputs": [],
   "source": [
    "concordant_segregating_loci"
   ]
  },
  {
   "cell_type": "code",
   "execution_count": null,
   "metadata": {
    "collapsed": false
   },
   "outputs": [],
   "source": [
    "minor_alleles_at_loci = np.asarray(af.minor_allele)[list(concordant_segregating_loci)]"
   ]
  },
  {
   "cell_type": "code",
   "execution_count": null,
   "metadata": {
    "collapsed": true
   },
   "outputs": [],
   "source": [
    "concordant_segregating_loci"
   ]
  },
  {
   "cell_type": "code",
   "execution_count": null,
   "metadata": {
    "collapsed": false
   },
   "outputs": [],
   "source": [
    "minor_alleles.shape"
   ]
  },
  {
   "cell_type": "code",
   "execution_count": null,
   "metadata": {
    "collapsed": true
   },
   "outputs": [],
   "source": [
    "add_trait = parameters.Trait()"
   ]
  },
  {
   "cell_type": "code",
   "execution_count": null,
   "metadata": {
    "collapsed": false
   },
   "outputs": [],
   "source": [
    "seg_loc_storage = shelve.open('segregating_loci_storage')\n",
    "seg_loc_storage[run_id] = concordant_segregating_loci\n",
    "seg_loc_storage.close()"
   ]
  },
  {
   "cell_type": "code",
   "execution_count": null,
   "metadata": {
    "collapsed": false
   },
   "outputs": [],
   "source": [
    "droppable_loci = [droppable for droppable in range(1478) if droppable not in concordant_segregating_loci]"
   ]
  },
  {
   "cell_type": "code",
   "execution_count": null,
   "metadata": {
    "collapsed": true
   },
   "outputs": [],
   "source": [
    "droppable_loci"
   ]
  },
  {
   "cell_type": "code",
   "execution_count": null,
   "metadata": {
    "collapsed": false
   },
   "outputs": [],
   "source": [
    "import importlib as imp\n",
    "imp.reload(analyze)"
   ]
  },
  {
   "cell_type": "code",
   "execution_count": null,
   "metadata": {
    "collapsed": true
   },
   "outputs": [],
   "source": [
    "mg = analyze.MultiGeneration('bia')"
   ]
  },
  {
   "cell_type": "code",
   "execution_count": null,
   "metadata": {
    "collapsed": true
   },
   "outputs": [],
   "source": [
    "import cProfile"
   ]
  },
  {
   "cell_type": "code",
   "execution_count": null,
   "metadata": {
    "collapsed": false
   },
   "outputs": [],
   "source": [
    "mg.multiple_sample_analyzer(meta_populations, qtl, allele_effects, minor_alleles, concordant_segregating_loci)"
   ]
  },
  {
   "cell_type": "code",
   "execution_count": null,
   "metadata": {
    "collapsed": true
   },
   "outputs": [],
   "source": [
    "example_pop = meta_populations[0][0]"
   ]
  },
  {
   "cell_type": "code",
   "execution_count": null,
   "metadata": {
    "collapsed": false
   },
   "outputs": [],
   "source": [
    "example_ind = example_pop.individual(0)"
   ]
  },
  {
   "cell_type": "code",
   "execution_count": null,
   "metadata": {
    "collapsed": false
   },
   "outputs": [],
   "source": [
    "exgeno = np.asarray([example_ind.genotype(ploidy=0)[locus] for locus in range(1478)])"
   ]
  },
  {
   "cell_type": "code",
   "execution_count": null,
   "metadata": {
    "collapsed": false
   },
   "outputs": [],
   "source": [
    "exgeno.shape"
   ]
  },
  {
   "cell_type": "code",
   "execution_count": null,
   "metadata": {
    "collapsed": false
   },
   "outputs": [],
   "source": [
    "exgeno"
   ]
  },
  {
   "cell_type": "code",
   "execution_count": null,
   "metadata": {
    "collapsed": true
   },
   "outputs": [],
   "source": [
    "int_to_"
   ]
  },
  {
   "cell_type": "code",
   "execution_count": null,
   "metadata": {
    "collapsed": false
   },
   "outputs": [],
   "source": [
    "genolookups = np.asarray([['A', 'C', 'G', 'T', 'D', 'I'] for i in range(1478)])"
   ]
  },
  {
   "cell_type": "code",
   "execution_count": null,
   "metadata": {
    "collapsed": false
   },
   "outputs": [],
   "source": [
    "%timeit genolookups = np.asarray([['A', 'C', 'G', 'T', 'D', 'I'] for i in range(1478)])"
   ]
  },
  {
   "cell_type": "code",
   "execution_count": null,
   "metadata": {
    "collapsed": true
   },
   "outputs": [],
   "source": []
  },
  {
   "cell_type": "code",
   "execution_count": null,
   "metadata": {
    "collapsed": false
   },
   "outputs": [],
   "source": [
    "print(genolookups)"
   ]
  },
  {
   "cell_type": "code",
   "execution_count": null,
   "metadata": {
    "collapsed": true
   },
   "outputs": [],
   "source": [
    "exgeno_alpha = np.asarray(example_ind.genotype(ploidy=0))\n",
    "exgeno_beta = np.asarray(example_ind.genotype(ploidy=1))"
   ]
  },
  {
   "cell_type": "code",
   "execution_count": null,
   "metadata": {
    "collapsed": false
   },
   "outputs": [],
   "source": [
    "exgeno_alpha"
   ]
  },
  {
   "cell_type": "code",
   "execution_count": null,
   "metadata": {
    "collapsed": false
   },
   "outputs": [],
   "source": [
    "exgeno_alpha + exgeno_beta"
   ]
  },
  {
   "cell_type": "code",
   "execution_count": null,
   "metadata": {
    "collapsed": false
   },
   "outputs": [],
   "source": [
    "argenos_alpha = genolookups[range(1478), exgeno_alpha]\n",
    "argenos_beta = genolookups[range(1478), exgeno_beta]"
   ]
  },
  {
   "cell_type": "code",
   "execution_count": null,
   "metadata": {
    "collapsed": true
   },
   "outputs": [],
   "source": [
    "from numpy.core import defchararray"
   ]
  },
  {
   "cell_type": "code",
   "execution_count": null,
   "metadata": {
    "collapsed": false
   },
   "outputs": [],
   "source": [
    "genotype = defchararray.add(genolookups[range(1478), exgeno_alpha], genolookups[range(1478), exgeno_beta])"
   ]
  },
  {
   "cell_type": "code",
   "execution_count": null,
   "metadata": {
    "collapsed": false
   },
   "outputs": [],
   "source": [
    "genotype"
   ]
  },
  {
   "cell_type": "code",
   "execution_count": null,
   "metadata": {
    "collapsed": true
   },
   "outputs": [],
   "source": [
    "sorted_genotype = np.empty(1478, dtype=genotype.dtype)\n",
    "unsorted_genotype = np.empty(1478, dtype=genotype.dtype)"
   ]
  },
  {
   "cell_type": "markdown",
   "metadata": {},
   "source": [
    "### Iteration Assignment"
   ]
  },
  {
   "cell_type": "code",
   "execution_count": null,
   "metadata": {
    "collapsed": false
   },
   "outputs": [],
   "source": [
    "for i in range(1478):\n",
    "    sorted_genotype[i] = ''.join(sorted(genotype[i]))\n",
    "    unsorted_genotype[i] = genotype[i]"
   ]
  },
  {
   "cell_type": "markdown",
   "metadata": {},
   "source": [
    "### Ellipsis Simultaneous Assignment"
   ]
  },
  {
   "cell_type": "code",
   "execution_count": null,
   "metadata": {
    "collapsed": true
   },
   "outputs": [],
   "source": [
    "sorted_genotype[...] = ''.join(sorted(genotype[...]))"
   ]
  },
  {
   "cell_type": "code",
   "execution_count": null,
   "metadata": {
    "collapsed": true
   },
   "outputs": [],
   "source": []
  },
  {
   "cell_type": "code",
   "execution_count": null,
   "metadata": {
    "collapsed": false
   },
   "outputs": [],
   "source": [
    "sorted_genotype"
   ]
  },
  {
   "cell_type": "code",
   "execution_count": null,
   "metadata": {
    "collapsed": true
   },
   "outputs": [],
   "source": []
  },
  {
   "cell_type": "code",
   "execution_count": null,
   "metadata": {
    "collapsed": false
   },
   "outputs": [],
   "source": [
    "genotype"
   ]
  },
  {
   "cell_type": "code",
   "execution_count": null,
   "metadata": {
    "collapsed": false
   },
   "outputs": [],
   "source": [
    "mismatched_loci = np.where(sorted_genotype != unsorted_genotype)"
   ]
  },
  {
   "cell_type": "code",
   "execution_count": null,
   "metadata": {
    "collapsed": false
   },
   "outputs": [],
   "source": [
    "mismatched_loci"
   ]
  },
  {
   "cell_type": "code",
   "execution_count": null,
   "metadata": {
    "collapsed": false
   },
   "outputs": [],
   "source": [
    "genotype[mismatched_loci]"
   ]
  },
  {
   "cell_type": "code",
   "execution_count": null,
   "metadata": {
    "collapsed": false
   },
   "outputs": [],
   "source": [
    "sorted_genotype[mismatched_loci]"
   ]
  },
  {
   "cell_type": "code",
   "execution_count": null,
   "metadata": {
    "collapsed": false
   },
   "outputs": [],
   "source": [
    "sorted_genotype"
   ]
  },
  {
   "cell_type": "code",
   "execution_count": null,
   "metadata": {
    "collapsed": true
   },
   "outputs": [],
   "source": []
  },
  {
   "cell_type": "code",
   "execution_count": null,
   "metadata": {
    "collapsed": false
   },
   "outputs": [],
   "source": [
    "catted_genos = defchararray.add(argenos_alpha, argenos_beta)"
   ]
  },
  {
   "cell_type": "code",
   "execution_count": null,
   "metadata": {
    "collapsed": false
   },
   "outputs": [],
   "source": [
    "catted = defchararray.add(argenos_alpha, argenos_beta)"
   ]
  },
  {
   "cell_type": "code",
   "execution_count": null,
   "metadata": {
    "collapsed": false
   },
   "outputs": [],
   "source": [
    "catted"
   ]
  },
  {
   "cell_type": "code",
   "execution_count": null,
   "metadata": {
    "collapsed": false
   },
   "outputs": [],
   "source": [
    "for i in range(1478):\n",
    "    nucatted[i] = ''.join(sorted(catted[i]))"
   ]
  },
  {
   "cell_type": "code",
   "execution_count": null,
   "metadata": {
    "collapsed": false
   },
   "outputs": [],
   "source": [
    "nucatted"
   ]
  },
  {
   "cell_type": "code",
   "execution_count": null,
   "metadata": {
    "collapsed": false
   },
   "outputs": [],
   "source": [
    "catted.dtype"
   ]
  },
  {
   "cell_type": "code",
   "execution_count": null,
   "metadata": {
    "collapsed": true
   },
   "outputs": [],
   "source": [
    "nucatted = np.empty(1478, dtype=catted.dtype)"
   ]
  },
  {
   "cell_type": "code",
   "execution_count": null,
   "metadata": {
    "collapsed": false
   },
   "outputs": [],
   "source": [
    "nucatted.dtype"
   ]
  },
  {
   "cell_type": "code",
   "execution_count": null,
   "metadata": {
    "collapsed": false
   },
   "outputs": [],
   "source": []
  },
  {
   "cell_type": "code",
   "execution_count": null,
   "metadata": {
    "collapsed": true
   },
   "outputs": [],
   "source": []
  },
  {
   "cell_type": "code",
   "execution_count": null,
   "metadata": {
    "collapsed": false
   },
   "outputs": [],
   "source": [
    "example = np.asarray(list(zip(argenos_alpha, argenos_beta)))"
   ]
  },
  {
   "cell_type": "code",
   "execution_count": null,
   "metadata": {
    "collapsed": false
   },
   "outputs": [],
   "source": [
    "%timeit np.asarray(list(argenos_alpha[i] + argenos_beta[i] for i in range(1478)))"
   ]
  },
  {
   "cell_type": "code",
   "execution_count": null,
   "metadata": {
    "collapsed": false
   },
   "outputs": [],
   "source": [
    "np.add?"
   ]
  },
  {
   "cell_type": "code",
   "execution_count": null,
   "metadata": {
    "collapsed": false
   },
   "outputs": [],
   "source": [
    "from numpy.core import defchararray"
   ]
  },
  {
   "cell_type": "code",
   "execution_count": null,
   "metadata": {
    "collapsed": false
   },
   "outputs": [],
   "source": [
    "thing =  defchararray.add(argenos_alpha, argenos_beta)"
   ]
  },
  {
   "cell_type": "code",
   "execution_count": null,
   "metadata": {
    "collapsed": true
   },
   "outputs": [],
   "source": []
  },
  {
   "cell_type": "code",
   "execution_count": null,
   "metadata": {
    "collapsed": false
   },
   "outputs": [],
   "source": [
    "list(map(sorted, thing[:100]))"
   ]
  },
  {
   "cell_type": "code",
   "execution_count": null,
   "metadata": {
    "collapsed": true
   },
   "outputs": [],
   "source": [
    "genorays "
   ]
  },
  {
   "cell_type": "code",
   "execution_count": null,
   "metadata": {
    "collapsed": true
   },
   "outputs": [],
   "source": []
  },
  {
   "cell_type": "code",
   "execution_count": null,
   "metadata": {
    "collapsed": false
   },
   "outputs": [],
   "source": [
    "map(sorted, catted_strings)"
   ]
  },
  {
   "cell_type": "code",
   "execution_count": null,
   "metadata": {
    "collapsed": false
   },
   "outputs": [],
   "source": [
    "catted_strings = defchararray.add(exgeno_alpha, exgeno_beta)"
   ]
  },
  {
   "cell_type": "code",
   "execution_count": null,
   "metadata": {
    "collapsed": true
   },
   "outputs": [],
   "source": [
    "int_to_snp_conversions = {0: 'A', 1: 'C', 2: 'G', 3: 'T', 4: 'D', 5: 'I'}"
   ]
  },
  {
   "cell_type": "code",
   "execution_count": null,
   "metadata": {
    "collapsed": true
   },
   "outputs": [],
   "source": [
    "alpha_genotype = np.asarray(example_ind.genotype(ploidy=0))\n",
    "beta_genotype = np.asarray(example_ind.genotype(ploidy=1))"
   ]
  },
  {
   "cell_type": "code",
   "execution_count": null,
   "metadata": {
    "collapsed": false
   },
   "outputs": [],
   "source": [
    "%timeit [''.join(sorted(int_to_snp_conversions[a]+ int_to_snp_conversions[b])) for a, b in zip(alpha_genotype, beta_genotype)]"
   ]
  },
  {
   "cell_type": "code",
   "execution_count": null,
   "metadata": {
    "collapsed": false
   },
   "outputs": [],
   "source": [
    "%timeit np.asarray(example_ind.genotype(ploidy=0))"
   ]
  },
  {
   "cell_type": "code",
   "execution_count": null,
   "metadata": {
    "collapsed": false
   },
   "outputs": [],
   "source": [
    "analyze.store_allele_effect_frequency_tables(meta_population, alleles, \n",
    "                                             qtl,\n",
    "                                             exponential_allele_effects,\n",
    "                                            run_id, 'exponential')"
   ]
  },
  {
   "cell_type": "code",
   "execution_count": null,
   "metadata": {
    "collapsed": true
   },
   "outputs": [],
   "source": [
    "loci_conversions = shelve.open(run_id+'_loci_conversions')\n",
    "saegus_to_tassel_loci = {}\n",
    "tassel_to_saegus_loci = {}\n",
    "for idx, locus in enumerate(concordant_segregating_loci):\n",
    "    saegus_to_tassel_loci[locus] = idx\n",
    "    tassel_to_saegus_loci[idx] = locus\n",
    "loci_conversions['saegus_to_tassel'] = saegus_to_tassel_loci\n",
    "loci_conversions['tassel_to_saegus'] = tassel_to_saegus_loci\n",
    "loci_conversions.close()"
   ]
  },
  {
   "cell_type": "code",
   "execution_count": null,
   "metadata": {
    "collapsed": true
   },
   "outputs": [],
   "source": [
    "seg_loc_storage = shelve.open('segregating_loci_storage')\n",
    "seg_loc_storage['bacchus'] = concordant_segregating_loci\n",
    "seg_loc_storage.close()"
   ]
  },
  {
   "cell_type": "code",
   "execution_count": null,
   "metadata": {
    "collapsed": true
   },
   "outputs": [],
   "source": [
    "int_to_snp = {0: 'A', 1: 'C', 2: 'G', 3: 'T', 4: '-', 5: '+'}\n",
    "snp_to_int = {'A': 0, 'C': 1, '-': 4, 'G': 2, '+': 5, 'T': 3}\n",
    "conv = shelve.open('synthesis_parameters')\n",
    "conv['integer_to_snp'] = int_to_snp\n",
    "conv['snp_to_integer'] = snp_to_int\n",
    "conv.close()"
   ]
  },
  {
   "cell_type": "code",
   "execution_count": null,
   "metadata": {
    "collapsed": false
   },
   "outputs": [],
   "source": [
    "exponential_allele_effects_table = analyze.generate_allele_effects_table(qtl, alleles, \n",
    "                                                exponential_allele_effects, saegus_to_tassel_loci)"
   ]
  },
  {
   "cell_type": "code",
   "execution_count": null,
   "metadata": {
    "collapsed": false
   },
   "outputs": [],
   "source": [
    "exponential_allele_effects_table"
   ]
  },
  {
   "cell_type": "code",
   "execution_count": null,
   "metadata": {
    "collapsed": false
   },
   "outputs": [],
   "source": [
    "import importlib as imp\n",
    "imp.reload(analyze)"
   ]
  },
  {
   "cell_type": "code",
   "execution_count": null,
   "metadata": {
    "collapsed": false
   },
   "outputs": [],
   "source": [
    "analyze.remap_allele_frequency_table_loci(analyze.reload_allele_frequencies_table(run_id, 0, 250, 'exponential'), concordant_segregating_loci)"
   ]
  },
  {
   "cell_type": "code",
   "execution_count": null,
   "metadata": {
    "collapsed": false
   },
   "outputs": [],
   "source": [
    "analyze.write_multiple_sample_analyzer(sample_library, sample_sizes, qtl, alleles, \n",
    "                                       exponential_allele_effects, 0.7,  concordant_segregating_loci, \n",
    "                                       run_id=run_id, sub_run_id='_exponential', \n",
    "                                       allele_frequency_hdf=run_id+'_allele_frequency_storage.h5')"
   ]
  },
  {
   "cell_type": "code",
   "execution_count": null,
   "metadata": {
    "collapsed": true
   },
   "outputs": [],
   "source": [
    "example_pop = meta_populations[0][0]"
   ]
  },
  {
   "cell_type": "code",
   "execution_count": null,
   "metadata": {
    "collapsed": false
   },
   "outputs": [],
   "source": [
    "int(max(example_pop.indInfo('generation')))"
   ]
  },
  {
   "cell_type": "code",
   "execution_count": null,
   "metadata": {
    "collapsed": true
   },
   "outputs": [],
   "source": [
    "def multiple_sample_analyzer(meta_population_library,\n",
    "                            qtl,\n",
    "                             allele_effects,\n",
    "                            minor_alleles,\n",
    "                             loci):\n",
    "    for rep_id, sample_list in meta_population_library.items():\n",
    "        for sample in sample_list:\n",
    "            gen_id = int(max(sample.indInfo('generation')))\n",
    "            name = '_'.join(['bia', str(rep_id), str(gen_id)])\n",
    "            print(name)"
   ]
  },
  {
   "cell_type": "code",
   "execution_count": null,
   "metadata": {
    "collapsed": false
   },
   "outputs": [],
   "source": [
    "minor_alleles"
   ]
  },
  {
   "cell_type": "code",
   "execution_count": null,
   "metadata": {
    "collapsed": false
   },
   "outputs": [],
   "source": [
    "multiple_sample_analyzer(meta_populations, qtl, \n",
    "                         allele_effects,\n",
    "                         minor_alleles,\n",
    "                         concordant_segregating_loci)"
   ]
  },
  {
   "cell_type": "code",
   "execution_count": null,
   "metadata": {
    "collapsed": true
   },
   "outputs": [],
   "source": [
    "af"
   ]
  },
  {
   "cell_type": "code",
   "execution_count": null,
   "metadata": {
    "collapsed": false
   },
   "outputs": [],
   "source": [
    "input_dir = os.path.join('C', 'tassel', 'input')"
   ]
  },
  {
   "cell_type": "code",
   "execution_count": null,
   "metadata": {
    "collapsed": true
   },
   "outputs": [],
   "source": [
    "structure_file_name = '_'.join(['bia', '0', '0', 'structure_matrix.txt'])"
   ]
  },
  {
   "cell_type": "code",
   "execution_count": null,
   "metadata": {
    "collapsed": false
   },
   "outputs": [],
   "source": [
    "os.path.join('C', 'tassel', 'input', '_'.join(['bia', '0', '0', 'simulated_hapmap.txt']))"
   ]
  },
  {
   "cell_type": "code",
   "execution_count": null,
   "metadata": {
    "collapsed": true
   },
   "outputs": [],
   "source": [
    "kinship_file_name = '_'.join(['bia', '0', '0', 'kinship_matrix.txt'])"
   ]
  },
  {
   "cell_type": "code",
   "execution_count": null,
   "metadata": {
    "collapsed": false
   },
   "outputs": [],
   "source": [
    "os.path.join('C:\\\\tassel\\\\input', '_'.join(['bia', '0', '0', 'simulated_hapmap.txt']))"
   ]
  },
  {
   "cell_type": "code",
   "execution_count": null,
   "metadata": {
    "collapsed": true
   },
   "outputs": [],
   "source": [
    "file_out_path = os.path.join('C', 'tassel', 'input', file_out_name)"
   ]
  },
  {
   "cell_type": "code",
   "execution_count": null,
   "metadata": {
    "collapsed": false
   },
   "outputs": [],
   "source": [
    "file_out_path"
   ]
  },
  {
   "cell_type": "code",
   "execution_count": null,
   "metadata": {
    "collapsed": false
   },
   "outputs": [],
   "source": [
    "def multiple_sample_analyzer(meta_population_library,\n",
    "                            qtl,\n",
    "                             allele_effects,\n",
    "                            minor_alleles,\n",
    "                             loci):\n",
    "    int_to_snp_map = {0: 'A', 1: 'C', 2: 'G', 3: 'T', 4: 'D', 5: 'I'}\n",
    "    indir = \"C:\\\\tassel\\\\input\"\n",
    "    \n",
    "    minor_allele_frequency_file = h5py.File('bia_allele_frequencies.hdf5')\n",
    "    \n",
    "    for rep_id, sample_list in meta_population_library.items():\n",
    "        for sample in sample_list:\n",
    "            gen_id_name = str(int(max(sample.indInfo('generation'))))\n",
    "            rep_id_name = str(rep_id)\n",
    "            \n",
    "            name = 'bia'+'_'+rep_id_name+'_'+gen_id_name\n",
    "            \n",
    "            file_out_name = '_'.join(['bia', rep_id_name, gen_id_name])\n",
    "            \n",
    "            af_access_name = '/'.join(['af', rep_id_name, gen_id_name])\n",
    "            minor_allele_frequencies = minor_allele_frequency_file[af_access_name][list(loci)]\n",
    "            gwas = analyze.GWAS(sample, concordant_segregating_loci, 'bia')\n",
    "            \n",
    "            strut_matrix_file_name = os.path.join(input_dir, '_'.join(['bia', rep_id_name, gen_id_name, 'structure_matrix.txt']))\n",
    "            hapmap_file_name = os.path.join(input_dir, '_'.join(['bia', rep_id_name, gen_id_name, 'simulated_hapmap.txt']))\n",
    "            trait_file_name = os.path.join(input_dir, '_'.join(['bia', rep_id_name, gen_id_name, 'phenotype_vector.txt']))\n",
    "            kinship_file_name = os.path.join(input_dir, '_'.join(['bia', rep_id_name, gen_id_name, 'kinship_matrix.txt']))\n",
    "            \n",
    "            ccm = gwas.calculate_count_matrix(minor_alleles)\n",
    "            ps_svd = gwas.pop_struct_svd(ccm)\n",
    "            gwas.hapmap_formatter(int_to_snp_map, input_dir)\n",
    "            gwas.trait_formatter(trait_file_name)\n",
    "            gwas.calc_kinship_matrix(ccm, minor_allele_frequencies, kinship_file_name)\n",
    "            gwas.population_structure_formatter(ps_svd, struct_matrix_file_name)\n",
    "            \n",
    "            gwas.replicate_tassel_gwas_configs(rep_id_name, gen_id_name,\n",
    "                                              hapmap_file_name,\n",
    "                                              kinship_file_name,\n",
    "                                              trait_file_name,\n",
    "                                              struct_matrix_file_name,\n",
    "                                              'C:\\\\tassel\\\\output\\\\bia_'+rep_id_name+'_'+gen_id_name+'_out_',\n",
    "                                            \"C:\\\\Users\\DoubleDanks\\\\BISB\\\\wisser\\\\code\\\\rjwlab-scripts\\\\\"\n",
    "                                              \"saegus_project\\\\devel\\\\magic\\\\1478\\\\gwas_pipeline.xml\")\n",
    "    \n",
    "    minor_allele_frequency_file.close()"
   ]
  },
  {
   "cell_type": "code",
   "execution_count": null,
   "metadata": {
    "collapsed": false
   },
   "outputs": [],
   "source": [
    "multiple_sample_analyzer(meta_populations, qtl, allele_effects, minor_alleles, concordant_segregating_loci)"
   ]
  },
  {
   "cell_type": "code",
   "execution_count": null,
   "metadata": {
    "collapsed": true
   },
   "outputs": [],
   "source": [
    "import h5py"
   ]
  },
  {
   "cell_type": "code",
   "execution_count": null,
   "metadata": {
    "collapsed": true
   },
   "outputs": [],
   "source": [
    "with h5py.File('bia_allele_frequencies.hdf5') as biaf:\n",
    "    reloaded_af = np.array(biaf[afname])"
   ]
  },
  {
   "cell_type": "code",
   "execution_count": null,
   "metadata": {
    "collapsed": false
   },
   "outputs": [],
   "source": [
    "fisegloc = list(concordant_segregating_loci)"
   ]
  },
  {
   "cell_type": "code",
   "execution_count": null,
   "metadata": {
    "collapsed": false
   },
   "outputs": [],
   "source": [
    "minor_allele_frequencies = reloaded_af[fisegloc]"
   ]
  },
  {
   "cell_type": "code",
   "execution_count": null,
   "metadata": {
    "collapsed": true
   },
   "outputs": [],
   "source": [
    "def write_super_tables(power_and_fpr_raw_data, sample_sizes, number_of_replicates, run_id, sub_run_id=''):\n",
    "    for size in sample_sizes:\n",
    "        for rep in range(number_of_replicates):\n",
    "            name = run_id + '_' + sub_run_id + '_' + str(rep) + '_' + str(size) + '_super_table.txt'\n",
    "            power_and_fpr_raw_data[size][rep].to_csv(name, sep='\\t')"
   ]
  },
  {
   "cell_type": "code",
   "execution_count": null,
   "metadata": {
    "collapsed": true
   },
   "outputs": [],
   "source": []
  },
  {
   "cell_type": "code",
   "execution_count": null,
   "metadata": {
    "collapsed": true
   },
   "outputs": [],
   "source": []
  },
  {
   "cell_type": "code",
   "execution_count": null,
   "metadata": {
    "collapsed": false
   },
   "outputs": [],
   "source": [
    "cd C:\\tassel\\output"
   ]
  },
  {
   "cell_type": "code",
   "execution_count": null,
   "metadata": {
    "collapsed": false
   },
   "outputs": [],
   "source": [
    "expo_power_fpr_raw_data = analyze.collect_power_analysis_data(run_id, sample_sizes, number_of_replicates, concordant_segregating_loci, 'exponential')"
   ]
  },
  {
   "cell_type": "code",
   "execution_count": null,
   "metadata": {
    "collapsed": true
   },
   "outputs": [],
   "source": [
    "expo_power_fpr_raw_data[250]"
   ]
  },
  {
   "cell_type": "code",
   "execution_count": null,
   "metadata": {
    "collapsed": false
   },
   "outputs": [],
   "source": [
    "write_super_tables(expo_power_fpr_raw_data,\n",
    "                  sample_sizes,\n",
    "                  number_of_replicates,\n",
    "                  'bacchus',\n",
    "                  sub_run_id='exponential')"
   ]
  },
  {
   "cell_type": "code",
   "execution_count": null,
   "metadata": {
    "collapsed": false
   },
   "outputs": [],
   "source": [
    "expo_results, expo_true_positives, expo_false_positives = study.calculate_power_fpr(expo_power_fpr_raw_data, sample_sizes, \n",
    "                                                                             number_of_replicates, number_of_qtl)"
   ]
  },
  {
   "cell_type": "code",
   "execution_count": null,
   "metadata": {
    "collapsed": false
   },
   "outputs": [],
   "source": [
    "expo_results"
   ]
  },
  {
   "cell_type": "code",
   "execution_count": null,
   "metadata": {
    "collapsed": false
   },
   "outputs": [],
   "source": [
    "mean_and_stdev = pd.DataFrame([expo_results.mean(), expo_results.std()], index=['mean', 'stdev']).T\n",
    "mean_and_stdev.to_csv('bacchus_exponential_mean_and_stdev_power_fpr.csv', sep='\\t')"
   ]
  },
  {
   "cell_type": "code",
   "execution_count": null,
   "metadata": {
    "collapsed": false
   },
   "outputs": [],
   "source": [
    "geo_results"
   ]
  },
  {
   "cell_type": "code",
   "execution_count": null,
   "metadata": {
    "collapsed": false
   },
   "outputs": [],
   "source": [
    "geometric_allele_effects_table"
   ]
  },
  {
   "cell_type": "code",
   "execution_count": null,
   "metadata": {
    "collapsed": false
   },
   "outputs": [],
   "source": [
    "exponential_allele_effects_table"
   ]
  },
  {
   "cell_type": "code",
   "execution_count": null,
   "metadata": {
    "collapsed": false
   },
   "outputs": [],
   "source": [
    "expo_results.to_csv(\"bacchus_exponential_power_fpr_results.txt\", sep='\\t')"
   ]
  },
  {
   "cell_type": "code",
   "execution_count": null,
   "metadata": {
    "collapsed": true
   },
   "outputs": [],
   "source": [
    "mean_and_stdev = pd.DataFrame([geo_results.mean(), geo_results.std()], index=['mean', 'stdev']).T\n",
    "mean_and_stdev.to_csv('full_icecrown_geometric_mean_and_stdev_power_fpr.txt', sep='\\t')"
   ]
  },
  {
   "cell_type": "code",
   "execution_count": null,
   "metadata": {
    "collapsed": false
   },
   "outputs": [],
   "source": [
    "expo_results, expo_true_positives, expo_false_positives = full_icecrown.calculate_power_fpr(expo_power_fpr_raw_data,\n",
    "                                                                                      sample_sizes,\n",
    "                                                                                      number_of_replicates,\n",
    "                                                                                      number_of_qtl)"
   ]
  },
  {
   "cell_type": "code",
   "execution_count": null,
   "metadata": {
    "collapsed": true
   },
   "outputs": [],
   "source": []
  },
  {
   "cell_type": "code",
   "execution_count": null,
   "metadata": {
    "collapsed": false
   },
   "outputs": [],
   "source": [
    "expo_results"
   ]
  },
  {
   "cell_type": "code",
   "execution_count": null,
   "metadata": {
    "collapsed": true
   },
   "outputs": [],
   "source": [
    "expo_results.to_csv('full_icecrown_exponential_power_fpr_results.txt', sep='\\t')"
   ]
  },
  {
   "cell_type": "code",
   "execution_count": null,
   "metadata": {
    "collapsed": true
   },
   "outputs": [],
   "source": [
    "mean_and_stdev = pd.DataFrame([expo_results.mean(), expo_results.std()], index=['mean', 'stdev']).T\n",
    "mean_and_stdev.to_csv('full_icecrown_exponential_mean_and_stdev_power_fpr.txt', sep='\\t')"
   ]
  },
  {
   "cell_type": "code",
   "execution_count": null,
   "metadata": {
    "collapsed": true
   },
   "outputs": [],
   "source": [
    "write_super_tables(expo_power_fpr_raw_data, sample_sizes, number_of_replicates, run_id, 'exponential')"
   ]
  },
  {
   "cell_type": "code",
   "execution_count": null,
   "metadata": {
    "collapsed": true
   },
   "outputs": [],
   "source": []
  },
  {
   "cell_type": "code",
   "execution_count": null,
   "metadata": {
    "collapsed": true
   },
   "outputs": [],
   "source": [
    "geo_aggregate_estimated_actual = pd.DataFrame([np.array(geo_agg_estimated), np.array(geo_agg_actual)], index=['estimated', 'actual']).T"
   ]
  },
  {
   "cell_type": "code",
   "execution_count": null,
   "metadata": {
    "collapsed": false
   },
   "outputs": [],
   "source": [
    "geo_aggregate_estimated_actual['estimated'] = geo_aggregate_estimated_actual['estimated'].apply(np.fabs)"
   ]
  },
  {
   "cell_type": "code",
   "execution_count": null,
   "metadata": {
    "collapsed": true
   },
   "outputs": [],
   "source": [
    "geo_aggregate_estimated_actual"
   ]
  },
  {
   "cell_type": "code",
   "execution_count": null,
   "metadata": {
    "collapsed": true
   },
   "outputs": [],
   "source": [
    "geo_corr = geo_aggregate_estimated_actual['estimated'].corr(geo_aggregate_estimated_actual['actual'])"
   ]
  },
  {
   "cell_type": "code",
   "execution_count": null,
   "metadata": {
    "collapsed": true
   },
   "outputs": [],
   "source": [
    "geo_agg_estimated"
   ]
  },
  {
   "cell_type": "code",
   "execution_count": null,
   "metadata": {
    "collapsed": true
   },
   "outputs": [],
   "source": []
  },
  {
   "cell_type": "code",
   "execution_count": null,
   "metadata": {
    "collapsed": true
   },
   "outputs": [],
   "source": [
    "aggregate_estimated_actual"
   ]
  },
  {
   "cell_type": "code",
   "execution_count": null,
   "metadata": {
    "collapsed": false
   },
   "outputs": [],
   "source": [
    "geo_corr"
   ]
  },
  {
   "cell_type": "code",
   "execution_count": null,
   "metadata": {
    "collapsed": false
   },
   "outputs": [],
   "source": [
    "pwd"
   ]
  },
  {
   "cell_type": "code",
   "execution_count": null,
   "metadata": {
    "collapsed": true
   },
   "outputs": [],
   "source": [
    "geo_aggregate_estimated_actual.to_csv('full_icecrown_geometric_estimated_vs_actual_allele_effects.txt', sep='\\t')"
   ]
  },
  {
   "cell_type": "code",
   "execution_count": null,
   "metadata": {
    "collapsed": true
   },
   "outputs": [],
   "source": []
  },
  {
   "cell_type": "code",
   "execution_count": null,
   "metadata": {
    "collapsed": true
   },
   "outputs": [],
   "source": [
    "agg_estimated = []\n",
    "agg_actual = []"
   ]
  },
  {
   "cell_type": "code",
   "execution_count": null,
   "metadata": {
    "collapsed": false
   },
   "outputs": [],
   "source": [
    "for rep in reps:\n",
    "    for size in sample_sizes:\n",
    "        sutable = sutable_collection[rep][size]\n",
    "        droppable = list(sutable.ix[sutable.ix[:, 'difference'] == 0.0].index)\n",
    "        qtloci = sutable.drop(droppable, axis=0)\n",
    "        agg_estimated.extend(list(qtloci['add_effect']))\n",
    "        agg_actual.extend(list(qtloci['difference']))"
   ]
  },
  {
   "cell_type": "code",
   "execution_count": null,
   "metadata": {
    "collapsed": false
   },
   "outputs": [],
   "source": [
    "aggregate_estimated_actual = pd.DataFrame([np.array(agg_estimated), np.array(agg_actual)], index=['estimated', 'actual']).T"
   ]
  },
  {
   "cell_type": "code",
   "execution_count": null,
   "metadata": {
    "collapsed": true
   },
   "outputs": [],
   "source": [
    "aggregate_estimated_actual['estimated'] = np.fabs(aggregate_estimated_actual['estimated'])"
   ]
  },
  {
   "cell_type": "code",
   "execution_count": null,
   "metadata": {
    "collapsed": true
   },
   "outputs": [],
   "source": [
    "aggregate_estimated_actual"
   ]
  },
  {
   "cell_type": "code",
   "execution_count": null,
   "metadata": {
    "collapsed": false
   },
   "outputs": [],
   "source": [
    "correlation_actual_vs_effects = aggregate_estimated_actual['estimated'].corr(aggregate_estimated_actual['actual'])"
   ]
  },
  {
   "cell_type": "code",
   "execution_count": null,
   "metadata": {
    "collapsed": true
   },
   "outputs": [],
   "source": [
    "aggregate_estimated_actual.to_csv('full_icecrown_exponential_estimated_vs_actual_allele_effects.txt', sep='\\t')"
   ]
  },
  {
   "cell_type": "code",
   "execution_count": null,
   "metadata": {
    "collapsed": false
   },
   "outputs": [],
   "source": [
    "aggregate_estimated_actual['estimated'] = np.fabs(aggregate_estimated_actual['estimated'])"
   ]
  },
  {
   "cell_type": "code",
   "execution_count": null,
   "metadata": {
    "collapsed": false
   },
   "outputs": [],
   "source": [
    "cd C:\\tassel\\output\\full_icecrown\\exponential"
   ]
  },
  {
   "cell_type": "code",
   "execution_count": null,
   "metadata": {
    "collapsed": false
   },
   "outputs": [],
   "source": [
    "expo_estimated_actual = pd.read_csv('full_icecrown_exponential_estimated_vs_actual_allele_effects.txt', sep='\\t', index_col=0)"
   ]
  },
  {
   "cell_type": "code",
   "execution_count": null,
   "metadata": {
    "collapsed": false
   },
   "outputs": [],
   "source": [
    "expo_estimated_actual"
   ]
  },
  {
   "cell_type": "code",
   "execution_count": null,
   "metadata": {
    "collapsed": false
   },
   "outputs": [],
   "source": [
    "aggregate_estimated_actual"
   ]
  },
  {
   "cell_type": "code",
   "execution_count": null,
   "metadata": {
    "collapsed": true
   },
   "outputs": [],
   "source": [
    ", from bokeh.plotting import figure, show, output_file\n",
    "from bokeh.io import output_notebook"
   ]
  },
  {
   "cell_type": "code",
   "execution_count": null,
   "metadata": {
    "collapsed": false
   },
   "outputs": [],
   "source": [
    "output_notebook()"
   ]
  },
  {
   "cell_type": "code",
   "execution_count": null,
   "metadata": {
    "collapsed": true
   },
   "outputs": [],
   "source": [
    "aggregate_estimated_actual"
   ]
  },
  {
   "cell_type": "code",
   "execution_count": null,
   "metadata": {
    "collapsed": true
   },
   "outputs": [],
   "source": [
    "geo_x = aggregate_estimated_actual['estimated']\n",
    "geo_y = aggregate_estimated_actual['actual']"
   ]
  },
  {
   "cell_type": "code",
   "execution_count": null,
   "metadata": {
    "collapsed": false
   },
   "outputs": [],
   "source": [
    "p = figure(title=\"Estimated vs Actual Allele Effects - Geometric Series\", \n",
    "           title_text_font_size=\"16\",\n",
    "          x_range=(-0.2, 4))"
   ]
  },
  {
   "cell_type": "code",
   "execution_count": null,
   "metadata": {
    "collapsed": false
   },
   "outputs": [],
   "source": [
    "p.scatter(geo_x, y, x=\"Estimated\", y=\"Actual\")\n",
    "\n",
    "p.xaxis.axis_label = \"Estimated\"\n",
    "p.yaxis.axis_label = \"Actual\""
   ]
  },
  {
   "cell_type": "code",
   "execution_count": null,
   "metadata": {
    "collapsed": false
   },
   "outputs": [],
   "source": [
    "show(p)"
   ]
  },
  {
   "cell_type": "code",
   "execution_count": null,
   "metadata": {
    "collapsed": true
   },
   "outputs": [],
   "source": [
    "expo"
   ]
  },
  {
   "cell_type": "code",
   "execution_count": null,
   "metadata": {
    "collapsed": true
   },
   "outputs": [],
   "source": [
    "p = figure(title=\"Estimated vs Actual Allele Effects - Geometric Series\", title_text_font_size=\"16\")"
   ]
  },
  {
   "cell_type": "code",
   "execution_count": null,
   "metadata": {
    "collapsed": false
   },
   "outputs": [],
   "source": [
    "expo_plot = figure(title=\"Estimated vs Actual Effects - Exponential(lambda=1)\", \n",
    "                   title_text_font_size=\"16\", \n",
    "                  x_range=(0, 4))\n",
    "\n",
    "x = np.array(expo_estimated_actual['estimated'])\n",
    "y = np.array(expo_estimated_actual['actual'])\n",
    "\n",
    "expo_plot.xaxis.axis_label = \"Estimated\"\n",
    "expo_plot.yaxis.axis_label = \"Actual\""
   ]
  },
  {
   "cell_type": "code",
   "execution_count": null,
   "metadata": {
    "collapsed": false
   },
   "outputs": [],
   "source": [
    "expo_plot.scatter(x, y)"
   ]
  },
  {
   "cell_type": "code",
   "execution_count": null,
   "metadata": {
    "collapsed": false
   },
   "outputs": [],
   "source": [
    "show(expo_plot)"
   ]
  },
  {
   "cell_type": "code",
   "execution_count": null,
   "metadata": {
    "collapsed": true
   },
   "outputs": [],
   "source": [
    "from bokeh.io import hplot"
   ]
  },
  {
   "cell_type": "code",
   "execution_count": null,
   "metadata": {
    "collapsed": false
   },
   "outputs": [],
   "source": [
    "geo_plot = figure(title=\"Estimated vs Actual Allele Effects - Geometric Series\", \n",
    "           title_text_font_size=\"16\",\n",
    "          x_range=(0, 4), y_range=(0, 4))"
   ]
  },
  {
   "cell_type": "code",
   "execution_count": null,
   "metadata": {
    "collapsed": true
   },
   "outputs": [],
   "source": [
    "geo_x = aggregate_estimated_actual['actual']\n",
    "geo_y = aggregate_estimated_actual['estimated']"
   ]
  },
  {
   "cell_type": "code",
   "execution_count": null,
   "metadata": {
    "collapsed": false
   },
   "outputs": [],
   "source": [
    "geo_plot.xaxis.axis_label = \"Actual\"\n",
    "geo_plot.yaxis.axis_label = \"Estimated\"\n",
    "geo_plot.scatter(geo_x, geo_y, x=\"Actual\", y=\"Estimated\")"
   ]
  },
  {
   "cell_type": "code",
   "execution_count": null,
   "metadata": {
    "collapsed": false
   },
   "outputs": [],
   "source": [
    "expo_plot = figure(title=\"Estimated vs Actual Effects - Exponential(lambda=1)\", \n",
    "                   title_text_font_size=\"16\", \n",
    "                  x_range=(0, 4), y_range=(0, 4))\n",
    "\n",
    "expo_x = np.array(expo_estimated_actual['actual'])\n",
    "expo_y = np.array(expo_estimated_actual['estimated'])\n",
    "\n",
    "expo_plot.xaxis.axis_label = \"Actual\"\n",
    "expo_plot.yaxis.axis_label = \"Estimated\"\n",
    "expo_plot.scatter(expo_x, expo_y)"
   ]
  },
  {
   "cell_type": "code",
   "execution_count": null,
   "metadata": {
    "collapsed": false
   },
   "outputs": [],
   "source": [
    "multi_plot = hplot(geo_plot, expo_plot)\n",
    "show(multi_plot)"
   ]
  },
  {
   "cell_type": "code",
   "execution_count": null,
   "metadata": {
    "collapsed": true
   },
   "outputs": [],
   "source": [
    "output_file(\"multi_plot.png\")"
   ]
  },
  {
   "cell_type": "code",
   "execution_count": null,
   "metadata": {
    "collapsed": false
   },
   "outputs": [],
   "source": [
    "ls"
   ]
  },
  {
   "cell_type": "code",
   "execution_count": null,
   "metadata": {
    "collapsed": true
   },
   "outputs": [],
   "source": []
  }
 ],
 "metadata": {
  "kernelspec": {
   "display_name": "Python 3",
   "language": "python",
   "name": "python3"
  },
  "language_info": {
   "codemirror_mode": {
    "name": "ipython",
    "version": 3
   },
   "file_extension": ".py",
   "mimetype": "text/x-python",
   "name": "python",
   "nbconvert_exporter": "python",
   "pygments_lexer": "ipython3",
   "version": "3.5.2"
  }
 },
 "nbformat": 4,
 "nbformat_minor": 0
}
