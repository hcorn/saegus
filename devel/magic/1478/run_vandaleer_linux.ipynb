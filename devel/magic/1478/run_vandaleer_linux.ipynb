{
 "cells": [
  {
   "cell_type": "code",
   "execution_count": 1,
   "metadata": {
    "collapsed": true
   },
   "outputs": [],
   "source": [
    "import simuOpt\n",
    "simuOpt.setOptions(alleleType='short', numThreads=4, quiet=True)\n",
    "import simuPOP as sim\n",
    "import pandas as pd\n",
    "from saegus import breed, operators, simulate, analyze, parse, parameters\n",
    "import shelve\n",
    "import numpy as np\n",
    "import random\n",
    "import collections as col\n",
    "np.set_printoptions(suppress=True, precision=3)"
   ]
  },
  {
   "cell_type": "code",
   "execution_count": 2,
   "metadata": {
    "collapsed": true
   },
   "outputs": [],
   "source": [
    "run_id='vandaleer'\n",
    "sample_sizes=[250, 500]\n",
    "number_of_qtl = 10\n",
    "number_of_replicates = 5\n",
    "founders = [[2, 26], [3, 25], [4, 24], [5, 23]]\n",
    "os_per_pair = 500\n",
    "recombination_rates = [0.01]*1478"
   ]
  },
  {
   "cell_type": "code",
   "execution_count": 3,
   "metadata": {},
   "outputs": [
    {
     "data": {
      "text/plain": [
       "(1, 1, 1, 1, 1)"
      ]
     },
     "execution_count": 3,
     "metadata": {},
     "output_type": "execute_result"
    }
   ],
   "source": [
    "prefounders = sim.loadPopulation('prefounders1478.pop')\n",
    "prefounders.addInfoFields('generation')\n",
    "multi_prefounders = sim.Simulator(prefounders, number_of_replicates, stealPops=False)\n",
    "magic = breed.MAGIC(multi_prefounders, founders, recombination_rates)\n",
    "sim.tagID(prefounders, reset=27)\n",
    "magic.generate_f_one(founders, os_per_pair)\n",
    "mrc = breed.MultiRandomCross(multi_prefounders, 4, os_per_pair)\n",
    "mother_choices, father_choices = mrc.determine_random_cross()\n",
    "multi_snd_ord_chooser = breed.MultiSecondOrderPairIDChooser(mother_choices, father_choices)\n",
    "multi_prefounders.evolve(\n",
    "    matingScheme=sim.HomoMating(\n",
    "        sim.PyParentsChooser(multi_snd_ord_chooser.snd_ord_id_pairs),\n",
    "        sim.OffspringGenerator(ops=[\n",
    "            sim.IdTagger(),\n",
    "            sim.PedigreeTagger(),\n",
    "            sim.Recombinator(rates=0.01)\n",
    "        ],\n",
    "            numOffspring=1),\n",
    "        subPopSize=[2000],\n",
    "    ),\n",
    "    gen=1,\n",
    ")\n",
    "final_mrc = breed.MultiRandomCross(multi_prefounders, 2, 1000)\n",
    "final_mothers, final_fathers = final_mrc.determine_random_cross()\n",
    "final_multi_snd_ord_chooser = breed.MultiSecondOrderPairIDChooser(final_mothers, final_fathers)\n",
    "multi_prefounders.evolve(\n",
    "    matingScheme=sim.HomoMating(\n",
    "        sim.PyParentsChooser(final_multi_snd_ord_chooser.snd_ord_id_pairs),\n",
    "        sim.OffspringGenerator(ops=[\n",
    "            sim.IdTagger(),\n",
    "            sim.PedigreeTagger(),\n",
    "            sim.Recombinator(rates=0.01)\n",
    "        ],\n",
    "            numOffspring=1),\n",
    "        subPopSize=[2000],\n",
    "    ),\n",
    "    gen=1,\n",
    ")"
   ]
  },
  {
   "cell_type": "code",
   "execution_count": 4,
   "metadata": {
    "collapsed": true
   },
   "outputs": [],
   "source": [
    "study = analyze.Study(run_id)"
   ]
  },
  {
   "cell_type": "code",
   "execution_count": 5,
   "metadata": {
    "collapsed": true
   },
   "outputs": [],
   "source": [
    "sample_library = study.collect_samples(multi_prefounders, sample_sizes)"
   ]
  },
  {
   "cell_type": "code",
   "execution_count": 6,
   "metadata": {},
   "outputs": [],
   "source": [
    "alleles = np.array(pd.read_hdf('parameters/alleles_at_1478_loci.hdf'))"
   ]
  },
  {
   "cell_type": "code",
   "execution_count": 7,
   "metadata": {
    "collapsed": true
   },
   "outputs": [],
   "source": [
    "for rep, sample_list in sample_library.items():\n",
    "    for sample in sample_list:\n",
    "        sim.stat(sample, alleleFreq=sim.ALL_AVAIL)"
   ]
  },
  {
   "cell_type": "code",
   "execution_count": 8,
   "metadata": {
    "collapsed": true
   },
   "outputs": [],
   "source": [
    "study.store_allele_frequencies(sample_library, alleles)"
   ]
  },
  {
   "cell_type": "code",
   "execution_count": 9,
   "metadata": {
    "collapsed": true
   },
   "outputs": [],
   "source": [
    "sets_of_segregating_loci = study.seg_loci_among_samples(sample_library)"
   ]
  },
  {
   "cell_type": "code",
   "execution_count": 10,
   "metadata": {
    "collapsed": true
   },
   "outputs": [],
   "source": [
    "concordant_segregating_loci = list(sets_of_segregating_loci.keys())[0]"
   ]
  },
  {
   "cell_type": "code",
   "execution_count": 11,
   "metadata": {
    "collapsed": true
   },
   "outputs": [],
   "source": [
    "qtl = tuple(sorted(random.sample(concordant_segregating_loci, number_of_qtl)))"
   ]
  },
  {
   "cell_type": "code",
   "execution_count": 12,
   "metadata": {
    "collapsed": true
   },
   "outputs": [],
   "source": [
    "add_trait = parameters.Trait()"
   ]
  },
  {
   "cell_type": "code",
   "execution_count": 13,
   "metadata": {
    "collapsed": true
   },
   "outputs": [],
   "source": [
    "exponential_allele_effects = add_trait.assign_allele_effects(alleles, qtl, np.random.exponential, 1)"
   ]
  },
  {
   "cell_type": "code",
   "execution_count": 14,
   "metadata": {
    "collapsed": true
   },
   "outputs": [],
   "source": [
    "seg_loc_storage = shelve.open('segregating_loci_storage')\n",
    "seg_loc_storage[run_id] = concordant_segregating_loci\n",
    "seg_loc_storage.close()"
   ]
  },
  {
   "cell_type": "code",
   "execution_count": 15,
   "metadata": {
    "collapsed": true
   },
   "outputs": [],
   "source": [
    "droppable_loci = [droppable for droppable in range(1478) if droppable not in concordant_segregating_loci]\n"
   ]
  },
  {
   "cell_type": "code",
   "execution_count": 16,
   "metadata": {
    "collapsed": true
   },
   "outputs": [],
   "source": [
    "analyze.store_allele_effect_frequency_tables(sample_library, alleles, \n",
    "                                             qtl,\n",
    "                                             exponential_allele_effects,\n",
    "                                            run_id, 'exponential')"
   ]
  },
  {
   "cell_type": "code",
   "execution_count": 17,
   "metadata": {
    "collapsed": true
   },
   "outputs": [],
   "source": [
    "loci_conversions = shelve.open(run_id+'_loci_conversions')\n",
    "saegus_to_tassel_loci = {}\n",
    "tassel_to_saegus_loci = {}\n",
    "for idx, locus in enumerate(concordant_segregating_loci):\n",
    "    saegus_to_tassel_loci[locus] = idx\n",
    "    tassel_to_saegus_loci[idx] = locus\n",
    "loci_conversions['saegus_to_tassel'] = saegus_to_tassel_loci\n",
    "loci_conversions['tassel_to_saegus'] = tassel_to_saegus_loci\n",
    "loci_conversions.close()"
   ]
  },
  {
   "cell_type": "code",
   "execution_count": 18,
   "metadata": {
    "collapsed": true
   },
   "outputs": [],
   "source": [
    "seg_loc_storage = shelve.open('segregating_loci_storage')\n",
    "seg_loc_storage['vandaleer'] = concordant_segregating_loci\n",
    "seg_loc_storage.close()"
   ]
  },
  {
   "cell_type": "code",
   "execution_count": null,
   "metadata": {
    "collapsed": true
   },
   "outputs": [],
   "source": [
    "import importlib as imp\n",
    "reload(analyze)"
   ]
  },
  {
   "cell_type": "code",
   "execution_count": null,
   "metadata": {},
   "outputs": [],
   "source": [
    "exponential_allele_effects"
   ]
  },
  {
   "cell_type": "code",
   "execution_count": 19,
   "metadata": {
    "collapsed": true
   },
   "outputs": [],
   "source": [
    "met_allele_data = analyze.gather_allele_data(sample_library[0][0])"
   ]
  },
  {
   "cell_type": "code",
   "execution_count": 20,
   "metadata": {},
   "outputs": [],
   "source": [
    "minor_alleles = met_allele_data[:, 3]"
   ]
  },
  {
   "cell_type": "code",
   "execution_count": null,
   "metadata": {},
   "outputs": [],
   "source": [
    "\n",
    "\n",
    "exponential_allele_effects_table = analyze.generate_allele_effects_table(qtl, alleles, \n",
    "                                                exponential_allele_effects)"
   ]
  },
  {
   "cell_type": "code",
   "execution_count": 22,
   "metadata": {
    "collapsed": true
   },
   "outputs": [],
   "source": [
    "mg = analyze.MultiGeneration('vandaleer')"
   ]
  },
  {
   "cell_type": "code",
   "execution_count": 23,
   "metadata": {},
   "outputs": [],
   "source": [
    "af_table = mg.collect_allele_frequency_data(sample_library, minor_alleles)"
   ]
  },
  {
   "cell_type": "code",
   "execution_count": 25,
   "metadata": {},
   "outputs": [
    {
     "data": {
      "text/plain": [
       "array([ 0.   ,  0.   ,  0.   , ...,  0.238,  0.122,  0.   ])"
      ]
     },
     "execution_count": 25,
     "metadata": {},
     "output_type": "execute_result"
    }
   ],
   "source": [
    "af_table[0, :]"
   ]
  },
  {
   "cell_type": "code",
   "execution_count": null,
   "metadata": {
    "collapsed": true
   },
   "outputs": [],
   "source": [
    "a"
   ]
  },
  {
   "cell_type": "code",
   "execution_count": null,
   "metadata": {
    "collapsed": true
   },
   "outputs": [],
   "source": [
    "mg.multiple_sample_analyzer(sample_library, qtl, )"
   ]
  },
  {
   "cell_type": "code",
   "execution_count": null,
   "metadata": {},
   "outputs": [],
   "source": [
    "sample_library[0][0].infoFields()"
   ]
  },
  {
   "cell_type": "code",
   "execution_count": null,
   "metadata": {
    "collapsed": true
   },
   "outputs": [],
   "source": []
  },
  {
   "cell_type": "markdown",
   "metadata": {},
   "source": [
    "## TASSEL Associated Input"
   ]
  },
  {
   "cell_type": "code",
   "execution_count": 40,
   "metadata": {
    "collapsed": true
   },
   "outputs": [],
   "source": [
    "sample = sample_library[0][0]"
   ]
  },
  {
   "cell_type": "code",
   "execution_count": 26,
   "metadata": {
    "collapsed": true
   },
   "outputs": [],
   "source": [
    "int_to_snp_map = {0: 'A', 1: 'C', 2: 'G', 3: 'T', 4: '-', 5: '+'}\n",
    "        "
   ]
  },
  {
   "cell_type": "code",
   "execution_count": 41,
   "metadata": {},
   "outputs": [
    {
     "data": {
      "text/plain": [
       "<simuPOP.Population>"
      ]
     },
     "execution_count": 41,
     "metadata": {},
     "output_type": "execute_result"
    }
   ],
   "source": [
    "sample"
   ]
  },
  {
   "cell_type": "code",
   "execution_count": 27,
   "metadata": {
    "collapsed": true
   },
   "outputs": [],
   "source": [
    "indir = \"/home/vakanas/tassel-5-standalone/\""
   ]
  },
  {
   "cell_type": "code",
   "execution_count": 35,
   "metadata": {},
   "outputs": [],
   "source": [
    "minor_allele_frqs = af_table[0, 2:]"
   ]
  },
  {
   "cell_type": "code",
   "execution_count": 37,
   "metadata": {
    "collapsed": true
   },
   "outputs": [],
   "source": [
    "gen_id_name = str(int(max(sample.indInfo('generation'))))"
   ]
  },
  {
   "cell_type": "code",
   "execution_count": 38,
   "metadata": {
    "collapsed": true
   },
   "outputs": [],
   "source": [
    "rep_id_name = str(0)"
   ]
  },
  {
   "cell_type": "code",
   "execution_count": 43,
   "metadata": {},
   "outputs": [],
   "source": [
    "operators.assign_additive_g(sample, qtl, exponential_allele_effects)"
   ]
  },
  {
   "cell_type": "code",
   "execution_count": 44,
   "metadata": {
    "collapsed": true
   },
   "outputs": [],
   "source": [
    "operators.calculate_error_variance(sample, 0.7)"
   ]
  },
  {
   "cell_type": "code",
   "execution_count": 45,
   "metadata": {
    "collapsed": true
   },
   "outputs": [],
   "source": [
    "operators.calculate_p(sample)"
   ]
  },
  {
   "cell_type": "code",
   "execution_count": 47,
   "metadata": {},
   "outputs": [],
   "source": [
    "name = run_id+'_'+rep_id_name+'_'+gen_id_name"
   ]
  },
  {
   "cell_type": "code",
   "execution_count": 48,
   "metadata": {},
   "outputs": [
    {
     "data": {
      "text/plain": [
       "array([ 0.,  3.,  1., ...,  0.,  0.,  0.])"
      ]
     },
     "execution_count": 48,
     "metadata": {},
     "output_type": "execute_result"
    }
   ],
   "source": [
    "minor_alleles"
   ]
  },
  {
   "cell_type": "code",
   "execution_count": 52,
   "metadata": {},
   "outputs": [
    {
     "data": {
      "text/plain": [
       "array([ 3.,  1.,  2.,  0.,  2.,  2.,  2.,  3.,  1.,  0.,  0.,  1.,  3.,\n",
       "        0.,  1.,  5.,  3.,  0.,  0.,  1.,  0.,  0.,  1.,  1.,  3.,  3.,\n",
       "        1.,  4.,  2.,  3.,  1.,  2.,  1.,  2.,  3.,  1.,  1.,  3.,  3.,\n",
       "        3.,  0.,  0.,  3.,  0.,  0.,  4.,  1.,  3.,  3.,  1.,  3.,  0.,\n",
       "        0.,  3.,  3.,  5.,  3.,  0.,  3.,  2.,  0.,  0.,  3.,  0.,  2.,\n",
       "        3.,  1.,  3.,  2.,  3.,  2.,  5.,  1.,  1.,  3.,  0.,  3.,  3.,\n",
       "        3.,  0.,  1.,  3.,  2.,  0.,  3.,  1.,  3.,  1.,  3.,  0.,  3.,\n",
       "        2.,  2.,  2.,  3.,  3.,  1.,  3.,  0.,  3.,  3.,  1.,  0.,  3.,\n",
       "        3.,  2.,  0.,  1.,  3.,  1.,  3.,  0.,  1.,  0.,  2.,  3.,  2.,\n",
       "        1.,  0.,  1.,  3.,  3.,  3.,  0.,  0.,  3.,  0.,  3.,  1.,  0.,\n",
       "        2.,  3.,  2.,  0.,  3.,  3.,  2.,  1.,  2.,  0.,  1.,  3.,  3.,\n",
       "        2.,  0.,  3.,  3.,  2.,  1.,  0.,  1.,  2.,  0.,  0.,  1.,  0.,\n",
       "        3.,  0.,  0.,  1.,  0.,  5.,  2.,  2.,  2.,  3.,  1.,  0.,  0.,\n",
       "        1.,  1.,  1.,  0.,  1.,  3.,  5.,  0.,  1.,  3.,  3.,  1.,  0.,\n",
       "        2.,  1.,  1.,  5.,  2.,  1.,  2.,  1.,  0.,  4.,  2.,  5.,  5.,\n",
       "        1.,  3.,  3.,  3.,  2.,  0.,  3.,  3.,  2.,  0.,  3.,  4.,  2.,\n",
       "        3.,  0.,  1.,  0.,  3.,  3.,  3.,  3.,  3.,  1.,  3.,  4.,  0.,\n",
       "        0.,  2.,  0.,  1.,  0.,  2.,  0.,  0.,  1.,  1.,  3.,  2.,  2.,\n",
       "        1.,  1.,  0.,  1.,  1.,  2.,  0.,  0.,  0.,  1.,  0.,  3.,  1.,\n",
       "        3.,  2.,  5.,  3.,  1.,  1.,  0.,  3.,  2.,  2.,  1.,  3.,  0.,\n",
       "        0.,  2.,  1.,  3.,  2.,  3.,  4.,  0.,  3.,  0.,  3.,  2.,  0.,\n",
       "        2.,  2.,  1.,  0.,  1.,  3.,  3.,  1.,  3.,  3.,  3.,  2.,  0.,\n",
       "        2.,  1.,  3.,  3.,  3.,  3.,  0.,  2.,  0.,  4.,  3.,  3.,  0.,\n",
       "        0.,  0.,  1.,  2.,  3.,  1.,  0.,  2.,  2.,  0.,  0.,  3.,  2.,\n",
       "        0.,  1.,  2.,  2.,  2.,  2.,  2.,  0.,  2.,  3.,  0.,  3.,  3.,\n",
       "        5.,  1.,  3.,  3.,  0.,  1.,  0.,  0.,  2.,  0.,  2.,  0.,  1.,\n",
       "        0.,  3.,  1.,  0.,  1.,  2.,  1.,  1.,  0.,  3.,  0.,  0.,  0.,\n",
       "        2.,  0.,  5.,  1.,  0.,  2.,  1.,  2.,  3.,  2.,  2.,  1.,  3.,\n",
       "        1.,  1.,  0.,  3.,  1.,  3.,  5.,  1.,  0.,  2.,  3.,  3.,  0.,\n",
       "        0.,  1.,  0.,  0.,  0.,  0.,  2.,  3.,  0.,  0.,  0.,  5.,  3.,\n",
       "        1.,  1.,  2.,  1.,  0.,  0.,  1.,  3.,  2.,  1.,  1.,  3.,  3.,\n",
       "        4.,  2.,  1.,  2.,  0.,  2.,  1.,  1.,  4.,  3.,  3.,  2.,  3.,\n",
       "        3.,  5.,  5.,  0.,  0.,  1.,  0.,  2.,  1.,  0.,  0.,  0.,  3.,\n",
       "        2.,  0.,  0.,  3.,  3.,  0.,  4.,  1.,  0.,  0.,  3.,  0.,  2.,\n",
       "        3.,  2.,  1.,  2.,  3.,  0.,  0.,  0.,  0.,  0.,  3.,  0.,  2.,\n",
       "        3.,  2.,  0.,  0.,  2.,  3.,  3.,  1.,  2.,  0.,  1.,  2.,  3.,\n",
       "        3.,  3.,  0.,  0.,  4.,  1.,  3.,  0.,  1.,  1.,  2.,  0.,  0.,\n",
       "        0.,  3.,  2.,  3.,  2.,  3.,  3.,  1.,  1.,  3.,  3.,  2.,  0.,\n",
       "        3.,  3.,  1.,  0.,  5.,  5.,  0.,  3.,  4.,  3.,  3.,  0.,  3.,\n",
       "        2.,  0.,  2.,  3.,  1.,  0.,  2.,  3.,  0.,  1.,  3.,  1.,  1.,\n",
       "        1.,  0.,  0.,  3.,  5.,  3.,  3.,  0.,  3.,  3.,  0.,  0.,  1.,\n",
       "        0.,  3.,  0.,  1.,  1.,  3.,  3.,  1.,  0.,  3.,  2.,  3.,  0.,\n",
       "        3.,  3.,  2.,  2.,  1.,  0.,  2.,  1.,  3.,  1.,  3.,  0.,  3.,\n",
       "        3.,  3.,  0.,  0.,  1.,  0.,  0.,  0.,  3.,  2.,  1.,  0.,  0.,\n",
       "        1.,  3.,  1.,  3.,  3.,  3.,  3.,  3.,  4.,  0.,  4.,  3.,  0.,\n",
       "        0.,  0.,  1.,  3.,  3.,  2.,  0.,  0.,  3.,  3.,  5.,  5.,  0.,\n",
       "        0.,  3.,  2.,  3.,  4.,  3.,  1.,  0.,  3.,  0.,  4.,  0.,  2.,\n",
       "        0.,  1.,  3.,  0.,  1.,  3.,  3.,  2.,  0.,  3.,  0.,  3.,  3.,\n",
       "        0.,  3.,  5.,  0.,  3.,  3.,  2.,  2.,  3.,  0.,  1.,  0.,  1.,\n",
       "        1.,  2.,  2.,  3.,  0.,  3.,  0.,  3.,  2.,  2.,  1.,  3.,  2.,\n",
       "        1.,  4.,  1.,  3.,  1.,  2.,  3.,  1.,  3.,  3.,  1.,  2.,  1.,\n",
       "        0.,  0.,  2.,  1.,  0.,  1.,  1.,  0.,  1.,  3.,  0.,  0.,  5.,\n",
       "        1.,  2.,  5.,  0.,  1.,  3.,  0.,  2.,  2.,  1.,  3.,  3.,  0.,\n",
       "        5.,  2.,  0.,  2.,  3.,  0.,  3.,  1.,  2.,  3.,  2.,  2.,  0.,\n",
       "        2.,  1.,  0.,  0.,  3.,  1.,  1.,  2.,  3.,  3.,  2.,  2.,  0.,\n",
       "        5.,  1.,  5.,  0.,  3.,  2.,  0.,  3.,  5.,  1.,  1.,  2.,  5.,\n",
       "        3.,  0.,  1.,  0.,  3.,  0.,  5.,  1.,  0.,  0.,  0.,  0.,  0.,\n",
       "        2.,  0.,  0.,  2.,  0.,  2.,  2.,  3.,  0.,  3.,  1.,  5.,  0.,\n",
       "        2.,  0.,  2.,  2.,  4.,  0.,  0.,  0.,  1.,  2.,  0.,  5.,  4.,\n",
       "        3.,  1.,  3.,  2.,  2.,  3.,  0.,  3.,  1.,  3.,  1.,  1.,  3.,\n",
       "        1.,  2.,  3.,  0.,  0.,  0.,  0.,  3.,  3.,  0.,  2.,  1.,  0.,\n",
       "        0.,  3.,  1.,  0.,  3.,  2.,  0.,  0.,  3.,  3.,  0.,  0.,  3.,\n",
       "        0.,  2.,  3.,  0.,  3.,  2.,  2.,  2.,  0.,  0.,  0.,  3.,  0.,\n",
       "        0.,  3.,  3.,  3.,  0.,  2.,  3.,  3.,  1.,  1.,  1.,  0.,  2.,\n",
       "        0.,  4.,  4.,  0.,  1.,  3.,  1.,  3.,  0.,  1.,  1.,  2.,  3.,\n",
       "        0.,  5.,  0.,  0.,  3.,  2.,  3.,  3.,  3.,  5.,  0.,  2.,  0.,\n",
       "        1.,  2.,  0.,  2.,  2.,  4.,  3.,  1.,  3.,  3.,  0.,  2.,  3.,\n",
       "        1.,  3.,  0.,  2.,  3.,  3.,  0.,  3.,  3.,  0.,  3.,  0.,  0.,\n",
       "        0.,  1.,  5.,  0.,  1.,  4.,  3.,  1.,  1.,  3.,  0.,  0.,  0.,\n",
       "        3.,  0.,  0.,  0.,  0.,  0.,  0.,  5.,  3.,  0.,  0.,  4.,  2.,\n",
       "        5.,  3.,  1.,  2.,  1.,  0.,  1.,  3.,  2.,  4.,  1.,  1.,  0.,\n",
       "        0.,  3.,  2.,  1.,  2.,  2.,  0.,  0.,  0.,  1.,  3.,  3.,  0.,\n",
       "        0.,  0.,  0.,  1.,  2.,  0.,  0.])"
      ]
     },
     "execution_count": 52,
     "metadata": {},
     "output_type": "execute_result"
    }
   ],
   "source": [
    "minor_alleles[np.array(concordant_segregating_loci)]"
   ]
  },
  {
   "cell_type": "code",
   "execution_count": 53,
   "metadata": {},
   "outputs": [],
   "source": [
    "gwas = analyze.GWAS(sample, np.array(concordant_segregating_loci), minor_alleles, run_id)"
   ]
  },
  {
   "cell_type": "code",
   "execution_count": 59,
   "metadata": {
    "collapsed": true
   },
   "outputs": [],
   "source": [
    "ccm = gwas.calculate_count_matrix('vandaleer_0_250_count_matrix.txt')"
   ]
  },
  {
   "cell_type": "code",
   "execution_count": null,
   "metadata": {
    "collapsed": true
   },
   "outputs": [],
   "source": []
  },
  {
   "cell_type": "code",
   "execution_count": 58,
   "metadata": {
    "collapsed": true
   },
   "outputs": [],
   "source": [
    "ps_svd = gwas.pop_struct_eigendecomp(ccm)"
   ]
  },
  {
   "cell_type": "code",
   "execution_count": 60,
   "metadata": {},
   "outputs": [
    {
     "data": {
      "text/plain": [
       "(array([ 8.108,  7.767,  7.176,  7.043,  6.963,  6.781,  6.687,  6.58 ,\n",
       "         6.459,  6.385,  6.18 ,  0.   ,  5.827,  5.733,  5.614,  5.576,\n",
       "         5.522,  5.362,  5.164,  5.05 ,  4.964,  4.873,  4.729,  4.664,\n",
       "         4.604,  4.492,  4.445,  4.396,  4.278,  4.252,  4.125,  4.038,\n",
       "         3.898,  3.955,  3.844,  3.739,  3.717,  3.63 ,  3.586,  3.529,\n",
       "         3.47 ,  3.435,  3.383,  3.296,  3.277,  3.209,  3.059,  3.163,\n",
       "         3.118,  2.966,  2.928,  2.909,  2.857,  2.817,  2.797,  2.743,\n",
       "         2.695,  2.633,  2.617,  2.552,  2.47 ,  2.484,  2.392,  2.381,\n",
       "         2.357,  2.315,  2.108,  2.286,  2.141,  2.181,  2.25 ,  2.213,\n",
       "         2.218,  2.111,  2.08 ,  2.057,  2.033,  1.97 ,  1.901,  1.817,\n",
       "         1.857,  1.873,  1.84 ,  1.791,  1.799,  1.745,  1.725,  1.709,\n",
       "         1.663,  1.639,  1.645,  1.624,  1.616,  1.591,  1.561,  1.533,\n",
       "         1.503,  1.481,  1.49 ,  1.455,  1.447,  1.43 ,  1.408,  1.375,\n",
       "         1.359,  1.332,  1.306,  1.319,  1.294,  1.286,  1.275,  1.241,\n",
       "         1.228,  1.217,  1.208,  1.171,  1.157,  1.161,  0.138,  0.16 ,\n",
       "         0.165,  1.143,  1.138,  1.127,  1.107,  1.082,  1.072,  1.051,\n",
       "         1.1  ,  1.038,  1.019,  1.006,  0.175,  0.175,  0.184,  0.186,\n",
       "         0.19 ,  0.199,  0.202,  0.211,  0.997,  0.991,  0.973,  0.954,\n",
       "         0.963,  0.945,  0.925,  0.915,  0.903,  0.893,  0.868,  0.878,\n",
       "         0.884,  0.214,  0.218,  0.844,  0.863,  0.833,  0.222,  0.226,\n",
       "         0.232,  0.235,  0.817,  0.812,  0.797,  0.791,  0.243,  0.249,\n",
       "         0.251,  0.773,  0.779,  0.753,  0.744,  0.74 ,  0.733,  0.732,\n",
       "         0.711,  0.709,  0.696,  0.257,  0.262,  0.266,  0.301,  0.295,\n",
       "         0.276,  0.277,  0.289,  0.283,  0.282,  0.307,  0.686,  0.675,\n",
       "         0.723,  0.667,  0.293,  0.315,  0.318,  0.322,  0.33 ,  0.338,\n",
       "         0.669,  0.65 ,  0.64 ,  0.635,  0.628,  0.622,  0.601,  0.603,\n",
       "         0.584,  0.344,  0.362,  0.358,  0.367,  0.577,  0.62 ,  0.479,\n",
       "         0.347,  0.565,  0.547,  0.526,  0.519,  0.532,  0.511,  0.491,\n",
       "         0.507,  0.378,  0.413,  0.409,  0.381,  0.396,  0.389,  0.423,\n",
       "         0.465,  0.498,  0.442,  0.459,  0.428,  0.46 ,  0.447,  0.553,\n",
       "         0.355,  0.568,  0.554,  0.557,  0.373,  0.501,  0.392,  0.404,\n",
       "         0.432,  0.436]),\n",
       " array([[-0.093, -0.017,  0.044, ...,  0.023, -0.012,  0.007],\n",
       "        [-0.   , -0.046,  0.058, ...,  0.085, -0.039, -0.029],\n",
       "        [-0.032,  0.137,  0.049, ..., -0.053,  0.035, -0.053],\n",
       "        ..., \n",
       "        [ 0.018,  0.08 ,  0.008, ...,  0.02 ,  0.07 ,  0.06 ],\n",
       "        [-0.092, -0.023,  0.066, ..., -0.047,  0.027, -0.062],\n",
       "        [ 0.064, -0.015, -0.014, ...,  0.045, -0.024, -0.053]]))"
      ]
     },
     "execution_count": 60,
     "metadata": {},
     "output_type": "execute_result"
    }
   ],
   "source": [
    "ps_svd"
   ]
  },
  {
   "cell_type": "code",
   "execution_count": 61,
   "metadata": {
    "collapsed": true
   },
   "outputs": [],
   "source": [
    "gwas.population_structure_formatter(ps_svd[0], \n",
    "                                    ps_svd[1], \n",
    "                                    number_of_pcs=2,\n",
    "                                    pop_struct_file_name='vandaleer_0_250_structure_matrix.txt')"
   ]
  },
  {
   "cell_type": "code",
   "execution_count": 62,
   "metadata": {
    "collapsed": true
   },
   "outputs": [],
   "source": [
    "gwas.hapmap_formatter('vandaleer_0_250_simulated_hapmap.txt')"
   ]
  },
  {
   "cell_type": "code",
   "execution_count": 63,
   "metadata": {
    "collapsed": true
   },
   "outputs": [],
   "source": [
    "gwas.calc_kinship_matrix(ccm, 'vandaleer_0_250_kinship_matrix.txt')"
   ]
  },
  {
   "cell_type": "code",
   "execution_count": 65,
   "metadata": {
    "collapsed": true
   },
   "outputs": [],
   "source": [
    "gwas.trait_formatter('vandaleer_0_250_phenotype_vector.txt')"
   ]
  },
  {
   "cell_type": "code",
   "execution_count": 64,
   "metadata": {
    "collapsed": true
   },
   "outputs": [],
   "source": [
    "gwas.replicate_tassel_gwas_configs(rep_id_name,\n",
    "                                  gen_id_name,\n",
    "                                  indir+name+'_simulated_hapmap.txt',\n",
    "                                  indir+name+'_kinship_matrix.txt',\n",
    "                                  indir+name+'_phenotype_vector.txt',\n",
    "                                  indir+name+'_structure_matrix.txt',\n",
    "                                  '/home/vakanas/tassel-5-standalone/output/',\n",
    "                                  '/home/vakanas/tassel-5-standalone/example_gwas_pipeline.xml')"
   ]
  },
  {
   "cell_type": "code",
   "execution_count": 67,
   "metadata": {},
   "outputs": [
    {
     "ename": "AttributeError",
     "evalue": "'GWAS' object has no attribute 'indir'",
     "output_type": "error",
     "traceback": [
      "\u001b[0;31m---------------------------------------------------------------------------\u001b[0m",
      "\u001b[0;31mAttributeError\u001b[0m                            Traceback (most recent call last)",
      "\u001b[0;32m<ipython-input-67-3f539680a06b>\u001b[0m in \u001b[0;36m<module>\u001b[0;34m()\u001b[0m\n\u001b[0;32m----> 1\u001b[0;31m \u001b[0mgwas\u001b[0m\u001b[0;34m.\u001b[0m\u001b[0mindir\u001b[0m\u001b[0;34m\u001b[0m\u001b[0m\n\u001b[0m",
      "\u001b[0;31mAttributeError\u001b[0m: 'GWAS' object has no attribute 'indir'"
     ]
    }
   ],
   "source": []
  },
  {
   "cell_type": "code",
   "execution_count": null,
   "metadata": {
    "collapsed": true
   },
   "outputs": [],
   "source": []
  }
 ],
 "metadata": {
  "kernelspec": {
   "display_name": "Python 3",
   "language": "python",
   "name": "python3"
  },
  "language_info": {
   "codemirror_mode": {
    "name": "ipython",
    "version": 3
   },
   "file_extension": ".py",
   "mimetype": "text/x-python",
   "name": "python",
   "nbconvert_exporter": "python",
   "pygments_lexer": "ipython3",
   "version": "3.6.1"
  }
 },
 "nbformat": 4,
 "nbformat_minor": 2
}
