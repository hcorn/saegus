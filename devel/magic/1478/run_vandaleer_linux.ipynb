{
 "cells": [
  {
   "cell_type": "code",
   "execution_count": 1,
   "metadata": {
    "collapsed": true
   },
   "outputs": [],
   "source": [
    "import simuOpt\n",
    "simuOpt.setOptions(alleleType='short', numThreads=4, quiet=True)\n",
    "import simuPOP as sim\n",
    "import pandas as pd\n",
    "from saegus import breed, operators, simulate, analyze, parse, parameters\n",
    "import shelve\n",
    "import numpy as np\n",
    "import random\n",
    "import collections as col\n",
    "np.set_printoptions(suppress=True, precision=3)"
   ]
  },
  {
   "cell_type": "code",
   "execution_count": 2,
   "metadata": {
    "collapsed": true
   },
   "outputs": [],
   "source": [
    "run_id='vandaleer'\n",
    "sample_sizes=[250, 500]\n",
    "number_of_qtl = 10\n",
    "number_of_replicates = 5\n",
    "founders = [[2, 26], [3, 25], [4, 24], [5, 23]]\n",
    "os_per_pair = 500\n",
    "recombination_rates = [0.01]*1478"
   ]
  },
  {
   "cell_type": "code",
   "execution_count": 3,
   "metadata": {},
   "outputs": [
    {
     "data": {
      "text/plain": [
       "(1, 1, 1, 1, 1)"
      ]
     },
     "execution_count": 3,
     "metadata": {},
     "output_type": "execute_result"
    }
   ],
   "source": [
    "prefounders = sim.loadPopulation('prefounders1478.pop')\n",
    "prefounders.addInfoFields('generation')\n",
    "multi_prefounders = sim.Simulator(prefounders, number_of_replicates, stealPops=False)\n",
    "magic = breed.MAGIC(multi_prefounders, founders, recombination_rates)\n",
    "sim.tagID(prefounders, reset=27)\n",
    "magic.generate_f_one(founders, os_per_pair)\n",
    "mrc = breed.MultiRandomCross(multi_prefounders, 4, os_per_pair)\n",
    "mother_choices, father_choices = mrc.determine_random_cross()\n",
    "multi_snd_ord_chooser = breed.MultiSecondOrderPairIDChooser(mother_choices, father_choices)\n",
    "multi_prefounders.evolve(\n",
    "    matingScheme=sim.HomoMating(\n",
    "        sim.PyParentsChooser(multi_snd_ord_chooser.snd_ord_id_pairs),\n",
    "        sim.OffspringGenerator(ops=[\n",
    "            sim.IdTagger(),\n",
    "            sim.PedigreeTagger(),\n",
    "            sim.Recombinator(rates=0.01)\n",
    "        ],\n",
    "            numOffspring=1),\n",
    "        subPopSize=[2000],\n",
    "    ),\n",
    "    gen=1,\n",
    ")\n",
    "final_mrc = breed.MultiRandomCross(multi_prefounders, 2, 1000)\n",
    "final_mothers, final_fathers = final_mrc.determine_random_cross()\n",
    "final_multi_snd_ord_chooser = breed.MultiSecondOrderPairIDChooser(final_mothers, final_fathers)\n",
    "multi_prefounders.evolve(\n",
    "    matingScheme=sim.HomoMating(\n",
    "        sim.PyParentsChooser(final_multi_snd_ord_chooser.snd_ord_id_pairs),\n",
    "        sim.OffspringGenerator(ops=[\n",
    "            sim.IdTagger(),\n",
    "            sim.PedigreeTagger(),\n",
    "            sim.Recombinator(rates=0.01)\n",
    "        ],\n",
    "            numOffspring=1),\n",
    "        subPopSize=[2000],\n",
    "    ),\n",
    "    gen=1,\n",
    ")"
   ]
  },
  {
   "cell_type": "code",
   "execution_count": 4,
   "metadata": {
    "collapsed": true
   },
   "outputs": [],
   "source": [
    "study = analyze.Study(run_id)"
   ]
  },
  {
   "cell_type": "code",
   "execution_count": 5,
   "metadata": {
    "collapsed": true
   },
   "outputs": [],
   "source": [
    "sample_library = study.collect_samples(multi_prefounders, sample_sizes)"
   ]
  },
  {
   "cell_type": "code",
   "execution_count": 6,
   "metadata": {
    "collapsed": true
   },
   "outputs": [],
   "source": [
    "alleles = np.array(pd.read_hdf('parameters/alleles_at_1478_loci.hdf'))"
   ]
  },
  {
   "cell_type": "code",
   "execution_count": 7,
   "metadata": {
    "collapsed": true
   },
   "outputs": [],
   "source": [
    "for rep, sample_list in sample_library.items():\n",
    "    for sample in sample_list:\n",
    "        sim.stat(sample, alleleFreq=sim.ALL_AVAIL)"
   ]
  },
  {
   "cell_type": "code",
   "execution_count": 8,
   "metadata": {
    "collapsed": true
   },
   "outputs": [],
   "source": [
    "study.store_allele_frequencies(sample_library, alleles)"
   ]
  },
  {
   "cell_type": "code",
   "execution_count": 9,
   "metadata": {
    "collapsed": true
   },
   "outputs": [],
   "source": [
    "sets_of_segregating_loci = study.seg_loci_among_samples(sample_library)"
   ]
  },
  {
   "cell_type": "code",
   "execution_count": 10,
   "metadata": {
    "collapsed": true
   },
   "outputs": [],
   "source": [
    "concordant_segregating_loci = list(sets_of_segregating_loci.keys())[0]"
   ]
  },
  {
   "cell_type": "code",
   "execution_count": 11,
   "metadata": {
    "collapsed": true
   },
   "outputs": [],
   "source": [
    "qtl = tuple(sorted(random.sample(concordant_segregating_loci, number_of_qtl)))"
   ]
  },
  {
   "cell_type": "code",
   "execution_count": 12,
   "metadata": {
    "collapsed": true
   },
   "outputs": [],
   "source": [
    "add_trait = parameters.Trait()"
   ]
  },
  {
   "cell_type": "code",
   "execution_count": 13,
   "metadata": {
    "collapsed": true
   },
   "outputs": [],
   "source": [
    "exponential_allele_effects = add_trait.assign_allele_effects(alleles, qtl, np.random.exponential, 1)"
   ]
  },
  {
   "cell_type": "code",
   "execution_count": null,
   "metadata": {
    "collapsed": true
   },
   "outputs": [],
   "source": [
    "seg_loc_storage = shelve.open('segregating_loci_storage')\n",
    "seg_loc_storage[run_id] = concordant_segregating_loci\n",
    "seg_loc_storage.close()"
   ]
  },
  {
   "cell_type": "code",
   "execution_count": 14,
   "metadata": {
    "collapsed": true
   },
   "outputs": [],
   "source": [
    "droppable_loci = [droppable for droppable in range(1478) if droppable not in concordant_segregating_loci]\n"
   ]
  },
  {
   "cell_type": "code",
   "execution_count": 15,
   "metadata": {
    "collapsed": true
   },
   "outputs": [],
   "source": [
    "analyze.store_allele_effect_frequency_tables(sample_library, alleles, \n",
    "                                             qtl,\n",
    "                                             exponential_allele_effects,\n",
    "                                            run_id, 'exponential')"
   ]
  },
  {
   "cell_type": "code",
   "execution_count": null,
   "metadata": {
    "collapsed": true
   },
   "outputs": [],
   "source": [
    "loci_conversions = shelve.open(run_id+'_loci_conversions')\n",
    "saegus_to_tassel_loci = {}\n",
    "tassel_to_saegus_loci = {}\n",
    "for idx, locus in enumerate(concordant_segregating_loci):\n",
    "    saegus_to_tassel_loci[locus] = idx\n",
    "    tassel_to_saegus_loci[idx] = locus\n",
    "loci_conversions['saegus_to_tassel'] = saegus_to_tassel_loci\n",
    "loci_conversions['tassel_to_saegus'] = tassel_to_saegus_loci\n",
    "loci_conversions.close()"
   ]
  },
  {
   "cell_type": "code",
   "execution_count": null,
   "metadata": {
    "collapsed": true
   },
   "outputs": [],
   "source": [
    "seg_loc_storage = shelve.open('segregating_loci_storage')\n",
    "seg_loc_storage['vandaleer'] = concordant_segregating_loci\n",
    "seg_loc_storage.close()"
   ]
  },
  {
   "cell_type": "code",
   "execution_count": null,
   "metadata": {
    "collapsed": true
   },
   "outputs": [],
   "source": [
    "import importlib as imp\n",
    "reload(analyze)"
   ]
  },
  {
   "cell_type": "code",
   "execution_count": 16,
   "metadata": {},
   "outputs": [
    {
     "data": {
      "text/plain": [
       "{152: {1: 0.7050938159052464, 3: 1.206597655278337},\n",
       " 527: {0: 0.3324746377927107, 2: 0.638229920764347},\n",
       " 736: {1: 0.9015851323738887, 3: 0.9913775451078031},\n",
       " 746: {1: 2.43823904597767, 2: 0.6473108548758053},\n",
       " 904: {1: 2.245437656956458, 3: 1.0251204936565261},\n",
       " 957: {0: 1.5452089554164063, 2: 4.572899476597816},\n",
       " 1013: {1: 0.1854742424309644, 2: 0.06479480426665307},\n",
       " 1178: {1: 0.3907622330646265, 2: 1.9484651886595101},\n",
       " 1461: {1: 0.22896379223367372, 2: 0.21701063405512394},\n",
       " 1470: {0: 1.3960812529153177, 2: 1.0939114725748023}}"
      ]
     },
     "execution_count": 16,
     "metadata": {},
     "output_type": "execute_result"
    }
   ],
   "source": [
    "exponential_allele_effects"
   ]
  },
  {
   "cell_type": "code",
   "execution_count": 21,
   "metadata": {
    "collapsed": true
   },
   "outputs": [],
   "source": [
    "met_allele_data = analyze.gather_allele_data(sample_library[0][0])"
   ]
  },
  {
   "cell_type": "code",
   "execution_count": 22,
   "metadata": {
    "collapsed": true
   },
   "outputs": [],
   "source": [
    "minor_alleles = met_allele_data[:, 3]"
   ]
  },
  {
   "cell_type": "code",
   "execution_count": 17,
   "metadata": {},
   "outputs": [
    {
     "ename": "TypeError",
     "evalue": "unhashable type: 'numpy.ndarray'",
     "output_type": "error",
     "traceback": [
      "\u001b[0;31m---------------------------------------------------------------------------\u001b[0m",
      "\u001b[0;31mTypeError\u001b[0m                                 Traceback (most recent call last)",
      "\u001b[0;32m<ipython-input-17-a72e0e3cf723>\u001b[0m in \u001b[0;36m<module>\u001b[0;34m()\u001b[0m\n\u001b[1;32m      2\u001b[0m \u001b[0;34m\u001b[0m\u001b[0m\n\u001b[1;32m      3\u001b[0m exponential_allele_effects_table = analyze.generate_allele_effects_table(qtl, alleles, \n\u001b[0;32m----> 4\u001b[0;31m                                                 exponential_allele_effects)\n\u001b[0m",
      "\u001b[0;32m~/anaconda43/lib/python3.6/site-packages/saegus/analyze.py\u001b[0m in \u001b[0;36mgenerate_allele_effects_table\u001b[0;34m(population_allele_frequencies, allele_array, allele_effect_array)\u001b[0m\n\u001b[1;32m    169\u001b[0m     \u001b[0malpha_alleles\u001b[0m\u001b[0;34m,\u001b[0m \u001b[0mbeta_alleles\u001b[0m \u001b[0;34m=\u001b[0m \u001b[0mallele_array\u001b[0m\u001b[0;34m[\u001b[0m\u001b[0;34m:\u001b[0m\u001b[0;34m,\u001b[0m \u001b[0;36m0\u001b[0m\u001b[0;34m]\u001b[0m\u001b[0;34m,\u001b[0m \u001b[0mallele_array\u001b[0m\u001b[0;34m[\u001b[0m\u001b[0;34m:\u001b[0m\u001b[0;34m,\u001b[0m \u001b[0;36m1\u001b[0m\u001b[0;34m]\u001b[0m\u001b[0;34m\u001b[0m\u001b[0m\n\u001b[1;32m    170\u001b[0m     alpha_effects, beta_effects = allele_effect_array[\n\u001b[0;32m--> 171\u001b[0;31m                                       range(number_of_loci), alpha_alleles], \\\n\u001b[0m\u001b[1;32m    172\u001b[0m                                   allele_effect_array[\n\u001b[1;32m    173\u001b[0m                                       range(number_of_loci), beta_alleles]\n",
      "\u001b[0;31mTypeError\u001b[0m: unhashable type: 'numpy.ndarray'"
     ]
    }
   ],
   "source": [
    "\n",
    "\n",
    "exponential_allele_effects_table = analyze.generate_allele_effects_table(qtl, alleles, \n",
    "                                                exponential_allele_effects)"
   ]
  },
  {
   "cell_type": "code",
   "execution_count": 18,
   "metadata": {
    "collapsed": true
   },
   "outputs": [],
   "source": [
    "mg = analyze.MultiGeneration('vandaleer')"
   ]
  },
  {
   "cell_type": "code",
   "execution_count": 23,
   "metadata": {
    "collapsed": true
   },
   "outputs": [],
   "source": [
    "af_table = mg.collect_allele_frequency_data(sample_library, minor_alleles)"
   ]
  },
  {
   "cell_type": "code",
   "execution_count": 24,
   "metadata": {},
   "outputs": [
    {
     "data": {
      "text/plain": [
       "array([ 0.   ,  0.   ,  0.   , ...,  0.258,  0.142,  0.   ])"
      ]
     },
     "execution_count": 24,
     "metadata": {},
     "output_type": "execute_result"
    }
   ],
   "source": [
    "af_table[0, :]"
   ]
  },
  {
   "cell_type": "code",
   "execution_count": null,
   "metadata": {
    "collapsed": true
   },
   "outputs": [],
   "source": [
    "a"
   ]
  },
  {
   "cell_type": "code",
   "execution_count": null,
   "metadata": {
    "collapsed": true
   },
   "outputs": [],
   "source": [
    "mg.multiple_sample_analyzer(sample_library, qtl, )"
   ]
  },
  {
   "cell_type": "code",
   "execution_count": null,
   "metadata": {
    "collapsed": true
   },
   "outputs": [],
   "source": [
    "sample_library[0][0].infoFields()"
   ]
  },
  {
   "cell_type": "code",
   "execution_count": null,
   "metadata": {
    "collapsed": true
   },
   "outputs": [],
   "source": []
  },
  {
   "cell_type": "markdown",
   "metadata": {},
   "source": [
    "## TASSEL Associated Input"
   ]
  },
  {
   "cell_type": "code",
   "execution_count": 25,
   "metadata": {
    "collapsed": true
   },
   "outputs": [],
   "source": [
    "sample = sample_library[0][0]"
   ]
  },
  {
   "cell_type": "code",
   "execution_count": 26,
   "metadata": {
    "collapsed": true
   },
   "outputs": [],
   "source": [
    "int_to_snp_map = {0: 'A', 1: 'C', 2: 'G', 3: 'T', 4: '-', 5: '+'}\n",
    "        "
   ]
  },
  {
   "cell_type": "code",
   "execution_count": null,
   "metadata": {
    "collapsed": true
   },
   "outputs": [],
   "source": [
    "sample"
   ]
  },
  {
   "cell_type": "code",
   "execution_count": 27,
   "metadata": {
    "collapsed": true
   },
   "outputs": [],
   "source": [
    "indir = \"/home/vakanas/tassel-5-standalone/\""
   ]
  },
  {
   "cell_type": "code",
   "execution_count": 28,
   "metadata": {
    "collapsed": true
   },
   "outputs": [],
   "source": [
    "minor_allele_frqs = af_table[0, 2:]"
   ]
  },
  {
   "cell_type": "code",
   "execution_count": 29,
   "metadata": {
    "collapsed": true
   },
   "outputs": [],
   "source": [
    "gen_id_name = str(int(max(sample.indInfo('generation'))))"
   ]
  },
  {
   "cell_type": "code",
   "execution_count": 30,
   "metadata": {
    "collapsed": true
   },
   "outputs": [],
   "source": [
    "rep_id_name = str(0)"
   ]
  },
  {
   "cell_type": "code",
   "execution_count": 31,
   "metadata": {
    "collapsed": true
   },
   "outputs": [],
   "source": [
    "operators.assign_additive_g(sample, qtl, exponential_allele_effects)"
   ]
  },
  {
   "cell_type": "code",
   "execution_count": 32,
   "metadata": {
    "collapsed": true
   },
   "outputs": [],
   "source": [
    "operators.calculate_error_variance(sample, 0.7)"
   ]
  },
  {
   "cell_type": "code",
   "execution_count": 33,
   "metadata": {
    "collapsed": true
   },
   "outputs": [],
   "source": [
    "operators.calculate_p(sample)"
   ]
  },
  {
   "cell_type": "code",
   "execution_count": 48,
   "metadata": {},
   "outputs": [
    {
     "data": {
      "text/plain": [
       "'vandaleer'"
      ]
     },
     "execution_count": 48,
     "metadata": {},
     "output_type": "execute_result"
    }
   ],
   "source": [
    "run_id"
   ]
  },
  {
   "cell_type": "code",
   "execution_count": 49,
   "metadata": {
    "collapsed": true
   },
   "outputs": [],
   "source": [
    "name = run_id+'_'+'0'+'_250'"
   ]
  },
  {
   "cell_type": "code",
   "execution_count": 50,
   "metadata": {},
   "outputs": [
    {
     "data": {
      "text/plain": [
       "'vandaleer_0_250'"
      ]
     },
     "execution_count": 50,
     "metadata": {},
     "output_type": "execute_result"
    }
   ],
   "source": [
    "name"
   ]
  },
  {
   "cell_type": "code",
   "execution_count": 35,
   "metadata": {},
   "outputs": [
    {
     "data": {
      "text/plain": [
       "array([ 0.,  3.,  1., ...,  0.,  0.,  0.])"
      ]
     },
     "execution_count": 35,
     "metadata": {},
     "output_type": "execute_result"
    }
   ],
   "source": [
    "minor_alleles"
   ]
  },
  {
   "cell_type": "code",
   "execution_count": 36,
   "metadata": {},
   "outputs": [
    {
     "data": {
      "text/plain": [
       "array([ 3.,  1.,  2.,  0.,  2.,  2.,  2.,  3.,  1.,  0.,  0.,  1.,  3.,\n",
       "        0.,  1.,  5.,  3.,  0.,  0.,  1.,  0.,  0.,  1.,  1.,  3.,  3.,\n",
       "        1.,  4.,  2.,  3.,  1.,  2.,  1.,  2.,  3.,  1.,  1.,  3.,  3.,\n",
       "        3.,  0.,  0.,  3.,  0.,  0.,  4.,  1.,  3.,  3.,  1.,  3.,  0.,\n",
       "        0.,  3.,  3.,  5.,  3.,  0.,  3.,  2.,  0.,  0.,  3.,  0.,  2.,\n",
       "        3.,  1.,  3.,  2.,  3.,  2.,  5.,  1.,  1.,  3.,  0.,  3.,  3.,\n",
       "        3.,  0.,  3.,  3.,  2.,  0.,  3.,  1.,  3.,  1.,  3.,  0.,  3.,\n",
       "        2.,  2.,  0.,  3.,  3.,  1.,  3.,  0.,  3.,  3.,  1.,  0.,  3.,\n",
       "        3.,  2.,  0.,  1.,  3.,  1.,  3.,  0.,  1.,  0.,  2.,  3.,  2.,\n",
       "        1.,  0.,  1.,  3.,  3.,  3.,  0.,  0.,  3.,  0.,  3.,  1.,  0.,\n",
       "        2.,  3.,  2.,  0.,  3.,  1.,  2.,  3.,  2.,  0.,  1.,  3.,  3.,\n",
       "        2.,  0.,  3.,  3.,  2.,  1.,  0.,  1.,  2.,  0.,  0.,  1.,  0.,\n",
       "        3.,  0.,  0.,  1.,  0.,  5.,  2.,  2.,  2.,  3.,  1.,  0.,  0.,\n",
       "        1.,  1.,  1.,  0.,  1.,  3.,  5.,  0.,  1.,  3.,  3.,  1.,  0.,\n",
       "        2.,  1.,  0.,  5.,  2.,  1.,  2.,  1.,  0.,  4.,  2.,  5.,  5.,\n",
       "        1.,  3.,  3.,  3.,  2.,  0.,  3.,  3.,  2.,  0.,  3.,  4.,  2.,\n",
       "        3.,  0.,  1.,  0.,  3.,  3.,  3.,  3.,  3.,  1.,  3.,  4.,  0.,\n",
       "        0.,  2.,  0.,  1.,  0.,  2.,  0.,  0.,  1.,  1.,  3.,  2.,  2.,\n",
       "        1.,  1.,  0.,  1.,  1.,  2.,  0.,  0.,  0.,  1.,  0.,  3.,  1.,\n",
       "        3.,  2.,  5.,  3.,  1.,  1.,  0.,  3.,  2.,  2.,  1.,  3.,  0.,\n",
       "        0.,  2.,  1.,  3.,  2.,  3.,  4.,  0.,  3.,  0.,  3.,  2.,  0.,\n",
       "        2.,  2.,  1.,  0.,  1.,  3.,  3.,  1.,  3.,  3.,  3.,  2.,  0.,\n",
       "        2.,  1.,  3.,  3.,  3.,  3.,  0.,  2.,  0.,  4.,  3.,  3.,  0.,\n",
       "        0.,  0.,  1.,  2.,  3.,  1.,  0.,  2.,  2.,  0.,  0.,  3.,  2.,\n",
       "        0.,  1.,  2.,  2.,  2.,  2.,  2.,  0.,  2.,  3.,  2.,  3.,  3.,\n",
       "        5.,  1.,  3.,  3.,  0.,  1.,  0.,  0.,  2.,  0.,  2.,  0.,  1.,\n",
       "        0.,  3.,  1.,  0.,  1.,  2.,  1.,  3.,  0.,  3.,  2.,  0.,  0.,\n",
       "        2.,  0.,  5.,  1.,  0.,  0.,  1.,  2.,  3.,  2.,  2.,  1.,  3.,\n",
       "        1.,  1.,  0.,  3.,  1.,  3.,  5.,  1.,  0.,  2.,  3.,  3.,  0.,\n",
       "        0.,  1.,  0.,  0.,  0.,  0.,  2.,  3.,  0.,  0.,  0.,  5.,  3.,\n",
       "        1.,  1.,  2.,  1.,  0.,  0.,  1.,  3.,  2.,  1.,  1.,  3.,  3.,\n",
       "        4.,  2.,  1.,  2.,  0.,  2.,  1.,  1.,  4.,  3.,  3.,  2.,  3.,\n",
       "        3.,  5.,  5.,  0.,  0.,  1.,  0.,  2.,  1.,  0.,  0.,  0.,  3.,\n",
       "        2.,  0.,  0.,  3.,  3.,  0.,  4.,  1.,  0.,  0.,  3.,  0.,  2.,\n",
       "        3.,  2.,  1.,  2.,  3.,  0.,  0.,  0.,  0.,  0.,  3.,  0.,  2.,\n",
       "        3.,  2.,  0.,  0.,  2.,  3.,  3.,  1.,  2.,  0.,  1.,  2.,  3.,\n",
       "        3.,  3.,  0.,  0.,  4.,  1.,  3.,  0.,  1.,  1.,  2.,  0.,  0.,\n",
       "        0.,  3.,  2.,  3.,  2.,  3.,  3.,  1.,  1.,  3.,  3.,  2.,  0.,\n",
       "        3.,  3.,  1.,  0.,  5.,  5.,  0.,  3.,  4.,  3.,  3.,  0.,  3.,\n",
       "        2.,  0.,  2.,  3.,  1.,  0.,  2.,  3.,  0.,  1.,  3.,  1.,  1.,\n",
       "        1.,  0.,  0.,  3.,  5.,  3.,  3.,  0.,  3.,  3.,  0.,  0.,  1.,\n",
       "        0.,  3.,  0.,  1.,  1.,  3.,  3.,  1.,  0.,  3.,  2.,  3.,  0.,\n",
       "        3.,  3.,  2.,  2.,  1.,  0.,  2.,  1.,  3.,  1.,  3.,  0.,  3.,\n",
       "        3.,  3.,  0.,  0.,  2.,  0.,  0.,  0.,  3.,  2.,  1.,  0.,  0.,\n",
       "        1.,  3.,  1.,  3.,  3.,  3.,  3.,  3.,  4.,  0.,  4.,  3.,  0.,\n",
       "        0.,  0.,  1.,  3.,  3.,  2.,  0.,  0.,  3.,  3.,  5.,  5.,  0.,\n",
       "        0.,  3.,  2.,  3.,  4.,  3.,  1.,  0.,  3.,  0.,  4.,  0.,  2.,\n",
       "        0.,  1.,  3.,  0.,  1.,  3.,  3.,  2.,  0.,  3.,  0.,  3.,  3.,\n",
       "        0.,  3.,  5.,  0.,  3.,  3.,  2.,  2.,  3.,  0.,  1.,  0.,  1.,\n",
       "        1.,  2.,  2.,  3.,  0.,  3.,  0.,  3.,  2.,  2.,  1.,  3.,  2.,\n",
       "        1.,  4.,  1.,  3.,  1.,  2.,  3.,  1.,  3.,  3.,  1.,  2.,  1.,\n",
       "        2.,  0.,  2.,  1.,  0.,  1.,  1.,  1.,  1.,  3.,  0.,  0.,  5.,\n",
       "        1.,  2.,  5.,  0.,  1.,  3.,  0.,  0.,  2.,  1.,  3.,  3.,  0.,\n",
       "        5.,  2.,  0.,  2.,  3.,  0.,  3.,  1.,  2.,  3.,  2.,  2.,  1.,\n",
       "        2.,  1.,  0.,  0.,  3.,  1.,  1.,  2.,  3.,  3.,  2.,  2.,  0.,\n",
       "        5.,  1.,  5.,  0.,  3.,  2.,  0.,  3.,  5.,  1.,  1.,  2.,  5.,\n",
       "        3.,  0.,  1.,  0.,  3.,  0.,  5.,  1.,  0.,  0.,  0.,  2.,  0.,\n",
       "        2.,  0.,  0.,  2.,  0.,  2.,  2.,  3.,  0.,  3.,  1.,  5.,  0.,\n",
       "        2.,  0.,  2.,  2.,  4.,  0.,  0.,  0.,  1.,  2.,  0.,  5.,  4.,\n",
       "        3.,  1.,  3.,  2.,  2.,  3.,  0.,  3.,  1.,  3.,  1.,  1.,  3.,\n",
       "        1.,  2.,  3.,  0.,  0.,  0.,  0.,  3.,  3.,  0.,  2.,  1.,  0.,\n",
       "        0.,  3.,  1.,  0.,  3.,  2.,  0.,  0.,  3.,  3.,  0.,  0.,  3.,\n",
       "        0.,  2.,  3.,  0.,  3.,  2.,  2.,  2.,  0.,  0.,  0.,  3.,  0.,\n",
       "        0.,  3.,  3.,  3.,  0.,  2.,  3.,  3.,  1.,  1.,  1.,  0.,  0.,\n",
       "        0.,  4.,  4.,  0.,  1.,  3.,  1.,  3.,  0.,  1.,  1.,  2.,  3.,\n",
       "        0.,  5.,  0.,  0.,  3.,  2.,  3.,  3.,  3.,  5.,  0.,  2.,  0.,\n",
       "        1.,  2.,  0.,  2.,  2.,  4.,  3.,  1.,  3.,  3.,  0.,  2.,  3.,\n",
       "        1.,  3.,  0.,  2.,  3.,  3.,  0.,  3.,  3.,  0.,  3.,  0.,  0.,\n",
       "        0.,  1.,  5.,  0.,  1.,  4.,  3.,  1.,  1.,  2.,  0.,  0.,  0.,\n",
       "        3.,  0.,  0.,  0.,  0.,  0.,  0.,  5.,  3.,  0.,  0.,  4.,  2.,\n",
       "        5.,  3.,  1.,  2.,  1.,  0.,  1.,  3.,  2.,  4.,  1.,  1.,  0.,\n",
       "        0.,  3.,  2.,  1.,  3.,  2.,  0.,  1.,  0.,  1.,  3.,  3.,  0.,\n",
       "        0.,  0.,  0.,  1.,  2.,  0.,  0.])"
      ]
     },
     "execution_count": 36,
     "metadata": {},
     "output_type": "execute_result"
    }
   ],
   "source": [
    "minor_alleles[np.array(concordant_segregating_loci)]"
   ]
  },
  {
   "cell_type": "code",
   "execution_count": 37,
   "metadata": {
    "collapsed": true
   },
   "outputs": [],
   "source": [
    "gwas = analyze.GWAS(sample, np.array(concordant_segregating_loci), minor_alleles, run_id)"
   ]
  },
  {
   "cell_type": "code",
   "execution_count": 38,
   "metadata": {
    "collapsed": true
   },
   "outputs": [],
   "source": [
    "ccm = gwas.calculate_count_matrix('vandaleer_0_250_count_matrix.txt')"
   ]
  },
  {
   "cell_type": "code",
   "execution_count": 39,
   "metadata": {
    "collapsed": true
   },
   "outputs": [],
   "source": [
    "ps_svd = gwas.pop_struct_eigendecomp(ccm)"
   ]
  },
  {
   "cell_type": "code",
   "execution_count": null,
   "metadata": {
    "collapsed": true
   },
   "outputs": [],
   "source": [
    "ps_svd"
   ]
  },
  {
   "cell_type": "code",
   "execution_count": 40,
   "metadata": {
    "collapsed": true
   },
   "outputs": [],
   "source": [
    "gwas.population_structure_formatter(ps_svd[0], \n",
    "                                    ps_svd[1], \n",
    "                                    number_of_pcs=2,\n",
    "                                    pop_struct_file_name='vandaleer_0_250_structure_matrix.txt')"
   ]
  },
  {
   "cell_type": "code",
   "execution_count": 41,
   "metadata": {
    "collapsed": true
   },
   "outputs": [],
   "source": [
    "gwas.hapmap_formatter('vandaleer_0_250_simulated_hapmap.txt')"
   ]
  },
  {
   "cell_type": "code",
   "execution_count": 42,
   "metadata": {
    "collapsed": true
   },
   "outputs": [],
   "source": [
    "gwas.calc_kinship_matrix(ccm, 'vandaleer_0_250_kinship_matrix.txt')"
   ]
  },
  {
   "cell_type": "code",
   "execution_count": 43,
   "metadata": {
    "collapsed": true
   },
   "outputs": [],
   "source": [
    "gwas.trait_formatter('vandaleer_0_250_phenotype_vector.txt')"
   ]
  },
  {
   "cell_type": "code",
   "execution_count": 51,
   "metadata": {
    "collapsed": true
   },
   "outputs": [],
   "source": [
    "gwas.tassel_gwas_config('/home/vakanas/tassel-5-standalone/example_gwas_pipeline.xml',\n",
    "                                  indir+name+'_simulated_hapmap.txt',\n",
    "                                  indir+name+'_kinship_matrix.txt',\n",
    "                                  indir+name+'_phenotype_vector.txt',\n",
    "                                  indir+name+'_structure_matrix.txt',\n",
    "                                  '/home/vakanas/tassel-5-standalone/output/'+name\n",
    "                                  )"
   ]
  },
  {
   "cell_type": "code",
   "execution_count": 46,
   "metadata": {},
   "outputs": [
    {
     "data": {
      "text/plain": [
       "'vandaleer_0_0'"
      ]
     },
     "execution_count": 46,
     "metadata": {},
     "output_type": "execute_result"
    }
   ],
   "source": [
    "name"
   ]
  },
  {
   "cell_type": "code",
   "execution_count": null,
   "metadata": {
    "collapsed": true
   },
   "outputs": [],
   "source": []
  },
  {
   "cell_type": "code",
   "execution_count": null,
   "metadata": {
    "collapsed": true
   },
   "outputs": [],
   "source": []
  }
 ],
 "metadata": {
  "kernelspec": {
   "display_name": "Python 3",
   "language": "python",
   "name": "python3"
  },
  "language_info": {
   "codemirror_mode": {
    "name": "ipython",
    "version": 3
   },
   "file_extension": ".py",
   "mimetype": "text/x-python",
   "name": "python",
   "nbconvert_exporter": "python",
   "pygments_lexer": "ipython3",
   "version": "3.6.1"
  }
 },
 "nbformat": 4,
 "nbformat_minor": 2
}
