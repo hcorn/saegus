{
 "cells": [
  {
   "cell_type": "markdown",
   "metadata": {},
   "source": [
    "## Using Graphviz to Demonstrate MAGIC Mating"
   ]
  },
  {
   "cell_type": "code",
   "execution_count": 1,
   "metadata": {
    "collapsed": true
   },
   "outputs": [],
   "source": [
    "from graphviz import Digraph"
   ]
  },
  {
   "cell_type": "code",
   "execution_count": 2,
   "metadata": {
    "collapsed": false
   },
   "outputs": [],
   "source": [
    "dot = Digraph(comment=\"Founders 1 through 8\")\n",
    "founder_names = [\"B73\", \"B97\", \"CML103\", \"CML228\", \n",
    "                 \"CML247\", \"CML277\", \"CML322\", \"CML333\"]"
   ]
  },
  {
   "cell_type": "code",
   "execution_count": 3,
   "metadata": {
    "collapsed": false
   },
   "outputs": [],
   "source": [
    "for i, name in enumerate(founder_names):\n",
    "    dot.node(str(i), name)"
   ]
  },
  {
   "cell_type": "code",
   "execution_count": 4,
   "metadata": {
    "collapsed": true
   },
   "outputs": [],
   "source": [
    "founders = [[0, 1], [2, 3], [4, 5], [6, 7]]"
   ]
  },
  {
   "cell_type": "code",
   "execution_count": null,
   "metadata": {
    "collapsed": true
   },
   "outputs": [],
   "source": []
  },
  {
   "cell_type": "markdown",
   "metadata": {},
   "source": [
    "### F`1` Nodes"
   ]
  },
  {
   "cell_type": "code",
   "execution_count": 5,
   "metadata": {
    "collapsed": false
   },
   "outputs": [],
   "source": [
    "f_one = []\n",
    "for mother, father in founders:\n",
    "    f_one_offspring = str(founder_names[mother]) + '/' + str(founder_names[father])\n",
    "    f_one.append(f_one_offspring)"
   ]
  },
  {
   "cell_type": "code",
   "execution_count": 6,
   "metadata": {
    "collapsed": false
   },
   "outputs": [
    {
     "data": {
      "text/plain": [
       "['B73/B97', 'CML103/CML228', 'CML247/CML277', 'CML322/CML333']"
      ]
     },
     "execution_count": 6,
     "metadata": {},
     "output_type": "execute_result"
    }
   ],
   "source": [
    "f_one"
   ]
  },
  {
   "cell_type": "code",
   "execution_count": 7,
   "metadata": {
    "collapsed": true
   },
   "outputs": [],
   "source": [
    "ftwo_crosses = [[0, 1], [2, 3]]"
   ]
  },
  {
   "cell_type": "code",
   "execution_count": 8,
   "metadata": {
    "collapsed": false
   },
   "outputs": [],
   "source": [
    "f_two = []\n",
    "for ftwo_mother, ftwo_father in ftwo_crosses:\n",
    "    ftwo_os = '[' + str(f_one[ftwo_mother]) + ']' + '//' + '[' + str(f_one[ftwo_father]) + ']'\n",
    "    f_two.append(ftwo_os)"
   ]
  },
  {
   "cell_type": "code",
   "execution_count": 9,
   "metadata": {
    "collapsed": false
   },
   "outputs": [
    {
     "data": {
      "text/plain": [
       "['[B73/B97]//[CML103/CML228]', '[CML247/CML277]//[CML322/CML333]']"
      ]
     },
     "execution_count": 9,
     "metadata": {},
     "output_type": "execute_result"
    }
   ],
   "source": [
    "f_two"
   ]
  },
  {
   "cell_type": "code",
   "execution_count": null,
   "metadata": {
    "collapsed": true
   },
   "outputs": [],
   "source": []
  },
  {
   "cell_type": "code",
   "execution_count": 10,
   "metadata": {
    "collapsed": true
   },
   "outputs": [],
   "source": [
    "fthree_crosses = [[0, 1]]"
   ]
  },
  {
   "cell_type": "code",
   "execution_count": 11,
   "metadata": {
    "collapsed": false
   },
   "outputs": [],
   "source": [
    "for fthree_mother, fthree_father in fthree_crosses:\n",
    "    fthree_os = str(f_two[fthree_mother]) + '///' + str(f_two[fthree_father])\n",
    "    f_three = fthree_os"
   ]
  },
  {
   "cell_type": "code",
   "execution_count": 12,
   "metadata": {
    "collapsed": false
   },
   "outputs": [
    {
     "data": {
      "text/plain": [
       "'[B73/B97]//[CML103/CML228]///[CML247/CML277]//[CML322/CML333]'"
      ]
     },
     "execution_count": 12,
     "metadata": {},
     "output_type": "execute_result"
    }
   ],
   "source": [
    "f_three"
   ]
  },
  {
   "cell_type": "code",
   "execution_count": 13,
   "metadata": {
    "collapsed": false
   },
   "outputs": [],
   "source": [
    "f_one_indices = list(range(9, 13))\n",
    "f_two_indices = list(range(13, 15))\n",
    "f_three_indices = 15"
   ]
  },
  {
   "cell_type": "markdown",
   "metadata": {},
   "source": [
    "### Assign Offspring Nodes"
   ]
  },
  {
   "cell_type": "code",
   "execution_count": 14,
   "metadata": {
    "collapsed": true
   },
   "outputs": [],
   "source": [
    "for idx, name in zip(f_one_indices, f_one):\n",
    "    dot.node(str(idx), name)"
   ]
  },
  {
   "cell_type": "code",
   "execution_count": 15,
   "metadata": {
    "collapsed": false
   },
   "outputs": [],
   "source": [
    "for idx, name in zip(f_two_indices, f_two):\n",
    "    dot.node(str(idx), name)"
   ]
  },
  {
   "cell_type": "code",
   "execution_count": 25,
   "metadata": {
    "collapsed": false
   },
   "outputs": [
    {
     "data": {
      "text/plain": [
       "'[B73/B97]//[CML103/CML228]///[CML247/CML277]//[CML322/CML333]'"
      ]
     },
     "execution_count": 25,
     "metadata": {},
     "output_type": "execute_result"
    }
   ],
   "source": [
    "f_three"
   ]
  },
  {
   "cell_type": "code",
   "execution_count": 26,
   "metadata": {
    "collapsed": false
   },
   "outputs": [],
   "source": [
    "dot.node(str(f_three_indices), f_three)"
   ]
  },
  {
   "cell_type": "code",
   "execution_count": 27,
   "metadata": {
    "collapsed": false
   },
   "outputs": [
    {
     "data": {
      "image/svg+xml": [
       "<?xml version=\"1.0\" encoding=\"UTF-8\" standalone=\"no\"?>\r\n",
       "<!DOCTYPE svg PUBLIC \"-//W3C//DTD SVG 1.1//EN\"\r\n",
       " \"http://www.w3.org/Graphics/SVG/1.1/DTD/svg11.dtd\">\r\n",
       "<!-- Generated by graphviz version 2.38.0 (20140413.2041)\r\n",
       " -->\r\n",
       "<!-- Title: %3 Pages: 1 -->\r\n",
       "<svg width=\"1419pt\" height=\"188pt\"\r\n",
       " viewBox=\"0.00 0.00 1418.97 188.00\" xmlns=\"http://www.w3.org/2000/svg\" xmlns:xlink=\"http://www.w3.org/1999/xlink\">\r\n",
       "<g id=\"graph0\" class=\"graph\" transform=\"scale(1 1) rotate(0) translate(4 184)\">\r\n",
       "<title>%3</title>\r\n",
       "<polygon fill=\"white\" stroke=\"none\" points=\"-4,4 -4,-184 1414.97,-184 1414.97,4 -4,4\"/>\r\n",
       "<!-- 0 -->\r\n",
       "<g id=\"node1\" class=\"node\"><title>0</title>\r\n",
       "<ellipse fill=\"none\" stroke=\"black\" cx=\"27\" cy=\"-162\" rx=\"27\" ry=\"18\"/>\r\n",
       "<text text-anchor=\"middle\" x=\"27\" y=\"-158.3\" font-family=\"Times New Roman,serif\" font-size=\"14.00\">B73</text>\r\n",
       "</g>\r\n",
       "<!-- 9 -->\r\n",
       "<g id=\"node9\" class=\"node\"><title>9</title>\r\n",
       "<ellipse fill=\"none\" stroke=\"black\" cx=\"87\" cy=\"-90\" rx=\"42.4939\" ry=\"18\"/>\r\n",
       "<text text-anchor=\"middle\" x=\"87\" y=\"-86.3\" font-family=\"Times New Roman,serif\" font-size=\"14.00\">B73/B97</text>\r\n",
       "</g>\r\n",
       "<!-- 0&#45;&gt;9 -->\r\n",
       "<g id=\"edge1\" class=\"edge\"><title>0&#45;&gt;9</title>\r\n",
       "<path fill=\"none\" stroke=\"black\" d=\"M40.0191,-145.811C47.7427,-136.8 57.7053,-125.177 66.4673,-114.955\"/>\r\n",
       "<polygon fill=\"black\" stroke=\"black\" points=\"69.3207,-117.004 73.1712,-107.134 64.0059,-112.448 69.3207,-117.004\"/>\r\n",
       "</g>\r\n",
       "<!-- 1 -->\r\n",
       "<g id=\"node2\" class=\"node\"><title>1</title>\r\n",
       "<ellipse fill=\"none\" stroke=\"black\" cx=\"99\" cy=\"-162\" rx=\"27\" ry=\"18\"/>\r\n",
       "<text text-anchor=\"middle\" x=\"99\" y=\"-158.3\" font-family=\"Times New Roman,serif\" font-size=\"14.00\">B97</text>\r\n",
       "</g>\r\n",
       "<!-- 1&#45;&gt;9 -->\r\n",
       "<g id=\"edge2\" class=\"edge\"><title>1&#45;&gt;9</title>\r\n",
       "<path fill=\"none\" stroke=\"black\" d=\"M96.0951,-144.055C94.7735,-136.346 93.176,-127.027 91.691,-118.364\"/>\r\n",
       "<polygon fill=\"black\" stroke=\"black\" points=\"95.1009,-117.54 89.9615,-108.275 88.2015,-118.723 95.1009,-117.54\"/>\r\n",
       "</g>\r\n",
       "<!-- 2 -->\r\n",
       "<g id=\"node3\" class=\"node\"><title>2</title>\r\n",
       "<ellipse fill=\"none\" stroke=\"black\" cx=\"213\" cy=\"-162\" rx=\"43.5923\" ry=\"18\"/>\r\n",
       "<text text-anchor=\"middle\" x=\"213\" y=\"-158.3\" font-family=\"Times New Roman,serif\" font-size=\"14.00\">CML103</text>\r\n",
       "</g>\r\n",
       "<!-- 10 -->\r\n",
       "<g id=\"node10\" class=\"node\"><title>10</title>\r\n",
       "<ellipse fill=\"none\" stroke=\"black\" cx=\"226\" cy=\"-90\" rx=\"78.7863\" ry=\"18\"/>\r\n",
       "<text text-anchor=\"middle\" x=\"226\" y=\"-86.3\" font-family=\"Times New Roman,serif\" font-size=\"14.00\">CML103/CML228</text>\r\n",
       "</g>\r\n",
       "<!-- 2&#45;&gt;10 -->\r\n",
       "<g id=\"edge3\" class=\"edge\"><title>2&#45;&gt;10</title>\r\n",
       "<path fill=\"none\" stroke=\"black\" d=\"M216.213,-143.697C217.646,-135.983 219.368,-126.712 220.965,-118.112\"/>\r\n",
       "<polygon fill=\"black\" stroke=\"black\" points=\"224.439,-118.575 222.823,-108.104 217.556,-117.297 224.439,-118.575\"/>\r\n",
       "</g>\r\n",
       "<!-- 3 -->\r\n",
       "<g id=\"node4\" class=\"node\"><title>3</title>\r\n",
       "<ellipse fill=\"none\" stroke=\"black\" cx=\"318\" cy=\"-162\" rx=\"43.5923\" ry=\"18\"/>\r\n",
       "<text text-anchor=\"middle\" x=\"318\" y=\"-158.3\" font-family=\"Times New Roman,serif\" font-size=\"14.00\">CML228</text>\r\n",
       "</g>\r\n",
       "<!-- 3&#45;&gt;10 -->\r\n",
       "<g id=\"edge4\" class=\"edge\"><title>3&#45;&gt;10</title>\r\n",
       "<path fill=\"none\" stroke=\"black\" d=\"M298.037,-145.811C285.696,-136.421 269.626,-124.194 255.796,-113.671\"/>\r\n",
       "<polygon fill=\"black\" stroke=\"black\" points=\"257.606,-110.65 247.528,-107.38 253.367,-116.221 257.606,-110.65\"/>\r\n",
       "</g>\r\n",
       "<!-- 4 -->\r\n",
       "<g id=\"node5\" class=\"node\"><title>4</title>\r\n",
       "<ellipse fill=\"none\" stroke=\"black\" cx=\"449\" cy=\"-162\" rx=\"43.5923\" ry=\"18\"/>\r\n",
       "<text text-anchor=\"middle\" x=\"449\" y=\"-158.3\" font-family=\"Times New Roman,serif\" font-size=\"14.00\">CML247</text>\r\n",
       "</g>\r\n",
       "<!-- 11 -->\r\n",
       "<g id=\"node11\" class=\"node\"><title>11</title>\r\n",
       "<ellipse fill=\"none\" stroke=\"black\" cx=\"532\" cy=\"-90\" rx=\"78.7863\" ry=\"18\"/>\r\n",
       "<text text-anchor=\"middle\" x=\"532\" y=\"-86.3\" font-family=\"Times New Roman,serif\" font-size=\"14.00\">CML247/CML277</text>\r\n",
       "</g>\r\n",
       "<!-- 4&#45;&gt;11 -->\r\n",
       "<g id=\"edge5\" class=\"edge\"><title>4&#45;&gt;11</title>\r\n",
       "<path fill=\"none\" stroke=\"black\" d=\"M467.42,-145.465C478.39,-136.213 492.514,-124.301 504.755,-113.978\"/>\r\n",
       "<polygon fill=\"black\" stroke=\"black\" points=\"507.087,-116.59 512.475,-107.467 502.574,-111.239 507.087,-116.59\"/>\r\n",
       "</g>\r\n",
       "<!-- 5 -->\r\n",
       "<g id=\"node6\" class=\"node\"><title>5</title>\r\n",
       "<ellipse fill=\"none\" stroke=\"black\" cx=\"554\" cy=\"-162\" rx=\"43.5923\" ry=\"18\"/>\r\n",
       "<text text-anchor=\"middle\" x=\"554\" y=\"-158.3\" font-family=\"Times New Roman,serif\" font-size=\"14.00\">CML277</text>\r\n",
       "</g>\r\n",
       "<!-- 5&#45;&gt;11 -->\r\n",
       "<g id=\"edge6\" class=\"edge\"><title>5&#45;&gt;11</title>\r\n",
       "<path fill=\"none\" stroke=\"black\" d=\"M548.674,-144.055C546.225,-136.261 543.258,-126.822 540.511,-118.079\"/>\r\n",
       "<polygon fill=\"black\" stroke=\"black\" points=\"543.767,-116.766 537.429,-108.275 537.089,-118.865 543.767,-116.766\"/>\r\n",
       "</g>\r\n",
       "<!-- 6 -->\r\n",
       "<g id=\"node7\" class=\"node\"><title>6</title>\r\n",
       "<ellipse fill=\"none\" stroke=\"black\" cx=\"672\" cy=\"-162\" rx=\"43.5923\" ry=\"18\"/>\r\n",
       "<text text-anchor=\"middle\" x=\"672\" y=\"-158.3\" font-family=\"Times New Roman,serif\" font-size=\"14.00\">CML322</text>\r\n",
       "</g>\r\n",
       "<!-- 12 -->\r\n",
       "<g id=\"node12\" class=\"node\"><title>12</title>\r\n",
       "<ellipse fill=\"none\" stroke=\"black\" cx=\"707\" cy=\"-90\" rx=\"78.7863\" ry=\"18\"/>\r\n",
       "<text text-anchor=\"middle\" x=\"707\" y=\"-86.3\" font-family=\"Times New Roman,serif\" font-size=\"14.00\">CML322/CML333</text>\r\n",
       "</g>\r\n",
       "<!-- 6&#45;&gt;12 -->\r\n",
       "<g id=\"edge7\" class=\"edge\"><title>6&#45;&gt;12</title>\r\n",
       "<path fill=\"none\" stroke=\"black\" d=\"M680.473,-144.055C684.497,-136.007 689.398,-126.205 693.887,-117.226\"/>\r\n",
       "<polygon fill=\"black\" stroke=\"black\" points=\"697.021,-118.785 698.362,-108.275 690.76,-115.654 697.021,-118.785\"/>\r\n",
       "</g>\r\n",
       "<!-- 7 -->\r\n",
       "<g id=\"node8\" class=\"node\"><title>7</title>\r\n",
       "<ellipse fill=\"none\" stroke=\"black\" cx=\"777\" cy=\"-162\" rx=\"43.5923\" ry=\"18\"/>\r\n",
       "<text text-anchor=\"middle\" x=\"777\" y=\"-158.3\" font-family=\"Times New Roman,serif\" font-size=\"14.00\">CML333</text>\r\n",
       "</g>\r\n",
       "<!-- 7&#45;&gt;12 -->\r\n",
       "<g id=\"edge8\" class=\"edge\"><title>7&#45;&gt;12</title>\r\n",
       "<path fill=\"none\" stroke=\"black\" d=\"M761.116,-145.116C752.244,-136.244 741.009,-125.009 731.077,-115.077\"/>\r\n",
       "<polygon fill=\"black\" stroke=\"black\" points=\"733.343,-112.394 723.797,-107.797 728.394,-117.343 733.343,-112.394\"/>\r\n",
       "</g>\r\n",
       "<!-- 13 -->\r\n",
       "<g id=\"node13\" class=\"node\"><title>13</title>\r\n",
       "<ellipse fill=\"none\" stroke=\"black\" cx=\"200\" cy=\"-18\" rx=\"126.978\" ry=\"18\"/>\r\n",
       "<text text-anchor=\"middle\" x=\"200\" y=\"-14.3\" font-family=\"Times New Roman,serif\" font-size=\"14.00\">[B73/B97]//[CML103/CML228]</text>\r\n",
       "</g>\r\n",
       "<!-- 9&#45;&gt;13 -->\r\n",
       "<g id=\"edge9\" class=\"edge\"><title>9&#45;&gt;13</title>\r\n",
       "<path fill=\"none\" stroke=\"black\" d=\"M109.867,-74.8345C125.464,-65.1729 146.436,-52.1811 164.226,-41.1608\"/>\r\n",
       "<polygon fill=\"black\" stroke=\"black\" points=\"166.536,-43.8472 173.194,-35.6057 162.849,-37.8965 166.536,-43.8472\"/>\r\n",
       "</g>\r\n",
       "<!-- 10&#45;&gt;13 -->\r\n",
       "<g id=\"edge10\" class=\"edge\"><title>10&#45;&gt;13</title>\r\n",
       "<path fill=\"none\" stroke=\"black\" d=\"M219.706,-72.055C216.78,-64.1762 213.229,-54.6165 209.952,-45.794\"/>\r\n",
       "<polygon fill=\"black\" stroke=\"black\" points=\"213.179,-44.4309 206.417,-36.2753 206.617,-46.8682 213.179,-44.4309\"/>\r\n",
       "</g>\r\n",
       "<!-- 14 -->\r\n",
       "<g id=\"node14\" class=\"node\"><title>14</title>\r\n",
       "<ellipse fill=\"none\" stroke=\"black\" cx=\"570\" cy=\"-18\" rx=\"163.271\" ry=\"18\"/>\r\n",
       "<text text-anchor=\"middle\" x=\"570\" y=\"-14.3\" font-family=\"Times New Roman,serif\" font-size=\"14.00\">[CML247/CML277]//[CML322/CML333]</text>\r\n",
       "</g>\r\n",
       "<!-- 11&#45;&gt;14 -->\r\n",
       "<g id=\"edge11\" class=\"edge\"><title>11&#45;&gt;14</title>\r\n",
       "<path fill=\"none\" stroke=\"black\" d=\"M541.199,-72.055C545.568,-64.0067 550.889,-54.2046 555.763,-45.2259\"/>\r\n",
       "<polygon fill=\"black\" stroke=\"black\" points=\"558.927,-46.7337 560.622,-36.2753 552.775,-43.394 558.927,-46.7337\"/>\r\n",
       "</g>\r\n",
       "<!-- 12&#45;&gt;14 -->\r\n",
       "<g id=\"edge12\" class=\"edge\"><title>12&#45;&gt;14</title>\r\n",
       "<path fill=\"none\" stroke=\"black\" d=\"M676.255,-73.2906C657.287,-63.5994 632.704,-51.0386 611.961,-40.4401\"/>\r\n",
       "<polygon fill=\"black\" stroke=\"black\" points=\"613.533,-37.3128 603.036,-35.8795 610.348,-43.5463 613.533,-37.3128\"/>\r\n",
       "</g>\r\n",
       "<!-- 15 -->\r\n",
       "<g id=\"node15\" class=\"node\"><title>15</title>\r\n",
       "<ellipse fill=\"none\" stroke=\"black\" cx=\"1125\" cy=\"-162\" rx=\"285.949\" ry=\"18\"/>\r\n",
       "<text text-anchor=\"middle\" x=\"1125\" y=\"-158.3\" font-family=\"Times New Roman,serif\" font-size=\"14.00\">[B73/B97]//[CML103/CML228]///[CML247/CML277]//[CML322/CML333]</text>\r\n",
       "</g>\r\n",
       "</g>\r\n",
       "</svg>\r\n"
      ],
      "text/plain": [
       "<graphviz.dot.Digraph at 0x47a0da0>"
      ]
     },
     "execution_count": 27,
     "metadata": {},
     "output_type": "execute_result"
    }
   ],
   "source": [
    "dot"
   ]
  },
  {
   "cell_type": "markdown",
   "metadata": {},
   "source": [
    "## Edge Assignment"
   ]
  },
  {
   "cell_type": "code",
   "execution_count": 17,
   "metadata": {
    "collapsed": false
   },
   "outputs": [],
   "source": [
    "for idx, (mother, father) in enumerate(founders):\n",
    "    dot.edge(str(mother), str(f_one_indices[idx]))\n",
    "    dot.edge(str(father), str(f_one_indices[idx]))"
   ]
  },
  {
   "cell_type": "code",
   "execution_count": 18,
   "metadata": {
    "collapsed": false
   },
   "outputs": [],
   "source": [
    "fone_crosses = [f_one_indices[0:2:], f_one_indices[2::]]"
   ]
  },
  {
   "cell_type": "code",
   "execution_count": 19,
   "metadata": {
    "collapsed": true
   },
   "outputs": [],
   "source": [
    "for idx, (mother, father) in enumerate(fone_crosses):\n",
    "    dot.edge(str(mother), str(f_two_indices[idx]))\n",
    "    dot.edge(str(father), str(f_two_indices[idx]))"
   ]
  },
  {
   "cell_type": "code",
   "execution_count": 28,
   "metadata": {
    "collapsed": true
   },
   "outputs": [],
   "source": [
    "dot.edge('13', '15')\n",
    "dot.edge('14', '15')"
   ]
  },
  {
   "cell_type": "code",
   "execution_count": 29,
   "metadata": {
    "collapsed": false
   },
   "outputs": [
    {
     "data": {
      "image/svg+xml": [
       "<?xml version=\"1.0\" encoding=\"UTF-8\" standalone=\"no\"?>\r\n",
       "<!DOCTYPE svg PUBLIC \"-//W3C//DTD SVG 1.1//EN\"\r\n",
       " \"http://www.w3.org/Graphics/SVG/1.1/DTD/svg11.dtd\">\r\n",
       "<!-- Generated by graphviz version 2.38.0 (20140413.2041)\r\n",
       " -->\r\n",
       "<!-- Title: %3 Pages: 1 -->\r\n",
       "<svg width=\"807pt\" height=\"260pt\"\r\n",
       " viewBox=\"0.00 0.00 806.55 260.00\" xmlns=\"http://www.w3.org/2000/svg\" xmlns:xlink=\"http://www.w3.org/1999/xlink\">\r\n",
       "<g id=\"graph0\" class=\"graph\" transform=\"scale(1 1) rotate(0) translate(4 256)\">\r\n",
       "<title>%3</title>\r\n",
       "<polygon fill=\"white\" stroke=\"none\" points=\"-4,4 -4,-256 802.546,-256 802.546,4 -4,4\"/>\r\n",
       "<!-- 0 -->\r\n",
       "<g id=\"node1\" class=\"node\"><title>0</title>\r\n",
       "<ellipse fill=\"none\" stroke=\"black\" cx=\"27\" cy=\"-234\" rx=\"27\" ry=\"18\"/>\r\n",
       "<text text-anchor=\"middle\" x=\"27\" y=\"-230.3\" font-family=\"Times New Roman,serif\" font-size=\"14.00\">B73</text>\r\n",
       "</g>\r\n",
       "<!-- 9 -->\r\n",
       "<g id=\"node9\" class=\"node\"><title>9</title>\r\n",
       "<ellipse fill=\"none\" stroke=\"black\" cx=\"74\" cy=\"-162\" rx=\"42.4939\" ry=\"18\"/>\r\n",
       "<text text-anchor=\"middle\" x=\"74\" y=\"-158.3\" font-family=\"Times New Roman,serif\" font-size=\"14.00\">B73/B97</text>\r\n",
       "</g>\r\n",
       "<!-- 0&#45;&gt;9 -->\r\n",
       "<g id=\"edge1\" class=\"edge\"><title>0&#45;&gt;9</title>\r\n",
       "<path fill=\"none\" stroke=\"black\" d=\"M37.665,-217.116C43.3882,-208.592 50.5765,-197.886 57.0456,-188.251\"/>\r\n",
       "<polygon fill=\"black\" stroke=\"black\" points=\"60.0532,-190.051 62.7218,-179.797 54.2416,-186.149 60.0532,-190.051\"/>\r\n",
       "</g>\r\n",
       "<!-- 1 -->\r\n",
       "<g id=\"node2\" class=\"node\"><title>1</title>\r\n",
       "<ellipse fill=\"none\" stroke=\"black\" cx=\"99\" cy=\"-234\" rx=\"27\" ry=\"18\"/>\r\n",
       "<text text-anchor=\"middle\" x=\"99\" y=\"-230.3\" font-family=\"Times New Roman,serif\" font-size=\"14.00\">B97</text>\r\n",
       "</g>\r\n",
       "<!-- 1&#45;&gt;9 -->\r\n",
       "<g id=\"edge2\" class=\"edge\"><title>1&#45;&gt;9</title>\r\n",
       "<path fill=\"none\" stroke=\"black\" d=\"M93.0753,-216.411C90.2218,-208.421 86.7292,-198.642 83.516,-189.645\"/>\r\n",
       "<polygon fill=\"black\" stroke=\"black\" points=\"86.7153,-188.196 80.0558,-179.956 80.1231,-190.551 86.7153,-188.196\"/>\r\n",
       "</g>\r\n",
       "<!-- 2 -->\r\n",
       "<g id=\"node3\" class=\"node\"><title>2</title>\r\n",
       "<ellipse fill=\"none\" stroke=\"black\" cx=\"200\" cy=\"-234\" rx=\"43.5923\" ry=\"18\"/>\r\n",
       "<text text-anchor=\"middle\" x=\"200\" y=\"-230.3\" font-family=\"Times New Roman,serif\" font-size=\"14.00\">CML103</text>\r\n",
       "</g>\r\n",
       "<!-- 10 -->\r\n",
       "<g id=\"node10\" class=\"node\"><title>10</title>\r\n",
       "<ellipse fill=\"none\" stroke=\"black\" cx=\"213\" cy=\"-162\" rx=\"78.7863\" ry=\"18\"/>\r\n",
       "<text text-anchor=\"middle\" x=\"213\" y=\"-158.3\" font-family=\"Times New Roman,serif\" font-size=\"14.00\">CML103/CML228</text>\r\n",
       "</g>\r\n",
       "<!-- 2&#45;&gt;10 -->\r\n",
       "<g id=\"edge3\" class=\"edge\"><title>2&#45;&gt;10</title>\r\n",
       "<path fill=\"none\" stroke=\"black\" d=\"M203.213,-215.697C204.646,-207.983 206.368,-198.712 207.965,-190.112\"/>\r\n",
       "<polygon fill=\"black\" stroke=\"black\" points=\"211.439,-190.575 209.823,-180.104 204.556,-189.297 211.439,-190.575\"/>\r\n",
       "</g>\r\n",
       "<!-- 3 -->\r\n",
       "<g id=\"node4\" class=\"node\"><title>3</title>\r\n",
       "<ellipse fill=\"none\" stroke=\"black\" cx=\"305\" cy=\"-234\" rx=\"43.5923\" ry=\"18\"/>\r\n",
       "<text text-anchor=\"middle\" x=\"305\" y=\"-230.3\" font-family=\"Times New Roman,serif\" font-size=\"14.00\">CML228</text>\r\n",
       "</g>\r\n",
       "<!-- 3&#45;&gt;10 -->\r\n",
       "<g id=\"edge4\" class=\"edge\"><title>3&#45;&gt;10</title>\r\n",
       "<path fill=\"none\" stroke=\"black\" d=\"M285.037,-217.811C272.696,-208.421 256.626,-196.194 242.796,-185.671\"/>\r\n",
       "<polygon fill=\"black\" stroke=\"black\" points=\"244.606,-182.65 234.528,-179.38 240.367,-188.221 244.606,-182.65\"/>\r\n",
       "</g>\r\n",
       "<!-- 4 -->\r\n",
       "<g id=\"node5\" class=\"node\"><title>4</title>\r\n",
       "<ellipse fill=\"none\" stroke=\"black\" cx=\"430\" cy=\"-234\" rx=\"43.5923\" ry=\"18\"/>\r\n",
       "<text text-anchor=\"middle\" x=\"430\" y=\"-230.3\" font-family=\"Times New Roman,serif\" font-size=\"14.00\">CML247</text>\r\n",
       "</g>\r\n",
       "<!-- 11 -->\r\n",
       "<g id=\"node11\" class=\"node\"><title>11</title>\r\n",
       "<ellipse fill=\"none\" stroke=\"black\" cx=\"510\" cy=\"-162\" rx=\"78.7863\" ry=\"18\"/>\r\n",
       "<text text-anchor=\"middle\" x=\"510\" y=\"-158.3\" font-family=\"Times New Roman,serif\" font-size=\"14.00\">CML247/CML277</text>\r\n",
       "</g>\r\n",
       "<!-- 4&#45;&gt;11 -->\r\n",
       "<g id=\"edge5\" class=\"edge\"><title>4&#45;&gt;11</title>\r\n",
       "<path fill=\"none\" stroke=\"black\" d=\"M447.755,-217.465C458.152,-208.367 471.49,-196.696 483.151,-186.493\"/>\r\n",
       "<polygon fill=\"black\" stroke=\"black\" points=\"485.677,-188.933 490.898,-179.714 481.068,-183.665 485.677,-188.933\"/>\r\n",
       "</g>\r\n",
       "<!-- 5 -->\r\n",
       "<g id=\"node6\" class=\"node\"><title>5</title>\r\n",
       "<ellipse fill=\"none\" stroke=\"black\" cx=\"535\" cy=\"-234\" rx=\"43.5923\" ry=\"18\"/>\r\n",
       "<text text-anchor=\"middle\" x=\"535\" y=\"-230.3\" font-family=\"Times New Roman,serif\" font-size=\"14.00\">CML277</text>\r\n",
       "</g>\r\n",
       "<!-- 5&#45;&gt;11 -->\r\n",
       "<g id=\"edge6\" class=\"edge\"><title>5&#45;&gt;11</title>\r\n",
       "<path fill=\"none\" stroke=\"black\" d=\"M528.948,-216.055C526.134,-208.176 522.72,-198.617 519.569,-189.794\"/>\r\n",
       "<polygon fill=\"black\" stroke=\"black\" points=\"522.829,-188.516 516.17,-180.275 516.237,-190.87 522.829,-188.516\"/>\r\n",
       "</g>\r\n",
       "<!-- 6 -->\r\n",
       "<g id=\"node7\" class=\"node\"><title>6</title>\r\n",
       "<ellipse fill=\"none\" stroke=\"black\" cx=\"650\" cy=\"-234\" rx=\"43.5923\" ry=\"18\"/>\r\n",
       "<text text-anchor=\"middle\" x=\"650\" y=\"-230.3\" font-family=\"Times New Roman,serif\" font-size=\"14.00\">CML322</text>\r\n",
       "</g>\r\n",
       "<!-- 12 -->\r\n",
       "<g id=\"node12\" class=\"node\"><title>12</title>\r\n",
       "<ellipse fill=\"none\" stroke=\"black\" cx=\"685\" cy=\"-162\" rx=\"78.7863\" ry=\"18\"/>\r\n",
       "<text text-anchor=\"middle\" x=\"685\" y=\"-158.3\" font-family=\"Times New Roman,serif\" font-size=\"14.00\">CML322/CML333</text>\r\n",
       "</g>\r\n",
       "<!-- 6&#45;&gt;12 -->\r\n",
       "<g id=\"edge7\" class=\"edge\"><title>6&#45;&gt;12</title>\r\n",
       "<path fill=\"none\" stroke=\"black\" d=\"M658.473,-216.055C662.497,-208.007 667.398,-198.205 671.887,-189.226\"/>\r\n",
       "<polygon fill=\"black\" stroke=\"black\" points=\"675.021,-190.785 676.362,-180.275 668.76,-187.654 675.021,-190.785\"/>\r\n",
       "</g>\r\n",
       "<!-- 7 -->\r\n",
       "<g id=\"node8\" class=\"node\"><title>7</title>\r\n",
       "<ellipse fill=\"none\" stroke=\"black\" cx=\"755\" cy=\"-234\" rx=\"43.5923\" ry=\"18\"/>\r\n",
       "<text text-anchor=\"middle\" x=\"755\" y=\"-230.3\" font-family=\"Times New Roman,serif\" font-size=\"14.00\">CML333</text>\r\n",
       "</g>\r\n",
       "<!-- 7&#45;&gt;12 -->\r\n",
       "<g id=\"edge8\" class=\"edge\"><title>7&#45;&gt;12</title>\r\n",
       "<path fill=\"none\" stroke=\"black\" d=\"M739.116,-217.116C730.244,-208.244 719.009,-197.009 709.077,-187.077\"/>\r\n",
       "<polygon fill=\"black\" stroke=\"black\" points=\"711.343,-184.394 701.797,-179.797 706.394,-189.343 711.343,-184.394\"/>\r\n",
       "</g>\r\n",
       "<!-- 13 -->\r\n",
       "<g id=\"node13\" class=\"node\"><title>13</title>\r\n",
       "<ellipse fill=\"none\" stroke=\"black\" cx=\"207\" cy=\"-90\" rx=\"126.978\" ry=\"18\"/>\r\n",
       "<text text-anchor=\"middle\" x=\"207\" y=\"-86.3\" font-family=\"Times New Roman,serif\" font-size=\"14.00\">[B73/B97]//[CML103/CML228]</text>\r\n",
       "</g>\r\n",
       "<!-- 9&#45;&gt;13 -->\r\n",
       "<g id=\"edge9\" class=\"edge\"><title>9&#45;&gt;13</title>\r\n",
       "<path fill=\"none\" stroke=\"black\" d=\"M99.6437,-147.503C118.534,-137.561 144.605,-123.839 166.325,-112.408\"/>\r\n",
       "<polygon fill=\"black\" stroke=\"black\" points=\"168.114,-115.421 175.333,-107.667 164.854,-109.227 168.114,-115.421\"/>\r\n",
       "</g>\r\n",
       "<!-- 10&#45;&gt;13 -->\r\n",
       "<g id=\"edge10\" class=\"edge\"><title>10&#45;&gt;13</title>\r\n",
       "<path fill=\"none\" stroke=\"black\" d=\"M211.517,-143.697C210.856,-135.983 210.061,-126.712 209.324,-118.112\"/>\r\n",
       "<polygon fill=\"black\" stroke=\"black\" points=\"212.807,-117.769 208.466,-108.104 205.833,-118.367 212.807,-117.769\"/>\r\n",
       "</g>\r\n",
       "<!-- 14 -->\r\n",
       "<g id=\"node14\" class=\"node\"><title>14</title>\r\n",
       "<ellipse fill=\"none\" stroke=\"black\" cx=\"515\" cy=\"-90\" rx=\"163.271\" ry=\"18\"/>\r\n",
       "<text text-anchor=\"middle\" x=\"515\" y=\"-86.3\" font-family=\"Times New Roman,serif\" font-size=\"14.00\">[CML247/CML277]//[CML322/CML333]</text>\r\n",
       "</g>\r\n",
       "<!-- 11&#45;&gt;14 -->\r\n",
       "<g id=\"edge11\" class=\"edge\"><title>11&#45;&gt;14</title>\r\n",
       "<path fill=\"none\" stroke=\"black\" d=\"M511.236,-143.697C511.787,-135.983 512.449,-126.712 513.063,-118.112\"/>\r\n",
       "<polygon fill=\"black\" stroke=\"black\" points=\"516.557,-118.328 513.778,-108.104 509.575,-117.83 516.557,-118.328\"/>\r\n",
       "</g>\r\n",
       "<!-- 12&#45;&gt;14 -->\r\n",
       "<g id=\"edge12\" class=\"edge\"><title>12&#45;&gt;14</title>\r\n",
       "<path fill=\"none\" stroke=\"black\" d=\"M648.531,-145.983C623.92,-135.849 591.146,-122.354 564.228,-111.27\"/>\r\n",
       "<polygon fill=\"black\" stroke=\"black\" points=\"565.553,-108.031 554.973,-107.46 562.887,-114.504 565.553,-108.031\"/>\r\n",
       "</g>\r\n",
       "<!-- 15 -->\r\n",
       "<g id=\"node15\" class=\"node\"><title>15</title>\r\n",
       "<ellipse fill=\"none\" stroke=\"black\" cx=\"361\" cy=\"-18\" rx=\"285.949\" ry=\"18\"/>\r\n",
       "<text text-anchor=\"middle\" x=\"361\" y=\"-14.3\" font-family=\"Times New Roman,serif\" font-size=\"14.00\">[B73/B97]//[CML103/CML228]///[CML247/CML277]//[CML322/CML333]</text>\r\n",
       "</g>\r\n",
       "<!-- 13&#45;&gt;15 -->\r\n",
       "<g id=\"edge13\" class=\"edge\"><title>13&#45;&gt;15</title>\r\n",
       "<path fill=\"none\" stroke=\"black\" d=\"M243.106,-72.5881C264.437,-62.8921 291.667,-50.5149 314.582,-40.0989\"/>\r\n",
       "<polygon fill=\"black\" stroke=\"black\" points=\"316.126,-43.2419 323.782,-35.9175 313.23,-36.8693 316.126,-43.2419\"/>\r\n",
       "</g>\r\n",
       "<!-- 14&#45;&gt;15 -->\r\n",
       "<g id=\"edge14\" class=\"edge\"><title>14&#45;&gt;15</title>\r\n",
       "<path fill=\"none\" stroke=\"black\" d=\"M478.504,-72.411C457.241,-62.7458 430.216,-50.462 407.447,-40.1121\"/>\r\n",
       "<polygon fill=\"black\" stroke=\"black\" points=\"408.856,-36.908 398.304,-35.9562 405.959,-43.2806 408.856,-36.908\"/>\r\n",
       "</g>\r\n",
       "</g>\r\n",
       "</svg>\r\n"
      ],
      "text/plain": [
       "<graphviz.dot.Digraph at 0x47a0da0>"
      ]
     },
     "execution_count": 29,
     "metadata": {},
     "output_type": "execute_result"
    }
   ],
   "source": [
    "dot"
   ]
  },
  {
   "cell_type": "code",
   "execution_count": 31,
   "metadata": {
    "collapsed": false
   },
   "outputs": [],
   "source": [
    "dot.node_attr.update(color='lightblue2', style='filled')"
   ]
  },
  {
   "cell_type": "code",
   "execution_count": 32,
   "metadata": {
    "collapsed": false
   },
   "outputs": [
    {
     "data": {
      "image/svg+xml": [
       "<?xml version=\"1.0\" encoding=\"UTF-8\" standalone=\"no\"?>\r\n",
       "<!DOCTYPE svg PUBLIC \"-//W3C//DTD SVG 1.1//EN\"\r\n",
       " \"http://www.w3.org/Graphics/SVG/1.1/DTD/svg11.dtd\">\r\n",
       "<!-- Generated by graphviz version 2.38.0 (20140413.2041)\r\n",
       " -->\r\n",
       "<!-- Title: %3 Pages: 1 -->\r\n",
       "<svg width=\"807pt\" height=\"260pt\"\r\n",
       " viewBox=\"0.00 0.00 806.55 260.00\" xmlns=\"http://www.w3.org/2000/svg\" xmlns:xlink=\"http://www.w3.org/1999/xlink\">\r\n",
       "<g id=\"graph0\" class=\"graph\" transform=\"scale(1 1) rotate(0) translate(4 256)\">\r\n",
       "<title>%3</title>\r\n",
       "<polygon fill=\"white\" stroke=\"none\" points=\"-4,4 -4,-256 802.546,-256 802.546,4 -4,4\"/>\r\n",
       "<!-- 0 -->\r\n",
       "<g id=\"node1\" class=\"node\"><title>0</title>\r\n",
       "<ellipse fill=\"#b2dfee\" stroke=\"#b2dfee\" cx=\"27\" cy=\"-234\" rx=\"27\" ry=\"18\"/>\r\n",
       "<text text-anchor=\"middle\" x=\"27\" y=\"-230.3\" font-family=\"Times New Roman,serif\" font-size=\"14.00\">B73</text>\r\n",
       "</g>\r\n",
       "<!-- 9 -->\r\n",
       "<g id=\"node9\" class=\"node\"><title>9</title>\r\n",
       "<ellipse fill=\"#b2dfee\" stroke=\"#b2dfee\" cx=\"74\" cy=\"-162\" rx=\"42.4939\" ry=\"18\"/>\r\n",
       "<text text-anchor=\"middle\" x=\"74\" y=\"-158.3\" font-family=\"Times New Roman,serif\" font-size=\"14.00\">B73/B97</text>\r\n",
       "</g>\r\n",
       "<!-- 0&#45;&gt;9 -->\r\n",
       "<g id=\"edge1\" class=\"edge\"><title>0&#45;&gt;9</title>\r\n",
       "<path fill=\"none\" stroke=\"black\" d=\"M37.665,-217.116C43.3882,-208.592 50.5765,-197.886 57.0456,-188.251\"/>\r\n",
       "<polygon fill=\"black\" stroke=\"black\" points=\"60.0532,-190.051 62.7218,-179.797 54.2416,-186.149 60.0532,-190.051\"/>\r\n",
       "</g>\r\n",
       "<!-- 1 -->\r\n",
       "<g id=\"node2\" class=\"node\"><title>1</title>\r\n",
       "<ellipse fill=\"#b2dfee\" stroke=\"#b2dfee\" cx=\"99\" cy=\"-234\" rx=\"27\" ry=\"18\"/>\r\n",
       "<text text-anchor=\"middle\" x=\"99\" y=\"-230.3\" font-family=\"Times New Roman,serif\" font-size=\"14.00\">B97</text>\r\n",
       "</g>\r\n",
       "<!-- 1&#45;&gt;9 -->\r\n",
       "<g id=\"edge2\" class=\"edge\"><title>1&#45;&gt;9</title>\r\n",
       "<path fill=\"none\" stroke=\"black\" d=\"M93.0753,-216.411C90.2218,-208.421 86.7292,-198.642 83.516,-189.645\"/>\r\n",
       "<polygon fill=\"black\" stroke=\"black\" points=\"86.7153,-188.196 80.0558,-179.956 80.1231,-190.551 86.7153,-188.196\"/>\r\n",
       "</g>\r\n",
       "<!-- 2 -->\r\n",
       "<g id=\"node3\" class=\"node\"><title>2</title>\r\n",
       "<ellipse fill=\"#b2dfee\" stroke=\"#b2dfee\" cx=\"200\" cy=\"-234\" rx=\"43.5923\" ry=\"18\"/>\r\n",
       "<text text-anchor=\"middle\" x=\"200\" y=\"-230.3\" font-family=\"Times New Roman,serif\" font-size=\"14.00\">CML103</text>\r\n",
       "</g>\r\n",
       "<!-- 10 -->\r\n",
       "<g id=\"node10\" class=\"node\"><title>10</title>\r\n",
       "<ellipse fill=\"#b2dfee\" stroke=\"#b2dfee\" cx=\"213\" cy=\"-162\" rx=\"78.7863\" ry=\"18\"/>\r\n",
       "<text text-anchor=\"middle\" x=\"213\" y=\"-158.3\" font-family=\"Times New Roman,serif\" font-size=\"14.00\">CML103/CML228</text>\r\n",
       "</g>\r\n",
       "<!-- 2&#45;&gt;10 -->\r\n",
       "<g id=\"edge3\" class=\"edge\"><title>2&#45;&gt;10</title>\r\n",
       "<path fill=\"none\" stroke=\"black\" d=\"M203.213,-215.697C204.646,-207.983 206.368,-198.712 207.965,-190.112\"/>\r\n",
       "<polygon fill=\"black\" stroke=\"black\" points=\"211.439,-190.575 209.823,-180.104 204.556,-189.297 211.439,-190.575\"/>\r\n",
       "</g>\r\n",
       "<!-- 3 -->\r\n",
       "<g id=\"node4\" class=\"node\"><title>3</title>\r\n",
       "<ellipse fill=\"#b2dfee\" stroke=\"#b2dfee\" cx=\"305\" cy=\"-234\" rx=\"43.5923\" ry=\"18\"/>\r\n",
       "<text text-anchor=\"middle\" x=\"305\" y=\"-230.3\" font-family=\"Times New Roman,serif\" font-size=\"14.00\">CML228</text>\r\n",
       "</g>\r\n",
       "<!-- 3&#45;&gt;10 -->\r\n",
       "<g id=\"edge4\" class=\"edge\"><title>3&#45;&gt;10</title>\r\n",
       "<path fill=\"none\" stroke=\"black\" d=\"M285.037,-217.811C272.696,-208.421 256.626,-196.194 242.796,-185.671\"/>\r\n",
       "<polygon fill=\"black\" stroke=\"black\" points=\"244.606,-182.65 234.528,-179.38 240.367,-188.221 244.606,-182.65\"/>\r\n",
       "</g>\r\n",
       "<!-- 4 -->\r\n",
       "<g id=\"node5\" class=\"node\"><title>4</title>\r\n",
       "<ellipse fill=\"#b2dfee\" stroke=\"#b2dfee\" cx=\"430\" cy=\"-234\" rx=\"43.5923\" ry=\"18\"/>\r\n",
       "<text text-anchor=\"middle\" x=\"430\" y=\"-230.3\" font-family=\"Times New Roman,serif\" font-size=\"14.00\">CML247</text>\r\n",
       "</g>\r\n",
       "<!-- 11 -->\r\n",
       "<g id=\"node11\" class=\"node\"><title>11</title>\r\n",
       "<ellipse fill=\"#b2dfee\" stroke=\"#b2dfee\" cx=\"510\" cy=\"-162\" rx=\"78.7863\" ry=\"18\"/>\r\n",
       "<text text-anchor=\"middle\" x=\"510\" y=\"-158.3\" font-family=\"Times New Roman,serif\" font-size=\"14.00\">CML247/CML277</text>\r\n",
       "</g>\r\n",
       "<!-- 4&#45;&gt;11 -->\r\n",
       "<g id=\"edge5\" class=\"edge\"><title>4&#45;&gt;11</title>\r\n",
       "<path fill=\"none\" stroke=\"black\" d=\"M447.755,-217.465C458.152,-208.367 471.49,-196.696 483.151,-186.493\"/>\r\n",
       "<polygon fill=\"black\" stroke=\"black\" points=\"485.677,-188.933 490.898,-179.714 481.068,-183.665 485.677,-188.933\"/>\r\n",
       "</g>\r\n",
       "<!-- 5 -->\r\n",
       "<g id=\"node6\" class=\"node\"><title>5</title>\r\n",
       "<ellipse fill=\"#b2dfee\" stroke=\"#b2dfee\" cx=\"535\" cy=\"-234\" rx=\"43.5923\" ry=\"18\"/>\r\n",
       "<text text-anchor=\"middle\" x=\"535\" y=\"-230.3\" font-family=\"Times New Roman,serif\" font-size=\"14.00\">CML277</text>\r\n",
       "</g>\r\n",
       "<!-- 5&#45;&gt;11 -->\r\n",
       "<g id=\"edge6\" class=\"edge\"><title>5&#45;&gt;11</title>\r\n",
       "<path fill=\"none\" stroke=\"black\" d=\"M528.948,-216.055C526.134,-208.176 522.72,-198.617 519.569,-189.794\"/>\r\n",
       "<polygon fill=\"black\" stroke=\"black\" points=\"522.829,-188.516 516.17,-180.275 516.237,-190.87 522.829,-188.516\"/>\r\n",
       "</g>\r\n",
       "<!-- 6 -->\r\n",
       "<g id=\"node7\" class=\"node\"><title>6</title>\r\n",
       "<ellipse fill=\"#b2dfee\" stroke=\"#b2dfee\" cx=\"650\" cy=\"-234\" rx=\"43.5923\" ry=\"18\"/>\r\n",
       "<text text-anchor=\"middle\" x=\"650\" y=\"-230.3\" font-family=\"Times New Roman,serif\" font-size=\"14.00\">CML322</text>\r\n",
       "</g>\r\n",
       "<!-- 12 -->\r\n",
       "<g id=\"node12\" class=\"node\"><title>12</title>\r\n",
       "<ellipse fill=\"#b2dfee\" stroke=\"#b2dfee\" cx=\"685\" cy=\"-162\" rx=\"78.7863\" ry=\"18\"/>\r\n",
       "<text text-anchor=\"middle\" x=\"685\" y=\"-158.3\" font-family=\"Times New Roman,serif\" font-size=\"14.00\">CML322/CML333</text>\r\n",
       "</g>\r\n",
       "<!-- 6&#45;&gt;12 -->\r\n",
       "<g id=\"edge7\" class=\"edge\"><title>6&#45;&gt;12</title>\r\n",
       "<path fill=\"none\" stroke=\"black\" d=\"M658.473,-216.055C662.497,-208.007 667.398,-198.205 671.887,-189.226\"/>\r\n",
       "<polygon fill=\"black\" stroke=\"black\" points=\"675.021,-190.785 676.362,-180.275 668.76,-187.654 675.021,-190.785\"/>\r\n",
       "</g>\r\n",
       "<!-- 7 -->\r\n",
       "<g id=\"node8\" class=\"node\"><title>7</title>\r\n",
       "<ellipse fill=\"#b2dfee\" stroke=\"#b2dfee\" cx=\"755\" cy=\"-234\" rx=\"43.5923\" ry=\"18\"/>\r\n",
       "<text text-anchor=\"middle\" x=\"755\" y=\"-230.3\" font-family=\"Times New Roman,serif\" font-size=\"14.00\">CML333</text>\r\n",
       "</g>\r\n",
       "<!-- 7&#45;&gt;12 -->\r\n",
       "<g id=\"edge8\" class=\"edge\"><title>7&#45;&gt;12</title>\r\n",
       "<path fill=\"none\" stroke=\"black\" d=\"M739.116,-217.116C730.244,-208.244 719.009,-197.009 709.077,-187.077\"/>\r\n",
       "<polygon fill=\"black\" stroke=\"black\" points=\"711.343,-184.394 701.797,-179.797 706.394,-189.343 711.343,-184.394\"/>\r\n",
       "</g>\r\n",
       "<!-- 13 -->\r\n",
       "<g id=\"node13\" class=\"node\"><title>13</title>\r\n",
       "<ellipse fill=\"#b2dfee\" stroke=\"#b2dfee\" cx=\"207\" cy=\"-90\" rx=\"126.978\" ry=\"18\"/>\r\n",
       "<text text-anchor=\"middle\" x=\"207\" y=\"-86.3\" font-family=\"Times New Roman,serif\" font-size=\"14.00\">[B73/B97]//[CML103/CML228]</text>\r\n",
       "</g>\r\n",
       "<!-- 9&#45;&gt;13 -->\r\n",
       "<g id=\"edge9\" class=\"edge\"><title>9&#45;&gt;13</title>\r\n",
       "<path fill=\"none\" stroke=\"black\" d=\"M99.6437,-147.503C118.534,-137.561 144.605,-123.839 166.325,-112.408\"/>\r\n",
       "<polygon fill=\"black\" stroke=\"black\" points=\"168.114,-115.421 175.333,-107.667 164.854,-109.227 168.114,-115.421\"/>\r\n",
       "</g>\r\n",
       "<!-- 10&#45;&gt;13 -->\r\n",
       "<g id=\"edge10\" class=\"edge\"><title>10&#45;&gt;13</title>\r\n",
       "<path fill=\"none\" stroke=\"black\" d=\"M211.517,-143.697C210.856,-135.983 210.061,-126.712 209.324,-118.112\"/>\r\n",
       "<polygon fill=\"black\" stroke=\"black\" points=\"212.807,-117.769 208.466,-108.104 205.833,-118.367 212.807,-117.769\"/>\r\n",
       "</g>\r\n",
       "<!-- 14 -->\r\n",
       "<g id=\"node14\" class=\"node\"><title>14</title>\r\n",
       "<ellipse fill=\"#b2dfee\" stroke=\"#b2dfee\" cx=\"515\" cy=\"-90\" rx=\"163.271\" ry=\"18\"/>\r\n",
       "<text text-anchor=\"middle\" x=\"515\" y=\"-86.3\" font-family=\"Times New Roman,serif\" font-size=\"14.00\">[CML247/CML277]//[CML322/CML333]</text>\r\n",
       "</g>\r\n",
       "<!-- 11&#45;&gt;14 -->\r\n",
       "<g id=\"edge11\" class=\"edge\"><title>11&#45;&gt;14</title>\r\n",
       "<path fill=\"none\" stroke=\"black\" d=\"M511.236,-143.697C511.787,-135.983 512.449,-126.712 513.063,-118.112\"/>\r\n",
       "<polygon fill=\"black\" stroke=\"black\" points=\"516.557,-118.328 513.778,-108.104 509.575,-117.83 516.557,-118.328\"/>\r\n",
       "</g>\r\n",
       "<!-- 12&#45;&gt;14 -->\r\n",
       "<g id=\"edge12\" class=\"edge\"><title>12&#45;&gt;14</title>\r\n",
       "<path fill=\"none\" stroke=\"black\" d=\"M648.531,-145.983C623.92,-135.849 591.146,-122.354 564.228,-111.27\"/>\r\n",
       "<polygon fill=\"black\" stroke=\"black\" points=\"565.553,-108.031 554.973,-107.46 562.887,-114.504 565.553,-108.031\"/>\r\n",
       "</g>\r\n",
       "<!-- 15 -->\r\n",
       "<g id=\"node15\" class=\"node\"><title>15</title>\r\n",
       "<ellipse fill=\"#b2dfee\" stroke=\"#b2dfee\" cx=\"361\" cy=\"-18\" rx=\"285.949\" ry=\"18\"/>\r\n",
       "<text text-anchor=\"middle\" x=\"361\" y=\"-14.3\" font-family=\"Times New Roman,serif\" font-size=\"14.00\">[B73/B97]//[CML103/CML228]///[CML247/CML277]//[CML322/CML333]</text>\r\n",
       "</g>\r\n",
       "<!-- 13&#45;&gt;15 -->\r\n",
       "<g id=\"edge13\" class=\"edge\"><title>13&#45;&gt;15</title>\r\n",
       "<path fill=\"none\" stroke=\"black\" d=\"M243.106,-72.5881C264.437,-62.8921 291.667,-50.5149 314.582,-40.0989\"/>\r\n",
       "<polygon fill=\"black\" stroke=\"black\" points=\"316.126,-43.2419 323.782,-35.9175 313.23,-36.8693 316.126,-43.2419\"/>\r\n",
       "</g>\r\n",
       "<!-- 14&#45;&gt;15 -->\r\n",
       "<g id=\"edge14\" class=\"edge\"><title>14&#45;&gt;15</title>\r\n",
       "<path fill=\"none\" stroke=\"black\" d=\"M478.504,-72.411C457.241,-62.7458 430.216,-50.462 407.447,-40.1121\"/>\r\n",
       "<polygon fill=\"black\" stroke=\"black\" points=\"408.856,-36.908 398.304,-35.9562 405.959,-43.2806 408.856,-36.908\"/>\r\n",
       "</g>\r\n",
       "</g>\r\n",
       "</svg>\r\n"
      ],
      "text/plain": [
       "<graphviz.dot.Digraph at 0x47a0da0>"
      ]
     },
     "execution_count": 32,
     "metadata": {},
     "output_type": "execute_result"
    }
   ],
   "source": [
    "dot"
   ]
  },
  {
   "cell_type": "code",
   "execution_count": 33,
   "metadata": {
    "collapsed": false
   },
   "outputs": [
    {
     "data": {
      "text/plain": [
       "'standard_magic_convergence.pdf'"
      ]
     },
     "execution_count": 33,
     "metadata": {},
     "output_type": "execute_result"
    }
   ],
   "source": [
    "dot.render(\"standard_magic_convergence\")"
   ]
  },
  {
   "cell_type": "code",
   "execution_count": 36,
   "metadata": {
    "collapsed": true
   },
   "outputs": [],
   "source": [
    "dot.format = \"tiff\""
   ]
  },
  {
   "cell_type": "code",
   "execution_count": 37,
   "metadata": {
    "collapsed": false
   },
   "outputs": [
    {
     "data": {
      "text/plain": [
       "'reformed_graph.tiff'"
      ]
     },
     "execution_count": 37,
     "metadata": {},
     "output_type": "execute_result"
    }
   ],
   "source": [
    "dot.render(\"reformed_graph\")"
   ]
  },
  {
   "cell_type": "code",
   "execution_count": null,
   "metadata": {
    "collapsed": true
   },
   "outputs": [],
   "source": []
  }
 ],
 "metadata": {
  "kernelspec": {
   "display_name": "Python 3",
   "language": "python",
   "name": "python3"
  },
  "language_info": {
   "codemirror_mode": {
    "name": "ipython",
    "version": 3
   },
   "file_extension": ".py",
   "mimetype": "text/x-python",
   "name": "python",
   "nbconvert_exporter": "python",
   "pygments_lexer": "ipython3",
   "version": "3.4.4"
  }
 },
 "nbformat": 4,
 "nbformat_minor": 0
}
