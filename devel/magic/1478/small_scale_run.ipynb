{
 "cells": [
  {
   "cell_type": "markdown",
   "metadata": {},
   "source": [
    "# Small"
   ]
  },
  {
   "cell_type": "code",
   "execution_count": 1,
   "metadata": {
    "collapsed": true
   },
   "outputs": [],
   "source": [
    "import simuOpt\n",
    "simuOpt.setOptions(alleleType='short', numThreads=4, quiet=True)\n",
    "import simuPOP as sim\n",
    "import pandas as pd\n",
    "from saegus import breed, operators, simulate, analyze, parse, parameters\n",
    "import shelve\n",
    "import numpy as np\n",
    "import random\n",
    "import h5py\n",
    "from os import path\n",
    "import collections as col\n",
    "np.set_printoptions(suppress=True, precision=3)\n",
    "pd.options.display.float_format = '{:.4f}'.format"
   ]
  },
  {
   "cell_type": "code",
   "execution_count": 2,
   "metadata": {
    "collapsed": true
   },
   "outputs": [],
   "source": [
    "small_data = h5py.File('small_data.hdf5')"
   ]
  },
  {
   "cell_type": "code",
   "execution_count": 3,
   "metadata": {
    "collapsed": true
   },
   "outputs": [],
   "source": [
    "small = analyze.Study('small', number_of_replicates=10, data_file=small_data)"
   ]
  },
  {
   "cell_type": "code",
   "execution_count": 4,
   "metadata": {
    "collapsed": true
   },
   "outputs": [],
   "source": [
    "run_id = 'small'\n",
    "generations_of_random_mating = 10\n",
    "number_of_qtl = 30\n",
    "number_of_replicates = 10\n",
    "founders = [[2, 26], [3, 25], [4, 24], [5, 23]]\n",
    "os_per_pair = 1000\n",
    "mating_pop_size = len(founders)*os_per_pair\n",
    "recombination_rates = [0.01]*1478\n",
    "sample_size = 1000"
   ]
  },
  {
   "cell_type": "code",
   "execution_count": 5,
   "metadata": {
    "collapsed": true
   },
   "outputs": [],
   "source": [
    "prefounders = sim.loadPopulation('bia_prefounders.pop')"
   ]
  },
  {
   "cell_type": "code",
   "execution_count": 6,
   "metadata": {},
   "outputs": [
    {
     "data": {
      "text/plain": [
       "('ind_id',\n",
       " 'father_id',\n",
       " 'mother_id',\n",
       " 'fitness',\n",
       " 'p',\n",
       " 'g',\n",
       " 'generation',\n",
       " 'replicate')"
      ]
     },
     "execution_count": 6,
     "metadata": {},
     "output_type": "execute_result"
    }
   ],
   "source": [
    "prefounders.infoFields()"
   ]
  },
  {
   "cell_type": "code",
   "execution_count": 7,
   "metadata": {
    "collapsed": true
   },
   "outputs": [],
   "source": [
    "sim.tagID(prefounders, reset=True)"
   ]
  },
  {
   "cell_type": "code",
   "execution_count": 8,
   "metadata": {},
   "outputs": [
    {
     "data": {
      "text/plain": [
       "26"
      ]
     },
     "execution_count": 8,
     "metadata": {},
     "output_type": "execute_result"
    }
   ],
   "source": [
    "prefounders.popSize()"
   ]
  },
  {
   "cell_type": "code",
   "execution_count": 9,
   "metadata": {
    "collapsed": true
   },
   "outputs": [],
   "source": [
    "multi_prefounders = sim.Simulator(prefounders, 10, stealPops=False)"
   ]
  },
  {
   "cell_type": "code",
   "execution_count": 10,
   "metadata": {
    "collapsed": true
   },
   "outputs": [],
   "source": [
    "magic = breed.MAGIC(multi_prefounders, founders, recombination_rates)"
   ]
  },
  {
   "cell_type": "code",
   "execution_count": 11,
   "metadata": {
    "collapsed": true
   },
   "outputs": [],
   "source": [
    "magic.generate_f_one(founders, os_per_pair)"
   ]
  },
  {
   "cell_type": "code",
   "execution_count": 12,
   "metadata": {
    "collapsed": true
   },
   "outputs": [],
   "source": [
    "mrc = breed.MultiRandomCross(multi_prefounders, 4, 1000)"
   ]
  },
  {
   "cell_type": "code",
   "execution_count": 13,
   "metadata": {
    "collapsed": true
   },
   "outputs": [],
   "source": [
    "mother_choices, father_choices = mrc.determine_random_cross()"
   ]
  },
  {
   "cell_type": "code",
   "execution_count": 14,
   "metadata": {
    "collapsed": true
   },
   "outputs": [],
   "source": [
    "multi_snd_ord_chooser = breed.MultiSecondOrderPairIDChooser(\n",
    "    mother_choices, father_choices)"
   ]
  },
  {
   "cell_type": "code",
   "execution_count": 15,
   "metadata": {
    "scrolled": true
   },
   "outputs": [
    {
     "data": {
      "text/plain": [
       "(1, 1, 1, 1, 1, 1, 1, 1, 1, 1)"
      ]
     },
     "execution_count": 15,
     "metadata": {},
     "output_type": "execute_result"
    }
   ],
   "source": [
    "multi_prefounders.evolve(\n",
    "    matingScheme=sim.HomoMating(\n",
    "        sim.PyParentsChooser(multi_snd_ord_chooser.snd_ord_id_pairs),\n",
    "        sim.OffspringGenerator(ops=[\n",
    "            sim.IdTagger(),\n",
    "            sim.PedigreeTagger(),\n",
    "            sim.Recombinator(rates=0.01)\n",
    "        ],\n",
    "            numOffspring=1),\n",
    "        subPopSize=[mating_pop_size],\n",
    "    ),\n",
    "    gen=1,\n",
    ")"
   ]
  },
  {
   "cell_type": "code",
   "execution_count": 16,
   "metadata": {
    "collapsed": true
   },
   "outputs": [],
   "source": [
    "final_mrc = breed.MultiRandomCross(multi_prefounders, 2, 2000)"
   ]
  },
  {
   "cell_type": "code",
   "execution_count": 17,
   "metadata": {
    "collapsed": true
   },
   "outputs": [],
   "source": [
    "final_mothers, final_fathers = final_mrc.determine_random_cross()"
   ]
  },
  {
   "cell_type": "code",
   "execution_count": 18,
   "metadata": {
    "collapsed": true
   },
   "outputs": [],
   "source": [
    "final_multi_snd_ord_chooser = breed.MultiSecondOrderPairIDChooser(\n",
    "    final_mothers, final_fathers)"
   ]
  },
  {
   "cell_type": "code",
   "execution_count": 19,
   "metadata": {},
   "outputs": [
    {
     "data": {
      "text/plain": [
       "(1, 1, 1, 1, 1, 1, 1, 1, 1, 1)"
      ]
     },
     "execution_count": 19,
     "metadata": {},
     "output_type": "execute_result"
    }
   ],
   "source": [
    "multi_prefounders.evolve(\n",
    "    matingScheme=sim.HomoMating(\n",
    "        sim.PyParentsChooser(final_multi_snd_ord_chooser.snd_ord_id_pairs),\n",
    "        sim.OffspringGenerator(ops=[\n",
    "            sim.IdTagger(),\n",
    "            sim.PedigreeTagger(),\n",
    "            sim.Recombinator(rates=0.01)\n",
    "        ],\n",
    "            numOffspring=1),\n",
    "        subPopSize=[mating_pop_size],\n",
    "    ),\n",
    "    gen=1,\n",
    ")"
   ]
  },
  {
   "cell_type": "markdown",
   "metadata": {},
   "source": [
    "# Random Mating Phase"
   ]
  },
  {
   "cell_type": "code",
   "execution_count": 20,
   "metadata": {},
   "outputs": [
    {
     "data": {
      "text/plain": [
       "(100, 100, 100, 100, 100, 100, 100, 100, 100, 100)"
      ]
     },
     "execution_count": 20,
     "metadata": {},
     "output_type": "execute_result"
    }
   ],
   "source": [
    "multi_prefounders.evolve(\n",
    "    matingScheme=sim.RandomMating(ops=[\n",
    "            sim.IdTagger(),\n",
    "            sim.PedigreeTagger(),\n",
    "            sim.Recombinator(rates=0.01)\n",
    "        ],\n",
    "        subPopSize=[mating_pop_size]),\n",
    "    gen=100,\n",
    ")"
   ]
  },
  {
   "cell_type": "code",
   "execution_count": 21,
   "metadata": {
    "collapsed": true
   },
   "outputs": [],
   "source": [
    "sample_library = small.collect_samples(multi_prefounders, [sample_size])"
   ]
  },
  {
   "cell_type": "code",
   "execution_count": 22,
   "metadata": {
    "collapsed": true
   },
   "outputs": [],
   "source": [
    "for rep_id, sample_list in sample_library.items():\n",
    "    sim.stat(sample_list[0], numOfSegSites=sim.ALL_AVAIL, vars=['numOfSegSites', 'segSites'])\n",
    "    sim.stat(sample_list[0], alleleFreq=sim.ALL_AVAIL)"
   ]
  },
  {
   "cell_type": "code",
   "execution_count": 23,
   "metadata": {
    "collapsed": true
   },
   "outputs": [],
   "source": [
    "list_of_segs = [sample_library[i][0].dvars().segSites for i in range(number_of_replicates)]"
   ]
  },
  {
   "cell_type": "code",
   "execution_count": 24,
   "metadata": {
    "collapsed": true
   },
   "outputs": [],
   "source": [
    "commonly_segregating_loci = list(set(sample_library[0][0].dvars().segSites).intersection(*list_of_segs))"
   ]
  },
  {
   "cell_type": "code",
   "execution_count": 25,
   "metadata": {},
   "outputs": [
    {
     "data": {
      "text/plain": [
       "943"
      ]
     },
     "execution_count": 25,
     "metadata": {},
     "output_type": "execute_result"
    }
   ],
   "source": [
    "len(commonly_segregating_loci)"
   ]
  },
  {
   "cell_type": "code",
   "execution_count": 26,
   "metadata": {
    "collapsed": true
   },
   "outputs": [],
   "source": [
    "sample = sample_library[0][0]"
   ]
  },
  {
   "cell_type": "code",
   "execution_count": 27,
   "metadata": {
    "collapsed": true
   },
   "outputs": [],
   "source": [
    "astates = small.gather_allele_data(sample)"
   ]
  },
  {
   "cell_type": "code",
   "execution_count": 28,
   "metadata": {
    "collapsed": true
   },
   "outputs": [],
   "source": [
    "alleles = np.array([astates[:, 1], astates[:, 2]]).T"
   ]
  },
  {
   "cell_type": "code",
   "execution_count": 29,
   "metadata": {
    "collapsed": true
   },
   "outputs": [],
   "source": [
    "segregating_loci = np.array(commonly_segregating_loci)"
   ]
  },
  {
   "cell_type": "code",
   "execution_count": 30,
   "metadata": {
    "collapsed": true
   },
   "outputs": [],
   "source": [
    "trait = parameters.Trait()"
   ]
  },
  {
   "cell_type": "code",
   "execution_count": 31,
   "metadata": {
    "collapsed": true
   },
   "outputs": [],
   "source": [
    "qtl = sorted(list(random.sample(list(segregating_loci), number_of_qtl)))"
   ]
  },
  {
   "cell_type": "code",
   "execution_count": 32,
   "metadata": {
    "collapsed": true
   },
   "outputs": [],
   "source": [
    "allele_effects = trait.construct_allele_effects_table(alleles, qtl, random.expovariate, 1)"
   ]
  },
  {
   "cell_type": "code",
   "execution_count": null,
   "metadata": {},
   "outputs": [],
   "source": [
    "allele_effects[qtl]"
   ]
  },
  {
   "cell_type": "code",
   "execution_count": 33,
   "metadata": {
    "collapsed": true
   },
   "outputs": [],
   "source": [
    "ae_array = trait.construct_ae_array(allele_effects, qtl)"
   ]
  },
  {
   "cell_type": "markdown",
   "metadata": {},
   "source": [
    "# Storing Data"
   ]
  },
  {
   "cell_type": "raw",
   "metadata": {},
   "source": [
    "del small_data['allele/states']\n",
    "del small_data['segregating_loci']\n",
    "del small_data['qtl']\n",
    "del small_data['allele/effects']\n",
    "del small_data['recombination_rates']\n",
    "del small_data['allele/effects_array']"
   ]
  },
  {
   "cell_type": "code",
   "execution_count": 34,
   "metadata": {
    "collapsed": true
   },
   "outputs": [],
   "source": [
    "small_data['allele/states'] = astates\n",
    "small_data['segregating_loci'] = np.array(commonly_segregating_loci)\n",
    "small_data['qtl'] = np.array(qtl)\n",
    "small_data['allele/effects'] = allele_effects\n",
    "small_data['recombination_rates'] = np.array(recombination_rates)\n",
    "small_data['allele/effects_array'] = ae_array"
   ]
  },
  {
   "cell_type": "raw",
   "metadata": {
    "collapsed": true
   },
   "source": [
    "del small_data['allele/frequency/replicate']\n",
    "del small_data['trait/g/replicate']\n",
    "del small_data['trait/p/replicate']"
   ]
  },
  {
   "cell_type": "code",
   "execution_count": 35,
   "metadata": {
    "collapsed": true
   },
   "outputs": [],
   "source": [
    "for rep, sample_list in sample_library.items():\n",
    "    small_data['allele/frequency/replicate/' + str(rep)] = small.gather_allele_frequencies(sample_list[0], astates)\n",
    "    operators.calculate_g(sample_list[0], ae_array)\n",
    "    operators.calculate_error_variance(sample_list[0], 0.7)\n",
    "    operators.calculate_p(sample_list[0])\n",
    "    small_data['trait/g/replicate/' + str(rep)] = np.array([sample_list[0].indInfo('ind_id'), \n",
    "                                                            sample_list[0].indInfo('g')]).T\n",
    "    small_data['trait/p/replicate/' + str(rep)] = np.array([sample_list[0].indInfo('ind_id'),\n",
    "                                                          sample_list[0].indInfo('p')]).T\n",
    "    "
   ]
  },
  {
   "cell_type": "code",
   "execution_count": 36,
   "metadata": {
    "collapsed": true
   },
   "outputs": [],
   "source": [
    "small_data['trait'].attrs['heritability'] = np.array([0.7])"
   ]
  },
  {
   "cell_type": "code",
   "execution_count": 37,
   "metadata": {
    "collapsed": true
   },
   "outputs": [],
   "source": [
    "minor_alleles = np.array(small_data['allele/states'])[:, 3]"
   ]
  },
  {
   "cell_type": "code",
   "execution_count": 38,
   "metadata": {
    "collapsed": true
   },
   "outputs": [],
   "source": [
    "indir = '/home/vakanas/tassel-5-standalone/input'\n",
    "outdir = '/home/vakanas/tassel-5-standalone/output'"
   ]
  },
  {
   "cell_type": "code",
   "execution_count": 39,
   "metadata": {
    "collapsed": true
   },
   "outputs": [],
   "source": [
    "gwas = analyze.GWAS(sample_library[0][0], segregating_loci, minor_alleles, 'small')\n",
    "cm = gwas.calculate_count_matrix()\n",
    "val, vec = gwas.pop_struct_eigendecomp(cm)"
   ]
  },
  {
   "cell_type": "code",
   "execution_count": 43,
   "metadata": {},
   "outputs": [
    {
     "name": "stdout",
     "output_type": "stream",
     "text": [
      "Computing TASSEL Input:\n",
      "0\t\n",
      "1\t\n",
      "2\t\n",
      "3\t\n",
      "4\t\n",
      "5\t\n",
      "6\t\n",
      "7\t\n",
      "8\t\n"
     ]
    },
    {
     "ename": "LinAlgError",
     "evalue": "SVD did not converge",
     "output_type": "error",
     "traceback": [
      "\u001b[0;31m---------------------------------------------------------------------------\u001b[0m",
      "\u001b[0;31mLinAlgError\u001b[0m                               Traceback (most recent call last)",
      "\u001b[0;32m<ipython-input-43-e8fe0bb7d6a1>\u001b[0m in \u001b[0;36m<module>\u001b[0;34m()\u001b[0m\n\u001b[1;32m      6\u001b[0m     \u001b[0mgwas\u001b[0m \u001b[0;34m=\u001b[0m \u001b[0manalyze\u001b[0m\u001b[0;34m.\u001b[0m\u001b[0mGWAS\u001b[0m\u001b[0;34m(\u001b[0m\u001b[0msample_list\u001b[0m\u001b[0;34m[\u001b[0m\u001b[0;36m0\u001b[0m\u001b[0;34m]\u001b[0m\u001b[0;34m,\u001b[0m \u001b[0msegregating_loci\u001b[0m\u001b[0;34m,\u001b[0m \u001b[0mminor_alleles\u001b[0m\u001b[0;34m,\u001b[0m \u001b[0;34m'small'\u001b[0m\u001b[0;34m)\u001b[0m\u001b[0;34m\u001b[0m\u001b[0m\n\u001b[1;32m      7\u001b[0m     \u001b[0mcm\u001b[0m \u001b[0;34m=\u001b[0m \u001b[0mgwas\u001b[0m\u001b[0;34m.\u001b[0m\u001b[0mcalculate_count_matrix\u001b[0m\u001b[0;34m(\u001b[0m\u001b[0mcount_matrix_file_name\u001b[0m\u001b[0;34m=\u001b[0m\u001b[0mpath\u001b[0m\u001b[0;34m.\u001b[0m\u001b[0mjoin\u001b[0m\u001b[0;34m(\u001b[0m\u001b[0mindir\u001b[0m\u001b[0;34m,\u001b[0m \u001b[0mname\u001b[0m\u001b[0;34m+\u001b[0m\u001b[0;34m'_count_matrix.txt'\u001b[0m\u001b[0;34m)\u001b[0m\u001b[0;34m)\u001b[0m\u001b[0;34m\u001b[0m\u001b[0m\n\u001b[0;32m----> 8\u001b[0;31m     \u001b[0mps\u001b[0m\u001b[0;34m,\u001b[0m \u001b[0msvd\u001b[0m \u001b[0;34m=\u001b[0m \u001b[0mgwas\u001b[0m\u001b[0;34m.\u001b[0m\u001b[0mpop_struct_eigendecomp\u001b[0m\u001b[0;34m(\u001b[0m\u001b[0mcm\u001b[0m\u001b[0;34m)\u001b[0m\u001b[0;34m\u001b[0m\u001b[0m\n\u001b[0m\u001b[1;32m      9\u001b[0m     gwas.population_structure_formatter(ps, svd, number_of_pcs=2, \n\u001b[1;32m     10\u001b[0m                                         pop_struct_file_name=path.join(indir, name+'_structure_matrix.txt'))\n",
      "\u001b[0;32m~/anaconda43/lib/python3.6/site-packages/saegus/analyze.py\u001b[0m in \u001b[0;36mpop_struct_eigendecomp\u001b[0;34m(self, count_matrix)\u001b[0m\n\u001b[1;32m   1083\u001b[0m \u001b[0;34m\u001b[0m\u001b[0m\n\u001b[1;32m   1084\u001b[0m         \u001b[0mX\u001b[0m \u001b[0;34m=\u001b[0m \u001b[0;34m(\u001b[0m\u001b[0;36m1\u001b[0m\u001b[0;34m/\u001b[0m\u001b[0mself\u001b[0m\u001b[0;34m.\u001b[0m\u001b[0msegregating_loci\u001b[0m\u001b[0;34m.\u001b[0m\u001b[0mshape\u001b[0m\u001b[0;34m[\u001b[0m\u001b[0;36m0\u001b[0m\u001b[0;34m]\u001b[0m\u001b[0;34m)\u001b[0m\u001b[0;34m*\u001b[0m\u001b[0;34m(\u001b[0m\u001b[0mM\u001b[0m\u001b[0;34m*\u001b[0m\u001b[0mM\u001b[0m\u001b[0;34m.\u001b[0m\u001b[0mT\u001b[0m\u001b[0;34m)\u001b[0m\u001b[0;34m\u001b[0m\u001b[0m\n\u001b[0;32m-> 1085\u001b[0;31m         \u001b[0meigendata\u001b[0m \u001b[0;34m=\u001b[0m \u001b[0mlinalg\u001b[0m\u001b[0;34m.\u001b[0m\u001b[0msvd\u001b[0m\u001b[0;34m(\u001b[0m\u001b[0mX\u001b[0m\u001b[0;34m)\u001b[0m\u001b[0;34m\u001b[0m\u001b[0m\n\u001b[0m\u001b[1;32m   1086\u001b[0m \u001b[0;34m\u001b[0m\u001b[0m\n\u001b[1;32m   1087\u001b[0m         \u001b[0meigenvalues\u001b[0m \u001b[0;34m=\u001b[0m \u001b[0mnp\u001b[0m\u001b[0;34m.\u001b[0m\u001b[0mreal\u001b[0m\u001b[0;34m(\u001b[0m\u001b[0meigendata\u001b[0m\u001b[0;34m[\u001b[0m\u001b[0;36m1\u001b[0m\u001b[0;34m]\u001b[0m\u001b[0;34m)\u001b[0m\u001b[0;34m\u001b[0m\u001b[0m\n",
      "\u001b[0;32m~/anaconda43/lib/python3.6/site-packages/scipy/linalg/decomp_svd.py\u001b[0m in \u001b[0;36msvd\u001b[0;34m(a, full_matrices, compute_uv, overwrite_a, check_finite, lapack_driver)\u001b[0m\n\u001b[1;32m    117\u001b[0m \u001b[0;34m\u001b[0m\u001b[0m\n\u001b[1;32m    118\u001b[0m     \u001b[0;32mif\u001b[0m \u001b[0minfo\u001b[0m \u001b[0;34m>\u001b[0m \u001b[0;36m0\u001b[0m\u001b[0;34m:\u001b[0m\u001b[0;34m\u001b[0m\u001b[0m\n\u001b[0;32m--> 119\u001b[0;31m         \u001b[0;32mraise\u001b[0m \u001b[0mLinAlgError\u001b[0m\u001b[0;34m(\u001b[0m\u001b[0;34m\"SVD did not converge\"\u001b[0m\u001b[0;34m)\u001b[0m\u001b[0;34m\u001b[0m\u001b[0m\n\u001b[0m\u001b[1;32m    120\u001b[0m     \u001b[0;32mif\u001b[0m \u001b[0minfo\u001b[0m \u001b[0;34m<\u001b[0m \u001b[0;36m0\u001b[0m\u001b[0;34m:\u001b[0m\u001b[0;34m\u001b[0m\u001b[0m\n\u001b[1;32m    121\u001b[0m         raise ValueError('illegal value in %d-th argument of internal gesdd'\n",
      "\u001b[0;31mLinAlgError\u001b[0m: SVD did not converge"
     ]
    }
   ],
   "source": [
    "print(\"Computing TASSEL Input:\")\n",
    "for rep, sample_list in sample_library.items():\n",
    "    name = small.run_id + '_' + str(rep)\n",
    "    print(\"{current_rep}\\t\".format(current_rep=str(rep)))\n",
    "    minor_allele_fs = np.array(small_data['allele/frequency/replicate/' + str(rep)])[segregating_loci, 3]\n",
    "    gwas = analyze.GWAS(sample_list[0], segregating_loci, minor_alleles, 'small')\n",
    "    cm = gwas.calculate_count_matrix(count_matrix_file_name=path.join(indir, name+'_count_matrix.txt'))\n",
    "    ps, svd = gwas.pop_struct_eigendecomp(cm)\n",
    "    gwas.population_structure_formatter(ps, svd, number_of_pcs=2, \n",
    "                                        pop_struct_file_name=path.join(indir, name+'_structure_matrix.txt'))\n",
    "    gwas.trait_formatter(trait_file_name=path.join(indir, name+'_phenotype_vector.txt'))\n",
    "    gwas.calc_kinship_matrix(cm, minor_allele_fs, kinship_matrix_file_name=path.join(indir, name+'_kinship_matrix.txt'))\n",
    "    gwas.hapmap_formatter(hapmap_file_name=path.join(indir, name+'_simulated_hapmap.txt'))\n",
    "    gwas.single_gen_multi_rep_tassel_config(rep, 'gwas_pipeline.xml', output_prefix=name+'_out_')"
   ]
  },
  {
   "cell_type": "code",
   "execution_count": null,
   "metadata": {
    "collapsed": true
   },
   "outputs": [],
   "source": []
  },
  {
   "cell_type": "code",
   "execution_count": null,
   "metadata": {
    "collapsed": true
   },
   "outputs": [],
   "source": []
  },
  {
   "cell_type": "code",
   "execution_count": null,
   "metadata": {
    "collapsed": true
   },
   "outputs": [],
   "source": []
  },
  {
   "cell_type": "code",
   "execution_count": null,
   "metadata": {
    "collapsed": true
   },
   "outputs": [],
   "source": []
  },
  {
   "cell_type": "code",
   "execution_count": null,
   "metadata": {
    "collapsed": true
   },
   "outputs": [],
   "source": []
  },
  {
   "cell_type": "code",
   "execution_count": null,
   "metadata": {
    "collapsed": true
   },
   "outputs": [],
   "source": []
  },
  {
   "cell_type": "markdown",
   "metadata": {},
   "source": [
    "# Run TASSEL at This Point"
   ]
  },
  {
   "cell_type": "markdown",
   "metadata": {},
   "source": [
    "Contents of bash script to automate TASSEL via configuration files."
   ]
  },
  {
   "cell_type": "markdown",
   "metadata": {},
   "source": [
    "### simulated_mlm.sh"
   ]
  },
  {
   "cell_type": "markdown",
   "metadata": {},
   "source": [
    "```bash\n",
    "#!/bin/bash\n",
    "\n",
    "\n",
    "echo \"Run ID: $1, Number of Replicates $2\"\n",
    "run_id=$1\n",
    "number_of_replicates=$2\n",
    "final_rep_index=\"$((number_of_replicates - 1))\"\n",
    "\n",
    "echo \"Beginning TASSEL analysis of Run ID: $run_id\"\n",
    "echo \"Number of Replicates: $number_of_replicates\"\n",
    "echo \"First configuration file: small_0_gwas_pipeline.xml\"onca\n",
    "echo \"Final configuration file: small_\"$final_rep_index\"_gwas_pipeline.xml\"\n",
    "\n",
    "for i in `seq 0 $final_rep_index`\n",
    "do\n",
    "    config_file_name=$run_id$i\"_gwas_pipeline.xml\"\n",
    "    echo \"$config_file_name\"\n",
    "    ./run_pipeline.pl -Xmx6g -configFile $config_file_name\n",
    "done\n",
    "\n",
    "\n",
    "```"
   ]
  },
  {
   "cell_type": "markdown",
   "metadata": {},
   "source": [
    "### Example output: \n",
    "+ small_0_out_1.txt\n",
    "+ small_0_out_2.txt\n",
    "+ small_0_out_3.txt\n",
    "+ small_1_out_1.txt\n",
    "+ ...\n",
    "+ small_9_out_3.txt"
   ]
  },
  {
   "cell_type": "markdown",
   "metadata": {},
   "source": [
    "# Use R Qvalue package to get Qvalues"
   ]
  },
  {
   "cell_type": "markdown",
   "metadata": {},
   "source": [
    "Contents of R script to obtain qvalues for p column of TASSEL results"
   ]
  },
  {
   "cell_type": "markdown",
   "metadata": {},
   "source": [
    "```R\n",
    "#!/usr/bin/env Rscript\n",
    "\n",
    "library(qvalue)\n",
    "library(ggplot2)\n",
    "library(gap)\n",
    "\n",
    "args = commandArgs(trailingOnly=TRUE)\n",
    "\n",
    "# test to determine if the file name parameter is supplied to the script\n",
    "if (length(args)==0) {\n",
    "  stop(\"At least one argument must be suppled (input file).\\n\", call.=FALSE)\n",
    "}\n",
    "#setwd(\"/home/vakanas/tassel-5-standalone/output\")  \n",
    "\n",
    "run_id = args[1]\n",
    "file_name_match_pattern = paste(run_id, \"(.*)_2.txt\", sep='')\n",
    "file_names = list.files(pattern = file_name_match_pattern)\n",
    "\n",
    "for(n in file_names) {\n",
    "    print(n)\n",
    "    input_file_name = n\n",
    "    run_id_prefix_terminus = nchar(input_file_name) - 5\n",
    "    run_id_prefix = substring(input_file_name, 1, run_id_prefix_terminus)\n",
    "    output_file_name = paste(run_id_prefix, 'q_values.txt', sep='')\n",
    "    print(output_file_name)\n",
    "    results_header = scan(input_file_name, what=\"character\", nlines=1, sep=\"\\t\")\n",
    "    gwas_results = read.table(input_file_name, header=F, row.names = NULL, skip=2)\n",
    "    colnames(gwas_results) = results_header\n",
    "    pvalues = gwas_results$p\n",
    "    qobj = qvalue(p = pvalues)\n",
    "    qvalues = data.frame(qobj$qvalues)\n",
    "    colnames(qvalues) = \"q\"\n",
    "    rownames(qvalues) = gwas_results$Marker\n",
    "    write.table(qvalues, output_file_name, sep=\"\\t\")\n",
    "}\n",
    "\n",
    "```"
   ]
  },
  {
   "cell_type": "markdown",
   "metadata": {},
   "source": [
    "# Analysis of TASSEL Results: Comutation of Power & FPR"
   ]
  },
  {
   "cell_type": "markdown",
   "metadata": {},
   "source": [
    "## Subsetting Raw TASSEL Results and Data Storage\n",
    "    Each replicate has an associated set of TASSEL output files. The raw\n",
    "    results are modified and stored in the run's HDF5 file"
   ]
  },
  {
   "cell_type": "markdown",
   "metadata": {},
   "source": [
    "## Statistical Power and False Positive Rate"
   ]
  },
  {
   "cell_type": "raw",
   "metadata": {},
   "source": [
    "small_data['allele/states'] = astates\n",
    "small_data['segregating_loci'] = segregating_loci\n",
    "small_data['qtl'] = np.array(qtl)\n",
    "small_data['allele/effects'] = allele_effects\n",
    "small_data['recombination_rates'] = np.array(recombination_rates)\n",
    "small_data['allele/effects_array'] = ae_array"
   ]
  },
  {
   "cell_type": "raw",
   "metadata": {},
   "source": [
    "astates = np.array(small_data['allele/states'])\n",
    "segregating_loci = np.array(small_data['segregating_loci'])\n",
    "qtl = np.array(small_data['qtl'])\n",
    "allele_effects = np.array(small_data['allele/effects'])\n",
    "ae_array = np.array(small_data['allele/effects_array'])"
   ]
  },
  {
   "cell_type": "code",
   "execution_count": 44,
   "metadata": {
    "collapsed": true
   },
   "outputs": [],
   "source": [
    "power_fprs = small.calculate_power_false_positive_rate(qtl, allele_effects, 8, \n",
    "                                                       hdf5_file=small_data)"
   ]
  },
  {
   "cell_type": "code",
   "execution_count": 45,
   "metadata": {},
   "outputs": [
    {
     "data": {
      "text/plain": [
       "array([[ 0.   ,  0.033,  0.1  ],\n",
       "       [ 1.   ,  0.033,  0.133],\n",
       "       [ 2.   ,  0.033,  0.067],\n",
       "       [ 3.   ,  0.033,  0.1  ],\n",
       "       [ 4.   ,  0.033,  0.1  ],\n",
       "       [ 5.   ,  0.033,  0.1  ],\n",
       "       [ 6.   ,  0.033,  0.1  ],\n",
       "       [ 7.   ,  0.033,  0.1  ]])"
      ]
     },
     "execution_count": 45,
     "metadata": {},
     "output_type": "execute_result"
    }
   ],
   "source": [
    "power_fprs"
   ]
  },
  {
   "cell_type": "code",
   "execution_count": 59,
   "metadata": {},
   "outputs": [],
   "source": [
    "power_fprs_frame = pd.DataFrame(power_fprs[:, 1:], index=np.array(power_fprs[:, 0], dtype=np.int) ,columns=['power', 'false_positive_rate'])"
   ]
  },
  {
   "cell_type": "code",
   "execution_count": 101,
   "metadata": {},
   "outputs": [
    {
     "data": {
      "text/plain": [
       "[610, 1102, 338, 310, 23, 539, 158, 191]"
      ]
     },
     "execution_count": 101,
     "metadata": {},
     "output_type": "execute_result"
    }
   ],
   "source": [
    "list(set(detected_loci).intersection(qtl))"
   ]
  },
  {
   "cell_type": "code",
   "execution_count": null,
   "metadata": {
    "collapsed": true
   },
   "outputs": [],
   "source": []
  },
  {
   "cell_type": "code",
   "execution_count": 115,
   "metadata": {},
   "outputs": [
    {
     "name": "stdout",
     "output_type": "stream",
     "text": [
      "RepID: 0\tTrue Positive Loci: [23, 158, 191, 310, 338, 539, 610, 1102]\tPower: 0.26666666666666666\n",
      "RepID: 1\tTrue Positive Loci: [23, 158, 191, 310, 338, 539, 610]\tPower: 0.23333333333333334\n",
      "RepID: 2\tTrue Positive Loci: [158, 191, 338, 539, 610]\tPower: 0.16666666666666666\n",
      "RepID: 3\tTrue Positive Loci: [23, 158, 191, 310, 338, 539, 610, 1102]\tPower: 0.26666666666666666\n",
      "RepID: 4\tTrue Positive Loci: [23, 158, 191, 338, 539, 888, 1102]\tPower: 0.23333333333333334\n",
      "RepID: 5\tTrue Positive Loci: [23, 158, 191, 338, 539, 1102]\tPower: 0.2\n",
      "RepID: 6\tTrue Positive Loci: [23, 95, 158, 191, 338, 539, 888]\tPower: 0.23333333333333334\n",
      "RepID: 7\tTrue Positive Loci: [23, 158, 191, 338, 539, 610]\tPower: 0.2\n"
     ]
    }
   ],
   "source": [
    "power_and_fprs = np.zeros((8, 3))\n",
    "loci_tracker = {}\n",
    "for i in range(8):\n",
    "    results = pd.DataFrame(np.array(small_data['tassel/test/replicate/'+str(i)]), index=segregating_loci)\n",
    "    detected_loci = results.ix[results.ix[:, 4] < 0.05].index\n",
    "    set_of_true_positives = set(detected_loci).intersection(set(qtl))\n",
    "    true_positives = sorted(list(set_of_true_positives))\n",
    "    loci_tracker[i] = true_positives\n",
    "    power = len(true_positives) / 30\n",
    "    print(\"RepID: {rep_id}\\tTrue Positive Loci: {true_pos}\\tPower: {powe}\".format(\n",
    "        rep_id=i, true_pos=true_positives, \n",
    "        powe=power))\n",
    "    power_and_fprs[i, 0] = i\n",
    "    power_and_fprs[i, 1] = power"
   ]
  },
  {
   "cell_type": "code",
   "execution_count": 116,
   "metadata": {},
   "outputs": [
    {
     "data": {
      "text/plain": [
       "{0: [23, 158, 191, 310, 338, 539, 610, 1102],\n",
       " 1: [23, 158, 191, 310, 338, 539, 610],\n",
       " 2: [158, 191, 338, 539, 610],\n",
       " 3: [23, 158, 191, 310, 338, 539, 610, 1102],\n",
       " 4: [23, 158, 191, 338, 539, 888, 1102],\n",
       " 5: [23, 158, 191, 338, 539, 1102],\n",
       " 6: [23, 95, 158, 191, 338, 539, 888],\n",
       " 7: [23, 158, 191, 338, 539, 610]}"
      ]
     },
     "execution_count": 116,
     "metadata": {},
     "output_type": "execute_result"
    }
   ],
   "source": [
    "loci_tracker"
   ]
  },
  {
   "cell_type": "code",
   "execution_count": 121,
   "metadata": {},
   "outputs": [],
   "source": [
    "header = \"Replicate ID\\tDetected_Loci\\n\"\n",
    "with open('loci_tracker.txt', 'w') as f:\n",
    "    f.write(header)\n",
    "    for i in range(8):\n",
    "        f.write(str(i) + '\\t' + str(loci_tracker[i])+'\\n')"
   ]
  },
  {
   "cell_type": "code",
   "execution_count": 124,
   "metadata": {},
   "outputs": [
    {
     "data": {
      "text/plain": [
       "array([[   23.   ,     4.   ,     1.114,     5.   ,     2.843],\n",
       "       [  158.   ,     1.   ,     0.047,     3.   ,     2.327],\n",
       "       [  191.   ,     0.   ,     1.948,     2.   ,     0.27 ],\n",
       "       [  310.   ,     1.   ,     1.442,     3.   ,     0.129],\n",
       "       [  338.   ,     4.   ,     0.419,     5.   ,     2.698],\n",
       "       [  539.   ,     0.   ,     0.003,     3.   ,     1.939],\n",
       "       [  610.   ,     0.   ,     0.037,     1.   ,     1.578],\n",
       "       [ 1102.   ,     0.   ,     1.559,     3.   ,     0.228]])"
      ]
     },
     "execution_count": 124,
     "metadata": {},
     "output_type": "execute_result"
    }
   ],
   "source": [
    "allele_effects[loci_tracker[0]]"
   ]
  },
  {
   "cell_type": "code",
   "execution_count": 126,
   "metadata": {},
   "outputs": [],
   "source": [
    "allele_fs = np.array(small_data['allele/frequency/replicate/0'])"
   ]
  },
  {
   "cell_type": "code",
   "execution_count": 128,
   "metadata": {},
   "outputs": [
    {
     "data": {
      "text/plain": [
       "array([[   23.   ,     0.477,     0.522,     0.477,     0.522],\n",
       "       [  158.   ,     0.768,     0.232,     0.232,     0.768],\n",
       "       [  191.   ,     0.559,     0.441,     0.441,     0.559],\n",
       "       [  310.   ,     0.207,     0.792,     0.207,     0.792],\n",
       "       [  338.   ,     0.161,     0.84 ,     0.161,     0.84 ],\n",
       "       [  539.   ,     0.38 ,     0.621,     0.38 ,     0.621],\n",
       "       [  610.   ,     0.116,     0.884,     0.116,     0.884],\n",
       "       [ 1102.   ,     0.404,     0.597,     0.404,     0.597]])"
      ]
     },
     "execution_count": 128,
     "metadata": {},
     "output_type": "execute_result"
    }
   ],
   "source": [
    "allele_fs[loci_tracker[0]]"
   ]
  },
  {
   "cell_type": "code",
   "execution_count": 129,
   "metadata": {
    "collapsed": true
   },
   "outputs": [
    {
     "data": {
      "text/plain": [
       "array([[   12.   ,     0.402,     0.599,     0.402,     0.599],\n",
       "       [   23.   ,     0.477,     0.522,     0.477,     0.522],\n",
       "       [   95.   ,     0.269,     0.731,     0.269,     0.731],\n",
       "       [   96.   ,     0.873,     0.127,     0.127,     0.873],\n",
       "       [  158.   ,     0.768,     0.232,     0.232,     0.768],\n",
       "       [  191.   ,     0.559,     0.441,     0.441,     0.559],\n",
       "       [  255.   ,     0.321,     0.679,     0.321,     0.679],\n",
       "       [  257.   ,     0.358,     0.641,     0.358,     0.641],\n",
       "       [  275.   ,     0.949,     0.051,     0.051,     0.949],\n",
       "       [  304.   ,     0.163,     0.838,     0.163,     0.838],\n",
       "       [  310.   ,     0.207,     0.792,     0.207,     0.792],\n",
       "       [  338.   ,     0.161,     0.84 ,     0.161,     0.84 ],\n",
       "       [  539.   ,     0.38 ,     0.621,     0.38 ,     0.621],\n",
       "       [  570.   ,     0.624,     0.376,     0.376,     0.624],\n",
       "       [  577.   ,     0.197,     0.803,     0.197,     0.803],\n",
       "       [  610.   ,     0.116,     0.884,     0.116,     0.884],\n",
       "       [  658.   ,     0.897,     0.102,     0.102,     0.897],\n",
       "       [  879.   ,     0.906,     0.093,     0.093,     0.906],\n",
       "       [  888.   ,     0.124,     0.875,     0.124,     0.875],\n",
       "       [  917.   ,     0.851,     0.149,     0.149,     0.851],\n",
       "       [ 1081.   ,     0.387,     0.614,     0.387,     0.614],\n",
       "       [ 1102.   ,     0.404,     0.597,     0.404,     0.597],\n",
       "       [ 1198.   ,     0.028,     0.973,     0.028,     0.973],\n",
       "       [ 1232.   ,     0.117,     0.882,     0.117,     0.882],\n",
       "       [ 1342.   ,     0.877,     0.122,     0.122,     0.877],\n",
       "       [ 1354.   ,     0.106,     0.893,     0.106,     0.893],\n",
       "       [ 1366.   ,     0.936,     0.064,     0.064,     0.936],\n",
       "       [ 1411.   ,     0.136,     0.865,     0.136,     0.865],\n",
       "       [ 1424.   ,     0.486,     0.513,     0.486,     0.513],\n",
       "       [ 1440.   ,     0.625,     0.374,     0.374,     0.625]])"
      ]
     },
     "execution_count": 129,
     "metadata": {},
     "output_type": "execute_result"
    }
   ],
   "source": [
    "allele_fs[qtl]"
   ]
  },
  {
   "cell_type": "code",
   "execution_count": 234,
   "metadata": {},
   "outputs": [
    {
     "data": {
      "text/plain": [
       "numpy.int64"
      ]
     },
     "execution_count": 234,
     "metadata": {},
     "output_type": "execute_result"
    }
   ],
   "source": []
  },
  {
   "cell_type": "code",
   "execution_count": 238,
   "metadata": {},
   "outputs": [
    {
     "data": {
      "text/plain": [
       "array([ 0.402,  0.477,  0.269,  0.873,  0.768,  0.559,  0.321,  0.358,\n",
       "        0.949,  0.163,  0.207,  0.161,  0.38 ,  0.624,  0.197,  0.116,\n",
       "        0.897,  0.906,  0.124,  0.851,  0.387,  0.404,  0.028,  0.117,\n",
       "        0.877,  0.106,  0.936,  0.136,  0.486,  0.625])"
      ]
     },
     "execution_count": 238,
     "metadata": {},
     "output_type": "execute_result"
    }
   ],
   "source": [
    "allele_fs[qtl, 1]"
   ]
  },
  {
   "cell_type": "code",
   "execution_count": 311,
   "metadata": {
    "collapsed": true
   },
   "outputs": [],
   "source": [
    "power_and_fprs = np.zeros((8, 3))\n",
    "loci_tracker = {}\n",
    "for i in range(8):\n",
    "    results = pd.DataFrame(np.array(small_data['tassel/test/replicate/'+str(i)]), index=segregating_loci)\n",
    "    detected_loci = results.ix[results.ix[:, 4] < 0.05].index\n",
    "    set_of_true_positives = set(detected_loci).intersection(set(qtl))\n",
    "    true_positives = sorted(list(set_of_true_positives))\n",
    "    loci_tracker[i] = true_positives\n",
    "    power = len(true_positives) / 30\n",
    "    print(\"RepID: {rep_id}\\tTrue Positive Loci: {true_pos}\\tPower: {powe}\".format(\n",
    "        rep_id=i, true_pos=true_positives, \n",
    "        powe=power))\n",
    "    power_and_fprs[i, 0] = i\n",
    "    power_and_fprs[i, 1] = power\n",
    "bulk_loci = []\n",
    "for i in range(8):\n",
    "    bulk_loci += loci_tracker[i]\n",
    "from collections import Counter\n",
    "count_of_loci = Counter(bulk_loci)\n",
    "prob_detection = np.zeros((30, 2))\n",
    "prob_detection[:, 0] = qtl\n",
    "for idx, loc in enumerate(prob_detection):\n",
    "    prob_detection[idx, 1] = count_of_loci[int(loc[0])]/8"
   ]
  },
  {
   "cell_type": "code",
   "execution_count": 236,
   "metadata": {
    "collapsed": true
   },
   "outputs": [
    {
     "name": "stdout",
     "output_type": "stream",
     "text": [
      "12 (0, 12)\n",
      "23 (0, 23)\n",
      "95 (0, 95)\n",
      "96 (0, 96)\n",
      "158 (0, 158)\n",
      "191 (0, 191)\n",
      "255 (1, 46)\n",
      "257 (1, 48)\n",
      "275 (1, 66)\n",
      "304 (1, 95)\n",
      "310 (1, 101)\n",
      "338 (1, 129)\n",
      "539 (3, 5)\n",
      "570 (3, 36)\n",
      "577 (3, 43)\n",
      "610 (3, 76)\n",
      "658 (3, 124)\n",
      "879 (5, 36)\n",
      "888 (5, 45)\n",
      "917 (5, 74)\n",
      "1081 (6, 126)\n",
      "1102 (7, 8)\n",
      "1198 (7, 104)\n",
      "1232 (8, 0)\n",
      "1342 (8, 110)\n",
      "1354 (8, 122)\n",
      "1366 (9, 2)\n",
      "1411 (9, 47)\n",
      "1424 (9, 60)\n",
      "1440 (9, 76)\n"
     ]
    }
   ],
   "source": [
    "for locus in list(map(int, qtl)):\n",
    "    print(locus, sample.chromLocusPair(locus))"
   ]
  },
  {
   "cell_type": "code",
   "execution_count": 244,
   "metadata": {},
   "outputs": [],
   "source": [
    "chromosomes = np.array(results.ix[qtl, 0], dtype=np.int_)"
   ]
  },
  {
   "cell_type": "code",
   "execution_count": 274,
   "metadata": {
    "collapsed": true
   },
   "outputs": [],
   "source": [
    "alpha = np.array(allele_effects[qtl, 1], dtype=np.int_)"
   ]
  },
  {
   "cell_type": "code",
   "execution_count": 251,
   "metadata": {
    "collapsed": true
   },
   "outputs": [],
   "source": [
    "alpha_frequency = np.array(allele_fs[qtl, 1])"
   ]
  },
  {
   "cell_type": "code",
   "execution_count": 254,
   "metadata": {
    "collapsed": true
   },
   "outputs": [],
   "source": [
    "alpha_effect = np.array(allele_effects[qtl, 2])"
   ]
  },
  {
   "cell_type": "code",
   "execution_count": 256,
   "metadata": {
    "collapsed": true
   },
   "outputs": [],
   "source": [
    "omega = np.array(allele_effects[qtl, 3], dtype=np.int_)"
   ]
  },
  {
   "cell_type": "code",
   "execution_count": 262,
   "metadata": {
    "collapsed": true
   },
   "outputs": [],
   "source": [
    "omega_frequency = np.array(allele_fs[qtl, 2])"
   ]
  },
  {
   "cell_type": "code",
   "execution_count": 270,
   "metadata": {},
   "outputs": [],
   "source": [
    "omega_effect = allele_effects[qtl, 4]"
   ]
  },
  {
   "cell_type": "code",
   "execution_count": 271,
   "metadata": {
    "collapsed": true
   },
   "outputs": [],
   "source": [
    "abs_diff = np.abs(alpha_effect - omega_effect)"
   ]
  },
  {
   "cell_type": "code",
   "execution_count": 272,
   "metadata": {},
   "outputs": [
    {
     "data": {
      "text/plain": [
       "array([ 0.597,  1.729,  0.486,  1.189,  2.281,  1.678,  0.146,  0.525,\n",
       "        0.793,  0.302,  1.313,  2.279,  1.937,  0.501,  0.362,  1.541,\n",
       "        0.608,  0.009,  1.678,  0.092,  0.345,  1.331,  0.152,  0.306,\n",
       "        0.331,  1.309,  1.136,  0.175,  0.018,  0.541])"
      ]
     },
     "execution_count": 272,
     "metadata": {},
     "output_type": "execute_result"
    }
   ],
   "source": [
    "abs_diff"
   ]
  },
  {
   "cell_type": "raw",
   "metadata": {},
   "source": [
    "alpha_frequency + omega_frequency"
   ]
  },
  {
   "cell_type": "code",
   "execution_count": 344,
   "metadata": {},
   "outputs": [],
   "source": [
    "alpha_frqs = np.zeros((len(qtl), 9))\n",
    "omega_frqs = np.zeros((len(qtl), 9))\n",
    "alpha_frqs[:, 0] = qtl\n",
    "omega_frqs[:, 0] = qtl\n",
    "for i in range(8):\n",
    "    alpha_frqs[:, i+1] = np.array(small_data['allele/frequency/replicate/'+str(i)])[qtl, 1]\n",
    "    omega_frqs[:, i+1] = np.array(small_data['allele/frequency/replicate/'+str(i)])[qtl, 2]\n",
    "summary_at_qtl = np.zeros((len(qtl), 5))\n",
    "summary_at_qtl[:, 0] = qtl\n",
    "summary_at_qtl[:, 1] = np.apply_along_axis(np.mean, 1, alpha_frqs[:, 1:])\n",
    "summary_at_qtl[:, 2] = np.std(alpha_frqs[:, 1:], axis=1)\n",
    "summary_at_qtl[:, 3] = np.mean(omega_frqs[:, 1:], axis=1)\n",
    "summary_at_qtl[:, 4] = np.std(omega_frqs[:, 1:], axis=1)"
   ]
  },
  {
   "cell_type": "code",
   "execution_count": 353,
   "metadata": {},
   "outputs": [
    {
     "ename": "SyntaxError",
     "evalue": "keyword can't be an expression (<ipython-input-353-71af03c20da7>, line 1)",
     "output_type": "error",
     "traceback": [
      "\u001b[0;36m  File \u001b[0;32m\"<ipython-input-353-71af03c20da7>\"\u001b[0;36m, line \u001b[0;32m1\u001b[0m\n\u001b[0;31m    print(small_data['allele/frequency/averages_at_qtl'] = summary_at_qtl)\u001b[0m\n\u001b[0m         ^\u001b[0m\n\u001b[0;31mSyntaxError\u001b[0m\u001b[0;31m:\u001b[0m keyword can't be an expression\n"
     ]
    }
   ],
   "source": [
    "small_data['allele/frequency/averages_at_qtl'] = summary_at_qtl"
   ]
  },
  {
   "cell_type": "code",
   "execution_count": 367,
   "metadata": {
    "collapsed": true
   },
   "outputs": [],
   "source": [
    "bulk_loci = []\n",
    "for i in range(8):\n",
    "    bulk_loci += loci_tracker[i]\n",
    "array_loci = np.array(bulk_loci)\n",
    "from collections import Counter\n",
    "count_of_loci = Counter(bulk_loci)\n",
    "prob_detection = np.zeros((30, 2))\n",
    "prob_detection[:, 0] = qtl\n",
    "for idx, loc in enumerate(prob_detection):\n",
    "    prob_detection[idx, 1] = count_of_loci[int(loc[0])]/8"
   ]
  },
  {
   "cell_type": "code",
   "execution_count": 368,
   "metadata": {},
   "outputs": [
    {
     "data": {
      "text/plain": [
       "array([[   12.   ,     0.   ],\n",
       "       [   23.   ,     0.875],\n",
       "       [   95.   ,     0.125],\n",
       "       [   96.   ,     0.   ],\n",
       "       [  158.   ,     1.   ],\n",
       "       [  191.   ,     1.   ],\n",
       "       [  255.   ,     0.   ],\n",
       "       [  257.   ,     0.   ],\n",
       "       [  275.   ,     0.   ],\n",
       "       [  304.   ,     0.   ],\n",
       "       [  310.   ,     0.375],\n",
       "       [  338.   ,     1.   ],\n",
       "       [  539.   ,     1.   ],\n",
       "       [  570.   ,     0.   ],\n",
       "       [  577.   ,     0.   ],\n",
       "       [  610.   ,     0.625],\n",
       "       [  658.   ,     0.   ],\n",
       "       [  879.   ,     0.   ],\n",
       "       [  888.   ,     0.25 ],\n",
       "       [  917.   ,     0.   ],\n",
       "       [ 1081.   ,     0.   ],\n",
       "       [ 1102.   ,     0.5  ],\n",
       "       [ 1198.   ,     0.   ],\n",
       "       [ 1232.   ,     0.   ],\n",
       "       [ 1342.   ,     0.   ],\n",
       "       [ 1354.   ,     0.   ],\n",
       "       [ 1366.   ,     0.   ],\n",
       "       [ 1411.   ,     0.   ],\n",
       "       [ 1424.   ,     0.   ],\n",
       "       [ 1440.   ,     0.   ]])"
      ]
     },
     "execution_count": 368,
     "metadata": {},
     "output_type": "execute_result"
    }
   ],
   "source": [
    "prob_detection"
   ]
  },
  {
   "cell_type": "code",
   "execution_count": 354,
   "metadata": {
    "collapsed": true
   },
   "outputs": [
    {
     "name": "stdout",
     "output_type": "stream",
     "text": [
      "[[   12.        0.33      0.055     0.67      0.055]\n",
      " [   23.        0.533     0.071     0.467     0.071]\n",
      " [   95.        0.292     0.032     0.708     0.032]\n",
      " [   96.        0.881     0.044     0.119     0.044]\n",
      " [  158.        0.73      0.022     0.27      0.022]\n",
      " [  191.        0.554     0.06      0.446     0.06 ]\n",
      " [  255.        0.271     0.038     0.729     0.038]\n",
      " [  257.        0.454     0.068     0.546     0.068]\n",
      " [  275.        0.945     0.018     0.055     0.018]\n",
      " [  304.        0.12      0.034     0.88      0.034]\n",
      " [  310.        0.261     0.046     0.739     0.046]\n",
      " [  338.        0.182     0.034     0.818     0.034]\n",
      " [  539.        0.368     0.032     0.633     0.032]\n",
      " [  570.        0.645     0.057     0.355     0.057]\n",
      " [  577.        0.245     0.047     0.755     0.047]\n",
      " [  610.        0.182     0.056     0.818     0.056]\n",
      " [  658.        0.867     0.044     0.133     0.044]\n",
      " [  879.        0.937     0.021     0.063     0.021]\n",
      " [  888.        0.147     0.03      0.853     0.03 ]\n",
      " [  917.        0.867     0.035     0.133     0.035]\n",
      " [ 1081.        0.432     0.049     0.568     0.049]\n",
      " [ 1102.        0.349     0.033     0.651     0.033]\n",
      " [ 1198.        0.064     0.022     0.936     0.022]\n",
      " [ 1232.        0.137     0.038     0.863     0.038]\n",
      " [ 1342.        0.882     0.025     0.118     0.025]\n",
      " [ 1354.        0.123     0.025     0.877     0.025]\n",
      " [ 1366.        0.945     0.027     0.055     0.027]\n",
      " [ 1411.        0.128     0.033     0.872     0.033]\n",
      " [ 1424.        0.512     0.05      0.488     0.05 ]\n",
      " [ 1440.        0.628     0.026     0.372     0.026]]\n"
     ]
    }
   ],
   "source": [
    "print(summary_at_qtl)"
   ]
  },
  {
   "cell_type": "code",
   "execution_count": 349,
   "metadata": {
    "collapsed": true
   },
   "outputs": [
    {
     "data": {
      "text/plain": [
       "array([[   12.   ,     0.402,     0.286,     0.394,     0.258,     0.276,\n",
       "            0.374,     0.361,     0.289],\n",
       "       [   23.   ,     0.477,     0.673,     0.567,     0.472,     0.535,\n",
       "            0.443,     0.503,     0.597],\n",
       "       [   95.   ,     0.269,     0.283,     0.349,     0.252,     0.316,\n",
       "            0.257,     0.292,     0.322],\n",
       "       [   96.   ,     0.873,     0.885,     0.877,     0.924,     0.925,\n",
       "            0.907,     0.882,     0.777],\n",
       "       [  158.   ,     0.768,     0.719,     0.722,     0.689,     0.745,\n",
       "            0.727,     0.743,     0.729],\n",
       "       [  191.   ,     0.559,     0.5  ,     0.515,     0.677,     0.515,\n",
       "            0.489,     0.566,     0.614],\n",
       "       [  255.   ,     0.321,     0.225,     0.258,     0.298,     0.328,\n",
       "            0.268,     0.231,     0.24 ],\n",
       "       [  257.   ,     0.358,     0.431,     0.492,     0.381,     0.517,\n",
       "            0.438,     0.582,     0.433],\n",
       "       [  275.   ,     0.949,     0.939,     0.907,     0.939,     0.952,\n",
       "            0.975,     0.958,     0.947],\n",
       "       [  304.   ,     0.163,     0.087,     0.156,     0.074,     0.118,\n",
       "            0.1  ,     0.165,     0.095],\n",
       "       [  310.   ,     0.207,     0.252,     0.293,     0.282,     0.344,\n",
       "            0.268,     0.252,     0.189],\n",
       "       [  338.   ,     0.161,     0.159,     0.162,     0.196,     0.164,\n",
       "            0.258,     0.209,     0.152],\n",
       "       [  539.   ,     0.38 ,     0.389,     0.336,     0.367,     0.3  ,\n",
       "            0.402,     0.398,     0.368],\n",
       "       [  570.   ,     0.624,     0.616,     0.571,     0.742,     0.72 ,\n",
       "            0.629,     0.588,     0.673],\n",
       "       [  577.   ,     0.197,     0.215,     0.215,     0.281,     0.278,\n",
       "            0.344,     0.22 ,     0.21 ],\n",
       "       [  610.   ,     0.116,     0.188,     0.237,     0.244,     0.148,\n",
       "            0.265,     0.118,     0.141],\n",
       "       [  658.   ,     0.897,     0.811,     0.866,     0.897,     0.92 ,\n",
       "            0.78 ,     0.89 ,     0.873],\n",
       "       [  879.   ,     0.906,     0.943,     0.934,     0.967,     0.936,\n",
       "            0.916,     0.926,     0.97 ],\n",
       "       [  888.   ,     0.124,     0.128,     0.115,     0.145,     0.191,\n",
       "            0.201,     0.15 ,     0.124],\n",
       "       [  917.   ,     0.851,     0.857,     0.86 ,     0.797,     0.857,\n",
       "            0.912,     0.901,     0.902],\n",
       "       [ 1081.   ,     0.387,     0.419,     0.488,     0.384,     0.526,\n",
       "            0.386,     0.438,     0.425],\n",
       "       [ 1102.   ,     0.404,     0.342,     0.381,     0.331,     0.311,\n",
       "            0.316,     0.325,     0.384],\n",
       "       [ 1198.   ,     0.028,     0.053,     0.046,     0.076,     0.061,\n",
       "            0.096,     0.058,     0.092],\n",
       "       [ 1232.   ,     0.117,     0.141,     0.147,     0.102,     0.153,\n",
       "            0.159,     0.205,     0.072],\n",
       "       [ 1342.   ,     0.877,     0.864,     0.85 ,     0.858,     0.913,\n",
       "            0.921,     0.87 ,     0.9  ],\n",
       "       [ 1354.   ,     0.106,     0.093,     0.165,     0.099,     0.126,\n",
       "            0.111,     0.12 ,     0.161],\n",
       "       [ 1366.   ,     0.936,     0.941,     0.953,     0.904,     0.985,\n",
       "            0.911,     0.95 ,     0.98 ],\n",
       "       [ 1411.   ,     0.136,     0.093,     0.166,     0.136,     0.07 ,\n",
       "            0.107,     0.142,     0.172],\n",
       "       [ 1424.   ,     0.486,     0.418,     0.491,     0.523,     0.511,\n",
       "            0.539,     0.523,     0.607],\n",
       "       [ 1440.   ,     0.625,     0.626,     0.676,     0.619,     0.6  ,\n",
       "            0.597,     0.662,     0.619]])"
      ]
     },
     "execution_count": 349,
     "metadata": {},
     "output_type": "execute_result"
    }
   ],
   "source": [
    "alpha_frqs"
   ]
  },
  {
   "cell_type": "code",
   "execution_count": 350,
   "metadata": {
    "collapsed": true
   },
   "outputs": [
    {
     "data": {
      "text/plain": [
       "array([[   12.   ,     0.599,     0.714,     0.607,     0.743,     0.724,\n",
       "            0.625,     0.639,     0.711],\n",
       "       [   23.   ,     0.522,     0.327,     0.433,     0.528,     0.465,\n",
       "            0.557,     0.497,     0.403],\n",
       "       [   95.   ,     0.731,     0.717,     0.65 ,     0.749,     0.684,\n",
       "            0.744,     0.708,     0.678],\n",
       "       [   96.   ,     0.127,     0.115,     0.123,     0.075,     0.075,\n",
       "            0.093,     0.117,     0.223],\n",
       "       [  158.   ,     0.232,     0.281,     0.279,     0.311,     0.256,\n",
       "            0.273,     0.258,     0.272],\n",
       "       [  191.   ,     0.441,     0.499,     0.485,     0.323,     0.484,\n",
       "            0.511,     0.434,     0.387],\n",
       "       [  255.   ,     0.679,     0.775,     0.742,     0.702,     0.672,\n",
       "            0.733,     0.769,     0.76 ],\n",
       "       [  257.   ,     0.641,     0.569,     0.508,     0.619,     0.483,\n",
       "            0.562,     0.418,     0.567],\n",
       "       [  275.   ,     0.051,     0.061,     0.093,     0.061,     0.048,\n",
       "            0.025,     0.043,     0.053],\n",
       "       [  304.   ,     0.838,     0.913,     0.844,     0.926,     0.882,\n",
       "            0.9  ,     0.836,     0.905],\n",
       "       [  310.   ,     0.792,     0.748,     0.707,     0.718,     0.656,\n",
       "            0.732,     0.748,     0.811],\n",
       "       [  338.   ,     0.84 ,     0.841,     0.839,     0.804,     0.836,\n",
       "            0.742,     0.79 ,     0.848],\n",
       "       [  539.   ,     0.621,     0.611,     0.664,     0.632,     0.7  ,\n",
       "            0.598,     0.603,     0.631],\n",
       "       [  570.   ,     0.376,     0.385,     0.429,     0.258,     0.281,\n",
       "            0.371,     0.412,     0.327],\n",
       "       [  577.   ,     0.803,     0.785,     0.784,     0.719,     0.723,\n",
       "            0.656,     0.78 ,     0.79 ],\n",
       "       [  610.   ,     0.884,     0.812,     0.762,     0.755,     0.852,\n",
       "            0.736,     0.881,     0.859],\n",
       "       [  658.   ,     0.102,     0.189,     0.135,     0.103,     0.08 ,\n",
       "            0.22 ,     0.11 ,     0.128],\n",
       "       [  879.   ,     0.093,     0.057,     0.066,     0.033,     0.064,\n",
       "            0.084,     0.073,     0.03 ],\n",
       "       [  888.   ,     0.875,     0.873,     0.885,     0.855,     0.809,\n",
       "            0.799,     0.85 ,     0.876],\n",
       "       [  917.   ,     0.149,     0.143,     0.141,     0.203,     0.143,\n",
       "            0.087,     0.099,     0.098],\n",
       "       [ 1081.   ,     0.614,     0.581,     0.511,     0.616,     0.473,\n",
       "            0.615,     0.562,     0.575],\n",
       "       [ 1102.   ,     0.597,     0.658,     0.619,     0.669,     0.689,\n",
       "            0.684,     0.675,     0.616],\n",
       "       [ 1198.   ,     0.973,     0.947,     0.954,     0.923,     0.939,\n",
       "            0.904,     0.943,     0.907],\n",
       "       [ 1232.   ,     0.882,     0.859,     0.853,     0.898,     0.847,\n",
       "            0.841,     0.795,     0.928],\n",
       "       [ 1342.   ,     0.122,     0.136,     0.15 ,     0.142,     0.087,\n",
       "            0.079,     0.13 ,     0.1  ],\n",
       "       [ 1354.   ,     0.893,     0.906,     0.836,     0.901,     0.874,\n",
       "            0.889,     0.88 ,     0.84 ],\n",
       "       [ 1366.   ,     0.064,     0.059,     0.048,     0.096,     0.015,\n",
       "            0.088,     0.051,     0.02 ],\n",
       "       [ 1411.   ,     0.865,     0.906,     0.835,     0.864,     0.93 ,\n",
       "            0.892,     0.858,     0.829],\n",
       "       [ 1424.   ,     0.513,     0.582,     0.509,     0.477,     0.489,\n",
       "            0.461,     0.477,     0.394],\n",
       "       [ 1440.   ,     0.374,     0.373,     0.324,     0.381,     0.4  ,\n",
       "            0.403,     0.338,     0.382]])"
      ]
     },
     "execution_count": 350,
     "metadata": {},
     "output_type": "execute_result"
    }
   ],
   "source": [
    "omega_frqs"
   ]
  },
  {
   "cell_type": "code",
   "execution_count": 345,
   "metadata": {
    "collapsed": true
   },
   "outputs": [
    {
     "data": {
      "text/plain": [
       "array([[   12.   ,     0.33 ,     0.055,     0.67 ,     0.055],\n",
       "       [   23.   ,     0.533,     0.071,     0.467,     0.071],\n",
       "       [   95.   ,     0.292,     0.032,     0.708,     0.032],\n",
       "       [   96.   ,     0.881,     0.044,     0.119,     0.044],\n",
       "       [  158.   ,     0.73 ,     0.022,     0.27 ,     0.022],\n",
       "       [  191.   ,     0.554,     0.06 ,     0.446,     0.06 ],\n",
       "       [  255.   ,     0.271,     0.038,     0.729,     0.038],\n",
       "       [  257.   ,     0.454,     0.068,     0.546,     0.068],\n",
       "       [  275.   ,     0.945,     0.018,     0.055,     0.018],\n",
       "       [  304.   ,     0.12 ,     0.034,     0.88 ,     0.034],\n",
       "       [  310.   ,     0.261,     0.046,     0.739,     0.046],\n",
       "       [  338.   ,     0.182,     0.034,     0.818,     0.034],\n",
       "       [  539.   ,     0.368,     0.032,     0.633,     0.032],\n",
       "       [  570.   ,     0.645,     0.057,     0.355,     0.057],\n",
       "       [  577.   ,     0.245,     0.047,     0.755,     0.047],\n",
       "       [  610.   ,     0.182,     0.056,     0.818,     0.056],\n",
       "       [  658.   ,     0.867,     0.044,     0.133,     0.044],\n",
       "       [  879.   ,     0.937,     0.021,     0.063,     0.021],\n",
       "       [  888.   ,     0.147,     0.03 ,     0.853,     0.03 ],\n",
       "       [  917.   ,     0.867,     0.035,     0.133,     0.035],\n",
       "       [ 1081.   ,     0.432,     0.049,     0.568,     0.049],\n",
       "       [ 1102.   ,     0.349,     0.033,     0.651,     0.033],\n",
       "       [ 1198.   ,     0.064,     0.022,     0.936,     0.022],\n",
       "       [ 1232.   ,     0.137,     0.038,     0.863,     0.038],\n",
       "       [ 1342.   ,     0.882,     0.025,     0.118,     0.025],\n",
       "       [ 1354.   ,     0.123,     0.025,     0.877,     0.025],\n",
       "       [ 1366.   ,     0.945,     0.027,     0.055,     0.027],\n",
       "       [ 1411.   ,     0.128,     0.033,     0.872,     0.033],\n",
       "       [ 1424.   ,     0.512,     0.05 ,     0.488,     0.05 ],\n",
       "       [ 1440.   ,     0.628,     0.026,     0.372,     0.026]])"
      ]
     },
     "execution_count": 345,
     "metadata": {},
     "output_type": "execute_result"
    }
   ],
   "source": [
    "summary_at_qtl"
   ]
  },
  {
   "cell_type": "code",
   "execution_count": 264,
   "metadata": {},
   "outputs": [
    {
     "data": {
      "text/plain": [
       "array([ 0.402,  0.477,  0.269,  0.873,  0.768,  0.559,  0.321,  0.358,\n",
       "        0.949,  0.163,  0.207,  0.161,  0.38 ,  0.624,  0.197,  0.116,\n",
       "        0.897,  0.906,  0.124,  0.851,  0.387,  0.404,  0.028,  0.117,\n",
       "        0.877,  0.106,  0.936,  0.136,  0.486,  0.625])"
      ]
     },
     "execution_count": 264,
     "metadata": {},
     "output_type": "execute_result"
    }
   ],
   "source": [
    "alpha_frequency"
   ]
  },
  {
   "cell_type": "code",
   "execution_count": 265,
   "metadata": {},
   "outputs": [
    {
     "data": {
      "text/plain": [
       "array([ 0.599,  0.522,  0.731,  0.127,  0.232,  0.441,  0.679,  0.641,\n",
       "        0.051,  0.838,  0.792,  0.84 ,  0.621,  0.376,  0.803,  0.884,\n",
       "        0.102,  0.093,  0.875,  0.149,  0.614,  0.597,  0.973,  0.882,\n",
       "        0.122,  0.893,  0.064,  0.865,  0.513,  0.374])"
      ]
     },
     "execution_count": 265,
     "metadata": {},
     "output_type": "execute_result"
    }
   ],
   "source": [
    "omega_frequency"
   ]
  },
  {
   "cell_type": "code",
   "execution_count": 252,
   "metadata": {},
   "outputs": [
    {
     "data": {
      "text/plain": [
       "array([1, 4, 0, 1, 1, 0, 1, 1, 0, 1, 1, 4, 0, 1, 1, 0, 1, 0, 0, 2, 2, 0, 1,\n",
       "       0, 1, 1, 1, 0, 2, 1])"
      ]
     },
     "execution_count": 252,
     "metadata": {},
     "output_type": "execute_result"
    }
   ],
   "source": [
    "alphas"
   ]
  },
  {
   "cell_type": "code",
   "execution_count": 253,
   "metadata": {},
   "outputs": [
    {
     "data": {
      "text/plain": [
       "array([ 0.402,  0.477,  0.269,  0.873,  0.768,  0.559,  0.321,  0.358,\n",
       "        0.949,  0.163,  0.207,  0.161,  0.38 ,  0.624,  0.197,  0.116,\n",
       "        0.897,  0.906,  0.124,  0.851,  0.387,  0.404,  0.028,  0.117,\n",
       "        0.877,  0.106,  0.936,  0.136,  0.486,  0.625])"
      ]
     },
     "execution_count": 253,
     "metadata": {},
     "output_type": "execute_result"
    }
   ],
   "source": [
    "alpha_frequency"
   ]
  },
  {
   "cell_type": "code",
   "execution_count": 255,
   "metadata": {},
   "outputs": [
    {
     "data": {
      "text/plain": [
       "array([ 0.324,  1.114,  0.549,  1.894,  0.047,  1.948,  1.398,  1.7  ,\n",
       "        0.946,  1.625,  1.442,  0.419,  0.003,  0.933,  0.348,  0.037,\n",
       "        1.645,  0.524,  1.159,  2.874,  0.43 ,  1.559,  0.188,  0.384,\n",
       "        0.087,  0.191,  1.663,  3.133,  0.36 ,  0.594])"
      ]
     },
     "execution_count": 255,
     "metadata": {},
     "output_type": "execute_result"
    }
   ],
   "source": [
    "alpha_effect"
   ]
  },
  {
   "cell_type": "code",
   "execution_count": 257,
   "metadata": {},
   "outputs": [
    {
     "data": {
      "text/plain": [
       "array([3, 5, 2, 3, 3, 2, 3, 3, 2, 2, 3, 5, 3, 2, 2, 1, 3, 1, 2, 3, 3, 3, 3,\n",
       "       2, 2, 3, 3, 1, 3, 3])"
      ]
     },
     "execution_count": 257,
     "metadata": {},
     "output_type": "execute_result"
    }
   ],
   "source": [
    "omega"
   ]
  },
  {
   "cell_type": "code",
   "execution_count": null,
   "metadata": {
    "collapsed": true
   },
   "outputs": [],
   "source": []
  },
  {
   "cell_type": "code",
   "execution_count": 239,
   "metadata": {
    "collapsed": true
   },
   "outputs": [],
   "source": [
    "data_table = {}"
   ]
  },
  {
   "cell_type": "code",
   "execution_count": 356,
   "metadata": {},
   "outputs": [
    {
     "data": {
      "text/plain": [
       "array([[  12.   ,    0.33 ,    0.055,    0.67 ,    0.055],\n",
       "       [  23.   ,    0.533,    0.071,    0.467,    0.071],\n",
       "       [  95.   ,    0.292,    0.032,    0.708,    0.032],\n",
       "       [  96.   ,    0.881,    0.044,    0.119,    0.044],\n",
       "       [ 158.   ,    0.73 ,    0.022,    0.27 ,    0.022]])"
      ]
     },
     "execution_count": 356,
     "metadata": {},
     "output_type": "execute_result"
    }
   ],
   "source": [
    "summary_at_qtl[:5]"
   ]
  },
  {
   "cell_type": "code",
   "execution_count": null,
   "metadata": {
    "collapsed": true
   },
   "outputs": [],
   "source": []
  },
  {
   "cell_type": "code",
   "execution_count": 419,
   "metadata": {},
   "outputs": [],
   "source": [
    "data_table = dict(\n",
    "    QTL=qtl, \n",
    "    Chromosome=chromosomes,\n",
    "    Alpha=alpha,\n",
    "    AverageAlphaFrequency=summary_at_qtl[:, 1],\n",
    "    AlphaEffect=alpha_effect,\n",
    "    Omega=omega,\n",
    "    AverageOmegaFrequency=summary_at_qtl[:, 3],\n",
    "    OmegaEffect=omega_effect,\n",
    "    StdDevAlleleFrq=summary_at_qtl[:, 2],\n",
    "    AbsEffectDiff=abs_diff,\n",
    "    FrequencyDetected=prob_detection[:, 1]\n",
    ")"
   ]
  },
  {
   "cell_type": "code",
   "execution_count": 420,
   "metadata": {
    "collapsed": true
   },
   "outputs": [
    {
     "data": {
      "text/plain": [
       "{'AbsEffectDiff': array([ 0.597,  1.729,  0.486,  1.189,  2.281,  1.678,  0.146,  0.525,\n",
       "         0.793,  0.302,  1.313,  2.279,  1.937,  0.501,  0.362,  1.541,\n",
       "         0.608,  0.009,  1.678,  0.092,  0.345,  1.331,  0.152,  0.306,\n",
       "         0.331,  1.309,  1.136,  0.175,  0.018,  0.541]),\n",
       " 'Alpha': array([1, 4, 0, 1, 1, 0, 1, 1, 0, 1, 1, 4, 0, 1, 1, 0, 1, 0, 0, 2, 2, 0, 1,\n",
       "        0, 1, 1, 1, 0, 2, 1]),\n",
       " 'AlphaEffect': array([ 0.324,  1.114,  0.549,  1.894,  0.047,  1.948,  1.398,  1.7  ,\n",
       "         0.946,  1.625,  1.442,  0.419,  0.003,  0.933,  0.348,  0.037,\n",
       "         1.645,  0.524,  1.159,  2.874,  0.43 ,  1.559,  0.188,  0.384,\n",
       "         0.087,  0.191,  1.663,  3.133,  0.36 ,  0.594]),\n",
       " 'AverageAlphaFrequency': array([ 0.33 ,  0.533,  0.292,  0.881,  0.73 ,  0.554,  0.271,  0.454,\n",
       "         0.945,  0.12 ,  0.261,  0.182,  0.368,  0.645,  0.245,  0.182,\n",
       "         0.867,  0.937,  0.147,  0.867,  0.432,  0.349,  0.064,  0.137,\n",
       "         0.882,  0.123,  0.945,  0.128,  0.512,  0.628]),\n",
       " 'AverageOmegaFrequency': array([ 0.67 ,  0.467,  0.708,  0.119,  0.27 ,  0.446,  0.729,  0.546,\n",
       "         0.055,  0.88 ,  0.739,  0.818,  0.633,  0.355,  0.755,  0.818,\n",
       "         0.133,  0.063,  0.853,  0.133,  0.568,  0.651,  0.936,  0.863,\n",
       "         0.118,  0.877,  0.055,  0.872,  0.488,  0.372]),\n",
       " 'Chromosome': array([ 1,  1,  1,  1,  1,  1,  2,  2,  2,  2,  2,  2,  4,  4,  4,  4,  4,\n",
       "         6,  6,  6,  7,  8,  8,  9,  9,  9, 10, 10, 10, 10]),\n",
       " 'FrequencyDetected': array([ 0.   ,  0.875,  0.125,  0.   ,  1.   ,  1.   ,  0.   ,  0.   ,\n",
       "         0.   ,  0.   ,  0.375,  1.   ,  1.   ,  0.   ,  0.   ,  0.625,\n",
       "         0.   ,  0.   ,  0.25 ,  0.   ,  0.   ,  0.5  ,  0.   ,  0.   ,\n",
       "         0.   ,  0.   ,  0.   ,  0.   ,  0.   ,  0.   ]),\n",
       " 'Omega': array([3, 5, 2, 3, 3, 2, 3, 3, 2, 2, 3, 5, 3, 2, 2, 1, 3, 1, 2, 3, 3, 3, 3,\n",
       "        2, 2, 3, 3, 1, 3, 3]),\n",
       " 'OmegaEffect': array([ 0.921,  2.843,  0.063,  0.705,  2.327,  0.27 ,  1.252,  1.176,\n",
       "         1.739,  1.323,  0.129,  2.698,  1.939,  0.432,  0.71 ,  1.578,\n",
       "         1.037,  0.515,  2.838,  2.782,  0.085,  0.228,  0.339,  0.69 ,\n",
       "         0.418,  1.499,  0.527,  2.958,  0.378,  1.135]),\n",
       " 'QTL': [12,\n",
       "  23,\n",
       "  95,\n",
       "  96,\n",
       "  158,\n",
       "  191,\n",
       "  255,\n",
       "  257,\n",
       "  275,\n",
       "  304,\n",
       "  310,\n",
       "  338,\n",
       "  539,\n",
       "  570,\n",
       "  577,\n",
       "  610,\n",
       "  658,\n",
       "  879,\n",
       "  888,\n",
       "  917,\n",
       "  1081,\n",
       "  1102,\n",
       "  1198,\n",
       "  1232,\n",
       "  1342,\n",
       "  1354,\n",
       "  1366,\n",
       "  1411,\n",
       "  1424,\n",
       "  1440],\n",
       " 'StdDevAlleleFrq': array([ 0.055,  0.071,  0.032,  0.044,  0.022,  0.06 ,  0.038,  0.068,\n",
       "         0.018,  0.034,  0.046,  0.034,  0.032,  0.057,  0.047,  0.056,\n",
       "         0.044,  0.021,  0.03 ,  0.035,  0.049,  0.033,  0.022,  0.038,\n",
       "         0.025,  0.025,  0.027,  0.033,  0.05 ,  0.026])}"
      ]
     },
     "execution_count": 420,
     "metadata": {},
     "output_type": "execute_result"
    }
   ],
   "source": [
    "data_table"
   ]
  },
  {
   "cell_type": "code",
   "execution_count": 282,
   "metadata": {},
   "outputs": [
    {
     "data": {
      "text/plain": [
       "dict_keys(['qtl', 'chromosomes', 'alpha', 'alpha_frequency', 'alpha_effect', 'omega', 'omega_frequency', 'omega_effect', 'abs_diff'])"
      ]
     },
     "execution_count": 282,
     "metadata": {},
     "output_type": "execute_result"
    }
   ],
   "source": [
    "data_table.keys()"
   ]
  },
  {
   "cell_type": "code",
   "execution_count": 423,
   "metadata": {},
   "outputs": [],
   "source": [
    "allele_data_table = pd.DataFrame(data_table, columns=['QTL', 'Chromosome', 'Alpha', 'AlphaEffect', \n",
    "                                 'AverageAlphaFrequency', 'Omega','OmegaEffect', 'AverageOmegaFrequency',  \n",
    "                                                      'StdDevAlleleFrq', 'AbsEffectDiff', 'FrequencyDetected'])"
   ]
  },
  {
   "cell_type": "code",
   "execution_count": 424,
   "metadata": {},
   "outputs": [
    {
     "data": {
      "text/html": [
       "<div>\n",
       "<style>\n",
       "    .dataframe thead tr:only-child th {\n",
       "        text-align: right;\n",
       "    }\n",
       "\n",
       "    .dataframe thead th {\n",
       "        text-align: left;\n",
       "    }\n",
       "\n",
       "    .dataframe tbody tr th {\n",
       "        vertical-align: top;\n",
       "    }\n",
       "</style>\n",
       "<table border=\"1\" class=\"dataframe\">\n",
       "  <thead>\n",
       "    <tr style=\"text-align: right;\">\n",
       "      <th></th>\n",
       "      <th>QTL</th>\n",
       "      <th>Chromosome</th>\n",
       "      <th>Alpha</th>\n",
       "      <th>AlphaEffect</th>\n",
       "      <th>AverageAlphaFrequency</th>\n",
       "      <th>Omega</th>\n",
       "      <th>OmegaEffect</th>\n",
       "      <th>AverageOmegaFrequency</th>\n",
       "      <th>StdDevAlleleFrq</th>\n",
       "      <th>AbsEffectDiff</th>\n",
       "      <th>FrequencyDetected</th>\n",
       "    </tr>\n",
       "  </thead>\n",
       "  <tbody>\n",
       "    <tr>\n",
       "      <th>0</th>\n",
       "      <td>12</td>\n",
       "      <td>1</td>\n",
       "      <td>1</td>\n",
       "      <td>0.3244</td>\n",
       "      <td>0.3299</td>\n",
       "      <td>3</td>\n",
       "      <td>0.9214</td>\n",
       "      <td>0.6701</td>\n",
       "      <td>0.0546</td>\n",
       "      <td>0.5970</td>\n",
       "      <td>0.0000</td>\n",
       "    </tr>\n",
       "    <tr>\n",
       "      <th>1</th>\n",
       "      <td>23</td>\n",
       "      <td>1</td>\n",
       "      <td>4</td>\n",
       "      <td>1.1141</td>\n",
       "      <td>0.5334</td>\n",
       "      <td>5</td>\n",
       "      <td>2.8435</td>\n",
       "      <td>0.4666</td>\n",
       "      <td>0.0713</td>\n",
       "      <td>1.7294</td>\n",
       "      <td>0.8750</td>\n",
       "    </tr>\n",
       "    <tr>\n",
       "      <th>2</th>\n",
       "      <td>95</td>\n",
       "      <td>1</td>\n",
       "      <td>0</td>\n",
       "      <td>0.5485</td>\n",
       "      <td>0.2924</td>\n",
       "      <td>2</td>\n",
       "      <td>0.0627</td>\n",
       "      <td>0.7076</td>\n",
       "      <td>0.0321</td>\n",
       "      <td>0.4858</td>\n",
       "      <td>0.1250</td>\n",
       "    </tr>\n",
       "    <tr>\n",
       "      <th>3</th>\n",
       "      <td>96</td>\n",
       "      <td>1</td>\n",
       "      <td>1</td>\n",
       "      <td>1.8937</td>\n",
       "      <td>0.8814</td>\n",
       "      <td>3</td>\n",
       "      <td>0.7047</td>\n",
       "      <td>0.1186</td>\n",
       "      <td>0.0439</td>\n",
       "      <td>1.1890</td>\n",
       "      <td>0.0000</td>\n",
       "    </tr>\n",
       "    <tr>\n",
       "      <th>4</th>\n",
       "      <td>158</td>\n",
       "      <td>1</td>\n",
       "      <td>1</td>\n",
       "      <td>0.0466</td>\n",
       "      <td>0.7301</td>\n",
       "      <td>3</td>\n",
       "      <td>2.3273</td>\n",
       "      <td>0.2699</td>\n",
       "      <td>0.0216</td>\n",
       "      <td>2.2807</td>\n",
       "      <td>1.0000</td>\n",
       "    </tr>\n",
       "    <tr>\n",
       "      <th>5</th>\n",
       "      <td>191</td>\n",
       "      <td>1</td>\n",
       "      <td>0</td>\n",
       "      <td>1.9480</td>\n",
       "      <td>0.5545</td>\n",
       "      <td>2</td>\n",
       "      <td>0.2702</td>\n",
       "      <td>0.4455</td>\n",
       "      <td>0.0601</td>\n",
       "      <td>1.6778</td>\n",
       "      <td>1.0000</td>\n",
       "    </tr>\n",
       "    <tr>\n",
       "      <th>6</th>\n",
       "      <td>255</td>\n",
       "      <td>2</td>\n",
       "      <td>1</td>\n",
       "      <td>1.3982</td>\n",
       "      <td>0.2710</td>\n",
       "      <td>3</td>\n",
       "      <td>1.2521</td>\n",
       "      <td>0.7290</td>\n",
       "      <td>0.0377</td>\n",
       "      <td>0.1460</td>\n",
       "      <td>0.0000</td>\n",
       "    </tr>\n",
       "    <tr>\n",
       "      <th>7</th>\n",
       "      <td>257</td>\n",
       "      <td>2</td>\n",
       "      <td>1</td>\n",
       "      <td>1.7003</td>\n",
       "      <td>0.4540</td>\n",
       "      <td>3</td>\n",
       "      <td>1.1757</td>\n",
       "      <td>0.5460</td>\n",
       "      <td>0.0685</td>\n",
       "      <td>0.5246</td>\n",
       "      <td>0.0000</td>\n",
       "    </tr>\n",
       "    <tr>\n",
       "      <th>8</th>\n",
       "      <td>275</td>\n",
       "      <td>2</td>\n",
       "      <td>0</td>\n",
       "      <td>0.9465</td>\n",
       "      <td>0.9454</td>\n",
       "      <td>2</td>\n",
       "      <td>1.7394</td>\n",
       "      <td>0.0546</td>\n",
       "      <td>0.0181</td>\n",
       "      <td>0.7929</td>\n",
       "      <td>0.0000</td>\n",
       "    </tr>\n",
       "    <tr>\n",
       "      <th>9</th>\n",
       "      <td>304</td>\n",
       "      <td>2</td>\n",
       "      <td>1</td>\n",
       "      <td>1.6253</td>\n",
       "      <td>0.1196</td>\n",
       "      <td>2</td>\n",
       "      <td>1.3229</td>\n",
       "      <td>0.8804</td>\n",
       "      <td>0.0341</td>\n",
       "      <td>0.3025</td>\n",
       "      <td>0.0000</td>\n",
       "    </tr>\n",
       "    <tr>\n",
       "      <th>10</th>\n",
       "      <td>310</td>\n",
       "      <td>2</td>\n",
       "      <td>1</td>\n",
       "      <td>1.4422</td>\n",
       "      <td>0.2610</td>\n",
       "      <td>3</td>\n",
       "      <td>0.1291</td>\n",
       "      <td>0.7390</td>\n",
       "      <td>0.0456</td>\n",
       "      <td>1.3130</td>\n",
       "      <td>0.3750</td>\n",
       "    </tr>\n",
       "    <tr>\n",
       "      <th>11</th>\n",
       "      <td>338</td>\n",
       "      <td>2</td>\n",
       "      <td>4</td>\n",
       "      <td>0.4188</td>\n",
       "      <td>0.1825</td>\n",
       "      <td>5</td>\n",
       "      <td>2.6977</td>\n",
       "      <td>0.8175</td>\n",
       "      <td>0.0342</td>\n",
       "      <td>2.2789</td>\n",
       "      <td>1.0000</td>\n",
       "    </tr>\n",
       "    <tr>\n",
       "      <th>12</th>\n",
       "      <td>539</td>\n",
       "      <td>4</td>\n",
       "      <td>0</td>\n",
       "      <td>0.0028</td>\n",
       "      <td>0.3675</td>\n",
       "      <td>3</td>\n",
       "      <td>1.9394</td>\n",
       "      <td>0.6325</td>\n",
       "      <td>0.0320</td>\n",
       "      <td>1.9366</td>\n",
       "      <td>1.0000</td>\n",
       "    </tr>\n",
       "    <tr>\n",
       "      <th>13</th>\n",
       "      <td>570</td>\n",
       "      <td>4</td>\n",
       "      <td>1</td>\n",
       "      <td>0.9329</td>\n",
       "      <td>0.6452</td>\n",
       "      <td>2</td>\n",
       "      <td>0.4322</td>\n",
       "      <td>0.3548</td>\n",
       "      <td>0.0572</td>\n",
       "      <td>0.5007</td>\n",
       "      <td>0.0000</td>\n",
       "    </tr>\n",
       "    <tr>\n",
       "      <th>14</th>\n",
       "      <td>577</td>\n",
       "      <td>4</td>\n",
       "      <td>1</td>\n",
       "      <td>0.3476</td>\n",
       "      <td>0.2450</td>\n",
       "      <td>2</td>\n",
       "      <td>0.7097</td>\n",
       "      <td>0.7550</td>\n",
       "      <td>0.0475</td>\n",
       "      <td>0.3621</td>\n",
       "      <td>0.0000</td>\n",
       "    </tr>\n",
       "    <tr>\n",
       "      <th>15</th>\n",
       "      <td>610</td>\n",
       "      <td>4</td>\n",
       "      <td>0</td>\n",
       "      <td>0.0373</td>\n",
       "      <td>0.1822</td>\n",
       "      <td>1</td>\n",
       "      <td>1.5779</td>\n",
       "      <td>0.8177</td>\n",
       "      <td>0.0559</td>\n",
       "      <td>1.5406</td>\n",
       "      <td>0.6250</td>\n",
       "    </tr>\n",
       "    <tr>\n",
       "      <th>16</th>\n",
       "      <td>658</td>\n",
       "      <td>4</td>\n",
       "      <td>1</td>\n",
       "      <td>1.6450</td>\n",
       "      <td>0.8668</td>\n",
       "      <td>3</td>\n",
       "      <td>1.0368</td>\n",
       "      <td>0.1332</td>\n",
       "      <td>0.0445</td>\n",
       "      <td>0.6082</td>\n",
       "      <td>0.0000</td>\n",
       "    </tr>\n",
       "    <tr>\n",
       "      <th>17</th>\n",
       "      <td>879</td>\n",
       "      <td>6</td>\n",
       "      <td>0</td>\n",
       "      <td>0.5242</td>\n",
       "      <td>0.9374</td>\n",
       "      <td>1</td>\n",
       "      <td>0.5150</td>\n",
       "      <td>0.0626</td>\n",
       "      <td>0.0209</td>\n",
       "      <td>0.0091</td>\n",
       "      <td>0.0000</td>\n",
       "    </tr>\n",
       "    <tr>\n",
       "      <th>18</th>\n",
       "      <td>888</td>\n",
       "      <td>6</td>\n",
       "      <td>0</td>\n",
       "      <td>1.1593</td>\n",
       "      <td>0.1473</td>\n",
       "      <td>2</td>\n",
       "      <td>2.8376</td>\n",
       "      <td>0.8527</td>\n",
       "      <td>0.0302</td>\n",
       "      <td>1.6783</td>\n",
       "      <td>0.2500</td>\n",
       "    </tr>\n",
       "    <tr>\n",
       "      <th>19</th>\n",
       "      <td>917</td>\n",
       "      <td>6</td>\n",
       "      <td>2</td>\n",
       "      <td>2.8740</td>\n",
       "      <td>0.8671</td>\n",
       "      <td>3</td>\n",
       "      <td>2.7819</td>\n",
       "      <td>0.1329</td>\n",
       "      <td>0.0351</td>\n",
       "      <td>0.0921</td>\n",
       "      <td>0.0000</td>\n",
       "    </tr>\n",
       "    <tr>\n",
       "      <th>20</th>\n",
       "      <td>1081</td>\n",
       "      <td>7</td>\n",
       "      <td>2</td>\n",
       "      <td>0.4303</td>\n",
       "      <td>0.4317</td>\n",
       "      <td>3</td>\n",
       "      <td>0.0852</td>\n",
       "      <td>0.5682</td>\n",
       "      <td>0.0486</td>\n",
       "      <td>0.3451</td>\n",
       "      <td>0.0000</td>\n",
       "    </tr>\n",
       "    <tr>\n",
       "      <th>21</th>\n",
       "      <td>1102</td>\n",
       "      <td>8</td>\n",
       "      <td>0</td>\n",
       "      <td>1.5586</td>\n",
       "      <td>0.3491</td>\n",
       "      <td>3</td>\n",
       "      <td>0.2275</td>\n",
       "      <td>0.6509</td>\n",
       "      <td>0.0330</td>\n",
       "      <td>1.3310</td>\n",
       "      <td>0.5000</td>\n",
       "    </tr>\n",
       "    <tr>\n",
       "      <th>22</th>\n",
       "      <td>1198</td>\n",
       "      <td>8</td>\n",
       "      <td>1</td>\n",
       "      <td>0.1878</td>\n",
       "      <td>0.0638</td>\n",
       "      <td>3</td>\n",
       "      <td>0.3393</td>\n",
       "      <td>0.9363</td>\n",
       "      <td>0.0219</td>\n",
       "      <td>0.1515</td>\n",
       "      <td>0.0000</td>\n",
       "    </tr>\n",
       "    <tr>\n",
       "      <th>23</th>\n",
       "      <td>1232</td>\n",
       "      <td>9</td>\n",
       "      <td>0</td>\n",
       "      <td>0.3842</td>\n",
       "      <td>0.1371</td>\n",
       "      <td>2</td>\n",
       "      <td>0.6905</td>\n",
       "      <td>0.8629</td>\n",
       "      <td>0.0376</td>\n",
       "      <td>0.3062</td>\n",
       "      <td>0.0000</td>\n",
       "    </tr>\n",
       "    <tr>\n",
       "      <th>24</th>\n",
       "      <td>1342</td>\n",
       "      <td>9</td>\n",
       "      <td>1</td>\n",
       "      <td>0.0870</td>\n",
       "      <td>0.8818</td>\n",
       "      <td>2</td>\n",
       "      <td>0.4183</td>\n",
       "      <td>0.1182</td>\n",
       "      <td>0.0249</td>\n",
       "      <td>0.3313</td>\n",
       "      <td>0.0000</td>\n",
       "    </tr>\n",
       "    <tr>\n",
       "      <th>25</th>\n",
       "      <td>1354</td>\n",
       "      <td>9</td>\n",
       "      <td>1</td>\n",
       "      <td>0.1906</td>\n",
       "      <td>0.1226</td>\n",
       "      <td>3</td>\n",
       "      <td>1.4993</td>\n",
       "      <td>0.8774</td>\n",
       "      <td>0.0250</td>\n",
       "      <td>1.3087</td>\n",
       "      <td>0.0000</td>\n",
       "    </tr>\n",
       "    <tr>\n",
       "      <th>26</th>\n",
       "      <td>1366</td>\n",
       "      <td>10</td>\n",
       "      <td>1</td>\n",
       "      <td>1.6629</td>\n",
       "      <td>0.9451</td>\n",
       "      <td>3</td>\n",
       "      <td>0.5267</td>\n",
       "      <td>0.0549</td>\n",
       "      <td>0.0268</td>\n",
       "      <td>1.1362</td>\n",
       "      <td>0.0000</td>\n",
       "    </tr>\n",
       "    <tr>\n",
       "      <th>27</th>\n",
       "      <td>1411</td>\n",
       "      <td>10</td>\n",
       "      <td>0</td>\n",
       "      <td>3.1328</td>\n",
       "      <td>0.1277</td>\n",
       "      <td>1</td>\n",
       "      <td>2.9582</td>\n",
       "      <td>0.8723</td>\n",
       "      <td>0.0328</td>\n",
       "      <td>0.1746</td>\n",
       "      <td>0.0000</td>\n",
       "    </tr>\n",
       "    <tr>\n",
       "      <th>28</th>\n",
       "      <td>1424</td>\n",
       "      <td>10</td>\n",
       "      <td>2</td>\n",
       "      <td>0.3600</td>\n",
       "      <td>0.5124</td>\n",
       "      <td>3</td>\n",
       "      <td>0.3780</td>\n",
       "      <td>0.4876</td>\n",
       "      <td>0.0497</td>\n",
       "      <td>0.0180</td>\n",
       "      <td>0.0000</td>\n",
       "    </tr>\n",
       "    <tr>\n",
       "      <th>29</th>\n",
       "      <td>1440</td>\n",
       "      <td>10</td>\n",
       "      <td>1</td>\n",
       "      <td>0.5936</td>\n",
       "      <td>0.6281</td>\n",
       "      <td>3</td>\n",
       "      <td>1.1346</td>\n",
       "      <td>0.3719</td>\n",
       "      <td>0.0259</td>\n",
       "      <td>0.5410</td>\n",
       "      <td>0.0000</td>\n",
       "    </tr>\n",
       "  </tbody>\n",
       "</table>\n",
       "</div>"
      ],
      "text/plain": [
       "     QTL  Chromosome  Alpha  AlphaEffect  AverageAlphaFrequency  Omega  \\\n",
       "0     12           1      1       0.3244                 0.3299      3   \n",
       "1     23           1      4       1.1141                 0.5334      5   \n",
       "2     95           1      0       0.5485                 0.2924      2   \n",
       "3     96           1      1       1.8937                 0.8814      3   \n",
       "4    158           1      1       0.0466                 0.7301      3   \n",
       "5    191           1      0       1.9480                 0.5545      2   \n",
       "6    255           2      1       1.3982                 0.2710      3   \n",
       "7    257           2      1       1.7003                 0.4540      3   \n",
       "8    275           2      0       0.9465                 0.9454      2   \n",
       "9    304           2      1       1.6253                 0.1196      2   \n",
       "10   310           2      1       1.4422                 0.2610      3   \n",
       "11   338           2      4       0.4188                 0.1825      5   \n",
       "12   539           4      0       0.0028                 0.3675      3   \n",
       "13   570           4      1       0.9329                 0.6452      2   \n",
       "14   577           4      1       0.3476                 0.2450      2   \n",
       "15   610           4      0       0.0373                 0.1822      1   \n",
       "16   658           4      1       1.6450                 0.8668      3   \n",
       "17   879           6      0       0.5242                 0.9374      1   \n",
       "18   888           6      0       1.1593                 0.1473      2   \n",
       "19   917           6      2       2.8740                 0.8671      3   \n",
       "20  1081           7      2       0.4303                 0.4317      3   \n",
       "21  1102           8      0       1.5586                 0.3491      3   \n",
       "22  1198           8      1       0.1878                 0.0638      3   \n",
       "23  1232           9      0       0.3842                 0.1371      2   \n",
       "24  1342           9      1       0.0870                 0.8818      2   \n",
       "25  1354           9      1       0.1906                 0.1226      3   \n",
       "26  1366          10      1       1.6629                 0.9451      3   \n",
       "27  1411          10      0       3.1328                 0.1277      1   \n",
       "28  1424          10      2       0.3600                 0.5124      3   \n",
       "29  1440          10      1       0.5936                 0.6281      3   \n",
       "\n",
       "    OmegaEffect  AverageOmegaFrequency  StdDevAlleleFrq  AbsEffectDiff  \\\n",
       "0        0.9214                 0.6701           0.0546         0.5970   \n",
       "1        2.8435                 0.4666           0.0713         1.7294   \n",
       "2        0.0627                 0.7076           0.0321         0.4858   \n",
       "3        0.7047                 0.1186           0.0439         1.1890   \n",
       "4        2.3273                 0.2699           0.0216         2.2807   \n",
       "5        0.2702                 0.4455           0.0601         1.6778   \n",
       "6        1.2521                 0.7290           0.0377         0.1460   \n",
       "7        1.1757                 0.5460           0.0685         0.5246   \n",
       "8        1.7394                 0.0546           0.0181         0.7929   \n",
       "9        1.3229                 0.8804           0.0341         0.3025   \n",
       "10       0.1291                 0.7390           0.0456         1.3130   \n",
       "11       2.6977                 0.8175           0.0342         2.2789   \n",
       "12       1.9394                 0.6325           0.0320         1.9366   \n",
       "13       0.4322                 0.3548           0.0572         0.5007   \n",
       "14       0.7097                 0.7550           0.0475         0.3621   \n",
       "15       1.5779                 0.8177           0.0559         1.5406   \n",
       "16       1.0368                 0.1332           0.0445         0.6082   \n",
       "17       0.5150                 0.0626           0.0209         0.0091   \n",
       "18       2.8376                 0.8527           0.0302         1.6783   \n",
       "19       2.7819                 0.1329           0.0351         0.0921   \n",
       "20       0.0852                 0.5682           0.0486         0.3451   \n",
       "21       0.2275                 0.6509           0.0330         1.3310   \n",
       "22       0.3393                 0.9363           0.0219         0.1515   \n",
       "23       0.6905                 0.8629           0.0376         0.3062   \n",
       "24       0.4183                 0.1182           0.0249         0.3313   \n",
       "25       1.4993                 0.8774           0.0250         1.3087   \n",
       "26       0.5267                 0.0549           0.0268         1.1362   \n",
       "27       2.9582                 0.8723           0.0328         0.1746   \n",
       "28       0.3780                 0.4876           0.0497         0.0180   \n",
       "29       1.1346                 0.3719           0.0259         0.5410   \n",
       "\n",
       "    FrequencyDetected  \n",
       "0              0.0000  \n",
       "1              0.8750  \n",
       "2              0.1250  \n",
       "3              0.0000  \n",
       "4              1.0000  \n",
       "5              1.0000  \n",
       "6              0.0000  \n",
       "7              0.0000  \n",
       "8              0.0000  \n",
       "9              0.0000  \n",
       "10             0.3750  \n",
       "11             1.0000  \n",
       "12             1.0000  \n",
       "13             0.0000  \n",
       "14             0.0000  \n",
       "15             0.6250  \n",
       "16             0.0000  \n",
       "17             0.0000  \n",
       "18             0.2500  \n",
       "19             0.0000  \n",
       "20             0.0000  \n",
       "21             0.5000  \n",
       "22             0.0000  \n",
       "23             0.0000  \n",
       "24             0.0000  \n",
       "25             0.0000  \n",
       "26             0.0000  \n",
       "27             0.0000  \n",
       "28             0.0000  \n",
       "29             0.0000  "
      ]
     },
     "execution_count": 424,
     "metadata": {},
     "output_type": "execute_result"
    }
   ],
   "source": [
    "allele_data_table"
   ]
  },
  {
   "cell_type": "code",
   "execution_count": 425,
   "metadata": {},
   "outputs": [],
   "source": [
    "allele_data_table.to_csv('small_allele_data_summary.txt', sep='\\t', index=False, float_format='%.4f')"
   ]
  },
  {
   "cell_type": "code",
   "execution_count": 373,
   "metadata": {
    "collapsed": true
   },
   "outputs": [],
   "source": [
    "small_data['allele/summary_data'] = allele_data_table"
   ]
  },
  {
   "cell_type": "code",
   "execution_count": 376,
   "metadata": {
    "collapsed": true
   },
   "outputs": [],
   "source": [
    "small_data['allele/summary_data'].attrs['columns'] = list(map(np.string_, allele_data_table.columns))"
   ]
  },
  {
   "cell_type": "code",
   "execution_count": 416,
   "metadata": {},
   "outputs": [],
   "source": [
    "abseffectdiff_correlations = allele_data_table.corr()['AbsEffectDiff']"
   ]
  },
  {
   "cell_type": "code",
   "execution_count": 418,
   "metadata": {},
   "outputs": [
    {
     "data": {
      "text/plain": [
       "QTL                     -0.3668\n",
       "Chromosome              -0.3736\n",
       "Alpha                    0.1629\n",
       "AlphaEffect             -0.1659\n",
       "AverageAlphaFrequency   -0.0734\n",
       "Omega                    0.4025\n",
       "AverageOmegaFrequency    0.0734\n",
       "StdDevAlleleFrq          0.0609\n",
       "AbsEffectDiff            1.0000\n",
       "FrequencyDetected        0.8555\n",
       "Name: AbsEffectDiff, dtype: float64"
      ]
     },
     "execution_count": 418,
     "metadata": {},
     "output_type": "execute_result"
    }
   ],
   "source": [
    "abseffectdiff_correlations"
   ]
  },
  {
   "cell_type": "code",
   "execution_count": 417,
   "metadata": {},
   "outputs": [
    {
     "data": {
      "text/html": [
       "<div>\n",
       "<style>\n",
       "    .dataframe thead tr:only-child th {\n",
       "        text-align: right;\n",
       "    }\n",
       "\n",
       "    .dataframe thead th {\n",
       "        text-align: left;\n",
       "    }\n",
       "\n",
       "    .dataframe tbody tr th {\n",
       "        vertical-align: top;\n",
       "    }\n",
       "</style>\n",
       "<table border=\"1\" class=\"dataframe\">\n",
       "  <thead>\n",
       "    <tr style=\"text-align: right;\">\n",
       "      <th></th>\n",
       "      <th>QTL</th>\n",
       "      <th>Chromosome</th>\n",
       "      <th>Alpha</th>\n",
       "      <th>AlphaEffect</th>\n",
       "      <th>AverageAlphaFrequency</th>\n",
       "      <th>Omega</th>\n",
       "      <th>AverageOmegaFrequency</th>\n",
       "      <th>StdDevAlleleFrq</th>\n",
       "      <th>AbsEffectDiff</th>\n",
       "      <th>FrequencyDetected</th>\n",
       "    </tr>\n",
       "  </thead>\n",
       "  <tbody>\n",
       "    <tr>\n",
       "      <th>QTL</th>\n",
       "      <td>1.0000</td>\n",
       "      <td>0.9943</td>\n",
       "      <td>-0.1361</td>\n",
       "      <td>-0.0424</td>\n",
       "      <td>-0.0231</td>\n",
       "      <td>-0.2167</td>\n",
       "      <td>0.0231</td>\n",
       "      <td>-0.4153</td>\n",
       "      <td>-0.3668</td>\n",
       "      <td>-0.4024</td>\n",
       "    </tr>\n",
       "    <tr>\n",
       "      <th>Chromosome</th>\n",
       "      <td>0.9943</td>\n",
       "      <td>1.0000</td>\n",
       "      <td>-0.1404</td>\n",
       "      <td>-0.0379</td>\n",
       "      <td>-0.0255</td>\n",
       "      <td>-0.2042</td>\n",
       "      <td>0.0255</td>\n",
       "      <td>-0.3970</td>\n",
       "      <td>-0.3736</td>\n",
       "      <td>-0.4118</td>\n",
       "    </tr>\n",
       "    <tr>\n",
       "      <th>Alpha</th>\n",
       "      <td>-0.1361</td>\n",
       "      <td>-0.1404</td>\n",
       "      <td>1.0000</td>\n",
       "      <td>-0.0399</td>\n",
       "      <td>0.0431</td>\n",
       "      <td>0.8140</td>\n",
       "      <td>-0.0431</td>\n",
       "      <td>0.3166</td>\n",
       "      <td>0.1629</td>\n",
       "      <td>0.2084</td>\n",
       "    </tr>\n",
       "    <tr>\n",
       "      <th>AlphaEffect</th>\n",
       "      <td>-0.0424</td>\n",
       "      <td>-0.0379</td>\n",
       "      <td>-0.0399</td>\n",
       "      <td>1.0000</td>\n",
       "      <td>0.1734</td>\n",
       "      <td>-0.0660</td>\n",
       "      <td>-0.1734</td>\n",
       "      <td>0.1611</td>\n",
       "      <td>-0.1659</td>\n",
       "      <td>-0.1704</td>\n",
       "    </tr>\n",
       "    <tr>\n",
       "      <th>AverageAlphaFrequency</th>\n",
       "      <td>-0.0231</td>\n",
       "      <td>-0.0255</td>\n",
       "      <td>0.0431</td>\n",
       "      <td>0.1734</td>\n",
       "      <td>1.0000</td>\n",
       "      <td>0.0133</td>\n",
       "      <td>-1.0000</td>\n",
       "      <td>-0.1157</td>\n",
       "      <td>-0.0734</td>\n",
       "      <td>-0.1205</td>\n",
       "    </tr>\n",
       "    <tr>\n",
       "      <th>Omega</th>\n",
       "      <td>-0.2167</td>\n",
       "      <td>-0.2042</td>\n",
       "      <td>0.8140</td>\n",
       "      <td>-0.0660</td>\n",
       "      <td>0.0133</td>\n",
       "      <td>1.0000</td>\n",
       "      <td>-0.0133</td>\n",
       "      <td>0.2061</td>\n",
       "      <td>0.4025</td>\n",
       "      <td>0.3555</td>\n",
       "    </tr>\n",
       "    <tr>\n",
       "      <th>AverageOmegaFrequency</th>\n",
       "      <td>0.0231</td>\n",
       "      <td>0.0255</td>\n",
       "      <td>-0.0431</td>\n",
       "      <td>-0.1734</td>\n",
       "      <td>-1.0000</td>\n",
       "      <td>-0.0133</td>\n",
       "      <td>1.0000</td>\n",
       "      <td>0.1157</td>\n",
       "      <td>0.0734</td>\n",
       "      <td>0.1205</td>\n",
       "    </tr>\n",
       "    <tr>\n",
       "      <th>StdDevAlleleFrq</th>\n",
       "      <td>-0.4153</td>\n",
       "      <td>-0.3970</td>\n",
       "      <td>0.3166</td>\n",
       "      <td>0.1611</td>\n",
       "      <td>-0.1157</td>\n",
       "      <td>0.2061</td>\n",
       "      <td>0.1157</td>\n",
       "      <td>1.0000</td>\n",
       "      <td>0.0609</td>\n",
       "      <td>0.1721</td>\n",
       "    </tr>\n",
       "    <tr>\n",
       "      <th>AbsEffectDiff</th>\n",
       "      <td>-0.3668</td>\n",
       "      <td>-0.3736</td>\n",
       "      <td>0.1629</td>\n",
       "      <td>-0.1659</td>\n",
       "      <td>-0.0734</td>\n",
       "      <td>0.4025</td>\n",
       "      <td>0.0734</td>\n",
       "      <td>0.0609</td>\n",
       "      <td>1.0000</td>\n",
       "      <td>0.8555</td>\n",
       "    </tr>\n",
       "    <tr>\n",
       "      <th>FrequencyDetected</th>\n",
       "      <td>-0.4024</td>\n",
       "      <td>-0.4118</td>\n",
       "      <td>0.2084</td>\n",
       "      <td>-0.1704</td>\n",
       "      <td>-0.1205</td>\n",
       "      <td>0.3555</td>\n",
       "      <td>0.1205</td>\n",
       "      <td>0.1721</td>\n",
       "      <td>0.8555</td>\n",
       "      <td>1.0000</td>\n",
       "    </tr>\n",
       "  </tbody>\n",
       "</table>\n",
       "</div>"
      ],
      "text/plain": [
       "                          QTL  Chromosome   Alpha  AlphaEffect  \\\n",
       "QTL                    1.0000      0.9943 -0.1361      -0.0424   \n",
       "Chromosome             0.9943      1.0000 -0.1404      -0.0379   \n",
       "Alpha                 -0.1361     -0.1404  1.0000      -0.0399   \n",
       "AlphaEffect           -0.0424     -0.0379 -0.0399       1.0000   \n",
       "AverageAlphaFrequency -0.0231     -0.0255  0.0431       0.1734   \n",
       "Omega                 -0.2167     -0.2042  0.8140      -0.0660   \n",
       "AverageOmegaFrequency  0.0231      0.0255 -0.0431      -0.1734   \n",
       "StdDevAlleleFrq       -0.4153     -0.3970  0.3166       0.1611   \n",
       "AbsEffectDiff         -0.3668     -0.3736  0.1629      -0.1659   \n",
       "FrequencyDetected     -0.4024     -0.4118  0.2084      -0.1704   \n",
       "\n",
       "                       AverageAlphaFrequency   Omega  AverageOmegaFrequency  \\\n",
       "QTL                                  -0.0231 -0.2167                 0.0231   \n",
       "Chromosome                           -0.0255 -0.2042                 0.0255   \n",
       "Alpha                                 0.0431  0.8140                -0.0431   \n",
       "AlphaEffect                           0.1734 -0.0660                -0.1734   \n",
       "AverageAlphaFrequency                 1.0000  0.0133                -1.0000   \n",
       "Omega                                 0.0133  1.0000                -0.0133   \n",
       "AverageOmegaFrequency                -1.0000 -0.0133                 1.0000   \n",
       "StdDevAlleleFrq                      -0.1157  0.2061                 0.1157   \n",
       "AbsEffectDiff                        -0.0734  0.4025                 0.0734   \n",
       "FrequencyDetected                    -0.1205  0.3555                 0.1205   \n",
       "\n",
       "                       StdDevAlleleFrq  AbsEffectDiff  FrequencyDetected  \n",
       "QTL                            -0.4153        -0.3668            -0.4024  \n",
       "Chromosome                     -0.3970        -0.3736            -0.4118  \n",
       "Alpha                           0.3166         0.1629             0.2084  \n",
       "AlphaEffect                     0.1611        -0.1659            -0.1704  \n",
       "AverageAlphaFrequency          -0.1157        -0.0734            -0.1205  \n",
       "Omega                           0.2061         0.4025             0.3555  \n",
       "AverageOmegaFrequency           0.1157         0.0734             0.1205  \n",
       "StdDevAlleleFrq                 1.0000         0.0609             0.1721  \n",
       "AbsEffectDiff                   0.0609         1.0000             0.8555  \n",
       "FrequencyDetected               0.1721         0.8555             1.0000  "
      ]
     },
     "execution_count": 417,
     "metadata": {},
     "output_type": "execute_result"
    }
   ],
   "source": [
    "allele_data_table.corr()"
   ]
  },
  {
   "cell_type": "code",
   "execution_count": null,
   "metadata": {
    "collapsed": true
   },
   "outputs": [],
   "source": []
  },
  {
   "cell_type": "code",
   "execution_count": null,
   "metadata": {
    "collapsed": true
   },
   "outputs": [],
   "source": []
  },
  {
   "cell_type": "raw",
   "metadata": {},
   "source": [
    "np.savetxt('small_allele_effects.txt', \n",
    "           allele_effects[qtl], \n",
    "           delimiter='\\t', \n",
    "           header='locus\\talpha\\talpha_effect\\tomega\\tomega_effect', fmt='%.4f')"
   ]
  },
  {
   "cell_type": "code",
   "execution_count": 82,
   "metadata": {},
   "outputs": [],
   "source": [
    "detected_loci = results.ix[results.ix[:, 4] < 0.05].index"
   ]
  },
  {
   "cell_type": "code",
   "execution_count": 83,
   "metadata": {},
   "outputs": [
    {
     "data": {
      "text/plain": [
       "Int64Index([23, 158, 191, 310, 338, 539, 610, 1102], dtype='int64')"
      ]
     },
     "execution_count": 83,
     "metadata": {},
     "output_type": "execute_result"
    }
   ],
   "source": [
    "detected_loci"
   ]
  },
  {
   "cell_type": "code",
   "execution_count": 93,
   "metadata": {
    "collapsed": true
   },
   "outputs": [
    {
     "data": {
      "text/plain": [
       "array([[   23.   ,     4.   ,     1.114,     5.   ,     2.843],\n",
       "       [  158.   ,     1.   ,     0.047,     3.   ,     2.327],\n",
       "       [  191.   ,     0.   ,     1.948,     2.   ,     0.27 ],\n",
       "       [  310.   ,     1.   ,     1.442,     3.   ,     0.129],\n",
       "       [  338.   ,     4.   ,     0.419,     5.   ,     2.698],\n",
       "       [  539.   ,     0.   ,     0.003,     3.   ,     1.939],\n",
       "       [  610.   ,     0.   ,     0.037,     1.   ,     1.578],\n",
       "       [ 1102.   ,     0.   ,     1.559,     3.   ,     0.228]])"
      ]
     },
     "execution_count": 93,
     "metadata": {},
     "output_type": "execute_result"
    }
   ],
   "source": [
    "allele_effects[detected_loci]"
   ]
  },
  {
   "cell_type": "code",
   "execution_count": 94,
   "metadata": {
    "collapsed": true
   },
   "outputs": [
    {
     "data": {
      "text/plain": [
       "{23, 158, 191, 310, 338, 539, 610, 1102}"
      ]
     },
     "execution_count": 94,
     "metadata": {},
     "output_type": "execute_result"
    }
   ],
   "source": [
    "set(detected_loci).intersection(qtl)"
   ]
  },
  {
   "cell_type": "code",
   "execution_count": 85,
   "metadata": {
    "collapsed": true
   },
   "outputs": [
    {
     "data": {
      "text/plain": [
       "8"
      ]
     },
     "execution_count": 85,
     "metadata": {},
     "output_type": "execute_result"
    }
   ],
   "source": [
    "len(set(detected_loci).intersection(qtl))"
   ]
  },
  {
   "cell_type": "markdown",
   "metadata": {},
   "source": [
    "## Allele Effects: Estimated vs. Actual\n",
    "    Purpose of this table to compare TASSEL's effect size estimates\n",
    "    with the known true values we assigned."
   ]
  },
  {
   "cell_type": "code",
   "execution_count": null,
   "metadata": {
    "collapsed": true
   },
   "outputs": [],
   "source": [
    "gt = small.genotypic_effects_table(sample_library, ae_array,\n",
    "                          segregating_loci, qtl, hdf5_file=small_data)"
   ]
  },
  {
   "cell_type": "code",
   "execution_count": null,
   "metadata": {
    "collapsed": true
   },
   "outputs": [],
   "source": []
  },
  {
   "cell_type": "code",
   "execution_count": null,
   "metadata": {
    "collapsed": true
   },
   "outputs": [],
   "source": []
  },
  {
   "cell_type": "code",
   "execution_count": null,
   "metadata": {
    "collapsed": true
   },
   "outputs": [],
   "source": []
  },
  {
   "cell_type": "code",
   "execution_count": 141,
   "metadata": {
    "collapsed": true
   },
   "outputs": [],
   "source": [
    "from bokeh.plotting import figure, show, output_file\n",
    "from bokeh.io import output_notebook"
   ]
  },
  {
   "cell_type": "code",
   "execution_count": 142,
   "metadata": {},
   "outputs": [
    {
     "data": {
      "text/html": [
       "\n",
       "    <div class=\"bk-root\">\n",
       "        <a href=\"http://bokeh.pydata.org\" target=\"_blank\" class=\"bk-logo bk-logo-small bk-logo-notebook\"></a>\n",
       "        <span id=\"35fcb11f-6378-45c0-ab50-1c3d3aec48f0\">Loading BokehJS ...</span>\n",
       "    </div>"
      ]
     },
     "metadata": {},
     "output_type": "display_data"
    },
    {
     "data": {
      "application/javascript": [
       "\n",
       "(function(global) {\n",
       "  function now() {\n",
       "    return new Date();\n",
       "  }\n",
       "\n",
       "  var force = true;\n",
       "\n",
       "  if (typeof (window._bokeh_onload_callbacks) === \"undefined\" || force === true) {\n",
       "    window._bokeh_onload_callbacks = [];\n",
       "    window._bokeh_is_loading = undefined;\n",
       "  }\n",
       "\n",
       "\n",
       "  \n",
       "  if (typeof (window._bokeh_timeout) === \"undefined\" || force === true) {\n",
       "    window._bokeh_timeout = Date.now() + 5000;\n",
       "    window._bokeh_failed_load = false;\n",
       "  }\n",
       "\n",
       "  var NB_LOAD_WARNING = {'data': {'text/html':\n",
       "     \"<div style='background-color: #fdd'>\\n\"+\n",
       "     \"<p>\\n\"+\n",
       "     \"BokehJS does not appear to have successfully loaded. If loading BokehJS from CDN, this \\n\"+\n",
       "     \"may be due to a slow or bad network connection. Possible fixes:\\n\"+\n",
       "     \"</p>\\n\"+\n",
       "     \"<ul>\\n\"+\n",
       "     \"<li>re-rerun `output_notebook()` to attempt to load from CDN again, or</li>\\n\"+\n",
       "     \"<li>use INLINE resources instead, as so:</li>\\n\"+\n",
       "     \"</ul>\\n\"+\n",
       "     \"<code>\\n\"+\n",
       "     \"from bokeh.resources import INLINE\\n\"+\n",
       "     \"output_notebook(resources=INLINE)\\n\"+\n",
       "     \"</code>\\n\"+\n",
       "     \"</div>\"}};\n",
       "\n",
       "  function display_loaded() {\n",
       "    if (window.Bokeh !== undefined) {\n",
       "      var el = document.getElementById(\"35fcb11f-6378-45c0-ab50-1c3d3aec48f0\");\n",
       "      el.textContent = \"BokehJS \" + Bokeh.version + \" successfully loaded.\";\n",
       "    } else if (Date.now() < window._bokeh_timeout) {\n",
       "      setTimeout(display_loaded, 100)\n",
       "    }\n",
       "  }\n",
       "\n",
       "  function run_callbacks() {\n",
       "    window._bokeh_onload_callbacks.forEach(function(callback) { callback() });\n",
       "    delete window._bokeh_onload_callbacks\n",
       "    console.info(\"Bokeh: all callbacks have finished\");\n",
       "  }\n",
       "\n",
       "  function load_libs(js_urls, callback) {\n",
       "    window._bokeh_onload_callbacks.push(callback);\n",
       "    if (window._bokeh_is_loading > 0) {\n",
       "      console.log(\"Bokeh: BokehJS is being loaded, scheduling callback at\", now());\n",
       "      return null;\n",
       "    }\n",
       "    if (js_urls == null || js_urls.length === 0) {\n",
       "      run_callbacks();\n",
       "      return null;\n",
       "    }\n",
       "    console.log(\"Bokeh: BokehJS not loaded, scheduling load and callback at\", now());\n",
       "    window._bokeh_is_loading = js_urls.length;\n",
       "    for (var i = 0; i < js_urls.length; i++) {\n",
       "      var url = js_urls[i];\n",
       "      var s = document.createElement('script');\n",
       "      s.src = url;\n",
       "      s.async = false;\n",
       "      s.onreadystatechange = s.onload = function() {\n",
       "        window._bokeh_is_loading--;\n",
       "        if (window._bokeh_is_loading === 0) {\n",
       "          console.log(\"Bokeh: all BokehJS libraries loaded\");\n",
       "          run_callbacks()\n",
       "        }\n",
       "      };\n",
       "      s.onerror = function() {\n",
       "        console.warn(\"failed to load library \" + url);\n",
       "      };\n",
       "      console.log(\"Bokeh: injecting script tag for BokehJS library: \", url);\n",
       "      document.getElementsByTagName(\"head\")[0].appendChild(s);\n",
       "    }\n",
       "  };var element = document.getElementById(\"35fcb11f-6378-45c0-ab50-1c3d3aec48f0\");\n",
       "  if (element == null) {\n",
       "    console.log(\"Bokeh: ERROR: autoload.js configured with elementid '35fcb11f-6378-45c0-ab50-1c3d3aec48f0' but no matching script tag was found. \")\n",
       "    return false;\n",
       "  }\n",
       "\n",
       "  var js_urls = [\"https://cdn.pydata.org/bokeh/release/bokeh-0.12.5.min.js\", \"https://cdn.pydata.org/bokeh/release/bokeh-widgets-0.12.5.min.js\"];\n",
       "\n",
       "  var inline_js = [\n",
       "    function(Bokeh) {\n",
       "      Bokeh.set_log_level(\"info\");\n",
       "    },\n",
       "    \n",
       "    function(Bokeh) {\n",
       "      \n",
       "    },\n",
       "    \n",
       "    function(Bokeh) {\n",
       "      \n",
       "      document.getElementById(\"35fcb11f-6378-45c0-ab50-1c3d3aec48f0\").textContent = \"BokehJS is loading...\";\n",
       "    },\n",
       "    function(Bokeh) {\n",
       "      console.log(\"Bokeh: injecting CSS: https://cdn.pydata.org/bokeh/release/bokeh-0.12.5.min.css\");\n",
       "      Bokeh.embed.inject_css(\"https://cdn.pydata.org/bokeh/release/bokeh-0.12.5.min.css\");\n",
       "      console.log(\"Bokeh: injecting CSS: https://cdn.pydata.org/bokeh/release/bokeh-widgets-0.12.5.min.css\");\n",
       "      Bokeh.embed.inject_css(\"https://cdn.pydata.org/bokeh/release/bokeh-widgets-0.12.5.min.css\");\n",
       "    }\n",
       "  ];\n",
       "\n",
       "  function run_inline_js() {\n",
       "    \n",
       "    if ((window.Bokeh !== undefined) || (force === true)) {\n",
       "      for (var i = 0; i < inline_js.length; i++) {\n",
       "        inline_js[i](window.Bokeh);\n",
       "      }if (force === true) {\n",
       "        display_loaded();\n",
       "      }} else if (Date.now() < window._bokeh_timeout) {\n",
       "      setTimeout(run_inline_js, 100);\n",
       "    } else if (!window._bokeh_failed_load) {\n",
       "      console.log(\"Bokeh: BokehJS failed to load within specified timeout.\");\n",
       "      window._bokeh_failed_load = true;\n",
       "    } else if (force !== true) {\n",
       "      var cell = $(document.getElementById(\"35fcb11f-6378-45c0-ab50-1c3d3aec48f0\")).parents('.cell').data().cell;\n",
       "      cell.output_area.append_execute_result(NB_LOAD_WARNING)\n",
       "    }\n",
       "\n",
       "  }\n",
       "\n",
       "  if (window._bokeh_is_loading === 0) {\n",
       "    console.log(\"Bokeh: BokehJS loaded, going straight to plotting\");\n",
       "    run_inline_js();\n",
       "  } else {\n",
       "    load_libs(js_urls, function() {\n",
       "      console.log(\"Bokeh: BokehJS plotting callback run at\", now());\n",
       "      run_inline_js();\n",
       "    });\n",
       "  }\n",
       "}(this));"
      ]
     },
     "metadata": {},
     "output_type": "display_data"
    }
   ],
   "source": [
    "output_notebook()"
   ]
  },
  {
   "cell_type": "code",
   "execution_count": 144,
   "metadata": {},
   "outputs": [],
   "source": [
    "from bokeh.io import show, output_file\n",
    "from bokeh.models import ColumnDataSource\n",
    "from bokeh.palettes import Spectral6\n",
    "from bokeh.plotting import figure"
   ]
  },
  {
   "cell_type": "code",
   "execution_count": 161,
   "metadata": {},
   "outputs": [
    {
     "data": {
      "text/plain": [
       "['23', '95', '158', '191', '310', '338', '539', '610', '888', '1102']"
      ]
     },
     "execution_count": 161,
     "metadata": {},
     "output_type": "execute_result"
    }
   ],
   "source": [
    "list(map(str, sorted(list(map(int, count_of_loci.keys())))))"
   ]
  },
  {
   "cell_type": "code",
   "execution_count": 164,
   "metadata": {},
   "outputs": [],
   "source": [
    "ordered_loci = sorted(list(map(int, count_of_loci.keys())))"
   ]
  },
  {
   "cell_type": "code",
   "execution_count": 177,
   "metadata": {
    "collapsed": true
   },
   "outputs": [],
   "source": [
    "counts = [count_of_loci[locus] for locus in ordered_loci]"
   ]
  },
  {
   "cell_type": "code",
   "execution_count": 178,
   "metadata": {},
   "outputs": [
    {
     "data": {
      "text/plain": [
       "[7, 1, 8, 8, 3, 8, 8, 5, 2, 4]"
      ]
     },
     "execution_count": 178,
     "metadata": {},
     "output_type": "execute_result"
    }
   ],
   "source": [
    "counts"
   ]
  },
  {
   "cell_type": "code",
   "execution_count": 179,
   "metadata": {},
   "outputs": [
    {
     "data": {
      "text/plain": [
       "Counter({23: 7,\n",
       "         95: 1,\n",
       "         158: 8,\n",
       "         191: 8,\n",
       "         310: 3,\n",
       "         338: 8,\n",
       "         539: 8,\n",
       "         610: 5,\n",
       "         888: 2,\n",
       "         1102: 4})"
      ]
     },
     "execution_count": 179,
     "metadata": {},
     "output_type": "execute_result"
    }
   ],
   "source": [
    "count_of_loci"
   ]
  },
  {
   "cell_type": "code",
   "execution_count": 180,
   "metadata": {
    "collapsed": true
   },
   "outputs": [],
   "source": [
    "loci = list(map(str, sorted(list(map(int, count_of_loci.keys())))))"
   ]
  },
  {
   "cell_type": "code",
   "execution_count": 181,
   "metadata": {},
   "outputs": [
    {
     "data": {
      "text/plain": [
       "{'counts': [7, 1, 8, 8, 3, 8, 8, 5, 2, 4],\n",
       " 'loci': ['23', '95', '158', '191', '310', '338', '539', '610', '888', '1102']}"
      ]
     },
     "execution_count": 181,
     "metadata": {},
     "output_type": "execute_result"
    }
   ],
   "source": [
    "dict(loci=loci, counts=counts)"
   ]
  },
  {
   "cell_type": "code",
   "execution_count": null,
   "metadata": {
    "collapsed": true
   },
   "outputs": [],
   "source": [
    "dic"
   ]
  },
  {
   "cell_type": "code",
   "execution_count": 182,
   "metadata": {
    "collapsed": true
   },
   "outputs": [],
   "source": [
    "source = ColumnDataSource(data=dict(loci=loci, counts=counts))"
   ]
  },
  {
   "cell_type": "code",
   "execution_count": 216,
   "metadata": {
    "collapsed": true
   },
   "outputs": [],
   "source": [
    "p = figure(x_range=loci, plot_height=350, toolbar_location=None, title=\"Loci Counts\")"
   ]
  },
  {
   "cell_type": "code",
   "execution_count": 217,
   "metadata": {},
   "outputs": [
    {
     "data": {
      "text/html": [
       "<div style=\"display: table;\"><div style=\"display: table-row;\"><div style=\"display: table-cell;\"><b title=\"bokeh.models.renderers.GlyphRenderer\">GlyphRenderer</b>(</div><div style=\"display: table-cell;\">id&nbsp;=&nbsp;'5f5d88e7-6a5b-4ece-a681-b4d602fcfd90', <span id=\"2b55778e-fb69-43b0-b380-9225b11f1da8\" style=\"cursor: pointer;\">&hellip;)</span></div></div><div class=\"edcf7964-e08e-4326-9d6e-4d12a75c341d\" style=\"display: none;\"><div style=\"display: table-cell;\"></div><div style=\"display: table-cell;\">data_source&nbsp;=&nbsp;ColumnDataSource(id='07df0f3b-8e96-42e4-a9b4-82dbe4bb4a83', ...),</div></div><div class=\"edcf7964-e08e-4326-9d6e-4d12a75c341d\" style=\"display: none;\"><div style=\"display: table-cell;\"></div><div style=\"display: table-cell;\">glyph&nbsp;=&nbsp;VBar(id='bbaa62c9-3be1-44c4-b403-32f635c729e4', ...),</div></div><div class=\"edcf7964-e08e-4326-9d6e-4d12a75c341d\" style=\"display: none;\"><div style=\"display: table-cell;\"></div><div style=\"display: table-cell;\">hover_glyph&nbsp;=&nbsp;None,</div></div><div class=\"edcf7964-e08e-4326-9d6e-4d12a75c341d\" style=\"display: none;\"><div style=\"display: table-cell;\"></div><div style=\"display: table-cell;\">js_event_callbacks&nbsp;=&nbsp;{},</div></div><div class=\"edcf7964-e08e-4326-9d6e-4d12a75c341d\" style=\"display: none;\"><div style=\"display: table-cell;\"></div><div style=\"display: table-cell;\">js_property_callbacks&nbsp;=&nbsp;{},</div></div><div class=\"edcf7964-e08e-4326-9d6e-4d12a75c341d\" style=\"display: none;\"><div style=\"display: table-cell;\"></div><div style=\"display: table-cell;\">level&nbsp;=&nbsp;'glyph',</div></div><div class=\"edcf7964-e08e-4326-9d6e-4d12a75c341d\" style=\"display: none;\"><div style=\"display: table-cell;\"></div><div style=\"display: table-cell;\">muted&nbsp;=&nbsp;False,</div></div><div class=\"edcf7964-e08e-4326-9d6e-4d12a75c341d\" style=\"display: none;\"><div style=\"display: table-cell;\"></div><div style=\"display: table-cell;\">muted_glyph&nbsp;=&nbsp;None,</div></div><div class=\"edcf7964-e08e-4326-9d6e-4d12a75c341d\" style=\"display: none;\"><div style=\"display: table-cell;\"></div><div style=\"display: table-cell;\">name&nbsp;=&nbsp;None,</div></div><div class=\"edcf7964-e08e-4326-9d6e-4d12a75c341d\" style=\"display: none;\"><div style=\"display: table-cell;\"></div><div style=\"display: table-cell;\">nonselection_glyph&nbsp;=&nbsp;VBar(id='d6a655f7-b6c5-4430-bdda-2eac93ec7d1b', ...),</div></div><div class=\"edcf7964-e08e-4326-9d6e-4d12a75c341d\" style=\"display: none;\"><div style=\"display: table-cell;\"></div><div style=\"display: table-cell;\">selection_glyph&nbsp;=&nbsp;None,</div></div><div class=\"edcf7964-e08e-4326-9d6e-4d12a75c341d\" style=\"display: none;\"><div style=\"display: table-cell;\"></div><div style=\"display: table-cell;\">subscribed_events&nbsp;=&nbsp;[],</div></div><div class=\"edcf7964-e08e-4326-9d6e-4d12a75c341d\" style=\"display: none;\"><div style=\"display: table-cell;\"></div><div style=\"display: table-cell;\">tags&nbsp;=&nbsp;[],</div></div><div class=\"edcf7964-e08e-4326-9d6e-4d12a75c341d\" style=\"display: none;\"><div style=\"display: table-cell;\"></div><div style=\"display: table-cell;\">visible&nbsp;=&nbsp;True,</div></div><div class=\"edcf7964-e08e-4326-9d6e-4d12a75c341d\" style=\"display: none;\"><div style=\"display: table-cell;\"></div><div style=\"display: table-cell;\">x_range_name&nbsp;=&nbsp;'default',</div></div><div class=\"edcf7964-e08e-4326-9d6e-4d12a75c341d\" style=\"display: none;\"><div style=\"display: table-cell;\"></div><div style=\"display: table-cell;\">y_range_name&nbsp;=&nbsp;'default')</div></div></div>\n",
       "<script>\n",
       "(function() {\n",
       "  var expanded = false;\n",
       "  var ellipsis = document.getElementById(\"2b55778e-fb69-43b0-b380-9225b11f1da8\");\n",
       "  ellipsis.addEventListener(\"click\", function() {\n",
       "    var rows = document.getElementsByClassName(\"edcf7964-e08e-4326-9d6e-4d12a75c341d\");\n",
       "    for (var i = 0; i < rows.length; i++) {\n",
       "      var el = rows[i];\n",
       "      el.style.display = expanded ? \"none\" : \"table-row\";\n",
       "    }\n",
       "    ellipsis.innerHTML = expanded ? \"&hellip;)\" : \"&lsaquo;&lsaquo;&lsaquo;\";\n",
       "    expanded = !expanded;\n",
       "  });\n",
       "})();\n",
       "</script>\n"
      ],
      "text/plain": [
       "GlyphRenderer(id='5f5d88e7-6a5b-4ece-a681-b4d602fcfd90', ...)"
      ]
     },
     "execution_count": 217,
     "metadata": {},
     "output_type": "execute_result"
    }
   ],
   "source": [
    "p.vbar(x='loci', top='counts', width=0.9, source=source,\n",
    "       line_color='white')"
   ]
  },
  {
   "cell_type": "code",
   "execution_count": 218,
   "metadata": {
    "collapsed": true
   },
   "outputs": [],
   "source": [
    "p.xgrid.grid_line_color = None"
   ]
  },
  {
   "cell_type": "code",
   "execution_count": 221,
   "metadata": {
    "collapsed": true
   },
   "outputs": [],
   "source": [
    "p.xaxis.axis_label = \"Loci\"\n",
    "p.yaxis.axis_label = \"Counts\""
   ]
  },
  {
   "cell_type": "code",
   "execution_count": 219,
   "metadata": {
    "collapsed": true
   },
   "outputs": [],
   "source": [
    "p.y_range.start = 0\n",
    "p.y_range.end = 9"
   ]
  },
  {
   "cell_type": "raw",
   "metadata": {},
   "source": [
    "p.legend.orientation = \"horizontal\"\n",
    "p.legend.location = \"top_center\""
   ]
  },
  {
   "cell_type": "code",
   "execution_count": null,
   "metadata": {
    "collapsed": true
   },
   "outputs": [],
   "source": []
  },
  {
   "cell_type": "raw",
   "metadata": {
    "collapsed": true
   },
   "source": [
    "aggregate_estimated_actual"
   ]
  },
  {
   "cell_type": "raw",
   "metadata": {
    "collapsed": true
   },
   "source": [
    "geo_x = aggregate_estimated_actual['estimated']\n",
    "geo_y = aggregate_estimated_actual['actual']"
   ]
  },
  {
   "cell_type": "raw",
   "metadata": {
    "collapsed": true
   },
   "source": [
    "p = figure(title=\"Estimated vs Actual Allele Effects - Geometric Series\", \n",
    "           title_text_font_size=\"16\",\n",
    "          x_range=(-0.2, 4))"
   ]
  },
  {
   "cell_type": "raw",
   "metadata": {
    "collapsed": true
   },
   "source": [
    "popstr_plot.scatter(geo_x, y, x=\"Estimated\", y=\"Actual\")\n",
    "\n",
    "p.xaxis.axis_label = \"Estimated\"\n",
    "p.yaxis.axis_label = \"Actual\""
   ]
  },
  {
   "cell_type": "raw",
   "metadata": {
    "collapsed": true
   },
   "source": [
    "show(p)"
   ]
  },
  {
   "cell_type": "raw",
   "metadata": {
    "collapsed": true
   },
   "source": [
    "expo"
   ]
  },
  {
   "cell_type": "raw",
   "metadata": {
    "collapsed": true
   },
   "source": [
    "p = figure(title=\"Estimated vs Actual Allele Effects - Geometric Series\", title_text_font_size=\"16\")"
   ]
  },
  {
   "cell_type": "raw",
   "metadata": {
    "collapsed": true
   },
   "source": [
    "expo_plot = figure(title=\"Estimated vs Actual Effects - Exponential(lambda=1)\", \n",
    "                   title_text_font_size=\"16\", \n",
    "                  x_range=(0, 4))\n",
    "\n",
    "x = np.array(expo_estimated_actual['estimated'])\n",
    "y = np.array(expo_estimated_actual['actual'])\n",
    "\n",
    "expo_plot.xaxis.axis_label = \"Estimated\"\n",
    "expo_plot.yaxis.axis_label = \"Actual\""
   ]
  },
  {
   "cell_type": "raw",
   "metadata": {
    "collapsed": true
   },
   "source": [
    "expo_plot.scatter(x, y)"
   ]
  },
  {
   "cell_type": "raw",
   "metadata": {
    "collapsed": true
   },
   "source": [
    "show(expo_plot)"
   ]
  },
  {
   "cell_type": "raw",
   "metadata": {
    "collapsed": true
   },
   "source": [
    "from bokeh.io import hplot"
   ]
  },
  {
   "cell_type": "raw",
   "metadata": {
    "collapsed": true
   },
   "source": [
    "geo_plot = figure(title=\"Estimated vs Actual Allele Effects - Geometric Series\", \n",
    "           title_text_font_size=\"16\",\n",
    "          x_range=(0, 4), y_range=(0, 4))"
   ]
  },
  {
   "cell_type": "raw",
   "metadata": {
    "collapsed": true
   },
   "source": [
    "geo_x = aggregate_estimated_actual['actual']\n",
    "geo_y = aggregate_estimated_actual['estimated']"
   ]
  },
  {
   "cell_type": "raw",
   "metadata": {
    "collapsed": true
   },
   "source": [
    "geo_plot.xaxis.axis_label = \"Actual\"\n",
    "geo_plot.yaxis.axis_label = \"Estimated\"\n",
    "geo_plot.scatter(geo_x, geo_y, x=\"Actual\", y=\"Estimated\")"
   ]
  },
  {
   "cell_type": "raw",
   "metadata": {
    "collapsed": true
   },
   "source": [
    "expo_plot = figure(title=\"Estimated vs Actual Effects - Exponential(lambda=1)\", \n",
    "                   title_text_font_size=\"16\", \n",
    "                  x_range=(0, 4), y_range=(0, 4))\n",
    "\n",
    "expo_x = np.array(expo_estimated_actual['actual'])\n",
    "expo_y = np.array(expo_estimated_actual['estimated'])\n",
    "\n",
    "expo_plot.xaxis.axis_label = \"Actual\"\n",
    "expo_plot.yaxis.axis_label = \"Estimated\"\n",
    "expo_plot.scatter(expo_x, expo_y)"
   ]
  },
  {
   "cell_type": "raw",
   "metadata": {
    "collapsed": true
   },
   "source": [
    "multi_plot = hplot(geo_plot, expo_plot)\n",
    "show(multi_plot)"
   ]
  },
  {
   "cell_type": "raw",
   "metadata": {
    "collapsed": true
   },
   "source": [
    "output_file(\"multi_plot.png\")"
   ]
  },
  {
   "cell_type": "code",
   "execution_count": null,
   "metadata": {
    "collapsed": true
   },
   "outputs": [],
   "source": []
  }
 ],
 "metadata": {
  "kernelspec": {
   "display_name": "Python 3",
   "language": "python",
   "name": "python3"
  },
  "language_info": {
   "codemirror_mode": {
    "name": "ipython",
    "version": 3
   },
   "file_extension": ".py",
   "mimetype": "text/x-python",
   "name": "python",
   "nbconvert_exporter": "python",
   "pygments_lexer": "ipython3",
   "version": "3.6.1"
  }
 },
 "nbformat": 4,
 "nbformat_minor": 1
}
