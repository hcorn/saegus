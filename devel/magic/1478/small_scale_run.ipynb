{
 "cells": [
  {
   "cell_type": "markdown",
   "metadata": {},
   "source": [
    "# Small"
   ]
  },
  {
   "cell_type": "code",
   "execution_count": 1,
   "metadata": {
    "collapsed": true
   },
   "outputs": [],
   "source": [
    "import simuOpt\n",
    "simuOpt.setOptions(alleleType='short', numThreads=4, quiet=True)\n",
    "import simuPOP as sim\n",
    "import pandas as pd\n",
    "from saegus import breed, operators, simulate, analyze, parse, parameters\n",
    "import shelve\n",
    "import numpy as np\n",
    "import random\n",
    "import h5py\n",
    "import collections as col\n",
    "np.set_printoptions(suppress=True, precision=3)"
   ]
  },
  {
   "cell_type": "code",
   "execution_count": 2,
   "metadata": {
    "collapsed": true
   },
   "outputs": [],
   "source": [
    "small = analyze.Study('small')"
   ]
  },
  {
   "cell_type": "code",
   "execution_count": 3,
   "metadata": {
    "collapsed": true
   },
   "outputs": [],
   "source": [
    "run_id = 'small'\n",
    "generations_of_random_mating = 10\n",
    "number_of_qtl = 20\n",
    "number_of_replicates = 10\n",
    "founders = [[2, 26], [3, 25], [4, 24], [5, 23]]\n",
    "os_per_pair = 500\n",
    "recombination_rates = [0.01]*1478"
   ]
  },
  {
   "cell_type": "code",
   "execution_count": 4,
   "metadata": {
    "collapsed": true
   },
   "outputs": [],
   "source": [
    "prefounders = sim.loadPopulation('bia_prefounders.pop')"
   ]
  },
  {
   "cell_type": "code",
   "execution_count": 5,
   "metadata": {},
   "outputs": [
    {
     "data": {
      "text/plain": [
       "('ind_id',\n",
       " 'father_id',\n",
       " 'mother_id',\n",
       " 'fitness',\n",
       " 'p',\n",
       " 'g',\n",
       " 'generation',\n",
       " 'replicate')"
      ]
     },
     "execution_count": 5,
     "metadata": {},
     "output_type": "execute_result"
    }
   ],
   "source": [
    "prefounders.infoFields()"
   ]
  },
  {
   "cell_type": "code",
   "execution_count": 6,
   "metadata": {
    "collapsed": true
   },
   "outputs": [],
   "source": [
    "sim.tagID(prefounders, reset=True)"
   ]
  },
  {
   "cell_type": "code",
   "execution_count": 7,
   "metadata": {},
   "outputs": [
    {
     "data": {
      "text/plain": [
       "26"
      ]
     },
     "execution_count": 7,
     "metadata": {},
     "output_type": "execute_result"
    }
   ],
   "source": [
    "prefounders.popSize()"
   ]
  },
  {
   "cell_type": "code",
   "execution_count": 8,
   "metadata": {
    "collapsed": true
   },
   "outputs": [],
   "source": [
    "multi_prefounders = sim.Simulator(prefounders, 10, stealPops=False)"
   ]
  },
  {
   "cell_type": "code",
   "execution_count": 9,
   "metadata": {
    "collapsed": true
   },
   "outputs": [],
   "source": [
    "magic = breed.MAGIC(multi_prefounders, founders, recombination_rates)"
   ]
  },
  {
   "cell_type": "code",
   "execution_count": 10,
   "metadata": {
    "collapsed": true
   },
   "outputs": [],
   "source": [
    "magic.generate_f_one(founders, os_per_pair)"
   ]
  },
  {
   "cell_type": "code",
   "execution_count": 11,
   "metadata": {
    "collapsed": true
   },
   "outputs": [],
   "source": [
    "mrc = breed.MultiRandomCross(multi_prefounders, 4, 500)"
   ]
  },
  {
   "cell_type": "code",
   "execution_count": 12,
   "metadata": {
    "collapsed": true
   },
   "outputs": [],
   "source": [
    "mother_choices, father_choices = mrc.determine_random_cross()"
   ]
  },
  {
   "cell_type": "code",
   "execution_count": 13,
   "metadata": {
    "collapsed": true
   },
   "outputs": [],
   "source": [
    "multi_snd_ord_chooser = breed.MultiSecondOrderPairIDChooser(\n",
    "    mother_choices, father_choices)"
   ]
  },
  {
   "cell_type": "code",
   "execution_count": 14,
   "metadata": {},
   "outputs": [
    {
     "data": {
      "text/plain": [
       "(1, 1, 1, 1, 1, 1, 1, 1, 1, 1)"
      ]
     },
     "execution_count": 14,
     "metadata": {},
     "output_type": "execute_result"
    }
   ],
   "source": [
    "multi_prefounders.evolve(\n",
    "    matingScheme=sim.HomoMating(\n",
    "        sim.PyParentsChooser(multi_snd_ord_chooser.snd_ord_id_pairs),\n",
    "        sim.OffspringGenerator(ops=[\n",
    "            sim.IdTagger(),\n",
    "            sim.PedigreeTagger(),\n",
    "            sim.Recombinator(rates=0.01)\n",
    "        ],\n",
    "            numOffspring=1),\n",
    "        subPopSize=[2000],\n",
    "    ),\n",
    "    gen=1,\n",
    ")"
   ]
  },
  {
   "cell_type": "code",
   "execution_count": 15,
   "metadata": {
    "collapsed": true
   },
   "outputs": [],
   "source": [
    "final_mrc = breed.MultiRandomCross(multi_prefounders, 2, 1000)"
   ]
  },
  {
   "cell_type": "code",
   "execution_count": 16,
   "metadata": {
    "collapsed": true
   },
   "outputs": [],
   "source": [
    "final_mothers, final_fathers = final_mrc.determine_random_cross()"
   ]
  },
  {
   "cell_type": "code",
   "execution_count": 17,
   "metadata": {
    "collapsed": true
   },
   "outputs": [],
   "source": [
    "final_multi_snd_ord_chooser = breed.MultiSecondOrderPairIDChooser(\n",
    "    final_mothers, final_fathers)"
   ]
  },
  {
   "cell_type": "code",
   "execution_count": 18,
   "metadata": {},
   "outputs": [
    {
     "data": {
      "text/plain": [
       "(1, 1, 1, 1, 1, 1, 1, 1, 1, 1)"
      ]
     },
     "execution_count": 18,
     "metadata": {},
     "output_type": "execute_result"
    }
   ],
   "source": [
    "multi_prefounders.evolve(\n",
    "    matingScheme=sim.HomoMating(\n",
    "        sim.PyParentsChooser(final_multi_snd_ord_chooser.snd_ord_id_pairs),\n",
    "        sim.OffspringGenerator(ops=[\n",
    "            sim.IdTagger(),\n",
    "            sim.PedigreeTagger(),\n",
    "            sim.Recombinator(rates=0.01)\n",
    "        ],\n",
    "            numOffspring=1),\n",
    "        subPopSize=[2000],\n",
    "    ),\n",
    "    gen=1,\n",
    ")"
   ]
  },
  {
   "cell_type": "markdown",
   "metadata": {},
   "source": [
    "# Random Mating Phase"
   ]
  },
  {
   "cell_type": "code",
   "execution_count": 19,
   "metadata": {},
   "outputs": [
    {
     "data": {
      "text/plain": [
       "(10, 10, 10, 10, 10, 10, 10, 10, 10, 10)"
      ]
     },
     "execution_count": 19,
     "metadata": {},
     "output_type": "execute_result"
    }
   ],
   "source": [
    "multi_prefounders.evolve(\n",
    "    matingScheme=sim.RandomMating(ops=[\n",
    "            sim.IdTagger(),\n",
    "            sim.PedigreeTagger(),\n",
    "            sim.Recombinator(rates=0.01)\n",
    "        ],\n",
    "        subPopSize=[2000]),\n",
    "    gen=10,\n",
    ")"
   ]
  },
  {
   "cell_type": "code",
   "execution_count": 20,
   "metadata": {
    "collapsed": true
   },
   "outputs": [],
   "source": [
    "sample_size = 200"
   ]
  },
  {
   "cell_type": "code",
   "execution_count": 21,
   "metadata": {
    "collapsed": true
   },
   "outputs": [],
   "source": [
    "sample_library = small.collect_samples(multi_prefounders, [200])"
   ]
  },
  {
   "cell_type": "code",
   "execution_count": 22,
   "metadata": {},
   "outputs": [
    {
     "data": {
      "text/plain": [
       "{0: [<simuPOP.Population>],\n",
       " 1: [<simuPOP.Population>],\n",
       " 2: [<simuPOP.Population>],\n",
       " 3: [<simuPOP.Population>],\n",
       " 4: [<simuPOP.Population>],\n",
       " 5: [<simuPOP.Population>],\n",
       " 6: [<simuPOP.Population>],\n",
       " 7: [<simuPOP.Population>],\n",
       " 8: [<simuPOP.Population>],\n",
       " 9: [<simuPOP.Population>]}"
      ]
     },
     "execution_count": 22,
     "metadata": {},
     "output_type": "execute_result"
    }
   ],
   "source": [
    "sample_library"
   ]
  },
  {
   "cell_type": "code",
   "execution_count": 23,
   "metadata": {
    "collapsed": true
   },
   "outputs": [],
   "source": [
    "for rep_id, sample_list in sample_library.items():\n",
    "    sim.stat(sample_list[0], numOfSegSites=sim.ALL_AVAIL, vars=['numOfSegSites', 'segSites'])\n",
    "    sim.stat(sample_list[0], alleleFreq=sim.ALL_AVAIL)"
   ]
  },
  {
   "cell_type": "code",
   "execution_count": 24,
   "metadata": {
    "collapsed": true
   },
   "outputs": [],
   "source": [
    "sample = sample_library[0][0]"
   ]
  },
  {
   "cell_type": "code",
   "execution_count": 25,
   "metadata": {
    "collapsed": true
   },
   "outputs": [],
   "source": [
    "astates = small.gather_allele_data(sample)"
   ]
  },
  {
   "cell_type": "raw",
   "metadata": {},
   "source": [
    "print(astates)"
   ]
  },
  {
   "cell_type": "code",
   "execution_count": 26,
   "metadata": {
    "collapsed": true
   },
   "outputs": [],
   "source": [
    "alleles = np.array([astates[:, 1], astates[:, 2]]).T"
   ]
  },
  {
   "cell_type": "raw",
   "metadata": {},
   "source": [
    "print(alleles)"
   ]
  },
  {
   "cell_type": "code",
   "execution_count": 27,
   "metadata": {
    "collapsed": true
   },
   "outputs": [],
   "source": [
    "af = small.gather_allele_frequencies(sample, astates)"
   ]
  },
  {
   "cell_type": "raw",
   "metadata": {},
   "source": [
    "print(af)"
   ]
  },
  {
   "cell_type": "code",
   "execution_count": 28,
   "metadata": {
    "collapsed": true
   },
   "outputs": [],
   "source": [
    "segregating_loci = np.array(sample.dvars().segSites)"
   ]
  },
  {
   "cell_type": "code",
   "execution_count": 29,
   "metadata": {
    "collapsed": true
   },
   "outputs": [],
   "source": [
    "trait = parameters.Trait()"
   ]
  },
  {
   "cell_type": "code",
   "execution_count": 30,
   "metadata": {
    "collapsed": true
   },
   "outputs": [],
   "source": [
    "qtl = sorted(list(random.sample(list(segregating_loci), 20)))"
   ]
  },
  {
   "cell_type": "code",
   "execution_count": 31,
   "metadata": {
    "collapsed": true
   },
   "outputs": [],
   "source": [
    "allele_effects = trait.construct_allele_effects_table(alleles, qtl, random.expovariate, 1)"
   ]
  },
  {
   "cell_type": "raw",
   "metadata": {},
   "source": [
    "print(allele_effects)"
   ]
  },
  {
   "cell_type": "raw",
   "metadata": {},
   "source": [
    "print(allele_effects[qtl])"
   ]
  },
  {
   "cell_type": "code",
   "execution_count": 32,
   "metadata": {
    "collapsed": true
   },
   "outputs": [],
   "source": [
    "ae_array = trait.construct_ae_array(allele_effects, qtl)"
   ]
  },
  {
   "cell_type": "raw",
   "metadata": {},
   "source": [
    "ae_array[qtl]"
   ]
  },
  {
   "cell_type": "code",
   "execution_count": 33,
   "metadata": {
    "collapsed": true
   },
   "outputs": [],
   "source": [
    "operators.calculate_g(sample, ae_array)"
   ]
  },
  {
   "cell_type": "code",
   "execution_count": 34,
   "metadata": {
    "collapsed": true
   },
   "outputs": [],
   "source": [
    "operators.calculate_error_variance(sample, 0.7)"
   ]
  },
  {
   "cell_type": "code",
   "execution_count": 35,
   "metadata": {
    "collapsed": true
   },
   "outputs": [],
   "source": [
    "operators.calculate_p(sample)"
   ]
  },
  {
   "cell_type": "raw",
   "metadata": {
    "collapsed": true
   },
   "source": [
    "genofx = np.array([sample.indInfo('ind_id'), sample.indInfo('g')]).T"
   ]
  },
  {
   "cell_type": "raw",
   "metadata": {},
   "source": [
    "print(genofx)"
   ]
  },
  {
   "cell_type": "raw",
   "metadata": {
    "collapsed": true
   },
   "source": [
    "phenofx = np.array([sample.indInfo('ind_id'), sample.indInfo('p')]).T"
   ]
  },
  {
   "cell_type": "raw",
   "metadata": {},
   "source": [
    "print(phenofx)"
   ]
  },
  {
   "cell_type": "raw",
   "metadata": {
    "collapsed": true
   },
   "source": [
    "errorv = sample.dvars().epsilon"
   ]
  },
  {
   "cell_type": "raw",
   "metadata": {},
   "source": [
    "errorv"
   ]
  },
  {
   "cell_type": "markdown",
   "metadata": {},
   "source": [
    "# Storing Data"
   ]
  },
  {
   "cell_type": "code",
   "execution_count": 36,
   "metadata": {
    "collapsed": true
   },
   "outputs": [],
   "source": [
    "small_data = h5py.File('small_data.hdf5')"
   ]
  },
  {
   "cell_type": "code",
   "execution_count": 37,
   "metadata": {},
   "outputs": [],
   "source": [
    "small_data['allele/states'] = astates\n",
    "small_data['segregating_loci'] = segregating_loci\n",
    "small_data['qtl'] = np.array(qtl)\n",
    "small_data['allele/effects'] = allele_effects"
   ]
  },
  {
   "cell_type": "code",
   "execution_count": 38,
   "metadata": {
    "collapsed": true
   },
   "outputs": [],
   "source": [
    "for rep, sample_list in sample_library.items():\n",
    "    small_data['allele/frequency/replicate/' + str(rep)] = small.gather_allele_frequencies(sample_list[0], astates)\n",
    "    operators.calculate_g(sample_list[0], ae_array)\n",
    "    operators.calculate_error_variance(sample_list[0], 0.7)\n",
    "    operators.calculate_p(sample_list[0])\n",
    "    small_data['trait/g/replicate/' + str(rep)] = np.array([sample_list[0].indInfo('ind_id'), \n",
    "                                                            sample_list[0].indInfo('g')]).T\n",
    "    small_data['trait/p/replicate/' + str(rep)] = np.array([sample_list[0].indInfo('ind_id'),\n",
    "                                                          sample_list[0].indInfo('p')]).T\n",
    "    "
   ]
  },
  {
   "cell_type": "code",
   "execution_count": 39,
   "metadata": {
    "collapsed": true
   },
   "outputs": [],
   "source": [
    "small_data['trait'].attrs['heritability'] = np.array([0.7])"
   ]
  },
  {
   "cell_type": "raw",
   "metadata": {},
   "source": [
    "np.array(small_data['allele/frequency/replicate/0'])"
   ]
  },
  {
   "cell_type": "raw",
   "metadata": {},
   "source": [
    "np.array(small_data['allele/frequency/replicate/9'])"
   ]
  },
  {
   "cell_type": "raw",
   "metadata": {},
   "source": [
    "np.array(small_data['trait/g/replicate/0'])"
   ]
  },
  {
   "cell_type": "raw",
   "metadata": {},
   "source": [
    "np.array(small_data['trait/g/replicate/9'])"
   ]
  },
  {
   "cell_type": "raw",
   "metadata": {},
   "source": [
    "np.array(small_data['trait/p/replicate/0'])"
   ]
  },
  {
   "cell_type": "raw",
   "metadata": {},
   "source": [
    "np.array(small_data['trait/p/replicate/9'])"
   ]
  },
  {
   "cell_type": "raw",
   "metadata": {
    "collapsed": true
   },
   "source": [
    "small_data.close()"
   ]
  },
  {
   "cell_type": "code",
   "execution_count": 40,
   "metadata": {},
   "outputs": [
    {
     "data": {
      "text/plain": [
       "array([   1,    2,    3,    4,    5,    6,    8,   10,   12,   13,   14,\n",
       "         15,   16,   20,   21,   23,   24,   25,   26,   27,   29,   30,\n",
       "         31,   32,   34,   36,   37,   38,   39,   40,   42,   45,   46,\n",
       "         50,   52,   53,   54,   56,   59,   61,   62,   63,   66,   67,\n",
       "         68,   70,   71,   74,   76,   77,   79,   80,   82,   86,   88,\n",
       "         90,   91,   95,   96,   97,   98,   99,  100,  101,  103,  104,\n",
       "        106,  107,  108,  109,  114,  115,  116,  119,  120,  121,  122,\n",
       "        123,  124,  126,  127,  128,  129,  130,  132,  134,  136,  138,\n",
       "        139,  140,  141,  144,  145,  146,  147,  149,  152,  153,  155,\n",
       "        158,  159,  163,  165,  168,  170,  171,  172,  173,  174,  175,\n",
       "        177,  181,  182,  185,  186,  190,  191,  192,  193,  196,  198,\n",
       "        202,  208,  209,  211,  212,  214,  215,  218,  219,  220,  221,\n",
       "        223,  224,  225,  227,  229,  232,  235,  240,  241,  246,  247,\n",
       "        249,  250,  252,  253,  254,  255,  256,  257,  258,  259,  261,\n",
       "        262,  263,  264,  265,  266,  268,  270,  272,  274,  275,  277,\n",
       "        278,  279,  280,  282,  283,  284,  285,  288,  291,  292,  293,\n",
       "        294,  297,  299,  300,  301,  302,  303,  304,  305,  307,  308,\n",
       "        310,  311,  312,  313,  314,  315,  316,  317,  318,  319,  321,\n",
       "        327,  328,  329,  331,  333,  334,  335,  336,  338,  339,  341,\n",
       "        342,  344,  345,  346,  348,  349,  350,  352,  353,  354,  355,\n",
       "        356,  359,  361,  362,  363,  366,  367,  375,  378,  379,  380,\n",
       "        381,  382,  383,  384,  387,  388,  389,  390,  392,  393,  394,\n",
       "        395,  398,  399,  400,  401,  402,  404,  408,  410,  411,  412,\n",
       "        413,  418,  420,  421,  423,  426,  428,  429,  430,  431,  432,\n",
       "        433,  434,  435,  436,  437,  438,  440,  441,  442,  443,  445,\n",
       "        447,  448,  449,  450,  451,  452,  453,  454,  456,  460,  461,\n",
       "        462,  464,  465,  468,  469,  471,  472,  474,  475,  477,  478,\n",
       "        479,  480,  481,  483,  484,  485,  487,  488,  489,  491,  492,\n",
       "        494,  495,  497,  498,  499,  500,  501,  502,  503,  504,  505,\n",
       "        506,  507,  508,  510,  512,  513,  515,  517,  518,  520,  521,\n",
       "        524,  525,  526,  527,  529,  530,  532,  536,  539,  540,  543,\n",
       "        544,  547,  548,  549,  550,  551,  552,  553,  556,  557,  558,\n",
       "        559,  560,  564,  565,  567,  568,  570,  571,  573,  576,  577,\n",
       "        578,  579,  582,  583,  584,  585,  586,  587,  589,  591,  592,\n",
       "        593,  595,  597,  598,  599,  600,  602,  604,  605,  606,  608,\n",
       "        609,  610,  611,  614,  615,  616,  617,  619,  621,  624,  625,\n",
       "        627,  628,  629,  630,  632,  633,  637,  638,  640,  641,  643,\n",
       "        644,  645,  649,  650,  652,  653,  654,  656,  657,  658,  660,\n",
       "        661,  662,  663,  664,  665,  667,  668,  669,  670,  671,  673,\n",
       "        674,  676,  677,  679,  680,  681,  682,  683,  685,  687,  689,\n",
       "        691,  693,  694,  696,  697,  699,  702,  703,  705,  708,  709,\n",
       "        710,  711,  713,  714,  715,  716,  718,  719,  720,  722,  724,\n",
       "        725,  727,  729,  730,  731,  733,  735,  736,  737,  738,  739,\n",
       "        740,  742,  743,  745,  746,  747,  749,  751,  752,  753,  757,\n",
       "        758,  759,  760,  764,  767,  769,  770,  772,  776,  777,  778,\n",
       "        779,  780,  782,  783,  784,  785,  786,  789,  791,  792,  794,\n",
       "        795,  796,  798,  799,  802,  803,  804,  805,  806,  808,  809,\n",
       "        811,  812,  814,  815,  817,  818,  819,  820,  822,  824,  826,\n",
       "        827,  830,  831,  832,  833,  834,  836,  840,  841,  842,  844,\n",
       "        845,  849,  851,  852,  853,  859,  861,  862,  863,  867,  868,\n",
       "        869,  870,  872,  873,  878,  879,  881,  882,  883,  884,  886,\n",
       "        888,  890,  892,  894,  895,  897,  898,  899,  900,  901,  902,\n",
       "        904,  906,  907,  908,  909,  910,  914,  917,  918,  919,  921,\n",
       "        923,  927,  928,  929,  930,  931,  932,  934,  935,  937,  938,\n",
       "        939,  940,  941,  943,  947,  949,  950,  951,  952,  955,  956,\n",
       "        957,  958,  960,  961,  963,  964,  965,  967,  970,  972,  973,\n",
       "        974,  975,  976,  978,  981,  982,  983,  985,  987,  988,  991,\n",
       "        992,  993,  994,  995,  997,  998,  999, 1001, 1002, 1003, 1005,\n",
       "       1006, 1007, 1008, 1009, 1010, 1011, 1012, 1013, 1014, 1015, 1016,\n",
       "       1017, 1018, 1020, 1022, 1023, 1024, 1026, 1028, 1030, 1031, 1032,\n",
       "       1033, 1034, 1035, 1036, 1037, 1038, 1039, 1041, 1047, 1048, 1049,\n",
       "       1050, 1053, 1054, 1055, 1056, 1057, 1058, 1060, 1061, 1062, 1063,\n",
       "       1064, 1065, 1066, 1074, 1076, 1077, 1078, 1080, 1081, 1082, 1084,\n",
       "       1085, 1087, 1088, 1089, 1090, 1091, 1093, 1095, 1096, 1097, 1100,\n",
       "       1102, 1103, 1104, 1107, 1108, 1111, 1112, 1114, 1116, 1120, 1122,\n",
       "       1123, 1125, 1128, 1129, 1130, 1132, 1133, 1135, 1136, 1137, 1138,\n",
       "       1141, 1142, 1145, 1147, 1148, 1149, 1150, 1152, 1153, 1154, 1155,\n",
       "       1156, 1159, 1160, 1161, 1162, 1163, 1164, 1165, 1166, 1167, 1168,\n",
       "       1169, 1174, 1177, 1178, 1182, 1183, 1188, 1189, 1190, 1193, 1194,\n",
       "       1195, 1196, 1197, 1198, 1199, 1200, 1201, 1202, 1204, 1206, 1207,\n",
       "       1210, 1212, 1213, 1214, 1215, 1216, 1217, 1218, 1220, 1221, 1222,\n",
       "       1227, 1228, 1229, 1230, 1232, 1233, 1234, 1235, 1236, 1239, 1241,\n",
       "       1242, 1243, 1245, 1247, 1248, 1249, 1250, 1253, 1254, 1255, 1256,\n",
       "       1257, 1258, 1259, 1261, 1262, 1263, 1264, 1266, 1268, 1269, 1270,\n",
       "       1272, 1274, 1277, 1278, 1280, 1283, 1284, 1285, 1287, 1290, 1291,\n",
       "       1293, 1294, 1295, 1296, 1297, 1299, 1300, 1302, 1303, 1304, 1305,\n",
       "       1306, 1307, 1310, 1311, 1312, 1313, 1314, 1316, 1317, 1320, 1322,\n",
       "       1323, 1324, 1326, 1327, 1328, 1330, 1332, 1333, 1334, 1335, 1336,\n",
       "       1337, 1339, 1341, 1342, 1344, 1345, 1347, 1348, 1349, 1350, 1351,\n",
       "       1352, 1353, 1354, 1357, 1358, 1361, 1363, 1366, 1367, 1370, 1371,\n",
       "       1372, 1377, 1378, 1379, 1382, 1386, 1388, 1389, 1392, 1393, 1396,\n",
       "       1398, 1402, 1404, 1405, 1406, 1407, 1408, 1409, 1411, 1413, 1417,\n",
       "       1418, 1422, 1423, 1424, 1425, 1426, 1427, 1428, 1430, 1431, 1432,\n",
       "       1433, 1434, 1438, 1439, 1440, 1442, 1444, 1445, 1446, 1447, 1448,\n",
       "       1449, 1450, 1454, 1455, 1456, 1457, 1458, 1460, 1461, 1462, 1463,\n",
       "       1465, 1468, 1470, 1472, 1473, 1474, 1475, 1476])"
      ]
     },
     "execution_count": 40,
     "metadata": {},
     "output_type": "execute_result"
    }
   ],
   "source": [
    "segregating_loci"
   ]
  },
  {
   "cell_type": "code",
   "execution_count": 41,
   "metadata": {
    "collapsed": true
   },
   "outputs": [],
   "source": [
    "minalls = np.array(small_data['allele/states'], dtype=np.int_)[:, 3]"
   ]
  },
  {
   "cell_type": "code",
   "execution_count": null,
   "metadata": {},
   "outputs": [],
   "source": [
    "minalls[segregating_loci]"
   ]
  },
  {
   "cell_type": "code",
   "execution_count": 42,
   "metadata": {},
   "outputs": [],
   "source": [
    "gwas = analyze.GWAS(sample_library[0][0], segregating_loci, minalls, 'small')"
   ]
  },
  {
   "cell_type": "code",
   "execution_count": 43,
   "metadata": {},
   "outputs": [
    {
     "ename": "TypeError",
     "evalue": "'str' object cannot be interpreted as an integer",
     "output_type": "error",
     "traceback": [
      "\u001b[0;31m---------------------------------------------------------------------------\u001b[0m",
      "\u001b[0;31mTypeError\u001b[0m                                 Traceback (most recent call last)",
      "\u001b[0;32m<ipython-input-43-c93e5072900f>\u001b[0m in \u001b[0;36m<module>\u001b[0;34m()\u001b[0m\n\u001b[0;32m----> 1\u001b[0;31m \u001b[0msmall\u001b[0m\u001b[0;34m.\u001b[0m\u001b[0msingle_gen_multi_rep_tassel_input\u001b[0m\u001b[0;34m(\u001b[0m\u001b[0msample_library\u001b[0m\u001b[0;34m,\u001b[0m \u001b[0msmall_data\u001b[0m\u001b[0;34m,\u001b[0m \u001b[0;34m'gwas_pipeline.xml'\u001b[0m\u001b[0;34m)\u001b[0m\u001b[0;34m\u001b[0m\u001b[0m\n\u001b[0m",
      "\u001b[0;32m~/anaconda43/lib/python3.6/site-packages/saegus/analyze.py\u001b[0m in \u001b[0;36msingle_gen_multi_rep_tassel_input\u001b[0;34m(self, sample_library, hdf5_data_file, config_file_template)\u001b[0m\n\u001b[1;32m   1896\u001b[0m             \u001b[0mps\u001b[0m\u001b[0;34m,\u001b[0m \u001b[0msvd\u001b[0m \u001b[0;34m=\u001b[0m \u001b[0mgwas\u001b[0m\u001b[0;34m.\u001b[0m\u001b[0mpop_struct_eigendecomp\u001b[0m\u001b[0;34m(\u001b[0m\u001b[0mccm\u001b[0m\u001b[0;34m)\u001b[0m\u001b[0;34m\u001b[0m\u001b[0m\n\u001b[1;32m   1897\u001b[0m             gwas.population_structure_formatter(ps, svd,\n\u001b[0;32m-> 1898\u001b[0;31m                                     indir + name + '_structure_matrix.txt')\n\u001b[0m\u001b[1;32m   1899\u001b[0m             gwas.hapmap_formatter(int_to_snp_map,\n\u001b[1;32m   1900\u001b[0m                                   indir + name + '_simulated_hapmap.txt')\n",
      "\u001b[0;32m~/anaconda43/lib/python3.6/site-packages/saegus/analyze.py\u001b[0m in \u001b[0;36mpopulation_structure_formatter\u001b[0;34m(self, eigenvalues, eigenvectors, number_of_pcs, pop_struct_file_name)\u001b[0m\n\u001b[1;32m   1103\u001b[0m \u001b[0;34m\u001b[0m\u001b[0m\n\u001b[1;32m   1104\u001b[0m         struct_covariates = [\n\u001b[0;32m-> 1105\u001b[0;31m             \u001b[0meigenvalues\u001b[0m\u001b[0;34m[\u001b[0m\u001b[0mi\u001b[0m\u001b[0;34m]\u001b[0m\u001b[0;34m*\u001b[0m\u001b[0meigenvectors\u001b[0m\u001b[0;34m[\u001b[0m\u001b[0mi\u001b[0m\u001b[0;34m]\u001b[0m \u001b[0;32mfor\u001b[0m \u001b[0mi\u001b[0m \u001b[0;32min\u001b[0m \u001b[0mrange\u001b[0m\u001b[0;34m(\u001b[0m\u001b[0mnumber_of_pcs\u001b[0m\u001b[0;34m)\u001b[0m\u001b[0;34m\u001b[0m\u001b[0m\n\u001b[0m\u001b[1;32m   1106\u001b[0m         ]\n\u001b[1;32m   1107\u001b[0m         structure_matrix = pd.DataFrame(struct_covariates[i].T\n",
      "\u001b[0;31mTypeError\u001b[0m: 'str' object cannot be interpreted as an integer"
     ]
    }
   ],
   "source": [
    "small.single_gen_multi_rep_tassel_input(sample_library, small_data, 'gwas_pipeline.xml')"
   ]
  },
  {
   "cell_type": "code",
   "execution_count": null,
   "metadata": {
    "collapsed": true
   },
   "outputs": [],
   "source": []
  },
  {
   "cell_type": "code",
   "execution_count": null,
   "metadata": {
    "collapsed": true
   },
   "outputs": [],
   "source": [
    "gwas.single_gen_multi_rep_tassel_config(0, 'gwas_pipeline.xml', \n",
    "                                        output_prefix = '/home/vakanas/tassel-5-standalone/output/small_output_')"
   ]
  },
  {
   "cell_type": "code",
   "execution_count": null,
   "metadata": {
    "collapsed": true
   },
   "outputs": [],
   "source": [
    "analyze.GWAS()"
   ]
  },
  {
   "cell_type": "code",
   "execution_count": null,
   "metadata": {},
   "outputs": [],
   "source": []
  },
  {
   "cell_type": "code",
   "execution_count": null,
   "metadata": {
    "collapsed": true
   },
   "outputs": [],
   "source": []
  },
  {
   "cell_type": "code",
   "execution_count": null,
   "metadata": {
    "collapsed": true
   },
   "outputs": [],
   "source": []
  },
  {
   "cell_type": "code",
   "execution_count": 45,
   "metadata": {},
   "outputs": [],
   "source": [
    "cm = gwas.calculate_count_matrix()"
   ]
  },
  {
   "cell_type": "code",
   "execution_count": 46,
   "metadata": {
    "collapsed": true
   },
   "outputs": [],
   "source": [
    "ps, svd = gwas.pop_struct_eigendecomp(cm)"
   ]
  },
  {
   "cell_type": "code",
   "execution_count": null,
   "metadata": {
    "collapsed": true
   },
   "outputs": [],
   "source": []
  },
  {
   "cell_type": "code",
   "execution_count": 47,
   "metadata": {
    "collapsed": true
   },
   "outputs": [
    {
     "data": {
      "text/html": [
       "<div>\n",
       "<style>\n",
       "    .dataframe thead tr:only-child th {\n",
       "        text-align: right;\n",
       "    }\n",
       "\n",
       "    .dataframe thead th {\n",
       "        text-align: left;\n",
       "    }\n",
       "\n",
       "    .dataframe tbody tr th {\n",
       "        vertical-align: top;\n",
       "    }\n",
       "</style>\n",
       "<table border=\"1\" class=\"dataframe\">\n",
       "  <thead>\n",
       "    <tr style=\"text-align: right;\">\n",
       "      <th></th>\n",
       "      <th>0</th>\n",
       "      <th>1</th>\n",
       "    </tr>\n",
       "  </thead>\n",
       "  <tbody>\n",
       "    <tr>\n",
       "      <th>I240040</th>\n",
       "      <td>-0.025466</td>\n",
       "      <td>-0.027220</td>\n",
       "    </tr>\n",
       "    <tr>\n",
       "      <th>I240056</th>\n",
       "      <td>-0.289714</td>\n",
       "      <td>-0.132141</td>\n",
       "    </tr>\n",
       "    <tr>\n",
       "      <th>I240136</th>\n",
       "      <td>0.207240</td>\n",
       "      <td>0.153284</td>\n",
       "    </tr>\n",
       "    <tr>\n",
       "      <th>I240163</th>\n",
       "      <td>-0.043662</td>\n",
       "      <td>-0.202815</td>\n",
       "    </tr>\n",
       "    <tr>\n",
       "      <th>I240182</th>\n",
       "      <td>-0.752386</td>\n",
       "      <td>0.084806</td>\n",
       "    </tr>\n",
       "    <tr>\n",
       "      <th>I240223</th>\n",
       "      <td>-0.141871</td>\n",
       "      <td>-0.251398</td>\n",
       "    </tr>\n",
       "    <tr>\n",
       "      <th>I240227</th>\n",
       "      <td>-0.533531</td>\n",
       "      <td>0.137630</td>\n",
       "    </tr>\n",
       "    <tr>\n",
       "      <th>I240275</th>\n",
       "      <td>0.145696</td>\n",
       "      <td>0.163592</td>\n",
       "    </tr>\n",
       "    <tr>\n",
       "      <th>I240304</th>\n",
       "      <td>0.138332</td>\n",
       "      <td>-0.177832</td>\n",
       "    </tr>\n",
       "    <tr>\n",
       "      <th>I240325</th>\n",
       "      <td>-0.080273</td>\n",
       "      <td>0.129299</td>\n",
       "    </tr>\n",
       "    <tr>\n",
       "      <th>I240359</th>\n",
       "      <td>0.376809</td>\n",
       "      <td>0.445778</td>\n",
       "    </tr>\n",
       "    <tr>\n",
       "      <th>I240406</th>\n",
       "      <td>0.243118</td>\n",
       "      <td>-0.007981</td>\n",
       "    </tr>\n",
       "    <tr>\n",
       "      <th>I240489</th>\n",
       "      <td>-0.607313</td>\n",
       "      <td>0.002985</td>\n",
       "    </tr>\n",
       "    <tr>\n",
       "      <th>I240493</th>\n",
       "      <td>0.339474</td>\n",
       "      <td>0.995709</td>\n",
       "    </tr>\n",
       "    <tr>\n",
       "      <th>I240557</th>\n",
       "      <td>0.799847</td>\n",
       "      <td>0.188453</td>\n",
       "    </tr>\n",
       "    <tr>\n",
       "      <th>I240565</th>\n",
       "      <td>-0.237424</td>\n",
       "      <td>0.205381</td>\n",
       "    </tr>\n",
       "    <tr>\n",
       "      <th>I240589</th>\n",
       "      <td>0.187665</td>\n",
       "      <td>0.065309</td>\n",
       "    </tr>\n",
       "    <tr>\n",
       "      <th>I240597</th>\n",
       "      <td>-0.242460</td>\n",
       "      <td>0.430703</td>\n",
       "    </tr>\n",
       "    <tr>\n",
       "      <th>I240633</th>\n",
       "      <td>0.397160</td>\n",
       "      <td>0.094414</td>\n",
       "    </tr>\n",
       "    <tr>\n",
       "      <th>I240653</th>\n",
       "      <td>0.341669</td>\n",
       "      <td>-0.649838</td>\n",
       "    </tr>\n",
       "    <tr>\n",
       "      <th>I240664</th>\n",
       "      <td>-0.125380</td>\n",
       "      <td>-0.171627</td>\n",
       "    </tr>\n",
       "    <tr>\n",
       "      <th>I240749</th>\n",
       "      <td>0.296950</td>\n",
       "      <td>-0.193659</td>\n",
       "    </tr>\n",
       "    <tr>\n",
       "      <th>I240830</th>\n",
       "      <td>-0.002042</td>\n",
       "      <td>0.084820</td>\n",
       "    </tr>\n",
       "    <tr>\n",
       "      <th>I240837</th>\n",
       "      <td>0.084006</td>\n",
       "      <td>-0.100466</td>\n",
       "    </tr>\n",
       "    <tr>\n",
       "      <th>I240874</th>\n",
       "      <td>-0.209069</td>\n",
       "      <td>-0.528822</td>\n",
       "    </tr>\n",
       "    <tr>\n",
       "      <th>I240886</th>\n",
       "      <td>0.020476</td>\n",
       "      <td>0.860694</td>\n",
       "    </tr>\n",
       "    <tr>\n",
       "      <th>I240915</th>\n",
       "      <td>-0.733495</td>\n",
       "      <td>-0.368285</td>\n",
       "    </tr>\n",
       "    <tr>\n",
       "      <th>I240939</th>\n",
       "      <td>-0.655995</td>\n",
       "      <td>0.100391</td>\n",
       "    </tr>\n",
       "    <tr>\n",
       "      <th>I240942</th>\n",
       "      <td>0.210845</td>\n",
       "      <td>-0.207949</td>\n",
       "    </tr>\n",
       "    <tr>\n",
       "      <th>I240966</th>\n",
       "      <td>0.827966</td>\n",
       "      <td>0.403312</td>\n",
       "    </tr>\n",
       "    <tr>\n",
       "      <th>...</th>\n",
       "      <td>...</td>\n",
       "      <td>...</td>\n",
       "    </tr>\n",
       "    <tr>\n",
       "      <th>I240891</th>\n",
       "      <td>0.109920</td>\n",
       "      <td>-0.154322</td>\n",
       "    </tr>\n",
       "    <tr>\n",
       "      <th>I240951</th>\n",
       "      <td>0.451939</td>\n",
       "      <td>-0.271783</td>\n",
       "    </tr>\n",
       "    <tr>\n",
       "      <th>I240959</th>\n",
       "      <td>-0.293260</td>\n",
       "      <td>-0.039592</td>\n",
       "    </tr>\n",
       "    <tr>\n",
       "      <th>I241016</th>\n",
       "      <td>0.084575</td>\n",
       "      <td>0.245365</td>\n",
       "    </tr>\n",
       "    <tr>\n",
       "      <th>I241069</th>\n",
       "      <td>-0.236588</td>\n",
       "      <td>-0.218711</td>\n",
       "    </tr>\n",
       "    <tr>\n",
       "      <th>I241077</th>\n",
       "      <td>0.531226</td>\n",
       "      <td>0.134127</td>\n",
       "    </tr>\n",
       "    <tr>\n",
       "      <th>I241090</th>\n",
       "      <td>-0.474855</td>\n",
       "      <td>0.130918</td>\n",
       "    </tr>\n",
       "    <tr>\n",
       "      <th>I241113</th>\n",
       "      <td>0.395560</td>\n",
       "      <td>-0.104579</td>\n",
       "    </tr>\n",
       "    <tr>\n",
       "      <th>I241177</th>\n",
       "      <td>0.050657</td>\n",
       "      <td>-0.078866</td>\n",
       "    </tr>\n",
       "    <tr>\n",
       "      <th>I241210</th>\n",
       "      <td>-0.030900</td>\n",
       "      <td>0.746177</td>\n",
       "    </tr>\n",
       "    <tr>\n",
       "      <th>I241214</th>\n",
       "      <td>-0.198888</td>\n",
       "      <td>0.270480</td>\n",
       "    </tr>\n",
       "    <tr>\n",
       "      <th>I241270</th>\n",
       "      <td>-0.911636</td>\n",
       "      <td>-0.258770</td>\n",
       "    </tr>\n",
       "    <tr>\n",
       "      <th>I241334</th>\n",
       "      <td>-0.472261</td>\n",
       "      <td>0.246321</td>\n",
       "    </tr>\n",
       "    <tr>\n",
       "      <th>I241338</th>\n",
       "      <td>0.459137</td>\n",
       "      <td>0.191211</td>\n",
       "    </tr>\n",
       "    <tr>\n",
       "      <th>I241453</th>\n",
       "      <td>0.674442</td>\n",
       "      <td>-0.284471</td>\n",
       "    </tr>\n",
       "    <tr>\n",
       "      <th>I241497</th>\n",
       "      <td>-0.300843</td>\n",
       "      <td>-0.107397</td>\n",
       "    </tr>\n",
       "    <tr>\n",
       "      <th>I241542</th>\n",
       "      <td>-0.160488</td>\n",
       "      <td>0.636625</td>\n",
       "    </tr>\n",
       "    <tr>\n",
       "      <th>I241584</th>\n",
       "      <td>-0.105126</td>\n",
       "      <td>0.160230</td>\n",
       "    </tr>\n",
       "    <tr>\n",
       "      <th>I241612</th>\n",
       "      <td>0.161404</td>\n",
       "      <td>-0.450231</td>\n",
       "    </tr>\n",
       "    <tr>\n",
       "      <th>I241620</th>\n",
       "      <td>0.073232</td>\n",
       "      <td>0.427865</td>\n",
       "    </tr>\n",
       "    <tr>\n",
       "      <th>I241711</th>\n",
       "      <td>0.438822</td>\n",
       "      <td>-0.092993</td>\n",
       "    </tr>\n",
       "    <tr>\n",
       "      <th>I241823</th>\n",
       "      <td>-0.354069</td>\n",
       "      <td>0.234950</td>\n",
       "    </tr>\n",
       "    <tr>\n",
       "      <th>I241901</th>\n",
       "      <td>-0.324642</td>\n",
       "      <td>-0.220257</td>\n",
       "    </tr>\n",
       "    <tr>\n",
       "      <th>I241907</th>\n",
       "      <td>-0.259629</td>\n",
       "      <td>-0.122481</td>\n",
       "    </tr>\n",
       "    <tr>\n",
       "      <th>I241919</th>\n",
       "      <td>-0.331095</td>\n",
       "      <td>-0.157986</td>\n",
       "    </tr>\n",
       "    <tr>\n",
       "      <th>I241922</th>\n",
       "      <td>-0.270208</td>\n",
       "      <td>-0.311150</td>\n",
       "    </tr>\n",
       "    <tr>\n",
       "      <th>I241950</th>\n",
       "      <td>0.229124</td>\n",
       "      <td>0.147469</td>\n",
       "    </tr>\n",
       "    <tr>\n",
       "      <th>I241966</th>\n",
       "      <td>0.073829</td>\n",
       "      <td>-0.479412</td>\n",
       "    </tr>\n",
       "    <tr>\n",
       "      <th>I241995</th>\n",
       "      <td>-0.051050</td>\n",
       "      <td>-0.694214</td>\n",
       "    </tr>\n",
       "    <tr>\n",
       "      <th>I242019</th>\n",
       "      <td>-0.018818</td>\n",
       "      <td>-0.169999</td>\n",
       "    </tr>\n",
       "  </tbody>\n",
       "</table>\n",
       "<p>200 rows × 2 columns</p>\n",
       "</div>"
      ],
      "text/plain": [
       "                0         1\n",
       "I240040 -0.025466 -0.027220\n",
       "I240056 -0.289714 -0.132141\n",
       "I240136  0.207240  0.153284\n",
       "I240163 -0.043662 -0.202815\n",
       "I240182 -0.752386  0.084806\n",
       "I240223 -0.141871 -0.251398\n",
       "I240227 -0.533531  0.137630\n",
       "I240275  0.145696  0.163592\n",
       "I240304  0.138332 -0.177832\n",
       "I240325 -0.080273  0.129299\n",
       "I240359  0.376809  0.445778\n",
       "I240406  0.243118 -0.007981\n",
       "I240489 -0.607313  0.002985\n",
       "I240493  0.339474  0.995709\n",
       "I240557  0.799847  0.188453\n",
       "I240565 -0.237424  0.205381\n",
       "I240589  0.187665  0.065309\n",
       "I240597 -0.242460  0.430703\n",
       "I240633  0.397160  0.094414\n",
       "I240653  0.341669 -0.649838\n",
       "I240664 -0.125380 -0.171627\n",
       "I240749  0.296950 -0.193659\n",
       "I240830 -0.002042  0.084820\n",
       "I240837  0.084006 -0.100466\n",
       "I240874 -0.209069 -0.528822\n",
       "I240886  0.020476  0.860694\n",
       "I240915 -0.733495 -0.368285\n",
       "I240939 -0.655995  0.100391\n",
       "I240942  0.210845 -0.207949\n",
       "I240966  0.827966  0.403312\n",
       "...           ...       ...\n",
       "I240891  0.109920 -0.154322\n",
       "I240951  0.451939 -0.271783\n",
       "I240959 -0.293260 -0.039592\n",
       "I241016  0.084575  0.245365\n",
       "I241069 -0.236588 -0.218711\n",
       "I241077  0.531226  0.134127\n",
       "I241090 -0.474855  0.130918\n",
       "I241113  0.395560 -0.104579\n",
       "I241177  0.050657 -0.078866\n",
       "I241210 -0.030900  0.746177\n",
       "I241214 -0.198888  0.270480\n",
       "I241270 -0.911636 -0.258770\n",
       "I241334 -0.472261  0.246321\n",
       "I241338  0.459137  0.191211\n",
       "I241453  0.674442 -0.284471\n",
       "I241497 -0.300843 -0.107397\n",
       "I241542 -0.160488  0.636625\n",
       "I241584 -0.105126  0.160230\n",
       "I241612  0.161404 -0.450231\n",
       "I241620  0.073232  0.427865\n",
       "I241711  0.438822 -0.092993\n",
       "I241823 -0.354069  0.234950\n",
       "I241901 -0.324642 -0.220257\n",
       "I241907 -0.259629 -0.122481\n",
       "I241919 -0.331095 -0.157986\n",
       "I241922 -0.270208 -0.311150\n",
       "I241950  0.229124  0.147469\n",
       "I241966  0.073829 -0.479412\n",
       "I241995 -0.051050 -0.694214\n",
       "I242019 -0.018818 -0.169999\n",
       "\n",
       "[200 rows x 2 columns]"
      ]
     },
     "execution_count": 47,
     "metadata": {},
     "output_type": "execute_result"
    }
   ],
   "source": [
    "gwas.population_structure_formatter(ps, svd)"
   ]
  },
  {
   "cell_type": "code",
   "execution_count": 48,
   "metadata": {
    "collapsed": true
   },
   "outputs": [],
   "source": [
    "hm = gwas.hapmap_formatter()"
   ]
  },
  {
   "cell_type": "code",
   "execution_count": 49,
   "metadata": {
    "collapsed": true
   },
   "outputs": [
    {
     "data": {
      "text/html": [
       "<div>\n",
       "<style>\n",
       "    .dataframe thead tr:only-child th {\n",
       "        text-align: right;\n",
       "    }\n",
       "\n",
       "    .dataframe thead th {\n",
       "        text-align: left;\n",
       "    }\n",
       "\n",
       "    .dataframe tbody tr th {\n",
       "        vertical-align: top;\n",
       "    }\n",
       "</style>\n",
       "<table border=\"1\" class=\"dataframe\">\n",
       "  <thead>\n",
       "    <tr style=\"text-align: right;\">\n",
       "      <th></th>\n",
       "      <th>rs</th>\n",
       "      <th>alleles</th>\n",
       "      <th>chrom</th>\n",
       "      <th>pos</th>\n",
       "      <th>strand</th>\n",
       "      <th>assembly</th>\n",
       "      <th>center</th>\n",
       "      <th>protLSID</th>\n",
       "      <th>assayLSID</th>\n",
       "      <th>panelLSID</th>\n",
       "      <th>...</th>\n",
       "      <th>I241711</th>\n",
       "      <th>I241823</th>\n",
       "      <th>I241901</th>\n",
       "      <th>I241907</th>\n",
       "      <th>I241919</th>\n",
       "      <th>I241922</th>\n",
       "      <th>I241950</th>\n",
       "      <th>I241966</th>\n",
       "      <th>I241995</th>\n",
       "      <th>I242019</th>\n",
       "    </tr>\n",
       "  </thead>\n",
       "  <tbody>\n",
       "    <tr>\n",
       "      <th>0</th>\n",
       "      <td>1</td>\n",
       "      <td>3</td>\n",
       "      <td>1</td>\n",
       "      <td>0</td>\n",
       "      <td>NA</td>\n",
       "      <td>NA</td>\n",
       "      <td>NA</td>\n",
       "      <td>NA</td>\n",
       "      <td>NA</td>\n",
       "      <td>NA</td>\n",
       "      <td>...</td>\n",
       "      <td>CC</td>\n",
       "      <td>CC</td>\n",
       "      <td>CC</td>\n",
       "      <td>CC</td>\n",
       "      <td>CC</td>\n",
       "      <td>CC</td>\n",
       "      <td>CC</td>\n",
       "      <td>CC</td>\n",
       "      <td>CT</td>\n",
       "      <td>CC</td>\n",
       "    </tr>\n",
       "    <tr>\n",
       "      <th>1</th>\n",
       "      <td>2</td>\n",
       "      <td>1</td>\n",
       "      <td>1</td>\n",
       "      <td>1</td>\n",
       "      <td>NA</td>\n",
       "      <td>NA</td>\n",
       "      <td>NA</td>\n",
       "      <td>NA</td>\n",
       "      <td>NA</td>\n",
       "      <td>NA</td>\n",
       "      <td>...</td>\n",
       "      <td>CT</td>\n",
       "      <td>TT</td>\n",
       "      <td>TT</td>\n",
       "      <td>TT</td>\n",
       "      <td>TT</td>\n",
       "      <td>TT</td>\n",
       "      <td>TT</td>\n",
       "      <td>TT</td>\n",
       "      <td>TT</td>\n",
       "      <td>TT</td>\n",
       "    </tr>\n",
       "    <tr>\n",
       "      <th>2</th>\n",
       "      <td>3</td>\n",
       "      <td>2</td>\n",
       "      <td>1</td>\n",
       "      <td>2</td>\n",
       "      <td>NA</td>\n",
       "      <td>NA</td>\n",
       "      <td>NA</td>\n",
       "      <td>NA</td>\n",
       "      <td>NA</td>\n",
       "      <td>NA</td>\n",
       "      <td>...</td>\n",
       "      <td>AA</td>\n",
       "      <td>AA</td>\n",
       "      <td>AA</td>\n",
       "      <td>AA</td>\n",
       "      <td>AG</td>\n",
       "      <td>AG</td>\n",
       "      <td>AA</td>\n",
       "      <td>AA</td>\n",
       "      <td>AA</td>\n",
       "      <td>AA</td>\n",
       "    </tr>\n",
       "    <tr>\n",
       "      <th>3</th>\n",
       "      <td>4</td>\n",
       "      <td>0</td>\n",
       "      <td>1</td>\n",
       "      <td>3</td>\n",
       "      <td>NA</td>\n",
       "      <td>NA</td>\n",
       "      <td>NA</td>\n",
       "      <td>NA</td>\n",
       "      <td>NA</td>\n",
       "      <td>NA</td>\n",
       "      <td>...</td>\n",
       "      <td>GG</td>\n",
       "      <td>GG</td>\n",
       "      <td>AG</td>\n",
       "      <td>GG</td>\n",
       "      <td>GG</td>\n",
       "      <td>AG</td>\n",
       "      <td>AG</td>\n",
       "      <td>GG</td>\n",
       "      <td>GG</td>\n",
       "      <td>GG</td>\n",
       "    </tr>\n",
       "    <tr>\n",
       "      <th>4</th>\n",
       "      <td>5</td>\n",
       "      <td>2</td>\n",
       "      <td>1</td>\n",
       "      <td>4</td>\n",
       "      <td>NA</td>\n",
       "      <td>NA</td>\n",
       "      <td>NA</td>\n",
       "      <td>NA</td>\n",
       "      <td>NA</td>\n",
       "      <td>NA</td>\n",
       "      <td>...</td>\n",
       "      <td>AA</td>\n",
       "      <td>AA</td>\n",
       "      <td>AG</td>\n",
       "      <td>AG</td>\n",
       "      <td>AG</td>\n",
       "      <td>AG</td>\n",
       "      <td>AG</td>\n",
       "      <td>AA</td>\n",
       "      <td>AA</td>\n",
       "      <td>GG</td>\n",
       "    </tr>\n",
       "    <tr>\n",
       "      <th>5</th>\n",
       "      <td>6</td>\n",
       "      <td>2</td>\n",
       "      <td>1</td>\n",
       "      <td>5</td>\n",
       "      <td>NA</td>\n",
       "      <td>NA</td>\n",
       "      <td>NA</td>\n",
       "      <td>NA</td>\n",
       "      <td>NA</td>\n",
       "      <td>NA</td>\n",
       "      <td>...</td>\n",
       "      <td>AA</td>\n",
       "      <td>AG</td>\n",
       "      <td>AA</td>\n",
       "      <td>AA</td>\n",
       "      <td>AA</td>\n",
       "      <td>AA</td>\n",
       "      <td>AA</td>\n",
       "      <td>AA</td>\n",
       "      <td>AG</td>\n",
       "      <td>AA</td>\n",
       "    </tr>\n",
       "    <tr>\n",
       "      <th>6</th>\n",
       "      <td>8</td>\n",
       "      <td>2</td>\n",
       "      <td>1</td>\n",
       "      <td>6</td>\n",
       "      <td>NA</td>\n",
       "      <td>NA</td>\n",
       "      <td>NA</td>\n",
       "      <td>NA</td>\n",
       "      <td>NA</td>\n",
       "      <td>NA</td>\n",
       "      <td>...</td>\n",
       "      <td>AA</td>\n",
       "      <td>AA</td>\n",
       "      <td>AA</td>\n",
       "      <td>AA</td>\n",
       "      <td>AA</td>\n",
       "      <td>AG</td>\n",
       "      <td>AA</td>\n",
       "      <td>AA</td>\n",
       "      <td>AA</td>\n",
       "      <td>AA</td>\n",
       "    </tr>\n",
       "    <tr>\n",
       "      <th>7</th>\n",
       "      <td>10</td>\n",
       "      <td>3</td>\n",
       "      <td>1</td>\n",
       "      <td>7</td>\n",
       "      <td>NA</td>\n",
       "      <td>NA</td>\n",
       "      <td>NA</td>\n",
       "      <td>NA</td>\n",
       "      <td>NA</td>\n",
       "      <td>NA</td>\n",
       "      <td>...</td>\n",
       "      <td>TT</td>\n",
       "      <td>CT</td>\n",
       "      <td>CT</td>\n",
       "      <td>TT</td>\n",
       "      <td>CT</td>\n",
       "      <td>CT</td>\n",
       "      <td>CT</td>\n",
       "      <td>CT</td>\n",
       "      <td>CC</td>\n",
       "      <td>CC</td>\n",
       "    </tr>\n",
       "    <tr>\n",
       "      <th>8</th>\n",
       "      <td>12</td>\n",
       "      <td>1</td>\n",
       "      <td>1</td>\n",
       "      <td>8</td>\n",
       "      <td>NA</td>\n",
       "      <td>NA</td>\n",
       "      <td>NA</td>\n",
       "      <td>NA</td>\n",
       "      <td>NA</td>\n",
       "      <td>NA</td>\n",
       "      <td>...</td>\n",
       "      <td>CC</td>\n",
       "      <td>TT</td>\n",
       "      <td>CC</td>\n",
       "      <td>CC</td>\n",
       "      <td>TT</td>\n",
       "      <td>TT</td>\n",
       "      <td>TT</td>\n",
       "      <td>TT</td>\n",
       "      <td>TT</td>\n",
       "      <td>TT</td>\n",
       "    </tr>\n",
       "    <tr>\n",
       "      <th>9</th>\n",
       "      <td>13</td>\n",
       "      <td>0</td>\n",
       "      <td>1</td>\n",
       "      <td>9</td>\n",
       "      <td>NA</td>\n",
       "      <td>NA</td>\n",
       "      <td>NA</td>\n",
       "      <td>NA</td>\n",
       "      <td>NA</td>\n",
       "      <td>NA</td>\n",
       "      <td>...</td>\n",
       "      <td>GG</td>\n",
       "      <td>AG</td>\n",
       "      <td>GG</td>\n",
       "      <td>GG</td>\n",
       "      <td>GG</td>\n",
       "      <td>GG</td>\n",
       "      <td>GG</td>\n",
       "      <td>AG</td>\n",
       "      <td>AG</td>\n",
       "      <td>GG</td>\n",
       "    </tr>\n",
       "    <tr>\n",
       "      <th>10</th>\n",
       "      <td>14</td>\n",
       "      <td>0</td>\n",
       "      <td>1</td>\n",
       "      <td>10</td>\n",
       "      <td>NA</td>\n",
       "      <td>NA</td>\n",
       "      <td>NA</td>\n",
       "      <td>NA</td>\n",
       "      <td>NA</td>\n",
       "      <td>NA</td>\n",
       "      <td>...</td>\n",
       "      <td>TT</td>\n",
       "      <td>TT</td>\n",
       "      <td>TT</td>\n",
       "      <td>TT</td>\n",
       "      <td>AT</td>\n",
       "      <td>AT</td>\n",
       "      <td>AT</td>\n",
       "      <td>AT</td>\n",
       "      <td>TT</td>\n",
       "      <td>TT</td>\n",
       "    </tr>\n",
       "    <tr>\n",
       "      <th>11</th>\n",
       "      <td>15</td>\n",
       "      <td>1</td>\n",
       "      <td>1</td>\n",
       "      <td>11</td>\n",
       "      <td>NA</td>\n",
       "      <td>NA</td>\n",
       "      <td>NA</td>\n",
       "      <td>NA</td>\n",
       "      <td>NA</td>\n",
       "      <td>NA</td>\n",
       "      <td>...</td>\n",
       "      <td>CT</td>\n",
       "      <td>TT</td>\n",
       "      <td>CT</td>\n",
       "      <td>CT</td>\n",
       "      <td>TT</td>\n",
       "      <td>CT</td>\n",
       "      <td>TT</td>\n",
       "      <td>TT</td>\n",
       "      <td>TT</td>\n",
       "      <td>TT</td>\n",
       "    </tr>\n",
       "    <tr>\n",
       "      <th>12</th>\n",
       "      <td>16</td>\n",
       "      <td>3</td>\n",
       "      <td>1</td>\n",
       "      <td>12</td>\n",
       "      <td>NA</td>\n",
       "      <td>NA</td>\n",
       "      <td>NA</td>\n",
       "      <td>NA</td>\n",
       "      <td>NA</td>\n",
       "      <td>NA</td>\n",
       "      <td>...</td>\n",
       "      <td>GG</td>\n",
       "      <td>GT</td>\n",
       "      <td>GG</td>\n",
       "      <td>GG</td>\n",
       "      <td>GT</td>\n",
       "      <td>GG</td>\n",
       "      <td>GT</td>\n",
       "      <td>GG</td>\n",
       "      <td>GT</td>\n",
       "      <td>GT</td>\n",
       "    </tr>\n",
       "    <tr>\n",
       "      <th>13</th>\n",
       "      <td>20</td>\n",
       "      <td>0</td>\n",
       "      <td>1</td>\n",
       "      <td>13</td>\n",
       "      <td>NA</td>\n",
       "      <td>NA</td>\n",
       "      <td>NA</td>\n",
       "      <td>NA</td>\n",
       "      <td>NA</td>\n",
       "      <td>NA</td>\n",
       "      <td>...</td>\n",
       "      <td>AT</td>\n",
       "      <td>AA</td>\n",
       "      <td>AT</td>\n",
       "      <td>TT</td>\n",
       "      <td>AT</td>\n",
       "      <td>AT</td>\n",
       "      <td>AT</td>\n",
       "      <td>TT</td>\n",
       "      <td>AT</td>\n",
       "      <td>TT</td>\n",
       "    </tr>\n",
       "    <tr>\n",
       "      <th>14</th>\n",
       "      <td>21</td>\n",
       "      <td>1</td>\n",
       "      <td>1</td>\n",
       "      <td>14</td>\n",
       "      <td>NA</td>\n",
       "      <td>NA</td>\n",
       "      <td>NA</td>\n",
       "      <td>NA</td>\n",
       "      <td>NA</td>\n",
       "      <td>NA</td>\n",
       "      <td>...</td>\n",
       "      <td>GG</td>\n",
       "      <td>GG</td>\n",
       "      <td>GG</td>\n",
       "      <td>GG</td>\n",
       "      <td>GG</td>\n",
       "      <td>GG</td>\n",
       "      <td>GG</td>\n",
       "      <td>GG</td>\n",
       "      <td>GG</td>\n",
       "      <td>CG</td>\n",
       "    </tr>\n",
       "    <tr>\n",
       "      <th>15</th>\n",
       "      <td>23</td>\n",
       "      <td>5</td>\n",
       "      <td>1</td>\n",
       "      <td>15</td>\n",
       "      <td>NA</td>\n",
       "      <td>NA</td>\n",
       "      <td>NA</td>\n",
       "      <td>NA</td>\n",
       "      <td>NA</td>\n",
       "      <td>NA</td>\n",
       "      <td>...</td>\n",
       "      <td>--</td>\n",
       "      <td>--</td>\n",
       "      <td>+-</td>\n",
       "      <td>--</td>\n",
       "      <td>--</td>\n",
       "      <td>+-</td>\n",
       "      <td>--</td>\n",
       "      <td>+-</td>\n",
       "      <td>--</td>\n",
       "      <td>+-</td>\n",
       "    </tr>\n",
       "    <tr>\n",
       "      <th>16</th>\n",
       "      <td>24</td>\n",
       "      <td>3</td>\n",
       "      <td>1</td>\n",
       "      <td>16</td>\n",
       "      <td>NA</td>\n",
       "      <td>NA</td>\n",
       "      <td>NA</td>\n",
       "      <td>NA</td>\n",
       "      <td>NA</td>\n",
       "      <td>NA</td>\n",
       "      <td>...</td>\n",
       "      <td>CC</td>\n",
       "      <td>CC</td>\n",
       "      <td>CT</td>\n",
       "      <td>CC</td>\n",
       "      <td>CC</td>\n",
       "      <td>CC</td>\n",
       "      <td>CC</td>\n",
       "      <td>CC</td>\n",
       "      <td>CC</td>\n",
       "      <td>CC</td>\n",
       "    </tr>\n",
       "    <tr>\n",
       "      <th>17</th>\n",
       "      <td>25</td>\n",
       "      <td>0</td>\n",
       "      <td>1</td>\n",
       "      <td>17</td>\n",
       "      <td>NA</td>\n",
       "      <td>NA</td>\n",
       "      <td>NA</td>\n",
       "      <td>NA</td>\n",
       "      <td>NA</td>\n",
       "      <td>NA</td>\n",
       "      <td>...</td>\n",
       "      <td>AG</td>\n",
       "      <td>GG</td>\n",
       "      <td>GG</td>\n",
       "      <td>AG</td>\n",
       "      <td>AA</td>\n",
       "      <td>AG</td>\n",
       "      <td>AG</td>\n",
       "      <td>GG</td>\n",
       "      <td>GG</td>\n",
       "      <td>GG</td>\n",
       "    </tr>\n",
       "    <tr>\n",
       "      <th>18</th>\n",
       "      <td>26</td>\n",
       "      <td>0</td>\n",
       "      <td>1</td>\n",
       "      <td>18</td>\n",
       "      <td>NA</td>\n",
       "      <td>NA</td>\n",
       "      <td>NA</td>\n",
       "      <td>NA</td>\n",
       "      <td>NA</td>\n",
       "      <td>NA</td>\n",
       "      <td>...</td>\n",
       "      <td>TT</td>\n",
       "      <td>TT</td>\n",
       "      <td>TT</td>\n",
       "      <td>TT</td>\n",
       "      <td>TT</td>\n",
       "      <td>TT</td>\n",
       "      <td>TT</td>\n",
       "      <td>TT</td>\n",
       "      <td>TT</td>\n",
       "      <td>TT</td>\n",
       "    </tr>\n",
       "    <tr>\n",
       "      <th>19</th>\n",
       "      <td>27</td>\n",
       "      <td>1</td>\n",
       "      <td>1</td>\n",
       "      <td>19</td>\n",
       "      <td>NA</td>\n",
       "      <td>NA</td>\n",
       "      <td>NA</td>\n",
       "      <td>NA</td>\n",
       "      <td>NA</td>\n",
       "      <td>NA</td>\n",
       "      <td>...</td>\n",
       "      <td>AC</td>\n",
       "      <td>AA</td>\n",
       "      <td>AA</td>\n",
       "      <td>AA</td>\n",
       "      <td>AA</td>\n",
       "      <td>AA</td>\n",
       "      <td>AA</td>\n",
       "      <td>AA</td>\n",
       "      <td>AA</td>\n",
       "      <td>AA</td>\n",
       "    </tr>\n",
       "    <tr>\n",
       "      <th>20</th>\n",
       "      <td>29</td>\n",
       "      <td>0</td>\n",
       "      <td>1</td>\n",
       "      <td>20</td>\n",
       "      <td>NA</td>\n",
       "      <td>NA</td>\n",
       "      <td>NA</td>\n",
       "      <td>NA</td>\n",
       "      <td>NA</td>\n",
       "      <td>NA</td>\n",
       "      <td>...</td>\n",
       "      <td>GG</td>\n",
       "      <td>AG</td>\n",
       "      <td>AG</td>\n",
       "      <td>AG</td>\n",
       "      <td>AG</td>\n",
       "      <td>AG</td>\n",
       "      <td>GG</td>\n",
       "      <td>AA</td>\n",
       "      <td>AA</td>\n",
       "      <td>AA</td>\n",
       "    </tr>\n",
       "    <tr>\n",
       "      <th>21</th>\n",
       "      <td>30</td>\n",
       "      <td>0</td>\n",
       "      <td>1</td>\n",
       "      <td>21</td>\n",
       "      <td>NA</td>\n",
       "      <td>NA</td>\n",
       "      <td>NA</td>\n",
       "      <td>NA</td>\n",
       "      <td>NA</td>\n",
       "      <td>NA</td>\n",
       "      <td>...</td>\n",
       "      <td>AG</td>\n",
       "      <td>AG</td>\n",
       "      <td>GG</td>\n",
       "      <td>GG</td>\n",
       "      <td>GG</td>\n",
       "      <td>GG</td>\n",
       "      <td>AG</td>\n",
       "      <td>GG</td>\n",
       "      <td>GG</td>\n",
       "      <td>GG</td>\n",
       "    </tr>\n",
       "    <tr>\n",
       "      <th>22</th>\n",
       "      <td>31</td>\n",
       "      <td>1</td>\n",
       "      <td>1</td>\n",
       "      <td>22</td>\n",
       "      <td>NA</td>\n",
       "      <td>NA</td>\n",
       "      <td>NA</td>\n",
       "      <td>NA</td>\n",
       "      <td>NA</td>\n",
       "      <td>NA</td>\n",
       "      <td>...</td>\n",
       "      <td>AC</td>\n",
       "      <td>AC</td>\n",
       "      <td>AC</td>\n",
       "      <td>AA</td>\n",
       "      <td>AA</td>\n",
       "      <td>AA</td>\n",
       "      <td>AC</td>\n",
       "      <td>AA</td>\n",
       "      <td>AA</td>\n",
       "      <td>AA</td>\n",
       "    </tr>\n",
       "    <tr>\n",
       "      <th>23</th>\n",
       "      <td>32</td>\n",
       "      <td>1</td>\n",
       "      <td>1</td>\n",
       "      <td>23</td>\n",
       "      <td>NA</td>\n",
       "      <td>NA</td>\n",
       "      <td>NA</td>\n",
       "      <td>NA</td>\n",
       "      <td>NA</td>\n",
       "      <td>NA</td>\n",
       "      <td>...</td>\n",
       "      <td>TT</td>\n",
       "      <td>TT</td>\n",
       "      <td>TT</td>\n",
       "      <td>CT</td>\n",
       "      <td>TT</td>\n",
       "      <td>CT</td>\n",
       "      <td>TT</td>\n",
       "      <td>TT</td>\n",
       "      <td>TT</td>\n",
       "      <td>TT</td>\n",
       "    </tr>\n",
       "    <tr>\n",
       "      <th>24</th>\n",
       "      <td>34</td>\n",
       "      <td>3</td>\n",
       "      <td>1</td>\n",
       "      <td>24</td>\n",
       "      <td>NA</td>\n",
       "      <td>NA</td>\n",
       "      <td>NA</td>\n",
       "      <td>NA</td>\n",
       "      <td>NA</td>\n",
       "      <td>NA</td>\n",
       "      <td>...</td>\n",
       "      <td>CC</td>\n",
       "      <td>CC</td>\n",
       "      <td>CC</td>\n",
       "      <td>CT</td>\n",
       "      <td>CT</td>\n",
       "      <td>CC</td>\n",
       "      <td>CC</td>\n",
       "      <td>CC</td>\n",
       "      <td>CC</td>\n",
       "      <td>CT</td>\n",
       "    </tr>\n",
       "    <tr>\n",
       "      <th>25</th>\n",
       "      <td>36</td>\n",
       "      <td>3</td>\n",
       "      <td>1</td>\n",
       "      <td>25</td>\n",
       "      <td>NA</td>\n",
       "      <td>NA</td>\n",
       "      <td>NA</td>\n",
       "      <td>NA</td>\n",
       "      <td>NA</td>\n",
       "      <td>NA</td>\n",
       "      <td>...</td>\n",
       "      <td>TT</td>\n",
       "      <td>CC</td>\n",
       "      <td>CC</td>\n",
       "      <td>CT</td>\n",
       "      <td>CT</td>\n",
       "      <td>CC</td>\n",
       "      <td>CT</td>\n",
       "      <td>CC</td>\n",
       "      <td>TT</td>\n",
       "      <td>CT</td>\n",
       "    </tr>\n",
       "    <tr>\n",
       "      <th>26</th>\n",
       "      <td>37</td>\n",
       "      <td>1</td>\n",
       "      <td>1</td>\n",
       "      <td>26</td>\n",
       "      <td>NA</td>\n",
       "      <td>NA</td>\n",
       "      <td>NA</td>\n",
       "      <td>NA</td>\n",
       "      <td>NA</td>\n",
       "      <td>NA</td>\n",
       "      <td>...</td>\n",
       "      <td>TT</td>\n",
       "      <td>TT</td>\n",
       "      <td>TT</td>\n",
       "      <td>TT</td>\n",
       "      <td>TT</td>\n",
       "      <td>TT</td>\n",
       "      <td>TT</td>\n",
       "      <td>TT</td>\n",
       "      <td>TT</td>\n",
       "      <td>TT</td>\n",
       "    </tr>\n",
       "    <tr>\n",
       "      <th>27</th>\n",
       "      <td>38</td>\n",
       "      <td>4</td>\n",
       "      <td>1</td>\n",
       "      <td>27</td>\n",
       "      <td>NA</td>\n",
       "      <td>NA</td>\n",
       "      <td>NA</td>\n",
       "      <td>NA</td>\n",
       "      <td>NA</td>\n",
       "      <td>NA</td>\n",
       "      <td>...</td>\n",
       "      <td>++</td>\n",
       "      <td>+-</td>\n",
       "      <td>+-</td>\n",
       "      <td>++</td>\n",
       "      <td>+-</td>\n",
       "      <td>++</td>\n",
       "      <td>++</td>\n",
       "      <td>++</td>\n",
       "      <td>++</td>\n",
       "      <td>++</td>\n",
       "    </tr>\n",
       "    <tr>\n",
       "      <th>28</th>\n",
       "      <td>39</td>\n",
       "      <td>2</td>\n",
       "      <td>1</td>\n",
       "      <td>28</td>\n",
       "      <td>NA</td>\n",
       "      <td>NA</td>\n",
       "      <td>NA</td>\n",
       "      <td>NA</td>\n",
       "      <td>NA</td>\n",
       "      <td>NA</td>\n",
       "      <td>...</td>\n",
       "      <td>AA</td>\n",
       "      <td>AA</td>\n",
       "      <td>AG</td>\n",
       "      <td>AA</td>\n",
       "      <td>AA</td>\n",
       "      <td>AA</td>\n",
       "      <td>AA</td>\n",
       "      <td>AA</td>\n",
       "      <td>AA</td>\n",
       "      <td>AA</td>\n",
       "    </tr>\n",
       "    <tr>\n",
       "      <th>29</th>\n",
       "      <td>40</td>\n",
       "      <td>3</td>\n",
       "      <td>1</td>\n",
       "      <td>29</td>\n",
       "      <td>NA</td>\n",
       "      <td>NA</td>\n",
       "      <td>NA</td>\n",
       "      <td>NA</td>\n",
       "      <td>NA</td>\n",
       "      <td>NA</td>\n",
       "      <td>...</td>\n",
       "      <td>CC</td>\n",
       "      <td>CC</td>\n",
       "      <td>CC</td>\n",
       "      <td>CC</td>\n",
       "      <td>CT</td>\n",
       "      <td>CC</td>\n",
       "      <td>CC</td>\n",
       "      <td>CC</td>\n",
       "      <td>CC</td>\n",
       "      <td>CC</td>\n",
       "    </tr>\n",
       "    <tr>\n",
       "      <th>...</th>\n",
       "      <td>...</td>\n",
       "      <td>...</td>\n",
       "      <td>...</td>\n",
       "      <td>...</td>\n",
       "      <td>...</td>\n",
       "      <td>...</td>\n",
       "      <td>...</td>\n",
       "      <td>...</td>\n",
       "      <td>...</td>\n",
       "      <td>...</td>\n",
       "      <td>...</td>\n",
       "      <td>...</td>\n",
       "      <td>...</td>\n",
       "      <td>...</td>\n",
       "      <td>...</td>\n",
       "      <td>...</td>\n",
       "      <td>...</td>\n",
       "      <td>...</td>\n",
       "      <td>...</td>\n",
       "      <td>...</td>\n",
       "      <td>...</td>\n",
       "    </tr>\n",
       "    <tr>\n",
       "      <th>913</th>\n",
       "      <td>1433</td>\n",
       "      <td>2</td>\n",
       "      <td>10</td>\n",
       "      <td>913</td>\n",
       "      <td>NA</td>\n",
       "      <td>NA</td>\n",
       "      <td>NA</td>\n",
       "      <td>NA</td>\n",
       "      <td>NA</td>\n",
       "      <td>NA</td>\n",
       "      <td>...</td>\n",
       "      <td>AA</td>\n",
       "      <td>AA</td>\n",
       "      <td>AA</td>\n",
       "      <td>AG</td>\n",
       "      <td>AA</td>\n",
       "      <td>AA</td>\n",
       "      <td>AG</td>\n",
       "      <td>AA</td>\n",
       "      <td>AG</td>\n",
       "      <td>AA</td>\n",
       "    </tr>\n",
       "    <tr>\n",
       "      <th>914</th>\n",
       "      <td>1434</td>\n",
       "      <td>1</td>\n",
       "      <td>10</td>\n",
       "      <td>914</td>\n",
       "      <td>NA</td>\n",
       "      <td>NA</td>\n",
       "      <td>NA</td>\n",
       "      <td>NA</td>\n",
       "      <td>NA</td>\n",
       "      <td>NA</td>\n",
       "      <td>...</td>\n",
       "      <td>AC</td>\n",
       "      <td>AA</td>\n",
       "      <td>AA</td>\n",
       "      <td>AC</td>\n",
       "      <td>AA</td>\n",
       "      <td>AA</td>\n",
       "      <td>AC</td>\n",
       "      <td>AC</td>\n",
       "      <td>AC</td>\n",
       "      <td>CC</td>\n",
       "    </tr>\n",
       "    <tr>\n",
       "      <th>915</th>\n",
       "      <td>1438</td>\n",
       "      <td>0</td>\n",
       "      <td>10</td>\n",
       "      <td>915</td>\n",
       "      <td>NA</td>\n",
       "      <td>NA</td>\n",
       "      <td>NA</td>\n",
       "      <td>NA</td>\n",
       "      <td>NA</td>\n",
       "      <td>NA</td>\n",
       "      <td>...</td>\n",
       "      <td>AG</td>\n",
       "      <td>AG</td>\n",
       "      <td>AG</td>\n",
       "      <td>GG</td>\n",
       "      <td>GG</td>\n",
       "      <td>GG</td>\n",
       "      <td>GG</td>\n",
       "      <td>GG</td>\n",
       "      <td>GG</td>\n",
       "      <td>GG</td>\n",
       "    </tr>\n",
       "    <tr>\n",
       "      <th>916</th>\n",
       "      <td>1439</td>\n",
       "      <td>1</td>\n",
       "      <td>10</td>\n",
       "      <td>916</td>\n",
       "      <td>NA</td>\n",
       "      <td>NA</td>\n",
       "      <td>NA</td>\n",
       "      <td>NA</td>\n",
       "      <td>NA</td>\n",
       "      <td>NA</td>\n",
       "      <td>...</td>\n",
       "      <td>TT</td>\n",
       "      <td>TT</td>\n",
       "      <td>TT</td>\n",
       "      <td>TT</td>\n",
       "      <td>CT</td>\n",
       "      <td>CT</td>\n",
       "      <td>CT</td>\n",
       "      <td>CT</td>\n",
       "      <td>TT</td>\n",
       "      <td>TT</td>\n",
       "    </tr>\n",
       "    <tr>\n",
       "      <th>917</th>\n",
       "      <td>1440</td>\n",
       "      <td>3</td>\n",
       "      <td>10</td>\n",
       "      <td>917</td>\n",
       "      <td>NA</td>\n",
       "      <td>NA</td>\n",
       "      <td>NA</td>\n",
       "      <td>NA</td>\n",
       "      <td>NA</td>\n",
       "      <td>NA</td>\n",
       "      <td>...</td>\n",
       "      <td>TT</td>\n",
       "      <td>CT</td>\n",
       "      <td>CT</td>\n",
       "      <td>CC</td>\n",
       "      <td>CC</td>\n",
       "      <td>CC</td>\n",
       "      <td>CC</td>\n",
       "      <td>CC</td>\n",
       "      <td>CC</td>\n",
       "      <td>CT</td>\n",
       "    </tr>\n",
       "    <tr>\n",
       "      <th>918</th>\n",
       "      <td>1442</td>\n",
       "      <td>2</td>\n",
       "      <td>10</td>\n",
       "      <td>918</td>\n",
       "      <td>NA</td>\n",
       "      <td>NA</td>\n",
       "      <td>NA</td>\n",
       "      <td>NA</td>\n",
       "      <td>NA</td>\n",
       "      <td>NA</td>\n",
       "      <td>...</td>\n",
       "      <td>AA</td>\n",
       "      <td>AG</td>\n",
       "      <td>AG</td>\n",
       "      <td>AA</td>\n",
       "      <td>GG</td>\n",
       "      <td>AG</td>\n",
       "      <td>AG</td>\n",
       "      <td>AG</td>\n",
       "      <td>GG</td>\n",
       "      <td>AG</td>\n",
       "    </tr>\n",
       "    <tr>\n",
       "      <th>919</th>\n",
       "      <td>1444</td>\n",
       "      <td>4</td>\n",
       "      <td>10</td>\n",
       "      <td>919</td>\n",
       "      <td>NA</td>\n",
       "      <td>NA</td>\n",
       "      <td>NA</td>\n",
       "      <td>NA</td>\n",
       "      <td>NA</td>\n",
       "      <td>NA</td>\n",
       "      <td>...</td>\n",
       "      <td>+-</td>\n",
       "      <td>++</td>\n",
       "      <td>++</td>\n",
       "      <td>--</td>\n",
       "      <td>++</td>\n",
       "      <td>+-</td>\n",
       "      <td>+-</td>\n",
       "      <td>++</td>\n",
       "      <td>++</td>\n",
       "      <td>+-</td>\n",
       "    </tr>\n",
       "    <tr>\n",
       "      <th>920</th>\n",
       "      <td>1445</td>\n",
       "      <td>1</td>\n",
       "      <td>10</td>\n",
       "      <td>920</td>\n",
       "      <td>NA</td>\n",
       "      <td>NA</td>\n",
       "      <td>NA</td>\n",
       "      <td>NA</td>\n",
       "      <td>NA</td>\n",
       "      <td>NA</td>\n",
       "      <td>...</td>\n",
       "      <td>TT</td>\n",
       "      <td>CT</td>\n",
       "      <td>TT</td>\n",
       "      <td>CT</td>\n",
       "      <td>TT</td>\n",
       "      <td>CT</td>\n",
       "      <td>TT</td>\n",
       "      <td>TT</td>\n",
       "      <td>TT</td>\n",
       "      <td>TT</td>\n",
       "    </tr>\n",
       "    <tr>\n",
       "      <th>921</th>\n",
       "      <td>1446</td>\n",
       "      <td>1</td>\n",
       "      <td>10</td>\n",
       "      <td>921</td>\n",
       "      <td>NA</td>\n",
       "      <td>NA</td>\n",
       "      <td>NA</td>\n",
       "      <td>NA</td>\n",
       "      <td>NA</td>\n",
       "      <td>NA</td>\n",
       "      <td>...</td>\n",
       "      <td>TT</td>\n",
       "      <td>TT</td>\n",
       "      <td>TT</td>\n",
       "      <td>CT</td>\n",
       "      <td>CT</td>\n",
       "      <td>TT</td>\n",
       "      <td>CT</td>\n",
       "      <td>TT</td>\n",
       "      <td>CT</td>\n",
       "      <td>TT</td>\n",
       "    </tr>\n",
       "    <tr>\n",
       "      <th>922</th>\n",
       "      <td>1447</td>\n",
       "      <td>0</td>\n",
       "      <td>10</td>\n",
       "      <td>922</td>\n",
       "      <td>NA</td>\n",
       "      <td>NA</td>\n",
       "      <td>NA</td>\n",
       "      <td>NA</td>\n",
       "      <td>NA</td>\n",
       "      <td>NA</td>\n",
       "      <td>...</td>\n",
       "      <td>AG</td>\n",
       "      <td>GG</td>\n",
       "      <td>GG</td>\n",
       "      <td>GG</td>\n",
       "      <td>GG</td>\n",
       "      <td>GG</td>\n",
       "      <td>AG</td>\n",
       "      <td>GG</td>\n",
       "      <td>GG</td>\n",
       "      <td>AA</td>\n",
       "    </tr>\n",
       "    <tr>\n",
       "      <th>923</th>\n",
       "      <td>1448</td>\n",
       "      <td>0</td>\n",
       "      <td>10</td>\n",
       "      <td>923</td>\n",
       "      <td>NA</td>\n",
       "      <td>NA</td>\n",
       "      <td>NA</td>\n",
       "      <td>NA</td>\n",
       "      <td>NA</td>\n",
       "      <td>NA</td>\n",
       "      <td>...</td>\n",
       "      <td>TT</td>\n",
       "      <td>AT</td>\n",
       "      <td>AT</td>\n",
       "      <td>AT</td>\n",
       "      <td>AT</td>\n",
       "      <td>AA</td>\n",
       "      <td>TT</td>\n",
       "      <td>AA</td>\n",
       "      <td>AT</td>\n",
       "      <td>TT</td>\n",
       "    </tr>\n",
       "    <tr>\n",
       "      <th>924</th>\n",
       "      <td>1449</td>\n",
       "      <td>3</td>\n",
       "      <td>10</td>\n",
       "      <td>924</td>\n",
       "      <td>NA</td>\n",
       "      <td>NA</td>\n",
       "      <td>NA</td>\n",
       "      <td>NA</td>\n",
       "      <td>NA</td>\n",
       "      <td>NA</td>\n",
       "      <td>...</td>\n",
       "      <td>AT</td>\n",
       "      <td>AA</td>\n",
       "      <td>AA</td>\n",
       "      <td>AT</td>\n",
       "      <td>AT</td>\n",
       "      <td>AA</td>\n",
       "      <td>AT</td>\n",
       "      <td>AA</td>\n",
       "      <td>AT</td>\n",
       "      <td>AA</td>\n",
       "    </tr>\n",
       "    <tr>\n",
       "      <th>925</th>\n",
       "      <td>1450</td>\n",
       "      <td>2</td>\n",
       "      <td>10</td>\n",
       "      <td>925</td>\n",
       "      <td>NA</td>\n",
       "      <td>NA</td>\n",
       "      <td>NA</td>\n",
       "      <td>NA</td>\n",
       "      <td>NA</td>\n",
       "      <td>NA</td>\n",
       "      <td>...</td>\n",
       "      <td>AA</td>\n",
       "      <td>AG</td>\n",
       "      <td>AG</td>\n",
       "      <td>AA</td>\n",
       "      <td>AA</td>\n",
       "      <td>AA</td>\n",
       "      <td>AG</td>\n",
       "      <td>AG</td>\n",
       "      <td>AG</td>\n",
       "      <td>AA</td>\n",
       "    </tr>\n",
       "    <tr>\n",
       "      <th>926</th>\n",
       "      <td>1454</td>\n",
       "      <td>1</td>\n",
       "      <td>10</td>\n",
       "      <td>926</td>\n",
       "      <td>NA</td>\n",
       "      <td>NA</td>\n",
       "      <td>NA</td>\n",
       "      <td>NA</td>\n",
       "      <td>NA</td>\n",
       "      <td>NA</td>\n",
       "      <td>...</td>\n",
       "      <td>CT</td>\n",
       "      <td>TT</td>\n",
       "      <td>CT</td>\n",
       "      <td>TT</td>\n",
       "      <td>TT</td>\n",
       "      <td>TT</td>\n",
       "      <td>TT</td>\n",
       "      <td>TT</td>\n",
       "      <td>CT</td>\n",
       "      <td>CT</td>\n",
       "    </tr>\n",
       "    <tr>\n",
       "      <th>927</th>\n",
       "      <td>1455</td>\n",
       "      <td>2</td>\n",
       "      <td>10</td>\n",
       "      <td>927</td>\n",
       "      <td>NA</td>\n",
       "      <td>NA</td>\n",
       "      <td>NA</td>\n",
       "      <td>NA</td>\n",
       "      <td>NA</td>\n",
       "      <td>NA</td>\n",
       "      <td>...</td>\n",
       "      <td>TT</td>\n",
       "      <td>GT</td>\n",
       "      <td>TT</td>\n",
       "      <td>GT</td>\n",
       "      <td>GT</td>\n",
       "      <td>GT</td>\n",
       "      <td>GT</td>\n",
       "      <td>TT</td>\n",
       "      <td>TT</td>\n",
       "      <td>GG</td>\n",
       "    </tr>\n",
       "    <tr>\n",
       "      <th>928</th>\n",
       "      <td>1456</td>\n",
       "      <td>2</td>\n",
       "      <td>10</td>\n",
       "      <td>928</td>\n",
       "      <td>NA</td>\n",
       "      <td>NA</td>\n",
       "      <td>NA</td>\n",
       "      <td>NA</td>\n",
       "      <td>NA</td>\n",
       "      <td>NA</td>\n",
       "      <td>...</td>\n",
       "      <td>AA</td>\n",
       "      <td>AA</td>\n",
       "      <td>AA</td>\n",
       "      <td>AA</td>\n",
       "      <td>AA</td>\n",
       "      <td>AA</td>\n",
       "      <td>AA</td>\n",
       "      <td>AA</td>\n",
       "      <td>AA</td>\n",
       "      <td>AA</td>\n",
       "    </tr>\n",
       "    <tr>\n",
       "      <th>929</th>\n",
       "      <td>1457</td>\n",
       "      <td>0</td>\n",
       "      <td>10</td>\n",
       "      <td>929</td>\n",
       "      <td>NA</td>\n",
       "      <td>NA</td>\n",
       "      <td>NA</td>\n",
       "      <td>NA</td>\n",
       "      <td>NA</td>\n",
       "      <td>NA</td>\n",
       "      <td>...</td>\n",
       "      <td>GG</td>\n",
       "      <td>GG</td>\n",
       "      <td>GG</td>\n",
       "      <td>GG</td>\n",
       "      <td>AG</td>\n",
       "      <td>GG</td>\n",
       "      <td>GG</td>\n",
       "      <td>GG</td>\n",
       "      <td>GG</td>\n",
       "      <td>AG</td>\n",
       "    </tr>\n",
       "    <tr>\n",
       "      <th>930</th>\n",
       "      <td>1458</td>\n",
       "      <td>1</td>\n",
       "      <td>10</td>\n",
       "      <td>930</td>\n",
       "      <td>NA</td>\n",
       "      <td>NA</td>\n",
       "      <td>NA</td>\n",
       "      <td>NA</td>\n",
       "      <td>NA</td>\n",
       "      <td>NA</td>\n",
       "      <td>...</td>\n",
       "      <td>AC</td>\n",
       "      <td>AA</td>\n",
       "      <td>AC</td>\n",
       "      <td>AA</td>\n",
       "      <td>CC</td>\n",
       "      <td>AC</td>\n",
       "      <td>AC</td>\n",
       "      <td>AA</td>\n",
       "      <td>AC</td>\n",
       "      <td>CC</td>\n",
       "    </tr>\n",
       "    <tr>\n",
       "      <th>931</th>\n",
       "      <td>1460</td>\n",
       "      <td>0</td>\n",
       "      <td>10</td>\n",
       "      <td>931</td>\n",
       "      <td>NA</td>\n",
       "      <td>NA</td>\n",
       "      <td>NA</td>\n",
       "      <td>NA</td>\n",
       "      <td>NA</td>\n",
       "      <td>NA</td>\n",
       "      <td>...</td>\n",
       "      <td>TT</td>\n",
       "      <td>TT</td>\n",
       "      <td>TT</td>\n",
       "      <td>TT</td>\n",
       "      <td>TT</td>\n",
       "      <td>TT</td>\n",
       "      <td>TT</td>\n",
       "      <td>TT</td>\n",
       "      <td>TT</td>\n",
       "      <td>TT</td>\n",
       "    </tr>\n",
       "    <tr>\n",
       "      <th>932</th>\n",
       "      <td>1461</td>\n",
       "      <td>1</td>\n",
       "      <td>10</td>\n",
       "      <td>932</td>\n",
       "      <td>NA</td>\n",
       "      <td>NA</td>\n",
       "      <td>NA</td>\n",
       "      <td>NA</td>\n",
       "      <td>NA</td>\n",
       "      <td>NA</td>\n",
       "      <td>...</td>\n",
       "      <td>GG</td>\n",
       "      <td>GG</td>\n",
       "      <td>GG</td>\n",
       "      <td>GG</td>\n",
       "      <td>GG</td>\n",
       "      <td>GG</td>\n",
       "      <td>GG</td>\n",
       "      <td>GG</td>\n",
       "      <td>GG</td>\n",
       "      <td>GG</td>\n",
       "    </tr>\n",
       "    <tr>\n",
       "      <th>933</th>\n",
       "      <td>1462</td>\n",
       "      <td>3</td>\n",
       "      <td>10</td>\n",
       "      <td>933</td>\n",
       "      <td>NA</td>\n",
       "      <td>NA</td>\n",
       "      <td>NA</td>\n",
       "      <td>NA</td>\n",
       "      <td>NA</td>\n",
       "      <td>NA</td>\n",
       "      <td>...</td>\n",
       "      <td>CC</td>\n",
       "      <td>CC</td>\n",
       "      <td>CC</td>\n",
       "      <td>CC</td>\n",
       "      <td>CT</td>\n",
       "      <td>CC</td>\n",
       "      <td>CC</td>\n",
       "      <td>CC</td>\n",
       "      <td>CC</td>\n",
       "      <td>CC</td>\n",
       "    </tr>\n",
       "    <tr>\n",
       "      <th>934</th>\n",
       "      <td>1463</td>\n",
       "      <td>3</td>\n",
       "      <td>10</td>\n",
       "      <td>934</td>\n",
       "      <td>NA</td>\n",
       "      <td>NA</td>\n",
       "      <td>NA</td>\n",
       "      <td>NA</td>\n",
       "      <td>NA</td>\n",
       "      <td>NA</td>\n",
       "      <td>...</td>\n",
       "      <td>CC</td>\n",
       "      <td>CT</td>\n",
       "      <td>CT</td>\n",
       "      <td>CC</td>\n",
       "      <td>CT</td>\n",
       "      <td>CT</td>\n",
       "      <td>CC</td>\n",
       "      <td>CT</td>\n",
       "      <td>CT</td>\n",
       "      <td>CC</td>\n",
       "    </tr>\n",
       "    <tr>\n",
       "      <th>935</th>\n",
       "      <td>1465</td>\n",
       "      <td>0</td>\n",
       "      <td>10</td>\n",
       "      <td>935</td>\n",
       "      <td>NA</td>\n",
       "      <td>NA</td>\n",
       "      <td>NA</td>\n",
       "      <td>NA</td>\n",
       "      <td>NA</td>\n",
       "      <td>NA</td>\n",
       "      <td>...</td>\n",
       "      <td>GG</td>\n",
       "      <td>GG</td>\n",
       "      <td>AG</td>\n",
       "      <td>GG</td>\n",
       "      <td>GG</td>\n",
       "      <td>AG</td>\n",
       "      <td>GG</td>\n",
       "      <td>AG</td>\n",
       "      <td>GG</td>\n",
       "      <td>GG</td>\n",
       "    </tr>\n",
       "    <tr>\n",
       "      <th>936</th>\n",
       "      <td>1468</td>\n",
       "      <td>0</td>\n",
       "      <td>10</td>\n",
       "      <td>936</td>\n",
       "      <td>NA</td>\n",
       "      <td>NA</td>\n",
       "      <td>NA</td>\n",
       "      <td>NA</td>\n",
       "      <td>NA</td>\n",
       "      <td>NA</td>\n",
       "      <td>...</td>\n",
       "      <td>GG</td>\n",
       "      <td>GG</td>\n",
       "      <td>GG</td>\n",
       "      <td>AG</td>\n",
       "      <td>GG</td>\n",
       "      <td>AG</td>\n",
       "      <td>GG</td>\n",
       "      <td>AG</td>\n",
       "      <td>AG</td>\n",
       "      <td>AG</td>\n",
       "    </tr>\n",
       "    <tr>\n",
       "      <th>937</th>\n",
       "      <td>1470</td>\n",
       "      <td>0</td>\n",
       "      <td>10</td>\n",
       "      <td>937</td>\n",
       "      <td>NA</td>\n",
       "      <td>NA</td>\n",
       "      <td>NA</td>\n",
       "      <td>NA</td>\n",
       "      <td>NA</td>\n",
       "      <td>NA</td>\n",
       "      <td>...</td>\n",
       "      <td>GG</td>\n",
       "      <td>GG</td>\n",
       "      <td>AG</td>\n",
       "      <td>AG</td>\n",
       "      <td>AG</td>\n",
       "      <td>AG</td>\n",
       "      <td>GG</td>\n",
       "      <td>GG</td>\n",
       "      <td>GG</td>\n",
       "      <td>AG</td>\n",
       "    </tr>\n",
       "    <tr>\n",
       "      <th>938</th>\n",
       "      <td>1472</td>\n",
       "      <td>0</td>\n",
       "      <td>10</td>\n",
       "      <td>938</td>\n",
       "      <td>NA</td>\n",
       "      <td>NA</td>\n",
       "      <td>NA</td>\n",
       "      <td>NA</td>\n",
       "      <td>NA</td>\n",
       "      <td>NA</td>\n",
       "      <td>...</td>\n",
       "      <td>CC</td>\n",
       "      <td>AC</td>\n",
       "      <td>CC</td>\n",
       "      <td>CC</td>\n",
       "      <td>AC</td>\n",
       "      <td>CC</td>\n",
       "      <td>CC</td>\n",
       "      <td>CC</td>\n",
       "      <td>CC</td>\n",
       "      <td>CC</td>\n",
       "    </tr>\n",
       "    <tr>\n",
       "      <th>939</th>\n",
       "      <td>1473</td>\n",
       "      <td>1</td>\n",
       "      <td>10</td>\n",
       "      <td>939</td>\n",
       "      <td>NA</td>\n",
       "      <td>NA</td>\n",
       "      <td>NA</td>\n",
       "      <td>NA</td>\n",
       "      <td>NA</td>\n",
       "      <td>NA</td>\n",
       "      <td>...</td>\n",
       "      <td>AA</td>\n",
       "      <td>AA</td>\n",
       "      <td>AC</td>\n",
       "      <td>AA</td>\n",
       "      <td>AA</td>\n",
       "      <td>AA</td>\n",
       "      <td>AA</td>\n",
       "      <td>AA</td>\n",
       "      <td>AA</td>\n",
       "      <td>AC</td>\n",
       "    </tr>\n",
       "    <tr>\n",
       "      <th>940</th>\n",
       "      <td>1474</td>\n",
       "      <td>2</td>\n",
       "      <td>10</td>\n",
       "      <td>940</td>\n",
       "      <td>NA</td>\n",
       "      <td>NA</td>\n",
       "      <td>NA</td>\n",
       "      <td>NA</td>\n",
       "      <td>NA</td>\n",
       "      <td>NA</td>\n",
       "      <td>...</td>\n",
       "      <td>AA</td>\n",
       "      <td>AA</td>\n",
       "      <td>AG</td>\n",
       "      <td>AA</td>\n",
       "      <td>AG</td>\n",
       "      <td>AG</td>\n",
       "      <td>GG</td>\n",
       "      <td>AG</td>\n",
       "      <td>AG</td>\n",
       "      <td>AA</td>\n",
       "    </tr>\n",
       "    <tr>\n",
       "      <th>941</th>\n",
       "      <td>1475</td>\n",
       "      <td>0</td>\n",
       "      <td>10</td>\n",
       "      <td>941</td>\n",
       "      <td>NA</td>\n",
       "      <td>NA</td>\n",
       "      <td>NA</td>\n",
       "      <td>NA</td>\n",
       "      <td>NA</td>\n",
       "      <td>NA</td>\n",
       "      <td>...</td>\n",
       "      <td>CC</td>\n",
       "      <td>CC</td>\n",
       "      <td>CC</td>\n",
       "      <td>CC</td>\n",
       "      <td>AC</td>\n",
       "      <td>AA</td>\n",
       "      <td>CC</td>\n",
       "      <td>CC</td>\n",
       "      <td>CC</td>\n",
       "      <td>CC</td>\n",
       "    </tr>\n",
       "    <tr>\n",
       "      <th>942</th>\n",
       "      <td>1476</td>\n",
       "      <td>0</td>\n",
       "      <td>10</td>\n",
       "      <td>942</td>\n",
       "      <td>NA</td>\n",
       "      <td>NA</td>\n",
       "      <td>NA</td>\n",
       "      <td>NA</td>\n",
       "      <td>NA</td>\n",
       "      <td>NA</td>\n",
       "      <td>...</td>\n",
       "      <td>TT</td>\n",
       "      <td>TT</td>\n",
       "      <td>TT</td>\n",
       "      <td>TT</td>\n",
       "      <td>TT</td>\n",
       "      <td>AT</td>\n",
       "      <td>TT</td>\n",
       "      <td>TT</td>\n",
       "      <td>AT</td>\n",
       "      <td>TT</td>\n",
       "    </tr>\n",
       "  </tbody>\n",
       "</table>\n",
       "<p>943 rows × 211 columns</p>\n",
       "</div>"
      ],
      "text/plain": [
       "       rs  alleles  chrom  pos strand assembly center protLSID assayLSID  \\\n",
       "0       1        3      1    0     NA       NA     NA       NA        NA   \n",
       "1       2        1      1    1     NA       NA     NA       NA        NA   \n",
       "2       3        2      1    2     NA       NA     NA       NA        NA   \n",
       "3       4        0      1    3     NA       NA     NA       NA        NA   \n",
       "4       5        2      1    4     NA       NA     NA       NA        NA   \n",
       "5       6        2      1    5     NA       NA     NA       NA        NA   \n",
       "6       8        2      1    6     NA       NA     NA       NA        NA   \n",
       "7      10        3      1    7     NA       NA     NA       NA        NA   \n",
       "8      12        1      1    8     NA       NA     NA       NA        NA   \n",
       "9      13        0      1    9     NA       NA     NA       NA        NA   \n",
       "10     14        0      1   10     NA       NA     NA       NA        NA   \n",
       "11     15        1      1   11     NA       NA     NA       NA        NA   \n",
       "12     16        3      1   12     NA       NA     NA       NA        NA   \n",
       "13     20        0      1   13     NA       NA     NA       NA        NA   \n",
       "14     21        1      1   14     NA       NA     NA       NA        NA   \n",
       "15     23        5      1   15     NA       NA     NA       NA        NA   \n",
       "16     24        3      1   16     NA       NA     NA       NA        NA   \n",
       "17     25        0      1   17     NA       NA     NA       NA        NA   \n",
       "18     26        0      1   18     NA       NA     NA       NA        NA   \n",
       "19     27        1      1   19     NA       NA     NA       NA        NA   \n",
       "20     29        0      1   20     NA       NA     NA       NA        NA   \n",
       "21     30        0      1   21     NA       NA     NA       NA        NA   \n",
       "22     31        1      1   22     NA       NA     NA       NA        NA   \n",
       "23     32        1      1   23     NA       NA     NA       NA        NA   \n",
       "24     34        3      1   24     NA       NA     NA       NA        NA   \n",
       "25     36        3      1   25     NA       NA     NA       NA        NA   \n",
       "26     37        1      1   26     NA       NA     NA       NA        NA   \n",
       "27     38        4      1   27     NA       NA     NA       NA        NA   \n",
       "28     39        2      1   28     NA       NA     NA       NA        NA   \n",
       "29     40        3      1   29     NA       NA     NA       NA        NA   \n",
       "..    ...      ...    ...  ...    ...      ...    ...      ...       ...   \n",
       "913  1433        2     10  913     NA       NA     NA       NA        NA   \n",
       "914  1434        1     10  914     NA       NA     NA       NA        NA   \n",
       "915  1438        0     10  915     NA       NA     NA       NA        NA   \n",
       "916  1439        1     10  916     NA       NA     NA       NA        NA   \n",
       "917  1440        3     10  917     NA       NA     NA       NA        NA   \n",
       "918  1442        2     10  918     NA       NA     NA       NA        NA   \n",
       "919  1444        4     10  919     NA       NA     NA       NA        NA   \n",
       "920  1445        1     10  920     NA       NA     NA       NA        NA   \n",
       "921  1446        1     10  921     NA       NA     NA       NA        NA   \n",
       "922  1447        0     10  922     NA       NA     NA       NA        NA   \n",
       "923  1448        0     10  923     NA       NA     NA       NA        NA   \n",
       "924  1449        3     10  924     NA       NA     NA       NA        NA   \n",
       "925  1450        2     10  925     NA       NA     NA       NA        NA   \n",
       "926  1454        1     10  926     NA       NA     NA       NA        NA   \n",
       "927  1455        2     10  927     NA       NA     NA       NA        NA   \n",
       "928  1456        2     10  928     NA       NA     NA       NA        NA   \n",
       "929  1457        0     10  929     NA       NA     NA       NA        NA   \n",
       "930  1458        1     10  930     NA       NA     NA       NA        NA   \n",
       "931  1460        0     10  931     NA       NA     NA       NA        NA   \n",
       "932  1461        1     10  932     NA       NA     NA       NA        NA   \n",
       "933  1462        3     10  933     NA       NA     NA       NA        NA   \n",
       "934  1463        3     10  934     NA       NA     NA       NA        NA   \n",
       "935  1465        0     10  935     NA       NA     NA       NA        NA   \n",
       "936  1468        0     10  936     NA       NA     NA       NA        NA   \n",
       "937  1470        0     10  937     NA       NA     NA       NA        NA   \n",
       "938  1472        0     10  938     NA       NA     NA       NA        NA   \n",
       "939  1473        1     10  939     NA       NA     NA       NA        NA   \n",
       "940  1474        2     10  940     NA       NA     NA       NA        NA   \n",
       "941  1475        0     10  941     NA       NA     NA       NA        NA   \n",
       "942  1476        0     10  942     NA       NA     NA       NA        NA   \n",
       "\n",
       "    panelLSID   ...   I241711 I241823 I241901 I241907 I241919 I241922 I241950  \\\n",
       "0          NA   ...        CC      CC      CC      CC      CC      CC      CC   \n",
       "1          NA   ...        CT      TT      TT      TT      TT      TT      TT   \n",
       "2          NA   ...        AA      AA      AA      AA      AG      AG      AA   \n",
       "3          NA   ...        GG      GG      AG      GG      GG      AG      AG   \n",
       "4          NA   ...        AA      AA      AG      AG      AG      AG      AG   \n",
       "5          NA   ...        AA      AG      AA      AA      AA      AA      AA   \n",
       "6          NA   ...        AA      AA      AA      AA      AA      AG      AA   \n",
       "7          NA   ...        TT      CT      CT      TT      CT      CT      CT   \n",
       "8          NA   ...        CC      TT      CC      CC      TT      TT      TT   \n",
       "9          NA   ...        GG      AG      GG      GG      GG      GG      GG   \n",
       "10         NA   ...        TT      TT      TT      TT      AT      AT      AT   \n",
       "11         NA   ...        CT      TT      CT      CT      TT      CT      TT   \n",
       "12         NA   ...        GG      GT      GG      GG      GT      GG      GT   \n",
       "13         NA   ...        AT      AA      AT      TT      AT      AT      AT   \n",
       "14         NA   ...        GG      GG      GG      GG      GG      GG      GG   \n",
       "15         NA   ...        --      --      +-      --      --      +-      --   \n",
       "16         NA   ...        CC      CC      CT      CC      CC      CC      CC   \n",
       "17         NA   ...        AG      GG      GG      AG      AA      AG      AG   \n",
       "18         NA   ...        TT      TT      TT      TT      TT      TT      TT   \n",
       "19         NA   ...        AC      AA      AA      AA      AA      AA      AA   \n",
       "20         NA   ...        GG      AG      AG      AG      AG      AG      GG   \n",
       "21         NA   ...        AG      AG      GG      GG      GG      GG      AG   \n",
       "22         NA   ...        AC      AC      AC      AA      AA      AA      AC   \n",
       "23         NA   ...        TT      TT      TT      CT      TT      CT      TT   \n",
       "24         NA   ...        CC      CC      CC      CT      CT      CC      CC   \n",
       "25         NA   ...        TT      CC      CC      CT      CT      CC      CT   \n",
       "26         NA   ...        TT      TT      TT      TT      TT      TT      TT   \n",
       "27         NA   ...        ++      +-      +-      ++      +-      ++      ++   \n",
       "28         NA   ...        AA      AA      AG      AA      AA      AA      AA   \n",
       "29         NA   ...        CC      CC      CC      CC      CT      CC      CC   \n",
       "..        ...   ...       ...     ...     ...     ...     ...     ...     ...   \n",
       "913        NA   ...        AA      AA      AA      AG      AA      AA      AG   \n",
       "914        NA   ...        AC      AA      AA      AC      AA      AA      AC   \n",
       "915        NA   ...        AG      AG      AG      GG      GG      GG      GG   \n",
       "916        NA   ...        TT      TT      TT      TT      CT      CT      CT   \n",
       "917        NA   ...        TT      CT      CT      CC      CC      CC      CC   \n",
       "918        NA   ...        AA      AG      AG      AA      GG      AG      AG   \n",
       "919        NA   ...        +-      ++      ++      --      ++      +-      +-   \n",
       "920        NA   ...        TT      CT      TT      CT      TT      CT      TT   \n",
       "921        NA   ...        TT      TT      TT      CT      CT      TT      CT   \n",
       "922        NA   ...        AG      GG      GG      GG      GG      GG      AG   \n",
       "923        NA   ...        TT      AT      AT      AT      AT      AA      TT   \n",
       "924        NA   ...        AT      AA      AA      AT      AT      AA      AT   \n",
       "925        NA   ...        AA      AG      AG      AA      AA      AA      AG   \n",
       "926        NA   ...        CT      TT      CT      TT      TT      TT      TT   \n",
       "927        NA   ...        TT      GT      TT      GT      GT      GT      GT   \n",
       "928        NA   ...        AA      AA      AA      AA      AA      AA      AA   \n",
       "929        NA   ...        GG      GG      GG      GG      AG      GG      GG   \n",
       "930        NA   ...        AC      AA      AC      AA      CC      AC      AC   \n",
       "931        NA   ...        TT      TT      TT      TT      TT      TT      TT   \n",
       "932        NA   ...        GG      GG      GG      GG      GG      GG      GG   \n",
       "933        NA   ...        CC      CC      CC      CC      CT      CC      CC   \n",
       "934        NA   ...        CC      CT      CT      CC      CT      CT      CC   \n",
       "935        NA   ...        GG      GG      AG      GG      GG      AG      GG   \n",
       "936        NA   ...        GG      GG      GG      AG      GG      AG      GG   \n",
       "937        NA   ...        GG      GG      AG      AG      AG      AG      GG   \n",
       "938        NA   ...        CC      AC      CC      CC      AC      CC      CC   \n",
       "939        NA   ...        AA      AA      AC      AA      AA      AA      AA   \n",
       "940        NA   ...        AA      AA      AG      AA      AG      AG      GG   \n",
       "941        NA   ...        CC      CC      CC      CC      AC      AA      CC   \n",
       "942        NA   ...        TT      TT      TT      TT      TT      AT      TT   \n",
       "\n",
       "    I241966 I241995 I242019  \n",
       "0        CC      CT      CC  \n",
       "1        TT      TT      TT  \n",
       "2        AA      AA      AA  \n",
       "3        GG      GG      GG  \n",
       "4        AA      AA      GG  \n",
       "5        AA      AG      AA  \n",
       "6        AA      AA      AA  \n",
       "7        CT      CC      CC  \n",
       "8        TT      TT      TT  \n",
       "9        AG      AG      GG  \n",
       "10       AT      TT      TT  \n",
       "11       TT      TT      TT  \n",
       "12       GG      GT      GT  \n",
       "13       TT      AT      TT  \n",
       "14       GG      GG      CG  \n",
       "15       +-      --      +-  \n",
       "16       CC      CC      CC  \n",
       "17       GG      GG      GG  \n",
       "18       TT      TT      TT  \n",
       "19       AA      AA      AA  \n",
       "20       AA      AA      AA  \n",
       "21       GG      GG      GG  \n",
       "22       AA      AA      AA  \n",
       "23       TT      TT      TT  \n",
       "24       CC      CC      CT  \n",
       "25       CC      TT      CT  \n",
       "26       TT      TT      TT  \n",
       "27       ++      ++      ++  \n",
       "28       AA      AA      AA  \n",
       "29       CC      CC      CC  \n",
       "..      ...     ...     ...  \n",
       "913      AA      AG      AA  \n",
       "914      AC      AC      CC  \n",
       "915      GG      GG      GG  \n",
       "916      CT      TT      TT  \n",
       "917      CC      CC      CT  \n",
       "918      AG      GG      AG  \n",
       "919      ++      ++      +-  \n",
       "920      TT      TT      TT  \n",
       "921      TT      CT      TT  \n",
       "922      GG      GG      AA  \n",
       "923      AA      AT      TT  \n",
       "924      AA      AT      AA  \n",
       "925      AG      AG      AA  \n",
       "926      TT      CT      CT  \n",
       "927      TT      TT      GG  \n",
       "928      AA      AA      AA  \n",
       "929      GG      GG      AG  \n",
       "930      AA      AC      CC  \n",
       "931      TT      TT      TT  \n",
       "932      GG      GG      GG  \n",
       "933      CC      CC      CC  \n",
       "934      CT      CT      CC  \n",
       "935      AG      GG      GG  \n",
       "936      AG      AG      AG  \n",
       "937      GG      GG      AG  \n",
       "938      CC      CC      CC  \n",
       "939      AA      AA      AC  \n",
       "940      AG      AG      AA  \n",
       "941      CC      CC      CC  \n",
       "942      TT      AT      TT  \n",
       "\n",
       "[943 rows x 211 columns]"
      ]
     },
     "execution_count": 49,
     "metadata": {},
     "output_type": "execute_result"
    }
   ],
   "source": [
    "hm"
   ]
  },
  {
   "cell_type": "code",
   "execution_count": 50,
   "metadata": {
    "collapsed": true
   },
   "outputs": [],
   "source": [
    "km = gwas.calc_kinship_matrix(cm)"
   ]
  },
  {
   "cell_type": "code",
   "execution_count": 51,
   "metadata": {
    "collapsed": true
   },
   "outputs": [
    {
     "data": {
      "text/html": [
       "<div>\n",
       "<style>\n",
       "    .dataframe thead tr:only-child th {\n",
       "        text-align: right;\n",
       "    }\n",
       "\n",
       "    .dataframe thead th {\n",
       "        text-align: left;\n",
       "    }\n",
       "\n",
       "    .dataframe tbody tr th {\n",
       "        vertical-align: top;\n",
       "    }\n",
       "</style>\n",
       "<table border=\"1\" class=\"dataframe\">\n",
       "  <thead>\n",
       "    <tr style=\"text-align: right;\">\n",
       "      <th></th>\n",
       "      <th>0</th>\n",
       "      <th>1</th>\n",
       "      <th>2</th>\n",
       "      <th>3</th>\n",
       "      <th>4</th>\n",
       "      <th>5</th>\n",
       "      <th>6</th>\n",
       "      <th>7</th>\n",
       "      <th>8</th>\n",
       "      <th>9</th>\n",
       "      <th>...</th>\n",
       "      <th>190</th>\n",
       "      <th>191</th>\n",
       "      <th>192</th>\n",
       "      <th>193</th>\n",
       "      <th>194</th>\n",
       "      <th>195</th>\n",
       "      <th>196</th>\n",
       "      <th>197</th>\n",
       "      <th>198</th>\n",
       "      <th>199</th>\n",
       "    </tr>\n",
       "  </thead>\n",
       "  <tbody>\n",
       "    <tr>\n",
       "      <th>I240040</th>\n",
       "      <td>1868.28755</td>\n",
       "      <td>1595.38255</td>\n",
       "      <td>1599.41255</td>\n",
       "      <td>1611.88755</td>\n",
       "      <td>1615.84255</td>\n",
       "      <td>1631.21255</td>\n",
       "      <td>1602.38755</td>\n",
       "      <td>1565.04755</td>\n",
       "      <td>1594.87755</td>\n",
       "      <td>1580.30755</td>\n",
       "      <td>...</td>\n",
       "      <td>1570.71755</td>\n",
       "      <td>1599.90755</td>\n",
       "      <td>1622.28755</td>\n",
       "      <td>1593.89255</td>\n",
       "      <td>1569.63255</td>\n",
       "      <td>1607.21755</td>\n",
       "      <td>1594.51255</td>\n",
       "      <td>1607.83255</td>\n",
       "      <td>1593.39755</td>\n",
       "      <td>1591.45255</td>\n",
       "    </tr>\n",
       "    <tr>\n",
       "      <th>I240056</th>\n",
       "      <td>1595.38255</td>\n",
       "      <td>1852.47755</td>\n",
       "      <td>1590.50755</td>\n",
       "      <td>1599.98255</td>\n",
       "      <td>1599.93755</td>\n",
       "      <td>1625.30755</td>\n",
       "      <td>1556.48255</td>\n",
       "      <td>1551.14255</td>\n",
       "      <td>1585.97255</td>\n",
       "      <td>1557.40255</td>\n",
       "      <td>...</td>\n",
       "      <td>1567.81255</td>\n",
       "      <td>1593.00255</td>\n",
       "      <td>1585.38255</td>\n",
       "      <td>1572.98755</td>\n",
       "      <td>1585.72755</td>\n",
       "      <td>1569.31255</td>\n",
       "      <td>1551.60755</td>\n",
       "      <td>1571.92755</td>\n",
       "      <td>1569.49255</td>\n",
       "      <td>1588.54755</td>\n",
       "    </tr>\n",
       "    <tr>\n",
       "      <th>I240136</th>\n",
       "      <td>1599.41255</td>\n",
       "      <td>1590.50755</td>\n",
       "      <td>1864.53755</td>\n",
       "      <td>1623.01255</td>\n",
       "      <td>1618.96755</td>\n",
       "      <td>1634.33755</td>\n",
       "      <td>1590.51255</td>\n",
       "      <td>1548.17255</td>\n",
       "      <td>1589.00255</td>\n",
       "      <td>1583.43255</td>\n",
       "      <td>...</td>\n",
       "      <td>1578.84255</td>\n",
       "      <td>1607.03255</td>\n",
       "      <td>1612.41255</td>\n",
       "      <td>1597.01755</td>\n",
       "      <td>1569.75755</td>\n",
       "      <td>1579.34255</td>\n",
       "      <td>1595.63755</td>\n",
       "      <td>1584.95755</td>\n",
       "      <td>1599.52255</td>\n",
       "      <td>1597.57755</td>\n",
       "    </tr>\n",
       "    <tr>\n",
       "      <th>I240163</th>\n",
       "      <td>1611.88755</td>\n",
       "      <td>1599.98255</td>\n",
       "      <td>1623.01255</td>\n",
       "      <td>1873.48755</td>\n",
       "      <td>1643.44255</td>\n",
       "      <td>1630.81255</td>\n",
       "      <td>1607.98755</td>\n",
       "      <td>1573.64755</td>\n",
       "      <td>1607.47755</td>\n",
       "      <td>1590.90755</td>\n",
       "      <td>...</td>\n",
       "      <td>1600.31755</td>\n",
       "      <td>1633.50755</td>\n",
       "      <td>1633.88755</td>\n",
       "      <td>1580.49255</td>\n",
       "      <td>1588.23255</td>\n",
       "      <td>1613.81755</td>\n",
       "      <td>1593.11255</td>\n",
       "      <td>1596.43255</td>\n",
       "      <td>1579.99755</td>\n",
       "      <td>1599.05255</td>\n",
       "    </tr>\n",
       "    <tr>\n",
       "      <th>I240182</th>\n",
       "      <td>1615.84255</td>\n",
       "      <td>1599.93755</td>\n",
       "      <td>1618.96755</td>\n",
       "      <td>1643.44255</td>\n",
       "      <td>1889.39755</td>\n",
       "      <td>1621.76755</td>\n",
       "      <td>1601.94255</td>\n",
       "      <td>1590.60255</td>\n",
       "      <td>1605.43255</td>\n",
       "      <td>1596.86255</td>\n",
       "      <td>...</td>\n",
       "      <td>1592.27255</td>\n",
       "      <td>1646.46255</td>\n",
       "      <td>1613.84255</td>\n",
       "      <td>1564.44755</td>\n",
       "      <td>1600.18755</td>\n",
       "      <td>1627.77255</td>\n",
       "      <td>1603.06755</td>\n",
       "      <td>1638.38755</td>\n",
       "      <td>1612.95255</td>\n",
       "      <td>1607.00755</td>\n",
       "    </tr>\n",
       "    <tr>\n",
       "      <th>I240223</th>\n",
       "      <td>1631.21255</td>\n",
       "      <td>1625.30755</td>\n",
       "      <td>1634.33755</td>\n",
       "      <td>1630.81255</td>\n",
       "      <td>1621.76755</td>\n",
       "      <td>1897.13755</td>\n",
       "      <td>1609.31255</td>\n",
       "      <td>1582.97255</td>\n",
       "      <td>1615.80255</td>\n",
       "      <td>1620.23255</td>\n",
       "      <td>...</td>\n",
       "      <td>1612.64255</td>\n",
       "      <td>1634.83255</td>\n",
       "      <td>1636.21255</td>\n",
       "      <td>1592.81755</td>\n",
       "      <td>1621.55755</td>\n",
       "      <td>1618.14255</td>\n",
       "      <td>1610.43755</td>\n",
       "      <td>1610.75755</td>\n",
       "      <td>1596.32255</td>\n",
       "      <td>1629.37755</td>\n",
       "    </tr>\n",
       "    <tr>\n",
       "      <th>I240227</th>\n",
       "      <td>1602.38755</td>\n",
       "      <td>1556.48255</td>\n",
       "      <td>1590.51255</td>\n",
       "      <td>1607.98755</td>\n",
       "      <td>1601.94255</td>\n",
       "      <td>1609.31255</td>\n",
       "      <td>1858.48755</td>\n",
       "      <td>1573.14755</td>\n",
       "      <td>1562.97755</td>\n",
       "      <td>1576.40755</td>\n",
       "      <td>...</td>\n",
       "      <td>1556.81755</td>\n",
       "      <td>1595.00755</td>\n",
       "      <td>1617.38755</td>\n",
       "      <td>1575.99255</td>\n",
       "      <td>1544.73255</td>\n",
       "      <td>1599.31755</td>\n",
       "      <td>1560.61255</td>\n",
       "      <td>1586.93255</td>\n",
       "      <td>1559.49755</td>\n",
       "      <td>1568.55255</td>\n",
       "    </tr>\n",
       "    <tr>\n",
       "      <th>I240275</th>\n",
       "      <td>1565.04755</td>\n",
       "      <td>1551.14255</td>\n",
       "      <td>1548.17255</td>\n",
       "      <td>1573.64755</td>\n",
       "      <td>1590.60255</td>\n",
       "      <td>1582.97255</td>\n",
       "      <td>1573.14755</td>\n",
       "      <td>1796.80755</td>\n",
       "      <td>1550.63755</td>\n",
       "      <td>1549.06755</td>\n",
       "      <td>...</td>\n",
       "      <td>1551.47755</td>\n",
       "      <td>1565.66755</td>\n",
       "      <td>1587.04755</td>\n",
       "      <td>1532.65255</td>\n",
       "      <td>1538.39255</td>\n",
       "      <td>1551.97755</td>\n",
       "      <td>1518.27255</td>\n",
       "      <td>1559.59255</td>\n",
       "      <td>1550.15755</td>\n",
       "      <td>1558.21255</td>\n",
       "    </tr>\n",
       "    <tr>\n",
       "      <th>I240304</th>\n",
       "      <td>1594.87755</td>\n",
       "      <td>1585.97255</td>\n",
       "      <td>1589.00255</td>\n",
       "      <td>1607.47755</td>\n",
       "      <td>1605.43255</td>\n",
       "      <td>1615.80255</td>\n",
       "      <td>1562.97755</td>\n",
       "      <td>1550.63755</td>\n",
       "      <td>1834.46755</td>\n",
       "      <td>1574.89755</td>\n",
       "      <td>...</td>\n",
       "      <td>1587.30755</td>\n",
       "      <td>1613.49755</td>\n",
       "      <td>1585.87755</td>\n",
       "      <td>1557.48255</td>\n",
       "      <td>1577.22255</td>\n",
       "      <td>1590.80755</td>\n",
       "      <td>1568.10255</td>\n",
       "      <td>1589.42255</td>\n",
       "      <td>1559.98755</td>\n",
       "      <td>1614.04255</td>\n",
       "    </tr>\n",
       "    <tr>\n",
       "      <th>I240325</th>\n",
       "      <td>1580.30755</td>\n",
       "      <td>1557.40255</td>\n",
       "      <td>1583.43255</td>\n",
       "      <td>1590.90755</td>\n",
       "      <td>1596.86255</td>\n",
       "      <td>1620.23255</td>\n",
       "      <td>1576.40755</td>\n",
       "      <td>1549.06755</td>\n",
       "      <td>1574.89755</td>\n",
       "      <td>1827.32755</td>\n",
       "      <td>...</td>\n",
       "      <td>1564.73755</td>\n",
       "      <td>1601.92755</td>\n",
       "      <td>1582.30755</td>\n",
       "      <td>1565.91255</td>\n",
       "      <td>1568.65255</td>\n",
       "      <td>1573.23755</td>\n",
       "      <td>1566.53255</td>\n",
       "      <td>1582.85255</td>\n",
       "      <td>1568.41755</td>\n",
       "      <td>1565.47255</td>\n",
       "    </tr>\n",
       "    <tr>\n",
       "      <th>I240359</th>\n",
       "      <td>1570.23755</td>\n",
       "      <td>1543.33255</td>\n",
       "      <td>1579.36255</td>\n",
       "      <td>1578.83755</td>\n",
       "      <td>1579.79255</td>\n",
       "      <td>1595.16255</td>\n",
       "      <td>1556.33755</td>\n",
       "      <td>1547.99755</td>\n",
       "      <td>1576.82755</td>\n",
       "      <td>1562.25755</td>\n",
       "      <td>...</td>\n",
       "      <td>1551.66755</td>\n",
       "      <td>1567.85755</td>\n",
       "      <td>1580.23755</td>\n",
       "      <td>1534.84255</td>\n",
       "      <td>1560.58255</td>\n",
       "      <td>1555.16755</td>\n",
       "      <td>1535.46255</td>\n",
       "      <td>1543.78255</td>\n",
       "      <td>1540.34755</td>\n",
       "      <td>1580.40255</td>\n",
       "    </tr>\n",
       "    <tr>\n",
       "      <th>I240406</th>\n",
       "      <td>1602.92755</td>\n",
       "      <td>1607.02255</td>\n",
       "      <td>1597.05255</td>\n",
       "      <td>1607.52755</td>\n",
       "      <td>1618.48255</td>\n",
       "      <td>1639.85255</td>\n",
       "      <td>1571.02755</td>\n",
       "      <td>1560.68755</td>\n",
       "      <td>1599.51755</td>\n",
       "      <td>1584.94755</td>\n",
       "      <td>...</td>\n",
       "      <td>1584.35755</td>\n",
       "      <td>1614.54755</td>\n",
       "      <td>1618.92755</td>\n",
       "      <td>1591.53255</td>\n",
       "      <td>1593.27255</td>\n",
       "      <td>1619.85755</td>\n",
       "      <td>1580.15255</td>\n",
       "      <td>1623.47255</td>\n",
       "      <td>1605.03755</td>\n",
       "      <td>1596.09255</td>\n",
       "    </tr>\n",
       "    <tr>\n",
       "      <th>I240489</th>\n",
       "      <td>1542.46755</td>\n",
       "      <td>1544.56255</td>\n",
       "      <td>1533.59255</td>\n",
       "      <td>1581.06755</td>\n",
       "      <td>1572.02255</td>\n",
       "      <td>1583.39255</td>\n",
       "      <td>1523.56755</td>\n",
       "      <td>1521.22755</td>\n",
       "      <td>1519.05755</td>\n",
       "      <td>1517.48755</td>\n",
       "      <td>...</td>\n",
       "      <td>1521.89755</td>\n",
       "      <td>1545.08755</td>\n",
       "      <td>1562.46755</td>\n",
       "      <td>1527.07255</td>\n",
       "      <td>1514.81255</td>\n",
       "      <td>1532.39755</td>\n",
       "      <td>1531.69255</td>\n",
       "      <td>1533.01255</td>\n",
       "      <td>1525.57755</td>\n",
       "      <td>1537.63255</td>\n",
       "    </tr>\n",
       "    <tr>\n",
       "      <th>I240493</th>\n",
       "      <td>1585.52755</td>\n",
       "      <td>1570.62255</td>\n",
       "      <td>1611.65255</td>\n",
       "      <td>1597.12755</td>\n",
       "      <td>1615.08255</td>\n",
       "      <td>1635.45255</td>\n",
       "      <td>1593.62755</td>\n",
       "      <td>1572.28755</td>\n",
       "      <td>1607.11755</td>\n",
       "      <td>1569.54755</td>\n",
       "      <td>...</td>\n",
       "      <td>1607.95755</td>\n",
       "      <td>1611.14755</td>\n",
       "      <td>1607.52755</td>\n",
       "      <td>1576.13255</td>\n",
       "      <td>1569.87255</td>\n",
       "      <td>1595.45755</td>\n",
       "      <td>1584.75255</td>\n",
       "      <td>1589.07255</td>\n",
       "      <td>1585.63755</td>\n",
       "      <td>1602.69255</td>\n",
       "    </tr>\n",
       "    <tr>\n",
       "      <th>I240557</th>\n",
       "      <td>1597.61755</td>\n",
       "      <td>1569.71255</td>\n",
       "      <td>1600.74255</td>\n",
       "      <td>1595.21755</td>\n",
       "      <td>1611.17255</td>\n",
       "      <td>1606.54255</td>\n",
       "      <td>1587.71755</td>\n",
       "      <td>1552.37755</td>\n",
       "      <td>1564.20755</td>\n",
       "      <td>1568.63755</td>\n",
       "      <td>...</td>\n",
       "      <td>1569.04755</td>\n",
       "      <td>1611.23755</td>\n",
       "      <td>1590.61755</td>\n",
       "      <td>1559.22255</td>\n",
       "      <td>1573.96255</td>\n",
       "      <td>1596.54755</td>\n",
       "      <td>1572.84255</td>\n",
       "      <td>1599.16255</td>\n",
       "      <td>1576.72755</td>\n",
       "      <td>1570.78255</td>\n",
       "    </tr>\n",
       "    <tr>\n",
       "      <th>I240565</th>\n",
       "      <td>1592.26755</td>\n",
       "      <td>1566.36255</td>\n",
       "      <td>1584.39255</td>\n",
       "      <td>1618.86755</td>\n",
       "      <td>1625.82255</td>\n",
       "      <td>1599.19255</td>\n",
       "      <td>1581.36755</td>\n",
       "      <td>1577.02755</td>\n",
       "      <td>1582.85755</td>\n",
       "      <td>1595.28755</td>\n",
       "      <td>...</td>\n",
       "      <td>1587.69755</td>\n",
       "      <td>1603.88755</td>\n",
       "      <td>1584.26755</td>\n",
       "      <td>1559.87255</td>\n",
       "      <td>1569.61255</td>\n",
       "      <td>1566.19755</td>\n",
       "      <td>1556.49255</td>\n",
       "      <td>1587.81255</td>\n",
       "      <td>1585.37755</td>\n",
       "      <td>1565.43255</td>\n",
       "    </tr>\n",
       "    <tr>\n",
       "      <th>I240589</th>\n",
       "      <td>1605.47255</td>\n",
       "      <td>1562.56755</td>\n",
       "      <td>1600.59755</td>\n",
       "      <td>1605.07255</td>\n",
       "      <td>1602.02755</td>\n",
       "      <td>1622.39755</td>\n",
       "      <td>1615.57255</td>\n",
       "      <td>1577.23255</td>\n",
       "      <td>1590.06255</td>\n",
       "      <td>1591.49255</td>\n",
       "      <td>...</td>\n",
       "      <td>1566.90255</td>\n",
       "      <td>1594.09255</td>\n",
       "      <td>1600.47255</td>\n",
       "      <td>1568.07755</td>\n",
       "      <td>1572.81755</td>\n",
       "      <td>1589.40255</td>\n",
       "      <td>1548.69755</td>\n",
       "      <td>1597.01755</td>\n",
       "      <td>1577.58255</td>\n",
       "      <td>1586.63755</td>\n",
       "    </tr>\n",
       "    <tr>\n",
       "      <th>I240597</th>\n",
       "      <td>1578.81755</td>\n",
       "      <td>1559.91255</td>\n",
       "      <td>1571.94255</td>\n",
       "      <td>1612.41755</td>\n",
       "      <td>1584.37255</td>\n",
       "      <td>1607.74255</td>\n",
       "      <td>1548.91755</td>\n",
       "      <td>1535.57755</td>\n",
       "      <td>1566.40755</td>\n",
       "      <td>1568.83755</td>\n",
       "      <td>...</td>\n",
       "      <td>1561.24755</td>\n",
       "      <td>1590.43755</td>\n",
       "      <td>1577.81755</td>\n",
       "      <td>1563.42255</td>\n",
       "      <td>1550.16255</td>\n",
       "      <td>1579.74755</td>\n",
       "      <td>1561.04255</td>\n",
       "      <td>1579.36255</td>\n",
       "      <td>1572.92755</td>\n",
       "      <td>1585.98255</td>\n",
       "    </tr>\n",
       "    <tr>\n",
       "      <th>I240633</th>\n",
       "      <td>1521.91755</td>\n",
       "      <td>1535.01255</td>\n",
       "      <td>1542.04255</td>\n",
       "      <td>1560.51755</td>\n",
       "      <td>1544.47255</td>\n",
       "      <td>1587.84255</td>\n",
       "      <td>1530.01755</td>\n",
       "      <td>1504.67755</td>\n",
       "      <td>1521.50755</td>\n",
       "      <td>1531.93755</td>\n",
       "      <td>...</td>\n",
       "      <td>1556.34755</td>\n",
       "      <td>1568.53755</td>\n",
       "      <td>1555.91755</td>\n",
       "      <td>1517.52255</td>\n",
       "      <td>1537.26255</td>\n",
       "      <td>1518.84755</td>\n",
       "      <td>1562.14255</td>\n",
       "      <td>1526.46255</td>\n",
       "      <td>1520.02755</td>\n",
       "      <td>1531.08255</td>\n",
       "    </tr>\n",
       "    <tr>\n",
       "      <th>I240653</th>\n",
       "      <td>1592.08755</td>\n",
       "      <td>1580.18255</td>\n",
       "      <td>1595.21255</td>\n",
       "      <td>1596.68755</td>\n",
       "      <td>1608.64255</td>\n",
       "      <td>1608.01255</td>\n",
       "      <td>1604.18755</td>\n",
       "      <td>1563.84755</td>\n",
       "      <td>1585.67755</td>\n",
       "      <td>1576.10755</td>\n",
       "      <td>...</td>\n",
       "      <td>1582.51755</td>\n",
       "      <td>1624.70755</td>\n",
       "      <td>1601.08755</td>\n",
       "      <td>1591.69255</td>\n",
       "      <td>1561.43255</td>\n",
       "      <td>1579.01755</td>\n",
       "      <td>1598.31255</td>\n",
       "      <td>1602.63255</td>\n",
       "      <td>1586.19755</td>\n",
       "      <td>1618.25255</td>\n",
       "    </tr>\n",
       "    <tr>\n",
       "      <th>I240664</th>\n",
       "      <td>1585.23255</td>\n",
       "      <td>1563.32755</td>\n",
       "      <td>1597.35755</td>\n",
       "      <td>1612.83255</td>\n",
       "      <td>1610.78755</td>\n",
       "      <td>1634.15755</td>\n",
       "      <td>1572.33255</td>\n",
       "      <td>1540.99255</td>\n",
       "      <td>1578.82255</td>\n",
       "      <td>1568.25255</td>\n",
       "      <td>...</td>\n",
       "      <td>1598.66255</td>\n",
       "      <td>1599.85255</td>\n",
       "      <td>1593.23255</td>\n",
       "      <td>1560.83755</td>\n",
       "      <td>1559.57755</td>\n",
       "      <td>1565.16255</td>\n",
       "      <td>1574.45755</td>\n",
       "      <td>1572.77755</td>\n",
       "      <td>1601.34255</td>\n",
       "      <td>1586.39755</td>\n",
       "    </tr>\n",
       "    <tr>\n",
       "      <th>I240749</th>\n",
       "      <td>1640.96755</td>\n",
       "      <td>1609.06255</td>\n",
       "      <td>1609.09255</td>\n",
       "      <td>1618.56755</td>\n",
       "      <td>1624.52255</td>\n",
       "      <td>1641.89255</td>\n",
       "      <td>1606.06755</td>\n",
       "      <td>1579.72755</td>\n",
       "      <td>1613.55755</td>\n",
       "      <td>1606.98755</td>\n",
       "      <td>...</td>\n",
       "      <td>1584.39755</td>\n",
       "      <td>1628.58755</td>\n",
       "      <td>1617.96755</td>\n",
       "      <td>1608.57255</td>\n",
       "      <td>1595.31255</td>\n",
       "      <td>1611.89755</td>\n",
       "      <td>1593.19255</td>\n",
       "      <td>1610.51255</td>\n",
       "      <td>1600.07755</td>\n",
       "      <td>1616.13255</td>\n",
       "    </tr>\n",
       "    <tr>\n",
       "      <th>I240830</th>\n",
       "      <td>1579.07255</td>\n",
       "      <td>1539.16755</td>\n",
       "      <td>1564.19755</td>\n",
       "      <td>1579.67255</td>\n",
       "      <td>1548.62755</td>\n",
       "      <td>1588.99755</td>\n",
       "      <td>1554.17255</td>\n",
       "      <td>1512.83255</td>\n",
       "      <td>1561.66255</td>\n",
       "      <td>1521.09255</td>\n",
       "      <td>...</td>\n",
       "      <td>1534.50255</td>\n",
       "      <td>1567.69255</td>\n",
       "      <td>1568.07255</td>\n",
       "      <td>1521.67755</td>\n",
       "      <td>1526.41755</td>\n",
       "      <td>1553.00255</td>\n",
       "      <td>1540.29755</td>\n",
       "      <td>1576.61755</td>\n",
       "      <td>1533.18255</td>\n",
       "      <td>1555.23755</td>\n",
       "    </tr>\n",
       "    <tr>\n",
       "      <th>I240837</th>\n",
       "      <td>1601.01755</td>\n",
       "      <td>1597.11255</td>\n",
       "      <td>1622.14255</td>\n",
       "      <td>1629.61755</td>\n",
       "      <td>1634.57255</td>\n",
       "      <td>1634.94255</td>\n",
       "      <td>1615.11755</td>\n",
       "      <td>1569.77755</td>\n",
       "      <td>1616.60755</td>\n",
       "      <td>1613.03755</td>\n",
       "      <td>...</td>\n",
       "      <td>1616.44755</td>\n",
       "      <td>1622.63755</td>\n",
       "      <td>1619.01755</td>\n",
       "      <td>1572.62255</td>\n",
       "      <td>1594.36255</td>\n",
       "      <td>1609.94755</td>\n",
       "      <td>1607.24255</td>\n",
       "      <td>1611.56255</td>\n",
       "      <td>1593.12755</td>\n",
       "      <td>1605.18255</td>\n",
       "    </tr>\n",
       "    <tr>\n",
       "      <th>I240874</th>\n",
       "      <td>1603.41755</td>\n",
       "      <td>1571.51255</td>\n",
       "      <td>1563.54255</td>\n",
       "      <td>1618.01755</td>\n",
       "      <td>1600.97255</td>\n",
       "      <td>1637.34255</td>\n",
       "      <td>1586.51755</td>\n",
       "      <td>1567.17755</td>\n",
       "      <td>1564.00755</td>\n",
       "      <td>1582.43755</td>\n",
       "      <td>...</td>\n",
       "      <td>1550.84755</td>\n",
       "      <td>1593.03755</td>\n",
       "      <td>1608.41755</td>\n",
       "      <td>1549.02255</td>\n",
       "      <td>1576.76255</td>\n",
       "      <td>1577.34755</td>\n",
       "      <td>1579.64255</td>\n",
       "      <td>1588.96255</td>\n",
       "      <td>1583.52755</td>\n",
       "      <td>1576.58255</td>\n",
       "    </tr>\n",
       "    <tr>\n",
       "      <th>I240886</th>\n",
       "      <td>1560.99255</td>\n",
       "      <td>1543.08755</td>\n",
       "      <td>1571.11755</td>\n",
       "      <td>1577.59255</td>\n",
       "      <td>1585.54755</td>\n",
       "      <td>1615.91755</td>\n",
       "      <td>1546.09255</td>\n",
       "      <td>1552.75255</td>\n",
       "      <td>1561.58255</td>\n",
       "      <td>1561.01255</td>\n",
       "      <td>...</td>\n",
       "      <td>1563.42255</td>\n",
       "      <td>1564.61255</td>\n",
       "      <td>1582.99255</td>\n",
       "      <td>1552.59755</td>\n",
       "      <td>1582.33755</td>\n",
       "      <td>1567.92255</td>\n",
       "      <td>1523.21755</td>\n",
       "      <td>1562.53755</td>\n",
       "      <td>1544.10255</td>\n",
       "      <td>1558.15755</td>\n",
       "    </tr>\n",
       "    <tr>\n",
       "      <th>I240915</th>\n",
       "      <td>1607.65755</td>\n",
       "      <td>1574.75255</td>\n",
       "      <td>1599.78255</td>\n",
       "      <td>1608.25755</td>\n",
       "      <td>1619.21255</td>\n",
       "      <td>1643.58255</td>\n",
       "      <td>1584.75755</td>\n",
       "      <td>1561.41755</td>\n",
       "      <td>1610.24755</td>\n",
       "      <td>1601.67755</td>\n",
       "      <td>...</td>\n",
       "      <td>1584.08755</td>\n",
       "      <td>1612.27755</td>\n",
       "      <td>1594.65755</td>\n",
       "      <td>1564.26255</td>\n",
       "      <td>1573.00255</td>\n",
       "      <td>1599.58755</td>\n",
       "      <td>1587.88255</td>\n",
       "      <td>1603.20255</td>\n",
       "      <td>1581.76755</td>\n",
       "      <td>1613.82255</td>\n",
       "    </tr>\n",
       "    <tr>\n",
       "      <th>I240939</th>\n",
       "      <td>1562.52255</td>\n",
       "      <td>1533.61755</td>\n",
       "      <td>1575.64755</td>\n",
       "      <td>1591.12255</td>\n",
       "      <td>1572.07755</td>\n",
       "      <td>1605.44755</td>\n",
       "      <td>1561.62255</td>\n",
       "      <td>1529.28255</td>\n",
       "      <td>1538.11255</td>\n",
       "      <td>1546.54255</td>\n",
       "      <td>...</td>\n",
       "      <td>1542.95255</td>\n",
       "      <td>1570.14255</td>\n",
       "      <td>1646.52255</td>\n",
       "      <td>1525.12755</td>\n",
       "      <td>1549.86755</td>\n",
       "      <td>1548.45255</td>\n",
       "      <td>1554.74755</td>\n",
       "      <td>1564.06755</td>\n",
       "      <td>1541.63255</td>\n",
       "      <td>1562.68755</td>\n",
       "    </tr>\n",
       "    <tr>\n",
       "      <th>I240942</th>\n",
       "      <td>1610.02255</td>\n",
       "      <td>1596.11755</td>\n",
       "      <td>1574.14755</td>\n",
       "      <td>1609.62255</td>\n",
       "      <td>1608.57755</td>\n",
       "      <td>1614.94755</td>\n",
       "      <td>1580.12255</td>\n",
       "      <td>1542.78255</td>\n",
       "      <td>1602.61255</td>\n",
       "      <td>1559.04255</td>\n",
       "      <td>...</td>\n",
       "      <td>1583.45255</td>\n",
       "      <td>1624.64255</td>\n",
       "      <td>1594.02255</td>\n",
       "      <td>1577.62755</td>\n",
       "      <td>1592.36755</td>\n",
       "      <td>1581.95255</td>\n",
       "      <td>1580.24755</td>\n",
       "      <td>1597.56755</td>\n",
       "      <td>1591.13255</td>\n",
       "      <td>1608.18755</td>\n",
       "    </tr>\n",
       "    <tr>\n",
       "      <th>I240966</th>\n",
       "      <td>1611.67255</td>\n",
       "      <td>1578.76755</td>\n",
       "      <td>1596.79755</td>\n",
       "      <td>1617.27255</td>\n",
       "      <td>1615.22755</td>\n",
       "      <td>1617.59755</td>\n",
       "      <td>1578.77255</td>\n",
       "      <td>1574.43255</td>\n",
       "      <td>1604.26255</td>\n",
       "      <td>1585.69255</td>\n",
       "      <td>...</td>\n",
       "      <td>1588.10255</td>\n",
       "      <td>1611.29255</td>\n",
       "      <td>1601.67255</td>\n",
       "      <td>1582.27755</td>\n",
       "      <td>1576.01755</td>\n",
       "      <td>1604.60255</td>\n",
       "      <td>1582.89755</td>\n",
       "      <td>1590.21755</td>\n",
       "      <td>1590.78255</td>\n",
       "      <td>1597.83755</td>\n",
       "    </tr>\n",
       "    <tr>\n",
       "      <th>...</th>\n",
       "      <td>...</td>\n",
       "      <td>...</td>\n",
       "      <td>...</td>\n",
       "      <td>...</td>\n",
       "      <td>...</td>\n",
       "      <td>...</td>\n",
       "      <td>...</td>\n",
       "      <td>...</td>\n",
       "      <td>...</td>\n",
       "      <td>...</td>\n",
       "      <td>...</td>\n",
       "      <td>...</td>\n",
       "      <td>...</td>\n",
       "      <td>...</td>\n",
       "      <td>...</td>\n",
       "      <td>...</td>\n",
       "      <td>...</td>\n",
       "      <td>...</td>\n",
       "      <td>...</td>\n",
       "      <td>...</td>\n",
       "      <td>...</td>\n",
       "    </tr>\n",
       "    <tr>\n",
       "      <th>I240891</th>\n",
       "      <td>1585.37255</td>\n",
       "      <td>1567.46755</td>\n",
       "      <td>1555.49755</td>\n",
       "      <td>1580.97255</td>\n",
       "      <td>1591.92755</td>\n",
       "      <td>1618.29755</td>\n",
       "      <td>1563.47255</td>\n",
       "      <td>1543.13255</td>\n",
       "      <td>1564.96255</td>\n",
       "      <td>1566.39255</td>\n",
       "      <td>...</td>\n",
       "      <td>1554.80255</td>\n",
       "      <td>1575.99255</td>\n",
       "      <td>1591.37255</td>\n",
       "      <td>1555.97755</td>\n",
       "      <td>1541.71755</td>\n",
       "      <td>1551.30255</td>\n",
       "      <td>1558.59755</td>\n",
       "      <td>1568.91755</td>\n",
       "      <td>1539.48255</td>\n",
       "      <td>1568.53755</td>\n",
       "    </tr>\n",
       "    <tr>\n",
       "      <th>I240951</th>\n",
       "      <td>1626.88255</td>\n",
       "      <td>1586.97755</td>\n",
       "      <td>1603.00755</td>\n",
       "      <td>1604.48255</td>\n",
       "      <td>1606.43755</td>\n",
       "      <td>1625.80755</td>\n",
       "      <td>1615.98255</td>\n",
       "      <td>1578.64255</td>\n",
       "      <td>1582.47255</td>\n",
       "      <td>1579.90255</td>\n",
       "      <td>...</td>\n",
       "      <td>1592.31255</td>\n",
       "      <td>1613.50255</td>\n",
       "      <td>1618.88255</td>\n",
       "      <td>1548.48755</td>\n",
       "      <td>1559.22755</td>\n",
       "      <td>1591.81255</td>\n",
       "      <td>1579.10755</td>\n",
       "      <td>1596.42755</td>\n",
       "      <td>1577.99255</td>\n",
       "      <td>1585.04755</td>\n",
       "    </tr>\n",
       "    <tr>\n",
       "      <th>I240959</th>\n",
       "      <td>1571.01755</td>\n",
       "      <td>1550.11255</td>\n",
       "      <td>1588.14255</td>\n",
       "      <td>1565.61755</td>\n",
       "      <td>1573.57255</td>\n",
       "      <td>1599.94255</td>\n",
       "      <td>1549.11755</td>\n",
       "      <td>1516.77755</td>\n",
       "      <td>1557.60755</td>\n",
       "      <td>1561.03755</td>\n",
       "      <td>...</td>\n",
       "      <td>1534.44755</td>\n",
       "      <td>1597.63755</td>\n",
       "      <td>1558.01755</td>\n",
       "      <td>1541.62255</td>\n",
       "      <td>1529.36255</td>\n",
       "      <td>1558.94755</td>\n",
       "      <td>1521.24255</td>\n",
       "      <td>1557.56255</td>\n",
       "      <td>1562.12755</td>\n",
       "      <td>1564.18255</td>\n",
       "    </tr>\n",
       "    <tr>\n",
       "      <th>I241016</th>\n",
       "      <td>1582.37255</td>\n",
       "      <td>1587.46755</td>\n",
       "      <td>1585.49755</td>\n",
       "      <td>1609.97255</td>\n",
       "      <td>1606.92755</td>\n",
       "      <td>1603.29755</td>\n",
       "      <td>1583.47255</td>\n",
       "      <td>1541.13255</td>\n",
       "      <td>1632.96255</td>\n",
       "      <td>1572.39255</td>\n",
       "      <td>...</td>\n",
       "      <td>1570.80255</td>\n",
       "      <td>1653.99255</td>\n",
       "      <td>1572.37255</td>\n",
       "      <td>1578.97755</td>\n",
       "      <td>1565.71755</td>\n",
       "      <td>1574.30255</td>\n",
       "      <td>1568.59755</td>\n",
       "      <td>1600.91755</td>\n",
       "      <td>1568.48255</td>\n",
       "      <td>1579.53755</td>\n",
       "    </tr>\n",
       "    <tr>\n",
       "      <th>I241069</th>\n",
       "      <td>1637.31755</td>\n",
       "      <td>1624.41255</td>\n",
       "      <td>1632.44255</td>\n",
       "      <td>1649.91755</td>\n",
       "      <td>1654.87255</td>\n",
       "      <td>1658.24255</td>\n",
       "      <td>1638.41755</td>\n",
       "      <td>1602.07755</td>\n",
       "      <td>1622.90755</td>\n",
       "      <td>1620.33755</td>\n",
       "      <td>...</td>\n",
       "      <td>1599.74755</td>\n",
       "      <td>1644.93755</td>\n",
       "      <td>1632.31755</td>\n",
       "      <td>1593.92255</td>\n",
       "      <td>1593.66255</td>\n",
       "      <td>1619.24755</td>\n",
       "      <td>1599.54255</td>\n",
       "      <td>1625.86255</td>\n",
       "      <td>1624.42755</td>\n",
       "      <td>1611.48255</td>\n",
       "    </tr>\n",
       "    <tr>\n",
       "      <th>I241077</th>\n",
       "      <td>1583.37255</td>\n",
       "      <td>1592.46755</td>\n",
       "      <td>1606.49755</td>\n",
       "      <td>1616.97255</td>\n",
       "      <td>1612.92755</td>\n",
       "      <td>1600.29755</td>\n",
       "      <td>1577.47255</td>\n",
       "      <td>1559.13255</td>\n",
       "      <td>1574.96255</td>\n",
       "      <td>1593.39255</td>\n",
       "      <td>...</td>\n",
       "      <td>1583.80255</td>\n",
       "      <td>1608.99255</td>\n",
       "      <td>1597.37255</td>\n",
       "      <td>1580.97755</td>\n",
       "      <td>1594.71755</td>\n",
       "      <td>1577.30255</td>\n",
       "      <td>1550.59755</td>\n",
       "      <td>1604.91755</td>\n",
       "      <td>1556.48255</td>\n",
       "      <td>1589.53755</td>\n",
       "    </tr>\n",
       "    <tr>\n",
       "      <th>I241090</th>\n",
       "      <td>1594.83255</td>\n",
       "      <td>1583.92755</td>\n",
       "      <td>1598.95755</td>\n",
       "      <td>1602.43255</td>\n",
       "      <td>1613.38755</td>\n",
       "      <td>1612.75755</td>\n",
       "      <td>1606.93255</td>\n",
       "      <td>1564.59255</td>\n",
       "      <td>1576.42255</td>\n",
       "      <td>1576.85255</td>\n",
       "      <td>...</td>\n",
       "      <td>1560.26255</td>\n",
       "      <td>1612.45255</td>\n",
       "      <td>1604.83255</td>\n",
       "      <td>1575.43755</td>\n",
       "      <td>1564.17755</td>\n",
       "      <td>1584.76255</td>\n",
       "      <td>1557.05755</td>\n",
       "      <td>1603.37755</td>\n",
       "      <td>1589.94255</td>\n",
       "      <td>1574.99755</td>\n",
       "    </tr>\n",
       "    <tr>\n",
       "      <th>I241113</th>\n",
       "      <td>1608.55755</td>\n",
       "      <td>1567.65255</td>\n",
       "      <td>1585.68255</td>\n",
       "      <td>1612.15755</td>\n",
       "      <td>1616.11255</td>\n",
       "      <td>1618.48255</td>\n",
       "      <td>1576.65755</td>\n",
       "      <td>1554.31755</td>\n",
       "      <td>1576.14755</td>\n",
       "      <td>1602.57755</td>\n",
       "      <td>...</td>\n",
       "      <td>1581.98755</td>\n",
       "      <td>1616.17755</td>\n",
       "      <td>1624.55755</td>\n",
       "      <td>1564.16255</td>\n",
       "      <td>1587.90255</td>\n",
       "      <td>1603.48755</td>\n",
       "      <td>1582.78255</td>\n",
       "      <td>1590.10255</td>\n",
       "      <td>1577.66755</td>\n",
       "      <td>1589.72255</td>\n",
       "    </tr>\n",
       "    <tr>\n",
       "      <th>I241177</th>\n",
       "      <td>1578.58255</td>\n",
       "      <td>1571.67755</td>\n",
       "      <td>1586.70755</td>\n",
       "      <td>1614.18255</td>\n",
       "      <td>1617.13755</td>\n",
       "      <td>1612.50755</td>\n",
       "      <td>1570.68255</td>\n",
       "      <td>1559.34255</td>\n",
       "      <td>1580.17255</td>\n",
       "      <td>1550.60255</td>\n",
       "      <td>...</td>\n",
       "      <td>1576.01255</td>\n",
       "      <td>1621.20255</td>\n",
       "      <td>1616.58255</td>\n",
       "      <td>1575.18755</td>\n",
       "      <td>1551.92755</td>\n",
       "      <td>1612.51255</td>\n",
       "      <td>1579.80755</td>\n",
       "      <td>1564.12755</td>\n",
       "      <td>1573.69255</td>\n",
       "      <td>1594.74755</td>\n",
       "    </tr>\n",
       "    <tr>\n",
       "      <th>I241210</th>\n",
       "      <td>1572.38755</td>\n",
       "      <td>1571.48255</td>\n",
       "      <td>1573.51255</td>\n",
       "      <td>1596.98755</td>\n",
       "      <td>1593.94255</td>\n",
       "      <td>1611.31255</td>\n",
       "      <td>1566.48755</td>\n",
       "      <td>1548.14755</td>\n",
       "      <td>1567.97755</td>\n",
       "      <td>1584.40755</td>\n",
       "      <td>...</td>\n",
       "      <td>1561.81755</td>\n",
       "      <td>1592.00755</td>\n",
       "      <td>1572.38755</td>\n",
       "      <td>1558.99255</td>\n",
       "      <td>1581.73255</td>\n",
       "      <td>1602.31755</td>\n",
       "      <td>1563.61255</td>\n",
       "      <td>1561.93255</td>\n",
       "      <td>1564.49755</td>\n",
       "      <td>1571.55255</td>\n",
       "    </tr>\n",
       "    <tr>\n",
       "      <th>I241214</th>\n",
       "      <td>1585.01255</td>\n",
       "      <td>1576.10755</td>\n",
       "      <td>1565.13755</td>\n",
       "      <td>1597.61255</td>\n",
       "      <td>1608.56755</td>\n",
       "      <td>1603.93755</td>\n",
       "      <td>1573.11255</td>\n",
       "      <td>1562.77255</td>\n",
       "      <td>1577.60255</td>\n",
       "      <td>1555.03255</td>\n",
       "      <td>...</td>\n",
       "      <td>1554.44255</td>\n",
       "      <td>1616.63255</td>\n",
       "      <td>1587.01255</td>\n",
       "      <td>1557.61755</td>\n",
       "      <td>1556.35755</td>\n",
       "      <td>1578.94255</td>\n",
       "      <td>1578.23755</td>\n",
       "      <td>1600.55755</td>\n",
       "      <td>1576.12255</td>\n",
       "      <td>1587.17755</td>\n",
       "    </tr>\n",
       "    <tr>\n",
       "      <th>I241270</th>\n",
       "      <td>1617.79255</td>\n",
       "      <td>1568.88755</td>\n",
       "      <td>1591.91755</td>\n",
       "      <td>1615.39255</td>\n",
       "      <td>1595.34755</td>\n",
       "      <td>1624.71755</td>\n",
       "      <td>1567.89255</td>\n",
       "      <td>1565.55255</td>\n",
       "      <td>1575.38255</td>\n",
       "      <td>1589.81255</td>\n",
       "      <td>...</td>\n",
       "      <td>1593.22255</td>\n",
       "      <td>1607.41255</td>\n",
       "      <td>1578.79255</td>\n",
       "      <td>1527.39755</td>\n",
       "      <td>1563.13755</td>\n",
       "      <td>1566.72255</td>\n",
       "      <td>1592.01755</td>\n",
       "      <td>1584.33755</td>\n",
       "      <td>1560.90255</td>\n",
       "      <td>1593.95755</td>\n",
       "    </tr>\n",
       "    <tr>\n",
       "      <th>I241334</th>\n",
       "      <td>1601.45255</td>\n",
       "      <td>1574.54755</td>\n",
       "      <td>1585.57755</td>\n",
       "      <td>1612.05255</td>\n",
       "      <td>1639.00755</td>\n",
       "      <td>1621.37755</td>\n",
       "      <td>1586.55255</td>\n",
       "      <td>1570.21255</td>\n",
       "      <td>1609.04255</td>\n",
       "      <td>1570.47255</td>\n",
       "      <td>...</td>\n",
       "      <td>1585.88255</td>\n",
       "      <td>1611.07255</td>\n",
       "      <td>1600.45255</td>\n",
       "      <td>1557.05755</td>\n",
       "      <td>1575.79755</td>\n",
       "      <td>1597.38255</td>\n",
       "      <td>1579.67755</td>\n",
       "      <td>1675.99755</td>\n",
       "      <td>1577.56255</td>\n",
       "      <td>1602.61755</td>\n",
       "    </tr>\n",
       "    <tr>\n",
       "      <th>I241338</th>\n",
       "      <td>1584.47755</td>\n",
       "      <td>1559.57255</td>\n",
       "      <td>1584.60255</td>\n",
       "      <td>1592.07755</td>\n",
       "      <td>1584.03255</td>\n",
       "      <td>1607.40255</td>\n",
       "      <td>1568.57755</td>\n",
       "      <td>1533.23755</td>\n",
       "      <td>1583.06755</td>\n",
       "      <td>1567.49755</td>\n",
       "      <td>...</td>\n",
       "      <td>1570.90755</td>\n",
       "      <td>1624.09755</td>\n",
       "      <td>1589.47755</td>\n",
       "      <td>1553.08255</td>\n",
       "      <td>1548.82255</td>\n",
       "      <td>1548.40755</td>\n",
       "      <td>1557.70255</td>\n",
       "      <td>1571.02255</td>\n",
       "      <td>1559.58755</td>\n",
       "      <td>1580.64255</td>\n",
       "    </tr>\n",
       "    <tr>\n",
       "      <th>I241453</th>\n",
       "      <td>1564.68255</td>\n",
       "      <td>1566.77755</td>\n",
       "      <td>1590.80755</td>\n",
       "      <td>1579.28255</td>\n",
       "      <td>1588.23755</td>\n",
       "      <td>1607.60755</td>\n",
       "      <td>1561.78255</td>\n",
       "      <td>1547.44255</td>\n",
       "      <td>1567.27255</td>\n",
       "      <td>1560.70255</td>\n",
       "      <td>...</td>\n",
       "      <td>1569.11255</td>\n",
       "      <td>1601.30255</td>\n",
       "      <td>1587.68255</td>\n",
       "      <td>1534.28755</td>\n",
       "      <td>1541.02755</td>\n",
       "      <td>1585.61255</td>\n",
       "      <td>1541.90755</td>\n",
       "      <td>1562.22755</td>\n",
       "      <td>1556.79255</td>\n",
       "      <td>1577.84755</td>\n",
       "    </tr>\n",
       "    <tr>\n",
       "      <th>I241497</th>\n",
       "      <td>1590.96255</td>\n",
       "      <td>1576.05755</td>\n",
       "      <td>1569.08755</td>\n",
       "      <td>1591.56255</td>\n",
       "      <td>1591.51755</td>\n",
       "      <td>1621.88755</td>\n",
       "      <td>1563.06255</td>\n",
       "      <td>1538.72255</td>\n",
       "      <td>1568.55255</td>\n",
       "      <td>1547.98255</td>\n",
       "      <td>...</td>\n",
       "      <td>1546.39255</td>\n",
       "      <td>1602.58255</td>\n",
       "      <td>1597.96255</td>\n",
       "      <td>1553.56755</td>\n",
       "      <td>1559.30755</td>\n",
       "      <td>1579.89255</td>\n",
       "      <td>1559.18755</td>\n",
       "      <td>1569.50755</td>\n",
       "      <td>1541.07255</td>\n",
       "      <td>1589.12755</td>\n",
       "    </tr>\n",
       "    <tr>\n",
       "      <th>I241542</th>\n",
       "      <td>1615.07755</td>\n",
       "      <td>1582.17255</td>\n",
       "      <td>1588.20255</td>\n",
       "      <td>1621.67755</td>\n",
       "      <td>1607.63255</td>\n",
       "      <td>1614.00255</td>\n",
       "      <td>1561.17755</td>\n",
       "      <td>1548.83755</td>\n",
       "      <td>1596.66755</td>\n",
       "      <td>1561.09755</td>\n",
       "      <td>...</td>\n",
       "      <td>1589.50755</td>\n",
       "      <td>1610.69755</td>\n",
       "      <td>1583.07755</td>\n",
       "      <td>1561.68255</td>\n",
       "      <td>1564.42255</td>\n",
       "      <td>1584.00755</td>\n",
       "      <td>1568.30255</td>\n",
       "      <td>1591.62255</td>\n",
       "      <td>1573.18755</td>\n",
       "      <td>1572.24255</td>\n",
       "    </tr>\n",
       "    <tr>\n",
       "      <th>I241584</th>\n",
       "      <td>1632.75255</td>\n",
       "      <td>1616.84755</td>\n",
       "      <td>1641.87755</td>\n",
       "      <td>1635.35255</td>\n",
       "      <td>1618.30755</td>\n",
       "      <td>1660.67755</td>\n",
       "      <td>1606.85255</td>\n",
       "      <td>1571.51255</td>\n",
       "      <td>1619.34255</td>\n",
       "      <td>1603.77255</td>\n",
       "      <td>...</td>\n",
       "      <td>1618.18255</td>\n",
       "      <td>1619.37255</td>\n",
       "      <td>1621.75255</td>\n",
       "      <td>1612.35755</td>\n",
       "      <td>1616.09755</td>\n",
       "      <td>1608.68255</td>\n",
       "      <td>1602.97755</td>\n",
       "      <td>1612.29755</td>\n",
       "      <td>1597.86255</td>\n",
       "      <td>1623.91755</td>\n",
       "    </tr>\n",
       "    <tr>\n",
       "      <th>I241612</th>\n",
       "      <td>1655.84255</td>\n",
       "      <td>1608.93755</td>\n",
       "      <td>1644.96755</td>\n",
       "      <td>1643.44255</td>\n",
       "      <td>1651.39755</td>\n",
       "      <td>1657.76755</td>\n",
       "      <td>1612.94255</td>\n",
       "      <td>1580.60255</td>\n",
       "      <td>1635.43255</td>\n",
       "      <td>1610.86255</td>\n",
       "      <td>...</td>\n",
       "      <td>1590.27255</td>\n",
       "      <td>1645.46255</td>\n",
       "      <td>1620.84255</td>\n",
       "      <td>1605.44755</td>\n",
       "      <td>1603.18755</td>\n",
       "      <td>1618.77255</td>\n",
       "      <td>1616.06755</td>\n",
       "      <td>1622.38755</td>\n",
       "      <td>1623.95255</td>\n",
       "      <td>1619.00755</td>\n",
       "    </tr>\n",
       "    <tr>\n",
       "      <th>I241620</th>\n",
       "      <td>1554.81755</td>\n",
       "      <td>1514.91255</td>\n",
       "      <td>1529.94255</td>\n",
       "      <td>1563.41755</td>\n",
       "      <td>1552.37255</td>\n",
       "      <td>1568.74255</td>\n",
       "      <td>1516.91755</td>\n",
       "      <td>1552.57755</td>\n",
       "      <td>1537.40755</td>\n",
       "      <td>1520.83755</td>\n",
       "      <td>...</td>\n",
       "      <td>1531.24755</td>\n",
       "      <td>1563.43755</td>\n",
       "      <td>1551.81755</td>\n",
       "      <td>1511.42255</td>\n",
       "      <td>1507.16255</td>\n",
       "      <td>1541.74755</td>\n",
       "      <td>1536.04255</td>\n",
       "      <td>1555.36255</td>\n",
       "      <td>1520.92755</td>\n",
       "      <td>1541.98255</td>\n",
       "    </tr>\n",
       "    <tr>\n",
       "      <th>I241711</th>\n",
       "      <td>1570.71755</td>\n",
       "      <td>1567.81255</td>\n",
       "      <td>1578.84255</td>\n",
       "      <td>1600.31755</td>\n",
       "      <td>1592.27255</td>\n",
       "      <td>1612.64255</td>\n",
       "      <td>1556.81755</td>\n",
       "      <td>1551.47755</td>\n",
       "      <td>1587.30755</td>\n",
       "      <td>1564.73755</td>\n",
       "      <td>...</td>\n",
       "      <td>1852.14755</td>\n",
       "      <td>1599.33755</td>\n",
       "      <td>1588.71755</td>\n",
       "      <td>1563.32255</td>\n",
       "      <td>1576.06255</td>\n",
       "      <td>1560.64755</td>\n",
       "      <td>1574.94255</td>\n",
       "      <td>1574.26255</td>\n",
       "      <td>1555.82755</td>\n",
       "      <td>1585.88255</td>\n",
       "    </tr>\n",
       "    <tr>\n",
       "      <th>I241823</th>\n",
       "      <td>1599.90755</td>\n",
       "      <td>1593.00255</td>\n",
       "      <td>1607.03255</td>\n",
       "      <td>1633.50755</td>\n",
       "      <td>1646.46255</td>\n",
       "      <td>1634.83255</td>\n",
       "      <td>1595.00755</td>\n",
       "      <td>1565.66755</td>\n",
       "      <td>1613.49755</td>\n",
       "      <td>1601.92755</td>\n",
       "      <td>...</td>\n",
       "      <td>1599.33755</td>\n",
       "      <td>1876.52755</td>\n",
       "      <td>1611.90755</td>\n",
       "      <td>1558.51255</td>\n",
       "      <td>1595.25255</td>\n",
       "      <td>1593.83755</td>\n",
       "      <td>1607.13255</td>\n",
       "      <td>1628.45255</td>\n",
       "      <td>1605.01755</td>\n",
       "      <td>1615.07255</td>\n",
       "    </tr>\n",
       "    <tr>\n",
       "      <th>I241901</th>\n",
       "      <td>1622.28755</td>\n",
       "      <td>1585.38255</td>\n",
       "      <td>1612.41255</td>\n",
       "      <td>1633.88755</td>\n",
       "      <td>1613.84255</td>\n",
       "      <td>1636.21255</td>\n",
       "      <td>1617.38755</td>\n",
       "      <td>1587.04755</td>\n",
       "      <td>1585.87755</td>\n",
       "      <td>1582.30755</td>\n",
       "      <td>...</td>\n",
       "      <td>1588.71755</td>\n",
       "      <td>1611.90755</td>\n",
       "      <td>1875.28755</td>\n",
       "      <td>1586.89255</td>\n",
       "      <td>1592.63255</td>\n",
       "      <td>1600.21755</td>\n",
       "      <td>1578.51255</td>\n",
       "      <td>1590.83255</td>\n",
       "      <td>1592.39755</td>\n",
       "      <td>1608.45255</td>\n",
       "    </tr>\n",
       "    <tr>\n",
       "      <th>I241907</th>\n",
       "      <td>1593.89255</td>\n",
       "      <td>1572.98755</td>\n",
       "      <td>1597.01755</td>\n",
       "      <td>1580.49255</td>\n",
       "      <td>1564.44755</td>\n",
       "      <td>1592.81755</td>\n",
       "      <td>1575.99255</td>\n",
       "      <td>1532.65255</td>\n",
       "      <td>1557.48255</td>\n",
       "      <td>1565.91255</td>\n",
       "      <td>...</td>\n",
       "      <td>1563.32255</td>\n",
       "      <td>1558.51255</td>\n",
       "      <td>1586.89255</td>\n",
       "      <td>1839.49755</td>\n",
       "      <td>1558.23755</td>\n",
       "      <td>1555.82255</td>\n",
       "      <td>1548.11755</td>\n",
       "      <td>1550.43755</td>\n",
       "      <td>1568.00255</td>\n",
       "      <td>1567.05755</td>\n",
       "    </tr>\n",
       "    <tr>\n",
       "      <th>I241919</th>\n",
       "      <td>1569.63255</td>\n",
       "      <td>1585.72755</td>\n",
       "      <td>1569.75755</td>\n",
       "      <td>1588.23255</td>\n",
       "      <td>1600.18755</td>\n",
       "      <td>1621.55755</td>\n",
       "      <td>1544.73255</td>\n",
       "      <td>1538.39255</td>\n",
       "      <td>1577.22255</td>\n",
       "      <td>1568.65255</td>\n",
       "      <td>...</td>\n",
       "      <td>1576.06255</td>\n",
       "      <td>1595.25255</td>\n",
       "      <td>1592.63255</td>\n",
       "      <td>1558.23755</td>\n",
       "      <td>1815.97755</td>\n",
       "      <td>1582.56255</td>\n",
       "      <td>1542.85755</td>\n",
       "      <td>1584.17755</td>\n",
       "      <td>1576.74255</td>\n",
       "      <td>1588.79755</td>\n",
       "    </tr>\n",
       "    <tr>\n",
       "      <th>I241922</th>\n",
       "      <td>1607.21755</td>\n",
       "      <td>1569.31255</td>\n",
       "      <td>1579.34255</td>\n",
       "      <td>1613.81755</td>\n",
       "      <td>1627.77255</td>\n",
       "      <td>1618.14255</td>\n",
       "      <td>1599.31755</td>\n",
       "      <td>1551.97755</td>\n",
       "      <td>1590.80755</td>\n",
       "      <td>1573.23755</td>\n",
       "      <td>...</td>\n",
       "      <td>1560.64755</td>\n",
       "      <td>1593.83755</td>\n",
       "      <td>1600.21755</td>\n",
       "      <td>1555.82255</td>\n",
       "      <td>1582.56255</td>\n",
       "      <td>1861.14755</td>\n",
       "      <td>1572.44255</td>\n",
       "      <td>1584.76255</td>\n",
       "      <td>1576.32755</td>\n",
       "      <td>1583.38255</td>\n",
       "    </tr>\n",
       "    <tr>\n",
       "      <th>I241950</th>\n",
       "      <td>1594.51255</td>\n",
       "      <td>1551.60755</td>\n",
       "      <td>1595.63755</td>\n",
       "      <td>1593.11255</td>\n",
       "      <td>1603.06755</td>\n",
       "      <td>1610.43755</td>\n",
       "      <td>1560.61255</td>\n",
       "      <td>1518.27255</td>\n",
       "      <td>1568.10255</td>\n",
       "      <td>1566.53255</td>\n",
       "      <td>...</td>\n",
       "      <td>1574.94255</td>\n",
       "      <td>1607.13255</td>\n",
       "      <td>1578.51255</td>\n",
       "      <td>1548.11755</td>\n",
       "      <td>1542.85755</td>\n",
       "      <td>1572.44255</td>\n",
       "      <td>1836.73755</td>\n",
       "      <td>1580.05755</td>\n",
       "      <td>1563.62255</td>\n",
       "      <td>1585.67755</td>\n",
       "    </tr>\n",
       "    <tr>\n",
       "      <th>I241966</th>\n",
       "      <td>1607.83255</td>\n",
       "      <td>1571.92755</td>\n",
       "      <td>1584.95755</td>\n",
       "      <td>1596.43255</td>\n",
       "      <td>1638.38755</td>\n",
       "      <td>1610.75755</td>\n",
       "      <td>1586.93255</td>\n",
       "      <td>1559.59255</td>\n",
       "      <td>1589.42255</td>\n",
       "      <td>1582.85255</td>\n",
       "      <td>...</td>\n",
       "      <td>1574.26255</td>\n",
       "      <td>1628.45255</td>\n",
       "      <td>1590.83255</td>\n",
       "      <td>1550.43755</td>\n",
       "      <td>1584.17755</td>\n",
       "      <td>1584.76255</td>\n",
       "      <td>1580.05755</td>\n",
       "      <td>1872.37755</td>\n",
       "      <td>1597.94255</td>\n",
       "      <td>1600.99755</td>\n",
       "    </tr>\n",
       "    <tr>\n",
       "      <th>I241995</th>\n",
       "      <td>1593.39755</td>\n",
       "      <td>1569.49255</td>\n",
       "      <td>1599.52255</td>\n",
       "      <td>1579.99755</td>\n",
       "      <td>1612.95255</td>\n",
       "      <td>1596.32255</td>\n",
       "      <td>1559.49755</td>\n",
       "      <td>1550.15755</td>\n",
       "      <td>1559.98755</td>\n",
       "      <td>1568.41755</td>\n",
       "      <td>...</td>\n",
       "      <td>1555.82755</td>\n",
       "      <td>1605.01755</td>\n",
       "      <td>1592.39755</td>\n",
       "      <td>1568.00255</td>\n",
       "      <td>1576.74255</td>\n",
       "      <td>1576.32755</td>\n",
       "      <td>1563.62255</td>\n",
       "      <td>1597.94255</td>\n",
       "      <td>1834.50755</td>\n",
       "      <td>1601.56255</td>\n",
       "    </tr>\n",
       "    <tr>\n",
       "      <th>I242019</th>\n",
       "      <td>1591.45255</td>\n",
       "      <td>1588.54755</td>\n",
       "      <td>1597.57755</td>\n",
       "      <td>1599.05255</td>\n",
       "      <td>1607.00755</td>\n",
       "      <td>1629.37755</td>\n",
       "      <td>1568.55255</td>\n",
       "      <td>1558.21255</td>\n",
       "      <td>1614.04255</td>\n",
       "      <td>1565.47255</td>\n",
       "      <td>...</td>\n",
       "      <td>1585.88255</td>\n",
       "      <td>1615.07255</td>\n",
       "      <td>1608.45255</td>\n",
       "      <td>1567.05755</td>\n",
       "      <td>1588.79755</td>\n",
       "      <td>1583.38255</td>\n",
       "      <td>1585.67755</td>\n",
       "      <td>1600.99755</td>\n",
       "      <td>1601.56255</td>\n",
       "      <td>1868.61755</td>\n",
       "    </tr>\n",
       "  </tbody>\n",
       "</table>\n",
       "<p>200 rows × 200 columns</p>\n",
       "</div>"
      ],
      "text/plain": [
       "                0           1           2           3           4    \\\n",
       "I240040  1868.28755  1595.38255  1599.41255  1611.88755  1615.84255   \n",
       "I240056  1595.38255  1852.47755  1590.50755  1599.98255  1599.93755   \n",
       "I240136  1599.41255  1590.50755  1864.53755  1623.01255  1618.96755   \n",
       "I240163  1611.88755  1599.98255  1623.01255  1873.48755  1643.44255   \n",
       "I240182  1615.84255  1599.93755  1618.96755  1643.44255  1889.39755   \n",
       "I240223  1631.21255  1625.30755  1634.33755  1630.81255  1621.76755   \n",
       "I240227  1602.38755  1556.48255  1590.51255  1607.98755  1601.94255   \n",
       "I240275  1565.04755  1551.14255  1548.17255  1573.64755  1590.60255   \n",
       "I240304  1594.87755  1585.97255  1589.00255  1607.47755  1605.43255   \n",
       "I240325  1580.30755  1557.40255  1583.43255  1590.90755  1596.86255   \n",
       "I240359  1570.23755  1543.33255  1579.36255  1578.83755  1579.79255   \n",
       "I240406  1602.92755  1607.02255  1597.05255  1607.52755  1618.48255   \n",
       "I240489  1542.46755  1544.56255  1533.59255  1581.06755  1572.02255   \n",
       "I240493  1585.52755  1570.62255  1611.65255  1597.12755  1615.08255   \n",
       "I240557  1597.61755  1569.71255  1600.74255  1595.21755  1611.17255   \n",
       "I240565  1592.26755  1566.36255  1584.39255  1618.86755  1625.82255   \n",
       "I240589  1605.47255  1562.56755  1600.59755  1605.07255  1602.02755   \n",
       "I240597  1578.81755  1559.91255  1571.94255  1612.41755  1584.37255   \n",
       "I240633  1521.91755  1535.01255  1542.04255  1560.51755  1544.47255   \n",
       "I240653  1592.08755  1580.18255  1595.21255  1596.68755  1608.64255   \n",
       "I240664  1585.23255  1563.32755  1597.35755  1612.83255  1610.78755   \n",
       "I240749  1640.96755  1609.06255  1609.09255  1618.56755  1624.52255   \n",
       "I240830  1579.07255  1539.16755  1564.19755  1579.67255  1548.62755   \n",
       "I240837  1601.01755  1597.11255  1622.14255  1629.61755  1634.57255   \n",
       "I240874  1603.41755  1571.51255  1563.54255  1618.01755  1600.97255   \n",
       "I240886  1560.99255  1543.08755  1571.11755  1577.59255  1585.54755   \n",
       "I240915  1607.65755  1574.75255  1599.78255  1608.25755  1619.21255   \n",
       "I240939  1562.52255  1533.61755  1575.64755  1591.12255  1572.07755   \n",
       "I240942  1610.02255  1596.11755  1574.14755  1609.62255  1608.57755   \n",
       "I240966  1611.67255  1578.76755  1596.79755  1617.27255  1615.22755   \n",
       "...             ...         ...         ...         ...         ...   \n",
       "I240891  1585.37255  1567.46755  1555.49755  1580.97255  1591.92755   \n",
       "I240951  1626.88255  1586.97755  1603.00755  1604.48255  1606.43755   \n",
       "I240959  1571.01755  1550.11255  1588.14255  1565.61755  1573.57255   \n",
       "I241016  1582.37255  1587.46755  1585.49755  1609.97255  1606.92755   \n",
       "I241069  1637.31755  1624.41255  1632.44255  1649.91755  1654.87255   \n",
       "I241077  1583.37255  1592.46755  1606.49755  1616.97255  1612.92755   \n",
       "I241090  1594.83255  1583.92755  1598.95755  1602.43255  1613.38755   \n",
       "I241113  1608.55755  1567.65255  1585.68255  1612.15755  1616.11255   \n",
       "I241177  1578.58255  1571.67755  1586.70755  1614.18255  1617.13755   \n",
       "I241210  1572.38755  1571.48255  1573.51255  1596.98755  1593.94255   \n",
       "I241214  1585.01255  1576.10755  1565.13755  1597.61255  1608.56755   \n",
       "I241270  1617.79255  1568.88755  1591.91755  1615.39255  1595.34755   \n",
       "I241334  1601.45255  1574.54755  1585.57755  1612.05255  1639.00755   \n",
       "I241338  1584.47755  1559.57255  1584.60255  1592.07755  1584.03255   \n",
       "I241453  1564.68255  1566.77755  1590.80755  1579.28255  1588.23755   \n",
       "I241497  1590.96255  1576.05755  1569.08755  1591.56255  1591.51755   \n",
       "I241542  1615.07755  1582.17255  1588.20255  1621.67755  1607.63255   \n",
       "I241584  1632.75255  1616.84755  1641.87755  1635.35255  1618.30755   \n",
       "I241612  1655.84255  1608.93755  1644.96755  1643.44255  1651.39755   \n",
       "I241620  1554.81755  1514.91255  1529.94255  1563.41755  1552.37255   \n",
       "I241711  1570.71755  1567.81255  1578.84255  1600.31755  1592.27255   \n",
       "I241823  1599.90755  1593.00255  1607.03255  1633.50755  1646.46255   \n",
       "I241901  1622.28755  1585.38255  1612.41255  1633.88755  1613.84255   \n",
       "I241907  1593.89255  1572.98755  1597.01755  1580.49255  1564.44755   \n",
       "I241919  1569.63255  1585.72755  1569.75755  1588.23255  1600.18755   \n",
       "I241922  1607.21755  1569.31255  1579.34255  1613.81755  1627.77255   \n",
       "I241950  1594.51255  1551.60755  1595.63755  1593.11255  1603.06755   \n",
       "I241966  1607.83255  1571.92755  1584.95755  1596.43255  1638.38755   \n",
       "I241995  1593.39755  1569.49255  1599.52255  1579.99755  1612.95255   \n",
       "I242019  1591.45255  1588.54755  1597.57755  1599.05255  1607.00755   \n",
       "\n",
       "                5           6           7           8           9    \\\n",
       "I240040  1631.21255  1602.38755  1565.04755  1594.87755  1580.30755   \n",
       "I240056  1625.30755  1556.48255  1551.14255  1585.97255  1557.40255   \n",
       "I240136  1634.33755  1590.51255  1548.17255  1589.00255  1583.43255   \n",
       "I240163  1630.81255  1607.98755  1573.64755  1607.47755  1590.90755   \n",
       "I240182  1621.76755  1601.94255  1590.60255  1605.43255  1596.86255   \n",
       "I240223  1897.13755  1609.31255  1582.97255  1615.80255  1620.23255   \n",
       "I240227  1609.31255  1858.48755  1573.14755  1562.97755  1576.40755   \n",
       "I240275  1582.97255  1573.14755  1796.80755  1550.63755  1549.06755   \n",
       "I240304  1615.80255  1562.97755  1550.63755  1834.46755  1574.89755   \n",
       "I240325  1620.23255  1576.40755  1549.06755  1574.89755  1827.32755   \n",
       "I240359  1595.16255  1556.33755  1547.99755  1576.82755  1562.25755   \n",
       "I240406  1639.85255  1571.02755  1560.68755  1599.51755  1584.94755   \n",
       "I240489  1583.39255  1523.56755  1521.22755  1519.05755  1517.48755   \n",
       "I240493  1635.45255  1593.62755  1572.28755  1607.11755  1569.54755   \n",
       "I240557  1606.54255  1587.71755  1552.37755  1564.20755  1568.63755   \n",
       "I240565  1599.19255  1581.36755  1577.02755  1582.85755  1595.28755   \n",
       "I240589  1622.39755  1615.57255  1577.23255  1590.06255  1591.49255   \n",
       "I240597  1607.74255  1548.91755  1535.57755  1566.40755  1568.83755   \n",
       "I240633  1587.84255  1530.01755  1504.67755  1521.50755  1531.93755   \n",
       "I240653  1608.01255  1604.18755  1563.84755  1585.67755  1576.10755   \n",
       "I240664  1634.15755  1572.33255  1540.99255  1578.82255  1568.25255   \n",
       "I240749  1641.89255  1606.06755  1579.72755  1613.55755  1606.98755   \n",
       "I240830  1588.99755  1554.17255  1512.83255  1561.66255  1521.09255   \n",
       "I240837  1634.94255  1615.11755  1569.77755  1616.60755  1613.03755   \n",
       "I240874  1637.34255  1586.51755  1567.17755  1564.00755  1582.43755   \n",
       "I240886  1615.91755  1546.09255  1552.75255  1561.58255  1561.01255   \n",
       "I240915  1643.58255  1584.75755  1561.41755  1610.24755  1601.67755   \n",
       "I240939  1605.44755  1561.62255  1529.28255  1538.11255  1546.54255   \n",
       "I240942  1614.94755  1580.12255  1542.78255  1602.61255  1559.04255   \n",
       "I240966  1617.59755  1578.77255  1574.43255  1604.26255  1585.69255   \n",
       "...             ...         ...         ...         ...         ...   \n",
       "I240891  1618.29755  1563.47255  1543.13255  1564.96255  1566.39255   \n",
       "I240951  1625.80755  1615.98255  1578.64255  1582.47255  1579.90255   \n",
       "I240959  1599.94255  1549.11755  1516.77755  1557.60755  1561.03755   \n",
       "I241016  1603.29755  1583.47255  1541.13255  1632.96255  1572.39255   \n",
       "I241069  1658.24255  1638.41755  1602.07755  1622.90755  1620.33755   \n",
       "I241077  1600.29755  1577.47255  1559.13255  1574.96255  1593.39255   \n",
       "I241090  1612.75755  1606.93255  1564.59255  1576.42255  1576.85255   \n",
       "I241113  1618.48255  1576.65755  1554.31755  1576.14755  1602.57755   \n",
       "I241177  1612.50755  1570.68255  1559.34255  1580.17255  1550.60255   \n",
       "I241210  1611.31255  1566.48755  1548.14755  1567.97755  1584.40755   \n",
       "I241214  1603.93755  1573.11255  1562.77255  1577.60255  1555.03255   \n",
       "I241270  1624.71755  1567.89255  1565.55255  1575.38255  1589.81255   \n",
       "I241334  1621.37755  1586.55255  1570.21255  1609.04255  1570.47255   \n",
       "I241338  1607.40255  1568.57755  1533.23755  1583.06755  1567.49755   \n",
       "I241453  1607.60755  1561.78255  1547.44255  1567.27255  1560.70255   \n",
       "I241497  1621.88755  1563.06255  1538.72255  1568.55255  1547.98255   \n",
       "I241542  1614.00255  1561.17755  1548.83755  1596.66755  1561.09755   \n",
       "I241584  1660.67755  1606.85255  1571.51255  1619.34255  1603.77255   \n",
       "I241612  1657.76755  1612.94255  1580.60255  1635.43255  1610.86255   \n",
       "I241620  1568.74255  1516.91755  1552.57755  1537.40755  1520.83755   \n",
       "I241711  1612.64255  1556.81755  1551.47755  1587.30755  1564.73755   \n",
       "I241823  1634.83255  1595.00755  1565.66755  1613.49755  1601.92755   \n",
       "I241901  1636.21255  1617.38755  1587.04755  1585.87755  1582.30755   \n",
       "I241907  1592.81755  1575.99255  1532.65255  1557.48255  1565.91255   \n",
       "I241919  1621.55755  1544.73255  1538.39255  1577.22255  1568.65255   \n",
       "I241922  1618.14255  1599.31755  1551.97755  1590.80755  1573.23755   \n",
       "I241950  1610.43755  1560.61255  1518.27255  1568.10255  1566.53255   \n",
       "I241966  1610.75755  1586.93255  1559.59255  1589.42255  1582.85255   \n",
       "I241995  1596.32255  1559.49755  1550.15755  1559.98755  1568.41755   \n",
       "I242019  1629.37755  1568.55255  1558.21255  1614.04255  1565.47255   \n",
       "\n",
       "            ...             190         191         192         193  \\\n",
       "I240040     ...      1570.71755  1599.90755  1622.28755  1593.89255   \n",
       "I240056     ...      1567.81255  1593.00255  1585.38255  1572.98755   \n",
       "I240136     ...      1578.84255  1607.03255  1612.41255  1597.01755   \n",
       "I240163     ...      1600.31755  1633.50755  1633.88755  1580.49255   \n",
       "I240182     ...      1592.27255  1646.46255  1613.84255  1564.44755   \n",
       "I240223     ...      1612.64255  1634.83255  1636.21255  1592.81755   \n",
       "I240227     ...      1556.81755  1595.00755  1617.38755  1575.99255   \n",
       "I240275     ...      1551.47755  1565.66755  1587.04755  1532.65255   \n",
       "I240304     ...      1587.30755  1613.49755  1585.87755  1557.48255   \n",
       "I240325     ...      1564.73755  1601.92755  1582.30755  1565.91255   \n",
       "I240359     ...      1551.66755  1567.85755  1580.23755  1534.84255   \n",
       "I240406     ...      1584.35755  1614.54755  1618.92755  1591.53255   \n",
       "I240489     ...      1521.89755  1545.08755  1562.46755  1527.07255   \n",
       "I240493     ...      1607.95755  1611.14755  1607.52755  1576.13255   \n",
       "I240557     ...      1569.04755  1611.23755  1590.61755  1559.22255   \n",
       "I240565     ...      1587.69755  1603.88755  1584.26755  1559.87255   \n",
       "I240589     ...      1566.90255  1594.09255  1600.47255  1568.07755   \n",
       "I240597     ...      1561.24755  1590.43755  1577.81755  1563.42255   \n",
       "I240633     ...      1556.34755  1568.53755  1555.91755  1517.52255   \n",
       "I240653     ...      1582.51755  1624.70755  1601.08755  1591.69255   \n",
       "I240664     ...      1598.66255  1599.85255  1593.23255  1560.83755   \n",
       "I240749     ...      1584.39755  1628.58755  1617.96755  1608.57255   \n",
       "I240830     ...      1534.50255  1567.69255  1568.07255  1521.67755   \n",
       "I240837     ...      1616.44755  1622.63755  1619.01755  1572.62255   \n",
       "I240874     ...      1550.84755  1593.03755  1608.41755  1549.02255   \n",
       "I240886     ...      1563.42255  1564.61255  1582.99255  1552.59755   \n",
       "I240915     ...      1584.08755  1612.27755  1594.65755  1564.26255   \n",
       "I240939     ...      1542.95255  1570.14255  1646.52255  1525.12755   \n",
       "I240942     ...      1583.45255  1624.64255  1594.02255  1577.62755   \n",
       "I240966     ...      1588.10255  1611.29255  1601.67255  1582.27755   \n",
       "...         ...             ...         ...         ...         ...   \n",
       "I240891     ...      1554.80255  1575.99255  1591.37255  1555.97755   \n",
       "I240951     ...      1592.31255  1613.50255  1618.88255  1548.48755   \n",
       "I240959     ...      1534.44755  1597.63755  1558.01755  1541.62255   \n",
       "I241016     ...      1570.80255  1653.99255  1572.37255  1578.97755   \n",
       "I241069     ...      1599.74755  1644.93755  1632.31755  1593.92255   \n",
       "I241077     ...      1583.80255  1608.99255  1597.37255  1580.97755   \n",
       "I241090     ...      1560.26255  1612.45255  1604.83255  1575.43755   \n",
       "I241113     ...      1581.98755  1616.17755  1624.55755  1564.16255   \n",
       "I241177     ...      1576.01255  1621.20255  1616.58255  1575.18755   \n",
       "I241210     ...      1561.81755  1592.00755  1572.38755  1558.99255   \n",
       "I241214     ...      1554.44255  1616.63255  1587.01255  1557.61755   \n",
       "I241270     ...      1593.22255  1607.41255  1578.79255  1527.39755   \n",
       "I241334     ...      1585.88255  1611.07255  1600.45255  1557.05755   \n",
       "I241338     ...      1570.90755  1624.09755  1589.47755  1553.08255   \n",
       "I241453     ...      1569.11255  1601.30255  1587.68255  1534.28755   \n",
       "I241497     ...      1546.39255  1602.58255  1597.96255  1553.56755   \n",
       "I241542     ...      1589.50755  1610.69755  1583.07755  1561.68255   \n",
       "I241584     ...      1618.18255  1619.37255  1621.75255  1612.35755   \n",
       "I241612     ...      1590.27255  1645.46255  1620.84255  1605.44755   \n",
       "I241620     ...      1531.24755  1563.43755  1551.81755  1511.42255   \n",
       "I241711     ...      1852.14755  1599.33755  1588.71755  1563.32255   \n",
       "I241823     ...      1599.33755  1876.52755  1611.90755  1558.51255   \n",
       "I241901     ...      1588.71755  1611.90755  1875.28755  1586.89255   \n",
       "I241907     ...      1563.32255  1558.51255  1586.89255  1839.49755   \n",
       "I241919     ...      1576.06255  1595.25255  1592.63255  1558.23755   \n",
       "I241922     ...      1560.64755  1593.83755  1600.21755  1555.82255   \n",
       "I241950     ...      1574.94255  1607.13255  1578.51255  1548.11755   \n",
       "I241966     ...      1574.26255  1628.45255  1590.83255  1550.43755   \n",
       "I241995     ...      1555.82755  1605.01755  1592.39755  1568.00255   \n",
       "I242019     ...      1585.88255  1615.07255  1608.45255  1567.05755   \n",
       "\n",
       "                194         195         196         197         198  \\\n",
       "I240040  1569.63255  1607.21755  1594.51255  1607.83255  1593.39755   \n",
       "I240056  1585.72755  1569.31255  1551.60755  1571.92755  1569.49255   \n",
       "I240136  1569.75755  1579.34255  1595.63755  1584.95755  1599.52255   \n",
       "I240163  1588.23255  1613.81755  1593.11255  1596.43255  1579.99755   \n",
       "I240182  1600.18755  1627.77255  1603.06755  1638.38755  1612.95255   \n",
       "I240223  1621.55755  1618.14255  1610.43755  1610.75755  1596.32255   \n",
       "I240227  1544.73255  1599.31755  1560.61255  1586.93255  1559.49755   \n",
       "I240275  1538.39255  1551.97755  1518.27255  1559.59255  1550.15755   \n",
       "I240304  1577.22255  1590.80755  1568.10255  1589.42255  1559.98755   \n",
       "I240325  1568.65255  1573.23755  1566.53255  1582.85255  1568.41755   \n",
       "I240359  1560.58255  1555.16755  1535.46255  1543.78255  1540.34755   \n",
       "I240406  1593.27255  1619.85755  1580.15255  1623.47255  1605.03755   \n",
       "I240489  1514.81255  1532.39755  1531.69255  1533.01255  1525.57755   \n",
       "I240493  1569.87255  1595.45755  1584.75255  1589.07255  1585.63755   \n",
       "I240557  1573.96255  1596.54755  1572.84255  1599.16255  1576.72755   \n",
       "I240565  1569.61255  1566.19755  1556.49255  1587.81255  1585.37755   \n",
       "I240589  1572.81755  1589.40255  1548.69755  1597.01755  1577.58255   \n",
       "I240597  1550.16255  1579.74755  1561.04255  1579.36255  1572.92755   \n",
       "I240633  1537.26255  1518.84755  1562.14255  1526.46255  1520.02755   \n",
       "I240653  1561.43255  1579.01755  1598.31255  1602.63255  1586.19755   \n",
       "I240664  1559.57755  1565.16255  1574.45755  1572.77755  1601.34255   \n",
       "I240749  1595.31255  1611.89755  1593.19255  1610.51255  1600.07755   \n",
       "I240830  1526.41755  1553.00255  1540.29755  1576.61755  1533.18255   \n",
       "I240837  1594.36255  1609.94755  1607.24255  1611.56255  1593.12755   \n",
       "I240874  1576.76255  1577.34755  1579.64255  1588.96255  1583.52755   \n",
       "I240886  1582.33755  1567.92255  1523.21755  1562.53755  1544.10255   \n",
       "I240915  1573.00255  1599.58755  1587.88255  1603.20255  1581.76755   \n",
       "I240939  1549.86755  1548.45255  1554.74755  1564.06755  1541.63255   \n",
       "I240942  1592.36755  1581.95255  1580.24755  1597.56755  1591.13255   \n",
       "I240966  1576.01755  1604.60255  1582.89755  1590.21755  1590.78255   \n",
       "...             ...         ...         ...         ...         ...   \n",
       "I240891  1541.71755  1551.30255  1558.59755  1568.91755  1539.48255   \n",
       "I240951  1559.22755  1591.81255  1579.10755  1596.42755  1577.99255   \n",
       "I240959  1529.36255  1558.94755  1521.24255  1557.56255  1562.12755   \n",
       "I241016  1565.71755  1574.30255  1568.59755  1600.91755  1568.48255   \n",
       "I241069  1593.66255  1619.24755  1599.54255  1625.86255  1624.42755   \n",
       "I241077  1594.71755  1577.30255  1550.59755  1604.91755  1556.48255   \n",
       "I241090  1564.17755  1584.76255  1557.05755  1603.37755  1589.94255   \n",
       "I241113  1587.90255  1603.48755  1582.78255  1590.10255  1577.66755   \n",
       "I241177  1551.92755  1612.51255  1579.80755  1564.12755  1573.69255   \n",
       "I241210  1581.73255  1602.31755  1563.61255  1561.93255  1564.49755   \n",
       "I241214  1556.35755  1578.94255  1578.23755  1600.55755  1576.12255   \n",
       "I241270  1563.13755  1566.72255  1592.01755  1584.33755  1560.90255   \n",
       "I241334  1575.79755  1597.38255  1579.67755  1675.99755  1577.56255   \n",
       "I241338  1548.82255  1548.40755  1557.70255  1571.02255  1559.58755   \n",
       "I241453  1541.02755  1585.61255  1541.90755  1562.22755  1556.79255   \n",
       "I241497  1559.30755  1579.89255  1559.18755  1569.50755  1541.07255   \n",
       "I241542  1564.42255  1584.00755  1568.30255  1591.62255  1573.18755   \n",
       "I241584  1616.09755  1608.68255  1602.97755  1612.29755  1597.86255   \n",
       "I241612  1603.18755  1618.77255  1616.06755  1622.38755  1623.95255   \n",
       "I241620  1507.16255  1541.74755  1536.04255  1555.36255  1520.92755   \n",
       "I241711  1576.06255  1560.64755  1574.94255  1574.26255  1555.82755   \n",
       "I241823  1595.25255  1593.83755  1607.13255  1628.45255  1605.01755   \n",
       "I241901  1592.63255  1600.21755  1578.51255  1590.83255  1592.39755   \n",
       "I241907  1558.23755  1555.82255  1548.11755  1550.43755  1568.00255   \n",
       "I241919  1815.97755  1582.56255  1542.85755  1584.17755  1576.74255   \n",
       "I241922  1582.56255  1861.14755  1572.44255  1584.76255  1576.32755   \n",
       "I241950  1542.85755  1572.44255  1836.73755  1580.05755  1563.62255   \n",
       "I241966  1584.17755  1584.76255  1580.05755  1872.37755  1597.94255   \n",
       "I241995  1576.74255  1576.32755  1563.62255  1597.94255  1834.50755   \n",
       "I242019  1588.79755  1583.38255  1585.67755  1600.99755  1601.56255   \n",
       "\n",
       "                199  \n",
       "I240040  1591.45255  \n",
       "I240056  1588.54755  \n",
       "I240136  1597.57755  \n",
       "I240163  1599.05255  \n",
       "I240182  1607.00755  \n",
       "I240223  1629.37755  \n",
       "I240227  1568.55255  \n",
       "I240275  1558.21255  \n",
       "I240304  1614.04255  \n",
       "I240325  1565.47255  \n",
       "I240359  1580.40255  \n",
       "I240406  1596.09255  \n",
       "I240489  1537.63255  \n",
       "I240493  1602.69255  \n",
       "I240557  1570.78255  \n",
       "I240565  1565.43255  \n",
       "I240589  1586.63755  \n",
       "I240597  1585.98255  \n",
       "I240633  1531.08255  \n",
       "I240653  1618.25255  \n",
       "I240664  1586.39755  \n",
       "I240749  1616.13255  \n",
       "I240830  1555.23755  \n",
       "I240837  1605.18255  \n",
       "I240874  1576.58255  \n",
       "I240886  1558.15755  \n",
       "I240915  1613.82255  \n",
       "I240939  1562.68755  \n",
       "I240942  1608.18755  \n",
       "I240966  1597.83755  \n",
       "...             ...  \n",
       "I240891  1568.53755  \n",
       "I240951  1585.04755  \n",
       "I240959  1564.18255  \n",
       "I241016  1579.53755  \n",
       "I241069  1611.48255  \n",
       "I241077  1589.53755  \n",
       "I241090  1574.99755  \n",
       "I241113  1589.72255  \n",
       "I241177  1594.74755  \n",
       "I241210  1571.55255  \n",
       "I241214  1587.17755  \n",
       "I241270  1593.95755  \n",
       "I241334  1602.61755  \n",
       "I241338  1580.64255  \n",
       "I241453  1577.84755  \n",
       "I241497  1589.12755  \n",
       "I241542  1572.24255  \n",
       "I241584  1623.91755  \n",
       "I241612  1619.00755  \n",
       "I241620  1541.98255  \n",
       "I241711  1585.88255  \n",
       "I241823  1615.07255  \n",
       "I241901  1608.45255  \n",
       "I241907  1567.05755  \n",
       "I241919  1588.79755  \n",
       "I241922  1583.38255  \n",
       "I241950  1585.67755  \n",
       "I241966  1600.99755  \n",
       "I241995  1601.56255  \n",
       "I242019  1868.61755  \n",
       "\n",
       "[200 rows x 200 columns]"
      ]
     },
     "execution_count": 51,
     "metadata": {},
     "output_type": "execute_result"
    }
   ],
   "source": [
    "km"
   ]
  },
  {
   "cell_type": "markdown",
   "metadata": {},
   "source": [
    "# Correcting the Kinship Matrix Calculation"
   ]
  },
  {
   "cell_type": "code",
   "execution_count": null,
   "metadata": {
    "collapsed": true
   },
   "outputs": [],
   "source": [
    "M = np.matrix(allele_count_matrix - 1)\n",
    "P = 2*(allele_frequencies - 0.5)\n",
    "Z = M - P\n",
    "scaling_terms = np.zeros((len(self.loci)))\n",
    "for idx, probability in enumerate(allele_frequencies):\n",
    "    scaling_terms[idx] = 2*probability*(1 - probability)\n",
    "\n",
    "scaling_factor = sum(scaling_terms)\n",
    "\n",
    "G = Z*Z.T/scaling_factor"
   ]
  },
  {
   "cell_type": "code",
   "execution_count": null,
   "metadata": {
    "collapsed": true
   },
   "outputs": [],
   "source": []
  },
  {
   "cell_type": "code",
   "execution_count": 120,
   "metadata": {
    "collapsed": true
   },
   "outputs": [],
   "source": [
    "M = np.matrix(cm - 1)\n",
    "P = 2*(segmin_af - 0.5)"
   ]
  },
  {
   "cell_type": "code",
   "execution_count": 121,
   "metadata": {
    "collapsed": true
   },
   "outputs": [],
   "source": [
    "Z = M - P"
   ]
  },
  {
   "cell_type": "code",
   "execution_count": 122,
   "metadata": {
    "collapsed": true
   },
   "outputs": [],
   "source": [
    "scaling_terms = np.zeros((943))"
   ]
  },
  {
   "cell_type": "code",
   "execution_count": 123,
   "metadata": {
    "collapsed": true
   },
   "outputs": [],
   "source": [
    "for idx, prob in enumerate(segmin_af):\n",
    "    scaling_terms[idx] = 2*prob*(1 - prob)"
   ]
  },
  {
   "cell_type": "code",
   "execution_count": 124,
   "metadata": {
    "collapsed": true
   },
   "outputs": [],
   "source": [
    "scaling_factor = sum(scaling_terms)"
   ]
  },
  {
   "cell_type": "code",
   "execution_count": 127,
   "metadata": {},
   "outputs": [],
   "source": [
    "G = (Z*Z.T)/scaling_factor"
   ]
  },
  {
   "cell_type": "code",
   "execution_count": 128,
   "metadata": {},
   "outputs": [
    {
     "data": {
      "text/plain": [
       "matrix([[ 0.954,  0.023, -0.021, ...,  0.014,  0.016, -0.036],\n",
       "        [ 0.023,  1.026,  0.011, ..., -0.052, -0.007,  0.019],\n",
       "        [-0.021,  0.011,  0.953, ..., -0.063,  0.044, -0.007],\n",
       "        ..., \n",
       "        [ 0.014, -0.052, -0.063, ...,  0.99 ,  0.043,  0.01 ],\n",
       "        [ 0.016, -0.007,  0.044, ...,  0.043,  0.96 ,  0.066],\n",
       "        [-0.036,  0.019, -0.007, ...,  0.01 ,  0.066,  0.996]])"
      ]
     },
     "execution_count": 128,
     "metadata": {},
     "output_type": "execute_result"
    }
   ],
   "source": [
    "G"
   ]
  },
  {
   "cell_type": "code",
   "execution_count": 52,
   "metadata": {},
   "outputs": [
    {
     "ename": "KeyError",
     "evalue": "'Unable to open object (Component not found)'",
     "output_type": "error",
     "traceback": [
      "\u001b[0;31m---------------------------------------------------------------------------\u001b[0m",
      "\u001b[0;31mKeyError\u001b[0m                                  Traceback (most recent call last)",
      "\u001b[0;32m<ipython-input-52-d3b11d603e3d>\u001b[0m in \u001b[0;36m<module>\u001b[0;34m()\u001b[0m\n\u001b[0;32m----> 1\u001b[0;31m \u001b[0mnp\u001b[0m\u001b[0;34m.\u001b[0m\u001b[0marray\u001b[0m\u001b[0;34m(\u001b[0m\u001b[0msmall_data\u001b[0m\u001b[0;34m[\u001b[0m\u001b[0;34m'allele/frequencies/replicate/0'\u001b[0m\u001b[0;34m]\u001b[0m\u001b[0;34m)\u001b[0m\u001b[0;34m\u001b[0m\u001b[0m\n\u001b[0m",
      "\u001b[0;32mh5py/_objects.pyx\u001b[0m in \u001b[0;36mh5py._objects.with_phil.wrapper (/feedstock_root/build_artefacts/h5py_1491365196274/work/h5py-2.7.0/h5py/_objects.c:2846)\u001b[0;34m()\u001b[0m\n",
      "\u001b[0;32mh5py/_objects.pyx\u001b[0m in \u001b[0;36mh5py._objects.with_phil.wrapper (/feedstock_root/build_artefacts/h5py_1491365196274/work/h5py-2.7.0/h5py/_objects.c:2804)\u001b[0;34m()\u001b[0m\n",
      "\u001b[0;32m~/anaconda43/lib/python3.6/site-packages/h5py/_hl/group.py\u001b[0m in \u001b[0;36m__getitem__\u001b[0;34m(self, name)\u001b[0m\n\u001b[1;32m    167\u001b[0m                 \u001b[0;32mraise\u001b[0m \u001b[0mValueError\u001b[0m\u001b[0;34m(\u001b[0m\u001b[0;34m\"Invalid HDF5 object reference\"\u001b[0m\u001b[0;34m)\u001b[0m\u001b[0;34m\u001b[0m\u001b[0m\n\u001b[1;32m    168\u001b[0m         \u001b[0;32melse\u001b[0m\u001b[0;34m:\u001b[0m\u001b[0;34m\u001b[0m\u001b[0m\n\u001b[0;32m--> 169\u001b[0;31m             \u001b[0moid\u001b[0m \u001b[0;34m=\u001b[0m \u001b[0mh5o\u001b[0m\u001b[0;34m.\u001b[0m\u001b[0mopen\u001b[0m\u001b[0;34m(\u001b[0m\u001b[0mself\u001b[0m\u001b[0;34m.\u001b[0m\u001b[0mid\u001b[0m\u001b[0;34m,\u001b[0m \u001b[0mself\u001b[0m\u001b[0;34m.\u001b[0m\u001b[0m_e\u001b[0m\u001b[0;34m(\u001b[0m\u001b[0mname\u001b[0m\u001b[0;34m)\u001b[0m\u001b[0;34m,\u001b[0m \u001b[0mlapl\u001b[0m\u001b[0;34m=\u001b[0m\u001b[0mself\u001b[0m\u001b[0;34m.\u001b[0m\u001b[0m_lapl\u001b[0m\u001b[0;34m)\u001b[0m\u001b[0;34m\u001b[0m\u001b[0m\n\u001b[0m\u001b[1;32m    170\u001b[0m \u001b[0;34m\u001b[0m\u001b[0m\n\u001b[1;32m    171\u001b[0m         \u001b[0motype\u001b[0m \u001b[0;34m=\u001b[0m \u001b[0mh5i\u001b[0m\u001b[0;34m.\u001b[0m\u001b[0mget_type\u001b[0m\u001b[0;34m(\u001b[0m\u001b[0moid\u001b[0m\u001b[0;34m)\u001b[0m\u001b[0;34m\u001b[0m\u001b[0m\n",
      "\u001b[0;32mh5py/_objects.pyx\u001b[0m in \u001b[0;36mh5py._objects.with_phil.wrapper (/feedstock_root/build_artefacts/h5py_1491365196274/work/h5py-2.7.0/h5py/_objects.c:2846)\u001b[0;34m()\u001b[0m\n",
      "\u001b[0;32mh5py/_objects.pyx\u001b[0m in \u001b[0;36mh5py._objects.with_phil.wrapper (/feedstock_root/build_artefacts/h5py_1491365196274/work/h5py-2.7.0/h5py/_objects.c:2804)\u001b[0;34m()\u001b[0m\n",
      "\u001b[0;32mh5py/h5o.pyx\u001b[0m in \u001b[0;36mh5py.h5o.open (/feedstock_root/build_artefacts/h5py_1491365196274/work/h5py-2.7.0/h5py/h5o.c:3740)\u001b[0;34m()\u001b[0m\n",
      "\u001b[0;31mKeyError\u001b[0m: 'Unable to open object (Component not found)'"
     ]
    }
   ],
   "source": [
    "np.array(small_data['allele/frequencies/replicate/0'])"
   ]
  },
  {
   "cell_type": "code",
   "execution_count": 58,
   "metadata": {},
   "outputs": [],
   "source": [
    "minor_allele_frequencies = np.array(small_data['allele/frequency/replicate/0'])[segregating_loci, 3]"
   ]
  },
  {
   "cell_type": "code",
   "execution_count": 61,
   "metadata": {},
   "outputs": [],
   "source": [
    "segmin_af = minor_allele_frequencies[segregating_loci]"
   ]
  },
  {
   "cell_type": "code",
   "execution_count": 62,
   "metadata": {},
   "outputs": [
    {
     "data": {
      "text/plain": [
       "135"
      ]
     },
     "execution_count": 62,
     "metadata": {},
     "output_type": "execute_result"
    }
   ],
   "source": [
    "np.argmax(segmin_af)"
   ]
  },
  {
   "cell_type": "code",
   "execution_count": null,
   "metadata": {
    "collapsed": true
   },
   "outputs": [],
   "source": [
    "V = ((-1)*count_matrix) + 1"
   ]
  },
  {
   "cell_type": "code",
   "execution_count": 92,
   "metadata": {
    "collapsed": true
   },
   "outputs": [],
   "source": [
    "V = cm"
   ]
  },
  {
   "cell_type": "code",
   "execution_count": 93,
   "metadata": {},
   "outputs": [
    {
     "data": {
      "text/plain": [
       "array([[0, 0, 0, ..., 1, 0, 0],\n",
       "       [1, 0, 0, ..., 1, 0, 0],\n",
       "       [0, 1, 0, ..., 1, 0, 1],\n",
       "       ..., \n",
       "       [0, 0, 0, ..., 1, 0, 0],\n",
       "       [1, 0, 0, ..., 1, 0, 1],\n",
       "       [0, 0, 0, ..., 0, 0, 0]])"
      ]
     },
     "execution_count": 93,
     "metadata": {},
     "output_type": "execute_result"
    }
   ],
   "source": [
    "V"
   ]
  },
  {
   "cell_type": "code",
   "execution_count": null,
   "metadata": {
    "collapsed": true
   },
   "outputs": [],
   "source": [
    "P = np.array([self.pop.dvars().alleleFreq[locus][allele]\n",
    "                  for locus, allele in zip(self.segregating_loci,\n",
    "                       self.segregating_minor_alleles)])"
   ]
  },
  {
   "cell_type": "code",
   "execution_count": 66,
   "metadata": {
    "collapsed": true
   },
   "outputs": [],
   "source": [
    "P = np.array(small_data['allele/frequency/replicate/0'])[segregating_loci, 3]"
   ]
  },
  {
   "cell_type": "code",
   "execution_count": 103,
   "metadata": {},
   "outputs": [],
   "source": [
    "P = 1 - P"
   ]
  },
  {
   "cell_type": "code",
   "execution_count": null,
   "metadata": {
    "collapsed": true
   },
   "outputs": [],
   "source": [
    "Z = np.zeros((self.pop.popSize(),\n",
    "                        len(self.segregating_loci)))\n",
    "\n"
   ]
  },
  {
   "cell_type": "code",
   "execution_count": 104,
   "metadata": {
    "collapsed": true
   },
   "outputs": [],
   "source": [
    "Z = np.zeros((200, 943))"
   ]
  },
  {
   "cell_type": "code",
   "execution_count": null,
   "metadata": {
    "collapsed": true
   },
   "outputs": [],
   "source": [
    "G = np.zeros((self.pop.popSize(), self.pop.popSize()), dtype=np.float)"
   ]
  },
  {
   "cell_type": "code",
   "execution_count": 105,
   "metadata": {
    "collapsed": true
   },
   "outputs": [],
   "source": [
    "G = np.zeros((200, 200))"
   ]
  },
  {
   "cell_type": "code",
   "execution_count": 106,
   "metadata": {},
   "outputs": [
    {
     "ename": "NameError",
     "evalue": "name 'self' is not defined",
     "output_type": "error",
     "traceback": [
      "\u001b[0;31m---------------------------------------------------------------------------\u001b[0m",
      "\u001b[0;31mNameError\u001b[0m                                 Traceback (most recent call last)",
      "\u001b[0;32m<ipython-input-106-10e1ba829005>\u001b[0m in \u001b[0;36m<module>\u001b[0;34m()\u001b[0m\n\u001b[0;32m----> 1\u001b[0;31m \u001b[0;32mfor\u001b[0m \u001b[0mi\u001b[0m \u001b[0;32min\u001b[0m \u001b[0mrange\u001b[0m\u001b[0;34m(\u001b[0m\u001b[0mself\u001b[0m\u001b[0;34m.\u001b[0m\u001b[0mpop\u001b[0m\u001b[0;34m.\u001b[0m\u001b[0mpopSize\u001b[0m\u001b[0;34m(\u001b[0m\u001b[0;34m)\u001b[0m\u001b[0;34m)\u001b[0m\u001b[0;34m:\u001b[0m\u001b[0;34m\u001b[0m\u001b[0m\n\u001b[0m\u001b[1;32m      2\u001b[0m     \u001b[0mZ\u001b[0m\u001b[0;34m[\u001b[0m\u001b[0mi\u001b[0m\u001b[0;34m,\u001b[0m \u001b[0;34m:\u001b[0m\u001b[0;34m]\u001b[0m \u001b[0;34m=\u001b[0m \u001b[0mV\u001b[0m\u001b[0;34m[\u001b[0m\u001b[0mi\u001b[0m\u001b[0;34m,\u001b[0m \u001b[0;34m:\u001b[0m\u001b[0;34m]\u001b[0m \u001b[0;34m-\u001b[0m \u001b[0;36m2\u001b[0m\u001b[0;34m*\u001b[0m\u001b[0;34m(\u001b[0m\u001b[0mP\u001b[0m \u001b[0;34m-\u001b[0m \u001b[0;36m0.5\u001b[0m\u001b[0;34m)\u001b[0m\u001b[0;34m\u001b[0m\u001b[0m\n",
      "\u001b[0;31mNameError\u001b[0m: name 'self' is not defined"
     ]
    }
   ],
   "source": [
    "for i in range(self.pop.popSize()):\n",
    "    Z[i, :] = V[i, :] - 2*(P - 0.5)"
   ]
  },
  {
   "cell_type": "code",
   "execution_count": 107,
   "metadata": {
    "collapsed": true
   },
   "outputs": [],
   "source": [
    "for i in range(200):\n",
    "    Z[i, :] = V[i, :] - 2*(P - 0.5)"
   ]
  },
  {
   "cell_type": "code",
   "execution_count": 108,
   "metadata": {},
   "outputs": [
    {
     "data": {
      "text/plain": [
       "array([[-0.805, -0.76 , -0.675, ...,  0.665, -0.49 , -0.72 ],\n",
       "       [ 0.195, -0.76 , -0.675, ...,  0.665, -0.49 , -0.72 ],\n",
       "       [-0.805,  0.24 , -0.675, ...,  0.665, -0.49 ,  0.28 ],\n",
       "       ..., \n",
       "       [-0.805, -0.76 , -0.675, ...,  0.665, -0.49 , -0.72 ],\n",
       "       [ 0.195, -0.76 , -0.675, ...,  0.665, -0.49 ,  0.28 ],\n",
       "       [-0.805, -0.76 , -0.675, ..., -0.335, -0.49 , -0.72 ]])"
      ]
     },
     "execution_count": 108,
     "metadata": {},
     "output_type": "execute_result"
    }
   ],
   "source": [
    "Z"
   ]
  },
  {
   "cell_type": "code",
   "execution_count": 74,
   "metadata": {},
   "outputs": [
    {
     "data": {
      "text/plain": [
       "array([[ 1.805,  1.76 ,  1.675, ...,  0.335,  1.49 ,  1.72 ],\n",
       "       [ 0.805,  1.76 ,  1.675, ...,  0.335,  1.49 ,  1.72 ],\n",
       "       [ 1.805,  0.76 ,  1.675, ...,  0.335,  1.49 ,  0.72 ],\n",
       "       ..., \n",
       "       [ 1.805,  1.76 ,  1.675, ...,  0.335,  1.49 ,  1.72 ],\n",
       "       [ 0.805,  1.76 ,  1.675, ...,  0.335,  1.49 ,  0.72 ],\n",
       "       [ 1.805,  1.76 ,  1.675, ...,  1.335,  1.49 ,  1.72 ]])"
      ]
     },
     "execution_count": 74,
     "metadata": {},
     "output_type": "execute_result"
    }
   ],
   "source": [
    "Z"
   ]
  },
  {
   "cell_type": "code",
   "execution_count": null,
   "metadata": {
    "collapsed": true
   },
   "outputs": [],
   "source": [
    "for i in range(self.pop.popSize()):\n",
    "    for j in range(self.pop.popSize()):\n",
    "        G[i, j] = np.sum(Z[i, :]*Z.T[:, j])"
   ]
  },
  {
   "cell_type": "code",
   "execution_count": 111,
   "metadata": {},
   "outputs": [],
   "source": [
    "for i in range(200):\n",
    "    G[i, i] = np.sum(Z[i, :]*Z.T[:, i])"
   ]
  },
  {
   "cell_type": "code",
   "execution_count": 116,
   "metadata": {},
   "outputs": [
    {
     "data": {
      "text/plain": [
       "array([-0.805,  0.195, -0.805, -0.805, -0.805, -0.805, -0.805, -0.805,\n",
       "       -0.805, -0.805,  0.195, -0.805, -0.805, -0.805,  0.195, -0.805,\n",
       "       -0.805,  0.195,  0.195, -0.805, -0.805, -0.805, -0.805, -0.805,\n",
       "       -0.805, -0.805, -0.805, -0.805, -0.805, -0.805, -0.805, -0.805,\n",
       "       -0.805, -0.805, -0.805,  0.195, -0.805, -0.805,  0.195, -0.805,\n",
       "       -0.805, -0.805, -0.805, -0.805, -0.805, -0.805, -0.805, -0.805,\n",
       "       -0.805,  0.195, -0.805, -0.805, -0.805, -0.805, -0.805, -0.805,\n",
       "       -0.805,  0.195, -0.805, -0.805, -0.805, -0.805,  0.195, -0.805,\n",
       "       -0.805, -0.805, -0.805, -0.805, -0.805, -0.805, -0.805, -0.805,\n",
       "       -0.805, -0.805, -0.805, -0.805, -0.805, -0.805, -0.805, -0.805,\n",
       "        0.195,  0.195, -0.805, -0.805,  0.195, -0.805, -0.805,  0.195,\n",
       "       -0.805, -0.805, -0.805, -0.805, -0.805, -0.805, -0.805,  0.195,\n",
       "       -0.805, -0.805, -0.805,  0.195, -0.805, -0.805, -0.805,  0.195,\n",
       "       -0.805, -0.805, -0.805, -0.805, -0.805, -0.805, -0.805, -0.805,\n",
       "       -0.805, -0.805, -0.805,  0.195, -0.805, -0.805,  0.195, -0.805,\n",
       "        0.195, -0.805,  0.195, -0.805, -0.805,  0.195, -0.805, -0.805,\n",
       "       -0.805, -0.805, -0.805, -0.805, -0.805, -0.805, -0.805, -0.805,\n",
       "        0.195, -0.805,  0.195,  0.195, -0.805, -0.805, -0.805,  0.195,\n",
       "       -0.805, -0.805, -0.805,  0.195, -0.805, -0.805, -0.805,  0.195,\n",
       "       -0.805, -0.805, -0.805, -0.805, -0.805,  0.195, -0.805, -0.805,\n",
       "       -0.805,  0.195,  0.195, -0.805, -0.805, -0.805, -0.805,  0.195,\n",
       "       -0.805,  0.195, -0.805, -0.805, -0.805, -0.805,  0.195, -0.805,\n",
       "        0.195, -0.805,  0.195,  0.195, -0.805, -0.805, -0.805, -0.805,\n",
       "       -0.805, -0.805, -0.805, -0.805, -0.805,  0.195, -0.805, -0.805,\n",
       "       -0.805, -0.805, -0.805, -0.805, -0.805, -0.805,  0.195, -0.805])"
      ]
     },
     "execution_count": 116,
     "metadata": {},
     "output_type": "execute_result"
    }
   ],
   "source": [
    "Z[:, 0]"
   ]
  },
  {
   "cell_type": "code",
   "execution_count": 119,
   "metadata": {},
   "outputs": [
    {
     "data": {
      "text/plain": [
       "array([ True,  True,  True,  True,  True,  True,  True,  True,  True,\n",
       "        True,  True,  True,  True,  True,  True,  True,  True,  True,\n",
       "        True,  True,  True,  True,  True,  True,  True,  True,  True,\n",
       "        True,  True,  True,  True,  True,  True,  True,  True,  True,\n",
       "        True,  True,  True,  True,  True,  True,  True,  True,  True,\n",
       "        True,  True,  True,  True,  True,  True,  True,  True,  True,\n",
       "        True,  True,  True,  True,  True,  True,  True,  True,  True,\n",
       "        True,  True,  True,  True,  True,  True,  True,  True,  True,\n",
       "        True,  True,  True,  True,  True,  True,  True,  True,  True,\n",
       "        True,  True,  True,  True,  True,  True,  True,  True,  True,\n",
       "        True,  True,  True,  True,  True,  True,  True,  True,  True,\n",
       "        True,  True,  True,  True,  True,  True,  True,  True,  True,\n",
       "        True,  True,  True,  True,  True,  True,  True,  True,  True,\n",
       "        True,  True,  True,  True,  True,  True,  True,  True,  True,\n",
       "        True,  True,  True,  True,  True,  True,  True,  True,  True,\n",
       "        True,  True,  True,  True,  True,  True,  True,  True,  True,\n",
       "        True,  True,  True,  True,  True,  True,  True,  True,  True,\n",
       "        True,  True,  True,  True,  True,  True,  True,  True,  True,\n",
       "        True,  True,  True,  True,  True,  True,  True,  True,  True,\n",
       "        True,  True,  True,  True,  True,  True,  True,  True,  True,\n",
       "        True,  True,  True,  True,  True,  True,  True,  True,  True,\n",
       "        True,  True,  True,  True,  True,  True,  True,  True,  True,\n",
       "        True,  True], dtype=bool)"
      ]
     },
     "execution_count": 119,
     "metadata": {},
     "output_type": "execute_result"
    }
   ],
   "source": [
    "Z.T[0, :] == Z[:, 0]"
   ]
  },
  {
   "cell_type": "code",
   "execution_count": null,
   "metadata": {
    "collapsed": true
   },
   "outputs": [],
   "source": []
  },
  {
   "cell_type": "code",
   "execution_count": 113,
   "metadata": {},
   "outputs": [
    {
     "data": {
      "text/plain": [
       "array([[ 524.508,  263.603,  257.633, ...,  273.053,  269.618,  251.673],\n",
       "       [ 263.603,  532.698,  260.728, ...,  249.148,  257.713,  260.768],\n",
       "       [ 257.633,  260.728,  524.758, ...,  252.178,  277.743,  259.798],\n",
       "       ..., \n",
       "       [ 273.053,  249.148,  252.178, ...,  546.598,  283.163,  270.218],\n",
       "       [ 269.618,  257.713,  277.743, ...,  283.163,  530.728,  281.783],\n",
       "       [ 251.673,  260.768,  259.798, ...,  270.218,  281.783,  532.838]])"
      ]
     },
     "execution_count": 113,
     "metadata": {},
     "output_type": "execute_result"
    }
   ],
   "source": [
    "G"
   ]
  },
  {
   "cell_type": "code",
   "execution_count": 112,
   "metadata": {},
   "outputs": [
    {
     "data": {
      "text/plain": [
       "array([[ 524.508,  263.603,  257.633, ...,  273.053,  269.618,  251.673],\n",
       "       [ 263.603,  532.698,  260.728, ...,  249.148,  257.713,  260.768],\n",
       "       [ 257.633,  260.728,  524.758, ...,  252.178,  277.743,  259.798],\n",
       "       ..., \n",
       "       [ 273.053,  249.148,  252.178, ...,  546.598,  283.163,  270.218],\n",
       "       [ 269.618,  257.713,  277.743, ...,  283.163,  530.728,  281.783],\n",
       "       [ 251.673,  260.768,  259.798, ...,  270.218,  281.783,  532.838]])"
      ]
     },
     "execution_count": 112,
     "metadata": {},
     "output_type": "execute_result"
    }
   ],
   "source": [
    "G"
   ]
  },
  {
   "cell_type": "code",
   "execution_count": 89,
   "metadata": {},
   "outputs": [
    {
     "data": {
      "text/plain": [
       "(200, 943)"
      ]
     },
     "execution_count": 89,
     "metadata": {},
     "output_type": "execute_result"
    }
   ],
   "source": [
    "(Z*Z).shape"
   ]
  },
  {
   "cell_type": "code",
   "execution_count": null,
   "metadata": {
    "collapsed": true
   },
   "outputs": [],
   "source": [
    "eigenvectors = [ps[i]*svd[i] for i in range(2)]"
   ]
  },
  {
   "cell_type": "code",
   "execution_count": null,
   "metadata": {
    "collapsed": true
   },
   "outputs": [],
   "source": []
  },
  {
   "cell_type": "code",
   "execution_count": null,
   "metadata": {},
   "outputs": [],
   "source": [
    "eigvals = np.array(ps, dtype=np.float_)"
   ]
  },
  {
   "cell_type": "code",
   "execution_count": null,
   "metadata": {},
   "outputs": [],
   "source": []
  },
  {
   "cell_type": "code",
   "execution_count": null,
   "metadata": {},
   "outputs": [],
   "source": [
    "np.sort_complex(ps)"
   ]
  },
  {
   "cell_type": "code",
   "execution_count": null,
   "metadata": {},
   "outputs": [],
   "source": [
    "svd.dtype"
   ]
  },
  {
   "cell_type": "code",
   "execution_count": null,
   "metadata": {},
   "outputs": [],
   "source": [
    "eigenvectors[0].dtype"
   ]
  },
  {
   "cell_type": "code",
   "execution_count": null,
   "metadata": {},
   "outputs": [],
   "source": [
    "ps.dtype"
   ]
  },
  {
   "cell_type": "code",
   "execution_count": null,
   "metadata": {},
   "outputs": [],
   "source": [
    "svd.dtype"
   ]
  },
  {
   "cell_type": "code",
   "execution_count": null,
   "metadata": {},
   "outputs": [],
   "source": [
    "(ps[0]*svd[0]).dtype"
   ]
  },
  {
   "cell_type": "code",
   "execution_count": null,
   "metadata": {},
   "outputs": [],
   "source": [
    "svd.dtype"
   ]
  },
  {
   "cell_type": "code",
   "execution_count": null,
   "metadata": {},
   "outputs": [],
   "source": [
    "ps.dtype"
   ]
  },
  {
   "cell_type": "code",
   "execution_count": null,
   "metadata": {},
   "outputs": [],
   "source": [
    "ps[0]*svd[:, 0]"
   ]
  },
  {
   "cell_type": "code",
   "execution_count": null,
   "metadata": {
    "collapsed": true
   },
   "outputs": [],
   "source": []
  },
  {
   "cell_type": "code",
   "execution_count": null,
   "metadata": {},
   "outputs": [],
   "source": [
    "cm.dtype"
   ]
  },
  {
   "cell_type": "code",
   "execution_count": null,
   "metadata": {},
   "outputs": [],
   "source": [
    "minalls[segregating_loci]"
   ]
  },
  {
   "cell_type": "code",
   "execution_count": null,
   "metadata": {
    "collapsed": true
   },
   "outputs": [],
   "source": []
  },
  {
   "cell_type": "code",
   "execution_count": null,
   "metadata": {
    "collapsed": true
   },
   "outputs": [],
   "source": [
    "small_data."
   ]
  },
  {
   "cell_type": "code",
   "execution_count": null,
   "metadata": {
    "collapsed": true
   },
   "outputs": [],
   "source": [
    "indir = \"/home/vakanas/tassel-5-standalone/input/\"\n",
    "outdir = \"/home/vakanas/tassel-5-standalone/output/\"\n",
    "rep_id_name = \"0\""
   ]
  },
  {
   "cell_type": "code",
   "execution_count": null,
   "metadata": {
    "collapsed": true
   },
   "outputs": [],
   "source": []
  },
  {
   "cell_type": "code",
   "execution_count": null,
   "metadata": {
    "collapsed": true
   },
   "outputs": [],
   "source": []
  },
  {
   "cell_type": "raw",
   "metadata": {},
   "source": [
    "minor_alleles"
   ]
  },
  {
   "cell_type": "raw",
   "metadata": {},
   "source": [
    "run_id"
   ]
  },
  {
   "cell_type": "code",
   "execution_count": null,
   "metadata": {
    "collapsed": true
   },
   "outputs": [],
   "source": [
    "gwas = analyze.GWAS(meta_pop, list(range(meta_pop.totNumLoci())), run_id)"
   ]
  },
  {
   "cell_type": "code",
   "execution_count": null,
   "metadata": {
    "collapsed": true
   },
   "outputs": [],
   "source": [
    "ccm = gwas.calculate_count_matrix(minor_alleles, list(range(meta_pop.totNumLoci())))"
   ]
  },
  {
   "cell_type": "code",
   "execution_count": null,
   "metadata": {
    "collapsed": true
   },
   "outputs": [],
   "source": [
    "ps_svd = gwas.pop_struct_svd(ccm)"
   ]
  },
  {
   "cell_type": "code",
   "execution_count": null,
   "metadata": {
    "collapsed": true
   },
   "outputs": [],
   "source": [
    "name = run_id+'_'+rep_id_name"
   ]
  },
  {
   "cell_type": "code",
   "execution_count": null,
   "metadata": {
    "collapsed": true
   },
   "outputs": [],
   "source": [
    "gwas.population_structure_formatter(ps_svd, indir+name+'_structure_matrix.txt')"
   ]
  },
  {
   "cell_type": "code",
   "execution_count": null,
   "metadata": {
    "collapsed": true
   },
   "outputs": [],
   "source": [
    "int_to_snp_map = {0:'A', 1:'C', 2:'G', 3:'T', 4:'-', 5:'+'}"
   ]
  },
  {
   "cell_type": "raw",
   "metadata": {},
   "source": [
    "len(concordant_segregating_loci)"
   ]
  },
  {
   "cell_type": "code",
   "execution_count": null,
   "metadata": {
    "collapsed": true
   },
   "outputs": [],
   "source": [
    "locus_names = list(concordant_segregating_loci)"
   ]
  },
  {
   "cell_type": "code",
   "execution_count": null,
   "metadata": {
    "collapsed": true
   },
   "outputs": [],
   "source": [
    "alleles_column = ['NA']*len(concordant_segregating_loci)"
   ]
  },
  {
   "cell_type": "code",
   "execution_count": null,
   "metadata": {
    "collapsed": true
   },
   "outputs": [],
   "source": [
    "chromosomes = [meta_pop.chromLocusPair(locus)[0]+1 for locus in concordant_segregating_loci]"
   ]
  },
  {
   "cell_type": "code",
   "execution_count": null,
   "metadata": {
    "collapsed": true
   },
   "outputs": [],
   "source": [
    "gwas.hapmap_formatter(concordant_segregating_loci, alleles_column, \n",
    "                      locus_names, chromosomes, \n",
    "                      locus_names, \n",
    "                      indir+name+'_simulated_hapmap.txt')"
   ]
  },
  {
   "cell_type": "raw",
   "metadata": {
    "collapsed": true
   },
   "source": [
    "minor_allele_frequencies.shape"
   ]
  },
  {
   "cell_type": "raw",
   "metadata": {},
   "source": [
    "mafrqs"
   ]
  },
  {
   "cell_type": "code",
   "execution_count": null,
   "metadata": {
    "collapsed": true
   },
   "outputs": [],
   "source": [
    "minor_allele_frequency_table = analyze.minor_allele_frequencies_table(\n",
    "        meta_pop.dvars().alleleFreq, minor_alleles)"
   ]
  },
  {
   "cell_type": "code",
   "execution_count": null,
   "metadata": {
    "collapsed": true
   },
   "outputs": [],
   "source": [
    "minor_allele_frequencies = np.array(minor_allele_frequency_table.minor_frequency)"
   ]
  },
  {
   "cell_type": "code",
   "execution_count": null,
   "metadata": {
    "collapsed": true
   },
   "outputs": [],
   "source": [
    "minor_allele_frequencies"
   ]
  },
  {
   "cell_type": "code",
   "execution_count": null,
   "metadata": {
    "collapsed": true
   },
   "outputs": [],
   "source": [
    "gwas.calc_kinship_matrix(ccm, minor_allele_frequencies, indir+name+'_kinship_matrix.txt')"
   ]
  },
  {
   "cell_type": "code",
   "execution_count": null,
   "metadata": {
    "collapsed": true
   },
   "outputs": [],
   "source": [
    "gwas.trait_formatter(indir+name+'_trait_vector.txt')"
   ]
  },
  {
   "cell_type": "code",
   "execution_count": null,
   "metadata": {
    "collapsed": true
   },
   "outputs": [],
   "source": [
    "import xml.etree.ElementTree as ET\n",
    "import lxml.etree as etree"
   ]
  },
  {
   "cell_type": "code",
   "execution_count": null,
   "metadata": {
    "collapsed": true
   },
   "outputs": [],
   "source": [
    "config_file_template = '/home/vakanas/BISB/rjwlab-scripts/saegus_project/devel/magic/1478/gwas_pipeline.xml'"
   ]
  },
  {
   "cell_type": "code",
   "execution_count": null,
   "metadata": {
    "collapsed": true
   },
   "outputs": [],
   "source": [
    "tree = ET.parse(config_file_template)\n",
    "root = tree.getroot()\n",
    "lxml_tree = etree.fromstring(ET.tostring(root))\n",
    "lxml_root = lxml_tree.getroottree()"
   ]
  },
  {
   "cell_type": "code",
   "execution_count": null,
   "metadata": {
    "collapsed": true
   },
   "outputs": [],
   "source": [
    "lxml_root.find('fork1/h').text = indir+name+'_simulated_hapmap.txt'\n",
    "lxml_root.find('fork2/t').text = indir+name+'_trait_vector.txt'\n",
    "lxml_root.find('fork3/q').text = indir+name+'_structure_matrix.txt'\n",
    "lxml_root.find('fork4/k').text = indir+name+'_kinship_matrix.txt'\n",
    "\n",
    "lxml_root.find('combine6/export').text = outdir+name+'_out_'"
   ]
  },
  {
   "cell_type": "raw",
   "metadata": {},
   "source": [
    "`rep_id_name"
   ]
  },
  {
   "cell_type": "raw",
   "metadata": {},
   "source": [
    "run_id"
   ]
  },
  {
   "cell_type": "code",
   "execution_count": null,
   "metadata": {
    "collapsed": true
   },
   "outputs": [],
   "source": [
    "lxml_root.write(\"/home/vakanas/tassel-5-standalone/\"+\"R\"+rep_id_name+'_'+\n",
    "                run_id+'_'+\"_sim_gwas_pipeline.xml\",\n",
    "                encoding=\"UTF-8\",\n",
    "                method=\"xml\", \n",
    "                xml_declaration=True, \n",
    "                standalone='',\n",
    "                pretty_print=True) "
   ]
  },
  {
   "cell_type": "markdown",
   "metadata": {},
   "source": [
    "# Run TASSEL at This Point"
   ]
  },
  {
   "cell_type": "markdown",
   "metadata": {},
   "source": [
    "# Use R Qvalue package to get Qvalues"
   ]
  },
  {
   "cell_type": "markdown",
   "metadata": {},
   "source": [
    "# Combine TASSEL, Qvalues and Other Information"
   ]
  },
  {
   "cell_type": "code",
   "execution_count": null,
   "metadata": {
    "collapsed": true
   },
   "outputs": [],
   "source": [
    "qvalues = pd.read_csv(\"/home/vakanas/tassel-5-standalone/output/epsilon_0_qvalues.txt\", sep='\\t')"
   ]
  },
  {
   "cell_type": "code",
   "execution_count": null,
   "metadata": {
    "collapsed": true
   },
   "outputs": [],
   "source": [
    "qvalues.index = list(concordant_segregating_loci)"
   ]
  },
  {
   "cell_type": "code",
   "execution_count": null,
   "metadata": {
    "collapsed": true
   },
   "outputs": [],
   "source": [
    "qvalues"
   ]
  },
  {
   "cell_type": "code",
   "execution_count": null,
   "metadata": {
    "collapsed": true
   },
   "outputs": [],
   "source": [
    "raw_gwas_results = pd.read_csv(\"/home/vakanas/tassel-5-standalone/output/epsilon_0_out_2.txt\", sep='\\t')"
   ]
  },
  {
   "cell_type": "code",
   "execution_count": null,
   "metadata": {
    "collapsed": true
   },
   "outputs": [],
   "source": [
    "raw_gwas_results.drop(0, axis=0, inplace=True)"
   ]
  },
  {
   "cell_type": "code",
   "execution_count": null,
   "metadata": {
    "collapsed": true
   },
   "outputs": [],
   "source": [
    "raw_gwas_results.drop('Trait', axis=1, inplace=True)"
   ]
  },
  {
   "cell_type": "code",
   "execution_count": null,
   "metadata": {
    "collapsed": true
   },
   "outputs": [],
   "source": [
    "raw_gwas_results.index = np.array(list(map(int, raw_gwas_results.Marker)))"
   ]
  },
  {
   "cell_type": "code",
   "execution_count": null,
   "metadata": {
    "collapsed": true
   },
   "outputs": [],
   "source": [
    "raw_gwas_results"
   ]
  },
  {
   "cell_type": "code",
   "execution_count": null,
   "metadata": {
    "collapsed": true,
    "scrolled": true
   },
   "outputs": [],
   "source": [
    "raw_gwas_results = raw_gwas_results.join(qvalues)"
   ]
  },
  {
   "cell_type": "code",
   "execution_count": null,
   "metadata": {
    "collapsed": true
   },
   "outputs": [],
   "source": [
    "minor_allele_frequencies"
   ]
  },
  {
   "cell_type": "code",
   "execution_count": null,
   "metadata": {
    "collapsed": true
   },
   "outputs": [],
   "source": [
    "mafrqs = analyze.minor_allele_frequencies_table(meta_pop.dvars().alleleFreq, minor_alleles)"
   ]
  },
  {
   "cell_type": "code",
   "execution_count": null,
   "metadata": {
    "collapsed": true
   },
   "outputs": [],
   "source": [
    "raw_gwas_results = raw_gwas_results.join(mafrqs.ix[concordant_segregating_loci, :])"
   ]
  },
  {
   "cell_type": "code",
   "execution_count": null,
   "metadata": {
    "collapsed": true
   },
   "outputs": [],
   "source": [
    "raw_gwas_results"
   ]
  },
  {
   "cell_type": "code",
   "execution_count": null,
   "metadata": {
    "collapsed": true
   },
   "outputs": [],
   "source": []
  },
  {
   "cell_type": "code",
   "execution_count": null,
   "metadata": {
    "collapsed": true
   },
   "outputs": [],
   "source": []
  },
  {
   "cell_type": "code",
   "execution_count": null,
   "metadata": {
    "collapsed": true
   },
   "outputs": [],
   "source": [
    "def tassel_results_tables(gwas_file_name, q_values_file_name, \n",
    "                              minor_allele_frequency_table, \n",
    "                              quantitative_allele_table):\n",
    "    raw_gwas_results = pd.read_csv(gwas_file_name, sep='\\t')\n",
    "    raw_gwas_results.drop(0, axis=0, inplace=True)\n",
    "    raw_gwas_results.drop('Trait', axis=1, inplace=True)\n",
    "    raw_gwas_results.index = np.array(list(map(int, raw_gwas_results.Marker)))\n",
    "    q_values = pd.read_csv(q_values_file_name, sep='\\t')\n",
    "    q_values.index = np.array(list(map(int, raw_gwas_results.Marker)))\n",
    "    raw_gwas_results = raw_gwas_results.join(q_values)\n",
    "    \n",
    "    assert minor_allele_frequency_table.index.dtype == raw_gwas_results.index.dtype, \"Indexes of these tables are different\"\n",
    "    \n",
    "    raw_gwas_results = raw_gwas_results.join(minor_allele_frequency_table.ix[raw_gwas_results.index, :])\n",
    "    \n",
    "    assert quantitative_allele_table.index.dtype == raw_gwas_results.index.dtype, \"Indexes of these tables are different\"\n",
    "    \n",
    "    raw_gwas_results = raw_gwas_results.join(quantitative_allele_table.ix[raw_gwas_results.index, :])\n",
    "    return raw_gwas_results"
   ]
  },
  {
   "cell_type": "code",
   "execution_count": null,
   "metadata": {
    "collapsed": true
   },
   "outputs": [],
   "source": [
    "pwd"
   ]
  },
  {
   "cell_type": "code",
   "execution_count": null,
   "metadata": {
    "collapsed": true
   },
   "outputs": [],
   "source": [
    "cd /home/vakanas/tassel-5-standalone/output/"
   ]
  },
  {
   "cell_type": "code",
   "execution_count": null,
   "metadata": {
    "collapsed": true
   },
   "outputs": [],
   "source": [
    "ls"
   ]
  },
  {
   "cell_type": "code",
   "execution_count": null,
   "metadata": {
    "collapsed": true
   },
   "outputs": [],
   "source": [
    "mafrqs = pd.read_csv('epsilon_0_maf_table.txt', sep='\\t', index_col=0)"
   ]
  },
  {
   "cell_type": "code",
   "execution_count": null,
   "metadata": {
    "collapsed": true
   },
   "outputs": [],
   "source": [
    "mafrqs"
   ]
  },
  {
   "cell_type": "code",
   "execution_count": null,
   "metadata": {
    "collapsed": true
   },
   "outputs": [],
   "source": [
    "qtad = pd.read_csv('epsilon_0_quant_allele_table.txt', sep='\\t', index_col=0)"
   ]
  },
  {
   "cell_type": "code",
   "execution_count": null,
   "metadata": {
    "collapsed": true
   },
   "outputs": [],
   "source": [
    "qtad"
   ]
  },
  {
   "cell_type": "code",
   "execution_count": null,
   "metadata": {
    "collapsed": true
   },
   "outputs": [],
   "source": [
    "super_table = tassel_results_tables('epsilon_0_out_2.txt', 'epsilon_0_qvalues.txt', mafrqs, qtad)"
   ]
  },
  {
   "cell_type": "code",
   "execution_count": null,
   "metadata": {
    "collapsed": true
   },
   "outputs": [],
   "source": [
    "super_table.ix[super_table.q < 0.05]"
   ]
  },
  {
   "cell_type": "code",
   "execution_count": null,
   "metadata": {
    "collapsed": true
   },
   "outputs": [],
   "source": [
    "super_table.ix[super_table.alpha_effect > 0]"
   ]
  },
  {
   "cell_type": "code",
   "execution_count": null,
   "metadata": {
    "collapsed": true
   },
   "outputs": [],
   "source": []
  },
  {
   "cell_type": "code",
   "execution_count": null,
   "metadata": {
    "collapsed": true
   },
   "outputs": [],
   "source": []
  },
  {
   "cell_type": "code",
   "execution_count": null,
   "metadata": {
    "collapsed": true
   },
   "outputs": [],
   "source": [
    "mg.multiple_sample_analyzer(meta_populations, qtl, allele_effects, \n",
    "                            minor_alleles, concordant_segregating_loci)"
   ]
  },
  {
   "cell_type": "code",
   "execution_count": null,
   "metadata": {
    "collapsed": true
   },
   "outputs": [],
   "source": [
    "analyze.store_allele_effect_frequency_tables(meta_population, alleles, \n",
    "                                             qtl,\n",
    "                                             exponential_allele_effects,\n",
    "                                            run_id, 'exponential')"
   ]
  },
  {
   "cell_type": "code",
   "execution_count": null,
   "metadata": {
    "collapsed": true
   },
   "outputs": [],
   "source": []
  },
  {
   "cell_type": "code",
   "execution_count": null,
   "metadata": {
    "collapsed": true
   },
   "outputs": [],
   "source": []
  },
  {
   "cell_type": "code",
   "execution_count": null,
   "metadata": {
    "collapsed": true
   },
   "outputs": [],
   "source": []
  },
  {
   "cell_type": "code",
   "execution_count": null,
   "metadata": {
    "collapsed": true
   },
   "outputs": [],
   "source": []
  },
  {
   "cell_type": "code",
   "execution_count": null,
   "metadata": {
    "collapsed": true
   },
   "outputs": [],
   "source": [
    "loci_conversions = shelve.open(run_id+'_loci_conversions')\n",
    "saegus_to_tassel_loci = {}\n",
    "tassel_to_saegus_loci = {}\n",
    "for idx, locus in enumerate(concordant_segregating_loci):\n",
    "    saegus_to_tassel_loci[locus] = idx\n",
    "    tassel_to_saegus_loci[idx] = locus\n",
    "loci_conversions['saegus_to_tassel'] = saegus_to_tassel_loci\n",
    "loci_conversions['tassel_to_saegus'] = tassel_to_saegus_loci\n",
    "loci_conversions.close()"
   ]
  },
  {
   "cell_type": "code",
   "execution_count": null,
   "metadata": {
    "collapsed": true
   },
   "outputs": [],
   "source": [
    "seg_loc_storage = shelve.open('segregating_loci_storage')\n",
    "seg_loc_storage['bacchus'] = concordant_segregating_loci\n",
    "seg_loc_storage.close()"
   ]
  },
  {
   "cell_type": "code",
   "execution_count": null,
   "metadata": {
    "collapsed": true
   },
   "outputs": [],
   "source": [
    "int_to_snp = {0: 'A', 1: 'C', 2: 'G', 3: 'T', 4: '-', 5: '+'}\n",
    "snp_to_int = {'A': 0, 'C': 1, '-': 4, 'G': 2, '+': 5, 'T': 3}\n",
    "conv = shelve.open('synthesis_parameters')\n",
    "conv['integer_to_snp'] = int_to_snp\n",
    "conv['snp_to_integer'] = snp_to_int\n",
    "conv.close()"
   ]
  },
  {
   "cell_type": "code",
   "execution_count": null,
   "metadata": {
    "collapsed": true
   },
   "outputs": [],
   "source": [
    "exponential_allele_effects_table = analyze.generate_allele_effects_table(qtl, alleles, \n",
    "                                                exponential_allele_effects, saegus_to_tassel_loci)"
   ]
  },
  {
   "cell_type": "code",
   "execution_count": null,
   "metadata": {
    "collapsed": true
   },
   "outputs": [],
   "source": []
  },
  {
   "cell_type": "code",
   "execution_count": null,
   "metadata": {
    "collapsed": true
   },
   "outputs": [],
   "source": []
  },
  {
   "cell_type": "code",
   "execution_count": null,
   "metadata": {
    "collapsed": true
   },
   "outputs": [],
   "source": [
    "analyze.remap_allele_frequency_table_loci(analyze.reload_allele_frequencies_table(run_id, 0, 250, \n",
    "                                                                                  'exponential'), \n",
    "                                          concordant_segregating_loci)"
   ]
  },
  {
   "cell_type": "code",
   "execution_count": null,
   "metadata": {
    "collapsed": true
   },
   "outputs": [],
   "source": [
    "analyze.write_multiple_sample_analyzer(sample_library, sample_sizes, qtl, alleles, \n",
    "                                       exponential_allele_effects, 0.7,  concordant_segregating_loci, \n",
    "                                       run_id=run_id, sub_run_id='_exponential', \n",
    "                                       allele_frequency_hdf=run_id+'_allele_frequency_storage.h5')"
   ]
  },
  {
   "cell_type": "code",
   "execution_count": null,
   "metadata": {
    "collapsed": true
   },
   "outputs": [],
   "source": [
    "multiple_sample_analyzer(meta_populations, qtl, allele_effects, minor_alleles, concordant_segregating_loci)"
   ]
  },
  {
   "cell_type": "code",
   "execution_count": null,
   "metadata": {
    "collapsed": true
   },
   "outputs": [],
   "source": [
    "import h5py"
   ]
  },
  {
   "cell_type": "code",
   "execution_count": null,
   "metadata": {
    "collapsed": true
   },
   "outputs": [],
   "source": [
    "with h5py.File('bia_allele_frequencies.hdf5') as biaf:\n",
    "    reloaded_af = np.array(biaf[afname])"
   ]
  },
  {
   "cell_type": "code",
   "execution_count": null,
   "metadata": {
    "collapsed": true
   },
   "outputs": [],
   "source": [
    "fisegloc = list(concordant_segregating_loci)"
   ]
  },
  {
   "cell_type": "code",
   "execution_count": null,
   "metadata": {
    "collapsed": true
   },
   "outputs": [],
   "source": [
    "minor_allele_frequencies = reloaded_af[fisegloc]"
   ]
  },
  {
   "cell_type": "code",
   "execution_count": null,
   "metadata": {
    "collapsed": true
   },
   "outputs": [],
   "source": [
    "def write_super_tables(power_and_fpr_raw_data, sample_sizes, number_of_replicates, run_id, sub_run_id=''):\n",
    "    for size in sample_sizes:\n",
    "        for rep in range(number_of_replicates):\n",
    "            name = run_id + '_' + sub_run_id + '_' + str(rep) + '_' + str(size) + '_super_table.txt'\n",
    "            power_and_fpr_raw_data[size][rep].to_csv(name, sep='\\t')"
   ]
  },
  {
   "cell_type": "code",
   "execution_count": null,
   "metadata": {
    "collapsed": true
   },
   "outputs": [],
   "source": []
  },
  {
   "cell_type": "code",
   "execution_count": null,
   "metadata": {
    "collapsed": true
   },
   "outputs": [],
   "source": []
  },
  {
   "cell_type": "code",
   "execution_count": null,
   "metadata": {
    "collapsed": true
   },
   "outputs": [],
   "source": [
    "expo_power_fpr_raw_data = analyze.collect_power_analysis_data(run_id, sample_sizes, number_of_replicates, concordant_segregating_loci, 'exponential')"
   ]
  },
  {
   "cell_type": "code",
   "execution_count": null,
   "metadata": {
    "collapsed": true
   },
   "outputs": [],
   "source": [
    "expo_power_fpr_raw_data[250]"
   ]
  },
  {
   "cell_type": "code",
   "execution_count": null,
   "metadata": {
    "collapsed": true
   },
   "outputs": [],
   "source": [
    "write_super_tables(expo_power_fpr_raw_data,\n",
    "                  sample_sizes,\n",
    "                  number_of_replicates,\n",
    "                  'bacchus',\n",
    "                  sub_run_id='exponential')"
   ]
  },
  {
   "cell_type": "code",
   "execution_count": null,
   "metadata": {
    "collapsed": true
   },
   "outputs": [],
   "source": [
    "expo_results, expo_true_positives, expo_false_positives = study.calculate_power_fpr(expo_power_fpr_raw_data, sample_sizes, \n",
    "                                                                             number_of_replicates, number_of_qtl)"
   ]
  },
  {
   "cell_type": "code",
   "execution_count": null,
   "metadata": {
    "collapsed": true
   },
   "outputs": [],
   "source": [
    "expo_results"
   ]
  },
  {
   "cell_type": "code",
   "execution_count": null,
   "metadata": {
    "collapsed": true
   },
   "outputs": [],
   "source": [
    "mean_and_stdev = pd.DataFrame([expo_results.mean(), expo_results.std()], index=['mean', 'stdev']).T\n",
    "mean_and_stdev.to_csv('bacchus_exponential_mean_and_stdev_power_fpr.csv', sep='\\t')"
   ]
  },
  {
   "cell_type": "code",
   "execution_count": null,
   "metadata": {
    "collapsed": true
   },
   "outputs": [],
   "source": [
    "geo_results"
   ]
  },
  {
   "cell_type": "code",
   "execution_count": null,
   "metadata": {
    "collapsed": true
   },
   "outputs": [],
   "source": [
    "geometric_allele_effects_table"
   ]
  },
  {
   "cell_type": "code",
   "execution_count": null,
   "metadata": {
    "collapsed": true
   },
   "outputs": [],
   "source": [
    "exponential_allele_effects_table"
   ]
  },
  {
   "cell_type": "code",
   "execution_count": null,
   "metadata": {
    "collapsed": true
   },
   "outputs": [],
   "source": [
    "expo_results.to_csv(\"bacchus_exponential_power_fpr_results.txt\", sep='\\t')"
   ]
  },
  {
   "cell_type": "code",
   "execution_count": null,
   "metadata": {
    "collapsed": true
   },
   "outputs": [],
   "source": [
    "mean_and_stdev = pd.DataFrame([geo_results.mean(), geo_results.std()], index=['mean', 'stdev']).T\n",
    "mean_and_stdev.to_csv('full_icecrown_geometric_mean_and_stdev_power_fpr.txt', sep='\\t')"
   ]
  },
  {
   "cell_type": "code",
   "execution_count": null,
   "metadata": {
    "collapsed": true
   },
   "outputs": [],
   "source": [
    "expo_results, expo_true_positives, expo_false_positives = full_icecrown.calculate_power_fpr(expo_power_fpr_raw_data,\n",
    "                                                                                      sample_sizes,\n",
    "                                                                                      number_of_replicates,\n",
    "                                                                                      number_of_qtl)"
   ]
  },
  {
   "cell_type": "code",
   "execution_count": null,
   "metadata": {
    "collapsed": true
   },
   "outputs": [],
   "source": []
  },
  {
   "cell_type": "code",
   "execution_count": null,
   "metadata": {
    "collapsed": true
   },
   "outputs": [],
   "source": [
    "expo_results"
   ]
  },
  {
   "cell_type": "code",
   "execution_count": null,
   "metadata": {
    "collapsed": true
   },
   "outputs": [],
   "source": [
    "expo_results.to_csv('full_icecrown_exponential_power_fpr_results.txt', sep='\\t')"
   ]
  },
  {
   "cell_type": "code",
   "execution_count": null,
   "metadata": {
    "collapsed": true
   },
   "outputs": [],
   "source": [
    "mean_and_stdev = pd.DataFrame([expo_results.mean(), expo_results.std()], index=['mean', 'stdev']).T\n",
    "mean_and_stdev.to_csv('full_icecrown_exponential_mean_and_stdev_power_fpr.txt', sep='\\t')"
   ]
  },
  {
   "cell_type": "code",
   "execution_count": null,
   "metadata": {
    "collapsed": true
   },
   "outputs": [],
   "source": [
    "write_super_tables(expo_power_fpr_raw_data, sample_sizes, number_of_replicates, run_id, 'exponential')"
   ]
  },
  {
   "cell_type": "code",
   "execution_count": null,
   "metadata": {
    "collapsed": true
   },
   "outputs": [],
   "source": []
  },
  {
   "cell_type": "code",
   "execution_count": null,
   "metadata": {
    "collapsed": true
   },
   "outputs": [],
   "source": [
    "geo_aggregate_estimated_actual = pd.DataFrame([np.array(geo_agg_estimated), np.array(geo_agg_actual)], index=['estimated', 'actual']).T"
   ]
  },
  {
   "cell_type": "code",
   "execution_count": null,
   "metadata": {
    "collapsed": true
   },
   "outputs": [],
   "source": [
    "geo_aggregate_estimated_actual['estimated'] = geo_aggregate_estimated_actual['estimated'].apply(np.fabs)"
   ]
  },
  {
   "cell_type": "code",
   "execution_count": null,
   "metadata": {
    "collapsed": true
   },
   "outputs": [],
   "source": [
    "geo_aggregate_estimated_actual"
   ]
  },
  {
   "cell_type": "code",
   "execution_count": null,
   "metadata": {
    "collapsed": true
   },
   "outputs": [],
   "source": [
    "geo_corr = geo_aggregate_estimated_actual['estimated'].corr(geo_aggregate_estimated_actual['actual'])"
   ]
  },
  {
   "cell_type": "code",
   "execution_count": null,
   "metadata": {
    "collapsed": true
   },
   "outputs": [],
   "source": [
    "geo_agg_estimated"
   ]
  },
  {
   "cell_type": "code",
   "execution_count": null,
   "metadata": {
    "collapsed": true
   },
   "outputs": [],
   "source": []
  },
  {
   "cell_type": "code",
   "execution_count": null,
   "metadata": {
    "collapsed": true
   },
   "outputs": [],
   "source": [
    "aggregate_estimated_actual"
   ]
  },
  {
   "cell_type": "code",
   "execution_count": null,
   "metadata": {
    "collapsed": true
   },
   "outputs": [],
   "source": [
    "geo_corr"
   ]
  },
  {
   "cell_type": "code",
   "execution_count": null,
   "metadata": {
    "collapsed": true
   },
   "outputs": [],
   "source": [
    "pwd"
   ]
  },
  {
   "cell_type": "code",
   "execution_count": null,
   "metadata": {
    "collapsed": true
   },
   "outputs": [],
   "source": [
    "geo_aggregate_estimated_actual.to_csv('full_icecrown_geometric_estimated_vs_actual_allele_effects.txt', sep='\\t')"
   ]
  },
  {
   "cell_type": "code",
   "execution_count": null,
   "metadata": {
    "collapsed": true
   },
   "outputs": [],
   "source": []
  },
  {
   "cell_type": "code",
   "execution_count": null,
   "metadata": {
    "collapsed": true
   },
   "outputs": [],
   "source": [
    "agg_estimated = []\n",
    "agg_actual = []"
   ]
  },
  {
   "cell_type": "code",
   "execution_count": null,
   "metadata": {
    "collapsed": true
   },
   "outputs": [],
   "source": [
    "for rep in reps:\n",
    "    for size in sample_sizes:\n",
    "        sutable = sutable_collection[rep][size]\n",
    "        droppable = list(sutable.ix[sutable.ix[:, 'difference'] == 0.0].index)\n",
    "        qtloci = sutable.drop(droppable, axis=0)\n",
    "        agg_estimated.extend(list(qtloci['add_effect']))\n",
    "        agg_actual.extend(list(qtloci['difference']))"
   ]
  },
  {
   "cell_type": "code",
   "execution_count": null,
   "metadata": {
    "collapsed": true
   },
   "outputs": [],
   "source": [
    "aggregate_estimated_actual = pd.DataFrame([np.array(agg_estimated), np.array(agg_actual)], index=['estimated', 'actual']).T"
   ]
  },
  {
   "cell_type": "code",
   "execution_count": null,
   "metadata": {
    "collapsed": true
   },
   "outputs": [],
   "source": [
    "aggregate_estimated_actual['estimated'] = np.fabs(aggregate_estimated_actual['estimated'])"
   ]
  },
  {
   "cell_type": "code",
   "execution_count": null,
   "metadata": {
    "collapsed": true
   },
   "outputs": [],
   "source": [
    "aggregate_estimated_actual"
   ]
  },
  {
   "cell_type": "code",
   "execution_count": null,
   "metadata": {
    "collapsed": true
   },
   "outputs": [],
   "source": [
    "correlation_actual_vs_effects = aggregate_estimated_actual['estimated'].corr(aggregate_estimated_actual['actual'])"
   ]
  },
  {
   "cell_type": "code",
   "execution_count": null,
   "metadata": {
    "collapsed": true
   },
   "outputs": [],
   "source": [
    "aggregate_estimated_actual.to_csv('full_icecrown_exponential_estimated_vs_actual_allele_effects.txt', sep='\\t')"
   ]
  },
  {
   "cell_type": "code",
   "execution_count": null,
   "metadata": {
    "collapsed": true
   },
   "outputs": [],
   "source": [
    "aggregate_estimated_actual['estimated'] = np.fabs(aggregate_estimated_actual['estimated'])"
   ]
  },
  {
   "cell_type": "code",
   "execution_count": null,
   "metadata": {
    "collapsed": true
   },
   "outputs": [],
   "source": [
    "cd C:\\tassel\\output\\full_icecrown\\exponential"
   ]
  },
  {
   "cell_type": "code",
   "execution_count": null,
   "metadata": {
    "collapsed": true
   },
   "outputs": [],
   "source": [
    "expo_estimated_actual = pd.read_csv('full_icecrown_exponential_estimated_vs_actual_allele_effects.txt', sep='\\t', index_col=0)"
   ]
  },
  {
   "cell_type": "code",
   "execution_count": null,
   "metadata": {
    "collapsed": true
   },
   "outputs": [],
   "source": [
    "expo_estimated_actual"
   ]
  },
  {
   "cell_type": "code",
   "execution_count": null,
   "metadata": {
    "collapsed": true
   },
   "outputs": [],
   "source": [
    "aggregate_estimated_actual"
   ]
  },
  {
   "cell_type": "code",
   "execution_count": null,
   "metadata": {
    "collapsed": true
   },
   "outputs": [],
   "source": [
    ", from bokeh.plotting import figure, show, output_file\n",
    "from bokeh.io import output_notebook"
   ]
  },
  {
   "cell_type": "code",
   "execution_count": null,
   "metadata": {
    "collapsed": true
   },
   "outputs": [],
   "source": [
    "output_notebook()"
   ]
  },
  {
   "cell_type": "code",
   "execution_count": null,
   "metadata": {
    "collapsed": true
   },
   "outputs": [],
   "source": [
    "aggregate_estimated_actual"
   ]
  },
  {
   "cell_type": "code",
   "execution_count": null,
   "metadata": {
    "collapsed": true
   },
   "outputs": [],
   "source": [
    "geo_x = aggregate_estimated_actual['estimated']\n",
    "geo_y = aggregate_estimated_actual['actual']"
   ]
  },
  {
   "cell_type": "code",
   "execution_count": null,
   "metadata": {
    "collapsed": true
   },
   "outputs": [],
   "source": [
    "p = figure(title=\"Estimated vs Actual Allele Effects - Geometric Series\", \n",
    "           title_text_font_size=\"16\",\n",
    "          x_range=(-0.2, 4))"
   ]
  },
  {
   "cell_type": "code",
   "execution_count": null,
   "metadata": {
    "collapsed": true
   },
   "outputs": [],
   "source": [
    "p.scatter(geo_x, y, x=\"Estimated\", y=\"Actual\")\n",
    "\n",
    "p.xaxis.axis_label = \"Estimated\"\n",
    "p.yaxis.axis_label = \"Actual\""
   ]
  },
  {
   "cell_type": "code",
   "execution_count": null,
   "metadata": {
    "collapsed": true
   },
   "outputs": [],
   "source": [
    "show(p)"
   ]
  },
  {
   "cell_type": "code",
   "execution_count": null,
   "metadata": {
    "collapsed": true
   },
   "outputs": [],
   "source": [
    "expo"
   ]
  },
  {
   "cell_type": "code",
   "execution_count": null,
   "metadata": {
    "collapsed": true
   },
   "outputs": [],
   "source": [
    "p = figure(title=\"Estimated vs Actual Allele Effects - Geometric Series\", title_text_font_size=\"16\")"
   ]
  },
  {
   "cell_type": "code",
   "execution_count": null,
   "metadata": {
    "collapsed": true
   },
   "outputs": [],
   "source": [
    "expo_plot = figure(title=\"Estimated vs Actual Effects - Exponential(lambda=1)\", \n",
    "                   title_text_font_size=\"16\", \n",
    "                  x_range=(0, 4))\n",
    "\n",
    "x = np.array(expo_estimated_actual['estimated'])\n",
    "y = np.array(expo_estimated_actual['actual'])\n",
    "\n",
    "expo_plot.xaxis.axis_label = \"Estimated\"\n",
    "expo_plot.yaxis.axis_label = \"Actual\""
   ]
  },
  {
   "cell_type": "code",
   "execution_count": null,
   "metadata": {
    "collapsed": true
   },
   "outputs": [],
   "source": [
    "expo_plot.scatter(x, y)"
   ]
  },
  {
   "cell_type": "code",
   "execution_count": null,
   "metadata": {
    "collapsed": true
   },
   "outputs": [],
   "source": [
    "show(expo_plot)"
   ]
  },
  {
   "cell_type": "code",
   "execution_count": null,
   "metadata": {
    "collapsed": true
   },
   "outputs": [],
   "source": [
    "from bokeh.io import hplot"
   ]
  },
  {
   "cell_type": "code",
   "execution_count": null,
   "metadata": {
    "collapsed": true
   },
   "outputs": [],
   "source": [
    "geo_plot = figure(title=\"Estimated vs Actual Allele Effects - Geometric Series\", \n",
    "           title_text_font_size=\"16\",\n",
    "          x_range=(0, 4), y_range=(0, 4))"
   ]
  },
  {
   "cell_type": "code",
   "execution_count": null,
   "metadata": {
    "collapsed": true
   },
   "outputs": [],
   "source": [
    "geo_x = aggregate_estimated_actual['actual']\n",
    "geo_y = aggregate_estimated_actual['estimated']"
   ]
  },
  {
   "cell_type": "code",
   "execution_count": null,
   "metadata": {
    "collapsed": true
   },
   "outputs": [],
   "source": [
    "geo_plot.xaxis.axis_label = \"Actual\"\n",
    "geo_plot.yaxis.axis_label = \"Estimated\"\n",
    "geo_plot.scatter(geo_x, geo_y, x=\"Actual\", y=\"Estimated\")"
   ]
  },
  {
   "cell_type": "code",
   "execution_count": null,
   "metadata": {
    "collapsed": true
   },
   "outputs": [],
   "source": [
    "expo_plot = figure(title=\"Estimated vs Actual Effects - Exponential(lambda=1)\", \n",
    "                   title_text_font_size=\"16\", \n",
    "                  x_range=(0, 4), y_range=(0, 4))\n",
    "\n",
    "expo_x = np.array(expo_estimated_actual['actual'])\n",
    "expo_y = np.array(expo_estimated_actual['estimated'])\n",
    "\n",
    "expo_plot.xaxis.axis_label = \"Actual\"\n",
    "expo_plot.yaxis.axis_label = \"Estimated\"\n",
    "expo_plot.scatter(expo_x, expo_y)"
   ]
  },
  {
   "cell_type": "code",
   "execution_count": null,
   "metadata": {
    "collapsed": true
   },
   "outputs": [],
   "source": [
    "multi_plot = hplot(geo_plot, expo_plot)\n",
    "show(multi_plot)"
   ]
  },
  {
   "cell_type": "code",
   "execution_count": null,
   "metadata": {
    "collapsed": true
   },
   "outputs": [],
   "source": [
    "output_file(\"multi_plot.png\")"
   ]
  },
  {
   "cell_type": "code",
   "execution_count": null,
   "metadata": {
    "collapsed": true
   },
   "outputs": [],
   "source": [
    "ls"
   ]
  },
  {
   "cell_type": "code",
   "execution_count": null,
   "metadata": {
    "collapsed": true
   },
   "outputs": [],
   "source": []
  }
 ],
 "metadata": {
  "kernelspec": {
   "display_name": "Python 3",
   "language": "python",
   "name": "python3"
  },
  "language_info": {
   "codemirror_mode": {
    "name": "ipython",
    "version": 3
   },
   "file_extension": ".py",
   "mimetype": "text/x-python",
   "name": "python",
   "nbconvert_exporter": "python",
   "pygments_lexer": "ipython3",
   "version": "3.6.1"
  }
 },
 "nbformat": 4,
 "nbformat_minor": 1
}
