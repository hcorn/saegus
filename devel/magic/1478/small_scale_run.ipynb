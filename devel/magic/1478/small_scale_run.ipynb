{
 "cells": [
  {
   "cell_type": "markdown",
   "metadata": {},
   "source": [
    "# Small"
   ]
  },
  {
   "cell_type": "code",
   "execution_count": 1,
   "metadata": {
    "collapsed": true
   },
   "outputs": [],
   "source": [
    "import simuOpt\n",
    "simuOpt.setOptions(alleleType='short', numThreads=4, quiet=True)\n",
    "import simuPOP as sim\n",
    "import pandas as pd\n",
    "from saegus import breed, operators, simulate, analyze, parse, parameters\n",
    "import shelve\n",
    "import numpy as np\n",
    "import random\n",
    "import h5py\n",
    "import collections as col\n",
    "np.set_printoptions(suppress=True, precision=3)"
   ]
  },
  {
   "cell_type": "code",
   "execution_count": 2,
   "metadata": {
    "collapsed": true
   },
   "outputs": [],
   "source": [
    "small = analyze.Study('small')"
   ]
  },
  {
   "cell_type": "code",
   "execution_count": 3,
   "metadata": {
    "collapsed": true
   },
   "outputs": [],
   "source": [
    "run_id = 'small'\n",
    "generations_of_random_mating = 10\n",
    "number_of_qtl = 20\n",
    "number_of_replicates = 10\n",
    "founders = [[2, 26], [3, 25], [4, 24], [5, 23]]\n",
    "os_per_pair = 500\n",
    "recombination_rates = [0.01]*1478"
   ]
  },
  {
   "cell_type": "code",
   "execution_count": 4,
   "metadata": {
    "collapsed": true
   },
   "outputs": [],
   "source": [
    "prefounders = sim.loadPopulation('bia_prefounders.pop')"
   ]
  },
  {
   "cell_type": "code",
   "execution_count": 5,
   "metadata": {},
   "outputs": [
    {
     "data": {
      "text/plain": [
       "('ind_id',\n",
       " 'father_id',\n",
       " 'mother_id',\n",
       " 'fitness',\n",
       " 'p',\n",
       " 'g',\n",
       " 'generation',\n",
       " 'replicate')"
      ]
     },
     "execution_count": 5,
     "metadata": {},
     "output_type": "execute_result"
    }
   ],
   "source": [
    "prefounders.infoFields()"
   ]
  },
  {
   "cell_type": "code",
   "execution_count": 6,
   "metadata": {
    "collapsed": true
   },
   "outputs": [],
   "source": [
    "sim.tagID(prefounders, reset=True)"
   ]
  },
  {
   "cell_type": "code",
   "execution_count": 7,
   "metadata": {},
   "outputs": [
    {
     "data": {
      "text/plain": [
       "26"
      ]
     },
     "execution_count": 7,
     "metadata": {},
     "output_type": "execute_result"
    }
   ],
   "source": [
    "prefounders.popSize()"
   ]
  },
  {
   "cell_type": "code",
   "execution_count": 8,
   "metadata": {
    "collapsed": true
   },
   "outputs": [],
   "source": [
    "multi_prefounders = sim.Simulator(prefounders, 10, stealPops=False)"
   ]
  },
  {
   "cell_type": "code",
   "execution_count": 9,
   "metadata": {
    "collapsed": true
   },
   "outputs": [],
   "source": [
    "magic = breed.MAGIC(multi_prefounders, founders, recombination_rates)"
   ]
  },
  {
   "cell_type": "code",
   "execution_count": 10,
   "metadata": {
    "collapsed": true
   },
   "outputs": [],
   "source": [
    "magic.generate_f_one(founders, os_per_pair)"
   ]
  },
  {
   "cell_type": "code",
   "execution_count": 11,
   "metadata": {
    "collapsed": true
   },
   "outputs": [],
   "source": [
    "mrc = breed.MultiRandomCross(multi_prefounders, 4, 500)"
   ]
  },
  {
   "cell_type": "code",
   "execution_count": 12,
   "metadata": {
    "collapsed": true
   },
   "outputs": [],
   "source": [
    "mother_choices, father_choices = mrc.determine_random_cross()"
   ]
  },
  {
   "cell_type": "code",
   "execution_count": 13,
   "metadata": {
    "collapsed": true
   },
   "outputs": [],
   "source": [
    "multi_snd_ord_chooser = breed.MultiSecondOrderPairIDChooser(\n",
    "    mother_choices, father_choices)"
   ]
  },
  {
   "cell_type": "code",
   "execution_count": 14,
   "metadata": {},
   "outputs": [
    {
     "data": {
      "text/plain": [
       "(1, 1, 1, 1, 1, 1, 1, 1, 1, 1)"
      ]
     },
     "execution_count": 14,
     "metadata": {},
     "output_type": "execute_result"
    }
   ],
   "source": [
    "multi_prefounders.evolve(\n",
    "    matingScheme=sim.HomoMating(\n",
    "        sim.PyParentsChooser(multi_snd_ord_chooser.snd_ord_id_pairs),\n",
    "        sim.OffspringGenerator(ops=[\n",
    "            sim.IdTagger(),\n",
    "            sim.PedigreeTagger(),\n",
    "            sim.Recombinator(rates=0.01)\n",
    "        ],\n",
    "            numOffspring=1),\n",
    "        subPopSize=[2000],\n",
    "    ),\n",
    "    gen=1,\n",
    ")"
   ]
  },
  {
   "cell_type": "code",
   "execution_count": 15,
   "metadata": {
    "collapsed": true
   },
   "outputs": [],
   "source": [
    "final_mrc = breed.MultiRandomCross(multi_prefounders, 2, 1000)"
   ]
  },
  {
   "cell_type": "code",
   "execution_count": 16,
   "metadata": {
    "collapsed": true
   },
   "outputs": [],
   "source": [
    "final_mothers, final_fathers = final_mrc.determine_random_cross()"
   ]
  },
  {
   "cell_type": "code",
   "execution_count": 17,
   "metadata": {
    "collapsed": true
   },
   "outputs": [],
   "source": [
    "final_multi_snd_ord_chooser = breed.MultiSecondOrderPairIDChooser(\n",
    "    final_mothers, final_fathers)"
   ]
  },
  {
   "cell_type": "code",
   "execution_count": 18,
   "metadata": {},
   "outputs": [
    {
     "data": {
      "text/plain": [
       "(1, 1, 1, 1, 1, 1, 1, 1, 1, 1)"
      ]
     },
     "execution_count": 18,
     "metadata": {},
     "output_type": "execute_result"
    }
   ],
   "source": [
    "multi_prefounders.evolve(\n",
    "    matingScheme=sim.HomoMating(\n",
    "        sim.PyParentsChooser(final_multi_snd_ord_chooser.snd_ord_id_pairs),\n",
    "        sim.OffspringGenerator(ops=[\n",
    "            sim.IdTagger(),\n",
    "            sim.PedigreeTagger(),\n",
    "            sim.Recombinator(rates=0.01)\n",
    "        ],\n",
    "            numOffspring=1),\n",
    "        subPopSize=[2000],\n",
    "    ),\n",
    "    gen=1,\n",
    ")"
   ]
  },
  {
   "cell_type": "markdown",
   "metadata": {},
   "source": [
    "# Random Mating Phase"
   ]
  },
  {
   "cell_type": "code",
   "execution_count": 19,
   "metadata": {},
   "outputs": [
    {
     "data": {
      "text/plain": [
       "(10, 10, 10, 10, 10, 10, 10, 10, 10, 10)"
      ]
     },
     "execution_count": 19,
     "metadata": {},
     "output_type": "execute_result"
    }
   ],
   "source": [
    "multi_prefounders.evolve(\n",
    "    matingScheme=sim.RandomMating(ops=[\n",
    "            sim.IdTagger(),\n",
    "            sim.PedigreeTagger(),\n",
    "            sim.Recombinator(rates=0.01)\n",
    "        ],\n",
    "        subPopSize=[2000]),\n",
    "    gen=10,\n",
    ")"
   ]
  },
  {
   "cell_type": "code",
   "execution_count": 20,
   "metadata": {
    "collapsed": true
   },
   "outputs": [],
   "source": [
    "sample_size = 200"
   ]
  },
  {
   "cell_type": "code",
   "execution_count": 21,
   "metadata": {
    "collapsed": true
   },
   "outputs": [],
   "source": [
    "sample_library = small.collect_samples(multi_prefounders, [200])"
   ]
  },
  {
   "cell_type": "code",
   "execution_count": 22,
   "metadata": {},
   "outputs": [
    {
     "data": {
      "text/plain": [
       "{0: [<simuPOP.Population>],\n",
       " 1: [<simuPOP.Population>],\n",
       " 2: [<simuPOP.Population>],\n",
       " 3: [<simuPOP.Population>],\n",
       " 4: [<simuPOP.Population>],\n",
       " 5: [<simuPOP.Population>],\n",
       " 6: [<simuPOP.Population>],\n",
       " 7: [<simuPOP.Population>],\n",
       " 8: [<simuPOP.Population>],\n",
       " 9: [<simuPOP.Population>]}"
      ]
     },
     "execution_count": 22,
     "metadata": {},
     "output_type": "execute_result"
    }
   ],
   "source": [
    "sample_library"
   ]
  },
  {
   "cell_type": "code",
   "execution_count": 23,
   "metadata": {
    "collapsed": true
   },
   "outputs": [],
   "source": [
    "for rep_id, sample_list in sample_library.items():\n",
    "    sim.stat(sample_list[0], numOfSegSites=sim.ALL_AVAIL, vars=['numOfSegSites', 'segSites'])\n",
    "    sim.stat(sample_list[0], alleleFreq=sim.ALL_AVAIL)"
   ]
  },
  {
   "cell_type": "code",
   "execution_count": 24,
   "metadata": {
    "collapsed": true
   },
   "outputs": [],
   "source": [
    "sample = sample_library[0][0]"
   ]
  },
  {
   "cell_type": "code",
   "execution_count": 25,
   "metadata": {
    "collapsed": true
   },
   "outputs": [],
   "source": [
    "astates = small.gather_allele_data(sample)"
   ]
  },
  {
   "cell_type": "raw",
   "metadata": {},
   "source": [
    "print(astates)"
   ]
  },
  {
   "cell_type": "code",
   "execution_count": 26,
   "metadata": {
    "collapsed": true
   },
   "outputs": [],
   "source": [
    "alleles = np.array([astates[:, 1], astates[:, 2]]).T"
   ]
  },
  {
   "cell_type": "raw",
   "metadata": {},
   "source": [
    "print(alleles)"
   ]
  },
  {
   "cell_type": "code",
   "execution_count": 28,
   "metadata": {
    "collapsed": true
   },
   "outputs": [],
   "source": [
    "af = small.gather_allele_frequencies(sample, astates)"
   ]
  },
  {
   "cell_type": "raw",
   "metadata": {},
   "source": [
    "print(af)"
   ]
  },
  {
   "cell_type": "code",
   "execution_count": 27,
   "metadata": {
    "collapsed": true
   },
   "outputs": [],
   "source": [
    "segregating_loci = np.array(sample.dvars().segSites)"
   ]
  },
  {
   "cell_type": "code",
   "execution_count": 29,
   "metadata": {
    "collapsed": true
   },
   "outputs": [],
   "source": [
    "trait = parameters.Trait()"
   ]
  },
  {
   "cell_type": "code",
   "execution_count": 30,
   "metadata": {
    "collapsed": true
   },
   "outputs": [],
   "source": [
    "qtl = sorted(list(random.sample(list(segregating_loci), 20)))"
   ]
  },
  {
   "cell_type": "code",
   "execution_count": 31,
   "metadata": {
    "collapsed": true
   },
   "outputs": [],
   "source": [
    "allele_effects = trait.construct_allele_effects_table(alleles, qtl, random.expovariate, 1)"
   ]
  },
  {
   "cell_type": "raw",
   "metadata": {},
   "source": [
    "print(allele_effects)"
   ]
  },
  {
   "cell_type": "raw",
   "metadata": {},
   "source": [
    "print(allele_effects[qtl])"
   ]
  },
  {
   "cell_type": "code",
   "execution_count": 32,
   "metadata": {
    "collapsed": true
   },
   "outputs": [],
   "source": [
    "ae_array = trait.construct_ae_array(allele_effects, qtl)"
   ]
  },
  {
   "cell_type": "raw",
   "metadata": {},
   "source": [
    "ae_array[qtl]"
   ]
  },
  {
   "cell_type": "code",
   "execution_count": 34,
   "metadata": {
    "collapsed": true
   },
   "outputs": [],
   "source": [
    "operators.calculate_g(sample, ae_array)"
   ]
  },
  {
   "cell_type": "code",
   "execution_count": 35,
   "metadata": {
    "collapsed": true
   },
   "outputs": [],
   "source": [
    "operators.calculate_error_variance(sample, 0.7)"
   ]
  },
  {
   "cell_type": "code",
   "execution_count": 36,
   "metadata": {
    "collapsed": true
   },
   "outputs": [],
   "source": [
    "operators.calculate_p(sample)"
   ]
  },
  {
   "cell_type": "code",
   "execution_count": null,
   "metadata": {
    "collapsed": true
   },
   "outputs": [],
   "source": [
    "genofx = np.array([sample.indInfo('ind_id'), sample.indInfo('g')]).T"
   ]
  },
  {
   "cell_type": "code",
   "execution_count": null,
   "metadata": {
    "collapsed": true
   },
   "outputs": [],
   "source": [
    "print(genofx)"
   ]
  },
  {
   "cell_type": "code",
   "execution_count": null,
   "metadata": {
    "collapsed": true
   },
   "outputs": [],
   "source": [
    "phenofx = np.array([sample.indInfo('ind_id'), sample.indInfo('p')]).T"
   ]
  },
  {
   "cell_type": "code",
   "execution_count": null,
   "metadata": {
    "collapsed": true
   },
   "outputs": [],
   "source": [
    "print(phenofx)"
   ]
  },
  {
   "cell_type": "code",
   "execution_count": null,
   "metadata": {
    "collapsed": true
   },
   "outputs": [],
   "source": [
    "errorv = sample.dvars().epsilon"
   ]
  },
  {
   "cell_type": "code",
   "execution_count": null,
   "metadata": {},
   "outputs": [],
   "source": [
    "errorv"
   ]
  },
  {
   "cell_type": "markdown",
   "metadata": {},
   "source": [
    "# Storing Data"
   ]
  },
  {
   "cell_type": "code",
   "execution_count": 72,
   "metadata": {
    "collapsed": true
   },
   "outputs": [],
   "source": [
    "small_data = h5py.File('small_data.hdf5')"
   ]
  },
  {
   "cell_type": "code",
   "execution_count": 73,
   "metadata": {},
   "outputs": [],
   "source": [
    "small_data['allele/states'] = astates\n",
    "small_data['segregating_loci'] = segregating_loci\n",
    "small_data['qtl'] = np.array(qtl)\n",
    "small_data['allele/effects'] = allele_effects"
   ]
  },
  {
   "cell_type": "code",
   "execution_count": 74,
   "metadata": {},
   "outputs": [],
   "source": [
    "for rep, sample_list in sample_library.items():\n",
    "    small_data['allele/frequency/replicate/' + str(rep)] = small.gather_allele_frequencies(sample_list[0], astates)\n",
    "    operators.calculate_g(sample_list[0], ae_array)\n",
    "    operators.calculate_error_variance(sample_list[0], 0.7)\n",
    "    operators.calculate_p(sample_list[0])\n",
    "    small_data['trait/g/replicate/' + str(rep)] = np.array([sample_list[0].indInfo('ind_id'), \n",
    "                                                            sample_list[0].indInfo('g')]).T\n",
    "    small_data['trait/p/replicate/' + str(rep)] = np.array([sample_list[0].indInfo('ind_id'),\n",
    "                                                          sample_list[0].indInfo('p')]).T\n",
    "    "
   ]
  },
  {
   "cell_type": "code",
   "execution_count": 75,
   "metadata": {},
   "outputs": [],
   "source": [
    "small_data['trait'].attrs['heritability'] = np.array([0.7])"
   ]
  },
  {
   "cell_type": "code",
   "execution_count": 76,
   "metadata": {},
   "outputs": [
    {
     "data": {
      "text/plain": [
       "array([[    0.   ,     1.   ,     0.   ,     0.   ,     1.   ],\n",
       "       [    1.   ,     0.895,     0.105,     0.105,     0.895],\n",
       "       [    2.   ,     0.113,     0.887,     0.113,     0.887],\n",
       "       ..., \n",
       "       [ 1475.   ,     0.28 ,     0.72 ,     0.28 ,     0.72 ],\n",
       "       [ 1476.   ,     0.11 ,     0.89 ,     0.11 ,     0.89 ],\n",
       "       [ 1477.   ,     1.   ,     0.   ,     0.   ,     1.   ]])"
      ]
     },
     "execution_count": 76,
     "metadata": {},
     "output_type": "execute_result"
    }
   ],
   "source": [
    "np.array(small_data['allele/frequency/replicate/0'])"
   ]
  },
  {
   "cell_type": "code",
   "execution_count": 77,
   "metadata": {},
   "outputs": [
    {
     "data": {
      "text/plain": [
       "array([[    0.   ,     1.   ,     0.   ,     0.   ,     1.   ],\n",
       "       [    1.   ,     0.863,     0.138,     0.138,     0.863],\n",
       "       [    2.   ,     0.125,     0.875,     0.125,     0.875],\n",
       "       ..., \n",
       "       [ 1475.   ,     0.258,     0.743,     0.258,     0.743],\n",
       "       [ 1476.   ,     0.09 ,     0.91 ,     0.09 ,     0.91 ],\n",
       "       [ 1477.   ,     1.   ,     0.   ,     0.   ,     1.   ]])"
      ]
     },
     "execution_count": 77,
     "metadata": {},
     "output_type": "execute_result"
    }
   ],
   "source": [
    "np.array(small_data['allele/frequency/replicate/9'])"
   ]
  },
  {
   "cell_type": "code",
   "execution_count": 78,
   "metadata": {},
   "outputs": [
    {
     "data": {
      "text/plain": [
       "array([[ 240035.   ,      39.925],\n",
       "       [ 240047.   ,      41.632],\n",
       "       [ 240086.   ,      43.757],\n",
       "       [ 240106.   ,      42.634],\n",
       "       [ 240136.   ,      42.784],\n",
       "       [ 240154.   ,      43.544],\n",
       "       [ 240177.   ,      40.915],\n",
       "       [ 240183.   ,      42.211],\n",
       "       [ 240195.   ,      41.459],\n",
       "       [ 240734.   ,      41.46 ],\n",
       "       [ 240754.   ,      46.204],\n",
       "       [ 240781.   ,      43.636],\n",
       "       [ 240785.   ,      37.106],\n",
       "       [ 240804.   ,      37.853],\n",
       "       [ 240824.   ,      41.742],\n",
       "       [ 240833.   ,      43.001],\n",
       "       [ 240865.   ,      40.916],\n",
       "       [ 240872.   ,      40.883],\n",
       "       [ 240888.   ,      44.504],\n",
       "       [ 240897.   ,      39.963],\n",
       "       [ 240899.   ,      41.891],\n",
       "       [ 240929.   ,      43.59 ],\n",
       "       [ 240968.   ,      38.953],\n",
       "       [ 240969.   ,      41.745],\n",
       "       [ 240975.   ,      36.152],\n",
       "       [ 240991.   ,      41.866],\n",
       "       [ 240992.   ,      40.682],\n",
       "       [ 240994.   ,      40.653],\n",
       "       [ 241129.   ,      41.258],\n",
       "       [ 241158.   ,      44.818],\n",
       "       [ 241162.   ,      46.331],\n",
       "       [ 241187.   ,      42.351],\n",
       "       [ 241202.   ,      41.424],\n",
       "       [ 241214.   ,      40.88 ],\n",
       "       [ 241227.   ,      42.647],\n",
       "       [ 241244.   ,      42.229],\n",
       "       [ 241263.   ,      41.068],\n",
       "       [ 241273.   ,      40.358],\n",
       "       [ 241309.   ,      41.522],\n",
       "       [ 241365.   ,      36.871],\n",
       "       [ 241374.   ,      42.898],\n",
       "       [ 241478.   ,      40.072],\n",
       "       [ 241520.   ,      39.428],\n",
       "       [ 241523.   ,      40.385],\n",
       "       [ 241712.   ,      45.888],\n",
       "       [ 241785.   ,      39.289],\n",
       "       [ 241794.   ,      44.405],\n",
       "       [ 241804.   ,      41.217],\n",
       "       [ 241834.   ,      46.581],\n",
       "       [ 241837.   ,      40.657],\n",
       "       [ 241862.   ,      40.218],\n",
       "       [ 240033.   ,      38.593],\n",
       "       [ 240087.   ,      47.77 ],\n",
       "       [ 240121.   ,      40.934],\n",
       "       [ 240140.   ,      47.137],\n",
       "       [ 240152.   ,      42.736],\n",
       "       [ 240262.   ,      38.905],\n",
       "       [ 240268.   ,      39.882],\n",
       "       [ 240279.   ,      40.638],\n",
       "       [ 240296.   ,      44.746],\n",
       "       [ 240299.   ,      43.908],\n",
       "       [ 240313.   ,      40.914],\n",
       "       [ 240320.   ,      39.934],\n",
       "       [ 240333.   ,      42.537],\n",
       "       [ 240361.   ,      40.838],\n",
       "       [ 240372.   ,      41.012],\n",
       "       [ 240408.   ,      40.954],\n",
       "       [ 240410.   ,      39.199],\n",
       "       [ 240412.   ,      40.33 ],\n",
       "       [ 240418.   ,      45.107],\n",
       "       [ 240440.   ,      40.376],\n",
       "       [ 240445.   ,      42.754],\n",
       "       [ 240464.   ,      36.12 ],\n",
       "       [ 240468.   ,      40.931],\n",
       "       [ 240475.   ,      43.451],\n",
       "       [ 240477.   ,      41.03 ],\n",
       "       [ 240480.   ,      44.144],\n",
       "       [ 240481.   ,      40.728],\n",
       "       [ 240483.   ,      39.076],\n",
       "       [ 240492.   ,      44.444],\n",
       "       [ 240506.   ,      42.421],\n",
       "       [ 240515.   ,      40.535],\n",
       "       [ 240534.   ,      42.321],\n",
       "       [ 240535.   ,      46.323],\n",
       "       [ 240542.   ,      50.429],\n",
       "       [ 240547.   ,      44.618],\n",
       "       [ 240549.   ,      42.95 ],\n",
       "       [ 240553.   ,      42.647],\n",
       "       [ 240554.   ,      38.701],\n",
       "       [ 240590.   ,      42.842],\n",
       "       [ 240594.   ,      40.669],\n",
       "       [ 240605.   ,      42.97 ],\n",
       "       [ 240611.   ,      42.577],\n",
       "       [ 240614.   ,      43.137],\n",
       "       [ 240629.   ,      39.756],\n",
       "       [ 240646.   ,      42.051],\n",
       "       [ 240668.   ,      42.195],\n",
       "       [ 240669.   ,      40.299],\n",
       "       [ 240674.   ,      43.696],\n",
       "       [ 240199.   ,      50.437],\n",
       "       [ 240202.   ,      42.837],\n",
       "       [ 240203.   ,      46.224],\n",
       "       [ 240208.   ,      42.768],\n",
       "       [ 240216.   ,      42.483],\n",
       "       [ 240221.   ,      37.64 ],\n",
       "       [ 240224.   ,      38.909],\n",
       "       [ 240232.   ,      37.406],\n",
       "       [ 240242.   ,      35.779],\n",
       "       [ 240243.   ,      44.56 ],\n",
       "       [ 240252.   ,      40.302],\n",
       "       [ 241000.   ,      45.879],\n",
       "       [ 241039.   ,      37.115],\n",
       "       [ 241055.   ,      39.682],\n",
       "       [ 241060.   ,      43.868],\n",
       "       [ 241064.   ,      38.346],\n",
       "       [ 241067.   ,      42.224],\n",
       "       [ 241070.   ,      41.234],\n",
       "       [ 241079.   ,      36.821],\n",
       "       [ 241096.   ,      41.709],\n",
       "       [ 241105.   ,      45.62 ],\n",
       "       [ 241113.   ,      40.175],\n",
       "       [ 241132.   ,      45.068],\n",
       "       [ 241286.   ,      39.986],\n",
       "       [ 241302.   ,      44.933],\n",
       "       [ 241307.   ,      41.223],\n",
       "       [ 241419.   ,      42.839],\n",
       "       [ 241422.   ,      43.809],\n",
       "       [ 241428.   ,      42.656],\n",
       "       [ 241434.   ,      38.215],\n",
       "       [ 241449.   ,      38.141],\n",
       "       [ 241466.   ,      39.911],\n",
       "       [ 241473.   ,      46.187],\n",
       "       [ 241494.   ,      41.262],\n",
       "       [ 241529.   ,      38.375],\n",
       "       [ 241679.   ,      48.001],\n",
       "       [ 241722.   ,      41.938],\n",
       "       [ 241768.   ,      40.699],\n",
       "       [ 241790.   ,      41.56 ],\n",
       "       [ 241802.   ,      44.288],\n",
       "       [ 241814.   ,      42.313],\n",
       "       [ 241850.   ,      44.691],\n",
       "       [ 241879.   ,      40.726],\n",
       "       [ 241885.   ,      42.12 ],\n",
       "       [ 241898.   ,      44.307],\n",
       "       [ 241939.   ,      39.587],\n",
       "       [ 241942.   ,      41.549],\n",
       "       [ 241977.   ,      47.494],\n",
       "       [ 241982.   ,      44.881],\n",
       "       [ 241987.   ,      38.728],\n",
       "       [ 241994.   ,      38.889],\n",
       "       [ 241997.   ,      42.012],\n",
       "       [ 241999.   ,      39.889],\n",
       "       [ 242012.   ,      38.435],\n",
       "       [ 242024.   ,      43.523],\n",
       "       [ 240039.   ,      48.766],\n",
       "       [ 240067.   ,      42.771],\n",
       "       [ 240098.   ,      40.8  ],\n",
       "       [ 240131.   ,      45.394],\n",
       "       [ 240170.   ,      44.529],\n",
       "       [ 240196.   ,      41.493],\n",
       "       [ 240709.   ,      45.018],\n",
       "       [ 240714.   ,      43.154],\n",
       "       [ 240744.   ,      34.955],\n",
       "       [ 240757.   ,      40.634],\n",
       "       [ 240773.   ,      41.618],\n",
       "       [ 240789.   ,      41.005],\n",
       "       [ 240813.   ,      41.214],\n",
       "       [ 240836.   ,      41.735],\n",
       "       [ 240867.   ,      38.126],\n",
       "       [ 240877.   ,      43.196],\n",
       "       [ 240898.   ,      42.453],\n",
       "       [ 240934.   ,      39.589],\n",
       "       [ 240944.   ,      42.885],\n",
       "       [ 241245.   ,      40.104],\n",
       "       [ 241250.   ,      41.942],\n",
       "       [ 241252.   ,      43.57 ],\n",
       "       [ 241256.   ,      39.451],\n",
       "       [ 241272.   ,      42.503],\n",
       "       [ 241308.   ,      41.696],\n",
       "       [ 241336.   ,      35.696],\n",
       "       [ 241358.   ,      38.36 ],\n",
       "       [ 241381.   ,      45.774],\n",
       "       [ 241429.   ,      40.   ],\n",
       "       [ 241441.   ,      41.522],\n",
       "       [ 241463.   ,      41.724],\n",
       "       [ 241477.   ,      40.239],\n",
       "       [ 241514.   ,      42.075],\n",
       "       [ 241528.   ,      39.915],\n",
       "       [ 241531.   ,      46.057],\n",
       "       [ 241552.   ,      36.269],\n",
       "       [ 241640.   ,      40.276],\n",
       "       [ 241652.   ,      38.112],\n",
       "       [ 241687.   ,      41.66 ],\n",
       "       [ 241711.   ,      48.224],\n",
       "       [ 241744.   ,      42.833],\n",
       "       [ 241766.   ,      49.32 ],\n",
       "       [ 241792.   ,      36.399],\n",
       "       [ 241820.   ,      39.891],\n",
       "       [ 241915.   ,      37.34 ],\n",
       "       [ 241917.   ,      42.182]])"
      ]
     },
     "execution_count": 78,
     "metadata": {},
     "output_type": "execute_result"
    }
   ],
   "source": [
    "np.array(small_data['trait/g/replicate/0'])"
   ]
  },
  {
   "cell_type": "code",
   "execution_count": 80,
   "metadata": {},
   "outputs": [
    {
     "data": {
      "text/plain": [
       "array([[ 258053.   ,      39.577],\n",
       "       [ 258069.   ,      46.508],\n",
       "       [ 258076.   ,      41.024],\n",
       "       [ 258227.   ,      38.74 ],\n",
       "       [ 258242.   ,      37.15 ],\n",
       "       [ 258414.   ,      38.347],\n",
       "       [ 258417.   ,      39.337],\n",
       "       [ 258457.   ,      39.758],\n",
       "       [ 258467.   ,      43.984],\n",
       "       [ 258481.   ,      44.025],\n",
       "       [ 258497.   ,      43.173],\n",
       "       [ 258501.   ,      36.377],\n",
       "       [ 258581.   ,      41.993],\n",
       "       [ 258613.   ,      39.854],\n",
       "       [ 258664.   ,      47.053],\n",
       "       [ 258675.   ,      40.901],\n",
       "       [ 259273.   ,      35.509],\n",
       "       [ 259282.   ,      43.235],\n",
       "       [ 259286.   ,      40.378],\n",
       "       [ 259288.   ,      41.261],\n",
       "       [ 259309.   ,      44.991],\n",
       "       [ 259311.   ,      39.963],\n",
       "       [ 259316.   ,      43.476],\n",
       "       [ 259337.   ,      40.469],\n",
       "       [ 259372.   ,      36.18 ],\n",
       "       [ 259382.   ,      45.057],\n",
       "       [ 259393.   ,      42.967],\n",
       "       [ 259406.   ,      43.116],\n",
       "       [ 259420.   ,      40.982],\n",
       "       [ 259439.   ,      40.662],\n",
       "       [ 259470.   ,      43.282],\n",
       "       [ 259472.   ,      42.461],\n",
       "       [ 259477.   ,      40.961],\n",
       "       [ 259478.   ,      39.92 ],\n",
       "       [ 259479.   ,      40.848],\n",
       "       [ 259493.   ,      38.044],\n",
       "       [ 259494.   ,      34.767],\n",
       "       [ 259512.   ,      41.073],\n",
       "       [ 259515.   ,      47.073],\n",
       "       [ 259516.   ,      43.125],\n",
       "       [ 259526.   ,      39.003],\n",
       "       [ 259530.   ,      39.67 ],\n",
       "       [ 259535.   ,      41.181],\n",
       "       [ 259558.   ,      39.662],\n",
       "       [ 259562.   ,      43.91 ],\n",
       "       [ 259569.   ,      39.026],\n",
       "       [ 259575.   ,      38.878],\n",
       "       [ 259587.   ,      41.072],\n",
       "       [ 259603.   ,      44.445],\n",
       "       [ 259616.   ,      41.442],\n",
       "       [ 259619.   ,      42.071],\n",
       "       [ 259623.   ,      45.591],\n",
       "       [ 259627.   ,      45.399],\n",
       "       [ 259630.   ,      41.974],\n",
       "       [ 259656.   ,      41.482],\n",
       "       [ 259663.   ,      41.055],\n",
       "       [ 258100.   ,      37.2  ],\n",
       "       [ 258214.   ,      41.949],\n",
       "       [ 258251.   ,      39.605],\n",
       "       [ 258461.   ,      41.546],\n",
       "       [ 258496.   ,      43.686],\n",
       "       [ 258504.   ,      40.076],\n",
       "       [ 258536.   ,      34.379],\n",
       "       [ 258557.   ,      43.925],\n",
       "       [ 258735.   ,      33.872],\n",
       "       [ 258752.   ,      39.576],\n",
       "       [ 258757.   ,      40.227],\n",
       "       [ 258761.   ,      39.106],\n",
       "       [ 258766.   ,      46.391],\n",
       "       [ 258770.   ,      38.28 ],\n",
       "       [ 258784.   ,      46.476],\n",
       "       [ 258806.   ,      40.714],\n",
       "       [ 258810.   ,      40.509],\n",
       "       [ 258813.   ,      37.535],\n",
       "       [ 258814.   ,      38.199],\n",
       "       [ 258823.   ,      37.859],\n",
       "       [ 258846.   ,      43.008],\n",
       "       [ 258852.   ,      33.538],\n",
       "       [ 258880.   ,      43.529],\n",
       "       [ 258881.   ,      42.609],\n",
       "       [ 258891.   ,      40.054],\n",
       "       [ 258914.   ,      41.287],\n",
       "       [ 258917.   ,      47.331],\n",
       "       [ 258920.   ,      40.743],\n",
       "       [ 258928.   ,      43.669],\n",
       "       [ 258929.   ,      35.288],\n",
       "       [ 258934.   ,      38.846],\n",
       "       [ 258945.   ,      40.33 ],\n",
       "       [ 258955.   ,      44.786],\n",
       "       [ 258975.   ,      41.725],\n",
       "       [ 258977.   ,      43.059],\n",
       "       [ 258983.   ,      41.695],\n",
       "       [ 258984.   ,      41.713],\n",
       "       [ 258993.   ,      44.249],\n",
       "       [ 258995.   ,      38.239],\n",
       "       [ 258998.   ,      44.389],\n",
       "       [ 259011.   ,      38.192],\n",
       "       [ 258030.   ,      36.787],\n",
       "       [ 258058.   ,      41.049],\n",
       "       [ 258095.   ,      42.774],\n",
       "       [ 258192.   ,      40.366],\n",
       "       [ 258269.   ,      38.146],\n",
       "       [ 258278.   ,      39.722],\n",
       "       [ 258308.   ,      44.667],\n",
       "       [ 258340.   ,      43.792],\n",
       "       [ 258416.   ,      37.5  ],\n",
       "       [ 258426.   ,      41.112],\n",
       "       [ 258438.   ,      44.076],\n",
       "       [ 258444.   ,      43.453],\n",
       "       [ 258538.   ,      36.392],\n",
       "       [ 258566.   ,      42.826],\n",
       "       [ 258578.   ,      44.636],\n",
       "       [ 259702.   ,      46.116],\n",
       "       [ 259713.   ,      41.127],\n",
       "       [ 259716.   ,      39.11 ],\n",
       "       [ 259732.   ,      44.18 ],\n",
       "       [ 259741.   ,      38.454],\n",
       "       [ 259755.   ,      36.144],\n",
       "       [ 259756.   ,      42.67 ],\n",
       "       [ 259767.   ,      40.019],\n",
       "       [ 259770.   ,      43.318],\n",
       "       [ 259783.   ,      38.48 ],\n",
       "       [ 259786.   ,      39.858],\n",
       "       [ 259805.   ,      44.085],\n",
       "       [ 259831.   ,      41.519],\n",
       "       [ 259840.   ,      39.529],\n",
       "       [ 259857.   ,      39.52 ],\n",
       "       [ 259858.   ,      42.035],\n",
       "       [ 259874.   ,      39.871],\n",
       "       [ 259884.   ,      39.524],\n",
       "       [ 259885.   ,      43.521],\n",
       "       [ 259895.   ,      43.567],\n",
       "       [ 259906.   ,      41.24 ],\n",
       "       [ 259908.   ,      39.586],\n",
       "       [ 259917.   ,      40.768],\n",
       "       [ 259940.   ,      38.187],\n",
       "       [ 259945.   ,      40.777],\n",
       "       [ 259946.   ,      43.624],\n",
       "       [ 259958.   ,      38.435],\n",
       "       [ 259972.   ,      41.8  ],\n",
       "       [ 259978.   ,      39.193],\n",
       "       [ 260003.   ,      47.352],\n",
       "       [ 260015.   ,      41.704],\n",
       "       [ 260021.   ,      39.221],\n",
       "       [ 260023.   ,      38.982],\n",
       "       [ 258086.   ,      39.838],\n",
       "       [ 258110.   ,      41.818],\n",
       "       [ 258137.   ,      45.147],\n",
       "       [ 258145.   ,      41.723],\n",
       "       [ 258173.   ,      40.522],\n",
       "       [ 258190.   ,      44.1  ],\n",
       "       [ 258213.   ,      41.083],\n",
       "       [ 258249.   ,      42.707],\n",
       "       [ 258253.   ,      40.477],\n",
       "       [ 258264.   ,      39.842],\n",
       "       [ 258277.   ,      42.304],\n",
       "       [ 258304.   ,      42.804],\n",
       "       [ 258311.   ,      38.375],\n",
       "       [ 258321.   ,      36.409],\n",
       "       [ 258327.   ,      41.722],\n",
       "       [ 258361.   ,      33.232],\n",
       "       [ 258365.   ,      43.103],\n",
       "       [ 258389.   ,      45.268],\n",
       "       [ 258551.   ,      37.13 ],\n",
       "       [ 258598.   ,      41.108],\n",
       "       [ 258627.   ,      32.296],\n",
       "       [ 258639.   ,      41.125],\n",
       "       [ 258647.   ,      41.102],\n",
       "       [ 258651.   ,      44.153],\n",
       "       [ 259053.   ,      39.761],\n",
       "       [ 259054.   ,      39.414],\n",
       "       [ 259079.   ,      38.7  ],\n",
       "       [ 259098.   ,      42.964],\n",
       "       [ 259113.   ,      46.983],\n",
       "       [ 259126.   ,      42.429],\n",
       "       [ 259132.   ,      41.684],\n",
       "       [ 259150.   ,      40.029],\n",
       "       [ 259179.   ,      38.565],\n",
       "       [ 259184.   ,      41.32 ],\n",
       "       [ 259185.   ,      40.515],\n",
       "       [ 259197.   ,      37.889],\n",
       "       [ 259199.   ,      47.466],\n",
       "       [ 259209.   ,      39.644],\n",
       "       [ 259218.   ,      34.679],\n",
       "       [ 259220.   ,      42.476],\n",
       "       [ 259221.   ,      45.601],\n",
       "       [ 259224.   ,      40.949],\n",
       "       [ 259233.   ,      42.417],\n",
       "       [ 259242.   ,      38.898],\n",
       "       [ 259249.   ,      39.322],\n",
       "       [ 259291.   ,      47.284],\n",
       "       [ 259304.   ,      45.133],\n",
       "       [ 259310.   ,      45.64 ],\n",
       "       [ 259358.   ,      38.011],\n",
       "       [ 259371.   ,      44.859],\n",
       "       [ 259411.   ,      46.075],\n",
       "       [ 259419.   ,      41.765],\n",
       "       [ 259427.   ,      44.819],\n",
       "       [ 259454.   ,      45.57 ],\n",
       "       [ 259455.   ,      41.559]])"
      ]
     },
     "execution_count": 80,
     "metadata": {},
     "output_type": "execute_result"
    }
   ],
   "source": [
    "np.array(small_data['trait/g/replicate/9'])"
   ]
  },
  {
   "cell_type": "code",
   "execution_count": 81,
   "metadata": {},
   "outputs": [
    {
     "data": {
      "text/plain": [
       "array([[ 240035.   ,      38.768],\n",
       "       [ 240047.   ,      43.189],\n",
       "       [ 240086.   ,      42.22 ],\n",
       "       [ 240106.   ,      41.203],\n",
       "       [ 240136.   ,      46.677],\n",
       "       [ 240154.   ,      43.827],\n",
       "       [ 240177.   ,      35.966],\n",
       "       [ 240183.   ,      49.187],\n",
       "       [ 240195.   ,      41.112],\n",
       "       [ 240734.   ,      44.738],\n",
       "       [ 240754.   ,      48.093],\n",
       "       [ 240781.   ,      52.227],\n",
       "       [ 240785.   ,      37.332],\n",
       "       [ 240804.   ,      34.598],\n",
       "       [ 240824.   ,      39.368],\n",
       "       [ 240833.   ,      47.857],\n",
       "       [ 240865.   ,      42.562],\n",
       "       [ 240872.   ,      33.071],\n",
       "       [ 240888.   ,      48.301],\n",
       "       [ 240897.   ,      44.364],\n",
       "       [ 240899.   ,      38.889],\n",
       "       [ 240929.   ,      44.245],\n",
       "       [ 240968.   ,      47.413],\n",
       "       [ 240969.   ,      48.786],\n",
       "       [ 240975.   ,      26.712],\n",
       "       [ 240991.   ,      40.147],\n",
       "       [ 240992.   ,      42.133],\n",
       "       [ 240994.   ,      40.612],\n",
       "       [ 241129.   ,      39.791],\n",
       "       [ 241158.   ,      42.243],\n",
       "       [ 241162.   ,      41.373],\n",
       "       [ 241187.   ,      40.216],\n",
       "       [ 241202.   ,      42.171],\n",
       "       [ 241214.   ,      39.134],\n",
       "       [ 241227.   ,      42.374],\n",
       "       [ 241244.   ,      41.059],\n",
       "       [ 241263.   ,      37.453],\n",
       "       [ 241273.   ,      44.81 ],\n",
       "       [ 241309.   ,      41.53 ],\n",
       "       [ 241365.   ,      36.416],\n",
       "       [ 241374.   ,      41.891],\n",
       "       [ 241478.   ,      42.369],\n",
       "       [ 241520.   ,      45.444],\n",
       "       [ 241523.   ,      40.359],\n",
       "       [ 241712.   ,      47.887],\n",
       "       [ 241785.   ,      42.228],\n",
       "       [ 241794.   ,      45.079],\n",
       "       [ 241804.   ,      42.414],\n",
       "       [ 241834.   ,      43.874],\n",
       "       [ 241837.   ,      39.451],\n",
       "       [ 241862.   ,      38.392],\n",
       "       [ 240033.   ,      36.617],\n",
       "       [ 240087.   ,      50.442],\n",
       "       [ 240121.   ,      45.337],\n",
       "       [ 240140.   ,      46.752],\n",
       "       [ 240152.   ,      42.923],\n",
       "       [ 240262.   ,      34.885],\n",
       "       [ 240268.   ,      40.666],\n",
       "       [ 240279.   ,      36.066],\n",
       "       [ 240296.   ,      48.587],\n",
       "       [ 240299.   ,      45.177],\n",
       "       [ 240313.   ,      42.98 ],\n",
       "       [ 240320.   ,      36.183],\n",
       "       [ 240333.   ,      44.095],\n",
       "       [ 240361.   ,      42.066],\n",
       "       [ 240372.   ,      41.958],\n",
       "       [ 240408.   ,      41.566],\n",
       "       [ 240410.   ,      39.218],\n",
       "       [ 240412.   ,      44.398],\n",
       "       [ 240418.   ,      46.629],\n",
       "       [ 240440.   ,      39.098],\n",
       "       [ 240445.   ,      42.764],\n",
       "       [ 240464.   ,      37.322],\n",
       "       [ 240468.   ,      37.437],\n",
       "       [ 240475.   ,      45.204],\n",
       "       [ 240477.   ,      40.766],\n",
       "       [ 240480.   ,      47.641],\n",
       "       [ 240481.   ,      40.551],\n",
       "       [ 240483.   ,      43.332],\n",
       "       [ 240492.   ,      43.105],\n",
       "       [ 240506.   ,      44.72 ],\n",
       "       [ 240515.   ,      44.118],\n",
       "       [ 240534.   ,      38.62 ],\n",
       "       [ 240535.   ,      37.231],\n",
       "       [ 240542.   ,      51.506],\n",
       "       [ 240547.   ,      48.227],\n",
       "       [ 240549.   ,      41.322],\n",
       "       [ 240553.   ,      46.089],\n",
       "       [ 240554.   ,      37.817],\n",
       "       [ 240590.   ,      42.777],\n",
       "       [ 240594.   ,      46.495],\n",
       "       [ 240605.   ,      46.693],\n",
       "       [ 240611.   ,      46.957],\n",
       "       [ 240614.   ,      45.818],\n",
       "       [ 240629.   ,      38.507],\n",
       "       [ 240646.   ,      31.29 ],\n",
       "       [ 240668.   ,      37.505],\n",
       "       [ 240669.   ,      36.606],\n",
       "       [ 240674.   ,      38.72 ],\n",
       "       [ 240199.   ,      50.944],\n",
       "       [ 240202.   ,      40.58 ],\n",
       "       [ 240203.   ,      44.54 ],\n",
       "       [ 240208.   ,      48.103],\n",
       "       [ 240216.   ,      43.972],\n",
       "       [ 240221.   ,      36.709],\n",
       "       [ 240224.   ,      39.368],\n",
       "       [ 240232.   ,      35.024],\n",
       "       [ 240242.   ,      35.124],\n",
       "       [ 240243.   ,      42.535],\n",
       "       [ 240252.   ,      41.48 ],\n",
       "       [ 241000.   ,      50.405],\n",
       "       [ 241039.   ,      43.561],\n",
       "       [ 241055.   ,      48.534],\n",
       "       [ 241060.   ,      40.261],\n",
       "       [ 241064.   ,      38.209],\n",
       "       [ 241067.   ,      42.239],\n",
       "       [ 241070.   ,      39.656],\n",
       "       [ 241079.   ,      33.166],\n",
       "       [ 241096.   ,      38.177],\n",
       "       [ 241105.   ,      48.549],\n",
       "       [ 241113.   ,      39.088],\n",
       "       [ 241132.   ,      44.52 ],\n",
       "       [ 241286.   ,      38.019],\n",
       "       [ 241302.   ,      39.37 ],\n",
       "       [ 241307.   ,      40.103],\n",
       "       [ 241419.   ,      43.909],\n",
       "       [ 241422.   ,      47.236],\n",
       "       [ 241428.   ,      33.362],\n",
       "       [ 241434.   ,      45.044],\n",
       "       [ 241449.   ,      37.337],\n",
       "       [ 241466.   ,      38.248],\n",
       "       [ 241473.   ,      42.384],\n",
       "       [ 241494.   ,      42.372],\n",
       "       [ 241529.   ,      38.558],\n",
       "       [ 241679.   ,      46.003],\n",
       "       [ 241722.   ,      42.891],\n",
       "       [ 241768.   ,      43.897],\n",
       "       [ 241790.   ,      44.083],\n",
       "       [ 241802.   ,      47.773],\n",
       "       [ 241814.   ,      42.105],\n",
       "       [ 241850.   ,      47.264],\n",
       "       [ 241879.   ,      40.698],\n",
       "       [ 241885.   ,      46.388],\n",
       "       [ 241898.   ,      45.156],\n",
       "       [ 241939.   ,      37.071],\n",
       "       [ 241942.   ,      43.482],\n",
       "       [ 241977.   ,      47.632],\n",
       "       [ 241982.   ,      42.041],\n",
       "       [ 241987.   ,      36.934],\n",
       "       [ 241994.   ,      44.262],\n",
       "       [ 241997.   ,      41.283],\n",
       "       [ 241999.   ,      39.514],\n",
       "       [ 242012.   ,      41.219],\n",
       "       [ 242024.   ,      43.58 ],\n",
       "       [ 240039.   ,      50.538],\n",
       "       [ 240067.   ,      42.451],\n",
       "       [ 240098.   ,      41.799],\n",
       "       [ 240131.   ,      42.087],\n",
       "       [ 240170.   ,      47.615],\n",
       "       [ 240196.   ,      42.51 ],\n",
       "       [ 240709.   ,      50.333],\n",
       "       [ 240714.   ,      41.375],\n",
       "       [ 240744.   ,      31.067],\n",
       "       [ 240757.   ,      44.9  ],\n",
       "       [ 240773.   ,      39.435],\n",
       "       [ 240789.   ,      44.829],\n",
       "       [ 240813.   ,      39.49 ],\n",
       "       [ 240836.   ,      47.887],\n",
       "       [ 240867.   ,      44.652],\n",
       "       [ 240877.   ,      50.206],\n",
       "       [ 240898.   ,      38.733],\n",
       "       [ 240934.   ,      43.422],\n",
       "       [ 240944.   ,      44.034],\n",
       "       [ 241245.   ,      34.636],\n",
       "       [ 241250.   ,      38.699],\n",
       "       [ 241252.   ,      46.899],\n",
       "       [ 241256.   ,      42.425],\n",
       "       [ 241272.   ,      38.052],\n",
       "       [ 241308.   ,      42.813],\n",
       "       [ 241336.   ,      34.94 ],\n",
       "       [ 241358.   ,      37.346],\n",
       "       [ 241381.   ,      44.867],\n",
       "       [ 241429.   ,      39.654],\n",
       "       [ 241441.   ,      42.13 ],\n",
       "       [ 241463.   ,      42.689],\n",
       "       [ 241477.   ,      39.963],\n",
       "       [ 241514.   ,      47.216],\n",
       "       [ 241528.   ,      36.447],\n",
       "       [ 241531.   ,      47.831],\n",
       "       [ 241552.   ,      40.716],\n",
       "       [ 241640.   ,      47.494],\n",
       "       [ 241652.   ,      34.686],\n",
       "       [ 241687.   ,      38.803],\n",
       "       [ 241711.   ,      47.81 ],\n",
       "       [ 241744.   ,      46.178],\n",
       "       [ 241766.   ,      54.167],\n",
       "       [ 241792.   ,      32.641],\n",
       "       [ 241820.   ,      38.563],\n",
       "       [ 241915.   ,      41.765],\n",
       "       [ 241917.   ,      43.004]])"
      ]
     },
     "execution_count": 81,
     "metadata": {},
     "output_type": "execute_result"
    }
   ],
   "source": [
    "np.array(small_data['trait/p/replicate/0'])"
   ]
  },
  {
   "cell_type": "code",
   "execution_count": 79,
   "metadata": {},
   "outputs": [
    {
     "data": {
      "text/plain": [
       "array([[ 258053.   ,      41.377],\n",
       "       [ 258069.   ,      47.047],\n",
       "       [ 258076.   ,      40.318],\n",
       "       [ 258227.   ,      41.516],\n",
       "       [ 258242.   ,      34.108],\n",
       "       [ 258414.   ,      36.876],\n",
       "       [ 258417.   ,      37.812],\n",
       "       [ 258457.   ,      43.006],\n",
       "       [ 258467.   ,      38.556],\n",
       "       [ 258481.   ,      41.078],\n",
       "       [ 258497.   ,      46.136],\n",
       "       [ 258501.   ,      35.876],\n",
       "       [ 258581.   ,      42.788],\n",
       "       [ 258613.   ,      38.225],\n",
       "       [ 258664.   ,      53.156],\n",
       "       [ 258675.   ,      44.673],\n",
       "       [ 259273.   ,      39.046],\n",
       "       [ 259282.   ,      38.028],\n",
       "       [ 259286.   ,      44.36 ],\n",
       "       [ 259288.   ,      37.571],\n",
       "       [ 259309.   ,      50.311],\n",
       "       [ 259311.   ,      49.63 ],\n",
       "       [ 259316.   ,      41.809],\n",
       "       [ 259337.   ,      38.291],\n",
       "       [ 259372.   ,      39.428],\n",
       "       [ 259382.   ,      48.927],\n",
       "       [ 259393.   ,      41.273],\n",
       "       [ 259406.   ,      44.991],\n",
       "       [ 259420.   ,      35.778],\n",
       "       [ 259439.   ,      43.166],\n",
       "       [ 259470.   ,      41.529],\n",
       "       [ 259472.   ,      37.647],\n",
       "       [ 259477.   ,      38.573],\n",
       "       [ 259478.   ,      42.141],\n",
       "       [ 259479.   ,      48.663],\n",
       "       [ 259493.   ,      32.519],\n",
       "       [ 259494.   ,      36.655],\n",
       "       [ 259512.   ,      39.952],\n",
       "       [ 259515.   ,      41.929],\n",
       "       [ 259516.   ,      40.302],\n",
       "       [ 259526.   ,      37.579],\n",
       "       [ 259530.   ,      39.707],\n",
       "       [ 259535.   ,      42.259],\n",
       "       [ 259558.   ,      37.988],\n",
       "       [ 259562.   ,      43.035],\n",
       "       [ 259569.   ,      38.375],\n",
       "       [ 259575.   ,      35.351],\n",
       "       [ 259587.   ,      43.865],\n",
       "       [ 259603.   ,      44.368],\n",
       "       [ 259616.   ,      49.194],\n",
       "       [ 259619.   ,      44.143],\n",
       "       [ 259623.   ,      51.728],\n",
       "       [ 259627.   ,      46.151],\n",
       "       [ 259630.   ,      40.301],\n",
       "       [ 259656.   ,      46.51 ],\n",
       "       [ 259663.   ,      40.832],\n",
       "       [ 258100.   ,      36.305],\n",
       "       [ 258214.   ,      46.251],\n",
       "       [ 258251.   ,      38.192],\n",
       "       [ 258461.   ,      37.879],\n",
       "       [ 258496.   ,      41.101],\n",
       "       [ 258504.   ,      41.481],\n",
       "       [ 258536.   ,      30.44 ],\n",
       "       [ 258557.   ,      48.111],\n",
       "       [ 258735.   ,      38.912],\n",
       "       [ 258752.   ,      40.365],\n",
       "       [ 258757.   ,      41.815],\n",
       "       [ 258761.   ,      38.119],\n",
       "       [ 258766.   ,      46.634],\n",
       "       [ 258770.   ,      30.971],\n",
       "       [ 258784.   ,      52.044],\n",
       "       [ 258806.   ,      39.731],\n",
       "       [ 258810.   ,      37.58 ],\n",
       "       [ 258813.   ,      38.894],\n",
       "       [ 258814.   ,      41.841],\n",
       "       [ 258823.   ,      45.658],\n",
       "       [ 258846.   ,      42.968],\n",
       "       [ 258852.   ,      40.099],\n",
       "       [ 258880.   ,      47.748],\n",
       "       [ 258881.   ,      41.926],\n",
       "       [ 258891.   ,      45.906],\n",
       "       [ 258914.   ,      44.525],\n",
       "       [ 258917.   ,      45.402],\n",
       "       [ 258920.   ,      41.547],\n",
       "       [ 258928.   ,      36.219],\n",
       "       [ 258929.   ,      33.335],\n",
       "       [ 258934.   ,      42.777],\n",
       "       [ 258945.   ,      39.666],\n",
       "       [ 258955.   ,      46.437],\n",
       "       [ 258975.   ,      42.701],\n",
       "       [ 258977.   ,      41.297],\n",
       "       [ 258983.   ,      46.628],\n",
       "       [ 258984.   ,      43.028],\n",
       "       [ 258993.   ,      51.564],\n",
       "       [ 258995.   ,      41.319],\n",
       "       [ 258998.   ,      44.132],\n",
       "       [ 259011.   ,      36.41 ],\n",
       "       [ 258030.   ,      37.607],\n",
       "       [ 258058.   ,      46.054],\n",
       "       [ 258095.   ,      44.359],\n",
       "       [ 258192.   ,      34.793],\n",
       "       [ 258269.   ,      38.687],\n",
       "       [ 258278.   ,      42.242],\n",
       "       [ 258308.   ,      41.191],\n",
       "       [ 258340.   ,      47.808],\n",
       "       [ 258416.   ,      32.022],\n",
       "       [ 258426.   ,      43.331],\n",
       "       [ 258438.   ,      39.597],\n",
       "       [ 258444.   ,      43.634],\n",
       "       [ 258538.   ,      44.92 ],\n",
       "       [ 258566.   ,      50.442],\n",
       "       [ 258578.   ,      47.858],\n",
       "       [ 259702.   ,      48.159],\n",
       "       [ 259713.   ,      41.124],\n",
       "       [ 259716.   ,      42.105],\n",
       "       [ 259732.   ,      48.989],\n",
       "       [ 259741.   ,      34.835],\n",
       "       [ 259755.   ,      35.769],\n",
       "       [ 259756.   ,      35.855],\n",
       "       [ 259767.   ,      34.688],\n",
       "       [ 259770.   ,      43.088],\n",
       "       [ 259783.   ,      33.029],\n",
       "       [ 259786.   ,      38.868],\n",
       "       [ 259805.   ,      43.161],\n",
       "       [ 259831.   ,      40.806],\n",
       "       [ 259840.   ,      39.095],\n",
       "       [ 259857.   ,      37.95 ],\n",
       "       [ 259858.   ,      39.841],\n",
       "       [ 259874.   ,      36.536],\n",
       "       [ 259884.   ,      36.574],\n",
       "       [ 259885.   ,      46.487],\n",
       "       [ 259895.   ,      42.095],\n",
       "       [ 259906.   ,      42.546],\n",
       "       [ 259908.   ,      36.457],\n",
       "       [ 259917.   ,      38.455],\n",
       "       [ 259940.   ,      39.732],\n",
       "       [ 259945.   ,      38.157],\n",
       "       [ 259946.   ,      47.05 ],\n",
       "       [ 259958.   ,      34.378],\n",
       "       [ 259972.   ,      42.999],\n",
       "       [ 259978.   ,      35.334],\n",
       "       [ 260003.   ,      53.286],\n",
       "       [ 260015.   ,      45.298],\n",
       "       [ 260021.   ,      41.517],\n",
       "       [ 260023.   ,      40.442],\n",
       "       [ 258086.   ,      36.371],\n",
       "       [ 258110.   ,      44.343],\n",
       "       [ 258137.   ,      49.341],\n",
       "       [ 258145.   ,      35.26 ],\n",
       "       [ 258173.   ,      42.328],\n",
       "       [ 258190.   ,      41.21 ],\n",
       "       [ 258213.   ,      41.812],\n",
       "       [ 258249.   ,      42.006],\n",
       "       [ 258253.   ,      42.096],\n",
       "       [ 258264.   ,      39.904],\n",
       "       [ 258277.   ,      37.974],\n",
       "       [ 258304.   ,      48.328],\n",
       "       [ 258311.   ,      35.8  ],\n",
       "       [ 258321.   ,      37.928],\n",
       "       [ 258327.   ,      40.099],\n",
       "       [ 258361.   ,      32.387],\n",
       "       [ 258365.   ,      42.46 ],\n",
       "       [ 258389.   ,      44.116],\n",
       "       [ 258551.   ,      36.769],\n",
       "       [ 258598.   ,      43.   ],\n",
       "       [ 258627.   ,      30.529],\n",
       "       [ 258639.   ,      45.105],\n",
       "       [ 258647.   ,      40.686],\n",
       "       [ 258651.   ,      44.318],\n",
       "       [ 259053.   ,      35.687],\n",
       "       [ 259054.   ,      41.347],\n",
       "       [ 259079.   ,      33.582],\n",
       "       [ 259098.   ,      40.873],\n",
       "       [ 259113.   ,      47.605],\n",
       "       [ 259126.   ,      42.133],\n",
       "       [ 259132.   ,      39.427],\n",
       "       [ 259150.   ,      38.691],\n",
       "       [ 259179.   ,      43.148],\n",
       "       [ 259184.   ,      43.792],\n",
       "       [ 259185.   ,      39.902],\n",
       "       [ 259197.   ,      35.546],\n",
       "       [ 259199.   ,      49.315],\n",
       "       [ 259209.   ,      37.365],\n",
       "       [ 259218.   ,      38.963],\n",
       "       [ 259220.   ,      42.053],\n",
       "       [ 259221.   ,      44.87 ],\n",
       "       [ 259224.   ,      45.222],\n",
       "       [ 259233.   ,      42.419],\n",
       "       [ 259242.   ,      33.821],\n",
       "       [ 259249.   ,      39.893],\n",
       "       [ 259291.   ,      48.379],\n",
       "       [ 259304.   ,      47.076],\n",
       "       [ 259310.   ,      51.451],\n",
       "       [ 259358.   ,      33.601],\n",
       "       [ 259371.   ,      42.996],\n",
       "       [ 259411.   ,      45.706],\n",
       "       [ 259419.   ,      36.822],\n",
       "       [ 259427.   ,      54.956],\n",
       "       [ 259454.   ,      42.671],\n",
       "       [ 259455.   ,      38.76 ]])"
      ]
     },
     "execution_count": 79,
     "metadata": {},
     "output_type": "execute_result"
    }
   ],
   "source": [
    "np.array(small_data['trait/p/replicate/9'])"
   ]
  },
  {
   "cell_type": "code",
   "execution_count": 82,
   "metadata": {
    "collapsed": true
   },
   "outputs": [],
   "source": [
    "small_data.close()"
   ]
  },
  {
   "cell_type": "code",
   "execution_count": null,
   "metadata": {
    "collapsed": true
   },
   "outputs": [],
   "source": []
  },
  {
   "cell_type": "code",
   "execution_count": null,
   "metadata": {
    "collapsed": true
   },
   "outputs": [],
   "source": []
  },
  {
   "cell_type": "code",
   "execution_count": 83,
   "metadata": {
    "collapsed": true
   },
   "outputs": [],
   "source": [
    "indir = \"/home/vakanas/tassel-5-standalone/input/\"\n",
    "outdir = \"/home/vakanas/tassel-5-standalone/output/\"\n",
    "rep_id_name = \"0\""
   ]
  },
  {
   "cell_type": "code",
   "execution_count": null,
   "metadata": {
    "collapsed": true
   },
   "outputs": [],
   "source": []
  },
  {
   "cell_type": "code",
   "execution_count": null,
   "metadata": {
    "collapsed": true
   },
   "outputs": [],
   "source": []
  },
  {
   "cell_type": "raw",
   "metadata": {},
   "source": [
    "minor_alleles"
   ]
  },
  {
   "cell_type": "raw",
   "metadata": {},
   "source": [
    "run_id"
   ]
  },
  {
   "cell_type": "code",
   "execution_count": null,
   "metadata": {
    "collapsed": true
   },
   "outputs": [],
   "source": [
    "gwas = analyze.GWAS(meta_pop, list(range(meta_pop.totNumLoci())), run_id)"
   ]
  },
  {
   "cell_type": "code",
   "execution_count": null,
   "metadata": {
    "collapsed": true
   },
   "outputs": [],
   "source": [
    "ccm = gwas.calculate_count_matrix(minor_alleles, list(range(meta_pop.totNumLoci())))"
   ]
  },
  {
   "cell_type": "code",
   "execution_count": null,
   "metadata": {
    "collapsed": true
   },
   "outputs": [],
   "source": [
    "ps_svd = gwas.pop_struct_svd(ccm)"
   ]
  },
  {
   "cell_type": "code",
   "execution_count": null,
   "metadata": {
    "collapsed": true
   },
   "outputs": [],
   "source": [
    "name = run_id+'_'+rep_id_name"
   ]
  },
  {
   "cell_type": "code",
   "execution_count": null,
   "metadata": {
    "collapsed": true
   },
   "outputs": [],
   "source": [
    "gwas.population_structure_formatter(ps_svd, indir+name+'_structure_matrix.txt')"
   ]
  },
  {
   "cell_type": "code",
   "execution_count": null,
   "metadata": {
    "collapsed": true
   },
   "outputs": [],
   "source": [
    "int_to_snp_map = {0:'A', 1:'C', 2:'G', 3:'T', 4:'-', 5:'+'}"
   ]
  },
  {
   "cell_type": "raw",
   "metadata": {},
   "source": [
    "len(concordant_segregating_loci)"
   ]
  },
  {
   "cell_type": "code",
   "execution_count": null,
   "metadata": {
    "collapsed": true
   },
   "outputs": [],
   "source": [
    "locus_names = list(concordant_segregating_loci)"
   ]
  },
  {
   "cell_type": "code",
   "execution_count": null,
   "metadata": {
    "collapsed": true
   },
   "outputs": [],
   "source": [
    "alleles_column = ['NA']*len(concordant_segregating_loci)"
   ]
  },
  {
   "cell_type": "code",
   "execution_count": null,
   "metadata": {
    "collapsed": true
   },
   "outputs": [],
   "source": [
    "chromosomes = [meta_pop.chromLocusPair(locus)[0]+1 for locus in concordant_segregating_loci]"
   ]
  },
  {
   "cell_type": "code",
   "execution_count": null,
   "metadata": {
    "collapsed": true
   },
   "outputs": [],
   "source": [
    "gwas.hapmap_formatter(concordant_segregating_loci, alleles_column, \n",
    "                      locus_names, chromosomes, \n",
    "                      locus_names, \n",
    "                      indir+name+'_simulated_hapmap.txt')"
   ]
  },
  {
   "cell_type": "raw",
   "metadata": {
    "collapsed": true
   },
   "source": [
    "minor_allele_frequencies.shape"
   ]
  },
  {
   "cell_type": "raw",
   "metadata": {},
   "source": [
    "mafrqs"
   ]
  },
  {
   "cell_type": "code",
   "execution_count": null,
   "metadata": {
    "collapsed": true
   },
   "outputs": [],
   "source": [
    "minor_allele_frequency_table = analyze.minor_allele_frequencies_table(\n",
    "        meta_pop.dvars().alleleFreq, minor_alleles)"
   ]
  },
  {
   "cell_type": "code",
   "execution_count": null,
   "metadata": {
    "collapsed": true
   },
   "outputs": [],
   "source": [
    "minor_allele_frequencies = np.array(minor_allele_frequency_table.minor_frequency)"
   ]
  },
  {
   "cell_type": "code",
   "execution_count": null,
   "metadata": {
    "collapsed": true
   },
   "outputs": [],
   "source": [
    "minor_allele_frequencies"
   ]
  },
  {
   "cell_type": "code",
   "execution_count": null,
   "metadata": {
    "collapsed": true
   },
   "outputs": [],
   "source": [
    "gwas.calc_kinship_matrix(ccm, minor_allele_frequencies, indir+name+'_kinship_matrix.txt')"
   ]
  },
  {
   "cell_type": "code",
   "execution_count": null,
   "metadata": {
    "collapsed": true
   },
   "outputs": [],
   "source": [
    "gwas.trait_formatter(indir+name+'_trait_vector.txt')"
   ]
  },
  {
   "cell_type": "code",
   "execution_count": null,
   "metadata": {
    "collapsed": true
   },
   "outputs": [],
   "source": [
    "import xml.etree.ElementTree as ET\n",
    "import lxml.etree as etree"
   ]
  },
  {
   "cell_type": "code",
   "execution_count": null,
   "metadata": {
    "collapsed": true
   },
   "outputs": [],
   "source": [
    "config_file_template = '/home/vakanas/BISB/rjwlab-scripts/saegus_project/devel/magic/1478/gwas_pipeline.xml'"
   ]
  },
  {
   "cell_type": "code",
   "execution_count": null,
   "metadata": {
    "collapsed": true
   },
   "outputs": [],
   "source": [
    "tree = ET.parse(config_file_template)\n",
    "root = tree.getroot()\n",
    "lxml_tree = etree.fromstring(ET.tostring(root))\n",
    "lxml_root = lxml_tree.getroottree()"
   ]
  },
  {
   "cell_type": "code",
   "execution_count": null,
   "metadata": {
    "collapsed": true
   },
   "outputs": [],
   "source": [
    "lxml_root.find('fork1/h').text = indir+name+'_simulated_hapmap.txt'\n",
    "lxml_root.find('fork2/t').text = indir+name+'_trait_vector.txt'\n",
    "lxml_root.find('fork3/q').text = indir+name+'_structure_matrix.txt'\n",
    "lxml_root.find('fork4/k').text = indir+name+'_kinship_matrix.txt'\n",
    "\n",
    "lxml_root.find('combine6/export').text = outdir+name+'_out_'"
   ]
  },
  {
   "cell_type": "raw",
   "metadata": {},
   "source": [
    "`rep_id_name"
   ]
  },
  {
   "cell_type": "raw",
   "metadata": {},
   "source": [
    "run_id"
   ]
  },
  {
   "cell_type": "code",
   "execution_count": null,
   "metadata": {
    "collapsed": true
   },
   "outputs": [],
   "source": [
    "lxml_root.write(\"/home/vakanas/tassel-5-standalone/\"+\"R\"+rep_id_name+'_'+\n",
    "                run_id+'_'+\"_sim_gwas_pipeline.xml\",\n",
    "                encoding=\"UTF-8\",\n",
    "                method=\"xml\", \n",
    "                xml_declaration=True, \n",
    "                standalone='',\n",
    "                pretty_print=True) "
   ]
  },
  {
   "cell_type": "markdown",
   "metadata": {},
   "source": [
    "# Run TASSEL at This Point"
   ]
  },
  {
   "cell_type": "markdown",
   "metadata": {},
   "source": [
    "# Use R Qvalue package to get Qvalues"
   ]
  },
  {
   "cell_type": "markdown",
   "metadata": {},
   "source": [
    "# Combine TASSEL, Qvalues and Other Information"
   ]
  },
  {
   "cell_type": "code",
   "execution_count": null,
   "metadata": {
    "collapsed": true
   },
   "outputs": [],
   "source": [
    "qvalues = pd.read_csv(\"/home/vakanas/tassel-5-standalone/output/epsilon_0_qvalues.txt\", sep='\\t')"
   ]
  },
  {
   "cell_type": "code",
   "execution_count": null,
   "metadata": {
    "collapsed": true
   },
   "outputs": [],
   "source": [
    "qvalues.index = list(concordant_segregating_loci)"
   ]
  },
  {
   "cell_type": "code",
   "execution_count": null,
   "metadata": {
    "collapsed": true
   },
   "outputs": [],
   "source": [
    "qvalues"
   ]
  },
  {
   "cell_type": "code",
   "execution_count": null,
   "metadata": {
    "collapsed": true
   },
   "outputs": [],
   "source": [
    "raw_gwas_results = pd.read_csv(\"/home/vakanas/tassel-5-standalone/output/epsilon_0_out_2.txt\", sep='\\t')"
   ]
  },
  {
   "cell_type": "code",
   "execution_count": null,
   "metadata": {
    "collapsed": true
   },
   "outputs": [],
   "source": [
    "raw_gwas_results.drop(0, axis=0, inplace=True)"
   ]
  },
  {
   "cell_type": "code",
   "execution_count": null,
   "metadata": {
    "collapsed": true
   },
   "outputs": [],
   "source": [
    "raw_gwas_results.drop('Trait', axis=1, inplace=True)"
   ]
  },
  {
   "cell_type": "code",
   "execution_count": null,
   "metadata": {
    "collapsed": true
   },
   "outputs": [],
   "source": [
    "raw_gwas_results.index = np.array(list(map(int, raw_gwas_results.Marker)))"
   ]
  },
  {
   "cell_type": "code",
   "execution_count": null,
   "metadata": {
    "collapsed": true
   },
   "outputs": [],
   "source": [
    "raw_gwas_results"
   ]
  },
  {
   "cell_type": "code",
   "execution_count": null,
   "metadata": {
    "collapsed": true,
    "scrolled": true
   },
   "outputs": [],
   "source": [
    "raw_gwas_results = raw_gwas_results.join(qvalues)"
   ]
  },
  {
   "cell_type": "code",
   "execution_count": null,
   "metadata": {
    "collapsed": true
   },
   "outputs": [],
   "source": [
    "minor_allele_frequencies"
   ]
  },
  {
   "cell_type": "code",
   "execution_count": null,
   "metadata": {
    "collapsed": true
   },
   "outputs": [],
   "source": [
    "mafrqs = analyze.minor_allele_frequencies_table(meta_pop.dvars().alleleFreq, minor_alleles)"
   ]
  },
  {
   "cell_type": "code",
   "execution_count": null,
   "metadata": {
    "collapsed": true
   },
   "outputs": [],
   "source": [
    "raw_gwas_results = raw_gwas_results.join(mafrqs.ix[concordant_segregating_loci, :])"
   ]
  },
  {
   "cell_type": "code",
   "execution_count": null,
   "metadata": {
    "collapsed": true
   },
   "outputs": [],
   "source": [
    "raw_gwas_results"
   ]
  },
  {
   "cell_type": "code",
   "execution_count": null,
   "metadata": {
    "collapsed": true
   },
   "outputs": [],
   "source": []
  },
  {
   "cell_type": "code",
   "execution_count": null,
   "metadata": {
    "collapsed": true
   },
   "outputs": [],
   "source": []
  },
  {
   "cell_type": "code",
   "execution_count": null,
   "metadata": {
    "collapsed": true
   },
   "outputs": [],
   "source": [
    "def tassel_results_tables(gwas_file_name, q_values_file_name, \n",
    "                              minor_allele_frequency_table, \n",
    "                              quantitative_allele_table):\n",
    "    raw_gwas_results = pd.read_csv(gwas_file_name, sep='\\t')\n",
    "    raw_gwas_results.drop(0, axis=0, inplace=True)\n",
    "    raw_gwas_results.drop('Trait', axis=1, inplace=True)\n",
    "    raw_gwas_results.index = np.array(list(map(int, raw_gwas_results.Marker)))\n",
    "    q_values = pd.read_csv(q_values_file_name, sep='\\t')\n",
    "    q_values.index = np.array(list(map(int, raw_gwas_results.Marker)))\n",
    "    raw_gwas_results = raw_gwas_results.join(q_values)\n",
    "    \n",
    "    assert minor_allele_frequency_table.index.dtype == raw_gwas_results.index.dtype, \"Indexes of these tables are different\"\n",
    "    \n",
    "    raw_gwas_results = raw_gwas_results.join(minor_allele_frequency_table.ix[raw_gwas_results.index, :])\n",
    "    \n",
    "    assert quantitative_allele_table.index.dtype == raw_gwas_results.index.dtype, \"Indexes of these tables are different\"\n",
    "    \n",
    "    raw_gwas_results = raw_gwas_results.join(quantitative_allele_table.ix[raw_gwas_results.index, :])\n",
    "    return raw_gwas_results"
   ]
  },
  {
   "cell_type": "code",
   "execution_count": null,
   "metadata": {
    "collapsed": true
   },
   "outputs": [],
   "source": [
    "pwd"
   ]
  },
  {
   "cell_type": "code",
   "execution_count": null,
   "metadata": {
    "collapsed": true
   },
   "outputs": [],
   "source": [
    "cd /home/vakanas/tassel-5-standalone/output/"
   ]
  },
  {
   "cell_type": "code",
   "execution_count": null,
   "metadata": {
    "collapsed": true
   },
   "outputs": [],
   "source": [
    "ls"
   ]
  },
  {
   "cell_type": "code",
   "execution_count": null,
   "metadata": {
    "collapsed": true
   },
   "outputs": [],
   "source": [
    "mafrqs = pd.read_csv('epsilon_0_maf_table.txt', sep='\\t', index_col=0)"
   ]
  },
  {
   "cell_type": "code",
   "execution_count": null,
   "metadata": {
    "collapsed": true
   },
   "outputs": [],
   "source": [
    "mafrqs"
   ]
  },
  {
   "cell_type": "code",
   "execution_count": null,
   "metadata": {
    "collapsed": true
   },
   "outputs": [],
   "source": [
    "qtad = pd.read_csv('epsilon_0_quant_allele_table.txt', sep='\\t', index_col=0)"
   ]
  },
  {
   "cell_type": "code",
   "execution_count": null,
   "metadata": {
    "collapsed": true
   },
   "outputs": [],
   "source": [
    "qtad"
   ]
  },
  {
   "cell_type": "code",
   "execution_count": null,
   "metadata": {
    "collapsed": true
   },
   "outputs": [],
   "source": [
    "super_table = tassel_results_tables('epsilon_0_out_2.txt', 'epsilon_0_qvalues.txt', mafrqs, qtad)"
   ]
  },
  {
   "cell_type": "code",
   "execution_count": null,
   "metadata": {
    "collapsed": true
   },
   "outputs": [],
   "source": [
    "super_table.ix[super_table.q < 0.05]"
   ]
  },
  {
   "cell_type": "code",
   "execution_count": null,
   "metadata": {
    "collapsed": true
   },
   "outputs": [],
   "source": [
    "super_table.ix[super_table.alpha_effect > 0]"
   ]
  },
  {
   "cell_type": "code",
   "execution_count": null,
   "metadata": {
    "collapsed": true
   },
   "outputs": [],
   "source": []
  },
  {
   "cell_type": "code",
   "execution_count": null,
   "metadata": {
    "collapsed": true
   },
   "outputs": [],
   "source": []
  },
  {
   "cell_type": "code",
   "execution_count": null,
   "metadata": {
    "collapsed": true
   },
   "outputs": [],
   "source": [
    "mg.multiple_sample_analyzer(meta_populations, qtl, allele_effects, \n",
    "                            minor_alleles, concordant_segregating_loci)"
   ]
  },
  {
   "cell_type": "code",
   "execution_count": null,
   "metadata": {
    "collapsed": true
   },
   "outputs": [],
   "source": [
    "analyze.store_allele_effect_frequency_tables(meta_population, alleles, \n",
    "                                             qtl,\n",
    "                                             exponential_allele_effects,\n",
    "                                            run_id, 'exponential')"
   ]
  },
  {
   "cell_type": "code",
   "execution_count": null,
   "metadata": {
    "collapsed": true
   },
   "outputs": [],
   "source": []
  },
  {
   "cell_type": "code",
   "execution_count": null,
   "metadata": {
    "collapsed": true
   },
   "outputs": [],
   "source": []
  },
  {
   "cell_type": "code",
   "execution_count": null,
   "metadata": {
    "collapsed": true
   },
   "outputs": [],
   "source": []
  },
  {
   "cell_type": "code",
   "execution_count": null,
   "metadata": {
    "collapsed": true
   },
   "outputs": [],
   "source": []
  },
  {
   "cell_type": "code",
   "execution_count": null,
   "metadata": {
    "collapsed": true
   },
   "outputs": [],
   "source": [
    "loci_conversions = shelve.open(run_id+'_loci_conversions')\n",
    "saegus_to_tassel_loci = {}\n",
    "tassel_to_saegus_loci = {}\n",
    "for idx, locus in enumerate(concordant_segregating_loci):\n",
    "    saegus_to_tassel_loci[locus] = idx\n",
    "    tassel_to_saegus_loci[idx] = locus\n",
    "loci_conversions['saegus_to_tassel'] = saegus_to_tassel_loci\n",
    "loci_conversions['tassel_to_saegus'] = tassel_to_saegus_loci\n",
    "loci_conversions.close()"
   ]
  },
  {
   "cell_type": "code",
   "execution_count": null,
   "metadata": {
    "collapsed": true
   },
   "outputs": [],
   "source": [
    "seg_loc_storage = shelve.open('segregating_loci_storage')\n",
    "seg_loc_storage['bacchus'] = concordant_segregating_loci\n",
    "seg_loc_storage.close()"
   ]
  },
  {
   "cell_type": "code",
   "execution_count": null,
   "metadata": {
    "collapsed": true
   },
   "outputs": [],
   "source": [
    "int_to_snp = {0: 'A', 1: 'C', 2: 'G', 3: 'T', 4: '-', 5: '+'}\n",
    "snp_to_int = {'A': 0, 'C': 1, '-': 4, 'G': 2, '+': 5, 'T': 3}\n",
    "conv = shelve.open('synthesis_parameters')\n",
    "conv['integer_to_snp'] = int_to_snp\n",
    "conv['snp_to_integer'] = snp_to_int\n",
    "conv.close()"
   ]
  },
  {
   "cell_type": "code",
   "execution_count": null,
   "metadata": {
    "collapsed": true
   },
   "outputs": [],
   "source": [
    "exponential_allele_effects_table = analyze.generate_allele_effects_table(qtl, alleles, \n",
    "                                                exponential_allele_effects, saegus_to_tassel_loci)"
   ]
  },
  {
   "cell_type": "code",
   "execution_count": null,
   "metadata": {
    "collapsed": true
   },
   "outputs": [],
   "source": []
  },
  {
   "cell_type": "code",
   "execution_count": null,
   "metadata": {
    "collapsed": true
   },
   "outputs": [],
   "source": []
  },
  {
   "cell_type": "code",
   "execution_count": null,
   "metadata": {
    "collapsed": true
   },
   "outputs": [],
   "source": [
    "analyze.remap_allele_frequency_table_loci(analyze.reload_allele_frequencies_table(run_id, 0, 250, \n",
    "                                                                                  'exponential'), \n",
    "                                          concordant_segregating_loci)"
   ]
  },
  {
   "cell_type": "code",
   "execution_count": null,
   "metadata": {
    "collapsed": true
   },
   "outputs": [],
   "source": [
    "analyze.write_multiple_sample_analyzer(sample_library, sample_sizes, qtl, alleles, \n",
    "                                       exponential_allele_effects, 0.7,  concordant_segregating_loci, \n",
    "                                       run_id=run_id, sub_run_id='_exponential', \n",
    "                                       allele_frequency_hdf=run_id+'_allele_frequency_storage.h5')"
   ]
  },
  {
   "cell_type": "code",
   "execution_count": null,
   "metadata": {
    "collapsed": true
   },
   "outputs": [],
   "source": [
    "multiple_sample_analyzer(meta_populations, qtl, allele_effects, minor_alleles, concordant_segregating_loci)"
   ]
  },
  {
   "cell_type": "code",
   "execution_count": null,
   "metadata": {
    "collapsed": true
   },
   "outputs": [],
   "source": [
    "import h5py"
   ]
  },
  {
   "cell_type": "code",
   "execution_count": null,
   "metadata": {
    "collapsed": true
   },
   "outputs": [],
   "source": [
    "with h5py.File('bia_allele_frequencies.hdf5') as biaf:\n",
    "    reloaded_af = np.array(biaf[afname])"
   ]
  },
  {
   "cell_type": "code",
   "execution_count": null,
   "metadata": {
    "collapsed": true
   },
   "outputs": [],
   "source": [
    "fisegloc = list(concordant_segregating_loci)"
   ]
  },
  {
   "cell_type": "code",
   "execution_count": null,
   "metadata": {
    "collapsed": true
   },
   "outputs": [],
   "source": [
    "minor_allele_frequencies = reloaded_af[fisegloc]"
   ]
  },
  {
   "cell_type": "code",
   "execution_count": null,
   "metadata": {
    "collapsed": true
   },
   "outputs": [],
   "source": [
    "def write_super_tables(power_and_fpr_raw_data, sample_sizes, number_of_replicates, run_id, sub_run_id=''):\n",
    "    for size in sample_sizes:\n",
    "        for rep in range(number_of_replicates):\n",
    "            name = run_id + '_' + sub_run_id + '_' + str(rep) + '_' + str(size) + '_super_table.txt'\n",
    "            power_and_fpr_raw_data[size][rep].to_csv(name, sep='\\t')"
   ]
  },
  {
   "cell_type": "code",
   "execution_count": null,
   "metadata": {
    "collapsed": true
   },
   "outputs": [],
   "source": []
  },
  {
   "cell_type": "code",
   "execution_count": null,
   "metadata": {
    "collapsed": true
   },
   "outputs": [],
   "source": []
  },
  {
   "cell_type": "code",
   "execution_count": null,
   "metadata": {
    "collapsed": true
   },
   "outputs": [],
   "source": [
    "expo_power_fpr_raw_data = analyze.collect_power_analysis_data(run_id, sample_sizes, number_of_replicates, concordant_segregating_loci, 'exponential')"
   ]
  },
  {
   "cell_type": "code",
   "execution_count": null,
   "metadata": {
    "collapsed": true
   },
   "outputs": [],
   "source": [
    "expo_power_fpr_raw_data[250]"
   ]
  },
  {
   "cell_type": "code",
   "execution_count": null,
   "metadata": {
    "collapsed": true
   },
   "outputs": [],
   "source": [
    "write_super_tables(expo_power_fpr_raw_data,\n",
    "                  sample_sizes,\n",
    "                  number_of_replicates,\n",
    "                  'bacchus',\n",
    "                  sub_run_id='exponential')"
   ]
  },
  {
   "cell_type": "code",
   "execution_count": null,
   "metadata": {
    "collapsed": true
   },
   "outputs": [],
   "source": [
    "expo_results, expo_true_positives, expo_false_positives = study.calculate_power_fpr(expo_power_fpr_raw_data, sample_sizes, \n",
    "                                                                             number_of_replicates, number_of_qtl)"
   ]
  },
  {
   "cell_type": "code",
   "execution_count": null,
   "metadata": {
    "collapsed": true
   },
   "outputs": [],
   "source": [
    "expo_results"
   ]
  },
  {
   "cell_type": "code",
   "execution_count": null,
   "metadata": {
    "collapsed": true
   },
   "outputs": [],
   "source": [
    "mean_and_stdev = pd.DataFrame([expo_results.mean(), expo_results.std()], index=['mean', 'stdev']).T\n",
    "mean_and_stdev.to_csv('bacchus_exponential_mean_and_stdev_power_fpr.csv', sep='\\t')"
   ]
  },
  {
   "cell_type": "code",
   "execution_count": null,
   "metadata": {
    "collapsed": true
   },
   "outputs": [],
   "source": [
    "geo_results"
   ]
  },
  {
   "cell_type": "code",
   "execution_count": null,
   "metadata": {
    "collapsed": true
   },
   "outputs": [],
   "source": [
    "geometric_allele_effects_table"
   ]
  },
  {
   "cell_type": "code",
   "execution_count": null,
   "metadata": {
    "collapsed": true
   },
   "outputs": [],
   "source": [
    "exponential_allele_effects_table"
   ]
  },
  {
   "cell_type": "code",
   "execution_count": null,
   "metadata": {
    "collapsed": true
   },
   "outputs": [],
   "source": [
    "expo_results.to_csv(\"bacchus_exponential_power_fpr_results.txt\", sep='\\t')"
   ]
  },
  {
   "cell_type": "code",
   "execution_count": null,
   "metadata": {
    "collapsed": true
   },
   "outputs": [],
   "source": [
    "mean_and_stdev = pd.DataFrame([geo_results.mean(), geo_results.std()], index=['mean', 'stdev']).T\n",
    "mean_and_stdev.to_csv('full_icecrown_geometric_mean_and_stdev_power_fpr.txt', sep='\\t')"
   ]
  },
  {
   "cell_type": "code",
   "execution_count": null,
   "metadata": {
    "collapsed": true
   },
   "outputs": [],
   "source": [
    "expo_results, expo_true_positives, expo_false_positives = full_icecrown.calculate_power_fpr(expo_power_fpr_raw_data,\n",
    "                                                                                      sample_sizes,\n",
    "                                                                                      number_of_replicates,\n",
    "                                                                                      number_of_qtl)"
   ]
  },
  {
   "cell_type": "code",
   "execution_count": null,
   "metadata": {
    "collapsed": true
   },
   "outputs": [],
   "source": []
  },
  {
   "cell_type": "code",
   "execution_count": null,
   "metadata": {
    "collapsed": true
   },
   "outputs": [],
   "source": [
    "expo_results"
   ]
  },
  {
   "cell_type": "code",
   "execution_count": null,
   "metadata": {
    "collapsed": true
   },
   "outputs": [],
   "source": [
    "expo_results.to_csv('full_icecrown_exponential_power_fpr_results.txt', sep='\\t')"
   ]
  },
  {
   "cell_type": "code",
   "execution_count": null,
   "metadata": {
    "collapsed": true
   },
   "outputs": [],
   "source": [
    "mean_and_stdev = pd.DataFrame([expo_results.mean(), expo_results.std()], index=['mean', 'stdev']).T\n",
    "mean_and_stdev.to_csv('full_icecrown_exponential_mean_and_stdev_power_fpr.txt', sep='\\t')"
   ]
  },
  {
   "cell_type": "code",
   "execution_count": null,
   "metadata": {
    "collapsed": true
   },
   "outputs": [],
   "source": [
    "write_super_tables(expo_power_fpr_raw_data, sample_sizes, number_of_replicates, run_id, 'exponential')"
   ]
  },
  {
   "cell_type": "code",
   "execution_count": null,
   "metadata": {
    "collapsed": true
   },
   "outputs": [],
   "source": []
  },
  {
   "cell_type": "code",
   "execution_count": null,
   "metadata": {
    "collapsed": true
   },
   "outputs": [],
   "source": [
    "geo_aggregate_estimated_actual = pd.DataFrame([np.array(geo_agg_estimated), np.array(geo_agg_actual)], index=['estimated', 'actual']).T"
   ]
  },
  {
   "cell_type": "code",
   "execution_count": null,
   "metadata": {
    "collapsed": true
   },
   "outputs": [],
   "source": [
    "geo_aggregate_estimated_actual['estimated'] = geo_aggregate_estimated_actual['estimated'].apply(np.fabs)"
   ]
  },
  {
   "cell_type": "code",
   "execution_count": null,
   "metadata": {
    "collapsed": true
   },
   "outputs": [],
   "source": [
    "geo_aggregate_estimated_actual"
   ]
  },
  {
   "cell_type": "code",
   "execution_count": null,
   "metadata": {
    "collapsed": true
   },
   "outputs": [],
   "source": [
    "geo_corr = geo_aggregate_estimated_actual['estimated'].corr(geo_aggregate_estimated_actual['actual'])"
   ]
  },
  {
   "cell_type": "code",
   "execution_count": null,
   "metadata": {
    "collapsed": true
   },
   "outputs": [],
   "source": [
    "geo_agg_estimated"
   ]
  },
  {
   "cell_type": "code",
   "execution_count": null,
   "metadata": {
    "collapsed": true
   },
   "outputs": [],
   "source": []
  },
  {
   "cell_type": "code",
   "execution_count": null,
   "metadata": {
    "collapsed": true
   },
   "outputs": [],
   "source": [
    "aggregate_estimated_actual"
   ]
  },
  {
   "cell_type": "code",
   "execution_count": null,
   "metadata": {
    "collapsed": true
   },
   "outputs": [],
   "source": [
    "geo_corr"
   ]
  },
  {
   "cell_type": "code",
   "execution_count": null,
   "metadata": {
    "collapsed": true
   },
   "outputs": [],
   "source": [
    "pwd"
   ]
  },
  {
   "cell_type": "code",
   "execution_count": null,
   "metadata": {
    "collapsed": true
   },
   "outputs": [],
   "source": [
    "geo_aggregate_estimated_actual.to_csv('full_icecrown_geometric_estimated_vs_actual_allele_effects.txt', sep='\\t')"
   ]
  },
  {
   "cell_type": "code",
   "execution_count": null,
   "metadata": {
    "collapsed": true
   },
   "outputs": [],
   "source": []
  },
  {
   "cell_type": "code",
   "execution_count": null,
   "metadata": {
    "collapsed": true
   },
   "outputs": [],
   "source": [
    "agg_estimated = []\n",
    "agg_actual = []"
   ]
  },
  {
   "cell_type": "code",
   "execution_count": null,
   "metadata": {
    "collapsed": true
   },
   "outputs": [],
   "source": [
    "for rep in reps:\n",
    "    for size in sample_sizes:\n",
    "        sutable = sutable_collection[rep][size]\n",
    "        droppable = list(sutable.ix[sutable.ix[:, 'difference'] == 0.0].index)\n",
    "        qtloci = sutable.drop(droppable, axis=0)\n",
    "        agg_estimated.extend(list(qtloci['add_effect']))\n",
    "        agg_actual.extend(list(qtloci['difference']))"
   ]
  },
  {
   "cell_type": "code",
   "execution_count": null,
   "metadata": {
    "collapsed": true
   },
   "outputs": [],
   "source": [
    "aggregate_estimated_actual = pd.DataFrame([np.array(agg_estimated), np.array(agg_actual)], index=['estimated', 'actual']).T"
   ]
  },
  {
   "cell_type": "code",
   "execution_count": null,
   "metadata": {
    "collapsed": true
   },
   "outputs": [],
   "source": [
    "aggregate_estimated_actual['estimated'] = np.fabs(aggregate_estimated_actual['estimated'])"
   ]
  },
  {
   "cell_type": "code",
   "execution_count": null,
   "metadata": {
    "collapsed": true
   },
   "outputs": [],
   "source": [
    "aggregate_estimated_actual"
   ]
  },
  {
   "cell_type": "code",
   "execution_count": null,
   "metadata": {
    "collapsed": true
   },
   "outputs": [],
   "source": [
    "correlation_actual_vs_effects = aggregate_estimated_actual['estimated'].corr(aggregate_estimated_actual['actual'])"
   ]
  },
  {
   "cell_type": "code",
   "execution_count": null,
   "metadata": {
    "collapsed": true
   },
   "outputs": [],
   "source": [
    "aggregate_estimated_actual.to_csv('full_icecrown_exponential_estimated_vs_actual_allele_effects.txt', sep='\\t')"
   ]
  },
  {
   "cell_type": "code",
   "execution_count": null,
   "metadata": {
    "collapsed": true
   },
   "outputs": [],
   "source": [
    "aggregate_estimated_actual['estimated'] = np.fabs(aggregate_estimated_actual['estimated'])"
   ]
  },
  {
   "cell_type": "code",
   "execution_count": null,
   "metadata": {
    "collapsed": true
   },
   "outputs": [],
   "source": [
    "cd C:\\tassel\\output\\full_icecrown\\exponential"
   ]
  },
  {
   "cell_type": "code",
   "execution_count": null,
   "metadata": {
    "collapsed": true
   },
   "outputs": [],
   "source": [
    "expo_estimated_actual = pd.read_csv('full_icecrown_exponential_estimated_vs_actual_allele_effects.txt', sep='\\t', index_col=0)"
   ]
  },
  {
   "cell_type": "code",
   "execution_count": null,
   "metadata": {
    "collapsed": true
   },
   "outputs": [],
   "source": [
    "expo_estimated_actual"
   ]
  },
  {
   "cell_type": "code",
   "execution_count": null,
   "metadata": {
    "collapsed": true
   },
   "outputs": [],
   "source": [
    "aggregate_estimated_actual"
   ]
  },
  {
   "cell_type": "code",
   "execution_count": null,
   "metadata": {
    "collapsed": true
   },
   "outputs": [],
   "source": [
    ", from bokeh.plotting import figure, show, output_file\n",
    "from bokeh.io import output_notebook"
   ]
  },
  {
   "cell_type": "code",
   "execution_count": null,
   "metadata": {
    "collapsed": true
   },
   "outputs": [],
   "source": [
    "output_notebook()"
   ]
  },
  {
   "cell_type": "code",
   "execution_count": null,
   "metadata": {
    "collapsed": true
   },
   "outputs": [],
   "source": [
    "aggregate_estimated_actual"
   ]
  },
  {
   "cell_type": "code",
   "execution_count": null,
   "metadata": {
    "collapsed": true
   },
   "outputs": [],
   "source": [
    "geo_x = aggregate_estimated_actual['estimated']\n",
    "geo_y = aggregate_estimated_actual['actual']"
   ]
  },
  {
   "cell_type": "code",
   "execution_count": null,
   "metadata": {
    "collapsed": true
   },
   "outputs": [],
   "source": [
    "p = figure(title=\"Estimated vs Actual Allele Effects - Geometric Series\", \n",
    "           title_text_font_size=\"16\",\n",
    "          x_range=(-0.2, 4))"
   ]
  },
  {
   "cell_type": "code",
   "execution_count": null,
   "metadata": {
    "collapsed": true
   },
   "outputs": [],
   "source": [
    "p.scatter(geo_x, y, x=\"Estimated\", y=\"Actual\")\n",
    "\n",
    "p.xaxis.axis_label = \"Estimated\"\n",
    "p.yaxis.axis_label = \"Actual\""
   ]
  },
  {
   "cell_type": "code",
   "execution_count": null,
   "metadata": {
    "collapsed": true
   },
   "outputs": [],
   "source": [
    "show(p)"
   ]
  },
  {
   "cell_type": "code",
   "execution_count": null,
   "metadata": {
    "collapsed": true
   },
   "outputs": [],
   "source": [
    "expo"
   ]
  },
  {
   "cell_type": "code",
   "execution_count": null,
   "metadata": {
    "collapsed": true
   },
   "outputs": [],
   "source": [
    "p = figure(title=\"Estimated vs Actual Allele Effects - Geometric Series\", title_text_font_size=\"16\")"
   ]
  },
  {
   "cell_type": "code",
   "execution_count": null,
   "metadata": {
    "collapsed": true
   },
   "outputs": [],
   "source": [
    "expo_plot = figure(title=\"Estimated vs Actual Effects - Exponential(lambda=1)\", \n",
    "                   title_text_font_size=\"16\", \n",
    "                  x_range=(0, 4))\n",
    "\n",
    "x = np.array(expo_estimated_actual['estimated'])\n",
    "y = np.array(expo_estimated_actual['actual'])\n",
    "\n",
    "expo_plot.xaxis.axis_label = \"Estimated\"\n",
    "expo_plot.yaxis.axis_label = \"Actual\""
   ]
  },
  {
   "cell_type": "code",
   "execution_count": null,
   "metadata": {
    "collapsed": true
   },
   "outputs": [],
   "source": [
    "expo_plot.scatter(x, y)"
   ]
  },
  {
   "cell_type": "code",
   "execution_count": null,
   "metadata": {
    "collapsed": true
   },
   "outputs": [],
   "source": [
    "show(expo_plot)"
   ]
  },
  {
   "cell_type": "code",
   "execution_count": null,
   "metadata": {
    "collapsed": true
   },
   "outputs": [],
   "source": [
    "from bokeh.io import hplot"
   ]
  },
  {
   "cell_type": "code",
   "execution_count": null,
   "metadata": {
    "collapsed": true
   },
   "outputs": [],
   "source": [
    "geo_plot = figure(title=\"Estimated vs Actual Allele Effects - Geometric Series\", \n",
    "           title_text_font_size=\"16\",\n",
    "          x_range=(0, 4), y_range=(0, 4))"
   ]
  },
  {
   "cell_type": "code",
   "execution_count": null,
   "metadata": {
    "collapsed": true
   },
   "outputs": [],
   "source": [
    "geo_x = aggregate_estimated_actual['actual']\n",
    "geo_y = aggregate_estimated_actual['estimated']"
   ]
  },
  {
   "cell_type": "code",
   "execution_count": null,
   "metadata": {
    "collapsed": true
   },
   "outputs": [],
   "source": [
    "geo_plot.xaxis.axis_label = \"Actual\"\n",
    "geo_plot.yaxis.axis_label = \"Estimated\"\n",
    "geo_plot.scatter(geo_x, geo_y, x=\"Actual\", y=\"Estimated\")"
   ]
  },
  {
   "cell_type": "code",
   "execution_count": null,
   "metadata": {
    "collapsed": true
   },
   "outputs": [],
   "source": [
    "expo_plot = figure(title=\"Estimated vs Actual Effects - Exponential(lambda=1)\", \n",
    "                   title_text_font_size=\"16\", \n",
    "                  x_range=(0, 4), y_range=(0, 4))\n",
    "\n",
    "expo_x = np.array(expo_estimated_actual['actual'])\n",
    "expo_y = np.array(expo_estimated_actual['estimated'])\n",
    "\n",
    "expo_plot.xaxis.axis_label = \"Actual\"\n",
    "expo_plot.yaxis.axis_label = \"Estimated\"\n",
    "expo_plot.scatter(expo_x, expo_y)"
   ]
  },
  {
   "cell_type": "code",
   "execution_count": null,
   "metadata": {
    "collapsed": true
   },
   "outputs": [],
   "source": [
    "multi_plot = hplot(geo_plot, expo_plot)\n",
    "show(multi_plot)"
   ]
  },
  {
   "cell_type": "code",
   "execution_count": null,
   "metadata": {
    "collapsed": true
   },
   "outputs": [],
   "source": [
    "output_file(\"multi_plot.png\")"
   ]
  },
  {
   "cell_type": "code",
   "execution_count": null,
   "metadata": {
    "collapsed": true
   },
   "outputs": [],
   "source": [
    "ls"
   ]
  },
  {
   "cell_type": "code",
   "execution_count": null,
   "metadata": {
    "collapsed": true
   },
   "outputs": [],
   "source": []
  }
 ],
 "metadata": {
  "kernelspec": {
   "display_name": "Python 3",
   "language": "python",
   "name": "python3"
  },
  "language_info": {
   "codemirror_mode": {
    "name": "ipython",
    "version": 3
   },
   "file_extension": ".py",
   "mimetype": "text/x-python",
   "name": "python",
   "nbconvert_exporter": "python",
   "pygments_lexer": "ipython3",
   "version": "3.6.1"
  }
 },
 "nbformat": 4,
 "nbformat_minor": 1
}
