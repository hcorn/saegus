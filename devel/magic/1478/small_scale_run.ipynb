{
 "cells": [
  {
   "cell_type": "markdown",
   "metadata": {},
   "source": [
    "# Small"
   ]
  },
  {
   "cell_type": "code",
   "execution_count": 1,
   "metadata": {
    "collapsed": true
   },
   "outputs": [],
   "source": [
    "import simuOpt\n",
    "simuOpt.setOptions(alleleType='short', numThreads=4, quiet=True)\n",
    "import simuPOP as sim\n",
    "import pandas as pd\n",
    "from saegus import breed, operators, simulate, analyze, parse, parameters\n",
    "import shelve\n",
    "import numpy as np\n",
    "import random\n",
    "import h5py\n",
    "import collections as col\n",
    "np.set_printoptions(suppress=True, precision=3)\n",
    "pd.options.display.float_format = '{:.8f}'.format"
   ]
  },
  {
   "cell_type": "code",
   "execution_count": 2,
   "metadata": {
    "collapsed": true
   },
   "outputs": [],
   "source": [
    "small = analyze.Study('small')"
   ]
  },
  {
   "cell_type": "code",
   "execution_count": 3,
   "metadata": {
    "collapsed": true
   },
   "outputs": [],
   "source": [
    "run_id = 'small'\n",
    "generations_of_random_mating = 10\n",
    "number_of_qtl = 20\n",
    "number_of_replicates = 10\n",
    "founders = [[2, 26], [3, 25], [4, 24], [5, 23]]\n",
    "os_per_pair = 500\n",
    "recombination_rates = [0.01]*1478"
   ]
  },
  {
   "cell_type": "code",
   "execution_count": 4,
   "metadata": {
    "collapsed": true
   },
   "outputs": [],
   "source": [
    "prefounders = sim.loadPopulation('bia_prefounders.pop')"
   ]
  },
  {
   "cell_type": "code",
   "execution_count": 5,
   "metadata": {},
   "outputs": [
    {
     "data": {
      "text/plain": [
       "('ind_id',\n",
       " 'father_id',\n",
       " 'mother_id',\n",
       " 'fitness',\n",
       " 'p',\n",
       " 'g',\n",
       " 'generation',\n",
       " 'replicate')"
      ]
     },
     "execution_count": 5,
     "metadata": {},
     "output_type": "execute_result"
    }
   ],
   "source": [
    "prefounders.infoFields()"
   ]
  },
  {
   "cell_type": "code",
   "execution_count": 6,
   "metadata": {
    "collapsed": true
   },
   "outputs": [],
   "source": [
    "sim.tagID(prefounders, reset=True)"
   ]
  },
  {
   "cell_type": "code",
   "execution_count": 7,
   "metadata": {},
   "outputs": [
    {
     "data": {
      "text/plain": [
       "26"
      ]
     },
     "execution_count": 7,
     "metadata": {},
     "output_type": "execute_result"
    }
   ],
   "source": [
    "prefounders.popSize()"
   ]
  },
  {
   "cell_type": "code",
   "execution_count": 8,
   "metadata": {
    "collapsed": true
   },
   "outputs": [],
   "source": [
    "multi_prefounders = sim.Simulator(prefounders, 10, stealPops=False)"
   ]
  },
  {
   "cell_type": "code",
   "execution_count": 9,
   "metadata": {
    "collapsed": true
   },
   "outputs": [],
   "source": [
    "magic = breed.MAGIC(multi_prefounders, founders, recombination_rates)"
   ]
  },
  {
   "cell_type": "code",
   "execution_count": 10,
   "metadata": {
    "collapsed": true
   },
   "outputs": [],
   "source": [
    "magic.generate_f_one(founders, os_per_pair)"
   ]
  },
  {
   "cell_type": "code",
   "execution_count": 11,
   "metadata": {
    "collapsed": true
   },
   "outputs": [],
   "source": [
    "mrc = breed.MultiRandomCross(multi_prefounders, 4, 500)"
   ]
  },
  {
   "cell_type": "code",
   "execution_count": 12,
   "metadata": {
    "collapsed": true
   },
   "outputs": [],
   "source": [
    "mother_choices, father_choices = mrc.determine_random_cross()"
   ]
  },
  {
   "cell_type": "code",
   "execution_count": 13,
   "metadata": {
    "collapsed": true
   },
   "outputs": [],
   "source": [
    "multi_snd_ord_chooser = breed.MultiSecondOrderPairIDChooser(\n",
    "    mother_choices, father_choices)"
   ]
  },
  {
   "cell_type": "code",
   "execution_count": 14,
   "metadata": {},
   "outputs": [
    {
     "data": {
      "text/plain": [
       "(1, 1, 1, 1, 1, 1, 1, 1, 1, 1)"
      ]
     },
     "execution_count": 14,
     "metadata": {},
     "output_type": "execute_result"
    }
   ],
   "source": [
    "multi_prefounders.evolve(\n",
    "    matingScheme=sim.HomoMating(\n",
    "        sim.PyParentsChooser(multi_snd_ord_chooser.snd_ord_id_pairs),\n",
    "        sim.OffspringGenerator(ops=[\n",
    "            sim.IdTagger(),\n",
    "            sim.PedigreeTagger(),\n",
    "            sim.Recombinator(rates=0.01)\n",
    "        ],\n",
    "            numOffspring=1),\n",
    "        subPopSize=[2000],\n",
    "    ),\n",
    "    gen=1,\n",
    ")"
   ]
  },
  {
   "cell_type": "code",
   "execution_count": 15,
   "metadata": {
    "collapsed": true
   },
   "outputs": [],
   "source": [
    "final_mrc = breed.MultiRandomCross(multi_prefounders, 2, 1000)"
   ]
  },
  {
   "cell_type": "code",
   "execution_count": 16,
   "metadata": {
    "collapsed": true
   },
   "outputs": [],
   "source": [
    "final_mothers, final_fathers = final_mrc.determine_random_cross()"
   ]
  },
  {
   "cell_type": "code",
   "execution_count": 17,
   "metadata": {
    "collapsed": true
   },
   "outputs": [],
   "source": [
    "final_multi_snd_ord_chooser = breed.MultiSecondOrderPairIDChooser(\n",
    "    final_mothers, final_fathers)"
   ]
  },
  {
   "cell_type": "code",
   "execution_count": 18,
   "metadata": {},
   "outputs": [
    {
     "data": {
      "text/plain": [
       "(1, 1, 1, 1, 1, 1, 1, 1, 1, 1)"
      ]
     },
     "execution_count": 18,
     "metadata": {},
     "output_type": "execute_result"
    }
   ],
   "source": [
    "multi_prefounders.evolve(\n",
    "    matingScheme=sim.HomoMating(\n",
    "        sim.PyParentsChooser(final_multi_snd_ord_chooser.snd_ord_id_pairs),\n",
    "        sim.OffspringGenerator(ops=[\n",
    "            sim.IdTagger(),\n",
    "            sim.PedigreeTagger(),\n",
    "            sim.Recombinator(rates=0.01)\n",
    "        ],\n",
    "            numOffspring=1),\n",
    "        subPopSize=[2000],\n",
    "    ),\n",
    "    gen=1,\n",
    ")"
   ]
  },
  {
   "cell_type": "markdown",
   "metadata": {},
   "source": [
    "# Random Mating Phase"
   ]
  },
  {
   "cell_type": "code",
   "execution_count": 19,
   "metadata": {},
   "outputs": [
    {
     "data": {
      "text/plain": [
       "(10, 10, 10, 10, 10, 10, 10, 10, 10, 10)"
      ]
     },
     "execution_count": 19,
     "metadata": {},
     "output_type": "execute_result"
    }
   ],
   "source": [
    "multi_prefounders.evolve(\n",
    "    matingScheme=sim.RandomMating(ops=[\n",
    "            sim.IdTagger(),\n",
    "            sim.PedigreeTagger(),\n",
    "            sim.Recombinator(rates=0.01)\n",
    "        ],\n",
    "        subPopSize=[2000]),\n",
    "    gen=10,\n",
    ")"
   ]
  },
  {
   "cell_type": "code",
   "execution_count": 20,
   "metadata": {
    "collapsed": true
   },
   "outputs": [],
   "source": [
    "sample_size = 500"
   ]
  },
  {
   "cell_type": "code",
   "execution_count": 21,
   "metadata": {
    "collapsed": true
   },
   "outputs": [],
   "source": [
    "sample_library = small.collect_samples(multi_prefounders, [sample_size])"
   ]
  },
  {
   "cell_type": "code",
   "execution_count": 22,
   "metadata": {
    "collapsed": true
   },
   "outputs": [],
   "source": [
    "for rep_id, sample_list in sample_library.items():\n",
    "    sim.stat(sample_list[0], numOfSegSites=sim.ALL_AVAIL, vars=['numOfSegSites', 'segSites'])\n",
    "    sim.stat(sample_list[0], alleleFreq=sim.ALL_AVAIL)"
   ]
  },
  {
   "cell_type": "code",
   "execution_count": 23,
   "metadata": {
    "collapsed": true
   },
   "outputs": [],
   "source": [
    "sample = sample_library[0][0]"
   ]
  },
  {
   "cell_type": "code",
   "execution_count": 24,
   "metadata": {
    "collapsed": true
   },
   "outputs": [],
   "source": [
    "astates = small.gather_allele_data(sample)"
   ]
  },
  {
   "cell_type": "code",
   "execution_count": 25,
   "metadata": {
    "collapsed": true
   },
   "outputs": [],
   "source": [
    "alleles = np.array([astates[:, 1], astates[:, 2]]).T"
   ]
  },
  {
   "cell_type": "code",
   "execution_count": 26,
   "metadata": {
    "collapsed": true
   },
   "outputs": [],
   "source": [
    "segregating_loci = np.array(sample.dvars().segSites)"
   ]
  },
  {
   "cell_type": "code",
   "execution_count": 27,
   "metadata": {
    "collapsed": true
   },
   "outputs": [],
   "source": [
    "trait = parameters.Trait()"
   ]
  },
  {
   "cell_type": "code",
   "execution_count": 28,
   "metadata": {
    "collapsed": true
   },
   "outputs": [],
   "source": [
    "qtl = sorted(list(random.sample(list(segregating_loci), 20)))"
   ]
  },
  {
   "cell_type": "code",
   "execution_count": 29,
   "metadata": {
    "collapsed": true
   },
   "outputs": [],
   "source": [
    "allele_effects = trait.construct_allele_effects_table(alleles, qtl, random.expovariate, 1)"
   ]
  },
  {
   "cell_type": "code",
   "execution_count": 30,
   "metadata": {
    "collapsed": true
   },
   "outputs": [],
   "source": [
    "ae_array = trait.construct_ae_array(allele_effects, qtl)"
   ]
  },
  {
   "cell_type": "markdown",
   "metadata": {},
   "source": [
    "# Storing Data"
   ]
  },
  {
   "cell_type": "code",
   "execution_count": 31,
   "metadata": {
    "collapsed": true
   },
   "outputs": [],
   "source": [
    "small_data = h5py.File('small_data.hdf5')"
   ]
  },
  {
   "cell_type": "code",
   "execution_count": 55,
   "metadata": {},
   "outputs": [
    {
     "ename": "RuntimeError",
     "evalue": "Unable to create link (Name already exists)",
     "output_type": "error",
     "traceback": [
      "\u001b[0;31m---------------------------------------------------------------------------\u001b[0m",
      "\u001b[0;31mRuntimeError\u001b[0m                              Traceback (most recent call last)",
      "\u001b[0;32m<ipython-input-55-f4a12f6d15da>\u001b[0m in \u001b[0;36m<module>\u001b[0;34m()\u001b[0m\n\u001b[0;32m----> 1\u001b[0;31m \u001b[0msmall_data\u001b[0m\u001b[0;34m[\u001b[0m\u001b[0;34m'allele/states'\u001b[0m\u001b[0;34m]\u001b[0m \u001b[0;34m=\u001b[0m \u001b[0mastates\u001b[0m\u001b[0;34m\u001b[0m\u001b[0m\n\u001b[0m\u001b[1;32m      2\u001b[0m \u001b[0msmall_data\u001b[0m\u001b[0;34m[\u001b[0m\u001b[0;34m'segregating_loci'\u001b[0m\u001b[0;34m]\u001b[0m \u001b[0;34m=\u001b[0m \u001b[0msegregating_loci\u001b[0m\u001b[0;34m\u001b[0m\u001b[0m\n\u001b[1;32m      3\u001b[0m \u001b[0msmall_data\u001b[0m\u001b[0;34m[\u001b[0m\u001b[0;34m'qtl'\u001b[0m\u001b[0;34m]\u001b[0m \u001b[0;34m=\u001b[0m \u001b[0mnp\u001b[0m\u001b[0;34m.\u001b[0m\u001b[0marray\u001b[0m\u001b[0;34m(\u001b[0m\u001b[0mqtl\u001b[0m\u001b[0;34m)\u001b[0m\u001b[0;34m\u001b[0m\u001b[0m\n\u001b[1;32m      4\u001b[0m \u001b[0msmall_data\u001b[0m\u001b[0;34m[\u001b[0m\u001b[0;34m'allele/effects'\u001b[0m\u001b[0;34m]\u001b[0m \u001b[0;34m=\u001b[0m \u001b[0mallele_effects\u001b[0m\u001b[0;34m\u001b[0m\u001b[0m\n\u001b[1;32m      5\u001b[0m \u001b[0msmall_data\u001b[0m\u001b[0;34m[\u001b[0m\u001b[0;34m'recombination_rates'\u001b[0m\u001b[0;34m]\u001b[0m \u001b[0;34m=\u001b[0m \u001b[0mnp\u001b[0m\u001b[0;34m.\u001b[0m\u001b[0marray\u001b[0m\u001b[0;34m(\u001b[0m\u001b[0mrecombination_rates\u001b[0m\u001b[0;34m)\u001b[0m\u001b[0;34m\u001b[0m\u001b[0m\n",
      "\u001b[0;32mh5py/_objects.pyx\u001b[0m in \u001b[0;36mh5py._objects.with_phil.wrapper (/feedstock_root/build_artefacts/h5py_1491365196274/work/h5py-2.7.0/h5py/_objects.c:2846)\u001b[0;34m()\u001b[0m\n",
      "\u001b[0;32mh5py/_objects.pyx\u001b[0m in \u001b[0;36mh5py._objects.with_phil.wrapper (/feedstock_root/build_artefacts/h5py_1491365196274/work/h5py-2.7.0/h5py/_objects.c:2804)\u001b[0;34m()\u001b[0m\n",
      "\u001b[0;32m~/anaconda43/lib/python3.6/site-packages/h5py/_hl/group.py\u001b[0m in \u001b[0;36m__setitem__\u001b[0;34m(self, name, obj)\u001b[0m\n\u001b[1;32m    290\u001b[0m         \u001b[0;32melse\u001b[0m\u001b[0;34m:\u001b[0m\u001b[0;34m\u001b[0m\u001b[0m\n\u001b[1;32m    291\u001b[0m             \u001b[0mds\u001b[0m \u001b[0;34m=\u001b[0m \u001b[0mself\u001b[0m\u001b[0;34m.\u001b[0m\u001b[0mcreate_dataset\u001b[0m\u001b[0;34m(\u001b[0m\u001b[0;32mNone\u001b[0m\u001b[0;34m,\u001b[0m \u001b[0mdata\u001b[0m\u001b[0;34m=\u001b[0m\u001b[0mobj\u001b[0m\u001b[0;34m,\u001b[0m \u001b[0mdtype\u001b[0m\u001b[0;34m=\u001b[0m\u001b[0mbase\u001b[0m\u001b[0;34m.\u001b[0m\u001b[0mguess_dtype\u001b[0m\u001b[0;34m(\u001b[0m\u001b[0mobj\u001b[0m\u001b[0;34m)\u001b[0m\u001b[0;34m)\u001b[0m\u001b[0;34m\u001b[0m\u001b[0m\n\u001b[0;32m--> 292\u001b[0;31m             \u001b[0mh5o\u001b[0m\u001b[0;34m.\u001b[0m\u001b[0mlink\u001b[0m\u001b[0;34m(\u001b[0m\u001b[0mds\u001b[0m\u001b[0;34m.\u001b[0m\u001b[0mid\u001b[0m\u001b[0;34m,\u001b[0m \u001b[0mself\u001b[0m\u001b[0;34m.\u001b[0m\u001b[0mid\u001b[0m\u001b[0;34m,\u001b[0m \u001b[0mname\u001b[0m\u001b[0;34m,\u001b[0m \u001b[0mlcpl\u001b[0m\u001b[0;34m=\u001b[0m\u001b[0mlcpl\u001b[0m\u001b[0;34m)\u001b[0m\u001b[0;34m\u001b[0m\u001b[0m\n\u001b[0m\u001b[1;32m    293\u001b[0m \u001b[0;34m\u001b[0m\u001b[0m\n\u001b[1;32m    294\u001b[0m     \u001b[0;34m@\u001b[0m\u001b[0mwith_phil\u001b[0m\u001b[0;34m\u001b[0m\u001b[0m\n",
      "\u001b[0;32mh5py/_objects.pyx\u001b[0m in \u001b[0;36mh5py._objects.with_phil.wrapper (/feedstock_root/build_artefacts/h5py_1491365196274/work/h5py-2.7.0/h5py/_objects.c:2846)\u001b[0;34m()\u001b[0m\n",
      "\u001b[0;32mh5py/_objects.pyx\u001b[0m in \u001b[0;36mh5py._objects.with_phil.wrapper (/feedstock_root/build_artefacts/h5py_1491365196274/work/h5py-2.7.0/h5py/_objects.c:2804)\u001b[0;34m()\u001b[0m\n",
      "\u001b[0;32mh5py/h5o.pyx\u001b[0m in \u001b[0;36mh5py.h5o.link (/feedstock_root/build_artefacts/h5py_1491365196274/work/h5py-2.7.0/h5py/h5o.c:3901)\u001b[0;34m()\u001b[0m\n",
      "\u001b[0;31mRuntimeError\u001b[0m: Unable to create link (Name already exists)"
     ]
    }
   ],
   "source": [
    "small_data['allele/states'] = astates\n",
    "small_data['segregating_loci'] = segregating_loci\n",
    "small_data['qtl'] = np.array(qtl)\n",
    "small_data['allele/effects'] = allele_effects\n",
    "#small_data['recombination_rates'] = np.array(recombination_rates)"
   ]
  },
  {
   "cell_type": "code",
   "execution_count": 54,
   "metadata": {
    "collapsed": true
   },
   "outputs": [
    {
     "data": {
      "text/plain": [
       "[0.01,\n",
       " 0.01,\n",
       " 0.01,\n",
       " 0.01,\n",
       " 0.01,\n",
       " 0.01,\n",
       " 0.01,\n",
       " 0.01,\n",
       " 0.01,\n",
       " 0.01,\n",
       " 0.01,\n",
       " 0.01,\n",
       " 0.01,\n",
       " 0.01,\n",
       " 0.01,\n",
       " 0.01,\n",
       " 0.01,\n",
       " 0.01,\n",
       " 0.01,\n",
       " 0.01,\n",
       " 0.01,\n",
       " 0.01,\n",
       " 0.01,\n",
       " 0.01,\n",
       " 0.01,\n",
       " 0.01,\n",
       " 0.01,\n",
       " 0.01,\n",
       " 0.01,\n",
       " 0.01,\n",
       " 0.01,\n",
       " 0.01,\n",
       " 0.01,\n",
       " 0.01,\n",
       " 0.01,\n",
       " 0.01,\n",
       " 0.01,\n",
       " 0.01,\n",
       " 0.01,\n",
       " 0.01,\n",
       " 0.01,\n",
       " 0.01,\n",
       " 0.01,\n",
       " 0.01,\n",
       " 0.01,\n",
       " 0.01,\n",
       " 0.01,\n",
       " 0.01,\n",
       " 0.01,\n",
       " 0.01,\n",
       " 0.01,\n",
       " 0.01,\n",
       " 0.01,\n",
       " 0.01,\n",
       " 0.01,\n",
       " 0.01,\n",
       " 0.01,\n",
       " 0.01,\n",
       " 0.01,\n",
       " 0.01,\n",
       " 0.01,\n",
       " 0.01,\n",
       " 0.01,\n",
       " 0.01,\n",
       " 0.01,\n",
       " 0.01,\n",
       " 0.01,\n",
       " 0.01,\n",
       " 0.01,\n",
       " 0.01,\n",
       " 0.01,\n",
       " 0.01,\n",
       " 0.01,\n",
       " 0.01,\n",
       " 0.01,\n",
       " 0.01,\n",
       " 0.01,\n",
       " 0.01,\n",
       " 0.01,\n",
       " 0.01,\n",
       " 0.01,\n",
       " 0.01,\n",
       " 0.01,\n",
       " 0.01,\n",
       " 0.01,\n",
       " 0.01,\n",
       " 0.01,\n",
       " 0.01,\n",
       " 0.01,\n",
       " 0.01,\n",
       " 0.01,\n",
       " 0.01,\n",
       " 0.01,\n",
       " 0.01,\n",
       " 0.01,\n",
       " 0.01,\n",
       " 0.01,\n",
       " 0.01,\n",
       " 0.01,\n",
       " 0.01,\n",
       " 0.01,\n",
       " 0.01,\n",
       " 0.01,\n",
       " 0.01,\n",
       " 0.01,\n",
       " 0.01,\n",
       " 0.01,\n",
       " 0.01,\n",
       " 0.01,\n",
       " 0.01,\n",
       " 0.01,\n",
       " 0.01,\n",
       " 0.01,\n",
       " 0.01,\n",
       " 0.01,\n",
       " 0.01,\n",
       " 0.01,\n",
       " 0.01,\n",
       " 0.01,\n",
       " 0.01,\n",
       " 0.01,\n",
       " 0.01,\n",
       " 0.01,\n",
       " 0.01,\n",
       " 0.01,\n",
       " 0.01,\n",
       " 0.01,\n",
       " 0.01,\n",
       " 0.01,\n",
       " 0.01,\n",
       " 0.01,\n",
       " 0.01,\n",
       " 0.01,\n",
       " 0.01,\n",
       " 0.01,\n",
       " 0.01,\n",
       " 0.01,\n",
       " 0.01,\n",
       " 0.01,\n",
       " 0.01,\n",
       " 0.01,\n",
       " 0.01,\n",
       " 0.01,\n",
       " 0.01,\n",
       " 0.01,\n",
       " 0.01,\n",
       " 0.01,\n",
       " 0.01,\n",
       " 0.01,\n",
       " 0.01,\n",
       " 0.01,\n",
       " 0.01,\n",
       " 0.01,\n",
       " 0.01,\n",
       " 0.01,\n",
       " 0.01,\n",
       " 0.01,\n",
       " 0.01,\n",
       " 0.01,\n",
       " 0.01,\n",
       " 0.01,\n",
       " 0.01,\n",
       " 0.01,\n",
       " 0.01,\n",
       " 0.01,\n",
       " 0.01,\n",
       " 0.01,\n",
       " 0.01,\n",
       " 0.01,\n",
       " 0.01,\n",
       " 0.01,\n",
       " 0.01,\n",
       " 0.01,\n",
       " 0.01,\n",
       " 0.01,\n",
       " 0.01,\n",
       " 0.01,\n",
       " 0.01,\n",
       " 0.01,\n",
       " 0.01,\n",
       " 0.01,\n",
       " 0.01,\n",
       " 0.01,\n",
       " 0.01,\n",
       " 0.01,\n",
       " 0.01,\n",
       " 0.01,\n",
       " 0.01,\n",
       " 0.01,\n",
       " 0.01,\n",
       " 0.01,\n",
       " 0.01,\n",
       " 0.01,\n",
       " 0.01,\n",
       " 0.01,\n",
       " 0.01,\n",
       " 0.01,\n",
       " 0.01,\n",
       " 0.01,\n",
       " 0.01,\n",
       " 0.01,\n",
       " 0.01,\n",
       " 0.01,\n",
       " 0.01,\n",
       " 0.01,\n",
       " 0.01,\n",
       " 0.01,\n",
       " 0.01,\n",
       " 0.01,\n",
       " 0.01,\n",
       " 0.01,\n",
       " 0.01,\n",
       " 0.01,\n",
       " 0.01,\n",
       " 0.01,\n",
       " 0.01,\n",
       " 0.01,\n",
       " 0.01,\n",
       " 0.01,\n",
       " 0.01,\n",
       " 0.01,\n",
       " 0.01,\n",
       " 0.01,\n",
       " 0.01,\n",
       " 0.01,\n",
       " 0.01,\n",
       " 0.01,\n",
       " 0.01,\n",
       " 0.01,\n",
       " 0.01,\n",
       " 0.01,\n",
       " 0.01,\n",
       " 0.01,\n",
       " 0.01,\n",
       " 0.01,\n",
       " 0.01,\n",
       " 0.01,\n",
       " 0.01,\n",
       " 0.01,\n",
       " 0.01,\n",
       " 0.01,\n",
       " 0.01,\n",
       " 0.01,\n",
       " 0.01,\n",
       " 0.01,\n",
       " 0.01,\n",
       " 0.01,\n",
       " 0.01,\n",
       " 0.01,\n",
       " 0.01,\n",
       " 0.01,\n",
       " 0.01,\n",
       " 0.01,\n",
       " 0.01,\n",
       " 0.01,\n",
       " 0.01,\n",
       " 0.01,\n",
       " 0.01,\n",
       " 0.01,\n",
       " 0.01,\n",
       " 0.01,\n",
       " 0.01,\n",
       " 0.01,\n",
       " 0.01,\n",
       " 0.01,\n",
       " 0.01,\n",
       " 0.01,\n",
       " 0.01,\n",
       " 0.01,\n",
       " 0.01,\n",
       " 0.01,\n",
       " 0.01,\n",
       " 0.01,\n",
       " 0.01,\n",
       " 0.01,\n",
       " 0.01,\n",
       " 0.01,\n",
       " 0.01,\n",
       " 0.01,\n",
       " 0.01,\n",
       " 0.01,\n",
       " 0.01,\n",
       " 0.01,\n",
       " 0.01,\n",
       " 0.01,\n",
       " 0.01,\n",
       " 0.01,\n",
       " 0.01,\n",
       " 0.01,\n",
       " 0.01,\n",
       " 0.01,\n",
       " 0.01,\n",
       " 0.01,\n",
       " 0.01,\n",
       " 0.01,\n",
       " 0.01,\n",
       " 0.01,\n",
       " 0.01,\n",
       " 0.01,\n",
       " 0.01,\n",
       " 0.01,\n",
       " 0.01,\n",
       " 0.01,\n",
       " 0.01,\n",
       " 0.01,\n",
       " 0.01,\n",
       " 0.01,\n",
       " 0.01,\n",
       " 0.01,\n",
       " 0.01,\n",
       " 0.01,\n",
       " 0.01,\n",
       " 0.01,\n",
       " 0.01,\n",
       " 0.01,\n",
       " 0.01,\n",
       " 0.01,\n",
       " 0.01,\n",
       " 0.01,\n",
       " 0.01,\n",
       " 0.01,\n",
       " 0.01,\n",
       " 0.01,\n",
       " 0.01,\n",
       " 0.01,\n",
       " 0.01,\n",
       " 0.01,\n",
       " 0.01,\n",
       " 0.01,\n",
       " 0.01,\n",
       " 0.01,\n",
       " 0.01,\n",
       " 0.01,\n",
       " 0.01,\n",
       " 0.01,\n",
       " 0.01,\n",
       " 0.01,\n",
       " 0.01,\n",
       " 0.01,\n",
       " 0.01,\n",
       " 0.01,\n",
       " 0.01,\n",
       " 0.01,\n",
       " 0.01,\n",
       " 0.01,\n",
       " 0.01,\n",
       " 0.01,\n",
       " 0.01,\n",
       " 0.01,\n",
       " 0.01,\n",
       " 0.01,\n",
       " 0.01,\n",
       " 0.01,\n",
       " 0.01,\n",
       " 0.01,\n",
       " 0.01,\n",
       " 0.01,\n",
       " 0.01,\n",
       " 0.01,\n",
       " 0.01,\n",
       " 0.01,\n",
       " 0.01,\n",
       " 0.01,\n",
       " 0.01,\n",
       " 0.01,\n",
       " 0.01,\n",
       " 0.01,\n",
       " 0.01,\n",
       " 0.01,\n",
       " 0.01,\n",
       " 0.01,\n",
       " 0.01,\n",
       " 0.01,\n",
       " 0.01,\n",
       " 0.01,\n",
       " 0.01,\n",
       " 0.01,\n",
       " 0.01,\n",
       " 0.01,\n",
       " 0.01,\n",
       " 0.01,\n",
       " 0.01,\n",
       " 0.01,\n",
       " 0.01,\n",
       " 0.01,\n",
       " 0.01,\n",
       " 0.01,\n",
       " 0.01,\n",
       " 0.01,\n",
       " 0.01,\n",
       " 0.01,\n",
       " 0.01,\n",
       " 0.01,\n",
       " 0.01,\n",
       " 0.01,\n",
       " 0.01,\n",
       " 0.01,\n",
       " 0.01,\n",
       " 0.01,\n",
       " 0.01,\n",
       " 0.01,\n",
       " 0.01,\n",
       " 0.01,\n",
       " 0.01,\n",
       " 0.01,\n",
       " 0.01,\n",
       " 0.01,\n",
       " 0.01,\n",
       " 0.01,\n",
       " 0.01,\n",
       " 0.01,\n",
       " 0.01,\n",
       " 0.01,\n",
       " 0.01,\n",
       " 0.01,\n",
       " 0.01,\n",
       " 0.01,\n",
       " 0.01,\n",
       " 0.01,\n",
       " 0.01,\n",
       " 0.01,\n",
       " 0.01,\n",
       " 0.01,\n",
       " 0.01,\n",
       " 0.01,\n",
       " 0.01,\n",
       " 0.01,\n",
       " 0.01,\n",
       " 0.01,\n",
       " 0.01,\n",
       " 0.01,\n",
       " 0.01,\n",
       " 0.01,\n",
       " 0.01,\n",
       " 0.01,\n",
       " 0.01,\n",
       " 0.01,\n",
       " 0.01,\n",
       " 0.01,\n",
       " 0.01,\n",
       " 0.01,\n",
       " 0.01,\n",
       " 0.01,\n",
       " 0.01,\n",
       " 0.01,\n",
       " 0.01,\n",
       " 0.01,\n",
       " 0.01,\n",
       " 0.01,\n",
       " 0.01,\n",
       " 0.01,\n",
       " 0.01,\n",
       " 0.01,\n",
       " 0.01,\n",
       " 0.01,\n",
       " 0.01,\n",
       " 0.01,\n",
       " 0.01,\n",
       " 0.01,\n",
       " 0.01,\n",
       " 0.01,\n",
       " 0.01,\n",
       " 0.01,\n",
       " 0.01,\n",
       " 0.01,\n",
       " 0.01,\n",
       " 0.01,\n",
       " 0.01,\n",
       " 0.01,\n",
       " 0.01,\n",
       " 0.01,\n",
       " 0.01,\n",
       " 0.01,\n",
       " 0.01,\n",
       " 0.01,\n",
       " 0.01,\n",
       " 0.01,\n",
       " 0.01,\n",
       " 0.01,\n",
       " 0.01,\n",
       " 0.01,\n",
       " 0.01,\n",
       " 0.01,\n",
       " 0.01,\n",
       " 0.01,\n",
       " 0.01,\n",
       " 0.01,\n",
       " 0.01,\n",
       " 0.01,\n",
       " 0.01,\n",
       " 0.01,\n",
       " 0.01,\n",
       " 0.01,\n",
       " 0.01,\n",
       " 0.01,\n",
       " 0.01,\n",
       " 0.01,\n",
       " 0.01,\n",
       " 0.01,\n",
       " 0.01,\n",
       " 0.01,\n",
       " 0.01,\n",
       " 0.01,\n",
       " 0.01,\n",
       " 0.01,\n",
       " 0.01,\n",
       " 0.01,\n",
       " 0.01,\n",
       " 0.01,\n",
       " 0.01,\n",
       " 0.01,\n",
       " 0.01,\n",
       " 0.01,\n",
       " 0.01,\n",
       " 0.01,\n",
       " 0.01,\n",
       " 0.01,\n",
       " 0.01,\n",
       " 0.01,\n",
       " 0.01,\n",
       " 0.01,\n",
       " 0.01,\n",
       " 0.01,\n",
       " 0.01,\n",
       " 0.01,\n",
       " 0.01,\n",
       " 0.01,\n",
       " 0.01,\n",
       " 0.01,\n",
       " 0.01,\n",
       " 0.01,\n",
       " 0.01,\n",
       " 0.01,\n",
       " 0.01,\n",
       " 0.01,\n",
       " 0.01,\n",
       " 0.01,\n",
       " 0.01,\n",
       " 0.01,\n",
       " 0.01,\n",
       " 0.01,\n",
       " 0.01,\n",
       " 0.01,\n",
       " 0.01,\n",
       " 0.01,\n",
       " 0.01,\n",
       " 0.01,\n",
       " 0.01,\n",
       " 0.01,\n",
       " 0.01,\n",
       " 0.01,\n",
       " 0.01,\n",
       " 0.01,\n",
       " 0.01,\n",
       " 0.01,\n",
       " 0.01,\n",
       " 0.01,\n",
       " 0.01,\n",
       " 0.01,\n",
       " 0.01,\n",
       " 0.01,\n",
       " 0.01,\n",
       " 0.01,\n",
       " 0.01,\n",
       " 0.01,\n",
       " 0.01,\n",
       " 0.01,\n",
       " 0.01,\n",
       " 0.01,\n",
       " 0.01,\n",
       " 0.01,\n",
       " 0.01,\n",
       " 0.01,\n",
       " 0.01,\n",
       " 0.01,\n",
       " 0.01,\n",
       " 0.01,\n",
       " 0.01,\n",
       " 0.01,\n",
       " 0.01,\n",
       " 0.01,\n",
       " 0.01,\n",
       " 0.01,\n",
       " 0.01,\n",
       " 0.01,\n",
       " 0.01,\n",
       " 0.01,\n",
       " 0.01,\n",
       " 0.01,\n",
       " 0.01,\n",
       " 0.01,\n",
       " 0.01,\n",
       " 0.01,\n",
       " 0.01,\n",
       " 0.01,\n",
       " 0.01,\n",
       " 0.01,\n",
       " 0.01,\n",
       " 0.01,\n",
       " 0.01,\n",
       " 0.01,\n",
       " 0.01,\n",
       " 0.01,\n",
       " 0.01,\n",
       " 0.01,\n",
       " 0.01,\n",
       " 0.01,\n",
       " 0.01,\n",
       " 0.01,\n",
       " 0.01,\n",
       " 0.01,\n",
       " 0.01,\n",
       " 0.01,\n",
       " 0.01,\n",
       " 0.01,\n",
       " 0.01,\n",
       " 0.01,\n",
       " 0.01,\n",
       " 0.01,\n",
       " 0.01,\n",
       " 0.01,\n",
       " 0.01,\n",
       " 0.01,\n",
       " 0.01,\n",
       " 0.01,\n",
       " 0.01,\n",
       " 0.01,\n",
       " 0.01,\n",
       " 0.01,\n",
       " 0.01,\n",
       " 0.01,\n",
       " 0.01,\n",
       " 0.01,\n",
       " 0.01,\n",
       " 0.01,\n",
       " 0.01,\n",
       " 0.01,\n",
       " 0.01,\n",
       " 0.01,\n",
       " 0.01,\n",
       " 0.01,\n",
       " 0.01,\n",
       " 0.01,\n",
       " 0.01,\n",
       " 0.01,\n",
       " 0.01,\n",
       " 0.01,\n",
       " 0.01,\n",
       " 0.01,\n",
       " 0.01,\n",
       " 0.01,\n",
       " 0.01,\n",
       " 0.01,\n",
       " 0.01,\n",
       " 0.01,\n",
       " 0.01,\n",
       " 0.01,\n",
       " 0.01,\n",
       " 0.01,\n",
       " 0.01,\n",
       " 0.01,\n",
       " 0.01,\n",
       " 0.01,\n",
       " 0.01,\n",
       " 0.01,\n",
       " 0.01,\n",
       " 0.01,\n",
       " 0.01,\n",
       " 0.01,\n",
       " 0.01,\n",
       " 0.01,\n",
       " 0.01,\n",
       " 0.01,\n",
       " 0.01,\n",
       " 0.01,\n",
       " 0.01,\n",
       " 0.01,\n",
       " 0.01,\n",
       " 0.01,\n",
       " 0.01,\n",
       " 0.01,\n",
       " 0.01,\n",
       " 0.01,\n",
       " 0.01,\n",
       " 0.01,\n",
       " 0.01,\n",
       " 0.01,\n",
       " 0.01,\n",
       " 0.01,\n",
       " 0.01,\n",
       " 0.01,\n",
       " 0.01,\n",
       " 0.01,\n",
       " 0.01,\n",
       " 0.01,\n",
       " 0.01,\n",
       " 0.01,\n",
       " 0.01,\n",
       " 0.01,\n",
       " 0.01,\n",
       " 0.01,\n",
       " 0.01,\n",
       " 0.01,\n",
       " 0.01,\n",
       " 0.01,\n",
       " 0.01,\n",
       " 0.01,\n",
       " 0.01,\n",
       " 0.01,\n",
       " 0.01,\n",
       " 0.01,\n",
       " 0.01,\n",
       " 0.01,\n",
       " 0.01,\n",
       " 0.01,\n",
       " 0.01,\n",
       " 0.01,\n",
       " 0.01,\n",
       " 0.01,\n",
       " 0.01,\n",
       " 0.01,\n",
       " 0.01,\n",
       " 0.01,\n",
       " 0.01,\n",
       " 0.01,\n",
       " 0.01,\n",
       " 0.01,\n",
       " 0.01,\n",
       " 0.01,\n",
       " 0.01,\n",
       " 0.01,\n",
       " 0.01,\n",
       " 0.01,\n",
       " 0.01,\n",
       " 0.01,\n",
       " 0.01,\n",
       " 0.01,\n",
       " 0.01,\n",
       " 0.01,\n",
       " 0.01,\n",
       " 0.01,\n",
       " 0.01,\n",
       " 0.01,\n",
       " 0.01,\n",
       " 0.01,\n",
       " 0.01,\n",
       " 0.01,\n",
       " 0.01,\n",
       " 0.01,\n",
       " 0.01,\n",
       " 0.01,\n",
       " 0.01,\n",
       " 0.01,\n",
       " 0.01,\n",
       " 0.01,\n",
       " 0.01,\n",
       " 0.01,\n",
       " 0.01,\n",
       " 0.01,\n",
       " 0.01,\n",
       " 0.01,\n",
       " 0.01,\n",
       " 0.01,\n",
       " 0.01,\n",
       " 0.01,\n",
       " 0.01,\n",
       " 0.01,\n",
       " 0.01,\n",
       " 0.01,\n",
       " 0.01,\n",
       " 0.01,\n",
       " 0.01,\n",
       " 0.01,\n",
       " 0.01,\n",
       " 0.01,\n",
       " 0.01,\n",
       " 0.01,\n",
       " 0.01,\n",
       " 0.01,\n",
       " 0.01,\n",
       " 0.01,\n",
       " 0.01,\n",
       " 0.01,\n",
       " 0.01,\n",
       " 0.01,\n",
       " 0.01,\n",
       " 0.01,\n",
       " 0.01,\n",
       " 0.01,\n",
       " 0.01,\n",
       " 0.01,\n",
       " 0.01,\n",
       " 0.01,\n",
       " 0.01,\n",
       " 0.01,\n",
       " 0.01,\n",
       " 0.01,\n",
       " 0.01,\n",
       " 0.01,\n",
       " 0.01,\n",
       " 0.01,\n",
       " 0.01,\n",
       " 0.01,\n",
       " 0.01,\n",
       " 0.01,\n",
       " 0.01,\n",
       " 0.01,\n",
       " 0.01,\n",
       " 0.01,\n",
       " 0.01,\n",
       " 0.01,\n",
       " 0.01,\n",
       " 0.01,\n",
       " 0.01,\n",
       " 0.01,\n",
       " 0.01,\n",
       " 0.01,\n",
       " 0.01,\n",
       " 0.01,\n",
       " 0.01,\n",
       " 0.01,\n",
       " 0.01,\n",
       " 0.01,\n",
       " 0.01,\n",
       " 0.01,\n",
       " 0.01,\n",
       " 0.01,\n",
       " 0.01,\n",
       " 0.01,\n",
       " 0.01,\n",
       " 0.01,\n",
       " 0.01,\n",
       " 0.01,\n",
       " 0.01,\n",
       " 0.01,\n",
       " 0.01,\n",
       " 0.01,\n",
       " 0.01,\n",
       " 0.01,\n",
       " 0.01,\n",
       " 0.01,\n",
       " 0.01,\n",
       " 0.01,\n",
       " 0.01,\n",
       " 0.01,\n",
       " 0.01,\n",
       " 0.01,\n",
       " 0.01,\n",
       " 0.01,\n",
       " 0.01,\n",
       " 0.01,\n",
       " 0.01,\n",
       " 0.01,\n",
       " 0.01,\n",
       " 0.01,\n",
       " 0.01,\n",
       " 0.01,\n",
       " 0.01,\n",
       " 0.01,\n",
       " 0.01,\n",
       " 0.01,\n",
       " 0.01,\n",
       " 0.01,\n",
       " 0.01,\n",
       " 0.01,\n",
       " 0.01,\n",
       " 0.01,\n",
       " 0.01,\n",
       " 0.01,\n",
       " 0.01,\n",
       " 0.01,\n",
       " 0.01,\n",
       " 0.01,\n",
       " 0.01,\n",
       " 0.01,\n",
       " 0.01,\n",
       " 0.01,\n",
       " 0.01,\n",
       " 0.01,\n",
       " 0.01,\n",
       " 0.01,\n",
       " 0.01,\n",
       " 0.01,\n",
       " 0.01,\n",
       " 0.01,\n",
       " 0.01,\n",
       " 0.01,\n",
       " 0.01,\n",
       " 0.01,\n",
       " 0.01,\n",
       " 0.01,\n",
       " 0.01,\n",
       " 0.01,\n",
       " 0.01,\n",
       " 0.01,\n",
       " 0.01,\n",
       " 0.01,\n",
       " 0.01,\n",
       " 0.01,\n",
       " 0.01,\n",
       " 0.01,\n",
       " 0.01,\n",
       " 0.01,\n",
       " 0.01,\n",
       " 0.01,\n",
       " 0.01,\n",
       " 0.01,\n",
       " 0.01,\n",
       " 0.01,\n",
       " 0.01,\n",
       " 0.01,\n",
       " 0.01,\n",
       " 0.01,\n",
       " 0.01,\n",
       " 0.01,\n",
       " 0.01,\n",
       " 0.01,\n",
       " 0.01,\n",
       " 0.01,\n",
       " 0.01,\n",
       " 0.01,\n",
       " 0.01,\n",
       " 0.01,\n",
       " 0.01,\n",
       " 0.01,\n",
       " 0.01,\n",
       " 0.01,\n",
       " 0.01,\n",
       " 0.01,\n",
       " 0.01,\n",
       " 0.01,\n",
       " 0.01,\n",
       " 0.01,\n",
       " 0.01,\n",
       " 0.01,\n",
       " 0.01,\n",
       " 0.01,\n",
       " 0.01,\n",
       " 0.01,\n",
       " 0.01,\n",
       " 0.01,\n",
       " 0.01,\n",
       " 0.01,\n",
       " 0.01,\n",
       " 0.01,\n",
       " 0.01,\n",
       " 0.01,\n",
       " 0.01,\n",
       " 0.01,\n",
       " 0.01,\n",
       " 0.01,\n",
       " 0.01,\n",
       " 0.01,\n",
       " 0.01,\n",
       " 0.01,\n",
       " 0.01,\n",
       " 0.01,\n",
       " 0.01,\n",
       " 0.01,\n",
       " 0.01,\n",
       " 0.01,\n",
       " 0.01,\n",
       " 0.01,\n",
       " 0.01,\n",
       " 0.01,\n",
       " 0.01,\n",
       " 0.01,\n",
       " 0.01,\n",
       " 0.01,\n",
       " 0.01,\n",
       " 0.01,\n",
       " 0.01,\n",
       " 0.01,\n",
       " 0.01,\n",
       " 0.01,\n",
       " 0.01,\n",
       " 0.01,\n",
       " 0.01,\n",
       " 0.01,\n",
       " 0.01,\n",
       " 0.01,\n",
       " 0.01,\n",
       " 0.01,\n",
       " 0.01,\n",
       " 0.01,\n",
       " 0.01,\n",
       " 0.01,\n",
       " 0.01,\n",
       " 0.01,\n",
       " 0.01,\n",
       " 0.01,\n",
       " 0.01,\n",
       " 0.01,\n",
       " 0.01,\n",
       " 0.01,\n",
       " 0.01,\n",
       " 0.01,\n",
       " 0.01,\n",
       " 0.01,\n",
       " 0.01,\n",
       " ...]"
      ]
     },
     "execution_count": 54,
     "metadata": {},
     "output_type": "execute_result"
    }
   ],
   "source": [
    "recombination_rates"
   ]
  },
  {
   "cell_type": "code",
   "execution_count": 33,
   "metadata": {
    "collapsed": true
   },
   "outputs": [],
   "source": [
    "for rep, sample_list in sample_library.items():\n",
    "    small_data['allele/frequency/replicate/' + str(rep)] = small.gather_allele_frequencies(sample_list[0], astates)\n",
    "    operators.calculate_g(sample_list[0], ae_array)\n",
    "    operators.calculate_error_variance(sample_list[0], 0.7)\n",
    "    operators.calculate_p(sample_list[0])\n",
    "    small_data['trait/g/replicate/' + str(rep)] = np.array([sample_list[0].indInfo('ind_id'), \n",
    "                                                            sample_list[0].indInfo('g')]).T\n",
    "    small_data['trait/p/replicate/' + str(rep)] = np.array([sample_list[0].indInfo('ind_id'),\n",
    "                                                          sample_list[0].indInfo('p')]).T\n",
    "    "
   ]
  },
  {
   "cell_type": "code",
   "execution_count": 34,
   "metadata": {
    "collapsed": true
   },
   "outputs": [],
   "source": [
    "small_data['trait'].attrs['heritability'] = np.array([0.7])"
   ]
  },
  {
   "cell_type": "markdown",
   "metadata": {},
   "source": [
    "# Correcting the Config File"
   ]
  },
  {
   "cell_type": "code",
   "execution_count": 35,
   "metadata": {
    "collapsed": true
   },
   "outputs": [],
   "source": [
    "minor_alleles = np.array(small_data['allele/states'])[:, 3]"
   ]
  },
  {
   "cell_type": "code",
   "execution_count": 36,
   "metadata": {
    "collapsed": true
   },
   "outputs": [],
   "source": [
    "name = 'small_0'"
   ]
  },
  {
   "cell_type": "code",
   "execution_count": 37,
   "metadata": {
    "collapsed": true
   },
   "outputs": [],
   "source": [
    "from os import path"
   ]
  },
  {
   "cell_type": "code",
   "execution_count": 38,
   "metadata": {
    "collapsed": true
   },
   "outputs": [],
   "source": [
    "indir = '/home/vakanas/tassel-5-standalone/input'\n",
    "outdir = '/home/vakanas/tassel-5-standalone/output'"
   ]
  },
  {
   "cell_type": "code",
   "execution_count": 39,
   "metadata": {
    "collapsed": true
   },
   "outputs": [],
   "source": [
    "for rep, sample_list in sample_library.items():\n",
    "    name = small.run_id + '_' + str(rep)\n",
    "    minor_allele_fs = np.array(small_data['allele/frequency/replicate/' + str(rep)])[segregating_loci, 3]\n",
    "    gwas = analyze.GWAS(sample_list[0], segregating_loci, minor_alleles, 'small')\n",
    "    cm = gwas.calculate_count_matrix(count_matrix_file_name=path.join(indir, name+'_count_matrix.txt'))\n",
    "    ps, svd = gwas.pop_struct_eigendecomp(cm)\n",
    "    gwas.population_structure_formatter(ps, svd, number_of_pcs=2, \n",
    "                                        pop_struct_file_name=path.join(indir, name+'_structure_matrix.txt'))\n",
    "    gwas.trait_formatter(trait_file_name=path.join(indir, name+'_phenotype_vector.txt'))\n",
    "    gwas.calc_kinship_matrix(cm, minor_allele_fs, kinship_matrix_file_name=path.join(indir, name+'_kinship_matrix.txt'))\n",
    "    gwas.hapmap_formatter(hapmap_file_name=path.join(indir, name+'_simulated_hapmap.txt'))\n",
    "    gwas.single_gen_multi_rep_tassel_config(rep, 'gwas_pipeline.xml', output_prefix=name+'_out_')"
   ]
  },
  {
   "cell_type": "markdown",
   "metadata": {},
   "source": [
    "# Run TASSEL at This Point"
   ]
  },
  {
   "cell_type": "markdown",
   "metadata": {},
   "source": [
    "Contents of bash script to automate TASSEL via configuration files."
   ]
  },
  {
   "cell_type": "markdown",
   "metadata": {},
   "source": [
    "### simulated_mlm.sh"
   ]
  },
  {
   "cell_type": "markdown",
   "metadata": {},
   "source": [
    "```bash\n",
    "#!/bin/bash\n",
    "\n",
    "\n",
    "echo \"Run ID: $1, Number of Replicates $2\"\n",
    "run_id=$1\n",
    "number_of_replicates=$2\n",
    "final_rep_index=\"$((number_of_replicates - 1))\"\n",
    "\n",
    "echo \"Beginning TASSEL analysis of Run ID: $run_id\"\n",
    "echo \"Number of Replicates: $number_of_replicates\"\n",
    "echo \"First configuration file: small_0_gwas_pipeline.xml\"onca\n",
    "echo \"Final configuration file: small_\"$final_rep_index\"_gwas_pipeline.xml\"\n",
    "\n",
    "for i in `seq 0 $final_rep_index`\n",
    "do\n",
    "    config_file_name=$run_id$i\"_gwas_pipeline.xml\"\n",
    "    echo \"$config_file_name\"\n",
    "    ./run_pipeline.pl -Xmx6g -configFile $config_file_name\n",
    "done\n",
    "\n",
    "\n",
    "```"
   ]
  },
  {
   "cell_type": "markdown",
   "metadata": {},
   "source": [
    "### Example output: \n",
    "+ small_0_out_1.txt\n",
    "+ small_0_out_2.txt\n",
    "+ small_0_out_3.txt\n",
    "+ small_1_out_1.txt\n",
    "+ ...\n",
    "+ small_9_out_3.txt"
   ]
  },
  {
   "cell_type": "markdown",
   "metadata": {},
   "source": [
    "# Use R Qvalue package to get Qvalues"
   ]
  },
  {
   "cell_type": "markdown",
   "metadata": {},
   "source": [
    "Contents of R script to obtain qvalues for p column of TASSEL results"
   ]
  },
  {
   "cell_type": "markdown",
   "metadata": {},
   "source": [
    "```R\n",
    "#!/usr/bin/env Rscript\n",
    "\n",
    "library(qvalue)\n",
    "library(ggplot2)\n",
    "library(gap)\n",
    "\n",
    "args = commandArgs(trailingOnly=TRUE)\n",
    "\n",
    "# test to determine if the file name parameter is supplied to the script\n",
    "if (length(args)==0) {\n",
    "  stop(\"At least one argument must be suppled (input file).\\n\", call.=FALSE)\n",
    "}\n",
    "#setwd(\"/home/vakanas/tassel-5-standalone/output\")  \n",
    "\n",
    "run_id = args[1]\n",
    "file_name_match_pattern = paste(run_id, \"(.*)_2.txt\", sep='')\n",
    "file_names = list.files(pattern = file_name_match_pattern)\n",
    "\n",
    "for(n in file_names) {\n",
    "    print(n)\n",
    "    input_file_name = n\n",
    "    run_id_prefix_terminus = nchar(input_file_name) - 5\n",
    "    run_id_prefix = substring(input_file_name, 1, run_id_prefix_terminus)\n",
    "    output_file_name = paste(run_id_prefix, 'q_values.txt', sep='')\n",
    "    print(output_file_name)\n",
    "    results_header = scan(input_file_name, what=\"character\", nlines=1, sep=\"\\t\")\n",
    "    gwas_results = read.table(input_file_name, header=F, row.names = NULL, skip=2)\n",
    "    colnames(gwas_results) = results_header\n",
    "    pvalues = gwas_results$p\n",
    "    qobj = qvalue(p = pvalues)\n",
    "    qvalues = data.frame(qobj$qvalues)\n",
    "    colnames(qvalues) = \"q\"\n",
    "    rownames(qvalues) = gwas_results$Marker\n",
    "    write.table(qvalues, output_file_name, sep=\"\\t\")\n",
    "}\n",
    "\n",
    "```"
   ]
  },
  {
   "cell_type": "markdown",
   "metadata": {},
   "source": [
    "# Analysis of TASSEL Results: Comutation of Power & FPR"
   ]
  },
  {
   "cell_type": "markdown",
   "metadata": {},
   "source": [
    "## Subsetting Raw TASSEL Results and Data Storage\n",
    "    Each replicate has an associated set of TASSEL output files. The raw\n",
    "    results are modified and stored in the run's HDF5 file"
   ]
  },
  {
   "cell_type": "markdown",
   "metadata": {},
   "source": [
    "## Statistical Power and False Positive Rate"
   ]
  },
  {
   "cell_type": "code",
   "execution_count": 213,
   "metadata": {},
   "outputs": [],
   "source": [
    "power_and_fprs = np.zeros((10, 3))\n",
    "for i in range(10):\n",
    "    tassel_results = pd.read_csv('/home/vakanas/tassel-5-standalone/small_'+str(i)+'_out_2.txt', \n",
    "                             sep='\\t', \n",
    "                             skiprows=[1], \n",
    "                             index_col='Marker')\n",
    "    tassel_results.drop(labels=['Trait', 'Pos', 'dom_effect', \n",
    "                            'dom_F', 'dom_p', 'Genetic Var',\n",
    "                            'Residual Var', '-2LnLikelihood', \n",
    "                            'add_effect', 'add_F', 'add_p', 'errordf', 'MarkerR2'], \n",
    "                        axis=1, inplace=True)\n",
    "    qvalues = pd.read_csv('/home/vakanas/tassel-5-standalone/small_'+str(i)+'_out_q_values.txt', \n",
    "                          sep='\\t', index_col=0)\n",
    "    truncated_plus_q = tassel_results.join(qvalues)\n",
    "    small_data['tassel/test/replicate/'+str(i)] = np.array(truncated_plus_q)\n",
    "    power = len(qvalues.ix[qvalues['q'] < 0.05])/len(qtl)\n",
    "    false_positive_rate = sum(allele_effects[np.array(qvalues.ix[qvalues['q'] < 0.05].index)][1] == 0)\n",
    "    power_and_fprs[i, 0] = i\n",
    "    power_and_fprs[i, 1] = power\n",
    "    power_and_fprs[i, 2] = false_positive_rate"
   ]
  },
  {
   "cell_type": "code",
   "execution_count": 222,
   "metadata": {},
   "outputs": [
    {
     "data": {
      "text/plain": [
       "0.215"
      ]
     },
     "execution_count": 222,
     "metadata": {},
     "output_type": "execute_result"
    }
   ],
   "source": [
    "power_and_fprs[:, 1].mean()"
   ]
  },
  {
   "cell_type": "code",
   "execution_count": 223,
   "metadata": {},
   "outputs": [
    {
     "data": {
      "text/plain": [
       "0.59999999999999998"
      ]
     },
     "execution_count": 223,
     "metadata": {},
     "output_type": "execute_result"
    }
   ],
   "source": [
    "power_and_fprs[:, 2].mean()"
   ]
  },
  {
   "cell_type": "code",
   "execution_count": 224,
   "metadata": {},
   "outputs": [
    {
     "data": {
      "text/plain": [
       "0.0015249999999999999"
      ]
     },
     "execution_count": 224,
     "metadata": {},
     "output_type": "execute_result"
    }
   ],
   "source": [
    "np.var(power_and_fprs[:, 1])"
   ]
  },
  {
   "cell_type": "markdown",
   "metadata": {},
   "source": [
    "## Allele Effects: Estimated vs. Actual\n",
    "    Purpose of this table to compare TASSEL's effect size estimates\n",
    "    with the known true values we assigned."
   ]
  },
  {
   "cell_type": "code",
   "execution_count": 383,
   "metadata": {},
   "outputs": [],
   "source": [
    "raw_effect_estimates = pd.read_csv('/home/vakanas/tassel-5-standalone/small_0_out_3.txt', \n",
    "                                   sep='\\t')"
   ]
  },
  {
   "cell_type": "code",
   "execution_count": 362,
   "metadata": {},
   "outputs": [],
   "source": [
    "#raw_effect_estimates.drop(labels=['Trait', 'Locus', 'Site', 'Obs'], axis=1, inplace=True)"
   ]
  },
  {
   "cell_type": "code",
   "execution_count": 395,
   "metadata": {
    "collapsed": true
   },
   "outputs": [],
   "source": [
    "grouped = raw_effect_estimates.groupby('Marker')"
   ]
  },
  {
   "cell_type": "code",
   "execution_count": 412,
   "metadata": {},
   "outputs": [],
   "source": [
    "mapping_of_frames = dict(list(grouped))"
   ]
  },
  {
   "cell_type": "code",
   "execution_count": 455,
   "metadata": {},
   "outputs": [
    {
     "name": "stdout",
     "output_type": "stream",
     "text": [
      "A AA 0 0 0.48413999999999996 0.18744407135\n",
      "G GG 2 2 0.9191600000000001 0.7631182083\n",
      "R AG 0 2 0.0 0.475281139825\n"
     ]
    }
   ],
   "source": [
    "for allele in mapping_of_frames[13].Allele:\n",
    "    print(allele,\n",
    "         iupac_genotype_codes[allele],\n",
    "         snp_to_int[iupac_genotype_codes[allele][0]],\n",
    "         snp_to_int[iupac_genotype_codes[allele][1]],\n",
    "         float(mapping_of_frames[13].ix[mapping_of_frames[13].ix[:, 'Allele'] == allele].Effect),\n",
    "         ae_array[13, snp_to_int[iupac_genotype_codes[allele][0]]] +\n",
    "         ae_array[13, snp_to_int[iupac_genotype_codes[allele][1]]]\n",
    "         )"
   ]
  },
  {
   "cell_type": "code",
   "execution_count": 534,
   "metadata": {
    "collapsed": true
   },
   "outputs": [],
   "source": [
    "table_columns = [\n",
    "    'Marker',\n",
    "    'G1',\n",
    "    'P(G1)',\n",
    "    'e[G1]*',\n",
    "    'e[G1]',\n",
    "    '|e[G1]* - e[G1]|',\n",
    "    'G2',\n",
    "    'P(G2)',\n",
    "    'e[G2]*',\n",
    "    'e[G2]',\n",
    "    '|e[G2]* - e[G2]|',\n",
    "    'G3',\n",
    "    'P(G3)',\n",
    "    'e[G3]*',\n",
    "    'e[G3]',\n",
    "    '|e[G3]* - e[G3]|'\n",
    "]"
   ]
  },
  {
   "cell_type": "code",
   "execution_count": 535,
   "metadata": {},
   "outputs": [],
   "source": [
    "genotypic_effects = pd.DataFrame(np.zeros((943, len(table_columns))), index=segregating_loci, columns=table_columns)"
   ]
  },
  {
   "cell_type": "code",
   "execution_count": 538,
   "metadata": {
    "collapsed": true
   },
   "outputs": [],
   "source": [
    "genotypic_effects.Marker = segregating_loci"
   ]
  },
  {
   "cell_type": "code",
   "execution_count": 536,
   "metadata": {},
   "outputs": [],
   "source": [
    "for locus in qtl:\n",
    "    for idx, allele in enumerate(mapping_of_frames[locus].Allele):\n",
    "        current_genotype = 'G'+str(idx+1)\n",
    "        estimated_genotypic_effect_key = 'e[G'+str(idx+1)+']*'\n",
    "        estimated_effect =  float(mapping_of_frames[locus].ix[mapping_of_frames[locus].ix[:, 'Allele'] == allele].Effect)\n",
    "        true_genotypic_effect_key = 'e[G'+str(idx+1)+']'\n",
    "        true_genotypic_effect = ae_array[locus, snp_to_int[iupac_genotype_codes[allele][0]]] + ae_array[locus, snp_to_int[iupac_genotype_codes[allele][1]]]\n",
    "        genotypic_effects.ix[locus, current_genotype] = iupac_genotype_codes[allele]\n",
    "        genotypic_effects.ix[locus, estimated_genotypic_effect_key] = estimated_effect\n",
    "        genotypic_effects.ix[locus, true_genotypic_effect_key] = true_genotypic_effect\n",
    "        frq_genotype_key = 'P(G'+str(idx+1)+')'\n",
    "        frq_genotype = sample.dvars().genoFreq[locus][snp_to_int[iupac_genotype_codes[allele][0]], \n",
    "                                                      snp_to_int[iupac_genotype_codes[allele][1]]]\n",
    "        genotypic_effects.ix[locus, frq_genotype_key] = frq_genotype\n",
    "        '|e[G1]* - e[G1]|'\n",
    "        abs_difference_key = '|e['+current_genotype+']* - e['+current_genotype+']|'\n",
    "        abs_difference = abs(estimated_effect - true_genotypic_effect)\n",
    "        genotypic_effects.ix[locus, abs_difference_key] = abs_difference"
   ]
  },
  {
   "cell_type": "code",
   "execution_count": 539,
   "metadata": {},
   "outputs": [
    {
     "data": {
      "text/html": [
       "<div>\n",
       "<style>\n",
       "    .dataframe thead tr:only-child th {\n",
       "        text-align: right;\n",
       "    }\n",
       "\n",
       "    .dataframe thead th {\n",
       "        text-align: left;\n",
       "    }\n",
       "\n",
       "    .dataframe tbody tr th {\n",
       "        vertical-align: top;\n",
       "    }\n",
       "</style>\n",
       "<table border=\"1\" class=\"dataframe\">\n",
       "  <thead>\n",
       "    <tr style=\"text-align: right;\">\n",
       "      <th></th>\n",
       "      <th>Marker</th>\n",
       "      <th>G1</th>\n",
       "      <th>P(G1)</th>\n",
       "      <th>e[G1]*</th>\n",
       "      <th>e[G1]</th>\n",
       "      <th>|e[G1]* - e[G1]|</th>\n",
       "      <th>G2</th>\n",
       "      <th>P(G2)</th>\n",
       "      <th>e[G2]*</th>\n",
       "      <th>e[G2]</th>\n",
       "      <th>|e[G2]* - e[G2]|</th>\n",
       "      <th>G3</th>\n",
       "      <th>P(G3)</th>\n",
       "      <th>e[G3]*</th>\n",
       "      <th>e[G3]</th>\n",
       "      <th>|e[G3]* - e[G3]|</th>\n",
       "    </tr>\n",
       "  </thead>\n",
       "  <tbody>\n",
       "    <tr>\n",
       "      <th>13</th>\n",
       "      <td>13</td>\n",
       "      <td>AA</td>\n",
       "      <td>0.01000000</td>\n",
       "      <td>0.48414000</td>\n",
       "      <td>0.18744407</td>\n",
       "      <td>0.29669593</td>\n",
       "      <td>GG</td>\n",
       "      <td>0.80800000</td>\n",
       "      <td>0.91916000</td>\n",
       "      <td>0.76311821</td>\n",
       "      <td>0.15604179</td>\n",
       "      <td>AG</td>\n",
       "      <td>0.08200000</td>\n",
       "      <td>0.00000000</td>\n",
       "      <td>0.47528114</td>\n",
       "      <td>0.47528114</td>\n",
       "    </tr>\n",
       "    <tr>\n",
       "      <th>27</th>\n",
       "      <td>27</td>\n",
       "      <td>AA</td>\n",
       "      <td>0.85000000</td>\n",
       "      <td>-0.58152000</td>\n",
       "      <td>0.05457335</td>\n",
       "      <td>0.63609335</td>\n",
       "      <td>CC</td>\n",
       "      <td>0.00800000</td>\n",
       "      <td>-0.19921000</td>\n",
       "      <td>0.17904314</td>\n",
       "      <td>0.37825314</td>\n",
       "      <td>AC</td>\n",
       "      <td>0.06200000</td>\n",
       "      <td>0.00000000</td>\n",
       "      <td>0.11680825</td>\n",
       "      <td>0.11680825</td>\n",
       "    </tr>\n",
       "    <tr>\n",
       "      <th>198</th>\n",
       "      <td>198</td>\n",
       "      <td>CC</td>\n",
       "      <td>0.79400000</td>\n",
       "      <td>0.65672000</td>\n",
       "      <td>2.30235895</td>\n",
       "      <td>1.64563895</td>\n",
       "      <td>TT</td>\n",
       "      <td>0.01400000</td>\n",
       "      <td>-2.71790000</td>\n",
       "      <td>1.91281887</td>\n",
       "      <td>4.63071887</td>\n",
       "      <td>CT</td>\n",
       "      <td>0.09400000</td>\n",
       "      <td>0.00000000</td>\n",
       "      <td>2.10758891</td>\n",
       "      <td>2.10758891</td>\n",
       "    </tr>\n",
       "    <tr>\n",
       "      <th>278</th>\n",
       "      <td>278</td>\n",
       "      <td>AA</td>\n",
       "      <td>0.89600000</td>\n",
       "      <td>0.79567000</td>\n",
       "      <td>0.76805141</td>\n",
       "      <td>0.02761859</td>\n",
       "      <td>TT</td>\n",
       "      <td>0.00400000</td>\n",
       "      <td>-4.15710000</td>\n",
       "      <td>0.11820734</td>\n",
       "      <td>4.27530734</td>\n",
       "      <td>AT</td>\n",
       "      <td>0.04800000</td>\n",
       "      <td>0.00000000</td>\n",
       "      <td>0.44312937</td>\n",
       "      <td>0.44312937</td>\n",
       "    </tr>\n",
       "    <tr>\n",
       "      <th>363</th>\n",
       "      <td>363</td>\n",
       "      <td>CC</td>\n",
       "      <td>0.11200000</td>\n",
       "      <td>-2.82820000</td>\n",
       "      <td>0.93035723</td>\n",
       "      <td>3.75855723</td>\n",
       "      <td>GG</td>\n",
       "      <td>0.41800000</td>\n",
       "      <td>0.69624000</td>\n",
       "      <td>4.21261343</td>\n",
       "      <td>3.51637343</td>\n",
       "      <td>CG</td>\n",
       "      <td>0.25400000</td>\n",
       "      <td>0.00000000</td>\n",
       "      <td>2.57148533</td>\n",
       "      <td>2.57148533</td>\n",
       "    </tr>\n",
       "    <tr>\n",
       "      <th>436</th>\n",
       "      <td>436</td>\n",
       "      <td>AA</td>\n",
       "      <td>0.04600000</td>\n",
       "      <td>0.62447000</td>\n",
       "      <td>1.89044825</td>\n",
       "      <td>1.26597825</td>\n",
       "      <td>GG</td>\n",
       "      <td>0.57800000</td>\n",
       "      <td>1.34126000</td>\n",
       "      <td>2.21149876</td>\n",
       "      <td>0.87023876</td>\n",
       "      <td>AG</td>\n",
       "      <td>0.17600000</td>\n",
       "      <td>0.00000000</td>\n",
       "      <td>2.05097350</td>\n",
       "      <td>2.05097350</td>\n",
       "    </tr>\n",
       "    <tr>\n",
       "      <th>441</th>\n",
       "      <td>441</td>\n",
       "      <td>CC</td>\n",
       "      <td>0.72800000</td>\n",
       "      <td>-0.09090100</td>\n",
       "      <td>1.23518170</td>\n",
       "      <td>1.32608270</td>\n",
       "      <td>GG</td>\n",
       "      <td>0.01400000</td>\n",
       "      <td>-1.17180000</td>\n",
       "      <td>1.28070454</td>\n",
       "      <td>2.45250454</td>\n",
       "      <td>CG</td>\n",
       "      <td>0.12600000</td>\n",
       "      <td>0.00000000</td>\n",
       "      <td>1.25794312</td>\n",
       "      <td>1.25794312</td>\n",
       "    </tr>\n",
       "    <tr>\n",
       "      <th>550</th>\n",
       "      <td>550</td>\n",
       "      <td>CC</td>\n",
       "      <td>0.26600000</td>\n",
       "      <td>0.53248000</td>\n",
       "      <td>2.33540875</td>\n",
       "      <td>1.80292875</td>\n",
       "      <td>TT</td>\n",
       "      <td>0.26000000</td>\n",
       "      <td>-0.31965000</td>\n",
       "      <td>1.93832716</td>\n",
       "      <td>2.25797716</td>\n",
       "      <td>CT</td>\n",
       "      <td>0.24200000</td>\n",
       "      <td>0.00000000</td>\n",
       "      <td>2.13686795</td>\n",
       "      <td>2.13686795</td>\n",
       "    </tr>\n",
       "    <tr>\n",
       "      <th>604</th>\n",
       "      <td>604</td>\n",
       "      <td>AA</td>\n",
       "      <td>0.06800000</td>\n",
       "      <td>-1.95320000</td>\n",
       "      <td>0.70997998</td>\n",
       "      <td>2.66317998</td>\n",
       "      <td>TT</td>\n",
       "      <td>0.58200000</td>\n",
       "      <td>3.10303000</td>\n",
       "      <td>5.63435513</td>\n",
       "      <td>2.53132513</td>\n",
       "      <td>AT</td>\n",
       "      <td>0.16400000</td>\n",
       "      <td>0.00000000</td>\n",
       "      <td>3.17216756</td>\n",
       "      <td>3.17216756</td>\n",
       "    </tr>\n",
       "    <tr>\n",
       "      <th>735</th>\n",
       "      <td>735</td>\n",
       "      <td>CC</td>\n",
       "      <td>0.62200000</td>\n",
       "      <td>-2.15070000</td>\n",
       "      <td>0.97583248</td>\n",
       "      <td>3.12653248</td>\n",
       "      <td>TT</td>\n",
       "      <td>0.04200000</td>\n",
       "      <td>3.24422000</td>\n",
       "      <td>6.23761538</td>\n",
       "      <td>2.99339538</td>\n",
       "      <td>CT</td>\n",
       "      <td>0.18200000</td>\n",
       "      <td>0.00000000</td>\n",
       "      <td>3.60672393</td>\n",
       "      <td>3.60672393</td>\n",
       "    </tr>\n",
       "    <tr>\n",
       "      <th>853</th>\n",
       "      <td>853</td>\n",
       "      <td>AA</td>\n",
       "      <td>0.59000000</td>\n",
       "      <td>-0.35810000</td>\n",
       "      <td>0.09256279</td>\n",
       "      <td>0.45066279</td>\n",
       "      <td>GG</td>\n",
       "      <td>0.06000000</td>\n",
       "      <td>0.82158000</td>\n",
       "      <td>1.62251119</td>\n",
       "      <td>0.80093119</td>\n",
       "      <td>AG</td>\n",
       "      <td>0.20600000</td>\n",
       "      <td>0.00000000</td>\n",
       "      <td>0.85753699</td>\n",
       "      <td>0.85753699</td>\n",
       "    </tr>\n",
       "    <tr>\n",
       "      <th>1035</th>\n",
       "      <td>1035</td>\n",
       "      <td>CC</td>\n",
       "      <td>0.01400000</td>\n",
       "      <td>2.40202000</td>\n",
       "      <td>0.67909597</td>\n",
       "      <td>1.72292403</td>\n",
       "      <td>TT</td>\n",
       "      <td>0.77600000</td>\n",
       "      <td>1.28624000</td>\n",
       "      <td>1.65283133</td>\n",
       "      <td>0.36659133</td>\n",
       "      <td>CT</td>\n",
       "      <td>0.10600000</td>\n",
       "      <td>0.00000000</td>\n",
       "      <td>1.16596365</td>\n",
       "      <td>1.16596365</td>\n",
       "    </tr>\n",
       "    <tr>\n",
       "      <th>1041</th>\n",
       "      <td>1041</td>\n",
       "      <td>AA</td>\n",
       "      <td>0.01600000</td>\n",
       "      <td>4.44004000</td>\n",
       "      <td>2.71199275</td>\n",
       "      <td>1.72804725</td>\n",
       "      <td>TT</td>\n",
       "      <td>0.77200000</td>\n",
       "      <td>-1.27160000</td>\n",
       "      <td>1.34804170</td>\n",
       "      <td>2.61964170</td>\n",
       "      <td>AT</td>\n",
       "      <td>0.12000000</td>\n",
       "      <td>0.00000000</td>\n",
       "      <td>2.03001722</td>\n",
       "      <td>2.03001722</td>\n",
       "    </tr>\n",
       "    <tr>\n",
       "      <th>1189</th>\n",
       "      <td>1189</td>\n",
       "      <td>AA</td>\n",
       "      <td>0.15200000</td>\n",
       "      <td>-2.13020000</td>\n",
       "      <td>0.32781721</td>\n",
       "      <td>2.45801721</td>\n",
       "      <td>GG</td>\n",
       "      <td>0.41600000</td>\n",
       "      <td>2.96222000</td>\n",
       "      <td>4.44392493</td>\n",
       "      <td>1.48170493</td>\n",
       "      <td>AG</td>\n",
       "      <td>0.19200000</td>\n",
       "      <td>0.00000000</td>\n",
       "      <td>2.38587107</td>\n",
       "      <td>2.38587107</td>\n",
       "    </tr>\n",
       "    <tr>\n",
       "      <th>1193</th>\n",
       "      <td>1193</td>\n",
       "      <td>CC</td>\n",
       "      <td>0.60200000</td>\n",
       "      <td>0.57256000</td>\n",
       "      <td>0.33261759</td>\n",
       "      <td>0.23994241</td>\n",
       "      <td>GG</td>\n",
       "      <td>0.03200000</td>\n",
       "      <td>0.73311000</td>\n",
       "      <td>0.07305146</td>\n",
       "      <td>0.66005854</td>\n",
       "      <td>CG</td>\n",
       "      <td>0.20600000</td>\n",
       "      <td>0.00000000</td>\n",
       "      <td>0.20283453</td>\n",
       "      <td>0.20283453</td>\n",
       "    </tr>\n",
       "    <tr>\n",
       "      <th>1197</th>\n",
       "      <td>1197</td>\n",
       "      <td>AA</td>\n",
       "      <td>0.01600000</td>\n",
       "      <td>-0.73454000</td>\n",
       "      <td>1.80893351</td>\n",
       "      <td>2.54347351</td>\n",
       "      <td>CC</td>\n",
       "      <td>0.78600000</td>\n",
       "      <td>0.51849000</td>\n",
       "      <td>1.47848399</td>\n",
       "      <td>0.95999399</td>\n",
       "      <td>AC</td>\n",
       "      <td>0.10800000</td>\n",
       "      <td>0.00000000</td>\n",
       "      <td>1.64370875</td>\n",
       "      <td>1.64370875</td>\n",
       "    </tr>\n",
       "    <tr>\n",
       "      <th>1198</th>\n",
       "      <td>1198</td>\n",
       "      <td>CC</td>\n",
       "      <td>0.00400000</td>\n",
       "      <td>0.86573000</td>\n",
       "      <td>1.69412850</td>\n",
       "      <td>0.82839850</td>\n",
       "      <td>TT</td>\n",
       "      <td>0.88200000</td>\n",
       "      <td>0.07444000</td>\n",
       "      <td>3.52624572</td>\n",
       "      <td>3.45180572</td>\n",
       "      <td>CT</td>\n",
       "      <td>0.06200000</td>\n",
       "      <td>0.00000000</td>\n",
       "      <td>2.61018711</td>\n",
       "      <td>2.61018711</td>\n",
       "    </tr>\n",
       "    <tr>\n",
       "      <th>1312</th>\n",
       "      <td>1312</td>\n",
       "      <td>AA</td>\n",
       "      <td>0.01000000</td>\n",
       "      <td>-1.44840000</td>\n",
       "      <td>0.00416312</td>\n",
       "      <td>1.45256312</td>\n",
       "      <td>GG</td>\n",
       "      <td>0.81600000</td>\n",
       "      <td>2.14532000</td>\n",
       "      <td>1.67549442</td>\n",
       "      <td>0.46982558</td>\n",
       "      <td>AG</td>\n",
       "      <td>0.09400000</td>\n",
       "      <td>0.00000000</td>\n",
       "      <td>0.83982877</td>\n",
       "      <td>0.83982877</td>\n",
       "    </tr>\n",
       "    <tr>\n",
       "      <th>1330</th>\n",
       "      <td>1330</td>\n",
       "      <td>CC</td>\n",
       "      <td>0.61800000</td>\n",
       "      <td>2.42812000</td>\n",
       "      <td>5.26750127</td>\n",
       "      <td>2.83938127</td>\n",
       "      <td>TT</td>\n",
       "      <td>0.05000000</td>\n",
       "      <td>-0.41630000</td>\n",
       "      <td>0.69365736</td>\n",
       "      <td>1.10995736</td>\n",
       "      <td>CT</td>\n",
       "      <td>0.17400000</td>\n",
       "      <td>0.00000000</td>\n",
       "      <td>2.98057932</td>\n",
       "      <td>2.98057932</td>\n",
       "    </tr>\n",
       "    <tr>\n",
       "      <th>1432</th>\n",
       "      <td>1432</td>\n",
       "      <td>CC</td>\n",
       "      <td>0.00200000</td>\n",
       "      <td>-1.81070000</td>\n",
       "      <td>0.08108264</td>\n",
       "      <td>1.89178264</td>\n",
       "      <td>GG</td>\n",
       "      <td>0.85800000</td>\n",
       "      <td>0.61864000</td>\n",
       "      <td>1.16737122</td>\n",
       "      <td>0.54873122</td>\n",
       "      <td>CG</td>\n",
       "      <td>0.06400000</td>\n",
       "      <td>0.00000000</td>\n",
       "      <td>0.62422693</td>\n",
       "      <td>0.62422693</td>\n",
       "    </tr>\n",
       "  </tbody>\n",
       "</table>\n",
       "</div>"
      ],
      "text/plain": [
       "      Marker  G1      P(G1)      e[G1]*      e[G1]  |e[G1]* - e[G1]|  G2  \\\n",
       "13        13  AA 0.01000000  0.48414000 0.18744407        0.29669593  GG   \n",
       "27        27  AA 0.85000000 -0.58152000 0.05457335        0.63609335  CC   \n",
       "198      198  CC 0.79400000  0.65672000 2.30235895        1.64563895  TT   \n",
       "278      278  AA 0.89600000  0.79567000 0.76805141        0.02761859  TT   \n",
       "363      363  CC 0.11200000 -2.82820000 0.93035723        3.75855723  GG   \n",
       "436      436  AA 0.04600000  0.62447000 1.89044825        1.26597825  GG   \n",
       "441      441  CC 0.72800000 -0.09090100 1.23518170        1.32608270  GG   \n",
       "550      550  CC 0.26600000  0.53248000 2.33540875        1.80292875  TT   \n",
       "604      604  AA 0.06800000 -1.95320000 0.70997998        2.66317998  TT   \n",
       "735      735  CC 0.62200000 -2.15070000 0.97583248        3.12653248  TT   \n",
       "853      853  AA 0.59000000 -0.35810000 0.09256279        0.45066279  GG   \n",
       "1035    1035  CC 0.01400000  2.40202000 0.67909597        1.72292403  TT   \n",
       "1041    1041  AA 0.01600000  4.44004000 2.71199275        1.72804725  TT   \n",
       "1189    1189  AA 0.15200000 -2.13020000 0.32781721        2.45801721  GG   \n",
       "1193    1193  CC 0.60200000  0.57256000 0.33261759        0.23994241  GG   \n",
       "1197    1197  AA 0.01600000 -0.73454000 1.80893351        2.54347351  CC   \n",
       "1198    1198  CC 0.00400000  0.86573000 1.69412850        0.82839850  TT   \n",
       "1312    1312  AA 0.01000000 -1.44840000 0.00416312        1.45256312  GG   \n",
       "1330    1330  CC 0.61800000  2.42812000 5.26750127        2.83938127  TT   \n",
       "1432    1432  CC 0.00200000 -1.81070000 0.08108264        1.89178264  GG   \n",
       "\n",
       "          P(G2)      e[G2]*      e[G2]  |e[G2]* - e[G2]|  G3      P(G3)  \\\n",
       "13   0.80800000  0.91916000 0.76311821        0.15604179  AG 0.08200000   \n",
       "27   0.00800000 -0.19921000 0.17904314        0.37825314  AC 0.06200000   \n",
       "198  0.01400000 -2.71790000 1.91281887        4.63071887  CT 0.09400000   \n",
       "278  0.00400000 -4.15710000 0.11820734        4.27530734  AT 0.04800000   \n",
       "363  0.41800000  0.69624000 4.21261343        3.51637343  CG 0.25400000   \n",
       "436  0.57800000  1.34126000 2.21149876        0.87023876  AG 0.17600000   \n",
       "441  0.01400000 -1.17180000 1.28070454        2.45250454  CG 0.12600000   \n",
       "550  0.26000000 -0.31965000 1.93832716        2.25797716  CT 0.24200000   \n",
       "604  0.58200000  3.10303000 5.63435513        2.53132513  AT 0.16400000   \n",
       "735  0.04200000  3.24422000 6.23761538        2.99339538  CT 0.18200000   \n",
       "853  0.06000000  0.82158000 1.62251119        0.80093119  AG 0.20600000   \n",
       "1035 0.77600000  1.28624000 1.65283133        0.36659133  CT 0.10600000   \n",
       "1041 0.77200000 -1.27160000 1.34804170        2.61964170  AT 0.12000000   \n",
       "1189 0.41600000  2.96222000 4.44392493        1.48170493  AG 0.19200000   \n",
       "1193 0.03200000  0.73311000 0.07305146        0.66005854  CG 0.20600000   \n",
       "1197 0.78600000  0.51849000 1.47848399        0.95999399  AC 0.10800000   \n",
       "1198 0.88200000  0.07444000 3.52624572        3.45180572  CT 0.06200000   \n",
       "1312 0.81600000  2.14532000 1.67549442        0.46982558  AG 0.09400000   \n",
       "1330 0.05000000 -0.41630000 0.69365736        1.10995736  CT 0.17400000   \n",
       "1432 0.85800000  0.61864000 1.16737122        0.54873122  CG 0.06400000   \n",
       "\n",
       "         e[G3]*      e[G3]  |e[G3]* - e[G3]|  \n",
       "13   0.00000000 0.47528114        0.47528114  \n",
       "27   0.00000000 0.11680825        0.11680825  \n",
       "198  0.00000000 2.10758891        2.10758891  \n",
       "278  0.00000000 0.44312937        0.44312937  \n",
       "363  0.00000000 2.57148533        2.57148533  \n",
       "436  0.00000000 2.05097350        2.05097350  \n",
       "441  0.00000000 1.25794312        1.25794312  \n",
       "550  0.00000000 2.13686795        2.13686795  \n",
       "604  0.00000000 3.17216756        3.17216756  \n",
       "735  0.00000000 3.60672393        3.60672393  \n",
       "853  0.00000000 0.85753699        0.85753699  \n",
       "1035 0.00000000 1.16596365        1.16596365  \n",
       "1041 0.00000000 2.03001722        2.03001722  \n",
       "1189 0.00000000 2.38587107        2.38587107  \n",
       "1193 0.00000000 0.20283453        0.20283453  \n",
       "1197 0.00000000 1.64370875        1.64370875  \n",
       "1198 0.00000000 2.61018711        2.61018711  \n",
       "1312 0.00000000 0.83982877        0.83982877  \n",
       "1330 0.00000000 2.98057932        2.98057932  \n",
       "1432 0.00000000 0.62422693        0.62422693  "
      ]
     },
     "execution_count": 539,
     "metadata": {},
     "output_type": "execute_result"
    }
   ],
   "source": [
    "genotypic_effects.ix[qtl]"
   ]
  },
  {
   "cell_type": "code",
   "execution_count": 542,
   "metadata": {},
   "outputs": [
    {
     "data": {
      "text/plain": [
       "Marker                     13\n",
       "G1                         AA\n",
       "P(G1)              0.01000000\n",
       "e[G1]*             0.48414000\n",
       "e[G1]              0.18744407\n",
       "|e[G1]* - e[G1]|   0.29669593\n",
       "G2                         GG\n",
       "P(G2)              0.80800000\n",
       "e[G2]*             0.91916000\n",
       "e[G2]              0.76311821\n",
       "|e[G2]* - e[G2]|   0.15604179\n",
       "G3                         AG\n",
       "P(G3)              0.08200000\n",
       "e[G3]*             0.00000000\n",
       "e[G3]              0.47528114\n",
       "|e[G3]* - e[G3]|   0.47528114\n",
       "Name: 13, dtype: object"
      ]
     },
     "execution_count": 542,
     "metadata": {},
     "output_type": "execute_result"
    }
   ],
   "source": [
    "genotypic_effects.ix[13]"
   ]
  },
  {
   "cell_type": "code",
   "execution_count": 546,
   "metadata": {},
   "outputs": [
    {
     "data": {
      "text/html": [
       "<div>\n",
       "<style>\n",
       "    .dataframe thead tr:only-child th {\n",
       "        text-align: right;\n",
       "    }\n",
       "\n",
       "    .dataframe thead th {\n",
       "        text-align: left;\n",
       "    }\n",
       "\n",
       "    .dataframe tbody tr th {\n",
       "        vertical-align: top;\n",
       "    }\n",
       "</style>\n",
       "<table border=\"1\" class=\"dataframe\">\n",
       "  <thead>\n",
       "    <tr style=\"text-align: right;\">\n",
       "      <th></th>\n",
       "      <th>Marker</th>\n",
       "      <th>P(G1)</th>\n",
       "      <th>e[G1]*</th>\n",
       "      <th>e[G1]</th>\n",
       "      <th>|e[G1]* - e[G1]|</th>\n",
       "      <th>P(G2)</th>\n",
       "      <th>e[G2]*</th>\n",
       "      <th>e[G2]</th>\n",
       "      <th>|e[G2]* - e[G2]|</th>\n",
       "      <th>P(G3)</th>\n",
       "      <th>e[G3]*</th>\n",
       "      <th>e[G3]</th>\n",
       "      <th>|e[G3]* - e[G3]|</th>\n",
       "    </tr>\n",
       "  </thead>\n",
       "  <tbody>\n",
       "    <tr>\n",
       "      <th>Marker</th>\n",
       "      <td>179175.47761470</td>\n",
       "      <td>-1.08114613</td>\n",
       "      <td>1.20835222</td>\n",
       "      <td>2.54182687</td>\n",
       "      <td>3.23410884</td>\n",
       "      <td>1.51414456</td>\n",
       "      <td>5.91821356</td>\n",
       "      <td>1.96087844</td>\n",
       "      <td>-3.00192257</td>\n",
       "      <td>0.11288886</td>\n",
       "      <td>0.00000000</td>\n",
       "      <td>2.25135265</td>\n",
       "      <td>2.25135265</td>\n",
       "    </tr>\n",
       "    <tr>\n",
       "      <th>P(G1)</th>\n",
       "      <td>-1.08114613</td>\n",
       "      <td>0.00449625</td>\n",
       "      <td>0.00048002</td>\n",
       "      <td>0.00893229</td>\n",
       "      <td>0.00886970</td>\n",
       "      <td>0.00041444</td>\n",
       "      <td>-0.00373704</td>\n",
       "      <td>0.01060402</td>\n",
       "      <td>0.01517941</td>\n",
       "      <td>0.00091092</td>\n",
       "      <td>0.00000000</td>\n",
       "      <td>0.00976816</td>\n",
       "      <td>0.00976816</td>\n",
       "    </tr>\n",
       "    <tr>\n",
       "      <th>e[G1]*</th>\n",
       "      <td>1.20835222</td>\n",
       "      <td>0.00048002</td>\n",
       "      <td>0.06560147</td>\n",
       "      <td>0.02578700</td>\n",
       "      <td>-0.01409196</td>\n",
       "      <td>0.00049333</td>\n",
       "      <td>-0.03509374</td>\n",
       "      <td>-0.03540233</td>\n",
       "      <td>-0.00078978</td>\n",
       "      <td>-0.00056369</td>\n",
       "      <td>0.00000000</td>\n",
       "      <td>-0.00480767</td>\n",
       "      <td>-0.00480767</td>\n",
       "    </tr>\n",
       "    <tr>\n",
       "      <th>e[G1]</th>\n",
       "      <td>2.54182687</td>\n",
       "      <td>0.00893229</td>\n",
       "      <td>0.02578700</td>\n",
       "      <td>0.06381292</td>\n",
       "      <td>0.05057214</td>\n",
       "      <td>0.00908873</td>\n",
       "      <td>-0.00583537</td>\n",
       "      <td>0.04953946</td>\n",
       "      <td>0.05583659</td>\n",
       "      <td>0.00377384</td>\n",
       "      <td>0.00000000</td>\n",
       "      <td>0.05667619</td>\n",
       "      <td>0.05667619</td>\n",
       "    </tr>\n",
       "    <tr>\n",
       "      <th>|e[G1]* - e[G1]|</th>\n",
       "      <td>3.23410884</td>\n",
       "      <td>0.00886970</td>\n",
       "      <td>-0.01409196</td>\n",
       "      <td>0.05057214</td>\n",
       "      <td>0.07732169</td>\n",
       "      <td>0.01471800</td>\n",
       "      <td>0.02993258</td>\n",
       "      <td>0.09607732</td>\n",
       "      <td>0.06793354</td>\n",
       "      <td>0.00529999</td>\n",
       "      <td>0.00000000</td>\n",
       "      <td>0.07332473</td>\n",
       "      <td>0.07332473</td>\n",
       "    </tr>\n",
       "    <tr>\n",
       "      <th>P(G2)</th>\n",
       "      <td>1.51414456</td>\n",
       "      <td>0.00041444</td>\n",
       "      <td>0.00049333</td>\n",
       "      <td>0.00908873</td>\n",
       "      <td>0.01471800</td>\n",
       "      <td>0.00602487</td>\n",
       "      <td>0.00804611</td>\n",
       "      <td>0.01945778</td>\n",
       "      <td>0.01251449</td>\n",
       "      <td>0.00103354</td>\n",
       "      <td>0.00000000</td>\n",
       "      <td>0.01427325</td>\n",
       "      <td>0.01427325</td>\n",
       "    </tr>\n",
       "    <tr>\n",
       "      <th>e[G2]*</th>\n",
       "      <td>5.91821356</td>\n",
       "      <td>-0.00373704</td>\n",
       "      <td>-0.03509374</td>\n",
       "      <td>-0.00583537</td>\n",
       "      <td>0.02993258</td>\n",
       "      <td>0.00804611</td>\n",
       "      <td>0.07227777</td>\n",
       "      <td>0.05958193</td>\n",
       "      <td>-0.00924774</td>\n",
       "      <td>0.00209489</td>\n",
       "      <td>0.00000000</td>\n",
       "      <td>0.02687328</td>\n",
       "      <td>0.02687328</td>\n",
       "    </tr>\n",
       "    <tr>\n",
       "      <th>e[G2]</th>\n",
       "      <td>1.96087844</td>\n",
       "      <td>0.01060402</td>\n",
       "      <td>-0.03540233</td>\n",
       "      <td>0.04953946</td>\n",
       "      <td>0.09607732</td>\n",
       "      <td>0.01945778</td>\n",
       "      <td>0.05958193</td>\n",
       "      <td>0.15636556</td>\n",
       "      <td>0.09868805</td>\n",
       "      <td>0.00695890</td>\n",
       "      <td>0.00000000</td>\n",
       "      <td>0.10295251</td>\n",
       "      <td>0.10295251</td>\n",
       "    </tr>\n",
       "    <tr>\n",
       "      <th>|e[G2]* - e[G2]|</th>\n",
       "      <td>-3.00192257</td>\n",
       "      <td>0.01517941</td>\n",
       "      <td>-0.00078978</td>\n",
       "      <td>0.05583659</td>\n",
       "      <td>0.06793354</td>\n",
       "      <td>0.01251449</td>\n",
       "      <td>-0.00924774</td>\n",
       "      <td>0.09868805</td>\n",
       "      <td>0.10927539</td>\n",
       "      <td>0.00526563</td>\n",
       "      <td>0.00000000</td>\n",
       "      <td>0.07726232</td>\n",
       "      <td>0.07726232</td>\n",
       "    </tr>\n",
       "    <tr>\n",
       "      <th>P(G3)</th>\n",
       "      <td>0.11288886</td>\n",
       "      <td>0.00091092</td>\n",
       "      <td>-0.00056369</td>\n",
       "      <td>0.00377384</td>\n",
       "      <td>0.00529999</td>\n",
       "      <td>0.00103354</td>\n",
       "      <td>0.00209489</td>\n",
       "      <td>0.00695890</td>\n",
       "      <td>0.00526563</td>\n",
       "      <td>0.00047734</td>\n",
       "      <td>0.00000000</td>\n",
       "      <td>0.00536637</td>\n",
       "      <td>0.00536637</td>\n",
       "    </tr>\n",
       "    <tr>\n",
       "      <th>e[G3]*</th>\n",
       "      <td>0.00000000</td>\n",
       "      <td>0.00000000</td>\n",
       "      <td>0.00000000</td>\n",
       "      <td>0.00000000</td>\n",
       "      <td>0.00000000</td>\n",
       "      <td>0.00000000</td>\n",
       "      <td>0.00000000</td>\n",
       "      <td>0.00000000</td>\n",
       "      <td>0.00000000</td>\n",
       "      <td>0.00000000</td>\n",
       "      <td>0.00000000</td>\n",
       "      <td>0.00000000</td>\n",
       "      <td>0.00000000</td>\n",
       "    </tr>\n",
       "    <tr>\n",
       "      <th>e[G3]</th>\n",
       "      <td>2.25135265</td>\n",
       "      <td>0.00976816</td>\n",
       "      <td>-0.00480767</td>\n",
       "      <td>0.05667619</td>\n",
       "      <td>0.07332473</td>\n",
       "      <td>0.01427325</td>\n",
       "      <td>0.02687328</td>\n",
       "      <td>0.10295251</td>\n",
       "      <td>0.07726232</td>\n",
       "      <td>0.00536637</td>\n",
       "      <td>0.00000000</td>\n",
       "      <td>0.07981435</td>\n",
       "      <td>0.07981435</td>\n",
       "    </tr>\n",
       "    <tr>\n",
       "      <th>|e[G3]* - e[G3]|</th>\n",
       "      <td>2.25135265</td>\n",
       "      <td>0.00976816</td>\n",
       "      <td>-0.00480767</td>\n",
       "      <td>0.05667619</td>\n",
       "      <td>0.07332473</td>\n",
       "      <td>0.01427325</td>\n",
       "      <td>0.02687328</td>\n",
       "      <td>0.10295251</td>\n",
       "      <td>0.07726232</td>\n",
       "      <td>0.00536637</td>\n",
       "      <td>0.00000000</td>\n",
       "      <td>0.07981435</td>\n",
       "      <td>0.07981435</td>\n",
       "    </tr>\n",
       "  </tbody>\n",
       "</table>\n",
       "</div>"
      ],
      "text/plain": [
       "                          Marker       P(G1)      e[G1]*       e[G1]  \\\n",
       "Marker           179175.47761470 -1.08114613  1.20835222  2.54182687   \n",
       "P(G1)                -1.08114613  0.00449625  0.00048002  0.00893229   \n",
       "e[G1]*                1.20835222  0.00048002  0.06560147  0.02578700   \n",
       "e[G1]                 2.54182687  0.00893229  0.02578700  0.06381292   \n",
       "|e[G1]* - e[G1]|      3.23410884  0.00886970 -0.01409196  0.05057214   \n",
       "P(G2)                 1.51414456  0.00041444  0.00049333  0.00908873   \n",
       "e[G2]*                5.91821356 -0.00373704 -0.03509374 -0.00583537   \n",
       "e[G2]                 1.96087844  0.01060402 -0.03540233  0.04953946   \n",
       "|e[G2]* - e[G2]|     -3.00192257  0.01517941 -0.00078978  0.05583659   \n",
       "P(G3)                 0.11288886  0.00091092 -0.00056369  0.00377384   \n",
       "e[G3]*                0.00000000  0.00000000  0.00000000  0.00000000   \n",
       "e[G3]                 2.25135265  0.00976816 -0.00480767  0.05667619   \n",
       "|e[G3]* - e[G3]|      2.25135265  0.00976816 -0.00480767  0.05667619   \n",
       "\n",
       "                  |e[G1]* - e[G1]|      P(G2)      e[G2]*       e[G2]  \\\n",
       "Marker                  3.23410884 1.51414456  5.91821356  1.96087844   \n",
       "P(G1)                   0.00886970 0.00041444 -0.00373704  0.01060402   \n",
       "e[G1]*                 -0.01409196 0.00049333 -0.03509374 -0.03540233   \n",
       "e[G1]                   0.05057214 0.00908873 -0.00583537  0.04953946   \n",
       "|e[G1]* - e[G1]|        0.07732169 0.01471800  0.02993258  0.09607732   \n",
       "P(G2)                   0.01471800 0.00602487  0.00804611  0.01945778   \n",
       "e[G2]*                  0.02993258 0.00804611  0.07227777  0.05958193   \n",
       "e[G2]                   0.09607732 0.01945778  0.05958193  0.15636556   \n",
       "|e[G2]* - e[G2]|        0.06793354 0.01251449 -0.00924774  0.09868805   \n",
       "P(G3)                   0.00529999 0.00103354  0.00209489  0.00695890   \n",
       "e[G3]*                  0.00000000 0.00000000  0.00000000  0.00000000   \n",
       "e[G3]                   0.07332473 0.01427325  0.02687328  0.10295251   \n",
       "|e[G3]* - e[G3]|        0.07332473 0.01427325  0.02687328  0.10295251   \n",
       "\n",
       "                  |e[G2]* - e[G2]|       P(G3)     e[G3]*       e[G3]  \\\n",
       "Marker                 -3.00192257  0.11288886 0.00000000  2.25135265   \n",
       "P(G1)                   0.01517941  0.00091092 0.00000000  0.00976816   \n",
       "e[G1]*                 -0.00078978 -0.00056369 0.00000000 -0.00480767   \n",
       "e[G1]                   0.05583659  0.00377384 0.00000000  0.05667619   \n",
       "|e[G1]* - e[G1]|        0.06793354  0.00529999 0.00000000  0.07332473   \n",
       "P(G2)                   0.01251449  0.00103354 0.00000000  0.01427325   \n",
       "e[G2]*                 -0.00924774  0.00209489 0.00000000  0.02687328   \n",
       "e[G2]                   0.09868805  0.00695890 0.00000000  0.10295251   \n",
       "|e[G2]* - e[G2]|        0.10927539  0.00526563 0.00000000  0.07726232   \n",
       "P(G3)                   0.00526563  0.00047734 0.00000000  0.00536637   \n",
       "e[G3]*                  0.00000000  0.00000000 0.00000000  0.00000000   \n",
       "e[G3]                   0.07726232  0.00536637 0.00000000  0.07981435   \n",
       "|e[G3]* - e[G3]|        0.07726232  0.00536637 0.00000000  0.07981435   \n",
       "\n",
       "                  |e[G3]* - e[G3]|  \n",
       "Marker                  2.25135265  \n",
       "P(G1)                   0.00976816  \n",
       "e[G1]*                 -0.00480767  \n",
       "e[G1]                   0.05667619  \n",
       "|e[G1]* - e[G1]|        0.07332473  \n",
       "P(G2)                   0.01427325  \n",
       "e[G2]*                  0.02687328  \n",
       "e[G2]                   0.10295251  \n",
       "|e[G2]* - e[G2]|        0.07726232  \n",
       "P(G3)                   0.00536637  \n",
       "e[G3]*                  0.00000000  \n",
       "e[G3]                   0.07981435  \n",
       "|e[G3]* - e[G3]|        0.07981435  "
      ]
     },
     "execution_count": 546,
     "metadata": {},
     "output_type": "execute_result"
    }
   ],
   "source": [
    "genotypic_effects.cov()"
   ]
  },
  {
   "cell_type": "code",
   "execution_count": 505,
   "metadata": {},
   "outputs": [],
   "source": [
    "sim.stat(sample, genoFreq=list(segregating_loci))"
   ]
  },
  {
   "cell_type": "code",
   "execution_count": 506,
   "metadata": {},
   "outputs": [
    {
     "data": {
      "text/plain": [
       "defdict({(1, 1): 0.004, (1, 3): 0.062, (3, 1): 0.052, (3, 3): 0.882})"
      ]
     },
     "execution_count": 506,
     "metadata": {},
     "output_type": "execute_result"
    }
   ],
   "source": [
    "sample.dvars().genoFreq[1198]"
   ]
  },
  {
   "cell_type": "code",
   "execution_count": null,
   "metadata": {
    "collapsed": true
   },
   "outputs": [],
   "source": []
  },
  {
   "cell_type": "code",
   "execution_count": 450,
   "metadata": {},
   "outputs": [
    {
     "data": {
      "text/html": [
       "<div>\n",
       "<style>\n",
       "    .dataframe thead tr:only-child th {\n",
       "        text-align: right;\n",
       "    }\n",
       "\n",
       "    .dataframe thead th {\n",
       "        text-align: left;\n",
       "    }\n",
       "\n",
       "    .dataframe tbody tr th {\n",
       "        vertical-align: top;\n",
       "    }\n",
       "</style>\n",
       "<table border=\"1\" class=\"dataframe\">\n",
       "  <thead>\n",
       "    <tr style=\"text-align: right;\">\n",
       "      <th></th>\n",
       "      <th>Trait</th>\n",
       "      <th>Marker</th>\n",
       "      <th>Locus</th>\n",
       "      <th>Site</th>\n",
       "      <th>Allele</th>\n",
       "      <th>Effect</th>\n",
       "      <th>Obs</th>\n",
       "    </tr>\n",
       "  </thead>\n",
       "  <tbody>\n",
       "    <tr>\n",
       "      <th>26</th>\n",
       "      <td>sim</td>\n",
       "      <td>13</td>\n",
       "      <td>1</td>\n",
       "      <td>9</td>\n",
       "      <td>A</td>\n",
       "      <td>0.48414000</td>\n",
       "      <td>5</td>\n",
       "    </tr>\n",
       "  </tbody>\n",
       "</table>\n",
       "</div>"
      ],
      "text/plain": [
       "   Trait  Marker  Locus  Site Allele     Effect  Obs\n",
       "26   sim      13      1     9      A 0.48414000    5"
      ]
     },
     "execution_count": 450,
     "metadata": {},
     "output_type": "execute_result"
    }
   ],
   "source": [
    "mapping_of_frames[13].ix[mapping_of_frames[13].ix[:, 'Allele'] == 'A']"
   ]
  },
  {
   "cell_type": "code",
   "execution_count": null,
   "metadata": {
    "collapsed": true
   },
   "outputs": [],
   "source": []
  },
  {
   "cell_type": "code",
   "execution_count": null,
   "metadata": {
    "collapsed": true
   },
   "outputs": [],
   "source": []
  },
  {
   "cell_type": "code",
   "execution_count": null,
   "metadata": {
    "collapsed": true
   },
   "outputs": [],
   "source": []
  },
  {
   "cell_type": "code",
   "execution_count": null,
   "metadata": {
    "collapsed": true
   },
   "outputs": [],
   "source": []
  },
  {
   "cell_type": "code",
   "execution_count": null,
   "metadata": {
    "collapsed": true
   },
   "outputs": [],
   "source": []
  },
  {
   "cell_type": "code",
   "execution_count": null,
   "metadata": {
    "collapsed": true
   },
   "outputs": [],
   "source": []
  },
  {
   "cell_type": "code",
   "execution_count": 385,
   "metadata": {},
   "outputs": [],
   "source": [
    "first_genotype = raw_effect_estimates.ix[::3]"
   ]
  },
  {
   "cell_type": "code",
   "execution_count": 394,
   "metadata": {},
   "outputs": [
    {
     "data": {
      "text/plain": [
       "2806"
      ]
     },
     "execution_count": 394,
     "metadata": {},
     "output_type": "execute_result"
    }
   ],
   "source": [
    "936+935+935"
   ]
  },
  {
   "cell_type": "code",
   "execution_count": 389,
   "metadata": {},
   "outputs": [
    {
     "data": {
      "text/plain": [
       "(936, 7)"
      ]
     },
     "execution_count": 389,
     "metadata": {},
     "output_type": "execute_result"
    }
   ],
   "source": [
    "first_genotype.shape"
   ]
  },
  {
   "cell_type": "code",
   "execution_count": 386,
   "metadata": {
    "collapsed": true
   },
   "outputs": [],
   "source": [
    "second_genotype = raw_effect_estimates.ix[1::3]"
   ]
  },
  {
   "cell_type": "code",
   "execution_count": 388,
   "metadata": {},
   "outputs": [
    {
     "data": {
      "text/plain": [
       "(935, 7)"
      ]
     },
     "execution_count": 388,
     "metadata": {},
     "output_type": "execute_result"
    }
   ],
   "source": [
    "second_genotype.shape"
   ]
  },
  {
   "cell_type": "code",
   "execution_count": 390,
   "metadata": {
    "collapsed": true
   },
   "outputs": [],
   "source": [
    "third_genotype = raw_effect_estimates.ix[2::3]"
   ]
  },
  {
   "cell_type": "code",
   "execution_count": 392,
   "metadata": {},
   "outputs": [
    {
     "data": {
      "text/plain": [
       "(935, 7)"
      ]
     },
     "execution_count": 392,
     "metadata": {},
     "output_type": "execute_result"
    }
   ],
   "source": [
    "third_genotype.shape"
   ]
  },
  {
   "cell_type": "code",
   "execution_count": null,
   "metadata": {
    "collapsed": true
   },
   "outputs": [],
   "source": [
    "flattened_effect_table"
   ]
  },
  {
   "cell_type": "code",
   "execution_count": null,
   "metadata": {
    "collapsed": true
   },
   "outputs": [],
   "source": []
  },
  {
   "cell_type": "code",
   "execution_count": null,
   "metadata": {
    "collapsed": true
   },
   "outputs": [],
   "source": []
  },
  {
   "cell_type": "code",
   "execution_count": null,
   "metadata": {
    "collapsed": true
   },
   "outputs": [],
   "source": []
  },
  {
   "cell_type": "code",
   "execution_count": 314,
   "metadata": {
    "scrolled": true
   },
   "outputs": [],
   "source": [
    "first_homozygo = np.array(raw_effect_estimates)[0::3, 1:]"
   ]
  },
  {
   "cell_type": "code",
   "execution_count": 324,
   "metadata": {},
   "outputs": [],
   "source": [
    "frame_first_homozygo = pd.DataFrame(first_homozygo, index=first_homozygo[:, 0])"
   ]
  },
  {
   "cell_type": "code",
   "execution_count": 328,
   "metadata": {},
   "outputs": [
    {
     "data": {
      "text/plain": [
       "'G'"
      ]
     },
     "execution_count": 328,
     "metadata": {},
     "output_type": "execute_result"
    }
   ],
   "source": [
    "frame_first_homozygo.ix[13, 3]"
   ]
  },
  {
   "cell_type": "code",
   "execution_count": 333,
   "metadata": {},
   "outputs": [
    {
     "data": {
      "text/plain": [
       "0.381559104149788"
      ]
     },
     "execution_count": 333,
     "metadata": {},
     "output_type": "execute_result"
    }
   ],
   "source": [
    "ae_array[13, snp_to_int[iupac_genotype_codes[frame_first_homozygo.ix[13, 3]][0]]]"
   ]
  },
  {
   "cell_type": "code",
   "execution_count": null,
   "metadata": {
    "collapsed": true
   },
   "outputs": [],
   "source": []
  },
  {
   "cell_type": "code",
   "execution_count": 349,
   "metadata": {
    "collapsed": true
   },
   "outputs": [],
   "source": [
    "true_genotypic_effects = np.zeros((1478, 6, 6))"
   ]
  },
  {
   "cell_type": "code",
   "execution_count": 350,
   "metadata": {},
   "outputs": [],
   "source": [
    "true_genotypic_effects[13, 2, 2] = ae_array[13, snp_to_int[iupac_genotype_codes[frame_first_homozygo.ix[13, 3]][0]]]*2"
   ]
  },
  {
   "cell_type": "code",
   "execution_count": 351,
   "metadata": {},
   "outputs": [
    {
     "data": {
      "text/plain": [
       "array([[ 0.   ,  0.   ,  0.   ,  0.   ,  0.   ,  0.   ],\n",
       "       [ 0.   ,  0.   ,  0.   ,  0.   ,  0.   ,  0.   ],\n",
       "       [ 0.   ,  0.   ,  0.763,  0.   ,  0.   ,  0.   ],\n",
       "       [ 0.   ,  0.   ,  0.   ,  0.   ,  0.   ,  0.   ],\n",
       "       [ 0.   ,  0.   ,  0.   ,  0.   ,  0.   ,  0.   ],\n",
       "       [ 0.   ,  0.   ,  0.   ,  0.   ,  0.   ,  0.   ]])"
      ]
     },
     "execution_count": 351,
     "metadata": {},
     "output_type": "execute_result"
    }
   ],
   "source": [
    "true_genotypic_effects[13]"
   ]
  },
  {
   "cell_type": "code",
   "execution_count": 318,
   "metadata": {},
   "outputs": [],
   "source": [
    "second_homozygo = np.array(raw_effect_estimates)[1::3, 1:]"
   ]
  },
  {
   "cell_type": "code",
   "execution_count": 343,
   "metadata": {},
   "outputs": [],
   "source": [
    "frame_second_homozygo = pd.DataFrame(second_homozygo, index=second_homozygo[:, 0])"
   ]
  },
  {
   "cell_type": "code",
   "execution_count": 347,
   "metadata": {},
   "outputs": [],
   "source": [
    "true_genotypic_effects = ae_array[13, snp_to_int[iupac_genotype_codes[frame_second_homozygo.ix[13, 3]][0]]]*2"
   ]
  },
  {
   "cell_type": "code",
   "execution_count": 357,
   "metadata": {},
   "outputs": [
    {
     "data": {
      "text/plain": [
       "'AG'"
      ]
     },
     "execution_count": 357,
     "metadata": {},
     "output_type": "execute_result"
    }
   ],
   "source": [
    "iupac_genotype_codes[frame_second_homozygo.ix[13, 3]]"
   ]
  },
  {
   "cell_type": "code",
   "execution_count": 353,
   "metadata": {},
   "outputs": [
    {
     "ename": "KeyError",
     "evalue": "'AG'",
     "output_type": "error",
     "traceback": [
      "\u001b[0;31m---------------------------------------------------------------------------\u001b[0m",
      "\u001b[0;31mKeyError\u001b[0m                                  Traceback (most recent call last)",
      "\u001b[0;32m<ipython-input-353-0f7f2a58568c>\u001b[0m in \u001b[0;36m<module>\u001b[0;34m()\u001b[0m\n\u001b[0;32m----> 1\u001b[0;31m \u001b[0msnp_to_int\u001b[0m\u001b[0;34m[\u001b[0m\u001b[0miupac_genotype_codes\u001b[0m\u001b[0;34m[\u001b[0m\u001b[0mframe_second_homozygo\u001b[0m\u001b[0;34m.\u001b[0m\u001b[0mix\u001b[0m\u001b[0;34m[\u001b[0m\u001b[0;36m13\u001b[0m\u001b[0;34m,\u001b[0m \u001b[0;36m3\u001b[0m\u001b[0;34m]\u001b[0m\u001b[0;34m]\u001b[0m\u001b[0;34m]\u001b[0m\u001b[0;34m[\u001b[0m\u001b[0;36m0\u001b[0m\u001b[0;34m]\u001b[0m\u001b[0;34m\u001b[0m\u001b[0m\n\u001b[0m",
      "\u001b[0;31mKeyError\u001b[0m: 'AG'"
     ]
    }
   ],
   "source": [
    "snp_to_int[iupac_genotype_codes[frame_second_homozygo.ix[13, 3]]]"
   ]
  },
  {
   "cell_type": "code",
   "execution_count": 348,
   "metadata": {},
   "outputs": [
    {
     "data": {
      "text/plain": [
       "0.1874440713495259"
      ]
     },
     "execution_count": 348,
     "metadata": {},
     "output_type": "execute_result"
    }
   ],
   "source": [
    "true_genotypic_effects[13, ]"
   ]
  },
  {
   "cell_type": "code",
   "execution_count": 319,
   "metadata": {},
   "outputs": [
    {
     "data": {
      "text/plain": [
       "array([[1, 1, 0, 'T', -0.46931999999999996, 16],\n",
       "       [2, 1, 1, 'T', -0.4142, 375],\n",
       "       [3, 1, 2, 'G', -3.0823, 8],\n",
       "       ..., \n",
       "       [1474, 10, 940, 'A', 0.81284, 298],\n",
       "       [1475, 10, 941, 'A', -0.48391999999999996, 32],\n",
       "       [1476, 10, 942, 'A', -3.5997, 12]], dtype=object)"
      ]
     },
     "execution_count": 319,
     "metadata": {},
     "output_type": "execute_result"
    }
   ],
   "source": [
    "second_homozygo"
   ]
  },
  {
   "cell_type": "code",
   "execution_count": 317,
   "metadata": {
    "collapsed": true
   },
   "outputs": [],
   "source": [
    "heterozygo = np.array(raw_effect_estimates)[2::3, 1:]"
   ]
  },
  {
   "cell_type": "code",
   "execution_count": 320,
   "metadata": {},
   "outputs": [
    {
     "data": {
      "text/plain": [
       "array([[1, 1, 0, 'Y', 0.0, 152],\n",
       "       [2, 1, 1, 'Y', 0.0, 117],\n",
       "       [3, 1, 2, 'R', 0.0, 124],\n",
       "       ..., \n",
       "       [1474, 10, 940, 'G', -2.0238, 29],\n",
       "       [1475, 10, 941, 'C', -0.07948999999999999, 258],\n",
       "       [1476, 10, 942, 'T', -0.022318, 379]], dtype=object)"
      ]
     },
     "execution_count": 320,
     "metadata": {},
     "output_type": "execute_result"
    }
   ],
   "source": [
    "heterozygo"
   ]
  },
  {
   "cell_type": "code",
   "execution_count": 255,
   "metadata": {},
   "outputs": [
    {
     "data": {
      "text/plain": [
       "array([['sim', 1, 1, ..., 'Y', 0.0, 152],\n",
       "       ['sim', 2, 1, ..., 'Y', 0.0, 117],\n",
       "       ['sim', 3, 1, ..., 'R', 0.0, 124],\n",
       "       ..., \n",
       "       ['sim', 1474, 10, ..., 'G', -2.0238, 29],\n",
       "       ['sim', 1475, 10, ..., 'C', -0.07948999999999999, 258],\n",
       "       ['sim', 1476, 10, ..., 'T', -0.022318, 379]], dtype=object)"
      ]
     },
     "execution_count": 255,
     "metadata": {},
     "output_type": "execute_result"
    }
   ],
   "source": [
    "heterozygo"
   ]
  },
  {
   "cell_type": "code",
   "execution_count": 257,
   "metadata": {
    "collapsed": true
   },
   "outputs": [],
   "source": [
    "iupac_genotype_codes = {\n",
    "    'A': 'AA',\n",
    "    0: 'A',\n",
    "    'AA': 'A',\n",
    "    1: 'C',\n",
    "    'C': 'CC',\n",
    "    'CC': 'C',\n",
    "    2: 'G',\n",
    "    'G': 'GG',\n",
    "    'GG': 'G',\n",
    "    3: 'T',\n",
    "    'T': 'TT',\n",
    "    'TT': 'T',\n",
    "    'R': 'AG',\n",
    "    'AG': 'R',\n",
    "    'Y': 'CT',\n",
    "    'CT': 'Y',\n",
    "    'S': 'CG',\n",
    "    'CG': 'S',\n",
    "    'W': 'AT',\n",
    "    'AT': 'W',\n",
    "    'K': 'GT',\n",
    "    'GT': 'K',\n",
    "    'M': 'AC',\n",
    "    'AC': 'M',\n",
    "    5: '+',\n",
    "    '+': '++',\n",
    "    '++': '+',\n",
    "    '0': '+-',\n",
    "    '+-': '0',\n",
    "    4: '-',\n",
    "    '-': '--',\n",
    "    '--': '-',\n",
    "}"
   ]
  },
  {
   "cell_type": "code",
   "execution_count": 267,
   "metadata": {},
   "outputs": [],
   "source": [
    "snp_to_int = {\n",
    "    'A': 0,\n",
    "    'C': 1,\n",
    "    'G': 2,\n",
    "    'T': 3,\n",
    "    '-': 4,\n",
    "    '+': 5\n",
    "}"
   ]
  },
  {
   "cell_type": "code",
   "execution_count": null,
   "metadata": {
    "collapsed": true
   },
   "outputs": [],
   "source": []
  },
  {
   "cell_type": "code",
   "execution_count": 265,
   "metadata": {},
   "outputs": [],
   "source": [
    "estimated_effect_sizes = np.zeros((943, 5))"
   ]
  },
  {
   "cell_type": "code",
   "execution_count": 271,
   "metadata": {},
   "outputs": [],
   "source": [
    "alphabetical_genotype = iupac_genotype_codes[first_homozygo[0, 4]]"
   ]
  },
  {
   "cell_type": "code",
   "execution_count": 273,
   "metadata": {},
   "outputs": [
    {
     "data": {
      "text/plain": [
       "1"
      ]
     },
     "execution_count": 273,
     "metadata": {},
     "output_type": "execute_result"
    }
   ],
   "source": [
    "snp_to_int[alphabetical_genotype[0]]"
   ]
  },
  {
   "cell_type": "code",
   "execution_count": 279,
   "metadata": {},
   "outputs": [
    {
     "data": {
      "text/plain": [
       "[13,\n",
       " 27,\n",
       " 198,\n",
       " 278,\n",
       " 363,\n",
       " 436,\n",
       " 441,\n",
       " 550,\n",
       " 604,\n",
       " 735,\n",
       " 853,\n",
       " 1035,\n",
       " 1041,\n",
       " 1189,\n",
       " 1193,\n",
       " 1197,\n",
       " 1198,\n",
       " 1312,\n",
       " 1330,\n",
       " 1432]"
      ]
     },
     "execution_count": 279,
     "metadata": {},
     "output_type": "execute_result"
    }
   ],
   "source": [
    "qtl"
   ]
  },
  {
   "cell_type": "code",
   "execution_count": 282,
   "metadata": {},
   "outputs": [
    {
     "data": {
      "text/html": [
       "<div>\n",
       "<style>\n",
       "    .dataframe thead tr:only-child th {\n",
       "        text-align: right;\n",
       "    }\n",
       "\n",
       "    .dataframe thead th {\n",
       "        text-align: left;\n",
       "    }\n",
       "\n",
       "    .dataframe tbody tr th {\n",
       "        vertical-align: top;\n",
       "    }\n",
       "</style>\n",
       "<table border=\"1\" class=\"dataframe\">\n",
       "  <thead>\n",
       "    <tr style=\"text-align: right;\">\n",
       "      <th></th>\n",
       "      <th>Trait</th>\n",
       "      <th>Marker</th>\n",
       "      <th>Locus</th>\n",
       "      <th>Site</th>\n",
       "      <th>Allele</th>\n",
       "      <th>Effect</th>\n",
       "      <th>Obs</th>\n",
       "    </tr>\n",
       "  </thead>\n",
       "  <tbody>\n",
       "    <tr>\n",
       "      <th>0</th>\n",
       "      <td>sim</td>\n",
       "      <td>1</td>\n",
       "      <td>1</td>\n",
       "      <td>0</td>\n",
       "      <td>C</td>\n",
       "      <td>-0.04411200</td>\n",
       "      <td>332</td>\n",
       "    </tr>\n",
       "    <tr>\n",
       "      <th>1</th>\n",
       "      <td>sim</td>\n",
       "      <td>1</td>\n",
       "      <td>1</td>\n",
       "      <td>0</td>\n",
       "      <td>T</td>\n",
       "      <td>-0.46932000</td>\n",
       "      <td>16</td>\n",
       "    </tr>\n",
       "    <tr>\n",
       "      <th>2</th>\n",
       "      <td>sim</td>\n",
       "      <td>1</td>\n",
       "      <td>1</td>\n",
       "      <td>0</td>\n",
       "      <td>Y</td>\n",
       "      <td>0.00000000</td>\n",
       "      <td>152</td>\n",
       "    </tr>\n",
       "    <tr>\n",
       "      <th>3</th>\n",
       "      <td>sim</td>\n",
       "      <td>2</td>\n",
       "      <td>1</td>\n",
       "      <td>1</td>\n",
       "      <td>C</td>\n",
       "      <td>-0.31837000</td>\n",
       "      <td>8</td>\n",
       "    </tr>\n",
       "    <tr>\n",
       "      <th>4</th>\n",
       "      <td>sim</td>\n",
       "      <td>2</td>\n",
       "      <td>1</td>\n",
       "      <td>1</td>\n",
       "      <td>T</td>\n",
       "      <td>-0.41420000</td>\n",
       "      <td>375</td>\n",
       "    </tr>\n",
       "    <tr>\n",
       "      <th>5</th>\n",
       "      <td>sim</td>\n",
       "      <td>2</td>\n",
       "      <td>1</td>\n",
       "      <td>1</td>\n",
       "      <td>Y</td>\n",
       "      <td>0.00000000</td>\n",
       "      <td>117</td>\n",
       "    </tr>\n",
       "    <tr>\n",
       "      <th>6</th>\n",
       "      <td>sim</td>\n",
       "      <td>3</td>\n",
       "      <td>1</td>\n",
       "      <td>2</td>\n",
       "      <td>A</td>\n",
       "      <td>-0.19867000</td>\n",
       "      <td>368</td>\n",
       "    </tr>\n",
       "    <tr>\n",
       "      <th>7</th>\n",
       "      <td>sim</td>\n",
       "      <td>3</td>\n",
       "      <td>1</td>\n",
       "      <td>2</td>\n",
       "      <td>G</td>\n",
       "      <td>-3.08230000</td>\n",
       "      <td>8</td>\n",
       "    </tr>\n",
       "    <tr>\n",
       "      <th>8</th>\n",
       "      <td>sim</td>\n",
       "      <td>3</td>\n",
       "      <td>1</td>\n",
       "      <td>2</td>\n",
       "      <td>R</td>\n",
       "      <td>0.00000000</td>\n",
       "      <td>124</td>\n",
       "    </tr>\n",
       "    <tr>\n",
       "      <th>9</th>\n",
       "      <td>sim</td>\n",
       "      <td>4</td>\n",
       "      <td>1</td>\n",
       "      <td>3</td>\n",
       "      <td>G</td>\n",
       "      <td>-0.26613000</td>\n",
       "      <td>456</td>\n",
       "    </tr>\n",
       "    <tr>\n",
       "      <th>10</th>\n",
       "      <td>sim</td>\n",
       "      <td>4</td>\n",
       "      <td>1</td>\n",
       "      <td>3</td>\n",
       "      <td>R</td>\n",
       "      <td>0.00000000</td>\n",
       "      <td>44</td>\n",
       "    </tr>\n",
       "    <tr>\n",
       "      <th>11</th>\n",
       "      <td>sim</td>\n",
       "      <td>5</td>\n",
       "      <td>1</td>\n",
       "      <td>4</td>\n",
       "      <td>A</td>\n",
       "      <td>0.47859000</td>\n",
       "      <td>290</td>\n",
       "    </tr>\n",
       "    <tr>\n",
       "      <th>12</th>\n",
       "      <td>sim</td>\n",
       "      <td>5</td>\n",
       "      <td>1</td>\n",
       "      <td>4</td>\n",
       "      <td>G</td>\n",
       "      <td>0.33680000</td>\n",
       "      <td>28</td>\n",
       "    </tr>\n",
       "    <tr>\n",
       "      <th>13</th>\n",
       "      <td>sim</td>\n",
       "      <td>5</td>\n",
       "      <td>1</td>\n",
       "      <td>4</td>\n",
       "      <td>R</td>\n",
       "      <td>0.00000000</td>\n",
       "      <td>182</td>\n",
       "    </tr>\n",
       "    <tr>\n",
       "      <th>14</th>\n",
       "      <td>sim</td>\n",
       "      <td>6</td>\n",
       "      <td>1</td>\n",
       "      <td>5</td>\n",
       "      <td>A</td>\n",
       "      <td>0.40989000</td>\n",
       "      <td>276</td>\n",
       "    </tr>\n",
       "    <tr>\n",
       "      <th>15</th>\n",
       "      <td>sim</td>\n",
       "      <td>6</td>\n",
       "      <td>1</td>\n",
       "      <td>5</td>\n",
       "      <td>G</td>\n",
       "      <td>1.20857000</td>\n",
       "      <td>34</td>\n",
       "    </tr>\n",
       "    <tr>\n",
       "      <th>16</th>\n",
       "      <td>sim</td>\n",
       "      <td>6</td>\n",
       "      <td>1</td>\n",
       "      <td>5</td>\n",
       "      <td>R</td>\n",
       "      <td>0.00000000</td>\n",
       "      <td>190</td>\n",
       "    </tr>\n",
       "    <tr>\n",
       "      <th>17</th>\n",
       "      <td>sim</td>\n",
       "      <td>8</td>\n",
       "      <td>1</td>\n",
       "      <td>6</td>\n",
       "      <td>A</td>\n",
       "      <td>0.50466000</td>\n",
       "      <td>373</td>\n",
       "    </tr>\n",
       "    <tr>\n",
       "      <th>18</th>\n",
       "      <td>sim</td>\n",
       "      <td>8</td>\n",
       "      <td>1</td>\n",
       "      <td>6</td>\n",
       "      <td>G</td>\n",
       "      <td>1.93836000</td>\n",
       "      <td>9</td>\n",
       "    </tr>\n",
       "    <tr>\n",
       "      <th>19</th>\n",
       "      <td>sim</td>\n",
       "      <td>8</td>\n",
       "      <td>1</td>\n",
       "      <td>6</td>\n",
       "      <td>R</td>\n",
       "      <td>0.00000000</td>\n",
       "      <td>118</td>\n",
       "    </tr>\n",
       "    <tr>\n",
       "      <th>20</th>\n",
       "      <td>sim</td>\n",
       "      <td>10</td>\n",
       "      <td>1</td>\n",
       "      <td>7</td>\n",
       "      <td>C</td>\n",
       "      <td>-0.78651000</td>\n",
       "      <td>200</td>\n",
       "    </tr>\n",
       "    <tr>\n",
       "      <th>21</th>\n",
       "      <td>sim</td>\n",
       "      <td>10</td>\n",
       "      <td>1</td>\n",
       "      <td>7</td>\n",
       "      <td>T</td>\n",
       "      <td>-1.81860000</td>\n",
       "      <td>62</td>\n",
       "    </tr>\n",
       "    <tr>\n",
       "      <th>22</th>\n",
       "      <td>sim</td>\n",
       "      <td>10</td>\n",
       "      <td>1</td>\n",
       "      <td>7</td>\n",
       "      <td>Y</td>\n",
       "      <td>0.00000000</td>\n",
       "      <td>238</td>\n",
       "    </tr>\n",
       "    <tr>\n",
       "      <th>23</th>\n",
       "      <td>sim</td>\n",
       "      <td>12</td>\n",
       "      <td>1</td>\n",
       "      <td>8</td>\n",
       "      <td>C</td>\n",
       "      <td>-1.31180000</td>\n",
       "      <td>52</td>\n",
       "    </tr>\n",
       "    <tr>\n",
       "      <th>24</th>\n",
       "      <td>sim</td>\n",
       "      <td>12</td>\n",
       "      <td>1</td>\n",
       "      <td>8</td>\n",
       "      <td>T</td>\n",
       "      <td>-0.51394000</td>\n",
       "      <td>222</td>\n",
       "    </tr>\n",
       "    <tr>\n",
       "      <th>25</th>\n",
       "      <td>sim</td>\n",
       "      <td>12</td>\n",
       "      <td>1</td>\n",
       "      <td>8</td>\n",
       "      <td>Y</td>\n",
       "      <td>0.00000000</td>\n",
       "      <td>226</td>\n",
       "    </tr>\n",
       "    <tr>\n",
       "      <th>26</th>\n",
       "      <td>sim</td>\n",
       "      <td>13</td>\n",
       "      <td>1</td>\n",
       "      <td>9</td>\n",
       "      <td>A</td>\n",
       "      <td>0.48414000</td>\n",
       "      <td>5</td>\n",
       "    </tr>\n",
       "    <tr>\n",
       "      <th>27</th>\n",
       "      <td>sim</td>\n",
       "      <td>13</td>\n",
       "      <td>1</td>\n",
       "      <td>9</td>\n",
       "      <td>G</td>\n",
       "      <td>0.91916000</td>\n",
       "      <td>404</td>\n",
       "    </tr>\n",
       "    <tr>\n",
       "      <th>28</th>\n",
       "      <td>sim</td>\n",
       "      <td>13</td>\n",
       "      <td>1</td>\n",
       "      <td>9</td>\n",
       "      <td>R</td>\n",
       "      <td>0.00000000</td>\n",
       "      <td>91</td>\n",
       "    </tr>\n",
       "    <tr>\n",
       "      <th>29</th>\n",
       "      <td>sim</td>\n",
       "      <td>14</td>\n",
       "      <td>1</td>\n",
       "      <td>10</td>\n",
       "      <td>A</td>\n",
       "      <td>-2.47620000</td>\n",
       "      <td>12</td>\n",
       "    </tr>\n",
       "    <tr>\n",
       "      <th>...</th>\n",
       "      <td>...</td>\n",
       "      <td>...</td>\n",
       "      <td>...</td>\n",
       "      <td>...</td>\n",
       "      <td>...</td>\n",
       "      <td>...</td>\n",
       "      <td>...</td>\n",
       "    </tr>\n",
       "    <tr>\n",
       "      <th>2776</th>\n",
       "      <td>sim</td>\n",
       "      <td>1461</td>\n",
       "      <td>10</td>\n",
       "      <td>932</td>\n",
       "      <td>S</td>\n",
       "      <td>0.00000000</td>\n",
       "      <td>68</td>\n",
       "    </tr>\n",
       "    <tr>\n",
       "      <th>2777</th>\n",
       "      <td>sim</td>\n",
       "      <td>1462</td>\n",
       "      <td>10</td>\n",
       "      <td>933</td>\n",
       "      <td>C</td>\n",
       "      <td>0.24748000</td>\n",
       "      <td>369</td>\n",
       "    </tr>\n",
       "    <tr>\n",
       "      <th>2778</th>\n",
       "      <td>sim</td>\n",
       "      <td>1462</td>\n",
       "      <td>10</td>\n",
       "      <td>933</td>\n",
       "      <td>T</td>\n",
       "      <td>0.80208000</td>\n",
       "      <td>12</td>\n",
       "    </tr>\n",
       "    <tr>\n",
       "      <th>2779</th>\n",
       "      <td>sim</td>\n",
       "      <td>1462</td>\n",
       "      <td>10</td>\n",
       "      <td>933</td>\n",
       "      <td>Y</td>\n",
       "      <td>0.00000000</td>\n",
       "      <td>119</td>\n",
       "    </tr>\n",
       "    <tr>\n",
       "      <th>2780</th>\n",
       "      <td>sim</td>\n",
       "      <td>1463</td>\n",
       "      <td>10</td>\n",
       "      <td>934</td>\n",
       "      <td>C</td>\n",
       "      <td>-0.23967000</td>\n",
       "      <td>261</td>\n",
       "    </tr>\n",
       "    <tr>\n",
       "      <th>2781</th>\n",
       "      <td>sim</td>\n",
       "      <td>1463</td>\n",
       "      <td>10</td>\n",
       "      <td>934</td>\n",
       "      <td>T</td>\n",
       "      <td>0.27092000</td>\n",
       "      <td>31</td>\n",
       "    </tr>\n",
       "    <tr>\n",
       "      <th>2782</th>\n",
       "      <td>sim</td>\n",
       "      <td>1463</td>\n",
       "      <td>10</td>\n",
       "      <td>934</td>\n",
       "      <td>Y</td>\n",
       "      <td>0.00000000</td>\n",
       "      <td>208</td>\n",
       "    </tr>\n",
       "    <tr>\n",
       "      <th>2783</th>\n",
       "      <td>sim</td>\n",
       "      <td>1465</td>\n",
       "      <td>10</td>\n",
       "      <td>935</td>\n",
       "      <td>A</td>\n",
       "      <td>2.36170000</td>\n",
       "      <td>9</td>\n",
       "    </tr>\n",
       "    <tr>\n",
       "      <th>2784</th>\n",
       "      <td>sim</td>\n",
       "      <td>1465</td>\n",
       "      <td>10</td>\n",
       "      <td>935</td>\n",
       "      <td>G</td>\n",
       "      <td>0.27841000</td>\n",
       "      <td>376</td>\n",
       "    </tr>\n",
       "    <tr>\n",
       "      <th>2785</th>\n",
       "      <td>sim</td>\n",
       "      <td>1465</td>\n",
       "      <td>10</td>\n",
       "      <td>935</td>\n",
       "      <td>R</td>\n",
       "      <td>0.00000000</td>\n",
       "      <td>115</td>\n",
       "    </tr>\n",
       "    <tr>\n",
       "      <th>2786</th>\n",
       "      <td>sim</td>\n",
       "      <td>1468</td>\n",
       "      <td>10</td>\n",
       "      <td>936</td>\n",
       "      <td>A</td>\n",
       "      <td>0.17501000</td>\n",
       "      <td>32</td>\n",
       "    </tr>\n",
       "    <tr>\n",
       "      <th>2787</th>\n",
       "      <td>sim</td>\n",
       "      <td>1468</td>\n",
       "      <td>10</td>\n",
       "      <td>936</td>\n",
       "      <td>G</td>\n",
       "      <td>-0.97806000</td>\n",
       "      <td>254</td>\n",
       "    </tr>\n",
       "    <tr>\n",
       "      <th>2788</th>\n",
       "      <td>sim</td>\n",
       "      <td>1468</td>\n",
       "      <td>10</td>\n",
       "      <td>936</td>\n",
       "      <td>R</td>\n",
       "      <td>0.00000000</td>\n",
       "      <td>214</td>\n",
       "    </tr>\n",
       "    <tr>\n",
       "      <th>2789</th>\n",
       "      <td>sim</td>\n",
       "      <td>1470</td>\n",
       "      <td>10</td>\n",
       "      <td>937</td>\n",
       "      <td>A</td>\n",
       "      <td>-1.47770000</td>\n",
       "      <td>38</td>\n",
       "    </tr>\n",
       "    <tr>\n",
       "      <th>2790</th>\n",
       "      <td>sim</td>\n",
       "      <td>1470</td>\n",
       "      <td>10</td>\n",
       "      <td>937</td>\n",
       "      <td>G</td>\n",
       "      <td>0.19452000</td>\n",
       "      <td>245</td>\n",
       "    </tr>\n",
       "    <tr>\n",
       "      <th>2791</th>\n",
       "      <td>sim</td>\n",
       "      <td>1470</td>\n",
       "      <td>10</td>\n",
       "      <td>937</td>\n",
       "      <td>R</td>\n",
       "      <td>0.00000000</td>\n",
       "      <td>217</td>\n",
       "    </tr>\n",
       "    <tr>\n",
       "      <th>2792</th>\n",
       "      <td>sim</td>\n",
       "      <td>1472</td>\n",
       "      <td>10</td>\n",
       "      <td>938</td>\n",
       "      <td>A</td>\n",
       "      <td>-2.99260000</td>\n",
       "      <td>7</td>\n",
       "    </tr>\n",
       "    <tr>\n",
       "      <th>2793</th>\n",
       "      <td>sim</td>\n",
       "      <td>1472</td>\n",
       "      <td>10</td>\n",
       "      <td>938</td>\n",
       "      <td>C</td>\n",
       "      <td>-0.61898000</td>\n",
       "      <td>388</td>\n",
       "    </tr>\n",
       "    <tr>\n",
       "      <th>2794</th>\n",
       "      <td>sim</td>\n",
       "      <td>1472</td>\n",
       "      <td>10</td>\n",
       "      <td>938</td>\n",
       "      <td>M</td>\n",
       "      <td>0.00000000</td>\n",
       "      <td>105</td>\n",
       "    </tr>\n",
       "    <tr>\n",
       "      <th>2795</th>\n",
       "      <td>sim</td>\n",
       "      <td>1473</td>\n",
       "      <td>10</td>\n",
       "      <td>939</td>\n",
       "      <td>A</td>\n",
       "      <td>0.06237000</td>\n",
       "      <td>460</td>\n",
       "    </tr>\n",
       "    <tr>\n",
       "      <th>2796</th>\n",
       "      <td>sim</td>\n",
       "      <td>1473</td>\n",
       "      <td>10</td>\n",
       "      <td>939</td>\n",
       "      <td>M</td>\n",
       "      <td>0.00000000</td>\n",
       "      <td>40</td>\n",
       "    </tr>\n",
       "    <tr>\n",
       "      <th>2797</th>\n",
       "      <td>sim</td>\n",
       "      <td>1474</td>\n",
       "      <td>10</td>\n",
       "      <td>940</td>\n",
       "      <td>A</td>\n",
       "      <td>0.81284000</td>\n",
       "      <td>298</td>\n",
       "    </tr>\n",
       "    <tr>\n",
       "      <th>2798</th>\n",
       "      <td>sim</td>\n",
       "      <td>1474</td>\n",
       "      <td>10</td>\n",
       "      <td>940</td>\n",
       "      <td>G</td>\n",
       "      <td>-2.02380000</td>\n",
       "      <td>29</td>\n",
       "    </tr>\n",
       "    <tr>\n",
       "      <th>2799</th>\n",
       "      <td>sim</td>\n",
       "      <td>1474</td>\n",
       "      <td>10</td>\n",
       "      <td>940</td>\n",
       "      <td>R</td>\n",
       "      <td>0.00000000</td>\n",
       "      <td>173</td>\n",
       "    </tr>\n",
       "    <tr>\n",
       "      <th>2800</th>\n",
       "      <td>sim</td>\n",
       "      <td>1475</td>\n",
       "      <td>10</td>\n",
       "      <td>941</td>\n",
       "      <td>A</td>\n",
       "      <td>-0.48392000</td>\n",
       "      <td>32</td>\n",
       "    </tr>\n",
       "    <tr>\n",
       "      <th>2801</th>\n",
       "      <td>sim</td>\n",
       "      <td>1475</td>\n",
       "      <td>10</td>\n",
       "      <td>941</td>\n",
       "      <td>C</td>\n",
       "      <td>-0.07949000</td>\n",
       "      <td>258</td>\n",
       "    </tr>\n",
       "    <tr>\n",
       "      <th>2802</th>\n",
       "      <td>sim</td>\n",
       "      <td>1475</td>\n",
       "      <td>10</td>\n",
       "      <td>941</td>\n",
       "      <td>M</td>\n",
       "      <td>0.00000000</td>\n",
       "      <td>210</td>\n",
       "    </tr>\n",
       "    <tr>\n",
       "      <th>2803</th>\n",
       "      <td>sim</td>\n",
       "      <td>1476</td>\n",
       "      <td>10</td>\n",
       "      <td>942</td>\n",
       "      <td>A</td>\n",
       "      <td>-3.59970000</td>\n",
       "      <td>12</td>\n",
       "    </tr>\n",
       "    <tr>\n",
       "      <th>2804</th>\n",
       "      <td>sim</td>\n",
       "      <td>1476</td>\n",
       "      <td>10</td>\n",
       "      <td>942</td>\n",
       "      <td>T</td>\n",
       "      <td>-0.02231800</td>\n",
       "      <td>379</td>\n",
       "    </tr>\n",
       "    <tr>\n",
       "      <th>2805</th>\n",
       "      <td>sim</td>\n",
       "      <td>1476</td>\n",
       "      <td>10</td>\n",
       "      <td>942</td>\n",
       "      <td>W</td>\n",
       "      <td>0.00000000</td>\n",
       "      <td>109</td>\n",
       "    </tr>\n",
       "  </tbody>\n",
       "</table>\n",
       "<p>2806 rows × 7 columns</p>\n",
       "</div>"
      ],
      "text/plain": [
       "     Trait  Marker  Locus  Site Allele      Effect  Obs\n",
       "0      sim       1      1     0      C -0.04411200  332\n",
       "1      sim       1      1     0      T -0.46932000   16\n",
       "2      sim       1      1     0      Y  0.00000000  152\n",
       "3      sim       2      1     1      C -0.31837000    8\n",
       "4      sim       2      1     1      T -0.41420000  375\n",
       "5      sim       2      1     1      Y  0.00000000  117\n",
       "6      sim       3      1     2      A -0.19867000  368\n",
       "7      sim       3      1     2      G -3.08230000    8\n",
       "8      sim       3      1     2      R  0.00000000  124\n",
       "9      sim       4      1     3      G -0.26613000  456\n",
       "10     sim       4      1     3      R  0.00000000   44\n",
       "11     sim       5      1     4      A  0.47859000  290\n",
       "12     sim       5      1     4      G  0.33680000   28\n",
       "13     sim       5      1     4      R  0.00000000  182\n",
       "14     sim       6      1     5      A  0.40989000  276\n",
       "15     sim       6      1     5      G  1.20857000   34\n",
       "16     sim       6      1     5      R  0.00000000  190\n",
       "17     sim       8      1     6      A  0.50466000  373\n",
       "18     sim       8      1     6      G  1.93836000    9\n",
       "19     sim       8      1     6      R  0.00000000  118\n",
       "20     sim      10      1     7      C -0.78651000  200\n",
       "21     sim      10      1     7      T -1.81860000   62\n",
       "22     sim      10      1     7      Y  0.00000000  238\n",
       "23     sim      12      1     8      C -1.31180000   52\n",
       "24     sim      12      1     8      T -0.51394000  222\n",
       "25     sim      12      1     8      Y  0.00000000  226\n",
       "26     sim      13      1     9      A  0.48414000    5\n",
       "27     sim      13      1     9      G  0.91916000  404\n",
       "28     sim      13      1     9      R  0.00000000   91\n",
       "29     sim      14      1    10      A -2.47620000   12\n",
       "...    ...     ...    ...   ...    ...         ...  ...\n",
       "2776   sim    1461     10   932      S  0.00000000   68\n",
       "2777   sim    1462     10   933      C  0.24748000  369\n",
       "2778   sim    1462     10   933      T  0.80208000   12\n",
       "2779   sim    1462     10   933      Y  0.00000000  119\n",
       "2780   sim    1463     10   934      C -0.23967000  261\n",
       "2781   sim    1463     10   934      T  0.27092000   31\n",
       "2782   sim    1463     10   934      Y  0.00000000  208\n",
       "2783   sim    1465     10   935      A  2.36170000    9\n",
       "2784   sim    1465     10   935      G  0.27841000  376\n",
       "2785   sim    1465     10   935      R  0.00000000  115\n",
       "2786   sim    1468     10   936      A  0.17501000   32\n",
       "2787   sim    1468     10   936      G -0.97806000  254\n",
       "2788   sim    1468     10   936      R  0.00000000  214\n",
       "2789   sim    1470     10   937      A -1.47770000   38\n",
       "2790   sim    1470     10   937      G  0.19452000  245\n",
       "2791   sim    1470     10   937      R  0.00000000  217\n",
       "2792   sim    1472     10   938      A -2.99260000    7\n",
       "2793   sim    1472     10   938      C -0.61898000  388\n",
       "2794   sim    1472     10   938      M  0.00000000  105\n",
       "2795   sim    1473     10   939      A  0.06237000  460\n",
       "2796   sim    1473     10   939      M  0.00000000   40\n",
       "2797   sim    1474     10   940      A  0.81284000  298\n",
       "2798   sim    1474     10   940      G -2.02380000   29\n",
       "2799   sim    1474     10   940      R  0.00000000  173\n",
       "2800   sim    1475     10   941      A -0.48392000   32\n",
       "2801   sim    1475     10   941      C -0.07949000  258\n",
       "2802   sim    1475     10   941      M  0.00000000  210\n",
       "2803   sim    1476     10   942      A -3.59970000   12\n",
       "2804   sim    1476     10   942      T -0.02231800  379\n",
       "2805   sim    1476     10   942      W  0.00000000  109\n",
       "\n",
       "[2806 rows x 7 columns]"
      ]
     },
     "execution_count": 282,
     "metadata": {},
     "output_type": "execute_result"
    }
   ],
   "source": [
    "raw_effect_estimates"
   ]
  },
  {
   "cell_type": "code",
   "execution_count": 294,
   "metadata": {},
   "outputs": [
    {
     "data": {
      "text/plain": [
       "'T'"
      ]
     },
     "execution_count": 294,
     "metadata": {},
     "output_type": "execute_result"
    }
   ],
   "source": [
    "iupac_genotype_codes[iupac_genotype_codes[first_homozygo[13, 4]]]"
   ]
  },
  {
   "cell_type": "code",
   "execution_count": 307,
   "metadata": {},
   "outputs": [
    {
     "data": {
      "text/plain": [
       "'GG'"
      ]
     },
     "execution_count": 307,
     "metadata": {},
     "output_type": "execute_result"
    }
   ],
   "source": [
    "iupac_genotype_codes[first_homozygo[9, 4]]"
   ]
  },
  {
   "cell_type": "code",
   "execution_count": 308,
   "metadata": {},
   "outputs": [
    {
     "data": {
      "text/plain": [
       "2"
      ]
     },
     "execution_count": 308,
     "metadata": {},
     "output_type": "execute_result"
    }
   ],
   "source": [
    "snp_to_int['G']"
   ]
  },
  {
   "cell_type": "code",
   "execution_count": 311,
   "metadata": {},
   "outputs": [
    {
     "data": {
      "text/plain": [
       "0.763118208299576"
      ]
     },
     "execution_count": 311,
     "metadata": {},
     "output_type": "execute_result"
    }
   ],
   "source": [
    "ae_array[13, 2]*2"
   ]
  },
  {
   "cell_type": "code",
   "execution_count": 295,
   "metadata": {},
   "outputs": [
    {
     "data": {
      "text/plain": [
       "'TT'"
      ]
     },
     "execution_count": 295,
     "metadata": {},
     "output_type": "execute_result"
    }
   ],
   "source": [
    "iupac_genotype_codes['T']"
   ]
  },
  {
   "cell_type": "code",
   "execution_count": 296,
   "metadata": {},
   "outputs": [
    {
     "data": {
      "text/plain": [
       "3"
      ]
     },
     "execution_count": 296,
     "metadata": {},
     "output_type": "execute_result"
    }
   ],
   "source": [
    "snp_to_int['T']"
   ]
  },
  {
   "cell_type": "code",
   "execution_count": 289,
   "metadata": {},
   "outputs": [
    {
     "data": {
      "text/plain": [
       "array([ 13.   ,   0.   ,   0.094,   2.   ,   0.382])"
      ]
     },
     "execution_count": 289,
     "metadata": {},
     "output_type": "execute_result"
    }
   ],
   "source": [
    "allele_effects[13]"
   ]
  },
  {
   "cell_type": "code",
   "execution_count": 292,
   "metadata": {},
   "outputs": [
    {
     "data": {
      "text/plain": [
       "array([ 0.,  0.,  0.,  0.,  0.,  0.])"
      ]
     },
     "execution_count": 292,
     "metadata": {},
     "output_type": "execute_result"
    }
   ],
   "source": [
    "ae_array[26, ]"
   ]
  },
  {
   "cell_type": "code",
   "execution_count": 293,
   "metadata": {},
   "outputs": [
    {
     "data": {
      "text/plain": [
       "array([[ 0.094,  0.   ,  0.382,  0.   ,  0.   ,  0.   ],\n",
       "       [ 0.027,  0.09 ,  0.   ,  0.   ,  0.   ,  0.   ],\n",
       "       [ 0.   ,  1.151,  0.   ,  0.956,  0.   ,  0.   ],\n",
       "       [ 0.384,  0.   ,  0.   ,  0.059,  0.   ,  0.   ],\n",
       "       [ 0.   ,  0.465,  2.106,  0.   ,  0.   ,  0.   ],\n",
       "       [ 0.945,  0.   ,  1.106,  0.   ,  0.   ,  0.   ],\n",
       "       [ 0.   ,  0.618,  0.64 ,  0.   ,  0.   ,  0.   ],\n",
       "       [ 0.   ,  1.168,  0.   ,  0.969,  0.   ,  0.   ],\n",
       "       [ 0.355,  0.   ,  0.   ,  2.817,  0.   ,  0.   ],\n",
       "       [ 0.   ,  0.488,  0.   ,  3.119,  0.   ,  0.   ],\n",
       "       [ 0.046,  0.   ,  0.811,  0.   ,  0.   ,  0.   ],\n",
       "       [ 0.   ,  0.34 ,  0.   ,  0.826,  0.   ,  0.   ],\n",
       "       [ 1.356,  0.   ,  0.   ,  0.674,  0.   ,  0.   ],\n",
       "       [ 0.164,  0.   ,  2.222,  0.   ,  0.   ,  0.   ],\n",
       "       [ 0.   ,  0.166,  0.037,  0.   ,  0.   ,  0.   ],\n",
       "       [ 0.904,  0.739,  0.   ,  0.   ,  0.   ,  0.   ],\n",
       "       [ 0.   ,  0.847,  0.   ,  1.763,  0.   ,  0.   ],\n",
       "       [ 0.002,  0.   ,  0.838,  0.   ,  0.   ,  0.   ],\n",
       "       [ 0.   ,  2.634,  0.   ,  0.347,  0.   ,  0.   ],\n",
       "       [ 0.   ,  0.041,  0.584,  0.   ,  0.   ,  0.   ]])"
      ]
     },
     "execution_count": 293,
     "metadata": {},
     "output_type": "execute_result"
    }
   ],
   "source": [
    "ae_array[qtl]"
   ]
  },
  {
   "cell_type": "code",
   "execution_count": null,
   "metadata": {
    "collapsed": true
   },
   "outputs": [],
   "source": []
  },
  {
   "cell_type": "code",
   "execution_count": 312,
   "metadata": {},
   "outputs": [
    {
     "data": {
      "text/plain": [
       "array([['sim', 1, 1, ..., 'C', -0.044112, 332],\n",
       "       ['sim', 2, 1, ..., 'C', -0.31837, 8],\n",
       "       ['sim', 3, 1, ..., 'A', -0.19867, 368],\n",
       "       ..., \n",
       "       ['sim', 1474, 10, ..., 'R', 0.0, 173],\n",
       "       ['sim', 1475, 10, ..., 'M', 0.0, 210],\n",
       "       ['sim', 1476, 10, ..., 'W', 0.0, 109]], dtype=object)"
      ]
     },
     "execution_count": 312,
     "metadata": {},
     "output_type": "execute_result"
    }
   ],
   "source": [
    "even_effects"
   ]
  },
  {
   "cell_type": "code",
   "execution_count": null,
   "metadata": {
    "collapsed": true
   },
   "outputs": [],
   "source": []
  },
  {
   "cell_type": "code",
   "execution_count": 246,
   "metadata": {},
   "outputs": [
    {
     "data": {
      "text/plain": [
       "(935, 7)"
      ]
     },
     "execution_count": 246,
     "metadata": {},
     "output_type": "execute_result"
    }
   ],
   "source": [
    "odd_effects.shape"
   ]
  },
  {
   "cell_type": "code",
   "execution_count": 103,
   "metadata": {},
   "outputs": [
    {
     "data": {
      "text/plain": [
       "array([[   13.   ,     0.   ,     0.094,     2.   ,     0.382],\n",
       "       [   27.   ,     0.   ,     0.027,     1.   ,     0.09 ],\n",
       "       [  198.   ,     1.   ,     1.151,     3.   ,     0.956],\n",
       "       [  278.   ,     0.   ,     0.384,     3.   ,     0.059],\n",
       "       [  363.   ,     1.   ,     0.465,     2.   ,     2.106],\n",
       "       [  436.   ,     0.   ,     0.945,     2.   ,     1.106],\n",
       "       [  441.   ,     1.   ,     0.618,     2.   ,     0.64 ],\n",
       "       [  550.   ,     1.   ,     1.168,     3.   ,     0.969],\n",
       "       [  604.   ,     0.   ,     0.355,     3.   ,     2.817],\n",
       "       [  735.   ,     1.   ,     0.488,     3.   ,     3.119],\n",
       "       [  853.   ,     0.   ,     0.046,     2.   ,     0.811],\n",
       "       [ 1035.   ,     1.   ,     0.34 ,     3.   ,     0.826],\n",
       "       [ 1041.   ,     0.   ,     1.356,     3.   ,     0.674],\n",
       "       [ 1189.   ,     0.   ,     0.164,     2.   ,     2.222],\n",
       "       [ 1193.   ,     1.   ,     0.166,     2.   ,     0.037],\n",
       "       [ 1197.   ,     0.   ,     0.904,     1.   ,     0.739],\n",
       "       [ 1198.   ,     1.   ,     0.847,     3.   ,     1.763],\n",
       "       [ 1312.   ,     0.   ,     0.002,     2.   ,     0.838],\n",
       "       [ 1330.   ,     1.   ,     2.634,     3.   ,     0.347],\n",
       "       [ 1432.   ,     1.   ,     0.041,     2.   ,     0.584]])"
      ]
     },
     "execution_count": 103,
     "metadata": {},
     "output_type": "execute_result"
    }
   ],
   "source": [
    "allele_effects[qtl]"
   ]
  },
  {
   "cell_type": "code",
   "execution_count": 108,
   "metadata": {},
   "outputs": [],
   "source": [
    "rep_zero_afrqs = np.array(small_data['allele/frequency/replicate/0'])"
   ]
  },
  {
   "cell_type": "code",
   "execution_count": 110,
   "metadata": {},
   "outputs": [
    {
     "data": {
      "text/plain": [
       "array([[   13.   ,     0.101,     0.899,     0.101,     0.899],\n",
       "       [   27.   ,     0.921,     0.079,     0.079,     0.921],\n",
       "       [  198.   ,     0.89 ,     0.11 ,     0.11 ,     0.89 ],\n",
       "       [  278.   ,     0.946,     0.054,     0.054,     0.946],\n",
       "       [  363.   ,     0.347,     0.653,     0.347,     0.653],\n",
       "       [  436.   ,     0.234,     0.766,     0.234,     0.766],\n",
       "       [  441.   ,     0.857,     0.143,     0.143,     0.857],\n",
       "       [  550.   ,     0.503,     0.497,     0.497,     0.503],\n",
       "       [  604.   ,     0.243,     0.757,     0.243,     0.757],\n",
       "       [  735.   ,     0.79 ,     0.21 ,     0.21 ,     0.79 ],\n",
       "       [  853.   ,     0.765,     0.235,     0.235,     0.765],\n",
       "       [ 1035.   ,     0.119,     0.881,     0.119,     0.881],\n",
       "       [ 1041.   ,     0.122,     0.878,     0.122,     0.878],\n",
       "       [ 1189.   ,     0.368,     0.632,     0.368,     0.632],\n",
       "       [ 1193.   ,     0.785,     0.215,     0.215,     0.785],\n",
       "       [ 1197.   ,     0.115,     0.885,     0.115,     0.885],\n",
       "       [ 1198.   ,     0.061,     0.939,     0.061,     0.939],\n",
       "       [ 1312.   ,     0.097,     0.903,     0.097,     0.903],\n",
       "       [ 1330.   ,     0.784,     0.216,     0.216,     0.784],\n",
       "       [ 1432.   ,     0.072,     0.928,     0.072,     0.928]])"
      ]
     },
     "execution_count": 110,
     "metadata": {},
     "output_type": "execute_result"
    }
   ],
   "source": [
    "rep_zero_afrqs[qtl]"
   ]
  },
  {
   "cell_type": "code",
   "execution_count": 87,
   "metadata": {},
   "outputs": [
    {
     "data": {
      "text/html": [
       "<div>\n",
       "<style>\n",
       "    .dataframe thead tr:only-child th {\n",
       "        text-align: right;\n",
       "    }\n",
       "\n",
       "    .dataframe thead th {\n",
       "        text-align: left;\n",
       "    }\n",
       "\n",
       "    .dataframe tbody tr th {\n",
       "        vertical-align: top;\n",
       "    }\n",
       "</style>\n",
       "<table border=\"1\" class=\"dataframe\">\n",
       "  <thead>\n",
       "    <tr style=\"text-align: right;\">\n",
       "      <th></th>\n",
       "      <th>q</th>\n",
       "    </tr>\n",
       "  </thead>\n",
       "  <tbody>\n",
       "    <tr>\n",
       "      <th>604</th>\n",
       "      <td>0.000008</td>\n",
       "    </tr>\n",
       "    <tr>\n",
       "      <th>735</th>\n",
       "      <td>0.002299</td>\n",
       "    </tr>\n",
       "    <tr>\n",
       "      <th>1189</th>\n",
       "      <td>0.000007</td>\n",
       "    </tr>\n",
       "    <tr>\n",
       "      <th>1330</th>\n",
       "      <td>0.037586</td>\n",
       "    </tr>\n",
       "  </tbody>\n",
       "</table>\n",
       "</div>"
      ],
      "text/plain": [
       "             q\n",
       "604   0.000008\n",
       "735   0.002299\n",
       "1189  0.000007\n",
       "1330  0.037586"
      ]
     },
     "execution_count": 87,
     "metadata": {},
     "output_type": "execute_result"
    }
   ],
   "source": [
    "qvalues.ix[qvalues['q'] < 0.05]"
   ]
  },
  {
   "cell_type": "code",
   "execution_count": null,
   "metadata": {
    "collapsed": true
   },
   "outputs": [],
   "source": []
  },
  {
   "cell_type": "code",
   "execution_count": null,
   "metadata": {
    "collapsed": true
   },
   "outputs": [],
   "source": []
  },
  {
   "cell_type": "code",
   "execution_count": null,
   "metadata": {
    "collapsed": true
   },
   "outputs": [],
   "source": []
  },
  {
   "cell_type": "code",
   "execution_count": null,
   "metadata": {
    "collapsed": true
   },
   "outputs": [],
   "source": [
    "def tassel_results_tables(gwas_file_name, q_values_file_name, \n",
    "                              minor_allele_frequency_table, \n",
    "                              quantitative_allele_table):\n",
    "    raw_gwas_results = pd.read_csv(gwas_file_name, sep='\\t')\n",
    "    raw_gwas_results.drop(0, axis=0, inplace=True)\n",
    "    raw_gwas_results.drop('Trait', axis=1, inplace=True)\n",
    "    raw_gwas_results.index = np.array(list(map(int, raw_gwas_results.Marker)))\n",
    "    q_values = pd.read_csv(q_values_file_name, sep='\\t')\n",
    "    q_values.index = np.array(list(map(int, raw_gwas_results.Marker)))\n",
    "    raw_gwas_results = raw_gwas_results.join(q_values)\n",
    "    \n",
    "    assert minor_allele_frequency_table.index.dtype == raw_gwas_results.index.dtype, \"Indexes of these tables are different\"\n",
    "    \n",
    "    raw_gwas_results = raw_gwas_results.join(minor_allele_frequency_table.ix[raw_gwas_results.index, :])\n",
    "    \n",
    "    assert quantitative_allele_table.index.dtype == raw_gwas_results.index.dtype, \"Indexes of these tables are different\"\n",
    "    \n",
    "    raw_gwas_results = raw_gwas_results.join(quantitative_allele_table.ix[raw_gwas_results.index, :])\n",
    "    return raw_gwas_results"
   ]
  },
  {
   "cell_type": "code",
   "execution_count": null,
   "metadata": {
    "collapsed": true
   },
   "outputs": [],
   "source": [
    "pwd"
   ]
  },
  {
   "cell_type": "code",
   "execution_count": null,
   "metadata": {
    "collapsed": true
   },
   "outputs": [],
   "source": [
    "cd /home/vakanas/tassel-5-standalone/output/"
   ]
  },
  {
   "cell_type": "code",
   "execution_count": null,
   "metadata": {
    "collapsed": true
   },
   "outputs": [],
   "source": [
    "ls"
   ]
  },
  {
   "cell_type": "code",
   "execution_count": null,
   "metadata": {
    "collapsed": true
   },
   "outputs": [],
   "source": [
    "mafrqs = pd.read_csv('epsilon_0_maf_table.txt', sep='\\t', index_col=0)"
   ]
  },
  {
   "cell_type": "code",
   "execution_count": null,
   "metadata": {
    "collapsed": true
   },
   "outputs": [],
   "source": [
    "mafrqs"
   ]
  },
  {
   "cell_type": "code",
   "execution_count": null,
   "metadata": {
    "collapsed": true
   },
   "outputs": [],
   "source": [
    "qtad = pd.read_csv('epsilon_0_quant_allele_table.txt', sep='\\t', index_col=0)"
   ]
  },
  {
   "cell_type": "code",
   "execution_count": null,
   "metadata": {
    "collapsed": true
   },
   "outputs": [],
   "source": [
    "qtad"
   ]
  },
  {
   "cell_type": "code",
   "execution_count": null,
   "metadata": {
    "collapsed": true
   },
   "outputs": [],
   "source": [
    "super_table = tassel_results_tables('epsilon_0_out_2.txt', 'epsilon_0_qvalues.txt', mafrqs, qtad)"
   ]
  },
  {
   "cell_type": "code",
   "execution_count": null,
   "metadata": {
    "collapsed": true
   },
   "outputs": [],
   "source": [
    "super_table.ix[super_table.q < 0.05]"
   ]
  },
  {
   "cell_type": "code",
   "execution_count": null,
   "metadata": {
    "collapsed": true
   },
   "outputs": [],
   "source": [
    "super_table.ix[super_table.alpha_effect > 0]"
   ]
  },
  {
   "cell_type": "code",
   "execution_count": null,
   "metadata": {
    "collapsed": true
   },
   "outputs": [],
   "source": []
  },
  {
   "cell_type": "code",
   "execution_count": null,
   "metadata": {
    "collapsed": true
   },
   "outputs": [],
   "source": []
  },
  {
   "cell_type": "code",
   "execution_count": null,
   "metadata": {
    "collapsed": true
   },
   "outputs": [],
   "source": [
    "mg.multiple_sample_analyzer(meta_populations, qtl, allele_effects, \n",
    "                            minor_alleles, concordant_segregating_loci)"
   ]
  },
  {
   "cell_type": "code",
   "execution_count": null,
   "metadata": {
    "collapsed": true
   },
   "outputs": [],
   "source": [
    "analyze.store_allele_effect_frequency_tables(meta_population, alleles, \n",
    "                                             qtl,\n",
    "                                             exponential_allele_effects,\n",
    "                                            run_id, 'exponential')"
   ]
  },
  {
   "cell_type": "code",
   "execution_count": null,
   "metadata": {
    "collapsed": true
   },
   "outputs": [],
   "source": []
  },
  {
   "cell_type": "code",
   "execution_count": null,
   "metadata": {
    "collapsed": true
   },
   "outputs": [],
   "source": []
  },
  {
   "cell_type": "code",
   "execution_count": null,
   "metadata": {
    "collapsed": true
   },
   "outputs": [],
   "source": []
  },
  {
   "cell_type": "code",
   "execution_count": null,
   "metadata": {
    "collapsed": true
   },
   "outputs": [],
   "source": []
  },
  {
   "cell_type": "code",
   "execution_count": null,
   "metadata": {
    "collapsed": true
   },
   "outputs": [],
   "source": [
    "loci_conversions = shelve.open(run_id+'_loci_conversions')\n",
    "saegus_to_tassel_loci = {}\n",
    "tassel_to_saegus_loci = {}\n",
    "for idx, locus in enumerate(concordant_segregating_loci):\n",
    "    saegus_to_tassel_loci[locus] = idx\n",
    "    tassel_to_saegus_loci[idx] = locus\n",
    "loci_conversions['saegus_to_tassel'] = saegus_to_tassel_loci\n",
    "loci_conversions['tassel_to_saegus'] = tassel_to_saegus_loci\n",
    "loci_conversions.close()"
   ]
  },
  {
   "cell_type": "code",
   "execution_count": null,
   "metadata": {
    "collapsed": true
   },
   "outputs": [],
   "source": [
    "seg_loc_storage = shelve.open('segregating_loci_storage')\n",
    "seg_loc_storage['bacchus'] = concordant_segregating_loci\n",
    "seg_loc_storage.close()"
   ]
  },
  {
   "cell_type": "code",
   "execution_count": null,
   "metadata": {
    "collapsed": true
   },
   "outputs": [],
   "source": [
    "int_to_snp = {0: 'A', 1: 'C', 2: 'G', 3: 'T', 4: '-', 5: '+'}\n",
    "snp_to_int = {'A': 0, 'C': 1, '-': 4, 'G': 2, '+': 5, 'T': 3}\n",
    "conv = shelve.open('synthesis_parameters')\n",
    "conv['integer_to_snp'] = int_to_snp\n",
    "conv['snp_to_integer'] = snp_to_int\n",
    "conv.close()"
   ]
  },
  {
   "cell_type": "code",
   "execution_count": null,
   "metadata": {
    "collapsed": true
   },
   "outputs": [],
   "source": [
    "exponential_allele_effects_table = analyze.generate_allele_effects_table(qtl, alleles, \n",
    "                                                exponential_allele_effects, saegus_to_tassel_loci)"
   ]
  },
  {
   "cell_type": "code",
   "execution_count": null,
   "metadata": {
    "collapsed": true
   },
   "outputs": [],
   "source": []
  },
  {
   "cell_type": "code",
   "execution_count": null,
   "metadata": {
    "collapsed": true
   },
   "outputs": [],
   "source": []
  },
  {
   "cell_type": "code",
   "execution_count": null,
   "metadata": {
    "collapsed": true
   },
   "outputs": [],
   "source": [
    "analyze.remap_allele_frequency_table_loci(analyze.reload_allele_frequencies_table(run_id, 0, 250, \n",
    "                                                                                  'exponential'), \n",
    "                                          concordant_segregating_loci)"
   ]
  },
  {
   "cell_type": "code",
   "execution_count": null,
   "metadata": {
    "collapsed": true
   },
   "outputs": [],
   "source": [
    "analyze.write_multiple_sample_analyzer(sample_library, sample_sizes, qtl, alleles, \n",
    "                                       exponential_allele_effects, 0.7,  concordant_segregating_loci, \n",
    "                                       run_id=run_id, sub_run_id='_exponential', \n",
    "                                       allele_frequency_hdf=run_id+'_allele_frequency_storage.h5')"
   ]
  },
  {
   "cell_type": "code",
   "execution_count": null,
   "metadata": {
    "collapsed": true
   },
   "outputs": [],
   "source": [
    "multiple_sample_analyzer(meta_populations, qtl, allele_effects, minor_alleles, concordant_segregating_loci)"
   ]
  },
  {
   "cell_type": "code",
   "execution_count": null,
   "metadata": {
    "collapsed": true
   },
   "outputs": [],
   "source": [
    "import h5py"
   ]
  },
  {
   "cell_type": "code",
   "execution_count": null,
   "metadata": {
    "collapsed": true
   },
   "outputs": [],
   "source": [
    "with h5py.File('bia_allele_frequencies.hdf5') as biaf:\n",
    "    reloaded_af = np.array(biaf[afname])"
   ]
  },
  {
   "cell_type": "code",
   "execution_count": null,
   "metadata": {
    "collapsed": true
   },
   "outputs": [],
   "source": [
    "fisegloc = list(concordant_segregating_loci)"
   ]
  },
  {
   "cell_type": "code",
   "execution_count": null,
   "metadata": {
    "collapsed": true
   },
   "outputs": [],
   "source": [
    "minor_allele_frequencies = reloaded_af[fisegloc]"
   ]
  },
  {
   "cell_type": "code",
   "execution_count": null,
   "metadata": {
    "collapsed": true
   },
   "outputs": [],
   "source": [
    "def write_super_tables(power_and_fpr_raw_data, sample_sizes, number_of_replicates, run_id, sub_run_id=''):\n",
    "    for size in sample_sizes:\n",
    "        for rep in range(number_of_replicates):\n",
    "            name = run_id + '_' + sub_run_id + '_' + str(rep) + '_' + str(size) + '_super_table.txt'\n",
    "            power_and_fpr_raw_data[size][rep].to_csv(name, sep='\\t')"
   ]
  },
  {
   "cell_type": "code",
   "execution_count": null,
   "metadata": {
    "collapsed": true
   },
   "outputs": [],
   "source": []
  },
  {
   "cell_type": "code",
   "execution_count": null,
   "metadata": {
    "collapsed": true
   },
   "outputs": [],
   "source": []
  },
  {
   "cell_type": "code",
   "execution_count": null,
   "metadata": {
    "collapsed": true
   },
   "outputs": [],
   "source": [
    "expo_power_fpr_raw_data = analyze.collect_power_analysis_data(run_id, sample_sizes, number_of_replicates, concordant_segregating_loci, 'exponential')"
   ]
  },
  {
   "cell_type": "code",
   "execution_count": null,
   "metadata": {
    "collapsed": true
   },
   "outputs": [],
   "source": [
    "expo_power_fpr_raw_data[250]"
   ]
  },
  {
   "cell_type": "code",
   "execution_count": null,
   "metadata": {
    "collapsed": true
   },
   "outputs": [],
   "source": [
    "write_super_tables(expo_power_fpr_raw_data,\n",
    "                  sample_sizes,\n",
    "                  number_of_replicates,\n",
    "                  'bacchus',\n",
    "                  sub_run_id='exponential')"
   ]
  },
  {
   "cell_type": "code",
   "execution_count": null,
   "metadata": {
    "collapsed": true
   },
   "outputs": [],
   "source": [
    "expo_results, expo_true_positives, expo_false_positives = study.calculate_power_fpr(expo_power_fpr_raw_data, sample_sizes, \n",
    "                                                                             number_of_replicates, number_of_qtl)"
   ]
  },
  {
   "cell_type": "code",
   "execution_count": null,
   "metadata": {
    "collapsed": true
   },
   "outputs": [],
   "source": [
    "expo_results"
   ]
  },
  {
   "cell_type": "code",
   "execution_count": null,
   "metadata": {
    "collapsed": true
   },
   "outputs": [],
   "source": [
    "mean_and_stdev = pd.DataFrame([expo_results.mean(), expo_results.std()], index=['mean', 'stdev']).T\n",
    "mean_and_stdev.to_csv('bacchus_exponential_mean_and_stdev_power_fpr.csv', sep='\\t')"
   ]
  },
  {
   "cell_type": "code",
   "execution_count": null,
   "metadata": {
    "collapsed": true
   },
   "outputs": [],
   "source": [
    "geo_results"
   ]
  },
  {
   "cell_type": "code",
   "execution_count": null,
   "metadata": {
    "collapsed": true
   },
   "outputs": [],
   "source": [
    "geometric_allele_effects_table"
   ]
  },
  {
   "cell_type": "code",
   "execution_count": null,
   "metadata": {
    "collapsed": true
   },
   "outputs": [],
   "source": [
    "exponential_allele_effects_table"
   ]
  },
  {
   "cell_type": "code",
   "execution_count": null,
   "metadata": {
    "collapsed": true
   },
   "outputs": [],
   "source": [
    "expo_results.to_csv(\"bacchus_exponential_power_fpr_results.txt\", sep='\\t')"
   ]
  },
  {
   "cell_type": "code",
   "execution_count": null,
   "metadata": {
    "collapsed": true
   },
   "outputs": [],
   "source": [
    "mean_and_stdev = pd.DataFrame([geo_results.mean(), geo_results.std()], index=['mean', 'stdev']).T\n",
    "mean_and_stdev.to_csv('full_icecrown_geometric_mean_and_stdev_power_fpr.txt', sep='\\t')"
   ]
  },
  {
   "cell_type": "code",
   "execution_count": null,
   "metadata": {
    "collapsed": true
   },
   "outputs": [],
   "source": [
    "expo_results, expo_true_positives, expo_false_positives = full_icecrown.calculate_power_fpr(expo_power_fpr_raw_data,\n",
    "                                                                                      sample_sizes,\n",
    "                                                                                      number_of_replicates,\n",
    "                                                                                      number_of_qtl)"
   ]
  },
  {
   "cell_type": "code",
   "execution_count": null,
   "metadata": {
    "collapsed": true
   },
   "outputs": [],
   "source": []
  },
  {
   "cell_type": "code",
   "execution_count": null,
   "metadata": {
    "collapsed": true
   },
   "outputs": [],
   "source": [
    "expo_results"
   ]
  },
  {
   "cell_type": "code",
   "execution_count": null,
   "metadata": {
    "collapsed": true
   },
   "outputs": [],
   "source": [
    "expo_results.to_csv('full_icecrown_exponential_power_fpr_results.txt', sep='\\t')"
   ]
  },
  {
   "cell_type": "code",
   "execution_count": null,
   "metadata": {
    "collapsed": true
   },
   "outputs": [],
   "source": [
    "mean_and_stdev = pd.DataFrame([expo_results.mean(), expo_results.std()], index=['mean', 'stdev']).T\n",
    "mean_and_stdev.to_csv('full_icecrown_exponential_mean_and_stdev_power_fpr.txt', sep='\\t')"
   ]
  },
  {
   "cell_type": "code",
   "execution_count": null,
   "metadata": {
    "collapsed": true
   },
   "outputs": [],
   "source": [
    "write_super_tables(expo_power_fpr_raw_data, sample_sizes, number_of_replicates, run_id, 'exponential')"
   ]
  },
  {
   "cell_type": "code",
   "execution_count": null,
   "metadata": {
    "collapsed": true
   },
   "outputs": [],
   "source": []
  },
  {
   "cell_type": "code",
   "execution_count": null,
   "metadata": {
    "collapsed": true
   },
   "outputs": [],
   "source": [
    "geo_aggregate_estimated_actual = pd.DataFrame([np.array(geo_agg_estimated), np.array(geo_agg_actual)], index=['estimated', 'actual']).T"
   ]
  },
  {
   "cell_type": "code",
   "execution_count": null,
   "metadata": {
    "collapsed": true
   },
   "outputs": [],
   "source": [
    "geo_aggregate_estimated_actual['estimated'] = geo_aggregate_estimated_actual['estimated'].apply(np.fabs)"
   ]
  },
  {
   "cell_type": "code",
   "execution_count": null,
   "metadata": {
    "collapsed": true
   },
   "outputs": [],
   "source": [
    "geo_aggregate_estimated_actual"
   ]
  },
  {
   "cell_type": "code",
   "execution_count": null,
   "metadata": {
    "collapsed": true
   },
   "outputs": [],
   "source": [
    "geo_corr = geo_aggregate_estimated_actual['estimated'].corr(geo_aggregate_estimated_actual['actual'])"
   ]
  },
  {
   "cell_type": "code",
   "execution_count": null,
   "metadata": {
    "collapsed": true
   },
   "outputs": [],
   "source": [
    "geo_agg_estimated"
   ]
  },
  {
   "cell_type": "code",
   "execution_count": null,
   "metadata": {
    "collapsed": true
   },
   "outputs": [],
   "source": []
  },
  {
   "cell_type": "code",
   "execution_count": null,
   "metadata": {
    "collapsed": true
   },
   "outputs": [],
   "source": [
    "aggregate_estimated_actual"
   ]
  },
  {
   "cell_type": "code",
   "execution_count": null,
   "metadata": {
    "collapsed": true
   },
   "outputs": [],
   "source": [
    "geo_corr"
   ]
  },
  {
   "cell_type": "code",
   "execution_count": null,
   "metadata": {
    "collapsed": true
   },
   "outputs": [],
   "source": [
    "pwd"
   ]
  },
  {
   "cell_type": "code",
   "execution_count": null,
   "metadata": {
    "collapsed": true
   },
   "outputs": [],
   "source": [
    "geo_aggregate_estimated_actual.to_csv('full_icecrown_geometric_estimated_vs_actual_allele_effects.txt', sep='\\t')"
   ]
  },
  {
   "cell_type": "code",
   "execution_count": null,
   "metadata": {
    "collapsed": true
   },
   "outputs": [],
   "source": []
  },
  {
   "cell_type": "code",
   "execution_count": null,
   "metadata": {
    "collapsed": true
   },
   "outputs": [],
   "source": [
    "agg_estimated = []\n",
    "agg_actual = []"
   ]
  },
  {
   "cell_type": "code",
   "execution_count": null,
   "metadata": {
    "collapsed": true
   },
   "outputs": [],
   "source": [
    "for rep in reps:\n",
    "    for size in sample_sizes:\n",
    "        sutable = sutable_collection[rep][size]\n",
    "        droppable = list(sutable.ix[sutable.ix[:, 'difference'] == 0.0].index)\n",
    "        qtloci = sutable.drop(droppable, axis=0)\n",
    "        agg_estimated.extend(list(qtloci['add_effect']))\n",
    "        agg_actual.extend(list(qtloci['difference']))"
   ]
  },
  {
   "cell_type": "code",
   "execution_count": null,
   "metadata": {
    "collapsed": true
   },
   "outputs": [],
   "source": [
    "aggregate_estimated_actual = pd.DataFrame([np.array(agg_estimated), np.array(agg_actual)], index=['estimated', 'actual']).T"
   ]
  },
  {
   "cell_type": "code",
   "execution_count": null,
   "metadata": {
    "collapsed": true
   },
   "outputs": [],
   "source": [
    "aggregate_estimated_actual['estimated'] = np.fabs(aggregate_estimated_actual['estimated'])"
   ]
  },
  {
   "cell_type": "code",
   "execution_count": null,
   "metadata": {
    "collapsed": true
   },
   "outputs": [],
   "source": [
    "aggregate_estimated_actual"
   ]
  },
  {
   "cell_type": "code",
   "execution_count": null,
   "metadata": {
    "collapsed": true
   },
   "outputs": [],
   "source": [
    "correlation_actual_vs_effects = aggregate_estimated_actual['estimated'].corr(aggregate_estimated_actual['actual'])"
   ]
  },
  {
   "cell_type": "code",
   "execution_count": null,
   "metadata": {
    "collapsed": true
   },
   "outputs": [],
   "source": [
    "aggregate_estimated_actual.to_csv('full_icecrown_exponential_estimated_vs_actual_allele_effects.txt', sep='\\t')"
   ]
  },
  {
   "cell_type": "code",
   "execution_count": null,
   "metadata": {
    "collapsed": true
   },
   "outputs": [],
   "source": [
    "aggregate_estimated_actual['estimated'] = np.fabs(aggregate_estimated_actual['estimated'])"
   ]
  },
  {
   "cell_type": "code",
   "execution_count": null,
   "metadata": {
    "collapsed": true
   },
   "outputs": [],
   "source": [
    "cd C:\\tassel\\output\\full_icecrown\\exponential"
   ]
  },
  {
   "cell_type": "code",
   "execution_count": null,
   "metadata": {
    "collapsed": true
   },
   "outputs": [],
   "source": [
    "expo_estimated_actual = pd.read_csv('full_icecrown_exponential_estimated_vs_actual_allele_effects.txt', sep='\\t', index_col=0)"
   ]
  },
  {
   "cell_type": "code",
   "execution_count": null,
   "metadata": {
    "collapsed": true
   },
   "outputs": [],
   "source": [
    "expo_estimated_actual"
   ]
  },
  {
   "cell_type": "code",
   "execution_count": null,
   "metadata": {
    "collapsed": true
   },
   "outputs": [],
   "source": [
    "aggregate_estimated_actual"
   ]
  },
  {
   "cell_type": "code",
   "execution_count": null,
   "metadata": {
    "collapsed": true
   },
   "outputs": [],
   "source": [
    ", from bokeh.plotting import figure, show, output_file\n",
    "from bokeh.io import output_notebook"
   ]
  },
  {
   "cell_type": "code",
   "execution_count": null,
   "metadata": {
    "collapsed": true
   },
   "outputs": [],
   "source": [
    "output_notebook()"
   ]
  },
  {
   "cell_type": "code",
   "execution_count": null,
   "metadata": {
    "collapsed": true
   },
   "outputs": [],
   "source": [
    "aggregate_estimated_actual"
   ]
  },
  {
   "cell_type": "code",
   "execution_count": null,
   "metadata": {
    "collapsed": true
   },
   "outputs": [],
   "source": [
    "geo_x = aggregate_estimated_actual['estimated']\n",
    "geo_y = aggregate_estimated_actual['actual']"
   ]
  },
  {
   "cell_type": "code",
   "execution_count": null,
   "metadata": {
    "collapsed": true
   },
   "outputs": [],
   "source": [
    "p = figure(title=\"Estimated vs Actual Allele Effects - Geometric Series\", \n",
    "           title_text_font_size=\"16\",\n",
    "          x_range=(-0.2, 4))"
   ]
  },
  {
   "cell_type": "code",
   "execution_count": null,
   "metadata": {
    "collapsed": true
   },
   "outputs": [],
   "source": [
    "p.scatter(geo_x, y, x=\"Estimated\", y=\"Actual\")\n",
    "\n",
    "p.xaxis.axis_label = \"Estimated\"\n",
    "p.yaxis.axis_label = \"Actual\""
   ]
  },
  {
   "cell_type": "code",
   "execution_count": null,
   "metadata": {
    "collapsed": true
   },
   "outputs": [],
   "source": [
    "show(p)"
   ]
  },
  {
   "cell_type": "code",
   "execution_count": null,
   "metadata": {
    "collapsed": true
   },
   "outputs": [],
   "source": [
    "expo"
   ]
  },
  {
   "cell_type": "code",
   "execution_count": null,
   "metadata": {
    "collapsed": true
   },
   "outputs": [],
   "source": [
    "p = figure(title=\"Estimated vs Actual Allele Effects - Geometric Series\", title_text_font_size=\"16\")"
   ]
  },
  {
   "cell_type": "code",
   "execution_count": null,
   "metadata": {
    "collapsed": true
   },
   "outputs": [],
   "source": [
    "expo_plot = figure(title=\"Estimated vs Actual Effects - Exponential(lambda=1)\", \n",
    "                   title_text_font_size=\"16\", \n",
    "                  x_range=(0, 4))\n",
    "\n",
    "x = np.array(expo_estimated_actual['estimated'])\n",
    "y = np.array(expo_estimated_actual['actual'])\n",
    "\n",
    "expo_plot.xaxis.axis_label = \"Estimated\"\n",
    "expo_plot.yaxis.axis_label = \"Actual\""
   ]
  },
  {
   "cell_type": "code",
   "execution_count": null,
   "metadata": {
    "collapsed": true
   },
   "outputs": [],
   "source": [
    "expo_plot.scatter(x, y)"
   ]
  },
  {
   "cell_type": "code",
   "execution_count": null,
   "metadata": {
    "collapsed": true
   },
   "outputs": [],
   "source": [
    "show(expo_plot)"
   ]
  },
  {
   "cell_type": "code",
   "execution_count": null,
   "metadata": {
    "collapsed": true
   },
   "outputs": [],
   "source": [
    "from bokeh.io import hplot"
   ]
  },
  {
   "cell_type": "code",
   "execution_count": null,
   "metadata": {
    "collapsed": true
   },
   "outputs": [],
   "source": [
    "geo_plot = figure(title=\"Estimated vs Actual Allele Effects - Geometric Series\", \n",
    "           title_text_font_size=\"16\",\n",
    "          x_range=(0, 4), y_range=(0, 4))"
   ]
  },
  {
   "cell_type": "code",
   "execution_count": null,
   "metadata": {
    "collapsed": true
   },
   "outputs": [],
   "source": [
    "geo_x = aggregate_estimated_actual['actual']\n",
    "geo_y = aggregate_estimated_actual['estimated']"
   ]
  },
  {
   "cell_type": "code",
   "execution_count": null,
   "metadata": {
    "collapsed": true
   },
   "outputs": [],
   "source": [
    "geo_plot.xaxis.axis_label = \"Actual\"\n",
    "geo_plot.yaxis.axis_label = \"Estimated\"\n",
    "geo_plot.scatter(geo_x, geo_y, x=\"Actual\", y=\"Estimated\")"
   ]
  },
  {
   "cell_type": "code",
   "execution_count": null,
   "metadata": {
    "collapsed": true
   },
   "outputs": [],
   "source": [
    "expo_plot = figure(title=\"Estimated vs Actual Effects - Exponential(lambda=1)\", \n",
    "                   title_text_font_size=\"16\", \n",
    "                  x_range=(0, 4), y_range=(0, 4))\n",
    "\n",
    "expo_x = np.array(expo_estimated_actual['actual'])\n",
    "expo_y = np.array(expo_estimated_actual['estimated'])\n",
    "\n",
    "expo_plot.xaxis.axis_label = \"Actual\"\n",
    "expo_plot.yaxis.axis_label = \"Estimated\"\n",
    "expo_plot.scatter(expo_x, expo_y)"
   ]
  },
  {
   "cell_type": "code",
   "execution_count": null,
   "metadata": {
    "collapsed": true
   },
   "outputs": [],
   "source": [
    "multi_plot = hplot(geo_plot, expo_plot)\n",
    "show(multi_plot)"
   ]
  },
  {
   "cell_type": "code",
   "execution_count": null,
   "metadata": {
    "collapsed": true
   },
   "outputs": [],
   "source": [
    "output_file(\"multi_plot.png\")"
   ]
  },
  {
   "cell_type": "code",
   "execution_count": null,
   "metadata": {
    "collapsed": true
   },
   "outputs": [],
   "source": [
    "ls"
   ]
  },
  {
   "cell_type": "code",
   "execution_count": null,
   "metadata": {
    "collapsed": true
   },
   "outputs": [],
   "source": []
  }
 ],
 "metadata": {
  "kernelspec": {
   "display_name": "Python 3",
   "language": "python",
   "name": "python3"
  },
  "language_info": {
   "codemirror_mode": {
    "name": "ipython",
    "version": 3
   },
   "file_extension": ".py",
   "mimetype": "text/x-python",
   "name": "python",
   "nbconvert_exporter": "python",
   "pygments_lexer": "ipython3",
   "version": "3.6.1"
  }
 },
 "nbformat": 4,
 "nbformat_minor": 1
}
