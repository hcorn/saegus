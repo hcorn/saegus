{
 "cells": [
  {
   "cell_type": "code",
   "execution_count": 1,
   "metadata": {
    "collapsed": false
   },
   "outputs": [
    {
     "name": "stderr",
     "output_type": "stream",
     "text": [
      "Warning message:\n",
      ": replacing previous import by 'grid::arrow' when loading 'qvalue'Warning message:\n",
      ": replacing previous import by 'grid::unit' when loading 'qvalue'Warning message:\n",
      ": package 'ggplot2' was built under R version 3.2.4Warning message:\n",
      ": package 'gap' was built under R version 3.2.3gap version 1.1-16\n"
     ]
    }
   ],
   "source": [
    "library(qvalue)\n",
    "library(ggplot2)\n",
    "library(gap)"
   ]
  },
  {
   "cell_type": "code",
   "execution_count": 2,
   "metadata": {
    "collapsed": true
   },
   "outputs": [],
   "source": [
    "setwd(\"C:/tassel/output\")"
   ]
  },
  {
   "cell_type": "code",
   "execution_count": 6,
   "metadata": {
    "collapsed": true
   },
   "outputs": [],
   "source": [
    "sample_sizes = seq(from = 250, to = 1000, by = 250)\n",
    "replicates = seq(from = 0, to = 4 , by = 1)\n",
    "base_file_prefix = \"bacchus_exponential_\"\n",
    "base_file_suffix = \"_out_2.txt\"\n",
    "base_qvalue_file_prefix = \"bacchus_exponential_\"\n",
    "base_qvalue_file_suffix = \"_qvalues.txt\""
   ]
  },
  {
   "cell_type": "code",
   "execution_count": 7,
   "metadata": {
    "collapsed": false
   },
   "outputs": [
    {
     "data": {
      "text/html": [
       "<ol class=list-inline>\n",
       "\t<li>250</li>\n",
       "\t<li>500</li>\n",
       "\t<li>750</li>\n",
       "\t<li>1000</li>\n",
       "</ol>\n"
      ],
      "text/latex": [
       "\\begin{enumerate*}\n",
       "\\item 250\n",
       "\\item 500\n",
       "\\item 750\n",
       "\\item 1000\n",
       "\\end{enumerate*}\n"
      ],
      "text/markdown": [
       "1. 250\n",
       "2. 500\n",
       "3. 750\n",
       "4. 1000\n",
       "\n",
       "\n"
      ],
      "text/plain": [
       "[1]  250  500  750 1000"
      ]
     },
     "metadata": {},
     "output_type": "display_data"
    }
   ],
   "source": [
    "sample_sizes"
   ]
  },
  {
   "cell_type": "code",
   "execution_count": 8,
   "metadata": {
    "collapsed": false
   },
   "outputs": [],
   "source": [
    "for(rep in replicates){\n",
    "    for(sample in sample_sizes){\n",
    "        \n",
    "        input_file_name = paste(base_file_prefix, rep, sep=\"\", '_', sample, base_file_suffix)\n",
    "        output_file_name = paste(base_qvalue_file_prefix, rep, sep=\"\", '_', sample, base_qvalue_file_suffix)\n",
    "    \n",
    "        results_header = scan(input_file_name, what=\"character\", nlines=1, sep=\"\\t\")\n",
    "        gwas_results = read.table(input_file_name, header=F, row.names=NULL, skip=2)\n",
    "        colnames(gwas_results) = results_header\n",
    "    \n",
    "        pvalues = gwas_results$p\n",
    "    \n",
    "        qobj = qvalue(p = pvalues)\n",
    "        qvalues = data.frame(qobj$qvalues)\n",
    "        #qqplot = qqunif(qvalues)  # how to save a qqplot in r?\n",
    "        write.table(qvalues, output_file_name, sep=\"\\t\")\n",
    "    }\n",
    "}"
   ]
  },
  {
   "cell_type": "code",
   "execution_count": null,
   "metadata": {
    "collapsed": true
   },
   "outputs": [],
   "source": []
  },
  {
   "cell_type": "code",
   "execution_count": 23,
   "metadata": {
    "collapsed": true
   },
   "outputs": [],
   "source": [
    "sample_sizes = seq(from = 250, to = 1000, by = 250)\n",
    "replicates = seq(from = 0, to = 50 , by = 1)\n",
    "run_id = \"icecrown_geometric_\"\n",
    "base_file_prefix = \"icecrown_geometric_\"\n",
    "base_file_suffix = \"_out_2.txt\"\n",
    "base_qvalue_file_prefix = \"icecrown_geometric_\"\n",
    "base_qvalue_file_suffix = \"_qvalues.txt\""
   ]
  },
  {
   "cell_type": "code",
   "execution_count": 24,
   "metadata": {
    "collapsed": false
   },
   "outputs": [
    {
     "name": "stderr",
     "output_type": "stream",
     "text": [
      "Warning message:\n",
      "In file(file, \"r\"): cannot open file 'icecrown_geometric_5_250_out_2.txt': No such file or directory"
     ]
    },
    {
     "ename": "ERROR",
     "evalue": "Error in file(file, \"r\"): cannot open the connection\n",
     "output_type": "error",
     "traceback": [
      "Error in file(file, \"r\"): cannot open the connection\nTraceback:\n",
      "1. scan(input_file_name, what = \"character\", nlines = 1, sep = \"\\t\")   # at line 7 of file <text>",
      "2. file(file, \"r\")"
     ]
    }
   ],
   "source": [
    "for(rep in replicates){\n",
    "    for(sample in sample_sizes){\n",
    "        \n",
    "        input_file_name = paste(base_file_prefix, rep, sep=\"\", '_', sample, base_file_suffix)\n",
    "        output_file_name = paste(base_qvalue_file_prefix, rep, sep=\"\", '_', sample, base_qvalue_file_suffix)\n",
    "    \n",
    "        results_header = scan(input_file_name, what=\"character\", nlines=1, sep=\"\\t\")\n",
    "        gwas_results = read.table(input_file_name, header=F, row.names=NULL, skip=2)\n",
    "        colnames(gwas_results) = results_header\n",
    "    \n",
    "        pvalues = gwas_results$p\n",
    "    \n",
    "        qobj = qvalue(p = pvalues)\n",
    "        qvalues = data.frame(qobj$qvalues)\n",
    "        #qqplot = qqunif(qvalues)  # how to save a qqplot in r?\n",
    "        write.table(qvalues, output_file_name, sep=\"\\t\")\n",
    "    }\n",
    "}"
   ]
  },
  {
   "cell_type": "code",
   "execution_count": 37,
   "metadata": {
    "collapsed": true
   },
   "outputs": [],
   "source": [
    "sample_sizes = seq(from = 250, to = 1000, by = 250)\n",
    "replicates = seq(from = 0, to = 50 , by = 1)\n",
    "run_id = \"full_icecrown_exponential_\"\n",
    "base_file_prefix = \"full_icecrown_exponential_\"\n",
    "base_file_suffix = \"_out_2.txt\"\n",
    "base_qvalue_file_prefix = \"full_icecrown_exponential_\"\n",
    "base_qvalue_file_suffix = \"_qvalues.txt\""
   ]
  },
  {
   "cell_type": "code",
   "execution_count": null,
   "metadata": {
    "collapsed": true
   },
   "outputs": [],
   "source": []
  },
  {
   "cell_type": "code",
   "execution_count": 38,
   "metadata": {
    "collapsed": false
   },
   "outputs": [
    {
     "name": "stderr",
     "output_type": "stream",
     "text": [
      "Warning message:\n",
      "In file(file, \"r\"): cannot open file 'full_icecrown_exponential_50_250_out_2.txt': No such file or directory"
     ]
    },
    {
     "ename": "ERROR",
     "evalue": "Error in file(file, \"r\"): cannot open the connection\n",
     "output_type": "error",
     "traceback": [
      "Error in file(file, \"r\"): cannot open the connection\nTraceback:\n",
      "1. scan(input_file_name, what = \"character\", nlines = 1, sep = \"\\t\")   # at line 7 of file <text>",
      "2. file(file, \"r\")"
     ]
    }
   ],
   "source": [
    "for(rep in replicates){\n",
    "    for(sample in sample_sizes){\n",
    "        \n",
    "        input_file_name = paste(base_file_prefix, rep, sep=\"\", '_', sample, base_file_suffix)\n",
    "        output_file_name = paste(base_qvalue_file_prefix, rep, sep=\"\", '_', sample, base_qvalue_file_suffix)\n",
    "    \n",
    "        results_header = scan(input_file_name, what=\"character\", nlines=1, sep=\"\\t\")\n",
    "        gwas_results = read.table(input_file_name, header=F, row.names=NULL, skip=2)\n",
    "        colnames(gwas_results) = results_header\n",
    "    \n",
    "        pvalues = gwas_results$p\n",
    "    \n",
    "        qobj = qvalue(p = pvalues)\n",
    "        qvalues = data.frame(qobj$qvalues)\n",
    "        #qqplot = qqunif(qvalues)  # how to save a qqplot in r?\n",
    "        write.table(qvalues, output_file_name, sep=\"\\t\")\n",
    "    }\n",
    "}"
   ]
  },
  {
   "cell_type": "code",
   "execution_count": 34,
   "metadata": {
    "collapsed": true
   },
   "outputs": [],
   "source": [
    "sample_sizes = seq(from = 250, to = 1000, by = 250)\n",
    "replicates = seq(from = 0, to = 50 , by = 1)\n",
    "run_id = \"icecrown_geometric_\"\n",
    "base_file_prefix = \"full_icecrown_geometric_\"\n",
    "base_file_suffix = \"_out_2.txt\"\n",
    "base_qvalue_file_prefix = \"full_icecrown_geometric_\"\n",
    "base_qvalue_file_suffix = \"_qvalues.txt\""
   ]
  },
  {
   "cell_type": "code",
   "execution_count": 35,
   "metadata": {
    "collapsed": true
   },
   "outputs": [],
   "source": [
    "calculate_q_values = function(run_id, replicates, sample_sizes){\n",
    "        for(rep in replicates){\n",
    "            for(sample in sample_sizes){\n",
    "\n",
    "            input_file_name = paste(base_file_prefix, rep, sep=\"\", '_', sample, base_file_suffix)\n",
    "            output_file_name = paste(base_qvalue_file_prefix, rep, sep=\"\", '_', sample, base_qvalue_file_suffix)\n",
    "\n",
    "            results_header = scan(input_file_name, what=\"character\", nlines=1, sep=\"\\t\")\n",
    "            gwas_results = read.table(input_file_name, header=F, row.names=NULL, skip=2)\n",
    "            colnames(gwas_results) = results_header\n",
    "\n",
    "            pvalues = gwas_results$p\n",
    "\n",
    "            qobj = qvalue(p = pvalues)\n",
    "            qvalues = data.frame(qobj$qvalues)\n",
    "            #qqplot = qqunif(qvalues)  # how to save a qqplot in r?\n",
    "            write.table(qvalues, output_file_name, sep=\"\\t\")\n",
    "        }\n",
    "    }\n",
    "}"
   ]
  },
  {
   "cell_type": "code",
   "execution_count": 26,
   "metadata": {
    "collapsed": false
   },
   "outputs": [
    {
     "name": "stderr",
     "output_type": "stream",
     "text": [
      "Warning message:\n",
      "In file(file, \"r\"): cannot open file 'icecrown_geometric_5_250_out_2.txt': No such file or directory"
     ]
    },
    {
     "ename": "ERROR",
     "evalue": "Error in file(file, \"r\"): cannot open the connection\n",
     "output_type": "error",
     "traceback": [
      "Error in file(file, \"r\"): cannot open the connection\nTraceback:\n",
      "1. calculate_q_values(run_id, replicates, sample_sizes)",
      "2. scan(input_file_name, what = \"character\", nlines = 1, sep = \"\\t\")   # at line 8 of file <text>",
      "3. file(file, \"r\")"
     ]
    }
   ],
   "source": [
    "calculate_q_values(run_id, replicates, sample_sizes)"
   ]
  },
  {
   "cell_type": "code",
   "execution_count": null,
   "metadata": {
    "collapsed": true
   },
   "outputs": [],
   "source": []
  }
 ],
 "metadata": {
  "kernelspec": {
   "display_name": "R",
   "language": "R",
   "name": "ir"
  },
  "language_info": {
   "codemirror_mode": "r",
   "file_extension": ".r",
   "mimetype": "text/x-r-source",
   "name": "R",
   "pygments_lexer": "r",
   "version": "3.2.0"
  }
 },
 "nbformat": 4,
 "nbformat_minor": 0
}
