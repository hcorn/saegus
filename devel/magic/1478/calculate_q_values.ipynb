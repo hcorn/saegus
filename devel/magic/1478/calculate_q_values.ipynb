{
 "cells": [
  {
   "cell_type": "code",
   "execution_count": 13,
   "metadata": {
    "collapsed": false
   },
   "outputs": [],
   "source": [
    "library(qvalue)\n",
    "library(ggplot2)\n",
    "library(gap)"
   ]
  },
  {
   "cell_type": "code",
   "execution_count": 14,
   "metadata": {
    "collapsed": true
   },
   "outputs": [],
   "source": [
    "setwd(\"/home/vakanas/tassel-5-standalone/output/\")"
   ]
  },
  {
   "cell_type": "code",
   "execution_count": 15,
   "metadata": {
    "collapsed": false
   },
   "outputs": [
    {
     "data": {
      "text/html": [
       "'/home/vakanas/tassel-5-standalone/output'"
      ],
      "text/latex": [
       "'/home/vakanas/tassel-5-standalone/output'"
      ],
      "text/markdown": [
       "'/home/vakanas/tassel-5-standalone/output'"
      ],
      "text/plain": [
       "[1] \"/home/vakanas/tassel-5-standalone/output\""
      ]
     },
     "execution_count": 15,
     "metadata": {},
     "output_type": "execute_result"
    }
   ],
   "source": [
    "getwd()"
   ]
  },
  {
   "cell_type": "code",
   "execution_count": 16,
   "metadata": {
    "collapsed": true
   },
   "outputs": [],
   "source": [
    "input_file_name = \"epsilon_0_out_2.txt\"\n",
    "output_file_name = \"epsilon_0_qvalues.txt\""
   ]
  },
  {
   "cell_type": "code",
   "execution_count": null,
   "metadata": {
    "collapsed": true
   },
   "outputs": [],
   "source": []
  },
  {
   "cell_type": "code",
   "execution_count": null,
   "metadata": {
    "collapsed": true
   },
   "outputs": [],
   "source": []
  },
  {
   "cell_type": "code",
   "execution_count": null,
   "metadata": {
    "collapsed": true
   },
   "outputs": [],
   "source": []
  },
  {
   "cell_type": "code",
   "execution_count": null,
   "metadata": {
    "collapsed": true
   },
   "outputs": [],
   "source": [
    "sample_sizes = seq(from = 250, to = 1000, by = 250)\n",
    "replicates = seq(from = 0, to = 4 , by = 1)\n",
    "base_file_prefix = \"bacchus_exponential_\"\n",
    "base_file_suffix = \"_out_2.txt\"\n",
    "base_qvalue_file_prefix = \"bacchus_exponential_\"\n",
    "base_qvalue_file_suffix = \"_qvalues.txt\""
   ]
  },
  {
   "cell_type": "code",
   "execution_count": null,
   "metadata": {
    "collapsed": false
   },
   "outputs": [],
   "source": [
    "sample_sizes"
   ]
  },
  {
   "cell_type": "code",
   "execution_count": null,
   "metadata": {
    "collapsed": false
   },
   "outputs": [],
   "source": [
    "for(rep in replicates){\n",
    "    for(sample in sample_sizes){\n",
    "        \n",
    "        input_file_name = paste(base_file_prefix, rep, sep=\"\", '_', sample, base_file_suffix)\n",
    "        output_file_name = paste(base_qvalue_file_prefix, rep, sep=\"\", '_', sample, base_qvalue_file_suffix)\n",
    "    \n",
    "        results_header = scan(input_file_name, what=\"character\", nlines=1, sep=\"\\t\")\n",
    "        gwas_results = read.table(input_file_name, header=F, row.names=NULL, skip=2)\n",
    "        colnames(gwas_results) = results_header\n",
    "    \n",
    "        pvalues = gwas_results$p\n",
    "    \n",
    "        qobj = qvalue(p = pvalues)\n",
    "        qvalues = data.frame(qobj$qvalues)\n",
    "        #qqplot = qqunif(qvalues)  # how to save a qqplot in r?\n",
    "        write.table(qvalues, output_file_name, sep=\"\\t\")\n",
    "    }\n",
    "}"
   ]
  },
  {
   "cell_type": "code",
   "execution_count": 17,
   "metadata": {
    "collapsed": true
   },
   "outputs": [],
   "source": [
    "results_header = scan(input_file_name, what=\"character\", nlines=1, sep=\"\\t\")"
   ]
  },
  {
   "cell_type": "code",
   "execution_count": 6,
   "metadata": {
    "collapsed": true
   },
   "outputs": [
    {
     "data": {
      "text/html": [
       "<ol class=list-inline>\n",
       "\t<li>'Trait'</li>\n",
       "\t<li>'Marker'</li>\n",
       "\t<li>'Chr'</li>\n",
       "\t<li>'Pos'</li>\n",
       "\t<li>'df'</li>\n",
       "\t<li>'F'</li>\n",
       "\t<li>'p'</li>\n",
       "\t<li>'add_effect'</li>\n",
       "\t<li>'add_F'</li>\n",
       "\t<li>'add_p'</li>\n",
       "\t<li>'dom_effect'</li>\n",
       "\t<li>'dom_F'</li>\n",
       "\t<li>'dom_p'</li>\n",
       "\t<li>'errordf'</li>\n",
       "\t<li>'MarkerR2'</li>\n",
       "\t<li>'Genetic Var'</li>\n",
       "\t<li>'Residual Var'</li>\n",
       "\t<li>'-2LnLikelihood'</li>\n",
       "</ol>\n"
      ],
      "text/latex": [
       "\\begin{enumerate*}\n",
       "\\item 'Trait'\n",
       "\\item 'Marker'\n",
       "\\item 'Chr'\n",
       "\\item 'Pos'\n",
       "\\item 'df'\n",
       "\\item 'F'\n",
       "\\item 'p'\n",
       "\\item 'add\\_effect'\n",
       "\\item 'add\\_F'\n",
       "\\item 'add\\_p'\n",
       "\\item 'dom\\_effect'\n",
       "\\item 'dom\\_F'\n",
       "\\item 'dom\\_p'\n",
       "\\item 'errordf'\n",
       "\\item 'MarkerR2'\n",
       "\\item 'Genetic Var'\n",
       "\\item 'Residual Var'\n",
       "\\item '-2LnLikelihood'\n",
       "\\end{enumerate*}\n"
      ],
      "text/markdown": [
       "1. 'Trait'\n",
       "2. 'Marker'\n",
       "3. 'Chr'\n",
       "4. 'Pos'\n",
       "5. 'df'\n",
       "6. 'F'\n",
       "7. 'p'\n",
       "8. 'add_effect'\n",
       "9. 'add_F'\n",
       "10. 'add_p'\n",
       "11. 'dom_effect'\n",
       "12. 'dom_F'\n",
       "13. 'dom_p'\n",
       "14. 'errordf'\n",
       "15. 'MarkerR2'\n",
       "16. 'Genetic Var'\n",
       "17. 'Residual Var'\n",
       "18. '-2LnLikelihood'\n",
       "\n",
       "\n"
      ],
      "text/plain": [
       " [1] \"Trait\"          \"Marker\"         \"Chr\"            \"Pos\"           \n",
       " [5] \"df\"             \"F\"              \"p\"              \"add_effect\"    \n",
       " [9] \"add_F\"          \"add_p\"          \"dom_effect\"     \"dom_F\"         \n",
       "[13] \"dom_p\"          \"errordf\"        \"MarkerR2\"       \"Genetic Var\"   \n",
       "[17] \"Residual Var\"   \"-2LnLikelihood\""
      ]
     },
     "execution_count": 6,
     "metadata": {},
     "output_type": "execute_result"
    }
   ],
   "source": [
    "results_header"
   ]
  },
  {
   "cell_type": "code",
   "execution_count": 18,
   "metadata": {
    "collapsed": true
   },
   "outputs": [],
   "source": [
    "gwas_results = read.table(input_file_name, header=F, row.names = NULL, skip=2)"
   ]
  },
  {
   "cell_type": "code",
   "execution_count": 19,
   "metadata": {
    "collapsed": true
   },
   "outputs": [],
   "source": [
    "colnames(gwas_results) = results_header"
   ]
  },
  {
   "cell_type": "code",
   "execution_count": 20,
   "metadata": {
    "collapsed": false
   },
   "outputs": [],
   "source": [
    "pvalues = gwas_results$p"
   ]
  },
  {
   "cell_type": "code",
   "execution_count": null,
   "metadata": {
    "collapsed": true
   },
   "outputs": [],
   "source": []
  },
  {
   "cell_type": "code",
   "execution_count": 21,
   "metadata": {
    "collapsed": true
   },
   "outputs": [],
   "source": [
    "qobj = qvalue(p = pvalues)"
   ]
  },
  {
   "cell_type": "code",
   "execution_count": 22,
   "metadata": {
    "collapsed": true
   },
   "outputs": [],
   "source": [
    "qvalues = data.frame(qobj$qvalues)"
   ]
  },
  {
   "cell_type": "code",
   "execution_count": 23,
   "metadata": {
    "collapsed": false
   },
   "outputs": [],
   "source": [
    "colnames(qvalues) = \"q\""
   ]
  },
  {
   "cell_type": "code",
   "execution_count": 24,
   "metadata": {
    "collapsed": false
   },
   "outputs": [],
   "source": [
    "write.table(qvalues, output_file_name, sep=\"\\t\")"
   ]
  },
  {
   "cell_type": "code",
   "execution_count": null,
   "metadata": {
    "collapsed": true
   },
   "outputs": [],
   "source": []
  },
  {
   "cell_type": "code",
   "execution_count": null,
   "metadata": {
    "collapsed": true
   },
   "outputs": [],
   "source": [
    "sample_sizes = seq(from = 250, to = 1000, by = 250)\n",
    "replicates = seq(from = 0, to = 50 , by = 1)\n",
    "run_id = \"icecrown_geometric_\"\n",
    "base_file_prefix = \"icecrown_geometric_\"\n",
    "base_file_suffix = \"_out_2.txt\"\n",
    "base_qvalue_file_prefix = \"icecrown_geometric_\"\n",
    "base_qvalue_file_suffix = \"_qvalues.txt\""
   ]
  },
  {
   "cell_type": "code",
   "execution_count": null,
   "metadata": {
    "collapsed": false
   },
   "outputs": [],
   "source": [
    "for(rep in replicates){\n",
    "    for(sample in sample_sizes){\n",
    "        \n",
    "        input_file_name = paste(base_file_prefix, rep, sep=\"\", '_', sample, base_file_suffix)\n",
    "        output_file_name = paste(base_qvalue_file_prefix, rep, sep=\"\", '_', sample, base_qvalue_file_suffix)\n",
    "    \n",
    "        results_header = scan(input_file_name, what=\"character\", nlines=1, sep=\"\\t\")\n",
    "        gwas_results = read.table(input_file_name, header=F, row.names=NULL, skip=2)\n",
    "        colnames(gwas_results) = results_header\n",
    "    \n",
    "        pvalues = gwas_results$p\n",
    "    \n",
    "        qobj = qvalue(p = pvalues)\n",
    "        qvalues = data.frame(qobj$qvalues)\n",
    "        #qqplot = qqunif(qvalues)  # how to save a qqplot in r?\n",
    "        write.table(qvalues, output_file_name, sep=\"\\t\")\n",
    "    }\n",
    "}"
   ]
  },
  {
   "cell_type": "code",
   "execution_count": null,
   "metadata": {
    "collapsed": true
   },
   "outputs": [],
   "source": [
    "sample_sizes = seq(from = 250, to = 1000, by = 250)\n",
    "replicates = seq(from = 0, to = 50 , by = 1)\n",
    "run_id = \"full_icecrown_exponential_\"\n",
    "base_file_prefix = \"full_icecrown_exponential_\"\n",
    "base_file_suffix = \"_out_2.txt\"\n",
    "base_qvalue_file_prefix = \"full_icecrown_exponential_\"\n",
    "base_qvalue_file_suffix = \"_qvalues.txt\""
   ]
  },
  {
   "cell_type": "code",
   "execution_count": null,
   "metadata": {
    "collapsed": true
   },
   "outputs": [],
   "source": []
  },
  {
   "cell_type": "code",
   "execution_count": null,
   "metadata": {
    "collapsed": false
   },
   "outputs": [],
   "source": [
    "for(rep in replicates){\n",
    "    for(sample in sample_sizes){\n",
    "        \n",
    "        input_file_name = paste(base_file_prefix, rep, sep=\"\", '_', sample, base_file_suffix)\n",
    "        output_file_name = paste(base_qvalue_file_prefix, rep, sep=\"\", '_', sample, base_qvalue_file_suffix)\n",
    "    \n",
    "        results_header = scan(input_file_name, what=\"character\", nlines=1, sep=\"\\t\")\n",
    "        gwas_results = read.table(input_file_name, header=F, row.names=NULL, skip=2)\n",
    "        colnames(gwas_results) = results_header\n",
    "    \n",
    "        pvalues = gwas_results$p\n",
    "    \n",
    "        qobj = qvalue(p = pvalues)\n",
    "        qvalues = data.frame(qobj$qvalues)\n",
    "        #qqplot = qqunif(qvalues)  # how to save a qqplot in r?\n",
    "        write.table(qvalues, output_file_name, sep=\"\\t\")\n",
    "    }\n",
    "}"
   ]
  },
  {
   "cell_type": "code",
   "execution_count": null,
   "metadata": {
    "collapsed": true
   },
   "outputs": [],
   "source": [
    "sample_sizes = seq(from = 250, to = 1000, by = 250)\n",
    "replicates = seq(from = 0, to = 50 , by = 1)\n",
    "run_id = \"icecrown_geometric_\"\n",
    "base_file_prefix = \"full_icecrown_geometric_\"\n",
    "base_file_suffix = \"_out_2.txt\"\n",
    "base_qvalue_file_prefix = \"full_icecrown_geometric_\"\n",
    "base_qvalue_file_suffix = \"_qvalues.txt\""
   ]
  },
  {
   "cell_type": "code",
   "execution_count": null,
   "metadata": {
    "collapsed": true
   },
   "outputs": [],
   "source": [
    "calculate_q_values = function(run_id, replicates, sample_sizes){\n",
    "        for(rep in replicates){\n",
    "            for(sample in sample_sizes){\n",
    "\n",
    "            input_file_name = paste(base_file_prefix, rep, sep=\"\", '_', sample, base_file_suffix)\n",
    "            output_file_name = paste(base_qvalue_file_prefix, rep, sep=\"\", '_', sample, base_qvalue_file_suffix)\n",
    "\n",
    "            results_header = scan(input_file_name, what=\"character\", nlines=1, sep=\"\\t\")\n",
    "            gwas_results = read.table(input_file_name, header=F, row.names=NULL, skip=2)\n",
    "            colnames(gwas_results) = results_header\n",
    "\n",
    "            pvalues = gwas_results$p\n",
    "\n",
    "            qobj = qvalue(p = pvalues)\n",
    "            qvalues = data.frame(qobj$qvalues)\n",
    "            #qqplot = qqunif(qvalues)  # how to save a qqplot in r?\n",
    "            write.table(qvalues, output_file_name, sep=\"\\t\")\n",
    "        }\n",
    "    }\n",
    "}"
   ]
  },
  {
   "cell_type": "code",
   "execution_count": null,
   "metadata": {
    "collapsed": false
   },
   "outputs": [],
   "source": [
    "calculate_q_values(run_id, replicates, sample_sizes)"
   ]
  },
  {
   "cell_type": "code",
   "execution_count": null,
   "metadata": {
    "collapsed": true
   },
   "outputs": [],
   "source": []
  }
 ],
 "metadata": {
  "kernelspec": {
   "display_name": "R",
   "language": "R",
   "name": "ir"
  },
  "language_info": {
   "codemirror_mode": "r",
   "file_extension": ".r",
   "mimetype": "text/x-r-source",
   "name": "R",
   "pygments_lexer": "r",
   "version": "3.3.1"
  }
 },
 "nbformat": 4,
 "nbformat_minor": 0
}
